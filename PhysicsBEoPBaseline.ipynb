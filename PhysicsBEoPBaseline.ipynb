{
  "cells": [
    {
      "cell_type": "code",
      "execution_count": 23,
      "metadata": {
        "id": "f18J8QM17E0a"
      },
      "outputs": [],
      "source": [
        "import os\n",
        "\n",
        "import IPython\n",
        "import IPython.display\n",
        "import matplotlib as mpl\n",
        "import matplotlib.pyplot as plt\n",
        "import numpy as np\n",
        "import pandas as pd\n",
        "from pandas.io.json import json_normalize\n",
        "import seaborn as sns\n",
        "import json\n",
        "import zipfile\n",
        "from io import BytesIO\n",
        "import torch\n",
        "import math\n",
        "from google.colab import files\n",
        "from google.colab import auth\n",
        "from datetime import datetime, timedelta\n"
      ]
    },
    {
      "cell_type": "code",
      "source": [
        "auth.authenticate_user()"
      ],
      "metadata": {
        "id": "_wNuGIFQT0nZ"
      },
      "execution_count": 24,
      "outputs": []
    },
    {
      "cell_type": "code",
      "execution_count": 25,
      "metadata": {
        "colab": {
          "base_uri": "https://localhost:8080/"
        },
        "id": "TpnuFITI6Tzu",
        "outputId": "03add313-4406-45fc-feff-87ce0295c695"
      },
      "outputs": [
        {
          "output_type": "stream",
          "name": "stdout",
          "text": [
            "Updated property [core/project].\n"
          ]
        }
      ],
      "source": [
        "!gcloud config set project {'hackathon-352519'}"
      ]
    },
    {
      "cell_type": "code",
      "source": [
        "!gsutil cp gs://trains_data/train-data_all-train-events.zip /tmp/."
      ],
      "metadata": {
        "colab": {
          "base_uri": "https://localhost:8080/"
        },
        "id": "srQJL7OKVRww",
        "outputId": "983c03cd-225b-465d-c130-11055f88fdf6"
      },
      "execution_count": 26,
      "outputs": [
        {
          "output_type": "stream",
          "name": "stdout",
          "text": [
            "Copying gs://trains_data/train-data-2022062020220626.zip...\n",
            "Copying gs://trains_data/train-data-master-2.zip...\n",
            "Copying gs://trains_data/train-data-master.zip...\n",
            "Copying gs://trains_data/train-data_all-train-events.zip...\n",
            "| [4 files][828.4 MiB/828.4 MiB]   72.4 MiB/s                                   \n",
            "==> NOTE: You are performing a sequence of gsutil operations that may\n",
            "run significantly faster if you instead use gsutil -m cp ... Please\n",
            "see the -m section under \"gsutil help options\" for further information\n",
            "about when gsutil -m can be advantageous.\n",
            "\n",
            "Copying gs://trains_data/train-events-20-min.zip...\n",
            "/ [5 files][869.0 MiB/869.0 MiB]   72.2 MiB/s                                   \n",
            "Operation completed over 5 objects/869.0 MiB.                                    \n"
          ]
        }
      ]
    },
    {
      "cell_type": "code",
      "source": [
        ""
      ],
      "metadata": {
        "id": "eKb8izmgTzmA"
      },
      "execution_count": 26,
      "outputs": []
    },
    {
      "cell_type": "code",
      "execution_count": 27,
      "metadata": {
        "id": "ckXLQ7eQ7E0c"
      },
      "outputs": [],
      "source": [
        "# z = zipfile.ZipFile('train-data_all-train-events.zip', 'r')\n",
        "\n",
        "x = {}\n",
        "trains = {}\n",
        "i = 1\n",
        "prevLoco = ''\n",
        "with zipfile.ZipFile(\"/tmp/train-data_all-train-events.zip\", \"r\") as f:\n",
        "    for name in f.namelist():\n",
        "        if name.endswith('.json'):\n",
        "            with f.open(name) as zd:\n",
        "                data = json.load(zd)\n",
        "                lastTrainReporting = data['lastTrainReporting']\n",
        "                currentLoco = lastTrainReporting['ptcLeadLocomotiveId']\n",
        "                if (prevLoco != currentLoco and \"trainActualPositionList\" in lastTrainReporting and \"trainEstimatedPositionList\" in lastTrainReporting and len(lastTrainReporting['trainEstimatedPositionList']) > 0):\n",
        "                    trainActualPositionList = lastTrainReporting['trainActualPositionList']\n",
        "                    for position in trainActualPositionList:\n",
        "                        positions = pd.json_normalize(position)\n",
        "                        trains[i] = pd.json_normalize(lastTrainReporting)\n",
        "                        x[i] = positions\n",
        "                        i = i + 1\n",
        "                        prevLoco = currentLoco\n",
        "                            "
      ]
    },
    {
      "cell_type": "code",
      "execution_count": 28,
      "metadata": {
        "id": "lgWV768N7E0d"
      },
      "outputs": [],
      "source": [
        "df = pd.concat(x.values())\n",
        "dfTrains = pd.concat(trains.values())"
      ]
    },
    {
      "cell_type": "code",
      "source": [
        "df.info()"
      ],
      "metadata": {
        "id": "U7eMpqp_RehS",
        "outputId": "4c24da67-4599-4e17-c529-527375a71ec0",
        "colab": {
          "base_uri": "https://localhost:8080/"
        }
      },
      "execution_count": 29,
      "outputs": [
        {
          "output_type": "stream",
          "name": "stdout",
          "text": [
            "<class 'pandas.core.frame.DataFrame'>\n",
            "Int64Index: 1696 entries, 0 to 0\n",
            "Data columns (total 13 columns):\n",
            " #   Column                                                Non-Null Count  Dtype  \n",
            "---  ------                                                --------------  -----  \n",
            " 0   positionTime                                          1696 non-null   object \n",
            " 1   speedMPH                                              1696 non-null   int64  \n",
            " 2   milepostLocation.subdivisionId                        1696 non-null   int64  \n",
            " 3   milepostLocation.trackName                            1696 non-null   object \n",
            " 4   milepostLocation.milepost.milepostNumber              1696 non-null   float64\n",
            " 5   nextSignalState.milepostLocation.milepostNumber       1106 non-null   float64\n",
            " 6   nextSignalState.signalState                           1106 non-null   float64\n",
            " 7   precedingSignalState.milepostLocation.milepostNumber  1166 non-null   float64\n",
            " 8   precedingSignalState.previousSignalState              996 non-null    float64\n",
            " 9   precedingSignalState.currentStateTime                 996 non-null    object \n",
            " 10  precedingSignalState.signalState                      1166 non-null   float64\n",
            " 11  nextSignalState.previousSignalState                   419 non-null    float64\n",
            " 12  nextSignalState.currentStateTime                      419 non-null    object \n",
            "dtypes: float64(7), int64(2), object(4)\n",
            "memory usage: 185.5+ KB\n"
          ]
        }
      ]
    },
    {
      "cell_type": "code",
      "execution_count": 30,
      "metadata": {
        "colab": {
          "base_uri": "https://localhost:8080/"
        },
        "id": "Idznxze77E0e",
        "outputId": "fa7c9c7e-b539-4de5-c96c-008960860fab"
      },
      "outputs": [
        {
          "output_type": "stream",
          "name": "stdout",
          "text": [
            "<class 'pandas.core.frame.DataFrame'>\n",
            "Int64Index: 1696 entries, 0 to 0\n",
            "Data columns (total 44 columns):\n",
            " #   Column                                                                     Non-Null Count  Dtype  \n",
            "---  ------                                                                     --------------  -----  \n",
            " 0   ptcLeadLocomotiveId                                                        1696 non-null   object \n",
            " 1   maximumTrainSpeed                                                          1696 non-null   int64  \n",
            " 2   loadedCarCount                                                             1696 non-null   int64  \n",
            " 3   emptyCarCount                                                              1696 non-null   int64  \n",
            " 4   trainLength                                                                1696 non-null   int64  \n",
            " 5   trailingTonnage                                                            1696 non-null   int64  \n",
            " 6   positionHistoryList                                                        1696 non-null   object \n",
            " 7   locomotiveList                                                             1696 non-null   object \n",
            " 8   subdivisionList                                                            1696 non-null   object \n",
            " 9   trainEstimatedPositionList                                                 1696 non-null   object \n",
            " 10  trainActualPositionList                                                    1696 non-null   object \n",
            " 11  trainId.trainSCAC                                                          1696 non-null   object \n",
            " 12  trainId.trainSection                                                       1696 non-null   object \n",
            " 13  trainId.trainSymbol                                                        1696 non-null   object \n",
            " 14  trainId.trainDate                                                          1696 non-null   object \n",
            " 15  lastReportedPosition.positionTime                                          1696 non-null   object \n",
            " 16  lastReportedPosition.speedMPH                                              1696 non-null   int64  \n",
            " 17  lastReportedPosition.milepostLocation.subdivisionId                        1696 non-null   int64  \n",
            " 18  lastReportedPosition.milepostLocation.trackName                            1696 non-null   object \n",
            " 19  lastReportedPosition.milepostLocation.milepost.milepostNumber              1696 non-null   float64\n",
            " 20  aotuTrainData.priorityCode                                                 1696 non-null   int64  \n",
            " 21  aotuTrainData.categoryCode                                                 1696 non-null   int64  \n",
            " 22  aotuTrainData.authorityRangeCode                                           1696 non-null   int64  \n",
            " 23  aotuTrainData.ownershipCode                                                1696 non-null   int64  \n",
            " 24  aotuTrainData.tenantCarrier                                                1696 non-null   object \n",
            " 25  aotuTrainData.totalCarWeight                                               1696 non-null   float64\n",
            " 26  aotuTrainData.totalCarLength                                               1696 non-null   float64\n",
            " 27  aotuTrainData.totalLocomotiveWeight                                        1696 non-null   float64\n",
            " 28  aotuTrainData.totalLocomotiveLength                                        1696 non-null   float64\n",
            " 29  aotuTrainData.actualTonsPerAxle                                            1696 non-null   float64\n",
            " 30  aotuTrainData.heavy143TonCarCount                                          1696 non-null   int64  \n",
            " 31  aotuTrainData.heavy158TonCarCount                                          1696 non-null   int64  \n",
            " 32  aotuTrainData.over158TonCarCount                                           1696 non-null   int64  \n",
            " 33  aotuTrainData.highWideCarCount                                             1696 non-null   int64  \n",
            " 34  aotuTrainData.eventCode                                                    1696 non-null   int64  \n",
            " 35  aotuTrainData.routeLocationList                                            1696 non-null   object \n",
            " 36  lastReportedPosition.nextSignalState.milepostLocation.milepostNumber       525 non-null    float64\n",
            " 37  lastReportedPosition.nextSignalState.signalState                           525 non-null    float64\n",
            " 38  lastReportedPosition.nextSignalState.previousSignalState                   291 non-null    float64\n",
            " 39  lastReportedPosition.nextSignalState.currentStateTime                      291 non-null    object \n",
            " 40  lastReportedPosition.precedingSignalState.milepostLocation.milepostNumber  117 non-null    float64\n",
            " 41  lastReportedPosition.precedingSignalState.previousSignalState              117 non-null    float64\n",
            " 42  lastReportedPosition.precedingSignalState.currentStateTime                 117 non-null    object \n",
            " 43  lastReportedPosition.precedingSignalState.signalState                      117 non-null    float64\n",
            "dtypes: float64(12), int64(16), object(16)\n",
            "memory usage: 596.2+ KB\n"
          ]
        }
      ],
      "source": [
        "dfTrains.info()"
      ]
    },
    {
      "cell_type": "markdown",
      "source": [
        "# Step 1: Compute the accuracy of the Existing Physics BEoP model"
      ],
      "metadata": {
        "id": "mg1p1vouBeIB"
      }
    },
    {
      "cell_type": "code",
      "source": [
        "dfTrains = dfTrains.drop_duplicates(subset=['ptcLeadLocomotiveId', 'trainId.trainSymbol', 'trainId.trainDate'], keep='first')\n",
        "print(dfTrains.shape)\n"
      ],
      "metadata": {
        "colab": {
          "base_uri": "https://localhost:8080/"
        },
        "id": "EtDaoWZLPxIE",
        "outputId": "f263c307-9837-4e96-9fa0-2eb3fbad24dc"
      },
      "execution_count": 31,
      "outputs": [
        {
          "output_type": "stream",
          "name": "stdout",
          "text": [
            "(38, 44)\n"
          ]
        }
      ]
    },
    {
      "cell_type": "code",
      "source": [
        "def formatTrain(dfTrain):\n",
        "  actuals = pd.json_normalize(dfTrain['trainActualPositionList'])\n",
        "  cols = list(actuals.columns)\n",
        "  dfx = (actuals[cols[0:2] + cols[3:5]])\n",
        "  dfx = dfx.rename(columns={\"speedMPH\" : \"speedMPH\", \"milepostLocation.trackName\":\"trackName\", \"milepostLocation.milepost.milepostNumber\": \"milepostNumber\" })\n",
        "  est = pd.json_normalize(dfTrain['trainEstimatedPositionList'])  \n",
        "  beop = est.rename(columns={\"speedMPH\" : \"forecastSpeedMPH\", \"milepostLocation.trackName\":\"forecastTrackName\", \"milepostLocation.milepost.milepostNumber\": \"forecastMilepostNumber\" })\n",
        "  joined = beop.join(dfx, lsuffix='_beop', rsuffix='_actual')\n",
        "  dn = joined.dropna()\n",
        "  dn = dn.loc[(dn['speedMPH'] != 0)]\n",
        "  delta = abs(dn[\"speedMPH\"] - dn[\"forecastSpeedMPH\"]);\n",
        "  dn = dn.apply(lambda x: abs(x) if x.name=='speedMPH' or  x.name=='forecastSpeedMPH' else x)\n",
        "  dn[\"delta\"] = delta\n",
        "  dn['milepost'] = dn.apply(lambda row: math.trunc(row['milepostNumber']), axis=1)\n",
        "  dn['millis'] = dn.apply(lambda row: ((datetime.strptime(row['positionTime_actual'], \"%Y-%m-%dT%H:%M:%SZ\"))  - datetime(1970, 1, 1)) // timedelta(milliseconds=1), axis=1)\n",
        "  # dn = dn.reset_index()\n",
        "  dn = dn.drop(columns=['milepostLocation.subdivisionId'])\n",
        "  return dn"
      ],
      "metadata": {
        "id": "pqfGofcd7BCn"
      },
      "execution_count": 32,
      "outputs": []
    },
    {
      "cell_type": "code",
      "source": [
        "trains = []\n",
        "for index, train in dfTrains.iterrows():\n",
        "  trainId = train['trainId.trainSymbol']+\" of \"+train['trainId.trainDate']\n",
        "  trains.append([trainId, formatTrain(train)])\n",
        "trains[11]"
      ],
      "metadata": {
        "colab": {
          "base_uri": "https://localhost:8080/"
        },
        "id": "JOkpJ6qJbG8Y",
        "outputId": "05053072-49ee-472a-ec88-28b4f226525f"
      },
      "execution_count": 33,
      "outputs": [
        {
          "output_type": "execute_result",
          "data": {
            "text/plain": [
              "['MCHCB of 2022-04-22',\n",
              "        positionTime_beop  forecastSpeedMPH forecastTrackName  \\\n",
              " 0   2022-04-23T11:21:01Z                 8              MT 2   \n",
              " 11  2022-04-23T11:43:01Z                49              MT 2   \n",
              " 12  2022-04-23T11:45:01Z                50              MT 2   \n",
              " 13  2022-04-23T11:47:01Z                50              MT 2   \n",
              " 14  2022-04-23T11:49:01Z                50              MT 2   \n",
              " 15  2022-04-23T11:51:01Z                50              MT 2   \n",
              " 23  2022-04-23T12:07:01Z                40              MT 2   \n",
              " 24  2022-04-23T12:09:01Z                40              MT 2   \n",
              " 25  2022-04-23T12:11:01Z                42              MT 2   \n",
              " 26  2022-04-23T12:13:01Z                44              MT 2   \n",
              " 27  2022-04-23T12:15:01Z                46              MT 2   \n",
              " \n",
              "     forecastMilepostNumber   positionTime_actual  speedMPH trackName  \\\n",
              " 0                202.20140  2022-04-23T11:23:01Z       2.0      MT 2   \n",
              " 11               218.12735  2022-04-23T11:45:01Z       2.0      MT 2   \n",
              " 12               219.79585  2022-04-23T11:47:01Z      10.0      MT 2   \n",
              " 13               221.46455  2022-04-23T11:49:01Z      12.0      MT 2   \n",
              " 14               223.13326  2022-04-23T11:51:01Z      12.0      MT 2   \n",
              " 15               224.80196  2022-04-23T11:53:01Z      12.0      MT 2   \n",
              " 23               237.50490  2022-04-23T12:09:01Z       2.0      MT 2   \n",
              " 24               238.92548  2022-04-23T12:11:01Z       7.0      MT 2   \n",
              " 25               240.39111  2022-04-23T12:13:01Z       9.0      MT 2   \n",
              " 26               241.94040  2022-04-23T12:15:01Z       9.0      MT 2   \n",
              " 27               243.46751  2022-04-23T12:17:01Z       9.0      MT 2   \n",
              " \n",
              "     milepostNumber  delta  milepost         millis  \n",
              " 0        202.43042    6.0       202  1650712981000  \n",
              " 11       202.51793   47.0       202  1650714301000  \n",
              " 12       202.77136   40.0       202  1650714421000  \n",
              " 13       203.18776   38.0       203  1650714541000  \n",
              " 14       203.63321   38.0       203  1650714661000  \n",
              " 15       204.07135   38.0       204  1650714781000  \n",
              " 23       204.63676   42.0       204  1650715741000  \n",
              " 24       204.39476   47.0       204  1650715861000  \n",
              " 25       204.12085   51.0       204  1650715981000  \n",
              " 26       203.86678   53.0       203  1650716101000  \n",
              " 27       203.61270   55.0       203  1650716221000  ]"
            ]
          },
          "metadata": {},
          "execution_count": 33
        }
      ]
    },
    {
      "cell_type": "markdown",
      "source": [
        "convert all data to positive values"
      ],
      "metadata": {
        "id": "EbpyTFbhBtm-"
      }
    },
    {
      "cell_type": "code",
      "source": [
        "def plotTrain(trainData):\n",
        "  ax = plt.gca()\n",
        "  trainDF = trainData[1]\n",
        "  trainDF = trainDF.reset_index();\n",
        "  trainDF.plot(x = 'milepostNumber', y=\"speedMPH\", use_index=True, kind=\"scatter\", ax=ax, figsize=[24,10])\n",
        "  trainDF.plot(x = 'milepostNumber', y=\"forecastSpeedMPH\", use_index=True, kind=\"scatter\", color=\"red\", ax=ax, figsize=[24,10])\n",
        "  trainDF.plot(x = 'milepostNumber', y=\"delta\", use_index=True, kind=\"line\", color=\"green\", ax=ax, figsize=[24,10])\n",
        "  # plt.gcf().autofmt_xdate()\n",
        "  (t,b)= ax.get_xlim()  ## Added for clarity\n",
        "  if t < b:\n",
        "    ax.set_xlim((b,t))\n",
        "  plt.title(trainData[0])\n",
        "  plt.show()"
      ],
      "metadata": {
        "id": "_xIRdGqGwTXZ"
      },
      "execution_count": 34,
      "outputs": []
    },
    {
      "cell_type": "markdown",
      "source": [
        "# Physics BEoP versus Actuals\n",
        "red = physics model speed\n",
        "\n",
        "blue = actual reported location speed"
      ],
      "metadata": {
        "id": "WWXwINx6VGeZ"
      }
    },
    {
      "cell_type": "code",
      "source": [
        "plotTrain(trains[1])"
      ],
      "metadata": {
        "colab": {
          "base_uri": "https://localhost:8080/",
          "height": 621
        },
        "id": "qKdCmnM5B5s8",
        "outputId": "370276c7-8438-415a-8133-0a64924e3716"
      },
      "execution_count": 35,
      "outputs": [
        {
          "output_type": "display_data",
          "data": {
            "text/plain": [
              "<Figure size 1728x720 with 1 Axes>"
            ],
            "image/png": "[encoded data removed]"
          },
          "metadata": {
            "needs_background": "light"
          }
        }
      ]
    },
    {
      "cell_type": "code",
      "source": [
        ""
      ],
      "metadata": {
        "id": "B5k0HIV5A732"
      },
      "execution_count": 35,
      "outputs": []
    },
    {
      "cell_type": "code",
      "source": [
        "trains[:][1]"
      ],
      "metadata": {
        "id": "jxJ51XeN-rzg",
        "outputId": "d355e627-e4c9-438c-ee39-6815c59e3a2c",
        "colab": {
          "base_uri": "https://localhost:8080/"
        }
      },
      "execution_count": 36,
      "outputs": [
        {
          "output_type": "execute_result",
          "data": {
            "text/plain": [
              "['ILBG3 of 2022-04-16',\n",
              "        positionTime_beop  forecastSpeedMPH forecastTrackName  \\\n",
              " 0   2022-04-21T21:55:32Z                35              MT 2   \n",
              " 1   2022-04-21T21:57:32Z                39              MT 2   \n",
              " 2   2022-04-21T21:59:32Z                43              MT 2   \n",
              " 3   2022-04-21T22:01:32Z                47              MT 2   \n",
              " 4   2022-04-21T22:03:32Z                50              MT 2   \n",
              " 5   2022-04-21T22:05:32Z                53              MT 2   \n",
              " 6   2022-04-21T22:07:32Z                56              MT 2   \n",
              " 7   2022-04-21T22:09:32Z                58              MT 2   \n",
              " 8   2022-04-21T22:11:32Z                60              MT 2   \n",
              " 9   2022-04-21T22:13:32Z                63              MT 2   \n",
              " 10  2022-04-21T22:15:32Z                65              MT 2   \n",
              " 11  2022-04-21T22:17:32Z                67              MT 2   \n",
              " 12  2022-04-21T22:19:32Z                69              MT 2   \n",
              " 13  2022-04-21T22:21:32Z                70              MT 2   \n",
              " 14  2022-04-21T22:23:32Z                70              MT 2   \n",
              " 15  2022-04-21T22:25:32Z                70              MT 2   \n",
              " 16  2022-04-21T22:27:32Z                70              MT 2   \n",
              " 17  2022-04-21T22:29:32Z                70              MT 2   \n",
              " 18  2022-04-21T22:31:32Z                70              MT 2   \n",
              " 19  2022-04-21T22:33:32Z                70              MT 2   \n",
              " 20  2022-04-21T22:35:32Z                70              MT 2   \n",
              " 21  2022-04-21T22:37:32Z                70              MT 2   \n",
              " 22  2022-04-21T22:39:32Z                70              MT 2   \n",
              " 23  2022-04-21T22:41:32Z                70              MT 2   \n",
              " 24  2022-04-21T22:43:32Z                70              MT 2   \n",
              " 25  2022-04-21T22:45:32Z                70              MT 2   \n",
              " 26  2022-04-21T22:47:32Z                70              MT 2   \n",
              " 27  2022-04-21T22:49:32Z                70              MT 2   \n",
              " 28  2022-04-21T22:51:32Z                70              MT 2   \n",
              " 29  2022-04-21T22:53:32Z                70              MT 2   \n",
              " 30  2022-04-21T22:55:32Z                70              MT 2   \n",
              " 31  2022-04-21T22:57:32Z                70              MT 2   \n",
              " 32  2022-04-21T22:59:32Z                70              MT 2   \n",
              " 33  2022-04-21T23:01:32Z                70              MT 2   \n",
              " 34  2022-04-21T23:03:32Z                70              MT 2   \n",
              " 35  2022-04-21T23:05:32Z                70              MT 2   \n",
              " 36  2022-04-21T23:07:32Z                70              MT 2   \n",
              " 37  2022-04-21T23:09:32Z                70              MT 2   \n",
              " 38  2022-04-21T23:11:32Z                70              MT 2   \n",
              " 39  2022-04-21T23:13:32Z                70              MT 2   \n",
              " 40  2022-04-21T23:15:32Z                70              MT 2   \n",
              " 41  2022-04-21T23:17:32Z                70              MT 2   \n",
              " 42  2022-04-21T23:19:32Z                70              MT 2   \n",
              " 43  2022-04-21T23:21:32Z                70              MT 2   \n",
              " 44  2022-04-21T23:23:32Z                70              MT 2   \n",
              " 45  2022-04-21T23:25:32Z                70              MT 2   \n",
              " 46  2022-04-21T23:27:32Z                70              MT 2   \n",
              " 47  2022-04-21T23:29:32Z                70              MT 2   \n",
              " 48  2022-04-21T23:31:32Z                70              MT 2   \n",
              " 49  2022-04-21T23:33:32Z                70              MT 2   \n",
              " 50  2022-04-21T23:35:32Z                70              MT 2   \n",
              " 51  2022-04-21T23:37:32Z                70              MT 2   \n",
              " 52  2022-04-21T23:39:32Z                70              MT 2   \n",
              " 53  2022-04-21T23:41:32Z                70              MT 2   \n",
              " 54  2022-04-21T23:43:32Z                70              MT 2   \n",
              " 55  2022-04-21T23:45:32Z                70              MT 2   \n",
              " 56  2022-04-21T23:47:32Z                70              MT 2   \n",
              " 57  2022-04-21T23:49:32Z                70              MT 2   \n",
              " \n",
              "     forecastMilepostNumber   positionTime_actual  speedMPH trackName  \\\n",
              " 0                326.18050  2022-04-21T21:57:32Z      35.0      MT 2   \n",
              " 1                324.97513  2022-04-21T21:59:32Z      35.0      MT 2   \n",
              " 2                323.59308  2022-04-21T22:01:32Z      33.0      MT 2   \n",
              " 3                322.07977  2022-04-21T22:03:32Z      32.0      MT 2   \n",
              " 4                320.45004  2022-04-21T22:05:32Z      32.0      MT 2   \n",
              " 5                318.71580  2022-04-21T22:07:32Z      34.0      MT 2   \n",
              " 6                316.88626  2022-04-21T22:09:32Z      38.0      MT 2   \n",
              " 7                314.97418  2022-04-21T22:11:32Z      38.0      MT 2   \n",
              " 8                312.98100  2022-04-21T22:13:32Z      39.0      MT 2   \n",
              " 9                310.91205  2022-04-21T22:15:32Z      40.0      MT 2   \n",
              " 10               308.77228  2022-04-21T22:17:32Z      40.0      MT 2   \n",
              " 11               306.56586  2022-04-21T22:19:32Z      40.0      MT 2   \n",
              " 12               304.28350  2022-04-21T22:21:32Z      40.0      MT 2   \n",
              " 13               301.94742  2022-04-21T22:23:32Z      40.0      MT 2   \n",
              " 14               299.63410  2022-04-21T22:25:32Z      40.0      MT 2   \n",
              " 15               297.30408  2022-04-21T22:27:32Z      41.0      MT 2   \n",
              " 16               294.97406  2022-04-21T22:29:32Z      39.0      MT 2   \n",
              " 17               292.64404  2022-04-21T22:31:32Z      38.0      MT 2   \n",
              " 18               290.33997  2022-04-21T22:33:32Z      39.0      MT 2   \n",
              " 19               287.98105  2022-04-21T22:35:32Z      40.0      MT 2   \n",
              " 20               285.62213  2022-04-21T22:37:32Z      39.0      MT 2   \n",
              " 21               283.30994  2022-04-21T22:39:32Z      36.0      MT 2   \n",
              " 22               280.99774  2022-04-21T22:41:32Z      36.0      MT 2   \n",
              " 23               278.68555  2022-04-21T22:43:32Z      36.0      MT 2   \n",
              " 24               276.35245  2022-04-21T22:45:32Z      38.0      MT 2   \n",
              " 25               274.01935  2022-04-21T22:47:32Z      41.0      MT 2   \n",
              " 26               271.68625  2022-04-21T22:49:32Z      41.0      MT 2   \n",
              " 27               269.35315  2022-04-21T22:51:32Z      39.0      MT 2   \n",
              " 28               266.99698  2022-04-21T22:53:32Z      37.0      MT 2   \n",
              " 29               264.64080  2022-04-21T22:55:32Z      39.0      MT 2   \n",
              " 30               262.29327  2022-04-21T22:57:32Z      40.0      MT 2   \n",
              " 31               259.94574  2022-04-21T22:59:32Z      40.0      MT 2   \n",
              " 32               257.58737  2022-04-21T23:01:32Z      39.0      MT 2   \n",
              " 33               255.26670  2022-04-21T23:03:32Z      37.0      MT 2   \n",
              " 34               252.93817  2022-04-21T23:05:32Z      37.0      MT 2   \n",
              " 35               250.60965  2022-04-21T23:07:32Z      36.0      MT 2   \n",
              " 36               248.28113  2022-04-21T23:09:32Z      37.0      MT 2   \n",
              " 37               245.95260  2022-04-21T23:11:32Z      36.0      MT 1   \n",
              " 38               243.61684  2022-04-21T23:13:32Z      35.0      MT 1   \n",
              " 39               241.28107  2022-04-21T23:15:32Z      34.0      MT 1   \n",
              " 40               238.79504  2022-04-21T23:17:32Z      33.0      MT 1   \n",
              " 41               236.30902  2022-04-21T23:21:32Z      31.0      MT 1   \n",
              " 42               233.82300  2022-04-21T23:23:32Z      30.0      MT 1   \n",
              " 43               231.47275  2022-04-21T23:25:32Z      29.0      MT 1   \n",
              " 44               229.14493  2022-04-21T23:27:32Z      29.0      MT 1   \n",
              " 45               226.81711  2022-04-21T23:29:32Z      26.0      MT 1   \n",
              " 46               224.48929  2022-04-21T23:31:32Z      23.0      MT 1   \n",
              " 47               222.14568  2022-04-21T23:33:32Z      23.0      MT 1   \n",
              " 48               219.80943  2022-04-21T23:35:32Z      25.0      MT 1   \n",
              " 49               217.47319  2022-04-21T23:37:32Z      35.0      MT 1   \n",
              " 50               215.13695  2022-04-21T23:39:32Z      43.0      MT 1   \n",
              " 51               209.86365  2022-04-21T23:41:32Z      46.0      MT 1   \n",
              " 52               207.52852  2022-04-21T23:43:32Z      45.0      MT 1   \n",
              " 53               205.19339  2022-04-21T23:45:32Z      40.0      MT 1   \n",
              " 54               202.85826  2022-04-21T23:47:32Z      36.0      MT 1   \n",
              " 55               200.52348  2022-04-21T23:49:32Z      36.0      MT 1   \n",
              " 56               198.19019  2022-04-21T23:51:32Z      41.0      MT 1   \n",
              " 57               195.85689  2022-04-21T23:53:32Z      45.0      MT 1   \n",
              " \n",
              "     milepostNumber  delta  milepost         millis  \n",
              " 0        325.00015    0.0       325  1650578252000  \n",
              " 1        323.82498    4.0       323  1650578372000  \n",
              " 2        322.71332   10.0       322  1650578492000  \n",
              " 3        321.60822   15.0       321  1650578612000  \n",
              " 4        320.53006   18.0       320  1650578732000  \n",
              " 5        319.36526   19.0       319  1650578852000  \n",
              " 6        318.14896   18.0       318  1650578972000  \n",
              " 7        316.86530   20.0       316  1650579092000  \n",
              " 8        315.55220   21.0       315  1650579212000  \n",
              " 9        314.21460   23.0       314  1650579332000  \n",
              " 10       312.89963   25.0       312  1650579452000  \n",
              " 11       311.55557   27.0       311  1650579572000  \n",
              " 12       310.20514   29.0       310  1650579692000  \n",
              " 13       308.86140   30.0       308  1650579812000  \n",
              " 14       307.50330   30.0       307  1650579932000  \n",
              " 15       306.15164   29.0       306  1650580052000  \n",
              " 16       304.80936   31.0       304  1650580172000  \n",
              " 17       303.51154   32.0       303  1650580292000  \n",
              " 18       302.23633   31.0       302  1650580412000  \n",
              " 19       300.90848   30.0       300  1650580532000  \n",
              " 20       299.58945   31.0       299  1650580652000  \n",
              " 21       298.33438   34.0       298  1650580772000  \n",
              " 22       297.11325   34.0       297  1650580892000  \n",
              " 23       295.88513   34.0       295  1650581012000  \n",
              " 24       294.60233   32.0       294  1650581132000  \n",
              " 25       293.27220   29.0       293  1650581252000  \n",
              " 26       291.90265   29.0       291  1650581372000  \n",
              " 27       290.58545   31.0       290  1650581492000  \n",
              " 28       289.29404   33.0       289  1650581612000  \n",
              " 29       288.00070   31.0       288  1650581732000  \n",
              " 30       286.64902   30.0       286  1650581852000  \n",
              " 31       285.32162   30.0       285  1650581972000  \n",
              " 32       283.99408   31.0       283  1650582092000  \n",
              " 33       282.71347   33.0       282  1650582212000  \n",
              " 34       281.48642   33.0       281  1650582332000  \n",
              " 35       280.26508   34.0       280  1650582452000  \n",
              " 36       279.01420   33.0       279  1650582572000  \n",
              " 37       277.80060   34.0       277  1650582692000  \n",
              " 38       276.63510   35.0       276  1650582812000  \n",
              " 39       275.49240   36.0       275  1650582932000  \n",
              " 40       274.38022   37.0       274  1650583052000  \n",
              " 41       272.26398   39.0       272  1650583292000  \n",
              " 42       271.24225   40.0       271  1650583412000  \n",
              " 43       270.23508   41.0       270  1650583532000  \n",
              " 44       269.23640   41.0       269  1650583652000  \n",
              " 45       268.30080   44.0       268  1650583772000  \n",
              " 46       267.46510   47.0       267  1650583892000  \n",
              " 47       266.69565   47.0       266  1650584012000  \n",
              " 48       265.87735   45.0       265  1650584132000  \n",
              " 49       264.83325   35.0       264  1650584252000  \n",
              " 50       263.40836   27.0       263  1650584372000  \n",
              " 51       261.85620   24.0       261  1650584492000  \n",
              " 52       260.30360   25.0       260  1650584612000  \n",
              " 53       258.83850   30.0       258  1650584732000  \n",
              " 54       257.54940   34.0       257  1650584852000  \n",
              " 55       256.35812   34.0       256  1650584972000  \n",
              " 56       255.05879   29.0       255  1650585092000  \n",
              " 57       253.58781   25.0       253  1650585212000  ]"
            ]
          },
          "metadata": {},
          "execution_count": 36
        }
      ]
    },
    {
      "cell_type": "code",
      "source": [
        "vals = trains[:][1].iloc[:,[1,5,8]].values.transpose()\n",
        "np.pad(vals, [(0,0),(0, (60 - vals[0].size))], mode='constant', constant_values=(-1,-1))"
      ],
      "metadata": {
        "id": "eLjAgvTqemtA",
        "outputId": "b34f4b38-3623-4d9d-b1ab-fec4d99f930b",
        "colab": {
          "base_uri": "https://localhost:8080/",
          "height": 184
        }
      },
      "execution_count": 37,
      "outputs": [
        {
          "output_type": "error",
          "ename": "AttributeError",
          "evalue": "ignored",
          "traceback": [
            "\u001b[0;31m---------------------------------------------------------------------------\u001b[0m",
            "\u001b[0;31mAttributeError\u001b[0m                            Traceback (most recent call last)",
            "\u001b[0;32m<ipython-input-37-59369cb06507>\u001b[0m in \u001b[0;36m<module>\u001b[0;34m()\u001b[0m\n\u001b[0;32m----> 1\u001b[0;31m \u001b[0mvals\u001b[0m \u001b[0;34m=\u001b[0m \u001b[0mtrains\u001b[0m\u001b[0;34m[\u001b[0m\u001b[0;34m:\u001b[0m\u001b[0;34m]\u001b[0m\u001b[0;34m[\u001b[0m\u001b[0;36m1\u001b[0m\u001b[0;34m]\u001b[0m\u001b[0;34m.\u001b[0m\u001b[0miloc\u001b[0m\u001b[0;34m[\u001b[0m\u001b[0;34m:\u001b[0m\u001b[0;34m,\u001b[0m\u001b[0;34m[\u001b[0m\u001b[0;36m1\u001b[0m\u001b[0;34m,\u001b[0m\u001b[0;36m5\u001b[0m\u001b[0;34m,\u001b[0m\u001b[0;36m8\u001b[0m\u001b[0;34m]\u001b[0m\u001b[0;34m]\u001b[0m\u001b[0;34m.\u001b[0m\u001b[0mvalues\u001b[0m\u001b[0;34m.\u001b[0m\u001b[0mtranspose\u001b[0m\u001b[0;34m(\u001b[0m\u001b[0;34m)\u001b[0m\u001b[0;34m\u001b[0m\u001b[0;34m\u001b[0m\u001b[0m\n\u001b[0m\u001b[1;32m      2\u001b[0m \u001b[0mnp\u001b[0m\u001b[0;34m.\u001b[0m\u001b[0mpad\u001b[0m\u001b[0;34m(\u001b[0m\u001b[0mvals\u001b[0m\u001b[0;34m,\u001b[0m \u001b[0;34m[\u001b[0m\u001b[0;34m(\u001b[0m\u001b[0;36m0\u001b[0m\u001b[0;34m,\u001b[0m\u001b[0;36m0\u001b[0m\u001b[0;34m)\u001b[0m\u001b[0;34m,\u001b[0m\u001b[0;34m(\u001b[0m\u001b[0;36m0\u001b[0m\u001b[0;34m,\u001b[0m \u001b[0;34m(\u001b[0m\u001b[0;36m60\u001b[0m \u001b[0;34m-\u001b[0m \u001b[0mvals\u001b[0m\u001b[0;34m[\u001b[0m\u001b[0;36m0\u001b[0m\u001b[0;34m]\u001b[0m\u001b[0;34m.\u001b[0m\u001b[0msize\u001b[0m\u001b[0;34m)\u001b[0m\u001b[0;34m)\u001b[0m\u001b[0;34m]\u001b[0m\u001b[0;34m,\u001b[0m \u001b[0mmode\u001b[0m\u001b[0;34m=\u001b[0m\u001b[0;34m'constant'\u001b[0m\u001b[0;34m,\u001b[0m \u001b[0mconstant_values\u001b[0m\u001b[0;34m=\u001b[0m\u001b[0;34m(\u001b[0m\u001b[0;34m-\u001b[0m\u001b[0;36m1\u001b[0m\u001b[0;34m,\u001b[0m\u001b[0;34m-\u001b[0m\u001b[0;36m1\u001b[0m\u001b[0;34m)\u001b[0m\u001b[0;34m)\u001b[0m\u001b[0;34m\u001b[0m\u001b[0;34m\u001b[0m\u001b[0m\n",
            "\u001b[0;31mAttributeError\u001b[0m: 'list' object has no attribute 'iloc'"
          ]
        }
      ]
    },
    {
      "cell_type": "code",
      "execution_count": null,
      "metadata": {
        "id": "wubYMM237E0f"
      },
      "outputs": [],
      "source": [
        ""
      ]
    },
    {
      "cell_type": "markdown",
      "metadata": {
        "id": "7FNCvdZO7E0j"
      },
      "source": [
        "# dfAll has actual readings by loco/train, 60 per, on"
      ]
    },
    {
      "cell_type": "code",
      "execution_count": null,
      "metadata": {
        "id": "mmZvKR6uJQiN"
      },
      "outputs": [],
      "source": [
        "# Define Utility Functions to build additional data rows\n",
        "\n",
        "# Create a dataframe row holding a record of position on the train.\n",
        "def createPositionHistoryFrame(positionHistory) -> dict:\n",
        "    # The time that the train was at the specific milepost\n",
        "    # Record the position time as seconds from epoch to use in regression model\n",
        "    positionTime = positionHistory.get('positionTime')\n",
        "    # How fast the train is traveling\n",
        "    speedMPH = positionHistory.get('speedMPH')\n",
        "    # Milepost location information\n",
        "    milepostLocation = positionHistory.get('milepostLocation')\n",
        "    # The unique identifier of the subdivision\n",
        "    subdivisionId = milepostLocation.get('subdivisionId')\n",
        "    # The unique identifier fo the milepost\n",
        "    milepostNumber = milepostLocation.get('milepost').get('milepostNumber')\n",
        "\n",
        "    # Construct new dataframe record\n",
        "    return {'PositionTime': positionTime, 'SpeedMPH': speedMPH, \n",
        "    'SubdivisionId': subdivisionId, 'MilepostNumber':milepostNumber}\n",
        "\n",
        "# Create a dataframe row for the identifier information of the trani\n",
        "def createTrainIdFrame(trainId) -> dict:\n",
        "    trainSymbol = trainId.get('trainSymbol')\n",
        "    return {'TrainSymbol': trainSymbol}\n",
        "\n",
        "# Create data frame for train detail\n",
        "def createTrainDetailFrame(trainDetail) -> dict:\n",
        "    maximumTrainSpeed = trainDetail.get('maximumTrainSpeed')\n",
        "    loadedCarCount = trainDetail.get('loadedCarCount')\n",
        "    emptyCarCount = trainDetail.get('emptyCarCount')\n",
        "    trainLength = trainDetail.get('trainLength')\n",
        "    trailingTonnage = trainDetail.get('trailingTonnage')\n",
        "\n",
        "    # Construct new dataframe record\n",
        "    return {'MaximumTrainSpeed': maximumTrainSpeed, 'LoadedCarCount': loadedCarCount, \n",
        "    'EmptyCarCount': emptyCarCount, 'TrainLength':trainLength, 'TrailingTonnage':trailingTonnage}"
      ]
    },
    {
      "cell_type": "code",
      "source": [
        ""
      ],
      "metadata": {
        "id": "7yYNbdiWngmQ"
      },
      "execution_count": null,
      "outputs": []
    },
    {
      "cell_type": "code",
      "source": [
        ""
      ],
      "metadata": {
        "id": "Ro_7lwyp1Cqi"
      },
      "execution_count": null,
      "outputs": []
    },
    {
      "cell_type": "markdown",
      "source": [
        "# Baseline #1 - measure the accuracy of the Physics model\n",
        "\n",
        "### Part 1: L1 Norm and L2 Norm of Projected Speed versus Actual"
      ],
      "metadata": {
        "id": "5qce04Yz05Yw"
      }
    },
    {
      "cell_type": "code",
      "source": [
        "time = torch.arange(0,60).float(); time"
      ],
      "metadata": {
        "id": "QAWjDV2v3mb8"
      },
      "execution_count": null,
      "outputs": []
    },
    {
      "cell_type": "code",
      "source": [
        "actuals = "
      ],
      "metadata": {
        "id": "O25QBn1l4BH7"
      },
      "execution_count": null,
      "outputs": []
    },
    {
      "cell_type": "code",
      "source": [
        "def show_preds(predictionsTensor, ax=None):\n",
        "    if ax is None: ax=plt.subplots()[1]\n",
        "    ax.scatter(time, speed)\n",
        "    ax.scatter(time, to_np(predictionsTensor), color='red')\n",
        "    ax.set_ylim(-300,100)"
      ],
      "metadata": {
        "id": "fvbYoLjJ11s5"
      },
      "execution_count": null,
      "outputs": []
    }
  ],
  "metadata": {
    "colab": {
      "name": "PhysicsBEoPBaseline.ipynb",
      "provenance": []
    },
    "interpreter": {
      "hash": "99fae7d265480b5fbb0cf965db398c4d2d7b17b55f6259418c7dbfe0de01ea90"
    },
    "kernelspec": {
      "display_name": "Python 3 (ipykernel)",
      "language": "python",
      "name": "python3"
    },
    "language_info": {
      "codemirror_mode": {
        "name": "ipython",
        "version": 3
      },
      "file_extension": ".py",
      "mimetype": "text/x-python",
      "name": "python",
      "nbconvert_exporter": "python",
      "pygments_lexer": "ipython3",
      "version": "3.9.12"
    }
  },
  "nbformat": 4,
  "nbformat_minor": 0
}