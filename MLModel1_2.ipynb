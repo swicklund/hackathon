{
  "cells": [
    {
      "cell_type": "markdown",
      "metadata": {
        "id": "view-in-github",
        "colab_type": "text"
      },
      "source": [
        "<a href=\"https://colab.research.google.com/github/swicklund/hackathon/blob/main/MLModel1_2.ipynb\" target=\"_parent\"><img src=\"https://colab.research.google.com/assets/colab-badge.svg\" alt=\"Open In Colab\"/></a>"
      ]
    },
    {
      "cell_type": "code",
      "execution_count": 1,
      "metadata": {
        "id": "f18J8QM17E0a",
        "colab": {
          "base_uri": "https://localhost:8080/"
        },
        "outputId": "72600c6a-12da-4056-d41f-b6d90bc74c94"
      },
      "outputs": [
        {
          "output_type": "stream",
          "name": "stdout",
          "text": [
            "\u001b[K     |████████████████████████████████| 719 kB 3.7 MB/s \n",
            "\u001b[K     |████████████████████████████████| 362 kB 24.9 MB/s \n",
            "\u001b[K     |████████████████████████████████| 4.4 MB 40.8 MB/s \n",
            "\u001b[K     |████████████████████████████████| 1.2 MB 40.3 MB/s \n",
            "\u001b[K     |████████████████████████████████| 1.1 MB 43.4 MB/s \n",
            "\u001b[K     |████████████████████████████████| 101 kB 9.9 MB/s \n",
            "\u001b[K     |████████████████████████████████| 140 kB 45.6 MB/s \n",
            "\u001b[K     |████████████████████████████████| 212 kB 43.5 MB/s \n",
            "\u001b[K     |████████████████████████████████| 596 kB 43.0 MB/s \n",
            "\u001b[K     |████████████████████████████████| 127 kB 38.5 MB/s \n",
            "\u001b[K     |████████████████████████████████| 271 kB 44.2 MB/s \n",
            "\u001b[K     |████████████████████████████████| 144 kB 32.0 MB/s \n",
            "\u001b[K     |████████████████████████████████| 94 kB 3.3 MB/s \n",
            "\u001b[K     |████████████████████████████████| 6.6 MB 25.9 MB/s \n",
            "\u001b[31mERROR: pip's dependency resolver does not currently take into account all the packages that are installed. This behaviour is the source of the following dependency conflicts.\n",
            "datascience 0.10.6 requires folium==0.2.1, but you have folium 0.8.3 which is incompatible.\u001b[0m\n",
            "\u001b[?25hLooking in indexes: https://pypi.org/simple, https://us-python.pkg.dev/colab-wheels/public/simple/\n",
            "Collecting dtreeviz\n",
            "  Downloading dtreeviz-1.3.6.tar.gz (61 kB)\n",
            "\u001b[K     |████████████████████████████████| 61 kB 187 kB/s \n",
            "\u001b[?25hRequirement already satisfied: graphviz>=0.9 in /usr/local/lib/python3.7/dist-packages (from dtreeviz) (0.10.1)\n",
            "Requirement already satisfied: pandas in /usr/local/lib/python3.7/dist-packages (from dtreeviz) (1.3.5)\n",
            "Requirement already satisfied: numpy in /usr/local/lib/python3.7/dist-packages (from dtreeviz) (1.21.6)\n",
            "Requirement already satisfied: scikit-learn in /usr/local/lib/python3.7/dist-packages (from dtreeviz) (1.0.2)\n",
            "Requirement already satisfied: matplotlib in /usr/local/lib/python3.7/dist-packages (from dtreeviz) (3.2.2)\n",
            "Collecting colour\n",
            "  Downloading colour-0.1.5-py2.py3-none-any.whl (23 kB)\n",
            "Requirement already satisfied: pytest in /usr/local/lib/python3.7/dist-packages (from dtreeviz) (3.6.4)\n",
            "Requirement already satisfied: python-dateutil>=2.1 in /usr/local/lib/python3.7/dist-packages (from matplotlib->dtreeviz) (2.8.2)\n",
            "Requirement already satisfied: kiwisolver>=1.0.1 in /usr/local/lib/python3.7/dist-packages (from matplotlib->dtreeviz) (1.4.3)\n",
            "Requirement already satisfied: pyparsing!=2.0.4,!=2.1.2,!=2.1.6,>=2.0.1 in /usr/local/lib/python3.7/dist-packages (from matplotlib->dtreeviz) (3.0.9)\n",
            "Requirement already satisfied: cycler>=0.10 in /usr/local/lib/python3.7/dist-packages (from matplotlib->dtreeviz) (0.11.0)\n",
            "Requirement already satisfied: typing-extensions in /usr/local/lib/python3.7/dist-packages (from kiwisolver>=1.0.1->matplotlib->dtreeviz) (4.1.1)\n",
            "Requirement already satisfied: six>=1.5 in /usr/local/lib/python3.7/dist-packages (from python-dateutil>=2.1->matplotlib->dtreeviz) (1.15.0)\n",
            "Requirement already satisfied: pytz>=2017.3 in /usr/local/lib/python3.7/dist-packages (from pandas->dtreeviz) (2022.1)\n",
            "Requirement already satisfied: atomicwrites>=1.0 in /usr/local/lib/python3.7/dist-packages (from pytest->dtreeviz) (1.4.0)\n",
            "Requirement already satisfied: setuptools in /usr/local/lib/python3.7/dist-packages (from pytest->dtreeviz) (57.4.0)\n",
            "Requirement already satisfied: more-itertools>=4.0.0 in /usr/local/lib/python3.7/dist-packages (from pytest->dtreeviz) (8.13.0)\n",
            "Requirement already satisfied: py>=1.5.0 in /usr/local/lib/python3.7/dist-packages (from pytest->dtreeviz) (1.11.0)\n",
            "Requirement already satisfied: attrs>=17.4.0 in /usr/local/lib/python3.7/dist-packages (from pytest->dtreeviz) (21.4.0)\n",
            "Requirement already satisfied: pluggy<0.8,>=0.5 in /usr/local/lib/python3.7/dist-packages (from pytest->dtreeviz) (0.7.1)\n",
            "Requirement already satisfied: scipy>=1.1.0 in /usr/local/lib/python3.7/dist-packages (from scikit-learn->dtreeviz) (1.4.1)\n",
            "Requirement already satisfied: joblib>=0.11 in /usr/local/lib/python3.7/dist-packages (from scikit-learn->dtreeviz) (1.1.0)\n",
            "Requirement already satisfied: threadpoolctl>=2.0.0 in /usr/local/lib/python3.7/dist-packages (from scikit-learn->dtreeviz) (3.1.0)\n",
            "Building wheels for collected packages: dtreeviz\n",
            "  Building wheel for dtreeviz (setup.py) ... \u001b[?25l\u001b[?25hdone\n",
            "  Created wheel for dtreeviz: filename=dtreeviz-1.3.6-py3-none-any.whl size=67326 sha256=03b676e5a3d105003a12ea3c1c0016354eb53baa268faef8746c74a4442135d4\n",
            "  Stored in directory: /root/.cache/pip/wheels/33/76/fe/99227ff871766e7284bb88d3d28e2f4886b8ec04d669033478\n",
            "Successfully built dtreeviz\n",
            "Installing collected packages: colour, dtreeviz\n",
            "Successfully installed colour-0.1.5 dtreeviz-1.3.6\n",
            "Updated property [core/project].\n",
            "Mounted at /content/gdrive\n"
          ]
        }
      ],
      "source": [
        "!pip install -Uqq fastbook\n",
        "!pip install dtreeviz\n",
        "!gcloud config set project {'hackathon-352519'}\n",
        "\n",
        "import os\n",
        "\n",
        "import IPython\n",
        "import IPython.display\n",
        "import matplotlib as mpl\n",
        "import matplotlib.pyplot as plt\n",
        "import numpy as np\n",
        "import fastbook as fastai\n",
        "import pandas as pd\n",
        "from pandas.io.json import json_normalize\n",
        "import seaborn as sns\n",
        "import tensorflow as tf\n",
        "import json\n",
        "import zipfile\n",
        "from io import BytesIO\n",
        "import torch\n",
        "import math\n",
        "from google.colab import files\n",
        "from google.colab import auth\n",
        "from datetime import datetime, timedelta\n",
        "\n",
        "fastai.setup_book()\n",
        "from fastai import tabular\n"
      ]
    },
    {
      "cell_type": "code",
      "source": [
        "from pandas.api.types import is_string_dtype, is_numeric_dtype, is_categorical_dtype\n",
        "from fastai.tabular.all import *\n",
        "from sklearn.ensemble import RandomForestRegressor\n",
        "from sklearn.tree import DecisionTreeRegressor\n",
        "from dtreeviz.trees import *\n",
        "from IPython.display import Image, display_svg, SVG\n",
        "\n",
        "pd.options.display.max_rows = 20\n",
        "pd.options.display.max_columns = 8"
      ],
      "metadata": {
        "id": "wAzfcrrIByux"
      },
      "execution_count": 2,
      "outputs": []
    },
    {
      "cell_type": "code",
      "source": [
        "auth.authenticate_user()"
      ],
      "metadata": {
        "id": "_wNuGIFQT0nZ"
      },
      "execution_count": 3,
      "outputs": []
    },
    {
      "cell_type": "code",
      "execution_count": 4,
      "metadata": {
        "id": "TpnuFITI6Tzu"
      },
      "outputs": [],
      "source": [
        "# !gcloud config set project {'hackathon-352519'}"
      ]
    },
    {
      "cell_type": "code",
      "source": [
        "#filename = \"train-data_all-train-events.zip\"\n",
        "filename = \"train-data-2022062020220626.zip\""
      ],
      "metadata": {
        "id": "M3W7KKZc8f92"
      },
      "execution_count": 5,
      "outputs": []
    },
    {
      "cell_type": "code",
      "source": [
        "!gsutil cp gs://trains_data/$filename /tmp/."
      ],
      "metadata": {
        "id": "srQJL7OKVRww",
        "colab": {
          "base_uri": "https://localhost:8080/"
        },
        "outputId": "200655b1-201b-4ee5-f510-b4e9445c4835"
      },
      "execution_count": 6,
      "outputs": [
        {
          "output_type": "stream",
          "name": "stdout",
          "text": [
            "Copying gs://trains_data/train-data-2022062020220626.zip...\n",
            "- [1 files][192.2 MiB/192.2 MiB]                                                \n",
            "Operation completed over 1 objects/192.2 MiB.                                    \n"
          ]
        }
      ]
    },
    {
      "cell_type": "code",
      "execution_count": 7,
      "metadata": {
        "id": "ckXLQ7eQ7E0c",
        "colab": {
          "base_uri": "https://localhost:8080/"
        },
        "outputId": "c8265f8e-1809-470d-9a99-a3ffe03e87ea"
      },
      "outputs": [
        {
          "output_type": "stream",
          "name": "stdout",
          "text": [
            "1000   22:58:07\n",
            "2000   22:58:16\n",
            "3000   22:58:22\n",
            "4000   22:58:28\n",
            "5000   22:58:34\n",
            "6000   22:58:40\n",
            "7000   22:58:45\n",
            "8000   22:58:52\n",
            "9000   22:58:58\n",
            "10000   22:59:02\n",
            "11000   22:59:08\n",
            "12000   22:59:14\n",
            "13000   22:59:20\n",
            "14000   22:59:24\n",
            "15000   22:59:30\n",
            "16000   22:59:35\n",
            "17000   22:59:42\n",
            "18000   22:59:46\n",
            "19000   22:59:54\n",
            "20000   22:59:58\n",
            "21000   23:00:03\n",
            "22000   23:00:12\n",
            "23000   23:00:17\n",
            "24000   23:00:21\n",
            "25000   23:00:29\n",
            "26000   23:00:34\n",
            "27000   23:00:39\n",
            "28000   23:00:48\n",
            "29000   23:00:52\n",
            "30000   23:00:57\n",
            "31000   23:01:05\n",
            "32000   23:01:10\n",
            "33000   23:01:15\n"
          ]
        }
      ],
      "source": [
        "trains = {}\n",
        "i = 1\n",
        "# prevLoco = ''\n",
        "with zipfile.ZipFile(\"/tmp/\"+filename, \"r\") as f:\n",
        "    for name in f.namelist():\n",
        "        if name.endswith('.json'):\n",
        "            with f.open(name) as zd:\n",
        "                data = json.load(zd)\n",
        "                lastTrainReporting = data['lastTrainReporting']\n",
        "                currentLoco = lastTrainReporting['ptcLeadLocomotiveId']\n",
        "                # prevLoco != currentLoco and \n",
        "                if (\"trainActualPositionList\" in lastTrainReporting and len(lastTrainReporting['trainActualPositionList']) > 0): \n",
        "                    # trainActualPositionList = lastTrainReporting['trainActualPositionList']\n",
        "                    trains[i] = pd.json_normalize(lastTrainReporting)\n",
        "                    i = i + 1\n",
        "                    if (i % 1000 == 0):\n",
        "                      current_time = datetime.now().strftime(\"%H:%M:%S\")\n",
        "                      print(i, \" \", current_time)\n",
        "                    # prevLoco = currentLoco\n",
        "                            "
      ]
    },
    {
      "cell_type": "code",
      "execution_count": 8,
      "metadata": {
        "id": "lgWV768N7E0d"
      },
      "outputs": [],
      "source": [
        "dfTrainsAll = pd.concat(trains.values())\n",
        "dfTrainsAll[\"milepost\"] = dfTrainsAll.apply(lambda row: math.trunc(row['lastReportedPosition.milepostLocation.milepost.milepostNumber']), axis=1)"
      ]
    },
    {
      "cell_type": "code",
      "source": [
        "del trains"
      ],
      "metadata": {
        "id": "Q581UU9nCWZ1"
      },
      "execution_count": 9,
      "outputs": []
    },
    {
      "cell_type": "code",
      "execution_count": 10,
      "metadata": {
        "id": "Idznxze77E0e",
        "colab": {
          "base_uri": "https://localhost:8080/"
        },
        "outputId": "84a3f2ea-f30f-410d-d1cd-1314e3f827f3"
      },
      "outputs": [
        {
          "output_type": "stream",
          "name": "stdout",
          "text": [
            "<class 'pandas.core.frame.DataFrame'>\n",
            "Int64Index: 33632 entries, 0 to 0\n",
            "Data columns (total 37 columns):\n",
            " #   Column                                                         Non-Null Count  Dtype  \n",
            "---  ------                                                         --------------  -----  \n",
            " 0   ptcLeadLocomotiveId                                            33632 non-null  object \n",
            " 1   positionHistoryList                                            33632 non-null  object \n",
            " 2   locomotiveList                                                 33632 non-null  object \n",
            " 3   subdivisionList                                                33632 non-null  object \n",
            " 4   trainEstimatedPositionList                                     33632 non-null  object \n",
            " 5   trainActualPositionList                                        33632 non-null  object \n",
            " 6   trainId.trainSCAC                                              33632 non-null  object \n",
            " 7   trainId.trainSection                                           33632 non-null  object \n",
            " 8   trainId.trainSymbol                                            33632 non-null  object \n",
            " 9   trainId.trainDate                                              33632 non-null  object \n",
            " 10  lastReportedPosition.positionTime                              33632 non-null  object \n",
            " 11  lastReportedPosition.speedMPH                                  33632 non-null  int64  \n",
            " 12  lastReportedPosition.milepostLocation.subdivisionId            33632 non-null  int64  \n",
            " 13  lastReportedPosition.milepostLocation.trackName                33632 non-null  object \n",
            " 14  lastReportedPosition.milepostLocation.milepost.milepostNumber  33632 non-null  float64\n",
            " 15  aotuTrainData.priorityCode                                     33089 non-null  float64\n",
            " 16  aotuTrainData.categoryCode                                     33089 non-null  float64\n",
            " 17  aotuTrainData.authorityRangeCode                               33089 non-null  float64\n",
            " 18  aotuTrainData.ownershipCode                                    33089 non-null  float64\n",
            " 19  aotuTrainData.tenantCarrier                                    33089 non-null  object \n",
            " 20  aotuTrainData.totalCarWeight                                   33089 non-null  float64\n",
            " 21  aotuTrainData.totalCarLength                                   33089 non-null  float64\n",
            " 22  aotuTrainData.totalLocomotiveWeight                            33089 non-null  float64\n",
            " 23  aotuTrainData.totalLocomotiveLength                            33089 non-null  float64\n",
            " 24  aotuTrainData.actualTonsPerAxle                                33089 non-null  float64\n",
            " 25  aotuTrainData.heavy143TonCarCount                              33089 non-null  float64\n",
            " 26  aotuTrainData.heavy158TonCarCount                              33089 non-null  float64\n",
            " 27  aotuTrainData.over158TonCarCount                               33089 non-null  float64\n",
            " 28  aotuTrainData.highWideCarCount                                 33089 non-null  float64\n",
            " 29  aotuTrainData.eventCode                                        33089 non-null  float64\n",
            " 30  aotuTrainData.routeLocationList                                33089 non-null  object \n",
            " 31  maximumTrainSpeed                                              32144 non-null  float64\n",
            " 32  loadedCarCount                                                 32144 non-null  float64\n",
            " 33  emptyCarCount                                                  32144 non-null  float64\n",
            " 34  trainLength                                                    32144 non-null  float64\n",
            " 35  trailingTonnage                                                32144 non-null  float64\n",
            " 36  milepost                                                       33632 non-null  int64  \n",
            "dtypes: float64(20), int64(3), object(14)\n",
            "memory usage: 9.8+ MB\n",
            "None\n",
            "(33632, 37)\n"
          ]
        }
      ],
      "source": [
        "print(dfTrainsAll.info())\n",
        "print(dfTrainsAll.shape)"
      ]
    },
    {
      "cell_type": "code",
      "source": [
        "dfTrainsLearn = dfTrainsAll"
      ],
      "metadata": {
        "id": "it2dDKRfbk0_"
      },
      "execution_count": 40,
      "outputs": []
    },
    {
      "cell_type": "code",
      "source": [
        "dfTrainsLearn['loadedCarCount'] =  dfTrainsLearn['loadedCarCount'].replace(np.nan, 999.)\n",
        "dfTrainsLearn['emptyCarCount'] =  dfTrainsLearn['emptyCarCount'].replace(np.nan, 999.)\n",
        "dfTrainsLearn['trainLength'] =  dfTrainsLearn['trainLength'].replace(np.nan, 99999.)\n",
        "dfTrainsLearn['trailingTonnage'] =  dfTrainsLearn['trailingTonnage'].replace(np.nan, 99999.)\n",
        "# print(dfTrainsLearn['trailingTonnage'].unique())"
      ],
      "metadata": {
        "id": "jTMp9nMBZav1"
      },
      "execution_count": 41,
      "outputs": []
    },
    {
      "cell_type": "code",
      "source": [
        "dfTrainsLearn['mpIncr'] = dfTrainsLearn.apply(lambda row: row['lastReportedPosition.speedMPH'] >= 0, axis=1)"
      ],
      "metadata": {
        "id": "-XDkAezxjVGH"
      },
      "execution_count": 42,
      "outputs": []
    },
    {
      "cell_type": "code",
      "source": [
        "dfTrainsLearn['lastReportedPosition.speedMPH']  = dfTrainsLearn.apply(lambda row: abs(row['lastReportedPosition.speedMPH']), axis=1)\n",
        "dfTrainsLearn['maximumTrainSpeed']  = dfTrainsLearn.apply(lambda row: abs(row['maximumTrainSpeed']), axis=1)"
      ],
      "metadata": {
        "id": "TjMlCKaoxbMw"
      },
      "execution_count": 43,
      "outputs": []
    },
    {
      "cell_type": "code",
      "source": [
        "dfTrainsLearn['lastReportedPosition.speedMPH'].hist(bins=90)"
      ],
      "metadata": {
        "id": "KWQaxYZ3yC1f",
        "colab": {
          "base_uri": "https://localhost:8080/",
          "height": 282
        },
        "outputId": "31b71d3e-93aa-4018-fee2-e77b127c94d2"
      },
      "execution_count": 44,
      "outputs": [
        {
          "output_type": "execute_result",
          "data": {
            "text/plain": [
              "<matplotlib.axes._subplots.AxesSubplot at 0x7fc9b4f9c810>"
            ]
          },
          "metadata": {},
          "execution_count": 44
        },
        {
          "output_type": "display_data",
          "data": {
            "text/plain": [
              "<Figure size 432x288 with 1 Axes>"
            ],
            "image/png": "[encoded data removed]"
          },
          "metadata": {
            "needs_background": "light"
          }
        }
      ]
    },
    {
      "cell_type": "code",
      "source": [
        "aotuColumns = [item for item in dfTrainsLearn.columns if item.startswith('aotu')]\n",
        "for column in aotuColumns:\n",
        "  dfTrainsLearn[column] =  dfTrainsLearn[column].replace(np.nan, 0.)"
      ],
      "metadata": {
        "id": "IjhK53fef5eG"
      },
      "execution_count": 45,
      "outputs": []
    },
    {
      "cell_type": "code",
      "source": [
        "dfTrainsLearn['symbolType'] = dfTrainsLearn.apply(lambda row: row['trainId.trainSymbol'][:1], axis=1)\n",
        "print(dfTrainsLearn['symbolType'].unique())"
      ],
      "metadata": {
        "id": "FPO5BUrpVl5t",
        "colab": {
          "base_uri": "https://localhost:8080/"
        },
        "outputId": "71fd686a-4cd5-41e6-ad11-653a07c4663f"
      },
      "execution_count": 46,
      "outputs": [
        {
          "output_type": "stream",
          "name": "stdout",
          "text": [
            "['A' 'Q' 'M' 'H' 'G' 'U' 'O' 'I' 'E' 'C' 'Y' 'L' 'Z' 'S' 'R' 'W']\n"
          ]
        }
      ]
    },
    {
      "cell_type": "code",
      "source": [
        "dfTrainsLearn['lastReportedPosition.milepostLocation.trackName'] = dfTrainsLearn['lastReportedPosition.milepostLocation.trackName'].astype('category')\n",
        "dfTrainsLearn['lastReportedPosition.milepostLocation.trackName'] = dfTrainsLearn['lastReportedPosition.milepostLocation.trackName'].cat.set_categories(['WEST MAIN', 'MAIN', 'MT 2', 'MT 1', 'WESTXO', 'XO', 'EASTXO','YD LD', 'EAST MAIN', 'TO_N_EAST MAIN', 'TO_S_UP_MAINLINE', 'TO_S_CS JUNCTION', 'S_STARKS', 'TO_S_KCS UP PRT CONN', 'TO_N_LUCAS', 'S_LUCAS'])\n",
        "#dfTrainsLearn['lastReportedSpeedMPH'] = dfTrainsLearn.apply(lambda row: row['positionHistoryList'][0]['speedMPH'], axis=1)\n",
        "dfTrainsLearn['symbolType'] = dfTrainsLearn['symbolType'].astype('category')\n",
        "dfTrainsLearn['symbolType'] = dfTrainsLearn['symbolType'].cat.set_categories(['A' 'Q' 'M' 'H' 'G' 'U' 'O' 'I' 'E' 'C' 'Y' 'L' 'Z' 'S' 'R' 'W'])\n"
      ],
      "metadata": {
        "id": "DParW0UUrZKv"
      },
      "execution_count": 47,
      "outputs": []
    },
    {
      "cell_type": "code",
      "source": [
        "dfTrainsLearn['maximumTrainSpeed'] =  dfTrainsLearn['maximumTrainSpeed'].replace(np.nan, 88.)\n",
        "print(dfTrainsLearn['maximumTrainSpeed'].unique())"
      ],
      "metadata": {
        "id": "ZTAgIeMJeHmz",
        "colab": {
          "base_uri": "https://localhost:8080/"
        },
        "outputId": "aa2bbabc-0665-4d91-aa36-8a9a7b8e4042"
      },
      "execution_count": 48,
      "outputs": [
        {
          "output_type": "stream",
          "name": "stdout",
          "text": [
            "[88. 50. 60. 70. 40. 45.]\n"
          ]
        }
      ]
    },
    {
      "cell_type": "code",
      "source": [
        "def getWorkLocations(dfTrainsLocation):\n",
        "  if isinstance(dfTrainsLocation['aotuTrainData.routeLocationList'], float):\n",
        "    return None\n",
        "  if len(dfTrainsLocation['aotuTrainData.routeLocationList']) == 0:\n",
        "    return None\n",
        "  aotuRoute=pd.json_normalize(dfTrainsLocation['aotuTrainData.routeLocationList']) \n",
        "  eventLocations = aotuRoute[aotuRoute['activityList'].map(len) > 1]\n",
        "  temp = eventLocations['milepost.milepostNumber'].unique()\n",
        "  if len(temp) == 0:\n",
        "    return None\n",
        "  return ','.join(['%.2f' % num for num in temp])"
      ],
      "metadata": {
        "id": "TsYgT41SKyAn"
      },
      "execution_count": 49,
      "outputs": []
    },
    {
      "cell_type": "code",
      "source": [
        "# routeLoca = dfTrainsLearn.loc[dfTrainsLearn['aotuTrainData.routeLocationList'].str.len() > 0]['aotuTrainData.routeLocationList']\n",
        "# route = routeLoca.iloc[0]\n",
        "# print(route)\n",
        "# jsroute = pd.json_normalize(route)\n",
        "# jsroute"
      ],
      "metadata": {
        "id": "PM-Q6r-A2JNS"
      },
      "execution_count": 50,
      "outputs": []
    },
    {
      "cell_type": "code",
      "source": [
        "# dfTrainsLearn.loc[dfTrainsLearn['aotuTrainData.routeLocationList'].map(len)==0]\n",
        "# dfTrainsLearn[dfTrainsLearn['aotuTrainData.routeLocationList'].apply(lambda x: isinstance(x, float))]['aotuTrainData.routeLocationList']"
      ],
      "metadata": {
        "id": "fK5apSV-R6NF"
      },
      "execution_count": 51,
      "outputs": []
    },
    {
      "cell_type": "code",
      "source": [
        "dfTrainsLearn['workLocations'] = dfTrainsLearn.apply(lambda row: getWorkLocations(row), axis=1)"
      ],
      "metadata": {
        "id": "5sNuNU-iSgFy"
      },
      "execution_count": 52,
      "outputs": []
    },
    {
      "cell_type": "code",
      "source": [
        "dfTrainsLearn['workLocations'].unique()"
      ],
      "metadata": {
        "id": "jA6cNsHR8VSr",
        "colab": {
          "base_uri": "https://localhost:8080/"
        },
        "outputId": "b395dff2-80cf-4a41-a8ae-69174868bd49"
      },
      "execution_count": 53,
      "outputs": [
        {
          "output_type": "execute_result",
          "data": {
            "text/plain": [
              "array([None, '225.10', '202.20', '202.20,219.70', '250.50,202.20', '258.40,202.20', '202.20,258.40,321.50', '202.20,258.40', '219.70,202.20', '202.20,314.52', '202.20,214.50,225.10,290.80,304.10',\n",
              "       '214.50,225.10,290.80,304.10,202.20', '321.50,202.20', '321.50,314.52,202.20', '258.40,219.70,202.20', '314.52,202.20', '258.40,207.60,202.20', '257.60,202.20', '202.20,265.30',\n",
              "       '202.20,258.40,318.90,321.50', '202.20,258.40,321.50,219.70', '202.20,219.70,258.40,321.50', '202.20,219.70,250.50,258.40,321.50', '202.20,219.70,258.40', '225.10,202.20'], dtype=object)"
            ]
          },
          "metadata": {},
          "execution_count": 53
        }
      ]
    },
    {
      "cell_type": "markdown",
      "source": [
        "We can make this more clever later, but for now this seems the most sensible shortcut"
      ],
      "metadata": {
        "id": "-AZiJPI24QO9"
      }
    },
    {
      "cell_type": "code",
      "source": [
        "dfTrainsLearn['locomotiveCount'] = dfTrainsLearn.apply(lambda row: len(row['locomotiveList']),axis = 1)"
      ],
      "metadata": {
        "id": "LuG8-GNBzwrF"
      },
      "execution_count": 54,
      "outputs": []
    },
    {
      "cell_type": "code",
      "source": [
        "dfTrainsLearnActuals = dfTrainsLearn.apply(lambda row: pd.json_normalize(row['trainActualPositionList']), axis=1)"
      ],
      "metadata": {
        "id": "Ag-KbEfz4Is8"
      },
      "execution_count": 55,
      "outputs": []
    },
    {
      "cell_type": "code",
      "source": [
        "dfTrainsLearnActuals.iloc[1]"
      ],
      "metadata": {
        "id": "r_gdrmU4IgpY",
        "colab": {
          "base_uri": "https://localhost:8080/",
          "height": 112
        },
        "outputId": "dc5491e1-ddb1-41c5-d045-157cbb5c3468"
      },
      "execution_count": 56,
      "outputs": [
        {
          "output_type": "execute_result",
          "data": {
            "text/plain": [
              "           positionTime  speedMPH  milepostLocation.subdivisionId  \\\n",
              "0  2022-06-20T21:45:28Z        11                             106   \n",
              "1  2022-06-20T21:47:28Z        14                             106   \n",
              "\n",
              "  milepostLocation.trackName  milepostLocation.milepost.milepostNumber  \n",
              "0                       MAIN                                  765.4883  \n",
              "1             MAIN-WEST MAIN                                  765.9972  "
            ],
            "text/html": [
              "\n",
              "  <div id=\"df-5fe8270a-e6e0-4dcf-87e4-781978e215a7\">\n",
              "    <div class=\"colab-df-container\">\n",
              "      <div>\n",
              "<style scoped>\n",
              "    .dataframe tbody tr th:only-of-type {\n",
              "        vertical-align: middle;\n",
              "    }\n",
              "\n",
              "    .dataframe tbody tr th {\n",
              "        vertical-align: top;\n",
              "    }\n",
              "\n",
              "    .dataframe thead th {\n",
              "        text-align: right;\n",
              "    }\n",
              "</style>\n",
              "<table border=\"1\" class=\"dataframe\">\n",
              "  <thead>\n",
              "    <tr style=\"text-align: right;\">\n",
              "      <th></th>\n",
              "      <th>positionTime</th>\n",
              "      <th>speedMPH</th>\n",
              "      <th>milepostLocation.subdivisionId</th>\n",
              "      <th>milepostLocation.trackName</th>\n",
              "      <th>milepostLocation.milepost.milepostNumber</th>\n",
              "    </tr>\n",
              "  </thead>\n",
              "  <tbody>\n",
              "    <tr>\n",
              "      <th>0</th>\n",
              "      <td>2022-06-20T21:45:28Z</td>\n",
              "      <td>11</td>\n",
              "      <td>106</td>\n",
              "      <td>MAIN</td>\n",
              "      <td>765.4883</td>\n",
              "    </tr>\n",
              "    <tr>\n",
              "      <th>1</th>\n",
              "      <td>2022-06-20T21:47:28Z</td>\n",
              "      <td>14</td>\n",
              "      <td>106</td>\n",
              "      <td>MAIN-WEST MAIN</td>\n",
              "      <td>765.9972</td>\n",
              "    </tr>\n",
              "  </tbody>\n",
              "</table>\n",
              "</div>\n",
              "      <button class=\"colab-df-convert\" onclick=\"convertToInteractive('df-5fe8270a-e6e0-4dcf-87e4-781978e215a7')\"\n",
              "              title=\"Convert this dataframe to an interactive table.\"\n",
              "              style=\"display:none;\">\n",
              "        \n",
              "  <svg xmlns=\"http://www.w3.org/2000/svg\" height=\"24px\"viewBox=\"0 0 24 24\"\n",
              "       width=\"24px\">\n",
              "    <path d=\"M0 0h24v24H0V0z\" fill=\"none\"/>\n",
              "    <path d=\"M18.56 5.44l.94 2.06.94-2.06 2.06-.94-2.06-.94-.94-2.06-.94 2.06-2.06.94zm-11 1L8.5 8.5l.94-2.06 2.06-.94-2.06-.94L8.5 2.5l-.94 2.06-2.06.94zm10 10l.94 2.06.94-2.06 2.06-.94-2.06-.94-.94-2.06-.94 2.06-2.06.94z\"/><path d=\"M17.41 7.96l-1.37-1.37c-.4-.4-.92-.59-1.43-.59-.52 0-1.04.2-1.43.59L10.3 9.45l-7.72 7.72c-.78.78-.78 2.05 0 2.83L4 21.41c.39.39.9.59 1.41.59.51 0 1.02-.2 1.41-.59l7.78-7.78 2.81-2.81c.8-.78.8-2.07 0-2.86zM5.41 20L4 18.59l7.72-7.72 1.47 1.35L5.41 20z\"/>\n",
              "  </svg>\n",
              "      </button>\n",
              "      \n",
              "  <style>\n",
              "    .colab-df-container {\n",
              "      display:flex;\n",
              "      flex-wrap:wrap;\n",
              "      gap: 12px;\n",
              "    }\n",
              "\n",
              "    .colab-df-convert {\n",
              "      background-color: #E8F0FE;\n",
              "      border: none;\n",
              "      border-radius: 50%;\n",
              "      cursor: pointer;\n",
              "      display: none;\n",
              "      fill: #1967D2;\n",
              "      height: 32px;\n",
              "      padding: 0 0 0 0;\n",
              "      width: 32px;\n",
              "    }\n",
              "\n",
              "    .colab-df-convert:hover {\n",
              "      background-color: #E2EBFA;\n",
              "      box-shadow: 0px 1px 2px rgba(60, 64, 67, 0.3), 0px 1px 3px 1px rgba(60, 64, 67, 0.15);\n",
              "      fill: #174EA6;\n",
              "    }\n",
              "\n",
              "    [theme=dark] .colab-df-convert {\n",
              "      background-color: #3B4455;\n",
              "      fill: #D2E3FC;\n",
              "    }\n",
              "\n",
              "    [theme=dark] .colab-df-convert:hover {\n",
              "      background-color: #434B5C;\n",
              "      box-shadow: 0px 1px 3px 1px rgba(0, 0, 0, 0.15);\n",
              "      filter: drop-shadow(0px 1px 2px rgba(0, 0, 0, 0.3));\n",
              "      fill: #FFFFFF;\n",
              "    }\n",
              "  </style>\n",
              "\n",
              "      <script>\n",
              "        const buttonEl =\n",
              "          document.querySelector('#df-5fe8270a-e6e0-4dcf-87e4-781978e215a7 button.colab-df-convert');\n",
              "        buttonEl.style.display =\n",
              "          google.colab.kernel.accessAllowed ? 'block' : 'none';\n",
              "\n",
              "        async function convertToInteractive(key) {\n",
              "          const element = document.querySelector('#df-5fe8270a-e6e0-4dcf-87e4-781978e215a7');\n",
              "          const dataTable =\n",
              "            await google.colab.kernel.invokeFunction('convertToInteractive',\n",
              "                                                     [key], {});\n",
              "          if (!dataTable) return;\n",
              "\n",
              "          const docLinkHtml = 'Like what you see? Visit the ' +\n",
              "            '<a target=\"_blank\" href=https://colab.research.google.com/notebooks/data_table.ipynb>data table notebook</a>'\n",
              "            + ' to learn more about interactive tables.';\n",
              "          element.innerHTML = '';\n",
              "          dataTable['output_type'] = 'display_data';\n",
              "          await google.colab.output.renderOutput(dataTable, element);\n",
              "          const docLink = document.createElement('div');\n",
              "          docLink.innerHTML = docLinkHtml;\n",
              "          element.appendChild(docLink);\n",
              "        }\n",
              "      </script>\n",
              "    </div>\n",
              "  </div>\n",
              "  "
            ]
          },
          "metadata": {},
          "execution_count": 56
        }
      ]
    },
    {
      "cell_type": "code",
      "source": [
        "dfTrainsBeop =  dfTrainsLearn[['lastReportedPosition.milepostLocation.milepost.milepostNumber','trainEstimatedPositionList']]\n",
        "dfTrainsBeop"
      ],
      "metadata": {
        "id": "1FsMwzd7xSLZ",
        "colab": {
          "base_uri": "https://localhost:8080/",
          "height": 641
        },
        "outputId": "81943061-35b0-4bb0-f669-e472f6e26220"
      },
      "execution_count": 57,
      "outputs": [
        {
          "output_type": "execute_result",
          "data": {
            "text/plain": [
              "    lastReportedPosition.milepostLocation.milepost.milepostNumber  \\\n",
              "0                                                        764.8696   \n",
              "0                                                        764.9866   \n",
              "0                                                        764.9949   \n",
              "0                                                        764.8691   \n",
              "0                                                        764.9876   \n",
              "..                                                            ...   \n",
              "0                                                        318.4505   \n",
              "0                                                        319.5837   \n",
              "0                                                        321.3070   \n",
              "0                                                        322.5925   \n",
              "0                                                        324.1084   \n",
              "\n",
              "                                                                                                                                                                                                                                                                                                                                                                                                                                                                                                                                                                                                 trainEstimatedPositionList  \n",
              "0                                                                                                                                                                                                                                                                                                                                                                                                                                                                                                                                                                                                                        []  \n",
              "0                                                                                                                                                                                                                                                                                                                                                                                                                                                                                                                                                                                                                        []  \n",
              "0                                                                                                                                                                                                                                                                                                                                                                                                                                                                                                                                                                                                                        []  \n",
              "0                                                                                                                                                                                                                                                                                                                                                                                                                                                                                                                                                                                                                        []  \n",
              "0                                                                                                                                                                                                                                                                                                                                                                                                                                                                                                                                                                                                                        []  \n",
              "..                                                                                                                                                                                                                                                                                                                                                                                                                                                                                                                                                                                                                      ...  \n",
              "0   [{'positionTime': '2022-06-23T11:50:55Z', 'speedMPH': 43, 'milepostLocation': {'subdivisionId': 106, 'trackName': 'MT 1', 'milepost': {'milepostNumber': 318.4505}}}, {'positionTime': '2022-06-23T11:52:55Z', 'speedMPH': 43, 'milepostLocation': {'subdivisionId': 106, 'trackName': 'MT 1', 'milepost': {'milepostNumber': 319.75415}}}, {'positionTime': '2022-06-23T11:54:55Z', 'speedMPH': 43, 'milepostLocation': {'subdivisionId': 106, 'trackName': 'MT 1', 'milepost': {'milepostNumber': 321.19598}}}, {'positionTime': '2022-06-23T11:56:55Z', 'speedMPH': 40, 'milepostLocation': {'subdivisionId': 106...  \n",
              "0   [{'positionTime': '2022-06-23T11:52:29Z', 'speedMPH': 42, 'milepostLocation': {'subdivisionId': 106, 'trackName': 'MT 1', 'milepost': {'milepostNumber': 319.5837}}}, {'positionTime': '2022-06-23T11:54:29Z', 'speedMPH': 42, 'milepostLocation': {'subdivisionId': 106, 'trackName': 'MT 1', 'milepost': {'milepostNumber': 320.99207}}}, {'positionTime': '2022-06-23T11:56:29Z', 'speedMPH': 40, 'milepostLocation': {'subdivisionId': 106, 'trackName': 'MT 1', 'milepost': {'milepostNumber': 322.33743}}}, {'positionTime': '2022-06-23T11:58:29Z', 'speedMPH': 40, 'milepostLocation': {'subdivisionId': 106...  \n",
              "0   [{'positionTime': '2022-06-23T11:55:08Z', 'speedMPH': 38, 'milepostLocation': {'subdivisionId': 106, 'trackName': 'MT 1', 'milepost': {'milepostNumber': 321.307}}}, {'positionTime': '2022-06-23T11:57:08Z', 'speedMPH': 40, 'milepostLocation': {'subdivisionId': 106, 'trackName': 'MT 1', 'milepost': {'milepostNumber': 322.63477}}}, {'positionTime': '2022-06-23T11:59:08Z', 'speedMPH': 48, 'milepostLocation': {'subdivisionId': 106, 'trackName': 'MT 1', 'milepost': {'milepostNumber': 324.12238}}}, {'positionTime': '2022-06-23T12:01:08Z', 'speedMPH': 50, 'milepostLocation': {'subdivisionId': 106,...  \n",
              "0   [{'positionTime': '2022-06-23T11:57:09Z', 'speedMPH': 38, 'milepostLocation': {'subdivisionId': 106, 'trackName': 'MT 1', 'milepost': {'milepostNumber': 322.5925}}}, {'positionTime': '2022-06-23T11:59:09Z', 'speedMPH': 46, 'milepostLocation': {'subdivisionId': 106, 'trackName': 'MT 1', 'milepost': {'milepostNumber': 323.9869}}}, {'positionTime': '2022-06-23T12:01:09Z', 'speedMPH': 50, 'milepostLocation': {'subdivisionId': 106, 'trackName': 'MT 1', 'milepost': {'milepostNumber': 325.62582}}}, {'positionTime': '2022-06-23T12:03:09Z', 'speedMPH': 50, 'milepostLocation': {'subdivisionId': 106,...  \n",
              "0   [{'positionTime': '2022-06-23T11:59:19Z', 'speedMPH': 44, 'milepostLocation': {'subdivisionId': 106, 'trackName': 'MT 1', 'milepost': {'milepostNumber': 324.1084}}}, {'positionTime': '2022-06-23T12:01:19Z', 'speedMPH': 50, 'milepostLocation': {'subdivisionId': 106, 'trackName': 'MT 1', 'milepost': {'milepostNumber': 325.6797}}}, {'positionTime': '2022-06-23T12:03:19Z', 'speedMPH': 50, 'milepostLocation': {'subdivisionId': 106, 'trackName': 'MT 1', 'milepost': {'milepostNumber': 327.34418}}}, {'positionTime': '2022-06-23T12:05:19Z', 'speedMPH': 50, 'milepostLocation': {'subdivisionId': 106,...  \n",
              "\n",
              "[33632 rows x 2 columns]"
            ],
            "text/html": [
              "\n",
              "  <div id=\"df-bb434fb1-54f5-440a-b138-c579614f6840\">\n",
              "    <div class=\"colab-df-container\">\n",
              "      <div>\n",
              "<style scoped>\n",
              "    .dataframe tbody tr th:only-of-type {\n",
              "        vertical-align: middle;\n",
              "    }\n",
              "\n",
              "    .dataframe tbody tr th {\n",
              "        vertical-align: top;\n",
              "    }\n",
              "\n",
              "    .dataframe thead th {\n",
              "        text-align: right;\n",
              "    }\n",
              "</style>\n",
              "<table border=\"1\" class=\"dataframe\">\n",
              "  <thead>\n",
              "    <tr style=\"text-align: right;\">\n",
              "      <th></th>\n",
              "      <th>lastReportedPosition.milepostLocation.milepost.milepostNumber</th>\n",
              "      <th>trainEstimatedPositionList</th>\n",
              "    </tr>\n",
              "  </thead>\n",
              "  <tbody>\n",
              "    <tr>\n",
              "      <th>0</th>\n",
              "      <td>764.8696</td>\n",
              "      <td>[]</td>\n",
              "    </tr>\n",
              "    <tr>\n",
              "      <th>0</th>\n",
              "      <td>764.9866</td>\n",
              "      <td>[]</td>\n",
              "    </tr>\n",
              "    <tr>\n",
              "      <th>0</th>\n",
              "      <td>764.9949</td>\n",
              "      <td>[]</td>\n",
              "    </tr>\n",
              "    <tr>\n",
              "      <th>0</th>\n",
              "      <td>764.8691</td>\n",
              "      <td>[]</td>\n",
              "    </tr>\n",
              "    <tr>\n",
              "      <th>0</th>\n",
              "      <td>764.9876</td>\n",
              "      <td>[]</td>\n",
              "    </tr>\n",
              "    <tr>\n",
              "      <th>...</th>\n",
              "      <td>...</td>\n",
              "      <td>...</td>\n",
              "    </tr>\n",
              "    <tr>\n",
              "      <th>0</th>\n",
              "      <td>318.4505</td>\n",
              "      <td>[{'positionTime': '2022-06-23T11:50:55Z', 'speedMPH': 43, 'milepostLocation': {'subdivisionId': 106, 'trackName': 'MT 1', 'milepost': {'milepostNumber': 318.4505}}}, {'positionTime': '2022-06-23T11:52:55Z', 'speedMPH': 43, 'milepostLocation': {'subdivisionId': 106, 'trackName': 'MT 1', 'milepost': {'milepostNumber': 319.75415}}}, {'positionTime': '2022-06-23T11:54:55Z', 'speedMPH': 43, 'milepostLocation': {'subdivisionId': 106, 'trackName': 'MT 1', 'milepost': {'milepostNumber': 321.19598}}}, {'positionTime': '2022-06-23T11:56:55Z', 'speedMPH': 40, 'milepostLocation': {'subdivisionId': 106...</td>\n",
              "    </tr>\n",
              "    <tr>\n",
              "      <th>0</th>\n",
              "      <td>319.5837</td>\n",
              "      <td>[{'positionTime': '2022-06-23T11:52:29Z', 'speedMPH': 42, 'milepostLocation': {'subdivisionId': 106, 'trackName': 'MT 1', 'milepost': {'milepostNumber': 319.5837}}}, {'positionTime': '2022-06-23T11:54:29Z', 'speedMPH': 42, 'milepostLocation': {'subdivisionId': 106, 'trackName': 'MT 1', 'milepost': {'milepostNumber': 320.99207}}}, {'positionTime': '2022-06-23T11:56:29Z', 'speedMPH': 40, 'milepostLocation': {'subdivisionId': 106, 'trackName': 'MT 1', 'milepost': {'milepostNumber': 322.33743}}}, {'positionTime': '2022-06-23T11:58:29Z', 'speedMPH': 40, 'milepostLocation': {'subdivisionId': 106...</td>\n",
              "    </tr>\n",
              "    <tr>\n",
              "      <th>0</th>\n",
              "      <td>321.3070</td>\n",
              "      <td>[{'positionTime': '2022-06-23T11:55:08Z', 'speedMPH': 38, 'milepostLocation': {'subdivisionId': 106, 'trackName': 'MT 1', 'milepost': {'milepostNumber': 321.307}}}, {'positionTime': '2022-06-23T11:57:08Z', 'speedMPH': 40, 'milepostLocation': {'subdivisionId': 106, 'trackName': 'MT 1', 'milepost': {'milepostNumber': 322.63477}}}, {'positionTime': '2022-06-23T11:59:08Z', 'speedMPH': 48, 'milepostLocation': {'subdivisionId': 106, 'trackName': 'MT 1', 'milepost': {'milepostNumber': 324.12238}}}, {'positionTime': '2022-06-23T12:01:08Z', 'speedMPH': 50, 'milepostLocation': {'subdivisionId': 106,...</td>\n",
              "    </tr>\n",
              "    <tr>\n",
              "      <th>0</th>\n",
              "      <td>322.5925</td>\n",
              "      <td>[{'positionTime': '2022-06-23T11:57:09Z', 'speedMPH': 38, 'milepostLocation': {'subdivisionId': 106, 'trackName': 'MT 1', 'milepost': {'milepostNumber': 322.5925}}}, {'positionTime': '2022-06-23T11:59:09Z', 'speedMPH': 46, 'milepostLocation': {'subdivisionId': 106, 'trackName': 'MT 1', 'milepost': {'milepostNumber': 323.9869}}}, {'positionTime': '2022-06-23T12:01:09Z', 'speedMPH': 50, 'milepostLocation': {'subdivisionId': 106, 'trackName': 'MT 1', 'milepost': {'milepostNumber': 325.62582}}}, {'positionTime': '2022-06-23T12:03:09Z', 'speedMPH': 50, 'milepostLocation': {'subdivisionId': 106,...</td>\n",
              "    </tr>\n",
              "    <tr>\n",
              "      <th>0</th>\n",
              "      <td>324.1084</td>\n",
              "      <td>[{'positionTime': '2022-06-23T11:59:19Z', 'speedMPH': 44, 'milepostLocation': {'subdivisionId': 106, 'trackName': 'MT 1', 'milepost': {'milepostNumber': 324.1084}}}, {'positionTime': '2022-06-23T12:01:19Z', 'speedMPH': 50, 'milepostLocation': {'subdivisionId': 106, 'trackName': 'MT 1', 'milepost': {'milepostNumber': 325.6797}}}, {'positionTime': '2022-06-23T12:03:19Z', 'speedMPH': 50, 'milepostLocation': {'subdivisionId': 106, 'trackName': 'MT 1', 'milepost': {'milepostNumber': 327.34418}}}, {'positionTime': '2022-06-23T12:05:19Z', 'speedMPH': 50, 'milepostLocation': {'subdivisionId': 106,...</td>\n",
              "    </tr>\n",
              "  </tbody>\n",
              "</table>\n",
              "<p>33632 rows × 2 columns</p>\n",
              "</div>\n",
              "      <button class=\"colab-df-convert\" onclick=\"convertToInteractive('df-bb434fb1-54f5-440a-b138-c579614f6840')\"\n",
              "              title=\"Convert this dataframe to an interactive table.\"\n",
              "              style=\"display:none;\">\n",
              "        \n",
              "  <svg xmlns=\"http://www.w3.org/2000/svg\" height=\"24px\"viewBox=\"0 0 24 24\"\n",
              "       width=\"24px\">\n",
              "    <path d=\"M0 0h24v24H0V0z\" fill=\"none\"/>\n",
              "    <path d=\"M18.56 5.44l.94 2.06.94-2.06 2.06-.94-2.06-.94-.94-2.06-.94 2.06-2.06.94zm-11 1L8.5 8.5l.94-2.06 2.06-.94-2.06-.94L8.5 2.5l-.94 2.06-2.06.94zm10 10l.94 2.06.94-2.06 2.06-.94-2.06-.94-.94-2.06-.94 2.06-2.06.94z\"/><path d=\"M17.41 7.96l-1.37-1.37c-.4-.4-.92-.59-1.43-.59-.52 0-1.04.2-1.43.59L10.3 9.45l-7.72 7.72c-.78.78-.78 2.05 0 2.83L4 21.41c.39.39.9.59 1.41.59.51 0 1.02-.2 1.41-.59l7.78-7.78 2.81-2.81c.8-.78.8-2.07 0-2.86zM5.41 20L4 18.59l7.72-7.72 1.47 1.35L5.41 20z\"/>\n",
              "  </svg>\n",
              "      </button>\n",
              "      \n",
              "  <style>\n",
              "    .colab-df-container {\n",
              "      display:flex;\n",
              "      flex-wrap:wrap;\n",
              "      gap: 12px;\n",
              "    }\n",
              "\n",
              "    .colab-df-convert {\n",
              "      background-color: #E8F0FE;\n",
              "      border: none;\n",
              "      border-radius: 50%;\n",
              "      cursor: pointer;\n",
              "      display: none;\n",
              "      fill: #1967D2;\n",
              "      height: 32px;\n",
              "      padding: 0 0 0 0;\n",
              "      width: 32px;\n",
              "    }\n",
              "\n",
              "    .colab-df-convert:hover {\n",
              "      background-color: #E2EBFA;\n",
              "      box-shadow: 0px 1px 2px rgba(60, 64, 67, 0.3), 0px 1px 3px 1px rgba(60, 64, 67, 0.15);\n",
              "      fill: #174EA6;\n",
              "    }\n",
              "\n",
              "    [theme=dark] .colab-df-convert {\n",
              "      background-color: #3B4455;\n",
              "      fill: #D2E3FC;\n",
              "    }\n",
              "\n",
              "    [theme=dark] .colab-df-convert:hover {\n",
              "      background-color: #434B5C;\n",
              "      box-shadow: 0px 1px 3px 1px rgba(0, 0, 0, 0.15);\n",
              "      filter: drop-shadow(0px 1px 2px rgba(0, 0, 0, 0.3));\n",
              "      fill: #FFFFFF;\n",
              "    }\n",
              "  </style>\n",
              "\n",
              "      <script>\n",
              "        const buttonEl =\n",
              "          document.querySelector('#df-bb434fb1-54f5-440a-b138-c579614f6840 button.colab-df-convert');\n",
              "        buttonEl.style.display =\n",
              "          google.colab.kernel.accessAllowed ? 'block' : 'none';\n",
              "\n",
              "        async function convertToInteractive(key) {\n",
              "          const element = document.querySelector('#df-bb434fb1-54f5-440a-b138-c579614f6840');\n",
              "          const dataTable =\n",
              "            await google.colab.kernel.invokeFunction('convertToInteractive',\n",
              "                                                     [key], {});\n",
              "          if (!dataTable) return;\n",
              "\n",
              "          const docLinkHtml = 'Like what you see? Visit the ' +\n",
              "            '<a target=\"_blank\" href=https://colab.research.google.com/notebooks/data_table.ipynb>data table notebook</a>'\n",
              "            + ' to learn more about interactive tables.';\n",
              "          element.innerHTML = '';\n",
              "          dataTable['output_type'] = 'display_data';\n",
              "          await google.colab.output.renderOutput(dataTable, element);\n",
              "          const docLink = document.createElement('div');\n",
              "          docLink.innerHTML = docLinkHtml;\n",
              "          element.appendChild(docLink);\n",
              "        }\n",
              "      </script>\n",
              "    </div>\n",
              "  </div>\n",
              "  "
            ]
          },
          "metadata": {},
          "execution_count": 57
        }
      ]
    },
    {
      "cell_type": "code",
      "source": [
        "dfTrainsLearn = dfTrainsLearn.reset_index(drop=True)"
      ],
      "metadata": {
        "id": "Kw_c3Ddj4zN4"
      },
      "execution_count": 58,
      "outputs": []
    },
    {
      "cell_type": "code",
      "source": [
        "def findNextMilepost(trainsEntry, actualsEntry):\n",
        "  currMilepost = trainsEntry['lastReportedPosition.milepostLocation.milepost.milepostNumber']\n",
        "  value  = actualsEntry.loc[actualsEntry['milepostLocation.milepost.milepostNumber'] > currMilepost+1]\n",
        "  if (len(value) > 0) :\n",
        "    return value[value['milepostLocation.milepost.milepostNumber'] == value['milepostLocation.milepost.milepostNumber'].min()]\n",
        "  value  = actualsEntry.loc[actualsEntry['milepostLocation.milepost.milepostNumber'] < currMilepost-1]\n",
        "  if (len(value) > 0):\n",
        "    return value[value['milepostLocation.milepost.milepostNumber'] == value['milepostLocation.milepost.milepostNumber'].max()]\n",
        "  return []"
      ],
      "metadata": {
        "id": "-gfZhQNSsxeV"
      },
      "execution_count": 99,
      "outputs": []
    },
    {
      "cell_type": "code",
      "source": [
        "def findNextSpeed(trainsEntry, actualsEntry):\n",
        "  nextActual = findNextMilepost(trainsEntry, actualsEntry)\n",
        "  if (len(nextActual) > 0):\n",
        "    amt = (abs(nextActual.iloc[0]['speedMPH']) - abs(trainsEntry['lastReportedPosition.speedMPH']))\n",
        "    return amt;\n",
        "  return None"
      ],
      "metadata": {
        "id": "i_JszmqL0MR6"
      },
      "execution_count": 121,
      "outputs": []
    },
    {
      "cell_type": "code",
      "source": [
        "idx = 3291\n",
        "print(dfTrainsLearn.iloc[idx]['ptcLeadLocomotiveId'])\n",
        "print(dfTrainsLearn.iloc[idx]['trainId.trainSymbol'])\n",
        "print(\"Reported speed: \", dfTrainsLearn.iloc[idx]['lastReportedPosition.speedMPH'])\n",
        "print(\"Reported MP: \", dfTrainsLearn.iloc[idx]['lastReportedPosition.milepostLocation.milepost.milepostNumber'])\n",
        "print(\"Reported Time: \", dfTrainsLearn.iloc[idx]['lastReportedPosition.positionTime'])\n",
        "\n",
        "nextActual = findNextMilepost(dfTrainsLearn.iloc[idx], dfTrainsLearnActuals.iloc[idx])\n",
        "print(nextActual)\n",
        "nextSpeed = findNextSpeed(dfTrainsLearn.iloc[idx], dfTrainsLearnActuals.iloc[idx])\n",
        "print(\"actual speed: \",nextSpeed)\n",
        "beopJSON = dfTrainsBeop.iloc[idx]['trainEstimatedPositionList']\n",
        "if not type(beopJSON) is float and len(beopJSON) > 0:\n",
        "  beopDT = pd.json_normalize(beopJSON)\n",
        "  nextBeop = findNextMilepost(dfTrainsLearn.iloc[idx], beopDT)\n",
        "  print(nextBeop)\n",
        "  type(dfTrainsBeop.iloc[idx]['trainEstimatedPositionList'])\n",
        "  print(\"beop speed: \")\n",
        "  value = findNextSpeed(dfTrainsLearn.iloc[idx], beopDT)\n",
        "  print(value)\n",
        "#   print('na')"
      ],
      "metadata": {
        "id": "F_hQFHKztIu-",
        "colab": {
          "base_uri": "https://localhost:8080/"
        },
        "outputId": "dc313fea-ca87-4a75-e9a6-941ee2cacb7c"
      },
      "execution_count": 123,
      "outputs": [
        {
          "output_type": "stream",
          "name": "stdout",
          "text": [
            "UP2533\n",
            "CWSWT9\n",
            "Reported speed:  49\n",
            "Reported MP:  283.9285\n",
            "Reported Time:  2022-06-23T11:11:58Z\n",
            "           positionTime  speedMPH  milepostLocation.subdivisionId  \\\n",
            "0  2022-06-23T11:13:58Z        52                             106   \n",
            "\n",
            "  milepostLocation.trackName  milepostLocation.milepost.milepostNumber  \n",
            "0                       MT 1                                 285.63345  \n",
            "actual speed:  3\n",
            "           positionTime  speedMPH  milepostLocation.subdivisionId  \\\n",
            "1  2022-06-23T11:13:58Z        58                             106   \n",
            "\n",
            "  milepostLocation.trackName  milepostLocation.milepost.milepostNumber  \n",
            "1                       MT 1                                 285.68976  \n",
            "beop speed: \n",
            "9\n"
          ]
        }
      ]
    },
    {
      "cell_type": "code",
      "source": [
        "dfTrainsLearn['nextSpeed'] = np.NaN\n",
        "dfTrainsLearn['nextBeop'] = np.NaN\n",
        "i = 0;\n",
        "for index, trainsEntry in dfTrainsLearn.iterrows():\n",
        "  nextSpeed = findNextSpeed(trainsEntry, dfTrainsLearnActuals.iloc[i])\n",
        "  if (nextSpeed != None):\n",
        "    dfTrainsLearn.at[i,'nextSpeed'] = nextSpeed\n",
        "  beopJSON = dfTrainsBeop.iloc[i]['trainEstimatedPositionList']\n",
        "  if not type(beopJSON) is float and len(beopJSON) > 0:\n",
        "    try:\n",
        "      beopDT = pd.json_normalize(beopJSON)\n",
        "      nextBeop = findNextSpeed(trainsEntry, beopDT)\n",
        "      if (nextBeop != None):\n",
        "        dfTrainsLearn.at[i,'nextBeop'] = nextSpeed\n",
        "    except NotImplementedError:\n",
        "      print(type(beopJSON))\n",
        "    except KeyError:\n",
        "      print(beopJSON)\n",
        "  if (i % 1000 == 0):\n",
        "    print(i)\n",
        "  i = i + 1"
      ],
      "metadata": {
        "id": "fG2U-anX-jbt",
        "colab": {
          "base_uri": "https://localhost:8080/"
        },
        "outputId": "d69aedfe-c7d3-438e-e51e-c230789b9c48"
      },
      "execution_count": 125,
      "outputs": [
        {
          "output_type": "stream",
          "name": "stdout",
          "text": [
            "0\n",
            "1000\n",
            "2000\n",
            "3000\n",
            "4000\n",
            "5000\n",
            "6000\n",
            "7000\n",
            "8000\n",
            "9000\n",
            "10000\n",
            "11000\n",
            "12000\n",
            "13000\n",
            "14000\n",
            "15000\n",
            "16000\n",
            "17000\n",
            "18000\n",
            "19000\n",
            "20000\n",
            "21000\n",
            "22000\n",
            "23000\n",
            "24000\n",
            "25000\n",
            "26000\n",
            "27000\n",
            "28000\n",
            "29000\n",
            "30000\n",
            "31000\n",
            "32000\n",
            "33000\n"
          ]
        }
      ]
    },
    {
      "cell_type": "code",
      "source": [
        "dfTrainsLearn['nextSpeed'].unique()"
      ],
      "metadata": {
        "id": "BpeBp1Jfu-Hj",
        "colab": {
          "base_uri": "https://localhost:8080/"
        },
        "outputId": "26fbd864-00bd-499c-c383-fe59396a63b2"
      },
      "execution_count": 176,
      "outputs": [
        {
          "output_type": "execute_result",
          "data": {
            "text/plain": [
              "array([  4.,   9.,   8.,   2.,  -1.,  -4.,  -3.,  -2.,   1.,   0.,   3.,   6.,  10.,  13.,  11.,  15.,  12.,   5.,  16.,  21.,  14.,  17., -13.,  22.,  18.,  24.,  20.,  -7., -17.,  -6., -10.,   7.,\n",
              "        -5., -11.,  25.,  27., -21.,  19., -19.,  -8.,  23.,  32.,  36., -12.,  -9., -22., -20., -14., -23.,  29.,  28., -26., -15., -18.,  26., -25.,  31.,  30., -41.,  34.,  33.,  40.,  38.,  37.,\n",
              "       -33., -34., -16.,  41., -24.,  35., -28., -30.,  39.,  44.,  45.,  46., -32., -36.,  49.,  42.,  68.,  52.,  53., -31., -27., -40.,  43.,  50., -43.,  63., -29.,  48., -45.,  69.,  65., -39.,\n",
              "       -35., -49., -55., -42., -38.,  51., -37., -47.])"
            ]
          },
          "metadata": {},
          "execution_count": 176
        }
      ]
    },
    {
      "cell_type": "code",
      "source": [
        "dfTrainsLearn = dfTrainsLearn.dropna(subset=['nextSpeed'])\n",
        "dfTrainsLearn['nextSpeed'].unique()"
      ],
      "metadata": {
        "colab": {
          "base_uri": "https://localhost:8080/"
        },
        "id": "lQz8KQHM3SdN",
        "outputId": "5b994a16-b2f3-4d1a-8b2e-0ad42c82a59d"
      },
      "execution_count": 177,
      "outputs": [
        {
          "output_type": "execute_result",
          "data": {
            "text/plain": [
              "array([  4.,   9.,   8.,   2.,  -1.,  -4.,  -3.,  -2.,   1.,   0.,   3.,   6.,  10.,  13.,  11.,  15.,  12.,   5.,  16.,  21.,  14.,  17., -13.,  22.,  18.,  24.,  20.,  -7., -17.,  -6., -10.,   7.,\n",
              "        -5., -11.,  25.,  27., -21.,  19., -19.,  -8.,  23.,  32.,  36., -12.,  -9., -22., -20., -14., -23.,  29.,  28., -26., -15., -18.,  26., -25.,  31.,  30., -41.,  34.,  33.,  40.,  38.,  37.,\n",
              "       -33., -34., -16.,  41., -24.,  35., -28., -30.,  39.,  44.,  45.,  46., -32., -36.,  49.,  42.,  68.,  52.,  53., -31., -27., -40.,  43.,  50., -43.,  63., -29.,  48., -45.,  69.,  65., -39.,\n",
              "       -35., -49., -55., -42., -38.,  51., -37., -47.])"
            ]
          },
          "metadata": {},
          "execution_count": 177
        }
      ]
    },
    {
      "cell_type": "code",
      "source": [
        "dfTrainsLearn['nextSpeed'].hist(bins=200)"
      ],
      "metadata": {
        "id": "IOWDvvGusUBm",
        "colab": {
          "base_uri": "https://localhost:8080/",
          "height": 282
        },
        "outputId": "e11a76db-4230-4e27-ab5c-9e86b317946c"
      },
      "execution_count": 178,
      "outputs": [
        {
          "output_type": "execute_result",
          "data": {
            "text/plain": [
              "<matplotlib.axes._subplots.AxesSubplot at 0x7fca12839410>"
            ]
          },
          "metadata": {},
          "execution_count": 178
        },
        {
          "output_type": "display_data",
          "data": {
            "text/plain": [
              "<Figure size 432x288 with 1 Axes>"
            ],
            "image/png": "[encoded data removed]"
          },
          "metadata": {
            "needs_background": "light"
          }
        }
      ]
    },
    {
      "cell_type": "code",
      "source": [
        "dfTrainsLearn['nextBeop'].unique()"
      ],
      "metadata": {
        "id": "bdSnFJoMWVrn",
        "colab": {
          "base_uri": "https://localhost:8080/"
        },
        "outputId": "752386b4-b0b8-4f3b-ba74-9622cde2131e"
      },
      "execution_count": 128,
      "outputs": [
        {
          "output_type": "execute_result",
          "data": {
            "text/plain": [
              "array([ nan,   1.,   4.,  16.,  21.,  14.,  17.,  -2., -13.,  12.,   6.,   2.,  -1.,   0.,  -4.,  -3.,  -7., -17.,  -5.,   3., -10., -11.,   7.,  18.,  10.,   5., -21.,  13.,  -6.,   9., -19.,  -8.,\n",
              "        22., -12.,   8.,  11.,  -9., -22.,  15., -14., -23., -20.,  19., -26.,  20., -15., -18., -25.,  23.,  25., -41., -33., -34., -16.,  26.,  24.,  29., -24.,  31.,  32.,  27., -28., -30.,  30.,\n",
              "        28., -32.,  33., -36.,  46.,  52.,  53., -31., -27., -40.,  38.,  43.,  45.,  40.,  39., -43.,  36.,  63.,  41., -29.,  48., -45.,  68.,  65.,  35., -39., -35., -49., -55., -42., -38.,  34.,\n",
              "       -37., -47.])"
            ]
          },
          "metadata": {},
          "execution_count": 128
        }
      ]
    },
    {
      "cell_type": "code",
      "source": [
        "dfTrainsLearn['nextBeop'].hist(bins=200)"
      ],
      "metadata": {
        "id": "K7WQR074WuDQ",
        "colab": {
          "base_uri": "https://localhost:8080/",
          "height": 282
        },
        "outputId": "45d94363-5eca-4657-e1b0-15bdcc0297a0"
      },
      "execution_count": 129,
      "outputs": [
        {
          "output_type": "execute_result",
          "data": {
            "text/plain": [
              "<matplotlib.axes._subplots.AxesSubplot at 0x7fcab670a210>"
            ]
          },
          "metadata": {},
          "execution_count": 129
        },
        {
          "output_type": "display_data",
          "data": {
            "text/plain": [
              "<Figure size 432x288 with 1 Axes>"
            ],
            "image/png": "[encoded data removed]"
          },
          "metadata": {
            "needs_background": "light"
          }
        }
      ]
    },
    {
      "cell_type": "markdown",
      "source": [
        "Drop some values we are not using at the moment not needed"
      ],
      "metadata": {
        "id": "moXjNcMQu-3C"
      }
    },
    {
      "cell_type": "code",
      "source": [
        "dfTrainsNextBeop = dfTrainsLearn['nextBeop']"
      ],
      "metadata": {
        "id": "k1sGN4n_2bDU"
      },
      "execution_count": 157,
      "outputs": []
    },
    {
      "cell_type": "code",
      "source": [
        "dfTrainsLearn = dfTrainsLearn.drop(columns=['aotuTrainData.tenantCarrier',\n",
        "                                            'nextBeop',\n",
        "                                            # 'lastReportedPosition.precedingSignalState.currentStateTime', \n",
        "                                            # 'lastReportedPosition.nextSignalState.previousSignalState', \n",
        "                                            # 'lastReportedPosition.nextSignalState.currentStateTime', \n",
        "                                            'positionHistoryList',\n",
        "                                            'locomotiveList',\n",
        "                                            'subdivisionList',\n",
        "                                            'trainActualPositionList',\n",
        "                                            'trainEstimatedPositionList',\n",
        "                                            'aotuTrainData.routeLocationList'])"
      ],
      "metadata": {
        "id": "hBmsqv6IuVVO"
      },
      "execution_count": 130,
      "outputs": []
    },
    {
      "cell_type": "code",
      "source": [
        "tabular.core.make_date(dfTrainsLearn, 'trainId.trainDate')\n",
        "tabular.core.make_date(dfTrainsLearn, 'lastReportedPosition.positionTime')\n",
        "tabular.core.add_datepart(dfTrainsLearn, 'lastReportedPosition.positionTime')\n",
        "# tabular.core.add_elapsed_times(dfTrainsLearn, 'lastReportedPosition.positionTime')\n"
      ],
      "metadata": {
        "id": "DjTAxScsbHCN",
        "colab": {
          "base_uri": "https://localhost:8080/",
          "height": 488
        },
        "outputId": "0f6ef96a-4eca-4a80-e647-b9ab88aaa7fa"
      },
      "execution_count": 131,
      "outputs": [
        {
          "output_type": "execute_result",
          "data": {
            "text/plain": [
              "      ptcLeadLocomotiveId trainId.trainSCAC trainId.trainSection  \\\n",
              "0                 AMTK179                UP                        \n",
              "1                 AMTK179                UP                        \n",
              "2                 AMTK179                UP                        \n",
              "3                 AMTK186                UP                        \n",
              "4                 AMTK186                UP                        \n",
              "...                   ...               ...                  ...   \n",
              "33627              UP9101                UP                        \n",
              "33628              UP9101                UP                        \n",
              "33629              UP9101                UP                        \n",
              "33630              UP9101                UP                        \n",
              "33631              UP9101                UP                        \n",
              "\n",
              "      trainId.trainSymbol  ...  \\\n",
              "0                    AMT1  ...   \n",
              "1                    AMT1  ...   \n",
              "2                    AMT1  ...   \n",
              "3                    AMT1  ...   \n",
              "4                    AMT1  ...   \n",
              "...                   ...  ...   \n",
              "33627               MCHCB  ...   \n",
              "33628               MCHCB  ...   \n",
              "33629               MCHCB  ...   \n",
              "33630               MCHCB  ...   \n",
              "33631               MCHCB  ...   \n",
              "\n",
              "      lastReportedPosition.positionTimeIs_quarter_start  \\\n",
              "0                                                 False   \n",
              "1                                                 False   \n",
              "2                                                 False   \n",
              "3                                                 False   \n",
              "4                                                 False   \n",
              "...                                                 ...   \n",
              "33627                                             False   \n",
              "33628                                             False   \n",
              "33629                                             False   \n",
              "33630                                             False   \n",
              "33631                                             False   \n",
              "\n",
              "       lastReportedPosition.positionTimeIs_year_end  \\\n",
              "0                                             False   \n",
              "1                                             False   \n",
              "2                                             False   \n",
              "3                                             False   \n",
              "4                                             False   \n",
              "...                                             ...   \n",
              "33627                                         False   \n",
              "33628                                         False   \n",
              "33629                                         False   \n",
              "33630                                         False   \n",
              "33631                                         False   \n",
              "\n",
              "       lastReportedPosition.positionTimeIs_year_start  \\\n",
              "0                                               False   \n",
              "1                                               False   \n",
              "2                                               False   \n",
              "3                                               False   \n",
              "4                                               False   \n",
              "...                                               ...   \n",
              "33627                                           False   \n",
              "33628                                           False   \n",
              "33629                                           False   \n",
              "33630                                           False   \n",
              "33631                                           False   \n",
              "\n",
              "      lastReportedPosition.positionTimeElapsed  \n",
              "0                                 1.655761e+09  \n",
              "1                                 1.655761e+09  \n",
              "2                                 1.655761e+09  \n",
              "3                                 1.655938e+09  \n",
              "4                                 1.655938e+09  \n",
              "...                                        ...  \n",
              "33627                             1.655985e+09  \n",
              "33628                             1.655985e+09  \n",
              "33629                             1.655985e+09  \n",
              "33630                             1.655985e+09  \n",
              "33631                             1.655986e+09  \n",
              "\n",
              "[33632 rows x 48 columns]"
            ],
            "text/html": [
              "\n",
              "  <div id=\"df-f221d8f6-bc28-42e0-9e4b-db0e188e9087\">\n",
              "    <div class=\"colab-df-container\">\n",
              "      <div>\n",
              "<style scoped>\n",
              "    .dataframe tbody tr th:only-of-type {\n",
              "        vertical-align: middle;\n",
              "    }\n",
              "\n",
              "    .dataframe tbody tr th {\n",
              "        vertical-align: top;\n",
              "    }\n",
              "\n",
              "    .dataframe thead th {\n",
              "        text-align: right;\n",
              "    }\n",
              "</style>\n",
              "<table border=\"1\" class=\"dataframe\">\n",
              "  <thead>\n",
              "    <tr style=\"text-align: right;\">\n",
              "      <th></th>\n",
              "      <th>ptcLeadLocomotiveId</th>\n",
              "      <th>trainId.trainSCAC</th>\n",
              "      <th>trainId.trainSection</th>\n",
              "      <th>trainId.trainSymbol</th>\n",
              "      <th>...</th>\n",
              "      <th>lastReportedPosition.positionTimeIs_quarter_start</th>\n",
              "      <th>lastReportedPosition.positionTimeIs_year_end</th>\n",
              "      <th>lastReportedPosition.positionTimeIs_year_start</th>\n",
              "      <th>lastReportedPosition.positionTimeElapsed</th>\n",
              "    </tr>\n",
              "  </thead>\n",
              "  <tbody>\n",
              "    <tr>\n",
              "      <th>0</th>\n",
              "      <td>AMTK179</td>\n",
              "      <td>UP</td>\n",
              "      <td></td>\n",
              "      <td>AMT1</td>\n",
              "      <td>...</td>\n",
              "      <td>False</td>\n",
              "      <td>False</td>\n",
              "      <td>False</td>\n",
              "      <td>1.655761e+09</td>\n",
              "    </tr>\n",
              "    <tr>\n",
              "      <th>1</th>\n",
              "      <td>AMTK179</td>\n",
              "      <td>UP</td>\n",
              "      <td></td>\n",
              "      <td>AMT1</td>\n",
              "      <td>...</td>\n",
              "      <td>False</td>\n",
              "      <td>False</td>\n",
              "      <td>False</td>\n",
              "      <td>1.655761e+09</td>\n",
              "    </tr>\n",
              "    <tr>\n",
              "      <th>2</th>\n",
              "      <td>AMTK179</td>\n",
              "      <td>UP</td>\n",
              "      <td></td>\n",
              "      <td>AMT1</td>\n",
              "      <td>...</td>\n",
              "      <td>False</td>\n",
              "      <td>False</td>\n",
              "      <td>False</td>\n",
              "      <td>1.655761e+09</td>\n",
              "    </tr>\n",
              "    <tr>\n",
              "      <th>3</th>\n",
              "      <td>AMTK186</td>\n",
              "      <td>UP</td>\n",
              "      <td></td>\n",
              "      <td>AMT1</td>\n",
              "      <td>...</td>\n",
              "      <td>False</td>\n",
              "      <td>False</td>\n",
              "      <td>False</td>\n",
              "      <td>1.655938e+09</td>\n",
              "    </tr>\n",
              "    <tr>\n",
              "      <th>4</th>\n",
              "      <td>AMTK186</td>\n",
              "      <td>UP</td>\n",
              "      <td></td>\n",
              "      <td>AMT1</td>\n",
              "      <td>...</td>\n",
              "      <td>False</td>\n",
              "      <td>False</td>\n",
              "      <td>False</td>\n",
              "      <td>1.655938e+09</td>\n",
              "    </tr>\n",
              "    <tr>\n",
              "      <th>...</th>\n",
              "      <td>...</td>\n",
              "      <td>...</td>\n",
              "      <td>...</td>\n",
              "      <td>...</td>\n",
              "      <td>...</td>\n",
              "      <td>...</td>\n",
              "      <td>...</td>\n",
              "      <td>...</td>\n",
              "      <td>...</td>\n",
              "    </tr>\n",
              "    <tr>\n",
              "      <th>33627</th>\n",
              "      <td>UP9101</td>\n",
              "      <td>UP</td>\n",
              "      <td></td>\n",
              "      <td>MCHCB</td>\n",
              "      <td>...</td>\n",
              "      <td>False</td>\n",
              "      <td>False</td>\n",
              "      <td>False</td>\n",
              "      <td>1.655985e+09</td>\n",
              "    </tr>\n",
              "    <tr>\n",
              "      <th>33628</th>\n",
              "      <td>UP9101</td>\n",
              "      <td>UP</td>\n",
              "      <td></td>\n",
              "      <td>MCHCB</td>\n",
              "      <td>...</td>\n",
              "      <td>False</td>\n",
              "      <td>False</td>\n",
              "      <td>False</td>\n",
              "      <td>1.655985e+09</td>\n",
              "    </tr>\n",
              "    <tr>\n",
              "      <th>33629</th>\n",
              "      <td>UP9101</td>\n",
              "      <td>UP</td>\n",
              "      <td></td>\n",
              "      <td>MCHCB</td>\n",
              "      <td>...</td>\n",
              "      <td>False</td>\n",
              "      <td>False</td>\n",
              "      <td>False</td>\n",
              "      <td>1.655985e+09</td>\n",
              "    </tr>\n",
              "    <tr>\n",
              "      <th>33630</th>\n",
              "      <td>UP9101</td>\n",
              "      <td>UP</td>\n",
              "      <td></td>\n",
              "      <td>MCHCB</td>\n",
              "      <td>...</td>\n",
              "      <td>False</td>\n",
              "      <td>False</td>\n",
              "      <td>False</td>\n",
              "      <td>1.655985e+09</td>\n",
              "    </tr>\n",
              "    <tr>\n",
              "      <th>33631</th>\n",
              "      <td>UP9101</td>\n",
              "      <td>UP</td>\n",
              "      <td></td>\n",
              "      <td>MCHCB</td>\n",
              "      <td>...</td>\n",
              "      <td>False</td>\n",
              "      <td>False</td>\n",
              "      <td>False</td>\n",
              "      <td>1.655986e+09</td>\n",
              "    </tr>\n",
              "  </tbody>\n",
              "</table>\n",
              "<p>33632 rows × 48 columns</p>\n",
              "</div>\n",
              "      <button class=\"colab-df-convert\" onclick=\"convertToInteractive('df-f221d8f6-bc28-42e0-9e4b-db0e188e9087')\"\n",
              "              title=\"Convert this dataframe to an interactive table.\"\n",
              "              style=\"display:none;\">\n",
              "        \n",
              "  <svg xmlns=\"http://www.w3.org/2000/svg\" height=\"24px\"viewBox=\"0 0 24 24\"\n",
              "       width=\"24px\">\n",
              "    <path d=\"M0 0h24v24H0V0z\" fill=\"none\"/>\n",
              "    <path d=\"M18.56 5.44l.94 2.06.94-2.06 2.06-.94-2.06-.94-.94-2.06-.94 2.06-2.06.94zm-11 1L8.5 8.5l.94-2.06 2.06-.94-2.06-.94L8.5 2.5l-.94 2.06-2.06.94zm10 10l.94 2.06.94-2.06 2.06-.94-2.06-.94-.94-2.06-.94 2.06-2.06.94z\"/><path d=\"M17.41 7.96l-1.37-1.37c-.4-.4-.92-.59-1.43-.59-.52 0-1.04.2-1.43.59L10.3 9.45l-7.72 7.72c-.78.78-.78 2.05 0 2.83L4 21.41c.39.39.9.59 1.41.59.51 0 1.02-.2 1.41-.59l7.78-7.78 2.81-2.81c.8-.78.8-2.07 0-2.86zM5.41 20L4 18.59l7.72-7.72 1.47 1.35L5.41 20z\"/>\n",
              "  </svg>\n",
              "      </button>\n",
              "      \n",
              "  <style>\n",
              "    .colab-df-container {\n",
              "      display:flex;\n",
              "      flex-wrap:wrap;\n",
              "      gap: 12px;\n",
              "    }\n",
              "\n",
              "    .colab-df-convert {\n",
              "      background-color: #E8F0FE;\n",
              "      border: none;\n",
              "      border-radius: 50%;\n",
              "      cursor: pointer;\n",
              "      display: none;\n",
              "      fill: #1967D2;\n",
              "      height: 32px;\n",
              "      padding: 0 0 0 0;\n",
              "      width: 32px;\n",
              "    }\n",
              "\n",
              "    .colab-df-convert:hover {\n",
              "      background-color: #E2EBFA;\n",
              "      box-shadow: 0px 1px 2px rgba(60, 64, 67, 0.3), 0px 1px 3px 1px rgba(60, 64, 67, 0.15);\n",
              "      fill: #174EA6;\n",
              "    }\n",
              "\n",
              "    [theme=dark] .colab-df-convert {\n",
              "      background-color: #3B4455;\n",
              "      fill: #D2E3FC;\n",
              "    }\n",
              "\n",
              "    [theme=dark] .colab-df-convert:hover {\n",
              "      background-color: #434B5C;\n",
              "      box-shadow: 0px 1px 3px 1px rgba(0, 0, 0, 0.15);\n",
              "      filter: drop-shadow(0px 1px 2px rgba(0, 0, 0, 0.3));\n",
              "      fill: #FFFFFF;\n",
              "    }\n",
              "  </style>\n",
              "\n",
              "      <script>\n",
              "        const buttonEl =\n",
              "          document.querySelector('#df-f221d8f6-bc28-42e0-9e4b-db0e188e9087 button.colab-df-convert');\n",
              "        buttonEl.style.display =\n",
              "          google.colab.kernel.accessAllowed ? 'block' : 'none';\n",
              "\n",
              "        async function convertToInteractive(key) {\n",
              "          const element = document.querySelector('#df-f221d8f6-bc28-42e0-9e4b-db0e188e9087');\n",
              "          const dataTable =\n",
              "            await google.colab.kernel.invokeFunction('convertToInteractive',\n",
              "                                                     [key], {});\n",
              "          if (!dataTable) return;\n",
              "\n",
              "          const docLinkHtml = 'Like what you see? Visit the ' +\n",
              "            '<a target=\"_blank\" href=https://colab.research.google.com/notebooks/data_table.ipynb>data table notebook</a>'\n",
              "            + ' to learn more about interactive tables.';\n",
              "          element.innerHTML = '';\n",
              "          dataTable['output_type'] = 'display_data';\n",
              "          await google.colab.output.renderOutput(dataTable, element);\n",
              "          const docLink = document.createElement('div');\n",
              "          docLink.innerHTML = docLinkHtml;\n",
              "          element.appendChild(docLink);\n",
              "        }\n",
              "      </script>\n",
              "    </div>\n",
              "  </div>\n",
              "  "
            ]
          },
          "metadata": {},
          "execution_count": 131
        }
      ]
    },
    {
      "cell_type": "code",
      "source": [
        "print(dfTrainsLearn.shape)\n",
        "print(dfTrainsLearnActuals.shape)\n",
        "\n",
        "print(dfTrainsLearn.info())\n",
        "print(dfTrainsLearn.iloc[100])"
      ],
      "metadata": {
        "id": "jTVXPBSQ2gp3",
        "colab": {
          "base_uri": "https://localhost:8080/"
        },
        "outputId": "b2bd1da5-63c5-4552-a8d9-0fa0093710eb"
      },
      "execution_count": 160,
      "outputs": [
        {
          "output_type": "stream",
          "name": "stdout",
          "text": [
            "(33632, 47)\n",
            "(33632,)\n",
            "<class 'pandas.core.frame.DataFrame'>\n",
            "RangeIndex: 33632 entries, 0 to 33631\n",
            "Data columns (total 47 columns):\n",
            " #   Column                                                         Non-Null Count  Dtype         \n",
            "---  ------                                                         --------------  -----         \n",
            " 0   ptcLeadLocomotiveId                                            33632 non-null  object        \n",
            " 1   trainId.trainSCAC                                              33632 non-null  object        \n",
            " 2   trainId.trainSection                                           33632 non-null  object        \n",
            " 3   trainId.trainSymbol                                            33632 non-null  object        \n",
            " 4   trainId.trainDate                                              33632 non-null  datetime64[ns]\n",
            " 5   lastReportedPosition.speedMPH                                  33632 non-null  int64         \n",
            " 6   lastReportedPosition.milepostLocation.subdivisionId            33632 non-null  int64         \n",
            " 7   lastReportedPosition.milepostLocation.trackName                32491 non-null  category      \n",
            " 8   lastReportedPosition.milepostLocation.milepost.milepostNumber  33632 non-null  float64       \n",
            " 9   aotuTrainData.priorityCode                                     33632 non-null  float64       \n",
            " 10  aotuTrainData.categoryCode                                     33632 non-null  float64       \n",
            " 11  aotuTrainData.authorityRangeCode                               33632 non-null  float64       \n",
            " 12  aotuTrainData.ownershipCode                                    33632 non-null  float64       \n",
            " 13  aotuTrainData.totalCarWeight                                   33632 non-null  float64       \n",
            " 14  aotuTrainData.totalCarLength                                   33632 non-null  float64       \n",
            " 15  aotuTrainData.totalLocomotiveWeight                            33632 non-null  float64       \n",
            " 16  aotuTrainData.totalLocomotiveLength                            33632 non-null  float64       \n",
            " 17  aotuTrainData.actualTonsPerAxle                                33632 non-null  float64       \n",
            " 18  aotuTrainData.heavy143TonCarCount                              33632 non-null  float64       \n",
            " 19  aotuTrainData.heavy158TonCarCount                              33632 non-null  float64       \n",
            " 20  aotuTrainData.over158TonCarCount                               33632 non-null  float64       \n",
            " 21  aotuTrainData.highWideCarCount                                 33632 non-null  float64       \n",
            " 22  aotuTrainData.eventCode                                        33632 non-null  float64       \n",
            " 23  maximumTrainSpeed                                              33632 non-null  float64       \n",
            " 24  loadedCarCount                                                 33632 non-null  float64       \n",
            " 25  emptyCarCount                                                  33632 non-null  float64       \n",
            " 26  trainLength                                                    33632 non-null  float64       \n",
            " 27  trailingTonnage                                                33632 non-null  float64       \n",
            " 28  milepost                                                       33632 non-null  int64         \n",
            " 29  mpIncr                                                         33632 non-null  bool          \n",
            " 30  symbolType                                                     0 non-null      category      \n",
            " 31  workLocations                                                  29016 non-null  object        \n",
            " 32  locomotiveCount                                                33632 non-null  int64         \n",
            " 33  nextSpeed                                                      31554 non-null  float64       \n",
            " 34  lastReportedPosition.positionTimeYear                          33632 non-null  int64         \n",
            " 35  lastReportedPosition.positionTimeMonth                         33632 non-null  int64         \n",
            " 36  lastReportedPosition.positionTimeWeek                          33632 non-null  int64         \n",
            " 37  lastReportedPosition.positionTimeDay                           33632 non-null  int64         \n",
            " 38  lastReportedPosition.positionTimeDayofweek                     33632 non-null  int64         \n",
            " 39  lastReportedPosition.positionTimeDayofyear                     33632 non-null  int64         \n",
            " 40  lastReportedPosition.positionTimeIs_month_end                  33632 non-null  bool          \n",
            " 41  lastReportedPosition.positionTimeIs_month_start                33632 non-null  bool          \n",
            " 42  lastReportedPosition.positionTimeIs_quarter_end                33632 non-null  bool          \n",
            " 43  lastReportedPosition.positionTimeIs_quarter_start              33632 non-null  bool          \n",
            " 44  lastReportedPosition.positionTimeIs_year_end                   33632 non-null  bool          \n",
            " 45  lastReportedPosition.positionTimeIs_year_start                 33632 non-null  bool          \n",
            " 46  lastReportedPosition.positionTimeElapsed                       33632 non-null  float64       \n",
            "dtypes: bool(7), category(2), datetime64[ns](1), float64(22), int64(10), object(5)\n",
            "memory usage: 10.0+ MB\n",
            "None\n",
            "ptcLeadLocomotiveId                                             BNSF5082\n",
            "trainId.trainSCAC                                                     UP\n",
            "trainId.trainSection                                                    \n",
            "trainId.trainSymbol                                               QIJDYJ\n",
            "trainId.trainDate                                    2022-06-20 00:00:00\n",
            "                                                            ...         \n",
            "lastReportedPosition.positionTimeIs_quarter_end                    False\n",
            "lastReportedPosition.positionTimeIs_quarter_start                  False\n",
            "lastReportedPosition.positionTimeIs_year_end                       False\n",
            "lastReportedPosition.positionTimeIs_year_start                     False\n",
            "lastReportedPosition.positionTimeElapsed                    1655849001.0\n",
            "Name: 100, Length: 47, dtype: object\n"
          ]
        }
      ]
    },
    {
      "cell_type": "markdown",
      "source": [
        "# Use Decision Tree to predict speed in 1 mile"
      ],
      "metadata": {
        "id": "mg1p1vouBeIB"
      }
    },
    {
      "cell_type": "code",
      "source": [
        "procs = [tabular.core.Categorify, tabular.core.FillMissing]"
      ],
      "metadata": {
        "id": "F9TApkZWbAbz"
      },
      "execution_count": 179,
      "outputs": []
    },
    {
      "cell_type": "code",
      "source": [
        "print (dfTrainsLearn.groupby(['lastReportedPosition.positionTimeDayofyear'])['lastReportedPosition.positionTimeDayofyear'].count())\n"
      ],
      "metadata": {
        "id": "gDgYzofcvcpM",
        "colab": {
          "base_uri": "https://localhost:8080/"
        },
        "outputId": "963b9280-b352-4620-f9c3-a64a7427d9f8"
      },
      "execution_count": 180,
      "outputs": [
        {
          "output_type": "stream",
          "name": "stdout",
          "text": [
            "lastReportedPosition.positionTimeDayofyear\n",
            "171    4009\n",
            "172    4365\n",
            "173    3999\n",
            "174    5016\n",
            "175    4619\n",
            "176    4398\n",
            "177    4648\n",
            "178     500\n",
            "Name: lastReportedPosition.positionTimeDayofyear, dtype: int64\n"
          ]
        }
      ]
    },
    {
      "cell_type": "code",
      "source": [
        "cond = ( dfTrainsLearn['lastReportedPosition.positionTimeDayofyear'] < 175 )\n",
        "trainIdx = np.where(cond)[0]\n",
        "validIdx = np.where(~cond)[0]\n",
        "splits = (list(trainIdx), list(validIdx))"
      ],
      "metadata": {
        "id": "nIURJVe5vc_n"
      },
      "execution_count": 181,
      "outputs": []
    },
    {
      "cell_type": "code",
      "source": [
        "dep_var = 'nextSpeed'"
      ],
      "metadata": {
        "id": "rPW42wgnOLO_"
      },
      "execution_count": 182,
      "outputs": []
    },
    {
      "cell_type": "code",
      "source": [
        "cont,cat = tabular.core.cont_cat_split(dfTrainsLearn, 1, dep_var=dep_var)"
      ],
      "metadata": {
        "id": "gHDAeThzyzc6"
      },
      "execution_count": 183,
      "outputs": []
    },
    {
      "cell_type": "code",
      "source": [
        "to = tabular.core.TabularPandas(dfTrainsLearn, procs, cat, cont, y_names=dep_var, splits=splits)"
      ],
      "metadata": {
        "id": "xz1ZonvnO-I7"
      },
      "execution_count": 184,
      "outputs": []
    },
    {
      "cell_type": "code",
      "source": [
        "len(to.train),len(to.valid)"
      ],
      "metadata": {
        "id": "0DJly6_Z94uI",
        "colab": {
          "base_uri": "https://localhost:8080/"
        },
        "outputId": "3270bc6e-d45b-4130-cc0b-745a013bad4b"
      },
      "execution_count": 185,
      "outputs": [
        {
          "output_type": "execute_result",
          "data": {
            "text/plain": [
              "(17389, 14165)"
            ]
          },
          "metadata": {},
          "execution_count": 185
        }
      ]
    },
    {
      "cell_type": "code",
      "source": [
        "to.show()"
      ],
      "metadata": {
        "id": "xoEQAME4-n0M",
        "colab": {
          "base_uri": "https://localhost:8080/",
          "height": 383
        },
        "outputId": "4acce426-2f40-4cb7-d337-2f1d7f4c8cc6"
      },
      "execution_count": 186,
      "outputs": [
        {
          "output_type": "display_data",
          "data": {
            "text/plain": [
              "<IPython.core.display.HTML object>"
            ],
            "text/html": [
              "<table border=\"1\" class=\"dataframe\">\n",
              "  <thead>\n",
              "    <tr style=\"text-align: right;\">\n",
              "      <th></th>\n",
              "      <th>ptcLeadLocomotiveId</th>\n",
              "      <th>trainId.trainSCAC</th>\n",
              "      <th>trainId.trainSection</th>\n",
              "      <th>trainId.trainSymbol</th>\n",
              "      <th>trainId.trainDate</th>\n",
              "      <th>lastReportedPosition.milepostLocation.subdivisionId</th>\n",
              "      <th>lastReportedPosition.milepostLocation.trackName</th>\n",
              "      <th>mpIncr</th>\n",
              "      <th>symbolType</th>\n",
              "      <th>workLocations</th>\n",
              "      <th>lastReportedPosition.positionTimeYear</th>\n",
              "      <th>lastReportedPosition.positionTimeMonth</th>\n",
              "      <th>lastReportedPosition.positionTimeIs_month_end</th>\n",
              "      <th>lastReportedPosition.positionTimeIs_month_start</th>\n",
              "      <th>lastReportedPosition.positionTimeIs_quarter_end</th>\n",
              "      <th>lastReportedPosition.positionTimeIs_quarter_start</th>\n",
              "      <th>lastReportedPosition.positionTimeIs_year_end</th>\n",
              "      <th>lastReportedPosition.positionTimeIs_year_start</th>\n",
              "      <th>lastReportedPosition.speedMPH</th>\n",
              "      <th>lastReportedPosition.milepostLocation.milepost.milepostNumber</th>\n",
              "      <th>aotuTrainData.priorityCode</th>\n",
              "      <th>aotuTrainData.categoryCode</th>\n",
              "      <th>aotuTrainData.authorityRangeCode</th>\n",
              "      <th>aotuTrainData.ownershipCode</th>\n",
              "      <th>aotuTrainData.totalCarWeight</th>\n",
              "      <th>aotuTrainData.totalCarLength</th>\n",
              "      <th>aotuTrainData.totalLocomotiveWeight</th>\n",
              "      <th>aotuTrainData.totalLocomotiveLength</th>\n",
              "      <th>aotuTrainData.actualTonsPerAxle</th>\n",
              "      <th>aotuTrainData.heavy143TonCarCount</th>\n",
              "      <th>aotuTrainData.heavy158TonCarCount</th>\n",
              "      <th>aotuTrainData.over158TonCarCount</th>\n",
              "      <th>aotuTrainData.highWideCarCount</th>\n",
              "      <th>aotuTrainData.eventCode</th>\n",
              "      <th>maximumTrainSpeed</th>\n",
              "      <th>loadedCarCount</th>\n",
              "      <th>emptyCarCount</th>\n",
              "      <th>trainLength</th>\n",
              "      <th>trailingTonnage</th>\n",
              "      <th>milepost</th>\n",
              "      <th>locomotiveCount</th>\n",
              "      <th>lastReportedPosition.positionTimeWeek</th>\n",
              "      <th>lastReportedPosition.positionTimeDay</th>\n",
              "      <th>lastReportedPosition.positionTimeDayofweek</th>\n",
              "      <th>lastReportedPosition.positionTimeDayofyear</th>\n",
              "      <th>lastReportedPosition.positionTimeElapsed</th>\n",
              "      <th>nextSpeed</th>\n",
              "    </tr>\n",
              "  </thead>\n",
              "  <tbody>\n",
              "    <tr>\n",
              "      <th>1</th>\n",
              "      <td>AMTK179</td>\n",
              "      <td>UP</td>\n",
              "      <td></td>\n",
              "      <td>AMT1</td>\n",
              "      <td>2022-06-19</td>\n",
              "      <td>106</td>\n",
              "      <td>MAIN</td>\n",
              "      <td>True</td>\n",
              "      <td>#na#</td>\n",
              "      <td>#na#</td>\n",
              "      <td>2022</td>\n",
              "      <td>6</td>\n",
              "      <td>False</td>\n",
              "      <td>False</td>\n",
              "      <td>False</td>\n",
              "      <td>False</td>\n",
              "      <td>False</td>\n",
              "      <td>False</td>\n",
              "      <td>10</td>\n",
              "      <td>764.986572</td>\n",
              "      <td>1.0</td>\n",
              "      <td>14.0</td>\n",
              "      <td>2.0</td>\n",
              "      <td>3.0</td>\n",
              "      <td>4460000.0</td>\n",
              "      <td>61200.0</td>\n",
              "      <td>5360000.0</td>\n",
              "      <td>16560.0</td>\n",
              "      <td>65535.0</td>\n",
              "      <td>0.0</td>\n",
              "      <td>0.0</td>\n",
              "      <td>0.0</td>\n",
              "      <td>0.0</td>\n",
              "      <td>0.0</td>\n",
              "      <td>88.0</td>\n",
              "      <td>999.0</td>\n",
              "      <td>999.0</td>\n",
              "      <td>99999.0</td>\n",
              "      <td>99999.0</td>\n",
              "      <td>764</td>\n",
              "      <td>0</td>\n",
              "      <td>25</td>\n",
              "      <td>20</td>\n",
              "      <td>0</td>\n",
              "      <td>171</td>\n",
              "      <td>1.655761e+09</td>\n",
              "      <td>4.0</td>\n",
              "    </tr>\n",
              "    <tr>\n",
              "      <th>2</th>\n",
              "      <td>AMTK179</td>\n",
              "      <td>UP</td>\n",
              "      <td></td>\n",
              "      <td>AMT1</td>\n",
              "      <td>2022-06-19</td>\n",
              "      <td>106</td>\n",
              "      <td>MAIN</td>\n",
              "      <td>True</td>\n",
              "      <td>#na#</td>\n",
              "      <td>#na#</td>\n",
              "      <td>2022</td>\n",
              "      <td>6</td>\n",
              "      <td>False</td>\n",
              "      <td>False</td>\n",
              "      <td>False</td>\n",
              "      <td>False</td>\n",
              "      <td>False</td>\n",
              "      <td>False</td>\n",
              "      <td>10</td>\n",
              "      <td>764.994873</td>\n",
              "      <td>1.0</td>\n",
              "      <td>14.0</td>\n",
              "      <td>2.0</td>\n",
              "      <td>3.0</td>\n",
              "      <td>4460000.0</td>\n",
              "      <td>61200.0</td>\n",
              "      <td>5360000.0</td>\n",
              "      <td>16560.0</td>\n",
              "      <td>65535.0</td>\n",
              "      <td>0.0</td>\n",
              "      <td>0.0</td>\n",
              "      <td>0.0</td>\n",
              "      <td>0.0</td>\n",
              "      <td>0.0</td>\n",
              "      <td>88.0</td>\n",
              "      <td>999.0</td>\n",
              "      <td>999.0</td>\n",
              "      <td>99999.0</td>\n",
              "      <td>99999.0</td>\n",
              "      <td>764</td>\n",
              "      <td>0</td>\n",
              "      <td>25</td>\n",
              "      <td>20</td>\n",
              "      <td>0</td>\n",
              "      <td>171</td>\n",
              "      <td>1.655761e+09</td>\n",
              "      <td>4.0</td>\n",
              "    </tr>\n",
              "    <tr>\n",
              "      <th>3</th>\n",
              "      <td>AMTK186</td>\n",
              "      <td>UP</td>\n",
              "      <td></td>\n",
              "      <td>AMT1</td>\n",
              "      <td>2022-06-21</td>\n",
              "      <td>106</td>\n",
              "      <td>TO_S_UP_MAINLINE</td>\n",
              "      <td>True</td>\n",
              "      <td>#na#</td>\n",
              "      <td>#na#</td>\n",
              "      <td>2022</td>\n",
              "      <td>6</td>\n",
              "      <td>False</td>\n",
              "      <td>False</td>\n",
              "      <td>False</td>\n",
              "      <td>False</td>\n",
              "      <td>False</td>\n",
              "      <td>False</td>\n",
              "      <td>8</td>\n",
              "      <td>764.869080</td>\n",
              "      <td>1.0</td>\n",
              "      <td>14.0</td>\n",
              "      <td>2.0</td>\n",
              "      <td>3.0</td>\n",
              "      <td>7140000.0</td>\n",
              "      <td>61200.0</td>\n",
              "      <td>5360000.0</td>\n",
              "      <td>16560.0</td>\n",
              "      <td>65535.0</td>\n",
              "      <td>0.0</td>\n",
              "      <td>0.0</td>\n",
              "      <td>0.0</td>\n",
              "      <td>0.0</td>\n",
              "      <td>0.0</td>\n",
              "      <td>88.0</td>\n",
              "      <td>999.0</td>\n",
              "      <td>999.0</td>\n",
              "      <td>99999.0</td>\n",
              "      <td>99999.0</td>\n",
              "      <td>764</td>\n",
              "      <td>0</td>\n",
              "      <td>25</td>\n",
              "      <td>22</td>\n",
              "      <td>2</td>\n",
              "      <td>173</td>\n",
              "      <td>1.655938e+09</td>\n",
              "      <td>9.0</td>\n",
              "    </tr>\n",
              "    <tr>\n",
              "      <th>4</th>\n",
              "      <td>AMTK186</td>\n",
              "      <td>UP</td>\n",
              "      <td></td>\n",
              "      <td>AMT1</td>\n",
              "      <td>2022-06-21</td>\n",
              "      <td>106</td>\n",
              "      <td>MAIN</td>\n",
              "      <td>True</td>\n",
              "      <td>#na#</td>\n",
              "      <td>#na#</td>\n",
              "      <td>2022</td>\n",
              "      <td>6</td>\n",
              "      <td>False</td>\n",
              "      <td>False</td>\n",
              "      <td>False</td>\n",
              "      <td>False</td>\n",
              "      <td>False</td>\n",
              "      <td>False</td>\n",
              "      <td>10</td>\n",
              "      <td>764.987610</td>\n",
              "      <td>1.0</td>\n",
              "      <td>14.0</td>\n",
              "      <td>2.0</td>\n",
              "      <td>3.0</td>\n",
              "      <td>7140000.0</td>\n",
              "      <td>61200.0</td>\n",
              "      <td>5360000.0</td>\n",
              "      <td>16560.0</td>\n",
              "      <td>65535.0</td>\n",
              "      <td>0.0</td>\n",
              "      <td>0.0</td>\n",
              "      <td>0.0</td>\n",
              "      <td>0.0</td>\n",
              "      <td>0.0</td>\n",
              "      <td>88.0</td>\n",
              "      <td>999.0</td>\n",
              "      <td>999.0</td>\n",
              "      <td>99999.0</td>\n",
              "      <td>99999.0</td>\n",
              "      <td>764</td>\n",
              "      <td>0</td>\n",
              "      <td>25</td>\n",
              "      <td>22</td>\n",
              "      <td>2</td>\n",
              "      <td>173</td>\n",
              "      <td>1.655938e+09</td>\n",
              "      <td>8.0</td>\n",
              "    </tr>\n",
              "    <tr>\n",
              "      <th>5</th>\n",
              "      <td>AMTK186</td>\n",
              "      <td>UP</td>\n",
              "      <td></td>\n",
              "      <td>AMT1</td>\n",
              "      <td>2022-06-21</td>\n",
              "      <td>106</td>\n",
              "      <td>MAIN</td>\n",
              "      <td>True</td>\n",
              "      <td>#na#</td>\n",
              "      <td>#na#</td>\n",
              "      <td>2022</td>\n",
              "      <td>6</td>\n",
              "      <td>False</td>\n",
              "      <td>False</td>\n",
              "      <td>False</td>\n",
              "      <td>False</td>\n",
              "      <td>False</td>\n",
              "      <td>False</td>\n",
              "      <td>10</td>\n",
              "      <td>764.996582</td>\n",
              "      <td>1.0</td>\n",
              "      <td>14.0</td>\n",
              "      <td>2.0</td>\n",
              "      <td>3.0</td>\n",
              "      <td>7140000.0</td>\n",
              "      <td>61200.0</td>\n",
              "      <td>5360000.0</td>\n",
              "      <td>16560.0</td>\n",
              "      <td>65535.0</td>\n",
              "      <td>0.0</td>\n",
              "      <td>0.0</td>\n",
              "      <td>0.0</td>\n",
              "      <td>0.0</td>\n",
              "      <td>0.0</td>\n",
              "      <td>88.0</td>\n",
              "      <td>999.0</td>\n",
              "      <td>999.0</td>\n",
              "      <td>99999.0</td>\n",
              "      <td>99999.0</td>\n",
              "      <td>764</td>\n",
              "      <td>0</td>\n",
              "      <td>25</td>\n",
              "      <td>22</td>\n",
              "      <td>2</td>\n",
              "      <td>173</td>\n",
              "      <td>1.655938e+09</td>\n",
              "      <td>8.0</td>\n",
              "    </tr>\n",
              "    <tr>\n",
              "      <th>8</th>\n",
              "      <td>AMTK186</td>\n",
              "      <td>UP</td>\n",
              "      <td></td>\n",
              "      <td>AMT2</td>\n",
              "      <td>2022-06-19</td>\n",
              "      <td>106</td>\n",
              "      <td>WEST MAIN</td>\n",
              "      <td>True</td>\n",
              "      <td>#na#</td>\n",
              "      <td>#na#</td>\n",
              "      <td>2022</td>\n",
              "      <td>6</td>\n",
              "      <td>False</td>\n",
              "      <td>False</td>\n",
              "      <td>False</td>\n",
              "      <td>False</td>\n",
              "      <td>False</td>\n",
              "      <td>False</td>\n",
              "      <td>18</td>\n",
              "      <td>766.930176</td>\n",
              "      <td>1.0</td>\n",
              "      <td>14.0</td>\n",
              "      <td>2.0</td>\n",
              "      <td>3.0</td>\n",
              "      <td>9820000.0</td>\n",
              "      <td>77760.0</td>\n",
              "      <td>5360000.0</td>\n",
              "      <td>16560.0</td>\n",
              "      <td>65535.0</td>\n",
              "      <td>0.0</td>\n",
              "      <td>0.0</td>\n",
              "      <td>0.0</td>\n",
              "      <td>0.0</td>\n",
              "      <td>0.0</td>\n",
              "      <td>88.0</td>\n",
              "      <td>999.0</td>\n",
              "      <td>999.0</td>\n",
              "      <td>99999.0</td>\n",
              "      <td>99999.0</td>\n",
              "      <td>766</td>\n",
              "      <td>0</td>\n",
              "      <td>25</td>\n",
              "      <td>22</td>\n",
              "      <td>2</td>\n",
              "      <td>173</td>\n",
              "      <td>1.655857e+09</td>\n",
              "      <td>2.0</td>\n",
              "    </tr>\n",
              "    <tr>\n",
              "      <th>9</th>\n",
              "      <td>AMTK186</td>\n",
              "      <td>UP</td>\n",
              "      <td></td>\n",
              "      <td>AMT2</td>\n",
              "      <td>2022-06-19</td>\n",
              "      <td>106</td>\n",
              "      <td>WEST MAIN</td>\n",
              "      <td>True</td>\n",
              "      <td>#na#</td>\n",
              "      <td>#na#</td>\n",
              "      <td>2022</td>\n",
              "      <td>6</td>\n",
              "      <td>False</td>\n",
              "      <td>False</td>\n",
              "      <td>False</td>\n",
              "      <td>False</td>\n",
              "      <td>False</td>\n",
              "      <td>False</td>\n",
              "      <td>19</td>\n",
              "      <td>766.797607</td>\n",
              "      <td>1.0</td>\n",
              "      <td>14.0</td>\n",
              "      <td>2.0</td>\n",
              "      <td>3.0</td>\n",
              "      <td>9820000.0</td>\n",
              "      <td>77760.0</td>\n",
              "      <td>5360000.0</td>\n",
              "      <td>16560.0</td>\n",
              "      <td>65535.0</td>\n",
              "      <td>0.0</td>\n",
              "      <td>0.0</td>\n",
              "      <td>0.0</td>\n",
              "      <td>0.0</td>\n",
              "      <td>0.0</td>\n",
              "      <td>88.0</td>\n",
              "      <td>999.0</td>\n",
              "      <td>999.0</td>\n",
              "      <td>99999.0</td>\n",
              "      <td>99999.0</td>\n",
              "      <td>766</td>\n",
              "      <td>0</td>\n",
              "      <td>25</td>\n",
              "      <td>22</td>\n",
              "      <td>2</td>\n",
              "      <td>173</td>\n",
              "      <td>1.655857e+09</td>\n",
              "      <td>-1.0</td>\n",
              "    </tr>\n",
              "    <tr>\n",
              "      <th>33</th>\n",
              "      <td>BNSF3185</td>\n",
              "      <td>UP</td>\n",
              "      <td></td>\n",
              "      <td>QNSIJJ</td>\n",
              "      <td>2022-06-21</td>\n",
              "      <td>106</td>\n",
              "      <td>WEST MAIN</td>\n",
              "      <td>True</td>\n",
              "      <td>#na#</td>\n",
              "      <td>#na#</td>\n",
              "      <td>2022</td>\n",
              "      <td>6</td>\n",
              "      <td>False</td>\n",
              "      <td>False</td>\n",
              "      <td>False</td>\n",
              "      <td>False</td>\n",
              "      <td>False</td>\n",
              "      <td>False</td>\n",
              "      <td>10</td>\n",
              "      <td>766.930603</td>\n",
              "      <td>2.0</td>\n",
              "      <td>12.0</td>\n",
              "      <td>2.0</td>\n",
              "      <td>3.0</td>\n",
              "      <td>125003368.0</td>\n",
              "      <td>630310.0</td>\n",
              "      <td>6916630.0</td>\n",
              "      <td>16010.0</td>\n",
              "      <td>65535.0</td>\n",
              "      <td>0.0</td>\n",
              "      <td>0.0</td>\n",
              "      <td>0.0</td>\n",
              "      <td>0.0</td>\n",
              "      <td>0.0</td>\n",
              "      <td>88.0</td>\n",
              "      <td>999.0</td>\n",
              "      <td>999.0</td>\n",
              "      <td>99999.0</td>\n",
              "      <td>99999.0</td>\n",
              "      <td>766</td>\n",
              "      <td>0</td>\n",
              "      <td>25</td>\n",
              "      <td>23</td>\n",
              "      <td>3</td>\n",
              "      <td>174</td>\n",
              "      <td>1.655972e+09</td>\n",
              "      <td>-1.0</td>\n",
              "    </tr>\n",
              "    <tr>\n",
              "      <th>34</th>\n",
              "      <td>BNSF3185</td>\n",
              "      <td>UP</td>\n",
              "      <td></td>\n",
              "      <td>QNSIJJ</td>\n",
              "      <td>2022-06-21</td>\n",
              "      <td>106</td>\n",
              "      <td>WEST MAIN</td>\n",
              "      <td>True</td>\n",
              "      <td>#na#</td>\n",
              "      <td>#na#</td>\n",
              "      <td>2022</td>\n",
              "      <td>6</td>\n",
              "      <td>False</td>\n",
              "      <td>False</td>\n",
              "      <td>False</td>\n",
              "      <td>False</td>\n",
              "      <td>False</td>\n",
              "      <td>False</td>\n",
              "      <td>11</td>\n",
              "      <td>766.465271</td>\n",
              "      <td>2.0</td>\n",
              "      <td>12.0</td>\n",
              "      <td>2.0</td>\n",
              "      <td>3.0</td>\n",
              "      <td>125003368.0</td>\n",
              "      <td>630310.0</td>\n",
              "      <td>6916630.0</td>\n",
              "      <td>16010.0</td>\n",
              "      <td>65535.0</td>\n",
              "      <td>0.0</td>\n",
              "      <td>0.0</td>\n",
              "      <td>0.0</td>\n",
              "      <td>0.0</td>\n",
              "      <td>0.0</td>\n",
              "      <td>88.0</td>\n",
              "      <td>999.0</td>\n",
              "      <td>999.0</td>\n",
              "      <td>99999.0</td>\n",
              "      <td>99999.0</td>\n",
              "      <td>766</td>\n",
              "      <td>0</td>\n",
              "      <td>25</td>\n",
              "      <td>23</td>\n",
              "      <td>3</td>\n",
              "      <td>174</td>\n",
              "      <td>1.655972e+09</td>\n",
              "      <td>-2.0</td>\n",
              "    </tr>\n",
              "    <tr>\n",
              "      <th>36</th>\n",
              "      <td>BNSF3185</td>\n",
              "      <td>UP</td>\n",
              "      <td></td>\n",
              "      <td>QNSIJJ</td>\n",
              "      <td>2022-06-21</td>\n",
              "      <td>106</td>\n",
              "      <td>MAIN</td>\n",
              "      <td>True</td>\n",
              "      <td>#na#</td>\n",
              "      <td>#na#</td>\n",
              "      <td>2022</td>\n",
              "      <td>6</td>\n",
              "      <td>False</td>\n",
              "      <td>False</td>\n",
              "      <td>False</td>\n",
              "      <td>False</td>\n",
              "      <td>False</td>\n",
              "      <td>False</td>\n",
              "      <td>9</td>\n",
              "      <td>766.048401</td>\n",
              "      <td>2.0</td>\n",
              "      <td>12.0</td>\n",
              "      <td>2.0</td>\n",
              "      <td>3.0</td>\n",
              "      <td>125003368.0</td>\n",
              "      <td>630310.0</td>\n",
              "      <td>6916630.0</td>\n",
              "      <td>16010.0</td>\n",
              "      <td>65535.0</td>\n",
              "      <td>0.0</td>\n",
              "      <td>0.0</td>\n",
              "      <td>0.0</td>\n",
              "      <td>0.0</td>\n",
              "      <td>0.0</td>\n",
              "      <td>88.0</td>\n",
              "      <td>999.0</td>\n",
              "      <td>999.0</td>\n",
              "      <td>99999.0</td>\n",
              "      <td>99999.0</td>\n",
              "      <td>766</td>\n",
              "      <td>0</td>\n",
              "      <td>25</td>\n",
              "      <td>23</td>\n",
              "      <td>3</td>\n",
              "      <td>174</td>\n",
              "      <td>1.655972e+09</td>\n",
              "      <td>1.0</td>\n",
              "    </tr>\n",
              "  </tbody>\n",
              "</table>"
            ]
          },
          "metadata": {}
        }
      ]
    },
    {
      "cell_type": "code",
      "source": [
        "fastai.save_pickle('/tmp/to.pkl',to)"
      ],
      "metadata": {
        "id": "r-D5hdO3-ypC"
      },
      "execution_count": 187,
      "outputs": []
    },
    {
      "cell_type": "markdown",
      "source": [
        "# Creating the Decision Tree"
      ],
      "metadata": {
        "id": "knWgCrX_A0Ep"
      }
    },
    {
      "cell_type": "code",
      "source": [
        "to = fastai.load_pickle('/tmp/to.pkl')"
      ],
      "metadata": {
        "id": "rtc_YDw0ArMR"
      },
      "execution_count": 188,
      "outputs": []
    },
    {
      "cell_type": "code",
      "source": [
        "xs,y = to.train.xs,to.train.y\n",
        "valid_xs,valid_y = to.valid.xs,to.valid.y"
      ],
      "metadata": {
        "id": "CcGx27DMBMbc"
      },
      "execution_count": 189,
      "outputs": []
    },
    {
      "cell_type": "code",
      "source": [
        "m = DecisionTreeRegressor(max_leaf_nodes=16)\n",
        "m.fit(xs, y);"
      ],
      "metadata": {
        "id": "clTcBmpGBXv6"
      },
      "execution_count": 190,
      "outputs": []
    },
    {
      "cell_type": "code",
      "source": [
        "fastai.draw_tree(m, xs, size=20, leaves_parallel=True, precision=2)"
      ],
      "metadata": {
        "id": "nhXNnHk7CSmF",
        "colab": {
          "base_uri": "https://localhost:8080/",
          "height": 1000
        },
        "outputId": "e037f482-0796-4336-903a-b7b6d3c93262"
      },
      "execution_count": 191,
      "outputs": [
        {
          "output_type": "execute_result",
          "data": {
            "text/plain": [
              "<graphviz.files.Source at 0x7fcab2f60f90>"
            ],
            "image/svg+xml": "<?xml version=\"1.0\" encoding=\"UTF-8\" standalone=\"no\"?>\n<!DOCTYPE svg PUBLIC \"-//W3C//DTD SVG 1.1//EN\"\n \"http://www.w3.org/Graphics/SVG/1.1/DTD/svg11.dtd\">\n<!-- Generated by graphviz version 2.40.1 (20161225.0304)\n -->\n<!-- Title: Tree Pages: 1 -->\n<svg width=\"1440pt\" height=\"866pt\"\n viewBox=\"0.00 0.00 1440.00 866.17\" xmlns=\"http://www.w3.org/2000/svg\" xmlns:xlink=\"http://www.w3.org/1999/xlink\">\n<g id=\"graph0\" class=\"graph\" transform=\"scale(.5076 .5076) rotate(0) translate(4 1702.477)\">\n<title>Tree</title>\n<polygon fill=\"#ffffff\" stroke=\"transparent\" points=\"-4,4 -4,-1702.477 2833,-1702.477 2833,4 -4,4\"/>\n<!-- 0 -->\n<g id=\"node1\" class=\"node\">\n<title>0</title>\n<path fill=\"#fbeee4\" stroke=\"#000000\" d=\"M2062,-1659C2062,-1659 1823,-1659 1823,-1659 1817,-1659 1811,-1653 1811,-1647 1811,-1647 1811,-1603 1811,-1603 1811,-1597 1817,-1591 1823,-1591 1823,-1591 2062,-1591 2062,-1591 2068,-1591 2074,-1597 2074,-1603 2074,-1603 2074,-1647 2074,-1647 2074,-1653 2068,-1659 2062,-1659\"/>\n<text text-anchor=\"start\" x=\"1819\" y=\"-1643.8\" font-family=\"Helvetica,sans-Serif\" font-size=\"14.00\" fill=\"#000000\">lastReportedPosition.speedMPH ≤ 5.5</text>\n<text text-anchor=\"start\" x=\"1866\" y=\"-1628.8\" font-family=\"Helvetica,sans-Serif\" font-size=\"14.00\" fill=\"#000000\">squared_error = 116.07</text>\n<text text-anchor=\"start\" x=\"1886.5\" y=\"-1613.8\" font-family=\"Helvetica,sans-Serif\" font-size=\"14.00\" fill=\"#000000\">samples = 17389</text>\n<text text-anchor=\"start\" x=\"1902.5\" y=\"-1598.8\" font-family=\"Helvetica,sans-Serif\" font-size=\"14.00\" fill=\"#000000\">value = 3.77</text>\n</g>\n<!-- 1 -->\n<g id=\"node2\" class=\"node\">\n<title>1</title>\n<path fill=\"#eda978\" stroke=\"#000000\" d=\"M1743,-1435C1743,-1435 1606,-1435 1606,-1435 1600,-1435 1594,-1429 1594,-1423 1594,-1423 1594,-1379 1594,-1379 1594,-1373 1600,-1367 1606,-1367 1606,-1367 1743,-1367 1743,-1367 1749,-1367 1755,-1373 1755,-1379 1755,-1379 1755,-1423 1755,-1423 1755,-1429 1749,-1435 1743,-1435\"/>\n<text text-anchor=\"start\" x=\"1621.5\" y=\"-1419.8\" font-family=\"Helvetica,sans-Serif\" font-size=\"14.00\" fill=\"#000000\">milepost ≤ 738.5</text>\n<text text-anchor=\"start\" x=\"1602\" y=\"-1404.8\" font-family=\"Helvetica,sans-Serif\" font-size=\"14.00\" fill=\"#000000\">squared_error = 88.14</text>\n<text text-anchor=\"start\" x=\"1622.5\" y=\"-1389.8\" font-family=\"Helvetica,sans-Serif\" font-size=\"14.00\" fill=\"#000000\">samples = 2752</text>\n<text text-anchor=\"start\" x=\"1630.5\" y=\"-1374.8\" font-family=\"Helvetica,sans-Serif\" font-size=\"14.00\" fill=\"#000000\">value = 22.76</text>\n</g>\n<!-- 0&#45;&gt;1 -->\n<g id=\"edge1\" class=\"edge\">\n<title>0&#45;&gt;1</title>\n<path fill=\"none\" stroke=\"#000000\" d=\"M1901.7966,-1590.9792C1853.9826,-1551.0153 1774.7069,-1484.755 1723.5468,-1441.9944\"/>\n<polygon fill=\"#000000\" stroke=\"#000000\" points=\"1725.5039,-1439.0686 1715.5865,-1435.3409 1721.0147,-1444.4396 1725.5039,-1439.0686\"/>\n<text text-anchor=\"middle\" x=\"1717.8134\" y=\"-1456.5416\" font-family=\"Helvetica,sans-Serif\" font-size=\"14.00\" fill=\"#000000\">True</text>\n</g>\n<!-- 2 -->\n<g id=\"node21\" class=\"node\">\n<title>2</title>\n<path fill=\"#fefbf8\" stroke=\"#000000\" d=\"M2399,-1435C2399,-1435 2152,-1435 2152,-1435 2146,-1435 2140,-1429 2140,-1423 2140,-1423 2140,-1379 2140,-1379 2140,-1373 2146,-1367 2152,-1367 2152,-1367 2399,-1367 2399,-1367 2405,-1367 2411,-1373 2411,-1379 2411,-1379 2411,-1423 2411,-1423 2411,-1429 2405,-1435 2399,-1435\"/>\n<text text-anchor=\"start\" x=\"2148\" y=\"-1419.8\" font-family=\"Helvetica,sans-Serif\" font-size=\"14.00\" fill=\"#000000\">lastReportedPosition.speedMPH ≤ 21.5</text>\n<text text-anchor=\"start\" x=\"2203\" y=\"-1404.8\" font-family=\"Helvetica,sans-Serif\" font-size=\"14.00\" fill=\"#000000\">squared_error = 40.81</text>\n<text text-anchor=\"start\" x=\"2219.5\" y=\"-1389.8\" font-family=\"Helvetica,sans-Serif\" font-size=\"14.00\" fill=\"#000000\">samples = 14637</text>\n<text text-anchor=\"start\" x=\"2239.5\" y=\"-1374.8\" font-family=\"Helvetica,sans-Serif\" font-size=\"14.00\" fill=\"#000000\">value = 0.2</text>\n</g>\n<!-- 0&#45;&gt;2 -->\n<g id=\"edge20\" class=\"edge\">\n<title>0&#45;&gt;2</title>\n<path fill=\"none\" stroke=\"#000000\" d=\"M1993.0755,-1590.9792C2053.0622,-1550.6278 2152.903,-1483.4676 2216.3966,-1440.7572\"/>\n<polygon fill=\"#000000\" stroke=\"#000000\" points=\"2218.3782,-1443.6425 2224.7221,-1435.1569 2214.4711,-1437.8343 2218.3782,-1443.6425\"/>\n<text text-anchor=\"middle\" x=\"2219.9209\" y=\"-1455.9915\" font-family=\"Helvetica,sans-Serif\" font-size=\"14.00\" fill=\"#000000\">False</text>\n</g>\n<!-- 5 -->\n<g id=\"node3\" class=\"node\">\n<title>5</title>\n<path fill=\"#eca36e\" stroke=\"#000000\" d=\"M909.5,-1211C909.5,-1211 753.5,-1211 753.5,-1211 747.5,-1211 741.5,-1205 741.5,-1199 741.5,-1199 741.5,-1155 741.5,-1155 741.5,-1149 747.5,-1143 753.5,-1143 753.5,-1143 909.5,-1143 909.5,-1143 915.5,-1143 921.5,-1149 921.5,-1155 921.5,-1155 921.5,-1199 921.5,-1199 921.5,-1205 915.5,-1211 909.5,-1211\"/>\n<text text-anchor=\"start\" x=\"749.5\" y=\"-1195.8\" font-family=\"Helvetica,sans-Serif\" font-size=\"14.00\" fill=\"#000000\">trainId.trainSymbol ≤ 60.5</text>\n<text text-anchor=\"start\" x=\"759\" y=\"-1180.8\" font-family=\"Helvetica,sans-Serif\" font-size=\"14.00\" fill=\"#000000\">squared_error = 86.02</text>\n<text text-anchor=\"start\" x=\"779.5\" y=\"-1165.8\" font-family=\"Helvetica,sans-Serif\" font-size=\"14.00\" fill=\"#000000\">samples = 2238</text>\n<text text-anchor=\"start\" x=\"787.5\" y=\"-1150.8\" font-family=\"Helvetica,sans-Serif\" font-size=\"14.00\" fill=\"#000000\">value = 24.56</text>\n</g>\n<!-- 1&#45;&gt;5 -->\n<g id=\"edge2\" class=\"edge\">\n<title>1&#45;&gt;5</title>\n<path fill=\"none\" stroke=\"#000000\" d=\"M1593.6696,-1379.5219C1438.7153,-1338.3478 1100.2916,-1248.4227 931.4483,-1203.558\"/>\n<polygon fill=\"#000000\" stroke=\"#000000\" points=\"932.1263,-1200.1168 921.5628,-1200.9313 930.3286,-1206.882 932.1263,-1200.1168\"/>\n</g>\n<!-- 6 -->\n<g id=\"node20\" class=\"node\">\n<title>6</title>\n<path fill=\"#f3c5a5\" stroke=\"#000000\" d=\"M1743,-83.5C1743,-83.5 1606,-83.5 1606,-83.5 1600,-83.5 1594,-77.5 1594,-71.5 1594,-71.5 1594,-42.5 1594,-42.5 1594,-36.5 1600,-30.5 1606,-30.5 1606,-30.5 1743,-30.5 1743,-30.5 1749,-30.5 1755,-36.5 1755,-42.5 1755,-42.5 1755,-71.5 1755,-71.5 1755,-77.5 1749,-83.5 1743,-83.5\"/>\n<text text-anchor=\"start\" x=\"1602\" y=\"-68.3\" font-family=\"Helvetica,sans-Serif\" font-size=\"14.00\" fill=\"#000000\">squared_error = 21.93</text>\n<text text-anchor=\"start\" x=\"1626.5\" y=\"-53.3\" font-family=\"Helvetica,sans-Serif\" font-size=\"14.00\" fill=\"#000000\">samples = 514</text>\n<text text-anchor=\"start\" x=\"1630.5\" y=\"-38.3\" font-family=\"Helvetica,sans-Serif\" font-size=\"14.00\" fill=\"#000000\">value = 14.92</text>\n</g>\n<!-- 1&#45;&gt;6 -->\n<g id=\"edge19\" class=\"edge\">\n<title>1&#45;&gt;6</title>\n<path fill=\"none\" stroke=\"#000000\" d=\"M1674.5,-1366.9595C1674.5,-1262.412 1674.5,-953 1674.5,-953 1674.5,-953 1674.5,-953 1674.5,-505 1674.5,-505 1674.5,-200.7305 1674.5,-93.7004\"/>\n<polygon fill=\"#000000\" stroke=\"#000000\" points=\"1678.0001,-93.6828 1674.5,-83.6828 1671.0001,-93.6828 1678.0001,-93.6828\"/>\n</g>\n<!-- 7 -->\n<g id=\"node4\" class=\"node\">\n<title>7</title>\n<path fill=\"#e78c4a\" stroke=\"#000000\" d=\"M447,-987C447,-987 72,-987 72,-987 66,-987 60,-981 60,-975 60,-975 60,-931 60,-931 60,-925 66,-919 72,-919 72,-919 447,-919 447,-919 453,-919 459,-925 459,-931 459,-931 459,-975 459,-975 459,-981 453,-987 447,-987\"/>\n<text text-anchor=\"start\" x=\"68\" y=\"-971.8\" font-family=\"Helvetica,sans-Serif\" font-size=\"14.00\" fill=\"#000000\">lastReportedPosition.positionTimeElapsed ≤ 1655939776.0</text>\n<text text-anchor=\"start\" x=\"187\" y=\"-956.8\" font-family=\"Helvetica,sans-Serif\" font-size=\"14.00\" fill=\"#000000\">squared_error = 53.56</text>\n<text text-anchor=\"start\" x=\"211.5\" y=\"-941.8\" font-family=\"Helvetica,sans-Serif\" font-size=\"14.00\" fill=\"#000000\">samples = 444</text>\n<text text-anchor=\"start\" x=\"215.5\" y=\"-926.8\" font-family=\"Helvetica,sans-Serif\" font-size=\"14.00\" fill=\"#000000\">value = 30.91</text>\n</g>\n<!-- 5&#45;&gt;7 -->\n<g id=\"edge3\" class=\"edge\">\n<title>5&#45;&gt;7</title>\n<path fill=\"none\" stroke=\"#000000\" d=\"M744.6255,-1142.9792C640.0082,-1102.0102 464.821,-1033.4054 356.0592,-990.8134\"/>\n<polygon fill=\"#000000\" stroke=\"#000000\" points=\"357.3098,-987.5444 346.7221,-987.1569 354.7573,-994.0624 357.3098,-987.5444\"/>\n</g>\n<!-- 8 -->\n<g id=\"node7\" class=\"node\">\n<title>8</title>\n<path fill=\"#eda877\" stroke=\"#000000\" d=\"M1065,-987C1065,-987 598,-987 598,-987 592,-987 586,-981 586,-975 586,-975 586,-931 586,-931 586,-925 592,-919 598,-919 598,-919 1065,-919 1065,-919 1071,-919 1077,-925 1077,-931 1077,-931 1077,-975 1077,-975 1077,-981 1071,-987 1065,-987\"/>\n<text text-anchor=\"start\" x=\"594\" y=\"-971.8\" font-family=\"Helvetica,sans-Serif\" font-size=\"14.00\" fill=\"#000000\">lastReportedPosition.milepostLocation.milepost.milepostNumber ≤ 217.21</text>\n<text text-anchor=\"start\" x=\"759\" y=\"-956.8\" font-family=\"Helvetica,sans-Serif\" font-size=\"14.00\" fill=\"#000000\">squared_error = 81.59</text>\n<text text-anchor=\"start\" x=\"779.5\" y=\"-941.8\" font-family=\"Helvetica,sans-Serif\" font-size=\"14.00\" fill=\"#000000\">samples = 1794</text>\n<text text-anchor=\"start\" x=\"787.5\" y=\"-926.8\" font-family=\"Helvetica,sans-Serif\" font-size=\"14.00\" fill=\"#000000\">value = 22.98</text>\n</g>\n<!-- 5&#45;&gt;8 -->\n<g id=\"edge6\" class=\"edge\">\n<title>5&#45;&gt;8</title>\n<path fill=\"none\" stroke=\"#000000\" d=\"M831.5,-1142.9792C831.5,-1104.0843 831.5,-1040.281 831.5,-997.4753\"/>\n<polygon fill=\"#000000\" stroke=\"#000000\" points=\"835.0001,-997.3409 831.5,-987.3409 828.0001,-997.341 835.0001,-997.3409\"/>\n</g>\n<!-- 17 -->\n<g id=\"node5\" class=\"node\">\n<title>17</title>\n<path fill=\"#eb9e66\" stroke=\"#000000\" d=\"M149,-83.5C149,-83.5 12,-83.5 12,-83.5 6,-83.5 0,-77.5 0,-71.5 0,-71.5 0,-42.5 0,-42.5 0,-36.5 6,-30.5 12,-30.5 12,-30.5 149,-30.5 149,-30.5 155,-30.5 161,-36.5 161,-42.5 161,-42.5 161,-71.5 161,-71.5 161,-77.5 155,-83.5 149,-83.5\"/>\n<text text-anchor=\"start\" x=\"8\" y=\"-68.3\" font-family=\"Helvetica,sans-Serif\" font-size=\"14.00\" fill=\"#000000\">squared_error = 37.18</text>\n<text text-anchor=\"start\" x=\"32.5\" y=\"-53.3\" font-family=\"Helvetica,sans-Serif\" font-size=\"14.00\" fill=\"#000000\">samples = 167</text>\n<text text-anchor=\"start\" x=\"36.5\" y=\"-38.3\" font-family=\"Helvetica,sans-Serif\" font-size=\"14.00\" fill=\"#000000\">value = 25.98</text>\n</g>\n<!-- 7&#45;&gt;17 -->\n<g id=\"edge4\" class=\"edge\">\n<title>7&#45;&gt;17</title>\n<path fill=\"none\" stroke=\"#000000\" d=\"M252.7016,-918.9698C224.5132,-777.8706 116.939,-239.3985 87.8105,-93.5936\"/>\n<polygon fill=\"#000000\" stroke=\"#000000\" points=\"91.2424,-92.9056 85.851,-83.7851 84.378,-94.277 91.2424,-92.9056\"/>\n</g>\n<!-- 18 -->\n<g id=\"node6\" class=\"node\">\n<title>18</title>\n<path fill=\"#e58139\" stroke=\"#000000\" d=\"M328,-83.5C328,-83.5 191,-83.5 191,-83.5 185,-83.5 179,-77.5 179,-71.5 179,-71.5 179,-42.5 179,-42.5 179,-36.5 185,-30.5 191,-30.5 191,-30.5 328,-30.5 328,-30.5 334,-30.5 340,-36.5 340,-42.5 340,-42.5 340,-71.5 340,-71.5 340,-77.5 334,-83.5 328,-83.5\"/>\n<text text-anchor=\"start\" x=\"187\" y=\"-68.3\" font-family=\"Helvetica,sans-Serif\" font-size=\"14.00\" fill=\"#000000\">squared_error = 39.97</text>\n<text text-anchor=\"start\" x=\"211.5\" y=\"-53.3\" font-family=\"Helvetica,sans-Serif\" font-size=\"14.00\" fill=\"#000000\">samples = 277</text>\n<text text-anchor=\"start\" x=\"215.5\" y=\"-38.3\" font-family=\"Helvetica,sans-Serif\" font-size=\"14.00\" fill=\"#000000\">value = 33.88</text>\n</g>\n<!-- 7&#45;&gt;18 -->\n<g id=\"edge5\" class=\"edge\">\n<title>7&#45;&gt;18</title>\n<path fill=\"none\" stroke=\"#000000\" d=\"M259.5,-918.9698C259.5,-778.0117 259.5,-240.4751 259.5,-94.0322\"/>\n<polygon fill=\"#000000\" stroke=\"#000000\" points=\"263.0001,-93.785 259.5,-83.7851 256.0001,-93.7851 263.0001,-93.785\"/>\n</g>\n<!-- 9 -->\n<g id=\"node8\" class=\"node\">\n<title>9</title>\n<path fill=\"#f1bd97\" stroke=\"#000000\" d=\"M686.5,-763C686.5,-763 548.5,-763 548.5,-763 542.5,-763 536.5,-757 536.5,-751 536.5,-751 536.5,-707 536.5,-707 536.5,-701 542.5,-695 548.5,-695 548.5,-695 686.5,-695 686.5,-695 692.5,-695 698.5,-701 698.5,-707 698.5,-707 698.5,-751 698.5,-751 698.5,-757 692.5,-763 686.5,-763\"/>\n<text text-anchor=\"start\" x=\"544.5\" y=\"-747.8\" font-family=\"Helvetica,sans-Serif\" font-size=\"14.00\" fill=\"#000000\">emptyCarCount ≤ 66.5</text>\n<text text-anchor=\"start\" x=\"545\" y=\"-732.8\" font-family=\"Helvetica,sans-Serif\" font-size=\"14.00\" fill=\"#000000\">squared_error = 58.58</text>\n<text text-anchor=\"start\" x=\"569.5\" y=\"-717.8\" font-family=\"Helvetica,sans-Serif\" font-size=\"14.00\" fill=\"#000000\">samples = 441</text>\n<text text-anchor=\"start\" x=\"573.5\" y=\"-702.8\" font-family=\"Helvetica,sans-Serif\" font-size=\"14.00\" fill=\"#000000\">value = 17.25</text>\n</g>\n<!-- 8&#45;&gt;9 -->\n<g id=\"edge7\" class=\"edge\">\n<title>8&#45;&gt;9</title>\n<path fill=\"none\" stroke=\"#000000\" d=\"M798.998,-918.9792C761.0539,-879.262 698.2965,-813.572 657.4233,-770.7889\"/>\n<polygon fill=\"#000000\" stroke=\"#000000\" points=\"659.7465,-768.1538 650.3079,-763.3409 654.685,-772.9893 659.7465,-768.1538\"/>\n</g>\n<!-- 10 -->\n<g id=\"node11\" class=\"node\">\n<title>10</title>\n<path fill=\"#eca26c\" stroke=\"#000000\" d=\"M1127,-763C1127,-763 752,-763 752,-763 746,-763 740,-757 740,-751 740,-751 740,-707 740,-707 740,-701 746,-695 752,-695 752,-695 1127,-695 1127,-695 1133,-695 1139,-701 1139,-707 1139,-707 1139,-751 1139,-751 1139,-757 1133,-763 1127,-763\"/>\n<text text-anchor=\"start\" x=\"748\" y=\"-747.8\" font-family=\"Helvetica,sans-Serif\" font-size=\"14.00\" fill=\"#000000\">lastReportedPosition.positionTimeElapsed ≤ 1655757376.0</text>\n<text text-anchor=\"start\" x=\"867\" y=\"-732.8\" font-family=\"Helvetica,sans-Serif\" font-size=\"14.00\" fill=\"#000000\">squared_error = 74.88</text>\n<text text-anchor=\"start\" x=\"887.5\" y=\"-717.8\" font-family=\"Helvetica,sans-Serif\" font-size=\"14.00\" fill=\"#000000\">samples = 1353</text>\n<text text-anchor=\"start\" x=\"895.5\" y=\"-702.8\" font-family=\"Helvetica,sans-Serif\" font-size=\"14.00\" fill=\"#000000\">value = 24.85</text>\n</g>\n<!-- 8&#45;&gt;10 -->\n<g id=\"edge10\" class=\"edge\">\n<title>8&#45;&gt;10</title>\n<path fill=\"none\" stroke=\"#000000\" d=\"M847.9029,-918.9792C866.8144,-879.7554 897.9392,-815.2001 918.578,-772.3938\"/>\n<polygon fill=\"#000000\" stroke=\"#000000\" points=\"921.7524,-773.8687 922.9428,-763.3409 915.447,-770.8286 921.7524,-773.8687\"/>\n</g>\n<!-- 25 -->\n<g id=\"node9\" class=\"node\">\n<title>25</title>\n<path fill=\"#efb083\" stroke=\"#000000\" d=\"M507,-83.5C507,-83.5 370,-83.5 370,-83.5 364,-83.5 358,-77.5 358,-71.5 358,-71.5 358,-42.5 358,-42.5 358,-36.5 364,-30.5 370,-30.5 370,-30.5 507,-30.5 507,-30.5 513,-30.5 519,-36.5 519,-42.5 519,-42.5 519,-71.5 519,-71.5 519,-77.5 513,-83.5 507,-83.5\"/>\n<text text-anchor=\"start\" x=\"366\" y=\"-68.3\" font-family=\"Helvetica,sans-Serif\" font-size=\"14.00\" fill=\"#000000\">squared_error = 51.79</text>\n<text text-anchor=\"start\" x=\"390.5\" y=\"-53.3\" font-family=\"Helvetica,sans-Serif\" font-size=\"14.00\" fill=\"#000000\">samples = 202</text>\n<text text-anchor=\"start\" x=\"398.5\" y=\"-38.3\" font-family=\"Helvetica,sans-Serif\" font-size=\"14.00\" fill=\"#000000\">value = 20.9</text>\n</g>\n<!-- 9&#45;&gt;25 -->\n<g id=\"edge8\" class=\"edge\">\n<title>9&#45;&gt;25</title>\n<path fill=\"none\" stroke=\"#000000\" d=\"M608.3773,-694.7516C577.8793,-580.2564 479.6265,-211.3965 448.2373,-93.5557\"/>\n<polygon fill=\"#000000\" stroke=\"#000000\" points=\"451.5377,-92.348 445.5816,-83.5858 444.7736,-94.1498 451.5377,-92.348\"/>\n</g>\n<!-- 26 -->\n<g id=\"node10\" class=\"node\">\n<title>26</title>\n<path fill=\"#f4c8a9\" stroke=\"#000000\" d=\"M686,-83.5C686,-83.5 549,-83.5 549,-83.5 543,-83.5 537,-77.5 537,-71.5 537,-71.5 537,-42.5 537,-42.5 537,-36.5 543,-30.5 549,-30.5 549,-30.5 686,-30.5 686,-30.5 692,-30.5 698,-36.5 698,-42.5 698,-42.5 698,-71.5 698,-71.5 698,-77.5 692,-83.5 686,-83.5\"/>\n<text text-anchor=\"start\" x=\"545\" y=\"-68.3\" font-family=\"Helvetica,sans-Serif\" font-size=\"14.00\" fill=\"#000000\">squared_error = 43.53</text>\n<text text-anchor=\"start\" x=\"569.5\" y=\"-53.3\" font-family=\"Helvetica,sans-Serif\" font-size=\"14.00\" fill=\"#000000\">samples = 239</text>\n<text text-anchor=\"start\" x=\"573.5\" y=\"-38.3\" font-family=\"Helvetica,sans-Serif\" font-size=\"14.00\" fill=\"#000000\">value = 14.16</text>\n</g>\n<!-- 9&#45;&gt;26 -->\n<g id=\"edge9\" class=\"edge\">\n<title>9&#45;&gt;26</title>\n<path fill=\"none\" stroke=\"#000000\" d=\"M617.5,-694.7516C617.5,-580.3716 617.5,-212.1384 617.5,-93.9121\"/>\n<polygon fill=\"#000000\" stroke=\"#000000\" points=\"621.0001,-93.5858 617.5,-83.5858 614.0001,-93.5859 621.0001,-93.5858\"/>\n</g>\n<!-- 13 -->\n<g id=\"node12\" class=\"node\">\n<title>13</title>\n<path fill=\"#e78946\" stroke=\"#000000\" d=\"M1073.5,-539C1073.5,-539 805.5,-539 805.5,-539 799.5,-539 793.5,-533 793.5,-527 793.5,-527 793.5,-483 793.5,-483 793.5,-477 799.5,-471 805.5,-471 805.5,-471 1073.5,-471 1073.5,-471 1079.5,-471 1085.5,-477 1085.5,-483 1085.5,-483 1085.5,-527 1085.5,-527 1085.5,-533 1079.5,-539 1073.5,-539\"/>\n<text text-anchor=\"start\" x=\"801.5\" y=\"-523.8\" font-family=\"Helvetica,sans-Serif\" font-size=\"14.00\" fill=\"#000000\">aotuTrainData.totalCarLength ≤ 1375585.0</text>\n<text text-anchor=\"start\" x=\"867\" y=\"-508.8\" font-family=\"Helvetica,sans-Serif\" font-size=\"14.00\" fill=\"#000000\">squared_error = 70.18</text>\n<text text-anchor=\"start\" x=\"891.5\" y=\"-493.8\" font-family=\"Helvetica,sans-Serif\" font-size=\"14.00\" fill=\"#000000\">samples = 172</text>\n<text text-anchor=\"start\" x=\"895.5\" y=\"-478.8\" font-family=\"Helvetica,sans-Serif\" font-size=\"14.00\" fill=\"#000000\">value = 31.59</text>\n</g>\n<!-- 10&#45;&gt;13 -->\n<g id=\"edge11\" class=\"edge\">\n<title>10&#45;&gt;13</title>\n<path fill=\"none\" stroke=\"#000000\" d=\"M939.5,-694.9792C939.5,-656.0843 939.5,-592.281 939.5,-549.4753\"/>\n<polygon fill=\"#000000\" stroke=\"#000000\" points=\"943.0001,-549.3409 939.5,-539.3409 936.0001,-549.341 943.0001,-549.3409\"/>\n</g>\n<!-- 14 -->\n<g id=\"node15\" class=\"node\">\n<title>14</title>\n<path fill=\"#eca572\" stroke=\"#000000\" d=\"M1321.5,-539C1321.5,-539 1165.5,-539 1165.5,-539 1159.5,-539 1153.5,-533 1153.5,-527 1153.5,-527 1153.5,-483 1153.5,-483 1153.5,-477 1159.5,-471 1165.5,-471 1165.5,-471 1321.5,-471 1321.5,-471 1327.5,-471 1333.5,-477 1333.5,-483 1333.5,-483 1333.5,-527 1333.5,-527 1333.5,-533 1327.5,-539 1321.5,-539\"/>\n<text text-anchor=\"start\" x=\"1161.5\" y=\"-523.8\" font-family=\"Helvetica,sans-Serif\" font-size=\"14.00\" fill=\"#000000\">trainId.trainSymbol ≤ 99.5</text>\n<text text-anchor=\"start\" x=\"1171\" y=\"-508.8\" font-family=\"Helvetica,sans-Serif\" font-size=\"14.00\" fill=\"#000000\">squared_error = 67.98</text>\n<text text-anchor=\"start\" x=\"1191.5\" y=\"-493.8\" font-family=\"Helvetica,sans-Serif\" font-size=\"14.00\" fill=\"#000000\">samples = 1181</text>\n<text text-anchor=\"start\" x=\"1199.5\" y=\"-478.8\" font-family=\"Helvetica,sans-Serif\" font-size=\"14.00\" fill=\"#000000\">value = 23.87</text>\n</g>\n<!-- 10&#45;&gt;14 -->\n<g id=\"edge14\" class=\"edge\">\n<title>10&#45;&gt;14</title>\n<path fill=\"none\" stroke=\"#000000\" d=\"M985.6711,-694.9792C1040.131,-654.8508 1130.5732,-588.2092 1188.5796,-545.4677\"/>\n<polygon fill=\"#000000\" stroke=\"#000000\" points=\"1190.9201,-548.0907 1196.8944,-539.3409 1186.7676,-542.4553 1190.9201,-548.0907\"/>\n</g>\n<!-- 29 -->\n<g id=\"node13\" class=\"node\">\n<title>29</title>\n<path fill=\"#e5823b\" stroke=\"#000000\" d=\"M856.5,-83.5C856.5,-83.5 728.5,-83.5 728.5,-83.5 722.5,-83.5 716.5,-77.5 716.5,-71.5 716.5,-71.5 716.5,-42.5 716.5,-42.5 716.5,-36.5 722.5,-30.5 728.5,-30.5 728.5,-30.5 856.5,-30.5 856.5,-30.5 862.5,-30.5 868.5,-36.5 868.5,-42.5 868.5,-42.5 868.5,-71.5 868.5,-71.5 868.5,-77.5 862.5,-83.5 856.5,-83.5\"/>\n<text text-anchor=\"start\" x=\"724.5\" y=\"-68.3\" font-family=\"Helvetica,sans-Serif\" font-size=\"14.00\" fill=\"#000000\">squared_error = 52.6</text>\n<text text-anchor=\"start\" x=\"744.5\" y=\"-53.3\" font-family=\"Helvetica,sans-Serif\" font-size=\"14.00\" fill=\"#000000\">samples = 150</text>\n<text text-anchor=\"start\" x=\"748.5\" y=\"-38.3\" font-family=\"Helvetica,sans-Serif\" font-size=\"14.00\" fill=\"#000000\">value = 33.47</text>\n</g>\n<!-- 13&#45;&gt;29 -->\n<g id=\"edge12\" class=\"edge\">\n<title>13&#45;&gt;29</title>\n<path fill=\"none\" stroke=\"#000000\" d=\"M928.3305,-470.9595C901.257,-388.4499 832.3149,-178.3407 804.4529,-93.4279\"/>\n<polygon fill=\"#000000\" stroke=\"#000000\" points=\"807.7077,-92.1207 801.2643,-83.7103 801.0566,-94.3031 807.7077,-92.1207\"/>\n</g>\n<!-- 30 -->\n<g id=\"node14\" class=\"node\">\n<title>30</title>\n<path fill=\"#f0b78e\" stroke=\"#000000\" d=\"M1026.5,-83.5C1026.5,-83.5 898.5,-83.5 898.5,-83.5 892.5,-83.5 886.5,-77.5 886.5,-71.5 886.5,-71.5 886.5,-42.5 886.5,-42.5 886.5,-36.5 892.5,-30.5 898.5,-30.5 898.5,-30.5 1026.5,-30.5 1026.5,-30.5 1032.5,-30.5 1038.5,-36.5 1038.5,-42.5 1038.5,-42.5 1038.5,-71.5 1038.5,-71.5 1038.5,-77.5 1032.5,-83.5 1026.5,-83.5\"/>\n<text text-anchor=\"start\" x=\"894.5\" y=\"-68.3\" font-family=\"Helvetica,sans-Serif\" font-size=\"14.00\" fill=\"#000000\">squared_error = 2.97</text>\n<text text-anchor=\"start\" x=\"918.5\" y=\"-53.3\" font-family=\"Helvetica,sans-Serif\" font-size=\"14.00\" fill=\"#000000\">samples = 22</text>\n<text text-anchor=\"start\" x=\"918.5\" y=\"-38.3\" font-family=\"Helvetica,sans-Serif\" font-size=\"14.00\" fill=\"#000000\">value = 18.82</text>\n</g>\n<!-- 13&#45;&gt;30 -->\n<g id=\"edge13\" class=\"edge\">\n<title>13&#45;&gt;30</title>\n<path fill=\"none\" stroke=\"#000000\" d=\"M941.2476,-470.9595C945.475,-388.6176 956.2266,-179.1942 960.6032,-93.9472\"/>\n<polygon fill=\"#000000\" stroke=\"#000000\" points=\"964.1113,-93.8767 961.1287,-83.7103 957.1205,-93.5177 964.1113,-93.8767\"/>\n</g>\n<!-- 21 -->\n<g id=\"node16\" class=\"node\">\n<title>21</title>\n<path fill=\"#eda978\" stroke=\"#000000\" d=\"M1321.5,-315C1321.5,-315 1165.5,-315 1165.5,-315 1159.5,-315 1153.5,-309 1153.5,-303 1153.5,-303 1153.5,-259 1153.5,-259 1153.5,-253 1159.5,-247 1165.5,-247 1165.5,-247 1321.5,-247 1321.5,-247 1327.5,-247 1333.5,-253 1333.5,-259 1333.5,-259 1333.5,-303 1333.5,-303 1333.5,-309 1327.5,-315 1321.5,-315\"/>\n<text text-anchor=\"start\" x=\"1161.5\" y=\"-299.8\" font-family=\"Helvetica,sans-Serif\" font-size=\"14.00\" fill=\"#000000\">trainId.trainSymbol ≤ 97.5</text>\n<text text-anchor=\"start\" x=\"1171\" y=\"-284.8\" font-family=\"Helvetica,sans-Serif\" font-size=\"14.00\" fill=\"#000000\">squared_error = 68.97</text>\n<text text-anchor=\"start\" x=\"1195.5\" y=\"-269.8\" font-family=\"Helvetica,sans-Serif\" font-size=\"14.00\" fill=\"#000000\">samples = 924</text>\n<text text-anchor=\"start\" x=\"1199.5\" y=\"-254.8\" font-family=\"Helvetica,sans-Serif\" font-size=\"14.00\" fill=\"#000000\">value = 22.75</text>\n</g>\n<!-- 14&#45;&gt;21 -->\n<g id=\"edge15\" class=\"edge\">\n<title>14&#45;&gt;21</title>\n<path fill=\"none\" stroke=\"#000000\" d=\"M1243.5,-470.9792C1243.5,-432.0843 1243.5,-368.281 1243.5,-325.4753\"/>\n<polygon fill=\"#000000\" stroke=\"#000000\" points=\"1247.0001,-325.3409 1243.5,-315.3409 1240.0001,-325.341 1247.0001,-325.3409\"/>\n</g>\n<!-- 22 -->\n<g id=\"node19\" class=\"node\">\n<title>22</title>\n<path fill=\"#e9975b\" stroke=\"#000000\" d=\"M1564,-83.5C1564,-83.5 1427,-83.5 1427,-83.5 1421,-83.5 1415,-77.5 1415,-71.5 1415,-71.5 1415,-42.5 1415,-42.5 1415,-36.5 1421,-30.5 1427,-30.5 1427,-30.5 1564,-30.5 1564,-30.5 1570,-30.5 1576,-36.5 1576,-42.5 1576,-42.5 1576,-71.5 1576,-71.5 1576,-77.5 1570,-83.5 1564,-83.5\"/>\n<text text-anchor=\"start\" x=\"1423\" y=\"-68.3\" font-family=\"Helvetica,sans-Serif\" font-size=\"14.00\" fill=\"#000000\">squared_error = 43.88</text>\n<text text-anchor=\"start\" x=\"1447.5\" y=\"-53.3\" font-family=\"Helvetica,sans-Serif\" font-size=\"14.00\" fill=\"#000000\">samples = 257</text>\n<text text-anchor=\"start\" x=\"1451.5\" y=\"-38.3\" font-family=\"Helvetica,sans-Serif\" font-size=\"14.00\" fill=\"#000000\">value = 27.88</text>\n</g>\n<!-- 14&#45;&gt;22 -->\n<g id=\"edge18\" class=\"edge\">\n<title>14&#45;&gt;22</title>\n<path fill=\"none\" stroke=\"#000000\" d=\"M1262.6478,-470.9595C1309.2009,-388.1983 1427.9672,-177.0583 1475.4442,-92.6548\"/>\n<polygon fill=\"#000000\" stroke=\"#000000\" points=\"1478.6233,-94.142 1480.4754,-83.7103 1472.5222,-90.7102 1478.6233,-94.142\"/>\n</g>\n<!-- 23 -->\n<g id=\"node17\" class=\"node\">\n<title>23</title>\n<path fill=\"#eda673\" stroke=\"#000000\" d=\"M1206,-83.5C1206,-83.5 1069,-83.5 1069,-83.5 1063,-83.5 1057,-77.5 1057,-71.5 1057,-71.5 1057,-42.5 1057,-42.5 1057,-36.5 1063,-30.5 1069,-30.5 1069,-30.5 1206,-30.5 1206,-30.5 1212,-30.5 1218,-36.5 1218,-42.5 1218,-42.5 1218,-71.5 1218,-71.5 1218,-77.5 1212,-83.5 1206,-83.5\"/>\n<text text-anchor=\"start\" x=\"1065\" y=\"-68.3\" font-family=\"Helvetica,sans-Serif\" font-size=\"14.00\" fill=\"#000000\">squared_error = 65.98</text>\n<text text-anchor=\"start\" x=\"1089.5\" y=\"-53.3\" font-family=\"Helvetica,sans-Serif\" font-size=\"14.00\" fill=\"#000000\">samples = 832</text>\n<text text-anchor=\"start\" x=\"1093.5\" y=\"-38.3\" font-family=\"Helvetica,sans-Serif\" font-size=\"14.00\" fill=\"#000000\">value = 23.57</text>\n</g>\n<!-- 21&#45;&gt;23 -->\n<g id=\"edge16\" class=\"edge\">\n<title>21&#45;&gt;23</title>\n<path fill=\"none\" stroke=\"#000000\" d=\"M1227.4009,-246.9792C1207.6939,-205.3344 1174.4744,-135.1345 1154.4066,-92.7271\"/>\n<polygon fill=\"#000000\" stroke=\"#000000\" points=\"1157.5317,-91.1484 1150.0906,-83.6065 1151.2044,-94.1427 1157.5317,-91.1484\"/>\n</g>\n<!-- 24 -->\n<g id=\"node18\" class=\"node\">\n<title>24</title>\n<path fill=\"#f3c4a2\" stroke=\"#000000\" d=\"M1385,-83.5C1385,-83.5 1248,-83.5 1248,-83.5 1242,-83.5 1236,-77.5 1236,-71.5 1236,-71.5 1236,-42.5 1236,-42.5 1236,-36.5 1242,-30.5 1248,-30.5 1248,-30.5 1385,-30.5 1385,-30.5 1391,-30.5 1397,-36.5 1397,-42.5 1397,-42.5 1397,-71.5 1397,-71.5 1397,-77.5 1391,-83.5 1385,-83.5\"/>\n<text text-anchor=\"start\" x=\"1244\" y=\"-68.3\" font-family=\"Helvetica,sans-Serif\" font-size=\"14.00\" fill=\"#000000\">squared_error = 35.45</text>\n<text text-anchor=\"start\" x=\"1272.5\" y=\"-53.3\" font-family=\"Helvetica,sans-Serif\" font-size=\"14.00\" fill=\"#000000\">samples = 92</text>\n<text text-anchor=\"start\" x=\"1272.5\" y=\"-38.3\" font-family=\"Helvetica,sans-Serif\" font-size=\"14.00\" fill=\"#000000\">value = 15.37</text>\n</g>\n<!-- 21&#45;&gt;24 -->\n<g id=\"edge17\" class=\"edge\">\n<title>21&#45;&gt;24</title>\n<path fill=\"none\" stroke=\"#000000\" d=\"M1254.5871,-246.9792C1268.1019,-205.5093 1290.8444,-135.7239 1304.6821,-93.2631\"/>\n<polygon fill=\"#000000\" stroke=\"#000000\" points=\"1308.0583,-94.1989 1307.8291,-83.6065 1301.4028,-92.0299 1308.0583,-94.1989\"/>\n</g>\n<!-- 3 -->\n<g id=\"node22\" class=\"node\">\n<title>3</title>\n<path fill=\"#fae5d7\" stroke=\"#000000\" d=\"M2339.5,-1211C2339.5,-1211 2211.5,-1211 2211.5,-1211 2205.5,-1211 2199.5,-1205 2199.5,-1199 2199.5,-1199 2199.5,-1155 2199.5,-1155 2199.5,-1149 2205.5,-1143 2211.5,-1143 2211.5,-1143 2339.5,-1143 2339.5,-1143 2345.5,-1143 2351.5,-1149 2351.5,-1155 2351.5,-1155 2351.5,-1199 2351.5,-1199 2351.5,-1205 2345.5,-1211 2339.5,-1211\"/>\n<text text-anchor=\"start\" x=\"2222.5\" y=\"-1195.8\" font-family=\"Helvetica,sans-Serif\" font-size=\"14.00\" fill=\"#000000\">milepost ≤ 731.5</text>\n<text text-anchor=\"start\" x=\"2207.5\" y=\"-1180.8\" font-family=\"Helvetica,sans-Serif\" font-size=\"14.00\" fill=\"#000000\">squared_error = 82.5</text>\n<text text-anchor=\"start\" x=\"2223.5\" y=\"-1165.8\" font-family=\"Helvetica,sans-Serif\" font-size=\"14.00\" fill=\"#000000\">samples = 1512</text>\n<text text-anchor=\"start\" x=\"2235.5\" y=\"-1150.8\" font-family=\"Helvetica,sans-Serif\" font-size=\"14.00\" fill=\"#000000\">value = 6.11</text>\n</g>\n<!-- 2&#45;&gt;3 -->\n<g id=\"edge21\" class=\"edge\">\n<title>2&#45;&gt;3</title>\n<path fill=\"none\" stroke=\"#000000\" d=\"M2275.5,-1366.9792C2275.5,-1328.0843 2275.5,-1264.281 2275.5,-1221.4753\"/>\n<polygon fill=\"#000000\" stroke=\"#000000\" points=\"2279.0001,-1221.3409 2275.5,-1211.3409 2272.0001,-1221.341 2279.0001,-1221.3409\"/>\n</g>\n<!-- 4 -->\n<g id=\"node29\" class=\"node\">\n<title>4</title>\n<path fill=\"#fffdfc\" stroke=\"#000000\" d=\"M2693,-1211C2693,-1211 2446,-1211 2446,-1211 2440,-1211 2434,-1205 2434,-1199 2434,-1199 2434,-1155 2434,-1155 2434,-1149 2440,-1143 2446,-1143 2446,-1143 2693,-1143 2693,-1143 2699,-1143 2705,-1149 2705,-1155 2705,-1155 2705,-1199 2705,-1199 2705,-1205 2699,-1211 2693,-1211\"/>\n<text text-anchor=\"start\" x=\"2442\" y=\"-1195.8\" font-family=\"Helvetica,sans-Serif\" font-size=\"14.00\" fill=\"#000000\">lastReportedPosition.speedMPH ≤ 40.5</text>\n<text text-anchor=\"start\" x=\"2497\" y=\"-1180.8\" font-family=\"Helvetica,sans-Serif\" font-size=\"14.00\" fill=\"#000000\">squared_error = 31.53</text>\n<text text-anchor=\"start\" x=\"2513.5\" y=\"-1165.8\" font-family=\"Helvetica,sans-Serif\" font-size=\"14.00\" fill=\"#000000\">samples = 13125</text>\n<text text-anchor=\"start\" x=\"2527\" y=\"-1150.8\" font-family=\"Helvetica,sans-Serif\" font-size=\"14.00\" fill=\"#000000\">value = &#45;0.48</text>\n</g>\n<!-- 2&#45;&gt;4 -->\n<g id=\"edge28\" class=\"edge\">\n<title>2&#45;&gt;4</title>\n<path fill=\"none\" stroke=\"#000000\" d=\"M2320.1523,-1366.9792C2372.8208,-1326.8508 2460.2879,-1260.2092 2516.3862,-1217.4677\"/>\n<polygon fill=\"#000000\" stroke=\"#000000\" points=\"2518.5943,-1220.1854 2524.4275,-1211.3409 2514.352,-1214.6174 2518.5943,-1220.1854\"/>\n</g>\n<!-- 11 -->\n<g id=\"node23\" class=\"node\">\n<title>11</title>\n<path fill=\"#f8dfcc\" stroke=\"#000000\" d=\"M2335,-987C2335,-987 2088,-987 2088,-987 2082,-987 2076,-981 2076,-975 2076,-975 2076,-931 2076,-931 2076,-925 2082,-919 2088,-919 2088,-919 2335,-919 2335,-919 2341,-919 2347,-925 2347,-931 2347,-931 2347,-975 2347,-975 2347,-981 2341,-987 2335,-987\"/>\n<text text-anchor=\"start\" x=\"2084\" y=\"-971.8\" font-family=\"Helvetica,sans-Serif\" font-size=\"14.00\" fill=\"#000000\">lastReportedPosition.speedMPH ≤ 13.5</text>\n<text text-anchor=\"start\" x=\"2139\" y=\"-956.8\" font-family=\"Helvetica,sans-Serif\" font-size=\"14.00\" fill=\"#000000\">squared_error = 96.19</text>\n<text text-anchor=\"start\" x=\"2159.5\" y=\"-941.8\" font-family=\"Helvetica,sans-Serif\" font-size=\"14.00\" fill=\"#000000\">samples = 1075</text>\n<text text-anchor=\"start\" x=\"2171.5\" y=\"-926.8\" font-family=\"Helvetica,sans-Serif\" font-size=\"14.00\" fill=\"#000000\">value = 7.95</text>\n</g>\n<!-- 3&#45;&gt;11 -->\n<g id=\"edge22\" class=\"edge\">\n<title>3&#45;&gt;11</title>\n<path fill=\"none\" stroke=\"#000000\" d=\"M2265.7798,-1142.9792C2254.6434,-1104.0021 2236.3603,-1040.0111 2224.1297,-997.2041\"/>\n<polygon fill=\"#000000\" stroke=\"#000000\" points=\"2227.4243,-995.9946 2221.3117,-987.3409 2220.6936,-997.9177 2227.4243,-995.9946\"/>\n</g>\n<!-- 12 -->\n<g id=\"node28\" class=\"node\">\n<title>12</title>\n<path fill=\"#fdf6f0\" stroke=\"#000000\" d=\"M2459,-83.5C2459,-83.5 2322,-83.5 2322,-83.5 2316,-83.5 2310,-77.5 2310,-71.5 2310,-71.5 2310,-42.5 2310,-42.5 2310,-36.5 2316,-30.5 2322,-30.5 2322,-30.5 2459,-30.5 2459,-30.5 2465,-30.5 2471,-36.5 2471,-42.5 2471,-42.5 2471,-71.5 2471,-71.5 2471,-77.5 2465,-83.5 2459,-83.5\"/>\n<text text-anchor=\"start\" x=\"2318\" y=\"-68.3\" font-family=\"Helvetica,sans-Serif\" font-size=\"14.00\" fill=\"#000000\">squared_error = 19.94</text>\n<text text-anchor=\"start\" x=\"2342.5\" y=\"-53.3\" font-family=\"Helvetica,sans-Serif\" font-size=\"14.00\" fill=\"#000000\">samples = 437</text>\n<text text-anchor=\"start\" x=\"2350.5\" y=\"-38.3\" font-family=\"Helvetica,sans-Serif\" font-size=\"14.00\" fill=\"#000000\">value = 1.57</text>\n</g>\n<!-- 3&#45;&gt;12 -->\n<g id=\"edge27\" class=\"edge\">\n<title>3&#45;&gt;12</title>\n<path fill=\"none\" stroke=\"#000000\" d=\"M2289.9874,-1142.5924C2313.0412,-1087.8397 2355.5,-987 2355.5,-987 2355.5,-987 2390.5,-729 2390.5,-729 2390.5,-729 2390.5,-729 2390.5,-505 2390.5,-505 2390.5,-200.7305 2390.5,-93.7004\"/>\n<polygon fill=\"#000000\" stroke=\"#000000\" points=\"2394.0001,-93.6828 2390.5,-83.6828 2387.0001,-93.6828 2394.0001,-93.6828\"/>\n</g>\n<!-- 15 -->\n<g id=\"node24\" class=\"node\">\n<title>15</title>\n<path fill=\"#f6d3ba\" stroke=\"#000000\" d=\"M2101,-763C2101,-763 1964,-763 1964,-763 1958,-763 1952,-757 1952,-751 1952,-751 1952,-707 1952,-707 1952,-701 1958,-695 1964,-695 1964,-695 2101,-695 2101,-695 2107,-695 2113,-701 2113,-707 2113,-707 2113,-751 2113,-751 2113,-757 2107,-763 2101,-763\"/>\n<text text-anchor=\"start\" x=\"1966\" y=\"-747.8\" font-family=\"Helvetica,sans-Serif\" font-size=\"14.00\" fill=\"#000000\">trainLength ≤ 7029.5</text>\n<text text-anchor=\"start\" x=\"1960\" y=\"-732.8\" font-family=\"Helvetica,sans-Serif\" font-size=\"14.00\" fill=\"#000000\">squared_error = 88.64</text>\n<text text-anchor=\"start\" x=\"1984.5\" y=\"-717.8\" font-family=\"Helvetica,sans-Serif\" font-size=\"14.00\" fill=\"#000000\">samples = 431</text>\n<text text-anchor=\"start\" x=\"1988.5\" y=\"-702.8\" font-family=\"Helvetica,sans-Serif\" font-size=\"14.00\" fill=\"#000000\">value = 11.06</text>\n</g>\n<!-- 11&#45;&gt;15 -->\n<g id=\"edge23\" class=\"edge\">\n<title>11&#45;&gt;15</title>\n<path fill=\"none\" stroke=\"#000000\" d=\"M2184.3138,-918.9792C2152.7069,-879.4265 2100.5165,-814.1156 2066.3195,-771.3216\"/>\n<polygon fill=\"#000000\" stroke=\"#000000\" points=\"2068.9191,-768.9681 2059.9421,-763.3409 2063.4506,-773.338 2068.9191,-768.9681\"/>\n</g>\n<!-- 16 -->\n<g id=\"node27\" class=\"node\">\n<title>16</title>\n<path fill=\"#fae6d8\" stroke=\"#000000\" d=\"M2280,-83.5C2280,-83.5 2143,-83.5 2143,-83.5 2137,-83.5 2131,-77.5 2131,-71.5 2131,-71.5 2131,-42.5 2131,-42.5 2131,-36.5 2137,-30.5 2143,-30.5 2143,-30.5 2280,-30.5 2280,-30.5 2286,-30.5 2292,-36.5 2292,-42.5 2292,-42.5 2292,-71.5 2292,-71.5 2292,-77.5 2286,-83.5 2280,-83.5\"/>\n<text text-anchor=\"start\" x=\"2139\" y=\"-68.3\" font-family=\"Helvetica,sans-Serif\" font-size=\"14.00\" fill=\"#000000\">squared_error = 90.43</text>\n<text text-anchor=\"start\" x=\"2163.5\" y=\"-53.3\" font-family=\"Helvetica,sans-Serif\" font-size=\"14.00\" fill=\"#000000\">samples = 644</text>\n<text text-anchor=\"start\" x=\"2171.5\" y=\"-38.3\" font-family=\"Helvetica,sans-Serif\" font-size=\"14.00\" fill=\"#000000\">value = 5.87</text>\n</g>\n<!-- 11&#45;&gt;16 -->\n<g id=\"edge26\" class=\"edge\">\n<title>11&#45;&gt;16</title>\n<path fill=\"none\" stroke=\"#000000\" d=\"M2211.5,-918.9698C2211.5,-778.0117 2211.5,-240.4751 2211.5,-94.0322\"/>\n<polygon fill=\"#000000\" stroke=\"#000000\" points=\"2215.0001,-93.785 2211.5,-83.7851 2208.0001,-93.7851 2215.0001,-93.785\"/>\n</g>\n<!-- 19 -->\n<g id=\"node25\" class=\"node\">\n<title>19</title>\n<path fill=\"#f3c3a1\" stroke=\"#000000\" d=\"M1922,-83.5C1922,-83.5 1785,-83.5 1785,-83.5 1779,-83.5 1773,-77.5 1773,-71.5 1773,-71.5 1773,-42.5 1773,-42.5 1773,-36.5 1779,-30.5 1785,-30.5 1785,-30.5 1922,-30.5 1922,-30.5 1928,-30.5 1934,-36.5 1934,-42.5 1934,-42.5 1934,-71.5 1934,-71.5 1934,-77.5 1928,-83.5 1922,-83.5\"/>\n<text text-anchor=\"start\" x=\"1781\" y=\"-68.3\" font-family=\"Helvetica,sans-Serif\" font-size=\"14.00\" fill=\"#000000\">squared_error = 95.97</text>\n<text text-anchor=\"start\" x=\"1805.5\" y=\"-53.3\" font-family=\"Helvetica,sans-Serif\" font-size=\"14.00\" fill=\"#000000\">samples = 174</text>\n<text text-anchor=\"start\" x=\"1809.5\" y=\"-38.3\" font-family=\"Helvetica,sans-Serif\" font-size=\"14.00\" fill=\"#000000\">value = 15.47</text>\n</g>\n<!-- 15&#45;&gt;19 -->\n<g id=\"edge24\" class=\"edge\">\n<title>15&#45;&gt;19</title>\n<path fill=\"none\" stroke=\"#000000\" d=\"M2023.3773,-694.7516C1992.8793,-580.2564 1894.6265,-211.3965 1863.2373,-93.5557\"/>\n<polygon fill=\"#000000\" stroke=\"#000000\" points=\"1866.5377,-92.348 1860.5816,-83.5858 1859.7736,-94.1498 1866.5377,-92.348\"/>\n</g>\n<!-- 20 -->\n<g id=\"node26\" class=\"node\">\n<title>20</title>\n<path fill=\"#f8decb\" stroke=\"#000000\" d=\"M2101,-83.5C2101,-83.5 1964,-83.5 1964,-83.5 1958,-83.5 1952,-77.5 1952,-71.5 1952,-71.5 1952,-42.5 1952,-42.5 1952,-36.5 1958,-30.5 1964,-30.5 1964,-30.5 2101,-30.5 2101,-30.5 2107,-30.5 2113,-36.5 2113,-42.5 2113,-42.5 2113,-71.5 2113,-71.5 2113,-77.5 2107,-83.5 2101,-83.5\"/>\n<text text-anchor=\"start\" x=\"1960\" y=\"-68.3\" font-family=\"Helvetica,sans-Serif\" font-size=\"14.00\" fill=\"#000000\">squared_error = 61.57</text>\n<text text-anchor=\"start\" x=\"1984.5\" y=\"-53.3\" font-family=\"Helvetica,sans-Serif\" font-size=\"14.00\" fill=\"#000000\">samples = 257</text>\n<text text-anchor=\"start\" x=\"1992.5\" y=\"-38.3\" font-family=\"Helvetica,sans-Serif\" font-size=\"14.00\" fill=\"#000000\">value = 8.07</text>\n</g>\n<!-- 15&#45;&gt;20 -->\n<g id=\"edge25\" class=\"edge\">\n<title>15&#45;&gt;20</title>\n<path fill=\"none\" stroke=\"#000000\" d=\"M2032.5,-694.7516C2032.5,-580.3716 2032.5,-212.1384 2032.5,-93.9121\"/>\n<polygon fill=\"#000000\" stroke=\"#000000\" points=\"2036.0001,-93.5858 2032.5,-83.5858 2029.0001,-93.5859 2036.0001,-93.5858\"/>\n</g>\n<!-- 27 -->\n<g id=\"node30\" class=\"node\">\n<title>27</title>\n<path fill=\"#fefbf8\" stroke=\"#000000\" d=\"M2638,-83.5C2638,-83.5 2501,-83.5 2501,-83.5 2495,-83.5 2489,-77.5 2489,-71.5 2489,-71.5 2489,-42.5 2489,-42.5 2489,-36.5 2495,-30.5 2501,-30.5 2501,-30.5 2638,-30.5 2638,-30.5 2644,-30.5 2650,-36.5 2650,-42.5 2650,-42.5 2650,-71.5 2650,-71.5 2650,-77.5 2644,-83.5 2638,-83.5\"/>\n<text text-anchor=\"start\" x=\"2497\" y=\"-68.3\" font-family=\"Helvetica,sans-Serif\" font-size=\"14.00\" fill=\"#000000\">squared_error = 39.57</text>\n<text text-anchor=\"start\" x=\"2517.5\" y=\"-53.3\" font-family=\"Helvetica,sans-Serif\" font-size=\"14.00\" fill=\"#000000\">samples = 5850</text>\n<text text-anchor=\"start\" x=\"2529.5\" y=\"-38.3\" font-family=\"Helvetica,sans-Serif\" font-size=\"14.00\" fill=\"#000000\">value = 0.19</text>\n</g>\n<!-- 4&#45;&gt;27 -->\n<g id=\"edge29\" class=\"edge\">\n<title>4&#45;&gt;27</title>\n<path fill=\"none\" stroke=\"#000000\" d=\"M2569.5,-1142.9595C2569.5,-1038.412 2569.5,-729 2569.5,-729 2569.5,-729 2569.5,-729 2569.5,-505 2569.5,-505 2569.5,-200.7305 2569.5,-93.7004\"/>\n<polygon fill=\"#000000\" stroke=\"#000000\" points=\"2573.0001,-93.6828 2569.5,-83.6828 2566.0001,-93.6828 2573.0001,-93.6828\"/>\n</g>\n<!-- 28 -->\n<g id=\"node31\" class=\"node\">\n<title>28</title>\n<path fill=\"#ffffff\" stroke=\"#000000\" d=\"M2817,-83.5C2817,-83.5 2680,-83.5 2680,-83.5 2674,-83.5 2668,-77.5 2668,-71.5 2668,-71.5 2668,-42.5 2668,-42.5 2668,-36.5 2674,-30.5 2680,-30.5 2680,-30.5 2817,-30.5 2817,-30.5 2823,-30.5 2829,-36.5 2829,-42.5 2829,-42.5 2829,-71.5 2829,-71.5 2829,-77.5 2823,-83.5 2817,-83.5\"/>\n<text text-anchor=\"start\" x=\"2676\" y=\"-68.3\" font-family=\"Helvetica,sans-Serif\" font-size=\"14.00\" fill=\"#000000\">squared_error = 24.41</text>\n<text text-anchor=\"start\" x=\"2696.5\" y=\"-53.3\" font-family=\"Helvetica,sans-Serif\" font-size=\"14.00\" fill=\"#000000\">samples = 7275</text>\n<text text-anchor=\"start\" x=\"2706\" y=\"-38.3\" font-family=\"Helvetica,sans-Serif\" font-size=\"14.00\" fill=\"#000000\">value = &#45;1.02</text>\n</g>\n<!-- 4&#45;&gt;28 -->\n<g id=\"edge30\" class=\"edge\">\n<title>4&#45;&gt;28</title>\n<path fill=\"none\" stroke=\"#000000\" d=\"M2583.101,-1142.9595C2624.8733,-1038.412 2748.5,-729 2748.5,-729 2748.5,-729 2748.5,-729 2748.5,-505 2748.5,-505 2748.5,-200.7305 2748.5,-93.7004\"/>\n<polygon fill=\"#000000\" stroke=\"#000000\" points=\"2752.0001,-93.6828 2748.5,-83.6828 2745.0001,-93.6828 2752.0001,-93.6828\"/>\n</g>\n</g>\n</svg>\n"
          },
          "metadata": {},
          "execution_count": 191
        }
      ]
    },
    {
      "cell_type": "code",
      "source": [
        "m = DecisionTreeRegressor(min_samples_leaf=10)\n",
        "m.fit(xs, y);"
      ],
      "metadata": {
        "id": "_wto32TJkud4"
      },
      "execution_count": 192,
      "outputs": []
    },
    {
      "cell_type": "code",
      "source": [
        "def r_mse(pred,y): return round(math.sqrt(((pred-y)**2).mean()), 6)\n",
        "def m_rmse(m, xs, y): return r_mse(m.predict(xs), y)"
      ],
      "metadata": {
        "id": "D53phc2JE5RC"
      },
      "execution_count": 193,
      "outputs": []
    },
    {
      "cell_type": "code",
      "source": [
        "m_rmse(m, xs, y)"
      ],
      "metadata": {
        "id": "8CYcTQHLHT4m",
        "colab": {
          "base_uri": "https://localhost:8080/"
        },
        "outputId": "c224ffc5-c9e5-4677-cbef-e67fed0ed35e"
      },
      "execution_count": 194,
      "outputs": [
        {
          "output_type": "execute_result",
          "data": {
            "text/plain": [
              "4.323844"
            ]
          },
          "metadata": {},
          "execution_count": 194
        }
      ]
    },
    {
      "cell_type": "code",
      "source": [
        "m_rmse(m, valid_xs, valid_y)"
      ],
      "metadata": {
        "id": "_oElvFDHHZHm",
        "colab": {
          "base_uri": "https://localhost:8080/"
        },
        "outputId": "afac0864-2540-41b3-c6c5-a7d35417f26f"
      },
      "execution_count": 195,
      "outputs": [
        {
          "output_type": "execute_result",
          "data": {
            "text/plain": [
              "8.048432"
            ]
          },
          "metadata": {},
          "execution_count": 195
        }
      ]
    },
    {
      "cell_type": "code",
      "source": [
        "def rf_feat_importance(m, df):\n",
        "    return pd.DataFrame({'cols':df.columns, 'imp':m.feature_importances_}\n",
        "                       ).sort_values('imp', ascending=False)"
      ],
      "metadata": {
        "id": "oCKCSQSlab4o"
      },
      "execution_count": 196,
      "outputs": []
    },
    {
      "cell_type": "code",
      "source": [
        "fi = rf_feat_importance(m, xs)\n",
        "fi[:10]"
      ],
      "metadata": {
        "id": "jxENiQDXlYKl",
        "colab": {
          "base_uri": "https://localhost:8080/",
          "height": 363
        },
        "outputId": "2d913df0-7b15-494c-da20-28546e03e5c7"
      },
      "execution_count": 197,
      "outputs": [
        {
          "output_type": "execute_result",
          "data": {
            "text/plain": [
              "                                                             cols       imp\n",
              "18                                  lastReportedPosition.speedMPH  0.750975\n",
              "19  lastReportedPosition.milepostLocation.milepost.milepostNumber  0.059979\n",
              "39                                                       milepost  0.043359\n",
              "45                       lastReportedPosition.positionTimeElapsed  0.032509\n",
              "3                                             trainId.trainSymbol  0.027224\n",
              "37                                                    trainLength  0.018626\n",
              "25                                   aotuTrainData.totalCarLength  0.011886\n",
              "0                                             ptcLeadLocomotiveId  0.011863\n",
              "38                                                trailingTonnage  0.007317\n",
              "36                                                  emptyCarCount  0.007036"
            ],
            "text/html": [
              "\n",
              "  <div id=\"df-8f777e49-cf0d-4312-9985-1e5db7399609\">\n",
              "    <div class=\"colab-df-container\">\n",
              "      <div>\n",
              "<style scoped>\n",
              "    .dataframe tbody tr th:only-of-type {\n",
              "        vertical-align: middle;\n",
              "    }\n",
              "\n",
              "    .dataframe tbody tr th {\n",
              "        vertical-align: top;\n",
              "    }\n",
              "\n",
              "    .dataframe thead th {\n",
              "        text-align: right;\n",
              "    }\n",
              "</style>\n",
              "<table border=\"1\" class=\"dataframe\">\n",
              "  <thead>\n",
              "    <tr style=\"text-align: right;\">\n",
              "      <th></th>\n",
              "      <th>cols</th>\n",
              "      <th>imp</th>\n",
              "    </tr>\n",
              "  </thead>\n",
              "  <tbody>\n",
              "    <tr>\n",
              "      <th>18</th>\n",
              "      <td>lastReportedPosition.speedMPH</td>\n",
              "      <td>0.750975</td>\n",
              "    </tr>\n",
              "    <tr>\n",
              "      <th>19</th>\n",
              "      <td>lastReportedPosition.milepostLocation.milepost.milepostNumber</td>\n",
              "      <td>0.059979</td>\n",
              "    </tr>\n",
              "    <tr>\n",
              "      <th>39</th>\n",
              "      <td>milepost</td>\n",
              "      <td>0.043359</td>\n",
              "    </tr>\n",
              "    <tr>\n",
              "      <th>45</th>\n",
              "      <td>lastReportedPosition.positionTimeElapsed</td>\n",
              "      <td>0.032509</td>\n",
              "    </tr>\n",
              "    <tr>\n",
              "      <th>3</th>\n",
              "      <td>trainId.trainSymbol</td>\n",
              "      <td>0.027224</td>\n",
              "    </tr>\n",
              "    <tr>\n",
              "      <th>37</th>\n",
              "      <td>trainLength</td>\n",
              "      <td>0.018626</td>\n",
              "    </tr>\n",
              "    <tr>\n",
              "      <th>25</th>\n",
              "      <td>aotuTrainData.totalCarLength</td>\n",
              "      <td>0.011886</td>\n",
              "    </tr>\n",
              "    <tr>\n",
              "      <th>0</th>\n",
              "      <td>ptcLeadLocomotiveId</td>\n",
              "      <td>0.011863</td>\n",
              "    </tr>\n",
              "    <tr>\n",
              "      <th>38</th>\n",
              "      <td>trailingTonnage</td>\n",
              "      <td>0.007317</td>\n",
              "    </tr>\n",
              "    <tr>\n",
              "      <th>36</th>\n",
              "      <td>emptyCarCount</td>\n",
              "      <td>0.007036</td>\n",
              "    </tr>\n",
              "  </tbody>\n",
              "</table>\n",
              "</div>\n",
              "      <button class=\"colab-df-convert\" onclick=\"convertToInteractive('df-8f777e49-cf0d-4312-9985-1e5db7399609')\"\n",
              "              title=\"Convert this dataframe to an interactive table.\"\n",
              "              style=\"display:none;\">\n",
              "        \n",
              "  <svg xmlns=\"http://www.w3.org/2000/svg\" height=\"24px\"viewBox=\"0 0 24 24\"\n",
              "       width=\"24px\">\n",
              "    <path d=\"M0 0h24v24H0V0z\" fill=\"none\"/>\n",
              "    <path d=\"M18.56 5.44l.94 2.06.94-2.06 2.06-.94-2.06-.94-.94-2.06-.94 2.06-2.06.94zm-11 1L8.5 8.5l.94-2.06 2.06-.94-2.06-.94L8.5 2.5l-.94 2.06-2.06.94zm10 10l.94 2.06.94-2.06 2.06-.94-2.06-.94-.94-2.06-.94 2.06-2.06.94z\"/><path d=\"M17.41 7.96l-1.37-1.37c-.4-.4-.92-.59-1.43-.59-.52 0-1.04.2-1.43.59L10.3 9.45l-7.72 7.72c-.78.78-.78 2.05 0 2.83L4 21.41c.39.39.9.59 1.41.59.51 0 1.02-.2 1.41-.59l7.78-7.78 2.81-2.81c.8-.78.8-2.07 0-2.86zM5.41 20L4 18.59l7.72-7.72 1.47 1.35L5.41 20z\"/>\n",
              "  </svg>\n",
              "      </button>\n",
              "      \n",
              "  <style>\n",
              "    .colab-df-container {\n",
              "      display:flex;\n",
              "      flex-wrap:wrap;\n",
              "      gap: 12px;\n",
              "    }\n",
              "\n",
              "    .colab-df-convert {\n",
              "      background-color: #E8F0FE;\n",
              "      border: none;\n",
              "      border-radius: 50%;\n",
              "      cursor: pointer;\n",
              "      display: none;\n",
              "      fill: #1967D2;\n",
              "      height: 32px;\n",
              "      padding: 0 0 0 0;\n",
              "      width: 32px;\n",
              "    }\n",
              "\n",
              "    .colab-df-convert:hover {\n",
              "      background-color: #E2EBFA;\n",
              "      box-shadow: 0px 1px 2px rgba(60, 64, 67, 0.3), 0px 1px 3px 1px rgba(60, 64, 67, 0.15);\n",
              "      fill: #174EA6;\n",
              "    }\n",
              "\n",
              "    [theme=dark] .colab-df-convert {\n",
              "      background-color: #3B4455;\n",
              "      fill: #D2E3FC;\n",
              "    }\n",
              "\n",
              "    [theme=dark] .colab-df-convert:hover {\n",
              "      background-color: #434B5C;\n",
              "      box-shadow: 0px 1px 3px 1px rgba(0, 0, 0, 0.15);\n",
              "      filter: drop-shadow(0px 1px 2px rgba(0, 0, 0, 0.3));\n",
              "      fill: #FFFFFF;\n",
              "    }\n",
              "  </style>\n",
              "\n",
              "      <script>\n",
              "        const buttonEl =\n",
              "          document.querySelector('#df-8f777e49-cf0d-4312-9985-1e5db7399609 button.colab-df-convert');\n",
              "        buttonEl.style.display =\n",
              "          google.colab.kernel.accessAllowed ? 'block' : 'none';\n",
              "\n",
              "        async function convertToInteractive(key) {\n",
              "          const element = document.querySelector('#df-8f777e49-cf0d-4312-9985-1e5db7399609');\n",
              "          const dataTable =\n",
              "            await google.colab.kernel.invokeFunction('convertToInteractive',\n",
              "                                                     [key], {});\n",
              "          if (!dataTable) return;\n",
              "\n",
              "          const docLinkHtml = 'Like what you see? Visit the ' +\n",
              "            '<a target=\"_blank\" href=https://colab.research.google.com/notebooks/data_table.ipynb>data table notebook</a>'\n",
              "            + ' to learn more about interactive tables.';\n",
              "          element.innerHTML = '';\n",
              "          dataTable['output_type'] = 'display_data';\n",
              "          await google.colab.output.renderOutput(dataTable, element);\n",
              "          const docLink = document.createElement('div');\n",
              "          docLink.innerHTML = docLinkHtml;\n",
              "          element.appendChild(docLink);\n",
              "        }\n",
              "      </script>\n",
              "    </div>\n",
              "  </div>\n",
              "  "
            ]
          },
          "metadata": {},
          "execution_count": 197
        }
      ]
    },
    {
      "cell_type": "markdown",
      "source": [
        "Our first result! It appears the previous speed is so heavily influencing the next speed, it swamps everything else."
      ],
      "metadata": {
        "id": "GAU4iShuUTlj"
      }
    },
    {
      "cell_type": "code",
      "source": [
        "ax = xs['lastReportedPosition.speedMPH'].hist(bins=60)\n"
      ],
      "metadata": {
        "id": "W_xHGvS4mTAv",
        "colab": {
          "base_uri": "https://localhost:8080/",
          "height": 265
        },
        "outputId": "edb3dcab-7265-477c-b2da-95b5aeedd6d1"
      },
      "execution_count": 198,
      "outputs": [
        {
          "output_type": "display_data",
          "data": {
            "text/plain": [
              "<Figure size 432x288 with 1 Axes>"
            ],
            "image/png": "[encoded data removed]"
          },
          "metadata": {
            "needs_background": "light"
          }
        }
      ]
    },
    {
      "cell_type": "code",
      "source": [
        "from sklearn.inspection import plot_partial_dependence\n",
        "\n",
        "fig,ax = plt.subplots(figsize=(12, 4))\n",
        "plot_partial_dependence(m, xs, ['lastReportedPosition.speedMPH'],\n",
        "                        grid_resolution=20, ax=ax);"
      ],
      "metadata": {
        "id": "dVfYTqKvniXo",
        "colab": {
          "base_uri": "https://localhost:8080/",
          "height": 334
        },
        "outputId": "6078d1aa-f880-4466-e815-106c10209d0e"
      },
      "execution_count": 199,
      "outputs": [
        {
          "output_type": "stream",
          "name": "stderr",
          "text": [
            "/usr/local/lib/python3.7/dist-packages/sklearn/utils/deprecation.py:87: FutureWarning: Function plot_partial_dependence is deprecated; Function `plot_partial_dependence` is deprecated in 1.0 and will be removed in 1.2. Use PartialDependenceDisplay.from_estimator instead\n",
            "  warnings.warn(msg, category=FutureWarning)\n"
          ]
        },
        {
          "output_type": "display_data",
          "data": {
            "text/plain": [
              "<Figure size 864x288 with 2 Axes>"
            ],
            "image/png": "[encoded data removed]"
          },
          "metadata": {
            "needs_background": "light"
          }
        }
      ]
    },
    {
      "cell_type": "markdown",
      "source": [
        "This is sort of a dur moment, saying \"Speeds don't change a lot one milepost to the next\".  "
      ],
      "metadata": {
        "id": "CmpVELOUoF-l"
      }
    },
    {
      "cell_type": "markdown",
      "source": [
        "#Random Forest"
      ],
      "metadata": {
        "id": "-iGNWlJDmQrV"
      }
    },
    {
      "cell_type": "code",
      "source": [
        "def randomForest(xs, y, n_estimators=50, max_samples=2500,\n",
        "       max_features=0.5, min_samples_leaf=5, **kwargs):\n",
        "    return RandomForestRegressor(n_jobs=-1, n_estimators=n_estimators,\n",
        "        max_samples=max_samples, max_features=max_features,\n",
        "        min_samples_leaf=min_samples_leaf, oob_score=True).fit(xs, y)"
      ],
      "metadata": {
        "id": "FllkOgNkUTGW"
      },
      "execution_count": 200,
      "outputs": []
    },
    {
      "cell_type": "code",
      "source": [
        "m = randomForest(xs, y);"
      ],
      "metadata": {
        "id": "OqX5AcTWVRXE"
      },
      "execution_count": 201,
      "outputs": []
    },
    {
      "cell_type": "code",
      "source": [
        "m_rmse(m, xs, y), m_rmse(m, valid_xs, valid_y)"
      ],
      "metadata": {
        "id": "33ncywqjVcwn",
        "colab": {
          "base_uri": "https://localhost:8080/"
        },
        "outputId": "2577a570-d19d-4003-95d0-2b1158675b04"
      },
      "execution_count": 202,
      "outputs": [
        {
          "output_type": "execute_result",
          "data": {
            "text/plain": [
              "(5.192543, 6.16446)"
            ]
          },
          "metadata": {},
          "execution_count": 202
        }
      ]
    },
    {
      "cell_type": "code",
      "source": [
        "preds = np.stack([t.predict(valid_xs) for t in m.estimators_])"
      ],
      "metadata": {
        "id": "Dg6iyZCIW0Nt"
      },
      "execution_count": null,
      "outputs": []
    },
    {
      "cell_type": "code",
      "source": [
        "r_mse(preds.mean(0), valid_y)"
      ],
      "metadata": {
        "id": "5UldrkUhXFbi",
        "colab": {
          "base_uri": "https://localhost:8080/"
        },
        "outputId": "031febac-25f7-40e3-d7c7-7b197f562489"
      },
      "execution_count": 204,
      "outputs": [
        {
          "output_type": "execute_result",
          "data": {
            "text/plain": [
              "6.16446"
            ]
          },
          "metadata": {},
          "execution_count": 204
        }
      ]
    },
    {
      "cell_type": "code",
      "source": [
        "plt.plot([r_mse(preds[:i+1].mean(0), valid_y) for i in range(50)]);"
      ],
      "metadata": {
        "id": "eT0fXh6uXIp1",
        "colab": {
          "base_uri": "https://localhost:8080/",
          "height": 267
        },
        "outputId": "471b5871-0db7-4f8b-f36f-4c7ad1ec7c75"
      },
      "execution_count": 205,
      "outputs": [
        {
          "output_type": "display_data",
          "data": {
            "text/plain": [
              "<Figure size 432x288 with 1 Axes>"
            ],
            "image/png": "[encoded data removed]"
          },
          "metadata": {
            "needs_background": "light"
          }
        }
      ]
    },
    {
      "cell_type": "markdown",
      "source": [
        "### Out-of-Bag Error"
      ],
      "metadata": {
        "id": "GN-VS3_2YsOd"
      }
    },
    {
      "cell_type": "code",
      "source": [
        "r_mse(m.oob_prediction_, y)"
      ],
      "metadata": {
        "id": "tvwS19-6Yc20",
        "colab": {
          "base_uri": "https://localhost:8080/"
        },
        "outputId": "2c77a4da-53a3-488a-c336-bc03883c091e"
      },
      "execution_count": 206,
      "outputs": [
        {
          "output_type": "execute_result",
          "data": {
            "text/plain": [
              "5.511683"
            ]
          },
          "metadata": {},
          "execution_count": 206
        }
      ]
    },
    {
      "cell_type": "code",
      "source": [
        ""
      ],
      "metadata": {
        "id": "URHsHfuMZDAS"
      },
      "execution_count": 206,
      "outputs": []
    },
    {
      "cell_type": "markdown",
      "source": [
        "- How confident are we in our predictions using a particular row of data?\n",
        "- For predicting with a particular row of data, what were the most important factors, and how did they influence that prediction?\n",
        "- Which columns are the strongest predictors, which can we ignore?\n",
        "- Which columns are effectively redundant with each other, for purposes of prediction?\n",
        "- How do predictions vary, as we vary these columns?\n"
      ],
      "metadata": {
        "id": "-jSxQWTZZDfx"
      }
    },
    {
      "cell_type": "code",
      "source": [
        "preds = np.stack([t.predict(valid_xs) for t in m.estimators_])"
      ],
      "metadata": {
        "id": "eS53q1RUZRva"
      },
      "execution_count": null,
      "outputs": []
    },
    {
      "cell_type": "code",
      "source": [
        "preds.shape"
      ],
      "metadata": {
        "id": "quArhZFkZtq_",
        "colab": {
          "base_uri": "https://localhost:8080/"
        },
        "outputId": "31059b87-4c6e-4eb1-d710-a3585abd2dfa"
      },
      "execution_count": 208,
      "outputs": [
        {
          "output_type": "execute_result",
          "data": {
            "text/plain": [
              "(50, 14165)"
            ]
          },
          "metadata": {},
          "execution_count": 208
        }
      ]
    },
    {
      "cell_type": "code",
      "source": [
        "preds_std = preds.std(0)"
      ],
      "metadata": {
        "id": "xZCBhV9MZxSH"
      },
      "execution_count": 209,
      "outputs": []
    },
    {
      "cell_type": "code",
      "source": [
        "preds_std[:5]"
      ],
      "metadata": {
        "id": "ZvKvldDdZ44S",
        "colab": {
          "base_uri": "https://localhost:8080/"
        },
        "outputId": "a4a465a0-0964-44a6-c9e3-62b80eb65908"
      },
      "execution_count": 210,
      "outputs": [
        {
          "output_type": "execute_result",
          "data": {
            "text/plain": [
              "array([4.86211208, 4.73573943, 4.47774619, 4.90727132, 3.54458813])"
            ]
          },
          "metadata": {},
          "execution_count": 210
        }
      ]
    },
    {
      "cell_type": "code",
      "source": [
        "print(preds.mean(0)[:10])\n",
        "print(valid_y[:10])"
      ],
      "metadata": {
        "id": "ispifOrY-VK3",
        "colab": {
          "base_uri": "https://localhost:8080/"
        },
        "outputId": "186f0549-a10e-4900-8220-b3f88002cab1"
      },
      "execution_count": 212,
      "outputs": [
        {
          "output_type": "stream",
          "name": "stdout",
          "text": [
            "[2.05045238 2.44992857 2.89535714 2.01762698 3.48681313 3.6836544  3.6836544  3.56314286 4.34202381 4.29897619]\n",
            "14   -4.0\n",
            "15   -3.0\n",
            "20    8.0\n",
            "21   -1.0\n",
            "26    9.0\n",
            "27    9.0\n",
            "28    9.0\n",
            "38   -1.0\n",
            "39    0.0\n",
            "40   -4.0\n",
            "Name: nextSpeed, dtype: float32\n"
          ]
        }
      ]
    },
    {
      "cell_type": "markdown",
      "source": [
        "# FEATURE Importance"
      ],
      "metadata": {
        "id": "tkENwKVIaPXc"
      }
    },
    {
      "cell_type": "code",
      "source": [
        "fi = rf_feat_importance(m, xs)\n",
        "fi[:20]"
      ],
      "metadata": {
        "id": "_xddcBHXaj9O",
        "colab": {
          "base_uri": "https://localhost:8080/",
          "height": 677
        },
        "outputId": "67975fac-2d89-463b-b99a-d703b83fbb04"
      },
      "execution_count": 213,
      "outputs": [
        {
          "output_type": "execute_result",
          "data": {
            "text/plain": [
              "                                                             cols       imp\n",
              "18                                  lastReportedPosition.speedMPH  0.708673\n",
              "19  lastReportedPosition.milepostLocation.milepost.milepostNumber  0.060887\n",
              "39                                                       milepost  0.042850\n",
              "45                       lastReportedPosition.positionTimeElapsed  0.031840\n",
              "37                                                    trainLength  0.014700\n",
              "38                                                trailingTonnage  0.014248\n",
              "3                                             trainId.trainSymbol  0.014203\n",
              "35                                                 loadedCarCount  0.013222\n",
              "6                 lastReportedPosition.milepostLocation.trackName  0.011657\n",
              "0                                             ptcLeadLocomotiveId  0.010385\n",
              "25                                   aotuTrainData.totalCarLength  0.010045\n",
              "24                                   aotuTrainData.totalCarWeight  0.009688\n",
              "26                            aotuTrainData.totalLocomotiveWeight  0.008360\n",
              "36                                                  emptyCarCount  0.007846\n",
              "9                                                   workLocations  0.006280\n",
              "27                            aotuTrainData.totalLocomotiveLength  0.006162\n",
              "4                                               trainId.trainDate  0.005834\n",
              "21                                     aotuTrainData.categoryCode  0.005694\n",
              "29                              aotuTrainData.heavy143TonCarCount  0.004920\n",
              "34                                              maximumTrainSpeed  0.002408"
            ],
            "text/html": [
              "\n",
              "  <div id=\"df-da055c9f-940a-4985-b2fb-6f861e0de342\">\n",
              "    <div class=\"colab-df-container\">\n",
              "      <div>\n",
              "<style scoped>\n",
              "    .dataframe tbody tr th:only-of-type {\n",
              "        vertical-align: middle;\n",
              "    }\n",
              "\n",
              "    .dataframe tbody tr th {\n",
              "        vertical-align: top;\n",
              "    }\n",
              "\n",
              "    .dataframe thead th {\n",
              "        text-align: right;\n",
              "    }\n",
              "</style>\n",
              "<table border=\"1\" class=\"dataframe\">\n",
              "  <thead>\n",
              "    <tr style=\"text-align: right;\">\n",
              "      <th></th>\n",
              "      <th>cols</th>\n",
              "      <th>imp</th>\n",
              "    </tr>\n",
              "  </thead>\n",
              "  <tbody>\n",
              "    <tr>\n",
              "      <th>18</th>\n",
              "      <td>lastReportedPosition.speedMPH</td>\n",
              "      <td>0.708673</td>\n",
              "    </tr>\n",
              "    <tr>\n",
              "      <th>19</th>\n",
              "      <td>lastReportedPosition.milepostLocation.milepost.milepostNumber</td>\n",
              "      <td>0.060887</td>\n",
              "    </tr>\n",
              "    <tr>\n",
              "      <th>39</th>\n",
              "      <td>milepost</td>\n",
              "      <td>0.042850</td>\n",
              "    </tr>\n",
              "    <tr>\n",
              "      <th>45</th>\n",
              "      <td>lastReportedPosition.positionTimeElapsed</td>\n",
              "      <td>0.031840</td>\n",
              "    </tr>\n",
              "    <tr>\n",
              "      <th>37</th>\n",
              "      <td>trainLength</td>\n",
              "      <td>0.014700</td>\n",
              "    </tr>\n",
              "    <tr>\n",
              "      <th>38</th>\n",
              "      <td>trailingTonnage</td>\n",
              "      <td>0.014248</td>\n",
              "    </tr>\n",
              "    <tr>\n",
              "      <th>3</th>\n",
              "      <td>trainId.trainSymbol</td>\n",
              "      <td>0.014203</td>\n",
              "    </tr>\n",
              "    <tr>\n",
              "      <th>35</th>\n",
              "      <td>loadedCarCount</td>\n",
              "      <td>0.013222</td>\n",
              "    </tr>\n",
              "    <tr>\n",
              "      <th>6</th>\n",
              "      <td>lastReportedPosition.milepostLocation.trackName</td>\n",
              "      <td>0.011657</td>\n",
              "    </tr>\n",
              "    <tr>\n",
              "      <th>0</th>\n",
              "      <td>ptcLeadLocomotiveId</td>\n",
              "      <td>0.010385</td>\n",
              "    </tr>\n",
              "    <tr>\n",
              "      <th>25</th>\n",
              "      <td>aotuTrainData.totalCarLength</td>\n",
              "      <td>0.010045</td>\n",
              "    </tr>\n",
              "    <tr>\n",
              "      <th>24</th>\n",
              "      <td>aotuTrainData.totalCarWeight</td>\n",
              "      <td>0.009688</td>\n",
              "    </tr>\n",
              "    <tr>\n",
              "      <th>26</th>\n",
              "      <td>aotuTrainData.totalLocomotiveWeight</td>\n",
              "      <td>0.008360</td>\n",
              "    </tr>\n",
              "    <tr>\n",
              "      <th>36</th>\n",
              "      <td>emptyCarCount</td>\n",
              "      <td>0.007846</td>\n",
              "    </tr>\n",
              "    <tr>\n",
              "      <th>9</th>\n",
              "      <td>workLocations</td>\n",
              "      <td>0.006280</td>\n",
              "    </tr>\n",
              "    <tr>\n",
              "      <th>27</th>\n",
              "      <td>aotuTrainData.totalLocomotiveLength</td>\n",
              "      <td>0.006162</td>\n",
              "    </tr>\n",
              "    <tr>\n",
              "      <th>4</th>\n",
              "      <td>trainId.trainDate</td>\n",
              "      <td>0.005834</td>\n",
              "    </tr>\n",
              "    <tr>\n",
              "      <th>21</th>\n",
              "      <td>aotuTrainData.categoryCode</td>\n",
              "      <td>0.005694</td>\n",
              "    </tr>\n",
              "    <tr>\n",
              "      <th>29</th>\n",
              "      <td>aotuTrainData.heavy143TonCarCount</td>\n",
              "      <td>0.004920</td>\n",
              "    </tr>\n",
              "    <tr>\n",
              "      <th>34</th>\n",
              "      <td>maximumTrainSpeed</td>\n",
              "      <td>0.002408</td>\n",
              "    </tr>\n",
              "  </tbody>\n",
              "</table>\n",
              "</div>\n",
              "      <button class=\"colab-df-convert\" onclick=\"convertToInteractive('df-da055c9f-940a-4985-b2fb-6f861e0de342')\"\n",
              "              title=\"Convert this dataframe to an interactive table.\"\n",
              "              style=\"display:none;\">\n",
              "        \n",
              "  <svg xmlns=\"http://www.w3.org/2000/svg\" height=\"24px\"viewBox=\"0 0 24 24\"\n",
              "       width=\"24px\">\n",
              "    <path d=\"M0 0h24v24H0V0z\" fill=\"none\"/>\n",
              "    <path d=\"M18.56 5.44l.94 2.06.94-2.06 2.06-.94-2.06-.94-.94-2.06-.94 2.06-2.06.94zm-11 1L8.5 8.5l.94-2.06 2.06-.94-2.06-.94L8.5 2.5l-.94 2.06-2.06.94zm10 10l.94 2.06.94-2.06 2.06-.94-2.06-.94-.94-2.06-.94 2.06-2.06.94z\"/><path d=\"M17.41 7.96l-1.37-1.37c-.4-.4-.92-.59-1.43-.59-.52 0-1.04.2-1.43.59L10.3 9.45l-7.72 7.72c-.78.78-.78 2.05 0 2.83L4 21.41c.39.39.9.59 1.41.59.51 0 1.02-.2 1.41-.59l7.78-7.78 2.81-2.81c.8-.78.8-2.07 0-2.86zM5.41 20L4 18.59l7.72-7.72 1.47 1.35L5.41 20z\"/>\n",
              "  </svg>\n",
              "      </button>\n",
              "      \n",
              "  <style>\n",
              "    .colab-df-container {\n",
              "      display:flex;\n",
              "      flex-wrap:wrap;\n",
              "      gap: 12px;\n",
              "    }\n",
              "\n",
              "    .colab-df-convert {\n",
              "      background-color: #E8F0FE;\n",
              "      border: none;\n",
              "      border-radius: 50%;\n",
              "      cursor: pointer;\n",
              "      display: none;\n",
              "      fill: #1967D2;\n",
              "      height: 32px;\n",
              "      padding: 0 0 0 0;\n",
              "      width: 32px;\n",
              "    }\n",
              "\n",
              "    .colab-df-convert:hover {\n",
              "      background-color: #E2EBFA;\n",
              "      box-shadow: 0px 1px 2px rgba(60, 64, 67, 0.3), 0px 1px 3px 1px rgba(60, 64, 67, 0.15);\n",
              "      fill: #174EA6;\n",
              "    }\n",
              "\n",
              "    [theme=dark] .colab-df-convert {\n",
              "      background-color: #3B4455;\n",
              "      fill: #D2E3FC;\n",
              "    }\n",
              "\n",
              "    [theme=dark] .colab-df-convert:hover {\n",
              "      background-color: #434B5C;\n",
              "      box-shadow: 0px 1px 3px 1px rgba(0, 0, 0, 0.15);\n",
              "      filter: drop-shadow(0px 1px 2px rgba(0, 0, 0, 0.3));\n",
              "      fill: #FFFFFF;\n",
              "    }\n",
              "  </style>\n",
              "\n",
              "      <script>\n",
              "        const buttonEl =\n",
              "          document.querySelector('#df-da055c9f-940a-4985-b2fb-6f861e0de342 button.colab-df-convert');\n",
              "        buttonEl.style.display =\n",
              "          google.colab.kernel.accessAllowed ? 'block' : 'none';\n",
              "\n",
              "        async function convertToInteractive(key) {\n",
              "          const element = document.querySelector('#df-da055c9f-940a-4985-b2fb-6f861e0de342');\n",
              "          const dataTable =\n",
              "            await google.colab.kernel.invokeFunction('convertToInteractive',\n",
              "                                                     [key], {});\n",
              "          if (!dataTable) return;\n",
              "\n",
              "          const docLinkHtml = 'Like what you see? Visit the ' +\n",
              "            '<a target=\"_blank\" href=https://colab.research.google.com/notebooks/data_table.ipynb>data table notebook</a>'\n",
              "            + ' to learn more about interactive tables.';\n",
              "          element.innerHTML = '';\n",
              "          dataTable['output_type'] = 'display_data';\n",
              "          await google.colab.output.renderOutput(dataTable, element);\n",
              "          const docLink = document.createElement('div');\n",
              "          docLink.innerHTML = docLinkHtml;\n",
              "          element.appendChild(docLink);\n",
              "        }\n",
              "      </script>\n",
              "    </div>\n",
              "  </div>\n",
              "  "
            ]
          },
          "metadata": {},
          "execution_count": 213
        }
      ]
    },
    {
      "cell_type": "code",
      "source": [
        "def plot_fi(fi):\n",
        "    return fi.plot('cols', 'imp', 'barh', figsize=(12,7), legend=False)\n",
        "\n",
        "plot_fi(fi[:30]);"
      ],
      "metadata": {
        "id": "PrrzmK6AflwF",
        "colab": {
          "base_uri": "https://localhost:8080/",
          "height": 428
        },
        "outputId": "32fc5392-1746-4215-85fc-a7d47151de5b"
      },
      "execution_count": 214,
      "outputs": [
        {
          "output_type": "display_data",
          "data": {
            "text/plain": [
              "<Figure size 864x504 with 1 Axes>"
            ],
            "image/png": "[encoded data removed]"
          },
          "metadata": {
            "needs_background": "light"
          }
        }
      ]
    },
    {
      "cell_type": "markdown",
      "source": [
        "Remove low importance columns"
      ],
      "metadata": {
        "id": "ic6LbeWIf2EQ"
      }
    },
    {
      "cell_type": "code",
      "source": [
        "to_keep = fi[fi.imp>0.002].cols\n",
        "len(to_keep)"
      ],
      "metadata": {
        "id": "jaWtqZdQfwmy",
        "colab": {
          "base_uri": "https://localhost:8080/"
        },
        "outputId": "e7282ad0-0884-4f54-b28e-a850c0334365"
      },
      "execution_count": 215,
      "outputs": [
        {
          "output_type": "execute_result",
          "data": {
            "text/plain": [
              "22"
            ]
          },
          "metadata": {},
          "execution_count": 215
        }
      ]
    },
    {
      "cell_type": "code",
      "source": [
        "xs_imp = xs[to_keep]\n",
        "valid_xs_imp = valid_xs[to_keep]"
      ],
      "metadata": {
        "id": "KK47uCFsgAYv"
      },
      "execution_count": 216,
      "outputs": []
    },
    {
      "cell_type": "code",
      "source": [
        "m = randomForest(xs_imp, y)"
      ],
      "metadata": {
        "id": "GgFy875_gGp4"
      },
      "execution_count": 217,
      "outputs": []
    },
    {
      "cell_type": "code",
      "source": [
        "m_rmse(m, xs_imp, y), m_rmse(m, valid_xs_imp, valid_y)"
      ],
      "metadata": {
        "id": "5e5LZrqmgJf2",
        "colab": {
          "base_uri": "https://localhost:8080/"
        },
        "outputId": "b0478ecb-c91d-43c4-f820-043058ac4681"
      },
      "execution_count": 218,
      "outputs": [
        {
          "output_type": "execute_result",
          "data": {
            "text/plain": [
              "(5.204624, 6.097417)"
            ]
          },
          "metadata": {},
          "execution_count": 218
        }
      ]
    },
    {
      "cell_type": "code",
      "source": [
        "plot_fi(rf_feat_importance(m, xs_imp));"
      ],
      "metadata": {
        "id": "5Szx4cKsgKPL",
        "colab": {
          "base_uri": "https://localhost:8080/",
          "height": 428
        },
        "outputId": "e7cd21e6-b7c0-4ab7-8119-71de26423837"
      },
      "execution_count": 219,
      "outputs": [
        {
          "output_type": "display_data",
          "data": {
            "text/plain": [
              "<Figure size 864x504 with 1 Axes>"
            ],
            "image/png": "[encoded data removed]"
          },
          "metadata": {
            "needs_background": "light"
          }
        }
      ]
    },
    {
      "cell_type": "code",
      "source": [
        "fastai.cluster_columns(xs_imp)"
      ],
      "metadata": {
        "id": "ZRqtok8LhwlR",
        "colab": {
          "base_uri": "https://localhost:8080/",
          "height": 374
        },
        "outputId": "bbc35ec3-7070-42c5-bb34-8292fd1341f2"
      },
      "execution_count": 220,
      "outputs": [
        {
          "output_type": "display_data",
          "data": {
            "text/plain": [
              "<Figure size 720x432 with 1 Axes>"
            ],
            "image/png": "[encoded data removed]"
          },
          "metadata": {
            "needs_background": "light"
          }
        }
      ]
    }
  ],
  "metadata": {
    "colab": {
      "name": "MLModel1-2.ipynb",
      "provenance": [],
      "collapsed_sections": [],
      "include_colab_link": true
    },
    "interpreter": {
      "hash": "99fae7d265480b5fbb0cf965db398c4d2d7b17b55f6259418c7dbfe0de01ea90"
    },
    "kernelspec": {
      "display_name": "Python 3 (ipykernel)",
      "language": "python",
      "name": "python3"
    },
    "language_info": {
      "codemirror_mode": {
        "name": "ipython",
        "version": 3
      },
      "file_extension": ".py",
      "mimetype": "text/x-python",
      "name": "python",
      "nbconvert_exporter": "python",
      "pygments_lexer": "ipython3",
      "version": "3.9.12"
    }
  },
  "nbformat": 4,
  "nbformat_minor": 0
}