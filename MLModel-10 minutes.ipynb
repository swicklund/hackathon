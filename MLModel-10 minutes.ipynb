{
  "cells": [
    {
      "cell_type": "markdown",
      "metadata": {
        "id": "view-in-github",
        "colab_type": "text"
      },
      "source": [
        "<a href=\"https://colab.research.google.com/github/swicklund/hackathon/blob/main/MLModel-10%20minutes.ipynb\" target=\"_parent\"><img src=\"https://colab.research.google.com/assets/colab-badge.svg\" alt=\"Open In Colab\"/></a>"
      ]
    },
    {
      "cell_type": "code",
      "execution_count": 3,
      "metadata": {
        "id": "f18J8QM17E0a",
        "colab": {
          "base_uri": "https://localhost:8080/"
        },
        "outputId": "b169bb74-f194-44f9-cd64-9319cf6efaec"
      },
      "outputs": [
        {
          "output_type": "stream",
          "name": "stdout",
          "text": [
            "\u001b[K     |████████████████████████████████| 719 kB 12.8 MB/s \n",
            "\u001b[K     |████████████████████████████████| 362 kB 80.1 MB/s \n",
            "\u001b[K     |████████████████████████████████| 4.4 MB 56.9 MB/s \n",
            "\u001b[K     |████████████████████████████████| 1.2 MB 74.8 MB/s \n",
            "\u001b[K     |████████████████████████████████| 1.1 MB 81.6 MB/s \n",
            "\u001b[K     |████████████████████████████████| 101 kB 12.7 MB/s \n",
            "\u001b[K     |████████████████████████████████| 140 kB 72.2 MB/s \n",
            "\u001b[K     |████████████████████████████████| 212 kB 77.3 MB/s \n",
            "\u001b[K     |████████████████████████████████| 596 kB 54.1 MB/s \n",
            "\u001b[K     |████████████████████████████████| 127 kB 80.6 MB/s \n",
            "\u001b[K     |████████████████████████████████| 144 kB 80.8 MB/s \n",
            "\u001b[K     |████████████████████████████████| 271 kB 96.0 MB/s \n",
            "\u001b[K     |████████████████████████████████| 94 kB 4.2 MB/s \n",
            "\u001b[K     |████████████████████████████████| 6.6 MB 54.6 MB/s \n",
            "\u001b[31mERROR: pip's dependency resolver does not currently take into account all the packages that are installed. This behaviour is the source of the following dependency conflicts.\n",
            "datascience 0.10.6 requires folium==0.2.1, but you have folium 0.8.3 which is incompatible.\u001b[0m\n",
            "\u001b[?25hLooking in indexes: https://pypi.org/simple, https://us-python.pkg.dev/colab-wheels/public/simple/\n",
            "Collecting dtreeviz\n",
            "  Downloading dtreeviz-1.3.6.tar.gz (61 kB)\n",
            "\u001b[K     |████████████████████████████████| 61 kB 250 kB/s \n",
            "\u001b[?25hRequirement already satisfied: graphviz>=0.9 in /usr/local/lib/python3.7/dist-packages (from dtreeviz) (0.10.1)\n",
            "Requirement already satisfied: pandas in /usr/local/lib/python3.7/dist-packages (from dtreeviz) (1.3.5)\n",
            "Requirement already satisfied: numpy in /usr/local/lib/python3.7/dist-packages (from dtreeviz) (1.21.6)\n",
            "Requirement already satisfied: scikit-learn in /usr/local/lib/python3.7/dist-packages (from dtreeviz) (1.0.2)\n",
            "Requirement already satisfied: matplotlib in /usr/local/lib/python3.7/dist-packages (from dtreeviz) (3.2.2)\n",
            "Collecting colour\n",
            "  Downloading colour-0.1.5-py2.py3-none-any.whl (23 kB)\n",
            "Requirement already satisfied: pytest in /usr/local/lib/python3.7/dist-packages (from dtreeviz) (3.6.4)\n",
            "Requirement already satisfied: cycler>=0.10 in /usr/local/lib/python3.7/dist-packages (from matplotlib->dtreeviz) (0.11.0)\n",
            "Requirement already satisfied: pyparsing!=2.0.4,!=2.1.2,!=2.1.6,>=2.0.1 in /usr/local/lib/python3.7/dist-packages (from matplotlib->dtreeviz) (3.0.9)\n",
            "Requirement already satisfied: kiwisolver>=1.0.1 in /usr/local/lib/python3.7/dist-packages (from matplotlib->dtreeviz) (1.4.3)\n",
            "Requirement already satisfied: python-dateutil>=2.1 in /usr/local/lib/python3.7/dist-packages (from matplotlib->dtreeviz) (2.8.2)\n",
            "Requirement already satisfied: typing-extensions in /usr/local/lib/python3.7/dist-packages (from kiwisolver>=1.0.1->matplotlib->dtreeviz) (4.1.1)\n",
            "Requirement already satisfied: six>=1.5 in /usr/local/lib/python3.7/dist-packages (from python-dateutil>=2.1->matplotlib->dtreeviz) (1.15.0)\n",
            "Requirement already satisfied: pytz>=2017.3 in /usr/local/lib/python3.7/dist-packages (from pandas->dtreeviz) (2022.1)\n",
            "Requirement already satisfied: attrs>=17.4.0 in /usr/local/lib/python3.7/dist-packages (from pytest->dtreeviz) (21.4.0)\n",
            "Requirement already satisfied: more-itertools>=4.0.0 in /usr/local/lib/python3.7/dist-packages (from pytest->dtreeviz) (8.13.0)\n",
            "Requirement already satisfied: atomicwrites>=1.0 in /usr/local/lib/python3.7/dist-packages (from pytest->dtreeviz) (1.4.0)\n",
            "Requirement already satisfied: py>=1.5.0 in /usr/local/lib/python3.7/dist-packages (from pytest->dtreeviz) (1.11.0)\n",
            "Requirement already satisfied: pluggy<0.8,>=0.5 in /usr/local/lib/python3.7/dist-packages (from pytest->dtreeviz) (0.7.1)\n",
            "Requirement already satisfied: setuptools in /usr/local/lib/python3.7/dist-packages (from pytest->dtreeviz) (57.4.0)\n",
            "Requirement already satisfied: threadpoolctl>=2.0.0 in /usr/local/lib/python3.7/dist-packages (from scikit-learn->dtreeviz) (3.1.0)\n",
            "Requirement already satisfied: scipy>=1.1.0 in /usr/local/lib/python3.7/dist-packages (from scikit-learn->dtreeviz) (1.4.1)\n",
            "Requirement already satisfied: joblib>=0.11 in /usr/local/lib/python3.7/dist-packages (from scikit-learn->dtreeviz) (1.1.0)\n",
            "Building wheels for collected packages: dtreeviz\n",
            "  Building wheel for dtreeviz (setup.py) ... \u001b[?25l\u001b[?25hdone\n",
            "  Created wheel for dtreeviz: filename=dtreeviz-1.3.6-py3-none-any.whl size=67326 sha256=369308352776b1c874b37bffde06b085e82182445e542da4a727e2a1e742141a\n",
            "  Stored in directory: /root/.cache/pip/wheels/33/76/fe/99227ff871766e7284bb88d3d28e2f4886b8ec04d669033478\n",
            "Successfully built dtreeviz\n",
            "Installing collected packages: colour, dtreeviz\n",
            "Successfully installed colour-0.1.5 dtreeviz-1.3.6\n",
            "Updated property [core/project].\n",
            "Mounted at /content/gdrive\n"
          ]
        }
      ],
      "source": [
        "!pip install -Uqq fastbook\n",
        "!pip install dtreeviz\n",
        "!gcloud config set project {'hackathon-352519'}\n",
        "\n",
        "import os\n",
        "\n",
        "import IPython\n",
        "import IPython.display\n",
        "import matplotlib as mpl\n",
        "import matplotlib.pyplot as plt\n",
        "import numpy as np\n",
        "import fastbook as fastai\n",
        "import pandas as pd\n",
        "from pandas.io.json import json_normalize\n",
        "import seaborn as sns\n",
        "import tensorflow as tf\n",
        "import json\n",
        "import zipfile\n",
        "from io import BytesIO\n",
        "import torch\n",
        "import math\n",
        "from google.colab import files\n",
        "from google.colab import auth\n",
        "from datetime import datetime, timedelta\n",
        "\n",
        "fastai.setup_book()\n",
        "from fastai import tabular\n",
        "from pandas.api.types import is_string_dtype, is_numeric_dtype, is_categorical_dtype\n",
        "from fastai.tabular.all import *\n",
        "from sklearn.ensemble import RandomForestRegressor\n",
        "from sklearn.tree import DecisionTreeRegressor\n",
        "from dtreeviz.trees import *\n",
        "from IPython.display import Image, display_svg, SVG\n",
        "\n",
        "pd.options.display.max_rows = 20\n",
        "pd.options.display.max_columns = 8\n",
        "auth.authenticate_user()\n"
      ]
    },
    {
      "cell_type": "code",
      "source": [
        "#filename = \"train-data_all-train-events.zip\"\n",
        "#filename = \"train-data-2022062020220626.zip\"\n",
        "filename = \"train-events-20-min.zip\"\n",
        "#measurement = { 'unit' : 'miles', 'size' : 1.0 }\n",
        "measurement = { 'unit' : 'minutes', 'size' : 10.0 }"
      ],
      "metadata": {
        "id": "M3W7KKZc8f92"
      },
      "execution_count": 4,
      "outputs": []
    },
    {
      "cell_type": "code",
      "source": [
        "!gsutil cp gs://trains_data/$filename /tmp/."
      ],
      "metadata": {
        "id": "srQJL7OKVRww",
        "colab": {
          "base_uri": "https://localhost:8080/"
        },
        "outputId": "b55588ca-c4dc-47b8-d3ae-025db0baba1b"
      },
      "execution_count": 5,
      "outputs": [
        {
          "output_type": "stream",
          "name": "stdout",
          "text": [
            "Copying gs://trains_data/train-events-20-min.zip...\n",
            "- [1 files][ 40.7 MiB/ 40.7 MiB]                                                \n",
            "Operation completed over 1 objects/40.7 MiB.                                     \n"
          ]
        }
      ]
    },
    {
      "cell_type": "code",
      "execution_count": 6,
      "metadata": {
        "id": "ckXLQ7eQ7E0c",
        "colab": {
          "base_uri": "https://localhost:8080/"
        },
        "outputId": "e54c1b17-7d66-47b2-c72b-4d6ffa93071a"
      },
      "outputs": [
        {
          "output_type": "stream",
          "name": "stdout",
          "text": [
            "1000   20:56:47\n",
            "2000   20:56:56\n",
            "3000   20:57:05\n",
            "4000   20:57:10\n",
            "5000   20:57:14\n",
            "6000   20:57:18\n"
          ]
        }
      ],
      "source": [
        "trains = {}\n",
        "i = 1\n",
        "with zipfile.ZipFile(\"/tmp/\"+filename, \"r\") as f:\n",
        "    for name in f.namelist():\n",
        "        if name.endswith('.json'):\n",
        "            with f.open(name) as zd:\n",
        "                data = json.load(zd)\n",
        "                lastTrainReporting = data['lastTrainReporting']\n",
        "                currentLoco = lastTrainReporting['ptcLeadLocomotiveId']\n",
        "                if (\"trainActualPositionList\" in lastTrainReporting and len(lastTrainReporting['trainActualPositionList']) > 0): \n",
        "                    trains[i] = pd.json_normalize(lastTrainReporting)\n",
        "                    i = i + 1\n",
        "                    if (i % 1000 == 0):\n",
        "                      print(i, \" \", datetime.now().strftime(\"%H:%M:%S\"))\n",
        "                            "
      ]
    },
    {
      "cell_type": "code",
      "execution_count": 7,
      "metadata": {
        "id": "lgWV768N7E0d"
      },
      "outputs": [],
      "source": [
        "dfTrainsAll = pd.concat(trains.values())\n",
        "dfTrainsAll[\"milepost\"] = dfTrainsAll.apply(lambda row: math.trunc(row['lastReportedPosition.milepostLocation.milepost.milepostNumber']), axis=1)"
      ]
    },
    {
      "cell_type": "code",
      "source": [
        "del trains"
      ],
      "metadata": {
        "id": "Q581UU9nCWZ1"
      },
      "execution_count": 8,
      "outputs": []
    },
    {
      "cell_type": "code",
      "execution_count": 9,
      "metadata": {
        "id": "Idznxze77E0e",
        "colab": {
          "base_uri": "https://localhost:8080/"
        },
        "outputId": "9be19415-bdf6-486a-e9ff-80d83e0948a0"
      },
      "outputs": [
        {
          "output_type": "stream",
          "name": "stdout",
          "text": [
            "<class 'pandas.core.frame.DataFrame'>\n",
            "Int64Index: 6747 entries, 0 to 0\n",
            "Data columns (total 37 columns):\n",
            " #   Column                                                         Non-Null Count  Dtype  \n",
            "---  ------                                                         --------------  -----  \n",
            " 0   ptcLeadLocomotiveId                                            6747 non-null   object \n",
            " 1   positionHistoryList                                            6747 non-null   object \n",
            " 2   locomotiveList                                                 6747 non-null   object \n",
            " 3   subdivisionList                                                6747 non-null   object \n",
            " 4   trainEstimatedPositionList                                     6747 non-null   object \n",
            " 5   trainActualPositionList                                        6747 non-null   object \n",
            " 6   trainId.trainSCAC                                              6747 non-null   object \n",
            " 7   trainId.trainSection                                           6747 non-null   object \n",
            " 8   trainId.trainSymbol                                            6747 non-null   object \n",
            " 9   trainId.trainDate                                              6747 non-null   object \n",
            " 10  lastReportedPosition.positionTime                              6747 non-null   object \n",
            " 11  lastReportedPosition.speedMPH                                  6747 non-null   int64  \n",
            " 12  lastReportedPosition.milepostLocation.subdivisionId            6747 non-null   int64  \n",
            " 13  lastReportedPosition.milepostLocation.trackName                6747 non-null   object \n",
            " 14  lastReportedPosition.milepostLocation.milepost.milepostNumber  6747 non-null   float64\n",
            " 15  aotuTrainData.priorityCode                                     6531 non-null   float64\n",
            " 16  aotuTrainData.categoryCode                                     6531 non-null   float64\n",
            " 17  aotuTrainData.authorityRangeCode                               6531 non-null   float64\n",
            " 18  aotuTrainData.ownershipCode                                    6531 non-null   float64\n",
            " 19  aotuTrainData.tenantCarrier                                    6531 non-null   object \n",
            " 20  aotuTrainData.totalCarWeight                                   6531 non-null   float64\n",
            " 21  aotuTrainData.totalCarLength                                   6531 non-null   float64\n",
            " 22  aotuTrainData.totalLocomotiveWeight                            6531 non-null   float64\n",
            " 23  aotuTrainData.totalLocomotiveLength                            6531 non-null   float64\n",
            " 24  aotuTrainData.actualTonsPerAxle                                6531 non-null   float64\n",
            " 25  aotuTrainData.heavy143TonCarCount                              6531 non-null   float64\n",
            " 26  aotuTrainData.heavy158TonCarCount                              6531 non-null   float64\n",
            " 27  aotuTrainData.over158TonCarCount                               6531 non-null   float64\n",
            " 28  aotuTrainData.highWideCarCount                                 6531 non-null   float64\n",
            " 29  aotuTrainData.eventCode                                        6531 non-null   float64\n",
            " 30  aotuTrainData.routeLocationList                                6531 non-null   object \n",
            " 31  maximumTrainSpeed                                              6274 non-null   float64\n",
            " 32  loadedCarCount                                                 6274 non-null   float64\n",
            " 33  emptyCarCount                                                  6274 non-null   float64\n",
            " 34  trainLength                                                    6274 non-null   float64\n",
            " 35  trailingTonnage                                                6274 non-null   float64\n",
            " 36  milepost                                                       6747 non-null   int64  \n",
            "dtypes: float64(20), int64(3), object(14)\n",
            "memory usage: 2.0+ MB\n",
            "None\n",
            "(6747, 37)\n"
          ]
        }
      ],
      "source": [
        "print(dfTrainsAll.info())\n",
        "print(dfTrainsAll.shape)"
      ]
    },
    {
      "cell_type": "markdown",
      "source": [
        "# Create a learning set to modify"
      ],
      "metadata": {
        "id": "D2hF44lYkNIf"
      }
    },
    {
      "cell_type": "code",
      "source": [
        "dfTrainsLearn = dfTrainsAll"
      ],
      "metadata": {
        "id": "it2dDKRfbk0_"
      },
      "execution_count": 10,
      "outputs": []
    },
    {
      "cell_type": "markdown",
      "source": [
        "Clear the nan values and replace with max values."
      ],
      "metadata": {
        "id": "d5b2nVAbkR7M"
      }
    },
    {
      "cell_type": "code",
      "source": [
        "dfTrainsLearn['loadedCarCount'] =  dfTrainsLearn['loadedCarCount'].replace(np.nan, 999.)\n",
        "dfTrainsLearn['emptyCarCount'] =  dfTrainsLearn['emptyCarCount'].replace(np.nan, 999.)\n",
        "dfTrainsLearn['trainLength'] =  dfTrainsLearn['trainLength'].replace(np.nan, 99999.)\n",
        "dfTrainsLearn['trailingTonnage'] =  dfTrainsLearn['trailingTonnage'].replace(np.nan, 99999.)"
      ],
      "metadata": {
        "id": "jTMp9nMBZav1"
      },
      "execution_count": 11,
      "outputs": []
    },
    {
      "cell_type": "markdown",
      "source": [
        "Determine if the train is moving milepost Increasing or decreasing."
      ],
      "metadata": {
        "id": "2yxcbslMj-uZ"
      }
    },
    {
      "cell_type": "code",
      "source": [
        "dfTrainsLearn['mpIncr'] = dfTrainsLearn.apply(lambda row: row['lastReportedPosition.speedMPH'] >= 0, axis=1)"
      ],
      "metadata": {
        "id": "-XDkAezxjVGH"
      },
      "execution_count": 12,
      "outputs": []
    },
    {
      "cell_type": "markdown",
      "source": [
        "Make all speeds positive"
      ],
      "metadata": {
        "id": "_Nge0iAIkFTV"
      }
    },
    {
      "cell_type": "code",
      "source": [
        "dfTrainsLearn['lastReportedPosition.speedMPH']  = dfTrainsLearn.apply(lambda row: abs(row['lastReportedPosition.speedMPH']), axis=1)\n",
        "dfTrainsLearn['maximumTrainSpeed']  = dfTrainsLearn.apply(lambda row: abs(row['maximumTrainSpeed']), axis=1)"
      ],
      "metadata": {
        "id": "TjMlCKaoxbMw"
      },
      "execution_count": 13,
      "outputs": []
    },
    {
      "cell_type": "code",
      "source": [
        "print(\"Speed Distribution:\")\n",
        "dfTrainsLearn['lastReportedPosition.speedMPH'].hist(bins=90)"
      ],
      "metadata": {
        "id": "KWQaxYZ3yC1f",
        "colab": {
          "base_uri": "https://localhost:8080/",
          "height": 303
        },
        "outputId": "afc93efa-a87c-4666-bd4f-3555e21f10a5"
      },
      "execution_count": 14,
      "outputs": [
        {
          "output_type": "stream",
          "name": "stdout",
          "text": [
            "Speed Distribution:\n"
          ]
        },
        {
          "output_type": "execute_result",
          "data": {
            "text/plain": [
              "<matplotlib.axes._subplots.AxesSubplot at 0x7fe171a7e250>"
            ]
          },
          "metadata": {},
          "execution_count": 14
        },
        {
          "output_type": "display_data",
          "data": {
            "text/plain": [
              "<Figure size 432x288 with 1 Axes>"
            ],
            "image/png": "[encoded data removed]"
          },
          "metadata": {
            "needs_background": "light"
          }
        }
      ]
    },
    {
      "cell_type": "markdown",
      "source": [
        "Replace the NaN values in AOTU with zeros"
      ],
      "metadata": {
        "id": "hQ65ocjckk-s"
      }
    },
    {
      "cell_type": "code",
      "source": [
        "aotuColumns = [item for item in dfTrainsLearn.columns if item.startswith('aotu')]\n",
        "for column in aotuColumns:\n",
        "  dfTrainsLearn[column] =  dfTrainsLearn[column].replace(np.nan, 0.)"
      ],
      "metadata": {
        "id": "IjhK53fef5eG"
      },
      "execution_count": 15,
      "outputs": []
    },
    {
      "cell_type": "markdown",
      "source": [
        "Categorize the applicable variables"
      ],
      "metadata": {
        "id": "Skh2x30Ao2aj"
      }
    },
    {
      "cell_type": "code",
      "source": [
        "def categorize(aDataFrame, columnName, defaultReplacement):\n",
        "  aDataFrame[columnName] = aDataFrame[columnName].fillna(value=defaultReplacement)\n",
        "  categories = aDataFrame[columnName].unique()\n",
        "  print(aDataFrame[columnName].unique())\n",
        "  aDataFrame[columnName] = aDataFrame[columnName].astype('category')\n",
        "  aDataFrame[columnName] = aDataFrame[columnName].cat.set_categories(categories)\n",
        "  return aDataFrame"
      ],
      "metadata": {
        "id": "FPO5BUrpVl5t"
      },
      "execution_count": 16,
      "outputs": []
    },
    {
      "cell_type": "code",
      "source": [
        "dfTrainsLearn['symbolType'] = dfTrainsLearn.apply(lambda row: row['trainId.trainSymbol'][:1], axis=1)\n",
        "dfTrainsLearn = categorize(dfTrainsLearn, 'symbolType', \"X\")\n",
        "dfTrainsLearn = categorize(dfTrainsLearn, 'lastReportedPosition.milepostLocation.trackName', \"UNKNOWN\")\n",
        "dfTrainsLearn = categorize(dfTrainsLearn, 'trainId.trainSCAC',\"UNK\")\n",
        "dfTrainsLearn = categorize(dfTrainsLearn, 'trainId.trainSection', ' ')\n",
        "dfTrainsLearn = categorize(dfTrainsLearn, 'aotuTrainData.priorityCode', 0)  # may want to order these\n",
        "dfTrainsLearn = categorize(dfTrainsLearn, 'aotuTrainData.categoryCode', 0)\n",
        "dfTrainsLearn = categorize(dfTrainsLearn, 'aotuTrainData.authorityRangeCode', 0)\n",
        "dfTrainsLearn = categorize(dfTrainsLearn, 'aotuTrainData.ownershipCode', 0)\n",
        "dfTrainsLearn = categorize(dfTrainsLearn, 'aotuTrainData.tenantCarrier', \"0\")\n",
        "dfTrainsLearn = categorize(dfTrainsLearn, 'aotuTrainData.eventCode', 0)\n",
        " "
      ],
      "metadata": {
        "colab": {
          "base_uri": "https://localhost:8080/"
        },
        "id": "CKDKREgdNRGT",
        "outputId": "fd033827-a9ee-410d-af3a-77cd224c43e4"
      },
      "execution_count": 17,
      "outputs": [
        {
          "output_type": "stream",
          "name": "stdout",
          "text": [
            "['A' 'Q' 'M' 'H' 'G' 'U' 'I' 'O' 'E' 'C' 'Y' 'L' 'Z' 'S' 'R' 'W']\n",
            "['TO_S_UP_MAINLINE' 'WEST MAIN' 'EAST MAIN' 'TO_N_EAST MAIN' 'MAIN' 'S_LUCAS' 'NEW LACY TRACK' 'MAIN CHAISON YARD' 'MT 2' 'MT 1' 'S_VIDOR' 'TO_S_VIDOR' 'TO_S_CS JUNCTION' 'S_HELME' 'EASTXO'\n",
            " 'TO_S_KCS UP PRT CONN' 'KCS UP PORT CONNECT' 'WESTXO' 'N SIDING' 'XO' 'TO_N_HELME' 'TO_N_CHAISON MAIN' 'TO_N_LUCAS' 'TO_N_STARKS' 'S_STARKS' 'S_MAURICEVILLE' 'TO_S_LUCAS' 'TO_N_MAURICEVILLE' 'YD LD'\n",
            " 'TO_N_VIDOR' 'S_FISHER' 'S_CONVERSE' 'S_ANACOCO' 'S_NEAME' 'S_LEESVILLE']\n",
            "['UP']\n",
            "['' '2' '3' '4' '5']\n",
            "[1. 2. 0. 4. 3.]\n",
            "[14. 12.  0.  9.  8. 10. 18. 15.  4. 20. 11.  2. 17. 16. 13. 19.]\n",
            "[2. 0. 3. 1.]\n",
            "[3. 0. 2.]\n",
            "['AMTK' 'BNSF' 0.0 '' 'KCS']\n",
            "[0.]\n"
          ]
        }
      ]
    },
    {
      "cell_type": "markdown",
      "source": [
        "Replace unknown max speeds with 88 miles per hour (to make them recognizable)"
      ],
      "metadata": {
        "id": "5fP9phXQlAXf"
      }
    },
    {
      "cell_type": "code",
      "source": [
        "dfTrainsLearn['maximumTrainSpeed'] =  dfTrainsLearn['maximumTrainSpeed'].replace(np.nan, 88.)\n",
        "print(dfTrainsLearn['maximumTrainSpeed'].unique())"
      ],
      "metadata": {
        "id": "ZTAgIeMJeHmz",
        "colab": {
          "base_uri": "https://localhost:8080/"
        },
        "outputId": "ae05faca-82fc-4c55-d12d-6f7477fe89d0"
      },
      "execution_count": 18,
      "outputs": [
        {
          "output_type": "stream",
          "name": "stdout",
          "text": [
            "[88. 50. 60. 70. 40. 45. 30.]\n"
          ]
        }
      ]
    },
    {
      "cell_type": "markdown",
      "source": [
        "Flatten out the work locations (we may want to change this for the NN algorithm)"
      ],
      "metadata": {
        "id": "Dv-loghjlK_w"
      }
    },
    {
      "cell_type": "code",
      "source": [
        "def getWorkLocations(dfTrainsLocation):\n",
        "  if isinstance(dfTrainsLocation['aotuTrainData.routeLocationList'], float):\n",
        "    return None\n",
        "  if len(dfTrainsLocation['aotuTrainData.routeLocationList']) == 0:\n",
        "    return None\n",
        "  aotuRoute=pd.json_normalize(dfTrainsLocation['aotuTrainData.routeLocationList']) \n",
        "  eventLocations = aotuRoute[aotuRoute['activityList'].map(len) > 1]\n",
        "  temp = eventLocations['milepost.milepostNumber'].unique()\n",
        "  if len(temp) == 0:\n",
        "    return None\n",
        "  return ','.join(['%.2f' % num for num in temp])"
      ],
      "metadata": {
        "id": "TsYgT41SKyAn"
      },
      "execution_count": 19,
      "outputs": []
    },
    {
      "cell_type": "code",
      "source": [
        "dfTrainsLearn['workLocations'] = dfTrainsLearn.apply(lambda row: getWorkLocations(row), axis=1)"
      ],
      "metadata": {
        "id": "5sNuNU-iSgFy"
      },
      "execution_count": 20,
      "outputs": []
    },
    {
      "cell_type": "code",
      "source": [
        "dfTrainsLearn['workLocations'].unique()"
      ],
      "metadata": {
        "id": "jA6cNsHR8VSr",
        "colab": {
          "base_uri": "https://localhost:8080/"
        },
        "outputId": "40ece4c1-a5d7-489d-e2aa-bb380752e70d"
      },
      "execution_count": 21,
      "outputs": [
        {
          "output_type": "execute_result",
          "data": {
            "text/plain": [
              "array([None, '202.20', '225.10', '202.20,219.70', '202.20,258.40,321.50', '202.20,258.40', '219.70,202.20', '250.50,202.20', '258.40,202.20', '258.40,207.60,202.20', '321.50,202.20', '202.20,314.52',\n",
              "       '202.20,214.50,225.10,290.80,304.10', '214.50,225.10,290.80,304.10,202.20', '321.50,314.52,202.20', '258.40,219.70,202.20', '314.52,202.20', '257.60,202.20', '202.20,265.30',\n",
              "       '202.20,258.40,318.90,321.50', '202.20,219.70,258.40,321.50', '202.20,219.70,250.50,258.40,321.50', '258.40,214.50,202.20', '202.20,219.70,258.40', '225.10,202.20'], dtype=object)"
            ]
          },
          "metadata": {},
          "execution_count": 21
        }
      ]
    },
    {
      "cell_type": "markdown",
      "source": [
        "determine the locomotive count from the locomotive list.  We can make this more clever later, but for now this seems the most sensible shortcut"
      ],
      "metadata": {
        "id": "-AZiJPI24QO9"
      }
    },
    {
      "cell_type": "code",
      "source": [
        "dfTrainsLearn['locomotiveCount'] = dfTrainsLearn.apply(lambda row: len(row['locomotiveList']),axis = 1)"
      ],
      "metadata": {
        "id": "LuG8-GNBzwrF"
      },
      "execution_count": 22,
      "outputs": []
    },
    {
      "cell_type": "markdown",
      "source": [
        "Convert the list of actual reportings into a dataframe."
      ],
      "metadata": {
        "id": "Hbv-6WLkrqO2"
      }
    },
    {
      "cell_type": "code",
      "source": [
        "dfTrainsLearnActuals = dfTrainsLearn.apply(lambda row: pd.json_normalize(row['trainActualPositionList']), axis=1)"
      ],
      "metadata": {
        "id": "Ag-KbEfz4Is8"
      },
      "execution_count": 23,
      "outputs": []
    },
    {
      "cell_type": "code",
      "source": [
        "def showTrain(idx):\n",
        "  print(dfTrainsLearn.iloc[idx]['ptcLeadLocomotiveId'])\n",
        "  print(dfTrainsLearn.iloc[idx]['trainId.trainSymbol'])\n"
      ],
      "metadata": {
        "id": "ZuIVv8dvnIpG"
      },
      "execution_count": 24,
      "outputs": []
    },
    {
      "cell_type": "markdown",
      "source": [
        "You can peer into the incoming data here:"
      ],
      "metadata": {
        "id": "VLFBdKgPll2j"
      }
    },
    {
      "cell_type": "code",
      "source": [
        "idx = 201\n",
        "showTrain(idx)\n",
        "dfTrainsLearnActuals.iloc[idx]"
      ],
      "metadata": {
        "id": "r_gdrmU4IgpY",
        "colab": {
          "base_uri": "https://localhost:8080/",
          "height": 458
        },
        "outputId": "3756708f-1d3b-4da0-b3cb-9f0fc53dba93"
      },
      "execution_count": 25,
      "outputs": [
        {
          "output_type": "stream",
          "name": "stdout",
          "text": [
            "KCS4151\n",
            "MRNWAJ\n"
          ]
        },
        {
          "output_type": "execute_result",
          "data": {
            "text/plain": [
              "            positionTime  speedMPH  milepostLocation.subdivisionId  \\\n",
              "0   2022-07-01T02:21:09Z         0                             106   \n",
              "1   2022-07-01T02:23:09Z         0                             106   \n",
              "2   2022-07-01T02:25:09Z        -1                             106   \n",
              "3   2022-07-01T02:27:09Z        -5                             106   \n",
              "4   2022-07-01T02:29:09Z        -9                             106   \n",
              "..                   ...       ...                             ...   \n",
              "16  2022-07-01T02:53:09Z        -8                             106   \n",
              "17  2022-07-01T02:55:09Z        -7                             106   \n",
              "18  2022-07-01T02:57:09Z        -6                             106   \n",
              "19  2022-07-01T02:59:09Z        -4                             106   \n",
              "20  2022-07-01T03:01:09Z         0                             106   \n",
              "\n",
              "   milepostLocation.trackName  milepostLocation.milepost.milepostNumber  \n",
              "0                   WEST MAIN                                 766.24380  \n",
              "1                   WEST MAIN                                 766.24380  \n",
              "2              WEST MAIN-MAIN                                 766.19920  \n",
              "3              WEST MAIN-MAIN                                 766.11084  \n",
              "4                        MAIN                                 765.94490  \n",
              "..                        ...                                       ...  \n",
              "16                    S_VIDOR                                 761.16580  \n",
              "17                    S_VIDOR                                 760.92035  \n",
              "18                    S_VIDOR                                 760.67960  \n",
              "19                    S_VIDOR                                 760.45135  \n",
              "20                    S_VIDOR                                 760.42000  \n",
              "\n",
              "[21 rows x 5 columns]"
            ],
            "text/html": [
              "\n",
              "  <div id=\"df-fded9e54-51ff-46c3-a0dc-ad9fa2f41232\">\n",
              "    <div class=\"colab-df-container\">\n",
              "      <div>\n",
              "<style scoped>\n",
              "    .dataframe tbody tr th:only-of-type {\n",
              "        vertical-align: middle;\n",
              "    }\n",
              "\n",
              "    .dataframe tbody tr th {\n",
              "        vertical-align: top;\n",
              "    }\n",
              "\n",
              "    .dataframe thead th {\n",
              "        text-align: right;\n",
              "    }\n",
              "</style>\n",
              "<table border=\"1\" class=\"dataframe\">\n",
              "  <thead>\n",
              "    <tr style=\"text-align: right;\">\n",
              "      <th></th>\n",
              "      <th>positionTime</th>\n",
              "      <th>speedMPH</th>\n",
              "      <th>milepostLocation.subdivisionId</th>\n",
              "      <th>milepostLocation.trackName</th>\n",
              "      <th>milepostLocation.milepost.milepostNumber</th>\n",
              "    </tr>\n",
              "  </thead>\n",
              "  <tbody>\n",
              "    <tr>\n",
              "      <th>0</th>\n",
              "      <td>2022-07-01T02:21:09Z</td>\n",
              "      <td>0</td>\n",
              "      <td>106</td>\n",
              "      <td>WEST MAIN</td>\n",
              "      <td>766.24380</td>\n",
              "    </tr>\n",
              "    <tr>\n",
              "      <th>1</th>\n",
              "      <td>2022-07-01T02:23:09Z</td>\n",
              "      <td>0</td>\n",
              "      <td>106</td>\n",
              "      <td>WEST MAIN</td>\n",
              "      <td>766.24380</td>\n",
              "    </tr>\n",
              "    <tr>\n",
              "      <th>2</th>\n",
              "      <td>2022-07-01T02:25:09Z</td>\n",
              "      <td>-1</td>\n",
              "      <td>106</td>\n",
              "      <td>WEST MAIN-MAIN</td>\n",
              "      <td>766.19920</td>\n",
              "    </tr>\n",
              "    <tr>\n",
              "      <th>3</th>\n",
              "      <td>2022-07-01T02:27:09Z</td>\n",
              "      <td>-5</td>\n",
              "      <td>106</td>\n",
              "      <td>WEST MAIN-MAIN</td>\n",
              "      <td>766.11084</td>\n",
              "    </tr>\n",
              "    <tr>\n",
              "      <th>4</th>\n",
              "      <td>2022-07-01T02:29:09Z</td>\n",
              "      <td>-9</td>\n",
              "      <td>106</td>\n",
              "      <td>MAIN</td>\n",
              "      <td>765.94490</td>\n",
              "    </tr>\n",
              "    <tr>\n",
              "      <th>...</th>\n",
              "      <td>...</td>\n",
              "      <td>...</td>\n",
              "      <td>...</td>\n",
              "      <td>...</td>\n",
              "      <td>...</td>\n",
              "    </tr>\n",
              "    <tr>\n",
              "      <th>16</th>\n",
              "      <td>2022-07-01T02:53:09Z</td>\n",
              "      <td>-8</td>\n",
              "      <td>106</td>\n",
              "      <td>S_VIDOR</td>\n",
              "      <td>761.16580</td>\n",
              "    </tr>\n",
              "    <tr>\n",
              "      <th>17</th>\n",
              "      <td>2022-07-01T02:55:09Z</td>\n",
              "      <td>-7</td>\n",
              "      <td>106</td>\n",
              "      <td>S_VIDOR</td>\n",
              "      <td>760.92035</td>\n",
              "    </tr>\n",
              "    <tr>\n",
              "      <th>18</th>\n",
              "      <td>2022-07-01T02:57:09Z</td>\n",
              "      <td>-6</td>\n",
              "      <td>106</td>\n",
              "      <td>S_VIDOR</td>\n",
              "      <td>760.67960</td>\n",
              "    </tr>\n",
              "    <tr>\n",
              "      <th>19</th>\n",
              "      <td>2022-07-01T02:59:09Z</td>\n",
              "      <td>-4</td>\n",
              "      <td>106</td>\n",
              "      <td>S_VIDOR</td>\n",
              "      <td>760.45135</td>\n",
              "    </tr>\n",
              "    <tr>\n",
              "      <th>20</th>\n",
              "      <td>2022-07-01T03:01:09Z</td>\n",
              "      <td>0</td>\n",
              "      <td>106</td>\n",
              "      <td>S_VIDOR</td>\n",
              "      <td>760.42000</td>\n",
              "    </tr>\n",
              "  </tbody>\n",
              "</table>\n",
              "<p>21 rows × 5 columns</p>\n",
              "</div>\n",
              "      <button class=\"colab-df-convert\" onclick=\"convertToInteractive('df-fded9e54-51ff-46c3-a0dc-ad9fa2f41232')\"\n",
              "              title=\"Convert this dataframe to an interactive table.\"\n",
              "              style=\"display:none;\">\n",
              "        \n",
              "  <svg xmlns=\"http://www.w3.org/2000/svg\" height=\"24px\"viewBox=\"0 0 24 24\"\n",
              "       width=\"24px\">\n",
              "    <path d=\"M0 0h24v24H0V0z\" fill=\"none\"/>\n",
              "    <path d=\"M18.56 5.44l.94 2.06.94-2.06 2.06-.94-2.06-.94-.94-2.06-.94 2.06-2.06.94zm-11 1L8.5 8.5l.94-2.06 2.06-.94-2.06-.94L8.5 2.5l-.94 2.06-2.06.94zm10 10l.94 2.06.94-2.06 2.06-.94-2.06-.94-.94-2.06-.94 2.06-2.06.94z\"/><path d=\"M17.41 7.96l-1.37-1.37c-.4-.4-.92-.59-1.43-.59-.52 0-1.04.2-1.43.59L10.3 9.45l-7.72 7.72c-.78.78-.78 2.05 0 2.83L4 21.41c.39.39.9.59 1.41.59.51 0 1.02-.2 1.41-.59l7.78-7.78 2.81-2.81c.8-.78.8-2.07 0-2.86zM5.41 20L4 18.59l7.72-7.72 1.47 1.35L5.41 20z\"/>\n",
              "  </svg>\n",
              "      </button>\n",
              "      \n",
              "  <style>\n",
              "    .colab-df-container {\n",
              "      display:flex;\n",
              "      flex-wrap:wrap;\n",
              "      gap: 12px;\n",
              "    }\n",
              "\n",
              "    .colab-df-convert {\n",
              "      background-color: #E8F0FE;\n",
              "      border: none;\n",
              "      border-radius: 50%;\n",
              "      cursor: pointer;\n",
              "      display: none;\n",
              "      fill: #1967D2;\n",
              "      height: 32px;\n",
              "      padding: 0 0 0 0;\n",
              "      width: 32px;\n",
              "    }\n",
              "\n",
              "    .colab-df-convert:hover {\n",
              "      background-color: #E2EBFA;\n",
              "      box-shadow: 0px 1px 2px rgba(60, 64, 67, 0.3), 0px 1px 3px 1px rgba(60, 64, 67, 0.15);\n",
              "      fill: #174EA6;\n",
              "    }\n",
              "\n",
              "    [theme=dark] .colab-df-convert {\n",
              "      background-color: #3B4455;\n",
              "      fill: #D2E3FC;\n",
              "    }\n",
              "\n",
              "    [theme=dark] .colab-df-convert:hover {\n",
              "      background-color: #434B5C;\n",
              "      box-shadow: 0px 1px 3px 1px rgba(0, 0, 0, 0.15);\n",
              "      filter: drop-shadow(0px 1px 2px rgba(0, 0, 0, 0.3));\n",
              "      fill: #FFFFFF;\n",
              "    }\n",
              "  </style>\n",
              "\n",
              "      <script>\n",
              "        const buttonEl =\n",
              "          document.querySelector('#df-fded9e54-51ff-46c3-a0dc-ad9fa2f41232 button.colab-df-convert');\n",
              "        buttonEl.style.display =\n",
              "          google.colab.kernel.accessAllowed ? 'block' : 'none';\n",
              "\n",
              "        async function convertToInteractive(key) {\n",
              "          const element = document.querySelector('#df-fded9e54-51ff-46c3-a0dc-ad9fa2f41232');\n",
              "          const dataTable =\n",
              "            await google.colab.kernel.invokeFunction('convertToInteractive',\n",
              "                                                     [key], {});\n",
              "          if (!dataTable) return;\n",
              "\n",
              "          const docLinkHtml = 'Like what you see? Visit the ' +\n",
              "            '<a target=\"_blank\" href=https://colab.research.google.com/notebooks/data_table.ipynb>data table notebook</a>'\n",
              "            + ' to learn more about interactive tables.';\n",
              "          element.innerHTML = '';\n",
              "          dataTable['output_type'] = 'display_data';\n",
              "          await google.colab.output.renderOutput(dataTable, element);\n",
              "          const docLink = document.createElement('div');\n",
              "          docLink.innerHTML = docLinkHtml;\n",
              "          element.appendChild(docLink);\n",
              "        }\n",
              "      </script>\n",
              "    </div>\n",
              "  </div>\n",
              "  "
            ]
          },
          "metadata": {},
          "execution_count": 25
        }
      ]
    },
    {
      "cell_type": "code",
      "source": [
        "dfTrainsBeop =  dfTrainsLearn[['lastReportedPosition.milepostLocation.milepost.milepostNumber','trainEstimatedPositionList']]\n",
        "dfTrainsBeop"
      ],
      "metadata": {
        "id": "1FsMwzd7xSLZ",
        "colab": {
          "base_uri": "https://localhost:8080/",
          "height": 676
        },
        "outputId": "712d2e44-0a77-4f26-86c8-e2e9591b9a4d"
      },
      "execution_count": 26,
      "outputs": [
        {
          "output_type": "execute_result",
          "data": {
            "text/plain": [
              "    lastReportedPosition.milepostLocation.milepost.milepostNumber  \\\n",
              "0                                                        764.8696   \n",
              "0                                                        764.8706   \n",
              "0                                                        766.9310   \n",
              "0                                                        764.8691   \n",
              "0                                                        766.9302   \n",
              "..                                                            ...   \n",
              "0                                                        290.7408   \n",
              "0                                                        293.2164   \n",
              "0                                                        294.0817   \n",
              "0                                                        305.3550   \n",
              "0                                                        317.9784   \n",
              "\n",
              "                                                                                                                                                                                                                                                                                                                                                                                                                                                                                                                                                                                                 trainEstimatedPositionList  \n",
              "0                                                                                                                                                                                                                                                                                                                                                                                                                                                                                                                                                                                                                        []  \n",
              "0                                                                                                                                                                                                                                                                                                                                                                                                                                                                                                                                                                                                                        []  \n",
              "0                                                                                                                                                                                                                                                                                                                                                                                                                                                                                                                                                                                                                        []  \n",
              "0                                                                                                                                                                                                                                                                                                                                                                                                                                                                                                                                                                                                                        []  \n",
              "0                                                                                                                                                                                                                                                                                                                                                                                                                                                                                                                                                                                                                        []  \n",
              "..                                                                                                                                                                                                                                                                                                                                                                                                                                                                                                                                                                                                                      ...  \n",
              "0   [{'positionTime': '2022-06-23T10:15:47Z', 'speedMPH': 12, 'milepostLocation': {'subdivisionId': 106, 'trackName': 'EASTXO', 'milepost': {'milepostNumber': 290.7408}}}, {'positionTime': '2022-06-23T10:17:47Z', 'speedMPH': 30, 'milepostLocation': {'subdivisionId': 106, 'trackName': 'EASTXO', 'milepost': {'milepostNumber': 291.4418}}}, {'positionTime': '2022-06-23T10:19:47Z', 'speedMPH': 40, 'milepostLocation': {'subdivisionId': 106, 'trackName': 'EASTXO', 'milepost': {'milepostNumber': 292.6651}}}, {'positionTime': '2022-06-23T10:21:47Z', 'speedMPH': 49, 'milepostLocation': {'subdivisionId':...  \n",
              "0                                                                                                                                                                                                                                                                                                                                                                                                                                                                                                                                                                                                                        []  \n",
              "0   [{'positionTime': '2022-06-23T11:17:23Z', 'speedMPH': 23, 'milepostLocation': {'subdivisionId': 106, 'trackName': 'MT 2', 'milepost': {'milepostNumber': 294.0817}}}, {'positionTime': '2022-06-23T11:19:23Z', 'speedMPH': 35, 'milepostLocation': {'subdivisionId': 106, 'trackName': 'MT 2', 'milepost': {'milepostNumber': 295.03876}}}, {'positionTime': '2022-06-23T11:21:23Z', 'speedMPH': 45, 'milepostLocation': {'subdivisionId': 106, 'trackName': 'MT 2', 'milepost': {'milepostNumber': 296.39496}}}, {'positionTime': '2022-06-23T11:23:23Z', 'speedMPH': 50, 'milepostLocation': {'subdivisionId': 106...  \n",
              "0   [{'positionTime': '2022-06-23T11:34:06Z', 'speedMPH': 48, 'milepostLocation': {'subdivisionId': 106, 'trackName': 'MT 1', 'milepost': {'milepostNumber': 305.355}}}, {'positionTime': '2022-06-23T11:36:06Z', 'speedMPH': 50, 'milepostLocation': {'subdivisionId': 106, 'trackName': 'MT 1', 'milepost': {'milepostNumber': 307.01364}}}, {'positionTime': '2022-06-23T11:38:06Z', 'speedMPH': 50, 'milepostLocation': {'subdivisionId': 106, 'trackName': 'MT 1', 'milepost': {'milepostNumber': 308.68835}}}, {'positionTime': '2022-06-23T11:40:06Z', 'speedMPH': 50, 'milepostLocation': {'subdivisionId': 106,...  \n",
              "0   [{'positionTime': '2022-06-23T11:50:16Z', 'speedMPH': 44, 'milepostLocation': {'subdivisionId': 106, 'trackName': 'MT 1', 'milepost': {'milepostNumber': 317.9784}}}, {'positionTime': '2022-06-23T11:52:16Z', 'speedMPH': 44, 'milepostLocation': {'subdivisionId': 106, 'trackName': 'MT 1', 'milepost': {'milepostNumber': 319.44662}}}, {'positionTime': '2022-06-23T11:54:16Z', 'speedMPH': 44, 'milepostLocation': {'subdivisionId': 106, 'trackName': 'MT 1', 'milepost': {'milepostNumber': 320.92197}}}, {'positionTime': '2022-06-23T11:56:16Z', 'speedMPH': 40, 'milepostLocation': {'subdivisionId': 106...  \n",
              "\n",
              "[6747 rows x 2 columns]"
            ],
            "text/html": [
              "\n",
              "  <div id=\"df-fbe05e8c-0a2b-4d4b-9e45-abac5001056d\">\n",
              "    <div class=\"colab-df-container\">\n",
              "      <div>\n",
              "<style scoped>\n",
              "    .dataframe tbody tr th:only-of-type {\n",
              "        vertical-align: middle;\n",
              "    }\n",
              "\n",
              "    .dataframe tbody tr th {\n",
              "        vertical-align: top;\n",
              "    }\n",
              "\n",
              "    .dataframe thead th {\n",
              "        text-align: right;\n",
              "    }\n",
              "</style>\n",
              "<table border=\"1\" class=\"dataframe\">\n",
              "  <thead>\n",
              "    <tr style=\"text-align: right;\">\n",
              "      <th></th>\n",
              "      <th>lastReportedPosition.milepostLocation.milepost.milepostNumber</th>\n",
              "      <th>trainEstimatedPositionList</th>\n",
              "    </tr>\n",
              "  </thead>\n",
              "  <tbody>\n",
              "    <tr>\n",
              "      <th>0</th>\n",
              "      <td>764.8696</td>\n",
              "      <td>[]</td>\n",
              "    </tr>\n",
              "    <tr>\n",
              "      <th>0</th>\n",
              "      <td>764.8706</td>\n",
              "      <td>[]</td>\n",
              "    </tr>\n",
              "    <tr>\n",
              "      <th>0</th>\n",
              "      <td>766.9310</td>\n",
              "      <td>[]</td>\n",
              "    </tr>\n",
              "    <tr>\n",
              "      <th>0</th>\n",
              "      <td>764.8691</td>\n",
              "      <td>[]</td>\n",
              "    </tr>\n",
              "    <tr>\n",
              "      <th>0</th>\n",
              "      <td>766.9302</td>\n",
              "      <td>[]</td>\n",
              "    </tr>\n",
              "    <tr>\n",
              "      <th>...</th>\n",
              "      <td>...</td>\n",
              "      <td>...</td>\n",
              "    </tr>\n",
              "    <tr>\n",
              "      <th>0</th>\n",
              "      <td>290.7408</td>\n",
              "      <td>[{'positionTime': '2022-06-23T10:15:47Z', 'speedMPH': 12, 'milepostLocation': {'subdivisionId': 106, 'trackName': 'EASTXO', 'milepost': {'milepostNumber': 290.7408}}}, {'positionTime': '2022-06-23T10:17:47Z', 'speedMPH': 30, 'milepostLocation': {'subdivisionId': 106, 'trackName': 'EASTXO', 'milepost': {'milepostNumber': 291.4418}}}, {'positionTime': '2022-06-23T10:19:47Z', 'speedMPH': 40, 'milepostLocation': {'subdivisionId': 106, 'trackName': 'EASTXO', 'milepost': {'milepostNumber': 292.6651}}}, {'positionTime': '2022-06-23T10:21:47Z', 'speedMPH': 49, 'milepostLocation': {'subdivisionId':...</td>\n",
              "    </tr>\n",
              "    <tr>\n",
              "      <th>0</th>\n",
              "      <td>293.2164</td>\n",
              "      <td>[]</td>\n",
              "    </tr>\n",
              "    <tr>\n",
              "      <th>0</th>\n",
              "      <td>294.0817</td>\n",
              "      <td>[{'positionTime': '2022-06-23T11:17:23Z', 'speedMPH': 23, 'milepostLocation': {'subdivisionId': 106, 'trackName': 'MT 2', 'milepost': {'milepostNumber': 294.0817}}}, {'positionTime': '2022-06-23T11:19:23Z', 'speedMPH': 35, 'milepostLocation': {'subdivisionId': 106, 'trackName': 'MT 2', 'milepost': {'milepostNumber': 295.03876}}}, {'positionTime': '2022-06-23T11:21:23Z', 'speedMPH': 45, 'milepostLocation': {'subdivisionId': 106, 'trackName': 'MT 2', 'milepost': {'milepostNumber': 296.39496}}}, {'positionTime': '2022-06-23T11:23:23Z', 'speedMPH': 50, 'milepostLocation': {'subdivisionId': 106...</td>\n",
              "    </tr>\n",
              "    <tr>\n",
              "      <th>0</th>\n",
              "      <td>305.3550</td>\n",
              "      <td>[{'positionTime': '2022-06-23T11:34:06Z', 'speedMPH': 48, 'milepostLocation': {'subdivisionId': 106, 'trackName': 'MT 1', 'milepost': {'milepostNumber': 305.355}}}, {'positionTime': '2022-06-23T11:36:06Z', 'speedMPH': 50, 'milepostLocation': {'subdivisionId': 106, 'trackName': 'MT 1', 'milepost': {'milepostNumber': 307.01364}}}, {'positionTime': '2022-06-23T11:38:06Z', 'speedMPH': 50, 'milepostLocation': {'subdivisionId': 106, 'trackName': 'MT 1', 'milepost': {'milepostNumber': 308.68835}}}, {'positionTime': '2022-06-23T11:40:06Z', 'speedMPH': 50, 'milepostLocation': {'subdivisionId': 106,...</td>\n",
              "    </tr>\n",
              "    <tr>\n",
              "      <th>0</th>\n",
              "      <td>317.9784</td>\n",
              "      <td>[{'positionTime': '2022-06-23T11:50:16Z', 'speedMPH': 44, 'milepostLocation': {'subdivisionId': 106, 'trackName': 'MT 1', 'milepost': {'milepostNumber': 317.9784}}}, {'positionTime': '2022-06-23T11:52:16Z', 'speedMPH': 44, 'milepostLocation': {'subdivisionId': 106, 'trackName': 'MT 1', 'milepost': {'milepostNumber': 319.44662}}}, {'positionTime': '2022-06-23T11:54:16Z', 'speedMPH': 44, 'milepostLocation': {'subdivisionId': 106, 'trackName': 'MT 1', 'milepost': {'milepostNumber': 320.92197}}}, {'positionTime': '2022-06-23T11:56:16Z', 'speedMPH': 40, 'milepostLocation': {'subdivisionId': 106...</td>\n",
              "    </tr>\n",
              "  </tbody>\n",
              "</table>\n",
              "<p>6747 rows × 2 columns</p>\n",
              "</div>\n",
              "      <button class=\"colab-df-convert\" onclick=\"convertToInteractive('df-fbe05e8c-0a2b-4d4b-9e45-abac5001056d')\"\n",
              "              title=\"Convert this dataframe to an interactive table.\"\n",
              "              style=\"display:none;\">\n",
              "        \n",
              "  <svg xmlns=\"http://www.w3.org/2000/svg\" height=\"24px\"viewBox=\"0 0 24 24\"\n",
              "       width=\"24px\">\n",
              "    <path d=\"M0 0h24v24H0V0z\" fill=\"none\"/>\n",
              "    <path d=\"M18.56 5.44l.94 2.06.94-2.06 2.06-.94-2.06-.94-.94-2.06-.94 2.06-2.06.94zm-11 1L8.5 8.5l.94-2.06 2.06-.94-2.06-.94L8.5 2.5l-.94 2.06-2.06.94zm10 10l.94 2.06.94-2.06 2.06-.94-2.06-.94-.94-2.06-.94 2.06-2.06.94z\"/><path d=\"M17.41 7.96l-1.37-1.37c-.4-.4-.92-.59-1.43-.59-.52 0-1.04.2-1.43.59L10.3 9.45l-7.72 7.72c-.78.78-.78 2.05 0 2.83L4 21.41c.39.39.9.59 1.41.59.51 0 1.02-.2 1.41-.59l7.78-7.78 2.81-2.81c.8-.78.8-2.07 0-2.86zM5.41 20L4 18.59l7.72-7.72 1.47 1.35L5.41 20z\"/>\n",
              "  </svg>\n",
              "      </button>\n",
              "      \n",
              "  <style>\n",
              "    .colab-df-container {\n",
              "      display:flex;\n",
              "      flex-wrap:wrap;\n",
              "      gap: 12px;\n",
              "    }\n",
              "\n",
              "    .colab-df-convert {\n",
              "      background-color: #E8F0FE;\n",
              "      border: none;\n",
              "      border-radius: 50%;\n",
              "      cursor: pointer;\n",
              "      display: none;\n",
              "      fill: #1967D2;\n",
              "      height: 32px;\n",
              "      padding: 0 0 0 0;\n",
              "      width: 32px;\n",
              "    }\n",
              "\n",
              "    .colab-df-convert:hover {\n",
              "      background-color: #E2EBFA;\n",
              "      box-shadow: 0px 1px 2px rgba(60, 64, 67, 0.3), 0px 1px 3px 1px rgba(60, 64, 67, 0.15);\n",
              "      fill: #174EA6;\n",
              "    }\n",
              "\n",
              "    [theme=dark] .colab-df-convert {\n",
              "      background-color: #3B4455;\n",
              "      fill: #D2E3FC;\n",
              "    }\n",
              "\n",
              "    [theme=dark] .colab-df-convert:hover {\n",
              "      background-color: #434B5C;\n",
              "      box-shadow: 0px 1px 3px 1px rgba(0, 0, 0, 0.15);\n",
              "      filter: drop-shadow(0px 1px 2px rgba(0, 0, 0, 0.3));\n",
              "      fill: #FFFFFF;\n",
              "    }\n",
              "  </style>\n",
              "\n",
              "      <script>\n",
              "        const buttonEl =\n",
              "          document.querySelector('#df-fbe05e8c-0a2b-4d4b-9e45-abac5001056d button.colab-df-convert');\n",
              "        buttonEl.style.display =\n",
              "          google.colab.kernel.accessAllowed ? 'block' : 'none';\n",
              "\n",
              "        async function convertToInteractive(key) {\n",
              "          const element = document.querySelector('#df-fbe05e8c-0a2b-4d4b-9e45-abac5001056d');\n",
              "          const dataTable =\n",
              "            await google.colab.kernel.invokeFunction('convertToInteractive',\n",
              "                                                     [key], {});\n",
              "          if (!dataTable) return;\n",
              "\n",
              "          const docLinkHtml = 'Like what you see? Visit the ' +\n",
              "            '<a target=\"_blank\" href=https://colab.research.google.com/notebooks/data_table.ipynb>data table notebook</a>'\n",
              "            + ' to learn more about interactive tables.';\n",
              "          element.innerHTML = '';\n",
              "          dataTable['output_type'] = 'display_data';\n",
              "          await google.colab.output.renderOutput(dataTable, element);\n",
              "          const docLink = document.createElement('div');\n",
              "          docLink.innerHTML = docLinkHtml;\n",
              "          element.appendChild(docLink);\n",
              "        }\n",
              "      </script>\n",
              "    </div>\n",
              "  </div>\n",
              "  "
            ]
          },
          "metadata": {},
          "execution_count": 26
        }
      ]
    },
    {
      "cell_type": "markdown",
      "source": [
        "Renumber the list"
      ],
      "metadata": {
        "id": "lA_7_hJRr9RI"
      }
    },
    {
      "cell_type": "code",
      "source": [
        "dfTrainsLearn = dfTrainsLearn.reset_index(drop=True)"
      ],
      "metadata": {
        "id": "Kw_c3Ddj4zN4"
      },
      "execution_count": 27,
      "outputs": []
    },
    {
      "cell_type": "markdown",
      "source": [
        "# Determine NextMilepost\n",
        "This will be the value we are attempting to learn"
      ],
      "metadata": {
        "id": "M6ikvyh2mKvw"
      }
    },
    {
      "cell_type": "code",
      "source": [
        "def findNextTime(trainsEntry, actualsEntry, timeInMinutes):\n",
        "  #print(actualsEntry.iloc[4]['speedMPH'], \" - \",trainsEntry['lastReportedPosition.speedMPH'] )\n",
        "  idx = math.trunc(timeInMinutes // 2)\n",
        "  if (idx < len(actualsEntry)):\n",
        "    return (abs(actualsEntry.iloc[idx]['speedMPH']) - abs(trainsEntry['lastReportedPosition.speedMPH']))\n",
        "  return None"
      ],
      "metadata": {
        "id": "HsFWDlcWROcp"
      },
      "execution_count": 28,
      "outputs": []
    },
    {
      "cell_type": "code",
      "source": [
        "def findNextMilepost(trainsEntry, actualsEntry, distance):\n",
        "  currMilepost = trainsEntry['lastReportedPosition.milepostLocation.milepost.milepostNumber']\n",
        "  value  = actualsEntry.loc[actualsEntry['milepostLocation.milepost.milepostNumber'] > currMilepost + distance]\n",
        "  if (len(value) > 0) :\n",
        "    return value[value['milepostLocation.milepost.milepostNumber'] == value['milepostLocation.milepost.milepostNumber'].min()]\n",
        "  value  = actualsEntry.loc[actualsEntry['milepostLocation.milepost.milepostNumber'] < currMilepost - distance]\n",
        "  if (len(value) > 0):\n",
        "    return value[value['milepostLocation.milepost.milepostNumber'] == value['milepostLocation.milepost.milepostNumber'].max()]\n",
        "  return []"
      ],
      "metadata": {
        "id": "-gfZhQNSsxeV"
      },
      "execution_count": 29,
      "outputs": []
    },
    {
      "cell_type": "code",
      "source": [
        "def findNextSpeed(trainsEntry, actualsEntry):\n",
        "  if (measurement.get('unit') == 'miles'):\n",
        "    nextActual = findNextMilepost(trainsEntry, actualsEntry, measurement.get('size'))\n",
        "    if (nextActual != None and len(nextActual) > 0):\n",
        "      amt = (abs(nextActual.iloc[0]['speedMPH']) - abs(trainsEntry['lastReportedPosition.speedMPH']))\n",
        "      return amt;\n",
        "  elif (measurement.get('unit') == 'minutes'):\n",
        "    return findNextTime(trainsEntry, actualsEntry, measurement.get('size'))\n",
        "  else:\n",
        "    raise Exception('unknown measurement', measurement.get('unit'))    \n",
        "  return None"
      ],
      "metadata": {
        "id": "i_JszmqL0MR6"
      },
      "execution_count": 30,
      "outputs": []
    },
    {
      "cell_type": "markdown",
      "source": [
        "You can peer into the mechanics of a lookup here:"
      ],
      "metadata": {
        "id": "lzq_GLI5mdDk"
      }
    },
    {
      "cell_type": "code",
      "source": [
        "idx = 3291\n",
        "showTrain(idx)\n",
        "print(\"Reported speed: \", dfTrainsLearn.iloc[idx]['lastReportedPosition.speedMPH'])\n",
        "print(\"Reported MP: \", dfTrainsLearn.iloc[idx]['lastReportedPosition.milepostLocation.milepost.milepostNumber'])\n",
        "print(\"Reported Time: \", dfTrainsLearn.iloc[idx]['lastReportedPosition.positionTime'])\n",
        "\n",
        "nextActual = findNextMilepost(dfTrainsLearn.iloc[idx], dfTrainsLearnActuals.iloc[idx], 1)\n",
        "print(nextActual)\n",
        "nextActual = findNextTime(dfTrainsLearn.iloc[idx], dfTrainsLearnActuals.iloc[idx], 10)\n",
        "print(nextActual)\n",
        "\n",
        "nextSpeed = findNextSpeed(dfTrainsLearn.iloc[idx], dfTrainsLearnActuals.iloc[idx])\n",
        "print(\"actual speed: \",nextSpeed)\n",
        "beopJSON = dfTrainsBeop.iloc[idx]['trainEstimatedPositionList']\n",
        "if not type(beopJSON) is float and len(beopJSON) > 0:\n",
        "  beopDT = pd.json_normalize(beopJSON)\n",
        "  nextBeop = findNextMilepost(dfTrainsLearn.iloc[idx], beopDT, 1)\n",
        "  print(nextBeop)\n",
        "  type(dfTrainsBeop.iloc[idx]['trainEstimatedPositionList'])\n",
        "  print(\"beop speed: \")\n",
        "  value = findNextSpeed(dfTrainsLearn.iloc[idx], beopDT)\n",
        "  print(value)"
      ],
      "metadata": {
        "id": "F_hQFHKztIu-",
        "colab": {
          "base_uri": "https://localhost:8080/"
        },
        "outputId": "40a563af-3095-4b46-a4da-cca51dee02d3"
      },
      "execution_count": 31,
      "outputs": [
        {
          "output_type": "stream",
          "name": "stdout",
          "text": [
            "UP6579\n",
            "CNAPW9\n",
            "Reported speed:  42\n",
            "Reported MP:  315.8773\n",
            "Reported Time:  2022-06-26T02:15:16Z\n",
            "           positionTime  speedMPH  milepostLocation.subdivisionId  \\\n",
            "0  2022-06-26T02:17:16Z       -43                             106   \n",
            "\n",
            "  milepostLocation.trackName  milepostLocation.milepost.milepostNumber  \n",
            "0                       MT 2                                 314.40375  \n",
            "8\n",
            "actual speed:  8\n",
            "           positionTime  speedMPH  milepostLocation.subdivisionId  \\\n",
            "1  2022-06-26T02:17:16Z       -44                             106   \n",
            "\n",
            "  milepostLocation.trackName  milepostLocation.milepost.milepostNumber  \n",
            "1                       MT 2                                  314.4466  \n",
            "beop speed: \n",
            "8\n"
          ]
        }
      ]
    },
    {
      "cell_type": "markdown",
      "source": [
        "Run the calulations.  This will take a moment."
      ],
      "metadata": {
        "id": "cWzMCn-tsE22"
      }
    },
    {
      "cell_type": "code",
      "source": [
        "dfTrainsLearn['nextSpeed'] = np.NaN\n",
        "dfTrainsLearn['nextBeop'] = np.NaN\n",
        "i = 0;\n",
        "for index, trainsEntry in dfTrainsLearn.iterrows():\n",
        "  nextSpeed = findNextSpeed(trainsEntry, dfTrainsLearnActuals.iloc[i])\n",
        "  if (nextSpeed != None):\n",
        "    dfTrainsLearn.at[i,'nextSpeed'] = nextSpeed\n",
        "  beopJSON = dfTrainsBeop.iloc[i]['trainEstimatedPositionList']\n",
        "  if not type(beopJSON) is float and len(beopJSON) > 0:\n",
        "    try:\n",
        "      beopDT = pd.json_normalize(beopJSON)\n",
        "      if (measurement.get('unit') == 'miles'):\n",
        "        nextBeop = findNextMilepost(trainsEntry, beopDT, measurement.get('size'))\n",
        "      elif (measurement.get('unit') == 'minutes'):\n",
        "        nextBeop = findNextTime(trainsEntry, beopDT, measurement.get('size'))\n",
        "      if (nextBeop != None):\n",
        "        dfTrainsLearn.at[i,'nextBeop'] = nextSpeed\n",
        "    except NotImplementedError:\n",
        "      print(type(beopJSON))\n",
        "    except KeyError:\n",
        "      print(beopJSON)\n",
        "  if (i % 1000 == 0):\n",
        "    print(i)\n",
        "  i = i + 1"
      ],
      "metadata": {
        "id": "fG2U-anX-jbt",
        "colab": {
          "base_uri": "https://localhost:8080/"
        },
        "outputId": "0c4dd8ff-acce-407b-ac85-a73b4fd06f20"
      },
      "execution_count": 32,
      "outputs": [
        {
          "output_type": "stream",
          "name": "stdout",
          "text": [
            "0\n",
            "1000\n",
            "2000\n",
            "3000\n",
            "4000\n",
            "5000\n",
            "6000\n"
          ]
        }
      ]
    },
    {
      "cell_type": "code",
      "source": [
        "dfTrainsLearn = dfTrainsLearn.dropna(subset=['nextSpeed'])\n",
        "dfTrainsLearn['nextSpeed'].unique()"
      ],
      "metadata": {
        "colab": {
          "base_uri": "https://localhost:8080/"
        },
        "id": "lQz8KQHM3SdN",
        "outputId": "c6db903f-316f-40b4-a4a3-e814957e16f2"
      },
      "execution_count": 33,
      "outputs": [
        {
          "output_type": "execute_result",
          "data": {
            "text/plain": [
              "array([ -9.,  -4.,  -1., -14.,   0.,  -2.,   3.,  -6.,  12.,  16., -28.,  37.,  -7.,   7., -33.,   2., -13., -12.,  17.,   6., -10., -16.,  42.,   1.,  19., -17.,  35.,  13., -34.,  20.,   8.,  -3.,\n",
              "         5.,  14., -15.,  15.,   9.,   4., -11.,  11.,  10., -31.,  18.,  -8.,  21.,  -5.,  23., -19.,  29., -26., -18.,  22., -27.,  41., -32., -39.,  32.,  31., -25.,  26., -41.,  38., -45.,  25.,\n",
              "        39., -23., -20.,  27.,  33., -35., -29., -40., -46.,  28., -21.,  30.,  36., -22., -58.,  34., -43., -66., -30., -54., -24., -55.,  48., -49.,  43.,  40., -36.,  52.,  46.,  54.,  51.,  59.,\n",
              "       -50., -37.,  24., -38.,  45., -48.,  47.,  50., -51.,  49., -44., -42.,  44.,  62., -47.,  55.,  66.,  69., -67.])"
            ]
          },
          "metadata": {},
          "execution_count": 33
        }
      ]
    },
    {
      "cell_type": "code",
      "source": [
        "print(\"NextSpeed values histogram:\")\n",
        "dfTrainsLearn['nextSpeed'].hist(bins=200)"
      ],
      "metadata": {
        "id": "IOWDvvGusUBm",
        "colab": {
          "base_uri": "https://localhost:8080/",
          "height": 303
        },
        "outputId": "7841df79-c601-472a-febf-b41ddb23f2dc"
      },
      "execution_count": 34,
      "outputs": [
        {
          "output_type": "stream",
          "name": "stdout",
          "text": [
            "NextSpeed values histogram:\n"
          ]
        },
        {
          "output_type": "execute_result",
          "data": {
            "text/plain": [
              "<matplotlib.axes._subplots.AxesSubplot at 0x7fe195db1250>"
            ]
          },
          "metadata": {},
          "execution_count": 34
        },
        {
          "output_type": "display_data",
          "data": {
            "text/plain": [
              "<Figure size 432x288 with 1 Axes>"
            ],
            "image/png": "[encoded data removed]"
          },
          "metadata": {
            "needs_background": "light"
          }
        }
      ]
    },
    {
      "cell_type": "code",
      "source": [
        "dfTrainsLearn['nextBeop'].unique()"
      ],
      "metadata": {
        "id": "bdSnFJoMWVrn",
        "colab": {
          "base_uri": "https://localhost:8080/"
        },
        "outputId": "07556ebb-d97c-404e-cf65-40433d3032e3"
      },
      "execution_count": 35,
      "outputs": [
        {
          "output_type": "execute_result",
          "data": {
            "text/plain": [
              "array([ nan,  16., -28.,  -7.,   7., -33., -16.,   6.,   1.,  -4.,  19.,   3.,  -9.,   2.,  -6., -17., -10.,  13., -34.,   8.,   0.,  -2.,  -3.,   5.,  -1.,  14.,  10., -31.,   4., -12., -11.,  23.,\n",
              "        29., -26.,  22., -27., -32., -39.,  20.,   9.,  -5.,  31., -25.,  26., -41.,  -8., -13., -14.,  18., -45.,  35., -23., -20.,  27., -19.,  17., -35., -29., -40., -46., -15., -18., -21.,  30.,\n",
              "        12.,  21., -22.,  11., -58.,  34.,  15., -43., -66., -30.,  25., -54., -24.,  42., -55.,  28., -49., -36., -50., -37., -38., -48., -51.,  24.,  33.,  48.,  39.,  37.,  49., -44., -42.,  40.,\n",
              "        36.,  32.,  43., -47.,  38.,  46., -67.,  41.])"
            ]
          },
          "metadata": {},
          "execution_count": 35
        }
      ]
    },
    {
      "cell_type": "code",
      "source": [
        "print(\"physics predictions histogram:\")\n",
        "dfTrainsLearn['nextBeop'].hist(bins=200)"
      ],
      "metadata": {
        "id": "K7WQR074WuDQ",
        "colab": {
          "base_uri": "https://localhost:8080/",
          "height": 303
        },
        "outputId": "8f40d635-fcfe-4c2b-ef48-4932524a04b4"
      },
      "execution_count": 36,
      "outputs": [
        {
          "output_type": "stream",
          "name": "stdout",
          "text": [
            "physics predictions histogram:\n"
          ]
        },
        {
          "output_type": "execute_result",
          "data": {
            "text/plain": [
              "<matplotlib.axes._subplots.AxesSubplot at 0x7fe19e8c0e50>"
            ]
          },
          "metadata": {},
          "execution_count": 36
        },
        {
          "output_type": "display_data",
          "data": {
            "text/plain": [
              "<Figure size 432x288 with 1 Axes>"
            ],
            "image/png": "[encoded data removed]"
          },
          "metadata": {
            "needs_background": "light"
          }
        }
      ]
    },
    {
      "cell_type": "code",
      "source": [
        "dfTrainsNextBeop = dfTrainsLearn['nextBeop']"
      ],
      "metadata": {
        "id": "k1sGN4n_2bDU"
      },
      "execution_count": 37,
      "outputs": []
    },
    {
      "cell_type": "markdown",
      "source": [
        "Drop some values we are not using at the moment, not needed.\n",
        "\n",
        "Note, this will disable above computations unless you resume at \"Create a learning set\""
      ],
      "metadata": {
        "id": "moXjNcMQu-3C"
      }
    },
    {
      "cell_type": "code",
      "source": [
        "dfTrainsLearn = dfTrainsLearn.drop(columns=['aotuTrainData.tenantCarrier',\n",
        "                                            'nextBeop',\n",
        "                                            'positionHistoryList',\n",
        "                                            'locomotiveList',\n",
        "                                            'subdivisionList',\n",
        "                                            'trainActualPositionList',\n",
        "                                            'trainEstimatedPositionList',\n",
        "                                            'aotuTrainData.routeLocationList'])"
      ],
      "metadata": {
        "id": "hBmsqv6IuVVO"
      },
      "execution_count": 38,
      "outputs": []
    },
    {
      "cell_type": "markdown",
      "source": [
        "Burst dates into subcolumns that might prove useful"
      ],
      "metadata": {
        "id": "22_dmiSmoYyq"
      }
    },
    {
      "cell_type": "code",
      "source": [
        "tabular.core.make_date(dfTrainsLearn, 'trainId.trainDate')\n",
        "tabular.core.make_date(dfTrainsLearn, 'lastReportedPosition.positionTime')\n",
        "tabular.core.add_datepart(dfTrainsLearn, 'lastReportedPosition.positionTime')\n",
        "# tabular.core.add_elapsed_times(dfTrainsLearn, 'lastReportedPosition.positionTime')\n"
      ],
      "metadata": {
        "id": "DjTAxScsbHCN",
        "colab": {
          "base_uri": "https://localhost:8080/",
          "height": 487
        },
        "outputId": "3c421229-e1cd-4e70-9712-b9b2b67eff23"
      },
      "execution_count": 39,
      "outputs": [
        {
          "output_type": "execute_result",
          "data": {
            "text/plain": [
              "     ptcLeadLocomotiveId trainId.trainSCAC trainId.trainSection  \\\n",
              "8                AMTK206                UP                        \n",
              "10              BNSF3836                UP                        \n",
              "12              BNSF3891                UP                        \n",
              "13              BNSF3907                UP                        \n",
              "23              BNSF5040                UP                        \n",
              "...                  ...               ...                  ...   \n",
              "6741              UP9101                UP                        \n",
              "6742              UP9101                UP                        \n",
              "6743              UP9101                UP                        \n",
              "6744              UP9101                UP                        \n",
              "6745              UP9101                UP                        \n",
              "\n",
              "     trainId.trainSymbol  ...  \\\n",
              "8                   AMT1  ...   \n",
              "10                QDYIJJ  ...   \n",
              "12                QIJBTJ  ...   \n",
              "13                QIJDYJ  ...   \n",
              "23                QDYIJJ  ...   \n",
              "...                  ...  ...   \n",
              "6741               MCHCB  ...   \n",
              "6742               MCHCB  ...   \n",
              "6743               MCHCB  ...   \n",
              "6744               MCHCB  ...   \n",
              "6745               MCHCB  ...   \n",
              "\n",
              "     lastReportedPosition.positionTimeIs_quarter_start  \\\n",
              "8                                                False   \n",
              "10                                               False   \n",
              "12                                               False   \n",
              "13                                               False   \n",
              "23                                               False   \n",
              "...                                                ...   \n",
              "6741                                             False   \n",
              "6742                                             False   \n",
              "6743                                             False   \n",
              "6744                                             False   \n",
              "6745                                             False   \n",
              "\n",
              "      lastReportedPosition.positionTimeIs_year_end  \\\n",
              "8                                            False   \n",
              "10                                           False   \n",
              "12                                           False   \n",
              "13                                           False   \n",
              "23                                           False   \n",
              "...                                            ...   \n",
              "6741                                         False   \n",
              "6742                                         False   \n",
              "6743                                         False   \n",
              "6744                                         False   \n",
              "6745                                         False   \n",
              "\n",
              "      lastReportedPosition.positionTimeIs_year_start  \\\n",
              "8                                              False   \n",
              "10                                             False   \n",
              "12                                             False   \n",
              "13                                             False   \n",
              "23                                             False   \n",
              "...                                              ...   \n",
              "6741                                           False   \n",
              "6742                                           False   \n",
              "6743                                           False   \n",
              "6744                                           False   \n",
              "6745                                           False   \n",
              "\n",
              "     lastReportedPosition.positionTimeElapsed  \n",
              "8                                1.656194e+09  \n",
              "10                               1.656589e+09  \n",
              "12                               1.656219e+09  \n",
              "13                               1.655957e+09  \n",
              "23                               1.656024e+09  \n",
              "...                                       ...  \n",
              "6741                             1.655978e+09  \n",
              "6742                             1.655979e+09  \n",
              "6743                             1.655982e+09  \n",
              "6744                             1.655983e+09  \n",
              "6745                             1.655984e+09  \n",
              "\n",
              "[6261 rows x 47 columns]"
            ],
            "text/html": [
              "\n",
              "  <div id=\"df-ea94449c-057c-4cf8-b78f-67ce0e27bf72\">\n",
              "    <div class=\"colab-df-container\">\n",
              "      <div>\n",
              "<style scoped>\n",
              "    .dataframe tbody tr th:only-of-type {\n",
              "        vertical-align: middle;\n",
              "    }\n",
              "\n",
              "    .dataframe tbody tr th {\n",
              "        vertical-align: top;\n",
              "    }\n",
              "\n",
              "    .dataframe thead th {\n",
              "        text-align: right;\n",
              "    }\n",
              "</style>\n",
              "<table border=\"1\" class=\"dataframe\">\n",
              "  <thead>\n",
              "    <tr style=\"text-align: right;\">\n",
              "      <th></th>\n",
              "      <th>ptcLeadLocomotiveId</th>\n",
              "      <th>trainId.trainSCAC</th>\n",
              "      <th>trainId.trainSection</th>\n",
              "      <th>trainId.trainSymbol</th>\n",
              "      <th>...</th>\n",
              "      <th>lastReportedPosition.positionTimeIs_quarter_start</th>\n",
              "      <th>lastReportedPosition.positionTimeIs_year_end</th>\n",
              "      <th>lastReportedPosition.positionTimeIs_year_start</th>\n",
              "      <th>lastReportedPosition.positionTimeElapsed</th>\n",
              "    </tr>\n",
              "  </thead>\n",
              "  <tbody>\n",
              "    <tr>\n",
              "      <th>8</th>\n",
              "      <td>AMTK206</td>\n",
              "      <td>UP</td>\n",
              "      <td></td>\n",
              "      <td>AMT1</td>\n",
              "      <td>...</td>\n",
              "      <td>False</td>\n",
              "      <td>False</td>\n",
              "      <td>False</td>\n",
              "      <td>1.656194e+09</td>\n",
              "    </tr>\n",
              "    <tr>\n",
              "      <th>10</th>\n",
              "      <td>BNSF3836</td>\n",
              "      <td>UP</td>\n",
              "      <td></td>\n",
              "      <td>QDYIJJ</td>\n",
              "      <td>...</td>\n",
              "      <td>False</td>\n",
              "      <td>False</td>\n",
              "      <td>False</td>\n",
              "      <td>1.656589e+09</td>\n",
              "    </tr>\n",
              "    <tr>\n",
              "      <th>12</th>\n",
              "      <td>BNSF3891</td>\n",
              "      <td>UP</td>\n",
              "      <td></td>\n",
              "      <td>QIJBTJ</td>\n",
              "      <td>...</td>\n",
              "      <td>False</td>\n",
              "      <td>False</td>\n",
              "      <td>False</td>\n",
              "      <td>1.656219e+09</td>\n",
              "    </tr>\n",
              "    <tr>\n",
              "      <th>13</th>\n",
              "      <td>BNSF3907</td>\n",
              "      <td>UP</td>\n",
              "      <td></td>\n",
              "      <td>QIJDYJ</td>\n",
              "      <td>...</td>\n",
              "      <td>False</td>\n",
              "      <td>False</td>\n",
              "      <td>False</td>\n",
              "      <td>1.655957e+09</td>\n",
              "    </tr>\n",
              "    <tr>\n",
              "      <th>23</th>\n",
              "      <td>BNSF5040</td>\n",
              "      <td>UP</td>\n",
              "      <td></td>\n",
              "      <td>QDYIJJ</td>\n",
              "      <td>...</td>\n",
              "      <td>False</td>\n",
              "      <td>False</td>\n",
              "      <td>False</td>\n",
              "      <td>1.656024e+09</td>\n",
              "    </tr>\n",
              "    <tr>\n",
              "      <th>...</th>\n",
              "      <td>...</td>\n",
              "      <td>...</td>\n",
              "      <td>...</td>\n",
              "      <td>...</td>\n",
              "      <td>...</td>\n",
              "      <td>...</td>\n",
              "      <td>...</td>\n",
              "      <td>...</td>\n",
              "      <td>...</td>\n",
              "    </tr>\n",
              "    <tr>\n",
              "      <th>6741</th>\n",
              "      <td>UP9101</td>\n",
              "      <td>UP</td>\n",
              "      <td></td>\n",
              "      <td>MCHCB</td>\n",
              "      <td>...</td>\n",
              "      <td>False</td>\n",
              "      <td>False</td>\n",
              "      <td>False</td>\n",
              "      <td>1.655978e+09</td>\n",
              "    </tr>\n",
              "    <tr>\n",
              "      <th>6742</th>\n",
              "      <td>UP9101</td>\n",
              "      <td>UP</td>\n",
              "      <td></td>\n",
              "      <td>MCHCB</td>\n",
              "      <td>...</td>\n",
              "      <td>False</td>\n",
              "      <td>False</td>\n",
              "      <td>False</td>\n",
              "      <td>1.655979e+09</td>\n",
              "    </tr>\n",
              "    <tr>\n",
              "      <th>6743</th>\n",
              "      <td>UP9101</td>\n",
              "      <td>UP</td>\n",
              "      <td></td>\n",
              "      <td>MCHCB</td>\n",
              "      <td>...</td>\n",
              "      <td>False</td>\n",
              "      <td>False</td>\n",
              "      <td>False</td>\n",
              "      <td>1.655982e+09</td>\n",
              "    </tr>\n",
              "    <tr>\n",
              "      <th>6744</th>\n",
              "      <td>UP9101</td>\n",
              "      <td>UP</td>\n",
              "      <td></td>\n",
              "      <td>MCHCB</td>\n",
              "      <td>...</td>\n",
              "      <td>False</td>\n",
              "      <td>False</td>\n",
              "      <td>False</td>\n",
              "      <td>1.655983e+09</td>\n",
              "    </tr>\n",
              "    <tr>\n",
              "      <th>6745</th>\n",
              "      <td>UP9101</td>\n",
              "      <td>UP</td>\n",
              "      <td></td>\n",
              "      <td>MCHCB</td>\n",
              "      <td>...</td>\n",
              "      <td>False</td>\n",
              "      <td>False</td>\n",
              "      <td>False</td>\n",
              "      <td>1.655984e+09</td>\n",
              "    </tr>\n",
              "  </tbody>\n",
              "</table>\n",
              "<p>6261 rows × 47 columns</p>\n",
              "</div>\n",
              "      <button class=\"colab-df-convert\" onclick=\"convertToInteractive('df-ea94449c-057c-4cf8-b78f-67ce0e27bf72')\"\n",
              "              title=\"Convert this dataframe to an interactive table.\"\n",
              "              style=\"display:none;\">\n",
              "        \n",
              "  <svg xmlns=\"http://www.w3.org/2000/svg\" height=\"24px\"viewBox=\"0 0 24 24\"\n",
              "       width=\"24px\">\n",
              "    <path d=\"M0 0h24v24H0V0z\" fill=\"none\"/>\n",
              "    <path d=\"M18.56 5.44l.94 2.06.94-2.06 2.06-.94-2.06-.94-.94-2.06-.94 2.06-2.06.94zm-11 1L8.5 8.5l.94-2.06 2.06-.94-2.06-.94L8.5 2.5l-.94 2.06-2.06.94zm10 10l.94 2.06.94-2.06 2.06-.94-2.06-.94-.94-2.06-.94 2.06-2.06.94z\"/><path d=\"M17.41 7.96l-1.37-1.37c-.4-.4-.92-.59-1.43-.59-.52 0-1.04.2-1.43.59L10.3 9.45l-7.72 7.72c-.78.78-.78 2.05 0 2.83L4 21.41c.39.39.9.59 1.41.59.51 0 1.02-.2 1.41-.59l7.78-7.78 2.81-2.81c.8-.78.8-2.07 0-2.86zM5.41 20L4 18.59l7.72-7.72 1.47 1.35L5.41 20z\"/>\n",
              "  </svg>\n",
              "      </button>\n",
              "      \n",
              "  <style>\n",
              "    .colab-df-container {\n",
              "      display:flex;\n",
              "      flex-wrap:wrap;\n",
              "      gap: 12px;\n",
              "    }\n",
              "\n",
              "    .colab-df-convert {\n",
              "      background-color: #E8F0FE;\n",
              "      border: none;\n",
              "      border-radius: 50%;\n",
              "      cursor: pointer;\n",
              "      display: none;\n",
              "      fill: #1967D2;\n",
              "      height: 32px;\n",
              "      padding: 0 0 0 0;\n",
              "      width: 32px;\n",
              "    }\n",
              "\n",
              "    .colab-df-convert:hover {\n",
              "      background-color: #E2EBFA;\n",
              "      box-shadow: 0px 1px 2px rgba(60, 64, 67, 0.3), 0px 1px 3px 1px rgba(60, 64, 67, 0.15);\n",
              "      fill: #174EA6;\n",
              "    }\n",
              "\n",
              "    [theme=dark] .colab-df-convert {\n",
              "      background-color: #3B4455;\n",
              "      fill: #D2E3FC;\n",
              "    }\n",
              "\n",
              "    [theme=dark] .colab-df-convert:hover {\n",
              "      background-color: #434B5C;\n",
              "      box-shadow: 0px 1px 3px 1px rgba(0, 0, 0, 0.15);\n",
              "      filter: drop-shadow(0px 1px 2px rgba(0, 0, 0, 0.3));\n",
              "      fill: #FFFFFF;\n",
              "    }\n",
              "  </style>\n",
              "\n",
              "      <script>\n",
              "        const buttonEl =\n",
              "          document.querySelector('#df-ea94449c-057c-4cf8-b78f-67ce0e27bf72 button.colab-df-convert');\n",
              "        buttonEl.style.display =\n",
              "          google.colab.kernel.accessAllowed ? 'block' : 'none';\n",
              "\n",
              "        async function convertToInteractive(key) {\n",
              "          const element = document.querySelector('#df-ea94449c-057c-4cf8-b78f-67ce0e27bf72');\n",
              "          const dataTable =\n",
              "            await google.colab.kernel.invokeFunction('convertToInteractive',\n",
              "                                                     [key], {});\n",
              "          if (!dataTable) return;\n",
              "\n",
              "          const docLinkHtml = 'Like what you see? Visit the ' +\n",
              "            '<a target=\"_blank\" href=https://colab.research.google.com/notebooks/data_table.ipynb>data table notebook</a>'\n",
              "            + ' to learn more about interactive tables.';\n",
              "          element.innerHTML = '';\n",
              "          dataTable['output_type'] = 'display_data';\n",
              "          await google.colab.output.renderOutput(dataTable, element);\n",
              "          const docLink = document.createElement('div');\n",
              "          docLink.innerHTML = docLinkHtml;\n",
              "          element.appendChild(docLink);\n",
              "        }\n",
              "      </script>\n",
              "    </div>\n",
              "  </div>\n",
              "  "
            ]
          },
          "metadata": {},
          "execution_count": 39
        }
      ]
    },
    {
      "cell_type": "code",
      "source": [
        "print(dfTrainsLearn.shape)\n",
        "print(dfTrainsLearnActuals.shape)\n",
        "\n",
        "print(dfTrainsLearn.info())\n",
        "print(dfTrainsLearn.iloc[100])"
      ],
      "metadata": {
        "id": "jTVXPBSQ2gp3",
        "colab": {
          "base_uri": "https://localhost:8080/"
        },
        "outputId": "03faa573-3492-45af-85ea-349db24260c2"
      },
      "execution_count": 40,
      "outputs": [
        {
          "output_type": "stream",
          "name": "stdout",
          "text": [
            "(6261, 47)\n",
            "(6747,)\n",
            "<class 'pandas.core.frame.DataFrame'>\n",
            "Int64Index: 6261 entries, 8 to 6745\n",
            "Data columns (total 47 columns):\n",
            " #   Column                                                         Non-Null Count  Dtype         \n",
            "---  ------                                                         --------------  -----         \n",
            " 0   ptcLeadLocomotiveId                                            6261 non-null   object        \n",
            " 1   trainId.trainSCAC                                              6261 non-null   category      \n",
            " 2   trainId.trainSection                                           6261 non-null   category      \n",
            " 3   trainId.trainSymbol                                            6261 non-null   object        \n",
            " 4   trainId.trainDate                                              6261 non-null   datetime64[ns]\n",
            " 5   lastReportedPosition.speedMPH                                  6261 non-null   int64         \n",
            " 6   lastReportedPosition.milepostLocation.subdivisionId            6261 non-null   int64         \n",
            " 7   lastReportedPosition.milepostLocation.trackName                6261 non-null   category      \n",
            " 8   lastReportedPosition.milepostLocation.milepost.milepostNumber  6261 non-null   float64       \n",
            " 9   aotuTrainData.priorityCode                                     6261 non-null   category      \n",
            " 10  aotuTrainData.categoryCode                                     6261 non-null   category      \n",
            " 11  aotuTrainData.authorityRangeCode                               6261 non-null   category      \n",
            " 12  aotuTrainData.ownershipCode                                    6261 non-null   category      \n",
            " 13  aotuTrainData.totalCarWeight                                   6261 non-null   float64       \n",
            " 14  aotuTrainData.totalCarLength                                   6261 non-null   float64       \n",
            " 15  aotuTrainData.totalLocomotiveWeight                            6261 non-null   float64       \n",
            " 16  aotuTrainData.totalLocomotiveLength                            6261 non-null   float64       \n",
            " 17  aotuTrainData.actualTonsPerAxle                                6261 non-null   float64       \n",
            " 18  aotuTrainData.heavy143TonCarCount                              6261 non-null   float64       \n",
            " 19  aotuTrainData.heavy158TonCarCount                              6261 non-null   float64       \n",
            " 20  aotuTrainData.over158TonCarCount                               6261 non-null   float64       \n",
            " 21  aotuTrainData.highWideCarCount                                 6261 non-null   float64       \n",
            " 22  aotuTrainData.eventCode                                        6261 non-null   category      \n",
            " 23  maximumTrainSpeed                                              6261 non-null   float64       \n",
            " 24  loadedCarCount                                                 6261 non-null   float64       \n",
            " 25  emptyCarCount                                                  6261 non-null   float64       \n",
            " 26  trainLength                                                    6261 non-null   float64       \n",
            " 27  trailingTonnage                                                6261 non-null   float64       \n",
            " 28  milepost                                                       6261 non-null   int64         \n",
            " 29  mpIncr                                                         6261 non-null   bool          \n",
            " 30  symbolType                                                     6261 non-null   category      \n",
            " 31  workLocations                                                  5170 non-null   object        \n",
            " 32  locomotiveCount                                                6261 non-null   int64         \n",
            " 33  nextSpeed                                                      6261 non-null   float64       \n",
            " 34  lastReportedPosition.positionTimeYear                          6261 non-null   int64         \n",
            " 35  lastReportedPosition.positionTimeMonth                         6261 non-null   int64         \n",
            " 36  lastReportedPosition.positionTimeWeek                          6261 non-null   int64         \n",
            " 37  lastReportedPosition.positionTimeDay                           6261 non-null   int64         \n",
            " 38  lastReportedPosition.positionTimeDayofweek                     6261 non-null   int64         \n",
            " 39  lastReportedPosition.positionTimeDayofyear                     6261 non-null   int64         \n",
            " 40  lastReportedPosition.positionTimeIs_month_end                  6261 non-null   bool          \n",
            " 41  lastReportedPosition.positionTimeIs_month_start                6261 non-null   bool          \n",
            " 42  lastReportedPosition.positionTimeIs_quarter_end                6261 non-null   bool          \n",
            " 43  lastReportedPosition.positionTimeIs_quarter_start              6261 non-null   bool          \n",
            " 44  lastReportedPosition.positionTimeIs_year_end                   6261 non-null   bool          \n",
            " 45  lastReportedPosition.positionTimeIs_year_start                 6261 non-null   bool          \n",
            " 46  lastReportedPosition.positionTimeElapsed                       6261 non-null   float64       \n",
            "dtypes: bool(7), category(9), datetime64[ns](1), float64(17), int64(10), object(3)\n",
            "memory usage: 1.6+ MB\n",
            "None\n",
            "ptcLeadLocomotiveId                                              CSXT442\n",
            "trainId.trainSCAC                                                     UP\n",
            "trainId.trainSection                                                   3\n",
            "trainId.trainSymbol                                               QDYIJJ\n",
            "trainId.trainDate                                    2022-06-28 00:00:00\n",
            "                                                            ...         \n",
            "lastReportedPosition.positionTimeIs_quarter_end                    False\n",
            "lastReportedPosition.positionTimeIs_quarter_start                  False\n",
            "lastReportedPosition.positionTimeIs_year_end                       False\n",
            "lastReportedPosition.positionTimeIs_year_start                     False\n",
            "lastReportedPosition.positionTimeElapsed                    1656504629.0\n",
            "Name: 152, Length: 47, dtype: object\n"
          ]
        }
      ]
    },
    {
      "cell_type": "markdown",
      "source": [
        "# Use Decision Tree to predict next speed"
      ],
      "metadata": {
        "id": "mg1p1vouBeIB"
      }
    },
    {
      "cell_type": "code",
      "source": [
        "procs = [tabular.core.Categorify, tabular.core.FillMissing]"
      ],
      "metadata": {
        "id": "F9TApkZWbAbz"
      },
      "execution_count": 41,
      "outputs": []
    },
    {
      "cell_type": "markdown",
      "source": [
        "Breakdown the data by day of year - we will train with older data and then test the model with newer values.\n",
        "Note: this simple logic will fail at the begining of a new year!"
      ],
      "metadata": {
        "id": "yjaTPkTntR7F"
      }
    },
    {
      "cell_type": "code",
      "source": [
        "dateValues = dfTrainsLearn.groupby(['lastReportedPosition.positionTimeDayofyear'])['lastReportedPosition.positionTimeDayofyear'].count()\n",
        "print(dateValues)"
      ],
      "metadata": {
        "id": "gDgYzofcvcpM",
        "colab": {
          "base_uri": "https://localhost:8080/"
        },
        "outputId": "c69ab6a6-4532-4797-8838-134cbca653cd"
      },
      "execution_count": 42,
      "outputs": [
        {
          "output_type": "stream",
          "name": "stdout",
          "text": [
            "lastReportedPosition.positionTimeDayofyear\n",
            "171    480\n",
            "172    495\n",
            "173    539\n",
            "174    719\n",
            "175    613\n",
            "176    564\n",
            "177    580\n",
            "178    540\n",
            "179    546\n",
            "180    516\n",
            "181    540\n",
            "182    129\n",
            "Name: lastReportedPosition.positionTimeDayofyear, dtype: int64\n"
          ]
        }
      ]
    },
    {
      "cell_type": "code",
      "source": [
        "print(\"We will partition this set at day of year:\", dateValues.index[math.trunc(dateValues.size * .66)])"
      ],
      "metadata": {
        "colab": {
          "base_uri": "https://localhost:8080/"
        },
        "id": "cJkyrhnpt2T2",
        "outputId": "ef54e356-3f1c-49c3-b875-a5353745660d"
      },
      "execution_count": 43,
      "outputs": [
        {
          "output_type": "stream",
          "name": "stdout",
          "text": [
            "We will partition this set at day of year: 178\n"
          ]
        }
      ]
    },
    {
      "cell_type": "code",
      "source": [
        "cond = ( dfTrainsLearn['lastReportedPosition.positionTimeDayofyear'] <= dateValues.index[math.trunc(dateValues.size * .66)] )\n",
        "trainIdx = np.where(cond)[0]\n",
        "validIdx = np.where(~cond)[0]\n",
        "splits = (list(trainIdx), list(validIdx))"
      ],
      "metadata": {
        "id": "nIURJVe5vc_n"
      },
      "execution_count": 44,
      "outputs": []
    },
    {
      "cell_type": "code",
      "source": [
        "dep_var = 'nextSpeed'"
      ],
      "metadata": {
        "id": "rPW42wgnOLO_"
      },
      "execution_count": 45,
      "outputs": []
    },
    {
      "cell_type": "code",
      "source": [
        "cont,cat = tabular.core.cont_cat_split(dfTrainsLearn, 1, dep_var=dep_var)"
      ],
      "metadata": {
        "id": "gHDAeThzyzc6"
      },
      "execution_count": 46,
      "outputs": []
    },
    {
      "cell_type": "code",
      "source": [
        "to = tabular.core.TabularPandas(dfTrainsLearn, procs, cat, cont, y_names=dep_var, splits=splits)"
      ],
      "metadata": {
        "id": "xz1ZonvnO-I7"
      },
      "execution_count": 47,
      "outputs": []
    },
    {
      "cell_type": "code",
      "source": [
        "len(to.train),len(to.valid)"
      ],
      "metadata": {
        "id": "0DJly6_Z94uI",
        "colab": {
          "base_uri": "https://localhost:8080/"
        },
        "outputId": "16bb0f2b-1c8b-42f8-a809-81883a71f89a"
      },
      "execution_count": 48,
      "outputs": [
        {
          "output_type": "execute_result",
          "data": {
            "text/plain": [
              "(4530, 1731)"
            ]
          },
          "metadata": {},
          "execution_count": 48
        }
      ]
    },
    {
      "cell_type": "code",
      "source": [
        "to.show()"
      ],
      "metadata": {
        "id": "xoEQAME4-n0M",
        "colab": {
          "base_uri": "https://localhost:8080/",
          "height": 383
        },
        "outputId": "eca2f6f0-afd4-4677-cc41-6d39781a58b4"
      },
      "execution_count": 49,
      "outputs": [
        {
          "output_type": "display_data",
          "data": {
            "text/plain": [
              "<IPython.core.display.HTML object>"
            ],
            "text/html": [
              "<table border=\"1\" class=\"dataframe\">\n",
              "  <thead>\n",
              "    <tr style=\"text-align: right;\">\n",
              "      <th></th>\n",
              "      <th>ptcLeadLocomotiveId</th>\n",
              "      <th>trainId.trainSCAC</th>\n",
              "      <th>trainId.trainSection</th>\n",
              "      <th>trainId.trainSymbol</th>\n",
              "      <th>trainId.trainDate</th>\n",
              "      <th>lastReportedPosition.milepostLocation.subdivisionId</th>\n",
              "      <th>lastReportedPosition.milepostLocation.trackName</th>\n",
              "      <th>aotuTrainData.priorityCode</th>\n",
              "      <th>aotuTrainData.categoryCode</th>\n",
              "      <th>aotuTrainData.authorityRangeCode</th>\n",
              "      <th>aotuTrainData.ownershipCode</th>\n",
              "      <th>aotuTrainData.eventCode</th>\n",
              "      <th>mpIncr</th>\n",
              "      <th>symbolType</th>\n",
              "      <th>workLocations</th>\n",
              "      <th>lastReportedPosition.positionTimeYear</th>\n",
              "      <th>lastReportedPosition.positionTimeIs_month_end</th>\n",
              "      <th>lastReportedPosition.positionTimeIs_month_start</th>\n",
              "      <th>lastReportedPosition.positionTimeIs_quarter_end</th>\n",
              "      <th>lastReportedPosition.positionTimeIs_quarter_start</th>\n",
              "      <th>lastReportedPosition.positionTimeIs_year_end</th>\n",
              "      <th>lastReportedPosition.positionTimeIs_year_start</th>\n",
              "      <th>lastReportedPosition.speedMPH</th>\n",
              "      <th>lastReportedPosition.milepostLocation.milepost.milepostNumber</th>\n",
              "      <th>aotuTrainData.totalCarWeight</th>\n",
              "      <th>aotuTrainData.totalCarLength</th>\n",
              "      <th>aotuTrainData.totalLocomotiveWeight</th>\n",
              "      <th>aotuTrainData.totalLocomotiveLength</th>\n",
              "      <th>aotuTrainData.actualTonsPerAxle</th>\n",
              "      <th>aotuTrainData.heavy143TonCarCount</th>\n",
              "      <th>aotuTrainData.heavy158TonCarCount</th>\n",
              "      <th>aotuTrainData.over158TonCarCount</th>\n",
              "      <th>aotuTrainData.highWideCarCount</th>\n",
              "      <th>maximumTrainSpeed</th>\n",
              "      <th>loadedCarCount</th>\n",
              "      <th>emptyCarCount</th>\n",
              "      <th>trainLength</th>\n",
              "      <th>trailingTonnage</th>\n",
              "      <th>milepost</th>\n",
              "      <th>locomotiveCount</th>\n",
              "      <th>lastReportedPosition.positionTimeMonth</th>\n",
              "      <th>lastReportedPosition.positionTimeWeek</th>\n",
              "      <th>lastReportedPosition.positionTimeDay</th>\n",
              "      <th>lastReportedPosition.positionTimeDayofweek</th>\n",
              "      <th>lastReportedPosition.positionTimeDayofyear</th>\n",
              "      <th>lastReportedPosition.positionTimeElapsed</th>\n",
              "      <th>nextSpeed</th>\n",
              "    </tr>\n",
              "  </thead>\n",
              "  <tbody>\n",
              "    <tr>\n",
              "      <th>8</th>\n",
              "      <td>AMTK206</td>\n",
              "      <td>UP</td>\n",
              "      <td></td>\n",
              "      <td>AMT1</td>\n",
              "      <td>2022-06-24</td>\n",
              "      <td>106</td>\n",
              "      <td>TO_S_UP_MAINLINE</td>\n",
              "      <td>1.0</td>\n",
              "      <td>14.0</td>\n",
              "      <td>2.0</td>\n",
              "      <td>3.0</td>\n",
              "      <td>0.0</td>\n",
              "      <td>True</td>\n",
              "      <td>A</td>\n",
              "      <td>#na#</td>\n",
              "      <td>2022</td>\n",
              "      <td>False</td>\n",
              "      <td>False</td>\n",
              "      <td>False</td>\n",
              "      <td>False</td>\n",
              "      <td>False</td>\n",
              "      <td>False</td>\n",
              "      <td>9</td>\n",
              "      <td>764.868286</td>\n",
              "      <td>0.0</td>\n",
              "      <td>0.0</td>\n",
              "      <td>5360000.0</td>\n",
              "      <td>16560.0</td>\n",
              "      <td>65535.0</td>\n",
              "      <td>0.0</td>\n",
              "      <td>0.0</td>\n",
              "      <td>0.0</td>\n",
              "      <td>0.0</td>\n",
              "      <td>88.0</td>\n",
              "      <td>999.0</td>\n",
              "      <td>999.0</td>\n",
              "      <td>99999.0</td>\n",
              "      <td>99999.0</td>\n",
              "      <td>764</td>\n",
              "      <td>0</td>\n",
              "      <td>6</td>\n",
              "      <td>25</td>\n",
              "      <td>25</td>\n",
              "      <td>5</td>\n",
              "      <td>176</td>\n",
              "      <td>1.656194e+09</td>\n",
              "      <td>-9.0</td>\n",
              "    </tr>\n",
              "    <tr>\n",
              "      <th>12</th>\n",
              "      <td>BNSF3891</td>\n",
              "      <td>UP</td>\n",
              "      <td></td>\n",
              "      <td>QIJBTJ</td>\n",
              "      <td>2022-06-25</td>\n",
              "      <td>106</td>\n",
              "      <td>TO_S_UP_MAINLINE</td>\n",
              "      <td>0.0</td>\n",
              "      <td>0.0</td>\n",
              "      <td>0.0</td>\n",
              "      <td>0.0</td>\n",
              "      <td>0.0</td>\n",
              "      <td>True</td>\n",
              "      <td>Q</td>\n",
              "      <td>#na#</td>\n",
              "      <td>2022</td>\n",
              "      <td>False</td>\n",
              "      <td>False</td>\n",
              "      <td>False</td>\n",
              "      <td>False</td>\n",
              "      <td>False</td>\n",
              "      <td>False</td>\n",
              "      <td>10</td>\n",
              "      <td>764.869629</td>\n",
              "      <td>0.0</td>\n",
              "      <td>0.0</td>\n",
              "      <td>0.0</td>\n",
              "      <td>0.0</td>\n",
              "      <td>0.0</td>\n",
              "      <td>0.0</td>\n",
              "      <td>0.0</td>\n",
              "      <td>0.0</td>\n",
              "      <td>0.0</td>\n",
              "      <td>88.0</td>\n",
              "      <td>999.0</td>\n",
              "      <td>999.0</td>\n",
              "      <td>99999.0</td>\n",
              "      <td>99999.0</td>\n",
              "      <td>764</td>\n",
              "      <td>0</td>\n",
              "      <td>6</td>\n",
              "      <td>25</td>\n",
              "      <td>26</td>\n",
              "      <td>6</td>\n",
              "      <td>177</td>\n",
              "      <td>1.656219e+09</td>\n",
              "      <td>-4.0</td>\n",
              "    </tr>\n",
              "    <tr>\n",
              "      <th>13</th>\n",
              "      <td>BNSF3907</td>\n",
              "      <td>UP</td>\n",
              "      <td></td>\n",
              "      <td>QIJDYJ</td>\n",
              "      <td>2022-06-21</td>\n",
              "      <td>106</td>\n",
              "      <td>TO_S_UP_MAINLINE</td>\n",
              "      <td>2.0</td>\n",
              "      <td>12.0</td>\n",
              "      <td>2.0</td>\n",
              "      <td>3.0</td>\n",
              "      <td>0.0</td>\n",
              "      <td>True</td>\n",
              "      <td>Q</td>\n",
              "      <td>#na#</td>\n",
              "      <td>2022</td>\n",
              "      <td>False</td>\n",
              "      <td>False</td>\n",
              "      <td>False</td>\n",
              "      <td>False</td>\n",
              "      <td>False</td>\n",
              "      <td>False</td>\n",
              "      <td>6</td>\n",
              "      <td>764.868286</td>\n",
              "      <td>102760000.0</td>\n",
              "      <td>505500.0</td>\n",
              "      <td>4275000.0</td>\n",
              "      <td>8940.0</td>\n",
              "      <td>65535.0</td>\n",
              "      <td>0.0</td>\n",
              "      <td>0.0</td>\n",
              "      <td>0.0</td>\n",
              "      <td>0.0</td>\n",
              "      <td>88.0</td>\n",
              "      <td>999.0</td>\n",
              "      <td>999.0</td>\n",
              "      <td>99999.0</td>\n",
              "      <td>99999.0</td>\n",
              "      <td>764</td>\n",
              "      <td>0</td>\n",
              "      <td>6</td>\n",
              "      <td>25</td>\n",
              "      <td>23</td>\n",
              "      <td>3</td>\n",
              "      <td>174</td>\n",
              "      <td>1.655957e+09</td>\n",
              "      <td>-1.0</td>\n",
              "    </tr>\n",
              "    <tr>\n",
              "      <th>23</th>\n",
              "      <td>BNSF5040</td>\n",
              "      <td>UP</td>\n",
              "      <td></td>\n",
              "      <td>QDYIJJ</td>\n",
              "      <td>2022-06-22</td>\n",
              "      <td>106</td>\n",
              "      <td>EAST MAIN</td>\n",
              "      <td>2.0</td>\n",
              "      <td>12.0</td>\n",
              "      <td>2.0</td>\n",
              "      <td>3.0</td>\n",
              "      <td>0.0</td>\n",
              "      <td>False</td>\n",
              "      <td>Q</td>\n",
              "      <td>#na#</td>\n",
              "      <td>2022</td>\n",
              "      <td>False</td>\n",
              "      <td>False</td>\n",
              "      <td>False</td>\n",
              "      <td>False</td>\n",
              "      <td>False</td>\n",
              "      <td>False</td>\n",
              "      <td>14</td>\n",
              "      <td>766.864807</td>\n",
              "      <td>0.0</td>\n",
              "      <td>0.0</td>\n",
              "      <td>8520000.0</td>\n",
              "      <td>17560.0</td>\n",
              "      <td>65535.0</td>\n",
              "      <td>0.0</td>\n",
              "      <td>0.0</td>\n",
              "      <td>0.0</td>\n",
              "      <td>0.0</td>\n",
              "      <td>88.0</td>\n",
              "      <td>999.0</td>\n",
              "      <td>999.0</td>\n",
              "      <td>99999.0</td>\n",
              "      <td>99999.0</td>\n",
              "      <td>766</td>\n",
              "      <td>0</td>\n",
              "      <td>6</td>\n",
              "      <td>25</td>\n",
              "      <td>23</td>\n",
              "      <td>3</td>\n",
              "      <td>174</td>\n",
              "      <td>1.656024e+09</td>\n",
              "      <td>-14.0</td>\n",
              "    </tr>\n",
              "    <tr>\n",
              "      <th>24</th>\n",
              "      <td>BNSF5040</td>\n",
              "      <td>UP</td>\n",
              "      <td></td>\n",
              "      <td>QDYIJJ</td>\n",
              "      <td>2022-06-22</td>\n",
              "      <td>106</td>\n",
              "      <td>EAST MAIN</td>\n",
              "      <td>2.0</td>\n",
              "      <td>12.0</td>\n",
              "      <td>2.0</td>\n",
              "      <td>3.0</td>\n",
              "      <td>0.0</td>\n",
              "      <td>True</td>\n",
              "      <td>Q</td>\n",
              "      <td>#na#</td>\n",
              "      <td>2022</td>\n",
              "      <td>False</td>\n",
              "      <td>False</td>\n",
              "      <td>False</td>\n",
              "      <td>False</td>\n",
              "      <td>False</td>\n",
              "      <td>False</td>\n",
              "      <td>0</td>\n",
              "      <td>766.236816</td>\n",
              "      <td>0.0</td>\n",
              "      <td>0.0</td>\n",
              "      <td>8520000.0</td>\n",
              "      <td>17560.0</td>\n",
              "      <td>65535.0</td>\n",
              "      <td>0.0</td>\n",
              "      <td>0.0</td>\n",
              "      <td>0.0</td>\n",
              "      <td>0.0</td>\n",
              "      <td>88.0</td>\n",
              "      <td>999.0</td>\n",
              "      <td>999.0</td>\n",
              "      <td>99999.0</td>\n",
              "      <td>99999.0</td>\n",
              "      <td>766</td>\n",
              "      <td>0</td>\n",
              "      <td>6</td>\n",
              "      <td>25</td>\n",
              "      <td>23</td>\n",
              "      <td>3</td>\n",
              "      <td>174</td>\n",
              "      <td>1.656025e+09</td>\n",
              "      <td>0.0</td>\n",
              "    </tr>\n",
              "    <tr>\n",
              "      <th>26</th>\n",
              "      <td>BNSF5054</td>\n",
              "      <td>UP</td>\n",
              "      <td></td>\n",
              "      <td>QIJBTJ</td>\n",
              "      <td>2022-06-26</td>\n",
              "      <td>106</td>\n",
              "      <td>TO_S_UP_MAINLINE</td>\n",
              "      <td>2.0</td>\n",
              "      <td>12.0</td>\n",
              "      <td>2.0</td>\n",
              "      <td>3.0</td>\n",
              "      <td>0.0</td>\n",
              "      <td>True</td>\n",
              "      <td>Q</td>\n",
              "      <td>#na#</td>\n",
              "      <td>2022</td>\n",
              "      <td>False</td>\n",
              "      <td>False</td>\n",
              "      <td>False</td>\n",
              "      <td>False</td>\n",
              "      <td>False</td>\n",
              "      <td>False</td>\n",
              "      <td>9</td>\n",
              "      <td>764.869812</td>\n",
              "      <td>0.0</td>\n",
              "      <td>0.0</td>\n",
              "      <td>8400000.0</td>\n",
              "      <td>17560.0</td>\n",
              "      <td>65535.0</td>\n",
              "      <td>0.0</td>\n",
              "      <td>0.0</td>\n",
              "      <td>0.0</td>\n",
              "      <td>0.0</td>\n",
              "      <td>88.0</td>\n",
              "      <td>999.0</td>\n",
              "      <td>999.0</td>\n",
              "      <td>99999.0</td>\n",
              "      <td>99999.0</td>\n",
              "      <td>764</td>\n",
              "      <td>0</td>\n",
              "      <td>6</td>\n",
              "      <td>26</td>\n",
              "      <td>27</td>\n",
              "      <td>0</td>\n",
              "      <td>178</td>\n",
              "      <td>1.656355e+09</td>\n",
              "      <td>-2.0</td>\n",
              "    </tr>\n",
              "    <tr>\n",
              "      <th>32</th>\n",
              "      <td>BNSF5746</td>\n",
              "      <td>UP</td>\n",
              "      <td></td>\n",
              "      <td>QBTIJJ</td>\n",
              "      <td>2022-06-21</td>\n",
              "      <td>106</td>\n",
              "      <td>EAST MAIN</td>\n",
              "      <td>2.0</td>\n",
              "      <td>12.0</td>\n",
              "      <td>2.0</td>\n",
              "      <td>3.0</td>\n",
              "      <td>0.0</td>\n",
              "      <td>True</td>\n",
              "      <td>Q</td>\n",
              "      <td>#na#</td>\n",
              "      <td>2022</td>\n",
              "      <td>False</td>\n",
              "      <td>False</td>\n",
              "      <td>False</td>\n",
              "      <td>False</td>\n",
              "      <td>False</td>\n",
              "      <td>False</td>\n",
              "      <td>6</td>\n",
              "      <td>766.783325</td>\n",
              "      <td>57140000.0</td>\n",
              "      <td>362880.0</td>\n",
              "      <td>12550000.0</td>\n",
              "      <td>26440.0</td>\n",
              "      <td>65535.0</td>\n",
              "      <td>0.0</td>\n",
              "      <td>0.0</td>\n",
              "      <td>0.0</td>\n",
              "      <td>0.0</td>\n",
              "      <td>88.0</td>\n",
              "      <td>999.0</td>\n",
              "      <td>999.0</td>\n",
              "      <td>99999.0</td>\n",
              "      <td>99999.0</td>\n",
              "      <td>766</td>\n",
              "      <td>0</td>\n",
              "      <td>6</td>\n",
              "      <td>25</td>\n",
              "      <td>21</td>\n",
              "      <td>1</td>\n",
              "      <td>172</td>\n",
              "      <td>1.655822e+09</td>\n",
              "      <td>-6.0</td>\n",
              "    </tr>\n",
              "    <tr>\n",
              "      <th>33</th>\n",
              "      <td>BNSF5746</td>\n",
              "      <td>UP</td>\n",
              "      <td></td>\n",
              "      <td>QBTIJJ</td>\n",
              "      <td>2022-06-21</td>\n",
              "      <td>106</td>\n",
              "      <td>EAST MAIN</td>\n",
              "      <td>2.0</td>\n",
              "      <td>12.0</td>\n",
              "      <td>2.0</td>\n",
              "      <td>3.0</td>\n",
              "      <td>0.0</td>\n",
              "      <td>True</td>\n",
              "      <td>Q</td>\n",
              "      <td>#na#</td>\n",
              "      <td>2022</td>\n",
              "      <td>False</td>\n",
              "      <td>False</td>\n",
              "      <td>False</td>\n",
              "      <td>False</td>\n",
              "      <td>False</td>\n",
              "      <td>False</td>\n",
              "      <td>0</td>\n",
              "      <td>766.651489</td>\n",
              "      <td>57140000.0</td>\n",
              "      <td>362880.0</td>\n",
              "      <td>12550000.0</td>\n",
              "      <td>26440.0</td>\n",
              "      <td>65535.0</td>\n",
              "      <td>0.0</td>\n",
              "      <td>0.0</td>\n",
              "      <td>0.0</td>\n",
              "      <td>0.0</td>\n",
              "      <td>88.0</td>\n",
              "      <td>999.0</td>\n",
              "      <td>999.0</td>\n",
              "      <td>99999.0</td>\n",
              "      <td>99999.0</td>\n",
              "      <td>766</td>\n",
              "      <td>0</td>\n",
              "      <td>6</td>\n",
              "      <td>25</td>\n",
              "      <td>21</td>\n",
              "      <td>1</td>\n",
              "      <td>172</td>\n",
              "      <td>1.655823e+09</td>\n",
              "      <td>12.0</td>\n",
              "    </tr>\n",
              "    <tr>\n",
              "      <th>34</th>\n",
              "      <td>BNSF5833</td>\n",
              "      <td>UP</td>\n",
              "      <td></td>\n",
              "      <td>MNOEW</td>\n",
              "      <td>2022-06-19</td>\n",
              "      <td>106</td>\n",
              "      <td>MAIN</td>\n",
              "      <td>4.0</td>\n",
              "      <td>12.0</td>\n",
              "      <td>2.0</td>\n",
              "      <td>2.0</td>\n",
              "      <td>0.0</td>\n",
              "      <td>True</td>\n",
              "      <td>M</td>\n",
              "      <td>#na#</td>\n",
              "      <td>2022</td>\n",
              "      <td>False</td>\n",
              "      <td>False</td>\n",
              "      <td>False</td>\n",
              "      <td>False</td>\n",
              "      <td>False</td>\n",
              "      <td>False</td>\n",
              "      <td>8</td>\n",
              "      <td>720.410889</td>\n",
              "      <td>100343000.0</td>\n",
              "      <td>857270.0</td>\n",
              "      <td>4200000.0</td>\n",
              "      <td>8780.0</td>\n",
              "      <td>65535.0</td>\n",
              "      <td>6.0</td>\n",
              "      <td>0.0</td>\n",
              "      <td>0.0</td>\n",
              "      <td>0.0</td>\n",
              "      <td>50.0</td>\n",
              "      <td>10.0</td>\n",
              "      <td>115.0</td>\n",
              "      <td>7274.0</td>\n",
              "      <td>5018.0</td>\n",
              "      <td>720</td>\n",
              "      <td>1</td>\n",
              "      <td>6</td>\n",
              "      <td>25</td>\n",
              "      <td>20</td>\n",
              "      <td>0</td>\n",
              "      <td>171</td>\n",
              "      <td>1.655754e+09</td>\n",
              "      <td>16.0</td>\n",
              "    </tr>\n",
              "    <tr>\n",
              "      <th>35</th>\n",
              "      <td>BNSF5833</td>\n",
              "      <td>UP</td>\n",
              "      <td></td>\n",
              "      <td>MNOEW</td>\n",
              "      <td>2022-06-19</td>\n",
              "      <td>106</td>\n",
              "      <td>MAIN</td>\n",
              "      <td>4.0</td>\n",
              "      <td>12.0</td>\n",
              "      <td>2.0</td>\n",
              "      <td>2.0</td>\n",
              "      <td>0.0</td>\n",
              "      <td>True</td>\n",
              "      <td>M</td>\n",
              "      <td>#na#</td>\n",
              "      <td>2022</td>\n",
              "      <td>False</td>\n",
              "      <td>False</td>\n",
              "      <td>False</td>\n",
              "      <td>False</td>\n",
              "      <td>False</td>\n",
              "      <td>False</td>\n",
              "      <td>28</td>\n",
              "      <td>724.460693</td>\n",
              "      <td>100343000.0</td>\n",
              "      <td>857270.0</td>\n",
              "      <td>4200000.0</td>\n",
              "      <td>8780.0</td>\n",
              "      <td>65535.0</td>\n",
              "      <td>6.0</td>\n",
              "      <td>0.0</td>\n",
              "      <td>0.0</td>\n",
              "      <td>0.0</td>\n",
              "      <td>50.0</td>\n",
              "      <td>10.0</td>\n",
              "      <td>115.0</td>\n",
              "      <td>7274.0</td>\n",
              "      <td>5018.0</td>\n",
              "      <td>724</td>\n",
              "      <td>1</td>\n",
              "      <td>6</td>\n",
              "      <td>25</td>\n",
              "      <td>20</td>\n",
              "      <td>0</td>\n",
              "      <td>171</td>\n",
              "      <td>1.655755e+09</td>\n",
              "      <td>-28.0</td>\n",
              "    </tr>\n",
              "  </tbody>\n",
              "</table>"
            ]
          },
          "metadata": {}
        }
      ]
    },
    {
      "cell_type": "code",
      "source": [
        "fastai.save_pickle('/tmp/to.pkl',to)"
      ],
      "metadata": {
        "id": "r-D5hdO3-ypC"
      },
      "execution_count": 50,
      "outputs": []
    },
    {
      "cell_type": "markdown",
      "source": [
        "# Creating the Decision Tree"
      ],
      "metadata": {
        "id": "knWgCrX_A0Ep"
      }
    },
    {
      "cell_type": "code",
      "source": [
        "to = fastai.load_pickle('/tmp/to.pkl')"
      ],
      "metadata": {
        "id": "rtc_YDw0ArMR"
      },
      "execution_count": 51,
      "outputs": []
    },
    {
      "cell_type": "code",
      "source": [
        "xs,y = to.train.xs,to.train.y\n",
        "valid_xs,valid_y = to.valid.xs,to.valid.y"
      ],
      "metadata": {
        "id": "CcGx27DMBMbc"
      },
      "execution_count": 52,
      "outputs": []
    },
    {
      "cell_type": "code",
      "source": [
        "m = DecisionTreeRegressor(max_leaf_nodes=16)\n",
        "m.fit(xs, y);"
      ],
      "metadata": {
        "id": "clTcBmpGBXv6"
      },
      "execution_count": 53,
      "outputs": []
    },
    {
      "cell_type": "markdown",
      "source": [
        "Here is a sample of a Decision Tree with just 16 nodes:"
      ],
      "metadata": {
        "id": "YxzzayblKLsa"
      }
    },
    {
      "cell_type": "code",
      "source": [
        "fastai.draw_tree(m, xs, size=16, leaves_parallel=True, precision=2)"
      ],
      "metadata": {
        "id": "nhXNnHk7CSmF",
        "colab": {
          "base_uri": "https://localhost:8080/",
          "height": 945
        },
        "outputId": "58a125c7-0e0f-4fd8-fce1-47613393605e"
      },
      "execution_count": 54,
      "outputs": [
        {
          "output_type": "execute_result",
          "data": {
            "text/plain": [
              "<graphviz.files.Source at 0x7fe1a07e3750>"
            ],
            "image/svg+xml": "<?xml version=\"1.0\" encoding=\"UTF-8\" standalone=\"no\"?>\n<!DOCTYPE svg PUBLIC \"-//W3C//DTD SVG 1.1//EN\"\n \"http://www.w3.org/Graphics/SVG/1.1/DTD/svg11.dtd\">\n<!-- Generated by graphviz version 2.40.1 (20161225.0304)\n -->\n<!-- Title: Tree Pages: 1 -->\n<svg width=\"1152pt\" height=\"693pt\"\n viewBox=\"0.00 0.00 1152.00 692.95\" xmlns=\"http://www.w3.org/2000/svg\" xmlns:xlink=\"http://www.w3.org/1999/xlink\">\n<g id=\"graph0\" class=\"graph\" transform=\"scale(.3895 .3895) rotate(0) translate(4 1775.2939)\">\n<title>Tree</title>\n<polygon fill=\"#ffffff\" stroke=\"transparent\" points=\"-4,4 -4,-1775.2939 2954,-1775.2939 2954,4 -4,4\"/>\n<!-- 0 -->\n<g id=\"node1\" class=\"node\">\n<title>0</title>\n<path fill=\"#f2c09b\" stroke=\"#000000\" d=\"M1629,-1717C1629,-1717 1382,-1717 1382,-1717 1376,-1717 1370,-1711 1370,-1705 1370,-1705 1370,-1661 1370,-1661 1370,-1655 1376,-1649 1382,-1649 1382,-1649 1629,-1649 1629,-1649 1635,-1649 1641,-1655 1641,-1661 1641,-1661 1641,-1705 1641,-1705 1641,-1711 1635,-1717 1629,-1717\"/>\n<text text-anchor=\"start\" x=\"1378\" y=\"-1701.8\" font-family=\"Helvetica,sans-Serif\" font-size=\"14.00\" fill=\"#000000\">lastReportedPosition.speedMPH ≤ 29.5</text>\n<text text-anchor=\"start\" x=\"1429\" y=\"-1686.8\" font-family=\"Helvetica,sans-Serif\" font-size=\"14.00\" fill=\"#000000\">squared_error = 209.56</text>\n<text text-anchor=\"start\" x=\"1453.5\" y=\"-1671.8\" font-family=\"Helvetica,sans-Serif\" font-size=\"14.00\" fill=\"#000000\">samples = 4530</text>\n<text text-anchor=\"start\" x=\"1465.5\" y=\"-1656.8\" font-family=\"Helvetica,sans-Serif\" font-size=\"14.00\" fill=\"#000000\">value = 0.36</text>\n</g>\n<!-- 1 -->\n<g id=\"node2\" class=\"node\">\n<title>1</title>\n<path fill=\"#f0b58a\" stroke=\"#000000\" d=\"M1331,-1448C1331,-1448 864,-1448 864,-1448 858,-1448 852,-1442 852,-1436 852,-1436 852,-1392 852,-1392 852,-1386 858,-1380 864,-1380 864,-1380 1331,-1380 1331,-1380 1337,-1380 1343,-1386 1343,-1392 1343,-1392 1343,-1436 1343,-1436 1343,-1442 1337,-1448 1331,-1448\"/>\n<text text-anchor=\"start\" x=\"860\" y=\"-1432.8\" font-family=\"Helvetica,sans-Serif\" font-size=\"14.00\" fill=\"#000000\">lastReportedPosition.milepostLocation.milepost.milepostNumber ≤ 722.81</text>\n<text text-anchor=\"start\" x=\"1021\" y=\"-1417.8\" font-family=\"Helvetica,sans-Serif\" font-size=\"14.00\" fill=\"#000000\">squared_error = 195.43</text>\n<text text-anchor=\"start\" x=\"1045.5\" y=\"-1402.8\" font-family=\"Helvetica,sans-Serif\" font-size=\"14.00\" fill=\"#000000\">samples = 2277</text>\n<text text-anchor=\"start\" x=\"1057.5\" y=\"-1387.8\" font-family=\"Helvetica,sans-Serif\" font-size=\"14.00\" fill=\"#000000\">value = 5.29</text>\n</g>\n<!-- 0&#45;&gt;1 -->\n<g id=\"edge1\" class=\"edge\">\n<title>0&#45;&gt;1</title>\n<path fill=\"none\" stroke=\"#000000\" d=\"M1453.8265,-1648.931C1378.2084,-1599.0749 1237.7144,-1506.4453 1157.5873,-1453.6164\"/>\n<polygon fill=\"#000000\" stroke=\"#000000\" points=\"1159.3502,-1450.5865 1149.0749,-1448.0041 1155.4971,-1456.4306 1159.3502,-1450.5865\"/>\n<text text-anchor=\"middle\" x=\"1154.103\" y=\"-1468.7932\" font-family=\"Helvetica,sans-Serif\" font-size=\"14.00\" fill=\"#000000\">True</text>\n</g>\n<!-- 2 -->\n<g id=\"node15\" class=\"node\">\n<title>2</title>\n<path fill=\"#f4cbad\" stroke=\"#000000\" d=\"M1694,-1448C1694,-1448 1447,-1448 1447,-1448 1441,-1448 1435,-1442 1435,-1436 1435,-1436 1435,-1392 1435,-1392 1435,-1386 1441,-1380 1447,-1380 1447,-1380 1694,-1380 1694,-1380 1700,-1380 1706,-1386 1706,-1392 1706,-1392 1706,-1436 1706,-1436 1706,-1442 1700,-1448 1694,-1448\"/>\n<text text-anchor=\"start\" x=\"1443\" y=\"-1432.8\" font-family=\"Helvetica,sans-Serif\" font-size=\"14.00\" fill=\"#000000\">lastReportedPosition.speedMPH ≤ 41.5</text>\n<text text-anchor=\"start\" x=\"1494\" y=\"-1417.8\" font-family=\"Helvetica,sans-Serif\" font-size=\"14.00\" fill=\"#000000\">squared_error = 174.48</text>\n<text text-anchor=\"start\" x=\"1518.5\" y=\"-1402.8\" font-family=\"Helvetica,sans-Serif\" font-size=\"14.00\" fill=\"#000000\">samples = 2253</text>\n<text text-anchor=\"start\" x=\"1528\" y=\"-1387.8\" font-family=\"Helvetica,sans-Serif\" font-size=\"14.00\" fill=\"#000000\">value = &#45;4.62</text>\n</g>\n<!-- 0&#45;&gt;2 -->\n<g id=\"edge14\" class=\"edge\">\n<title>0&#45;&gt;2</title>\n<path fill=\"none\" stroke=\"#000000\" d=\"M1513.7323,-1648.931C1525.4462,-1600.4533 1546.9322,-1511.5346 1559.8468,-1458.0877\"/>\n<polygon fill=\"#000000\" stroke=\"#000000\" points=\"1563.2854,-1458.7586 1562.2321,-1448.2162 1556.4812,-1457.1144 1563.2854,-1458.7586\"/>\n<text text-anchor=\"middle\" x=\"1575.2632\" y=\"-1465.8514\" font-family=\"Helvetica,sans-Serif\" font-size=\"14.00\" fill=\"#000000\">False</text>\n</g>\n<!-- 3 -->\n<g id=\"node3\" class=\"node\">\n<title>3</title>\n<path fill=\"#efb185\" stroke=\"#000000\" d=\"M852,-1179C852,-1179 605,-1179 605,-1179 599,-1179 593,-1173 593,-1167 593,-1167 593,-1123 593,-1123 593,-1117 599,-1111 605,-1111 605,-1111 852,-1111 852,-1111 858,-1111 864,-1117 864,-1123 864,-1123 864,-1167 864,-1167 864,-1173 858,-1179 852,-1179\"/>\n<text text-anchor=\"start\" x=\"601\" y=\"-1163.8\" font-family=\"Helvetica,sans-Serif\" font-size=\"14.00\" fill=\"#000000\">lastReportedPosition.speedMPH ≤ 15.5</text>\n<text text-anchor=\"start\" x=\"652\" y=\"-1148.8\" font-family=\"Helvetica,sans-Serif\" font-size=\"14.00\" fill=\"#000000\">squared_error = 226.16</text>\n<text text-anchor=\"start\" x=\"676.5\" y=\"-1133.8\" font-family=\"Helvetica,sans-Serif\" font-size=\"14.00\" fill=\"#000000\">samples = 1661</text>\n<text text-anchor=\"start\" x=\"688.5\" y=\"-1118.8\" font-family=\"Helvetica,sans-Serif\" font-size=\"14.00\" fill=\"#000000\">value = 6.86</text>\n</g>\n<!-- 1&#45;&gt;3 -->\n<g id=\"edge2\" class=\"edge\">\n<title>1&#45;&gt;3</title>\n<path fill=\"none\" stroke=\"#000000\" d=\"M1050.7659,-1379.931C982.5144,-1330.1758 855.8258,-1237.8201 783.2844,-1184.9377\"/>\n<polygon fill=\"#000000\" stroke=\"#000000\" points=\"785.2875,-1182.0667 775.145,-1179.0041 781.1639,-1187.7232 785.2875,-1182.0667\"/>\n</g>\n<!-- 4 -->\n<g id=\"node12\" class=\"node\">\n<title>4</title>\n<path fill=\"#f2be99\" stroke=\"#000000\" d=\"M1217,-1179C1217,-1179 978,-1179 978,-1179 972,-1179 966,-1173 966,-1167 966,-1167 966,-1123 966,-1123 966,-1117 972,-1111 978,-1111 978,-1111 1217,-1111 1217,-1111 1223,-1111 1229,-1117 1229,-1123 1229,-1123 1229,-1167 1229,-1167 1229,-1173 1223,-1179 1217,-1179\"/>\n<text text-anchor=\"start\" x=\"974\" y=\"-1163.8\" font-family=\"Helvetica,sans-Serif\" font-size=\"14.00\" fill=\"#000000\">lastReportedPosition.speedMPH ≤ 8.5</text>\n<text text-anchor=\"start\" x=\"1025\" y=\"-1148.8\" font-family=\"Helvetica,sans-Serif\" font-size=\"14.00\" fill=\"#000000\">squared_error = 87.93</text>\n<text text-anchor=\"start\" x=\"1049.5\" y=\"-1133.8\" font-family=\"Helvetica,sans-Serif\" font-size=\"14.00\" fill=\"#000000\">samples = 616</text>\n<text text-anchor=\"start\" x=\"1057.5\" y=\"-1118.8\" font-family=\"Helvetica,sans-Serif\" font-size=\"14.00\" fill=\"#000000\">value = 1.06</text>\n</g>\n<!-- 1&#45;&gt;4 -->\n<g id=\"edge11\" class=\"edge\">\n<title>1&#45;&gt;4</title>\n<path fill=\"none\" stroke=\"#000000\" d=\"M1097.5,-1379.931C1097.5,-1331.5541 1097.5,-1242.9042 1097.5,-1189.4215\"/>\n<polygon fill=\"#000000\" stroke=\"#000000\" points=\"1101.0001,-1189.2162 1097.5,-1179.2162 1094.0001,-1189.2163 1101.0001,-1189.2162\"/>\n</g>\n<!-- 5 -->\n<g id=\"node4\" class=\"node\">\n<title>5</title>\n<path fill=\"#eeae7f\" stroke=\"#000000\" d=\"M437.5,-910C437.5,-910 109.5,-910 109.5,-910 103.5,-910 97.5,-904 97.5,-898 97.5,-898 97.5,-854 97.5,-854 97.5,-848 103.5,-842 109.5,-842 109.5,-842 437.5,-842 437.5,-842 443.5,-842 449.5,-848 449.5,-854 449.5,-854 449.5,-898 449.5,-898 449.5,-904 443.5,-910 437.5,-910\"/>\n<text text-anchor=\"start\" x=\"105.5\" y=\"-894.8\" font-family=\"Helvetica,sans-Serif\" font-size=\"14.00\" fill=\"#000000\">aotuTrainData.totalLocomotiveWeight ≤ 16665000.0</text>\n<text text-anchor=\"start\" x=\"197\" y=\"-879.8\" font-family=\"Helvetica,sans-Serif\" font-size=\"14.00\" fill=\"#000000\">squared_error = 212.66</text>\n<text text-anchor=\"start\" x=\"221.5\" y=\"-864.8\" font-family=\"Helvetica,sans-Serif\" font-size=\"14.00\" fill=\"#000000\">samples = 1138</text>\n<text text-anchor=\"start\" x=\"233.5\" y=\"-849.8\" font-family=\"Helvetica,sans-Serif\" font-size=\"14.00\" fill=\"#000000\">value = 8.55</text>\n</g>\n<!-- 3&#45;&gt;5 -->\n<g id=\"edge3\" class=\"edge\">\n<title>3&#45;&gt;5</title>\n<path fill=\"none\" stroke=\"#000000\" d=\"M670.8739,-1110.931C586.2889,-1060.9235 428.9144,-967.8824 339.697,-915.1362\"/>\n<polygon fill=\"#000000\" stroke=\"#000000\" points=\"341.4055,-912.0805 331.0162,-910.0041 337.8431,-918.1062 341.4055,-912.0805\"/>\n</g>\n<!-- 6 -->\n<g id=\"node9\" class=\"node\">\n<title>6</title>\n<path fill=\"#f1b992\" stroke=\"#000000\" d=\"M958,-910C958,-910 499,-910 499,-910 493,-910 487,-904 487,-898 487,-898 487,-854 487,-854 487,-848 493,-842 499,-842 499,-842 958,-842 958,-842 964,-842 970,-848 970,-854 970,-854 970,-898 970,-898 970,-904 964,-910 958,-910\"/>\n<text text-anchor=\"start\" x=\"495\" y=\"-894.8\" font-family=\"Helvetica,sans-Serif\" font-size=\"14.00\" fill=\"#000000\">lastReportedPosition.milepostLocation.milepost.milepostNumber ≤ 234.4</text>\n<text text-anchor=\"start\" x=\"652\" y=\"-879.8\" font-family=\"Helvetica,sans-Serif\" font-size=\"14.00\" fill=\"#000000\">squared_error = 235.92</text>\n<text text-anchor=\"start\" x=\"680.5\" y=\"-864.8\" font-family=\"Helvetica,sans-Serif\" font-size=\"14.00\" fill=\"#000000\">samples = 523</text>\n<text text-anchor=\"start\" x=\"692.5\" y=\"-849.8\" font-family=\"Helvetica,sans-Serif\" font-size=\"14.00\" fill=\"#000000\">value = 3.2</text>\n</g>\n<!-- 3&#45;&gt;6 -->\n<g id=\"edge8\" class=\"edge\">\n<title>3&#45;&gt;6</title>\n<path fill=\"none\" stroke=\"#000000\" d=\"M728.5,-1110.931C728.5,-1062.5541 728.5,-973.9042 728.5,-920.4215\"/>\n<polygon fill=\"#000000\" stroke=\"#000000\" points=\"732.0001,-920.2162 728.5,-910.2162 725.0001,-920.2163 732.0001,-920.2162\"/>\n</g>\n<!-- 25 -->\n<g id=\"node5\" class=\"node\">\n<title>25</title>\n<path fill=\"#eeaf81\" stroke=\"#000000\" d=\"M149,-95.5C149,-95.5 12,-95.5 12,-95.5 6,-95.5 0,-89.5 0,-83.5 0,-83.5 0,-54.5 0,-54.5 0,-48.5 6,-42.5 12,-42.5 12,-42.5 149,-42.5 149,-42.5 155,-42.5 161,-48.5 161,-54.5 161,-54.5 161,-83.5 161,-83.5 161,-89.5 155,-95.5 149,-95.5\"/>\n<text text-anchor=\"start\" x=\"8\" y=\"-80.3\" font-family=\"Helvetica,sans-Serif\" font-size=\"14.00\" fill=\"#000000\">squared_error = 192.4</text>\n<text text-anchor=\"start\" x=\"28.5\" y=\"-65.3\" font-family=\"Helvetica,sans-Serif\" font-size=\"14.00\" fill=\"#000000\">samples = 1042</text>\n<text text-anchor=\"start\" x=\"40.5\" y=\"-50.3\" font-family=\"Helvetica,sans-Serif\" font-size=\"14.00\" fill=\"#000000\">value = 7.97</text>\n</g>\n<!-- 5&#45;&gt;25 -->\n<g id=\"edge4\" class=\"edge\">\n<title>5&#45;&gt;25</title>\n<path fill=\"none\" stroke=\"#000000\" d=\"M258.5229,-841.829C229.9561,-776.6523 170.5,-641 170.5,-641 170.5,-641 106.1807,-232.2151 86.29,-105.7984\"/>\n<polygon fill=\"#000000\" stroke=\"#000000\" points=\"89.732,-105.156 84.7202,-95.8215 82.8171,-106.244 89.732,-105.156\"/>\n</g>\n<!-- 26 -->\n<g id=\"node6\" class=\"node\">\n<title>26</title>\n<path fill=\"#eba06a\" stroke=\"#000000\" d=\"M355.5,-641C355.5,-641 191.5,-641 191.5,-641 185.5,-641 179.5,-635 179.5,-629 179.5,-629 179.5,-585 179.5,-585 179.5,-579 185.5,-573 191.5,-573 191.5,-573 355.5,-573 355.5,-573 361.5,-573 367.5,-579 367.5,-585 367.5,-585 367.5,-629 367.5,-629 367.5,-635 361.5,-641 355.5,-641\"/>\n<text text-anchor=\"start\" x=\"187.5\" y=\"-625.8\" font-family=\"Helvetica,sans-Serif\" font-size=\"14.00\" fill=\"#000000\">trainId.trainSymbol ≤ 118.0</text>\n<text text-anchor=\"start\" x=\"197\" y=\"-610.8\" font-family=\"Helvetica,sans-Serif\" font-size=\"14.00\" fill=\"#000000\">squared_error = 389.96</text>\n<text text-anchor=\"start\" x=\"229.5\" y=\"-595.8\" font-family=\"Helvetica,sans-Serif\" font-size=\"14.00\" fill=\"#000000\">samples = 96</text>\n<text text-anchor=\"start\" x=\"229.5\" y=\"-580.8\" font-family=\"Helvetica,sans-Serif\" font-size=\"14.00\" fill=\"#000000\">value = 14.79</text>\n</g>\n<!-- 5&#45;&gt;26 -->\n<g id=\"edge5\" class=\"edge\">\n<title>5&#45;&gt;26</title>\n<path fill=\"none\" stroke=\"#000000\" d=\"M273.5,-841.931C273.5,-793.5541 273.5,-704.9042 273.5,-651.4215\"/>\n<polygon fill=\"#000000\" stroke=\"#000000\" points=\"277.0001,-651.2162 273.5,-641.2162 270.0001,-651.2163 277.0001,-651.2162\"/>\n</g>\n<!-- 27 -->\n<g id=\"node7\" class=\"node\">\n<title>27</title>\n<path fill=\"#eda876\" stroke=\"#000000\" d=\"M336,-95.5C336,-95.5 191,-95.5 191,-95.5 185,-95.5 179,-89.5 179,-83.5 179,-83.5 179,-54.5 179,-54.5 179,-48.5 185,-42.5 191,-42.5 191,-42.5 336,-42.5 336,-42.5 342,-42.5 348,-48.5 348,-54.5 348,-54.5 348,-83.5 348,-83.5 348,-89.5 342,-95.5 336,-95.5\"/>\n<text text-anchor=\"start\" x=\"187\" y=\"-80.3\" font-family=\"Helvetica,sans-Serif\" font-size=\"14.00\" fill=\"#000000\">squared_error = 274.14</text>\n<text text-anchor=\"start\" x=\"219.5\" y=\"-65.3\" font-family=\"Helvetica,sans-Serif\" font-size=\"14.00\" fill=\"#000000\">samples = 77</text>\n<text text-anchor=\"start\" x=\"219.5\" y=\"-50.3\" font-family=\"Helvetica,sans-Serif\" font-size=\"14.00\" fill=\"#000000\">value = 11.32</text>\n</g>\n<!-- 26&#45;&gt;27 -->\n<g id=\"edge6\" class=\"edge\">\n<title>26&#45;&gt;27</title>\n<path fill=\"none\" stroke=\"#000000\" d=\"M272.8669,-572.9375C271.0836,-476.9952 266.029,-205.0582 264.1845,-105.8253\"/>\n<polygon fill=\"#000000\" stroke=\"#000000\" points=\"267.6813,-105.6159 263.996,-95.6827 260.6825,-105.7461 267.6813,-105.6159\"/>\n</g>\n<!-- 28 -->\n<g id=\"node8\" class=\"node\">\n<title>28</title>\n<path fill=\"#e58139\" stroke=\"#000000\" d=\"M523,-95.5C523,-95.5 378,-95.5 378,-95.5 372,-95.5 366,-89.5 366,-83.5 366,-83.5 366,-54.5 366,-54.5 366,-48.5 372,-42.5 378,-42.5 378,-42.5 523,-42.5 523,-42.5 529,-42.5 535,-48.5 535,-54.5 535,-54.5 535,-83.5 535,-83.5 535,-89.5 529,-95.5 523,-95.5\"/>\n<text text-anchor=\"start\" x=\"374\" y=\"-80.3\" font-family=\"Helvetica,sans-Serif\" font-size=\"14.00\" fill=\"#000000\">squared_error = 613.19</text>\n<text text-anchor=\"start\" x=\"406.5\" y=\"-65.3\" font-family=\"Helvetica,sans-Serif\" font-size=\"14.00\" fill=\"#000000\">samples = 19</text>\n<text text-anchor=\"start\" x=\"406.5\" y=\"-50.3\" font-family=\"Helvetica,sans-Serif\" font-size=\"14.00\" fill=\"#000000\">value = 28.84</text>\n</g>\n<!-- 26&#45;&gt;28 -->\n<g id=\"edge7\" class=\"edge\">\n<title>26&#45;&gt;28</title>\n<path fill=\"none\" stroke=\"#000000\" d=\"M284.7064,-572.9375C316.335,-476.801 406.0998,-203.9565 438.5822,-105.2248\"/>\n<polygon fill=\"#000000\" stroke=\"#000000\" points=\"441.9209,-106.2757 441.7215,-95.6827 435.2715,-104.088 441.9209,-106.2757\"/>\n</g>\n<!-- 13 -->\n<g id=\"node10\" class=\"node\">\n<title>13</title>\n<path fill=\"#f4c8a8\" stroke=\"#000000\" d=\"M710,-95.5C710,-95.5 565,-95.5 565,-95.5 559,-95.5 553,-89.5 553,-83.5 553,-83.5 553,-54.5 553,-54.5 553,-48.5 559,-42.5 565,-42.5 565,-42.5 710,-42.5 710,-42.5 716,-42.5 722,-48.5 722,-54.5 722,-54.5 722,-83.5 722,-83.5 722,-89.5 716,-95.5 710,-95.5\"/>\n<text text-anchor=\"start\" x=\"561\" y=\"-80.3\" font-family=\"Helvetica,sans-Serif\" font-size=\"14.00\" fill=\"#000000\">squared_error = 325.87</text>\n<text text-anchor=\"start\" x=\"589.5\" y=\"-65.3\" font-family=\"Helvetica,sans-Serif\" font-size=\"14.00\" fill=\"#000000\">samples = 119</text>\n<text text-anchor=\"start\" x=\"599.5\" y=\"-50.3\" font-family=\"Helvetica,sans-Serif\" font-size=\"14.00\" fill=\"#000000\">value = &#45;3.4</text>\n</g>\n<!-- 6&#45;&gt;13 -->\n<g id=\"edge9\" class=\"edge\">\n<title>6&#45;&gt;13</title>\n<path fill=\"none\" stroke=\"#000000\" d=\"M724.648,-841.8397C709.8757,-710.8371 656.9096,-241.1271 641.6446,-105.7546\"/>\n<polygon fill=\"#000000\" stroke=\"#000000\" points=\"645.0874,-105.0502 640.4888,-95.5054 638.1315,-105.8347 645.0874,-105.0502\"/>\n</g>\n<!-- 14 -->\n<g id=\"node11\" class=\"node\">\n<title>14</title>\n<path fill=\"#f0b58b\" stroke=\"#000000\" d=\"M897,-95.5C897,-95.5 752,-95.5 752,-95.5 746,-95.5 740,-89.5 740,-83.5 740,-83.5 740,-54.5 740,-54.5 740,-48.5 746,-42.5 752,-42.5 752,-42.5 897,-42.5 897,-42.5 903,-42.5 909,-48.5 909,-54.5 909,-54.5 909,-83.5 909,-83.5 909,-89.5 903,-95.5 897,-95.5\"/>\n<text text-anchor=\"start\" x=\"748\" y=\"-80.3\" font-family=\"Helvetica,sans-Serif\" font-size=\"14.00\" fill=\"#000000\">squared_error = 192.82</text>\n<text text-anchor=\"start\" x=\"776.5\" y=\"-65.3\" font-family=\"Helvetica,sans-Serif\" font-size=\"14.00\" fill=\"#000000\">samples = 404</text>\n<text text-anchor=\"start\" x=\"784.5\" y=\"-50.3\" font-family=\"Helvetica,sans-Serif\" font-size=\"14.00\" fill=\"#000000\">value = 5.14</text>\n</g>\n<!-- 6&#45;&gt;14 -->\n<g id=\"edge10\" class=\"edge\">\n<title>6&#45;&gt;14</title>\n<path fill=\"none\" stroke=\"#000000\" d=\"M732.5637,-841.8397C748.1476,-710.8371 804.0239,-241.1271 820.1277,-105.7546\"/>\n<polygon fill=\"#000000\" stroke=\"#000000\" points=\"823.6411,-105.8489 821.3469,-95.5054 816.6901,-105.022 823.6411,-105.8489\"/>\n</g>\n<!-- 11 -->\n<g id=\"node13\" class=\"node\">\n<title>11</title>\n<path fill=\"#f1ba92\" stroke=\"#000000\" d=\"M1076,-95.5C1076,-95.5 939,-95.5 939,-95.5 933,-95.5 927,-89.5 927,-83.5 927,-83.5 927,-54.5 927,-54.5 927,-48.5 933,-42.5 939,-42.5 939,-42.5 1076,-42.5 1076,-42.5 1082,-42.5 1088,-48.5 1088,-54.5 1088,-54.5 1088,-83.5 1088,-83.5 1088,-89.5 1082,-95.5 1076,-95.5\"/>\n<text text-anchor=\"start\" x=\"935\" y=\"-80.3\" font-family=\"Helvetica,sans-Serif\" font-size=\"14.00\" fill=\"#000000\">squared_error = 54.95</text>\n<text text-anchor=\"start\" x=\"959.5\" y=\"-65.3\" font-family=\"Helvetica,sans-Serif\" font-size=\"14.00\" fill=\"#000000\">samples = 472</text>\n<text text-anchor=\"start\" x=\"967.5\" y=\"-50.3\" font-family=\"Helvetica,sans-Serif\" font-size=\"14.00\" fill=\"#000000\">value = 3.01</text>\n</g>\n<!-- 4&#45;&gt;11 -->\n<g id=\"edge12\" class=\"edge\">\n<title>4&#45;&gt;11</title>\n<path fill=\"none\" stroke=\"#000000\" d=\"M1094.6327,-1110.7199C1081.1952,-950.0675 1024.5231,-272.5202 1010.5994,-106.0548\"/>\n<polygon fill=\"#000000\" stroke=\"#000000\" points=\"1014.0664,-105.5135 1009.745,-95.8401 1007.0908,-106.097 1014.0664,-105.5135\"/>\n</g>\n<!-- 12 -->\n<g id=\"node14\" class=\"node\">\n<title>12</title>\n<path fill=\"#f5ccaf\" stroke=\"#000000\" d=\"M1263,-95.5C1263,-95.5 1118,-95.5 1118,-95.5 1112,-95.5 1106,-89.5 1106,-83.5 1106,-83.5 1106,-54.5 1106,-54.5 1106,-48.5 1112,-42.5 1118,-42.5 1118,-42.5 1263,-42.5 1263,-42.5 1269,-42.5 1275,-48.5 1275,-54.5 1275,-54.5 1275,-83.5 1275,-83.5 1275,-89.5 1269,-95.5 1263,-95.5\"/>\n<text text-anchor=\"start\" x=\"1114\" y=\"-80.3\" font-family=\"Helvetica,sans-Serif\" font-size=\"14.00\" fill=\"#000000\">squared_error = 142.55</text>\n<text text-anchor=\"start\" x=\"1142.5\" y=\"-65.3\" font-family=\"Helvetica,sans-Serif\" font-size=\"14.00\" fill=\"#000000\">samples = 144</text>\n<text text-anchor=\"start\" x=\"1148\" y=\"-50.3\" font-family=\"Helvetica,sans-Serif\" font-size=\"14.00\" fill=\"#000000\">value = &#45;5.35</text>\n</g>\n<!-- 4&#45;&gt;12 -->\n<g id=\"edge13\" class=\"edge\">\n<title>4&#45;&gt;12</title>\n<path fill=\"none\" stroke=\"#000000\" d=\"M1100.4629,-1110.7199C1114.3483,-950.0675 1172.9095,-272.5202 1187.2973,-106.0548\"/>\n<polygon fill=\"#000000\" stroke=\"#000000\" points=\"1190.806,-106.1044 1188.1802,-95.8401 1183.832,-105.5015 1190.806,-106.1044\"/>\n</g>\n<!-- 7 -->\n<g id=\"node16\" class=\"node\">\n<title>7</title>\n<path fill=\"#f3c6a6\" stroke=\"#000000\" d=\"M1671,-1179C1671,-1179 1470,-1179 1470,-1179 1464,-1179 1458,-1173 1458,-1167 1458,-1167 1458,-1123 1458,-1123 1458,-1117 1464,-1111 1470,-1111 1470,-1111 1671,-1111 1671,-1111 1677,-1111 1683,-1117 1683,-1123 1683,-1123 1683,-1167 1683,-1167 1683,-1173 1677,-1179 1671,-1179\"/>\n<text text-anchor=\"start\" x=\"1466\" y=\"-1163.8\" font-family=\"Helvetica,sans-Serif\" font-size=\"14.00\" fill=\"#000000\">aotuTrainData.priorityCode ≤ 2.0</text>\n<text text-anchor=\"start\" x=\"1494\" y=\"-1148.8\" font-family=\"Helvetica,sans-Serif\" font-size=\"14.00\" fill=\"#000000\">squared_error = 174.64</text>\n<text text-anchor=\"start\" x=\"1518.5\" y=\"-1133.8\" font-family=\"Helvetica,sans-Serif\" font-size=\"14.00\" fill=\"#000000\">samples = 1115</text>\n<text text-anchor=\"start\" x=\"1528\" y=\"-1118.8\" font-family=\"Helvetica,sans-Serif\" font-size=\"14.00\" fill=\"#000000\">value = &#45;2.55</text>\n</g>\n<!-- 2&#45;&gt;7 -->\n<g id=\"edge15\" class=\"edge\">\n<title>2&#45;&gt;7</title>\n<path fill=\"none\" stroke=\"#000000\" d=\"M1570.5,-1379.931C1570.5,-1331.5541 1570.5,-1242.9042 1570.5,-1189.4215\"/>\n<polygon fill=\"#000000\" stroke=\"#000000\" points=\"1574.0001,-1189.2162 1570.5,-1179.2162 1567.0001,-1189.2163 1574.0001,-1189.2162\"/>\n</g>\n<!-- 8 -->\n<g id=\"node25\" class=\"node\">\n<title>8</title>\n<path fill=\"#f5cfb4\" stroke=\"#000000\" d=\"M2579,-1179C2579,-1179 2112,-1179 2112,-1179 2106,-1179 2100,-1173 2100,-1167 2100,-1167 2100,-1123 2100,-1123 2100,-1117 2106,-1111 2112,-1111 2112,-1111 2579,-1111 2579,-1111 2585,-1111 2591,-1117 2591,-1123 2591,-1123 2591,-1167 2591,-1167 2591,-1173 2585,-1179 2579,-1179\"/>\n<text text-anchor=\"start\" x=\"2108\" y=\"-1163.8\" font-family=\"Helvetica,sans-Serif\" font-size=\"14.00\" fill=\"#000000\">lastReportedPosition.milepostLocation.milepost.milepostNumber ≤ 260.02</text>\n<text text-anchor=\"start\" x=\"2273\" y=\"-1148.8\" font-family=\"Helvetica,sans-Serif\" font-size=\"14.00\" fill=\"#000000\">squared_error = 166.0</text>\n<text text-anchor=\"start\" x=\"2293.5\" y=\"-1133.8\" font-family=\"Helvetica,sans-Serif\" font-size=\"14.00\" fill=\"#000000\">samples = 1138</text>\n<text text-anchor=\"start\" x=\"2303\" y=\"-1118.8\" font-family=\"Helvetica,sans-Serif\" font-size=\"14.00\" fill=\"#000000\">value = &#45;6.65</text>\n</g>\n<!-- 2&#45;&gt;8 -->\n<g id=\"edge24\" class=\"edge\">\n<title>2&#45;&gt;8</title>\n<path fill=\"none\" stroke=\"#000000\" d=\"M1668.6543,-1379.931C1814.3269,-1329.3685 2086.7492,-1234.8116 2237.764,-1182.3948\"/>\n<polygon fill=\"#000000\" stroke=\"#000000\" points=\"2239.2335,-1185.5897 2247.5329,-1179.0041 2236.9381,-1178.9767 2239.2335,-1185.5897\"/>\n</g>\n<!-- 9 -->\n<g id=\"node17\" class=\"node\">\n<title>9</title>\n<path fill=\"#eda775\" stroke=\"#000000\" d=\"M1450,-95.5C1450,-95.5 1305,-95.5 1305,-95.5 1299,-95.5 1293,-89.5 1293,-83.5 1293,-83.5 1293,-54.5 1293,-54.5 1293,-48.5 1299,-42.5 1305,-42.5 1305,-42.5 1450,-42.5 1450,-42.5 1456,-42.5 1462,-48.5 1462,-54.5 1462,-54.5 1462,-83.5 1462,-83.5 1462,-89.5 1456,-95.5 1450,-95.5\"/>\n<text text-anchor=\"start\" x=\"1301\" y=\"-80.3\" font-family=\"Helvetica,sans-Serif\" font-size=\"14.00\" fill=\"#000000\">squared_error = 192.67</text>\n<text text-anchor=\"start\" x=\"1333.5\" y=\"-65.3\" font-family=\"Helvetica,sans-Serif\" font-size=\"14.00\" fill=\"#000000\">samples = 57</text>\n<text text-anchor=\"start\" x=\"1333.5\" y=\"-50.3\" font-family=\"Helvetica,sans-Serif\" font-size=\"14.00\" fill=\"#000000\">value = 11.44</text>\n</g>\n<!-- 7&#45;&gt;9 -->\n<g id=\"edge16\" class=\"edge\">\n<title>7&#45;&gt;9</title>\n<path fill=\"none\" stroke=\"#000000\" d=\"M1563.0842,-1110.829C1548.9394,-1045.6523 1519.5,-910 1519.5,-910 1519.5,-910 1410.9409,-267.055 1383.6616,-105.4923\"/>\n<polygon fill=\"#000000\" stroke=\"#000000\" points=\"1387.1004,-104.8362 1381.9843,-95.5585 1380.1981,-106.0016 1387.1004,-104.8362\"/>\n</g>\n<!-- 10 -->\n<g id=\"node18\" class=\"node\">\n<title>10</title>\n<path fill=\"#f4c8a8\" stroke=\"#000000\" d=\"M2008,-910C2008,-910 1541,-910 1541,-910 1535,-910 1529,-904 1529,-898 1529,-898 1529,-854 1529,-854 1529,-848 1535,-842 1541,-842 1541,-842 2008,-842 2008,-842 2014,-842 2020,-848 2020,-854 2020,-854 2020,-898 2020,-898 2020,-904 2014,-910 2008,-910\"/>\n<text text-anchor=\"start\" x=\"1537\" y=\"-894.8\" font-family=\"Helvetica,sans-Serif\" font-size=\"14.00\" fill=\"#000000\">lastReportedPosition.milepostLocation.milepost.milepostNumber ≤ 756.38</text>\n<text text-anchor=\"start\" x=\"1698\" y=\"-879.8\" font-family=\"Helvetica,sans-Serif\" font-size=\"14.00\" fill=\"#000000\">squared_error = 162.56</text>\n<text text-anchor=\"start\" x=\"1722.5\" y=\"-864.8\" font-family=\"Helvetica,sans-Serif\" font-size=\"14.00\" fill=\"#000000\">samples = 1058</text>\n<text text-anchor=\"start\" x=\"1736.5\" y=\"-849.8\" font-family=\"Helvetica,sans-Serif\" font-size=\"14.00\" fill=\"#000000\">value = &#45;3.3</text>\n</g>\n<!-- 7&#45;&gt;10 -->\n<g id=\"edge17\" class=\"edge\">\n<title>7&#45;&gt;10</title>\n<path fill=\"none\" stroke=\"#000000\" d=\"M1596.3367,-1110.931C1633.4826,-1061.9494 1701.9385,-971.6816 1742.3207,-918.4325\"/>\n<polygon fill=\"#000000\" stroke=\"#000000\" points=\"1745.2978,-920.299 1748.5516,-910.2162 1739.7203,-916.0692 1745.2978,-920.299\"/>\n</g>\n<!-- 17 -->\n<g id=\"node19\" class=\"node\">\n<title>17</title>\n<path fill=\"#f3c7a7\" stroke=\"#000000\" d=\"M2008,-641C2008,-641 1541,-641 1541,-641 1535,-641 1529,-635 1529,-629 1529,-629 1529,-585 1529,-585 1529,-579 1535,-573 1541,-573 1541,-573 2008,-573 2008,-573 2014,-573 2020,-579 2020,-585 2020,-585 2020,-629 2020,-629 2020,-635 2014,-641 2008,-641\"/>\n<text text-anchor=\"start\" x=\"1537\" y=\"-625.8\" font-family=\"Helvetica,sans-Serif\" font-size=\"14.00\" fill=\"#000000\">lastReportedPosition.milepostLocation.milepost.milepostNumber ≤ 264.28</text>\n<text text-anchor=\"start\" x=\"1698\" y=\"-610.8\" font-family=\"Helvetica,sans-Serif\" font-size=\"14.00\" fill=\"#000000\">squared_error = 157.25</text>\n<text text-anchor=\"start\" x=\"1722.5\" y=\"-595.8\" font-family=\"Helvetica,sans-Serif\" font-size=\"14.00\" fill=\"#000000\">samples = 1047</text>\n<text text-anchor=\"start\" x=\"1732\" y=\"-580.8\" font-family=\"Helvetica,sans-Serif\" font-size=\"14.00\" fill=\"#000000\">value = &#45;3.06</text>\n</g>\n<!-- 10&#45;&gt;17 -->\n<g id=\"edge18\" class=\"edge\">\n<title>10&#45;&gt;17</title>\n<path fill=\"none\" stroke=\"#000000\" d=\"M1774.5,-841.931C1774.5,-793.5541 1774.5,-704.9042 1774.5,-651.4215\"/>\n<polygon fill=\"#000000\" stroke=\"#000000\" points=\"1778.0001,-651.2162 1774.5,-641.2162 1771.0001,-651.2163 1778.0001,-651.2162\"/>\n</g>\n<!-- 18 -->\n<g id=\"node24\" class=\"node\">\n<title>18</title>\n<path fill=\"#fef9f6\" stroke=\"#000000\" d=\"M2198,-95.5C2198,-95.5 2053,-95.5 2053,-95.5 2047,-95.5 2041,-89.5 2041,-83.5 2041,-83.5 2041,-54.5 2041,-54.5 2041,-48.5 2047,-42.5 2053,-42.5 2053,-42.5 2198,-42.5 2198,-42.5 2204,-42.5 2210,-48.5 2210,-54.5 2210,-54.5 2210,-83.5 2210,-83.5 2210,-89.5 2204,-95.5 2198,-95.5\"/>\n<text text-anchor=\"start\" x=\"2049\" y=\"-80.3\" font-family=\"Helvetica,sans-Serif\" font-size=\"14.00\" fill=\"#000000\">squared_error = 159.83</text>\n<text text-anchor=\"start\" x=\"2081.5\" y=\"-65.3\" font-family=\"Helvetica,sans-Serif\" font-size=\"14.00\" fill=\"#000000\">samples = 11</text>\n<text text-anchor=\"start\" x=\"2079\" y=\"-50.3\" font-family=\"Helvetica,sans-Serif\" font-size=\"14.00\" fill=\"#000000\">value = &#45;25.73</text>\n</g>\n<!-- 10&#45;&gt;18 -->\n<g id=\"edge23\" class=\"edge\">\n<title>10&#45;&gt;18</title>\n<path fill=\"none\" stroke=\"#000000\" d=\"M1811.4338,-841.829C1881.8801,-776.6523 2028.5,-641 2028.5,-641 2028.5,-641 2092.5,-372 2092.5,-372 2092.5,-372 2112.6938,-186.5846 2121.4877,-105.8402\"/>\n<polygon fill=\"#000000\" stroke=\"#000000\" points=\"2124.997,-105.9439 2122.6004,-95.6237 2118.0382,-105.1859 2124.997,-105.9439\"/>\n</g>\n<!-- 21 -->\n<g id=\"node20\" class=\"node\">\n<title>21</title>\n<path fill=\"#f4ccaf\" stroke=\"#000000\" d=\"M1637,-95.5C1637,-95.5 1492,-95.5 1492,-95.5 1486,-95.5 1480,-89.5 1480,-83.5 1480,-83.5 1480,-54.5 1480,-54.5 1480,-48.5 1486,-42.5 1492,-42.5 1492,-42.5 1637,-42.5 1637,-42.5 1643,-42.5 1649,-48.5 1649,-54.5 1649,-54.5 1649,-83.5 1649,-83.5 1649,-89.5 1643,-95.5 1637,-95.5\"/>\n<text text-anchor=\"start\" x=\"1488\" y=\"-80.3\" font-family=\"Helvetica,sans-Serif\" font-size=\"14.00\" fill=\"#000000\">squared_error = 187.05</text>\n<text text-anchor=\"start\" x=\"1516.5\" y=\"-65.3\" font-family=\"Helvetica,sans-Serif\" font-size=\"14.00\" fill=\"#000000\">samples = 483</text>\n<text text-anchor=\"start\" x=\"1522\" y=\"-50.3\" font-family=\"Helvetica,sans-Serif\" font-size=\"14.00\" fill=\"#000000\">value = &#45;5.24</text>\n</g>\n<!-- 17&#45;&gt;21 -->\n<g id=\"edge19\" class=\"edge\">\n<title>17&#45;&gt;21</title>\n<path fill=\"none\" stroke=\"#000000\" d=\"M1746.727,-572.829C1693.7536,-507.6523 1583.5,-372 1583.5,-372 1583.5,-372 1571.8733,-186.5846 1566.8101,-105.8402\"/>\n<polygon fill=\"#000000\" stroke=\"#000000\" points=\"1570.2885,-105.385 1566.1695,-95.6237 1563.3023,-105.8231 1570.2885,-105.385\"/>\n</g>\n<!-- 22 -->\n<g id=\"node21\" class=\"node\">\n<title>22</title>\n<path fill=\"#f3c3a1\" stroke=\"#000000\" d=\"M2072,-372C2072,-372 1605,-372 1605,-372 1599,-372 1593,-366 1593,-360 1593,-360 1593,-316 1593,-316 1593,-310 1599,-304 1605,-304 1605,-304 2072,-304 2072,-304 2078,-304 2084,-310 2084,-316 2084,-316 2084,-360 2084,-360 2084,-366 2078,-372 2072,-372\"/>\n<text text-anchor=\"start\" x=\"1601\" y=\"-356.8\" font-family=\"Helvetica,sans-Serif\" font-size=\"14.00\" fill=\"#000000\">lastReportedPosition.milepostLocation.milepost.milepostNumber ≤ 268.78</text>\n<text text-anchor=\"start\" x=\"1762\" y=\"-341.8\" font-family=\"Helvetica,sans-Serif\" font-size=\"14.00\" fill=\"#000000\">squared_error = 124.22</text>\n<text text-anchor=\"start\" x=\"1790.5\" y=\"-326.8\" font-family=\"Helvetica,sans-Serif\" font-size=\"14.00\" fill=\"#000000\">samples = 564</text>\n<text text-anchor=\"start\" x=\"1800.5\" y=\"-311.8\" font-family=\"Helvetica,sans-Serif\" font-size=\"14.00\" fill=\"#000000\">value = &#45;1.2</text>\n</g>\n<!-- 17&#45;&gt;22 -->\n<g id=\"edge20\" class=\"edge\">\n<title>17&#45;&gt;22</title>\n<path fill=\"none\" stroke=\"#000000\" d=\"M1782.6056,-572.931C1794.1394,-524.4533 1815.2947,-435.5346 1828.0107,-382.0877\"/>\n<polygon fill=\"#000000\" stroke=\"#000000\" points=\"1831.4496,-382.7548 1830.3593,-372.2162 1824.6397,-381.1345 1831.4496,-382.7548\"/>\n</g>\n<!-- 23 -->\n<g id=\"node22\" class=\"node\">\n<title>23</title>\n<path fill=\"#eead7f\" stroke=\"#000000\" d=\"M1824,-95.5C1824,-95.5 1679,-95.5 1679,-95.5 1673,-95.5 1667,-89.5 1667,-83.5 1667,-83.5 1667,-54.5 1667,-54.5 1667,-48.5 1673,-42.5 1679,-42.5 1679,-42.5 1824,-42.5 1824,-42.5 1830,-42.5 1836,-48.5 1836,-54.5 1836,-54.5 1836,-83.5 1836,-83.5 1836,-89.5 1830,-95.5 1824,-95.5\"/>\n<text text-anchor=\"start\" x=\"1675\" y=\"-80.3\" font-family=\"Helvetica,sans-Serif\" font-size=\"14.00\" fill=\"#000000\">squared_error = 123.94</text>\n<text text-anchor=\"start\" x=\"1707.5\" y=\"-65.3\" font-family=\"Helvetica,sans-Serif\" font-size=\"14.00\" fill=\"#000000\">samples = 48</text>\n<text text-anchor=\"start\" x=\"1711.5\" y=\"-50.3\" font-family=\"Helvetica,sans-Serif\" font-size=\"14.00\" fill=\"#000000\">value = 8.62</text>\n</g>\n<!-- 22&#45;&gt;23 -->\n<g id=\"edge21\" class=\"edge\">\n<title>22&#45;&gt;23</title>\n<path fill=\"none\" stroke=\"#000000\" d=\"M1827.4814,-303.931C1811.0209,-253.0359 1780.1439,-157.5657 1763.2615,-105.3659\"/>\n<polygon fill=\"#000000\" stroke=\"#000000\" points=\"1766.4875,-103.9666 1760.08,-95.5289 1759.8272,-106.1208 1766.4875,-103.9666\"/>\n</g>\n<!-- 24 -->\n<g id=\"node23\" class=\"node\">\n<title>24</title>\n<path fill=\"#f3c5a4\" stroke=\"#000000\" d=\"M2011,-95.5C2011,-95.5 1866,-95.5 1866,-95.5 1860,-95.5 1854,-89.5 1854,-83.5 1854,-83.5 1854,-54.5 1854,-54.5 1854,-48.5 1860,-42.5 1866,-42.5 1866,-42.5 2011,-42.5 2011,-42.5 2017,-42.5 2023,-48.5 2023,-54.5 2023,-54.5 2023,-83.5 2023,-83.5 2023,-89.5 2017,-95.5 2011,-95.5\"/>\n<text text-anchor=\"start\" x=\"1862\" y=\"-80.3\" font-family=\"Helvetica,sans-Serif\" font-size=\"14.00\" fill=\"#000000\">squared_error = 114.42</text>\n<text text-anchor=\"start\" x=\"1890.5\" y=\"-65.3\" font-family=\"Helvetica,sans-Serif\" font-size=\"14.00\" fill=\"#000000\">samples = 516</text>\n<text text-anchor=\"start\" x=\"1896\" y=\"-50.3\" font-family=\"Helvetica,sans-Serif\" font-size=\"14.00\" fill=\"#000000\">value = &#45;2.12</text>\n</g>\n<!-- 22&#45;&gt;24 -->\n<g id=\"edge22\" class=\"edge\">\n<title>22&#45;&gt;24</title>\n<path fill=\"none\" stroke=\"#000000\" d=\"M1851.1651,-303.931C1870.1246,-252.9298 1905.7239,-157.1677 1925.1021,-105.0402\"/>\n<polygon fill=\"#000000\" stroke=\"#000000\" points=\"1928.434,-106.1218 1928.6379,-95.5289 1921.8727,-103.6826 1928.434,-106.1218\"/>\n</g>\n<!-- 15 -->\n<g id=\"node26\" class=\"node\">\n<title>15</title>\n<path fill=\"#f6d6be\" stroke=\"#000000\" d=\"M2483.5,-910C2483.5,-910 2207.5,-910 2207.5,-910 2201.5,-910 2195.5,-904 2195.5,-898 2195.5,-898 2195.5,-854 2195.5,-854 2195.5,-848 2201.5,-842 2207.5,-842 2207.5,-842 2483.5,-842 2483.5,-842 2489.5,-842 2495.5,-848 2495.5,-854 2495.5,-854 2495.5,-898 2495.5,-898 2495.5,-904 2489.5,-910 2483.5,-910\"/>\n<text text-anchor=\"start\" x=\"2203.5\" y=\"-894.8\" font-family=\"Helvetica,sans-Serif\" font-size=\"14.00\" fill=\"#000000\">aotuTrainData.totalCarWeight ≤ 49912500.0</text>\n<text text-anchor=\"start\" x=\"2269\" y=\"-879.8\" font-family=\"Helvetica,sans-Serif\" font-size=\"14.00\" fill=\"#000000\">squared_error = 199.01</text>\n<text text-anchor=\"start\" x=\"2297.5\" y=\"-864.8\" font-family=\"Helvetica,sans-Serif\" font-size=\"14.00\" fill=\"#000000\">samples = 421</text>\n<text text-anchor=\"start\" x=\"2303\" y=\"-849.8\" font-family=\"Helvetica,sans-Serif\" font-size=\"14.00\" fill=\"#000000\">value = &#45;9.62</text>\n</g>\n<!-- 8&#45;&gt;15 -->\n<g id=\"edge25\" class=\"edge\">\n<title>8&#45;&gt;15</title>\n<path fill=\"none\" stroke=\"#000000\" d=\"M2345.5,-1110.931C2345.5,-1062.5541 2345.5,-973.9042 2345.5,-920.4215\"/>\n<polygon fill=\"#000000\" stroke=\"#000000\" points=\"2349.0001,-920.2162 2345.5,-910.2162 2342.0001,-920.2163 2349.0001,-920.2162\"/>\n</g>\n<!-- 16 -->\n<g id=\"node29\" class=\"node\">\n<title>16</title>\n<path fill=\"#f4cbae\" stroke=\"#000000\" d=\"M2806,-910C2806,-910 2559,-910 2559,-910 2553,-910 2547,-904 2547,-898 2547,-898 2547,-854 2547,-854 2547,-848 2553,-842 2559,-842 2559,-842 2806,-842 2806,-842 2812,-842 2818,-848 2818,-854 2818,-854 2818,-898 2818,-898 2818,-904 2812,-910 2806,-910\"/>\n<text text-anchor=\"start\" x=\"2555\" y=\"-894.8\" font-family=\"Helvetica,sans-Serif\" font-size=\"14.00\" fill=\"#000000\">lastReportedPosition.speedMPH ≤ 68.5</text>\n<text text-anchor=\"start\" x=\"2606\" y=\"-879.8\" font-family=\"Helvetica,sans-Serif\" font-size=\"14.00\" fill=\"#000000\">squared_error = 138.37</text>\n<text text-anchor=\"start\" x=\"2634.5\" y=\"-864.8\" font-family=\"Helvetica,sans-Serif\" font-size=\"14.00\" fill=\"#000000\">samples = 717</text>\n<text text-anchor=\"start\" x=\"2644.5\" y=\"-849.8\" font-family=\"Helvetica,sans-Serif\" font-size=\"14.00\" fill=\"#000000\">value = &#45;4.9</text>\n</g>\n<!-- 8&#45;&gt;16 -->\n<g id=\"edge28\" class=\"edge\">\n<title>8&#45;&gt;16</title>\n<path fill=\"none\" stroke=\"#000000\" d=\"M2388.1813,-1110.931C2450.3875,-1061.2768 2565.7469,-969.1946 2632.0628,-916.26\"/>\n<polygon fill=\"#000000\" stroke=\"#000000\" points=\"2634.2681,-918.978 2639.9001,-910.0041 2629.9012,-913.5071 2634.2681,-918.978\"/>\n</g>\n<!-- 19 -->\n<g id=\"node27\" class=\"node\">\n<title>19</title>\n<path fill=\"#fdf4ee\" stroke=\"#000000\" d=\"M2385,-95.5C2385,-95.5 2240,-95.5 2240,-95.5 2234,-95.5 2228,-89.5 2228,-83.5 2228,-83.5 2228,-54.5 2228,-54.5 2228,-48.5 2234,-42.5 2240,-42.5 2240,-42.5 2385,-42.5 2385,-42.5 2391,-42.5 2397,-48.5 2397,-54.5 2397,-54.5 2397,-83.5 2397,-83.5 2397,-89.5 2391,-95.5 2385,-95.5\"/>\n<text text-anchor=\"start\" x=\"2236\" y=\"-80.3\" font-family=\"Helvetica,sans-Serif\" font-size=\"14.00\" fill=\"#000000\">squared_error = 388.99</text>\n<text text-anchor=\"start\" x=\"2268.5\" y=\"-65.3\" font-family=\"Helvetica,sans-Serif\" font-size=\"14.00\" fill=\"#000000\">samples = 24</text>\n<text text-anchor=\"start\" x=\"2266\" y=\"-50.3\" font-family=\"Helvetica,sans-Serif\" font-size=\"14.00\" fill=\"#000000\">value = &#45;23.58</text>\n</g>\n<!-- 15&#45;&gt;19 -->\n<g id=\"edge26\" class=\"edge\">\n<title>15&#45;&gt;19</title>\n<path fill=\"none\" stroke=\"#000000\" d=\"M2344.1031,-841.8397C2338.7461,-710.8371 2319.5387,-241.1271 2314.003,-105.7546\"/>\n<polygon fill=\"#000000\" stroke=\"#000000\" points=\"2317.4896,-105.3541 2313.5839,-95.5054 2310.4955,-105.6401 2317.4896,-105.3541\"/>\n</g>\n<!-- 20 -->\n<g id=\"node28\" class=\"node\">\n<title>20</title>\n<path fill=\"#f6d4bb\" stroke=\"#000000\" d=\"M2572,-95.5C2572,-95.5 2427,-95.5 2427,-95.5 2421,-95.5 2415,-89.5 2415,-83.5 2415,-83.5 2415,-54.5 2415,-54.5 2415,-48.5 2421,-42.5 2427,-42.5 2427,-42.5 2572,-42.5 2572,-42.5 2578,-42.5 2584,-48.5 2584,-54.5 2584,-54.5 2584,-83.5 2584,-83.5 2584,-89.5 2578,-95.5 2572,-95.5\"/>\n<text text-anchor=\"start\" x=\"2423\" y=\"-80.3\" font-family=\"Helvetica,sans-Serif\" font-size=\"14.00\" fill=\"#000000\">squared_error = 175.03</text>\n<text text-anchor=\"start\" x=\"2451.5\" y=\"-65.3\" font-family=\"Helvetica,sans-Serif\" font-size=\"14.00\" fill=\"#000000\">samples = 397</text>\n<text text-anchor=\"start\" x=\"2457\" y=\"-50.3\" font-family=\"Helvetica,sans-Serif\" font-size=\"14.00\" fill=\"#000000\">value = &#45;8.78</text>\n</g>\n<!-- 15&#45;&gt;20 -->\n<g id=\"edge27\" class=\"edge\">\n<title>15&#45;&gt;20</title>\n<path fill=\"none\" stroke=\"#000000\" d=\"M2352.0188,-841.8397C2377.0432,-710.7057 2466.8328,-240.1845 2492.5636,-105.3483\"/>\n<polygon fill=\"#000000\" stroke=\"#000000\" points=\"2496.0054,-105.9843 2494.442,-95.5054 2489.1294,-104.6721 2496.0054,-105.9843\"/>\n</g>\n<!-- 29 -->\n<g id=\"node30\" class=\"node\">\n<title>29</title>\n<path fill=\"#f4cbad\" stroke=\"#000000\" d=\"M2751,-95.5C2751,-95.5 2614,-95.5 2614,-95.5 2608,-95.5 2602,-89.5 2602,-83.5 2602,-83.5 2602,-54.5 2602,-54.5 2602,-48.5 2608,-42.5 2614,-42.5 2614,-42.5 2751,-42.5 2751,-42.5 2757,-42.5 2763,-48.5 2763,-54.5 2763,-54.5 2763,-83.5 2763,-83.5 2763,-89.5 2757,-95.5 2751,-95.5\"/>\n<text text-anchor=\"start\" x=\"2610\" y=\"-80.3\" font-family=\"Helvetica,sans-Serif\" font-size=\"14.00\" fill=\"#000000\">squared_error = 130.9</text>\n<text text-anchor=\"start\" x=\"2634.5\" y=\"-65.3\" font-family=\"Helvetica,sans-Serif\" font-size=\"14.00\" fill=\"#000000\">samples = 710</text>\n<text text-anchor=\"start\" x=\"2640\" y=\"-50.3\" font-family=\"Helvetica,sans-Serif\" font-size=\"14.00\" fill=\"#000000\">value = &#45;4.67</text>\n</g>\n<!-- 16&#45;&gt;29 -->\n<g id=\"edge29\" class=\"edge\">\n<title>16&#45;&gt;29</title>\n<path fill=\"none\" stroke=\"#000000\" d=\"M2682.5,-841.8397C2682.5,-710.8371 2682.5,-241.1271 2682.5,-105.7546\"/>\n<polygon fill=\"#000000\" stroke=\"#000000\" points=\"2686.0001,-105.5054 2682.5,-95.5054 2679.0001,-105.5055 2686.0001,-105.5054\"/>\n</g>\n<!-- 30 -->\n<g id=\"node31\" class=\"node\">\n<title>30</title>\n<path fill=\"#ffffff\" stroke=\"#000000\" d=\"M2938,-95.5C2938,-95.5 2793,-95.5 2793,-95.5 2787,-95.5 2781,-89.5 2781,-83.5 2781,-83.5 2781,-54.5 2781,-54.5 2781,-48.5 2787,-42.5 2793,-42.5 2793,-42.5 2938,-42.5 2938,-42.5 2944,-42.5 2950,-48.5 2950,-54.5 2950,-54.5 2950,-83.5 2950,-83.5 2950,-89.5 2944,-95.5 2938,-95.5\"/>\n<text text-anchor=\"start\" x=\"2789\" y=\"-80.3\" font-family=\"Helvetica,sans-Serif\" font-size=\"14.00\" fill=\"#000000\">squared_error = 336.24</text>\n<text text-anchor=\"start\" x=\"2826\" y=\"-65.3\" font-family=\"Helvetica,sans-Serif\" font-size=\"14.00\" fill=\"#000000\">samples = 7</text>\n<text text-anchor=\"start\" x=\"2819\" y=\"-50.3\" font-family=\"Helvetica,sans-Serif\" font-size=\"14.00\" fill=\"#000000\">value = &#45;28.43</text>\n</g>\n<!-- 16&#45;&gt;30 -->\n<g id=\"edge30\" class=\"edge\">\n<title>16&#45;&gt;30</title>\n<path fill=\"none\" stroke=\"#000000\" d=\"M2690.2464,-841.8397C2719.9831,-710.7057 2826.6812,-240.1845 2857.2574,-105.3483\"/>\n<polygon fill=\"#000000\" stroke=\"#000000\" points=\"2860.6912,-106.0319 2859.4895,-95.5054 2853.8645,-104.4838 2860.6912,-106.0319\"/>\n</g>\n</g>\n</svg>\n"
          },
          "metadata": {},
          "execution_count": 54
        }
      ]
    },
    {
      "cell_type": "code",
      "source": [
        "m = DecisionTreeRegressor(min_samples_leaf=9)\n",
        "m.fit(xs, y);"
      ],
      "metadata": {
        "id": "_wto32TJkud4"
      },
      "execution_count": 108,
      "outputs": []
    },
    {
      "cell_type": "code",
      "source": [
        "def r_mse(pred,y): return round(math.sqrt(((pred-y)**2).mean()), 6)\n",
        "def m_rmse(m, xs, y): return r_mse(m.predict(xs), y)"
      ],
      "metadata": {
        "id": "D53phc2JE5RC"
      },
      "execution_count": 109,
      "outputs": []
    },
    {
      "cell_type": "markdown",
      "source": [
        "How well we fit the traing model:"
      ],
      "metadata": {
        "id": "mdZvu4cJuS9j"
      }
    },
    {
      "cell_type": "code",
      "source": [
        "m_rmse(m, xs, y)"
      ],
      "metadata": {
        "id": "8CYcTQHLHT4m",
        "colab": {
          "base_uri": "https://localhost:8080/"
        },
        "outputId": "2e59c6af-4d1b-4c3b-fc2a-b63c4f5deb6f"
      },
      "execution_count": 110,
      "outputs": [
        {
          "output_type": "execute_result",
          "data": {
            "text/plain": [
              "9.916688"
            ]
          },
          "metadata": {},
          "execution_count": 110
        }
      ]
    },
    {
      "cell_type": "markdown",
      "source": [
        "How well we fit the Validation Model:"
      ],
      "metadata": {
        "id": "MU_z9z6huZs0"
      }
    },
    {
      "cell_type": "code",
      "source": [
        "m_rmse(m, valid_xs, valid_y)"
      ],
      "metadata": {
        "id": "_oElvFDHHZHm",
        "colab": {
          "base_uri": "https://localhost:8080/"
        },
        "outputId": "19a8e30e-8ab8-43a8-8de3-8c8dbf393f38"
      },
      "execution_count": 111,
      "outputs": [
        {
          "output_type": "execute_result",
          "data": {
            "text/plain": [
              "14.479835"
            ]
          },
          "metadata": {},
          "execution_count": 111
        }
      ]
    },
    {
      "cell_type": "code",
      "source": [
        "def rf_feat_importance(m, df):\n",
        "    return pd.DataFrame({'cols':df.columns, 'imp':m.feature_importances_}\n",
        "                       ).sort_values('imp', ascending=False)"
      ],
      "metadata": {
        "id": "oCKCSQSlab4o"
      },
      "execution_count": 59,
      "outputs": []
    },
    {
      "cell_type": "code",
      "source": [
        "fi = rf_feat_importance(m, xs)\n",
        "fi[:10]"
      ],
      "metadata": {
        "id": "jxENiQDXlYKl",
        "colab": {
          "base_uri": "https://localhost:8080/",
          "height": 363
        },
        "outputId": "23c3e0b2-1d66-4a5f-cc10-e0f827fa3cd6"
      },
      "execution_count": 60,
      "outputs": [
        {
          "output_type": "execute_result",
          "data": {
            "text/plain": [
              "                                                             cols       imp\n",
              "22                                  lastReportedPosition.speedMPH  0.349394\n",
              "23  lastReportedPosition.milepostLocation.milepost.milepostNumber  0.208267\n",
              "38                                                       milepost  0.074652\n",
              "45                       lastReportedPosition.positionTimeElapsed  0.045929\n",
              "3                                             trainId.trainSymbol  0.035119\n",
              "34                                                 loadedCarCount  0.034624\n",
              "24                                   aotuTrainData.totalCarWeight  0.034344\n",
              "7                                      aotuTrainData.priorityCode  0.024619\n",
              "26                            aotuTrainData.totalLocomotiveWeight  0.024447\n",
              "25                                   aotuTrainData.totalCarLength  0.024390"
            ],
            "text/html": [
              "\n",
              "  <div id=\"df-5540eb3a-4a76-4652-bab6-dd27c096f2af\">\n",
              "    <div class=\"colab-df-container\">\n",
              "      <div>\n",
              "<style scoped>\n",
              "    .dataframe tbody tr th:only-of-type {\n",
              "        vertical-align: middle;\n",
              "    }\n",
              "\n",
              "    .dataframe tbody tr th {\n",
              "        vertical-align: top;\n",
              "    }\n",
              "\n",
              "    .dataframe thead th {\n",
              "        text-align: right;\n",
              "    }\n",
              "</style>\n",
              "<table border=\"1\" class=\"dataframe\">\n",
              "  <thead>\n",
              "    <tr style=\"text-align: right;\">\n",
              "      <th></th>\n",
              "      <th>cols</th>\n",
              "      <th>imp</th>\n",
              "    </tr>\n",
              "  </thead>\n",
              "  <tbody>\n",
              "    <tr>\n",
              "      <th>22</th>\n",
              "      <td>lastReportedPosition.speedMPH</td>\n",
              "      <td>0.349394</td>\n",
              "    </tr>\n",
              "    <tr>\n",
              "      <th>23</th>\n",
              "      <td>lastReportedPosition.milepostLocation.milepost.milepostNumber</td>\n",
              "      <td>0.208267</td>\n",
              "    </tr>\n",
              "    <tr>\n",
              "      <th>38</th>\n",
              "      <td>milepost</td>\n",
              "      <td>0.074652</td>\n",
              "    </tr>\n",
              "    <tr>\n",
              "      <th>45</th>\n",
              "      <td>lastReportedPosition.positionTimeElapsed</td>\n",
              "      <td>0.045929</td>\n",
              "    </tr>\n",
              "    <tr>\n",
              "      <th>3</th>\n",
              "      <td>trainId.trainSymbol</td>\n",
              "      <td>0.035119</td>\n",
              "    </tr>\n",
              "    <tr>\n",
              "      <th>34</th>\n",
              "      <td>loadedCarCount</td>\n",
              "      <td>0.034624</td>\n",
              "    </tr>\n",
              "    <tr>\n",
              "      <th>24</th>\n",
              "      <td>aotuTrainData.totalCarWeight</td>\n",
              "      <td>0.034344</td>\n",
              "    </tr>\n",
              "    <tr>\n",
              "      <th>7</th>\n",
              "      <td>aotuTrainData.priorityCode</td>\n",
              "      <td>0.024619</td>\n",
              "    </tr>\n",
              "    <tr>\n",
              "      <th>26</th>\n",
              "      <td>aotuTrainData.totalLocomotiveWeight</td>\n",
              "      <td>0.024447</td>\n",
              "    </tr>\n",
              "    <tr>\n",
              "      <th>25</th>\n",
              "      <td>aotuTrainData.totalCarLength</td>\n",
              "      <td>0.024390</td>\n",
              "    </tr>\n",
              "  </tbody>\n",
              "</table>\n",
              "</div>\n",
              "      <button class=\"colab-df-convert\" onclick=\"convertToInteractive('df-5540eb3a-4a76-4652-bab6-dd27c096f2af')\"\n",
              "              title=\"Convert this dataframe to an interactive table.\"\n",
              "              style=\"display:none;\">\n",
              "        \n",
              "  <svg xmlns=\"http://www.w3.org/2000/svg\" height=\"24px\"viewBox=\"0 0 24 24\"\n",
              "       width=\"24px\">\n",
              "    <path d=\"M0 0h24v24H0V0z\" fill=\"none\"/>\n",
              "    <path d=\"M18.56 5.44l.94 2.06.94-2.06 2.06-.94-2.06-.94-.94-2.06-.94 2.06-2.06.94zm-11 1L8.5 8.5l.94-2.06 2.06-.94-2.06-.94L8.5 2.5l-.94 2.06-2.06.94zm10 10l.94 2.06.94-2.06 2.06-.94-2.06-.94-.94-2.06-.94 2.06-2.06.94z\"/><path d=\"M17.41 7.96l-1.37-1.37c-.4-.4-.92-.59-1.43-.59-.52 0-1.04.2-1.43.59L10.3 9.45l-7.72 7.72c-.78.78-.78 2.05 0 2.83L4 21.41c.39.39.9.59 1.41.59.51 0 1.02-.2 1.41-.59l7.78-7.78 2.81-2.81c.8-.78.8-2.07 0-2.86zM5.41 20L4 18.59l7.72-7.72 1.47 1.35L5.41 20z\"/>\n",
              "  </svg>\n",
              "      </button>\n",
              "      \n",
              "  <style>\n",
              "    .colab-df-container {\n",
              "      display:flex;\n",
              "      flex-wrap:wrap;\n",
              "      gap: 12px;\n",
              "    }\n",
              "\n",
              "    .colab-df-convert {\n",
              "      background-color: #E8F0FE;\n",
              "      border: none;\n",
              "      border-radius: 50%;\n",
              "      cursor: pointer;\n",
              "      display: none;\n",
              "      fill: #1967D2;\n",
              "      height: 32px;\n",
              "      padding: 0 0 0 0;\n",
              "      width: 32px;\n",
              "    }\n",
              "\n",
              "    .colab-df-convert:hover {\n",
              "      background-color: #E2EBFA;\n",
              "      box-shadow: 0px 1px 2px rgba(60, 64, 67, 0.3), 0px 1px 3px 1px rgba(60, 64, 67, 0.15);\n",
              "      fill: #174EA6;\n",
              "    }\n",
              "\n",
              "    [theme=dark] .colab-df-convert {\n",
              "      background-color: #3B4455;\n",
              "      fill: #D2E3FC;\n",
              "    }\n",
              "\n",
              "    [theme=dark] .colab-df-convert:hover {\n",
              "      background-color: #434B5C;\n",
              "      box-shadow: 0px 1px 3px 1px rgba(0, 0, 0, 0.15);\n",
              "      filter: drop-shadow(0px 1px 2px rgba(0, 0, 0, 0.3));\n",
              "      fill: #FFFFFF;\n",
              "    }\n",
              "  </style>\n",
              "\n",
              "      <script>\n",
              "        const buttonEl =\n",
              "          document.querySelector('#df-5540eb3a-4a76-4652-bab6-dd27c096f2af button.colab-df-convert');\n",
              "        buttonEl.style.display =\n",
              "          google.colab.kernel.accessAllowed ? 'block' : 'none';\n",
              "\n",
              "        async function convertToInteractive(key) {\n",
              "          const element = document.querySelector('#df-5540eb3a-4a76-4652-bab6-dd27c096f2af');\n",
              "          const dataTable =\n",
              "            await google.colab.kernel.invokeFunction('convertToInteractive',\n",
              "                                                     [key], {});\n",
              "          if (!dataTable) return;\n",
              "\n",
              "          const docLinkHtml = 'Like what you see? Visit the ' +\n",
              "            '<a target=\"_blank\" href=https://colab.research.google.com/notebooks/data_table.ipynb>data table notebook</a>'\n",
              "            + ' to learn more about interactive tables.';\n",
              "          element.innerHTML = '';\n",
              "          dataTable['output_type'] = 'display_data';\n",
              "          await google.colab.output.renderOutput(dataTable, element);\n",
              "          const docLink = document.createElement('div');\n",
              "          docLink.innerHTML = docLinkHtml;\n",
              "          element.appendChild(docLink);\n",
              "        }\n",
              "      </script>\n",
              "    </div>\n",
              "  </div>\n",
              "  "
            ]
          },
          "metadata": {},
          "execution_count": 60
        }
      ]
    },
    {
      "cell_type": "markdown",
      "source": [
        "Our first result! It appears the previous speed is so heavily influencing the next speed, it swamps everything else."
      ],
      "metadata": {
        "id": "GAU4iShuUTlj"
      }
    },
    {
      "cell_type": "code",
      "source": [
        "ax = xs['lastReportedPosition.speedMPH'].hist(bins=60)\n"
      ],
      "metadata": {
        "id": "W_xHGvS4mTAv",
        "colab": {
          "base_uri": "https://localhost:8080/",
          "height": 271
        },
        "outputId": "0784c923-f3dc-43b0-fa7d-36f08a4df2bc"
      },
      "execution_count": 61,
      "outputs": [
        {
          "output_type": "display_data",
          "data": {
            "text/plain": [
              "<Figure size 432x288 with 1 Axes>"
            ],
            "image/png": "[encoded data removed]"
          },
          "metadata": {
            "needs_background": "light"
          }
        }
      ]
    },
    {
      "cell_type": "code",
      "source": [
        "from sklearn.inspection import plot_partial_dependence\n",
        "\n",
        "fig,ax = plt.subplots(figsize=(12, 4))\n",
        "plot_partial_dependence(m, xs, ['lastReportedPosition.speedMPH'],\n",
        "                        grid_resolution=20, ax=ax);"
      ],
      "metadata": {
        "id": "dVfYTqKvniXo",
        "colab": {
          "base_uri": "https://localhost:8080/",
          "height": 340
        },
        "outputId": "60f6c369-03db-4e7c-e6e6-fb27fa6ccc74"
      },
      "execution_count": 62,
      "outputs": [
        {
          "output_type": "stream",
          "name": "stderr",
          "text": [
            "/usr/local/lib/python3.7/dist-packages/sklearn/utils/deprecation.py:87: FutureWarning: Function plot_partial_dependence is deprecated; Function `plot_partial_dependence` is deprecated in 1.0 and will be removed in 1.2. Use PartialDependenceDisplay.from_estimator instead\n",
            "  warnings.warn(msg, category=FutureWarning)\n"
          ]
        },
        {
          "output_type": "display_data",
          "data": {
            "text/plain": [
              "<Figure size 864x288 with 2 Axes>"
            ],
            "image/png": "[encoded data removed]"
          },
          "metadata": {
            "needs_background": "light"
          }
        }
      ]
    },
    {
      "cell_type": "markdown",
      "source": [
        "This is sort of a dur moment, saying \"Speeds don't change a lot one milepost to the next\".  "
      ],
      "metadata": {
        "id": "CmpVELOUoF-l"
      }
    },
    {
      "cell_type": "markdown",
      "source": [
        "#Random Forest"
      ],
      "metadata": {
        "id": "-iGNWlJDmQrV"
      }
    },
    {
      "cell_type": "code",
      "source": [
        "def randomForest(xs, y, n_estimators=50, max_samples=2500,\n",
        "       max_features=0.5, min_samples_leaf=5, **kwargs):\n",
        "    return RandomForestRegressor(n_jobs=-1, n_estimators=n_estimators,\n",
        "        max_samples=max_samples, max_features=max_features,\n",
        "        min_samples_leaf=min_samples_leaf, oob_score=True).fit(xs, y)"
      ],
      "metadata": {
        "id": "FllkOgNkUTGW"
      },
      "execution_count": 63,
      "outputs": []
    },
    {
      "cell_type": "code",
      "source": [
        "m = randomForest(xs, y);"
      ],
      "metadata": {
        "id": "OqX5AcTWVRXE"
      },
      "execution_count": 64,
      "outputs": []
    },
    {
      "cell_type": "code",
      "source": [
        "m_rmse(m, xs, y), m_rmse(m, valid_xs, valid_y)"
      ],
      "metadata": {
        "id": "33ncywqjVcwn",
        "colab": {
          "base_uri": "https://localhost:8080/"
        },
        "outputId": "43ab83b3-b09d-4c02-ccf7-ae3257a36b52"
      },
      "execution_count": 65,
      "outputs": [
        {
          "output_type": "execute_result",
          "data": {
            "text/plain": [
              "(10.141306, 12.216903)"
            ]
          },
          "metadata": {},
          "execution_count": 65
        }
      ]
    },
    {
      "cell_type": "code",
      "source": [
        "preds = np.stack([t.predict(valid_xs) for t in m.estimators_])"
      ],
      "metadata": {
        "id": "Dg6iyZCIW0Nt"
      },
      "execution_count": null,
      "outputs": []
    },
    {
      "cell_type": "code",
      "source": [
        "r_mse(preds.mean(0), valid_y)"
      ],
      "metadata": {
        "id": "5UldrkUhXFbi",
        "colab": {
          "base_uri": "https://localhost:8080/"
        },
        "outputId": "88a996d5-cf81-4422-c826-93d85b3f4c09"
      },
      "execution_count": 67,
      "outputs": [
        {
          "output_type": "execute_result",
          "data": {
            "text/plain": [
              "12.216903"
            ]
          },
          "metadata": {},
          "execution_count": 67
        }
      ]
    },
    {
      "cell_type": "code",
      "source": [
        "plt.plot([r_mse(preds[:i+1].mean(0), valid_y) for i in range(50)]);"
      ],
      "metadata": {
        "id": "eT0fXh6uXIp1",
        "colab": {
          "base_uri": "https://localhost:8080/",
          "height": 268
        },
        "outputId": "fb1760b1-5c74-4f72-ae13-608f9e02bf44"
      },
      "execution_count": 68,
      "outputs": [
        {
          "output_type": "display_data",
          "data": {
            "text/plain": [
              "<Figure size 432x288 with 1 Axes>"
            ],
            "image/png": "[encoded data removed]"
          },
          "metadata": {
            "needs_background": "light"
          }
        }
      ]
    },
    {
      "cell_type": "markdown",
      "source": [
        "### Out-of-Bag Error"
      ],
      "metadata": {
        "id": "GN-VS3_2YsOd"
      }
    },
    {
      "cell_type": "code",
      "source": [
        "r_mse(m.oob_prediction_, y)"
      ],
      "metadata": {
        "id": "tvwS19-6Yc20",
        "colab": {
          "base_uri": "https://localhost:8080/"
        },
        "outputId": "681689a4-2e7f-4c1e-cc51-f652828ee0ac"
      },
      "execution_count": 69,
      "outputs": [
        {
          "output_type": "execute_result",
          "data": {
            "text/plain": [
              "12.622079"
            ]
          },
          "metadata": {},
          "execution_count": 69
        }
      ]
    },
    {
      "cell_type": "code",
      "source": [
        ""
      ],
      "metadata": {
        "id": "URHsHfuMZDAS"
      },
      "execution_count": 69,
      "outputs": []
    },
    {
      "cell_type": "markdown",
      "source": [
        "- How confident are we in our predictions using a particular row of data?\n",
        "- For predicting with a particular row of data, what were the most important factors, and how did they influence that prediction?\n",
        "- Which columns are the strongest predictors, which can we ignore?\n",
        "- Which columns are effectively redundant with each other, for purposes of prediction?\n",
        "- How do predictions vary, as we vary these columns?\n"
      ],
      "metadata": {
        "id": "-jSxQWTZZDfx"
      }
    },
    {
      "cell_type": "code",
      "source": [
        "preds = np.stack([t.predict(valid_xs) for t in m.estimators_])"
      ],
      "metadata": {
        "id": "eS53q1RUZRva"
      },
      "execution_count": null,
      "outputs": []
    },
    {
      "cell_type": "code",
      "source": [
        "preds.shape"
      ],
      "metadata": {
        "id": "quArhZFkZtq_",
        "colab": {
          "base_uri": "https://localhost:8080/"
        },
        "outputId": "fa1387bc-0653-41b9-f926-c759e1c850ff"
      },
      "execution_count": 71,
      "outputs": [
        {
          "output_type": "execute_result",
          "data": {
            "text/plain": [
              "(50, 1731)"
            ]
          },
          "metadata": {},
          "execution_count": 71
        }
      ]
    },
    {
      "cell_type": "code",
      "source": [
        "preds_std = preds.std(0)"
      ],
      "metadata": {
        "id": "xZCBhV9MZxSH"
      },
      "execution_count": 72,
      "outputs": []
    },
    {
      "cell_type": "code",
      "source": [
        "preds_std[:5]"
      ],
      "metadata": {
        "id": "ZvKvldDdZ44S",
        "colab": {
          "base_uri": "https://localhost:8080/"
        },
        "outputId": "4356381a-e39d-4485-f6f0-98bc0650291b"
      },
      "execution_count": 73,
      "outputs": [
        {
          "output_type": "execute_result",
          "data": {
            "text/plain": [
              "array([7.63056244, 5.79974149, 7.62021732, 5.98363131, 5.85231   ])"
            ]
          },
          "metadata": {},
          "execution_count": 73
        }
      ]
    },
    {
      "cell_type": "code",
      "source": [
        "print(preds.mean(0)[:10])\n",
        "print(valid_y[:10])"
      ],
      "metadata": {
        "id": "ispifOrY-VK3",
        "colab": {
          "base_uri": "https://localhost:8080/"
        },
        "outputId": "050d239d-379f-4b59-847f-a06aed5a1976"
      },
      "execution_count": 74,
      "outputs": [
        {
          "output_type": "stream",
          "name": "stdout",
          "text": [
            "[-3.19182068  1.74522872 -1.4695994  -4.85562698  6.44798268  6.44798268  0.59922261  9.73379276 -4.41149778 -6.56648624]\n",
            "10     -9.0\n",
            "29      3.0\n",
            "31     -4.0\n",
            "55    -13.0\n",
            "56      0.0\n",
            "57      0.0\n",
            "98    -16.0\n",
            "99     42.0\n",
            "100    -7.0\n",
            "101     6.0\n",
            "Name: nextSpeed, dtype: float32\n"
          ]
        }
      ]
    },
    {
      "cell_type": "markdown",
      "source": [
        "# FEATURE Importance"
      ],
      "metadata": {
        "id": "tkENwKVIaPXc"
      }
    },
    {
      "cell_type": "code",
      "source": [
        "fi = rf_feat_importance(m, xs)\n",
        "fi[:20]"
      ],
      "metadata": {
        "id": "_xddcBHXaj9O",
        "colab": {
          "base_uri": "https://localhost:8080/",
          "height": 676
        },
        "outputId": "ad08620e-e26c-4062-9a04-afee0b9d86fc"
      },
      "execution_count": 75,
      "outputs": [
        {
          "output_type": "execute_result",
          "data": {
            "text/plain": [
              "                                                             cols       imp\n",
              "22                                  lastReportedPosition.speedMPH  0.267399\n",
              "23  lastReportedPosition.milepostLocation.milepost.milepostNumber  0.158254\n",
              "38                                                       milepost  0.092968\n",
              "45                       lastReportedPosition.positionTimeElapsed  0.049839\n",
              "3                                             trainId.trainSymbol  0.042456\n",
              "0                                             ptcLeadLocomotiveId  0.032648\n",
              "25                                   aotuTrainData.totalCarLength  0.030842\n",
              "37                                                trailingTonnage  0.029270\n",
              "36                                                    trainLength  0.028079\n",
              "24                                   aotuTrainData.totalCarWeight  0.027938\n",
              "12                                                         mpIncr  0.025067\n",
              "26                            aotuTrainData.totalLocomotiveWeight  0.023708\n",
              "34                                                 loadedCarCount  0.023436\n",
              "35                                                  emptyCarCount  0.022773\n",
              "27                            aotuTrainData.totalLocomotiveLength  0.022724\n",
              "29                              aotuTrainData.heavy143TonCarCount  0.015968\n",
              "4                                               trainId.trainDate  0.014994\n",
              "43                     lastReportedPosition.positionTimeDayofweek  0.011753\n",
              "14                                                  workLocations  0.010431\n",
              "6                 lastReportedPosition.milepostLocation.trackName  0.009947"
            ],
            "text/html": [
              "\n",
              "  <div id=\"df-7674d54e-00ff-4733-a5b7-ed0fa1518113\">\n",
              "    <div class=\"colab-df-container\">\n",
              "      <div>\n",
              "<style scoped>\n",
              "    .dataframe tbody tr th:only-of-type {\n",
              "        vertical-align: middle;\n",
              "    }\n",
              "\n",
              "    .dataframe tbody tr th {\n",
              "        vertical-align: top;\n",
              "    }\n",
              "\n",
              "    .dataframe thead th {\n",
              "        text-align: right;\n",
              "    }\n",
              "</style>\n",
              "<table border=\"1\" class=\"dataframe\">\n",
              "  <thead>\n",
              "    <tr style=\"text-align: right;\">\n",
              "      <th></th>\n",
              "      <th>cols</th>\n",
              "      <th>imp</th>\n",
              "    </tr>\n",
              "  </thead>\n",
              "  <tbody>\n",
              "    <tr>\n",
              "      <th>22</th>\n",
              "      <td>lastReportedPosition.speedMPH</td>\n",
              "      <td>0.267399</td>\n",
              "    </tr>\n",
              "    <tr>\n",
              "      <th>23</th>\n",
              "      <td>lastReportedPosition.milepostLocation.milepost.milepostNumber</td>\n",
              "      <td>0.158254</td>\n",
              "    </tr>\n",
              "    <tr>\n",
              "      <th>38</th>\n",
              "      <td>milepost</td>\n",
              "      <td>0.092968</td>\n",
              "    </tr>\n",
              "    <tr>\n",
              "      <th>45</th>\n",
              "      <td>lastReportedPosition.positionTimeElapsed</td>\n",
              "      <td>0.049839</td>\n",
              "    </tr>\n",
              "    <tr>\n",
              "      <th>3</th>\n",
              "      <td>trainId.trainSymbol</td>\n",
              "      <td>0.042456</td>\n",
              "    </tr>\n",
              "    <tr>\n",
              "      <th>0</th>\n",
              "      <td>ptcLeadLocomotiveId</td>\n",
              "      <td>0.032648</td>\n",
              "    </tr>\n",
              "    <tr>\n",
              "      <th>25</th>\n",
              "      <td>aotuTrainData.totalCarLength</td>\n",
              "      <td>0.030842</td>\n",
              "    </tr>\n",
              "    <tr>\n",
              "      <th>37</th>\n",
              "      <td>trailingTonnage</td>\n",
              "      <td>0.029270</td>\n",
              "    </tr>\n",
              "    <tr>\n",
              "      <th>36</th>\n",
              "      <td>trainLength</td>\n",
              "      <td>0.028079</td>\n",
              "    </tr>\n",
              "    <tr>\n",
              "      <th>24</th>\n",
              "      <td>aotuTrainData.totalCarWeight</td>\n",
              "      <td>0.027938</td>\n",
              "    </tr>\n",
              "    <tr>\n",
              "      <th>12</th>\n",
              "      <td>mpIncr</td>\n",
              "      <td>0.025067</td>\n",
              "    </tr>\n",
              "    <tr>\n",
              "      <th>26</th>\n",
              "      <td>aotuTrainData.totalLocomotiveWeight</td>\n",
              "      <td>0.023708</td>\n",
              "    </tr>\n",
              "    <tr>\n",
              "      <th>34</th>\n",
              "      <td>loadedCarCount</td>\n",
              "      <td>0.023436</td>\n",
              "    </tr>\n",
              "    <tr>\n",
              "      <th>35</th>\n",
              "      <td>emptyCarCount</td>\n",
              "      <td>0.022773</td>\n",
              "    </tr>\n",
              "    <tr>\n",
              "      <th>27</th>\n",
              "      <td>aotuTrainData.totalLocomotiveLength</td>\n",
              "      <td>0.022724</td>\n",
              "    </tr>\n",
              "    <tr>\n",
              "      <th>29</th>\n",
              "      <td>aotuTrainData.heavy143TonCarCount</td>\n",
              "      <td>0.015968</td>\n",
              "    </tr>\n",
              "    <tr>\n",
              "      <th>4</th>\n",
              "      <td>trainId.trainDate</td>\n",
              "      <td>0.014994</td>\n",
              "    </tr>\n",
              "    <tr>\n",
              "      <th>43</th>\n",
              "      <td>lastReportedPosition.positionTimeDayofweek</td>\n",
              "      <td>0.011753</td>\n",
              "    </tr>\n",
              "    <tr>\n",
              "      <th>14</th>\n",
              "      <td>workLocations</td>\n",
              "      <td>0.010431</td>\n",
              "    </tr>\n",
              "    <tr>\n",
              "      <th>6</th>\n",
              "      <td>lastReportedPosition.milepostLocation.trackName</td>\n",
              "      <td>0.009947</td>\n",
              "    </tr>\n",
              "  </tbody>\n",
              "</table>\n",
              "</div>\n",
              "      <button class=\"colab-df-convert\" onclick=\"convertToInteractive('df-7674d54e-00ff-4733-a5b7-ed0fa1518113')\"\n",
              "              title=\"Convert this dataframe to an interactive table.\"\n",
              "              style=\"display:none;\">\n",
              "        \n",
              "  <svg xmlns=\"http://www.w3.org/2000/svg\" height=\"24px\"viewBox=\"0 0 24 24\"\n",
              "       width=\"24px\">\n",
              "    <path d=\"M0 0h24v24H0V0z\" fill=\"none\"/>\n",
              "    <path d=\"M18.56 5.44l.94 2.06.94-2.06 2.06-.94-2.06-.94-.94-2.06-.94 2.06-2.06.94zm-11 1L8.5 8.5l.94-2.06 2.06-.94-2.06-.94L8.5 2.5l-.94 2.06-2.06.94zm10 10l.94 2.06.94-2.06 2.06-.94-2.06-.94-.94-2.06-.94 2.06-2.06.94z\"/><path d=\"M17.41 7.96l-1.37-1.37c-.4-.4-.92-.59-1.43-.59-.52 0-1.04.2-1.43.59L10.3 9.45l-7.72 7.72c-.78.78-.78 2.05 0 2.83L4 21.41c.39.39.9.59 1.41.59.51 0 1.02-.2 1.41-.59l7.78-7.78 2.81-2.81c.8-.78.8-2.07 0-2.86zM5.41 20L4 18.59l7.72-7.72 1.47 1.35L5.41 20z\"/>\n",
              "  </svg>\n",
              "      </button>\n",
              "      \n",
              "  <style>\n",
              "    .colab-df-container {\n",
              "      display:flex;\n",
              "      flex-wrap:wrap;\n",
              "      gap: 12px;\n",
              "    }\n",
              "\n",
              "    .colab-df-convert {\n",
              "      background-color: #E8F0FE;\n",
              "      border: none;\n",
              "      border-radius: 50%;\n",
              "      cursor: pointer;\n",
              "      display: none;\n",
              "      fill: #1967D2;\n",
              "      height: 32px;\n",
              "      padding: 0 0 0 0;\n",
              "      width: 32px;\n",
              "    }\n",
              "\n",
              "    .colab-df-convert:hover {\n",
              "      background-color: #E2EBFA;\n",
              "      box-shadow: 0px 1px 2px rgba(60, 64, 67, 0.3), 0px 1px 3px 1px rgba(60, 64, 67, 0.15);\n",
              "      fill: #174EA6;\n",
              "    }\n",
              "\n",
              "    [theme=dark] .colab-df-convert {\n",
              "      background-color: #3B4455;\n",
              "      fill: #D2E3FC;\n",
              "    }\n",
              "\n",
              "    [theme=dark] .colab-df-convert:hover {\n",
              "      background-color: #434B5C;\n",
              "      box-shadow: 0px 1px 3px 1px rgba(0, 0, 0, 0.15);\n",
              "      filter: drop-shadow(0px 1px 2px rgba(0, 0, 0, 0.3));\n",
              "      fill: #FFFFFF;\n",
              "    }\n",
              "  </style>\n",
              "\n",
              "      <script>\n",
              "        const buttonEl =\n",
              "          document.querySelector('#df-7674d54e-00ff-4733-a5b7-ed0fa1518113 button.colab-df-convert');\n",
              "        buttonEl.style.display =\n",
              "          google.colab.kernel.accessAllowed ? 'block' : 'none';\n",
              "\n",
              "        async function convertToInteractive(key) {\n",
              "          const element = document.querySelector('#df-7674d54e-00ff-4733-a5b7-ed0fa1518113');\n",
              "          const dataTable =\n",
              "            await google.colab.kernel.invokeFunction('convertToInteractive',\n",
              "                                                     [key], {});\n",
              "          if (!dataTable) return;\n",
              "\n",
              "          const docLinkHtml = 'Like what you see? Visit the ' +\n",
              "            '<a target=\"_blank\" href=https://colab.research.google.com/notebooks/data_table.ipynb>data table notebook</a>'\n",
              "            + ' to learn more about interactive tables.';\n",
              "          element.innerHTML = '';\n",
              "          dataTable['output_type'] = 'display_data';\n",
              "          await google.colab.output.renderOutput(dataTable, element);\n",
              "          const docLink = document.createElement('div');\n",
              "          docLink.innerHTML = docLinkHtml;\n",
              "          element.appendChild(docLink);\n",
              "        }\n",
              "      </script>\n",
              "    </div>\n",
              "  </div>\n",
              "  "
            ]
          },
          "metadata": {},
          "execution_count": 75
        }
      ]
    },
    {
      "cell_type": "code",
      "source": [
        "def plot_fi(fi):\n",
        "    return fi.plot('cols', 'imp', 'barh', figsize=(12,7), legend=False)\n",
        "\n",
        "plot_fi(fi[:30]);"
      ],
      "metadata": {
        "id": "PrrzmK6AflwF",
        "colab": {
          "base_uri": "https://localhost:8080/",
          "height": 431
        },
        "outputId": "6ec75deb-1272-4092-c2a2-7baa5ea73988"
      },
      "execution_count": 76,
      "outputs": [
        {
          "output_type": "display_data",
          "data": {
            "text/plain": [
              "<Figure size 864x504 with 1 Axes>"
            ],
            "image/png": "[encoded data removed]"
          },
          "metadata": {
            "needs_background": "light"
          }
        }
      ]
    },
    {
      "cell_type": "markdown",
      "source": [
        "Remove low importance columns"
      ],
      "metadata": {
        "id": "ic6LbeWIf2EQ"
      }
    },
    {
      "cell_type": "code",
      "source": [
        "to_keep = fi[fi.imp>0.002].cols\n",
        "len(to_keep)"
      ],
      "metadata": {
        "id": "jaWtqZdQfwmy",
        "colab": {
          "base_uri": "https://localhost:8080/"
        },
        "outputId": "03b13b01-d43e-4b86-c7d3-5b9b93837336"
      },
      "execution_count": 77,
      "outputs": [
        {
          "output_type": "execute_result",
          "data": {
            "text/plain": [
              "28"
            ]
          },
          "metadata": {},
          "execution_count": 77
        }
      ]
    },
    {
      "cell_type": "code",
      "source": [
        "xs_imp = xs[to_keep]\n",
        "valid_xs_imp = valid_xs[to_keep]"
      ],
      "metadata": {
        "id": "KK47uCFsgAYv"
      },
      "execution_count": 78,
      "outputs": []
    },
    {
      "cell_type": "code",
      "source": [
        "m = randomForest(xs_imp, y)"
      ],
      "metadata": {
        "id": "GgFy875_gGp4"
      },
      "execution_count": 79,
      "outputs": []
    },
    {
      "cell_type": "code",
      "source": [
        "m_rmse(m, xs_imp, y), m_rmse(m, valid_xs_imp, valid_y)"
      ],
      "metadata": {
        "id": "5e5LZrqmgJf2",
        "colab": {
          "base_uri": "https://localhost:8080/"
        },
        "outputId": "bcbf14d1-1aa3-4f85-9c44-5f24a118732b"
      },
      "execution_count": 80,
      "outputs": [
        {
          "output_type": "execute_result",
          "data": {
            "text/plain": [
              "(10.152593, 12.252527)"
            ]
          },
          "metadata": {},
          "execution_count": 80
        }
      ]
    },
    {
      "cell_type": "code",
      "source": [
        "plot_fi(rf_feat_importance(m, xs_imp));"
      ],
      "metadata": {
        "id": "5Szx4cKsgKPL",
        "colab": {
          "base_uri": "https://localhost:8080/",
          "height": 431
        },
        "outputId": "c894477f-94b4-48e9-960c-2b9be07b1e08"
      },
      "execution_count": 81,
      "outputs": [
        {
          "output_type": "display_data",
          "data": {
            "text/plain": [
              "<Figure size 864x504 with 1 Axes>"
            ],
            "image/png": "[encoded data removed]"
          },
          "metadata": {
            "needs_background": "light"
          }
        }
      ]
    },
    {
      "cell_type": "code",
      "source": [
        "fastai.cluster_columns(xs_imp)"
      ],
      "metadata": {
        "id": "ZRqtok8LhwlR",
        "colab": {
          "base_uri": "https://localhost:8080/",
          "height": 377
        },
        "outputId": "38923ce6-16fa-4607-a565-58c8f2faea85"
      },
      "execution_count": 82,
      "outputs": [
        {
          "output_type": "display_data",
          "data": {
            "text/plain": [
              "<Figure size 720x432 with 1 Axes>"
            ],
            "image/png": "[encoded data removed]"
          },
          "metadata": {
            "needs_background": "light"
          }
        }
      ]
    },
    {
      "cell_type": "markdown",
      "source": [
        "# Compute the Physics Model loss for the same interval:"
      ],
      "metadata": {
        "id": "Q-BM2Bkc_YgZ"
      }
    },
    {
      "cell_type": "code",
      "source": [
        "b = dfTrainsNextBeop.tail(14165)\n",
        "# beopValues = beopValues.to_frame().join(valid_y)\n",
        "#m_rmse(m, valid_xs_imp, valid_y)\n",
        "b = b.reset_index(drop=true)\n",
        "#print (b)\n",
        "y = valid_y.reset_index(drop=true)\n",
        "#print (y)\n",
        "df2  = pd.concat([b, y], axis=1)\n",
        "df2.dropna()\n",
        "print(df2)\n",
        "r_mse(df2['nextBeop'], df2['nextSpeed'])\n",
        "# print(BeopValidations[:5])\n",
        "#print(valid_y[:5])"
      ],
      "metadata": {
        "colab": {
          "base_uri": "https://localhost:8080/"
        },
        "id": "9-wNLj6p9amP",
        "outputId": "c2ab32a6-31ed-40ea-d03d-ac1bb96e7fcc"
      },
      "execution_count": 83,
      "outputs": [
        {
          "output_type": "stream",
          "name": "stdout",
          "text": [
            "      nextBeop  nextSpeed\n",
            "0          NaN       -9.0\n",
            "1          NaN        3.0\n",
            "2          NaN       -4.0\n",
            "3          NaN      -13.0\n",
            "4          NaN        0.0\n",
            "...        ...        ...\n",
            "6256     -47.0        NaN\n",
            "6257      -6.0        NaN\n",
            "6258       NaN        NaN\n",
            "6259      20.0        NaN\n",
            "6260      -1.0        NaN\n",
            "\n",
            "[6261 rows x 2 columns]\n"
          ]
        },
        {
          "output_type": "execute_result",
          "data": {
            "text/plain": [
              "21.643146"
            ]
          },
          "metadata": {},
          "execution_count": 83
        }
      ]
    },
    {
      "cell_type": "markdown",
      "source": [
        "# Finding Out-of-Domain Data\n",
        "Spot variables that are unique to the test set versus the training set"
      ],
      "metadata": {
        "id": "1N-rN5Y9BoHT"
      }
    },
    {
      "cell_type": "code",
      "source": [
        "df_dom = pd.concat([xs, valid_xs])\n",
        "is_valid = np.array([0]*len(xs) + [1]*len(valid_xs))\n",
        "\n",
        "m = randomForest(df_dom, is_valid)\n",
        "rf_feat_importance(m, df_dom)[:8]"
      ],
      "metadata": {
        "colab": {
          "base_uri": "https://localhost:8080/",
          "height": 300
        },
        "id": "qzU3ybMaBuOr",
        "outputId": "f897431b-f1c1-4a9b-8179-1099d704aa97"
      },
      "execution_count": 84,
      "outputs": [
        {
          "output_type": "execute_result",
          "data": {
            "text/plain": [
              "                                                 cols       imp\n",
              "44         lastReportedPosition.positionTimeDayofyear  0.499167\n",
              "45           lastReportedPosition.positionTimeElapsed  0.346466\n",
              "42               lastReportedPosition.positionTimeDay  0.091887\n",
              "41              lastReportedPosition.positionTimeWeek  0.032354\n",
              "4                                   trainId.trainDate  0.020543\n",
              "43         lastReportedPosition.positionTimeDayofweek  0.005031\n",
              "40             lastReportedPosition.positionTimeMonth  0.002494\n",
              "19  lastReportedPosition.positionTimeIs_quarter_start  0.002058"
            ],
            "text/html": [
              "\n",
              "  <div id=\"df-5d356c45-dce4-493f-9922-4c61f1a109a6\">\n",
              "    <div class=\"colab-df-container\">\n",
              "      <div>\n",
              "<style scoped>\n",
              "    .dataframe tbody tr th:only-of-type {\n",
              "        vertical-align: middle;\n",
              "    }\n",
              "\n",
              "    .dataframe tbody tr th {\n",
              "        vertical-align: top;\n",
              "    }\n",
              "\n",
              "    .dataframe thead th {\n",
              "        text-align: right;\n",
              "    }\n",
              "</style>\n",
              "<table border=\"1\" class=\"dataframe\">\n",
              "  <thead>\n",
              "    <tr style=\"text-align: right;\">\n",
              "      <th></th>\n",
              "      <th>cols</th>\n",
              "      <th>imp</th>\n",
              "    </tr>\n",
              "  </thead>\n",
              "  <tbody>\n",
              "    <tr>\n",
              "      <th>44</th>\n",
              "      <td>lastReportedPosition.positionTimeDayofyear</td>\n",
              "      <td>0.499167</td>\n",
              "    </tr>\n",
              "    <tr>\n",
              "      <th>45</th>\n",
              "      <td>lastReportedPosition.positionTimeElapsed</td>\n",
              "      <td>0.346466</td>\n",
              "    </tr>\n",
              "    <tr>\n",
              "      <th>42</th>\n",
              "      <td>lastReportedPosition.positionTimeDay</td>\n",
              "      <td>0.091887</td>\n",
              "    </tr>\n",
              "    <tr>\n",
              "      <th>41</th>\n",
              "      <td>lastReportedPosition.positionTimeWeek</td>\n",
              "      <td>0.032354</td>\n",
              "    </tr>\n",
              "    <tr>\n",
              "      <th>4</th>\n",
              "      <td>trainId.trainDate</td>\n",
              "      <td>0.020543</td>\n",
              "    </tr>\n",
              "    <tr>\n",
              "      <th>43</th>\n",
              "      <td>lastReportedPosition.positionTimeDayofweek</td>\n",
              "      <td>0.005031</td>\n",
              "    </tr>\n",
              "    <tr>\n",
              "      <th>40</th>\n",
              "      <td>lastReportedPosition.positionTimeMonth</td>\n",
              "      <td>0.002494</td>\n",
              "    </tr>\n",
              "    <tr>\n",
              "      <th>19</th>\n",
              "      <td>lastReportedPosition.positionTimeIs_quarter_start</td>\n",
              "      <td>0.002058</td>\n",
              "    </tr>\n",
              "  </tbody>\n",
              "</table>\n",
              "</div>\n",
              "      <button class=\"colab-df-convert\" onclick=\"convertToInteractive('df-5d356c45-dce4-493f-9922-4c61f1a109a6')\"\n",
              "              title=\"Convert this dataframe to an interactive table.\"\n",
              "              style=\"display:none;\">\n",
              "        \n",
              "  <svg xmlns=\"http://www.w3.org/2000/svg\" height=\"24px\"viewBox=\"0 0 24 24\"\n",
              "       width=\"24px\">\n",
              "    <path d=\"M0 0h24v24H0V0z\" fill=\"none\"/>\n",
              "    <path d=\"M18.56 5.44l.94 2.06.94-2.06 2.06-.94-2.06-.94-.94-2.06-.94 2.06-2.06.94zm-11 1L8.5 8.5l.94-2.06 2.06-.94-2.06-.94L8.5 2.5l-.94 2.06-2.06.94zm10 10l.94 2.06.94-2.06 2.06-.94-2.06-.94-.94-2.06-.94 2.06-2.06.94z\"/><path d=\"M17.41 7.96l-1.37-1.37c-.4-.4-.92-.59-1.43-.59-.52 0-1.04.2-1.43.59L10.3 9.45l-7.72 7.72c-.78.78-.78 2.05 0 2.83L4 21.41c.39.39.9.59 1.41.59.51 0 1.02-.2 1.41-.59l7.78-7.78 2.81-2.81c.8-.78.8-2.07 0-2.86zM5.41 20L4 18.59l7.72-7.72 1.47 1.35L5.41 20z\"/>\n",
              "  </svg>\n",
              "      </button>\n",
              "      \n",
              "  <style>\n",
              "    .colab-df-container {\n",
              "      display:flex;\n",
              "      flex-wrap:wrap;\n",
              "      gap: 12px;\n",
              "    }\n",
              "\n",
              "    .colab-df-convert {\n",
              "      background-color: #E8F0FE;\n",
              "      border: none;\n",
              "      border-radius: 50%;\n",
              "      cursor: pointer;\n",
              "      display: none;\n",
              "      fill: #1967D2;\n",
              "      height: 32px;\n",
              "      padding: 0 0 0 0;\n",
              "      width: 32px;\n",
              "    }\n",
              "\n",
              "    .colab-df-convert:hover {\n",
              "      background-color: #E2EBFA;\n",
              "      box-shadow: 0px 1px 2px rgba(60, 64, 67, 0.3), 0px 1px 3px 1px rgba(60, 64, 67, 0.15);\n",
              "      fill: #174EA6;\n",
              "    }\n",
              "\n",
              "    [theme=dark] .colab-df-convert {\n",
              "      background-color: #3B4455;\n",
              "      fill: #D2E3FC;\n",
              "    }\n",
              "\n",
              "    [theme=dark] .colab-df-convert:hover {\n",
              "      background-color: #434B5C;\n",
              "      box-shadow: 0px 1px 3px 1px rgba(0, 0, 0, 0.15);\n",
              "      filter: drop-shadow(0px 1px 2px rgba(0, 0, 0, 0.3));\n",
              "      fill: #FFFFFF;\n",
              "    }\n",
              "  </style>\n",
              "\n",
              "      <script>\n",
              "        const buttonEl =\n",
              "          document.querySelector('#df-5d356c45-dce4-493f-9922-4c61f1a109a6 button.colab-df-convert');\n",
              "        buttonEl.style.display =\n",
              "          google.colab.kernel.accessAllowed ? 'block' : 'none';\n",
              "\n",
              "        async function convertToInteractive(key) {\n",
              "          const element = document.querySelector('#df-5d356c45-dce4-493f-9922-4c61f1a109a6');\n",
              "          const dataTable =\n",
              "            await google.colab.kernel.invokeFunction('convertToInteractive',\n",
              "                                                     [key], {});\n",
              "          if (!dataTable) return;\n",
              "\n",
              "          const docLinkHtml = 'Like what you see? Visit the ' +\n",
              "            '<a target=\"_blank\" href=https://colab.research.google.com/notebooks/data_table.ipynb>data table notebook</a>'\n",
              "            + ' to learn more about interactive tables.';\n",
              "          element.innerHTML = '';\n",
              "          dataTable['output_type'] = 'display_data';\n",
              "          await google.colab.output.renderOutput(dataTable, element);\n",
              "          const docLink = document.createElement('div');\n",
              "          docLink.innerHTML = docLinkHtml;\n",
              "          element.appendChild(docLink);\n",
              "        }\n",
              "      </script>\n",
              "    </div>\n",
              "  </div>\n",
              "  "
            ]
          },
          "metadata": {},
          "execution_count": 84
        }
      ]
    },
    {
      "cell_type": "markdown",
      "source": [
        "Consider whether these values make sense"
      ],
      "metadata": {
        "id": "wJPE_9WCLCPr"
      }
    },
    {
      "cell_type": "markdown",
      "source": [
        "#Using a Neural Net"
      ],
      "metadata": {
        "id": "K9TcqLvPKQJD"
      }
    },
    {
      "cell_type": "code",
      "source": [
        "df_nn_final = dfTrainsLearn"
      ],
      "metadata": {
        "id": "CrfcBKRXKqQ8"
      },
      "execution_count": 85,
      "outputs": []
    },
    {
      "cell_type": "code",
      "source": [
        "df_nn_final.info()"
      ],
      "metadata": {
        "id": "W87DbNmeMVsv",
        "colab": {
          "base_uri": "https://localhost:8080/"
        },
        "outputId": "3a24df53-fbdb-4539-bfc1-f5ea02818f11"
      },
      "execution_count": 86,
      "outputs": [
        {
          "output_type": "stream",
          "name": "stdout",
          "text": [
            "<class 'pandas.core.frame.DataFrame'>\n",
            "Int64Index: 6261 entries, 8 to 6745\n",
            "Data columns (total 47 columns):\n",
            " #   Column                                                         Non-Null Count  Dtype         \n",
            "---  ------                                                         --------------  -----         \n",
            " 0   ptcLeadLocomotiveId                                            6261 non-null   object        \n",
            " 1   trainId.trainSCAC                                              6261 non-null   category      \n",
            " 2   trainId.trainSection                                           6261 non-null   category      \n",
            " 3   trainId.trainSymbol                                            6261 non-null   object        \n",
            " 4   trainId.trainDate                                              6261 non-null   datetime64[ns]\n",
            " 5   lastReportedPosition.speedMPH                                  6261 non-null   int64         \n",
            " 6   lastReportedPosition.milepostLocation.subdivisionId            6261 non-null   int64         \n",
            " 7   lastReportedPosition.milepostLocation.trackName                6261 non-null   category      \n",
            " 8   lastReportedPosition.milepostLocation.milepost.milepostNumber  6261 non-null   float64       \n",
            " 9   aotuTrainData.priorityCode                                     6261 non-null   category      \n",
            " 10  aotuTrainData.categoryCode                                     6261 non-null   category      \n",
            " 11  aotuTrainData.authorityRangeCode                               6261 non-null   category      \n",
            " 12  aotuTrainData.ownershipCode                                    6261 non-null   category      \n",
            " 13  aotuTrainData.totalCarWeight                                   6261 non-null   float64       \n",
            " 14  aotuTrainData.totalCarLength                                   6261 non-null   float64       \n",
            " 15  aotuTrainData.totalLocomotiveWeight                            6261 non-null   float64       \n",
            " 16  aotuTrainData.totalLocomotiveLength                            6261 non-null   float64       \n",
            " 17  aotuTrainData.actualTonsPerAxle                                6261 non-null   float64       \n",
            " 18  aotuTrainData.heavy143TonCarCount                              6261 non-null   float64       \n",
            " 19  aotuTrainData.heavy158TonCarCount                              6261 non-null   float64       \n",
            " 20  aotuTrainData.over158TonCarCount                               6261 non-null   float64       \n",
            " 21  aotuTrainData.highWideCarCount                                 6261 non-null   float64       \n",
            " 22  aotuTrainData.eventCode                                        6261 non-null   category      \n",
            " 23  maximumTrainSpeed                                              6261 non-null   float64       \n",
            " 24  loadedCarCount                                                 6261 non-null   float64       \n",
            " 25  emptyCarCount                                                  6261 non-null   float64       \n",
            " 26  trainLength                                                    6261 non-null   float64       \n",
            " 27  trailingTonnage                                                6261 non-null   float64       \n",
            " 28  milepost                                                       6261 non-null   int64         \n",
            " 29  mpIncr                                                         6261 non-null   bool          \n",
            " 30  symbolType                                                     6261 non-null   category      \n",
            " 31  workLocations                                                  5170 non-null   object        \n",
            " 32  locomotiveCount                                                6261 non-null   int64         \n",
            " 33  nextSpeed                                                      6261 non-null   float64       \n",
            " 34  lastReportedPosition.positionTimeYear                          6261 non-null   int64         \n",
            " 35  lastReportedPosition.positionTimeMonth                         6261 non-null   int64         \n",
            " 36  lastReportedPosition.positionTimeWeek                          6261 non-null   int64         \n",
            " 37  lastReportedPosition.positionTimeDay                           6261 non-null   int64         \n",
            " 38  lastReportedPosition.positionTimeDayofweek                     6261 non-null   int64         \n",
            " 39  lastReportedPosition.positionTimeDayofyear                     6261 non-null   int64         \n",
            " 40  lastReportedPosition.positionTimeIs_month_end                  6261 non-null   bool          \n",
            " 41  lastReportedPosition.positionTimeIs_month_start                6261 non-null   bool          \n",
            " 42  lastReportedPosition.positionTimeIs_quarter_end                6261 non-null   bool          \n",
            " 43  lastReportedPosition.positionTimeIs_quarter_start              6261 non-null   bool          \n",
            " 44  lastReportedPosition.positionTimeIs_year_end                   6261 non-null   bool          \n",
            " 45  lastReportedPosition.positionTimeIs_year_start                 6261 non-null   bool          \n",
            " 46  lastReportedPosition.positionTimeElapsed                       6261 non-null   float64       \n",
            "dtypes: bool(7), category(9), datetime64[ns](1), float64(17), int64(10), object(3)\n",
            "memory usage: 1.6+ MB\n"
          ]
        }
      ]
    },
    {
      "cell_type": "code",
      "source": [
        "cont_nn,cat_nn = cont_cat_split(df_nn_final, max_card=9000, dep_var=dep_var)"
      ],
      "metadata": {
        "id": "TpvoMKe1MNzg"
      },
      "execution_count": 87,
      "outputs": []
    },
    {
      "cell_type": "code",
      "source": [
        "cont_nn"
      ],
      "metadata": {
        "colab": {
          "base_uri": "https://localhost:8080/"
        },
        "id": "xef-YmKAMeHO",
        "outputId": "0a15ac97-59ad-4d99-f994-848bf0cb64dc"
      },
      "execution_count": 88,
      "outputs": [
        {
          "output_type": "execute_result",
          "data": {
            "text/plain": [
              "['lastReportedPosition.milepostLocation.milepost.milepostNumber',\n",
              " 'aotuTrainData.totalCarWeight',\n",
              " 'aotuTrainData.totalCarLength',\n",
              " 'aotuTrainData.totalLocomotiveWeight',\n",
              " 'aotuTrainData.totalLocomotiveLength',\n",
              " 'aotuTrainData.actualTonsPerAxle',\n",
              " 'aotuTrainData.heavy143TonCarCount',\n",
              " 'aotuTrainData.heavy158TonCarCount',\n",
              " 'aotuTrainData.over158TonCarCount',\n",
              " 'aotuTrainData.highWideCarCount',\n",
              " 'maximumTrainSpeed',\n",
              " 'loadedCarCount',\n",
              " 'emptyCarCount',\n",
              " 'trainLength',\n",
              " 'trailingTonnage',\n",
              " 'lastReportedPosition.positionTimeElapsed']"
            ]
          },
          "metadata": {},
          "execution_count": 88
        }
      ]
    },
    {
      "cell_type": "code",
      "source": [
        "numUniquePerCat = df_nn_final[cat_nn].nunique()\n",
        "with pd.option_context('display.max_rows', None, 'display.max_columns', None):  \n",
        "    print(numUniquePerCat)"
      ],
      "metadata": {
        "colab": {
          "base_uri": "https://localhost:8080/"
        },
        "id": "axfRjORJin9v",
        "outputId": "fa43606a-443b-4458-d8c2-2f5a96004edd"
      },
      "execution_count": 89,
      "outputs": [
        {
          "output_type": "stream",
          "name": "stdout",
          "text": [
            "ptcLeadLocomotiveId                                    486\n",
            "trainId.trainSCAC                                        1\n",
            "trainId.trainSection                                     5\n",
            "trainId.trainSymbol                                    174\n",
            "trainId.trainDate                                       19\n",
            "lastReportedPosition.speedMPH                           71\n",
            "lastReportedPosition.milepostLocation.subdivisionId      1\n",
            "lastReportedPosition.milepostLocation.trackName         34\n",
            "aotuTrainData.priorityCode                               5\n",
            "aotuTrainData.categoryCode                              16\n",
            "aotuTrainData.authorityRangeCode                         4\n",
            "aotuTrainData.ownershipCode                              3\n",
            "aotuTrainData.eventCode                                  1\n",
            "milepost                                               226\n",
            "mpIncr                                                   2\n",
            "symbolType                                              16\n",
            "workLocations                                           24\n",
            "locomotiveCount                                         10\n",
            "lastReportedPosition.positionTimeYear                    1\n",
            "lastReportedPosition.positionTimeMonth                   2\n",
            "lastReportedPosition.positionTimeWeek                    2\n",
            "lastReportedPosition.positionTimeDay                    12\n",
            "lastReportedPosition.positionTimeDayofweek               7\n",
            "lastReportedPosition.positionTimeDayofyear              12\n",
            "lastReportedPosition.positionTimeIs_month_end            2\n",
            "lastReportedPosition.positionTimeIs_month_start          2\n",
            "lastReportedPosition.positionTimeIs_quarter_end          2\n",
            "lastReportedPosition.positionTimeIs_quarter_start        2\n",
            "lastReportedPosition.positionTimeIs_year_end             1\n",
            "lastReportedPosition.positionTimeIs_year_start           1\n",
            "dtype: int64\n"
          ]
        }
      ]
    },
    {
      "cell_type": "code",
      "source": [
        "procs_nn = [Categorify, FillMissing, Normalize]\n",
        "to_nn = TabularPandas(df_nn_final, procs_nn, cat_nn, cont_nn,\n",
        "                      splits=splits, y_names=dep_var)"
      ],
      "metadata": {
        "id": "WNS5_jduj0Ft"
      },
      "execution_count": 90,
      "outputs": []
    },
    {
      "cell_type": "code",
      "source": [
        "dls = to_nn.dataloaders(1024)"
      ],
      "metadata": {
        "id": "HH0M0MH7kKQ-"
      },
      "execution_count": 91,
      "outputs": []
    },
    {
      "cell_type": "code",
      "source": [
        "y = to_nn.train.y\n",
        "y.min(),y.max()"
      ],
      "metadata": {
        "colab": {
          "base_uri": "https://localhost:8080/"
        },
        "id": "BPnKvYGKkRMf",
        "outputId": "7ca56229-60da-4757-99fc-cee6e4c6e6fc"
      },
      "execution_count": 92,
      "outputs": [
        {
          "output_type": "execute_result",
          "data": {
            "text/plain": [
              "(-67.0, 69.0)"
            ]
          },
          "metadata": {},
          "execution_count": 92
        }
      ]
    },
    {
      "cell_type": "code",
      "source": [
        "learn = tabular_learner(dls, y_range=(-70,70), layers=[500,250],\n",
        "                        n_out=1, loss_func=F.mse_loss)"
      ],
      "metadata": {
        "id": "XI0a_6T8kYCl"
      },
      "execution_count": 93,
      "outputs": []
    },
    {
      "cell_type": "code",
      "source": [
        "learn.lr_find()"
      ],
      "metadata": {
        "colab": {
          "base_uri": "https://localhost:8080/",
          "height": 300
        },
        "id": "-bG4DfIqkbyc",
        "outputId": "f44330d9-2f16-4eab-9119-d88b0a229b62"
      },
      "execution_count": 93,
      "outputs": [
        {
          "output_type": "display_data",
          "data": {
            "text/plain": [
              "<IPython.core.display.HTML object>"
            ],
            "text/html": [
              "\n",
              "<style>\n",
              "    /* Turns off some styling */\n",
              "    progress {\n",
              "        /* gets rid of default border in Firefox and Opera. */\n",
              "        border: none;\n",
              "        /* Needs to be in here for Safari polyfill so background images work as expected. */\n",
              "        background-size: auto;\n",
              "    }\n",
              "    .progress-bar-interrupted, .progress-bar-interrupted::-webkit-progress-bar {\n",
              "        background: #F44336;\n",
              "    }\n",
              "</style>\n"
            ]
          },
          "metadata": {}
        },
        {
          "output_type": "display_data",
          "data": {
            "text/plain": [
              "<IPython.core.display.HTML object>"
            ],
            "text/html": [
              ""
            ]
          },
          "metadata": {}
        },
        {
          "output_type": "execute_result",
          "data": {
            "text/plain": [
              "SuggestedLRs(valley=0.0003981071640737355)"
            ]
          },
          "metadata": {},
          "execution_count": 93
        },
        {
          "output_type": "display_data",
          "data": {
            "text/plain": [
              "<Figure size 432x288 with 1 Axes>"
            ],
            "image/png": "[encoded data removed]"
          },
          "metadata": {
            "needs_background": "light"
          }
        }
      ]
    },
    {
      "cell_type": "code",
      "source": [
        "learn.fit_one_cycle(50, 1e-2)"
      ],
      "metadata": {
        "colab": {
          "base_uri": "https://localhost:8080/",
          "height": 1000
        },
        "id": "KtYc1ectkiZt",
        "outputId": "8deefd96-f96f-49c1-d15a-8d88b4b642a0"
      },
      "execution_count": 97,
      "outputs": [
        {
          "output_type": "display_data",
          "data": {
            "text/plain": [
              "<IPython.core.display.HTML object>"
            ],
            "text/html": [
              "\n",
              "<style>\n",
              "    /* Turns off some styling */\n",
              "    progress {\n",
              "        /* gets rid of default border in Firefox and Opera. */\n",
              "        border: none;\n",
              "        /* Needs to be in here for Safari polyfill so background images work as expected. */\n",
              "        background-size: auto;\n",
              "    }\n",
              "    .progress-bar-interrupted, .progress-bar-interrupted::-webkit-progress-bar {\n",
              "        background: #F44336;\n",
              "    }\n",
              "</style>\n"
            ]
          },
          "metadata": {}
        },
        {
          "output_type": "display_data",
          "data": {
            "text/plain": [
              "<IPython.core.display.HTML object>"
            ],
            "text/html": [
              "<table border=\"1\" class=\"dataframe\">\n",
              "  <thead>\n",
              "    <tr style=\"text-align: left;\">\n",
              "      <th>epoch</th>\n",
              "      <th>train_loss</th>\n",
              "      <th>valid_loss</th>\n",
              "      <th>time</th>\n",
              "    </tr>\n",
              "  </thead>\n",
              "  <tbody>\n",
              "    <tr>\n",
              "      <td>0</td>\n",
              "      <td>41.107124</td>\n",
              "      <td>234.067764</td>\n",
              "      <td>00:00</td>\n",
              "    </tr>\n",
              "    <tr>\n",
              "      <td>1</td>\n",
              "      <td>39.409534</td>\n",
              "      <td>234.329651</td>\n",
              "      <td>00:00</td>\n",
              "    </tr>\n",
              "    <tr>\n",
              "      <td>2</td>\n",
              "      <td>39.020035</td>\n",
              "      <td>235.903168</td>\n",
              "      <td>00:00</td>\n",
              "    </tr>\n",
              "    <tr>\n",
              "      <td>3</td>\n",
              "      <td>38.967960</td>\n",
              "      <td>237.062210</td>\n",
              "      <td>00:00</td>\n",
              "    </tr>\n",
              "    <tr>\n",
              "      <td>4</td>\n",
              "      <td>40.302910</td>\n",
              "      <td>238.653717</td>\n",
              "      <td>00:00</td>\n",
              "    </tr>\n",
              "    <tr>\n",
              "      <td>5</td>\n",
              "      <td>40.001144</td>\n",
              "      <td>239.019791</td>\n",
              "      <td>00:00</td>\n",
              "    </tr>\n",
              "    <tr>\n",
              "      <td>6</td>\n",
              "      <td>40.068722</td>\n",
              "      <td>237.975586</td>\n",
              "      <td>00:00</td>\n",
              "    </tr>\n",
              "    <tr>\n",
              "      <td>7</td>\n",
              "      <td>40.177753</td>\n",
              "      <td>234.211868</td>\n",
              "      <td>00:00</td>\n",
              "    </tr>\n",
              "    <tr>\n",
              "      <td>8</td>\n",
              "      <td>40.441090</td>\n",
              "      <td>230.929672</td>\n",
              "      <td>00:00</td>\n",
              "    </tr>\n",
              "    <tr>\n",
              "      <td>9</td>\n",
              "      <td>40.501465</td>\n",
              "      <td>235.793839</td>\n",
              "      <td>00:00</td>\n",
              "    </tr>\n",
              "    <tr>\n",
              "      <td>10</td>\n",
              "      <td>40.556385</td>\n",
              "      <td>236.160019</td>\n",
              "      <td>00:00</td>\n",
              "    </tr>\n",
              "    <tr>\n",
              "      <td>11</td>\n",
              "      <td>40.194962</td>\n",
              "      <td>234.724976</td>\n",
              "      <td>00:00</td>\n",
              "    </tr>\n",
              "    <tr>\n",
              "      <td>12</td>\n",
              "      <td>39.900105</td>\n",
              "      <td>237.036896</td>\n",
              "      <td>00:00</td>\n",
              "    </tr>\n",
              "    <tr>\n",
              "      <td>13</td>\n",
              "      <td>40.064236</td>\n",
              "      <td>234.251709</td>\n",
              "      <td>00:00</td>\n",
              "    </tr>\n",
              "    <tr>\n",
              "      <td>14</td>\n",
              "      <td>40.122429</td>\n",
              "      <td>230.816406</td>\n",
              "      <td>00:00</td>\n",
              "    </tr>\n",
              "    <tr>\n",
              "      <td>15</td>\n",
              "      <td>39.963779</td>\n",
              "      <td>236.872833</td>\n",
              "      <td>00:00</td>\n",
              "    </tr>\n",
              "    <tr>\n",
              "      <td>16</td>\n",
              "      <td>40.095905</td>\n",
              "      <td>236.021667</td>\n",
              "      <td>00:00</td>\n",
              "    </tr>\n",
              "    <tr>\n",
              "      <td>17</td>\n",
              "      <td>40.081543</td>\n",
              "      <td>236.462265</td>\n",
              "      <td>00:00</td>\n",
              "    </tr>\n",
              "    <tr>\n",
              "      <td>18</td>\n",
              "      <td>39.696480</td>\n",
              "      <td>237.457794</td>\n",
              "      <td>00:00</td>\n",
              "    </tr>\n",
              "    <tr>\n",
              "      <td>19</td>\n",
              "      <td>39.783474</td>\n",
              "      <td>234.058945</td>\n",
              "      <td>00:00</td>\n",
              "    </tr>\n",
              "    <tr>\n",
              "      <td>20</td>\n",
              "      <td>39.769905</td>\n",
              "      <td>234.776993</td>\n",
              "      <td>00:00</td>\n",
              "    </tr>\n",
              "    <tr>\n",
              "      <td>21</td>\n",
              "      <td>39.755516</td>\n",
              "      <td>236.886230</td>\n",
              "      <td>00:00</td>\n",
              "    </tr>\n",
              "    <tr>\n",
              "      <td>22</td>\n",
              "      <td>39.517265</td>\n",
              "      <td>233.444473</td>\n",
              "      <td>00:00</td>\n",
              "    </tr>\n",
              "    <tr>\n",
              "      <td>23</td>\n",
              "      <td>39.518440</td>\n",
              "      <td>235.361710</td>\n",
              "      <td>00:00</td>\n",
              "    </tr>\n",
              "    <tr>\n",
              "      <td>24</td>\n",
              "      <td>39.528217</td>\n",
              "      <td>241.471085</td>\n",
              "      <td>00:00</td>\n",
              "    </tr>\n",
              "    <tr>\n",
              "      <td>25</td>\n",
              "      <td>39.683857</td>\n",
              "      <td>236.757401</td>\n",
              "      <td>00:00</td>\n",
              "    </tr>\n",
              "    <tr>\n",
              "      <td>26</td>\n",
              "      <td>39.603367</td>\n",
              "      <td>231.458908</td>\n",
              "      <td>00:00</td>\n",
              "    </tr>\n",
              "    <tr>\n",
              "      <td>27</td>\n",
              "      <td>39.692654</td>\n",
              "      <td>238.652542</td>\n",
              "      <td>00:00</td>\n",
              "    </tr>\n",
              "    <tr>\n",
              "      <td>28</td>\n",
              "      <td>39.507778</td>\n",
              "      <td>237.113373</td>\n",
              "      <td>00:00</td>\n",
              "    </tr>\n",
              "    <tr>\n",
              "      <td>29</td>\n",
              "      <td>39.531460</td>\n",
              "      <td>233.981033</td>\n",
              "      <td>00:00</td>\n",
              "    </tr>\n",
              "    <tr>\n",
              "      <td>30</td>\n",
              "      <td>39.540798</td>\n",
              "      <td>236.610794</td>\n",
              "      <td>00:00</td>\n",
              "    </tr>\n",
              "    <tr>\n",
              "      <td>31</td>\n",
              "      <td>39.399864</td>\n",
              "      <td>235.574448</td>\n",
              "      <td>00:00</td>\n",
              "    </tr>\n",
              "    <tr>\n",
              "      <td>32</td>\n",
              "      <td>39.388004</td>\n",
              "      <td>236.850525</td>\n",
              "      <td>00:00</td>\n",
              "    </tr>\n",
              "    <tr>\n",
              "      <td>33</td>\n",
              "      <td>39.404640</td>\n",
              "      <td>237.207977</td>\n",
              "      <td>00:00</td>\n",
              "    </tr>\n",
              "    <tr>\n",
              "      <td>34</td>\n",
              "      <td>39.167770</td>\n",
              "      <td>237.754333</td>\n",
              "      <td>00:00</td>\n",
              "    </tr>\n",
              "    <tr>\n",
              "      <td>35</td>\n",
              "      <td>39.313999</td>\n",
              "      <td>236.578400</td>\n",
              "      <td>00:00</td>\n",
              "    </tr>\n",
              "    <tr>\n",
              "      <td>36</td>\n",
              "      <td>39.394989</td>\n",
              "      <td>236.506821</td>\n",
              "      <td>00:00</td>\n",
              "    </tr>\n",
              "    <tr>\n",
              "      <td>37</td>\n",
              "      <td>39.720299</td>\n",
              "      <td>236.495850</td>\n",
              "      <td>00:00</td>\n",
              "    </tr>\n",
              "    <tr>\n",
              "      <td>38</td>\n",
              "      <td>40.344875</td>\n",
              "      <td>236.127884</td>\n",
              "      <td>00:00</td>\n",
              "    </tr>\n",
              "    <tr>\n",
              "      <td>39</td>\n",
              "      <td>40.306061</td>\n",
              "      <td>236.544128</td>\n",
              "      <td>00:00</td>\n",
              "    </tr>\n",
              "    <tr>\n",
              "      <td>40</td>\n",
              "      <td>40.340290</td>\n",
              "      <td>235.693924</td>\n",
              "      <td>00:00</td>\n",
              "    </tr>\n",
              "    <tr>\n",
              "      <td>41</td>\n",
              "      <td>40.337257</td>\n",
              "      <td>236.371857</td>\n",
              "      <td>00:00</td>\n",
              "    </tr>\n",
              "    <tr>\n",
              "      <td>42</td>\n",
              "      <td>39.945351</td>\n",
              "      <td>236.546448</td>\n",
              "      <td>00:00</td>\n",
              "    </tr>\n",
              "    <tr>\n",
              "      <td>43</td>\n",
              "      <td>39.844280</td>\n",
              "      <td>237.034760</td>\n",
              "      <td>00:00</td>\n",
              "    </tr>\n",
              "    <tr>\n",
              "      <td>44</td>\n",
              "      <td>39.699585</td>\n",
              "      <td>236.896561</td>\n",
              "      <td>00:00</td>\n",
              "    </tr>\n",
              "    <tr>\n",
              "      <td>45</td>\n",
              "      <td>39.608883</td>\n",
              "      <td>237.081192</td>\n",
              "      <td>00:00</td>\n",
              "    </tr>\n",
              "    <tr>\n",
              "      <td>46</td>\n",
              "      <td>39.411659</td>\n",
              "      <td>237.049896</td>\n",
              "      <td>00:00</td>\n",
              "    </tr>\n",
              "    <tr>\n",
              "      <td>47</td>\n",
              "      <td>39.214878</td>\n",
              "      <td>237.165329</td>\n",
              "      <td>00:00</td>\n",
              "    </tr>\n",
              "    <tr>\n",
              "      <td>48</td>\n",
              "      <td>39.052139</td>\n",
              "      <td>237.088821</td>\n",
              "      <td>00:00</td>\n",
              "    </tr>\n",
              "    <tr>\n",
              "      <td>49</td>\n",
              "      <td>39.556881</td>\n",
              "      <td>237.020081</td>\n",
              "      <td>00:00</td>\n",
              "    </tr>\n",
              "  </tbody>\n",
              "</table>"
            ]
          },
          "metadata": {}
        }
      ]
    },
    {
      "cell_type": "code",
      "source": [
        "preds,targs = learn.get_preds()\n",
        "print(r_mse(preds,targs))\n",
        "print(preds[:10])\n",
        "print(targs[:10])"
      ],
      "metadata": {
        "colab": {
          "base_uri": "https://localhost:8080/",
          "height": 381
        },
        "id": "eo1O3alWmiKj",
        "outputId": "32ad7c9a-83d2-42fc-f674-f4d087845e43"
      },
      "execution_count": 98,
      "outputs": [
        {
          "output_type": "display_data",
          "data": {
            "text/plain": [
              "<IPython.core.display.HTML object>"
            ],
            "text/html": [
              "\n",
              "<style>\n",
              "    /* Turns off some styling */\n",
              "    progress {\n",
              "        /* gets rid of default border in Firefox and Opera. */\n",
              "        border: none;\n",
              "        /* Needs to be in here for Safari polyfill so background images work as expected. */\n",
              "        background-size: auto;\n",
              "    }\n",
              "    .progress-bar-interrupted, .progress-bar-interrupted::-webkit-progress-bar {\n",
              "        background: #F44336;\n",
              "    }\n",
              "</style>\n"
            ]
          },
          "metadata": {}
        },
        {
          "output_type": "display_data",
          "data": {
            "text/plain": [
              "<IPython.core.display.HTML object>"
            ],
            "text/html": [
              ""
            ]
          },
          "metadata": {}
        },
        {
          "output_type": "stream",
          "name": "stdout",
          "text": [
            "15.395455\n",
            "tensor([[ 2.0684],\n",
            "        [ 3.8575],\n",
            "        [ 4.5239],\n",
            "        [ 4.3610],\n",
            "        [ 6.0830],\n",
            "        [ 6.0834],\n",
            "        [-4.4549],\n",
            "        [13.7284],\n",
            "        [-9.7406],\n",
            "        [ 0.8208]])\n",
            "tensor([[ -9.],\n",
            "        [  3.],\n",
            "        [ -4.],\n",
            "        [-13.],\n",
            "        [  0.],\n",
            "        [  0.],\n",
            "        [-16.],\n",
            "        [ 42.],\n",
            "        [ -7.],\n",
            "        [  6.]])\n"
          ]
        }
      ]
    }
  ],
  "metadata": {
    "colab": {
      "name": "MLModel1-2.ipynb",
      "provenance": [],
      "collapsed_sections": [],
      "include_colab_link": true
    },
    "interpreter": {
      "hash": "99fae7d265480b5fbb0cf965db398c4d2d7b17b55f6259418c7dbfe0de01ea90"
    },
    "kernelspec": {
      "display_name": "Python 3 (ipykernel)",
      "language": "python",
      "name": "python3"
    },
    "language_info": {
      "codemirror_mode": {
        "name": "ipython",
        "version": 3
      },
      "file_extension": ".py",
      "mimetype": "text/x-python",
      "name": "python",
      "nbconvert_exporter": "python",
      "pygments_lexer": "ipython3",
      "version": "3.9.12"
    }
  },
  "nbformat": 4,
  "nbformat_minor": 0
}