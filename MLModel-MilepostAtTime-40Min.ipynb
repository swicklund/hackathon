{
  "cells": [
    {
      "cell_type": "markdown",
      "metadata": {
        "id": "view-in-github",
        "colab_type": "text"
      },
      "source": [
        "<a href=\"https://colab.research.google.com/github/swicklund/hackathon/blob/main/MLModel-MilepostAtTime-40Min.ipynb\" target=\"_parent\"><img src=\"https://colab.research.google.com/assets/colab-badge.svg\" alt=\"Open In Colab\"/></a>"
      ]
    },
    {
      "cell_type": "code",
      "execution_count": 2,
      "metadata": {
        "id": "f18J8QM17E0a",
        "colab": {
          "base_uri": "https://localhost:8080/"
        },
        "outputId": "588cce55-9b25-4666-afc4-701d05bcfbf8"
      },
      "outputs": [
        {
          "output_type": "stream",
          "name": "stdout",
          "text": [
            "\u001b[K     |████████████████████████████████| 719 kB 6.1 MB/s \n",
            "\u001b[K     |████████████████████████████████| 362 kB 21.1 MB/s \n",
            "\u001b[K     |████████████████████████████████| 4.4 MB 37.8 MB/s \n",
            "\u001b[K     |████████████████████████████████| 1.2 MB 47.3 MB/s \n",
            "\u001b[K     |████████████████████████████████| 140 kB 14.2 MB/s \n",
            "\u001b[K     |████████████████████████████████| 212 kB 37.4 MB/s \n",
            "\u001b[K     |████████████████████████████████| 1.1 MB 45.6 MB/s \n",
            "\u001b[K     |████████████████████████████████| 101 kB 11.7 MB/s \n",
            "\u001b[K     |████████████████████████████████| 596 kB 14.4 MB/s \n",
            "\u001b[K     |████████████████████████████████| 127 kB 40.7 MB/s \n",
            "\u001b[K     |████████████████████████████████| 144 kB 12.0 MB/s \n",
            "\u001b[K     |████████████████████████████████| 271 kB 16.5 MB/s \n",
            "\u001b[K     |████████████████████████████████| 94 kB 1.9 MB/s \n",
            "\u001b[K     |████████████████████████████████| 6.6 MB 26.1 MB/s \n",
            "\u001b[31mERROR: pip's dependency resolver does not currently take into account all the packages that are installed. This behaviour is the source of the following dependency conflicts.\n",
            "datascience 0.10.6 requires folium==0.2.1, but you have folium 0.8.3 which is incompatible.\u001b[0m\n",
            "\u001b[?25hLooking in indexes: https://pypi.org/simple, https://us-python.pkg.dev/colab-wheels/public/simple/\n",
            "Collecting dtreeviz\n",
            "  Downloading dtreeviz-1.3.6.tar.gz (61 kB)\n",
            "\u001b[K     |████████████████████████████████| 61 kB 255 kB/s \n",
            "\u001b[?25hRequirement already satisfied: graphviz>=0.9 in /usr/local/lib/python3.7/dist-packages (from dtreeviz) (0.10.1)\n",
            "Requirement already satisfied: pandas in /usr/local/lib/python3.7/dist-packages (from dtreeviz) (1.3.5)\n",
            "Requirement already satisfied: numpy in /usr/local/lib/python3.7/dist-packages (from dtreeviz) (1.21.6)\n",
            "Requirement already satisfied: scikit-learn in /usr/local/lib/python3.7/dist-packages (from dtreeviz) (1.0.2)\n",
            "Requirement already satisfied: matplotlib in /usr/local/lib/python3.7/dist-packages (from dtreeviz) (3.2.2)\n",
            "Collecting colour\n",
            "  Downloading colour-0.1.5-py2.py3-none-any.whl (23 kB)\n",
            "Requirement already satisfied: pytest in /usr/local/lib/python3.7/dist-packages (from dtreeviz) (3.6.4)\n",
            "Requirement already satisfied: pyparsing!=2.0.4,!=2.1.2,!=2.1.6,>=2.0.1 in /usr/local/lib/python3.7/dist-packages (from matplotlib->dtreeviz) (3.0.9)\n",
            "Requirement already satisfied: cycler>=0.10 in /usr/local/lib/python3.7/dist-packages (from matplotlib->dtreeviz) (0.11.0)\n",
            "Requirement already satisfied: python-dateutil>=2.1 in /usr/local/lib/python3.7/dist-packages (from matplotlib->dtreeviz) (2.8.2)\n",
            "Requirement already satisfied: kiwisolver>=1.0.1 in /usr/local/lib/python3.7/dist-packages (from matplotlib->dtreeviz) (1.4.3)\n",
            "Requirement already satisfied: typing-extensions in /usr/local/lib/python3.7/dist-packages (from kiwisolver>=1.0.1->matplotlib->dtreeviz) (4.1.1)\n",
            "Requirement already satisfied: six>=1.5 in /usr/local/lib/python3.7/dist-packages (from python-dateutil>=2.1->matplotlib->dtreeviz) (1.15.0)\n",
            "Requirement already satisfied: pytz>=2017.3 in /usr/local/lib/python3.7/dist-packages (from pandas->dtreeviz) (2022.1)\n",
            "Requirement already satisfied: more-itertools>=4.0.0 in /usr/local/lib/python3.7/dist-packages (from pytest->dtreeviz) (8.13.0)\n",
            "Requirement already satisfied: py>=1.5.0 in /usr/local/lib/python3.7/dist-packages (from pytest->dtreeviz) (1.11.0)\n",
            "Requirement already satisfied: attrs>=17.4.0 in /usr/local/lib/python3.7/dist-packages (from pytest->dtreeviz) (21.4.0)\n",
            "Requirement already satisfied: pluggy<0.8,>=0.5 in /usr/local/lib/python3.7/dist-packages (from pytest->dtreeviz) (0.7.1)\n",
            "Requirement already satisfied: setuptools in /usr/local/lib/python3.7/dist-packages (from pytest->dtreeviz) (57.4.0)\n",
            "Requirement already satisfied: atomicwrites>=1.0 in /usr/local/lib/python3.7/dist-packages (from pytest->dtreeviz) (1.4.0)\n",
            "Requirement already satisfied: joblib>=0.11 in /usr/local/lib/python3.7/dist-packages (from scikit-learn->dtreeviz) (1.1.0)\n",
            "Requirement already satisfied: scipy>=1.1.0 in /usr/local/lib/python3.7/dist-packages (from scikit-learn->dtreeviz) (1.4.1)\n",
            "Requirement already satisfied: threadpoolctl>=2.0.0 in /usr/local/lib/python3.7/dist-packages (from scikit-learn->dtreeviz) (3.1.0)\n",
            "Building wheels for collected packages: dtreeviz\n",
            "  Building wheel for dtreeviz (setup.py) ... \u001b[?25l\u001b[?25hdone\n",
            "  Created wheel for dtreeviz: filename=dtreeviz-1.3.6-py3-none-any.whl size=67326 sha256=c2cdc48b510c3fd2b20bedb62253a76be95a8991564e0cc00551458291c8add8\n",
            "  Stored in directory: /root/.cache/pip/wheels/33/76/fe/99227ff871766e7284bb88d3d28e2f4886b8ec04d669033478\n",
            "Successfully built dtreeviz\n",
            "Installing collected packages: colour, dtreeviz\n",
            "Successfully installed colour-0.1.5 dtreeviz-1.3.6\n",
            "Updated property [core/project].\n",
            "Mounted at /content/gdrive\n"
          ]
        }
      ],
      "source": [
        "!pip install -Uqq fastbook\n",
        "!pip install dtreeviz\n",
        "!gcloud config set project {'hackathon-352519'}\n",
        "\n",
        "import os\n",
        "\n",
        "import IPython\n",
        "import IPython.display\n",
        "import matplotlib as mpl\n",
        "import matplotlib.pyplot as plt\n",
        "import numpy as np\n",
        "import fastbook as fastai\n",
        "import pandas as pd\n",
        "from pandas.io.json import json_normalize\n",
        "import seaborn as sns\n",
        "import tensorflow as tf\n",
        "import json\n",
        "import zipfile\n",
        "from io import BytesIO\n",
        "import torch\n",
        "import math\n",
        "from google.colab import files\n",
        "from google.colab import auth\n",
        "from datetime import datetime, timedelta\n",
        "\n",
        "fastai.setup_book()\n",
        "from fastai import tabular\n",
        "from pandas.api.types import is_string_dtype, is_numeric_dtype, is_categorical_dtype\n",
        "from fastai.tabular.all import *\n",
        "from sklearn.ensemble import RandomForestRegressor\n",
        "from sklearn.tree import DecisionTreeRegressor\n",
        "from dtreeviz.trees import *\n",
        "from IPython.display import Image, display_svg, SVG\n",
        "\n",
        "pd.options.display.max_rows = 20\n",
        "pd.options.display.max_columns = 8\n",
        "auth.authenticate_user()\n"
      ]
    },
    {
      "cell_type": "code",
      "source": [
        "#filename = \"train-data_all-train-events.zip\"\n",
        "#filename = \"train-data-2022062020220626.zip\"\n",
        "\n",
        "#events-20-min includes reports for all trains in the a 2 week window reporting at most every 20 minutes \n",
        "filename = \"train-events-20-min.zip\"\n",
        "\n",
        "# miles answers the question \"what spped will this train be moving in X miles (technically at milepost +/-X)\"\n",
        "#measurement = { 'unit' : 'miles', 'size' : 1.0 }\n",
        "\n",
        "# minutes answers the question : what speed will this train be moving in X Minutes\n",
        "#measurement = { 'unit' : 'minutes', 'size' : 90.0 }\n",
        "\n",
        "#dep_var = 'nextSpeed'\n",
        "\n",
        "# milepost answers the question \"What milepost will this train be at in X Minutes\"\n",
        "measurement = { 'unit' : 'milepost', 'size' : 40.0 }\n",
        "dep_var = 'nextValue'"
      ],
      "metadata": {
        "id": "M3W7KKZc8f92"
      },
      "execution_count": 3,
      "outputs": []
    },
    {
      "cell_type": "code",
      "source": [
        "!gsutil cp gs://trains_data/$filename /tmp/."
      ],
      "metadata": {
        "id": "srQJL7OKVRww",
        "colab": {
          "base_uri": "https://localhost:8080/"
        },
        "outputId": "0e4b7160-ebb8-4183-b984-258bf723a652"
      },
      "execution_count": 4,
      "outputs": [
        {
          "output_type": "stream",
          "name": "stdout",
          "text": [
            "Copying gs://trains_data/train-events-20-min.zip...\n",
            "- [1 files][ 40.7 MiB/ 40.7 MiB]                                                \n",
            "Operation completed over 1 objects/40.7 MiB.                                     \n"
          ]
        }
      ]
    },
    {
      "cell_type": "code",
      "execution_count": 5,
      "metadata": {
        "id": "ckXLQ7eQ7E0c",
        "colab": {
          "base_uri": "https://localhost:8080/"
        },
        "outputId": "da7bcc6d-40f5-459d-83fb-de569d53ab54"
      },
      "outputs": [
        {
          "output_type": "stream",
          "name": "stdout",
          "text": [
            "1000   22:30:22\n",
            "2000   22:30:32\n",
            "3000   22:30:44\n",
            "4000   22:30:49\n",
            "5000   22:30:53\n",
            "6000   22:30:58\n"
          ]
        }
      ],
      "source": [
        "trains = {}\n",
        "i = 1\n",
        "with zipfile.ZipFile(\"/tmp/\"+filename, \"r\") as f:\n",
        "    for name in f.namelist():\n",
        "        if name.endswith('.json'):\n",
        "            with f.open(name) as zd:\n",
        "                data = json.load(zd)\n",
        "                lastTrainReporting = data['lastTrainReporting']\n",
        "                currentLoco = lastTrainReporting['ptcLeadLocomotiveId']\n",
        "                if (\"trainActualPositionList\" in lastTrainReporting and len(lastTrainReporting['trainActualPositionList']) > 0): \n",
        "                    trains[i] = pd.json_normalize(lastTrainReporting)\n",
        "                    i = i + 1\n",
        "                    if (i % 1000 == 0):\n",
        "                      print(i, \" \", datetime.now().strftime(\"%H:%M:%S\"))\n",
        "                            "
      ]
    },
    {
      "cell_type": "code",
      "execution_count": 6,
      "metadata": {
        "id": "lgWV768N7E0d"
      },
      "outputs": [],
      "source": [
        "dfTrainsAll = pd.concat(trains.values())\n",
        "dfTrainsAll[\"milepost\"] = dfTrainsAll.apply(lambda row: math.trunc(row['lastReportedPosition.milepostLocation.milepost.milepostNumber']), axis=1)"
      ]
    },
    {
      "cell_type": "code",
      "source": [
        "del trains"
      ],
      "metadata": {
        "id": "Q581UU9nCWZ1"
      },
      "execution_count": 7,
      "outputs": []
    },
    {
      "cell_type": "code",
      "execution_count": 8,
      "metadata": {
        "id": "Idznxze77E0e",
        "colab": {
          "base_uri": "https://localhost:8080/"
        },
        "outputId": "ab9905b3-1dfb-43a6-bfbb-51bc85b4b11c"
      },
      "outputs": [
        {
          "output_type": "stream",
          "name": "stdout",
          "text": [
            "<class 'pandas.core.frame.DataFrame'>\n",
            "Int64Index: 6747 entries, 0 to 0\n",
            "Data columns (total 37 columns):\n",
            " #   Column                                                         Non-Null Count  Dtype  \n",
            "---  ------                                                         --------------  -----  \n",
            " 0   ptcLeadLocomotiveId                                            6747 non-null   object \n",
            " 1   positionHistoryList                                            6747 non-null   object \n",
            " 2   locomotiveList                                                 6747 non-null   object \n",
            " 3   subdivisionList                                                6747 non-null   object \n",
            " 4   trainEstimatedPositionList                                     6747 non-null   object \n",
            " 5   trainActualPositionList                                        6747 non-null   object \n",
            " 6   trainId.trainSCAC                                              6747 non-null   object \n",
            " 7   trainId.trainSection                                           6747 non-null   object \n",
            " 8   trainId.trainSymbol                                            6747 non-null   object \n",
            " 9   trainId.trainDate                                              6747 non-null   object \n",
            " 10  lastReportedPosition.positionTime                              6747 non-null   object \n",
            " 11  lastReportedPosition.speedMPH                                  6747 non-null   int64  \n",
            " 12  lastReportedPosition.milepostLocation.subdivisionId            6747 non-null   int64  \n",
            " 13  lastReportedPosition.milepostLocation.trackName                6747 non-null   object \n",
            " 14  lastReportedPosition.milepostLocation.milepost.milepostNumber  6747 non-null   float64\n",
            " 15  aotuTrainData.priorityCode                                     6531 non-null   float64\n",
            " 16  aotuTrainData.categoryCode                                     6531 non-null   float64\n",
            " 17  aotuTrainData.authorityRangeCode                               6531 non-null   float64\n",
            " 18  aotuTrainData.ownershipCode                                    6531 non-null   float64\n",
            " 19  aotuTrainData.tenantCarrier                                    6531 non-null   object \n",
            " 20  aotuTrainData.totalCarWeight                                   6531 non-null   float64\n",
            " 21  aotuTrainData.totalCarLength                                   6531 non-null   float64\n",
            " 22  aotuTrainData.totalLocomotiveWeight                            6531 non-null   float64\n",
            " 23  aotuTrainData.totalLocomotiveLength                            6531 non-null   float64\n",
            " 24  aotuTrainData.actualTonsPerAxle                                6531 non-null   float64\n",
            " 25  aotuTrainData.heavy143TonCarCount                              6531 non-null   float64\n",
            " 26  aotuTrainData.heavy158TonCarCount                              6531 non-null   float64\n",
            " 27  aotuTrainData.over158TonCarCount                               6531 non-null   float64\n",
            " 28  aotuTrainData.highWideCarCount                                 6531 non-null   float64\n",
            " 29  aotuTrainData.eventCode                                        6531 non-null   float64\n",
            " 30  aotuTrainData.routeLocationList                                6531 non-null   object \n",
            " 31  maximumTrainSpeed                                              6274 non-null   float64\n",
            " 32  loadedCarCount                                                 6274 non-null   float64\n",
            " 33  emptyCarCount                                                  6274 non-null   float64\n",
            " 34  trainLength                                                    6274 non-null   float64\n",
            " 35  trailingTonnage                                                6274 non-null   float64\n",
            " 36  milepost                                                       6747 non-null   int64  \n",
            "dtypes: float64(20), int64(3), object(14)\n",
            "memory usage: 2.0+ MB\n",
            "None\n",
            "(6747, 37)\n"
          ]
        }
      ],
      "source": [
        "print(dfTrainsAll.info())\n",
        "print(dfTrainsAll.shape)"
      ]
    },
    {
      "cell_type": "markdown",
      "source": [
        "# Create a learning set to modify"
      ],
      "metadata": {
        "id": "D2hF44lYkNIf"
      }
    },
    {
      "cell_type": "code",
      "source": [
        "dfTrainsLearn = dfTrainsAll"
      ],
      "metadata": {
        "id": "it2dDKRfbk0_"
      },
      "execution_count": 9,
      "outputs": []
    },
    {
      "cell_type": "markdown",
      "source": [
        "Clear the nan values and replace with max values."
      ],
      "metadata": {
        "id": "d5b2nVAbkR7M"
      }
    },
    {
      "cell_type": "code",
      "source": [
        "dfTrainsLearn['loadedCarCount'] =  dfTrainsLearn['loadedCarCount'].replace(np.nan, 999.)\n",
        "dfTrainsLearn['emptyCarCount'] =  dfTrainsLearn['emptyCarCount'].replace(np.nan, 999.)\n",
        "dfTrainsLearn['trainLength'] =  dfTrainsLearn['trainLength'].replace(np.nan, 99999.)\n",
        "dfTrainsLearn['trailingTonnage'] =  dfTrainsLearn['trailingTonnage'].replace(np.nan, 99999.)"
      ],
      "metadata": {
        "id": "jTMp9nMBZav1"
      },
      "execution_count": 10,
      "outputs": []
    },
    {
      "cell_type": "markdown",
      "source": [
        "Determine if the train is moving milepost Increasing or decreasing."
      ],
      "metadata": {
        "id": "2yxcbslMj-uZ"
      }
    },
    {
      "cell_type": "code",
      "source": [
        "dfTrainsLearn['mpIncr'] = dfTrainsLearn.apply(lambda row: row['lastReportedPosition.speedMPH'] >= 0, axis=1)"
      ],
      "metadata": {
        "id": "-XDkAezxjVGH"
      },
      "execution_count": 11,
      "outputs": []
    },
    {
      "cell_type": "markdown",
      "source": [
        "Make all speeds positive"
      ],
      "metadata": {
        "id": "_Nge0iAIkFTV"
      }
    },
    {
      "cell_type": "code",
      "source": [
        "dfTrainsLearn['lastReportedPosition.speedMPH']  = dfTrainsLearn.apply(lambda row: abs(row['lastReportedPosition.speedMPH']), axis=1)\n",
        "dfTrainsLearn['maximumTrainSpeed']  = dfTrainsLearn.apply(lambda row: abs(row['maximumTrainSpeed']), axis=1)"
      ],
      "metadata": {
        "id": "TjMlCKaoxbMw"
      },
      "execution_count": 12,
      "outputs": []
    },
    {
      "cell_type": "code",
      "source": [
        "print(\"Speed Distribution:\")\n",
        "dfTrainsLearn['lastReportedPosition.speedMPH'].hist(bins=90)"
      ],
      "metadata": {
        "id": "KWQaxYZ3yC1f",
        "colab": {
          "base_uri": "https://localhost:8080/",
          "height": 303
        },
        "outputId": "d0caab15-9ada-4328-edf4-6ec5612288b0"
      },
      "execution_count": 13,
      "outputs": [
        {
          "output_type": "stream",
          "name": "stdout",
          "text": [
            "Speed Distribution:\n"
          ]
        },
        {
          "output_type": "execute_result",
          "data": {
            "text/plain": [
              "<matplotlib.axes._subplots.AxesSubplot at 0x7f4075e07fd0>"
            ]
          },
          "metadata": {},
          "execution_count": 13
        },
        {
          "output_type": "display_data",
          "data": {
            "text/plain": [
              "<Figure size 432x288 with 1 Axes>"
            ],
            "image/png": "[encoded data removed]"
          },
          "metadata": {
            "needs_background": "light"
          }
        }
      ]
    },
    {
      "cell_type": "markdown",
      "source": [
        "Replace the NaN values in AOTU with zeros"
      ],
      "metadata": {
        "id": "hQ65ocjckk-s"
      }
    },
    {
      "cell_type": "code",
      "source": [
        "aotuColumns = [item for item in dfTrainsLearn.columns if item.startswith('aotu')]\n",
        "for column in aotuColumns:\n",
        "  dfTrainsLearn[column] =  dfTrainsLearn[column].replace(np.nan, 0.)"
      ],
      "metadata": {
        "id": "IjhK53fef5eG"
      },
      "execution_count": 14,
      "outputs": []
    },
    {
      "cell_type": "markdown",
      "source": [
        "Categorize the applicable variables"
      ],
      "metadata": {
        "id": "Skh2x30Ao2aj"
      }
    },
    {
      "cell_type": "code",
      "source": [
        "def categorize(aDataFrame, columnName, defaultReplacement):\n",
        "  aDataFrame[columnName] = aDataFrame[columnName].fillna(value=defaultReplacement)\n",
        "  categories = aDataFrame[columnName].unique()\n",
        "  print(aDataFrame[columnName].unique())\n",
        "  aDataFrame[columnName] = aDataFrame[columnName].astype('category')\n",
        "  aDataFrame[columnName] = aDataFrame[columnName].cat.set_categories(categories)\n",
        "  return aDataFrame"
      ],
      "metadata": {
        "id": "FPO5BUrpVl5t"
      },
      "execution_count": 15,
      "outputs": []
    },
    {
      "cell_type": "code",
      "source": [
        "dfTrainsLearn['symbolType'] = dfTrainsLearn.apply(lambda row: row['trainId.trainSymbol'][:1], axis=1)\n",
        "dfTrainsLearn = categorize(dfTrainsLearn, 'symbolType', \"X\")\n",
        "dfTrainsLearn = categorize(dfTrainsLearn, 'lastReportedPosition.milepostLocation.trackName', \"UNKNOWN\")\n",
        "dfTrainsLearn = categorize(dfTrainsLearn, 'trainId.trainSCAC',\"UNK\")\n",
        "dfTrainsLearn = categorize(dfTrainsLearn, 'trainId.trainSection', ' ')\n",
        "dfTrainsLearn = categorize(dfTrainsLearn, 'aotuTrainData.priorityCode', 0)  # may want to order these\n",
        "dfTrainsLearn = categorize(dfTrainsLearn, 'aotuTrainData.categoryCode', 0)\n",
        "dfTrainsLearn = categorize(dfTrainsLearn, 'aotuTrainData.authorityRangeCode', 0)\n",
        "dfTrainsLearn = categorize(dfTrainsLearn, 'aotuTrainData.ownershipCode', 0)\n",
        "dfTrainsLearn = categorize(dfTrainsLearn, 'aotuTrainData.tenantCarrier', \"0\")\n",
        "dfTrainsLearn = categorize(dfTrainsLearn, 'aotuTrainData.eventCode', 0)\n",
        " "
      ],
      "metadata": {
        "colab": {
          "base_uri": "https://localhost:8080/"
        },
        "id": "CKDKREgdNRGT",
        "outputId": "05972230-4e6b-4ff9-d4ce-276b9c54d969"
      },
      "execution_count": 16,
      "outputs": [
        {
          "output_type": "stream",
          "name": "stdout",
          "text": [
            "['A' 'Q' 'M' 'H' 'G' 'U' 'I' 'O' 'E' 'C' 'Y' 'L' 'Z' 'S' 'R' 'W']\n",
            "['TO_S_UP_MAINLINE' 'WEST MAIN' 'EAST MAIN' 'TO_N_EAST MAIN' 'MAIN' 'S_LUCAS' 'NEW LACY TRACK' 'MAIN CHAISON YARD' 'MT 2' 'MT 1' 'S_VIDOR' 'TO_S_VIDOR' 'TO_S_CS JUNCTION' 'S_HELME' 'EASTXO'\n",
            " 'TO_S_KCS UP PRT CONN' 'KCS UP PORT CONNECT' 'WESTXO' 'N SIDING' 'XO' 'TO_N_HELME' 'TO_N_CHAISON MAIN' 'TO_N_LUCAS' 'TO_N_STARKS' 'S_STARKS' 'S_MAURICEVILLE' 'TO_S_LUCAS' 'TO_N_MAURICEVILLE' 'YD LD'\n",
            " 'TO_N_VIDOR' 'S_FISHER' 'S_CONVERSE' 'S_ANACOCO' 'S_NEAME' 'S_LEESVILLE']\n",
            "['UP']\n",
            "['' '2' '3' '4' '5']\n",
            "[1. 2. 0. 4. 3.]\n",
            "[14. 12.  0.  9.  8. 10. 18. 15.  4. 20. 11.  2. 17. 16. 13. 19.]\n",
            "[2. 0. 3. 1.]\n",
            "[3. 0. 2.]\n",
            "['AMTK' 'BNSF' 0.0 '' 'KCS']\n",
            "[0.]\n"
          ]
        }
      ]
    },
    {
      "cell_type": "markdown",
      "source": [
        "Replace unknown max speeds with 88 miles per hour (to make them recognizable)"
      ],
      "metadata": {
        "id": "5fP9phXQlAXf"
      }
    },
    {
      "cell_type": "code",
      "source": [
        "dfTrainsLearn['maximumTrainSpeed'] =  dfTrainsLearn['maximumTrainSpeed'].replace(np.nan, 88.)\n",
        "print(dfTrainsLearn['maximumTrainSpeed'].unique())"
      ],
      "metadata": {
        "id": "ZTAgIeMJeHmz",
        "colab": {
          "base_uri": "https://localhost:8080/"
        },
        "outputId": "b38bc67d-0c74-40f4-8d5f-365e0fd58a31"
      },
      "execution_count": 17,
      "outputs": [
        {
          "output_type": "stream",
          "name": "stdout",
          "text": [
            "[88. 50. 60. 70. 40. 45. 30.]\n"
          ]
        }
      ]
    },
    {
      "cell_type": "markdown",
      "source": [
        "Flatten out the work locations (we may want to change this for the NN algorithm)"
      ],
      "metadata": {
        "id": "Dv-loghjlK_w"
      }
    },
    {
      "cell_type": "code",
      "source": [
        "def getWorkLocations(dfTrainsLocation):\n",
        "  if isinstance(dfTrainsLocation['aotuTrainData.routeLocationList'], float):\n",
        "    return None\n",
        "  if len(dfTrainsLocation['aotuTrainData.routeLocationList']) == 0:\n",
        "    return None\n",
        "  aotuRoute=pd.json_normalize(dfTrainsLocation['aotuTrainData.routeLocationList']) \n",
        "  eventLocations = aotuRoute[aotuRoute['activityList'].map(len) > 1]\n",
        "  temp = eventLocations['milepost.milepostNumber'].unique()\n",
        "  if len(temp) == 0:\n",
        "    return None\n",
        "  return ','.join(['%.2f' % num for num in temp])"
      ],
      "metadata": {
        "id": "TsYgT41SKyAn"
      },
      "execution_count": 18,
      "outputs": []
    },
    {
      "cell_type": "code",
      "source": [
        "dfTrainsLearn['workLocations'] = dfTrainsLearn.apply(lambda row: getWorkLocations(row), axis=1)"
      ],
      "metadata": {
        "id": "5sNuNU-iSgFy"
      },
      "execution_count": 19,
      "outputs": []
    },
    {
      "cell_type": "code",
      "source": [
        "dfTrainsLearn['workLocations'].unique()"
      ],
      "metadata": {
        "id": "jA6cNsHR8VSr",
        "colab": {
          "base_uri": "https://localhost:8080/"
        },
        "outputId": "8e0288c0-fa49-46bb-a72f-0e52cfd5aa80"
      },
      "execution_count": 20,
      "outputs": [
        {
          "output_type": "execute_result",
          "data": {
            "text/plain": [
              "array([None, '202.20', '225.10', '202.20,219.70', '202.20,258.40,321.50', '202.20,258.40', '219.70,202.20', '250.50,202.20', '258.40,202.20', '258.40,207.60,202.20', '321.50,202.20', '202.20,314.52',\n",
              "       '202.20,214.50,225.10,290.80,304.10', '214.50,225.10,290.80,304.10,202.20', '321.50,314.52,202.20', '258.40,219.70,202.20', '314.52,202.20', '257.60,202.20', '202.20,265.30',\n",
              "       '202.20,258.40,318.90,321.50', '202.20,219.70,258.40,321.50', '202.20,219.70,250.50,258.40,321.50', '258.40,214.50,202.20', '202.20,219.70,258.40', '225.10,202.20'], dtype=object)"
            ]
          },
          "metadata": {},
          "execution_count": 20
        }
      ]
    },
    {
      "cell_type": "markdown",
      "source": [
        "determine the locomotive count from the locomotive list.  We can make this more clever later, but for now this seems the most sensible shortcut"
      ],
      "metadata": {
        "id": "-AZiJPI24QO9"
      }
    },
    {
      "cell_type": "code",
      "source": [
        "dfTrainsLearn['locomotiveCount'] = dfTrainsLearn.apply(lambda row: len(row['locomotiveList']),axis = 1)"
      ],
      "metadata": {
        "id": "LuG8-GNBzwrF"
      },
      "execution_count": 21,
      "outputs": []
    },
    {
      "cell_type": "markdown",
      "source": [
        "Convert the list of actual reportings into a dataframe."
      ],
      "metadata": {
        "id": "Hbv-6WLkrqO2"
      }
    },
    {
      "cell_type": "code",
      "source": [
        "dfTrainsLearnActuals = dfTrainsLearn.apply(lambda row: pd.json_normalize(row['trainActualPositionList']), axis=1)"
      ],
      "metadata": {
        "id": "Ag-KbEfz4Is8"
      },
      "execution_count": 22,
      "outputs": []
    },
    {
      "cell_type": "code",
      "source": [
        "def showTrain(idx):\n",
        "  print(dfTrainsLearn.iloc[idx]['ptcLeadLocomotiveId'])\n",
        "  print(dfTrainsLearn.iloc[idx]['trainId.trainSymbol'])\n"
      ],
      "metadata": {
        "id": "ZuIVv8dvnIpG"
      },
      "execution_count": 23,
      "outputs": []
    },
    {
      "cell_type": "markdown",
      "source": [
        "You can peer into the incoming data here:"
      ],
      "metadata": {
        "id": "VLFBdKgPll2j"
      }
    },
    {
      "cell_type": "code",
      "source": [
        "idx = 201\n",
        "showTrain(idx)\n",
        "dfTrainsLearnActuals.iloc[idx]"
      ],
      "metadata": {
        "id": "r_gdrmU4IgpY",
        "colab": {
          "base_uri": "https://localhost:8080/",
          "height": 458
        },
        "outputId": "62e7a1e1-ec7d-4efa-ec9a-1dabab792e79"
      },
      "execution_count": 24,
      "outputs": [
        {
          "output_type": "stream",
          "name": "stdout",
          "text": [
            "KCS4151\n",
            "MRNWAJ\n"
          ]
        },
        {
          "output_type": "execute_result",
          "data": {
            "text/plain": [
              "            positionTime  speedMPH  milepostLocation.subdivisionId  \\\n",
              "0   2022-07-01T02:21:09Z         0                             106   \n",
              "1   2022-07-01T02:23:09Z         0                             106   \n",
              "2   2022-07-01T02:25:09Z        -1                             106   \n",
              "3   2022-07-01T02:27:09Z        -5                             106   \n",
              "4   2022-07-01T02:29:09Z        -9                             106   \n",
              "..                   ...       ...                             ...   \n",
              "16  2022-07-01T02:53:09Z        -8                             106   \n",
              "17  2022-07-01T02:55:09Z        -7                             106   \n",
              "18  2022-07-01T02:57:09Z        -6                             106   \n",
              "19  2022-07-01T02:59:09Z        -4                             106   \n",
              "20  2022-07-01T03:01:09Z         0                             106   \n",
              "\n",
              "   milepostLocation.trackName  milepostLocation.milepost.milepostNumber  \n",
              "0                   WEST MAIN                                 766.24380  \n",
              "1                   WEST MAIN                                 766.24380  \n",
              "2              WEST MAIN-MAIN                                 766.19920  \n",
              "3              WEST MAIN-MAIN                                 766.11084  \n",
              "4                        MAIN                                 765.94490  \n",
              "..                        ...                                       ...  \n",
              "16                    S_VIDOR                                 761.16580  \n",
              "17                    S_VIDOR                                 760.92035  \n",
              "18                    S_VIDOR                                 760.67960  \n",
              "19                    S_VIDOR                                 760.45135  \n",
              "20                    S_VIDOR                                 760.42000  \n",
              "\n",
              "[21 rows x 5 columns]"
            ],
            "text/html": [
              "\n",
              "  <div id=\"df-2c2ab5bb-c479-4351-a521-e94492473d71\">\n",
              "    <div class=\"colab-df-container\">\n",
              "      <div>\n",
              "<style scoped>\n",
              "    .dataframe tbody tr th:only-of-type {\n",
              "        vertical-align: middle;\n",
              "    }\n",
              "\n",
              "    .dataframe tbody tr th {\n",
              "        vertical-align: top;\n",
              "    }\n",
              "\n",
              "    .dataframe thead th {\n",
              "        text-align: right;\n",
              "    }\n",
              "</style>\n",
              "<table border=\"1\" class=\"dataframe\">\n",
              "  <thead>\n",
              "    <tr style=\"text-align: right;\">\n",
              "      <th></th>\n",
              "      <th>positionTime</th>\n",
              "      <th>speedMPH</th>\n",
              "      <th>milepostLocation.subdivisionId</th>\n",
              "      <th>milepostLocation.trackName</th>\n",
              "      <th>milepostLocation.milepost.milepostNumber</th>\n",
              "    </tr>\n",
              "  </thead>\n",
              "  <tbody>\n",
              "    <tr>\n",
              "      <th>0</th>\n",
              "      <td>2022-07-01T02:21:09Z</td>\n",
              "      <td>0</td>\n",
              "      <td>106</td>\n",
              "      <td>WEST MAIN</td>\n",
              "      <td>766.24380</td>\n",
              "    </tr>\n",
              "    <tr>\n",
              "      <th>1</th>\n",
              "      <td>2022-07-01T02:23:09Z</td>\n",
              "      <td>0</td>\n",
              "      <td>106</td>\n",
              "      <td>WEST MAIN</td>\n",
              "      <td>766.24380</td>\n",
              "    </tr>\n",
              "    <tr>\n",
              "      <th>2</th>\n",
              "      <td>2022-07-01T02:25:09Z</td>\n",
              "      <td>-1</td>\n",
              "      <td>106</td>\n",
              "      <td>WEST MAIN-MAIN</td>\n",
              "      <td>766.19920</td>\n",
              "    </tr>\n",
              "    <tr>\n",
              "      <th>3</th>\n",
              "      <td>2022-07-01T02:27:09Z</td>\n",
              "      <td>-5</td>\n",
              "      <td>106</td>\n",
              "      <td>WEST MAIN-MAIN</td>\n",
              "      <td>766.11084</td>\n",
              "    </tr>\n",
              "    <tr>\n",
              "      <th>4</th>\n",
              "      <td>2022-07-01T02:29:09Z</td>\n",
              "      <td>-9</td>\n",
              "      <td>106</td>\n",
              "      <td>MAIN</td>\n",
              "      <td>765.94490</td>\n",
              "    </tr>\n",
              "    <tr>\n",
              "      <th>...</th>\n",
              "      <td>...</td>\n",
              "      <td>...</td>\n",
              "      <td>...</td>\n",
              "      <td>...</td>\n",
              "      <td>...</td>\n",
              "    </tr>\n",
              "    <tr>\n",
              "      <th>16</th>\n",
              "      <td>2022-07-01T02:53:09Z</td>\n",
              "      <td>-8</td>\n",
              "      <td>106</td>\n",
              "      <td>S_VIDOR</td>\n",
              "      <td>761.16580</td>\n",
              "    </tr>\n",
              "    <tr>\n",
              "      <th>17</th>\n",
              "      <td>2022-07-01T02:55:09Z</td>\n",
              "      <td>-7</td>\n",
              "      <td>106</td>\n",
              "      <td>S_VIDOR</td>\n",
              "      <td>760.92035</td>\n",
              "    </tr>\n",
              "    <tr>\n",
              "      <th>18</th>\n",
              "      <td>2022-07-01T02:57:09Z</td>\n",
              "      <td>-6</td>\n",
              "      <td>106</td>\n",
              "      <td>S_VIDOR</td>\n",
              "      <td>760.67960</td>\n",
              "    </tr>\n",
              "    <tr>\n",
              "      <th>19</th>\n",
              "      <td>2022-07-01T02:59:09Z</td>\n",
              "      <td>-4</td>\n",
              "      <td>106</td>\n",
              "      <td>S_VIDOR</td>\n",
              "      <td>760.45135</td>\n",
              "    </tr>\n",
              "    <tr>\n",
              "      <th>20</th>\n",
              "      <td>2022-07-01T03:01:09Z</td>\n",
              "      <td>0</td>\n",
              "      <td>106</td>\n",
              "      <td>S_VIDOR</td>\n",
              "      <td>760.42000</td>\n",
              "    </tr>\n",
              "  </tbody>\n",
              "</table>\n",
              "<p>21 rows × 5 columns</p>\n",
              "</div>\n",
              "      <button class=\"colab-df-convert\" onclick=\"convertToInteractive('df-2c2ab5bb-c479-4351-a521-e94492473d71')\"\n",
              "              title=\"Convert this dataframe to an interactive table.\"\n",
              "              style=\"display:none;\">\n",
              "        \n",
              "  <svg xmlns=\"http://www.w3.org/2000/svg\" height=\"24px\"viewBox=\"0 0 24 24\"\n",
              "       width=\"24px\">\n",
              "    <path d=\"M0 0h24v24H0V0z\" fill=\"none\"/>\n",
              "    <path d=\"M18.56 5.44l.94 2.06.94-2.06 2.06-.94-2.06-.94-.94-2.06-.94 2.06-2.06.94zm-11 1L8.5 8.5l.94-2.06 2.06-.94-2.06-.94L8.5 2.5l-.94 2.06-2.06.94zm10 10l.94 2.06.94-2.06 2.06-.94-2.06-.94-.94-2.06-.94 2.06-2.06.94z\"/><path d=\"M17.41 7.96l-1.37-1.37c-.4-.4-.92-.59-1.43-.59-.52 0-1.04.2-1.43.59L10.3 9.45l-7.72 7.72c-.78.78-.78 2.05 0 2.83L4 21.41c.39.39.9.59 1.41.59.51 0 1.02-.2 1.41-.59l7.78-7.78 2.81-2.81c.8-.78.8-2.07 0-2.86zM5.41 20L4 18.59l7.72-7.72 1.47 1.35L5.41 20z\"/>\n",
              "  </svg>\n",
              "      </button>\n",
              "      \n",
              "  <style>\n",
              "    .colab-df-container {\n",
              "      display:flex;\n",
              "      flex-wrap:wrap;\n",
              "      gap: 12px;\n",
              "    }\n",
              "\n",
              "    .colab-df-convert {\n",
              "      background-color: #E8F0FE;\n",
              "      border: none;\n",
              "      border-radius: 50%;\n",
              "      cursor: pointer;\n",
              "      display: none;\n",
              "      fill: #1967D2;\n",
              "      height: 32px;\n",
              "      padding: 0 0 0 0;\n",
              "      width: 32px;\n",
              "    }\n",
              "\n",
              "    .colab-df-convert:hover {\n",
              "      background-color: #E2EBFA;\n",
              "      box-shadow: 0px 1px 2px rgba(60, 64, 67, 0.3), 0px 1px 3px 1px rgba(60, 64, 67, 0.15);\n",
              "      fill: #174EA6;\n",
              "    }\n",
              "\n",
              "    [theme=dark] .colab-df-convert {\n",
              "      background-color: #3B4455;\n",
              "      fill: #D2E3FC;\n",
              "    }\n",
              "\n",
              "    [theme=dark] .colab-df-convert:hover {\n",
              "      background-color: #434B5C;\n",
              "      box-shadow: 0px 1px 3px 1px rgba(0, 0, 0, 0.15);\n",
              "      filter: drop-shadow(0px 1px 2px rgba(0, 0, 0, 0.3));\n",
              "      fill: #FFFFFF;\n",
              "    }\n",
              "  </style>\n",
              "\n",
              "      <script>\n",
              "        const buttonEl =\n",
              "          document.querySelector('#df-2c2ab5bb-c479-4351-a521-e94492473d71 button.colab-df-convert');\n",
              "        buttonEl.style.display =\n",
              "          google.colab.kernel.accessAllowed ? 'block' : 'none';\n",
              "\n",
              "        async function convertToInteractive(key) {\n",
              "          const element = document.querySelector('#df-2c2ab5bb-c479-4351-a521-e94492473d71');\n",
              "          const dataTable =\n",
              "            await google.colab.kernel.invokeFunction('convertToInteractive',\n",
              "                                                     [key], {});\n",
              "          if (!dataTable) return;\n",
              "\n",
              "          const docLinkHtml = 'Like what you see? Visit the ' +\n",
              "            '<a target=\"_blank\" href=https://colab.research.google.com/notebooks/data_table.ipynb>data table notebook</a>'\n",
              "            + ' to learn more about interactive tables.';\n",
              "          element.innerHTML = '';\n",
              "          dataTable['output_type'] = 'display_data';\n",
              "          await google.colab.output.renderOutput(dataTable, element);\n",
              "          const docLink = document.createElement('div');\n",
              "          docLink.innerHTML = docLinkHtml;\n",
              "          element.appendChild(docLink);\n",
              "        }\n",
              "      </script>\n",
              "    </div>\n",
              "  </div>\n",
              "  "
            ]
          },
          "metadata": {},
          "execution_count": 24
        }
      ]
    },
    {
      "cell_type": "code",
      "source": [
        "dfTrainsBeop =  dfTrainsLearn[['lastReportedPosition.milepostLocation.milepost.milepostNumber','trainEstimatedPositionList']]\n",
        "dfTrainsBeop"
      ],
      "metadata": {
        "id": "1FsMwzd7xSLZ",
        "colab": {
          "base_uri": "https://localhost:8080/",
          "height": 676
        },
        "outputId": "eb0728a7-207b-4f27-dfd7-83d4b17c5609"
      },
      "execution_count": 25,
      "outputs": [
        {
          "output_type": "execute_result",
          "data": {
            "text/plain": [
              "    lastReportedPosition.milepostLocation.milepost.milepostNumber  \\\n",
              "0                                                        764.8696   \n",
              "0                                                        764.8706   \n",
              "0                                                        766.9310   \n",
              "0                                                        764.8691   \n",
              "0                                                        766.9302   \n",
              "..                                                            ...   \n",
              "0                                                        290.7408   \n",
              "0                                                        293.2164   \n",
              "0                                                        294.0817   \n",
              "0                                                        305.3550   \n",
              "0                                                        317.9784   \n",
              "\n",
              "                                                                                                                                                                                                                                                                                                                                                                                                                                                                                                                                                                                                 trainEstimatedPositionList  \n",
              "0                                                                                                                                                                                                                                                                                                                                                                                                                                                                                                                                                                                                                        []  \n",
              "0                                                                                                                                                                                                                                                                                                                                                                                                                                                                                                                                                                                                                        []  \n",
              "0                                                                                                                                                                                                                                                                                                                                                                                                                                                                                                                                                                                                                        []  \n",
              "0                                                                                                                                                                                                                                                                                                                                                                                                                                                                                                                                                                                                                        []  \n",
              "0                                                                                                                                                                                                                                                                                                                                                                                                                                                                                                                                                                                                                        []  \n",
              "..                                                                                                                                                                                                                                                                                                                                                                                                                                                                                                                                                                                                                      ...  \n",
              "0   [{'positionTime': '2022-06-23T10:15:47Z', 'speedMPH': 12, 'milepostLocation': {'subdivisionId': 106, 'trackName': 'EASTXO', 'milepost': {'milepostNumber': 290.7408}}}, {'positionTime': '2022-06-23T10:17:47Z', 'speedMPH': 30, 'milepostLocation': {'subdivisionId': 106, 'trackName': 'EASTXO', 'milepost': {'milepostNumber': 291.4418}}}, {'positionTime': '2022-06-23T10:19:47Z', 'speedMPH': 40, 'milepostLocation': {'subdivisionId': 106, 'trackName': 'EASTXO', 'milepost': {'milepostNumber': 292.6651}}}, {'positionTime': '2022-06-23T10:21:47Z', 'speedMPH': 49, 'milepostLocation': {'subdivisionId':...  \n",
              "0                                                                                                                                                                                                                                                                                                                                                                                                                                                                                                                                                                                                                        []  \n",
              "0   [{'positionTime': '2022-06-23T11:17:23Z', 'speedMPH': 23, 'milepostLocation': {'subdivisionId': 106, 'trackName': 'MT 2', 'milepost': {'milepostNumber': 294.0817}}}, {'positionTime': '2022-06-23T11:19:23Z', 'speedMPH': 35, 'milepostLocation': {'subdivisionId': 106, 'trackName': 'MT 2', 'milepost': {'milepostNumber': 295.03876}}}, {'positionTime': '2022-06-23T11:21:23Z', 'speedMPH': 45, 'milepostLocation': {'subdivisionId': 106, 'trackName': 'MT 2', 'milepost': {'milepostNumber': 296.39496}}}, {'positionTime': '2022-06-23T11:23:23Z', 'speedMPH': 50, 'milepostLocation': {'subdivisionId': 106...  \n",
              "0   [{'positionTime': '2022-06-23T11:34:06Z', 'speedMPH': 48, 'milepostLocation': {'subdivisionId': 106, 'trackName': 'MT 1', 'milepost': {'milepostNumber': 305.355}}}, {'positionTime': '2022-06-23T11:36:06Z', 'speedMPH': 50, 'milepostLocation': {'subdivisionId': 106, 'trackName': 'MT 1', 'milepost': {'milepostNumber': 307.01364}}}, {'positionTime': '2022-06-23T11:38:06Z', 'speedMPH': 50, 'milepostLocation': {'subdivisionId': 106, 'trackName': 'MT 1', 'milepost': {'milepostNumber': 308.68835}}}, {'positionTime': '2022-06-23T11:40:06Z', 'speedMPH': 50, 'milepostLocation': {'subdivisionId': 106,...  \n",
              "0   [{'positionTime': '2022-06-23T11:50:16Z', 'speedMPH': 44, 'milepostLocation': {'subdivisionId': 106, 'trackName': 'MT 1', 'milepost': {'milepostNumber': 317.9784}}}, {'positionTime': '2022-06-23T11:52:16Z', 'speedMPH': 44, 'milepostLocation': {'subdivisionId': 106, 'trackName': 'MT 1', 'milepost': {'milepostNumber': 319.44662}}}, {'positionTime': '2022-06-23T11:54:16Z', 'speedMPH': 44, 'milepostLocation': {'subdivisionId': 106, 'trackName': 'MT 1', 'milepost': {'milepostNumber': 320.92197}}}, {'positionTime': '2022-06-23T11:56:16Z', 'speedMPH': 40, 'milepostLocation': {'subdivisionId': 106...  \n",
              "\n",
              "[6747 rows x 2 columns]"
            ],
            "text/html": [
              "\n",
              "  <div id=\"df-d7878861-de0f-4327-a499-eb369c5240d9\">\n",
              "    <div class=\"colab-df-container\">\n",
              "      <div>\n",
              "<style scoped>\n",
              "    .dataframe tbody tr th:only-of-type {\n",
              "        vertical-align: middle;\n",
              "    }\n",
              "\n",
              "    .dataframe tbody tr th {\n",
              "        vertical-align: top;\n",
              "    }\n",
              "\n",
              "    .dataframe thead th {\n",
              "        text-align: right;\n",
              "    }\n",
              "</style>\n",
              "<table border=\"1\" class=\"dataframe\">\n",
              "  <thead>\n",
              "    <tr style=\"text-align: right;\">\n",
              "      <th></th>\n",
              "      <th>lastReportedPosition.milepostLocation.milepost.milepostNumber</th>\n",
              "      <th>trainEstimatedPositionList</th>\n",
              "    </tr>\n",
              "  </thead>\n",
              "  <tbody>\n",
              "    <tr>\n",
              "      <th>0</th>\n",
              "      <td>764.8696</td>\n",
              "      <td>[]</td>\n",
              "    </tr>\n",
              "    <tr>\n",
              "      <th>0</th>\n",
              "      <td>764.8706</td>\n",
              "      <td>[]</td>\n",
              "    </tr>\n",
              "    <tr>\n",
              "      <th>0</th>\n",
              "      <td>766.9310</td>\n",
              "      <td>[]</td>\n",
              "    </tr>\n",
              "    <tr>\n",
              "      <th>0</th>\n",
              "      <td>764.8691</td>\n",
              "      <td>[]</td>\n",
              "    </tr>\n",
              "    <tr>\n",
              "      <th>0</th>\n",
              "      <td>766.9302</td>\n",
              "      <td>[]</td>\n",
              "    </tr>\n",
              "    <tr>\n",
              "      <th>...</th>\n",
              "      <td>...</td>\n",
              "      <td>...</td>\n",
              "    </tr>\n",
              "    <tr>\n",
              "      <th>0</th>\n",
              "      <td>290.7408</td>\n",
              "      <td>[{'positionTime': '2022-06-23T10:15:47Z', 'speedMPH': 12, 'milepostLocation': {'subdivisionId': 106, 'trackName': 'EASTXO', 'milepost': {'milepostNumber': 290.7408}}}, {'positionTime': '2022-06-23T10:17:47Z', 'speedMPH': 30, 'milepostLocation': {'subdivisionId': 106, 'trackName': 'EASTXO', 'milepost': {'milepostNumber': 291.4418}}}, {'positionTime': '2022-06-23T10:19:47Z', 'speedMPH': 40, 'milepostLocation': {'subdivisionId': 106, 'trackName': 'EASTXO', 'milepost': {'milepostNumber': 292.6651}}}, {'positionTime': '2022-06-23T10:21:47Z', 'speedMPH': 49, 'milepostLocation': {'subdivisionId':...</td>\n",
              "    </tr>\n",
              "    <tr>\n",
              "      <th>0</th>\n",
              "      <td>293.2164</td>\n",
              "      <td>[]</td>\n",
              "    </tr>\n",
              "    <tr>\n",
              "      <th>0</th>\n",
              "      <td>294.0817</td>\n",
              "      <td>[{'positionTime': '2022-06-23T11:17:23Z', 'speedMPH': 23, 'milepostLocation': {'subdivisionId': 106, 'trackName': 'MT 2', 'milepost': {'milepostNumber': 294.0817}}}, {'positionTime': '2022-06-23T11:19:23Z', 'speedMPH': 35, 'milepostLocation': {'subdivisionId': 106, 'trackName': 'MT 2', 'milepost': {'milepostNumber': 295.03876}}}, {'positionTime': '2022-06-23T11:21:23Z', 'speedMPH': 45, 'milepostLocation': {'subdivisionId': 106, 'trackName': 'MT 2', 'milepost': {'milepostNumber': 296.39496}}}, {'positionTime': '2022-06-23T11:23:23Z', 'speedMPH': 50, 'milepostLocation': {'subdivisionId': 106...</td>\n",
              "    </tr>\n",
              "    <tr>\n",
              "      <th>0</th>\n",
              "      <td>305.3550</td>\n",
              "      <td>[{'positionTime': '2022-06-23T11:34:06Z', 'speedMPH': 48, 'milepostLocation': {'subdivisionId': 106, 'trackName': 'MT 1', 'milepost': {'milepostNumber': 305.355}}}, {'positionTime': '2022-06-23T11:36:06Z', 'speedMPH': 50, 'milepostLocation': {'subdivisionId': 106, 'trackName': 'MT 1', 'milepost': {'milepostNumber': 307.01364}}}, {'positionTime': '2022-06-23T11:38:06Z', 'speedMPH': 50, 'milepostLocation': {'subdivisionId': 106, 'trackName': 'MT 1', 'milepost': {'milepostNumber': 308.68835}}}, {'positionTime': '2022-06-23T11:40:06Z', 'speedMPH': 50, 'milepostLocation': {'subdivisionId': 106,...</td>\n",
              "    </tr>\n",
              "    <tr>\n",
              "      <th>0</th>\n",
              "      <td>317.9784</td>\n",
              "      <td>[{'positionTime': '2022-06-23T11:50:16Z', 'speedMPH': 44, 'milepostLocation': {'subdivisionId': 106, 'trackName': 'MT 1', 'milepost': {'milepostNumber': 317.9784}}}, {'positionTime': '2022-06-23T11:52:16Z', 'speedMPH': 44, 'milepostLocation': {'subdivisionId': 106, 'trackName': 'MT 1', 'milepost': {'milepostNumber': 319.44662}}}, {'positionTime': '2022-06-23T11:54:16Z', 'speedMPH': 44, 'milepostLocation': {'subdivisionId': 106, 'trackName': 'MT 1', 'milepost': {'milepostNumber': 320.92197}}}, {'positionTime': '2022-06-23T11:56:16Z', 'speedMPH': 40, 'milepostLocation': {'subdivisionId': 106...</td>\n",
              "    </tr>\n",
              "  </tbody>\n",
              "</table>\n",
              "<p>6747 rows × 2 columns</p>\n",
              "</div>\n",
              "      <button class=\"colab-df-convert\" onclick=\"convertToInteractive('df-d7878861-de0f-4327-a499-eb369c5240d9')\"\n",
              "              title=\"Convert this dataframe to an interactive table.\"\n",
              "              style=\"display:none;\">\n",
              "        \n",
              "  <svg xmlns=\"http://www.w3.org/2000/svg\" height=\"24px\"viewBox=\"0 0 24 24\"\n",
              "       width=\"24px\">\n",
              "    <path d=\"M0 0h24v24H0V0z\" fill=\"none\"/>\n",
              "    <path d=\"M18.56 5.44l.94 2.06.94-2.06 2.06-.94-2.06-.94-.94-2.06-.94 2.06-2.06.94zm-11 1L8.5 8.5l.94-2.06 2.06-.94-2.06-.94L8.5 2.5l-.94 2.06-2.06.94zm10 10l.94 2.06.94-2.06 2.06-.94-2.06-.94-.94-2.06-.94 2.06-2.06.94z\"/><path d=\"M17.41 7.96l-1.37-1.37c-.4-.4-.92-.59-1.43-.59-.52 0-1.04.2-1.43.59L10.3 9.45l-7.72 7.72c-.78.78-.78 2.05 0 2.83L4 21.41c.39.39.9.59 1.41.59.51 0 1.02-.2 1.41-.59l7.78-7.78 2.81-2.81c.8-.78.8-2.07 0-2.86zM5.41 20L4 18.59l7.72-7.72 1.47 1.35L5.41 20z\"/>\n",
              "  </svg>\n",
              "      </button>\n",
              "      \n",
              "  <style>\n",
              "    .colab-df-container {\n",
              "      display:flex;\n",
              "      flex-wrap:wrap;\n",
              "      gap: 12px;\n",
              "    }\n",
              "\n",
              "    .colab-df-convert {\n",
              "      background-color: #E8F0FE;\n",
              "      border: none;\n",
              "      border-radius: 50%;\n",
              "      cursor: pointer;\n",
              "      display: none;\n",
              "      fill: #1967D2;\n",
              "      height: 32px;\n",
              "      padding: 0 0 0 0;\n",
              "      width: 32px;\n",
              "    }\n",
              "\n",
              "    .colab-df-convert:hover {\n",
              "      background-color: #E2EBFA;\n",
              "      box-shadow: 0px 1px 2px rgba(60, 64, 67, 0.3), 0px 1px 3px 1px rgba(60, 64, 67, 0.15);\n",
              "      fill: #174EA6;\n",
              "    }\n",
              "\n",
              "    [theme=dark] .colab-df-convert {\n",
              "      background-color: #3B4455;\n",
              "      fill: #D2E3FC;\n",
              "    }\n",
              "\n",
              "    [theme=dark] .colab-df-convert:hover {\n",
              "      background-color: #434B5C;\n",
              "      box-shadow: 0px 1px 3px 1px rgba(0, 0, 0, 0.15);\n",
              "      filter: drop-shadow(0px 1px 2px rgba(0, 0, 0, 0.3));\n",
              "      fill: #FFFFFF;\n",
              "    }\n",
              "  </style>\n",
              "\n",
              "      <script>\n",
              "        const buttonEl =\n",
              "          document.querySelector('#df-d7878861-de0f-4327-a499-eb369c5240d9 button.colab-df-convert');\n",
              "        buttonEl.style.display =\n",
              "          google.colab.kernel.accessAllowed ? 'block' : 'none';\n",
              "\n",
              "        async function convertToInteractive(key) {\n",
              "          const element = document.querySelector('#df-d7878861-de0f-4327-a499-eb369c5240d9');\n",
              "          const dataTable =\n",
              "            await google.colab.kernel.invokeFunction('convertToInteractive',\n",
              "                                                     [key], {});\n",
              "          if (!dataTable) return;\n",
              "\n",
              "          const docLinkHtml = 'Like what you see? Visit the ' +\n",
              "            '<a target=\"_blank\" href=https://colab.research.google.com/notebooks/data_table.ipynb>data table notebook</a>'\n",
              "            + ' to learn more about interactive tables.';\n",
              "          element.innerHTML = '';\n",
              "          dataTable['output_type'] = 'display_data';\n",
              "          await google.colab.output.renderOutput(dataTable, element);\n",
              "          const docLink = document.createElement('div');\n",
              "          docLink.innerHTML = docLinkHtml;\n",
              "          element.appendChild(docLink);\n",
              "        }\n",
              "      </script>\n",
              "    </div>\n",
              "  </div>\n",
              "  "
            ]
          },
          "metadata": {},
          "execution_count": 25
        }
      ]
    },
    {
      "cell_type": "markdown",
      "source": [
        "Renumber the list"
      ],
      "metadata": {
        "id": "lA_7_hJRr9RI"
      }
    },
    {
      "cell_type": "code",
      "source": [
        "dfTrainsLearn = dfTrainsLearn.reset_index(drop=True)"
      ],
      "metadata": {
        "id": "Kw_c3Ddj4zN4"
      },
      "execution_count": 26,
      "outputs": []
    },
    {
      "cell_type": "markdown",
      "source": [
        "# Determine NextValue\n",
        "This will be the value we are attempting to learn"
      ],
      "metadata": {
        "id": "M6ikvyh2mKvw"
      }
    },
    {
      "cell_type": "code",
      "source": [
        "def findNextTime(trainsEntry, actualsEntry, timeInMinutes):\n",
        "  #print(actualsEntry.iloc[4]['speedMPH'], \" - \",trainsEntry['lastReportedPosition.speedMPH'] )\n",
        "  idx = math.trunc(timeInMinutes // 2)\n",
        "  if (idx < len(actualsEntry)):\n",
        "    return (abs(actualsEntry.iloc[idx]['speedMPH']) - abs(trainsEntry['lastReportedPosition.speedMPH']))\n",
        "  return None"
      ],
      "metadata": {
        "id": "HsFWDlcWROcp"
      },
      "execution_count": 27,
      "outputs": []
    },
    {
      "cell_type": "code",
      "source": [
        "def findNextMilepost(trainsEntry, actualsEntry, distance):\n",
        "  currMilepost = trainsEntry['lastReportedPosition.milepostLocation.milepost.milepostNumber']\n",
        "  value  = actualsEntry.loc[actualsEntry['milepostLocation.milepost.milepostNumber'] > currMilepost + distance]\n",
        "  if (len(value) > 0) :\n",
        "    return value[value['milepostLocation.milepost.milepostNumber'] == value['milepostLocation.milepost.milepostNumber'].min()]\n",
        "  value  = actualsEntry.loc[actualsEntry['milepostLocation.milepost.milepostNumber'] < currMilepost - distance]\n",
        "  if (len(value) > 0):\n",
        "    return value[value['milepostLocation.milepost.milepostNumber'] == value['milepostLocation.milepost.milepostNumber'].max()]\n",
        "  return []"
      ],
      "metadata": {
        "id": "-gfZhQNSsxeV"
      },
      "execution_count": 28,
      "outputs": []
    },
    {
      "cell_type": "code",
      "source": [
        "def findNextMilepostAtTime(trainsEntry, actualsEntry, timeInMinutes):\n",
        "  idx = math.trunc(timeInMinutes // 2)\n",
        "  if (idx < len(actualsEntry)):\n",
        "    return actualsEntry.iloc[idx]['milepostLocation.milepost.milepostNumber']\n",
        "  return None"
      ],
      "metadata": {
        "id": "V3P0NgM-zSpV"
      },
      "execution_count": 29,
      "outputs": []
    },
    {
      "cell_type": "code",
      "source": [
        "def findNextSpeed(trainsEntry, actualsEntry):\n",
        "  if (measurement.get('unit') == 'miles'):\n",
        "    nextActual = findNextMilepost(trainsEntry, actualsEntry, measurement.get('size'))\n",
        "    if (nextActual != None and len(nextActual) > 0):\n",
        "      amt = (abs(nextActual.iloc[0]['speedMPH']) - abs(trainsEntry['lastReportedPosition.speedMPH']))\n",
        "      return amt;\n",
        "  elif (measurement.get('unit') == 'minutes'):\n",
        "    return findNextTime(trainsEntry, actualsEntry, measurement.get('size'))\n",
        "  elif (measurement.get('unit') == 'milepost'):\n",
        "    return findNextMilepostAtTime(trainsEntry, actualsEntry, measurement.get('size'))\n",
        "  else:\n",
        "    raise Exception('unknown measurement', measurement.get('unit'))    \n",
        "  return None"
      ],
      "metadata": {
        "id": "i_JszmqL0MR6"
      },
      "execution_count": 30,
      "outputs": []
    },
    {
      "cell_type": "markdown",
      "source": [
        "You can peer into the mechanics of a lookup here:"
      ],
      "metadata": {
        "id": "lzq_GLI5mdDk"
      }
    },
    {
      "cell_type": "code",
      "source": [
        "idx = 3291\n",
        "showTrain(idx)\n",
        "print(\"Reported speed: \", dfTrainsLearn.iloc[idx]['lastReportedPosition.speedMPH'])\n",
        "print(\"Reported MP: \", dfTrainsLearn.iloc[idx]['lastReportedPosition.milepostLocation.milepost.milepostNumber'])\n",
        "print(\"Reported Time: \", dfTrainsLearn.iloc[idx]['lastReportedPosition.positionTime'])\n",
        "\n",
        "nextActual = findNextMilepost(dfTrainsLearn.iloc[idx], dfTrainsLearnActuals.iloc[idx], 1)\n",
        "print(\"Next Speed at MP:\",nextActual)\n",
        "nextActual = findNextTime(dfTrainsLearn.iloc[idx], dfTrainsLearnActuals.iloc[idx], 10)\n",
        "print(\"Next Speed at 10 Min:\",nextActual)\n",
        "nextActual = findNextMilepostAtTime(dfTrainsLearn.iloc[idx], dfTrainsLearnActuals.iloc[idx], 10)\n",
        "print(\"Milepost in 10 Min:\",nextActual)\n",
        "\n",
        "print(\"actual Value: \", findNextSpeed(dfTrainsLearn.iloc[idx], dfTrainsLearnActuals.iloc[idx]))\n",
        "beopJSON = dfTrainsBeop.iloc[idx]['trainEstimatedPositionList']\n",
        "if not type(beopJSON) is float and len(beopJSON) > 0:\n",
        "  beopDT = pd.json_normalize(beopJSON)\n",
        "  nextBeop = findNextMilepost(dfTrainsLearn.iloc[idx], beopDT, 1)\n",
        "  print(nextBeop)\n",
        "  type(dfTrainsBeop.iloc[idx]['trainEstimatedPositionList'])\n",
        "  print(\"beop Value: \", findNextSpeed(dfTrainsLearn.iloc[idx], beopDT))"
      ],
      "metadata": {
        "id": "F_hQFHKztIu-",
        "colab": {
          "base_uri": "https://localhost:8080/"
        },
        "outputId": "779158a4-ac29-4282-ab64-0509292cfdf2"
      },
      "execution_count": 31,
      "outputs": [
        {
          "output_type": "stream",
          "name": "stdout",
          "text": [
            "UP6579\n",
            "CNAPW9\n",
            "Reported speed:  42\n",
            "Reported MP:  315.8773\n",
            "Reported Time:  2022-06-26T02:15:16Z\n",
            "Next Speed at MP:            positionTime  speedMPH  milepostLocation.subdivisionId  \\\n",
            "0  2022-06-26T02:17:16Z       -43                             106   \n",
            "\n",
            "  milepostLocation.trackName  milepostLocation.milepost.milepostNumber  \n",
            "0                       MT 2                                 314.40375  \n",
            "Next Speed at 10 Min: 8\n",
            "Milepost in 10 Min: 306.50928\n",
            "actual Value:  281.48285\n",
            "           positionTime  speedMPH  milepostLocation.subdivisionId  \\\n",
            "1  2022-06-26T02:17:16Z       -44                             106   \n",
            "\n",
            "  milepostLocation.trackName  milepostLocation.milepost.milepostNumber  \n",
            "1                       MT 2                                  314.4466  \n",
            "beop Value:  283.04987\n"
          ]
        }
      ]
    },
    {
      "cell_type": "markdown",
      "source": [
        "Run the calulations.  This will take a moment."
      ],
      "metadata": {
        "id": "cWzMCn-tsE22"
      }
    },
    {
      "cell_type": "code",
      "source": [
        "dfTrainsLearn['nextValue'] = np.NaN\n",
        "dfTrainsLearn['beopValue'] = np.NaN\n",
        "i = 0;\n",
        "for index, trainsEntry in dfTrainsLearn.iterrows():\n",
        "  nextValue = findNextSpeed(trainsEntry, dfTrainsLearnActuals.iloc[i])\n",
        "  if (nextValue != None):\n",
        "    dfTrainsLearn.at[i,'nextValue'] = nextValue\n",
        "  beopJSON = dfTrainsBeop.iloc[i]['trainEstimatedPositionList']\n",
        "  if not type(beopJSON) is float and len(beopJSON) > 0:\n",
        "    try:\n",
        "      beopDT = pd.json_normalize(beopJSON)\n",
        "      if (measurement.get('unit') == 'miles'):\n",
        "        nextBeop = findNextMilepost(trainsEntry, beopDT, measurement.get('size'))\n",
        "      elif (measurement.get('unit') == 'minutes'):\n",
        "        nextBeop = findNextTime(trainsEntry, beopDT, measurement.get('size'))\n",
        "      elif (measurement.get('unit') == 'milepost'):\n",
        "        nextBeop = findNextMilepostAtTime(trainsEntry, beopDT, measurement.get('size'))\n",
        "      if (nextBeop != None):\n",
        "        dfTrainsLearn.at[i,'beopValue'] = nextBeop\n",
        "    except NotImplementedError:\n",
        "      print(type(beopJSON))\n",
        "    except KeyError:\n",
        "      print(beopJSON)\n",
        "  if (i % 1000 == 0):\n",
        "    print(i)\n",
        "  i = i + 1"
      ],
      "metadata": {
        "id": "fG2U-anX-jbt",
        "colab": {
          "base_uri": "https://localhost:8080/"
        },
        "outputId": "fd32ab01-8e34-442a-b3e2-33c6d63016c8"
      },
      "execution_count": 32,
      "outputs": [
        {
          "output_type": "stream",
          "name": "stdout",
          "text": [
            "0\n",
            "1000\n",
            "2000\n",
            "3000\n",
            "4000\n",
            "5000\n",
            "6000\n"
          ]
        }
      ]
    },
    {
      "cell_type": "code",
      "source": [
        "dfTrainsLearn = dfTrainsLearn.dropna(subset=['nextValue'])\n",
        "dfTrainsLearn['nextValue'].unique()"
      ],
      "metadata": {
        "colab": {
          "base_uri": "https://localhost:8080/"
        },
        "id": "lQz8KQHM3SdN",
        "outputId": "456bf508-1b4c-4160-9a58-0d2f03f41ca8"
      },
      "execution_count": 33,
      "outputs": [
        {
          "output_type": "execute_result",
          "data": {
            "text/plain": [
              "array([728.6966 , 728.6964 , 728.6978 , ..., 293.2243 , 312.63773, 325.63818])"
            ]
          },
          "metadata": {},
          "execution_count": 33
        }
      ]
    },
    {
      "cell_type": "code",
      "source": [
        "print(\"NextValue values histogram:\")\n",
        "dfTrainsLearn['nextValue'].hist(bins=200)"
      ],
      "metadata": {
        "id": "IOWDvvGusUBm",
        "colab": {
          "base_uri": "https://localhost:8080/",
          "height": 303
        },
        "outputId": "f30f2bfe-9d5f-4af5-8415-77d8cbbbeae1"
      },
      "execution_count": 34,
      "outputs": [
        {
          "output_type": "stream",
          "name": "stdout",
          "text": [
            "NextValue values histogram:\n"
          ]
        },
        {
          "output_type": "execute_result",
          "data": {
            "text/plain": [
              "<matplotlib.axes._subplots.AxesSubplot at 0x7f40995f2e10>"
            ]
          },
          "metadata": {},
          "execution_count": 34
        },
        {
          "output_type": "display_data",
          "data": {
            "text/plain": [
              "<Figure size 432x288 with 1 Axes>"
            ],
            "image/png": "[encoded data removed]"
          },
          "metadata": {
            "needs_background": "light"
          }
        }
      ]
    },
    {
      "cell_type": "code",
      "source": [
        "dfTrainsLearn['beopValue'].unique()"
      ],
      "metadata": {
        "id": "bdSnFJoMWVrn",
        "colab": {
          "base_uri": "https://localhost:8080/"
        },
        "outputId": "6ffc0588-58f0-45a8-8fec-b686e5a67b65"
      },
      "execution_count": 35,
      "outputs": [
        {
          "output_type": "execute_result",
          "data": {
            "text/plain": [
              "array([748.4721 , 755.1316 ,       nan, ..., 319.19366, 320.7019 , 325.82587])"
            ]
          },
          "metadata": {},
          "execution_count": 35
        }
      ]
    },
    {
      "cell_type": "code",
      "source": [
        "print(\"physics predictions histogram:\")\n",
        "dfTrainsLearn['beopValue'].hist(bins=200)"
      ],
      "metadata": {
        "id": "K7WQR074WuDQ",
        "colab": {
          "base_uri": "https://localhost:8080/",
          "height": 307
        },
        "outputId": "2c8db750-bf35-40fe-e7ab-b5f5c0da6451"
      },
      "execution_count": 36,
      "outputs": [
        {
          "output_type": "stream",
          "name": "stdout",
          "text": [
            "physics predictions histogram:\n"
          ]
        },
        {
          "output_type": "execute_result",
          "data": {
            "text/plain": [
              "<matplotlib.axes._subplots.AxesSubplot at 0x7f40a2871bd0>"
            ]
          },
          "metadata": {},
          "execution_count": 36
        },
        {
          "output_type": "display_data",
          "data": {
            "text/plain": [
              "<Figure size 432x288 with 1 Axes>"
            ],
            "image/png": "[encoded data removed]"
          },
          "metadata": {
            "needs_background": "light"
          }
        }
      ]
    },
    {
      "cell_type": "code",
      "source": [
        "dfTrainsNextBeop = dfTrainsLearn['beopValue']"
      ],
      "metadata": {
        "id": "k1sGN4n_2bDU"
      },
      "execution_count": 37,
      "outputs": []
    },
    {
      "cell_type": "markdown",
      "source": [
        "Drop some values we are not using at the moment, not needed.\n",
        "\n",
        "Note, this will disable above computations unless you resume at \"Create a learning set\""
      ],
      "metadata": {
        "id": "moXjNcMQu-3C"
      }
    },
    {
      "cell_type": "code",
      "source": [
        "dfTrainsLearn = dfTrainsLearn.drop(columns=['aotuTrainData.tenantCarrier',\n",
        "                                            'beopValue',\n",
        "                                            'positionHistoryList',\n",
        "                                            'locomotiveList',\n",
        "                                            'subdivisionList',\n",
        "                                            'trainActualPositionList',\n",
        "                                            'trainEstimatedPositionList',\n",
        "                                            'aotuTrainData.routeLocationList'])"
      ],
      "metadata": {
        "id": "hBmsqv6IuVVO"
      },
      "execution_count": 38,
      "outputs": []
    },
    {
      "cell_type": "markdown",
      "source": [
        "Burst dates into subcolumns that might prove useful"
      ],
      "metadata": {
        "id": "22_dmiSmoYyq"
      }
    },
    {
      "cell_type": "code",
      "source": [
        "tabular.core.make_date(dfTrainsLearn, 'trainId.trainDate')\n",
        "tabular.core.make_date(dfTrainsLearn, 'lastReportedPosition.positionTime')\n",
        "tabular.core.add_datepart(dfTrainsLearn, 'lastReportedPosition.positionTime')\n",
        "# tabular.core.add_elapsed_times(dfTrainsLearn, 'lastReportedPosition.positionTime')\n"
      ],
      "metadata": {
        "id": "DjTAxScsbHCN",
        "colab": {
          "base_uri": "https://localhost:8080/",
          "height": 487
        },
        "outputId": "aee3a33c-1415-423b-9f73-77c33e4a63b6"
      },
      "execution_count": 39,
      "outputs": [
        {
          "output_type": "execute_result",
          "data": {
            "text/plain": [
              "     ptcLeadLocomotiveId trainId.trainSCAC trainId.trainSection  \\\n",
              "34              BNSF5833                UP                        \n",
              "35              BNSF5833                UP                        \n",
              "36              BNSF5833                UP                        \n",
              "37              BNSF5833                UP                        \n",
              "38              BNSF5833                UP                        \n",
              "...                  ...               ...                  ...   \n",
              "6740              UP9101                UP                        \n",
              "6741              UP9101                UP                        \n",
              "6742              UP9101                UP                        \n",
              "6743              UP9101                UP                        \n",
              "6744              UP9101                UP                        \n",
              "\n",
              "     trainId.trainSymbol  ...  \\\n",
              "34                 MNOEW  ...   \n",
              "35                 MNOEW  ...   \n",
              "36                 MNOEW  ...   \n",
              "37                 MNOEW  ...   \n",
              "38                 MNOEW  ...   \n",
              "...                  ...  ...   \n",
              "6740               MCHCB  ...   \n",
              "6741               MCHCB  ...   \n",
              "6742               MCHCB  ...   \n",
              "6743               MCHCB  ...   \n",
              "6744               MCHCB  ...   \n",
              "\n",
              "     lastReportedPosition.positionTimeIs_quarter_start  \\\n",
              "34                                               False   \n",
              "35                                               False   \n",
              "36                                               False   \n",
              "37                                               False   \n",
              "38                                               False   \n",
              "...                                                ...   \n",
              "6740                                             False   \n",
              "6741                                             False   \n",
              "6742                                             False   \n",
              "6743                                             False   \n",
              "6744                                             False   \n",
              "\n",
              "      lastReportedPosition.positionTimeIs_year_end  \\\n",
              "34                                           False   \n",
              "35                                           False   \n",
              "36                                           False   \n",
              "37                                           False   \n",
              "38                                           False   \n",
              "...                                            ...   \n",
              "6740                                         False   \n",
              "6741                                         False   \n",
              "6742                                         False   \n",
              "6743                                         False   \n",
              "6744                                         False   \n",
              "\n",
              "      lastReportedPosition.positionTimeIs_year_start  \\\n",
              "34                                             False   \n",
              "35                                             False   \n",
              "36                                             False   \n",
              "37                                             False   \n",
              "38                                             False   \n",
              "...                                              ...   \n",
              "6740                                           False   \n",
              "6741                                           False   \n",
              "6742                                           False   \n",
              "6743                                           False   \n",
              "6744                                           False   \n",
              "\n",
              "     lastReportedPosition.positionTimeElapsed  \n",
              "34                               1.655754e+09  \n",
              "35                               1.655755e+09  \n",
              "36                               1.655756e+09  \n",
              "37                               1.655757e+09  \n",
              "38                               1.655758e+09  \n",
              "...                                       ...  \n",
              "6740                             1.655977e+09  \n",
              "6741                             1.655978e+09  \n",
              "6742                             1.655979e+09  \n",
              "6743                             1.655982e+09  \n",
              "6744                             1.655983e+09  \n",
              "\n",
              "[5258 rows x 47 columns]"
            ],
            "text/html": [
              "\n",
              "  <div id=\"df-a3468084-665b-4049-9661-05e3df20d8ec\">\n",
              "    <div class=\"colab-df-container\">\n",
              "      <div>\n",
              "<style scoped>\n",
              "    .dataframe tbody tr th:only-of-type {\n",
              "        vertical-align: middle;\n",
              "    }\n",
              "\n",
              "    .dataframe tbody tr th {\n",
              "        vertical-align: top;\n",
              "    }\n",
              "\n",
              "    .dataframe thead th {\n",
              "        text-align: right;\n",
              "    }\n",
              "</style>\n",
              "<table border=\"1\" class=\"dataframe\">\n",
              "  <thead>\n",
              "    <tr style=\"text-align: right;\">\n",
              "      <th></th>\n",
              "      <th>ptcLeadLocomotiveId</th>\n",
              "      <th>trainId.trainSCAC</th>\n",
              "      <th>trainId.trainSection</th>\n",
              "      <th>trainId.trainSymbol</th>\n",
              "      <th>...</th>\n",
              "      <th>lastReportedPosition.positionTimeIs_quarter_start</th>\n",
              "      <th>lastReportedPosition.positionTimeIs_year_end</th>\n",
              "      <th>lastReportedPosition.positionTimeIs_year_start</th>\n",
              "      <th>lastReportedPosition.positionTimeElapsed</th>\n",
              "    </tr>\n",
              "  </thead>\n",
              "  <tbody>\n",
              "    <tr>\n",
              "      <th>34</th>\n",
              "      <td>BNSF5833</td>\n",
              "      <td>UP</td>\n",
              "      <td></td>\n",
              "      <td>MNOEW</td>\n",
              "      <td>...</td>\n",
              "      <td>False</td>\n",
              "      <td>False</td>\n",
              "      <td>False</td>\n",
              "      <td>1.655754e+09</td>\n",
              "    </tr>\n",
              "    <tr>\n",
              "      <th>35</th>\n",
              "      <td>BNSF5833</td>\n",
              "      <td>UP</td>\n",
              "      <td></td>\n",
              "      <td>MNOEW</td>\n",
              "      <td>...</td>\n",
              "      <td>False</td>\n",
              "      <td>False</td>\n",
              "      <td>False</td>\n",
              "      <td>1.655755e+09</td>\n",
              "    </tr>\n",
              "    <tr>\n",
              "      <th>36</th>\n",
              "      <td>BNSF5833</td>\n",
              "      <td>UP</td>\n",
              "      <td></td>\n",
              "      <td>MNOEW</td>\n",
              "      <td>...</td>\n",
              "      <td>False</td>\n",
              "      <td>False</td>\n",
              "      <td>False</td>\n",
              "      <td>1.655756e+09</td>\n",
              "    </tr>\n",
              "    <tr>\n",
              "      <th>37</th>\n",
              "      <td>BNSF5833</td>\n",
              "      <td>UP</td>\n",
              "      <td></td>\n",
              "      <td>MNOEW</td>\n",
              "      <td>...</td>\n",
              "      <td>False</td>\n",
              "      <td>False</td>\n",
              "      <td>False</td>\n",
              "      <td>1.655757e+09</td>\n",
              "    </tr>\n",
              "    <tr>\n",
              "      <th>38</th>\n",
              "      <td>BNSF5833</td>\n",
              "      <td>UP</td>\n",
              "      <td></td>\n",
              "      <td>MNOEW</td>\n",
              "      <td>...</td>\n",
              "      <td>False</td>\n",
              "      <td>False</td>\n",
              "      <td>False</td>\n",
              "      <td>1.655758e+09</td>\n",
              "    </tr>\n",
              "    <tr>\n",
              "      <th>...</th>\n",
              "      <td>...</td>\n",
              "      <td>...</td>\n",
              "      <td>...</td>\n",
              "      <td>...</td>\n",
              "      <td>...</td>\n",
              "      <td>...</td>\n",
              "      <td>...</td>\n",
              "      <td>...</td>\n",
              "      <td>...</td>\n",
              "    </tr>\n",
              "    <tr>\n",
              "      <th>6740</th>\n",
              "      <td>UP9101</td>\n",
              "      <td>UP</td>\n",
              "      <td></td>\n",
              "      <td>MCHCB</td>\n",
              "      <td>...</td>\n",
              "      <td>False</td>\n",
              "      <td>False</td>\n",
              "      <td>False</td>\n",
              "      <td>1.655977e+09</td>\n",
              "    </tr>\n",
              "    <tr>\n",
              "      <th>6741</th>\n",
              "      <td>UP9101</td>\n",
              "      <td>UP</td>\n",
              "      <td></td>\n",
              "      <td>MCHCB</td>\n",
              "      <td>...</td>\n",
              "      <td>False</td>\n",
              "      <td>False</td>\n",
              "      <td>False</td>\n",
              "      <td>1.655978e+09</td>\n",
              "    </tr>\n",
              "    <tr>\n",
              "      <th>6742</th>\n",
              "      <td>UP9101</td>\n",
              "      <td>UP</td>\n",
              "      <td></td>\n",
              "      <td>MCHCB</td>\n",
              "      <td>...</td>\n",
              "      <td>False</td>\n",
              "      <td>False</td>\n",
              "      <td>False</td>\n",
              "      <td>1.655979e+09</td>\n",
              "    </tr>\n",
              "    <tr>\n",
              "      <th>6743</th>\n",
              "      <td>UP9101</td>\n",
              "      <td>UP</td>\n",
              "      <td></td>\n",
              "      <td>MCHCB</td>\n",
              "      <td>...</td>\n",
              "      <td>False</td>\n",
              "      <td>False</td>\n",
              "      <td>False</td>\n",
              "      <td>1.655982e+09</td>\n",
              "    </tr>\n",
              "    <tr>\n",
              "      <th>6744</th>\n",
              "      <td>UP9101</td>\n",
              "      <td>UP</td>\n",
              "      <td></td>\n",
              "      <td>MCHCB</td>\n",
              "      <td>...</td>\n",
              "      <td>False</td>\n",
              "      <td>False</td>\n",
              "      <td>False</td>\n",
              "      <td>1.655983e+09</td>\n",
              "    </tr>\n",
              "  </tbody>\n",
              "</table>\n",
              "<p>5258 rows × 47 columns</p>\n",
              "</div>\n",
              "      <button class=\"colab-df-convert\" onclick=\"convertToInteractive('df-a3468084-665b-4049-9661-05e3df20d8ec')\"\n",
              "              title=\"Convert this dataframe to an interactive table.\"\n",
              "              style=\"display:none;\">\n",
              "        \n",
              "  <svg xmlns=\"http://www.w3.org/2000/svg\" height=\"24px\"viewBox=\"0 0 24 24\"\n",
              "       width=\"24px\">\n",
              "    <path d=\"M0 0h24v24H0V0z\" fill=\"none\"/>\n",
              "    <path d=\"M18.56 5.44l.94 2.06.94-2.06 2.06-.94-2.06-.94-.94-2.06-.94 2.06-2.06.94zm-11 1L8.5 8.5l.94-2.06 2.06-.94-2.06-.94L8.5 2.5l-.94 2.06-2.06.94zm10 10l.94 2.06.94-2.06 2.06-.94-2.06-.94-.94-2.06-.94 2.06-2.06.94z\"/><path d=\"M17.41 7.96l-1.37-1.37c-.4-.4-.92-.59-1.43-.59-.52 0-1.04.2-1.43.59L10.3 9.45l-7.72 7.72c-.78.78-.78 2.05 0 2.83L4 21.41c.39.39.9.59 1.41.59.51 0 1.02-.2 1.41-.59l7.78-7.78 2.81-2.81c.8-.78.8-2.07 0-2.86zM5.41 20L4 18.59l7.72-7.72 1.47 1.35L5.41 20z\"/>\n",
              "  </svg>\n",
              "      </button>\n",
              "      \n",
              "  <style>\n",
              "    .colab-df-container {\n",
              "      display:flex;\n",
              "      flex-wrap:wrap;\n",
              "      gap: 12px;\n",
              "    }\n",
              "\n",
              "    .colab-df-convert {\n",
              "      background-color: #E8F0FE;\n",
              "      border: none;\n",
              "      border-radius: 50%;\n",
              "      cursor: pointer;\n",
              "      display: none;\n",
              "      fill: #1967D2;\n",
              "      height: 32px;\n",
              "      padding: 0 0 0 0;\n",
              "      width: 32px;\n",
              "    }\n",
              "\n",
              "    .colab-df-convert:hover {\n",
              "      background-color: #E2EBFA;\n",
              "      box-shadow: 0px 1px 2px rgba(60, 64, 67, 0.3), 0px 1px 3px 1px rgba(60, 64, 67, 0.15);\n",
              "      fill: #174EA6;\n",
              "    }\n",
              "\n",
              "    [theme=dark] .colab-df-convert {\n",
              "      background-color: #3B4455;\n",
              "      fill: #D2E3FC;\n",
              "    }\n",
              "\n",
              "    [theme=dark] .colab-df-convert:hover {\n",
              "      background-color: #434B5C;\n",
              "      box-shadow: 0px 1px 3px 1px rgba(0, 0, 0, 0.15);\n",
              "      filter: drop-shadow(0px 1px 2px rgba(0, 0, 0, 0.3));\n",
              "      fill: #FFFFFF;\n",
              "    }\n",
              "  </style>\n",
              "\n",
              "      <script>\n",
              "        const buttonEl =\n",
              "          document.querySelector('#df-a3468084-665b-4049-9661-05e3df20d8ec button.colab-df-convert');\n",
              "        buttonEl.style.display =\n",
              "          google.colab.kernel.accessAllowed ? 'block' : 'none';\n",
              "\n",
              "        async function convertToInteractive(key) {\n",
              "          const element = document.querySelector('#df-a3468084-665b-4049-9661-05e3df20d8ec');\n",
              "          const dataTable =\n",
              "            await google.colab.kernel.invokeFunction('convertToInteractive',\n",
              "                                                     [key], {});\n",
              "          if (!dataTable) return;\n",
              "\n",
              "          const docLinkHtml = 'Like what you see? Visit the ' +\n",
              "            '<a target=\"_blank\" href=https://colab.research.google.com/notebooks/data_table.ipynb>data table notebook</a>'\n",
              "            + ' to learn more about interactive tables.';\n",
              "          element.innerHTML = '';\n",
              "          dataTable['output_type'] = 'display_data';\n",
              "          await google.colab.output.renderOutput(dataTable, element);\n",
              "          const docLink = document.createElement('div');\n",
              "          docLink.innerHTML = docLinkHtml;\n",
              "          element.appendChild(docLink);\n",
              "        }\n",
              "      </script>\n",
              "    </div>\n",
              "  </div>\n",
              "  "
            ]
          },
          "metadata": {},
          "execution_count": 39
        }
      ]
    },
    {
      "cell_type": "code",
      "source": [
        "print(dfTrainsLearn.shape)\n",
        "print(dfTrainsLearnActuals.shape)\n",
        "\n",
        "print(dfTrainsLearn.info())\n",
        "print(dfTrainsLearn.iloc[10])"
      ],
      "metadata": {
        "id": "jTVXPBSQ2gp3",
        "colab": {
          "base_uri": "https://localhost:8080/"
        },
        "outputId": "1d204dfc-0d9a-4309-9192-238fcd197ec4"
      },
      "execution_count": 40,
      "outputs": [
        {
          "output_type": "stream",
          "name": "stdout",
          "text": [
            "(5258, 47)\n",
            "(6747,)\n",
            "<class 'pandas.core.frame.DataFrame'>\n",
            "Int64Index: 5258 entries, 34 to 6744\n",
            "Data columns (total 47 columns):\n",
            " #   Column                                                         Non-Null Count  Dtype         \n",
            "---  ------                                                         --------------  -----         \n",
            " 0   ptcLeadLocomotiveId                                            5258 non-null   object        \n",
            " 1   trainId.trainSCAC                                              5258 non-null   category      \n",
            " 2   trainId.trainSection                                           5258 non-null   category      \n",
            " 3   trainId.trainSymbol                                            5258 non-null   object        \n",
            " 4   trainId.trainDate                                              5258 non-null   datetime64[ns]\n",
            " 5   lastReportedPosition.speedMPH                                  5258 non-null   int64         \n",
            " 6   lastReportedPosition.milepostLocation.subdivisionId            5258 non-null   int64         \n",
            " 7   lastReportedPosition.milepostLocation.trackName                5258 non-null   category      \n",
            " 8   lastReportedPosition.milepostLocation.milepost.milepostNumber  5258 non-null   float64       \n",
            " 9   aotuTrainData.priorityCode                                     5258 non-null   category      \n",
            " 10  aotuTrainData.categoryCode                                     5258 non-null   category      \n",
            " 11  aotuTrainData.authorityRangeCode                               5258 non-null   category      \n",
            " 12  aotuTrainData.ownershipCode                                    5258 non-null   category      \n",
            " 13  aotuTrainData.totalCarWeight                                   5258 non-null   float64       \n",
            " 14  aotuTrainData.totalCarLength                                   5258 non-null   float64       \n",
            " 15  aotuTrainData.totalLocomotiveWeight                            5258 non-null   float64       \n",
            " 16  aotuTrainData.totalLocomotiveLength                            5258 non-null   float64       \n",
            " 17  aotuTrainData.actualTonsPerAxle                                5258 non-null   float64       \n",
            " 18  aotuTrainData.heavy143TonCarCount                              5258 non-null   float64       \n",
            " 19  aotuTrainData.heavy158TonCarCount                              5258 non-null   float64       \n",
            " 20  aotuTrainData.over158TonCarCount                               5258 non-null   float64       \n",
            " 21  aotuTrainData.highWideCarCount                                 5258 non-null   float64       \n",
            " 22  aotuTrainData.eventCode                                        5258 non-null   category      \n",
            " 23  maximumTrainSpeed                                              5258 non-null   float64       \n",
            " 24  loadedCarCount                                                 5258 non-null   float64       \n",
            " 25  emptyCarCount                                                  5258 non-null   float64       \n",
            " 26  trainLength                                                    5258 non-null   float64       \n",
            " 27  trailingTonnage                                                5258 non-null   float64       \n",
            " 28  milepost                                                       5258 non-null   int64         \n",
            " 29  mpIncr                                                         5258 non-null   bool          \n",
            " 30  symbolType                                                     5258 non-null   category      \n",
            " 31  workLocations                                                  4489 non-null   object        \n",
            " 32  locomotiveCount                                                5258 non-null   int64         \n",
            " 33  nextValue                                                      5258 non-null   float64       \n",
            " 34  lastReportedPosition.positionTimeYear                          5258 non-null   int64         \n",
            " 35  lastReportedPosition.positionTimeMonth                         5258 non-null   int64         \n",
            " 36  lastReportedPosition.positionTimeWeek                          5258 non-null   int64         \n",
            " 37  lastReportedPosition.positionTimeDay                           5258 non-null   int64         \n",
            " 38  lastReportedPosition.positionTimeDayofweek                     5258 non-null   int64         \n",
            " 39  lastReportedPosition.positionTimeDayofyear                     5258 non-null   int64         \n",
            " 40  lastReportedPosition.positionTimeIs_month_end                  5258 non-null   bool          \n",
            " 41  lastReportedPosition.positionTimeIs_month_start                5258 non-null   bool          \n",
            " 42  lastReportedPosition.positionTimeIs_quarter_end                5258 non-null   bool          \n",
            " 43  lastReportedPosition.positionTimeIs_quarter_start              5258 non-null   bool          \n",
            " 44  lastReportedPosition.positionTimeIs_year_end                   5258 non-null   bool          \n",
            " 45  lastReportedPosition.positionTimeIs_year_start                 5258 non-null   bool          \n",
            " 46  lastReportedPosition.positionTimeElapsed                       5258 non-null   float64       \n",
            "dtypes: bool(7), category(9), datetime64[ns](1), float64(17), int64(10), object(3)\n",
            "memory usage: 1.4+ MB\n",
            "None\n",
            "ptcLeadLocomotiveId                                             BNSF5833\n",
            "trainId.trainSCAC                                                     UP\n",
            "trainId.trainSection                                                    \n",
            "trainId.trainSymbol                                                MNOEW\n",
            "trainId.trainDate                                    2022-06-19 00:00:00\n",
            "                                                            ...         \n",
            "lastReportedPosition.positionTimeIs_quarter_end                    False\n",
            "lastReportedPosition.positionTimeIs_quarter_start                  False\n",
            "lastReportedPosition.positionTimeIs_year_end                       False\n",
            "lastReportedPosition.positionTimeIs_year_start                     False\n",
            "lastReportedPosition.positionTimeElapsed                    1655765405.0\n",
            "Name: 44, Length: 47, dtype: object\n"
          ]
        }
      ]
    },
    {
      "cell_type": "markdown",
      "source": [
        "# Use Decision Tree to predict next speed"
      ],
      "metadata": {
        "id": "mg1p1vouBeIB"
      }
    },
    {
      "cell_type": "code",
      "source": [
        "procs = [tabular.core.Categorify, tabular.core.FillMissing]"
      ],
      "metadata": {
        "id": "F9TApkZWbAbz"
      },
      "execution_count": 41,
      "outputs": []
    },
    {
      "cell_type": "markdown",
      "source": [
        "Breakdown the data by day of year - we will train with older data and then test the model with newer values.\n",
        "Note: this simple logic will fail at the begining of a new year!"
      ],
      "metadata": {
        "id": "yjaTPkTntR7F"
      }
    },
    {
      "cell_type": "code",
      "source": [
        "dateValues = dfTrainsLearn.groupby(['lastReportedPosition.positionTimeDayofyear'])['lastReportedPosition.positionTimeDayofyear'].count()\n",
        "print(dateValues)"
      ],
      "metadata": {
        "id": "gDgYzofcvcpM",
        "colab": {
          "base_uri": "https://localhost:8080/"
        },
        "outputId": "b0aa55e2-cc11-4ca9-9eed-5c81d7c0037d"
      },
      "execution_count": 42,
      "outputs": [
        {
          "output_type": "stream",
          "name": "stdout",
          "text": [
            "lastReportedPosition.positionTimeDayofyear\n",
            "171    399\n",
            "172    404\n",
            "173    467\n",
            "174    631\n",
            "175    517\n",
            "176    471\n",
            "177    487\n",
            "178    450\n",
            "179    451\n",
            "180    432\n",
            "181    452\n",
            "182     97\n",
            "Name: lastReportedPosition.positionTimeDayofyear, dtype: int64\n"
          ]
        }
      ]
    },
    {
      "cell_type": "code",
      "source": [
        "print(\"We will partition this set at day of year:\", dateValues.index[math.trunc(dateValues.size * .66)])"
      ],
      "metadata": {
        "colab": {
          "base_uri": "https://localhost:8080/"
        },
        "id": "cJkyrhnpt2T2",
        "outputId": "701d974e-77f7-48af-fd3c-48c54542f996"
      },
      "execution_count": 43,
      "outputs": [
        {
          "output_type": "stream",
          "name": "stdout",
          "text": [
            "We will partition this set at day of year: 178\n"
          ]
        }
      ]
    },
    {
      "cell_type": "code",
      "source": [
        "cond = ( dfTrainsLearn['lastReportedPosition.positionTimeDayofyear'] <= dateValues.index[math.trunc(dateValues.size * .66)] )\n",
        "trainIdx = np.where(cond)[0]\n",
        "validIdx = np.where(~cond)[0]\n",
        "splits = (list(trainIdx), list(validIdx))"
      ],
      "metadata": {
        "id": "nIURJVe5vc_n"
      },
      "execution_count": 44,
      "outputs": []
    },
    {
      "cell_type": "code",
      "source": [
        "#dep_var = 'nextSpeed'"
      ],
      "metadata": {
        "id": "rPW42wgnOLO_"
      },
      "execution_count": 45,
      "outputs": []
    },
    {
      "cell_type": "code",
      "source": [
        "cont,cat = tabular.core.cont_cat_split(dfTrainsLearn, 1, dep_var=dep_var)"
      ],
      "metadata": {
        "id": "gHDAeThzyzc6"
      },
      "execution_count": 46,
      "outputs": []
    },
    {
      "cell_type": "code",
      "source": [
        "to = tabular.core.TabularPandas(dfTrainsLearn, procs, cat, cont, y_names=dep_var, splits=splits)"
      ],
      "metadata": {
        "id": "xz1ZonvnO-I7"
      },
      "execution_count": 47,
      "outputs": []
    },
    {
      "cell_type": "code",
      "source": [
        "len(to.train),len(to.valid)"
      ],
      "metadata": {
        "id": "0DJly6_Z94uI",
        "colab": {
          "base_uri": "https://localhost:8080/"
        },
        "outputId": "773747ad-8d78-4323-ed4c-1ac7976b446d"
      },
      "execution_count": 48,
      "outputs": [
        {
          "output_type": "execute_result",
          "data": {
            "text/plain": [
              "(3826, 1432)"
            ]
          },
          "metadata": {},
          "execution_count": 48
        }
      ]
    },
    {
      "cell_type": "code",
      "source": [
        "to.show()"
      ],
      "metadata": {
        "id": "xoEQAME4-n0M",
        "colab": {
          "base_uri": "https://localhost:8080/",
          "height": 383
        },
        "outputId": "315eceac-0d82-41fe-cc43-27cbdf8bbf03"
      },
      "execution_count": 49,
      "outputs": [
        {
          "output_type": "display_data",
          "data": {
            "text/plain": [
              "<IPython.core.display.HTML object>"
            ],
            "text/html": [
              "<table border=\"1\" class=\"dataframe\">\n",
              "  <thead>\n",
              "    <tr style=\"text-align: right;\">\n",
              "      <th></th>\n",
              "      <th>ptcLeadLocomotiveId</th>\n",
              "      <th>trainId.trainSCAC</th>\n",
              "      <th>trainId.trainSection</th>\n",
              "      <th>trainId.trainSymbol</th>\n",
              "      <th>trainId.trainDate</th>\n",
              "      <th>lastReportedPosition.milepostLocation.subdivisionId</th>\n",
              "      <th>lastReportedPosition.milepostLocation.trackName</th>\n",
              "      <th>aotuTrainData.priorityCode</th>\n",
              "      <th>aotuTrainData.categoryCode</th>\n",
              "      <th>aotuTrainData.authorityRangeCode</th>\n",
              "      <th>aotuTrainData.ownershipCode</th>\n",
              "      <th>aotuTrainData.eventCode</th>\n",
              "      <th>mpIncr</th>\n",
              "      <th>symbolType</th>\n",
              "      <th>workLocations</th>\n",
              "      <th>lastReportedPosition.positionTimeYear</th>\n",
              "      <th>lastReportedPosition.positionTimeIs_month_end</th>\n",
              "      <th>lastReportedPosition.positionTimeIs_month_start</th>\n",
              "      <th>lastReportedPosition.positionTimeIs_quarter_end</th>\n",
              "      <th>lastReportedPosition.positionTimeIs_quarter_start</th>\n",
              "      <th>lastReportedPosition.positionTimeIs_year_end</th>\n",
              "      <th>lastReportedPosition.positionTimeIs_year_start</th>\n",
              "      <th>lastReportedPosition.speedMPH</th>\n",
              "      <th>lastReportedPosition.milepostLocation.milepost.milepostNumber</th>\n",
              "      <th>aotuTrainData.totalCarWeight</th>\n",
              "      <th>aotuTrainData.totalCarLength</th>\n",
              "      <th>aotuTrainData.totalLocomotiveWeight</th>\n",
              "      <th>aotuTrainData.totalLocomotiveLength</th>\n",
              "      <th>aotuTrainData.actualTonsPerAxle</th>\n",
              "      <th>aotuTrainData.heavy143TonCarCount</th>\n",
              "      <th>aotuTrainData.heavy158TonCarCount</th>\n",
              "      <th>aotuTrainData.over158TonCarCount</th>\n",
              "      <th>aotuTrainData.highWideCarCount</th>\n",
              "      <th>maximumTrainSpeed</th>\n",
              "      <th>loadedCarCount</th>\n",
              "      <th>emptyCarCount</th>\n",
              "      <th>trainLength</th>\n",
              "      <th>trailingTonnage</th>\n",
              "      <th>milepost</th>\n",
              "      <th>locomotiveCount</th>\n",
              "      <th>lastReportedPosition.positionTimeMonth</th>\n",
              "      <th>lastReportedPosition.positionTimeWeek</th>\n",
              "      <th>lastReportedPosition.positionTimeDay</th>\n",
              "      <th>lastReportedPosition.positionTimeDayofweek</th>\n",
              "      <th>lastReportedPosition.positionTimeDayofyear</th>\n",
              "      <th>lastReportedPosition.positionTimeElapsed</th>\n",
              "      <th>nextValue</th>\n",
              "    </tr>\n",
              "  </thead>\n",
              "  <tbody>\n",
              "    <tr>\n",
              "      <th>34</th>\n",
              "      <td>BNSF5833</td>\n",
              "      <td>UP</td>\n",
              "      <td></td>\n",
              "      <td>MNOEW</td>\n",
              "      <td>2022-06-19</td>\n",
              "      <td>106</td>\n",
              "      <td>MAIN</td>\n",
              "      <td>4.0</td>\n",
              "      <td>12.0</td>\n",
              "      <td>2.0</td>\n",
              "      <td>2.0</td>\n",
              "      <td>0.0</td>\n",
              "      <td>True</td>\n",
              "      <td>M</td>\n",
              "      <td>#na#</td>\n",
              "      <td>2022</td>\n",
              "      <td>False</td>\n",
              "      <td>False</td>\n",
              "      <td>False</td>\n",
              "      <td>False</td>\n",
              "      <td>False</td>\n",
              "      <td>False</td>\n",
              "      <td>8</td>\n",
              "      <td>720.410889</td>\n",
              "      <td>100343000.0</td>\n",
              "      <td>857270.0</td>\n",
              "      <td>4200000.0</td>\n",
              "      <td>8780.0</td>\n",
              "      <td>65535.0</td>\n",
              "      <td>6.0</td>\n",
              "      <td>0.0</td>\n",
              "      <td>0.0</td>\n",
              "      <td>0.0</td>\n",
              "      <td>50.0</td>\n",
              "      <td>10.0</td>\n",
              "      <td>115.0</td>\n",
              "      <td>7274.0</td>\n",
              "      <td>5018.0</td>\n",
              "      <td>720</td>\n",
              "      <td>1</td>\n",
              "      <td>6</td>\n",
              "      <td>25</td>\n",
              "      <td>20</td>\n",
              "      <td>0</td>\n",
              "      <td>171</td>\n",
              "      <td>1.655754e+09</td>\n",
              "      <td>728.696594</td>\n",
              "    </tr>\n",
              "    <tr>\n",
              "      <th>35</th>\n",
              "      <td>BNSF5833</td>\n",
              "      <td>UP</td>\n",
              "      <td></td>\n",
              "      <td>MNOEW</td>\n",
              "      <td>2022-06-19</td>\n",
              "      <td>106</td>\n",
              "      <td>MAIN</td>\n",
              "      <td>4.0</td>\n",
              "      <td>12.0</td>\n",
              "      <td>2.0</td>\n",
              "      <td>2.0</td>\n",
              "      <td>0.0</td>\n",
              "      <td>True</td>\n",
              "      <td>M</td>\n",
              "      <td>#na#</td>\n",
              "      <td>2022</td>\n",
              "      <td>False</td>\n",
              "      <td>False</td>\n",
              "      <td>False</td>\n",
              "      <td>False</td>\n",
              "      <td>False</td>\n",
              "      <td>False</td>\n",
              "      <td>28</td>\n",
              "      <td>724.460693</td>\n",
              "      <td>100343000.0</td>\n",
              "      <td>857270.0</td>\n",
              "      <td>4200000.0</td>\n",
              "      <td>8780.0</td>\n",
              "      <td>65535.0</td>\n",
              "      <td>6.0</td>\n",
              "      <td>0.0</td>\n",
              "      <td>0.0</td>\n",
              "      <td>0.0</td>\n",
              "      <td>50.0</td>\n",
              "      <td>10.0</td>\n",
              "      <td>115.0</td>\n",
              "      <td>7274.0</td>\n",
              "      <td>5018.0</td>\n",
              "      <td>724</td>\n",
              "      <td>1</td>\n",
              "      <td>6</td>\n",
              "      <td>25</td>\n",
              "      <td>20</td>\n",
              "      <td>0</td>\n",
              "      <td>171</td>\n",
              "      <td>1.655755e+09</td>\n",
              "      <td>728.696411</td>\n",
              "    </tr>\n",
              "    <tr>\n",
              "      <th>36</th>\n",
              "      <td>BNSF5833</td>\n",
              "      <td>UP</td>\n",
              "      <td></td>\n",
              "      <td>MNOEW</td>\n",
              "      <td>2022-06-19</td>\n",
              "      <td>106</td>\n",
              "      <td>S_LUCAS</td>\n",
              "      <td>4.0</td>\n",
              "      <td>12.0</td>\n",
              "      <td>2.0</td>\n",
              "      <td>2.0</td>\n",
              "      <td>0.0</td>\n",
              "      <td>True</td>\n",
              "      <td>M</td>\n",
              "      <td>#na#</td>\n",
              "      <td>2022</td>\n",
              "      <td>False</td>\n",
              "      <td>False</td>\n",
              "      <td>False</td>\n",
              "      <td>False</td>\n",
              "      <td>False</td>\n",
              "      <td>False</td>\n",
              "      <td>0</td>\n",
              "      <td>728.696106</td>\n",
              "      <td>100343000.0</td>\n",
              "      <td>857270.0</td>\n",
              "      <td>4200000.0</td>\n",
              "      <td>8780.0</td>\n",
              "      <td>65535.0</td>\n",
              "      <td>6.0</td>\n",
              "      <td>0.0</td>\n",
              "      <td>0.0</td>\n",
              "      <td>0.0</td>\n",
              "      <td>50.0</td>\n",
              "      <td>10.0</td>\n",
              "      <td>115.0</td>\n",
              "      <td>7274.0</td>\n",
              "      <td>5018.0</td>\n",
              "      <td>728</td>\n",
              "      <td>1</td>\n",
              "      <td>6</td>\n",
              "      <td>25</td>\n",
              "      <td>20</td>\n",
              "      <td>0</td>\n",
              "      <td>171</td>\n",
              "      <td>1.655756e+09</td>\n",
              "      <td>728.697815</td>\n",
              "    </tr>\n",
              "    <tr>\n",
              "      <th>37</th>\n",
              "      <td>BNSF5833</td>\n",
              "      <td>UP</td>\n",
              "      <td></td>\n",
              "      <td>MNOEW</td>\n",
              "      <td>2022-06-19</td>\n",
              "      <td>106</td>\n",
              "      <td>S_LUCAS</td>\n",
              "      <td>4.0</td>\n",
              "      <td>12.0</td>\n",
              "      <td>2.0</td>\n",
              "      <td>2.0</td>\n",
              "      <td>0.0</td>\n",
              "      <td>True</td>\n",
              "      <td>M</td>\n",
              "      <td>#na#</td>\n",
              "      <td>2022</td>\n",
              "      <td>False</td>\n",
              "      <td>False</td>\n",
              "      <td>False</td>\n",
              "      <td>False</td>\n",
              "      <td>False</td>\n",
              "      <td>False</td>\n",
              "      <td>0</td>\n",
              "      <td>728.696411</td>\n",
              "      <td>100343000.0</td>\n",
              "      <td>857270.0</td>\n",
              "      <td>4200000.0</td>\n",
              "      <td>8780.0</td>\n",
              "      <td>65535.0</td>\n",
              "      <td>6.0</td>\n",
              "      <td>0.0</td>\n",
              "      <td>0.0</td>\n",
              "      <td>0.0</td>\n",
              "      <td>50.0</td>\n",
              "      <td>10.0</td>\n",
              "      <td>115.0</td>\n",
              "      <td>7274.0</td>\n",
              "      <td>5018.0</td>\n",
              "      <td>728</td>\n",
              "      <td>1</td>\n",
              "      <td>6</td>\n",
              "      <td>25</td>\n",
              "      <td>20</td>\n",
              "      <td>0</td>\n",
              "      <td>171</td>\n",
              "      <td>1.655757e+09</td>\n",
              "      <td>728.697021</td>\n",
              "    </tr>\n",
              "    <tr>\n",
              "      <th>38</th>\n",
              "      <td>BNSF5833</td>\n",
              "      <td>UP</td>\n",
              "      <td></td>\n",
              "      <td>MNOEW</td>\n",
              "      <td>2022-06-19</td>\n",
              "      <td>106</td>\n",
              "      <td>S_LUCAS</td>\n",
              "      <td>4.0</td>\n",
              "      <td>12.0</td>\n",
              "      <td>2.0</td>\n",
              "      <td>2.0</td>\n",
              "      <td>0.0</td>\n",
              "      <td>True</td>\n",
              "      <td>M</td>\n",
              "      <td>#na#</td>\n",
              "      <td>2022</td>\n",
              "      <td>False</td>\n",
              "      <td>False</td>\n",
              "      <td>False</td>\n",
              "      <td>False</td>\n",
              "      <td>False</td>\n",
              "      <td>False</td>\n",
              "      <td>0</td>\n",
              "      <td>728.697998</td>\n",
              "      <td>100343000.0</td>\n",
              "      <td>857270.0</td>\n",
              "      <td>4200000.0</td>\n",
              "      <td>8780.0</td>\n",
              "      <td>65535.0</td>\n",
              "      <td>6.0</td>\n",
              "      <td>0.0</td>\n",
              "      <td>0.0</td>\n",
              "      <td>0.0</td>\n",
              "      <td>50.0</td>\n",
              "      <td>10.0</td>\n",
              "      <td>115.0</td>\n",
              "      <td>7274.0</td>\n",
              "      <td>5018.0</td>\n",
              "      <td>728</td>\n",
              "      <td>1</td>\n",
              "      <td>6</td>\n",
              "      <td>25</td>\n",
              "      <td>20</td>\n",
              "      <td>0</td>\n",
              "      <td>171</td>\n",
              "      <td>1.655758e+09</td>\n",
              "      <td>728.696777</td>\n",
              "    </tr>\n",
              "    <tr>\n",
              "      <th>39</th>\n",
              "      <td>BNSF5833</td>\n",
              "      <td>UP</td>\n",
              "      <td></td>\n",
              "      <td>MNOEW</td>\n",
              "      <td>2022-06-19</td>\n",
              "      <td>106</td>\n",
              "      <td>S_LUCAS</td>\n",
              "      <td>4.0</td>\n",
              "      <td>12.0</td>\n",
              "      <td>2.0</td>\n",
              "      <td>2.0</td>\n",
              "      <td>0.0</td>\n",
              "      <td>True</td>\n",
              "      <td>M</td>\n",
              "      <td>#na#</td>\n",
              "      <td>2022</td>\n",
              "      <td>False</td>\n",
              "      <td>False</td>\n",
              "      <td>False</td>\n",
              "      <td>False</td>\n",
              "      <td>False</td>\n",
              "      <td>False</td>\n",
              "      <td>0</td>\n",
              "      <td>728.697388</td>\n",
              "      <td>100343000.0</td>\n",
              "      <td>857270.0</td>\n",
              "      <td>4200000.0</td>\n",
              "      <td>8780.0</td>\n",
              "      <td>65535.0</td>\n",
              "      <td>6.0</td>\n",
              "      <td>0.0</td>\n",
              "      <td>0.0</td>\n",
              "      <td>0.0</td>\n",
              "      <td>50.0</td>\n",
              "      <td>10.0</td>\n",
              "      <td>115.0</td>\n",
              "      <td>7274.0</td>\n",
              "      <td>5018.0</td>\n",
              "      <td>728</td>\n",
              "      <td>1</td>\n",
              "      <td>6</td>\n",
              "      <td>25</td>\n",
              "      <td>20</td>\n",
              "      <td>0</td>\n",
              "      <td>171</td>\n",
              "      <td>1.655759e+09</td>\n",
              "      <td>728.696777</td>\n",
              "    </tr>\n",
              "    <tr>\n",
              "      <th>40</th>\n",
              "      <td>BNSF5833</td>\n",
              "      <td>UP</td>\n",
              "      <td></td>\n",
              "      <td>MNOEW</td>\n",
              "      <td>2022-06-19</td>\n",
              "      <td>106</td>\n",
              "      <td>S_LUCAS</td>\n",
              "      <td>4.0</td>\n",
              "      <td>12.0</td>\n",
              "      <td>2.0</td>\n",
              "      <td>2.0</td>\n",
              "      <td>0.0</td>\n",
              "      <td>True</td>\n",
              "      <td>M</td>\n",
              "      <td>#na#</td>\n",
              "      <td>2022</td>\n",
              "      <td>False</td>\n",
              "      <td>False</td>\n",
              "      <td>False</td>\n",
              "      <td>False</td>\n",
              "      <td>False</td>\n",
              "      <td>False</td>\n",
              "      <td>0</td>\n",
              "      <td>728.696594</td>\n",
              "      <td>100343000.0</td>\n",
              "      <td>857270.0</td>\n",
              "      <td>4200000.0</td>\n",
              "      <td>8780.0</td>\n",
              "      <td>65535.0</td>\n",
              "      <td>6.0</td>\n",
              "      <td>0.0</td>\n",
              "      <td>0.0</td>\n",
              "      <td>0.0</td>\n",
              "      <td>50.0</td>\n",
              "      <td>10.0</td>\n",
              "      <td>115.0</td>\n",
              "      <td>7274.0</td>\n",
              "      <td>5018.0</td>\n",
              "      <td>728</td>\n",
              "      <td>1</td>\n",
              "      <td>6</td>\n",
              "      <td>25</td>\n",
              "      <td>20</td>\n",
              "      <td>0</td>\n",
              "      <td>171</td>\n",
              "      <td>1.655761e+09</td>\n",
              "      <td>728.696777</td>\n",
              "    </tr>\n",
              "    <tr>\n",
              "      <th>41</th>\n",
              "      <td>BNSF5833</td>\n",
              "      <td>UP</td>\n",
              "      <td></td>\n",
              "      <td>MNOEW</td>\n",
              "      <td>2022-06-19</td>\n",
              "      <td>106</td>\n",
              "      <td>S_LUCAS</td>\n",
              "      <td>4.0</td>\n",
              "      <td>12.0</td>\n",
              "      <td>2.0</td>\n",
              "      <td>2.0</td>\n",
              "      <td>0.0</td>\n",
              "      <td>True</td>\n",
              "      <td>M</td>\n",
              "      <td>#na#</td>\n",
              "      <td>2022</td>\n",
              "      <td>False</td>\n",
              "      <td>False</td>\n",
              "      <td>False</td>\n",
              "      <td>False</td>\n",
              "      <td>False</td>\n",
              "      <td>False</td>\n",
              "      <td>0</td>\n",
              "      <td>728.696594</td>\n",
              "      <td>100343000.0</td>\n",
              "      <td>857270.0</td>\n",
              "      <td>4200000.0</td>\n",
              "      <td>8780.0</td>\n",
              "      <td>65535.0</td>\n",
              "      <td>6.0</td>\n",
              "      <td>0.0</td>\n",
              "      <td>0.0</td>\n",
              "      <td>0.0</td>\n",
              "      <td>50.0</td>\n",
              "      <td>10.0</td>\n",
              "      <td>115.0</td>\n",
              "      <td>7274.0</td>\n",
              "      <td>5018.0</td>\n",
              "      <td>728</td>\n",
              "      <td>1</td>\n",
              "      <td>6</td>\n",
              "      <td>25</td>\n",
              "      <td>20</td>\n",
              "      <td>0</td>\n",
              "      <td>171</td>\n",
              "      <td>1.655762e+09</td>\n",
              "      <td>728.696106</td>\n",
              "    </tr>\n",
              "    <tr>\n",
              "      <th>42</th>\n",
              "      <td>BNSF5833</td>\n",
              "      <td>UP</td>\n",
              "      <td></td>\n",
              "      <td>MNOEW</td>\n",
              "      <td>2022-06-19</td>\n",
              "      <td>106</td>\n",
              "      <td>S_LUCAS</td>\n",
              "      <td>4.0</td>\n",
              "      <td>12.0</td>\n",
              "      <td>2.0</td>\n",
              "      <td>2.0</td>\n",
              "      <td>0.0</td>\n",
              "      <td>True</td>\n",
              "      <td>M</td>\n",
              "      <td>#na#</td>\n",
              "      <td>2022</td>\n",
              "      <td>False</td>\n",
              "      <td>False</td>\n",
              "      <td>False</td>\n",
              "      <td>False</td>\n",
              "      <td>False</td>\n",
              "      <td>False</td>\n",
              "      <td>0</td>\n",
              "      <td>728.696777</td>\n",
              "      <td>100343000.0</td>\n",
              "      <td>857270.0</td>\n",
              "      <td>4200000.0</td>\n",
              "      <td>8780.0</td>\n",
              "      <td>65535.0</td>\n",
              "      <td>6.0</td>\n",
              "      <td>0.0</td>\n",
              "      <td>0.0</td>\n",
              "      <td>0.0</td>\n",
              "      <td>50.0</td>\n",
              "      <td>10.0</td>\n",
              "      <td>115.0</td>\n",
              "      <td>7274.0</td>\n",
              "      <td>5018.0</td>\n",
              "      <td>728</td>\n",
              "      <td>1</td>\n",
              "      <td>6</td>\n",
              "      <td>25</td>\n",
              "      <td>20</td>\n",
              "      <td>0</td>\n",
              "      <td>171</td>\n",
              "      <td>1.655763e+09</td>\n",
              "      <td>728.695679</td>\n",
              "    </tr>\n",
              "    <tr>\n",
              "      <th>43</th>\n",
              "      <td>BNSF5833</td>\n",
              "      <td>UP</td>\n",
              "      <td></td>\n",
              "      <td>MNOEW</td>\n",
              "      <td>2022-06-19</td>\n",
              "      <td>106</td>\n",
              "      <td>S_LUCAS</td>\n",
              "      <td>4.0</td>\n",
              "      <td>12.0</td>\n",
              "      <td>2.0</td>\n",
              "      <td>2.0</td>\n",
              "      <td>0.0</td>\n",
              "      <td>True</td>\n",
              "      <td>M</td>\n",
              "      <td>#na#</td>\n",
              "      <td>2022</td>\n",
              "      <td>False</td>\n",
              "      <td>False</td>\n",
              "      <td>False</td>\n",
              "      <td>False</td>\n",
              "      <td>False</td>\n",
              "      <td>False</td>\n",
              "      <td>0</td>\n",
              "      <td>728.696594</td>\n",
              "      <td>100343000.0</td>\n",
              "      <td>857270.0</td>\n",
              "      <td>4200000.0</td>\n",
              "      <td>8780.0</td>\n",
              "      <td>65535.0</td>\n",
              "      <td>6.0</td>\n",
              "      <td>0.0</td>\n",
              "      <td>0.0</td>\n",
              "      <td>0.0</td>\n",
              "      <td>50.0</td>\n",
              "      <td>10.0</td>\n",
              "      <td>115.0</td>\n",
              "      <td>7274.0</td>\n",
              "      <td>5018.0</td>\n",
              "      <td>728</td>\n",
              "      <td>1</td>\n",
              "      <td>6</td>\n",
              "      <td>25</td>\n",
              "      <td>20</td>\n",
              "      <td>0</td>\n",
              "      <td>171</td>\n",
              "      <td>1.655764e+09</td>\n",
              "      <td>728.696411</td>\n",
              "    </tr>\n",
              "  </tbody>\n",
              "</table>"
            ]
          },
          "metadata": {}
        }
      ]
    },
    {
      "cell_type": "code",
      "source": [
        "fastai.save_pickle('/tmp/to.pkl',to)"
      ],
      "metadata": {
        "id": "r-D5hdO3-ypC"
      },
      "execution_count": 50,
      "outputs": []
    },
    {
      "cell_type": "markdown",
      "source": [
        "# Creating the Decision Tree"
      ],
      "metadata": {
        "id": "knWgCrX_A0Ep"
      }
    },
    {
      "cell_type": "code",
      "source": [
        "to = fastai.load_pickle('/tmp/to.pkl')"
      ],
      "metadata": {
        "id": "rtc_YDw0ArMR"
      },
      "execution_count": 51,
      "outputs": []
    },
    {
      "cell_type": "code",
      "source": [
        "xs,y = to.train.xs,to.train.y\n",
        "valid_xs,valid_y = to.valid.xs,to.valid.y"
      ],
      "metadata": {
        "id": "CcGx27DMBMbc"
      },
      "execution_count": 52,
      "outputs": []
    },
    {
      "cell_type": "code",
      "source": [
        "m = DecisionTreeRegressor(max_leaf_nodes=16)\n",
        "m.fit(xs, y);"
      ],
      "metadata": {
        "id": "clTcBmpGBXv6"
      },
      "execution_count": 53,
      "outputs": []
    },
    {
      "cell_type": "markdown",
      "source": [
        "Here is a sample of a Decision Tree with just 16 nodes:"
      ],
      "metadata": {
        "id": "YxzzayblKLsa"
      }
    },
    {
      "cell_type": "code",
      "source": [
        "fastai.draw_tree(m, xs, size=16, leaves_parallel=True, precision=2)"
      ],
      "metadata": {
        "id": "nhXNnHk7CSmF",
        "colab": {
          "base_uri": "https://localhost:8080/",
          "height": 945
        },
        "outputId": "34daff64-524d-4254-e255-16ded5ab5dc2"
      },
      "execution_count": 54,
      "outputs": [
        {
          "output_type": "execute_result",
          "data": {
            "text/plain": [
              "<graphviz.files.Source at 0x7f407a1fd6d0>"
            ],
            "image/svg+xml": "<?xml version=\"1.0\" encoding=\"UTF-8\" standalone=\"no\"?>\n<!DOCTYPE svg PUBLIC \"-//W3C//DTD SVG 1.1//EN\"\n \"http://www.w3.org/Graphics/SVG/1.1/DTD/svg11.dtd\">\n<!-- Generated by graphviz version 2.40.1 (20161225.0304)\n -->\n<!-- Title: Tree Pages: 1 -->\n<svg width=\"1152pt\" height=\"693pt\"\n viewBox=\"0.00 0.00 1152.00 692.93\" xmlns=\"http://www.w3.org/2000/svg\" xmlns:xlink=\"http://www.w3.org/1999/xlink\">\n<g id=\"graph0\" class=\"graph\" transform=\"scale(.3534 .3534) rotate(0) translate(4 1956.8821)\">\n<title>Tree</title>\n<polygon fill=\"#ffffff\" stroke=\"transparent\" points=\"-4,4 -4,-1956.8821 3256,-1956.8821 3256,4 -4,4\"/>\n<!-- 0 -->\n<g id=\"node1\" class=\"node\">\n<title>0</title>\n<path fill=\"#fae4d5\" stroke=\"#000000\" d=\"M2421,-1873C2421,-1873 2260,-1873 2260,-1873 2254,-1873 2248,-1867 2248,-1861 2248,-1861 2248,-1817 2248,-1817 2248,-1811 2254,-1805 2260,-1805 2260,-1805 2421,-1805 2421,-1805 2427,-1805 2433,-1811 2433,-1817 2433,-1817 2433,-1861 2433,-1861 2433,-1867 2427,-1873 2421,-1873\"/>\n<text text-anchor=\"start\" x=\"2287.5\" y=\"-1857.8\" font-family=\"Helvetica,sans-Serif\" font-size=\"14.00\" fill=\"#000000\">milepost ≤ 453.0</text>\n<text text-anchor=\"start\" x=\"2256\" y=\"-1842.8\" font-family=\"Helvetica,sans-Serif\" font-size=\"14.00\" fill=\"#000000\">squared_error = 30741.31</text>\n<text text-anchor=\"start\" x=\"2288.5\" y=\"-1827.8\" font-family=\"Helvetica,sans-Serif\" font-size=\"14.00\" fill=\"#000000\">samples = 3826</text>\n<text text-anchor=\"start\" x=\"2292\" y=\"-1812.8\" font-family=\"Helvetica,sans-Serif\" font-size=\"14.00\" fill=\"#000000\">value = 328.62</text>\n</g>\n<!-- 1 -->\n<g id=\"node2\" class=\"node\">\n<title>1</title>\n<path fill=\"#fdf5ef\" stroke=\"#000000\" d=\"M1928,-1523C1928,-1523 1461,-1523 1461,-1523 1455,-1523 1449,-1517 1449,-1511 1449,-1511 1449,-1467 1449,-1467 1449,-1461 1455,-1455 1461,-1455 1461,-1455 1928,-1455 1928,-1455 1934,-1455 1940,-1461 1940,-1467 1940,-1467 1940,-1511 1940,-1511 1940,-1517 1934,-1523 1928,-1523\"/>\n<text text-anchor=\"start\" x=\"1457\" y=\"-1507.8\" font-family=\"Helvetica,sans-Serif\" font-size=\"14.00\" fill=\"#000000\">lastReportedPosition.milepostLocation.milepost.milepostNumber ≤ 260.31</text>\n<text text-anchor=\"start\" x=\"1614\" y=\"-1492.8\" font-family=\"Helvetica,sans-Serif\" font-size=\"14.00\" fill=\"#000000\">squared_error = 1015.28</text>\n<text text-anchor=\"start\" x=\"1642.5\" y=\"-1477.8\" font-family=\"Helvetica,sans-Serif\" font-size=\"14.00\" fill=\"#000000\">samples = 3266</text>\n<text text-anchor=\"start\" x=\"1646\" y=\"-1462.8\" font-family=\"Helvetica,sans-Serif\" font-size=\"14.00\" fill=\"#000000\">value = 257.22</text>\n</g>\n<!-- 0&#45;&gt;1 -->\n<g id=\"edge1\" class=\"edge\">\n<title>0&#45;&gt;1</title>\n<path fill=\"none\" stroke=\"#000000\" d=\"M2277.6775,-1804.963C2157.0759,-1739.6216 1893.8006,-1596.9802 1766.4019,-1527.9562\"/>\n<polygon fill=\"#000000\" stroke=\"#000000\" points=\"1767.9276,-1524.8021 1757.4679,-1523.1157 1764.593,-1530.9568 1767.9276,-1524.8021\"/>\n<text text-anchor=\"middle\" x=\"1764.5897\" y=\"-1543.3798\" font-family=\"Helvetica,sans-Serif\" font-size=\"14.00\" fill=\"#000000\">True</text>\n</g>\n<!-- 2 -->\n<g id=\"node27\" class=\"node\">\n<title>2</title>\n<path fill=\"#e6843e\" stroke=\"#000000\" d=\"M2966,-1523C2966,-1523 2499,-1523 2499,-1523 2493,-1523 2487,-1517 2487,-1511 2487,-1511 2487,-1467 2487,-1467 2487,-1461 2493,-1455 2499,-1455 2499,-1455 2966,-1455 2966,-1455 2972,-1455 2978,-1461 2978,-1467 2978,-1467 2978,-1511 2978,-1511 2978,-1517 2972,-1523 2966,-1523\"/>\n<text text-anchor=\"start\" x=\"2495\" y=\"-1507.8\" font-family=\"Helvetica,sans-Serif\" font-size=\"14.00\" fill=\"#000000\">lastReportedPosition.milepostLocation.milepost.milepostNumber ≤ 715.82</text>\n<text text-anchor=\"start\" x=\"2656\" y=\"-1492.8\" font-family=\"Helvetica,sans-Serif\" font-size=\"14.00\" fill=\"#000000\">squared_error = 963.74</text>\n<text text-anchor=\"start\" x=\"2684.5\" y=\"-1477.8\" font-family=\"Helvetica,sans-Serif\" font-size=\"14.00\" fill=\"#000000\">samples = 560</text>\n<text text-anchor=\"start\" x=\"2684\" y=\"-1462.8\" font-family=\"Helvetica,sans-Serif\" font-size=\"14.00\" fill=\"#000000\">value = 745.05</text>\n</g>\n<!-- 0&#45;&gt;2 -->\n<g id=\"edge26\" class=\"edge\">\n<title>0&#45;&gt;2</title>\n<path fill=\"none\" stroke=\"#000000\" d=\"M2378.8003,-1804.8033C2451.3465,-1740.0299 2608.5084,-1599.7068 2686.5763,-1530.0033\"/>\n<polygon fill=\"#000000\" stroke=\"#000000\" points=\"2689.2049,-1532.3485 2694.3332,-1523.0775 2684.5427,-1527.1269 2689.2049,-1532.3485\"/>\n<text text-anchor=\"middle\" x=\"2692.9204\" y=\"-1544.3375\" font-family=\"Helvetica,sans-Serif\" font-size=\"14.00\" fill=\"#000000\">False</text>\n</g>\n<!-- 3 -->\n<g id=\"node3\" class=\"node\">\n<title>3</title>\n<path fill=\"#fefaf7\" stroke=\"#000000\" d=\"M910,-1173C910,-1173 765,-1173 765,-1173 759,-1173 753,-1167 753,-1161 753,-1161 753,-1117 753,-1117 753,-1111 759,-1105 765,-1105 765,-1105 910,-1105 910,-1105 916,-1105 922,-1111 922,-1117 922,-1117 922,-1161 922,-1161 922,-1167 916,-1173 910,-1173\"/>\n<text text-anchor=\"start\" x=\"797.5\" y=\"-1157.8\" font-family=\"Helvetica,sans-Serif\" font-size=\"14.00\" fill=\"#000000\">mpIncr ≤ 1.5</text>\n<text text-anchor=\"start\" x=\"761\" y=\"-1142.8\" font-family=\"Helvetica,sans-Serif\" font-size=\"14.00\" fill=\"#000000\">squared_error = 543.39</text>\n<text text-anchor=\"start\" x=\"785.5\" y=\"-1127.8\" font-family=\"Helvetica,sans-Serif\" font-size=\"14.00\" fill=\"#000000\">samples = 1660</text>\n<text text-anchor=\"start\" x=\"789\" y=\"-1112.8\" font-family=\"Helvetica,sans-Serif\" font-size=\"14.00\" fill=\"#000000\">value = 235.85</text>\n</g>\n<!-- 1&#45;&gt;3 -->\n<g id=\"edge2\" class=\"edge\">\n<title>1&#45;&gt;3</title>\n<path fill=\"none\" stroke=\"#000000\" d=\"M1611.1581,-1454.963C1450.365,-1389.2949 1098.3998,-1245.5518 930.3653,-1176.9263\"/>\n<polygon fill=\"#000000\" stroke=\"#000000\" points=\"931.6158,-1173.6564 921.0348,-1173.1157 928.9692,-1180.1368 931.6158,-1173.6564\"/>\n</g>\n<!-- 4 -->\n<g id=\"node14\" class=\"node\">\n<title>4</title>\n<path fill=\"#fcf0e7\" stroke=\"#000000\" d=\"M1767,-1173C1767,-1173 1622,-1173 1622,-1173 1616,-1173 1610,-1167 1610,-1161 1610,-1161 1610,-1117 1610,-1117 1610,-1111 1616,-1105 1622,-1105 1622,-1105 1767,-1105 1767,-1105 1773,-1105 1779,-1111 1779,-1117 1779,-1117 1779,-1161 1779,-1161 1779,-1167 1773,-1173 1767,-1173\"/>\n<text text-anchor=\"start\" x=\"1654.5\" y=\"-1157.8\" font-family=\"Helvetica,sans-Serif\" font-size=\"14.00\" fill=\"#000000\">mpIncr ≤ 1.5</text>\n<text text-anchor=\"start\" x=\"1618\" y=\"-1142.8\" font-family=\"Helvetica,sans-Serif\" font-size=\"14.00\" fill=\"#000000\">squared_error = 543.08</text>\n<text text-anchor=\"start\" x=\"1642.5\" y=\"-1127.8\" font-family=\"Helvetica,sans-Serif\" font-size=\"14.00\" fill=\"#000000\">samples = 1606</text>\n<text text-anchor=\"start\" x=\"1646\" y=\"-1112.8\" font-family=\"Helvetica,sans-Serif\" font-size=\"14.00\" fill=\"#000000\">value = 279.31</text>\n</g>\n<!-- 1&#45;&gt;4 -->\n<g id=\"edge13\" class=\"edge\">\n<title>1&#45;&gt;4</title>\n<path fill=\"none\" stroke=\"#000000\" d=\"M1694.5,-1454.8033C1694.5,-1391.0768 1694.5,-1254.2228 1694.5,-1183.4376\"/>\n<polygon fill=\"#000000\" stroke=\"#000000\" points=\"1698.0001,-1183.0775 1694.5,-1173.0775 1691.0001,-1183.0775 1698.0001,-1183.0775\"/>\n</g>\n<!-- 7 -->\n<g id=\"node4\" class=\"node\">\n<title>7</title>\n<path fill=\"#fffdfd\" stroke=\"#000000\" d=\"M493,-823C493,-823 26,-823 26,-823 20,-823 14,-817 14,-811 14,-811 14,-767 14,-767 14,-761 20,-755 26,-755 26,-755 493,-755 493,-755 499,-755 505,-761 505,-767 505,-767 505,-811 505,-811 505,-817 499,-823 493,-823\"/>\n<text text-anchor=\"start\" x=\"22\" y=\"-807.8\" font-family=\"Helvetica,sans-Serif\" font-size=\"14.00\" fill=\"#000000\">lastReportedPosition.milepostLocation.milepost.milepostNumber ≤ 244.43</text>\n<text text-anchor=\"start\" x=\"183\" y=\"-792.8\" font-family=\"Helvetica,sans-Serif\" font-size=\"14.00\" fill=\"#000000\">squared_error = 131.37</text>\n<text text-anchor=\"start\" x=\"211.5\" y=\"-777.8\" font-family=\"Helvetica,sans-Serif\" font-size=\"14.00\" fill=\"#000000\">samples = 497</text>\n<text text-anchor=\"start\" x=\"211\" y=\"-762.8\" font-family=\"Helvetica,sans-Serif\" font-size=\"14.00\" fill=\"#000000\">value = 219.64</text>\n</g>\n<!-- 3&#45;&gt;7 -->\n<g id=\"edge3\" class=\"edge\">\n<title>3&#45;&gt;7</title>\n<path fill=\"none\" stroke=\"#000000\" d=\"M781.2904,-1104.963C673.5995,-1039.7523 438.7633,-897.5504 324.5187,-828.3712\"/>\n<polygon fill=\"#000000\" stroke=\"#000000\" points=\"326.2066,-825.3016 315.8397,-823.1157 322.5807,-831.2894 326.2066,-825.3016\"/>\n</g>\n<!-- 8 -->\n<g id=\"node7\" class=\"node\">\n<title>8</title>\n<path fill=\"#fef8f4\" stroke=\"#000000\" d=\"M1071,-823C1071,-823 604,-823 604,-823 598,-823 592,-817 592,-811 592,-811 592,-767 592,-767 592,-761 598,-755 604,-755 604,-755 1071,-755 1071,-755 1077,-755 1083,-761 1083,-767 1083,-767 1083,-811 1083,-811 1083,-817 1077,-823 1071,-823\"/>\n<text text-anchor=\"start\" x=\"600\" y=\"-807.8\" font-family=\"Helvetica,sans-Serif\" font-size=\"14.00\" fill=\"#000000\">lastReportedPosition.milepostLocation.milepost.milepostNumber ≤ 228.49</text>\n<text text-anchor=\"start\" x=\"761\" y=\"-792.8\" font-family=\"Helvetica,sans-Serif\" font-size=\"14.00\" fill=\"#000000\">squared_error = 559.24</text>\n<text text-anchor=\"start\" x=\"785.5\" y=\"-777.8\" font-family=\"Helvetica,sans-Serif\" font-size=\"14.00\" fill=\"#000000\">samples = 1163</text>\n<text text-anchor=\"start\" x=\"789\" y=\"-762.8\" font-family=\"Helvetica,sans-Serif\" font-size=\"14.00\" fill=\"#000000\">value = 242.77</text>\n</g>\n<!-- 3&#45;&gt;8 -->\n<g id=\"edge6\" class=\"edge\">\n<title>3&#45;&gt;8</title>\n<path fill=\"none\" stroke=\"#000000\" d=\"M837.5,-1104.8033C837.5,-1041.0768 837.5,-904.2228 837.5,-833.4376\"/>\n<polygon fill=\"#000000\" stroke=\"#000000\" points=\"841.0001,-833.0775 837.5,-823.0775 834.0001,-833.0775 841.0001,-833.0775\"/>\n</g>\n<!-- 29 -->\n<g id=\"node5\" class=\"node\">\n<title>29</title>\n<path fill=\"#ffffff\" stroke=\"#000000\" d=\"M149,-115.5C149,-115.5 12,-115.5 12,-115.5 6,-115.5 0,-109.5 0,-103.5 0,-103.5 0,-74.5 0,-74.5 0,-68.5 6,-62.5 12,-62.5 12,-62.5 149,-62.5 149,-62.5 155,-62.5 161,-68.5 161,-74.5 161,-74.5 161,-103.5 161,-103.5 161,-109.5 155,-115.5 149,-115.5\"/>\n<text text-anchor=\"start\" x=\"8\" y=\"-100.3\" font-family=\"Helvetica,sans-Serif\" font-size=\"14.00\" fill=\"#000000\">squared_error = 60.37</text>\n<text text-anchor=\"start\" x=\"32.5\" y=\"-85.3\" font-family=\"Helvetica,sans-Serif\" font-size=\"14.00\" fill=\"#000000\">samples = 288</text>\n<text text-anchor=\"start\" x=\"32\" y=\"-70.3\" font-family=\"Helvetica,sans-Serif\" font-size=\"14.00\" fill=\"#000000\">value = 213.07</text>\n</g>\n<!-- 7&#45;&gt;29 -->\n<g id=\"edge4\" class=\"edge\">\n<title>7&#45;&gt;29</title>\n<path fill=\"none\" stroke=\"#000000\" d=\"M250.7453,-754.7637C220.5654,-636.7418 121.0119,-247.4264 89.886,-125.7051\"/>\n<polygon fill=\"#000000\" stroke=\"#000000\" points=\"93.2107,-124.5786 87.3423,-115.7574 86.4289,-126.3128 93.2107,-124.5786\"/>\n</g>\n<!-- 30 -->\n<g id=\"node6\" class=\"node\">\n<title>30</title>\n<path fill=\"#fefbf9\" stroke=\"#000000\" d=\"M328,-115.5C328,-115.5 191,-115.5 191,-115.5 185,-115.5 179,-109.5 179,-103.5 179,-103.5 179,-74.5 179,-74.5 179,-68.5 185,-62.5 191,-62.5 191,-62.5 328,-62.5 328,-62.5 334,-62.5 340,-68.5 340,-74.5 340,-74.5 340,-103.5 340,-103.5 340,-109.5 334,-115.5 328,-115.5\"/>\n<text text-anchor=\"start\" x=\"187\" y=\"-100.3\" font-family=\"Helvetica,sans-Serif\" font-size=\"14.00\" fill=\"#000000\">squared_error = 87.61</text>\n<text text-anchor=\"start\" x=\"211.5\" y=\"-85.3\" font-family=\"Helvetica,sans-Serif\" font-size=\"14.00\" fill=\"#000000\">samples = 209</text>\n<text text-anchor=\"start\" x=\"215.5\" y=\"-70.3\" font-family=\"Helvetica,sans-Serif\" font-size=\"14.00\" fill=\"#000000\">value = 228.7</text>\n</g>\n<!-- 7&#45;&gt;30 -->\n<g id=\"edge5\" class=\"edge\">\n<title>7&#45;&gt;30</title>\n<path fill=\"none\" stroke=\"#000000\" d=\"M259.5,-754.7637C259.5,-636.8605 259.5,-248.2087 259.5,-126.0729\"/>\n<polygon fill=\"#000000\" stroke=\"#000000\" points=\"263.0001,-125.7574 259.5,-115.7574 256.0001,-125.7575 263.0001,-125.7574\"/>\n</g>\n<!-- 9 -->\n<g id=\"node8\" class=\"node\">\n<title>9</title>\n<path fill=\"#fefcfa\" stroke=\"#000000\" d=\"M686,-473C686,-473 439,-473 439,-473 433,-473 427,-467 427,-461 427,-461 427,-417 427,-417 427,-411 433,-405 439,-405 439,-405 686,-405 686,-405 692,-405 698,-411 698,-417 698,-417 698,-461 698,-461 698,-467 692,-473 686,-473\"/>\n<text text-anchor=\"start\" x=\"435\" y=\"-457.8\" font-family=\"Helvetica,sans-Serif\" font-size=\"14.00\" fill=\"#000000\">lastReportedPosition.speedMPH ≤ 26.5</text>\n<text text-anchor=\"start\" x=\"486\" y=\"-442.8\" font-family=\"Helvetica,sans-Serif\" font-size=\"14.00\" fill=\"#000000\">squared_error = 264.32</text>\n<text text-anchor=\"start\" x=\"514.5\" y=\"-427.8\" font-family=\"Helvetica,sans-Serif\" font-size=\"14.00\" fill=\"#000000\">samples = 604</text>\n<text text-anchor=\"start\" x=\"514\" y=\"-412.8\" font-family=\"Helvetica,sans-Serif\" font-size=\"14.00\" fill=\"#000000\">value = 226.34</text>\n</g>\n<!-- 8&#45;&gt;9 -->\n<g id=\"edge7\" class=\"edge\">\n<title>8&#45;&gt;9</title>\n<path fill=\"none\" stroke=\"#000000\" d=\"M810.6311,-754.8033C760.0463,-690.4225 650.8181,-551.4049 595.7187,-481.2784\"/>\n<polygon fill=\"#000000\" stroke=\"#000000\" points=\"598.2056,-478.7783 589.2752,-473.0775 592.7013,-483.1031 598.2056,-478.7783\"/>\n</g>\n<!-- 10 -->\n<g id=\"node11\" class=\"node\">\n<title>10</title>\n<path fill=\"#fdf4ee\" stroke=\"#000000\" d=\"M975,-473C975,-473 728,-473 728,-473 722,-473 716,-467 716,-461 716,-461 716,-417 716,-417 716,-411 722,-405 728,-405 728,-405 975,-405 975,-405 981,-405 987,-411 987,-417 987,-417 987,-461 987,-461 987,-467 981,-473 975,-473\"/>\n<text text-anchor=\"start\" x=\"724\" y=\"-457.8\" font-family=\"Helvetica,sans-Serif\" font-size=\"14.00\" fill=\"#000000\">lastReportedPosition.speedMPH ≤ 15.5</text>\n<text text-anchor=\"start\" x=\"775\" y=\"-442.8\" font-family=\"Helvetica,sans-Serif\" font-size=\"14.00\" fill=\"#000000\">squared_error = 270.93</text>\n<text text-anchor=\"start\" x=\"803.5\" y=\"-427.8\" font-family=\"Helvetica,sans-Serif\" font-size=\"14.00\" fill=\"#000000\">samples = 559</text>\n<text text-anchor=\"start\" x=\"803\" y=\"-412.8\" font-family=\"Helvetica,sans-Serif\" font-size=\"14.00\" fill=\"#000000\">value = 260.53</text>\n</g>\n<!-- 8&#45;&gt;10 -->\n<g id=\"edge10\" class=\"edge\">\n<title>8&#45;&gt;10</title>\n<path fill=\"none\" stroke=\"#000000\" d=\"M838.8679,-754.8033C841.4169,-691.0768 846.8911,-554.2228 849.7225,-483.4376\"/>\n<polygon fill=\"#000000\" stroke=\"#000000\" points=\"853.2343,-483.2094 850.1369,-473.0775 846.2399,-482.9296 853.2343,-483.2094\"/>\n</g>\n<!-- 17 -->\n<g id=\"node9\" class=\"node\">\n<title>17</title>\n<path fill=\"#fffefe\" stroke=\"#000000\" d=\"M507,-115.5C507,-115.5 370,-115.5 370,-115.5 364,-115.5 358,-109.5 358,-103.5 358,-103.5 358,-74.5 358,-74.5 358,-68.5 364,-62.5 370,-62.5 370,-62.5 507,-62.5 507,-62.5 513,-62.5 519,-68.5 519,-74.5 519,-74.5 519,-103.5 519,-103.5 519,-109.5 513,-115.5 507,-115.5\"/>\n<text text-anchor=\"start\" x=\"366\" y=\"-100.3\" font-family=\"Helvetica,sans-Serif\" font-size=\"14.00\" fill=\"#000000\">squared_error = 139.1</text>\n<text text-anchor=\"start\" x=\"390.5\" y=\"-85.3\" font-family=\"Helvetica,sans-Serif\" font-size=\"14.00\" fill=\"#000000\">samples = 377</text>\n<text text-anchor=\"start\" x=\"394.5\" y=\"-70.3\" font-family=\"Helvetica,sans-Serif\" font-size=\"14.00\" fill=\"#000000\">value = 217.1</text>\n</g>\n<!-- 9&#45;&gt;17 -->\n<g id=\"edge8\" class=\"edge\">\n<title>9&#45;&gt;17</title>\n<path fill=\"none\" stroke=\"#000000\" d=\"M550.3846,-404.8033C526.9186,-338.5687 475.4652,-193.3372 451.3944,-125.3954\"/>\n<polygon fill=\"#000000\" stroke=\"#000000\" points=\"454.6868,-124.2077 448.0482,-115.9506 448.0887,-126.5453 454.6868,-124.2077\"/>\n</g>\n<!-- 18 -->\n<g id=\"node10\" class=\"node\">\n<title>18</title>\n<path fill=\"#fef8f5\" stroke=\"#000000\" d=\"M686,-115.5C686,-115.5 549,-115.5 549,-115.5 543,-115.5 537,-109.5 537,-103.5 537,-103.5 537,-74.5 537,-74.5 537,-68.5 543,-62.5 549,-62.5 549,-62.5 686,-62.5 686,-62.5 692,-62.5 698,-68.5 698,-74.5 698,-74.5 698,-103.5 698,-103.5 698,-109.5 692,-115.5 686,-115.5\"/>\n<text text-anchor=\"start\" x=\"545\" y=\"-100.3\" font-family=\"Helvetica,sans-Serif\" font-size=\"14.00\" fill=\"#000000\">squared_error = 94.86</text>\n<text text-anchor=\"start\" x=\"569.5\" y=\"-85.3\" font-family=\"Helvetica,sans-Serif\" font-size=\"14.00\" fill=\"#000000\">samples = 227</text>\n<text text-anchor=\"start\" x=\"569\" y=\"-70.3\" font-family=\"Helvetica,sans-Serif\" font-size=\"14.00\" fill=\"#000000\">value = 241.69</text>\n</g>\n<!-- 9&#45;&gt;18 -->\n<g id=\"edge9\" class=\"edge\">\n<title>9&#45;&gt;18</title>\n<path fill=\"none\" stroke=\"#000000\" d=\"M567.8738,-404.8033C578.2394,-338.8401 600.9173,-194.5262 611.6488,-126.2346\"/>\n<polygon fill=\"#000000\" stroke=\"#000000\" points=\"615.17,-126.3727 613.2649,-115.9506 608.2549,-125.286 615.17,-126.3727\"/>\n</g>\n<!-- 21 -->\n<g id=\"node12\" class=\"node\">\n<title>21</title>\n<path fill=\"#fdf7f2\" stroke=\"#000000\" d=\"M865,-115.5C865,-115.5 728,-115.5 728,-115.5 722,-115.5 716,-109.5 716,-103.5 716,-103.5 716,-74.5 716,-74.5 716,-68.5 722,-62.5 728,-62.5 728,-62.5 865,-62.5 865,-62.5 871,-62.5 877,-68.5 877,-74.5 877,-74.5 877,-103.5 877,-103.5 877,-109.5 871,-115.5 865,-115.5\"/>\n<text text-anchor=\"start\" x=\"724\" y=\"-100.3\" font-family=\"Helvetica,sans-Serif\" font-size=\"14.00\" fill=\"#000000\">squared_error = 185.2</text>\n<text text-anchor=\"start\" x=\"748.5\" y=\"-85.3\" font-family=\"Helvetica,sans-Serif\" font-size=\"14.00\" fill=\"#000000\">samples = 215</text>\n<text text-anchor=\"start\" x=\"752.5\" y=\"-70.3\" font-family=\"Helvetica,sans-Serif\" font-size=\"14.00\" fill=\"#000000\">value = 247.9</text>\n</g>\n<!-- 10&#45;&gt;21 -->\n<g id=\"edge11\" class=\"edge\">\n<title>10&#45;&gt;21</title>\n<path fill=\"none\" stroke=\"#000000\" d=\"M846.1262,-404.8033C835.7606,-338.8401 813.0827,-194.5262 802.3512,-126.2346\"/>\n<polygon fill=\"#000000\" stroke=\"#000000\" points=\"805.7451,-125.286 800.7351,-115.9506 798.83,-126.3727 805.7451,-125.286\"/>\n</g>\n<!-- 22 -->\n<g id=\"node13\" class=\"node\">\n<title>22</title>\n<path fill=\"#fcf2eb\" stroke=\"#000000\" d=\"M1052,-115.5C1052,-115.5 907,-115.5 907,-115.5 901,-115.5 895,-109.5 895,-103.5 895,-103.5 895,-74.5 895,-74.5 895,-68.5 901,-62.5 907,-62.5 907,-62.5 1052,-62.5 1052,-62.5 1058,-62.5 1064,-68.5 1064,-74.5 1064,-74.5 1064,-103.5 1064,-103.5 1064,-109.5 1058,-115.5 1052,-115.5\"/>\n<text text-anchor=\"start\" x=\"903\" y=\"-100.3\" font-family=\"Helvetica,sans-Serif\" font-size=\"14.00\" fill=\"#000000\">squared_error = 162.57</text>\n<text text-anchor=\"start\" x=\"931.5\" y=\"-85.3\" font-family=\"Helvetica,sans-Serif\" font-size=\"14.00\" fill=\"#000000\">samples = 344</text>\n<text text-anchor=\"start\" x=\"931\" y=\"-70.3\" font-family=\"Helvetica,sans-Serif\" font-size=\"14.00\" fill=\"#000000\">value = 268.42</text>\n</g>\n<!-- 10&#45;&gt;22 -->\n<g id=\"edge12\" class=\"edge\">\n<title>10&#45;&gt;22</title>\n<path fill=\"none\" stroke=\"#000000\" d=\"M864.0062,-404.8033C888.2292,-338.5687 941.3424,-193.3372 966.1897,-125.3954\"/>\n<polygon fill=\"#000000\" stroke=\"#000000\" points=\"969.4961,-126.5444 969.6438,-115.9506 962.922,-124.1401 969.4961,-126.5444\"/>\n</g>\n<!-- 11 -->\n<g id=\"node15\" class=\"node\">\n<title>11</title>\n<path fill=\"#fcf2ea\" stroke=\"#000000\" d=\"M1674,-823C1674,-823 1207,-823 1207,-823 1201,-823 1195,-817 1195,-811 1195,-811 1195,-767 1195,-767 1195,-761 1201,-755 1207,-755 1207,-755 1674,-755 1674,-755 1680,-755 1686,-761 1686,-767 1686,-767 1686,-811 1686,-811 1686,-817 1680,-823 1674,-823\"/>\n<text text-anchor=\"start\" x=\"1203\" y=\"-807.8\" font-family=\"Helvetica,sans-Serif\" font-size=\"14.00\" fill=\"#000000\">lastReportedPosition.milepostLocation.milepost.milepostNumber ≤ 291.36</text>\n<text text-anchor=\"start\" x=\"1364\" y=\"-792.8\" font-family=\"Helvetica,sans-Serif\" font-size=\"14.00\" fill=\"#000000\">squared_error = 401.35</text>\n<text text-anchor=\"start\" x=\"1392.5\" y=\"-777.8\" font-family=\"Helvetica,sans-Serif\" font-size=\"14.00\" fill=\"#000000\">samples = 937</text>\n<text text-anchor=\"start\" x=\"1392\" y=\"-762.8\" font-family=\"Helvetica,sans-Serif\" font-size=\"14.00\" fill=\"#000000\">value = 270.36</text>\n</g>\n<!-- 4&#45;&gt;11 -->\n<g id=\"edge14\" class=\"edge\">\n<title>4&#45;&gt;11</title>\n<path fill=\"none\" stroke=\"#000000\" d=\"M1669.6829,-1104.8033C1622.9609,-1040.4225 1522.0739,-901.4049 1471.182,-831.2784\"/>\n<polygon fill=\"#000000\" stroke=\"#000000\" points=\"1473.9367,-829.1151 1465.2305,-823.0775 1468.2714,-833.2266 1473.9367,-829.1151\"/>\n</g>\n<!-- 12 -->\n<g id=\"node20\" class=\"node\">\n<title>12</title>\n<path fill=\"#fbede2\" stroke=\"#000000\" d=\"M2069,-823C2069,-823 1830,-823 1830,-823 1824,-823 1818,-817 1818,-811 1818,-811 1818,-767 1818,-767 1818,-761 1824,-755 1830,-755 1830,-755 2069,-755 2069,-755 2075,-755 2081,-761 2081,-767 2081,-767 2081,-811 2081,-811 2081,-817 2075,-823 2069,-823\"/>\n<text text-anchor=\"start\" x=\"1826\" y=\"-807.8\" font-family=\"Helvetica,sans-Serif\" font-size=\"14.00\" fill=\"#000000\">lastReportedPosition.speedMPH ≤ 2.0</text>\n<text text-anchor=\"start\" x=\"1873\" y=\"-792.8\" font-family=\"Helvetica,sans-Serif\" font-size=\"14.00\" fill=\"#000000\">squared_error = 472.21</text>\n<text text-anchor=\"start\" x=\"1901.5\" y=\"-777.8\" font-family=\"Helvetica,sans-Serif\" font-size=\"14.00\" fill=\"#000000\">samples = 669</text>\n<text text-anchor=\"start\" x=\"1901\" y=\"-762.8\" font-family=\"Helvetica,sans-Serif\" font-size=\"14.00\" fill=\"#000000\">value = 291.84</text>\n</g>\n<!-- 4&#45;&gt;12 -->\n<g id=\"edge19\" class=\"edge\">\n<title>4&#45;&gt;12</title>\n<path fill=\"none\" stroke=\"#000000\" d=\"M1719.4148,-1104.8033C1766.3207,-1040.4225 1867.605,-901.4049 1918.6972,-831.2784\"/>\n<polygon fill=\"#000000\" stroke=\"#000000\" points=\"1921.6123,-833.2209 1924.6721,-823.0775 1915.9547,-829.0989 1921.6123,-833.2209\"/>\n</g>\n<!-- 13 -->\n<g id=\"node16\" class=\"node\">\n<title>13</title>\n<path fill=\"#fdf6f0\" stroke=\"#000000\" d=\"M1239,-115.5C1239,-115.5 1094,-115.5 1094,-115.5 1088,-115.5 1082,-109.5 1082,-103.5 1082,-103.5 1082,-74.5 1082,-74.5 1082,-68.5 1088,-62.5 1094,-62.5 1094,-62.5 1239,-62.5 1239,-62.5 1245,-62.5 1251,-68.5 1251,-74.5 1251,-74.5 1251,-103.5 1251,-103.5 1251,-109.5 1245,-115.5 1239,-115.5\"/>\n<text text-anchor=\"start\" x=\"1090\" y=\"-100.3\" font-family=\"Helvetica,sans-Serif\" font-size=\"14.00\" fill=\"#000000\">squared_error = 168.42</text>\n<text text-anchor=\"start\" x=\"1118.5\" y=\"-85.3\" font-family=\"Helvetica,sans-Serif\" font-size=\"14.00\" fill=\"#000000\">samples = 436</text>\n<text text-anchor=\"start\" x=\"1118\" y=\"-70.3\" font-family=\"Helvetica,sans-Serif\" font-size=\"14.00\" fill=\"#000000\">value = 253.58</text>\n</g>\n<!-- 11&#45;&gt;13 -->\n<g id=\"edge15\" class=\"edge\">\n<title>11&#45;&gt;13</title>\n<path fill=\"none\" stroke=\"#000000\" d=\"M1412.9683,-754.8822C1347.0309,-673.1716 1185.5,-473 1185.5,-473 1185.5,-473 1173.0785,-221.9547 1168.3225,-125.8328\"/>\n<polygon fill=\"#000000\" stroke=\"#000000\" points=\"1171.811,-125.512 1167.821,-115.6973 1164.8195,-125.858 1171.811,-125.512\"/>\n</g>\n<!-- 14 -->\n<g id=\"node17\" class=\"node\">\n<title>14</title>\n<path fill=\"#fceee5\" stroke=\"#000000\" d=\"M1674,-473C1674,-473 1207,-473 1207,-473 1201,-473 1195,-467 1195,-461 1195,-461 1195,-417 1195,-417 1195,-411 1201,-405 1207,-405 1207,-405 1674,-405 1674,-405 1680,-405 1686,-411 1686,-417 1686,-417 1686,-461 1686,-461 1686,-467 1680,-473 1674,-473\"/>\n<text text-anchor=\"start\" x=\"1203\" y=\"-457.8\" font-family=\"Helvetica,sans-Serif\" font-size=\"14.00\" fill=\"#000000\">lastReportedPosition.milepostLocation.milepost.milepostNumber ≤ 313.68</text>\n<text text-anchor=\"start\" x=\"1368\" y=\"-442.8\" font-family=\"Helvetica,sans-Serif\" font-size=\"14.00\" fill=\"#000000\">squared_error = 146.1</text>\n<text text-anchor=\"start\" x=\"1392.5\" y=\"-427.8\" font-family=\"Helvetica,sans-Serif\" font-size=\"14.00\" fill=\"#000000\">samples = 501</text>\n<text text-anchor=\"start\" x=\"1392\" y=\"-412.8\" font-family=\"Helvetica,sans-Serif\" font-size=\"14.00\" fill=\"#000000\">value = 284.95</text>\n</g>\n<!-- 11&#45;&gt;14 -->\n<g id=\"edge16\" class=\"edge\">\n<title>11&#45;&gt;14</title>\n<path fill=\"none\" stroke=\"#000000\" d=\"M1440.5,-754.8033C1440.5,-691.0768 1440.5,-554.2228 1440.5,-483.4376\"/>\n<polygon fill=\"#000000\" stroke=\"#000000\" points=\"1444.0001,-483.0775 1440.5,-473.0775 1437.0001,-483.0775 1444.0001,-483.0775\"/>\n</g>\n<!-- 23 -->\n<g id=\"node18\" class=\"node\">\n<title>23</title>\n<path fill=\"#fcf0e8\" stroke=\"#000000\" d=\"M1464,-115.5C1464,-115.5 1327,-115.5 1327,-115.5 1321,-115.5 1315,-109.5 1315,-103.5 1315,-103.5 1315,-74.5 1315,-74.5 1315,-68.5 1321,-62.5 1327,-62.5 1327,-62.5 1464,-62.5 1464,-62.5 1470,-62.5 1476,-68.5 1476,-74.5 1476,-74.5 1476,-103.5 1476,-103.5 1476,-109.5 1470,-115.5 1464,-115.5\"/>\n<text text-anchor=\"start\" x=\"1323\" y=\"-100.3\" font-family=\"Helvetica,sans-Serif\" font-size=\"14.00\" fill=\"#000000\">squared_error = 96.19</text>\n<text text-anchor=\"start\" x=\"1347.5\" y=\"-85.3\" font-family=\"Helvetica,sans-Serif\" font-size=\"14.00\" fill=\"#000000\">samples = 254</text>\n<text text-anchor=\"start\" x=\"1351.5\" y=\"-70.3\" font-family=\"Helvetica,sans-Serif\" font-size=\"14.00\" fill=\"#000000\">value = 276.6</text>\n</g>\n<!-- 14&#45;&gt;23 -->\n<g id=\"edge17\" class=\"edge\">\n<title>14&#45;&gt;23</title>\n<path fill=\"none\" stroke=\"#000000\" d=\"M1436.1033,-404.8033C1427.6223,-338.8401 1409.0677,-194.5262 1400.2873,-126.2346\"/>\n<polygon fill=\"#000000\" stroke=\"#000000\" points=\"1403.7118,-125.4226 1398.9651,-115.9506 1396.769,-126.3153 1403.7118,-125.4226\"/>\n</g>\n<!-- 24 -->\n<g id=\"node19\" class=\"node\">\n<title>24</title>\n<path fill=\"#fbece2\" stroke=\"#000000\" d=\"M1643,-115.5C1643,-115.5 1506,-115.5 1506,-115.5 1500,-115.5 1494,-109.5 1494,-103.5 1494,-103.5 1494,-74.5 1494,-74.5 1494,-68.5 1500,-62.5 1506,-62.5 1506,-62.5 1643,-62.5 1643,-62.5 1649,-62.5 1655,-68.5 1655,-74.5 1655,-74.5 1655,-103.5 1655,-103.5 1655,-109.5 1649,-115.5 1643,-115.5\"/>\n<text text-anchor=\"start\" x=\"1502\" y=\"-100.3\" font-family=\"Helvetica,sans-Serif\" font-size=\"14.00\" fill=\"#000000\">squared_error = 51.73</text>\n<text text-anchor=\"start\" x=\"1526.5\" y=\"-85.3\" font-family=\"Helvetica,sans-Serif\" font-size=\"14.00\" fill=\"#000000\">samples = 247</text>\n<text text-anchor=\"start\" x=\"1526\" y=\"-70.3\" font-family=\"Helvetica,sans-Serif\" font-size=\"14.00\" fill=\"#000000\">value = 293.55</text>\n</g>\n<!-- 14&#45;&gt;24 -->\n<g id=\"edge18\" class=\"edge\">\n<title>14&#45;&gt;24</title>\n<path fill=\"none\" stroke=\"#000000\" d=\"M1453.5925,-404.8033C1478.9508,-338.5687 1534.5538,-193.3372 1560.5658,-125.3954\"/>\n<polygon fill=\"#000000\" stroke=\"#000000\" points=\"1563.8749,-126.541 1564.1818,-115.9506 1557.3376,-124.0381 1563.8749,-126.541\"/>\n</g>\n<!-- 15 -->\n<g id=\"node21\" class=\"node\">\n<title>15</title>\n<path fill=\"#fcf1e9\" stroke=\"#000000\" d=\"M2183,-473C2183,-473 1716,-473 1716,-473 1710,-473 1704,-467 1704,-461 1704,-461 1704,-417 1704,-417 1704,-411 1710,-405 1716,-405 1716,-405 2183,-405 2183,-405 2189,-405 2195,-411 2195,-417 2195,-417 2195,-461 2195,-461 2195,-467 2189,-473 2183,-473\"/>\n<text text-anchor=\"start\" x=\"1712\" y=\"-457.8\" font-family=\"Helvetica,sans-Serif\" font-size=\"14.00\" fill=\"#000000\">lastReportedPosition.milepostLocation.milepost.milepostNumber ≤ 283.25</text>\n<text text-anchor=\"start\" x=\"1877\" y=\"-442.8\" font-family=\"Helvetica,sans-Serif\" font-size=\"14.00\" fill=\"#000000\">squared_error = 260.7</text>\n<text text-anchor=\"start\" x=\"1901.5\" y=\"-427.8\" font-family=\"Helvetica,sans-Serif\" font-size=\"14.00\" fill=\"#000000\">samples = 306</text>\n<text text-anchor=\"start\" x=\"1901\" y=\"-412.8\" font-family=\"Helvetica,sans-Serif\" font-size=\"14.00\" fill=\"#000000\">value = 274.38</text>\n</g>\n<!-- 12&#45;&gt;15 -->\n<g id=\"edge20\" class=\"edge\">\n<title>12&#45;&gt;15</title>\n<path fill=\"none\" stroke=\"#000000\" d=\"M1949.5,-754.8033C1949.5,-691.0768 1949.5,-554.2228 1949.5,-483.4376\"/>\n<polygon fill=\"#000000\" stroke=\"#000000\" points=\"1953.0001,-483.0775 1949.5,-473.0775 1946.0001,-483.0775 1953.0001,-483.0775\"/>\n</g>\n<!-- 16 -->\n<g id=\"node24\" class=\"node\">\n<title>16</title>\n<path fill=\"#fbe9dd\" stroke=\"#000000\" d=\"M2692,-473C2692,-473 2225,-473 2225,-473 2219,-473 2213,-467 2213,-461 2213,-461 2213,-417 2213,-417 2213,-411 2219,-405 2225,-405 2225,-405 2692,-405 2692,-405 2698,-405 2704,-411 2704,-417 2704,-417 2704,-461 2704,-461 2704,-467 2698,-473 2692,-473\"/>\n<text text-anchor=\"start\" x=\"2221\" y=\"-457.8\" font-family=\"Helvetica,sans-Serif\" font-size=\"14.00\" fill=\"#000000\">lastReportedPosition.milepostLocation.milepost.milepostNumber ≤ 273.56</text>\n<text text-anchor=\"start\" x=\"2382\" y=\"-442.8\" font-family=\"Helvetica,sans-Serif\" font-size=\"14.00\" fill=\"#000000\">squared_error = 176.97</text>\n<text text-anchor=\"start\" x=\"2410.5\" y=\"-427.8\" font-family=\"Helvetica,sans-Serif\" font-size=\"14.00\" fill=\"#000000\">samples = 363</text>\n<text text-anchor=\"start\" x=\"2410\" y=\"-412.8\" font-family=\"Helvetica,sans-Serif\" font-size=\"14.00\" fill=\"#000000\">value = 306.56</text>\n</g>\n<!-- 12&#45;&gt;16 -->\n<g id=\"edge23\" class=\"edge\">\n<title>12&#45;&gt;16</title>\n<path fill=\"none\" stroke=\"#000000\" d=\"M1999.2318,-754.8033C2094.0016,-689.6374 2299.9783,-548.0031 2400.7012,-478.7437\"/>\n<polygon fill=\"#000000\" stroke=\"#000000\" points=\"2402.6847,-481.6275 2408.9416,-473.0775 2398.7185,-475.8595 2402.6847,-481.6275\"/>\n</g>\n<!-- 25 -->\n<g id=\"node22\" class=\"node\">\n<title>25</title>\n<path fill=\"#fcf3eb\" stroke=\"#000000\" d=\"M1927,-115.5C1927,-115.5 1790,-115.5 1790,-115.5 1784,-115.5 1778,-109.5 1778,-103.5 1778,-103.5 1778,-74.5 1778,-74.5 1778,-68.5 1784,-62.5 1790,-62.5 1790,-62.5 1927,-62.5 1927,-62.5 1933,-62.5 1939,-68.5 1939,-74.5 1939,-74.5 1939,-103.5 1939,-103.5 1939,-109.5 1933,-115.5 1927,-115.5\"/>\n<text text-anchor=\"start\" x=\"1786\" y=\"-100.3\" font-family=\"Helvetica,sans-Serif\" font-size=\"14.00\" fill=\"#000000\">squared_error = 116.2</text>\n<text text-anchor=\"start\" x=\"1810.5\" y=\"-85.3\" font-family=\"Helvetica,sans-Serif\" font-size=\"14.00\" fill=\"#000000\">samples = 206</text>\n<text text-anchor=\"start\" x=\"1810\" y=\"-70.3\" font-family=\"Helvetica,sans-Serif\" font-size=\"14.00\" fill=\"#000000\">value = 266.89</text>\n</g>\n<!-- 15&#45;&gt;25 -->\n<g id=\"edge21\" class=\"edge\">\n<title>15&#45;&gt;25</title>\n<path fill=\"none\" stroke=\"#000000\" d=\"M1940.6088,-404.8033C1923.4231,-338.7044 1885.7823,-193.932 1868.0716,-125.814\"/>\n<polygon fill=\"#000000\" stroke=\"#000000\" points=\"1871.4109,-124.7481 1865.5072,-115.9506 1864.6362,-126.5096 1871.4109,-124.7481\"/>\n</g>\n<!-- 26 -->\n<g id=\"node23\" class=\"node\">\n<title>26</title>\n<path fill=\"#fbede3\" stroke=\"#000000\" d=\"M2114,-115.5C2114,-115.5 1969,-115.5 1969,-115.5 1963,-115.5 1957,-109.5 1957,-103.5 1957,-103.5 1957,-74.5 1957,-74.5 1957,-68.5 1963,-62.5 1969,-62.5 1969,-62.5 2114,-62.5 2114,-62.5 2120,-62.5 2126,-68.5 2126,-74.5 2126,-74.5 2126,-103.5 2126,-103.5 2126,-109.5 2120,-115.5 2114,-115.5\"/>\n<text text-anchor=\"start\" x=\"1965\" y=\"-100.3\" font-family=\"Helvetica,sans-Serif\" font-size=\"14.00\" fill=\"#000000\">squared_error = 204.27</text>\n<text text-anchor=\"start\" x=\"1993.5\" y=\"-85.3\" font-family=\"Helvetica,sans-Serif\" font-size=\"14.00\" fill=\"#000000\">samples = 100</text>\n<text text-anchor=\"start\" x=\"1993\" y=\"-70.3\" font-family=\"Helvetica,sans-Serif\" font-size=\"14.00\" fill=\"#000000\">value = 289.82</text>\n</g>\n<!-- 15&#45;&gt;26 -->\n<g id=\"edge22\" class=\"edge\">\n<title>15&#45;&gt;26</title>\n<path fill=\"none\" stroke=\"#000000\" d=\"M1958.4889,-404.8033C1975.8634,-338.7044 2013.9179,-193.932 2031.8232,-125.814\"/>\n<polygon fill=\"#000000\" stroke=\"#000000\" points=\"2035.2586,-126.5119 2034.4158,-115.9506 2028.4885,-124.7323 2035.2586,-126.5119\"/>\n</g>\n<!-- 27 -->\n<g id=\"node25\" class=\"node\">\n<title>27</title>\n<path fill=\"#fbece1\" stroke=\"#000000\" d=\"M2412,-115.5C2412,-115.5 2275,-115.5 2275,-115.5 2269,-115.5 2263,-109.5 2263,-103.5 2263,-103.5 2263,-74.5 2263,-74.5 2263,-68.5 2269,-62.5 2275,-62.5 2275,-62.5 2412,-62.5 2412,-62.5 2418,-62.5 2424,-68.5 2424,-74.5 2424,-74.5 2424,-103.5 2424,-103.5 2424,-109.5 2418,-115.5 2412,-115.5\"/>\n<text text-anchor=\"start\" x=\"2271\" y=\"-100.3\" font-family=\"Helvetica,sans-Serif\" font-size=\"14.00\" fill=\"#000000\">squared_error = 89.19</text>\n<text text-anchor=\"start\" x=\"2295.5\" y=\"-85.3\" font-family=\"Helvetica,sans-Serif\" font-size=\"14.00\" fill=\"#000000\">samples = 149</text>\n<text text-anchor=\"start\" x=\"2295\" y=\"-70.3\" font-family=\"Helvetica,sans-Serif\" font-size=\"14.00\" fill=\"#000000\">value = 295.57</text>\n</g>\n<!-- 16&#45;&gt;27 -->\n<g id=\"edge24\" class=\"edge\">\n<title>16&#45;&gt;27</title>\n<path fill=\"none\" stroke=\"#000000\" d=\"M2447.2639,-404.8033C2425.5457,-338.7044 2377.9777,-193.932 2355.596,-125.814\"/>\n<polygon fill=\"#000000\" stroke=\"#000000\" points=\"2358.8019,-124.3583 2352.3552,-115.9506 2352.1517,-126.5435 2358.8019,-124.3583\"/>\n</g>\n<!-- 28 -->\n<g id=\"node26\" class=\"node\">\n<title>28</title>\n<path fill=\"#fae8da\" stroke=\"#000000\" d=\"M2591,-115.5C2591,-115.5 2454,-115.5 2454,-115.5 2448,-115.5 2442,-109.5 2442,-103.5 2442,-103.5 2442,-74.5 2442,-74.5 2442,-68.5 2448,-62.5 2454,-62.5 2454,-62.5 2591,-62.5 2591,-62.5 2597,-62.5 2603,-68.5 2603,-74.5 2603,-74.5 2603,-103.5 2603,-103.5 2603,-109.5 2597,-115.5 2591,-115.5\"/>\n<text text-anchor=\"start\" x=\"2450\" y=\"-100.3\" font-family=\"Helvetica,sans-Serif\" font-size=\"14.00\" fill=\"#000000\">squared_error = 95.33</text>\n<text text-anchor=\"start\" x=\"2474.5\" y=\"-85.3\" font-family=\"Helvetica,sans-Serif\" font-size=\"14.00\" fill=\"#000000\">samples = 214</text>\n<text text-anchor=\"start\" x=\"2474\" y=\"-70.3\" font-family=\"Helvetica,sans-Serif\" font-size=\"14.00\" fill=\"#000000\">value = 314.21</text>\n</g>\n<!-- 16&#45;&gt;28 -->\n<g id=\"edge25\" class=\"edge\">\n<title>16&#45;&gt;28</title>\n<path fill=\"none\" stroke=\"#000000\" d=\"M2464.7531,-404.8033C2476.8398,-338.7044 2503.3124,-193.932 2515.7683,-125.814\"/>\n<polygon fill=\"#000000\" stroke=\"#000000\" points=\"2519.216,-126.4171 2517.5719,-115.9506 2512.3302,-125.1579 2519.216,-126.4171\"/>\n</g>\n<!-- 5 -->\n<g id=\"node28\" class=\"node\">\n<title>5</title>\n<path fill=\"#eb9d64\" stroke=\"#000000\" d=\"M2805,-115.5C2805,-115.5 2660,-115.5 2660,-115.5 2654,-115.5 2648,-109.5 2648,-103.5 2648,-103.5 2648,-74.5 2648,-74.5 2648,-68.5 2654,-62.5 2660,-62.5 2660,-62.5 2805,-62.5 2805,-62.5 2811,-62.5 2817,-68.5 2817,-74.5 2817,-74.5 2817,-103.5 2817,-103.5 2817,-109.5 2811,-115.5 2805,-115.5\"/>\n<text text-anchor=\"start\" x=\"2656\" y=\"-100.3\" font-family=\"Helvetica,sans-Serif\" font-size=\"14.00\" fill=\"#000000\">squared_error = 753.47</text>\n<text text-anchor=\"start\" x=\"2688.5\" y=\"-85.3\" font-family=\"Helvetica,sans-Serif\" font-size=\"14.00\" fill=\"#000000\">samples = 34</text>\n<text text-anchor=\"start\" x=\"2684\" y=\"-70.3\" font-family=\"Helvetica,sans-Serif\" font-size=\"14.00\" fill=\"#000000\">value = 640.03</text>\n</g>\n<!-- 2&#45;&gt;5 -->\n<g id=\"edge27\" class=\"edge\">\n<title>2&#45;&gt;5</title>\n<path fill=\"none\" stroke=\"#000000\" d=\"M2732.5,-1454.7407C2732.5,-1262.9664 2732.5,-324.1123 2732.5,-125.8221\"/>\n<polygon fill=\"#000000\" stroke=\"#000000\" points=\"2736.0001,-125.6385 2732.5,-115.6385 2729.0001,-125.6386 2736.0001,-125.6385\"/>\n</g>\n<!-- 6 -->\n<g id=\"node29\" class=\"node\">\n<title>6</title>\n<path fill=\"#e5833c\" stroke=\"#000000\" d=\"M3240,-1173C3240,-1173 2773,-1173 2773,-1173 2767,-1173 2761,-1167 2761,-1161 2761,-1161 2761,-1117 2761,-1117 2761,-1111 2767,-1105 2773,-1105 2773,-1105 3240,-1105 3240,-1105 3246,-1105 3252,-1111 3252,-1117 3252,-1117 3252,-1161 3252,-1161 3252,-1167 3246,-1173 3240,-1173\"/>\n<text text-anchor=\"start\" x=\"2769\" y=\"-1157.8\" font-family=\"Helvetica,sans-Serif\" font-size=\"14.00\" fill=\"#000000\">lastReportedPosition.milepostLocation.milepost.milepostNumber ≤ 728.96</text>\n<text text-anchor=\"start\" x=\"2934\" y=\"-1142.8\" font-family=\"Helvetica,sans-Serif\" font-size=\"14.00\" fill=\"#000000\">squared_error = 218.4</text>\n<text text-anchor=\"start\" x=\"2958.5\" y=\"-1127.8\" font-family=\"Helvetica,sans-Serif\" font-size=\"14.00\" fill=\"#000000\">samples = 526</text>\n<text text-anchor=\"start\" x=\"2958\" y=\"-1112.8\" font-family=\"Helvetica,sans-Serif\" font-size=\"14.00\" fill=\"#000000\">value = 751.83</text>\n</g>\n<!-- 2&#45;&gt;6 -->\n<g id=\"edge28\" class=\"edge\">\n<title>2&#45;&gt;6</title>\n<path fill=\"none\" stroke=\"#000000\" d=\"M2759.2712,-1454.8033C2809.6721,-1390.4225 2918.503,-1251.4049 2973.4021,-1181.2784\"/>\n<polygon fill=\"#000000\" stroke=\"#000000\" points=\"2976.4138,-1183.1091 2979.8222,-1173.0775 2970.9019,-1178.7941 2976.4138,-1183.1091\"/>\n</g>\n<!-- 19 -->\n<g id=\"node30\" class=\"node\">\n<title>19</title>\n<path fill=\"#e68742\" stroke=\"#000000\" d=\"M3036,-115.5C3036,-115.5 2891,-115.5 2891,-115.5 2885,-115.5 2879,-109.5 2879,-103.5 2879,-103.5 2879,-74.5 2879,-74.5 2879,-68.5 2885,-62.5 2891,-62.5 2891,-62.5 3036,-62.5 3036,-62.5 3042,-62.5 3048,-68.5 3048,-74.5 3048,-74.5 3048,-103.5 3048,-103.5 3048,-109.5 3042,-115.5 3036,-115.5\"/>\n<text text-anchor=\"start\" x=\"2887\" y=\"-100.3\" font-family=\"Helvetica,sans-Serif\" font-size=\"14.00\" fill=\"#000000\">squared_error = 112.05</text>\n<text text-anchor=\"start\" x=\"2915.5\" y=\"-85.3\" font-family=\"Helvetica,sans-Serif\" font-size=\"14.00\" fill=\"#000000\">samples = 159</text>\n<text text-anchor=\"start\" x=\"2915\" y=\"-70.3\" font-family=\"Helvetica,sans-Serif\" font-size=\"14.00\" fill=\"#000000\">value = 734.45</text>\n</g>\n<!-- 6&#45;&gt;19 -->\n<g id=\"edge29\" class=\"edge\">\n<title>6&#45;&gt;19</title>\n<path fill=\"none\" stroke=\"#000000\" d=\"M3005.1059,-1104.9583C2998.6484,-947.2743 2971.6755,-288.6339 2964.9995,-125.6163\"/>\n<polygon fill=\"#000000\" stroke=\"#000000\" points=\"2968.4959,-125.4543 2964.5896,-115.6059 2961.5018,-125.7408 2968.4959,-125.4543\"/>\n</g>\n<!-- 20 -->\n<g id=\"node31\" class=\"node\">\n<title>20</title>\n<path fill=\"#e58139\" stroke=\"#000000\" d=\"M3215,-115.5C3215,-115.5 3078,-115.5 3078,-115.5 3072,-115.5 3066,-109.5 3066,-103.5 3066,-103.5 3066,-74.5 3066,-74.5 3066,-68.5 3072,-62.5 3078,-62.5 3078,-62.5 3215,-62.5 3215,-62.5 3221,-62.5 3227,-68.5 3227,-74.5 3227,-74.5 3227,-103.5 3227,-103.5 3227,-109.5 3221,-115.5 3215,-115.5\"/>\n<text text-anchor=\"start\" x=\"3074\" y=\"-100.3\" font-family=\"Helvetica,sans-Serif\" font-size=\"14.00\" fill=\"#000000\">squared_error = 76.88</text>\n<text text-anchor=\"start\" x=\"3098.5\" y=\"-85.3\" font-family=\"Helvetica,sans-Serif\" font-size=\"14.00\" fill=\"#000000\">samples = 367</text>\n<text text-anchor=\"start\" x=\"3098\" y=\"-70.3\" font-family=\"Helvetica,sans-Serif\" font-size=\"14.00\" fill=\"#000000\">value = 759.36</text>\n</g>\n<!-- 6&#45;&gt;20 -->\n<g id=\"edge30\" class=\"edge\">\n<title>6&#45;&gt;20</title>\n<path fill=\"none\" stroke=\"#000000\" d=\"M3011.0389,-1104.9583C3032.0634,-947.2743 3119.8821,-288.6339 3141.6178,-125.6163\"/>\n<polygon fill=\"#000000\" stroke=\"#000000\" points=\"3145.1001,-125.9808 3142.9525,-115.6059 3138.1615,-125.0556 3145.1001,-125.9808\"/>\n</g>\n</g>\n</svg>\n"
          },
          "metadata": {},
          "execution_count": 54
        }
      ]
    },
    {
      "cell_type": "code",
      "source": [
        "m = DecisionTreeRegressor(min_samples_leaf=9)\n",
        "m.fit(xs, y);"
      ],
      "metadata": {
        "id": "_wto32TJkud4"
      },
      "execution_count": 55,
      "outputs": []
    },
    {
      "cell_type": "code",
      "source": [
        "def r_mse(pred,y): return round(math.sqrt(((pred-y)**2).mean()), 6)\n",
        "def m_rmse(m, xs, y): return r_mse(m.predict(xs), y)"
      ],
      "metadata": {
        "id": "D53phc2JE5RC"
      },
      "execution_count": 56,
      "outputs": []
    },
    {
      "cell_type": "markdown",
      "source": [
        "How well we fit the traing model:"
      ],
      "metadata": {
        "id": "mdZvu4cJuS9j"
      }
    },
    {
      "cell_type": "code",
      "source": [
        "m_rmse(m, xs, y)"
      ],
      "metadata": {
        "id": "8CYcTQHLHT4m",
        "colab": {
          "base_uri": "https://localhost:8080/"
        },
        "outputId": "34672a51-dca9-43e4-96ba-0a0fd62ae760"
      },
      "execution_count": 57,
      "outputs": [
        {
          "output_type": "execute_result",
          "data": {
            "text/plain": [
              "6.165543"
            ]
          },
          "metadata": {},
          "execution_count": 57
        }
      ]
    },
    {
      "cell_type": "markdown",
      "source": [
        "How well we fit the Validation Model:"
      ],
      "metadata": {
        "id": "MU_z9z6huZs0"
      }
    },
    {
      "cell_type": "code",
      "source": [
        "m_rmse(m, valid_xs, valid_y)"
      ],
      "metadata": {
        "id": "_oElvFDHHZHm",
        "colab": {
          "base_uri": "https://localhost:8080/"
        },
        "outputId": "08b29979-9207-4edd-bec7-4b8361a1897f"
      },
      "execution_count": 58,
      "outputs": [
        {
          "output_type": "execute_result",
          "data": {
            "text/plain": [
              "9.560298"
            ]
          },
          "metadata": {},
          "execution_count": 58
        }
      ]
    },
    {
      "cell_type": "code",
      "source": [
        "def rf_feat_importance(m, df):\n",
        "    return pd.DataFrame({'cols':df.columns, 'imp':m.feature_importances_}\n",
        "                       ).sort_values('imp', ascending=False)"
      ],
      "metadata": {
        "id": "oCKCSQSlab4o"
      },
      "execution_count": 59,
      "outputs": []
    },
    {
      "cell_type": "code",
      "source": [
        "fi = rf_feat_importance(m, xs)\n",
        "fi[:10]"
      ],
      "metadata": {
        "id": "jxENiQDXlYKl",
        "colab": {
          "base_uri": "https://localhost:8080/",
          "height": 363
        },
        "outputId": "ac264b0c-fbd8-4d2c-cf83-935b44d2b906"
      },
      "execution_count": 60,
      "outputs": [
        {
          "output_type": "execute_result",
          "data": {
            "text/plain": [
              "                                                             cols       imp\n",
              "38                                                       milepost  0.968644\n",
              "23  lastReportedPosition.milepostLocation.milepost.milepostNumber  0.024345\n",
              "12                                                         mpIncr  0.003189\n",
              "22                                  lastReportedPosition.speedMPH  0.003057\n",
              "45                       lastReportedPosition.positionTimeElapsed  0.000143\n",
              "34                                                 loadedCarCount  0.000089\n",
              "35                                                  emptyCarCount  0.000056\n",
              "3                                             trainId.trainSymbol  0.000055\n",
              "13                                                     symbolType  0.000050\n",
              "36                                                    trainLength  0.000049"
            ],
            "text/html": [
              "\n",
              "  <div id=\"df-15e43e59-00cf-4cfd-a987-8b47423815dc\">\n",
              "    <div class=\"colab-df-container\">\n",
              "      <div>\n",
              "<style scoped>\n",
              "    .dataframe tbody tr th:only-of-type {\n",
              "        vertical-align: middle;\n",
              "    }\n",
              "\n",
              "    .dataframe tbody tr th {\n",
              "        vertical-align: top;\n",
              "    }\n",
              "\n",
              "    .dataframe thead th {\n",
              "        text-align: right;\n",
              "    }\n",
              "</style>\n",
              "<table border=\"1\" class=\"dataframe\">\n",
              "  <thead>\n",
              "    <tr style=\"text-align: right;\">\n",
              "      <th></th>\n",
              "      <th>cols</th>\n",
              "      <th>imp</th>\n",
              "    </tr>\n",
              "  </thead>\n",
              "  <tbody>\n",
              "    <tr>\n",
              "      <th>38</th>\n",
              "      <td>milepost</td>\n",
              "      <td>0.968644</td>\n",
              "    </tr>\n",
              "    <tr>\n",
              "      <th>23</th>\n",
              "      <td>lastReportedPosition.milepostLocation.milepost.milepostNumber</td>\n",
              "      <td>0.024345</td>\n",
              "    </tr>\n",
              "    <tr>\n",
              "      <th>12</th>\n",
              "      <td>mpIncr</td>\n",
              "      <td>0.003189</td>\n",
              "    </tr>\n",
              "    <tr>\n",
              "      <th>22</th>\n",
              "      <td>lastReportedPosition.speedMPH</td>\n",
              "      <td>0.003057</td>\n",
              "    </tr>\n",
              "    <tr>\n",
              "      <th>45</th>\n",
              "      <td>lastReportedPosition.positionTimeElapsed</td>\n",
              "      <td>0.000143</td>\n",
              "    </tr>\n",
              "    <tr>\n",
              "      <th>34</th>\n",
              "      <td>loadedCarCount</td>\n",
              "      <td>0.000089</td>\n",
              "    </tr>\n",
              "    <tr>\n",
              "      <th>35</th>\n",
              "      <td>emptyCarCount</td>\n",
              "      <td>0.000056</td>\n",
              "    </tr>\n",
              "    <tr>\n",
              "      <th>3</th>\n",
              "      <td>trainId.trainSymbol</td>\n",
              "      <td>0.000055</td>\n",
              "    </tr>\n",
              "    <tr>\n",
              "      <th>13</th>\n",
              "      <td>symbolType</td>\n",
              "      <td>0.000050</td>\n",
              "    </tr>\n",
              "    <tr>\n",
              "      <th>36</th>\n",
              "      <td>trainLength</td>\n",
              "      <td>0.000049</td>\n",
              "    </tr>\n",
              "  </tbody>\n",
              "</table>\n",
              "</div>\n",
              "      <button class=\"colab-df-convert\" onclick=\"convertToInteractive('df-15e43e59-00cf-4cfd-a987-8b47423815dc')\"\n",
              "              title=\"Convert this dataframe to an interactive table.\"\n",
              "              style=\"display:none;\">\n",
              "        \n",
              "  <svg xmlns=\"http://www.w3.org/2000/svg\" height=\"24px\"viewBox=\"0 0 24 24\"\n",
              "       width=\"24px\">\n",
              "    <path d=\"M0 0h24v24H0V0z\" fill=\"none\"/>\n",
              "    <path d=\"M18.56 5.44l.94 2.06.94-2.06 2.06-.94-2.06-.94-.94-2.06-.94 2.06-2.06.94zm-11 1L8.5 8.5l.94-2.06 2.06-.94-2.06-.94L8.5 2.5l-.94 2.06-2.06.94zm10 10l.94 2.06.94-2.06 2.06-.94-2.06-.94-.94-2.06-.94 2.06-2.06.94z\"/><path d=\"M17.41 7.96l-1.37-1.37c-.4-.4-.92-.59-1.43-.59-.52 0-1.04.2-1.43.59L10.3 9.45l-7.72 7.72c-.78.78-.78 2.05 0 2.83L4 21.41c.39.39.9.59 1.41.59.51 0 1.02-.2 1.41-.59l7.78-7.78 2.81-2.81c.8-.78.8-2.07 0-2.86zM5.41 20L4 18.59l7.72-7.72 1.47 1.35L5.41 20z\"/>\n",
              "  </svg>\n",
              "      </button>\n",
              "      \n",
              "  <style>\n",
              "    .colab-df-container {\n",
              "      display:flex;\n",
              "      flex-wrap:wrap;\n",
              "      gap: 12px;\n",
              "    }\n",
              "\n",
              "    .colab-df-convert {\n",
              "      background-color: #E8F0FE;\n",
              "      border: none;\n",
              "      border-radius: 50%;\n",
              "      cursor: pointer;\n",
              "      display: none;\n",
              "      fill: #1967D2;\n",
              "      height: 32px;\n",
              "      padding: 0 0 0 0;\n",
              "      width: 32px;\n",
              "    }\n",
              "\n",
              "    .colab-df-convert:hover {\n",
              "      background-color: #E2EBFA;\n",
              "      box-shadow: 0px 1px 2px rgba(60, 64, 67, 0.3), 0px 1px 3px 1px rgba(60, 64, 67, 0.15);\n",
              "      fill: #174EA6;\n",
              "    }\n",
              "\n",
              "    [theme=dark] .colab-df-convert {\n",
              "      background-color: #3B4455;\n",
              "      fill: #D2E3FC;\n",
              "    }\n",
              "\n",
              "    [theme=dark] .colab-df-convert:hover {\n",
              "      background-color: #434B5C;\n",
              "      box-shadow: 0px 1px 3px 1px rgba(0, 0, 0, 0.15);\n",
              "      filter: drop-shadow(0px 1px 2px rgba(0, 0, 0, 0.3));\n",
              "      fill: #FFFFFF;\n",
              "    }\n",
              "  </style>\n",
              "\n",
              "      <script>\n",
              "        const buttonEl =\n",
              "          document.querySelector('#df-15e43e59-00cf-4cfd-a987-8b47423815dc button.colab-df-convert');\n",
              "        buttonEl.style.display =\n",
              "          google.colab.kernel.accessAllowed ? 'block' : 'none';\n",
              "\n",
              "        async function convertToInteractive(key) {\n",
              "          const element = document.querySelector('#df-15e43e59-00cf-4cfd-a987-8b47423815dc');\n",
              "          const dataTable =\n",
              "            await google.colab.kernel.invokeFunction('convertToInteractive',\n",
              "                                                     [key], {});\n",
              "          if (!dataTable) return;\n",
              "\n",
              "          const docLinkHtml = 'Like what you see? Visit the ' +\n",
              "            '<a target=\"_blank\" href=https://colab.research.google.com/notebooks/data_table.ipynb>data table notebook</a>'\n",
              "            + ' to learn more about interactive tables.';\n",
              "          element.innerHTML = '';\n",
              "          dataTable['output_type'] = 'display_data';\n",
              "          await google.colab.output.renderOutput(dataTable, element);\n",
              "          const docLink = document.createElement('div');\n",
              "          docLink.innerHTML = docLinkHtml;\n",
              "          element.appendChild(docLink);\n",
              "        }\n",
              "      </script>\n",
              "    </div>\n",
              "  </div>\n",
              "  "
            ]
          },
          "metadata": {},
          "execution_count": 60
        }
      ]
    },
    {
      "cell_type": "markdown",
      "source": [
        ""
      ],
      "metadata": {
        "id": "GAU4iShuUTlj"
      }
    },
    {
      "cell_type": "code",
      "source": [
        "ax = xs['lastReportedPosition.speedMPH'].hist(bins=60)\n"
      ],
      "metadata": {
        "id": "W_xHGvS4mTAv",
        "colab": {
          "base_uri": "https://localhost:8080/",
          "height": 268
        },
        "outputId": "ecad8092-97ec-4695-b23b-d4478d047784"
      },
      "execution_count": 61,
      "outputs": [
        {
          "output_type": "display_data",
          "data": {
            "text/plain": [
              "<Figure size 432x288 with 1 Axes>"
            ],
            "image/png": "[encoded data removed]"
          },
          "metadata": {
            "needs_background": "light"
          }
        }
      ]
    },
    {
      "cell_type": "code",
      "source": [
        "from sklearn.inspection import plot_partial_dependence\n",
        "\n",
        "fig,ax = plt.subplots(figsize=(12, 4))\n",
        "plot_partial_dependence(m, xs, ['lastReportedPosition.speedMPH'],\n",
        "                        grid_resolution=20, ax=ax);"
      ],
      "metadata": {
        "id": "dVfYTqKvniXo",
        "colab": {
          "base_uri": "https://localhost:8080/",
          "height": 340
        },
        "outputId": "fc60364c-c0f5-476c-fa05-2d4cd01502a5"
      },
      "execution_count": 62,
      "outputs": [
        {
          "output_type": "stream",
          "name": "stderr",
          "text": [
            "/usr/local/lib/python3.7/dist-packages/sklearn/utils/deprecation.py:87: FutureWarning: Function plot_partial_dependence is deprecated; Function `plot_partial_dependence` is deprecated in 1.0 and will be removed in 1.2. Use PartialDependenceDisplay.from_estimator instead\n",
            "  warnings.warn(msg, category=FutureWarning)\n"
          ]
        },
        {
          "output_type": "display_data",
          "data": {
            "text/plain": [
              "<Figure size 864x288 with 2 Axes>"
            ],
            "image/png": "[encoded data removed]"
          },
          "metadata": {
            "needs_background": "light"
          }
        }
      ]
    },
    {
      "cell_type": "markdown",
      "source": [
        "#Random Forest"
      ],
      "metadata": {
        "id": "-iGNWlJDmQrV"
      }
    },
    {
      "cell_type": "code",
      "source": [
        "def randomForest(xs, y, n_estimators=50, max_samples=2500,\n",
        "       max_features=0.5, min_samples_leaf=5, **kwargs):\n",
        "    return RandomForestRegressor(n_jobs=-1, n_estimators=n_estimators,\n",
        "        max_samples=max_samples, max_features=max_features,\n",
        "        min_samples_leaf=min_samples_leaf, oob_score=True).fit(xs, y)"
      ],
      "metadata": {
        "id": "FllkOgNkUTGW"
      },
      "execution_count": 63,
      "outputs": []
    },
    {
      "cell_type": "code",
      "source": [
        "m = randomForest(xs, y);"
      ],
      "metadata": {
        "id": "OqX5AcTWVRXE"
      },
      "execution_count": 64,
      "outputs": []
    },
    {
      "cell_type": "code",
      "source": [
        "m_rmse(m, xs, y), m_rmse(m, valid_xs, valid_y)"
      ],
      "metadata": {
        "id": "33ncywqjVcwn",
        "colab": {
          "base_uri": "https://localhost:8080/"
        },
        "outputId": "a5d51b80-8380-4c45-c0cc-48d6cd0dcdb6"
      },
      "execution_count": 65,
      "outputs": [
        {
          "output_type": "execute_result",
          "data": {
            "text/plain": [
              "(6.104111, 8.660171)"
            ]
          },
          "metadata": {},
          "execution_count": 65
        }
      ]
    },
    {
      "cell_type": "code",
      "source": [
        "preds = np.stack([t.predict(valid_xs) for t in m.estimators_])"
      ],
      "metadata": {
        "id": "Dg6iyZCIW0Nt"
      },
      "execution_count": null,
      "outputs": []
    },
    {
      "cell_type": "code",
      "source": [
        "r_mse(preds.mean(0), valid_y)"
      ],
      "metadata": {
        "id": "5UldrkUhXFbi",
        "colab": {
          "base_uri": "https://localhost:8080/"
        },
        "outputId": "af9d70b9-377a-47e7-a36d-237a556246ff"
      },
      "execution_count": 67,
      "outputs": [
        {
          "output_type": "execute_result",
          "data": {
            "text/plain": [
              "8.660171"
            ]
          },
          "metadata": {},
          "execution_count": 67
        }
      ]
    },
    {
      "cell_type": "code",
      "source": [
        "plt.plot([r_mse(preds[:i+1].mean(0), valid_y) for i in range(50)]);"
      ],
      "metadata": {
        "id": "eT0fXh6uXIp1",
        "colab": {
          "base_uri": "https://localhost:8080/",
          "height": 268
        },
        "outputId": "8ce2b1f7-d031-424c-874e-569ee1dcd695"
      },
      "execution_count": 68,
      "outputs": [
        {
          "output_type": "display_data",
          "data": {
            "text/plain": [
              "<Figure size 432x288 with 1 Axes>"
            ],
            "image/png": "[encoded data removed]"
          },
          "metadata": {
            "needs_background": "light"
          }
        }
      ]
    },
    {
      "cell_type": "markdown",
      "source": [
        "### Out-of-Bag Error"
      ],
      "metadata": {
        "id": "GN-VS3_2YsOd"
      }
    },
    {
      "cell_type": "code",
      "source": [
        "r_mse(m.oob_prediction_, y)"
      ],
      "metadata": {
        "id": "tvwS19-6Yc20",
        "colab": {
          "base_uri": "https://localhost:8080/"
        },
        "outputId": "ce273477-ced5-4f34-8183-44db82d16c83"
      },
      "execution_count": 69,
      "outputs": [
        {
          "output_type": "execute_result",
          "data": {
            "text/plain": [
              "7.993047"
            ]
          },
          "metadata": {},
          "execution_count": 69
        }
      ]
    },
    {
      "cell_type": "markdown",
      "source": [
        "- How confident are we in our predictions using a particular row of data?\n",
        "- For predicting with a particular row of data, what were the most important factors, and how did they influence that prediction?\n",
        "- Which columns are the strongest predictors, which can we ignore?\n",
        "- Which columns are effectively redundant with each other, for purposes of prediction?\n",
        "- How do predictions vary, as we vary these columns?\n"
      ],
      "metadata": {
        "id": "-jSxQWTZZDfx"
      }
    },
    {
      "cell_type": "code",
      "source": [
        "preds = np.stack([t.predict(valid_xs) for t in m.estimators_])"
      ],
      "metadata": {
        "id": "eS53q1RUZRva"
      },
      "execution_count": null,
      "outputs": []
    },
    {
      "cell_type": "code",
      "source": [
        "preds.shape"
      ],
      "metadata": {
        "id": "quArhZFkZtq_",
        "colab": {
          "base_uri": "https://localhost:8080/"
        },
        "outputId": "56a3fa6b-0b83-42a7-929a-ac2ed59f80df"
      },
      "execution_count": 71,
      "outputs": [
        {
          "output_type": "execute_result",
          "data": {
            "text/plain": [
              "(50, 1432)"
            ]
          },
          "metadata": {},
          "execution_count": 71
        }
      ]
    },
    {
      "cell_type": "code",
      "source": [
        "preds_std = preds.std(0)"
      ],
      "metadata": {
        "id": "xZCBhV9MZxSH"
      },
      "execution_count": 72,
      "outputs": []
    },
    {
      "cell_type": "code",
      "source": [
        "preds_std[:5]"
      ],
      "metadata": {
        "id": "ZvKvldDdZ44S",
        "colab": {
          "base_uri": "https://localhost:8080/"
        },
        "outputId": "f60de950-decb-41f3-ba2f-f306f663f62c"
      },
      "execution_count": 73,
      "outputs": [
        {
          "output_type": "execute_result",
          "data": {
            "text/plain": [
              "array([25.28576072, 25.17129277,  8.85332443,  8.2834645 ,  4.86928941])"
            ]
          },
          "metadata": {},
          "execution_count": 73
        }
      ]
    },
    {
      "cell_type": "code",
      "source": [
        "print(preds.mean(0)[:10])\n",
        "print(valid_y[:10])"
      ],
      "metadata": {
        "id": "ispifOrY-VK3",
        "colab": {
          "base_uri": "https://localhost:8080/"
        },
        "outputId": "33a3b868-099d-4088-f4f5-a3669b0e3686"
      },
      "execution_count": 74,
      "outputs": [
        {
          "output_type": "stream",
          "name": "stdout",
          "text": [
            "[756.00186754 755.68984648 218.71028068 219.00575407 237.8523521  245.91458001 257.01942788 267.68533665 283.19362299 292.98730374]\n",
            "55     766.232605\n",
            "56     765.379028\n",
            "98     219.710281\n",
            "99     230.957947\n",
            "100    240.860855\n",
            "101    250.790558\n",
            "102    263.092224\n",
            "103    274.378143\n",
            "104    285.813904\n",
            "105    297.657440\n",
            "Name: nextValue, dtype: float32\n"
          ]
        }
      ]
    },
    {
      "cell_type": "markdown",
      "source": [
        "# FEATURE Importance"
      ],
      "metadata": {
        "id": "tkENwKVIaPXc"
      }
    },
    {
      "cell_type": "code",
      "source": [
        "fi = rf_feat_importance(m, xs)\n",
        "fi[:20]"
      ],
      "metadata": {
        "id": "_xddcBHXaj9O",
        "colab": {
          "base_uri": "https://localhost:8080/",
          "height": 676
        },
        "outputId": "09131dbe-3fce-4f3a-bbcf-8b6418be6025"
      },
      "execution_count": 75,
      "outputs": [
        {
          "output_type": "execute_result",
          "data": {
            "text/plain": [
              "                                                             cols       imp\n",
              "23  lastReportedPosition.milepostLocation.milepost.milepostNumber  0.583725\n",
              "38                                                       milepost  0.318818\n",
              "14                                                  workLocations  0.081188\n",
              "39                                                locomotiveCount  0.007024\n",
              "12                                                         mpIncr  0.004464\n",
              "22                                  lastReportedPosition.speedMPH  0.002277\n",
              "6                 lastReportedPosition.milepostLocation.trackName  0.000329\n",
              "3                                             trainId.trainSymbol  0.000257\n",
              "35                                                  emptyCarCount  0.000149\n",
              "36                                                    trainLength  0.000145\n",
              "4                                               trainId.trainDate  0.000128\n",
              "25                                   aotuTrainData.totalCarLength  0.000127\n",
              "34                                                 loadedCarCount  0.000127\n",
              "45                       lastReportedPosition.positionTimeElapsed  0.000124\n",
              "24                                   aotuTrainData.totalCarWeight  0.000123\n",
              "37                                                trailingTonnage  0.000121\n",
              "0                                             ptcLeadLocomotiveId  0.000113\n",
              "7                                      aotuTrainData.priorityCode  0.000109\n",
              "26                            aotuTrainData.totalLocomotiveWeight  0.000104\n",
              "27                            aotuTrainData.totalLocomotiveLength  0.000102"
            ],
            "text/html": [
              "\n",
              "  <div id=\"df-294c24f2-cebe-4f0a-a09a-edabddb5ae66\">\n",
              "    <div class=\"colab-df-container\">\n",
              "      <div>\n",
              "<style scoped>\n",
              "    .dataframe tbody tr th:only-of-type {\n",
              "        vertical-align: middle;\n",
              "    }\n",
              "\n",
              "    .dataframe tbody tr th {\n",
              "        vertical-align: top;\n",
              "    }\n",
              "\n",
              "    .dataframe thead th {\n",
              "        text-align: right;\n",
              "    }\n",
              "</style>\n",
              "<table border=\"1\" class=\"dataframe\">\n",
              "  <thead>\n",
              "    <tr style=\"text-align: right;\">\n",
              "      <th></th>\n",
              "      <th>cols</th>\n",
              "      <th>imp</th>\n",
              "    </tr>\n",
              "  </thead>\n",
              "  <tbody>\n",
              "    <tr>\n",
              "      <th>23</th>\n",
              "      <td>lastReportedPosition.milepostLocation.milepost.milepostNumber</td>\n",
              "      <td>0.583725</td>\n",
              "    </tr>\n",
              "    <tr>\n",
              "      <th>38</th>\n",
              "      <td>milepost</td>\n",
              "      <td>0.318818</td>\n",
              "    </tr>\n",
              "    <tr>\n",
              "      <th>14</th>\n",
              "      <td>workLocations</td>\n",
              "      <td>0.081188</td>\n",
              "    </tr>\n",
              "    <tr>\n",
              "      <th>39</th>\n",
              "      <td>locomotiveCount</td>\n",
              "      <td>0.007024</td>\n",
              "    </tr>\n",
              "    <tr>\n",
              "      <th>12</th>\n",
              "      <td>mpIncr</td>\n",
              "      <td>0.004464</td>\n",
              "    </tr>\n",
              "    <tr>\n",
              "      <th>22</th>\n",
              "      <td>lastReportedPosition.speedMPH</td>\n",
              "      <td>0.002277</td>\n",
              "    </tr>\n",
              "    <tr>\n",
              "      <th>6</th>\n",
              "      <td>lastReportedPosition.milepostLocation.trackName</td>\n",
              "      <td>0.000329</td>\n",
              "    </tr>\n",
              "    <tr>\n",
              "      <th>3</th>\n",
              "      <td>trainId.trainSymbol</td>\n",
              "      <td>0.000257</td>\n",
              "    </tr>\n",
              "    <tr>\n",
              "      <th>35</th>\n",
              "      <td>emptyCarCount</td>\n",
              "      <td>0.000149</td>\n",
              "    </tr>\n",
              "    <tr>\n",
              "      <th>36</th>\n",
              "      <td>trainLength</td>\n",
              "      <td>0.000145</td>\n",
              "    </tr>\n",
              "    <tr>\n",
              "      <th>4</th>\n",
              "      <td>trainId.trainDate</td>\n",
              "      <td>0.000128</td>\n",
              "    </tr>\n",
              "    <tr>\n",
              "      <th>25</th>\n",
              "      <td>aotuTrainData.totalCarLength</td>\n",
              "      <td>0.000127</td>\n",
              "    </tr>\n",
              "    <tr>\n",
              "      <th>34</th>\n",
              "      <td>loadedCarCount</td>\n",
              "      <td>0.000127</td>\n",
              "    </tr>\n",
              "    <tr>\n",
              "      <th>45</th>\n",
              "      <td>lastReportedPosition.positionTimeElapsed</td>\n",
              "      <td>0.000124</td>\n",
              "    </tr>\n",
              "    <tr>\n",
              "      <th>24</th>\n",
              "      <td>aotuTrainData.totalCarWeight</td>\n",
              "      <td>0.000123</td>\n",
              "    </tr>\n",
              "    <tr>\n",
              "      <th>37</th>\n",
              "      <td>trailingTonnage</td>\n",
              "      <td>0.000121</td>\n",
              "    </tr>\n",
              "    <tr>\n",
              "      <th>0</th>\n",
              "      <td>ptcLeadLocomotiveId</td>\n",
              "      <td>0.000113</td>\n",
              "    </tr>\n",
              "    <tr>\n",
              "      <th>7</th>\n",
              "      <td>aotuTrainData.priorityCode</td>\n",
              "      <td>0.000109</td>\n",
              "    </tr>\n",
              "    <tr>\n",
              "      <th>26</th>\n",
              "      <td>aotuTrainData.totalLocomotiveWeight</td>\n",
              "      <td>0.000104</td>\n",
              "    </tr>\n",
              "    <tr>\n",
              "      <th>27</th>\n",
              "      <td>aotuTrainData.totalLocomotiveLength</td>\n",
              "      <td>0.000102</td>\n",
              "    </tr>\n",
              "  </tbody>\n",
              "</table>\n",
              "</div>\n",
              "      <button class=\"colab-df-convert\" onclick=\"convertToInteractive('df-294c24f2-cebe-4f0a-a09a-edabddb5ae66')\"\n",
              "              title=\"Convert this dataframe to an interactive table.\"\n",
              "              style=\"display:none;\">\n",
              "        \n",
              "  <svg xmlns=\"http://www.w3.org/2000/svg\" height=\"24px\"viewBox=\"0 0 24 24\"\n",
              "       width=\"24px\">\n",
              "    <path d=\"M0 0h24v24H0V0z\" fill=\"none\"/>\n",
              "    <path d=\"M18.56 5.44l.94 2.06.94-2.06 2.06-.94-2.06-.94-.94-2.06-.94 2.06-2.06.94zm-11 1L8.5 8.5l.94-2.06 2.06-.94-2.06-.94L8.5 2.5l-.94 2.06-2.06.94zm10 10l.94 2.06.94-2.06 2.06-.94-2.06-.94-.94-2.06-.94 2.06-2.06.94z\"/><path d=\"M17.41 7.96l-1.37-1.37c-.4-.4-.92-.59-1.43-.59-.52 0-1.04.2-1.43.59L10.3 9.45l-7.72 7.72c-.78.78-.78 2.05 0 2.83L4 21.41c.39.39.9.59 1.41.59.51 0 1.02-.2 1.41-.59l7.78-7.78 2.81-2.81c.8-.78.8-2.07 0-2.86zM5.41 20L4 18.59l7.72-7.72 1.47 1.35L5.41 20z\"/>\n",
              "  </svg>\n",
              "      </button>\n",
              "      \n",
              "  <style>\n",
              "    .colab-df-container {\n",
              "      display:flex;\n",
              "      flex-wrap:wrap;\n",
              "      gap: 12px;\n",
              "    }\n",
              "\n",
              "    .colab-df-convert {\n",
              "      background-color: #E8F0FE;\n",
              "      border: none;\n",
              "      border-radius: 50%;\n",
              "      cursor: pointer;\n",
              "      display: none;\n",
              "      fill: #1967D2;\n",
              "      height: 32px;\n",
              "      padding: 0 0 0 0;\n",
              "      width: 32px;\n",
              "    }\n",
              "\n",
              "    .colab-df-convert:hover {\n",
              "      background-color: #E2EBFA;\n",
              "      box-shadow: 0px 1px 2px rgba(60, 64, 67, 0.3), 0px 1px 3px 1px rgba(60, 64, 67, 0.15);\n",
              "      fill: #174EA6;\n",
              "    }\n",
              "\n",
              "    [theme=dark] .colab-df-convert {\n",
              "      background-color: #3B4455;\n",
              "      fill: #D2E3FC;\n",
              "    }\n",
              "\n",
              "    [theme=dark] .colab-df-convert:hover {\n",
              "      background-color: #434B5C;\n",
              "      box-shadow: 0px 1px 3px 1px rgba(0, 0, 0, 0.15);\n",
              "      filter: drop-shadow(0px 1px 2px rgba(0, 0, 0, 0.3));\n",
              "      fill: #FFFFFF;\n",
              "    }\n",
              "  </style>\n",
              "\n",
              "      <script>\n",
              "        const buttonEl =\n",
              "          document.querySelector('#df-294c24f2-cebe-4f0a-a09a-edabddb5ae66 button.colab-df-convert');\n",
              "        buttonEl.style.display =\n",
              "          google.colab.kernel.accessAllowed ? 'block' : 'none';\n",
              "\n",
              "        async function convertToInteractive(key) {\n",
              "          const element = document.querySelector('#df-294c24f2-cebe-4f0a-a09a-edabddb5ae66');\n",
              "          const dataTable =\n",
              "            await google.colab.kernel.invokeFunction('convertToInteractive',\n",
              "                                                     [key], {});\n",
              "          if (!dataTable) return;\n",
              "\n",
              "          const docLinkHtml = 'Like what you see? Visit the ' +\n",
              "            '<a target=\"_blank\" href=https://colab.research.google.com/notebooks/data_table.ipynb>data table notebook</a>'\n",
              "            + ' to learn more about interactive tables.';\n",
              "          element.innerHTML = '';\n",
              "          dataTable['output_type'] = 'display_data';\n",
              "          await google.colab.output.renderOutput(dataTable, element);\n",
              "          const docLink = document.createElement('div');\n",
              "          docLink.innerHTML = docLinkHtml;\n",
              "          element.appendChild(docLink);\n",
              "        }\n",
              "      </script>\n",
              "    </div>\n",
              "  </div>\n",
              "  "
            ]
          },
          "metadata": {},
          "execution_count": 75
        }
      ]
    },
    {
      "cell_type": "code",
      "source": [
        "def plot_fi(fi):\n",
        "    return fi.plot('cols', 'imp', 'barh', figsize=(12,7), legend=False)\n",
        "\n",
        "plot_fi(fi[:30]);"
      ],
      "metadata": {
        "id": "PrrzmK6AflwF",
        "colab": {
          "base_uri": "https://localhost:8080/",
          "height": 431
        },
        "outputId": "6b734f1f-8369-4460-f60f-577bed25b59c"
      },
      "execution_count": 76,
      "outputs": [
        {
          "output_type": "display_data",
          "data": {
            "text/plain": [
              "<Figure size 864x504 with 1 Axes>"
            ],
            "image/png": "[encoded data removed]"
          },
          "metadata": {
            "needs_background": "light"
          }
        }
      ]
    },
    {
      "cell_type": "markdown",
      "source": [
        "Remove low importance columns"
      ],
      "metadata": {
        "id": "ic6LbeWIf2EQ"
      }
    },
    {
      "cell_type": "code",
      "source": [
        "to_keep = fi[fi.imp>0.0002].cols\n",
        "len(to_keep)"
      ],
      "metadata": {
        "id": "jaWtqZdQfwmy",
        "colab": {
          "base_uri": "https://localhost:8080/"
        },
        "outputId": "352e755a-aa00-43df-8b4c-a40d0b421f86"
      },
      "execution_count": 77,
      "outputs": [
        {
          "output_type": "execute_result",
          "data": {
            "text/plain": [
              "8"
            ]
          },
          "metadata": {},
          "execution_count": 77
        }
      ]
    },
    {
      "cell_type": "code",
      "source": [
        "xs_imp = xs[to_keep]\n",
        "valid_xs_imp = valid_xs[to_keep]"
      ],
      "metadata": {
        "id": "KK47uCFsgAYv"
      },
      "execution_count": 78,
      "outputs": []
    },
    {
      "cell_type": "code",
      "source": [
        "m = randomForest(xs_imp, y)"
      ],
      "metadata": {
        "id": "GgFy875_gGp4"
      },
      "execution_count": 79,
      "outputs": []
    },
    {
      "cell_type": "code",
      "source": [
        "m_rmse(m, xs_imp, y), m_rmse(m, valid_xs_imp, valid_y)"
      ],
      "metadata": {
        "id": "5e5LZrqmgJf2",
        "colab": {
          "base_uri": "https://localhost:8080/"
        },
        "outputId": "d9c0a4c9-05ec-4dea-9525-f5fb79b10891"
      },
      "execution_count": 80,
      "outputs": [
        {
          "output_type": "execute_result",
          "data": {
            "text/plain": [
              "(6.983037, 8.974705)"
            ]
          },
          "metadata": {},
          "execution_count": 80
        }
      ]
    },
    {
      "cell_type": "code",
      "source": [
        "plot_fi(rf_feat_importance(m, xs_imp));"
      ],
      "metadata": {
        "id": "5Szx4cKsgKPL",
        "colab": {
          "base_uri": "https://localhost:8080/",
          "height": 431
        },
        "outputId": "7f181ef5-2af5-445c-885e-b7702066efbc"
      },
      "execution_count": 81,
      "outputs": [
        {
          "output_type": "display_data",
          "data": {
            "text/plain": [
              "<Figure size 864x504 with 1 Axes>"
            ],
            "image/png": "[encoded data removed]"
          },
          "metadata": {
            "needs_background": "light"
          }
        }
      ]
    },
    {
      "cell_type": "code",
      "source": [
        "fastai.cluster_columns(xs_imp)"
      ],
      "metadata": {
        "id": "ZRqtok8LhwlR",
        "colab": {
          "base_uri": "https://localhost:8080/",
          "height": 377
        },
        "outputId": "791d9cd0-3c27-4712-9158-a4298d04ecac"
      },
      "execution_count": 82,
      "outputs": [
        {
          "output_type": "display_data",
          "data": {
            "text/plain": [
              "<Figure size 720x432 with 1 Axes>"
            ],
            "image/png": "[encoded data removed]"
          },
          "metadata": {
            "needs_background": "light"
          }
        }
      ]
    },
    {
      "cell_type": "markdown",
      "source": [
        "# Compute the Physics Model loss for the same interval:"
      ],
      "metadata": {
        "id": "Q-BM2Bkc_YgZ"
      }
    },
    {
      "cell_type": "code",
      "source": [
        "b = dfTrainsNextBeop.tail(14165)\n",
        "# beopValues = beopValues.to_frame().join(valid_y)\n",
        "#m_rmse(m, valid_xs_imp, valid_y)\n",
        "b = b.reset_index(drop=true)\n",
        "#print (b)\n",
        "y = valid_y.reset_index(drop=true)\n",
        "#print (y)\n",
        "df2  = pd.concat([b, y], axis=1)\n",
        "df2 = df2.dropna()\n",
        "print(df2)\n",
        "r_mse(df2['beopValue'], df2['nextValue'])\n",
        "# print(BeopValidations[:5])\n",
        "#print(valid_y[:5])"
      ],
      "metadata": {
        "colab": {
          "base_uri": "https://localhost:8080/"
        },
        "id": "9-wNLj6p9amP",
        "outputId": "2cb3636f-520f-40b6-db9f-925aec47c120"
      },
      "execution_count": 83,
      "outputs": [
        {
          "output_type": "stream",
          "name": "stdout",
          "text": [
            "      beopValue   nextValue\n",
            "0     748.47210  766.232605\n",
            "1     755.13160  765.379028\n",
            "13    768.62110  762.740173\n",
            "22    236.63074  765.944885\n",
            "24    245.60406  760.419983\n",
            "...         ...         ...\n",
            "1426  261.05673  253.131027\n",
            "1427  253.50404  239.811264\n",
            "1428  246.18802  230.089874\n",
            "1429  239.28831  222.347946\n",
            "1431  234.14342  205.256943\n",
            "\n",
            "[925 rows x 2 columns]\n"
          ]
        },
        {
          "output_type": "execute_result",
          "data": {
            "text/plain": [
              "253.503697"
            ]
          },
          "metadata": {},
          "execution_count": 83
        }
      ]
    },
    {
      "cell_type": "markdown",
      "source": [
        "# Finding Out-of-Domain Data\n",
        "Spot variables that are unique to the test set versus the training set"
      ],
      "metadata": {
        "id": "1N-rN5Y9BoHT"
      }
    },
    {
      "cell_type": "code",
      "source": [
        "df_dom = pd.concat([xs, valid_xs])\n",
        "is_valid = np.array([0]*len(xs) + [1]*len(valid_xs))\n",
        "\n",
        "m = randomForest(df_dom, is_valid)\n",
        "rf_feat_importance(m, df_dom)[:8]"
      ],
      "metadata": {
        "colab": {
          "base_uri": "https://localhost:8080/",
          "height": 300
        },
        "id": "qzU3ybMaBuOr",
        "outputId": "4dda8251-e539-42cf-b794-fe3e81143ec8"
      },
      "execution_count": 84,
      "outputs": [
        {
          "output_type": "execute_result",
          "data": {
            "text/plain": [
              "                                                 cols       imp\n",
              "44         lastReportedPosition.positionTimeDayofyear  0.497973\n",
              "45           lastReportedPosition.positionTimeElapsed  0.346336\n",
              "42               lastReportedPosition.positionTimeDay  0.092295\n",
              "41              lastReportedPosition.positionTimeWeek  0.031655\n",
              "4                                   trainId.trainDate  0.022331\n",
              "43         lastReportedPosition.positionTimeDayofweek  0.005306\n",
              "40             lastReportedPosition.positionTimeMonth  0.002186\n",
              "19  lastReportedPosition.positionTimeIs_quarter_start  0.001919"
            ],
            "text/html": [
              "\n",
              "  <div id=\"df-ca2ca484-834e-453c-a17d-ad1d2f84d074\">\n",
              "    <div class=\"colab-df-container\">\n",
              "      <div>\n",
              "<style scoped>\n",
              "    .dataframe tbody tr th:only-of-type {\n",
              "        vertical-align: middle;\n",
              "    }\n",
              "\n",
              "    .dataframe tbody tr th {\n",
              "        vertical-align: top;\n",
              "    }\n",
              "\n",
              "    .dataframe thead th {\n",
              "        text-align: right;\n",
              "    }\n",
              "</style>\n",
              "<table border=\"1\" class=\"dataframe\">\n",
              "  <thead>\n",
              "    <tr style=\"text-align: right;\">\n",
              "      <th></th>\n",
              "      <th>cols</th>\n",
              "      <th>imp</th>\n",
              "    </tr>\n",
              "  </thead>\n",
              "  <tbody>\n",
              "    <tr>\n",
              "      <th>44</th>\n",
              "      <td>lastReportedPosition.positionTimeDayofyear</td>\n",
              "      <td>0.497973</td>\n",
              "    </tr>\n",
              "    <tr>\n",
              "      <th>45</th>\n",
              "      <td>lastReportedPosition.positionTimeElapsed</td>\n",
              "      <td>0.346336</td>\n",
              "    </tr>\n",
              "    <tr>\n",
              "      <th>42</th>\n",
              "      <td>lastReportedPosition.positionTimeDay</td>\n",
              "      <td>0.092295</td>\n",
              "    </tr>\n",
              "    <tr>\n",
              "      <th>41</th>\n",
              "      <td>lastReportedPosition.positionTimeWeek</td>\n",
              "      <td>0.031655</td>\n",
              "    </tr>\n",
              "    <tr>\n",
              "      <th>4</th>\n",
              "      <td>trainId.trainDate</td>\n",
              "      <td>0.022331</td>\n",
              "    </tr>\n",
              "    <tr>\n",
              "      <th>43</th>\n",
              "      <td>lastReportedPosition.positionTimeDayofweek</td>\n",
              "      <td>0.005306</td>\n",
              "    </tr>\n",
              "    <tr>\n",
              "      <th>40</th>\n",
              "      <td>lastReportedPosition.positionTimeMonth</td>\n",
              "      <td>0.002186</td>\n",
              "    </tr>\n",
              "    <tr>\n",
              "      <th>19</th>\n",
              "      <td>lastReportedPosition.positionTimeIs_quarter_start</td>\n",
              "      <td>0.001919</td>\n",
              "    </tr>\n",
              "  </tbody>\n",
              "</table>\n",
              "</div>\n",
              "      <button class=\"colab-df-convert\" onclick=\"convertToInteractive('df-ca2ca484-834e-453c-a17d-ad1d2f84d074')\"\n",
              "              title=\"Convert this dataframe to an interactive table.\"\n",
              "              style=\"display:none;\">\n",
              "        \n",
              "  <svg xmlns=\"http://www.w3.org/2000/svg\" height=\"24px\"viewBox=\"0 0 24 24\"\n",
              "       width=\"24px\">\n",
              "    <path d=\"M0 0h24v24H0V0z\" fill=\"none\"/>\n",
              "    <path d=\"M18.56 5.44l.94 2.06.94-2.06 2.06-.94-2.06-.94-.94-2.06-.94 2.06-2.06.94zm-11 1L8.5 8.5l.94-2.06 2.06-.94-2.06-.94L8.5 2.5l-.94 2.06-2.06.94zm10 10l.94 2.06.94-2.06 2.06-.94-2.06-.94-.94-2.06-.94 2.06-2.06.94z\"/><path d=\"M17.41 7.96l-1.37-1.37c-.4-.4-.92-.59-1.43-.59-.52 0-1.04.2-1.43.59L10.3 9.45l-7.72 7.72c-.78.78-.78 2.05 0 2.83L4 21.41c.39.39.9.59 1.41.59.51 0 1.02-.2 1.41-.59l7.78-7.78 2.81-2.81c.8-.78.8-2.07 0-2.86zM5.41 20L4 18.59l7.72-7.72 1.47 1.35L5.41 20z\"/>\n",
              "  </svg>\n",
              "      </button>\n",
              "      \n",
              "  <style>\n",
              "    .colab-df-container {\n",
              "      display:flex;\n",
              "      flex-wrap:wrap;\n",
              "      gap: 12px;\n",
              "    }\n",
              "\n",
              "    .colab-df-convert {\n",
              "      background-color: #E8F0FE;\n",
              "      border: none;\n",
              "      border-radius: 50%;\n",
              "      cursor: pointer;\n",
              "      display: none;\n",
              "      fill: #1967D2;\n",
              "      height: 32px;\n",
              "      padding: 0 0 0 0;\n",
              "      width: 32px;\n",
              "    }\n",
              "\n",
              "    .colab-df-convert:hover {\n",
              "      background-color: #E2EBFA;\n",
              "      box-shadow: 0px 1px 2px rgba(60, 64, 67, 0.3), 0px 1px 3px 1px rgba(60, 64, 67, 0.15);\n",
              "      fill: #174EA6;\n",
              "    }\n",
              "\n",
              "    [theme=dark] .colab-df-convert {\n",
              "      background-color: #3B4455;\n",
              "      fill: #D2E3FC;\n",
              "    }\n",
              "\n",
              "    [theme=dark] .colab-df-convert:hover {\n",
              "      background-color: #434B5C;\n",
              "      box-shadow: 0px 1px 3px 1px rgba(0, 0, 0, 0.15);\n",
              "      filter: drop-shadow(0px 1px 2px rgba(0, 0, 0, 0.3));\n",
              "      fill: #FFFFFF;\n",
              "    }\n",
              "  </style>\n",
              "\n",
              "      <script>\n",
              "        const buttonEl =\n",
              "          document.querySelector('#df-ca2ca484-834e-453c-a17d-ad1d2f84d074 button.colab-df-convert');\n",
              "        buttonEl.style.display =\n",
              "          google.colab.kernel.accessAllowed ? 'block' : 'none';\n",
              "\n",
              "        async function convertToInteractive(key) {\n",
              "          const element = document.querySelector('#df-ca2ca484-834e-453c-a17d-ad1d2f84d074');\n",
              "          const dataTable =\n",
              "            await google.colab.kernel.invokeFunction('convertToInteractive',\n",
              "                                                     [key], {});\n",
              "          if (!dataTable) return;\n",
              "\n",
              "          const docLinkHtml = 'Like what you see? Visit the ' +\n",
              "            '<a target=\"_blank\" href=https://colab.research.google.com/notebooks/data_table.ipynb>data table notebook</a>'\n",
              "            + ' to learn more about interactive tables.';\n",
              "          element.innerHTML = '';\n",
              "          dataTable['output_type'] = 'display_data';\n",
              "          await google.colab.output.renderOutput(dataTable, element);\n",
              "          const docLink = document.createElement('div');\n",
              "          docLink.innerHTML = docLinkHtml;\n",
              "          element.appendChild(docLink);\n",
              "        }\n",
              "      </script>\n",
              "    </div>\n",
              "  </div>\n",
              "  "
            ]
          },
          "metadata": {},
          "execution_count": 84
        }
      ]
    },
    {
      "cell_type": "markdown",
      "source": [
        "Consider whether these values make sense"
      ],
      "metadata": {
        "id": "wJPE_9WCLCPr"
      }
    },
    {
      "cell_type": "markdown",
      "source": [
        "#Using a Neural Net"
      ],
      "metadata": {
        "id": "K9TcqLvPKQJD"
      }
    },
    {
      "cell_type": "code",
      "source": [
        "df_nn_final = dfTrainsLearn"
      ],
      "metadata": {
        "id": "CrfcBKRXKqQ8"
      },
      "execution_count": 85,
      "outputs": []
    },
    {
      "cell_type": "code",
      "source": [
        "df_nn_final.info()"
      ],
      "metadata": {
        "id": "W87DbNmeMVsv",
        "colab": {
          "base_uri": "https://localhost:8080/"
        },
        "outputId": "7315b43b-19b9-4b96-b6c2-aeb9684a9c2a"
      },
      "execution_count": 86,
      "outputs": [
        {
          "output_type": "stream",
          "name": "stdout",
          "text": [
            "<class 'pandas.core.frame.DataFrame'>\n",
            "Int64Index: 5258 entries, 34 to 6744\n",
            "Data columns (total 47 columns):\n",
            " #   Column                                                         Non-Null Count  Dtype         \n",
            "---  ------                                                         --------------  -----         \n",
            " 0   ptcLeadLocomotiveId                                            5258 non-null   object        \n",
            " 1   trainId.trainSCAC                                              5258 non-null   category      \n",
            " 2   trainId.trainSection                                           5258 non-null   category      \n",
            " 3   trainId.trainSymbol                                            5258 non-null   object        \n",
            " 4   trainId.trainDate                                              5258 non-null   datetime64[ns]\n",
            " 5   lastReportedPosition.speedMPH                                  5258 non-null   int64         \n",
            " 6   lastReportedPosition.milepostLocation.subdivisionId            5258 non-null   int64         \n",
            " 7   lastReportedPosition.milepostLocation.trackName                5258 non-null   category      \n",
            " 8   lastReportedPosition.milepostLocation.milepost.milepostNumber  5258 non-null   float64       \n",
            " 9   aotuTrainData.priorityCode                                     5258 non-null   category      \n",
            " 10  aotuTrainData.categoryCode                                     5258 non-null   category      \n",
            " 11  aotuTrainData.authorityRangeCode                               5258 non-null   category      \n",
            " 12  aotuTrainData.ownershipCode                                    5258 non-null   category      \n",
            " 13  aotuTrainData.totalCarWeight                                   5258 non-null   float64       \n",
            " 14  aotuTrainData.totalCarLength                                   5258 non-null   float64       \n",
            " 15  aotuTrainData.totalLocomotiveWeight                            5258 non-null   float64       \n",
            " 16  aotuTrainData.totalLocomotiveLength                            5258 non-null   float64       \n",
            " 17  aotuTrainData.actualTonsPerAxle                                5258 non-null   float64       \n",
            " 18  aotuTrainData.heavy143TonCarCount                              5258 non-null   float64       \n",
            " 19  aotuTrainData.heavy158TonCarCount                              5258 non-null   float64       \n",
            " 20  aotuTrainData.over158TonCarCount                               5258 non-null   float64       \n",
            " 21  aotuTrainData.highWideCarCount                                 5258 non-null   float64       \n",
            " 22  aotuTrainData.eventCode                                        5258 non-null   category      \n",
            " 23  maximumTrainSpeed                                              5258 non-null   float64       \n",
            " 24  loadedCarCount                                                 5258 non-null   float64       \n",
            " 25  emptyCarCount                                                  5258 non-null   float64       \n",
            " 26  trainLength                                                    5258 non-null   float64       \n",
            " 27  trailingTonnage                                                5258 non-null   float64       \n",
            " 28  milepost                                                       5258 non-null   int64         \n",
            " 29  mpIncr                                                         5258 non-null   bool          \n",
            " 30  symbolType                                                     5258 non-null   category      \n",
            " 31  workLocations                                                  4489 non-null   object        \n",
            " 32  locomotiveCount                                                5258 non-null   int64         \n",
            " 33  nextValue                                                      5258 non-null   float64       \n",
            " 34  lastReportedPosition.positionTimeYear                          5258 non-null   int64         \n",
            " 35  lastReportedPosition.positionTimeMonth                         5258 non-null   int64         \n",
            " 36  lastReportedPosition.positionTimeWeek                          5258 non-null   int64         \n",
            " 37  lastReportedPosition.positionTimeDay                           5258 non-null   int64         \n",
            " 38  lastReportedPosition.positionTimeDayofweek                     5258 non-null   int64         \n",
            " 39  lastReportedPosition.positionTimeDayofyear                     5258 non-null   int64         \n",
            " 40  lastReportedPosition.positionTimeIs_month_end                  5258 non-null   bool          \n",
            " 41  lastReportedPosition.positionTimeIs_month_start                5258 non-null   bool          \n",
            " 42  lastReportedPosition.positionTimeIs_quarter_end                5258 non-null   bool          \n",
            " 43  lastReportedPosition.positionTimeIs_quarter_start              5258 non-null   bool          \n",
            " 44  lastReportedPosition.positionTimeIs_year_end                   5258 non-null   bool          \n",
            " 45  lastReportedPosition.positionTimeIs_year_start                 5258 non-null   bool          \n",
            " 46  lastReportedPosition.positionTimeElapsed                       5258 non-null   float64       \n",
            "dtypes: bool(7), category(9), datetime64[ns](1), float64(17), int64(10), object(3)\n",
            "memory usage: 1.4+ MB\n"
          ]
        }
      ]
    },
    {
      "cell_type": "code",
      "source": [
        "cont_nn,cat_nn = cont_cat_split(df_nn_final, max_card=9000, dep_var=dep_var)"
      ],
      "metadata": {
        "id": "TpvoMKe1MNzg"
      },
      "execution_count": 87,
      "outputs": []
    },
    {
      "cell_type": "code",
      "source": [
        "cont_nn"
      ],
      "metadata": {
        "colab": {
          "base_uri": "https://localhost:8080/"
        },
        "id": "xef-YmKAMeHO",
        "outputId": "d276f0ea-35cf-44db-bdbb-2802b436e598"
      },
      "execution_count": 88,
      "outputs": [
        {
          "output_type": "execute_result",
          "data": {
            "text/plain": [
              "['lastReportedPosition.milepostLocation.milepost.milepostNumber',\n",
              " 'aotuTrainData.totalCarWeight',\n",
              " 'aotuTrainData.totalCarLength',\n",
              " 'aotuTrainData.totalLocomotiveWeight',\n",
              " 'aotuTrainData.totalLocomotiveLength',\n",
              " 'aotuTrainData.actualTonsPerAxle',\n",
              " 'aotuTrainData.heavy143TonCarCount',\n",
              " 'aotuTrainData.heavy158TonCarCount',\n",
              " 'aotuTrainData.over158TonCarCount',\n",
              " 'aotuTrainData.highWideCarCount',\n",
              " 'maximumTrainSpeed',\n",
              " 'loadedCarCount',\n",
              " 'emptyCarCount',\n",
              " 'trainLength',\n",
              " 'trailingTonnage',\n",
              " 'lastReportedPosition.positionTimeElapsed']"
            ]
          },
          "metadata": {},
          "execution_count": 88
        }
      ]
    },
    {
      "cell_type": "code",
      "source": [
        "numUniquePerCat = df_nn_final[cat_nn].nunique()\n",
        "with pd.option_context('display.max_rows', None, 'display.max_columns', None):  \n",
        "    print(numUniquePerCat)"
      ],
      "metadata": {
        "colab": {
          "base_uri": "https://localhost:8080/"
        },
        "id": "axfRjORJin9v",
        "outputId": "78e26067-68aa-4af7-abeb-99acd64d47a0"
      },
      "execution_count": 89,
      "outputs": [
        {
          "output_type": "stream",
          "name": "stdout",
          "text": [
            "ptcLeadLocomotiveId                                    402\n",
            "trainId.trainSCAC                                        1\n",
            "trainId.trainSection                                     4\n",
            "trainId.trainSymbol                                    150\n",
            "trainId.trainDate                                       19\n",
            "lastReportedPosition.speedMPH                           70\n",
            "lastReportedPosition.milepostLocation.subdivisionId      1\n",
            "lastReportedPosition.milepostLocation.trackName         32\n",
            "aotuTrainData.priorityCode                               5\n",
            "aotuTrainData.categoryCode                              13\n",
            "aotuTrainData.authorityRangeCode                         4\n",
            "aotuTrainData.ownershipCode                              3\n",
            "aotuTrainData.eventCode                                  1\n",
            "milepost                                               220\n",
            "mpIncr                                                   2\n",
            "symbolType                                              14\n",
            "workLocations                                           22\n",
            "locomotiveCount                                         10\n",
            "lastReportedPosition.positionTimeYear                    1\n",
            "lastReportedPosition.positionTimeMonth                   2\n",
            "lastReportedPosition.positionTimeWeek                    2\n",
            "lastReportedPosition.positionTimeDay                    12\n",
            "lastReportedPosition.positionTimeDayofweek               7\n",
            "lastReportedPosition.positionTimeDayofyear              12\n",
            "lastReportedPosition.positionTimeIs_month_end            2\n",
            "lastReportedPosition.positionTimeIs_month_start          2\n",
            "lastReportedPosition.positionTimeIs_quarter_end          2\n",
            "lastReportedPosition.positionTimeIs_quarter_start        2\n",
            "lastReportedPosition.positionTimeIs_year_end             1\n",
            "lastReportedPosition.positionTimeIs_year_start           1\n",
            "dtype: int64\n"
          ]
        }
      ]
    },
    {
      "cell_type": "code",
      "source": [
        "procs_nn = [Categorify, FillMissing, Normalize]\n",
        "to_nn = TabularPandas(df_nn_final, procs_nn, cat_nn, cont_nn,\n",
        "                      splits=splits, y_names=dep_var)"
      ],
      "metadata": {
        "id": "WNS5_jduj0Ft"
      },
      "execution_count": 90,
      "outputs": []
    },
    {
      "cell_type": "code",
      "source": [
        "dls = to_nn.dataloaders(1024)"
      ],
      "metadata": {
        "id": "HH0M0MH7kKQ-"
      },
      "execution_count": 91,
      "outputs": []
    },
    {
      "cell_type": "code",
      "source": [
        "y = to_nn.train.y\n",
        "y.min(),y.max()"
      ],
      "metadata": {
        "colab": {
          "base_uri": "https://localhost:8080/"
        },
        "id": "BPnKvYGKkRMf",
        "outputId": "dde861c2-26f3-4aaa-c0e0-88214556e353"
      },
      "execution_count": 92,
      "outputs": [
        {
          "output_type": "execute_result",
          "data": {
            "text/plain": [
              "(202.2869, 767.9996)"
            ]
          },
          "metadata": {},
          "execution_count": 92
        }
      ]
    },
    {
      "cell_type": "code",
      "source": [
        "learn = tabular_learner(dls, y_range=(202,768), layers=[500,250],\n",
        "                        n_out=1, loss_func=F.mse_loss)"
      ],
      "metadata": {
        "id": "XI0a_6T8kYCl"
      },
      "execution_count": 93,
      "outputs": []
    },
    {
      "cell_type": "code",
      "source": [
        "learn.lr_find()"
      ],
      "metadata": {
        "colab": {
          "base_uri": "https://localhost:8080/",
          "height": 306
        },
        "id": "-bG4DfIqkbyc",
        "outputId": "3d5e02c2-ce8f-4414-df28-8adc42081458"
      },
      "execution_count": 94,
      "outputs": [
        {
          "output_type": "display_data",
          "data": {
            "text/plain": [
              "<IPython.core.display.HTML object>"
            ],
            "text/html": [
              "\n",
              "<style>\n",
              "    /* Turns off some styling */\n",
              "    progress {\n",
              "        /* gets rid of default border in Firefox and Opera. */\n",
              "        border: none;\n",
              "        /* Needs to be in here for Safari polyfill so background images work as expected. */\n",
              "        background-size: auto;\n",
              "    }\n",
              "    .progress-bar-interrupted, .progress-bar-interrupted::-webkit-progress-bar {\n",
              "        background: #F44336;\n",
              "    }\n",
              "</style>\n"
            ]
          },
          "metadata": {}
        },
        {
          "output_type": "display_data",
          "data": {
            "text/plain": [
              "<IPython.core.display.HTML object>"
            ],
            "text/html": [
              ""
            ]
          },
          "metadata": {}
        },
        {
          "output_type": "execute_result",
          "data": {
            "text/plain": [
              "SuggestedLRs(valley=0.001737800776027143)"
            ]
          },
          "metadata": {},
          "execution_count": 94
        },
        {
          "output_type": "display_data",
          "data": {
            "text/plain": [
              "<Figure size 432x288 with 1 Axes>"
            ],
            "image/png": "[encoded data removed]"
          },
          "metadata": {
            "needs_background": "light"
          }
        }
      ]
    },
    {
      "cell_type": "code",
      "source": [
        "learn.fit_one_cycle(50, 1e-2)"
      ],
      "metadata": {
        "colab": {
          "base_uri": "https://localhost:8080/",
          "height": 1000
        },
        "id": "KtYc1ectkiZt",
        "outputId": "96bdfc96-9db5-401c-f336-b9169ba76cb6"
      },
      "execution_count": 95,
      "outputs": [
        {
          "output_type": "display_data",
          "data": {
            "text/plain": [
              "<IPython.core.display.HTML object>"
            ],
            "text/html": [
              "\n",
              "<style>\n",
              "    /* Turns off some styling */\n",
              "    progress {\n",
              "        /* gets rid of default border in Firefox and Opera. */\n",
              "        border: none;\n",
              "        /* Needs to be in here for Safari polyfill so background images work as expected. */\n",
              "        background-size: auto;\n",
              "    }\n",
              "    .progress-bar-interrupted, .progress-bar-interrupted::-webkit-progress-bar {\n",
              "        background: #F44336;\n",
              "    }\n",
              "</style>\n"
            ]
          },
          "metadata": {}
        },
        {
          "output_type": "display_data",
          "data": {
            "text/plain": [
              "<IPython.core.display.HTML object>"
            ],
            "text/html": [
              "<table border=\"1\" class=\"dataframe\">\n",
              "  <thead>\n",
              "    <tr style=\"text-align: left;\">\n",
              "      <th>epoch</th>\n",
              "      <th>train_loss</th>\n",
              "      <th>valid_loss</th>\n",
              "      <th>time</th>\n",
              "    </tr>\n",
              "  </thead>\n",
              "  <tbody>\n",
              "    <tr>\n",
              "      <td>0</td>\n",
              "      <td>38205.335938</td>\n",
              "      <td>55841.777344</td>\n",
              "      <td>00:00</td>\n",
              "    </tr>\n",
              "    <tr>\n",
              "      <td>1</td>\n",
              "      <td>23808.093750</td>\n",
              "      <td>54805.273438</td>\n",
              "      <td>00:00</td>\n",
              "    </tr>\n",
              "    <tr>\n",
              "      <td>2</td>\n",
              "      <td>17203.556641</td>\n",
              "      <td>51320.910156</td>\n",
              "      <td>00:00</td>\n",
              "    </tr>\n",
              "    <tr>\n",
              "      <td>3</td>\n",
              "      <td>13232.517578</td>\n",
              "      <td>48107.699219</td>\n",
              "      <td>00:00</td>\n",
              "    </tr>\n",
              "    <tr>\n",
              "      <td>4</td>\n",
              "      <td>10638.047852</td>\n",
              "      <td>45558.914062</td>\n",
              "      <td>00:00</td>\n",
              "    </tr>\n",
              "    <tr>\n",
              "      <td>5</td>\n",
              "      <td>8981.413086</td>\n",
              "      <td>44237.582031</td>\n",
              "      <td>00:00</td>\n",
              "    </tr>\n",
              "    <tr>\n",
              "      <td>6</td>\n",
              "      <td>7798.141602</td>\n",
              "      <td>45765.515625</td>\n",
              "      <td>00:00</td>\n",
              "    </tr>\n",
              "    <tr>\n",
              "      <td>7</td>\n",
              "      <td>6948.179199</td>\n",
              "      <td>42121.308594</td>\n",
              "      <td>00:00</td>\n",
              "    </tr>\n",
              "    <tr>\n",
              "      <td>8</td>\n",
              "      <td>6242.219238</td>\n",
              "      <td>32039.527344</td>\n",
              "      <td>00:00</td>\n",
              "    </tr>\n",
              "    <tr>\n",
              "      <td>9</td>\n",
              "      <td>5677.499023</td>\n",
              "      <td>24435.105469</td>\n",
              "      <td>00:00</td>\n",
              "    </tr>\n",
              "    <tr>\n",
              "      <td>10</td>\n",
              "      <td>5178.863770</td>\n",
              "      <td>19259.419922</td>\n",
              "      <td>00:00</td>\n",
              "    </tr>\n",
              "    <tr>\n",
              "      <td>11</td>\n",
              "      <td>4812.664551</td>\n",
              "      <td>14845.860352</td>\n",
              "      <td>00:00</td>\n",
              "    </tr>\n",
              "    <tr>\n",
              "      <td>12</td>\n",
              "      <td>4470.857910</td>\n",
              "      <td>10493.376953</td>\n",
              "      <td>00:00</td>\n",
              "    </tr>\n",
              "    <tr>\n",
              "      <td>13</td>\n",
              "      <td>4167.398926</td>\n",
              "      <td>5366.850098</td>\n",
              "      <td>00:00</td>\n",
              "    </tr>\n",
              "    <tr>\n",
              "      <td>14</td>\n",
              "      <td>3923.120117</td>\n",
              "      <td>4391.453613</td>\n",
              "      <td>00:00</td>\n",
              "    </tr>\n",
              "    <tr>\n",
              "      <td>15</td>\n",
              "      <td>3712.627930</td>\n",
              "      <td>2615.729004</td>\n",
              "      <td>00:00</td>\n",
              "    </tr>\n",
              "    <tr>\n",
              "      <td>16</td>\n",
              "      <td>3537.319824</td>\n",
              "      <td>1204.879517</td>\n",
              "      <td>00:00</td>\n",
              "    </tr>\n",
              "    <tr>\n",
              "      <td>17</td>\n",
              "      <td>3388.552246</td>\n",
              "      <td>1030.171753</td>\n",
              "      <td>00:00</td>\n",
              "    </tr>\n",
              "    <tr>\n",
              "      <td>18</td>\n",
              "      <td>3235.313477</td>\n",
              "      <td>1011.983398</td>\n",
              "      <td>00:00</td>\n",
              "    </tr>\n",
              "    <tr>\n",
              "      <td>19</td>\n",
              "      <td>3094.526855</td>\n",
              "      <td>647.393555</td>\n",
              "      <td>00:00</td>\n",
              "    </tr>\n",
              "    <tr>\n",
              "      <td>20</td>\n",
              "      <td>2985.861816</td>\n",
              "      <td>620.239990</td>\n",
              "      <td>00:00</td>\n",
              "    </tr>\n",
              "    <tr>\n",
              "      <td>21</td>\n",
              "      <td>2881.313477</td>\n",
              "      <td>633.741638</td>\n",
              "      <td>00:00</td>\n",
              "    </tr>\n",
              "    <tr>\n",
              "      <td>22</td>\n",
              "      <td>2772.208984</td>\n",
              "      <td>617.612000</td>\n",
              "      <td>00:00</td>\n",
              "    </tr>\n",
              "    <tr>\n",
              "      <td>23</td>\n",
              "      <td>2670.506592</td>\n",
              "      <td>601.113525</td>\n",
              "      <td>00:00</td>\n",
              "    </tr>\n",
              "    <tr>\n",
              "      <td>24</td>\n",
              "      <td>2600.267334</td>\n",
              "      <td>573.215332</td>\n",
              "      <td>00:00</td>\n",
              "    </tr>\n",
              "    <tr>\n",
              "      <td>25</td>\n",
              "      <td>2519.272949</td>\n",
              "      <td>579.640930</td>\n",
              "      <td>00:00</td>\n",
              "    </tr>\n",
              "    <tr>\n",
              "      <td>26</td>\n",
              "      <td>2445.665527</td>\n",
              "      <td>570.459778</td>\n",
              "      <td>00:00</td>\n",
              "    </tr>\n",
              "    <tr>\n",
              "      <td>27</td>\n",
              "      <td>2393.235107</td>\n",
              "      <td>565.392700</td>\n",
              "      <td>00:00</td>\n",
              "    </tr>\n",
              "    <tr>\n",
              "      <td>28</td>\n",
              "      <td>2320.288818</td>\n",
              "      <td>560.354553</td>\n",
              "      <td>00:00</td>\n",
              "    </tr>\n",
              "    <tr>\n",
              "      <td>29</td>\n",
              "      <td>2263.418213</td>\n",
              "      <td>562.336426</td>\n",
              "      <td>00:00</td>\n",
              "    </tr>\n",
              "    <tr>\n",
              "      <td>30</td>\n",
              "      <td>2215.904297</td>\n",
              "      <td>583.766235</td>\n",
              "      <td>00:00</td>\n",
              "    </tr>\n",
              "    <tr>\n",
              "      <td>31</td>\n",
              "      <td>2167.864990</td>\n",
              "      <td>603.489502</td>\n",
              "      <td>00:00</td>\n",
              "    </tr>\n",
              "    <tr>\n",
              "      <td>32</td>\n",
              "      <td>2125.427734</td>\n",
              "      <td>581.395142</td>\n",
              "      <td>00:00</td>\n",
              "    </tr>\n",
              "    <tr>\n",
              "      <td>33</td>\n",
              "      <td>2086.859375</td>\n",
              "      <td>567.861389</td>\n",
              "      <td>00:00</td>\n",
              "    </tr>\n",
              "    <tr>\n",
              "      <td>34</td>\n",
              "      <td>2060.802979</td>\n",
              "      <td>565.190613</td>\n",
              "      <td>00:00</td>\n",
              "    </tr>\n",
              "    <tr>\n",
              "      <td>35</td>\n",
              "      <td>2018.856201</td>\n",
              "      <td>569.847351</td>\n",
              "      <td>00:00</td>\n",
              "    </tr>\n",
              "    <tr>\n",
              "      <td>36</td>\n",
              "      <td>1974.092163</td>\n",
              "      <td>567.039001</td>\n",
              "      <td>00:00</td>\n",
              "    </tr>\n",
              "    <tr>\n",
              "      <td>37</td>\n",
              "      <td>1949.035400</td>\n",
              "      <td>567.267517</td>\n",
              "      <td>00:00</td>\n",
              "    </tr>\n",
              "    <tr>\n",
              "      <td>38</td>\n",
              "      <td>1918.028687</td>\n",
              "      <td>572.569641</td>\n",
              "      <td>00:00</td>\n",
              "    </tr>\n",
              "    <tr>\n",
              "      <td>39</td>\n",
              "      <td>1886.270142</td>\n",
              "      <td>580.853821</td>\n",
              "      <td>00:00</td>\n",
              "    </tr>\n",
              "    <tr>\n",
              "      <td>40</td>\n",
              "      <td>1888.108643</td>\n",
              "      <td>592.158752</td>\n",
              "      <td>00:00</td>\n",
              "    </tr>\n",
              "    <tr>\n",
              "      <td>41</td>\n",
              "      <td>1862.819214</td>\n",
              "      <td>595.075256</td>\n",
              "      <td>00:00</td>\n",
              "    </tr>\n",
              "    <tr>\n",
              "      <td>42</td>\n",
              "      <td>1817.912598</td>\n",
              "      <td>582.628113</td>\n",
              "      <td>00:00</td>\n",
              "    </tr>\n",
              "    <tr>\n",
              "      <td>43</td>\n",
              "      <td>1815.954834</td>\n",
              "      <td>570.261169</td>\n",
              "      <td>00:00</td>\n",
              "    </tr>\n",
              "    <tr>\n",
              "      <td>44</td>\n",
              "      <td>1797.660889</td>\n",
              "      <td>564.806274</td>\n",
              "      <td>00:00</td>\n",
              "    </tr>\n",
              "    <tr>\n",
              "      <td>45</td>\n",
              "      <td>1792.455933</td>\n",
              "      <td>562.300903</td>\n",
              "      <td>00:00</td>\n",
              "    </tr>\n",
              "    <tr>\n",
              "      <td>46</td>\n",
              "      <td>1781.285278</td>\n",
              "      <td>562.826538</td>\n",
              "      <td>00:00</td>\n",
              "    </tr>\n",
              "    <tr>\n",
              "      <td>47</td>\n",
              "      <td>1771.492310</td>\n",
              "      <td>563.637085</td>\n",
              "      <td>00:00</td>\n",
              "    </tr>\n",
              "    <tr>\n",
              "      <td>48</td>\n",
              "      <td>1744.017090</td>\n",
              "      <td>564.103638</td>\n",
              "      <td>00:00</td>\n",
              "    </tr>\n",
              "    <tr>\n",
              "      <td>49</td>\n",
              "      <td>1722.930054</td>\n",
              "      <td>564.059204</td>\n",
              "      <td>00:00</td>\n",
              "    </tr>\n",
              "  </tbody>\n",
              "</table>"
            ]
          },
          "metadata": {}
        }
      ]
    },
    {
      "cell_type": "code",
      "source": [
        "preds,targs = learn.get_preds()\n",
        "print(r_mse(preds,targs))\n",
        "print(preds[:10])\n",
        "print(targs[:10])"
      ],
      "metadata": {
        "colab": {
          "base_uri": "https://localhost:8080/",
          "height": 381
        },
        "id": "eo1O3alWmiKj",
        "outputId": "a915e24b-16d3-4bab-af17-4a443f320281"
      },
      "execution_count": 96,
      "outputs": [
        {
          "output_type": "display_data",
          "data": {
            "text/plain": [
              "<IPython.core.display.HTML object>"
            ],
            "text/html": [
              "\n",
              "<style>\n",
              "    /* Turns off some styling */\n",
              "    progress {\n",
              "        /* gets rid of default border in Firefox and Opera. */\n",
              "        border: none;\n",
              "        /* Needs to be in here for Safari polyfill so background images work as expected. */\n",
              "        background-size: auto;\n",
              "    }\n",
              "    .progress-bar-interrupted, .progress-bar-interrupted::-webkit-progress-bar {\n",
              "        background: #F44336;\n",
              "    }\n",
              "</style>\n"
            ]
          },
          "metadata": {}
        },
        {
          "output_type": "display_data",
          "data": {
            "text/plain": [
              "<IPython.core.display.HTML object>"
            ],
            "text/html": [
              ""
            ]
          },
          "metadata": {}
        },
        {
          "output_type": "stream",
          "name": "stdout",
          "text": [
            "23.749931\n",
            "tensor([[768.0000],\n",
            "        [768.0000],\n",
            "        [219.5950],\n",
            "        [217.9125],\n",
            "        [231.0936],\n",
            "        [239.9344],\n",
            "        [247.5324],\n",
            "        [252.9111],\n",
            "        [271.5499],\n",
            "        [294.7817]])\n",
            "tensor([[766.2326],\n",
            "        [765.3790],\n",
            "        [219.7103],\n",
            "        [230.9579],\n",
            "        [240.8609],\n",
            "        [250.7906],\n",
            "        [263.0922],\n",
            "        [274.3781],\n",
            "        [285.8139],\n",
            "        [297.6574]])\n"
          ]
        }
      ]
    }
  ],
  "metadata": {
    "colab": {
      "name": "MLModel1-2.ipynb",
      "provenance": [],
      "collapsed_sections": [],
      "include_colab_link": true
    },
    "interpreter": {
      "hash": "99fae7d265480b5fbb0cf965db398c4d2d7b17b55f6259418c7dbfe0de01ea90"
    },
    "kernelspec": {
      "display_name": "Python 3 (ipykernel)",
      "language": "python",
      "name": "python3"
    },
    "language_info": {
      "codemirror_mode": {
        "name": "ipython",
        "version": 3
      },
      "file_extension": ".py",
      "mimetype": "text/x-python",
      "name": "python",
      "nbconvert_exporter": "python",
      "pygments_lexer": "ipython3",
      "version": "3.9.12"
    }
  },
  "nbformat": 4,
  "nbformat_minor": 0
}