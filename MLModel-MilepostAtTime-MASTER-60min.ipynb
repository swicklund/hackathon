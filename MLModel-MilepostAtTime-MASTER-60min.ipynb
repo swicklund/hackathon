{
  "cells": [
    {
      "cell_type": "markdown",
      "metadata": {
        "id": "view-in-github",
        "colab_type": "text"
      },
      "source": [
        "<a href=\"https://colab.research.google.com/github/swicklund/hackathon/blob/main/MLModel-MilepostAtTime-MASTER-60min.ipynb\" target=\"_parent\"><img src=\"https://colab.research.google.com/assets/colab-badge.svg\" alt=\"Open In Colab\"/></a>"
      ]
    },
    {
      "cell_type": "code",
      "execution_count": 1,
      "metadata": {
        "id": "f18J8QM17E0a",
        "colab": {
          "base_uri": "https://localhost:8080/"
        },
        "outputId": "6675aa1b-7c07-4021-b5d2-6ef4e5125620"
      },
      "outputs": [
        {
          "output_type": "stream",
          "name": "stdout",
          "text": [
            "\u001b[K     |████████████████████████████████| 719 kB 24.8 MB/s \n",
            "\u001b[K     |████████████████████████████████| 4.4 MB 47.0 MB/s \n",
            "\u001b[K     |████████████████████████████████| 1.2 MB 60.0 MB/s \n",
            "\u001b[K     |████████████████████████████████| 362 kB 59.6 MB/s \n",
            "\u001b[K     |████████████████████████████████| 212 kB 71.2 MB/s \n",
            "\u001b[K     |████████████████████████████████| 1.1 MB 36.5 MB/s \n",
            "\u001b[K     |████████████████████████████████| 140 kB 59.3 MB/s \n",
            "\u001b[K     |████████████████████████████████| 101 kB 9.1 MB/s \n",
            "\u001b[K     |████████████████████████████████| 596 kB 48.6 MB/s \n",
            "\u001b[K     |████████████████████████████████| 127 kB 56.8 MB/s \n",
            "\u001b[K     |████████████████████████████████| 271 kB 59.8 MB/s \n",
            "\u001b[K     |████████████████████████████████| 94 kB 4.0 MB/s \n",
            "\u001b[K     |████████████████████████████████| 144 kB 52.1 MB/s \n",
            "\u001b[K     |████████████████████████████████| 6.6 MB 41.8 MB/s \n",
            "\u001b[31mERROR: pip's dependency resolver does not currently take into account all the packages that are installed. This behaviour is the source of the following dependency conflicts.\n",
            "datascience 0.10.6 requires folium==0.2.1, but you have folium 0.8.3 which is incompatible.\u001b[0m\n",
            "\u001b[?25hLooking in indexes: https://pypi.org/simple, https://us-python.pkg.dev/colab-wheels/public/simple/\n",
            "Collecting dtreeviz\n",
            "  Downloading dtreeviz-1.3.6.tar.gz (61 kB)\n",
            "\u001b[K     |████████████████████████████████| 61 kB 256 kB/s \n",
            "\u001b[?25hRequirement already satisfied: graphviz>=0.9 in /usr/local/lib/python3.7/dist-packages (from dtreeviz) (0.10.1)\n",
            "Requirement already satisfied: pandas in /usr/local/lib/python3.7/dist-packages (from dtreeviz) (1.3.5)\n",
            "Requirement already satisfied: numpy in /usr/local/lib/python3.7/dist-packages (from dtreeviz) (1.21.6)\n",
            "Requirement already satisfied: scikit-learn in /usr/local/lib/python3.7/dist-packages (from dtreeviz) (1.0.2)\n",
            "Requirement already satisfied: matplotlib in /usr/local/lib/python3.7/dist-packages (from dtreeviz) (3.2.2)\n",
            "Collecting colour\n",
            "  Downloading colour-0.1.5-py2.py3-none-any.whl (23 kB)\n",
            "Requirement already satisfied: pytest in /usr/local/lib/python3.7/dist-packages (from dtreeviz) (3.6.4)\n",
            "Requirement already satisfied: python-dateutil>=2.1 in /usr/local/lib/python3.7/dist-packages (from matplotlib->dtreeviz) (2.8.2)\n",
            "Requirement already satisfied: cycler>=0.10 in /usr/local/lib/python3.7/dist-packages (from matplotlib->dtreeviz) (0.11.0)\n",
            "Requirement already satisfied: kiwisolver>=1.0.1 in /usr/local/lib/python3.7/dist-packages (from matplotlib->dtreeviz) (1.4.3)\n",
            "Requirement already satisfied: pyparsing!=2.0.4,!=2.1.2,!=2.1.6,>=2.0.1 in /usr/local/lib/python3.7/dist-packages (from matplotlib->dtreeviz) (3.0.9)\n",
            "Requirement already satisfied: typing-extensions in /usr/local/lib/python3.7/dist-packages (from kiwisolver>=1.0.1->matplotlib->dtreeviz) (4.1.1)\n",
            "Requirement already satisfied: six>=1.5 in /usr/local/lib/python3.7/dist-packages (from python-dateutil>=2.1->matplotlib->dtreeviz) (1.15.0)\n",
            "Requirement already satisfied: pytz>=2017.3 in /usr/local/lib/python3.7/dist-packages (from pandas->dtreeviz) (2022.1)\n",
            "Requirement already satisfied: attrs>=17.4.0 in /usr/local/lib/python3.7/dist-packages (from pytest->dtreeviz) (21.4.0)\n",
            "Requirement already satisfied: atomicwrites>=1.0 in /usr/local/lib/python3.7/dist-packages (from pytest->dtreeviz) (1.4.0)\n",
            "Requirement already satisfied: setuptools in /usr/local/lib/python3.7/dist-packages (from pytest->dtreeviz) (57.4.0)\n",
            "Requirement already satisfied: pluggy<0.8,>=0.5 in /usr/local/lib/python3.7/dist-packages (from pytest->dtreeviz) (0.7.1)\n",
            "Requirement already satisfied: more-itertools>=4.0.0 in /usr/local/lib/python3.7/dist-packages (from pytest->dtreeviz) (8.13.0)\n",
            "Requirement already satisfied: py>=1.5.0 in /usr/local/lib/python3.7/dist-packages (from pytest->dtreeviz) (1.11.0)\n",
            "Requirement already satisfied: threadpoolctl>=2.0.0 in /usr/local/lib/python3.7/dist-packages (from scikit-learn->dtreeviz) (3.1.0)\n",
            "Requirement already satisfied: scipy>=1.1.0 in /usr/local/lib/python3.7/dist-packages (from scikit-learn->dtreeviz) (1.4.1)\n",
            "Requirement already satisfied: joblib>=0.11 in /usr/local/lib/python3.7/dist-packages (from scikit-learn->dtreeviz) (1.1.0)\n",
            "Building wheels for collected packages: dtreeviz\n",
            "  Building wheel for dtreeviz (setup.py) ... \u001b[?25l\u001b[?25hdone\n",
            "  Created wheel for dtreeviz: filename=dtreeviz-1.3.6-py3-none-any.whl size=67326 sha256=6fcef1d9f63f93754cbb5f06f81ad32ec6585b165f2824594b707f11803599ce\n",
            "  Stored in directory: /root/.cache/pip/wheels/33/76/fe/99227ff871766e7284bb88d3d28e2f4886b8ec04d669033478\n",
            "Successfully built dtreeviz\n",
            "Installing collected packages: colour, dtreeviz\n",
            "Successfully installed colour-0.1.5 dtreeviz-1.3.6\n",
            "Updated property [core/project].\n",
            "Mounted at /content/gdrive\n"
          ]
        }
      ],
      "source": [
        "!pip install -Uqq fastbook\n",
        "!pip install dtreeviz\n",
        "!gcloud config set project {'hackathon-352519'}\n",
        "\n",
        "import os\n",
        "\n",
        "import IPython\n",
        "import IPython.display\n",
        "import matplotlib as mpl\n",
        "import matplotlib.pyplot as plt\n",
        "import numpy as np\n",
        "import fastbook as fastai\n",
        "import pandas as pd\n",
        "from pandas.io.json import json_normalize\n",
        "import seaborn as sns\n",
        "import tensorflow as tf\n",
        "import json\n",
        "import zipfile\n",
        "from io import BytesIO\n",
        "import torch\n",
        "import math\n",
        "from google.colab import files\n",
        "from google.colab import auth\n",
        "from datetime import datetime, timedelta\n",
        "\n",
        "fastai.setup_book()\n",
        "from fastai import tabular\n",
        "from pandas.api.types import is_string_dtype, is_numeric_dtype, is_categorical_dtype\n",
        "from fastai.tabular.all import *\n",
        "from sklearn.ensemble import RandomForestRegressor\n",
        "from sklearn.tree import DecisionTreeRegressor\n",
        "from dtreeviz.trees import *\n",
        "from IPython.display import Image, display_svg, SVG\n",
        "\n",
        "pd.options.display.max_rows = 20\n",
        "pd.options.display.max_columns = 8\n",
        "auth.authenticate_user()\n"
      ]
    },
    {
      "cell_type": "code",
      "source": [
        "#filename = \"train-data_all-train-events.zip\"\n",
        "#filename = \"train-data-2022062020220626.zip\"\n",
        "\n",
        "#events-20-min includes reports for all trains in the a 2 week window reporting at most every 20 minutes \n",
        "#filename = \"train-events-20-min.zip\"\n",
        "\n",
        "#Train reportings 15 minutes apart - everything we have collected\n",
        "filename = \"train-data-master.zip\"\n",
        "\n",
        "# miles answers the question \"what spped will this train be moving in X miles (technically at milepost +/-X)\"\n",
        "#measurement = { 'unit' : 'miles', 'size' : 1.0 }\n",
        "\n",
        "# minutes answers the question : what speed will this train be moving in X Minutes\n",
        "#measurement = { 'unit' : 'minutes', 'size' : 90.0 }\n",
        "\n",
        "#dep_var = 'nextSpeed'\n",
        "\n",
        "# milepost answers the question \"What milepost will this train be at in X Minutes\"\n",
        "measurement = { 'unit' : 'milepost', 'size' : 60.0 }\n",
        "dep_var = 'nextValue'\n",
        "\n",
        "#Determines the portion of data to train versus validate\n",
        "dataCutpoint = .80"
      ],
      "metadata": {
        "id": "M3W7KKZc8f92"
      },
      "execution_count": 2,
      "outputs": []
    },
    {
      "cell_type": "code",
      "source": [
        "!gsutil cp gs://trains_data/$filename /tmp/."
      ],
      "metadata": {
        "id": "srQJL7OKVRww",
        "colab": {
          "base_uri": "https://localhost:8080/"
        },
        "outputId": "1d65be05-ae9c-4385-c931-5afd34934369"
      },
      "execution_count": 3,
      "outputs": [
        {
          "output_type": "stream",
          "name": "stdout",
          "text": [
            "Copying gs://trains_data/train-data-master.zip...\n",
            "/ [1 files][236.7 MiB/236.7 MiB]                                                \n",
            "Operation completed over 1 objects/236.7 MiB.                                    \n"
          ]
        }
      ]
    },
    {
      "cell_type": "code",
      "execution_count": 4,
      "metadata": {
        "id": "ckXLQ7eQ7E0c",
        "colab": {
          "base_uri": "https://localhost:8080/"
        },
        "outputId": "faaa98c2-1384-4d2e-bb41-0bf5e14c2a1a"
      },
      "outputs": [
        {
          "output_type": "stream",
          "name": "stdout",
          "text": [
            "1000   14:27:00\n",
            "2000   14:27:11\n",
            "3000   14:27:22\n",
            "4000   14:27:27\n",
            "5000   14:27:35\n",
            "6000   14:27:41\n",
            "7000   14:27:46\n",
            "8000   14:27:52\n",
            "9000   14:27:56\n",
            "10000   14:28:01\n",
            "11000   14:28:07\n",
            "12000   14:28:12\n",
            "13000   14:28:17\n",
            "14000   14:28:21\n",
            "15000   14:28:27\n",
            "16000   14:28:33\n",
            "17000   14:28:37\n",
            "18000   14:28:45\n",
            "19000   14:28:50\n",
            "20000   14:28:56\n",
            "21000   14:29:00\n",
            "22000   14:29:05\n",
            "23000   14:29:12\n",
            "24000   14:29:16\n",
            "25000   14:29:23\n",
            "26000   14:29:27\n",
            "27000   14:29:32\n",
            "28000   14:29:39\n",
            "29000   14:29:44\n",
            "30000   14:29:48\n",
            "31000   14:29:56\n",
            "32000   14:30:01\n",
            "33000   14:30:05\n",
            "34000   14:30:09\n",
            "35000   14:30:18\n",
            "36000   14:30:22\n",
            "37000   14:30:26\n",
            "38000   14:30:30\n"
          ]
        }
      ],
      "source": [
        "trains = {}\n",
        "i = 1\n",
        "with zipfile.ZipFile(\"/tmp/\"+filename, \"r\") as f:\n",
        "    for name in f.namelist():\n",
        "        if name.endswith('.json'):\n",
        "            with f.open(name) as zd:\n",
        "                data = json.load(zd)\n",
        "                lastTrainReporting = data['lastTrainReporting']\n",
        "                currentLoco = lastTrainReporting['ptcLeadLocomotiveId']\n",
        "                if (\"trainActualPositionList\" in lastTrainReporting and len(lastTrainReporting['trainActualPositionList']) > 0): \n",
        "                    trains[i] = pd.json_normalize(lastTrainReporting)\n",
        "                    i = i + 1\n",
        "                    if (i % 1000 == 0):\n",
        "                      print(i, \" \", datetime.now().strftime(\"%H:%M:%S\"))\n",
        "                            "
      ]
    },
    {
      "cell_type": "code",
      "execution_count": 5,
      "metadata": {
        "id": "lgWV768N7E0d"
      },
      "outputs": [],
      "source": [
        "dfTrainsAll = pd.concat(trains.values())\n",
        "dfTrainsAll[\"milepost\"] = dfTrainsAll.apply(lambda row: math.trunc(row['lastReportedPosition.milepostLocation.milepost.milepostNumber']), axis=1)"
      ]
    },
    {
      "cell_type": "code",
      "source": [
        "del trains"
      ],
      "metadata": {
        "id": "Q581UU9nCWZ1"
      },
      "execution_count": 6,
      "outputs": []
    },
    {
      "cell_type": "code",
      "execution_count": 7,
      "metadata": {
        "id": "Idznxze77E0e",
        "colab": {
          "base_uri": "https://localhost:8080/"
        },
        "outputId": "50b9ea20-e53e-4829-a14e-574079fe17f9"
      },
      "outputs": [
        {
          "output_type": "stream",
          "name": "stdout",
          "text": [
            "<class 'pandas.core.frame.DataFrame'>\n",
            "Int64Index: 38085 entries, 0 to 0\n",
            "Data columns (total 37 columns):\n",
            " #   Column                                                         Non-Null Count  Dtype  \n",
            "---  ------                                                         --------------  -----  \n",
            " 0   ptcLeadLocomotiveId                                            38085 non-null  object \n",
            " 1   positionHistoryList                                            38085 non-null  object \n",
            " 2   locomotiveList                                                 38085 non-null  object \n",
            " 3   subdivisionList                                                38085 non-null  object \n",
            " 4   trainEstimatedPositionList                                     38085 non-null  object \n",
            " 5   trainActualPositionList                                        38085 non-null  object \n",
            " 6   trainId.trainSCAC                                              38041 non-null  object \n",
            " 7   trainId.trainSection                                           38085 non-null  object \n",
            " 8   trainId.trainSymbol                                            38085 non-null  object \n",
            " 9   trainId.trainDate                                              38085 non-null  object \n",
            " 10  lastReportedPosition.positionTime                              38085 non-null  object \n",
            " 11  lastReportedPosition.speedMPH                                  38085 non-null  int64  \n",
            " 12  lastReportedPosition.milepostLocation.subdivisionId            38085 non-null  int64  \n",
            " 13  lastReportedPosition.milepostLocation.trackName                38085 non-null  object \n",
            " 14  lastReportedPosition.milepostLocation.milepost.milepostNumber  38085 non-null  float64\n",
            " 15  aotuTrainData.priorityCode                                     36854 non-null  float64\n",
            " 16  aotuTrainData.categoryCode                                     36854 non-null  float64\n",
            " 17  aotuTrainData.authorityRangeCode                               36854 non-null  float64\n",
            " 18  aotuTrainData.ownershipCode                                    36854 non-null  float64\n",
            " 19  aotuTrainData.tenantCarrier                                    36854 non-null  object \n",
            " 20  aotuTrainData.totalCarWeight                                   36854 non-null  float64\n",
            " 21  aotuTrainData.totalCarLength                                   36854 non-null  float64\n",
            " 22  aotuTrainData.totalLocomotiveWeight                            36854 non-null  float64\n",
            " 23  aotuTrainData.totalLocomotiveLength                            36854 non-null  float64\n",
            " 24  aotuTrainData.actualTonsPerAxle                                36854 non-null  float64\n",
            " 25  aotuTrainData.heavy143TonCarCount                              36854 non-null  float64\n",
            " 26  aotuTrainData.heavy158TonCarCount                              36854 non-null  float64\n",
            " 27  aotuTrainData.over158TonCarCount                               36854 non-null  float64\n",
            " 28  aotuTrainData.highWideCarCount                                 36854 non-null  float64\n",
            " 29  aotuTrainData.eventCode                                        36854 non-null  float64\n",
            " 30  aotuTrainData.routeLocationList                                36854 non-null  object \n",
            " 31  maximumTrainSpeed                                              34463 non-null  float64\n",
            " 32  loadedCarCount                                                 34463 non-null  float64\n",
            " 33  emptyCarCount                                                  34463 non-null  float64\n",
            " 34  trainLength                                                    34463 non-null  float64\n",
            " 35  trailingTonnage                                                34463 non-null  float64\n",
            " 36  milepost                                                       38085 non-null  int64  \n",
            "dtypes: float64(20), int64(3), object(14)\n",
            "memory usage: 11.0+ MB\n",
            "None\n",
            "(38085, 37)\n"
          ]
        }
      ],
      "source": [
        "print(dfTrainsAll.info())\n",
        "print(dfTrainsAll.shape)"
      ]
    },
    {
      "cell_type": "markdown",
      "source": [
        "# Create a learning set to modify"
      ],
      "metadata": {
        "id": "D2hF44lYkNIf"
      }
    },
    {
      "cell_type": "code",
      "source": [
        "dfTrainsLearn = dfTrainsAll"
      ],
      "metadata": {
        "id": "it2dDKRfbk0_"
      },
      "execution_count": 8,
      "outputs": []
    },
    {
      "cell_type": "markdown",
      "source": [
        "Clear the nan values and replace with max values."
      ],
      "metadata": {
        "id": "d5b2nVAbkR7M"
      }
    },
    {
      "cell_type": "code",
      "source": [
        "dfTrainsLearn['loadedCarCount'] =  dfTrainsLearn['loadedCarCount'].replace(np.nan, 999.)\n",
        "dfTrainsLearn['emptyCarCount'] =  dfTrainsLearn['emptyCarCount'].replace(np.nan, 999.)\n",
        "dfTrainsLearn['trainLength'] =  dfTrainsLearn['trainLength'].replace(np.nan, 99999.)\n",
        "dfTrainsLearn['trailingTonnage'] =  dfTrainsLearn['trailingTonnage'].replace(np.nan, 99999.)"
      ],
      "metadata": {
        "id": "jTMp9nMBZav1"
      },
      "execution_count": 9,
      "outputs": []
    },
    {
      "cell_type": "markdown",
      "source": [
        "Determine if the train is moving milepost Increasing or decreasing."
      ],
      "metadata": {
        "id": "2yxcbslMj-uZ"
      }
    },
    {
      "cell_type": "code",
      "source": [
        "dfTrainsLearn['mpIncr'] = dfTrainsLearn.apply(lambda row: row['lastReportedPosition.speedMPH'] >= 0, axis=1)"
      ],
      "metadata": {
        "id": "-XDkAezxjVGH"
      },
      "execution_count": 10,
      "outputs": []
    },
    {
      "cell_type": "markdown",
      "source": [
        "Make all speeds positive"
      ],
      "metadata": {
        "id": "_Nge0iAIkFTV"
      }
    },
    {
      "cell_type": "code",
      "source": [
        "dfTrainsLearn['lastReportedPosition.speedMPH']  = dfTrainsLearn.apply(lambda row: abs(row['lastReportedPosition.speedMPH']), axis=1)\n",
        "dfTrainsLearn['maximumTrainSpeed']  = dfTrainsLearn.apply(lambda row: abs(row['maximumTrainSpeed']), axis=1)"
      ],
      "metadata": {
        "id": "TjMlCKaoxbMw"
      },
      "execution_count": 11,
      "outputs": []
    },
    {
      "cell_type": "code",
      "source": [
        "print(\"Speed Distribution:\")\n",
        "dfTrainsLearn['lastReportedPosition.speedMPH'].hist(bins=90)"
      ],
      "metadata": {
        "id": "KWQaxYZ3yC1f",
        "colab": {
          "base_uri": "https://localhost:8080/",
          "height": 300
        },
        "outputId": "da9ca5d1-481b-472a-9aed-6eb998bfb595"
      },
      "execution_count": 12,
      "outputs": [
        {
          "output_type": "stream",
          "name": "stdout",
          "text": [
            "Speed Distribution:\n"
          ]
        },
        {
          "output_type": "execute_result",
          "data": {
            "text/plain": [
              "<matplotlib.axes._subplots.AxesSubplot at 0x7f39e8c00c90>"
            ]
          },
          "metadata": {},
          "execution_count": 12
        },
        {
          "output_type": "display_data",
          "data": {
            "text/plain": [
              "<Figure size 432x288 with 1 Axes>"
            ],
            "image/png": "[encoded data removed]"
          },
          "metadata": {
            "needs_background": "light"
          }
        }
      ]
    },
    {
      "cell_type": "markdown",
      "source": [
        "Replace the NaN values in AOTU with zeros"
      ],
      "metadata": {
        "id": "hQ65ocjckk-s"
      }
    },
    {
      "cell_type": "code",
      "source": [
        "aotuColumns = [item for item in dfTrainsLearn.columns if item.startswith('aotu')]\n",
        "for column in aotuColumns:\n",
        "  dfTrainsLearn[column] =  dfTrainsLearn[column].replace(np.nan, 0.)"
      ],
      "metadata": {
        "id": "IjhK53fef5eG"
      },
      "execution_count": 13,
      "outputs": []
    },
    {
      "cell_type": "markdown",
      "source": [
        "Categorize the applicable variables"
      ],
      "metadata": {
        "id": "Skh2x30Ao2aj"
      }
    },
    {
      "cell_type": "code",
      "source": [
        "def categorize(aDataFrame, columnName, defaultReplacement):\n",
        "  aDataFrame[columnName] = aDataFrame[columnName].fillna(value=defaultReplacement)\n",
        "  categories = aDataFrame[columnName].unique()\n",
        "  print(aDataFrame[columnName].unique())\n",
        "  aDataFrame[columnName] = aDataFrame[columnName].astype('category')\n",
        "  aDataFrame[columnName] = aDataFrame[columnName].cat.set_categories(categories)\n",
        "  return aDataFrame"
      ],
      "metadata": {
        "id": "FPO5BUrpVl5t"
      },
      "execution_count": 14,
      "outputs": []
    },
    {
      "cell_type": "code",
      "source": [
        "dfTrainsLearn['symbolType'] = dfTrainsLearn.apply(lambda row: row['trainId.trainSymbol'][:1], axis=1)\n",
        "dfTrainsLearn = categorize(dfTrainsLearn, 'symbolType', \"X\")\n",
        "dfTrainsLearn = categorize(dfTrainsLearn, 'lastReportedPosition.milepostLocation.trackName', \"UNKNOWN\")\n",
        "dfTrainsLearn = categorize(dfTrainsLearn, 'trainId.trainSCAC',\"UNK\")\n",
        "dfTrainsLearn = categorize(dfTrainsLearn, 'trainId.trainSection', ' ')\n",
        "dfTrainsLearn = categorize(dfTrainsLearn, 'aotuTrainData.priorityCode', 0)  # may want to order these\n",
        "dfTrainsLearn = categorize(dfTrainsLearn, 'aotuTrainData.categoryCode', 0)\n",
        "dfTrainsLearn = categorize(dfTrainsLearn, 'aotuTrainData.authorityRangeCode', 0)\n",
        "dfTrainsLearn = categorize(dfTrainsLearn, 'aotuTrainData.ownershipCode', 0)\n",
        "dfTrainsLearn = categorize(dfTrainsLearn, 'aotuTrainData.tenantCarrier', \"0\")\n",
        "dfTrainsLearn = categorize(dfTrainsLearn, 'aotuTrainData.eventCode', 0)\n",
        " "
      ],
      "metadata": {
        "colab": {
          "base_uri": "https://localhost:8080/"
        },
        "id": "CKDKREgdNRGT",
        "outputId": "7a9a6408-e21e-4991-9e39-16cbdaed1e66"
      },
      "execution_count": 15,
      "outputs": [
        {
          "output_type": "stream",
          "name": "stdout",
          "text": [
            "['Q' 'A' 'M' 'U' 'G' 'I' 'E' 'C' 'Y' 'L' 'W' 'Z' 'S' 'O' 'H' 'R' 'P']\n",
            "['EAST MAIN' 'WEST MAIN' 'TO_S_UP_MAINLINE' 'S_VIDOR' 'MAIN CHAISON YARD' 'MAIN' 'TO_N_EAST MAIN' 'TO_S_VIDOR' 'TO_S_CS JUNCTION' 'TO_N_HELME' 'S_HELME' 'WALL ST MAIN' 'JEFFERSON REFINERY'\n",
            " 'NEW LACY TRACK' 'TO_N_LUCAS' 'S_LUCAS' 'S_MAURICEVILLE' 'TO_S_WALL ST MAIN' 'TO_N_JEFFERSON RF' 'MT 1' 'MT 2' 'TO_N_MAURICEVILLE' 'TO_N_VIDOR' 'EASTXO' 'N SIDING' 'WALL ST CROSSOVER' 'WESTXO'\n",
            " 'YD LD' 'KCS UP PORT CONNECT' 'TO_S_KCS UP PRT CONN' '136' 'XO' 'TO_S_NEW LACY TRACK' 'TO_N_CHAISON MAIN' 'TO_S_LUCAS' '806' '405' 'S_LEESVILLE' 'S_NEAME' 'S_CONVERSE' 'S_FISHER' 'CHAISON MAIN'\n",
            " 'S_ANACOCO' 'S_STARKS' 'TO_N_SRN CONNECTION' 'S_SINGER' '113']\n",
            "['UP' 'UNK']\n",
            "['2' '' '3' '5' '4']\n",
            "[2. 1. 0. 4. 3.]\n",
            "[12. 14.  0. 18.  8. 10. 15.  4. 20. 11.  2. 19. 17. 13.  9. 16.]\n",
            "[2. 0. 1. 3.]\n",
            "[3. 0. 2.]\n",
            "['BNSF' 'AMTK' 0.0 'KCS' '']\n",
            "[0.]\n"
          ]
        }
      ]
    },
    {
      "cell_type": "markdown",
      "source": [
        "Replace unknown max speeds with 88 miles per hour (to make them recognizable)"
      ],
      "metadata": {
        "id": "5fP9phXQlAXf"
      }
    },
    {
      "cell_type": "code",
      "source": [
        "dfTrainsLearn['maximumTrainSpeed'] =  dfTrainsLearn['maximumTrainSpeed'].replace(np.nan, 88.)\n",
        "print(dfTrainsLearn['maximumTrainSpeed'].unique())"
      ],
      "metadata": {
        "id": "ZTAgIeMJeHmz",
        "colab": {
          "base_uri": "https://localhost:8080/"
        },
        "outputId": "72529a8a-1a4a-47d3-c320-767479c9443e"
      },
      "execution_count": 16,
      "outputs": [
        {
          "output_type": "stream",
          "name": "stdout",
          "text": [
            "[88. 50. 60. 70. 40. 45.  0. 30. 79.]\n"
          ]
        }
      ]
    },
    {
      "cell_type": "markdown",
      "source": [
        "Flatten out the work locations (we may want to change this for the NN algorithm)"
      ],
      "metadata": {
        "id": "Dv-loghjlK_w"
      }
    },
    {
      "cell_type": "code",
      "source": [
        "def getWorkLocations(dfTrainsLocation):\n",
        "  if isinstance(dfTrainsLocation['aotuTrainData.routeLocationList'], float):\n",
        "    return None\n",
        "  if len(dfTrainsLocation['aotuTrainData.routeLocationList']) == 0:\n",
        "    return None\n",
        "  aotuRoute=pd.json_normalize(dfTrainsLocation['aotuTrainData.routeLocationList']) \n",
        "  eventLocations = aotuRoute[aotuRoute['activityList'].map(len) > 1]\n",
        "  temp = eventLocations['milepost.milepostNumber'].unique()\n",
        "  if len(temp) == 0:\n",
        "    return None\n",
        "  return ','.join(['%.2f' % num for num in temp])"
      ],
      "metadata": {
        "id": "TsYgT41SKyAn"
      },
      "execution_count": 17,
      "outputs": []
    },
    {
      "cell_type": "code",
      "source": [
        "dfTrainsLearn['workLocations'] = dfTrainsLearn.apply(lambda row: getWorkLocations(row), axis=1)"
      ],
      "metadata": {
        "id": "5sNuNU-iSgFy"
      },
      "execution_count": 18,
      "outputs": []
    },
    {
      "cell_type": "code",
      "source": [
        "dfTrainsLearn['workLocations'].unique()"
      ],
      "metadata": {
        "id": "jA6cNsHR8VSr",
        "colab": {
          "base_uri": "https://localhost:8080/"
        },
        "outputId": "6e611351-03da-4c11-9755-9c0179300502"
      },
      "execution_count": 19,
      "outputs": [
        {
          "output_type": "execute_result",
          "data": {
            "text/plain": [
              "array([None, '202.20', '258.40,202.20', '225.10', '202.20,258.40,321.50', '314.52,202.20', '321.50,202.20', '231.80,225.10', '214.50', '225.10,202.20', '202.20,258.40', '202.20,219.70',\n",
              "       '219.70,202.20', '202.20,214.50,225.10,290.80,304.10', '202.20,258.40,225.10', '202.20,219.90,225.10', '202.20,257.60', '250.50,202.20', '268.40,202.20', '258.40,207.60,202.20',\n",
              "       '207.60,202.20', '241.00,202.20', '258.40,219.70,202.20', '202.20,314.52', '202.92,202.20', '214.50,225.10,290.80,304.10,202.20', '290.80,258.40,231.80,202.20', '202.20,290.80',\n",
              "       '202.20,299.75', '314.52,225.10,202.20', '202.20,219.70,277.50', '202.20,293.10', '202.20,304.10', '321.50,314.52,202.20', '202.20,240.90', '202.20,265.30', '265.30,202.20', '202.20,286.40',\n",
              "       '240.90,207.60,202.20', '250.50,245.90,202.20', '219.70', '202.20,312.80', '321.50,240.90,202.20', '240.90,202.20', '202.20,207.60', '202.20,225.10', '326.20,214.50', '214.50,202.20',\n",
              "       '240.90,214.50,202.20', '278.10,258.40,202.20', '202.20,258.40,314.52', '258.40,250.50,202.20', '214.50,225.10,290.80,304.10', '202.20,262.60', '202.20,268.40', '258.40,216.70,202.20',\n",
              "       '202.20,258.40,304.10,321.50', '299.75,202.20', '321.50,225.10,202.20', '314.52,265.30,225.10,202.20', '250.50,219.70,202.20', '202.20,219.70,258.40,321.50', '202.20,321.50', '240.90,225.10',\n",
              "       '286.40,258.40,202.20', '286.40,258.40,207.60,202.20', '257.60,202.20', '202.20,250.50,265.30', '271.50,202.20', '240.90,219.90,202.20', '202.20,219.70,258.40', '216.70,202.20',\n",
              "       '321.50,207.60,202.20', '202.20,250.50', '321.50,250.50,245.90,202.20', '202.20,258.40,321.50,265.30', '202.20,258.40,265.30,321.50', '202.20,258.40,265.30,312.80,321.50',\n",
              "       '202.20,240.90,314.52', '202.20,202.92', '202.20,326.20', '258.40,225.10,202.20', '250.50,231.80,202.20', '250.50,245.90,231.80,202.20'], dtype=object)"
            ]
          },
          "metadata": {},
          "execution_count": 19
        }
      ]
    },
    {
      "cell_type": "markdown",
      "source": [
        "determine the locomotive count from the locomotive list.  We can make this more clever later, but for now this seems the most sensible shortcut"
      ],
      "metadata": {
        "id": "-AZiJPI24QO9"
      }
    },
    {
      "cell_type": "code",
      "source": [
        "dfTrainsLearn['locomotiveCount'] = dfTrainsLearn.apply(lambda row: len(row['locomotiveList']),axis = 1)"
      ],
      "metadata": {
        "id": "LuG8-GNBzwrF"
      },
      "execution_count": 20,
      "outputs": []
    },
    {
      "cell_type": "markdown",
      "source": [
        "Convert the list of actual reportings into a dataframe."
      ],
      "metadata": {
        "id": "Hbv-6WLkrqO2"
      }
    },
    {
      "cell_type": "code",
      "source": [
        "dfTrainsLearnActuals = dfTrainsLearn.apply(lambda row: pd.json_normalize(row['trainActualPositionList']), axis=1)"
      ],
      "metadata": {
        "id": "Ag-KbEfz4Is8"
      },
      "execution_count": 21,
      "outputs": []
    },
    {
      "cell_type": "code",
      "source": [
        "def showTrain(idx):\n",
        "  print(dfTrainsLearn.iloc[idx]['ptcLeadLocomotiveId'])\n",
        "  print(dfTrainsLearn.iloc[idx]['trainId.trainSymbol'])\n"
      ],
      "metadata": {
        "id": "ZuIVv8dvnIpG"
      },
      "execution_count": 22,
      "outputs": []
    },
    {
      "cell_type": "markdown",
      "source": [
        "You can peer into the incoming data here:"
      ],
      "metadata": {
        "id": "VLFBdKgPll2j"
      }
    },
    {
      "cell_type": "code",
      "source": [
        "idx = 201\n",
        "showTrain(idx)\n",
        "dfTrainsLearnActuals.iloc[idx]"
      ],
      "metadata": {
        "id": "r_gdrmU4IgpY",
        "colab": {
          "base_uri": "https://localhost:8080/",
          "height": 458
        },
        "outputId": "c8d9d150-ada2-4827-a475-4871d479ae8a"
      },
      "execution_count": 23,
      "outputs": [
        {
          "output_type": "stream",
          "name": "stdout",
          "text": [
            "KCS4863\n",
            "MWARNJ\n"
          ]
        },
        {
          "output_type": "execute_result",
          "data": {
            "text/plain": [
              "            positionTime  speedMPH  milepostLocation.subdivisionId  \\\n",
              "0   2022-05-28T07:37:26Z         0                             106   \n",
              "1   2022-05-28T07:39:26Z         0                             106   \n",
              "2   2022-05-28T07:41:26Z         0                             106   \n",
              "3   2022-05-28T07:43:26Z         0                             106   \n",
              "4   2022-05-28T07:47:26Z         0                             106   \n",
              "..                   ...       ...                             ...   \n",
              "25  2022-05-28T08:35:26Z        11                             106   \n",
              "26  2022-05-28T08:37:26Z        13                             106   \n",
              "27  2022-05-28T08:39:26Z        14                             106   \n",
              "28  2022-05-28T08:41:26Z        15                             106   \n",
              "29  2022-05-28T08:43:26Z        14                             106   \n",
              "\n",
              "   milepostLocation.trackName  milepostLocation.milepost.milepostNumber  \n",
              "0                     S_VIDOR                                 762.73100  \n",
              "1                     S_VIDOR                                 762.73100  \n",
              "2                     S_VIDOR                                 762.73060  \n",
              "3                     S_VIDOR                                 762.73060  \n",
              "4                     S_VIDOR                                 762.73060  \n",
              "..                        ...                                       ...  \n",
              "25                       MAIN                                 764.03827  \n",
              "26                       MAIN                                 764.46796  \n",
              "27                       MAIN                                 764.90643  \n",
              "28             MAIN-WEST MAIN                                 765.40290  \n",
              "29             MAIN-WEST MAIN                                 765.90295  \n",
              "\n",
              "[30 rows x 5 columns]"
            ],
            "text/html": [
              "\n",
              "  <div id=\"df-4625b3fc-2b46-45cc-a181-9eeb81d50888\">\n",
              "    <div class=\"colab-df-container\">\n",
              "      <div>\n",
              "<style scoped>\n",
              "    .dataframe tbody tr th:only-of-type {\n",
              "        vertical-align: middle;\n",
              "    }\n",
              "\n",
              "    .dataframe tbody tr th {\n",
              "        vertical-align: top;\n",
              "    }\n",
              "\n",
              "    .dataframe thead th {\n",
              "        text-align: right;\n",
              "    }\n",
              "</style>\n",
              "<table border=\"1\" class=\"dataframe\">\n",
              "  <thead>\n",
              "    <tr style=\"text-align: right;\">\n",
              "      <th></th>\n",
              "      <th>positionTime</th>\n",
              "      <th>speedMPH</th>\n",
              "      <th>milepostLocation.subdivisionId</th>\n",
              "      <th>milepostLocation.trackName</th>\n",
              "      <th>milepostLocation.milepost.milepostNumber</th>\n",
              "    </tr>\n",
              "  </thead>\n",
              "  <tbody>\n",
              "    <tr>\n",
              "      <th>0</th>\n",
              "      <td>2022-05-28T07:37:26Z</td>\n",
              "      <td>0</td>\n",
              "      <td>106</td>\n",
              "      <td>S_VIDOR</td>\n",
              "      <td>762.73100</td>\n",
              "    </tr>\n",
              "    <tr>\n",
              "      <th>1</th>\n",
              "      <td>2022-05-28T07:39:26Z</td>\n",
              "      <td>0</td>\n",
              "      <td>106</td>\n",
              "      <td>S_VIDOR</td>\n",
              "      <td>762.73100</td>\n",
              "    </tr>\n",
              "    <tr>\n",
              "      <th>2</th>\n",
              "      <td>2022-05-28T07:41:26Z</td>\n",
              "      <td>0</td>\n",
              "      <td>106</td>\n",
              "      <td>S_VIDOR</td>\n",
              "      <td>762.73060</td>\n",
              "    </tr>\n",
              "    <tr>\n",
              "      <th>3</th>\n",
              "      <td>2022-05-28T07:43:26Z</td>\n",
              "      <td>0</td>\n",
              "      <td>106</td>\n",
              "      <td>S_VIDOR</td>\n",
              "      <td>762.73060</td>\n",
              "    </tr>\n",
              "    <tr>\n",
              "      <th>4</th>\n",
              "      <td>2022-05-28T07:47:26Z</td>\n",
              "      <td>0</td>\n",
              "      <td>106</td>\n",
              "      <td>S_VIDOR</td>\n",
              "      <td>762.73060</td>\n",
              "    </tr>\n",
              "    <tr>\n",
              "      <th>...</th>\n",
              "      <td>...</td>\n",
              "      <td>...</td>\n",
              "      <td>...</td>\n",
              "      <td>...</td>\n",
              "      <td>...</td>\n",
              "    </tr>\n",
              "    <tr>\n",
              "      <th>25</th>\n",
              "      <td>2022-05-28T08:35:26Z</td>\n",
              "      <td>11</td>\n",
              "      <td>106</td>\n",
              "      <td>MAIN</td>\n",
              "      <td>764.03827</td>\n",
              "    </tr>\n",
              "    <tr>\n",
              "      <th>26</th>\n",
              "      <td>2022-05-28T08:37:26Z</td>\n",
              "      <td>13</td>\n",
              "      <td>106</td>\n",
              "      <td>MAIN</td>\n",
              "      <td>764.46796</td>\n",
              "    </tr>\n",
              "    <tr>\n",
              "      <th>27</th>\n",
              "      <td>2022-05-28T08:39:26Z</td>\n",
              "      <td>14</td>\n",
              "      <td>106</td>\n",
              "      <td>MAIN</td>\n",
              "      <td>764.90643</td>\n",
              "    </tr>\n",
              "    <tr>\n",
              "      <th>28</th>\n",
              "      <td>2022-05-28T08:41:26Z</td>\n",
              "      <td>15</td>\n",
              "      <td>106</td>\n",
              "      <td>MAIN-WEST MAIN</td>\n",
              "      <td>765.40290</td>\n",
              "    </tr>\n",
              "    <tr>\n",
              "      <th>29</th>\n",
              "      <td>2022-05-28T08:43:26Z</td>\n",
              "      <td>14</td>\n",
              "      <td>106</td>\n",
              "      <td>MAIN-WEST MAIN</td>\n",
              "      <td>765.90295</td>\n",
              "    </tr>\n",
              "  </tbody>\n",
              "</table>\n",
              "<p>30 rows × 5 columns</p>\n",
              "</div>\n",
              "      <button class=\"colab-df-convert\" onclick=\"convertToInteractive('df-4625b3fc-2b46-45cc-a181-9eeb81d50888')\"\n",
              "              title=\"Convert this dataframe to an interactive table.\"\n",
              "              style=\"display:none;\">\n",
              "        \n",
              "  <svg xmlns=\"http://www.w3.org/2000/svg\" height=\"24px\"viewBox=\"0 0 24 24\"\n",
              "       width=\"24px\">\n",
              "    <path d=\"M0 0h24v24H0V0z\" fill=\"none\"/>\n",
              "    <path d=\"M18.56 5.44l.94 2.06.94-2.06 2.06-.94-2.06-.94-.94-2.06-.94 2.06-2.06.94zm-11 1L8.5 8.5l.94-2.06 2.06-.94-2.06-.94L8.5 2.5l-.94 2.06-2.06.94zm10 10l.94 2.06.94-2.06 2.06-.94-2.06-.94-.94-2.06-.94 2.06-2.06.94z\"/><path d=\"M17.41 7.96l-1.37-1.37c-.4-.4-.92-.59-1.43-.59-.52 0-1.04.2-1.43.59L10.3 9.45l-7.72 7.72c-.78.78-.78 2.05 0 2.83L4 21.41c.39.39.9.59 1.41.59.51 0 1.02-.2 1.41-.59l7.78-7.78 2.81-2.81c.8-.78.8-2.07 0-2.86zM5.41 20L4 18.59l7.72-7.72 1.47 1.35L5.41 20z\"/>\n",
              "  </svg>\n",
              "      </button>\n",
              "      \n",
              "  <style>\n",
              "    .colab-df-container {\n",
              "      display:flex;\n",
              "      flex-wrap:wrap;\n",
              "      gap: 12px;\n",
              "    }\n",
              "\n",
              "    .colab-df-convert {\n",
              "      background-color: #E8F0FE;\n",
              "      border: none;\n",
              "      border-radius: 50%;\n",
              "      cursor: pointer;\n",
              "      display: none;\n",
              "      fill: #1967D2;\n",
              "      height: 32px;\n",
              "      padding: 0 0 0 0;\n",
              "      width: 32px;\n",
              "    }\n",
              "\n",
              "    .colab-df-convert:hover {\n",
              "      background-color: #E2EBFA;\n",
              "      box-shadow: 0px 1px 2px rgba(60, 64, 67, 0.3), 0px 1px 3px 1px rgba(60, 64, 67, 0.15);\n",
              "      fill: #174EA6;\n",
              "    }\n",
              "\n",
              "    [theme=dark] .colab-df-convert {\n",
              "      background-color: #3B4455;\n",
              "      fill: #D2E3FC;\n",
              "    }\n",
              "\n",
              "    [theme=dark] .colab-df-convert:hover {\n",
              "      background-color: #434B5C;\n",
              "      box-shadow: 0px 1px 3px 1px rgba(0, 0, 0, 0.15);\n",
              "      filter: drop-shadow(0px 1px 2px rgba(0, 0, 0, 0.3));\n",
              "      fill: #FFFFFF;\n",
              "    }\n",
              "  </style>\n",
              "\n",
              "      <script>\n",
              "        const buttonEl =\n",
              "          document.querySelector('#df-4625b3fc-2b46-45cc-a181-9eeb81d50888 button.colab-df-convert');\n",
              "        buttonEl.style.display =\n",
              "          google.colab.kernel.accessAllowed ? 'block' : 'none';\n",
              "\n",
              "        async function convertToInteractive(key) {\n",
              "          const element = document.querySelector('#df-4625b3fc-2b46-45cc-a181-9eeb81d50888');\n",
              "          const dataTable =\n",
              "            await google.colab.kernel.invokeFunction('convertToInteractive',\n",
              "                                                     [key], {});\n",
              "          if (!dataTable) return;\n",
              "\n",
              "          const docLinkHtml = 'Like what you see? Visit the ' +\n",
              "            '<a target=\"_blank\" href=https://colab.research.google.com/notebooks/data_table.ipynb>data table notebook</a>'\n",
              "            + ' to learn more about interactive tables.';\n",
              "          element.innerHTML = '';\n",
              "          dataTable['output_type'] = 'display_data';\n",
              "          await google.colab.output.renderOutput(dataTable, element);\n",
              "          const docLink = document.createElement('div');\n",
              "          docLink.innerHTML = docLinkHtml;\n",
              "          element.appendChild(docLink);\n",
              "        }\n",
              "      </script>\n",
              "    </div>\n",
              "  </div>\n",
              "  "
            ]
          },
          "metadata": {},
          "execution_count": 23
        }
      ]
    },
    {
      "cell_type": "code",
      "source": [
        "dfTrainsBeop =  dfTrainsLearn[['lastReportedPosition.milepostLocation.milepost.milepostNumber','trainEstimatedPositionList']]\n",
        "dfTrainsBeop"
      ],
      "metadata": {
        "id": "1FsMwzd7xSLZ",
        "colab": {
          "base_uri": "https://localhost:8080/",
          "height": 423
        },
        "outputId": "92c7bcb0-a732-4164-b179-c6fe783c262b"
      },
      "execution_count": 24,
      "outputs": [
        {
          "output_type": "execute_result",
          "data": {
            "text/plain": [
              "    lastReportedPosition.milepostLocation.milepost.milepostNumber  \\\n",
              "0                                                        766.9251   \n",
              "0                                                        766.4507   \n",
              "0                                                        766.9269   \n",
              "0                                                        766.9267   \n",
              "0                                                        764.8708   \n",
              "..                                                            ...   \n",
              "0                                                        766.3489   \n",
              "0                                                        761.0639   \n",
              "0                                                        766.9314   \n",
              "0                                                        762.7375   \n",
              "0                                                        762.7375   \n",
              "\n",
              "   trainEstimatedPositionList  \n",
              "0                          []  \n",
              "0                          []  \n",
              "0                          []  \n",
              "0                          []  \n",
              "0                          []  \n",
              "..                        ...  \n",
              "0                          []  \n",
              "0                          []  \n",
              "0                          []  \n",
              "0                          []  \n",
              "0                          []  \n",
              "\n",
              "[38085 rows x 2 columns]"
            ],
            "text/html": [
              "\n",
              "  <div id=\"df-a4ec3c4d-5db1-4559-93d1-803497b6bd8c\">\n",
              "    <div class=\"colab-df-container\">\n",
              "      <div>\n",
              "<style scoped>\n",
              "    .dataframe tbody tr th:only-of-type {\n",
              "        vertical-align: middle;\n",
              "    }\n",
              "\n",
              "    .dataframe tbody tr th {\n",
              "        vertical-align: top;\n",
              "    }\n",
              "\n",
              "    .dataframe thead th {\n",
              "        text-align: right;\n",
              "    }\n",
              "</style>\n",
              "<table border=\"1\" class=\"dataframe\">\n",
              "  <thead>\n",
              "    <tr style=\"text-align: right;\">\n",
              "      <th></th>\n",
              "      <th>lastReportedPosition.milepostLocation.milepost.milepostNumber</th>\n",
              "      <th>trainEstimatedPositionList</th>\n",
              "    </tr>\n",
              "  </thead>\n",
              "  <tbody>\n",
              "    <tr>\n",
              "      <th>0</th>\n",
              "      <td>766.9251</td>\n",
              "      <td>[]</td>\n",
              "    </tr>\n",
              "    <tr>\n",
              "      <th>0</th>\n",
              "      <td>766.4507</td>\n",
              "      <td>[]</td>\n",
              "    </tr>\n",
              "    <tr>\n",
              "      <th>0</th>\n",
              "      <td>766.9269</td>\n",
              "      <td>[]</td>\n",
              "    </tr>\n",
              "    <tr>\n",
              "      <th>0</th>\n",
              "      <td>766.9267</td>\n",
              "      <td>[]</td>\n",
              "    </tr>\n",
              "    <tr>\n",
              "      <th>0</th>\n",
              "      <td>764.8708</td>\n",
              "      <td>[]</td>\n",
              "    </tr>\n",
              "    <tr>\n",
              "      <th>...</th>\n",
              "      <td>...</td>\n",
              "      <td>...</td>\n",
              "    </tr>\n",
              "    <tr>\n",
              "      <th>0</th>\n",
              "      <td>766.3489</td>\n",
              "      <td>[]</td>\n",
              "    </tr>\n",
              "    <tr>\n",
              "      <th>0</th>\n",
              "      <td>761.0639</td>\n",
              "      <td>[]</td>\n",
              "    </tr>\n",
              "    <tr>\n",
              "      <th>0</th>\n",
              "      <td>766.9314</td>\n",
              "      <td>[]</td>\n",
              "    </tr>\n",
              "    <tr>\n",
              "      <th>0</th>\n",
              "      <td>762.7375</td>\n",
              "      <td>[]</td>\n",
              "    </tr>\n",
              "    <tr>\n",
              "      <th>0</th>\n",
              "      <td>762.7375</td>\n",
              "      <td>[]</td>\n",
              "    </tr>\n",
              "  </tbody>\n",
              "</table>\n",
              "<p>38085 rows × 2 columns</p>\n",
              "</div>\n",
              "      <button class=\"colab-df-convert\" onclick=\"convertToInteractive('df-a4ec3c4d-5db1-4559-93d1-803497b6bd8c')\"\n",
              "              title=\"Convert this dataframe to an interactive table.\"\n",
              "              style=\"display:none;\">\n",
              "        \n",
              "  <svg xmlns=\"http://www.w3.org/2000/svg\" height=\"24px\"viewBox=\"0 0 24 24\"\n",
              "       width=\"24px\">\n",
              "    <path d=\"M0 0h24v24H0V0z\" fill=\"none\"/>\n",
              "    <path d=\"M18.56 5.44l.94 2.06.94-2.06 2.06-.94-2.06-.94-.94-2.06-.94 2.06-2.06.94zm-11 1L8.5 8.5l.94-2.06 2.06-.94-2.06-.94L8.5 2.5l-.94 2.06-2.06.94zm10 10l.94 2.06.94-2.06 2.06-.94-2.06-.94-.94-2.06-.94 2.06-2.06.94z\"/><path d=\"M17.41 7.96l-1.37-1.37c-.4-.4-.92-.59-1.43-.59-.52 0-1.04.2-1.43.59L10.3 9.45l-7.72 7.72c-.78.78-.78 2.05 0 2.83L4 21.41c.39.39.9.59 1.41.59.51 0 1.02-.2 1.41-.59l7.78-7.78 2.81-2.81c.8-.78.8-2.07 0-2.86zM5.41 20L4 18.59l7.72-7.72 1.47 1.35L5.41 20z\"/>\n",
              "  </svg>\n",
              "      </button>\n",
              "      \n",
              "  <style>\n",
              "    .colab-df-container {\n",
              "      display:flex;\n",
              "      flex-wrap:wrap;\n",
              "      gap: 12px;\n",
              "    }\n",
              "\n",
              "    .colab-df-convert {\n",
              "      background-color: #E8F0FE;\n",
              "      border: none;\n",
              "      border-radius: 50%;\n",
              "      cursor: pointer;\n",
              "      display: none;\n",
              "      fill: #1967D2;\n",
              "      height: 32px;\n",
              "      padding: 0 0 0 0;\n",
              "      width: 32px;\n",
              "    }\n",
              "\n",
              "    .colab-df-convert:hover {\n",
              "      background-color: #E2EBFA;\n",
              "      box-shadow: 0px 1px 2px rgba(60, 64, 67, 0.3), 0px 1px 3px 1px rgba(60, 64, 67, 0.15);\n",
              "      fill: #174EA6;\n",
              "    }\n",
              "\n",
              "    [theme=dark] .colab-df-convert {\n",
              "      background-color: #3B4455;\n",
              "      fill: #D2E3FC;\n",
              "    }\n",
              "\n",
              "    [theme=dark] .colab-df-convert:hover {\n",
              "      background-color: #434B5C;\n",
              "      box-shadow: 0px 1px 3px 1px rgba(0, 0, 0, 0.15);\n",
              "      filter: drop-shadow(0px 1px 2px rgba(0, 0, 0, 0.3));\n",
              "      fill: #FFFFFF;\n",
              "    }\n",
              "  </style>\n",
              "\n",
              "      <script>\n",
              "        const buttonEl =\n",
              "          document.querySelector('#df-a4ec3c4d-5db1-4559-93d1-803497b6bd8c button.colab-df-convert');\n",
              "        buttonEl.style.display =\n",
              "          google.colab.kernel.accessAllowed ? 'block' : 'none';\n",
              "\n",
              "        async function convertToInteractive(key) {\n",
              "          const element = document.querySelector('#df-a4ec3c4d-5db1-4559-93d1-803497b6bd8c');\n",
              "          const dataTable =\n",
              "            await google.colab.kernel.invokeFunction('convertToInteractive',\n",
              "                                                     [key], {});\n",
              "          if (!dataTable) return;\n",
              "\n",
              "          const docLinkHtml = 'Like what you see? Visit the ' +\n",
              "            '<a target=\"_blank\" href=https://colab.research.google.com/notebooks/data_table.ipynb>data table notebook</a>'\n",
              "            + ' to learn more about interactive tables.';\n",
              "          element.innerHTML = '';\n",
              "          dataTable['output_type'] = 'display_data';\n",
              "          await google.colab.output.renderOutput(dataTable, element);\n",
              "          const docLink = document.createElement('div');\n",
              "          docLink.innerHTML = docLinkHtml;\n",
              "          element.appendChild(docLink);\n",
              "        }\n",
              "      </script>\n",
              "    </div>\n",
              "  </div>\n",
              "  "
            ]
          },
          "metadata": {},
          "execution_count": 24
        }
      ]
    },
    {
      "cell_type": "markdown",
      "source": [
        "Renumber the list"
      ],
      "metadata": {
        "id": "lA_7_hJRr9RI"
      }
    },
    {
      "cell_type": "code",
      "source": [
        "dfTrainsLearn = dfTrainsLearn.reset_index(drop=True)"
      ],
      "metadata": {
        "id": "Kw_c3Ddj4zN4"
      },
      "execution_count": 25,
      "outputs": []
    },
    {
      "cell_type": "markdown",
      "source": [
        "# Determine NextValue\n",
        "This will be the value we are attempting to learn"
      ],
      "metadata": {
        "id": "M6ikvyh2mKvw"
      }
    },
    {
      "cell_type": "code",
      "source": [
        "def findNextTime(trainsEntry, actualsEntry, timeInMinutes):\n",
        "  #print(actualsEntry.iloc[4]['speedMPH'], \" - \",trainsEntry['lastReportedPosition.speedMPH'] )\n",
        "  idx = math.trunc(timeInMinutes // 2)\n",
        "  if (idx < len(actualsEntry)):\n",
        "    return (abs(actualsEntry.iloc[idx]['speedMPH']) - abs(trainsEntry['lastReportedPosition.speedMPH']))\n",
        "  return None"
      ],
      "metadata": {
        "id": "HsFWDlcWROcp"
      },
      "execution_count": 26,
      "outputs": []
    },
    {
      "cell_type": "code",
      "source": [
        "def findNextMilepost(trainsEntry, actualsEntry, distance):\n",
        "  currMilepost = trainsEntry['lastReportedPosition.milepostLocation.milepost.milepostNumber']\n",
        "  value  = actualsEntry.loc[actualsEntry['milepostLocation.milepost.milepostNumber'] > currMilepost + distance]\n",
        "  if (len(value) > 0) :\n",
        "    return value[value['milepostLocation.milepost.milepostNumber'] == value['milepostLocation.milepost.milepostNumber'].min()]\n",
        "  value  = actualsEntry.loc[actualsEntry['milepostLocation.milepost.milepostNumber'] < currMilepost - distance]\n",
        "  if (len(value) > 0):\n",
        "    return value[value['milepostLocation.milepost.milepostNumber'] == value['milepostLocation.milepost.milepostNumber'].max()]\n",
        "  return []"
      ],
      "metadata": {
        "id": "-gfZhQNSsxeV"
      },
      "execution_count": 27,
      "outputs": []
    },
    {
      "cell_type": "code",
      "source": [
        "def findNextMilepostAtTime(trainsEntry, actualsEntry, timeInMinutes):\n",
        "  idx = math.trunc(timeInMinutes // 2)\n",
        "  if (idx < len(actualsEntry)):\n",
        "    return actualsEntry.iloc[idx]['milepostLocation.milepost.milepostNumber']\n",
        "  return None"
      ],
      "metadata": {
        "id": "V3P0NgM-zSpV"
      },
      "execution_count": 28,
      "outputs": []
    },
    {
      "cell_type": "code",
      "source": [
        "def findNextSpeed(trainsEntry, actualsEntry):\n",
        "  if (measurement.get('unit') == 'miles'):\n",
        "    nextActual = findNextMilepost(trainsEntry, actualsEntry, measurement.get('size'))\n",
        "    if (nextActual != None and len(nextActual) > 0):\n",
        "      amt = (abs(nextActual.iloc[0]['speedMPH']) - abs(trainsEntry['lastReportedPosition.speedMPH']))\n",
        "      return amt;\n",
        "  elif (measurement.get('unit') == 'minutes'):\n",
        "    return findNextTime(trainsEntry, actualsEntry, measurement.get('size'))\n",
        "  elif (measurement.get('unit') == 'milepost'):\n",
        "    return findNextMilepostAtTime(trainsEntry, actualsEntry, measurement.get('size'))\n",
        "  else:\n",
        "    raise Exception('unknown measurement', measurement.get('unit'))    \n",
        "  return None"
      ],
      "metadata": {
        "id": "i_JszmqL0MR6"
      },
      "execution_count": 29,
      "outputs": []
    },
    {
      "cell_type": "markdown",
      "source": [
        "You can peer into the mechanics of a lookup here:"
      ],
      "metadata": {
        "id": "lzq_GLI5mdDk"
      }
    },
    {
      "cell_type": "code",
      "source": [
        "idx = 3291\n",
        "showTrain(idx)\n",
        "print(\"Reported speed: \", dfTrainsLearn.iloc[idx]['lastReportedPosition.speedMPH'])\n",
        "print(\"Reported MP: \", dfTrainsLearn.iloc[idx]['lastReportedPosition.milepostLocation.milepost.milepostNumber'])\n",
        "print(\"Reported Time: \", dfTrainsLearn.iloc[idx]['lastReportedPosition.positionTime'])\n",
        "\n",
        "nextActual = findNextMilepost(dfTrainsLearn.iloc[idx], dfTrainsLearnActuals.iloc[idx], 1)\n",
        "print(\"Next Speed at MP:\",nextActual)\n",
        "nextActual = findNextTime(dfTrainsLearn.iloc[idx], dfTrainsLearnActuals.iloc[idx], 10)\n",
        "print(\"Next Speed at 10 Min:\",nextActual)\n",
        "nextActual = findNextMilepostAtTime(dfTrainsLearn.iloc[idx], dfTrainsLearnActuals.iloc[idx], 10)\n",
        "print(\"Milepost in 10 Min:\",nextActual)\n",
        "\n",
        "print(\"actual Value: \", findNextSpeed(dfTrainsLearn.iloc[idx], dfTrainsLearnActuals.iloc[idx]))\n",
        "beopJSON = dfTrainsBeop.iloc[idx]['trainEstimatedPositionList']\n",
        "if not type(beopJSON) is float and len(beopJSON) > 0:\n",
        "  beopDT = pd.json_normalize(beopJSON)\n",
        "  nextBeop = findNextMilepost(dfTrainsLearn.iloc[idx], beopDT, 1)\n",
        "  print(nextBeop)\n",
        "  type(dfTrainsBeop.iloc[idx]['trainEstimatedPositionList'])\n",
        "  print(\"beop Value: \", findNextSpeed(dfTrainsLearn.iloc[idx], beopDT))"
      ],
      "metadata": {
        "id": "F_hQFHKztIu-",
        "colab": {
          "base_uri": "https://localhost:8080/"
        },
        "outputId": "409c5c7e-9378-4582-ffea-7dd274ff727c"
      },
      "execution_count": 30,
      "outputs": [
        {
          "output_type": "stream",
          "name": "stdout",
          "text": [
            "BNSF5241\n",
            "MWARNJ\n",
            "Reported speed:  0\n",
            "Reported MP:  762.7356\n",
            "Reported Time:  2022-06-09T21:29:07Z\n",
            "Next Speed at MP:             positionTime  speedMPH  milepostLocation.subdivisionId  \\\n",
            "28  2022-06-09T22:27:07Z        18                             106   \n",
            "\n",
            "   milepostLocation.trackName  milepostLocation.milepost.milepostNumber  \n",
            "28                       MAIN                                  764.0808  \n",
            "Next Speed at 10 Min: 0\n",
            "Milepost in 10 Min: 762.7377\n",
            "actual Value:  765.254\n"
          ]
        }
      ]
    },
    {
      "cell_type": "markdown",
      "source": [
        "Run the calulations.  This will take a moment."
      ],
      "metadata": {
        "id": "cWzMCn-tsE22"
      }
    },
    {
      "cell_type": "code",
      "source": [
        "dfTrainsLearn['nextValue'] = np.NaN\n",
        "dfTrainsLearn['beopValue'] = np.NaN\n",
        "i = 0;\n",
        "for index, trainsEntry in dfTrainsLearn.iterrows():\n",
        "  nextValue = findNextSpeed(trainsEntry, dfTrainsLearnActuals.iloc[i])\n",
        "  if (nextValue != None):\n",
        "    dfTrainsLearn.at[i,'nextValue'] = nextValue\n",
        "  beopJSON = dfTrainsBeop.iloc[i]['trainEstimatedPositionList']\n",
        "  if not type(beopJSON) is float and len(beopJSON) > 0:\n",
        "    try:\n",
        "      beopDT = pd.json_normalize(beopJSON)\n",
        "      if (measurement.get('unit') == 'miles'):\n",
        "        nextBeop = findNextMilepost(trainsEntry, beopDT, measurement.get('size'))\n",
        "      elif (measurement.get('unit') == 'minutes'):\n",
        "        nextBeop = findNextTime(trainsEntry, beopDT, measurement.get('size'))\n",
        "      elif (measurement.get('unit') == 'milepost'):\n",
        "        nextBeop = findNextMilepostAtTime(trainsEntry, beopDT, measurement.get('size'))\n",
        "      if (nextBeop != None):\n",
        "        dfTrainsLearn.at[i,'beopValue'] = nextBeop\n",
        "    except NotImplementedError:\n",
        "      print(type(beopJSON))\n",
        "    except KeyError:\n",
        "      print(beopJSON)\n",
        "  if (i % 1000 == 0):\n",
        "    print(i)\n",
        "  i = i + 1"
      ],
      "metadata": {
        "id": "fG2U-anX-jbt",
        "colab": {
          "base_uri": "https://localhost:8080/"
        },
        "outputId": "386dc222-afc9-436c-ee20-cd6f305e8e3e"
      },
      "execution_count": 31,
      "outputs": [
        {
          "output_type": "stream",
          "name": "stdout",
          "text": [
            "0\n",
            "1000\n",
            "2000\n",
            "3000\n",
            "4000\n",
            "5000\n",
            "6000\n",
            "7000\n",
            "8000\n",
            "9000\n",
            "10000\n",
            "11000\n",
            "12000\n",
            "13000\n",
            "14000\n",
            "15000\n",
            "16000\n",
            "17000\n",
            "18000\n",
            "19000\n",
            "20000\n",
            "21000\n",
            "22000\n",
            "23000\n",
            "24000\n",
            "25000\n",
            "26000\n",
            "27000\n",
            "28000\n",
            "29000\n",
            "30000\n",
            "31000\n",
            "32000\n",
            "33000\n",
            "34000\n",
            "35000\n",
            "36000\n",
            "37000\n",
            "38000\n"
          ]
        }
      ]
    },
    {
      "cell_type": "code",
      "source": [
        "dfTrainsLearn = dfTrainsLearn.dropna(subset=['nextValue'])\n",
        "dfTrainsLearn['nextValue'].unique()"
      ],
      "metadata": {
        "colab": {
          "base_uri": "https://localhost:8080/"
        },
        "id": "lQz8KQHM3SdN",
        "outputId": "0189d6ba-5322-4e60-f67b-ceea374f8b02"
      },
      "execution_count": 32,
      "outputs": [
        {
          "output_type": "execute_result",
          "data": {
            "text/plain": [
              "array([762.7347 , 764.5085 , 762.7287 , ..., 762.82874, 766.57025, 759.2366 ])"
            ]
          },
          "metadata": {},
          "execution_count": 32
        }
      ]
    },
    {
      "cell_type": "code",
      "source": [
        "print(\"NextValue values histogram:\")\n",
        "dfTrainsLearn['nextValue'].hist(bins=200)"
      ],
      "metadata": {
        "id": "IOWDvvGusUBm",
        "colab": {
          "base_uri": "https://localhost:8080/",
          "height": 300
        },
        "outputId": "6b9af22f-5b58-4ab9-dac2-bd7d5bd2e440"
      },
      "execution_count": 33,
      "outputs": [
        {
          "output_type": "stream",
          "name": "stdout",
          "text": [
            "NextValue values histogram:\n"
          ]
        },
        {
          "output_type": "execute_result",
          "data": {
            "text/plain": [
              "<matplotlib.axes._subplots.AxesSubplot at 0x7f3a9a4ac290>"
            ]
          },
          "metadata": {},
          "execution_count": 33
        },
        {
          "output_type": "display_data",
          "data": {
            "text/plain": [
              "<Figure size 432x288 with 1 Axes>"
            ],
            "image/png": "[encoded data removed]"
          },
          "metadata": {
            "needs_background": "light"
          }
        }
      ]
    },
    {
      "cell_type": "code",
      "source": [
        "dfTrainsLearn['beopValue'].unique()"
      ],
      "metadata": {
        "id": "bdSnFJoMWVrn",
        "colab": {
          "base_uri": "https://localhost:8080/"
        },
        "outputId": "bee26658-2631-45aa-91f8-da5b98c7a723"
      },
      "execution_count": 34,
      "outputs": [
        {
          "output_type": "execute_result",
          "data": {
            "text/plain": [
              "array([     nan, 765.6878, 772.1762, ..., 787.0846, 798.9698, 807.265 ])"
            ]
          },
          "metadata": {},
          "execution_count": 34
        }
      ]
    },
    {
      "cell_type": "code",
      "source": [
        "print(\"physics predictions histogram:\")\n",
        "dfTrainsLearn['beopValue'].hist(bins=200)"
      ],
      "metadata": {
        "id": "K7WQR074WuDQ",
        "colab": {
          "base_uri": "https://localhost:8080/",
          "height": 300
        },
        "outputId": "a5c9bf07-a4a7-4cbe-bc9e-9379a9cdf510"
      },
      "execution_count": 35,
      "outputs": [
        {
          "output_type": "stream",
          "name": "stdout",
          "text": [
            "physics predictions histogram:\n"
          ]
        },
        {
          "output_type": "execute_result",
          "data": {
            "text/plain": [
              "<matplotlib.axes._subplots.AxesSubplot at 0x7f3a9a4ace50>"
            ]
          },
          "metadata": {},
          "execution_count": 35
        },
        {
          "output_type": "display_data",
          "data": {
            "text/plain": [
              "<Figure size 432x288 with 1 Axes>"
            ],
            "image/png": "[encoded data removed]"
          },
          "metadata": {
            "needs_background": "light"
          }
        }
      ]
    },
    {
      "cell_type": "code",
      "source": [
        "dfTrainsNextBeop = dfTrainsLearn['beopValue']"
      ],
      "metadata": {
        "id": "k1sGN4n_2bDU"
      },
      "execution_count": 36,
      "outputs": []
    },
    {
      "cell_type": "markdown",
      "source": [
        "Drop some values we are not using at the moment, not needed.\n",
        "\n",
        "Note, this will disable above computations unless you resume at \"Create a learning set\""
      ],
      "metadata": {
        "id": "moXjNcMQu-3C"
      }
    },
    {
      "cell_type": "code",
      "source": [
        "dfTrainsLearn = dfTrainsLearn.drop(columns=['aotuTrainData.tenantCarrier',\n",
        "                                            'beopValue',\n",
        "                                            'positionHistoryList',\n",
        "                                            'locomotiveList',\n",
        "                                            'subdivisionList',\n",
        "                                            'trainActualPositionList',\n",
        "                                            'trainEstimatedPositionList',\n",
        "                                            'aotuTrainData.routeLocationList'])"
      ],
      "metadata": {
        "id": "hBmsqv6IuVVO"
      },
      "execution_count": 37,
      "outputs": []
    },
    {
      "cell_type": "markdown",
      "source": [
        "Burst dates into subcolumns that might prove useful"
      ],
      "metadata": {
        "id": "22_dmiSmoYyq"
      }
    },
    {
      "cell_type": "code",
      "source": [
        "tabular.core.make_date(dfTrainsLearn, 'trainId.trainDate')\n",
        "tabular.core.make_date(dfTrainsLearn, 'lastReportedPosition.positionTime')\n",
        "tabular.core.add_datepart(dfTrainsLearn, 'lastReportedPosition.positionTime')\n",
        "# tabular.core.add_elapsed_times(dfTrainsLearn, 'lastReportedPosition.positionTime')\n"
      ],
      "metadata": {
        "id": "DjTAxScsbHCN",
        "colab": {
          "base_uri": "https://localhost:8080/",
          "height": 487
        },
        "outputId": "95c53598-a964-4a63-c84d-22e2a764c0ab"
      },
      "execution_count": 38,
      "outputs": [
        {
          "output_type": "execute_result",
          "data": {
            "text/plain": [
              "      ptcLeadLocomotiveId trainId.trainSCAC trainId.trainSection  \\\n",
              "38                KCS4844                UP                        \n",
              "39                KCS4844                UP                        \n",
              "40                KCS4844                UP                        \n",
              "59                KCS4845                UP                    2   \n",
              "60                KCS4845                UP                    2   \n",
              "...                   ...               ...                  ...   \n",
              "38073              CN2983                UP                        \n",
              "38074              CN2983                UP                        \n",
              "38075              CN2983                UP                        \n",
              "38076              CN2983                UP                        \n",
              "38077              CN2983                UP                        \n",
              "\n",
              "      trainId.trainSymbol  ...  \\\n",
              "38                 UBTRNJ  ...   \n",
              "39                 UBTRNJ  ...   \n",
              "40                 UBTRNJ  ...   \n",
              "59                 MWARNJ  ...   \n",
              "60                 MWARNJ  ...   \n",
              "...                   ...  ...   \n",
              "38073               MLIHO  ...   \n",
              "38074               MLIHO  ...   \n",
              "38075               MLIHO  ...   \n",
              "38076               MLIHO  ...   \n",
              "38077               MLIHO  ...   \n",
              "\n",
              "      lastReportedPosition.positionTimeIs_quarter_start  \\\n",
              "38                                                False   \n",
              "39                                                False   \n",
              "40                                                False   \n",
              "59                                                False   \n",
              "60                                                False   \n",
              "...                                                 ...   \n",
              "38073                                             False   \n",
              "38074                                             False   \n",
              "38075                                             False   \n",
              "38076                                             False   \n",
              "38077                                             False   \n",
              "\n",
              "       lastReportedPosition.positionTimeIs_year_end  \\\n",
              "38                                            False   \n",
              "39                                            False   \n",
              "40                                            False   \n",
              "59                                            False   \n",
              "60                                            False   \n",
              "...                                             ...   \n",
              "38073                                         False   \n",
              "38074                                         False   \n",
              "38075                                         False   \n",
              "38076                                         False   \n",
              "38077                                         False   \n",
              "\n",
              "       lastReportedPosition.positionTimeIs_year_start  \\\n",
              "38                                              False   \n",
              "39                                              False   \n",
              "40                                              False   \n",
              "59                                              False   \n",
              "60                                              False   \n",
              "...                                               ...   \n",
              "38073                                           False   \n",
              "38074                                           False   \n",
              "38075                                           False   \n",
              "38076                                           False   \n",
              "38077                                           False   \n",
              "\n",
              "      lastReportedPosition.positionTimeElapsed  \n",
              "38                                1.649828e+09  \n",
              "39                                1.649829e+09  \n",
              "40                                1.649830e+09  \n",
              "59                                1.655760e+09  \n",
              "60                                1.655761e+09  \n",
              "...                                        ...  \n",
              "38073                             1.657146e+09  \n",
              "38074                             1.657147e+09  \n",
              "38075                             1.657148e+09  \n",
              "38076                             1.657149e+09  \n",
              "38077                             1.657150e+09  \n",
              "\n",
              "[25675 rows x 47 columns]"
            ],
            "text/html": [
              "\n",
              "  <div id=\"df-558c4096-f5db-4d1d-b60b-f4022cd0c52e\">\n",
              "    <div class=\"colab-df-container\">\n",
              "      <div>\n",
              "<style scoped>\n",
              "    .dataframe tbody tr th:only-of-type {\n",
              "        vertical-align: middle;\n",
              "    }\n",
              "\n",
              "    .dataframe tbody tr th {\n",
              "        vertical-align: top;\n",
              "    }\n",
              "\n",
              "    .dataframe thead th {\n",
              "        text-align: right;\n",
              "    }\n",
              "</style>\n",
              "<table border=\"1\" class=\"dataframe\">\n",
              "  <thead>\n",
              "    <tr style=\"text-align: right;\">\n",
              "      <th></th>\n",
              "      <th>ptcLeadLocomotiveId</th>\n",
              "      <th>trainId.trainSCAC</th>\n",
              "      <th>trainId.trainSection</th>\n",
              "      <th>trainId.trainSymbol</th>\n",
              "      <th>...</th>\n",
              "      <th>lastReportedPosition.positionTimeIs_quarter_start</th>\n",
              "      <th>lastReportedPosition.positionTimeIs_year_end</th>\n",
              "      <th>lastReportedPosition.positionTimeIs_year_start</th>\n",
              "      <th>lastReportedPosition.positionTimeElapsed</th>\n",
              "    </tr>\n",
              "  </thead>\n",
              "  <tbody>\n",
              "    <tr>\n",
              "      <th>38</th>\n",
              "      <td>KCS4844</td>\n",
              "      <td>UP</td>\n",
              "      <td></td>\n",
              "      <td>UBTRNJ</td>\n",
              "      <td>...</td>\n",
              "      <td>False</td>\n",
              "      <td>False</td>\n",
              "      <td>False</td>\n",
              "      <td>1.649828e+09</td>\n",
              "    </tr>\n",
              "    <tr>\n",
              "      <th>39</th>\n",
              "      <td>KCS4844</td>\n",
              "      <td>UP</td>\n",
              "      <td></td>\n",
              "      <td>UBTRNJ</td>\n",
              "      <td>...</td>\n",
              "      <td>False</td>\n",
              "      <td>False</td>\n",
              "      <td>False</td>\n",
              "      <td>1.649829e+09</td>\n",
              "    </tr>\n",
              "    <tr>\n",
              "      <th>40</th>\n",
              "      <td>KCS4844</td>\n",
              "      <td>UP</td>\n",
              "      <td></td>\n",
              "      <td>UBTRNJ</td>\n",
              "      <td>...</td>\n",
              "      <td>False</td>\n",
              "      <td>False</td>\n",
              "      <td>False</td>\n",
              "      <td>1.649830e+09</td>\n",
              "    </tr>\n",
              "    <tr>\n",
              "      <th>59</th>\n",
              "      <td>KCS4845</td>\n",
              "      <td>UP</td>\n",
              "      <td>2</td>\n",
              "      <td>MWARNJ</td>\n",
              "      <td>...</td>\n",
              "      <td>False</td>\n",
              "      <td>False</td>\n",
              "      <td>False</td>\n",
              "      <td>1.655760e+09</td>\n",
              "    </tr>\n",
              "    <tr>\n",
              "      <th>60</th>\n",
              "      <td>KCS4845</td>\n",
              "      <td>UP</td>\n",
              "      <td>2</td>\n",
              "      <td>MWARNJ</td>\n",
              "      <td>...</td>\n",
              "      <td>False</td>\n",
              "      <td>False</td>\n",
              "      <td>False</td>\n",
              "      <td>1.655761e+09</td>\n",
              "    </tr>\n",
              "    <tr>\n",
              "      <th>...</th>\n",
              "      <td>...</td>\n",
              "      <td>...</td>\n",
              "      <td>...</td>\n",
              "      <td>...</td>\n",
              "      <td>...</td>\n",
              "      <td>...</td>\n",
              "      <td>...</td>\n",
              "      <td>...</td>\n",
              "      <td>...</td>\n",
              "    </tr>\n",
              "    <tr>\n",
              "      <th>38073</th>\n",
              "      <td>CN2983</td>\n",
              "      <td>UP</td>\n",
              "      <td></td>\n",
              "      <td>MLIHO</td>\n",
              "      <td>...</td>\n",
              "      <td>False</td>\n",
              "      <td>False</td>\n",
              "      <td>False</td>\n",
              "      <td>1.657146e+09</td>\n",
              "    </tr>\n",
              "    <tr>\n",
              "      <th>38074</th>\n",
              "      <td>CN2983</td>\n",
              "      <td>UP</td>\n",
              "      <td></td>\n",
              "      <td>MLIHO</td>\n",
              "      <td>...</td>\n",
              "      <td>False</td>\n",
              "      <td>False</td>\n",
              "      <td>False</td>\n",
              "      <td>1.657147e+09</td>\n",
              "    </tr>\n",
              "    <tr>\n",
              "      <th>38075</th>\n",
              "      <td>CN2983</td>\n",
              "      <td>UP</td>\n",
              "      <td></td>\n",
              "      <td>MLIHO</td>\n",
              "      <td>...</td>\n",
              "      <td>False</td>\n",
              "      <td>False</td>\n",
              "      <td>False</td>\n",
              "      <td>1.657148e+09</td>\n",
              "    </tr>\n",
              "    <tr>\n",
              "      <th>38076</th>\n",
              "      <td>CN2983</td>\n",
              "      <td>UP</td>\n",
              "      <td></td>\n",
              "      <td>MLIHO</td>\n",
              "      <td>...</td>\n",
              "      <td>False</td>\n",
              "      <td>False</td>\n",
              "      <td>False</td>\n",
              "      <td>1.657149e+09</td>\n",
              "    </tr>\n",
              "    <tr>\n",
              "      <th>38077</th>\n",
              "      <td>CN2983</td>\n",
              "      <td>UP</td>\n",
              "      <td></td>\n",
              "      <td>MLIHO</td>\n",
              "      <td>...</td>\n",
              "      <td>False</td>\n",
              "      <td>False</td>\n",
              "      <td>False</td>\n",
              "      <td>1.657150e+09</td>\n",
              "    </tr>\n",
              "  </tbody>\n",
              "</table>\n",
              "<p>25675 rows × 47 columns</p>\n",
              "</div>\n",
              "      <button class=\"colab-df-convert\" onclick=\"convertToInteractive('df-558c4096-f5db-4d1d-b60b-f4022cd0c52e')\"\n",
              "              title=\"Convert this dataframe to an interactive table.\"\n",
              "              style=\"display:none;\">\n",
              "        \n",
              "  <svg xmlns=\"http://www.w3.org/2000/svg\" height=\"24px\"viewBox=\"0 0 24 24\"\n",
              "       width=\"24px\">\n",
              "    <path d=\"M0 0h24v24H0V0z\" fill=\"none\"/>\n",
              "    <path d=\"M18.56 5.44l.94 2.06.94-2.06 2.06-.94-2.06-.94-.94-2.06-.94 2.06-2.06.94zm-11 1L8.5 8.5l.94-2.06 2.06-.94-2.06-.94L8.5 2.5l-.94 2.06-2.06.94zm10 10l.94 2.06.94-2.06 2.06-.94-2.06-.94-.94-2.06-.94 2.06-2.06.94z\"/><path d=\"M17.41 7.96l-1.37-1.37c-.4-.4-.92-.59-1.43-.59-.52 0-1.04.2-1.43.59L10.3 9.45l-7.72 7.72c-.78.78-.78 2.05 0 2.83L4 21.41c.39.39.9.59 1.41.59.51 0 1.02-.2 1.41-.59l7.78-7.78 2.81-2.81c.8-.78.8-2.07 0-2.86zM5.41 20L4 18.59l7.72-7.72 1.47 1.35L5.41 20z\"/>\n",
              "  </svg>\n",
              "      </button>\n",
              "      \n",
              "  <style>\n",
              "    .colab-df-container {\n",
              "      display:flex;\n",
              "      flex-wrap:wrap;\n",
              "      gap: 12px;\n",
              "    }\n",
              "\n",
              "    .colab-df-convert {\n",
              "      background-color: #E8F0FE;\n",
              "      border: none;\n",
              "      border-radius: 50%;\n",
              "      cursor: pointer;\n",
              "      display: none;\n",
              "      fill: #1967D2;\n",
              "      height: 32px;\n",
              "      padding: 0 0 0 0;\n",
              "      width: 32px;\n",
              "    }\n",
              "\n",
              "    .colab-df-convert:hover {\n",
              "      background-color: #E2EBFA;\n",
              "      box-shadow: 0px 1px 2px rgba(60, 64, 67, 0.3), 0px 1px 3px 1px rgba(60, 64, 67, 0.15);\n",
              "      fill: #174EA6;\n",
              "    }\n",
              "\n",
              "    [theme=dark] .colab-df-convert {\n",
              "      background-color: #3B4455;\n",
              "      fill: #D2E3FC;\n",
              "    }\n",
              "\n",
              "    [theme=dark] .colab-df-convert:hover {\n",
              "      background-color: #434B5C;\n",
              "      box-shadow: 0px 1px 3px 1px rgba(0, 0, 0, 0.15);\n",
              "      filter: drop-shadow(0px 1px 2px rgba(0, 0, 0, 0.3));\n",
              "      fill: #FFFFFF;\n",
              "    }\n",
              "  </style>\n",
              "\n",
              "      <script>\n",
              "        const buttonEl =\n",
              "          document.querySelector('#df-558c4096-f5db-4d1d-b60b-f4022cd0c52e button.colab-df-convert');\n",
              "        buttonEl.style.display =\n",
              "          google.colab.kernel.accessAllowed ? 'block' : 'none';\n",
              "\n",
              "        async function convertToInteractive(key) {\n",
              "          const element = document.querySelector('#df-558c4096-f5db-4d1d-b60b-f4022cd0c52e');\n",
              "          const dataTable =\n",
              "            await google.colab.kernel.invokeFunction('convertToInteractive',\n",
              "                                                     [key], {});\n",
              "          if (!dataTable) return;\n",
              "\n",
              "          const docLinkHtml = 'Like what you see? Visit the ' +\n",
              "            '<a target=\"_blank\" href=https://colab.research.google.com/notebooks/data_table.ipynb>data table notebook</a>'\n",
              "            + ' to learn more about interactive tables.';\n",
              "          element.innerHTML = '';\n",
              "          dataTable['output_type'] = 'display_data';\n",
              "          await google.colab.output.renderOutput(dataTable, element);\n",
              "          const docLink = document.createElement('div');\n",
              "          docLink.innerHTML = docLinkHtml;\n",
              "          element.appendChild(docLink);\n",
              "        }\n",
              "      </script>\n",
              "    </div>\n",
              "  </div>\n",
              "  "
            ]
          },
          "metadata": {},
          "execution_count": 38
        }
      ]
    },
    {
      "cell_type": "code",
      "source": [
        "print(dfTrainsLearn.shape)\n",
        "print(dfTrainsLearnActuals.shape)\n",
        "\n",
        "print(dfTrainsLearn.info())\n",
        "print(dfTrainsLearn.iloc[10])"
      ],
      "metadata": {
        "id": "jTVXPBSQ2gp3",
        "colab": {
          "base_uri": "https://localhost:8080/"
        },
        "outputId": "634cbb7b-f9cf-4ece-f6b5-6083ed4fc799"
      },
      "execution_count": 39,
      "outputs": [
        {
          "output_type": "stream",
          "name": "stdout",
          "text": [
            "(25675, 47)\n",
            "(38085,)\n",
            "<class 'pandas.core.frame.DataFrame'>\n",
            "Int64Index: 25675 entries, 38 to 38077\n",
            "Data columns (total 47 columns):\n",
            " #   Column                                                         Non-Null Count  Dtype         \n",
            "---  ------                                                         --------------  -----         \n",
            " 0   ptcLeadLocomotiveId                                            25675 non-null  object        \n",
            " 1   trainId.trainSCAC                                              25675 non-null  category      \n",
            " 2   trainId.trainSection                                           25675 non-null  category      \n",
            " 3   trainId.trainSymbol                                            25675 non-null  object        \n",
            " 4   trainId.trainDate                                              25675 non-null  datetime64[ns]\n",
            " 5   lastReportedPosition.speedMPH                                  25675 non-null  int64         \n",
            " 6   lastReportedPosition.milepostLocation.subdivisionId            25675 non-null  int64         \n",
            " 7   lastReportedPosition.milepostLocation.trackName                25675 non-null  category      \n",
            " 8   lastReportedPosition.milepostLocation.milepost.milepostNumber  25675 non-null  float64       \n",
            " 9   aotuTrainData.priorityCode                                     25675 non-null  category      \n",
            " 10  aotuTrainData.categoryCode                                     25675 non-null  category      \n",
            " 11  aotuTrainData.authorityRangeCode                               25675 non-null  category      \n",
            " 12  aotuTrainData.ownershipCode                                    25675 non-null  category      \n",
            " 13  aotuTrainData.totalCarWeight                                   25675 non-null  float64       \n",
            " 14  aotuTrainData.totalCarLength                                   25675 non-null  float64       \n",
            " 15  aotuTrainData.totalLocomotiveWeight                            25675 non-null  float64       \n",
            " 16  aotuTrainData.totalLocomotiveLength                            25675 non-null  float64       \n",
            " 17  aotuTrainData.actualTonsPerAxle                                25675 non-null  float64       \n",
            " 18  aotuTrainData.heavy143TonCarCount                              25675 non-null  float64       \n",
            " 19  aotuTrainData.heavy158TonCarCount                              25675 non-null  float64       \n",
            " 20  aotuTrainData.over158TonCarCount                               25675 non-null  float64       \n",
            " 21  aotuTrainData.highWideCarCount                                 25675 non-null  float64       \n",
            " 22  aotuTrainData.eventCode                                        25675 non-null  category      \n",
            " 23  maximumTrainSpeed                                              25675 non-null  float64       \n",
            " 24  loadedCarCount                                                 25675 non-null  float64       \n",
            " 25  emptyCarCount                                                  25675 non-null  float64       \n",
            " 26  trainLength                                                    25675 non-null  float64       \n",
            " 27  trailingTonnage                                                25675 non-null  float64       \n",
            " 28  milepost                                                       25675 non-null  int64         \n",
            " 29  mpIncr                                                         25675 non-null  bool          \n",
            " 30  symbolType                                                     25675 non-null  category      \n",
            " 31  workLocations                                                  22414 non-null  object        \n",
            " 32  locomotiveCount                                                25675 non-null  int64         \n",
            " 33  nextValue                                                      25675 non-null  float64       \n",
            " 34  lastReportedPosition.positionTimeYear                          25675 non-null  int64         \n",
            " 35  lastReportedPosition.positionTimeMonth                         25675 non-null  int64         \n",
            " 36  lastReportedPosition.positionTimeWeek                          25675 non-null  int64         \n",
            " 37  lastReportedPosition.positionTimeDay                           25675 non-null  int64         \n",
            " 38  lastReportedPosition.positionTimeDayofweek                     25675 non-null  int64         \n",
            " 39  lastReportedPosition.positionTimeDayofyear                     25675 non-null  int64         \n",
            " 40  lastReportedPosition.positionTimeIs_month_end                  25675 non-null  bool          \n",
            " 41  lastReportedPosition.positionTimeIs_month_start                25675 non-null  bool          \n",
            " 42  lastReportedPosition.positionTimeIs_quarter_end                25675 non-null  bool          \n",
            " 43  lastReportedPosition.positionTimeIs_quarter_start              25675 non-null  bool          \n",
            " 44  lastReportedPosition.positionTimeIs_year_end                   25675 non-null  bool          \n",
            " 45  lastReportedPosition.positionTimeIs_year_start                 25675 non-null  bool          \n",
            " 46  lastReportedPosition.positionTimeElapsed                       25675 non-null  float64       \n",
            "dtypes: bool(7), category(9), datetime64[ns](1), float64(17), int64(10), object(3)\n",
            "memory usage: 6.7+ MB\n",
            "None\n",
            "ptcLeadLocomotiveId                                              AMTK182\n",
            "trainId.trainSCAC                                                     UP\n",
            "trainId.trainSection                                                    \n",
            "trainId.trainSymbol                                                 AMT1\n",
            "trainId.trainDate                                    2022-04-05 00:00:00\n",
            "                                                            ...         \n",
            "lastReportedPosition.positionTimeIs_quarter_end                    False\n",
            "lastReportedPosition.positionTimeIs_quarter_start                  False\n",
            "lastReportedPosition.positionTimeIs_year_end                       False\n",
            "lastReportedPosition.positionTimeIs_year_start                     False\n",
            "lastReportedPosition.positionTimeElapsed                    1649286627.0\n",
            "Name: 81, Length: 47, dtype: object\n"
          ]
        }
      ]
    },
    {
      "cell_type": "markdown",
      "source": [
        "# Use Decision Tree to predict next speed"
      ],
      "metadata": {
        "id": "mg1p1vouBeIB"
      }
    },
    {
      "cell_type": "code",
      "source": [
        "procs = [tabular.core.Categorify, tabular.core.FillMissing]"
      ],
      "metadata": {
        "id": "F9TApkZWbAbz"
      },
      "execution_count": 40,
      "outputs": []
    },
    {
      "cell_type": "markdown",
      "source": [
        "Breakdown the data by day of year - we will train with older data and then test the model with newer values.\n",
        "Note: this simple logic will fail at the begining of a new year!"
      ],
      "metadata": {
        "id": "yjaTPkTntR7F"
      }
    },
    {
      "cell_type": "code",
      "source": [
        "dateValues = dfTrainsLearn.groupby(['lastReportedPosition.positionTimeDayofyear'])['lastReportedPosition.positionTimeDayofyear'].count()\n",
        "print(dateValues)"
      ],
      "metadata": {
        "id": "gDgYzofcvcpM",
        "colab": {
          "base_uri": "https://localhost:8080/"
        },
        "outputId": "c8f58bd2-c0a4-4c6a-8b58-8b0db291e258"
      },
      "execution_count": 41,
      "outputs": [
        {
          "output_type": "stream",
          "name": "stdout",
          "text": [
            "lastReportedPosition.positionTimeDayofyear\n",
            "90      51\n",
            "91     217\n",
            "92     201\n",
            "93     227\n",
            "94     134\n",
            "      ... \n",
            "183    321\n",
            "184    235\n",
            "185    222\n",
            "186    246\n",
            "187    434\n",
            "Name: lastReportedPosition.positionTimeDayofyear, Length: 97, dtype: int64\n"
          ]
        }
      ]
    },
    {
      "cell_type": "code",
      "source": [
        "print(\"We will partition this set at day of year:\", dateValues.index[math.trunc(dateValues.size * dataCutpoint)])"
      ],
      "metadata": {
        "colab": {
          "base_uri": "https://localhost:8080/"
        },
        "id": "cJkyrhnpt2T2",
        "outputId": "d4152aea-dbab-4d9a-d6fd-fef669d476fd"
      },
      "execution_count": 98,
      "outputs": [
        {
          "output_type": "stream",
          "name": "stdout",
          "text": [
            "We will partition this set at day of year: 167\n"
          ]
        }
      ]
    },
    {
      "cell_type": "code",
      "source": [
        "cond = ( dfTrainsLearn['lastReportedPosition.positionTimeDayofyear'] <= dateValues.index[math.trunc(dateValues.size * dataCutpoint)] )\n",
        "trainIdx = np.where(cond)[0]\n",
        "validIdx = np.where(~cond)[0]\n",
        "splits = (list(trainIdx), list(validIdx))"
      ],
      "metadata": {
        "id": "nIURJVe5vc_n"
      },
      "execution_count": 99,
      "outputs": []
    },
    {
      "cell_type": "code",
      "source": [
        "#dep_var = 'nextSpeed'"
      ],
      "metadata": {
        "id": "rPW42wgnOLO_"
      },
      "execution_count": 100,
      "outputs": []
    },
    {
      "cell_type": "code",
      "source": [
        "cont,cat = tabular.core.cont_cat_split(dfTrainsLearn, 1, dep_var=dep_var)"
      ],
      "metadata": {
        "id": "gHDAeThzyzc6"
      },
      "execution_count": 101,
      "outputs": []
    },
    {
      "cell_type": "code",
      "source": [
        "to = tabular.core.TabularPandas(dfTrainsLearn, procs, cat, cont, y_names=dep_var, splits=splits)"
      ],
      "metadata": {
        "id": "xz1ZonvnO-I7"
      },
      "execution_count": 102,
      "outputs": []
    },
    {
      "cell_type": "code",
      "source": [
        "len(to.train),len(to.valid)"
      ],
      "metadata": {
        "id": "0DJly6_Z94uI",
        "colab": {
          "base_uri": "https://localhost:8080/"
        },
        "outputId": "f2aec61f-f9e9-48db-d7b7-004118744ed9"
      },
      "execution_count": 103,
      "outputs": [
        {
          "output_type": "execute_result",
          "data": {
            "text/plain": [
              "(20726, 4949)"
            ]
          },
          "metadata": {},
          "execution_count": 103
        }
      ]
    },
    {
      "cell_type": "code",
      "source": [
        "to.show()"
      ],
      "metadata": {
        "id": "xoEQAME4-n0M",
        "colab": {
          "base_uri": "https://localhost:8080/",
          "height": 383
        },
        "outputId": "1e1579ea-64c7-48c6-9f85-96fb74838a11"
      },
      "execution_count": 104,
      "outputs": [
        {
          "output_type": "display_data",
          "data": {
            "text/plain": [
              "<IPython.core.display.HTML object>"
            ],
            "text/html": [
              "<table border=\"1\" class=\"dataframe\">\n",
              "  <thead>\n",
              "    <tr style=\"text-align: right;\">\n",
              "      <th></th>\n",
              "      <th>ptcLeadLocomotiveId</th>\n",
              "      <th>trainId.trainSCAC</th>\n",
              "      <th>trainId.trainSection</th>\n",
              "      <th>trainId.trainSymbol</th>\n",
              "      <th>trainId.trainDate</th>\n",
              "      <th>lastReportedPosition.milepostLocation.subdivisionId</th>\n",
              "      <th>lastReportedPosition.milepostLocation.trackName</th>\n",
              "      <th>aotuTrainData.priorityCode</th>\n",
              "      <th>aotuTrainData.categoryCode</th>\n",
              "      <th>aotuTrainData.authorityRangeCode</th>\n",
              "      <th>aotuTrainData.ownershipCode</th>\n",
              "      <th>aotuTrainData.eventCode</th>\n",
              "      <th>mpIncr</th>\n",
              "      <th>symbolType</th>\n",
              "      <th>workLocations</th>\n",
              "      <th>lastReportedPosition.positionTimeYear</th>\n",
              "      <th>lastReportedPosition.positionTimeIs_month_end</th>\n",
              "      <th>lastReportedPosition.positionTimeIs_month_start</th>\n",
              "      <th>lastReportedPosition.positionTimeIs_quarter_end</th>\n",
              "      <th>lastReportedPosition.positionTimeIs_quarter_start</th>\n",
              "      <th>lastReportedPosition.positionTimeIs_year_end</th>\n",
              "      <th>lastReportedPosition.positionTimeIs_year_start</th>\n",
              "      <th>lastReportedPosition.speedMPH</th>\n",
              "      <th>lastReportedPosition.milepostLocation.milepost.milepostNumber</th>\n",
              "      <th>aotuTrainData.totalCarWeight</th>\n",
              "      <th>aotuTrainData.totalCarLength</th>\n",
              "      <th>aotuTrainData.totalLocomotiveWeight</th>\n",
              "      <th>aotuTrainData.totalLocomotiveLength</th>\n",
              "      <th>aotuTrainData.actualTonsPerAxle</th>\n",
              "      <th>aotuTrainData.heavy143TonCarCount</th>\n",
              "      <th>aotuTrainData.heavy158TonCarCount</th>\n",
              "      <th>aotuTrainData.over158TonCarCount</th>\n",
              "      <th>aotuTrainData.highWideCarCount</th>\n",
              "      <th>maximumTrainSpeed</th>\n",
              "      <th>loadedCarCount</th>\n",
              "      <th>emptyCarCount</th>\n",
              "      <th>trainLength</th>\n",
              "      <th>trailingTonnage</th>\n",
              "      <th>milepost</th>\n",
              "      <th>locomotiveCount</th>\n",
              "      <th>lastReportedPosition.positionTimeMonth</th>\n",
              "      <th>lastReportedPosition.positionTimeWeek</th>\n",
              "      <th>lastReportedPosition.positionTimeDay</th>\n",
              "      <th>lastReportedPosition.positionTimeDayofweek</th>\n",
              "      <th>lastReportedPosition.positionTimeDayofyear</th>\n",
              "      <th>lastReportedPosition.positionTimeElapsed</th>\n",
              "      <th>nextValue</th>\n",
              "    </tr>\n",
              "  </thead>\n",
              "  <tbody>\n",
              "    <tr>\n",
              "      <th>38</th>\n",
              "      <td>KCS4844</td>\n",
              "      <td>UP</td>\n",
              "      <td></td>\n",
              "      <td>UBTRNJ</td>\n",
              "      <td>2022-04-12</td>\n",
              "      <td>106</td>\n",
              "      <td>S_VIDOR</td>\n",
              "      <td>4.0</td>\n",
              "      <td>18.0</td>\n",
              "      <td>2.0</td>\n",
              "      <td>3.0</td>\n",
              "      <td>0.0</td>\n",
              "      <td>True</td>\n",
              "      <td>U</td>\n",
              "      <td>#na#</td>\n",
              "      <td>2022</td>\n",
              "      <td>False</td>\n",
              "      <td>False</td>\n",
              "      <td>False</td>\n",
              "      <td>False</td>\n",
              "      <td>False</td>\n",
              "      <td>False</td>\n",
              "      <td>0</td>\n",
              "      <td>762.729492</td>\n",
              "      <td>61340000.0</td>\n",
              "      <td>213580.0</td>\n",
              "      <td>4160000.0</td>\n",
              "      <td>8780.0</td>\n",
              "      <td>65535.0</td>\n",
              "      <td>0.0</td>\n",
              "      <td>0.0</td>\n",
              "      <td>0.0</td>\n",
              "      <td>0.0</td>\n",
              "      <td>88.0</td>\n",
              "      <td>999.0</td>\n",
              "      <td>999.0</td>\n",
              "      <td>99999.0</td>\n",
              "      <td>99999.0</td>\n",
              "      <td>762</td>\n",
              "      <td>0</td>\n",
              "      <td>4</td>\n",
              "      <td>15</td>\n",
              "      <td>13</td>\n",
              "      <td>2</td>\n",
              "      <td>103</td>\n",
              "      <td>1.649828e+09</td>\n",
              "      <td>762.734680</td>\n",
              "    </tr>\n",
              "    <tr>\n",
              "      <th>39</th>\n",
              "      <td>KCS4844</td>\n",
              "      <td>UP</td>\n",
              "      <td></td>\n",
              "      <td>UBTRNJ</td>\n",
              "      <td>2022-04-12</td>\n",
              "      <td>106</td>\n",
              "      <td>S_VIDOR</td>\n",
              "      <td>4.0</td>\n",
              "      <td>18.0</td>\n",
              "      <td>2.0</td>\n",
              "      <td>3.0</td>\n",
              "      <td>0.0</td>\n",
              "      <td>True</td>\n",
              "      <td>U</td>\n",
              "      <td>#na#</td>\n",
              "      <td>2022</td>\n",
              "      <td>False</td>\n",
              "      <td>False</td>\n",
              "      <td>False</td>\n",
              "      <td>False</td>\n",
              "      <td>False</td>\n",
              "      <td>False</td>\n",
              "      <td>0</td>\n",
              "      <td>762.733887</td>\n",
              "      <td>61340000.0</td>\n",
              "      <td>213580.0</td>\n",
              "      <td>4160000.0</td>\n",
              "      <td>8780.0</td>\n",
              "      <td>65535.0</td>\n",
              "      <td>0.0</td>\n",
              "      <td>0.0</td>\n",
              "      <td>0.0</td>\n",
              "      <td>0.0</td>\n",
              "      <td>88.0</td>\n",
              "      <td>999.0</td>\n",
              "      <td>999.0</td>\n",
              "      <td>99999.0</td>\n",
              "      <td>99999.0</td>\n",
              "      <td>762</td>\n",
              "      <td>0</td>\n",
              "      <td>4</td>\n",
              "      <td>15</td>\n",
              "      <td>13</td>\n",
              "      <td>2</td>\n",
              "      <td>103</td>\n",
              "      <td>1.649829e+09</td>\n",
              "      <td>762.734680</td>\n",
              "    </tr>\n",
              "    <tr>\n",
              "      <th>40</th>\n",
              "      <td>KCS4844</td>\n",
              "      <td>UP</td>\n",
              "      <td></td>\n",
              "      <td>UBTRNJ</td>\n",
              "      <td>2022-04-12</td>\n",
              "      <td>106</td>\n",
              "      <td>S_VIDOR</td>\n",
              "      <td>4.0</td>\n",
              "      <td>18.0</td>\n",
              "      <td>2.0</td>\n",
              "      <td>3.0</td>\n",
              "      <td>0.0</td>\n",
              "      <td>True</td>\n",
              "      <td>U</td>\n",
              "      <td>#na#</td>\n",
              "      <td>2022</td>\n",
              "      <td>False</td>\n",
              "      <td>False</td>\n",
              "      <td>False</td>\n",
              "      <td>False</td>\n",
              "      <td>False</td>\n",
              "      <td>False</td>\n",
              "      <td>0</td>\n",
              "      <td>762.734497</td>\n",
              "      <td>61340000.0</td>\n",
              "      <td>213580.0</td>\n",
              "      <td>4160000.0</td>\n",
              "      <td>8780.0</td>\n",
              "      <td>65535.0</td>\n",
              "      <td>0.0</td>\n",
              "      <td>0.0</td>\n",
              "      <td>0.0</td>\n",
              "      <td>0.0</td>\n",
              "      <td>88.0</td>\n",
              "      <td>999.0</td>\n",
              "      <td>999.0</td>\n",
              "      <td>99999.0</td>\n",
              "      <td>99999.0</td>\n",
              "      <td>762</td>\n",
              "      <td>0</td>\n",
              "      <td>4</td>\n",
              "      <td>15</td>\n",
              "      <td>13</td>\n",
              "      <td>2</td>\n",
              "      <td>103</td>\n",
              "      <td>1.649830e+09</td>\n",
              "      <td>764.508484</td>\n",
              "    </tr>\n",
              "    <tr>\n",
              "      <th>71</th>\n",
              "      <td>KCS4849</td>\n",
              "      <td>UP</td>\n",
              "      <td></td>\n",
              "      <td>GWARNJ</td>\n",
              "      <td>2022-04-05</td>\n",
              "      <td>106</td>\n",
              "      <td>S_VIDOR</td>\n",
              "      <td>4.0</td>\n",
              "      <td>8.0</td>\n",
              "      <td>2.0</td>\n",
              "      <td>3.0</td>\n",
              "      <td>0.0</td>\n",
              "      <td>True</td>\n",
              "      <td>G</td>\n",
              "      <td>#na#</td>\n",
              "      <td>2022</td>\n",
              "      <td>False</td>\n",
              "      <td>False</td>\n",
              "      <td>False</td>\n",
              "      <td>False</td>\n",
              "      <td>False</td>\n",
              "      <td>False</td>\n",
              "      <td>0</td>\n",
              "      <td>762.732483</td>\n",
              "      <td>267960000.0</td>\n",
              "      <td>658760.0</td>\n",
              "      <td>8360000.0</td>\n",
              "      <td>17560.0</td>\n",
              "      <td>65535.0</td>\n",
              "      <td>0.0</td>\n",
              "      <td>0.0</td>\n",
              "      <td>0.0</td>\n",
              "      <td>0.0</td>\n",
              "      <td>88.0</td>\n",
              "      <td>999.0</td>\n",
              "      <td>999.0</td>\n",
              "      <td>99999.0</td>\n",
              "      <td>99999.0</td>\n",
              "      <td>762</td>\n",
              "      <td>0</td>\n",
              "      <td>4</td>\n",
              "      <td>14</td>\n",
              "      <td>5</td>\n",
              "      <td>1</td>\n",
              "      <td>95</td>\n",
              "      <td>1.649192e+09</td>\n",
              "      <td>762.735596</td>\n",
              "    </tr>\n",
              "    <tr>\n",
              "      <th>72</th>\n",
              "      <td>KCS4849</td>\n",
              "      <td>UP</td>\n",
              "      <td></td>\n",
              "      <td>GWARNJ</td>\n",
              "      <td>2022-04-05</td>\n",
              "      <td>106</td>\n",
              "      <td>S_VIDOR</td>\n",
              "      <td>4.0</td>\n",
              "      <td>8.0</td>\n",
              "      <td>2.0</td>\n",
              "      <td>3.0</td>\n",
              "      <td>0.0</td>\n",
              "      <td>True</td>\n",
              "      <td>G</td>\n",
              "      <td>#na#</td>\n",
              "      <td>2022</td>\n",
              "      <td>False</td>\n",
              "      <td>False</td>\n",
              "      <td>False</td>\n",
              "      <td>False</td>\n",
              "      <td>False</td>\n",
              "      <td>False</td>\n",
              "      <td>0</td>\n",
              "      <td>762.734680</td>\n",
              "      <td>267960000.0</td>\n",
              "      <td>658760.0</td>\n",
              "      <td>8360000.0</td>\n",
              "      <td>17560.0</td>\n",
              "      <td>65535.0</td>\n",
              "      <td>0.0</td>\n",
              "      <td>0.0</td>\n",
              "      <td>0.0</td>\n",
              "      <td>0.0</td>\n",
              "      <td>88.0</td>\n",
              "      <td>999.0</td>\n",
              "      <td>999.0</td>\n",
              "      <td>99999.0</td>\n",
              "      <td>99999.0</td>\n",
              "      <td>762</td>\n",
              "      <td>0</td>\n",
              "      <td>4</td>\n",
              "      <td>14</td>\n",
              "      <td>5</td>\n",
              "      <td>1</td>\n",
              "      <td>95</td>\n",
              "      <td>1.649193e+09</td>\n",
              "      <td>762.735779</td>\n",
              "    </tr>\n",
              "    <tr>\n",
              "      <th>73</th>\n",
              "      <td>KCS4849</td>\n",
              "      <td>UP</td>\n",
              "      <td></td>\n",
              "      <td>GWARNJ</td>\n",
              "      <td>2022-04-05</td>\n",
              "      <td>106</td>\n",
              "      <td>S_VIDOR</td>\n",
              "      <td>4.0</td>\n",
              "      <td>8.0</td>\n",
              "      <td>2.0</td>\n",
              "      <td>3.0</td>\n",
              "      <td>0.0</td>\n",
              "      <td>True</td>\n",
              "      <td>G</td>\n",
              "      <td>#na#</td>\n",
              "      <td>2022</td>\n",
              "      <td>False</td>\n",
              "      <td>False</td>\n",
              "      <td>False</td>\n",
              "      <td>False</td>\n",
              "      <td>False</td>\n",
              "      <td>False</td>\n",
              "      <td>0</td>\n",
              "      <td>762.735779</td>\n",
              "      <td>267960000.0</td>\n",
              "      <td>658760.0</td>\n",
              "      <td>8360000.0</td>\n",
              "      <td>17560.0</td>\n",
              "      <td>65535.0</td>\n",
              "      <td>0.0</td>\n",
              "      <td>0.0</td>\n",
              "      <td>0.0</td>\n",
              "      <td>0.0</td>\n",
              "      <td>88.0</td>\n",
              "      <td>999.0</td>\n",
              "      <td>999.0</td>\n",
              "      <td>99999.0</td>\n",
              "      <td>99999.0</td>\n",
              "      <td>762</td>\n",
              "      <td>0</td>\n",
              "      <td>4</td>\n",
              "      <td>14</td>\n",
              "      <td>5</td>\n",
              "      <td>1</td>\n",
              "      <td>95</td>\n",
              "      <td>1.649194e+09</td>\n",
              "      <td>765.063049</td>\n",
              "    </tr>\n",
              "    <tr>\n",
              "      <th>81</th>\n",
              "      <td>AMTK182</td>\n",
              "      <td>UP</td>\n",
              "      <td></td>\n",
              "      <td>AMT1</td>\n",
              "      <td>2022-04-05</td>\n",
              "      <td>106</td>\n",
              "      <td>TO_S_UP_MAINLINE</td>\n",
              "      <td>1.0</td>\n",
              "      <td>14.0</td>\n",
              "      <td>2.0</td>\n",
              "      <td>3.0</td>\n",
              "      <td>0.0</td>\n",
              "      <td>True</td>\n",
              "      <td>A</td>\n",
              "      <td>#na#</td>\n",
              "      <td>2022</td>\n",
              "      <td>False</td>\n",
              "      <td>False</td>\n",
              "      <td>False</td>\n",
              "      <td>False</td>\n",
              "      <td>False</td>\n",
              "      <td>False</td>\n",
              "      <td>10</td>\n",
              "      <td>764.870605</td>\n",
              "      <td>0.0</td>\n",
              "      <td>0.0</td>\n",
              "      <td>5360000.0</td>\n",
              "      <td>16560.0</td>\n",
              "      <td>65535.0</td>\n",
              "      <td>0.0</td>\n",
              "      <td>0.0</td>\n",
              "      <td>0.0</td>\n",
              "      <td>0.0</td>\n",
              "      <td>88.0</td>\n",
              "      <td>999.0</td>\n",
              "      <td>999.0</td>\n",
              "      <td>99999.0</td>\n",
              "      <td>99999.0</td>\n",
              "      <td>764</td>\n",
              "      <td>0</td>\n",
              "      <td>4</td>\n",
              "      <td>14</td>\n",
              "      <td>6</td>\n",
              "      <td>2</td>\n",
              "      <td>96</td>\n",
              "      <td>1.649287e+09</td>\n",
              "      <td>766.110474</td>\n",
              "    </tr>\n",
              "    <tr>\n",
              "      <th>99</th>\n",
              "      <td>AMTK204</td>\n",
              "      <td>UP</td>\n",
              "      <td></td>\n",
              "      <td>AMT1</td>\n",
              "      <td>2022-05-24</td>\n",
              "      <td>106</td>\n",
              "      <td>TO_S_UP_MAINLINE</td>\n",
              "      <td>1.0</td>\n",
              "      <td>14.0</td>\n",
              "      <td>2.0</td>\n",
              "      <td>3.0</td>\n",
              "      <td>0.0</td>\n",
              "      <td>True</td>\n",
              "      <td>A</td>\n",
              "      <td>#na#</td>\n",
              "      <td>2022</td>\n",
              "      <td>False</td>\n",
              "      <td>False</td>\n",
              "      <td>False</td>\n",
              "      <td>False</td>\n",
              "      <td>False</td>\n",
              "      <td>False</td>\n",
              "      <td>10</td>\n",
              "      <td>764.869080</td>\n",
              "      <td>3280000.0</td>\n",
              "      <td>60960.0</td>\n",
              "      <td>5360000.0</td>\n",
              "      <td>16560.0</td>\n",
              "      <td>65535.0</td>\n",
              "      <td>0.0</td>\n",
              "      <td>0.0</td>\n",
              "      <td>0.0</td>\n",
              "      <td>0.0</td>\n",
              "      <td>88.0</td>\n",
              "      <td>999.0</td>\n",
              "      <td>999.0</td>\n",
              "      <td>99999.0</td>\n",
              "      <td>99999.0</td>\n",
              "      <td>764</td>\n",
              "      <td>0</td>\n",
              "      <td>5</td>\n",
              "      <td>21</td>\n",
              "      <td>25</td>\n",
              "      <td>2</td>\n",
              "      <td>145</td>\n",
              "      <td>1.653514e+09</td>\n",
              "      <td>766.127686</td>\n",
              "    </tr>\n",
              "    <tr>\n",
              "      <th>115</th>\n",
              "      <td>KCS4851</td>\n",
              "      <td>UP</td>\n",
              "      <td></td>\n",
              "      <td>MWARNJ</td>\n",
              "      <td>2022-04-06</td>\n",
              "      <td>106</td>\n",
              "      <td>MAIN</td>\n",
              "      <td>4.0</td>\n",
              "      <td>12.0</td>\n",
              "      <td>2.0</td>\n",
              "      <td>3.0</td>\n",
              "      <td>0.0</td>\n",
              "      <td>True</td>\n",
              "      <td>M</td>\n",
              "      <td>#na#</td>\n",
              "      <td>2022</td>\n",
              "      <td>False</td>\n",
              "      <td>False</td>\n",
              "      <td>False</td>\n",
              "      <td>False</td>\n",
              "      <td>False</td>\n",
              "      <td>False</td>\n",
              "      <td>0</td>\n",
              "      <td>762.734314</td>\n",
              "      <td>181220000.0</td>\n",
              "      <td>1104910.0</td>\n",
              "      <td>8160000.0</td>\n",
              "      <td>17690.0</td>\n",
              "      <td>65535.0</td>\n",
              "      <td>0.0</td>\n",
              "      <td>0.0</td>\n",
              "      <td>0.0</td>\n",
              "      <td>0.0</td>\n",
              "      <td>88.0</td>\n",
              "      <td>999.0</td>\n",
              "      <td>999.0</td>\n",
              "      <td>99999.0</td>\n",
              "      <td>99999.0</td>\n",
              "      <td>762</td>\n",
              "      <td>0</td>\n",
              "      <td>4</td>\n",
              "      <td>14</td>\n",
              "      <td>7</td>\n",
              "      <td>3</td>\n",
              "      <td>97</td>\n",
              "      <td>1.649355e+09</td>\n",
              "      <td>762.816711</td>\n",
              "    </tr>\n",
              "    <tr>\n",
              "      <th>131</th>\n",
              "      <td>KCS4854</td>\n",
              "      <td>UP</td>\n",
              "      <td></td>\n",
              "      <td>GWARNJ</td>\n",
              "      <td>2022-04-04</td>\n",
              "      <td>106</td>\n",
              "      <td>MAIN</td>\n",
              "      <td>4.0</td>\n",
              "      <td>8.0</td>\n",
              "      <td>2.0</td>\n",
              "      <td>3.0</td>\n",
              "      <td>0.0</td>\n",
              "      <td>True</td>\n",
              "      <td>G</td>\n",
              "      <td>#na#</td>\n",
              "      <td>2022</td>\n",
              "      <td>False</td>\n",
              "      <td>False</td>\n",
              "      <td>False</td>\n",
              "      <td>False</td>\n",
              "      <td>False</td>\n",
              "      <td>False</td>\n",
              "      <td>0</td>\n",
              "      <td>762.745605</td>\n",
              "      <td>0.0</td>\n",
              "      <td>0.0</td>\n",
              "      <td>8480000.0</td>\n",
              "      <td>17720.0</td>\n",
              "      <td>65535.0</td>\n",
              "      <td>0.0</td>\n",
              "      <td>0.0</td>\n",
              "      <td>0.0</td>\n",
              "      <td>0.0</td>\n",
              "      <td>88.0</td>\n",
              "      <td>999.0</td>\n",
              "      <td>999.0</td>\n",
              "      <td>99999.0</td>\n",
              "      <td>99999.0</td>\n",
              "      <td>762</td>\n",
              "      <td>0</td>\n",
              "      <td>4</td>\n",
              "      <td>14</td>\n",
              "      <td>4</td>\n",
              "      <td>0</td>\n",
              "      <td>94</td>\n",
              "      <td>1.649073e+09</td>\n",
              "      <td>762.743103</td>\n",
              "    </tr>\n",
              "  </tbody>\n",
              "</table>"
            ]
          },
          "metadata": {}
        }
      ]
    },
    {
      "cell_type": "code",
      "source": [
        "fastai.save_pickle('/tmp/to.pkl',to)"
      ],
      "metadata": {
        "id": "r-D5hdO3-ypC"
      },
      "execution_count": 105,
      "outputs": []
    },
    {
      "cell_type": "markdown",
      "source": [
        "# Creating the Decision Tree"
      ],
      "metadata": {
        "id": "knWgCrX_A0Ep"
      }
    },
    {
      "cell_type": "code",
      "source": [
        "to = fastai.load_pickle('/tmp/to.pkl')"
      ],
      "metadata": {
        "id": "rtc_YDw0ArMR"
      },
      "execution_count": 106,
      "outputs": []
    },
    {
      "cell_type": "code",
      "source": [
        "xs,y = to.train.xs,to.train.y\n",
        "valid_xs,valid_y = to.valid.xs,to.valid.y"
      ],
      "metadata": {
        "id": "CcGx27DMBMbc"
      },
      "execution_count": 107,
      "outputs": []
    },
    {
      "cell_type": "code",
      "source": [
        "m = DecisionTreeRegressor(max_leaf_nodes=16)\n",
        "m.fit(xs, y);"
      ],
      "metadata": {
        "id": "clTcBmpGBXv6"
      },
      "execution_count": 108,
      "outputs": []
    },
    {
      "cell_type": "markdown",
      "source": [
        "Here is a sample of a Decision Tree with just 16 nodes:"
      ],
      "metadata": {
        "id": "YxzzayblKLsa"
      }
    },
    {
      "cell_type": "code",
      "source": [
        "fastai.draw_tree(m, xs, size=16, leaves_parallel=True, precision=2)"
      ],
      "metadata": {
        "id": "nhXNnHk7CSmF",
        "colab": {
          "base_uri": "https://localhost:8080/",
          "height": 945
        },
        "outputId": "abf4c2ef-5f88-4d02-f5f5-06ecde5fa3fc"
      },
      "execution_count": 109,
      "outputs": [
        {
          "output_type": "execute_result",
          "data": {
            "text/plain": [
              "<graphviz.files.Source at 0x7f3abf39c510>"
            ],
            "image/svg+xml": "<?xml version=\"1.0\" encoding=\"UTF-8\" standalone=\"no\"?>\n<!DOCTYPE svg PUBLIC \"-//W3C//DTD SVG 1.1//EN\"\n \"http://www.w3.org/Graphics/SVG/1.1/DTD/svg11.dtd\">\n<!-- Generated by graphviz version 2.40.1 (20161225.0304)\n -->\n<!-- Title: Tree Pages: 1 -->\n<svg width=\"1152pt\" height=\"693pt\"\n viewBox=\"0.00 0.00 1152.00 692.89\" xmlns=\"http://www.w3.org/2000/svg\" xmlns:xlink=\"http://www.w3.org/1999/xlink\">\n<g id=\"graph0\" class=\"graph\" transform=\"scale(.3413 .3413) rotate(0) translate(4 2025.9416)\">\n<title>Tree</title>\n<polygon fill=\"#ffffff\" stroke=\"transparent\" points=\"-4,4 -4,-2025.9416 3371,-2025.9416 3371,4 -4,4\"/>\n<!-- 0 -->\n<g id=\"node1\" class=\"node\">\n<title>0</title>\n<path fill=\"#fae7da\" stroke=\"#000000\" d=\"M2792,-1938C2792,-1938 2325,-1938 2325,-1938 2319,-1938 2313,-1932 2313,-1926 2313,-1926 2313,-1882 2313,-1882 2313,-1876 2319,-1870 2325,-1870 2325,-1870 2792,-1870 2792,-1870 2798,-1870 2804,-1876 2804,-1882 2804,-1882 2804,-1926 2804,-1926 2804,-1932 2798,-1938 2792,-1938\"/>\n<text text-anchor=\"start\" x=\"2321\" y=\"-1922.8\" font-family=\"Helvetica,sans-Serif\" font-size=\"14.00\" fill=\"#000000\">lastReportedPosition.milepostLocation.milepost.milepostNumber ≤ 452.61</text>\n<text text-anchor=\"start\" x=\"2474\" y=\"-1907.8\" font-family=\"Helvetica,sans-Serif\" font-size=\"14.00\" fill=\"#000000\">squared_error = 27601.23</text>\n<text text-anchor=\"start\" x=\"2502.5\" y=\"-1892.8\" font-family=\"Helvetica,sans-Serif\" font-size=\"14.00\" fill=\"#000000\">samples = 20726</text>\n<text text-anchor=\"start\" x=\"2510\" y=\"-1877.8\" font-family=\"Helvetica,sans-Serif\" font-size=\"14.00\" fill=\"#000000\">value = 317.09</text>\n</g>\n<!-- 1 -->\n<g id=\"node2\" class=\"node\">\n<title>1</title>\n<path fill=\"#fdf6f0\" stroke=\"#000000\" d=\"M2284,-1575C2284,-1575 1817,-1575 1817,-1575 1811,-1575 1805,-1569 1805,-1563 1805,-1563 1805,-1519 1805,-1519 1805,-1513 1811,-1507 1817,-1507 1817,-1507 2284,-1507 2284,-1507 2290,-1507 2296,-1513 2296,-1519 2296,-1519 2296,-1563 2296,-1563 2296,-1569 2290,-1575 2284,-1575\"/>\n<text text-anchor=\"start\" x=\"1813\" y=\"-1559.8\" font-family=\"Helvetica,sans-Serif\" font-size=\"14.00\" fill=\"#000000\">lastReportedPosition.milepostLocation.milepost.milepostNumber ≤ 252.77</text>\n<text text-anchor=\"start\" x=\"1970\" y=\"-1544.8\" font-family=\"Helvetica,sans-Serif\" font-size=\"14.00\" fill=\"#000000\">squared_error = 1099.84</text>\n<text text-anchor=\"start\" x=\"1994.5\" y=\"-1529.8\" font-family=\"Helvetica,sans-Serif\" font-size=\"14.00\" fill=\"#000000\">samples = 18149</text>\n<text text-anchor=\"start\" x=\"2002\" y=\"-1514.8\" font-family=\"Helvetica,sans-Serif\" font-size=\"14.00\" fill=\"#000000\">value = 255.67</text>\n</g>\n<!-- 0&#45;&gt;1 -->\n<g id=\"edge1\" class=\"edge\">\n<title>0&#45;&gt;1</title>\n<path fill=\"none\" stroke=\"#000000\" d=\"M2510.7086,-1869.8498C2416.4153,-1802.471 2206.8735,-1652.7393 2106.376,-1580.9271\"/>\n<polygon fill=\"#000000\" stroke=\"#000000\" points=\"2108.335,-1578.0252 2098.1638,-1575.059 2104.2652,-1583.7206 2108.335,-1578.0252\"/>\n<text text-anchor=\"middle\" x=\"2102.2692\" y=\"-1596.0196\" font-family=\"Helvetica,sans-Serif\" font-size=\"14.00\" fill=\"#000000\">True</text>\n</g>\n<!-- 2 -->\n<g id=\"node27\" class=\"node\">\n<title>2</title>\n<path fill=\"#e5833d\" stroke=\"#000000\" d=\"M3081,-1575C3081,-1575 2614,-1575 2614,-1575 2608,-1575 2602,-1569 2602,-1563 2602,-1563 2602,-1519 2602,-1519 2602,-1513 2608,-1507 2614,-1507 2614,-1507 3081,-1507 3081,-1507 3087,-1507 3093,-1513 3093,-1519 3093,-1519 3093,-1563 3093,-1563 3093,-1569 3087,-1575 3081,-1575\"/>\n<text text-anchor=\"start\" x=\"2610\" y=\"-1559.8\" font-family=\"Helvetica,sans-Serif\" font-size=\"14.00\" fill=\"#000000\">lastReportedPosition.milepostLocation.milepost.milepostNumber ≤ 705.79</text>\n<text text-anchor=\"start\" x=\"2771\" y=\"-1544.8\" font-family=\"Helvetica,sans-Serif\" font-size=\"14.00\" fill=\"#000000\">squared_error = 562.01</text>\n<text text-anchor=\"start\" x=\"2795.5\" y=\"-1529.8\" font-family=\"Helvetica,sans-Serif\" font-size=\"14.00\" fill=\"#000000\">samples = 2577</text>\n<text text-anchor=\"start\" x=\"2799\" y=\"-1514.8\" font-family=\"Helvetica,sans-Serif\" font-size=\"14.00\" fill=\"#000000\">value = 749.65</text>\n</g>\n<!-- 0&#45;&gt;2 -->\n<g id=\"edge26\" class=\"edge\">\n<title>0&#45;&gt;2</title>\n<path fill=\"none\" stroke=\"#000000\" d=\"M2585.6884,-1869.8498C2638.7931,-1803.1475 2756.1524,-1655.7377 2813.9716,-1583.1136\"/>\n<polygon fill=\"#000000\" stroke=\"#000000\" points=\"2816.8938,-1585.0624 2820.3842,-1575.059 2811.4174,-1580.7024 2816.8938,-1585.0624\"/>\n<text text-anchor=\"middle\" x=\"2823.2035\" y=\"-1596.1995\" font-family=\"Helvetica,sans-Serif\" font-size=\"14.00\" fill=\"#000000\">False</text>\n</g>\n<!-- 3 -->\n<g id=\"node3\" class=\"node\">\n<title>3</title>\n<path fill=\"#fefaf7\" stroke=\"#000000\" d=\"M680,-1213C680,-1213 535,-1213 535,-1213 529,-1213 523,-1207 523,-1201 523,-1201 523,-1157 523,-1157 523,-1151 529,-1145 535,-1145 535,-1145 680,-1145 680,-1145 686,-1145 692,-1151 692,-1157 692,-1157 692,-1201 692,-1201 692,-1207 686,-1213 680,-1213\"/>\n<text text-anchor=\"start\" x=\"567.5\" y=\"-1197.8\" font-family=\"Helvetica,sans-Serif\" font-size=\"14.00\" fill=\"#000000\">mpIncr ≤ 1.5</text>\n<text text-anchor=\"start\" x=\"531\" y=\"-1182.8\" font-family=\"Helvetica,sans-Serif\" font-size=\"14.00\" fill=\"#000000\">squared_error = 692.22</text>\n<text text-anchor=\"start\" x=\"555.5\" y=\"-1167.8\" font-family=\"Helvetica,sans-Serif\" font-size=\"14.00\" fill=\"#000000\">samples = 8344</text>\n<text text-anchor=\"start\" x=\"559\" y=\"-1152.8\" font-family=\"Helvetica,sans-Serif\" font-size=\"14.00\" fill=\"#000000\">value = 237.62</text>\n</g>\n<!-- 1&#45;&gt;3 -->\n<g id=\"edge2\" class=\"edge\">\n<title>1&#45;&gt;3</title>\n<path fill=\"none\" stroke=\"#000000\" d=\"M1914.7461,-1506.9439C1624.6547,-1434.1698 950.555,-1265.0609 701.8635,-1202.6726\"/>\n<polygon fill=\"#000000\" stroke=\"#000000\" points=\"702.677,-1199.2683 692.1259,-1200.2298 700.9736,-1206.0579 702.677,-1199.2683\"/>\n</g>\n<!-- 4 -->\n<g id=\"node12\" class=\"node\">\n<title>4</title>\n<path fill=\"#fcf2eb\" stroke=\"#000000\" d=\"M2123,-1213C2123,-1213 1978,-1213 1978,-1213 1972,-1213 1966,-1207 1966,-1201 1966,-1201 1966,-1157 1966,-1157 1966,-1151 1972,-1145 1978,-1145 1978,-1145 2123,-1145 2123,-1145 2129,-1145 2135,-1151 2135,-1157 2135,-1157 2135,-1201 2135,-1201 2135,-1207 2129,-1213 2123,-1213\"/>\n<text text-anchor=\"start\" x=\"2010.5\" y=\"-1197.8\" font-family=\"Helvetica,sans-Serif\" font-size=\"14.00\" fill=\"#000000\">mpIncr ≤ 1.5</text>\n<text text-anchor=\"start\" x=\"1974\" y=\"-1182.8\" font-family=\"Helvetica,sans-Serif\" font-size=\"14.00\" fill=\"#000000\">squared_error = 933.67</text>\n<text text-anchor=\"start\" x=\"1998.5\" y=\"-1167.8\" font-family=\"Helvetica,sans-Serif\" font-size=\"14.00\" fill=\"#000000\">samples = 9805</text>\n<text text-anchor=\"start\" x=\"2002\" y=\"-1152.8\" font-family=\"Helvetica,sans-Serif\" font-size=\"14.00\" fill=\"#000000\">value = 271.02</text>\n</g>\n<!-- 1&#45;&gt;4 -->\n<g id=\"edge11\" class=\"edge\">\n<title>1&#45;&gt;4</title>\n<path fill=\"none\" stroke=\"#000000\" d=\"M2050.5,-1506.9439C2050.5,-1441.1838 2050.5,-1296.7637 2050.5,-1223.5039\"/>\n<polygon fill=\"#000000\" stroke=\"#000000\" points=\"2054.0001,-1223.2293 2050.5,-1213.2293 2047.0001,-1223.2293 2054.0001,-1223.2293\"/>\n</g>\n<!-- 9 -->\n<g id=\"node4\" class=\"node\">\n<title>9</title>\n<path fill=\"#ffffff\" stroke=\"#000000\" d=\"M157,-118.5C157,-118.5 12,-118.5 12,-118.5 6,-118.5 0,-112.5 0,-106.5 0,-106.5 0,-77.5 0,-77.5 0,-71.5 6,-65.5 12,-65.5 12,-65.5 157,-65.5 157,-65.5 163,-65.5 169,-71.5 169,-77.5 169,-77.5 169,-106.5 169,-106.5 169,-112.5 163,-118.5 157,-118.5\"/>\n<text text-anchor=\"start\" x=\"8\" y=\"-103.3\" font-family=\"Helvetica,sans-Serif\" font-size=\"14.00\" fill=\"#000000\">squared_error = 118.91</text>\n<text text-anchor=\"start\" x=\"32.5\" y=\"-88.3\" font-family=\"Helvetica,sans-Serif\" font-size=\"14.00\" fill=\"#000000\">samples = 1821</text>\n<text text-anchor=\"start\" x=\"36\" y=\"-73.3\" font-family=\"Helvetica,sans-Serif\" font-size=\"14.00\" fill=\"#000000\">value = 215.53</text>\n</g>\n<!-- 3&#45;&gt;9 -->\n<g id=\"edge3\" class=\"edge\">\n<title>3&#45;&gt;9</title>\n<path fill=\"none\" stroke=\"#000000\" d=\"M582.5066,-1144.7828C480.8098,-1005.5551 103.5,-489 103.5,-489 103.5,-489 90.9662,-227.1099 86.2586,-128.7452\"/>\n<polygon fill=\"#000000\" stroke=\"#000000\" points=\"89.7503,-128.486 85.7761,-118.6647 82.7583,-128.8207 89.7503,-128.486\"/>\n</g>\n<!-- 10 -->\n<g id=\"node5\" class=\"node\">\n<title>10</title>\n<path fill=\"#fef8f5\" stroke=\"#000000\" d=\"M731,-851C731,-851 484,-851 484,-851 478,-851 472,-845 472,-839 472,-839 472,-795 472,-795 472,-789 478,-783 484,-783 484,-783 731,-783 731,-783 737,-783 743,-789 743,-795 743,-795 743,-839 743,-839 743,-845 737,-851 731,-851\"/>\n<text text-anchor=\"start\" x=\"480\" y=\"-835.8\" font-family=\"Helvetica,sans-Serif\" font-size=\"14.00\" fill=\"#000000\">lastReportedPosition.speedMPH ≤ 19.5</text>\n<text text-anchor=\"start\" x=\"531\" y=\"-820.8\" font-family=\"Helvetica,sans-Serif\" font-size=\"14.00\" fill=\"#000000\">squared_error = 678.12</text>\n<text text-anchor=\"start\" x=\"555.5\" y=\"-805.8\" font-family=\"Helvetica,sans-Serif\" font-size=\"14.00\" fill=\"#000000\">samples = 6523</text>\n<text text-anchor=\"start\" x=\"559\" y=\"-790.8\" font-family=\"Helvetica,sans-Serif\" font-size=\"14.00\" fill=\"#000000\">value = 243.78</text>\n</g>\n<!-- 3&#45;&gt;10 -->\n<g id=\"edge4\" class=\"edge\">\n<title>3&#45;&gt;10</title>\n<path fill=\"none\" stroke=\"#000000\" d=\"M607.5,-1144.9439C607.5,-1079.1838 607.5,-934.7637 607.5,-861.5039\"/>\n<polygon fill=\"#000000\" stroke=\"#000000\" points=\"611.0001,-861.2293 607.5,-851.2293 604.0001,-861.2293 611.0001,-861.2293\"/>\n</g>\n<!-- 11 -->\n<g id=\"node6\" class=\"node\">\n<title>11</title>\n<path fill=\"#fefcfa\" stroke=\"#000000\" d=\"M584,-489C584,-489 125,-489 125,-489 119,-489 113,-483 113,-477 113,-477 113,-433 113,-433 113,-427 119,-421 125,-421 125,-421 584,-421 584,-421 590,-421 596,-427 596,-433 596,-433 596,-477 596,-477 596,-483 590,-489 584,-489\"/>\n<text text-anchor=\"start\" x=\"121\" y=\"-473.8\" font-family=\"Helvetica,sans-Serif\" font-size=\"14.00\" fill=\"#000000\">lastReportedPosition.milepostLocation.milepost.milepostNumber ≤ 230.6</text>\n<text text-anchor=\"start\" x=\"278\" y=\"-458.8\" font-family=\"Helvetica,sans-Serif\" font-size=\"14.00\" fill=\"#000000\">squared_error = 366.37</text>\n<text text-anchor=\"start\" x=\"302.5\" y=\"-443.8\" font-family=\"Helvetica,sans-Serif\" font-size=\"14.00\" fill=\"#000000\">samples = 3625</text>\n<text text-anchor=\"start\" x=\"306\" y=\"-428.8\" font-family=\"Helvetica,sans-Serif\" font-size=\"14.00\" fill=\"#000000\">value = 228.07</text>\n</g>\n<!-- 10&#45;&gt;11 -->\n<g id=\"edge5\" class=\"edge\">\n<title>10&#45;&gt;11</title>\n<path fill=\"none\" stroke=\"#000000\" d=\"M583.6984,-782.9439C537.3622,-716.6448 435.1461,-570.3909 384.3546,-497.7169\"/>\n<polygon fill=\"#000000\" stroke=\"#000000\" points=\"387.0201,-495.4209 378.4227,-489.2293 381.2825,-499.4309 387.0201,-495.4209\"/>\n</g>\n<!-- 12 -->\n<g id=\"node9\" class=\"node\">\n<title>12</title>\n<path fill=\"#fdf4ee\" stroke=\"#000000\" d=\"M1093,-489C1093,-489 626,-489 626,-489 620,-489 614,-483 614,-477 614,-477 614,-433 614,-433 614,-427 620,-421 626,-421 626,-421 1093,-421 1093,-421 1099,-421 1105,-427 1105,-433 1105,-433 1105,-477 1105,-477 1105,-483 1099,-489 1093,-489\"/>\n<text text-anchor=\"start\" x=\"622\" y=\"-473.8\" font-family=\"Helvetica,sans-Serif\" font-size=\"14.00\" fill=\"#000000\">lastReportedPosition.milepostLocation.milepost.milepostNumber ≤ 228.38</text>\n<text text-anchor=\"start\" x=\"783\" y=\"-458.8\" font-family=\"Helvetica,sans-Serif\" font-size=\"14.00\" fill=\"#000000\">squared_error = 372.92</text>\n<text text-anchor=\"start\" x=\"807.5\" y=\"-443.8\" font-family=\"Helvetica,sans-Serif\" font-size=\"14.00\" fill=\"#000000\">samples = 2898</text>\n<text text-anchor=\"start\" x=\"811\" y=\"-428.8\" font-family=\"Helvetica,sans-Serif\" font-size=\"14.00\" fill=\"#000000\">value = 263.44</text>\n</g>\n<!-- 10&#45;&gt;12 -->\n<g id=\"edge8\" class=\"edge\">\n<title>10&#45;&gt;12</title>\n<path fill=\"none\" stroke=\"#000000\" d=\"M631.2075,-782.9439C677.3605,-716.6448 779.1727,-570.3909 829.7634,-497.7169\"/>\n<polygon fill=\"#000000\" stroke=\"#000000\" points=\"832.8311,-499.4362 835.6719,-489.2293 827.086,-495.4368 832.8311,-499.4362\"/>\n</g>\n<!-- 21 -->\n<g id=\"node7\" class=\"node\">\n<title>21</title>\n<path fill=\"#fffefd\" stroke=\"#000000\" d=\"M392,-118.5C392,-118.5 247,-118.5 247,-118.5 241,-118.5 235,-112.5 235,-106.5 235,-106.5 235,-77.5 235,-77.5 235,-71.5 241,-65.5 247,-65.5 247,-65.5 392,-65.5 392,-65.5 398,-65.5 404,-71.5 404,-77.5 404,-77.5 404,-106.5 404,-106.5 404,-112.5 398,-118.5 392,-118.5\"/>\n<text text-anchor=\"start\" x=\"243\" y=\"-103.3\" font-family=\"Helvetica,sans-Serif\" font-size=\"14.00\" fill=\"#000000\">squared_error = 235.29</text>\n<text text-anchor=\"start\" x=\"267.5\" y=\"-88.3\" font-family=\"Helvetica,sans-Serif\" font-size=\"14.00\" fill=\"#000000\">samples = 2378</text>\n<text text-anchor=\"start\" x=\"271\" y=\"-73.3\" font-family=\"Helvetica,sans-Serif\" font-size=\"14.00\" fill=\"#000000\">value = 221.72</text>\n</g>\n<!-- 11&#45;&gt;21 -->\n<g id=\"edge6\" class=\"edge\">\n<title>11&#45;&gt;21</title>\n<path fill=\"none\" stroke=\"#000000\" d=\"M351.2073,-420.8498C344.6195,-352.5251 329.8669,-199.5191 323.0626,-128.9493\"/>\n<polygon fill=\"#000000\" stroke=\"#000000\" points=\"326.5234,-128.3735 322.0797,-118.7556 319.5557,-129.0453 326.5234,-128.3735\"/>\n</g>\n<!-- 22 -->\n<g id=\"node8\" class=\"node\">\n<title>22</title>\n<path fill=\"#fef9f6\" stroke=\"#000000\" d=\"M579,-118.5C579,-118.5 434,-118.5 434,-118.5 428,-118.5 422,-112.5 422,-106.5 422,-106.5 422,-77.5 422,-77.5 422,-71.5 428,-65.5 434,-65.5 434,-65.5 579,-65.5 579,-65.5 585,-65.5 591,-71.5 591,-77.5 591,-77.5 591,-106.5 591,-106.5 591,-112.5 585,-118.5 579,-118.5\"/>\n<text text-anchor=\"start\" x=\"430\" y=\"-103.3\" font-family=\"Helvetica,sans-Serif\" font-size=\"14.00\" fill=\"#000000\">squared_error = 392.87</text>\n<text text-anchor=\"start\" x=\"454.5\" y=\"-88.3\" font-family=\"Helvetica,sans-Serif\" font-size=\"14.00\" fill=\"#000000\">samples = 1247</text>\n<text text-anchor=\"start\" x=\"458\" y=\"-73.3\" font-family=\"Helvetica,sans-Serif\" font-size=\"14.00\" fill=\"#000000\">value = 240.18</text>\n</g>\n<!-- 11&#45;&gt;22 -->\n<g id=\"edge7\" class=\"edge\">\n<title>11&#45;&gt;22</title>\n<path fill=\"none\" stroke=\"#000000\" d=\"M368.7998,-420.8498C397.5271,-352.2445 462.005,-198.261 491.3904,-128.084\"/>\n<polygon fill=\"#000000\" stroke=\"#000000\" points=\"494.6625,-129.3314 495.2966,-118.7556 488.2057,-126.6277 494.6625,-129.3314\"/>\n</g>\n<!-- 17 -->\n<g id=\"node10\" class=\"node\">\n<title>17</title>\n<path fill=\"#fdf7f2\" stroke=\"#000000\" d=\"M779,-118.5C779,-118.5 634,-118.5 634,-118.5 628,-118.5 622,-112.5 622,-106.5 622,-106.5 622,-77.5 622,-77.5 622,-71.5 628,-65.5 634,-65.5 634,-65.5 779,-65.5 779,-65.5 785,-65.5 791,-71.5 791,-77.5 791,-77.5 791,-106.5 791,-106.5 791,-112.5 785,-118.5 779,-118.5\"/>\n<text text-anchor=\"start\" x=\"630\" y=\"-103.3\" font-family=\"Helvetica,sans-Serif\" font-size=\"14.00\" fill=\"#000000\">squared_error = 189.11</text>\n<text text-anchor=\"start\" x=\"654.5\" y=\"-88.3\" font-family=\"Helvetica,sans-Serif\" font-size=\"14.00\" fill=\"#000000\">samples = 1405</text>\n<text text-anchor=\"start\" x=\"658\" y=\"-73.3\" font-family=\"Helvetica,sans-Serif\" font-size=\"14.00\" fill=\"#000000\">value = 250.32</text>\n</g>\n<!-- 12&#45;&gt;17 -->\n<g id=\"edge9\" class=\"edge\">\n<title>12&#45;&gt;17</title>\n<path fill=\"none\" stroke=\"#000000\" d=\"M845.1061,-420.8498C816.1898,-352.2445 751.2877,-198.261 721.709,-128.084\"/>\n<polygon fill=\"#000000\" stroke=\"#000000\" points=\"724.8864,-126.6111 717.7771,-118.7556 718.4359,-129.3299 724.8864,-126.6111\"/>\n</g>\n<!-- 18 -->\n<g id=\"node11\" class=\"node\">\n<title>18</title>\n<path fill=\"#fcf1e9\" stroke=\"#000000\" d=\"M966,-118.5C966,-118.5 821,-118.5 821,-118.5 815,-118.5 809,-112.5 809,-106.5 809,-106.5 809,-77.5 809,-77.5 809,-71.5 815,-65.5 821,-65.5 821,-65.5 966,-65.5 966,-65.5 972,-65.5 978,-71.5 978,-77.5 978,-77.5 978,-106.5 978,-106.5 978,-112.5 972,-118.5 966,-118.5\"/>\n<text text-anchor=\"start\" x=\"817\" y=\"-103.3\" font-family=\"Helvetica,sans-Serif\" font-size=\"14.00\" fill=\"#000000\">squared_error = 231.75</text>\n<text text-anchor=\"start\" x=\"841.5\" y=\"-88.3\" font-family=\"Helvetica,sans-Serif\" font-size=\"14.00\" fill=\"#000000\">samples = 1493</text>\n<text text-anchor=\"start\" x=\"845\" y=\"-73.3\" font-family=\"Helvetica,sans-Serif\" font-size=\"14.00\" fill=\"#000000\">value = 275.78</text>\n</g>\n<!-- 12&#45;&gt;18 -->\n<g id=\"edge10\" class=\"edge\">\n<title>12&#45;&gt;18</title>\n<path fill=\"none\" stroke=\"#000000\" d=\"M862.6986,-420.8498C869.0982,-352.5251 883.4293,-199.5191 890.0392,-128.9493\"/>\n<polygon fill=\"#000000\" stroke=\"#000000\" points=\"893.5461,-129.0384 890.994,-118.7556 886.5766,-128.3856 893.5461,-129.0384\"/>\n</g>\n<!-- 5 -->\n<g id=\"node13\" class=\"node\">\n<title>5</title>\n<path fill=\"#fdf6f0\" stroke=\"#000000\" d=\"M2087,-851C2087,-851 1620,-851 1620,-851 1614,-851 1608,-845 1608,-839 1608,-839 1608,-795 1608,-795 1608,-789 1614,-783 1620,-783 1620,-783 2087,-783 2087,-783 2093,-783 2099,-789 2099,-795 2099,-795 2099,-839 2099,-839 2099,-845 2093,-851 2087,-851\"/>\n<text text-anchor=\"start\" x=\"1616\" y=\"-835.8\" font-family=\"Helvetica,sans-Serif\" font-size=\"14.00\" fill=\"#000000\">lastReportedPosition.milepostLocation.milepost.milepostNumber ≤ 288.69</text>\n<text text-anchor=\"start\" x=\"1777\" y=\"-820.8\" font-family=\"Helvetica,sans-Serif\" font-size=\"14.00\" fill=\"#000000\">squared_error = 516.77</text>\n<text text-anchor=\"start\" x=\"1801.5\" y=\"-805.8\" font-family=\"Helvetica,sans-Serif\" font-size=\"14.00\" fill=\"#000000\">samples = 6079</text>\n<text text-anchor=\"start\" x=\"1805\" y=\"-790.8\" font-family=\"Helvetica,sans-Serif\" font-size=\"14.00\" fill=\"#000000\">value = 256.17</text>\n</g>\n<!-- 4&#45;&gt;5 -->\n<g id=\"edge12\" class=\"edge\">\n<title>4&#45;&gt;5</title>\n<path fill=\"none\" stroke=\"#000000\" d=\"M2031.9667,-1144.9439C1995.9601,-1078.7795 1916.6189,-932.9851 1876.9881,-860.1609\"/>\n<polygon fill=\"#000000\" stroke=\"#000000\" points=\"1879.9819,-858.3399 1872.1275,-851.2293 1873.8334,-861.6859 1879.9819,-858.3399\"/>\n</g>\n<!-- 6 -->\n<g id=\"node20\" class=\"node\">\n<title>6</title>\n<path fill=\"#fbede2\" stroke=\"#000000\" d=\"M2368,-851C2368,-851 2129,-851 2129,-851 2123,-851 2117,-845 2117,-839 2117,-839 2117,-795 2117,-795 2117,-789 2123,-783 2129,-783 2129,-783 2368,-783 2368,-783 2374,-783 2380,-789 2380,-795 2380,-795 2380,-839 2380,-839 2380,-845 2374,-851 2368,-851\"/>\n<text text-anchor=\"start\" x=\"2125\" y=\"-835.8\" font-family=\"Helvetica,sans-Serif\" font-size=\"14.00\" fill=\"#000000\">lastReportedPosition.speedMPH ≤ 9.5</text>\n<text text-anchor=\"start\" x=\"2172\" y=\"-820.8\" font-family=\"Helvetica,sans-Serif\" font-size=\"14.00\" fill=\"#000000\">squared_error = 666.95</text>\n<text text-anchor=\"start\" x=\"2196.5\" y=\"-805.8\" font-family=\"Helvetica,sans-Serif\" font-size=\"14.00\" fill=\"#000000\">samples = 3726</text>\n<text text-anchor=\"start\" x=\"2200\" y=\"-790.8\" font-family=\"Helvetica,sans-Serif\" font-size=\"14.00\" fill=\"#000000\">value = 295.25</text>\n</g>\n<!-- 4&#45;&gt;6 -->\n<g id=\"edge19\" class=\"edge\">\n<title>4&#45;&gt;6</title>\n<path fill=\"none\" stroke=\"#000000\" d=\"M2069.1274,-1144.9439C2105.3167,-1078.7795 2185.0607,-932.9851 2224.8926,-860.1609\"/>\n<polygon fill=\"#000000\" stroke=\"#000000\" points=\"2228.0498,-861.6823 2229.7779,-851.2293 2221.9084,-858.3231 2228.0498,-861.6823\"/>\n</g>\n<!-- 7 -->\n<g id=\"node14\" class=\"node\">\n<title>7</title>\n<path fill=\"#fefaf7\" stroke=\"#000000\" d=\"M1602,-489C1602,-489 1135,-489 1135,-489 1129,-489 1123,-483 1123,-477 1123,-477 1123,-433 1123,-433 1123,-427 1129,-421 1135,-421 1135,-421 1602,-421 1602,-421 1608,-421 1614,-427 1614,-433 1614,-433 1614,-477 1614,-477 1614,-483 1608,-489 1602,-489\"/>\n<text text-anchor=\"start\" x=\"1131\" y=\"-473.8\" font-family=\"Helvetica,sans-Serif\" font-size=\"14.00\" fill=\"#000000\">lastReportedPosition.milepostLocation.milepost.milepostNumber ≤ 268.97</text>\n<text text-anchor=\"start\" x=\"1292\" y=\"-458.8\" font-family=\"Helvetica,sans-Serif\" font-size=\"14.00\" fill=\"#000000\">squared_error = 211.25</text>\n<text text-anchor=\"start\" x=\"1316.5\" y=\"-443.8\" font-family=\"Helvetica,sans-Serif\" font-size=\"14.00\" fill=\"#000000\">samples = 2901</text>\n<text text-anchor=\"start\" x=\"1320\" y=\"-428.8\" font-family=\"Helvetica,sans-Serif\" font-size=\"14.00\" fill=\"#000000\">value = 238.03</text>\n</g>\n<!-- 5&#45;&gt;7 -->\n<g id=\"edge13\" class=\"edge\">\n<title>5&#45;&gt;7</title>\n<path fill=\"none\" stroke=\"#000000\" d=\"M1807.8724,-782.9439C1718.0532,-715.9036 1518.7039,-567.111 1422.5031,-495.3075\"/>\n<polygon fill=\"#000000\" stroke=\"#000000\" points=\"1424.4671,-492.406 1414.3597,-489.2293 1420.28,-498.0157 1424.4671,-492.406\"/>\n</g>\n<!-- 8 -->\n<g id=\"node17\" class=\"node\">\n<title>8</title>\n<path fill=\"#fcf2ea\" stroke=\"#000000\" d=\"M2111,-489C2111,-489 1644,-489 1644,-489 1638,-489 1632,-483 1632,-477 1632,-477 1632,-433 1632,-433 1632,-427 1638,-421 1644,-421 1644,-421 2111,-421 2111,-421 2117,-421 2123,-427 2123,-433 2123,-433 2123,-477 2123,-477 2123,-483 2117,-489 2111,-489\"/>\n<text text-anchor=\"start\" x=\"1640\" y=\"-473.8\" font-family=\"Helvetica,sans-Serif\" font-size=\"14.00\" fill=\"#000000\">lastReportedPosition.milepostLocation.milepost.milepostNumber ≤ 315.51</text>\n<text text-anchor=\"start\" x=\"1801\" y=\"-458.8\" font-family=\"Helvetica,sans-Serif\" font-size=\"14.00\" fill=\"#000000\">squared_error = 220.93</text>\n<text text-anchor=\"start\" x=\"1825.5\" y=\"-443.8\" font-family=\"Helvetica,sans-Serif\" font-size=\"14.00\" fill=\"#000000\">samples = 3178</text>\n<text text-anchor=\"start\" x=\"1829\" y=\"-428.8\" font-family=\"Helvetica,sans-Serif\" font-size=\"14.00\" fill=\"#000000\">value = 272.73</text>\n</g>\n<!-- 5&#45;&gt;8 -->\n<g id=\"edge16\" class=\"edge\">\n<title>5&#45;&gt;8</title>\n<path fill=\"none\" stroke=\"#000000\" d=\"M1855.7579,-782.9439C1860.1176,-717.1838 1869.6925,-572.7637 1874.5495,-499.5039\"/>\n<polygon fill=\"#000000\" stroke=\"#000000\" points=\"1878.0614,-499.439 1875.2307,-489.2293 1871.0767,-498.9758 1878.0614,-499.439\"/>\n</g>\n<!-- 27 -->\n<g id=\"node15\" class=\"node\">\n<title>27</title>\n<path fill=\"#fefcfa\" stroke=\"#000000\" d=\"M1321,-118.5C1321,-118.5 1176,-118.5 1176,-118.5 1170,-118.5 1164,-112.5 1164,-106.5 1164,-106.5 1164,-77.5 1164,-77.5 1164,-71.5 1170,-65.5 1176,-65.5 1176,-65.5 1321,-65.5 1321,-65.5 1327,-65.5 1333,-71.5 1333,-77.5 1333,-77.5 1333,-106.5 1333,-106.5 1333,-112.5 1327,-118.5 1321,-118.5\"/>\n<text text-anchor=\"start\" x=\"1172\" y=\"-103.3\" font-family=\"Helvetica,sans-Serif\" font-size=\"14.00\" fill=\"#000000\">squared_error = 172.56</text>\n<text text-anchor=\"start\" x=\"1196.5\" y=\"-88.3\" font-family=\"Helvetica,sans-Serif\" font-size=\"14.00\" fill=\"#000000\">samples = 1299</text>\n<text text-anchor=\"start\" x=\"1200\" y=\"-73.3\" font-family=\"Helvetica,sans-Serif\" font-size=\"14.00\" fill=\"#000000\">value = 229.67</text>\n</g>\n<!-- 7&#45;&gt;27 -->\n<g id=\"edge14\" class=\"edge\">\n<title>7&#45;&gt;27</title>\n<path fill=\"none\" stroke=\"#000000\" d=\"M1357.2107,-420.8498C1334.5776,-352.3848 1283.8357,-198.8904 1260.5713,-128.5156\"/>\n<polygon fill=\"#000000\" stroke=\"#000000\" points=\"1263.8067,-127.1516 1257.3448,-118.7556 1257.1605,-129.3488 1263.8067,-127.1516\"/>\n</g>\n<!-- 28 -->\n<g id=\"node16\" class=\"node\">\n<title>28</title>\n<path fill=\"#fef8f4\" stroke=\"#000000\" d=\"M1508,-118.5C1508,-118.5 1363,-118.5 1363,-118.5 1357,-118.5 1351,-112.5 1351,-106.5 1351,-106.5 1351,-77.5 1351,-77.5 1351,-71.5 1357,-65.5 1363,-65.5 1363,-65.5 1508,-65.5 1508,-65.5 1514,-65.5 1520,-71.5 1520,-77.5 1520,-77.5 1520,-106.5 1520,-106.5 1520,-112.5 1514,-118.5 1508,-118.5\"/>\n<text text-anchor=\"start\" x=\"1359\" y=\"-103.3\" font-family=\"Helvetica,sans-Serif\" font-size=\"14.00\" fill=\"#000000\">squared_error = 140.01</text>\n<text text-anchor=\"start\" x=\"1383.5\" y=\"-88.3\" font-family=\"Helvetica,sans-Serif\" font-size=\"14.00\" fill=\"#000000\">samples = 1602</text>\n<text text-anchor=\"start\" x=\"1387\" y=\"-73.3\" font-family=\"Helvetica,sans-Serif\" font-size=\"14.00\" fill=\"#000000\">value = 244.81</text>\n</g>\n<!-- 7&#45;&gt;28 -->\n<g id=\"edge15\" class=\"edge\">\n<title>7&#45;&gt;28</title>\n<path fill=\"none\" stroke=\"#000000\" d=\"M1374.8032,-420.8498C1387.4141,-352.5251 1415.6549,-199.5191 1428.6802,-128.9493\"/>\n<polygon fill=\"#000000\" stroke=\"#000000\" points=\"1432.1884,-129.2248 1430.5616,-118.7556 1425.3046,-127.9542 1432.1884,-129.2248\"/>\n</g>\n<!-- 23 -->\n<g id=\"node18\" class=\"node\">\n<title>23</title>\n<path fill=\"#fdf3ed\" stroke=\"#000000\" d=\"M1768,-118.5C1768,-118.5 1623,-118.5 1623,-118.5 1617,-118.5 1611,-112.5 1611,-106.5 1611,-106.5 1611,-77.5 1611,-77.5 1611,-71.5 1617,-65.5 1623,-65.5 1623,-65.5 1768,-65.5 1768,-65.5 1774,-65.5 1780,-71.5 1780,-77.5 1780,-77.5 1780,-106.5 1780,-106.5 1780,-112.5 1774,-118.5 1768,-118.5\"/>\n<text text-anchor=\"start\" x=\"1619\" y=\"-103.3\" font-family=\"Helvetica,sans-Serif\" font-size=\"14.00\" fill=\"#000000\">squared_error = 154.72</text>\n<text text-anchor=\"start\" x=\"1643.5\" y=\"-88.3\" font-family=\"Helvetica,sans-Serif\" font-size=\"14.00\" fill=\"#000000\">samples = 1951</text>\n<text text-anchor=\"start\" x=\"1647\" y=\"-73.3\" font-family=\"Helvetica,sans-Serif\" font-size=\"14.00\" fill=\"#000000\">value = 265.59</text>\n</g>\n<!-- 8&#45;&gt;23 -->\n<g id=\"edge17\" class=\"edge\">\n<title>8&#45;&gt;23</title>\n<path fill=\"none\" stroke=\"#000000\" d=\"M1860.3779,-420.8498C1825.9807,-352.2445 1748.7769,-198.261 1713.5917,-128.084\"/>\n<polygon fill=\"#000000\" stroke=\"#000000\" points=\"1716.5254,-126.1262 1708.9146,-118.7556 1710.2679,-129.2636 1716.5254,-126.1262\"/>\n</g>\n<!-- 24 -->\n<g id=\"node19\" class=\"node\">\n<title>24</title>\n<path fill=\"#fcefe6\" stroke=\"#000000\" d=\"M1955,-118.5C1955,-118.5 1810,-118.5 1810,-118.5 1804,-118.5 1798,-112.5 1798,-106.5 1798,-106.5 1798,-77.5 1798,-77.5 1798,-71.5 1804,-65.5 1810,-65.5 1810,-65.5 1955,-65.5 1955,-65.5 1961,-65.5 1967,-71.5 1967,-77.5 1967,-77.5 1967,-106.5 1967,-106.5 1967,-112.5 1961,-118.5 1955,-118.5\"/>\n<text text-anchor=\"start\" x=\"1806\" y=\"-103.3\" font-family=\"Helvetica,sans-Serif\" font-size=\"14.00\" fill=\"#000000\">squared_error = 115.91</text>\n<text text-anchor=\"start\" x=\"1830.5\" y=\"-88.3\" font-family=\"Helvetica,sans-Serif\" font-size=\"14.00\" fill=\"#000000\">samples = 1227</text>\n<text text-anchor=\"start\" x=\"1838.5\" y=\"-73.3\" font-family=\"Helvetica,sans-Serif\" font-size=\"14.00\" fill=\"#000000\">value = 284.1</text>\n</g>\n<!-- 8&#45;&gt;24 -->\n<g id=\"edge18\" class=\"edge\">\n<title>8&#45;&gt;24</title>\n<path fill=\"none\" stroke=\"#000000\" d=\"M1877.9704,-420.8498C1878.9115,-352.5251 1881.019,-199.5191 1881.9911,-128.9493\"/>\n<polygon fill=\"#000000\" stroke=\"#000000\" points=\"1885.4933,-128.8028 1882.1315,-118.7556 1878.494,-128.7064 1885.4933,-128.8028\"/>\n</g>\n<!-- 15 -->\n<g id=\"node21\" class=\"node\">\n<title>15</title>\n<path fill=\"#fcf0e8\" stroke=\"#000000\" d=\"M2298,-489C2298,-489 2153,-489 2153,-489 2147,-489 2141,-483 2141,-477 2141,-477 2141,-433 2141,-433 2141,-427 2147,-421 2153,-421 2153,-421 2298,-421 2298,-421 2304,-421 2310,-427 2310,-433 2310,-433 2310,-477 2310,-477 2310,-483 2304,-489 2298,-489\"/>\n<text text-anchor=\"start\" x=\"2172.5\" y=\"-473.8\" font-family=\"Helvetica,sans-Serif\" font-size=\"14.00\" fill=\"#000000\">milepost ≤ 301.5</text>\n<text text-anchor=\"start\" x=\"2149\" y=\"-458.8\" font-family=\"Helvetica,sans-Serif\" font-size=\"14.00\" fill=\"#000000\">squared_error = 727.83</text>\n<text text-anchor=\"start\" x=\"2173.5\" y=\"-443.8\" font-family=\"Helvetica,sans-Serif\" font-size=\"14.00\" fill=\"#000000\">samples = 1727</text>\n<text text-anchor=\"start\" x=\"2177\" y=\"-428.8\" font-family=\"Helvetica,sans-Serif\" font-size=\"14.00\" fill=\"#000000\">value = 279.79</text>\n</g>\n<!-- 6&#45;&gt;15 -->\n<g id=\"edge20\" class=\"edge\">\n<title>6&#45;&gt;15</title>\n<path fill=\"none\" stroke=\"#000000\" d=\"M2246.3362,-782.9439C2242.1581,-717.1838 2232.9822,-572.7637 2228.3276,-499.5039\"/>\n<polygon fill=\"#000000\" stroke=\"#000000\" points=\"2231.8019,-498.9872 2227.6748,-489.2293 2224.816,-499.4311 2231.8019,-498.9872\"/>\n</g>\n<!-- 16 -->\n<g id=\"node24\" class=\"node\">\n<title>16</title>\n<path fill=\"#fbe9dd\" stroke=\"#000000\" d=\"M2807,-489C2807,-489 2340,-489 2340,-489 2334,-489 2328,-483 2328,-477 2328,-477 2328,-433 2328,-433 2328,-427 2334,-421 2340,-421 2340,-421 2807,-421 2807,-421 2813,-421 2819,-427 2819,-433 2819,-433 2819,-477 2819,-477 2819,-483 2813,-489 2807,-489\"/>\n<text text-anchor=\"start\" x=\"2336\" y=\"-473.8\" font-family=\"Helvetica,sans-Serif\" font-size=\"14.00\" fill=\"#000000\">lastReportedPosition.milepostLocation.milepost.milepostNumber ≤ 261.43</text>\n<text text-anchor=\"start\" x=\"2497\" y=\"-458.8\" font-family=\"Helvetica,sans-Serif\" font-size=\"14.00\" fill=\"#000000\">squared_error = 229.07</text>\n<text text-anchor=\"start\" x=\"2521.5\" y=\"-443.8\" font-family=\"Helvetica,sans-Serif\" font-size=\"14.00\" fill=\"#000000\">samples = 1999</text>\n<text text-anchor=\"start\" x=\"2525\" y=\"-428.8\" font-family=\"Helvetica,sans-Serif\" font-size=\"14.00\" fill=\"#000000\">value = 308.62</text>\n</g>\n<!-- 6&#45;&gt;16 -->\n<g id=\"edge23\" class=\"edge\">\n<title>6&#45;&gt;16</title>\n<path fill=\"none\" stroke=\"#000000\" d=\"M2279.0752,-782.9439C2338.8399,-716.3753 2470.9719,-569.2005 2535.9416,-496.8343\"/>\n<polygon fill=\"#000000\" stroke=\"#000000\" points=\"2538.6931,-499.0086 2542.7693,-489.2293 2533.4843,-494.3322 2538.6931,-499.0086\"/>\n</g>\n<!-- 19 -->\n<g id=\"node22\" class=\"node\">\n<title>19</title>\n<path fill=\"#fcf2eb\" stroke=\"#000000\" d=\"M2139,-118.5C2139,-118.5 2002,-118.5 2002,-118.5 1996,-118.5 1990,-112.5 1990,-106.5 1990,-106.5 1990,-77.5 1990,-77.5 1990,-71.5 1996,-65.5 2002,-65.5 2002,-65.5 2139,-65.5 2139,-65.5 2145,-65.5 2151,-71.5 2151,-77.5 2151,-77.5 2151,-106.5 2151,-106.5 2151,-112.5 2145,-118.5 2139,-118.5\"/>\n<text text-anchor=\"start\" x=\"1998\" y=\"-103.3\" font-family=\"Helvetica,sans-Serif\" font-size=\"14.00\" fill=\"#000000\">squared_error = 532.4</text>\n<text text-anchor=\"start\" x=\"2018.5\" y=\"-88.3\" font-family=\"Helvetica,sans-Serif\" font-size=\"14.00\" fill=\"#000000\">samples = 1316</text>\n<text text-anchor=\"start\" x=\"2022\" y=\"-73.3\" font-family=\"Helvetica,sans-Serif\" font-size=\"14.00\" fill=\"#000000\">value = 270.79</text>\n</g>\n<!-- 15&#45;&gt;19 -->\n<g id=\"edge21\" class=\"edge\">\n<title>15&#45;&gt;19</title>\n<path fill=\"none\" stroke=\"#000000\" d=\"M2210.918,-420.8498C2181.6237,-352.2445 2115.8731,-198.261 2085.9078,-128.084\"/>\n<polygon fill=\"#000000\" stroke=\"#000000\" points=\"2089.0704,-126.5778 2081.9245,-118.7556 2082.6327,-129.3267 2089.0704,-126.5778\"/>\n</g>\n<!-- 20 -->\n<g id=\"node23\" class=\"node\">\n<title>20</title>\n<path fill=\"#fbe9dd\" stroke=\"#000000\" d=\"M2326,-118.5C2326,-118.5 2181,-118.5 2181,-118.5 2175,-118.5 2169,-112.5 2169,-106.5 2169,-106.5 2169,-77.5 2169,-77.5 2169,-71.5 2175,-65.5 2181,-65.5 2181,-65.5 2326,-65.5 2326,-65.5 2332,-65.5 2338,-71.5 2338,-77.5 2338,-77.5 2338,-106.5 2338,-106.5 2338,-112.5 2332,-118.5 2326,-118.5\"/>\n<text text-anchor=\"start\" x=\"2177\" y=\"-103.3\" font-family=\"Helvetica,sans-Serif\" font-size=\"14.00\" fill=\"#000000\">squared_error = 265.87</text>\n<text text-anchor=\"start\" x=\"2205.5\" y=\"-88.3\" font-family=\"Helvetica,sans-Serif\" font-size=\"14.00\" fill=\"#000000\">samples = 411</text>\n<text text-anchor=\"start\" x=\"2205\" y=\"-73.3\" font-family=\"Helvetica,sans-Serif\" font-size=\"14.00\" fill=\"#000000\">value = 308.58</text>\n</g>\n<!-- 15&#45;&gt;20 -->\n<g id=\"edge22\" class=\"edge\">\n<title>15&#45;&gt;20</title>\n<path fill=\"none\" stroke=\"#000000\" d=\"M2228.1342,-420.8498C2233.4044,-352.5251 2245.2065,-199.5191 2250.6499,-128.9493\"/>\n<polygon fill=\"#000000\" stroke=\"#000000\" points=\"2254.1567,-128.9951 2251.4362,-118.7556 2247.1774,-128.4567 2254.1567,-128.9951\"/>\n</g>\n<!-- 29 -->\n<g id=\"node25\" class=\"node\">\n<title>29</title>\n<path fill=\"#fbede2\" stroke=\"#000000\" d=\"M2532,-118.5C2532,-118.5 2387,-118.5 2387,-118.5 2381,-118.5 2375,-112.5 2375,-106.5 2375,-106.5 2375,-77.5 2375,-77.5 2375,-71.5 2381,-65.5 2387,-65.5 2387,-65.5 2532,-65.5 2532,-65.5 2538,-65.5 2544,-71.5 2544,-77.5 2544,-77.5 2544,-106.5 2544,-106.5 2544,-112.5 2538,-118.5 2532,-118.5\"/>\n<text text-anchor=\"start\" x=\"2383\" y=\"-103.3\" font-family=\"Helvetica,sans-Serif\" font-size=\"14.00\" fill=\"#000000\">squared_error = 236.57</text>\n<text text-anchor=\"start\" x=\"2411.5\" y=\"-88.3\" font-family=\"Helvetica,sans-Serif\" font-size=\"14.00\" fill=\"#000000\">samples = 521</text>\n<text text-anchor=\"start\" x=\"2411\" y=\"-73.3\" font-family=\"Helvetica,sans-Serif\" font-size=\"14.00\" fill=\"#000000\">value = 294.04</text>\n</g>\n<!-- 16&#45;&gt;29 -->\n<g id=\"edge24\" class=\"edge\">\n<title>16&#45;&gt;29</title>\n<path fill=\"none\" stroke=\"#000000\" d=\"M2562.7752,-420.8498C2541.2737,-352.3848 2493.0689,-198.8904 2470.9677,-128.5156\"/>\n<polygon fill=\"#000000\" stroke=\"#000000\" points=\"2474.2381,-127.2474 2467.9026,-118.7556 2467.5597,-129.3448 2474.2381,-127.2474\"/>\n</g>\n<!-- 30 -->\n<g id=\"node26\" class=\"node\">\n<title>30</title>\n<path fill=\"#fae8db\" stroke=\"#000000\" d=\"M2719,-118.5C2719,-118.5 2574,-118.5 2574,-118.5 2568,-118.5 2562,-112.5 2562,-106.5 2562,-106.5 2562,-77.5 2562,-77.5 2562,-71.5 2568,-65.5 2574,-65.5 2574,-65.5 2719,-65.5 2719,-65.5 2725,-65.5 2731,-71.5 2731,-77.5 2731,-77.5 2731,-106.5 2731,-106.5 2731,-112.5 2725,-118.5 2719,-118.5\"/>\n<text text-anchor=\"start\" x=\"2570\" y=\"-103.3\" font-family=\"Helvetica,sans-Serif\" font-size=\"14.00\" fill=\"#000000\">squared_error = 125.12</text>\n<text text-anchor=\"start\" x=\"2594.5\" y=\"-88.3\" font-family=\"Helvetica,sans-Serif\" font-size=\"14.00\" fill=\"#000000\">samples = 1478</text>\n<text text-anchor=\"start\" x=\"2598\" y=\"-73.3\" font-family=\"Helvetica,sans-Serif\" font-size=\"14.00\" fill=\"#000000\">value = 313.76</text>\n</g>\n<!-- 16&#45;&gt;30 -->\n<g id=\"edge25\" class=\"edge\">\n<title>16&#45;&gt;30</title>\n<path fill=\"none\" stroke=\"#000000\" d=\"M2580.3677,-420.8498C2594.1079,-352.5251 2624.8777,-199.5191 2639.0694,-128.9493\"/>\n<polygon fill=\"#000000\" stroke=\"#000000\" points=\"2642.5791,-129.2494 2641.1194,-118.7556 2635.7165,-127.8692 2642.5791,-129.2494\"/>\n</g>\n<!-- 13 -->\n<g id=\"node28\" class=\"node\">\n<title>13</title>\n<path fill=\"#ea9b62\" stroke=\"#000000\" d=\"M2924,-118.5C2924,-118.5 2771,-118.5 2771,-118.5 2765,-118.5 2759,-112.5 2759,-106.5 2759,-106.5 2759,-77.5 2759,-77.5 2759,-71.5 2765,-65.5 2771,-65.5 2771,-65.5 2924,-65.5 2924,-65.5 2930,-65.5 2936,-71.5 2936,-77.5 2936,-77.5 2936,-106.5 2936,-106.5 2936,-112.5 2930,-118.5 2924,-118.5\"/>\n<text text-anchor=\"start\" x=\"2767\" y=\"-103.3\" font-family=\"Helvetica,sans-Serif\" font-size=\"14.00\" fill=\"#000000\">squared_error = 1427.51</text>\n<text text-anchor=\"start\" x=\"2803.5\" y=\"-88.3\" font-family=\"Helvetica,sans-Serif\" font-size=\"14.00\" fill=\"#000000\">samples = 77</text>\n<text text-anchor=\"start\" x=\"2799\" y=\"-73.3\" font-family=\"Helvetica,sans-Serif\" font-size=\"14.00\" fill=\"#000000\">value = 647.65</text>\n</g>\n<!-- 2&#45;&gt;13 -->\n<g id=\"edge27\" class=\"edge\">\n<title>2&#45;&gt;13</title>\n<path fill=\"none\" stroke=\"#000000\" d=\"M2847.5,-1506.9641C2847.5,-1311.2801 2847.5,-331.171 2847.5,-128.6503\"/>\n<polygon fill=\"#000000\" stroke=\"#000000\" points=\"2851.0001,-128.5352 2847.5,-118.5352 2844.0001,-128.5352 2851.0001,-128.5352\"/>\n</g>\n<!-- 14 -->\n<g id=\"node29\" class=\"node\">\n<title>14</title>\n<path fill=\"#e5833b\" stroke=\"#000000\" d=\"M3355,-1213C3355,-1213 2888,-1213 2888,-1213 2882,-1213 2876,-1207 2876,-1201 2876,-1201 2876,-1157 2876,-1157 2876,-1151 2882,-1145 2888,-1145 2888,-1145 3355,-1145 3355,-1145 3361,-1145 3367,-1151 3367,-1157 3367,-1157 3367,-1201 3367,-1201 3367,-1207 3361,-1213 3355,-1213\"/>\n<text text-anchor=\"start\" x=\"2884\" y=\"-1197.8\" font-family=\"Helvetica,sans-Serif\" font-size=\"14.00\" fill=\"#000000\">lastReportedPosition.milepostLocation.milepost.milepostNumber ≤ 728.96</text>\n<text text-anchor=\"start\" x=\"3045\" y=\"-1182.8\" font-family=\"Helvetica,sans-Serif\" font-size=\"14.00\" fill=\"#000000\">squared_error = 205.01</text>\n<text text-anchor=\"start\" x=\"3069.5\" y=\"-1167.8\" font-family=\"Helvetica,sans-Serif\" font-size=\"14.00\" fill=\"#000000\">samples = 2500</text>\n<text text-anchor=\"start\" x=\"3073\" y=\"-1152.8\" font-family=\"Helvetica,sans-Serif\" font-size=\"14.00\" fill=\"#000000\">value = 752.79</text>\n</g>\n<!-- 2&#45;&gt;14 -->\n<g id=\"edge28\" class=\"edge\">\n<title>2&#45;&gt;14</title>\n<path fill=\"none\" stroke=\"#000000\" d=\"M2873.2773,-1506.9439C2923.5615,-1440.51 3034.6102,-1293.796 3089.502,-1221.2747\"/>\n<polygon fill=\"#000000\" stroke=\"#000000\" points=\"3092.3471,-1223.3151 3095.5916,-1213.2293 3086.7657,-1219.0905 3092.3471,-1223.3151\"/>\n</g>\n<!-- 25 -->\n<g id=\"node30\" class=\"node\">\n<title>25</title>\n<path fill=\"#e6853f\" stroke=\"#000000\" d=\"M3153,-118.5C3153,-118.5 3008,-118.5 3008,-118.5 3002,-118.5 2996,-112.5 2996,-106.5 2996,-106.5 2996,-77.5 2996,-77.5 2996,-71.5 3002,-65.5 3008,-65.5 3008,-65.5 3153,-65.5 3153,-65.5 3159,-65.5 3165,-71.5 3165,-77.5 3165,-77.5 3165,-106.5 3165,-106.5 3165,-112.5 3159,-118.5 3153,-118.5\"/>\n<text text-anchor=\"start\" x=\"3004\" y=\"-103.3\" font-family=\"Helvetica,sans-Serif\" font-size=\"14.00\" fill=\"#000000\">squared_error = 209.51</text>\n<text text-anchor=\"start\" x=\"3032.5\" y=\"-88.3\" font-family=\"Helvetica,sans-Serif\" font-size=\"14.00\" fill=\"#000000\">samples = 983</text>\n<text text-anchor=\"start\" x=\"3032\" y=\"-73.3\" font-family=\"Helvetica,sans-Serif\" font-size=\"14.00\" fill=\"#000000\">value = 742.29</text>\n</g>\n<!-- 14&#45;&gt;25 -->\n<g id=\"edge29\" class=\"edge\">\n<title>14&#45;&gt;25</title>\n<path fill=\"none\" stroke=\"#000000\" d=\"M3120.2166,-1144.9752C3114.1281,-983.5543 3088.1886,-295.8404 3081.8847,-128.7118\"/>\n<polygon fill=\"#000000\" stroke=\"#000000\" points=\"3085.3811,-128.5485 3081.5066,-118.6875 3078.3861,-128.8124 3085.3811,-128.5485\"/>\n</g>\n<!-- 26 -->\n<g id=\"node31\" class=\"node\">\n<title>26</title>\n<path fill=\"#e58139\" stroke=\"#000000\" d=\"M3332,-118.5C3332,-118.5 3195,-118.5 3195,-118.5 3189,-118.5 3183,-112.5 3183,-106.5 3183,-106.5 3183,-77.5 3183,-77.5 3183,-71.5 3189,-65.5 3195,-65.5 3195,-65.5 3332,-65.5 3332,-65.5 3338,-65.5 3344,-71.5 3344,-77.5 3344,-77.5 3344,-106.5 3344,-106.5 3344,-112.5 3338,-118.5 3332,-118.5\"/>\n<text text-anchor=\"start\" x=\"3191\" y=\"-103.3\" font-family=\"Helvetica,sans-Serif\" font-size=\"14.00\" fill=\"#000000\">squared_error = 84.38</text>\n<text text-anchor=\"start\" x=\"3211.5\" y=\"-88.3\" font-family=\"Helvetica,sans-Serif\" font-size=\"14.00\" fill=\"#000000\">samples = 1517</text>\n<text text-anchor=\"start\" x=\"3219.5\" y=\"-73.3\" font-family=\"Helvetica,sans-Serif\" font-size=\"14.00\" fill=\"#000000\">value = 759.6</text>\n</g>\n<!-- 14&#45;&gt;26 -->\n<g id=\"edge30\" class=\"edge\">\n<title>14&#45;&gt;26</title>\n<path fill=\"none\" stroke=\"#000000\" d=\"M3125.9448,-1144.9752C3147.032,-983.5543 3236.8714,-295.8404 3258.7042,-128.7118\"/>\n<polygon fill=\"#000000\" stroke=\"#000000\" points=\"3262.1888,-129.0567 3260.0137,-118.6875 3255.2477,-128.1499 3262.1888,-129.0567\"/>\n</g>\n</g>\n</svg>\n"
          },
          "metadata": {},
          "execution_count": 109
        }
      ]
    },
    {
      "cell_type": "code",
      "source": [
        "m = DecisionTreeRegressor(min_samples_leaf=9)\n",
        "m.fit(xs, y);"
      ],
      "metadata": {
        "id": "_wto32TJkud4"
      },
      "execution_count": 110,
      "outputs": []
    },
    {
      "cell_type": "code",
      "source": [
        "def r_mse(pred,y): return round(math.sqrt(((pred-y)**2).mean()), 6)\n",
        "def m_rmse(m, xs, y): return r_mse(m.predict(xs), y)"
      ],
      "metadata": {
        "id": "D53phc2JE5RC"
      },
      "execution_count": 111,
      "outputs": []
    },
    {
      "cell_type": "markdown",
      "source": [
        "How well we fit the traing model:"
      ],
      "metadata": {
        "id": "mdZvu4cJuS9j"
      }
    },
    {
      "cell_type": "code",
      "source": [
        "m_rmse(m, xs, y)"
      ],
      "metadata": {
        "id": "8CYcTQHLHT4m",
        "colab": {
          "base_uri": "https://localhost:8080/"
        },
        "outputId": "cf03a5f1-e54e-41e5-d9c8-f9edd8d59e15"
      },
      "execution_count": 112,
      "outputs": [
        {
          "output_type": "execute_result",
          "data": {
            "text/plain": [
              "7.985232"
            ]
          },
          "metadata": {},
          "execution_count": 112
        }
      ]
    },
    {
      "cell_type": "markdown",
      "source": [
        "How well we fit the Validation Model:"
      ],
      "metadata": {
        "id": "MU_z9z6huZs0"
      }
    },
    {
      "cell_type": "code",
      "source": [
        "m_rmse(m, valid_xs, valid_y)"
      ],
      "metadata": {
        "id": "_oElvFDHHZHm",
        "colab": {
          "base_uri": "https://localhost:8080/"
        },
        "outputId": "6360523d-bb0a-4360-c0b5-6975f39b1a21"
      },
      "execution_count": 113,
      "outputs": [
        {
          "output_type": "execute_result",
          "data": {
            "text/plain": [
              "13.388843"
            ]
          },
          "metadata": {},
          "execution_count": 113
        }
      ]
    },
    {
      "cell_type": "code",
      "source": [
        "def rf_feat_importance(m, df):\n",
        "    return pd.DataFrame({'cols':df.columns, 'imp':m.feature_importances_}\n",
        "                       ).sort_values('imp', ascending=False)"
      ],
      "metadata": {
        "id": "oCKCSQSlab4o"
      },
      "execution_count": 114,
      "outputs": []
    },
    {
      "cell_type": "code",
      "source": [
        "fi = rf_feat_importance(m, xs)\n",
        "fi[:10]"
      ],
      "metadata": {
        "id": "jxENiQDXlYKl",
        "colab": {
          "base_uri": "https://localhost:8080/",
          "height": 363
        },
        "outputId": "b644ae74-2f12-452f-d346-e3b6ea9c931d"
      },
      "execution_count": 115,
      "outputs": [
        {
          "output_type": "execute_result",
          "data": {
            "text/plain": [
              "                                                             cols       imp\n",
              "38                                                       milepost  0.966691\n",
              "23  lastReportedPosition.milepostLocation.milepost.milepostNumber  0.016806\n",
              "12                                                         mpIncr  0.008345\n",
              "22                                  lastReportedPosition.speedMPH  0.005403\n",
              "3                                             trainId.trainSymbol  0.000404\n",
              "14                                                  workLocations  0.000297\n",
              "7                                      aotuTrainData.priorityCode  0.000162\n",
              "35                                                  emptyCarCount  0.000162\n",
              "6                 lastReportedPosition.milepostLocation.trackName  0.000152\n",
              "42                           lastReportedPosition.positionTimeDay  0.000137"
            ],
            "text/html": [
              "\n",
              "  <div id=\"df-65f571e8-6495-4141-91df-b2ed28d315c3\">\n",
              "    <div class=\"colab-df-container\">\n",
              "      <div>\n",
              "<style scoped>\n",
              "    .dataframe tbody tr th:only-of-type {\n",
              "        vertical-align: middle;\n",
              "    }\n",
              "\n",
              "    .dataframe tbody tr th {\n",
              "        vertical-align: top;\n",
              "    }\n",
              "\n",
              "    .dataframe thead th {\n",
              "        text-align: right;\n",
              "    }\n",
              "</style>\n",
              "<table border=\"1\" class=\"dataframe\">\n",
              "  <thead>\n",
              "    <tr style=\"text-align: right;\">\n",
              "      <th></th>\n",
              "      <th>cols</th>\n",
              "      <th>imp</th>\n",
              "    </tr>\n",
              "  </thead>\n",
              "  <tbody>\n",
              "    <tr>\n",
              "      <th>38</th>\n",
              "      <td>milepost</td>\n",
              "      <td>0.966691</td>\n",
              "    </tr>\n",
              "    <tr>\n",
              "      <th>23</th>\n",
              "      <td>lastReportedPosition.milepostLocation.milepost.milepostNumber</td>\n",
              "      <td>0.016806</td>\n",
              "    </tr>\n",
              "    <tr>\n",
              "      <th>12</th>\n",
              "      <td>mpIncr</td>\n",
              "      <td>0.008345</td>\n",
              "    </tr>\n",
              "    <tr>\n",
              "      <th>22</th>\n",
              "      <td>lastReportedPosition.speedMPH</td>\n",
              "      <td>0.005403</td>\n",
              "    </tr>\n",
              "    <tr>\n",
              "      <th>3</th>\n",
              "      <td>trainId.trainSymbol</td>\n",
              "      <td>0.000404</td>\n",
              "    </tr>\n",
              "    <tr>\n",
              "      <th>14</th>\n",
              "      <td>workLocations</td>\n",
              "      <td>0.000297</td>\n",
              "    </tr>\n",
              "    <tr>\n",
              "      <th>7</th>\n",
              "      <td>aotuTrainData.priorityCode</td>\n",
              "      <td>0.000162</td>\n",
              "    </tr>\n",
              "    <tr>\n",
              "      <th>35</th>\n",
              "      <td>emptyCarCount</td>\n",
              "      <td>0.000162</td>\n",
              "    </tr>\n",
              "    <tr>\n",
              "      <th>6</th>\n",
              "      <td>lastReportedPosition.milepostLocation.trackName</td>\n",
              "      <td>0.000152</td>\n",
              "    </tr>\n",
              "    <tr>\n",
              "      <th>42</th>\n",
              "      <td>lastReportedPosition.positionTimeDay</td>\n",
              "      <td>0.000137</td>\n",
              "    </tr>\n",
              "  </tbody>\n",
              "</table>\n",
              "</div>\n",
              "      <button class=\"colab-df-convert\" onclick=\"convertToInteractive('df-65f571e8-6495-4141-91df-b2ed28d315c3')\"\n",
              "              title=\"Convert this dataframe to an interactive table.\"\n",
              "              style=\"display:none;\">\n",
              "        \n",
              "  <svg xmlns=\"http://www.w3.org/2000/svg\" height=\"24px\"viewBox=\"0 0 24 24\"\n",
              "       width=\"24px\">\n",
              "    <path d=\"M0 0h24v24H0V0z\" fill=\"none\"/>\n",
              "    <path d=\"M18.56 5.44l.94 2.06.94-2.06 2.06-.94-2.06-.94-.94-2.06-.94 2.06-2.06.94zm-11 1L8.5 8.5l.94-2.06 2.06-.94-2.06-.94L8.5 2.5l-.94 2.06-2.06.94zm10 10l.94 2.06.94-2.06 2.06-.94-2.06-.94-.94-2.06-.94 2.06-2.06.94z\"/><path d=\"M17.41 7.96l-1.37-1.37c-.4-.4-.92-.59-1.43-.59-.52 0-1.04.2-1.43.59L10.3 9.45l-7.72 7.72c-.78.78-.78 2.05 0 2.83L4 21.41c.39.39.9.59 1.41.59.51 0 1.02-.2 1.41-.59l7.78-7.78 2.81-2.81c.8-.78.8-2.07 0-2.86zM5.41 20L4 18.59l7.72-7.72 1.47 1.35L5.41 20z\"/>\n",
              "  </svg>\n",
              "      </button>\n",
              "      \n",
              "  <style>\n",
              "    .colab-df-container {\n",
              "      display:flex;\n",
              "      flex-wrap:wrap;\n",
              "      gap: 12px;\n",
              "    }\n",
              "\n",
              "    .colab-df-convert {\n",
              "      background-color: #E8F0FE;\n",
              "      border: none;\n",
              "      border-radius: 50%;\n",
              "      cursor: pointer;\n",
              "      display: none;\n",
              "      fill: #1967D2;\n",
              "      height: 32px;\n",
              "      padding: 0 0 0 0;\n",
              "      width: 32px;\n",
              "    }\n",
              "\n",
              "    .colab-df-convert:hover {\n",
              "      background-color: #E2EBFA;\n",
              "      box-shadow: 0px 1px 2px rgba(60, 64, 67, 0.3), 0px 1px 3px 1px rgba(60, 64, 67, 0.15);\n",
              "      fill: #174EA6;\n",
              "    }\n",
              "\n",
              "    [theme=dark] .colab-df-convert {\n",
              "      background-color: #3B4455;\n",
              "      fill: #D2E3FC;\n",
              "    }\n",
              "\n",
              "    [theme=dark] .colab-df-convert:hover {\n",
              "      background-color: #434B5C;\n",
              "      box-shadow: 0px 1px 3px 1px rgba(0, 0, 0, 0.15);\n",
              "      filter: drop-shadow(0px 1px 2px rgba(0, 0, 0, 0.3));\n",
              "      fill: #FFFFFF;\n",
              "    }\n",
              "  </style>\n",
              "\n",
              "      <script>\n",
              "        const buttonEl =\n",
              "          document.querySelector('#df-65f571e8-6495-4141-91df-b2ed28d315c3 button.colab-df-convert');\n",
              "        buttonEl.style.display =\n",
              "          google.colab.kernel.accessAllowed ? 'block' : 'none';\n",
              "\n",
              "        async function convertToInteractive(key) {\n",
              "          const element = document.querySelector('#df-65f571e8-6495-4141-91df-b2ed28d315c3');\n",
              "          const dataTable =\n",
              "            await google.colab.kernel.invokeFunction('convertToInteractive',\n",
              "                                                     [key], {});\n",
              "          if (!dataTable) return;\n",
              "\n",
              "          const docLinkHtml = 'Like what you see? Visit the ' +\n",
              "            '<a target=\"_blank\" href=https://colab.research.google.com/notebooks/data_table.ipynb>data table notebook</a>'\n",
              "            + ' to learn more about interactive tables.';\n",
              "          element.innerHTML = '';\n",
              "          dataTable['output_type'] = 'display_data';\n",
              "          await google.colab.output.renderOutput(dataTable, element);\n",
              "          const docLink = document.createElement('div');\n",
              "          docLink.innerHTML = docLinkHtml;\n",
              "          element.appendChild(docLink);\n",
              "        }\n",
              "      </script>\n",
              "    </div>\n",
              "  </div>\n",
              "  "
            ]
          },
          "metadata": {},
          "execution_count": 115
        }
      ]
    },
    {
      "cell_type": "markdown",
      "source": [
        ""
      ],
      "metadata": {
        "id": "GAU4iShuUTlj"
      }
    },
    {
      "cell_type": "code",
      "source": [
        "ax = xs['lastReportedPosition.speedMPH'].hist(bins=60)\n"
      ],
      "metadata": {
        "id": "W_xHGvS4mTAv",
        "colab": {
          "base_uri": "https://localhost:8080/",
          "height": 265
        },
        "outputId": "99d43fe6-bd2f-4542-d1d6-efe05e05d515"
      },
      "execution_count": 116,
      "outputs": [
        {
          "output_type": "display_data",
          "data": {
            "text/plain": [
              "<Figure size 432x288 with 1 Axes>"
            ],
            "image/png": "[encoded data removed]"
          },
          "metadata": {
            "needs_background": "light"
          }
        }
      ]
    },
    {
      "cell_type": "code",
      "source": [
        "from sklearn.inspection import plot_partial_dependence\n",
        "\n",
        "fig,ax = plt.subplots(figsize=(12, 4))\n",
        "plot_partial_dependence(m, xs, ['lastReportedPosition.speedMPH'],\n",
        "                        grid_resolution=20, ax=ax);"
      ],
      "metadata": {
        "id": "dVfYTqKvniXo",
        "colab": {
          "base_uri": "https://localhost:8080/",
          "height": 334
        },
        "outputId": "ef3c60a3-081d-450a-e9df-14fc8ce91a06"
      },
      "execution_count": 117,
      "outputs": [
        {
          "output_type": "stream",
          "name": "stderr",
          "text": [
            "/usr/local/lib/python3.7/dist-packages/sklearn/utils/deprecation.py:87: FutureWarning: Function plot_partial_dependence is deprecated; Function `plot_partial_dependence` is deprecated in 1.0 and will be removed in 1.2. Use PartialDependenceDisplay.from_estimator instead\n",
            "  warnings.warn(msg, category=FutureWarning)\n"
          ]
        },
        {
          "output_type": "display_data",
          "data": {
            "text/plain": [
              "<Figure size 864x288 with 2 Axes>"
            ],
            "image/png": "[encoded data removed]"
          },
          "metadata": {
            "needs_background": "light"
          }
        }
      ]
    },
    {
      "cell_type": "markdown",
      "source": [
        "#Random Forest"
      ],
      "metadata": {
        "id": "-iGNWlJDmQrV"
      }
    },
    {
      "cell_type": "code",
      "source": [
        "def randomForest(xs, y, n_estimators=50, max_samples=2500,\n",
        "       max_features=0.5, min_samples_leaf=5, **kwargs):\n",
        "    return RandomForestRegressor(n_jobs=-1, n_estimators=n_estimators,\n",
        "        max_samples=max_samples, max_features=max_features,\n",
        "        min_samples_leaf=min_samples_leaf, oob_score=True).fit(xs, y)"
      ],
      "metadata": {
        "id": "FllkOgNkUTGW"
      },
      "execution_count": 118,
      "outputs": []
    },
    {
      "cell_type": "code",
      "source": [
        "m = randomForest(xs, y);"
      ],
      "metadata": {
        "id": "OqX5AcTWVRXE"
      },
      "execution_count": 119,
      "outputs": []
    },
    {
      "cell_type": "code",
      "source": [
        "m_rmse(m, xs, y), m_rmse(m, valid_xs, valid_y)"
      ],
      "metadata": {
        "id": "33ncywqjVcwn",
        "colab": {
          "base_uri": "https://localhost:8080/"
        },
        "outputId": "a6088f7f-e474-4c62-c3dd-88795ef3960f"
      },
      "execution_count": 120,
      "outputs": [
        {
          "output_type": "execute_result",
          "data": {
            "text/plain": [
              "(10.475376, 11.614412)"
            ]
          },
          "metadata": {},
          "execution_count": 120
        }
      ]
    },
    {
      "cell_type": "code",
      "source": [
        "preds = np.stack([t.predict(valid_xs) for t in m.estimators_])"
      ],
      "metadata": {
        "id": "Dg6iyZCIW0Nt"
      },
      "execution_count": null,
      "outputs": []
    },
    {
      "cell_type": "code",
      "source": [
        "r_mse(preds.mean(0), valid_y)"
      ],
      "metadata": {
        "id": "5UldrkUhXFbi",
        "colab": {
          "base_uri": "https://localhost:8080/"
        },
        "outputId": "a9c9d7c2-8b33-482c-b101-8f1c07709dd4"
      },
      "execution_count": 122,
      "outputs": [
        {
          "output_type": "execute_result",
          "data": {
            "text/plain": [
              "11.614412"
            ]
          },
          "metadata": {},
          "execution_count": 122
        }
      ]
    },
    {
      "cell_type": "code",
      "source": [
        "plt.plot([r_mse(preds[:i+1].mean(0), valid_y) for i in range(50)]);"
      ],
      "metadata": {
        "id": "eT0fXh6uXIp1",
        "colab": {
          "base_uri": "https://localhost:8080/",
          "height": 265
        },
        "outputId": "b30c358e-619d-4d71-ef47-c8585ef30b06"
      },
      "execution_count": 123,
      "outputs": [
        {
          "output_type": "display_data",
          "data": {
            "text/plain": [
              "<Figure size 432x288 with 1 Axes>"
            ],
            "image/png": "[encoded data removed]"
          },
          "metadata": {
            "needs_background": "light"
          }
        }
      ]
    },
    {
      "cell_type": "markdown",
      "source": [
        "### Out-of-Bag Error"
      ],
      "metadata": {
        "id": "GN-VS3_2YsOd"
      }
    },
    {
      "cell_type": "code",
      "source": [
        "r_mse(m.oob_prediction_, y)"
      ],
      "metadata": {
        "id": "tvwS19-6Yc20"
      },
      "execution_count": null,
      "outputs": []
    },
    {
      "cell_type": "markdown",
      "source": [
        "- How confident are we in our predictions using a particular row of data?\n",
        "- For predicting with a particular row of data, what were the most important factors, and how did they influence that prediction?\n",
        "- Which columns are the strongest predictors, which can we ignore?\n",
        "- Which columns are effectively redundant with each other, for purposes of prediction?\n",
        "- How do predictions vary, as we vary these columns?\n"
      ],
      "metadata": {
        "id": "-jSxQWTZZDfx"
      }
    },
    {
      "cell_type": "code",
      "source": [
        "preds = np.stack([t.predict(valid_xs) for t in m.estimators_])"
      ],
      "metadata": {
        "id": "eS53q1RUZRva"
      },
      "execution_count": null,
      "outputs": []
    },
    {
      "cell_type": "code",
      "source": [
        "preds.shape"
      ],
      "metadata": {
        "id": "quArhZFkZtq_",
        "colab": {
          "base_uri": "https://localhost:8080/"
        },
        "outputId": "31d3ec7a-9d1d-4281-af01-9386170b6fe0"
      },
      "execution_count": 126,
      "outputs": [
        {
          "output_type": "execute_result",
          "data": {
            "text/plain": [
              "(50, 4949)"
            ]
          },
          "metadata": {},
          "execution_count": 126
        }
      ]
    },
    {
      "cell_type": "code",
      "source": [
        "preds_std = preds.std(0)"
      ],
      "metadata": {
        "id": "xZCBhV9MZxSH"
      },
      "execution_count": 127,
      "outputs": []
    },
    {
      "cell_type": "code",
      "source": [
        "preds_std[:5]"
      ],
      "metadata": {
        "id": "ZvKvldDdZ44S",
        "colab": {
          "base_uri": "https://localhost:8080/"
        },
        "outputId": "36c06fa4-3584-4beb-aed9-b7a848c08ad0"
      },
      "execution_count": 128,
      "outputs": [
        {
          "output_type": "execute_result",
          "data": {
            "text/plain": [
              "array([4.80152223, 4.80152223, 4.80152223, 4.80152223, 5.14967621])"
            ]
          },
          "metadata": {},
          "execution_count": 128
        }
      ]
    },
    {
      "cell_type": "code",
      "source": [
        "print(preds.mean(0)[:10])\n",
        "print(valid_y[:10])"
      ],
      "metadata": {
        "id": "ispifOrY-VK3",
        "colab": {
          "base_uri": "https://localhost:8080/"
        },
        "outputId": "7ee96247-f421-42b6-e313-ea17cd1347b6"
      },
      "execution_count": 152,
      "outputs": [
        {
          "output_type": "stream",
          "name": "stdout",
          "text": [
            "tensor([])\n",
            "59       762.728699\n",
            "60       762.728088\n",
            "61       763.092407\n",
            "62       766.728638\n",
            "163      762.721802\n",
            "            ...    \n",
            "37986    236.349045\n",
            "37987    225.254959\n",
            "37988    219.881546\n",
            "37989    217.072906\n",
            "37990    206.479767\n",
            "Name: nextValue, Length: 4939, dtype: float32\n"
          ]
        }
      ]
    },
    {
      "cell_type": "markdown",
      "source": [
        "# FEATURE Importance"
      ],
      "metadata": {
        "id": "tkENwKVIaPXc"
      }
    },
    {
      "cell_type": "code",
      "source": [
        "fi = rf_feat_importance(m, xs)\n",
        "fi[:20]"
      ],
      "metadata": {
        "id": "_xddcBHXaj9O",
        "colab": {
          "base_uri": "https://localhost:8080/",
          "height": 676
        },
        "outputId": "24c2828a-e70e-4c38-80b6-d1c797308856"
      },
      "execution_count": 130,
      "outputs": [
        {
          "output_type": "execute_result",
          "data": {
            "text/plain": [
              "                                                             cols       imp\n",
              "38                                                       milepost  0.386817\n",
              "23  lastReportedPosition.milepostLocation.milepost.milepostNumber  0.341049\n",
              "6                 lastReportedPosition.milepostLocation.trackName  0.190561\n",
              "14                                                  workLocations  0.061974\n",
              "12                                                         mpIncr  0.007873\n",
              "22                                  lastReportedPosition.speedMPH  0.004016\n",
              "39                                                locomotiveCount  0.003594\n",
              "3                                             trainId.trainSymbol  0.000661\n",
              "25                                   aotuTrainData.totalCarLength  0.000286\n",
              "13                                                     symbolType  0.000277\n",
              "34                                                 loadedCarCount  0.000269\n",
              "36                                                    trainLength  0.000262\n",
              "24                                   aotuTrainData.totalCarWeight  0.000261\n",
              "35                                                  emptyCarCount  0.000253\n",
              "0                                             ptcLeadLocomotiveId  0.000203\n",
              "37                                                trailingTonnage  0.000202\n",
              "33                                              maximumTrainSpeed  0.000161\n",
              "26                            aotuTrainData.totalLocomotiveWeight  0.000153\n",
              "42                           lastReportedPosition.positionTimeDay  0.000148\n",
              "7                                      aotuTrainData.priorityCode  0.000136"
            ],
            "text/html": [
              "\n",
              "  <div id=\"df-79ffbdb0-b1ae-4275-9f19-d028c2a02326\">\n",
              "    <div class=\"colab-df-container\">\n",
              "      <div>\n",
              "<style scoped>\n",
              "    .dataframe tbody tr th:only-of-type {\n",
              "        vertical-align: middle;\n",
              "    }\n",
              "\n",
              "    .dataframe tbody tr th {\n",
              "        vertical-align: top;\n",
              "    }\n",
              "\n",
              "    .dataframe thead th {\n",
              "        text-align: right;\n",
              "    }\n",
              "</style>\n",
              "<table border=\"1\" class=\"dataframe\">\n",
              "  <thead>\n",
              "    <tr style=\"text-align: right;\">\n",
              "      <th></th>\n",
              "      <th>cols</th>\n",
              "      <th>imp</th>\n",
              "    </tr>\n",
              "  </thead>\n",
              "  <tbody>\n",
              "    <tr>\n",
              "      <th>38</th>\n",
              "      <td>milepost</td>\n",
              "      <td>0.386817</td>\n",
              "    </tr>\n",
              "    <tr>\n",
              "      <th>23</th>\n",
              "      <td>lastReportedPosition.milepostLocation.milepost.milepostNumber</td>\n",
              "      <td>0.341049</td>\n",
              "    </tr>\n",
              "    <tr>\n",
              "      <th>6</th>\n",
              "      <td>lastReportedPosition.milepostLocation.trackName</td>\n",
              "      <td>0.190561</td>\n",
              "    </tr>\n",
              "    <tr>\n",
              "      <th>14</th>\n",
              "      <td>workLocations</td>\n",
              "      <td>0.061974</td>\n",
              "    </tr>\n",
              "    <tr>\n",
              "      <th>12</th>\n",
              "      <td>mpIncr</td>\n",
              "      <td>0.007873</td>\n",
              "    </tr>\n",
              "    <tr>\n",
              "      <th>22</th>\n",
              "      <td>lastReportedPosition.speedMPH</td>\n",
              "      <td>0.004016</td>\n",
              "    </tr>\n",
              "    <tr>\n",
              "      <th>39</th>\n",
              "      <td>locomotiveCount</td>\n",
              "      <td>0.003594</td>\n",
              "    </tr>\n",
              "    <tr>\n",
              "      <th>3</th>\n",
              "      <td>trainId.trainSymbol</td>\n",
              "      <td>0.000661</td>\n",
              "    </tr>\n",
              "    <tr>\n",
              "      <th>25</th>\n",
              "      <td>aotuTrainData.totalCarLength</td>\n",
              "      <td>0.000286</td>\n",
              "    </tr>\n",
              "    <tr>\n",
              "      <th>13</th>\n",
              "      <td>symbolType</td>\n",
              "      <td>0.000277</td>\n",
              "    </tr>\n",
              "    <tr>\n",
              "      <th>34</th>\n",
              "      <td>loadedCarCount</td>\n",
              "      <td>0.000269</td>\n",
              "    </tr>\n",
              "    <tr>\n",
              "      <th>36</th>\n",
              "      <td>trainLength</td>\n",
              "      <td>0.000262</td>\n",
              "    </tr>\n",
              "    <tr>\n",
              "      <th>24</th>\n",
              "      <td>aotuTrainData.totalCarWeight</td>\n",
              "      <td>0.000261</td>\n",
              "    </tr>\n",
              "    <tr>\n",
              "      <th>35</th>\n",
              "      <td>emptyCarCount</td>\n",
              "      <td>0.000253</td>\n",
              "    </tr>\n",
              "    <tr>\n",
              "      <th>0</th>\n",
              "      <td>ptcLeadLocomotiveId</td>\n",
              "      <td>0.000203</td>\n",
              "    </tr>\n",
              "    <tr>\n",
              "      <th>37</th>\n",
              "      <td>trailingTonnage</td>\n",
              "      <td>0.000202</td>\n",
              "    </tr>\n",
              "    <tr>\n",
              "      <th>33</th>\n",
              "      <td>maximumTrainSpeed</td>\n",
              "      <td>0.000161</td>\n",
              "    </tr>\n",
              "    <tr>\n",
              "      <th>26</th>\n",
              "      <td>aotuTrainData.totalLocomotiveWeight</td>\n",
              "      <td>0.000153</td>\n",
              "    </tr>\n",
              "    <tr>\n",
              "      <th>42</th>\n",
              "      <td>lastReportedPosition.positionTimeDay</td>\n",
              "      <td>0.000148</td>\n",
              "    </tr>\n",
              "    <tr>\n",
              "      <th>7</th>\n",
              "      <td>aotuTrainData.priorityCode</td>\n",
              "      <td>0.000136</td>\n",
              "    </tr>\n",
              "  </tbody>\n",
              "</table>\n",
              "</div>\n",
              "      <button class=\"colab-df-convert\" onclick=\"convertToInteractive('df-79ffbdb0-b1ae-4275-9f19-d028c2a02326')\"\n",
              "              title=\"Convert this dataframe to an interactive table.\"\n",
              "              style=\"display:none;\">\n",
              "        \n",
              "  <svg xmlns=\"http://www.w3.org/2000/svg\" height=\"24px\"viewBox=\"0 0 24 24\"\n",
              "       width=\"24px\">\n",
              "    <path d=\"M0 0h24v24H0V0z\" fill=\"none\"/>\n",
              "    <path d=\"M18.56 5.44l.94 2.06.94-2.06 2.06-.94-2.06-.94-.94-2.06-.94 2.06-2.06.94zm-11 1L8.5 8.5l.94-2.06 2.06-.94-2.06-.94L8.5 2.5l-.94 2.06-2.06.94zm10 10l.94 2.06.94-2.06 2.06-.94-2.06-.94-.94-2.06-.94 2.06-2.06.94z\"/><path d=\"M17.41 7.96l-1.37-1.37c-.4-.4-.92-.59-1.43-.59-.52 0-1.04.2-1.43.59L10.3 9.45l-7.72 7.72c-.78.78-.78 2.05 0 2.83L4 21.41c.39.39.9.59 1.41.59.51 0 1.02-.2 1.41-.59l7.78-7.78 2.81-2.81c.8-.78.8-2.07 0-2.86zM5.41 20L4 18.59l7.72-7.72 1.47 1.35L5.41 20z\"/>\n",
              "  </svg>\n",
              "      </button>\n",
              "      \n",
              "  <style>\n",
              "    .colab-df-container {\n",
              "      display:flex;\n",
              "      flex-wrap:wrap;\n",
              "      gap: 12px;\n",
              "    }\n",
              "\n",
              "    .colab-df-convert {\n",
              "      background-color: #E8F0FE;\n",
              "      border: none;\n",
              "      border-radius: 50%;\n",
              "      cursor: pointer;\n",
              "      display: none;\n",
              "      fill: #1967D2;\n",
              "      height: 32px;\n",
              "      padding: 0 0 0 0;\n",
              "      width: 32px;\n",
              "    }\n",
              "\n",
              "    .colab-df-convert:hover {\n",
              "      background-color: #E2EBFA;\n",
              "      box-shadow: 0px 1px 2px rgba(60, 64, 67, 0.3), 0px 1px 3px 1px rgba(60, 64, 67, 0.15);\n",
              "      fill: #174EA6;\n",
              "    }\n",
              "\n",
              "    [theme=dark] .colab-df-convert {\n",
              "      background-color: #3B4455;\n",
              "      fill: #D2E3FC;\n",
              "    }\n",
              "\n",
              "    [theme=dark] .colab-df-convert:hover {\n",
              "      background-color: #434B5C;\n",
              "      box-shadow: 0px 1px 3px 1px rgba(0, 0, 0, 0.15);\n",
              "      filter: drop-shadow(0px 1px 2px rgba(0, 0, 0, 0.3));\n",
              "      fill: #FFFFFF;\n",
              "    }\n",
              "  </style>\n",
              "\n",
              "      <script>\n",
              "        const buttonEl =\n",
              "          document.querySelector('#df-79ffbdb0-b1ae-4275-9f19-d028c2a02326 button.colab-df-convert');\n",
              "        buttonEl.style.display =\n",
              "          google.colab.kernel.accessAllowed ? 'block' : 'none';\n",
              "\n",
              "        async function convertToInteractive(key) {\n",
              "          const element = document.querySelector('#df-79ffbdb0-b1ae-4275-9f19-d028c2a02326');\n",
              "          const dataTable =\n",
              "            await google.colab.kernel.invokeFunction('convertToInteractive',\n",
              "                                                     [key], {});\n",
              "          if (!dataTable) return;\n",
              "\n",
              "          const docLinkHtml = 'Like what you see? Visit the ' +\n",
              "            '<a target=\"_blank\" href=https://colab.research.google.com/notebooks/data_table.ipynb>data table notebook</a>'\n",
              "            + ' to learn more about interactive tables.';\n",
              "          element.innerHTML = '';\n",
              "          dataTable['output_type'] = 'display_data';\n",
              "          await google.colab.output.renderOutput(dataTable, element);\n",
              "          const docLink = document.createElement('div');\n",
              "          docLink.innerHTML = docLinkHtml;\n",
              "          element.appendChild(docLink);\n",
              "        }\n",
              "      </script>\n",
              "    </div>\n",
              "  </div>\n",
              "  "
            ]
          },
          "metadata": {},
          "execution_count": 130
        }
      ]
    },
    {
      "cell_type": "code",
      "source": [
        "def plot_fi(fi):\n",
        "    return fi.plot('cols', 'imp', 'barh', figsize=(12,7), legend=False)\n",
        "\n",
        "plot_fi(fi[:30]);"
      ],
      "metadata": {
        "id": "PrrzmK6AflwF",
        "colab": {
          "base_uri": "https://localhost:8080/",
          "height": 428
        },
        "outputId": "c2197106-8766-461f-ef4e-b1df2980e853"
      },
      "execution_count": 131,
      "outputs": [
        {
          "output_type": "display_data",
          "data": {
            "text/plain": [
              "<Figure size 864x504 with 1 Axes>"
            ],
            "image/png": "[encoded data removed]"
          },
          "metadata": {
            "needs_background": "light"
          }
        }
      ]
    },
    {
      "cell_type": "markdown",
      "source": [
        "Remove low importance columns"
      ],
      "metadata": {
        "id": "ic6LbeWIf2EQ"
      }
    },
    {
      "cell_type": "code",
      "source": [
        "to_keep = fi[fi.imp>0.0002].cols\n",
        "len(to_keep)"
      ],
      "metadata": {
        "id": "jaWtqZdQfwmy",
        "colab": {
          "base_uri": "https://localhost:8080/"
        },
        "outputId": "18df22e4-a54b-4764-d3b4-73a4e67a357e"
      },
      "execution_count": 132,
      "outputs": [
        {
          "output_type": "execute_result",
          "data": {
            "text/plain": [
              "16"
            ]
          },
          "metadata": {},
          "execution_count": 132
        }
      ]
    },
    {
      "cell_type": "code",
      "source": [
        "xs_imp = xs[to_keep]\n",
        "valid_xs_imp = valid_xs[to_keep]"
      ],
      "metadata": {
        "id": "KK47uCFsgAYv"
      },
      "execution_count": 133,
      "outputs": []
    },
    {
      "cell_type": "code",
      "source": [
        "m = randomForest(xs_imp, y)"
      ],
      "metadata": {
        "id": "GgFy875_gGp4"
      },
      "execution_count": 134,
      "outputs": []
    },
    {
      "cell_type": "code",
      "source": [
        "m_rmse(m, xs_imp, y), m_rmse(m, valid_xs_imp, valid_y)"
      ],
      "metadata": {
        "id": "5e5LZrqmgJf2",
        "colab": {
          "base_uri": "https://localhost:8080/"
        },
        "outputId": "ca990773-3b0d-49c6-d67a-97e53fc85a02"
      },
      "execution_count": 135,
      "outputs": [
        {
          "output_type": "execute_result",
          "data": {
            "text/plain": [
              "(10.476725, 11.313404)"
            ]
          },
          "metadata": {},
          "execution_count": 135
        }
      ]
    },
    {
      "cell_type": "code",
      "source": [
        "plot_fi(rf_feat_importance(m, xs_imp));"
      ],
      "metadata": {
        "id": "5Szx4cKsgKPL",
        "colab": {
          "base_uri": "https://localhost:8080/",
          "height": 428
        },
        "outputId": "0d0aebca-345e-4336-ec48-c566d43fe82a"
      },
      "execution_count": 136,
      "outputs": [
        {
          "output_type": "display_data",
          "data": {
            "text/plain": [
              "<Figure size 864x504 with 1 Axes>"
            ],
            "image/png": "[encoded data removed]"
          },
          "metadata": {
            "needs_background": "light"
          }
        }
      ]
    },
    {
      "cell_type": "code",
      "source": [
        "fastai.cluster_columns(xs_imp)"
      ],
      "metadata": {
        "id": "ZRqtok8LhwlR",
        "colab": {
          "base_uri": "https://localhost:8080/",
          "height": 374
        },
        "outputId": "48ac3907-30b9-42db-f960-874044e5edcc"
      },
      "execution_count": 137,
      "outputs": [
        {
          "output_type": "display_data",
          "data": {
            "text/plain": [
              "<Figure size 720x432 with 1 Axes>"
            ],
            "image/png": "[encoded data removed]"
          },
          "metadata": {
            "needs_background": "light"
          }
        }
      ]
    },
    {
      "cell_type": "markdown",
      "source": [
        "# Compute the Physics Model loss for the same interval:"
      ],
      "metadata": {
        "id": "Q-BM2Bkc_YgZ"
      }
    },
    {
      "cell_type": "code",
      "source": [
        "b = dfTrainsNextBeop.tail(14165)\n",
        "# beopValues = beopValues.to_frame().join(valid_y)\n",
        "#m_rmse(m, valid_xs_imp, valid_y)\n",
        "b = b.reset_index(drop=true)\n",
        "#print (b)\n",
        "y = valid_y.reset_index(drop=true)\n",
        "#print (y)\n",
        "df2  = pd.concat([b, y], axis=1)\n",
        "df2 = df2.dropna()\n",
        "print(df2)\n",
        "r_mse(df2['beopValue'], df2['nextValue'])\n",
        "# print(BeopValidations[:5])\n",
        "#print(valid_y[:5])"
      ],
      "metadata": {
        "colab": {
          "base_uri": "https://localhost:8080/"
        },
        "id": "9-wNLj6p9amP",
        "outputId": "57dfa719-be61-4723-81c8-dab3db1c18b3"
      },
      "execution_count": 138,
      "outputs": [
        {
          "output_type": "stream",
          "name": "stdout",
          "text": [
            "      beopValue   nextValue\n",
            "29    251.08168  763.099426\n",
            "31    259.43170  762.739319\n",
            "32    267.70798  765.718872\n",
            "33    277.82004  762.737183\n",
            "34    289.12732  762.737183\n",
            "...         ...         ...\n",
            "4937  223.15631  217.072906\n",
            "4938  208.90816  206.479767\n",
            "4939  200.92940  762.876770\n",
            "4940  274.30475  762.481689\n",
            "4941  290.27590  762.828735\n",
            "\n",
            "[2625 rows x 2 columns]\n"
          ]
        },
        {
          "output_type": "execute_result",
          "data": {
            "text/plain": [
              "211.304022"
            ]
          },
          "metadata": {},
          "execution_count": 138
        }
      ]
    },
    {
      "cell_type": "markdown",
      "source": [
        "# Finding Out-of-Domain Data\n",
        "Spot variables that are unique to the test set versus the training set"
      ],
      "metadata": {
        "id": "1N-rN5Y9BoHT"
      }
    },
    {
      "cell_type": "code",
      "source": [
        "df_dom = pd.concat([xs, valid_xs])\n",
        "is_valid = np.array([0]*len(xs) + [1]*len(valid_xs))\n",
        "\n",
        "m = randomForest(df_dom, is_valid)\n",
        "rf_feat_importance(m, df_dom)[:8]"
      ],
      "metadata": {
        "colab": {
          "base_uri": "https://localhost:8080/",
          "height": 300
        },
        "id": "qzU3ybMaBuOr",
        "outputId": "e26f75d1-294b-4c6b-d0f8-4372cd99b158"
      },
      "execution_count": 139,
      "outputs": [
        {
          "output_type": "execute_result",
          "data": {
            "text/plain": [
              "                                               cols       imp\n",
              "44       lastReportedPosition.positionTimeDayofyear  0.392456\n",
              "45         lastReportedPosition.positionTimeElapsed  0.363991\n",
              "41            lastReportedPosition.positionTimeWeek  0.106104\n",
              "4                                 trainId.trainDate  0.099759\n",
              "40           lastReportedPosition.positionTimeMonth  0.035278\n",
              "18  lastReportedPosition.positionTimeIs_quarter_end  0.001102\n",
              "42             lastReportedPosition.positionTimeDay  0.001055\n",
              "43       lastReportedPosition.positionTimeDayofweek  0.000254"
            ],
            "text/html": [
              "\n",
              "  <div id=\"df-88b09565-29bb-4609-b47b-374ba5f13be7\">\n",
              "    <div class=\"colab-df-container\">\n",
              "      <div>\n",
              "<style scoped>\n",
              "    .dataframe tbody tr th:only-of-type {\n",
              "        vertical-align: middle;\n",
              "    }\n",
              "\n",
              "    .dataframe tbody tr th {\n",
              "        vertical-align: top;\n",
              "    }\n",
              "\n",
              "    .dataframe thead th {\n",
              "        text-align: right;\n",
              "    }\n",
              "</style>\n",
              "<table border=\"1\" class=\"dataframe\">\n",
              "  <thead>\n",
              "    <tr style=\"text-align: right;\">\n",
              "      <th></th>\n",
              "      <th>cols</th>\n",
              "      <th>imp</th>\n",
              "    </tr>\n",
              "  </thead>\n",
              "  <tbody>\n",
              "    <tr>\n",
              "      <th>44</th>\n",
              "      <td>lastReportedPosition.positionTimeDayofyear</td>\n",
              "      <td>0.392456</td>\n",
              "    </tr>\n",
              "    <tr>\n",
              "      <th>45</th>\n",
              "      <td>lastReportedPosition.positionTimeElapsed</td>\n",
              "      <td>0.363991</td>\n",
              "    </tr>\n",
              "    <tr>\n",
              "      <th>41</th>\n",
              "      <td>lastReportedPosition.positionTimeWeek</td>\n",
              "      <td>0.106104</td>\n",
              "    </tr>\n",
              "    <tr>\n",
              "      <th>4</th>\n",
              "      <td>trainId.trainDate</td>\n",
              "      <td>0.099759</td>\n",
              "    </tr>\n",
              "    <tr>\n",
              "      <th>40</th>\n",
              "      <td>lastReportedPosition.positionTimeMonth</td>\n",
              "      <td>0.035278</td>\n",
              "    </tr>\n",
              "    <tr>\n",
              "      <th>18</th>\n",
              "      <td>lastReportedPosition.positionTimeIs_quarter_end</td>\n",
              "      <td>0.001102</td>\n",
              "    </tr>\n",
              "    <tr>\n",
              "      <th>42</th>\n",
              "      <td>lastReportedPosition.positionTimeDay</td>\n",
              "      <td>0.001055</td>\n",
              "    </tr>\n",
              "    <tr>\n",
              "      <th>43</th>\n",
              "      <td>lastReportedPosition.positionTimeDayofweek</td>\n",
              "      <td>0.000254</td>\n",
              "    </tr>\n",
              "  </tbody>\n",
              "</table>\n",
              "</div>\n",
              "      <button class=\"colab-df-convert\" onclick=\"convertToInteractive('df-88b09565-29bb-4609-b47b-374ba5f13be7')\"\n",
              "              title=\"Convert this dataframe to an interactive table.\"\n",
              "              style=\"display:none;\">\n",
              "        \n",
              "  <svg xmlns=\"http://www.w3.org/2000/svg\" height=\"24px\"viewBox=\"0 0 24 24\"\n",
              "       width=\"24px\">\n",
              "    <path d=\"M0 0h24v24H0V0z\" fill=\"none\"/>\n",
              "    <path d=\"M18.56 5.44l.94 2.06.94-2.06 2.06-.94-2.06-.94-.94-2.06-.94 2.06-2.06.94zm-11 1L8.5 8.5l.94-2.06 2.06-.94-2.06-.94L8.5 2.5l-.94 2.06-2.06.94zm10 10l.94 2.06.94-2.06 2.06-.94-2.06-.94-.94-2.06-.94 2.06-2.06.94z\"/><path d=\"M17.41 7.96l-1.37-1.37c-.4-.4-.92-.59-1.43-.59-.52 0-1.04.2-1.43.59L10.3 9.45l-7.72 7.72c-.78.78-.78 2.05 0 2.83L4 21.41c.39.39.9.59 1.41.59.51 0 1.02-.2 1.41-.59l7.78-7.78 2.81-2.81c.8-.78.8-2.07 0-2.86zM5.41 20L4 18.59l7.72-7.72 1.47 1.35L5.41 20z\"/>\n",
              "  </svg>\n",
              "      </button>\n",
              "      \n",
              "  <style>\n",
              "    .colab-df-container {\n",
              "      display:flex;\n",
              "      flex-wrap:wrap;\n",
              "      gap: 12px;\n",
              "    }\n",
              "\n",
              "    .colab-df-convert {\n",
              "      background-color: #E8F0FE;\n",
              "      border: none;\n",
              "      border-radius: 50%;\n",
              "      cursor: pointer;\n",
              "      display: none;\n",
              "      fill: #1967D2;\n",
              "      height: 32px;\n",
              "      padding: 0 0 0 0;\n",
              "      width: 32px;\n",
              "    }\n",
              "\n",
              "    .colab-df-convert:hover {\n",
              "      background-color: #E2EBFA;\n",
              "      box-shadow: 0px 1px 2px rgba(60, 64, 67, 0.3), 0px 1px 3px 1px rgba(60, 64, 67, 0.15);\n",
              "      fill: #174EA6;\n",
              "    }\n",
              "\n",
              "    [theme=dark] .colab-df-convert {\n",
              "      background-color: #3B4455;\n",
              "      fill: #D2E3FC;\n",
              "    }\n",
              "\n",
              "    [theme=dark] .colab-df-convert:hover {\n",
              "      background-color: #434B5C;\n",
              "      box-shadow: 0px 1px 3px 1px rgba(0, 0, 0, 0.15);\n",
              "      filter: drop-shadow(0px 1px 2px rgba(0, 0, 0, 0.3));\n",
              "      fill: #FFFFFF;\n",
              "    }\n",
              "  </style>\n",
              "\n",
              "      <script>\n",
              "        const buttonEl =\n",
              "          document.querySelector('#df-88b09565-29bb-4609-b47b-374ba5f13be7 button.colab-df-convert');\n",
              "        buttonEl.style.display =\n",
              "          google.colab.kernel.accessAllowed ? 'block' : 'none';\n",
              "\n",
              "        async function convertToInteractive(key) {\n",
              "          const element = document.querySelector('#df-88b09565-29bb-4609-b47b-374ba5f13be7');\n",
              "          const dataTable =\n",
              "            await google.colab.kernel.invokeFunction('convertToInteractive',\n",
              "                                                     [key], {});\n",
              "          if (!dataTable) return;\n",
              "\n",
              "          const docLinkHtml = 'Like what you see? Visit the ' +\n",
              "            '<a target=\"_blank\" href=https://colab.research.google.com/notebooks/data_table.ipynb>data table notebook</a>'\n",
              "            + ' to learn more about interactive tables.';\n",
              "          element.innerHTML = '';\n",
              "          dataTable['output_type'] = 'display_data';\n",
              "          await google.colab.output.renderOutput(dataTable, element);\n",
              "          const docLink = document.createElement('div');\n",
              "          docLink.innerHTML = docLinkHtml;\n",
              "          element.appendChild(docLink);\n",
              "        }\n",
              "      </script>\n",
              "    </div>\n",
              "  </div>\n",
              "  "
            ]
          },
          "metadata": {},
          "execution_count": 139
        }
      ]
    },
    {
      "cell_type": "markdown",
      "source": [
        "Consider whether these values make sense"
      ],
      "metadata": {
        "id": "wJPE_9WCLCPr"
      }
    },
    {
      "cell_type": "markdown",
      "source": [
        "#Using a Neural Net"
      ],
      "metadata": {
        "id": "K9TcqLvPKQJD"
      }
    },
    {
      "cell_type": "code",
      "source": [
        "df_nn_final = dfTrainsLearn"
      ],
      "metadata": {
        "id": "CrfcBKRXKqQ8"
      },
      "execution_count": 140,
      "outputs": []
    },
    {
      "cell_type": "code",
      "source": [
        "df_nn_final.info()"
      ],
      "metadata": {
        "id": "W87DbNmeMVsv",
        "colab": {
          "base_uri": "https://localhost:8080/"
        },
        "outputId": "7f77e787-3fc1-41b8-b085-d884dc486a1e"
      },
      "execution_count": 141,
      "outputs": [
        {
          "output_type": "stream",
          "name": "stdout",
          "text": [
            "<class 'pandas.core.frame.DataFrame'>\n",
            "Int64Index: 25675 entries, 38 to 38077\n",
            "Data columns (total 47 columns):\n",
            " #   Column                                                         Non-Null Count  Dtype         \n",
            "---  ------                                                         --------------  -----         \n",
            " 0   ptcLeadLocomotiveId                                            25675 non-null  object        \n",
            " 1   trainId.trainSCAC                                              25675 non-null  category      \n",
            " 2   trainId.trainSection                                           25675 non-null  category      \n",
            " 3   trainId.trainSymbol                                            25675 non-null  object        \n",
            " 4   trainId.trainDate                                              25675 non-null  datetime64[ns]\n",
            " 5   lastReportedPosition.speedMPH                                  25675 non-null  int64         \n",
            " 6   lastReportedPosition.milepostLocation.subdivisionId            25675 non-null  int64         \n",
            " 7   lastReportedPosition.milepostLocation.trackName                25675 non-null  category      \n",
            " 8   lastReportedPosition.milepostLocation.milepost.milepostNumber  25675 non-null  float64       \n",
            " 9   aotuTrainData.priorityCode                                     25675 non-null  category      \n",
            " 10  aotuTrainData.categoryCode                                     25675 non-null  category      \n",
            " 11  aotuTrainData.authorityRangeCode                               25675 non-null  category      \n",
            " 12  aotuTrainData.ownershipCode                                    25675 non-null  category      \n",
            " 13  aotuTrainData.totalCarWeight                                   25675 non-null  float64       \n",
            " 14  aotuTrainData.totalCarLength                                   25675 non-null  float64       \n",
            " 15  aotuTrainData.totalLocomotiveWeight                            25675 non-null  float64       \n",
            " 16  aotuTrainData.totalLocomotiveLength                            25675 non-null  float64       \n",
            " 17  aotuTrainData.actualTonsPerAxle                                25675 non-null  float64       \n",
            " 18  aotuTrainData.heavy143TonCarCount                              25675 non-null  float64       \n",
            " 19  aotuTrainData.heavy158TonCarCount                              25675 non-null  float64       \n",
            " 20  aotuTrainData.over158TonCarCount                               25675 non-null  float64       \n",
            " 21  aotuTrainData.highWideCarCount                                 25675 non-null  float64       \n",
            " 22  aotuTrainData.eventCode                                        25675 non-null  category      \n",
            " 23  maximumTrainSpeed                                              25675 non-null  float64       \n",
            " 24  loadedCarCount                                                 25675 non-null  float64       \n",
            " 25  emptyCarCount                                                  25675 non-null  float64       \n",
            " 26  trainLength                                                    25675 non-null  float64       \n",
            " 27  trailingTonnage                                                25675 non-null  float64       \n",
            " 28  milepost                                                       25675 non-null  int64         \n",
            " 29  mpIncr                                                         25675 non-null  bool          \n",
            " 30  symbolType                                                     25675 non-null  category      \n",
            " 31  workLocations                                                  22414 non-null  object        \n",
            " 32  locomotiveCount                                                25675 non-null  int64         \n",
            " 33  nextValue                                                      25675 non-null  float64       \n",
            " 34  lastReportedPosition.positionTimeYear                          25675 non-null  int64         \n",
            " 35  lastReportedPosition.positionTimeMonth                         25675 non-null  int64         \n",
            " 36  lastReportedPosition.positionTimeWeek                          25675 non-null  int64         \n",
            " 37  lastReportedPosition.positionTimeDay                           25675 non-null  int64         \n",
            " 38  lastReportedPosition.positionTimeDayofweek                     25675 non-null  int64         \n",
            " 39  lastReportedPosition.positionTimeDayofyear                     25675 non-null  int64         \n",
            " 40  lastReportedPosition.positionTimeIs_month_end                  25675 non-null  bool          \n",
            " 41  lastReportedPosition.positionTimeIs_month_start                25675 non-null  bool          \n",
            " 42  lastReportedPosition.positionTimeIs_quarter_end                25675 non-null  bool          \n",
            " 43  lastReportedPosition.positionTimeIs_quarter_start              25675 non-null  bool          \n",
            " 44  lastReportedPosition.positionTimeIs_year_end                   25675 non-null  bool          \n",
            " 45  lastReportedPosition.positionTimeIs_year_start                 25675 non-null  bool          \n",
            " 46  lastReportedPosition.positionTimeElapsed                       25675 non-null  float64       \n",
            "dtypes: bool(7), category(9), datetime64[ns](1), float64(17), int64(10), object(3)\n",
            "memory usage: 6.7+ MB\n"
          ]
        }
      ]
    },
    {
      "cell_type": "code",
      "source": [
        "cont_nn,cat_nn = cont_cat_split(df_nn_final, max_card=9000, dep_var=dep_var)"
      ],
      "metadata": {
        "id": "TpvoMKe1MNzg"
      },
      "execution_count": 142,
      "outputs": []
    },
    {
      "cell_type": "code",
      "source": [
        "cont_nn"
      ],
      "metadata": {
        "colab": {
          "base_uri": "https://localhost:8080/"
        },
        "id": "xef-YmKAMeHO",
        "outputId": "62280305-480f-40b1-8c34-6a4c6aee39c2"
      },
      "execution_count": 143,
      "outputs": [
        {
          "output_type": "execute_result",
          "data": {
            "text/plain": [
              "['lastReportedPosition.milepostLocation.milepost.milepostNumber',\n",
              " 'aotuTrainData.totalCarWeight',\n",
              " 'aotuTrainData.totalCarLength',\n",
              " 'aotuTrainData.totalLocomotiveWeight',\n",
              " 'aotuTrainData.totalLocomotiveLength',\n",
              " 'aotuTrainData.actualTonsPerAxle',\n",
              " 'aotuTrainData.heavy143TonCarCount',\n",
              " 'aotuTrainData.heavy158TonCarCount',\n",
              " 'aotuTrainData.over158TonCarCount',\n",
              " 'aotuTrainData.highWideCarCount',\n",
              " 'maximumTrainSpeed',\n",
              " 'loadedCarCount',\n",
              " 'emptyCarCount',\n",
              " 'trainLength',\n",
              " 'trailingTonnage',\n",
              " 'lastReportedPosition.positionTimeElapsed']"
            ]
          },
          "metadata": {},
          "execution_count": 143
        }
      ]
    },
    {
      "cell_type": "code",
      "source": [
        "numUniquePerCat = df_nn_final[cat_nn].nunique()\n",
        "with pd.option_context('display.max_rows', None, 'display.max_columns', None):  \n",
        "    print(numUniquePerCat)"
      ],
      "metadata": {
        "colab": {
          "base_uri": "https://localhost:8080/"
        },
        "id": "axfRjORJin9v",
        "outputId": "8e7fa1eb-fdae-46f5-9cc7-70c31677dc7c"
      },
      "execution_count": 144,
      "outputs": [
        {
          "output_type": "stream",
          "name": "stdout",
          "text": [
            "ptcLeadLocomotiveId                                    1455\n",
            "trainId.trainSCAC                                         2\n",
            "trainId.trainSection                                      4\n",
            "trainId.trainSymbol                                     368\n",
            "trainId.trainDate                                       102\n",
            "lastReportedPosition.speedMPH                            72\n",
            "lastReportedPosition.milepostLocation.subdivisionId       1\n",
            "lastReportedPosition.milepostLocation.trackName          40\n",
            "aotuTrainData.priorityCode                                5\n",
            "aotuTrainData.categoryCode                               13\n",
            "aotuTrainData.authorityRangeCode                          4\n",
            "aotuTrainData.ownershipCode                               3\n",
            "aotuTrainData.eventCode                                   1\n",
            "milepost                                                248\n",
            "mpIncr                                                    2\n",
            "symbolType                                               14\n",
            "workLocations                                            74\n",
            "locomotiveCount                                          11\n",
            "lastReportedPosition.positionTimeYear                     1\n",
            "lastReportedPosition.positionTimeMonth                    5\n",
            "lastReportedPosition.positionTimeWeek                    15\n",
            "lastReportedPosition.positionTimeDay                     31\n",
            "lastReportedPosition.positionTimeDayofweek                7\n",
            "lastReportedPosition.positionTimeDayofyear               97\n",
            "lastReportedPosition.positionTimeIs_month_end             2\n",
            "lastReportedPosition.positionTimeIs_month_start           2\n",
            "lastReportedPosition.positionTimeIs_quarter_end           2\n",
            "lastReportedPosition.positionTimeIs_quarter_start         2\n",
            "lastReportedPosition.positionTimeIs_year_end              1\n",
            "lastReportedPosition.positionTimeIs_year_start            1\n",
            "dtype: int64\n"
          ]
        }
      ]
    },
    {
      "cell_type": "code",
      "source": [
        "procs_nn = [Categorify, FillMissing, Normalize]\n",
        "to_nn = TabularPandas(df_nn_final, procs_nn, cat_nn, cont_nn,\n",
        "                      splits=splits, y_names=dep_var)"
      ],
      "metadata": {
        "id": "WNS5_jduj0Ft"
      },
      "execution_count": 145,
      "outputs": []
    },
    {
      "cell_type": "code",
      "source": [
        "dls = to_nn.dataloaders(1024)"
      ],
      "metadata": {
        "id": "HH0M0MH7kKQ-"
      },
      "execution_count": 146,
      "outputs": []
    },
    {
      "cell_type": "code",
      "source": [
        "y = to_nn.train.y\n",
        "y.min(),y.max()"
      ],
      "metadata": {
        "colab": {
          "base_uri": "https://localhost:8080/"
        },
        "id": "BPnKvYGKkRMf",
        "outputId": "b45f829d-6b03-4d7b-cbd0-1bdea77a3b84"
      },
      "execution_count": 147,
      "outputs": [
        {
          "output_type": "execute_result",
          "data": {
            "text/plain": [
              "(202.23622, 768.9734)"
            ]
          },
          "metadata": {},
          "execution_count": 147
        }
      ]
    },
    {
      "cell_type": "code",
      "source": [
        "learn = tabular_learner(dls, y_range=(202,768), layers=[500,250],\n",
        "                        n_out=1, loss_func=F.mse_loss)"
      ],
      "metadata": {
        "id": "XI0a_6T8kYCl"
      },
      "execution_count": 148,
      "outputs": []
    },
    {
      "cell_type": "code",
      "source": [
        "learn.lr_find()"
      ],
      "metadata": {
        "colab": {
          "base_uri": "https://localhost:8080/",
          "height": 300
        },
        "id": "-bG4DfIqkbyc",
        "outputId": "d9c7c1f9-5a59-4392-9274-d33575fc43de"
      },
      "execution_count": 149,
      "outputs": [
        {
          "output_type": "display_data",
          "data": {
            "text/plain": [
              "<IPython.core.display.HTML object>"
            ],
            "text/html": [
              "\n",
              "<style>\n",
              "    /* Turns off some styling */\n",
              "    progress {\n",
              "        /* gets rid of default border in Firefox and Opera. */\n",
              "        border: none;\n",
              "        /* Needs to be in here for Safari polyfill so background images work as expected. */\n",
              "        background-size: auto;\n",
              "    }\n",
              "    .progress-bar-interrupted, .progress-bar-interrupted::-webkit-progress-bar {\n",
              "        background: #F44336;\n",
              "    }\n",
              "</style>\n"
            ]
          },
          "metadata": {}
        },
        {
          "output_type": "display_data",
          "data": {
            "text/plain": [
              "<IPython.core.display.HTML object>"
            ],
            "text/html": [
              ""
            ]
          },
          "metadata": {}
        },
        {
          "output_type": "execute_result",
          "data": {
            "text/plain": [
              "SuggestedLRs(valley=0.0020892962347716093)"
            ]
          },
          "metadata": {},
          "execution_count": 149
        },
        {
          "output_type": "display_data",
          "data": {
            "text/plain": [
              "<Figure size 432x288 with 1 Axes>"
            ],
            "image/png": "[encoded data removed]"
          },
          "metadata": {
            "needs_background": "light"
          }
        }
      ]
    },
    {
      "cell_type": "code",
      "source": [
        "learn.fit_one_cycle(50, 1e-2)"
      ],
      "metadata": {
        "colab": {
          "base_uri": "https://localhost:8080/",
          "height": 1000
        },
        "id": "KtYc1ectkiZt",
        "outputId": "03492dd1-6539-4633-8a35-6dc4b2c00fb6"
      },
      "execution_count": 150,
      "outputs": [
        {
          "output_type": "display_data",
          "data": {
            "text/plain": [
              "<IPython.core.display.HTML object>"
            ],
            "text/html": [
              "\n",
              "<style>\n",
              "    /* Turns off some styling */\n",
              "    progress {\n",
              "        /* gets rid of default border in Firefox and Opera. */\n",
              "        border: none;\n",
              "        /* Needs to be in here for Safari polyfill so background images work as expected. */\n",
              "        background-size: auto;\n",
              "    }\n",
              "    .progress-bar-interrupted, .progress-bar-interrupted::-webkit-progress-bar {\n",
              "        background: #F44336;\n",
              "    }\n",
              "</style>\n"
            ]
          },
          "metadata": {}
        },
        {
          "output_type": "display_data",
          "data": {
            "text/plain": [
              "<IPython.core.display.HTML object>"
            ],
            "text/html": [
              "<table border=\"1\" class=\"dataframe\">\n",
              "  <thead>\n",
              "    <tr style=\"text-align: left;\">\n",
              "      <th>epoch</th>\n",
              "      <th>train_loss</th>\n",
              "      <th>valid_loss</th>\n",
              "      <th>time</th>\n",
              "    </tr>\n",
              "  </thead>\n",
              "  <tbody>\n",
              "    <tr>\n",
              "      <td>0</td>\n",
              "      <td>9202.725586</td>\n",
              "      <td>37941.589844</td>\n",
              "      <td>00:01</td>\n",
              "    </tr>\n",
              "    <tr>\n",
              "      <td>1</td>\n",
              "      <td>5089.104492</td>\n",
              "      <td>16724.791016</td>\n",
              "      <td>00:01</td>\n",
              "    </tr>\n",
              "    <tr>\n",
              "      <td>2</td>\n",
              "      <td>3672.104492</td>\n",
              "      <td>1542.775757</td>\n",
              "      <td>00:01</td>\n",
              "    </tr>\n",
              "    <tr>\n",
              "      <td>3</td>\n",
              "      <td>2968.332031</td>\n",
              "      <td>719.777100</td>\n",
              "      <td>00:01</td>\n",
              "    </tr>\n",
              "    <tr>\n",
              "      <td>4</td>\n",
              "      <td>2563.721191</td>\n",
              "      <td>1704.816284</td>\n",
              "      <td>00:01</td>\n",
              "    </tr>\n",
              "    <tr>\n",
              "      <td>5</td>\n",
              "      <td>2345.438477</td>\n",
              "      <td>1693.297241</td>\n",
              "      <td>00:02</td>\n",
              "    </tr>\n",
              "    <tr>\n",
              "      <td>6</td>\n",
              "      <td>1902.221313</td>\n",
              "      <td>1401.794067</td>\n",
              "      <td>00:01</td>\n",
              "    </tr>\n",
              "    <tr>\n",
              "      <td>7</td>\n",
              "      <td>1485.496338</td>\n",
              "      <td>1329.829468</td>\n",
              "      <td>00:01</td>\n",
              "    </tr>\n",
              "    <tr>\n",
              "      <td>8</td>\n",
              "      <td>1103.538940</td>\n",
              "      <td>1272.979980</td>\n",
              "      <td>00:01</td>\n",
              "    </tr>\n",
              "    <tr>\n",
              "      <td>9</td>\n",
              "      <td>841.110840</td>\n",
              "      <td>1218.635742</td>\n",
              "      <td>00:01</td>\n",
              "    </tr>\n",
              "    <tr>\n",
              "      <td>10</td>\n",
              "      <td>794.540466</td>\n",
              "      <td>1575.210205</td>\n",
              "      <td>00:01</td>\n",
              "    </tr>\n",
              "    <tr>\n",
              "      <td>11</td>\n",
              "      <td>789.110962</td>\n",
              "      <td>1542.704102</td>\n",
              "      <td>00:01</td>\n",
              "    </tr>\n",
              "    <tr>\n",
              "      <td>12</td>\n",
              "      <td>712.157532</td>\n",
              "      <td>1420.587402</td>\n",
              "      <td>00:01</td>\n",
              "    </tr>\n",
              "    <tr>\n",
              "      <td>13</td>\n",
              "      <td>579.359009</td>\n",
              "      <td>1201.730469</td>\n",
              "      <td>00:01</td>\n",
              "    </tr>\n",
              "    <tr>\n",
              "      <td>14</td>\n",
              "      <td>494.039246</td>\n",
              "      <td>1226.828857</td>\n",
              "      <td>00:01</td>\n",
              "    </tr>\n",
              "    <tr>\n",
              "      <td>15</td>\n",
              "      <td>433.438660</td>\n",
              "      <td>1305.917114</td>\n",
              "      <td>00:01</td>\n",
              "    </tr>\n",
              "    <tr>\n",
              "      <td>16</td>\n",
              "      <td>399.976257</td>\n",
              "      <td>1203.562134</td>\n",
              "      <td>00:01</td>\n",
              "    </tr>\n",
              "    <tr>\n",
              "      <td>17</td>\n",
              "      <td>384.279175</td>\n",
              "      <td>1240.996582</td>\n",
              "      <td>00:01</td>\n",
              "    </tr>\n",
              "    <tr>\n",
              "      <td>18</td>\n",
              "      <td>352.798035</td>\n",
              "      <td>1327.195312</td>\n",
              "      <td>00:01</td>\n",
              "    </tr>\n",
              "    <tr>\n",
              "      <td>19</td>\n",
              "      <td>333.411652</td>\n",
              "      <td>1189.509399</td>\n",
              "      <td>00:01</td>\n",
              "    </tr>\n",
              "    <tr>\n",
              "      <td>20</td>\n",
              "      <td>302.942108</td>\n",
              "      <td>1112.748657</td>\n",
              "      <td>00:01</td>\n",
              "    </tr>\n",
              "    <tr>\n",
              "      <td>21</td>\n",
              "      <td>284.714874</td>\n",
              "      <td>819.367065</td>\n",
              "      <td>00:01</td>\n",
              "    </tr>\n",
              "    <tr>\n",
              "      <td>22</td>\n",
              "      <td>313.763245</td>\n",
              "      <td>1211.704224</td>\n",
              "      <td>00:01</td>\n",
              "    </tr>\n",
              "    <tr>\n",
              "      <td>23</td>\n",
              "      <td>288.556427</td>\n",
              "      <td>1200.145630</td>\n",
              "      <td>00:01</td>\n",
              "    </tr>\n",
              "    <tr>\n",
              "      <td>24</td>\n",
              "      <td>268.039490</td>\n",
              "      <td>1142.204712</td>\n",
              "      <td>00:01</td>\n",
              "    </tr>\n",
              "    <tr>\n",
              "      <td>25</td>\n",
              "      <td>237.869614</td>\n",
              "      <td>1131.953857</td>\n",
              "      <td>00:01</td>\n",
              "    </tr>\n",
              "    <tr>\n",
              "      <td>26</td>\n",
              "      <td>243.518463</td>\n",
              "      <td>1169.221191</td>\n",
              "      <td>00:01</td>\n",
              "    </tr>\n",
              "    <tr>\n",
              "      <td>27</td>\n",
              "      <td>244.012848</td>\n",
              "      <td>1157.285767</td>\n",
              "      <td>00:01</td>\n",
              "    </tr>\n",
              "    <tr>\n",
              "      <td>28</td>\n",
              "      <td>230.530853</td>\n",
              "      <td>956.359253</td>\n",
              "      <td>00:01</td>\n",
              "    </tr>\n",
              "    <tr>\n",
              "      <td>29</td>\n",
              "      <td>211.517670</td>\n",
              "      <td>414.410706</td>\n",
              "      <td>00:01</td>\n",
              "    </tr>\n",
              "    <tr>\n",
              "      <td>30</td>\n",
              "      <td>185.159424</td>\n",
              "      <td>647.572632</td>\n",
              "      <td>00:01</td>\n",
              "    </tr>\n",
              "    <tr>\n",
              "      <td>31</td>\n",
              "      <td>188.921234</td>\n",
              "      <td>1057.614258</td>\n",
              "      <td>00:01</td>\n",
              "    </tr>\n",
              "    <tr>\n",
              "      <td>32</td>\n",
              "      <td>171.526093</td>\n",
              "      <td>1110.843384</td>\n",
              "      <td>00:01</td>\n",
              "    </tr>\n",
              "    <tr>\n",
              "      <td>33</td>\n",
              "      <td>155.721893</td>\n",
              "      <td>990.693298</td>\n",
              "      <td>00:01</td>\n",
              "    </tr>\n",
              "    <tr>\n",
              "      <td>34</td>\n",
              "      <td>141.405212</td>\n",
              "      <td>705.344543</td>\n",
              "      <td>00:01</td>\n",
              "    </tr>\n",
              "    <tr>\n",
              "      <td>35</td>\n",
              "      <td>149.308838</td>\n",
              "      <td>316.833344</td>\n",
              "      <td>00:01</td>\n",
              "    </tr>\n",
              "    <tr>\n",
              "      <td>36</td>\n",
              "      <td>133.880463</td>\n",
              "      <td>484.957153</td>\n",
              "      <td>00:01</td>\n",
              "    </tr>\n",
              "    <tr>\n",
              "      <td>37</td>\n",
              "      <td>117.801704</td>\n",
              "      <td>598.735291</td>\n",
              "      <td>00:01</td>\n",
              "    </tr>\n",
              "    <tr>\n",
              "      <td>38</td>\n",
              "      <td>106.107437</td>\n",
              "      <td>613.710144</td>\n",
              "      <td>00:01</td>\n",
              "    </tr>\n",
              "    <tr>\n",
              "      <td>39</td>\n",
              "      <td>97.465935</td>\n",
              "      <td>623.466064</td>\n",
              "      <td>00:01</td>\n",
              "    </tr>\n",
              "    <tr>\n",
              "      <td>40</td>\n",
              "      <td>88.688126</td>\n",
              "      <td>599.641052</td>\n",
              "      <td>00:01</td>\n",
              "    </tr>\n",
              "    <tr>\n",
              "      <td>41</td>\n",
              "      <td>81.194244</td>\n",
              "      <td>599.530945</td>\n",
              "      <td>00:01</td>\n",
              "    </tr>\n",
              "    <tr>\n",
              "      <td>42</td>\n",
              "      <td>75.969391</td>\n",
              "      <td>613.660339</td>\n",
              "      <td>00:01</td>\n",
              "    </tr>\n",
              "    <tr>\n",
              "      <td>43</td>\n",
              "      <td>69.638168</td>\n",
              "      <td>598.372070</td>\n",
              "      <td>00:01</td>\n",
              "    </tr>\n",
              "    <tr>\n",
              "      <td>44</td>\n",
              "      <td>67.429398</td>\n",
              "      <td>593.405640</td>\n",
              "      <td>00:01</td>\n",
              "    </tr>\n",
              "    <tr>\n",
              "      <td>45</td>\n",
              "      <td>66.834930</td>\n",
              "      <td>593.719360</td>\n",
              "      <td>00:01</td>\n",
              "    </tr>\n",
              "    <tr>\n",
              "      <td>46</td>\n",
              "      <td>62.687584</td>\n",
              "      <td>593.688904</td>\n",
              "      <td>00:01</td>\n",
              "    </tr>\n",
              "    <tr>\n",
              "      <td>47</td>\n",
              "      <td>58.705608</td>\n",
              "      <td>605.269958</td>\n",
              "      <td>00:01</td>\n",
              "    </tr>\n",
              "    <tr>\n",
              "      <td>48</td>\n",
              "      <td>57.283283</td>\n",
              "      <td>604.095154</td>\n",
              "      <td>00:01</td>\n",
              "    </tr>\n",
              "    <tr>\n",
              "      <td>49</td>\n",
              "      <td>56.895348</td>\n",
              "      <td>602.034790</td>\n",
              "      <td>00:01</td>\n",
              "    </tr>\n",
              "  </tbody>\n",
              "</table>"
            ]
          },
          "metadata": {}
        }
      ]
    },
    {
      "cell_type": "code",
      "source": [
        "preds,targs = learn.get_preds()\n",
        "print(r_mse(preds,targs))\n",
        "print(preds[:-10])\n",
        "print(targs[:-10])"
      ],
      "metadata": {
        "colab": {
          "base_uri": "https://localhost:8080/",
          "height": 277
        },
        "id": "eo1O3alWmiKj",
        "outputId": "aa622d14-7e59-4758-e2b9-c5c66463f93a"
      },
      "execution_count": 153,
      "outputs": [
        {
          "output_type": "display_data",
          "data": {
            "text/plain": [
              "<IPython.core.display.HTML object>"
            ],
            "text/html": [
              "\n",
              "<style>\n",
              "    /* Turns off some styling */\n",
              "    progress {\n",
              "        /* gets rid of default border in Firefox and Opera. */\n",
              "        border: none;\n",
              "        /* Needs to be in here for Safari polyfill so background images work as expected. */\n",
              "        background-size: auto;\n",
              "    }\n",
              "    .progress-bar-interrupted, .progress-bar-interrupted::-webkit-progress-bar {\n",
              "        background: #F44336;\n",
              "    }\n",
              "</style>\n"
            ]
          },
          "metadata": {}
        },
        {
          "output_type": "display_data",
          "data": {
            "text/plain": [
              "<IPython.core.display.HTML object>"
            ],
            "text/html": [
              ""
            ]
          },
          "metadata": {}
        },
        {
          "output_type": "stream",
          "name": "stdout",
          "text": [
            "24.536398\n",
            "tensor([[768.0000],\n",
            "        [768.0000],\n",
            "        [768.0000],\n",
            "        ...,\n",
            "        [227.2947],\n",
            "        [220.6282],\n",
            "        [214.9657]])\n",
            "tensor([[762.7287],\n",
            "        [762.7281],\n",
            "        [763.0924],\n",
            "        ...,\n",
            "        [219.8815],\n",
            "        [217.0729],\n",
            "        [206.4798]])\n"
          ]
        }
      ]
    }
  ],
  "metadata": {
    "colab": {
      "name": "MLModel1-2.ipynb",
      "provenance": [],
      "collapsed_sections": [],
      "include_colab_link": true
    },
    "interpreter": {
      "hash": "99fae7d265480b5fbb0cf965db398c4d2d7b17b55f6259418c7dbfe0de01ea90"
    },
    "kernelspec": {
      "display_name": "Python 3 (ipykernel)",
      "language": "python",
      "name": "python3"
    },
    "language_info": {
      "codemirror_mode": {
        "name": "ipython",
        "version": 3
      },
      "file_extension": ".py",
      "mimetype": "text/x-python",
      "name": "python",
      "nbconvert_exporter": "python",
      "pygments_lexer": "ipython3",
      "version": "3.9.12"
    }
  },
  "nbformat": 4,
  "nbformat_minor": 0
}