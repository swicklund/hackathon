{
  "cells": [
    {
      "cell_type": "markdown",
      "metadata": {
        "id": "view-in-github",
        "colab_type": "text"
      },
      "source": [
        "<a href=\"https://colab.research.google.com/github/swicklund/hackathon/blob/main/MLModel-90minutes.ipynb\" target=\"_parent\"><img src=\"https://colab.research.google.com/assets/colab-badge.svg\" alt=\"Open In Colab\"/></a>"
      ]
    },
    {
      "cell_type": "code",
      "execution_count": 1,
      "metadata": {
        "id": "f18J8QM17E0a",
        "colab": {
          "base_uri": "https://localhost:8080/"
        },
        "outputId": "649c04e2-a9b9-44e3-919b-c169705e10a9"
      },
      "outputs": [
        {
          "output_type": "stream",
          "name": "stdout",
          "text": [
            "Looking in indexes: https://pypi.org/simple, https://us-python.pkg.dev/colab-wheels/public/simple/\n",
            "Requirement already satisfied: dtreeviz in /usr/local/lib/python3.7/dist-packages (1.3.6)\n",
            "Requirement already satisfied: colour in /usr/local/lib/python3.7/dist-packages (from dtreeviz) (0.1.5)\n",
            "Requirement already satisfied: pandas in /usr/local/lib/python3.7/dist-packages (from dtreeviz) (1.3.5)\n",
            "Requirement already satisfied: numpy in /usr/local/lib/python3.7/dist-packages (from dtreeviz) (1.21.6)\n",
            "Requirement already satisfied: graphviz>=0.9 in /usr/local/lib/python3.7/dist-packages (from dtreeviz) (0.10.1)\n",
            "Requirement already satisfied: matplotlib in /usr/local/lib/python3.7/dist-packages (from dtreeviz) (3.2.2)\n",
            "Requirement already satisfied: pytest in /usr/local/lib/python3.7/dist-packages (from dtreeviz) (3.6.4)\n",
            "Requirement already satisfied: scikit-learn in /usr/local/lib/python3.7/dist-packages (from dtreeviz) (1.0.2)\n",
            "Requirement already satisfied: kiwisolver>=1.0.1 in /usr/local/lib/python3.7/dist-packages (from matplotlib->dtreeviz) (1.4.3)\n",
            "Requirement already satisfied: cycler>=0.10 in /usr/local/lib/python3.7/dist-packages (from matplotlib->dtreeviz) (0.11.0)\n",
            "Requirement already satisfied: python-dateutil>=2.1 in /usr/local/lib/python3.7/dist-packages (from matplotlib->dtreeviz) (2.8.2)\n",
            "Requirement already satisfied: pyparsing!=2.0.4,!=2.1.2,!=2.1.6,>=2.0.1 in /usr/local/lib/python3.7/dist-packages (from matplotlib->dtreeviz) (3.0.9)\n",
            "Requirement already satisfied: typing-extensions in /usr/local/lib/python3.7/dist-packages (from kiwisolver>=1.0.1->matplotlib->dtreeviz) (4.1.1)\n",
            "Requirement already satisfied: six>=1.5 in /usr/local/lib/python3.7/dist-packages (from python-dateutil>=2.1->matplotlib->dtreeviz) (1.15.0)\n",
            "Requirement already satisfied: pytz>=2017.3 in /usr/local/lib/python3.7/dist-packages (from pandas->dtreeviz) (2022.1)\n",
            "Requirement already satisfied: pluggy<0.8,>=0.5 in /usr/local/lib/python3.7/dist-packages (from pytest->dtreeviz) (0.7.1)\n",
            "Requirement already satisfied: atomicwrites>=1.0 in /usr/local/lib/python3.7/dist-packages (from pytest->dtreeviz) (1.4.0)\n",
            "Requirement already satisfied: setuptools in /usr/local/lib/python3.7/dist-packages (from pytest->dtreeviz) (57.4.0)\n",
            "Requirement already satisfied: more-itertools>=4.0.0 in /usr/local/lib/python3.7/dist-packages (from pytest->dtreeviz) (8.13.0)\n",
            "Requirement already satisfied: py>=1.5.0 in /usr/local/lib/python3.7/dist-packages (from pytest->dtreeviz) (1.11.0)\n",
            "Requirement already satisfied: attrs>=17.4.0 in /usr/local/lib/python3.7/dist-packages (from pytest->dtreeviz) (21.4.0)\n",
            "Requirement already satisfied: joblib>=0.11 in /usr/local/lib/python3.7/dist-packages (from scikit-learn->dtreeviz) (1.1.0)\n",
            "Requirement already satisfied: scipy>=1.1.0 in /usr/local/lib/python3.7/dist-packages (from scikit-learn->dtreeviz) (1.4.1)\n",
            "Requirement already satisfied: threadpoolctl>=2.0.0 in /usr/local/lib/python3.7/dist-packages (from scikit-learn->dtreeviz) (3.1.0)\n",
            "Updated property [core/project].\n"
          ]
        }
      ],
      "source": [
        "!pip install -Uqq fastbook\n",
        "!pip install dtreeviz\n",
        "!gcloud config set project {'hackathon-352519'}\n",
        "\n",
        "import os\n",
        "\n",
        "import IPython\n",
        "import IPython.display\n",
        "import matplotlib as mpl\n",
        "import matplotlib.pyplot as plt\n",
        "import numpy as np\n",
        "import fastbook as fastai\n",
        "import pandas as pd\n",
        "from pandas.io.json import json_normalize\n",
        "import seaborn as sns\n",
        "import tensorflow as tf\n",
        "import json\n",
        "import zipfile\n",
        "from io import BytesIO\n",
        "import torch\n",
        "import math\n",
        "from google.colab import files\n",
        "from google.colab import auth\n",
        "from datetime import datetime, timedelta\n",
        "\n",
        "fastai.setup_book()\n",
        "from fastai import tabular\n",
        "from pandas.api.types import is_string_dtype, is_numeric_dtype, is_categorical_dtype\n",
        "from fastai.tabular.all import *\n",
        "from sklearn.ensemble import RandomForestRegressor\n",
        "from sklearn.tree import DecisionTreeRegressor\n",
        "from dtreeviz.trees import *\n",
        "from IPython.display import Image, display_svg, SVG\n",
        "\n",
        "pd.options.display.max_rows = 20\n",
        "pd.options.display.max_columns = 8\n",
        "auth.authenticate_user()\n"
      ]
    },
    {
      "cell_type": "code",
      "source": [
        "#filename = \"train-data_all-train-events.zip\"\n",
        "#filename = \"train-data-2022062020220626.zip\"\n",
        "filename = \"train-events-20-min.zip\"\n",
        "#measurement = { 'unit' : 'miles', 'size' : 1.0 }\n",
        "measurement = { 'unit' : 'minutes', 'size' : 90.0 }"
      ],
      "metadata": {
        "id": "M3W7KKZc8f92"
      },
      "execution_count": 2,
      "outputs": []
    },
    {
      "cell_type": "code",
      "source": [
        "!gsutil cp gs://trains_data/$filename /tmp/."
      ],
      "metadata": {
        "id": "srQJL7OKVRww",
        "colab": {
          "base_uri": "https://localhost:8080/"
        },
        "outputId": "ecd4e8e7-f15b-4c97-b786-eba706bec916"
      },
      "execution_count": 3,
      "outputs": [
        {
          "output_type": "stream",
          "name": "stdout",
          "text": [
            "Copying gs://trains_data/train-events-20-min.zip...\n",
            "/ [1 files][ 40.7 MiB/ 40.7 MiB]                                                \n",
            "Operation completed over 1 objects/40.7 MiB.                                     \n"
          ]
        }
      ]
    },
    {
      "cell_type": "code",
      "execution_count": 4,
      "metadata": {
        "id": "ckXLQ7eQ7E0c",
        "colab": {
          "base_uri": "https://localhost:8080/"
        },
        "outputId": "f4b77486-a8d2-40cb-f90f-a92b13e78b59"
      },
      "outputs": [
        {
          "output_type": "stream",
          "name": "stdout",
          "text": [
            "1000   21:45:20\n",
            "2000   21:45:30\n",
            "3000   21:45:39\n",
            "4000   21:45:44\n",
            "5000   21:45:49\n",
            "6000   21:45:53\n"
          ]
        }
      ],
      "source": [
        "trains = {}\n",
        "i = 1\n",
        "with zipfile.ZipFile(\"/tmp/\"+filename, \"r\") as f:\n",
        "    for name in f.namelist():\n",
        "        if name.endswith('.json'):\n",
        "            with f.open(name) as zd:\n",
        "                data = json.load(zd)\n",
        "                lastTrainReporting = data['lastTrainReporting']\n",
        "                currentLoco = lastTrainReporting['ptcLeadLocomotiveId']\n",
        "                if (\"trainActualPositionList\" in lastTrainReporting and len(lastTrainReporting['trainActualPositionList']) > 0): \n",
        "                    trains[i] = pd.json_normalize(lastTrainReporting)\n",
        "                    i = i + 1\n",
        "                    if (i % 1000 == 0):\n",
        "                      print(i, \" \", datetime.now().strftime(\"%H:%M:%S\"))\n",
        "                            "
      ]
    },
    {
      "cell_type": "code",
      "execution_count": 5,
      "metadata": {
        "id": "lgWV768N7E0d"
      },
      "outputs": [],
      "source": [
        "dfTrainsAll = pd.concat(trains.values())\n",
        "dfTrainsAll[\"milepost\"] = dfTrainsAll.apply(lambda row: math.trunc(row['lastReportedPosition.milepostLocation.milepost.milepostNumber']), axis=1)"
      ]
    },
    {
      "cell_type": "code",
      "source": [
        "del trains"
      ],
      "metadata": {
        "id": "Q581UU9nCWZ1"
      },
      "execution_count": 6,
      "outputs": []
    },
    {
      "cell_type": "code",
      "execution_count": 7,
      "metadata": {
        "id": "Idznxze77E0e",
        "colab": {
          "base_uri": "https://localhost:8080/"
        },
        "outputId": "eba83afa-26d8-436d-a085-7a7be8938519"
      },
      "outputs": [
        {
          "output_type": "stream",
          "name": "stdout",
          "text": [
            "<class 'pandas.core.frame.DataFrame'>\n",
            "Int64Index: 6747 entries, 0 to 0\n",
            "Data columns (total 37 columns):\n",
            " #   Column                                                         Non-Null Count  Dtype  \n",
            "---  ------                                                         --------------  -----  \n",
            " 0   ptcLeadLocomotiveId                                            6747 non-null   object \n",
            " 1   positionHistoryList                                            6747 non-null   object \n",
            " 2   locomotiveList                                                 6747 non-null   object \n",
            " 3   subdivisionList                                                6747 non-null   object \n",
            " 4   trainEstimatedPositionList                                     6747 non-null   object \n",
            " 5   trainActualPositionList                                        6747 non-null   object \n",
            " 6   trainId.trainSCAC                                              6747 non-null   object \n",
            " 7   trainId.trainSection                                           6747 non-null   object \n",
            " 8   trainId.trainSymbol                                            6747 non-null   object \n",
            " 9   trainId.trainDate                                              6747 non-null   object \n",
            " 10  lastReportedPosition.positionTime                              6747 non-null   object \n",
            " 11  lastReportedPosition.speedMPH                                  6747 non-null   int64  \n",
            " 12  lastReportedPosition.milepostLocation.subdivisionId            6747 non-null   int64  \n",
            " 13  lastReportedPosition.milepostLocation.trackName                6747 non-null   object \n",
            " 14  lastReportedPosition.milepostLocation.milepost.milepostNumber  6747 non-null   float64\n",
            " 15  aotuTrainData.priorityCode                                     6531 non-null   float64\n",
            " 16  aotuTrainData.categoryCode                                     6531 non-null   float64\n",
            " 17  aotuTrainData.authorityRangeCode                               6531 non-null   float64\n",
            " 18  aotuTrainData.ownershipCode                                    6531 non-null   float64\n",
            " 19  aotuTrainData.tenantCarrier                                    6531 non-null   object \n",
            " 20  aotuTrainData.totalCarWeight                                   6531 non-null   float64\n",
            " 21  aotuTrainData.totalCarLength                                   6531 non-null   float64\n",
            " 22  aotuTrainData.totalLocomotiveWeight                            6531 non-null   float64\n",
            " 23  aotuTrainData.totalLocomotiveLength                            6531 non-null   float64\n",
            " 24  aotuTrainData.actualTonsPerAxle                                6531 non-null   float64\n",
            " 25  aotuTrainData.heavy143TonCarCount                              6531 non-null   float64\n",
            " 26  aotuTrainData.heavy158TonCarCount                              6531 non-null   float64\n",
            " 27  aotuTrainData.over158TonCarCount                               6531 non-null   float64\n",
            " 28  aotuTrainData.highWideCarCount                                 6531 non-null   float64\n",
            " 29  aotuTrainData.eventCode                                        6531 non-null   float64\n",
            " 30  aotuTrainData.routeLocationList                                6531 non-null   object \n",
            " 31  maximumTrainSpeed                                              6274 non-null   float64\n",
            " 32  loadedCarCount                                                 6274 non-null   float64\n",
            " 33  emptyCarCount                                                  6274 non-null   float64\n",
            " 34  trainLength                                                    6274 non-null   float64\n",
            " 35  trailingTonnage                                                6274 non-null   float64\n",
            " 36  milepost                                                       6747 non-null   int64  \n",
            "dtypes: float64(20), int64(3), object(14)\n",
            "memory usage: 2.0+ MB\n",
            "None\n",
            "(6747, 37)\n"
          ]
        }
      ],
      "source": [
        "print(dfTrainsAll.info())\n",
        "print(dfTrainsAll.shape)"
      ]
    },
    {
      "cell_type": "markdown",
      "source": [
        "# Create a learning set to modify"
      ],
      "metadata": {
        "id": "D2hF44lYkNIf"
      }
    },
    {
      "cell_type": "code",
      "source": [
        "dfTrainsLearn = dfTrainsAll"
      ],
      "metadata": {
        "id": "it2dDKRfbk0_"
      },
      "execution_count": 8,
      "outputs": []
    },
    {
      "cell_type": "markdown",
      "source": [
        "Clear the nan values and replace with max values."
      ],
      "metadata": {
        "id": "d5b2nVAbkR7M"
      }
    },
    {
      "cell_type": "code",
      "source": [
        "dfTrainsLearn['loadedCarCount'] =  dfTrainsLearn['loadedCarCount'].replace(np.nan, 999.)\n",
        "dfTrainsLearn['emptyCarCount'] =  dfTrainsLearn['emptyCarCount'].replace(np.nan, 999.)\n",
        "dfTrainsLearn['trainLength'] =  dfTrainsLearn['trainLength'].replace(np.nan, 99999.)\n",
        "dfTrainsLearn['trailingTonnage'] =  dfTrainsLearn['trailingTonnage'].replace(np.nan, 99999.)"
      ],
      "metadata": {
        "id": "jTMp9nMBZav1"
      },
      "execution_count": 9,
      "outputs": []
    },
    {
      "cell_type": "markdown",
      "source": [
        "Determine if the train is moving milepost Increasing or decreasing."
      ],
      "metadata": {
        "id": "2yxcbslMj-uZ"
      }
    },
    {
      "cell_type": "code",
      "source": [
        "dfTrainsLearn['mpIncr'] = dfTrainsLearn.apply(lambda row: row['lastReportedPosition.speedMPH'] >= 0, axis=1)"
      ],
      "metadata": {
        "id": "-XDkAezxjVGH"
      },
      "execution_count": 10,
      "outputs": []
    },
    {
      "cell_type": "markdown",
      "source": [
        "Make all speeds positive"
      ],
      "metadata": {
        "id": "_Nge0iAIkFTV"
      }
    },
    {
      "cell_type": "code",
      "source": [
        "dfTrainsLearn['lastReportedPosition.speedMPH']  = dfTrainsLearn.apply(lambda row: abs(row['lastReportedPosition.speedMPH']), axis=1)\n",
        "dfTrainsLearn['maximumTrainSpeed']  = dfTrainsLearn.apply(lambda row: abs(row['maximumTrainSpeed']), axis=1)"
      ],
      "metadata": {
        "id": "TjMlCKaoxbMw"
      },
      "execution_count": 11,
      "outputs": []
    },
    {
      "cell_type": "code",
      "source": [
        "print(\"Speed Distribution:\")\n",
        "dfTrainsLearn['lastReportedPosition.speedMPH'].hist(bins=90)"
      ],
      "metadata": {
        "id": "KWQaxYZ3yC1f",
        "colab": {
          "base_uri": "https://localhost:8080/",
          "height": 300
        },
        "outputId": "bb83453d-276d-4d79-bd61-e506e817c111"
      },
      "execution_count": 12,
      "outputs": [
        {
          "output_type": "stream",
          "name": "stdout",
          "text": [
            "Speed Distribution:\n"
          ]
        },
        {
          "output_type": "execute_result",
          "data": {
            "text/plain": [
              "<matplotlib.axes._subplots.AxesSubplot at 0x7fddcedd7d50>"
            ]
          },
          "metadata": {},
          "execution_count": 12
        },
        {
          "output_type": "display_data",
          "data": {
            "text/plain": [
              "<Figure size 432x288 with 1 Axes>"
            ],
            "image/png": "[encoded data removed]"
          },
          "metadata": {
            "needs_background": "light"
          }
        }
      ]
    },
    {
      "cell_type": "markdown",
      "source": [
        "Replace the NaN values in AOTU with zeros"
      ],
      "metadata": {
        "id": "hQ65ocjckk-s"
      }
    },
    {
      "cell_type": "code",
      "source": [
        "aotuColumns = [item for item in dfTrainsLearn.columns if item.startswith('aotu')]\n",
        "for column in aotuColumns:\n",
        "  dfTrainsLearn[column] =  dfTrainsLearn[column].replace(np.nan, 0.)"
      ],
      "metadata": {
        "id": "IjhK53fef5eG"
      },
      "execution_count": 13,
      "outputs": []
    },
    {
      "cell_type": "markdown",
      "source": [
        "Categorize the applicable variables"
      ],
      "metadata": {
        "id": "Skh2x30Ao2aj"
      }
    },
    {
      "cell_type": "code",
      "source": [
        "def categorize(aDataFrame, columnName, defaultReplacement):\n",
        "  aDataFrame[columnName] = aDataFrame[columnName].fillna(value=defaultReplacement)\n",
        "  categories = aDataFrame[columnName].unique()\n",
        "  print(aDataFrame[columnName].unique())\n",
        "  aDataFrame[columnName] = aDataFrame[columnName].astype('category')\n",
        "  aDataFrame[columnName] = aDataFrame[columnName].cat.set_categories(categories)\n",
        "  return aDataFrame"
      ],
      "metadata": {
        "id": "FPO5BUrpVl5t"
      },
      "execution_count": 14,
      "outputs": []
    },
    {
      "cell_type": "code",
      "source": [
        "dfTrainsLearn['symbolType'] = dfTrainsLearn.apply(lambda row: row['trainId.trainSymbol'][:1], axis=1)\n",
        "dfTrainsLearn = categorize(dfTrainsLearn, 'symbolType', \"X\")\n",
        "dfTrainsLearn = categorize(dfTrainsLearn, 'lastReportedPosition.milepostLocation.trackName', \"UNKNOWN\")\n",
        "dfTrainsLearn = categorize(dfTrainsLearn, 'trainId.trainSCAC',\"UNK\")\n",
        "dfTrainsLearn = categorize(dfTrainsLearn, 'trainId.trainSection', ' ')\n",
        "dfTrainsLearn = categorize(dfTrainsLearn, 'aotuTrainData.priorityCode', 0)  # may want to order these\n",
        "dfTrainsLearn = categorize(dfTrainsLearn, 'aotuTrainData.categoryCode', 0)\n",
        "dfTrainsLearn = categorize(dfTrainsLearn, 'aotuTrainData.authorityRangeCode', 0)\n",
        "dfTrainsLearn = categorize(dfTrainsLearn, 'aotuTrainData.ownershipCode', 0)\n",
        "dfTrainsLearn = categorize(dfTrainsLearn, 'aotuTrainData.tenantCarrier', \"0\")\n",
        "dfTrainsLearn = categorize(dfTrainsLearn, 'aotuTrainData.eventCode', 0)\n",
        " "
      ],
      "metadata": {
        "colab": {
          "base_uri": "https://localhost:8080/"
        },
        "id": "CKDKREgdNRGT",
        "outputId": "96420ddd-57e1-4fa4-f151-bbe0fb4b2463"
      },
      "execution_count": 15,
      "outputs": [
        {
          "output_type": "stream",
          "name": "stdout",
          "text": [
            "['A' 'Q' 'M' 'H' 'G' 'U' 'I' 'O' 'E' 'C' 'Y' 'L' 'Z' 'S' 'R' 'W']\n",
            "['TO_S_UP_MAINLINE' 'WEST MAIN' 'EAST MAIN' 'TO_N_EAST MAIN' 'MAIN' 'S_LUCAS' 'NEW LACY TRACK' 'MAIN CHAISON YARD' 'MT 2' 'MT 1' 'S_VIDOR' 'TO_S_VIDOR' 'TO_S_CS JUNCTION' 'S_HELME' 'EASTXO'\n",
            " 'TO_S_KCS UP PRT CONN' 'KCS UP PORT CONNECT' 'WESTXO' 'N SIDING' 'XO' 'TO_N_HELME' 'TO_N_CHAISON MAIN' 'TO_N_LUCAS' 'TO_N_STARKS' 'S_STARKS' 'S_MAURICEVILLE' 'TO_S_LUCAS' 'TO_N_MAURICEVILLE' 'YD LD'\n",
            " 'TO_N_VIDOR' 'S_FISHER' 'S_CONVERSE' 'S_ANACOCO' 'S_NEAME' 'S_LEESVILLE']\n",
            "['UP']\n",
            "['' '2' '3' '4' '5']\n",
            "[1. 2. 0. 4. 3.]\n",
            "[14. 12.  0.  9.  8. 10. 18. 15.  4. 20. 11.  2. 17. 16. 13. 19.]\n",
            "[2. 0. 3. 1.]\n",
            "[3. 0. 2.]\n",
            "['AMTK' 'BNSF' 0.0 '' 'KCS']\n",
            "[0.]\n"
          ]
        }
      ]
    },
    {
      "cell_type": "markdown",
      "source": [
        "Replace unknown max speeds with 88 miles per hour (to make them recognizable)"
      ],
      "metadata": {
        "id": "5fP9phXQlAXf"
      }
    },
    {
      "cell_type": "code",
      "source": [
        "dfTrainsLearn['maximumTrainSpeed'] =  dfTrainsLearn['maximumTrainSpeed'].replace(np.nan, 88.)\n",
        "print(dfTrainsLearn['maximumTrainSpeed'].unique())"
      ],
      "metadata": {
        "id": "ZTAgIeMJeHmz",
        "colab": {
          "base_uri": "https://localhost:8080/"
        },
        "outputId": "bc4b1cae-ac5b-4111-817a-8cc83a7c21ae"
      },
      "execution_count": 16,
      "outputs": [
        {
          "output_type": "stream",
          "name": "stdout",
          "text": [
            "[88. 50. 60. 70. 40. 45. 30.]\n"
          ]
        }
      ]
    },
    {
      "cell_type": "markdown",
      "source": [
        "Flatten out the work locations (we may want to change this for the NN algorithm)"
      ],
      "metadata": {
        "id": "Dv-loghjlK_w"
      }
    },
    {
      "cell_type": "code",
      "source": [
        "def getWorkLocations(dfTrainsLocation):\n",
        "  if isinstance(dfTrainsLocation['aotuTrainData.routeLocationList'], float):\n",
        "    return None\n",
        "  if len(dfTrainsLocation['aotuTrainData.routeLocationList']) == 0:\n",
        "    return None\n",
        "  aotuRoute=pd.json_normalize(dfTrainsLocation['aotuTrainData.routeLocationList']) \n",
        "  eventLocations = aotuRoute[aotuRoute['activityList'].map(len) > 1]\n",
        "  temp = eventLocations['milepost.milepostNumber'].unique()\n",
        "  if len(temp) == 0:\n",
        "    return None\n",
        "  return ','.join(['%.2f' % num for num in temp])"
      ],
      "metadata": {
        "id": "TsYgT41SKyAn"
      },
      "execution_count": 17,
      "outputs": []
    },
    {
      "cell_type": "code",
      "source": [
        "dfTrainsLearn['workLocations'] = dfTrainsLearn.apply(lambda row: getWorkLocations(row), axis=1)"
      ],
      "metadata": {
        "id": "5sNuNU-iSgFy"
      },
      "execution_count": 18,
      "outputs": []
    },
    {
      "cell_type": "code",
      "source": [
        "dfTrainsLearn['workLocations'].unique()"
      ],
      "metadata": {
        "id": "jA6cNsHR8VSr",
        "colab": {
          "base_uri": "https://localhost:8080/"
        },
        "outputId": "14381fd0-82b5-416b-cbf4-a0ce6336a874"
      },
      "execution_count": 19,
      "outputs": [
        {
          "output_type": "execute_result",
          "data": {
            "text/plain": [
              "array([None, '202.20', '225.10', '202.20,219.70', '202.20,258.40,321.50', '202.20,258.40', '219.70,202.20', '250.50,202.20', '258.40,202.20', '258.40,207.60,202.20', '321.50,202.20', '202.20,314.52',\n",
              "       '202.20,214.50,225.10,290.80,304.10', '214.50,225.10,290.80,304.10,202.20', '321.50,314.52,202.20', '258.40,219.70,202.20', '314.52,202.20', '257.60,202.20', '202.20,265.30',\n",
              "       '202.20,258.40,318.90,321.50', '202.20,219.70,258.40,321.50', '202.20,219.70,250.50,258.40,321.50', '258.40,214.50,202.20', '202.20,219.70,258.40', '225.10,202.20'], dtype=object)"
            ]
          },
          "metadata": {},
          "execution_count": 19
        }
      ]
    },
    {
      "cell_type": "markdown",
      "source": [
        "determine the locomotive count from the locomotive list.  We can make this more clever later, but for now this seems the most sensible shortcut"
      ],
      "metadata": {
        "id": "-AZiJPI24QO9"
      }
    },
    {
      "cell_type": "code",
      "source": [
        "dfTrainsLearn['locomotiveCount'] = dfTrainsLearn.apply(lambda row: len(row['locomotiveList']),axis = 1)"
      ],
      "metadata": {
        "id": "LuG8-GNBzwrF"
      },
      "execution_count": 20,
      "outputs": []
    },
    {
      "cell_type": "markdown",
      "source": [
        "Convert the list of actual reportings into a dataframe."
      ],
      "metadata": {
        "id": "Hbv-6WLkrqO2"
      }
    },
    {
      "cell_type": "code",
      "source": [
        "dfTrainsLearnActuals = dfTrainsLearn.apply(lambda row: pd.json_normalize(row['trainActualPositionList']), axis=1)"
      ],
      "metadata": {
        "id": "Ag-KbEfz4Is8"
      },
      "execution_count": 21,
      "outputs": []
    },
    {
      "cell_type": "code",
      "source": [
        "def showTrain(idx):\n",
        "  print(dfTrainsLearn.iloc[idx]['ptcLeadLocomotiveId'])\n",
        "  print(dfTrainsLearn.iloc[idx]['trainId.trainSymbol'])\n"
      ],
      "metadata": {
        "id": "ZuIVv8dvnIpG"
      },
      "execution_count": 22,
      "outputs": []
    },
    {
      "cell_type": "markdown",
      "source": [
        "You can peer into the incoming data here:"
      ],
      "metadata": {
        "id": "VLFBdKgPll2j"
      }
    },
    {
      "cell_type": "code",
      "source": [
        "idx = 201\n",
        "showTrain(idx)\n",
        "dfTrainsLearnActuals.iloc[idx]"
      ],
      "metadata": {
        "id": "r_gdrmU4IgpY",
        "colab": {
          "base_uri": "https://localhost:8080/",
          "height": 458
        },
        "outputId": "cf41b9f4-2fd7-4150-a2aa-11ef2a0a0fe6"
      },
      "execution_count": 23,
      "outputs": [
        {
          "output_type": "stream",
          "name": "stdout",
          "text": [
            "KCS4151\n",
            "MRNWAJ\n"
          ]
        },
        {
          "output_type": "execute_result",
          "data": {
            "text/plain": [
              "            positionTime  speedMPH  milepostLocation.subdivisionId  \\\n",
              "0   2022-07-01T02:21:09Z         0                             106   \n",
              "1   2022-07-01T02:23:09Z         0                             106   \n",
              "2   2022-07-01T02:25:09Z        -1                             106   \n",
              "3   2022-07-01T02:27:09Z        -5                             106   \n",
              "4   2022-07-01T02:29:09Z        -9                             106   \n",
              "..                   ...       ...                             ...   \n",
              "16  2022-07-01T02:53:09Z        -8                             106   \n",
              "17  2022-07-01T02:55:09Z        -7                             106   \n",
              "18  2022-07-01T02:57:09Z        -6                             106   \n",
              "19  2022-07-01T02:59:09Z        -4                             106   \n",
              "20  2022-07-01T03:01:09Z         0                             106   \n",
              "\n",
              "   milepostLocation.trackName  milepostLocation.milepost.milepostNumber  \n",
              "0                   WEST MAIN                                 766.24380  \n",
              "1                   WEST MAIN                                 766.24380  \n",
              "2              WEST MAIN-MAIN                                 766.19920  \n",
              "3              WEST MAIN-MAIN                                 766.11084  \n",
              "4                        MAIN                                 765.94490  \n",
              "..                        ...                                       ...  \n",
              "16                    S_VIDOR                                 761.16580  \n",
              "17                    S_VIDOR                                 760.92035  \n",
              "18                    S_VIDOR                                 760.67960  \n",
              "19                    S_VIDOR                                 760.45135  \n",
              "20                    S_VIDOR                                 760.42000  \n",
              "\n",
              "[21 rows x 5 columns]"
            ],
            "text/html": [
              "\n",
              "  <div id=\"df-97587419-e048-457a-a7af-5a4f8d17a32e\">\n",
              "    <div class=\"colab-df-container\">\n",
              "      <div>\n",
              "<style scoped>\n",
              "    .dataframe tbody tr th:only-of-type {\n",
              "        vertical-align: middle;\n",
              "    }\n",
              "\n",
              "    .dataframe tbody tr th {\n",
              "        vertical-align: top;\n",
              "    }\n",
              "\n",
              "    .dataframe thead th {\n",
              "        text-align: right;\n",
              "    }\n",
              "</style>\n",
              "<table border=\"1\" class=\"dataframe\">\n",
              "  <thead>\n",
              "    <tr style=\"text-align: right;\">\n",
              "      <th></th>\n",
              "      <th>positionTime</th>\n",
              "      <th>speedMPH</th>\n",
              "      <th>milepostLocation.subdivisionId</th>\n",
              "      <th>milepostLocation.trackName</th>\n",
              "      <th>milepostLocation.milepost.milepostNumber</th>\n",
              "    </tr>\n",
              "  </thead>\n",
              "  <tbody>\n",
              "    <tr>\n",
              "      <th>0</th>\n",
              "      <td>2022-07-01T02:21:09Z</td>\n",
              "      <td>0</td>\n",
              "      <td>106</td>\n",
              "      <td>WEST MAIN</td>\n",
              "      <td>766.24380</td>\n",
              "    </tr>\n",
              "    <tr>\n",
              "      <th>1</th>\n",
              "      <td>2022-07-01T02:23:09Z</td>\n",
              "      <td>0</td>\n",
              "      <td>106</td>\n",
              "      <td>WEST MAIN</td>\n",
              "      <td>766.24380</td>\n",
              "    </tr>\n",
              "    <tr>\n",
              "      <th>2</th>\n",
              "      <td>2022-07-01T02:25:09Z</td>\n",
              "      <td>-1</td>\n",
              "      <td>106</td>\n",
              "      <td>WEST MAIN-MAIN</td>\n",
              "      <td>766.19920</td>\n",
              "    </tr>\n",
              "    <tr>\n",
              "      <th>3</th>\n",
              "      <td>2022-07-01T02:27:09Z</td>\n",
              "      <td>-5</td>\n",
              "      <td>106</td>\n",
              "      <td>WEST MAIN-MAIN</td>\n",
              "      <td>766.11084</td>\n",
              "    </tr>\n",
              "    <tr>\n",
              "      <th>4</th>\n",
              "      <td>2022-07-01T02:29:09Z</td>\n",
              "      <td>-9</td>\n",
              "      <td>106</td>\n",
              "      <td>MAIN</td>\n",
              "      <td>765.94490</td>\n",
              "    </tr>\n",
              "    <tr>\n",
              "      <th>...</th>\n",
              "      <td>...</td>\n",
              "      <td>...</td>\n",
              "      <td>...</td>\n",
              "      <td>...</td>\n",
              "      <td>...</td>\n",
              "    </tr>\n",
              "    <tr>\n",
              "      <th>16</th>\n",
              "      <td>2022-07-01T02:53:09Z</td>\n",
              "      <td>-8</td>\n",
              "      <td>106</td>\n",
              "      <td>S_VIDOR</td>\n",
              "      <td>761.16580</td>\n",
              "    </tr>\n",
              "    <tr>\n",
              "      <th>17</th>\n",
              "      <td>2022-07-01T02:55:09Z</td>\n",
              "      <td>-7</td>\n",
              "      <td>106</td>\n",
              "      <td>S_VIDOR</td>\n",
              "      <td>760.92035</td>\n",
              "    </tr>\n",
              "    <tr>\n",
              "      <th>18</th>\n",
              "      <td>2022-07-01T02:57:09Z</td>\n",
              "      <td>-6</td>\n",
              "      <td>106</td>\n",
              "      <td>S_VIDOR</td>\n",
              "      <td>760.67960</td>\n",
              "    </tr>\n",
              "    <tr>\n",
              "      <th>19</th>\n",
              "      <td>2022-07-01T02:59:09Z</td>\n",
              "      <td>-4</td>\n",
              "      <td>106</td>\n",
              "      <td>S_VIDOR</td>\n",
              "      <td>760.45135</td>\n",
              "    </tr>\n",
              "    <tr>\n",
              "      <th>20</th>\n",
              "      <td>2022-07-01T03:01:09Z</td>\n",
              "      <td>0</td>\n",
              "      <td>106</td>\n",
              "      <td>S_VIDOR</td>\n",
              "      <td>760.42000</td>\n",
              "    </tr>\n",
              "  </tbody>\n",
              "</table>\n",
              "<p>21 rows × 5 columns</p>\n",
              "</div>\n",
              "      <button class=\"colab-df-convert\" onclick=\"convertToInteractive('df-97587419-e048-457a-a7af-5a4f8d17a32e')\"\n",
              "              title=\"Convert this dataframe to an interactive table.\"\n",
              "              style=\"display:none;\">\n",
              "        \n",
              "  <svg xmlns=\"http://www.w3.org/2000/svg\" height=\"24px\"viewBox=\"0 0 24 24\"\n",
              "       width=\"24px\">\n",
              "    <path d=\"M0 0h24v24H0V0z\" fill=\"none\"/>\n",
              "    <path d=\"M18.56 5.44l.94 2.06.94-2.06 2.06-.94-2.06-.94-.94-2.06-.94 2.06-2.06.94zm-11 1L8.5 8.5l.94-2.06 2.06-.94-2.06-.94L8.5 2.5l-.94 2.06-2.06.94zm10 10l.94 2.06.94-2.06 2.06-.94-2.06-.94-.94-2.06-.94 2.06-2.06.94z\"/><path d=\"M17.41 7.96l-1.37-1.37c-.4-.4-.92-.59-1.43-.59-.52 0-1.04.2-1.43.59L10.3 9.45l-7.72 7.72c-.78.78-.78 2.05 0 2.83L4 21.41c.39.39.9.59 1.41.59.51 0 1.02-.2 1.41-.59l7.78-7.78 2.81-2.81c.8-.78.8-2.07 0-2.86zM5.41 20L4 18.59l7.72-7.72 1.47 1.35L5.41 20z\"/>\n",
              "  </svg>\n",
              "      </button>\n",
              "      \n",
              "  <style>\n",
              "    .colab-df-container {\n",
              "      display:flex;\n",
              "      flex-wrap:wrap;\n",
              "      gap: 12px;\n",
              "    }\n",
              "\n",
              "    .colab-df-convert {\n",
              "      background-color: #E8F0FE;\n",
              "      border: none;\n",
              "      border-radius: 50%;\n",
              "      cursor: pointer;\n",
              "      display: none;\n",
              "      fill: #1967D2;\n",
              "      height: 32px;\n",
              "      padding: 0 0 0 0;\n",
              "      width: 32px;\n",
              "    }\n",
              "\n",
              "    .colab-df-convert:hover {\n",
              "      background-color: #E2EBFA;\n",
              "      box-shadow: 0px 1px 2px rgba(60, 64, 67, 0.3), 0px 1px 3px 1px rgba(60, 64, 67, 0.15);\n",
              "      fill: #174EA6;\n",
              "    }\n",
              "\n",
              "    [theme=dark] .colab-df-convert {\n",
              "      background-color: #3B4455;\n",
              "      fill: #D2E3FC;\n",
              "    }\n",
              "\n",
              "    [theme=dark] .colab-df-convert:hover {\n",
              "      background-color: #434B5C;\n",
              "      box-shadow: 0px 1px 3px 1px rgba(0, 0, 0, 0.15);\n",
              "      filter: drop-shadow(0px 1px 2px rgba(0, 0, 0, 0.3));\n",
              "      fill: #FFFFFF;\n",
              "    }\n",
              "  </style>\n",
              "\n",
              "      <script>\n",
              "        const buttonEl =\n",
              "          document.querySelector('#df-97587419-e048-457a-a7af-5a4f8d17a32e button.colab-df-convert');\n",
              "        buttonEl.style.display =\n",
              "          google.colab.kernel.accessAllowed ? 'block' : 'none';\n",
              "\n",
              "        async function convertToInteractive(key) {\n",
              "          const element = document.querySelector('#df-97587419-e048-457a-a7af-5a4f8d17a32e');\n",
              "          const dataTable =\n",
              "            await google.colab.kernel.invokeFunction('convertToInteractive',\n",
              "                                                     [key], {});\n",
              "          if (!dataTable) return;\n",
              "\n",
              "          const docLinkHtml = 'Like what you see? Visit the ' +\n",
              "            '<a target=\"_blank\" href=https://colab.research.google.com/notebooks/data_table.ipynb>data table notebook</a>'\n",
              "            + ' to learn more about interactive tables.';\n",
              "          element.innerHTML = '';\n",
              "          dataTable['output_type'] = 'display_data';\n",
              "          await google.colab.output.renderOutput(dataTable, element);\n",
              "          const docLink = document.createElement('div');\n",
              "          docLink.innerHTML = docLinkHtml;\n",
              "          element.appendChild(docLink);\n",
              "        }\n",
              "      </script>\n",
              "    </div>\n",
              "  </div>\n",
              "  "
            ]
          },
          "metadata": {},
          "execution_count": 23
        }
      ]
    },
    {
      "cell_type": "code",
      "source": [
        "dfTrainsBeop =  dfTrainsLearn[['lastReportedPosition.milepostLocation.milepost.milepostNumber','trainEstimatedPositionList']]\n",
        "dfTrainsBeop"
      ],
      "metadata": {
        "id": "1FsMwzd7xSLZ",
        "colab": {
          "base_uri": "https://localhost:8080/",
          "height": 676
        },
        "outputId": "23f66703-8185-4b30-d07f-fc8f5ae80c26"
      },
      "execution_count": 24,
      "outputs": [
        {
          "output_type": "execute_result",
          "data": {
            "text/plain": [
              "    lastReportedPosition.milepostLocation.milepost.milepostNumber  \\\n",
              "0                                                        764.8696   \n",
              "0                                                        764.8706   \n",
              "0                                                        766.9310   \n",
              "0                                                        764.8691   \n",
              "0                                                        766.9302   \n",
              "..                                                            ...   \n",
              "0                                                        290.7408   \n",
              "0                                                        293.2164   \n",
              "0                                                        294.0817   \n",
              "0                                                        305.3550   \n",
              "0                                                        317.9784   \n",
              "\n",
              "                                                                                                                                                                                                                                                                                                                                                                                                                                                                                                                                                                                                 trainEstimatedPositionList  \n",
              "0                                                                                                                                                                                                                                                                                                                                                                                                                                                                                                                                                                                                                        []  \n",
              "0                                                                                                                                                                                                                                                                                                                                                                                                                                                                                                                                                                                                                        []  \n",
              "0                                                                                                                                                                                                                                                                                                                                                                                                                                                                                                                                                                                                                        []  \n",
              "0                                                                                                                                                                                                                                                                                                                                                                                                                                                                                                                                                                                                                        []  \n",
              "0                                                                                                                                                                                                                                                                                                                                                                                                                                                                                                                                                                                                                        []  \n",
              "..                                                                                                                                                                                                                                                                                                                                                                                                                                                                                                                                                                                                                      ...  \n",
              "0   [{'positionTime': '2022-06-23T10:15:47Z', 'speedMPH': 12, 'milepostLocation': {'subdivisionId': 106, 'trackName': 'EASTXO', 'milepost': {'milepostNumber': 290.7408}}}, {'positionTime': '2022-06-23T10:17:47Z', 'speedMPH': 30, 'milepostLocation': {'subdivisionId': 106, 'trackName': 'EASTXO', 'milepost': {'milepostNumber': 291.4418}}}, {'positionTime': '2022-06-23T10:19:47Z', 'speedMPH': 40, 'milepostLocation': {'subdivisionId': 106, 'trackName': 'EASTXO', 'milepost': {'milepostNumber': 292.6651}}}, {'positionTime': '2022-06-23T10:21:47Z', 'speedMPH': 49, 'milepostLocation': {'subdivisionId':...  \n",
              "0                                                                                                                                                                                                                                                                                                                                                                                                                                                                                                                                                                                                                        []  \n",
              "0   [{'positionTime': '2022-06-23T11:17:23Z', 'speedMPH': 23, 'milepostLocation': {'subdivisionId': 106, 'trackName': 'MT 2', 'milepost': {'milepostNumber': 294.0817}}}, {'positionTime': '2022-06-23T11:19:23Z', 'speedMPH': 35, 'milepostLocation': {'subdivisionId': 106, 'trackName': 'MT 2', 'milepost': {'milepostNumber': 295.03876}}}, {'positionTime': '2022-06-23T11:21:23Z', 'speedMPH': 45, 'milepostLocation': {'subdivisionId': 106, 'trackName': 'MT 2', 'milepost': {'milepostNumber': 296.39496}}}, {'positionTime': '2022-06-23T11:23:23Z', 'speedMPH': 50, 'milepostLocation': {'subdivisionId': 106...  \n",
              "0   [{'positionTime': '2022-06-23T11:34:06Z', 'speedMPH': 48, 'milepostLocation': {'subdivisionId': 106, 'trackName': 'MT 1', 'milepost': {'milepostNumber': 305.355}}}, {'positionTime': '2022-06-23T11:36:06Z', 'speedMPH': 50, 'milepostLocation': {'subdivisionId': 106, 'trackName': 'MT 1', 'milepost': {'milepostNumber': 307.01364}}}, {'positionTime': '2022-06-23T11:38:06Z', 'speedMPH': 50, 'milepostLocation': {'subdivisionId': 106, 'trackName': 'MT 1', 'milepost': {'milepostNumber': 308.68835}}}, {'positionTime': '2022-06-23T11:40:06Z', 'speedMPH': 50, 'milepostLocation': {'subdivisionId': 106,...  \n",
              "0   [{'positionTime': '2022-06-23T11:50:16Z', 'speedMPH': 44, 'milepostLocation': {'subdivisionId': 106, 'trackName': 'MT 1', 'milepost': {'milepostNumber': 317.9784}}}, {'positionTime': '2022-06-23T11:52:16Z', 'speedMPH': 44, 'milepostLocation': {'subdivisionId': 106, 'trackName': 'MT 1', 'milepost': {'milepostNumber': 319.44662}}}, {'positionTime': '2022-06-23T11:54:16Z', 'speedMPH': 44, 'milepostLocation': {'subdivisionId': 106, 'trackName': 'MT 1', 'milepost': {'milepostNumber': 320.92197}}}, {'positionTime': '2022-06-23T11:56:16Z', 'speedMPH': 40, 'milepostLocation': {'subdivisionId': 106...  \n",
              "\n",
              "[6747 rows x 2 columns]"
            ],
            "text/html": [
              "\n",
              "  <div id=\"df-45f6b686-28de-4c13-9adc-ab8aebd0a1f3\">\n",
              "    <div class=\"colab-df-container\">\n",
              "      <div>\n",
              "<style scoped>\n",
              "    .dataframe tbody tr th:only-of-type {\n",
              "        vertical-align: middle;\n",
              "    }\n",
              "\n",
              "    .dataframe tbody tr th {\n",
              "        vertical-align: top;\n",
              "    }\n",
              "\n",
              "    .dataframe thead th {\n",
              "        text-align: right;\n",
              "    }\n",
              "</style>\n",
              "<table border=\"1\" class=\"dataframe\">\n",
              "  <thead>\n",
              "    <tr style=\"text-align: right;\">\n",
              "      <th></th>\n",
              "      <th>lastReportedPosition.milepostLocation.milepost.milepostNumber</th>\n",
              "      <th>trainEstimatedPositionList</th>\n",
              "    </tr>\n",
              "  </thead>\n",
              "  <tbody>\n",
              "    <tr>\n",
              "      <th>0</th>\n",
              "      <td>764.8696</td>\n",
              "      <td>[]</td>\n",
              "    </tr>\n",
              "    <tr>\n",
              "      <th>0</th>\n",
              "      <td>764.8706</td>\n",
              "      <td>[]</td>\n",
              "    </tr>\n",
              "    <tr>\n",
              "      <th>0</th>\n",
              "      <td>766.9310</td>\n",
              "      <td>[]</td>\n",
              "    </tr>\n",
              "    <tr>\n",
              "      <th>0</th>\n",
              "      <td>764.8691</td>\n",
              "      <td>[]</td>\n",
              "    </tr>\n",
              "    <tr>\n",
              "      <th>0</th>\n",
              "      <td>766.9302</td>\n",
              "      <td>[]</td>\n",
              "    </tr>\n",
              "    <tr>\n",
              "      <th>...</th>\n",
              "      <td>...</td>\n",
              "      <td>...</td>\n",
              "    </tr>\n",
              "    <tr>\n",
              "      <th>0</th>\n",
              "      <td>290.7408</td>\n",
              "      <td>[{'positionTime': '2022-06-23T10:15:47Z', 'speedMPH': 12, 'milepostLocation': {'subdivisionId': 106, 'trackName': 'EASTXO', 'milepost': {'milepostNumber': 290.7408}}}, {'positionTime': '2022-06-23T10:17:47Z', 'speedMPH': 30, 'milepostLocation': {'subdivisionId': 106, 'trackName': 'EASTXO', 'milepost': {'milepostNumber': 291.4418}}}, {'positionTime': '2022-06-23T10:19:47Z', 'speedMPH': 40, 'milepostLocation': {'subdivisionId': 106, 'trackName': 'EASTXO', 'milepost': {'milepostNumber': 292.6651}}}, {'positionTime': '2022-06-23T10:21:47Z', 'speedMPH': 49, 'milepostLocation': {'subdivisionId':...</td>\n",
              "    </tr>\n",
              "    <tr>\n",
              "      <th>0</th>\n",
              "      <td>293.2164</td>\n",
              "      <td>[]</td>\n",
              "    </tr>\n",
              "    <tr>\n",
              "      <th>0</th>\n",
              "      <td>294.0817</td>\n",
              "      <td>[{'positionTime': '2022-06-23T11:17:23Z', 'speedMPH': 23, 'milepostLocation': {'subdivisionId': 106, 'trackName': 'MT 2', 'milepost': {'milepostNumber': 294.0817}}}, {'positionTime': '2022-06-23T11:19:23Z', 'speedMPH': 35, 'milepostLocation': {'subdivisionId': 106, 'trackName': 'MT 2', 'milepost': {'milepostNumber': 295.03876}}}, {'positionTime': '2022-06-23T11:21:23Z', 'speedMPH': 45, 'milepostLocation': {'subdivisionId': 106, 'trackName': 'MT 2', 'milepost': {'milepostNumber': 296.39496}}}, {'positionTime': '2022-06-23T11:23:23Z', 'speedMPH': 50, 'milepostLocation': {'subdivisionId': 106...</td>\n",
              "    </tr>\n",
              "    <tr>\n",
              "      <th>0</th>\n",
              "      <td>305.3550</td>\n",
              "      <td>[{'positionTime': '2022-06-23T11:34:06Z', 'speedMPH': 48, 'milepostLocation': {'subdivisionId': 106, 'trackName': 'MT 1', 'milepost': {'milepostNumber': 305.355}}}, {'positionTime': '2022-06-23T11:36:06Z', 'speedMPH': 50, 'milepostLocation': {'subdivisionId': 106, 'trackName': 'MT 1', 'milepost': {'milepostNumber': 307.01364}}}, {'positionTime': '2022-06-23T11:38:06Z', 'speedMPH': 50, 'milepostLocation': {'subdivisionId': 106, 'trackName': 'MT 1', 'milepost': {'milepostNumber': 308.68835}}}, {'positionTime': '2022-06-23T11:40:06Z', 'speedMPH': 50, 'milepostLocation': {'subdivisionId': 106,...</td>\n",
              "    </tr>\n",
              "    <tr>\n",
              "      <th>0</th>\n",
              "      <td>317.9784</td>\n",
              "      <td>[{'positionTime': '2022-06-23T11:50:16Z', 'speedMPH': 44, 'milepostLocation': {'subdivisionId': 106, 'trackName': 'MT 1', 'milepost': {'milepostNumber': 317.9784}}}, {'positionTime': '2022-06-23T11:52:16Z', 'speedMPH': 44, 'milepostLocation': {'subdivisionId': 106, 'trackName': 'MT 1', 'milepost': {'milepostNumber': 319.44662}}}, {'positionTime': '2022-06-23T11:54:16Z', 'speedMPH': 44, 'milepostLocation': {'subdivisionId': 106, 'trackName': 'MT 1', 'milepost': {'milepostNumber': 320.92197}}}, {'positionTime': '2022-06-23T11:56:16Z', 'speedMPH': 40, 'milepostLocation': {'subdivisionId': 106...</td>\n",
              "    </tr>\n",
              "  </tbody>\n",
              "</table>\n",
              "<p>6747 rows × 2 columns</p>\n",
              "</div>\n",
              "      <button class=\"colab-df-convert\" onclick=\"convertToInteractive('df-45f6b686-28de-4c13-9adc-ab8aebd0a1f3')\"\n",
              "              title=\"Convert this dataframe to an interactive table.\"\n",
              "              style=\"display:none;\">\n",
              "        \n",
              "  <svg xmlns=\"http://www.w3.org/2000/svg\" height=\"24px\"viewBox=\"0 0 24 24\"\n",
              "       width=\"24px\">\n",
              "    <path d=\"M0 0h24v24H0V0z\" fill=\"none\"/>\n",
              "    <path d=\"M18.56 5.44l.94 2.06.94-2.06 2.06-.94-2.06-.94-.94-2.06-.94 2.06-2.06.94zm-11 1L8.5 8.5l.94-2.06 2.06-.94-2.06-.94L8.5 2.5l-.94 2.06-2.06.94zm10 10l.94 2.06.94-2.06 2.06-.94-2.06-.94-.94-2.06-.94 2.06-2.06.94z\"/><path d=\"M17.41 7.96l-1.37-1.37c-.4-.4-.92-.59-1.43-.59-.52 0-1.04.2-1.43.59L10.3 9.45l-7.72 7.72c-.78.78-.78 2.05 0 2.83L4 21.41c.39.39.9.59 1.41.59.51 0 1.02-.2 1.41-.59l7.78-7.78 2.81-2.81c.8-.78.8-2.07 0-2.86zM5.41 20L4 18.59l7.72-7.72 1.47 1.35L5.41 20z\"/>\n",
              "  </svg>\n",
              "      </button>\n",
              "      \n",
              "  <style>\n",
              "    .colab-df-container {\n",
              "      display:flex;\n",
              "      flex-wrap:wrap;\n",
              "      gap: 12px;\n",
              "    }\n",
              "\n",
              "    .colab-df-convert {\n",
              "      background-color: #E8F0FE;\n",
              "      border: none;\n",
              "      border-radius: 50%;\n",
              "      cursor: pointer;\n",
              "      display: none;\n",
              "      fill: #1967D2;\n",
              "      height: 32px;\n",
              "      padding: 0 0 0 0;\n",
              "      width: 32px;\n",
              "    }\n",
              "\n",
              "    .colab-df-convert:hover {\n",
              "      background-color: #E2EBFA;\n",
              "      box-shadow: 0px 1px 2px rgba(60, 64, 67, 0.3), 0px 1px 3px 1px rgba(60, 64, 67, 0.15);\n",
              "      fill: #174EA6;\n",
              "    }\n",
              "\n",
              "    [theme=dark] .colab-df-convert {\n",
              "      background-color: #3B4455;\n",
              "      fill: #D2E3FC;\n",
              "    }\n",
              "\n",
              "    [theme=dark] .colab-df-convert:hover {\n",
              "      background-color: #434B5C;\n",
              "      box-shadow: 0px 1px 3px 1px rgba(0, 0, 0, 0.15);\n",
              "      filter: drop-shadow(0px 1px 2px rgba(0, 0, 0, 0.3));\n",
              "      fill: #FFFFFF;\n",
              "    }\n",
              "  </style>\n",
              "\n",
              "      <script>\n",
              "        const buttonEl =\n",
              "          document.querySelector('#df-45f6b686-28de-4c13-9adc-ab8aebd0a1f3 button.colab-df-convert');\n",
              "        buttonEl.style.display =\n",
              "          google.colab.kernel.accessAllowed ? 'block' : 'none';\n",
              "\n",
              "        async function convertToInteractive(key) {\n",
              "          const element = document.querySelector('#df-45f6b686-28de-4c13-9adc-ab8aebd0a1f3');\n",
              "          const dataTable =\n",
              "            await google.colab.kernel.invokeFunction('convertToInteractive',\n",
              "                                                     [key], {});\n",
              "          if (!dataTable) return;\n",
              "\n",
              "          const docLinkHtml = 'Like what you see? Visit the ' +\n",
              "            '<a target=\"_blank\" href=https://colab.research.google.com/notebooks/data_table.ipynb>data table notebook</a>'\n",
              "            + ' to learn more about interactive tables.';\n",
              "          element.innerHTML = '';\n",
              "          dataTable['output_type'] = 'display_data';\n",
              "          await google.colab.output.renderOutput(dataTable, element);\n",
              "          const docLink = document.createElement('div');\n",
              "          docLink.innerHTML = docLinkHtml;\n",
              "          element.appendChild(docLink);\n",
              "        }\n",
              "      </script>\n",
              "    </div>\n",
              "  </div>\n",
              "  "
            ]
          },
          "metadata": {},
          "execution_count": 24
        }
      ]
    },
    {
      "cell_type": "markdown",
      "source": [
        "Renumber the list"
      ],
      "metadata": {
        "id": "lA_7_hJRr9RI"
      }
    },
    {
      "cell_type": "code",
      "source": [
        "dfTrainsLearn = dfTrainsLearn.reset_index(drop=True)"
      ],
      "metadata": {
        "id": "Kw_c3Ddj4zN4"
      },
      "execution_count": 25,
      "outputs": []
    },
    {
      "cell_type": "markdown",
      "source": [
        "# Determine NextMilepost\n",
        "This will be the value we are attempting to learn"
      ],
      "metadata": {
        "id": "M6ikvyh2mKvw"
      }
    },
    {
      "cell_type": "code",
      "source": [
        "def findNextTime(trainsEntry, actualsEntry, timeInMinutes):\n",
        "  #print(actualsEntry.iloc[4]['speedMPH'], \" - \",trainsEntry['lastReportedPosition.speedMPH'] )\n",
        "  idx = math.trunc(timeInMinutes // 2)\n",
        "  if (idx < len(actualsEntry)):\n",
        "    return (abs(actualsEntry.iloc[idx]['speedMPH']) - abs(trainsEntry['lastReportedPosition.speedMPH']))\n",
        "  return None"
      ],
      "metadata": {
        "id": "HsFWDlcWROcp"
      },
      "execution_count": 26,
      "outputs": []
    },
    {
      "cell_type": "code",
      "source": [
        "def findNextMilepost(trainsEntry, actualsEntry, distance):\n",
        "  currMilepost = trainsEntry['lastReportedPosition.milepostLocation.milepost.milepostNumber']\n",
        "  value  = actualsEntry.loc[actualsEntry['milepostLocation.milepost.milepostNumber'] > currMilepost + distance]\n",
        "  if (len(value) > 0) :\n",
        "    return value[value['milepostLocation.milepost.milepostNumber'] == value['milepostLocation.milepost.milepostNumber'].min()]\n",
        "  value  = actualsEntry.loc[actualsEntry['milepostLocation.milepost.milepostNumber'] < currMilepost - distance]\n",
        "  if (len(value) > 0):\n",
        "    return value[value['milepostLocation.milepost.milepostNumber'] == value['milepostLocation.milepost.milepostNumber'].max()]\n",
        "  return []"
      ],
      "metadata": {
        "id": "-gfZhQNSsxeV"
      },
      "execution_count": 27,
      "outputs": []
    },
    {
      "cell_type": "code",
      "source": [
        "def findNextSpeed(trainsEntry, actualsEntry):\n",
        "  if (measurement.get('unit') == 'miles'):\n",
        "    nextActual = findNextMilepost(trainsEntry, actualsEntry, measurement.get('size'))\n",
        "    if (nextActual != None and len(nextActual) > 0):\n",
        "      amt = (abs(nextActual.iloc[0]['speedMPH']) - abs(trainsEntry['lastReportedPosition.speedMPH']))\n",
        "      return amt;\n",
        "  elif (measurement.get('unit') == 'minutes'):\n",
        "    return findNextTime(trainsEntry, actualsEntry, measurement.get('size'))\n",
        "  else:\n",
        "    raise Exception('unknown measurement', measurement.get('unit'))    \n",
        "  return None"
      ],
      "metadata": {
        "id": "i_JszmqL0MR6"
      },
      "execution_count": 28,
      "outputs": []
    },
    {
      "cell_type": "markdown",
      "source": [
        "You can peer into the mechanics of a lookup here:"
      ],
      "metadata": {
        "id": "lzq_GLI5mdDk"
      }
    },
    {
      "cell_type": "code",
      "source": [
        "idx = 3291\n",
        "showTrain(idx)\n",
        "print(\"Reported speed: \", dfTrainsLearn.iloc[idx]['lastReportedPosition.speedMPH'])\n",
        "print(\"Reported MP: \", dfTrainsLearn.iloc[idx]['lastReportedPosition.milepostLocation.milepost.milepostNumber'])\n",
        "print(\"Reported Time: \", dfTrainsLearn.iloc[idx]['lastReportedPosition.positionTime'])\n",
        "\n",
        "nextActual = findNextMilepost(dfTrainsLearn.iloc[idx], dfTrainsLearnActuals.iloc[idx], 1)\n",
        "print(nextActual)\n",
        "nextActual = findNextTime(dfTrainsLearn.iloc[idx], dfTrainsLearnActuals.iloc[idx], 10)\n",
        "print(nextActual)\n",
        "\n",
        "nextSpeed = findNextSpeed(dfTrainsLearn.iloc[idx], dfTrainsLearnActuals.iloc[idx])\n",
        "print(\"actual speed: \",nextSpeed)\n",
        "beopJSON = dfTrainsBeop.iloc[idx]['trainEstimatedPositionList']\n",
        "if not type(beopJSON) is float and len(beopJSON) > 0:\n",
        "  beopDT = pd.json_normalize(beopJSON)\n",
        "  nextBeop = findNextMilepost(dfTrainsLearn.iloc[idx], beopDT, 1)\n",
        "  print(nextBeop)\n",
        "  type(dfTrainsBeop.iloc[idx]['trainEstimatedPositionList'])\n",
        "  print(\"beop speed: \")\n",
        "  value = findNextSpeed(dfTrainsLearn.iloc[idx], beopDT)\n",
        "  print(value)"
      ],
      "metadata": {
        "id": "F_hQFHKztIu-",
        "colab": {
          "base_uri": "https://localhost:8080/"
        },
        "outputId": "770aac3a-27c6-4678-c939-bf2ab8052edd"
      },
      "execution_count": 29,
      "outputs": [
        {
          "output_type": "stream",
          "name": "stdout",
          "text": [
            "UP6579\n",
            "CNAPW9\n",
            "Reported speed:  42\n",
            "Reported MP:  315.8773\n",
            "Reported Time:  2022-06-26T02:15:16Z\n",
            "           positionTime  speedMPH  milepostLocation.subdivisionId  \\\n",
            "0  2022-06-26T02:17:16Z       -43                             106   \n",
            "\n",
            "  milepostLocation.trackName  milepostLocation.milepost.milepostNumber  \n",
            "0                       MT 2                                 314.40375  \n",
            "8\n",
            "actual speed:  2\n",
            "           positionTime  speedMPH  milepostLocation.subdivisionId  \\\n",
            "1  2022-06-26T02:17:16Z       -44                             106   \n",
            "\n",
            "  milepostLocation.trackName  milepostLocation.milepost.milepostNumber  \n",
            "1                       MT 2                                  314.4466  \n",
            "beop speed: \n",
            "8\n"
          ]
        }
      ]
    },
    {
      "cell_type": "markdown",
      "source": [
        "Run the calulations.  This will take a moment."
      ],
      "metadata": {
        "id": "cWzMCn-tsE22"
      }
    },
    {
      "cell_type": "code",
      "source": [
        "dfTrainsLearn['nextSpeed'] = np.NaN\n",
        "dfTrainsLearn['nextBeop'] = np.NaN\n",
        "i = 0;\n",
        "for index, trainsEntry in dfTrainsLearn.iterrows():\n",
        "  nextSpeed = findNextSpeed(trainsEntry, dfTrainsLearnActuals.iloc[i])\n",
        "  if (nextSpeed != None):\n",
        "    dfTrainsLearn.at[i,'nextSpeed'] = nextSpeed\n",
        "  beopJSON = dfTrainsBeop.iloc[i]['trainEstimatedPositionList']\n",
        "  if not type(beopJSON) is float and len(beopJSON) > 0:\n",
        "    try:\n",
        "      beopDT = pd.json_normalize(beopJSON)\n",
        "      if (measurement.get('unit') == 'miles'):\n",
        "        nextBeop = findNextMilepost(trainsEntry, beopDT, measurement.get('size'))\n",
        "      elif (measurement.get('unit') == 'minutes'):\n",
        "        nextBeop = findNextTime(trainsEntry, beopDT, measurement.get('size'))\n",
        "      if (nextBeop != None):\n",
        "        dfTrainsLearn.at[i,'nextBeop'] = nextSpeed\n",
        "    except NotImplementedError:\n",
        "      print(type(beopJSON))\n",
        "    except KeyError:\n",
        "      print(beopJSON)\n",
        "  if (i % 1000 == 0):\n",
        "    print(i)\n",
        "  i = i + 1"
      ],
      "metadata": {
        "id": "fG2U-anX-jbt",
        "colab": {
          "base_uri": "https://localhost:8080/"
        },
        "outputId": "9a25adac-4a82-490e-9eda-1691171b61fa"
      },
      "execution_count": 30,
      "outputs": [
        {
          "output_type": "stream",
          "name": "stdout",
          "text": [
            "0\n",
            "1000\n",
            "2000\n",
            "3000\n",
            "4000\n",
            "5000\n",
            "6000\n"
          ]
        }
      ]
    },
    {
      "cell_type": "code",
      "source": [
        "dfTrainsLearn = dfTrainsLearn.dropna(subset=['nextSpeed'])\n",
        "dfTrainsLearn['nextSpeed'].unique()"
      ],
      "metadata": {
        "colab": {
          "base_uri": "https://localhost:8080/"
        },
        "id": "lQz8KQHM3SdN",
        "outputId": "a5dc8ea9-a4db-41d3-bcbf-5153048b0ad6"
      },
      "execution_count": 31,
      "outputs": [
        {
          "output_type": "execute_result",
          "data": {
            "text/plain": [
              "array([ -8., -28.,   0.,  35.,  38.,  41.,  24., -12.,  25.,  43.,   6.,  10.,  14.,  -4., -16., -45., -47., -17.,  -2.,  22., -41., -44., -36., -34.,  20.,  -3.,   8.,  12.,  -7., -11.,   9., -40.,\n",
              "       -33., -24.,   2.,  13.,  30.,  11.,   4.,   7.,  19.,  36.,  31.,   3.,  -9.,  34.,  50.,  15.,  37., -48., -32., -14., -35., -26.,  32., -38., -39., -18.,  40.,  46., -20., -42., -31., -37.,\n",
              "         1., -25.,  -1.,  48.,  23., -23., -63.,  -5.,  29.,  27., -10.,  42., -19.,  51.,   5., -46., -55.,  -6.,  18.,  49., -29., -13., -21., -15., -43.,  39., -30., -60., -53., -68., -70.,  44.,\n",
              "        69.,  16.,  28., -54., -59., -27.,  17.,  26.,  54.,  52.,  47., -22., -49., -50.,  33.,  53.,  58.,  60.,  57., -57.,  62.,  45.,  21.,  61., -51., -52.,  59.,  56., -58.,  67.,  55., -64.,\n",
              "        65., -62., -56.])"
            ]
          },
          "metadata": {},
          "execution_count": 31
        }
      ]
    },
    {
      "cell_type": "code",
      "source": [
        "print(\"NextSpeed values histogram:\")\n",
        "dfTrainsLearn['nextSpeed'].hist(bins=200)"
      ],
      "metadata": {
        "id": "IOWDvvGusUBm",
        "colab": {
          "base_uri": "https://localhost:8080/",
          "height": 300
        },
        "outputId": "c12d058c-e9ac-4467-e5a1-c9ba77307c08"
      },
      "execution_count": 32,
      "outputs": [
        {
          "output_type": "stream",
          "name": "stdout",
          "text": [
            "NextSpeed values histogram:\n"
          ]
        },
        {
          "output_type": "execute_result",
          "data": {
            "text/plain": [
              "<matplotlib.axes._subplots.AxesSubplot at 0x7fddf2de9050>"
            ]
          },
          "metadata": {},
          "execution_count": 32
        },
        {
          "output_type": "display_data",
          "data": {
            "text/plain": [
              "<Figure size 432x288 with 1 Axes>"
            ],
            "image/png": "[encoded data removed]"
          },
          "metadata": {
            "needs_background": "light"
          }
        }
      ]
    },
    {
      "cell_type": "code",
      "source": [
        "dfTrainsLearn['nextBeop'].unique()"
      ],
      "metadata": {
        "id": "bdSnFJoMWVrn",
        "colab": {
          "base_uri": "https://localhost:8080/"
        },
        "outputId": "1d8bd3ea-2409-416a-a64f-24fb9b491eed"
      },
      "execution_count": 33,
      "outputs": [
        {
          "output_type": "execute_result",
          "data": {
            "text/plain": [
              "array([ -8., -28.,  nan,  25.,   6.,  10.,  14.,  -4., -16., -45., -47., -17.,  -2.,  22., -41., -44., -36., -34.,  -3.,   8.,  -7., -40., -33., -24.,   2.,  13.,   0.,  36.,  31.,  -9., -48., -32.,\n",
              "       -14., -35., -26., -38., -39., -18.,  19.,   4., -20., -42., -31.,   9.,  30., -37.,   1., -25.,  41.,  -1.,  32.,  11., -23., -63.,  24.,   3.,  -5.,  29.,  27., -10., -19.,   5., -46., -55.,\n",
              "        -6.,  35.,  18., -29.,   7., -13., -21., -15., -43.,  39., -30., -60., -53., -68., -70.,  20., -11.,  16., -12.,  28.,  34., -54., -59.,  12., -27.,  17.,  26., -22., -49., -50.,  33., -57.,\n",
              "        23.,  45.,  15.,  21.,  38., -51., -52.,  51.,  43.,  40.,  44., -58.,  42., -64.,  37.,  55., -62.,  46., -56.])"
            ]
          },
          "metadata": {},
          "execution_count": 33
        }
      ]
    },
    {
      "cell_type": "code",
      "source": [
        "print(\"physics predictions histogram:\")\n",
        "dfTrainsLearn['nextBeop'].hist(bins=200)"
      ],
      "metadata": {
        "id": "K7WQR074WuDQ",
        "colab": {
          "base_uri": "https://localhost:8080/",
          "height": 300
        },
        "outputId": "98b80563-4691-4a57-d96b-967794614e3f"
      },
      "execution_count": 34,
      "outputs": [
        {
          "output_type": "stream",
          "name": "stdout",
          "text": [
            "physics predictions histogram:\n"
          ]
        },
        {
          "output_type": "execute_result",
          "data": {
            "text/plain": [
              "<matplotlib.axes._subplots.AxesSubplot at 0x7fddf9109cd0>"
            ]
          },
          "metadata": {},
          "execution_count": 34
        },
        {
          "output_type": "display_data",
          "data": {
            "text/plain": [
              "<Figure size 432x288 with 1 Axes>"
            ],
            "image/png": "[encoded data removed]"
          },
          "metadata": {
            "needs_background": "light"
          }
        }
      ]
    },
    {
      "cell_type": "code",
      "source": [
        "dfTrainsNextBeop = dfTrainsLearn['nextBeop']"
      ],
      "metadata": {
        "id": "k1sGN4n_2bDU"
      },
      "execution_count": 35,
      "outputs": []
    },
    {
      "cell_type": "markdown",
      "source": [
        "Drop some values we are not using at the moment, not needed.\n",
        "\n",
        "Note, this will disable above computations unless you resume at \"Create a learning set\""
      ],
      "metadata": {
        "id": "moXjNcMQu-3C"
      }
    },
    {
      "cell_type": "code",
      "source": [
        "dfTrainsLearn = dfTrainsLearn.drop(columns=['aotuTrainData.tenantCarrier',\n",
        "                                            'nextBeop',\n",
        "                                            'positionHistoryList',\n",
        "                                            'locomotiveList',\n",
        "                                            'subdivisionList',\n",
        "                                            'trainActualPositionList',\n",
        "                                            'trainEstimatedPositionList',\n",
        "                                            'aotuTrainData.routeLocationList'])"
      ],
      "metadata": {
        "id": "hBmsqv6IuVVO"
      },
      "execution_count": 36,
      "outputs": []
    },
    {
      "cell_type": "markdown",
      "source": [
        "Burst dates into subcolumns that might prove useful"
      ],
      "metadata": {
        "id": "22_dmiSmoYyq"
      }
    },
    {
      "cell_type": "code",
      "source": [
        "tabular.core.make_date(dfTrainsLearn, 'trainId.trainDate')\n",
        "tabular.core.make_date(dfTrainsLearn, 'lastReportedPosition.positionTime')\n",
        "tabular.core.add_datepart(dfTrainsLearn, 'lastReportedPosition.positionTime')\n",
        "# tabular.core.add_elapsed_times(dfTrainsLearn, 'lastReportedPosition.positionTime')\n"
      ],
      "metadata": {
        "id": "DjTAxScsbHCN",
        "colab": {
          "base_uri": "https://localhost:8080/",
          "height": 487
        },
        "outputId": "a25c6cf7-3bff-4f87-f155-92e627554520"
      },
      "execution_count": 37,
      "outputs": [
        {
          "output_type": "execute_result",
          "data": {
            "text/plain": [
              "     ptcLeadLocomotiveId trainId.trainSCAC trainId.trainSection  \\\n",
              "34              BNSF5833                UP                        \n",
              "35              BNSF5833                UP                        \n",
              "36              BNSF5833                UP                        \n",
              "37              BNSF5833                UP                        \n",
              "38              BNSF5833                UP                        \n",
              "...                  ...               ...                  ...   \n",
              "6738              UP9101                UP                        \n",
              "6739              UP9101                UP                        \n",
              "6740              UP9101                UP                        \n",
              "6741              UP9101                UP                        \n",
              "6742              UP9101                UP                        \n",
              "\n",
              "     trainId.trainSymbol  ...  \\\n",
              "34                 MNOEW  ...   \n",
              "35                 MNOEW  ...   \n",
              "36                 MNOEW  ...   \n",
              "37                 MNOEW  ...   \n",
              "38                 MNOEW  ...   \n",
              "...                  ...  ...   \n",
              "6738               MCHCB  ...   \n",
              "6739               MCHCB  ...   \n",
              "6740               MCHCB  ...   \n",
              "6741               MCHCB  ...   \n",
              "6742               MCHCB  ...   \n",
              "\n",
              "     lastReportedPosition.positionTimeIs_quarter_start  \\\n",
              "34                                               False   \n",
              "35                                               False   \n",
              "36                                               False   \n",
              "37                                               False   \n",
              "38                                               False   \n",
              "...                                                ...   \n",
              "6738                                             False   \n",
              "6739                                             False   \n",
              "6740                                             False   \n",
              "6741                                             False   \n",
              "6742                                             False   \n",
              "\n",
              "      lastReportedPosition.positionTimeIs_year_end  \\\n",
              "34                                           False   \n",
              "35                                           False   \n",
              "36                                           False   \n",
              "37                                           False   \n",
              "38                                           False   \n",
              "...                                            ...   \n",
              "6738                                         False   \n",
              "6739                                         False   \n",
              "6740                                         False   \n",
              "6741                                         False   \n",
              "6742                                         False   \n",
              "\n",
              "      lastReportedPosition.positionTimeIs_year_start  \\\n",
              "34                                             False   \n",
              "35                                             False   \n",
              "36                                             False   \n",
              "37                                             False   \n",
              "38                                             False   \n",
              "...                                              ...   \n",
              "6738                                           False   \n",
              "6739                                           False   \n",
              "6740                                           False   \n",
              "6741                                           False   \n",
              "6742                                           False   \n",
              "\n",
              "     lastReportedPosition.positionTimeElapsed  \n",
              "34                               1.655754e+09  \n",
              "35                               1.655755e+09  \n",
              "36                               1.655756e+09  \n",
              "37                               1.655757e+09  \n",
              "38                               1.655758e+09  \n",
              "...                                       ...  \n",
              "6738                             1.655975e+09  \n",
              "6739                             1.655976e+09  \n",
              "6740                             1.655977e+09  \n",
              "6741                             1.655978e+09  \n",
              "6742                             1.655979e+09  \n",
              "\n",
              "[3920 rows x 47 columns]"
            ],
            "text/html": [
              "\n",
              "  <div id=\"df-7c31a8c7-e117-4d07-9c58-bc03d41e09e8\">\n",
              "    <div class=\"colab-df-container\">\n",
              "      <div>\n",
              "<style scoped>\n",
              "    .dataframe tbody tr th:only-of-type {\n",
              "        vertical-align: middle;\n",
              "    }\n",
              "\n",
              "    .dataframe tbody tr th {\n",
              "        vertical-align: top;\n",
              "    }\n",
              "\n",
              "    .dataframe thead th {\n",
              "        text-align: right;\n",
              "    }\n",
              "</style>\n",
              "<table border=\"1\" class=\"dataframe\">\n",
              "  <thead>\n",
              "    <tr style=\"text-align: right;\">\n",
              "      <th></th>\n",
              "      <th>ptcLeadLocomotiveId</th>\n",
              "      <th>trainId.trainSCAC</th>\n",
              "      <th>trainId.trainSection</th>\n",
              "      <th>trainId.trainSymbol</th>\n",
              "      <th>...</th>\n",
              "      <th>lastReportedPosition.positionTimeIs_quarter_start</th>\n",
              "      <th>lastReportedPosition.positionTimeIs_year_end</th>\n",
              "      <th>lastReportedPosition.positionTimeIs_year_start</th>\n",
              "      <th>lastReportedPosition.positionTimeElapsed</th>\n",
              "    </tr>\n",
              "  </thead>\n",
              "  <tbody>\n",
              "    <tr>\n",
              "      <th>34</th>\n",
              "      <td>BNSF5833</td>\n",
              "      <td>UP</td>\n",
              "      <td></td>\n",
              "      <td>MNOEW</td>\n",
              "      <td>...</td>\n",
              "      <td>False</td>\n",
              "      <td>False</td>\n",
              "      <td>False</td>\n",
              "      <td>1.655754e+09</td>\n",
              "    </tr>\n",
              "    <tr>\n",
              "      <th>35</th>\n",
              "      <td>BNSF5833</td>\n",
              "      <td>UP</td>\n",
              "      <td></td>\n",
              "      <td>MNOEW</td>\n",
              "      <td>...</td>\n",
              "      <td>False</td>\n",
              "      <td>False</td>\n",
              "      <td>False</td>\n",
              "      <td>1.655755e+09</td>\n",
              "    </tr>\n",
              "    <tr>\n",
              "      <th>36</th>\n",
              "      <td>BNSF5833</td>\n",
              "      <td>UP</td>\n",
              "      <td></td>\n",
              "      <td>MNOEW</td>\n",
              "      <td>...</td>\n",
              "      <td>False</td>\n",
              "      <td>False</td>\n",
              "      <td>False</td>\n",
              "      <td>1.655756e+09</td>\n",
              "    </tr>\n",
              "    <tr>\n",
              "      <th>37</th>\n",
              "      <td>BNSF5833</td>\n",
              "      <td>UP</td>\n",
              "      <td></td>\n",
              "      <td>MNOEW</td>\n",
              "      <td>...</td>\n",
              "      <td>False</td>\n",
              "      <td>False</td>\n",
              "      <td>False</td>\n",
              "      <td>1.655757e+09</td>\n",
              "    </tr>\n",
              "    <tr>\n",
              "      <th>38</th>\n",
              "      <td>BNSF5833</td>\n",
              "      <td>UP</td>\n",
              "      <td></td>\n",
              "      <td>MNOEW</td>\n",
              "      <td>...</td>\n",
              "      <td>False</td>\n",
              "      <td>False</td>\n",
              "      <td>False</td>\n",
              "      <td>1.655758e+09</td>\n",
              "    </tr>\n",
              "    <tr>\n",
              "      <th>...</th>\n",
              "      <td>...</td>\n",
              "      <td>...</td>\n",
              "      <td>...</td>\n",
              "      <td>...</td>\n",
              "      <td>...</td>\n",
              "      <td>...</td>\n",
              "      <td>...</td>\n",
              "      <td>...</td>\n",
              "      <td>...</td>\n",
              "    </tr>\n",
              "    <tr>\n",
              "      <th>6738</th>\n",
              "      <td>UP9101</td>\n",
              "      <td>UP</td>\n",
              "      <td></td>\n",
              "      <td>MCHCB</td>\n",
              "      <td>...</td>\n",
              "      <td>False</td>\n",
              "      <td>False</td>\n",
              "      <td>False</td>\n",
              "      <td>1.655975e+09</td>\n",
              "    </tr>\n",
              "    <tr>\n",
              "      <th>6739</th>\n",
              "      <td>UP9101</td>\n",
              "      <td>UP</td>\n",
              "      <td></td>\n",
              "      <td>MCHCB</td>\n",
              "      <td>...</td>\n",
              "      <td>False</td>\n",
              "      <td>False</td>\n",
              "      <td>False</td>\n",
              "      <td>1.655976e+09</td>\n",
              "    </tr>\n",
              "    <tr>\n",
              "      <th>6740</th>\n",
              "      <td>UP9101</td>\n",
              "      <td>UP</td>\n",
              "      <td></td>\n",
              "      <td>MCHCB</td>\n",
              "      <td>...</td>\n",
              "      <td>False</td>\n",
              "      <td>False</td>\n",
              "      <td>False</td>\n",
              "      <td>1.655977e+09</td>\n",
              "    </tr>\n",
              "    <tr>\n",
              "      <th>6741</th>\n",
              "      <td>UP9101</td>\n",
              "      <td>UP</td>\n",
              "      <td></td>\n",
              "      <td>MCHCB</td>\n",
              "      <td>...</td>\n",
              "      <td>False</td>\n",
              "      <td>False</td>\n",
              "      <td>False</td>\n",
              "      <td>1.655978e+09</td>\n",
              "    </tr>\n",
              "    <tr>\n",
              "      <th>6742</th>\n",
              "      <td>UP9101</td>\n",
              "      <td>UP</td>\n",
              "      <td></td>\n",
              "      <td>MCHCB</td>\n",
              "      <td>...</td>\n",
              "      <td>False</td>\n",
              "      <td>False</td>\n",
              "      <td>False</td>\n",
              "      <td>1.655979e+09</td>\n",
              "    </tr>\n",
              "  </tbody>\n",
              "</table>\n",
              "<p>3920 rows × 47 columns</p>\n",
              "</div>\n",
              "      <button class=\"colab-df-convert\" onclick=\"convertToInteractive('df-7c31a8c7-e117-4d07-9c58-bc03d41e09e8')\"\n",
              "              title=\"Convert this dataframe to an interactive table.\"\n",
              "              style=\"display:none;\">\n",
              "        \n",
              "  <svg xmlns=\"http://www.w3.org/2000/svg\" height=\"24px\"viewBox=\"0 0 24 24\"\n",
              "       width=\"24px\">\n",
              "    <path d=\"M0 0h24v24H0V0z\" fill=\"none\"/>\n",
              "    <path d=\"M18.56 5.44l.94 2.06.94-2.06 2.06-.94-2.06-.94-.94-2.06-.94 2.06-2.06.94zm-11 1L8.5 8.5l.94-2.06 2.06-.94-2.06-.94L8.5 2.5l-.94 2.06-2.06.94zm10 10l.94 2.06.94-2.06 2.06-.94-2.06-.94-.94-2.06-.94 2.06-2.06.94z\"/><path d=\"M17.41 7.96l-1.37-1.37c-.4-.4-.92-.59-1.43-.59-.52 0-1.04.2-1.43.59L10.3 9.45l-7.72 7.72c-.78.78-.78 2.05 0 2.83L4 21.41c.39.39.9.59 1.41.59.51 0 1.02-.2 1.41-.59l7.78-7.78 2.81-2.81c.8-.78.8-2.07 0-2.86zM5.41 20L4 18.59l7.72-7.72 1.47 1.35L5.41 20z\"/>\n",
              "  </svg>\n",
              "      </button>\n",
              "      \n",
              "  <style>\n",
              "    .colab-df-container {\n",
              "      display:flex;\n",
              "      flex-wrap:wrap;\n",
              "      gap: 12px;\n",
              "    }\n",
              "\n",
              "    .colab-df-convert {\n",
              "      background-color: #E8F0FE;\n",
              "      border: none;\n",
              "      border-radius: 50%;\n",
              "      cursor: pointer;\n",
              "      display: none;\n",
              "      fill: #1967D2;\n",
              "      height: 32px;\n",
              "      padding: 0 0 0 0;\n",
              "      width: 32px;\n",
              "    }\n",
              "\n",
              "    .colab-df-convert:hover {\n",
              "      background-color: #E2EBFA;\n",
              "      box-shadow: 0px 1px 2px rgba(60, 64, 67, 0.3), 0px 1px 3px 1px rgba(60, 64, 67, 0.15);\n",
              "      fill: #174EA6;\n",
              "    }\n",
              "\n",
              "    [theme=dark] .colab-df-convert {\n",
              "      background-color: #3B4455;\n",
              "      fill: #D2E3FC;\n",
              "    }\n",
              "\n",
              "    [theme=dark] .colab-df-convert:hover {\n",
              "      background-color: #434B5C;\n",
              "      box-shadow: 0px 1px 3px 1px rgba(0, 0, 0, 0.15);\n",
              "      filter: drop-shadow(0px 1px 2px rgba(0, 0, 0, 0.3));\n",
              "      fill: #FFFFFF;\n",
              "    }\n",
              "  </style>\n",
              "\n",
              "      <script>\n",
              "        const buttonEl =\n",
              "          document.querySelector('#df-7c31a8c7-e117-4d07-9c58-bc03d41e09e8 button.colab-df-convert');\n",
              "        buttonEl.style.display =\n",
              "          google.colab.kernel.accessAllowed ? 'block' : 'none';\n",
              "\n",
              "        async function convertToInteractive(key) {\n",
              "          const element = document.querySelector('#df-7c31a8c7-e117-4d07-9c58-bc03d41e09e8');\n",
              "          const dataTable =\n",
              "            await google.colab.kernel.invokeFunction('convertToInteractive',\n",
              "                                                     [key], {});\n",
              "          if (!dataTable) return;\n",
              "\n",
              "          const docLinkHtml = 'Like what you see? Visit the ' +\n",
              "            '<a target=\"_blank\" href=https://colab.research.google.com/notebooks/data_table.ipynb>data table notebook</a>'\n",
              "            + ' to learn more about interactive tables.';\n",
              "          element.innerHTML = '';\n",
              "          dataTable['output_type'] = 'display_data';\n",
              "          await google.colab.output.renderOutput(dataTable, element);\n",
              "          const docLink = document.createElement('div');\n",
              "          docLink.innerHTML = docLinkHtml;\n",
              "          element.appendChild(docLink);\n",
              "        }\n",
              "      </script>\n",
              "    </div>\n",
              "  </div>\n",
              "  "
            ]
          },
          "metadata": {},
          "execution_count": 37
        }
      ]
    },
    {
      "cell_type": "code",
      "source": [
        "print(dfTrainsLearn.shape)\n",
        "print(dfTrainsLearnActuals.shape)\n",
        "\n",
        "print(dfTrainsLearn.info())\n",
        "print(dfTrainsLearn.iloc[10])"
      ],
      "metadata": {
        "id": "jTVXPBSQ2gp3",
        "colab": {
          "base_uri": "https://localhost:8080/"
        },
        "outputId": "6d501f38-d705-4e1c-a125-d7671ee3f3fd"
      },
      "execution_count": 38,
      "outputs": [
        {
          "output_type": "stream",
          "name": "stdout",
          "text": [
            "(3920, 47)\n",
            "(6747,)\n",
            "<class 'pandas.core.frame.DataFrame'>\n",
            "Int64Index: 3920 entries, 34 to 6742\n",
            "Data columns (total 47 columns):\n",
            " #   Column                                                         Non-Null Count  Dtype         \n",
            "---  ------                                                         --------------  -----         \n",
            " 0   ptcLeadLocomotiveId                                            3920 non-null   object        \n",
            " 1   trainId.trainSCAC                                              3920 non-null   category      \n",
            " 2   trainId.trainSection                                           3920 non-null   category      \n",
            " 3   trainId.trainSymbol                                            3920 non-null   object        \n",
            " 4   trainId.trainDate                                              3920 non-null   datetime64[ns]\n",
            " 5   lastReportedPosition.speedMPH                                  3920 non-null   int64         \n",
            " 6   lastReportedPosition.milepostLocation.subdivisionId            3920 non-null   int64         \n",
            " 7   lastReportedPosition.milepostLocation.trackName                3920 non-null   category      \n",
            " 8   lastReportedPosition.milepostLocation.milepost.milepostNumber  3920 non-null   float64       \n",
            " 9   aotuTrainData.priorityCode                                     3920 non-null   category      \n",
            " 10  aotuTrainData.categoryCode                                     3920 non-null   category      \n",
            " 11  aotuTrainData.authorityRangeCode                               3920 non-null   category      \n",
            " 12  aotuTrainData.ownershipCode                                    3920 non-null   category      \n",
            " 13  aotuTrainData.totalCarWeight                                   3920 non-null   float64       \n",
            " 14  aotuTrainData.totalCarLength                                   3920 non-null   float64       \n",
            " 15  aotuTrainData.totalLocomotiveWeight                            3920 non-null   float64       \n",
            " 16  aotuTrainData.totalLocomotiveLength                            3920 non-null   float64       \n",
            " 17  aotuTrainData.actualTonsPerAxle                                3920 non-null   float64       \n",
            " 18  aotuTrainData.heavy143TonCarCount                              3920 non-null   float64       \n",
            " 19  aotuTrainData.heavy158TonCarCount                              3920 non-null   float64       \n",
            " 20  aotuTrainData.over158TonCarCount                               3920 non-null   float64       \n",
            " 21  aotuTrainData.highWideCarCount                                 3920 non-null   float64       \n",
            " 22  aotuTrainData.eventCode                                        3920 non-null   category      \n",
            " 23  maximumTrainSpeed                                              3920 non-null   float64       \n",
            " 24  loadedCarCount                                                 3920 non-null   float64       \n",
            " 25  emptyCarCount                                                  3920 non-null   float64       \n",
            " 26  trainLength                                                    3920 non-null   float64       \n",
            " 27  trailingTonnage                                                3920 non-null   float64       \n",
            " 28  milepost                                                       3920 non-null   int64         \n",
            " 29  mpIncr                                                         3920 non-null   bool          \n",
            " 30  symbolType                                                     3920 non-null   category      \n",
            " 31  workLocations                                                  3411 non-null   object        \n",
            " 32  locomotiveCount                                                3920 non-null   int64         \n",
            " 33  nextSpeed                                                      3920 non-null   float64       \n",
            " 34  lastReportedPosition.positionTimeYear                          3920 non-null   int64         \n",
            " 35  lastReportedPosition.positionTimeMonth                         3920 non-null   int64         \n",
            " 36  lastReportedPosition.positionTimeWeek                          3920 non-null   int64         \n",
            " 37  lastReportedPosition.positionTimeDay                           3920 non-null   int64         \n",
            " 38  lastReportedPosition.positionTimeDayofweek                     3920 non-null   int64         \n",
            " 39  lastReportedPosition.positionTimeDayofyear                     3920 non-null   int64         \n",
            " 40  lastReportedPosition.positionTimeIs_month_end                  3920 non-null   bool          \n",
            " 41  lastReportedPosition.positionTimeIs_month_start                3920 non-null   bool          \n",
            " 42  lastReportedPosition.positionTimeIs_quarter_end                3920 non-null   bool          \n",
            " 43  lastReportedPosition.positionTimeIs_quarter_start              3920 non-null   bool          \n",
            " 44  lastReportedPosition.positionTimeIs_year_end                   3920 non-null   bool          \n",
            " 45  lastReportedPosition.positionTimeIs_year_start                 3920 non-null   bool          \n",
            " 46  lastReportedPosition.positionTimeElapsed                       3920 non-null   float64       \n",
            "dtypes: bool(7), category(9), datetime64[ns](1), float64(17), int64(10), object(3)\n",
            "memory usage: 1.0+ MB\n",
            "None\n",
            "ptcLeadLocomotiveId                                             BNSF5833\n",
            "trainId.trainSCAC                                                     UP\n",
            "trainId.trainSection                                                    \n",
            "trainId.trainSymbol                                                MNOEW\n",
            "trainId.trainDate                                    2022-06-19 00:00:00\n",
            "                                                            ...         \n",
            "lastReportedPosition.positionTimeIs_quarter_end                    False\n",
            "lastReportedPosition.positionTimeIs_quarter_start                  False\n",
            "lastReportedPosition.positionTimeIs_year_end                       False\n",
            "lastReportedPosition.positionTimeIs_year_start                     False\n",
            "lastReportedPosition.positionTimeElapsed                    1655765405.0\n",
            "Name: 44, Length: 47, dtype: object\n"
          ]
        }
      ]
    },
    {
      "cell_type": "markdown",
      "source": [
        "# Use Decision Tree to predict next speed"
      ],
      "metadata": {
        "id": "mg1p1vouBeIB"
      }
    },
    {
      "cell_type": "code",
      "source": [
        "procs = [tabular.core.Categorify, tabular.core.FillMissing]"
      ],
      "metadata": {
        "id": "F9TApkZWbAbz"
      },
      "execution_count": 39,
      "outputs": []
    },
    {
      "cell_type": "markdown",
      "source": [
        "Breakdown the data by day of year - we will train with older data and then test the model with newer values.\n",
        "Note: this simple logic will fail at the begining of a new year!"
      ],
      "metadata": {
        "id": "yjaTPkTntR7F"
      }
    },
    {
      "cell_type": "code",
      "source": [
        "dateValues = dfTrainsLearn.groupby(['lastReportedPosition.positionTimeDayofyear'])['lastReportedPosition.positionTimeDayofyear'].count()\n",
        "print(dateValues)"
      ],
      "metadata": {
        "id": "gDgYzofcvcpM",
        "colab": {
          "base_uri": "https://localhost:8080/"
        },
        "outputId": "ca65a11f-9d63-4838-e3c6-aa36a479f706"
      },
      "execution_count": 40,
      "outputs": [
        {
          "output_type": "stream",
          "name": "stdout",
          "text": [
            "lastReportedPosition.positionTimeDayofyear\n",
            "171    288\n",
            "172    285\n",
            "173    367\n",
            "174    508\n",
            "175    379\n",
            "176    352\n",
            "177    365\n",
            "178    340\n",
            "179    321\n",
            "180    329\n",
            "181    337\n",
            "182     49\n",
            "Name: lastReportedPosition.positionTimeDayofyear, dtype: int64\n"
          ]
        }
      ]
    },
    {
      "cell_type": "code",
      "source": [
        "print(\"We will partition this set at day of year:\", dateValues.index[math.trunc(dateValues.size * .66)])"
      ],
      "metadata": {
        "colab": {
          "base_uri": "https://localhost:8080/"
        },
        "id": "cJkyrhnpt2T2",
        "outputId": "cd5197f6-0206-4394-cec4-df6342e71bc6"
      },
      "execution_count": 41,
      "outputs": [
        {
          "output_type": "stream",
          "name": "stdout",
          "text": [
            "We will partition this set at day of year: 178\n"
          ]
        }
      ]
    },
    {
      "cell_type": "code",
      "source": [
        "cond = ( dfTrainsLearn['lastReportedPosition.positionTimeDayofyear'] <= dateValues.index[math.trunc(dateValues.size * .66)] )\n",
        "trainIdx = np.where(cond)[0]\n",
        "validIdx = np.where(~cond)[0]\n",
        "splits = (list(trainIdx), list(validIdx))"
      ],
      "metadata": {
        "id": "nIURJVe5vc_n"
      },
      "execution_count": 42,
      "outputs": []
    },
    {
      "cell_type": "code",
      "source": [
        "dep_var = 'nextSpeed'"
      ],
      "metadata": {
        "id": "rPW42wgnOLO_"
      },
      "execution_count": 43,
      "outputs": []
    },
    {
      "cell_type": "code",
      "source": [
        "cont,cat = tabular.core.cont_cat_split(dfTrainsLearn, 1, dep_var=dep_var)"
      ],
      "metadata": {
        "id": "gHDAeThzyzc6"
      },
      "execution_count": 44,
      "outputs": []
    },
    {
      "cell_type": "code",
      "source": [
        "to = tabular.core.TabularPandas(dfTrainsLearn, procs, cat, cont, y_names=dep_var, splits=splits)"
      ],
      "metadata": {
        "id": "xz1ZonvnO-I7"
      },
      "execution_count": 45,
      "outputs": []
    },
    {
      "cell_type": "code",
      "source": [
        "len(to.train),len(to.valid)"
      ],
      "metadata": {
        "id": "0DJly6_Z94uI",
        "colab": {
          "base_uri": "https://localhost:8080/"
        },
        "outputId": "3578ad39-e33c-4d7d-cc45-9f5131149c32"
      },
      "execution_count": 46,
      "outputs": [
        {
          "output_type": "execute_result",
          "data": {
            "text/plain": [
              "(2884, 1036)"
            ]
          },
          "metadata": {},
          "execution_count": 46
        }
      ]
    },
    {
      "cell_type": "code",
      "source": [
        "to.show()"
      ],
      "metadata": {
        "id": "xoEQAME4-n0M",
        "colab": {
          "base_uri": "https://localhost:8080/",
          "height": 383
        },
        "outputId": "58862dc4-f889-495b-e942-0440e793cc2d"
      },
      "execution_count": 47,
      "outputs": [
        {
          "output_type": "display_data",
          "data": {
            "text/plain": [
              "<IPython.core.display.HTML object>"
            ],
            "text/html": [
              "<table border=\"1\" class=\"dataframe\">\n",
              "  <thead>\n",
              "    <tr style=\"text-align: right;\">\n",
              "      <th></th>\n",
              "      <th>ptcLeadLocomotiveId</th>\n",
              "      <th>trainId.trainSCAC</th>\n",
              "      <th>trainId.trainSection</th>\n",
              "      <th>trainId.trainSymbol</th>\n",
              "      <th>trainId.trainDate</th>\n",
              "      <th>lastReportedPosition.milepostLocation.subdivisionId</th>\n",
              "      <th>lastReportedPosition.milepostLocation.trackName</th>\n",
              "      <th>aotuTrainData.priorityCode</th>\n",
              "      <th>aotuTrainData.categoryCode</th>\n",
              "      <th>aotuTrainData.authorityRangeCode</th>\n",
              "      <th>aotuTrainData.ownershipCode</th>\n",
              "      <th>aotuTrainData.eventCode</th>\n",
              "      <th>mpIncr</th>\n",
              "      <th>symbolType</th>\n",
              "      <th>workLocations</th>\n",
              "      <th>lastReportedPosition.positionTimeYear</th>\n",
              "      <th>lastReportedPosition.positionTimeIs_month_end</th>\n",
              "      <th>lastReportedPosition.positionTimeIs_month_start</th>\n",
              "      <th>lastReportedPosition.positionTimeIs_quarter_end</th>\n",
              "      <th>lastReportedPosition.positionTimeIs_quarter_start</th>\n",
              "      <th>lastReportedPosition.positionTimeIs_year_end</th>\n",
              "      <th>lastReportedPosition.positionTimeIs_year_start</th>\n",
              "      <th>lastReportedPosition.speedMPH</th>\n",
              "      <th>lastReportedPosition.milepostLocation.milepost.milepostNumber</th>\n",
              "      <th>aotuTrainData.totalCarWeight</th>\n",
              "      <th>aotuTrainData.totalCarLength</th>\n",
              "      <th>aotuTrainData.totalLocomotiveWeight</th>\n",
              "      <th>aotuTrainData.totalLocomotiveLength</th>\n",
              "      <th>aotuTrainData.actualTonsPerAxle</th>\n",
              "      <th>aotuTrainData.heavy143TonCarCount</th>\n",
              "      <th>aotuTrainData.heavy158TonCarCount</th>\n",
              "      <th>aotuTrainData.over158TonCarCount</th>\n",
              "      <th>aotuTrainData.highWideCarCount</th>\n",
              "      <th>maximumTrainSpeed</th>\n",
              "      <th>loadedCarCount</th>\n",
              "      <th>emptyCarCount</th>\n",
              "      <th>trainLength</th>\n",
              "      <th>trailingTonnage</th>\n",
              "      <th>milepost</th>\n",
              "      <th>locomotiveCount</th>\n",
              "      <th>lastReportedPosition.positionTimeMonth</th>\n",
              "      <th>lastReportedPosition.positionTimeWeek</th>\n",
              "      <th>lastReportedPosition.positionTimeDay</th>\n",
              "      <th>lastReportedPosition.positionTimeDayofweek</th>\n",
              "      <th>lastReportedPosition.positionTimeDayofyear</th>\n",
              "      <th>lastReportedPosition.positionTimeElapsed</th>\n",
              "      <th>nextSpeed</th>\n",
              "    </tr>\n",
              "  </thead>\n",
              "  <tbody>\n",
              "    <tr>\n",
              "      <th>34</th>\n",
              "      <td>BNSF5833</td>\n",
              "      <td>UP</td>\n",
              "      <td></td>\n",
              "      <td>MNOEW</td>\n",
              "      <td>2022-06-19</td>\n",
              "      <td>106</td>\n",
              "      <td>MAIN</td>\n",
              "      <td>4.0</td>\n",
              "      <td>12.0</td>\n",
              "      <td>2.0</td>\n",
              "      <td>2.0</td>\n",
              "      <td>0.0</td>\n",
              "      <td>True</td>\n",
              "      <td>M</td>\n",
              "      <td>#na#</td>\n",
              "      <td>2022</td>\n",
              "      <td>False</td>\n",
              "      <td>False</td>\n",
              "      <td>False</td>\n",
              "      <td>False</td>\n",
              "      <td>False</td>\n",
              "      <td>False</td>\n",
              "      <td>8</td>\n",
              "      <td>720.410889</td>\n",
              "      <td>100343000.0</td>\n",
              "      <td>857270.0</td>\n",
              "      <td>4200000.0</td>\n",
              "      <td>8780.0</td>\n",
              "      <td>65535.0</td>\n",
              "      <td>6.0</td>\n",
              "      <td>0.0</td>\n",
              "      <td>0.0</td>\n",
              "      <td>0.0</td>\n",
              "      <td>50.0</td>\n",
              "      <td>10.0</td>\n",
              "      <td>115.0</td>\n",
              "      <td>7274.0</td>\n",
              "      <td>5018.0</td>\n",
              "      <td>720</td>\n",
              "      <td>1</td>\n",
              "      <td>6</td>\n",
              "      <td>25</td>\n",
              "      <td>20</td>\n",
              "      <td>0</td>\n",
              "      <td>171</td>\n",
              "      <td>1.655754e+09</td>\n",
              "      <td>-8.0</td>\n",
              "    </tr>\n",
              "    <tr>\n",
              "      <th>35</th>\n",
              "      <td>BNSF5833</td>\n",
              "      <td>UP</td>\n",
              "      <td></td>\n",
              "      <td>MNOEW</td>\n",
              "      <td>2022-06-19</td>\n",
              "      <td>106</td>\n",
              "      <td>MAIN</td>\n",
              "      <td>4.0</td>\n",
              "      <td>12.0</td>\n",
              "      <td>2.0</td>\n",
              "      <td>2.0</td>\n",
              "      <td>0.0</td>\n",
              "      <td>True</td>\n",
              "      <td>M</td>\n",
              "      <td>#na#</td>\n",
              "      <td>2022</td>\n",
              "      <td>False</td>\n",
              "      <td>False</td>\n",
              "      <td>False</td>\n",
              "      <td>False</td>\n",
              "      <td>False</td>\n",
              "      <td>False</td>\n",
              "      <td>28</td>\n",
              "      <td>724.460693</td>\n",
              "      <td>100343000.0</td>\n",
              "      <td>857270.0</td>\n",
              "      <td>4200000.0</td>\n",
              "      <td>8780.0</td>\n",
              "      <td>65535.0</td>\n",
              "      <td>6.0</td>\n",
              "      <td>0.0</td>\n",
              "      <td>0.0</td>\n",
              "      <td>0.0</td>\n",
              "      <td>50.0</td>\n",
              "      <td>10.0</td>\n",
              "      <td>115.0</td>\n",
              "      <td>7274.0</td>\n",
              "      <td>5018.0</td>\n",
              "      <td>724</td>\n",
              "      <td>1</td>\n",
              "      <td>6</td>\n",
              "      <td>25</td>\n",
              "      <td>20</td>\n",
              "      <td>0</td>\n",
              "      <td>171</td>\n",
              "      <td>1.655755e+09</td>\n",
              "      <td>-28.0</td>\n",
              "    </tr>\n",
              "    <tr>\n",
              "      <th>36</th>\n",
              "      <td>BNSF5833</td>\n",
              "      <td>UP</td>\n",
              "      <td></td>\n",
              "      <td>MNOEW</td>\n",
              "      <td>2022-06-19</td>\n",
              "      <td>106</td>\n",
              "      <td>S_LUCAS</td>\n",
              "      <td>4.0</td>\n",
              "      <td>12.0</td>\n",
              "      <td>2.0</td>\n",
              "      <td>2.0</td>\n",
              "      <td>0.0</td>\n",
              "      <td>True</td>\n",
              "      <td>M</td>\n",
              "      <td>#na#</td>\n",
              "      <td>2022</td>\n",
              "      <td>False</td>\n",
              "      <td>False</td>\n",
              "      <td>False</td>\n",
              "      <td>False</td>\n",
              "      <td>False</td>\n",
              "      <td>False</td>\n",
              "      <td>0</td>\n",
              "      <td>728.696106</td>\n",
              "      <td>100343000.0</td>\n",
              "      <td>857270.0</td>\n",
              "      <td>4200000.0</td>\n",
              "      <td>8780.0</td>\n",
              "      <td>65535.0</td>\n",
              "      <td>6.0</td>\n",
              "      <td>0.0</td>\n",
              "      <td>0.0</td>\n",
              "      <td>0.0</td>\n",
              "      <td>50.0</td>\n",
              "      <td>10.0</td>\n",
              "      <td>115.0</td>\n",
              "      <td>7274.0</td>\n",
              "      <td>5018.0</td>\n",
              "      <td>728</td>\n",
              "      <td>1</td>\n",
              "      <td>6</td>\n",
              "      <td>25</td>\n",
              "      <td>20</td>\n",
              "      <td>0</td>\n",
              "      <td>171</td>\n",
              "      <td>1.655756e+09</td>\n",
              "      <td>0.0</td>\n",
              "    </tr>\n",
              "    <tr>\n",
              "      <th>37</th>\n",
              "      <td>BNSF5833</td>\n",
              "      <td>UP</td>\n",
              "      <td></td>\n",
              "      <td>MNOEW</td>\n",
              "      <td>2022-06-19</td>\n",
              "      <td>106</td>\n",
              "      <td>S_LUCAS</td>\n",
              "      <td>4.0</td>\n",
              "      <td>12.0</td>\n",
              "      <td>2.0</td>\n",
              "      <td>2.0</td>\n",
              "      <td>0.0</td>\n",
              "      <td>True</td>\n",
              "      <td>M</td>\n",
              "      <td>#na#</td>\n",
              "      <td>2022</td>\n",
              "      <td>False</td>\n",
              "      <td>False</td>\n",
              "      <td>False</td>\n",
              "      <td>False</td>\n",
              "      <td>False</td>\n",
              "      <td>False</td>\n",
              "      <td>0</td>\n",
              "      <td>728.696411</td>\n",
              "      <td>100343000.0</td>\n",
              "      <td>857270.0</td>\n",
              "      <td>4200000.0</td>\n",
              "      <td>8780.0</td>\n",
              "      <td>65535.0</td>\n",
              "      <td>6.0</td>\n",
              "      <td>0.0</td>\n",
              "      <td>0.0</td>\n",
              "      <td>0.0</td>\n",
              "      <td>50.0</td>\n",
              "      <td>10.0</td>\n",
              "      <td>115.0</td>\n",
              "      <td>7274.0</td>\n",
              "      <td>5018.0</td>\n",
              "      <td>728</td>\n",
              "      <td>1</td>\n",
              "      <td>6</td>\n",
              "      <td>25</td>\n",
              "      <td>20</td>\n",
              "      <td>0</td>\n",
              "      <td>171</td>\n",
              "      <td>1.655757e+09</td>\n",
              "      <td>0.0</td>\n",
              "    </tr>\n",
              "    <tr>\n",
              "      <th>38</th>\n",
              "      <td>BNSF5833</td>\n",
              "      <td>UP</td>\n",
              "      <td></td>\n",
              "      <td>MNOEW</td>\n",
              "      <td>2022-06-19</td>\n",
              "      <td>106</td>\n",
              "      <td>S_LUCAS</td>\n",
              "      <td>4.0</td>\n",
              "      <td>12.0</td>\n",
              "      <td>2.0</td>\n",
              "      <td>2.0</td>\n",
              "      <td>0.0</td>\n",
              "      <td>True</td>\n",
              "      <td>M</td>\n",
              "      <td>#na#</td>\n",
              "      <td>2022</td>\n",
              "      <td>False</td>\n",
              "      <td>False</td>\n",
              "      <td>False</td>\n",
              "      <td>False</td>\n",
              "      <td>False</td>\n",
              "      <td>False</td>\n",
              "      <td>0</td>\n",
              "      <td>728.697998</td>\n",
              "      <td>100343000.0</td>\n",
              "      <td>857270.0</td>\n",
              "      <td>4200000.0</td>\n",
              "      <td>8780.0</td>\n",
              "      <td>65535.0</td>\n",
              "      <td>6.0</td>\n",
              "      <td>0.0</td>\n",
              "      <td>0.0</td>\n",
              "      <td>0.0</td>\n",
              "      <td>50.0</td>\n",
              "      <td>10.0</td>\n",
              "      <td>115.0</td>\n",
              "      <td>7274.0</td>\n",
              "      <td>5018.0</td>\n",
              "      <td>728</td>\n",
              "      <td>1</td>\n",
              "      <td>6</td>\n",
              "      <td>25</td>\n",
              "      <td>20</td>\n",
              "      <td>0</td>\n",
              "      <td>171</td>\n",
              "      <td>1.655758e+09</td>\n",
              "      <td>0.0</td>\n",
              "    </tr>\n",
              "    <tr>\n",
              "      <th>39</th>\n",
              "      <td>BNSF5833</td>\n",
              "      <td>UP</td>\n",
              "      <td></td>\n",
              "      <td>MNOEW</td>\n",
              "      <td>2022-06-19</td>\n",
              "      <td>106</td>\n",
              "      <td>S_LUCAS</td>\n",
              "      <td>4.0</td>\n",
              "      <td>12.0</td>\n",
              "      <td>2.0</td>\n",
              "      <td>2.0</td>\n",
              "      <td>0.0</td>\n",
              "      <td>True</td>\n",
              "      <td>M</td>\n",
              "      <td>#na#</td>\n",
              "      <td>2022</td>\n",
              "      <td>False</td>\n",
              "      <td>False</td>\n",
              "      <td>False</td>\n",
              "      <td>False</td>\n",
              "      <td>False</td>\n",
              "      <td>False</td>\n",
              "      <td>0</td>\n",
              "      <td>728.697388</td>\n",
              "      <td>100343000.0</td>\n",
              "      <td>857270.0</td>\n",
              "      <td>4200000.0</td>\n",
              "      <td>8780.0</td>\n",
              "      <td>65535.0</td>\n",
              "      <td>6.0</td>\n",
              "      <td>0.0</td>\n",
              "      <td>0.0</td>\n",
              "      <td>0.0</td>\n",
              "      <td>50.0</td>\n",
              "      <td>10.0</td>\n",
              "      <td>115.0</td>\n",
              "      <td>7274.0</td>\n",
              "      <td>5018.0</td>\n",
              "      <td>728</td>\n",
              "      <td>1</td>\n",
              "      <td>6</td>\n",
              "      <td>25</td>\n",
              "      <td>20</td>\n",
              "      <td>0</td>\n",
              "      <td>171</td>\n",
              "      <td>1.655759e+09</td>\n",
              "      <td>0.0</td>\n",
              "    </tr>\n",
              "    <tr>\n",
              "      <th>40</th>\n",
              "      <td>BNSF5833</td>\n",
              "      <td>UP</td>\n",
              "      <td></td>\n",
              "      <td>MNOEW</td>\n",
              "      <td>2022-06-19</td>\n",
              "      <td>106</td>\n",
              "      <td>S_LUCAS</td>\n",
              "      <td>4.0</td>\n",
              "      <td>12.0</td>\n",
              "      <td>2.0</td>\n",
              "      <td>2.0</td>\n",
              "      <td>0.0</td>\n",
              "      <td>True</td>\n",
              "      <td>M</td>\n",
              "      <td>#na#</td>\n",
              "      <td>2022</td>\n",
              "      <td>False</td>\n",
              "      <td>False</td>\n",
              "      <td>False</td>\n",
              "      <td>False</td>\n",
              "      <td>False</td>\n",
              "      <td>False</td>\n",
              "      <td>0</td>\n",
              "      <td>728.696594</td>\n",
              "      <td>100343000.0</td>\n",
              "      <td>857270.0</td>\n",
              "      <td>4200000.0</td>\n",
              "      <td>8780.0</td>\n",
              "      <td>65535.0</td>\n",
              "      <td>6.0</td>\n",
              "      <td>0.0</td>\n",
              "      <td>0.0</td>\n",
              "      <td>0.0</td>\n",
              "      <td>50.0</td>\n",
              "      <td>10.0</td>\n",
              "      <td>115.0</td>\n",
              "      <td>7274.0</td>\n",
              "      <td>5018.0</td>\n",
              "      <td>728</td>\n",
              "      <td>1</td>\n",
              "      <td>6</td>\n",
              "      <td>25</td>\n",
              "      <td>20</td>\n",
              "      <td>0</td>\n",
              "      <td>171</td>\n",
              "      <td>1.655761e+09</td>\n",
              "      <td>0.0</td>\n",
              "    </tr>\n",
              "    <tr>\n",
              "      <th>41</th>\n",
              "      <td>BNSF5833</td>\n",
              "      <td>UP</td>\n",
              "      <td></td>\n",
              "      <td>MNOEW</td>\n",
              "      <td>2022-06-19</td>\n",
              "      <td>106</td>\n",
              "      <td>S_LUCAS</td>\n",
              "      <td>4.0</td>\n",
              "      <td>12.0</td>\n",
              "      <td>2.0</td>\n",
              "      <td>2.0</td>\n",
              "      <td>0.0</td>\n",
              "      <td>True</td>\n",
              "      <td>M</td>\n",
              "      <td>#na#</td>\n",
              "      <td>2022</td>\n",
              "      <td>False</td>\n",
              "      <td>False</td>\n",
              "      <td>False</td>\n",
              "      <td>False</td>\n",
              "      <td>False</td>\n",
              "      <td>False</td>\n",
              "      <td>0</td>\n",
              "      <td>728.696594</td>\n",
              "      <td>100343000.0</td>\n",
              "      <td>857270.0</td>\n",
              "      <td>4200000.0</td>\n",
              "      <td>8780.0</td>\n",
              "      <td>65535.0</td>\n",
              "      <td>6.0</td>\n",
              "      <td>0.0</td>\n",
              "      <td>0.0</td>\n",
              "      <td>0.0</td>\n",
              "      <td>50.0</td>\n",
              "      <td>10.0</td>\n",
              "      <td>115.0</td>\n",
              "      <td>7274.0</td>\n",
              "      <td>5018.0</td>\n",
              "      <td>728</td>\n",
              "      <td>1</td>\n",
              "      <td>6</td>\n",
              "      <td>25</td>\n",
              "      <td>20</td>\n",
              "      <td>0</td>\n",
              "      <td>171</td>\n",
              "      <td>1.655762e+09</td>\n",
              "      <td>35.0</td>\n",
              "    </tr>\n",
              "    <tr>\n",
              "      <th>42</th>\n",
              "      <td>BNSF5833</td>\n",
              "      <td>UP</td>\n",
              "      <td></td>\n",
              "      <td>MNOEW</td>\n",
              "      <td>2022-06-19</td>\n",
              "      <td>106</td>\n",
              "      <td>S_LUCAS</td>\n",
              "      <td>4.0</td>\n",
              "      <td>12.0</td>\n",
              "      <td>2.0</td>\n",
              "      <td>2.0</td>\n",
              "      <td>0.0</td>\n",
              "      <td>True</td>\n",
              "      <td>M</td>\n",
              "      <td>#na#</td>\n",
              "      <td>2022</td>\n",
              "      <td>False</td>\n",
              "      <td>False</td>\n",
              "      <td>False</td>\n",
              "      <td>False</td>\n",
              "      <td>False</td>\n",
              "      <td>False</td>\n",
              "      <td>0</td>\n",
              "      <td>728.696777</td>\n",
              "      <td>100343000.0</td>\n",
              "      <td>857270.0</td>\n",
              "      <td>4200000.0</td>\n",
              "      <td>8780.0</td>\n",
              "      <td>65535.0</td>\n",
              "      <td>6.0</td>\n",
              "      <td>0.0</td>\n",
              "      <td>0.0</td>\n",
              "      <td>0.0</td>\n",
              "      <td>50.0</td>\n",
              "      <td>10.0</td>\n",
              "      <td>115.0</td>\n",
              "      <td>7274.0</td>\n",
              "      <td>5018.0</td>\n",
              "      <td>728</td>\n",
              "      <td>1</td>\n",
              "      <td>6</td>\n",
              "      <td>25</td>\n",
              "      <td>20</td>\n",
              "      <td>0</td>\n",
              "      <td>171</td>\n",
              "      <td>1.655763e+09</td>\n",
              "      <td>38.0</td>\n",
              "    </tr>\n",
              "    <tr>\n",
              "      <th>43</th>\n",
              "      <td>BNSF5833</td>\n",
              "      <td>UP</td>\n",
              "      <td></td>\n",
              "      <td>MNOEW</td>\n",
              "      <td>2022-06-19</td>\n",
              "      <td>106</td>\n",
              "      <td>S_LUCAS</td>\n",
              "      <td>4.0</td>\n",
              "      <td>12.0</td>\n",
              "      <td>2.0</td>\n",
              "      <td>2.0</td>\n",
              "      <td>0.0</td>\n",
              "      <td>True</td>\n",
              "      <td>M</td>\n",
              "      <td>#na#</td>\n",
              "      <td>2022</td>\n",
              "      <td>False</td>\n",
              "      <td>False</td>\n",
              "      <td>False</td>\n",
              "      <td>False</td>\n",
              "      <td>False</td>\n",
              "      <td>False</td>\n",
              "      <td>0</td>\n",
              "      <td>728.696594</td>\n",
              "      <td>100343000.0</td>\n",
              "      <td>857270.0</td>\n",
              "      <td>4200000.0</td>\n",
              "      <td>8780.0</td>\n",
              "      <td>65535.0</td>\n",
              "      <td>6.0</td>\n",
              "      <td>0.0</td>\n",
              "      <td>0.0</td>\n",
              "      <td>0.0</td>\n",
              "      <td>50.0</td>\n",
              "      <td>10.0</td>\n",
              "      <td>115.0</td>\n",
              "      <td>7274.0</td>\n",
              "      <td>5018.0</td>\n",
              "      <td>728</td>\n",
              "      <td>1</td>\n",
              "      <td>6</td>\n",
              "      <td>25</td>\n",
              "      <td>20</td>\n",
              "      <td>0</td>\n",
              "      <td>171</td>\n",
              "      <td>1.655764e+09</td>\n",
              "      <td>41.0</td>\n",
              "    </tr>\n",
              "  </tbody>\n",
              "</table>"
            ]
          },
          "metadata": {}
        }
      ]
    },
    {
      "cell_type": "code",
      "source": [
        "fastai.save_pickle('/tmp/to.pkl',to)"
      ],
      "metadata": {
        "id": "r-D5hdO3-ypC"
      },
      "execution_count": 48,
      "outputs": []
    },
    {
      "cell_type": "markdown",
      "source": [
        "# Creating the Decision Tree"
      ],
      "metadata": {
        "id": "knWgCrX_A0Ep"
      }
    },
    {
      "cell_type": "code",
      "source": [
        "to = fastai.load_pickle('/tmp/to.pkl')"
      ],
      "metadata": {
        "id": "rtc_YDw0ArMR"
      },
      "execution_count": 49,
      "outputs": []
    },
    {
      "cell_type": "code",
      "source": [
        "xs,y = to.train.xs,to.train.y\n",
        "valid_xs,valid_y = to.valid.xs,to.valid.y"
      ],
      "metadata": {
        "id": "CcGx27DMBMbc"
      },
      "execution_count": 50,
      "outputs": []
    },
    {
      "cell_type": "code",
      "source": [
        "m = DecisionTreeRegressor(max_leaf_nodes=16)\n",
        "m.fit(xs, y);"
      ],
      "metadata": {
        "id": "clTcBmpGBXv6"
      },
      "execution_count": 51,
      "outputs": []
    },
    {
      "cell_type": "markdown",
      "source": [
        "Here is a sample of a Decision Tree with just 16 nodes:"
      ],
      "metadata": {
        "id": "YxzzayblKLsa"
      }
    },
    {
      "cell_type": "code",
      "source": [
        "fastai.draw_tree(m, xs, size=16, leaves_parallel=True, precision=2)"
      ],
      "metadata": {
        "id": "nhXNnHk7CSmF",
        "colab": {
          "base_uri": "https://localhost:8080/",
          "height": 945
        },
        "outputId": "9785b2e8-4248-4162-9813-605c2104c1cc"
      },
      "execution_count": 52,
      "outputs": [
        {
          "output_type": "execute_result",
          "data": {
            "text/plain": [
              "<graphviz.files.Source at 0x7fddd3405590>"
            ],
            "image/svg+xml": "<?xml version=\"1.0\" encoding=\"UTF-8\" standalone=\"no\"?>\n<!DOCTYPE svg PUBLIC \"-//W3C//DTD SVG 1.1//EN\"\n \"http://www.w3.org/Graphics/SVG/1.1/DTD/svg11.dtd\">\n<!-- Generated by graphviz version 2.40.1 (20161225.0304)\n -->\n<!-- Title: Tree Pages: 1 -->\n<svg width=\"1152pt\" height=\"693pt\"\n viewBox=\"0.00 0.00 1152.00 692.94\" xmlns=\"http://www.w3.org/2000/svg\" xmlns:xlink=\"http://www.w3.org/1999/xlink\">\n<g id=\"graph0\" class=\"graph\" transform=\"scale(.3874 .3874) rotate(0) translate(4 1784.9009)\">\n<title>Tree</title>\n<polygon fill=\"#ffffff\" stroke=\"transparent\" points=\"-4,4 -4,-1784.9009 2970,-1784.9009 2970,4 -4,4\"/>\n<!-- 0 -->\n<g id=\"node1\" class=\"node\">\n<title>0</title>\n<path fill=\"#f3c5a4\" stroke=\"#000000\" d=\"M1423,-1726C1423,-1726 1176,-1726 1176,-1726 1170,-1726 1164,-1720 1164,-1714 1164,-1714 1164,-1670 1164,-1670 1164,-1664 1170,-1658 1176,-1658 1176,-1658 1423,-1658 1423,-1658 1429,-1658 1435,-1664 1435,-1670 1435,-1670 1435,-1714 1435,-1714 1435,-1720 1429,-1726 1423,-1726\"/>\n<text text-anchor=\"start\" x=\"1172\" y=\"-1710.8\" font-family=\"Helvetica,sans-Serif\" font-size=\"14.00\" fill=\"#000000\">lastReportedPosition.speedMPH ≤ 21.5</text>\n<text text-anchor=\"start\" x=\"1223\" y=\"-1695.8\" font-family=\"Helvetica,sans-Serif\" font-size=\"14.00\" fill=\"#000000\">squared_error = 580.95</text>\n<text text-anchor=\"start\" x=\"1247.5\" y=\"-1680.8\" font-family=\"Helvetica,sans-Serif\" font-size=\"14.00\" fill=\"#000000\">samples = 2884</text>\n<text text-anchor=\"start\" x=\"1257\" y=\"-1665.8\" font-family=\"Helvetica,sans-Serif\" font-size=\"14.00\" fill=\"#000000\">value = &#45;1.85</text>\n</g>\n<!-- 1 -->\n<g id=\"node2\" class=\"node\">\n<title>1</title>\n<path fill=\"#eeac7c\" stroke=\"#000000\" d=\"M1253,-1456C1253,-1456 786,-1456 786,-1456 780,-1456 774,-1450 774,-1444 774,-1444 774,-1400 774,-1400 774,-1394 780,-1388 786,-1388 786,-1388 1253,-1388 1253,-1388 1259,-1388 1265,-1394 1265,-1400 1265,-1400 1265,-1444 1265,-1444 1265,-1450 1259,-1456 1253,-1456\"/>\n<text text-anchor=\"start\" x=\"782\" y=\"-1440.8\" font-family=\"Helvetica,sans-Serif\" font-size=\"14.00\" fill=\"#000000\">lastReportedPosition.milepostLocation.milepost.milepostNumber ≤ 700.52</text>\n<text text-anchor=\"start\" x=\"943\" y=\"-1425.8\" font-family=\"Helvetica,sans-Serif\" font-size=\"14.00\" fill=\"#000000\">squared_error = 377.83</text>\n<text text-anchor=\"start\" x=\"967.5\" y=\"-1410.8\" font-family=\"Helvetica,sans-Serif\" font-size=\"14.00\" fill=\"#000000\">samples = 1218</text>\n<text text-anchor=\"start\" x=\"975.5\" y=\"-1395.8\" font-family=\"Helvetica,sans-Serif\" font-size=\"14.00\" fill=\"#000000\">value = 13.88</text>\n</g>\n<!-- 0&#45;&gt;1 -->\n<g id=\"edge1\" class=\"edge\">\n<title>0&#45;&gt;1</title>\n<path fill=\"none\" stroke=\"#000000\" d=\"M1264.0378,-1657.8043C1212.7386,-1608.3372 1117.9326,-1516.9172 1062.6457,-1463.6048\"/>\n<polygon fill=\"#000000\" stroke=\"#000000\" points=\"1064.7433,-1460.7653 1055.1154,-1456.3434 1059.8844,-1465.8043 1064.7433,-1460.7653\"/>\n<text text-anchor=\"middle\" x=\"1055.5699\" y=\"-1477.6393\" font-family=\"Helvetica,sans-Serif\" font-size=\"14.00\" fill=\"#000000\">True</text>\n</g>\n<!-- 2 -->\n<g id=\"node13\" class=\"node\">\n<title>2</title>\n<path fill=\"#f7d7c1\" stroke=\"#000000\" d=\"M1623,-1456C1623,-1456 1376,-1456 1376,-1456 1370,-1456 1364,-1450 1364,-1444 1364,-1444 1364,-1400 1364,-1400 1364,-1394 1370,-1388 1376,-1388 1376,-1388 1623,-1388 1623,-1388 1629,-1388 1635,-1394 1635,-1400 1635,-1400 1635,-1444 1635,-1444 1635,-1450 1629,-1456 1623,-1456\"/>\n<text text-anchor=\"start\" x=\"1372\" y=\"-1440.8\" font-family=\"Helvetica,sans-Serif\" font-size=\"14.00\" fill=\"#000000\">lastReportedPosition.speedMPH ≤ 32.5</text>\n<text text-anchor=\"start\" x=\"1423\" y=\"-1425.8\" font-family=\"Helvetica,sans-Serif\" font-size=\"14.00\" fill=\"#000000\">squared_error = 416.07</text>\n<text text-anchor=\"start\" x=\"1447.5\" y=\"-1410.8\" font-family=\"Helvetica,sans-Serif\" font-size=\"14.00\" fill=\"#000000\">samples = 1666</text>\n<text text-anchor=\"start\" x=\"1453\" y=\"-1395.8\" font-family=\"Helvetica,sans-Serif\" font-size=\"14.00\" fill=\"#000000\">value = &#45;13.36</text>\n</g>\n<!-- 0&#45;&gt;2 -->\n<g id=\"edge12\" class=\"edge\">\n<title>0&#45;&gt;2</title>\n<path fill=\"none\" stroke=\"#000000\" d=\"M1324.8301,-1657.8043C1361.2477,-1608.6407 1428.3613,-1518.0373 1467.9516,-1464.5903\"/>\n<polygon fill=\"#000000\" stroke=\"#000000\" points=\"1470.9206,-1466.4623 1474.0604,-1456.3434 1465.2957,-1462.2957 1470.9206,-1466.4623\"/>\n<text text-anchor=\"middle\" x=\"1477.7432\" y=\"-1477.3707\" font-family=\"Helvetica,sans-Serif\" font-size=\"14.00\" fill=\"#000000\">False</text>\n</g>\n<!-- 5 -->\n<g id=\"node3\" class=\"node\">\n<title>5</title>\n<path fill=\"#eda674\" stroke=\"#000000\" d=\"M826.5,-1185C826.5,-1185 652.5,-1185 652.5,-1185 646.5,-1185 640.5,-1179 640.5,-1173 640.5,-1173 640.5,-1129 640.5,-1129 640.5,-1123 646.5,-1117 652.5,-1117 652.5,-1117 826.5,-1117 826.5,-1117 832.5,-1117 838.5,-1123 838.5,-1129 838.5,-1129 838.5,-1173 838.5,-1173 838.5,-1179 832.5,-1185 826.5,-1185\"/>\n<text text-anchor=\"start\" x=\"648.5\" y=\"-1169.8\" font-family=\"Helvetica,sans-Serif\" font-size=\"14.00\" fill=\"#000000\">maximumTrainSpeed ≤ 55.0</text>\n<text text-anchor=\"start\" x=\"663\" y=\"-1154.8\" font-family=\"Helvetica,sans-Serif\" font-size=\"14.00\" fill=\"#000000\">squared_error = 403.17</text>\n<text text-anchor=\"start\" x=\"691.5\" y=\"-1139.8\" font-family=\"Helvetica,sans-Serif\" font-size=\"14.00\" fill=\"#000000\">samples = 927</text>\n<text text-anchor=\"start\" x=\"695.5\" y=\"-1124.8\" font-family=\"Helvetica,sans-Serif\" font-size=\"14.00\" fill=\"#000000\">value = 17.33</text>\n</g>\n<!-- 1&#45;&gt;5 -->\n<g id=\"edge2\" class=\"edge\">\n<title>1&#45;&gt;5</title>\n<path fill=\"none\" stroke=\"#000000\" d=\"M984.3213,-1387.9521C932.8734,-1338.1578 837.2354,-1245.594 781.9499,-1192.0855\"/>\n<polygon fill=\"#000000\" stroke=\"#000000\" points=\"784.3748,-1189.5615 774.755,-1185.1218 779.5065,-1194.5915 784.3748,-1189.5615\"/>\n</g>\n<!-- 6 -->\n<g id=\"node12\" class=\"node\">\n<title>6</title>\n<path fill=\"#f1bd98\" stroke=\"#000000\" d=\"M1092,-95.5C1092,-95.5 947,-95.5 947,-95.5 941,-95.5 935,-89.5 935,-83.5 935,-83.5 935,-54.5 935,-54.5 935,-48.5 941,-42.5 947,-42.5 947,-42.5 1092,-42.5 1092,-42.5 1098,-42.5 1104,-48.5 1104,-54.5 1104,-54.5 1104,-83.5 1104,-83.5 1104,-89.5 1098,-95.5 1092,-95.5\"/>\n<text text-anchor=\"start\" x=\"943\" y=\"-80.3\" font-family=\"Helvetica,sans-Serif\" font-size=\"14.00\" fill=\"#000000\">squared_error = 138.91</text>\n<text text-anchor=\"start\" x=\"971.5\" y=\"-65.3\" font-family=\"Helvetica,sans-Serif\" font-size=\"14.00\" fill=\"#000000\">samples = 291</text>\n<text text-anchor=\"start\" x=\"979.5\" y=\"-50.3\" font-family=\"Helvetica,sans-Serif\" font-size=\"14.00\" fill=\"#000000\">value = 2.91</text>\n</g>\n<!-- 1&#45;&gt;6 -->\n<g id=\"edge11\" class=\"edge\">\n<title>1&#45;&gt;6</title>\n<path fill=\"none\" stroke=\"#000000\" d=\"M1019.5,-1387.7476C1019.5,-1268.8248 1019.5,-881 1019.5,-881 1019.5,-881 1019.5,-881 1019.5,-610 1019.5,-610 1019.5,-228.3743 1019.5,-106.1668\"/>\n<polygon fill=\"#000000\" stroke=\"#000000\" points=\"1023.0001,-105.8282 1019.5,-95.8283 1016.0001,-105.8283 1023.0001,-105.8282\"/>\n</g>\n<!-- 7 -->\n<g id=\"node4\" class=\"node\">\n<title>7</title>\n<path fill=\"#eeab7b\" stroke=\"#000000\" d=\"M344.5,-915C344.5,-915 198.5,-915 198.5,-915 192.5,-915 186.5,-909 186.5,-903 186.5,-903 186.5,-859 186.5,-859 186.5,-853 192.5,-847 198.5,-847 198.5,-847 344.5,-847 344.5,-847 350.5,-847 356.5,-853 356.5,-859 356.5,-859 356.5,-903 356.5,-903 356.5,-909 350.5,-915 344.5,-915\"/>\n<text text-anchor=\"start\" x=\"194.5\" y=\"-899.8\" font-family=\"Helvetica,sans-Serif\" font-size=\"14.00\" fill=\"#000000\">emptyCarCount ≤ 102.5</text>\n<text text-anchor=\"start\" x=\"195\" y=\"-884.8\" font-family=\"Helvetica,sans-Serif\" font-size=\"14.00\" fill=\"#000000\">squared_error = 337.02</text>\n<text text-anchor=\"start\" x=\"223.5\" y=\"-869.8\" font-family=\"Helvetica,sans-Serif\" font-size=\"14.00\" fill=\"#000000\">samples = 673</text>\n<text text-anchor=\"start\" x=\"227.5\" y=\"-854.8\" font-family=\"Helvetica,sans-Serif\" font-size=\"14.00\" fill=\"#000000\">value = 14.24</text>\n</g>\n<!-- 5&#45;&gt;7 -->\n<g id=\"edge3\" class=\"edge\">\n<title>5&#45;&gt;7</title>\n<path fill=\"none\" stroke=\"#000000\" d=\"M680.2275,-1116.8043C593.2257,-1066.611 431.3548,-973.2239 339.5883,-920.2817\"/>\n<polygon fill=\"#000000\" stroke=\"#000000\" points=\"341.0704,-917.0961 330.6595,-915.1305 337.5723,-923.1594 341.0704,-917.0961\"/>\n</g>\n<!-- 8 -->\n<g id=\"node7\" class=\"node\">\n<title>8</title>\n<path fill=\"#ea995f\" stroke=\"#000000\" d=\"M821.5,-915C821.5,-915 657.5,-915 657.5,-915 651.5,-915 645.5,-909 645.5,-903 645.5,-903 645.5,-859 645.5,-859 645.5,-853 651.5,-847 657.5,-847 657.5,-847 821.5,-847 821.5,-847 827.5,-847 833.5,-853 833.5,-859 833.5,-859 833.5,-903 833.5,-903 833.5,-909 827.5,-915 821.5,-915\"/>\n<text text-anchor=\"start\" x=\"653.5\" y=\"-899.8\" font-family=\"Helvetica,sans-Serif\" font-size=\"14.00\" fill=\"#000000\">trainId.trainSymbol ≤ 109.0</text>\n<text text-anchor=\"start\" x=\"663\" y=\"-884.8\" font-family=\"Helvetica,sans-Serif\" font-size=\"14.00\" fill=\"#000000\">squared_error = 486.18</text>\n<text text-anchor=\"start\" x=\"691.5\" y=\"-869.8\" font-family=\"Helvetica,sans-Serif\" font-size=\"14.00\" fill=\"#000000\">samples = 254</text>\n<text text-anchor=\"start\" x=\"695.5\" y=\"-854.8\" font-family=\"Helvetica,sans-Serif\" font-size=\"14.00\" fill=\"#000000\">value = 25.51</text>\n</g>\n<!-- 5&#45;&gt;8 -->\n<g id=\"edge6\" class=\"edge\">\n<title>5&#45;&gt;8</title>\n<path fill=\"none\" stroke=\"#000000\" d=\"M739.5,-1116.8043C739.5,-1068.2476 739.5,-979.2681 739.5,-925.5866\"/>\n<polygon fill=\"#000000\" stroke=\"#000000\" points=\"743.0001,-925.3434 739.5,-915.3434 736.0001,-925.3435 743.0001,-925.3434\"/>\n</g>\n<!-- 17 -->\n<g id=\"node5\" class=\"node\">\n<title>17</title>\n<path fill=\"#eda876\" stroke=\"#000000\" d=\"M157,-95.5C157,-95.5 12,-95.5 12,-95.5 6,-95.5 0,-89.5 0,-83.5 0,-83.5 0,-54.5 0,-54.5 0,-48.5 6,-42.5 12,-42.5 12,-42.5 157,-42.5 157,-42.5 163,-42.5 169,-48.5 169,-54.5 169,-54.5 169,-83.5 169,-83.5 169,-89.5 163,-95.5 157,-95.5\"/>\n<text text-anchor=\"start\" x=\"8\" y=\"-80.3\" font-family=\"Helvetica,sans-Serif\" font-size=\"14.00\" fill=\"#000000\">squared_error = 346.04</text>\n<text text-anchor=\"start\" x=\"36.5\" y=\"-65.3\" font-family=\"Helvetica,sans-Serif\" font-size=\"14.00\" fill=\"#000000\">samples = 534</text>\n<text text-anchor=\"start\" x=\"40.5\" y=\"-50.3\" font-family=\"Helvetica,sans-Serif\" font-size=\"14.00\" fill=\"#000000\">value = 16.25</text>\n</g>\n<!-- 7&#45;&gt;17 -->\n<g id=\"edge4\" class=\"edge\">\n<title>7&#45;&gt;17</title>\n<path fill=\"none\" stroke=\"#000000\" d=\"M263.6437,-846.886C233.3429,-715.3125 124.2085,-241.4241 92.9317,-105.6124\"/>\n<polygon fill=\"#000000\" stroke=\"#000000\" points=\"96.3035,-104.6577 90.6485,-95.6982 89.4821,-106.2287 96.3035,-104.6577\"/>\n</g>\n<!-- 18 -->\n<g id=\"node6\" class=\"node\">\n<title>18</title>\n<path fill=\"#f0b88f\" stroke=\"#000000\" d=\"M344,-95.5C344,-95.5 199,-95.5 199,-95.5 193,-95.5 187,-89.5 187,-83.5 187,-83.5 187,-54.5 187,-54.5 187,-48.5 193,-42.5 199,-42.5 199,-42.5 344,-42.5 344,-42.5 350,-42.5 356,-48.5 356,-54.5 356,-54.5 356,-83.5 356,-83.5 356,-89.5 350,-95.5 344,-95.5\"/>\n<text text-anchor=\"start\" x=\"195\" y=\"-80.3\" font-family=\"Helvetica,sans-Serif\" font-size=\"14.00\" fill=\"#000000\">squared_error = 226.85</text>\n<text text-anchor=\"start\" x=\"223.5\" y=\"-65.3\" font-family=\"Helvetica,sans-Serif\" font-size=\"14.00\" fill=\"#000000\">samples = 139</text>\n<text text-anchor=\"start\" x=\"235.5\" y=\"-50.3\" font-family=\"Helvetica,sans-Serif\" font-size=\"14.00\" fill=\"#000000\">value = 6.5</text>\n</g>\n<!-- 7&#45;&gt;18 -->\n<g id=\"edge5\" class=\"edge\">\n<title>7&#45;&gt;18</title>\n<path fill=\"none\" stroke=\"#000000\" d=\"M271.5,-846.886C271.5,-715.4443 271.5,-242.3735 271.5,-106.0217\"/>\n<polygon fill=\"#000000\" stroke=\"#000000\" points=\"275.0001,-105.6982 271.5,-95.6982 268.0001,-105.6983 275.0001,-105.6982\"/>\n</g>\n<!-- 13 -->\n<g id=\"node8\" class=\"node\">\n<title>13</title>\n<path fill=\"#eb9e66\" stroke=\"#000000\" d=\"M765,-644C765,-644 526,-644 526,-644 520,-644 514,-638 514,-632 514,-632 514,-588 514,-588 514,-582 520,-576 526,-576 526,-576 765,-576 765,-576 771,-576 777,-582 777,-588 777,-588 777,-632 777,-632 777,-638 771,-644 765,-644\"/>\n<text text-anchor=\"start\" x=\"522\" y=\"-628.8\" font-family=\"Helvetica,sans-Serif\" font-size=\"14.00\" fill=\"#000000\">lastReportedPosition.speedMPH ≤ 9.5</text>\n<text text-anchor=\"start\" x=\"569\" y=\"-613.8\" font-family=\"Helvetica,sans-Serif\" font-size=\"14.00\" fill=\"#000000\">squared_error = 464.27</text>\n<text text-anchor=\"start\" x=\"597.5\" y=\"-598.8\" font-family=\"Helvetica,sans-Serif\" font-size=\"14.00\" fill=\"#000000\">samples = 214</text>\n<text text-anchor=\"start\" x=\"601.5\" y=\"-583.8\" font-family=\"Helvetica,sans-Serif\" font-size=\"14.00\" fill=\"#000000\">value = 22.67</text>\n</g>\n<!-- 8&#45;&gt;13 -->\n<g id=\"edge7\" class=\"edge\">\n<title>8&#45;&gt;13</title>\n<path fill=\"none\" stroke=\"#000000\" d=\"M727.69,-846.9521C710.7002,-797.9708 679.3556,-707.605 660.6708,-653.7372\"/>\n<polygon fill=\"#000000\" stroke=\"#000000\" points=\"663.9195,-652.4226 657.3356,-644.1218 657.306,-654.7166 663.9195,-652.4226\"/>\n</g>\n<!-- 14 -->\n<g id=\"node11\" class=\"node\">\n<title>14</title>\n<path fill=\"#e58139\" stroke=\"#000000\" d=\"M905,-95.5C905,-95.5 760,-95.5 760,-95.5 754,-95.5 748,-89.5 748,-83.5 748,-83.5 748,-54.5 748,-54.5 748,-48.5 754,-42.5 760,-42.5 760,-42.5 905,-42.5 905,-42.5 911,-42.5 917,-48.5 917,-54.5 917,-54.5 917,-83.5 917,-83.5 917,-89.5 911,-95.5 905,-95.5\"/>\n<text text-anchor=\"start\" x=\"756\" y=\"-80.3\" font-family=\"Helvetica,sans-Serif\" font-size=\"14.00\" fill=\"#000000\">squared_error = 329.61</text>\n<text text-anchor=\"start\" x=\"788.5\" y=\"-65.3\" font-family=\"Helvetica,sans-Serif\" font-size=\"14.00\" fill=\"#000000\">samples = 40</text>\n<text text-anchor=\"start\" x=\"792.5\" y=\"-50.3\" font-family=\"Helvetica,sans-Serif\" font-size=\"14.00\" fill=\"#000000\">value = 40.7</text>\n</g>\n<!-- 8&#45;&gt;14 -->\n<g id=\"edge10\" class=\"edge\">\n<title>8&#45;&gt;14</title>\n<path fill=\"none\" stroke=\"#000000\" d=\"M746.1397,-846.7913C758.8785,-781.1587 785.5,-644 785.5,-644 785.5,-644 819.1645,-232.1471 829.5113,-105.5641\"/>\n<polygon fill=\"#000000\" stroke=\"#000000\" points=\"833.001,-105.8322 830.3274,-95.5802 826.0242,-105.2618 833.001,-105.8322\"/>\n</g>\n<!-- 27 -->\n<g id=\"node9\" class=\"node\">\n<title>27</title>\n<path fill=\"#ea995e\" stroke=\"#000000\" d=\"M531,-95.5C531,-95.5 386,-95.5 386,-95.5 380,-95.5 374,-89.5 374,-83.5 374,-83.5 374,-54.5 374,-54.5 374,-48.5 380,-42.5 386,-42.5 386,-42.5 531,-42.5 531,-42.5 537,-42.5 543,-48.5 543,-54.5 543,-54.5 543,-83.5 543,-83.5 543,-89.5 537,-95.5 531,-95.5\"/>\n<text text-anchor=\"start\" x=\"382\" y=\"-80.3\" font-family=\"Helvetica,sans-Serif\" font-size=\"14.00\" fill=\"#000000\">squared_error = 437.79</text>\n<text text-anchor=\"start\" x=\"410.5\" y=\"-65.3\" font-family=\"Helvetica,sans-Serif\" font-size=\"14.00\" fill=\"#000000\">samples = 171</text>\n<text text-anchor=\"start\" x=\"414.5\" y=\"-50.3\" font-family=\"Helvetica,sans-Serif\" font-size=\"14.00\" fill=\"#000000\">value = 25.77</text>\n</g>\n<!-- 13&#45;&gt;27 -->\n<g id=\"edge8\" class=\"edge\">\n<title>13&#45;&gt;27</title>\n<path fill=\"none\" stroke=\"#000000\" d=\"M633.6604,-575.7476C600.2061,-478.9627 505.1883,-204.0715 470.9718,-105.0816\"/>\n<polygon fill=\"#000000\" stroke=\"#000000\" points=\"474.2415,-103.8272 467.6666,-95.5194 467.6256,-106.1141 474.2415,-103.8272\"/>\n</g>\n<!-- 28 -->\n<g id=\"node10\" class=\"node\">\n<title>28</title>\n<path fill=\"#efb185\" stroke=\"#000000\" d=\"M718,-95.5C718,-95.5 573,-95.5 573,-95.5 567,-95.5 561,-89.5 561,-83.5 561,-83.5 561,-54.5 561,-54.5 561,-48.5 567,-42.5 573,-42.5 573,-42.5 718,-42.5 718,-42.5 724,-42.5 730,-48.5 730,-54.5 730,-54.5 730,-83.5 730,-83.5 730,-89.5 724,-95.5 718,-95.5\"/>\n<text text-anchor=\"start\" x=\"569\" y=\"-80.3\" font-family=\"Helvetica,sans-Serif\" font-size=\"14.00\" fill=\"#000000\">squared_error = 379.48</text>\n<text text-anchor=\"start\" x=\"601.5\" y=\"-65.3\" font-family=\"Helvetica,sans-Serif\" font-size=\"14.00\" fill=\"#000000\">samples = 43</text>\n<text text-anchor=\"start\" x=\"601.5\" y=\"-50.3\" font-family=\"Helvetica,sans-Serif\" font-size=\"14.00\" fill=\"#000000\">value = 10.35</text>\n</g>\n<!-- 13&#45;&gt;28 -->\n<g id=\"edge9\" class=\"edge\">\n<title>13&#45;&gt;28</title>\n<path fill=\"none\" stroke=\"#000000\" d=\"M645.5,-575.7476C645.5,-479.1582 645.5,-205.1815 645.5,-105.6837\"/>\n<polygon fill=\"#000000\" stroke=\"#000000\" points=\"649.0001,-105.5193 645.5,-95.5194 642.0001,-105.5194 649.0001,-105.5193\"/>\n</g>\n<!-- 3 -->\n<g id=\"node14\" class=\"node\">\n<title>3</title>\n<path fill=\"#f4c9aa\" stroke=\"#000000\" d=\"M1572,-1185C1572,-1185 1427,-1185 1427,-1185 1421,-1185 1415,-1179 1415,-1173 1415,-1173 1415,-1129 1415,-1129 1415,-1123 1421,-1117 1427,-1117 1427,-1117 1572,-1117 1572,-1117 1578,-1117 1584,-1123 1584,-1129 1584,-1129 1584,-1173 1584,-1173 1584,-1179 1578,-1185 1572,-1185\"/>\n<text text-anchor=\"start\" x=\"1459.5\" y=\"-1169.8\" font-family=\"Helvetica,sans-Serif\" font-size=\"14.00\" fill=\"#000000\">mpIncr ≤ 1.5</text>\n<text text-anchor=\"start\" x=\"1423\" y=\"-1154.8\" font-family=\"Helvetica,sans-Serif\" font-size=\"14.00\" fill=\"#000000\">squared_error = 335.36</text>\n<text text-anchor=\"start\" x=\"1451.5\" y=\"-1139.8\" font-family=\"Helvetica,sans-Serif\" font-size=\"14.00\" fill=\"#000000\">samples = 420</text>\n<text text-anchor=\"start\" x=\"1457\" y=\"-1124.8\" font-family=\"Helvetica,sans-Serif\" font-size=\"14.00\" fill=\"#000000\">value = &#45;4.26</text>\n</g>\n<!-- 2&#45;&gt;3 -->\n<g id=\"edge13\" class=\"edge\">\n<title>2&#45;&gt;3</title>\n<path fill=\"none\" stroke=\"#000000\" d=\"M1499.5,-1387.9521C1499.5,-1339.174 1499.5,-1249.3543 1499.5,-1195.4096\"/>\n<polygon fill=\"#000000\" stroke=\"#000000\" points=\"1503.0001,-1195.1218 1499.5,-1185.1218 1496.0001,-1195.1218 1503.0001,-1195.1218\"/>\n</g>\n<!-- 4 -->\n<g id=\"node19\" class=\"node\">\n<title>4</title>\n<path fill=\"#f8dcc8\" stroke=\"#000000\" d=\"M2308.5,-1185C2308.5,-1185 2144.5,-1185 2144.5,-1185 2138.5,-1185 2132.5,-1179 2132.5,-1173 2132.5,-1173 2132.5,-1129 2132.5,-1129 2132.5,-1123 2138.5,-1117 2144.5,-1117 2144.5,-1117 2308.5,-1117 2308.5,-1117 2314.5,-1117 2320.5,-1123 2320.5,-1129 2320.5,-1129 2320.5,-1173 2320.5,-1173 2320.5,-1179 2314.5,-1185 2308.5,-1185\"/>\n<text text-anchor=\"start\" x=\"2140.5\" y=\"-1169.8\" font-family=\"Helvetica,sans-Serif\" font-size=\"14.00\" fill=\"#000000\">trainId.trainSymbol ≤ 128.5</text>\n<text text-anchor=\"start\" x=\"2150\" y=\"-1154.8\" font-family=\"Helvetica,sans-Serif\" font-size=\"14.00\" fill=\"#000000\">squared_error = 405.94</text>\n<text text-anchor=\"start\" x=\"2174.5\" y=\"-1139.8\" font-family=\"Helvetica,sans-Serif\" font-size=\"14.00\" fill=\"#000000\">samples = 1246</text>\n<text text-anchor=\"start\" x=\"2180\" y=\"-1124.8\" font-family=\"Helvetica,sans-Serif\" font-size=\"14.00\" fill=\"#000000\">value = &#45;16.43</text>\n</g>\n<!-- 2&#45;&gt;4 -->\n<g id=\"edge18\" class=\"edge\">\n<title>2&#45;&gt;4</title>\n<path fill=\"none\" stroke=\"#000000\" d=\"M1590.8389,-1387.9521C1727.3754,-1337.0561 1983.7817,-1241.4768 2125.6538,-1188.5919\"/>\n<polygon fill=\"#000000\" stroke=\"#000000\" points=\"2127.1013,-1191.7877 2135.249,-1185.0152 2124.6563,-1185.2285 2127.1013,-1191.7877\"/>\n</g>\n<!-- 21 -->\n<g id=\"node15\" class=\"node\">\n<title>21</title>\n<path fill=\"#f5cfb4\" stroke=\"#000000\" d=\"M1540,-915C1540,-915 1073,-915 1073,-915 1067,-915 1061,-909 1061,-903 1061,-903 1061,-859 1061,-859 1061,-853 1067,-847 1073,-847 1073,-847 1540,-847 1540,-847 1546,-847 1552,-853 1552,-859 1552,-859 1552,-903 1552,-903 1552,-909 1546,-915 1540,-915\"/>\n<text text-anchor=\"start\" x=\"1069\" y=\"-899.8\" font-family=\"Helvetica,sans-Serif\" font-size=\"14.00\" fill=\"#000000\">lastReportedPosition.milepostLocation.milepost.milepostNumber ≤ 251.22</text>\n<text text-anchor=\"start\" x=\"1230\" y=\"-884.8\" font-family=\"Helvetica,sans-Serif\" font-size=\"14.00\" fill=\"#000000\">squared_error = 275.69</text>\n<text text-anchor=\"start\" x=\"1258.5\" y=\"-869.8\" font-family=\"Helvetica,sans-Serif\" font-size=\"14.00\" fill=\"#000000\">samples = 242</text>\n<text text-anchor=\"start\" x=\"1264\" y=\"-854.8\" font-family=\"Helvetica,sans-Serif\" font-size=\"14.00\" fill=\"#000000\">value = &#45;8.43</text>\n</g>\n<!-- 3&#45;&gt;21 -->\n<g id=\"edge14\" class=\"edge\">\n<title>3&#45;&gt;21</title>\n<path fill=\"none\" stroke=\"#000000\" d=\"M1475.0564,-1116.8043C1439.9135,-1067.6407 1375.1489,-977.0373 1336.9442,-923.5903\"/>\n<polygon fill=\"#000000\" stroke=\"#000000\" points=\"1339.7118,-921.4434 1331.0492,-915.3434 1334.0171,-925.5141 1339.7118,-921.4434\"/>\n</g>\n<!-- 22 -->\n<g id=\"node18\" class=\"node\">\n<title>22</title>\n<path fill=\"#f2c09c\" stroke=\"#000000\" d=\"M1653,-95.5C1653,-95.5 1508,-95.5 1508,-95.5 1502,-95.5 1496,-89.5 1496,-83.5 1496,-83.5 1496,-54.5 1496,-54.5 1496,-48.5 1502,-42.5 1508,-42.5 1508,-42.5 1653,-42.5 1653,-42.5 1659,-42.5 1665,-48.5 1665,-54.5 1665,-54.5 1665,-83.5 1665,-83.5 1665,-89.5 1659,-95.5 1653,-95.5\"/>\n<text text-anchor=\"start\" x=\"1504\" y=\"-80.3\" font-family=\"Helvetica,sans-Serif\" font-size=\"14.00\" fill=\"#000000\">squared_error = 360.51</text>\n<text text-anchor=\"start\" x=\"1532.5\" y=\"-65.3\" font-family=\"Helvetica,sans-Serif\" font-size=\"14.00\" fill=\"#000000\">samples = 178</text>\n<text text-anchor=\"start\" x=\"1540.5\" y=\"-50.3\" font-family=\"Helvetica,sans-Serif\" font-size=\"14.00\" fill=\"#000000\">value = 1.42</text>\n</g>\n<!-- 3&#45;&gt;22 -->\n<g id=\"edge17\" class=\"edge\">\n<title>3&#45;&gt;22</title>\n<path fill=\"none\" stroke=\"#000000\" d=\"M1508.3048,-1116.9356C1525.1976,-1051.58 1560.5,-915 1560.5,-915 1560.5,-915 1575.7595,-269.5228 1579.6206,-106.1973\"/>\n<polygon fill=\"#000000\" stroke=\"#000000\" points=\"1583.131,-105.7963 1579.8684,-95.7164 1576.133,-105.6308 1583.131,-105.7963\"/>\n</g>\n<!-- 23 -->\n<g id=\"node16\" class=\"node\">\n<title>23</title>\n<path fill=\"#f9e2d1\" stroke=\"#000000\" d=\"M1279,-95.5C1279,-95.5 1134,-95.5 1134,-95.5 1128,-95.5 1122,-89.5 1122,-83.5 1122,-83.5 1122,-54.5 1122,-54.5 1122,-48.5 1128,-42.5 1134,-42.5 1134,-42.5 1279,-42.5 1279,-42.5 1285,-42.5 1291,-48.5 1291,-54.5 1291,-54.5 1291,-83.5 1291,-83.5 1291,-89.5 1285,-95.5 1279,-95.5\"/>\n<text text-anchor=\"start\" x=\"1130\" y=\"-80.3\" font-family=\"Helvetica,sans-Serif\" font-size=\"14.00\" fill=\"#000000\">squared_error = 145.03</text>\n<text text-anchor=\"start\" x=\"1162.5\" y=\"-65.3\" font-family=\"Helvetica,sans-Serif\" font-size=\"14.00\" fill=\"#000000\">samples = 56</text>\n<text text-anchor=\"start\" x=\"1160\" y=\"-50.3\" font-family=\"Helvetica,sans-Serif\" font-size=\"14.00\" fill=\"#000000\">value = &#45;19.93</text>\n</g>\n<!-- 21&#45;&gt;23 -->\n<g id=\"edge15\" class=\"edge\">\n<title>21&#45;&gt;23</title>\n<path fill=\"none\" stroke=\"#000000\" d=\"M1302.2988,-846.886C1286.1114,-715.4443 1227.8514,-242.3735 1211.0593,-106.0217\"/>\n<polygon fill=\"#000000\" stroke=\"#000000\" points=\"1214.4841,-105.1954 1209.788,-95.6982 1207.5366,-106.0511 1214.4841,-105.1954\"/>\n</g>\n<!-- 24 -->\n<g id=\"node17\" class=\"node\">\n<title>24</title>\n<path fill=\"#f4caac\" stroke=\"#000000\" d=\"M1466,-95.5C1466,-95.5 1321,-95.5 1321,-95.5 1315,-95.5 1309,-89.5 1309,-83.5 1309,-83.5 1309,-54.5 1309,-54.5 1309,-48.5 1315,-42.5 1321,-42.5 1321,-42.5 1466,-42.5 1466,-42.5 1472,-42.5 1478,-48.5 1478,-54.5 1478,-54.5 1478,-83.5 1478,-83.5 1478,-89.5 1472,-95.5 1466,-95.5\"/>\n<text text-anchor=\"start\" x=\"1317\" y=\"-80.3\" font-family=\"Helvetica,sans-Serif\" font-size=\"14.00\" fill=\"#000000\">squared_error = 263.27</text>\n<text text-anchor=\"start\" x=\"1345.5\" y=\"-65.3\" font-family=\"Helvetica,sans-Serif\" font-size=\"14.00\" fill=\"#000000\">samples = 186</text>\n<text text-anchor=\"start\" x=\"1351\" y=\"-50.3\" font-family=\"Helvetica,sans-Serif\" font-size=\"14.00\" fill=\"#000000\">value = &#45;4.97</text>\n</g>\n<!-- 21&#45;&gt;24 -->\n<g id=\"edge16\" class=\"edge\">\n<title>21&#45;&gt;24</title>\n<path fill=\"none\" stroke=\"#000000\" d=\"M1310.1551,-846.886C1324.2381,-715.4443 1374.9243,-242.3735 1389.5334,-106.0217\"/>\n<polygon fill=\"#000000\" stroke=\"#000000\" points=\"1393.0541,-106.0142 1390.6395,-95.6982 1386.094,-105.2684 1393.0541,-106.0142\"/>\n</g>\n<!-- 9 -->\n<g id=\"node20\" class=\"node\">\n<title>9</title>\n<path fill=\"#f8decc\" stroke=\"#000000\" d=\"M2350,-915C2350,-915 2103,-915 2103,-915 2097,-915 2091,-909 2091,-903 2091,-903 2091,-859 2091,-859 2091,-853 2097,-847 2103,-847 2103,-847 2350,-847 2350,-847 2356,-847 2362,-853 2362,-859 2362,-859 2362,-903 2362,-903 2362,-909 2356,-915 2350,-915\"/>\n<text text-anchor=\"start\" x=\"2099\" y=\"-899.8\" font-family=\"Helvetica,sans-Serif\" font-size=\"14.00\" fill=\"#000000\">lastReportedPosition.speedMPH ≤ 43.5</text>\n<text text-anchor=\"start\" x=\"2154\" y=\"-884.8\" font-family=\"Helvetica,sans-Serif\" font-size=\"14.00\" fill=\"#000000\">squared_error = 387.4</text>\n<text text-anchor=\"start\" x=\"2174.5\" y=\"-869.8\" font-family=\"Helvetica,sans-Serif\" font-size=\"14.00\" fill=\"#000000\">samples = 1142</text>\n<text text-anchor=\"start\" x=\"2180\" y=\"-854.8\" font-family=\"Helvetica,sans-Serif\" font-size=\"14.00\" fill=\"#000000\">value = &#45;17.65</text>\n</g>\n<!-- 4&#45;&gt;9 -->\n<g id=\"edge19\" class=\"edge\">\n<title>4&#45;&gt;9</title>\n<path fill=\"none\" stroke=\"#000000\" d=\"M2226.5,-1116.8043C2226.5,-1068.2476 2226.5,-979.2681 2226.5,-925.5866\"/>\n<polygon fill=\"#000000\" stroke=\"#000000\" points=\"2230.0001,-925.3434 2226.5,-915.3434 2223.0001,-925.3435 2230.0001,-925.3434\"/>\n</g>\n<!-- 10 -->\n<g id=\"node29\" class=\"node\">\n<title>10</title>\n<path fill=\"#f3c7a7\" stroke=\"#000000\" d=\"M2767,-915C2767,-915 2622,-915 2622,-915 2616,-915 2610,-909 2610,-903 2610,-903 2610,-859 2610,-859 2610,-853 2616,-847 2622,-847 2622,-847 2767,-847 2767,-847 2773,-847 2779,-853 2779,-859 2779,-859 2779,-903 2779,-903 2779,-909 2773,-915 2767,-915\"/>\n<text text-anchor=\"start\" x=\"2641.5\" y=\"-899.8\" font-family=\"Helvetica,sans-Serif\" font-size=\"14.00\" fill=\"#000000\">milepost ≤ 243.0</text>\n<text text-anchor=\"start\" x=\"2618\" y=\"-884.8\" font-family=\"Helvetica,sans-Serif\" font-size=\"14.00\" fill=\"#000000\">squared_error = 410.69</text>\n<text text-anchor=\"start\" x=\"2646.5\" y=\"-869.8\" font-family=\"Helvetica,sans-Serif\" font-size=\"14.00\" fill=\"#000000\">samples = 104</text>\n<text text-anchor=\"start\" x=\"2652\" y=\"-854.8\" font-family=\"Helvetica,sans-Serif\" font-size=\"14.00\" fill=\"#000000\">value = &#45;2.92</text>\n</g>\n<!-- 4&#45;&gt;10 -->\n<g id=\"edge28\" class=\"edge\">\n<title>4&#45;&gt;10</title>\n<path fill=\"none\" stroke=\"#000000\" d=\"M2285.7725,-1116.8043C2372.7743,-1066.611 2534.6452,-973.2239 2626.4117,-920.2817\"/>\n<polygon fill=\"#000000\" stroke=\"#000000\" points=\"2628.4277,-923.1594 2635.3405,-915.1305 2624.9296,-917.0961 2628.4277,-923.1594\"/>\n</g>\n<!-- 11 -->\n<g id=\"node21\" class=\"node\">\n<title>11</title>\n<path fill=\"#f7dac4\" stroke=\"#000000\" d=\"M2210.5,-644C2210.5,-644 2054.5,-644 2054.5,-644 2048.5,-644 2042.5,-638 2042.5,-632 2042.5,-632 2042.5,-588 2042.5,-588 2042.5,-582 2048.5,-576 2054.5,-576 2054.5,-576 2210.5,-576 2210.5,-576 2216.5,-576 2222.5,-582 2222.5,-588 2222.5,-588 2222.5,-632 2222.5,-632 2222.5,-638 2216.5,-644 2210.5,-644\"/>\n<text text-anchor=\"start\" x=\"2050.5\" y=\"-628.8\" font-family=\"Helvetica,sans-Serif\" font-size=\"14.00\" fill=\"#000000\">trainId.trainSymbol ≤ 92.5</text>\n<text text-anchor=\"start\" x=\"2056\" y=\"-613.8\" font-family=\"Helvetica,sans-Serif\" font-size=\"14.00\" fill=\"#000000\">squared_error = 339.18</text>\n<text text-anchor=\"start\" x=\"2084.5\" y=\"-598.8\" font-family=\"Helvetica,sans-Serif\" font-size=\"14.00\" fill=\"#000000\">samples = 735</text>\n<text text-anchor=\"start\" x=\"2086\" y=\"-583.8\" font-family=\"Helvetica,sans-Serif\" font-size=\"14.00\" fill=\"#000000\">value = &#45;14.81</text>\n</g>\n<!-- 9&#45;&gt;11 -->\n<g id=\"edge20\" class=\"edge\">\n<title>9&#45;&gt;11</title>\n<path fill=\"none\" stroke=\"#000000\" d=\"M2214.69,-846.9521C2197.7002,-797.9708 2166.3556,-707.605 2147.6708,-653.7372\"/>\n<polygon fill=\"#000000\" stroke=\"#000000\" points=\"2150.9195,-652.4226 2144.3356,-644.1218 2144.306,-654.7166 2150.9195,-652.4226\"/>\n</g>\n<!-- 12 -->\n<g id=\"node26\" class=\"node\">\n<title>12</title>\n<path fill=\"#fae6d8\" stroke=\"#000000\" d=\"M2390,-644C2390,-644 2253,-644 2253,-644 2247,-644 2241,-638 2241,-632 2241,-632 2241,-588 2241,-588 2241,-582 2247,-576 2253,-576 2253,-576 2390,-576 2390,-576 2396,-576 2402,-582 2402,-588 2402,-588 2402,-632 2402,-632 2402,-638 2396,-644 2390,-644\"/>\n<text text-anchor=\"start\" x=\"2255\" y=\"-628.8\" font-family=\"Helvetica,sans-Serif\" font-size=\"14.00\" fill=\"#000000\">trainLength ≤ 3792.5</text>\n<text text-anchor=\"start\" x=\"2249\" y=\"-613.8\" font-family=\"Helvetica,sans-Serif\" font-size=\"14.00\" fill=\"#000000\">squared_error = 433.6</text>\n<text text-anchor=\"start\" x=\"2273.5\" y=\"-598.8\" font-family=\"Helvetica,sans-Serif\" font-size=\"14.00\" fill=\"#000000\">samples = 407</text>\n<text text-anchor=\"start\" x=\"2275\" y=\"-583.8\" font-family=\"Helvetica,sans-Serif\" font-size=\"14.00\" fill=\"#000000\">value = &#45;22.78</text>\n</g>\n<!-- 9&#45;&gt;12 -->\n<g id=\"edge25\" class=\"edge\">\n<title>9&#45;&gt;12</title>\n<path fill=\"none\" stroke=\"#000000\" d=\"M2238.4356,-846.9521C2255.6062,-797.9708 2287.2842,-707.605 2306.1678,-653.7372\"/>\n<polygon fill=\"#000000\" stroke=\"#000000\" points=\"2309.5332,-654.7166 2309.5385,-644.1218 2302.9273,-652.4009 2309.5332,-654.7166\"/>\n</g>\n<!-- 15 -->\n<g id=\"node22\" class=\"node\">\n<title>15</title>\n<path fill=\"#f6d5bd\" stroke=\"#000000\" d=\"M2023,-374C2023,-374 1878,-374 1878,-374 1872,-374 1866,-368 1866,-362 1866,-362 1866,-318 1866,-318 1866,-312 1872,-306 1878,-306 1878,-306 2023,-306 2023,-306 2029,-306 2035,-312 2035,-318 2035,-318 2035,-362 2035,-362 2035,-368 2029,-374 2023,-374\"/>\n<text text-anchor=\"start\" x=\"1885.5\" y=\"-358.8\" font-family=\"Helvetica,sans-Serif\" font-size=\"14.00\" fill=\"#000000\">workLocations ≤ 1.5</text>\n<text text-anchor=\"start\" x=\"1874\" y=\"-343.8\" font-family=\"Helvetica,sans-Serif\" font-size=\"14.00\" fill=\"#000000\">squared_error = 353.58</text>\n<text text-anchor=\"start\" x=\"1902.5\" y=\"-328.8\" font-family=\"Helvetica,sans-Serif\" font-size=\"14.00\" fill=\"#000000\">samples = 465</text>\n<text text-anchor=\"start\" x=\"1908\" y=\"-313.8\" font-family=\"Helvetica,sans-Serif\" font-size=\"14.00\" fill=\"#000000\">value = &#45;11.9</text>\n</g>\n<!-- 11&#45;&gt;15 -->\n<g id=\"edge21\" class=\"edge\">\n<title>11&#45;&gt;15</title>\n<path fill=\"none\" stroke=\"#000000\" d=\"M2109.4496,-575.8043C2076.3778,-526.7418 2015.4875,-436.41 1979.4317,-382.9207\"/>\n<polygon fill=\"#000000\" stroke=\"#000000\" points=\"1982.1417,-380.6792 1973.65,-374.3434 1976.3373,-384.5918 1982.1417,-380.6792\"/>\n</g>\n<!-- 16 -->\n<g id=\"node25\" class=\"node\">\n<title>16</title>\n<path fill=\"#f9e2d1\" stroke=\"#000000\" d=\"M2206,-95.5C2206,-95.5 2061,-95.5 2061,-95.5 2055,-95.5 2049,-89.5 2049,-83.5 2049,-83.5 2049,-54.5 2049,-54.5 2049,-48.5 2055,-42.5 2061,-42.5 2061,-42.5 2206,-42.5 2206,-42.5 2212,-42.5 2218,-48.5 2218,-54.5 2218,-54.5 2218,-83.5 2218,-83.5 2218,-89.5 2212,-95.5 2206,-95.5\"/>\n<text text-anchor=\"start\" x=\"2057\" y=\"-80.3\" font-family=\"Helvetica,sans-Serif\" font-size=\"14.00\" fill=\"#000000\">squared_error = 274.45</text>\n<text text-anchor=\"start\" x=\"2085.5\" y=\"-65.3\" font-family=\"Helvetica,sans-Serif\" font-size=\"14.00\" fill=\"#000000\">samples = 270</text>\n<text text-anchor=\"start\" x=\"2087\" y=\"-50.3\" font-family=\"Helvetica,sans-Serif\" font-size=\"14.00\" fill=\"#000000\">value = &#45;19.84</text>\n</g>\n<!-- 11&#45;&gt;16 -->\n<g id=\"edge24\" class=\"edge\">\n<title>11&#45;&gt;16</title>\n<path fill=\"none\" stroke=\"#000000\" d=\"M2132.5633,-575.7476C2132.7419,-479.1582 2133.2483,-205.1815 2133.4322,-105.6837\"/>\n<polygon fill=\"#000000\" stroke=\"#000000\" points=\"2136.9324,-105.5258 2133.451,-95.5194 2129.9324,-105.5128 2136.9324,-105.5258\"/>\n</g>\n<!-- 25 -->\n<g id=\"node23\" class=\"node\">\n<title>25</title>\n<path fill=\"#f5d0b5\" stroke=\"#000000\" d=\"M1840,-95.5C1840,-95.5 1695,-95.5 1695,-95.5 1689,-95.5 1683,-89.5 1683,-83.5 1683,-83.5 1683,-54.5 1683,-54.5 1683,-48.5 1689,-42.5 1695,-42.5 1695,-42.5 1840,-42.5 1840,-42.5 1846,-42.5 1852,-48.5 1852,-54.5 1852,-54.5 1852,-83.5 1852,-83.5 1852,-89.5 1846,-95.5 1840,-95.5\"/>\n<text text-anchor=\"start\" x=\"1691\" y=\"-80.3\" font-family=\"Helvetica,sans-Serif\" font-size=\"14.00\" fill=\"#000000\">squared_error = 340.08</text>\n<text text-anchor=\"start\" x=\"1719.5\" y=\"-65.3\" font-family=\"Helvetica,sans-Serif\" font-size=\"14.00\" fill=\"#000000\">samples = 318</text>\n<text text-anchor=\"start\" x=\"1725\" y=\"-50.3\" font-family=\"Helvetica,sans-Serif\" font-size=\"14.00\" fill=\"#000000\">value = &#45;8.83</text>\n</g>\n<!-- 15&#45;&gt;25 -->\n<g id=\"edge22\" class=\"edge\">\n<title>15&#45;&gt;25</title>\n<path fill=\"none\" stroke=\"#000000\" d=\"M1927.5082,-305.9521C1892.5896,-254.242 1826.5246,-156.408 1791.1937,-104.0875\"/>\n<polygon fill=\"#000000\" stroke=\"#000000\" points=\"1794.0865,-102.1171 1785.5896,-95.7884 1788.2853,-106.0345 1794.0865,-102.1171\"/>\n</g>\n<!-- 26 -->\n<g id=\"node24\" class=\"node\">\n<title>26</title>\n<path fill=\"#f9e0ce\" stroke=\"#000000\" d=\"M2019,-95.5C2019,-95.5 1882,-95.5 1882,-95.5 1876,-95.5 1870,-89.5 1870,-83.5 1870,-83.5 1870,-54.5 1870,-54.5 1870,-48.5 1876,-42.5 1882,-42.5 1882,-42.5 2019,-42.5 2019,-42.5 2025,-42.5 2031,-48.5 2031,-54.5 2031,-54.5 2031,-83.5 2031,-83.5 2031,-89.5 2025,-95.5 2019,-95.5\"/>\n<text text-anchor=\"start\" x=\"1878\" y=\"-80.3\" font-family=\"Helvetica,sans-Serif\" font-size=\"14.00\" fill=\"#000000\">squared_error = 318.3</text>\n<text text-anchor=\"start\" x=\"1902.5\" y=\"-65.3\" font-family=\"Helvetica,sans-Serif\" font-size=\"14.00\" fill=\"#000000\">samples = 147</text>\n<text text-anchor=\"start\" x=\"1904\" y=\"-50.3\" font-family=\"Helvetica,sans-Serif\" font-size=\"14.00\" fill=\"#000000\">value = &#45;18.54</text>\n</g>\n<!-- 15&#45;&gt;26 -->\n<g id=\"edge23\" class=\"edge\">\n<title>15&#45;&gt;26</title>\n<path fill=\"none\" stroke=\"#000000\" d=\"M1950.5,-305.9521C1950.5,-254.8817 1950.5,-158.8215 1950.5,-106.05\"/>\n<polygon fill=\"#000000\" stroke=\"#000000\" points=\"1954.0001,-105.7883 1950.5,-95.7884 1947.0001,-105.7884 1954.0001,-105.7883\"/>\n</g>\n<!-- 29 -->\n<g id=\"node27\" class=\"node\">\n<title>29</title>\n<path fill=\"#ffffff\" stroke=\"#000000\" d=\"M2393,-95.5C2393,-95.5 2248,-95.5 2248,-95.5 2242,-95.5 2236,-89.5 2236,-83.5 2236,-83.5 2236,-54.5 2236,-54.5 2236,-48.5 2242,-42.5 2248,-42.5 2248,-42.5 2393,-42.5 2393,-42.5 2399,-42.5 2405,-48.5 2405,-54.5 2405,-54.5 2405,-83.5 2405,-83.5 2405,-89.5 2399,-95.5 2393,-95.5\"/>\n<text text-anchor=\"start\" x=\"2244\" y=\"-80.3\" font-family=\"Helvetica,sans-Serif\" font-size=\"14.00\" fill=\"#000000\">squared_error = 424.34</text>\n<text text-anchor=\"start\" x=\"2276.5\" y=\"-65.3\" font-family=\"Helvetica,sans-Serif\" font-size=\"14.00\" fill=\"#000000\">samples = 30</text>\n<text text-anchor=\"start\" x=\"2274\" y=\"-50.3\" font-family=\"Helvetica,sans-Serif\" font-size=\"14.00\" fill=\"#000000\">value = &#45;38.17</text>\n</g>\n<!-- 12&#45;&gt;29 -->\n<g id=\"edge26\" class=\"edge\">\n<title>12&#45;&gt;29</title>\n<path fill=\"none\" stroke=\"#000000\" d=\"M2321.4367,-575.7476C2321.2581,-479.1582 2320.7517,-205.1815 2320.5678,-105.6837\"/>\n<polygon fill=\"#000000\" stroke=\"#000000\" points=\"2324.0676,-105.5128 2320.549,-95.5194 2317.0676,-105.5258 2324.0676,-105.5128\"/>\n</g>\n<!-- 30 -->\n<g id=\"node28\" class=\"node\">\n<title>30</title>\n<path fill=\"#fae4d5\" stroke=\"#000000\" d=\"M2580,-95.5C2580,-95.5 2435,-95.5 2435,-95.5 2429,-95.5 2423,-89.5 2423,-83.5 2423,-83.5 2423,-54.5 2423,-54.5 2423,-48.5 2429,-42.5 2435,-42.5 2435,-42.5 2580,-42.5 2580,-42.5 2586,-42.5 2592,-48.5 2592,-54.5 2592,-54.5 2592,-83.5 2592,-83.5 2592,-89.5 2586,-95.5 2580,-95.5\"/>\n<text text-anchor=\"start\" x=\"2431\" y=\"-80.3\" font-family=\"Helvetica,sans-Serif\" font-size=\"14.00\" fill=\"#000000\">squared_error = 414.01</text>\n<text text-anchor=\"start\" x=\"2459.5\" y=\"-65.3\" font-family=\"Helvetica,sans-Serif\" font-size=\"14.00\" fill=\"#000000\">samples = 377</text>\n<text text-anchor=\"start\" x=\"2461\" y=\"-50.3\" font-family=\"Helvetica,sans-Serif\" font-size=\"14.00\" fill=\"#000000\">value = &#45;21.56</text>\n</g>\n<!-- 12&#45;&gt;30 -->\n<g id=\"edge27\" class=\"edge\">\n<title>12&#45;&gt;30</title>\n<path fill=\"none\" stroke=\"#000000\" d=\"M2333.2762,-575.7476C2366.5517,-478.9627 2461.0614,-204.0715 2495.0949,-105.0816\"/>\n<polygon fill=\"#000000\" stroke=\"#000000\" points=\"2498.4409,-106.114 2498.3824,-95.5194 2491.8212,-103.8381 2498.4409,-106.114\"/>\n</g>\n<!-- 19 -->\n<g id=\"node30\" class=\"node\">\n<title>19</title>\n<path fill=\"#f1b992\" stroke=\"#000000\" d=\"M2767,-95.5C2767,-95.5 2622,-95.5 2622,-95.5 2616,-95.5 2610,-89.5 2610,-83.5 2610,-83.5 2610,-54.5 2610,-54.5 2610,-48.5 2616,-42.5 2622,-42.5 2622,-42.5 2767,-42.5 2767,-42.5 2773,-42.5 2779,-48.5 2779,-54.5 2779,-54.5 2779,-83.5 2779,-83.5 2779,-89.5 2773,-95.5 2767,-95.5\"/>\n<text text-anchor=\"start\" x=\"2618\" y=\"-80.3\" font-family=\"Helvetica,sans-Serif\" font-size=\"14.00\" fill=\"#000000\">squared_error = 260.37</text>\n<text text-anchor=\"start\" x=\"2650.5\" y=\"-65.3\" font-family=\"Helvetica,sans-Serif\" font-size=\"14.00\" fill=\"#000000\">samples = 61</text>\n<text text-anchor=\"start\" x=\"2654.5\" y=\"-50.3\" font-family=\"Helvetica,sans-Serif\" font-size=\"14.00\" fill=\"#000000\">value = 5.38</text>\n</g>\n<!-- 10&#45;&gt;19 -->\n<g id=\"edge29\" class=\"edge\">\n<title>10&#45;&gt;19</title>\n<path fill=\"none\" stroke=\"#000000\" d=\"M2694.5,-846.886C2694.5,-715.4443 2694.5,-242.3735 2694.5,-106.0217\"/>\n<polygon fill=\"#000000\" stroke=\"#000000\" points=\"2698.0001,-105.6982 2694.5,-95.6982 2691.0001,-105.6983 2698.0001,-105.6982\"/>\n</g>\n<!-- 20 -->\n<g id=\"node31\" class=\"node\">\n<title>20</title>\n<path fill=\"#f7dac4\" stroke=\"#000000\" d=\"M2954,-95.5C2954,-95.5 2809,-95.5 2809,-95.5 2803,-95.5 2797,-89.5 2797,-83.5 2797,-83.5 2797,-54.5 2797,-54.5 2797,-48.5 2803,-42.5 2809,-42.5 2809,-42.5 2954,-42.5 2954,-42.5 2960,-42.5 2966,-48.5 2966,-54.5 2966,-54.5 2966,-83.5 2966,-83.5 2966,-89.5 2960,-95.5 2954,-95.5\"/>\n<text text-anchor=\"start\" x=\"2805\" y=\"-80.3\" font-family=\"Helvetica,sans-Serif\" font-size=\"14.00\" fill=\"#000000\">squared_error = 387.56</text>\n<text text-anchor=\"start\" x=\"2837.5\" y=\"-65.3\" font-family=\"Helvetica,sans-Serif\" font-size=\"14.00\" fill=\"#000000\">samples = 43</text>\n<text text-anchor=\"start\" x=\"2839\" y=\"-50.3\" font-family=\"Helvetica,sans-Serif\" font-size=\"14.00\" fill=\"#000000\">value = &#45;14.7</text>\n</g>\n<!-- 10&#45;&gt;20 -->\n<g id=\"edge30\" class=\"edge\">\n<title>10&#45;&gt;20</title>\n<path fill=\"none\" stroke=\"#000000\" d=\"M2702.3563,-846.886C2732.6571,-715.3125 2841.7915,-241.4241 2873.0683,-105.6124\"/>\n<polygon fill=\"#000000\" stroke=\"#000000\" points=\"2876.5179,-106.2287 2875.3515,-95.6982 2869.6965,-104.6577 2876.5179,-106.2287\"/>\n</g>\n</g>\n</svg>\n"
          },
          "metadata": {},
          "execution_count": 52
        }
      ]
    },
    {
      "cell_type": "code",
      "source": [
        "m = DecisionTreeRegressor(min_samples_leaf=9)\n",
        "m.fit(xs, y);"
      ],
      "metadata": {
        "id": "_wto32TJkud4"
      },
      "execution_count": 53,
      "outputs": []
    },
    {
      "cell_type": "code",
      "source": [
        "def r_mse(pred,y): return round(math.sqrt(((pred-y)**2).mean()), 6)\n",
        "def m_rmse(m, xs, y): return r_mse(m.predict(xs), y)"
      ],
      "metadata": {
        "id": "D53phc2JE5RC"
      },
      "execution_count": 54,
      "outputs": []
    },
    {
      "cell_type": "markdown",
      "source": [
        "How well we fit the traing model:"
      ],
      "metadata": {
        "id": "mdZvu4cJuS9j"
      }
    },
    {
      "cell_type": "code",
      "source": [
        "m_rmse(m, xs, y)"
      ],
      "metadata": {
        "id": "8CYcTQHLHT4m",
        "colab": {
          "base_uri": "https://localhost:8080/"
        },
        "outputId": "f49f9a41-1fb7-4473-89ea-b6e0be5bfdaf"
      },
      "execution_count": 55,
      "outputs": [
        {
          "output_type": "execute_result",
          "data": {
            "text/plain": [
              "13.217968"
            ]
          },
          "metadata": {},
          "execution_count": 55
        }
      ]
    },
    {
      "cell_type": "markdown",
      "source": [
        "How well we fit the Validation Model:"
      ],
      "metadata": {
        "id": "MU_z9z6huZs0"
      }
    },
    {
      "cell_type": "code",
      "source": [
        "m_rmse(m, valid_xs, valid_y)"
      ],
      "metadata": {
        "id": "_oElvFDHHZHm",
        "colab": {
          "base_uri": "https://localhost:8080/"
        },
        "outputId": "67a72e43-c472-47a4-d5f8-40d5aa5daad2"
      },
      "execution_count": 56,
      "outputs": [
        {
          "output_type": "execute_result",
          "data": {
            "text/plain": [
              "20.267882"
            ]
          },
          "metadata": {},
          "execution_count": 56
        }
      ]
    },
    {
      "cell_type": "code",
      "source": [
        "def rf_feat_importance(m, df):\n",
        "    return pd.DataFrame({'cols':df.columns, 'imp':m.feature_importances_}\n",
        "                       ).sort_values('imp', ascending=False)"
      ],
      "metadata": {
        "id": "oCKCSQSlab4o"
      },
      "execution_count": 57,
      "outputs": []
    },
    {
      "cell_type": "code",
      "source": [
        "fi = rf_feat_importance(m, xs)\n",
        "fi[:10]"
      ],
      "metadata": {
        "id": "jxENiQDXlYKl",
        "colab": {
          "base_uri": "https://localhost:8080/",
          "height": 363
        },
        "outputId": "a424a149-dc98-4b3c-da0c-ab9e69d27234"
      },
      "execution_count": 58,
      "outputs": [
        {
          "output_type": "execute_result",
          "data": {
            "text/plain": [
              "                                                             cols       imp\n",
              "22                                  lastReportedPosition.speedMPH  0.534612\n",
              "38                                                       milepost  0.068911\n",
              "23  lastReportedPosition.milepostLocation.milepost.milepostNumber  0.060635\n",
              "3                                             trainId.trainSymbol  0.052934\n",
              "45                       lastReportedPosition.positionTimeElapsed  0.034245\n",
              "35                                                  emptyCarCount  0.034033\n",
              "0                                             ptcLeadLocomotiveId  0.022640\n",
              "33                                              maximumTrainSpeed  0.021576\n",
              "14                                                  workLocations  0.019580\n",
              "43                     lastReportedPosition.positionTimeDayofweek  0.019407"
            ],
            "text/html": [
              "\n",
              "  <div id=\"df-ab57276b-4bf9-448c-8c68-e9005b94203f\">\n",
              "    <div class=\"colab-df-container\">\n",
              "      <div>\n",
              "<style scoped>\n",
              "    .dataframe tbody tr th:only-of-type {\n",
              "        vertical-align: middle;\n",
              "    }\n",
              "\n",
              "    .dataframe tbody tr th {\n",
              "        vertical-align: top;\n",
              "    }\n",
              "\n",
              "    .dataframe thead th {\n",
              "        text-align: right;\n",
              "    }\n",
              "</style>\n",
              "<table border=\"1\" class=\"dataframe\">\n",
              "  <thead>\n",
              "    <tr style=\"text-align: right;\">\n",
              "      <th></th>\n",
              "      <th>cols</th>\n",
              "      <th>imp</th>\n",
              "    </tr>\n",
              "  </thead>\n",
              "  <tbody>\n",
              "    <tr>\n",
              "      <th>22</th>\n",
              "      <td>lastReportedPosition.speedMPH</td>\n",
              "      <td>0.534612</td>\n",
              "    </tr>\n",
              "    <tr>\n",
              "      <th>38</th>\n",
              "      <td>milepost</td>\n",
              "      <td>0.068911</td>\n",
              "    </tr>\n",
              "    <tr>\n",
              "      <th>23</th>\n",
              "      <td>lastReportedPosition.milepostLocation.milepost.milepostNumber</td>\n",
              "      <td>0.060635</td>\n",
              "    </tr>\n",
              "    <tr>\n",
              "      <th>3</th>\n",
              "      <td>trainId.trainSymbol</td>\n",
              "      <td>0.052934</td>\n",
              "    </tr>\n",
              "    <tr>\n",
              "      <th>45</th>\n",
              "      <td>lastReportedPosition.positionTimeElapsed</td>\n",
              "      <td>0.034245</td>\n",
              "    </tr>\n",
              "    <tr>\n",
              "      <th>35</th>\n",
              "      <td>emptyCarCount</td>\n",
              "      <td>0.034033</td>\n",
              "    </tr>\n",
              "    <tr>\n",
              "      <th>0</th>\n",
              "      <td>ptcLeadLocomotiveId</td>\n",
              "      <td>0.022640</td>\n",
              "    </tr>\n",
              "    <tr>\n",
              "      <th>33</th>\n",
              "      <td>maximumTrainSpeed</td>\n",
              "      <td>0.021576</td>\n",
              "    </tr>\n",
              "    <tr>\n",
              "      <th>14</th>\n",
              "      <td>workLocations</td>\n",
              "      <td>0.019580</td>\n",
              "    </tr>\n",
              "    <tr>\n",
              "      <th>43</th>\n",
              "      <td>lastReportedPosition.positionTimeDayofweek</td>\n",
              "      <td>0.019407</td>\n",
              "    </tr>\n",
              "  </tbody>\n",
              "</table>\n",
              "</div>\n",
              "      <button class=\"colab-df-convert\" onclick=\"convertToInteractive('df-ab57276b-4bf9-448c-8c68-e9005b94203f')\"\n",
              "              title=\"Convert this dataframe to an interactive table.\"\n",
              "              style=\"display:none;\">\n",
              "        \n",
              "  <svg xmlns=\"http://www.w3.org/2000/svg\" height=\"24px\"viewBox=\"0 0 24 24\"\n",
              "       width=\"24px\">\n",
              "    <path d=\"M0 0h24v24H0V0z\" fill=\"none\"/>\n",
              "    <path d=\"M18.56 5.44l.94 2.06.94-2.06 2.06-.94-2.06-.94-.94-2.06-.94 2.06-2.06.94zm-11 1L8.5 8.5l.94-2.06 2.06-.94-2.06-.94L8.5 2.5l-.94 2.06-2.06.94zm10 10l.94 2.06.94-2.06 2.06-.94-2.06-.94-.94-2.06-.94 2.06-2.06.94z\"/><path d=\"M17.41 7.96l-1.37-1.37c-.4-.4-.92-.59-1.43-.59-.52 0-1.04.2-1.43.59L10.3 9.45l-7.72 7.72c-.78.78-.78 2.05 0 2.83L4 21.41c.39.39.9.59 1.41.59.51 0 1.02-.2 1.41-.59l7.78-7.78 2.81-2.81c.8-.78.8-2.07 0-2.86zM5.41 20L4 18.59l7.72-7.72 1.47 1.35L5.41 20z\"/>\n",
              "  </svg>\n",
              "      </button>\n",
              "      \n",
              "  <style>\n",
              "    .colab-df-container {\n",
              "      display:flex;\n",
              "      flex-wrap:wrap;\n",
              "      gap: 12px;\n",
              "    }\n",
              "\n",
              "    .colab-df-convert {\n",
              "      background-color: #E8F0FE;\n",
              "      border: none;\n",
              "      border-radius: 50%;\n",
              "      cursor: pointer;\n",
              "      display: none;\n",
              "      fill: #1967D2;\n",
              "      height: 32px;\n",
              "      padding: 0 0 0 0;\n",
              "      width: 32px;\n",
              "    }\n",
              "\n",
              "    .colab-df-convert:hover {\n",
              "      background-color: #E2EBFA;\n",
              "      box-shadow: 0px 1px 2px rgba(60, 64, 67, 0.3), 0px 1px 3px 1px rgba(60, 64, 67, 0.15);\n",
              "      fill: #174EA6;\n",
              "    }\n",
              "\n",
              "    [theme=dark] .colab-df-convert {\n",
              "      background-color: #3B4455;\n",
              "      fill: #D2E3FC;\n",
              "    }\n",
              "\n",
              "    [theme=dark] .colab-df-convert:hover {\n",
              "      background-color: #434B5C;\n",
              "      box-shadow: 0px 1px 3px 1px rgba(0, 0, 0, 0.15);\n",
              "      filter: drop-shadow(0px 1px 2px rgba(0, 0, 0, 0.3));\n",
              "      fill: #FFFFFF;\n",
              "    }\n",
              "  </style>\n",
              "\n",
              "      <script>\n",
              "        const buttonEl =\n",
              "          document.querySelector('#df-ab57276b-4bf9-448c-8c68-e9005b94203f button.colab-df-convert');\n",
              "        buttonEl.style.display =\n",
              "          google.colab.kernel.accessAllowed ? 'block' : 'none';\n",
              "\n",
              "        async function convertToInteractive(key) {\n",
              "          const element = document.querySelector('#df-ab57276b-4bf9-448c-8c68-e9005b94203f');\n",
              "          const dataTable =\n",
              "            await google.colab.kernel.invokeFunction('convertToInteractive',\n",
              "                                                     [key], {});\n",
              "          if (!dataTable) return;\n",
              "\n",
              "          const docLinkHtml = 'Like what you see? Visit the ' +\n",
              "            '<a target=\"_blank\" href=https://colab.research.google.com/notebooks/data_table.ipynb>data table notebook</a>'\n",
              "            + ' to learn more about interactive tables.';\n",
              "          element.innerHTML = '';\n",
              "          dataTable['output_type'] = 'display_data';\n",
              "          await google.colab.output.renderOutput(dataTable, element);\n",
              "          const docLink = document.createElement('div');\n",
              "          docLink.innerHTML = docLinkHtml;\n",
              "          element.appendChild(docLink);\n",
              "        }\n",
              "      </script>\n",
              "    </div>\n",
              "  </div>\n",
              "  "
            ]
          },
          "metadata": {},
          "execution_count": 58
        }
      ]
    },
    {
      "cell_type": "markdown",
      "source": [
        ""
      ],
      "metadata": {
        "id": "GAU4iShuUTlj"
      }
    },
    {
      "cell_type": "code",
      "source": [
        "ax = xs['lastReportedPosition.speedMPH'].hist(bins=60)\n"
      ],
      "metadata": {
        "id": "W_xHGvS4mTAv",
        "colab": {
          "base_uri": "https://localhost:8080/",
          "height": 265
        },
        "outputId": "7cf1f5b4-9aaa-4748-8cef-f18f602a0f8d"
      },
      "execution_count": 59,
      "outputs": [
        {
          "output_type": "display_data",
          "data": {
            "text/plain": [
              "<Figure size 432x288 with 1 Axes>"
            ],
            "image/png": "[encoded data removed]"
          },
          "metadata": {
            "needs_background": "light"
          }
        }
      ]
    },
    {
      "cell_type": "code",
      "source": [
        "from sklearn.inspection import plot_partial_dependence\n",
        "\n",
        "fig,ax = plt.subplots(figsize=(12, 4))\n",
        "plot_partial_dependence(m, xs, ['lastReportedPosition.speedMPH'],\n",
        "                        grid_resolution=20, ax=ax);"
      ],
      "metadata": {
        "id": "dVfYTqKvniXo",
        "colab": {
          "base_uri": "https://localhost:8080/",
          "height": 334
        },
        "outputId": "6e8d919b-2677-4433-c39e-a1db4dc2e6f8"
      },
      "execution_count": 60,
      "outputs": [
        {
          "output_type": "stream",
          "name": "stderr",
          "text": [
            "/usr/local/lib/python3.7/dist-packages/sklearn/utils/deprecation.py:87: FutureWarning: Function plot_partial_dependence is deprecated; Function `plot_partial_dependence` is deprecated in 1.0 and will be removed in 1.2. Use PartialDependenceDisplay.from_estimator instead\n",
            "  warnings.warn(msg, category=FutureWarning)\n"
          ]
        },
        {
          "output_type": "display_data",
          "data": {
            "text/plain": [
              "<Figure size 864x288 with 2 Axes>"
            ],
            "image/png": "[encoded data removed]"
          },
          "metadata": {
            "needs_background": "light"
          }
        }
      ]
    },
    {
      "cell_type": "markdown",
      "source": [
        "This is sort of a dur moment, saying \"Speeds don't change a lot one milepost to the next\".  "
      ],
      "metadata": {
        "id": "CmpVELOUoF-l"
      }
    },
    {
      "cell_type": "markdown",
      "source": [
        "#Random Forest"
      ],
      "metadata": {
        "id": "-iGNWlJDmQrV"
      }
    },
    {
      "cell_type": "code",
      "source": [
        "def randomForest(xs, y, n_estimators=50, max_samples=2500,\n",
        "       max_features=0.5, min_samples_leaf=5, **kwargs):\n",
        "    return RandomForestRegressor(n_jobs=-1, n_estimators=n_estimators,\n",
        "        max_samples=max_samples, max_features=max_features,\n",
        "        min_samples_leaf=min_samples_leaf, oob_score=True).fit(xs, y)"
      ],
      "metadata": {
        "id": "FllkOgNkUTGW"
      },
      "execution_count": 61,
      "outputs": []
    },
    {
      "cell_type": "code",
      "source": [
        "m = randomForest(xs, y);"
      ],
      "metadata": {
        "id": "OqX5AcTWVRXE"
      },
      "execution_count": 62,
      "outputs": []
    },
    {
      "cell_type": "code",
      "source": [
        "m_rmse(m, xs, y), m_rmse(m, valid_xs, valid_y)"
      ],
      "metadata": {
        "id": "33ncywqjVcwn",
        "colab": {
          "base_uri": "https://localhost:8080/"
        },
        "outputId": "5bdcb306-af65-461d-8e70-ffb1b74ac165"
      },
      "execution_count": 63,
      "outputs": [
        {
          "output_type": "execute_result",
          "data": {
            "text/plain": [
              "(11.650284, 16.245815)"
            ]
          },
          "metadata": {},
          "execution_count": 63
        }
      ]
    },
    {
      "cell_type": "code",
      "source": [
        "preds = np.stack([t.predict(valid_xs) for t in m.estimators_])"
      ],
      "metadata": {
        "id": "Dg6iyZCIW0Nt"
      },
      "execution_count": null,
      "outputs": []
    },
    {
      "cell_type": "code",
      "source": [
        "r_mse(preds.mean(0), valid_y)"
      ],
      "metadata": {
        "id": "5UldrkUhXFbi",
        "colab": {
          "base_uri": "https://localhost:8080/"
        },
        "outputId": "14f56f39-db75-44c2-cff5-ad3e36eaf987"
      },
      "execution_count": 65,
      "outputs": [
        {
          "output_type": "execute_result",
          "data": {
            "text/plain": [
              "16.245815"
            ]
          },
          "metadata": {},
          "execution_count": 65
        }
      ]
    },
    {
      "cell_type": "code",
      "source": [
        "plt.plot([r_mse(preds[:i+1].mean(0), valid_y) for i in range(50)]);"
      ],
      "metadata": {
        "id": "eT0fXh6uXIp1",
        "colab": {
          "base_uri": "https://localhost:8080/",
          "height": 265
        },
        "outputId": "3c456302-d5a2-4484-9da0-a78780e528ed"
      },
      "execution_count": 66,
      "outputs": [
        {
          "output_type": "display_data",
          "data": {
            "text/plain": [
              "<Figure size 432x288 with 1 Axes>"
            ],
            "image/png": "[encoded data removed]"
          },
          "metadata": {
            "needs_background": "light"
          }
        }
      ]
    },
    {
      "cell_type": "markdown",
      "source": [
        "### Out-of-Bag Error"
      ],
      "metadata": {
        "id": "GN-VS3_2YsOd"
      }
    },
    {
      "cell_type": "code",
      "source": [
        "r_mse(m.oob_prediction_, y)"
      ],
      "metadata": {
        "id": "tvwS19-6Yc20",
        "colab": {
          "base_uri": "https://localhost:8080/"
        },
        "outputId": "2da81d92-0f49-4796-f101-a96a5c74eb1b"
      },
      "execution_count": 67,
      "outputs": [
        {
          "output_type": "execute_result",
          "data": {
            "text/plain": [
              "15.816582"
            ]
          },
          "metadata": {},
          "execution_count": 67
        }
      ]
    },
    {
      "cell_type": "code",
      "source": [
        ""
      ],
      "metadata": {
        "id": "URHsHfuMZDAS"
      },
      "execution_count": 67,
      "outputs": []
    },
    {
      "cell_type": "markdown",
      "source": [
        "- How confident are we in our predictions using a particular row of data?\n",
        "- For predicting with a particular row of data, what were the most important factors, and how did they influence that prediction?\n",
        "- Which columns are the strongest predictors, which can we ignore?\n",
        "- Which columns are effectively redundant with each other, for purposes of prediction?\n",
        "- How do predictions vary, as we vary these columns?\n"
      ],
      "metadata": {
        "id": "-jSxQWTZZDfx"
      }
    },
    {
      "cell_type": "code",
      "source": [
        "preds = np.stack([t.predict(valid_xs) for t in m.estimators_])"
      ],
      "metadata": {
        "id": "eS53q1RUZRva"
      },
      "execution_count": null,
      "outputs": []
    },
    {
      "cell_type": "code",
      "source": [
        "preds.shape"
      ],
      "metadata": {
        "id": "quArhZFkZtq_",
        "colab": {
          "base_uri": "https://localhost:8080/"
        },
        "outputId": "de30d245-9ea8-43a0-c476-d12274a8f427"
      },
      "execution_count": 69,
      "outputs": [
        {
          "output_type": "execute_result",
          "data": {
            "text/plain": [
              "(50, 1036)"
            ]
          },
          "metadata": {},
          "execution_count": 69
        }
      ]
    },
    {
      "cell_type": "code",
      "source": [
        "preds_std = preds.std(0)"
      ],
      "metadata": {
        "id": "xZCBhV9MZxSH"
      },
      "execution_count": 70,
      "outputs": []
    },
    {
      "cell_type": "code",
      "source": [
        "preds_std[:5]"
      ],
      "metadata": {
        "id": "ZvKvldDdZ44S",
        "colab": {
          "base_uri": "https://localhost:8080/"
        },
        "outputId": "4439c5ed-8a5d-45f1-e5a0-8d9fc108b9e6"
      },
      "execution_count": 71,
      "outputs": [
        {
          "output_type": "execute_result",
          "data": {
            "text/plain": [
              "array([13.08895113, 11.54427715, 13.80460304, 11.57398255,  9.63504404])"
            ]
          },
          "metadata": {},
          "execution_count": 71
        }
      ]
    },
    {
      "cell_type": "code",
      "source": [
        "print(preds.mean(0)[:10])\n",
        "print(valid_y[:10])"
      ],
      "metadata": {
        "id": "ispifOrY-VK3",
        "colab": {
          "base_uri": "https://localhost:8080/"
        },
        "outputId": "b61005de-ec05-4315-823a-a2dba8ee0e8e"
      },
      "execution_count": 72,
      "outputs": [
        {
          "output_type": "stream",
          "name": "stdout",
          "text": [
            "[ 18.8983739   24.70387535 -12.91188029  -7.79531507   2.89269149 -13.66708392 -17.46553491   7.27671212   3.58933589   5.37742878]\n",
            "98     25.0\n",
            "99     43.0\n",
            "100     6.0\n",
            "101    10.0\n",
            "102    14.0\n",
            "103    -4.0\n",
            "104   -16.0\n",
            "163    12.0\n",
            "195   -11.0\n",
            "196    12.0\n",
            "Name: nextSpeed, dtype: float32\n"
          ]
        }
      ]
    },
    {
      "cell_type": "markdown",
      "source": [
        "# FEATURE Importance"
      ],
      "metadata": {
        "id": "tkENwKVIaPXc"
      }
    },
    {
      "cell_type": "code",
      "source": [
        "fi = rf_feat_importance(m, xs)\n",
        "fi[:20]"
      ],
      "metadata": {
        "id": "_xddcBHXaj9O",
        "colab": {
          "base_uri": "https://localhost:8080/",
          "height": 676
        },
        "outputId": "5fa1ccad-b6f5-4a40-df95-d3edd82c879a"
      },
      "execution_count": 73,
      "outputs": [
        {
          "output_type": "execute_result",
          "data": {
            "text/plain": [
              "                                                             cols       imp\n",
              "22                                  lastReportedPosition.speedMPH  0.429162\n",
              "23  lastReportedPosition.milepostLocation.milepost.milepostNumber  0.085710\n",
              "12                                                         mpIncr  0.062872\n",
              "38                                                       milepost  0.057023\n",
              "45                       lastReportedPosition.positionTimeElapsed  0.044110\n",
              "3                                             trainId.trainSymbol  0.036052\n",
              "25                                   aotuTrainData.totalCarLength  0.024189\n",
              "0                                             ptcLeadLocomotiveId  0.023735\n",
              "36                                                    trainLength  0.022135\n",
              "26                            aotuTrainData.totalLocomotiveWeight  0.020151\n",
              "24                                   aotuTrainData.totalCarWeight  0.017841\n",
              "37                                                trailingTonnage  0.017521\n",
              "35                                                  emptyCarCount  0.017441\n",
              "14                                                  workLocations  0.016917\n",
              "34                                                 loadedCarCount  0.016721\n",
              "4                                               trainId.trainDate  0.013872\n",
              "27                            aotuTrainData.totalLocomotiveLength  0.013866\n",
              "29                              aotuTrainData.heavy143TonCarCount  0.012652\n",
              "43                     lastReportedPosition.positionTimeDayofweek  0.011545\n",
              "33                                              maximumTrainSpeed  0.011291"
            ],
            "text/html": [
              "\n",
              "  <div id=\"df-03b82f59-93d5-483e-89ce-b9bc93eafd9d\">\n",
              "    <div class=\"colab-df-container\">\n",
              "      <div>\n",
              "<style scoped>\n",
              "    .dataframe tbody tr th:only-of-type {\n",
              "        vertical-align: middle;\n",
              "    }\n",
              "\n",
              "    .dataframe tbody tr th {\n",
              "        vertical-align: top;\n",
              "    }\n",
              "\n",
              "    .dataframe thead th {\n",
              "        text-align: right;\n",
              "    }\n",
              "</style>\n",
              "<table border=\"1\" class=\"dataframe\">\n",
              "  <thead>\n",
              "    <tr style=\"text-align: right;\">\n",
              "      <th></th>\n",
              "      <th>cols</th>\n",
              "      <th>imp</th>\n",
              "    </tr>\n",
              "  </thead>\n",
              "  <tbody>\n",
              "    <tr>\n",
              "      <th>22</th>\n",
              "      <td>lastReportedPosition.speedMPH</td>\n",
              "      <td>0.429162</td>\n",
              "    </tr>\n",
              "    <tr>\n",
              "      <th>23</th>\n",
              "      <td>lastReportedPosition.milepostLocation.milepost.milepostNumber</td>\n",
              "      <td>0.085710</td>\n",
              "    </tr>\n",
              "    <tr>\n",
              "      <th>12</th>\n",
              "      <td>mpIncr</td>\n",
              "      <td>0.062872</td>\n",
              "    </tr>\n",
              "    <tr>\n",
              "      <th>38</th>\n",
              "      <td>milepost</td>\n",
              "      <td>0.057023</td>\n",
              "    </tr>\n",
              "    <tr>\n",
              "      <th>45</th>\n",
              "      <td>lastReportedPosition.positionTimeElapsed</td>\n",
              "      <td>0.044110</td>\n",
              "    </tr>\n",
              "    <tr>\n",
              "      <th>3</th>\n",
              "      <td>trainId.trainSymbol</td>\n",
              "      <td>0.036052</td>\n",
              "    </tr>\n",
              "    <tr>\n",
              "      <th>25</th>\n",
              "      <td>aotuTrainData.totalCarLength</td>\n",
              "      <td>0.024189</td>\n",
              "    </tr>\n",
              "    <tr>\n",
              "      <th>0</th>\n",
              "      <td>ptcLeadLocomotiveId</td>\n",
              "      <td>0.023735</td>\n",
              "    </tr>\n",
              "    <tr>\n",
              "      <th>36</th>\n",
              "      <td>trainLength</td>\n",
              "      <td>0.022135</td>\n",
              "    </tr>\n",
              "    <tr>\n",
              "      <th>26</th>\n",
              "      <td>aotuTrainData.totalLocomotiveWeight</td>\n",
              "      <td>0.020151</td>\n",
              "    </tr>\n",
              "    <tr>\n",
              "      <th>24</th>\n",
              "      <td>aotuTrainData.totalCarWeight</td>\n",
              "      <td>0.017841</td>\n",
              "    </tr>\n",
              "    <tr>\n",
              "      <th>37</th>\n",
              "      <td>trailingTonnage</td>\n",
              "      <td>0.017521</td>\n",
              "    </tr>\n",
              "    <tr>\n",
              "      <th>35</th>\n",
              "      <td>emptyCarCount</td>\n",
              "      <td>0.017441</td>\n",
              "    </tr>\n",
              "    <tr>\n",
              "      <th>14</th>\n",
              "      <td>workLocations</td>\n",
              "      <td>0.016917</td>\n",
              "    </tr>\n",
              "    <tr>\n",
              "      <th>34</th>\n",
              "      <td>loadedCarCount</td>\n",
              "      <td>0.016721</td>\n",
              "    </tr>\n",
              "    <tr>\n",
              "      <th>4</th>\n",
              "      <td>trainId.trainDate</td>\n",
              "      <td>0.013872</td>\n",
              "    </tr>\n",
              "    <tr>\n",
              "      <th>27</th>\n",
              "      <td>aotuTrainData.totalLocomotiveLength</td>\n",
              "      <td>0.013866</td>\n",
              "    </tr>\n",
              "    <tr>\n",
              "      <th>29</th>\n",
              "      <td>aotuTrainData.heavy143TonCarCount</td>\n",
              "      <td>0.012652</td>\n",
              "    </tr>\n",
              "    <tr>\n",
              "      <th>43</th>\n",
              "      <td>lastReportedPosition.positionTimeDayofweek</td>\n",
              "      <td>0.011545</td>\n",
              "    </tr>\n",
              "    <tr>\n",
              "      <th>33</th>\n",
              "      <td>maximumTrainSpeed</td>\n",
              "      <td>0.011291</td>\n",
              "    </tr>\n",
              "  </tbody>\n",
              "</table>\n",
              "</div>\n",
              "      <button class=\"colab-df-convert\" onclick=\"convertToInteractive('df-03b82f59-93d5-483e-89ce-b9bc93eafd9d')\"\n",
              "              title=\"Convert this dataframe to an interactive table.\"\n",
              "              style=\"display:none;\">\n",
              "        \n",
              "  <svg xmlns=\"http://www.w3.org/2000/svg\" height=\"24px\"viewBox=\"0 0 24 24\"\n",
              "       width=\"24px\">\n",
              "    <path d=\"M0 0h24v24H0V0z\" fill=\"none\"/>\n",
              "    <path d=\"M18.56 5.44l.94 2.06.94-2.06 2.06-.94-2.06-.94-.94-2.06-.94 2.06-2.06.94zm-11 1L8.5 8.5l.94-2.06 2.06-.94-2.06-.94L8.5 2.5l-.94 2.06-2.06.94zm10 10l.94 2.06.94-2.06 2.06-.94-2.06-.94-.94-2.06-.94 2.06-2.06.94z\"/><path d=\"M17.41 7.96l-1.37-1.37c-.4-.4-.92-.59-1.43-.59-.52 0-1.04.2-1.43.59L10.3 9.45l-7.72 7.72c-.78.78-.78 2.05 0 2.83L4 21.41c.39.39.9.59 1.41.59.51 0 1.02-.2 1.41-.59l7.78-7.78 2.81-2.81c.8-.78.8-2.07 0-2.86zM5.41 20L4 18.59l7.72-7.72 1.47 1.35L5.41 20z\"/>\n",
              "  </svg>\n",
              "      </button>\n",
              "      \n",
              "  <style>\n",
              "    .colab-df-container {\n",
              "      display:flex;\n",
              "      flex-wrap:wrap;\n",
              "      gap: 12px;\n",
              "    }\n",
              "\n",
              "    .colab-df-convert {\n",
              "      background-color: #E8F0FE;\n",
              "      border: none;\n",
              "      border-radius: 50%;\n",
              "      cursor: pointer;\n",
              "      display: none;\n",
              "      fill: #1967D2;\n",
              "      height: 32px;\n",
              "      padding: 0 0 0 0;\n",
              "      width: 32px;\n",
              "    }\n",
              "\n",
              "    .colab-df-convert:hover {\n",
              "      background-color: #E2EBFA;\n",
              "      box-shadow: 0px 1px 2px rgba(60, 64, 67, 0.3), 0px 1px 3px 1px rgba(60, 64, 67, 0.15);\n",
              "      fill: #174EA6;\n",
              "    }\n",
              "\n",
              "    [theme=dark] .colab-df-convert {\n",
              "      background-color: #3B4455;\n",
              "      fill: #D2E3FC;\n",
              "    }\n",
              "\n",
              "    [theme=dark] .colab-df-convert:hover {\n",
              "      background-color: #434B5C;\n",
              "      box-shadow: 0px 1px 3px 1px rgba(0, 0, 0, 0.15);\n",
              "      filter: drop-shadow(0px 1px 2px rgba(0, 0, 0, 0.3));\n",
              "      fill: #FFFFFF;\n",
              "    }\n",
              "  </style>\n",
              "\n",
              "      <script>\n",
              "        const buttonEl =\n",
              "          document.querySelector('#df-03b82f59-93d5-483e-89ce-b9bc93eafd9d button.colab-df-convert');\n",
              "        buttonEl.style.display =\n",
              "          google.colab.kernel.accessAllowed ? 'block' : 'none';\n",
              "\n",
              "        async function convertToInteractive(key) {\n",
              "          const element = document.querySelector('#df-03b82f59-93d5-483e-89ce-b9bc93eafd9d');\n",
              "          const dataTable =\n",
              "            await google.colab.kernel.invokeFunction('convertToInteractive',\n",
              "                                                     [key], {});\n",
              "          if (!dataTable) return;\n",
              "\n",
              "          const docLinkHtml = 'Like what you see? Visit the ' +\n",
              "            '<a target=\"_blank\" href=https://colab.research.google.com/notebooks/data_table.ipynb>data table notebook</a>'\n",
              "            + ' to learn more about interactive tables.';\n",
              "          element.innerHTML = '';\n",
              "          dataTable['output_type'] = 'display_data';\n",
              "          await google.colab.output.renderOutput(dataTable, element);\n",
              "          const docLink = document.createElement('div');\n",
              "          docLink.innerHTML = docLinkHtml;\n",
              "          element.appendChild(docLink);\n",
              "        }\n",
              "      </script>\n",
              "    </div>\n",
              "  </div>\n",
              "  "
            ]
          },
          "metadata": {},
          "execution_count": 73
        }
      ]
    },
    {
      "cell_type": "code",
      "source": [
        "def plot_fi(fi):\n",
        "    return fi.plot('cols', 'imp', 'barh', figsize=(12,7), legend=False)\n",
        "\n",
        "plot_fi(fi[:30]);"
      ],
      "metadata": {
        "id": "PrrzmK6AflwF",
        "colab": {
          "base_uri": "https://localhost:8080/",
          "height": 428
        },
        "outputId": "8cf54f10-d2f1-40ad-ef32-d2dd8b3344c3"
      },
      "execution_count": 74,
      "outputs": [
        {
          "output_type": "display_data",
          "data": {
            "text/plain": [
              "<Figure size 864x504 with 1 Axes>"
            ],
            "image/png": "[encoded data removed]"
          },
          "metadata": {
            "needs_background": "light"
          }
        }
      ]
    },
    {
      "cell_type": "markdown",
      "source": [
        "Remove low importance columns"
      ],
      "metadata": {
        "id": "ic6LbeWIf2EQ"
      }
    },
    {
      "cell_type": "code",
      "source": [
        "to_keep = fi[fi.imp>0.002].cols\n",
        "len(to_keep)"
      ],
      "metadata": {
        "id": "jaWtqZdQfwmy",
        "colab": {
          "base_uri": "https://localhost:8080/"
        },
        "outputId": "65691677-84c7-48f4-f5dc-bd030dae270d"
      },
      "execution_count": 75,
      "outputs": [
        {
          "output_type": "execute_result",
          "data": {
            "text/plain": [
              "27"
            ]
          },
          "metadata": {},
          "execution_count": 75
        }
      ]
    },
    {
      "cell_type": "code",
      "source": [
        "xs_imp = xs[to_keep]\n",
        "valid_xs_imp = valid_xs[to_keep]"
      ],
      "metadata": {
        "id": "KK47uCFsgAYv"
      },
      "execution_count": 76,
      "outputs": []
    },
    {
      "cell_type": "code",
      "source": [
        "m = randomForest(xs_imp, y)"
      ],
      "metadata": {
        "id": "GgFy875_gGp4"
      },
      "execution_count": 77,
      "outputs": []
    },
    {
      "cell_type": "code",
      "source": [
        "m_rmse(m, xs_imp, y), m_rmse(m, valid_xs_imp, valid_y)"
      ],
      "metadata": {
        "id": "5e5LZrqmgJf2",
        "colab": {
          "base_uri": "https://localhost:8080/"
        },
        "outputId": "bd55b6c1-88a7-4c76-afcb-77894f065a17"
      },
      "execution_count": 78,
      "outputs": [
        {
          "output_type": "execute_result",
          "data": {
            "text/plain": [
              "(11.617873, 16.481664)"
            ]
          },
          "metadata": {},
          "execution_count": 78
        }
      ]
    },
    {
      "cell_type": "code",
      "source": [
        "plot_fi(rf_feat_importance(m, xs_imp));"
      ],
      "metadata": {
        "id": "5Szx4cKsgKPL",
        "colab": {
          "base_uri": "https://localhost:8080/",
          "height": 428
        },
        "outputId": "ab11b6b8-101a-40d8-e1fd-abd38e5b36de"
      },
      "execution_count": 79,
      "outputs": [
        {
          "output_type": "display_data",
          "data": {
            "text/plain": [
              "<Figure size 864x504 with 1 Axes>"
            ],
            "image/png": "[encoded data removed]"
          },
          "metadata": {
            "needs_background": "light"
          }
        }
      ]
    },
    {
      "cell_type": "code",
      "source": [
        "fastai.cluster_columns(xs_imp)"
      ],
      "metadata": {
        "id": "ZRqtok8LhwlR",
        "colab": {
          "base_uri": "https://localhost:8080/",
          "height": 374
        },
        "outputId": "fc15aaa2-cacc-4d2d-b180-a00e224aa976"
      },
      "execution_count": 80,
      "outputs": [
        {
          "output_type": "display_data",
          "data": {
            "text/plain": [
              "<Figure size 720x432 with 1 Axes>"
            ],
            "image/png": "[encoded data removed]"
          },
          "metadata": {
            "needs_background": "light"
          }
        }
      ]
    },
    {
      "cell_type": "markdown",
      "source": [
        "# Compute the Physics Model loss for the same interval:"
      ],
      "metadata": {
        "id": "Q-BM2Bkc_YgZ"
      }
    },
    {
      "cell_type": "code",
      "source": [
        "b = dfTrainsNextBeop.tail(14165)\n",
        "# beopValues = beopValues.to_frame().join(valid_y)\n",
        "#m_rmse(m, valid_xs_imp, valid_y)\n",
        "b = b.reset_index(drop=true)\n",
        "#print (b)\n",
        "y = valid_y.reset_index(drop=true)\n",
        "#print (y)\n",
        "df2  = pd.concat([b, y], axis=1)\n",
        "df2.dropna()\n",
        "print(df2)\n",
        "r_mse(df2['nextBeop'], df2['nextSpeed'])\n",
        "# print(BeopValidations[:5])\n",
        "#print(valid_y[:5])"
      ],
      "metadata": {
        "colab": {
          "base_uri": "https://localhost:8080/"
        },
        "id": "9-wNLj6p9amP",
        "outputId": "a0233a7c-e9a2-494d-b3cd-844d8c5f8eba"
      },
      "execution_count": 81,
      "outputs": [
        {
          "output_type": "stream",
          "name": "stdout",
          "text": [
            "      nextBeop  nextSpeed\n",
            "0         -8.0       25.0\n",
            "1        -28.0       43.0\n",
            "2          NaN        6.0\n",
            "3          NaN       10.0\n",
            "4          NaN       14.0\n",
            "...        ...        ...\n",
            "3915     -16.0        NaN\n",
            "3916     -35.0        NaN\n",
            "3917     -38.0        NaN\n",
            "3918       1.0        NaN\n",
            "3919      35.0        NaN\n",
            "\n",
            "[3920 rows x 2 columns]\n"
          ]
        },
        {
          "output_type": "execute_result",
          "data": {
            "text/plain": [
              "32.517897"
            ]
          },
          "metadata": {},
          "execution_count": 81
        }
      ]
    },
    {
      "cell_type": "markdown",
      "source": [
        "# Finding Out-of-Domain Data\n",
        "Spot variables that are unique to the test set versus the training set"
      ],
      "metadata": {
        "id": "1N-rN5Y9BoHT"
      }
    },
    {
      "cell_type": "code",
      "source": [
        "df_dom = pd.concat([xs, valid_xs])\n",
        "is_valid = np.array([0]*len(xs) + [1]*len(valid_xs))\n",
        "\n",
        "m = randomForest(df_dom, is_valid)\n",
        "rf_feat_importance(m, df_dom)[:8]"
      ],
      "metadata": {
        "colab": {
          "base_uri": "https://localhost:8080/",
          "height": 300
        },
        "id": "qzU3ybMaBuOr",
        "outputId": "2213192d-0683-402e-d646-834ab466fa01"
      },
      "execution_count": 82,
      "outputs": [
        {
          "output_type": "execute_result",
          "data": {
            "text/plain": [
              "                                                 cols       imp\n",
              "44         lastReportedPosition.positionTimeDayofyear  0.498704\n",
              "45           lastReportedPosition.positionTimeElapsed  0.346505\n",
              "42               lastReportedPosition.positionTimeDay  0.094898\n",
              "41              lastReportedPosition.positionTimeWeek  0.031930\n",
              "4                                   trainId.trainDate  0.020195\n",
              "43         lastReportedPosition.positionTimeDayofweek  0.005197\n",
              "40             lastReportedPosition.positionTimeMonth  0.001335\n",
              "19  lastReportedPosition.positionTimeIs_quarter_start  0.001236"
            ],
            "text/html": [
              "\n",
              "  <div id=\"df-bc497e47-5c91-484f-a554-951db8d0269f\">\n",
              "    <div class=\"colab-df-container\">\n",
              "      <div>\n",
              "<style scoped>\n",
              "    .dataframe tbody tr th:only-of-type {\n",
              "        vertical-align: middle;\n",
              "    }\n",
              "\n",
              "    .dataframe tbody tr th {\n",
              "        vertical-align: top;\n",
              "    }\n",
              "\n",
              "    .dataframe thead th {\n",
              "        text-align: right;\n",
              "    }\n",
              "</style>\n",
              "<table border=\"1\" class=\"dataframe\">\n",
              "  <thead>\n",
              "    <tr style=\"text-align: right;\">\n",
              "      <th></th>\n",
              "      <th>cols</th>\n",
              "      <th>imp</th>\n",
              "    </tr>\n",
              "  </thead>\n",
              "  <tbody>\n",
              "    <tr>\n",
              "      <th>44</th>\n",
              "      <td>lastReportedPosition.positionTimeDayofyear</td>\n",
              "      <td>0.498704</td>\n",
              "    </tr>\n",
              "    <tr>\n",
              "      <th>45</th>\n",
              "      <td>lastReportedPosition.positionTimeElapsed</td>\n",
              "      <td>0.346505</td>\n",
              "    </tr>\n",
              "    <tr>\n",
              "      <th>42</th>\n",
              "      <td>lastReportedPosition.positionTimeDay</td>\n",
              "      <td>0.094898</td>\n",
              "    </tr>\n",
              "    <tr>\n",
              "      <th>41</th>\n",
              "      <td>lastReportedPosition.positionTimeWeek</td>\n",
              "      <td>0.031930</td>\n",
              "    </tr>\n",
              "    <tr>\n",
              "      <th>4</th>\n",
              "      <td>trainId.trainDate</td>\n",
              "      <td>0.020195</td>\n",
              "    </tr>\n",
              "    <tr>\n",
              "      <th>43</th>\n",
              "      <td>lastReportedPosition.positionTimeDayofweek</td>\n",
              "      <td>0.005197</td>\n",
              "    </tr>\n",
              "    <tr>\n",
              "      <th>40</th>\n",
              "      <td>lastReportedPosition.positionTimeMonth</td>\n",
              "      <td>0.001335</td>\n",
              "    </tr>\n",
              "    <tr>\n",
              "      <th>19</th>\n",
              "      <td>lastReportedPosition.positionTimeIs_quarter_start</td>\n",
              "      <td>0.001236</td>\n",
              "    </tr>\n",
              "  </tbody>\n",
              "</table>\n",
              "</div>\n",
              "      <button class=\"colab-df-convert\" onclick=\"convertToInteractive('df-bc497e47-5c91-484f-a554-951db8d0269f')\"\n",
              "              title=\"Convert this dataframe to an interactive table.\"\n",
              "              style=\"display:none;\">\n",
              "        \n",
              "  <svg xmlns=\"http://www.w3.org/2000/svg\" height=\"24px\"viewBox=\"0 0 24 24\"\n",
              "       width=\"24px\">\n",
              "    <path d=\"M0 0h24v24H0V0z\" fill=\"none\"/>\n",
              "    <path d=\"M18.56 5.44l.94 2.06.94-2.06 2.06-.94-2.06-.94-.94-2.06-.94 2.06-2.06.94zm-11 1L8.5 8.5l.94-2.06 2.06-.94-2.06-.94L8.5 2.5l-.94 2.06-2.06.94zm10 10l.94 2.06.94-2.06 2.06-.94-2.06-.94-.94-2.06-.94 2.06-2.06.94z\"/><path d=\"M17.41 7.96l-1.37-1.37c-.4-.4-.92-.59-1.43-.59-.52 0-1.04.2-1.43.59L10.3 9.45l-7.72 7.72c-.78.78-.78 2.05 0 2.83L4 21.41c.39.39.9.59 1.41.59.51 0 1.02-.2 1.41-.59l7.78-7.78 2.81-2.81c.8-.78.8-2.07 0-2.86zM5.41 20L4 18.59l7.72-7.72 1.47 1.35L5.41 20z\"/>\n",
              "  </svg>\n",
              "      </button>\n",
              "      \n",
              "  <style>\n",
              "    .colab-df-container {\n",
              "      display:flex;\n",
              "      flex-wrap:wrap;\n",
              "      gap: 12px;\n",
              "    }\n",
              "\n",
              "    .colab-df-convert {\n",
              "      background-color: #E8F0FE;\n",
              "      border: none;\n",
              "      border-radius: 50%;\n",
              "      cursor: pointer;\n",
              "      display: none;\n",
              "      fill: #1967D2;\n",
              "      height: 32px;\n",
              "      padding: 0 0 0 0;\n",
              "      width: 32px;\n",
              "    }\n",
              "\n",
              "    .colab-df-convert:hover {\n",
              "      background-color: #E2EBFA;\n",
              "      box-shadow: 0px 1px 2px rgba(60, 64, 67, 0.3), 0px 1px 3px 1px rgba(60, 64, 67, 0.15);\n",
              "      fill: #174EA6;\n",
              "    }\n",
              "\n",
              "    [theme=dark] .colab-df-convert {\n",
              "      background-color: #3B4455;\n",
              "      fill: #D2E3FC;\n",
              "    }\n",
              "\n",
              "    [theme=dark] .colab-df-convert:hover {\n",
              "      background-color: #434B5C;\n",
              "      box-shadow: 0px 1px 3px 1px rgba(0, 0, 0, 0.15);\n",
              "      filter: drop-shadow(0px 1px 2px rgba(0, 0, 0, 0.3));\n",
              "      fill: #FFFFFF;\n",
              "    }\n",
              "  </style>\n",
              "\n",
              "      <script>\n",
              "        const buttonEl =\n",
              "          document.querySelector('#df-bc497e47-5c91-484f-a554-951db8d0269f button.colab-df-convert');\n",
              "        buttonEl.style.display =\n",
              "          google.colab.kernel.accessAllowed ? 'block' : 'none';\n",
              "\n",
              "        async function convertToInteractive(key) {\n",
              "          const element = document.querySelector('#df-bc497e47-5c91-484f-a554-951db8d0269f');\n",
              "          const dataTable =\n",
              "            await google.colab.kernel.invokeFunction('convertToInteractive',\n",
              "                                                     [key], {});\n",
              "          if (!dataTable) return;\n",
              "\n",
              "          const docLinkHtml = 'Like what you see? Visit the ' +\n",
              "            '<a target=\"_blank\" href=https://colab.research.google.com/notebooks/data_table.ipynb>data table notebook</a>'\n",
              "            + ' to learn more about interactive tables.';\n",
              "          element.innerHTML = '';\n",
              "          dataTable['output_type'] = 'display_data';\n",
              "          await google.colab.output.renderOutput(dataTable, element);\n",
              "          const docLink = document.createElement('div');\n",
              "          docLink.innerHTML = docLinkHtml;\n",
              "          element.appendChild(docLink);\n",
              "        }\n",
              "      </script>\n",
              "    </div>\n",
              "  </div>\n",
              "  "
            ]
          },
          "metadata": {},
          "execution_count": 82
        }
      ]
    },
    {
      "cell_type": "markdown",
      "source": [
        "Consider whether these values make sense"
      ],
      "metadata": {
        "id": "wJPE_9WCLCPr"
      }
    },
    {
      "cell_type": "markdown",
      "source": [
        "#Using a Neural Net"
      ],
      "metadata": {
        "id": "K9TcqLvPKQJD"
      }
    },
    {
      "cell_type": "code",
      "source": [
        "df_nn_final = dfTrainsLearn"
      ],
      "metadata": {
        "id": "CrfcBKRXKqQ8"
      },
      "execution_count": 83,
      "outputs": []
    },
    {
      "cell_type": "code",
      "source": [
        "df_nn_final.info()"
      ],
      "metadata": {
        "id": "W87DbNmeMVsv",
        "colab": {
          "base_uri": "https://localhost:8080/"
        },
        "outputId": "685ad203-e7e5-4e28-a234-10bddd2a2704"
      },
      "execution_count": 84,
      "outputs": [
        {
          "output_type": "stream",
          "name": "stdout",
          "text": [
            "<class 'pandas.core.frame.DataFrame'>\n",
            "Int64Index: 3920 entries, 34 to 6742\n",
            "Data columns (total 47 columns):\n",
            " #   Column                                                         Non-Null Count  Dtype         \n",
            "---  ------                                                         --------------  -----         \n",
            " 0   ptcLeadLocomotiveId                                            3920 non-null   object        \n",
            " 1   trainId.trainSCAC                                              3920 non-null   category      \n",
            " 2   trainId.trainSection                                           3920 non-null   category      \n",
            " 3   trainId.trainSymbol                                            3920 non-null   object        \n",
            " 4   trainId.trainDate                                              3920 non-null   datetime64[ns]\n",
            " 5   lastReportedPosition.speedMPH                                  3920 non-null   int64         \n",
            " 6   lastReportedPosition.milepostLocation.subdivisionId            3920 non-null   int64         \n",
            " 7   lastReportedPosition.milepostLocation.trackName                3920 non-null   category      \n",
            " 8   lastReportedPosition.milepostLocation.milepost.milepostNumber  3920 non-null   float64       \n",
            " 9   aotuTrainData.priorityCode                                     3920 non-null   category      \n",
            " 10  aotuTrainData.categoryCode                                     3920 non-null   category      \n",
            " 11  aotuTrainData.authorityRangeCode                               3920 non-null   category      \n",
            " 12  aotuTrainData.ownershipCode                                    3920 non-null   category      \n",
            " 13  aotuTrainData.totalCarWeight                                   3920 non-null   float64       \n",
            " 14  aotuTrainData.totalCarLength                                   3920 non-null   float64       \n",
            " 15  aotuTrainData.totalLocomotiveWeight                            3920 non-null   float64       \n",
            " 16  aotuTrainData.totalLocomotiveLength                            3920 non-null   float64       \n",
            " 17  aotuTrainData.actualTonsPerAxle                                3920 non-null   float64       \n",
            " 18  aotuTrainData.heavy143TonCarCount                              3920 non-null   float64       \n",
            " 19  aotuTrainData.heavy158TonCarCount                              3920 non-null   float64       \n",
            " 20  aotuTrainData.over158TonCarCount                               3920 non-null   float64       \n",
            " 21  aotuTrainData.highWideCarCount                                 3920 non-null   float64       \n",
            " 22  aotuTrainData.eventCode                                        3920 non-null   category      \n",
            " 23  maximumTrainSpeed                                              3920 non-null   float64       \n",
            " 24  loadedCarCount                                                 3920 non-null   float64       \n",
            " 25  emptyCarCount                                                  3920 non-null   float64       \n",
            " 26  trainLength                                                    3920 non-null   float64       \n",
            " 27  trailingTonnage                                                3920 non-null   float64       \n",
            " 28  milepost                                                       3920 non-null   int64         \n",
            " 29  mpIncr                                                         3920 non-null   bool          \n",
            " 30  symbolType                                                     3920 non-null   category      \n",
            " 31  workLocations                                                  3411 non-null   object        \n",
            " 32  locomotiveCount                                                3920 non-null   int64         \n",
            " 33  nextSpeed                                                      3920 non-null   float64       \n",
            " 34  lastReportedPosition.positionTimeYear                          3920 non-null   int64         \n",
            " 35  lastReportedPosition.positionTimeMonth                         3920 non-null   int64         \n",
            " 36  lastReportedPosition.positionTimeWeek                          3920 non-null   int64         \n",
            " 37  lastReportedPosition.positionTimeDay                           3920 non-null   int64         \n",
            " 38  lastReportedPosition.positionTimeDayofweek                     3920 non-null   int64         \n",
            " 39  lastReportedPosition.positionTimeDayofyear                     3920 non-null   int64         \n",
            " 40  lastReportedPosition.positionTimeIs_month_end                  3920 non-null   bool          \n",
            " 41  lastReportedPosition.positionTimeIs_month_start                3920 non-null   bool          \n",
            " 42  lastReportedPosition.positionTimeIs_quarter_end                3920 non-null   bool          \n",
            " 43  lastReportedPosition.positionTimeIs_quarter_start              3920 non-null   bool          \n",
            " 44  lastReportedPosition.positionTimeIs_year_end                   3920 non-null   bool          \n",
            " 45  lastReportedPosition.positionTimeIs_year_start                 3920 non-null   bool          \n",
            " 46  lastReportedPosition.positionTimeElapsed                       3920 non-null   float64       \n",
            "dtypes: bool(7), category(9), datetime64[ns](1), float64(17), int64(10), object(3)\n",
            "memory usage: 1.0+ MB\n"
          ]
        }
      ]
    },
    {
      "cell_type": "code",
      "source": [
        "cont_nn,cat_nn = cont_cat_split(df_nn_final, max_card=9000, dep_var=dep_var)"
      ],
      "metadata": {
        "id": "TpvoMKe1MNzg"
      },
      "execution_count": 85,
      "outputs": []
    },
    {
      "cell_type": "code",
      "source": [
        "cont_nn"
      ],
      "metadata": {
        "colab": {
          "base_uri": "https://localhost:8080/"
        },
        "id": "xef-YmKAMeHO",
        "outputId": "a7ab4fc4-176c-44de-ada2-91e0d7f561c1"
      },
      "execution_count": 86,
      "outputs": [
        {
          "output_type": "execute_result",
          "data": {
            "text/plain": [
              "['lastReportedPosition.milepostLocation.milepost.milepostNumber',\n",
              " 'aotuTrainData.totalCarWeight',\n",
              " 'aotuTrainData.totalCarLength',\n",
              " 'aotuTrainData.totalLocomotiveWeight',\n",
              " 'aotuTrainData.totalLocomotiveLength',\n",
              " 'aotuTrainData.actualTonsPerAxle',\n",
              " 'aotuTrainData.heavy143TonCarCount',\n",
              " 'aotuTrainData.heavy158TonCarCount',\n",
              " 'aotuTrainData.over158TonCarCount',\n",
              " 'aotuTrainData.highWideCarCount',\n",
              " 'maximumTrainSpeed',\n",
              " 'loadedCarCount',\n",
              " 'emptyCarCount',\n",
              " 'trainLength',\n",
              " 'trailingTonnage',\n",
              " 'lastReportedPosition.positionTimeElapsed']"
            ]
          },
          "metadata": {},
          "execution_count": 86
        }
      ]
    },
    {
      "cell_type": "code",
      "source": [
        "numUniquePerCat = df_nn_final[cat_nn].nunique()\n",
        "with pd.option_context('display.max_rows', None, 'display.max_columns', None):  \n",
        "    print(numUniquePerCat)"
      ],
      "metadata": {
        "colab": {
          "base_uri": "https://localhost:8080/"
        },
        "id": "axfRjORJin9v",
        "outputId": "bb1c9c33-5b1f-4010-f945-95700682b7cf"
      },
      "execution_count": 87,
      "outputs": [
        {
          "output_type": "stream",
          "name": "stdout",
          "text": [
            "ptcLeadLocomotiveId                                    358\n",
            "trainId.trainSCAC                                        1\n",
            "trainId.trainSection                                     4\n",
            "trainId.trainSymbol                                    135\n",
            "trainId.trainDate                                       19\n",
            "lastReportedPosition.speedMPH                           70\n",
            "lastReportedPosition.milepostLocation.subdivisionId      1\n",
            "lastReportedPosition.milepostLocation.trackName         32\n",
            "aotuTrainData.priorityCode                               4\n",
            "aotuTrainData.categoryCode                              11\n",
            "aotuTrainData.authorityRangeCode                         4\n",
            "aotuTrainData.ownershipCode                              3\n",
            "aotuTrainData.eventCode                                  1\n",
            "milepost                                               213\n",
            "mpIncr                                                   2\n",
            "symbolType                                              11\n",
            "workLocations                                           19\n",
            "locomotiveCount                                         10\n",
            "lastReportedPosition.positionTimeYear                    1\n",
            "lastReportedPosition.positionTimeMonth                   2\n",
            "lastReportedPosition.positionTimeWeek                    2\n",
            "lastReportedPosition.positionTimeDay                    12\n",
            "lastReportedPosition.positionTimeDayofweek               7\n",
            "lastReportedPosition.positionTimeDayofyear              12\n",
            "lastReportedPosition.positionTimeIs_month_end            2\n",
            "lastReportedPosition.positionTimeIs_month_start          2\n",
            "lastReportedPosition.positionTimeIs_quarter_end          2\n",
            "lastReportedPosition.positionTimeIs_quarter_start        2\n",
            "lastReportedPosition.positionTimeIs_year_end             1\n",
            "lastReportedPosition.positionTimeIs_year_start           1\n",
            "dtype: int64\n"
          ]
        }
      ]
    },
    {
      "cell_type": "code",
      "source": [
        "procs_nn = [Categorify, FillMissing, Normalize]\n",
        "to_nn = TabularPandas(df_nn_final, procs_nn, cat_nn, cont_nn,\n",
        "                      splits=splits, y_names=dep_var)"
      ],
      "metadata": {
        "id": "WNS5_jduj0Ft"
      },
      "execution_count": 88,
      "outputs": []
    },
    {
      "cell_type": "code",
      "source": [
        "dls = to_nn.dataloaders(1024)"
      ],
      "metadata": {
        "id": "HH0M0MH7kKQ-"
      },
      "execution_count": 89,
      "outputs": []
    },
    {
      "cell_type": "code",
      "source": [
        "y = to_nn.train.y\n",
        "y.min(),y.max()"
      ],
      "metadata": {
        "colab": {
          "base_uri": "https://localhost:8080/"
        },
        "id": "BPnKvYGKkRMf",
        "outputId": "dc981ab5-4229-480a-c990-2f75dc3d4a56"
      },
      "execution_count": 90,
      "outputs": [
        {
          "output_type": "execute_result",
          "data": {
            "text/plain": [
              "(-70.0, 69.0)"
            ]
          },
          "metadata": {},
          "execution_count": 90
        }
      ]
    },
    {
      "cell_type": "code",
      "source": [
        "learn = tabular_learner(dls, y_range=(-70,70), layers=[500,250],\n",
        "                        n_out=1, loss_func=F.mse_loss)"
      ],
      "metadata": {
        "id": "XI0a_6T8kYCl"
      },
      "execution_count": 91,
      "outputs": []
    },
    {
      "cell_type": "code",
      "source": [
        "learn.lr_find()"
      ],
      "metadata": {
        "colab": {
          "base_uri": "https://localhost:8080/",
          "height": 300
        },
        "id": "-bG4DfIqkbyc",
        "outputId": "746d0f2f-8ab2-44a9-c8d1-b2e6dcd624c7"
      },
      "execution_count": 92,
      "outputs": [
        {
          "output_type": "display_data",
          "data": {
            "text/plain": [
              "<IPython.core.display.HTML object>"
            ],
            "text/html": [
              "\n",
              "<style>\n",
              "    /* Turns off some styling */\n",
              "    progress {\n",
              "        /* gets rid of default border in Firefox and Opera. */\n",
              "        border: none;\n",
              "        /* Needs to be in here for Safari polyfill so background images work as expected. */\n",
              "        background-size: auto;\n",
              "    }\n",
              "    .progress-bar-interrupted, .progress-bar-interrupted::-webkit-progress-bar {\n",
              "        background: #F44336;\n",
              "    }\n",
              "</style>\n"
            ]
          },
          "metadata": {}
        },
        {
          "output_type": "display_data",
          "data": {
            "text/plain": [
              "<IPython.core.display.HTML object>"
            ],
            "text/html": [
              ""
            ]
          },
          "metadata": {}
        },
        {
          "output_type": "execute_result",
          "data": {
            "text/plain": [
              "SuggestedLRs(valley=0.0006918309954926372)"
            ]
          },
          "metadata": {},
          "execution_count": 92
        },
        {
          "output_type": "display_data",
          "data": {
            "text/plain": [
              "<Figure size 432x288 with 1 Axes>"
            ],
            "image/png": "[encoded data removed]"
          },
          "metadata": {
            "needs_background": "light"
          }
        }
      ]
    },
    {
      "cell_type": "code",
      "source": [
        "learn.fit_one_cycle(50, 1e-2)"
      ],
      "metadata": {
        "colab": {
          "base_uri": "https://localhost:8080/",
          "height": 1000
        },
        "id": "KtYc1ectkiZt",
        "outputId": "c6bf7f24-338a-445b-9c50-0518d0f642e9"
      },
      "execution_count": 93,
      "outputs": [
        {
          "output_type": "display_data",
          "data": {
            "text/plain": [
              "<IPython.core.display.HTML object>"
            ],
            "text/html": [
              "\n",
              "<style>\n",
              "    /* Turns off some styling */\n",
              "    progress {\n",
              "        /* gets rid of default border in Firefox and Opera. */\n",
              "        border: none;\n",
              "        /* Needs to be in here for Safari polyfill so background images work as expected. */\n",
              "        background-size: auto;\n",
              "    }\n",
              "    .progress-bar-interrupted, .progress-bar-interrupted::-webkit-progress-bar {\n",
              "        background: #F44336;\n",
              "    }\n",
              "</style>\n"
            ]
          },
          "metadata": {}
        },
        {
          "output_type": "display_data",
          "data": {
            "text/plain": [
              "<IPython.core.display.HTML object>"
            ],
            "text/html": [
              "<table border=\"1\" class=\"dataframe\">\n",
              "  <thead>\n",
              "    <tr style=\"text-align: left;\">\n",
              "      <th>epoch</th>\n",
              "      <th>train_loss</th>\n",
              "      <th>valid_loss</th>\n",
              "      <th>time</th>\n",
              "    </tr>\n",
              "  </thead>\n",
              "  <tbody>\n",
              "    <tr>\n",
              "      <td>0</td>\n",
              "      <td>796.211304</td>\n",
              "      <td>522.427002</td>\n",
              "      <td>00:00</td>\n",
              "    </tr>\n",
              "    <tr>\n",
              "      <td>1</td>\n",
              "      <td>767.469849</td>\n",
              "      <td>522.212402</td>\n",
              "      <td>00:00</td>\n",
              "    </tr>\n",
              "    <tr>\n",
              "      <td>2</td>\n",
              "      <td>717.139771</td>\n",
              "      <td>525.755310</td>\n",
              "      <td>00:00</td>\n",
              "    </tr>\n",
              "    <tr>\n",
              "      <td>3</td>\n",
              "      <td>701.783203</td>\n",
              "      <td>535.313171</td>\n",
              "      <td>00:00</td>\n",
              "    </tr>\n",
              "    <tr>\n",
              "      <td>4</td>\n",
              "      <td>660.362183</td>\n",
              "      <td>557.695923</td>\n",
              "      <td>00:00</td>\n",
              "    </tr>\n",
              "    <tr>\n",
              "      <td>5</td>\n",
              "      <td>669.497742</td>\n",
              "      <td>536.276917</td>\n",
              "      <td>00:00</td>\n",
              "    </tr>\n",
              "    <tr>\n",
              "      <td>6</td>\n",
              "      <td>650.150330</td>\n",
              "      <td>500.199371</td>\n",
              "      <td>00:00</td>\n",
              "    </tr>\n",
              "    <tr>\n",
              "      <td>7</td>\n",
              "      <td>658.855835</td>\n",
              "      <td>487.532349</td>\n",
              "      <td>00:00</td>\n",
              "    </tr>\n",
              "    <tr>\n",
              "      <td>8</td>\n",
              "      <td>621.046631</td>\n",
              "      <td>442.507202</td>\n",
              "      <td>00:00</td>\n",
              "    </tr>\n",
              "    <tr>\n",
              "      <td>9</td>\n",
              "      <td>582.902344</td>\n",
              "      <td>421.346954</td>\n",
              "      <td>00:00</td>\n",
              "    </tr>\n",
              "    <tr>\n",
              "      <td>10</td>\n",
              "      <td>554.755249</td>\n",
              "      <td>415.144043</td>\n",
              "      <td>00:00</td>\n",
              "    </tr>\n",
              "    <tr>\n",
              "      <td>11</td>\n",
              "      <td>523.576843</td>\n",
              "      <td>391.303284</td>\n",
              "      <td>00:00</td>\n",
              "    </tr>\n",
              "    <tr>\n",
              "      <td>12</td>\n",
              "      <td>501.979218</td>\n",
              "      <td>386.726807</td>\n",
              "      <td>00:00</td>\n",
              "    </tr>\n",
              "    <tr>\n",
              "      <td>13</td>\n",
              "      <td>478.258087</td>\n",
              "      <td>389.334412</td>\n",
              "      <td>00:00</td>\n",
              "    </tr>\n",
              "    <tr>\n",
              "      <td>14</td>\n",
              "      <td>457.195374</td>\n",
              "      <td>376.747803</td>\n",
              "      <td>00:00</td>\n",
              "    </tr>\n",
              "    <tr>\n",
              "      <td>15</td>\n",
              "      <td>436.743195</td>\n",
              "      <td>362.460236</td>\n",
              "      <td>00:00</td>\n",
              "    </tr>\n",
              "    <tr>\n",
              "      <td>16</td>\n",
              "      <td>417.462585</td>\n",
              "      <td>353.201813</td>\n",
              "      <td>00:00</td>\n",
              "    </tr>\n",
              "    <tr>\n",
              "      <td>17</td>\n",
              "      <td>400.287842</td>\n",
              "      <td>350.076538</td>\n",
              "      <td>00:00</td>\n",
              "    </tr>\n",
              "    <tr>\n",
              "      <td>18</td>\n",
              "      <td>384.193481</td>\n",
              "      <td>360.123138</td>\n",
              "      <td>00:00</td>\n",
              "    </tr>\n",
              "    <tr>\n",
              "      <td>19</td>\n",
              "      <td>369.237213</td>\n",
              "      <td>361.737396</td>\n",
              "      <td>00:00</td>\n",
              "    </tr>\n",
              "    <tr>\n",
              "      <td>20</td>\n",
              "      <td>355.679565</td>\n",
              "      <td>361.264099</td>\n",
              "      <td>00:00</td>\n",
              "    </tr>\n",
              "    <tr>\n",
              "      <td>21</td>\n",
              "      <td>342.333801</td>\n",
              "      <td>366.238312</td>\n",
              "      <td>00:00</td>\n",
              "    </tr>\n",
              "    <tr>\n",
              "      <td>22</td>\n",
              "      <td>330.363556</td>\n",
              "      <td>369.256165</td>\n",
              "      <td>00:00</td>\n",
              "    </tr>\n",
              "    <tr>\n",
              "      <td>23</td>\n",
              "      <td>318.591644</td>\n",
              "      <td>374.847321</td>\n",
              "      <td>00:00</td>\n",
              "    </tr>\n",
              "    <tr>\n",
              "      <td>24</td>\n",
              "      <td>308.259308</td>\n",
              "      <td>384.910461</td>\n",
              "      <td>00:00</td>\n",
              "    </tr>\n",
              "    <tr>\n",
              "      <td>25</td>\n",
              "      <td>297.842926</td>\n",
              "      <td>393.967072</td>\n",
              "      <td>00:00</td>\n",
              "    </tr>\n",
              "    <tr>\n",
              "      <td>26</td>\n",
              "      <td>288.394806</td>\n",
              "      <td>402.997223</td>\n",
              "      <td>00:00</td>\n",
              "    </tr>\n",
              "    <tr>\n",
              "      <td>27</td>\n",
              "      <td>278.738647</td>\n",
              "      <td>414.892120</td>\n",
              "      <td>00:00</td>\n",
              "    </tr>\n",
              "    <tr>\n",
              "      <td>28</td>\n",
              "      <td>269.835876</td>\n",
              "      <td>422.687103</td>\n",
              "      <td>00:00</td>\n",
              "    </tr>\n",
              "    <tr>\n",
              "      <td>29</td>\n",
              "      <td>261.615631</td>\n",
              "      <td>421.001862</td>\n",
              "      <td>00:00</td>\n",
              "    </tr>\n",
              "    <tr>\n",
              "      <td>30</td>\n",
              "      <td>259.660217</td>\n",
              "      <td>424.706543</td>\n",
              "      <td>00:00</td>\n",
              "    </tr>\n",
              "    <tr>\n",
              "      <td>31</td>\n",
              "      <td>255.265060</td>\n",
              "      <td>427.725494</td>\n",
              "      <td>00:00</td>\n",
              "    </tr>\n",
              "    <tr>\n",
              "      <td>32</td>\n",
              "      <td>248.735046</td>\n",
              "      <td>453.463440</td>\n",
              "      <td>00:00</td>\n",
              "    </tr>\n",
              "    <tr>\n",
              "      <td>33</td>\n",
              "      <td>241.648727</td>\n",
              "      <td>484.250488</td>\n",
              "      <td>00:00</td>\n",
              "    </tr>\n",
              "    <tr>\n",
              "      <td>34</td>\n",
              "      <td>235.201706</td>\n",
              "      <td>510.968506</td>\n",
              "      <td>00:00</td>\n",
              "    </tr>\n",
              "    <tr>\n",
              "      <td>35</td>\n",
              "      <td>228.978088</td>\n",
              "      <td>529.796753</td>\n",
              "      <td>00:00</td>\n",
              "    </tr>\n",
              "    <tr>\n",
              "      <td>36</td>\n",
              "      <td>222.835846</td>\n",
              "      <td>533.189453</td>\n",
              "      <td>00:00</td>\n",
              "    </tr>\n",
              "    <tr>\n",
              "      <td>37</td>\n",
              "      <td>221.068008</td>\n",
              "      <td>519.407654</td>\n",
              "      <td>00:00</td>\n",
              "    </tr>\n",
              "    <tr>\n",
              "      <td>38</td>\n",
              "      <td>218.367157</td>\n",
              "      <td>509.011993</td>\n",
              "      <td>00:00</td>\n",
              "    </tr>\n",
              "    <tr>\n",
              "      <td>39</td>\n",
              "      <td>213.285873</td>\n",
              "      <td>503.522491</td>\n",
              "      <td>00:00</td>\n",
              "    </tr>\n",
              "    <tr>\n",
              "      <td>40</td>\n",
              "      <td>208.258316</td>\n",
              "      <td>484.246765</td>\n",
              "      <td>00:00</td>\n",
              "    </tr>\n",
              "    <tr>\n",
              "      <td>41</td>\n",
              "      <td>203.063766</td>\n",
              "      <td>481.822235</td>\n",
              "      <td>00:00</td>\n",
              "    </tr>\n",
              "    <tr>\n",
              "      <td>42</td>\n",
              "      <td>197.883179</td>\n",
              "      <td>500.514893</td>\n",
              "      <td>00:00</td>\n",
              "    </tr>\n",
              "    <tr>\n",
              "      <td>43</td>\n",
              "      <td>193.217300</td>\n",
              "      <td>512.184998</td>\n",
              "      <td>00:00</td>\n",
              "    </tr>\n",
              "    <tr>\n",
              "      <td>44</td>\n",
              "      <td>188.521164</td>\n",
              "      <td>518.363525</td>\n",
              "      <td>00:00</td>\n",
              "    </tr>\n",
              "    <tr>\n",
              "      <td>45</td>\n",
              "      <td>184.042618</td>\n",
              "      <td>520.114136</td>\n",
              "      <td>00:00</td>\n",
              "    </tr>\n",
              "    <tr>\n",
              "      <td>46</td>\n",
              "      <td>181.256424</td>\n",
              "      <td>514.441040</td>\n",
              "      <td>00:00</td>\n",
              "    </tr>\n",
              "    <tr>\n",
              "      <td>47</td>\n",
              "      <td>177.217667</td>\n",
              "      <td>513.136841</td>\n",
              "      <td>00:00</td>\n",
              "    </tr>\n",
              "    <tr>\n",
              "      <td>48</td>\n",
              "      <td>173.275497</td>\n",
              "      <td>513.998413</td>\n",
              "      <td>00:00</td>\n",
              "    </tr>\n",
              "    <tr>\n",
              "      <td>49</td>\n",
              "      <td>170.101868</td>\n",
              "      <td>511.940948</td>\n",
              "      <td>00:00</td>\n",
              "    </tr>\n",
              "  </tbody>\n",
              "</table>"
            ]
          },
          "metadata": {}
        }
      ]
    },
    {
      "cell_type": "code",
      "source": [
        "preds,targs = learn.get_preds()\n",
        "print(r_mse(preds,targs))\n",
        "print(preds[:10])\n",
        "print(targs[:10])"
      ],
      "metadata": {
        "colab": {
          "base_uri": "https://localhost:8080/",
          "height": 381
        },
        "id": "eo1O3alWmiKj",
        "outputId": "ff5e576e-23d8-46ef-c2c9-f26adf61d8d5"
      },
      "execution_count": 94,
      "outputs": [
        {
          "output_type": "display_data",
          "data": {
            "text/plain": [
              "<IPython.core.display.HTML object>"
            ],
            "text/html": [
              "\n",
              "<style>\n",
              "    /* Turns off some styling */\n",
              "    progress {\n",
              "        /* gets rid of default border in Firefox and Opera. */\n",
              "        border: none;\n",
              "        /* Needs to be in here for Safari polyfill so background images work as expected. */\n",
              "        background-size: auto;\n",
              "    }\n",
              "    .progress-bar-interrupted, .progress-bar-interrupted::-webkit-progress-bar {\n",
              "        background: #F44336;\n",
              "    }\n",
              "</style>\n"
            ]
          },
          "metadata": {}
        },
        {
          "output_type": "display_data",
          "data": {
            "text/plain": [
              "<IPython.core.display.HTML object>"
            ],
            "text/html": [
              ""
            ]
          },
          "metadata": {}
        },
        {
          "output_type": "stream",
          "name": "stdout",
          "text": [
            "22.626111\n",
            "tensor([[ 25.1884],\n",
            "        [ 36.4922],\n",
            "        [-11.9577],\n",
            "        [  2.5235],\n",
            "        [  3.8500],\n",
            "        [-15.9496],\n",
            "        [ -4.4187],\n",
            "        [ 10.1633],\n",
            "        [  9.3389],\n",
            "        [ 19.8577]])\n",
            "tensor([[ 25.],\n",
            "        [ 43.],\n",
            "        [  6.],\n",
            "        [ 10.],\n",
            "        [ 14.],\n",
            "        [ -4.],\n",
            "        [-16.],\n",
            "        [ 12.],\n",
            "        [-11.],\n",
            "        [ 12.]])\n"
          ]
        }
      ]
    }
  ],
  "metadata": {
    "colab": {
      "name": "MLModel1-2.ipynb",
      "provenance": [],
      "collapsed_sections": [],
      "include_colab_link": true
    },
    "interpreter": {
      "hash": "99fae7d265480b5fbb0cf965db398c4d2d7b17b55f6259418c7dbfe0de01ea90"
    },
    "kernelspec": {
      "display_name": "Python 3 (ipykernel)",
      "language": "python",
      "name": "python3"
    },
    "language_info": {
      "codemirror_mode": {
        "name": "ipython",
        "version": 3
      },
      "file_extension": ".py",
      "mimetype": "text/x-python",
      "name": "python",
      "nbconvert_exporter": "python",
      "pygments_lexer": "ipython3",
      "version": "3.9.12"
    }
  },
  "nbformat": 4,
  "nbformat_minor": 0
}