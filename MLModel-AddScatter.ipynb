{
  "cells": [
    {
      "cell_type": "markdown",
      "metadata": {
        "id": "view-in-github",
        "colab_type": "text"
      },
      "source": [
        "<a href=\"https://colab.research.google.com/github/swicklund/hackathon/blob/main/MLModel-AddScatter.ipynb\" target=\"_parent\"><img src=\"https://colab.research.google.com/assets/colab-badge.svg\" alt=\"Open In Colab\"/></a>"
      ]
    },
    {
      "cell_type": "code",
      "execution_count": 1,
      "metadata": {
        "id": "f18J8QM17E0a",
        "outputId": "3fd67ce9-0db7-43df-8716-4f2e388d61d7",
        "colab": {
          "base_uri": "https://localhost:8080/"
        }
      },
      "outputs": [
        {
          "output_type": "stream",
          "name": "stdout",
          "text": [
            "\u001b[K     |████████████████████████████████| 719 kB 9.5 MB/s \n",
            "\u001b[K     |████████████████████████████████| 1.3 MB 7.5 MB/s \n",
            "\u001b[K     |████████████████████████████████| 4.7 MB 56.4 MB/s \n",
            "\u001b[K     |████████████████████████████████| 365 kB 14.2 MB/s \n",
            "\u001b[K     |████████████████████████████████| 212 kB 34.1 MB/s \n",
            "\u001b[K     |████████████████████████████████| 115 kB 54.1 MB/s \n",
            "\u001b[K     |████████████████████████████████| 120 kB 80.7 MB/s \n",
            "\u001b[K     |████████████████████████████████| 127 kB 62.7 MB/s \n",
            "\u001b[K     |████████████████████████████████| 6.6 MB 73.4 MB/s \n",
            "\u001b[?25hLooking in indexes: https://pypi.org/simple, https://us-python.pkg.dev/colab-wheels/public/simple/\n",
            "Collecting dtreeviz\n",
            "  Downloading dtreeviz-1.3.7.tar.gz (62 kB)\n",
            "\u001b[K     |████████████████████████████████| 62 kB 1.3 MB/s \n",
            "\u001b[?25hRequirement already satisfied: graphviz>=0.9 in /usr/local/lib/python3.7/dist-packages (from dtreeviz) (0.10.1)\n",
            "Requirement already satisfied: pandas in /usr/local/lib/python3.7/dist-packages (from dtreeviz) (1.3.5)\n",
            "Requirement already satisfied: numpy in /usr/local/lib/python3.7/dist-packages (from dtreeviz) (1.21.6)\n",
            "Requirement already satisfied: scikit-learn in /usr/local/lib/python3.7/dist-packages (from dtreeviz) (1.0.2)\n",
            "Requirement already satisfied: matplotlib in /usr/local/lib/python3.7/dist-packages (from dtreeviz) (3.2.2)\n",
            "Collecting colour\n",
            "  Downloading colour-0.1.5-py2.py3-none-any.whl (23 kB)\n",
            "Requirement already satisfied: pytest in /usr/local/lib/python3.7/dist-packages (from dtreeviz) (3.6.4)\n",
            "Requirement already satisfied: python-dateutil>=2.1 in /usr/local/lib/python3.7/dist-packages (from matplotlib->dtreeviz) (2.8.2)\n",
            "Requirement already satisfied: kiwisolver>=1.0.1 in /usr/local/lib/python3.7/dist-packages (from matplotlib->dtreeviz) (1.4.4)\n",
            "Requirement already satisfied: pyparsing!=2.0.4,!=2.1.2,!=2.1.6,>=2.0.1 in /usr/local/lib/python3.7/dist-packages (from matplotlib->dtreeviz) (3.0.9)\n",
            "Requirement already satisfied: cycler>=0.10 in /usr/local/lib/python3.7/dist-packages (from matplotlib->dtreeviz) (0.11.0)\n",
            "Requirement already satisfied: typing-extensions in /usr/local/lib/python3.7/dist-packages (from kiwisolver>=1.0.1->matplotlib->dtreeviz) (4.1.1)\n",
            "Requirement already satisfied: six>=1.5 in /usr/local/lib/python3.7/dist-packages (from python-dateutil>=2.1->matplotlib->dtreeviz) (1.15.0)\n",
            "Requirement already satisfied: pytz>=2017.3 in /usr/local/lib/python3.7/dist-packages (from pandas->dtreeviz) (2022.2.1)\n",
            "Requirement already satisfied: setuptools in /usr/local/lib/python3.7/dist-packages (from pytest->dtreeviz) (57.4.0)\n",
            "Requirement already satisfied: atomicwrites>=1.0 in /usr/local/lib/python3.7/dist-packages (from pytest->dtreeviz) (1.4.1)\n",
            "Requirement already satisfied: py>=1.5.0 in /usr/local/lib/python3.7/dist-packages (from pytest->dtreeviz) (1.11.0)\n",
            "Requirement already satisfied: more-itertools>=4.0.0 in /usr/local/lib/python3.7/dist-packages (from pytest->dtreeviz) (8.14.0)\n",
            "Requirement already satisfied: pluggy<0.8,>=0.5 in /usr/local/lib/python3.7/dist-packages (from pytest->dtreeviz) (0.7.1)\n",
            "Requirement already satisfied: attrs>=17.4.0 in /usr/local/lib/python3.7/dist-packages (from pytest->dtreeviz) (22.1.0)\n",
            "Requirement already satisfied: threadpoolctl>=2.0.0 in /usr/local/lib/python3.7/dist-packages (from scikit-learn->dtreeviz) (3.1.0)\n",
            "Requirement already satisfied: scipy>=1.1.0 in /usr/local/lib/python3.7/dist-packages (from scikit-learn->dtreeviz) (1.7.3)\n",
            "Requirement already satisfied: joblib>=0.11 in /usr/local/lib/python3.7/dist-packages (from scikit-learn->dtreeviz) (1.1.0)\n",
            "Building wheels for collected packages: dtreeviz\n",
            "  Building wheel for dtreeviz (setup.py) ... \u001b[?25l\u001b[?25hdone\n",
            "  Created wheel for dtreeviz: filename=dtreeviz-1.3.7-py3-none-any.whl size=68151 sha256=14f237f3cdaa484e732eaef04205ed55f21513db872910b1c8c1c3b4ce1fd5e7\n",
            "  Stored in directory: /root/.cache/pip/wheels/bf/ba/9f/87c689d8d3c2916793f2dccc57d3dc3b283e0ccf8cb4ca4cad\n",
            "Successfully built dtreeviz\n",
            "Installing collected packages: colour, dtreeviz\n",
            "Successfully installed colour-0.1.5 dtreeviz-1.3.7\n",
            "Updated property [core/project].\n",
            "Mounted at /content/gdrive\n"
          ]
        }
      ],
      "source": [
        "!pip install -Uqq fastbook\n",
        "!pip install dtreeviz\n",
        "!gcloud config set project {'hackathon-352519'}\n",
        "\n",
        "import os\n",
        "\n",
        "import IPython\n",
        "import IPython.display\n",
        "import matplotlib as mpl\n",
        "import matplotlib.pyplot as plt\n",
        "import numpy as np\n",
        "import pandas as pd\n",
        "from pandas.io.json import json_normalize\n",
        "import seaborn as sns\n",
        "import json\n",
        "import zipfile\n",
        "from io import BytesIO\n",
        "import math\n",
        "from google.colab import files\n",
        "from google.colab import auth\n",
        "from datetime import datetime, timedelta\n",
        "from pandas.api.types import is_string_dtype, is_numeric_dtype, is_categorical_dtype\n",
        "from IPython.display import Image, display_svg, SVG\n",
        "\n",
        "import tensorflow as tf\n",
        "import torch\n",
        "import fastbook as fastai\n",
        "fastai.setup_book()\n",
        "from fastai import tabular\n",
        "from fastai.tabular.all import *\n",
        "from sklearn.ensemble import RandomForestRegressor\n",
        "from sklearn.tree import DecisionTreeRegressor\n",
        "from dtreeviz.trees import *\n",
        "\n",
        "pd.options.display.max_rows = 20\n",
        "pd.options.display.max_columns = 8\n",
        "auth.authenticate_user()\n"
      ]
    },
    {
      "cell_type": "code",
      "source": [
        "#filename = \"train-data_all-train-events.zip\"\n",
        "#filename = \"train-data-2022062020220626.zip\"\n",
        "\n",
        "#events-20-min includes reports for all trains in the a 2 week window reporting at most every 20 minutes \n",
        "#filename = \"train-events-20-min.zip\"\n",
        "\n",
        "#Train reportings 15 minutes apart - everything we have collected\n",
        "filename = \"train-data-master.zip\"\n",
        "\n",
        "# miles answers the question \"what spped will this train be moving in X miles (technically at milepost +/-X)\"\n",
        "#measurement = { 'unit' : 'miles', 'size' : 1.0 }\n",
        "\n",
        "# minutes answers the question : what speed will this train be moving in X Minutes\n",
        "#measurement = { 'unit' : 'minutes', 'size' : 90.0 }\n",
        "\n",
        "#dep_var = 'nextSpeed'\n",
        "\n",
        "# milepost answers the question \"What milepost will this train be at in X Minutes\"\n",
        "measurement = { 'unit' : 'milepost', 'size' : 60.0 }\n",
        "\n",
        "dep_var = 'nextValue'\n",
        "\n",
        "#Determines the portion of data to train versus validate\n",
        "dataCutpoint = .80"
      ],
      "metadata": {
        "id": "M3W7KKZc8f92"
      },
      "execution_count": 2,
      "outputs": []
    },
    {
      "cell_type": "code",
      "source": [
        "!gsutil cp gs://trains_data/$filename /tmp/."
      ],
      "metadata": {
        "id": "srQJL7OKVRww",
        "colab": {
          "base_uri": "https://localhost:8080/"
        },
        "outputId": "2bd68f66-8cb5-4533-a546-594aa3ae45c1"
      },
      "execution_count": 3,
      "outputs": [
        {
          "output_type": "stream",
          "name": "stdout",
          "text": [
            "Copying gs://trains_data/train-data-master.zip...\n",
            "\\ [1 files][236.7 MiB/236.7 MiB]                                                \n",
            "Operation completed over 1 objects/236.7 MiB.                                    \n"
          ]
        }
      ]
    },
    {
      "cell_type": "code",
      "execution_count": 4,
      "metadata": {
        "id": "ckXLQ7eQ7E0c",
        "colab": {
          "base_uri": "https://localhost:8080/"
        },
        "outputId": "f33b0f50-e7c2-4be9-c515-d5d53ae0d52b"
      },
      "outputs": [
        {
          "output_type": "stream",
          "name": "stdout",
          "text": [
            "1000   21:05:51\n",
            "2000   21:05:57\n",
            "3000   21:06:04\n",
            "4000   21:06:07\n",
            "5000   21:06:11\n",
            "6000   21:06:15\n",
            "7000   21:06:19\n",
            "8000   21:06:23\n",
            "9000   21:06:27\n",
            "10000   21:06:32\n",
            "11000   21:06:36\n",
            "12000   21:06:38\n",
            "13000   21:06:43\n",
            "14000   21:06:47\n",
            "15000   21:06:50\n",
            "16000   21:06:56\n",
            "17000   21:07:01\n",
            "18000   21:07:03\n",
            "19000   21:07:06\n",
            "20000   21:07:11\n",
            "21000   21:07:14\n",
            "22000   21:07:19\n",
            "23000   21:07:22\n",
            "24000   21:07:28\n",
            "25000   21:07:30\n",
            "26000   21:07:33\n",
            "27000   21:07:39\n",
            "28000   21:07:42\n",
            "29000   21:07:45\n",
            "30000   21:07:51\n",
            "31000   21:07:54\n",
            "32000   21:07:57\n",
            "33000   21:07:59\n",
            "34000   21:08:06\n",
            "35000   21:08:09\n",
            "36000   21:08:12\n",
            "37000   21:08:14\n",
            "38000   21:08:22\n"
          ]
        }
      ],
      "source": [
        "trains = {}\n",
        "i = 1\n",
        "with zipfile.ZipFile(\"/tmp/\"+filename, \"r\") as f:\n",
        "    for name in f.namelist():\n",
        "        if name.endswith('.json'):\n",
        "            with f.open(name) as zd:\n",
        "                data = json.load(zd)\n",
        "                lastTrainReporting = data['lastTrainReporting']\n",
        "                currentLoco = lastTrainReporting['ptcLeadLocomotiveId']\n",
        "                if (\"trainActualPositionList\" in lastTrainReporting and len(lastTrainReporting['trainActualPositionList']) > 0): \n",
        "                    trains[i] = pd.json_normalize(lastTrainReporting)\n",
        "                    i = i + 1\n",
        "                    if (i % 1000 == 0):\n",
        "                      print(i, \" \", datetime.now().strftime(\"%H:%M:%S\"))\n",
        "                            "
      ]
    },
    {
      "cell_type": "code",
      "execution_count": 5,
      "metadata": {
        "id": "lgWV768N7E0d"
      },
      "outputs": [],
      "source": [
        "dfTrainsAll = pd.concat(trains.values())"
      ]
    },
    {
      "cell_type": "code",
      "source": [
        "del trains"
      ],
      "metadata": {
        "id": "Q581UU9nCWZ1"
      },
      "execution_count": 6,
      "outputs": []
    },
    {
      "cell_type": "code",
      "source": [
        "dfTrainsAll[\"milepost\"] = dfTrainsAll.apply(lambda row: math.trunc(row['lastReportedPosition.milepostLocation.milepost.milepostNumber']), axis=1)"
      ],
      "metadata": {
        "id": "l_CdLQUE8i18"
      },
      "execution_count": 7,
      "outputs": []
    },
    {
      "cell_type": "markdown",
      "source": [
        "Filter out MP outside of Boone"
      ],
      "metadata": {
        "id": "_AbzR6hBI5hX"
      }
    },
    {
      "cell_type": "code",
      "source": [
        "dfTrainsAll = dfTrainsAll[dfTrainsAll['milepost'] < 327]\n",
        "dfTrainsAll = dfTrainsAll[dfTrainsAll['milepost'] > 201]\n"
      ],
      "metadata": {
        "id": "7gsCOmhV8lql"
      },
      "execution_count": 8,
      "outputs": []
    },
    {
      "cell_type": "code",
      "execution_count": 9,
      "metadata": {
        "id": "Idznxze77E0e",
        "colab": {
          "base_uri": "https://localhost:8080/"
        },
        "outputId": "b1895b1b-3fae-4368-8b5b-b1b0541da663"
      },
      "outputs": [
        {
          "output_type": "stream",
          "name": "stdout",
          "text": [
            "<class 'pandas.core.frame.DataFrame'>\n",
            "Int64Index: 29770 entries, 0 to 0\n",
            "Data columns (total 37 columns):\n",
            " #   Column                                                         Non-Null Count  Dtype  \n",
            "---  ------                                                         --------------  -----  \n",
            " 0   ptcLeadLocomotiveId                                            29770 non-null  object \n",
            " 1   positionHistoryList                                            29770 non-null  object \n",
            " 2   locomotiveList                                                 29770 non-null  object \n",
            " 3   subdivisionList                                                29770 non-null  object \n",
            " 4   trainEstimatedPositionList                                     29770 non-null  object \n",
            " 5   trainActualPositionList                                        29770 non-null  object \n",
            " 6   trainId.trainSCAC                                              29728 non-null  object \n",
            " 7   trainId.trainSection                                           29770 non-null  object \n",
            " 8   trainId.trainSymbol                                            29770 non-null  object \n",
            " 9   trainId.trainDate                                              29770 non-null  object \n",
            " 10  lastReportedPosition.positionTime                              29770 non-null  object \n",
            " 11  lastReportedPosition.speedMPH                                  29770 non-null  int64  \n",
            " 12  lastReportedPosition.milepostLocation.subdivisionId            29770 non-null  int64  \n",
            " 13  lastReportedPosition.milepostLocation.trackName                29770 non-null  object \n",
            " 14  lastReportedPosition.milepostLocation.milepost.milepostNumber  29770 non-null  float64\n",
            " 15  aotuTrainData.priorityCode                                     29761 non-null  float64\n",
            " 16  aotuTrainData.categoryCode                                     29761 non-null  float64\n",
            " 17  aotuTrainData.authorityRangeCode                               29761 non-null  float64\n",
            " 18  aotuTrainData.ownershipCode                                    29761 non-null  float64\n",
            " 19  aotuTrainData.tenantCarrier                                    29761 non-null  object \n",
            " 20  aotuTrainData.totalCarWeight                                   29761 non-null  float64\n",
            " 21  aotuTrainData.totalCarLength                                   29761 non-null  float64\n",
            " 22  aotuTrainData.totalLocomotiveWeight                            29761 non-null  float64\n",
            " 23  aotuTrainData.totalLocomotiveLength                            29761 non-null  float64\n",
            " 24  aotuTrainData.actualTonsPerAxle                                29761 non-null  float64\n",
            " 25  aotuTrainData.heavy143TonCarCount                              29761 non-null  float64\n",
            " 26  aotuTrainData.heavy158TonCarCount                              29761 non-null  float64\n",
            " 27  aotuTrainData.over158TonCarCount                               29761 non-null  float64\n",
            " 28  aotuTrainData.highWideCarCount                                 29761 non-null  float64\n",
            " 29  aotuTrainData.eventCode                                        29761 non-null  float64\n",
            " 30  aotuTrainData.routeLocationList                                29761 non-null  object \n",
            " 31  maximumTrainSpeed                                              29583 non-null  float64\n",
            " 32  loadedCarCount                                                 29583 non-null  float64\n",
            " 33  emptyCarCount                                                  29583 non-null  float64\n",
            " 34  trainLength                                                    29583 non-null  float64\n",
            " 35  trailingTonnage                                                29583 non-null  float64\n",
            " 36  milepost                                                       29770 non-null  int64  \n",
            "dtypes: float64(20), int64(3), object(14)\n",
            "memory usage: 8.6+ MB\n",
            "None\n",
            "(29770, 37)\n"
          ]
        }
      ],
      "source": [
        "print(dfTrainsAll.info())\n",
        "print(dfTrainsAll.shape)"
      ]
    },
    {
      "cell_type": "markdown",
      "source": [
        "# Create a learning set to modify"
      ],
      "metadata": {
        "id": "D2hF44lYkNIf"
      }
    },
    {
      "cell_type": "code",
      "source": [
        "dfTrainsLearn = dfTrainsAll"
      ],
      "metadata": {
        "id": "it2dDKRfbk0_"
      },
      "execution_count": 10,
      "outputs": []
    },
    {
      "cell_type": "markdown",
      "source": [
        "Clear the nan values and replace with max values."
      ],
      "metadata": {
        "id": "d5b2nVAbkR7M"
      }
    },
    {
      "cell_type": "code",
      "source": [
        "dfTrainsLearn['loadedCarCount'] =  dfTrainsLearn['loadedCarCount'].replace(np.nan, 999.)\n",
        "dfTrainsLearn['emptyCarCount'] =  dfTrainsLearn['emptyCarCount'].replace(np.nan, 999.)\n",
        "dfTrainsLearn['trainLength'] =  dfTrainsLearn['trainLength'].replace(np.nan, 99999.)\n",
        "dfTrainsLearn['trailingTonnage'] =  dfTrainsLearn['trailingTonnage'].replace(np.nan, 99999.)"
      ],
      "metadata": {
        "id": "jTMp9nMBZav1"
      },
      "execution_count": 11,
      "outputs": []
    },
    {
      "cell_type": "markdown",
      "source": [
        "Determine if the train is moving milepost Increasing or decreasing."
      ],
      "metadata": {
        "id": "2yxcbslMj-uZ"
      }
    },
    {
      "cell_type": "code",
      "source": [
        "dfTrainsLearn['mpIncr'] = dfTrainsLearn.apply(lambda row: row['lastReportedPosition.speedMPH'] >= 0, axis=1)"
      ],
      "metadata": {
        "id": "-XDkAezxjVGH"
      },
      "execution_count": 12,
      "outputs": []
    },
    {
      "cell_type": "markdown",
      "source": [
        "Make all speeds positive"
      ],
      "metadata": {
        "id": "_Nge0iAIkFTV"
      }
    },
    {
      "cell_type": "code",
      "source": [
        "dfTrainsLearn['lastReportedPosition.speedMPH']  = dfTrainsLearn.apply(lambda row: abs(row['lastReportedPosition.speedMPH']), axis=1)\n",
        "dfTrainsLearn['maximumTrainSpeed']  = dfTrainsLearn.apply(lambda row: abs(row['maximumTrainSpeed']), axis=1)"
      ],
      "metadata": {
        "id": "TjMlCKaoxbMw"
      },
      "execution_count": 13,
      "outputs": []
    },
    {
      "cell_type": "code",
      "source": [
        "print(\"Speed Distribution:\")\n",
        "dfTrainsLearn['lastReportedPosition.speedMPH'].hist(bins=90)"
      ],
      "metadata": {
        "id": "KWQaxYZ3yC1f",
        "colab": {
          "base_uri": "https://localhost:8080/",
          "height": 303
        },
        "outputId": "bc3db3ea-9aff-4af8-bc12-02c9ada62a98"
      },
      "execution_count": 14,
      "outputs": [
        {
          "output_type": "stream",
          "name": "stdout",
          "text": [
            "Speed Distribution:\n"
          ]
        },
        {
          "output_type": "execute_result",
          "data": {
            "text/plain": [
              "<matplotlib.axes._subplots.AxesSubplot at 0x7f28650c4790>"
            ]
          },
          "metadata": {},
          "execution_count": 14
        },
        {
          "output_type": "display_data",
          "data": {
            "text/plain": [
              "<Figure size 432x288 with 1 Axes>"
            ],
            "image/png": "[encoded data removed]"
          },
          "metadata": {
            "needs_background": "light"
          }
        }
      ]
    },
    {
      "cell_type": "markdown",
      "source": [
        "Replace the NaN values in AOTU with zeros"
      ],
      "metadata": {
        "id": "hQ65ocjckk-s"
      }
    },
    {
      "cell_type": "code",
      "source": [
        "aotuColumns = [item for item in dfTrainsLearn.columns if item.startswith('aotu')]\n",
        "for column in aotuColumns:\n",
        "  dfTrainsLearn[column] =  dfTrainsLearn[column].replace(np.nan, 0.)"
      ],
      "metadata": {
        "id": "IjhK53fef5eG"
      },
      "execution_count": 15,
      "outputs": []
    },
    {
      "cell_type": "markdown",
      "source": [
        "Categorize the applicable variables"
      ],
      "metadata": {
        "id": "Skh2x30Ao2aj"
      }
    },
    {
      "cell_type": "code",
      "source": [
        "def categorize(aDataFrame, columnName, defaultReplacement):\n",
        "  aDataFrame[columnName] = aDataFrame[columnName].fillna(value=defaultReplacement)\n",
        "  categories = aDataFrame[columnName].unique()\n",
        "  print(aDataFrame[columnName].unique())\n",
        "  aDataFrame[columnName] = aDataFrame[columnName].astype('category')\n",
        "  aDataFrame[columnName] = aDataFrame[columnName].cat.set_categories(categories)\n",
        "  return aDataFrame"
      ],
      "metadata": {
        "id": "FPO5BUrpVl5t"
      },
      "execution_count": 16,
      "outputs": []
    },
    {
      "cell_type": "code",
      "source": [
        "dfTrainsLearn['symbolType'] = dfTrainsLearn.apply(lambda row: row['trainId.trainSymbol'][:1], axis=1)\n",
        "dfTrainsLearn = categorize(dfTrainsLearn, 'symbolType', \"X\")\n",
        "dfTrainsLearn = categorize(dfTrainsLearn, 'lastReportedPosition.milepostLocation.trackName', \"UNKNOWN\")\n",
        "dfTrainsLearn = categorize(dfTrainsLearn, 'trainId.trainSCAC',\"UNK\")\n",
        "dfTrainsLearn = categorize(dfTrainsLearn, 'trainId.trainSection', ' ')\n",
        "dfTrainsLearn = categorize(dfTrainsLearn, 'aotuTrainData.priorityCode', 0)  # may want to order these\n",
        "dfTrainsLearn = categorize(dfTrainsLearn, 'aotuTrainData.categoryCode', 0)\n",
        "dfTrainsLearn = categorize(dfTrainsLearn, 'aotuTrainData.authorityRangeCode', 0)\n",
        "dfTrainsLearn = categorize(dfTrainsLearn, 'aotuTrainData.ownershipCode', 0)\n",
        "dfTrainsLearn = categorize(dfTrainsLearn, 'aotuTrainData.tenantCarrier', \"0\")\n",
        "dfTrainsLearn = categorize(dfTrainsLearn, 'aotuTrainData.eventCode', 0)\n",
        " "
      ],
      "metadata": {
        "colab": {
          "base_uri": "https://localhost:8080/"
        },
        "id": "CKDKREgdNRGT",
        "outputId": "34c24486-4caa-4988-a999-c08a23ac0122"
      },
      "execution_count": 17,
      "outputs": [
        {
          "output_type": "stream",
          "name": "stdout",
          "text": [
            "['M' 'U' 'E' 'G' 'C' 'A' 'I' 'W' 'Z' 'S' 'L' 'P']\n",
            "['MT 1' 'MT 2' 'EASTXO' 'N SIDING' 'WESTXO' 'YD LD' '136' 'XO' '806' '405' '113']\n",
            "['UP' 'UNK']\n",
            "['' '2']\n",
            "[4. 1. 3. 0.]\n",
            "[12.  8. 15.  4.  2. 10. 19. 17. 11. 14.  0.]\n",
            "[2. 1. 0.]\n",
            "[2. 3. 0.]\n",
            "['' 0.0]\n",
            "[0.]\n"
          ]
        }
      ]
    },
    {
      "cell_type": "markdown",
      "source": [
        "Replace unknown max speeds with 88 miles per hour (to make them recognizable)"
      ],
      "metadata": {
        "id": "5fP9phXQlAXf"
      }
    },
    {
      "cell_type": "code",
      "source": [
        "dfTrainsLearn['maximumTrainSpeed'] =  dfTrainsLearn['maximumTrainSpeed'].replace(np.nan, 88.)\n",
        "print(dfTrainsLearn['maximumTrainSpeed'].unique())"
      ],
      "metadata": {
        "id": "ZTAgIeMJeHmz",
        "colab": {
          "base_uri": "https://localhost:8080/"
        },
        "outputId": "92f9a60d-7b67-444e-853c-750a24a29c15"
      },
      "execution_count": 18,
      "outputs": [
        {
          "output_type": "stream",
          "name": "stdout",
          "text": [
            "[60. 70. 50. 40. 88. 45. 79.  0. 30.]\n"
          ]
        }
      ]
    },
    {
      "cell_type": "markdown",
      "source": [
        "Flatten out the work locations (we may want to change this for the NN algorithm)"
      ],
      "metadata": {
        "id": "Dv-loghjlK_w"
      }
    },
    {
      "cell_type": "code",
      "source": [
        "def getWorkLocations(dfTrainsLocation):\n",
        "  if isinstance(dfTrainsLocation['aotuTrainData.routeLocationList'], float):\n",
        "    return None\n",
        "  if len(dfTrainsLocation['aotuTrainData.routeLocationList']) == 0:\n",
        "    return None\n",
        "  aotuRoute=pd.json_normalize(dfTrainsLocation['aotuTrainData.routeLocationList']) \n",
        "  eventLocations = aotuRoute[aotuRoute['activityList'].map(len) > 1]\n",
        "  temp = eventLocations['milepost.milepostNumber'].unique()\n",
        "  if len(temp) == 0:\n",
        "    return None\n",
        "  return ','.join(['%.2f' % num for num in temp])"
      ],
      "metadata": {
        "id": "TsYgT41SKyAn"
      },
      "execution_count": 19,
      "outputs": []
    },
    {
      "cell_type": "code",
      "source": [
        "dfTrainsLearn['workLocations'] = dfTrainsLearn.apply(lambda row: getWorkLocations(row), axis=1)"
      ],
      "metadata": {
        "id": "5sNuNU-iSgFy"
      },
      "execution_count": 20,
      "outputs": []
    },
    {
      "cell_type": "code",
      "source": [
        "dfTrainsLearn['workLocations'].unique()"
      ],
      "metadata": {
        "id": "jA6cNsHR8VSr",
        "colab": {
          "base_uri": "https://localhost:8080/"
        },
        "outputId": "81dc8f2d-3fec-41f5-f8d4-34e4e1697d32"
      },
      "execution_count": 21,
      "outputs": [
        {
          "output_type": "execute_result",
          "data": {
            "text/plain": [
              "array(['202.20', '258.40,202.20', None, '225.10', '202.20,258.40,321.50', '314.52,202.20', '321.50,202.20', '231.80,225.10', '214.50', '225.10,202.20', '202.20,258.40', '202.20,219.70',\n",
              "       '219.70,202.20', '202.20,214.50,225.10,290.80,304.10', '202.20,258.40,225.10', '202.20,219.90,225.10', '202.20,257.60', '250.50,202.20', '268.40,202.20', '258.40,207.60,202.20',\n",
              "       '207.60,202.20', '241.00,202.20', '258.40,219.70,202.20', '202.20,314.52', '202.92,202.20', '214.50,225.10,290.80,304.10,202.20', '290.80,258.40,231.80,202.20', '202.20,290.80',\n",
              "       '202.20,299.75', '314.52,225.10,202.20', '202.20,219.70,277.50', '202.20,293.10', '202.20,304.10', '321.50,314.52,202.20', '202.20,240.90', '202.20,265.30', '265.30,202.20', '202.20,286.40',\n",
              "       '240.90,207.60,202.20', '250.50,245.90,202.20', '219.70', '202.20,312.80', '321.50,240.90,202.20', '240.90,202.20', '202.20,207.60', '202.20,225.10', '326.20,214.50', '214.50,202.20',\n",
              "       '240.90,214.50,202.20', '278.10,258.40,202.20', '202.20,258.40,314.52', '258.40,250.50,202.20', '214.50,225.10,290.80,304.10', '202.20,262.60', '202.20,268.40', '258.40,216.70,202.20',\n",
              "       '202.20,258.40,304.10,321.50', '299.75,202.20', '321.50,225.10,202.20', '314.52,265.30,225.10,202.20', '250.50,219.70,202.20', '202.20,219.70,258.40,321.50', '202.20,321.50', '240.90,225.10',\n",
              "       '286.40,258.40,202.20', '286.40,258.40,207.60,202.20', '257.60,202.20', '202.20,250.50,265.30', '271.50,202.20', '240.90,219.90,202.20', '202.20,219.70,258.40', '216.70,202.20',\n",
              "       '321.50,207.60,202.20', '202.20,250.50', '321.50,250.50,245.90,202.20', '202.20,258.40,321.50,265.30', '202.20,258.40,265.30,321.50', '202.20,258.40,265.30,312.80,321.50',\n",
              "       '202.20,240.90,314.52', '202.20,202.92', '202.20,326.20', '258.40,225.10,202.20', '250.50,231.80,202.20', '250.50,245.90,231.80,202.20'], dtype=object)"
            ]
          },
          "metadata": {},
          "execution_count": 21
        }
      ]
    },
    {
      "cell_type": "markdown",
      "source": [
        "determine the locomotive count from the locomotive list.  We can make this more clever later, but for now this seems the most sensible shortcut"
      ],
      "metadata": {
        "id": "-AZiJPI24QO9"
      }
    },
    {
      "cell_type": "code",
      "source": [
        "dfTrainsLearn['locomotiveCount'] = dfTrainsLearn.apply(lambda row: len(row['locomotiveList']),axis = 1)"
      ],
      "metadata": {
        "id": "LuG8-GNBzwrF"
      },
      "execution_count": 22,
      "outputs": []
    },
    {
      "cell_type": "markdown",
      "source": [
        "Convert the list of actual reportings into a dataframe."
      ],
      "metadata": {
        "id": "Hbv-6WLkrqO2"
      }
    },
    {
      "cell_type": "code",
      "source": [
        "dfTrainsLearnActuals = dfTrainsLearn.apply(lambda row: pd.json_normalize(row['trainActualPositionList']), axis=1)"
      ],
      "metadata": {
        "id": "Ag-KbEfz4Is8"
      },
      "execution_count": 23,
      "outputs": []
    },
    {
      "cell_type": "code",
      "source": [],
      "metadata": {
        "id": "S2wakhxi7Uso"
      },
      "execution_count": 23,
      "outputs": []
    },
    {
      "cell_type": "code",
      "source": [
        "def showTrain(idx):\n",
        "  print(dfTrainsLearn.iloc[idx]['ptcLeadLocomotiveId'])\n",
        "  print(dfTrainsLearn.iloc[idx]['trainId.trainSymbol'])\n",
        "  print(dfTrainsLearn.iloc[idx]['lastReportedPosition.milepostLocation.subdivisionId'])\n",
        "  print(dfTrainsLearn.iloc[idx]['lastReportedPosition.milepostLocation.trackName'])\n",
        "  print(dfTrainsLearn.iloc[idx]['lastReportedPosition.milepostLocation.milepost.milepostNumber'])"
      ],
      "metadata": {
        "id": "ZuIVv8dvnIpG"
      },
      "execution_count": 24,
      "outputs": []
    },
    {
      "cell_type": "markdown",
      "source": [
        "You can peer into the incoming data here:"
      ],
      "metadata": {
        "id": "VLFBdKgPll2j"
      }
    },
    {
      "cell_type": "code",
      "source": [
        "idx = 1\n",
        "showTrain(idx)\n",
        "dfTrainsLearnActuals.iloc[idx]"
      ],
      "metadata": {
        "id": "r_gdrmU4IgpY",
        "colab": {
          "base_uri": "https://localhost:8080/",
          "height": 510
        },
        "outputId": "6a7ab395-7def-4eb0-97ce-9509fb570208"
      },
      "execution_count": 25,
      "outputs": [
        {
          "output_type": "stream",
          "name": "stdout",
          "text": [
            "NS1007\n",
            "MGBNP\n",
            "106\n",
            "MT 1\n",
            "209.8707\n"
          ]
        },
        {
          "output_type": "execute_result",
          "data": {
            "text/plain": [
              "            positionTime  speedMPH  milepostLocation.subdivisionId  \\\n",
              "0   2022-06-09T19:40:07Z         0                             106   \n",
              "1   2022-06-09T19:42:07Z         0                             106   \n",
              "2   2022-06-09T19:44:07Z         5                             106   \n",
              "3   2022-06-09T19:46:07Z        11                             106   \n",
              "4   2022-06-09T19:48:07Z        17                             106   \n",
              "..                   ...       ...                             ...   \n",
              "52  2022-06-09T21:26:07Z        35                             106   \n",
              "53  2022-06-09T21:28:07Z        42                             106   \n",
              "54  2022-06-09T21:30:07Z        49                             106   \n",
              "55  2022-06-09T21:34:07Z        62                             106   \n",
              "56  2022-06-09T21:36:07Z        65                             106   \n",
              "\n",
              "   milepostLocation.trackName  milepostLocation.milepost.milepostNumber  \n",
              "0                        MT 1                                 209.87070  \n",
              "1                        MT 1                                 209.87070  \n",
              "2                        MT 1                                 210.15358  \n",
              "3                        MT 1                                 210.46217  \n",
              "4                        MT 1                                 210.88560  \n",
              "..                        ...                                       ...  \n",
              "52                       MT 1                                 281.16560  \n",
              "53                       MT 1                                 282.40717  \n",
              "54                       MT 1                                 283.95746  \n",
              "55                       MT 1                                 287.82657  \n",
              "56                       MT 1                                 289.98170  \n",
              "\n",
              "[57 rows x 5 columns]"
            ],
            "text/html": [
              "\n",
              "  <div id=\"df-0206e796-6e33-4b44-95c2-37cd68275329\">\n",
              "    <div class=\"colab-df-container\">\n",
              "      <div>\n",
              "<style scoped>\n",
              "    .dataframe tbody tr th:only-of-type {\n",
              "        vertical-align: middle;\n",
              "    }\n",
              "\n",
              "    .dataframe tbody tr th {\n",
              "        vertical-align: top;\n",
              "    }\n",
              "\n",
              "    .dataframe thead th {\n",
              "        text-align: right;\n",
              "    }\n",
              "</style>\n",
              "<table border=\"1\" class=\"dataframe\">\n",
              "  <thead>\n",
              "    <tr style=\"text-align: right;\">\n",
              "      <th></th>\n",
              "      <th>positionTime</th>\n",
              "      <th>speedMPH</th>\n",
              "      <th>milepostLocation.subdivisionId</th>\n",
              "      <th>milepostLocation.trackName</th>\n",
              "      <th>milepostLocation.milepost.milepostNumber</th>\n",
              "    </tr>\n",
              "  </thead>\n",
              "  <tbody>\n",
              "    <tr>\n",
              "      <th>0</th>\n",
              "      <td>2022-06-09T19:40:07Z</td>\n",
              "      <td>0</td>\n",
              "      <td>106</td>\n",
              "      <td>MT 1</td>\n",
              "      <td>209.87070</td>\n",
              "    </tr>\n",
              "    <tr>\n",
              "      <th>1</th>\n",
              "      <td>2022-06-09T19:42:07Z</td>\n",
              "      <td>0</td>\n",
              "      <td>106</td>\n",
              "      <td>MT 1</td>\n",
              "      <td>209.87070</td>\n",
              "    </tr>\n",
              "    <tr>\n",
              "      <th>2</th>\n",
              "      <td>2022-06-09T19:44:07Z</td>\n",
              "      <td>5</td>\n",
              "      <td>106</td>\n",
              "      <td>MT 1</td>\n",
              "      <td>210.15358</td>\n",
              "    </tr>\n",
              "    <tr>\n",
              "      <th>3</th>\n",
              "      <td>2022-06-09T19:46:07Z</td>\n",
              "      <td>11</td>\n",
              "      <td>106</td>\n",
              "      <td>MT 1</td>\n",
              "      <td>210.46217</td>\n",
              "    </tr>\n",
              "    <tr>\n",
              "      <th>4</th>\n",
              "      <td>2022-06-09T19:48:07Z</td>\n",
              "      <td>17</td>\n",
              "      <td>106</td>\n",
              "      <td>MT 1</td>\n",
              "      <td>210.88560</td>\n",
              "    </tr>\n",
              "    <tr>\n",
              "      <th>...</th>\n",
              "      <td>...</td>\n",
              "      <td>...</td>\n",
              "      <td>...</td>\n",
              "      <td>...</td>\n",
              "      <td>...</td>\n",
              "    </tr>\n",
              "    <tr>\n",
              "      <th>52</th>\n",
              "      <td>2022-06-09T21:26:07Z</td>\n",
              "      <td>35</td>\n",
              "      <td>106</td>\n",
              "      <td>MT 1</td>\n",
              "      <td>281.16560</td>\n",
              "    </tr>\n",
              "    <tr>\n",
              "      <th>53</th>\n",
              "      <td>2022-06-09T21:28:07Z</td>\n",
              "      <td>42</td>\n",
              "      <td>106</td>\n",
              "      <td>MT 1</td>\n",
              "      <td>282.40717</td>\n",
              "    </tr>\n",
              "    <tr>\n",
              "      <th>54</th>\n",
              "      <td>2022-06-09T21:30:07Z</td>\n",
              "      <td>49</td>\n",
              "      <td>106</td>\n",
              "      <td>MT 1</td>\n",
              "      <td>283.95746</td>\n",
              "    </tr>\n",
              "    <tr>\n",
              "      <th>55</th>\n",
              "      <td>2022-06-09T21:34:07Z</td>\n",
              "      <td>62</td>\n",
              "      <td>106</td>\n",
              "      <td>MT 1</td>\n",
              "      <td>287.82657</td>\n",
              "    </tr>\n",
              "    <tr>\n",
              "      <th>56</th>\n",
              "      <td>2022-06-09T21:36:07Z</td>\n",
              "      <td>65</td>\n",
              "      <td>106</td>\n",
              "      <td>MT 1</td>\n",
              "      <td>289.98170</td>\n",
              "    </tr>\n",
              "  </tbody>\n",
              "</table>\n",
              "<p>57 rows × 5 columns</p>\n",
              "</div>\n",
              "      <button class=\"colab-df-convert\" onclick=\"convertToInteractive('df-0206e796-6e33-4b44-95c2-37cd68275329')\"\n",
              "              title=\"Convert this dataframe to an interactive table.\"\n",
              "              style=\"display:none;\">\n",
              "        \n",
              "  <svg xmlns=\"http://www.w3.org/2000/svg\" height=\"24px\"viewBox=\"0 0 24 24\"\n",
              "       width=\"24px\">\n",
              "    <path d=\"M0 0h24v24H0V0z\" fill=\"none\"/>\n",
              "    <path d=\"M18.56 5.44l.94 2.06.94-2.06 2.06-.94-2.06-.94-.94-2.06-.94 2.06-2.06.94zm-11 1L8.5 8.5l.94-2.06 2.06-.94-2.06-.94L8.5 2.5l-.94 2.06-2.06.94zm10 10l.94 2.06.94-2.06 2.06-.94-2.06-.94-.94-2.06-.94 2.06-2.06.94z\"/><path d=\"M17.41 7.96l-1.37-1.37c-.4-.4-.92-.59-1.43-.59-.52 0-1.04.2-1.43.59L10.3 9.45l-7.72 7.72c-.78.78-.78 2.05 0 2.83L4 21.41c.39.39.9.59 1.41.59.51 0 1.02-.2 1.41-.59l7.78-7.78 2.81-2.81c.8-.78.8-2.07 0-2.86zM5.41 20L4 18.59l7.72-7.72 1.47 1.35L5.41 20z\"/>\n",
              "  </svg>\n",
              "      </button>\n",
              "      \n",
              "  <style>\n",
              "    .colab-df-container {\n",
              "      display:flex;\n",
              "      flex-wrap:wrap;\n",
              "      gap: 12px;\n",
              "    }\n",
              "\n",
              "    .colab-df-convert {\n",
              "      background-color: #E8F0FE;\n",
              "      border: none;\n",
              "      border-radius: 50%;\n",
              "      cursor: pointer;\n",
              "      display: none;\n",
              "      fill: #1967D2;\n",
              "      height: 32px;\n",
              "      padding: 0 0 0 0;\n",
              "      width: 32px;\n",
              "    }\n",
              "\n",
              "    .colab-df-convert:hover {\n",
              "      background-color: #E2EBFA;\n",
              "      box-shadow: 0px 1px 2px rgba(60, 64, 67, 0.3), 0px 1px 3px 1px rgba(60, 64, 67, 0.15);\n",
              "      fill: #174EA6;\n",
              "    }\n",
              "\n",
              "    [theme=dark] .colab-df-convert {\n",
              "      background-color: #3B4455;\n",
              "      fill: #D2E3FC;\n",
              "    }\n",
              "\n",
              "    [theme=dark] .colab-df-convert:hover {\n",
              "      background-color: #434B5C;\n",
              "      box-shadow: 0px 1px 3px 1px rgba(0, 0, 0, 0.15);\n",
              "      filter: drop-shadow(0px 1px 2px rgba(0, 0, 0, 0.3));\n",
              "      fill: #FFFFFF;\n",
              "    }\n",
              "  </style>\n",
              "\n",
              "      <script>\n",
              "        const buttonEl =\n",
              "          document.querySelector('#df-0206e796-6e33-4b44-95c2-37cd68275329 button.colab-df-convert');\n",
              "        buttonEl.style.display =\n",
              "          google.colab.kernel.accessAllowed ? 'block' : 'none';\n",
              "\n",
              "        async function convertToInteractive(key) {\n",
              "          const element = document.querySelector('#df-0206e796-6e33-4b44-95c2-37cd68275329');\n",
              "          const dataTable =\n",
              "            await google.colab.kernel.invokeFunction('convertToInteractive',\n",
              "                                                     [key], {});\n",
              "          if (!dataTable) return;\n",
              "\n",
              "          const docLinkHtml = 'Like what you see? Visit the ' +\n",
              "            '<a target=\"_blank\" href=https://colab.research.google.com/notebooks/data_table.ipynb>data table notebook</a>'\n",
              "            + ' to learn more about interactive tables.';\n",
              "          element.innerHTML = '';\n",
              "          dataTable['output_type'] = 'display_data';\n",
              "          await google.colab.output.renderOutput(dataTable, element);\n",
              "          const docLink = document.createElement('div');\n",
              "          docLink.innerHTML = docLinkHtml;\n",
              "          element.appendChild(docLink);\n",
              "        }\n",
              "      </script>\n",
              "    </div>\n",
              "  </div>\n",
              "  "
            ]
          },
          "metadata": {},
          "execution_count": 25
        }
      ]
    },
    {
      "cell_type": "code",
      "source": [
        "dfTrainsBeop =  dfTrainsLearn[['lastReportedPosition.milepostLocation.milepost.milepostNumber','trainEstimatedPositionList']]\n",
        "dfTrainsBeop"
      ],
      "metadata": {
        "id": "1FsMwzd7xSLZ",
        "colab": {
          "base_uri": "https://localhost:8080/",
          "height": 1000
        },
        "outputId": "7fda8cf6-74cf-4e38-f6e9-ebabbdc17b83"
      },
      "execution_count": 26,
      "outputs": [
        {
          "output_type": "execute_result",
          "data": {
            "text/plain": [
              "    lastReportedPosition.milepostLocation.milepost.milepostNumber  \\\n",
              "0                                                        202.2072   \n",
              "0                                                        209.8707   \n",
              "0                                                        216.5130   \n",
              "0                                                        224.2101   \n",
              "0                                                        235.8908   \n",
              "..                                                            ...   \n",
              "0                                                        217.0825   \n",
              "0                                                        215.1352   \n",
              "0                                                        207.0881   \n",
              "0                                                        207.0909   \n",
              "0                                                        206.3006   \n",
              "\n",
              "                                                                                                                                                                                                                                                                                                                                                                                                                                                                                                                                                                                                 trainEstimatedPositionList  \n",
              "0   [{'positionTime': '2022-06-09T19:20:40Z', 'speedMPH': 42, 'milepostLocation': {'subdivisionId': 106, 'trackName': 'MT 1', 'milepost': {'milepostNumber': 202.2072}}}, {'positionTime': '2022-06-09T19:22:40Z', 'speedMPH': 45, 'milepostLocation': {'subdivisionId': 106, 'trackName': 'MT 1', 'milepost': {'milepostNumber': 203.70474}}}, {'positionTime': '2022-06-09T19:24:40Z', 'speedMPH': 49, 'milepostLocation': {'subdivisionId': 106, 'trackName': 'MT 1', 'milepost': {'milepostNumber': 205.29929}}}, {'positionTime': '2022-06-09T19:26:40Z', 'speedMPH': 53, 'milepostLocation': {'subdivisionId': 106...  \n",
              "0                                                                                                                                                                                                                                                                                                                                                                                                                                                                                                                                                                                                                        []  \n",
              "0   [{'positionTime': '2022-06-09T19:54:41Z', 'speedMPH': 26, 'milepostLocation': {'subdivisionId': 106, 'trackName': 'MT 1', 'milepost': {'milepostNumber': 216.513}}}, {'positionTime': '2022-06-09T19:56:41Z', 'speedMPH': 32, 'milepostLocation': {'subdivisionId': 106, 'trackName': 'MT 1', 'milepost': {'milepostNumber': 217.47511}}}, {'positionTime': '2022-06-09T19:58:41Z', 'speedMPH': 38, 'milepostLocation': {'subdivisionId': 106, 'trackName': 'MT 1', 'milepost': {'milepostNumber': 218.65654}}}, {'positionTime': '2022-06-09T20:00:41Z', 'speedMPH': 42, 'milepostLocation': {'subdivisionId': 106,...  \n",
              "0   [{'positionTime': '2022-06-09T20:11:30Z', 'speedMPH': 31, 'milepostLocation': {'subdivisionId': 106, 'trackName': 'MT 1', 'milepost': {'milepostNumber': 224.2101}}}, {'positionTime': '2022-06-09T20:13:30Z', 'speedMPH': 36, 'milepostLocation': {'subdivisionId': 106, 'trackName': 'MT 1', 'milepost': {'milepostNumber': 225.32594}}}, {'positionTime': '2022-06-09T20:15:30Z', 'speedMPH': 41, 'milepostLocation': {'subdivisionId': 106, 'trackName': 'MT 1', 'milepost': {'milepostNumber': 226.61711}}}, {'positionTime': '2022-06-09T20:17:30Z', 'speedMPH': 45, 'milepostLocation': {'subdivisionId': 106...  \n",
              "0   [{'positionTime': '2022-06-09T20:27:41Z', 'speedMPH': 36, 'milepostLocation': {'subdivisionId': 106, 'trackName': 'MT 1', 'milepost': {'milepostNumber': 235.8908}}}, {'positionTime': '2022-06-09T20:29:41Z', 'speedMPH': 40, 'milepostLocation': {'subdivisionId': 106, 'trackName': 'MT 1', 'milepost': {'milepostNumber': 237.54869}}}, {'positionTime': '2022-06-09T20:31:41Z', 'speedMPH': 40, 'milepostLocation': {'subdivisionId': 106, 'trackName': 'MT 1', 'milepost': {'milepostNumber': 238.9238}}}, {'positionTime': '2022-06-09T20:33:41Z', 'speedMPH': 44, 'milepostLocation': {'subdivisionId': 106,...  \n",
              "..                                                                                                                                                                                                                                                                                                                                                                                                                                                                                                                                                                                                                      ...  \n",
              "0                                                                                                                                                                                                                                                                                                                                                                                                                                                                                                                                                                                                                        []  \n",
              "0   [{'positionTime': '2022-06-04T01:18:01Z', 'speedMPH': -16, 'milepostLocation': {'subdivisionId': 106, 'trackName': 'MT 1', 'milepost': {'milepostNumber': 215.1352}}}, {'positionTime': '2022-06-04T01:20:01Z', 'speedMPH': -20, 'milepostLocation': {'subdivisionId': 106, 'trackName': 'MT 1', 'milepost': {'milepostNumber': 214.52847}}}, {'positionTime': '2022-06-04T01:22:01Z', 'speedMPH': -25, 'milepostLocation': {'subdivisionId': 106, 'trackName': 'MT 1', 'milepost': {'milepostNumber': 210.82147}}}, {'positionTime': '2022-06-04T01:24:01Z', 'speedMPH': -28, 'milepostLocation': {'subdivisionId':...  \n",
              "0                                                                                                                                                                                                                                                                                                                                                                                                                                                                                                                                                                                                                        []  \n",
              "0                                                                                                                                                                                                                                                                                                                                                                                                                                                                                                                                                                                                                        []  \n",
              "0   [{'positionTime': '2022-06-04T02:15:37Z', 'speedMPH': -15, 'milepostLocation': {'subdivisionId': 106, 'trackName': 'MT 1', 'milepost': {'milepostNumber': 206.3006}}}, {'positionTime': '2022-06-04T02:17:37Z', 'speedMPH': -20, 'milepostLocation': {'subdivisionId': 106, 'trackName': 'MT 1', 'milepost': {'milepostNumber': 205.7202}}}, {'positionTime': '2022-06-04T02:19:37Z', 'speedMPH': -24, 'milepostLocation': {'subdivisionId': 106, 'trackName': 'MT 1', 'milepost': {'milepostNumber': 204.97374}}}, {'positionTime': '2022-06-04T02:21:37Z', 'speedMPH': -27, 'milepostLocation': {'subdivisionId': ...  \n",
              "\n",
              "[29770 rows x 2 columns]"
            ],
            "text/html": [
              "\n",
              "  <div id=\"df-a626aaa1-95e2-4394-8962-0e8f7d859d4e\">\n",
              "    <div class=\"colab-df-container\">\n",
              "      <div>\n",
              "<style scoped>\n",
              "    .dataframe tbody tr th:only-of-type {\n",
              "        vertical-align: middle;\n",
              "    }\n",
              "\n",
              "    .dataframe tbody tr th {\n",
              "        vertical-align: top;\n",
              "    }\n",
              "\n",
              "    .dataframe thead th {\n",
              "        text-align: right;\n",
              "    }\n",
              "</style>\n",
              "<table border=\"1\" class=\"dataframe\">\n",
              "  <thead>\n",
              "    <tr style=\"text-align: right;\">\n",
              "      <th></th>\n",
              "      <th>lastReportedPosition.milepostLocation.milepost.milepostNumber</th>\n",
              "      <th>trainEstimatedPositionList</th>\n",
              "    </tr>\n",
              "  </thead>\n",
              "  <tbody>\n",
              "    <tr>\n",
              "      <th>0</th>\n",
              "      <td>202.2072</td>\n",
              "      <td>[{'positionTime': '2022-06-09T19:20:40Z', 'speedMPH': 42, 'milepostLocation': {'subdivisionId': 106, 'trackName': 'MT 1', 'milepost': {'milepostNumber': 202.2072}}}, {'positionTime': '2022-06-09T19:22:40Z', 'speedMPH': 45, 'milepostLocation': {'subdivisionId': 106, 'trackName': 'MT 1', 'milepost': {'milepostNumber': 203.70474}}}, {'positionTime': '2022-06-09T19:24:40Z', 'speedMPH': 49, 'milepostLocation': {'subdivisionId': 106, 'trackName': 'MT 1', 'milepost': {'milepostNumber': 205.29929}}}, {'positionTime': '2022-06-09T19:26:40Z', 'speedMPH': 53, 'milepostLocation': {'subdivisionId': 106...</td>\n",
              "    </tr>\n",
              "    <tr>\n",
              "      <th>0</th>\n",
              "      <td>209.8707</td>\n",
              "      <td>[]</td>\n",
              "    </tr>\n",
              "    <tr>\n",
              "      <th>0</th>\n",
              "      <td>216.5130</td>\n",
              "      <td>[{'positionTime': '2022-06-09T19:54:41Z', 'speedMPH': 26, 'milepostLocation': {'subdivisionId': 106, 'trackName': 'MT 1', 'milepost': {'milepostNumber': 216.513}}}, {'positionTime': '2022-06-09T19:56:41Z', 'speedMPH': 32, 'milepostLocation': {'subdivisionId': 106, 'trackName': 'MT 1', 'milepost': {'milepostNumber': 217.47511}}}, {'positionTime': '2022-06-09T19:58:41Z', 'speedMPH': 38, 'milepostLocation': {'subdivisionId': 106, 'trackName': 'MT 1', 'milepost': {'milepostNumber': 218.65654}}}, {'positionTime': '2022-06-09T20:00:41Z', 'speedMPH': 42, 'milepostLocation': {'subdivisionId': 106,...</td>\n",
              "    </tr>\n",
              "    <tr>\n",
              "      <th>0</th>\n",
              "      <td>224.2101</td>\n",
              "      <td>[{'positionTime': '2022-06-09T20:11:30Z', 'speedMPH': 31, 'milepostLocation': {'subdivisionId': 106, 'trackName': 'MT 1', 'milepost': {'milepostNumber': 224.2101}}}, {'positionTime': '2022-06-09T20:13:30Z', 'speedMPH': 36, 'milepostLocation': {'subdivisionId': 106, 'trackName': 'MT 1', 'milepost': {'milepostNumber': 225.32594}}}, {'positionTime': '2022-06-09T20:15:30Z', 'speedMPH': 41, 'milepostLocation': {'subdivisionId': 106, 'trackName': 'MT 1', 'milepost': {'milepostNumber': 226.61711}}}, {'positionTime': '2022-06-09T20:17:30Z', 'speedMPH': 45, 'milepostLocation': {'subdivisionId': 106...</td>\n",
              "    </tr>\n",
              "    <tr>\n",
              "      <th>0</th>\n",
              "      <td>235.8908</td>\n",
              "      <td>[{'positionTime': '2022-06-09T20:27:41Z', 'speedMPH': 36, 'milepostLocation': {'subdivisionId': 106, 'trackName': 'MT 1', 'milepost': {'milepostNumber': 235.8908}}}, {'positionTime': '2022-06-09T20:29:41Z', 'speedMPH': 40, 'milepostLocation': {'subdivisionId': 106, 'trackName': 'MT 1', 'milepost': {'milepostNumber': 237.54869}}}, {'positionTime': '2022-06-09T20:31:41Z', 'speedMPH': 40, 'milepostLocation': {'subdivisionId': 106, 'trackName': 'MT 1', 'milepost': {'milepostNumber': 238.9238}}}, {'positionTime': '2022-06-09T20:33:41Z', 'speedMPH': 44, 'milepostLocation': {'subdivisionId': 106,...</td>\n",
              "    </tr>\n",
              "    <tr>\n",
              "      <th>...</th>\n",
              "      <td>...</td>\n",
              "      <td>...</td>\n",
              "    </tr>\n",
              "    <tr>\n",
              "      <th>0</th>\n",
              "      <td>217.0825</td>\n",
              "      <td>[]</td>\n",
              "    </tr>\n",
              "    <tr>\n",
              "      <th>0</th>\n",
              "      <td>215.1352</td>\n",
              "      <td>[{'positionTime': '2022-06-04T01:18:01Z', 'speedMPH': -16, 'milepostLocation': {'subdivisionId': 106, 'trackName': 'MT 1', 'milepost': {'milepostNumber': 215.1352}}}, {'positionTime': '2022-06-04T01:20:01Z', 'speedMPH': -20, 'milepostLocation': {'subdivisionId': 106, 'trackName': 'MT 1', 'milepost': {'milepostNumber': 214.52847}}}, {'positionTime': '2022-06-04T01:22:01Z', 'speedMPH': -25, 'milepostLocation': {'subdivisionId': 106, 'trackName': 'MT 1', 'milepost': {'milepostNumber': 210.82147}}}, {'positionTime': '2022-06-04T01:24:01Z', 'speedMPH': -28, 'milepostLocation': {'subdivisionId':...</td>\n",
              "    </tr>\n",
              "    <tr>\n",
              "      <th>0</th>\n",
              "      <td>207.0881</td>\n",
              "      <td>[]</td>\n",
              "    </tr>\n",
              "    <tr>\n",
              "      <th>0</th>\n",
              "      <td>207.0909</td>\n",
              "      <td>[]</td>\n",
              "    </tr>\n",
              "    <tr>\n",
              "      <th>0</th>\n",
              "      <td>206.3006</td>\n",
              "      <td>[{'positionTime': '2022-06-04T02:15:37Z', 'speedMPH': -15, 'milepostLocation': {'subdivisionId': 106, 'trackName': 'MT 1', 'milepost': {'milepostNumber': 206.3006}}}, {'positionTime': '2022-06-04T02:17:37Z', 'speedMPH': -20, 'milepostLocation': {'subdivisionId': 106, 'trackName': 'MT 1', 'milepost': {'milepostNumber': 205.7202}}}, {'positionTime': '2022-06-04T02:19:37Z', 'speedMPH': -24, 'milepostLocation': {'subdivisionId': 106, 'trackName': 'MT 1', 'milepost': {'milepostNumber': 204.97374}}}, {'positionTime': '2022-06-04T02:21:37Z', 'speedMPH': -27, 'milepostLocation': {'subdivisionId': ...</td>\n",
              "    </tr>\n",
              "  </tbody>\n",
              "</table>\n",
              "<p>29770 rows × 2 columns</p>\n",
              "</div>\n",
              "      <button class=\"colab-df-convert\" onclick=\"convertToInteractive('df-a626aaa1-95e2-4394-8962-0e8f7d859d4e')\"\n",
              "              title=\"Convert this dataframe to an interactive table.\"\n",
              "              style=\"display:none;\">\n",
              "        \n",
              "  <svg xmlns=\"http://www.w3.org/2000/svg\" height=\"24px\"viewBox=\"0 0 24 24\"\n",
              "       width=\"24px\">\n",
              "    <path d=\"M0 0h24v24H0V0z\" fill=\"none\"/>\n",
              "    <path d=\"M18.56 5.44l.94 2.06.94-2.06 2.06-.94-2.06-.94-.94-2.06-.94 2.06-2.06.94zm-11 1L8.5 8.5l.94-2.06 2.06-.94-2.06-.94L8.5 2.5l-.94 2.06-2.06.94zm10 10l.94 2.06.94-2.06 2.06-.94-2.06-.94-.94-2.06-.94 2.06-2.06.94z\"/><path d=\"M17.41 7.96l-1.37-1.37c-.4-.4-.92-.59-1.43-.59-.52 0-1.04.2-1.43.59L10.3 9.45l-7.72 7.72c-.78.78-.78 2.05 0 2.83L4 21.41c.39.39.9.59 1.41.59.51 0 1.02-.2 1.41-.59l7.78-7.78 2.81-2.81c.8-.78.8-2.07 0-2.86zM5.41 20L4 18.59l7.72-7.72 1.47 1.35L5.41 20z\"/>\n",
              "  </svg>\n",
              "      </button>\n",
              "      \n",
              "  <style>\n",
              "    .colab-df-container {\n",
              "      display:flex;\n",
              "      flex-wrap:wrap;\n",
              "      gap: 12px;\n",
              "    }\n",
              "\n",
              "    .colab-df-convert {\n",
              "      background-color: #E8F0FE;\n",
              "      border: none;\n",
              "      border-radius: 50%;\n",
              "      cursor: pointer;\n",
              "      display: none;\n",
              "      fill: #1967D2;\n",
              "      height: 32px;\n",
              "      padding: 0 0 0 0;\n",
              "      width: 32px;\n",
              "    }\n",
              "\n",
              "    .colab-df-convert:hover {\n",
              "      background-color: #E2EBFA;\n",
              "      box-shadow: 0px 1px 2px rgba(60, 64, 67, 0.3), 0px 1px 3px 1px rgba(60, 64, 67, 0.15);\n",
              "      fill: #174EA6;\n",
              "    }\n",
              "\n",
              "    [theme=dark] .colab-df-convert {\n",
              "      background-color: #3B4455;\n",
              "      fill: #D2E3FC;\n",
              "    }\n",
              "\n",
              "    [theme=dark] .colab-df-convert:hover {\n",
              "      background-color: #434B5C;\n",
              "      box-shadow: 0px 1px 3px 1px rgba(0, 0, 0, 0.15);\n",
              "      filter: drop-shadow(0px 1px 2px rgba(0, 0, 0, 0.3));\n",
              "      fill: #FFFFFF;\n",
              "    }\n",
              "  </style>\n",
              "\n",
              "      <script>\n",
              "        const buttonEl =\n",
              "          document.querySelector('#df-a626aaa1-95e2-4394-8962-0e8f7d859d4e button.colab-df-convert');\n",
              "        buttonEl.style.display =\n",
              "          google.colab.kernel.accessAllowed ? 'block' : 'none';\n",
              "\n",
              "        async function convertToInteractive(key) {\n",
              "          const element = document.querySelector('#df-a626aaa1-95e2-4394-8962-0e8f7d859d4e');\n",
              "          const dataTable =\n",
              "            await google.colab.kernel.invokeFunction('convertToInteractive',\n",
              "                                                     [key], {});\n",
              "          if (!dataTable) return;\n",
              "\n",
              "          const docLinkHtml = 'Like what you see? Visit the ' +\n",
              "            '<a target=\"_blank\" href=https://colab.research.google.com/notebooks/data_table.ipynb>data table notebook</a>'\n",
              "            + ' to learn more about interactive tables.';\n",
              "          element.innerHTML = '';\n",
              "          dataTable['output_type'] = 'display_data';\n",
              "          await google.colab.output.renderOutput(dataTable, element);\n",
              "          const docLink = document.createElement('div');\n",
              "          docLink.innerHTML = docLinkHtml;\n",
              "          element.appendChild(docLink);\n",
              "        }\n",
              "      </script>\n",
              "    </div>\n",
              "  </div>\n",
              "  "
            ]
          },
          "metadata": {},
          "execution_count": 26
        }
      ]
    },
    {
      "cell_type": "markdown",
      "source": [
        "Renumber the list"
      ],
      "metadata": {
        "id": "lA_7_hJRr9RI"
      }
    },
    {
      "cell_type": "code",
      "source": [
        "dfTrainsLearn = dfTrainsLearn.reset_index(drop=True)"
      ],
      "metadata": {
        "id": "Kw_c3Ddj4zN4"
      },
      "execution_count": 27,
      "outputs": []
    },
    {
      "cell_type": "markdown",
      "source": [
        "# Determine NextValue\n",
        "This will be the value we are attempting to learn"
      ],
      "metadata": {
        "id": "M6ikvyh2mKvw"
      }
    },
    {
      "cell_type": "code",
      "source": [
        "def findNextTime(trainsEntry, actualsEntry, timeInMinutes):\n",
        "  #print(actualsEntry.iloc[4]['speedMPH'], \" - \",trainsEntry['lastReportedPosition.speedMPH'] )\n",
        "  idx = math.trunc(timeInMinutes // 2)\n",
        "  if (idx < len(actualsEntry)):\n",
        "    return (abs(actualsEntry.iloc[idx]['speedMPH']) - abs(trainsEntry['lastReportedPosition.speedMPH']))\n",
        "  return None"
      ],
      "metadata": {
        "id": "HsFWDlcWROcp"
      },
      "execution_count": 28,
      "outputs": []
    },
    {
      "cell_type": "code",
      "source": [
        "def findNextMilepost(trainsEntry, actualsEntry, distance):\n",
        "  currMilepost = trainsEntry['lastReportedPosition.milepostLocation.milepost.milepostNumber']\n",
        "  value  = actualsEntry.loc[actualsEntry['milepostLocation.milepost.milepostNumber'] > currMilepost + distance]\n",
        "  if (len(value) > 0) :\n",
        "    return value[value['milepostLocation.milepost.milepostNumber'] == value['milepostLocation.milepost.milepostNumber'].min()]\n",
        "  value  = actualsEntry.loc[actualsEntry['milepostLocation.milepost.milepostNumber'] < currMilepost - distance]\n",
        "  if (len(value) > 0):\n",
        "    return value[value['milepostLocation.milepost.milepostNumber'] == value['milepostLocation.milepost.milepostNumber'].max()]\n",
        "  return []"
      ],
      "metadata": {
        "id": "-gfZhQNSsxeV"
      },
      "execution_count": 29,
      "outputs": []
    },
    {
      "cell_type": "code",
      "source": [
        "def findNextMilepostAtTime(trainsEntry, actualsEntry, timeInMinutes):\n",
        "  idx = math.trunc(timeInMinutes // 2)\n",
        "  if (idx < len(actualsEntry)):\n",
        "    return actualsEntry.iloc[idx]['milepostLocation.milepost.milepostNumber']\n",
        "  return None"
      ],
      "metadata": {
        "id": "V3P0NgM-zSpV"
      },
      "execution_count": 30,
      "outputs": []
    },
    {
      "cell_type": "code",
      "source": [
        "def findNextSpeed(trainsEntry, actualsEntry):\n",
        "  if (measurement.get('unit') == 'miles'):\n",
        "    nextActual = findNextMilepost(trainsEntry, actualsEntry, measurement.get('size'))\n",
        "    if (nextActual != None and len(nextActual) > 0):\n",
        "      amt = (abs(nextActual.iloc[0]['speedMPH']) - abs(trainsEntry['lastReportedPosition.speedMPH']))\n",
        "      return amt;\n",
        "  elif (measurement.get('unit') == 'minutes'):\n",
        "    return findNextTime(trainsEntry, actualsEntry, measurement.get('size'))\n",
        "  elif (measurement.get('unit') == 'milepost'):\n",
        "    return findNextMilepostAtTime(trainsEntry, actualsEntry, measurement.get('size'))\n",
        "  else:\n",
        "    raise Exception('unknown measurement', measurement.get('unit'))    \n",
        "  return None"
      ],
      "metadata": {
        "id": "i_JszmqL0MR6"
      },
      "execution_count": 31,
      "outputs": []
    },
    {
      "cell_type": "markdown",
      "source": [
        "You can peer into the mechanics of a lookup here:"
      ],
      "metadata": {
        "id": "lzq_GLI5mdDk"
      }
    },
    {
      "cell_type": "code",
      "source": [
        "idx = 3291\n",
        "showTrain(idx)\n",
        "print(\"Reported speed: \", dfTrainsLearn.iloc[idx]['lastReportedPosition.speedMPH'])\n",
        "print(\"Reported MP: \", dfTrainsLearn.iloc[idx]['lastReportedPosition.milepostLocation.milepost.milepostNumber'])\n",
        "print(\"Reported Time: \", dfTrainsLearn.iloc[idx]['lastReportedPosition.positionTime'])\n",
        "\n",
        "nextActual = findNextMilepost(dfTrainsLearn.iloc[idx], dfTrainsLearnActuals.iloc[idx], 1)\n",
        "print(\"Next Speed at MP:\",nextActual)\n",
        "nextActual = findNextTime(dfTrainsLearn.iloc[idx], dfTrainsLearnActuals.iloc[idx], 10)\n",
        "print(\"Next Speed at 10 Min:\",nextActual)\n",
        "nextActual = findNextMilepostAtTime(dfTrainsLearn.iloc[idx], dfTrainsLearnActuals.iloc[idx], 10)\n",
        "print(\"Milepost in 10 Min:\",nextActual)\n",
        "\n",
        "print(\"actual Value: \", findNextSpeed(dfTrainsLearn.iloc[idx], dfTrainsLearnActuals.iloc[idx]))\n",
        "beopJSON = dfTrainsBeop.iloc[idx]['trainEstimatedPositionList']\n",
        "if not type(beopJSON) is float and len(beopJSON) > 0:\n",
        "  beopDT = pd.json_normalize(beopJSON)\n",
        "  nextBeop = findNextMilepost(dfTrainsLearn.iloc[idx], beopDT, 1)\n",
        "  print(nextBeop)\n",
        "  type(dfTrainsBeop.iloc[idx]['trainEstimatedPositionList'])\n",
        "  print(\"beop Value: \", findNextSpeed(dfTrainsLearn.iloc[idx], beopDT))"
      ],
      "metadata": {
        "id": "F_hQFHKztIu-",
        "colab": {
          "base_uri": "https://localhost:8080/"
        },
        "outputId": "91641e27-4c61-4670-d1fa-7b8481decbe6"
      },
      "execution_count": 32,
      "outputs": [
        {
          "output_type": "stream",
          "name": "stdout",
          "text": [
            "UP2706\n",
            "MCHCB\n",
            "106\n",
            "MT 2\n",
            "320.4698\n",
            "Reported speed:  39\n",
            "Reported MP:  320.4698\n",
            "Reported Time:  2022-05-11T10:25:35Z\n",
            "Next Speed at MP:            positionTime  speedMPH  milepostLocation.subdivisionId  \\\n",
            "0  2022-05-11T10:27:35Z        38                             106   \n",
            "\n",
            "  milepostLocation.trackName  milepostLocation.milepost.milepostNumber  \n",
            "0                       MT 2                                 321.73276  \n",
            "Next Speed at 10 Min: -39\n",
            "Milepost in 10 Min: 325.6992\n",
            "actual Value:  325.699\n",
            "           positionTime  speedMPH  milepostLocation.subdivisionId  \\\n",
            "1  2022-05-11T10:27:35Z        40                             106   \n",
            "\n",
            "  milepostLocation.trackName  milepostLocation.milepost.milepostNumber  \n",
            "1                       MT 2                                 321.80084  \n",
            "beop Value:  369.28494\n"
          ]
        }
      ]
    },
    {
      "cell_type": "markdown",
      "source": [
        "Run the calulations.  This will take a moment."
      ],
      "metadata": {
        "id": "cWzMCn-tsE22"
      }
    },
    {
      "cell_type": "code",
      "source": [
        "dfTrainsLearn['nextValue'] = np.NaN\n",
        "dfTrainsLearn['beopValue'] = np.NaN\n",
        "i = 0;\n",
        "for index, trainsEntry in dfTrainsLearn.iterrows():\n",
        "  nextValue = findNextSpeed(trainsEntry, dfTrainsLearnActuals.iloc[i])\n",
        "  if (nextValue != None):\n",
        "    dfTrainsLearn.at[i,'nextValue'] = nextValue\n",
        "  beopJSON = dfTrainsBeop.iloc[i]['trainEstimatedPositionList']\n",
        "  if not type(beopJSON) is float and len(beopJSON) > 0:\n",
        "    try:\n",
        "      beopDT = pd.json_normalize(beopJSON)\n",
        "      if (measurement.get('unit') == 'miles'):\n",
        "        nextBeop = findNextMilepost(trainsEntry, beopDT, measurement.get('size'))\n",
        "      elif (measurement.get('unit') == 'minutes'):\n",
        "        nextBeop = findNextTime(trainsEntry, beopDT, measurement.get('size'))\n",
        "      elif (measurement.get('unit') == 'milepost'):\n",
        "        nextBeop = findNextMilepostAtTime(trainsEntry, beopDT, measurement.get('size'))\n",
        "      if (nextBeop != None):\n",
        "        dfTrainsLearn.at[i,'beopValue'] = nextBeop\n",
        "    except NotImplementedError:\n",
        "      print(type(beopJSON))\n",
        "    except KeyError:\n",
        "      print(beopJSON)\n",
        "  if (i % 1000 == 0):\n",
        "    print(i)\n",
        "  i = i + 1"
      ],
      "metadata": {
        "id": "fG2U-anX-jbt",
        "colab": {
          "base_uri": "https://localhost:8080/"
        },
        "outputId": "4f9c4cb9-2404-4f9a-e72c-358acb6d327d"
      },
      "execution_count": 33,
      "outputs": [
        {
          "output_type": "stream",
          "name": "stdout",
          "text": [
            "0\n",
            "1000\n",
            "2000\n",
            "3000\n",
            "4000\n",
            "5000\n",
            "6000\n",
            "7000\n",
            "8000\n",
            "9000\n",
            "10000\n",
            "11000\n",
            "12000\n",
            "13000\n",
            "14000\n",
            "15000\n",
            "16000\n",
            "17000\n",
            "18000\n",
            "19000\n",
            "20000\n",
            "21000\n",
            "22000\n",
            "23000\n",
            "24000\n",
            "25000\n",
            "26000\n",
            "27000\n",
            "28000\n",
            "29000\n"
          ]
        }
      ]
    },
    {
      "cell_type": "code",
      "source": [
        "dfTrainsLearn = dfTrainsLearn.dropna(subset=['nextValue'])\n",
        "dfTrainsLearn['nextValue'].unique()"
      ],
      "metadata": {
        "colab": {
          "base_uri": "https://localhost:8080/"
        },
        "id": "lQz8KQHM3SdN",
        "outputId": "2f3b85ef-511e-4c22-f38e-65d23986b6a0"
      },
      "execution_count": 34,
      "outputs": [
        {
          "output_type": "execute_result",
          "data": {
            "text/plain": [
              "array([232.89471, 243.68625, 257.6546 , ..., 217.01894, 207.47801, 205.17145])"
            ]
          },
          "metadata": {},
          "execution_count": 34
        }
      ]
    },
    {
      "cell_type": "code",
      "source": [
        "print(\"NextValue values histogram:\")\n",
        "dfTrainsLearn['nextValue'].hist(bins=200)"
      ],
      "metadata": {
        "id": "IOWDvvGusUBm",
        "colab": {
          "base_uri": "https://localhost:8080/",
          "height": 303
        },
        "outputId": "0b0b548c-491b-443b-a586-f0c68e423762"
      },
      "execution_count": 35,
      "outputs": [
        {
          "output_type": "stream",
          "name": "stdout",
          "text": [
            "NextValue values histogram:\n"
          ]
        },
        {
          "output_type": "execute_result",
          "data": {
            "text/plain": [
              "<matplotlib.axes._subplots.AxesSubplot at 0x7f27d3f24710>"
            ]
          },
          "metadata": {},
          "execution_count": 35
        },
        {
          "output_type": "display_data",
          "data": {
            "text/plain": [
              "<Figure size 432x288 with 1 Axes>"
            ],
            "image/png": "[encoded data removed]"
          },
          "metadata": {
            "needs_background": "light"
          }
        }
      ]
    },
    {
      "cell_type": "code",
      "source": [
        "dfTrainsLearn['beopValue'].unique()"
      ],
      "metadata": {
        "id": "bdSnFJoMWVrn",
        "colab": {
          "base_uri": "https://localhost:8080/"
        },
        "outputId": "9af34e8c-67e1-4c64-d6be-bde927d8278e"
      },
      "execution_count": 36,
      "outputs": [
        {
          "output_type": "execute_result",
          "data": {
            "text/plain": [
              "array([260.1106 ,       nan, 269.0104 , ..., 186.3567 , 176.57133, 174.76186])"
            ]
          },
          "metadata": {},
          "execution_count": 36
        }
      ]
    },
    {
      "cell_type": "code",
      "source": [
        "print(\"physics predictions histogram:\")\n",
        "dfTrainsLearn['beopValue'].hist(bins=200)"
      ],
      "metadata": {
        "id": "K7WQR074WuDQ",
        "colab": {
          "base_uri": "https://localhost:8080/",
          "height": 304
        },
        "outputId": "ce20050a-6923-4a6f-9688-3c24c98721ad"
      },
      "execution_count": 37,
      "outputs": [
        {
          "output_type": "stream",
          "name": "stdout",
          "text": [
            "physics predictions histogram:\n"
          ]
        },
        {
          "output_type": "execute_result",
          "data": {
            "text/plain": [
              "<matplotlib.axes._subplots.AxesSubplot at 0x7f274b00bd10>"
            ]
          },
          "metadata": {},
          "execution_count": 37
        },
        {
          "output_type": "display_data",
          "data": {
            "text/plain": [
              "<Figure size 432x288 with 1 Axes>"
            ],
            "image/png": "[encoded data removed]"
          },
          "metadata": {
            "needs_background": "light"
          }
        }
      ]
    },
    {
      "cell_type": "code",
      "source": [
        "dfTrainsNextBeop = dfTrainsLearn['beopValue']"
      ],
      "metadata": {
        "id": "k1sGN4n_2bDU"
      },
      "execution_count": 38,
      "outputs": []
    },
    {
      "cell_type": "markdown",
      "source": [
        "Drop some values we are not using at the moment, not needed.\n",
        "\n",
        "Note, this will disable above computations unless you resume at \"Create a learning set\""
      ],
      "metadata": {
        "id": "moXjNcMQu-3C"
      }
    },
    {
      "cell_type": "code",
      "source": [
        "dfTrainsLearn = dfTrainsLearn.drop(columns=['aotuTrainData.tenantCarrier',\n",
        "                                            'beopValue',\n",
        "                                            'positionHistoryList',\n",
        "                                            'locomotiveList',\n",
        "                                            'subdivisionList',\n",
        "                                            'trainActualPositionList',\n",
        "                                            'trainEstimatedPositionList',\n",
        "                                            'aotuTrainData.routeLocationList'])"
      ],
      "metadata": {
        "id": "hBmsqv6IuVVO"
      },
      "execution_count": 39,
      "outputs": []
    },
    {
      "cell_type": "markdown",
      "source": [
        "Burst dates into subcolumns that might prove useful"
      ],
      "metadata": {
        "id": "22_dmiSmoYyq"
      }
    },
    {
      "cell_type": "code",
      "source": [
        "tabular.core.make_date(dfTrainsLearn, 'trainId.trainDate')\n",
        "tabular.core.make_date(dfTrainsLearn, 'lastReportedPosition.positionTime')\n",
        "tabular.core.add_datepart(dfTrainsLearn, 'lastReportedPosition.positionTime')\n",
        "# tabular.core.add_elapsed_times(dfTrainsLearn, 'lastReportedPosition.positionTime')\n"
      ],
      "metadata": {
        "id": "DjTAxScsbHCN",
        "colab": {
          "base_uri": "https://localhost:8080/",
          "height": 488
        },
        "outputId": "b3eaf78b-8034-4a7b-caae-e2df31273d02"
      },
      "execution_count": 40,
      "outputs": [
        {
          "output_type": "execute_result",
          "data": {
            "text/plain": [
              "      ptcLeadLocomotiveId trainId.trainSCAC trainId.trainSection  \\\n",
              "0                  NS1007                UP                        \n",
              "1                  NS1007                UP                        \n",
              "2                  NS1007                UP                        \n",
              "3                  NS1007                UP                        \n",
              "4                  NS1007                UP                        \n",
              "...                   ...               ...                  ...   \n",
              "29762              UP7942                UP                        \n",
              "29763              UP7942                UP                        \n",
              "29764              UP7942                UP                        \n",
              "29765              UP7942                UP                        \n",
              "29766              UP7942                UP                        \n",
              "\n",
              "      trainId.trainSymbol  ...  \\\n",
              "0                   MGBNP  ...   \n",
              "1                   MGBNP  ...   \n",
              "2                   MGBNP  ...   \n",
              "3                   MGBNP  ...   \n",
              "4                   MGBNP  ...   \n",
              "...                   ...  ...   \n",
              "29762               MNPCH  ...   \n",
              "29763               MNPCH  ...   \n",
              "29764               MNPCH  ...   \n",
              "29765               MNPCH  ...   \n",
              "29766               MNPCH  ...   \n",
              "\n",
              "      lastReportedPosition.positionTimeIs_quarter_start  \\\n",
              "0                                                 False   \n",
              "1                                                 False   \n",
              "2                                                 False   \n",
              "3                                                 False   \n",
              "4                                                 False   \n",
              "...                                                 ...   \n",
              "29762                                             False   \n",
              "29763                                             False   \n",
              "29764                                             False   \n",
              "29765                                             False   \n",
              "29766                                             False   \n",
              "\n",
              "       lastReportedPosition.positionTimeIs_year_end  \\\n",
              "0                                             False   \n",
              "1                                             False   \n",
              "2                                             False   \n",
              "3                                             False   \n",
              "4                                             False   \n",
              "...                                             ...   \n",
              "29762                                         False   \n",
              "29763                                         False   \n",
              "29764                                         False   \n",
              "29765                                         False   \n",
              "29766                                         False   \n",
              "\n",
              "       lastReportedPosition.positionTimeIs_year_start  \\\n",
              "0                                               False   \n",
              "1                                               False   \n",
              "2                                               False   \n",
              "3                                               False   \n",
              "4                                               False   \n",
              "...                                               ...   \n",
              "29762                                           False   \n",
              "29763                                           False   \n",
              "29764                                           False   \n",
              "29765                                           False   \n",
              "29766                                           False   \n",
              "\n",
              "      lastReportedPosition.positionTimeElapsed  \n",
              "0                                 1.654802e+09  \n",
              "1                                 1.654803e+09  \n",
              "2                                 1.654804e+09  \n",
              "3                                 1.654805e+09  \n",
              "4                                 1.654806e+09  \n",
              "...                                        ...  \n",
              "29762                             1.654301e+09  \n",
              "29763                             1.654302e+09  \n",
              "29764                             1.654303e+09  \n",
              "29765                             1.654304e+09  \n",
              "29766                             1.654305e+09  \n",
              "\n",
              "[22510 rows x 47 columns]"
            ],
            "text/html": [
              "\n",
              "  <div id=\"df-ac56fb4c-d47f-41ac-a1b1-eaaa44342e4c\">\n",
              "    <div class=\"colab-df-container\">\n",
              "      <div>\n",
              "<style scoped>\n",
              "    .dataframe tbody tr th:only-of-type {\n",
              "        vertical-align: middle;\n",
              "    }\n",
              "\n",
              "    .dataframe tbody tr th {\n",
              "        vertical-align: top;\n",
              "    }\n",
              "\n",
              "    .dataframe thead th {\n",
              "        text-align: right;\n",
              "    }\n",
              "</style>\n",
              "<table border=\"1\" class=\"dataframe\">\n",
              "  <thead>\n",
              "    <tr style=\"text-align: right;\">\n",
              "      <th></th>\n",
              "      <th>ptcLeadLocomotiveId</th>\n",
              "      <th>trainId.trainSCAC</th>\n",
              "      <th>trainId.trainSection</th>\n",
              "      <th>trainId.trainSymbol</th>\n",
              "      <th>...</th>\n",
              "      <th>lastReportedPosition.positionTimeIs_quarter_start</th>\n",
              "      <th>lastReportedPosition.positionTimeIs_year_end</th>\n",
              "      <th>lastReportedPosition.positionTimeIs_year_start</th>\n",
              "      <th>lastReportedPosition.positionTimeElapsed</th>\n",
              "    </tr>\n",
              "  </thead>\n",
              "  <tbody>\n",
              "    <tr>\n",
              "      <th>0</th>\n",
              "      <td>NS1007</td>\n",
              "      <td>UP</td>\n",
              "      <td></td>\n",
              "      <td>MGBNP</td>\n",
              "      <td>...</td>\n",
              "      <td>False</td>\n",
              "      <td>False</td>\n",
              "      <td>False</td>\n",
              "      <td>1.654802e+09</td>\n",
              "    </tr>\n",
              "    <tr>\n",
              "      <th>1</th>\n",
              "      <td>NS1007</td>\n",
              "      <td>UP</td>\n",
              "      <td></td>\n",
              "      <td>MGBNP</td>\n",
              "      <td>...</td>\n",
              "      <td>False</td>\n",
              "      <td>False</td>\n",
              "      <td>False</td>\n",
              "      <td>1.654803e+09</td>\n",
              "    </tr>\n",
              "    <tr>\n",
              "      <th>2</th>\n",
              "      <td>NS1007</td>\n",
              "      <td>UP</td>\n",
              "      <td></td>\n",
              "      <td>MGBNP</td>\n",
              "      <td>...</td>\n",
              "      <td>False</td>\n",
              "      <td>False</td>\n",
              "      <td>False</td>\n",
              "      <td>1.654804e+09</td>\n",
              "    </tr>\n",
              "    <tr>\n",
              "      <th>3</th>\n",
              "      <td>NS1007</td>\n",
              "      <td>UP</td>\n",
              "      <td></td>\n",
              "      <td>MGBNP</td>\n",
              "      <td>...</td>\n",
              "      <td>False</td>\n",
              "      <td>False</td>\n",
              "      <td>False</td>\n",
              "      <td>1.654805e+09</td>\n",
              "    </tr>\n",
              "    <tr>\n",
              "      <th>4</th>\n",
              "      <td>NS1007</td>\n",
              "      <td>UP</td>\n",
              "      <td></td>\n",
              "      <td>MGBNP</td>\n",
              "      <td>...</td>\n",
              "      <td>False</td>\n",
              "      <td>False</td>\n",
              "      <td>False</td>\n",
              "      <td>1.654806e+09</td>\n",
              "    </tr>\n",
              "    <tr>\n",
              "      <th>...</th>\n",
              "      <td>...</td>\n",
              "      <td>...</td>\n",
              "      <td>...</td>\n",
              "      <td>...</td>\n",
              "      <td>...</td>\n",
              "      <td>...</td>\n",
              "      <td>...</td>\n",
              "      <td>...</td>\n",
              "      <td>...</td>\n",
              "    </tr>\n",
              "    <tr>\n",
              "      <th>29762</th>\n",
              "      <td>UP7942</td>\n",
              "      <td>UP</td>\n",
              "      <td></td>\n",
              "      <td>MNPCH</td>\n",
              "      <td>...</td>\n",
              "      <td>False</td>\n",
              "      <td>False</td>\n",
              "      <td>False</td>\n",
              "      <td>1.654301e+09</td>\n",
              "    </tr>\n",
              "    <tr>\n",
              "      <th>29763</th>\n",
              "      <td>UP7942</td>\n",
              "      <td>UP</td>\n",
              "      <td></td>\n",
              "      <td>MNPCH</td>\n",
              "      <td>...</td>\n",
              "      <td>False</td>\n",
              "      <td>False</td>\n",
              "      <td>False</td>\n",
              "      <td>1.654302e+09</td>\n",
              "    </tr>\n",
              "    <tr>\n",
              "      <th>29764</th>\n",
              "      <td>UP7942</td>\n",
              "      <td>UP</td>\n",
              "      <td></td>\n",
              "      <td>MNPCH</td>\n",
              "      <td>...</td>\n",
              "      <td>False</td>\n",
              "      <td>False</td>\n",
              "      <td>False</td>\n",
              "      <td>1.654303e+09</td>\n",
              "    </tr>\n",
              "    <tr>\n",
              "      <th>29765</th>\n",
              "      <td>UP7942</td>\n",
              "      <td>UP</td>\n",
              "      <td></td>\n",
              "      <td>MNPCH</td>\n",
              "      <td>...</td>\n",
              "      <td>False</td>\n",
              "      <td>False</td>\n",
              "      <td>False</td>\n",
              "      <td>1.654304e+09</td>\n",
              "    </tr>\n",
              "    <tr>\n",
              "      <th>29766</th>\n",
              "      <td>UP7942</td>\n",
              "      <td>UP</td>\n",
              "      <td></td>\n",
              "      <td>MNPCH</td>\n",
              "      <td>...</td>\n",
              "      <td>False</td>\n",
              "      <td>False</td>\n",
              "      <td>False</td>\n",
              "      <td>1.654305e+09</td>\n",
              "    </tr>\n",
              "  </tbody>\n",
              "</table>\n",
              "<p>22510 rows × 47 columns</p>\n",
              "</div>\n",
              "      <button class=\"colab-df-convert\" onclick=\"convertToInteractive('df-ac56fb4c-d47f-41ac-a1b1-eaaa44342e4c')\"\n",
              "              title=\"Convert this dataframe to an interactive table.\"\n",
              "              style=\"display:none;\">\n",
              "        \n",
              "  <svg xmlns=\"http://www.w3.org/2000/svg\" height=\"24px\"viewBox=\"0 0 24 24\"\n",
              "       width=\"24px\">\n",
              "    <path d=\"M0 0h24v24H0V0z\" fill=\"none\"/>\n",
              "    <path d=\"M18.56 5.44l.94 2.06.94-2.06 2.06-.94-2.06-.94-.94-2.06-.94 2.06-2.06.94zm-11 1L8.5 8.5l.94-2.06 2.06-.94-2.06-.94L8.5 2.5l-.94 2.06-2.06.94zm10 10l.94 2.06.94-2.06 2.06-.94-2.06-.94-.94-2.06-.94 2.06-2.06.94z\"/><path d=\"M17.41 7.96l-1.37-1.37c-.4-.4-.92-.59-1.43-.59-.52 0-1.04.2-1.43.59L10.3 9.45l-7.72 7.72c-.78.78-.78 2.05 0 2.83L4 21.41c.39.39.9.59 1.41.59.51 0 1.02-.2 1.41-.59l7.78-7.78 2.81-2.81c.8-.78.8-2.07 0-2.86zM5.41 20L4 18.59l7.72-7.72 1.47 1.35L5.41 20z\"/>\n",
              "  </svg>\n",
              "      </button>\n",
              "      \n",
              "  <style>\n",
              "    .colab-df-container {\n",
              "      display:flex;\n",
              "      flex-wrap:wrap;\n",
              "      gap: 12px;\n",
              "    }\n",
              "\n",
              "    .colab-df-convert {\n",
              "      background-color: #E8F0FE;\n",
              "      border: none;\n",
              "      border-radius: 50%;\n",
              "      cursor: pointer;\n",
              "      display: none;\n",
              "      fill: #1967D2;\n",
              "      height: 32px;\n",
              "      padding: 0 0 0 0;\n",
              "      width: 32px;\n",
              "    }\n",
              "\n",
              "    .colab-df-convert:hover {\n",
              "      background-color: #E2EBFA;\n",
              "      box-shadow: 0px 1px 2px rgba(60, 64, 67, 0.3), 0px 1px 3px 1px rgba(60, 64, 67, 0.15);\n",
              "      fill: #174EA6;\n",
              "    }\n",
              "\n",
              "    [theme=dark] .colab-df-convert {\n",
              "      background-color: #3B4455;\n",
              "      fill: #D2E3FC;\n",
              "    }\n",
              "\n",
              "    [theme=dark] .colab-df-convert:hover {\n",
              "      background-color: #434B5C;\n",
              "      box-shadow: 0px 1px 3px 1px rgba(0, 0, 0, 0.15);\n",
              "      filter: drop-shadow(0px 1px 2px rgba(0, 0, 0, 0.3));\n",
              "      fill: #FFFFFF;\n",
              "    }\n",
              "  </style>\n",
              "\n",
              "      <script>\n",
              "        const buttonEl =\n",
              "          document.querySelector('#df-ac56fb4c-d47f-41ac-a1b1-eaaa44342e4c button.colab-df-convert');\n",
              "        buttonEl.style.display =\n",
              "          google.colab.kernel.accessAllowed ? 'block' : 'none';\n",
              "\n",
              "        async function convertToInteractive(key) {\n",
              "          const element = document.querySelector('#df-ac56fb4c-d47f-41ac-a1b1-eaaa44342e4c');\n",
              "          const dataTable =\n",
              "            await google.colab.kernel.invokeFunction('convertToInteractive',\n",
              "                                                     [key], {});\n",
              "          if (!dataTable) return;\n",
              "\n",
              "          const docLinkHtml = 'Like what you see? Visit the ' +\n",
              "            '<a target=\"_blank\" href=https://colab.research.google.com/notebooks/data_table.ipynb>data table notebook</a>'\n",
              "            + ' to learn more about interactive tables.';\n",
              "          element.innerHTML = '';\n",
              "          dataTable['output_type'] = 'display_data';\n",
              "          await google.colab.output.renderOutput(dataTable, element);\n",
              "          const docLink = document.createElement('div');\n",
              "          docLink.innerHTML = docLinkHtml;\n",
              "          element.appendChild(docLink);\n",
              "        }\n",
              "      </script>\n",
              "    </div>\n",
              "  </div>\n",
              "  "
            ]
          },
          "metadata": {},
          "execution_count": 40
        }
      ]
    },
    {
      "cell_type": "code",
      "source": [
        "print(dfTrainsLearn.shape)\n",
        "print(dfTrainsLearnActuals.shape)\n",
        "\n",
        "print(dfTrainsLearn.info())\n",
        "print(dfTrainsLearn.iloc[10])"
      ],
      "metadata": {
        "id": "jTVXPBSQ2gp3",
        "colab": {
          "base_uri": "https://localhost:8080/"
        },
        "outputId": "e1e4b9ec-7019-43f7-aa01-9bdd21fbc144"
      },
      "execution_count": 41,
      "outputs": [
        {
          "output_type": "stream",
          "name": "stdout",
          "text": [
            "(22510, 47)\n",
            "(29770,)\n",
            "<class 'pandas.core.frame.DataFrame'>\n",
            "Int64Index: 22510 entries, 0 to 29766\n",
            "Data columns (total 47 columns):\n",
            " #   Column                                                         Non-Null Count  Dtype         \n",
            "---  ------                                                         --------------  -----         \n",
            " 0   ptcLeadLocomotiveId                                            22510 non-null  object        \n",
            " 1   trainId.trainSCAC                                              22510 non-null  category      \n",
            " 2   trainId.trainSection                                           22510 non-null  category      \n",
            " 3   trainId.trainSymbol                                            22510 non-null  object        \n",
            " 4   trainId.trainDate                                              22510 non-null  datetime64[ns]\n",
            " 5   lastReportedPosition.speedMPH                                  22510 non-null  int64         \n",
            " 6   lastReportedPosition.milepostLocation.subdivisionId            22510 non-null  int64         \n",
            " 7   lastReportedPosition.milepostLocation.trackName                22510 non-null  category      \n",
            " 8   lastReportedPosition.milepostLocation.milepost.milepostNumber  22510 non-null  float64       \n",
            " 9   aotuTrainData.priorityCode                                     22510 non-null  category      \n",
            " 10  aotuTrainData.categoryCode                                     22510 non-null  category      \n",
            " 11  aotuTrainData.authorityRangeCode                               22510 non-null  category      \n",
            " 12  aotuTrainData.ownershipCode                                    22510 non-null  category      \n",
            " 13  aotuTrainData.totalCarWeight                                   22510 non-null  float64       \n",
            " 14  aotuTrainData.totalCarLength                                   22510 non-null  float64       \n",
            " 15  aotuTrainData.totalLocomotiveWeight                            22510 non-null  float64       \n",
            " 16  aotuTrainData.totalLocomotiveLength                            22510 non-null  float64       \n",
            " 17  aotuTrainData.actualTonsPerAxle                                22510 non-null  float64       \n",
            " 18  aotuTrainData.heavy143TonCarCount                              22510 non-null  float64       \n",
            " 19  aotuTrainData.heavy158TonCarCount                              22510 non-null  float64       \n",
            " 20  aotuTrainData.over158TonCarCount                               22510 non-null  float64       \n",
            " 21  aotuTrainData.highWideCarCount                                 22510 non-null  float64       \n",
            " 22  aotuTrainData.eventCode                                        22510 non-null  category      \n",
            " 23  maximumTrainSpeed                                              22510 non-null  float64       \n",
            " 24  loadedCarCount                                                 22510 non-null  float64       \n",
            " 25  emptyCarCount                                                  22510 non-null  float64       \n",
            " 26  trainLength                                                    22510 non-null  float64       \n",
            " 27  trailingTonnage                                                22510 non-null  float64       \n",
            " 28  milepost                                                       22510 non-null  int64         \n",
            " 29  mpIncr                                                         22510 non-null  bool          \n",
            " 30  symbolType                                                     22510 non-null  category      \n",
            " 31  workLocations                                                  22414 non-null  object        \n",
            " 32  locomotiveCount                                                22510 non-null  int64         \n",
            " 33  nextValue                                                      22510 non-null  float64       \n",
            " 34  lastReportedPosition.positionTimeYear                          22510 non-null  int64         \n",
            " 35  lastReportedPosition.positionTimeMonth                         22510 non-null  int64         \n",
            " 36  lastReportedPosition.positionTimeWeek                          22510 non-null  int64         \n",
            " 37  lastReportedPosition.positionTimeDay                           22510 non-null  int64         \n",
            " 38  lastReportedPosition.positionTimeDayofweek                     22510 non-null  int64         \n",
            " 39  lastReportedPosition.positionTimeDayofyear                     22510 non-null  int64         \n",
            " 40  lastReportedPosition.positionTimeIs_month_end                  22510 non-null  bool          \n",
            " 41  lastReportedPosition.positionTimeIs_month_start                22510 non-null  bool          \n",
            " 42  lastReportedPosition.positionTimeIs_quarter_end                22510 non-null  bool          \n",
            " 43  lastReportedPosition.positionTimeIs_quarter_start              22510 non-null  bool          \n",
            " 44  lastReportedPosition.positionTimeIs_year_end                   22510 non-null  bool          \n",
            " 45  lastReportedPosition.positionTimeIs_year_start                 22510 non-null  bool          \n",
            " 46  lastReportedPosition.positionTimeElapsed                       22510 non-null  float64       \n",
            "dtypes: bool(7), category(9), datetime64[ns](1), float64(17), int64(10), object(3)\n",
            "memory usage: 5.8+ MB\n",
            "None\n",
            "ptcLeadLocomotiveId                                               NS1088\n",
            "trainId.trainSCAC                                                     UP\n",
            "trainId.trainSection                                                    \n",
            "trainId.trainSymbol                                                MCBDM\n",
            "trainId.trainDate                                    2022-07-06 00:00:00\n",
            "                                                            ...         \n",
            "lastReportedPosition.positionTimeIs_quarter_end                    False\n",
            "lastReportedPosition.positionTimeIs_quarter_start                  False\n",
            "lastReportedPosition.positionTimeIs_year_end                       False\n",
            "lastReportedPosition.positionTimeIs_year_start                     False\n",
            "lastReportedPosition.positionTimeElapsed                    1657151481.0\n",
            "Name: 14, Length: 47, dtype: object\n"
          ]
        }
      ]
    },
    {
      "cell_type": "markdown",
      "source": [
        "# Use Decision Tree to predict next value"
      ],
      "metadata": {
        "id": "mg1p1vouBeIB"
      }
    },
    {
      "cell_type": "code",
      "source": [
        "procs = [tabular.core.Categorify, tabular.core.FillMissing]"
      ],
      "metadata": {
        "id": "F9TApkZWbAbz"
      },
      "execution_count": 42,
      "outputs": []
    },
    {
      "cell_type": "markdown",
      "source": [
        "Breakdown the data by day of year - we will train with older data and then test the model with newer values.\n",
        "Note: this simple logic will fail at the begining of a new year!"
      ],
      "metadata": {
        "id": "yjaTPkTntR7F"
      }
    },
    {
      "cell_type": "code",
      "source": [
        "dateValues = dfTrainsLearn.groupby(['lastReportedPosition.positionTimeDayofyear'])['lastReportedPosition.positionTimeDayofyear'].count()\n",
        "print(dateValues)"
      ],
      "metadata": {
        "id": "gDgYzofcvcpM",
        "colab": {
          "base_uri": "https://localhost:8080/"
        },
        "outputId": "8d0cc498-da1b-4db4-ecdc-5e8abcc7c90c"
      },
      "execution_count": 43,
      "outputs": [
        {
          "output_type": "stream",
          "name": "stdout",
          "text": [
            "lastReportedPosition.positionTimeDayofyear\n",
            "90      50\n",
            "91     177\n",
            "92     187\n",
            "93     176\n",
            "94      94\n",
            "      ... \n",
            "183    288\n",
            "184    211\n",
            "185    211\n",
            "186    214\n",
            "187    360\n",
            "Name: lastReportedPosition.positionTimeDayofyear, Length: 97, dtype: int64\n"
          ]
        }
      ]
    },
    {
      "cell_type": "code",
      "source": [
        "print(\"We will partition this set at day of year:\", dateValues.index[math.trunc(dateValues.size * dataCutpoint)])"
      ],
      "metadata": {
        "id": "cJkyrhnpt2T2",
        "colab": {
          "base_uri": "https://localhost:8080/"
        },
        "outputId": "b13b6f2a-80fc-49d0-d206-391d58c484f0"
      },
      "execution_count": 44,
      "outputs": [
        {
          "output_type": "stream",
          "name": "stdout",
          "text": [
            "We will partition this set at day of year: 167\n"
          ]
        }
      ]
    },
    {
      "cell_type": "code",
      "source": [
        "cond = ( dfTrainsLearn['lastReportedPosition.positionTimeDayofyear'] <= dateValues.index[math.trunc(dateValues.size * dataCutpoint)] )\n",
        "trainIdx = np.where(cond)[0]\n",
        "validIdx = np.where(~cond)[0]\n",
        "splits = (list(trainIdx), list(validIdx))"
      ],
      "metadata": {
        "id": "nIURJVe5vc_n"
      },
      "execution_count": 45,
      "outputs": []
    },
    {
      "cell_type": "code",
      "source": [
        "#dep_var = 'nextSpeed'"
      ],
      "metadata": {
        "id": "rPW42wgnOLO_"
      },
      "execution_count": 46,
      "outputs": []
    },
    {
      "cell_type": "code",
      "source": [
        "cont,cat = tabular.core.cont_cat_split(dfTrainsLearn, 1, dep_var=dep_var)"
      ],
      "metadata": {
        "id": "gHDAeThzyzc6"
      },
      "execution_count": 47,
      "outputs": []
    },
    {
      "cell_type": "code",
      "source": [
        "to = tabular.core.TabularPandas(dfTrainsLearn, procs, cat, cont, y_names=dep_var, splits=splits)"
      ],
      "metadata": {
        "id": "xz1ZonvnO-I7"
      },
      "execution_count": 48,
      "outputs": []
    },
    {
      "cell_type": "code",
      "source": [
        "len(to.train),len(to.valid)"
      ],
      "metadata": {
        "id": "0DJly6_Z94uI",
        "colab": {
          "base_uri": "https://localhost:8080/"
        },
        "outputId": "d1c0893b-3909-4c88-d31f-f7ac3c9bc54c"
      },
      "execution_count": 49,
      "outputs": [
        {
          "output_type": "execute_result",
          "data": {
            "text/plain": [
              "(18149, 4361)"
            ]
          },
          "metadata": {},
          "execution_count": 49
        }
      ]
    },
    {
      "cell_type": "code",
      "source": [
        "to.show()"
      ],
      "metadata": {
        "id": "xoEQAME4-n0M",
        "colab": {
          "base_uri": "https://localhost:8080/",
          "height": 383
        },
        "outputId": "6acb014a-6f63-44b2-c82d-4c3bd7289759"
      },
      "execution_count": 50,
      "outputs": [
        {
          "output_type": "display_data",
          "data": {
            "text/plain": [
              "<IPython.core.display.HTML object>"
            ],
            "text/html": [
              "<table border=\"1\" class=\"dataframe\">\n",
              "  <thead>\n",
              "    <tr style=\"text-align: right;\">\n",
              "      <th></th>\n",
              "      <th>ptcLeadLocomotiveId</th>\n",
              "      <th>trainId.trainSCAC</th>\n",
              "      <th>trainId.trainSection</th>\n",
              "      <th>trainId.trainSymbol</th>\n",
              "      <th>trainId.trainDate</th>\n",
              "      <th>lastReportedPosition.milepostLocation.subdivisionId</th>\n",
              "      <th>lastReportedPosition.milepostLocation.trackName</th>\n",
              "      <th>aotuTrainData.priorityCode</th>\n",
              "      <th>aotuTrainData.categoryCode</th>\n",
              "      <th>aotuTrainData.authorityRangeCode</th>\n",
              "      <th>aotuTrainData.ownershipCode</th>\n",
              "      <th>aotuTrainData.eventCode</th>\n",
              "      <th>mpIncr</th>\n",
              "      <th>symbolType</th>\n",
              "      <th>workLocations</th>\n",
              "      <th>lastReportedPosition.positionTimeYear</th>\n",
              "      <th>lastReportedPosition.positionTimeIs_month_end</th>\n",
              "      <th>lastReportedPosition.positionTimeIs_month_start</th>\n",
              "      <th>lastReportedPosition.positionTimeIs_quarter_end</th>\n",
              "      <th>lastReportedPosition.positionTimeIs_quarter_start</th>\n",
              "      <th>lastReportedPosition.positionTimeIs_year_end</th>\n",
              "      <th>lastReportedPosition.positionTimeIs_year_start</th>\n",
              "      <th>lastReportedPosition.speedMPH</th>\n",
              "      <th>lastReportedPosition.milepostLocation.milepost.milepostNumber</th>\n",
              "      <th>aotuTrainData.totalCarWeight</th>\n",
              "      <th>aotuTrainData.totalCarLength</th>\n",
              "      <th>aotuTrainData.totalLocomotiveWeight</th>\n",
              "      <th>aotuTrainData.totalLocomotiveLength</th>\n",
              "      <th>aotuTrainData.actualTonsPerAxle</th>\n",
              "      <th>aotuTrainData.heavy143TonCarCount</th>\n",
              "      <th>aotuTrainData.heavy158TonCarCount</th>\n",
              "      <th>aotuTrainData.over158TonCarCount</th>\n",
              "      <th>aotuTrainData.highWideCarCount</th>\n",
              "      <th>maximumTrainSpeed</th>\n",
              "      <th>loadedCarCount</th>\n",
              "      <th>emptyCarCount</th>\n",
              "      <th>trainLength</th>\n",
              "      <th>trailingTonnage</th>\n",
              "      <th>milepost</th>\n",
              "      <th>locomotiveCount</th>\n",
              "      <th>lastReportedPosition.positionTimeMonth</th>\n",
              "      <th>lastReportedPosition.positionTimeWeek</th>\n",
              "      <th>lastReportedPosition.positionTimeDay</th>\n",
              "      <th>lastReportedPosition.positionTimeDayofweek</th>\n",
              "      <th>lastReportedPosition.positionTimeDayofyear</th>\n",
              "      <th>lastReportedPosition.positionTimeElapsed</th>\n",
              "      <th>nextValue</th>\n",
              "    </tr>\n",
              "  </thead>\n",
              "  <tbody>\n",
              "    <tr>\n",
              "      <th>0</th>\n",
              "      <td>NS1007</td>\n",
              "      <td>UP</td>\n",
              "      <td></td>\n",
              "      <td>MGBNP</td>\n",
              "      <td>2022-06-08</td>\n",
              "      <td>106</td>\n",
              "      <td>MT 1</td>\n",
              "      <td>4.0</td>\n",
              "      <td>12.0</td>\n",
              "      <td>2.0</td>\n",
              "      <td>2.0</td>\n",
              "      <td>0.0</td>\n",
              "      <td>True</td>\n",
              "      <td>M</td>\n",
              "      <td>202.20</td>\n",
              "      <td>2022</td>\n",
              "      <td>False</td>\n",
              "      <td>False</td>\n",
              "      <td>False</td>\n",
              "      <td>False</td>\n",
              "      <td>False</td>\n",
              "      <td>False</td>\n",
              "      <td>42</td>\n",
              "      <td>202.207199</td>\n",
              "      <td>143058000.0</td>\n",
              "      <td>1148000.0</td>\n",
              "      <td>8640000.0</td>\n",
              "      <td>17820.0</td>\n",
              "      <td>65535.0</td>\n",
              "      <td>0.0</td>\n",
              "      <td>0.0</td>\n",
              "      <td>0.0</td>\n",
              "      <td>0.0</td>\n",
              "      <td>60.0</td>\n",
              "      <td>102.0</td>\n",
              "      <td>0.0</td>\n",
              "      <td>9738.0</td>\n",
              "      <td>7158.0</td>\n",
              "      <td>202</td>\n",
              "      <td>2</td>\n",
              "      <td>6</td>\n",
              "      <td>23</td>\n",
              "      <td>9</td>\n",
              "      <td>3</td>\n",
              "      <td>160</td>\n",
              "      <td>1.654802e+09</td>\n",
              "      <td>232.894714</td>\n",
              "    </tr>\n",
              "    <tr>\n",
              "      <th>1</th>\n",
              "      <td>NS1007</td>\n",
              "      <td>UP</td>\n",
              "      <td></td>\n",
              "      <td>MGBNP</td>\n",
              "      <td>2022-06-08</td>\n",
              "      <td>106</td>\n",
              "      <td>MT 1</td>\n",
              "      <td>4.0</td>\n",
              "      <td>12.0</td>\n",
              "      <td>2.0</td>\n",
              "      <td>2.0</td>\n",
              "      <td>0.0</td>\n",
              "      <td>True</td>\n",
              "      <td>M</td>\n",
              "      <td>202.20</td>\n",
              "      <td>2022</td>\n",
              "      <td>False</td>\n",
              "      <td>False</td>\n",
              "      <td>False</td>\n",
              "      <td>False</td>\n",
              "      <td>False</td>\n",
              "      <td>False</td>\n",
              "      <td>0</td>\n",
              "      <td>209.870697</td>\n",
              "      <td>143058000.0</td>\n",
              "      <td>1148000.0</td>\n",
              "      <td>8640000.0</td>\n",
              "      <td>17820.0</td>\n",
              "      <td>65535.0</td>\n",
              "      <td>0.0</td>\n",
              "      <td>0.0</td>\n",
              "      <td>0.0</td>\n",
              "      <td>0.0</td>\n",
              "      <td>70.0</td>\n",
              "      <td>102.0</td>\n",
              "      <td>0.0</td>\n",
              "      <td>9738.0</td>\n",
              "      <td>7158.0</td>\n",
              "      <td>209</td>\n",
              "      <td>2</td>\n",
              "      <td>6</td>\n",
              "      <td>23</td>\n",
              "      <td>9</td>\n",
              "      <td>3</td>\n",
              "      <td>160</td>\n",
              "      <td>1.654803e+09</td>\n",
              "      <td>243.686249</td>\n",
              "    </tr>\n",
              "    <tr>\n",
              "      <th>2</th>\n",
              "      <td>NS1007</td>\n",
              "      <td>UP</td>\n",
              "      <td></td>\n",
              "      <td>MGBNP</td>\n",
              "      <td>2022-06-08</td>\n",
              "      <td>106</td>\n",
              "      <td>MT 1</td>\n",
              "      <td>4.0</td>\n",
              "      <td>12.0</td>\n",
              "      <td>2.0</td>\n",
              "      <td>2.0</td>\n",
              "      <td>0.0</td>\n",
              "      <td>True</td>\n",
              "      <td>M</td>\n",
              "      <td>202.20</td>\n",
              "      <td>2022</td>\n",
              "      <td>False</td>\n",
              "      <td>False</td>\n",
              "      <td>False</td>\n",
              "      <td>False</td>\n",
              "      <td>False</td>\n",
              "      <td>False</td>\n",
              "      <td>26</td>\n",
              "      <td>216.513000</td>\n",
              "      <td>143058000.0</td>\n",
              "      <td>1148000.0</td>\n",
              "      <td>8640000.0</td>\n",
              "      <td>17820.0</td>\n",
              "      <td>65535.0</td>\n",
              "      <td>0.0</td>\n",
              "      <td>0.0</td>\n",
              "      <td>0.0</td>\n",
              "      <td>0.0</td>\n",
              "      <td>70.0</td>\n",
              "      <td>102.0</td>\n",
              "      <td>0.0</td>\n",
              "      <td>9738.0</td>\n",
              "      <td>7158.0</td>\n",
              "      <td>216</td>\n",
              "      <td>2</td>\n",
              "      <td>6</td>\n",
              "      <td>23</td>\n",
              "      <td>9</td>\n",
              "      <td>3</td>\n",
              "      <td>160</td>\n",
              "      <td>1.654804e+09</td>\n",
              "      <td>257.654602</td>\n",
              "    </tr>\n",
              "    <tr>\n",
              "      <th>3</th>\n",
              "      <td>NS1007</td>\n",
              "      <td>UP</td>\n",
              "      <td></td>\n",
              "      <td>MGBNP</td>\n",
              "      <td>2022-06-08</td>\n",
              "      <td>106</td>\n",
              "      <td>MT 1</td>\n",
              "      <td>4.0</td>\n",
              "      <td>12.0</td>\n",
              "      <td>2.0</td>\n",
              "      <td>2.0</td>\n",
              "      <td>0.0</td>\n",
              "      <td>True</td>\n",
              "      <td>M</td>\n",
              "      <td>202.20</td>\n",
              "      <td>2022</td>\n",
              "      <td>False</td>\n",
              "      <td>False</td>\n",
              "      <td>False</td>\n",
              "      <td>False</td>\n",
              "      <td>False</td>\n",
              "      <td>False</td>\n",
              "      <td>31</td>\n",
              "      <td>224.210098</td>\n",
              "      <td>143058000.0</td>\n",
              "      <td>1148000.0</td>\n",
              "      <td>8640000.0</td>\n",
              "      <td>17820.0</td>\n",
              "      <td>65535.0</td>\n",
              "      <td>0.0</td>\n",
              "      <td>0.0</td>\n",
              "      <td>0.0</td>\n",
              "      <td>0.0</td>\n",
              "      <td>70.0</td>\n",
              "      <td>102.0</td>\n",
              "      <td>0.0</td>\n",
              "      <td>9738.0</td>\n",
              "      <td>7158.0</td>\n",
              "      <td>224</td>\n",
              "      <td>2</td>\n",
              "      <td>6</td>\n",
              "      <td>23</td>\n",
              "      <td>9</td>\n",
              "      <td>3</td>\n",
              "      <td>160</td>\n",
              "      <td>1.654806e+09</td>\n",
              "      <td>269.569092</td>\n",
              "    </tr>\n",
              "    <tr>\n",
              "      <th>4</th>\n",
              "      <td>NS1007</td>\n",
              "      <td>UP</td>\n",
              "      <td></td>\n",
              "      <td>MGBNP</td>\n",
              "      <td>2022-06-08</td>\n",
              "      <td>106</td>\n",
              "      <td>MT 1</td>\n",
              "      <td>4.0</td>\n",
              "      <td>12.0</td>\n",
              "      <td>2.0</td>\n",
              "      <td>2.0</td>\n",
              "      <td>0.0</td>\n",
              "      <td>True</td>\n",
              "      <td>M</td>\n",
              "      <td>202.20</td>\n",
              "      <td>2022</td>\n",
              "      <td>False</td>\n",
              "      <td>False</td>\n",
              "      <td>False</td>\n",
              "      <td>False</td>\n",
              "      <td>False</td>\n",
              "      <td>False</td>\n",
              "      <td>36</td>\n",
              "      <td>235.890793</td>\n",
              "      <td>143058000.0</td>\n",
              "      <td>1148000.0</td>\n",
              "      <td>8640000.0</td>\n",
              "      <td>17820.0</td>\n",
              "      <td>65535.0</td>\n",
              "      <td>0.0</td>\n",
              "      <td>0.0</td>\n",
              "      <td>0.0</td>\n",
              "      <td>0.0</td>\n",
              "      <td>70.0</td>\n",
              "      <td>102.0</td>\n",
              "      <td>0.0</td>\n",
              "      <td>9738.0</td>\n",
              "      <td>7158.0</td>\n",
              "      <td>235</td>\n",
              "      <td>2</td>\n",
              "      <td>6</td>\n",
              "      <td>23</td>\n",
              "      <td>9</td>\n",
              "      <td>3</td>\n",
              "      <td>160</td>\n",
              "      <td>1.654806e+09</td>\n",
              "      <td>283.609772</td>\n",
              "    </tr>\n",
              "    <tr>\n",
              "      <th>5</th>\n",
              "      <td>NS1007</td>\n",
              "      <td>UP</td>\n",
              "      <td></td>\n",
              "      <td>MGBNP</td>\n",
              "      <td>2022-06-08</td>\n",
              "      <td>106</td>\n",
              "      <td>MT 1</td>\n",
              "      <td>4.0</td>\n",
              "      <td>12.0</td>\n",
              "      <td>2.0</td>\n",
              "      <td>2.0</td>\n",
              "      <td>0.0</td>\n",
              "      <td>True</td>\n",
              "      <td>M</td>\n",
              "      <td>202.20</td>\n",
              "      <td>2022</td>\n",
              "      <td>False</td>\n",
              "      <td>False</td>\n",
              "      <td>False</td>\n",
              "      <td>False</td>\n",
              "      <td>False</td>\n",
              "      <td>False</td>\n",
              "      <td>62</td>\n",
              "      <td>246.540100</td>\n",
              "      <td>143058000.0</td>\n",
              "      <td>1148000.0</td>\n",
              "      <td>8640000.0</td>\n",
              "      <td>17820.0</td>\n",
              "      <td>65535.0</td>\n",
              "      <td>0.0</td>\n",
              "      <td>0.0</td>\n",
              "      <td>0.0</td>\n",
              "      <td>0.0</td>\n",
              "      <td>70.0</td>\n",
              "      <td>102.0</td>\n",
              "      <td>0.0</td>\n",
              "      <td>9738.0</td>\n",
              "      <td>7158.0</td>\n",
              "      <td>246</td>\n",
              "      <td>2</td>\n",
              "      <td>6</td>\n",
              "      <td>23</td>\n",
              "      <td>9</td>\n",
              "      <td>3</td>\n",
              "      <td>160</td>\n",
              "      <td>1.654807e+09</td>\n",
              "      <td>302.337982</td>\n",
              "    </tr>\n",
              "    <tr>\n",
              "      <th>6</th>\n",
              "      <td>NS1007</td>\n",
              "      <td>UP</td>\n",
              "      <td></td>\n",
              "      <td>MGBNP</td>\n",
              "      <td>2022-06-08</td>\n",
              "      <td>106</td>\n",
              "      <td>MT 1</td>\n",
              "      <td>4.0</td>\n",
              "      <td>12.0</td>\n",
              "      <td>2.0</td>\n",
              "      <td>2.0</td>\n",
              "      <td>0.0</td>\n",
              "      <td>True</td>\n",
              "      <td>M</td>\n",
              "      <td>202.20</td>\n",
              "      <td>2022</td>\n",
              "      <td>False</td>\n",
              "      <td>False</td>\n",
              "      <td>False</td>\n",
              "      <td>False</td>\n",
              "      <td>False</td>\n",
              "      <td>False</td>\n",
              "      <td>50</td>\n",
              "      <td>260.289795</td>\n",
              "      <td>143058000.0</td>\n",
              "      <td>1148000.0</td>\n",
              "      <td>8640000.0</td>\n",
              "      <td>17820.0</td>\n",
              "      <td>65535.0</td>\n",
              "      <td>0.0</td>\n",
              "      <td>0.0</td>\n",
              "      <td>0.0</td>\n",
              "      <td>0.0</td>\n",
              "      <td>70.0</td>\n",
              "      <td>102.0</td>\n",
              "      <td>0.0</td>\n",
              "      <td>9738.0</td>\n",
              "      <td>7158.0</td>\n",
              "      <td>260</td>\n",
              "      <td>2</td>\n",
              "      <td>6</td>\n",
              "      <td>23</td>\n",
              "      <td>9</td>\n",
              "      <td>3</td>\n",
              "      <td>160</td>\n",
              "      <td>1.654808e+09</td>\n",
              "      <td>317.759552</td>\n",
              "    </tr>\n",
              "    <tr>\n",
              "      <th>31</th>\n",
              "      <td>NS4141</td>\n",
              "      <td>UP</td>\n",
              "      <td></td>\n",
              "      <td>MGBNP</td>\n",
              "      <td>2022-06-02</td>\n",
              "      <td>106</td>\n",
              "      <td>MT 1</td>\n",
              "      <td>4.0</td>\n",
              "      <td>12.0</td>\n",
              "      <td>2.0</td>\n",
              "      <td>2.0</td>\n",
              "      <td>0.0</td>\n",
              "      <td>True</td>\n",
              "      <td>M</td>\n",
              "      <td>202.20</td>\n",
              "      <td>2022</td>\n",
              "      <td>False</td>\n",
              "      <td>False</td>\n",
              "      <td>False</td>\n",
              "      <td>False</td>\n",
              "      <td>False</td>\n",
              "      <td>False</td>\n",
              "      <td>33</td>\n",
              "      <td>202.206802</td>\n",
              "      <td>152058000.0</td>\n",
              "      <td>1193280.0</td>\n",
              "      <td>17240000.0</td>\n",
              "      <td>35220.0</td>\n",
              "      <td>65535.0</td>\n",
              "      <td>0.0</td>\n",
              "      <td>0.0</td>\n",
              "      <td>0.0</td>\n",
              "      <td>0.0</td>\n",
              "      <td>70.0</td>\n",
              "      <td>106.0</td>\n",
              "      <td>0.0</td>\n",
              "      <td>10261.0</td>\n",
              "      <td>7619.0</td>\n",
              "      <td>202</td>\n",
              "      <td>4</td>\n",
              "      <td>6</td>\n",
              "      <td>22</td>\n",
              "      <td>4</td>\n",
              "      <td>5</td>\n",
              "      <td>155</td>\n",
              "      <td>1.654303e+09</td>\n",
              "      <td>243.997238</td>\n",
              "    </tr>\n",
              "    <tr>\n",
              "      <th>32</th>\n",
              "      <td>NS4141</td>\n",
              "      <td>UP</td>\n",
              "      <td></td>\n",
              "      <td>MGBNP</td>\n",
              "      <td>2022-06-02</td>\n",
              "      <td>106</td>\n",
              "      <td>MT 1</td>\n",
              "      <td>4.0</td>\n",
              "      <td>12.0</td>\n",
              "      <td>2.0</td>\n",
              "      <td>2.0</td>\n",
              "      <td>0.0</td>\n",
              "      <td>True</td>\n",
              "      <td>M</td>\n",
              "      <td>202.20</td>\n",
              "      <td>2022</td>\n",
              "      <td>False</td>\n",
              "      <td>False</td>\n",
              "      <td>False</td>\n",
              "      <td>False</td>\n",
              "      <td>False</td>\n",
              "      <td>False</td>\n",
              "      <td>54</td>\n",
              "      <td>220.706604</td>\n",
              "      <td>152058000.0</td>\n",
              "      <td>1193280.0</td>\n",
              "      <td>17240000.0</td>\n",
              "      <td>35220.0</td>\n",
              "      <td>65535.0</td>\n",
              "      <td>0.0</td>\n",
              "      <td>0.0</td>\n",
              "      <td>0.0</td>\n",
              "      <td>0.0</td>\n",
              "      <td>70.0</td>\n",
              "      <td>106.0</td>\n",
              "      <td>0.0</td>\n",
              "      <td>10261.0</td>\n",
              "      <td>7619.0</td>\n",
              "      <td>220</td>\n",
              "      <td>4</td>\n",
              "      <td>6</td>\n",
              "      <td>22</td>\n",
              "      <td>4</td>\n",
              "      <td>5</td>\n",
              "      <td>155</td>\n",
              "      <td>1.654304e+09</td>\n",
              "      <td>260.171692</td>\n",
              "    </tr>\n",
              "    <tr>\n",
              "      <th>33</th>\n",
              "      <td>NS4141</td>\n",
              "      <td>UP</td>\n",
              "      <td></td>\n",
              "      <td>MGBNP</td>\n",
              "      <td>2022-06-02</td>\n",
              "      <td>106</td>\n",
              "      <td>MT 2</td>\n",
              "      <td>4.0</td>\n",
              "      <td>12.0</td>\n",
              "      <td>2.0</td>\n",
              "      <td>2.0</td>\n",
              "      <td>0.0</td>\n",
              "      <td>True</td>\n",
              "      <td>M</td>\n",
              "      <td>202.20</td>\n",
              "      <td>2022</td>\n",
              "      <td>False</td>\n",
              "      <td>False</td>\n",
              "      <td>False</td>\n",
              "      <td>False</td>\n",
              "      <td>False</td>\n",
              "      <td>False</td>\n",
              "      <td>39</td>\n",
              "      <td>231.671707</td>\n",
              "      <td>152058000.0</td>\n",
              "      <td>1193280.0</td>\n",
              "      <td>17240000.0</td>\n",
              "      <td>35220.0</td>\n",
              "      <td>65535.0</td>\n",
              "      <td>0.0</td>\n",
              "      <td>0.0</td>\n",
              "      <td>0.0</td>\n",
              "      <td>0.0</td>\n",
              "      <td>70.0</td>\n",
              "      <td>106.0</td>\n",
              "      <td>0.0</td>\n",
              "      <td>10261.0</td>\n",
              "      <td>7619.0</td>\n",
              "      <td>231</td>\n",
              "      <td>4</td>\n",
              "      <td>6</td>\n",
              "      <td>22</td>\n",
              "      <td>4</td>\n",
              "      <td>5</td>\n",
              "      <td>155</td>\n",
              "      <td>1.654305e+09</td>\n",
              "      <td>269.957367</td>\n",
              "    </tr>\n",
              "  </tbody>\n",
              "</table>"
            ]
          },
          "metadata": {}
        }
      ]
    },
    {
      "cell_type": "code",
      "source": [
        "fastai.save_pickle('/tmp/to.pkl',to)"
      ],
      "metadata": {
        "id": "r-D5hdO3-ypC"
      },
      "execution_count": 51,
      "outputs": []
    },
    {
      "cell_type": "markdown",
      "source": [
        "# Creating a Decision Tree"
      ],
      "metadata": {
        "id": "knWgCrX_A0Ep"
      }
    },
    {
      "cell_type": "code",
      "source": [
        "to = fastai.load_pickle('/tmp/to.pkl')"
      ],
      "metadata": {
        "id": "rtc_YDw0ArMR"
      },
      "execution_count": 52,
      "outputs": []
    },
    {
      "cell_type": "code",
      "source": [
        "xs,y = to.train.xs,to.train.y\n",
        "valid_xs,valid_y = to.valid.xs,to.valid.y"
      ],
      "metadata": {
        "id": "CcGx27DMBMbc"
      },
      "execution_count": 53,
      "outputs": []
    },
    {
      "cell_type": "code",
      "source": [
        "m = DecisionTreeRegressor(max_leaf_nodes=16)\n",
        "m.fit(xs, y);"
      ],
      "metadata": {
        "id": "clTcBmpGBXv6"
      },
      "execution_count": 54,
      "outputs": []
    },
    {
      "cell_type": "markdown",
      "source": [
        "Here is a sample of a Decision Tree with just 16 nodes:"
      ],
      "metadata": {
        "id": "YxzzayblKLsa"
      }
    },
    {
      "cell_type": "code",
      "source": [
        "fastai.draw_tree(m, xs, size=16, leaves_parallel=True, precision=2)"
      ],
      "metadata": {
        "id": "nhXNnHk7CSmF",
        "colab": {
          "base_uri": "https://localhost:8080/",
          "height": 965
        },
        "outputId": "ada84ebe-698c-492f-e8f5-04b1a08b6b7d"
      },
      "execution_count": 55,
      "outputs": [
        {
          "output_type": "execute_result",
          "data": {
            "text/plain": [
              "<graphviz.files.Source at 0x7f27d9419a90>"
            ],
            "image/svg+xml": "<?xml version=\"1.0\" encoding=\"UTF-8\" standalone=\"no\"?>\n<!DOCTYPE svg PUBLIC \"-//W3C//DTD SVG 1.1//EN\"\n \"http://www.w3.org/Graphics/SVG/1.1/DTD/svg11.dtd\">\n<!-- Generated by graphviz version 2.40.1 (20161225.0304)\n -->\n<!-- Title: Tree Pages: 1 -->\n<svg width=\"1152pt\" height=\"693pt\"\n viewBox=\"0.00 0.00 1152.00 693.03\" xmlns=\"http://www.w3.org/2000/svg\" xmlns:xlink=\"http://www.w3.org/1999/xlink\">\n<g id=\"graph0\" class=\"graph\" transform=\"scale(.3863 .3863) rotate(0) translate(4 1789.9383)\">\n<title>Tree</title>\n<polygon fill=\"#ffffff\" stroke=\"transparent\" points=\"-4,4 -4,-1789.9383 2978,-1789.9383 2978,4 -4,4\"/>\n<!-- 0 -->\n<g id=\"node1\" class=\"node\">\n<title>0</title>\n<path fill=\"#f4ccae\" stroke=\"#000000\" d=\"M1134,-1715C1134,-1715 667,-1715 667,-1715 661,-1715 655,-1709 655,-1703 655,-1703 655,-1659 655,-1659 655,-1653 661,-1647 667,-1647 667,-1647 1134,-1647 1134,-1647 1140,-1647 1146,-1653 1146,-1659 1146,-1659 1146,-1703 1146,-1703 1146,-1709 1140,-1715 1134,-1715\"/>\n<text text-anchor=\"start\" x=\"663\" y=\"-1699.8\" font-family=\"Helvetica,sans-Serif\" font-size=\"14.00\" fill=\"#000000\">lastReportedPosition.milepostLocation.milepost.milepostNumber ≤ 252.77</text>\n<text text-anchor=\"start\" x=\"820\" y=\"-1684.8\" font-family=\"Helvetica,sans-Serif\" font-size=\"14.00\" fill=\"#000000\">squared_error = 1099.84</text>\n<text text-anchor=\"start\" x=\"844.5\" y=\"-1669.8\" font-family=\"Helvetica,sans-Serif\" font-size=\"14.00\" fill=\"#000000\">samples = 18149</text>\n<text text-anchor=\"start\" x=\"852\" y=\"-1654.8\" font-family=\"Helvetica,sans-Serif\" font-size=\"14.00\" fill=\"#000000\">value = 255.67</text>\n</g>\n<!-- 1 -->\n<g id=\"node2\" class=\"node\">\n<title>1</title>\n<path fill=\"#f9e3d2\" stroke=\"#000000\" d=\"M719,-1395C719,-1395 574,-1395 574,-1395 568,-1395 562,-1389 562,-1383 562,-1383 562,-1339 562,-1339 562,-1333 568,-1327 574,-1327 574,-1327 719,-1327 719,-1327 725,-1327 731,-1333 731,-1339 731,-1339 731,-1383 731,-1383 731,-1389 725,-1395 719,-1395\"/>\n<text text-anchor=\"start\" x=\"606.5\" y=\"-1379.8\" font-family=\"Helvetica,sans-Serif\" font-size=\"14.00\" fill=\"#000000\">mpIncr ≤ 1.5</text>\n<text text-anchor=\"start\" x=\"570\" y=\"-1364.8\" font-family=\"Helvetica,sans-Serif\" font-size=\"14.00\" fill=\"#000000\">squared_error = 692.22</text>\n<text text-anchor=\"start\" x=\"594.5\" y=\"-1349.8\" font-family=\"Helvetica,sans-Serif\" font-size=\"14.00\" fill=\"#000000\">samples = 8344</text>\n<text text-anchor=\"start\" x=\"598\" y=\"-1334.8\" font-family=\"Helvetica,sans-Serif\" font-size=\"14.00\" fill=\"#000000\">value = 237.62</text>\n</g>\n<!-- 0&#45;&gt;1 -->\n<g id=\"edge1\" class=\"edge\">\n<title>0&#45;&gt;1</title>\n<path fill=\"none\" stroke=\"#000000\" d=\"M873.3176,-1646.7544C826.5576,-1587.8442 731.0279,-1467.4918 680.1471,-1403.39\"/>\n<polygon fill=\"#000000\" stroke=\"#000000\" points=\"682.8294,-1401.1396 673.8709,-1395.483 677.3466,-1405.4916 682.8294,-1401.1396\"/>\n<text text-anchor=\"middle\" x=\"671.0152\" y=\"-1416.6194\" font-family=\"Helvetica,sans-Serif\" font-size=\"14.00\" fill=\"#000000\">True</text>\n</g>\n<!-- 2 -->\n<g id=\"node15\" class=\"node\">\n<title>2</title>\n<path fill=\"#f0b88f\" stroke=\"#000000\" d=\"M1746,-1395C1746,-1395 1601,-1395 1601,-1395 1595,-1395 1589,-1389 1589,-1383 1589,-1383 1589,-1339 1589,-1339 1589,-1333 1595,-1327 1601,-1327 1601,-1327 1746,-1327 1746,-1327 1752,-1327 1758,-1333 1758,-1339 1758,-1339 1758,-1383 1758,-1383 1758,-1389 1752,-1395 1746,-1395\"/>\n<text text-anchor=\"start\" x=\"1633.5\" y=\"-1379.8\" font-family=\"Helvetica,sans-Serif\" font-size=\"14.00\" fill=\"#000000\">mpIncr ≤ 1.5</text>\n<text text-anchor=\"start\" x=\"1597\" y=\"-1364.8\" font-family=\"Helvetica,sans-Serif\" font-size=\"14.00\" fill=\"#000000\">squared_error = 933.67</text>\n<text text-anchor=\"start\" x=\"1621.5\" y=\"-1349.8\" font-family=\"Helvetica,sans-Serif\" font-size=\"14.00\" fill=\"#000000\">samples = 9805</text>\n<text text-anchor=\"start\" x=\"1625\" y=\"-1334.8\" font-family=\"Helvetica,sans-Serif\" font-size=\"14.00\" fill=\"#000000\">value = 271.02</text>\n</g>\n<!-- 0&#45;&gt;2 -->\n<g id=\"edge14\" class=\"edge\">\n<title>0&#45;&gt;2</title>\n<path fill=\"none\" stroke=\"#000000\" d=\"M982.8583,-1646.906C1128.4158,-1586.6494 1430.0715,-1461.7725 1581.9382,-1398.904\"/>\n<polygon fill=\"#000000\" stroke=\"#000000\" points=\"1583.3766,-1402.0966 1591.2774,-1395.0378 1580.6991,-1395.6289 1583.3766,-1402.0966\"/>\n<text text-anchor=\"middle\" x=\"1581.7056\" y=\"-1414.4328\" font-family=\"Helvetica,sans-Serif\" font-size=\"14.00\" fill=\"#000000\">False</text>\n</g>\n<!-- 7 -->\n<g id=\"node3\" class=\"node\">\n<title>7</title>\n<path fill=\"#ffffff\" stroke=\"#000000\" d=\"M157,-108.5C157,-108.5 12,-108.5 12,-108.5 6,-108.5 0,-102.5 0,-96.5 0,-96.5 0,-67.5 0,-67.5 0,-61.5 6,-55.5 12,-55.5 12,-55.5 157,-55.5 157,-55.5 163,-55.5 169,-61.5 169,-67.5 169,-67.5 169,-96.5 169,-96.5 169,-102.5 163,-108.5 157,-108.5\"/>\n<text text-anchor=\"start\" x=\"8\" y=\"-93.3\" font-family=\"Helvetica,sans-Serif\" font-size=\"14.00\" fill=\"#000000\">squared_error = 118.91</text>\n<text text-anchor=\"start\" x=\"32.5\" y=\"-78.3\" font-family=\"Helvetica,sans-Serif\" font-size=\"14.00\" fill=\"#000000\">samples = 1821</text>\n<text text-anchor=\"start\" x=\"36\" y=\"-63.3\" font-family=\"Helvetica,sans-Serif\" font-size=\"14.00\" fill=\"#000000\">value = 215.53</text>\n</g>\n<!-- 1&#45;&gt;7 -->\n<g id=\"edge2\" class=\"edge\">\n<title>1&#45;&gt;7</title>\n<path fill=\"none\" stroke=\"#000000\" d=\"M617.9587,-1326.6825C511.3407,-1198.487 142.5,-755 142.5,-755 142.5,-755 99.8481,-260.0904 87.6958,-119.0827\"/>\n<polygon fill=\"#000000\" stroke=\"#000000\" points=\"91.1553,-118.4602 86.8095,-108.7977 84.1811,-119.0613 91.1553,-118.4602\"/>\n</g>\n<!-- 8 -->\n<g id=\"node4\" class=\"node\">\n<title>8</title>\n<path fill=\"#f8dbc6\" stroke=\"#000000\" d=\"M770,-1075C770,-1075 523,-1075 523,-1075 517,-1075 511,-1069 511,-1063 511,-1063 511,-1019 511,-1019 511,-1013 517,-1007 523,-1007 523,-1007 770,-1007 770,-1007 776,-1007 782,-1013 782,-1019 782,-1019 782,-1063 782,-1063 782,-1069 776,-1075 770,-1075\"/>\n<text text-anchor=\"start\" x=\"519\" y=\"-1059.8\" font-family=\"Helvetica,sans-Serif\" font-size=\"14.00\" fill=\"#000000\">lastReportedPosition.speedMPH ≤ 19.5</text>\n<text text-anchor=\"start\" x=\"570\" y=\"-1044.8\" font-family=\"Helvetica,sans-Serif\" font-size=\"14.00\" fill=\"#000000\">squared_error = 678.12</text>\n<text text-anchor=\"start\" x=\"594.5\" y=\"-1029.8\" font-family=\"Helvetica,sans-Serif\" font-size=\"14.00\" fill=\"#000000\">samples = 6523</text>\n<text text-anchor=\"start\" x=\"598\" y=\"-1014.8\" font-family=\"Helvetica,sans-Serif\" font-size=\"14.00\" fill=\"#000000\">value = 243.78</text>\n</g>\n<!-- 1&#45;&gt;8 -->\n<g id=\"edge3\" class=\"edge\">\n<title>1&#45;&gt;8</title>\n<path fill=\"none\" stroke=\"#000000\" d=\"M646.5,-1326.7544C646.5,-1268.5641 646.5,-1150.424 646.5,-1085.765\"/>\n<polygon fill=\"#000000\" stroke=\"#000000\" points=\"650.0001,-1085.483 646.5,-1075.483 643.0001,-1085.4831 650.0001,-1085.483\"/>\n</g>\n<!-- 9 -->\n<g id=\"node5\" class=\"node\">\n<title>9</title>\n<path fill=\"#fcefe6\" stroke=\"#000000\" d=\"M623,-755C623,-755 164,-755 164,-755 158,-755 152,-749 152,-743 152,-743 152,-699 152,-699 152,-693 158,-687 164,-687 164,-687 623,-687 623,-687 629,-687 635,-693 635,-699 635,-699 635,-743 635,-743 635,-749 629,-755 623,-755\"/>\n<text text-anchor=\"start\" x=\"160\" y=\"-739.8\" font-family=\"Helvetica,sans-Serif\" font-size=\"14.00\" fill=\"#000000\">lastReportedPosition.milepostLocation.milepost.milepostNumber ≤ 230.6</text>\n<text text-anchor=\"start\" x=\"317\" y=\"-724.8\" font-family=\"Helvetica,sans-Serif\" font-size=\"14.00\" fill=\"#000000\">squared_error = 366.37</text>\n<text text-anchor=\"start\" x=\"341.5\" y=\"-709.8\" font-family=\"Helvetica,sans-Serif\" font-size=\"14.00\" fill=\"#000000\">samples = 3625</text>\n<text text-anchor=\"start\" x=\"345\" y=\"-694.8\" font-family=\"Helvetica,sans-Serif\" font-size=\"14.00\" fill=\"#000000\">value = 228.07</text>\n</g>\n<!-- 8&#45;&gt;9 -->\n<g id=\"edge4\" class=\"edge\">\n<title>8&#45;&gt;9</title>\n<path fill=\"none\" stroke=\"#000000\" d=\"M619.4246,-1006.7544C572.8487,-947.8442 477.6951,-827.4918 427.0146,-763.39\"/>\n<polygon fill=\"#000000\" stroke=\"#000000\" points=\"429.7108,-761.1568 420.7632,-755.483 424.2196,-765.4982 429.7108,-761.1568\"/>\n</g>\n<!-- 10 -->\n<g id=\"node10\" class=\"node\">\n<title>10</title>\n<path fill=\"#f2c29e\" stroke=\"#000000\" d=\"M1132,-755C1132,-755 665,-755 665,-755 659,-755 653,-749 653,-743 653,-743 653,-699 653,-699 653,-693 659,-687 665,-687 665,-687 1132,-687 1132,-687 1138,-687 1144,-693 1144,-699 1144,-699 1144,-743 1144,-743 1144,-749 1138,-755 1132,-755\"/>\n<text text-anchor=\"start\" x=\"661\" y=\"-739.8\" font-family=\"Helvetica,sans-Serif\" font-size=\"14.00\" fill=\"#000000\">lastReportedPosition.milepostLocation.milepost.milepostNumber ≤ 228.38</text>\n<text text-anchor=\"start\" x=\"822\" y=\"-724.8\" font-family=\"Helvetica,sans-Serif\" font-size=\"14.00\" fill=\"#000000\">squared_error = 372.92</text>\n<text text-anchor=\"start\" x=\"846.5\" y=\"-709.8\" font-family=\"Helvetica,sans-Serif\" font-size=\"14.00\" fill=\"#000000\">samples = 2898</text>\n<text text-anchor=\"start\" x=\"850\" y=\"-694.8\" font-family=\"Helvetica,sans-Serif\" font-size=\"14.00\" fill=\"#000000\">value = 263.44</text>\n</g>\n<!-- 8&#45;&gt;10 -->\n<g id=\"edge9\" class=\"edge\">\n<title>8&#45;&gt;10</title>\n<path fill=\"none\" stroke=\"#000000\" d=\"M673.4684,-1006.7544C719.8602,-947.8442 814.6377,-827.4918 865.1179,-763.39\"/>\n<polygon fill=\"#000000\" stroke=\"#000000\" points=\"867.9074,-765.5049 871.3446,-755.483 862.4079,-761.174 867.9074,-765.5049\"/>\n</g>\n<!-- 17 -->\n<g id=\"node6\" class=\"node\">\n<title>17</title>\n<path fill=\"#fdf7f3\" stroke=\"#000000\" d=\"M344,-108.5C344,-108.5 199,-108.5 199,-108.5 193,-108.5 187,-102.5 187,-96.5 187,-96.5 187,-67.5 187,-67.5 187,-61.5 193,-55.5 199,-55.5 199,-55.5 344,-55.5 344,-55.5 350,-55.5 356,-61.5 356,-67.5 356,-67.5 356,-96.5 356,-96.5 356,-102.5 350,-108.5 344,-108.5\"/>\n<text text-anchor=\"start\" x=\"195\" y=\"-93.3\" font-family=\"Helvetica,sans-Serif\" font-size=\"14.00\" fill=\"#000000\">squared_error = 235.29</text>\n<text text-anchor=\"start\" x=\"219.5\" y=\"-78.3\" font-family=\"Helvetica,sans-Serif\" font-size=\"14.00\" fill=\"#000000\">samples = 2378</text>\n<text text-anchor=\"start\" x=\"223\" y=\"-63.3\" font-family=\"Helvetica,sans-Serif\" font-size=\"14.00\" fill=\"#000000\">value = 221.72</text>\n</g>\n<!-- 9&#45;&gt;17 -->\n<g id=\"edge5\" class=\"edge\">\n<title>9&#45;&gt;17</title>\n<path fill=\"none\" stroke=\"#000000\" d=\"M384.4081,-686.7858C364.2353,-610.8722 317.5,-435 317.5,-435 317.5,-435 288.0348,-208.8865 276.2689,-118.596\"/>\n<polygon fill=\"#000000\" stroke=\"#000000\" points=\"279.7204,-117.9962 274.9575,-108.5324 272.7791,-118.9008 279.7204,-117.9962\"/>\n</g>\n<!-- 18 -->\n<g id=\"node7\" class=\"node\">\n<title>18</title>\n<path fill=\"#f8dfcd\" stroke=\"#000000\" d=\"M578,-435C578,-435 339,-435 339,-435 333,-435 327,-429 327,-423 327,-423 327,-379 327,-379 327,-373 333,-367 339,-367 339,-367 578,-367 578,-367 584,-367 590,-373 590,-379 590,-379 590,-423 590,-423 590,-429 584,-435 578,-435\"/>\n<text text-anchor=\"start\" x=\"335\" y=\"-419.8\" font-family=\"Helvetica,sans-Serif\" font-size=\"14.00\" fill=\"#000000\">lastReportedPosition.speedMPH ≤ 0.5</text>\n<text text-anchor=\"start\" x=\"382\" y=\"-404.8\" font-family=\"Helvetica,sans-Serif\" font-size=\"14.00\" fill=\"#000000\">squared_error = 392.87</text>\n<text text-anchor=\"start\" x=\"406.5\" y=\"-389.8\" font-family=\"Helvetica,sans-Serif\" font-size=\"14.00\" fill=\"#000000\">samples = 1247</text>\n<text text-anchor=\"start\" x=\"410\" y=\"-374.8\" font-family=\"Helvetica,sans-Serif\" font-size=\"14.00\" fill=\"#000000\">value = 240.18</text>\n</g>\n<!-- 9&#45;&gt;18 -->\n<g id=\"edge6\" class=\"edge\">\n<title>9&#45;&gt;18</title>\n<path fill=\"none\" stroke=\"#000000\" d=\"M400.4561,-686.7544C412.3004,-628.4441 436.3723,-509.9366 449.4882,-445.3657\"/>\n<polygon fill=\"#000000\" stroke=\"#000000\" points=\"452.9349,-445.9797 451.4956,-435.483 446.075,-444.5862 452.9349,-445.9797\"/>\n</g>\n<!-- 29 -->\n<g id=\"node8\" class=\"node\">\n<title>29</title>\n<path fill=\"#f9e2d2\" stroke=\"#000000\" d=\"M531,-108.5C531,-108.5 386,-108.5 386,-108.5 380,-108.5 374,-102.5 374,-96.5 374,-96.5 374,-67.5 374,-67.5 374,-61.5 380,-55.5 386,-55.5 386,-55.5 531,-55.5 531,-55.5 537,-55.5 543,-61.5 543,-67.5 543,-67.5 543,-96.5 543,-96.5 543,-102.5 537,-108.5 531,-108.5\"/>\n<text text-anchor=\"start\" x=\"382\" y=\"-93.3\" font-family=\"Helvetica,sans-Serif\" font-size=\"14.00\" fill=\"#000000\">squared_error = 352.85</text>\n<text text-anchor=\"start\" x=\"406.5\" y=\"-78.3\" font-family=\"Helvetica,sans-Serif\" font-size=\"14.00\" fill=\"#000000\">samples = 1146</text>\n<text text-anchor=\"start\" x=\"410\" y=\"-63.3\" font-family=\"Helvetica,sans-Serif\" font-size=\"14.00\" fill=\"#000000\">value = 238.03</text>\n</g>\n<!-- 18&#45;&gt;29 -->\n<g id=\"edge7\" class=\"edge\">\n<title>18&#45;&gt;29</title>\n<path fill=\"none\" stroke=\"#000000\" d=\"M458.5,-366.8614C458.5,-306.3896 458.5,-180.9719 458.5,-118.7106\"/>\n<polygon fill=\"#000000\" stroke=\"#000000\" points=\"462.0001,-118.5637 458.5,-108.5638 455.0001,-118.5638 462.0001,-118.5637\"/>\n</g>\n<!-- 30 -->\n<g id=\"node9\" class=\"node\">\n<title>30</title>\n<path fill=\"#f2c09c\" stroke=\"#000000\" d=\"M718,-108.5C718,-108.5 573,-108.5 573,-108.5 567,-108.5 561,-102.5 561,-96.5 561,-96.5 561,-67.5 561,-67.5 561,-61.5 567,-55.5 573,-55.5 573,-55.5 718,-55.5 718,-55.5 724,-55.5 730,-61.5 730,-67.5 730,-67.5 730,-96.5 730,-96.5 730,-102.5 724,-108.5 718,-108.5\"/>\n<text text-anchor=\"start\" x=\"569\" y=\"-93.3\" font-family=\"Helvetica,sans-Serif\" font-size=\"14.00\" fill=\"#000000\">squared_error = 198.51</text>\n<text text-anchor=\"start\" x=\"597.5\" y=\"-78.3\" font-family=\"Helvetica,sans-Serif\" font-size=\"14.00\" fill=\"#000000\">samples = 101</text>\n<text text-anchor=\"start\" x=\"597\" y=\"-63.3\" font-family=\"Helvetica,sans-Serif\" font-size=\"14.00\" fill=\"#000000\">value = 264.59</text>\n</g>\n<!-- 18&#45;&gt;30 -->\n<g id=\"edge8\" class=\"edge\">\n<title>18&#45;&gt;30</title>\n<path fill=\"none\" stroke=\"#000000\" d=\"M478.5123,-366.8614C514.181,-306.0148 588.3949,-179.4146 624.6544,-117.5601\"/>\n<polygon fill=\"#000000\" stroke=\"#000000\" points=\"627.8903,-118.9608 629.9281,-108.5638 621.8514,-115.4207 627.8903,-118.9608\"/>\n</g>\n<!-- 13 -->\n<g id=\"node11\" class=\"node\">\n<title>13</title>\n<path fill=\"#f6d2b9\" stroke=\"#000000\" d=\"M905,-108.5C905,-108.5 760,-108.5 760,-108.5 754,-108.5 748,-102.5 748,-96.5 748,-96.5 748,-67.5 748,-67.5 748,-61.5 754,-55.5 760,-55.5 760,-55.5 905,-55.5 905,-55.5 911,-55.5 917,-61.5 917,-67.5 917,-67.5 917,-96.5 917,-96.5 917,-102.5 911,-108.5 905,-108.5\"/>\n<text text-anchor=\"start\" x=\"756\" y=\"-93.3\" font-family=\"Helvetica,sans-Serif\" font-size=\"14.00\" fill=\"#000000\">squared_error = 189.11</text>\n<text text-anchor=\"start\" x=\"780.5\" y=\"-78.3\" font-family=\"Helvetica,sans-Serif\" font-size=\"14.00\" fill=\"#000000\">samples = 1405</text>\n<text text-anchor=\"start\" x=\"784\" y=\"-63.3\" font-family=\"Helvetica,sans-Serif\" font-size=\"14.00\" fill=\"#000000\">value = 250.32</text>\n</g>\n<!-- 10&#45;&gt;13 -->\n<g id=\"edge10\" class=\"edge\">\n<title>10&#45;&gt;13</title>\n<path fill=\"none\" stroke=\"#000000\" d=\"M892.8774,-686.7858C880.4021,-610.8722 851.5,-435 851.5,-435 851.5,-435 839.3296,-208.8865 834.4698,-118.596\"/>\n<polygon fill=\"#000000\" stroke=\"#000000\" points=\"837.9606,-118.3298 833.9281,-108.5324 830.9707,-118.7061 837.9606,-118.3298\"/>\n</g>\n<!-- 14 -->\n<g id=\"node12\" class=\"node\">\n<title>14</title>\n<path fill=\"#efb286\" stroke=\"#000000\" d=\"M1340,-435C1340,-435 873,-435 873,-435 867,-435 861,-429 861,-423 861,-423 861,-379 861,-379 861,-373 867,-367 873,-367 873,-367 1340,-367 1340,-367 1346,-367 1352,-373 1352,-379 1352,-379 1352,-423 1352,-423 1352,-429 1346,-435 1340,-435\"/>\n<text text-anchor=\"start\" x=\"869\" y=\"-419.8\" font-family=\"Helvetica,sans-Serif\" font-size=\"14.00\" fill=\"#000000\">lastReportedPosition.milepostLocation.milepost.milepostNumber ≤ 240.58</text>\n<text text-anchor=\"start\" x=\"1030\" y=\"-404.8\" font-family=\"Helvetica,sans-Serif\" font-size=\"14.00\" fill=\"#000000\">squared_error = 231.75</text>\n<text text-anchor=\"start\" x=\"1054.5\" y=\"-389.8\" font-family=\"Helvetica,sans-Serif\" font-size=\"14.00\" fill=\"#000000\">samples = 1493</text>\n<text text-anchor=\"start\" x=\"1058\" y=\"-374.8\" font-family=\"Helvetica,sans-Serif\" font-size=\"14.00\" fill=\"#000000\">value = 275.78</text>\n</g>\n<!-- 10&#45;&gt;14 -->\n<g id=\"edge11\" class=\"edge\">\n<title>10&#45;&gt;14</title>\n<path fill=\"none\" stroke=\"#000000\" d=\"M920.7596,-686.7544C958.8953,-628.0842 1036.6437,-508.4712 1078.4355,-444.1761\"/>\n<polygon fill=\"#000000\" stroke=\"#000000\" points=\"1081.5707,-445.775 1084.086,-435.483 1075.7015,-441.96 1081.5707,-445.775\"/>\n</g>\n<!-- 27 -->\n<g id=\"node13\" class=\"node\">\n<title>27</title>\n<path fill=\"#f1ba93\" stroke=\"#000000\" d=\"M1092,-108.5C1092,-108.5 947,-108.5 947,-108.5 941,-108.5 935,-102.5 935,-96.5 935,-96.5 935,-67.5 935,-67.5 935,-61.5 941,-55.5 947,-55.5 947,-55.5 1092,-55.5 1092,-55.5 1098,-55.5 1104,-61.5 1104,-67.5 1104,-67.5 1104,-96.5 1104,-96.5 1104,-102.5 1098,-108.5 1092,-108.5\"/>\n<text text-anchor=\"start\" x=\"943\" y=\"-93.3\" font-family=\"Helvetica,sans-Serif\" font-size=\"14.00\" fill=\"#000000\">squared_error = 157.22</text>\n<text text-anchor=\"start\" x=\"971.5\" y=\"-78.3\" font-family=\"Helvetica,sans-Serif\" font-size=\"14.00\" fill=\"#000000\">samples = 762</text>\n<text text-anchor=\"start\" x=\"971\" y=\"-63.3\" font-family=\"Helvetica,sans-Serif\" font-size=\"14.00\" fill=\"#000000\">value = 269.18</text>\n</g>\n<!-- 14&#45;&gt;27 -->\n<g id=\"edge12\" class=\"edge\">\n<title>14&#45;&gt;27</title>\n<path fill=\"none\" stroke=\"#000000\" d=\"M1097.1895,-366.8614C1080.6631,-306.2647 1046.3509,-180.4534 1029.4069,-118.3254\"/>\n<polygon fill=\"#000000\" stroke=\"#000000\" points=\"1032.7526,-117.2905 1026.7447,-108.5638 1025.9992,-119.1324 1032.7526,-117.2905\"/>\n</g>\n<!-- 28 -->\n<g id=\"node14\" class=\"node\">\n<title>28</title>\n<path fill=\"#eda978\" stroke=\"#000000\" d=\"M1279,-108.5C1279,-108.5 1134,-108.5 1134,-108.5 1128,-108.5 1122,-102.5 1122,-96.5 1122,-96.5 1122,-67.5 1122,-67.5 1122,-61.5 1128,-55.5 1134,-55.5 1134,-55.5 1279,-55.5 1279,-55.5 1285,-55.5 1291,-61.5 1291,-67.5 1291,-67.5 1291,-96.5 1291,-96.5 1291,-102.5 1285,-108.5 1279,-108.5\"/>\n<text text-anchor=\"start\" x=\"1130\" y=\"-93.3\" font-family=\"Helvetica,sans-Serif\" font-size=\"14.00\" fill=\"#000000\">squared_error = 216.77</text>\n<text text-anchor=\"start\" x=\"1158.5\" y=\"-78.3\" font-family=\"Helvetica,sans-Serif\" font-size=\"14.00\" fill=\"#000000\">samples = 731</text>\n<text text-anchor=\"start\" x=\"1158\" y=\"-63.3\" font-family=\"Helvetica,sans-Serif\" font-size=\"14.00\" fill=\"#000000\">value = 282.66</text>\n</g>\n<!-- 14&#45;&gt;28 -->\n<g id=\"edge13\" class=\"edge\">\n<title>14&#45;&gt;28</title>\n<path fill=\"none\" stroke=\"#000000\" d=\"M1117.2018,-366.8614C1136.1976,-306.2647 1175.6369,-180.4534 1195.1127,-118.3254\"/>\n<polygon fill=\"#000000\" stroke=\"#000000\" points=\"1198.5212,-119.1529 1198.1728,-108.5638 1191.8417,-117.0589 1198.5212,-119.1529\"/>\n</g>\n<!-- 3 -->\n<g id=\"node16\" class=\"node\">\n<title>3</title>\n<path fill=\"#f4cbad\" stroke=\"#000000\" d=\"M1907,-1075C1907,-1075 1440,-1075 1440,-1075 1434,-1075 1428,-1069 1428,-1063 1428,-1063 1428,-1019 1428,-1019 1428,-1013 1434,-1007 1440,-1007 1440,-1007 1907,-1007 1907,-1007 1913,-1007 1919,-1013 1919,-1019 1919,-1019 1919,-1063 1919,-1063 1919,-1069 1913,-1075 1907,-1075\"/>\n<text text-anchor=\"start\" x=\"1436\" y=\"-1059.8\" font-family=\"Helvetica,sans-Serif\" font-size=\"14.00\" fill=\"#000000\">lastReportedPosition.milepostLocation.milepost.milepostNumber ≤ 288.69</text>\n<text text-anchor=\"start\" x=\"1597\" y=\"-1044.8\" font-family=\"Helvetica,sans-Serif\" font-size=\"14.00\" fill=\"#000000\">squared_error = 516.77</text>\n<text text-anchor=\"start\" x=\"1621.5\" y=\"-1029.8\" font-family=\"Helvetica,sans-Serif\" font-size=\"14.00\" fill=\"#000000\">samples = 6079</text>\n<text text-anchor=\"start\" x=\"1625\" y=\"-1014.8\" font-family=\"Helvetica,sans-Serif\" font-size=\"14.00\" fill=\"#000000\">value = 256.17</text>\n</g>\n<!-- 2&#45;&gt;3 -->\n<g id=\"edge15\" class=\"edge\">\n<title>2&#45;&gt;3</title>\n<path fill=\"none\" stroke=\"#000000\" d=\"M1673.5,-1326.7544C1673.5,-1268.5641 1673.5,-1150.424 1673.5,-1085.765\"/>\n<polygon fill=\"#000000\" stroke=\"#000000\" points=\"1677.0001,-1085.483 1673.5,-1075.483 1670.0001,-1085.4831 1677.0001,-1085.483\"/>\n</g>\n<!-- 4 -->\n<g id=\"node23\" class=\"node\">\n<title>4</title>\n<path fill=\"#ea995e\" stroke=\"#000000\" d=\"M2448,-1075C2448,-1075 2209,-1075 2209,-1075 2203,-1075 2197,-1069 2197,-1063 2197,-1063 2197,-1019 2197,-1019 2197,-1013 2203,-1007 2209,-1007 2209,-1007 2448,-1007 2448,-1007 2454,-1007 2460,-1013 2460,-1019 2460,-1019 2460,-1063 2460,-1063 2460,-1069 2454,-1075 2448,-1075\"/>\n<text text-anchor=\"start\" x=\"2205\" y=\"-1059.8\" font-family=\"Helvetica,sans-Serif\" font-size=\"14.00\" fill=\"#000000\">lastReportedPosition.speedMPH ≤ 9.5</text>\n<text text-anchor=\"start\" x=\"2252\" y=\"-1044.8\" font-family=\"Helvetica,sans-Serif\" font-size=\"14.00\" fill=\"#000000\">squared_error = 666.95</text>\n<text text-anchor=\"start\" x=\"2276.5\" y=\"-1029.8\" font-family=\"Helvetica,sans-Serif\" font-size=\"14.00\" fill=\"#000000\">samples = 3726</text>\n<text text-anchor=\"start\" x=\"2280\" y=\"-1014.8\" font-family=\"Helvetica,sans-Serif\" font-size=\"14.00\" fill=\"#000000\">value = 295.25</text>\n</g>\n<!-- 2&#45;&gt;4 -->\n<g id=\"edge22\" class=\"edge\">\n<title>2&#45;&gt;4</title>\n<path fill=\"none\" stroke=\"#000000\" d=\"M1743.2861,-1326.906C1866.2551,-1266.8296 2120.7035,-1142.5189 2249.7572,-1079.4697\"/>\n<polygon fill=\"#000000\" stroke=\"#000000\" points=\"2251.3802,-1082.5723 2258.8289,-1075.0378 2248.3074,-1076.2827 2251.3802,-1082.5723\"/>\n</g>\n<!-- 5 -->\n<g id=\"node17\" class=\"node\">\n<title>5</title>\n<path fill=\"#f9e2d2\" stroke=\"#000000\" d=\"M1653,-755C1653,-755 1186,-755 1186,-755 1180,-755 1174,-749 1174,-743 1174,-743 1174,-699 1174,-699 1174,-693 1180,-687 1186,-687 1186,-687 1653,-687 1653,-687 1659,-687 1665,-693 1665,-699 1665,-699 1665,-743 1665,-743 1665,-749 1659,-755 1653,-755\"/>\n<text text-anchor=\"start\" x=\"1182\" y=\"-739.8\" font-family=\"Helvetica,sans-Serif\" font-size=\"14.00\" fill=\"#000000\">lastReportedPosition.milepostLocation.milepost.milepostNumber ≤ 268.97</text>\n<text text-anchor=\"start\" x=\"1343\" y=\"-724.8\" font-family=\"Helvetica,sans-Serif\" font-size=\"14.00\" fill=\"#000000\">squared_error = 211.25</text>\n<text text-anchor=\"start\" x=\"1367.5\" y=\"-709.8\" font-family=\"Helvetica,sans-Serif\" font-size=\"14.00\" fill=\"#000000\">samples = 2901</text>\n<text text-anchor=\"start\" x=\"1371\" y=\"-694.8\" font-family=\"Helvetica,sans-Serif\" font-size=\"14.00\" fill=\"#000000\">value = 238.03</text>\n</g>\n<!-- 3&#45;&gt;5 -->\n<g id=\"edge16\" class=\"edge\">\n<title>3&#45;&gt;5</title>\n<path fill=\"none\" stroke=\"#000000\" d=\"M1646.3176,-1006.7544C1599.5576,-947.8442 1504.0279,-827.4918 1453.1471,-763.39\"/>\n<polygon fill=\"#000000\" stroke=\"#000000\" points=\"1455.8294,-761.1396 1446.8709,-755.483 1450.3466,-765.4916 1455.8294,-761.1396\"/>\n</g>\n<!-- 6 -->\n<g id=\"node20\" class=\"node\">\n<title>6</title>\n<path fill=\"#f0b68c\" stroke=\"#000000\" d=\"M2162,-755C2162,-755 1695,-755 1695,-755 1689,-755 1683,-749 1683,-743 1683,-743 1683,-699 1683,-699 1683,-693 1689,-687 1695,-687 1695,-687 2162,-687 2162,-687 2168,-687 2174,-693 2174,-699 2174,-699 2174,-743 2174,-743 2174,-749 2168,-755 2162,-755\"/>\n<text text-anchor=\"start\" x=\"1691\" y=\"-739.8\" font-family=\"Helvetica,sans-Serif\" font-size=\"14.00\" fill=\"#000000\">lastReportedPosition.milepostLocation.milepost.milepostNumber ≤ 315.51</text>\n<text text-anchor=\"start\" x=\"1852\" y=\"-724.8\" font-family=\"Helvetica,sans-Serif\" font-size=\"14.00\" fill=\"#000000\">squared_error = 220.93</text>\n<text text-anchor=\"start\" x=\"1876.5\" y=\"-709.8\" font-family=\"Helvetica,sans-Serif\" font-size=\"14.00\" fill=\"#000000\">samples = 3178</text>\n<text text-anchor=\"start\" x=\"1880\" y=\"-694.8\" font-family=\"Helvetica,sans-Serif\" font-size=\"14.00\" fill=\"#000000\">value = 272.73</text>\n</g>\n<!-- 3&#45;&gt;6 -->\n<g id=\"edge19\" class=\"edge\">\n<title>3&#45;&gt;6</title>\n<path fill=\"none\" stroke=\"#000000\" d=\"M1700.7895,-1006.7544C1747.7335,-947.8442 1843.6393,-827.4918 1894.7205,-763.39\"/>\n<polygon fill=\"#000000\" stroke=\"#000000\" points=\"1897.5265,-765.4849 1901.0213,-755.483 1892.052,-761.1224 1897.5265,-765.4849\"/>\n</g>\n<!-- 21 -->\n<g id=\"node18\" class=\"node\">\n<title>21</title>\n<path fill=\"#fbede3\" stroke=\"#000000\" d=\"M1466,-108.5C1466,-108.5 1321,-108.5 1321,-108.5 1315,-108.5 1309,-102.5 1309,-96.5 1309,-96.5 1309,-67.5 1309,-67.5 1309,-61.5 1315,-55.5 1321,-55.5 1321,-55.5 1466,-55.5 1466,-55.5 1472,-55.5 1478,-61.5 1478,-67.5 1478,-67.5 1478,-96.5 1478,-96.5 1478,-102.5 1472,-108.5 1466,-108.5\"/>\n<text text-anchor=\"start\" x=\"1317\" y=\"-93.3\" font-family=\"Helvetica,sans-Serif\" font-size=\"14.00\" fill=\"#000000\">squared_error = 172.56</text>\n<text text-anchor=\"start\" x=\"1341.5\" y=\"-78.3\" font-family=\"Helvetica,sans-Serif\" font-size=\"14.00\" fill=\"#000000\">samples = 1299</text>\n<text text-anchor=\"start\" x=\"1345\" y=\"-63.3\" font-family=\"Helvetica,sans-Serif\" font-size=\"14.00\" fill=\"#000000\">value = 229.67</text>\n</g>\n<!-- 5&#45;&gt;21 -->\n<g id=\"edge17\" class=\"edge\">\n<title>5&#45;&gt;21</title>\n<path fill=\"none\" stroke=\"#000000\" d=\"M1418.1021,-686.6446C1413.6215,-576.5236 1399.6404,-232.9133 1395.008,-119.0613\"/>\n<polygon fill=\"#000000\" stroke=\"#000000\" points=\"1398.4932,-118.6256 1394.5895,-108.7762 1391.499,-118.9103 1398.4932,-118.6256\"/>\n</g>\n<!-- 22 -->\n<g id=\"node19\" class=\"node\">\n<title>22</title>\n<path fill=\"#f7d9c4\" stroke=\"#000000\" d=\"M1653,-108.5C1653,-108.5 1508,-108.5 1508,-108.5 1502,-108.5 1496,-102.5 1496,-96.5 1496,-96.5 1496,-67.5 1496,-67.5 1496,-61.5 1502,-55.5 1508,-55.5 1508,-55.5 1653,-55.5 1653,-55.5 1659,-55.5 1665,-61.5 1665,-67.5 1665,-67.5 1665,-96.5 1665,-96.5 1665,-102.5 1659,-108.5 1653,-108.5\"/>\n<text text-anchor=\"start\" x=\"1504\" y=\"-93.3\" font-family=\"Helvetica,sans-Serif\" font-size=\"14.00\" fill=\"#000000\">squared_error = 140.01</text>\n<text text-anchor=\"start\" x=\"1528.5\" y=\"-78.3\" font-family=\"Helvetica,sans-Serif\" font-size=\"14.00\" fill=\"#000000\">samples = 1602</text>\n<text text-anchor=\"start\" x=\"1532\" y=\"-63.3\" font-family=\"Helvetica,sans-Serif\" font-size=\"14.00\" fill=\"#000000\">value = 244.81</text>\n</g>\n<!-- 5&#45;&gt;22 -->\n<g id=\"edge18\" class=\"edge\">\n<title>5&#45;&gt;22</title>\n<path fill=\"none\" stroke=\"#000000\" d=\"M1428.1561,-686.6446C1455.9297,-576.4126 1542.6511,-232.2203 1571.2487,-118.7177\"/>\n<polygon fill=\"#000000\" stroke=\"#000000\" points=\"1574.7042,-119.3283 1573.7536,-108.7762 1567.9164,-117.618 1574.7042,-119.3283\"/>\n</g>\n<!-- 19 -->\n<g id=\"node21\" class=\"node\">\n<title>19</title>\n<path fill=\"#f2bf9a\" stroke=\"#000000\" d=\"M1840,-108.5C1840,-108.5 1695,-108.5 1695,-108.5 1689,-108.5 1683,-102.5 1683,-96.5 1683,-96.5 1683,-67.5 1683,-67.5 1683,-61.5 1689,-55.5 1695,-55.5 1695,-55.5 1840,-55.5 1840,-55.5 1846,-55.5 1852,-61.5 1852,-67.5 1852,-67.5 1852,-96.5 1852,-96.5 1852,-102.5 1846,-108.5 1840,-108.5\"/>\n<text text-anchor=\"start\" x=\"1691\" y=\"-93.3\" font-family=\"Helvetica,sans-Serif\" font-size=\"14.00\" fill=\"#000000\">squared_error = 154.72</text>\n<text text-anchor=\"start\" x=\"1715.5\" y=\"-78.3\" font-family=\"Helvetica,sans-Serif\" font-size=\"14.00\" fill=\"#000000\">samples = 1951</text>\n<text text-anchor=\"start\" x=\"1719\" y=\"-63.3\" font-family=\"Helvetica,sans-Serif\" font-size=\"14.00\" fill=\"#000000\">value = 265.59</text>\n</g>\n<!-- 6&#45;&gt;19 -->\n<g id=\"edge20\" class=\"edge\">\n<title>6&#45;&gt;19</title>\n<path fill=\"none\" stroke=\"#000000\" d=\"M1919.8439,-686.6446C1892.0703,-576.4126 1805.3489,-232.2203 1776.7513,-118.7177\"/>\n<polygon fill=\"#000000\" stroke=\"#000000\" points=\"1780.0836,-117.618 1774.2464,-108.7762 1773.2958,-119.3283 1780.0836,-117.618\"/>\n</g>\n<!-- 20 -->\n<g id=\"node22\" class=\"node\">\n<title>20</title>\n<path fill=\"#eda775\" stroke=\"#000000\" d=\"M2027,-108.5C2027,-108.5 1882,-108.5 1882,-108.5 1876,-108.5 1870,-102.5 1870,-96.5 1870,-96.5 1870,-67.5 1870,-67.5 1870,-61.5 1876,-55.5 1882,-55.5 1882,-55.5 2027,-55.5 2027,-55.5 2033,-55.5 2039,-61.5 2039,-67.5 2039,-67.5 2039,-96.5 2039,-96.5 2039,-102.5 2033,-108.5 2027,-108.5\"/>\n<text text-anchor=\"start\" x=\"1878\" y=\"-93.3\" font-family=\"Helvetica,sans-Serif\" font-size=\"14.00\" fill=\"#000000\">squared_error = 115.91</text>\n<text text-anchor=\"start\" x=\"1902.5\" y=\"-78.3\" font-family=\"Helvetica,sans-Serif\" font-size=\"14.00\" fill=\"#000000\">samples = 1227</text>\n<text text-anchor=\"start\" x=\"1910.5\" y=\"-63.3\" font-family=\"Helvetica,sans-Serif\" font-size=\"14.00\" fill=\"#000000\">value = 284.1</text>\n</g>\n<!-- 6&#45;&gt;20 -->\n<g id=\"edge21\" class=\"edge\">\n<title>6&#45;&gt;20</title>\n<path fill=\"none\" stroke=\"#000000\" d=\"M1929.8979,-686.6446C1934.3785,-576.5236 1948.3596,-232.9133 1952.992,-119.0613\"/>\n<polygon fill=\"#000000\" stroke=\"#000000\" points=\"1956.501,-118.9103 1953.4105,-108.7762 1949.5068,-118.6256 1956.501,-118.9103\"/>\n</g>\n<!-- 11 -->\n<g id=\"node24\" class=\"node\">\n<title>11</title>\n<path fill=\"#eead7d\" stroke=\"#000000\" d=\"M2401,-755C2401,-755 2256,-755 2256,-755 2250,-755 2244,-749 2244,-743 2244,-743 2244,-699 2244,-699 2244,-693 2250,-687 2256,-687 2256,-687 2401,-687 2401,-687 2407,-687 2413,-693 2413,-699 2413,-699 2413,-743 2413,-743 2413,-749 2407,-755 2401,-755\"/>\n<text text-anchor=\"start\" x=\"2275.5\" y=\"-739.8\" font-family=\"Helvetica,sans-Serif\" font-size=\"14.00\" fill=\"#000000\">milepost ≤ 301.5</text>\n<text text-anchor=\"start\" x=\"2252\" y=\"-724.8\" font-family=\"Helvetica,sans-Serif\" font-size=\"14.00\" fill=\"#000000\">squared_error = 727.83</text>\n<text text-anchor=\"start\" x=\"2276.5\" y=\"-709.8\" font-family=\"Helvetica,sans-Serif\" font-size=\"14.00\" fill=\"#000000\">samples = 1727</text>\n<text text-anchor=\"start\" x=\"2280\" y=\"-694.8\" font-family=\"Helvetica,sans-Serif\" font-size=\"14.00\" fill=\"#000000\">value = 279.79</text>\n</g>\n<!-- 4&#45;&gt;11 -->\n<g id=\"edge23\" class=\"edge\">\n<title>4&#45;&gt;11</title>\n<path fill=\"none\" stroke=\"#000000\" d=\"M2328.5,-1006.7544C2328.5,-948.5641 2328.5,-830.424 2328.5,-765.765\"/>\n<polygon fill=\"#000000\" stroke=\"#000000\" points=\"2332.0001,-765.483 2328.5,-755.483 2325.0001,-765.4831 2332.0001,-765.483\"/>\n</g>\n<!-- 12 -->\n<g id=\"node29\" class=\"node\">\n<title>12</title>\n<path fill=\"#e68843\" stroke=\"#000000\" d=\"M2936,-755C2936,-755 2469,-755 2469,-755 2463,-755 2457,-749 2457,-743 2457,-743 2457,-699 2457,-699 2457,-693 2463,-687 2469,-687 2469,-687 2936,-687 2936,-687 2942,-687 2948,-693 2948,-699 2948,-699 2948,-743 2948,-743 2948,-749 2942,-755 2936,-755\"/>\n<text text-anchor=\"start\" x=\"2465\" y=\"-739.8\" font-family=\"Helvetica,sans-Serif\" font-size=\"14.00\" fill=\"#000000\">lastReportedPosition.milepostLocation.milepost.milepostNumber ≤ 261.43</text>\n<text text-anchor=\"start\" x=\"2626\" y=\"-724.8\" font-family=\"Helvetica,sans-Serif\" font-size=\"14.00\" fill=\"#000000\">squared_error = 229.07</text>\n<text text-anchor=\"start\" x=\"2650.5\" y=\"-709.8\" font-family=\"Helvetica,sans-Serif\" font-size=\"14.00\" fill=\"#000000\">samples = 1999</text>\n<text text-anchor=\"start\" x=\"2654\" y=\"-694.8\" font-family=\"Helvetica,sans-Serif\" font-size=\"14.00\" fill=\"#000000\">value = 308.62</text>\n</g>\n<!-- 4&#45;&gt;12 -->\n<g id=\"edge28\" class=\"edge\">\n<title>4&#45;&gt;12</title>\n<path fill=\"none\" stroke=\"#000000\" d=\"M2368.5246,-1006.7544C2437.8874,-947.4065 2580.132,-825.6999 2654.6157,-761.9705\"/>\n<polygon fill=\"#000000\" stroke=\"#000000\" points=\"2657.1581,-764.4015 2662.481,-755.2409 2652.6072,-759.0827 2657.1581,-764.4015\"/>\n</g>\n<!-- 15 -->\n<g id=\"node25\" class=\"node\">\n<title>15</title>\n<path fill=\"#f0b890\" stroke=\"#000000\" d=\"M2475,-435C2475,-435 2008,-435 2008,-435 2002,-435 1996,-429 1996,-423 1996,-423 1996,-379 1996,-379 1996,-373 2002,-367 2008,-367 2008,-367 2475,-367 2475,-367 2481,-367 2487,-373 2487,-379 2487,-379 2487,-423 2487,-423 2487,-429 2481,-435 2475,-435\"/>\n<text text-anchor=\"start\" x=\"2004\" y=\"-419.8\" font-family=\"Helvetica,sans-Serif\" font-size=\"14.00\" fill=\"#000000\">lastReportedPosition.milepostLocation.milepost.milepostNumber ≤ 274.07</text>\n<text text-anchor=\"start\" x=\"2169\" y=\"-404.8\" font-family=\"Helvetica,sans-Serif\" font-size=\"14.00\" fill=\"#000000\">squared_error = 532.4</text>\n<text text-anchor=\"start\" x=\"2189.5\" y=\"-389.8\" font-family=\"Helvetica,sans-Serif\" font-size=\"14.00\" fill=\"#000000\">samples = 1316</text>\n<text text-anchor=\"start\" x=\"2193\" y=\"-374.8\" font-family=\"Helvetica,sans-Serif\" font-size=\"14.00\" fill=\"#000000\">value = 270.79</text>\n</g>\n<!-- 11&#45;&gt;15 -->\n<g id=\"edge24\" class=\"edge\">\n<title>11&#45;&gt;15</title>\n<path fill=\"none\" stroke=\"#000000\" d=\"M2319.1895,-686.7544C2303.3364,-628.4441 2271.1171,-509.9366 2253.5619,-445.3657\"/>\n<polygon fill=\"#000000\" stroke=\"#000000\" points=\"2256.8761,-444.2145 2250.8751,-435.483 2250.1213,-446.051 2256.8761,-444.2145\"/>\n</g>\n<!-- 16 -->\n<g id=\"node28\" class=\"node\">\n<title>16</title>\n<path fill=\"#e68843\" stroke=\"#000000\" d=\"M2588,-108.5C2588,-108.5 2443,-108.5 2443,-108.5 2437,-108.5 2431,-102.5 2431,-96.5 2431,-96.5 2431,-67.5 2431,-67.5 2431,-61.5 2437,-55.5 2443,-55.5 2443,-55.5 2588,-55.5 2588,-55.5 2594,-55.5 2600,-61.5 2600,-67.5 2600,-67.5 2600,-96.5 2600,-96.5 2600,-102.5 2594,-108.5 2588,-108.5\"/>\n<text text-anchor=\"start\" x=\"2439\" y=\"-93.3\" font-family=\"Helvetica,sans-Serif\" font-size=\"14.00\" fill=\"#000000\">squared_error = 265.87</text>\n<text text-anchor=\"start\" x=\"2467.5\" y=\"-78.3\" font-family=\"Helvetica,sans-Serif\" font-size=\"14.00\" fill=\"#000000\">samples = 411</text>\n<text text-anchor=\"start\" x=\"2467\" y=\"-63.3\" font-family=\"Helvetica,sans-Serif\" font-size=\"14.00\" fill=\"#000000\">value = 308.58</text>\n</g>\n<!-- 11&#45;&gt;16 -->\n<g id=\"edge27\" class=\"edge\">\n<title>11&#45;&gt;16</title>\n<path fill=\"none\" stroke=\"#000000\" d=\"M2348.4782,-686.7858C2392.8054,-610.8722 2495.5,-435 2495.5,-435 2495.5,-435 2508.311,-208.8865 2513.4266,-118.596\"/>\n<polygon fill=\"#000000\" stroke=\"#000000\" points=\"2516.9254,-118.7144 2513.9967,-108.5324 2509.9366,-118.3183 2516.9254,-118.7144\"/>\n</g>\n<!-- 25 -->\n<g id=\"node26\" class=\"node\">\n<title>25</title>\n<path fill=\"#f3c3a1\" stroke=\"#000000\" d=\"M2214,-108.5C2214,-108.5 2069,-108.5 2069,-108.5 2063,-108.5 2057,-102.5 2057,-96.5 2057,-96.5 2057,-67.5 2057,-67.5 2057,-61.5 2063,-55.5 2069,-55.5 2069,-55.5 2214,-55.5 2214,-55.5 2220,-55.5 2226,-61.5 2226,-67.5 2226,-67.5 2226,-96.5 2226,-96.5 2226,-102.5 2220,-108.5 2214,-108.5\"/>\n<text text-anchor=\"start\" x=\"2065\" y=\"-93.3\" font-family=\"Helvetica,sans-Serif\" font-size=\"14.00\" fill=\"#000000\">squared_error = 493.05</text>\n<text text-anchor=\"start\" x=\"2093.5\" y=\"-78.3\" font-family=\"Helvetica,sans-Serif\" font-size=\"14.00\" fill=\"#000000\">samples = 702</text>\n<text text-anchor=\"start\" x=\"2093\" y=\"-63.3\" font-family=\"Helvetica,sans-Serif\" font-size=\"14.00\" fill=\"#000000\">value = 262.07</text>\n</g>\n<!-- 15&#45;&gt;25 -->\n<g id=\"edge25\" class=\"edge\">\n<title>15&#45;&gt;25</title>\n<path fill=\"none\" stroke=\"#000000\" d=\"M2230.7982,-366.8614C2211.8024,-306.2647 2172.3631,-180.4534 2152.8873,-118.3254\"/>\n<polygon fill=\"#000000\" stroke=\"#000000\" points=\"2156.1583,-117.0589 2149.8272,-108.5638 2149.4788,-119.1529 2156.1583,-117.0589\"/>\n</g>\n<!-- 26 -->\n<g id=\"node27\" class=\"node\">\n<title>26</title>\n<path fill=\"#eeab7c\" stroke=\"#000000\" d=\"M2401,-108.5C2401,-108.5 2256,-108.5 2256,-108.5 2250,-108.5 2244,-102.5 2244,-96.5 2244,-96.5 2244,-67.5 2244,-67.5 2244,-61.5 2250,-55.5 2256,-55.5 2256,-55.5 2401,-55.5 2401,-55.5 2407,-55.5 2413,-61.5 2413,-67.5 2413,-67.5 2413,-96.5 2413,-96.5 2413,-102.5 2407,-108.5 2401,-108.5\"/>\n<text text-anchor=\"start\" x=\"2252\" y=\"-93.3\" font-family=\"Helvetica,sans-Serif\" font-size=\"14.00\" fill=\"#000000\">squared_error = 390.99</text>\n<text text-anchor=\"start\" x=\"2280.5\" y=\"-78.3\" font-family=\"Helvetica,sans-Serif\" font-size=\"14.00\" fill=\"#000000\">samples = 614</text>\n<text text-anchor=\"start\" x=\"2280\" y=\"-63.3\" font-family=\"Helvetica,sans-Serif\" font-size=\"14.00\" fill=\"#000000\">value = 280.77</text>\n</g>\n<!-- 15&#45;&gt;26 -->\n<g id=\"edge26\" class=\"edge\">\n<title>15&#45;&gt;26</title>\n<path fill=\"none\" stroke=\"#000000\" d=\"M2250.8105,-366.8614C2267.3369,-306.2647 2301.6491,-180.4534 2318.5931,-118.3254\"/>\n<polygon fill=\"#000000\" stroke=\"#000000\" points=\"2322.0008,-119.1324 2321.2553,-108.5638 2315.2474,-117.2905 2322.0008,-119.1324\"/>\n</g>\n<!-- 23 -->\n<g id=\"node30\" class=\"node\">\n<title>23</title>\n<path fill=\"#ea9a61\" stroke=\"#000000\" d=\"M2775,-108.5C2775,-108.5 2630,-108.5 2630,-108.5 2624,-108.5 2618,-102.5 2618,-96.5 2618,-96.5 2618,-67.5 2618,-67.5 2618,-61.5 2624,-55.5 2630,-55.5 2630,-55.5 2775,-55.5 2775,-55.5 2781,-55.5 2787,-61.5 2787,-67.5 2787,-67.5 2787,-96.5 2787,-96.5 2787,-102.5 2781,-108.5 2775,-108.5\"/>\n<text text-anchor=\"start\" x=\"2626\" y=\"-93.3\" font-family=\"Helvetica,sans-Serif\" font-size=\"14.00\" fill=\"#000000\">squared_error = 236.57</text>\n<text text-anchor=\"start\" x=\"2654.5\" y=\"-78.3\" font-family=\"Helvetica,sans-Serif\" font-size=\"14.00\" fill=\"#000000\">samples = 521</text>\n<text text-anchor=\"start\" x=\"2654\" y=\"-63.3\" font-family=\"Helvetica,sans-Serif\" font-size=\"14.00\" fill=\"#000000\">value = 294.04</text>\n</g>\n<!-- 12&#45;&gt;23 -->\n<g id=\"edge29\" class=\"edge\">\n<title>12&#45;&gt;23</title>\n<path fill=\"none\" stroke=\"#000000\" d=\"M2702.5,-686.6446C2702.5,-576.5236 2702.5,-232.9133 2702.5,-119.0613\"/>\n<polygon fill=\"#000000\" stroke=\"#000000\" points=\"2706.0001,-118.7762 2702.5,-108.7762 2699.0001,-118.7762 2706.0001,-118.7762\"/>\n</g>\n<!-- 24 -->\n<g id=\"node31\" class=\"node\">\n<title>24</title>\n<path fill=\"#e58139\" stroke=\"#000000\" d=\"M2962,-108.5C2962,-108.5 2817,-108.5 2817,-108.5 2811,-108.5 2805,-102.5 2805,-96.5 2805,-96.5 2805,-67.5 2805,-67.5 2805,-61.5 2811,-55.5 2817,-55.5 2817,-55.5 2962,-55.5 2962,-55.5 2968,-55.5 2974,-61.5 2974,-67.5 2974,-67.5 2974,-96.5 2974,-96.5 2974,-102.5 2968,-108.5 2962,-108.5\"/>\n<text text-anchor=\"start\" x=\"2813\" y=\"-93.3\" font-family=\"Helvetica,sans-Serif\" font-size=\"14.00\" fill=\"#000000\">squared_error = 125.12</text>\n<text text-anchor=\"start\" x=\"2837.5\" y=\"-78.3\" font-family=\"Helvetica,sans-Serif\" font-size=\"14.00\" fill=\"#000000\">samples = 1478</text>\n<text text-anchor=\"start\" x=\"2841\" y=\"-63.3\" font-family=\"Helvetica,sans-Serif\" font-size=\"14.00\" fill=\"#000000\">value = 313.76</text>\n</g>\n<!-- 12&#45;&gt;24 -->\n<g id=\"edge30\" class=\"edge\">\n<title>12&#45;&gt;24</title>\n<path fill=\"none\" stroke=\"#000000\" d=\"M2712.5539,-686.6446C2744.8452,-576.3016 2845.7417,-231.5269 2878.8549,-118.3755\"/>\n<polygon fill=\"#000000\" stroke=\"#000000\" points=\"2882.2145,-119.3567 2881.6641,-108.7762 2875.4962,-117.3906 2882.2145,-119.3567\"/>\n</g>\n</g>\n</svg>\n"
          },
          "metadata": {},
          "execution_count": 55
        }
      ]
    },
    {
      "cell_type": "code",
      "source": [
        "m = DecisionTreeRegressor(min_samples_leaf=9)\n",
        "m.fit(xs, y);"
      ],
      "metadata": {
        "id": "_wto32TJkud4"
      },
      "execution_count": 56,
      "outputs": []
    },
    {
      "cell_type": "markdown",
      "source": [
        "Root Mean Standard Error (RMSE)"
      ],
      "metadata": {
        "id": "nBAw1Qs9zrOf"
      }
    },
    {
      "cell_type": "code",
      "source": [
        "def r_mse(pred,y): return round(math.sqrt(((pred-y)**2).mean()), 6)\n",
        "def m_rmse(m, xs, y): return r_mse(m.predict(xs), y)"
      ],
      "metadata": {
        "id": "D53phc2JE5RC"
      },
      "execution_count": 57,
      "outputs": []
    },
    {
      "cell_type": "markdown",
      "source": [
        "How well we fit the training model:"
      ],
      "metadata": {
        "id": "mdZvu4cJuS9j"
      }
    },
    {
      "cell_type": "code",
      "source": [
        "trainingPreds = m.predict(xs)\n",
        "r_mse(trainingPreds, y)"
      ],
      "metadata": {
        "id": "8CYcTQHLHT4m",
        "colab": {
          "base_uri": "https://localhost:8080/"
        },
        "outputId": "3b7af17c-aa3d-4af7-e066-1a9713414e94"
      },
      "execution_count": 58,
      "outputs": [
        {
          "output_type": "execute_result",
          "data": {
            "text/plain": [
              "8.098305"
            ]
          },
          "metadata": {},
          "execution_count": 58
        }
      ]
    },
    {
      "cell_type": "markdown",
      "source": [
        "How well we fit the Validation Model:"
      ],
      "metadata": {
        "id": "MU_z9z6huZs0"
      }
    },
    {
      "cell_type": "code",
      "source": [
        "validationPreds = m.predict(valid_xs)\n",
        "r_mse(validationPreds, valid_y)"
      ],
      "metadata": {
        "id": "_oElvFDHHZHm",
        "colab": {
          "base_uri": "https://localhost:8080/"
        },
        "outputId": "746e4777-73cc-43c7-951a-bfd82bc4a540"
      },
      "execution_count": 59,
      "outputs": [
        {
          "output_type": "execute_result",
          "data": {
            "text/plain": [
              "13.549714"
            ]
          },
          "metadata": {},
          "execution_count": 59
        }
      ]
    },
    {
      "cell_type": "code",
      "source": [
        "def showPredictions(predictionsSeries, validSeries):\n",
        "  b = predictionsSeries.reset_index(drop=true)\n",
        "  y = validSeries.reset_index(drop=true)\n",
        "  \n",
        "  df  = pd.concat([b, y], axis=1)\n",
        "  df = df.dropna()\n",
        "  df = df.rename(columns={ df.columns[0]: \"prediction\", df.columns[1]: \"actual\" })\n",
        "  df['delta'] = abs(df[\"prediction\"] - df[\"actual\"])\n",
        "  print(df)\n",
        "  colors = np.where(df[\"delta\"]<=5,'y','k')\n",
        "  ax1 = df.plot.scatter(x='prediction',y='actual', c=colors)\n",
        "  print(\"RMSE: \", r_mse(df.iloc[:,0], df.iloc[:,1]))"
      ],
      "metadata": {
        "id": "a0PigmWJQz0p"
      },
      "execution_count": 152,
      "outputs": []
    },
    {
      "cell_type": "markdown",
      "source": [
        "Simple Decision Tree Predictions:"
      ],
      "metadata": {
        "id": "hH86mURdpHNM"
      }
    },
    {
      "cell_type": "code",
      "source": [
        "showPredictions(pd.DataFrame(validationPreds), valid_y)"
      ],
      "metadata": {
        "id": "KNrkUX1AhjZ-",
        "colab": {
          "base_uri": "https://localhost:8080/",
          "height": 545
        },
        "outputId": "2e1dafa9-9ef1-4db9-a5f3-b9ffd4451a9e"
      },
      "execution_count": 153,
      "outputs": [
        {
          "output_type": "stream",
          "name": "stdout",
          "text": [
            "      prediction      actual      delta\n",
            "0     283.162222  291.374603   8.212381\n",
            "1     272.500277  290.969177  18.468901\n",
            "2     261.863200  282.523590  20.660390\n",
            "3     257.050539  275.740753  18.690215\n",
            "4     243.919424  245.180847   1.261423\n",
            "...          ...         ...        ...\n",
            "4356  243.335450  236.349045   6.986405\n",
            "4357  225.554347  225.254959   0.299388\n",
            "4358  214.193428  219.881546   5.688118\n",
            "4359  218.302356  217.072906   1.229449\n",
            "4360  213.186464  206.479767   6.706697\n",
            "\n",
            "[4361 rows x 3 columns]\n",
            "RMSE:  13.549714\n"
          ]
        },
        {
          "output_type": "display_data",
          "data": {
            "text/plain": [
              "<Figure size 432x288 with 1 Axes>"
            ],
            "image/png": "[encoded data removed]"
          },
          "metadata": {
            "needs_background": "light"
          }
        }
      ]
    },
    {
      "cell_type": "code",
      "source": [
        "def rf_feat_importance(m, df):\n",
        "    return pd.DataFrame({'cols':df.columns, 'imp':m.feature_importances_}\n",
        "                       ).sort_values('imp', ascending=False)"
      ],
      "metadata": {
        "id": "oCKCSQSlab4o"
      },
      "execution_count": 154,
      "outputs": []
    },
    {
      "cell_type": "code",
      "source": [
        "fi = rf_feat_importance(m, xs)\n",
        "fi[:10]"
      ],
      "metadata": {
        "id": "jxENiQDXlYKl",
        "colab": {
          "base_uri": "https://localhost:8080/",
          "height": 363
        },
        "outputId": "facca540-0b50-4993-ff43-b851fbe531cf"
      },
      "execution_count": 155,
      "outputs": [
        {
          "output_type": "execute_result",
          "data": {
            "text/plain": [
              "                                          cols       imp\n",
              "44  lastReportedPosition.positionTimeDayofyear  0.507483\n",
              "45    lastReportedPosition.positionTimeElapsed  0.427961\n",
              "4                            trainId.trainDate  0.032463\n",
              "41       lastReportedPosition.positionTimeWeek  0.032093\n",
              "34                              loadedCarCount  0.000000\n",
              "26         aotuTrainData.totalLocomotiveWeight  0.000000\n",
              "27         aotuTrainData.totalLocomotiveLength  0.000000\n",
              "28             aotuTrainData.actualTonsPerAxle  0.000000\n",
              "29           aotuTrainData.heavy143TonCarCount  0.000000\n",
              "30           aotuTrainData.heavy158TonCarCount  0.000000"
            ],
            "text/html": [
              "\n",
              "  <div id=\"df-86b42dbb-fac4-483e-b499-45fbc80a72a5\">\n",
              "    <div class=\"colab-df-container\">\n",
              "      <div>\n",
              "<style scoped>\n",
              "    .dataframe tbody tr th:only-of-type {\n",
              "        vertical-align: middle;\n",
              "    }\n",
              "\n",
              "    .dataframe tbody tr th {\n",
              "        vertical-align: top;\n",
              "    }\n",
              "\n",
              "    .dataframe thead th {\n",
              "        text-align: right;\n",
              "    }\n",
              "</style>\n",
              "<table border=\"1\" class=\"dataframe\">\n",
              "  <thead>\n",
              "    <tr style=\"text-align: right;\">\n",
              "      <th></th>\n",
              "      <th>cols</th>\n",
              "      <th>imp</th>\n",
              "    </tr>\n",
              "  </thead>\n",
              "  <tbody>\n",
              "    <tr>\n",
              "      <th>44</th>\n",
              "      <td>lastReportedPosition.positionTimeDayofyear</td>\n",
              "      <td>0.507483</td>\n",
              "    </tr>\n",
              "    <tr>\n",
              "      <th>45</th>\n",
              "      <td>lastReportedPosition.positionTimeElapsed</td>\n",
              "      <td>0.427961</td>\n",
              "    </tr>\n",
              "    <tr>\n",
              "      <th>4</th>\n",
              "      <td>trainId.trainDate</td>\n",
              "      <td>0.032463</td>\n",
              "    </tr>\n",
              "    <tr>\n",
              "      <th>41</th>\n",
              "      <td>lastReportedPosition.positionTimeWeek</td>\n",
              "      <td>0.032093</td>\n",
              "    </tr>\n",
              "    <tr>\n",
              "      <th>34</th>\n",
              "      <td>loadedCarCount</td>\n",
              "      <td>0.000000</td>\n",
              "    </tr>\n",
              "    <tr>\n",
              "      <th>26</th>\n",
              "      <td>aotuTrainData.totalLocomotiveWeight</td>\n",
              "      <td>0.000000</td>\n",
              "    </tr>\n",
              "    <tr>\n",
              "      <th>27</th>\n",
              "      <td>aotuTrainData.totalLocomotiveLength</td>\n",
              "      <td>0.000000</td>\n",
              "    </tr>\n",
              "    <tr>\n",
              "      <th>28</th>\n",
              "      <td>aotuTrainData.actualTonsPerAxle</td>\n",
              "      <td>0.000000</td>\n",
              "    </tr>\n",
              "    <tr>\n",
              "      <th>29</th>\n",
              "      <td>aotuTrainData.heavy143TonCarCount</td>\n",
              "      <td>0.000000</td>\n",
              "    </tr>\n",
              "    <tr>\n",
              "      <th>30</th>\n",
              "      <td>aotuTrainData.heavy158TonCarCount</td>\n",
              "      <td>0.000000</td>\n",
              "    </tr>\n",
              "  </tbody>\n",
              "</table>\n",
              "</div>\n",
              "      <button class=\"colab-df-convert\" onclick=\"convertToInteractive('df-86b42dbb-fac4-483e-b499-45fbc80a72a5')\"\n",
              "              title=\"Convert this dataframe to an interactive table.\"\n",
              "              style=\"display:none;\">\n",
              "        \n",
              "  <svg xmlns=\"http://www.w3.org/2000/svg\" height=\"24px\"viewBox=\"0 0 24 24\"\n",
              "       width=\"24px\">\n",
              "    <path d=\"M0 0h24v24H0V0z\" fill=\"none\"/>\n",
              "    <path d=\"M18.56 5.44l.94 2.06.94-2.06 2.06-.94-2.06-.94-.94-2.06-.94 2.06-2.06.94zm-11 1L8.5 8.5l.94-2.06 2.06-.94-2.06-.94L8.5 2.5l-.94 2.06-2.06.94zm10 10l.94 2.06.94-2.06 2.06-.94-2.06-.94-.94-2.06-.94 2.06-2.06.94z\"/><path d=\"M17.41 7.96l-1.37-1.37c-.4-.4-.92-.59-1.43-.59-.52 0-1.04.2-1.43.59L10.3 9.45l-7.72 7.72c-.78.78-.78 2.05 0 2.83L4 21.41c.39.39.9.59 1.41.59.51 0 1.02-.2 1.41-.59l7.78-7.78 2.81-2.81c.8-.78.8-2.07 0-2.86zM5.41 20L4 18.59l7.72-7.72 1.47 1.35L5.41 20z\"/>\n",
              "  </svg>\n",
              "      </button>\n",
              "      \n",
              "  <style>\n",
              "    .colab-df-container {\n",
              "      display:flex;\n",
              "      flex-wrap:wrap;\n",
              "      gap: 12px;\n",
              "    }\n",
              "\n",
              "    .colab-df-convert {\n",
              "      background-color: #E8F0FE;\n",
              "      border: none;\n",
              "      border-radius: 50%;\n",
              "      cursor: pointer;\n",
              "      display: none;\n",
              "      fill: #1967D2;\n",
              "      height: 32px;\n",
              "      padding: 0 0 0 0;\n",
              "      width: 32px;\n",
              "    }\n",
              "\n",
              "    .colab-df-convert:hover {\n",
              "      background-color: #E2EBFA;\n",
              "      box-shadow: 0px 1px 2px rgba(60, 64, 67, 0.3), 0px 1px 3px 1px rgba(60, 64, 67, 0.15);\n",
              "      fill: #174EA6;\n",
              "    }\n",
              "\n",
              "    [theme=dark] .colab-df-convert {\n",
              "      background-color: #3B4455;\n",
              "      fill: #D2E3FC;\n",
              "    }\n",
              "\n",
              "    [theme=dark] .colab-df-convert:hover {\n",
              "      background-color: #434B5C;\n",
              "      box-shadow: 0px 1px 3px 1px rgba(0, 0, 0, 0.15);\n",
              "      filter: drop-shadow(0px 1px 2px rgba(0, 0, 0, 0.3));\n",
              "      fill: #FFFFFF;\n",
              "    }\n",
              "  </style>\n",
              "\n",
              "      <script>\n",
              "        const buttonEl =\n",
              "          document.querySelector('#df-86b42dbb-fac4-483e-b499-45fbc80a72a5 button.colab-df-convert');\n",
              "        buttonEl.style.display =\n",
              "          google.colab.kernel.accessAllowed ? 'block' : 'none';\n",
              "\n",
              "        async function convertToInteractive(key) {\n",
              "          const element = document.querySelector('#df-86b42dbb-fac4-483e-b499-45fbc80a72a5');\n",
              "          const dataTable =\n",
              "            await google.colab.kernel.invokeFunction('convertToInteractive',\n",
              "                                                     [key], {});\n",
              "          if (!dataTable) return;\n",
              "\n",
              "          const docLinkHtml = 'Like what you see? Visit the ' +\n",
              "            '<a target=\"_blank\" href=https://colab.research.google.com/notebooks/data_table.ipynb>data table notebook</a>'\n",
              "            + ' to learn more about interactive tables.';\n",
              "          element.innerHTML = '';\n",
              "          dataTable['output_type'] = 'display_data';\n",
              "          await google.colab.output.renderOutput(dataTable, element);\n",
              "          const docLink = document.createElement('div');\n",
              "          docLink.innerHTML = docLinkHtml;\n",
              "          element.appendChild(docLink);\n",
              "        }\n",
              "      </script>\n",
              "    </div>\n",
              "  </div>\n",
              "  "
            ]
          },
          "metadata": {},
          "execution_count": 155
        }
      ]
    },
    {
      "cell_type": "markdown",
      "source": [],
      "metadata": {
        "id": "GAU4iShuUTlj"
      }
    },
    {
      "cell_type": "code",
      "source": [
        "ax = xs['lastReportedPosition.speedMPH'].hist(bins=60)\n"
      ],
      "metadata": {
        "id": "W_xHGvS4mTAv",
        "colab": {
          "base_uri": "https://localhost:8080/",
          "height": 271
        },
        "outputId": "1683b7e3-907d-46f2-9587-46309af41988"
      },
      "execution_count": 156,
      "outputs": [
        {
          "output_type": "display_data",
          "data": {
            "text/plain": [
              "<Figure size 432x288 with 1 Axes>"
            ],
            "image/png": "[encoded data removed]"
          },
          "metadata": {
            "needs_background": "light"
          }
        }
      ]
    },
    {
      "cell_type": "code",
      "source": [
        "from sklearn.inspection import plot_partial_dependence\n",
        "\n",
        "fig,ax = plt.subplots(figsize=(12, 4))\n",
        "plot_partial_dependence(m, xs, ['lastReportedPosition.speedMPH'],\n",
        "                        grid_resolution=20, ax=ax);"
      ],
      "metadata": {
        "id": "dVfYTqKvniXo",
        "colab": {
          "base_uri": "https://localhost:8080/",
          "height": 377
        },
        "outputId": "fe2d663c-2acb-45ef-a9e8-032d2c73d88c"
      },
      "execution_count": 157,
      "outputs": [
        {
          "output_type": "stream",
          "name": "stderr",
          "text": [
            "/usr/local/lib/python3.7/dist-packages/sklearn/utils/deprecation.py:87: FutureWarning: Function plot_partial_dependence is deprecated; Function `plot_partial_dependence` is deprecated in 1.0 and will be removed in 1.2. Use PartialDependenceDisplay.from_estimator instead\n",
            "  warnings.warn(msg, category=FutureWarning)\n",
            "/usr/local/lib/python3.7/dist-packages/sklearn/inspection/_plot/partial_dependence.py:1110: UserWarning: Attempting to set identical bottom == top == 0.19305599999999998 results in singular transformations; automatically expanding.\n",
            "  ax.set_ylim(self.pdp_lim[1])\n"
          ]
        },
        {
          "output_type": "display_data",
          "data": {
            "text/plain": [
              "<Figure size 864x288 with 2 Axes>"
            ],
            "image/png": "[encoded data removed]"
          },
          "metadata": {
            "needs_background": "light"
          }
        }
      ]
    },
    {
      "cell_type": "markdown",
      "source": [
        "#Random Forest"
      ],
      "metadata": {
        "id": "-iGNWlJDmQrV"
      }
    },
    {
      "cell_type": "code",
      "source": [
        "def randomForest(xs, y, n_estimators=50, max_samples=10000,\n",
        "       max_features=0.7, min_samples_leaf=7, **kwargs):\n",
        "    return RandomForestRegressor(n_jobs=-1, n_estimators=n_estimators,\n",
        "        max_samples=max_samples, max_features=max_features,\n",
        "        min_samples_leaf=min_samples_leaf, oob_score=True).fit(xs, y)"
      ],
      "metadata": {
        "id": "FllkOgNkUTGW"
      },
      "execution_count": 158,
      "outputs": []
    },
    {
      "cell_type": "code",
      "source": [
        "m = randomForest(xs, y);"
      ],
      "metadata": {
        "id": "OqX5AcTWVRXE"
      },
      "execution_count": 159,
      "outputs": []
    },
    {
      "cell_type": "code",
      "source": [
        "m_rmse(m, xs, y), m_rmse(m, valid_xs, valid_y)"
      ],
      "metadata": {
        "id": "33ncywqjVcwn",
        "colab": {
          "base_uri": "https://localhost:8080/"
        },
        "outputId": "cf4fd7dc-1a1d-4f94-80af-3ce4ccf019f9"
      },
      "execution_count": 160,
      "outputs": [
        {
          "output_type": "execute_result",
          "data": {
            "text/plain": [
              "(8.562935, 10.913287)"
            ]
          },
          "metadata": {},
          "execution_count": 160
        }
      ]
    },
    {
      "cell_type": "code",
      "source": [
        "preds = np.stack([t.predict(valid_xs) for t in m.estimators_])"
      ],
      "metadata": {
        "id": "Dg6iyZCIW0Nt"
      },
      "execution_count": null,
      "outputs": []
    },
    {
      "cell_type": "markdown",
      "source": [
        "Random Forest Predictions:"
      ],
      "metadata": {
        "id": "oey4Bph2o9ww"
      }
    },
    {
      "cell_type": "code",
      "source": [
        "showPredictions(pd.DataFrame(preds.mean(0)), valid_y)\n"
      ],
      "metadata": {
        "id": "ckS6D1nEfhtm",
        "colab": {
          "base_uri": "https://localhost:8080/",
          "height": 545
        },
        "outputId": "86fe866f-0fc2-46f7-eb71-2b61421331fb"
      },
      "execution_count": 162,
      "outputs": [
        {
          "output_type": "stream",
          "name": "stdout",
          "text": [
            "      prediction      actual      delta\n",
            "0     286.736407  291.374603   4.638196\n",
            "1     275.836984  290.969177  15.132193\n",
            "2     272.934113  282.523590   9.589477\n",
            "3     256.293601  275.740753  19.447152\n",
            "4     244.463193  245.180847   0.717654\n",
            "...          ...         ...        ...\n",
            "4356  239.217959  236.349045   2.868914\n",
            "4357  227.367849  225.254959   2.112889\n",
            "4358  226.039653  219.881546   6.158107\n",
            "4359  218.258803  217.072906   1.185897\n",
            "4360  213.957672  206.479767   7.477905\n",
            "\n",
            "[4361 rows x 3 columns]\n",
            "RMSE:  10.913287\n"
          ]
        },
        {
          "output_type": "display_data",
          "data": {
            "text/plain": [
              "<Figure size 432x288 with 1 Axes>"
            ],
            "image/png": "[encoded data removed]"
          },
          "metadata": {
            "needs_background": "light"
          }
        }
      ]
    },
    {
      "cell_type": "code",
      "source": [
        "plt.plot([r_mse(preds[:i+1].mean(0), valid_y) for i in range(50)]);"
      ],
      "metadata": {
        "id": "eT0fXh6uXIp1",
        "colab": {
          "base_uri": "https://localhost:8080/",
          "height": 268
        },
        "outputId": "c505598b-7ad9-461f-e66e-1fb938480627"
      },
      "execution_count": 163,
      "outputs": [
        {
          "output_type": "display_data",
          "data": {
            "text/plain": [
              "<Figure size 432x288 with 1 Axes>"
            ],
            "image/png": "[encoded data removed]"
          },
          "metadata": {
            "needs_background": "light"
          }
        }
      ]
    },
    {
      "cell_type": "markdown",
      "source": [
        "#Further Technical Inspections\n",
        "Some checks for out-of-bag errors, etc."
      ],
      "metadata": {
        "id": "GN-VS3_2YsOd"
      }
    },
    {
      "cell_type": "markdown",
      "source": [
        "- How confident are we in our predictions using a particular row of data?\n",
        "- For predicting with a particular row of data, what were the most important factors, and how did they influence that prediction?\n",
        "- Which columns are the strongest predictors, which can we ignore?\n",
        "- Which columns are effectively redundant with each other, for purposes of prediction?\n",
        "- How do predictions vary, as we vary these columns?\n"
      ],
      "metadata": {
        "id": "-jSxQWTZZDfx"
      }
    },
    {
      "cell_type": "code",
      "source": [
        "r_mse(m.oob_prediction_, y)"
      ],
      "metadata": {
        "id": "tvwS19-6Yc20",
        "colab": {
          "base_uri": "https://localhost:8080/"
        },
        "outputId": "372e001b-2035-47ca-f438-347e3af07f68"
      },
      "execution_count": 164,
      "outputs": [
        {
          "output_type": "execute_result",
          "data": {
            "text/plain": [
              "10.429378"
            ]
          },
          "metadata": {},
          "execution_count": 164
        }
      ]
    },
    {
      "cell_type": "code",
      "source": [
        "preds = np.stack([t.predict(valid_xs) for t in m.estimators_])"
      ],
      "metadata": {
        "id": "eS53q1RUZRva"
      },
      "execution_count": null,
      "outputs": []
    },
    {
      "cell_type": "code",
      "source": [
        "preds.shape"
      ],
      "metadata": {
        "id": "quArhZFkZtq_",
        "colab": {
          "base_uri": "https://localhost:8080/"
        },
        "outputId": "d2aaa4c4-d755-4795-de40-2b89fcd3381c"
      },
      "execution_count": 166,
      "outputs": [
        {
          "output_type": "execute_result",
          "data": {
            "text/plain": [
              "(50, 4361)"
            ]
          },
          "metadata": {},
          "execution_count": 166
        }
      ]
    },
    {
      "cell_type": "markdown",
      "source": [
        "We can get the standard deviation of the predictions over all the trees, for each train:"
      ],
      "metadata": {
        "id": "ZpBA_gVB2Xhx"
      }
    },
    {
      "cell_type": "code",
      "source": [
        "preds_std = preds.std(0)"
      ],
      "metadata": {
        "id": "xZCBhV9MZxSH"
      },
      "execution_count": 167,
      "outputs": []
    },
    {
      "cell_type": "markdown",
      "source": [
        "Standard Deviation for the predictions of the first 5 trains:\n"
      ],
      "metadata": {
        "id": "KQNvNZOp13k3"
      }
    },
    {
      "cell_type": "code",
      "source": [
        "preds_std[:5]"
      ],
      "metadata": {
        "id": "ZvKvldDdZ44S",
        "colab": {
          "base_uri": "https://localhost:8080/"
        },
        "outputId": "2e40dba0-cb2f-442a-c61b-04b968dae9a2"
      },
      "execution_count": 168,
      "outputs": [
        {
          "output_type": "execute_result",
          "data": {
            "text/plain": [
              "array([5.8434044 , 6.0019739 , 7.54371831, 4.33381984, 8.14411171])"
            ]
          },
          "metadata": {},
          "execution_count": 168
        }
      ]
    },
    {
      "cell_type": "markdown",
      "source": [
        "# FEATURE Importance"
      ],
      "metadata": {
        "id": "tkENwKVIaPXc"
      }
    },
    {
      "cell_type": "code",
      "source": [
        "fi = rf_feat_importance(m, xs)\n",
        "fi[:20]"
      ],
      "metadata": {
        "id": "_xddcBHXaj9O",
        "colab": {
          "base_uri": "https://localhost:8080/",
          "height": 677
        },
        "outputId": "012683fb-da56-40d4-d34b-c096b22294db"
      },
      "execution_count": 169,
      "outputs": [
        {
          "output_type": "execute_result",
          "data": {
            "text/plain": [
              "                                                             cols       imp\n",
              "23  lastReportedPosition.milepostLocation.milepost.milepostNumber  0.411641\n",
              "12                                                         mpIncr  0.266577\n",
              "22                                  lastReportedPosition.speedMPH  0.136668\n",
              "38                                                       milepost  0.091239\n",
              "3                                             trainId.trainSymbol  0.016261\n",
              "14                                                  workLocations  0.010976\n",
              "35                                                  emptyCarCount  0.004833\n",
              "6                 lastReportedPosition.milepostLocation.trackName  0.004513\n",
              "24                                   aotuTrainData.totalCarWeight  0.004400\n",
              "33                                              maximumTrainSpeed  0.004256\n",
              "34                                                 loadedCarCount  0.004210\n",
              "37                                                trailingTonnage  0.004023\n",
              "0                                             ptcLeadLocomotiveId  0.004003\n",
              "36                                                    trainLength  0.003843\n",
              "25                                   aotuTrainData.totalCarLength  0.003684\n",
              "42                           lastReportedPosition.positionTimeDay  0.003674\n",
              "45                       lastReportedPosition.positionTimeElapsed  0.003517\n",
              "7                                      aotuTrainData.priorityCode  0.003288\n",
              "26                            aotuTrainData.totalLocomotiveWeight  0.002895\n",
              "13                                                     symbolType  0.002376"
            ],
            "text/html": [
              "\n",
              "  <div id=\"df-20c1058b-076b-4dc0-865c-c6fe8cce1d23\">\n",
              "    <div class=\"colab-df-container\">\n",
              "      <div>\n",
              "<style scoped>\n",
              "    .dataframe tbody tr th:only-of-type {\n",
              "        vertical-align: middle;\n",
              "    }\n",
              "\n",
              "    .dataframe tbody tr th {\n",
              "        vertical-align: top;\n",
              "    }\n",
              "\n",
              "    .dataframe thead th {\n",
              "        text-align: right;\n",
              "    }\n",
              "</style>\n",
              "<table border=\"1\" class=\"dataframe\">\n",
              "  <thead>\n",
              "    <tr style=\"text-align: right;\">\n",
              "      <th></th>\n",
              "      <th>cols</th>\n",
              "      <th>imp</th>\n",
              "    </tr>\n",
              "  </thead>\n",
              "  <tbody>\n",
              "    <tr>\n",
              "      <th>23</th>\n",
              "      <td>lastReportedPosition.milepostLocation.milepost.milepostNumber</td>\n",
              "      <td>0.411641</td>\n",
              "    </tr>\n",
              "    <tr>\n",
              "      <th>12</th>\n",
              "      <td>mpIncr</td>\n",
              "      <td>0.266577</td>\n",
              "    </tr>\n",
              "    <tr>\n",
              "      <th>22</th>\n",
              "      <td>lastReportedPosition.speedMPH</td>\n",
              "      <td>0.136668</td>\n",
              "    </tr>\n",
              "    <tr>\n",
              "      <th>38</th>\n",
              "      <td>milepost</td>\n",
              "      <td>0.091239</td>\n",
              "    </tr>\n",
              "    <tr>\n",
              "      <th>3</th>\n",
              "      <td>trainId.trainSymbol</td>\n",
              "      <td>0.016261</td>\n",
              "    </tr>\n",
              "    <tr>\n",
              "      <th>14</th>\n",
              "      <td>workLocations</td>\n",
              "      <td>0.010976</td>\n",
              "    </tr>\n",
              "    <tr>\n",
              "      <th>35</th>\n",
              "      <td>emptyCarCount</td>\n",
              "      <td>0.004833</td>\n",
              "    </tr>\n",
              "    <tr>\n",
              "      <th>6</th>\n",
              "      <td>lastReportedPosition.milepostLocation.trackName</td>\n",
              "      <td>0.004513</td>\n",
              "    </tr>\n",
              "    <tr>\n",
              "      <th>24</th>\n",
              "      <td>aotuTrainData.totalCarWeight</td>\n",
              "      <td>0.004400</td>\n",
              "    </tr>\n",
              "    <tr>\n",
              "      <th>33</th>\n",
              "      <td>maximumTrainSpeed</td>\n",
              "      <td>0.004256</td>\n",
              "    </tr>\n",
              "    <tr>\n",
              "      <th>34</th>\n",
              "      <td>loadedCarCount</td>\n",
              "      <td>0.004210</td>\n",
              "    </tr>\n",
              "    <tr>\n",
              "      <th>37</th>\n",
              "      <td>trailingTonnage</td>\n",
              "      <td>0.004023</td>\n",
              "    </tr>\n",
              "    <tr>\n",
              "      <th>0</th>\n",
              "      <td>ptcLeadLocomotiveId</td>\n",
              "      <td>0.004003</td>\n",
              "    </tr>\n",
              "    <tr>\n",
              "      <th>36</th>\n",
              "      <td>trainLength</td>\n",
              "      <td>0.003843</td>\n",
              "    </tr>\n",
              "    <tr>\n",
              "      <th>25</th>\n",
              "      <td>aotuTrainData.totalCarLength</td>\n",
              "      <td>0.003684</td>\n",
              "    </tr>\n",
              "    <tr>\n",
              "      <th>42</th>\n",
              "      <td>lastReportedPosition.positionTimeDay</td>\n",
              "      <td>0.003674</td>\n",
              "    </tr>\n",
              "    <tr>\n",
              "      <th>45</th>\n",
              "      <td>lastReportedPosition.positionTimeElapsed</td>\n",
              "      <td>0.003517</td>\n",
              "    </tr>\n",
              "    <tr>\n",
              "      <th>7</th>\n",
              "      <td>aotuTrainData.priorityCode</td>\n",
              "      <td>0.003288</td>\n",
              "    </tr>\n",
              "    <tr>\n",
              "      <th>26</th>\n",
              "      <td>aotuTrainData.totalLocomotiveWeight</td>\n",
              "      <td>0.002895</td>\n",
              "    </tr>\n",
              "    <tr>\n",
              "      <th>13</th>\n",
              "      <td>symbolType</td>\n",
              "      <td>0.002376</td>\n",
              "    </tr>\n",
              "  </tbody>\n",
              "</table>\n",
              "</div>\n",
              "      <button class=\"colab-df-convert\" onclick=\"convertToInteractive('df-20c1058b-076b-4dc0-865c-c6fe8cce1d23')\"\n",
              "              title=\"Convert this dataframe to an interactive table.\"\n",
              "              style=\"display:none;\">\n",
              "        \n",
              "  <svg xmlns=\"http://www.w3.org/2000/svg\" height=\"24px\"viewBox=\"0 0 24 24\"\n",
              "       width=\"24px\">\n",
              "    <path d=\"M0 0h24v24H0V0z\" fill=\"none\"/>\n",
              "    <path d=\"M18.56 5.44l.94 2.06.94-2.06 2.06-.94-2.06-.94-.94-2.06-.94 2.06-2.06.94zm-11 1L8.5 8.5l.94-2.06 2.06-.94-2.06-.94L8.5 2.5l-.94 2.06-2.06.94zm10 10l.94 2.06.94-2.06 2.06-.94-2.06-.94-.94-2.06-.94 2.06-2.06.94z\"/><path d=\"M17.41 7.96l-1.37-1.37c-.4-.4-.92-.59-1.43-.59-.52 0-1.04.2-1.43.59L10.3 9.45l-7.72 7.72c-.78.78-.78 2.05 0 2.83L4 21.41c.39.39.9.59 1.41.59.51 0 1.02-.2 1.41-.59l7.78-7.78 2.81-2.81c.8-.78.8-2.07 0-2.86zM5.41 20L4 18.59l7.72-7.72 1.47 1.35L5.41 20z\"/>\n",
              "  </svg>\n",
              "      </button>\n",
              "      \n",
              "  <style>\n",
              "    .colab-df-container {\n",
              "      display:flex;\n",
              "      flex-wrap:wrap;\n",
              "      gap: 12px;\n",
              "    }\n",
              "\n",
              "    .colab-df-convert {\n",
              "      background-color: #E8F0FE;\n",
              "      border: none;\n",
              "      border-radius: 50%;\n",
              "      cursor: pointer;\n",
              "      display: none;\n",
              "      fill: #1967D2;\n",
              "      height: 32px;\n",
              "      padding: 0 0 0 0;\n",
              "      width: 32px;\n",
              "    }\n",
              "\n",
              "    .colab-df-convert:hover {\n",
              "      background-color: #E2EBFA;\n",
              "      box-shadow: 0px 1px 2px rgba(60, 64, 67, 0.3), 0px 1px 3px 1px rgba(60, 64, 67, 0.15);\n",
              "      fill: #174EA6;\n",
              "    }\n",
              "\n",
              "    [theme=dark] .colab-df-convert {\n",
              "      background-color: #3B4455;\n",
              "      fill: #D2E3FC;\n",
              "    }\n",
              "\n",
              "    [theme=dark] .colab-df-convert:hover {\n",
              "      background-color: #434B5C;\n",
              "      box-shadow: 0px 1px 3px 1px rgba(0, 0, 0, 0.15);\n",
              "      filter: drop-shadow(0px 1px 2px rgba(0, 0, 0, 0.3));\n",
              "      fill: #FFFFFF;\n",
              "    }\n",
              "  </style>\n",
              "\n",
              "      <script>\n",
              "        const buttonEl =\n",
              "          document.querySelector('#df-20c1058b-076b-4dc0-865c-c6fe8cce1d23 button.colab-df-convert');\n",
              "        buttonEl.style.display =\n",
              "          google.colab.kernel.accessAllowed ? 'block' : 'none';\n",
              "\n",
              "        async function convertToInteractive(key) {\n",
              "          const element = document.querySelector('#df-20c1058b-076b-4dc0-865c-c6fe8cce1d23');\n",
              "          const dataTable =\n",
              "            await google.colab.kernel.invokeFunction('convertToInteractive',\n",
              "                                                     [key], {});\n",
              "          if (!dataTable) return;\n",
              "\n",
              "          const docLinkHtml = 'Like what you see? Visit the ' +\n",
              "            '<a target=\"_blank\" href=https://colab.research.google.com/notebooks/data_table.ipynb>data table notebook</a>'\n",
              "            + ' to learn more about interactive tables.';\n",
              "          element.innerHTML = '';\n",
              "          dataTable['output_type'] = 'display_data';\n",
              "          await google.colab.output.renderOutput(dataTable, element);\n",
              "          const docLink = document.createElement('div');\n",
              "          docLink.innerHTML = docLinkHtml;\n",
              "          element.appendChild(docLink);\n",
              "        }\n",
              "      </script>\n",
              "    </div>\n",
              "  </div>\n",
              "  "
            ]
          },
          "metadata": {},
          "execution_count": 169
        }
      ]
    },
    {
      "cell_type": "code",
      "source": [
        "def plot_fi(fi):\n",
        "    return fi.plot('cols', 'imp', 'barh', figsize=(12,7), legend=False)\n",
        "\n",
        "plot_fi(fi[:30]);"
      ],
      "metadata": {
        "id": "PrrzmK6AflwF",
        "colab": {
          "base_uri": "https://localhost:8080/",
          "height": 431
        },
        "outputId": "152bbe9c-15ee-4115-e833-0c37bacd9992"
      },
      "execution_count": 170,
      "outputs": [
        {
          "output_type": "display_data",
          "data": {
            "text/plain": [
              "<Figure size 864x504 with 1 Axes>"
            ],
            "image/png": "[encoded data removed]"
          },
          "metadata": {
            "needs_background": "light"
          }
        }
      ]
    },
    {
      "cell_type": "markdown",
      "source": [
        "Remove low importance columns"
      ],
      "metadata": {
        "id": "ic6LbeWIf2EQ"
      }
    },
    {
      "cell_type": "code",
      "source": [
        "to_keep = fi[fi.imp>0.0002].cols\n",
        "len(to_keep)"
      ],
      "metadata": {
        "id": "jaWtqZdQfwmy",
        "colab": {
          "base_uri": "https://localhost:8080/"
        },
        "outputId": "f2e4f9b6-6aad-443a-8ec7-b01904121529"
      },
      "execution_count": 171,
      "outputs": [
        {
          "output_type": "execute_result",
          "data": {
            "text/plain": [
              "29"
            ]
          },
          "metadata": {},
          "execution_count": 171
        }
      ]
    },
    {
      "cell_type": "code",
      "source": [
        "xs_imp = xs[to_keep]\n",
        "valid_xs_imp = valid_xs[to_keep]"
      ],
      "metadata": {
        "id": "KK47uCFsgAYv"
      },
      "execution_count": 172,
      "outputs": []
    },
    {
      "cell_type": "code",
      "source": [
        "m = randomForest(xs_imp, y)"
      ],
      "metadata": {
        "id": "GgFy875_gGp4"
      },
      "execution_count": 173,
      "outputs": []
    },
    {
      "cell_type": "code",
      "source": [
        "m_rmse(m, xs_imp, y), m_rmse(m, valid_xs_imp, valid_y)"
      ],
      "metadata": {
        "id": "5e5LZrqmgJf2",
        "colab": {
          "base_uri": "https://localhost:8080/"
        },
        "outputId": "17edf73c-8071-40ca-d29d-ae79ec38da1c"
      },
      "execution_count": 174,
      "outputs": [
        {
          "output_type": "execute_result",
          "data": {
            "text/plain": [
              "(8.549662, 10.907629)"
            ]
          },
          "metadata": {},
          "execution_count": 174
        }
      ]
    },
    {
      "cell_type": "code",
      "source": [
        "plot_fi(rf_feat_importance(m, xs_imp));"
      ],
      "metadata": {
        "id": "5Szx4cKsgKPL",
        "colab": {
          "base_uri": "https://localhost:8080/",
          "height": 431
        },
        "outputId": "78d273dc-cefb-47a1-91d2-ef5d8204552f"
      },
      "execution_count": 175,
      "outputs": [
        {
          "output_type": "display_data",
          "data": {
            "text/plain": [
              "<Figure size 864x504 with 1 Axes>"
            ],
            "image/png": "[encoded data removed]"
          },
          "metadata": {
            "needs_background": "light"
          }
        }
      ]
    },
    {
      "cell_type": "code",
      "source": [
        "fastai.cluster_columns(xs_imp)"
      ],
      "metadata": {
        "id": "ZRqtok8LhwlR",
        "colab": {
          "base_uri": "https://localhost:8080/",
          "height": 377
        },
        "outputId": "9417bc17-2af9-4466-fa89-374a58d32be0"
      },
      "execution_count": 176,
      "outputs": [
        {
          "output_type": "display_data",
          "data": {
            "text/plain": [
              "<Figure size 720x432 with 1 Axes>"
            ],
            "image/png": "[encoded data removed]"
          },
          "metadata": {
            "needs_background": "light"
          }
        }
      ]
    },
    {
      "cell_type": "markdown",
      "source": [
        "# Compute the Physics Model loss for the same interval:"
      ],
      "metadata": {
        "id": "Q-BM2Bkc_YgZ"
      }
    },
    {
      "cell_type": "code",
      "source": [
        "showPredictions(dfTrainsNextBeop.tail(len(valid_y)), valid_y)"
      ],
      "metadata": {
        "id": "dzCptGlqeZNi",
        "colab": {
          "base_uri": "https://localhost:8080/",
          "height": 545
        },
        "outputId": "114e2a69-d137-48ea-b6d3-a4481090cc5d"
      },
      "execution_count": 177,
      "outputs": [
        {
          "output_type": "stream",
          "name": "stdout",
          "text": [
            "      prediction      actual      delta\n",
            "6      268.34520  271.863678   3.518478\n",
            "7      255.98856  288.108734  32.120174\n",
            "8      246.14096  297.288300  51.147340\n",
            "9      240.29688  310.235687  69.938807\n",
            "12     236.80238  325.610992  88.808612\n",
            "...          ...         ...        ...\n",
            "4355   197.55089  243.677460  46.126570\n",
            "4356   195.44986  236.349045  40.899185\n",
            "4357   186.35670  225.254959  38.898259\n",
            "4358   176.57133  219.881546  43.310216\n",
            "4360   174.76186  206.479767  31.717907\n",
            "\n",
            "[2501 rows x 3 columns]\n",
            "RMSE:  57.307469\n"
          ]
        },
        {
          "output_type": "display_data",
          "data": {
            "text/plain": [
              "<Figure size 432x288 with 1 Axes>"
            ],
            "image/png": "[encoded data removed]"
          },
          "metadata": {
            "needs_background": "light"
          }
        }
      ]
    },
    {
      "cell_type": "markdown",
      "source": [
        "# Finding Out-of-Domain Data\n",
        "Spot variables that are unique to the test set versus the training set"
      ],
      "metadata": {
        "id": "1N-rN5Y9BoHT"
      }
    },
    {
      "cell_type": "code",
      "source": [
        "df_dom = pd.concat([xs, valid_xs])\n",
        "is_valid = np.array([0]*len(xs) + [1]*len(valid_xs))\n",
        "\n",
        "m = randomForest(df_dom, is_valid)\n",
        "rf_feat_importance(m, df_dom)[:8]"
      ],
      "metadata": {
        "id": "qzU3ybMaBuOr",
        "colab": {
          "base_uri": "https://localhost:8080/",
          "height": 300
        },
        "outputId": "b6dd6afb-13e9-4161-e8e2-320bffb04ba9"
      },
      "execution_count": 178,
      "outputs": [
        {
          "output_type": "execute_result",
          "data": {
            "text/plain": [
              "                                          cols       imp\n",
              "45    lastReportedPosition.positionTimeElapsed  0.456302\n",
              "44  lastReportedPosition.positionTimeDayofyear  0.391519\n",
              "41       lastReportedPosition.positionTimeWeek  0.112630\n",
              "4                            trainId.trainDate  0.031695\n",
              "40      lastReportedPosition.positionTimeMonth  0.007855\n",
              "33                           maximumTrainSpeed  0.000000\n",
              "26         aotuTrainData.totalLocomotiveWeight  0.000000\n",
              "27         aotuTrainData.totalLocomotiveLength  0.000000"
            ],
            "text/html": [
              "\n",
              "  <div id=\"df-89850295-9b00-4ea2-8d8f-b9181d6454bc\">\n",
              "    <div class=\"colab-df-container\">\n",
              "      <div>\n",
              "<style scoped>\n",
              "    .dataframe tbody tr th:only-of-type {\n",
              "        vertical-align: middle;\n",
              "    }\n",
              "\n",
              "    .dataframe tbody tr th {\n",
              "        vertical-align: top;\n",
              "    }\n",
              "\n",
              "    .dataframe thead th {\n",
              "        text-align: right;\n",
              "    }\n",
              "</style>\n",
              "<table border=\"1\" class=\"dataframe\">\n",
              "  <thead>\n",
              "    <tr style=\"text-align: right;\">\n",
              "      <th></th>\n",
              "      <th>cols</th>\n",
              "      <th>imp</th>\n",
              "    </tr>\n",
              "  </thead>\n",
              "  <tbody>\n",
              "    <tr>\n",
              "      <th>45</th>\n",
              "      <td>lastReportedPosition.positionTimeElapsed</td>\n",
              "      <td>0.456302</td>\n",
              "    </tr>\n",
              "    <tr>\n",
              "      <th>44</th>\n",
              "      <td>lastReportedPosition.positionTimeDayofyear</td>\n",
              "      <td>0.391519</td>\n",
              "    </tr>\n",
              "    <tr>\n",
              "      <th>41</th>\n",
              "      <td>lastReportedPosition.positionTimeWeek</td>\n",
              "      <td>0.112630</td>\n",
              "    </tr>\n",
              "    <tr>\n",
              "      <th>4</th>\n",
              "      <td>trainId.trainDate</td>\n",
              "      <td>0.031695</td>\n",
              "    </tr>\n",
              "    <tr>\n",
              "      <th>40</th>\n",
              "      <td>lastReportedPosition.positionTimeMonth</td>\n",
              "      <td>0.007855</td>\n",
              "    </tr>\n",
              "    <tr>\n",
              "      <th>33</th>\n",
              "      <td>maximumTrainSpeed</td>\n",
              "      <td>0.000000</td>\n",
              "    </tr>\n",
              "    <tr>\n",
              "      <th>26</th>\n",
              "      <td>aotuTrainData.totalLocomotiveWeight</td>\n",
              "      <td>0.000000</td>\n",
              "    </tr>\n",
              "    <tr>\n",
              "      <th>27</th>\n",
              "      <td>aotuTrainData.totalLocomotiveLength</td>\n",
              "      <td>0.000000</td>\n",
              "    </tr>\n",
              "  </tbody>\n",
              "</table>\n",
              "</div>\n",
              "      <button class=\"colab-df-convert\" onclick=\"convertToInteractive('df-89850295-9b00-4ea2-8d8f-b9181d6454bc')\"\n",
              "              title=\"Convert this dataframe to an interactive table.\"\n",
              "              style=\"display:none;\">\n",
              "        \n",
              "  <svg xmlns=\"http://www.w3.org/2000/svg\" height=\"24px\"viewBox=\"0 0 24 24\"\n",
              "       width=\"24px\">\n",
              "    <path d=\"M0 0h24v24H0V0z\" fill=\"none\"/>\n",
              "    <path d=\"M18.56 5.44l.94 2.06.94-2.06 2.06-.94-2.06-.94-.94-2.06-.94 2.06-2.06.94zm-11 1L8.5 8.5l.94-2.06 2.06-.94-2.06-.94L8.5 2.5l-.94 2.06-2.06.94zm10 10l.94 2.06.94-2.06 2.06-.94-2.06-.94-.94-2.06-.94 2.06-2.06.94z\"/><path d=\"M17.41 7.96l-1.37-1.37c-.4-.4-.92-.59-1.43-.59-.52 0-1.04.2-1.43.59L10.3 9.45l-7.72 7.72c-.78.78-.78 2.05 0 2.83L4 21.41c.39.39.9.59 1.41.59.51 0 1.02-.2 1.41-.59l7.78-7.78 2.81-2.81c.8-.78.8-2.07 0-2.86zM5.41 20L4 18.59l7.72-7.72 1.47 1.35L5.41 20z\"/>\n",
              "  </svg>\n",
              "      </button>\n",
              "      \n",
              "  <style>\n",
              "    .colab-df-container {\n",
              "      display:flex;\n",
              "      flex-wrap:wrap;\n",
              "      gap: 12px;\n",
              "    }\n",
              "\n",
              "    .colab-df-convert {\n",
              "      background-color: #E8F0FE;\n",
              "      border: none;\n",
              "      border-radius: 50%;\n",
              "      cursor: pointer;\n",
              "      display: none;\n",
              "      fill: #1967D2;\n",
              "      height: 32px;\n",
              "      padding: 0 0 0 0;\n",
              "      width: 32px;\n",
              "    }\n",
              "\n",
              "    .colab-df-convert:hover {\n",
              "      background-color: #E2EBFA;\n",
              "      box-shadow: 0px 1px 2px rgba(60, 64, 67, 0.3), 0px 1px 3px 1px rgba(60, 64, 67, 0.15);\n",
              "      fill: #174EA6;\n",
              "    }\n",
              "\n",
              "    [theme=dark] .colab-df-convert {\n",
              "      background-color: #3B4455;\n",
              "      fill: #D2E3FC;\n",
              "    }\n",
              "\n",
              "    [theme=dark] .colab-df-convert:hover {\n",
              "      background-color: #434B5C;\n",
              "      box-shadow: 0px 1px 3px 1px rgba(0, 0, 0, 0.15);\n",
              "      filter: drop-shadow(0px 1px 2px rgba(0, 0, 0, 0.3));\n",
              "      fill: #FFFFFF;\n",
              "    }\n",
              "  </style>\n",
              "\n",
              "      <script>\n",
              "        const buttonEl =\n",
              "          document.querySelector('#df-89850295-9b00-4ea2-8d8f-b9181d6454bc button.colab-df-convert');\n",
              "        buttonEl.style.display =\n",
              "          google.colab.kernel.accessAllowed ? 'block' : 'none';\n",
              "\n",
              "        async function convertToInteractive(key) {\n",
              "          const element = document.querySelector('#df-89850295-9b00-4ea2-8d8f-b9181d6454bc');\n",
              "          const dataTable =\n",
              "            await google.colab.kernel.invokeFunction('convertToInteractive',\n",
              "                                                     [key], {});\n",
              "          if (!dataTable) return;\n",
              "\n",
              "          const docLinkHtml = 'Like what you see? Visit the ' +\n",
              "            '<a target=\"_blank\" href=https://colab.research.google.com/notebooks/data_table.ipynb>data table notebook</a>'\n",
              "            + ' to learn more about interactive tables.';\n",
              "          element.innerHTML = '';\n",
              "          dataTable['output_type'] = 'display_data';\n",
              "          await google.colab.output.renderOutput(dataTable, element);\n",
              "          const docLink = document.createElement('div');\n",
              "          docLink.innerHTML = docLinkHtml;\n",
              "          element.appendChild(docLink);\n",
              "        }\n",
              "      </script>\n",
              "    </div>\n",
              "  </div>\n",
              "  "
            ]
          },
          "metadata": {},
          "execution_count": 178
        }
      ]
    },
    {
      "cell_type": "markdown",
      "source": [
        "Consider whether these values make sense"
      ],
      "metadata": {
        "id": "wJPE_9WCLCPr"
      }
    },
    {
      "cell_type": "markdown",
      "source": [
        "#Using a Neural Net"
      ],
      "metadata": {
        "id": "K9TcqLvPKQJD"
      }
    },
    {
      "cell_type": "code",
      "source": [
        "df_nn_final = dfTrainsLearn"
      ],
      "metadata": {
        "id": "CrfcBKRXKqQ8"
      },
      "execution_count": 179,
      "outputs": []
    },
    {
      "cell_type": "code",
      "source": [
        "df_nn_final.info()"
      ],
      "metadata": {
        "id": "W87DbNmeMVsv",
        "colab": {
          "base_uri": "https://localhost:8080/"
        },
        "outputId": "175a782e-14a8-4544-ab96-ccea78685c82"
      },
      "execution_count": 180,
      "outputs": [
        {
          "output_type": "stream",
          "name": "stdout",
          "text": [
            "<class 'pandas.core.frame.DataFrame'>\n",
            "Int64Index: 22510 entries, 0 to 29766\n",
            "Data columns (total 47 columns):\n",
            " #   Column                                                         Non-Null Count  Dtype         \n",
            "---  ------                                                         --------------  -----         \n",
            " 0   ptcLeadLocomotiveId                                            22510 non-null  object        \n",
            " 1   trainId.trainSCAC                                              22510 non-null  category      \n",
            " 2   trainId.trainSection                                           22510 non-null  category      \n",
            " 3   trainId.trainSymbol                                            22510 non-null  object        \n",
            " 4   trainId.trainDate                                              22510 non-null  datetime64[ns]\n",
            " 5   lastReportedPosition.speedMPH                                  22510 non-null  int64         \n",
            " 6   lastReportedPosition.milepostLocation.subdivisionId            22510 non-null  int64         \n",
            " 7   lastReportedPosition.milepostLocation.trackName                22510 non-null  category      \n",
            " 8   lastReportedPosition.milepostLocation.milepost.milepostNumber  22510 non-null  float64       \n",
            " 9   aotuTrainData.priorityCode                                     22510 non-null  category      \n",
            " 10  aotuTrainData.categoryCode                                     22510 non-null  category      \n",
            " 11  aotuTrainData.authorityRangeCode                               22510 non-null  category      \n",
            " 12  aotuTrainData.ownershipCode                                    22510 non-null  category      \n",
            " 13  aotuTrainData.totalCarWeight                                   22510 non-null  float64       \n",
            " 14  aotuTrainData.totalCarLength                                   22510 non-null  float64       \n",
            " 15  aotuTrainData.totalLocomotiveWeight                            22510 non-null  float64       \n",
            " 16  aotuTrainData.totalLocomotiveLength                            22510 non-null  float64       \n",
            " 17  aotuTrainData.actualTonsPerAxle                                22510 non-null  float64       \n",
            " 18  aotuTrainData.heavy143TonCarCount                              22510 non-null  float64       \n",
            " 19  aotuTrainData.heavy158TonCarCount                              22510 non-null  float64       \n",
            " 20  aotuTrainData.over158TonCarCount                               22510 non-null  float64       \n",
            " 21  aotuTrainData.highWideCarCount                                 22510 non-null  float64       \n",
            " 22  aotuTrainData.eventCode                                        22510 non-null  category      \n",
            " 23  maximumTrainSpeed                                              22510 non-null  float64       \n",
            " 24  loadedCarCount                                                 22510 non-null  float64       \n",
            " 25  emptyCarCount                                                  22510 non-null  float64       \n",
            " 26  trainLength                                                    22510 non-null  float64       \n",
            " 27  trailingTonnage                                                22510 non-null  float64       \n",
            " 28  milepost                                                       22510 non-null  int64         \n",
            " 29  mpIncr                                                         22510 non-null  bool          \n",
            " 30  symbolType                                                     22510 non-null  category      \n",
            " 31  workLocations                                                  22414 non-null  object        \n",
            " 32  locomotiveCount                                                22510 non-null  int64         \n",
            " 33  nextValue                                                      22510 non-null  float64       \n",
            " 34  lastReportedPosition.positionTimeYear                          22510 non-null  int64         \n",
            " 35  lastReportedPosition.positionTimeMonth                         22510 non-null  int64         \n",
            " 36  lastReportedPosition.positionTimeWeek                          22510 non-null  int64         \n",
            " 37  lastReportedPosition.positionTimeDay                           22510 non-null  int64         \n",
            " 38  lastReportedPosition.positionTimeDayofweek                     22510 non-null  int64         \n",
            " 39  lastReportedPosition.positionTimeDayofyear                     22510 non-null  int64         \n",
            " 40  lastReportedPosition.positionTimeIs_month_end                  22510 non-null  bool          \n",
            " 41  lastReportedPosition.positionTimeIs_month_start                22510 non-null  bool          \n",
            " 42  lastReportedPosition.positionTimeIs_quarter_end                22510 non-null  bool          \n",
            " 43  lastReportedPosition.positionTimeIs_quarter_start              22510 non-null  bool          \n",
            " 44  lastReportedPosition.positionTimeIs_year_end                   22510 non-null  bool          \n",
            " 45  lastReportedPosition.positionTimeIs_year_start                 22510 non-null  bool          \n",
            " 46  lastReportedPosition.positionTimeElapsed                       22510 non-null  float64       \n",
            "dtypes: bool(7), category(9), datetime64[ns](1), float64(17), int64(10), object(3)\n",
            "memory usage: 5.8+ MB\n"
          ]
        }
      ]
    },
    {
      "cell_type": "code",
      "source": [
        "cont_nn,cat_nn = cont_cat_split(df_nn_final, max_card=9000, dep_var=dep_var)"
      ],
      "metadata": {
        "id": "TpvoMKe1MNzg"
      },
      "execution_count": 181,
      "outputs": []
    },
    {
      "cell_type": "code",
      "source": [
        "cont_nn"
      ],
      "metadata": {
        "id": "xef-YmKAMeHO",
        "colab": {
          "base_uri": "https://localhost:8080/"
        },
        "outputId": "df8ab03e-563d-4af5-d75d-7322253d22c1"
      },
      "execution_count": 182,
      "outputs": [
        {
          "output_type": "execute_result",
          "data": {
            "text/plain": [
              "['lastReportedPosition.milepostLocation.milepost.milepostNumber',\n",
              " 'aotuTrainData.totalCarWeight',\n",
              " 'aotuTrainData.totalCarLength',\n",
              " 'aotuTrainData.totalLocomotiveWeight',\n",
              " 'aotuTrainData.totalLocomotiveLength',\n",
              " 'aotuTrainData.actualTonsPerAxle',\n",
              " 'aotuTrainData.heavy143TonCarCount',\n",
              " 'aotuTrainData.heavy158TonCarCount',\n",
              " 'aotuTrainData.over158TonCarCount',\n",
              " 'aotuTrainData.highWideCarCount',\n",
              " 'maximumTrainSpeed',\n",
              " 'loadedCarCount',\n",
              " 'emptyCarCount',\n",
              " 'trainLength',\n",
              " 'trailingTonnage',\n",
              " 'lastReportedPosition.positionTimeElapsed']"
            ]
          },
          "metadata": {},
          "execution_count": 182
        }
      ]
    },
    {
      "cell_type": "code",
      "source": [
        "numUniquePerCat = df_nn_final[cat_nn].nunique()\n",
        "with pd.option_context('display.max_rows', None, 'display.max_columns', None):  \n",
        "    print(numUniquePerCat)"
      ],
      "metadata": {
        "id": "axfRjORJin9v",
        "colab": {
          "base_uri": "https://localhost:8080/"
        },
        "outputId": "7120a213-e5e1-4acf-e3f1-f484841cca7a"
      },
      "execution_count": 183,
      "outputs": [
        {
          "output_type": "stream",
          "name": "stdout",
          "text": [
            "ptcLeadLocomotiveId                                    1001\n",
            "trainId.trainSCAC                                         2\n",
            "trainId.trainSection                                      2\n",
            "trainId.trainSymbol                                     311\n",
            "trainId.trainDate                                       102\n",
            "lastReportedPosition.speedMPH                            72\n",
            "lastReportedPosition.milepostLocation.subdivisionId       1\n",
            "lastReportedPosition.milepostLocation.trackName          11\n",
            "aotuTrainData.priorityCode                                4\n",
            "aotuTrainData.categoryCode                               11\n",
            "aotuTrainData.authorityRangeCode                          3\n",
            "aotuTrainData.ownershipCode                               3\n",
            "aotuTrainData.eventCode                                   1\n",
            "milepost                                                123\n",
            "mpIncr                                                    2\n",
            "symbolType                                               12\n",
            "workLocations                                            74\n",
            "locomotiveCount                                          11\n",
            "lastReportedPosition.positionTimeYear                     1\n",
            "lastReportedPosition.positionTimeMonth                    5\n",
            "lastReportedPosition.positionTimeWeek                    15\n",
            "lastReportedPosition.positionTimeDay                     31\n",
            "lastReportedPosition.positionTimeDayofweek                7\n",
            "lastReportedPosition.positionTimeDayofyear               97\n",
            "lastReportedPosition.positionTimeIs_month_end             2\n",
            "lastReportedPosition.positionTimeIs_month_start           2\n",
            "lastReportedPosition.positionTimeIs_quarter_end           2\n",
            "lastReportedPosition.positionTimeIs_quarter_start         2\n",
            "lastReportedPosition.positionTimeIs_year_end              1\n",
            "lastReportedPosition.positionTimeIs_year_start            1\n",
            "dtype: int64\n"
          ]
        }
      ]
    },
    {
      "cell_type": "code",
      "source": [
        "procs_nn = [Categorify, FillMissing, Normalize]\n",
        "to_nn = TabularPandas(df_nn_final, procs_nn, cat_nn, cont_nn,\n",
        "                      splits=splits, y_names=dep_var)"
      ],
      "metadata": {
        "id": "WNS5_jduj0Ft"
      },
      "execution_count": 184,
      "outputs": []
    },
    {
      "cell_type": "code",
      "source": [
        "dls = to_nn.dataloaders(1024)"
      ],
      "metadata": {
        "id": "HH0M0MH7kKQ-"
      },
      "execution_count": 185,
      "outputs": []
    },
    {
      "cell_type": "code",
      "source": [
        "y = to_nn.train.y\n",
        "y.min(),y.max()"
      ],
      "metadata": {
        "id": "BPnKvYGKkRMf",
        "colab": {
          "base_uri": "https://localhost:8080/"
        },
        "outputId": "24f7ca60-d045-40bb-99e7-53fd3c045a4b"
      },
      "execution_count": 186,
      "outputs": [
        {
          "output_type": "execute_result",
          "data": {
            "text/plain": [
              "(202.23622, 326.0935)"
            ]
          },
          "metadata": {},
          "execution_count": 186
        }
      ]
    },
    {
      "cell_type": "code",
      "source": [
        "linearLayers=500\n",
        "activations=250\n",
        "learn = tabular_learner(dls, y_range=(202,327), layers=[linearLayers,activations],\n",
        "                        n_out=1, loss_func=F.mse_loss)"
      ],
      "metadata": {
        "id": "XI0a_6T8kYCl"
      },
      "execution_count": 187,
      "outputs": []
    },
    {
      "cell_type": "code",
      "source": [
        "learn.lr_find()"
      ],
      "metadata": {
        "id": "-bG4DfIqkbyc",
        "colab": {
          "base_uri": "https://localhost:8080/",
          "height": 306
        },
        "outputId": "acf5bc9e-8ad6-4ac4-bc9e-4833915fa23c"
      },
      "execution_count": 188,
      "outputs": [
        {
          "output_type": "display_data",
          "data": {
            "text/plain": [
              "<IPython.core.display.HTML object>"
            ],
            "text/html": [
              "\n",
              "<style>\n",
              "    /* Turns off some styling */\n",
              "    progress {\n",
              "        /* gets rid of default border in Firefox and Opera. */\n",
              "        border: none;\n",
              "        /* Needs to be in here for Safari polyfill so background images work as expected. */\n",
              "        background-size: auto;\n",
              "    }\n",
              "    progress:not([value]), progress:not([value])::-webkit-progress-bar {\n",
              "        background: repeating-linear-gradient(45deg, #7e7e7e, #7e7e7e 10px, #5c5c5c 10px, #5c5c5c 20px);\n",
              "    }\n",
              "    .progress-bar-interrupted, .progress-bar-interrupted::-webkit-progress-bar {\n",
              "        background: #F44336;\n",
              "    }\n",
              "</style>\n"
            ]
          },
          "metadata": {}
        },
        {
          "output_type": "display_data",
          "data": {
            "text/plain": [
              "<IPython.core.display.HTML object>"
            ],
            "text/html": []
          },
          "metadata": {}
        },
        {
          "output_type": "execute_result",
          "data": {
            "text/plain": [
              "SuggestedLRs(valley=0.00019054606673307717)"
            ]
          },
          "metadata": {},
          "execution_count": 188
        },
        {
          "output_type": "display_data",
          "data": {
            "text/plain": [
              "<Figure size 432x288 with 1 Axes>"
            ],
            "image/png": "[encoded data removed]"
          },
          "metadata": {
            "needs_background": "light"
          }
        }
      ]
    },
    {
      "cell_type": "code",
      "source": [
        "# Default NN \n",
        "# learn.fit_one_cycle(50, 1e-4)"
      ],
      "metadata": {
        "id": "KtYc1ectkiZt"
      },
      "execution_count": 189,
      "outputs": []
    },
    {
      "cell_type": "code",
      "source": [
        "#\"Ranger\" Optimizer Uses Pytorch’s CosineAnnealing\n",
        "learn.fit_flat_cos(20, 1e-4)"
      ],
      "metadata": {
        "colab": {
          "base_uri": "https://localhost:8080/",
          "height": 677
        },
        "id": "_Muje3CE5pKF",
        "outputId": "660626bc-1ee3-41c2-e2d3-bc256607fbe7"
      },
      "execution_count": 190,
      "outputs": [
        {
          "output_type": "display_data",
          "data": {
            "text/plain": [
              "<IPython.core.display.HTML object>"
            ],
            "text/html": [
              "\n",
              "<style>\n",
              "    /* Turns off some styling */\n",
              "    progress {\n",
              "        /* gets rid of default border in Firefox and Opera. */\n",
              "        border: none;\n",
              "        /* Needs to be in here for Safari polyfill so background images work as expected. */\n",
              "        background-size: auto;\n",
              "    }\n",
              "    progress:not([value]), progress:not([value])::-webkit-progress-bar {\n",
              "        background: repeating-linear-gradient(45deg, #7e7e7e, #7e7e7e 10px, #5c5c5c 10px, #5c5c5c 20px);\n",
              "    }\n",
              "    .progress-bar-interrupted, .progress-bar-interrupted::-webkit-progress-bar {\n",
              "        background: #F44336;\n",
              "    }\n",
              "</style>\n"
            ]
          },
          "metadata": {}
        },
        {
          "output_type": "display_data",
          "data": {
            "text/plain": [
              "<IPython.core.display.HTML object>"
            ],
            "text/html": [
              "<table border=\"1\" class=\"dataframe\">\n",
              "  <thead>\n",
              "    <tr style=\"text-align: left;\">\n",
              "      <th>epoch</th>\n",
              "      <th>train_loss</th>\n",
              "      <th>valid_loss</th>\n",
              "      <th>time</th>\n",
              "    </tr>\n",
              "  </thead>\n",
              "  <tbody>\n",
              "    <tr>\n",
              "      <td>0</td>\n",
              "      <td>778.258850</td>\n",
              "      <td>1141.980103</td>\n",
              "      <td>00:01</td>\n",
              "    </tr>\n",
              "    <tr>\n",
              "      <td>1</td>\n",
              "      <td>662.726562</td>\n",
              "      <td>1038.540894</td>\n",
              "      <td>00:01</td>\n",
              "    </tr>\n",
              "    <tr>\n",
              "      <td>2</td>\n",
              "      <td>566.151001</td>\n",
              "      <td>752.396606</td>\n",
              "      <td>00:01</td>\n",
              "    </tr>\n",
              "    <tr>\n",
              "      <td>3</td>\n",
              "      <td>468.190094</td>\n",
              "      <td>501.704712</td>\n",
              "      <td>00:01</td>\n",
              "    </tr>\n",
              "    <tr>\n",
              "      <td>4</td>\n",
              "      <td>380.342957</td>\n",
              "      <td>366.189911</td>\n",
              "      <td>00:01</td>\n",
              "    </tr>\n",
              "    <tr>\n",
              "      <td>5</td>\n",
              "      <td>309.766968</td>\n",
              "      <td>327.661316</td>\n",
              "      <td>00:01</td>\n",
              "    </tr>\n",
              "    <tr>\n",
              "      <td>6</td>\n",
              "      <td>258.660583</td>\n",
              "      <td>313.018951</td>\n",
              "      <td>00:01</td>\n",
              "    </tr>\n",
              "    <tr>\n",
              "      <td>7</td>\n",
              "      <td>219.379211</td>\n",
              "      <td>309.109100</td>\n",
              "      <td>00:01</td>\n",
              "    </tr>\n",
              "    <tr>\n",
              "      <td>8</td>\n",
              "      <td>189.664093</td>\n",
              "      <td>292.716797</td>\n",
              "      <td>00:01</td>\n",
              "    </tr>\n",
              "    <tr>\n",
              "      <td>9</td>\n",
              "      <td>166.322815</td>\n",
              "      <td>279.342133</td>\n",
              "      <td>00:01</td>\n",
              "    </tr>\n",
              "    <tr>\n",
              "      <td>10</td>\n",
              "      <td>147.575073</td>\n",
              "      <td>277.064056</td>\n",
              "      <td>00:01</td>\n",
              "    </tr>\n",
              "    <tr>\n",
              "      <td>11</td>\n",
              "      <td>133.964264</td>\n",
              "      <td>277.857391</td>\n",
              "      <td>00:01</td>\n",
              "    </tr>\n",
              "    <tr>\n",
              "      <td>12</td>\n",
              "      <td>121.973610</td>\n",
              "      <td>271.110504</td>\n",
              "      <td>00:01</td>\n",
              "    </tr>\n",
              "    <tr>\n",
              "      <td>13</td>\n",
              "      <td>113.878197</td>\n",
              "      <td>271.871735</td>\n",
              "      <td>00:01</td>\n",
              "    </tr>\n",
              "    <tr>\n",
              "      <td>14</td>\n",
              "      <td>105.452675</td>\n",
              "      <td>275.782532</td>\n",
              "      <td>00:01</td>\n",
              "    </tr>\n",
              "    <tr>\n",
              "      <td>15</td>\n",
              "      <td>98.631409</td>\n",
              "      <td>273.130737</td>\n",
              "      <td>00:01</td>\n",
              "    </tr>\n",
              "    <tr>\n",
              "      <td>16</td>\n",
              "      <td>94.071281</td>\n",
              "      <td>266.195557</td>\n",
              "      <td>00:01</td>\n",
              "    </tr>\n",
              "    <tr>\n",
              "      <td>17</td>\n",
              "      <td>89.872063</td>\n",
              "      <td>270.998505</td>\n",
              "      <td>00:01</td>\n",
              "    </tr>\n",
              "    <tr>\n",
              "      <td>18</td>\n",
              "      <td>85.410698</td>\n",
              "      <td>267.852661</td>\n",
              "      <td>00:01</td>\n",
              "    </tr>\n",
              "    <tr>\n",
              "      <td>19</td>\n",
              "      <td>81.733139</td>\n",
              "      <td>269.095093</td>\n",
              "      <td>00:01</td>\n",
              "    </tr>\n",
              "  </tbody>\n",
              "</table>"
            ]
          },
          "metadata": {}
        }
      ]
    },
    {
      "cell_type": "code",
      "source": [
        "# Stochastic Gradient Descent\n",
        "# Too Much Ram -  cannot run here \n",
        "# learn.fit_sgdr(31, 10)"
      ],
      "metadata": {
        "id": "nTmJDf8w7Jvz"
      },
      "execution_count": 191,
      "outputs": []
    },
    {
      "cell_type": "markdown",
      "source": [
        "NN Predictions:"
      ],
      "metadata": {
        "id": "2-jWdBC7omY8"
      }
    },
    {
      "cell_type": "code",
      "source": [
        "preds,targs = learn.get_preds()\n",
        "showPredictions(pd.DataFrame(preds.numpy(), columns=['prediction']), \n",
        "                pd.DataFrame(targs.numpy(), columns=['actual']))"
      ],
      "metadata": {
        "id": "eo1O3alWmiKj",
        "colab": {
          "base_uri": "https://localhost:8080/",
          "height": 545
        },
        "outputId": "15358380-56f7-4db1-e9dc-809e67c68ac6"
      },
      "execution_count": 192,
      "outputs": [
        {
          "output_type": "display_data",
          "data": {
            "text/plain": [
              "<IPython.core.display.HTML object>"
            ],
            "text/html": [
              "\n",
              "<style>\n",
              "    /* Turns off some styling */\n",
              "    progress {\n",
              "        /* gets rid of default border in Firefox and Opera. */\n",
              "        border: none;\n",
              "        /* Needs to be in here for Safari polyfill so background images work as expected. */\n",
              "        background-size: auto;\n",
              "    }\n",
              "    progress:not([value]), progress:not([value])::-webkit-progress-bar {\n",
              "        background: repeating-linear-gradient(45deg, #7e7e7e, #7e7e7e 10px, #5c5c5c 10px, #5c5c5c 20px);\n",
              "    }\n",
              "    .progress-bar-interrupted, .progress-bar-interrupted::-webkit-progress-bar {\n",
              "        background: #F44336;\n",
              "    }\n",
              "</style>\n"
            ]
          },
          "metadata": {}
        },
        {
          "output_type": "display_data",
          "data": {
            "text/plain": [
              "<IPython.core.display.HTML object>"
            ],
            "text/html": []
          },
          "metadata": {}
        },
        {
          "output_type": "stream",
          "name": "stdout",
          "text": [
            "      prediction      actual      delta\n",
            "0     281.654663  291.374603   9.719940\n",
            "1     271.379761  290.969177  19.589417\n",
            "2     262.297028  282.523590  20.226562\n",
            "3     253.637238  275.740753  22.103516\n",
            "4     227.329697  245.180847  17.851151\n",
            "...          ...         ...        ...\n",
            "4356  249.890045  236.349045  13.541000\n",
            "4357  236.813995  225.254959  11.559036\n",
            "4358  232.380493  219.881546  12.498947\n",
            "4359  229.331604  217.072906  12.258698\n",
            "4360  225.132202  206.479767  18.652435\n",
            "\n",
            "[4361 rows x 3 columns]\n",
            "RMSE:  16.404118\n"
          ]
        },
        {
          "output_type": "display_data",
          "data": {
            "text/plain": [
              "<Figure size 432x288 with 1 Axes>"
            ],
            "image/png": "[encoded data removed]"
          },
          "metadata": {
            "needs_background": "light"
          }
        }
      ]
    },
    {
      "cell_type": "code",
      "source": [],
      "metadata": {
        "id": "T2I3NM-mtc66"
      },
      "execution_count": 192,
      "outputs": []
    }
  ],
  "metadata": {
    "colab": {
      "name": "MLModel-FINAL.ipynb",
      "provenance": [],
      "collapsed_sections": [],
      "include_colab_link": true
    },
    "interpreter": {
      "hash": "99fae7d265480b5fbb0cf965db398c4d2d7b17b55f6259418c7dbfe0de01ea90"
    },
    "kernelspec": {
      "display_name": "Python 3 (ipykernel)",
      "language": "python",
      "name": "python3"
    },
    "language_info": {
      "codemirror_mode": {
        "name": "ipython",
        "version": 3
      },
      "file_extension": ".py",
      "mimetype": "text/x-python",
      "name": "python",
      "nbconvert_exporter": "python",
      "pygments_lexer": "ipython3",
      "version": "3.9.12"
    }
  },
  "nbformat": 4,
  "nbformat_minor": 0
}