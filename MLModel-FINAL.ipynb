{
  "cells": [
    {
      "cell_type": "markdown",
      "metadata": {
        "id": "view-in-github",
        "colab_type": "text"
      },
      "source": [
        "<a href=\"https://colab.research.google.com/github/swicklund/hackathon/blob/main/MLModel-FINAL.ipynb\" target=\"_parent\"><img src=\"https://colab.research.google.com/assets/colab-badge.svg\" alt=\"Open In Colab\"/></a>"
      ]
    },
    {
      "cell_type": "code",
      "execution_count": 1,
      "metadata": {
        "id": "f18J8QM17E0a",
        "outputId": "85ffb081-0926-4deb-c7e8-44f854c9ab30",
        "colab": {
          "base_uri": "https://localhost:8080/"
        }
      },
      "outputs": [
        {
          "output_type": "stream",
          "name": "stdout",
          "text": [
            "\u001b[K     |████████████████████████████████| 719 kB 13.5 MB/s \n",
            "\u001b[K     |████████████████████████████████| 1.2 MB 40.9 MB/s \n",
            "\u001b[K     |████████████████████████████████| 362 kB 66.9 MB/s \n",
            "\u001b[K     |████████████████████████████████| 4.4 MB 38.0 MB/s \n",
            "\u001b[K     |████████████████████████████████| 1.1 MB 59.6 MB/s \n",
            "\u001b[K     |████████████████████████████████| 212 kB 61.6 MB/s \n",
            "\u001b[K     |████████████████████████████████| 140 kB 59.8 MB/s \n",
            "\u001b[K     |████████████████████████████████| 101 kB 11.7 MB/s \n",
            "\u001b[K     |████████████████████████████████| 596 kB 45.0 MB/s \n",
            "\u001b[K     |████████████████████████████████| 127 kB 70.9 MB/s \n",
            "\u001b[K     |████████████████████████████████| 144 kB 50.4 MB/s \n",
            "\u001b[K     |████████████████████████████████| 271 kB 57.4 MB/s \n",
            "\u001b[K     |████████████████████████████████| 94 kB 4.5 MB/s \n",
            "\u001b[K     |████████████████████████████████| 6.6 MB 35.7 MB/s \n",
            "\u001b[31mERROR: pip's dependency resolver does not currently take into account all the packages that are installed. This behaviour is the source of the following dependency conflicts.\n",
            "datascience 0.10.6 requires folium==0.2.1, but you have folium 0.8.3 which is incompatible.\u001b[0m\n",
            "\u001b[?25hLooking in indexes: https://pypi.org/simple, https://us-python.pkg.dev/colab-wheels/public/simple/\n",
            "Collecting dtreeviz\n",
            "  Downloading dtreeviz-1.3.7.tar.gz (62 kB)\n",
            "\u001b[K     |████████████████████████████████| 62 kB 1.1 MB/s \n",
            "\u001b[?25hRequirement already satisfied: graphviz>=0.9 in /usr/local/lib/python3.7/dist-packages (from dtreeviz) (0.10.1)\n",
            "Requirement already satisfied: pandas in /usr/local/lib/python3.7/dist-packages (from dtreeviz) (1.3.5)\n",
            "Requirement already satisfied: numpy in /usr/local/lib/python3.7/dist-packages (from dtreeviz) (1.21.6)\n",
            "Requirement already satisfied: scikit-learn in /usr/local/lib/python3.7/dist-packages (from dtreeviz) (1.0.2)\n",
            "Requirement already satisfied: matplotlib in /usr/local/lib/python3.7/dist-packages (from dtreeviz) (3.2.2)\n",
            "Collecting colour\n",
            "  Downloading colour-0.1.5-py2.py3-none-any.whl (23 kB)\n",
            "Requirement already satisfied: pytest in /usr/local/lib/python3.7/dist-packages (from dtreeviz) (3.6.4)\n",
            "Requirement already satisfied: kiwisolver>=1.0.1 in /usr/local/lib/python3.7/dist-packages (from matplotlib->dtreeviz) (1.4.3)\n",
            "Requirement already satisfied: python-dateutil>=2.1 in /usr/local/lib/python3.7/dist-packages (from matplotlib->dtreeviz) (2.8.2)\n",
            "Requirement already satisfied: cycler>=0.10 in /usr/local/lib/python3.7/dist-packages (from matplotlib->dtreeviz) (0.11.0)\n",
            "Requirement already satisfied: pyparsing!=2.0.4,!=2.1.2,!=2.1.6,>=2.0.1 in /usr/local/lib/python3.7/dist-packages (from matplotlib->dtreeviz) (3.0.9)\n",
            "Requirement already satisfied: typing-extensions in /usr/local/lib/python3.7/dist-packages (from kiwisolver>=1.0.1->matplotlib->dtreeviz) (4.1.1)\n",
            "Requirement already satisfied: six>=1.5 in /usr/local/lib/python3.7/dist-packages (from python-dateutil>=2.1->matplotlib->dtreeviz) (1.15.0)\n",
            "Requirement already satisfied: pytz>=2017.3 in /usr/local/lib/python3.7/dist-packages (from pandas->dtreeviz) (2022.1)\n",
            "Requirement already satisfied: more-itertools>=4.0.0 in /usr/local/lib/python3.7/dist-packages (from pytest->dtreeviz) (8.13.0)\n",
            "Requirement already satisfied: pluggy<0.8,>=0.5 in /usr/local/lib/python3.7/dist-packages (from pytest->dtreeviz) (0.7.1)\n",
            "Requirement already satisfied: py>=1.5.0 in /usr/local/lib/python3.7/dist-packages (from pytest->dtreeviz) (1.11.0)\n",
            "Requirement already satisfied: setuptools in /usr/local/lib/python3.7/dist-packages (from pytest->dtreeviz) (57.4.0)\n",
            "Requirement already satisfied: atomicwrites>=1.0 in /usr/local/lib/python3.7/dist-packages (from pytest->dtreeviz) (1.4.0)\n",
            "Requirement already satisfied: attrs>=17.4.0 in /usr/local/lib/python3.7/dist-packages (from pytest->dtreeviz) (21.4.0)\n",
            "Requirement already satisfied: scipy>=1.1.0 in /usr/local/lib/python3.7/dist-packages (from scikit-learn->dtreeviz) (1.4.1)\n",
            "Requirement already satisfied: joblib>=0.11 in /usr/local/lib/python3.7/dist-packages (from scikit-learn->dtreeviz) (1.1.0)\n",
            "Requirement already satisfied: threadpoolctl>=2.0.0 in /usr/local/lib/python3.7/dist-packages (from scikit-learn->dtreeviz) (3.1.0)\n",
            "Building wheels for collected packages: dtreeviz\n",
            "  Building wheel for dtreeviz (setup.py) ... \u001b[?25l\u001b[?25hdone\n",
            "  Created wheel for dtreeviz: filename=dtreeviz-1.3.7-py3-none-any.whl size=68151 sha256=e730cd32f4a634a556c91f52d790432481c1da65bbe31551a7deedf9ff2792f8\n",
            "  Stored in directory: /root/.cache/pip/wheels/bf/ba/9f/87c689d8d3c2916793f2dccc57d3dc3b283e0ccf8cb4ca4cad\n",
            "Successfully built dtreeviz\n",
            "Installing collected packages: colour, dtreeviz\n",
            "Successfully installed colour-0.1.5 dtreeviz-1.3.7\n",
            "Updated property [core/project].\n",
            "Mounted at /content/gdrive\n"
          ]
        }
      ],
      "source": [
        "!pip install -Uqq fastbook\n",
        "!pip install dtreeviz\n",
        "!gcloud config set project {'hackathon-352519'}\n",
        "\n",
        "import os\n",
        "\n",
        "import IPython\n",
        "import IPython.display\n",
        "import matplotlib as mpl\n",
        "import matplotlib.pyplot as plt\n",
        "import numpy as np\n",
        "import pandas as pd\n",
        "from pandas.io.json import json_normalize\n",
        "import seaborn as sns\n",
        "import json\n",
        "import zipfile\n",
        "from io import BytesIO\n",
        "import math\n",
        "from google.colab import files\n",
        "from google.colab import auth\n",
        "from datetime import datetime, timedelta\n",
        "from pandas.api.types import is_string_dtype, is_numeric_dtype, is_categorical_dtype\n",
        "from IPython.display import Image, display_svg, SVG\n",
        "\n",
        "import tensorflow as tf\n",
        "import torch\n",
        "import fastbook as fastai\n",
        "fastai.setup_book()\n",
        "from fastai import tabular\n",
        "from fastai.tabular.all import *\n",
        "from sklearn.ensemble import RandomForestRegressor\n",
        "from sklearn.tree import DecisionTreeRegressor\n",
        "from dtreeviz.trees import *\n",
        "\n",
        "pd.options.display.max_rows = 20\n",
        "pd.options.display.max_columns = 8\n",
        "auth.authenticate_user()\n"
      ]
    },
    {
      "cell_type": "code",
      "source": [
        "#filename = \"train-data_all-train-events.zip\"\n",
        "#filename = \"train-data-2022062020220626.zip\"\n",
        "\n",
        "#events-20-min includes reports for all trains in the a 2 week window reporting at most every 20 minutes \n",
        "#filename = \"train-events-20-min.zip\"\n",
        "\n",
        "#Train reportings 15 minutes apart - everything we have collected\n",
        "filename = \"train-data-master.zip\"\n",
        "\n",
        "# miles answers the question \"what spped will this train be moving in X miles (technically at milepost +/-X)\"\n",
        "#measurement = { 'unit' : 'miles', 'size' : 1.0 }\n",
        "\n",
        "# minutes answers the question : what speed will this train be moving in X Minutes\n",
        "#measurement = { 'unit' : 'minutes', 'size' : 90.0 }\n",
        "\n",
        "#dep_var = 'nextSpeed'\n",
        "\n",
        "# milepost answers the question \"What milepost will this train be at in X Minutes\"\n",
        "measurement = { 'unit' : 'milepost', 'size' : 30.0 }\n",
        "\n",
        "dep_var = 'nextValue'\n",
        "\n",
        "#Determines the portion of data to train versus validate\n",
        "dataCutpoint = .80"
      ],
      "metadata": {
        "id": "M3W7KKZc8f92"
      },
      "execution_count": 2,
      "outputs": []
    },
    {
      "cell_type": "code",
      "source": [
        "!gsutil cp gs://trains_data/$filename /tmp/."
      ],
      "metadata": {
        "id": "srQJL7OKVRww",
        "colab": {
          "base_uri": "https://localhost:8080/"
        },
        "outputId": "9d9cfd00-5b18-4bae-b61d-9cb7894b1131"
      },
      "execution_count": 3,
      "outputs": [
        {
          "output_type": "stream",
          "name": "stdout",
          "text": [
            "Copying gs://trains_data/train-data-master.zip...\n",
            "| [1 files][236.7 MiB/236.7 MiB]                                                \n",
            "Operation completed over 1 objects/236.7 MiB.                                    \n"
          ]
        }
      ]
    },
    {
      "cell_type": "code",
      "execution_count": 4,
      "metadata": {
        "id": "ckXLQ7eQ7E0c",
        "colab": {
          "base_uri": "https://localhost:8080/"
        },
        "outputId": "eb0c886d-5b0a-4378-c7f7-04f22b1f73df"
      },
      "outputs": [
        {
          "output_type": "stream",
          "name": "stdout",
          "text": [
            "1000   19:35:21\n",
            "2000   19:35:32\n",
            "3000   19:35:45\n",
            "4000   19:35:56\n",
            "5000   19:36:04\n",
            "6000   19:36:09\n",
            "7000   19:36:19\n",
            "8000   19:36:26\n",
            "9000   19:36:34\n",
            "10000   19:36:39\n",
            "11000   19:36:45\n",
            "12000   19:36:51\n",
            "13000   19:36:56\n",
            "14000   19:37:02\n",
            "15000   19:37:06\n",
            "16000   19:37:12\n",
            "17000   19:37:16\n",
            "18000   19:37:23\n",
            "19000   19:37:27\n",
            "20000   19:37:33\n",
            "21000   19:37:37\n",
            "22000   19:37:43\n",
            "23000   19:37:47\n",
            "24000   19:37:51\n",
            "25000   19:37:58\n",
            "26000   19:38:02\n",
            "27000   19:38:05\n",
            "28000   19:38:12\n",
            "29000   19:38:16\n",
            "30000   19:38:22\n",
            "31000   19:38:31\n",
            "32000   19:38:35\n",
            "33000   19:38:39\n",
            "34000   19:38:47\n",
            "35000   19:38:51\n",
            "36000   19:38:54\n",
            "37000   19:38:58\n",
            "38000   19:39:08\n"
          ]
        }
      ],
      "source": [
        "trains = {}\n",
        "i = 1\n",
        "with zipfile.ZipFile(\"/tmp/\"+filename, \"r\") as f:\n",
        "    for name in f.namelist():\n",
        "        if name.endswith('.json'):\n",
        "            with f.open(name) as zd:\n",
        "                data = json.load(zd)\n",
        "                lastTrainReporting = data['lastTrainReporting']\n",
        "                currentLoco = lastTrainReporting['ptcLeadLocomotiveId']\n",
        "                if (\"trainActualPositionList\" in lastTrainReporting and len(lastTrainReporting['trainActualPositionList']) > 0): \n",
        "                    trains[i] = pd.json_normalize(lastTrainReporting)\n",
        "                    i = i + 1\n",
        "                    if (i % 1000 == 0):\n",
        "                      print(i, \" \", datetime.now().strftime(\"%H:%M:%S\"))\n",
        "                            "
      ]
    },
    {
      "cell_type": "code",
      "execution_count": 5,
      "metadata": {
        "id": "lgWV768N7E0d"
      },
      "outputs": [],
      "source": [
        "dfTrainsAll = pd.concat(trains.values())"
      ]
    },
    {
      "cell_type": "code",
      "source": [
        "del trains"
      ],
      "metadata": {
        "id": "Q581UU9nCWZ1"
      },
      "execution_count": 6,
      "outputs": []
    },
    {
      "cell_type": "code",
      "source": [
        "dfTrainsAll[\"milepost\"] = dfTrainsAll.apply(lambda row: math.trunc(row['lastReportedPosition.milepostLocation.milepost.milepostNumber']), axis=1)"
      ],
      "metadata": {
        "id": "l_CdLQUE8i18"
      },
      "execution_count": 7,
      "outputs": []
    },
    {
      "cell_type": "markdown",
      "source": [
        "Filter out MP outside of Boone"
      ],
      "metadata": {
        "id": "_AbzR6hBI5hX"
      }
    },
    {
      "cell_type": "code",
      "source": [
        "dfTrainsAll = dfTrainsAll[dfTrainsAll['milepost'] < 327]\n",
        "dfTrainsAll = dfTrainsAll[dfTrainsAll['milepost'] > 201]\n"
      ],
      "metadata": {
        "id": "7gsCOmhV8lql"
      },
      "execution_count": 8,
      "outputs": []
    },
    {
      "cell_type": "code",
      "execution_count": 9,
      "metadata": {
        "id": "Idznxze77E0e",
        "colab": {
          "base_uri": "https://localhost:8080/"
        },
        "outputId": "c21edf39-3048-4bf9-879a-fb2ef5f10918"
      },
      "outputs": [
        {
          "output_type": "stream",
          "name": "stdout",
          "text": [
            "<class 'pandas.core.frame.DataFrame'>\n",
            "Int64Index: 29770 entries, 0 to 0\n",
            "Data columns (total 37 columns):\n",
            " #   Column                                                         Non-Null Count  Dtype  \n",
            "---  ------                                                         --------------  -----  \n",
            " 0   ptcLeadLocomotiveId                                            29770 non-null  object \n",
            " 1   positionHistoryList                                            29770 non-null  object \n",
            " 2   locomotiveList                                                 29770 non-null  object \n",
            " 3   subdivisionList                                                29770 non-null  object \n",
            " 4   trainEstimatedPositionList                                     29770 non-null  object \n",
            " 5   trainActualPositionList                                        29770 non-null  object \n",
            " 6   trainId.trainSCAC                                              29728 non-null  object \n",
            " 7   trainId.trainSection                                           29770 non-null  object \n",
            " 8   trainId.trainSymbol                                            29770 non-null  object \n",
            " 9   trainId.trainDate                                              29770 non-null  object \n",
            " 10  lastReportedPosition.positionTime                              29770 non-null  object \n",
            " 11  lastReportedPosition.speedMPH                                  29770 non-null  int64  \n",
            " 12  lastReportedPosition.milepostLocation.subdivisionId            29770 non-null  int64  \n",
            " 13  lastReportedPosition.milepostLocation.trackName                29770 non-null  object \n",
            " 14  lastReportedPosition.milepostLocation.milepost.milepostNumber  29770 non-null  float64\n",
            " 15  aotuTrainData.priorityCode                                     29761 non-null  float64\n",
            " 16  aotuTrainData.categoryCode                                     29761 non-null  float64\n",
            " 17  aotuTrainData.authorityRangeCode                               29761 non-null  float64\n",
            " 18  aotuTrainData.ownershipCode                                    29761 non-null  float64\n",
            " 19  aotuTrainData.tenantCarrier                                    29761 non-null  object \n",
            " 20  aotuTrainData.totalCarWeight                                   29761 non-null  float64\n",
            " 21  aotuTrainData.totalCarLength                                   29761 non-null  float64\n",
            " 22  aotuTrainData.totalLocomotiveWeight                            29761 non-null  float64\n",
            " 23  aotuTrainData.totalLocomotiveLength                            29761 non-null  float64\n",
            " 24  aotuTrainData.actualTonsPerAxle                                29761 non-null  float64\n",
            " 25  aotuTrainData.heavy143TonCarCount                              29761 non-null  float64\n",
            " 26  aotuTrainData.heavy158TonCarCount                              29761 non-null  float64\n",
            " 27  aotuTrainData.over158TonCarCount                               29761 non-null  float64\n",
            " 28  aotuTrainData.highWideCarCount                                 29761 non-null  float64\n",
            " 29  aotuTrainData.eventCode                                        29761 non-null  float64\n",
            " 30  aotuTrainData.routeLocationList                                29761 non-null  object \n",
            " 31  maximumTrainSpeed                                              29583 non-null  float64\n",
            " 32  loadedCarCount                                                 29583 non-null  float64\n",
            " 33  emptyCarCount                                                  29583 non-null  float64\n",
            " 34  trainLength                                                    29583 non-null  float64\n",
            " 35  trailingTonnage                                                29583 non-null  float64\n",
            " 36  milepost                                                       29770 non-null  int64  \n",
            "dtypes: float64(20), int64(3), object(14)\n",
            "memory usage: 8.6+ MB\n",
            "None\n",
            "(29770, 37)\n"
          ]
        }
      ],
      "source": [
        "print(dfTrainsAll.info())\n",
        "print(dfTrainsAll.shape)"
      ]
    },
    {
      "cell_type": "markdown",
      "source": [
        "# Create a learning set to modify"
      ],
      "metadata": {
        "id": "D2hF44lYkNIf"
      }
    },
    {
      "cell_type": "code",
      "source": [
        "dfTrainsLearn = dfTrainsAll"
      ],
      "metadata": {
        "id": "it2dDKRfbk0_"
      },
      "execution_count": 10,
      "outputs": []
    },
    {
      "cell_type": "markdown",
      "source": [
        "Clear the nan values and replace with max values."
      ],
      "metadata": {
        "id": "d5b2nVAbkR7M"
      }
    },
    {
      "cell_type": "code",
      "source": [
        "dfTrainsLearn['loadedCarCount'] =  dfTrainsLearn['loadedCarCount'].replace(np.nan, 999.)\n",
        "dfTrainsLearn['emptyCarCount'] =  dfTrainsLearn['emptyCarCount'].replace(np.nan, 999.)\n",
        "dfTrainsLearn['trainLength'] =  dfTrainsLearn['trainLength'].replace(np.nan, 99999.)\n",
        "dfTrainsLearn['trailingTonnage'] =  dfTrainsLearn['trailingTonnage'].replace(np.nan, 99999.)"
      ],
      "metadata": {
        "id": "jTMp9nMBZav1"
      },
      "execution_count": 11,
      "outputs": []
    },
    {
      "cell_type": "markdown",
      "source": [
        "Determine if the train is moving milepost Increasing or decreasing."
      ],
      "metadata": {
        "id": "2yxcbslMj-uZ"
      }
    },
    {
      "cell_type": "code",
      "source": [
        "dfTrainsLearn['mpIncr'] = dfTrainsLearn.apply(lambda row: row['lastReportedPosition.speedMPH'] >= 0, axis=1)"
      ],
      "metadata": {
        "id": "-XDkAezxjVGH"
      },
      "execution_count": 12,
      "outputs": []
    },
    {
      "cell_type": "markdown",
      "source": [
        "Make all speeds positive"
      ],
      "metadata": {
        "id": "_Nge0iAIkFTV"
      }
    },
    {
      "cell_type": "code",
      "source": [
        "dfTrainsLearn['lastReportedPosition.speedMPH']  = dfTrainsLearn.apply(lambda row: abs(row['lastReportedPosition.speedMPH']), axis=1)\n",
        "dfTrainsLearn['maximumTrainSpeed']  = dfTrainsLearn.apply(lambda row: abs(row['maximumTrainSpeed']), axis=1)"
      ],
      "metadata": {
        "id": "TjMlCKaoxbMw"
      },
      "execution_count": 13,
      "outputs": []
    },
    {
      "cell_type": "code",
      "source": [
        "print(\"Speed Distribution:\")\n",
        "dfTrainsLearn['lastReportedPosition.speedMPH'].hist(bins=90)"
      ],
      "metadata": {
        "id": "KWQaxYZ3yC1f",
        "colab": {
          "base_uri": "https://localhost:8080/",
          "height": 300
        },
        "outputId": "335f3c13-bbb2-463f-8905-dd62eac2cbb7"
      },
      "execution_count": 14,
      "outputs": [
        {
          "output_type": "stream",
          "name": "stdout",
          "text": [
            "Speed Distribution:\n"
          ]
        },
        {
          "output_type": "execute_result",
          "data": {
            "text/plain": [
              "<matplotlib.axes._subplots.AxesSubplot at 0x7f43ca279b50>"
            ]
          },
          "metadata": {},
          "execution_count": 14
        },
        {
          "output_type": "display_data",
          "data": {
            "text/plain": [
              "<Figure size 432x288 with 1 Axes>"
            ],
            "image/png": "[encoded data removed]"
          },
          "metadata": {
            "needs_background": "light"
          }
        }
      ]
    },
    {
      "cell_type": "markdown",
      "source": [
        "Replace the NaN values in AOTU with zeros"
      ],
      "metadata": {
        "id": "hQ65ocjckk-s"
      }
    },
    {
      "cell_type": "code",
      "source": [
        "aotuColumns = [item for item in dfTrainsLearn.columns if item.startswith('aotu')]\n",
        "for column in aotuColumns:\n",
        "  dfTrainsLearn[column] =  dfTrainsLearn[column].replace(np.nan, 0.)"
      ],
      "metadata": {
        "id": "IjhK53fef5eG"
      },
      "execution_count": 15,
      "outputs": []
    },
    {
      "cell_type": "markdown",
      "source": [
        "Categorize the applicable variables"
      ],
      "metadata": {
        "id": "Skh2x30Ao2aj"
      }
    },
    {
      "cell_type": "code",
      "source": [
        "def categorize(aDataFrame, columnName, defaultReplacement):\n",
        "  aDataFrame[columnName] = aDataFrame[columnName].fillna(value=defaultReplacement)\n",
        "  categories = aDataFrame[columnName].unique()\n",
        "  print(aDataFrame[columnName].unique())\n",
        "  aDataFrame[columnName] = aDataFrame[columnName].astype('category')\n",
        "  aDataFrame[columnName] = aDataFrame[columnName].cat.set_categories(categories)\n",
        "  return aDataFrame"
      ],
      "metadata": {
        "id": "FPO5BUrpVl5t"
      },
      "execution_count": 16,
      "outputs": []
    },
    {
      "cell_type": "code",
      "source": [
        "dfTrainsLearn['symbolType'] = dfTrainsLearn.apply(lambda row: row['trainId.trainSymbol'][:1], axis=1)\n",
        "dfTrainsLearn = categorize(dfTrainsLearn, 'symbolType', \"X\")\n",
        "dfTrainsLearn = categorize(dfTrainsLearn, 'lastReportedPosition.milepostLocation.trackName', \"UNKNOWN\")\n",
        "dfTrainsLearn = categorize(dfTrainsLearn, 'trainId.trainSCAC',\"UNK\")\n",
        "dfTrainsLearn = categorize(dfTrainsLearn, 'trainId.trainSection', ' ')\n",
        "dfTrainsLearn = categorize(dfTrainsLearn, 'aotuTrainData.priorityCode', 0)  # may want to order these\n",
        "dfTrainsLearn = categorize(dfTrainsLearn, 'aotuTrainData.categoryCode', 0)\n",
        "dfTrainsLearn = categorize(dfTrainsLearn, 'aotuTrainData.authorityRangeCode', 0)\n",
        "dfTrainsLearn = categorize(dfTrainsLearn, 'aotuTrainData.ownershipCode', 0)\n",
        "dfTrainsLearn = categorize(dfTrainsLearn, 'aotuTrainData.tenantCarrier', \"0\")\n",
        "dfTrainsLearn = categorize(dfTrainsLearn, 'aotuTrainData.eventCode', 0)\n",
        " "
      ],
      "metadata": {
        "colab": {
          "base_uri": "https://localhost:8080/"
        },
        "id": "CKDKREgdNRGT",
        "outputId": "154d7472-30c2-41f0-d633-9aa99ef98e29"
      },
      "execution_count": 17,
      "outputs": [
        {
          "output_type": "stream",
          "name": "stdout",
          "text": [
            "['M' 'U' 'E' 'G' 'C' 'A' 'I' 'W' 'Z' 'S' 'L' 'P']\n",
            "['MT 1' 'MT 2' 'EASTXO' 'N SIDING' 'WESTXO' 'YD LD' '136' 'XO' '806' '405' '113']\n",
            "['UP' 'UNK']\n",
            "['' '2']\n",
            "[4. 1. 3. 0.]\n",
            "[12.  8. 15.  4.  2. 10. 19. 17. 11. 14.  0.]\n",
            "[2. 1. 0.]\n",
            "[2. 3. 0.]\n",
            "['' 0.0]\n",
            "[0.]\n"
          ]
        }
      ]
    },
    {
      "cell_type": "markdown",
      "source": [
        "Replace unknown max speeds with 88 miles per hour (to make them recognizable)"
      ],
      "metadata": {
        "id": "5fP9phXQlAXf"
      }
    },
    {
      "cell_type": "code",
      "source": [
        "dfTrainsLearn['maximumTrainSpeed'] =  dfTrainsLearn['maximumTrainSpeed'].replace(np.nan, 88.)\n",
        "print(dfTrainsLearn['maximumTrainSpeed'].unique())"
      ],
      "metadata": {
        "id": "ZTAgIeMJeHmz",
        "colab": {
          "base_uri": "https://localhost:8080/"
        },
        "outputId": "e42bbe9c-ad91-46d0-f338-40f87d85bdaa"
      },
      "execution_count": 18,
      "outputs": [
        {
          "output_type": "stream",
          "name": "stdout",
          "text": [
            "[60. 70. 50. 40. 88. 45. 79.  0. 30.]\n"
          ]
        }
      ]
    },
    {
      "cell_type": "markdown",
      "source": [
        "Flatten out the work locations (we may want to change this for the NN algorithm)"
      ],
      "metadata": {
        "id": "Dv-loghjlK_w"
      }
    },
    {
      "cell_type": "code",
      "source": [
        "def getWorkLocations(dfTrainsLocation):\n",
        "  if isinstance(dfTrainsLocation['aotuTrainData.routeLocationList'], float):\n",
        "    return None\n",
        "  if len(dfTrainsLocation['aotuTrainData.routeLocationList']) == 0:\n",
        "    return None\n",
        "  aotuRoute=pd.json_normalize(dfTrainsLocation['aotuTrainData.routeLocationList']) \n",
        "  eventLocations = aotuRoute[aotuRoute['activityList'].map(len) > 1]\n",
        "  temp = eventLocations['milepost.milepostNumber'].unique()\n",
        "  if len(temp) == 0:\n",
        "    return None\n",
        "  return ','.join(['%.2f' % num for num in temp])"
      ],
      "metadata": {
        "id": "TsYgT41SKyAn"
      },
      "execution_count": 19,
      "outputs": []
    },
    {
      "cell_type": "code",
      "source": [
        "dfTrainsLearn['workLocations'] = dfTrainsLearn.apply(lambda row: getWorkLocations(row), axis=1)"
      ],
      "metadata": {
        "id": "5sNuNU-iSgFy"
      },
      "execution_count": 20,
      "outputs": []
    },
    {
      "cell_type": "code",
      "source": [
        "dfTrainsLearn['workLocations'].unique()"
      ],
      "metadata": {
        "id": "jA6cNsHR8VSr",
        "colab": {
          "base_uri": "https://localhost:8080/"
        },
        "outputId": "38156495-c4ed-4431-ad47-4eb6d79cfe0f"
      },
      "execution_count": 21,
      "outputs": [
        {
          "output_type": "execute_result",
          "data": {
            "text/plain": [
              "array(['202.20', '258.40,202.20', None, '225.10', '202.20,258.40,321.50', '314.52,202.20', '321.50,202.20', '231.80,225.10', '214.50', '225.10,202.20', '202.20,258.40', '202.20,219.70',\n",
              "       '219.70,202.20', '202.20,214.50,225.10,290.80,304.10', '202.20,258.40,225.10', '202.20,219.90,225.10', '202.20,257.60', '250.50,202.20', '268.40,202.20', '258.40,207.60,202.20',\n",
              "       '207.60,202.20', '241.00,202.20', '258.40,219.70,202.20', '202.20,314.52', '202.92,202.20', '214.50,225.10,290.80,304.10,202.20', '290.80,258.40,231.80,202.20', '202.20,290.80',\n",
              "       '202.20,299.75', '314.52,225.10,202.20', '202.20,219.70,277.50', '202.20,293.10', '202.20,304.10', '321.50,314.52,202.20', '202.20,240.90', '202.20,265.30', '265.30,202.20', '202.20,286.40',\n",
              "       '240.90,207.60,202.20', '250.50,245.90,202.20', '219.70', '202.20,312.80', '321.50,240.90,202.20', '240.90,202.20', '202.20,207.60', '202.20,225.10', '326.20,214.50', '214.50,202.20',\n",
              "       '240.90,214.50,202.20', '278.10,258.40,202.20', '202.20,258.40,314.52', '258.40,250.50,202.20', '214.50,225.10,290.80,304.10', '202.20,262.60', '202.20,268.40', '258.40,216.70,202.20',\n",
              "       '202.20,258.40,304.10,321.50', '299.75,202.20', '321.50,225.10,202.20', '314.52,265.30,225.10,202.20', '250.50,219.70,202.20', '202.20,219.70,258.40,321.50', '202.20,321.50', '240.90,225.10',\n",
              "       '286.40,258.40,202.20', '286.40,258.40,207.60,202.20', '257.60,202.20', '202.20,250.50,265.30', '271.50,202.20', '240.90,219.90,202.20', '202.20,219.70,258.40', '216.70,202.20',\n",
              "       '321.50,207.60,202.20', '202.20,250.50', '321.50,250.50,245.90,202.20', '202.20,258.40,321.50,265.30', '202.20,258.40,265.30,321.50', '202.20,258.40,265.30,312.80,321.50',\n",
              "       '202.20,240.90,314.52', '202.20,202.92', '202.20,326.20', '258.40,225.10,202.20', '250.50,231.80,202.20', '250.50,245.90,231.80,202.20'], dtype=object)"
            ]
          },
          "metadata": {},
          "execution_count": 21
        }
      ]
    },
    {
      "cell_type": "markdown",
      "source": [
        "determine the locomotive count from the locomotive list.  We can make this more clever later, but for now this seems the most sensible shortcut"
      ],
      "metadata": {
        "id": "-AZiJPI24QO9"
      }
    },
    {
      "cell_type": "code",
      "source": [
        "dfTrainsLearn['locomotiveCount'] = dfTrainsLearn.apply(lambda row: len(row['locomotiveList']),axis = 1)"
      ],
      "metadata": {
        "id": "LuG8-GNBzwrF"
      },
      "execution_count": 22,
      "outputs": []
    },
    {
      "cell_type": "markdown",
      "source": [
        "Convert the list of actual reportings into a dataframe."
      ],
      "metadata": {
        "id": "Hbv-6WLkrqO2"
      }
    },
    {
      "cell_type": "code",
      "source": [
        "dfTrainsLearnActuals = dfTrainsLearn.apply(lambda row: pd.json_normalize(row['trainActualPositionList']), axis=1)"
      ],
      "metadata": {
        "id": "Ag-KbEfz4Is8"
      },
      "execution_count": 23,
      "outputs": []
    },
    {
      "cell_type": "code",
      "source": [
        ""
      ],
      "metadata": {
        "id": "S2wakhxi7Uso"
      },
      "execution_count": 23,
      "outputs": []
    },
    {
      "cell_type": "code",
      "source": [
        "def showTrain(idx):\n",
        "  print(dfTrainsLearn.iloc[idx]['ptcLeadLocomotiveId'])\n",
        "  print(dfTrainsLearn.iloc[idx]['trainId.trainSymbol'])\n",
        "  print(dfTrainsLearn.iloc[idx]['lastReportedPosition.milepostLocation.subdivisionId'])\n",
        "  print(dfTrainsLearn.iloc[idx]['lastReportedPosition.milepostLocation.trackName'])\n",
        "  print(dfTrainsLearn.iloc[idx]['lastReportedPosition.milepostLocation.milepost.milepostNumber'])"
      ],
      "metadata": {
        "id": "ZuIVv8dvnIpG"
      },
      "execution_count": 24,
      "outputs": []
    },
    {
      "cell_type": "markdown",
      "source": [
        "You can peer into the incoming data here:"
      ],
      "metadata": {
        "id": "VLFBdKgPll2j"
      }
    },
    {
      "cell_type": "code",
      "source": [
        "idx = 1\n",
        "showTrain(idx)\n",
        "dfTrainsLearnActuals.iloc[idx]"
      ],
      "metadata": {
        "id": "r_gdrmU4IgpY",
        "colab": {
          "base_uri": "https://localhost:8080/",
          "height": 510
        },
        "outputId": "ba53e0b0-b8d1-4428-baa1-d28a874139e8"
      },
      "execution_count": 25,
      "outputs": [
        {
          "output_type": "stream",
          "name": "stdout",
          "text": [
            "NS1007\n",
            "MGBNP\n",
            "106\n",
            "MT 1\n",
            "209.8707\n"
          ]
        },
        {
          "output_type": "execute_result",
          "data": {
            "text/plain": [
              "            positionTime  speedMPH  milepostLocation.subdivisionId  \\\n",
              "0   2022-06-09T19:40:07Z         0                             106   \n",
              "1   2022-06-09T19:42:07Z         0                             106   \n",
              "2   2022-06-09T19:44:07Z         5                             106   \n",
              "3   2022-06-09T19:46:07Z        11                             106   \n",
              "4   2022-06-09T19:48:07Z        17                             106   \n",
              "..                   ...       ...                             ...   \n",
              "52  2022-06-09T21:26:07Z        35                             106   \n",
              "53  2022-06-09T21:28:07Z        42                             106   \n",
              "54  2022-06-09T21:30:07Z        49                             106   \n",
              "55  2022-06-09T21:34:07Z        62                             106   \n",
              "56  2022-06-09T21:36:07Z        65                             106   \n",
              "\n",
              "   milepostLocation.trackName  milepostLocation.milepost.milepostNumber  \n",
              "0                        MT 1                                 209.87070  \n",
              "1                        MT 1                                 209.87070  \n",
              "2                        MT 1                                 210.15358  \n",
              "3                        MT 1                                 210.46217  \n",
              "4                        MT 1                                 210.88560  \n",
              "..                        ...                                       ...  \n",
              "52                       MT 1                                 281.16560  \n",
              "53                       MT 1                                 282.40717  \n",
              "54                       MT 1                                 283.95746  \n",
              "55                       MT 1                                 287.82657  \n",
              "56                       MT 1                                 289.98170  \n",
              "\n",
              "[57 rows x 5 columns]"
            ],
            "text/html": [
              "\n",
              "  <div id=\"df-ba8d6120-2c1f-4415-a61f-106b0674a181\">\n",
              "    <div class=\"colab-df-container\">\n",
              "      <div>\n",
              "<style scoped>\n",
              "    .dataframe tbody tr th:only-of-type {\n",
              "        vertical-align: middle;\n",
              "    }\n",
              "\n",
              "    .dataframe tbody tr th {\n",
              "        vertical-align: top;\n",
              "    }\n",
              "\n",
              "    .dataframe thead th {\n",
              "        text-align: right;\n",
              "    }\n",
              "</style>\n",
              "<table border=\"1\" class=\"dataframe\">\n",
              "  <thead>\n",
              "    <tr style=\"text-align: right;\">\n",
              "      <th></th>\n",
              "      <th>positionTime</th>\n",
              "      <th>speedMPH</th>\n",
              "      <th>milepostLocation.subdivisionId</th>\n",
              "      <th>milepostLocation.trackName</th>\n",
              "      <th>milepostLocation.milepost.milepostNumber</th>\n",
              "    </tr>\n",
              "  </thead>\n",
              "  <tbody>\n",
              "    <tr>\n",
              "      <th>0</th>\n",
              "      <td>2022-06-09T19:40:07Z</td>\n",
              "      <td>0</td>\n",
              "      <td>106</td>\n",
              "      <td>MT 1</td>\n",
              "      <td>209.87070</td>\n",
              "    </tr>\n",
              "    <tr>\n",
              "      <th>1</th>\n",
              "      <td>2022-06-09T19:42:07Z</td>\n",
              "      <td>0</td>\n",
              "      <td>106</td>\n",
              "      <td>MT 1</td>\n",
              "      <td>209.87070</td>\n",
              "    </tr>\n",
              "    <tr>\n",
              "      <th>2</th>\n",
              "      <td>2022-06-09T19:44:07Z</td>\n",
              "      <td>5</td>\n",
              "      <td>106</td>\n",
              "      <td>MT 1</td>\n",
              "      <td>210.15358</td>\n",
              "    </tr>\n",
              "    <tr>\n",
              "      <th>3</th>\n",
              "      <td>2022-06-09T19:46:07Z</td>\n",
              "      <td>11</td>\n",
              "      <td>106</td>\n",
              "      <td>MT 1</td>\n",
              "      <td>210.46217</td>\n",
              "    </tr>\n",
              "    <tr>\n",
              "      <th>4</th>\n",
              "      <td>2022-06-09T19:48:07Z</td>\n",
              "      <td>17</td>\n",
              "      <td>106</td>\n",
              "      <td>MT 1</td>\n",
              "      <td>210.88560</td>\n",
              "    </tr>\n",
              "    <tr>\n",
              "      <th>...</th>\n",
              "      <td>...</td>\n",
              "      <td>...</td>\n",
              "      <td>...</td>\n",
              "      <td>...</td>\n",
              "      <td>...</td>\n",
              "    </tr>\n",
              "    <tr>\n",
              "      <th>52</th>\n",
              "      <td>2022-06-09T21:26:07Z</td>\n",
              "      <td>35</td>\n",
              "      <td>106</td>\n",
              "      <td>MT 1</td>\n",
              "      <td>281.16560</td>\n",
              "    </tr>\n",
              "    <tr>\n",
              "      <th>53</th>\n",
              "      <td>2022-06-09T21:28:07Z</td>\n",
              "      <td>42</td>\n",
              "      <td>106</td>\n",
              "      <td>MT 1</td>\n",
              "      <td>282.40717</td>\n",
              "    </tr>\n",
              "    <tr>\n",
              "      <th>54</th>\n",
              "      <td>2022-06-09T21:30:07Z</td>\n",
              "      <td>49</td>\n",
              "      <td>106</td>\n",
              "      <td>MT 1</td>\n",
              "      <td>283.95746</td>\n",
              "    </tr>\n",
              "    <tr>\n",
              "      <th>55</th>\n",
              "      <td>2022-06-09T21:34:07Z</td>\n",
              "      <td>62</td>\n",
              "      <td>106</td>\n",
              "      <td>MT 1</td>\n",
              "      <td>287.82657</td>\n",
              "    </tr>\n",
              "    <tr>\n",
              "      <th>56</th>\n",
              "      <td>2022-06-09T21:36:07Z</td>\n",
              "      <td>65</td>\n",
              "      <td>106</td>\n",
              "      <td>MT 1</td>\n",
              "      <td>289.98170</td>\n",
              "    </tr>\n",
              "  </tbody>\n",
              "</table>\n",
              "<p>57 rows × 5 columns</p>\n",
              "</div>\n",
              "      <button class=\"colab-df-convert\" onclick=\"convertToInteractive('df-ba8d6120-2c1f-4415-a61f-106b0674a181')\"\n",
              "              title=\"Convert this dataframe to an interactive table.\"\n",
              "              style=\"display:none;\">\n",
              "        \n",
              "  <svg xmlns=\"http://www.w3.org/2000/svg\" height=\"24px\"viewBox=\"0 0 24 24\"\n",
              "       width=\"24px\">\n",
              "    <path d=\"M0 0h24v24H0V0z\" fill=\"none\"/>\n",
              "    <path d=\"M18.56 5.44l.94 2.06.94-2.06 2.06-.94-2.06-.94-.94-2.06-.94 2.06-2.06.94zm-11 1L8.5 8.5l.94-2.06 2.06-.94-2.06-.94L8.5 2.5l-.94 2.06-2.06.94zm10 10l.94 2.06.94-2.06 2.06-.94-2.06-.94-.94-2.06-.94 2.06-2.06.94z\"/><path d=\"M17.41 7.96l-1.37-1.37c-.4-.4-.92-.59-1.43-.59-.52 0-1.04.2-1.43.59L10.3 9.45l-7.72 7.72c-.78.78-.78 2.05 0 2.83L4 21.41c.39.39.9.59 1.41.59.51 0 1.02-.2 1.41-.59l7.78-7.78 2.81-2.81c.8-.78.8-2.07 0-2.86zM5.41 20L4 18.59l7.72-7.72 1.47 1.35L5.41 20z\"/>\n",
              "  </svg>\n",
              "      </button>\n",
              "      \n",
              "  <style>\n",
              "    .colab-df-container {\n",
              "      display:flex;\n",
              "      flex-wrap:wrap;\n",
              "      gap: 12px;\n",
              "    }\n",
              "\n",
              "    .colab-df-convert {\n",
              "      background-color: #E8F0FE;\n",
              "      border: none;\n",
              "      border-radius: 50%;\n",
              "      cursor: pointer;\n",
              "      display: none;\n",
              "      fill: #1967D2;\n",
              "      height: 32px;\n",
              "      padding: 0 0 0 0;\n",
              "      width: 32px;\n",
              "    }\n",
              "\n",
              "    .colab-df-convert:hover {\n",
              "      background-color: #E2EBFA;\n",
              "      box-shadow: 0px 1px 2px rgba(60, 64, 67, 0.3), 0px 1px 3px 1px rgba(60, 64, 67, 0.15);\n",
              "      fill: #174EA6;\n",
              "    }\n",
              "\n",
              "    [theme=dark] .colab-df-convert {\n",
              "      background-color: #3B4455;\n",
              "      fill: #D2E3FC;\n",
              "    }\n",
              "\n",
              "    [theme=dark] .colab-df-convert:hover {\n",
              "      background-color: #434B5C;\n",
              "      box-shadow: 0px 1px 3px 1px rgba(0, 0, 0, 0.15);\n",
              "      filter: drop-shadow(0px 1px 2px rgba(0, 0, 0, 0.3));\n",
              "      fill: #FFFFFF;\n",
              "    }\n",
              "  </style>\n",
              "\n",
              "      <script>\n",
              "        const buttonEl =\n",
              "          document.querySelector('#df-ba8d6120-2c1f-4415-a61f-106b0674a181 button.colab-df-convert');\n",
              "        buttonEl.style.display =\n",
              "          google.colab.kernel.accessAllowed ? 'block' : 'none';\n",
              "\n",
              "        async function convertToInteractive(key) {\n",
              "          const element = document.querySelector('#df-ba8d6120-2c1f-4415-a61f-106b0674a181');\n",
              "          const dataTable =\n",
              "            await google.colab.kernel.invokeFunction('convertToInteractive',\n",
              "                                                     [key], {});\n",
              "          if (!dataTable) return;\n",
              "\n",
              "          const docLinkHtml = 'Like what you see? Visit the ' +\n",
              "            '<a target=\"_blank\" href=https://colab.research.google.com/notebooks/data_table.ipynb>data table notebook</a>'\n",
              "            + ' to learn more about interactive tables.';\n",
              "          element.innerHTML = '';\n",
              "          dataTable['output_type'] = 'display_data';\n",
              "          await google.colab.output.renderOutput(dataTable, element);\n",
              "          const docLink = document.createElement('div');\n",
              "          docLink.innerHTML = docLinkHtml;\n",
              "          element.appendChild(docLink);\n",
              "        }\n",
              "      </script>\n",
              "    </div>\n",
              "  </div>\n",
              "  "
            ]
          },
          "metadata": {},
          "execution_count": 25
        }
      ]
    },
    {
      "cell_type": "code",
      "source": [
        "dfTrainsBeop =  dfTrainsLearn[['lastReportedPosition.milepostLocation.milepost.milepostNumber','trainEstimatedPositionList']]\n",
        "dfTrainsBeop"
      ],
      "metadata": {
        "id": "1FsMwzd7xSLZ",
        "colab": {
          "base_uri": "https://localhost:8080/",
          "height": 676
        },
        "outputId": "3b94fd6f-67c2-4b27-a4f2-473fc229fe03"
      },
      "execution_count": 26,
      "outputs": [
        {
          "output_type": "execute_result",
          "data": {
            "text/plain": [
              "    lastReportedPosition.milepostLocation.milepost.milepostNumber  \\\n",
              "0                                                        202.2072   \n",
              "0                                                        209.8707   \n",
              "0                                                        216.5130   \n",
              "0                                                        224.2101   \n",
              "0                                                        235.8908   \n",
              "..                                                            ...   \n",
              "0                                                        217.0825   \n",
              "0                                                        215.1352   \n",
              "0                                                        207.0881   \n",
              "0                                                        207.0909   \n",
              "0                                                        206.3006   \n",
              "\n",
              "                                                                                                                                                                                                                                                                                                                                                                                                                                                                                                                                                                                                 trainEstimatedPositionList  \n",
              "0   [{'positionTime': '2022-06-09T19:20:40Z', 'speedMPH': 42, 'milepostLocation': {'subdivisionId': 106, 'trackName': 'MT 1', 'milepost': {'milepostNumber': 202.2072}}}, {'positionTime': '2022-06-09T19:22:40Z', 'speedMPH': 45, 'milepostLocation': {'subdivisionId': 106, 'trackName': 'MT 1', 'milepost': {'milepostNumber': 203.70474}}}, {'positionTime': '2022-06-09T19:24:40Z', 'speedMPH': 49, 'milepostLocation': {'subdivisionId': 106, 'trackName': 'MT 1', 'milepost': {'milepostNumber': 205.29929}}}, {'positionTime': '2022-06-09T19:26:40Z', 'speedMPH': 53, 'milepostLocation': {'subdivisionId': 106...  \n",
              "0                                                                                                                                                                                                                                                                                                                                                                                                                                                                                                                                                                                                                        []  \n",
              "0   [{'positionTime': '2022-06-09T19:54:41Z', 'speedMPH': 26, 'milepostLocation': {'subdivisionId': 106, 'trackName': 'MT 1', 'milepost': {'milepostNumber': 216.513}}}, {'positionTime': '2022-06-09T19:56:41Z', 'speedMPH': 32, 'milepostLocation': {'subdivisionId': 106, 'trackName': 'MT 1', 'milepost': {'milepostNumber': 217.47511}}}, {'positionTime': '2022-06-09T19:58:41Z', 'speedMPH': 38, 'milepostLocation': {'subdivisionId': 106, 'trackName': 'MT 1', 'milepost': {'milepostNumber': 218.65654}}}, {'positionTime': '2022-06-09T20:00:41Z', 'speedMPH': 42, 'milepostLocation': {'subdivisionId': 106,...  \n",
              "0   [{'positionTime': '2022-06-09T20:11:30Z', 'speedMPH': 31, 'milepostLocation': {'subdivisionId': 106, 'trackName': 'MT 1', 'milepost': {'milepostNumber': 224.2101}}}, {'positionTime': '2022-06-09T20:13:30Z', 'speedMPH': 36, 'milepostLocation': {'subdivisionId': 106, 'trackName': 'MT 1', 'milepost': {'milepostNumber': 225.32594}}}, {'positionTime': '2022-06-09T20:15:30Z', 'speedMPH': 41, 'milepostLocation': {'subdivisionId': 106, 'trackName': 'MT 1', 'milepost': {'milepostNumber': 226.61711}}}, {'positionTime': '2022-06-09T20:17:30Z', 'speedMPH': 45, 'milepostLocation': {'subdivisionId': 106...  \n",
              "0   [{'positionTime': '2022-06-09T20:27:41Z', 'speedMPH': 36, 'milepostLocation': {'subdivisionId': 106, 'trackName': 'MT 1', 'milepost': {'milepostNumber': 235.8908}}}, {'positionTime': '2022-06-09T20:29:41Z', 'speedMPH': 40, 'milepostLocation': {'subdivisionId': 106, 'trackName': 'MT 1', 'milepost': {'milepostNumber': 237.54869}}}, {'positionTime': '2022-06-09T20:31:41Z', 'speedMPH': 40, 'milepostLocation': {'subdivisionId': 106, 'trackName': 'MT 1', 'milepost': {'milepostNumber': 238.9238}}}, {'positionTime': '2022-06-09T20:33:41Z', 'speedMPH': 44, 'milepostLocation': {'subdivisionId': 106,...  \n",
              "..                                                                                                                                                                                                                                                                                                                                                                                                                                                                                                                                                                                                                      ...  \n",
              "0                                                                                                                                                                                                                                                                                                                                                                                                                                                                                                                                                                                                                        []  \n",
              "0   [{'positionTime': '2022-06-04T01:18:01Z', 'speedMPH': -16, 'milepostLocation': {'subdivisionId': 106, 'trackName': 'MT 1', 'milepost': {'milepostNumber': 215.1352}}}, {'positionTime': '2022-06-04T01:20:01Z', 'speedMPH': -20, 'milepostLocation': {'subdivisionId': 106, 'trackName': 'MT 1', 'milepost': {'milepostNumber': 214.52847}}}, {'positionTime': '2022-06-04T01:22:01Z', 'speedMPH': -25, 'milepostLocation': {'subdivisionId': 106, 'trackName': 'MT 1', 'milepost': {'milepostNumber': 210.82147}}}, {'positionTime': '2022-06-04T01:24:01Z', 'speedMPH': -28, 'milepostLocation': {'subdivisionId':...  \n",
              "0                                                                                                                                                                                                                                                                                                                                                                                                                                                                                                                                                                                                                        []  \n",
              "0                                                                                                                                                                                                                                                                                                                                                                                                                                                                                                                                                                                                                        []  \n",
              "0   [{'positionTime': '2022-06-04T02:15:37Z', 'speedMPH': -15, 'milepostLocation': {'subdivisionId': 106, 'trackName': 'MT 1', 'milepost': {'milepostNumber': 206.3006}}}, {'positionTime': '2022-06-04T02:17:37Z', 'speedMPH': -20, 'milepostLocation': {'subdivisionId': 106, 'trackName': 'MT 1', 'milepost': {'milepostNumber': 205.7202}}}, {'positionTime': '2022-06-04T02:19:37Z', 'speedMPH': -24, 'milepostLocation': {'subdivisionId': 106, 'trackName': 'MT 1', 'milepost': {'milepostNumber': 204.97374}}}, {'positionTime': '2022-06-04T02:21:37Z', 'speedMPH': -27, 'milepostLocation': {'subdivisionId': ...  \n",
              "\n",
              "[29770 rows x 2 columns]"
            ],
            "text/html": [
              "\n",
              "  <div id=\"df-1dd93a62-89c1-47f2-8662-64a6998663f1\">\n",
              "    <div class=\"colab-df-container\">\n",
              "      <div>\n",
              "<style scoped>\n",
              "    .dataframe tbody tr th:only-of-type {\n",
              "        vertical-align: middle;\n",
              "    }\n",
              "\n",
              "    .dataframe tbody tr th {\n",
              "        vertical-align: top;\n",
              "    }\n",
              "\n",
              "    .dataframe thead th {\n",
              "        text-align: right;\n",
              "    }\n",
              "</style>\n",
              "<table border=\"1\" class=\"dataframe\">\n",
              "  <thead>\n",
              "    <tr style=\"text-align: right;\">\n",
              "      <th></th>\n",
              "      <th>lastReportedPosition.milepostLocation.milepost.milepostNumber</th>\n",
              "      <th>trainEstimatedPositionList</th>\n",
              "    </tr>\n",
              "  </thead>\n",
              "  <tbody>\n",
              "    <tr>\n",
              "      <th>0</th>\n",
              "      <td>202.2072</td>\n",
              "      <td>[{'positionTime': '2022-06-09T19:20:40Z', 'speedMPH': 42, 'milepostLocation': {'subdivisionId': 106, 'trackName': 'MT 1', 'milepost': {'milepostNumber': 202.2072}}}, {'positionTime': '2022-06-09T19:22:40Z', 'speedMPH': 45, 'milepostLocation': {'subdivisionId': 106, 'trackName': 'MT 1', 'milepost': {'milepostNumber': 203.70474}}}, {'positionTime': '2022-06-09T19:24:40Z', 'speedMPH': 49, 'milepostLocation': {'subdivisionId': 106, 'trackName': 'MT 1', 'milepost': {'milepostNumber': 205.29929}}}, {'positionTime': '2022-06-09T19:26:40Z', 'speedMPH': 53, 'milepostLocation': {'subdivisionId': 106...</td>\n",
              "    </tr>\n",
              "    <tr>\n",
              "      <th>0</th>\n",
              "      <td>209.8707</td>\n",
              "      <td>[]</td>\n",
              "    </tr>\n",
              "    <tr>\n",
              "      <th>0</th>\n",
              "      <td>216.5130</td>\n",
              "      <td>[{'positionTime': '2022-06-09T19:54:41Z', 'speedMPH': 26, 'milepostLocation': {'subdivisionId': 106, 'trackName': 'MT 1', 'milepost': {'milepostNumber': 216.513}}}, {'positionTime': '2022-06-09T19:56:41Z', 'speedMPH': 32, 'milepostLocation': {'subdivisionId': 106, 'trackName': 'MT 1', 'milepost': {'milepostNumber': 217.47511}}}, {'positionTime': '2022-06-09T19:58:41Z', 'speedMPH': 38, 'milepostLocation': {'subdivisionId': 106, 'trackName': 'MT 1', 'milepost': {'milepostNumber': 218.65654}}}, {'positionTime': '2022-06-09T20:00:41Z', 'speedMPH': 42, 'milepostLocation': {'subdivisionId': 106,...</td>\n",
              "    </tr>\n",
              "    <tr>\n",
              "      <th>0</th>\n",
              "      <td>224.2101</td>\n",
              "      <td>[{'positionTime': '2022-06-09T20:11:30Z', 'speedMPH': 31, 'milepostLocation': {'subdivisionId': 106, 'trackName': 'MT 1', 'milepost': {'milepostNumber': 224.2101}}}, {'positionTime': '2022-06-09T20:13:30Z', 'speedMPH': 36, 'milepostLocation': {'subdivisionId': 106, 'trackName': 'MT 1', 'milepost': {'milepostNumber': 225.32594}}}, {'positionTime': '2022-06-09T20:15:30Z', 'speedMPH': 41, 'milepostLocation': {'subdivisionId': 106, 'trackName': 'MT 1', 'milepost': {'milepostNumber': 226.61711}}}, {'positionTime': '2022-06-09T20:17:30Z', 'speedMPH': 45, 'milepostLocation': {'subdivisionId': 106...</td>\n",
              "    </tr>\n",
              "    <tr>\n",
              "      <th>0</th>\n",
              "      <td>235.8908</td>\n",
              "      <td>[{'positionTime': '2022-06-09T20:27:41Z', 'speedMPH': 36, 'milepostLocation': {'subdivisionId': 106, 'trackName': 'MT 1', 'milepost': {'milepostNumber': 235.8908}}}, {'positionTime': '2022-06-09T20:29:41Z', 'speedMPH': 40, 'milepostLocation': {'subdivisionId': 106, 'trackName': 'MT 1', 'milepost': {'milepostNumber': 237.54869}}}, {'positionTime': '2022-06-09T20:31:41Z', 'speedMPH': 40, 'milepostLocation': {'subdivisionId': 106, 'trackName': 'MT 1', 'milepost': {'milepostNumber': 238.9238}}}, {'positionTime': '2022-06-09T20:33:41Z', 'speedMPH': 44, 'milepostLocation': {'subdivisionId': 106,...</td>\n",
              "    </tr>\n",
              "    <tr>\n",
              "      <th>...</th>\n",
              "      <td>...</td>\n",
              "      <td>...</td>\n",
              "    </tr>\n",
              "    <tr>\n",
              "      <th>0</th>\n",
              "      <td>217.0825</td>\n",
              "      <td>[]</td>\n",
              "    </tr>\n",
              "    <tr>\n",
              "      <th>0</th>\n",
              "      <td>215.1352</td>\n",
              "      <td>[{'positionTime': '2022-06-04T01:18:01Z', 'speedMPH': -16, 'milepostLocation': {'subdivisionId': 106, 'trackName': 'MT 1', 'milepost': {'milepostNumber': 215.1352}}}, {'positionTime': '2022-06-04T01:20:01Z', 'speedMPH': -20, 'milepostLocation': {'subdivisionId': 106, 'trackName': 'MT 1', 'milepost': {'milepostNumber': 214.52847}}}, {'positionTime': '2022-06-04T01:22:01Z', 'speedMPH': -25, 'milepostLocation': {'subdivisionId': 106, 'trackName': 'MT 1', 'milepost': {'milepostNumber': 210.82147}}}, {'positionTime': '2022-06-04T01:24:01Z', 'speedMPH': -28, 'milepostLocation': {'subdivisionId':...</td>\n",
              "    </tr>\n",
              "    <tr>\n",
              "      <th>0</th>\n",
              "      <td>207.0881</td>\n",
              "      <td>[]</td>\n",
              "    </tr>\n",
              "    <tr>\n",
              "      <th>0</th>\n",
              "      <td>207.0909</td>\n",
              "      <td>[]</td>\n",
              "    </tr>\n",
              "    <tr>\n",
              "      <th>0</th>\n",
              "      <td>206.3006</td>\n",
              "      <td>[{'positionTime': '2022-06-04T02:15:37Z', 'speedMPH': -15, 'milepostLocation': {'subdivisionId': 106, 'trackName': 'MT 1', 'milepost': {'milepostNumber': 206.3006}}}, {'positionTime': '2022-06-04T02:17:37Z', 'speedMPH': -20, 'milepostLocation': {'subdivisionId': 106, 'trackName': 'MT 1', 'milepost': {'milepostNumber': 205.7202}}}, {'positionTime': '2022-06-04T02:19:37Z', 'speedMPH': -24, 'milepostLocation': {'subdivisionId': 106, 'trackName': 'MT 1', 'milepost': {'milepostNumber': 204.97374}}}, {'positionTime': '2022-06-04T02:21:37Z', 'speedMPH': -27, 'milepostLocation': {'subdivisionId': ...</td>\n",
              "    </tr>\n",
              "  </tbody>\n",
              "</table>\n",
              "<p>29770 rows × 2 columns</p>\n",
              "</div>\n",
              "      <button class=\"colab-df-convert\" onclick=\"convertToInteractive('df-1dd93a62-89c1-47f2-8662-64a6998663f1')\"\n",
              "              title=\"Convert this dataframe to an interactive table.\"\n",
              "              style=\"display:none;\">\n",
              "        \n",
              "  <svg xmlns=\"http://www.w3.org/2000/svg\" height=\"24px\"viewBox=\"0 0 24 24\"\n",
              "       width=\"24px\">\n",
              "    <path d=\"M0 0h24v24H0V0z\" fill=\"none\"/>\n",
              "    <path d=\"M18.56 5.44l.94 2.06.94-2.06 2.06-.94-2.06-.94-.94-2.06-.94 2.06-2.06.94zm-11 1L8.5 8.5l.94-2.06 2.06-.94-2.06-.94L8.5 2.5l-.94 2.06-2.06.94zm10 10l.94 2.06.94-2.06 2.06-.94-2.06-.94-.94-2.06-.94 2.06-2.06.94z\"/><path d=\"M17.41 7.96l-1.37-1.37c-.4-.4-.92-.59-1.43-.59-.52 0-1.04.2-1.43.59L10.3 9.45l-7.72 7.72c-.78.78-.78 2.05 0 2.83L4 21.41c.39.39.9.59 1.41.59.51 0 1.02-.2 1.41-.59l7.78-7.78 2.81-2.81c.8-.78.8-2.07 0-2.86zM5.41 20L4 18.59l7.72-7.72 1.47 1.35L5.41 20z\"/>\n",
              "  </svg>\n",
              "      </button>\n",
              "      \n",
              "  <style>\n",
              "    .colab-df-container {\n",
              "      display:flex;\n",
              "      flex-wrap:wrap;\n",
              "      gap: 12px;\n",
              "    }\n",
              "\n",
              "    .colab-df-convert {\n",
              "      background-color: #E8F0FE;\n",
              "      border: none;\n",
              "      border-radius: 50%;\n",
              "      cursor: pointer;\n",
              "      display: none;\n",
              "      fill: #1967D2;\n",
              "      height: 32px;\n",
              "      padding: 0 0 0 0;\n",
              "      width: 32px;\n",
              "    }\n",
              "\n",
              "    .colab-df-convert:hover {\n",
              "      background-color: #E2EBFA;\n",
              "      box-shadow: 0px 1px 2px rgba(60, 64, 67, 0.3), 0px 1px 3px 1px rgba(60, 64, 67, 0.15);\n",
              "      fill: #174EA6;\n",
              "    }\n",
              "\n",
              "    [theme=dark] .colab-df-convert {\n",
              "      background-color: #3B4455;\n",
              "      fill: #D2E3FC;\n",
              "    }\n",
              "\n",
              "    [theme=dark] .colab-df-convert:hover {\n",
              "      background-color: #434B5C;\n",
              "      box-shadow: 0px 1px 3px 1px rgba(0, 0, 0, 0.15);\n",
              "      filter: drop-shadow(0px 1px 2px rgba(0, 0, 0, 0.3));\n",
              "      fill: #FFFFFF;\n",
              "    }\n",
              "  </style>\n",
              "\n",
              "      <script>\n",
              "        const buttonEl =\n",
              "          document.querySelector('#df-1dd93a62-89c1-47f2-8662-64a6998663f1 button.colab-df-convert');\n",
              "        buttonEl.style.display =\n",
              "          google.colab.kernel.accessAllowed ? 'block' : 'none';\n",
              "\n",
              "        async function convertToInteractive(key) {\n",
              "          const element = document.querySelector('#df-1dd93a62-89c1-47f2-8662-64a6998663f1');\n",
              "          const dataTable =\n",
              "            await google.colab.kernel.invokeFunction('convertToInteractive',\n",
              "                                                     [key], {});\n",
              "          if (!dataTable) return;\n",
              "\n",
              "          const docLinkHtml = 'Like what you see? Visit the ' +\n",
              "            '<a target=\"_blank\" href=https://colab.research.google.com/notebooks/data_table.ipynb>data table notebook</a>'\n",
              "            + ' to learn more about interactive tables.';\n",
              "          element.innerHTML = '';\n",
              "          dataTable['output_type'] = 'display_data';\n",
              "          await google.colab.output.renderOutput(dataTable, element);\n",
              "          const docLink = document.createElement('div');\n",
              "          docLink.innerHTML = docLinkHtml;\n",
              "          element.appendChild(docLink);\n",
              "        }\n",
              "      </script>\n",
              "    </div>\n",
              "  </div>\n",
              "  "
            ]
          },
          "metadata": {},
          "execution_count": 26
        }
      ]
    },
    {
      "cell_type": "markdown",
      "source": [
        "Renumber the list"
      ],
      "metadata": {
        "id": "lA_7_hJRr9RI"
      }
    },
    {
      "cell_type": "code",
      "source": [
        "dfTrainsLearn = dfTrainsLearn.reset_index(drop=True)"
      ],
      "metadata": {
        "id": "Kw_c3Ddj4zN4"
      },
      "execution_count": 27,
      "outputs": []
    },
    {
      "cell_type": "markdown",
      "source": [
        "# Determine NextValue\n",
        "This will be the value we are attempting to learn"
      ],
      "metadata": {
        "id": "M6ikvyh2mKvw"
      }
    },
    {
      "cell_type": "code",
      "source": [
        "def findNextTime(trainsEntry, actualsEntry, timeInMinutes):\n",
        "  #print(actualsEntry.iloc[4]['speedMPH'], \" - \",trainsEntry['lastReportedPosition.speedMPH'] )\n",
        "  idx = math.trunc(timeInMinutes // 2)\n",
        "  if (idx < len(actualsEntry)):\n",
        "    return (abs(actualsEntry.iloc[idx]['speedMPH']) - abs(trainsEntry['lastReportedPosition.speedMPH']))\n",
        "  return None"
      ],
      "metadata": {
        "id": "HsFWDlcWROcp"
      },
      "execution_count": 28,
      "outputs": []
    },
    {
      "cell_type": "code",
      "source": [
        "def findNextMilepost(trainsEntry, actualsEntry, distance):\n",
        "  currMilepost = trainsEntry['lastReportedPosition.milepostLocation.milepost.milepostNumber']\n",
        "  value  = actualsEntry.loc[actualsEntry['milepostLocation.milepost.milepostNumber'] > currMilepost + distance]\n",
        "  if (len(value) > 0) :\n",
        "    return value[value['milepostLocation.milepost.milepostNumber'] == value['milepostLocation.milepost.milepostNumber'].min()]\n",
        "  value  = actualsEntry.loc[actualsEntry['milepostLocation.milepost.milepostNumber'] < currMilepost - distance]\n",
        "  if (len(value) > 0):\n",
        "    return value[value['milepostLocation.milepost.milepostNumber'] == value['milepostLocation.milepost.milepostNumber'].max()]\n",
        "  return []"
      ],
      "metadata": {
        "id": "-gfZhQNSsxeV"
      },
      "execution_count": 29,
      "outputs": []
    },
    {
      "cell_type": "code",
      "source": [
        "def findNextMilepostAtTime(trainsEntry, actualsEntry, timeInMinutes):\n",
        "  idx = math.trunc(timeInMinutes // 2)\n",
        "  if (idx < len(actualsEntry)):\n",
        "    return actualsEntry.iloc[idx]['milepostLocation.milepost.milepostNumber']\n",
        "  return None"
      ],
      "metadata": {
        "id": "V3P0NgM-zSpV"
      },
      "execution_count": 30,
      "outputs": []
    },
    {
      "cell_type": "code",
      "source": [
        "def findNextSpeed(trainsEntry, actualsEntry):\n",
        "  if (measurement.get('unit') == 'miles'):\n",
        "    nextActual = findNextMilepost(trainsEntry, actualsEntry, measurement.get('size'))\n",
        "    if (nextActual != None and len(nextActual) > 0):\n",
        "      amt = (abs(nextActual.iloc[0]['speedMPH']) - abs(trainsEntry['lastReportedPosition.speedMPH']))\n",
        "      return amt;\n",
        "  elif (measurement.get('unit') == 'minutes'):\n",
        "    return findNextTime(trainsEntry, actualsEntry, measurement.get('size'))\n",
        "  elif (measurement.get('unit') == 'milepost'):\n",
        "    return findNextMilepostAtTime(trainsEntry, actualsEntry, measurement.get('size'))\n",
        "  else:\n",
        "    raise Exception('unknown measurement', measurement.get('unit'))    \n",
        "  return None"
      ],
      "metadata": {
        "id": "i_JszmqL0MR6"
      },
      "execution_count": 31,
      "outputs": []
    },
    {
      "cell_type": "markdown",
      "source": [
        "You can peer into the mechanics of a lookup here:"
      ],
      "metadata": {
        "id": "lzq_GLI5mdDk"
      }
    },
    {
      "cell_type": "code",
      "source": [
        "idx = 3291\n",
        "showTrain(idx)\n",
        "print(\"Reported speed: \", dfTrainsLearn.iloc[idx]['lastReportedPosition.speedMPH'])\n",
        "print(\"Reported MP: \", dfTrainsLearn.iloc[idx]['lastReportedPosition.milepostLocation.milepost.milepostNumber'])\n",
        "print(\"Reported Time: \", dfTrainsLearn.iloc[idx]['lastReportedPosition.positionTime'])\n",
        "\n",
        "nextActual = findNextMilepost(dfTrainsLearn.iloc[idx], dfTrainsLearnActuals.iloc[idx], 1)\n",
        "print(\"Next Speed at MP:\",nextActual)\n",
        "nextActual = findNextTime(dfTrainsLearn.iloc[idx], dfTrainsLearnActuals.iloc[idx], 10)\n",
        "print(\"Next Speed at 10 Min:\",nextActual)\n",
        "nextActual = findNextMilepostAtTime(dfTrainsLearn.iloc[idx], dfTrainsLearnActuals.iloc[idx], 10)\n",
        "print(\"Milepost in 10 Min:\",nextActual)\n",
        "\n",
        "print(\"actual Value: \", findNextSpeed(dfTrainsLearn.iloc[idx], dfTrainsLearnActuals.iloc[idx]))\n",
        "beopJSON = dfTrainsBeop.iloc[idx]['trainEstimatedPositionList']\n",
        "if not type(beopJSON) is float and len(beopJSON) > 0:\n",
        "  beopDT = pd.json_normalize(beopJSON)\n",
        "  nextBeop = findNextMilepost(dfTrainsLearn.iloc[idx], beopDT, 1)\n",
        "  print(nextBeop)\n",
        "  type(dfTrainsBeop.iloc[idx]['trainEstimatedPositionList'])\n",
        "  print(\"beop Value: \", findNextSpeed(dfTrainsLearn.iloc[idx], beopDT))"
      ],
      "metadata": {
        "id": "F_hQFHKztIu-",
        "colab": {
          "base_uri": "https://localhost:8080/"
        },
        "outputId": "03464323-df6e-4e12-c27f-54f3b8d25ebd"
      },
      "execution_count": 32,
      "outputs": [
        {
          "output_type": "stream",
          "name": "stdout",
          "text": [
            "UP2706\n",
            "MCHCB\n",
            "106\n",
            "MT 2\n",
            "320.4698\n",
            "Reported speed:  39\n",
            "Reported MP:  320.4698\n",
            "Reported Time:  2022-05-11T10:25:35Z\n",
            "Next Speed at MP:            positionTime  speedMPH  milepostLocation.subdivisionId  \\\n",
            "0  2022-05-11T10:27:35Z        38                             106   \n",
            "\n",
            "  milepostLocation.trackName  milepostLocation.milepost.milepostNumber  \n",
            "0                       MT 2                                 321.73276  \n",
            "Next Speed at 10 Min: -39\n",
            "Milepost in 10 Min: 325.6992\n",
            "actual Value:  325.699\n",
            "           positionTime  speedMPH  milepostLocation.subdivisionId  \\\n",
            "1  2022-05-11T10:27:35Z        40                             106   \n",
            "\n",
            "  milepostLocation.trackName  milepostLocation.milepost.milepostNumber  \n",
            "1                       MT 2                                 321.80084  \n",
            "beop Value:  344.286\n"
          ]
        }
      ]
    },
    {
      "cell_type": "markdown",
      "source": [
        "Run the calulations.  This will take a moment."
      ],
      "metadata": {
        "id": "cWzMCn-tsE22"
      }
    },
    {
      "cell_type": "code",
      "source": [
        "dfTrainsLearn['nextValue'] = np.NaN\n",
        "dfTrainsLearn['beopValue'] = np.NaN\n",
        "i = 0;\n",
        "for index, trainsEntry in dfTrainsLearn.iterrows():\n",
        "  nextValue = findNextSpeed(trainsEntry, dfTrainsLearnActuals.iloc[i])\n",
        "  if (nextValue != None):\n",
        "    dfTrainsLearn.at[i,'nextValue'] = nextValue\n",
        "  beopJSON = dfTrainsBeop.iloc[i]['trainEstimatedPositionList']\n",
        "  if not type(beopJSON) is float and len(beopJSON) > 0:\n",
        "    try:\n",
        "      beopDT = pd.json_normalize(beopJSON)\n",
        "      if (measurement.get('unit') == 'miles'):\n",
        "        nextBeop = findNextMilepost(trainsEntry, beopDT, measurement.get('size'))\n",
        "      elif (measurement.get('unit') == 'minutes'):\n",
        "        nextBeop = findNextTime(trainsEntry, beopDT, measurement.get('size'))\n",
        "      elif (measurement.get('unit') == 'milepost'):\n",
        "        nextBeop = findNextMilepostAtTime(trainsEntry, beopDT, measurement.get('size'))\n",
        "      if (nextBeop != None):\n",
        "        dfTrainsLearn.at[i,'beopValue'] = nextBeop\n",
        "    except NotImplementedError:\n",
        "      print(type(beopJSON))\n",
        "    except KeyError:\n",
        "      print(beopJSON)\n",
        "  if (i % 1000 == 0):\n",
        "    print(i)\n",
        "  i = i + 1"
      ],
      "metadata": {
        "id": "fG2U-anX-jbt",
        "colab": {
          "base_uri": "https://localhost:8080/"
        },
        "outputId": "2afaf2dc-2343-4032-b312-51d245026d46"
      },
      "execution_count": 33,
      "outputs": [
        {
          "output_type": "stream",
          "name": "stdout",
          "text": [
            "0\n",
            "1000\n",
            "2000\n",
            "3000\n",
            "4000\n",
            "5000\n",
            "6000\n",
            "7000\n",
            "8000\n",
            "9000\n",
            "10000\n",
            "11000\n",
            "12000\n",
            "13000\n",
            "14000\n",
            "15000\n",
            "16000\n",
            "17000\n",
            "18000\n",
            "19000\n",
            "20000\n",
            "21000\n",
            "22000\n",
            "23000\n",
            "24000\n",
            "25000\n",
            "26000\n",
            "27000\n",
            "28000\n",
            "29000\n"
          ]
        }
      ]
    },
    {
      "cell_type": "code",
      "source": [
        "dfTrainsLearn = dfTrainsLearn.dropna(subset=['nextValue'])\n",
        "dfTrainsLearn['nextValue'].unique()"
      ],
      "metadata": {
        "colab": {
          "base_uri": "https://localhost:8080/"
        },
        "id": "lQz8KQHM3SdN",
        "outputId": "bf216f5a-de77-40cd-c55b-e44ca7fdf0b0"
      },
      "execution_count": 34,
      "outputs": [
        {
          "output_type": "execute_result",
          "data": {
            "text/plain": [
              "array([215.53906, 223.57376, 235.31651, ..., 217.0823 , 215.99962, 207.37434])"
            ]
          },
          "metadata": {},
          "execution_count": 34
        }
      ]
    },
    {
      "cell_type": "code",
      "source": [
        "print(\"NextValue values histogram:\")\n",
        "dfTrainsLearn['nextValue'].hist(bins=200)"
      ],
      "metadata": {
        "id": "IOWDvvGusUBm",
        "colab": {
          "base_uri": "https://localhost:8080/",
          "height": 300
        },
        "outputId": "87d1d5ee-0231-4151-cf3e-937360530979"
      },
      "execution_count": 35,
      "outputs": [
        {
          "output_type": "stream",
          "name": "stdout",
          "text": [
            "NextValue values histogram:\n"
          ]
        },
        {
          "output_type": "execute_result",
          "data": {
            "text/plain": [
              "<matplotlib.axes._subplots.AxesSubplot at 0x7f44242ec290>"
            ]
          },
          "metadata": {},
          "execution_count": 35
        },
        {
          "output_type": "display_data",
          "data": {
            "text/plain": [
              "<Figure size 432x288 with 1 Axes>"
            ],
            "image/png": "[encoded data removed]"
          },
          "metadata": {
            "needs_background": "light"
          }
        }
      ]
    },
    {
      "cell_type": "code",
      "source": [
        "dfTrainsLearn['beopValue'].unique()"
      ],
      "metadata": {
        "id": "bdSnFJoMWVrn",
        "colab": {
          "base_uri": "https://localhost:8080/"
        },
        "outputId": "1ae97e5d-ddc0-4a03-ed84-e8f639aabdfe"
      },
      "execution_count": 36,
      "outputs": [
        {
          "output_type": "execute_result",
          "data": {
            "text/plain": [
              "array([233.54254,       nan, 240.27034, ..., 206.39474, 196.5708 , 194.76132])"
            ]
          },
          "metadata": {},
          "execution_count": 36
        }
      ]
    },
    {
      "cell_type": "code",
      "source": [
        "print(\"physics predictions histogram:\")\n",
        "dfTrainsLearn['beopValue'].hist(bins=200)"
      ],
      "metadata": {
        "id": "K7WQR074WuDQ",
        "colab": {
          "base_uri": "https://localhost:8080/",
          "height": 300
        },
        "outputId": "513371a3-1581-490e-f0d0-7cad5041e784"
      },
      "execution_count": 37,
      "outputs": [
        {
          "output_type": "stream",
          "name": "stdout",
          "text": [
            "physics predictions histogram:\n"
          ]
        },
        {
          "output_type": "execute_result",
          "data": {
            "text/plain": [
              "<matplotlib.axes._subplots.AxesSubplot at 0x7f44242f7110>"
            ]
          },
          "metadata": {},
          "execution_count": 37
        },
        {
          "output_type": "display_data",
          "data": {
            "text/plain": [
              "<Figure size 432x288 with 1 Axes>"
            ],
            "image/png": "[encoded data removed]"
          },
          "metadata": {
            "needs_background": "light"
          }
        }
      ]
    },
    {
      "cell_type": "code",
      "source": [
        "dfTrainsNextBeop = dfTrainsLearn['beopValue']"
      ],
      "metadata": {
        "id": "k1sGN4n_2bDU"
      },
      "execution_count": 38,
      "outputs": []
    },
    {
      "cell_type": "markdown",
      "source": [
        "Drop some values we are not using at the moment, not needed.\n",
        "\n",
        "Note, this will disable above computations unless you resume at \"Create a learning set\""
      ],
      "metadata": {
        "id": "moXjNcMQu-3C"
      }
    },
    {
      "cell_type": "code",
      "source": [
        "dfTrainsLearn = dfTrainsLearn.drop(columns=['aotuTrainData.tenantCarrier',\n",
        "                                            'beopValue',\n",
        "                                            'positionHistoryList',\n",
        "                                            'locomotiveList',\n",
        "                                            'subdivisionList',\n",
        "                                            'trainActualPositionList',\n",
        "                                            'trainEstimatedPositionList',\n",
        "                                            'aotuTrainData.routeLocationList'])"
      ],
      "metadata": {
        "id": "hBmsqv6IuVVO"
      },
      "execution_count": 39,
      "outputs": []
    },
    {
      "cell_type": "markdown",
      "source": [
        "Burst dates into subcolumns that might prove useful"
      ],
      "metadata": {
        "id": "22_dmiSmoYyq"
      }
    },
    {
      "cell_type": "code",
      "source": [
        "tabular.core.make_date(dfTrainsLearn, 'trainId.trainDate')\n",
        "tabular.core.make_date(dfTrainsLearn, 'lastReportedPosition.positionTime')\n",
        "tabular.core.add_datepart(dfTrainsLearn, 'lastReportedPosition.positionTime')\n",
        "# tabular.core.add_elapsed_times(dfTrainsLearn, 'lastReportedPosition.positionTime')\n"
      ],
      "metadata": {
        "id": "DjTAxScsbHCN",
        "colab": {
          "base_uri": "https://localhost:8080/",
          "height": 488
        },
        "outputId": "50774a76-76f0-4e60-dd6e-c2e12c8c39e7"
      },
      "execution_count": 40,
      "outputs": [
        {
          "output_type": "execute_result",
          "data": {
            "text/plain": [
              "      ptcLeadLocomotiveId trainId.trainSCAC trainId.trainSection  \\\n",
              "0                  NS1007                UP                        \n",
              "1                  NS1007                UP                        \n",
              "2                  NS1007                UP                        \n",
              "3                  NS1007                UP                        \n",
              "4                  NS1007                UP                        \n",
              "...                   ...               ...                  ...   \n",
              "29763              UP7942                UP                        \n",
              "29764              UP7942                UP                        \n",
              "29765              UP7942                UP                        \n",
              "29766              UP7942                UP                        \n",
              "29767              UP7942                UP                        \n",
              "\n",
              "      trainId.trainSymbol  ...  \\\n",
              "0                   MGBNP  ...   \n",
              "1                   MGBNP  ...   \n",
              "2                   MGBNP  ...   \n",
              "3                   MGBNP  ...   \n",
              "4                   MGBNP  ...   \n",
              "...                   ...  ...   \n",
              "29763               MNPCH  ...   \n",
              "29764               MNPCH  ...   \n",
              "29765               MNPCH  ...   \n",
              "29766               MNPCH  ...   \n",
              "29767               MNPCH  ...   \n",
              "\n",
              "      lastReportedPosition.positionTimeIs_quarter_start  \\\n",
              "0                                                 False   \n",
              "1                                                 False   \n",
              "2                                                 False   \n",
              "3                                                 False   \n",
              "4                                                 False   \n",
              "...                                                 ...   \n",
              "29763                                             False   \n",
              "29764                                             False   \n",
              "29765                                             False   \n",
              "29766                                             False   \n",
              "29767                                             False   \n",
              "\n",
              "       lastReportedPosition.positionTimeIs_year_end  \\\n",
              "0                                             False   \n",
              "1                                             False   \n",
              "2                                             False   \n",
              "3                                             False   \n",
              "4                                             False   \n",
              "...                                             ...   \n",
              "29763                                         False   \n",
              "29764                                         False   \n",
              "29765                                         False   \n",
              "29766                                         False   \n",
              "29767                                         False   \n",
              "\n",
              "       lastReportedPosition.positionTimeIs_year_start  \\\n",
              "0                                               False   \n",
              "1                                               False   \n",
              "2                                               False   \n",
              "3                                               False   \n",
              "4                                               False   \n",
              "...                                               ...   \n",
              "29763                                           False   \n",
              "29764                                           False   \n",
              "29765                                           False   \n",
              "29766                                           False   \n",
              "29767                                           False   \n",
              "\n",
              "      lastReportedPosition.positionTimeElapsed  \n",
              "0                                 1.654802e+09  \n",
              "1                                 1.654803e+09  \n",
              "2                                 1.654804e+09  \n",
              "3                                 1.654805e+09  \n",
              "4                                 1.654806e+09  \n",
              "...                                        ...  \n",
              "29763                             1.654302e+09  \n",
              "29764                             1.654303e+09  \n",
              "29765                             1.654304e+09  \n",
              "29766                             1.654305e+09  \n",
              "29767                             1.654306e+09  \n",
              "\n",
              "[26058 rows x 47 columns]"
            ],
            "text/html": [
              "\n",
              "  <div id=\"df-293ba83c-a637-4c35-90da-5b7758c1b1e2\">\n",
              "    <div class=\"colab-df-container\">\n",
              "      <div>\n",
              "<style scoped>\n",
              "    .dataframe tbody tr th:only-of-type {\n",
              "        vertical-align: middle;\n",
              "    }\n",
              "\n",
              "    .dataframe tbody tr th {\n",
              "        vertical-align: top;\n",
              "    }\n",
              "\n",
              "    .dataframe thead th {\n",
              "        text-align: right;\n",
              "    }\n",
              "</style>\n",
              "<table border=\"1\" class=\"dataframe\">\n",
              "  <thead>\n",
              "    <tr style=\"text-align: right;\">\n",
              "      <th></th>\n",
              "      <th>ptcLeadLocomotiveId</th>\n",
              "      <th>trainId.trainSCAC</th>\n",
              "      <th>trainId.trainSection</th>\n",
              "      <th>trainId.trainSymbol</th>\n",
              "      <th>...</th>\n",
              "      <th>lastReportedPosition.positionTimeIs_quarter_start</th>\n",
              "      <th>lastReportedPosition.positionTimeIs_year_end</th>\n",
              "      <th>lastReportedPosition.positionTimeIs_year_start</th>\n",
              "      <th>lastReportedPosition.positionTimeElapsed</th>\n",
              "    </tr>\n",
              "  </thead>\n",
              "  <tbody>\n",
              "    <tr>\n",
              "      <th>0</th>\n",
              "      <td>NS1007</td>\n",
              "      <td>UP</td>\n",
              "      <td></td>\n",
              "      <td>MGBNP</td>\n",
              "      <td>...</td>\n",
              "      <td>False</td>\n",
              "      <td>False</td>\n",
              "      <td>False</td>\n",
              "      <td>1.654802e+09</td>\n",
              "    </tr>\n",
              "    <tr>\n",
              "      <th>1</th>\n",
              "      <td>NS1007</td>\n",
              "      <td>UP</td>\n",
              "      <td></td>\n",
              "      <td>MGBNP</td>\n",
              "      <td>...</td>\n",
              "      <td>False</td>\n",
              "      <td>False</td>\n",
              "      <td>False</td>\n",
              "      <td>1.654803e+09</td>\n",
              "    </tr>\n",
              "    <tr>\n",
              "      <th>2</th>\n",
              "      <td>NS1007</td>\n",
              "      <td>UP</td>\n",
              "      <td></td>\n",
              "      <td>MGBNP</td>\n",
              "      <td>...</td>\n",
              "      <td>False</td>\n",
              "      <td>False</td>\n",
              "      <td>False</td>\n",
              "      <td>1.654804e+09</td>\n",
              "    </tr>\n",
              "    <tr>\n",
              "      <th>3</th>\n",
              "      <td>NS1007</td>\n",
              "      <td>UP</td>\n",
              "      <td></td>\n",
              "      <td>MGBNP</td>\n",
              "      <td>...</td>\n",
              "      <td>False</td>\n",
              "      <td>False</td>\n",
              "      <td>False</td>\n",
              "      <td>1.654805e+09</td>\n",
              "    </tr>\n",
              "    <tr>\n",
              "      <th>4</th>\n",
              "      <td>NS1007</td>\n",
              "      <td>UP</td>\n",
              "      <td></td>\n",
              "      <td>MGBNP</td>\n",
              "      <td>...</td>\n",
              "      <td>False</td>\n",
              "      <td>False</td>\n",
              "      <td>False</td>\n",
              "      <td>1.654806e+09</td>\n",
              "    </tr>\n",
              "    <tr>\n",
              "      <th>...</th>\n",
              "      <td>...</td>\n",
              "      <td>...</td>\n",
              "      <td>...</td>\n",
              "      <td>...</td>\n",
              "      <td>...</td>\n",
              "      <td>...</td>\n",
              "      <td>...</td>\n",
              "      <td>...</td>\n",
              "      <td>...</td>\n",
              "    </tr>\n",
              "    <tr>\n",
              "      <th>29763</th>\n",
              "      <td>UP7942</td>\n",
              "      <td>UP</td>\n",
              "      <td></td>\n",
              "      <td>MNPCH</td>\n",
              "      <td>...</td>\n",
              "      <td>False</td>\n",
              "      <td>False</td>\n",
              "      <td>False</td>\n",
              "      <td>1.654302e+09</td>\n",
              "    </tr>\n",
              "    <tr>\n",
              "      <th>29764</th>\n",
              "      <td>UP7942</td>\n",
              "      <td>UP</td>\n",
              "      <td></td>\n",
              "      <td>MNPCH</td>\n",
              "      <td>...</td>\n",
              "      <td>False</td>\n",
              "      <td>False</td>\n",
              "      <td>False</td>\n",
              "      <td>1.654303e+09</td>\n",
              "    </tr>\n",
              "    <tr>\n",
              "      <th>29765</th>\n",
              "      <td>UP7942</td>\n",
              "      <td>UP</td>\n",
              "      <td></td>\n",
              "      <td>MNPCH</td>\n",
              "      <td>...</td>\n",
              "      <td>False</td>\n",
              "      <td>False</td>\n",
              "      <td>False</td>\n",
              "      <td>1.654304e+09</td>\n",
              "    </tr>\n",
              "    <tr>\n",
              "      <th>29766</th>\n",
              "      <td>UP7942</td>\n",
              "      <td>UP</td>\n",
              "      <td></td>\n",
              "      <td>MNPCH</td>\n",
              "      <td>...</td>\n",
              "      <td>False</td>\n",
              "      <td>False</td>\n",
              "      <td>False</td>\n",
              "      <td>1.654305e+09</td>\n",
              "    </tr>\n",
              "    <tr>\n",
              "      <th>29767</th>\n",
              "      <td>UP7942</td>\n",
              "      <td>UP</td>\n",
              "      <td></td>\n",
              "      <td>MNPCH</td>\n",
              "      <td>...</td>\n",
              "      <td>False</td>\n",
              "      <td>False</td>\n",
              "      <td>False</td>\n",
              "      <td>1.654306e+09</td>\n",
              "    </tr>\n",
              "  </tbody>\n",
              "</table>\n",
              "<p>26058 rows × 47 columns</p>\n",
              "</div>\n",
              "      <button class=\"colab-df-convert\" onclick=\"convertToInteractive('df-293ba83c-a637-4c35-90da-5b7758c1b1e2')\"\n",
              "              title=\"Convert this dataframe to an interactive table.\"\n",
              "              style=\"display:none;\">\n",
              "        \n",
              "  <svg xmlns=\"http://www.w3.org/2000/svg\" height=\"24px\"viewBox=\"0 0 24 24\"\n",
              "       width=\"24px\">\n",
              "    <path d=\"M0 0h24v24H0V0z\" fill=\"none\"/>\n",
              "    <path d=\"M18.56 5.44l.94 2.06.94-2.06 2.06-.94-2.06-.94-.94-2.06-.94 2.06-2.06.94zm-11 1L8.5 8.5l.94-2.06 2.06-.94-2.06-.94L8.5 2.5l-.94 2.06-2.06.94zm10 10l.94 2.06.94-2.06 2.06-.94-2.06-.94-.94-2.06-.94 2.06-2.06.94z\"/><path d=\"M17.41 7.96l-1.37-1.37c-.4-.4-.92-.59-1.43-.59-.52 0-1.04.2-1.43.59L10.3 9.45l-7.72 7.72c-.78.78-.78 2.05 0 2.83L4 21.41c.39.39.9.59 1.41.59.51 0 1.02-.2 1.41-.59l7.78-7.78 2.81-2.81c.8-.78.8-2.07 0-2.86zM5.41 20L4 18.59l7.72-7.72 1.47 1.35L5.41 20z\"/>\n",
              "  </svg>\n",
              "      </button>\n",
              "      \n",
              "  <style>\n",
              "    .colab-df-container {\n",
              "      display:flex;\n",
              "      flex-wrap:wrap;\n",
              "      gap: 12px;\n",
              "    }\n",
              "\n",
              "    .colab-df-convert {\n",
              "      background-color: #E8F0FE;\n",
              "      border: none;\n",
              "      border-radius: 50%;\n",
              "      cursor: pointer;\n",
              "      display: none;\n",
              "      fill: #1967D2;\n",
              "      height: 32px;\n",
              "      padding: 0 0 0 0;\n",
              "      width: 32px;\n",
              "    }\n",
              "\n",
              "    .colab-df-convert:hover {\n",
              "      background-color: #E2EBFA;\n",
              "      box-shadow: 0px 1px 2px rgba(60, 64, 67, 0.3), 0px 1px 3px 1px rgba(60, 64, 67, 0.15);\n",
              "      fill: #174EA6;\n",
              "    }\n",
              "\n",
              "    [theme=dark] .colab-df-convert {\n",
              "      background-color: #3B4455;\n",
              "      fill: #D2E3FC;\n",
              "    }\n",
              "\n",
              "    [theme=dark] .colab-df-convert:hover {\n",
              "      background-color: #434B5C;\n",
              "      box-shadow: 0px 1px 3px 1px rgba(0, 0, 0, 0.15);\n",
              "      filter: drop-shadow(0px 1px 2px rgba(0, 0, 0, 0.3));\n",
              "      fill: #FFFFFF;\n",
              "    }\n",
              "  </style>\n",
              "\n",
              "      <script>\n",
              "        const buttonEl =\n",
              "          document.querySelector('#df-293ba83c-a637-4c35-90da-5b7758c1b1e2 button.colab-df-convert');\n",
              "        buttonEl.style.display =\n",
              "          google.colab.kernel.accessAllowed ? 'block' : 'none';\n",
              "\n",
              "        async function convertToInteractive(key) {\n",
              "          const element = document.querySelector('#df-293ba83c-a637-4c35-90da-5b7758c1b1e2');\n",
              "          const dataTable =\n",
              "            await google.colab.kernel.invokeFunction('convertToInteractive',\n",
              "                                                     [key], {});\n",
              "          if (!dataTable) return;\n",
              "\n",
              "          const docLinkHtml = 'Like what you see? Visit the ' +\n",
              "            '<a target=\"_blank\" href=https://colab.research.google.com/notebooks/data_table.ipynb>data table notebook</a>'\n",
              "            + ' to learn more about interactive tables.';\n",
              "          element.innerHTML = '';\n",
              "          dataTable['output_type'] = 'display_data';\n",
              "          await google.colab.output.renderOutput(dataTable, element);\n",
              "          const docLink = document.createElement('div');\n",
              "          docLink.innerHTML = docLinkHtml;\n",
              "          element.appendChild(docLink);\n",
              "        }\n",
              "      </script>\n",
              "    </div>\n",
              "  </div>\n",
              "  "
            ]
          },
          "metadata": {},
          "execution_count": 40
        }
      ]
    },
    {
      "cell_type": "code",
      "source": [
        "print(dfTrainsLearn.shape)\n",
        "print(dfTrainsLearnActuals.shape)\n",
        "\n",
        "print(dfTrainsLearn.info())\n",
        "print(dfTrainsLearn.iloc[10])"
      ],
      "metadata": {
        "id": "jTVXPBSQ2gp3",
        "colab": {
          "base_uri": "https://localhost:8080/"
        },
        "outputId": "b3cc3d12-878b-4b80-d237-17b7e75868d1"
      },
      "execution_count": 41,
      "outputs": [
        {
          "output_type": "stream",
          "name": "stdout",
          "text": [
            "(26058, 47)\n",
            "(29770,)\n",
            "<class 'pandas.core.frame.DataFrame'>\n",
            "Int64Index: 26058 entries, 0 to 29767\n",
            "Data columns (total 47 columns):\n",
            " #   Column                                                         Non-Null Count  Dtype         \n",
            "---  ------                                                         --------------  -----         \n",
            " 0   ptcLeadLocomotiveId                                            26058 non-null  object        \n",
            " 1   trainId.trainSCAC                                              26058 non-null  category      \n",
            " 2   trainId.trainSection                                           26058 non-null  category      \n",
            " 3   trainId.trainSymbol                                            26058 non-null  object        \n",
            " 4   trainId.trainDate                                              26058 non-null  datetime64[ns]\n",
            " 5   lastReportedPosition.speedMPH                                  26058 non-null  int64         \n",
            " 6   lastReportedPosition.milepostLocation.subdivisionId            26058 non-null  int64         \n",
            " 7   lastReportedPosition.milepostLocation.trackName                26058 non-null  category      \n",
            " 8   lastReportedPosition.milepostLocation.milepost.milepostNumber  26058 non-null  float64       \n",
            " 9   aotuTrainData.priorityCode                                     26058 non-null  category      \n",
            " 10  aotuTrainData.categoryCode                                     26058 non-null  category      \n",
            " 11  aotuTrainData.authorityRangeCode                               26058 non-null  category      \n",
            " 12  aotuTrainData.ownershipCode                                    26058 non-null  category      \n",
            " 13  aotuTrainData.totalCarWeight                                   26058 non-null  float64       \n",
            " 14  aotuTrainData.totalCarLength                                   26058 non-null  float64       \n",
            " 15  aotuTrainData.totalLocomotiveWeight                            26058 non-null  float64       \n",
            " 16  aotuTrainData.totalLocomotiveLength                            26058 non-null  float64       \n",
            " 17  aotuTrainData.actualTonsPerAxle                                26058 non-null  float64       \n",
            " 18  aotuTrainData.heavy143TonCarCount                              26058 non-null  float64       \n",
            " 19  aotuTrainData.heavy158TonCarCount                              26058 non-null  float64       \n",
            " 20  aotuTrainData.over158TonCarCount                               26058 non-null  float64       \n",
            " 21  aotuTrainData.highWideCarCount                                 26058 non-null  float64       \n",
            " 22  aotuTrainData.eventCode                                        26058 non-null  category      \n",
            " 23  maximumTrainSpeed                                              26058 non-null  float64       \n",
            " 24  loadedCarCount                                                 26058 non-null  float64       \n",
            " 25  emptyCarCount                                                  26058 non-null  float64       \n",
            " 26  trainLength                                                    26058 non-null  float64       \n",
            " 27  trailingTonnage                                                26058 non-null  float64       \n",
            " 28  milepost                                                       26058 non-null  int64         \n",
            " 29  mpIncr                                                         26058 non-null  bool          \n",
            " 30  symbolType                                                     26058 non-null  category      \n",
            " 31  workLocations                                                  25920 non-null  object        \n",
            " 32  locomotiveCount                                                26058 non-null  int64         \n",
            " 33  nextValue                                                      26058 non-null  float64       \n",
            " 34  lastReportedPosition.positionTimeYear                          26058 non-null  int64         \n",
            " 35  lastReportedPosition.positionTimeMonth                         26058 non-null  int64         \n",
            " 36  lastReportedPosition.positionTimeWeek                          26058 non-null  int64         \n",
            " 37  lastReportedPosition.positionTimeDay                           26058 non-null  int64         \n",
            " 38  lastReportedPosition.positionTimeDayofweek                     26058 non-null  int64         \n",
            " 39  lastReportedPosition.positionTimeDayofyear                     26058 non-null  int64         \n",
            " 40  lastReportedPosition.positionTimeIs_month_end                  26058 non-null  bool          \n",
            " 41  lastReportedPosition.positionTimeIs_month_start                26058 non-null  bool          \n",
            " 42  lastReportedPosition.positionTimeIs_quarter_end                26058 non-null  bool          \n",
            " 43  lastReportedPosition.positionTimeIs_quarter_start              26058 non-null  bool          \n",
            " 44  lastReportedPosition.positionTimeIs_year_end                   26058 non-null  bool          \n",
            " 45  lastReportedPosition.positionTimeIs_year_start                 26058 non-null  bool          \n",
            " 46  lastReportedPosition.positionTimeElapsed                       26058 non-null  float64       \n",
            "dtypes: bool(7), category(9), datetime64[ns](1), float64(17), int64(10), object(3)\n",
            "memory usage: 6.8+ MB\n",
            "None\n",
            "ptcLeadLocomotiveId                                               NS1088\n",
            "trainId.trainSCAC                                                     UP\n",
            "trainId.trainSection                                                    \n",
            "trainId.trainSymbol                                                MCBDM\n",
            "trainId.trainDate                                    2022-07-06 00:00:00\n",
            "                                                            ...         \n",
            "lastReportedPosition.positionTimeIs_quarter_end                    False\n",
            "lastReportedPosition.positionTimeIs_quarter_start                  False\n",
            "lastReportedPosition.positionTimeIs_year_end                       False\n",
            "lastReportedPosition.positionTimeIs_year_start                     False\n",
            "lastReportedPosition.positionTimeElapsed                    1657149509.0\n",
            "Name: 12, Length: 47, dtype: object\n"
          ]
        }
      ]
    },
    {
      "cell_type": "markdown",
      "source": [
        "# Use Decision Tree to predict next value"
      ],
      "metadata": {
        "id": "mg1p1vouBeIB"
      }
    },
    {
      "cell_type": "code",
      "source": [
        "procs = [tabular.core.Categorify, tabular.core.FillMissing]"
      ],
      "metadata": {
        "id": "F9TApkZWbAbz"
      },
      "execution_count": 42,
      "outputs": []
    },
    {
      "cell_type": "markdown",
      "source": [
        "Breakdown the data by day of year - we will train with older data and then test the model with newer values.\n",
        "Note: this simple logic will fail at the begining of a new year!"
      ],
      "metadata": {
        "id": "yjaTPkTntR7F"
      }
    },
    {
      "cell_type": "code",
      "source": [
        "dateValues = dfTrainsLearn.groupby(['lastReportedPosition.positionTimeDayofyear'])['lastReportedPosition.positionTimeDayofyear'].count()\n",
        "print(dateValues)"
      ],
      "metadata": {
        "id": "gDgYzofcvcpM",
        "colab": {
          "base_uri": "https://localhost:8080/"
        },
        "outputId": "b12f9f40-28e0-44c7-ef0c-dc185f4409af"
      },
      "execution_count": 43,
      "outputs": [
        {
          "output_type": "stream",
          "name": "stdout",
          "text": [
            "lastReportedPosition.positionTimeDayofyear\n",
            "90      52\n",
            "91     203\n",
            "92     226\n",
            "93     211\n",
            "94     117\n",
            "      ... \n",
            "184    244\n",
            "185    249\n",
            "186    249\n",
            "187    398\n",
            "188      5\n",
            "Name: lastReportedPosition.positionTimeDayofyear, Length: 98, dtype: int64\n"
          ]
        }
      ]
    },
    {
      "cell_type": "code",
      "source": [
        "print(\"We will partition this set at day of year:\", dateValues.index[math.trunc(dateValues.size * dataCutpoint)])"
      ],
      "metadata": {
        "id": "cJkyrhnpt2T2",
        "colab": {
          "base_uri": "https://localhost:8080/"
        },
        "outputId": "73153774-746c-42ec-ab9f-6f3cd82d003e"
      },
      "execution_count": 44,
      "outputs": [
        {
          "output_type": "stream",
          "name": "stdout",
          "text": [
            "We will partition this set at day of year: 168\n"
          ]
        }
      ]
    },
    {
      "cell_type": "code",
      "source": [
        "cond = ( dfTrainsLearn['lastReportedPosition.positionTimeDayofyear'] <= dateValues.index[math.trunc(dateValues.size * dataCutpoint)] )\n",
        "trainIdx = np.where(cond)[0]\n",
        "validIdx = np.where(~cond)[0]\n",
        "splits = (list(trainIdx), list(validIdx))"
      ],
      "metadata": {
        "id": "nIURJVe5vc_n"
      },
      "execution_count": 45,
      "outputs": []
    },
    {
      "cell_type": "code",
      "source": [
        "#dep_var = 'nextSpeed'"
      ],
      "metadata": {
        "id": "rPW42wgnOLO_"
      },
      "execution_count": 46,
      "outputs": []
    },
    {
      "cell_type": "code",
      "source": [
        "cont,cat = tabular.core.cont_cat_split(dfTrainsLearn, 1, dep_var=dep_var)"
      ],
      "metadata": {
        "id": "gHDAeThzyzc6"
      },
      "execution_count": 47,
      "outputs": []
    },
    {
      "cell_type": "code",
      "source": [
        "to = tabular.core.TabularPandas(dfTrainsLearn, procs, cat, cont, y_names=dep_var, splits=splits)"
      ],
      "metadata": {
        "id": "xz1ZonvnO-I7"
      },
      "execution_count": 48,
      "outputs": []
    },
    {
      "cell_type": "code",
      "source": [
        "len(to.train),len(to.valid)"
      ],
      "metadata": {
        "id": "0DJly6_Z94uI",
        "colab": {
          "base_uri": "https://localhost:8080/"
        },
        "outputId": "beefcaab-dced-4673-9744-803dda5b7ad4"
      },
      "execution_count": 49,
      "outputs": [
        {
          "output_type": "execute_result",
          "data": {
            "text/plain": [
              "(21281, 4777)"
            ]
          },
          "metadata": {},
          "execution_count": 49
        }
      ]
    },
    {
      "cell_type": "code",
      "source": [
        "to.show()"
      ],
      "metadata": {
        "id": "xoEQAME4-n0M",
        "colab": {
          "base_uri": "https://localhost:8080/",
          "height": 383
        },
        "outputId": "d3420bb6-d5c8-45e1-de1b-9b8f7b1b60a9"
      },
      "execution_count": 50,
      "outputs": [
        {
          "output_type": "display_data",
          "data": {
            "text/plain": [
              "<IPython.core.display.HTML object>"
            ],
            "text/html": [
              "<table border=\"1\" class=\"dataframe\">\n",
              "  <thead>\n",
              "    <tr style=\"text-align: right;\">\n",
              "      <th></th>\n",
              "      <th>ptcLeadLocomotiveId</th>\n",
              "      <th>trainId.trainSCAC</th>\n",
              "      <th>trainId.trainSection</th>\n",
              "      <th>trainId.trainSymbol</th>\n",
              "      <th>trainId.trainDate</th>\n",
              "      <th>lastReportedPosition.milepostLocation.subdivisionId</th>\n",
              "      <th>lastReportedPosition.milepostLocation.trackName</th>\n",
              "      <th>aotuTrainData.priorityCode</th>\n",
              "      <th>aotuTrainData.categoryCode</th>\n",
              "      <th>aotuTrainData.authorityRangeCode</th>\n",
              "      <th>aotuTrainData.ownershipCode</th>\n",
              "      <th>aotuTrainData.eventCode</th>\n",
              "      <th>mpIncr</th>\n",
              "      <th>symbolType</th>\n",
              "      <th>workLocations</th>\n",
              "      <th>lastReportedPosition.positionTimeYear</th>\n",
              "      <th>lastReportedPosition.positionTimeIs_month_end</th>\n",
              "      <th>lastReportedPosition.positionTimeIs_month_start</th>\n",
              "      <th>lastReportedPosition.positionTimeIs_quarter_end</th>\n",
              "      <th>lastReportedPosition.positionTimeIs_quarter_start</th>\n",
              "      <th>lastReportedPosition.positionTimeIs_year_end</th>\n",
              "      <th>lastReportedPosition.positionTimeIs_year_start</th>\n",
              "      <th>lastReportedPosition.speedMPH</th>\n",
              "      <th>lastReportedPosition.milepostLocation.milepost.milepostNumber</th>\n",
              "      <th>aotuTrainData.totalCarWeight</th>\n",
              "      <th>aotuTrainData.totalCarLength</th>\n",
              "      <th>aotuTrainData.totalLocomotiveWeight</th>\n",
              "      <th>aotuTrainData.totalLocomotiveLength</th>\n",
              "      <th>aotuTrainData.actualTonsPerAxle</th>\n",
              "      <th>aotuTrainData.heavy143TonCarCount</th>\n",
              "      <th>aotuTrainData.heavy158TonCarCount</th>\n",
              "      <th>aotuTrainData.over158TonCarCount</th>\n",
              "      <th>aotuTrainData.highWideCarCount</th>\n",
              "      <th>maximumTrainSpeed</th>\n",
              "      <th>loadedCarCount</th>\n",
              "      <th>emptyCarCount</th>\n",
              "      <th>trainLength</th>\n",
              "      <th>trailingTonnage</th>\n",
              "      <th>milepost</th>\n",
              "      <th>locomotiveCount</th>\n",
              "      <th>lastReportedPosition.positionTimeMonth</th>\n",
              "      <th>lastReportedPosition.positionTimeWeek</th>\n",
              "      <th>lastReportedPosition.positionTimeDay</th>\n",
              "      <th>lastReportedPosition.positionTimeDayofweek</th>\n",
              "      <th>lastReportedPosition.positionTimeDayofyear</th>\n",
              "      <th>lastReportedPosition.positionTimeElapsed</th>\n",
              "      <th>nextValue</th>\n",
              "    </tr>\n",
              "  </thead>\n",
              "  <tbody>\n",
              "    <tr>\n",
              "      <th>0</th>\n",
              "      <td>NS1007</td>\n",
              "      <td>UP</td>\n",
              "      <td></td>\n",
              "      <td>MGBNP</td>\n",
              "      <td>2022-06-08</td>\n",
              "      <td>106</td>\n",
              "      <td>MT 1</td>\n",
              "      <td>4.0</td>\n",
              "      <td>12.0</td>\n",
              "      <td>2.0</td>\n",
              "      <td>2.0</td>\n",
              "      <td>0.0</td>\n",
              "      <td>True</td>\n",
              "      <td>M</td>\n",
              "      <td>202.20</td>\n",
              "      <td>2022</td>\n",
              "      <td>False</td>\n",
              "      <td>False</td>\n",
              "      <td>False</td>\n",
              "      <td>False</td>\n",
              "      <td>False</td>\n",
              "      <td>False</td>\n",
              "      <td>42</td>\n",
              "      <td>202.207199</td>\n",
              "      <td>143058000.0</td>\n",
              "      <td>1148000.0</td>\n",
              "      <td>8640000.0</td>\n",
              "      <td>17820.0</td>\n",
              "      <td>65535.0</td>\n",
              "      <td>0.0</td>\n",
              "      <td>0.0</td>\n",
              "      <td>0.0</td>\n",
              "      <td>0.0</td>\n",
              "      <td>60.0</td>\n",
              "      <td>102.0</td>\n",
              "      <td>0.0</td>\n",
              "      <td>9738.0</td>\n",
              "      <td>7158.0</td>\n",
              "      <td>202</td>\n",
              "      <td>2</td>\n",
              "      <td>6</td>\n",
              "      <td>23</td>\n",
              "      <td>9</td>\n",
              "      <td>3</td>\n",
              "      <td>160</td>\n",
              "      <td>1.654802e+09</td>\n",
              "      <td>215.539062</td>\n",
              "    </tr>\n",
              "    <tr>\n",
              "      <th>1</th>\n",
              "      <td>NS1007</td>\n",
              "      <td>UP</td>\n",
              "      <td></td>\n",
              "      <td>MGBNP</td>\n",
              "      <td>2022-06-08</td>\n",
              "      <td>106</td>\n",
              "      <td>MT 1</td>\n",
              "      <td>4.0</td>\n",
              "      <td>12.0</td>\n",
              "      <td>2.0</td>\n",
              "      <td>2.0</td>\n",
              "      <td>0.0</td>\n",
              "      <td>True</td>\n",
              "      <td>M</td>\n",
              "      <td>202.20</td>\n",
              "      <td>2022</td>\n",
              "      <td>False</td>\n",
              "      <td>False</td>\n",
              "      <td>False</td>\n",
              "      <td>False</td>\n",
              "      <td>False</td>\n",
              "      <td>False</td>\n",
              "      <td>0</td>\n",
              "      <td>209.870697</td>\n",
              "      <td>143058000.0</td>\n",
              "      <td>1148000.0</td>\n",
              "      <td>8640000.0</td>\n",
              "      <td>17820.0</td>\n",
              "      <td>65535.0</td>\n",
              "      <td>0.0</td>\n",
              "      <td>0.0</td>\n",
              "      <td>0.0</td>\n",
              "      <td>0.0</td>\n",
              "      <td>70.0</td>\n",
              "      <td>102.0</td>\n",
              "      <td>0.0</td>\n",
              "      <td>9738.0</td>\n",
              "      <td>7158.0</td>\n",
              "      <td>209</td>\n",
              "      <td>2</td>\n",
              "      <td>6</td>\n",
              "      <td>23</td>\n",
              "      <td>9</td>\n",
              "      <td>3</td>\n",
              "      <td>160</td>\n",
              "      <td>1.654803e+09</td>\n",
              "      <td>223.573761</td>\n",
              "    </tr>\n",
              "    <tr>\n",
              "      <th>2</th>\n",
              "      <td>NS1007</td>\n",
              "      <td>UP</td>\n",
              "      <td></td>\n",
              "      <td>MGBNP</td>\n",
              "      <td>2022-06-08</td>\n",
              "      <td>106</td>\n",
              "      <td>MT 1</td>\n",
              "      <td>4.0</td>\n",
              "      <td>12.0</td>\n",
              "      <td>2.0</td>\n",
              "      <td>2.0</td>\n",
              "      <td>0.0</td>\n",
              "      <td>True</td>\n",
              "      <td>M</td>\n",
              "      <td>202.20</td>\n",
              "      <td>2022</td>\n",
              "      <td>False</td>\n",
              "      <td>False</td>\n",
              "      <td>False</td>\n",
              "      <td>False</td>\n",
              "      <td>False</td>\n",
              "      <td>False</td>\n",
              "      <td>26</td>\n",
              "      <td>216.513000</td>\n",
              "      <td>143058000.0</td>\n",
              "      <td>1148000.0</td>\n",
              "      <td>8640000.0</td>\n",
              "      <td>17820.0</td>\n",
              "      <td>65535.0</td>\n",
              "      <td>0.0</td>\n",
              "      <td>0.0</td>\n",
              "      <td>0.0</td>\n",
              "      <td>0.0</td>\n",
              "      <td>70.0</td>\n",
              "      <td>102.0</td>\n",
              "      <td>0.0</td>\n",
              "      <td>9738.0</td>\n",
              "      <td>7158.0</td>\n",
              "      <td>216</td>\n",
              "      <td>2</td>\n",
              "      <td>6</td>\n",
              "      <td>23</td>\n",
              "      <td>9</td>\n",
              "      <td>3</td>\n",
              "      <td>160</td>\n",
              "      <td>1.654804e+09</td>\n",
              "      <td>235.316513</td>\n",
              "    </tr>\n",
              "    <tr>\n",
              "      <th>3</th>\n",
              "      <td>NS1007</td>\n",
              "      <td>UP</td>\n",
              "      <td></td>\n",
              "      <td>MGBNP</td>\n",
              "      <td>2022-06-08</td>\n",
              "      <td>106</td>\n",
              "      <td>MT 1</td>\n",
              "      <td>4.0</td>\n",
              "      <td>12.0</td>\n",
              "      <td>2.0</td>\n",
              "      <td>2.0</td>\n",
              "      <td>0.0</td>\n",
              "      <td>True</td>\n",
              "      <td>M</td>\n",
              "      <td>202.20</td>\n",
              "      <td>2022</td>\n",
              "      <td>False</td>\n",
              "      <td>False</td>\n",
              "      <td>False</td>\n",
              "      <td>False</td>\n",
              "      <td>False</td>\n",
              "      <td>False</td>\n",
              "      <td>31</td>\n",
              "      <td>224.210098</td>\n",
              "      <td>143058000.0</td>\n",
              "      <td>1148000.0</td>\n",
              "      <td>8640000.0</td>\n",
              "      <td>17820.0</td>\n",
              "      <td>65535.0</td>\n",
              "      <td>0.0</td>\n",
              "      <td>0.0</td>\n",
              "      <td>0.0</td>\n",
              "      <td>0.0</td>\n",
              "      <td>70.0</td>\n",
              "      <td>102.0</td>\n",
              "      <td>0.0</td>\n",
              "      <td>9738.0</td>\n",
              "      <td>7158.0</td>\n",
              "      <td>224</td>\n",
              "      <td>2</td>\n",
              "      <td>6</td>\n",
              "      <td>23</td>\n",
              "      <td>9</td>\n",
              "      <td>3</td>\n",
              "      <td>160</td>\n",
              "      <td>1.654806e+09</td>\n",
              "      <td>246.743423</td>\n",
              "    </tr>\n",
              "    <tr>\n",
              "      <th>4</th>\n",
              "      <td>NS1007</td>\n",
              "      <td>UP</td>\n",
              "      <td></td>\n",
              "      <td>MGBNP</td>\n",
              "      <td>2022-06-08</td>\n",
              "      <td>106</td>\n",
              "      <td>MT 1</td>\n",
              "      <td>4.0</td>\n",
              "      <td>12.0</td>\n",
              "      <td>2.0</td>\n",
              "      <td>2.0</td>\n",
              "      <td>0.0</td>\n",
              "      <td>True</td>\n",
              "      <td>M</td>\n",
              "      <td>202.20</td>\n",
              "      <td>2022</td>\n",
              "      <td>False</td>\n",
              "      <td>False</td>\n",
              "      <td>False</td>\n",
              "      <td>False</td>\n",
              "      <td>False</td>\n",
              "      <td>False</td>\n",
              "      <td>36</td>\n",
              "      <td>235.890793</td>\n",
              "      <td>143058000.0</td>\n",
              "      <td>1148000.0</td>\n",
              "      <td>8640000.0</td>\n",
              "      <td>17820.0</td>\n",
              "      <td>65535.0</td>\n",
              "      <td>0.0</td>\n",
              "      <td>0.0</td>\n",
              "      <td>0.0</td>\n",
              "      <td>0.0</td>\n",
              "      <td>70.0</td>\n",
              "      <td>102.0</td>\n",
              "      <td>0.0</td>\n",
              "      <td>9738.0</td>\n",
              "      <td>7158.0</td>\n",
              "      <td>235</td>\n",
              "      <td>2</td>\n",
              "      <td>6</td>\n",
              "      <td>23</td>\n",
              "      <td>9</td>\n",
              "      <td>3</td>\n",
              "      <td>160</td>\n",
              "      <td>1.654806e+09</td>\n",
              "      <td>260.126495</td>\n",
              "    </tr>\n",
              "    <tr>\n",
              "      <th>5</th>\n",
              "      <td>NS1007</td>\n",
              "      <td>UP</td>\n",
              "      <td></td>\n",
              "      <td>MGBNP</td>\n",
              "      <td>2022-06-08</td>\n",
              "      <td>106</td>\n",
              "      <td>MT 1</td>\n",
              "      <td>4.0</td>\n",
              "      <td>12.0</td>\n",
              "      <td>2.0</td>\n",
              "      <td>2.0</td>\n",
              "      <td>0.0</td>\n",
              "      <td>True</td>\n",
              "      <td>M</td>\n",
              "      <td>202.20</td>\n",
              "      <td>2022</td>\n",
              "      <td>False</td>\n",
              "      <td>False</td>\n",
              "      <td>False</td>\n",
              "      <td>False</td>\n",
              "      <td>False</td>\n",
              "      <td>False</td>\n",
              "      <td>62</td>\n",
              "      <td>246.540100</td>\n",
              "      <td>143058000.0</td>\n",
              "      <td>1148000.0</td>\n",
              "      <td>8640000.0</td>\n",
              "      <td>17820.0</td>\n",
              "      <td>65535.0</td>\n",
              "      <td>0.0</td>\n",
              "      <td>0.0</td>\n",
              "      <td>0.0</td>\n",
              "      <td>0.0</td>\n",
              "      <td>70.0</td>\n",
              "      <td>102.0</td>\n",
              "      <td>0.0</td>\n",
              "      <td>9738.0</td>\n",
              "      <td>7158.0</td>\n",
              "      <td>246</td>\n",
              "      <td>2</td>\n",
              "      <td>6</td>\n",
              "      <td>23</td>\n",
              "      <td>9</td>\n",
              "      <td>3</td>\n",
              "      <td>160</td>\n",
              "      <td>1.654807e+09</td>\n",
              "      <td>271.050568</td>\n",
              "    </tr>\n",
              "    <tr>\n",
              "      <th>6</th>\n",
              "      <td>NS1007</td>\n",
              "      <td>UP</td>\n",
              "      <td></td>\n",
              "      <td>MGBNP</td>\n",
              "      <td>2022-06-08</td>\n",
              "      <td>106</td>\n",
              "      <td>MT 1</td>\n",
              "      <td>4.0</td>\n",
              "      <td>12.0</td>\n",
              "      <td>2.0</td>\n",
              "      <td>2.0</td>\n",
              "      <td>0.0</td>\n",
              "      <td>True</td>\n",
              "      <td>M</td>\n",
              "      <td>202.20</td>\n",
              "      <td>2022</td>\n",
              "      <td>False</td>\n",
              "      <td>False</td>\n",
              "      <td>False</td>\n",
              "      <td>False</td>\n",
              "      <td>False</td>\n",
              "      <td>False</td>\n",
              "      <td>50</td>\n",
              "      <td>260.289795</td>\n",
              "      <td>143058000.0</td>\n",
              "      <td>1148000.0</td>\n",
              "      <td>8640000.0</td>\n",
              "      <td>17820.0</td>\n",
              "      <td>65535.0</td>\n",
              "      <td>0.0</td>\n",
              "      <td>0.0</td>\n",
              "      <td>0.0</td>\n",
              "      <td>0.0</td>\n",
              "      <td>70.0</td>\n",
              "      <td>102.0</td>\n",
              "      <td>0.0</td>\n",
              "      <td>9738.0</td>\n",
              "      <td>7158.0</td>\n",
              "      <td>260</td>\n",
              "      <td>2</td>\n",
              "      <td>6</td>\n",
              "      <td>23</td>\n",
              "      <td>9</td>\n",
              "      <td>3</td>\n",
              "      <td>160</td>\n",
              "      <td>1.654808e+09</td>\n",
              "      <td>285.541382</td>\n",
              "    </tr>\n",
              "    <tr>\n",
              "      <th>7</th>\n",
              "      <td>NS1007</td>\n",
              "      <td>UP</td>\n",
              "      <td></td>\n",
              "      <td>MGBNP</td>\n",
              "      <td>2022-06-08</td>\n",
              "      <td>106</td>\n",
              "      <td>MT 1</td>\n",
              "      <td>4.0</td>\n",
              "      <td>12.0</td>\n",
              "      <td>2.0</td>\n",
              "      <td>2.0</td>\n",
              "      <td>0.0</td>\n",
              "      <td>True</td>\n",
              "      <td>M</td>\n",
              "      <td>202.20</td>\n",
              "      <td>2022</td>\n",
              "      <td>False</td>\n",
              "      <td>False</td>\n",
              "      <td>False</td>\n",
              "      <td>False</td>\n",
              "      <td>False</td>\n",
              "      <td>False</td>\n",
              "      <td>59</td>\n",
              "      <td>272.092896</td>\n",
              "      <td>143058000.0</td>\n",
              "      <td>1148000.0</td>\n",
              "      <td>8640000.0</td>\n",
              "      <td>17820.0</td>\n",
              "      <td>65535.0</td>\n",
              "      <td>0.0</td>\n",
              "      <td>0.0</td>\n",
              "      <td>0.0</td>\n",
              "      <td>0.0</td>\n",
              "      <td>70.0</td>\n",
              "      <td>102.0</td>\n",
              "      <td>0.0</td>\n",
              "      <td>9738.0</td>\n",
              "      <td>7158.0</td>\n",
              "      <td>272</td>\n",
              "      <td>2</td>\n",
              "      <td>6</td>\n",
              "      <td>23</td>\n",
              "      <td>9</td>\n",
              "      <td>3</td>\n",
              "      <td>160</td>\n",
              "      <td>1.654809e+09</td>\n",
              "      <td>305.831238</td>\n",
              "    </tr>\n",
              "    <tr>\n",
              "      <th>8</th>\n",
              "      <td>NS1007</td>\n",
              "      <td>UP</td>\n",
              "      <td></td>\n",
              "      <td>MGBNP</td>\n",
              "      <td>2022-06-08</td>\n",
              "      <td>106</td>\n",
              "      <td>MT 1</td>\n",
              "      <td>4.0</td>\n",
              "      <td>12.0</td>\n",
              "      <td>2.0</td>\n",
              "      <td>2.0</td>\n",
              "      <td>0.0</td>\n",
              "      <td>True</td>\n",
              "      <td>M</td>\n",
              "      <td>202.20</td>\n",
              "      <td>2022</td>\n",
              "      <td>False</td>\n",
              "      <td>False</td>\n",
              "      <td>False</td>\n",
              "      <td>False</td>\n",
              "      <td>False</td>\n",
              "      <td>False</td>\n",
              "      <td>58</td>\n",
              "      <td>285.755707</td>\n",
              "      <td>143058000.0</td>\n",
              "      <td>1148000.0</td>\n",
              "      <td>8640000.0</td>\n",
              "      <td>17820.0</td>\n",
              "      <td>65535.0</td>\n",
              "      <td>0.0</td>\n",
              "      <td>0.0</td>\n",
              "      <td>0.0</td>\n",
              "      <td>0.0</td>\n",
              "      <td>70.0</td>\n",
              "      <td>102.0</td>\n",
              "      <td>0.0</td>\n",
              "      <td>9738.0</td>\n",
              "      <td>7158.0</td>\n",
              "      <td>285</td>\n",
              "      <td>2</td>\n",
              "      <td>6</td>\n",
              "      <td>23</td>\n",
              "      <td>9</td>\n",
              "      <td>3</td>\n",
              "      <td>160</td>\n",
              "      <td>1.654810e+09</td>\n",
              "      <td>319.314545</td>\n",
              "    </tr>\n",
              "    <tr>\n",
              "      <th>31</th>\n",
              "      <td>NS4141</td>\n",
              "      <td>UP</td>\n",
              "      <td></td>\n",
              "      <td>MGBNP</td>\n",
              "      <td>2022-06-02</td>\n",
              "      <td>106</td>\n",
              "      <td>MT 1</td>\n",
              "      <td>4.0</td>\n",
              "      <td>12.0</td>\n",
              "      <td>2.0</td>\n",
              "      <td>2.0</td>\n",
              "      <td>0.0</td>\n",
              "      <td>True</td>\n",
              "      <td>M</td>\n",
              "      <td>202.20</td>\n",
              "      <td>2022</td>\n",
              "      <td>False</td>\n",
              "      <td>False</td>\n",
              "      <td>False</td>\n",
              "      <td>False</td>\n",
              "      <td>False</td>\n",
              "      <td>False</td>\n",
              "      <td>33</td>\n",
              "      <td>202.206802</td>\n",
              "      <td>152058000.0</td>\n",
              "      <td>1193280.0</td>\n",
              "      <td>17240000.0</td>\n",
              "      <td>35220.0</td>\n",
              "      <td>65535.0</td>\n",
              "      <td>0.0</td>\n",
              "      <td>0.0</td>\n",
              "      <td>0.0</td>\n",
              "      <td>0.0</td>\n",
              "      <td>70.0</td>\n",
              "      <td>106.0</td>\n",
              "      <td>0.0</td>\n",
              "      <td>10261.0</td>\n",
              "      <td>7619.0</td>\n",
              "      <td>202</td>\n",
              "      <td>4</td>\n",
              "      <td>6</td>\n",
              "      <td>22</td>\n",
              "      <td>4</td>\n",
              "      <td>5</td>\n",
              "      <td>155</td>\n",
              "      <td>1.654303e+09</td>\n",
              "      <td>231.102539</td>\n",
              "    </tr>\n",
              "  </tbody>\n",
              "</table>"
            ]
          },
          "metadata": {}
        }
      ]
    },
    {
      "cell_type": "code",
      "source": [
        "fastai.save_pickle('/tmp/to.pkl',to)"
      ],
      "metadata": {
        "id": "r-D5hdO3-ypC"
      },
      "execution_count": 51,
      "outputs": []
    },
    {
      "cell_type": "markdown",
      "source": [
        "# Creating a Decision Tree"
      ],
      "metadata": {
        "id": "knWgCrX_A0Ep"
      }
    },
    {
      "cell_type": "code",
      "source": [
        "to = fastai.load_pickle('/tmp/to.pkl')"
      ],
      "metadata": {
        "id": "rtc_YDw0ArMR"
      },
      "execution_count": 52,
      "outputs": []
    },
    {
      "cell_type": "code",
      "source": [
        "xs,y = to.train.xs,to.train.y\n",
        "valid_xs,valid_y = to.valid.xs,to.valid.y"
      ],
      "metadata": {
        "id": "CcGx27DMBMbc"
      },
      "execution_count": 53,
      "outputs": []
    },
    {
      "cell_type": "code",
      "source": [
        "m = DecisionTreeRegressor(max_leaf_nodes=16)\n",
        "m.fit(xs, y);"
      ],
      "metadata": {
        "id": "clTcBmpGBXv6"
      },
      "execution_count": 54,
      "outputs": []
    },
    {
      "cell_type": "markdown",
      "source": [
        "Here is a sample of a Decision Tree with just 16 nodes:"
      ],
      "metadata": {
        "id": "YxzzayblKLsa"
      }
    },
    {
      "cell_type": "code",
      "source": [
        "fastai.draw_tree(m, xs, size=16, leaves_parallel=True, precision=2)"
      ],
      "metadata": {
        "id": "nhXNnHk7CSmF",
        "colab": {
          "base_uri": "https://localhost:8080/",
          "height": 945
        },
        "outputId": "dfbff3a3-6a95-4caf-d055-c2c2149bf912"
      },
      "execution_count": 55,
      "outputs": [
        {
          "output_type": "execute_result",
          "data": {
            "text/plain": [
              "<graphviz.files.Source at 0x7f443ec77390>"
            ],
            "image/svg+xml": "<?xml version=\"1.0\" encoding=\"UTF-8\" standalone=\"no\"?>\n<!DOCTYPE svg PUBLIC \"-//W3C//DTD SVG 1.1//EN\"\n \"http://www.w3.org/Graphics/SVG/1.1/DTD/svg11.dtd\">\n<!-- Generated by graphviz version 2.40.1 (20161225.0304)\n -->\n<!-- Title: Tree Pages: 1 -->\n<svg width=\"1152pt\" height=\"693pt\"\n viewBox=\"0.00 0.00 1152.00 693.07\" xmlns=\"http://www.w3.org/2000/svg\" xmlns:xlink=\"http://www.w3.org/1999/xlink\">\n<g id=\"graph0\" class=\"graph\" transform=\"scale(.3992 .3992) rotate(0) translate(4 1732.2886)\">\n<title>Tree</title>\n<polygon fill=\"#ffffff\" stroke=\"transparent\" points=\"-4,4 -4,-1732.2886 2882,-1732.2886 2882,4 -4,4\"/>\n<!-- 0 -->\n<g id=\"node1\" class=\"node\">\n<title>0</title>\n<path fill=\"#f4c8a9\" stroke=\"#000000\" d=\"M1415,-1661C1415,-1661 948,-1661 948,-1661 942,-1661 936,-1655 936,-1649 936,-1649 936,-1605 936,-1605 936,-1599 942,-1593 948,-1593 948,-1593 1415,-1593 1415,-1593 1421,-1593 1427,-1599 1427,-1605 1427,-1605 1427,-1649 1427,-1649 1427,-1655 1421,-1661 1415,-1661\"/>\n<text text-anchor=\"start\" x=\"944\" y=\"-1645.8\" font-family=\"Helvetica,sans-Serif\" font-size=\"14.00\" fill=\"#000000\">lastReportedPosition.milepostLocation.milepost.milepostNumber ≤ 257.91</text>\n<text text-anchor=\"start\" x=\"1101\" y=\"-1630.8\" font-family=\"Helvetica,sans-Serif\" font-size=\"14.00\" fill=\"#000000\">squared_error = 1167.21</text>\n<text text-anchor=\"start\" x=\"1125.5\" y=\"-1615.8\" font-family=\"Helvetica,sans-Serif\" font-size=\"14.00\" fill=\"#000000\">samples = 21281</text>\n<text text-anchor=\"start\" x=\"1133\" y=\"-1600.8\" font-family=\"Helvetica,sans-Serif\" font-size=\"14.00\" fill=\"#000000\">value = 256.85</text>\n</g>\n<!-- 1 -->\n<g id=\"node2\" class=\"node\">\n<title>1</title>\n<path fill=\"#fae7d9\" stroke=\"#000000\" d=\"M1123,-1351C1123,-1351 664,-1351 664,-1351 658,-1351 652,-1345 652,-1339 652,-1339 652,-1295 652,-1295 652,-1289 658,-1283 664,-1283 664,-1283 1123,-1283 1123,-1283 1129,-1283 1135,-1289 1135,-1295 1135,-1295 1135,-1339 1135,-1339 1135,-1345 1129,-1351 1123,-1351\"/>\n<text text-anchor=\"start\" x=\"660\" y=\"-1335.8\" font-family=\"Helvetica,sans-Serif\" font-size=\"14.00\" fill=\"#000000\">lastReportedPosition.milepostLocation.milepost.milepostNumber ≤ 233.7</text>\n<text text-anchor=\"start\" x=\"817\" y=\"-1320.8\" font-family=\"Helvetica,sans-Serif\" font-size=\"14.00\" fill=\"#000000\">squared_error = 383.26</text>\n<text text-anchor=\"start\" x=\"837.5\" y=\"-1305.8\" font-family=\"Helvetica,sans-Serif\" font-size=\"14.00\" fill=\"#000000\">samples = 10966</text>\n<text text-anchor=\"start\" x=\"845\" y=\"-1290.8\" font-family=\"Helvetica,sans-Serif\" font-size=\"14.00\" fill=\"#000000\">value = 231.15</text>\n</g>\n<!-- 0&#45;&gt;1 -->\n<g id=\"edge1\" class=\"edge\">\n<title>0&#45;&gt;1</title>\n<path fill=\"none\" stroke=\"#000000\" d=\"M1149.8551,-1592.9378C1096.7463,-1535.772 989.8561,-1420.7166 932.303,-1358.7671\"/>\n<polygon fill=\"#000000\" stroke=\"#000000\" points=\"934.5677,-1356.0626 925.1972,-1351.1185 929.4394,-1360.827 934.5677,-1356.0626\"/>\n<text text-anchor=\"middle\" x=\"924.2781\" y=\"-1372.4016\" font-family=\"Helvetica,sans-Serif\" font-size=\"14.00\" fill=\"#000000\">True</text>\n</g>\n<!-- 2 -->\n<g id=\"node15\" class=\"node\">\n<title>2</title>\n<path fill=\"#eda876\" stroke=\"#000000\" d=\"M1835,-1351C1835,-1351 1368,-1351 1368,-1351 1362,-1351 1356,-1345 1356,-1339 1356,-1339 1356,-1295 1356,-1295 1356,-1289 1362,-1283 1368,-1283 1368,-1283 1835,-1283 1835,-1283 1841,-1283 1847,-1289 1847,-1295 1847,-1295 1847,-1339 1847,-1339 1847,-1345 1841,-1351 1835,-1351\"/>\n<text text-anchor=\"start\" x=\"1364\" y=\"-1335.8\" font-family=\"Helvetica,sans-Serif\" font-size=\"14.00\" fill=\"#000000\">lastReportedPosition.milepostLocation.milepost.milepostNumber ≤ 283.42</text>\n<text text-anchor=\"start\" x=\"1525\" y=\"-1320.8\" font-family=\"Helvetica,sans-Serif\" font-size=\"14.00\" fill=\"#000000\">squared_error = 552.47</text>\n<text text-anchor=\"start\" x=\"1545.5\" y=\"-1305.8\" font-family=\"Helvetica,sans-Serif\" font-size=\"14.00\" fill=\"#000000\">samples = 10315</text>\n<text text-anchor=\"start\" x=\"1553\" y=\"-1290.8\" font-family=\"Helvetica,sans-Serif\" font-size=\"14.00\" fill=\"#000000\">value = 284.16</text>\n</g>\n<!-- 0&#45;&gt;2 -->\n<g id=\"edge14\" class=\"edge\">\n<title>0&#45;&gt;2</title>\n<path fill=\"none\" stroke=\"#000000\" d=\"M1227.6488,-1592.9378C1305.809,-1535.2481 1463.8446,-1418.6028 1547.2018,-1357.0773\"/>\n<polygon fill=\"#000000\" stroke=\"#000000\" points=\"1549.3077,-1359.8731 1555.2749,-1351.1185 1545.1507,-1354.2411 1549.3077,-1359.8731\"/>\n<text text-anchor=\"middle\" x=\"1551.5499\" y=\"-1372.1394\" font-family=\"Helvetica,sans-Serif\" font-size=\"14.00\" fill=\"#000000\">False</text>\n</g>\n<!-- 5 -->\n<g id=\"node3\" class=\"node\">\n<title>5</title>\n<path fill=\"#fcf2eb\" stroke=\"#000000\" d=\"M744,-1042C744,-1042 497,-1042 497,-1042 491,-1042 485,-1036 485,-1030 485,-1030 485,-986 485,-986 485,-980 491,-974 497,-974 497,-974 744,-974 744,-974 750,-974 756,-980 756,-986 756,-986 756,-1030 756,-1030 756,-1036 750,-1042 744,-1042\"/>\n<text text-anchor=\"start\" x=\"493\" y=\"-1026.8\" font-family=\"Helvetica,sans-Serif\" font-size=\"14.00\" fill=\"#000000\">lastReportedPosition.speedMPH ≤ 26.5</text>\n<text text-anchor=\"start\" x=\"544\" y=\"-1011.8\" font-family=\"Helvetica,sans-Serif\" font-size=\"14.00\" fill=\"#000000\">squared_error = 207.37</text>\n<text text-anchor=\"start\" x=\"568.5\" y=\"-996.8\" font-family=\"Helvetica,sans-Serif\" font-size=\"14.00\" fill=\"#000000\">samples = 6166</text>\n<text text-anchor=\"start\" x=\"572\" y=\"-981.8\" font-family=\"Helvetica,sans-Serif\" font-size=\"14.00\" fill=\"#000000\">value = 221.29</text>\n</g>\n<!-- 1&#45;&gt;5 -->\n<g id=\"edge2\" class=\"edge\">\n<title>1&#45;&gt;5</title>\n<path fill=\"none\" stroke=\"#000000\" d=\"M863.2411,-1282.751C812.9173,-1225.791 712.1746,-1111.7635 657.6317,-1050.0281\"/>\n<polygon fill=\"#000000\" stroke=\"#000000\" points=\"660.1384,-1047.5792 650.8944,-1042.4024 654.8925,-1052.214 660.1384,-1047.5792\"/>\n</g>\n<!-- 6 -->\n<g id=\"node10\" class=\"node\">\n<title>6</title>\n<path fill=\"#f7d8c1\" stroke=\"#000000\" d=\"M966,-1042C966,-1042 821,-1042 821,-1042 815,-1042 809,-1036 809,-1030 809,-1030 809,-986 809,-986 809,-980 815,-974 821,-974 821,-974 966,-974 966,-974 972,-974 978,-980 978,-986 978,-986 978,-1030 978,-1030 978,-1036 972,-1042 966,-1042\"/>\n<text text-anchor=\"start\" x=\"853.5\" y=\"-1026.8\" font-family=\"Helvetica,sans-Serif\" font-size=\"14.00\" fill=\"#000000\">mpIncr ≤ 1.5</text>\n<text text-anchor=\"start\" x=\"817\" y=\"-1011.8\" font-family=\"Helvetica,sans-Serif\" font-size=\"14.00\" fill=\"#000000\">squared_error = 324.16</text>\n<text text-anchor=\"start\" x=\"841.5\" y=\"-996.8\" font-family=\"Helvetica,sans-Serif\" font-size=\"14.00\" fill=\"#000000\">samples = 4800</text>\n<text text-anchor=\"start\" x=\"845\" y=\"-981.8\" font-family=\"Helvetica,sans-Serif\" font-size=\"14.00\" fill=\"#000000\">value = 243.81</text>\n</g>\n<!-- 1&#45;&gt;6 -->\n<g id=\"edge9\" class=\"edge\">\n<title>1&#45;&gt;6</title>\n<path fill=\"none\" stroke=\"#000000\" d=\"M893.5,-1282.751C893.5,-1226.603 893.5,-1115.0032 893.5,-1052.7001\"/>\n<polygon fill=\"#000000\" stroke=\"#000000\" points=\"897.0001,-1052.4024 893.5,-1042.4024 890.0001,-1052.4025 897.0001,-1052.4024\"/>\n</g>\n<!-- 19 -->\n<g id=\"node4\" class=\"node\">\n<title>19</title>\n<path fill=\"#fef8f4\" stroke=\"#000000\" d=\"M497,-732C497,-732 30,-732 30,-732 24,-732 18,-726 18,-720 18,-720 18,-676 18,-676 18,-670 24,-664 30,-664 30,-664 497,-664 497,-664 503,-664 509,-670 509,-676 509,-676 509,-720 509,-720 509,-726 503,-732 497,-732\"/>\n<text text-anchor=\"start\" x=\"26\" y=\"-716.8\" font-family=\"Helvetica,sans-Serif\" font-size=\"14.00\" fill=\"#000000\">lastReportedPosition.milepostLocation.milepost.milepostNumber ≤ 221.66</text>\n<text text-anchor=\"start\" x=\"187\" y=\"-701.8\" font-family=\"Helvetica,sans-Serif\" font-size=\"14.00\" fill=\"#000000\">squared_error = 123.09</text>\n<text text-anchor=\"start\" x=\"211.5\" y=\"-686.8\" font-family=\"Helvetica,sans-Serif\" font-size=\"14.00\" fill=\"#000000\">samples = 3658</text>\n<text text-anchor=\"start\" x=\"215\" y=\"-671.8\" font-family=\"Helvetica,sans-Serif\" font-size=\"14.00\" fill=\"#000000\">value = 216.66</text>\n</g>\n<!-- 5&#45;&gt;19 -->\n<g id=\"edge3\" class=\"edge\">\n<title>5&#45;&gt;19</title>\n<path fill=\"none\" stroke=\"#000000\" d=\"M581.2735,-973.9378C515.1725,-916.5392 381.8608,-800.7783 310.7308,-739.0127\"/>\n<polygon fill=\"#000000\" stroke=\"#000000\" points=\"312.6367,-736.0324 302.7913,-732.1185 308.0471,-741.3178 312.6367,-736.0324\"/>\n</g>\n<!-- 20 -->\n<g id=\"node7\" class=\"node\">\n<title>20</title>\n<path fill=\"#fbeadf\" stroke=\"#000000\" d=\"M693,-732C693,-732 548,-732 548,-732 542,-732 536,-726 536,-720 536,-720 536,-676 536,-676 536,-670 542,-664 548,-664 548,-664 693,-664 693,-664 699,-664 705,-670 705,-676 705,-676 705,-720 705,-720 705,-726 699,-732 693,-732\"/>\n<text text-anchor=\"start\" x=\"580.5\" y=\"-716.8\" font-family=\"Helvetica,sans-Serif\" font-size=\"14.00\" fill=\"#000000\">mpIncr ≤ 1.5</text>\n<text text-anchor=\"start\" x=\"544\" y=\"-701.8\" font-family=\"Helvetica,sans-Serif\" font-size=\"14.00\" fill=\"#000000\">squared_error = 253.22</text>\n<text text-anchor=\"start\" x=\"568.5\" y=\"-686.8\" font-family=\"Helvetica,sans-Serif\" font-size=\"14.00\" fill=\"#000000\">samples = 2508</text>\n<text text-anchor=\"start\" x=\"572\" y=\"-671.8\" font-family=\"Helvetica,sans-Serif\" font-size=\"14.00\" fill=\"#000000\">value = 228.06</text>\n</g>\n<!-- 5&#45;&gt;20 -->\n<g id=\"edge6\" class=\"edge\">\n<title>5&#45;&gt;20</title>\n<path fill=\"none\" stroke=\"#000000\" d=\"M620.5,-973.9378C620.5,-917.587 620.5,-804.9854 620.5,-742.4487\"/>\n<polygon fill=\"#000000\" stroke=\"#000000\" points=\"624.0001,-742.1185 620.5,-732.1185 617.0001,-742.1185 624.0001,-742.1185\"/>\n</g>\n<!-- 23 -->\n<g id=\"node5\" class=\"node\">\n<title>23</title>\n<path fill=\"#fffdfc\" stroke=\"#000000\" d=\"M149,-105.5C149,-105.5 12,-105.5 12,-105.5 6,-105.5 0,-99.5 0,-93.5 0,-93.5 0,-64.5 0,-64.5 0,-58.5 6,-52.5 12,-52.5 12,-52.5 149,-52.5 149,-52.5 155,-52.5 161,-58.5 161,-64.5 161,-64.5 161,-93.5 161,-93.5 161,-99.5 155,-105.5 149,-105.5\"/>\n<text text-anchor=\"start\" x=\"8\" y=\"-90.3\" font-family=\"Helvetica,sans-Serif\" font-size=\"14.00\" fill=\"#000000\">squared_error = 77.63</text>\n<text text-anchor=\"start\" x=\"28.5\" y=\"-75.3\" font-family=\"Helvetica,sans-Serif\" font-size=\"14.00\" fill=\"#000000\">samples = 2398</text>\n<text text-anchor=\"start\" x=\"32\" y=\"-60.3\" font-family=\"Helvetica,sans-Serif\" font-size=\"14.00\" fill=\"#000000\">value = 212.22</text>\n</g>\n<!-- 19&#45;&gt;23 -->\n<g id=\"edge4\" class=\"edge\">\n<title>19&#45;&gt;23</title>\n<path fill=\"none\" stroke=\"#000000\" d=\"M253.4005,-663.8382C221.6112,-556.3105 123.7882,-225.4228 91.1927,-115.1682\"/>\n<polygon fill=\"#000000\" stroke=\"#000000\" points=\"94.5262,-114.0983 88.3347,-105.5009 87.8134,-116.0829 94.5262,-114.0983\"/>\n</g>\n<!-- 24 -->\n<g id=\"node6\" class=\"node\">\n<title>24</title>\n<path fill=\"#fbeee4\" stroke=\"#000000\" d=\"M336,-105.5C336,-105.5 191,-105.5 191,-105.5 185,-105.5 179,-99.5 179,-93.5 179,-93.5 179,-64.5 179,-64.5 179,-58.5 185,-52.5 191,-52.5 191,-52.5 336,-52.5 336,-52.5 342,-52.5 348,-58.5 348,-64.5 348,-64.5 348,-93.5 348,-93.5 348,-99.5 342,-105.5 336,-105.5\"/>\n<text text-anchor=\"start\" x=\"187\" y=\"-90.3\" font-family=\"Helvetica,sans-Serif\" font-size=\"14.00\" fill=\"#000000\">squared_error = 100.91</text>\n<text text-anchor=\"start\" x=\"211.5\" y=\"-75.3\" font-family=\"Helvetica,sans-Serif\" font-size=\"14.00\" fill=\"#000000\">samples = 1260</text>\n<text text-anchor=\"start\" x=\"219.5\" y=\"-60.3\" font-family=\"Helvetica,sans-Serif\" font-size=\"14.00\" fill=\"#000000\">value = 225.1</text>\n</g>\n<!-- 19&#45;&gt;24 -->\n<g id=\"edge5\" class=\"edge\">\n<title>19&#45;&gt;24</title>\n<path fill=\"none\" stroke=\"#000000\" d=\"M263.5,-663.8382C263.5,-556.4188 263.5,-226.089 263.5,-115.502\"/>\n<polygon fill=\"#000000\" stroke=\"#000000\" points=\"267.0001,-115.5009 263.5,-105.5009 260.0001,-115.5009 267.0001,-115.5009\"/>\n</g>\n<!-- 21 -->\n<g id=\"node8\" class=\"node\">\n<title>21</title>\n<path fill=\"#ffffff\" stroke=\"#000000\" d=\"M515,-105.5C515,-105.5 378,-105.5 378,-105.5 372,-105.5 366,-99.5 366,-93.5 366,-93.5 366,-64.5 366,-64.5 366,-58.5 372,-52.5 378,-52.5 378,-52.5 515,-52.5 515,-52.5 521,-52.5 527,-58.5 527,-64.5 527,-64.5 527,-93.5 527,-93.5 527,-99.5 521,-105.5 515,-105.5\"/>\n<text text-anchor=\"start\" x=\"374\" y=\"-90.3\" font-family=\"Helvetica,sans-Serif\" font-size=\"14.00\" fill=\"#000000\">squared_error = 47.11</text>\n<text text-anchor=\"start\" x=\"398.5\" y=\"-75.3\" font-family=\"Helvetica,sans-Serif\" font-size=\"14.00\" fill=\"#000000\">samples = 910</text>\n<text text-anchor=\"start\" x=\"398\" y=\"-60.3\" font-family=\"Helvetica,sans-Serif\" font-size=\"14.00\" fill=\"#000000\">value = 210.73</text>\n</g>\n<!-- 20&#45;&gt;21 -->\n<g id=\"edge7\" class=\"edge\">\n<title>20&#45;&gt;21</title>\n<path fill=\"none\" stroke=\"#000000\" d=\"M610.8972,-663.8382C580.6713,-556.3105 487.6592,-225.4228 456.6668,-115.1682\"/>\n<polygon fill=\"#000000\" stroke=\"#000000\" points=\"460.025,-114.1806 453.9494,-105.5009 453.2861,-116.0749 460.025,-114.1806\"/>\n</g>\n<!-- 22 -->\n<g id=\"node9\" class=\"node\">\n<title>22</title>\n<path fill=\"#f8dfcc\" stroke=\"#000000\" d=\"M702,-105.5C702,-105.5 557,-105.5 557,-105.5 551,-105.5 545,-99.5 545,-93.5 545,-93.5 545,-64.5 545,-64.5 545,-58.5 551,-52.5 557,-52.5 557,-52.5 702,-52.5 702,-52.5 708,-52.5 714,-58.5 714,-64.5 714,-64.5 714,-93.5 714,-93.5 714,-99.5 708,-105.5 702,-105.5\"/>\n<text text-anchor=\"start\" x=\"553\" y=\"-90.3\" font-family=\"Helvetica,sans-Serif\" font-size=\"14.00\" fill=\"#000000\">squared_error = 102.24</text>\n<text text-anchor=\"start\" x=\"577.5\" y=\"-75.3\" font-family=\"Helvetica,sans-Serif\" font-size=\"14.00\" fill=\"#000000\">samples = 1598</text>\n<text text-anchor=\"start\" x=\"581\" y=\"-60.3\" font-family=\"Helvetica,sans-Serif\" font-size=\"14.00\" fill=\"#000000\">value = 237.92</text>\n</g>\n<!-- 20&#45;&gt;22 -->\n<g id=\"edge8\" class=\"edge\">\n<title>20&#45;&gt;22</title>\n<path fill=\"none\" stroke=\"#000000\" d=\"M620.9967,-663.8382C622.5585,-556.4188 627.3614,-226.089 628.9693,-115.502\"/>\n<polygon fill=\"#000000\" stroke=\"#000000\" points=\"632.4688,-115.5507 629.1147,-105.5009 625.4696,-115.4489 632.4688,-115.5507\"/>\n</g>\n<!-- 11 -->\n<g id=\"node11\" class=\"node\">\n<title>11</title>\n<path fill=\"#fbeade\" stroke=\"#000000\" d=\"M881,-105.5C881,-105.5 744,-105.5 744,-105.5 738,-105.5 732,-99.5 732,-93.5 732,-93.5 732,-64.5 732,-64.5 732,-58.5 738,-52.5 744,-52.5 744,-52.5 881,-52.5 881,-52.5 887,-52.5 893,-58.5 893,-64.5 893,-64.5 893,-93.5 893,-93.5 893,-99.5 887,-105.5 881,-105.5\"/>\n<text text-anchor=\"start\" x=\"740\" y=\"-90.3\" font-family=\"Helvetica,sans-Serif\" font-size=\"14.00\" fill=\"#000000\">squared_error = 96.11</text>\n<text text-anchor=\"start\" x=\"760.5\" y=\"-75.3\" font-family=\"Helvetica,sans-Serif\" font-size=\"14.00\" fill=\"#000000\">samples = 1925</text>\n<text text-anchor=\"start\" x=\"764\" y=\"-60.3\" font-family=\"Helvetica,sans-Serif\" font-size=\"14.00\" fill=\"#000000\">value = 228.37</text>\n</g>\n<!-- 6&#45;&gt;11 -->\n<g id=\"edge10\" class=\"edge\">\n<title>6&#45;&gt;11</title>\n<path fill=\"none\" stroke=\"#000000\" d=\"M888.6787,-973.8802C878.2442,-900.0362 854.5,-732 854.5,-732 854.5,-732 823.7511,-253.9274 814.8732,-115.8969\"/>\n<polygon fill=\"#000000\" stroke=\"#000000\" points=\"818.3595,-115.5705 814.2248,-105.8158 811.3739,-116.0198 818.3595,-115.5705\"/>\n</g>\n<!-- 12 -->\n<g id=\"node12\" class=\"node\">\n<title>12</title>\n<path fill=\"#f4cbae\" stroke=\"#000000\" d=\"M1115,-732C1115,-732 876,-732 876,-732 870,-732 864,-726 864,-720 864,-720 864,-676 864,-676 864,-670 870,-664 876,-664 876,-664 1115,-664 1115,-664 1121,-664 1127,-670 1127,-676 1127,-676 1127,-720 1127,-720 1127,-726 1121,-732 1115,-732\"/>\n<text text-anchor=\"start\" x=\"872\" y=\"-716.8\" font-family=\"Helvetica,sans-Serif\" font-size=\"14.00\" fill=\"#000000\">lastReportedPosition.speedMPH ≤ 0.5</text>\n<text text-anchor=\"start\" x=\"919\" y=\"-701.8\" font-family=\"Helvetica,sans-Serif\" font-size=\"14.00\" fill=\"#000000\">squared_error = 210.21</text>\n<text text-anchor=\"start\" x=\"943.5\" y=\"-686.8\" font-family=\"Helvetica,sans-Serif\" font-size=\"14.00\" fill=\"#000000\">samples = 2875</text>\n<text text-anchor=\"start\" x=\"947\" y=\"-671.8\" font-family=\"Helvetica,sans-Serif\" font-size=\"14.00\" fill=\"#000000\">value = 254.15</text>\n</g>\n<!-- 6&#45;&gt;12 -->\n<g id=\"edge11\" class=\"edge\">\n<title>6&#45;&gt;12</title>\n<path fill=\"none\" stroke=\"#000000\" d=\"M904.7076,-973.9378C923.3254,-917.3542 960.6049,-804.0539 981.1292,-741.6761\"/>\n<polygon fill=\"#000000\" stroke=\"#000000\" points=\"984.473,-742.7115 984.2739,-732.1185 977.8237,-740.5236 984.473,-742.7115\"/>\n</g>\n<!-- 15 -->\n<g id=\"node13\" class=\"node\">\n<title>15</title>\n<path fill=\"#f7d9c3\" stroke=\"#000000\" d=\"M1068,-105.5C1068,-105.5 923,-105.5 923,-105.5 917,-105.5 911,-99.5 911,-93.5 911,-93.5 911,-64.5 911,-64.5 911,-58.5 917,-52.5 923,-52.5 923,-52.5 1068,-52.5 1068,-52.5 1074,-52.5 1080,-58.5 1080,-64.5 1080,-64.5 1080,-93.5 1080,-93.5 1080,-99.5 1074,-105.5 1068,-105.5\"/>\n<text text-anchor=\"start\" x=\"919\" y=\"-90.3\" font-family=\"Helvetica,sans-Serif\" font-size=\"14.00\" fill=\"#000000\">squared_error = 125.38</text>\n<text text-anchor=\"start\" x=\"943.5\" y=\"-75.3\" font-family=\"Helvetica,sans-Serif\" font-size=\"14.00\" fill=\"#000000\">samples = 1285</text>\n<text text-anchor=\"start\" x=\"947\" y=\"-60.3\" font-family=\"Helvetica,sans-Serif\" font-size=\"14.00\" fill=\"#000000\">value = 242.73</text>\n</g>\n<!-- 12&#45;&gt;15 -->\n<g id=\"edge12\" class=\"edge\">\n<title>12&#45;&gt;15</title>\n<path fill=\"none\" stroke=\"#000000\" d=\"M995.5,-663.8382C995.5,-556.4188 995.5,-226.089 995.5,-115.502\"/>\n<polygon fill=\"#000000\" stroke=\"#000000\" points=\"999.0001,-115.5009 995.5,-105.5009 992.0001,-115.5009 999.0001,-115.5009\"/>\n</g>\n<!-- 16 -->\n<g id=\"node14\" class=\"node\">\n<title>16</title>\n<path fill=\"#f2c09d\" stroke=\"#000000\" d=\"M1238.5,-105.5C1238.5,-105.5 1110.5,-105.5 1110.5,-105.5 1104.5,-105.5 1098.5,-99.5 1098.5,-93.5 1098.5,-93.5 1098.5,-64.5 1098.5,-64.5 1098.5,-58.5 1104.5,-52.5 1110.5,-52.5 1110.5,-52.5 1238.5,-52.5 1238.5,-52.5 1244.5,-52.5 1250.5,-58.5 1250.5,-64.5 1250.5,-64.5 1250.5,-93.5 1250.5,-93.5 1250.5,-99.5 1244.5,-105.5 1238.5,-105.5\"/>\n<text text-anchor=\"start\" x=\"1106.5\" y=\"-90.3\" font-family=\"Helvetica,sans-Serif\" font-size=\"14.00\" fill=\"#000000\">squared_error = 88.3</text>\n<text text-anchor=\"start\" x=\"1122.5\" y=\"-75.3\" font-family=\"Helvetica,sans-Serif\" font-size=\"14.00\" fill=\"#000000\">samples = 1590</text>\n<text text-anchor=\"start\" x=\"1126\" y=\"-60.3\" font-family=\"Helvetica,sans-Serif\" font-size=\"14.00\" fill=\"#000000\">value = 263.38</text>\n</g>\n<!-- 12&#45;&gt;16 -->\n<g id=\"edge13\" class=\"edge\">\n<title>12&#45;&gt;16</title>\n<path fill=\"none\" stroke=\"#000000\" d=\"M1005.3788,-663.8382C1036.4732,-556.3105 1132.158,-225.4228 1164.041,-115.1682\"/>\n<polygon fill=\"#000000\" stroke=\"#000000\" points=\"1167.4208,-116.0796 1166.8366,-105.5009 1160.6963,-114.135 1167.4208,-116.0796\"/>\n</g>\n<!-- 3 -->\n<g id=\"node16\" class=\"node\">\n<title>3</title>\n<path fill=\"#f1ba93\" stroke=\"#000000\" d=\"M1674,-1042C1674,-1042 1529,-1042 1529,-1042 1523,-1042 1517,-1036 1517,-1030 1517,-1030 1517,-986 1517,-986 1517,-980 1523,-974 1529,-974 1529,-974 1674,-974 1674,-974 1680,-974 1686,-980 1686,-986 1686,-986 1686,-1030 1686,-1030 1686,-1036 1680,-1042 1674,-1042\"/>\n<text text-anchor=\"start\" x=\"1561.5\" y=\"-1026.8\" font-family=\"Helvetica,sans-Serif\" font-size=\"14.00\" fill=\"#000000\">mpIncr ≤ 1.5</text>\n<text text-anchor=\"start\" x=\"1525\" y=\"-1011.8\" font-family=\"Helvetica,sans-Serif\" font-size=\"14.00\" fill=\"#000000\">squared_error = 415.45</text>\n<text text-anchor=\"start\" x=\"1549.5\" y=\"-996.8\" font-family=\"Helvetica,sans-Serif\" font-size=\"14.00\" fill=\"#000000\">samples = 4453</text>\n<text text-anchor=\"start\" x=\"1553\" y=\"-981.8\" font-family=\"Helvetica,sans-Serif\" font-size=\"14.00\" fill=\"#000000\">value = 268.45</text>\n</g>\n<!-- 2&#45;&gt;3 -->\n<g id=\"edge15\" class=\"edge\">\n<title>2&#45;&gt;3</title>\n<path fill=\"none\" stroke=\"#000000\" d=\"M1601.5,-1282.751C1601.5,-1226.603 1601.5,-1115.0032 1601.5,-1052.7001\"/>\n<polygon fill=\"#000000\" stroke=\"#000000\" points=\"1605.0001,-1052.4024 1601.5,-1042.4024 1598.0001,-1052.4025 1605.0001,-1052.4024\"/>\n</g>\n<!-- 4 -->\n<g id=\"node23\" class=\"node\">\n<title>4</title>\n<path fill=\"#ea9a60\" stroke=\"#000000\" d=\"M2280,-1042C2280,-1042 2135,-1042 2135,-1042 2129,-1042 2123,-1036 2123,-1030 2123,-1030 2123,-986 2123,-986 2123,-980 2129,-974 2135,-974 2135,-974 2280,-974 2280,-974 2286,-974 2292,-980 2292,-986 2292,-986 2292,-1030 2292,-1030 2292,-1036 2286,-1042 2280,-1042\"/>\n<text text-anchor=\"start\" x=\"2167.5\" y=\"-1026.8\" font-family=\"Helvetica,sans-Serif\" font-size=\"14.00\" fill=\"#000000\">mpIncr ≤ 1.5</text>\n<text text-anchor=\"start\" x=\"2131\" y=\"-1011.8\" font-family=\"Helvetica,sans-Serif\" font-size=\"14.00\" fill=\"#000000\">squared_error = 326.75</text>\n<text text-anchor=\"start\" x=\"2155.5\" y=\"-996.8\" font-family=\"Helvetica,sans-Serif\" font-size=\"14.00\" fill=\"#000000\">samples = 5862</text>\n<text text-anchor=\"start\" x=\"2159\" y=\"-981.8\" font-family=\"Helvetica,sans-Serif\" font-size=\"14.00\" fill=\"#000000\">value = 296.09</text>\n</g>\n<!-- 2&#45;&gt;4 -->\n<g id=\"edge22\" class=\"edge\">\n<title>2&#45;&gt;4</title>\n<path fill=\"none\" stroke=\"#000000\" d=\"M1668.3768,-1282.8995C1781.9266,-1225.0003 2011.7141,-1107.8314 2131.2997,-1046.8546\"/>\n<polygon fill=\"#000000\" stroke=\"#000000\" points=\"2133.0988,-1049.866 2140.4176,-1042.2054 2129.919,-1043.6299 2133.0988,-1049.866\"/>\n</g>\n<!-- 7 -->\n<g id=\"node17\" class=\"node\">\n<title>7</title>\n<path fill=\"#f5cdb1\" stroke=\"#000000\" d=\"M1636,-732C1636,-732 1169,-732 1169,-732 1163,-732 1157,-726 1157,-720 1157,-720 1157,-676 1157,-676 1157,-670 1163,-664 1169,-664 1169,-664 1636,-664 1636,-664 1642,-664 1648,-670 1648,-676 1648,-676 1648,-720 1648,-720 1648,-726 1642,-732 1636,-732\"/>\n<text text-anchor=\"start\" x=\"1165\" y=\"-716.8\" font-family=\"Helvetica,sans-Serif\" font-size=\"14.00\" fill=\"#000000\">lastReportedPosition.milepostLocation.milepost.milepostNumber ≤ 270.87</text>\n<text text-anchor=\"start\" x=\"1330\" y=\"-701.8\" font-family=\"Helvetica,sans-Serif\" font-size=\"14.00\" fill=\"#000000\">squared_error = 91.17</text>\n<text text-anchor=\"start\" x=\"1350.5\" y=\"-686.8\" font-family=\"Helvetica,sans-Serif\" font-size=\"14.00\" fill=\"#000000\">samples = 2189</text>\n<text text-anchor=\"start\" x=\"1354\" y=\"-671.8\" font-family=\"Helvetica,sans-Serif\" font-size=\"14.00\" fill=\"#000000\">value = 252.61</text>\n</g>\n<!-- 3&#45;&gt;7 -->\n<g id=\"edge16\" class=\"edge\">\n<title>3&#45;&gt;7</title>\n<path fill=\"none\" stroke=\"#000000\" d=\"M1579.6343,-973.9378C1543.1617,-917.1213 1469.9805,-803.1204 1430.0445,-740.9086\"/>\n<polygon fill=\"#000000\" stroke=\"#000000\" points=\"1432.7494,-738.6431 1424.4019,-732.1185 1426.8586,-742.4246 1432.7494,-738.6431\"/>\n</g>\n<!-- 8 -->\n<g id=\"node20\" class=\"node\">\n<title>8</title>\n<path fill=\"#eda877\" stroke=\"#000000\" d=\"M1925,-732C1925,-732 1678,-732 1678,-732 1672,-732 1666,-726 1666,-720 1666,-720 1666,-676 1666,-676 1666,-670 1672,-664 1678,-664 1678,-664 1925,-664 1925,-664 1931,-664 1937,-670 1937,-676 1937,-676 1937,-720 1937,-720 1937,-726 1931,-732 1925,-732\"/>\n<text text-anchor=\"start\" x=\"1674\" y=\"-716.8\" font-family=\"Helvetica,sans-Serif\" font-size=\"14.00\" fill=\"#000000\">lastReportedPosition.speedMPH ≤ 10.5</text>\n<text text-anchor=\"start\" x=\"1725\" y=\"-701.8\" font-family=\"Helvetica,sans-Serif\" font-size=\"14.00\" fill=\"#000000\">squared_error = 251.38</text>\n<text text-anchor=\"start\" x=\"1749.5\" y=\"-686.8\" font-family=\"Helvetica,sans-Serif\" font-size=\"14.00\" fill=\"#000000\">samples = 2264</text>\n<text text-anchor=\"start\" x=\"1753\" y=\"-671.8\" font-family=\"Helvetica,sans-Serif\" font-size=\"14.00\" fill=\"#000000\">value = 283.78</text>\n</g>\n<!-- 3&#45;&gt;8 -->\n<g id=\"edge19\" class=\"edge\">\n<title>3&#45;&gt;8</title>\n<path fill=\"none\" stroke=\"#000000\" d=\"M1623.4756,-973.9378C1660.2065,-917.0049 1733.982,-802.6529 1774.0634,-740.5268\"/>\n<polygon fill=\"#000000\" stroke=\"#000000\" points=\"1777.0078,-742.419 1779.4881,-732.1185 1771.1257,-738.624 1777.0078,-742.419\"/>\n</g>\n<!-- 29 -->\n<g id=\"node18\" class=\"node\">\n<title>29</title>\n<path fill=\"#f6d5bd\" stroke=\"#000000\" d=\"M1418,-105.5C1418,-105.5 1281,-105.5 1281,-105.5 1275,-105.5 1269,-99.5 1269,-93.5 1269,-93.5 1269,-64.5 1269,-64.5 1269,-58.5 1275,-52.5 1281,-52.5 1281,-52.5 1418,-52.5 1418,-52.5 1424,-52.5 1430,-58.5 1430,-64.5 1430,-64.5 1430,-93.5 1430,-93.5 1430,-99.5 1424,-105.5 1418,-105.5\"/>\n<text text-anchor=\"start\" x=\"1277\" y=\"-90.3\" font-family=\"Helvetica,sans-Serif\" font-size=\"14.00\" fill=\"#000000\">squared_error = 56.32</text>\n<text text-anchor=\"start\" x=\"1297.5\" y=\"-75.3\" font-family=\"Helvetica,sans-Serif\" font-size=\"14.00\" fill=\"#000000\">samples = 1117</text>\n<text text-anchor=\"start\" x=\"1301\" y=\"-60.3\" font-family=\"Helvetica,sans-Serif\" font-size=\"14.00\" fill=\"#000000\">value = 246.19</text>\n</g>\n<!-- 7&#45;&gt;29 -->\n<g id=\"edge17\" class=\"edge\">\n<title>7&#45;&gt;29</title>\n<path fill=\"none\" stroke=\"#000000\" d=\"M1399.575,-663.8382C1390.3775,-556.4188 1362.094,-226.089 1352.6254,-115.502\"/>\n<polygon fill=\"#000000\" stroke=\"#000000\" points=\"1356.1095,-115.1658 1351.7691,-105.5009 1349.135,-115.763 1356.1095,-115.1658\"/>\n</g>\n<!-- 30 -->\n<g id=\"node19\" class=\"node\">\n<title>30</title>\n<path fill=\"#f3c5a4\" stroke=\"#000000\" d=\"M1597,-105.5C1597,-105.5 1460,-105.5 1460,-105.5 1454,-105.5 1448,-99.5 1448,-93.5 1448,-93.5 1448,-64.5 1448,-64.5 1448,-58.5 1454,-52.5 1460,-52.5 1460,-52.5 1597,-52.5 1597,-52.5 1603,-52.5 1609,-58.5 1609,-64.5 1609,-64.5 1609,-93.5 1609,-93.5 1609,-99.5 1603,-105.5 1597,-105.5\"/>\n<text text-anchor=\"start\" x=\"1456\" y=\"-90.3\" font-family=\"Helvetica,sans-Serif\" font-size=\"14.00\" fill=\"#000000\">squared_error = 39.97</text>\n<text text-anchor=\"start\" x=\"1476.5\" y=\"-75.3\" font-family=\"Helvetica,sans-Serif\" font-size=\"14.00\" fill=\"#000000\">samples = 1072</text>\n<text text-anchor=\"start\" x=\"1480\" y=\"-60.3\" font-family=\"Helvetica,sans-Serif\" font-size=\"14.00\" fill=\"#000000\">value = 259.29</text>\n</g>\n<!-- 7&#45;&gt;30 -->\n<g id=\"edge18\" class=\"edge\">\n<title>7&#45;&gt;30</title>\n<path fill=\"none\" stroke=\"#000000\" d=\"M1409.4538,-663.8382C1431.3194,-556.4188 1498.5594,-226.089 1521.0699,-115.502\"/>\n<polygon fill=\"#000000\" stroke=\"#000000\" points=\"1524.5406,-115.9981 1523.1056,-105.5009 1517.6813,-114.6018 1524.5406,-115.9981\"/>\n</g>\n<!-- 17 -->\n<g id=\"node21\" class=\"node\">\n<title>17</title>\n<path fill=\"#f1bc95\" stroke=\"#000000\" d=\"M1784,-105.5C1784,-105.5 1639,-105.5 1639,-105.5 1633,-105.5 1627,-99.5 1627,-93.5 1627,-93.5 1627,-64.5 1627,-64.5 1627,-58.5 1633,-52.5 1639,-52.5 1639,-52.5 1784,-52.5 1784,-52.5 1790,-52.5 1796,-58.5 1796,-64.5 1796,-64.5 1796,-93.5 1796,-93.5 1796,-99.5 1790,-105.5 1784,-105.5\"/>\n<text text-anchor=\"start\" x=\"1635\" y=\"-90.3\" font-family=\"Helvetica,sans-Serif\" font-size=\"14.00\" fill=\"#000000\">squared_error = 133.38</text>\n<text text-anchor=\"start\" x=\"1663.5\" y=\"-75.3\" font-family=\"Helvetica,sans-Serif\" font-size=\"14.00\" fill=\"#000000\">samples = 742</text>\n<text text-anchor=\"start\" x=\"1663\" y=\"-60.3\" font-family=\"Helvetica,sans-Serif\" font-size=\"14.00\" fill=\"#000000\">value = 267.24</text>\n</g>\n<!-- 8&#45;&gt;17 -->\n<g id=\"edge20\" class=\"edge\">\n<title>8&#45;&gt;17</title>\n<path fill=\"none\" stroke=\"#000000\" d=\"M1796.533,-663.8382C1780.9147,-556.4188 1732.8861,-226.089 1716.8072,-115.502\"/>\n<polygon fill=\"#000000\" stroke=\"#000000\" points=\"1720.2556,-114.8932 1715.3531,-105.5009 1713.3284,-115.9005 1720.2556,-114.8932\"/>\n</g>\n<!-- 18 -->\n<g id=\"node22\" class=\"node\">\n<title>18</title>\n<path fill=\"#eb9f67\" stroke=\"#000000\" d=\"M1971,-105.5C1971,-105.5 1826,-105.5 1826,-105.5 1820,-105.5 1814,-99.5 1814,-93.5 1814,-93.5 1814,-64.5 1814,-64.5 1814,-58.5 1820,-52.5 1826,-52.5 1826,-52.5 1971,-52.5 1971,-52.5 1977,-52.5 1983,-58.5 1983,-64.5 1983,-64.5 1983,-93.5 1983,-93.5 1983,-99.5 1977,-105.5 1971,-105.5\"/>\n<text text-anchor=\"start\" x=\"1822\" y=\"-90.3\" font-family=\"Helvetica,sans-Serif\" font-size=\"14.00\" fill=\"#000000\">squared_error = 110.51</text>\n<text text-anchor=\"start\" x=\"1846.5\" y=\"-75.3\" font-family=\"Helvetica,sans-Serif\" font-size=\"14.00\" fill=\"#000000\">samples = 1522</text>\n<text text-anchor=\"start\" x=\"1850\" y=\"-60.3\" font-family=\"Helvetica,sans-Serif\" font-size=\"14.00\" fill=\"#000000\">value = 291.84</text>\n</g>\n<!-- 8&#45;&gt;18 -->\n<g id=\"edge21\" class=\"edge\">\n<title>8&#45;&gt;18</title>\n<path fill=\"none\" stroke=\"#000000\" d=\"M1806.8533,-663.8382C1823.6864,-556.4188 1875.4505,-226.089 1892.78,-115.502\"/>\n<polygon fill=\"#000000\" stroke=\"#000000\" points=\"1896.2568,-115.9222 1894.3472,-105.5009 1889.3412,-114.8384 1896.2568,-115.9222\"/>\n</g>\n<!-- 9 -->\n<g id=\"node24\" class=\"node\">\n<title>9</title>\n<path fill=\"#eca471\" stroke=\"#000000\" d=\"M2441,-732C2441,-732 1974,-732 1974,-732 1968,-732 1962,-726 1962,-720 1962,-720 1962,-676 1962,-676 1962,-670 1968,-664 1974,-664 1974,-664 2441,-664 2441,-664 2447,-664 2453,-670 2453,-676 2453,-676 2453,-720 2453,-720 2453,-726 2447,-732 2441,-732\"/>\n<text text-anchor=\"start\" x=\"1970\" y=\"-716.8\" font-family=\"Helvetica,sans-Serif\" font-size=\"14.00\" fill=\"#000000\">lastReportedPosition.milepostLocation.milepost.milepostNumber ≤ 306.09</text>\n<text text-anchor=\"start\" x=\"2131\" y=\"-701.8\" font-family=\"Helvetica,sans-Serif\" font-size=\"14.00\" fill=\"#000000\">squared_error = 193.63</text>\n<text text-anchor=\"start\" x=\"2155.5\" y=\"-686.8\" font-family=\"Helvetica,sans-Serif\" font-size=\"14.00\" fill=\"#000000\">samples = 3632</text>\n<text text-anchor=\"start\" x=\"2159\" y=\"-671.8\" font-family=\"Helvetica,sans-Serif\" font-size=\"14.00\" fill=\"#000000\">value = 286.97</text>\n</g>\n<!-- 4&#45;&gt;9 -->\n<g id=\"edge23\" class=\"edge\">\n<title>4&#45;&gt;9</title>\n<path fill=\"none\" stroke=\"#000000\" d=\"M2207.5,-973.9378C2207.5,-917.587 2207.5,-804.9854 2207.5,-742.4487\"/>\n<polygon fill=\"#000000\" stroke=\"#000000\" points=\"2211.0001,-742.1185 2207.5,-732.1185 2204.0001,-742.1185 2211.0001,-742.1185\"/>\n</g>\n<!-- 10 -->\n<g id=\"node27\" class=\"node\">\n<title>10</title>\n<path fill=\"#e68844\" stroke=\"#000000\" d=\"M2725,-732C2725,-732 2486,-732 2486,-732 2480,-732 2474,-726 2474,-720 2474,-720 2474,-676 2474,-676 2474,-670 2480,-664 2486,-664 2486,-664 2725,-664 2725,-664 2731,-664 2737,-670 2737,-676 2737,-676 2737,-720 2737,-720 2737,-726 2731,-732 2725,-732\"/>\n<text text-anchor=\"start\" x=\"2482\" y=\"-716.8\" font-family=\"Helvetica,sans-Serif\" font-size=\"14.00\" fill=\"#000000\">lastReportedPosition.speedMPH ≤ 4.5</text>\n<text text-anchor=\"start\" x=\"2533\" y=\"-701.8\" font-family=\"Helvetica,sans-Serif\" font-size=\"14.00\" fill=\"#000000\">squared_error = 186.8</text>\n<text text-anchor=\"start\" x=\"2553.5\" y=\"-686.8\" font-family=\"Helvetica,sans-Serif\" font-size=\"14.00\" fill=\"#000000\">samples = 2230</text>\n<text text-anchor=\"start\" x=\"2557\" y=\"-671.8\" font-family=\"Helvetica,sans-Serif\" font-size=\"14.00\" fill=\"#000000\">value = 310.96</text>\n</g>\n<!-- 4&#45;&gt;10 -->\n<g id=\"edge26\" class=\"edge\">\n<title>4&#45;&gt;10</title>\n<path fill=\"none\" stroke=\"#000000\" d=\"M2251.2315,-973.9378C2325.2229,-916.3063 2474.753,-799.8381 2553.8066,-738.2637\"/>\n<polygon fill=\"#000000\" stroke=\"#000000\" points=\"2555.9577,-741.0247 2561.6962,-732.1185 2551.6562,-735.5022 2555.9577,-741.0247\"/>\n</g>\n<!-- 13 -->\n<g id=\"node25\" class=\"node\">\n<title>13</title>\n<path fill=\"#efb185\" stroke=\"#000000\" d=\"M2150,-105.5C2150,-105.5 2013,-105.5 2013,-105.5 2007,-105.5 2001,-99.5 2001,-93.5 2001,-93.5 2001,-64.5 2001,-64.5 2001,-58.5 2007,-52.5 2013,-52.5 2013,-52.5 2150,-52.5 2150,-52.5 2156,-52.5 2162,-58.5 2162,-64.5 2162,-64.5 2162,-93.5 2162,-93.5 2162,-99.5 2156,-105.5 2150,-105.5\"/>\n<text text-anchor=\"start\" x=\"2009\" y=\"-90.3\" font-family=\"Helvetica,sans-Serif\" font-size=\"14.00\" fill=\"#000000\">squared_error = 70.48</text>\n<text text-anchor=\"start\" x=\"2029.5\" y=\"-75.3\" font-family=\"Helvetica,sans-Serif\" font-size=\"14.00\" fill=\"#000000\">samples = 1818</text>\n<text text-anchor=\"start\" x=\"2033\" y=\"-60.3\" font-family=\"Helvetica,sans-Serif\" font-size=\"14.00\" fill=\"#000000\">value = 275.96</text>\n</g>\n<!-- 9&#45;&gt;13 -->\n<g id=\"edge24\" class=\"edge\">\n<title>9&#45;&gt;13</title>\n<path fill=\"none\" stroke=\"#000000\" d=\"M2200.5462,-663.8382C2178.6806,-556.4188 2111.4406,-226.089 2088.9301,-115.502\"/>\n<polygon fill=\"#000000\" stroke=\"#000000\" points=\"2092.3187,-114.6018 2086.8944,-105.5009 2085.4594,-115.9981 2092.3187,-114.6018\"/>\n</g>\n<!-- 14 -->\n<g id=\"node26\" class=\"node\">\n<title>14</title>\n<path fill=\"#ea975c\" stroke=\"#000000\" d=\"M2329,-105.5C2329,-105.5 2192,-105.5 2192,-105.5 2186,-105.5 2180,-99.5 2180,-93.5 2180,-93.5 2180,-64.5 2180,-64.5 2180,-58.5 2186,-52.5 2192,-52.5 2192,-52.5 2329,-52.5 2329,-52.5 2335,-52.5 2341,-58.5 2341,-64.5 2341,-64.5 2341,-93.5 2341,-93.5 2341,-99.5 2335,-105.5 2329,-105.5\"/>\n<text text-anchor=\"start\" x=\"2188\" y=\"-90.3\" font-family=\"Helvetica,sans-Serif\" font-size=\"14.00\" fill=\"#000000\">squared_error = 74.06</text>\n<text text-anchor=\"start\" x=\"2208.5\" y=\"-75.3\" font-family=\"Helvetica,sans-Serif\" font-size=\"14.00\" fill=\"#000000\">samples = 1814</text>\n<text text-anchor=\"start\" x=\"2216.5\" y=\"-60.3\" font-family=\"Helvetica,sans-Serif\" font-size=\"14.00\" fill=\"#000000\">value = 298.0</text>\n</g>\n<!-- 9&#45;&gt;14 -->\n<g id=\"edge25\" class=\"edge\">\n<title>9&#45;&gt;14</title>\n<path fill=\"none\" stroke=\"#000000\" d=\"M2210.425,-663.8382C2219.6225,-556.4188 2247.906,-226.089 2257.3746,-115.502\"/>\n<polygon fill=\"#000000\" stroke=\"#000000\" points=\"2260.865,-115.763 2258.2309,-105.5009 2253.8905,-115.1658 2260.865,-115.763\"/>\n</g>\n<!-- 25 -->\n<g id=\"node28\" class=\"node\">\n<title>25</title>\n<path fill=\"#e89152\" stroke=\"#000000\" d=\"M2678,-423C2678,-423 2533,-423 2533,-423 2527,-423 2521,-417 2521,-411 2521,-411 2521,-367 2521,-367 2521,-361 2527,-355 2533,-355 2533,-355 2678,-355 2678,-355 2684,-355 2690,-361 2690,-367 2690,-367 2690,-411 2690,-411 2690,-417 2684,-423 2678,-423\"/>\n<text text-anchor=\"start\" x=\"2552.5\" y=\"-407.8\" font-family=\"Helvetica,sans-Serif\" font-size=\"14.00\" fill=\"#000000\">milepost ≤ 301.5</text>\n<text text-anchor=\"start\" x=\"2529\" y=\"-392.8\" font-family=\"Helvetica,sans-Serif\" font-size=\"14.00\" fill=\"#000000\">squared_error = 257.42</text>\n<text text-anchor=\"start\" x=\"2557.5\" y=\"-377.8\" font-family=\"Helvetica,sans-Serif\" font-size=\"14.00\" fill=\"#000000\">samples = 964</text>\n<text text-anchor=\"start\" x=\"2557\" y=\"-362.8\" font-family=\"Helvetica,sans-Serif\" font-size=\"14.00\" fill=\"#000000\">value = 303.43</text>\n</g>\n<!-- 10&#45;&gt;25 -->\n<g id=\"edge27\" class=\"edge\">\n<title>10&#45;&gt;25</title>\n<path fill=\"none\" stroke=\"#000000\" d=\"M2605.5,-663.751C2605.5,-607.603 2605.5,-496.0032 2605.5,-433.7001\"/>\n<polygon fill=\"#000000\" stroke=\"#000000\" points=\"2609.0001,-433.4024 2605.5,-423.4024 2602.0001,-433.4025 2609.0001,-433.4024\"/>\n</g>\n<!-- 26 -->\n<g id=\"node31\" class=\"node\">\n<title>26</title>\n<path fill=\"#e58139\" stroke=\"#000000\" d=\"M2866,-105.5C2866,-105.5 2729,-105.5 2729,-105.5 2723,-105.5 2717,-99.5 2717,-93.5 2717,-93.5 2717,-64.5 2717,-64.5 2717,-58.5 2723,-52.5 2729,-52.5 2729,-52.5 2866,-52.5 2866,-52.5 2872,-52.5 2878,-58.5 2878,-64.5 2878,-64.5 2878,-93.5 2878,-93.5 2878,-99.5 2872,-105.5 2866,-105.5\"/>\n<text text-anchor=\"start\" x=\"2725\" y=\"-90.3\" font-family=\"Helvetica,sans-Serif\" font-size=\"14.00\" fill=\"#000000\">squared_error = 56.84</text>\n<text text-anchor=\"start\" x=\"2745.5\" y=\"-75.3\" font-family=\"Helvetica,sans-Serif\" font-size=\"14.00\" fill=\"#000000\">samples = 1266</text>\n<text text-anchor=\"start\" x=\"2753.5\" y=\"-60.3\" font-family=\"Helvetica,sans-Serif\" font-size=\"14.00\" fill=\"#000000\">value = 316.7</text>\n</g>\n<!-- 10&#45;&gt;26 -->\n<g id=\"edge30\" class=\"edge\">\n<title>10&#45;&gt;26</title>\n<path fill=\"none\" stroke=\"#000000\" d=\"M2617.0905,-663.7271C2642.0208,-590.0085 2698.5,-423 2698.5,-423 2698.5,-423 2761.5964,-203.7559 2787.0452,-115.3279\"/>\n<polygon fill=\"#000000\" stroke=\"#000000\" points=\"2790.4118,-116.2848 2789.814,-105.7069 2783.6848,-114.3488 2790.4118,-116.2848\"/>\n</g>\n<!-- 27 -->\n<g id=\"node29\" class=\"node\">\n<title>27</title>\n<path fill=\"#eca26c\" stroke=\"#000000\" d=\"M2508,-105.5C2508,-105.5 2371,-105.5 2371,-105.5 2365,-105.5 2359,-99.5 2359,-93.5 2359,-93.5 2359,-64.5 2359,-64.5 2359,-58.5 2365,-52.5 2371,-52.5 2371,-52.5 2508,-52.5 2508,-52.5 2514,-52.5 2520,-58.5 2520,-64.5 2520,-64.5 2520,-93.5 2520,-93.5 2520,-99.5 2514,-105.5 2508,-105.5\"/>\n<text text-anchor=\"start\" x=\"2367\" y=\"-90.3\" font-family=\"Helvetica,sans-Serif\" font-size=\"14.00\" fill=\"#000000\">squared_error = 90.04</text>\n<text text-anchor=\"start\" x=\"2391.5\" y=\"-75.3\" font-family=\"Helvetica,sans-Serif\" font-size=\"14.00\" fill=\"#000000\">samples = 439</text>\n<text text-anchor=\"start\" x=\"2391\" y=\"-60.3\" font-family=\"Helvetica,sans-Serif\" font-size=\"14.00\" fill=\"#000000\">value = 289.27</text>\n</g>\n<!-- 25&#45;&gt;27 -->\n<g id=\"edge28\" class=\"edge\">\n<title>25&#45;&gt;27</title>\n<path fill=\"none\" stroke=\"#000000\" d=\"M2587.2602,-354.9378C2555.6815,-295.9654 2491.1134,-175.3865 2458.8076,-115.0563\"/>\n<polygon fill=\"#000000\" stroke=\"#000000\" points=\"2461.7159,-113.0731 2453.9097,-105.9097 2455.5449,-116.3776 2461.7159,-113.0731\"/>\n</g>\n<!-- 28 -->\n<g id=\"node30\" class=\"node\">\n<title>28</title>\n<path fill=\"#e5833c\" stroke=\"#000000\" d=\"M2687,-105.5C2687,-105.5 2550,-105.5 2550,-105.5 2544,-105.5 2538,-99.5 2538,-93.5 2538,-93.5 2538,-64.5 2538,-64.5 2538,-58.5 2544,-52.5 2550,-52.5 2550,-52.5 2687,-52.5 2687,-52.5 2693,-52.5 2699,-58.5 2699,-64.5 2699,-64.5 2699,-93.5 2699,-93.5 2699,-99.5 2693,-105.5 2687,-105.5\"/>\n<text text-anchor=\"start\" x=\"2546\" y=\"-90.3\" font-family=\"Helvetica,sans-Serif\" font-size=\"14.00\" fill=\"#000000\">squared_error = 89.51</text>\n<text text-anchor=\"start\" x=\"2570.5\" y=\"-75.3\" font-family=\"Helvetica,sans-Serif\" font-size=\"14.00\" fill=\"#000000\">samples = 525</text>\n<text text-anchor=\"start\" x=\"2570\" y=\"-60.3\" font-family=\"Helvetica,sans-Serif\" font-size=\"14.00\" fill=\"#000000\">value = 315.27</text>\n</g>\n<!-- 25&#45;&gt;28 -->\n<g id=\"edge29\" class=\"edge\">\n<title>25&#45;&gt;28</title>\n<path fill=\"none\" stroke=\"#000000\" d=\"M2606.9284,-354.9378C2609.3862,-296.3294 2614.3957,-176.8728 2616.9408,-116.1804\"/>\n<polygon fill=\"#000000\" stroke=\"#000000\" points=\"2620.4494,-116.0476 2617.3715,-105.9097 2613.4555,-115.7542 2620.4494,-116.0476\"/>\n</g>\n</g>\n</svg>\n"
          },
          "metadata": {},
          "execution_count": 55
        }
      ]
    },
    {
      "cell_type": "code",
      "source": [
        "m = DecisionTreeRegressor(min_samples_leaf=9)\n",
        "m.fit(xs, y);"
      ],
      "metadata": {
        "id": "_wto32TJkud4"
      },
      "execution_count": 56,
      "outputs": []
    },
    {
      "cell_type": "markdown",
      "source": [
        "Root Mean Standard Error (RMSE)"
      ],
      "metadata": {
        "id": "nBAw1Qs9zrOf"
      }
    },
    {
      "cell_type": "code",
      "source": [
        "def r_mse(pred,y): return round(math.sqrt(((pred-y)**2).mean()), 6)\n",
        "def m_rmse(m, xs, y): return r_mse(m.predict(xs), y)"
      ],
      "metadata": {
        "id": "D53phc2JE5RC"
      },
      "execution_count": 57,
      "outputs": []
    },
    {
      "cell_type": "markdown",
      "source": [
        "How well we fit the training model:"
      ],
      "metadata": {
        "id": "mdZvu4cJuS9j"
      }
    },
    {
      "cell_type": "code",
      "source": [
        "trainingPreds = m.predict(xs)\n",
        "r_mse(trainingPreds, y)"
      ],
      "metadata": {
        "id": "8CYcTQHLHT4m",
        "colab": {
          "base_uri": "https://localhost:8080/"
        },
        "outputId": "1b7eca49-1101-4ea3-a80e-16696bf228c1"
      },
      "execution_count": 58,
      "outputs": [
        {
          "output_type": "execute_result",
          "data": {
            "text/plain": [
              "4.351028"
            ]
          },
          "metadata": {},
          "execution_count": 58
        }
      ]
    },
    {
      "cell_type": "markdown",
      "source": [
        "How well we fit the Validation Model:"
      ],
      "metadata": {
        "id": "MU_z9z6huZs0"
      }
    },
    {
      "cell_type": "code",
      "source": [
        "validationPreds = m.predict(valid_xs)\n",
        "r_mse(validationPreds, valid_y)"
      ],
      "metadata": {
        "id": "_oElvFDHHZHm",
        "colab": {
          "base_uri": "https://localhost:8080/"
        },
        "outputId": "19430703-01c0-4ccb-c1a6-1c4f77a5cfd0"
      },
      "execution_count": 59,
      "outputs": [
        {
          "output_type": "execute_result",
          "data": {
            "text/plain": [
              "6.348249"
            ]
          },
          "metadata": {},
          "execution_count": 59
        }
      ]
    },
    {
      "cell_type": "code",
      "source": [
        "def showPredictions(predictionsSeries, validSeries):\n",
        "  b = predictionsSeries.reset_index(drop=true)\n",
        "  y = validSeries.reset_index(drop=true)\n",
        "  df  = pd.concat([b, y], axis=1)\n",
        "  df = df.dropna()\n",
        "  df.rename(columns={ df.columns[0]: \"prediction\", df.columns[1]: \"actual\" }, inplace = True)\n",
        "  print(df)\n",
        "  print(\"RMSE: \", r_mse(df.iloc[:,0], df.iloc[:,1]))"
      ],
      "metadata": {
        "id": "a0PigmWJQz0p"
      },
      "execution_count": 60,
      "outputs": []
    },
    {
      "cell_type": "markdown",
      "source": [
        "Simple Decision Tree Predictions:"
      ],
      "metadata": {
        "id": "hH86mURdpHNM"
      }
    },
    {
      "cell_type": "code",
      "source": [
        "showPredictions(pd.DataFrame(validationPreds), valid_y)"
      ],
      "metadata": {
        "id": "KNrkUX1AhjZ-",
        "colab": {
          "base_uri": "https://localhost:8080/"
        },
        "outputId": "75543fb5-423d-480a-c239-45b25ca02a31"
      },
      "execution_count": 61,
      "outputs": [
        {
          "output_type": "stream",
          "name": "stdout",
          "text": [
            "      prediction      actual\n",
            "0     303.163334  303.640961\n",
            "1     291.977973  294.448029\n",
            "2     293.250034  291.374786\n",
            "3     271.920529  289.952820\n",
            "4     286.088489  281.968353\n",
            "...          ...         ...\n",
            "4772  243.815102  234.916779\n",
            "4773  225.352109  225.433594\n",
            "4774  214.570223  217.805466\n",
            "4775  212.445114  216.637177\n",
            "4776  207.250463  204.977356\n",
            "\n",
            "[4777 rows x 2 columns]\n",
            "RMSE:  6.348249\n"
          ]
        }
      ]
    },
    {
      "cell_type": "code",
      "source": [
        "def rf_feat_importance(m, df):\n",
        "    return pd.DataFrame({'cols':df.columns, 'imp':m.feature_importances_}\n",
        "                       ).sort_values('imp', ascending=False)"
      ],
      "metadata": {
        "id": "oCKCSQSlab4o"
      },
      "execution_count": 62,
      "outputs": []
    },
    {
      "cell_type": "code",
      "source": [
        "fi = rf_feat_importance(m, xs)\n",
        "fi[:10]"
      ],
      "metadata": {
        "id": "jxENiQDXlYKl",
        "colab": {
          "base_uri": "https://localhost:8080/",
          "height": 363
        },
        "outputId": "2abe5638-4482-4d1b-aee4-85d316723466"
      },
      "execution_count": 63,
      "outputs": [
        {
          "output_type": "execute_result",
          "data": {
            "text/plain": [
              "                                                             cols       imp\n",
              "23  lastReportedPosition.milepostLocation.milepost.milepostNumber  0.808569\n",
              "12                                                         mpIncr  0.127665\n",
              "22                                  lastReportedPosition.speedMPH  0.043937\n",
              "38                                                       milepost  0.008127\n",
              "3                                             trainId.trainSymbol  0.001926\n",
              "0                                             ptcLeadLocomotiveId  0.000853\n",
              "42                           lastReportedPosition.positionTimeDay  0.000763\n",
              "35                                                  emptyCarCount  0.000699\n",
              "24                                   aotuTrainData.totalCarWeight  0.000597\n",
              "7                                      aotuTrainData.priorityCode  0.000593"
            ],
            "text/html": [
              "\n",
              "  <div id=\"df-adb33a0a-185d-45a8-916d-762f34675897\">\n",
              "    <div class=\"colab-df-container\">\n",
              "      <div>\n",
              "<style scoped>\n",
              "    .dataframe tbody tr th:only-of-type {\n",
              "        vertical-align: middle;\n",
              "    }\n",
              "\n",
              "    .dataframe tbody tr th {\n",
              "        vertical-align: top;\n",
              "    }\n",
              "\n",
              "    .dataframe thead th {\n",
              "        text-align: right;\n",
              "    }\n",
              "</style>\n",
              "<table border=\"1\" class=\"dataframe\">\n",
              "  <thead>\n",
              "    <tr style=\"text-align: right;\">\n",
              "      <th></th>\n",
              "      <th>cols</th>\n",
              "      <th>imp</th>\n",
              "    </tr>\n",
              "  </thead>\n",
              "  <tbody>\n",
              "    <tr>\n",
              "      <th>23</th>\n",
              "      <td>lastReportedPosition.milepostLocation.milepost.milepostNumber</td>\n",
              "      <td>0.808569</td>\n",
              "    </tr>\n",
              "    <tr>\n",
              "      <th>12</th>\n",
              "      <td>mpIncr</td>\n",
              "      <td>0.127665</td>\n",
              "    </tr>\n",
              "    <tr>\n",
              "      <th>22</th>\n",
              "      <td>lastReportedPosition.speedMPH</td>\n",
              "      <td>0.043937</td>\n",
              "    </tr>\n",
              "    <tr>\n",
              "      <th>38</th>\n",
              "      <td>milepost</td>\n",
              "      <td>0.008127</td>\n",
              "    </tr>\n",
              "    <tr>\n",
              "      <th>3</th>\n",
              "      <td>trainId.trainSymbol</td>\n",
              "      <td>0.001926</td>\n",
              "    </tr>\n",
              "    <tr>\n",
              "      <th>0</th>\n",
              "      <td>ptcLeadLocomotiveId</td>\n",
              "      <td>0.000853</td>\n",
              "    </tr>\n",
              "    <tr>\n",
              "      <th>42</th>\n",
              "      <td>lastReportedPosition.positionTimeDay</td>\n",
              "      <td>0.000763</td>\n",
              "    </tr>\n",
              "    <tr>\n",
              "      <th>35</th>\n",
              "      <td>emptyCarCount</td>\n",
              "      <td>0.000699</td>\n",
              "    </tr>\n",
              "    <tr>\n",
              "      <th>24</th>\n",
              "      <td>aotuTrainData.totalCarWeight</td>\n",
              "      <td>0.000597</td>\n",
              "    </tr>\n",
              "    <tr>\n",
              "      <th>7</th>\n",
              "      <td>aotuTrainData.priorityCode</td>\n",
              "      <td>0.000593</td>\n",
              "    </tr>\n",
              "  </tbody>\n",
              "</table>\n",
              "</div>\n",
              "      <button class=\"colab-df-convert\" onclick=\"convertToInteractive('df-adb33a0a-185d-45a8-916d-762f34675897')\"\n",
              "              title=\"Convert this dataframe to an interactive table.\"\n",
              "              style=\"display:none;\">\n",
              "        \n",
              "  <svg xmlns=\"http://www.w3.org/2000/svg\" height=\"24px\"viewBox=\"0 0 24 24\"\n",
              "       width=\"24px\">\n",
              "    <path d=\"M0 0h24v24H0V0z\" fill=\"none\"/>\n",
              "    <path d=\"M18.56 5.44l.94 2.06.94-2.06 2.06-.94-2.06-.94-.94-2.06-.94 2.06-2.06.94zm-11 1L8.5 8.5l.94-2.06 2.06-.94-2.06-.94L8.5 2.5l-.94 2.06-2.06.94zm10 10l.94 2.06.94-2.06 2.06-.94-2.06-.94-.94-2.06-.94 2.06-2.06.94z\"/><path d=\"M17.41 7.96l-1.37-1.37c-.4-.4-.92-.59-1.43-.59-.52 0-1.04.2-1.43.59L10.3 9.45l-7.72 7.72c-.78.78-.78 2.05 0 2.83L4 21.41c.39.39.9.59 1.41.59.51 0 1.02-.2 1.41-.59l7.78-7.78 2.81-2.81c.8-.78.8-2.07 0-2.86zM5.41 20L4 18.59l7.72-7.72 1.47 1.35L5.41 20z\"/>\n",
              "  </svg>\n",
              "      </button>\n",
              "      \n",
              "  <style>\n",
              "    .colab-df-container {\n",
              "      display:flex;\n",
              "      flex-wrap:wrap;\n",
              "      gap: 12px;\n",
              "    }\n",
              "\n",
              "    .colab-df-convert {\n",
              "      background-color: #E8F0FE;\n",
              "      border: none;\n",
              "      border-radius: 50%;\n",
              "      cursor: pointer;\n",
              "      display: none;\n",
              "      fill: #1967D2;\n",
              "      height: 32px;\n",
              "      padding: 0 0 0 0;\n",
              "      width: 32px;\n",
              "    }\n",
              "\n",
              "    .colab-df-convert:hover {\n",
              "      background-color: #E2EBFA;\n",
              "      box-shadow: 0px 1px 2px rgba(60, 64, 67, 0.3), 0px 1px 3px 1px rgba(60, 64, 67, 0.15);\n",
              "      fill: #174EA6;\n",
              "    }\n",
              "\n",
              "    [theme=dark] .colab-df-convert {\n",
              "      background-color: #3B4455;\n",
              "      fill: #D2E3FC;\n",
              "    }\n",
              "\n",
              "    [theme=dark] .colab-df-convert:hover {\n",
              "      background-color: #434B5C;\n",
              "      box-shadow: 0px 1px 3px 1px rgba(0, 0, 0, 0.15);\n",
              "      filter: drop-shadow(0px 1px 2px rgba(0, 0, 0, 0.3));\n",
              "      fill: #FFFFFF;\n",
              "    }\n",
              "  </style>\n",
              "\n",
              "      <script>\n",
              "        const buttonEl =\n",
              "          document.querySelector('#df-adb33a0a-185d-45a8-916d-762f34675897 button.colab-df-convert');\n",
              "        buttonEl.style.display =\n",
              "          google.colab.kernel.accessAllowed ? 'block' : 'none';\n",
              "\n",
              "        async function convertToInteractive(key) {\n",
              "          const element = document.querySelector('#df-adb33a0a-185d-45a8-916d-762f34675897');\n",
              "          const dataTable =\n",
              "            await google.colab.kernel.invokeFunction('convertToInteractive',\n",
              "                                                     [key], {});\n",
              "          if (!dataTable) return;\n",
              "\n",
              "          const docLinkHtml = 'Like what you see? Visit the ' +\n",
              "            '<a target=\"_blank\" href=https://colab.research.google.com/notebooks/data_table.ipynb>data table notebook</a>'\n",
              "            + ' to learn more about interactive tables.';\n",
              "          element.innerHTML = '';\n",
              "          dataTable['output_type'] = 'display_data';\n",
              "          await google.colab.output.renderOutput(dataTable, element);\n",
              "          const docLink = document.createElement('div');\n",
              "          docLink.innerHTML = docLinkHtml;\n",
              "          element.appendChild(docLink);\n",
              "        }\n",
              "      </script>\n",
              "    </div>\n",
              "  </div>\n",
              "  "
            ]
          },
          "metadata": {},
          "execution_count": 63
        }
      ]
    },
    {
      "cell_type": "markdown",
      "source": [
        ""
      ],
      "metadata": {
        "id": "GAU4iShuUTlj"
      }
    },
    {
      "cell_type": "code",
      "source": [
        "ax = xs['lastReportedPosition.speedMPH'].hist(bins=60)\n"
      ],
      "metadata": {
        "id": "W_xHGvS4mTAv",
        "colab": {
          "base_uri": "https://localhost:8080/",
          "height": 265
        },
        "outputId": "ca6d9f21-04f4-4a95-8581-2aab516ee9a6"
      },
      "execution_count": 64,
      "outputs": [
        {
          "output_type": "display_data",
          "data": {
            "text/plain": [
              "<Figure size 432x288 with 1 Axes>"
            ],
            "image/png": "[encoded data removed]"
          },
          "metadata": {
            "needs_background": "light"
          }
        }
      ]
    },
    {
      "cell_type": "code",
      "source": [
        "from sklearn.inspection import plot_partial_dependence\n",
        "\n",
        "fig,ax = plt.subplots(figsize=(12, 4))\n",
        "plot_partial_dependence(m, xs, ['lastReportedPosition.speedMPH'],\n",
        "                        grid_resolution=20, ax=ax);"
      ],
      "metadata": {
        "id": "dVfYTqKvniXo",
        "colab": {
          "base_uri": "https://localhost:8080/",
          "height": 334
        },
        "outputId": "7c092992-6454-4260-c211-1874816573e3"
      },
      "execution_count": 65,
      "outputs": [
        {
          "output_type": "stream",
          "name": "stderr",
          "text": [
            "/usr/local/lib/python3.7/dist-packages/sklearn/utils/deprecation.py:87: FutureWarning: Function plot_partial_dependence is deprecated; Function `plot_partial_dependence` is deprecated in 1.0 and will be removed in 1.2. Use PartialDependenceDisplay.from_estimator instead\n",
            "  warnings.warn(msg, category=FutureWarning)\n"
          ]
        },
        {
          "output_type": "display_data",
          "data": {
            "text/plain": [
              "<Figure size 864x288 with 2 Axes>"
            ],
            "image/png": "[encoded data removed]"
          },
          "metadata": {
            "needs_background": "light"
          }
        }
      ]
    },
    {
      "cell_type": "markdown",
      "source": [
        "#Random Forest"
      ],
      "metadata": {
        "id": "-iGNWlJDmQrV"
      }
    },
    {
      "cell_type": "code",
      "source": [
        "def randomForest(xs, y, n_estimators=50, max_samples=20000,\n",
        "       max_features=0.7, min_samples_leaf=7, **kwargs):\n",
        "    return RandomForestRegressor(n_jobs=-1, n_estimators=n_estimators,\n",
        "        max_samples=max_samples, max_features=max_features,\n",
        "        min_samples_leaf=min_samples_leaf, oob_score=True).fit(xs, y)"
      ],
      "metadata": {
        "id": "FllkOgNkUTGW"
      },
      "execution_count": 66,
      "outputs": []
    },
    {
      "cell_type": "code",
      "source": [
        "m = randomForest(xs, y);"
      ],
      "metadata": {
        "id": "OqX5AcTWVRXE"
      },
      "execution_count": 67,
      "outputs": []
    },
    {
      "cell_type": "code",
      "source": [
        "m_rmse(m, xs, y), m_rmse(m, valid_xs, valid_y)"
      ],
      "metadata": {
        "id": "33ncywqjVcwn",
        "colab": {
          "base_uri": "https://localhost:8080/"
        },
        "outputId": "48c0b63e-5626-44b9-d977-a50938a0e3e2"
      },
      "execution_count": 68,
      "outputs": [
        {
          "output_type": "execute_result",
          "data": {
            "text/plain": [
              "(4.237453, 5.503297)"
            ]
          },
          "metadata": {},
          "execution_count": 68
        }
      ]
    },
    {
      "cell_type": "code",
      "source": [
        "preds = np.stack([t.predict(valid_xs) for t in m.estimators_])"
      ],
      "metadata": {
        "id": "Dg6iyZCIW0Nt",
        "colab": {
          "base_uri": "https://localhost:8080/"
        },
        "outputId": "ef9a1c63-4c6b-4795-ad52-bd0d19a4057a"
      },
      "execution_count": 69,
      "outputs": [
        {
          "output_type": "stream",
          "name": "stderr",
          "text": [
            "/usr/local/lib/python3.7/dist-packages/sklearn/base.py:444: UserWarning: X has feature names, but DecisionTreeRegressor was fitted without feature names\n",
            "  f\"X has feature names, but {self.__class__.__name__} was fitted without\"\n",
            "/usr/local/lib/python3.7/dist-packages/sklearn/base.py:444: UserWarning: X has feature names, but DecisionTreeRegressor was fitted without feature names\n",
            "  f\"X has feature names, but {self.__class__.__name__} was fitted without\"\n",
            "/usr/local/lib/python3.7/dist-packages/sklearn/base.py:444: UserWarning: X has feature names, but DecisionTreeRegressor was fitted without feature names\n",
            "  f\"X has feature names, but {self.__class__.__name__} was fitted without\"\n",
            "/usr/local/lib/python3.7/dist-packages/sklearn/base.py:444: UserWarning: X has feature names, but DecisionTreeRegressor was fitted without feature names\n",
            "  f\"X has feature names, but {self.__class__.__name__} was fitted without\"\n",
            "/usr/local/lib/python3.7/dist-packages/sklearn/base.py:444: UserWarning: X has feature names, but DecisionTreeRegressor was fitted without feature names\n",
            "  f\"X has feature names, but {self.__class__.__name__} was fitted without\"\n",
            "/usr/local/lib/python3.7/dist-packages/sklearn/base.py:444: UserWarning: X has feature names, but DecisionTreeRegressor was fitted without feature names\n",
            "  f\"X has feature names, but {self.__class__.__name__} was fitted without\"\n",
            "/usr/local/lib/python3.7/dist-packages/sklearn/base.py:444: UserWarning: X has feature names, but DecisionTreeRegressor was fitted without feature names\n",
            "  f\"X has feature names, but {self.__class__.__name__} was fitted without\"\n",
            "/usr/local/lib/python3.7/dist-packages/sklearn/base.py:444: UserWarning: X has feature names, but DecisionTreeRegressor was fitted without feature names\n",
            "  f\"X has feature names, but {self.__class__.__name__} was fitted without\"\n",
            "/usr/local/lib/python3.7/dist-packages/sklearn/base.py:444: UserWarning: X has feature names, but DecisionTreeRegressor was fitted without feature names\n",
            "  f\"X has feature names, but {self.__class__.__name__} was fitted without\"\n",
            "/usr/local/lib/python3.7/dist-packages/sklearn/base.py:444: UserWarning: X has feature names, but DecisionTreeRegressor was fitted without feature names\n",
            "  f\"X has feature names, but {self.__class__.__name__} was fitted without\"\n",
            "/usr/local/lib/python3.7/dist-packages/sklearn/base.py:444: UserWarning: X has feature names, but DecisionTreeRegressor was fitted without feature names\n",
            "  f\"X has feature names, but {self.__class__.__name__} was fitted without\"\n",
            "/usr/local/lib/python3.7/dist-packages/sklearn/base.py:444: UserWarning: X has feature names, but DecisionTreeRegressor was fitted without feature names\n",
            "  f\"X has feature names, but {self.__class__.__name__} was fitted without\"\n",
            "/usr/local/lib/python3.7/dist-packages/sklearn/base.py:444: UserWarning: X has feature names, but DecisionTreeRegressor was fitted without feature names\n",
            "  f\"X has feature names, but {self.__class__.__name__} was fitted without\"\n",
            "/usr/local/lib/python3.7/dist-packages/sklearn/base.py:444: UserWarning: X has feature names, but DecisionTreeRegressor was fitted without feature names\n",
            "  f\"X has feature names, but {self.__class__.__name__} was fitted without\"\n",
            "/usr/local/lib/python3.7/dist-packages/sklearn/base.py:444: UserWarning: X has feature names, but DecisionTreeRegressor was fitted without feature names\n",
            "  f\"X has feature names, but {self.__class__.__name__} was fitted without\"\n",
            "/usr/local/lib/python3.7/dist-packages/sklearn/base.py:444: UserWarning: X has feature names, but DecisionTreeRegressor was fitted without feature names\n",
            "  f\"X has feature names, but {self.__class__.__name__} was fitted without\"\n",
            "/usr/local/lib/python3.7/dist-packages/sklearn/base.py:444: UserWarning: X has feature names, but DecisionTreeRegressor was fitted without feature names\n",
            "  f\"X has feature names, but {self.__class__.__name__} was fitted without\"\n",
            "/usr/local/lib/python3.7/dist-packages/sklearn/base.py:444: UserWarning: X has feature names, but DecisionTreeRegressor was fitted without feature names\n",
            "  f\"X has feature names, but {self.__class__.__name__} was fitted without\"\n",
            "/usr/local/lib/python3.7/dist-packages/sklearn/base.py:444: UserWarning: X has feature names, but DecisionTreeRegressor was fitted without feature names\n",
            "  f\"X has feature names, but {self.__class__.__name__} was fitted without\"\n",
            "/usr/local/lib/python3.7/dist-packages/sklearn/base.py:444: UserWarning: X has feature names, but DecisionTreeRegressor was fitted without feature names\n",
            "  f\"X has feature names, but {self.__class__.__name__} was fitted without\"\n",
            "/usr/local/lib/python3.7/dist-packages/sklearn/base.py:444: UserWarning: X has feature names, but DecisionTreeRegressor was fitted without feature names\n",
            "  f\"X has feature names, but {self.__class__.__name__} was fitted without\"\n",
            "/usr/local/lib/python3.7/dist-packages/sklearn/base.py:444: UserWarning: X has feature names, but DecisionTreeRegressor was fitted without feature names\n",
            "  f\"X has feature names, but {self.__class__.__name__} was fitted without\"\n",
            "/usr/local/lib/python3.7/dist-packages/sklearn/base.py:444: UserWarning: X has feature names, but DecisionTreeRegressor was fitted without feature names\n",
            "  f\"X has feature names, but {self.__class__.__name__} was fitted without\"\n",
            "/usr/local/lib/python3.7/dist-packages/sklearn/base.py:444: UserWarning: X has feature names, but DecisionTreeRegressor was fitted without feature names\n",
            "  f\"X has feature names, but {self.__class__.__name__} was fitted without\"\n",
            "/usr/local/lib/python3.7/dist-packages/sklearn/base.py:444: UserWarning: X has feature names, but DecisionTreeRegressor was fitted without feature names\n",
            "  f\"X has feature names, but {self.__class__.__name__} was fitted without\"\n",
            "/usr/local/lib/python3.7/dist-packages/sklearn/base.py:444: UserWarning: X has feature names, but DecisionTreeRegressor was fitted without feature names\n",
            "  f\"X has feature names, but {self.__class__.__name__} was fitted without\"\n",
            "/usr/local/lib/python3.7/dist-packages/sklearn/base.py:444: UserWarning: X has feature names, but DecisionTreeRegressor was fitted without feature names\n",
            "  f\"X has feature names, but {self.__class__.__name__} was fitted without\"\n",
            "/usr/local/lib/python3.7/dist-packages/sklearn/base.py:444: UserWarning: X has feature names, but DecisionTreeRegressor was fitted without feature names\n",
            "  f\"X has feature names, but {self.__class__.__name__} was fitted without\"\n",
            "/usr/local/lib/python3.7/dist-packages/sklearn/base.py:444: UserWarning: X has feature names, but DecisionTreeRegressor was fitted without feature names\n",
            "  f\"X has feature names, but {self.__class__.__name__} was fitted without\"\n",
            "/usr/local/lib/python3.7/dist-packages/sklearn/base.py:444: UserWarning: X has feature names, but DecisionTreeRegressor was fitted without feature names\n",
            "  f\"X has feature names, but {self.__class__.__name__} was fitted without\"\n",
            "/usr/local/lib/python3.7/dist-packages/sklearn/base.py:444: UserWarning: X has feature names, but DecisionTreeRegressor was fitted without feature names\n",
            "  f\"X has feature names, but {self.__class__.__name__} was fitted without\"\n",
            "/usr/local/lib/python3.7/dist-packages/sklearn/base.py:444: UserWarning: X has feature names, but DecisionTreeRegressor was fitted without feature names\n",
            "  f\"X has feature names, but {self.__class__.__name__} was fitted without\"\n",
            "/usr/local/lib/python3.7/dist-packages/sklearn/base.py:444: UserWarning: X has feature names, but DecisionTreeRegressor was fitted without feature names\n",
            "  f\"X has feature names, but {self.__class__.__name__} was fitted without\"\n",
            "/usr/local/lib/python3.7/dist-packages/sklearn/base.py:444: UserWarning: X has feature names, but DecisionTreeRegressor was fitted without feature names\n",
            "  f\"X has feature names, but {self.__class__.__name__} was fitted without\"\n",
            "/usr/local/lib/python3.7/dist-packages/sklearn/base.py:444: UserWarning: X has feature names, but DecisionTreeRegressor was fitted without feature names\n",
            "  f\"X has feature names, but {self.__class__.__name__} was fitted without\"\n",
            "/usr/local/lib/python3.7/dist-packages/sklearn/base.py:444: UserWarning: X has feature names, but DecisionTreeRegressor was fitted without feature names\n",
            "  f\"X has feature names, but {self.__class__.__name__} was fitted without\"\n",
            "/usr/local/lib/python3.7/dist-packages/sklearn/base.py:444: UserWarning: X has feature names, but DecisionTreeRegressor was fitted without feature names\n",
            "  f\"X has feature names, but {self.__class__.__name__} was fitted without\"\n",
            "/usr/local/lib/python3.7/dist-packages/sklearn/base.py:444: UserWarning: X has feature names, but DecisionTreeRegressor was fitted without feature names\n",
            "  f\"X has feature names, but {self.__class__.__name__} was fitted without\"\n",
            "/usr/local/lib/python3.7/dist-packages/sklearn/base.py:444: UserWarning: X has feature names, but DecisionTreeRegressor was fitted without feature names\n",
            "  f\"X has feature names, but {self.__class__.__name__} was fitted without\"\n",
            "/usr/local/lib/python3.7/dist-packages/sklearn/base.py:444: UserWarning: X has feature names, but DecisionTreeRegressor was fitted without feature names\n",
            "  f\"X has feature names, but {self.__class__.__name__} was fitted without\"\n",
            "/usr/local/lib/python3.7/dist-packages/sklearn/base.py:444: UserWarning: X has feature names, but DecisionTreeRegressor was fitted without feature names\n",
            "  f\"X has feature names, but {self.__class__.__name__} was fitted without\"\n",
            "/usr/local/lib/python3.7/dist-packages/sklearn/base.py:444: UserWarning: X has feature names, but DecisionTreeRegressor was fitted without feature names\n",
            "  f\"X has feature names, but {self.__class__.__name__} was fitted without\"\n",
            "/usr/local/lib/python3.7/dist-packages/sklearn/base.py:444: UserWarning: X has feature names, but DecisionTreeRegressor was fitted without feature names\n",
            "  f\"X has feature names, but {self.__class__.__name__} was fitted without\"\n",
            "/usr/local/lib/python3.7/dist-packages/sklearn/base.py:444: UserWarning: X has feature names, but DecisionTreeRegressor was fitted without feature names\n",
            "  f\"X has feature names, but {self.__class__.__name__} was fitted without\"\n",
            "/usr/local/lib/python3.7/dist-packages/sklearn/base.py:444: UserWarning: X has feature names, but DecisionTreeRegressor was fitted without feature names\n",
            "  f\"X has feature names, but {self.__class__.__name__} was fitted without\"\n",
            "/usr/local/lib/python3.7/dist-packages/sklearn/base.py:444: UserWarning: X has feature names, but DecisionTreeRegressor was fitted without feature names\n",
            "  f\"X has feature names, but {self.__class__.__name__} was fitted without\"\n",
            "/usr/local/lib/python3.7/dist-packages/sklearn/base.py:444: UserWarning: X has feature names, but DecisionTreeRegressor was fitted without feature names\n",
            "  f\"X has feature names, but {self.__class__.__name__} was fitted without\"\n",
            "/usr/local/lib/python3.7/dist-packages/sklearn/base.py:444: UserWarning: X has feature names, but DecisionTreeRegressor was fitted without feature names\n",
            "  f\"X has feature names, but {self.__class__.__name__} was fitted without\"\n",
            "/usr/local/lib/python3.7/dist-packages/sklearn/base.py:444: UserWarning: X has feature names, but DecisionTreeRegressor was fitted without feature names\n",
            "  f\"X has feature names, but {self.__class__.__name__} was fitted without\"\n",
            "/usr/local/lib/python3.7/dist-packages/sklearn/base.py:444: UserWarning: X has feature names, but DecisionTreeRegressor was fitted without feature names\n",
            "  f\"X has feature names, but {self.__class__.__name__} was fitted without\"\n"
          ]
        }
      ]
    },
    {
      "cell_type": "markdown",
      "source": [
        "Random Forest Predictions:"
      ],
      "metadata": {
        "id": "oey4Bph2o9ww"
      }
    },
    {
      "cell_type": "code",
      "source": [
        "showPredictions(pd.DataFrame(preds.mean(0)), valid_y)\n"
      ],
      "metadata": {
        "id": "ckS6D1nEfhtm",
        "colab": {
          "base_uri": "https://localhost:8080/"
        },
        "outputId": "490f7a2f-de4e-4ca4-f263-9de4f4d15da1"
      },
      "execution_count": 70,
      "outputs": [
        {
          "output_type": "stream",
          "name": "stdout",
          "text": [
            "      prediction      actual\n",
            "0     304.628378  303.640961\n",
            "1     292.768414  294.448029\n",
            "2     287.572378  291.374786\n",
            "3     273.684225  289.952820\n",
            "4     287.446467  281.968353\n",
            "...          ...         ...\n",
            "4772  236.366963  234.916779\n",
            "4773  226.722472  225.433594\n",
            "4774  216.607090  217.805466\n",
            "4775  209.128261  216.637177\n",
            "4776  210.636495  204.977356\n",
            "\n",
            "[4777 rows x 2 columns]\n",
            "RMSE:  5.503297\n"
          ]
        }
      ]
    },
    {
      "cell_type": "code",
      "source": [
        "plt.plot([r_mse(preds[:i+1].mean(0), valid_y) for i in range(50)]);"
      ],
      "metadata": {
        "id": "eT0fXh6uXIp1",
        "colab": {
          "base_uri": "https://localhost:8080/",
          "height": 265
        },
        "outputId": "53d97597-48b3-4fbc-ab4a-fb2349881360"
      },
      "execution_count": 71,
      "outputs": [
        {
          "output_type": "display_data",
          "data": {
            "text/plain": [
              "<Figure size 432x288 with 1 Axes>"
            ],
            "image/png": "[encoded data removed]"
          },
          "metadata": {
            "needs_background": "light"
          }
        }
      ]
    },
    {
      "cell_type": "markdown",
      "source": [
        "Out-of-Bag Error"
      ],
      "metadata": {
        "id": "GN-VS3_2YsOd"
      }
    },
    {
      "cell_type": "code",
      "source": [
        "r_mse(m.oob_prediction_, y)"
      ],
      "metadata": {
        "id": "tvwS19-6Yc20",
        "colab": {
          "base_uri": "https://localhost:8080/"
        },
        "outputId": "ef7cbaf5-0850-44db-93cf-e2594ddc7f80"
      },
      "execution_count": 72,
      "outputs": [
        {
          "output_type": "execute_result",
          "data": {
            "text/plain": [
              "5.625228"
            ]
          },
          "metadata": {},
          "execution_count": 72
        }
      ]
    },
    {
      "cell_type": "markdown",
      "source": [
        "- How confident are we in our predictions using a particular row of data?\n",
        "- For predicting with a particular row of data, what were the most important factors, and how did they influence that prediction?\n",
        "- Which columns are the strongest predictors, which can we ignore?\n",
        "- Which columns are effectively redundant with each other, for purposes of prediction?\n",
        "- How do predictions vary, as we vary these columns?\n"
      ],
      "metadata": {
        "id": "-jSxQWTZZDfx"
      }
    },
    {
      "cell_type": "code",
      "source": [
        "preds = np.stack([t.predict(valid_xs) for t in m.estimators_])"
      ],
      "metadata": {
        "id": "eS53q1RUZRva",
        "colab": {
          "base_uri": "https://localhost:8080/"
        },
        "outputId": "37f3e4b5-4e38-4d61-d417-20202e83dbc0"
      },
      "execution_count": 73,
      "outputs": [
        {
          "output_type": "stream",
          "name": "stderr",
          "text": [
            "/usr/local/lib/python3.7/dist-packages/sklearn/base.py:444: UserWarning: X has feature names, but DecisionTreeRegressor was fitted without feature names\n",
            "  f\"X has feature names, but {self.__class__.__name__} was fitted without\"\n",
            "/usr/local/lib/python3.7/dist-packages/sklearn/base.py:444: UserWarning: X has feature names, but DecisionTreeRegressor was fitted without feature names\n",
            "  f\"X has feature names, but {self.__class__.__name__} was fitted without\"\n",
            "/usr/local/lib/python3.7/dist-packages/sklearn/base.py:444: UserWarning: X has feature names, but DecisionTreeRegressor was fitted without feature names\n",
            "  f\"X has feature names, but {self.__class__.__name__} was fitted without\"\n",
            "/usr/local/lib/python3.7/dist-packages/sklearn/base.py:444: UserWarning: X has feature names, but DecisionTreeRegressor was fitted without feature names\n",
            "  f\"X has feature names, but {self.__class__.__name__} was fitted without\"\n",
            "/usr/local/lib/python3.7/dist-packages/sklearn/base.py:444: UserWarning: X has feature names, but DecisionTreeRegressor was fitted without feature names\n",
            "  f\"X has feature names, but {self.__class__.__name__} was fitted without\"\n",
            "/usr/local/lib/python3.7/dist-packages/sklearn/base.py:444: UserWarning: X has feature names, but DecisionTreeRegressor was fitted without feature names\n",
            "  f\"X has feature names, but {self.__class__.__name__} was fitted without\"\n",
            "/usr/local/lib/python3.7/dist-packages/sklearn/base.py:444: UserWarning: X has feature names, but DecisionTreeRegressor was fitted without feature names\n",
            "  f\"X has feature names, but {self.__class__.__name__} was fitted without\"\n",
            "/usr/local/lib/python3.7/dist-packages/sklearn/base.py:444: UserWarning: X has feature names, but DecisionTreeRegressor was fitted without feature names\n",
            "  f\"X has feature names, but {self.__class__.__name__} was fitted without\"\n",
            "/usr/local/lib/python3.7/dist-packages/sklearn/base.py:444: UserWarning: X has feature names, but DecisionTreeRegressor was fitted without feature names\n",
            "  f\"X has feature names, but {self.__class__.__name__} was fitted without\"\n",
            "/usr/local/lib/python3.7/dist-packages/sklearn/base.py:444: UserWarning: X has feature names, but DecisionTreeRegressor was fitted without feature names\n",
            "  f\"X has feature names, but {self.__class__.__name__} was fitted without\"\n",
            "/usr/local/lib/python3.7/dist-packages/sklearn/base.py:444: UserWarning: X has feature names, but DecisionTreeRegressor was fitted without feature names\n",
            "  f\"X has feature names, but {self.__class__.__name__} was fitted without\"\n",
            "/usr/local/lib/python3.7/dist-packages/sklearn/base.py:444: UserWarning: X has feature names, but DecisionTreeRegressor was fitted without feature names\n",
            "  f\"X has feature names, but {self.__class__.__name__} was fitted without\"\n",
            "/usr/local/lib/python3.7/dist-packages/sklearn/base.py:444: UserWarning: X has feature names, but DecisionTreeRegressor was fitted without feature names\n",
            "  f\"X has feature names, but {self.__class__.__name__} was fitted without\"\n",
            "/usr/local/lib/python3.7/dist-packages/sklearn/base.py:444: UserWarning: X has feature names, but DecisionTreeRegressor was fitted without feature names\n",
            "  f\"X has feature names, but {self.__class__.__name__} was fitted without\"\n",
            "/usr/local/lib/python3.7/dist-packages/sklearn/base.py:444: UserWarning: X has feature names, but DecisionTreeRegressor was fitted without feature names\n",
            "  f\"X has feature names, but {self.__class__.__name__} was fitted without\"\n",
            "/usr/local/lib/python3.7/dist-packages/sklearn/base.py:444: UserWarning: X has feature names, but DecisionTreeRegressor was fitted without feature names\n",
            "  f\"X has feature names, but {self.__class__.__name__} was fitted without\"\n",
            "/usr/local/lib/python3.7/dist-packages/sklearn/base.py:444: UserWarning: X has feature names, but DecisionTreeRegressor was fitted without feature names\n",
            "  f\"X has feature names, but {self.__class__.__name__} was fitted without\"\n",
            "/usr/local/lib/python3.7/dist-packages/sklearn/base.py:444: UserWarning: X has feature names, but DecisionTreeRegressor was fitted without feature names\n",
            "  f\"X has feature names, but {self.__class__.__name__} was fitted without\"\n",
            "/usr/local/lib/python3.7/dist-packages/sklearn/base.py:444: UserWarning: X has feature names, but DecisionTreeRegressor was fitted without feature names\n",
            "  f\"X has feature names, but {self.__class__.__name__} was fitted without\"\n",
            "/usr/local/lib/python3.7/dist-packages/sklearn/base.py:444: UserWarning: X has feature names, but DecisionTreeRegressor was fitted without feature names\n",
            "  f\"X has feature names, but {self.__class__.__name__} was fitted without\"\n",
            "/usr/local/lib/python3.7/dist-packages/sklearn/base.py:444: UserWarning: X has feature names, but DecisionTreeRegressor was fitted without feature names\n",
            "  f\"X has feature names, but {self.__class__.__name__} was fitted without\"\n",
            "/usr/local/lib/python3.7/dist-packages/sklearn/base.py:444: UserWarning: X has feature names, but DecisionTreeRegressor was fitted without feature names\n",
            "  f\"X has feature names, but {self.__class__.__name__} was fitted without\"\n",
            "/usr/local/lib/python3.7/dist-packages/sklearn/base.py:444: UserWarning: X has feature names, but DecisionTreeRegressor was fitted without feature names\n",
            "  f\"X has feature names, but {self.__class__.__name__} was fitted without\"\n",
            "/usr/local/lib/python3.7/dist-packages/sklearn/base.py:444: UserWarning: X has feature names, but DecisionTreeRegressor was fitted without feature names\n",
            "  f\"X has feature names, but {self.__class__.__name__} was fitted without\"\n",
            "/usr/local/lib/python3.7/dist-packages/sklearn/base.py:444: UserWarning: X has feature names, but DecisionTreeRegressor was fitted without feature names\n",
            "  f\"X has feature names, but {self.__class__.__name__} was fitted without\"\n",
            "/usr/local/lib/python3.7/dist-packages/sklearn/base.py:444: UserWarning: X has feature names, but DecisionTreeRegressor was fitted without feature names\n",
            "  f\"X has feature names, but {self.__class__.__name__} was fitted without\"\n",
            "/usr/local/lib/python3.7/dist-packages/sklearn/base.py:444: UserWarning: X has feature names, but DecisionTreeRegressor was fitted without feature names\n",
            "  f\"X has feature names, but {self.__class__.__name__} was fitted without\"\n",
            "/usr/local/lib/python3.7/dist-packages/sklearn/base.py:444: UserWarning: X has feature names, but DecisionTreeRegressor was fitted without feature names\n",
            "  f\"X has feature names, but {self.__class__.__name__} was fitted without\"\n",
            "/usr/local/lib/python3.7/dist-packages/sklearn/base.py:444: UserWarning: X has feature names, but DecisionTreeRegressor was fitted without feature names\n",
            "  f\"X has feature names, but {self.__class__.__name__} was fitted without\"\n",
            "/usr/local/lib/python3.7/dist-packages/sklearn/base.py:444: UserWarning: X has feature names, but DecisionTreeRegressor was fitted without feature names\n",
            "  f\"X has feature names, but {self.__class__.__name__} was fitted without\"\n",
            "/usr/local/lib/python3.7/dist-packages/sklearn/base.py:444: UserWarning: X has feature names, but DecisionTreeRegressor was fitted without feature names\n",
            "  f\"X has feature names, but {self.__class__.__name__} was fitted without\"\n",
            "/usr/local/lib/python3.7/dist-packages/sklearn/base.py:444: UserWarning: X has feature names, but DecisionTreeRegressor was fitted without feature names\n",
            "  f\"X has feature names, but {self.__class__.__name__} was fitted without\"\n",
            "/usr/local/lib/python3.7/dist-packages/sklearn/base.py:444: UserWarning: X has feature names, but DecisionTreeRegressor was fitted without feature names\n",
            "  f\"X has feature names, but {self.__class__.__name__} was fitted without\"\n",
            "/usr/local/lib/python3.7/dist-packages/sklearn/base.py:444: UserWarning: X has feature names, but DecisionTreeRegressor was fitted without feature names\n",
            "  f\"X has feature names, but {self.__class__.__name__} was fitted without\"\n",
            "/usr/local/lib/python3.7/dist-packages/sklearn/base.py:444: UserWarning: X has feature names, but DecisionTreeRegressor was fitted without feature names\n",
            "  f\"X has feature names, but {self.__class__.__name__} was fitted without\"\n",
            "/usr/local/lib/python3.7/dist-packages/sklearn/base.py:444: UserWarning: X has feature names, but DecisionTreeRegressor was fitted without feature names\n",
            "  f\"X has feature names, but {self.__class__.__name__} was fitted without\"\n",
            "/usr/local/lib/python3.7/dist-packages/sklearn/base.py:444: UserWarning: X has feature names, but DecisionTreeRegressor was fitted without feature names\n",
            "  f\"X has feature names, but {self.__class__.__name__} was fitted without\"\n",
            "/usr/local/lib/python3.7/dist-packages/sklearn/base.py:444: UserWarning: X has feature names, but DecisionTreeRegressor was fitted without feature names\n",
            "  f\"X has feature names, but {self.__class__.__name__} was fitted without\"\n",
            "/usr/local/lib/python3.7/dist-packages/sklearn/base.py:444: UserWarning: X has feature names, but DecisionTreeRegressor was fitted without feature names\n",
            "  f\"X has feature names, but {self.__class__.__name__} was fitted without\"\n",
            "/usr/local/lib/python3.7/dist-packages/sklearn/base.py:444: UserWarning: X has feature names, but DecisionTreeRegressor was fitted without feature names\n",
            "  f\"X has feature names, but {self.__class__.__name__} was fitted without\"\n",
            "/usr/local/lib/python3.7/dist-packages/sklearn/base.py:444: UserWarning: X has feature names, but DecisionTreeRegressor was fitted without feature names\n",
            "  f\"X has feature names, but {self.__class__.__name__} was fitted without\"\n",
            "/usr/local/lib/python3.7/dist-packages/sklearn/base.py:444: UserWarning: X has feature names, but DecisionTreeRegressor was fitted without feature names\n",
            "  f\"X has feature names, but {self.__class__.__name__} was fitted without\"\n",
            "/usr/local/lib/python3.7/dist-packages/sklearn/base.py:444: UserWarning: X has feature names, but DecisionTreeRegressor was fitted without feature names\n",
            "  f\"X has feature names, but {self.__class__.__name__} was fitted without\"\n",
            "/usr/local/lib/python3.7/dist-packages/sklearn/base.py:444: UserWarning: X has feature names, but DecisionTreeRegressor was fitted without feature names\n",
            "  f\"X has feature names, but {self.__class__.__name__} was fitted without\"\n",
            "/usr/local/lib/python3.7/dist-packages/sklearn/base.py:444: UserWarning: X has feature names, but DecisionTreeRegressor was fitted without feature names\n",
            "  f\"X has feature names, but {self.__class__.__name__} was fitted without\"\n",
            "/usr/local/lib/python3.7/dist-packages/sklearn/base.py:444: UserWarning: X has feature names, but DecisionTreeRegressor was fitted without feature names\n",
            "  f\"X has feature names, but {self.__class__.__name__} was fitted without\"\n",
            "/usr/local/lib/python3.7/dist-packages/sklearn/base.py:444: UserWarning: X has feature names, but DecisionTreeRegressor was fitted without feature names\n",
            "  f\"X has feature names, but {self.__class__.__name__} was fitted without\"\n",
            "/usr/local/lib/python3.7/dist-packages/sklearn/base.py:444: UserWarning: X has feature names, but DecisionTreeRegressor was fitted without feature names\n",
            "  f\"X has feature names, but {self.__class__.__name__} was fitted without\"\n",
            "/usr/local/lib/python3.7/dist-packages/sklearn/base.py:444: UserWarning: X has feature names, but DecisionTreeRegressor was fitted without feature names\n",
            "  f\"X has feature names, but {self.__class__.__name__} was fitted without\"\n",
            "/usr/local/lib/python3.7/dist-packages/sklearn/base.py:444: UserWarning: X has feature names, but DecisionTreeRegressor was fitted without feature names\n",
            "  f\"X has feature names, but {self.__class__.__name__} was fitted without\"\n"
          ]
        }
      ]
    },
    {
      "cell_type": "code",
      "source": [
        "preds.shape"
      ],
      "metadata": {
        "id": "quArhZFkZtq_",
        "colab": {
          "base_uri": "https://localhost:8080/"
        },
        "outputId": "7c9b2fd5-c8f1-4af8-d57b-fd075024ec7b"
      },
      "execution_count": 74,
      "outputs": [
        {
          "output_type": "execute_result",
          "data": {
            "text/plain": [
              "(50, 4777)"
            ]
          },
          "metadata": {},
          "execution_count": 74
        }
      ]
    },
    {
      "cell_type": "markdown",
      "source": [
        "We can get the standard deviation of the predictions over all the trees, for each train:"
      ],
      "metadata": {
        "id": "ZpBA_gVB2Xhx"
      }
    },
    {
      "cell_type": "code",
      "source": [
        "preds_std = preds.std(0)"
      ],
      "metadata": {
        "id": "xZCBhV9MZxSH"
      },
      "execution_count": 75,
      "outputs": []
    },
    {
      "cell_type": "markdown",
      "source": [
        "Standard Deviation for the predictions of the first 5 trains:\n"
      ],
      "metadata": {
        "id": "KQNvNZOp13k3"
      }
    },
    {
      "cell_type": "code",
      "source": [
        "preds_std[:5]"
      ],
      "metadata": {
        "id": "ZvKvldDdZ44S",
        "colab": {
          "base_uri": "https://localhost:8080/"
        },
        "outputId": "ac60c2b3-c415-4a35-f4c4-3744f7cececf"
      },
      "execution_count": 76,
      "outputs": [
        {
          "output_type": "execute_result",
          "data": {
            "text/plain": [
              "array([2.26381224, 2.37905292, 3.75320314, 2.25643694, 5.49096513])"
            ]
          },
          "metadata": {},
          "execution_count": 76
        }
      ]
    },
    {
      "cell_type": "markdown",
      "source": [
        "# FEATURE Importance"
      ],
      "metadata": {
        "id": "tkENwKVIaPXc"
      }
    },
    {
      "cell_type": "code",
      "source": [
        "fi = rf_feat_importance(m, xs)\n",
        "fi[:20]"
      ],
      "metadata": {
        "id": "_xddcBHXaj9O",
        "colab": {
          "base_uri": "https://localhost:8080/",
          "height": 677
        },
        "outputId": "3fd87133-c9c2-4e18-c657-630f43b22933"
      },
      "execution_count": 77,
      "outputs": [
        {
          "output_type": "execute_result",
          "data": {
            "text/plain": [
              "                                                             cols       imp\n",
              "23  lastReportedPosition.milepostLocation.milepost.milepostNumber  0.665353\n",
              "38                                                       milepost  0.148314\n",
              "12                                                         mpIncr  0.116855\n",
              "22                                  lastReportedPosition.speedMPH  0.049217\n",
              "6                 lastReportedPosition.milepostLocation.trackName  0.002704\n",
              "3                                             trainId.trainSymbol  0.002578\n",
              "14                                                  workLocations  0.001601\n",
              "34                                                 loadedCarCount  0.001207\n",
              "36                                                    trainLength  0.001205\n",
              "0                                             ptcLeadLocomotiveId  0.000880\n",
              "37                                                trailingTonnage  0.000838\n",
              "24                                   aotuTrainData.totalCarWeight  0.000809\n",
              "35                                                  emptyCarCount  0.000807\n",
              "42                           lastReportedPosition.positionTimeDay  0.000786\n",
              "25                                   aotuTrainData.totalCarLength  0.000752\n",
              "13                                                     symbolType  0.000683\n",
              "45                       lastReportedPosition.positionTimeElapsed  0.000678\n",
              "26                            aotuTrainData.totalLocomotiveWeight  0.000632\n",
              "7                                      aotuTrainData.priorityCode  0.000576\n",
              "33                                              maximumTrainSpeed  0.000524"
            ],
            "text/html": [
              "\n",
              "  <div id=\"df-89cc2aab-43e4-4163-b824-1277a95a6d58\">\n",
              "    <div class=\"colab-df-container\">\n",
              "      <div>\n",
              "<style scoped>\n",
              "    .dataframe tbody tr th:only-of-type {\n",
              "        vertical-align: middle;\n",
              "    }\n",
              "\n",
              "    .dataframe tbody tr th {\n",
              "        vertical-align: top;\n",
              "    }\n",
              "\n",
              "    .dataframe thead th {\n",
              "        text-align: right;\n",
              "    }\n",
              "</style>\n",
              "<table border=\"1\" class=\"dataframe\">\n",
              "  <thead>\n",
              "    <tr style=\"text-align: right;\">\n",
              "      <th></th>\n",
              "      <th>cols</th>\n",
              "      <th>imp</th>\n",
              "    </tr>\n",
              "  </thead>\n",
              "  <tbody>\n",
              "    <tr>\n",
              "      <th>23</th>\n",
              "      <td>lastReportedPosition.milepostLocation.milepost.milepostNumber</td>\n",
              "      <td>0.665353</td>\n",
              "    </tr>\n",
              "    <tr>\n",
              "      <th>38</th>\n",
              "      <td>milepost</td>\n",
              "      <td>0.148314</td>\n",
              "    </tr>\n",
              "    <tr>\n",
              "      <th>12</th>\n",
              "      <td>mpIncr</td>\n",
              "      <td>0.116855</td>\n",
              "    </tr>\n",
              "    <tr>\n",
              "      <th>22</th>\n",
              "      <td>lastReportedPosition.speedMPH</td>\n",
              "      <td>0.049217</td>\n",
              "    </tr>\n",
              "    <tr>\n",
              "      <th>6</th>\n",
              "      <td>lastReportedPosition.milepostLocation.trackName</td>\n",
              "      <td>0.002704</td>\n",
              "    </tr>\n",
              "    <tr>\n",
              "      <th>3</th>\n",
              "      <td>trainId.trainSymbol</td>\n",
              "      <td>0.002578</td>\n",
              "    </tr>\n",
              "    <tr>\n",
              "      <th>14</th>\n",
              "      <td>workLocations</td>\n",
              "      <td>0.001601</td>\n",
              "    </tr>\n",
              "    <tr>\n",
              "      <th>34</th>\n",
              "      <td>loadedCarCount</td>\n",
              "      <td>0.001207</td>\n",
              "    </tr>\n",
              "    <tr>\n",
              "      <th>36</th>\n",
              "      <td>trainLength</td>\n",
              "      <td>0.001205</td>\n",
              "    </tr>\n",
              "    <tr>\n",
              "      <th>0</th>\n",
              "      <td>ptcLeadLocomotiveId</td>\n",
              "      <td>0.000880</td>\n",
              "    </tr>\n",
              "    <tr>\n",
              "      <th>37</th>\n",
              "      <td>trailingTonnage</td>\n",
              "      <td>0.000838</td>\n",
              "    </tr>\n",
              "    <tr>\n",
              "      <th>24</th>\n",
              "      <td>aotuTrainData.totalCarWeight</td>\n",
              "      <td>0.000809</td>\n",
              "    </tr>\n",
              "    <tr>\n",
              "      <th>35</th>\n",
              "      <td>emptyCarCount</td>\n",
              "      <td>0.000807</td>\n",
              "    </tr>\n",
              "    <tr>\n",
              "      <th>42</th>\n",
              "      <td>lastReportedPosition.positionTimeDay</td>\n",
              "      <td>0.000786</td>\n",
              "    </tr>\n",
              "    <tr>\n",
              "      <th>25</th>\n",
              "      <td>aotuTrainData.totalCarLength</td>\n",
              "      <td>0.000752</td>\n",
              "    </tr>\n",
              "    <tr>\n",
              "      <th>13</th>\n",
              "      <td>symbolType</td>\n",
              "      <td>0.000683</td>\n",
              "    </tr>\n",
              "    <tr>\n",
              "      <th>45</th>\n",
              "      <td>lastReportedPosition.positionTimeElapsed</td>\n",
              "      <td>0.000678</td>\n",
              "    </tr>\n",
              "    <tr>\n",
              "      <th>26</th>\n",
              "      <td>aotuTrainData.totalLocomotiveWeight</td>\n",
              "      <td>0.000632</td>\n",
              "    </tr>\n",
              "    <tr>\n",
              "      <th>7</th>\n",
              "      <td>aotuTrainData.priorityCode</td>\n",
              "      <td>0.000576</td>\n",
              "    </tr>\n",
              "    <tr>\n",
              "      <th>33</th>\n",
              "      <td>maximumTrainSpeed</td>\n",
              "      <td>0.000524</td>\n",
              "    </tr>\n",
              "  </tbody>\n",
              "</table>\n",
              "</div>\n",
              "      <button class=\"colab-df-convert\" onclick=\"convertToInteractive('df-89cc2aab-43e4-4163-b824-1277a95a6d58')\"\n",
              "              title=\"Convert this dataframe to an interactive table.\"\n",
              "              style=\"display:none;\">\n",
              "        \n",
              "  <svg xmlns=\"http://www.w3.org/2000/svg\" height=\"24px\"viewBox=\"0 0 24 24\"\n",
              "       width=\"24px\">\n",
              "    <path d=\"M0 0h24v24H0V0z\" fill=\"none\"/>\n",
              "    <path d=\"M18.56 5.44l.94 2.06.94-2.06 2.06-.94-2.06-.94-.94-2.06-.94 2.06-2.06.94zm-11 1L8.5 8.5l.94-2.06 2.06-.94-2.06-.94L8.5 2.5l-.94 2.06-2.06.94zm10 10l.94 2.06.94-2.06 2.06-.94-2.06-.94-.94-2.06-.94 2.06-2.06.94z\"/><path d=\"M17.41 7.96l-1.37-1.37c-.4-.4-.92-.59-1.43-.59-.52 0-1.04.2-1.43.59L10.3 9.45l-7.72 7.72c-.78.78-.78 2.05 0 2.83L4 21.41c.39.39.9.59 1.41.59.51 0 1.02-.2 1.41-.59l7.78-7.78 2.81-2.81c.8-.78.8-2.07 0-2.86zM5.41 20L4 18.59l7.72-7.72 1.47 1.35L5.41 20z\"/>\n",
              "  </svg>\n",
              "      </button>\n",
              "      \n",
              "  <style>\n",
              "    .colab-df-container {\n",
              "      display:flex;\n",
              "      flex-wrap:wrap;\n",
              "      gap: 12px;\n",
              "    }\n",
              "\n",
              "    .colab-df-convert {\n",
              "      background-color: #E8F0FE;\n",
              "      border: none;\n",
              "      border-radius: 50%;\n",
              "      cursor: pointer;\n",
              "      display: none;\n",
              "      fill: #1967D2;\n",
              "      height: 32px;\n",
              "      padding: 0 0 0 0;\n",
              "      width: 32px;\n",
              "    }\n",
              "\n",
              "    .colab-df-convert:hover {\n",
              "      background-color: #E2EBFA;\n",
              "      box-shadow: 0px 1px 2px rgba(60, 64, 67, 0.3), 0px 1px 3px 1px rgba(60, 64, 67, 0.15);\n",
              "      fill: #174EA6;\n",
              "    }\n",
              "\n",
              "    [theme=dark] .colab-df-convert {\n",
              "      background-color: #3B4455;\n",
              "      fill: #D2E3FC;\n",
              "    }\n",
              "\n",
              "    [theme=dark] .colab-df-convert:hover {\n",
              "      background-color: #434B5C;\n",
              "      box-shadow: 0px 1px 3px 1px rgba(0, 0, 0, 0.15);\n",
              "      filter: drop-shadow(0px 1px 2px rgba(0, 0, 0, 0.3));\n",
              "      fill: #FFFFFF;\n",
              "    }\n",
              "  </style>\n",
              "\n",
              "      <script>\n",
              "        const buttonEl =\n",
              "          document.querySelector('#df-89cc2aab-43e4-4163-b824-1277a95a6d58 button.colab-df-convert');\n",
              "        buttonEl.style.display =\n",
              "          google.colab.kernel.accessAllowed ? 'block' : 'none';\n",
              "\n",
              "        async function convertToInteractive(key) {\n",
              "          const element = document.querySelector('#df-89cc2aab-43e4-4163-b824-1277a95a6d58');\n",
              "          const dataTable =\n",
              "            await google.colab.kernel.invokeFunction('convertToInteractive',\n",
              "                                                     [key], {});\n",
              "          if (!dataTable) return;\n",
              "\n",
              "          const docLinkHtml = 'Like what you see? Visit the ' +\n",
              "            '<a target=\"_blank\" href=https://colab.research.google.com/notebooks/data_table.ipynb>data table notebook</a>'\n",
              "            + ' to learn more about interactive tables.';\n",
              "          element.innerHTML = '';\n",
              "          dataTable['output_type'] = 'display_data';\n",
              "          await google.colab.output.renderOutput(dataTable, element);\n",
              "          const docLink = document.createElement('div');\n",
              "          docLink.innerHTML = docLinkHtml;\n",
              "          element.appendChild(docLink);\n",
              "        }\n",
              "      </script>\n",
              "    </div>\n",
              "  </div>\n",
              "  "
            ]
          },
          "metadata": {},
          "execution_count": 77
        }
      ]
    },
    {
      "cell_type": "code",
      "source": [
        "def plot_fi(fi):\n",
        "    return fi.plot('cols', 'imp', 'barh', figsize=(12,7), legend=False)\n",
        "\n",
        "plot_fi(fi[:30]);"
      ],
      "metadata": {
        "id": "PrrzmK6AflwF",
        "colab": {
          "base_uri": "https://localhost:8080/",
          "height": 428
        },
        "outputId": "37d91ea4-c545-46d3-804b-a5951aa0813f"
      },
      "execution_count": 78,
      "outputs": [
        {
          "output_type": "display_data",
          "data": {
            "text/plain": [
              "<Figure size 864x504 with 1 Axes>"
            ],
            "image/png": "[encoded data removed]"
          },
          "metadata": {
            "needs_background": "light"
          }
        }
      ]
    },
    {
      "cell_type": "markdown",
      "source": [
        "Remove low importance columns"
      ],
      "metadata": {
        "id": "ic6LbeWIf2EQ"
      }
    },
    {
      "cell_type": "code",
      "source": [
        "to_keep = fi[fi.imp>0.0002].cols\n",
        "len(to_keep)"
      ],
      "metadata": {
        "id": "jaWtqZdQfwmy",
        "colab": {
          "base_uri": "https://localhost:8080/"
        },
        "outputId": "96cc8842-4e43-4e5f-8df2-a063a78ed548"
      },
      "execution_count": 79,
      "outputs": [
        {
          "output_type": "execute_result",
          "data": {
            "text/plain": [
              "27"
            ]
          },
          "metadata": {},
          "execution_count": 79
        }
      ]
    },
    {
      "cell_type": "code",
      "source": [
        "xs_imp = xs[to_keep]\n",
        "valid_xs_imp = valid_xs[to_keep]"
      ],
      "metadata": {
        "id": "KK47uCFsgAYv"
      },
      "execution_count": 80,
      "outputs": []
    },
    {
      "cell_type": "code",
      "source": [
        "m = randomForest(xs_imp, y)"
      ],
      "metadata": {
        "id": "GgFy875_gGp4"
      },
      "execution_count": 81,
      "outputs": []
    },
    {
      "cell_type": "code",
      "source": [
        "m_rmse(m, xs_imp, y), m_rmse(m, valid_xs_imp, valid_y)"
      ],
      "metadata": {
        "id": "5e5LZrqmgJf2",
        "colab": {
          "base_uri": "https://localhost:8080/"
        },
        "outputId": "3e1c162c-20fb-4517-904d-88b920f15165"
      },
      "execution_count": 82,
      "outputs": [
        {
          "output_type": "execute_result",
          "data": {
            "text/plain": [
              "(4.240128, 5.516886)"
            ]
          },
          "metadata": {},
          "execution_count": 82
        }
      ]
    },
    {
      "cell_type": "code",
      "source": [
        "plot_fi(rf_feat_importance(m, xs_imp));"
      ],
      "metadata": {
        "id": "5Szx4cKsgKPL",
        "colab": {
          "base_uri": "https://localhost:8080/",
          "height": 428
        },
        "outputId": "0e002d56-6d3f-480d-ae25-791c9f8c67c7"
      },
      "execution_count": 83,
      "outputs": [
        {
          "output_type": "display_data",
          "data": {
            "text/plain": [
              "<Figure size 864x504 with 1 Axes>"
            ],
            "image/png": "[encoded data removed]"
          },
          "metadata": {
            "needs_background": "light"
          }
        }
      ]
    },
    {
      "cell_type": "code",
      "source": [
        "fastai.cluster_columns(xs_imp)"
      ],
      "metadata": {
        "id": "ZRqtok8LhwlR",
        "colab": {
          "base_uri": "https://localhost:8080/",
          "height": 374
        },
        "outputId": "9e48ff4d-d8a3-4de2-cc87-7a2ea9b8886b"
      },
      "execution_count": 84,
      "outputs": [
        {
          "output_type": "display_data",
          "data": {
            "text/plain": [
              "<Figure size 720x432 with 1 Axes>"
            ],
            "image/png": "[encoded data removed]"
          },
          "metadata": {
            "needs_background": "light"
          }
        }
      ]
    },
    {
      "cell_type": "markdown",
      "source": [
        "# Compute the Physics Model loss for the same interval:"
      ],
      "metadata": {
        "id": "Q-BM2Bkc_YgZ"
      }
    },
    {
      "cell_type": "code",
      "source": [
        "showPredictions(dfTrainsNextBeop.tail(len(valid_y)), valid_y)"
      ],
      "metadata": {
        "id": "dzCptGlqeZNi",
        "colab": {
          "base_uri": "https://localhost:8080/"
        },
        "outputId": "ea1a7396-4246-445e-dc02-b33becf4ca78"
      },
      "execution_count": 85,
      "outputs": [
        {
          "output_type": "stream",
          "name": "stdout",
          "text": [
            "      prediction      actual\n",
            "0      278.68982  303.640961\n",
            "1      266.71667  294.448029\n",
            "2      253.55254  291.374786\n",
            "3      243.76240  289.952820\n",
            "4      233.61288  281.968353\n",
            "...          ...         ...\n",
            "4770   220.55757  249.759094\n",
            "4771   218.39552  243.129913\n",
            "4772   206.39474  234.916779\n",
            "4773   196.57080  225.433594\n",
            "4775   194.76132  216.637177\n",
            "\n",
            "[2759 rows x 2 columns]\n",
            "RMSE:  49.853631\n"
          ]
        }
      ]
    },
    {
      "cell_type": "markdown",
      "source": [
        "# Finding Out-of-Domain Data\n",
        "Spot variables that are unique to the test set versus the training set"
      ],
      "metadata": {
        "id": "1N-rN5Y9BoHT"
      }
    },
    {
      "cell_type": "code",
      "source": [
        "df_dom = pd.concat([xs, valid_xs])\n",
        "is_valid = np.array([0]*len(xs) + [1]*len(valid_xs))\n",
        "\n",
        "m = randomForest(df_dom, is_valid)\n",
        "rf_feat_importance(m, df_dom)[:8]"
      ],
      "metadata": {
        "id": "qzU3ybMaBuOr",
        "colab": {
          "base_uri": "https://localhost:8080/",
          "height": 300
        },
        "outputId": "6fa05257-505c-4892-cfa5-4bb37924ba53"
      },
      "execution_count": 86,
      "outputs": [
        {
          "output_type": "execute_result",
          "data": {
            "text/plain": [
              "                                          cols       imp\n",
              "44  lastReportedPosition.positionTimeDayofyear  0.520000\n",
              "45    lastReportedPosition.positionTimeElapsed  0.428205\n",
              "4                            trainId.trainDate  0.034387\n",
              "41       lastReportedPosition.positionTimeWeek  0.017408\n",
              "34                              loadedCarCount  0.000000\n",
              "26         aotuTrainData.totalLocomotiveWeight  0.000000\n",
              "27         aotuTrainData.totalLocomotiveLength  0.000000\n",
              "28             aotuTrainData.actualTonsPerAxle  0.000000"
            ],
            "text/html": [
              "\n",
              "  <div id=\"df-dd59a3ea-65a3-41fb-a07c-21ff39b125d7\">\n",
              "    <div class=\"colab-df-container\">\n",
              "      <div>\n",
              "<style scoped>\n",
              "    .dataframe tbody tr th:only-of-type {\n",
              "        vertical-align: middle;\n",
              "    }\n",
              "\n",
              "    .dataframe tbody tr th {\n",
              "        vertical-align: top;\n",
              "    }\n",
              "\n",
              "    .dataframe thead th {\n",
              "        text-align: right;\n",
              "    }\n",
              "</style>\n",
              "<table border=\"1\" class=\"dataframe\">\n",
              "  <thead>\n",
              "    <tr style=\"text-align: right;\">\n",
              "      <th></th>\n",
              "      <th>cols</th>\n",
              "      <th>imp</th>\n",
              "    </tr>\n",
              "  </thead>\n",
              "  <tbody>\n",
              "    <tr>\n",
              "      <th>44</th>\n",
              "      <td>lastReportedPosition.positionTimeDayofyear</td>\n",
              "      <td>0.520000</td>\n",
              "    </tr>\n",
              "    <tr>\n",
              "      <th>45</th>\n",
              "      <td>lastReportedPosition.positionTimeElapsed</td>\n",
              "      <td>0.428205</td>\n",
              "    </tr>\n",
              "    <tr>\n",
              "      <th>4</th>\n",
              "      <td>trainId.trainDate</td>\n",
              "      <td>0.034387</td>\n",
              "    </tr>\n",
              "    <tr>\n",
              "      <th>41</th>\n",
              "      <td>lastReportedPosition.positionTimeWeek</td>\n",
              "      <td>0.017408</td>\n",
              "    </tr>\n",
              "    <tr>\n",
              "      <th>34</th>\n",
              "      <td>loadedCarCount</td>\n",
              "      <td>0.000000</td>\n",
              "    </tr>\n",
              "    <tr>\n",
              "      <th>26</th>\n",
              "      <td>aotuTrainData.totalLocomotiveWeight</td>\n",
              "      <td>0.000000</td>\n",
              "    </tr>\n",
              "    <tr>\n",
              "      <th>27</th>\n",
              "      <td>aotuTrainData.totalLocomotiveLength</td>\n",
              "      <td>0.000000</td>\n",
              "    </tr>\n",
              "    <tr>\n",
              "      <th>28</th>\n",
              "      <td>aotuTrainData.actualTonsPerAxle</td>\n",
              "      <td>0.000000</td>\n",
              "    </tr>\n",
              "  </tbody>\n",
              "</table>\n",
              "</div>\n",
              "      <button class=\"colab-df-convert\" onclick=\"convertToInteractive('df-dd59a3ea-65a3-41fb-a07c-21ff39b125d7')\"\n",
              "              title=\"Convert this dataframe to an interactive table.\"\n",
              "              style=\"display:none;\">\n",
              "        \n",
              "  <svg xmlns=\"http://www.w3.org/2000/svg\" height=\"24px\"viewBox=\"0 0 24 24\"\n",
              "       width=\"24px\">\n",
              "    <path d=\"M0 0h24v24H0V0z\" fill=\"none\"/>\n",
              "    <path d=\"M18.56 5.44l.94 2.06.94-2.06 2.06-.94-2.06-.94-.94-2.06-.94 2.06-2.06.94zm-11 1L8.5 8.5l.94-2.06 2.06-.94-2.06-.94L8.5 2.5l-.94 2.06-2.06.94zm10 10l.94 2.06.94-2.06 2.06-.94-2.06-.94-.94-2.06-.94 2.06-2.06.94z\"/><path d=\"M17.41 7.96l-1.37-1.37c-.4-.4-.92-.59-1.43-.59-.52 0-1.04.2-1.43.59L10.3 9.45l-7.72 7.72c-.78.78-.78 2.05 0 2.83L4 21.41c.39.39.9.59 1.41.59.51 0 1.02-.2 1.41-.59l7.78-7.78 2.81-2.81c.8-.78.8-2.07 0-2.86zM5.41 20L4 18.59l7.72-7.72 1.47 1.35L5.41 20z\"/>\n",
              "  </svg>\n",
              "      </button>\n",
              "      \n",
              "  <style>\n",
              "    .colab-df-container {\n",
              "      display:flex;\n",
              "      flex-wrap:wrap;\n",
              "      gap: 12px;\n",
              "    }\n",
              "\n",
              "    .colab-df-convert {\n",
              "      background-color: #E8F0FE;\n",
              "      border: none;\n",
              "      border-radius: 50%;\n",
              "      cursor: pointer;\n",
              "      display: none;\n",
              "      fill: #1967D2;\n",
              "      height: 32px;\n",
              "      padding: 0 0 0 0;\n",
              "      width: 32px;\n",
              "    }\n",
              "\n",
              "    .colab-df-convert:hover {\n",
              "      background-color: #E2EBFA;\n",
              "      box-shadow: 0px 1px 2px rgba(60, 64, 67, 0.3), 0px 1px 3px 1px rgba(60, 64, 67, 0.15);\n",
              "      fill: #174EA6;\n",
              "    }\n",
              "\n",
              "    [theme=dark] .colab-df-convert {\n",
              "      background-color: #3B4455;\n",
              "      fill: #D2E3FC;\n",
              "    }\n",
              "\n",
              "    [theme=dark] .colab-df-convert:hover {\n",
              "      background-color: #434B5C;\n",
              "      box-shadow: 0px 1px 3px 1px rgba(0, 0, 0, 0.15);\n",
              "      filter: drop-shadow(0px 1px 2px rgba(0, 0, 0, 0.3));\n",
              "      fill: #FFFFFF;\n",
              "    }\n",
              "  </style>\n",
              "\n",
              "      <script>\n",
              "        const buttonEl =\n",
              "          document.querySelector('#df-dd59a3ea-65a3-41fb-a07c-21ff39b125d7 button.colab-df-convert');\n",
              "        buttonEl.style.display =\n",
              "          google.colab.kernel.accessAllowed ? 'block' : 'none';\n",
              "\n",
              "        async function convertToInteractive(key) {\n",
              "          const element = document.querySelector('#df-dd59a3ea-65a3-41fb-a07c-21ff39b125d7');\n",
              "          const dataTable =\n",
              "            await google.colab.kernel.invokeFunction('convertToInteractive',\n",
              "                                                     [key], {});\n",
              "          if (!dataTable) return;\n",
              "\n",
              "          const docLinkHtml = 'Like what you see? Visit the ' +\n",
              "            '<a target=\"_blank\" href=https://colab.research.google.com/notebooks/data_table.ipynb>data table notebook</a>'\n",
              "            + ' to learn more about interactive tables.';\n",
              "          element.innerHTML = '';\n",
              "          dataTable['output_type'] = 'display_data';\n",
              "          await google.colab.output.renderOutput(dataTable, element);\n",
              "          const docLink = document.createElement('div');\n",
              "          docLink.innerHTML = docLinkHtml;\n",
              "          element.appendChild(docLink);\n",
              "        }\n",
              "      </script>\n",
              "    </div>\n",
              "  </div>\n",
              "  "
            ]
          },
          "metadata": {},
          "execution_count": 86
        }
      ]
    },
    {
      "cell_type": "markdown",
      "source": [
        "Consider whether these values make sense"
      ],
      "metadata": {
        "id": "wJPE_9WCLCPr"
      }
    },
    {
      "cell_type": "markdown",
      "source": [
        "#Using a Neural Net"
      ],
      "metadata": {
        "id": "K9TcqLvPKQJD"
      }
    },
    {
      "cell_type": "code",
      "source": [
        "df_nn_final = dfTrainsLearn"
      ],
      "metadata": {
        "id": "CrfcBKRXKqQ8"
      },
      "execution_count": 87,
      "outputs": []
    },
    {
      "cell_type": "code",
      "source": [
        "df_nn_final.info()"
      ],
      "metadata": {
        "id": "W87DbNmeMVsv",
        "colab": {
          "base_uri": "https://localhost:8080/"
        },
        "outputId": "fc5b487d-1db6-40ba-8ee0-dcfd9f0aa265"
      },
      "execution_count": 88,
      "outputs": [
        {
          "output_type": "stream",
          "name": "stdout",
          "text": [
            "<class 'pandas.core.frame.DataFrame'>\n",
            "Int64Index: 26058 entries, 0 to 29767\n",
            "Data columns (total 47 columns):\n",
            " #   Column                                                         Non-Null Count  Dtype         \n",
            "---  ------                                                         --------------  -----         \n",
            " 0   ptcLeadLocomotiveId                                            26058 non-null  object        \n",
            " 1   trainId.trainSCAC                                              26058 non-null  category      \n",
            " 2   trainId.trainSection                                           26058 non-null  category      \n",
            " 3   trainId.trainSymbol                                            26058 non-null  object        \n",
            " 4   trainId.trainDate                                              26058 non-null  datetime64[ns]\n",
            " 5   lastReportedPosition.speedMPH                                  26058 non-null  int64         \n",
            " 6   lastReportedPosition.milepostLocation.subdivisionId            26058 non-null  int64         \n",
            " 7   lastReportedPosition.milepostLocation.trackName                26058 non-null  category      \n",
            " 8   lastReportedPosition.milepostLocation.milepost.milepostNumber  26058 non-null  float64       \n",
            " 9   aotuTrainData.priorityCode                                     26058 non-null  category      \n",
            " 10  aotuTrainData.categoryCode                                     26058 non-null  category      \n",
            " 11  aotuTrainData.authorityRangeCode                               26058 non-null  category      \n",
            " 12  aotuTrainData.ownershipCode                                    26058 non-null  category      \n",
            " 13  aotuTrainData.totalCarWeight                                   26058 non-null  float64       \n",
            " 14  aotuTrainData.totalCarLength                                   26058 non-null  float64       \n",
            " 15  aotuTrainData.totalLocomotiveWeight                            26058 non-null  float64       \n",
            " 16  aotuTrainData.totalLocomotiveLength                            26058 non-null  float64       \n",
            " 17  aotuTrainData.actualTonsPerAxle                                26058 non-null  float64       \n",
            " 18  aotuTrainData.heavy143TonCarCount                              26058 non-null  float64       \n",
            " 19  aotuTrainData.heavy158TonCarCount                              26058 non-null  float64       \n",
            " 20  aotuTrainData.over158TonCarCount                               26058 non-null  float64       \n",
            " 21  aotuTrainData.highWideCarCount                                 26058 non-null  float64       \n",
            " 22  aotuTrainData.eventCode                                        26058 non-null  category      \n",
            " 23  maximumTrainSpeed                                              26058 non-null  float64       \n",
            " 24  loadedCarCount                                                 26058 non-null  float64       \n",
            " 25  emptyCarCount                                                  26058 non-null  float64       \n",
            " 26  trainLength                                                    26058 non-null  float64       \n",
            " 27  trailingTonnage                                                26058 non-null  float64       \n",
            " 28  milepost                                                       26058 non-null  int64         \n",
            " 29  mpIncr                                                         26058 non-null  bool          \n",
            " 30  symbolType                                                     26058 non-null  category      \n",
            " 31  workLocations                                                  25920 non-null  object        \n",
            " 32  locomotiveCount                                                26058 non-null  int64         \n",
            " 33  nextValue                                                      26058 non-null  float64       \n",
            " 34  lastReportedPosition.positionTimeYear                          26058 non-null  int64         \n",
            " 35  lastReportedPosition.positionTimeMonth                         26058 non-null  int64         \n",
            " 36  lastReportedPosition.positionTimeWeek                          26058 non-null  int64         \n",
            " 37  lastReportedPosition.positionTimeDay                           26058 non-null  int64         \n",
            " 38  lastReportedPosition.positionTimeDayofweek                     26058 non-null  int64         \n",
            " 39  lastReportedPosition.positionTimeDayofyear                     26058 non-null  int64         \n",
            " 40  lastReportedPosition.positionTimeIs_month_end                  26058 non-null  bool          \n",
            " 41  lastReportedPosition.positionTimeIs_month_start                26058 non-null  bool          \n",
            " 42  lastReportedPosition.positionTimeIs_quarter_end                26058 non-null  bool          \n",
            " 43  lastReportedPosition.positionTimeIs_quarter_start              26058 non-null  bool          \n",
            " 44  lastReportedPosition.positionTimeIs_year_end                   26058 non-null  bool          \n",
            " 45  lastReportedPosition.positionTimeIs_year_start                 26058 non-null  bool          \n",
            " 46  lastReportedPosition.positionTimeElapsed                       26058 non-null  float64       \n",
            "dtypes: bool(7), category(9), datetime64[ns](1), float64(17), int64(10), object(3)\n",
            "memory usage: 6.8+ MB\n"
          ]
        }
      ]
    },
    {
      "cell_type": "code",
      "source": [
        "cont_nn,cat_nn = cont_cat_split(df_nn_final, max_card=9000, dep_var=dep_var)"
      ],
      "metadata": {
        "id": "TpvoMKe1MNzg"
      },
      "execution_count": 89,
      "outputs": []
    },
    {
      "cell_type": "code",
      "source": [
        "cont_nn"
      ],
      "metadata": {
        "id": "xef-YmKAMeHO",
        "colab": {
          "base_uri": "https://localhost:8080/"
        },
        "outputId": "ae63cf92-6a07-4c4c-e3a7-e91ba033d75e"
      },
      "execution_count": 90,
      "outputs": [
        {
          "output_type": "execute_result",
          "data": {
            "text/plain": [
              "['lastReportedPosition.milepostLocation.milepost.milepostNumber',\n",
              " 'aotuTrainData.totalCarWeight',\n",
              " 'aotuTrainData.totalCarLength',\n",
              " 'aotuTrainData.totalLocomotiveWeight',\n",
              " 'aotuTrainData.totalLocomotiveLength',\n",
              " 'aotuTrainData.actualTonsPerAxle',\n",
              " 'aotuTrainData.heavy143TonCarCount',\n",
              " 'aotuTrainData.heavy158TonCarCount',\n",
              " 'aotuTrainData.over158TonCarCount',\n",
              " 'aotuTrainData.highWideCarCount',\n",
              " 'maximumTrainSpeed',\n",
              " 'loadedCarCount',\n",
              " 'emptyCarCount',\n",
              " 'trainLength',\n",
              " 'trailingTonnage',\n",
              " 'lastReportedPosition.positionTimeElapsed']"
            ]
          },
          "metadata": {},
          "execution_count": 90
        }
      ]
    },
    {
      "cell_type": "code",
      "source": [
        "numUniquePerCat = df_nn_final[cat_nn].nunique()\n",
        "with pd.option_context('display.max_rows', None, 'display.max_columns', None):  \n",
        "    print(numUniquePerCat)"
      ],
      "metadata": {
        "id": "axfRjORJin9v",
        "colab": {
          "base_uri": "https://localhost:8080/"
        },
        "outputId": "1313dd7c-5338-4623-de4c-2cd85720a822"
      },
      "execution_count": 91,
      "outputs": [
        {
          "output_type": "stream",
          "name": "stdout",
          "text": [
            "ptcLeadLocomotiveId                                    1008\n",
            "trainId.trainSCAC                                         2\n",
            "trainId.trainSection                                      2\n",
            "trainId.trainSymbol                                     328\n",
            "trainId.trainDate                                       103\n",
            "lastReportedPosition.speedMPH                            72\n",
            "lastReportedPosition.milepostLocation.subdivisionId       1\n",
            "lastReportedPosition.milepostLocation.trackName          11\n",
            "aotuTrainData.priorityCode                                4\n",
            "aotuTrainData.categoryCode                               11\n",
            "aotuTrainData.authorityRangeCode                          3\n",
            "aotuTrainData.ownershipCode                               3\n",
            "aotuTrainData.eventCode                                   1\n",
            "milepost                                                123\n",
            "mpIncr                                                    2\n",
            "symbolType                                               12\n",
            "workLocations                                            78\n",
            "locomotiveCount                                          11\n",
            "lastReportedPosition.positionTimeYear                     1\n",
            "lastReportedPosition.positionTimeMonth                    5\n",
            "lastReportedPosition.positionTimeWeek                    15\n",
            "lastReportedPosition.positionTimeDay                     31\n",
            "lastReportedPosition.positionTimeDayofweek                7\n",
            "lastReportedPosition.positionTimeDayofyear               98\n",
            "lastReportedPosition.positionTimeIs_month_end             2\n",
            "lastReportedPosition.positionTimeIs_month_start           2\n",
            "lastReportedPosition.positionTimeIs_quarter_end           2\n",
            "lastReportedPosition.positionTimeIs_quarter_start         2\n",
            "lastReportedPosition.positionTimeIs_year_end              1\n",
            "lastReportedPosition.positionTimeIs_year_start            1\n",
            "dtype: int64\n"
          ]
        }
      ]
    },
    {
      "cell_type": "code",
      "source": [
        "procs_nn = [Categorify, FillMissing, Normalize]\n",
        "to_nn = TabularPandas(df_nn_final, procs_nn, cat_nn, cont_nn,\n",
        "                      splits=splits, y_names=dep_var)"
      ],
      "metadata": {
        "id": "WNS5_jduj0Ft"
      },
      "execution_count": 92,
      "outputs": []
    },
    {
      "cell_type": "code",
      "source": [
        "dls = to_nn.dataloaders(1024)"
      ],
      "metadata": {
        "id": "HH0M0MH7kKQ-"
      },
      "execution_count": 93,
      "outputs": []
    },
    {
      "cell_type": "code",
      "source": [
        "y = to_nn.train.y\n",
        "y.min(),y.max()"
      ],
      "metadata": {
        "id": "BPnKvYGKkRMf",
        "colab": {
          "base_uri": "https://localhost:8080/"
        },
        "outputId": "76367a09-0183-483d-9e70-1d9ba9b56aff"
      },
      "execution_count": 94,
      "outputs": [
        {
          "output_type": "execute_result",
          "data": {
            "text/plain": [
              "(202.2169, 326.09528)"
            ]
          },
          "metadata": {},
          "execution_count": 94
        }
      ]
    },
    {
      "cell_type": "code",
      "source": [
        "learn = tabular_learner(dls, y_range=(202,327), layers=[500,250],\n",
        "                        n_out=1, loss_func=F.mse_loss)"
      ],
      "metadata": {
        "id": "XI0a_6T8kYCl"
      },
      "execution_count": 95,
      "outputs": []
    },
    {
      "cell_type": "code",
      "source": [
        "learn.lr_find()"
      ],
      "metadata": {
        "id": "-bG4DfIqkbyc",
        "colab": {
          "base_uri": "https://localhost:8080/",
          "height": 300
        },
        "outputId": "c1b771f9-15bc-4a55-ec1d-f64272d6278d"
      },
      "execution_count": 96,
      "outputs": [
        {
          "output_type": "display_data",
          "data": {
            "text/plain": [
              "<IPython.core.display.HTML object>"
            ],
            "text/html": [
              "\n",
              "<style>\n",
              "    /* Turns off some styling */\n",
              "    progress {\n",
              "        /* gets rid of default border in Firefox and Opera. */\n",
              "        border: none;\n",
              "        /* Needs to be in here for Safari polyfill so background images work as expected. */\n",
              "        background-size: auto;\n",
              "    }\n",
              "    .progress-bar-interrupted, .progress-bar-interrupted::-webkit-progress-bar {\n",
              "        background: #F44336;\n",
              "    }\n",
              "</style>\n"
            ]
          },
          "metadata": {}
        },
        {
          "output_type": "display_data",
          "data": {
            "text/plain": [
              "<IPython.core.display.HTML object>"
            ],
            "text/html": [
              ""
            ]
          },
          "metadata": {}
        },
        {
          "output_type": "execute_result",
          "data": {
            "text/plain": [
              "SuggestedLRs(valley=0.0005754399462603033)"
            ]
          },
          "metadata": {},
          "execution_count": 96
        },
        {
          "output_type": "display_data",
          "data": {
            "text/plain": [
              "<Figure size 432x288 with 1 Axes>"
            ],
            "image/png": "[encoded data removed]"
          },
          "metadata": {
            "needs_background": "light"
          }
        }
      ]
    },
    {
      "cell_type": "code",
      "source": [
        "# learn.fit_one_cycle(50, 1e-4)"
      ],
      "metadata": {
        "id": "KtYc1ectkiZt"
      },
      "execution_count": 97,
      "outputs": []
    },
    {
      "cell_type": "code",
      "source": [
        "learn.fit_flat_cos(31, 1e-4)"
      ],
      "metadata": {
        "id": "_Muje3CE5pKF",
        "outputId": "11c3dc7f-8e2b-4ea5-b745-bfd77b52cf76",
        "colab": {
          "base_uri": "https://localhost:8080/",
          "height": 1000
        }
      },
      "execution_count": 98,
      "outputs": [
        {
          "output_type": "display_data",
          "data": {
            "text/plain": [
              "<IPython.core.display.HTML object>"
            ],
            "text/html": [
              "\n",
              "<style>\n",
              "    /* Turns off some styling */\n",
              "    progress {\n",
              "        /* gets rid of default border in Firefox and Opera. */\n",
              "        border: none;\n",
              "        /* Needs to be in here for Safari polyfill so background images work as expected. */\n",
              "        background-size: auto;\n",
              "    }\n",
              "    .progress-bar-interrupted, .progress-bar-interrupted::-webkit-progress-bar {\n",
              "        background: #F44336;\n",
              "    }\n",
              "</style>\n"
            ]
          },
          "metadata": {}
        },
        {
          "output_type": "display_data",
          "data": {
            "text/plain": [
              "<IPython.core.display.HTML object>"
            ],
            "text/html": [
              "<table border=\"1\" class=\"dataframe\">\n",
              "  <thead>\n",
              "    <tr style=\"text-align: left;\">\n",
              "      <th>epoch</th>\n",
              "      <th>train_loss</th>\n",
              "      <th>valid_loss</th>\n",
              "      <th>time</th>\n",
              "    </tr>\n",
              "  </thead>\n",
              "  <tbody>\n",
              "    <tr>\n",
              "      <td>0</td>\n",
              "      <td>478.244385</td>\n",
              "      <td>977.825500</td>\n",
              "      <td>00:01</td>\n",
              "    </tr>\n",
              "    <tr>\n",
              "      <td>1</td>\n",
              "      <td>349.240479</td>\n",
              "      <td>684.361572</td>\n",
              "      <td>00:01</td>\n",
              "    </tr>\n",
              "    <tr>\n",
              "      <td>2</td>\n",
              "      <td>276.833069</td>\n",
              "      <td>315.299286</td>\n",
              "      <td>00:01</td>\n",
              "    </tr>\n",
              "    <tr>\n",
              "      <td>3</td>\n",
              "      <td>221.177048</td>\n",
              "      <td>191.230469</td>\n",
              "      <td>00:01</td>\n",
              "    </tr>\n",
              "    <tr>\n",
              "      <td>4</td>\n",
              "      <td>175.925858</td>\n",
              "      <td>158.488937</td>\n",
              "      <td>00:01</td>\n",
              "    </tr>\n",
              "    <tr>\n",
              "      <td>5</td>\n",
              "      <td>142.533218</td>\n",
              "      <td>130.676590</td>\n",
              "      <td>00:01</td>\n",
              "    </tr>\n",
              "    <tr>\n",
              "      <td>6</td>\n",
              "      <td>117.086884</td>\n",
              "      <td>121.353935</td>\n",
              "      <td>00:01</td>\n",
              "    </tr>\n",
              "    <tr>\n",
              "      <td>7</td>\n",
              "      <td>98.634453</td>\n",
              "      <td>111.945572</td>\n",
              "      <td>00:01</td>\n",
              "    </tr>\n",
              "    <tr>\n",
              "      <td>8</td>\n",
              "      <td>86.537994</td>\n",
              "      <td>112.417847</td>\n",
              "      <td>00:01</td>\n",
              "    </tr>\n",
              "    <tr>\n",
              "      <td>9</td>\n",
              "      <td>75.795738</td>\n",
              "      <td>104.452347</td>\n",
              "      <td>00:01</td>\n",
              "    </tr>\n",
              "    <tr>\n",
              "      <td>10</td>\n",
              "      <td>68.001511</td>\n",
              "      <td>111.894386</td>\n",
              "      <td>00:01</td>\n",
              "    </tr>\n",
              "    <tr>\n",
              "      <td>11</td>\n",
              "      <td>61.146187</td>\n",
              "      <td>89.076271</td>\n",
              "      <td>00:01</td>\n",
              "    </tr>\n",
              "    <tr>\n",
              "      <td>12</td>\n",
              "      <td>55.708591</td>\n",
              "      <td>100.416702</td>\n",
              "      <td>00:01</td>\n",
              "    </tr>\n",
              "    <tr>\n",
              "      <td>13</td>\n",
              "      <td>51.110619</td>\n",
              "      <td>82.164520</td>\n",
              "      <td>00:01</td>\n",
              "    </tr>\n",
              "    <tr>\n",
              "      <td>14</td>\n",
              "      <td>48.008400</td>\n",
              "      <td>90.026131</td>\n",
              "      <td>00:01</td>\n",
              "    </tr>\n",
              "    <tr>\n",
              "      <td>15</td>\n",
              "      <td>45.390770</td>\n",
              "      <td>82.027931</td>\n",
              "      <td>00:01</td>\n",
              "    </tr>\n",
              "    <tr>\n",
              "      <td>16</td>\n",
              "      <td>43.419151</td>\n",
              "      <td>80.727493</td>\n",
              "      <td>00:01</td>\n",
              "    </tr>\n",
              "    <tr>\n",
              "      <td>17</td>\n",
              "      <td>41.067360</td>\n",
              "      <td>84.948479</td>\n",
              "      <td>00:01</td>\n",
              "    </tr>\n",
              "    <tr>\n",
              "      <td>18</td>\n",
              "      <td>39.425858</td>\n",
              "      <td>76.935867</td>\n",
              "      <td>00:01</td>\n",
              "    </tr>\n",
              "    <tr>\n",
              "      <td>19</td>\n",
              "      <td>38.030273</td>\n",
              "      <td>77.386452</td>\n",
              "      <td>00:01</td>\n",
              "    </tr>\n",
              "    <tr>\n",
              "      <td>20</td>\n",
              "      <td>35.928146</td>\n",
              "      <td>76.529167</td>\n",
              "      <td>00:01</td>\n",
              "    </tr>\n",
              "    <tr>\n",
              "      <td>21</td>\n",
              "      <td>34.650726</td>\n",
              "      <td>72.528030</td>\n",
              "      <td>00:01</td>\n",
              "    </tr>\n",
              "    <tr>\n",
              "      <td>22</td>\n",
              "      <td>33.251919</td>\n",
              "      <td>75.929184</td>\n",
              "      <td>00:01</td>\n",
              "    </tr>\n",
              "    <tr>\n",
              "      <td>23</td>\n",
              "      <td>32.453335</td>\n",
              "      <td>72.956100</td>\n",
              "      <td>00:01</td>\n",
              "    </tr>\n",
              "    <tr>\n",
              "      <td>24</td>\n",
              "      <td>31.168884</td>\n",
              "      <td>73.015259</td>\n",
              "      <td>00:01</td>\n",
              "    </tr>\n",
              "    <tr>\n",
              "      <td>25</td>\n",
              "      <td>30.517305</td>\n",
              "      <td>73.196281</td>\n",
              "      <td>00:01</td>\n",
              "    </tr>\n",
              "    <tr>\n",
              "      <td>26</td>\n",
              "      <td>30.488754</td>\n",
              "      <td>72.629333</td>\n",
              "      <td>00:01</td>\n",
              "    </tr>\n",
              "    <tr>\n",
              "      <td>27</td>\n",
              "      <td>29.714207</td>\n",
              "      <td>71.990982</td>\n",
              "      <td>00:01</td>\n",
              "    </tr>\n",
              "    <tr>\n",
              "      <td>28</td>\n",
              "      <td>29.711157</td>\n",
              "      <td>71.994919</td>\n",
              "      <td>00:01</td>\n",
              "    </tr>\n",
              "    <tr>\n",
              "      <td>29</td>\n",
              "      <td>28.701868</td>\n",
              "      <td>71.374794</td>\n",
              "      <td>00:01</td>\n",
              "    </tr>\n",
              "    <tr>\n",
              "      <td>30</td>\n",
              "      <td>27.818483</td>\n",
              "      <td>70.875336</td>\n",
              "      <td>00:01</td>\n",
              "    </tr>\n",
              "  </tbody>\n",
              "</table>"
            ]
          },
          "metadata": {}
        }
      ]
    },
    {
      "cell_type": "code",
      "source": [
        "# Too Much Ram\n",
        "# learn.fit_sgdr(31, 10)"
      ],
      "metadata": {
        "id": "nTmJDf8w7Jvz"
      },
      "execution_count": 99,
      "outputs": []
    },
    {
      "cell_type": "markdown",
      "source": [
        "NN Predictions:"
      ],
      "metadata": {
        "id": "2-jWdBC7omY8"
      }
    },
    {
      "cell_type": "code",
      "source": [
        "preds,targs = learn.get_preds()\n",
        "showPredictions(pd.DataFrame(preds.numpy()), pd.DataFrame(targs.numpy()))"
      ],
      "metadata": {
        "id": "eo1O3alWmiKj",
        "colab": {
          "base_uri": "https://localhost:8080/",
          "height": 277
        },
        "outputId": "8a412880-1f7a-456b-9fa9-27ae9ba6d264"
      },
      "execution_count": 100,
      "outputs": [
        {
          "output_type": "display_data",
          "data": {
            "text/plain": [
              "<IPython.core.display.HTML object>"
            ],
            "text/html": [
              "\n",
              "<style>\n",
              "    /* Turns off some styling */\n",
              "    progress {\n",
              "        /* gets rid of default border in Firefox and Opera. */\n",
              "        border: none;\n",
              "        /* Needs to be in here for Safari polyfill so background images work as expected. */\n",
              "        background-size: auto;\n",
              "    }\n",
              "    .progress-bar-interrupted, .progress-bar-interrupted::-webkit-progress-bar {\n",
              "        background: #F44336;\n",
              "    }\n",
              "</style>\n"
            ]
          },
          "metadata": {}
        },
        {
          "output_type": "display_data",
          "data": {
            "text/plain": [
              "<IPython.core.display.HTML object>"
            ],
            "text/html": [
              ""
            ]
          },
          "metadata": {}
        },
        {
          "output_type": "stream",
          "name": "stdout",
          "text": [
            "          actual      actual\n",
            "0     305.970154  303.640961\n",
            "1     295.184631  294.448029\n",
            "2     285.336395  291.374786\n",
            "3     277.010223  289.952820\n",
            "4     282.086975  281.968353\n",
            "...          ...         ...\n",
            "4772  234.015274  234.916779\n",
            "4773  228.459137  225.433594\n",
            "4774  219.277588  217.805466\n",
            "4775  213.839935  216.637177\n",
            "4776  210.626144  204.977356\n",
            "\n",
            "[4777 rows x 2 columns]\n",
            "RMSE:  8.418749\n"
          ]
        }
      ]
    }
  ],
  "metadata": {
    "colab": {
      "name": "MLModel-FINAL.ipynb",
      "provenance": [],
      "collapsed_sections": [],
      "include_colab_link": true
    },
    "interpreter": {
      "hash": "99fae7d265480b5fbb0cf965db398c4d2d7b17b55f6259418c7dbfe0de01ea90"
    },
    "kernelspec": {
      "display_name": "Python 3 (ipykernel)",
      "language": "python",
      "name": "python3"
    },
    "language_info": {
      "codemirror_mode": {
        "name": "ipython",
        "version": 3
      },
      "file_extension": ".py",
      "mimetype": "text/x-python",
      "name": "python",
      "nbconvert_exporter": "python",
      "pygments_lexer": "ipython3",
      "version": "3.9.12"
    }
  },
  "nbformat": 4,
  "nbformat_minor": 0
}