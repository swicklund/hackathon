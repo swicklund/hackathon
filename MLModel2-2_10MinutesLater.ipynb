{
  "cells": [
    {
      "cell_type": "markdown",
      "source": [
        "This Model uses a Random Forest at attempt to look ahead 10 minutes (rather than 1 Mile)"
      ],
      "metadata": {
        "id": "wRPLxv92opV6"
      }
    },
    {
      "cell_type": "code",
      "execution_count": 1,
      "metadata": {
        "id": "f18J8QM17E0a",
        "outputId": "ee488df3-0234-4e15-f135-1ceb262bb486",
        "colab": {
          "base_uri": "https://localhost:8080/"
        }
      },
      "outputs": [
        {
          "output_type": "stream",
          "name": "stdout",
          "text": [
            "Looking in indexes: https://pypi.org/simple, https://us-python.pkg.dev/colab-wheels/public/simple/\n",
            "Requirement already satisfied: dtreeviz in /usr/local/lib/python3.7/dist-packages (1.3.6)\n",
            "Requirement already satisfied: colour in /usr/local/lib/python3.7/dist-packages (from dtreeviz) (0.1.5)\n",
            "Requirement already satisfied: pytest in /usr/local/lib/python3.7/dist-packages (from dtreeviz) (3.6.4)\n",
            "Requirement already satisfied: matplotlib in /usr/local/lib/python3.7/dist-packages (from dtreeviz) (3.2.2)\n",
            "Requirement already satisfied: scikit-learn in /usr/local/lib/python3.7/dist-packages (from dtreeviz) (1.0.2)\n",
            "Requirement already satisfied: graphviz>=0.9 in /usr/local/lib/python3.7/dist-packages (from dtreeviz) (0.10.1)\n",
            "Requirement already satisfied: numpy in /usr/local/lib/python3.7/dist-packages (from dtreeviz) (1.21.6)\n",
            "Requirement already satisfied: pandas in /usr/local/lib/python3.7/dist-packages (from dtreeviz) (1.3.5)\n",
            "Requirement already satisfied: python-dateutil>=2.1 in /usr/local/lib/python3.7/dist-packages (from matplotlib->dtreeviz) (2.8.2)\n",
            "Requirement already satisfied: pyparsing!=2.0.4,!=2.1.2,!=2.1.6,>=2.0.1 in /usr/local/lib/python3.7/dist-packages (from matplotlib->dtreeviz) (3.0.9)\n",
            "Requirement already satisfied: kiwisolver>=1.0.1 in /usr/local/lib/python3.7/dist-packages (from matplotlib->dtreeviz) (1.4.3)\n",
            "Requirement already satisfied: cycler>=0.10 in /usr/local/lib/python3.7/dist-packages (from matplotlib->dtreeviz) (0.11.0)\n",
            "Requirement already satisfied: typing-extensions in /usr/local/lib/python3.7/dist-packages (from kiwisolver>=1.0.1->matplotlib->dtreeviz) (4.1.1)\n",
            "Requirement already satisfied: six>=1.5 in /usr/local/lib/python3.7/dist-packages (from python-dateutil>=2.1->matplotlib->dtreeviz) (1.15.0)\n",
            "Requirement already satisfied: pytz>=2017.3 in /usr/local/lib/python3.7/dist-packages (from pandas->dtreeviz) (2022.1)\n",
            "Requirement already satisfied: more-itertools>=4.0.0 in /usr/local/lib/python3.7/dist-packages (from pytest->dtreeviz) (8.13.0)\n",
            "Requirement already satisfied: py>=1.5.0 in /usr/local/lib/python3.7/dist-packages (from pytest->dtreeviz) (1.11.0)\n",
            "Requirement already satisfied: atomicwrites>=1.0 in /usr/local/lib/python3.7/dist-packages (from pytest->dtreeviz) (1.4.0)\n",
            "Requirement already satisfied: pluggy<0.8,>=0.5 in /usr/local/lib/python3.7/dist-packages (from pytest->dtreeviz) (0.7.1)\n",
            "Requirement already satisfied: attrs>=17.4.0 in /usr/local/lib/python3.7/dist-packages (from pytest->dtreeviz) (21.4.0)\n",
            "Requirement already satisfied: setuptools in /usr/local/lib/python3.7/dist-packages (from pytest->dtreeviz) (57.4.0)\n",
            "Requirement already satisfied: threadpoolctl>=2.0.0 in /usr/local/lib/python3.7/dist-packages (from scikit-learn->dtreeviz) (3.1.0)\n",
            "Requirement already satisfied: joblib>=0.11 in /usr/local/lib/python3.7/dist-packages (from scikit-learn->dtreeviz) (1.1.0)\n",
            "Requirement already satisfied: scipy>=1.1.0 in /usr/local/lib/python3.7/dist-packages (from scikit-learn->dtreeviz) (1.4.1)\n",
            "Updated property [core/project].\n"
          ]
        }
      ],
      "source": [
        "!pip install -Uqq fastbook\n",
        "!pip install dtreeviz\n",
        "!gcloud config set project {'hackathon-352519'}\n",
        "\n",
        "import os\n",
        "\n",
        "import IPython\n",
        "import IPython.display\n",
        "import matplotlib as mpl\n",
        "import matplotlib.pyplot as plt\n",
        "import numpy as np\n",
        "import fastbook as fastai\n",
        "import pandas as pd\n",
        "from pandas.io.json import json_normalize\n",
        "import seaborn as sns\n",
        "import tensorflow as tf\n",
        "import json\n",
        "import zipfile\n",
        "from io import BytesIO\n",
        "import torch\n",
        "import math\n",
        "from google.colab import files\n",
        "from google.colab import auth\n",
        "from datetime import datetime, timedelta\n",
        "\n",
        "fastai.setup_book()\n",
        "from fastai import tabular\n"
      ]
    },
    {
      "cell_type": "markdown",
      "source": [
        ""
      ],
      "metadata": {
        "id": "fBJOHbFHooJs"
      }
    },
    {
      "cell_type": "code",
      "source": [
        "from pandas.api.types import is_string_dtype, is_numeric_dtype, is_categorical_dtype\n",
        "from fastai.tabular.all import *\n",
        "from sklearn.ensemble import RandomForestRegressor\n",
        "from sklearn.tree import DecisionTreeRegressor\n",
        "from dtreeviz.trees import *\n",
        "from IPython.display import Image, display_svg, SVG\n",
        "\n",
        "pd.options.display.max_rows = 20\n",
        "pd.options.display.max_columns = 8"
      ],
      "metadata": {
        "id": "wAzfcrrIByux"
      },
      "execution_count": 2,
      "outputs": []
    },
    {
      "cell_type": "code",
      "source": [
        "auth.authenticate_user()"
      ],
      "metadata": {
        "id": "_wNuGIFQT0nZ"
      },
      "execution_count": 3,
      "outputs": []
    },
    {
      "cell_type": "code",
      "execution_count": 4,
      "metadata": {
        "id": "TpnuFITI6Tzu"
      },
      "outputs": [],
      "source": [
        "# !gcloud config set project {'hackathon-352519'}"
      ]
    },
    {
      "cell_type": "code",
      "source": [
        "#filename = \"train-data_all-train-events.zip\"\n",
        "filename = \"train-data-2022062020220626.zip\""
      ],
      "metadata": {
        "id": "M3W7KKZc8f92"
      },
      "execution_count": 5,
      "outputs": []
    },
    {
      "cell_type": "code",
      "source": [
        "!gsutil cp gs://trains_data/$filename /tmp/."
      ],
      "metadata": {
        "id": "srQJL7OKVRww",
        "outputId": "4f313662-bbfd-4c80-d859-15f90fbec578",
        "colab": {
          "base_uri": "https://localhost:8080/"
        }
      },
      "execution_count": 6,
      "outputs": [
        {
          "output_type": "stream",
          "name": "stdout",
          "text": [
            "Copying gs://trains_data/train-data-2022062020220626.zip...\n",
            "\\ [1 files][192.2 MiB/192.2 MiB]                                                \n",
            "Operation completed over 1 objects/192.2 MiB.                                    \n"
          ]
        }
      ]
    },
    {
      "cell_type": "code",
      "execution_count": 7,
      "metadata": {
        "id": "ckXLQ7eQ7E0c",
        "outputId": "c2aabdd5-4d34-4591-e4fa-1a123a99c074",
        "colab": {
          "base_uri": "https://localhost:8080/"
        }
      },
      "outputs": [
        {
          "output_type": "stream",
          "name": "stdout",
          "text": [
            "1000   22:05:20\n",
            "2000   22:05:30\n",
            "3000   22:05:35\n",
            "4000   22:05:41\n",
            "5000   22:05:47\n",
            "6000   22:05:52\n",
            "7000   22:05:57\n",
            "8000   22:06:03\n",
            "9000   22:06:08\n",
            "10000   22:06:14\n",
            "11000   22:06:19\n",
            "12000   22:06:25\n",
            "13000   22:06:29\n",
            "14000   22:06:35\n",
            "15000   22:06:40\n",
            "16000   22:06:46\n",
            "17000   22:06:50\n",
            "18000   22:06:56\n",
            "19000   22:07:01\n",
            "20000   22:07:08\n",
            "21000   22:07:12\n",
            "22000   22:07:21\n",
            "23000   22:07:25\n",
            "24000   22:07:29\n",
            "25000   22:07:36\n",
            "26000   22:07:40\n",
            "27000   22:07:44\n",
            "28000   22:07:52\n",
            "29000   22:07:56\n",
            "30000   22:08:00\n",
            "31000   22:08:04\n"
          ]
        }
      ],
      "source": [
        "trains = {}\n",
        "i = 1\n",
        "# prevLoco = ''\n",
        "with zipfile.ZipFile(\"/tmp/\"+filename, \"r\") as f:\n",
        "    for name in f.namelist():\n",
        "        if name.endswith('.json'):\n",
        "            with f.open(name) as zd:\n",
        "                data = json.load(zd)\n",
        "                lastTrainReporting = data['lastTrainReporting']\n",
        "                currentLoco = lastTrainReporting['ptcLeadLocomotiveId']\n",
        "                # Make sure there is at least ten minutes of actuals\n",
        "                if (\"trainActualPositionList\" in lastTrainReporting and len(lastTrainReporting['trainActualPositionList']) > 4): \n",
        "                    # trainActualPositionList = lastTrainReporting['trainActualPositionList']\n",
        "                    trains[i] = pd.json_normalize(lastTrainReporting)\n",
        "                    i = i + 1\n",
        "                    if (i % 1000 == 0):\n",
        "                      current_time = datetime.now().strftime(\"%H:%M:%S\")\n",
        "                      print(i, \" \", current_time)\n",
        "                    # prevLoco = currentLoco\n",
        "                            "
      ]
    },
    {
      "cell_type": "code",
      "execution_count": 8,
      "metadata": {
        "id": "lgWV768N7E0d"
      },
      "outputs": [],
      "source": [
        "dfTrainsAll = pd.concat(trains.values())\n",
        "dfTrainsAll[\"milepost\"] = dfTrainsAll.apply(lambda row: math.trunc(row['lastReportedPosition.milepostLocation.milepost.milepostNumber']), axis=1)"
      ]
    },
    {
      "cell_type": "code",
      "source": [
        "del trains"
      ],
      "metadata": {
        "id": "Q581UU9nCWZ1"
      },
      "execution_count": 9,
      "outputs": []
    },
    {
      "cell_type": "code",
      "execution_count": 10,
      "metadata": {
        "id": "Idznxze77E0e",
        "outputId": "f9852fee-0ef2-4fe1-cc9f-50a507167074",
        "colab": {
          "base_uri": "https://localhost:8080/"
        }
      },
      "outputs": [
        {
          "output_type": "stream",
          "name": "stdout",
          "text": [
            "<class 'pandas.core.frame.DataFrame'>\n",
            "Int64Index: 31810 entries, 0 to 0\n",
            "Data columns (total 37 columns):\n",
            " #   Column                                                         Non-Null Count  Dtype  \n",
            "---  ------                                                         --------------  -----  \n",
            " 0   ptcLeadLocomotiveId                                            31810 non-null  object \n",
            " 1   positionHistoryList                                            31810 non-null  object \n",
            " 2   locomotiveList                                                 31810 non-null  object \n",
            " 3   subdivisionList                                                31810 non-null  object \n",
            " 4   trainEstimatedPositionList                                     31810 non-null  object \n",
            " 5   trainActualPositionList                                        31810 non-null  object \n",
            " 6   trainId.trainSCAC                                              31810 non-null  object \n",
            " 7   trainId.trainSection                                           31810 non-null  object \n",
            " 8   trainId.trainSymbol                                            31810 non-null  object \n",
            " 9   trainId.trainDate                                              31810 non-null  object \n",
            " 10  lastReportedPosition.positionTime                              31810 non-null  object \n",
            " 11  lastReportedPosition.speedMPH                                  31810 non-null  int64  \n",
            " 12  lastReportedPosition.milepostLocation.subdivisionId            31810 non-null  int64  \n",
            " 13  lastReportedPosition.milepostLocation.trackName                31810 non-null  object \n",
            " 14  lastReportedPosition.milepostLocation.milepost.milepostNumber  31810 non-null  float64\n",
            " 15  aotuTrainData.priorityCode                                     31346 non-null  float64\n",
            " 16  aotuTrainData.categoryCode                                     31346 non-null  float64\n",
            " 17  aotuTrainData.authorityRangeCode                               31346 non-null  float64\n",
            " 18  aotuTrainData.ownershipCode                                    31346 non-null  float64\n",
            " 19  aotuTrainData.tenantCarrier                                    31346 non-null  object \n",
            " 20  aotuTrainData.totalCarWeight                                   31346 non-null  float64\n",
            " 21  aotuTrainData.totalCarLength                                   31346 non-null  float64\n",
            " 22  aotuTrainData.totalLocomotiveWeight                            31346 non-null  float64\n",
            " 23  aotuTrainData.totalLocomotiveLength                            31346 non-null  float64\n",
            " 24  aotuTrainData.actualTonsPerAxle                                31346 non-null  float64\n",
            " 25  aotuTrainData.heavy143TonCarCount                              31346 non-null  float64\n",
            " 26  aotuTrainData.heavy158TonCarCount                              31346 non-null  float64\n",
            " 27  aotuTrainData.over158TonCarCount                               31346 non-null  float64\n",
            " 28  aotuTrainData.highWideCarCount                                 31346 non-null  float64\n",
            " 29  aotuTrainData.eventCode                                        31346 non-null  float64\n",
            " 30  aotuTrainData.routeLocationList                                31346 non-null  object \n",
            " 31  maximumTrainSpeed                                              30697 non-null  float64\n",
            " 32  loadedCarCount                                                 30697 non-null  float64\n",
            " 33  emptyCarCount                                                  30697 non-null  float64\n",
            " 34  trainLength                                                    30697 non-null  float64\n",
            " 35  trailingTonnage                                                30697 non-null  float64\n",
            " 36  milepost                                                       31810 non-null  int64  \n",
            "dtypes: float64(20), int64(3), object(14)\n",
            "memory usage: 9.2+ MB\n",
            "None\n",
            "(31810, 37)\n"
          ]
        }
      ],
      "source": [
        "print(dfTrainsAll.info())\n",
        "print(dfTrainsAll.shape)"
      ]
    },
    {
      "cell_type": "code",
      "source": [
        "dfTrainsLearn = dfTrainsAll"
      ],
      "metadata": {
        "id": "it2dDKRfbk0_"
      },
      "execution_count": 11,
      "outputs": []
    },
    {
      "cell_type": "code",
      "source": [
        "dfTrainsLearn['loadedCarCount'] =  dfTrainsLearn['loadedCarCount'].replace(np.nan, 999.)\n",
        "dfTrainsLearn['emptyCarCount'] =  dfTrainsLearn['emptyCarCount'].replace(np.nan, 999.)\n",
        "dfTrainsLearn['trainLength'] =  dfTrainsLearn['trainLength'].replace(np.nan, 99999.)\n",
        "dfTrainsLearn['trailingTonnage'] =  dfTrainsLearn['trailingTonnage'].replace(np.nan, 99999.)\n",
        "# print(dfTrainsLearn['trailingTonnage'].unique())"
      ],
      "metadata": {
        "id": "jTMp9nMBZav1"
      },
      "execution_count": 12,
      "outputs": []
    },
    {
      "cell_type": "code",
      "source": [
        "dfTrainsLearn['mpIncr'] = dfTrainsLearn.apply(lambda row: row['lastReportedPosition.speedMPH'] >= 0, axis=1)"
      ],
      "metadata": {
        "id": "-XDkAezxjVGH"
      },
      "execution_count": 13,
      "outputs": []
    },
    {
      "cell_type": "code",
      "source": [
        "dfTrainsLearn['lastReportedPosition.speedMPH']  = dfTrainsLearn.apply(lambda row: abs(row['lastReportedPosition.speedMPH']), axis=1)\n",
        "dfTrainsLearn['maximumTrainSpeed']  = dfTrainsLearn.apply(lambda row: abs(row['maximumTrainSpeed']), axis=1)"
      ],
      "metadata": {
        "id": "TjMlCKaoxbMw"
      },
      "execution_count": 14,
      "outputs": []
    },
    {
      "cell_type": "code",
      "source": [
        "dfTrainsLearn['lastReportedPosition.speedMPH'].hist(bins=90)"
      ],
      "metadata": {
        "id": "KWQaxYZ3yC1f",
        "outputId": "3284a77a-4b49-4090-ea65-c718a527ca0e",
        "colab": {
          "base_uri": "https://localhost:8080/",
          "height": 282
        }
      },
      "execution_count": 15,
      "outputs": [
        {
          "output_type": "execute_result",
          "data": {
            "text/plain": [
              "<matplotlib.axes._subplots.AxesSubplot at 0x7f483c5ca410>"
            ]
          },
          "metadata": {},
          "execution_count": 15
        },
        {
          "output_type": "display_data",
          "data": {
            "text/plain": [
              "<Figure size 432x288 with 1 Axes>"
            ],
            "image/png": "[encoded data removed]"
          },
          "metadata": {
            "needs_background": "light"
          }
        }
      ]
    },
    {
      "cell_type": "code",
      "source": [
        "aotuColumns = [item for item in dfTrainsLearn.columns if item.startswith('aotu')]\n",
        "for column in aotuColumns:\n",
        "  dfTrainsLearn[column] =  dfTrainsLearn[column].replace(np.nan, 0.)"
      ],
      "metadata": {
        "id": "IjhK53fef5eG"
      },
      "execution_count": 16,
      "outputs": []
    },
    {
      "cell_type": "code",
      "source": [
        "dfTrainsLearn['symbolType'] = dfTrainsLearn.apply(lambda row: row['trainId.trainSymbol'][:1], axis=1)\n",
        "print(dfTrainsLearn['symbolType'].unique())"
      ],
      "metadata": {
        "id": "FPO5BUrpVl5t",
        "outputId": "f3bfd52a-47f0-4cc0-99d8-295e94693162",
        "colab": {
          "base_uri": "https://localhost:8080/"
        }
      },
      "execution_count": 17,
      "outputs": [
        {
          "output_type": "stream",
          "name": "stdout",
          "text": [
            "['A' 'Q' 'M' 'H' 'G' 'U' 'O' 'I' 'E' 'C' 'Y' 'L' 'Z' 'S' 'W' 'R']\n"
          ]
        }
      ]
    },
    {
      "cell_type": "code",
      "source": [
        "dfTrainsLearn['lastReportedPosition.milepostLocation.trackName'] = dfTrainsLearn['lastReportedPosition.milepostLocation.trackName'].astype('category')\n",
        "dfTrainsLearn['lastReportedPosition.milepostLocation.trackName'] = dfTrainsLearn['lastReportedPosition.milepostLocation.trackName'].cat.set_categories(['WEST MAIN', 'MAIN', 'MT 2', 'MT 1', 'WESTXO', 'XO', 'EASTXO','YD LD', 'EAST MAIN', 'TO_N_EAST MAIN', 'TO_S_UP_MAINLINE', 'TO_S_CS JUNCTION', 'S_STARKS', 'TO_S_KCS UP PRT CONN', 'TO_N_LUCAS', 'S_LUCAS'])\n",
        "#dfTrainsLearn['lastReportedSpeedMPH'] = dfTrainsLearn.apply(lambda row: row['positionHistoryList'][0]['speedMPH'], axis=1)\n",
        "dfTrainsLearn['symbolType'] = dfTrainsLearn.apply(lambda row: row['trainId.trainSymbol'][:1], axis=1)\n",
        "dfTrainsLearn['symbolType'] = dfTrainsLearn['symbolType'].astype('category')\n",
        "dfTrainsLearn['symbolType'] = dfTrainsLearn['symbolType'].cat.set_categories(['A' 'Q' 'M' 'H' 'G' 'U' 'O' 'I' 'E' 'C' 'Y' 'L' 'Z' 'S' 'R' 'W'])\n"
      ],
      "metadata": {
        "id": "DParW0UUrZKv"
      },
      "execution_count": 18,
      "outputs": []
    },
    {
      "cell_type": "code",
      "source": [
        "dfTrainsLearn['maximumTrainSpeed'] =  dfTrainsLearn['maximumTrainSpeed'].replace(np.nan, 88.)\n",
        "print(dfTrainsLearn['maximumTrainSpeed'].unique())"
      ],
      "metadata": {
        "id": "ZTAgIeMJeHmz",
        "outputId": "8683d605-3084-4119-ac4f-91077bbc457e",
        "colab": {
          "base_uri": "https://localhost:8080/"
        }
      },
      "execution_count": 19,
      "outputs": [
        {
          "output_type": "stream",
          "name": "stdout",
          "text": [
            "[88. 50. 60. 70. 40. 45.]\n"
          ]
        }
      ]
    },
    {
      "cell_type": "code",
      "source": [
        "def getWorkLocations(dfTrainsLocation):\n",
        "  if isinstance(dfTrainsLocation['aotuTrainData.routeLocationList'], float):\n",
        "    return None\n",
        "  if len(dfTrainsLocation['aotuTrainData.routeLocationList']) == 0:\n",
        "    return None\n",
        "  aotuRoute=pd.json_normalize(dfTrainsLocation['aotuTrainData.routeLocationList']) \n",
        "  eventLocations = aotuRoute[aotuRoute['activityList'].map(len) > 1]\n",
        "  temp = eventLocations['milepost.milepostNumber'].unique()\n",
        "  if len(temp) == 0:\n",
        "    return None\n",
        "  return ','.join(['%.2f' % num for num in temp])"
      ],
      "metadata": {
        "id": "TsYgT41SKyAn"
      },
      "execution_count": 20,
      "outputs": []
    },
    {
      "cell_type": "code",
      "source": [
        "# routeLoca = dfTrainsLearn.loc[dfTrainsLearn['aotuTrainData.routeLocationList'].str.len() > 0]['aotuTrainData.routeLocationList']\n",
        "# route = routeLoca.iloc[0]\n",
        "# print(route)\n",
        "# jsroute = pd.json_normalize(route)\n",
        "# jsroute"
      ],
      "metadata": {
        "id": "PM-Q6r-A2JNS"
      },
      "execution_count": 21,
      "outputs": []
    },
    {
      "cell_type": "code",
      "source": [
        "# dfTrainsLearn.loc[dfTrainsLearn['aotuTrainData.routeLocationList'].map(len)==0]\n",
        "# dfTrainsLearn[dfTrainsLearn['aotuTrainData.routeLocationList'].apply(lambda x: isinstance(x, float))]['aotuTrainData.routeLocationList']"
      ],
      "metadata": {
        "id": "fK5apSV-R6NF"
      },
      "execution_count": 22,
      "outputs": []
    },
    {
      "cell_type": "code",
      "source": [
        "dfTrainsLearn['workLocations'] = dfTrainsLearn.apply(lambda row: getWorkLocations(row), axis=1)"
      ],
      "metadata": {
        "id": "5sNuNU-iSgFy"
      },
      "execution_count": 23,
      "outputs": []
    },
    {
      "cell_type": "code",
      "source": [
        "dfTrainsLearn['workLocations'].unique()"
      ],
      "metadata": {
        "id": "jA6cNsHR8VSr",
        "outputId": "8c613077-f8f6-412f-fceb-513577dc9155",
        "colab": {
          "base_uri": "https://localhost:8080/"
        }
      },
      "execution_count": 24,
      "outputs": [
        {
          "output_type": "execute_result",
          "data": {
            "text/plain": [
              "array([None, '225.10', '202.20', '202.20,219.70', '250.50,202.20', '258.40,202.20', '202.20,258.40,321.50', '202.20,258.40', '219.70,202.20', '202.20,314.52', '202.20,214.50,225.10,290.80,304.10',\n",
              "       '214.50,225.10,290.80,304.10,202.20', '321.50,202.20', '321.50,314.52,202.20', '258.40,219.70,202.20', '314.52,202.20', '258.40,207.60,202.20', '257.60,202.20', '202.20,265.30',\n",
              "       '202.20,258.40,318.90,321.50', '202.20,258.40,321.50,219.70', '202.20,219.70,258.40,321.50', '202.20,219.70,250.50,258.40,321.50', '202.20,219.70,258.40', '225.10,202.20'], dtype=object)"
            ]
          },
          "metadata": {},
          "execution_count": 24
        }
      ]
    },
    {
      "cell_type": "markdown",
      "source": [
        "We can make this more clever later, but for now this seems the most sensible shortcut"
      ],
      "metadata": {
        "id": "-AZiJPI24QO9"
      }
    },
    {
      "cell_type": "code",
      "source": [
        "dfTrainsLearn['locomotiveCount'] = dfTrainsLearn.apply(lambda row: len(row['locomotiveList']),axis = 1)"
      ],
      "metadata": {
        "id": "LuG8-GNBzwrF"
      },
      "execution_count": 25,
      "outputs": []
    },
    {
      "cell_type": "code",
      "source": [
        "dfTrainsLearn = dfTrainsLearn.reset_index(drop=True)"
      ],
      "metadata": {
        "id": "GMHDRmAnzv5w"
      },
      "execution_count": 26,
      "outputs": []
    },
    {
      "cell_type": "code",
      "source": [
        "dfTrainsLearnActuals = dfTrainsLearn.apply(lambda row: pd.json_normalize(row['trainActualPositionList']), axis=1)"
      ],
      "metadata": {
        "id": "Ag-KbEfz4Is8"
      },
      "execution_count": 27,
      "outputs": []
    },
    {
      "cell_type": "code",
      "source": [
        "dfTrainsLearnActuals.iloc[1]"
      ],
      "metadata": {
        "id": "r_gdrmU4IgpY",
        "outputId": "0d3eef8d-750a-4d09-85b0-d101c7b21111",
        "colab": {
          "base_uri": "https://localhost:8080/",
          "height": 300
        }
      },
      "execution_count": 28,
      "outputs": [
        {
          "output_type": "execute_result",
          "data": {
            "text/plain": [
              "           positionTime  speedMPH  milepostLocation.subdivisionId  \\\n",
              "0  2022-06-25T22:03:36Z        15                             106   \n",
              "1  2022-06-25T22:05:36Z        19                             106   \n",
              "2  2022-06-25T22:07:36Z        10                             106   \n",
              "3  2022-06-25T22:09:36Z         0                             106   \n",
              "4  2022-06-25T22:11:36Z         0                             106   \n",
              "5  2022-06-25T22:13:36Z         0                             106   \n",
              "6  2022-06-25T22:15:36Z         0                             106   \n",
              "7  2022-06-25T22:17:36Z         0                             106   \n",
              "\n",
              "  milepostLocation.trackName  milepostLocation.milepost.milepostNumber  \n",
              "0                       MAIN                                 765.54820  \n",
              "1                  WEST MAIN                                 766.13635  \n",
              "2                  WEST MAIN                                 766.48220  \n",
              "3                  WEST MAIN                                 766.82220  \n",
              "4                  WEST MAIN                                 766.82220  \n",
              "5                  WEST MAIN                                 766.82220  \n",
              "6                  WEST MAIN                                 766.82220  \n",
              "7                  WEST MAIN                                 766.82220  "
            ],
            "text/html": [
              "\n",
              "  <div id=\"df-78c341b7-fa52-4784-8147-6506e068e2f2\">\n",
              "    <div class=\"colab-df-container\">\n",
              "      <div>\n",
              "<style scoped>\n",
              "    .dataframe tbody tr th:only-of-type {\n",
              "        vertical-align: middle;\n",
              "    }\n",
              "\n",
              "    .dataframe tbody tr th {\n",
              "        vertical-align: top;\n",
              "    }\n",
              "\n",
              "    .dataframe thead th {\n",
              "        text-align: right;\n",
              "    }\n",
              "</style>\n",
              "<table border=\"1\" class=\"dataframe\">\n",
              "  <thead>\n",
              "    <tr style=\"text-align: right;\">\n",
              "      <th></th>\n",
              "      <th>positionTime</th>\n",
              "      <th>speedMPH</th>\n",
              "      <th>milepostLocation.subdivisionId</th>\n",
              "      <th>milepostLocation.trackName</th>\n",
              "      <th>milepostLocation.milepost.milepostNumber</th>\n",
              "    </tr>\n",
              "  </thead>\n",
              "  <tbody>\n",
              "    <tr>\n",
              "      <th>0</th>\n",
              "      <td>2022-06-25T22:03:36Z</td>\n",
              "      <td>15</td>\n",
              "      <td>106</td>\n",
              "      <td>MAIN</td>\n",
              "      <td>765.54820</td>\n",
              "    </tr>\n",
              "    <tr>\n",
              "      <th>1</th>\n",
              "      <td>2022-06-25T22:05:36Z</td>\n",
              "      <td>19</td>\n",
              "      <td>106</td>\n",
              "      <td>WEST MAIN</td>\n",
              "      <td>766.13635</td>\n",
              "    </tr>\n",
              "    <tr>\n",
              "      <th>2</th>\n",
              "      <td>2022-06-25T22:07:36Z</td>\n",
              "      <td>10</td>\n",
              "      <td>106</td>\n",
              "      <td>WEST MAIN</td>\n",
              "      <td>766.48220</td>\n",
              "    </tr>\n",
              "    <tr>\n",
              "      <th>3</th>\n",
              "      <td>2022-06-25T22:09:36Z</td>\n",
              "      <td>0</td>\n",
              "      <td>106</td>\n",
              "      <td>WEST MAIN</td>\n",
              "      <td>766.82220</td>\n",
              "    </tr>\n",
              "    <tr>\n",
              "      <th>4</th>\n",
              "      <td>2022-06-25T22:11:36Z</td>\n",
              "      <td>0</td>\n",
              "      <td>106</td>\n",
              "      <td>WEST MAIN</td>\n",
              "      <td>766.82220</td>\n",
              "    </tr>\n",
              "    <tr>\n",
              "      <th>5</th>\n",
              "      <td>2022-06-25T22:13:36Z</td>\n",
              "      <td>0</td>\n",
              "      <td>106</td>\n",
              "      <td>WEST MAIN</td>\n",
              "      <td>766.82220</td>\n",
              "    </tr>\n",
              "    <tr>\n",
              "      <th>6</th>\n",
              "      <td>2022-06-25T22:15:36Z</td>\n",
              "      <td>0</td>\n",
              "      <td>106</td>\n",
              "      <td>WEST MAIN</td>\n",
              "      <td>766.82220</td>\n",
              "    </tr>\n",
              "    <tr>\n",
              "      <th>7</th>\n",
              "      <td>2022-06-25T22:17:36Z</td>\n",
              "      <td>0</td>\n",
              "      <td>106</td>\n",
              "      <td>WEST MAIN</td>\n",
              "      <td>766.82220</td>\n",
              "    </tr>\n",
              "  </tbody>\n",
              "</table>\n",
              "</div>\n",
              "      <button class=\"colab-df-convert\" onclick=\"convertToInteractive('df-78c341b7-fa52-4784-8147-6506e068e2f2')\"\n",
              "              title=\"Convert this dataframe to an interactive table.\"\n",
              "              style=\"display:none;\">\n",
              "        \n",
              "  <svg xmlns=\"http://www.w3.org/2000/svg\" height=\"24px\"viewBox=\"0 0 24 24\"\n",
              "       width=\"24px\">\n",
              "    <path d=\"M0 0h24v24H0V0z\" fill=\"none\"/>\n",
              "    <path d=\"M18.56 5.44l.94 2.06.94-2.06 2.06-.94-2.06-.94-.94-2.06-.94 2.06-2.06.94zm-11 1L8.5 8.5l.94-2.06 2.06-.94-2.06-.94L8.5 2.5l-.94 2.06-2.06.94zm10 10l.94 2.06.94-2.06 2.06-.94-2.06-.94-.94-2.06-.94 2.06-2.06.94z\"/><path d=\"M17.41 7.96l-1.37-1.37c-.4-.4-.92-.59-1.43-.59-.52 0-1.04.2-1.43.59L10.3 9.45l-7.72 7.72c-.78.78-.78 2.05 0 2.83L4 21.41c.39.39.9.59 1.41.59.51 0 1.02-.2 1.41-.59l7.78-7.78 2.81-2.81c.8-.78.8-2.07 0-2.86zM5.41 20L4 18.59l7.72-7.72 1.47 1.35L5.41 20z\"/>\n",
              "  </svg>\n",
              "      </button>\n",
              "      \n",
              "  <style>\n",
              "    .colab-df-container {\n",
              "      display:flex;\n",
              "      flex-wrap:wrap;\n",
              "      gap: 12px;\n",
              "    }\n",
              "\n",
              "    .colab-df-convert {\n",
              "      background-color: #E8F0FE;\n",
              "      border: none;\n",
              "      border-radius: 50%;\n",
              "      cursor: pointer;\n",
              "      display: none;\n",
              "      fill: #1967D2;\n",
              "      height: 32px;\n",
              "      padding: 0 0 0 0;\n",
              "      width: 32px;\n",
              "    }\n",
              "\n",
              "    .colab-df-convert:hover {\n",
              "      background-color: #E2EBFA;\n",
              "      box-shadow: 0px 1px 2px rgba(60, 64, 67, 0.3), 0px 1px 3px 1px rgba(60, 64, 67, 0.15);\n",
              "      fill: #174EA6;\n",
              "    }\n",
              "\n",
              "    [theme=dark] .colab-df-convert {\n",
              "      background-color: #3B4455;\n",
              "      fill: #D2E3FC;\n",
              "    }\n",
              "\n",
              "    [theme=dark] .colab-df-convert:hover {\n",
              "      background-color: #434B5C;\n",
              "      box-shadow: 0px 1px 3px 1px rgba(0, 0, 0, 0.15);\n",
              "      filter: drop-shadow(0px 1px 2px rgba(0, 0, 0, 0.3));\n",
              "      fill: #FFFFFF;\n",
              "    }\n",
              "  </style>\n",
              "\n",
              "      <script>\n",
              "        const buttonEl =\n",
              "          document.querySelector('#df-78c341b7-fa52-4784-8147-6506e068e2f2 button.colab-df-convert');\n",
              "        buttonEl.style.display =\n",
              "          google.colab.kernel.accessAllowed ? 'block' : 'none';\n",
              "\n",
              "        async function convertToInteractive(key) {\n",
              "          const element = document.querySelector('#df-78c341b7-fa52-4784-8147-6506e068e2f2');\n",
              "          const dataTable =\n",
              "            await google.colab.kernel.invokeFunction('convertToInteractive',\n",
              "                                                     [key], {});\n",
              "          if (!dataTable) return;\n",
              "\n",
              "          const docLinkHtml = 'Like what you see? Visit the ' +\n",
              "            '<a target=\"_blank\" href=https://colab.research.google.com/notebooks/data_table.ipynb>data table notebook</a>'\n",
              "            + ' to learn more about interactive tables.';\n",
              "          element.innerHTML = '';\n",
              "          dataTable['output_type'] = 'display_data';\n",
              "          await google.colab.output.renderOutput(dataTable, element);\n",
              "          const docLink = document.createElement('div');\n",
              "          docLink.innerHTML = docLinkHtml;\n",
              "          element.appendChild(docLink);\n",
              "        }\n",
              "      </script>\n",
              "    </div>\n",
              "  </div>\n",
              "  "
            ]
          },
          "metadata": {},
          "execution_count": 28
        }
      ]
    },
    {
      "cell_type": "code",
      "source": [
        "dfTrainsLearn.iloc[1]['lastReportedPosition.speedMPH']"
      ],
      "metadata": {
        "id": "hpMijVlapb0U",
        "outputId": "69dba0bb-56d2-4e2d-dc8d-7e4458f52bb5",
        "colab": {
          "base_uri": "https://localhost:8080/"
        }
      },
      "execution_count": 29,
      "outputs": [
        {
          "output_type": "execute_result",
          "data": {
            "text/plain": [
              "10"
            ]
          },
          "metadata": {},
          "execution_count": 29
        }
      ]
    },
    {
      "cell_type": "code",
      "source": [
        "def findNextSpeed(trainsEntry, actualsEntry):\n",
        "  #print(actualsEntry.iloc[4]['speedMPH'], \" - \",trainsEntry['lastReportedPosition.speedMPH'] )\n",
        "  return (abs(actualsEntry.iloc[4]['speedMPH']) - abs(trainsEntry['lastReportedPosition.speedMPH']))"
      ],
      "metadata": {
        "id": "i_JszmqL0MR6"
      },
      "execution_count": 30,
      "outputs": []
    },
    {
      "cell_type": "code",
      "source": [
        "findNextSpeed(dfTrainsLearn.iloc[101], dfTrainsLearnActuals.iloc[101])"
      ],
      "metadata": {
        "id": "ApCibOB-uJ0B",
        "outputId": "2fe42dfe-9fe5-4a11-b560-dfe9a1882d19",
        "colab": {
          "base_uri": "https://localhost:8080/"
        }
      },
      "execution_count": 31,
      "outputs": [
        {
          "output_type": "execute_result",
          "data": {
            "text/plain": [
              "9"
            ]
          },
          "metadata": {},
          "execution_count": 31
        }
      ]
    },
    {
      "cell_type": "code",
      "source": [
        "dfTrainsLearn = dfTrainsLearn.dropna(subset=['ptcLeadLocomotiveId'])\n",
        "dfTrainsLearn"
      ],
      "metadata": {
        "id": "t-QMDbCQv8DD",
        "outputId": "ef7ae5ca-e296-4b70-cbaf-adcadd63f0f7",
        "colab": {
          "base_uri": "https://localhost:8080/",
          "height": 1000
        }
      },
      "execution_count": 32,
      "outputs": [
        {
          "output_type": "execute_result",
          "data": {
            "text/plain": [
              "      ptcLeadLocomotiveId  \\\n",
              "0                 AMTK206   \n",
              "1                 AMTK206   \n",
              "2                 AMTK206   \n",
              "3                 AMTK206   \n",
              "4                 AMTK206   \n",
              "...                   ...   \n",
              "31805              UP9101   \n",
              "31806              UP9101   \n",
              "31807              UP9101   \n",
              "31808              UP9101   \n",
              "31809              UP9101   \n",
              "\n",
              "                                                                                                                                                                                                                                                                                                                                                                                                                                                                                                                                                                                                           positionHistoryList  \\\n",
              "0      [{'positionTime': '2022-06-25T22:00:53Z', 'speedMPH': 9, 'milepostLocation': {'subdivisionId': 106, 'trackName': 'TO_S_UP_MAINLINE', 'milepost': {'milepostNumber': 764.8683}}}, {'positionTime': '2022-06-25T21:59:40Z', 'speedMPH': 15, 'milepostLocation': {'subdivisionId': 595, 'trackName': 'MT', 'milepost': {'milepostNumber': 276.7377}}}, {'positionTime': '2022-06-25T21:59:09Z', 'speedMPH': 12, 'milepostLocation': {'subdivisionId': 595, 'trackName': 'MT', 'milepost': {'milepostNumber': 276.6104}}}, {'positionTime': '2022-06-25T21:54:54Z', 'speedMPH': 30, 'milepostLocation': {'subdivisionId'...   \n",
              "1      [{'positionTime': '2022-06-25T22:01:36Z', 'speedMPH': 10, 'milepostLocation': {'subdivisionId': 106, 'trackName': 'MAIN', 'milepost': {'milepostNumber': 764.987}}}, {'positionTime': '2022-06-25T22:00:53Z', 'speedMPH': 9, 'milepostLocation': {'subdivisionId': 106, 'trackName': 'TO_S_UP_MAINLINE', 'milepost': {'milepostNumber': 764.8683}}}, {'positionTime': '2022-06-25T21:59:40Z', 'speedMPH': 15, 'milepostLocation': {'subdivisionId': 595, 'trackName': 'MT', 'milepost': {'milepostNumber': 276.7377}}}, {'positionTime': '2022-06-25T21:59:09Z', 'speedMPH': 12, 'milepostLocation': {'subdivisionId...   \n",
              "2      [{'positionTime': '2022-06-25T22:01:39Z', 'speedMPH': 10, 'milepostLocation': {'subdivisionId': 106, 'trackName': 'MAIN', 'milepost': {'milepostNumber': 764.9957}}}, {'positionTime': '2022-06-25T22:01:36Z', 'speedMPH': 10, 'milepostLocation': {'subdivisionId': 106, 'trackName': 'MAIN', 'milepost': {'milepostNumber': 764.987}}}, {'positionTime': '2022-06-25T22:00:53Z', 'speedMPH': 9, 'milepostLocation': {'subdivisionId': 106, 'trackName': 'TO_S_UP_MAINLINE', 'milepost': {'milepostNumber': 764.8683}}}, {'positionTime': '2022-06-25T21:59:40Z', 'speedMPH': 15, 'milepostLocation': {'subdivision...   \n",
              "3      [{'positionTime': '2022-06-25T22:04:59Z', 'speedMPH': 19, 'milepostLocation': {'subdivisionId': 106, 'trackName': 'MAIN', 'milepost': {'milepostNumber': 765.9402}}}, {'positionTime': '2022-06-25T22:01:39Z', 'speedMPH': 10, 'milepostLocation': {'subdivisionId': 106, 'trackName': 'MAIN', 'milepost': {'milepostNumber': 764.9957}}}, {'positionTime': '2022-06-25T22:01:36Z', 'speedMPH': 10, 'milepostLocation': {'subdivisionId': 106, 'trackName': 'MAIN', 'milepost': {'milepostNumber': 764.987}}}, {'positionTime': '2022-06-25T22:00:53Z', 'speedMPH': 9, 'milepostLocation': {'subdivisionId': 106, 't...   \n",
              "4      [{'positionTime': '2022-06-25T22:05:34Z', 'speedMPH': 19, 'milepostLocation': {'subdivisionId': 106, 'trackName': 'WEST MAIN', 'milepost': {'milepostNumber': 766.1306}}}, {'positionTime': '2022-06-25T22:04:59Z', 'speedMPH': 19, 'milepostLocation': {'subdivisionId': 106, 'trackName': 'MAIN', 'milepost': {'milepostNumber': 765.9402}}}, {'positionTime': '2022-06-25T22:01:39Z', 'speedMPH': 10, 'milepostLocation': {'subdivisionId': 106, 'trackName': 'MAIN', 'milepost': {'milepostNumber': 764.9957}}}, {'positionTime': '2022-06-25T22:01:36Z', 'speedMPH': 10, 'milepostLocation': {'subdivisionId': ...   \n",
              "...                                                                                                                                                                                                                                                                                                                                                                                                                                                                                                                                                                                                                        ...   \n",
              "31805  [{'positionTime': '2022-06-23T11:46:24Z', 'speedMPH': 46, 'milepostLocation': {'subdivisionId': 106, 'trackName': 'MT 1', 'milepost': {'milepostNumber': 315.0107}}}, {'positionTime': '2022-06-23T11:44:24Z', 'speedMPH': 47, 'milepostLocation': {'subdivisionId': 106, 'trackName': 'MT 1', 'milepost': {'milepostNumber': 313.4511}}}, {'positionTime': '2022-06-23T11:43:36Z', 'speedMPH': 48, 'milepostLocation': {'subdivisionId': 106, 'trackName': 'MT 1', 'milepost': {'milepostNumber': 312.8133}}}, {'positionTime': '2022-06-23T11:42:40Z', 'speedMPH': 48, 'milepostLocation': {'subdivisionId': 106, ...   \n",
              "31806  [{'positionTime': '2022-06-23T11:47:23Z', 'speedMPH': 47, 'milepostLocation': {'subdivisionId': 106, 'trackName': 'MT 1', 'milepost': {'milepostNumber': 315.7878}}}, {'positionTime': '2022-06-23T11:46:24Z', 'speedMPH': 46, 'milepostLocation': {'subdivisionId': 106, 'trackName': 'MT 1', 'milepost': {'milepostNumber': 315.0107}}}, {'positionTime': '2022-06-23T11:44:24Z', 'speedMPH': 47, 'milepostLocation': {'subdivisionId': 106, 'trackName': 'MT 1', 'milepost': {'milepostNumber': 313.4511}}}, {'positionTime': '2022-06-23T11:43:36Z', 'speedMPH': 48, 'milepostLocation': {'subdivisionId': 106, ...   \n",
              "31807  [{'positionTime': '2022-06-23T11:48:09Z', 'speedMPH': 46, 'milepostLocation': {'subdivisionId': 106, 'trackName': 'MT 1', 'milepost': {'milepostNumber': 316.3802}}}, {'positionTime': '2022-06-23T11:47:23Z', 'speedMPH': 47, 'milepostLocation': {'subdivisionId': 106, 'trackName': 'MT 1', 'milepost': {'milepostNumber': 315.7878}}}, {'positionTime': '2022-06-23T11:46:24Z', 'speedMPH': 46, 'milepostLocation': {'subdivisionId': 106, 'trackName': 'MT 1', 'milepost': {'milepostNumber': 315.0107}}}, {'positionTime': '2022-06-23T11:44:24Z', 'speedMPH': 47, 'milepostLocation': {'subdivisionId': 106, ...   \n",
              "31808  [{'positionTime': '2022-06-23T11:50:16Z', 'speedMPH': 44, 'milepostLocation': {'subdivisionId': 106, 'trackName': 'MT 1', 'milepost': {'milepostNumber': 317.9784}}}, {'positionTime': '2022-06-23T11:48:09Z', 'speedMPH': 46, 'milepostLocation': {'subdivisionId': 106, 'trackName': 'MT 1', 'milepost': {'milepostNumber': 316.3802}}}, {'positionTime': '2022-06-23T11:47:23Z', 'speedMPH': 47, 'milepostLocation': {'subdivisionId': 106, 'trackName': 'MT 1', 'milepost': {'milepostNumber': 315.7878}}}, {'positionTime': '2022-06-23T11:46:24Z', 'speedMPH': 46, 'milepostLocation': {'subdivisionId': 106, ...   \n",
              "31809  [{'positionTime': '2022-06-23T11:50:55Z', 'speedMPH': 43, 'milepostLocation': {'subdivisionId': 106, 'trackName': 'MT 1', 'milepost': {'milepostNumber': 318.4505}}}, {'positionTime': '2022-06-23T11:50:16Z', 'speedMPH': 44, 'milepostLocation': {'subdivisionId': 106, 'trackName': 'MT 1', 'milepost': {'milepostNumber': 317.9784}}}, {'positionTime': '2022-06-23T11:48:09Z', 'speedMPH': 46, 'milepostLocation': {'subdivisionId': 106, 'trackName': 'MT 1', 'milepost': {'milepostNumber': 316.3802}}}, {'positionTime': '2022-06-23T11:47:23Z', 'speedMPH': 47, 'milepostLocation': {'subdivisionId': 106, ...   \n",
              "\n",
              "                                                                                                                                                                                                                                                                                                                                                                                            locomotiveList  \\\n",
              "0                                                                                                                                                                                                                                                                                                                                                                                                       []   \n",
              "1                                                                                                                                                                                                                                                                                                                                                                                                       []   \n",
              "2                                                                                                                                                                                                                                                                                                                                                                                                       []   \n",
              "3                                                                                                                                                                                                                                                                                                                                                                                                       []   \n",
              "4                                                                                                                                                                                                                                                                                                                                                                                                       []   \n",
              "...                                                                                                                                                                                                                                                                                                                                                                                                    ...   \n",
              "31805  [{'locomotiveId': 'UP9101', 'positionOnTrain': 1, 'locomotiveWeight': 213, 'locomotiveLength': 74, 'locomotiveHorsepower': 4300}, {'locomotiveId': 'UP2679', 'positionOnTrain': 2, 'locomotiveWeight': 216, 'locomotiveLength': 73, 'locomotiveHorsepower': 4300}, {'locomotiveId': 'UP8974', 'positionOnTrain': 3, 'locomotiveWeight': 213, 'locomotiveLength': 74, 'locomotiveHorsepower': 4300}]   \n",
              "31806  [{'locomotiveId': 'UP9101', 'positionOnTrain': 1, 'locomotiveWeight': 213, 'locomotiveLength': 74, 'locomotiveHorsepower': 4300}, {'locomotiveId': 'UP2679', 'positionOnTrain': 2, 'locomotiveWeight': 216, 'locomotiveLength': 73, 'locomotiveHorsepower': 4300}, {'locomotiveId': 'UP8974', 'positionOnTrain': 3, 'locomotiveWeight': 213, 'locomotiveLength': 74, 'locomotiveHorsepower': 4300}]   \n",
              "31807  [{'locomotiveId': 'UP9101', 'positionOnTrain': 1, 'locomotiveWeight': 213, 'locomotiveLength': 74, 'locomotiveHorsepower': 4300}, {'locomotiveId': 'UP2679', 'positionOnTrain': 2, 'locomotiveWeight': 216, 'locomotiveLength': 73, 'locomotiveHorsepower': 4300}, {'locomotiveId': 'UP8974', 'positionOnTrain': 3, 'locomotiveWeight': 213, 'locomotiveLength': 74, 'locomotiveHorsepower': 4300}]   \n",
              "31808  [{'locomotiveId': 'UP9101', 'positionOnTrain': 1, 'locomotiveWeight': 213, 'locomotiveLength': 74, 'locomotiveHorsepower': 4300}, {'locomotiveId': 'UP2679', 'positionOnTrain': 2, 'locomotiveWeight': 216, 'locomotiveLength': 73, 'locomotiveHorsepower': 4300}, {'locomotiveId': 'UP8974', 'positionOnTrain': 3, 'locomotiveWeight': 213, 'locomotiveLength': 74, 'locomotiveHorsepower': 4300}]   \n",
              "31809  [{'locomotiveId': 'UP9101', 'positionOnTrain': 1, 'locomotiveWeight': 213, 'locomotiveLength': 74, 'locomotiveHorsepower': 4300}, {'locomotiveId': 'UP2679', 'positionOnTrain': 2, 'locomotiveWeight': 216, 'locomotiveLength': 73, 'locomotiveHorsepower': 4300}, {'locomotiveId': 'UP8974', 'positionOnTrain': 3, 'locomotiveWeight': 213, 'locomotiveLength': 74, 'locomotiveHorsepower': 4300}]   \n",
              "\n",
              "                                                                                                                                                                                        subdivisionList  \\\n",
              "0                                                      [{'subdivisionId': 595}, {'subdivisionId': 605}, {'subdivisionId': 538}, {'subdivisionId': 461}, {'subdivisionId': 599}, {'subdivisionId': 477}]   \n",
              "1                                                                              [{'subdivisionId': 595}, {'subdivisionId': 605}, {'subdivisionId': 538}, {'subdivisionId': 461}, {'subdivisionId': 599}]   \n",
              "2                                                                              [{'subdivisionId': 595}, {'subdivisionId': 605}, {'subdivisionId': 538}, {'subdivisionId': 461}, {'subdivisionId': 599}]   \n",
              "3                                                                              [{'subdivisionId': 595}, {'subdivisionId': 605}, {'subdivisionId': 538}, {'subdivisionId': 461}, {'subdivisionId': 599}]   \n",
              "4                                                                              [{'subdivisionId': 595}, {'subdivisionId': 605}, {'subdivisionId': 538}, {'subdivisionId': 461}, {'subdivisionId': 599}]   \n",
              "...                                                                                                                                                                                                 ...   \n",
              "31805  [{'subdivisionId': 106}, {'subdivisionId': 203}, {'subdivisionId': 119}, {'subdivisionId': 200}, {'subdivisionId': 233}, {'subdivisionId': 225}, {'subdivisionId': 206}, {'subdivisionId': 204}]   \n",
              "31806  [{'subdivisionId': 106}, {'subdivisionId': 203}, {'subdivisionId': 119}, {'subdivisionId': 200}, {'subdivisionId': 233}, {'subdivisionId': 225}, {'subdivisionId': 206}, {'subdivisionId': 204}]   \n",
              "31807  [{'subdivisionId': 106}, {'subdivisionId': 203}, {'subdivisionId': 119}, {'subdivisionId': 200}, {'subdivisionId': 233}, {'subdivisionId': 225}, {'subdivisionId': 206}, {'subdivisionId': 204}]   \n",
              "31808  [{'subdivisionId': 106}, {'subdivisionId': 203}, {'subdivisionId': 119}, {'subdivisionId': 200}, {'subdivisionId': 233}, {'subdivisionId': 225}, {'subdivisionId': 206}, {'subdivisionId': 204}]   \n",
              "31809  [{'subdivisionId': 106}, {'subdivisionId': 203}, {'subdivisionId': 119}, {'subdivisionId': 200}, {'subdivisionId': 233}, {'subdivisionId': 225}, {'subdivisionId': 206}, {'subdivisionId': 204}]   \n",
              "\n",
              "       ... mpIncr symbolType         workLocations locomotiveCount  \n",
              "0      ...   True        NaN                  None               0  \n",
              "1      ...   True        NaN                  None               0  \n",
              "2      ...   True        NaN                  None               0  \n",
              "3      ...   True        NaN                  None               0  \n",
              "4      ...   True        NaN                  None               0  \n",
              "...    ...    ...        ...                   ...             ...  \n",
              "31805  ...   True        NaN  202.20,258.40,321.50               3  \n",
              "31806  ...   True        NaN  202.20,258.40,321.50               3  \n",
              "31807  ...   True        NaN  202.20,258.40,321.50               3  \n",
              "31808  ...   True        NaN  202.20,258.40,321.50               3  \n",
              "31809  ...   True        NaN  202.20,258.40,321.50               3  \n",
              "\n",
              "[31810 rows x 41 columns]"
            ],
            "text/html": [
              "\n",
              "  <div id=\"df-074832c7-8977-49e9-8e06-2c8a9ec66b14\">\n",
              "    <div class=\"colab-df-container\">\n",
              "      <div>\n",
              "<style scoped>\n",
              "    .dataframe tbody tr th:only-of-type {\n",
              "        vertical-align: middle;\n",
              "    }\n",
              "\n",
              "    .dataframe tbody tr th {\n",
              "        vertical-align: top;\n",
              "    }\n",
              "\n",
              "    .dataframe thead th {\n",
              "        text-align: right;\n",
              "    }\n",
              "</style>\n",
              "<table border=\"1\" class=\"dataframe\">\n",
              "  <thead>\n",
              "    <tr style=\"text-align: right;\">\n",
              "      <th></th>\n",
              "      <th>ptcLeadLocomotiveId</th>\n",
              "      <th>positionHistoryList</th>\n",
              "      <th>locomotiveList</th>\n",
              "      <th>subdivisionList</th>\n",
              "      <th>...</th>\n",
              "      <th>mpIncr</th>\n",
              "      <th>symbolType</th>\n",
              "      <th>workLocations</th>\n",
              "      <th>locomotiveCount</th>\n",
              "    </tr>\n",
              "  </thead>\n",
              "  <tbody>\n",
              "    <tr>\n",
              "      <th>0</th>\n",
              "      <td>AMTK206</td>\n",
              "      <td>[{'positionTime': '2022-06-25T22:00:53Z', 'speedMPH': 9, 'milepostLocation': {'subdivisionId': 106, 'trackName': 'TO_S_UP_MAINLINE', 'milepost': {'milepostNumber': 764.8683}}}, {'positionTime': '2022-06-25T21:59:40Z', 'speedMPH': 15, 'milepostLocation': {'subdivisionId': 595, 'trackName': 'MT', 'milepost': {'milepostNumber': 276.7377}}}, {'positionTime': '2022-06-25T21:59:09Z', 'speedMPH': 12, 'milepostLocation': {'subdivisionId': 595, 'trackName': 'MT', 'milepost': {'milepostNumber': 276.6104}}}, {'positionTime': '2022-06-25T21:54:54Z', 'speedMPH': 30, 'milepostLocation': {'subdivisionId'...</td>\n",
              "      <td>[]</td>\n",
              "      <td>[{'subdivisionId': 595}, {'subdivisionId': 605}, {'subdivisionId': 538}, {'subdivisionId': 461}, {'subdivisionId': 599}, {'subdivisionId': 477}]</td>\n",
              "      <td>...</td>\n",
              "      <td>True</td>\n",
              "      <td>NaN</td>\n",
              "      <td>None</td>\n",
              "      <td>0</td>\n",
              "    </tr>\n",
              "    <tr>\n",
              "      <th>1</th>\n",
              "      <td>AMTK206</td>\n",
              "      <td>[{'positionTime': '2022-06-25T22:01:36Z', 'speedMPH': 10, 'milepostLocation': {'subdivisionId': 106, 'trackName': 'MAIN', 'milepost': {'milepostNumber': 764.987}}}, {'positionTime': '2022-06-25T22:00:53Z', 'speedMPH': 9, 'milepostLocation': {'subdivisionId': 106, 'trackName': 'TO_S_UP_MAINLINE', 'milepost': {'milepostNumber': 764.8683}}}, {'positionTime': '2022-06-25T21:59:40Z', 'speedMPH': 15, 'milepostLocation': {'subdivisionId': 595, 'trackName': 'MT', 'milepost': {'milepostNumber': 276.7377}}}, {'positionTime': '2022-06-25T21:59:09Z', 'speedMPH': 12, 'milepostLocation': {'subdivisionId...</td>\n",
              "      <td>[]</td>\n",
              "      <td>[{'subdivisionId': 595}, {'subdivisionId': 605}, {'subdivisionId': 538}, {'subdivisionId': 461}, {'subdivisionId': 599}]</td>\n",
              "      <td>...</td>\n",
              "      <td>True</td>\n",
              "      <td>NaN</td>\n",
              "      <td>None</td>\n",
              "      <td>0</td>\n",
              "    </tr>\n",
              "    <tr>\n",
              "      <th>2</th>\n",
              "      <td>AMTK206</td>\n",
              "      <td>[{'positionTime': '2022-06-25T22:01:39Z', 'speedMPH': 10, 'milepostLocation': {'subdivisionId': 106, 'trackName': 'MAIN', 'milepost': {'milepostNumber': 764.9957}}}, {'positionTime': '2022-06-25T22:01:36Z', 'speedMPH': 10, 'milepostLocation': {'subdivisionId': 106, 'trackName': 'MAIN', 'milepost': {'milepostNumber': 764.987}}}, {'positionTime': '2022-06-25T22:00:53Z', 'speedMPH': 9, 'milepostLocation': {'subdivisionId': 106, 'trackName': 'TO_S_UP_MAINLINE', 'milepost': {'milepostNumber': 764.8683}}}, {'positionTime': '2022-06-25T21:59:40Z', 'speedMPH': 15, 'milepostLocation': {'subdivision...</td>\n",
              "      <td>[]</td>\n",
              "      <td>[{'subdivisionId': 595}, {'subdivisionId': 605}, {'subdivisionId': 538}, {'subdivisionId': 461}, {'subdivisionId': 599}]</td>\n",
              "      <td>...</td>\n",
              "      <td>True</td>\n",
              "      <td>NaN</td>\n",
              "      <td>None</td>\n",
              "      <td>0</td>\n",
              "    </tr>\n",
              "    <tr>\n",
              "      <th>3</th>\n",
              "      <td>AMTK206</td>\n",
              "      <td>[{'positionTime': '2022-06-25T22:04:59Z', 'speedMPH': 19, 'milepostLocation': {'subdivisionId': 106, 'trackName': 'MAIN', 'milepost': {'milepostNumber': 765.9402}}}, {'positionTime': '2022-06-25T22:01:39Z', 'speedMPH': 10, 'milepostLocation': {'subdivisionId': 106, 'trackName': 'MAIN', 'milepost': {'milepostNumber': 764.9957}}}, {'positionTime': '2022-06-25T22:01:36Z', 'speedMPH': 10, 'milepostLocation': {'subdivisionId': 106, 'trackName': 'MAIN', 'milepost': {'milepostNumber': 764.987}}}, {'positionTime': '2022-06-25T22:00:53Z', 'speedMPH': 9, 'milepostLocation': {'subdivisionId': 106, 't...</td>\n",
              "      <td>[]</td>\n",
              "      <td>[{'subdivisionId': 595}, {'subdivisionId': 605}, {'subdivisionId': 538}, {'subdivisionId': 461}, {'subdivisionId': 599}]</td>\n",
              "      <td>...</td>\n",
              "      <td>True</td>\n",
              "      <td>NaN</td>\n",
              "      <td>None</td>\n",
              "      <td>0</td>\n",
              "    </tr>\n",
              "    <tr>\n",
              "      <th>4</th>\n",
              "      <td>AMTK206</td>\n",
              "      <td>[{'positionTime': '2022-06-25T22:05:34Z', 'speedMPH': 19, 'milepostLocation': {'subdivisionId': 106, 'trackName': 'WEST MAIN', 'milepost': {'milepostNumber': 766.1306}}}, {'positionTime': '2022-06-25T22:04:59Z', 'speedMPH': 19, 'milepostLocation': {'subdivisionId': 106, 'trackName': 'MAIN', 'milepost': {'milepostNumber': 765.9402}}}, {'positionTime': '2022-06-25T22:01:39Z', 'speedMPH': 10, 'milepostLocation': {'subdivisionId': 106, 'trackName': 'MAIN', 'milepost': {'milepostNumber': 764.9957}}}, {'positionTime': '2022-06-25T22:01:36Z', 'speedMPH': 10, 'milepostLocation': {'subdivisionId': ...</td>\n",
              "      <td>[]</td>\n",
              "      <td>[{'subdivisionId': 595}, {'subdivisionId': 605}, {'subdivisionId': 538}, {'subdivisionId': 461}, {'subdivisionId': 599}]</td>\n",
              "      <td>...</td>\n",
              "      <td>True</td>\n",
              "      <td>NaN</td>\n",
              "      <td>None</td>\n",
              "      <td>0</td>\n",
              "    </tr>\n",
              "    <tr>\n",
              "      <th>...</th>\n",
              "      <td>...</td>\n",
              "      <td>...</td>\n",
              "      <td>...</td>\n",
              "      <td>...</td>\n",
              "      <td>...</td>\n",
              "      <td>...</td>\n",
              "      <td>...</td>\n",
              "      <td>...</td>\n",
              "      <td>...</td>\n",
              "    </tr>\n",
              "    <tr>\n",
              "      <th>31805</th>\n",
              "      <td>UP9101</td>\n",
              "      <td>[{'positionTime': '2022-06-23T11:46:24Z', 'speedMPH': 46, 'milepostLocation': {'subdivisionId': 106, 'trackName': 'MT 1', 'milepost': {'milepostNumber': 315.0107}}}, {'positionTime': '2022-06-23T11:44:24Z', 'speedMPH': 47, 'milepostLocation': {'subdivisionId': 106, 'trackName': 'MT 1', 'milepost': {'milepostNumber': 313.4511}}}, {'positionTime': '2022-06-23T11:43:36Z', 'speedMPH': 48, 'milepostLocation': {'subdivisionId': 106, 'trackName': 'MT 1', 'milepost': {'milepostNumber': 312.8133}}}, {'positionTime': '2022-06-23T11:42:40Z', 'speedMPH': 48, 'milepostLocation': {'subdivisionId': 106, ...</td>\n",
              "      <td>[{'locomotiveId': 'UP9101', 'positionOnTrain': 1, 'locomotiveWeight': 213, 'locomotiveLength': 74, 'locomotiveHorsepower': 4300}, {'locomotiveId': 'UP2679', 'positionOnTrain': 2, 'locomotiveWeight': 216, 'locomotiveLength': 73, 'locomotiveHorsepower': 4300}, {'locomotiveId': 'UP8974', 'positionOnTrain': 3, 'locomotiveWeight': 213, 'locomotiveLength': 74, 'locomotiveHorsepower': 4300}]</td>\n",
              "      <td>[{'subdivisionId': 106}, {'subdivisionId': 203}, {'subdivisionId': 119}, {'subdivisionId': 200}, {'subdivisionId': 233}, {'subdivisionId': 225}, {'subdivisionId': 206}, {'subdivisionId': 204}]</td>\n",
              "      <td>...</td>\n",
              "      <td>True</td>\n",
              "      <td>NaN</td>\n",
              "      <td>202.20,258.40,321.50</td>\n",
              "      <td>3</td>\n",
              "    </tr>\n",
              "    <tr>\n",
              "      <th>31806</th>\n",
              "      <td>UP9101</td>\n",
              "      <td>[{'positionTime': '2022-06-23T11:47:23Z', 'speedMPH': 47, 'milepostLocation': {'subdivisionId': 106, 'trackName': 'MT 1', 'milepost': {'milepostNumber': 315.7878}}}, {'positionTime': '2022-06-23T11:46:24Z', 'speedMPH': 46, 'milepostLocation': {'subdivisionId': 106, 'trackName': 'MT 1', 'milepost': {'milepostNumber': 315.0107}}}, {'positionTime': '2022-06-23T11:44:24Z', 'speedMPH': 47, 'milepostLocation': {'subdivisionId': 106, 'trackName': 'MT 1', 'milepost': {'milepostNumber': 313.4511}}}, {'positionTime': '2022-06-23T11:43:36Z', 'speedMPH': 48, 'milepostLocation': {'subdivisionId': 106, ...</td>\n",
              "      <td>[{'locomotiveId': 'UP9101', 'positionOnTrain': 1, 'locomotiveWeight': 213, 'locomotiveLength': 74, 'locomotiveHorsepower': 4300}, {'locomotiveId': 'UP2679', 'positionOnTrain': 2, 'locomotiveWeight': 216, 'locomotiveLength': 73, 'locomotiveHorsepower': 4300}, {'locomotiveId': 'UP8974', 'positionOnTrain': 3, 'locomotiveWeight': 213, 'locomotiveLength': 74, 'locomotiveHorsepower': 4300}]</td>\n",
              "      <td>[{'subdivisionId': 106}, {'subdivisionId': 203}, {'subdivisionId': 119}, {'subdivisionId': 200}, {'subdivisionId': 233}, {'subdivisionId': 225}, {'subdivisionId': 206}, {'subdivisionId': 204}]</td>\n",
              "      <td>...</td>\n",
              "      <td>True</td>\n",
              "      <td>NaN</td>\n",
              "      <td>202.20,258.40,321.50</td>\n",
              "      <td>3</td>\n",
              "    </tr>\n",
              "    <tr>\n",
              "      <th>31807</th>\n",
              "      <td>UP9101</td>\n",
              "      <td>[{'positionTime': '2022-06-23T11:48:09Z', 'speedMPH': 46, 'milepostLocation': {'subdivisionId': 106, 'trackName': 'MT 1', 'milepost': {'milepostNumber': 316.3802}}}, {'positionTime': '2022-06-23T11:47:23Z', 'speedMPH': 47, 'milepostLocation': {'subdivisionId': 106, 'trackName': 'MT 1', 'milepost': {'milepostNumber': 315.7878}}}, {'positionTime': '2022-06-23T11:46:24Z', 'speedMPH': 46, 'milepostLocation': {'subdivisionId': 106, 'trackName': 'MT 1', 'milepost': {'milepostNumber': 315.0107}}}, {'positionTime': '2022-06-23T11:44:24Z', 'speedMPH': 47, 'milepostLocation': {'subdivisionId': 106, ...</td>\n",
              "      <td>[{'locomotiveId': 'UP9101', 'positionOnTrain': 1, 'locomotiveWeight': 213, 'locomotiveLength': 74, 'locomotiveHorsepower': 4300}, {'locomotiveId': 'UP2679', 'positionOnTrain': 2, 'locomotiveWeight': 216, 'locomotiveLength': 73, 'locomotiveHorsepower': 4300}, {'locomotiveId': 'UP8974', 'positionOnTrain': 3, 'locomotiveWeight': 213, 'locomotiveLength': 74, 'locomotiveHorsepower': 4300}]</td>\n",
              "      <td>[{'subdivisionId': 106}, {'subdivisionId': 203}, {'subdivisionId': 119}, {'subdivisionId': 200}, {'subdivisionId': 233}, {'subdivisionId': 225}, {'subdivisionId': 206}, {'subdivisionId': 204}]</td>\n",
              "      <td>...</td>\n",
              "      <td>True</td>\n",
              "      <td>NaN</td>\n",
              "      <td>202.20,258.40,321.50</td>\n",
              "      <td>3</td>\n",
              "    </tr>\n",
              "    <tr>\n",
              "      <th>31808</th>\n",
              "      <td>UP9101</td>\n",
              "      <td>[{'positionTime': '2022-06-23T11:50:16Z', 'speedMPH': 44, 'milepostLocation': {'subdivisionId': 106, 'trackName': 'MT 1', 'milepost': {'milepostNumber': 317.9784}}}, {'positionTime': '2022-06-23T11:48:09Z', 'speedMPH': 46, 'milepostLocation': {'subdivisionId': 106, 'trackName': 'MT 1', 'milepost': {'milepostNumber': 316.3802}}}, {'positionTime': '2022-06-23T11:47:23Z', 'speedMPH': 47, 'milepostLocation': {'subdivisionId': 106, 'trackName': 'MT 1', 'milepost': {'milepostNumber': 315.7878}}}, {'positionTime': '2022-06-23T11:46:24Z', 'speedMPH': 46, 'milepostLocation': {'subdivisionId': 106, ...</td>\n",
              "      <td>[{'locomotiveId': 'UP9101', 'positionOnTrain': 1, 'locomotiveWeight': 213, 'locomotiveLength': 74, 'locomotiveHorsepower': 4300}, {'locomotiveId': 'UP2679', 'positionOnTrain': 2, 'locomotiveWeight': 216, 'locomotiveLength': 73, 'locomotiveHorsepower': 4300}, {'locomotiveId': 'UP8974', 'positionOnTrain': 3, 'locomotiveWeight': 213, 'locomotiveLength': 74, 'locomotiveHorsepower': 4300}]</td>\n",
              "      <td>[{'subdivisionId': 106}, {'subdivisionId': 203}, {'subdivisionId': 119}, {'subdivisionId': 200}, {'subdivisionId': 233}, {'subdivisionId': 225}, {'subdivisionId': 206}, {'subdivisionId': 204}]</td>\n",
              "      <td>...</td>\n",
              "      <td>True</td>\n",
              "      <td>NaN</td>\n",
              "      <td>202.20,258.40,321.50</td>\n",
              "      <td>3</td>\n",
              "    </tr>\n",
              "    <tr>\n",
              "      <th>31809</th>\n",
              "      <td>UP9101</td>\n",
              "      <td>[{'positionTime': '2022-06-23T11:50:55Z', 'speedMPH': 43, 'milepostLocation': {'subdivisionId': 106, 'trackName': 'MT 1', 'milepost': {'milepostNumber': 318.4505}}}, {'positionTime': '2022-06-23T11:50:16Z', 'speedMPH': 44, 'milepostLocation': {'subdivisionId': 106, 'trackName': 'MT 1', 'milepost': {'milepostNumber': 317.9784}}}, {'positionTime': '2022-06-23T11:48:09Z', 'speedMPH': 46, 'milepostLocation': {'subdivisionId': 106, 'trackName': 'MT 1', 'milepost': {'milepostNumber': 316.3802}}}, {'positionTime': '2022-06-23T11:47:23Z', 'speedMPH': 47, 'milepostLocation': {'subdivisionId': 106, ...</td>\n",
              "      <td>[{'locomotiveId': 'UP9101', 'positionOnTrain': 1, 'locomotiveWeight': 213, 'locomotiveLength': 74, 'locomotiveHorsepower': 4300}, {'locomotiveId': 'UP2679', 'positionOnTrain': 2, 'locomotiveWeight': 216, 'locomotiveLength': 73, 'locomotiveHorsepower': 4300}, {'locomotiveId': 'UP8974', 'positionOnTrain': 3, 'locomotiveWeight': 213, 'locomotiveLength': 74, 'locomotiveHorsepower': 4300}]</td>\n",
              "      <td>[{'subdivisionId': 106}, {'subdivisionId': 203}, {'subdivisionId': 119}, {'subdivisionId': 200}, {'subdivisionId': 233}, {'subdivisionId': 225}, {'subdivisionId': 206}, {'subdivisionId': 204}]</td>\n",
              "      <td>...</td>\n",
              "      <td>True</td>\n",
              "      <td>NaN</td>\n",
              "      <td>202.20,258.40,321.50</td>\n",
              "      <td>3</td>\n",
              "    </tr>\n",
              "  </tbody>\n",
              "</table>\n",
              "<p>31810 rows × 41 columns</p>\n",
              "</div>\n",
              "      <button class=\"colab-df-convert\" onclick=\"convertToInteractive('df-074832c7-8977-49e9-8e06-2c8a9ec66b14')\"\n",
              "              title=\"Convert this dataframe to an interactive table.\"\n",
              "              style=\"display:none;\">\n",
              "        \n",
              "  <svg xmlns=\"http://www.w3.org/2000/svg\" height=\"24px\"viewBox=\"0 0 24 24\"\n",
              "       width=\"24px\">\n",
              "    <path d=\"M0 0h24v24H0V0z\" fill=\"none\"/>\n",
              "    <path d=\"M18.56 5.44l.94 2.06.94-2.06 2.06-.94-2.06-.94-.94-2.06-.94 2.06-2.06.94zm-11 1L8.5 8.5l.94-2.06 2.06-.94-2.06-.94L8.5 2.5l-.94 2.06-2.06.94zm10 10l.94 2.06.94-2.06 2.06-.94-2.06-.94-.94-2.06-.94 2.06-2.06.94z\"/><path d=\"M17.41 7.96l-1.37-1.37c-.4-.4-.92-.59-1.43-.59-.52 0-1.04.2-1.43.59L10.3 9.45l-7.72 7.72c-.78.78-.78 2.05 0 2.83L4 21.41c.39.39.9.59 1.41.59.51 0 1.02-.2 1.41-.59l7.78-7.78 2.81-2.81c.8-.78.8-2.07 0-2.86zM5.41 20L4 18.59l7.72-7.72 1.47 1.35L5.41 20z\"/>\n",
              "  </svg>\n",
              "      </button>\n",
              "      \n",
              "  <style>\n",
              "    .colab-df-container {\n",
              "      display:flex;\n",
              "      flex-wrap:wrap;\n",
              "      gap: 12px;\n",
              "    }\n",
              "\n",
              "    .colab-df-convert {\n",
              "      background-color: #E8F0FE;\n",
              "      border: none;\n",
              "      border-radius: 50%;\n",
              "      cursor: pointer;\n",
              "      display: none;\n",
              "      fill: #1967D2;\n",
              "      height: 32px;\n",
              "      padding: 0 0 0 0;\n",
              "      width: 32px;\n",
              "    }\n",
              "\n",
              "    .colab-df-convert:hover {\n",
              "      background-color: #E2EBFA;\n",
              "      box-shadow: 0px 1px 2px rgba(60, 64, 67, 0.3), 0px 1px 3px 1px rgba(60, 64, 67, 0.15);\n",
              "      fill: #174EA6;\n",
              "    }\n",
              "\n",
              "    [theme=dark] .colab-df-convert {\n",
              "      background-color: #3B4455;\n",
              "      fill: #D2E3FC;\n",
              "    }\n",
              "\n",
              "    [theme=dark] .colab-df-convert:hover {\n",
              "      background-color: #434B5C;\n",
              "      box-shadow: 0px 1px 3px 1px rgba(0, 0, 0, 0.15);\n",
              "      filter: drop-shadow(0px 1px 2px rgba(0, 0, 0, 0.3));\n",
              "      fill: #FFFFFF;\n",
              "    }\n",
              "  </style>\n",
              "\n",
              "      <script>\n",
              "        const buttonEl =\n",
              "          document.querySelector('#df-074832c7-8977-49e9-8e06-2c8a9ec66b14 button.colab-df-convert');\n",
              "        buttonEl.style.display =\n",
              "          google.colab.kernel.accessAllowed ? 'block' : 'none';\n",
              "\n",
              "        async function convertToInteractive(key) {\n",
              "          const element = document.querySelector('#df-074832c7-8977-49e9-8e06-2c8a9ec66b14');\n",
              "          const dataTable =\n",
              "            await google.colab.kernel.invokeFunction('convertToInteractive',\n",
              "                                                     [key], {});\n",
              "          if (!dataTable) return;\n",
              "\n",
              "          const docLinkHtml = 'Like what you see? Visit the ' +\n",
              "            '<a target=\"_blank\" href=https://colab.research.google.com/notebooks/data_table.ipynb>data table notebook</a>'\n",
              "            + ' to learn more about interactive tables.';\n",
              "          element.innerHTML = '';\n",
              "          dataTable['output_type'] = 'display_data';\n",
              "          await google.colab.output.renderOutput(dataTable, element);\n",
              "          const docLink = document.createElement('div');\n",
              "          docLink.innerHTML = docLinkHtml;\n",
              "          element.appendChild(docLink);\n",
              "        }\n",
              "      </script>\n",
              "    </div>\n",
              "  </div>\n",
              "  "
            ]
          },
          "metadata": {},
          "execution_count": 32
        }
      ]
    },
    {
      "cell_type": "code",
      "source": [
        "dfTrainsLearn['nextSpeed'] = dfTrainsLearn['lastReportedPosition.speedMPH']\n",
        "i = 0;\n",
        "for index, trainsEntry in dfTrainsLearn.iterrows():\n",
        "  actualsEntry = dfTrainsLearnActuals.iloc[i]\n",
        "  nextSpeed = findNextSpeed(trainsEntry, actualsEntry)\n",
        "  if (nextSpeed != None):\n",
        "    dfTrainsLearn.at[i,'nextSpeed'] = nextSpeed\n",
        "  if (i % 1000 == 0):\n",
        "    print(i)\n",
        "  i = i + 1"
      ],
      "metadata": {
        "id": "fG2U-anX-jbt",
        "outputId": "a42d4784-6989-4b6b-c026-204313820c67",
        "colab": {
          "base_uri": "https://localhost:8080/"
        }
      },
      "execution_count": 33,
      "outputs": [
        {
          "output_type": "stream",
          "name": "stdout",
          "text": [
            "0\n",
            "1000\n",
            "2000\n",
            "3000\n",
            "4000\n",
            "5000\n",
            "6000\n",
            "7000\n",
            "8000\n",
            "9000\n",
            "10000\n",
            "11000\n",
            "12000\n",
            "13000\n",
            "14000\n",
            "15000\n",
            "16000\n",
            "17000\n",
            "18000\n",
            "19000\n",
            "20000\n",
            "21000\n",
            "22000\n",
            "23000\n",
            "24000\n",
            "25000\n",
            "26000\n",
            "27000\n",
            "28000\n",
            "29000\n",
            "30000\n",
            "31000\n"
          ]
        }
      ]
    },
    {
      "cell_type": "code",
      "source": [
        "# dfTrainsLearn = dfTrainsLearn.drop(['hour'], axis=1)\n",
        "dfTrainsLearn['nextSpeed'].unique()"
      ],
      "metadata": {
        "id": "BpeBp1Jfu-Hj",
        "outputId": "b79833af-8527-4561-b24a-5498f53eb96a",
        "colab": {
          "base_uri": "https://localhost:8080/"
        }
      },
      "execution_count": 34,
      "outputs": [
        {
          "output_type": "execute_result",
          "data": {
            "text/plain": [
              "array([ -9, -10, -19,  -1,  -3,  -4,   0,   1,  -2,   4,   5, -14,  -8,  -6,   2,  13,  -5,   3,  14,  19,  17,  16, -20, -25, -30, -27,  18,  30,  33,  31,  21, -11,   9,  10, -15, -31, -34, -28,\n",
              "       -24, -12,  15,   7,   6,   8,  -7, -18, -13, -16, -22, -33, -35, -17,  25,  35,  26, -36, -48, -49, -43,  20,  11,  23, -29,  12, -23,  22,  38,  29,  28,  24,  27, -32, -26,  37, -39,  34,\n",
              "        36, -46, -45,  46,  44, -21,  40, -42,  43,  45, -55, -58, -40, -51, -38, -47, -37, -50, -63, -61, -54,  53,  52,  42,  39,  32,  48, -44, -41,  41,  61,  49, -57, -62, -53,  54,  57,  58,\n",
              "        50, -52, -59,  47, -68, -65,  65,  51,  56, -64, -66, -67, -60, -56,  64,  69,  59])"
            ]
          },
          "metadata": {},
          "execution_count": 34
        }
      ]
    },
    {
      "cell_type": "code",
      "source": [
        "dfTrainsLearn['nextSpeed'].hist(bins=140)"
      ],
      "metadata": {
        "id": "O6i4CKOVvQyD",
        "outputId": "33b0e3e5-0c47-4717-8e46-20a6eff92014",
        "colab": {
          "base_uri": "https://localhost:8080/",
          "height": 282
        }
      },
      "execution_count": 35,
      "outputs": [
        {
          "output_type": "execute_result",
          "data": {
            "text/plain": [
              "<matplotlib.axes._subplots.AxesSubplot at 0x7f491f6e1890>"
            ]
          },
          "metadata": {},
          "execution_count": 35
        },
        {
          "output_type": "display_data",
          "data": {
            "text/plain": [
              "<Figure size 432x288 with 1 Axes>"
            ],
            "image/png": "[encoded data removed]"
          },
          "metadata": {
            "needs_background": "light"
          }
        }
      ]
    },
    {
      "cell_type": "markdown",
      "source": [
        "Drop some values we are not using at the moment not needed"
      ],
      "metadata": {
        "id": "moXjNcMQu-3C"
      }
    },
    {
      "cell_type": "code",
      "source": [
        "dfTrainsLearn = dfTrainsLearn.drop(columns=['aotuTrainData.tenantCarrier',\n",
        "                                            # 'lastReportedPosition.precedingSignalState.currentStateTime', \n",
        "                                            # 'lastReportedPosition.nextSignalState.previousSignalState', \n",
        "                                            # 'lastReportedPosition.nextSignalState.currentStateTime', \n",
        "                                            'positionHistoryList',\n",
        "                                            'locomotiveList',\n",
        "                                            'subdivisionList',\n",
        "                                            'trainActualPositionList',\n",
        "                                            'trainEstimatedPositionList',\n",
        "                                            'aotuTrainData.routeLocationList'])"
      ],
      "metadata": {
        "id": "hBmsqv6IuVVO"
      },
      "execution_count": 37,
      "outputs": []
    },
    {
      "cell_type": "code",
      "source": [
        "tabular.core.make_date(dfTrainsLearn, 'trainId.trainDate')\n",
        "tabular.core.make_date(dfTrainsLearn, 'lastReportedPosition.positionTime')\n",
        "tabular.core.add_datepart(dfTrainsLearn, 'lastReportedPosition.positionTime')\n",
        "# tabular.core.add_elapsed_times(dfTrainsLearn, 'lastReportedPosition.positionTime')\n"
      ],
      "metadata": {
        "id": "DjTAxScsbHCN",
        "outputId": "8e89deca-9d44-4adb-d97d-37b7559bb474",
        "colab": {
          "base_uri": "https://localhost:8080/",
          "height": 487
        }
      },
      "execution_count": 38,
      "outputs": [
        {
          "output_type": "execute_result",
          "data": {
            "text/plain": [
              "      ptcLeadLocomotiveId trainId.trainSCAC trainId.trainSection  \\\n",
              "0                 AMTK206                UP                        \n",
              "1                 AMTK206                UP                        \n",
              "2                 AMTK206                UP                        \n",
              "3                 AMTK206                UP                        \n",
              "4                 AMTK206                UP                        \n",
              "...                   ...               ...                  ...   \n",
              "31805              UP9101                UP                        \n",
              "31806              UP9101                UP                        \n",
              "31807              UP9101                UP                        \n",
              "31808              UP9101                UP                        \n",
              "31809              UP9101                UP                        \n",
              "\n",
              "      trainId.trainSymbol  ...  \\\n",
              "0                    AMT1  ...   \n",
              "1                    AMT1  ...   \n",
              "2                    AMT1  ...   \n",
              "3                    AMT1  ...   \n",
              "4                    AMT1  ...   \n",
              "...                   ...  ...   \n",
              "31805               MCHCB  ...   \n",
              "31806               MCHCB  ...   \n",
              "31807               MCHCB  ...   \n",
              "31808               MCHCB  ...   \n",
              "31809               MCHCB  ...   \n",
              "\n",
              "      lastReportedPosition.positionTimeIs_quarter_start  \\\n",
              "0                                                 False   \n",
              "1                                                 False   \n",
              "2                                                 False   \n",
              "3                                                 False   \n",
              "4                                                 False   \n",
              "...                                                 ...   \n",
              "31805                                             False   \n",
              "31806                                             False   \n",
              "31807                                             False   \n",
              "31808                                             False   \n",
              "31809                                             False   \n",
              "\n",
              "       lastReportedPosition.positionTimeIs_year_end  \\\n",
              "0                                             False   \n",
              "1                                             False   \n",
              "2                                             False   \n",
              "3                                             False   \n",
              "4                                             False   \n",
              "...                                             ...   \n",
              "31805                                         False   \n",
              "31806                                         False   \n",
              "31807                                         False   \n",
              "31808                                         False   \n",
              "31809                                         False   \n",
              "\n",
              "       lastReportedPosition.positionTimeIs_year_start  \\\n",
              "0                                               False   \n",
              "1                                               False   \n",
              "2                                               False   \n",
              "3                                               False   \n",
              "4                                               False   \n",
              "...                                               ...   \n",
              "31805                                           False   \n",
              "31806                                           False   \n",
              "31807                                           False   \n",
              "31808                                           False   \n",
              "31809                                           False   \n",
              "\n",
              "      lastReportedPosition.positionTimeElapsed  \n",
              "0                                 1.656194e+09  \n",
              "1                                 1.656194e+09  \n",
              "2                                 1.656194e+09  \n",
              "3                                 1.656195e+09  \n",
              "4                                 1.656195e+09  \n",
              "...                                        ...  \n",
              "31805                             1.655985e+09  \n",
              "31806                             1.655985e+09  \n",
              "31807                             1.655985e+09  \n",
              "31808                             1.655985e+09  \n",
              "31809                             1.655985e+09  \n",
              "\n",
              "[31810 rows x 47 columns]"
            ],
            "text/html": [
              "\n",
              "  <div id=\"df-d46bb5bf-1bb0-4cf5-bc64-f41b0905fbc0\">\n",
              "    <div class=\"colab-df-container\">\n",
              "      <div>\n",
              "<style scoped>\n",
              "    .dataframe tbody tr th:only-of-type {\n",
              "        vertical-align: middle;\n",
              "    }\n",
              "\n",
              "    .dataframe tbody tr th {\n",
              "        vertical-align: top;\n",
              "    }\n",
              "\n",
              "    .dataframe thead th {\n",
              "        text-align: right;\n",
              "    }\n",
              "</style>\n",
              "<table border=\"1\" class=\"dataframe\">\n",
              "  <thead>\n",
              "    <tr style=\"text-align: right;\">\n",
              "      <th></th>\n",
              "      <th>ptcLeadLocomotiveId</th>\n",
              "      <th>trainId.trainSCAC</th>\n",
              "      <th>trainId.trainSection</th>\n",
              "      <th>trainId.trainSymbol</th>\n",
              "      <th>...</th>\n",
              "      <th>lastReportedPosition.positionTimeIs_quarter_start</th>\n",
              "      <th>lastReportedPosition.positionTimeIs_year_end</th>\n",
              "      <th>lastReportedPosition.positionTimeIs_year_start</th>\n",
              "      <th>lastReportedPosition.positionTimeElapsed</th>\n",
              "    </tr>\n",
              "  </thead>\n",
              "  <tbody>\n",
              "    <tr>\n",
              "      <th>0</th>\n",
              "      <td>AMTK206</td>\n",
              "      <td>UP</td>\n",
              "      <td></td>\n",
              "      <td>AMT1</td>\n",
              "      <td>...</td>\n",
              "      <td>False</td>\n",
              "      <td>False</td>\n",
              "      <td>False</td>\n",
              "      <td>1.656194e+09</td>\n",
              "    </tr>\n",
              "    <tr>\n",
              "      <th>1</th>\n",
              "      <td>AMTK206</td>\n",
              "      <td>UP</td>\n",
              "      <td></td>\n",
              "      <td>AMT1</td>\n",
              "      <td>...</td>\n",
              "      <td>False</td>\n",
              "      <td>False</td>\n",
              "      <td>False</td>\n",
              "      <td>1.656194e+09</td>\n",
              "    </tr>\n",
              "    <tr>\n",
              "      <th>2</th>\n",
              "      <td>AMTK206</td>\n",
              "      <td>UP</td>\n",
              "      <td></td>\n",
              "      <td>AMT1</td>\n",
              "      <td>...</td>\n",
              "      <td>False</td>\n",
              "      <td>False</td>\n",
              "      <td>False</td>\n",
              "      <td>1.656194e+09</td>\n",
              "    </tr>\n",
              "    <tr>\n",
              "      <th>3</th>\n",
              "      <td>AMTK206</td>\n",
              "      <td>UP</td>\n",
              "      <td></td>\n",
              "      <td>AMT1</td>\n",
              "      <td>...</td>\n",
              "      <td>False</td>\n",
              "      <td>False</td>\n",
              "      <td>False</td>\n",
              "      <td>1.656195e+09</td>\n",
              "    </tr>\n",
              "    <tr>\n",
              "      <th>4</th>\n",
              "      <td>AMTK206</td>\n",
              "      <td>UP</td>\n",
              "      <td></td>\n",
              "      <td>AMT1</td>\n",
              "      <td>...</td>\n",
              "      <td>False</td>\n",
              "      <td>False</td>\n",
              "      <td>False</td>\n",
              "      <td>1.656195e+09</td>\n",
              "    </tr>\n",
              "    <tr>\n",
              "      <th>...</th>\n",
              "      <td>...</td>\n",
              "      <td>...</td>\n",
              "      <td>...</td>\n",
              "      <td>...</td>\n",
              "      <td>...</td>\n",
              "      <td>...</td>\n",
              "      <td>...</td>\n",
              "      <td>...</td>\n",
              "      <td>...</td>\n",
              "    </tr>\n",
              "    <tr>\n",
              "      <th>31805</th>\n",
              "      <td>UP9101</td>\n",
              "      <td>UP</td>\n",
              "      <td></td>\n",
              "      <td>MCHCB</td>\n",
              "      <td>...</td>\n",
              "      <td>False</td>\n",
              "      <td>False</td>\n",
              "      <td>False</td>\n",
              "      <td>1.655985e+09</td>\n",
              "    </tr>\n",
              "    <tr>\n",
              "      <th>31806</th>\n",
              "      <td>UP9101</td>\n",
              "      <td>UP</td>\n",
              "      <td></td>\n",
              "      <td>MCHCB</td>\n",
              "      <td>...</td>\n",
              "      <td>False</td>\n",
              "      <td>False</td>\n",
              "      <td>False</td>\n",
              "      <td>1.655985e+09</td>\n",
              "    </tr>\n",
              "    <tr>\n",
              "      <th>31807</th>\n",
              "      <td>UP9101</td>\n",
              "      <td>UP</td>\n",
              "      <td></td>\n",
              "      <td>MCHCB</td>\n",
              "      <td>...</td>\n",
              "      <td>False</td>\n",
              "      <td>False</td>\n",
              "      <td>False</td>\n",
              "      <td>1.655985e+09</td>\n",
              "    </tr>\n",
              "    <tr>\n",
              "      <th>31808</th>\n",
              "      <td>UP9101</td>\n",
              "      <td>UP</td>\n",
              "      <td></td>\n",
              "      <td>MCHCB</td>\n",
              "      <td>...</td>\n",
              "      <td>False</td>\n",
              "      <td>False</td>\n",
              "      <td>False</td>\n",
              "      <td>1.655985e+09</td>\n",
              "    </tr>\n",
              "    <tr>\n",
              "      <th>31809</th>\n",
              "      <td>UP9101</td>\n",
              "      <td>UP</td>\n",
              "      <td></td>\n",
              "      <td>MCHCB</td>\n",
              "      <td>...</td>\n",
              "      <td>False</td>\n",
              "      <td>False</td>\n",
              "      <td>False</td>\n",
              "      <td>1.655985e+09</td>\n",
              "    </tr>\n",
              "  </tbody>\n",
              "</table>\n",
              "<p>31810 rows × 47 columns</p>\n",
              "</div>\n",
              "      <button class=\"colab-df-convert\" onclick=\"convertToInteractive('df-d46bb5bf-1bb0-4cf5-bc64-f41b0905fbc0')\"\n",
              "              title=\"Convert this dataframe to an interactive table.\"\n",
              "              style=\"display:none;\">\n",
              "        \n",
              "  <svg xmlns=\"http://www.w3.org/2000/svg\" height=\"24px\"viewBox=\"0 0 24 24\"\n",
              "       width=\"24px\">\n",
              "    <path d=\"M0 0h24v24H0V0z\" fill=\"none\"/>\n",
              "    <path d=\"M18.56 5.44l.94 2.06.94-2.06 2.06-.94-2.06-.94-.94-2.06-.94 2.06-2.06.94zm-11 1L8.5 8.5l.94-2.06 2.06-.94-2.06-.94L8.5 2.5l-.94 2.06-2.06.94zm10 10l.94 2.06.94-2.06 2.06-.94-2.06-.94-.94-2.06-.94 2.06-2.06.94z\"/><path d=\"M17.41 7.96l-1.37-1.37c-.4-.4-.92-.59-1.43-.59-.52 0-1.04.2-1.43.59L10.3 9.45l-7.72 7.72c-.78.78-.78 2.05 0 2.83L4 21.41c.39.39.9.59 1.41.59.51 0 1.02-.2 1.41-.59l7.78-7.78 2.81-2.81c.8-.78.8-2.07 0-2.86zM5.41 20L4 18.59l7.72-7.72 1.47 1.35L5.41 20z\"/>\n",
              "  </svg>\n",
              "      </button>\n",
              "      \n",
              "  <style>\n",
              "    .colab-df-container {\n",
              "      display:flex;\n",
              "      flex-wrap:wrap;\n",
              "      gap: 12px;\n",
              "    }\n",
              "\n",
              "    .colab-df-convert {\n",
              "      background-color: #E8F0FE;\n",
              "      border: none;\n",
              "      border-radius: 50%;\n",
              "      cursor: pointer;\n",
              "      display: none;\n",
              "      fill: #1967D2;\n",
              "      height: 32px;\n",
              "      padding: 0 0 0 0;\n",
              "      width: 32px;\n",
              "    }\n",
              "\n",
              "    .colab-df-convert:hover {\n",
              "      background-color: #E2EBFA;\n",
              "      box-shadow: 0px 1px 2px rgba(60, 64, 67, 0.3), 0px 1px 3px 1px rgba(60, 64, 67, 0.15);\n",
              "      fill: #174EA6;\n",
              "    }\n",
              "\n",
              "    [theme=dark] .colab-df-convert {\n",
              "      background-color: #3B4455;\n",
              "      fill: #D2E3FC;\n",
              "    }\n",
              "\n",
              "    [theme=dark] .colab-df-convert:hover {\n",
              "      background-color: #434B5C;\n",
              "      box-shadow: 0px 1px 3px 1px rgba(0, 0, 0, 0.15);\n",
              "      filter: drop-shadow(0px 1px 2px rgba(0, 0, 0, 0.3));\n",
              "      fill: #FFFFFF;\n",
              "    }\n",
              "  </style>\n",
              "\n",
              "      <script>\n",
              "        const buttonEl =\n",
              "          document.querySelector('#df-d46bb5bf-1bb0-4cf5-bc64-f41b0905fbc0 button.colab-df-convert');\n",
              "        buttonEl.style.display =\n",
              "          google.colab.kernel.accessAllowed ? 'block' : 'none';\n",
              "\n",
              "        async function convertToInteractive(key) {\n",
              "          const element = document.querySelector('#df-d46bb5bf-1bb0-4cf5-bc64-f41b0905fbc0');\n",
              "          const dataTable =\n",
              "            await google.colab.kernel.invokeFunction('convertToInteractive',\n",
              "                                                     [key], {});\n",
              "          if (!dataTable) return;\n",
              "\n",
              "          const docLinkHtml = 'Like what you see? Visit the ' +\n",
              "            '<a target=\"_blank\" href=https://colab.research.google.com/notebooks/data_table.ipynb>data table notebook</a>'\n",
              "            + ' to learn more about interactive tables.';\n",
              "          element.innerHTML = '';\n",
              "          dataTable['output_type'] = 'display_data';\n",
              "          await google.colab.output.renderOutput(dataTable, element);\n",
              "          const docLink = document.createElement('div');\n",
              "          docLink.innerHTML = docLinkHtml;\n",
              "          element.appendChild(docLink);\n",
              "        }\n",
              "      </script>\n",
              "    </div>\n",
              "  </div>\n",
              "  "
            ]
          },
          "metadata": {},
          "execution_count": 38
        }
      ]
    },
    {
      "cell_type": "code",
      "source": [
        "print(dfTrainsLearn.shape)\n",
        "print(dfTrainsLearnActuals.shape)\n",
        "\n",
        "print(dfTrainsLearn.info())\n",
        "print(dfTrainsLearn.iloc[100])"
      ],
      "metadata": {
        "id": "jTVXPBSQ2gp3",
        "outputId": "f0af090b-8fc0-4ce3-cd2c-4886fa04ddc6",
        "colab": {
          "base_uri": "https://localhost:8080/"
        }
      },
      "execution_count": 39,
      "outputs": [
        {
          "output_type": "stream",
          "name": "stdout",
          "text": [
            "(31810, 47)\n",
            "(31810,)\n",
            "<class 'pandas.core.frame.DataFrame'>\n",
            "Int64Index: 31810 entries, 0 to 31809\n",
            "Data columns (total 47 columns):\n",
            " #   Column                                                         Non-Null Count  Dtype         \n",
            "---  ------                                                         --------------  -----         \n",
            " 0   ptcLeadLocomotiveId                                            31810 non-null  object        \n",
            " 1   trainId.trainSCAC                                              31810 non-null  object        \n",
            " 2   trainId.trainSection                                           31810 non-null  object        \n",
            " 3   trainId.trainSymbol                                            31810 non-null  object        \n",
            " 4   trainId.trainDate                                              31810 non-null  datetime64[ns]\n",
            " 5   lastReportedPosition.speedMPH                                  31810 non-null  int64         \n",
            " 6   lastReportedPosition.milepostLocation.subdivisionId            31810 non-null  int64         \n",
            " 7   lastReportedPosition.milepostLocation.trackName                30719 non-null  category      \n",
            " 8   lastReportedPosition.milepostLocation.milepost.milepostNumber  31810 non-null  float64       \n",
            " 9   aotuTrainData.priorityCode                                     31810 non-null  float64       \n",
            " 10  aotuTrainData.categoryCode                                     31810 non-null  float64       \n",
            " 11  aotuTrainData.authorityRangeCode                               31810 non-null  float64       \n",
            " 12  aotuTrainData.ownershipCode                                    31810 non-null  float64       \n",
            " 13  aotuTrainData.totalCarWeight                                   31810 non-null  float64       \n",
            " 14  aotuTrainData.totalCarLength                                   31810 non-null  float64       \n",
            " 15  aotuTrainData.totalLocomotiveWeight                            31810 non-null  float64       \n",
            " 16  aotuTrainData.totalLocomotiveLength                            31810 non-null  float64       \n",
            " 17  aotuTrainData.actualTonsPerAxle                                31810 non-null  float64       \n",
            " 18  aotuTrainData.heavy143TonCarCount                              31810 non-null  float64       \n",
            " 19  aotuTrainData.heavy158TonCarCount                              31810 non-null  float64       \n",
            " 20  aotuTrainData.over158TonCarCount                               31810 non-null  float64       \n",
            " 21  aotuTrainData.highWideCarCount                                 31810 non-null  float64       \n",
            " 22  aotuTrainData.eventCode                                        31810 non-null  float64       \n",
            " 23  maximumTrainSpeed                                              31810 non-null  float64       \n",
            " 24  loadedCarCount                                                 31810 non-null  float64       \n",
            " 25  emptyCarCount                                                  31810 non-null  float64       \n",
            " 26  trainLength                                                    31810 non-null  float64       \n",
            " 27  trailingTonnage                                                31810 non-null  float64       \n",
            " 28  milepost                                                       31810 non-null  int64         \n",
            " 29  mpIncr                                                         31810 non-null  bool          \n",
            " 30  symbolType                                                     0 non-null      category      \n",
            " 31  workLocations                                                  28068 non-null  object        \n",
            " 32  locomotiveCount                                                31810 non-null  int64         \n",
            " 33  nextSpeed                                                      31810 non-null  int64         \n",
            " 34  lastReportedPosition.positionTimeYear                          31810 non-null  int64         \n",
            " 35  lastReportedPosition.positionTimeMonth                         31810 non-null  int64         \n",
            " 36  lastReportedPosition.positionTimeWeek                          31810 non-null  int64         \n",
            " 37  lastReportedPosition.positionTimeDay                           31810 non-null  int64         \n",
            " 38  lastReportedPosition.positionTimeDayofweek                     31810 non-null  int64         \n",
            " 39  lastReportedPosition.positionTimeDayofyear                     31810 non-null  int64         \n",
            " 40  lastReportedPosition.positionTimeIs_month_end                  31810 non-null  bool          \n",
            " 41  lastReportedPosition.positionTimeIs_month_start                31810 non-null  bool          \n",
            " 42  lastReportedPosition.positionTimeIs_quarter_end                31810 non-null  bool          \n",
            " 43  lastReportedPosition.positionTimeIs_quarter_start              31810 non-null  bool          \n",
            " 44  lastReportedPosition.positionTimeIs_year_end                   31810 non-null  bool          \n",
            " 45  lastReportedPosition.positionTimeIs_year_start                 31810 non-null  bool          \n",
            " 46  lastReportedPosition.positionTimeElapsed                       31810 non-null  float64       \n",
            "dtypes: bool(7), category(2), datetime64[ns](1), float64(21), int64(11), object(5)\n",
            "memory usage: 10.7+ MB\n",
            "None\n",
            "ptcLeadLocomotiveId                                             BNSF5833\n",
            "trainId.trainSCAC                                                     UP\n",
            "trainId.trainSection                                                    \n",
            "trainId.trainSymbol                                                MNOEW\n",
            "trainId.trainDate                                    2022-06-19 00:00:00\n",
            "                                                            ...         \n",
            "lastReportedPosition.positionTimeIs_quarter_end                    False\n",
            "lastReportedPosition.positionTimeIs_quarter_start                  False\n",
            "lastReportedPosition.positionTimeIs_year_end                       False\n",
            "lastReportedPosition.positionTimeIs_year_start                     False\n",
            "lastReportedPosition.positionTimeElapsed                    1655770018.0\n",
            "Name: 100, Length: 47, dtype: object\n"
          ]
        }
      ]
    },
    {
      "cell_type": "markdown",
      "source": [
        "# Use Decision Tree to predict speed in 1 mile"
      ],
      "metadata": {
        "id": "mg1p1vouBeIB"
      }
    },
    {
      "cell_type": "code",
      "source": [
        "procs = [tabular.core.Categorify, tabular.core.FillMissing]"
      ],
      "metadata": {
        "id": "F9TApkZWbAbz"
      },
      "execution_count": 40,
      "outputs": []
    },
    {
      "cell_type": "code",
      "source": [
        "print (dfTrainsLearn.groupby(['lastReportedPosition.positionTimeDayofyear'])['lastReportedPosition.positionTimeDayofyear'].count())\n"
      ],
      "metadata": {
        "id": "gDgYzofcvcpM",
        "outputId": "758d829e-8cee-4cc1-93b9-57a124cbfcf2",
        "colab": {
          "base_uri": "https://localhost:8080/"
        }
      },
      "execution_count": 41,
      "outputs": [
        {
          "output_type": "stream",
          "name": "stdout",
          "text": [
            "lastReportedPosition.positionTimeDayofyear\n",
            "171    3951\n",
            "172    4255\n",
            "173    4175\n",
            "174    5299\n",
            "175    4704\n",
            "176    4348\n",
            "177    4593\n",
            "178     485\n",
            "Name: lastReportedPosition.positionTimeDayofyear, dtype: int64\n"
          ]
        }
      ]
    },
    {
      "cell_type": "code",
      "source": [
        "cond = ( dfTrainsLearn['lastReportedPosition.positionTimeDayofyear'] < 176 )\n",
        "trainIdx = np.where(cond)[0]\n",
        "validIdx = np.where(~cond)[0]\n",
        "splits = (list(trainIdx), list(validIdx))"
      ],
      "metadata": {
        "id": "nIURJVe5vc_n"
      },
      "execution_count": 42,
      "outputs": []
    },
    {
      "cell_type": "code",
      "source": [
        "dep_var = 'nextSpeed'"
      ],
      "metadata": {
        "id": "rPW42wgnOLO_"
      },
      "execution_count": 43,
      "outputs": []
    },
    {
      "cell_type": "code",
      "source": [
        "cont,cat = tabular.core.cont_cat_split(dfTrainsLearn, 1, dep_var=dep_var)"
      ],
      "metadata": {
        "id": "gHDAeThzyzc6"
      },
      "execution_count": 44,
      "outputs": []
    },
    {
      "cell_type": "code",
      "source": [
        "to = tabular.core.TabularPandas(dfTrainsLearn, procs, cat, cont, y_names=dep_var, splits=splits)"
      ],
      "metadata": {
        "id": "xz1ZonvnO-I7"
      },
      "execution_count": 45,
      "outputs": []
    },
    {
      "cell_type": "code",
      "source": [
        "len(to.train),len(to.valid)"
      ],
      "metadata": {
        "id": "0DJly6_Z94uI",
        "outputId": "f817c716-1ffc-419e-c38b-52bcae574758",
        "colab": {
          "base_uri": "https://localhost:8080/"
        }
      },
      "execution_count": 46,
      "outputs": [
        {
          "output_type": "execute_result",
          "data": {
            "text/plain": [
              "(22384, 9426)"
            ]
          },
          "metadata": {},
          "execution_count": 46
        }
      ]
    },
    {
      "cell_type": "code",
      "source": [
        "to.show()"
      ],
      "metadata": {
        "id": "xoEQAME4-n0M",
        "outputId": "c133a049-291e-4784-fc84-8db07a0e2f2e",
        "colab": {
          "base_uri": "https://localhost:8080/",
          "height": 383
        }
      },
      "execution_count": 47,
      "outputs": [
        {
          "output_type": "display_data",
          "data": {
            "text/plain": [
              "<IPython.core.display.HTML object>"
            ],
            "text/html": [
              "<table border=\"1\" class=\"dataframe\">\n",
              "  <thead>\n",
              "    <tr style=\"text-align: right;\">\n",
              "      <th></th>\n",
              "      <th>ptcLeadLocomotiveId</th>\n",
              "      <th>trainId.trainSCAC</th>\n",
              "      <th>trainId.trainSection</th>\n",
              "      <th>trainId.trainSymbol</th>\n",
              "      <th>trainId.trainDate</th>\n",
              "      <th>lastReportedPosition.milepostLocation.subdivisionId</th>\n",
              "      <th>lastReportedPosition.milepostLocation.trackName</th>\n",
              "      <th>mpIncr</th>\n",
              "      <th>symbolType</th>\n",
              "      <th>workLocations</th>\n",
              "      <th>lastReportedPosition.positionTimeYear</th>\n",
              "      <th>lastReportedPosition.positionTimeMonth</th>\n",
              "      <th>lastReportedPosition.positionTimeIs_month_end</th>\n",
              "      <th>lastReportedPosition.positionTimeIs_month_start</th>\n",
              "      <th>lastReportedPosition.positionTimeIs_quarter_end</th>\n",
              "      <th>lastReportedPosition.positionTimeIs_quarter_start</th>\n",
              "      <th>lastReportedPosition.positionTimeIs_year_end</th>\n",
              "      <th>lastReportedPosition.positionTimeIs_year_start</th>\n",
              "      <th>lastReportedPosition.speedMPH</th>\n",
              "      <th>lastReportedPosition.milepostLocation.milepost.milepostNumber</th>\n",
              "      <th>aotuTrainData.priorityCode</th>\n",
              "      <th>aotuTrainData.categoryCode</th>\n",
              "      <th>aotuTrainData.authorityRangeCode</th>\n",
              "      <th>aotuTrainData.ownershipCode</th>\n",
              "      <th>aotuTrainData.totalCarWeight</th>\n",
              "      <th>aotuTrainData.totalCarLength</th>\n",
              "      <th>aotuTrainData.totalLocomotiveWeight</th>\n",
              "      <th>aotuTrainData.totalLocomotiveLength</th>\n",
              "      <th>aotuTrainData.actualTonsPerAxle</th>\n",
              "      <th>aotuTrainData.heavy143TonCarCount</th>\n",
              "      <th>aotuTrainData.heavy158TonCarCount</th>\n",
              "      <th>aotuTrainData.over158TonCarCount</th>\n",
              "      <th>aotuTrainData.highWideCarCount</th>\n",
              "      <th>aotuTrainData.eventCode</th>\n",
              "      <th>maximumTrainSpeed</th>\n",
              "      <th>loadedCarCount</th>\n",
              "      <th>emptyCarCount</th>\n",
              "      <th>trainLength</th>\n",
              "      <th>trailingTonnage</th>\n",
              "      <th>milepost</th>\n",
              "      <th>locomotiveCount</th>\n",
              "      <th>lastReportedPosition.positionTimeWeek</th>\n",
              "      <th>lastReportedPosition.positionTimeDay</th>\n",
              "      <th>lastReportedPosition.positionTimeDayofweek</th>\n",
              "      <th>lastReportedPosition.positionTimeDayofyear</th>\n",
              "      <th>lastReportedPosition.positionTimeElapsed</th>\n",
              "      <th>nextSpeed</th>\n",
              "    </tr>\n",
              "  </thead>\n",
              "  <tbody>\n",
              "    <tr>\n",
              "      <th>5</th>\n",
              "      <td>BNSF3185</td>\n",
              "      <td>UP</td>\n",
              "      <td></td>\n",
              "      <td>QNSIJJ</td>\n",
              "      <td>2022-06-21</td>\n",
              "      <td>106</td>\n",
              "      <td>WEST MAIN</td>\n",
              "      <td>False</td>\n",
              "      <td>#na#</td>\n",
              "      <td>#na#</td>\n",
              "      <td>2022</td>\n",
              "      <td>6</td>\n",
              "      <td>False</td>\n",
              "      <td>False</td>\n",
              "      <td>False</td>\n",
              "      <td>False</td>\n",
              "      <td>False</td>\n",
              "      <td>False</td>\n",
              "      <td>10</td>\n",
              "      <td>766.930603</td>\n",
              "      <td>2.0</td>\n",
              "      <td>12.0</td>\n",
              "      <td>2.0</td>\n",
              "      <td>3.0</td>\n",
              "      <td>125003368.0</td>\n",
              "      <td>630310.0</td>\n",
              "      <td>6916630.0</td>\n",
              "      <td>16010.0</td>\n",
              "      <td>65535.0</td>\n",
              "      <td>0.0</td>\n",
              "      <td>0.0</td>\n",
              "      <td>0.0</td>\n",
              "      <td>0.0</td>\n",
              "      <td>0.0</td>\n",
              "      <td>88.0</td>\n",
              "      <td>999.0</td>\n",
              "      <td>999.0</td>\n",
              "      <td>99999.0</td>\n",
              "      <td>99999.0</td>\n",
              "      <td>766</td>\n",
              "      <td>0</td>\n",
              "      <td>25</td>\n",
              "      <td>23</td>\n",
              "      <td>3</td>\n",
              "      <td>174</td>\n",
              "      <td>1.655972e+09</td>\n",
              "      <td>-1</td>\n",
              "    </tr>\n",
              "    <tr>\n",
              "      <th>9</th>\n",
              "      <td>BNSF3907</td>\n",
              "      <td>UP</td>\n",
              "      <td></td>\n",
              "      <td>QIJDYJ</td>\n",
              "      <td>2022-06-21</td>\n",
              "      <td>106</td>\n",
              "      <td>TO_S_UP_MAINLINE</td>\n",
              "      <td>True</td>\n",
              "      <td>#na#</td>\n",
              "      <td>#na#</td>\n",
              "      <td>2022</td>\n",
              "      <td>6</td>\n",
              "      <td>False</td>\n",
              "      <td>False</td>\n",
              "      <td>False</td>\n",
              "      <td>False</td>\n",
              "      <td>False</td>\n",
              "      <td>False</td>\n",
              "      <td>6</td>\n",
              "      <td>764.868286</td>\n",
              "      <td>2.0</td>\n",
              "      <td>12.0</td>\n",
              "      <td>2.0</td>\n",
              "      <td>3.0</td>\n",
              "      <td>102760000.0</td>\n",
              "      <td>505500.0</td>\n",
              "      <td>4275000.0</td>\n",
              "      <td>8940.0</td>\n",
              "      <td>65535.0</td>\n",
              "      <td>0.0</td>\n",
              "      <td>0.0</td>\n",
              "      <td>0.0</td>\n",
              "      <td>0.0</td>\n",
              "      <td>0.0</td>\n",
              "      <td>88.0</td>\n",
              "      <td>999.0</td>\n",
              "      <td>999.0</td>\n",
              "      <td>99999.0</td>\n",
              "      <td>99999.0</td>\n",
              "      <td>764</td>\n",
              "      <td>0</td>\n",
              "      <td>25</td>\n",
              "      <td>23</td>\n",
              "      <td>3</td>\n",
              "      <td>174</td>\n",
              "      <td>1.655957e+09</td>\n",
              "      <td>0</td>\n",
              "    </tr>\n",
              "    <tr>\n",
              "      <th>10</th>\n",
              "      <td>BNSF3907</td>\n",
              "      <td>UP</td>\n",
              "      <td></td>\n",
              "      <td>QIJDYJ</td>\n",
              "      <td>2022-06-21</td>\n",
              "      <td>106</td>\n",
              "      <td>MAIN</td>\n",
              "      <td>True</td>\n",
              "      <td>#na#</td>\n",
              "      <td>#na#</td>\n",
              "      <td>2022</td>\n",
              "      <td>6</td>\n",
              "      <td>False</td>\n",
              "      <td>False</td>\n",
              "      <td>False</td>\n",
              "      <td>False</td>\n",
              "      <td>False</td>\n",
              "      <td>False</td>\n",
              "      <td>6</td>\n",
              "      <td>764.930298</td>\n",
              "      <td>2.0</td>\n",
              "      <td>12.0</td>\n",
              "      <td>2.0</td>\n",
              "      <td>3.0</td>\n",
              "      <td>102760000.0</td>\n",
              "      <td>505500.0</td>\n",
              "      <td>4275000.0</td>\n",
              "      <td>8940.0</td>\n",
              "      <td>65535.0</td>\n",
              "      <td>0.0</td>\n",
              "      <td>0.0</td>\n",
              "      <td>0.0</td>\n",
              "      <td>0.0</td>\n",
              "      <td>0.0</td>\n",
              "      <td>88.0</td>\n",
              "      <td>999.0</td>\n",
              "      <td>999.0</td>\n",
              "      <td>99999.0</td>\n",
              "      <td>99999.0</td>\n",
              "      <td>764</td>\n",
              "      <td>0</td>\n",
              "      <td>25</td>\n",
              "      <td>23</td>\n",
              "      <td>3</td>\n",
              "      <td>174</td>\n",
              "      <td>1.655957e+09</td>\n",
              "      <td>0</td>\n",
              "    </tr>\n",
              "    <tr>\n",
              "      <th>11</th>\n",
              "      <td>BNSF3907</td>\n",
              "      <td>UP</td>\n",
              "      <td></td>\n",
              "      <td>QIJDYJ</td>\n",
              "      <td>2022-06-21</td>\n",
              "      <td>106</td>\n",
              "      <td>MAIN</td>\n",
              "      <td>True</td>\n",
              "      <td>#na#</td>\n",
              "      <td>#na#</td>\n",
              "      <td>2022</td>\n",
              "      <td>6</td>\n",
              "      <td>False</td>\n",
              "      <td>False</td>\n",
              "      <td>False</td>\n",
              "      <td>False</td>\n",
              "      <td>False</td>\n",
              "      <td>False</td>\n",
              "      <td>5</td>\n",
              "      <td>764.986816</td>\n",
              "      <td>2.0</td>\n",
              "      <td>12.0</td>\n",
              "      <td>2.0</td>\n",
              "      <td>3.0</td>\n",
              "      <td>102760000.0</td>\n",
              "      <td>505500.0</td>\n",
              "      <td>4275000.0</td>\n",
              "      <td>8940.0</td>\n",
              "      <td>65535.0</td>\n",
              "      <td>0.0</td>\n",
              "      <td>0.0</td>\n",
              "      <td>0.0</td>\n",
              "      <td>0.0</td>\n",
              "      <td>0.0</td>\n",
              "      <td>88.0</td>\n",
              "      <td>999.0</td>\n",
              "      <td>999.0</td>\n",
              "      <td>99999.0</td>\n",
              "      <td>99999.0</td>\n",
              "      <td>764</td>\n",
              "      <td>0</td>\n",
              "      <td>25</td>\n",
              "      <td>23</td>\n",
              "      <td>3</td>\n",
              "      <td>174</td>\n",
              "      <td>1.655957e+09</td>\n",
              "      <td>1</td>\n",
              "    </tr>\n",
              "    <tr>\n",
              "      <th>12</th>\n",
              "      <td>BNSF3907</td>\n",
              "      <td>UP</td>\n",
              "      <td></td>\n",
              "      <td>QIJDYJ</td>\n",
              "      <td>2022-06-21</td>\n",
              "      <td>106</td>\n",
              "      <td>MAIN</td>\n",
              "      <td>True</td>\n",
              "      <td>#na#</td>\n",
              "      <td>#na#</td>\n",
              "      <td>2022</td>\n",
              "      <td>6</td>\n",
              "      <td>False</td>\n",
              "      <td>False</td>\n",
              "      <td>False</td>\n",
              "      <td>False</td>\n",
              "      <td>False</td>\n",
              "      <td>False</td>\n",
              "      <td>6</td>\n",
              "      <td>765.284424</td>\n",
              "      <td>2.0</td>\n",
              "      <td>12.0</td>\n",
              "      <td>2.0</td>\n",
              "      <td>3.0</td>\n",
              "      <td>102760000.0</td>\n",
              "      <td>505500.0</td>\n",
              "      <td>4275000.0</td>\n",
              "      <td>8940.0</td>\n",
              "      <td>65535.0</td>\n",
              "      <td>0.0</td>\n",
              "      <td>0.0</td>\n",
              "      <td>0.0</td>\n",
              "      <td>0.0</td>\n",
              "      <td>0.0</td>\n",
              "      <td>88.0</td>\n",
              "      <td>999.0</td>\n",
              "      <td>999.0</td>\n",
              "      <td>99999.0</td>\n",
              "      <td>99999.0</td>\n",
              "      <td>765</td>\n",
              "      <td>0</td>\n",
              "      <td>25</td>\n",
              "      <td>23</td>\n",
              "      <td>3</td>\n",
              "      <td>174</td>\n",
              "      <td>1.655957e+09</td>\n",
              "      <td>-1</td>\n",
              "    </tr>\n",
              "    <tr>\n",
              "      <th>13</th>\n",
              "      <td>BNSF3907</td>\n",
              "      <td>UP</td>\n",
              "      <td></td>\n",
              "      <td>QIJDYJ</td>\n",
              "      <td>2022-06-21</td>\n",
              "      <td>106</td>\n",
              "      <td>MAIN</td>\n",
              "      <td>True</td>\n",
              "      <td>#na#</td>\n",
              "      <td>#na#</td>\n",
              "      <td>2022</td>\n",
              "      <td>6</td>\n",
              "      <td>False</td>\n",
              "      <td>False</td>\n",
              "      <td>False</td>\n",
              "      <td>False</td>\n",
              "      <td>False</td>\n",
              "      <td>False</td>\n",
              "      <td>6</td>\n",
              "      <td>765.684998</td>\n",
              "      <td>2.0</td>\n",
              "      <td>12.0</td>\n",
              "      <td>2.0</td>\n",
              "      <td>3.0</td>\n",
              "      <td>102760000.0</td>\n",
              "      <td>505500.0</td>\n",
              "      <td>4275000.0</td>\n",
              "      <td>8940.0</td>\n",
              "      <td>65535.0</td>\n",
              "      <td>0.0</td>\n",
              "      <td>0.0</td>\n",
              "      <td>0.0</td>\n",
              "      <td>0.0</td>\n",
              "      <td>0.0</td>\n",
              "      <td>88.0</td>\n",
              "      <td>999.0</td>\n",
              "      <td>999.0</td>\n",
              "      <td>99999.0</td>\n",
              "      <td>99999.0</td>\n",
              "      <td>765</td>\n",
              "      <td>0</td>\n",
              "      <td>25</td>\n",
              "      <td>23</td>\n",
              "      <td>3</td>\n",
              "      <td>174</td>\n",
              "      <td>1.655957e+09</td>\n",
              "      <td>-2</td>\n",
              "    </tr>\n",
              "    <tr>\n",
              "      <th>14</th>\n",
              "      <td>BNSF3935</td>\n",
              "      <td>UP</td>\n",
              "      <td></td>\n",
              "      <td>QIJNSJ</td>\n",
              "      <td>2022-06-21</td>\n",
              "      <td>106</td>\n",
              "      <td>MAIN</td>\n",
              "      <td>True</td>\n",
              "      <td>#na#</td>\n",
              "      <td>#na#</td>\n",
              "      <td>2022</td>\n",
              "      <td>6</td>\n",
              "      <td>False</td>\n",
              "      <td>False</td>\n",
              "      <td>False</td>\n",
              "      <td>False</td>\n",
              "      <td>False</td>\n",
              "      <td>False</td>\n",
              "      <td>9</td>\n",
              "      <td>764.987183</td>\n",
              "      <td>2.0</td>\n",
              "      <td>12.0</td>\n",
              "      <td>2.0</td>\n",
              "      <td>3.0</td>\n",
              "      <td>0.0</td>\n",
              "      <td>0.0</td>\n",
              "      <td>8475000.0</td>\n",
              "      <td>17720.0</td>\n",
              "      <td>65535.0</td>\n",
              "      <td>0.0</td>\n",
              "      <td>0.0</td>\n",
              "      <td>0.0</td>\n",
              "      <td>0.0</td>\n",
              "      <td>0.0</td>\n",
              "      <td>88.0</td>\n",
              "      <td>999.0</td>\n",
              "      <td>999.0</td>\n",
              "      <td>99999.0</td>\n",
              "      <td>99999.0</td>\n",
              "      <td>764</td>\n",
              "      <td>0</td>\n",
              "      <td>25</td>\n",
              "      <td>22</td>\n",
              "      <td>2</td>\n",
              "      <td>173</td>\n",
              "      <td>1.655893e+09</td>\n",
              "      <td>4</td>\n",
              "    </tr>\n",
              "    <tr>\n",
              "      <th>15</th>\n",
              "      <td>BNSF4554</td>\n",
              "      <td>UP</td>\n",
              "      <td></td>\n",
              "      <td>QIJBLJ</td>\n",
              "      <td>2022-06-19</td>\n",
              "      <td>106</td>\n",
              "      <td>TO_S_UP_MAINLINE</td>\n",
              "      <td>True</td>\n",
              "      <td>#na#</td>\n",
              "      <td>#na#</td>\n",
              "      <td>2022</td>\n",
              "      <td>6</td>\n",
              "      <td>False</td>\n",
              "      <td>False</td>\n",
              "      <td>False</td>\n",
              "      <td>False</td>\n",
              "      <td>False</td>\n",
              "      <td>False</td>\n",
              "      <td>10</td>\n",
              "      <td>764.870178</td>\n",
              "      <td>2.0</td>\n",
              "      <td>12.0</td>\n",
              "      <td>2.0</td>\n",
              "      <td>3.0</td>\n",
              "      <td>175060000.0</td>\n",
              "      <td>759960.0</td>\n",
              "      <td>8400000.0</td>\n",
              "      <td>17560.0</td>\n",
              "      <td>65535.0</td>\n",
              "      <td>0.0</td>\n",
              "      <td>0.0</td>\n",
              "      <td>0.0</td>\n",
              "      <td>0.0</td>\n",
              "      <td>0.0</td>\n",
              "      <td>88.0</td>\n",
              "      <td>999.0</td>\n",
              "      <td>999.0</td>\n",
              "      <td>99999.0</td>\n",
              "      <td>99999.0</td>\n",
              "      <td>764</td>\n",
              "      <td>0</td>\n",
              "      <td>25</td>\n",
              "      <td>20</td>\n",
              "      <td>0</td>\n",
              "      <td>171</td>\n",
              "      <td>1.655701e+09</td>\n",
              "      <td>4</td>\n",
              "    </tr>\n",
              "    <tr>\n",
              "      <th>16</th>\n",
              "      <td>BNSF4554</td>\n",
              "      <td>UP</td>\n",
              "      <td></td>\n",
              "      <td>QIJBLJ</td>\n",
              "      <td>2022-06-19</td>\n",
              "      <td>106</td>\n",
              "      <td>MAIN</td>\n",
              "      <td>True</td>\n",
              "      <td>#na#</td>\n",
              "      <td>#na#</td>\n",
              "      <td>2022</td>\n",
              "      <td>6</td>\n",
              "      <td>False</td>\n",
              "      <td>False</td>\n",
              "      <td>False</td>\n",
              "      <td>False</td>\n",
              "      <td>False</td>\n",
              "      <td>False</td>\n",
              "      <td>9</td>\n",
              "      <td>764.988525</td>\n",
              "      <td>2.0</td>\n",
              "      <td>12.0</td>\n",
              "      <td>2.0</td>\n",
              "      <td>3.0</td>\n",
              "      <td>175060000.0</td>\n",
              "      <td>759960.0</td>\n",
              "      <td>8400000.0</td>\n",
              "      <td>17560.0</td>\n",
              "      <td>65535.0</td>\n",
              "      <td>0.0</td>\n",
              "      <td>0.0</td>\n",
              "      <td>0.0</td>\n",
              "      <td>0.0</td>\n",
              "      <td>0.0</td>\n",
              "      <td>88.0</td>\n",
              "      <td>999.0</td>\n",
              "      <td>999.0</td>\n",
              "      <td>99999.0</td>\n",
              "      <td>99999.0</td>\n",
              "      <td>764</td>\n",
              "      <td>0</td>\n",
              "      <td>25</td>\n",
              "      <td>20</td>\n",
              "      <td>0</td>\n",
              "      <td>171</td>\n",
              "      <td>1.655701e+09</td>\n",
              "      <td>5</td>\n",
              "    </tr>\n",
              "    <tr>\n",
              "      <th>17</th>\n",
              "      <td>BNSF5040</td>\n",
              "      <td>UP</td>\n",
              "      <td></td>\n",
              "      <td>QDYIJJ</td>\n",
              "      <td>2022-06-22</td>\n",
              "      <td>106</td>\n",
              "      <td>EAST MAIN</td>\n",
              "      <td>False</td>\n",
              "      <td>#na#</td>\n",
              "      <td>#na#</td>\n",
              "      <td>2022</td>\n",
              "      <td>6</td>\n",
              "      <td>False</td>\n",
              "      <td>False</td>\n",
              "      <td>False</td>\n",
              "      <td>False</td>\n",
              "      <td>False</td>\n",
              "      <td>False</td>\n",
              "      <td>14</td>\n",
              "      <td>766.864807</td>\n",
              "      <td>2.0</td>\n",
              "      <td>12.0</td>\n",
              "      <td>2.0</td>\n",
              "      <td>3.0</td>\n",
              "      <td>0.0</td>\n",
              "      <td>0.0</td>\n",
              "      <td>8520000.0</td>\n",
              "      <td>17560.0</td>\n",
              "      <td>65535.0</td>\n",
              "      <td>0.0</td>\n",
              "      <td>0.0</td>\n",
              "      <td>0.0</td>\n",
              "      <td>0.0</td>\n",
              "      <td>0.0</td>\n",
              "      <td>88.0</td>\n",
              "      <td>999.0</td>\n",
              "      <td>999.0</td>\n",
              "      <td>99999.0</td>\n",
              "      <td>99999.0</td>\n",
              "      <td>766</td>\n",
              "      <td>0</td>\n",
              "      <td>25</td>\n",
              "      <td>23</td>\n",
              "      <td>3</td>\n",
              "      <td>174</td>\n",
              "      <td>1.656024e+09</td>\n",
              "      <td>-14</td>\n",
              "    </tr>\n",
              "  </tbody>\n",
              "</table>"
            ]
          },
          "metadata": {}
        }
      ]
    },
    {
      "cell_type": "code",
      "source": [
        "fastai.save_pickle('/tmp/to.pkl',to)"
      ],
      "metadata": {
        "id": "r-D5hdO3-ypC"
      },
      "execution_count": 48,
      "outputs": []
    },
    {
      "cell_type": "markdown",
      "source": [
        "# Creating the Decision Tree"
      ],
      "metadata": {
        "id": "knWgCrX_A0Ep"
      }
    },
    {
      "cell_type": "code",
      "source": [
        "to = fastai.load_pickle('/tmp/to.pkl')"
      ],
      "metadata": {
        "id": "rtc_YDw0ArMR"
      },
      "execution_count": 49,
      "outputs": []
    },
    {
      "cell_type": "code",
      "source": [
        "xs,y = to.train.xs,to.train.y\n",
        "valid_xs,valid_y = to.valid.xs,to.valid.y"
      ],
      "metadata": {
        "id": "CcGx27DMBMbc"
      },
      "execution_count": 50,
      "outputs": []
    },
    {
      "cell_type": "code",
      "source": [
        "m = DecisionTreeRegressor(max_leaf_nodes=16)\n",
        "m.fit(xs, y);"
      ],
      "metadata": {
        "id": "clTcBmpGBXv6"
      },
      "execution_count": 51,
      "outputs": []
    },
    {
      "cell_type": "code",
      "source": [
        "fastai.draw_tree(m, xs, size=20, leaves_parallel=True, precision=2)"
      ],
      "metadata": {
        "id": "nhXNnHk7CSmF",
        "outputId": "31531355-5d96-4289-f26b-51a801592a61",
        "colab": {
          "base_uri": "https://localhost:8080/",
          "height": 1000
        }
      },
      "execution_count": 52,
      "outputs": [
        {
          "output_type": "execute_result",
          "data": {
            "text/plain": [
              "<graphviz.files.Source at 0x7f4921af1a50>"
            ],
            "image/svg+xml": "<?xml version=\"1.0\" encoding=\"UTF-8\" standalone=\"no\"?>\n<!DOCTYPE svg PUBLIC \"-//W3C//DTD SVG 1.1//EN\"\n \"http://www.w3.org/Graphics/SVG/1.1/DTD/svg11.dtd\">\n<!-- Generated by graphviz version 2.40.1 (20161225.0304)\n -->\n<!-- Title: Tree Pages: 1 -->\n<svg width=\"1440pt\" height=\"866pt\"\n viewBox=\"0.00 0.00 1440.00 866.18\" xmlns=\"http://www.w3.org/2000/svg\" xmlns:xlink=\"http://www.w3.org/1999/xlink\">\n<g id=\"graph0\" class=\"graph\" transform=\"scale(.4855 .4855) rotate(0) translate(4 1780.0974)\">\n<title>Tree</title>\n<polygon fill=\"#ffffff\" stroke=\"transparent\" points=\"-4,4 -4,-1780.0974 2962,-1780.0974 2962,4 -4,4\"/>\n<!-- 0 -->\n<g id=\"node1\" class=\"node\">\n<title>0</title>\n<path fill=\"#ea9a60\" stroke=\"#000000\" d=\"M921,-1722C921,-1722 674,-1722 674,-1722 668,-1722 662,-1716 662,-1710 662,-1710 662,-1666 662,-1666 662,-1660 668,-1654 674,-1654 674,-1654 921,-1654 921,-1654 927,-1654 933,-1660 933,-1666 933,-1666 933,-1710 933,-1710 933,-1716 927,-1722 921,-1722\"/>\n<text text-anchor=\"start\" x=\"670\" y=\"-1706.8\" font-family=\"Helvetica,sans-Serif\" font-size=\"14.00\" fill=\"#000000\">lastReportedPosition.speedMPH ≤ 29.5</text>\n<text text-anchor=\"start\" x=\"725\" y=\"-1691.8\" font-family=\"Helvetica,sans-Serif\" font-size=\"14.00\" fill=\"#000000\">squared_error = 197.2</text>\n<text text-anchor=\"start\" x=\"741.5\" y=\"-1676.8\" font-family=\"Helvetica,sans-Serif\" font-size=\"14.00\" fill=\"#000000\">samples = 22384</text>\n<text text-anchor=\"start\" x=\"755\" y=\"-1661.8\" font-family=\"Helvetica,sans-Serif\" font-size=\"14.00\" fill=\"#000000\">value = &#45;1.18</text>\n</g>\n<!-- 1 -->\n<g id=\"node2\" class=\"node\">\n<title>1</title>\n<path fill=\"#e88e4d\" stroke=\"#000000\" d=\"M832,-1452C832,-1452 365,-1452 365,-1452 359,-1452 353,-1446 353,-1440 353,-1440 353,-1396 353,-1396 353,-1390 359,-1384 365,-1384 365,-1384 832,-1384 832,-1384 838,-1384 844,-1390 844,-1396 844,-1396 844,-1440 844,-1440 844,-1446 838,-1452 832,-1452\"/>\n<text text-anchor=\"start\" x=\"361\" y=\"-1436.8\" font-family=\"Helvetica,sans-Serif\" font-size=\"14.00\" fill=\"#000000\">lastReportedPosition.milepostLocation.milepost.milepostNumber ≤ 722.18</text>\n<text text-anchor=\"start\" x=\"522\" y=\"-1421.8\" font-family=\"Helvetica,sans-Serif\" font-size=\"14.00\" fill=\"#000000\">squared_error = 183.85</text>\n<text text-anchor=\"start\" x=\"546.5\" y=\"-1406.8\" font-family=\"Helvetica,sans-Serif\" font-size=\"14.00\" fill=\"#000000\">samples = 8268</text>\n<text text-anchor=\"start\" x=\"558.5\" y=\"-1391.8\" font-family=\"Helvetica,sans-Serif\" font-size=\"14.00\" fill=\"#000000\">value = 5.11</text>\n</g>\n<!-- 0&#45;&gt;1 -->\n<g id=\"edge1\" class=\"edge\">\n<title>0&#45;&gt;1</title>\n<path fill=\"none\" stroke=\"#000000\" d=\"M772.2965,-1653.8043C736.0611,-1604.6407 669.283,-1514.0373 629.8906,-1460.5903\"/>\n<polygon fill=\"#000000\" stroke=\"#000000\" points=\"632.5629,-1458.3167 623.8124,-1452.3434 626.928,-1462.4698 632.5629,-1458.3167\"/>\n<text text-anchor=\"middle\" x=\"620.0704\" y=\"-1473.3618\" font-family=\"Helvetica,sans-Serif\" font-size=\"14.00\" fill=\"#000000\">True</text>\n</g>\n<!-- 2 -->\n<g id=\"node9\" class=\"node\">\n<title>2</title>\n<path fill=\"#eba06a\" stroke=\"#000000\" d=\"M1240,-1452C1240,-1452 993,-1452 993,-1452 987,-1452 981,-1446 981,-1440 981,-1440 981,-1396 981,-1396 981,-1390 987,-1384 993,-1384 993,-1384 1240,-1384 1240,-1384 1246,-1384 1252,-1390 1252,-1396 1252,-1396 1252,-1440 1252,-1440 1252,-1446 1246,-1452 1240,-1452\"/>\n<text text-anchor=\"start\" x=\"989\" y=\"-1436.8\" font-family=\"Helvetica,sans-Serif\" font-size=\"14.00\" fill=\"#000000\">lastReportedPosition.speedMPH ≤ 41.5</text>\n<text text-anchor=\"start\" x=\"1040\" y=\"-1421.8\" font-family=\"Helvetica,sans-Serif\" font-size=\"14.00\" fill=\"#000000\">squared_error = 168.27</text>\n<text text-anchor=\"start\" x=\"1060.5\" y=\"-1406.8\" font-family=\"Helvetica,sans-Serif\" font-size=\"14.00\" fill=\"#000000\">samples = 14116</text>\n<text text-anchor=\"start\" x=\"1074\" y=\"-1391.8\" font-family=\"Helvetica,sans-Serif\" font-size=\"14.00\" fill=\"#000000\">value = &#45;4.86</text>\n</g>\n<!-- 0&#45;&gt;2 -->\n<g id=\"edge8\" class=\"edge\">\n<title>0&#45;&gt;2</title>\n<path fill=\"none\" stroke=\"#000000\" d=\"M837.9016,-1653.8043C896.6655,-1604.0668 1005.5393,-1511.9166 1068.3734,-1458.7341\"/>\n<polygon fill=\"#000000\" stroke=\"#000000\" points=\"1070.8037,-1461.2625 1076.1755,-1452.1305 1066.2813,-1455.9195 1070.8037,-1461.2625\"/>\n<text text-anchor=\"middle\" x=\"1074.1029\" y=\"-1473.3444\" font-family=\"Helvetica,sans-Serif\" font-size=\"14.00\" fill=\"#000000\">False</text>\n</g>\n<!-- 9 -->\n<g id=\"node3\" class=\"node\">\n<title>9</title>\n<path fill=\"#e78b49\" stroke=\"#000000\" d=\"M395,-1182C395,-1182 148,-1182 148,-1182 142,-1182 136,-1176 136,-1170 136,-1170 136,-1126 136,-1126 136,-1120 142,-1114 148,-1114 148,-1114 395,-1114 395,-1114 401,-1114 407,-1120 407,-1126 407,-1126 407,-1170 407,-1170 407,-1176 401,-1182 395,-1182\"/>\n<text text-anchor=\"start\" x=\"144\" y=\"-1166.8\" font-family=\"Helvetica,sans-Serif\" font-size=\"14.00\" fill=\"#000000\">lastReportedPosition.speedMPH ≤ 21.5</text>\n<text text-anchor=\"start\" x=\"195\" y=\"-1151.8\" font-family=\"Helvetica,sans-Serif\" font-size=\"14.00\" fill=\"#000000\">squared_error = 214.08</text>\n<text text-anchor=\"start\" x=\"219.5\" y=\"-1136.8\" font-family=\"Helvetica,sans-Serif\" font-size=\"14.00\" fill=\"#000000\">samples = 6143</text>\n<text text-anchor=\"start\" x=\"231.5\" y=\"-1121.8\" font-family=\"Helvetica,sans-Serif\" font-size=\"14.00\" fill=\"#000000\">value = 6.57</text>\n</g>\n<!-- 1&#45;&gt;9 -->\n<g id=\"edge2\" class=\"edge\">\n<title>1&#45;&gt;9</title>\n<path fill=\"none\" stroke=\"#000000\" d=\"M557.0852,-1383.8043C496.8476,-1334.0668 385.2434,-1241.9166 320.8335,-1188.7341\"/>\n<polygon fill=\"#000000\" stroke=\"#000000\" points=\"322.7754,-1185.7986 312.8358,-1182.1305 318.3185,-1191.1964 322.7754,-1185.7986\"/>\n</g>\n<!-- 10 -->\n<g id=\"node6\" class=\"node\">\n<title>10</title>\n<path fill=\"#e99659\" stroke=\"#000000\" d=\"M722,-1182C722,-1182 475,-1182 475,-1182 469,-1182 463,-1176 463,-1170 463,-1170 463,-1126 463,-1126 463,-1120 469,-1114 475,-1114 475,-1114 722,-1114 722,-1114 728,-1114 734,-1120 734,-1126 734,-1126 734,-1170 734,-1170 734,-1176 728,-1182 722,-1182\"/>\n<text text-anchor=\"start\" x=\"471\" y=\"-1166.8\" font-family=\"Helvetica,sans-Serif\" font-size=\"14.00\" fill=\"#000000\">lastReportedPosition.speedMPH ≤ 18.5</text>\n<text text-anchor=\"start\" x=\"526\" y=\"-1151.8\" font-family=\"Helvetica,sans-Serif\" font-size=\"14.00\" fill=\"#000000\">squared_error = 72.69</text>\n<text text-anchor=\"start\" x=\"546.5\" y=\"-1136.8\" font-family=\"Helvetica,sans-Serif\" font-size=\"14.00\" fill=\"#000000\">samples = 2125</text>\n<text text-anchor=\"start\" x=\"558.5\" y=\"-1121.8\" font-family=\"Helvetica,sans-Serif\" font-size=\"14.00\" fill=\"#000000\">value = 0.91</text>\n</g>\n<!-- 1&#45;&gt;10 -->\n<g id=\"edge5\" class=\"edge\">\n<title>1&#45;&gt;10</title>\n<path fill=\"none\" stroke=\"#000000\" d=\"M598.5,-1383.8043C598.5,-1335.2476 598.5,-1246.2681 598.5,-1192.5866\"/>\n<polygon fill=\"#000000\" stroke=\"#000000\" points=\"602.0001,-1192.3434 598.5,-1182.3434 595.0001,-1192.3435 602.0001,-1192.3434\"/>\n</g>\n<!-- 13 -->\n<g id=\"node4\" class=\"node\">\n<title>13</title>\n<path fill=\"#e78945\" stroke=\"#000000\" d=\"M157,-95.5C157,-95.5 12,-95.5 12,-95.5 6,-95.5 0,-89.5 0,-83.5 0,-83.5 0,-54.5 0,-54.5 0,-48.5 6,-42.5 12,-42.5 12,-42.5 157,-42.5 157,-42.5 163,-42.5 169,-48.5 169,-54.5 169,-54.5 169,-83.5 169,-83.5 169,-89.5 163,-95.5 157,-95.5\"/>\n<text text-anchor=\"start\" x=\"8\" y=\"-80.3\" font-family=\"Helvetica,sans-Serif\" font-size=\"14.00\" fill=\"#000000\">squared_error = 202.99</text>\n<text text-anchor=\"start\" x=\"32.5\" y=\"-65.3\" font-family=\"Helvetica,sans-Serif\" font-size=\"14.00\" fill=\"#000000\">samples = 4422</text>\n<text text-anchor=\"start\" x=\"44.5\" y=\"-50.3\" font-family=\"Helvetica,sans-Serif\" font-size=\"14.00\" fill=\"#000000\">value = 7.97</text>\n</g>\n<!-- 9&#45;&gt;13 -->\n<g id=\"edge3\" class=\"edge\">\n<title>9&#45;&gt;13</title>\n<path fill=\"none\" stroke=\"#000000\" d=\"M265.5946,-1113.9256C237.7716,-953.3855 119.9066,-273.2977 90.9466,-106.1972\"/>\n<polygon fill=\"#000000\" stroke=\"#000000\" points=\"94.3258,-105.1988 89.1695,-95.9434 87.4286,-106.3942 94.3258,-105.1988\"/>\n</g>\n<!-- 14 -->\n<g id=\"node5\" class=\"node\">\n<title>14</title>\n<path fill=\"#e89254\" stroke=\"#000000\" d=\"M344,-95.5C344,-95.5 199,-95.5 199,-95.5 193,-95.5 187,-89.5 187,-83.5 187,-83.5 187,-54.5 187,-54.5 187,-48.5 193,-42.5 199,-42.5 199,-42.5 344,-42.5 344,-42.5 350,-42.5 356,-48.5 356,-54.5 356,-54.5 356,-83.5 356,-83.5 356,-89.5 350,-95.5 344,-95.5\"/>\n<text text-anchor=\"start\" x=\"195\" y=\"-80.3\" font-family=\"Helvetica,sans-Serif\" font-size=\"14.00\" fill=\"#000000\">squared_error = 224.46</text>\n<text text-anchor=\"start\" x=\"219.5\" y=\"-65.3\" font-family=\"Helvetica,sans-Serif\" font-size=\"14.00\" fill=\"#000000\">samples = 1721</text>\n<text text-anchor=\"start\" x=\"231.5\" y=\"-50.3\" font-family=\"Helvetica,sans-Serif\" font-size=\"14.00\" fill=\"#000000\">value = 2.95</text>\n</g>\n<!-- 9&#45;&gt;14 -->\n<g id=\"edge4\" class=\"edge\">\n<title>9&#45;&gt;14</title>\n<path fill=\"none\" stroke=\"#000000\" d=\"M271.5,-1113.9256C271.5,-953.3855 271.5,-273.2977 271.5,-106.1972\"/>\n<polygon fill=\"#000000\" stroke=\"#000000\" points=\"275.0001,-105.9433 271.5,-95.9434 268.0001,-105.9434 275.0001,-105.9433\"/>\n</g>\n<!-- 21 -->\n<g id=\"node7\" class=\"node\">\n<title>21</title>\n<path fill=\"#e99457\" stroke=\"#000000\" d=\"M523,-95.5C523,-95.5 386,-95.5 386,-95.5 380,-95.5 374,-89.5 374,-83.5 374,-83.5 374,-54.5 374,-54.5 374,-48.5 380,-42.5 386,-42.5 386,-42.5 523,-42.5 523,-42.5 529,-42.5 535,-48.5 535,-54.5 535,-54.5 535,-83.5 535,-83.5 535,-89.5 529,-95.5 523,-95.5\"/>\n<text text-anchor=\"start\" x=\"382\" y=\"-80.3\" font-family=\"Helvetica,sans-Serif\" font-size=\"14.00\" fill=\"#000000\">squared_error = 56.52</text>\n<text text-anchor=\"start\" x=\"402.5\" y=\"-65.3\" font-family=\"Helvetica,sans-Serif\" font-size=\"14.00\" fill=\"#000000\">samples = 1957</text>\n<text text-anchor=\"start\" x=\"418.5\" y=\"-50.3\" font-family=\"Helvetica,sans-Serif\" font-size=\"14.00\" fill=\"#000000\">value = 1.8</text>\n</g>\n<!-- 10&#45;&gt;21 -->\n<g id=\"edge6\" class=\"edge\">\n<title>10&#45;&gt;21</title>\n<path fill=\"none\" stroke=\"#000000\" d=\"M593.9525,-1113.9256C572.5273,-953.3855 481.7649,-273.2977 459.4642,-106.1972\"/>\n<polygon fill=\"#000000\" stroke=\"#000000\" points=\"462.8879,-105.3925 458.0958,-95.9434 455.9495,-106.3185 462.8879,-105.3925\"/>\n</g>\n<!-- 22 -->\n<g id=\"node8\" class=\"node\">\n<title>22</title>\n<path fill=\"#eda977\" stroke=\"#000000\" d=\"M710,-95.5C710,-95.5 565,-95.5 565,-95.5 559,-95.5 553,-89.5 553,-83.5 553,-83.5 553,-54.5 553,-54.5 553,-48.5 559,-42.5 565,-42.5 565,-42.5 710,-42.5 710,-42.5 716,-42.5 722,-48.5 722,-54.5 722,-54.5 722,-83.5 722,-83.5 722,-89.5 716,-95.5 710,-95.5\"/>\n<text text-anchor=\"start\" x=\"561\" y=\"-80.3\" font-family=\"Helvetica,sans-Serif\" font-size=\"14.00\" fill=\"#000000\">squared_error = 145.44</text>\n<text text-anchor=\"start\" x=\"589.5\" y=\"-65.3\" font-family=\"Helvetica,sans-Serif\" font-size=\"14.00\" fill=\"#000000\">samples = 168</text>\n<text text-anchor=\"start\" x=\"599.5\" y=\"-50.3\" font-family=\"Helvetica,sans-Serif\" font-size=\"14.00\" fill=\"#000000\">value = &#45;9.4</text>\n</g>\n<!-- 10&#45;&gt;22 -->\n<g id=\"edge7\" class=\"edge\">\n<title>10&#45;&gt;22</title>\n<path fill=\"none\" stroke=\"#000000\" d=\"M599.7316,-1113.9256C605.5343,-953.3855 630.1157,-273.2977 636.1555,-106.1972\"/>\n<polygon fill=\"#000000\" stroke=\"#000000\" points=\"639.6626,-106.0633 636.5261,-95.9434 632.6671,-105.8104 639.6626,-106.0633\"/>\n</g>\n<!-- 3 -->\n<g id=\"node10\" class=\"node\">\n<title>3</title>\n<path fill=\"#ea9b62\" stroke=\"#000000\" d=\"M1198.5,-1182C1198.5,-1182 1034.5,-1182 1034.5,-1182 1028.5,-1182 1022.5,-1176 1022.5,-1170 1022.5,-1170 1022.5,-1126 1022.5,-1126 1022.5,-1120 1028.5,-1114 1034.5,-1114 1034.5,-1114 1198.5,-1114 1198.5,-1114 1204.5,-1114 1210.5,-1120 1210.5,-1126 1210.5,-1126 1210.5,-1170 1210.5,-1170 1210.5,-1176 1204.5,-1182 1198.5,-1182\"/>\n<text text-anchor=\"start\" x=\"1030.5\" y=\"-1166.8\" font-family=\"Helvetica,sans-Serif\" font-size=\"14.00\" fill=\"#000000\">trainId.trainSymbol ≤ 132.5</text>\n<text text-anchor=\"start\" x=\"1040\" y=\"-1151.8\" font-family=\"Helvetica,sans-Serif\" font-size=\"14.00\" fill=\"#000000\">squared_error = 159.74</text>\n<text text-anchor=\"start\" x=\"1064.5\" y=\"-1136.8\" font-family=\"Helvetica,sans-Serif\" font-size=\"14.00\" fill=\"#000000\">samples = 5751</text>\n<text text-anchor=\"start\" x=\"1074\" y=\"-1121.8\" font-family=\"Helvetica,sans-Serif\" font-size=\"14.00\" fill=\"#000000\">value = &#45;2.02</text>\n</g>\n<!-- 2&#45;&gt;3 -->\n<g id=\"edge9\" class=\"edge\">\n<title>2&#45;&gt;3</title>\n<path fill=\"none\" stroke=\"#000000\" d=\"M1116.5,-1383.8043C1116.5,-1335.2476 1116.5,-1246.2681 1116.5,-1192.5866\"/>\n<polygon fill=\"#000000\" stroke=\"#000000\" points=\"1120.0001,-1192.3434 1116.5,-1182.3434 1113.0001,-1192.3435 1120.0001,-1192.3434\"/>\n</g>\n<!-- 4 -->\n<g id=\"node15\" class=\"node\">\n<title>4</title>\n<path fill=\"#eca470\" stroke=\"#000000\" d=\"M1846,-1182C1846,-1182 1379,-1182 1379,-1182 1373,-1182 1367,-1176 1367,-1170 1367,-1170 1367,-1126 1367,-1126 1367,-1120 1373,-1114 1379,-1114 1379,-1114 1846,-1114 1846,-1114 1852,-1114 1858,-1120 1858,-1126 1858,-1126 1858,-1170 1858,-1170 1858,-1176 1852,-1182 1846,-1182\"/>\n<text text-anchor=\"start\" x=\"1375\" y=\"-1166.8\" font-family=\"Helvetica,sans-Serif\" font-size=\"14.00\" fill=\"#000000\">lastReportedPosition.milepostLocation.milepost.milepostNumber ≤ 260.39</text>\n<text text-anchor=\"start\" x=\"1536\" y=\"-1151.8\" font-family=\"Helvetica,sans-Serif\" font-size=\"14.00\" fill=\"#000000\">squared_error = 164.78</text>\n<text text-anchor=\"start\" x=\"1560.5\" y=\"-1136.8\" font-family=\"Helvetica,sans-Serif\" font-size=\"14.00\" fill=\"#000000\">samples = 8365</text>\n<text text-anchor=\"start\" x=\"1570\" y=\"-1121.8\" font-family=\"Helvetica,sans-Serif\" font-size=\"14.00\" fill=\"#000000\">value = &#45;6.82</text>\n</g>\n<!-- 2&#45;&gt;4 -->\n<g id=\"edge14\" class=\"edge\">\n<title>2&#45;&gt;4</title>\n<path fill=\"none\" stroke=\"#000000\" d=\"M1179.0674,-1383.9411C1271.3738,-1333.6937 1443.5897,-1239.9471 1540.8446,-1187.006\"/>\n<polygon fill=\"#000000\" stroke=\"#000000\" points=\"1542.6195,-1190.0248 1549.7291,-1182.1696 1539.2727,-1183.8767 1542.6195,-1190.0248\"/>\n</g>\n<!-- 5 -->\n<g id=\"node11\" class=\"node\">\n<title>5</title>\n<path fill=\"#eb9d64\" stroke=\"#000000\" d=\"M1158,-912C1158,-912 691,-912 691,-912 685,-912 679,-906 679,-900 679,-900 679,-856 679,-856 679,-850 685,-844 691,-844 691,-844 1158,-844 1158,-844 1164,-844 1170,-850 1170,-856 1170,-856 1170,-900 1170,-900 1170,-906 1164,-912 1158,-912\"/>\n<text text-anchor=\"start\" x=\"687\" y=\"-896.8\" font-family=\"Helvetica,sans-Serif\" font-size=\"14.00\" fill=\"#000000\">lastReportedPosition.milepostLocation.milepost.milepostNumber ≤ 232.79</text>\n<text text-anchor=\"start\" x=\"848\" y=\"-881.8\" font-family=\"Helvetica,sans-Serif\" font-size=\"14.00\" fill=\"#000000\">squared_error = 147.75</text>\n<text text-anchor=\"start\" x=\"872.5\" y=\"-866.8\" font-family=\"Helvetica,sans-Serif\" font-size=\"14.00\" fill=\"#000000\">samples = 5441</text>\n<text text-anchor=\"start\" x=\"882\" y=\"-851.8\" font-family=\"Helvetica,sans-Serif\" font-size=\"14.00\" fill=\"#000000\">value = &#45;2.83</text>\n</g>\n<!-- 3&#45;&gt;5 -->\n<g id=\"edge10\" class=\"edge\">\n<title>3&#45;&gt;5</title>\n<path fill=\"none\" stroke=\"#000000\" d=\"M1092.1831,-1113.8043C1057.2223,-1064.6407 992.7932,-974.0373 954.7864,-920.5903\"/>\n<polygon fill=\"#000000\" stroke=\"#000000\" points=\"957.5696,-918.4646 948.922,-912.3434 951.8649,-922.5213 957.5696,-918.4646\"/>\n</g>\n<!-- 6 -->\n<g id=\"node14\" class=\"node\">\n<title>6</title>\n<path fill=\"#e58139\" stroke=\"#000000\" d=\"M1271,-95.5C1271,-95.5 1126,-95.5 1126,-95.5 1120,-95.5 1114,-89.5 1114,-83.5 1114,-83.5 1114,-54.5 1114,-54.5 1114,-48.5 1120,-42.5 1126,-42.5 1126,-42.5 1271,-42.5 1271,-42.5 1277,-42.5 1283,-48.5 1283,-54.5 1283,-54.5 1283,-83.5 1283,-83.5 1283,-89.5 1277,-95.5 1271,-95.5\"/>\n<text text-anchor=\"start\" x=\"1122\" y=\"-80.3\" font-family=\"Helvetica,sans-Serif\" font-size=\"14.00\" fill=\"#000000\">squared_error = 158.17</text>\n<text text-anchor=\"start\" x=\"1150.5\" y=\"-65.3\" font-family=\"Helvetica,sans-Serif\" font-size=\"14.00\" fill=\"#000000\">samples = 310</text>\n<text text-anchor=\"start\" x=\"1154.5\" y=\"-50.3\" font-family=\"Helvetica,sans-Serif\" font-size=\"14.00\" fill=\"#000000\">value = 12.14</text>\n</g>\n<!-- 3&#45;&gt;6 -->\n<g id=\"edge13\" class=\"edge\">\n<title>3&#45;&gt;6</title>\n<path fill=\"none\" stroke=\"#000000\" d=\"M1125.4491,-1113.9356C1142.6188,-1048.58 1178.5,-912 1178.5,-912 1178.5,-912 1193.7595,-268.8118 1197.6206,-106.0653\"/>\n<polygon fill=\"#000000\" stroke=\"#000000\" points=\"1201.1301,-105.7019 1197.8684,-95.6216 1194.1321,-105.5358 1201.1301,-105.7019\"/>\n</g>\n<!-- 29 -->\n<g id=\"node12\" class=\"node\">\n<title>29</title>\n<path fill=\"#eca36e\" stroke=\"#000000\" d=\"M897,-95.5C897,-95.5 752,-95.5 752,-95.5 746,-95.5 740,-89.5 740,-83.5 740,-83.5 740,-54.5 740,-54.5 740,-48.5 746,-42.5 752,-42.5 752,-42.5 897,-42.5 897,-42.5 903,-42.5 909,-48.5 909,-54.5 909,-54.5 909,-83.5 909,-83.5 909,-89.5 903,-95.5 897,-95.5\"/>\n<text text-anchor=\"start\" x=\"748\" y=\"-80.3\" font-family=\"Helvetica,sans-Serif\" font-size=\"14.00\" fill=\"#000000\">squared_error = 228.88</text>\n<text text-anchor=\"start\" x=\"772.5\" y=\"-65.3\" font-family=\"Helvetica,sans-Serif\" font-size=\"14.00\" fill=\"#000000\">samples = 1099</text>\n<text text-anchor=\"start\" x=\"782\" y=\"-50.3\" font-family=\"Helvetica,sans-Serif\" font-size=\"14.00\" fill=\"#000000\">value = &#45;6.14</text>\n</g>\n<!-- 5&#45;&gt;29 -->\n<g id=\"edge11\" class=\"edge\">\n<title>5&#45;&gt;29</title>\n<path fill=\"none\" stroke=\"#000000\" d=\"M920.267,-843.755C904.0337,-712.4277 845.8293,-241.5537 829.0545,-105.8457\"/>\n<polygon fill=\"#000000\" stroke=\"#000000\" points=\"832.4848,-105.0662 827.7844,-95.5711 825.5377,-105.925 832.4848,-105.0662\"/>\n</g>\n<!-- 30 -->\n<g id=\"node13\" class=\"node\">\n<title>30</title>\n<path fill=\"#ea9b62\" stroke=\"#000000\" d=\"M1084,-95.5C1084,-95.5 939,-95.5 939,-95.5 933,-95.5 927,-89.5 927,-83.5 927,-83.5 927,-54.5 927,-54.5 927,-48.5 933,-42.5 939,-42.5 939,-42.5 1084,-42.5 1084,-42.5 1090,-42.5 1096,-48.5 1096,-54.5 1096,-54.5 1096,-83.5 1096,-83.5 1096,-89.5 1090,-95.5 1084,-95.5\"/>\n<text text-anchor=\"start\" x=\"935\" y=\"-80.3\" font-family=\"Helvetica,sans-Serif\" font-size=\"14.00\" fill=\"#000000\">squared_error = 123.74</text>\n<text text-anchor=\"start\" x=\"959.5\" y=\"-65.3\" font-family=\"Helvetica,sans-Serif\" font-size=\"14.00\" fill=\"#000000\">samples = 4342</text>\n<text text-anchor=\"start\" x=\"969\" y=\"-50.3\" font-family=\"Helvetica,sans-Serif\" font-size=\"14.00\" fill=\"#000000\">value = &#45;1.99</text>\n</g>\n<!-- 5&#45;&gt;30 -->\n<g id=\"edge12\" class=\"edge\">\n<title>5&#45;&gt;30</title>\n<path fill=\"none\" stroke=\"#000000\" d=\"M928.1827,-843.755C942.3057,-712.4277 992.9436,-241.5537 1007.5376,-105.8457\"/>\n<polygon fill=\"#000000\" stroke=\"#000000\" points=\"1011.0531,-105.8881 1008.6425,-95.5711 1004.0933,-105.1395 1011.0531,-105.8881\"/>\n</g>\n<!-- 7 -->\n<g id=\"node16\" class=\"node\">\n<title>7</title>\n<path fill=\"#edaa79\" stroke=\"#000000\" d=\"M1741,-912C1741,-912 1484,-912 1484,-912 1478,-912 1472,-906 1472,-900 1472,-900 1472,-856 1472,-856 1472,-850 1478,-844 1484,-844 1484,-844 1741,-844 1741,-844 1747,-844 1753,-850 1753,-856 1753,-856 1753,-900 1753,-900 1753,-906 1747,-912 1741,-912\"/>\n<text text-anchor=\"start\" x=\"1480\" y=\"-896.8\" font-family=\"Helvetica,sans-Serif\" font-size=\"14.00\" fill=\"#000000\">aotuTrainData.authorityRangeCode ≤ 1.5</text>\n<text text-anchor=\"start\" x=\"1536\" y=\"-881.8\" font-family=\"Helvetica,sans-Serif\" font-size=\"14.00\" fill=\"#000000\">squared_error = 199.47</text>\n<text text-anchor=\"start\" x=\"1560.5\" y=\"-866.8\" font-family=\"Helvetica,sans-Serif\" font-size=\"14.00\" fill=\"#000000\">samples = 3252</text>\n<text text-anchor=\"start\" x=\"1566\" y=\"-851.8\" font-family=\"Helvetica,sans-Serif\" font-size=\"14.00\" fill=\"#000000\">value = &#45;10.07</text>\n</g>\n<!-- 4&#45;&gt;7 -->\n<g id=\"edge15\" class=\"edge\">\n<title>4&#45;&gt;7</title>\n<path fill=\"none\" stroke=\"#000000\" d=\"M1612.5,-1113.8043C1612.5,-1065.2476 1612.5,-976.2681 1612.5,-922.5866\"/>\n<polygon fill=\"#000000\" stroke=\"#000000\" points=\"1616.0001,-922.3434 1612.5,-912.3434 1609.0001,-922.3435 1616.0001,-922.3434\"/>\n</g>\n<!-- 8 -->\n<g id=\"node23\" class=\"node\">\n<title>8</title>\n<path fill=\"#eba06a\" stroke=\"#000000\" d=\"M2198,-912C2198,-912 2053,-912 2053,-912 2047,-912 2041,-906 2041,-900 2041,-900 2041,-856 2041,-856 2041,-850 2047,-844 2053,-844 2053,-844 2198,-844 2198,-844 2204,-844 2210,-850 2210,-856 2210,-856 2210,-900 2210,-900 2210,-906 2204,-912 2198,-912\"/>\n<text text-anchor=\"start\" x=\"2063\" y=\"-896.8\" font-family=\"Helvetica,sans-Serif\" font-size=\"14.00\" fill=\"#000000\">trainLength ≤ 280.0</text>\n<text text-anchor=\"start\" x=\"2049\" y=\"-881.8\" font-family=\"Helvetica,sans-Serif\" font-size=\"14.00\" fill=\"#000000\">squared_error = 131.71</text>\n<text text-anchor=\"start\" x=\"2073.5\" y=\"-866.8\" font-family=\"Helvetica,sans-Serif\" font-size=\"14.00\" fill=\"#000000\">samples = 5113</text>\n<text text-anchor=\"start\" x=\"2083\" y=\"-851.8\" font-family=\"Helvetica,sans-Serif\" font-size=\"14.00\" fill=\"#000000\">value = &#45;4.75</text>\n</g>\n<!-- 4&#45;&gt;8 -->\n<g id=\"edge22\" class=\"edge\">\n<title>4&#45;&gt;8</title>\n<path fill=\"none\" stroke=\"#000000\" d=\"M1677.2119,-1113.9411C1772.7781,-1063.6431 1951.1593,-969.7583 2051.6923,-916.8462\"/>\n<polygon fill=\"#000000\" stroke=\"#000000\" points=\"2053.3587,-919.9244 2060.5777,-912.1696 2050.0984,-913.7299 2053.3587,-919.9244\"/>\n</g>\n<!-- 15 -->\n<g id=\"node17\" class=\"node\">\n<title>15</title>\n<path fill=\"#f2c29f\" stroke=\"#000000\" d=\"M1458,-95.5C1458,-95.5 1313,-95.5 1313,-95.5 1307,-95.5 1301,-89.5 1301,-83.5 1301,-83.5 1301,-54.5 1301,-54.5 1301,-48.5 1307,-42.5 1313,-42.5 1313,-42.5 1458,-42.5 1458,-42.5 1464,-42.5 1470,-48.5 1470,-54.5 1470,-54.5 1470,-83.5 1470,-83.5 1470,-89.5 1464,-95.5 1458,-95.5\"/>\n<text text-anchor=\"start\" x=\"1309\" y=\"-80.3\" font-family=\"Helvetica,sans-Serif\" font-size=\"14.00\" fill=\"#000000\">squared_error = 406.41</text>\n<text text-anchor=\"start\" x=\"1337.5\" y=\"-65.3\" font-family=\"Helvetica,sans-Serif\" font-size=\"14.00\" fill=\"#000000\">samples = 146</text>\n<text text-anchor=\"start\" x=\"1339\" y=\"-50.3\" font-family=\"Helvetica,sans-Serif\" font-size=\"14.00\" fill=\"#000000\">value = &#45;23.18</text>\n</g>\n<!-- 7&#45;&gt;15 -->\n<g id=\"edge16\" class=\"edge\">\n<title>7&#45;&gt;15</title>\n<path fill=\"none\" stroke=\"#000000\" d=\"M1598.3546,-843.9356C1571.2154,-778.58 1514.5,-642 1514.5,-642 1514.5,-642 1422.309,-232.5004 1393.7989,-105.8627\"/>\n<polygon fill=\"#000000\" stroke=\"#000000\" points=\"1397.1599,-104.8555 1391.5489,-95.8684 1390.3308,-106.393 1397.1599,-104.8555\"/>\n</g>\n<!-- 16 -->\n<g id=\"node18\" class=\"node\">\n<title>16</title>\n<path fill=\"#eda977\" stroke=\"#000000\" d=\"M1783,-642C1783,-642 1536,-642 1536,-642 1530,-642 1524,-636 1524,-630 1524,-630 1524,-586 1524,-586 1524,-580 1530,-574 1536,-574 1536,-574 1783,-574 1783,-574 1789,-574 1795,-580 1795,-586 1795,-586 1795,-630 1795,-630 1795,-636 1789,-642 1783,-642\"/>\n<text text-anchor=\"start\" x=\"1532\" y=\"-626.8\" font-family=\"Helvetica,sans-Serif\" font-size=\"14.00\" fill=\"#000000\">lastReportedPosition.speedMPH ≤ 58.5</text>\n<text text-anchor=\"start\" x=\"1583\" y=\"-611.8\" font-family=\"Helvetica,sans-Serif\" font-size=\"14.00\" fill=\"#000000\">squared_error = 181.29</text>\n<text text-anchor=\"start\" x=\"1607.5\" y=\"-596.8\" font-family=\"Helvetica,sans-Serif\" font-size=\"14.00\" fill=\"#000000\">samples = 3106</text>\n<text text-anchor=\"start\" x=\"1617\" y=\"-581.8\" font-family=\"Helvetica,sans-Serif\" font-size=\"14.00\" fill=\"#000000\">value = &#45;9.45</text>\n</g>\n<!-- 7&#45;&gt;16 -->\n<g id=\"edge17\" class=\"edge\">\n<title>7&#45;&gt;16</title>\n<path fill=\"none\" stroke=\"#000000\" d=\"M1618.4526,-843.8043C1626.9227,-795.1465 1642.4586,-705.8972 1651.7969,-652.2516\"/>\n<polygon fill=\"#000000\" stroke=\"#000000\" points=\"1655.2548,-652.7955 1653.5217,-642.3434 1648.3585,-651.595 1655.2548,-652.7955\"/>\n</g>\n<!-- 17 -->\n<g id=\"node19\" class=\"node\">\n<title>17</title>\n<path fill=\"#eda774\" stroke=\"#000000\" d=\"M1741.5,-373C1741.5,-373 1577.5,-373 1577.5,-373 1571.5,-373 1565.5,-367 1565.5,-361 1565.5,-361 1565.5,-317 1565.5,-317 1565.5,-311 1571.5,-305 1577.5,-305 1577.5,-305 1741.5,-305 1741.5,-305 1747.5,-305 1753.5,-311 1753.5,-317 1753.5,-317 1753.5,-361 1753.5,-361 1753.5,-367 1747.5,-373 1741.5,-373\"/>\n<text text-anchor=\"start\" x=\"1573.5\" y=\"-357.8\" font-family=\"Helvetica,sans-Serif\" font-size=\"14.00\" fill=\"#000000\">trainId.trainSymbol ≤ 135.5</text>\n<text text-anchor=\"start\" x=\"1583\" y=\"-342.8\" font-family=\"Helvetica,sans-Serif\" font-size=\"14.00\" fill=\"#000000\">squared_error = 169.14</text>\n<text text-anchor=\"start\" x=\"1607.5\" y=\"-327.8\" font-family=\"Helvetica,sans-Serif\" font-size=\"14.00\" fill=\"#000000\">samples = 2709</text>\n<text text-anchor=\"start\" x=\"1617\" y=\"-312.8\" font-family=\"Helvetica,sans-Serif\" font-size=\"14.00\" fill=\"#000000\">value = &#45;8.39</text>\n</g>\n<!-- 16&#45;&gt;17 -->\n<g id=\"edge18\" class=\"edge\">\n<title>16&#45;&gt;17</title>\n<path fill=\"none\" stroke=\"#000000\" d=\"M1659.5,-573.931C1659.5,-525.5541 1659.5,-436.9042 1659.5,-383.4215\"/>\n<polygon fill=\"#000000\" stroke=\"#000000\" points=\"1663.0001,-383.2162 1659.5,-373.2162 1656.0001,-383.2163 1663.0001,-383.2162\"/>\n</g>\n<!-- 18 -->\n<g id=\"node22\" class=\"node\">\n<title>18</title>\n<path fill=\"#f0b68c\" stroke=\"#000000\" d=\"M2011,-95.5C2011,-95.5 1866,-95.5 1866,-95.5 1860,-95.5 1854,-89.5 1854,-83.5 1854,-83.5 1854,-54.5 1854,-54.5 1854,-48.5 1860,-42.5 1866,-42.5 1866,-42.5 2011,-42.5 2011,-42.5 2017,-42.5 2023,-48.5 2023,-54.5 2023,-54.5 2023,-83.5 2023,-83.5 2023,-89.5 2017,-95.5 2011,-95.5\"/>\n<text text-anchor=\"start\" x=\"1862\" y=\"-80.3\" font-family=\"Helvetica,sans-Serif\" font-size=\"14.00\" fill=\"#000000\">squared_error = 203.99</text>\n<text text-anchor=\"start\" x=\"1890.5\" y=\"-65.3\" font-family=\"Helvetica,sans-Serif\" font-size=\"14.00\" fill=\"#000000\">samples = 397</text>\n<text text-anchor=\"start\" x=\"1896\" y=\"-50.3\" font-family=\"Helvetica,sans-Serif\" font-size=\"14.00\" fill=\"#000000\">value = &#45;16.7</text>\n</g>\n<!-- 16&#45;&gt;18 -->\n<g id=\"edge21\" class=\"edge\">\n<title>16&#45;&gt;18</title>\n<path fill=\"none\" stroke=\"#000000\" d=\"M1677.1644,-573.8742C1727.1203,-477.3644 1869.0853,-203.1022 1920.0235,-104.6948\"/>\n<polygon fill=\"#000000\" stroke=\"#000000\" points=\"1923.174,-106.2221 1924.6627,-95.7323 1916.9574,-103.0042 1923.174,-106.2221\"/>\n</g>\n<!-- 19 -->\n<g id=\"node20\" class=\"node\">\n<title>19</title>\n<path fill=\"#eda978\" stroke=\"#000000\" d=\"M1637,-95.5C1637,-95.5 1500,-95.5 1500,-95.5 1494,-95.5 1488,-89.5 1488,-83.5 1488,-83.5 1488,-54.5 1488,-54.5 1488,-48.5 1494,-42.5 1500,-42.5 1500,-42.5 1637,-42.5 1637,-42.5 1643,-42.5 1649,-48.5 1649,-54.5 1649,-54.5 1649,-83.5 1649,-83.5 1649,-89.5 1643,-95.5 1637,-95.5\"/>\n<text text-anchor=\"start\" x=\"1496\" y=\"-80.3\" font-family=\"Helvetica,sans-Serif\" font-size=\"14.00\" fill=\"#000000\">squared_error = 161.1</text>\n<text text-anchor=\"start\" x=\"1516.5\" y=\"-65.3\" font-family=\"Helvetica,sans-Serif\" font-size=\"14.00\" fill=\"#000000\">samples = 2267</text>\n<text text-anchor=\"start\" x=\"1526\" y=\"-50.3\" font-family=\"Helvetica,sans-Serif\" font-size=\"14.00\" fill=\"#000000\">value = &#45;9.66</text>\n</g>\n<!-- 17&#45;&gt;19 -->\n<g id=\"edge19\" class=\"edge\">\n<title>17&#45;&gt;19</title>\n<path fill=\"none\" stroke=\"#000000\" d=\"M1647.9748,-304.8043C1630.7216,-253.6136 1598.3263,-157.4955 1580.6921,-105.1742\"/>\n<polygon fill=\"#000000\" stroke=\"#000000\" points=\"1583.9851,-103.986 1577.4745,-95.6276 1577.3517,-106.2217 1583.9851,-103.986\"/>\n</g>\n<!-- 20 -->\n<g id=\"node21\" class=\"node\">\n<title>20</title>\n<path fill=\"#ea9b62\" stroke=\"#000000\" d=\"M1824,-95.5C1824,-95.5 1679,-95.5 1679,-95.5 1673,-95.5 1667,-89.5 1667,-83.5 1667,-83.5 1667,-54.5 1667,-54.5 1667,-48.5 1673,-42.5 1679,-42.5 1679,-42.5 1824,-42.5 1824,-42.5 1830,-42.5 1836,-48.5 1836,-54.5 1836,-54.5 1836,-83.5 1836,-83.5 1836,-89.5 1830,-95.5 1824,-95.5\"/>\n<text text-anchor=\"start\" x=\"1675\" y=\"-80.3\" font-family=\"Helvetica,sans-Serif\" font-size=\"14.00\" fill=\"#000000\">squared_error = 159.75</text>\n<text text-anchor=\"start\" x=\"1703.5\" y=\"-65.3\" font-family=\"Helvetica,sans-Serif\" font-size=\"14.00\" fill=\"#000000\">samples = 442</text>\n<text text-anchor=\"start\" x=\"1709\" y=\"-50.3\" font-family=\"Helvetica,sans-Serif\" font-size=\"14.00\" fill=\"#000000\">value = &#45;1.88</text>\n</g>\n<!-- 17&#45;&gt;20 -->\n<g id=\"edge20\" class=\"edge\">\n<title>17&#45;&gt;20</title>\n<path fill=\"none\" stroke=\"#000000\" d=\"M1671.1519,-304.8043C1688.5946,-253.6136 1721.346,-157.4955 1739.174,-105.1742\"/>\n<polygon fill=\"#000000\" stroke=\"#000000\" points=\"1742.5145,-106.222 1742.4269,-95.6276 1735.8886,-103.9643 1742.5145,-106.222\"/>\n</g>\n<!-- 11 -->\n<g id=\"node24\" class=\"node\">\n<title>11</title>\n<path fill=\"#ffffff\" stroke=\"#000000\" d=\"M2198,-95.5C2198,-95.5 2053,-95.5 2053,-95.5 2047,-95.5 2041,-89.5 2041,-83.5 2041,-83.5 2041,-54.5 2041,-54.5 2041,-48.5 2047,-42.5 2053,-42.5 2053,-42.5 2198,-42.5 2198,-42.5 2204,-42.5 2210,-48.5 2210,-54.5 2210,-54.5 2210,-83.5 2210,-83.5 2210,-89.5 2204,-95.5 2198,-95.5\"/>\n<text text-anchor=\"start\" x=\"2049\" y=\"-80.3\" font-family=\"Helvetica,sans-Serif\" font-size=\"14.00\" fill=\"#000000\">squared_error = 124.39</text>\n<text text-anchor=\"start\" x=\"2081.5\" y=\"-65.3\" font-family=\"Helvetica,sans-Serif\" font-size=\"14.00\" fill=\"#000000\">samples = 12</text>\n<text text-anchor=\"start\" x=\"2079\" y=\"-50.3\" font-family=\"Helvetica,sans-Serif\" font-size=\"14.00\" fill=\"#000000\">value = &#45;56.33</text>\n</g>\n<!-- 8&#45;&gt;11 -->\n<g id=\"edge23\" class=\"edge\">\n<title>8&#45;&gt;11</title>\n<path fill=\"none\" stroke=\"#000000\" d=\"M2125.5,-843.755C2125.5,-712.4277 2125.5,-241.5537 2125.5,-105.8457\"/>\n<polygon fill=\"#000000\" stroke=\"#000000\" points=\"2129.0001,-105.5711 2125.5,-95.5711 2122.0001,-105.5712 2129.0001,-105.5711\"/>\n</g>\n<!-- 12 -->\n<g id=\"node25\" class=\"node\">\n<title>12</title>\n<path fill=\"#eba069\" stroke=\"#000000\" d=\"M2444,-642C2444,-642 2197,-642 2197,-642 2191,-642 2185,-636 2185,-630 2185,-630 2185,-586 2185,-586 2185,-580 2191,-574 2197,-574 2197,-574 2444,-574 2444,-574 2450,-574 2456,-580 2456,-586 2456,-586 2456,-630 2456,-630 2456,-636 2450,-642 2444,-642\"/>\n<text text-anchor=\"start\" x=\"2193\" y=\"-626.8\" font-family=\"Helvetica,sans-Serif\" font-size=\"14.00\" fill=\"#000000\">lastReportedPosition.speedMPH ≤ 55.5</text>\n<text text-anchor=\"start\" x=\"2244\" y=\"-611.8\" font-family=\"Helvetica,sans-Serif\" font-size=\"14.00\" fill=\"#000000\">squared_error = 125.46</text>\n<text text-anchor=\"start\" x=\"2268.5\" y=\"-596.8\" font-family=\"Helvetica,sans-Serif\" font-size=\"14.00\" fill=\"#000000\">samples = 5101</text>\n<text text-anchor=\"start\" x=\"2278\" y=\"-581.8\" font-family=\"Helvetica,sans-Serif\" font-size=\"14.00\" fill=\"#000000\">value = &#45;4.63</text>\n</g>\n<!-- 8&#45;&gt;12 -->\n<g id=\"edge24\" class=\"edge\">\n<title>8&#45;&gt;12</title>\n<path fill=\"none\" stroke=\"#000000\" d=\"M2150.1969,-843.8043C2185.704,-794.6407 2251.1397,-704.0373 2289.7404,-650.5903\"/>\n<polygon fill=\"#000000\" stroke=\"#000000\" points=\"2292.6789,-652.4995 2295.6964,-642.3434 2287.0041,-648.401 2292.6789,-652.4995\"/>\n</g>\n<!-- 23 -->\n<g id=\"node26\" class=\"node\">\n<title>23</title>\n<path fill=\"#eb9e67\" stroke=\"#000000\" d=\"M2402.5,-373C2402.5,-373 2238.5,-373 2238.5,-373 2232.5,-373 2226.5,-367 2226.5,-361 2226.5,-361 2226.5,-317 2226.5,-317 2226.5,-311 2232.5,-305 2238.5,-305 2238.5,-305 2402.5,-305 2402.5,-305 2408.5,-305 2414.5,-311 2414.5,-317 2414.5,-317 2414.5,-361 2414.5,-361 2414.5,-367 2408.5,-373 2402.5,-373\"/>\n<text text-anchor=\"start\" x=\"2234.5\" y=\"-357.8\" font-family=\"Helvetica,sans-Serif\" font-size=\"14.00\" fill=\"#000000\">trainId.trainSymbol ≤ 135.5</text>\n<text text-anchor=\"start\" x=\"2244\" y=\"-342.8\" font-family=\"Helvetica,sans-Serif\" font-size=\"14.00\" fill=\"#000000\">squared_error = 116.09</text>\n<text text-anchor=\"start\" x=\"2268.5\" y=\"-327.8\" font-family=\"Helvetica,sans-Serif\" font-size=\"14.00\" fill=\"#000000\">samples = 4004</text>\n<text text-anchor=\"start\" x=\"2278\" y=\"-312.8\" font-family=\"Helvetica,sans-Serif\" font-size=\"14.00\" fill=\"#000000\">value = &#45;3.64</text>\n</g>\n<!-- 12&#45;&gt;23 -->\n<g id=\"edge25\" class=\"edge\">\n<title>12&#45;&gt;23</title>\n<path fill=\"none\" stroke=\"#000000\" d=\"M2320.5,-573.931C2320.5,-525.5541 2320.5,-436.9042 2320.5,-383.4215\"/>\n<polygon fill=\"#000000\" stroke=\"#000000\" points=\"2324.0001,-383.2162 2320.5,-373.2162 2317.0001,-383.2163 2324.0001,-383.2162\"/>\n</g>\n<!-- 24 -->\n<g id=\"node29\" class=\"node\">\n<title>24</title>\n<path fill=\"#eda674\" stroke=\"#000000\" d=\"M2920,-373C2920,-373 2453,-373 2453,-373 2447,-373 2441,-367 2441,-361 2441,-361 2441,-317 2441,-317 2441,-311 2447,-305 2453,-305 2453,-305 2920,-305 2920,-305 2926,-305 2932,-311 2932,-317 2932,-317 2932,-361 2932,-361 2932,-367 2926,-373 2920,-373\"/>\n<text text-anchor=\"start\" x=\"2449\" y=\"-357.8\" font-family=\"Helvetica,sans-Serif\" font-size=\"14.00\" fill=\"#000000\">lastReportedPosition.milepostLocation.milepost.milepostNumber ≤ 306.85</text>\n<text text-anchor=\"start\" x=\"2610\" y=\"-342.8\" font-family=\"Helvetica,sans-Serif\" font-size=\"14.00\" fill=\"#000000\">squared_error = 143.15</text>\n<text text-anchor=\"start\" x=\"2634.5\" y=\"-327.8\" font-family=\"Helvetica,sans-Serif\" font-size=\"14.00\" fill=\"#000000\">samples = 1097</text>\n<text text-anchor=\"start\" x=\"2644\" y=\"-312.8\" font-family=\"Helvetica,sans-Serif\" font-size=\"14.00\" fill=\"#000000\">value = &#45;8.22</text>\n</g>\n<!-- 12&#45;&gt;24 -->\n<g id=\"edge28\" class=\"edge\">\n<title>12&#45;&gt;24</title>\n<path fill=\"none\" stroke=\"#000000\" d=\"M2366.8542,-573.931C2434.5507,-524.1758 2560.2094,-431.8201 2632.161,-378.9377\"/>\n<polygon fill=\"#000000\" stroke=\"#000000\" points=\"2634.2493,-381.7465 2640.2343,-373.0041 2630.1037,-376.1061 2634.2493,-381.7465\"/>\n</g>\n<!-- 25 -->\n<g id=\"node27\" class=\"node\">\n<title>25</title>\n<path fill=\"#eba069\" stroke=\"#000000\" d=\"M2385,-95.5C2385,-95.5 2240,-95.5 2240,-95.5 2234,-95.5 2228,-89.5 2228,-83.5 2228,-83.5 2228,-54.5 2228,-54.5 2228,-48.5 2234,-42.5 2240,-42.5 2240,-42.5 2385,-42.5 2385,-42.5 2391,-42.5 2397,-48.5 2397,-54.5 2397,-54.5 2397,-83.5 2397,-83.5 2397,-89.5 2391,-95.5 2385,-95.5\"/>\n<text text-anchor=\"start\" x=\"2236\" y=\"-80.3\" font-family=\"Helvetica,sans-Serif\" font-size=\"14.00\" fill=\"#000000\">squared_error = 104.72</text>\n<text text-anchor=\"start\" x=\"2260.5\" y=\"-65.3\" font-family=\"Helvetica,sans-Serif\" font-size=\"14.00\" fill=\"#000000\">samples = 3536</text>\n<text text-anchor=\"start\" x=\"2270\" y=\"-50.3\" font-family=\"Helvetica,sans-Serif\" font-size=\"14.00\" fill=\"#000000\">value = &#45;4.55</text>\n</g>\n<!-- 23&#45;&gt;25 -->\n<g id=\"edge26\" class=\"edge\">\n<title>23&#45;&gt;25</title>\n<path fill=\"none\" stroke=\"#000000\" d=\"M2319.4868,-304.8043C2317.9763,-253.8264 2315.1457,-158.294 2313.5912,-105.8291\"/>\n<polygon fill=\"#000000\" stroke=\"#000000\" points=\"2317.0837,-105.5195 2313.289,-95.6276 2310.0868,-105.7269 2317.0837,-105.5195\"/>\n</g>\n<!-- 26 -->\n<g id=\"node28\" class=\"node\">\n<title>26</title>\n<path fill=\"#e89153\" stroke=\"#000000\" d=\"M2572,-95.5C2572,-95.5 2427,-95.5 2427,-95.5 2421,-95.5 2415,-89.5 2415,-83.5 2415,-83.5 2415,-54.5 2415,-54.5 2415,-48.5 2421,-42.5 2427,-42.5 2427,-42.5 2572,-42.5 2572,-42.5 2578,-42.5 2584,-48.5 2584,-54.5 2584,-54.5 2584,-83.5 2584,-83.5 2584,-89.5 2578,-95.5 2572,-95.5\"/>\n<text text-anchor=\"start\" x=\"2423\" y=\"-80.3\" font-family=\"Helvetica,sans-Serif\" font-size=\"14.00\" fill=\"#000000\">squared_error = 148.64</text>\n<text text-anchor=\"start\" x=\"2451.5\" y=\"-65.3\" font-family=\"Helvetica,sans-Serif\" font-size=\"14.00\" fill=\"#000000\">samples = 468</text>\n<text text-anchor=\"start\" x=\"2459.5\" y=\"-50.3\" font-family=\"Helvetica,sans-Serif\" font-size=\"14.00\" fill=\"#000000\">value = 3.23</text>\n</g>\n<!-- 23&#45;&gt;26 -->\n<g id=\"edge27\" class=\"edge\">\n<title>23&#45;&gt;26</title>\n<path fill=\"none\" stroke=\"#000000\" d=\"M2343.1705,-304.8043C2377.3197,-253.2943 2441.6268,-156.2948 2476.1635,-104.2004\"/>\n<polygon fill=\"#000000\" stroke=\"#000000\" points=\"2479.2384,-105.8963 2481.8469,-95.6276 2473.4041,-102.0283 2479.2384,-105.8963\"/>\n</g>\n<!-- 27 -->\n<g id=\"node30\" class=\"node\">\n<title>27</title>\n<path fill=\"#eca26d\" stroke=\"#000000\" d=\"M2759,-95.5C2759,-95.5 2614,-95.5 2614,-95.5 2608,-95.5 2602,-89.5 2602,-83.5 2602,-83.5 2602,-54.5 2602,-54.5 2602,-48.5 2608,-42.5 2614,-42.5 2614,-42.5 2759,-42.5 2759,-42.5 2765,-42.5 2771,-48.5 2771,-54.5 2771,-54.5 2771,-83.5 2771,-83.5 2771,-89.5 2765,-95.5 2759,-95.5\"/>\n<text text-anchor=\"start\" x=\"2610\" y=\"-80.3\" font-family=\"Helvetica,sans-Serif\" font-size=\"14.00\" fill=\"#000000\">squared_error = 111.07</text>\n<text text-anchor=\"start\" x=\"2638.5\" y=\"-65.3\" font-family=\"Helvetica,sans-Serif\" font-size=\"14.00\" fill=\"#000000\">samples = 832</text>\n<text text-anchor=\"start\" x=\"2644\" y=\"-50.3\" font-family=\"Helvetica,sans-Serif\" font-size=\"14.00\" fill=\"#000000\">value = &#45;5.72</text>\n</g>\n<!-- 24&#45;&gt;27 -->\n<g id=\"edge29\" class=\"edge\">\n<title>24&#45;&gt;27</title>\n<path fill=\"none\" stroke=\"#000000\" d=\"M2686.5,-304.8043C2686.5,-253.8264 2686.5,-158.294 2686.5,-105.8291\"/>\n<polygon fill=\"#000000\" stroke=\"#000000\" points=\"2690.0001,-105.6275 2686.5,-95.6276 2683.0001,-105.6276 2690.0001,-105.6275\"/>\n</g>\n<!-- 28 -->\n<g id=\"node31\" class=\"node\">\n<title>28</title>\n<path fill=\"#f0b58b\" stroke=\"#000000\" d=\"M2946,-95.5C2946,-95.5 2801,-95.5 2801,-95.5 2795,-95.5 2789,-89.5 2789,-83.5 2789,-83.5 2789,-54.5 2789,-54.5 2789,-48.5 2795,-42.5 2801,-42.5 2801,-42.5 2946,-42.5 2946,-42.5 2952,-42.5 2958,-48.5 2958,-54.5 2958,-54.5 2958,-83.5 2958,-83.5 2958,-89.5 2952,-95.5 2946,-95.5\"/>\n<text text-anchor=\"start\" x=\"2797\" y=\"-80.3\" font-family=\"Helvetica,sans-Serif\" font-size=\"14.00\" fill=\"#000000\">squared_error = 162.34</text>\n<text text-anchor=\"start\" x=\"2825.5\" y=\"-65.3\" font-family=\"Helvetica,sans-Serif\" font-size=\"14.00\" fill=\"#000000\">samples = 265</text>\n<text text-anchor=\"start\" x=\"2827\" y=\"-50.3\" font-family=\"Helvetica,sans-Serif\" font-size=\"14.00\" fill=\"#000000\">value = &#45;16.09</text>\n</g>\n<!-- 24&#45;&gt;28 -->\n<g id=\"edge30\" class=\"edge\">\n<title>24&#45;&gt;28</title>\n<path fill=\"none\" stroke=\"#000000\" d=\"M2710.1837,-304.8043C2745.9328,-253.1879 2813.318,-155.8937 2849.3437,-103.8781\"/>\n<polygon fill=\"#000000\" stroke=\"#000000\" points=\"2852.2415,-105.8412 2855.0579,-95.6276 2846.4869,-101.8556 2852.2415,-105.8412\"/>\n</g>\n</g>\n</svg>\n"
          },
          "metadata": {},
          "execution_count": 52
        }
      ]
    },
    {
      "cell_type": "code",
      "source": [
        "m = DecisionTreeRegressor(min_samples_leaf=10)\n",
        "m.fit(xs, y);"
      ],
      "metadata": {
        "id": "_wto32TJkud4"
      },
      "execution_count": 53,
      "outputs": []
    },
    {
      "cell_type": "code",
      "source": [
        "def r_mse(pred,y): return round(math.sqrt(((pred-y)**2).mean()), 6)\n",
        "def m_rmse(m, xs, y): return r_mse(m.predict(xs), y)"
      ],
      "metadata": {
        "id": "D53phc2JE5RC"
      },
      "execution_count": 54,
      "outputs": []
    },
    {
      "cell_type": "code",
      "source": [
        "m_rmse(m, xs, y)"
      ],
      "metadata": {
        "id": "8CYcTQHLHT4m",
        "outputId": "d568520d-8632-40ac-aca2-586b0e4942d2",
        "colab": {
          "base_uri": "https://localhost:8080/"
        }
      },
      "execution_count": 55,
      "outputs": [
        {
          "output_type": "execute_result",
          "data": {
            "text/plain": [
              "7.989693"
            ]
          },
          "metadata": {},
          "execution_count": 55
        }
      ]
    },
    {
      "cell_type": "code",
      "source": [
        "m_rmse(m, valid_xs, valid_y)"
      ],
      "metadata": {
        "id": "_oElvFDHHZHm",
        "outputId": "e35d2256-4227-45bf-c511-968dc22f96e3",
        "colab": {
          "base_uri": "https://localhost:8080/"
        }
      },
      "execution_count": 56,
      "outputs": [
        {
          "output_type": "execute_result",
          "data": {
            "text/plain": [
              "15.300205"
            ]
          },
          "metadata": {},
          "execution_count": 56
        }
      ]
    },
    {
      "cell_type": "code",
      "source": [
        "def rf_feat_importance(m, df):\n",
        "    return pd.DataFrame({'cols':df.columns, 'imp':m.feature_importances_}\n",
        "                       ).sort_values('imp', ascending=False)"
      ],
      "metadata": {
        "id": "oCKCSQSlab4o"
      },
      "execution_count": 57,
      "outputs": []
    },
    {
      "cell_type": "code",
      "source": [
        "fi = rf_feat_importance(m, xs)\n",
        "fi[:10]"
      ],
      "metadata": {
        "id": "jxENiQDXlYKl",
        "outputId": "c4715822-2425-4f4e-ac7c-70a8661ff626",
        "colab": {
          "base_uri": "https://localhost:8080/",
          "height": 363
        }
      },
      "execution_count": 58,
      "outputs": [
        {
          "output_type": "execute_result",
          "data": {
            "text/plain": [
              "                                                             cols       imp\n",
              "18                                  lastReportedPosition.speedMPH  0.271591\n",
              "19  lastReportedPosition.milepostLocation.milepost.milepostNumber  0.209222\n",
              "45                       lastReportedPosition.positionTimeElapsed  0.134429\n",
              "3                                             trainId.trainSymbol  0.070918\n",
              "39                                                       milepost  0.033342\n",
              "37                                                    trainLength  0.026939\n",
              "0                                             ptcLeadLocomotiveId  0.026093\n",
              "7                                                          mpIncr  0.024328\n",
              "26                            aotuTrainData.totalLocomotiveWeight  0.022686\n",
              "38                                                trailingTonnage  0.019777"
            ],
            "text/html": [
              "\n",
              "  <div id=\"df-10efab4e-a193-4a24-ace7-ac6557d94465\">\n",
              "    <div class=\"colab-df-container\">\n",
              "      <div>\n",
              "<style scoped>\n",
              "    .dataframe tbody tr th:only-of-type {\n",
              "        vertical-align: middle;\n",
              "    }\n",
              "\n",
              "    .dataframe tbody tr th {\n",
              "        vertical-align: top;\n",
              "    }\n",
              "\n",
              "    .dataframe thead th {\n",
              "        text-align: right;\n",
              "    }\n",
              "</style>\n",
              "<table border=\"1\" class=\"dataframe\">\n",
              "  <thead>\n",
              "    <tr style=\"text-align: right;\">\n",
              "      <th></th>\n",
              "      <th>cols</th>\n",
              "      <th>imp</th>\n",
              "    </tr>\n",
              "  </thead>\n",
              "  <tbody>\n",
              "    <tr>\n",
              "      <th>18</th>\n",
              "      <td>lastReportedPosition.speedMPH</td>\n",
              "      <td>0.271591</td>\n",
              "    </tr>\n",
              "    <tr>\n",
              "      <th>19</th>\n",
              "      <td>lastReportedPosition.milepostLocation.milepost.milepostNumber</td>\n",
              "      <td>0.209222</td>\n",
              "    </tr>\n",
              "    <tr>\n",
              "      <th>45</th>\n",
              "      <td>lastReportedPosition.positionTimeElapsed</td>\n",
              "      <td>0.134429</td>\n",
              "    </tr>\n",
              "    <tr>\n",
              "      <th>3</th>\n",
              "      <td>trainId.trainSymbol</td>\n",
              "      <td>0.070918</td>\n",
              "    </tr>\n",
              "    <tr>\n",
              "      <th>39</th>\n",
              "      <td>milepost</td>\n",
              "      <td>0.033342</td>\n",
              "    </tr>\n",
              "    <tr>\n",
              "      <th>37</th>\n",
              "      <td>trainLength</td>\n",
              "      <td>0.026939</td>\n",
              "    </tr>\n",
              "    <tr>\n",
              "      <th>0</th>\n",
              "      <td>ptcLeadLocomotiveId</td>\n",
              "      <td>0.026093</td>\n",
              "    </tr>\n",
              "    <tr>\n",
              "      <th>7</th>\n",
              "      <td>mpIncr</td>\n",
              "      <td>0.024328</td>\n",
              "    </tr>\n",
              "    <tr>\n",
              "      <th>26</th>\n",
              "      <td>aotuTrainData.totalLocomotiveWeight</td>\n",
              "      <td>0.022686</td>\n",
              "    </tr>\n",
              "    <tr>\n",
              "      <th>38</th>\n",
              "      <td>trailingTonnage</td>\n",
              "      <td>0.019777</td>\n",
              "    </tr>\n",
              "  </tbody>\n",
              "</table>\n",
              "</div>\n",
              "      <button class=\"colab-df-convert\" onclick=\"convertToInteractive('df-10efab4e-a193-4a24-ace7-ac6557d94465')\"\n",
              "              title=\"Convert this dataframe to an interactive table.\"\n",
              "              style=\"display:none;\">\n",
              "        \n",
              "  <svg xmlns=\"http://www.w3.org/2000/svg\" height=\"24px\"viewBox=\"0 0 24 24\"\n",
              "       width=\"24px\">\n",
              "    <path d=\"M0 0h24v24H0V0z\" fill=\"none\"/>\n",
              "    <path d=\"M18.56 5.44l.94 2.06.94-2.06 2.06-.94-2.06-.94-.94-2.06-.94 2.06-2.06.94zm-11 1L8.5 8.5l.94-2.06 2.06-.94-2.06-.94L8.5 2.5l-.94 2.06-2.06.94zm10 10l.94 2.06.94-2.06 2.06-.94-2.06-.94-.94-2.06-.94 2.06-2.06.94z\"/><path d=\"M17.41 7.96l-1.37-1.37c-.4-.4-.92-.59-1.43-.59-.52 0-1.04.2-1.43.59L10.3 9.45l-7.72 7.72c-.78.78-.78 2.05 0 2.83L4 21.41c.39.39.9.59 1.41.59.51 0 1.02-.2 1.41-.59l7.78-7.78 2.81-2.81c.8-.78.8-2.07 0-2.86zM5.41 20L4 18.59l7.72-7.72 1.47 1.35L5.41 20z\"/>\n",
              "  </svg>\n",
              "      </button>\n",
              "      \n",
              "  <style>\n",
              "    .colab-df-container {\n",
              "      display:flex;\n",
              "      flex-wrap:wrap;\n",
              "      gap: 12px;\n",
              "    }\n",
              "\n",
              "    .colab-df-convert {\n",
              "      background-color: #E8F0FE;\n",
              "      border: none;\n",
              "      border-radius: 50%;\n",
              "      cursor: pointer;\n",
              "      display: none;\n",
              "      fill: #1967D2;\n",
              "      height: 32px;\n",
              "      padding: 0 0 0 0;\n",
              "      width: 32px;\n",
              "    }\n",
              "\n",
              "    .colab-df-convert:hover {\n",
              "      background-color: #E2EBFA;\n",
              "      box-shadow: 0px 1px 2px rgba(60, 64, 67, 0.3), 0px 1px 3px 1px rgba(60, 64, 67, 0.15);\n",
              "      fill: #174EA6;\n",
              "    }\n",
              "\n",
              "    [theme=dark] .colab-df-convert {\n",
              "      background-color: #3B4455;\n",
              "      fill: #D2E3FC;\n",
              "    }\n",
              "\n",
              "    [theme=dark] .colab-df-convert:hover {\n",
              "      background-color: #434B5C;\n",
              "      box-shadow: 0px 1px 3px 1px rgba(0, 0, 0, 0.15);\n",
              "      filter: drop-shadow(0px 1px 2px rgba(0, 0, 0, 0.3));\n",
              "      fill: #FFFFFF;\n",
              "    }\n",
              "  </style>\n",
              "\n",
              "      <script>\n",
              "        const buttonEl =\n",
              "          document.querySelector('#df-10efab4e-a193-4a24-ace7-ac6557d94465 button.colab-df-convert');\n",
              "        buttonEl.style.display =\n",
              "          google.colab.kernel.accessAllowed ? 'block' : 'none';\n",
              "\n",
              "        async function convertToInteractive(key) {\n",
              "          const element = document.querySelector('#df-10efab4e-a193-4a24-ace7-ac6557d94465');\n",
              "          const dataTable =\n",
              "            await google.colab.kernel.invokeFunction('convertToInteractive',\n",
              "                                                     [key], {});\n",
              "          if (!dataTable) return;\n",
              "\n",
              "          const docLinkHtml = 'Like what you see? Visit the ' +\n",
              "            '<a target=\"_blank\" href=https://colab.research.google.com/notebooks/data_table.ipynb>data table notebook</a>'\n",
              "            + ' to learn more about interactive tables.';\n",
              "          element.innerHTML = '';\n",
              "          dataTable['output_type'] = 'display_data';\n",
              "          await google.colab.output.renderOutput(dataTable, element);\n",
              "          const docLink = document.createElement('div');\n",
              "          docLink.innerHTML = docLinkHtml;\n",
              "          element.appendChild(docLink);\n",
              "        }\n",
              "      </script>\n",
              "    </div>\n",
              "  </div>\n",
              "  "
            ]
          },
          "metadata": {},
          "execution_count": 58
        }
      ]
    },
    {
      "cell_type": "code",
      "source": [
        "ax = xs['lastReportedPosition.speedMPH'].hist(bins=100)\n"
      ],
      "metadata": {
        "id": "W_xHGvS4mTAv",
        "outputId": "5d409636-cfa2-46c7-8ef0-15561255c9fa",
        "colab": {
          "base_uri": "https://localhost:8080/",
          "height": 265
        }
      },
      "execution_count": 79,
      "outputs": [
        {
          "output_type": "display_data",
          "data": {
            "text/plain": [
              "<Figure size 432x288 with 1 Axes>"
            ],
            "image/png": "[encoded data removed]"
          },
          "metadata": {
            "needs_background": "light"
          }
        }
      ]
    },
    {
      "cell_type": "markdown",
      "source": [
        "This is sort of a dur moment, saying \"Speeds don't change a lot one milepost to the next\".  "
      ],
      "metadata": {
        "id": "CmpVELOUoF-l"
      }
    },
    {
      "cell_type": "markdown",
      "source": [
        "#Random Forest"
      ],
      "metadata": {
        "id": "-iGNWlJDmQrV"
      }
    },
    {
      "cell_type": "code",
      "source": [
        "def randomForest(xs, y, n_estimators=50, max_samples=18000,\n",
        "       max_features=0.5, min_samples_leaf=10, **kwargs):\n",
        "    return RandomForestRegressor(n_jobs=-1, n_estimators=n_estimators,\n",
        "        max_samples=max_samples, max_features=max_features,\n",
        "        min_samples_leaf=min_samples_leaf, oob_score=True).fit(xs, y)"
      ],
      "metadata": {
        "id": "FllkOgNkUTGW"
      },
      "execution_count": 95,
      "outputs": []
    },
    {
      "cell_type": "code",
      "source": [
        "m = randomForest(xs, y);"
      ],
      "metadata": {
        "id": "OqX5AcTWVRXE"
      },
      "execution_count": 96,
      "outputs": []
    },
    {
      "cell_type": "code",
      "source": [
        "m_rmse(m, xs, y), m_rmse(m, valid_xs, valid_y)"
      ],
      "metadata": {
        "id": "33ncywqjVcwn",
        "outputId": "bf6735e1-b944-426b-a2ef-35145af1ec07",
        "colab": {
          "base_uri": "https://localhost:8080/"
        }
      },
      "execution_count": 97,
      "outputs": [
        {
          "output_type": "execute_result",
          "data": {
            "text/plain": [
              "(8.27119, 11.633249)"
            ]
          },
          "metadata": {},
          "execution_count": 97
        }
      ]
    },
    {
      "cell_type": "code",
      "source": [
        ""
      ],
      "metadata": {
        "id": "-CxngEnHofXO"
      },
      "execution_count": 62,
      "outputs": []
    },
    {
      "cell_type": "code",
      "source": [
        "preds = np.stack([t.predict(valid_xs) for t in m.estimators_])"
      ],
      "metadata": {
        "id": "Dg6iyZCIW0Nt"
      },
      "execution_count": null,
      "outputs": []
    },
    {
      "cell_type": "code",
      "source": [
        "r_mse(preds.mean(0), valid_y)"
      ],
      "metadata": {
        "id": "5UldrkUhXFbi",
        "outputId": "64680678-b2d9-47ba-c564-12c370a862d4",
        "colab": {
          "base_uri": "https://localhost:8080/"
        }
      },
      "execution_count": 90,
      "outputs": [
        {
          "output_type": "execute_result",
          "data": {
            "text/plain": [
              "11.816036"
            ]
          },
          "metadata": {},
          "execution_count": 90
        }
      ]
    },
    {
      "cell_type": "code",
      "source": [
        ""
      ],
      "metadata": {
        "id": "wPJF4i2lqk-K"
      },
      "execution_count": 64,
      "outputs": []
    },
    {
      "cell_type": "code",
      "source": [
        "plt.plot([r_mse(preds[:i+1].mean(0), valid_y) for i in range(50)]);"
      ],
      "metadata": {
        "id": "eT0fXh6uXIp1",
        "outputId": "33b72651-26ae-4560-a986-bfd265573c6c",
        "colab": {
          "base_uri": "https://localhost:8080/",
          "height": 265
        }
      },
      "execution_count": 91,
      "outputs": [
        {
          "output_type": "display_data",
          "data": {
            "text/plain": [
              "<Figure size 432x288 with 1 Axes>"
            ],
            "image/png": "[encoded data removed]"
          },
          "metadata": {
            "needs_background": "light"
          }
        }
      ]
    },
    {
      "cell_type": "markdown",
      "source": [
        "### Out-of-Bag Error"
      ],
      "metadata": {
        "id": "GN-VS3_2YsOd"
      }
    },
    {
      "cell_type": "code",
      "source": [
        "r_mse(m.oob_prediction_, y)"
      ],
      "metadata": {
        "id": "tvwS19-6Yc20",
        "outputId": "9e3e0459-7bfd-4911-b650-4a2e00984e01",
        "colab": {
          "base_uri": "https://localhost:8080/"
        }
      },
      "execution_count": 66,
      "outputs": [
        {
          "output_type": "execute_result",
          "data": {
            "text/plain": [
              "9.595041"
            ]
          },
          "metadata": {},
          "execution_count": 66
        }
      ]
    },
    {
      "cell_type": "code",
      "source": [
        ""
      ],
      "metadata": {
        "id": "URHsHfuMZDAS"
      },
      "execution_count": 66,
      "outputs": []
    },
    {
      "cell_type": "markdown",
      "source": [
        "- How confident are we in our predictions using a particular row of data?\n",
        "- For predicting with a particular row of data, what were the most important factors, and how did they influence that prediction?\n",
        "- Which columns are the strongest predictors, which can we ignore?\n",
        "- Which columns are effectively redundant with each other, for purposes of prediction?\n",
        "- How do predictions vary, as we vary these columns?\n"
      ],
      "metadata": {
        "id": "-jSxQWTZZDfx"
      }
    },
    {
      "cell_type": "code",
      "source": [
        "preds = np.stack([t.predict(valid_xs) for t in m.estimators_])"
      ],
      "metadata": {
        "id": "eS53q1RUZRva"
      },
      "execution_count": null,
      "outputs": []
    },
    {
      "cell_type": "code",
      "source": [
        "preds.shape"
      ],
      "metadata": {
        "id": "quArhZFkZtq_",
        "outputId": "b50d5371-abc0-465e-f7de-3a11398ca289",
        "colab": {
          "base_uri": "https://localhost:8080/"
        }
      },
      "execution_count": 68,
      "outputs": [
        {
          "output_type": "execute_result",
          "data": {
            "text/plain": [
              "(50, 9426)"
            ]
          },
          "metadata": {},
          "execution_count": 68
        }
      ]
    },
    {
      "cell_type": "code",
      "source": [
        "preds_std = preds.std(0)"
      ],
      "metadata": {
        "id": "xZCBhV9MZxSH"
      },
      "execution_count": 69,
      "outputs": []
    },
    {
      "cell_type": "code",
      "source": [
        "print(preds.mean(0)[:15])\n",
        "print(valid_y[:15])"
      ],
      "metadata": {
        "id": "ZvKvldDdZ44S",
        "outputId": "767b1fca-4376-4444-e06c-a10240ee409b",
        "colab": {
          "base_uri": "https://localhost:8080/"
        }
      },
      "execution_count": 70,
      "outputs": [
        {
          "output_type": "stream",
          "name": "stdout",
          "text": [
            "[ 7.84578644  7.81087374  7.81087374 -1.04908297 -1.36753824  7.11876479  7.69257431  7.4135267   6.41965512 -1.75513647 -1.38574698  6.84568038 -1.29038167 -1.31651804 -0.3697417 ]\n",
            "0      -9\n",
            "1     -10\n",
            "2     -10\n",
            "3     -19\n",
            "4     -19\n",
            "6      -3\n",
            "7      -3\n",
            "8      -4\n",
            "108     1\n",
            "109     2\n",
            "110     3\n",
            "160     6\n",
            "161     6\n",
            "162     5\n",
            "163     4\n",
            "Name: nextSpeed, dtype: int8\n"
          ]
        }
      ]
    },
    {
      "cell_type": "markdown",
      "source": [
        "# FEATURE Importance"
      ],
      "metadata": {
        "id": "tkENwKVIaPXc"
      }
    },
    {
      "cell_type": "code",
      "source": [
        "fi = rf_feat_importance(m, xs)\n",
        "fi[:20]"
      ],
      "metadata": {
        "id": "_xddcBHXaj9O",
        "outputId": "c3b07b2e-b520-4195-af32-5bd00d2861eb",
        "colab": {
          "base_uri": "https://localhost:8080/",
          "height": 676
        }
      },
      "execution_count": 71,
      "outputs": [
        {
          "output_type": "execute_result",
          "data": {
            "text/plain": [
              "                                                             cols       imp\n",
              "18                                  lastReportedPosition.speedMPH  0.264440\n",
              "19  lastReportedPosition.milepostLocation.milepost.milepostNumber  0.171789\n",
              "39                                                       milepost  0.092256\n",
              "45                       lastReportedPosition.positionTimeElapsed  0.092124\n",
              "3                                             trainId.trainSymbol  0.048282\n",
              "0                                             ptcLeadLocomotiveId  0.029727\n",
              "38                                                trailingTonnage  0.027790\n",
              "37                                                    trainLength  0.027553\n",
              "24                                   aotuTrainData.totalCarWeight  0.024012\n",
              "26                            aotuTrainData.totalLocomotiveWeight  0.023316\n",
              "25                                   aotuTrainData.totalCarLength  0.022206\n",
              "36                                                  emptyCarCount  0.020440\n",
              "35                                                 loadedCarCount  0.020297\n",
              "7                                                          mpIncr  0.018827\n",
              "27                            aotuTrainData.totalLocomotiveLength  0.018078\n",
              "4                                               trainId.trainDate  0.017116\n",
              "9                                                   workLocations  0.013324\n",
              "29                              aotuTrainData.heavy143TonCarCount  0.011898\n",
              "6                 lastReportedPosition.milepostLocation.trackName  0.011524\n",
              "20                                     aotuTrainData.priorityCode  0.008130"
            ],
            "text/html": [
              "\n",
              "  <div id=\"df-2ca65408-3835-4e43-bd3d-b522863f93d4\">\n",
              "    <div class=\"colab-df-container\">\n",
              "      <div>\n",
              "<style scoped>\n",
              "    .dataframe tbody tr th:only-of-type {\n",
              "        vertical-align: middle;\n",
              "    }\n",
              "\n",
              "    .dataframe tbody tr th {\n",
              "        vertical-align: top;\n",
              "    }\n",
              "\n",
              "    .dataframe thead th {\n",
              "        text-align: right;\n",
              "    }\n",
              "</style>\n",
              "<table border=\"1\" class=\"dataframe\">\n",
              "  <thead>\n",
              "    <tr style=\"text-align: right;\">\n",
              "      <th></th>\n",
              "      <th>cols</th>\n",
              "      <th>imp</th>\n",
              "    </tr>\n",
              "  </thead>\n",
              "  <tbody>\n",
              "    <tr>\n",
              "      <th>18</th>\n",
              "      <td>lastReportedPosition.speedMPH</td>\n",
              "      <td>0.264440</td>\n",
              "    </tr>\n",
              "    <tr>\n",
              "      <th>19</th>\n",
              "      <td>lastReportedPosition.milepostLocation.milepost.milepostNumber</td>\n",
              "      <td>0.171789</td>\n",
              "    </tr>\n",
              "    <tr>\n",
              "      <th>39</th>\n",
              "      <td>milepost</td>\n",
              "      <td>0.092256</td>\n",
              "    </tr>\n",
              "    <tr>\n",
              "      <th>45</th>\n",
              "      <td>lastReportedPosition.positionTimeElapsed</td>\n",
              "      <td>0.092124</td>\n",
              "    </tr>\n",
              "    <tr>\n",
              "      <th>3</th>\n",
              "      <td>trainId.trainSymbol</td>\n",
              "      <td>0.048282</td>\n",
              "    </tr>\n",
              "    <tr>\n",
              "      <th>0</th>\n",
              "      <td>ptcLeadLocomotiveId</td>\n",
              "      <td>0.029727</td>\n",
              "    </tr>\n",
              "    <tr>\n",
              "      <th>38</th>\n",
              "      <td>trailingTonnage</td>\n",
              "      <td>0.027790</td>\n",
              "    </tr>\n",
              "    <tr>\n",
              "      <th>37</th>\n",
              "      <td>trainLength</td>\n",
              "      <td>0.027553</td>\n",
              "    </tr>\n",
              "    <tr>\n",
              "      <th>24</th>\n",
              "      <td>aotuTrainData.totalCarWeight</td>\n",
              "      <td>0.024012</td>\n",
              "    </tr>\n",
              "    <tr>\n",
              "      <th>26</th>\n",
              "      <td>aotuTrainData.totalLocomotiveWeight</td>\n",
              "      <td>0.023316</td>\n",
              "    </tr>\n",
              "    <tr>\n",
              "      <th>25</th>\n",
              "      <td>aotuTrainData.totalCarLength</td>\n",
              "      <td>0.022206</td>\n",
              "    </tr>\n",
              "    <tr>\n",
              "      <th>36</th>\n",
              "      <td>emptyCarCount</td>\n",
              "      <td>0.020440</td>\n",
              "    </tr>\n",
              "    <tr>\n",
              "      <th>35</th>\n",
              "      <td>loadedCarCount</td>\n",
              "      <td>0.020297</td>\n",
              "    </tr>\n",
              "    <tr>\n",
              "      <th>7</th>\n",
              "      <td>mpIncr</td>\n",
              "      <td>0.018827</td>\n",
              "    </tr>\n",
              "    <tr>\n",
              "      <th>27</th>\n",
              "      <td>aotuTrainData.totalLocomotiveLength</td>\n",
              "      <td>0.018078</td>\n",
              "    </tr>\n",
              "    <tr>\n",
              "      <th>4</th>\n",
              "      <td>trainId.trainDate</td>\n",
              "      <td>0.017116</td>\n",
              "    </tr>\n",
              "    <tr>\n",
              "      <th>9</th>\n",
              "      <td>workLocations</td>\n",
              "      <td>0.013324</td>\n",
              "    </tr>\n",
              "    <tr>\n",
              "      <th>29</th>\n",
              "      <td>aotuTrainData.heavy143TonCarCount</td>\n",
              "      <td>0.011898</td>\n",
              "    </tr>\n",
              "    <tr>\n",
              "      <th>6</th>\n",
              "      <td>lastReportedPosition.milepostLocation.trackName</td>\n",
              "      <td>0.011524</td>\n",
              "    </tr>\n",
              "    <tr>\n",
              "      <th>20</th>\n",
              "      <td>aotuTrainData.priorityCode</td>\n",
              "      <td>0.008130</td>\n",
              "    </tr>\n",
              "  </tbody>\n",
              "</table>\n",
              "</div>\n",
              "      <button class=\"colab-df-convert\" onclick=\"convertToInteractive('df-2ca65408-3835-4e43-bd3d-b522863f93d4')\"\n",
              "              title=\"Convert this dataframe to an interactive table.\"\n",
              "              style=\"display:none;\">\n",
              "        \n",
              "  <svg xmlns=\"http://www.w3.org/2000/svg\" height=\"24px\"viewBox=\"0 0 24 24\"\n",
              "       width=\"24px\">\n",
              "    <path d=\"M0 0h24v24H0V0z\" fill=\"none\"/>\n",
              "    <path d=\"M18.56 5.44l.94 2.06.94-2.06 2.06-.94-2.06-.94-.94-2.06-.94 2.06-2.06.94zm-11 1L8.5 8.5l.94-2.06 2.06-.94-2.06-.94L8.5 2.5l-.94 2.06-2.06.94zm10 10l.94 2.06.94-2.06 2.06-.94-2.06-.94-.94-2.06-.94 2.06-2.06.94z\"/><path d=\"M17.41 7.96l-1.37-1.37c-.4-.4-.92-.59-1.43-.59-.52 0-1.04.2-1.43.59L10.3 9.45l-7.72 7.72c-.78.78-.78 2.05 0 2.83L4 21.41c.39.39.9.59 1.41.59.51 0 1.02-.2 1.41-.59l7.78-7.78 2.81-2.81c.8-.78.8-2.07 0-2.86zM5.41 20L4 18.59l7.72-7.72 1.47 1.35L5.41 20z\"/>\n",
              "  </svg>\n",
              "      </button>\n",
              "      \n",
              "  <style>\n",
              "    .colab-df-container {\n",
              "      display:flex;\n",
              "      flex-wrap:wrap;\n",
              "      gap: 12px;\n",
              "    }\n",
              "\n",
              "    .colab-df-convert {\n",
              "      background-color: #E8F0FE;\n",
              "      border: none;\n",
              "      border-radius: 50%;\n",
              "      cursor: pointer;\n",
              "      display: none;\n",
              "      fill: #1967D2;\n",
              "      height: 32px;\n",
              "      padding: 0 0 0 0;\n",
              "      width: 32px;\n",
              "    }\n",
              "\n",
              "    .colab-df-convert:hover {\n",
              "      background-color: #E2EBFA;\n",
              "      box-shadow: 0px 1px 2px rgba(60, 64, 67, 0.3), 0px 1px 3px 1px rgba(60, 64, 67, 0.15);\n",
              "      fill: #174EA6;\n",
              "    }\n",
              "\n",
              "    [theme=dark] .colab-df-convert {\n",
              "      background-color: #3B4455;\n",
              "      fill: #D2E3FC;\n",
              "    }\n",
              "\n",
              "    [theme=dark] .colab-df-convert:hover {\n",
              "      background-color: #434B5C;\n",
              "      box-shadow: 0px 1px 3px 1px rgba(0, 0, 0, 0.15);\n",
              "      filter: drop-shadow(0px 1px 2px rgba(0, 0, 0, 0.3));\n",
              "      fill: #FFFFFF;\n",
              "    }\n",
              "  </style>\n",
              "\n",
              "      <script>\n",
              "        const buttonEl =\n",
              "          document.querySelector('#df-2ca65408-3835-4e43-bd3d-b522863f93d4 button.colab-df-convert');\n",
              "        buttonEl.style.display =\n",
              "          google.colab.kernel.accessAllowed ? 'block' : 'none';\n",
              "\n",
              "        async function convertToInteractive(key) {\n",
              "          const element = document.querySelector('#df-2ca65408-3835-4e43-bd3d-b522863f93d4');\n",
              "          const dataTable =\n",
              "            await google.colab.kernel.invokeFunction('convertToInteractive',\n",
              "                                                     [key], {});\n",
              "          if (!dataTable) return;\n",
              "\n",
              "          const docLinkHtml = 'Like what you see? Visit the ' +\n",
              "            '<a target=\"_blank\" href=https://colab.research.google.com/notebooks/data_table.ipynb>data table notebook</a>'\n",
              "            + ' to learn more about interactive tables.';\n",
              "          element.innerHTML = '';\n",
              "          dataTable['output_type'] = 'display_data';\n",
              "          await google.colab.output.renderOutput(dataTable, element);\n",
              "          const docLink = document.createElement('div');\n",
              "          docLink.innerHTML = docLinkHtml;\n",
              "          element.appendChild(docLink);\n",
              "        }\n",
              "      </script>\n",
              "    </div>\n",
              "  </div>\n",
              "  "
            ]
          },
          "metadata": {},
          "execution_count": 71
        }
      ]
    },
    {
      "cell_type": "code",
      "source": [
        "def plot_fi(fi):\n",
        "    return fi.plot('cols', 'imp', 'barh', figsize=(12,7), legend=False)\n",
        "\n",
        "plot_fi(fi[:30]);"
      ],
      "metadata": {
        "id": "PrrzmK6AflwF",
        "outputId": "d9c14dcd-eabd-411b-b769-90b2439e6ae2",
        "colab": {
          "base_uri": "https://localhost:8080/",
          "height": 428
        }
      },
      "execution_count": 72,
      "outputs": [
        {
          "output_type": "display_data",
          "data": {
            "text/plain": [
              "<Figure size 864x504 with 1 Axes>"
            ],
            "image/png": "[encoded data removed]"
          },
          "metadata": {
            "needs_background": "light"
          }
        }
      ]
    },
    {
      "cell_type": "markdown",
      "source": [
        "Remove low importance columns"
      ],
      "metadata": {
        "id": "ic6LbeWIf2EQ"
      }
    },
    {
      "cell_type": "code",
      "source": [
        "to_keep = fi[fi.imp>0.0002].cols\n",
        "len(to_keep)"
      ],
      "metadata": {
        "id": "jaWtqZdQfwmy",
        "outputId": "00bd415e-debc-418b-abf6-819743784f06",
        "colab": {
          "base_uri": "https://localhost:8080/"
        }
      },
      "execution_count": 73,
      "outputs": [
        {
          "output_type": "execute_result",
          "data": {
            "text/plain": [
              "29"
            ]
          },
          "metadata": {},
          "execution_count": 73
        }
      ]
    },
    {
      "cell_type": "code",
      "source": [
        "xs_imp = xs[to_keep]\n",
        "valid_xs_imp = valid_xs[to_keep]"
      ],
      "metadata": {
        "id": "KK47uCFsgAYv"
      },
      "execution_count": 74,
      "outputs": []
    },
    {
      "cell_type": "code",
      "source": [
        "m = randomForest(xs_imp, y)"
      ],
      "metadata": {
        "id": "GgFy875_gGp4"
      },
      "execution_count": 75,
      "outputs": []
    },
    {
      "cell_type": "code",
      "source": [
        "m_rmse(m, xs_imp, y), m_rmse(m, valid_xs_imp, valid_y)"
      ],
      "metadata": {
        "id": "5e5LZrqmgJf2",
        "outputId": "2104b098-49d4-4cd2-b8ab-2311d1c1ac0b",
        "colab": {
          "base_uri": "https://localhost:8080/"
        }
      },
      "execution_count": 76,
      "outputs": [
        {
          "output_type": "execute_result",
          "data": {
            "text/plain": [
              "(8.34641, 11.913327)"
            ]
          },
          "metadata": {},
          "execution_count": 76
        }
      ]
    },
    {
      "cell_type": "code",
      "source": [
        "plot_fi(rf_feat_importance(m, xs_imp));"
      ],
      "metadata": {
        "id": "5Szx4cKsgKPL",
        "outputId": "316dbf1c-908d-45c1-b0d8-985616c88b35",
        "colab": {
          "base_uri": "https://localhost:8080/",
          "height": 428
        }
      },
      "execution_count": 77,
      "outputs": [
        {
          "output_type": "display_data",
          "data": {
            "text/plain": [
              "<Figure size 864x504 with 1 Axes>"
            ],
            "image/png": "[encoded data removed]"
          },
          "metadata": {
            "needs_background": "light"
          }
        }
      ]
    },
    {
      "cell_type": "code",
      "source": [
        "fastai.cluster_columns(xs_imp)"
      ],
      "metadata": {
        "id": "ZRqtok8LhwlR",
        "outputId": "98dc759f-3aa8-40f6-e058-5cca95c6780f",
        "colab": {
          "base_uri": "https://localhost:8080/",
          "height": 374
        }
      },
      "execution_count": 78,
      "outputs": [
        {
          "output_type": "display_data",
          "data": {
            "text/plain": [
              "<Figure size 720x432 with 1 Axes>"
            ],
            "image/png": "[encoded data removed]"
          },
          "metadata": {
            "needs_background": "light"
          }
        }
      ]
    }
  ],
  "metadata": {
    "colab": {
      "name": "MLModel2-2-10MinutesLater.ipynb",
      "provenance": [],
      "collapsed_sections": []
    },
    "interpreter": {
      "hash": "99fae7d265480b5fbb0cf965db398c4d2d7b17b55f6259418c7dbfe0de01ea90"
    },
    "kernelspec": {
      "display_name": "Python 3 (ipykernel)",
      "language": "python",
      "name": "python3"
    },
    "language_info": {
      "codemirror_mode": {
        "name": "ipython",
        "version": 3
      },
      "file_extension": ".py",
      "mimetype": "text/x-python",
      "name": "python",
      "nbconvert_exporter": "python",
      "pygments_lexer": "ipython3",
      "version": "3.9.12"
    }
  },
  "nbformat": 4,
  "nbformat_minor": 0
}