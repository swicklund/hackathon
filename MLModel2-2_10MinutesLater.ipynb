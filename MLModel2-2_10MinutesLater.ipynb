{
  "cells": [
    {
      "cell_type": "markdown",
      "metadata": {
        "id": "view-in-github",
        "colab_type": "text"
      },
      "source": [
        "<a href=\"https://colab.research.google.com/github/swicklund/hackathon/blob/main/MLModel2-2_10MinutesLater.ipynb\" target=\"_parent\"><img src=\"https://colab.research.google.com/assets/colab-badge.svg\" alt=\"Open In Colab\"/></a>"
      ]
    },
    {
      "cell_type": "markdown",
      "source": [
        "This Model uses a Random Forest at attempt to look ahead 10 minutes (rather than 1 Mile)"
      ],
      "metadata": {
        "id": "wRPLxv92opV6"
      }
    },
    {
      "cell_type": "code",
      "execution_count": 1,
      "metadata": {
        "id": "f18J8QM17E0a",
        "outputId": "e14cea20-cd44-47e2-aff1-39f8bf14d7f4",
        "colab": {
          "base_uri": "https://localhost:8080/"
        }
      },
      "outputs": [
        {
          "output_type": "stream",
          "name": "stdout",
          "text": [
            "\u001b[K     |████████████████████████████████| 719 kB 4.7 MB/s \n",
            "\u001b[K     |████████████████████████████████| 362 kB 24.3 MB/s \n",
            "\u001b[K     |████████████████████████████████| 1.2 MB 4.2 MB/s \n",
            "\u001b[K     |████████████████████████████████| 4.4 MB 10.5 MB/s \n",
            "\u001b[K     |████████████████████████████████| 140 kB 45.2 MB/s \n",
            "\u001b[K     |████████████████████████████████| 101 kB 5.0 MB/s \n",
            "\u001b[K     |████████████████████████████████| 212 kB 41.6 MB/s \n",
            "\u001b[K     |████████████████████████████████| 1.1 MB 34.9 MB/s \n",
            "\u001b[K     |████████████████████████████████| 596 kB 11.5 MB/s \n",
            "\u001b[K     |████████████████████████████████| 127 kB 47.8 MB/s \n",
            "\u001b[K     |████████████████████████████████| 144 kB 11.5 MB/s \n",
            "\u001b[K     |████████████████████████████████| 271 kB 10.5 MB/s \n",
            "\u001b[K     |████████████████████████████████| 94 kB 1.7 MB/s \n",
            "\u001b[K     |████████████████████████████████| 6.6 MB 40.3 MB/s \n",
            "\u001b[31mERROR: pip's dependency resolver does not currently take into account all the packages that are installed. This behaviour is the source of the following dependency conflicts.\n",
            "datascience 0.10.6 requires folium==0.2.1, but you have folium 0.8.3 which is incompatible.\u001b[0m\n",
            "\u001b[?25hMounted at /content/gdrive\n"
          ]
        }
      ],
      "source": [
        "!pip install -Uqq fastbook\n",
        "import os\n",
        "\n",
        "import IPython\n",
        "import IPython.display\n",
        "import matplotlib as mpl\n",
        "import matplotlib.pyplot as plt\n",
        "import numpy as np\n",
        "import fastbook as fastai\n",
        "import pandas as pd\n",
        "from pandas.io.json import json_normalize\n",
        "import seaborn as sns\n",
        "import tensorflow as tf\n",
        "import json\n",
        "import zipfile\n",
        "from io import BytesIO\n",
        "import torch\n",
        "import math\n",
        "from google.colab import files\n",
        "from google.colab import auth\n",
        "from datetime import datetime, timedelta\n",
        "\n",
        "fastai.setup_book()\n",
        "from fastai import tabular\n"
      ]
    },
    {
      "cell_type": "markdown",
      "source": [
        ""
      ],
      "metadata": {
        "id": "fBJOHbFHooJs"
      }
    },
    {
      "cell_type": "code",
      "source": [
        "!pip install dtreeviz"
      ],
      "metadata": {
        "colab": {
          "base_uri": "https://localhost:8080/"
        },
        "id": "qfYJfFKSB6nm",
        "outputId": "1b4958d9-4708-4449-8dd4-9b2ec7a65771"
      },
      "execution_count": 2,
      "outputs": [
        {
          "output_type": "stream",
          "name": "stdout",
          "text": [
            "Looking in indexes: https://pypi.org/simple, https://us-python.pkg.dev/colab-wheels/public/simple/\n",
            "Collecting dtreeviz\n",
            "  Downloading dtreeviz-1.3.6.tar.gz (61 kB)\n",
            "\u001b[K     |████████████████████████████████| 61 kB 180 kB/s \n",
            "\u001b[?25hRequirement already satisfied: graphviz>=0.9 in /usr/local/lib/python3.7/dist-packages (from dtreeviz) (0.10.1)\n",
            "Requirement already satisfied: pandas in /usr/local/lib/python3.7/dist-packages (from dtreeviz) (1.3.5)\n",
            "Requirement already satisfied: numpy in /usr/local/lib/python3.7/dist-packages (from dtreeviz) (1.21.6)\n",
            "Requirement already satisfied: scikit-learn in /usr/local/lib/python3.7/dist-packages (from dtreeviz) (1.0.2)\n",
            "Requirement already satisfied: matplotlib in /usr/local/lib/python3.7/dist-packages (from dtreeviz) (3.2.2)\n",
            "Collecting colour\n",
            "  Downloading colour-0.1.5-py2.py3-none-any.whl (23 kB)\n",
            "Requirement already satisfied: pytest in /usr/local/lib/python3.7/dist-packages (from dtreeviz) (3.6.4)\n",
            "Requirement already satisfied: pyparsing!=2.0.4,!=2.1.2,!=2.1.6,>=2.0.1 in /usr/local/lib/python3.7/dist-packages (from matplotlib->dtreeviz) (3.0.9)\n",
            "Requirement already satisfied: kiwisolver>=1.0.1 in /usr/local/lib/python3.7/dist-packages (from matplotlib->dtreeviz) (1.4.3)\n",
            "Requirement already satisfied: cycler>=0.10 in /usr/local/lib/python3.7/dist-packages (from matplotlib->dtreeviz) (0.11.0)\n",
            "Requirement already satisfied: python-dateutil>=2.1 in /usr/local/lib/python3.7/dist-packages (from matplotlib->dtreeviz) (2.8.2)\n",
            "Requirement already satisfied: typing-extensions in /usr/local/lib/python3.7/dist-packages (from kiwisolver>=1.0.1->matplotlib->dtreeviz) (4.1.1)\n",
            "Requirement already satisfied: six>=1.5 in /usr/local/lib/python3.7/dist-packages (from python-dateutil>=2.1->matplotlib->dtreeviz) (1.15.0)\n",
            "Requirement already satisfied: pytz>=2017.3 in /usr/local/lib/python3.7/dist-packages (from pandas->dtreeviz) (2022.1)\n",
            "Requirement already satisfied: setuptools in /usr/local/lib/python3.7/dist-packages (from pytest->dtreeviz) (57.4.0)\n",
            "Requirement already satisfied: atomicwrites>=1.0 in /usr/local/lib/python3.7/dist-packages (from pytest->dtreeviz) (1.4.0)\n",
            "Requirement already satisfied: more-itertools>=4.0.0 in /usr/local/lib/python3.7/dist-packages (from pytest->dtreeviz) (8.13.0)\n",
            "Requirement already satisfied: py>=1.5.0 in /usr/local/lib/python3.7/dist-packages (from pytest->dtreeviz) (1.11.0)\n",
            "Requirement already satisfied: pluggy<0.8,>=0.5 in /usr/local/lib/python3.7/dist-packages (from pytest->dtreeviz) (0.7.1)\n",
            "Requirement already satisfied: attrs>=17.4.0 in /usr/local/lib/python3.7/dist-packages (from pytest->dtreeviz) (21.4.0)\n",
            "Requirement already satisfied: threadpoolctl>=2.0.0 in /usr/local/lib/python3.7/dist-packages (from scikit-learn->dtreeviz) (3.1.0)\n",
            "Requirement already satisfied: joblib>=0.11 in /usr/local/lib/python3.7/dist-packages (from scikit-learn->dtreeviz) (1.1.0)\n",
            "Requirement already satisfied: scipy>=1.1.0 in /usr/local/lib/python3.7/dist-packages (from scikit-learn->dtreeviz) (1.4.1)\n",
            "Building wheels for collected packages: dtreeviz\n",
            "  Building wheel for dtreeviz (setup.py) ... \u001b[?25l\u001b[?25hdone\n",
            "  Created wheel for dtreeviz: filename=dtreeviz-1.3.6-py3-none-any.whl size=67326 sha256=ef49cdb32a7e6c1e78d6cf9804c6aad190e59871a63fb4393705dc52f62e1a9f\n",
            "  Stored in directory: /root/.cache/pip/wheels/33/76/fe/99227ff871766e7284bb88d3d28e2f4886b8ec04d669033478\n",
            "Successfully built dtreeviz\n",
            "Installing collected packages: colour, dtreeviz\n",
            "Successfully installed colour-0.1.5 dtreeviz-1.3.6\n"
          ]
        }
      ]
    },
    {
      "cell_type": "code",
      "source": [
        "from pandas.api.types import is_string_dtype, is_numeric_dtype, is_categorical_dtype\n",
        "from fastai.tabular.all import *\n",
        "from sklearn.ensemble import RandomForestRegressor\n",
        "from sklearn.tree import DecisionTreeRegressor\n",
        "from dtreeviz.trees import *\n",
        "from IPython.display import Image, display_svg, SVG\n",
        "\n",
        "pd.options.display.max_rows = 20\n",
        "pd.options.display.max_columns = 8"
      ],
      "metadata": {
        "id": "wAzfcrrIByux"
      },
      "execution_count": 3,
      "outputs": []
    },
    {
      "cell_type": "code",
      "source": [
        "auth.authenticate_user()"
      ],
      "metadata": {
        "id": "_wNuGIFQT0nZ"
      },
      "execution_count": 4,
      "outputs": []
    },
    {
      "cell_type": "code",
      "execution_count": 5,
      "metadata": {
        "colab": {
          "base_uri": "https://localhost:8080/"
        },
        "id": "TpnuFITI6Tzu",
        "outputId": "57ee27a9-5c82-42e3-99cf-7be11b5b35b0"
      },
      "outputs": [
        {
          "output_type": "stream",
          "name": "stdout",
          "text": [
            "Updated property [core/project].\n"
          ]
        }
      ],
      "source": [
        "!gcloud config set project {'hackathon-352519'}"
      ]
    },
    {
      "cell_type": "code",
      "source": [
        "!gsutil cp gs://trains_data/* /tmp/."
      ],
      "metadata": {
        "colab": {
          "base_uri": "https://localhost:8080/"
        },
        "id": "srQJL7OKVRww",
        "outputId": "26198ec2-b076-42d5-98ba-bac237cfc6c9"
      },
      "execution_count": 6,
      "outputs": [
        {
          "output_type": "stream",
          "name": "stdout",
          "text": [
            "Copying gs://trains_data/train-data-2022062020220626.zip...\n",
            "Copying gs://trains_data/train-data_all-train-events.zip...\n",
            "/ [2 files][249.3 MiB/249.3 MiB]                                                \n",
            "Operation completed over 2 objects/249.3 MiB.                                    \n"
          ]
        }
      ]
    },
    {
      "cell_type": "code",
      "execution_count": 7,
      "metadata": {
        "id": "ckXLQ7eQ7E0c",
        "colab": {
          "base_uri": "https://localhost:8080/"
        },
        "outputId": "30a925cf-6fa2-4712-de8b-f80dee10cb72"
      },
      "outputs": [
        {
          "output_type": "stream",
          "name": "stdout",
          "text": [
            "1000   19:20:58\n",
            "2000   19:21:11\n",
            "3000   19:21:24\n",
            "4000   19:21:30\n",
            "5000   19:21:35\n",
            "6000   19:21:40\n",
            "7000   19:21:46\n",
            "8000   19:21:52\n",
            "9000   19:21:58\n"
          ]
        }
      ],
      "source": [
        "trains = {}\n",
        "i = 1\n",
        "prevLoco = ''\n",
        "with zipfile.ZipFile(\"/tmp/train-data_all-train-events.zip\", \"r\") as f:\n",
        "    for name in f.namelist():\n",
        "        if name.endswith('.json'):\n",
        "            with f.open(name) as zd:\n",
        "                data = json.load(zd)\n",
        "                lastTrainReporting = data['lastTrainReporting']\n",
        "                currentLoco = lastTrainReporting['ptcLeadLocomotiveId']\n",
        "                # Make sure there is at least ten minutes of actuals\n",
        "                if (\"trainActualPositionList\" in lastTrainReporting and len(lastTrainReporting['trainActualPositionList']) > 4): \n",
        "                    trainActualPositionList = lastTrainReporting['trainActualPositionList']\n",
        "                    trains[i] = pd.json_normalize(lastTrainReporting)\n",
        "                    i = i + 1\n",
        "                    if (i % 1000 == 0):\n",
        "                      current_time = datetime.now().strftime(\"%H:%M:%S\")\n",
        "                      print(i, \" \", current_time)\n",
        "                    prevLoco = currentLoco\n",
        "                            "
      ]
    },
    {
      "cell_type": "code",
      "execution_count": 8,
      "metadata": {
        "id": "lgWV768N7E0d"
      },
      "outputs": [],
      "source": [
        "dfTrainsAll = pd.concat(trains.values())\n",
        "dfTrainsAll[\"milepost\"] = dfTrainsAll.apply(lambda row: math.trunc(row['lastReportedPosition.milepostLocation.milepost.milepostNumber']), axis=1)"
      ]
    },
    {
      "cell_type": "code",
      "source": [
        "del trains"
      ],
      "metadata": {
        "id": "Q581UU9nCWZ1"
      },
      "execution_count": 9,
      "outputs": []
    },
    {
      "cell_type": "code",
      "execution_count": 10,
      "metadata": {
        "colab": {
          "base_uri": "https://localhost:8080/"
        },
        "id": "Idznxze77E0e",
        "outputId": "f1d74bb2-2fe1-4985-ed9f-56f0a8e81059"
      },
      "outputs": [
        {
          "output_type": "stream",
          "name": "stdout",
          "text": [
            "<class 'pandas.core.frame.DataFrame'>\n",
            "Int64Index: 9591 entries, 0 to 0\n",
            "Data columns (total 45 columns):\n",
            " #   Column                                                                     Non-Null Count  Dtype  \n",
            "---  ------                                                                     --------------  -----  \n",
            " 0   ptcLeadLocomotiveId                                                        9591 non-null   object \n",
            " 1   maximumTrainSpeed                                                          9590 non-null   float64\n",
            " 2   loadedCarCount                                                             9590 non-null   float64\n",
            " 3   emptyCarCount                                                              9590 non-null   float64\n",
            " 4   trainLength                                                                9590 non-null   float64\n",
            " 5   trailingTonnage                                                            9590 non-null   float64\n",
            " 6   positionHistoryList                                                        9591 non-null   object \n",
            " 7   locomotiveList                                                             9591 non-null   object \n",
            " 8   subdivisionList                                                            9591 non-null   object \n",
            " 9   trainEstimatedPositionList                                                 9180 non-null   object \n",
            " 10  trainActualPositionList                                                    9591 non-null   object \n",
            " 11  trainId.trainSCAC                                                          9591 non-null   object \n",
            " 12  trainId.trainSection                                                       9591 non-null   object \n",
            " 13  trainId.trainSymbol                                                        9591 non-null   object \n",
            " 14  trainId.trainDate                                                          9591 non-null   object \n",
            " 15  lastReportedPosition.positionTime                                          9591 non-null   object \n",
            " 16  lastReportedPosition.speedMPH                                              9591 non-null   int64  \n",
            " 17  lastReportedPosition.milepostLocation.subdivisionId                        9591 non-null   int64  \n",
            " 18  lastReportedPosition.milepostLocation.trackName                            9591 non-null   object \n",
            " 19  lastReportedPosition.milepostLocation.milepost.milepostNumber              9591 non-null   float64\n",
            " 20  aotuTrainData.priorityCode                                                 9591 non-null   int64  \n",
            " 21  aotuTrainData.categoryCode                                                 9591 non-null   int64  \n",
            " 22  aotuTrainData.authorityRangeCode                                           9591 non-null   int64  \n",
            " 23  aotuTrainData.ownershipCode                                                9591 non-null   int64  \n",
            " 24  aotuTrainData.tenantCarrier                                                9591 non-null   object \n",
            " 25  aotuTrainData.totalCarWeight                                               9591 non-null   float64\n",
            " 26  aotuTrainData.totalCarLength                                               9591 non-null   float64\n",
            " 27  aotuTrainData.totalLocomotiveWeight                                        9591 non-null   float64\n",
            " 28  aotuTrainData.totalLocomotiveLength                                        9591 non-null   float64\n",
            " 29  aotuTrainData.actualTonsPerAxle                                            9591 non-null   float64\n",
            " 30  aotuTrainData.heavy143TonCarCount                                          9591 non-null   int64  \n",
            " 31  aotuTrainData.heavy158TonCarCount                                          9591 non-null   int64  \n",
            " 32  aotuTrainData.over158TonCarCount                                           9591 non-null   int64  \n",
            " 33  aotuTrainData.highWideCarCount                                             9591 non-null   int64  \n",
            " 34  aotuTrainData.eventCode                                                    9591 non-null   int64  \n",
            " 35  aotuTrainData.routeLocationList                                            9591 non-null   object \n",
            " 36  lastReportedPosition.precedingSignalState.milepostLocation.milepostNumber  7763 non-null   float64\n",
            " 37  lastReportedPosition.precedingSignalState.previousSignalState              6060 non-null   float64\n",
            " 38  lastReportedPosition.precedingSignalState.currentStateTime                 6060 non-null   object \n",
            " 39  lastReportedPosition.precedingSignalState.signalState                      7763 non-null   float64\n",
            " 40  lastReportedPosition.nextSignalState.milepostLocation.milepostNumber       7749 non-null   float64\n",
            " 41  lastReportedPosition.nextSignalState.signalState                           7749 non-null   float64\n",
            " 42  lastReportedPosition.nextSignalState.previousSignalState                   3207 non-null   float64\n",
            " 43  lastReportedPosition.nextSignalState.currentStateTime                      3207 non-null   object \n",
            " 44  milepost                                                                   9591 non-null   int64  \n",
            "dtypes: float64(17), int64(12), object(16)\n",
            "memory usage: 3.4+ MB\n",
            "None\n",
            "(9591, 45)\n"
          ]
        }
      ],
      "source": [
        "print(dfTrainsAll.info())\n",
        "print(dfTrainsAll.shape)"
      ]
    },
    {
      "cell_type": "code",
      "source": [
        "dfTrainsLearn = dfTrainsAll\n",
        "dfTrainsLearn['lastReportedPosition.milepostLocation.trackName'] = dfTrainsLearn['lastReportedPosition.milepostLocation.trackName'].astype('category')\n",
        "dfTrainsLearn['lastReportedPosition.milepostLocation.trackName'] = dfTrainsLearn['lastReportedPosition.milepostLocation.trackName'].cat.set_categories(['WEST MAIN', 'MAIN', 'MT 2', 'MT 1', 'WESTXO', 'XO', 'EASTXO','YD LD', 'EAST MAIN', 'TO_N_EAST MAIN', 'TO_S_UP_MAINLINE', 'TO_S_CS JUNCTION', 'S_STARKS', 'TO_S_KCS UP PRT CONN', 'TO_N_LUCAS', 'S_LUCAS'])\n",
        "#dfTrainsLearn['lastReportedSpeedMPH'] = dfTrainsLearn.apply(lambda row: row['positionHistoryList'][0]['speedMPH'], axis=1)\n",
        "dfTrainsLearn['symbolType'] = dfTrainsLearn.apply(lambda row: row['trainId.trainSymbol'][:1], axis=1)\n",
        "dfTrainsLearn['symbolType'] = dfTrainsLearn['symbolType'].astype('category')\n",
        "dfTrainsLearn['symbolType'] = dfTrainsLearn['symbolType'].cat.set_categories(['M', 'I', 'Z', 'C', 'W', 'E', 'U'])\n"
      ],
      "metadata": {
        "id": "DParW0UUrZKv"
      },
      "execution_count": 11,
      "outputs": []
    },
    {
      "cell_type": "code",
      "source": [
        "def getWorkLocations(dfTrainsLocation):\n",
        "  if len(dfTrainsLocation['aotuTrainData.routeLocationList']) == 0:\n",
        "    return None\n",
        "  aotuRoute=pd.json_normalize(dfTrainsLocation['aotuTrainData.routeLocationList']) \n",
        "  eventLocations = aotuRoute[aotuRoute['activityList'].map(len) > 1]\n",
        "  temp = eventLocations['milepost.milepostNumber'].unique()\n",
        "  if len(temp) == 0:\n",
        "    return None\n",
        "  return ','.join(['%.2f' % num for num in temp])"
      ],
      "metadata": {
        "id": "TsYgT41SKyAn"
      },
      "execution_count": 12,
      "outputs": []
    },
    {
      "cell_type": "code",
      "source": [
        "#getWorkLocations(dfTrainsLearn.iloc[301])"
      ],
      "metadata": {
        "id": "PM-Q6r-A2JNS"
      },
      "execution_count": 13,
      "outputs": []
    },
    {
      "cell_type": "code",
      "source": [
        "#dfTrainsLearn.loc[dfTrainsLearn['aotuTrainData.routeLocationList'].map(len)==0]"
      ],
      "metadata": {
        "id": "fK5apSV-R6NF"
      },
      "execution_count": 14,
      "outputs": []
    },
    {
      "cell_type": "code",
      "source": [
        "dfTrainsLearn['workLocations'] = dfTrainsLearn.apply(lambda row: getWorkLocations(row), axis=1)"
      ],
      "metadata": {
        "id": "5sNuNU-iSgFy"
      },
      "execution_count": 15,
      "outputs": []
    },
    {
      "cell_type": "code",
      "source": [
        "dfTrainsLearn['workLocations'].unique()"
      ],
      "metadata": {
        "colab": {
          "base_uri": "https://localhost:8080/"
        },
        "id": "jA6cNsHR8VSr",
        "outputId": "5f9b18b1-165b-4887-c1fb-5a16ecfba4c2"
      },
      "execution_count": 16,
      "outputs": [
        {
          "output_type": "execute_result",
          "data": {
            "text/plain": [
              "array([None, '202.20', '258.40,202.20', '202.20,258.40', '202.20,258.40,321.50', '202.92,202.20', '225.10,202.20', '240.90,202.20'], dtype=object)"
            ]
          },
          "metadata": {},
          "execution_count": 16
        }
      ]
    },
    {
      "cell_type": "markdown",
      "source": [
        "We can make this more clever later, but for now this seems the most sensible shortcut"
      ],
      "metadata": {
        "id": "-AZiJPI24QO9"
      }
    },
    {
      "cell_type": "code",
      "source": [
        "dfTrainsLearn['locomotiveCount'] = dfTrainsLearn.apply(lambda row: len(row['locomotiveList']),axis = 1)"
      ],
      "metadata": {
        "id": "LuG8-GNBzwrF"
      },
      "execution_count": 17,
      "outputs": []
    },
    {
      "cell_type": "code",
      "source": [
        "dfTrainsLearn = dfTrainsLearn.reset_index(drop=True)"
      ],
      "metadata": {
        "id": "GMHDRmAnzv5w"
      },
      "execution_count": 18,
      "outputs": []
    },
    {
      "cell_type": "code",
      "source": [
        "dfTrainsLearnActuals = dfTrainsLearn.apply(lambda row: pd.json_normalize(row['trainActualPositionList']), axis=1)"
      ],
      "metadata": {
        "id": "Ag-KbEfz4Is8"
      },
      "execution_count": 19,
      "outputs": []
    },
    {
      "cell_type": "code",
      "source": [
        "dfTrainsLearnActuals.iloc[1]"
      ],
      "metadata": {
        "colab": {
          "base_uri": "https://localhost:8080/",
          "height": 206
        },
        "id": "r_gdrmU4IgpY",
        "outputId": "130e0ebe-d280-45e8-bbe1-f2530a4b5d27"
      },
      "execution_count": 20,
      "outputs": [
        {
          "output_type": "execute_result",
          "data": {
            "text/plain": [
              "           positionTime  speedMPH  milepostLocation.subdivisionId  \\\n",
              "0  2022-04-21T23:34:11Z       -10                             106   \n",
              "1  2022-04-21T23:36:11Z       -10                             106   \n",
              "2  2022-04-21T23:38:11Z        -9                             106   \n",
              "3  2022-04-21T23:40:11Z        -8                             106   \n",
              "4  2022-04-21T23:42:11Z        -9                             106   \n",
              "\n",
              "  milepostLocation.trackName  milepostLocation.milepost.milepostNumber  \n",
              "0                  WEST MAIN                                 766.36030  \n",
              "1                       MAIN                                 766.01776  \n",
              "2                       MAIN                                 765.68665  \n",
              "3                       MAIN                                 765.38310  \n",
              "4                       MAIN                                 765.07520  "
            ],
            "text/html": [
              "\n",
              "  <div id=\"df-546920ca-3630-4237-a5e9-9c92e224611b\">\n",
              "    <div class=\"colab-df-container\">\n",
              "      <div>\n",
              "<style scoped>\n",
              "    .dataframe tbody tr th:only-of-type {\n",
              "        vertical-align: middle;\n",
              "    }\n",
              "\n",
              "    .dataframe tbody tr th {\n",
              "        vertical-align: top;\n",
              "    }\n",
              "\n",
              "    .dataframe thead th {\n",
              "        text-align: right;\n",
              "    }\n",
              "</style>\n",
              "<table border=\"1\" class=\"dataframe\">\n",
              "  <thead>\n",
              "    <tr style=\"text-align: right;\">\n",
              "      <th></th>\n",
              "      <th>positionTime</th>\n",
              "      <th>speedMPH</th>\n",
              "      <th>milepostLocation.subdivisionId</th>\n",
              "      <th>milepostLocation.trackName</th>\n",
              "      <th>milepostLocation.milepost.milepostNumber</th>\n",
              "    </tr>\n",
              "  </thead>\n",
              "  <tbody>\n",
              "    <tr>\n",
              "      <th>0</th>\n",
              "      <td>2022-04-21T23:34:11Z</td>\n",
              "      <td>-10</td>\n",
              "      <td>106</td>\n",
              "      <td>WEST MAIN</td>\n",
              "      <td>766.36030</td>\n",
              "    </tr>\n",
              "    <tr>\n",
              "      <th>1</th>\n",
              "      <td>2022-04-21T23:36:11Z</td>\n",
              "      <td>-10</td>\n",
              "      <td>106</td>\n",
              "      <td>MAIN</td>\n",
              "      <td>766.01776</td>\n",
              "    </tr>\n",
              "    <tr>\n",
              "      <th>2</th>\n",
              "      <td>2022-04-21T23:38:11Z</td>\n",
              "      <td>-9</td>\n",
              "      <td>106</td>\n",
              "      <td>MAIN</td>\n",
              "      <td>765.68665</td>\n",
              "    </tr>\n",
              "    <tr>\n",
              "      <th>3</th>\n",
              "      <td>2022-04-21T23:40:11Z</td>\n",
              "      <td>-8</td>\n",
              "      <td>106</td>\n",
              "      <td>MAIN</td>\n",
              "      <td>765.38310</td>\n",
              "    </tr>\n",
              "    <tr>\n",
              "      <th>4</th>\n",
              "      <td>2022-04-21T23:42:11Z</td>\n",
              "      <td>-9</td>\n",
              "      <td>106</td>\n",
              "      <td>MAIN</td>\n",
              "      <td>765.07520</td>\n",
              "    </tr>\n",
              "  </tbody>\n",
              "</table>\n",
              "</div>\n",
              "      <button class=\"colab-df-convert\" onclick=\"convertToInteractive('df-546920ca-3630-4237-a5e9-9c92e224611b')\"\n",
              "              title=\"Convert this dataframe to an interactive table.\"\n",
              "              style=\"display:none;\">\n",
              "        \n",
              "  <svg xmlns=\"http://www.w3.org/2000/svg\" height=\"24px\"viewBox=\"0 0 24 24\"\n",
              "       width=\"24px\">\n",
              "    <path d=\"M0 0h24v24H0V0z\" fill=\"none\"/>\n",
              "    <path d=\"M18.56 5.44l.94 2.06.94-2.06 2.06-.94-2.06-.94-.94-2.06-.94 2.06-2.06.94zm-11 1L8.5 8.5l.94-2.06 2.06-.94-2.06-.94L8.5 2.5l-.94 2.06-2.06.94zm10 10l.94 2.06.94-2.06 2.06-.94-2.06-.94-.94-2.06-.94 2.06-2.06.94z\"/><path d=\"M17.41 7.96l-1.37-1.37c-.4-.4-.92-.59-1.43-.59-.52 0-1.04.2-1.43.59L10.3 9.45l-7.72 7.72c-.78.78-.78 2.05 0 2.83L4 21.41c.39.39.9.59 1.41.59.51 0 1.02-.2 1.41-.59l7.78-7.78 2.81-2.81c.8-.78.8-2.07 0-2.86zM5.41 20L4 18.59l7.72-7.72 1.47 1.35L5.41 20z\"/>\n",
              "  </svg>\n",
              "      </button>\n",
              "      \n",
              "  <style>\n",
              "    .colab-df-container {\n",
              "      display:flex;\n",
              "      flex-wrap:wrap;\n",
              "      gap: 12px;\n",
              "    }\n",
              "\n",
              "    .colab-df-convert {\n",
              "      background-color: #E8F0FE;\n",
              "      border: none;\n",
              "      border-radius: 50%;\n",
              "      cursor: pointer;\n",
              "      display: none;\n",
              "      fill: #1967D2;\n",
              "      height: 32px;\n",
              "      padding: 0 0 0 0;\n",
              "      width: 32px;\n",
              "    }\n",
              "\n",
              "    .colab-df-convert:hover {\n",
              "      background-color: #E2EBFA;\n",
              "      box-shadow: 0px 1px 2px rgba(60, 64, 67, 0.3), 0px 1px 3px 1px rgba(60, 64, 67, 0.15);\n",
              "      fill: #174EA6;\n",
              "    }\n",
              "\n",
              "    [theme=dark] .colab-df-convert {\n",
              "      background-color: #3B4455;\n",
              "      fill: #D2E3FC;\n",
              "    }\n",
              "\n",
              "    [theme=dark] .colab-df-convert:hover {\n",
              "      background-color: #434B5C;\n",
              "      box-shadow: 0px 1px 3px 1px rgba(0, 0, 0, 0.15);\n",
              "      filter: drop-shadow(0px 1px 2px rgba(0, 0, 0, 0.3));\n",
              "      fill: #FFFFFF;\n",
              "    }\n",
              "  </style>\n",
              "\n",
              "      <script>\n",
              "        const buttonEl =\n",
              "          document.querySelector('#df-546920ca-3630-4237-a5e9-9c92e224611b button.colab-df-convert');\n",
              "        buttonEl.style.display =\n",
              "          google.colab.kernel.accessAllowed ? 'block' : 'none';\n",
              "\n",
              "        async function convertToInteractive(key) {\n",
              "          const element = document.querySelector('#df-546920ca-3630-4237-a5e9-9c92e224611b');\n",
              "          const dataTable =\n",
              "            await google.colab.kernel.invokeFunction('convertToInteractive',\n",
              "                                                     [key], {});\n",
              "          if (!dataTable) return;\n",
              "\n",
              "          const docLinkHtml = 'Like what you see? Visit the ' +\n",
              "            '<a target=\"_blank\" href=https://colab.research.google.com/notebooks/data_table.ipynb>data table notebook</a>'\n",
              "            + ' to learn more about interactive tables.';\n",
              "          element.innerHTML = '';\n",
              "          dataTable['output_type'] = 'display_data';\n",
              "          await google.colab.output.renderOutput(dataTable, element);\n",
              "          const docLink = document.createElement('div');\n",
              "          docLink.innerHTML = docLinkHtml;\n",
              "          element.appendChild(docLink);\n",
              "        }\n",
              "      </script>\n",
              "    </div>\n",
              "  </div>\n",
              "  "
            ]
          },
          "metadata": {},
          "execution_count": 20
        }
      ]
    },
    {
      "cell_type": "code",
      "source": [
        "dfTrainsLearn.iloc[1]['lastReportedPosition.speedMPH']"
      ],
      "metadata": {
        "colab": {
          "base_uri": "https://localhost:8080/"
        },
        "id": "hpMijVlapb0U",
        "outputId": "2575458b-c718-4f7a-9a9f-1bb78a5cf673"
      },
      "execution_count": 21,
      "outputs": [
        {
          "output_type": "execute_result",
          "data": {
            "text/plain": [
              "-11"
            ]
          },
          "metadata": {},
          "execution_count": 21
        }
      ]
    },
    {
      "cell_type": "code",
      "source": [
        "def findNextSpeed(trainsEntry, actualsEntry):\n",
        "  #print(actualsEntry.iloc[4]['speedMPH'], \" - \",trainsEntry['lastReportedPosition.speedMPH'] )\n",
        "  return (actualsEntry.iloc[4]['speedMPH'] - trainsEntry['lastReportedPosition.speedMPH'])"
      ],
      "metadata": {
        "id": "i_JszmqL0MR6"
      },
      "execution_count": 22,
      "outputs": []
    },
    {
      "cell_type": "code",
      "source": [
        "findNextSpeed(dfTrainsLearn.iloc[101], dfTrainsLearnActuals.iloc[101])"
      ],
      "metadata": {
        "colab": {
          "base_uri": "https://localhost:8080/"
        },
        "id": "ApCibOB-uJ0B",
        "outputId": "8a568bc4-8653-4026-ceba-6c1ad6025f05"
      },
      "execution_count": 23,
      "outputs": [
        {
          "output_type": "execute_result",
          "data": {
            "text/plain": [
              "6"
            ]
          },
          "metadata": {},
          "execution_count": 23
        }
      ]
    },
    {
      "cell_type": "code",
      "source": [
        "dfTrainsLearn = dfTrainsLearn.dropna(subset=['ptcLeadLocomotiveId'])\n",
        "dfTrainsLearn"
      ],
      "metadata": {
        "colab": {
          "base_uri": "https://localhost:8080/",
          "height": 423
        },
        "id": "t-QMDbCQv8DD",
        "outputId": "8f138c18-9d8d-46c3-f5af-a6149d5eddeb"
      },
      "execution_count": 24,
      "outputs": [
        {
          "output_type": "execute_result",
          "data": {
            "text/plain": [
              "     ptcLeadLocomotiveId  maximumTrainSpeed  loadedCarCount  emptyCarCount  \\\n",
              "0                 UP2010               50.0            61.0           92.0   \n",
              "1                 UP2010               50.0            61.0           92.0   \n",
              "2                 UP2524               70.0            37.0            5.0   \n",
              "3                 UP2524               70.0            37.0            5.0   \n",
              "4                 UP2524               70.0            37.0            5.0   \n",
              "...                  ...                ...             ...            ...   \n",
              "9586              UP6459               40.0           105.0           91.0   \n",
              "9587              UP6459               40.0           105.0           91.0   \n",
              "9588              UP6459               40.0           105.0           91.0   \n",
              "9589              UP6459               40.0           105.0           91.0   \n",
              "9590              UP6459               40.0           105.0           91.0   \n",
              "\n",
              "      ...  milepost  symbolType workLocations locomotiveCount  \n",
              "0     ...       766           M          None               2  \n",
              "1     ...       766           M          None               2  \n",
              "2     ...       326           Z        202.20               5  \n",
              "3     ...       325           Z        202.20               5  \n",
              "4     ...       323           Z        202.20               5  \n",
              "...   ...       ...         ...           ...             ...  \n",
              "9586  ...       242           M        202.20               3  \n",
              "9587  ...       243           M        202.20               3  \n",
              "9588  ...       245           M        202.20               3  \n",
              "9589  ...       246           M        202.20               3  \n",
              "9590  ...       246           M        202.20               3  \n",
              "\n",
              "[9591 rows x 48 columns]"
            ],
            "text/html": [
              "\n",
              "  <div id=\"df-9e198585-c0be-4b26-9910-74a47c2daa59\">\n",
              "    <div class=\"colab-df-container\">\n",
              "      <div>\n",
              "<style scoped>\n",
              "    .dataframe tbody tr th:only-of-type {\n",
              "        vertical-align: middle;\n",
              "    }\n",
              "\n",
              "    .dataframe tbody tr th {\n",
              "        vertical-align: top;\n",
              "    }\n",
              "\n",
              "    .dataframe thead th {\n",
              "        text-align: right;\n",
              "    }\n",
              "</style>\n",
              "<table border=\"1\" class=\"dataframe\">\n",
              "  <thead>\n",
              "    <tr style=\"text-align: right;\">\n",
              "      <th></th>\n",
              "      <th>ptcLeadLocomotiveId</th>\n",
              "      <th>maximumTrainSpeed</th>\n",
              "      <th>loadedCarCount</th>\n",
              "      <th>emptyCarCount</th>\n",
              "      <th>...</th>\n",
              "      <th>milepost</th>\n",
              "      <th>symbolType</th>\n",
              "      <th>workLocations</th>\n",
              "      <th>locomotiveCount</th>\n",
              "    </tr>\n",
              "  </thead>\n",
              "  <tbody>\n",
              "    <tr>\n",
              "      <th>0</th>\n",
              "      <td>UP2010</td>\n",
              "      <td>50.0</td>\n",
              "      <td>61.0</td>\n",
              "      <td>92.0</td>\n",
              "      <td>...</td>\n",
              "      <td>766</td>\n",
              "      <td>M</td>\n",
              "      <td>None</td>\n",
              "      <td>2</td>\n",
              "    </tr>\n",
              "    <tr>\n",
              "      <th>1</th>\n",
              "      <td>UP2010</td>\n",
              "      <td>50.0</td>\n",
              "      <td>61.0</td>\n",
              "      <td>92.0</td>\n",
              "      <td>...</td>\n",
              "      <td>766</td>\n",
              "      <td>M</td>\n",
              "      <td>None</td>\n",
              "      <td>2</td>\n",
              "    </tr>\n",
              "    <tr>\n",
              "      <th>2</th>\n",
              "      <td>UP2524</td>\n",
              "      <td>70.0</td>\n",
              "      <td>37.0</td>\n",
              "      <td>5.0</td>\n",
              "      <td>...</td>\n",
              "      <td>326</td>\n",
              "      <td>Z</td>\n",
              "      <td>202.20</td>\n",
              "      <td>5</td>\n",
              "    </tr>\n",
              "    <tr>\n",
              "      <th>3</th>\n",
              "      <td>UP2524</td>\n",
              "      <td>70.0</td>\n",
              "      <td>37.0</td>\n",
              "      <td>5.0</td>\n",
              "      <td>...</td>\n",
              "      <td>325</td>\n",
              "      <td>Z</td>\n",
              "      <td>202.20</td>\n",
              "      <td>5</td>\n",
              "    </tr>\n",
              "    <tr>\n",
              "      <th>4</th>\n",
              "      <td>UP2524</td>\n",
              "      <td>70.0</td>\n",
              "      <td>37.0</td>\n",
              "      <td>5.0</td>\n",
              "      <td>...</td>\n",
              "      <td>323</td>\n",
              "      <td>Z</td>\n",
              "      <td>202.20</td>\n",
              "      <td>5</td>\n",
              "    </tr>\n",
              "    <tr>\n",
              "      <th>...</th>\n",
              "      <td>...</td>\n",
              "      <td>...</td>\n",
              "      <td>...</td>\n",
              "      <td>...</td>\n",
              "      <td>...</td>\n",
              "      <td>...</td>\n",
              "      <td>...</td>\n",
              "      <td>...</td>\n",
              "      <td>...</td>\n",
              "    </tr>\n",
              "    <tr>\n",
              "      <th>9586</th>\n",
              "      <td>UP6459</td>\n",
              "      <td>40.0</td>\n",
              "      <td>105.0</td>\n",
              "      <td>91.0</td>\n",
              "      <td>...</td>\n",
              "      <td>242</td>\n",
              "      <td>M</td>\n",
              "      <td>202.20</td>\n",
              "      <td>3</td>\n",
              "    </tr>\n",
              "    <tr>\n",
              "      <th>9587</th>\n",
              "      <td>UP6459</td>\n",
              "      <td>40.0</td>\n",
              "      <td>105.0</td>\n",
              "      <td>91.0</td>\n",
              "      <td>...</td>\n",
              "      <td>243</td>\n",
              "      <td>M</td>\n",
              "      <td>202.20</td>\n",
              "      <td>3</td>\n",
              "    </tr>\n",
              "    <tr>\n",
              "      <th>9588</th>\n",
              "      <td>UP6459</td>\n",
              "      <td>40.0</td>\n",
              "      <td>105.0</td>\n",
              "      <td>91.0</td>\n",
              "      <td>...</td>\n",
              "      <td>245</td>\n",
              "      <td>M</td>\n",
              "      <td>202.20</td>\n",
              "      <td>3</td>\n",
              "    </tr>\n",
              "    <tr>\n",
              "      <th>9589</th>\n",
              "      <td>UP6459</td>\n",
              "      <td>40.0</td>\n",
              "      <td>105.0</td>\n",
              "      <td>91.0</td>\n",
              "      <td>...</td>\n",
              "      <td>246</td>\n",
              "      <td>M</td>\n",
              "      <td>202.20</td>\n",
              "      <td>3</td>\n",
              "    </tr>\n",
              "    <tr>\n",
              "      <th>9590</th>\n",
              "      <td>UP6459</td>\n",
              "      <td>40.0</td>\n",
              "      <td>105.0</td>\n",
              "      <td>91.0</td>\n",
              "      <td>...</td>\n",
              "      <td>246</td>\n",
              "      <td>M</td>\n",
              "      <td>202.20</td>\n",
              "      <td>3</td>\n",
              "    </tr>\n",
              "  </tbody>\n",
              "</table>\n",
              "<p>9591 rows × 48 columns</p>\n",
              "</div>\n",
              "      <button class=\"colab-df-convert\" onclick=\"convertToInteractive('df-9e198585-c0be-4b26-9910-74a47c2daa59')\"\n",
              "              title=\"Convert this dataframe to an interactive table.\"\n",
              "              style=\"display:none;\">\n",
              "        \n",
              "  <svg xmlns=\"http://www.w3.org/2000/svg\" height=\"24px\"viewBox=\"0 0 24 24\"\n",
              "       width=\"24px\">\n",
              "    <path d=\"M0 0h24v24H0V0z\" fill=\"none\"/>\n",
              "    <path d=\"M18.56 5.44l.94 2.06.94-2.06 2.06-.94-2.06-.94-.94-2.06-.94 2.06-2.06.94zm-11 1L8.5 8.5l.94-2.06 2.06-.94-2.06-.94L8.5 2.5l-.94 2.06-2.06.94zm10 10l.94 2.06.94-2.06 2.06-.94-2.06-.94-.94-2.06-.94 2.06-2.06.94z\"/><path d=\"M17.41 7.96l-1.37-1.37c-.4-.4-.92-.59-1.43-.59-.52 0-1.04.2-1.43.59L10.3 9.45l-7.72 7.72c-.78.78-.78 2.05 0 2.83L4 21.41c.39.39.9.59 1.41.59.51 0 1.02-.2 1.41-.59l7.78-7.78 2.81-2.81c.8-.78.8-2.07 0-2.86zM5.41 20L4 18.59l7.72-7.72 1.47 1.35L5.41 20z\"/>\n",
              "  </svg>\n",
              "      </button>\n",
              "      \n",
              "  <style>\n",
              "    .colab-df-container {\n",
              "      display:flex;\n",
              "      flex-wrap:wrap;\n",
              "      gap: 12px;\n",
              "    }\n",
              "\n",
              "    .colab-df-convert {\n",
              "      background-color: #E8F0FE;\n",
              "      border: none;\n",
              "      border-radius: 50%;\n",
              "      cursor: pointer;\n",
              "      display: none;\n",
              "      fill: #1967D2;\n",
              "      height: 32px;\n",
              "      padding: 0 0 0 0;\n",
              "      width: 32px;\n",
              "    }\n",
              "\n",
              "    .colab-df-convert:hover {\n",
              "      background-color: #E2EBFA;\n",
              "      box-shadow: 0px 1px 2px rgba(60, 64, 67, 0.3), 0px 1px 3px 1px rgba(60, 64, 67, 0.15);\n",
              "      fill: #174EA6;\n",
              "    }\n",
              "\n",
              "    [theme=dark] .colab-df-convert {\n",
              "      background-color: #3B4455;\n",
              "      fill: #D2E3FC;\n",
              "    }\n",
              "\n",
              "    [theme=dark] .colab-df-convert:hover {\n",
              "      background-color: #434B5C;\n",
              "      box-shadow: 0px 1px 3px 1px rgba(0, 0, 0, 0.15);\n",
              "      filter: drop-shadow(0px 1px 2px rgba(0, 0, 0, 0.3));\n",
              "      fill: #FFFFFF;\n",
              "    }\n",
              "  </style>\n",
              "\n",
              "      <script>\n",
              "        const buttonEl =\n",
              "          document.querySelector('#df-9e198585-c0be-4b26-9910-74a47c2daa59 button.colab-df-convert');\n",
              "        buttonEl.style.display =\n",
              "          google.colab.kernel.accessAllowed ? 'block' : 'none';\n",
              "\n",
              "        async function convertToInteractive(key) {\n",
              "          const element = document.querySelector('#df-9e198585-c0be-4b26-9910-74a47c2daa59');\n",
              "          const dataTable =\n",
              "            await google.colab.kernel.invokeFunction('convertToInteractive',\n",
              "                                                     [key], {});\n",
              "          if (!dataTable) return;\n",
              "\n",
              "          const docLinkHtml = 'Like what you see? Visit the ' +\n",
              "            '<a target=\"_blank\" href=https://colab.research.google.com/notebooks/data_table.ipynb>data table notebook</a>'\n",
              "            + ' to learn more about interactive tables.';\n",
              "          element.innerHTML = '';\n",
              "          dataTable['output_type'] = 'display_data';\n",
              "          await google.colab.output.renderOutput(dataTable, element);\n",
              "          const docLink = document.createElement('div');\n",
              "          docLink.innerHTML = docLinkHtml;\n",
              "          element.appendChild(docLink);\n",
              "        }\n",
              "      </script>\n",
              "    </div>\n",
              "  </div>\n",
              "  "
            ]
          },
          "metadata": {},
          "execution_count": 24
        }
      ]
    },
    {
      "cell_type": "code",
      "source": [
        "dfTrainsLearn['nextSpeed'] = dfTrainsLearn['lastReportedPosition.speedMPH']\n",
        "i = 0;\n",
        "for index, trainsEntry in dfTrainsLearn.iterrows():\n",
        "  actualsEntry = dfTrainsLearnActuals.iloc[i]\n",
        "  nextSpeed = findNextSpeed(trainsEntry, actualsEntry)\n",
        "  if (nextSpeed != None):\n",
        "    dfTrainsLearn.at[i,'nextSpeed'] = nextSpeed\n",
        "  if (i % 1000 == 0):\n",
        "    print(i)\n",
        "  i = i + 1"
      ],
      "metadata": {
        "colab": {
          "base_uri": "https://localhost:8080/"
        },
        "id": "fG2U-anX-jbt",
        "outputId": "711d3886-a84c-421e-e470-cbc9606920b2"
      },
      "execution_count": 25,
      "outputs": [
        {
          "output_type": "stream",
          "name": "stdout",
          "text": [
            "0\n",
            "1000\n",
            "2000\n",
            "3000\n",
            "4000\n",
            "5000\n",
            "6000\n",
            "7000\n",
            "8000\n",
            "9000\n"
          ]
        }
      ]
    },
    {
      "cell_type": "code",
      "source": [
        "# dfTrainsLearn = dfTrainsLearn.drop(['hour'], axis=1)\n",
        "len(dfTrainsLearn)"
      ],
      "metadata": {
        "colab": {
          "base_uri": "https://localhost:8080/"
        },
        "id": "BpeBp1Jfu-Hj",
        "outputId": "db7fa6a0-6598-48ef-a099-96e9689f1b7b"
      },
      "execution_count": 26,
      "outputs": [
        {
          "output_type": "execute_result",
          "data": {
            "text/plain": [
              "9591"
            ]
          },
          "metadata": {},
          "execution_count": 26
        }
      ]
    },
    {
      "cell_type": "markdown",
      "source": [
        "Drop some values we are not using at the moment not needed"
      ],
      "metadata": {
        "id": "moXjNcMQu-3C"
      }
    },
    {
      "cell_type": "code",
      "source": [
        "ax = dfTrainsLearn['nextSpeed'].hist()"
      ],
      "metadata": {
        "colab": {
          "base_uri": "https://localhost:8080/",
          "height": 265
        },
        "id": "pjDxhwWGsrZ9",
        "outputId": "474e79fe-de8f-41c3-b77c-e8e062b390f4"
      },
      "execution_count": 27,
      "outputs": [
        {
          "output_type": "display_data",
          "data": {
            "text/plain": [
              "<Figure size 432x288 with 1 Axes>"
            ],
            "image/png": "[encoded data removed]"
          },
          "metadata": {
            "needs_background": "light"
          }
        }
      ]
    },
    {
      "cell_type": "code",
      "source": [
        "dfTrainsLearn = dfTrainsLearn.drop(columns=['aotuTrainData.tenantCarrier',\n",
        "                                            'lastReportedPosition.precedingSignalState.currentStateTime', \n",
        "                                            'lastReportedPosition.nextSignalState.previousSignalState', \n",
        "                                            'lastReportedPosition.nextSignalState.currentStateTime', \n",
        "                                            'positionHistoryList',\n",
        "                                            'locomotiveList',\n",
        "                                            'subdivisionList',\n",
        "                                            'trainActualPositionList',\n",
        "                                            'trainEstimatedPositionList',\n",
        "                                            'aotuTrainData.routeLocationList'])"
      ],
      "metadata": {
        "id": "hBmsqv6IuVVO"
      },
      "execution_count": 28,
      "outputs": []
    },
    {
      "cell_type": "code",
      "source": [
        "tabular.core.make_date(dfTrainsLearn, 'trainId.trainDate')\n",
        "tabular.core.make_date(dfTrainsLearn, 'lastReportedPosition.positionTime')\n",
        "tabular.core.add_datepart(dfTrainsLearn, 'lastReportedPosition.positionTime')\n",
        "# tabular.core.add_elapsed_times(dfTrainsLearn, 'lastReportedPosition.positionTime')\n"
      ],
      "metadata": {
        "colab": {
          "base_uri": "https://localhost:8080/",
          "height": 487
        },
        "id": "DjTAxScsbHCN",
        "outputId": "61c8c04e-fff8-4388-e7b9-785c7fca3bfc"
      },
      "execution_count": 29,
      "outputs": [
        {
          "output_type": "execute_result",
          "data": {
            "text/plain": [
              "     ptcLeadLocomotiveId  maximumTrainSpeed  loadedCarCount  emptyCarCount  \\\n",
              "0                 UP2010               50.0            61.0           92.0   \n",
              "1                 UP2010               50.0            61.0           92.0   \n",
              "2                 UP2524               70.0            37.0            5.0   \n",
              "3                 UP2524               70.0            37.0            5.0   \n",
              "4                 UP2524               70.0            37.0            5.0   \n",
              "...                  ...                ...             ...            ...   \n",
              "9586              UP6459               40.0           105.0           91.0   \n",
              "9587              UP6459               40.0           105.0           91.0   \n",
              "9588              UP6459               40.0           105.0           91.0   \n",
              "9589              UP6459               40.0           105.0           91.0   \n",
              "9590              UP6459               40.0           105.0           91.0   \n",
              "\n",
              "      ...  lastReportedPosition.positionTimeIs_quarter_start  \\\n",
              "0     ...                                              False   \n",
              "1     ...                                              False   \n",
              "2     ...                                              False   \n",
              "3     ...                                              False   \n",
              "4     ...                                              False   \n",
              "...   ...                                                ...   \n",
              "9586  ...                                              False   \n",
              "9587  ...                                              False   \n",
              "9588  ...                                              False   \n",
              "9589  ...                                              False   \n",
              "9590  ...                                              False   \n",
              "\n",
              "      lastReportedPosition.positionTimeIs_year_end  \\\n",
              "0                                            False   \n",
              "1                                            False   \n",
              "2                                            False   \n",
              "3                                            False   \n",
              "4                                            False   \n",
              "...                                            ...   \n",
              "9586                                         False   \n",
              "9587                                         False   \n",
              "9588                                         False   \n",
              "9589                                         False   \n",
              "9590                                         False   \n",
              "\n",
              "     lastReportedPosition.positionTimeIs_year_start  \\\n",
              "0                                             False   \n",
              "1                                             False   \n",
              "2                                             False   \n",
              "3                                             False   \n",
              "4                                             False   \n",
              "...                                             ...   \n",
              "9586                                          False   \n",
              "9587                                          False   \n",
              "9588                                          False   \n",
              "9589                                          False   \n",
              "9590                                          False   \n",
              "\n",
              "     lastReportedPosition.positionTimeElapsed  \n",
              "0                                1.650584e+09  \n",
              "1                                1.650584e+09  \n",
              "2                                1.649435e+09  \n",
              "3                                1.649435e+09  \n",
              "4                                1.649435e+09  \n",
              "...                                       ...  \n",
              "9586                             1.649637e+09  \n",
              "9587                             1.649637e+09  \n",
              "9588                             1.649637e+09  \n",
              "9589                             1.649637e+09  \n",
              "9590                             1.649637e+09  \n",
              "\n",
              "[9591 rows x 51 columns]"
            ],
            "text/html": [
              "\n",
              "  <div id=\"df-3743db55-ea93-43bf-8dea-f57715adbc93\">\n",
              "    <div class=\"colab-df-container\">\n",
              "      <div>\n",
              "<style scoped>\n",
              "    .dataframe tbody tr th:only-of-type {\n",
              "        vertical-align: middle;\n",
              "    }\n",
              "\n",
              "    .dataframe tbody tr th {\n",
              "        vertical-align: top;\n",
              "    }\n",
              "\n",
              "    .dataframe thead th {\n",
              "        text-align: right;\n",
              "    }\n",
              "</style>\n",
              "<table border=\"1\" class=\"dataframe\">\n",
              "  <thead>\n",
              "    <tr style=\"text-align: right;\">\n",
              "      <th></th>\n",
              "      <th>ptcLeadLocomotiveId</th>\n",
              "      <th>maximumTrainSpeed</th>\n",
              "      <th>loadedCarCount</th>\n",
              "      <th>emptyCarCount</th>\n",
              "      <th>...</th>\n",
              "      <th>lastReportedPosition.positionTimeIs_quarter_start</th>\n",
              "      <th>lastReportedPosition.positionTimeIs_year_end</th>\n",
              "      <th>lastReportedPosition.positionTimeIs_year_start</th>\n",
              "      <th>lastReportedPosition.positionTimeElapsed</th>\n",
              "    </tr>\n",
              "  </thead>\n",
              "  <tbody>\n",
              "    <tr>\n",
              "      <th>0</th>\n",
              "      <td>UP2010</td>\n",
              "      <td>50.0</td>\n",
              "      <td>61.0</td>\n",
              "      <td>92.0</td>\n",
              "      <td>...</td>\n",
              "      <td>False</td>\n",
              "      <td>False</td>\n",
              "      <td>False</td>\n",
              "      <td>1.650584e+09</td>\n",
              "    </tr>\n",
              "    <tr>\n",
              "      <th>1</th>\n",
              "      <td>UP2010</td>\n",
              "      <td>50.0</td>\n",
              "      <td>61.0</td>\n",
              "      <td>92.0</td>\n",
              "      <td>...</td>\n",
              "      <td>False</td>\n",
              "      <td>False</td>\n",
              "      <td>False</td>\n",
              "      <td>1.650584e+09</td>\n",
              "    </tr>\n",
              "    <tr>\n",
              "      <th>2</th>\n",
              "      <td>UP2524</td>\n",
              "      <td>70.0</td>\n",
              "      <td>37.0</td>\n",
              "      <td>5.0</td>\n",
              "      <td>...</td>\n",
              "      <td>False</td>\n",
              "      <td>False</td>\n",
              "      <td>False</td>\n",
              "      <td>1.649435e+09</td>\n",
              "    </tr>\n",
              "    <tr>\n",
              "      <th>3</th>\n",
              "      <td>UP2524</td>\n",
              "      <td>70.0</td>\n",
              "      <td>37.0</td>\n",
              "      <td>5.0</td>\n",
              "      <td>...</td>\n",
              "      <td>False</td>\n",
              "      <td>False</td>\n",
              "      <td>False</td>\n",
              "      <td>1.649435e+09</td>\n",
              "    </tr>\n",
              "    <tr>\n",
              "      <th>4</th>\n",
              "      <td>UP2524</td>\n",
              "      <td>70.0</td>\n",
              "      <td>37.0</td>\n",
              "      <td>5.0</td>\n",
              "      <td>...</td>\n",
              "      <td>False</td>\n",
              "      <td>False</td>\n",
              "      <td>False</td>\n",
              "      <td>1.649435e+09</td>\n",
              "    </tr>\n",
              "    <tr>\n",
              "      <th>...</th>\n",
              "      <td>...</td>\n",
              "      <td>...</td>\n",
              "      <td>...</td>\n",
              "      <td>...</td>\n",
              "      <td>...</td>\n",
              "      <td>...</td>\n",
              "      <td>...</td>\n",
              "      <td>...</td>\n",
              "      <td>...</td>\n",
              "    </tr>\n",
              "    <tr>\n",
              "      <th>9586</th>\n",
              "      <td>UP6459</td>\n",
              "      <td>40.0</td>\n",
              "      <td>105.0</td>\n",
              "      <td>91.0</td>\n",
              "      <td>...</td>\n",
              "      <td>False</td>\n",
              "      <td>False</td>\n",
              "      <td>False</td>\n",
              "      <td>1.649637e+09</td>\n",
              "    </tr>\n",
              "    <tr>\n",
              "      <th>9587</th>\n",
              "      <td>UP6459</td>\n",
              "      <td>40.0</td>\n",
              "      <td>105.0</td>\n",
              "      <td>91.0</td>\n",
              "      <td>...</td>\n",
              "      <td>False</td>\n",
              "      <td>False</td>\n",
              "      <td>False</td>\n",
              "      <td>1.649637e+09</td>\n",
              "    </tr>\n",
              "    <tr>\n",
              "      <th>9588</th>\n",
              "      <td>UP6459</td>\n",
              "      <td>40.0</td>\n",
              "      <td>105.0</td>\n",
              "      <td>91.0</td>\n",
              "      <td>...</td>\n",
              "      <td>False</td>\n",
              "      <td>False</td>\n",
              "      <td>False</td>\n",
              "      <td>1.649637e+09</td>\n",
              "    </tr>\n",
              "    <tr>\n",
              "      <th>9589</th>\n",
              "      <td>UP6459</td>\n",
              "      <td>40.0</td>\n",
              "      <td>105.0</td>\n",
              "      <td>91.0</td>\n",
              "      <td>...</td>\n",
              "      <td>False</td>\n",
              "      <td>False</td>\n",
              "      <td>False</td>\n",
              "      <td>1.649637e+09</td>\n",
              "    </tr>\n",
              "    <tr>\n",
              "      <th>9590</th>\n",
              "      <td>UP6459</td>\n",
              "      <td>40.0</td>\n",
              "      <td>105.0</td>\n",
              "      <td>91.0</td>\n",
              "      <td>...</td>\n",
              "      <td>False</td>\n",
              "      <td>False</td>\n",
              "      <td>False</td>\n",
              "      <td>1.649637e+09</td>\n",
              "    </tr>\n",
              "  </tbody>\n",
              "</table>\n",
              "<p>9591 rows × 51 columns</p>\n",
              "</div>\n",
              "      <button class=\"colab-df-convert\" onclick=\"convertToInteractive('df-3743db55-ea93-43bf-8dea-f57715adbc93')\"\n",
              "              title=\"Convert this dataframe to an interactive table.\"\n",
              "              style=\"display:none;\">\n",
              "        \n",
              "  <svg xmlns=\"http://www.w3.org/2000/svg\" height=\"24px\"viewBox=\"0 0 24 24\"\n",
              "       width=\"24px\">\n",
              "    <path d=\"M0 0h24v24H0V0z\" fill=\"none\"/>\n",
              "    <path d=\"M18.56 5.44l.94 2.06.94-2.06 2.06-.94-2.06-.94-.94-2.06-.94 2.06-2.06.94zm-11 1L8.5 8.5l.94-2.06 2.06-.94-2.06-.94L8.5 2.5l-.94 2.06-2.06.94zm10 10l.94 2.06.94-2.06 2.06-.94-2.06-.94-.94-2.06-.94 2.06-2.06.94z\"/><path d=\"M17.41 7.96l-1.37-1.37c-.4-.4-.92-.59-1.43-.59-.52 0-1.04.2-1.43.59L10.3 9.45l-7.72 7.72c-.78.78-.78 2.05 0 2.83L4 21.41c.39.39.9.59 1.41.59.51 0 1.02-.2 1.41-.59l7.78-7.78 2.81-2.81c.8-.78.8-2.07 0-2.86zM5.41 20L4 18.59l7.72-7.72 1.47 1.35L5.41 20z\"/>\n",
              "  </svg>\n",
              "      </button>\n",
              "      \n",
              "  <style>\n",
              "    .colab-df-container {\n",
              "      display:flex;\n",
              "      flex-wrap:wrap;\n",
              "      gap: 12px;\n",
              "    }\n",
              "\n",
              "    .colab-df-convert {\n",
              "      background-color: #E8F0FE;\n",
              "      border: none;\n",
              "      border-radius: 50%;\n",
              "      cursor: pointer;\n",
              "      display: none;\n",
              "      fill: #1967D2;\n",
              "      height: 32px;\n",
              "      padding: 0 0 0 0;\n",
              "      width: 32px;\n",
              "    }\n",
              "\n",
              "    .colab-df-convert:hover {\n",
              "      background-color: #E2EBFA;\n",
              "      box-shadow: 0px 1px 2px rgba(60, 64, 67, 0.3), 0px 1px 3px 1px rgba(60, 64, 67, 0.15);\n",
              "      fill: #174EA6;\n",
              "    }\n",
              "\n",
              "    [theme=dark] .colab-df-convert {\n",
              "      background-color: #3B4455;\n",
              "      fill: #D2E3FC;\n",
              "    }\n",
              "\n",
              "    [theme=dark] .colab-df-convert:hover {\n",
              "      background-color: #434B5C;\n",
              "      box-shadow: 0px 1px 3px 1px rgba(0, 0, 0, 0.15);\n",
              "      filter: drop-shadow(0px 1px 2px rgba(0, 0, 0, 0.3));\n",
              "      fill: #FFFFFF;\n",
              "    }\n",
              "  </style>\n",
              "\n",
              "      <script>\n",
              "        const buttonEl =\n",
              "          document.querySelector('#df-3743db55-ea93-43bf-8dea-f57715adbc93 button.colab-df-convert');\n",
              "        buttonEl.style.display =\n",
              "          google.colab.kernel.accessAllowed ? 'block' : 'none';\n",
              "\n",
              "        async function convertToInteractive(key) {\n",
              "          const element = document.querySelector('#df-3743db55-ea93-43bf-8dea-f57715adbc93');\n",
              "          const dataTable =\n",
              "            await google.colab.kernel.invokeFunction('convertToInteractive',\n",
              "                                                     [key], {});\n",
              "          if (!dataTable) return;\n",
              "\n",
              "          const docLinkHtml = 'Like what you see? Visit the ' +\n",
              "            '<a target=\"_blank\" href=https://colab.research.google.com/notebooks/data_table.ipynb>data table notebook</a>'\n",
              "            + ' to learn more about interactive tables.';\n",
              "          element.innerHTML = '';\n",
              "          dataTable['output_type'] = 'display_data';\n",
              "          await google.colab.output.renderOutput(dataTable, element);\n",
              "          const docLink = document.createElement('div');\n",
              "          docLink.innerHTML = docLinkHtml;\n",
              "          element.appendChild(docLink);\n",
              "        }\n",
              "      </script>\n",
              "    </div>\n",
              "  </div>\n",
              "  "
            ]
          },
          "metadata": {},
          "execution_count": 29
        }
      ]
    },
    {
      "cell_type": "code",
      "source": [
        "print(dfTrainsLearn.shape)\n",
        "print(dfTrainsLearnActuals.shape)\n",
        "\n",
        "print(dfTrainsLearn.info())\n",
        "print(dfTrainsLearn.iloc[100])"
      ],
      "metadata": {
        "colab": {
          "base_uri": "https://localhost:8080/"
        },
        "id": "jTVXPBSQ2gp3",
        "outputId": "138482fa-5a9e-41bd-fa2c-af1bf1e2f81d"
      },
      "execution_count": 30,
      "outputs": [
        {
          "output_type": "stream",
          "name": "stdout",
          "text": [
            "(9591, 51)\n",
            "(9591,)\n",
            "<class 'pandas.core.frame.DataFrame'>\n",
            "Int64Index: 9591 entries, 0 to 9590\n",
            "Data columns (total 51 columns):\n",
            " #   Column                                                                     Non-Null Count  Dtype         \n",
            "---  ------                                                                     --------------  -----         \n",
            " 0   ptcLeadLocomotiveId                                                        9591 non-null   object        \n",
            " 1   maximumTrainSpeed                                                          9590 non-null   float64       \n",
            " 2   loadedCarCount                                                             9590 non-null   float64       \n",
            " 3   emptyCarCount                                                              9590 non-null   float64       \n",
            " 4   trainLength                                                                9590 non-null   float64       \n",
            " 5   trailingTonnage                                                            9590 non-null   float64       \n",
            " 6   trainId.trainSCAC                                                          9591 non-null   object        \n",
            " 7   trainId.trainSection                                                       9591 non-null   object        \n",
            " 8   trainId.trainSymbol                                                        9591 non-null   object        \n",
            " 9   trainId.trainDate                                                          9591 non-null   datetime64[ns]\n",
            " 10  lastReportedPosition.speedMPH                                              9591 non-null   int64         \n",
            " 11  lastReportedPosition.milepostLocation.subdivisionId                        9591 non-null   int64         \n",
            " 12  lastReportedPosition.milepostLocation.trackName                            9544 non-null   category      \n",
            " 13  lastReportedPosition.milepostLocation.milepost.milepostNumber              9591 non-null   float64       \n",
            " 14  aotuTrainData.priorityCode                                                 9591 non-null   int64         \n",
            " 15  aotuTrainData.categoryCode                                                 9591 non-null   int64         \n",
            " 16  aotuTrainData.authorityRangeCode                                           9591 non-null   int64         \n",
            " 17  aotuTrainData.ownershipCode                                                9591 non-null   int64         \n",
            " 18  aotuTrainData.totalCarWeight                                               9591 non-null   float64       \n",
            " 19  aotuTrainData.totalCarLength                                               9591 non-null   float64       \n",
            " 20  aotuTrainData.totalLocomotiveWeight                                        9591 non-null   float64       \n",
            " 21  aotuTrainData.totalLocomotiveLength                                        9591 non-null   float64       \n",
            " 22  aotuTrainData.actualTonsPerAxle                                            9591 non-null   float64       \n",
            " 23  aotuTrainData.heavy143TonCarCount                                          9591 non-null   int64         \n",
            " 24  aotuTrainData.heavy158TonCarCount                                          9591 non-null   int64         \n",
            " 25  aotuTrainData.over158TonCarCount                                           9591 non-null   int64         \n",
            " 26  aotuTrainData.highWideCarCount                                             9591 non-null   int64         \n",
            " 27  aotuTrainData.eventCode                                                    9591 non-null   int64         \n",
            " 28  lastReportedPosition.precedingSignalState.milepostLocation.milepostNumber  7763 non-null   float64       \n",
            " 29  lastReportedPosition.precedingSignalState.previousSignalState              6060 non-null   float64       \n",
            " 30  lastReportedPosition.precedingSignalState.signalState                      7763 non-null   float64       \n",
            " 31  lastReportedPosition.nextSignalState.milepostLocation.milepostNumber       7749 non-null   float64       \n",
            " 32  lastReportedPosition.nextSignalState.signalState                           7749 non-null   float64       \n",
            " 33  milepost                                                                   9591 non-null   int64         \n",
            " 34  symbolType                                                                 9234 non-null   category      \n",
            " 35  workLocations                                                              8282 non-null   object        \n",
            " 36  locomotiveCount                                                            9591 non-null   int64         \n",
            " 37  nextSpeed                                                                  9591 non-null   int64         \n",
            " 38  lastReportedPosition.positionTimeYear                                      9591 non-null   int64         \n",
            " 39  lastReportedPosition.positionTimeMonth                                     9591 non-null   int64         \n",
            " 40  lastReportedPosition.positionTimeWeek                                      9591 non-null   int64         \n",
            " 41  lastReportedPosition.positionTimeDay                                       9591 non-null   int64         \n",
            " 42  lastReportedPosition.positionTimeDayofweek                                 9591 non-null   int64         \n",
            " 43  lastReportedPosition.positionTimeDayofyear                                 9591 non-null   int64         \n",
            " 44  lastReportedPosition.positionTimeIs_month_end                              9591 non-null   bool          \n",
            " 45  lastReportedPosition.positionTimeIs_month_start                            9591 non-null   bool          \n",
            " 46  lastReportedPosition.positionTimeIs_quarter_end                            9591 non-null   bool          \n",
            " 47  lastReportedPosition.positionTimeIs_quarter_start                          9591 non-null   bool          \n",
            " 48  lastReportedPosition.positionTimeIs_year_end                               9591 non-null   bool          \n",
            " 49  lastReportedPosition.positionTimeIs_year_start                             9591 non-null   bool          \n",
            " 50  lastReportedPosition.positionTimeElapsed                                   9591 non-null   float64       \n",
            "dtypes: bool(6), category(2), datetime64[ns](1), float64(17), int64(20), object(5)\n",
            "memory usage: 3.5+ MB\n",
            "None\n",
            "ptcLeadLocomotiveId                                        UP2524\n",
            "maximumTrainSpeed                                            70.0\n",
            "loadedCarCount                                               37.0\n",
            "emptyCarCount                                                 5.0\n",
            "trainLength                                                6034.0\n",
            "                                                         ...     \n",
            "lastReportedPosition.positionTimeIs_quarter_end             False\n",
            "lastReportedPosition.positionTimeIs_quarter_start           False\n",
            "lastReportedPosition.positionTimeIs_year_end                False\n",
            "lastReportedPosition.positionTimeIs_year_start              False\n",
            "lastReportedPosition.positionTimeElapsed             1649442252.0\n",
            "Name: 100, Length: 51, dtype: object\n"
          ]
        }
      ]
    },
    {
      "cell_type": "markdown",
      "source": [
        "# Use Decision Tree to predict speed in 1 mile"
      ],
      "metadata": {
        "id": "mg1p1vouBeIB"
      }
    },
    {
      "cell_type": "code",
      "source": [
        "procs = [tabular.core.Categorify, tabular.core.FillMissing]"
      ],
      "metadata": {
        "id": "F9TApkZWbAbz"
      },
      "execution_count": 31,
      "outputs": []
    },
    {
      "cell_type": "code",
      "source": [
        "print (dfTrainsLearn.groupby(['lastReportedPosition.positionTimeDayofyear'])['lastReportedPosition.positionTimeDayofyear'].count())\n"
      ],
      "metadata": {
        "colab": {
          "base_uri": "https://localhost:8080/"
        },
        "id": "gDgYzofcvcpM",
        "outputId": "aef56c05-b566-4bd1-c65c-f26ed1adeb63"
      },
      "execution_count": 32,
      "outputs": [
        {
          "output_type": "stream",
          "name": "stdout",
          "text": [
            "lastReportedPosition.positionTimeDayofyear\n",
            "90     120\n",
            "91     262\n",
            "92      72\n",
            "93     101\n",
            "95      98\n",
            "      ... \n",
            "121     37\n",
            "122    230\n",
            "123    207\n",
            "124    229\n",
            "125    141\n",
            "Name: lastReportedPosition.positionTimeDayofyear, Length: 32, dtype: int64\n"
          ]
        }
      ]
    },
    {
      "cell_type": "code",
      "source": [
        "cond = ( dfTrainsLearn['lastReportedPosition.positionTimeDayofyear'] < 121 )\n",
        "trainIdx = np.where(cond)[0]\n",
        "validIdx = np.where(~cond)[0]\n",
        "splits = (list(trainIdx), list(validIdx))"
      ],
      "metadata": {
        "id": "nIURJVe5vc_n"
      },
      "execution_count": 33,
      "outputs": []
    },
    {
      "cell_type": "code",
      "source": [
        "dep_var = 'nextSpeed'"
      ],
      "metadata": {
        "id": "rPW42wgnOLO_"
      },
      "execution_count": 34,
      "outputs": []
    },
    {
      "cell_type": "code",
      "source": [
        "cont,cat = tabular.core.cont_cat_split(dfTrainsLearn, 1, dep_var=dep_var)"
      ],
      "metadata": {
        "id": "gHDAeThzyzc6"
      },
      "execution_count": 35,
      "outputs": []
    },
    {
      "cell_type": "code",
      "source": [
        "to = tabular.core.TabularPandas(dfTrainsLearn, procs, cat, cont, y_names=dep_var, splits=splits)"
      ],
      "metadata": {
        "id": "xz1ZonvnO-I7"
      },
      "execution_count": 36,
      "outputs": []
    },
    {
      "cell_type": "code",
      "source": [
        "len(to.train),len(to.valid)"
      ],
      "metadata": {
        "colab": {
          "base_uri": "https://localhost:8080/"
        },
        "id": "0DJly6_Z94uI",
        "outputId": "1cf056e0-3720-4bf8-a410-25189c9b621e"
      },
      "execution_count": 37,
      "outputs": [
        {
          "output_type": "execute_result",
          "data": {
            "text/plain": [
              "(8747, 844)"
            ]
          },
          "metadata": {},
          "execution_count": 37
        }
      ]
    },
    {
      "cell_type": "code",
      "source": [
        "to.show()"
      ],
      "metadata": {
        "colab": {
          "base_uri": "https://localhost:8080/",
          "height": 383
        },
        "id": "xoEQAME4-n0M",
        "outputId": "63a52157-e10b-4666-906f-75e4f98afd4e"
      },
      "execution_count": 38,
      "outputs": [
        {
          "output_type": "display_data",
          "data": {
            "text/plain": [
              "<IPython.core.display.HTML object>"
            ],
            "text/html": [
              "<table border=\"1\" class=\"dataframe\">\n",
              "  <thead>\n",
              "    <tr style=\"text-align: right;\">\n",
              "      <th></th>\n",
              "      <th>ptcLeadLocomotiveId</th>\n",
              "      <th>trainId.trainSCAC</th>\n",
              "      <th>trainId.trainSection</th>\n",
              "      <th>trainId.trainSymbol</th>\n",
              "      <th>trainId.trainDate</th>\n",
              "      <th>lastReportedPosition.milepostLocation.subdivisionId</th>\n",
              "      <th>lastReportedPosition.milepostLocation.trackName</th>\n",
              "      <th>aotuTrainData.ownershipCode</th>\n",
              "      <th>aotuTrainData.eventCode</th>\n",
              "      <th>symbolType</th>\n",
              "      <th>workLocations</th>\n",
              "      <th>lastReportedPosition.positionTimeYear</th>\n",
              "      <th>lastReportedPosition.positionTimeIs_month_end</th>\n",
              "      <th>lastReportedPosition.positionTimeIs_month_start</th>\n",
              "      <th>lastReportedPosition.positionTimeIs_quarter_end</th>\n",
              "      <th>lastReportedPosition.positionTimeIs_quarter_start</th>\n",
              "      <th>lastReportedPosition.positionTimeIs_year_end</th>\n",
              "      <th>lastReportedPosition.positionTimeIs_year_start</th>\n",
              "      <th>maximumTrainSpeed_na</th>\n",
              "      <th>loadedCarCount_na</th>\n",
              "      <th>emptyCarCount_na</th>\n",
              "      <th>trainLength_na</th>\n",
              "      <th>trailingTonnage_na</th>\n",
              "      <th>lastReportedPosition.precedingSignalState.milepostLocation.milepostNumber_na</th>\n",
              "      <th>lastReportedPosition.precedingSignalState.previousSignalState_na</th>\n",
              "      <th>lastReportedPosition.precedingSignalState.signalState_na</th>\n",
              "      <th>lastReportedPosition.nextSignalState.milepostLocation.milepostNumber_na</th>\n",
              "      <th>lastReportedPosition.nextSignalState.signalState_na</th>\n",
              "      <th>maximumTrainSpeed</th>\n",
              "      <th>loadedCarCount</th>\n",
              "      <th>emptyCarCount</th>\n",
              "      <th>trainLength</th>\n",
              "      <th>trailingTonnage</th>\n",
              "      <th>lastReportedPosition.speedMPH</th>\n",
              "      <th>lastReportedPosition.milepostLocation.milepost.milepostNumber</th>\n",
              "      <th>aotuTrainData.priorityCode</th>\n",
              "      <th>aotuTrainData.categoryCode</th>\n",
              "      <th>aotuTrainData.authorityRangeCode</th>\n",
              "      <th>aotuTrainData.totalCarWeight</th>\n",
              "      <th>aotuTrainData.totalCarLength</th>\n",
              "      <th>aotuTrainData.totalLocomotiveWeight</th>\n",
              "      <th>aotuTrainData.totalLocomotiveLength</th>\n",
              "      <th>aotuTrainData.actualTonsPerAxle</th>\n",
              "      <th>aotuTrainData.heavy143TonCarCount</th>\n",
              "      <th>aotuTrainData.heavy158TonCarCount</th>\n",
              "      <th>aotuTrainData.over158TonCarCount</th>\n",
              "      <th>aotuTrainData.highWideCarCount</th>\n",
              "      <th>lastReportedPosition.precedingSignalState.milepostLocation.milepostNumber</th>\n",
              "      <th>lastReportedPosition.precedingSignalState.previousSignalState</th>\n",
              "      <th>lastReportedPosition.precedingSignalState.signalState</th>\n",
              "      <th>lastReportedPosition.nextSignalState.milepostLocation.milepostNumber</th>\n",
              "      <th>lastReportedPosition.nextSignalState.signalState</th>\n",
              "      <th>milepost</th>\n",
              "      <th>locomotiveCount</th>\n",
              "      <th>lastReportedPosition.positionTimeMonth</th>\n",
              "      <th>lastReportedPosition.positionTimeWeek</th>\n",
              "      <th>lastReportedPosition.positionTimeDay</th>\n",
              "      <th>lastReportedPosition.positionTimeDayofweek</th>\n",
              "      <th>lastReportedPosition.positionTimeDayofyear</th>\n",
              "      <th>lastReportedPosition.positionTimeElapsed</th>\n",
              "      <th>nextSpeed</th>\n",
              "    </tr>\n",
              "  </thead>\n",
              "  <tbody>\n",
              "    <tr>\n",
              "      <th>0</th>\n",
              "      <td>UP2010</td>\n",
              "      <td>UP</td>\n",
              "      <td></td>\n",
              "      <td>MEWLI</td>\n",
              "      <td>2022-04-21</td>\n",
              "      <td>106</td>\n",
              "      <td>WEST MAIN</td>\n",
              "      <td>2</td>\n",
              "      <td>0</td>\n",
              "      <td>M</td>\n",
              "      <td>#na#</td>\n",
              "      <td>2022</td>\n",
              "      <td>False</td>\n",
              "      <td>False</td>\n",
              "      <td>False</td>\n",
              "      <td>False</td>\n",
              "      <td>False</td>\n",
              "      <td>False</td>\n",
              "      <td>False</td>\n",
              "      <td>False</td>\n",
              "      <td>False</td>\n",
              "      <td>False</td>\n",
              "      <td>False</td>\n",
              "      <td>True</td>\n",
              "      <td>True</td>\n",
              "      <td>True</td>\n",
              "      <td>True</td>\n",
              "      <td>True</td>\n",
              "      <td>50.0</td>\n",
              "      <td>61.0</td>\n",
              "      <td>92.0</td>\n",
              "      <td>9282.0</td>\n",
              "      <td>10992.0</td>\n",
              "      <td>-12</td>\n",
              "      <td>766.930420</td>\n",
              "      <td>4</td>\n",
              "      <td>12</td>\n",
              "      <td>2</td>\n",
              "      <td>219727008.0</td>\n",
              "      <td>1078840.0</td>\n",
              "      <td>12202400.0</td>\n",
              "      <td>25820.0</td>\n",
              "      <td>65535.0</td>\n",
              "      <td>10</td>\n",
              "      <td>0</td>\n",
              "      <td>0</td>\n",
              "      <td>0</td>\n",
              "      <td>258.420013</td>\n",
              "      <td>-4.0</td>\n",
              "      <td>1.0</td>\n",
              "      <td>260.200012</td>\n",
              "      <td>1.0</td>\n",
              "      <td>766</td>\n",
              "      <td>2</td>\n",
              "      <td>4</td>\n",
              "      <td>16</td>\n",
              "      <td>21</td>\n",
              "      <td>3</td>\n",
              "      <td>111</td>\n",
              "      <td>1.650584e+09</td>\n",
              "      <td>4</td>\n",
              "    </tr>\n",
              "    <tr>\n",
              "      <th>1</th>\n",
              "      <td>UP2010</td>\n",
              "      <td>UP</td>\n",
              "      <td></td>\n",
              "      <td>MEWLI</td>\n",
              "      <td>2022-04-21</td>\n",
              "      <td>106</td>\n",
              "      <td>WEST MAIN</td>\n",
              "      <td>2</td>\n",
              "      <td>0</td>\n",
              "      <td>M</td>\n",
              "      <td>#na#</td>\n",
              "      <td>2022</td>\n",
              "      <td>False</td>\n",
              "      <td>False</td>\n",
              "      <td>False</td>\n",
              "      <td>False</td>\n",
              "      <td>False</td>\n",
              "      <td>False</td>\n",
              "      <td>False</td>\n",
              "      <td>False</td>\n",
              "      <td>False</td>\n",
              "      <td>False</td>\n",
              "      <td>False</td>\n",
              "      <td>True</td>\n",
              "      <td>True</td>\n",
              "      <td>True</td>\n",
              "      <td>True</td>\n",
              "      <td>True</td>\n",
              "      <td>50.0</td>\n",
              "      <td>61.0</td>\n",
              "      <td>92.0</td>\n",
              "      <td>9282.0</td>\n",
              "      <td>10992.0</td>\n",
              "      <td>-11</td>\n",
              "      <td>766.718811</td>\n",
              "      <td>4</td>\n",
              "      <td>12</td>\n",
              "      <td>2</td>\n",
              "      <td>219727008.0</td>\n",
              "      <td>1078840.0</td>\n",
              "      <td>12202400.0</td>\n",
              "      <td>25820.0</td>\n",
              "      <td>65535.0</td>\n",
              "      <td>10</td>\n",
              "      <td>0</td>\n",
              "      <td>0</td>\n",
              "      <td>0</td>\n",
              "      <td>258.420013</td>\n",
              "      <td>-4.0</td>\n",
              "      <td>1.0</td>\n",
              "      <td>260.200012</td>\n",
              "      <td>1.0</td>\n",
              "      <td>766</td>\n",
              "      <td>2</td>\n",
              "      <td>4</td>\n",
              "      <td>16</td>\n",
              "      <td>21</td>\n",
              "      <td>3</td>\n",
              "      <td>111</td>\n",
              "      <td>1.650584e+09</td>\n",
              "      <td>2</td>\n",
              "    </tr>\n",
              "    <tr>\n",
              "      <th>2</th>\n",
              "      <td>UP2524</td>\n",
              "      <td>UP</td>\n",
              "      <td></td>\n",
              "      <td>ZBRG2</td>\n",
              "      <td>2022-04-06</td>\n",
              "      <td>106</td>\n",
              "      <td>MT 2</td>\n",
              "      <td>2</td>\n",
              "      <td>0</td>\n",
              "      <td>Z</td>\n",
              "      <td>202.20</td>\n",
              "      <td>2022</td>\n",
              "      <td>False</td>\n",
              "      <td>False</td>\n",
              "      <td>False</td>\n",
              "      <td>False</td>\n",
              "      <td>False</td>\n",
              "      <td>False</td>\n",
              "      <td>False</td>\n",
              "      <td>False</td>\n",
              "      <td>False</td>\n",
              "      <td>False</td>\n",
              "      <td>False</td>\n",
              "      <td>True</td>\n",
              "      <td>True</td>\n",
              "      <td>True</td>\n",
              "      <td>True</td>\n",
              "      <td>True</td>\n",
              "      <td>70.0</td>\n",
              "      <td>37.0</td>\n",
              "      <td>5.0</td>\n",
              "      <td>6034.0</td>\n",
              "      <td>4180.0</td>\n",
              "      <td>-56</td>\n",
              "      <td>326.180389</td>\n",
              "      <td>1</td>\n",
              "      <td>10</td>\n",
              "      <td>2</td>\n",
              "      <td>83582000.0</td>\n",
              "      <td>678370.0</td>\n",
              "      <td>21020000.0</td>\n",
              "      <td>43900.0</td>\n",
              "      <td>65535.0</td>\n",
              "      <td>0</td>\n",
              "      <td>0</td>\n",
              "      <td>0</td>\n",
              "      <td>0</td>\n",
              "      <td>258.420013</td>\n",
              "      <td>-4.0</td>\n",
              "      <td>1.0</td>\n",
              "      <td>260.200012</td>\n",
              "      <td>1.0</td>\n",
              "      <td>326</td>\n",
              "      <td>5</td>\n",
              "      <td>4</td>\n",
              "      <td>14</td>\n",
              "      <td>8</td>\n",
              "      <td>4</td>\n",
              "      <td>98</td>\n",
              "      <td>1.649435e+09</td>\n",
              "      <td>44</td>\n",
              "    </tr>\n",
              "    <tr>\n",
              "      <th>3</th>\n",
              "      <td>UP2524</td>\n",
              "      <td>UP</td>\n",
              "      <td></td>\n",
              "      <td>ZBRG2</td>\n",
              "      <td>2022-04-06</td>\n",
              "      <td>106</td>\n",
              "      <td>MT 2</td>\n",
              "      <td>2</td>\n",
              "      <td>0</td>\n",
              "      <td>Z</td>\n",
              "      <td>202.20</td>\n",
              "      <td>2022</td>\n",
              "      <td>False</td>\n",
              "      <td>False</td>\n",
              "      <td>False</td>\n",
              "      <td>False</td>\n",
              "      <td>False</td>\n",
              "      <td>False</td>\n",
              "      <td>False</td>\n",
              "      <td>False</td>\n",
              "      <td>False</td>\n",
              "      <td>False</td>\n",
              "      <td>False</td>\n",
              "      <td>True</td>\n",
              "      <td>True</td>\n",
              "      <td>True</td>\n",
              "      <td>True</td>\n",
              "      <td>True</td>\n",
              "      <td>70.0</td>\n",
              "      <td>37.0</td>\n",
              "      <td>5.0</td>\n",
              "      <td>6034.0</td>\n",
              "      <td>4180.0</td>\n",
              "      <td>-58</td>\n",
              "      <td>325.214813</td>\n",
              "      <td>1</td>\n",
              "      <td>10</td>\n",
              "      <td>2</td>\n",
              "      <td>83582000.0</td>\n",
              "      <td>678370.0</td>\n",
              "      <td>21020000.0</td>\n",
              "      <td>43900.0</td>\n",
              "      <td>65535.0</td>\n",
              "      <td>0</td>\n",
              "      <td>0</td>\n",
              "      <td>0</td>\n",
              "      <td>0</td>\n",
              "      <td>258.420013</td>\n",
              "      <td>-4.0</td>\n",
              "      <td>1.0</td>\n",
              "      <td>260.200012</td>\n",
              "      <td>1.0</td>\n",
              "      <td>325</td>\n",
              "      <td>5</td>\n",
              "      <td>4</td>\n",
              "      <td>14</td>\n",
              "      <td>8</td>\n",
              "      <td>4</td>\n",
              "      <td>98</td>\n",
              "      <td>1.649435e+09</td>\n",
              "      <td>49</td>\n",
              "    </tr>\n",
              "    <tr>\n",
              "      <th>4</th>\n",
              "      <td>UP2524</td>\n",
              "      <td>UP</td>\n",
              "      <td></td>\n",
              "      <td>ZBRG2</td>\n",
              "      <td>2022-04-06</td>\n",
              "      <td>106</td>\n",
              "      <td>MT 2</td>\n",
              "      <td>2</td>\n",
              "      <td>0</td>\n",
              "      <td>Z</td>\n",
              "      <td>202.20</td>\n",
              "      <td>2022</td>\n",
              "      <td>False</td>\n",
              "      <td>False</td>\n",
              "      <td>False</td>\n",
              "      <td>False</td>\n",
              "      <td>False</td>\n",
              "      <td>False</td>\n",
              "      <td>False</td>\n",
              "      <td>False</td>\n",
              "      <td>False</td>\n",
              "      <td>False</td>\n",
              "      <td>False</td>\n",
              "      <td>True</td>\n",
              "      <td>True</td>\n",
              "      <td>True</td>\n",
              "      <td>True</td>\n",
              "      <td>True</td>\n",
              "      <td>70.0</td>\n",
              "      <td>37.0</td>\n",
              "      <td>5.0</td>\n",
              "      <td>6034.0</td>\n",
              "      <td>4180.0</td>\n",
              "      <td>-55</td>\n",
              "      <td>323.279297</td>\n",
              "      <td>1</td>\n",
              "      <td>10</td>\n",
              "      <td>2</td>\n",
              "      <td>83582000.0</td>\n",
              "      <td>678370.0</td>\n",
              "      <td>21020000.0</td>\n",
              "      <td>43900.0</td>\n",
              "      <td>65535.0</td>\n",
              "      <td>0</td>\n",
              "      <td>0</td>\n",
              "      <td>0</td>\n",
              "      <td>0</td>\n",
              "      <td>258.420013</td>\n",
              "      <td>-4.0</td>\n",
              "      <td>1.0</td>\n",
              "      <td>260.200012</td>\n",
              "      <td>1.0</td>\n",
              "      <td>323</td>\n",
              "      <td>5</td>\n",
              "      <td>4</td>\n",
              "      <td>14</td>\n",
              "      <td>8</td>\n",
              "      <td>4</td>\n",
              "      <td>98</td>\n",
              "      <td>1.649435e+09</td>\n",
              "      <td>27</td>\n",
              "    </tr>\n",
              "    <tr>\n",
              "      <th>5</th>\n",
              "      <td>UP2524</td>\n",
              "      <td>UP</td>\n",
              "      <td></td>\n",
              "      <td>ZBRG2</td>\n",
              "      <td>2022-04-06</td>\n",
              "      <td>106</td>\n",
              "      <td>MT 2</td>\n",
              "      <td>2</td>\n",
              "      <td>0</td>\n",
              "      <td>Z</td>\n",
              "      <td>202.20</td>\n",
              "      <td>2022</td>\n",
              "      <td>False</td>\n",
              "      <td>False</td>\n",
              "      <td>False</td>\n",
              "      <td>False</td>\n",
              "      <td>False</td>\n",
              "      <td>False</td>\n",
              "      <td>False</td>\n",
              "      <td>False</td>\n",
              "      <td>False</td>\n",
              "      <td>False</td>\n",
              "      <td>False</td>\n",
              "      <td>True</td>\n",
              "      <td>True</td>\n",
              "      <td>True</td>\n",
              "      <td>True</td>\n",
              "      <td>True</td>\n",
              "      <td>70.0</td>\n",
              "      <td>37.0</td>\n",
              "      <td>5.0</td>\n",
              "      <td>6034.0</td>\n",
              "      <td>4180.0</td>\n",
              "      <td>-43</td>\n",
              "      <td>321.858887</td>\n",
              "      <td>1</td>\n",
              "      <td>10</td>\n",
              "      <td>2</td>\n",
              "      <td>83582000.0</td>\n",
              "      <td>678370.0</td>\n",
              "      <td>21020000.0</td>\n",
              "      <td>43900.0</td>\n",
              "      <td>65535.0</td>\n",
              "      <td>0</td>\n",
              "      <td>0</td>\n",
              "      <td>0</td>\n",
              "      <td>0</td>\n",
              "      <td>258.420013</td>\n",
              "      <td>-4.0</td>\n",
              "      <td>1.0</td>\n",
              "      <td>260.200012</td>\n",
              "      <td>1.0</td>\n",
              "      <td>321</td>\n",
              "      <td>5</td>\n",
              "      <td>4</td>\n",
              "      <td>14</td>\n",
              "      <td>8</td>\n",
              "      <td>4</td>\n",
              "      <td>98</td>\n",
              "      <td>1.649436e+09</td>\n",
              "      <td>6</td>\n",
              "    </tr>\n",
              "    <tr>\n",
              "      <th>6</th>\n",
              "      <td>UP2524</td>\n",
              "      <td>UP</td>\n",
              "      <td></td>\n",
              "      <td>ZBRG2</td>\n",
              "      <td>2022-04-06</td>\n",
              "      <td>106</td>\n",
              "      <td>MT 2</td>\n",
              "      <td>2</td>\n",
              "      <td>0</td>\n",
              "      <td>Z</td>\n",
              "      <td>202.20</td>\n",
              "      <td>2022</td>\n",
              "      <td>False</td>\n",
              "      <td>False</td>\n",
              "      <td>False</td>\n",
              "      <td>False</td>\n",
              "      <td>False</td>\n",
              "      <td>False</td>\n",
              "      <td>False</td>\n",
              "      <td>False</td>\n",
              "      <td>False</td>\n",
              "      <td>False</td>\n",
              "      <td>False</td>\n",
              "      <td>True</td>\n",
              "      <td>True</td>\n",
              "      <td>True</td>\n",
              "      <td>True</td>\n",
              "      <td>True</td>\n",
              "      <td>70.0</td>\n",
              "      <td>37.0</td>\n",
              "      <td>5.0</td>\n",
              "      <td>6034.0</td>\n",
              "      <td>4180.0</td>\n",
              "      <td>-29</td>\n",
              "      <td>320.786591</td>\n",
              "      <td>1</td>\n",
              "      <td>10</td>\n",
              "      <td>2</td>\n",
              "      <td>83582000.0</td>\n",
              "      <td>678370.0</td>\n",
              "      <td>21020000.0</td>\n",
              "      <td>43900.0</td>\n",
              "      <td>65535.0</td>\n",
              "      <td>0</td>\n",
              "      <td>0</td>\n",
              "      <td>0</td>\n",
              "      <td>0</td>\n",
              "      <td>258.420013</td>\n",
              "      <td>-4.0</td>\n",
              "      <td>1.0</td>\n",
              "      <td>260.200012</td>\n",
              "      <td>1.0</td>\n",
              "      <td>320</td>\n",
              "      <td>5</td>\n",
              "      <td>4</td>\n",
              "      <td>14</td>\n",
              "      <td>8</td>\n",
              "      <td>4</td>\n",
              "      <td>98</td>\n",
              "      <td>1.649436e+09</td>\n",
              "      <td>-28</td>\n",
              "    </tr>\n",
              "    <tr>\n",
              "      <th>7</th>\n",
              "      <td>UP2524</td>\n",
              "      <td>UP</td>\n",
              "      <td></td>\n",
              "      <td>ZBRG2</td>\n",
              "      <td>2022-04-06</td>\n",
              "      <td>106</td>\n",
              "      <td>MT 2</td>\n",
              "      <td>2</td>\n",
              "      <td>0</td>\n",
              "      <td>Z</td>\n",
              "      <td>202.20</td>\n",
              "      <td>2022</td>\n",
              "      <td>False</td>\n",
              "      <td>False</td>\n",
              "      <td>False</td>\n",
              "      <td>False</td>\n",
              "      <td>False</td>\n",
              "      <td>False</td>\n",
              "      <td>False</td>\n",
              "      <td>False</td>\n",
              "      <td>False</td>\n",
              "      <td>False</td>\n",
              "      <td>False</td>\n",
              "      <td>True</td>\n",
              "      <td>True</td>\n",
              "      <td>True</td>\n",
              "      <td>True</td>\n",
              "      <td>True</td>\n",
              "      <td>70.0</td>\n",
              "      <td>37.0</td>\n",
              "      <td>5.0</td>\n",
              "      <td>6034.0</td>\n",
              "      <td>4180.0</td>\n",
              "      <td>-34</td>\n",
              "      <td>320.366486</td>\n",
              "      <td>1</td>\n",
              "      <td>10</td>\n",
              "      <td>2</td>\n",
              "      <td>83582000.0</td>\n",
              "      <td>678370.0</td>\n",
              "      <td>21020000.0</td>\n",
              "      <td>43900.0</td>\n",
              "      <td>65535.0</td>\n",
              "      <td>0</td>\n",
              "      <td>0</td>\n",
              "      <td>0</td>\n",
              "      <td>0</td>\n",
              "      <td>258.420013</td>\n",
              "      <td>-4.0</td>\n",
              "      <td>1.0</td>\n",
              "      <td>260.200012</td>\n",
              "      <td>1.0</td>\n",
              "      <td>320</td>\n",
              "      <td>5</td>\n",
              "      <td>4</td>\n",
              "      <td>14</td>\n",
              "      <td>8</td>\n",
              "      <td>4</td>\n",
              "      <td>98</td>\n",
              "      <td>1.649436e+09</td>\n",
              "      <td>-28</td>\n",
              "    </tr>\n",
              "    <tr>\n",
              "      <th>8</th>\n",
              "      <td>UP2524</td>\n",
              "      <td>UP</td>\n",
              "      <td></td>\n",
              "      <td>ZBRG2</td>\n",
              "      <td>2022-04-06</td>\n",
              "      <td>106</td>\n",
              "      <td>MT 2</td>\n",
              "      <td>2</td>\n",
              "      <td>0</td>\n",
              "      <td>Z</td>\n",
              "      <td>202.20</td>\n",
              "      <td>2022</td>\n",
              "      <td>False</td>\n",
              "      <td>False</td>\n",
              "      <td>False</td>\n",
              "      <td>False</td>\n",
              "      <td>False</td>\n",
              "      <td>False</td>\n",
              "      <td>False</td>\n",
              "      <td>False</td>\n",
              "      <td>False</td>\n",
              "      <td>False</td>\n",
              "      <td>False</td>\n",
              "      <td>True</td>\n",
              "      <td>True</td>\n",
              "      <td>True</td>\n",
              "      <td>True</td>\n",
              "      <td>True</td>\n",
              "      <td>70.0</td>\n",
              "      <td>37.0</td>\n",
              "      <td>5.0</td>\n",
              "      <td>6034.0</td>\n",
              "      <td>4180.0</td>\n",
              "      <td>-43</td>\n",
              "      <td>319.048889</td>\n",
              "      <td>1</td>\n",
              "      <td>10</td>\n",
              "      <td>2</td>\n",
              "      <td>83582000.0</td>\n",
              "      <td>678370.0</td>\n",
              "      <td>21020000.0</td>\n",
              "      <td>43900.0</td>\n",
              "      <td>65535.0</td>\n",
              "      <td>0</td>\n",
              "      <td>0</td>\n",
              "      <td>0</td>\n",
              "      <td>0</td>\n",
              "      <td>258.420013</td>\n",
              "      <td>-4.0</td>\n",
              "      <td>1.0</td>\n",
              "      <td>260.200012</td>\n",
              "      <td>1.0</td>\n",
              "      <td>319</td>\n",
              "      <td>5</td>\n",
              "      <td>4</td>\n",
              "      <td>14</td>\n",
              "      <td>8</td>\n",
              "      <td>4</td>\n",
              "      <td>98</td>\n",
              "      <td>1.649436e+09</td>\n",
              "      <td>-25</td>\n",
              "    </tr>\n",
              "    <tr>\n",
              "      <th>9</th>\n",
              "      <td>UP2524</td>\n",
              "      <td>UP</td>\n",
              "      <td></td>\n",
              "      <td>ZBRG2</td>\n",
              "      <td>2022-04-06</td>\n",
              "      <td>106</td>\n",
              "      <td>MT 2</td>\n",
              "      <td>2</td>\n",
              "      <td>0</td>\n",
              "      <td>Z</td>\n",
              "      <td>202.20</td>\n",
              "      <td>2022</td>\n",
              "      <td>False</td>\n",
              "      <td>False</td>\n",
              "      <td>False</td>\n",
              "      <td>False</td>\n",
              "      <td>False</td>\n",
              "      <td>False</td>\n",
              "      <td>False</td>\n",
              "      <td>False</td>\n",
              "      <td>False</td>\n",
              "      <td>False</td>\n",
              "      <td>False</td>\n",
              "      <td>True</td>\n",
              "      <td>True</td>\n",
              "      <td>True</td>\n",
              "      <td>True</td>\n",
              "      <td>True</td>\n",
              "      <td>70.0</td>\n",
              "      <td>37.0</td>\n",
              "      <td>5.0</td>\n",
              "      <td>6034.0</td>\n",
              "      <td>4180.0</td>\n",
              "      <td>0</td>\n",
              "      <td>318.682190</td>\n",
              "      <td>1</td>\n",
              "      <td>10</td>\n",
              "      <td>2</td>\n",
              "      <td>83582000.0</td>\n",
              "      <td>678370.0</td>\n",
              "      <td>21020000.0</td>\n",
              "      <td>43900.0</td>\n",
              "      <td>65535.0</td>\n",
              "      <td>0</td>\n",
              "      <td>0</td>\n",
              "      <td>0</td>\n",
              "      <td>0</td>\n",
              "      <td>258.420013</td>\n",
              "      <td>-4.0</td>\n",
              "      <td>1.0</td>\n",
              "      <td>260.200012</td>\n",
              "      <td>1.0</td>\n",
              "      <td>318</td>\n",
              "      <td>5</td>\n",
              "      <td>4</td>\n",
              "      <td>14</td>\n",
              "      <td>8</td>\n",
              "      <td>4</td>\n",
              "      <td>98</td>\n",
              "      <td>1.649436e+09</td>\n",
              "      <td>-68</td>\n",
              "    </tr>\n",
              "  </tbody>\n",
              "</table>"
            ]
          },
          "metadata": {}
        }
      ]
    },
    {
      "cell_type": "code",
      "source": [
        "fastai.save_pickle('/tmp/to.pkl',to)"
      ],
      "metadata": {
        "id": "r-D5hdO3-ypC"
      },
      "execution_count": 39,
      "outputs": []
    },
    {
      "cell_type": "markdown",
      "source": [
        "# Creating the Decision Tree"
      ],
      "metadata": {
        "id": "knWgCrX_A0Ep"
      }
    },
    {
      "cell_type": "code",
      "source": [
        "to = fastai.load_pickle('/tmp/to.pkl')"
      ],
      "metadata": {
        "id": "rtc_YDw0ArMR"
      },
      "execution_count": 40,
      "outputs": []
    },
    {
      "cell_type": "code",
      "source": [
        "xs,y = to.train.xs,to.train.y\n",
        "valid_xs,valid_y = to.valid.xs,to.valid.y"
      ],
      "metadata": {
        "id": "CcGx27DMBMbc"
      },
      "execution_count": 41,
      "outputs": []
    },
    {
      "cell_type": "code",
      "source": [
        "m = DecisionTreeRegressor(max_leaf_nodes=16)\n",
        "m.fit(xs, y);"
      ],
      "metadata": {
        "id": "clTcBmpGBXv6"
      },
      "execution_count": 42,
      "outputs": []
    },
    {
      "cell_type": "code",
      "source": [
        "fastai.draw_tree(m, xs, size=20, leaves_parallel=True, precision=2)"
      ],
      "metadata": {
        "colab": {
          "base_uri": "https://localhost:8080/",
          "height": 1000
        },
        "id": "nhXNnHk7CSmF",
        "outputId": "dd579326-75fa-481b-849e-7900a9c8cc7f"
      },
      "execution_count": 43,
      "outputs": [
        {
          "output_type": "execute_result",
          "data": {
            "text/plain": [
              "<graphviz.files.Source at 0x7fc6839cd250>"
            ],
            "image/svg+xml": "<?xml version=\"1.0\" encoding=\"UTF-8\" standalone=\"no\"?>\n<!DOCTYPE svg PUBLIC \"-//W3C//DTD SVG 1.1//EN\"\n \"http://www.w3.org/Graphics/SVG/1.1/DTD/svg11.dtd\">\n<!-- Generated by graphviz version 2.40.1 (20161225.0304)\n -->\n<!-- Title: Tree Pages: 1 -->\n<svg width=\"1440pt\" height=\"866pt\"\n viewBox=\"0.00 0.00 1440.00 865.95\" xmlns=\"http://www.w3.org/2000/svg\" xmlns:xlink=\"http://www.w3.org/1999/xlink\">\n<g id=\"graph0\" class=\"graph\" transform=\"scale(.4868 .4868) rotate(0) translate(4 1774.8045)\">\n<title>Tree</title>\n<polygon fill=\"#ffffff\" stroke=\"transparent\" points=\"-4,4 -4,-1774.8045 2954,-1774.8045 2954,4 -4,4\"/>\n<!-- 0 -->\n<g id=\"node1\" class=\"node\">\n<title>0</title>\n<path fill=\"#eda673\" stroke=\"#000000\" d=\"M2414,-1750C2414,-1750 2167,-1750 2167,-1750 2161,-1750 2155,-1744 2155,-1738 2155,-1738 2155,-1694 2155,-1694 2155,-1688 2161,-1682 2167,-1682 2167,-1682 2414,-1682 2414,-1682 2420,-1682 2426,-1688 2426,-1694 2426,-1694 2426,-1738 2426,-1738 2426,-1744 2420,-1750 2414,-1750\"/>\n<text text-anchor=\"start\" x=\"2163\" y=\"-1734.8\" font-family=\"Helvetica,sans-Serif\" font-size=\"14.00\" fill=\"#000000\">lastReportedPosition.speedMPH ≤ 30.5</text>\n<text text-anchor=\"start\" x=\"2214\" y=\"-1719.8\" font-family=\"Helvetica,sans-Serif\" font-size=\"14.00\" fill=\"#000000\">squared_error = 191.55</text>\n<text text-anchor=\"start\" x=\"2238.5\" y=\"-1704.8\" font-family=\"Helvetica,sans-Serif\" font-size=\"14.00\" fill=\"#000000\">samples = 8747</text>\n<text text-anchor=\"start\" x=\"2250.5\" y=\"-1689.8\" font-family=\"Helvetica,sans-Serif\" font-size=\"14.00\" fill=\"#000000\">value = 0.39</text>\n</g>\n<!-- 1 -->\n<g id=\"node2\" class=\"node\">\n<title>1</title>\n<path fill=\"#eb9f68\" stroke=\"#000000\" d=\"M2123,-1583C2123,-1583 1872,-1583 1872,-1583 1866,-1583 1860,-1577 1860,-1571 1860,-1571 1860,-1527 1860,-1527 1860,-1521 1866,-1515 1872,-1515 1872,-1515 2123,-1515 2123,-1515 2129,-1515 2135,-1521 2135,-1527 2135,-1527 2135,-1571 2135,-1571 2135,-1577 2129,-1583 2123,-1583\"/>\n<text text-anchor=\"start\" x=\"1868\" y=\"-1567.8\" font-family=\"Helvetica,sans-Serif\" font-size=\"14.00\" fill=\"#000000\">lastReportedPosition.speedMPH ≤ &#45;42.5</text>\n<text text-anchor=\"start\" x=\"1921\" y=\"-1552.8\" font-family=\"Helvetica,sans-Serif\" font-size=\"14.00\" fill=\"#000000\">squared_error = 194.44</text>\n<text text-anchor=\"start\" x=\"1945.5\" y=\"-1537.8\" font-family=\"Helvetica,sans-Serif\" font-size=\"14.00\" fill=\"#000000\">samples = 6239</text>\n<text text-anchor=\"start\" x=\"1957.5\" y=\"-1522.8\" font-family=\"Helvetica,sans-Serif\" font-size=\"14.00\" fill=\"#000000\">value = 2.45</text>\n</g>\n<!-- 0&#45;&gt;1 -->\n<g id=\"edge1\" class=\"edge\">\n<title>0&#45;&gt;1</title>\n<path fill=\"none\" stroke=\"#000000\" d=\"M2230.5,-1681.8021C2182.7229,-1654.5708 2115.8231,-1616.4401 2065.9586,-1588.0191\"/>\n<polygon fill=\"#000000\" stroke=\"#000000\" points=\"2067.5899,-1584.9203 2057.1689,-1583.0092 2064.1236,-1591.0018 2067.5899,-1584.9203\"/>\n<text text-anchor=\"middle\" x=\"2063.7734\" y=\"-1603.421\" font-family=\"Helvetica,sans-Serif\" font-size=\"14.00\" fill=\"#000000\">True</text>\n</g>\n<!-- 2 -->\n<g id=\"node25\" class=\"node\">\n<title>2</title>\n<path fill=\"#f0b68c\" stroke=\"#000000\" d=\"M2818,-1583C2818,-1583 2351,-1583 2351,-1583 2345,-1583 2339,-1577 2339,-1571 2339,-1571 2339,-1527 2339,-1527 2339,-1521 2345,-1515 2351,-1515 2351,-1515 2818,-1515 2818,-1515 2824,-1515 2830,-1521 2830,-1527 2830,-1527 2830,-1571 2830,-1571 2830,-1577 2824,-1583 2818,-1583\"/>\n<text text-anchor=\"start\" x=\"2347\" y=\"-1567.8\" font-family=\"Helvetica,sans-Serif\" font-size=\"14.00\" fill=\"#000000\">lastReportedPosition.milepostLocation.milepost.milepostNumber ≤ 754.41</text>\n<text text-anchor=\"start\" x=\"2508\" y=\"-1552.8\" font-family=\"Helvetica,sans-Serif\" font-size=\"14.00\" fill=\"#000000\">squared_error = 147.48</text>\n<text text-anchor=\"start\" x=\"2532.5\" y=\"-1537.8\" font-family=\"Helvetica,sans-Serif\" font-size=\"14.00\" fill=\"#000000\">samples = 2508</text>\n<text text-anchor=\"start\" x=\"2542\" y=\"-1522.8\" font-family=\"Helvetica,sans-Serif\" font-size=\"14.00\" fill=\"#000000\">value = &#45;4.74</text>\n</g>\n<!-- 0&#45;&gt;2 -->\n<g id=\"edge24\" class=\"edge\">\n<title>0&#45;&gt;2</title>\n<path fill=\"none\" stroke=\"#000000\" d=\"M2350.7047,-1681.8021C2398.6449,-1654.5708 2465.7731,-1616.4401 2515.8077,-1588.0191\"/>\n<polygon fill=\"#000000\" stroke=\"#000000\" points=\"2517.661,-1590.9917 2524.6275,-1583.0092 2514.2036,-1584.905 2517.661,-1590.9917\"/>\n<text text-anchor=\"middle\" x=\"2517.9876\" y=\"-1603.4113\" font-family=\"Helvetica,sans-Serif\" font-size=\"14.00\" fill=\"#000000\">False</text>\n</g>\n<!-- 3 -->\n<g id=\"node3\" class=\"node\">\n<title>3</title>\n<path fill=\"#e89050\" stroke=\"#000000\" d=\"M501,-1415C501,-1415 34,-1415 34,-1415 28,-1415 22,-1409 22,-1403 22,-1403 22,-1359 22,-1359 22,-1353 28,-1347 34,-1347 34,-1347 501,-1347 501,-1347 507,-1347 513,-1353 513,-1359 513,-1359 513,-1403 513,-1403 513,-1409 507,-1415 501,-1415\"/>\n<text text-anchor=\"start\" x=\"30\" y=\"-1399.8\" font-family=\"Helvetica,sans-Serif\" font-size=\"14.00\" fill=\"#000000\">lastReportedPosition.milepostLocation.milepost.milepostNumber ≤ 278.25</text>\n<text text-anchor=\"start\" x=\"191\" y=\"-1384.8\" font-family=\"Helvetica,sans-Serif\" font-size=\"14.00\" fill=\"#000000\">squared_error = 200.99</text>\n<text text-anchor=\"start\" x=\"215.5\" y=\"-1369.8\" font-family=\"Helvetica,sans-Serif\" font-size=\"14.00\" fill=\"#000000\">samples = 1318</text>\n<text text-anchor=\"start\" x=\"227.5\" y=\"-1354.8\" font-family=\"Helvetica,sans-Serif\" font-size=\"14.00\" fill=\"#000000\">value = 7.36</text>\n</g>\n<!-- 1&#45;&gt;3 -->\n<g id=\"edge2\" class=\"edge\">\n<title>1&#45;&gt;3</title>\n<path fill=\"none\" stroke=\"#000000\" d=\"M1859.9412,-1535.6417C1570.5379,-1507.5378 894.8843,-1441.9252 523.4335,-1405.8537\"/>\n<polygon fill=\"#000000\" stroke=\"#000000\" points=\"523.6434,-1402.3577 513.3519,-1404.8746 522.9667,-1409.3249 523.6434,-1402.3577\"/>\n</g>\n<!-- 4 -->\n<g id=\"node6\" class=\"node\">\n<title>4</title>\n<path fill=\"#eca36f\" stroke=\"#000000\" d=\"M2169.5,-1415C2169.5,-1415 1825.5,-1415 1825.5,-1415 1819.5,-1415 1813.5,-1409 1813.5,-1403 1813.5,-1403 1813.5,-1359 1813.5,-1359 1813.5,-1353 1819.5,-1347 1825.5,-1347 1825.5,-1347 2169.5,-1347 2169.5,-1347 2175.5,-1347 2181.5,-1353 2181.5,-1359 2181.5,-1359 2181.5,-1403 2181.5,-1403 2181.5,-1409 2175.5,-1415 2169.5,-1415\"/>\n<text text-anchor=\"start\" x=\"1821.5\" y=\"-1399.8\" font-family=\"Helvetica,sans-Serif\" font-size=\"14.00\" fill=\"#000000\">lastReportedPosition.nextSignalState.signalState ≤ 3.5</text>\n<text text-anchor=\"start\" x=\"1925\" y=\"-1384.8\" font-family=\"Helvetica,sans-Serif\" font-size=\"14.00\" fill=\"#000000\">squared_error = 184.5</text>\n<text text-anchor=\"start\" x=\"1945.5\" y=\"-1369.8\" font-family=\"Helvetica,sans-Serif\" font-size=\"14.00\" fill=\"#000000\">samples = 4921</text>\n<text text-anchor=\"start\" x=\"1957.5\" y=\"-1354.8\" font-family=\"Helvetica,sans-Serif\" font-size=\"14.00\" fill=\"#000000\">value = 1.13</text>\n</g>\n<!-- 1&#45;&gt;4 -->\n<g id=\"edge5\" class=\"edge\">\n<title>1&#45;&gt;4</title>\n<path fill=\"none\" stroke=\"#000000\" d=\"M1997.5,-1514.5973C1997.5,-1488.8052 1997.5,-1453.2935 1997.5,-1425.3655\"/>\n<polygon fill=\"#000000\" stroke=\"#000000\" points=\"2001.0001,-1425.0692 1997.5,-1415.0692 1994.0001,-1425.0693 2001.0001,-1425.0692\"/>\n</g>\n<!-- 11 -->\n<g id=\"node4\" class=\"node\">\n<title>11</title>\n<path fill=\"#e6833d\" stroke=\"#000000\" d=\"M157,-69.5C157,-69.5 12,-69.5 12,-69.5 6,-69.5 0,-63.5 0,-57.5 0,-57.5 0,-28.5 0,-28.5 0,-22.5 6,-16.5 12,-16.5 12,-16.5 157,-16.5 157,-16.5 163,-16.5 169,-22.5 169,-28.5 169,-28.5 169,-57.5 169,-57.5 169,-63.5 163,-69.5 157,-69.5\"/>\n<text text-anchor=\"start\" x=\"8\" y=\"-54.3\" font-family=\"Helvetica,sans-Serif\" font-size=\"14.00\" fill=\"#000000\">squared_error = 273.33</text>\n<text text-anchor=\"start\" x=\"36.5\" y=\"-39.3\" font-family=\"Helvetica,sans-Serif\" font-size=\"14.00\" fill=\"#000000\">samples = 682</text>\n<text text-anchor=\"start\" x=\"40.5\" y=\"-24.3\" font-family=\"Helvetica,sans-Serif\" font-size=\"14.00\" fill=\"#000000\">value = 11.35</text>\n</g>\n<!-- 3&#45;&gt;11 -->\n<g id=\"edge3\" class=\"edge\">\n<title>3&#45;&gt;11</title>\n<path fill=\"none\" stroke=\"#000000\" d=\"M248.7758,-1346.8258C202.1353,-1261.7004 84.5,-1047 84.5,-1047 84.5,-1047 84.5,-1047 84.5,-377 84.5,-377 84.5,-166.9153 84.5,-79.9792\"/>\n<polygon fill=\"#000000\" stroke=\"#000000\" points=\"88.0001,-79.768 84.5,-69.768 81.0001,-79.7681 88.0001,-79.768\"/>\n</g>\n<!-- 12 -->\n<g id=\"node5\" class=\"node\">\n<title>12</title>\n<path fill=\"#eb9d65\" stroke=\"#000000\" d=\"M336,-69.5C336,-69.5 199,-69.5 199,-69.5 193,-69.5 187,-63.5 187,-57.5 187,-57.5 187,-28.5 187,-28.5 187,-22.5 193,-16.5 199,-16.5 199,-16.5 336,-16.5 336,-16.5 342,-16.5 348,-22.5 348,-28.5 348,-28.5 348,-57.5 348,-57.5 348,-63.5 342,-69.5 336,-69.5\"/>\n<text text-anchor=\"start\" x=\"195\" y=\"-54.3\" font-family=\"Helvetica,sans-Serif\" font-size=\"14.00\" fill=\"#000000\">squared_error = 87.92</text>\n<text text-anchor=\"start\" x=\"219.5\" y=\"-39.3\" font-family=\"Helvetica,sans-Serif\" font-size=\"14.00\" fill=\"#000000\">samples = 636</text>\n<text text-anchor=\"start\" x=\"227.5\" y=\"-24.3\" font-family=\"Helvetica,sans-Serif\" font-size=\"14.00\" fill=\"#000000\">value = 3.07</text>\n</g>\n<!-- 3&#45;&gt;12 -->\n<g id=\"edge4\" class=\"edge\">\n<title>3&#45;&gt;12</title>\n<path fill=\"none\" stroke=\"#000000\" d=\"M267.5,-1346.8258C267.5,-1261.7004 267.5,-1047 267.5,-1047 267.5,-1047 267.5,-1047 267.5,-377 267.5,-377 267.5,-166.9153 267.5,-79.9792\"/>\n<polygon fill=\"#000000\" stroke=\"#000000\" points=\"271.0001,-79.768 267.5,-69.768 264.0001,-79.7681 271.0001,-79.768\"/>\n</g>\n<!-- 5 -->\n<g id=\"node7\" class=\"node\">\n<title>5</title>\n<path fill=\"#eda774\" stroke=\"#000000\" d=\"M2077.5,-1248C2077.5,-1248 1733.5,-1248 1733.5,-1248 1727.5,-1248 1721.5,-1242 1721.5,-1236 1721.5,-1236 1721.5,-1192 1721.5,-1192 1721.5,-1186 1727.5,-1180 1733.5,-1180 1733.5,-1180 2077.5,-1180 2077.5,-1180 2083.5,-1180 2089.5,-1186 2089.5,-1192 2089.5,-1192 2089.5,-1236 2089.5,-1236 2089.5,-1242 2083.5,-1248 2077.5,-1248\"/>\n<text text-anchor=\"start\" x=\"1729.5\" y=\"-1232.8\" font-family=\"Helvetica,sans-Serif\" font-size=\"14.00\" fill=\"#000000\">lastReportedPosition.nextSignalState.signalState ≤ 1.5</text>\n<text text-anchor=\"start\" x=\"1829\" y=\"-1217.8\" font-family=\"Helvetica,sans-Serif\" font-size=\"14.00\" fill=\"#000000\">squared_error = 176.01</text>\n<text text-anchor=\"start\" x=\"1853.5\" y=\"-1202.8\" font-family=\"Helvetica,sans-Serif\" font-size=\"14.00\" fill=\"#000000\">samples = 4201</text>\n<text text-anchor=\"start\" x=\"1865.5\" y=\"-1187.8\" font-family=\"Helvetica,sans-Serif\" font-size=\"14.00\" fill=\"#000000\">value = 0.07</text>\n</g>\n<!-- 4&#45;&gt;5 -->\n<g id=\"edge6\" class=\"edge\">\n<title>4&#45;&gt;5</title>\n<path fill=\"none\" stroke=\"#000000\" d=\"M1978.6604,-1346.8021C1964.3347,-1320.7978 1944.5335,-1284.8543 1929.1436,-1256.9182\"/>\n<polygon fill=\"#000000\" stroke=\"#000000\" points=\"1932.2053,-1255.2222 1924.3144,-1248.1522 1926.0741,-1258.5999 1932.2053,-1255.2222\"/>\n</g>\n<!-- 6 -->\n<g id=\"node24\" class=\"node\">\n<title>6</title>\n<path fill=\"#e89051\" stroke=\"#000000\" d=\"M2190,-69.5C2190,-69.5 2045,-69.5 2045,-69.5 2039,-69.5 2033,-63.5 2033,-57.5 2033,-57.5 2033,-28.5 2033,-28.5 2033,-22.5 2039,-16.5 2045,-16.5 2045,-16.5 2190,-16.5 2190,-16.5 2196,-16.5 2202,-22.5 2202,-28.5 2202,-28.5 2202,-57.5 2202,-57.5 2202,-63.5 2196,-69.5 2190,-69.5\"/>\n<text text-anchor=\"start\" x=\"2041\" y=\"-54.3\" font-family=\"Helvetica,sans-Serif\" font-size=\"14.00\" fill=\"#000000\">squared_error = 189.07</text>\n<text text-anchor=\"start\" x=\"2069.5\" y=\"-39.3\" font-family=\"Helvetica,sans-Serif\" font-size=\"14.00\" fill=\"#000000\">samples = 720</text>\n<text text-anchor=\"start\" x=\"2077.5\" y=\"-24.3\" font-family=\"Helvetica,sans-Serif\" font-size=\"14.00\" fill=\"#000000\">value = 7.33</text>\n</g>\n<!-- 4&#45;&gt;6 -->\n<g id=\"edge23\" class=\"edge\">\n<title>4&#45;&gt;6</title>\n<path fill=\"none\" stroke=\"#000000\" d=\"M2023.51,-1346.7492C2053.4356,-1307.3422 2098.5,-1248 2098.5,-1248 2098.5,-1248 2117.5,-1047 2117.5,-1047 2117.5,-1047 2117.5,-1047 2117.5,-377 2117.5,-377 2117.5,-166.9153 2117.5,-79.9792\"/>\n<polygon fill=\"#000000\" stroke=\"#000000\" points=\"2121.0001,-79.768 2117.5,-69.768 2114.0001,-79.7681 2121.0001,-79.768\"/>\n</g>\n<!-- 7 -->\n<g id=\"node8\" class=\"node\">\n<title>7</title>\n<path fill=\"#eca36e\" stroke=\"#000000\" d=\"M1254,-1081C1254,-1081 1087,-1081 1087,-1081 1081,-1081 1075,-1075 1075,-1069 1075,-1069 1075,-1025 1075,-1025 1075,-1019 1081,-1013 1087,-1013 1087,-1013 1254,-1013 1254,-1013 1260,-1013 1266,-1019 1266,-1025 1266,-1025 1266,-1069 1266,-1069 1266,-1075 1260,-1081 1254,-1081\"/>\n<text text-anchor=\"start\" x=\"1083\" y=\"-1065.8\" font-family=\"Helvetica,sans-Serif\" font-size=\"14.00\" fill=\"#000000\">ptcLeadLocomotiveId ≤ 2.5</text>\n<text text-anchor=\"start\" x=\"1094\" y=\"-1050.8\" font-family=\"Helvetica,sans-Serif\" font-size=\"14.00\" fill=\"#000000\">squared_error = 172.76</text>\n<text text-anchor=\"start\" x=\"1118.5\" y=\"-1035.8\" font-family=\"Helvetica,sans-Serif\" font-size=\"14.00\" fill=\"#000000\">samples = 3359</text>\n<text text-anchor=\"start\" x=\"1130.5\" y=\"-1020.8\" font-family=\"Helvetica,sans-Serif\" font-size=\"14.00\" fill=\"#000000\">value = 1.31</text>\n</g>\n<!-- 5&#45;&gt;7 -->\n<g id=\"edge7\" class=\"edge\">\n<title>5&#45;&gt;7</title>\n<path fill=\"none\" stroke=\"#000000\" d=\"M1755.4322,-1179.903C1612.7643,-1147.4873 1401.8284,-1099.5603 1276.0777,-1070.9884\"/>\n<polygon fill=\"#000000\" stroke=\"#000000\" points=\"1276.5787,-1067.5131 1266.0517,-1068.7104 1275.0277,-1074.3391 1276.5787,-1067.5131\"/>\n</g>\n<!-- 8 -->\n<g id=\"node23\" class=\"node\">\n<title>8</title>\n<path fill=\"#f0b68c\" stroke=\"#000000\" d=\"M2003,-69.5C2003,-69.5 1858,-69.5 1858,-69.5 1852,-69.5 1846,-63.5 1846,-57.5 1846,-57.5 1846,-28.5 1846,-28.5 1846,-22.5 1852,-16.5 1858,-16.5 1858,-16.5 2003,-16.5 2003,-16.5 2009,-16.5 2015,-22.5 2015,-28.5 2015,-28.5 2015,-57.5 2015,-57.5 2015,-63.5 2009,-69.5 2003,-69.5\"/>\n<text text-anchor=\"start\" x=\"1854\" y=\"-54.3\" font-family=\"Helvetica,sans-Serif\" font-size=\"14.00\" fill=\"#000000\">squared_error = 158.43</text>\n<text text-anchor=\"start\" x=\"1882.5\" y=\"-39.3\" font-family=\"Helvetica,sans-Serif\" font-size=\"14.00\" fill=\"#000000\">samples = 842</text>\n<text text-anchor=\"start\" x=\"1888\" y=\"-24.3\" font-family=\"Helvetica,sans-Serif\" font-size=\"14.00\" fill=\"#000000\">value = &#45;4.87</text>\n</g>\n<!-- 5&#45;&gt;8 -->\n<g id=\"edge22\" class=\"edge\">\n<title>5&#45;&gt;8</title>\n<path fill=\"none\" stroke=\"#000000\" d=\"M1908.058,-1179.7234C1914.4296,-1094.3432 1930.5,-879 1930.5,-879 1930.5,-879 1930.5,-879 1930.5,-377 1930.5,-377 1930.5,-166.9153 1930.5,-79.9792\"/>\n<polygon fill=\"#000000\" stroke=\"#000000\" points=\"1934.0001,-79.768 1930.5,-69.768 1927.0001,-79.7681 1934.0001,-79.768\"/>\n</g>\n<!-- 9 -->\n<g id=\"node9\" class=\"node\">\n<title>9</title>\n<path fill=\"#fdf4ed\" stroke=\"#000000\" d=\"M523,-69.5C523,-69.5 378,-69.5 378,-69.5 372,-69.5 366,-63.5 366,-57.5 366,-57.5 366,-28.5 366,-28.5 366,-22.5 372,-16.5 378,-16.5 378,-16.5 523,-16.5 523,-16.5 529,-16.5 535,-22.5 535,-28.5 535,-28.5 535,-57.5 535,-57.5 535,-63.5 529,-69.5 523,-69.5\"/>\n<text text-anchor=\"start\" x=\"374\" y=\"-54.3\" font-family=\"Helvetica,sans-Serif\" font-size=\"14.00\" fill=\"#000000\">squared_error = 404.13</text>\n<text text-anchor=\"start\" x=\"406.5\" y=\"-39.3\" font-family=\"Helvetica,sans-Serif\" font-size=\"14.00\" fill=\"#000000\">samples = 40</text>\n<text text-anchor=\"start\" x=\"404\" y=\"-24.3\" font-family=\"Helvetica,sans-Serif\" font-size=\"14.00\" fill=\"#000000\">value = &#45;24.62</text>\n</g>\n<!-- 7&#45;&gt;9 -->\n<g id=\"edge8\" class=\"edge\">\n<title>7&#45;&gt;9</title>\n<path fill=\"none\" stroke=\"#000000\" d=\"M1094.7859,-1012.8394C1006.7922,-973.1386 873.5,-913 873.5,-913 873.5,-913 450.5,-712 450.5,-712 450.5,-712 450.5,-712 450.5,-377 450.5,-377 450.5,-166.9153 450.5,-79.9792\"/>\n<polygon fill=\"#000000\" stroke=\"#000000\" points=\"454.0001,-79.768 450.5,-69.768 447.0001,-79.7681 454.0001,-79.768\"/>\n</g>\n<!-- 10 -->\n<g id=\"node10\" class=\"node\">\n<title>10</title>\n<path fill=\"#eca26c\" stroke=\"#000000\" d=\"M1446.5,-913C1446.5,-913 894.5,-913 894.5,-913 888.5,-913 882.5,-907 882.5,-901 882.5,-901 882.5,-857 882.5,-857 882.5,-851 888.5,-845 894.5,-845 894.5,-845 1446.5,-845 1446.5,-845 1452.5,-845 1458.5,-851 1458.5,-857 1458.5,-857 1458.5,-901 1458.5,-901 1458.5,-907 1452.5,-913 1446.5,-913\"/>\n<text text-anchor=\"start\" x=\"890.5\" y=\"-897.8\" font-family=\"Helvetica,sans-Serif\" font-size=\"14.00\" fill=\"#000000\">lastReportedPosition.precedingSignalState.milepostLocation.milepostNumber ≤ 213.11</text>\n<text text-anchor=\"start\" x=\"1094\" y=\"-882.8\" font-family=\"Helvetica,sans-Serif\" font-size=\"14.00\" fill=\"#000000\">squared_error = 161.77</text>\n<text text-anchor=\"start\" x=\"1118.5\" y=\"-867.8\" font-family=\"Helvetica,sans-Serif\" font-size=\"14.00\" fill=\"#000000\">samples = 3319</text>\n<text text-anchor=\"start\" x=\"1130.5\" y=\"-852.8\" font-family=\"Helvetica,sans-Serif\" font-size=\"14.00\" fill=\"#000000\">value = 1.62</text>\n</g>\n<!-- 7&#45;&gt;10 -->\n<g id=\"edge9\" class=\"edge\">\n<title>7&#45;&gt;10</title>\n<path fill=\"none\" stroke=\"#000000\" d=\"M1170.5,-1012.5973C1170.5,-986.8052 1170.5,-951.2935 1170.5,-923.3655\"/>\n<polygon fill=\"#000000\" stroke=\"#000000\" points=\"1174.0001,-923.0692 1170.5,-913.0692 1167.0001,-923.0693 1174.0001,-923.0692\"/>\n</g>\n<!-- 13 -->\n<g id=\"node11\" class=\"node\">\n<title>13</title>\n<path fill=\"#e58139\" stroke=\"#000000\" d=\"M710,-69.5C710,-69.5 565,-69.5 565,-69.5 559,-69.5 553,-63.5 553,-57.5 553,-57.5 553,-28.5 553,-28.5 553,-22.5 559,-16.5 565,-16.5 565,-16.5 710,-16.5 710,-16.5 716,-16.5 722,-22.5 722,-28.5 722,-28.5 722,-57.5 722,-57.5 722,-63.5 716,-69.5 710,-69.5\"/>\n<text text-anchor=\"start\" x=\"561\" y=\"-54.3\" font-family=\"Helvetica,sans-Serif\" font-size=\"14.00\" fill=\"#000000\">squared_error = 259.61</text>\n<text text-anchor=\"start\" x=\"589.5\" y=\"-39.3\" font-family=\"Helvetica,sans-Serif\" font-size=\"14.00\" fill=\"#000000\">samples = 153</text>\n<text text-anchor=\"start\" x=\"593.5\" y=\"-24.3\" font-family=\"Helvetica,sans-Serif\" font-size=\"14.00\" fill=\"#000000\">value = 12.14</text>\n</g>\n<!-- 10&#45;&gt;13 -->\n<g id=\"edge10\" class=\"edge\">\n<title>10&#45;&gt;13</title>\n<path fill=\"none\" stroke=\"#000000\" d=\"M1115.9645,-844.8258C980.1207,-759.7004 637.5,-545 637.5,-545 637.5,-545 637.5,-545 637.5,-377 637.5,-377 637.5,-166.9153 637.5,-79.9792\"/>\n<polygon fill=\"#000000\" stroke=\"#000000\" points=\"641.0001,-79.768 637.5,-69.768 634.0001,-79.7681 641.0001,-79.768\"/>\n</g>\n<!-- 14 -->\n<g id=\"node12\" class=\"node\">\n<title>14</title>\n<path fill=\"#eca36f\" stroke=\"#000000\" d=\"M1592,-746C1592,-746 1345,-746 1345,-746 1339,-746 1333,-740 1333,-734 1333,-734 1333,-690 1333,-690 1333,-684 1339,-678 1345,-678 1345,-678 1592,-678 1592,-678 1598,-678 1604,-684 1604,-690 1604,-690 1604,-734 1604,-734 1604,-740 1598,-746 1592,-746\"/>\n<text text-anchor=\"start\" x=\"1341\" y=\"-730.8\" font-family=\"Helvetica,sans-Serif\" font-size=\"14.00\" fill=\"#000000\">lastReportedPosition.speedMPH ≤ 18.5</text>\n<text text-anchor=\"start\" x=\"1392\" y=\"-715.8\" font-family=\"Helvetica,sans-Serif\" font-size=\"14.00\" fill=\"#000000\">squared_error = 151.44</text>\n<text text-anchor=\"start\" x=\"1416.5\" y=\"-700.8\" font-family=\"Helvetica,sans-Serif\" font-size=\"14.00\" fill=\"#000000\">samples = 3166</text>\n<text text-anchor=\"start\" x=\"1428.5\" y=\"-685.8\" font-family=\"Helvetica,sans-Serif\" font-size=\"14.00\" fill=\"#000000\">value = 1.11</text>\n</g>\n<!-- 10&#45;&gt;14 -->\n<g id=\"edge11\" class=\"edge\">\n<title>10&#45;&gt;14</title>\n<path fill=\"none\" stroke=\"#000000\" d=\"M1231.5238,-844.8021C1280.1163,-817.5708 1348.1577,-779.4401 1398.8732,-751.0191\"/>\n<polygon fill=\"#000000\" stroke=\"#000000\" points=\"1400.8004,-753.9512 1407.8129,-746.0092 1397.3782,-747.8447 1400.8004,-753.9512\"/>\n</g>\n<!-- 17 -->\n<g id=\"node13\" class=\"node\">\n<title>17</title>\n<path fill=\"#eca26d\" stroke=\"#000000\" d=\"M1588,-579C1588,-579 1349,-579 1349,-579 1343,-579 1337,-573 1337,-567 1337,-567 1337,-523 1337,-523 1337,-517 1343,-511 1349,-511 1349,-511 1588,-511 1588,-511 1594,-511 1600,-517 1600,-523 1600,-523 1600,-567 1600,-567 1600,-573 1594,-579 1588,-579\"/>\n<text text-anchor=\"start\" x=\"1345\" y=\"-563.8\" font-family=\"Helvetica,sans-Serif\" font-size=\"14.00\" fill=\"#000000\">lastReportedPosition.speedMPH ≤ 0.5</text>\n<text text-anchor=\"start\" x=\"1392\" y=\"-548.8\" font-family=\"Helvetica,sans-Serif\" font-size=\"14.00\" fill=\"#000000\">squared_error = 144.62</text>\n<text text-anchor=\"start\" x=\"1416.5\" y=\"-533.8\" font-family=\"Helvetica,sans-Serif\" font-size=\"14.00\" fill=\"#000000\">samples = 3082</text>\n<text text-anchor=\"start\" x=\"1428.5\" y=\"-518.8\" font-family=\"Helvetica,sans-Serif\" font-size=\"14.00\" fill=\"#000000\">value = 1.44</text>\n</g>\n<!-- 14&#45;&gt;17 -->\n<g id=\"edge12\" class=\"edge\">\n<title>14&#45;&gt;17</title>\n<path fill=\"none\" stroke=\"#000000\" d=\"M1468.5,-677.8021C1468.5,-652.2481 1468.5,-617.0961 1468.5,-589.3766\"/>\n<polygon fill=\"#000000\" stroke=\"#000000\" points=\"1472.0001,-589.1522 1468.5,-579.1522 1465.0001,-589.1522 1472.0001,-589.1522\"/>\n</g>\n<!-- 18 -->\n<g id=\"node22\" class=\"node\">\n<title>18</title>\n<path fill=\"#f4c9aa\" stroke=\"#000000\" d=\"M1816,-69.5C1816,-69.5 1671,-69.5 1671,-69.5 1665,-69.5 1659,-63.5 1659,-57.5 1659,-57.5 1659,-28.5 1659,-28.5 1659,-22.5 1665,-16.5 1671,-16.5 1671,-16.5 1816,-16.5 1816,-16.5 1822,-16.5 1828,-22.5 1828,-28.5 1828,-28.5 1828,-57.5 1828,-57.5 1828,-63.5 1822,-69.5 1816,-69.5\"/>\n<text text-anchor=\"start\" x=\"1667\" y=\"-54.3\" font-family=\"Helvetica,sans-Serif\" font-size=\"14.00\" fill=\"#000000\">squared_error = 251.55</text>\n<text text-anchor=\"start\" x=\"1699.5\" y=\"-39.3\" font-family=\"Helvetica,sans-Serif\" font-size=\"14.00\" fill=\"#000000\">samples = 84</text>\n<text text-anchor=\"start\" x=\"1697\" y=\"-24.3\" font-family=\"Helvetica,sans-Serif\" font-size=\"14.00\" fill=\"#000000\">value = &#45;10.98</text>\n</g>\n<!-- 14&#45;&gt;18 -->\n<g id=\"edge21\" class=\"edge\">\n<title>14&#45;&gt;18</title>\n<path fill=\"none\" stroke=\"#000000\" d=\"M1504.5535,-677.7492C1546.0345,-638.3422 1608.5,-579 1608.5,-579 1608.5,-579 1703.9218,-200.1402 1734.3173,-79.4587\"/>\n<polygon fill=\"#000000\" stroke=\"#000000\" points=\"1737.7569,-80.1323 1736.8053,-69.5803 1730.9689,-78.4226 1737.7569,-80.1323\"/>\n</g>\n<!-- 23 -->\n<g id=\"node14\" class=\"node\">\n<title>23</title>\n<path fill=\"#eca470\" stroke=\"#000000\" d=\"M1487,-411C1487,-411 1236,-411 1236,-411 1230,-411 1224,-405 1224,-399 1224,-399 1224,-355 1224,-355 1224,-349 1230,-343 1236,-343 1236,-343 1487,-343 1487,-343 1493,-343 1499,-349 1499,-355 1499,-355 1499,-399 1499,-399 1499,-405 1493,-411 1487,-411\"/>\n<text text-anchor=\"start\" x=\"1232\" y=\"-395.8\" font-family=\"Helvetica,sans-Serif\" font-size=\"14.00\" fill=\"#000000\">lastReportedPosition.speedMPH ≤ &#45;30.5</text>\n<text text-anchor=\"start\" x=\"1285\" y=\"-380.8\" font-family=\"Helvetica,sans-Serif\" font-size=\"14.00\" fill=\"#000000\">squared_error = 133.48</text>\n<text text-anchor=\"start\" x=\"1309.5\" y=\"-365.8\" font-family=\"Helvetica,sans-Serif\" font-size=\"14.00\" fill=\"#000000\">samples = 2881</text>\n<text text-anchor=\"start\" x=\"1321.5\" y=\"-350.8\" font-family=\"Helvetica,sans-Serif\" font-size=\"14.00\" fill=\"#000000\">value = 0.95</text>\n</g>\n<!-- 17&#45;&gt;23 -->\n<g id=\"edge13\" class=\"edge\">\n<title>17&#45;&gt;23</title>\n<path fill=\"none\" stroke=\"#000000\" d=\"M1446.5888,-510.5973C1429.7998,-484.237 1406.5447,-447.7244 1388.5884,-419.5313\"/>\n<polygon fill=\"#000000\" stroke=\"#000000\" points=\"1391.523,-417.6236 1383.1989,-411.0692 1385.6188,-421.384 1391.523,-417.6236\"/>\n</g>\n<!-- 24 -->\n<g id=\"node21\" class=\"node\">\n<title>24</title>\n<path fill=\"#e78d4b\" stroke=\"#000000\" d=\"M1629,-69.5C1629,-69.5 1484,-69.5 1484,-69.5 1478,-69.5 1472,-63.5 1472,-57.5 1472,-57.5 1472,-28.5 1472,-28.5 1472,-22.5 1478,-16.5 1484,-16.5 1484,-16.5 1629,-16.5 1629,-16.5 1635,-16.5 1641,-22.5 1641,-28.5 1641,-28.5 1641,-57.5 1641,-57.5 1641,-63.5 1635,-69.5 1629,-69.5\"/>\n<text text-anchor=\"start\" x=\"1480\" y=\"-54.3\" font-family=\"Helvetica,sans-Serif\" font-size=\"14.00\" fill=\"#000000\">squared_error = 251.98</text>\n<text text-anchor=\"start\" x=\"1508.5\" y=\"-39.3\" font-family=\"Helvetica,sans-Serif\" font-size=\"14.00\" fill=\"#000000\">samples = 201</text>\n<text text-anchor=\"start\" x=\"1516.5\" y=\"-24.3\" font-family=\"Helvetica,sans-Serif\" font-size=\"14.00\" fill=\"#000000\">value = 8.43</text>\n</g>\n<!-- 17&#45;&gt;24 -->\n<g id=\"edge20\" class=\"edge\">\n<title>17&#45;&gt;24</title>\n<path fill=\"none\" stroke=\"#000000\" d=\"M1478.509,-510.7645C1501.5738,-431.8727 1556.5,-244 1556.5,-244 1556.5,-244 1556.5,-137.9759 1556.5,-79.9342\"/>\n<polygon fill=\"#000000\" stroke=\"#000000\" points=\"1560.0001,-79.6912 1556.5,-69.6912 1553.0001,-79.6913 1560.0001,-79.6912\"/>\n</g>\n<!-- 25 -->\n<g id=\"node15\" class=\"node\">\n<title>25</title>\n<path fill=\"#eb9f68\" stroke=\"#000000\" d=\"M1145,-244C1145,-244 678,-244 678,-244 672,-244 666,-238 666,-232 666,-232 666,-188 666,-188 666,-182 672,-176 678,-176 678,-176 1145,-176 1145,-176 1151,-176 1157,-182 1157,-188 1157,-188 1157,-232 1157,-232 1157,-238 1151,-244 1145,-244\"/>\n<text text-anchor=\"start\" x=\"674\" y=\"-228.8\" font-family=\"Helvetica,sans-Serif\" font-size=\"14.00\" fill=\"#000000\">lastReportedPosition.milepostLocation.milepost.milepostNumber ≤ 255.79</text>\n<text text-anchor=\"start\" x=\"835\" y=\"-213.8\" font-family=\"Helvetica,sans-Serif\" font-size=\"14.00\" fill=\"#000000\">squared_error = 111.56</text>\n<text text-anchor=\"start\" x=\"859.5\" y=\"-198.8\" font-family=\"Helvetica,sans-Serif\" font-size=\"14.00\" fill=\"#000000\">samples = 1626</text>\n<text text-anchor=\"start\" x=\"871.5\" y=\"-183.8\" font-family=\"Helvetica,sans-Serif\" font-size=\"14.00\" fill=\"#000000\">value = 2.55</text>\n</g>\n<!-- 23&#45;&gt;25 -->\n<g id=\"edge14\" class=\"edge\">\n<title>23&#45;&gt;25</title>\n<path fill=\"none\" stroke=\"#000000\" d=\"M1269.6218,-342.903C1195.0511,-315.229 1090.0174,-276.2498 1012.9792,-247.6601\"/>\n<polygon fill=\"#000000\" stroke=\"#000000\" points=\"1013.8457,-244.2484 1003.2527,-244.0505 1011.4102,-250.8111 1013.8457,-244.2484\"/>\n</g>\n<!-- 26 -->\n<g id=\"node18\" class=\"node\">\n<title>26</title>\n<path fill=\"#eeaa7a\" stroke=\"#000000\" d=\"M1535.5,-244C1535.5,-244 1187.5,-244 1187.5,-244 1181.5,-244 1175.5,-238 1175.5,-232 1175.5,-232 1175.5,-188 1175.5,-188 1175.5,-182 1181.5,-176 1187.5,-176 1187.5,-176 1535.5,-176 1535.5,-176 1541.5,-176 1547.5,-182 1547.5,-188 1547.5,-188 1547.5,-232 1547.5,-232 1547.5,-238 1541.5,-244 1535.5,-244\"/>\n<text text-anchor=\"start\" x=\"1183.5\" y=\"-228.8\" font-family=\"Helvetica,sans-Serif\" font-size=\"14.00\" fill=\"#000000\">lastReportedPosition.nextSignalState.signalState ≤ &#45;3.5</text>\n<text text-anchor=\"start\" x=\"1285\" y=\"-213.8\" font-family=\"Helvetica,sans-Serif\" font-size=\"14.00\" fill=\"#000000\">squared_error = 154.35</text>\n<text text-anchor=\"start\" x=\"1309.5\" y=\"-198.8\" font-family=\"Helvetica,sans-Serif\" font-size=\"14.00\" fill=\"#000000\">samples = 1255</text>\n<text text-anchor=\"start\" x=\"1319\" y=\"-183.8\" font-family=\"Helvetica,sans-Serif\" font-size=\"14.00\" fill=\"#000000\">value = &#45;1.11</text>\n</g>\n<!-- 23&#45;&gt;26 -->\n<g id=\"edge17\" class=\"edge\">\n<title>23&#45;&gt;26</title>\n<path fill=\"none\" stroke=\"#000000\" d=\"M1361.5,-342.8021C1361.5,-317.2481 1361.5,-282.0961 1361.5,-254.3766\"/>\n<polygon fill=\"#000000\" stroke=\"#000000\" points=\"1365.0001,-254.1522 1361.5,-244.1522 1358.0001,-254.1522 1365.0001,-254.1522\"/>\n</g>\n<!-- 29 -->\n<g id=\"node16\" class=\"node\">\n<title>29</title>\n<path fill=\"#e99355\" stroke=\"#000000\" d=\"M897,-69.5C897,-69.5 752,-69.5 752,-69.5 746,-69.5 740,-63.5 740,-57.5 740,-57.5 740,-28.5 740,-28.5 740,-22.5 746,-16.5 752,-16.5 752,-16.5 897,-16.5 897,-16.5 903,-16.5 909,-22.5 909,-28.5 909,-28.5 909,-57.5 909,-57.5 909,-63.5 903,-69.5 897,-69.5\"/>\n<text text-anchor=\"start\" x=\"748\" y=\"-54.3\" font-family=\"Helvetica,sans-Serif\" font-size=\"14.00\" fill=\"#000000\">squared_error = 186.43</text>\n<text text-anchor=\"start\" x=\"776.5\" y=\"-39.3\" font-family=\"Helvetica,sans-Serif\" font-size=\"14.00\" fill=\"#000000\">samples = 525</text>\n<text text-anchor=\"start\" x=\"784.5\" y=\"-24.3\" font-family=\"Helvetica,sans-Serif\" font-size=\"14.00\" fill=\"#000000\">value = 6.44</text>\n</g>\n<!-- 25&#45;&gt;29 -->\n<g id=\"edge15\" class=\"edge\">\n<title>25&#45;&gt;29</title>\n<path fill=\"none\" stroke=\"#000000\" d=\"M893.6843,-175.8021C878.926,-147.4729 858.0225,-107.3478 843.0619,-78.6303\"/>\n<polygon fill=\"#000000\" stroke=\"#000000\" points=\"846.153,-76.9882 838.4287,-69.7366 839.9449,-80.2224 846.153,-76.9882\"/>\n</g>\n<!-- 30 -->\n<g id=\"node17\" class=\"node\">\n<title>30</title>\n<path fill=\"#eca571\" stroke=\"#000000\" d=\"M1076,-69.5C1076,-69.5 939,-69.5 939,-69.5 933,-69.5 927,-63.5 927,-57.5 927,-57.5 927,-28.5 927,-28.5 927,-22.5 933,-16.5 939,-16.5 939,-16.5 1076,-16.5 1076,-16.5 1082,-16.5 1088,-22.5 1088,-28.5 1088,-28.5 1088,-57.5 1088,-57.5 1088,-63.5 1082,-69.5 1076,-69.5\"/>\n<text text-anchor=\"start\" x=\"935\" y=\"-54.3\" font-family=\"Helvetica,sans-Serif\" font-size=\"14.00\" fill=\"#000000\">squared_error = 65.15</text>\n<text text-anchor=\"start\" x=\"955.5\" y=\"-39.3\" font-family=\"Helvetica,sans-Serif\" font-size=\"14.00\" fill=\"#000000\">samples = 1101</text>\n<text text-anchor=\"start\" x=\"967.5\" y=\"-24.3\" font-family=\"Helvetica,sans-Serif\" font-size=\"14.00\" fill=\"#000000\">value = 0.69</text>\n</g>\n<!-- 25&#45;&gt;30 -->\n<g id=\"edge16\" class=\"edge\">\n<title>25&#45;&gt;30</title>\n<path fill=\"none\" stroke=\"#000000\" d=\"M931.1587,-175.8021C947.4437,-147.4729 970.5096,-107.3478 987.0179,-78.6303\"/>\n<polygon fill=\"#000000\" stroke=\"#000000\" points=\"990.181,-80.1506 992.1304,-69.7366 984.1123,-76.662 990.181,-80.1506\"/>\n</g>\n<!-- 27 -->\n<g id=\"node19\" class=\"node\">\n<title>27</title>\n<path fill=\"#f1ba93\" stroke=\"#000000\" d=\"M1263,-69.5C1263,-69.5 1118,-69.5 1118,-69.5 1112,-69.5 1106,-63.5 1106,-57.5 1106,-57.5 1106,-28.5 1106,-28.5 1106,-22.5 1112,-16.5 1118,-16.5 1118,-16.5 1263,-16.5 1263,-16.5 1269,-16.5 1275,-22.5 1275,-28.5 1275,-28.5 1275,-57.5 1275,-57.5 1275,-63.5 1269,-69.5 1263,-69.5\"/>\n<text text-anchor=\"start\" x=\"1114\" y=\"-54.3\" font-family=\"Helvetica,sans-Serif\" font-size=\"14.00\" fill=\"#000000\">squared_error = 174.87</text>\n<text text-anchor=\"start\" x=\"1142.5\" y=\"-39.3\" font-family=\"Helvetica,sans-Serif\" font-size=\"14.00\" fill=\"#000000\">samples = 465</text>\n<text text-anchor=\"start\" x=\"1148\" y=\"-24.3\" font-family=\"Helvetica,sans-Serif\" font-size=\"14.00\" fill=\"#000000\">value = &#45;6.26</text>\n</g>\n<!-- 26&#45;&gt;27 -->\n<g id=\"edge18\" class=\"edge\">\n<title>26&#45;&gt;27</title>\n<path fill=\"none\" stroke=\"#000000\" d=\"M1326.483,-175.8021C1296.8474,-146.8597 1254.6048,-105.6053 1225.0909,-76.7818\"/>\n<polygon fill=\"#000000\" stroke=\"#000000\" points=\"1227.4767,-74.2196 1217.877,-69.7366 1222.5859,-79.2276 1227.4767,-74.2196\"/>\n</g>\n<!-- 28 -->\n<g id=\"node20\" class=\"node\">\n<title>28</title>\n<path fill=\"#eca16b\" stroke=\"#000000\" d=\"M1442,-69.5C1442,-69.5 1305,-69.5 1305,-69.5 1299,-69.5 1293,-63.5 1293,-57.5 1293,-57.5 1293,-28.5 1293,-28.5 1293,-22.5 1299,-16.5 1305,-16.5 1305,-16.5 1442,-16.5 1442,-16.5 1448,-16.5 1454,-22.5 1454,-28.5 1454,-28.5 1454,-57.5 1454,-57.5 1454,-63.5 1448,-69.5 1442,-69.5\"/>\n<text text-anchor=\"start\" x=\"1301\" y=\"-54.3\" font-family=\"Helvetica,sans-Serif\" font-size=\"14.00\" fill=\"#000000\">squared_error = 117.4</text>\n<text text-anchor=\"start\" x=\"1325.5\" y=\"-39.3\" font-family=\"Helvetica,sans-Serif\" font-size=\"14.00\" fill=\"#000000\">samples = 790</text>\n<text text-anchor=\"start\" x=\"1333.5\" y=\"-24.3\" font-family=\"Helvetica,sans-Serif\" font-size=\"14.00\" fill=\"#000000\">value = 1.93</text>\n</g>\n<!-- 26&#45;&gt;28 -->\n<g id=\"edge19\" class=\"edge\">\n<title>26&#45;&gt;28</title>\n<path fill=\"none\" stroke=\"#000000\" d=\"M1363.9573,-175.8021C1365.9665,-147.8408 1368.8015,-108.3881 1370.8589,-79.7549\"/>\n<polygon fill=\"#000000\" stroke=\"#000000\" points=\"1374.353,-79.9618 1371.5788,-69.7366 1367.371,-79.46 1374.353,-79.9618\"/>\n</g>\n<!-- 15 -->\n<g id=\"node26\" class=\"node\">\n<title>15</title>\n<path fill=\"#f0b58a\" stroke=\"#000000\" d=\"M2708,-1415C2708,-1415 2461,-1415 2461,-1415 2455,-1415 2449,-1409 2449,-1403 2449,-1403 2449,-1359 2449,-1359 2449,-1353 2455,-1347 2461,-1347 2461,-1347 2708,-1347 2708,-1347 2714,-1347 2720,-1353 2720,-1359 2720,-1359 2720,-1403 2720,-1403 2720,-1409 2714,-1415 2708,-1415\"/>\n<text text-anchor=\"start\" x=\"2457\" y=\"-1399.8\" font-family=\"Helvetica,sans-Serif\" font-size=\"14.00\" fill=\"#000000\">lastReportedPosition.speedMPH ≤ 51.5</text>\n<text text-anchor=\"start\" x=\"2508\" y=\"-1384.8\" font-family=\"Helvetica,sans-Serif\" font-size=\"14.00\" fill=\"#000000\">squared_error = 141.21</text>\n<text text-anchor=\"start\" x=\"2532.5\" y=\"-1369.8\" font-family=\"Helvetica,sans-Serif\" font-size=\"14.00\" fill=\"#000000\">samples = 2478</text>\n<text text-anchor=\"start\" x=\"2542\" y=\"-1354.8\" font-family=\"Helvetica,sans-Serif\" font-size=\"14.00\" fill=\"#000000\">value = &#45;4.46</text>\n</g>\n<!-- 2&#45;&gt;15 -->\n<g id=\"edge25\" class=\"edge\">\n<title>2&#45;&gt;15</title>\n<path fill=\"none\" stroke=\"#000000\" d=\"M2584.5,-1514.5973C2584.5,-1488.8052 2584.5,-1453.2935 2584.5,-1425.3655\"/>\n<polygon fill=\"#000000\" stroke=\"#000000\" points=\"2588.0001,-1425.0692 2584.5,-1415.0692 2581.0001,-1425.0693 2588.0001,-1425.0692\"/>\n</g>\n<!-- 16 -->\n<g id=\"node31\" class=\"node\">\n<title>16</title>\n<path fill=\"#ffffff\" stroke=\"#000000\" d=\"M2938,-69.5C2938,-69.5 2793,-69.5 2793,-69.5 2787,-69.5 2781,-63.5 2781,-57.5 2781,-57.5 2781,-28.5 2781,-28.5 2781,-22.5 2787,-16.5 2793,-16.5 2793,-16.5 2938,-16.5 2938,-16.5 2944,-16.5 2950,-22.5 2950,-28.5 2950,-28.5 2950,-57.5 2950,-57.5 2950,-63.5 2944,-69.5 2938,-69.5\"/>\n<text text-anchor=\"start\" x=\"2789\" y=\"-54.3\" font-family=\"Helvetica,sans-Serif\" font-size=\"14.00\" fill=\"#000000\">squared_error = 103.41</text>\n<text text-anchor=\"start\" x=\"2821.5\" y=\"-39.3\" font-family=\"Helvetica,sans-Serif\" font-size=\"14.00\" fill=\"#000000\">samples = 30</text>\n<text text-anchor=\"start\" x=\"2823\" y=\"-24.3\" font-family=\"Helvetica,sans-Serif\" font-size=\"14.00\" fill=\"#000000\">value = &#45;28.3</text>\n</g>\n<!-- 2&#45;&gt;16 -->\n<g id=\"edge30\" class=\"edge\">\n<title>2&#45;&gt;16</title>\n<path fill=\"none\" stroke=\"#000000\" d=\"M2621.4648,-1514.8394C2664.4247,-1475.1386 2729.5,-1415 2729.5,-1415 2729.5,-1415 2865.5,-1214 2865.5,-1214 2865.5,-1214 2865.5,-1214 2865.5,-377 2865.5,-377 2865.5,-166.9153 2865.5,-79.9792\"/>\n<polygon fill=\"#000000\" stroke=\"#000000\" points=\"2869.0001,-79.768 2865.5,-69.768 2862.0001,-79.7681 2869.0001,-79.768\"/>\n</g>\n<!-- 19 -->\n<g id=\"node27\" class=\"node\">\n<title>19</title>\n<path fill=\"#efb185\" stroke=\"#000000\" d=\"M2592,-1248C2592,-1248 2391,-1248 2391,-1248 2385,-1248 2379,-1242 2379,-1236 2379,-1236 2379,-1192 2379,-1192 2379,-1186 2385,-1180 2391,-1180 2391,-1180 2592,-1180 2592,-1180 2598,-1180 2604,-1186 2604,-1192 2604,-1192 2604,-1236 2604,-1236 2604,-1242 2598,-1248 2592,-1248\"/>\n<text text-anchor=\"start\" x=\"2387\" y=\"-1232.8\" font-family=\"Helvetica,sans-Serif\" font-size=\"14.00\" fill=\"#000000\">aotuTrainData.priorityCode ≤ 2.5</text>\n<text text-anchor=\"start\" x=\"2415\" y=\"-1217.8\" font-family=\"Helvetica,sans-Serif\" font-size=\"14.00\" fill=\"#000000\">squared_error = 137.49</text>\n<text text-anchor=\"start\" x=\"2439.5\" y=\"-1202.8\" font-family=\"Helvetica,sans-Serif\" font-size=\"14.00\" fill=\"#000000\">samples = 1928</text>\n<text text-anchor=\"start\" x=\"2449\" y=\"-1187.8\" font-family=\"Helvetica,sans-Serif\" font-size=\"14.00\" fill=\"#000000\">value = &#45;3.28</text>\n</g>\n<!-- 15&#45;&gt;19 -->\n<g id=\"edge26\" class=\"edge\">\n<title>15&#45;&gt;19</title>\n<path fill=\"none\" stroke=\"#000000\" d=\"M2565.4556,-1346.8021C2550.9742,-1320.7978 2530.9578,-1284.8543 2515.4006,-1256.9182\"/>\n<polygon fill=\"#000000\" stroke=\"#000000\" points=\"2518.4421,-1255.186 2510.5189,-1248.1522 2512.3264,-1258.5917 2518.4421,-1255.186\"/>\n</g>\n<!-- 20 -->\n<g id=\"node30\" class=\"node\">\n<title>20</title>\n<path fill=\"#f2c29e\" stroke=\"#000000\" d=\"M2751,-69.5C2751,-69.5 2606,-69.5 2606,-69.5 2600,-69.5 2594,-63.5 2594,-57.5 2594,-57.5 2594,-28.5 2594,-28.5 2594,-22.5 2600,-16.5 2606,-16.5 2606,-16.5 2751,-16.5 2751,-16.5 2757,-16.5 2763,-22.5 2763,-28.5 2763,-28.5 2763,-57.5 2763,-57.5 2763,-63.5 2757,-69.5 2751,-69.5\"/>\n<text text-anchor=\"start\" x=\"2602\" y=\"-54.3\" font-family=\"Helvetica,sans-Serif\" font-size=\"14.00\" fill=\"#000000\">squared_error = 132.44</text>\n<text text-anchor=\"start\" x=\"2630.5\" y=\"-39.3\" font-family=\"Helvetica,sans-Serif\" font-size=\"14.00\" fill=\"#000000\">samples = 550</text>\n<text text-anchor=\"start\" x=\"2636\" y=\"-24.3\" font-family=\"Helvetica,sans-Serif\" font-size=\"14.00\" fill=\"#000000\">value = &#45;8.58</text>\n</g>\n<!-- 15&#45;&gt;20 -->\n<g id=\"edge29\" class=\"edge\">\n<title>15&#45;&gt;20</title>\n<path fill=\"none\" stroke=\"#000000\" d=\"M2594.1179,-1346.8258C2618.0753,-1261.7004 2678.5,-1047 2678.5,-1047 2678.5,-1047 2678.5,-1047 2678.5,-377 2678.5,-377 2678.5,-166.9153 2678.5,-79.9792\"/>\n<polygon fill=\"#000000\" stroke=\"#000000\" points=\"2682.0001,-79.768 2678.5,-69.768 2675.0001,-79.7681 2682.0001,-79.768\"/>\n</g>\n<!-- 21 -->\n<g id=\"node28\" class=\"node\">\n<title>21</title>\n<path fill=\"#e78a47\" stroke=\"#000000\" d=\"M2377,-69.5C2377,-69.5 2232,-69.5 2232,-69.5 2226,-69.5 2220,-63.5 2220,-57.5 2220,-57.5 2220,-28.5 2220,-28.5 2220,-22.5 2226,-16.5 2232,-16.5 2232,-16.5 2377,-16.5 2377,-16.5 2383,-16.5 2389,-22.5 2389,-28.5 2389,-28.5 2389,-57.5 2389,-57.5 2389,-63.5 2383,-69.5 2377,-69.5\"/>\n<text text-anchor=\"start\" x=\"2228\" y=\"-54.3\" font-family=\"Helvetica,sans-Serif\" font-size=\"14.00\" fill=\"#000000\">squared_error = 123.74</text>\n<text text-anchor=\"start\" x=\"2260.5\" y=\"-39.3\" font-family=\"Helvetica,sans-Serif\" font-size=\"14.00\" fill=\"#000000\">samples = 97</text>\n<text text-anchor=\"start\" x=\"2264.5\" y=\"-24.3\" font-family=\"Helvetica,sans-Serif\" font-size=\"14.00\" fill=\"#000000\">value = 9.32</text>\n</g>\n<!-- 19&#45;&gt;21 -->\n<g id=\"edge27\" class=\"edge\">\n<title>19&#45;&gt;21</title>\n<path fill=\"none\" stroke=\"#000000\" d=\"M2472.3665,-1179.7234C2424.7065,-1094.3432 2304.5,-879 2304.5,-879 2304.5,-879 2304.5,-879 2304.5,-377 2304.5,-377 2304.5,-166.9153 2304.5,-79.9792\"/>\n<polygon fill=\"#000000\" stroke=\"#000000\" points=\"2308.0001,-79.768 2304.5,-69.768 2301.0001,-79.7681 2308.0001,-79.768\"/>\n</g>\n<!-- 22 -->\n<g id=\"node29\" class=\"node\">\n<title>22</title>\n<path fill=\"#efb388\" stroke=\"#000000\" d=\"M2564,-69.5C2564,-69.5 2419,-69.5 2419,-69.5 2413,-69.5 2407,-63.5 2407,-57.5 2407,-57.5 2407,-28.5 2407,-28.5 2407,-22.5 2413,-16.5 2419,-16.5 2419,-16.5 2564,-16.5 2564,-16.5 2570,-16.5 2576,-22.5 2576,-28.5 2576,-28.5 2576,-57.5 2576,-57.5 2576,-63.5 2570,-69.5 2564,-69.5\"/>\n<text text-anchor=\"start\" x=\"2415\" y=\"-54.3\" font-family=\"Helvetica,sans-Serif\" font-size=\"14.00\" fill=\"#000000\">squared_error = 129.36</text>\n<text text-anchor=\"start\" x=\"2439.5\" y=\"-39.3\" font-family=\"Helvetica,sans-Serif\" font-size=\"14.00\" fill=\"#000000\">samples = 1831</text>\n<text text-anchor=\"start\" x=\"2449\" y=\"-24.3\" font-family=\"Helvetica,sans-Serif\" font-size=\"14.00\" fill=\"#000000\">value = &#45;3.95</text>\n</g>\n<!-- 19&#45;&gt;22 -->\n<g id=\"edge28\" class=\"edge\">\n<title>19&#45;&gt;22</title>\n<path fill=\"none\" stroke=\"#000000\" d=\"M2491.5,-1179.7234C2491.5,-1094.3432 2491.5,-879 2491.5,-879 2491.5,-879 2491.5,-879 2491.5,-377 2491.5,-377 2491.5,-166.9153 2491.5,-79.9792\"/>\n<polygon fill=\"#000000\" stroke=\"#000000\" points=\"2495.0001,-79.768 2491.5,-69.768 2488.0001,-79.7681 2495.0001,-79.768\"/>\n</g>\n</g>\n</svg>\n"
          },
          "metadata": {},
          "execution_count": 43
        }
      ]
    },
    {
      "cell_type": "code",
      "source": [
        "m = DecisionTreeRegressor(min_samples_leaf=10)\n",
        "m.fit(xs, y);"
      ],
      "metadata": {
        "id": "_wto32TJkud4"
      },
      "execution_count": 44,
      "outputs": []
    },
    {
      "cell_type": "code",
      "source": [
        "def r_mse(pred,y): return round(math.sqrt(((pred-y)**2).mean()), 6)\n",
        "def m_rmse(m, xs, y): return r_mse(m.predict(xs), y)"
      ],
      "metadata": {
        "id": "D53phc2JE5RC"
      },
      "execution_count": 45,
      "outputs": []
    },
    {
      "cell_type": "code",
      "source": [
        "m_rmse(m, xs, y)"
      ],
      "metadata": {
        "colab": {
          "base_uri": "https://localhost:8080/"
        },
        "id": "8CYcTQHLHT4m",
        "outputId": "b83cbb72-2b79-4042-8e44-42bdecd4fe93"
      },
      "execution_count": 46,
      "outputs": [
        {
          "output_type": "execute_result",
          "data": {
            "text/plain": [
              "7.900618"
            ]
          },
          "metadata": {},
          "execution_count": 46
        }
      ]
    },
    {
      "cell_type": "code",
      "source": [
        "m_rmse(m, valid_xs, valid_y)"
      ],
      "metadata": {
        "colab": {
          "base_uri": "https://localhost:8080/"
        },
        "id": "_oElvFDHHZHm",
        "outputId": "2bbee7fc-69a4-4d44-8edf-af7d54b35166"
      },
      "execution_count": 47,
      "outputs": [
        {
          "output_type": "execute_result",
          "data": {
            "text/plain": [
              "14.623485"
            ]
          },
          "metadata": {},
          "execution_count": 47
        }
      ]
    },
    {
      "cell_type": "code",
      "source": [
        "def rf_feat_importance(m, df):\n",
        "    return pd.DataFrame({'cols':df.columns, 'imp':m.feature_importances_}\n",
        "                       ).sort_values('imp', ascending=False)"
      ],
      "metadata": {
        "id": "oCKCSQSlab4o"
      },
      "execution_count": 48,
      "outputs": []
    },
    {
      "cell_type": "code",
      "source": [
        "fi = rf_feat_importance(m, xs)\n",
        "fi[:10]"
      ],
      "metadata": {
        "colab": {
          "base_uri": "https://localhost:8080/",
          "height": 363
        },
        "id": "jxENiQDXlYKl",
        "outputId": "fae2001f-b066-49f8-fd62-7c91f103111b"
      },
      "execution_count": 49,
      "outputs": [
        {
          "output_type": "execute_result",
          "data": {
            "text/plain": [
              "                                                                         cols  \\\n",
              "33                                              lastReportedPosition.speedMPH   \n",
              "34              lastReportedPosition.milepostLocation.milepost.milepostNumber   \n",
              "59                                   lastReportedPosition.positionTimeElapsed   \n",
              "51                           lastReportedPosition.nextSignalState.signalState   \n",
              "52                                                                   milepost   \n",
              "0                                                         ptcLeadLocomotiveId   \n",
              "47  lastReportedPosition.precedingSignalState.milepostLocation.milepostNumber   \n",
              "31                                                                trainLength   \n",
              "3                                                         trainId.trainSymbol   \n",
              "29                                                             loadedCarCount   \n",
              "\n",
              "         imp  \n",
              "33  0.228827  \n",
              "34  0.209671  \n",
              "59  0.119081  \n",
              "51  0.083647  \n",
              "52  0.043016  \n",
              "0   0.037739  \n",
              "47  0.034258  \n",
              "31  0.029340  \n",
              "3   0.024447  \n",
              "29  0.020759  "
            ],
            "text/html": [
              "\n",
              "  <div id=\"df-9fa2e761-2897-4810-828f-edaf5940ae5c\">\n",
              "    <div class=\"colab-df-container\">\n",
              "      <div>\n",
              "<style scoped>\n",
              "    .dataframe tbody tr th:only-of-type {\n",
              "        vertical-align: middle;\n",
              "    }\n",
              "\n",
              "    .dataframe tbody tr th {\n",
              "        vertical-align: top;\n",
              "    }\n",
              "\n",
              "    .dataframe thead th {\n",
              "        text-align: right;\n",
              "    }\n",
              "</style>\n",
              "<table border=\"1\" class=\"dataframe\">\n",
              "  <thead>\n",
              "    <tr style=\"text-align: right;\">\n",
              "      <th></th>\n",
              "      <th>cols</th>\n",
              "      <th>imp</th>\n",
              "    </tr>\n",
              "  </thead>\n",
              "  <tbody>\n",
              "    <tr>\n",
              "      <th>33</th>\n",
              "      <td>lastReportedPosition.speedMPH</td>\n",
              "      <td>0.228827</td>\n",
              "    </tr>\n",
              "    <tr>\n",
              "      <th>34</th>\n",
              "      <td>lastReportedPosition.milepostLocation.milepost.milepostNumber</td>\n",
              "      <td>0.209671</td>\n",
              "    </tr>\n",
              "    <tr>\n",
              "      <th>59</th>\n",
              "      <td>lastReportedPosition.positionTimeElapsed</td>\n",
              "      <td>0.119081</td>\n",
              "    </tr>\n",
              "    <tr>\n",
              "      <th>51</th>\n",
              "      <td>lastReportedPosition.nextSignalState.signalState</td>\n",
              "      <td>0.083647</td>\n",
              "    </tr>\n",
              "    <tr>\n",
              "      <th>52</th>\n",
              "      <td>milepost</td>\n",
              "      <td>0.043016</td>\n",
              "    </tr>\n",
              "    <tr>\n",
              "      <th>0</th>\n",
              "      <td>ptcLeadLocomotiveId</td>\n",
              "      <td>0.037739</td>\n",
              "    </tr>\n",
              "    <tr>\n",
              "      <th>47</th>\n",
              "      <td>lastReportedPosition.precedingSignalState.milepostLocation.milepostNumber</td>\n",
              "      <td>0.034258</td>\n",
              "    </tr>\n",
              "    <tr>\n",
              "      <th>31</th>\n",
              "      <td>trainLength</td>\n",
              "      <td>0.029340</td>\n",
              "    </tr>\n",
              "    <tr>\n",
              "      <th>3</th>\n",
              "      <td>trainId.trainSymbol</td>\n",
              "      <td>0.024447</td>\n",
              "    </tr>\n",
              "    <tr>\n",
              "      <th>29</th>\n",
              "      <td>loadedCarCount</td>\n",
              "      <td>0.020759</td>\n",
              "    </tr>\n",
              "  </tbody>\n",
              "</table>\n",
              "</div>\n",
              "      <button class=\"colab-df-convert\" onclick=\"convertToInteractive('df-9fa2e761-2897-4810-828f-edaf5940ae5c')\"\n",
              "              title=\"Convert this dataframe to an interactive table.\"\n",
              "              style=\"display:none;\">\n",
              "        \n",
              "  <svg xmlns=\"http://www.w3.org/2000/svg\" height=\"24px\"viewBox=\"0 0 24 24\"\n",
              "       width=\"24px\">\n",
              "    <path d=\"M0 0h24v24H0V0z\" fill=\"none\"/>\n",
              "    <path d=\"M18.56 5.44l.94 2.06.94-2.06 2.06-.94-2.06-.94-.94-2.06-.94 2.06-2.06.94zm-11 1L8.5 8.5l.94-2.06 2.06-.94-2.06-.94L8.5 2.5l-.94 2.06-2.06.94zm10 10l.94 2.06.94-2.06 2.06-.94-2.06-.94-.94-2.06-.94 2.06-2.06.94z\"/><path d=\"M17.41 7.96l-1.37-1.37c-.4-.4-.92-.59-1.43-.59-.52 0-1.04.2-1.43.59L10.3 9.45l-7.72 7.72c-.78.78-.78 2.05 0 2.83L4 21.41c.39.39.9.59 1.41.59.51 0 1.02-.2 1.41-.59l7.78-7.78 2.81-2.81c.8-.78.8-2.07 0-2.86zM5.41 20L4 18.59l7.72-7.72 1.47 1.35L5.41 20z\"/>\n",
              "  </svg>\n",
              "      </button>\n",
              "      \n",
              "  <style>\n",
              "    .colab-df-container {\n",
              "      display:flex;\n",
              "      flex-wrap:wrap;\n",
              "      gap: 12px;\n",
              "    }\n",
              "\n",
              "    .colab-df-convert {\n",
              "      background-color: #E8F0FE;\n",
              "      border: none;\n",
              "      border-radius: 50%;\n",
              "      cursor: pointer;\n",
              "      display: none;\n",
              "      fill: #1967D2;\n",
              "      height: 32px;\n",
              "      padding: 0 0 0 0;\n",
              "      width: 32px;\n",
              "    }\n",
              "\n",
              "    .colab-df-convert:hover {\n",
              "      background-color: #E2EBFA;\n",
              "      box-shadow: 0px 1px 2px rgba(60, 64, 67, 0.3), 0px 1px 3px 1px rgba(60, 64, 67, 0.15);\n",
              "      fill: #174EA6;\n",
              "    }\n",
              "\n",
              "    [theme=dark] .colab-df-convert {\n",
              "      background-color: #3B4455;\n",
              "      fill: #D2E3FC;\n",
              "    }\n",
              "\n",
              "    [theme=dark] .colab-df-convert:hover {\n",
              "      background-color: #434B5C;\n",
              "      box-shadow: 0px 1px 3px 1px rgba(0, 0, 0, 0.15);\n",
              "      filter: drop-shadow(0px 1px 2px rgba(0, 0, 0, 0.3));\n",
              "      fill: #FFFFFF;\n",
              "    }\n",
              "  </style>\n",
              "\n",
              "      <script>\n",
              "        const buttonEl =\n",
              "          document.querySelector('#df-9fa2e761-2897-4810-828f-edaf5940ae5c button.colab-df-convert');\n",
              "        buttonEl.style.display =\n",
              "          google.colab.kernel.accessAllowed ? 'block' : 'none';\n",
              "\n",
              "        async function convertToInteractive(key) {\n",
              "          const element = document.querySelector('#df-9fa2e761-2897-4810-828f-edaf5940ae5c');\n",
              "          const dataTable =\n",
              "            await google.colab.kernel.invokeFunction('convertToInteractive',\n",
              "                                                     [key], {});\n",
              "          if (!dataTable) return;\n",
              "\n",
              "          const docLinkHtml = 'Like what you see? Visit the ' +\n",
              "            '<a target=\"_blank\" href=https://colab.research.google.com/notebooks/data_table.ipynb>data table notebook</a>'\n",
              "            + ' to learn more about interactive tables.';\n",
              "          element.innerHTML = '';\n",
              "          dataTable['output_type'] = 'display_data';\n",
              "          await google.colab.output.renderOutput(dataTable, element);\n",
              "          const docLink = document.createElement('div');\n",
              "          docLink.innerHTML = docLinkHtml;\n",
              "          element.appendChild(docLink);\n",
              "        }\n",
              "      </script>\n",
              "    </div>\n",
              "  </div>\n",
              "  "
            ]
          },
          "metadata": {},
          "execution_count": 49
        }
      ]
    },
    {
      "cell_type": "markdown",
      "source": [
        "Our first result! It appears the previous speed is so heavily influencing the next speed, it swamps everything else."
      ],
      "metadata": {
        "id": "GAU4iShuUTlj"
      }
    },
    {
      "cell_type": "code",
      "source": [
        "ax = xs['lastReportedPosition.speedMPH'].hist()\n"
      ],
      "metadata": {
        "colab": {
          "base_uri": "https://localhost:8080/",
          "height": 265
        },
        "id": "W_xHGvS4mTAv",
        "outputId": "ff9219dd-11cb-42d2-904d-b398261690c7"
      },
      "execution_count": 50,
      "outputs": [
        {
          "output_type": "display_data",
          "data": {
            "text/plain": [
              "<Figure size 432x288 with 1 Axes>"
            ],
            "image/png": "[encoded data removed]"
          },
          "metadata": {
            "needs_background": "light"
          }
        }
      ]
    },
    {
      "cell_type": "markdown",
      "source": [
        "This is sort of a dur moment, saying \"Speeds don't change a lot one milepost to the next\".  "
      ],
      "metadata": {
        "id": "CmpVELOUoF-l"
      }
    },
    {
      "cell_type": "markdown",
      "source": [
        "#Random Forest"
      ],
      "metadata": {
        "id": "-iGNWlJDmQrV"
      }
    },
    {
      "cell_type": "code",
      "source": [
        "def randomForest(xs, y, n_estimators=50, max_samples=8000,\n",
        "       max_features=0.6, min_samples_leaf=5, **kwargs):\n",
        "    return RandomForestRegressor(n_jobs=-1, n_estimators=n_estimators,\n",
        "        max_samples=max_samples, max_features=max_features,\n",
        "        min_samples_leaf=min_samples_leaf, oob_score=True).fit(xs, y)"
      ],
      "metadata": {
        "id": "FllkOgNkUTGW"
      },
      "execution_count": 61,
      "outputs": []
    },
    {
      "cell_type": "code",
      "source": [
        "m = randomForest(xs, y);"
      ],
      "metadata": {
        "id": "OqX5AcTWVRXE"
      },
      "execution_count": 62,
      "outputs": []
    },
    {
      "cell_type": "code",
      "source": [
        "m_rmse(m, xs, y), m_rmse(m, valid_xs, valid_y)"
      ],
      "metadata": {
        "colab": {
          "base_uri": "https://localhost:8080/"
        },
        "id": "33ncywqjVcwn",
        "outputId": "4cc5c1e5-ef19-4d6b-a77f-3a47cfb6ab13"
      },
      "execution_count": 63,
      "outputs": [
        {
          "output_type": "execute_result",
          "data": {
            "text/plain": [
              "(6.182213, 10.771608)"
            ]
          },
          "metadata": {},
          "execution_count": 63
        }
      ]
    },
    {
      "cell_type": "code",
      "source": [
        ""
      ],
      "metadata": {
        "id": "-CxngEnHofXO",
        "outputId": "45a50b4a-b629-423d-ae75-dc60a0337aa7",
        "colab": {
          "base_uri": "https://localhost:8080/"
        }
      },
      "execution_count": 64,
      "outputs": [
        {
          "output_type": "execute_result",
          "data": {
            "text/plain": [
              "RandomForestRegressor(max_features=0.6, max_samples=8000, min_samples_leaf=5,\n",
              "                      n_estimators=50, n_jobs=-1, oob_score=True)"
            ]
          },
          "metadata": {},
          "execution_count": 64
        }
      ]
    },
    {
      "cell_type": "code",
      "source": [
        "preds = np.stack([t.predict(valid_xs) for t in m.estimators_])"
      ],
      "metadata": {
        "id": "Dg6iyZCIW0Nt"
      },
      "execution_count": null,
      "outputs": []
    },
    {
      "cell_type": "code",
      "source": [
        "r_mse(preds.mean(0), valid_y)"
      ],
      "metadata": {
        "id": "5UldrkUhXFbi",
        "colab": {
          "base_uri": "https://localhost:8080/"
        },
        "outputId": "52c6d00c-a462-405a-c028-f6afd8097da9"
      },
      "execution_count": 66,
      "outputs": [
        {
          "output_type": "execute_result",
          "data": {
            "text/plain": [
              "10.771608"
            ]
          },
          "metadata": {},
          "execution_count": 66
        }
      ]
    },
    {
      "cell_type": "code",
      "source": [
        ""
      ],
      "metadata": {
        "id": "wPJF4i2lqk-K"
      },
      "execution_count": null,
      "outputs": []
    },
    {
      "cell_type": "code",
      "source": [
        "plt.plot([r_mse(preds[:i+1].mean(0), valid_y) for i in range(50)]);"
      ],
      "metadata": {
        "id": "eT0fXh6uXIp1",
        "outputId": "89cf9351-8c2a-472a-c99c-067156609f65",
        "colab": {
          "base_uri": "https://localhost:8080/",
          "height": 268
        }
      },
      "execution_count": 68,
      "outputs": [
        {
          "output_type": "display_data",
          "data": {
            "text/plain": [
              "<Figure size 432x288 with 1 Axes>"
            ],
            "image/png": "[encoded data removed]"
          },
          "metadata": {
            "needs_background": "light"
          }
        }
      ]
    },
    {
      "cell_type": "markdown",
      "source": [
        "### Out-of-Bag Error"
      ],
      "metadata": {
        "id": "GN-VS3_2YsOd"
      }
    },
    {
      "cell_type": "code",
      "source": [
        "r_mse(m.oob_prediction_, y)"
      ],
      "metadata": {
        "colab": {
          "base_uri": "https://localhost:8080/"
        },
        "id": "tvwS19-6Yc20",
        "outputId": "11b1f13f-bb8b-4ff9-d379-3b14b3b87998"
      },
      "execution_count": null,
      "outputs": [
        {
          "output_type": "execute_result",
          "data": {
            "text/plain": [
              "10.355091"
            ]
          },
          "metadata": {},
          "execution_count": 73
        }
      ]
    },
    {
      "cell_type": "code",
      "source": [
        ""
      ],
      "metadata": {
        "id": "URHsHfuMZDAS"
      },
      "execution_count": null,
      "outputs": []
    },
    {
      "cell_type": "markdown",
      "source": [
        "- How confident are we in our predictions using a particular row of data?\n",
        "- For predicting with a particular row of data, what were the most important factors, and how did they influence that prediction?\n",
        "- Which columns are the strongest predictors, which can we ignore?\n",
        "- Which columns are effectively redundant with each other, for purposes of prediction?\n",
        "- How do predictions vary, as we vary these columns?\n"
      ],
      "metadata": {
        "id": "-jSxQWTZZDfx"
      }
    },
    {
      "cell_type": "code",
      "source": [
        "preds = np.stack([t.predict(valid_xs) for t in m.estimators_])"
      ],
      "metadata": {
        "id": "eS53q1RUZRva"
      },
      "execution_count": null,
      "outputs": []
    },
    {
      "cell_type": "code",
      "source": [
        "preds.shape"
      ],
      "metadata": {
        "colab": {
          "base_uri": "https://localhost:8080/"
        },
        "id": "quArhZFkZtq_",
        "outputId": "3edfe1a2-718a-4628-9f4c-e7f1d736af1b"
      },
      "execution_count": null,
      "outputs": [
        {
          "output_type": "execute_result",
          "data": {
            "text/plain": [
              "(50, 844)"
            ]
          },
          "metadata": {},
          "execution_count": 75
        }
      ]
    },
    {
      "cell_type": "code",
      "source": [
        "preds_std = preds.std(0)"
      ],
      "metadata": {
        "id": "xZCBhV9MZxSH"
      },
      "execution_count": null,
      "outputs": []
    },
    {
      "cell_type": "code",
      "source": [
        "print(preds.mean(0)[:15])\n",
        "print(valid_y[:15])"
      ],
      "metadata": {
        "colab": {
          "base_uri": "https://localhost:8080/"
        },
        "id": "ZvKvldDdZ44S",
        "outputId": "db707498-d5b8-40ef-d68c-7a3923b17eaa"
      },
      "execution_count": 74,
      "outputs": [
        {
          "output_type": "stream",
          "name": "stdout",
          "text": [
            "[  1.25783936  -9.37539189 -12.23460279 -13.21507249 -12.80728714  -9.06190632  -4.34928377  -3.88733933  -2.761887    -3.85866767  -4.45679639  -8.25154235  -8.81638695  -9.01038695  -9.66000672]\n",
            "5127    -1\n",
            "5128    -8\n",
            "5129   -11\n",
            "5130   -11\n",
            "5131    -8\n",
            "5132     3\n",
            "5133    16\n",
            "5134    16\n",
            "5135    12\n",
            "5136     9\n",
            "5137     6\n",
            "5138     1\n",
            "5139     0\n",
            "5140     0\n",
            "5141    -2\n",
            "Name: nextSpeed, dtype: int8\n"
          ]
        }
      ]
    },
    {
      "cell_type": "markdown",
      "source": [
        "# FEATURE Importance"
      ],
      "metadata": {
        "id": "tkENwKVIaPXc"
      }
    },
    {
      "cell_type": "code",
      "source": [
        "fi = rf_feat_importance(m, xs)\n",
        "fi[:20]"
      ],
      "metadata": {
        "colab": {
          "base_uri": "https://localhost:8080/",
          "height": 676
        },
        "id": "_xddcBHXaj9O",
        "outputId": "0551faee-aa66-4b78-d4fe-0ac9a400db3a"
      },
      "execution_count": null,
      "outputs": [
        {
          "output_type": "execute_result",
          "data": {
            "text/plain": [
              "                                                                         cols  \\\n",
              "30                                              lastReportedPosition.speedMPH   \n",
              "32              lastReportedPosition.milepostLocation.milepost.milepostNumber   \n",
              "52                                                                   milepost   \n",
              "59                                   lastReportedPosition.positionTimeElapsed   \n",
              "47  lastReportedPosition.precedingSignalState.milepostLocation.milepostNumber   \n",
              "51                           lastReportedPosition.nextSignalState.signalState   \n",
              "50       lastReportedPosition.nextSignalState.milepostLocation.milepostNumber   \n",
              "0                                                         ptcLeadLocomotiveId   \n",
              "3                                                         trainId.trainSymbol   \n",
              "28                                                                trainLength   \n",
              "26                                                             loadedCarCount   \n",
              "39                                        aotuTrainData.totalLocomotiveWeight   \n",
              "49                      lastReportedPosition.precedingSignalState.signalState   \n",
              "37                                               aotuTrainData.totalCarWeight   \n",
              "38                                               aotuTrainData.totalCarLength   \n",
              "27                                                              emptyCarCount   \n",
              "57                                 lastReportedPosition.positionTimeDayofweek   \n",
              "29                                                            trailingTonnage   \n",
              "4                                                           trainId.trainDate   \n",
              "40                                        aotuTrainData.totalLocomotiveLength   \n",
              "\n",
              "         imp  \n",
              "30  0.237157  \n",
              "32  0.133006  \n",
              "52  0.078834  \n",
              "59  0.063294  \n",
              "47  0.055240  \n",
              "51  0.053672  \n",
              "50  0.042685  \n",
              "0   0.030435  \n",
              "3   0.026138  \n",
              "28  0.024713  \n",
              "26  0.022528  \n",
              "39  0.021562  \n",
              "49  0.018907  \n",
              "37  0.017752  \n",
              "38  0.017742  \n",
              "27  0.017695  \n",
              "57  0.016368  \n",
              "29  0.016165  \n",
              "4   0.013640  \n",
              "40  0.011396  "
            ],
            "text/html": [
              "\n",
              "  <div id=\"df-f6c60859-d650-49f0-9345-75cc885bf850\">\n",
              "    <div class=\"colab-df-container\">\n",
              "      <div>\n",
              "<style scoped>\n",
              "    .dataframe tbody tr th:only-of-type {\n",
              "        vertical-align: middle;\n",
              "    }\n",
              "\n",
              "    .dataframe tbody tr th {\n",
              "        vertical-align: top;\n",
              "    }\n",
              "\n",
              "    .dataframe thead th {\n",
              "        text-align: right;\n",
              "    }\n",
              "</style>\n",
              "<table border=\"1\" class=\"dataframe\">\n",
              "  <thead>\n",
              "    <tr style=\"text-align: right;\">\n",
              "      <th></th>\n",
              "      <th>cols</th>\n",
              "      <th>imp</th>\n",
              "    </tr>\n",
              "  </thead>\n",
              "  <tbody>\n",
              "    <tr>\n",
              "      <th>30</th>\n",
              "      <td>lastReportedPosition.speedMPH</td>\n",
              "      <td>0.237157</td>\n",
              "    </tr>\n",
              "    <tr>\n",
              "      <th>32</th>\n",
              "      <td>lastReportedPosition.milepostLocation.milepost.milepostNumber</td>\n",
              "      <td>0.133006</td>\n",
              "    </tr>\n",
              "    <tr>\n",
              "      <th>52</th>\n",
              "      <td>milepost</td>\n",
              "      <td>0.078834</td>\n",
              "    </tr>\n",
              "    <tr>\n",
              "      <th>59</th>\n",
              "      <td>lastReportedPosition.positionTimeElapsed</td>\n",
              "      <td>0.063294</td>\n",
              "    </tr>\n",
              "    <tr>\n",
              "      <th>47</th>\n",
              "      <td>lastReportedPosition.precedingSignalState.milepostLocation.milepostNumber</td>\n",
              "      <td>0.055240</td>\n",
              "    </tr>\n",
              "    <tr>\n",
              "      <th>51</th>\n",
              "      <td>lastReportedPosition.nextSignalState.signalState</td>\n",
              "      <td>0.053672</td>\n",
              "    </tr>\n",
              "    <tr>\n",
              "      <th>50</th>\n",
              "      <td>lastReportedPosition.nextSignalState.milepostLocation.milepostNumber</td>\n",
              "      <td>0.042685</td>\n",
              "    </tr>\n",
              "    <tr>\n",
              "      <th>0</th>\n",
              "      <td>ptcLeadLocomotiveId</td>\n",
              "      <td>0.030435</td>\n",
              "    </tr>\n",
              "    <tr>\n",
              "      <th>3</th>\n",
              "      <td>trainId.trainSymbol</td>\n",
              "      <td>0.026138</td>\n",
              "    </tr>\n",
              "    <tr>\n",
              "      <th>28</th>\n",
              "      <td>trainLength</td>\n",
              "      <td>0.024713</td>\n",
              "    </tr>\n",
              "    <tr>\n",
              "      <th>26</th>\n",
              "      <td>loadedCarCount</td>\n",
              "      <td>0.022528</td>\n",
              "    </tr>\n",
              "    <tr>\n",
              "      <th>39</th>\n",
              "      <td>aotuTrainData.totalLocomotiveWeight</td>\n",
              "      <td>0.021562</td>\n",
              "    </tr>\n",
              "    <tr>\n",
              "      <th>49</th>\n",
              "      <td>lastReportedPosition.precedingSignalState.signalState</td>\n",
              "      <td>0.018907</td>\n",
              "    </tr>\n",
              "    <tr>\n",
              "      <th>37</th>\n",
              "      <td>aotuTrainData.totalCarWeight</td>\n",
              "      <td>0.017752</td>\n",
              "    </tr>\n",
              "    <tr>\n",
              "      <th>38</th>\n",
              "      <td>aotuTrainData.totalCarLength</td>\n",
              "      <td>0.017742</td>\n",
              "    </tr>\n",
              "    <tr>\n",
              "      <th>27</th>\n",
              "      <td>emptyCarCount</td>\n",
              "      <td>0.017695</td>\n",
              "    </tr>\n",
              "    <tr>\n",
              "      <th>57</th>\n",
              "      <td>lastReportedPosition.positionTimeDayofweek</td>\n",
              "      <td>0.016368</td>\n",
              "    </tr>\n",
              "    <tr>\n",
              "      <th>29</th>\n",
              "      <td>trailingTonnage</td>\n",
              "      <td>0.016165</td>\n",
              "    </tr>\n",
              "    <tr>\n",
              "      <th>4</th>\n",
              "      <td>trainId.trainDate</td>\n",
              "      <td>0.013640</td>\n",
              "    </tr>\n",
              "    <tr>\n",
              "      <th>40</th>\n",
              "      <td>aotuTrainData.totalLocomotiveLength</td>\n",
              "      <td>0.011396</td>\n",
              "    </tr>\n",
              "  </tbody>\n",
              "</table>\n",
              "</div>\n",
              "      <button class=\"colab-df-convert\" onclick=\"convertToInteractive('df-f6c60859-d650-49f0-9345-75cc885bf850')\"\n",
              "              title=\"Convert this dataframe to an interactive table.\"\n",
              "              style=\"display:none;\">\n",
              "        \n",
              "  <svg xmlns=\"http://www.w3.org/2000/svg\" height=\"24px\"viewBox=\"0 0 24 24\"\n",
              "       width=\"24px\">\n",
              "    <path d=\"M0 0h24v24H0V0z\" fill=\"none\"/>\n",
              "    <path d=\"M18.56 5.44l.94 2.06.94-2.06 2.06-.94-2.06-.94-.94-2.06-.94 2.06-2.06.94zm-11 1L8.5 8.5l.94-2.06 2.06-.94-2.06-.94L8.5 2.5l-.94 2.06-2.06.94zm10 10l.94 2.06.94-2.06 2.06-.94-2.06-.94-.94-2.06-.94 2.06-2.06.94z\"/><path d=\"M17.41 7.96l-1.37-1.37c-.4-.4-.92-.59-1.43-.59-.52 0-1.04.2-1.43.59L10.3 9.45l-7.72 7.72c-.78.78-.78 2.05 0 2.83L4 21.41c.39.39.9.59 1.41.59.51 0 1.02-.2 1.41-.59l7.78-7.78 2.81-2.81c.8-.78.8-2.07 0-2.86zM5.41 20L4 18.59l7.72-7.72 1.47 1.35L5.41 20z\"/>\n",
              "  </svg>\n",
              "      </button>\n",
              "      \n",
              "  <style>\n",
              "    .colab-df-container {\n",
              "      display:flex;\n",
              "      flex-wrap:wrap;\n",
              "      gap: 12px;\n",
              "    }\n",
              "\n",
              "    .colab-df-convert {\n",
              "      background-color: #E8F0FE;\n",
              "      border: none;\n",
              "      border-radius: 50%;\n",
              "      cursor: pointer;\n",
              "      display: none;\n",
              "      fill: #1967D2;\n",
              "      height: 32px;\n",
              "      padding: 0 0 0 0;\n",
              "      width: 32px;\n",
              "    }\n",
              "\n",
              "    .colab-df-convert:hover {\n",
              "      background-color: #E2EBFA;\n",
              "      box-shadow: 0px 1px 2px rgba(60, 64, 67, 0.3), 0px 1px 3px 1px rgba(60, 64, 67, 0.15);\n",
              "      fill: #174EA6;\n",
              "    }\n",
              "\n",
              "    [theme=dark] .colab-df-convert {\n",
              "      background-color: #3B4455;\n",
              "      fill: #D2E3FC;\n",
              "    }\n",
              "\n",
              "    [theme=dark] .colab-df-convert:hover {\n",
              "      background-color: #434B5C;\n",
              "      box-shadow: 0px 1px 3px 1px rgba(0, 0, 0, 0.15);\n",
              "      filter: drop-shadow(0px 1px 2px rgba(0, 0, 0, 0.3));\n",
              "      fill: #FFFFFF;\n",
              "    }\n",
              "  </style>\n",
              "\n",
              "      <script>\n",
              "        const buttonEl =\n",
              "          document.querySelector('#df-f6c60859-d650-49f0-9345-75cc885bf850 button.colab-df-convert');\n",
              "        buttonEl.style.display =\n",
              "          google.colab.kernel.accessAllowed ? 'block' : 'none';\n",
              "\n",
              "        async function convertToInteractive(key) {\n",
              "          const element = document.querySelector('#df-f6c60859-d650-49f0-9345-75cc885bf850');\n",
              "          const dataTable =\n",
              "            await google.colab.kernel.invokeFunction('convertToInteractive',\n",
              "                                                     [key], {});\n",
              "          if (!dataTable) return;\n",
              "\n",
              "          const docLinkHtml = 'Like what you see? Visit the ' +\n",
              "            '<a target=\"_blank\" href=https://colab.research.google.com/notebooks/data_table.ipynb>data table notebook</a>'\n",
              "            + ' to learn more about interactive tables.';\n",
              "          element.innerHTML = '';\n",
              "          dataTable['output_type'] = 'display_data';\n",
              "          await google.colab.output.renderOutput(dataTable, element);\n",
              "          const docLink = document.createElement('div');\n",
              "          docLink.innerHTML = docLinkHtml;\n",
              "          element.appendChild(docLink);\n",
              "        }\n",
              "      </script>\n",
              "    </div>\n",
              "  </div>\n",
              "  "
            ]
          },
          "metadata": {},
          "execution_count": 78
        }
      ]
    },
    {
      "cell_type": "code",
      "source": [
        "def plot_fi(fi):\n",
        "    return fi.plot('cols', 'imp', 'barh', figsize=(12,7), legend=False)\n",
        "\n",
        "plot_fi(fi[:30]);"
      ],
      "metadata": {
        "colab": {
          "base_uri": "https://localhost:8080/",
          "height": 428
        },
        "id": "PrrzmK6AflwF",
        "outputId": "f5e4a23c-5d82-4340-e699-3392eec13548"
      },
      "execution_count": null,
      "outputs": [
        {
          "output_type": "display_data",
          "data": {
            "text/plain": [
              "<Figure size 864x504 with 1 Axes>"
            ],
            "image/png": "[encoded data removed]"
          },
          "metadata": {
            "needs_background": "light"
          }
        }
      ]
    },
    {
      "cell_type": "markdown",
      "source": [
        "Remove low importance columns"
      ],
      "metadata": {
        "id": "ic6LbeWIf2EQ"
      }
    },
    {
      "cell_type": "code",
      "source": [
        "to_keep = fi[fi.imp>0.0002].cols\n",
        "len(to_keep)"
      ],
      "metadata": {
        "colab": {
          "base_uri": "https://localhost:8080/"
        },
        "id": "jaWtqZdQfwmy",
        "outputId": "7dd2f6d7-bceb-4f67-bf45-d050bdb3bc47"
      },
      "execution_count": null,
      "outputs": [
        {
          "output_type": "execute_result",
          "data": {
            "text/plain": [
              "37"
            ]
          },
          "metadata": {},
          "execution_count": 80
        }
      ]
    },
    {
      "cell_type": "code",
      "source": [
        "xs_imp = xs[to_keep]\n",
        "valid_xs_imp = valid_xs[to_keep]"
      ],
      "metadata": {
        "id": "KK47uCFsgAYv"
      },
      "execution_count": null,
      "outputs": []
    },
    {
      "cell_type": "code",
      "source": [
        "m = randomForest(xs_imp, y)"
      ],
      "metadata": {
        "id": "GgFy875_gGp4"
      },
      "execution_count": null,
      "outputs": []
    },
    {
      "cell_type": "code",
      "source": [
        "m_rmse(m, xs_imp, y), m_rmse(m, valid_xs_imp, valid_y)"
      ],
      "metadata": {
        "colab": {
          "base_uri": "https://localhost:8080/"
        },
        "id": "5e5LZrqmgJf2",
        "outputId": "d80238f2-d246-452b-9392-0820bf8f3eaf"
      },
      "execution_count": null,
      "outputs": [
        {
          "output_type": "execute_result",
          "data": {
            "text/plain": [
              "(9.620474, 10.926534)"
            ]
          },
          "metadata": {},
          "execution_count": 83
        }
      ]
    },
    {
      "cell_type": "code",
      "source": [
        "plot_fi(rf_feat_importance(m, xs_imp));"
      ],
      "metadata": {
        "colab": {
          "base_uri": "https://localhost:8080/",
          "height": 428
        },
        "id": "5Szx4cKsgKPL",
        "outputId": "a7b32971-1565-43e1-a4bf-336adf64ee45"
      },
      "execution_count": null,
      "outputs": [
        {
          "output_type": "display_data",
          "data": {
            "text/plain": [
              "<Figure size 864x504 with 1 Axes>"
            ],
            "image/png": "[encoded data removed]"
          },
          "metadata": {
            "needs_background": "light"
          }
        }
      ]
    },
    {
      "cell_type": "code",
      "source": [
        "fastai.cluster_columns(xs_imp)"
      ],
      "metadata": {
        "colab": {
          "base_uri": "https://localhost:8080/",
          "height": 375
        },
        "id": "ZRqtok8LhwlR",
        "outputId": "6abf1e09-9428-4169-d11e-89fcce8a87e8"
      },
      "execution_count": null,
      "outputs": [
        {
          "output_type": "display_data",
          "data": {
            "text/plain": [
              "<Figure size 720x432 with 1 Axes>"
            ],
            "image/png": "[encoded data removed]"
          },
          "metadata": {
            "needs_background": "light"
          }
        }
      ]
    }
  ],
  "metadata": {
    "colab": {
      "name": "MLModel2-10MinutesLater.ipynb",
      "provenance": [],
      "collapsed_sections": [],
      "include_colab_link": true
    },
    "interpreter": {
      "hash": "99fae7d265480b5fbb0cf965db398c4d2d7b17b55f6259418c7dbfe0de01ea90"
    },
    "kernelspec": {
      "display_name": "Python 3 (ipykernel)",
      "language": "python",
      "name": "python3"
    },
    "language_info": {
      "codemirror_mode": {
        "name": "ipython",
        "version": 3
      },
      "file_extension": ".py",
      "mimetype": "text/x-python",
      "name": "python",
      "nbconvert_exporter": "python",
      "pygments_lexer": "ipython3",
      "version": "3.9.12"
    }
  },
  "nbformat": 4,
  "nbformat_minor": 0
}