{
  "cells": [
    {
      "cell_type": "markdown",
      "metadata": {
        "id": "view-in-github",
        "colab_type": "text"
      },
      "source": [
        "<a href=\"https://colab.research.google.com/github/swicklund/hackathon/blob/main/MLModel-20mins.ipynb\" target=\"_parent\"><img src=\"https://colab.research.google.com/assets/colab-badge.svg\" alt=\"Open In Colab\"/></a>"
      ]
    },
    {
      "cell_type": "code",
      "execution_count": 112,
      "metadata": {
        "id": "f18J8QM17E0a",
        "colab": {
          "base_uri": "https://localhost:8080/"
        },
        "outputId": "e5a08e2b-9693-42d2-abe9-3cfe1f0d3478"
      },
      "outputs": [
        {
          "output_type": "stream",
          "name": "stdout",
          "text": [
            "Looking in indexes: https://pypi.org/simple, https://us-python.pkg.dev/colab-wheels/public/simple/\n",
            "Requirement already satisfied: dtreeviz in /usr/local/lib/python3.7/dist-packages (1.3.6)\n",
            "Requirement already satisfied: scikit-learn in /usr/local/lib/python3.7/dist-packages (from dtreeviz) (1.0.2)\n",
            "Requirement already satisfied: graphviz>=0.9 in /usr/local/lib/python3.7/dist-packages (from dtreeviz) (0.10.1)\n",
            "Requirement already satisfied: colour in /usr/local/lib/python3.7/dist-packages (from dtreeviz) (0.1.5)\n",
            "Requirement already satisfied: matplotlib in /usr/local/lib/python3.7/dist-packages (from dtreeviz) (3.2.2)\n",
            "Requirement already satisfied: numpy in /usr/local/lib/python3.7/dist-packages (from dtreeviz) (1.21.6)\n",
            "Requirement already satisfied: pytest in /usr/local/lib/python3.7/dist-packages (from dtreeviz) (3.6.4)\n",
            "Requirement already satisfied: pandas in /usr/local/lib/python3.7/dist-packages (from dtreeviz) (1.3.5)\n",
            "Requirement already satisfied: python-dateutil>=2.1 in /usr/local/lib/python3.7/dist-packages (from matplotlib->dtreeviz) (2.8.2)\n",
            "Requirement already satisfied: cycler>=0.10 in /usr/local/lib/python3.7/dist-packages (from matplotlib->dtreeviz) (0.11.0)\n",
            "Requirement already satisfied: kiwisolver>=1.0.1 in /usr/local/lib/python3.7/dist-packages (from matplotlib->dtreeviz) (1.4.3)\n",
            "Requirement already satisfied: pyparsing!=2.0.4,!=2.1.2,!=2.1.6,>=2.0.1 in /usr/local/lib/python3.7/dist-packages (from matplotlib->dtreeviz) (3.0.9)\n",
            "Requirement already satisfied: typing-extensions in /usr/local/lib/python3.7/dist-packages (from kiwisolver>=1.0.1->matplotlib->dtreeviz) (4.1.1)\n",
            "Requirement already satisfied: six>=1.5 in /usr/local/lib/python3.7/dist-packages (from python-dateutil>=2.1->matplotlib->dtreeviz) (1.15.0)\n",
            "Requirement already satisfied: pytz>=2017.3 in /usr/local/lib/python3.7/dist-packages (from pandas->dtreeviz) (2022.1)\n",
            "Requirement already satisfied: attrs>=17.4.0 in /usr/local/lib/python3.7/dist-packages (from pytest->dtreeviz) (21.4.0)\n",
            "Requirement already satisfied: pluggy<0.8,>=0.5 in /usr/local/lib/python3.7/dist-packages (from pytest->dtreeviz) (0.7.1)\n",
            "Requirement already satisfied: py>=1.5.0 in /usr/local/lib/python3.7/dist-packages (from pytest->dtreeviz) (1.11.0)\n",
            "Requirement already satisfied: setuptools in /usr/local/lib/python3.7/dist-packages (from pytest->dtreeviz) (57.4.0)\n",
            "Requirement already satisfied: atomicwrites>=1.0 in /usr/local/lib/python3.7/dist-packages (from pytest->dtreeviz) (1.4.0)\n",
            "Requirement already satisfied: more-itertools>=4.0.0 in /usr/local/lib/python3.7/dist-packages (from pytest->dtreeviz) (8.13.0)\n",
            "Requirement already satisfied: joblib>=0.11 in /usr/local/lib/python3.7/dist-packages (from scikit-learn->dtreeviz) (1.1.0)\n",
            "Requirement already satisfied: threadpoolctl>=2.0.0 in /usr/local/lib/python3.7/dist-packages (from scikit-learn->dtreeviz) (3.1.0)\n",
            "Requirement already satisfied: scipy>=1.1.0 in /usr/local/lib/python3.7/dist-packages (from scikit-learn->dtreeviz) (1.4.1)\n",
            "Updated property [core/project].\n"
          ]
        }
      ],
      "source": [
        "!pip install -Uqq fastbook\n",
        "!pip install dtreeviz\n",
        "!gcloud config set project {'hackathon-352519'}\n",
        "\n",
        "import os\n",
        "\n",
        "import IPython\n",
        "import IPython.display\n",
        "import matplotlib as mpl\n",
        "import matplotlib.pyplot as plt\n",
        "import numpy as np\n",
        "import fastbook as fastai\n",
        "import pandas as pd\n",
        "from pandas.io.json import json_normalize\n",
        "import seaborn as sns\n",
        "import tensorflow as tf\n",
        "import json\n",
        "import zipfile\n",
        "from io import BytesIO\n",
        "import torch\n",
        "import math\n",
        "from google.colab import files\n",
        "from google.colab import auth\n",
        "from datetime import datetime, timedelta\n",
        "\n",
        "fastai.setup_book()\n",
        "from fastai import tabular\n",
        "from pandas.api.types import is_string_dtype, is_numeric_dtype, is_categorical_dtype\n",
        "from fastai.tabular.all import *\n",
        "from sklearn.ensemble import RandomForestRegressor\n",
        "from sklearn.tree import DecisionTreeRegressor\n",
        "from dtreeviz.trees import *\n",
        "from IPython.display import Image, display_svg, SVG\n",
        "\n",
        "pd.options.display.max_rows = 20\n",
        "pd.options.display.max_columns = 8\n",
        "auth.authenticate_user()\n"
      ]
    },
    {
      "cell_type": "code",
      "source": [
        "#filename = \"train-data_all-train-events.zip\"\n",
        "#filename = \"train-data-2022062020220626.zip\"\n",
        "filename = \"train-events-20-min.zip\"\n",
        "#measurement = { 'unit' : 'miles', 'size' : 1.0 }\n",
        "measurement = { 'unit' : 'minutes', 'size' : 20.0 }"
      ],
      "metadata": {
        "id": "M3W7KKZc8f92"
      },
      "execution_count": 113,
      "outputs": []
    },
    {
      "cell_type": "code",
      "source": [
        "!gsutil cp gs://trains_data/$filename /tmp/."
      ],
      "metadata": {
        "id": "srQJL7OKVRww",
        "colab": {
          "base_uri": "https://localhost:8080/"
        },
        "outputId": "515b298a-3891-43bd-8cb8-b1c7325a4124"
      },
      "execution_count": 114,
      "outputs": [
        {
          "output_type": "stream",
          "name": "stdout",
          "text": [
            "Copying gs://trains_data/train-events-20-min.zip...\n",
            "/ [1 files][ 40.7 MiB/ 40.7 MiB]                                                \n",
            "Operation completed over 1 objects/40.7 MiB.                                     \n"
          ]
        }
      ]
    },
    {
      "cell_type": "code",
      "execution_count": 115,
      "metadata": {
        "id": "ckXLQ7eQ7E0c",
        "colab": {
          "base_uri": "https://localhost:8080/"
        },
        "outputId": "1e795e1c-f1f8-44e2-daef-9aad35a21de8"
      },
      "outputs": [
        {
          "output_type": "stream",
          "name": "stdout",
          "text": [
            "1000   21:07:34\n",
            "2000   21:07:43\n",
            "3000   21:07:52\n",
            "4000   21:07:57\n",
            "5000   21:08:02\n",
            "6000   21:08:05\n"
          ]
        }
      ],
      "source": [
        "trains = {}\n",
        "i = 1\n",
        "with zipfile.ZipFile(\"/tmp/\"+filename, \"r\") as f:\n",
        "    for name in f.namelist():\n",
        "        if name.endswith('.json'):\n",
        "            with f.open(name) as zd:\n",
        "                data = json.load(zd)\n",
        "                lastTrainReporting = data['lastTrainReporting']\n",
        "                currentLoco = lastTrainReporting['ptcLeadLocomotiveId']\n",
        "                if (\"trainActualPositionList\" in lastTrainReporting and len(lastTrainReporting['trainActualPositionList']) > 0): \n",
        "                    trains[i] = pd.json_normalize(lastTrainReporting)\n",
        "                    i = i + 1\n",
        "                    if (i % 1000 == 0):\n",
        "                      print(i, \" \", datetime.now().strftime(\"%H:%M:%S\"))\n",
        "                            "
      ]
    },
    {
      "cell_type": "code",
      "execution_count": 116,
      "metadata": {
        "id": "lgWV768N7E0d"
      },
      "outputs": [],
      "source": [
        "dfTrainsAll = pd.concat(trains.values())\n",
        "dfTrainsAll[\"milepost\"] = dfTrainsAll.apply(lambda row: math.trunc(row['lastReportedPosition.milepostLocation.milepost.milepostNumber']), axis=1)"
      ]
    },
    {
      "cell_type": "code",
      "source": [
        "del trains"
      ],
      "metadata": {
        "id": "Q581UU9nCWZ1"
      },
      "execution_count": 117,
      "outputs": []
    },
    {
      "cell_type": "code",
      "execution_count": 118,
      "metadata": {
        "id": "Idznxze77E0e",
        "colab": {
          "base_uri": "https://localhost:8080/"
        },
        "outputId": "f84389e0-98d5-4438-bb45-35040fef1da4"
      },
      "outputs": [
        {
          "output_type": "stream",
          "name": "stdout",
          "text": [
            "<class 'pandas.core.frame.DataFrame'>\n",
            "Int64Index: 6747 entries, 0 to 0\n",
            "Data columns (total 37 columns):\n",
            " #   Column                                                         Non-Null Count  Dtype  \n",
            "---  ------                                                         --------------  -----  \n",
            " 0   ptcLeadLocomotiveId                                            6747 non-null   object \n",
            " 1   positionHistoryList                                            6747 non-null   object \n",
            " 2   locomotiveList                                                 6747 non-null   object \n",
            " 3   subdivisionList                                                6747 non-null   object \n",
            " 4   trainEstimatedPositionList                                     6747 non-null   object \n",
            " 5   trainActualPositionList                                        6747 non-null   object \n",
            " 6   trainId.trainSCAC                                              6747 non-null   object \n",
            " 7   trainId.trainSection                                           6747 non-null   object \n",
            " 8   trainId.trainSymbol                                            6747 non-null   object \n",
            " 9   trainId.trainDate                                              6747 non-null   object \n",
            " 10  lastReportedPosition.positionTime                              6747 non-null   object \n",
            " 11  lastReportedPosition.speedMPH                                  6747 non-null   int64  \n",
            " 12  lastReportedPosition.milepostLocation.subdivisionId            6747 non-null   int64  \n",
            " 13  lastReportedPosition.milepostLocation.trackName                6747 non-null   object \n",
            " 14  lastReportedPosition.milepostLocation.milepost.milepostNumber  6747 non-null   float64\n",
            " 15  aotuTrainData.priorityCode                                     6531 non-null   float64\n",
            " 16  aotuTrainData.categoryCode                                     6531 non-null   float64\n",
            " 17  aotuTrainData.authorityRangeCode                               6531 non-null   float64\n",
            " 18  aotuTrainData.ownershipCode                                    6531 non-null   float64\n",
            " 19  aotuTrainData.tenantCarrier                                    6531 non-null   object \n",
            " 20  aotuTrainData.totalCarWeight                                   6531 non-null   float64\n",
            " 21  aotuTrainData.totalCarLength                                   6531 non-null   float64\n",
            " 22  aotuTrainData.totalLocomotiveWeight                            6531 non-null   float64\n",
            " 23  aotuTrainData.totalLocomotiveLength                            6531 non-null   float64\n",
            " 24  aotuTrainData.actualTonsPerAxle                                6531 non-null   float64\n",
            " 25  aotuTrainData.heavy143TonCarCount                              6531 non-null   float64\n",
            " 26  aotuTrainData.heavy158TonCarCount                              6531 non-null   float64\n",
            " 27  aotuTrainData.over158TonCarCount                               6531 non-null   float64\n",
            " 28  aotuTrainData.highWideCarCount                                 6531 non-null   float64\n",
            " 29  aotuTrainData.eventCode                                        6531 non-null   float64\n",
            " 30  aotuTrainData.routeLocationList                                6531 non-null   object \n",
            " 31  maximumTrainSpeed                                              6274 non-null   float64\n",
            " 32  loadedCarCount                                                 6274 non-null   float64\n",
            " 33  emptyCarCount                                                  6274 non-null   float64\n",
            " 34  trainLength                                                    6274 non-null   float64\n",
            " 35  trailingTonnage                                                6274 non-null   float64\n",
            " 36  milepost                                                       6747 non-null   int64  \n",
            "dtypes: float64(20), int64(3), object(14)\n",
            "memory usage: 2.0+ MB\n",
            "None\n",
            "(6747, 37)\n"
          ]
        }
      ],
      "source": [
        "print(dfTrainsAll.info())\n",
        "print(dfTrainsAll.shape)"
      ]
    },
    {
      "cell_type": "markdown",
      "source": [
        "# Create a learning set to modify"
      ],
      "metadata": {
        "id": "D2hF44lYkNIf"
      }
    },
    {
      "cell_type": "code",
      "source": [
        "dfTrainsLearn = dfTrainsAll"
      ],
      "metadata": {
        "id": "it2dDKRfbk0_"
      },
      "execution_count": 119,
      "outputs": []
    },
    {
      "cell_type": "markdown",
      "source": [
        "Clear the nan values and replace with max values."
      ],
      "metadata": {
        "id": "d5b2nVAbkR7M"
      }
    },
    {
      "cell_type": "code",
      "source": [
        "dfTrainsLearn['loadedCarCount'] =  dfTrainsLearn['loadedCarCount'].replace(np.nan, 999.)\n",
        "dfTrainsLearn['emptyCarCount'] =  dfTrainsLearn['emptyCarCount'].replace(np.nan, 999.)\n",
        "dfTrainsLearn['trainLength'] =  dfTrainsLearn['trainLength'].replace(np.nan, 99999.)\n",
        "dfTrainsLearn['trailingTonnage'] =  dfTrainsLearn['trailingTonnage'].replace(np.nan, 99999.)"
      ],
      "metadata": {
        "id": "jTMp9nMBZav1"
      },
      "execution_count": 120,
      "outputs": []
    },
    {
      "cell_type": "markdown",
      "source": [
        "Determine if the train is moving milepost Increasing or decreasing."
      ],
      "metadata": {
        "id": "2yxcbslMj-uZ"
      }
    },
    {
      "cell_type": "code",
      "source": [
        "dfTrainsLearn['mpIncr'] = dfTrainsLearn.apply(lambda row: row['lastReportedPosition.speedMPH'] >= 0, axis=1)"
      ],
      "metadata": {
        "id": "-XDkAezxjVGH"
      },
      "execution_count": 121,
      "outputs": []
    },
    {
      "cell_type": "markdown",
      "source": [
        "Make all speeds positive"
      ],
      "metadata": {
        "id": "_Nge0iAIkFTV"
      }
    },
    {
      "cell_type": "code",
      "source": [
        "dfTrainsLearn['lastReportedPosition.speedMPH']  = dfTrainsLearn.apply(lambda row: abs(row['lastReportedPosition.speedMPH']), axis=1)\n",
        "dfTrainsLearn['maximumTrainSpeed']  = dfTrainsLearn.apply(lambda row: abs(row['maximumTrainSpeed']), axis=1)"
      ],
      "metadata": {
        "id": "TjMlCKaoxbMw"
      },
      "execution_count": 122,
      "outputs": []
    },
    {
      "cell_type": "code",
      "source": [
        "print(\"Speed Distribution:\")\n",
        "dfTrainsLearn['lastReportedPosition.speedMPH'].hist(bins=90)"
      ],
      "metadata": {
        "id": "KWQaxYZ3yC1f",
        "colab": {
          "base_uri": "https://localhost:8080/",
          "height": 303
        },
        "outputId": "5323bcb4-deea-4df8-c748-bbeb20a93eb8"
      },
      "execution_count": 123,
      "outputs": [
        {
          "output_type": "stream",
          "name": "stdout",
          "text": [
            "Speed Distribution:\n"
          ]
        },
        {
          "output_type": "execute_result",
          "data": {
            "text/plain": [
              "<matplotlib.axes._subplots.AxesSubplot at 0x7fe12f589550>"
            ]
          },
          "metadata": {},
          "execution_count": 123
        },
        {
          "output_type": "display_data",
          "data": {
            "text/plain": [
              "<Figure size 432x288 with 1 Axes>"
            ],
            "image/png": "[encoded data removed]"
          },
          "metadata": {
            "needs_background": "light"
          }
        }
      ]
    },
    {
      "cell_type": "markdown",
      "source": [
        "Replace the NaN values in AOTU with zeros"
      ],
      "metadata": {
        "id": "hQ65ocjckk-s"
      }
    },
    {
      "cell_type": "code",
      "source": [
        "aotuColumns = [item for item in dfTrainsLearn.columns if item.startswith('aotu')]\n",
        "for column in aotuColumns:\n",
        "  dfTrainsLearn[column] =  dfTrainsLearn[column].replace(np.nan, 0.)"
      ],
      "metadata": {
        "id": "IjhK53fef5eG"
      },
      "execution_count": 124,
      "outputs": []
    },
    {
      "cell_type": "markdown",
      "source": [
        "Categorize the applicable variables"
      ],
      "metadata": {
        "id": "Skh2x30Ao2aj"
      }
    },
    {
      "cell_type": "code",
      "source": [
        "def categorize(aDataFrame, columnName, defaultReplacement):\n",
        "  aDataFrame[columnName] = aDataFrame[columnName].fillna(value=defaultReplacement)\n",
        "  categories = aDataFrame[columnName].unique()\n",
        "  print(aDataFrame[columnName].unique())\n",
        "  aDataFrame[columnName] = aDataFrame[columnName].astype('category')\n",
        "  aDataFrame[columnName] = aDataFrame[columnName].cat.set_categories(categories)\n",
        "  return aDataFrame"
      ],
      "metadata": {
        "id": "FPO5BUrpVl5t"
      },
      "execution_count": 125,
      "outputs": []
    },
    {
      "cell_type": "code",
      "source": [
        "dfTrainsLearn['symbolType'] = dfTrainsLearn.apply(lambda row: row['trainId.trainSymbol'][:1], axis=1)\n",
        "dfTrainsLearn = categorize(dfTrainsLearn, 'symbolType', \"X\")\n",
        "dfTrainsLearn = categorize(dfTrainsLearn, 'lastReportedPosition.milepostLocation.trackName', \"UNKNOWN\")\n",
        "dfTrainsLearn = categorize(dfTrainsLearn, 'trainId.trainSCAC',\"UNK\")\n",
        "dfTrainsLearn = categorize(dfTrainsLearn, 'trainId.trainSection', ' ')\n",
        "dfTrainsLearn = categorize(dfTrainsLearn, 'aotuTrainData.priorityCode', 0)  # may want to order these\n",
        "dfTrainsLearn = categorize(dfTrainsLearn, 'aotuTrainData.categoryCode', 0)\n",
        "dfTrainsLearn = categorize(dfTrainsLearn, 'aotuTrainData.authorityRangeCode', 0)\n",
        "dfTrainsLearn = categorize(dfTrainsLearn, 'aotuTrainData.ownershipCode', 0)\n",
        "dfTrainsLearn = categorize(dfTrainsLearn, 'aotuTrainData.tenantCarrier', \"0\")\n",
        "dfTrainsLearn = categorize(dfTrainsLearn, 'aotuTrainData.eventCode', 0)\n",
        " "
      ],
      "metadata": {
        "colab": {
          "base_uri": "https://localhost:8080/"
        },
        "id": "CKDKREgdNRGT",
        "outputId": "c3ee4732-846a-4b9a-8fbd-3cceeddb15ba"
      },
      "execution_count": 126,
      "outputs": [
        {
          "output_type": "stream",
          "name": "stdout",
          "text": [
            "['A' 'Q' 'M' 'H' 'G' 'U' 'I' 'O' 'E' 'C' 'Y' 'L' 'Z' 'S' 'R' 'W']\n",
            "['TO_S_UP_MAINLINE' 'WEST MAIN' 'EAST MAIN' 'TO_N_EAST MAIN' 'MAIN' 'S_LUCAS' 'NEW LACY TRACK' 'MAIN CHAISON YARD' 'MT 2' 'MT 1' 'S_VIDOR' 'TO_S_VIDOR' 'TO_S_CS JUNCTION' 'S_HELME' 'EASTXO'\n",
            " 'TO_S_KCS UP PRT CONN' 'KCS UP PORT CONNECT' 'WESTXO' 'N SIDING' 'XO' 'TO_N_HELME' 'TO_N_CHAISON MAIN' 'TO_N_LUCAS' 'TO_N_STARKS' 'S_STARKS' 'S_MAURICEVILLE' 'TO_S_LUCAS' 'TO_N_MAURICEVILLE' 'YD LD'\n",
            " 'TO_N_VIDOR' 'S_FISHER' 'S_CONVERSE' 'S_ANACOCO' 'S_NEAME' 'S_LEESVILLE']\n",
            "['UP']\n",
            "['' '2' '3' '4' '5']\n",
            "[1. 2. 0. 4. 3.]\n",
            "[14. 12.  0.  9.  8. 10. 18. 15.  4. 20. 11.  2. 17. 16. 13. 19.]\n",
            "[2. 0. 3. 1.]\n",
            "[3. 0. 2.]\n",
            "['AMTK' 'BNSF' 0.0 '' 'KCS']\n",
            "[0.]\n"
          ]
        }
      ]
    },
    {
      "cell_type": "markdown",
      "source": [
        "Replace unknown max speeds with 88 miles per hour (to make them recognizable)"
      ],
      "metadata": {
        "id": "5fP9phXQlAXf"
      }
    },
    {
      "cell_type": "code",
      "source": [
        "dfTrainsLearn['maximumTrainSpeed'] =  dfTrainsLearn['maximumTrainSpeed'].replace(np.nan, 88.)\n",
        "print(dfTrainsLearn['maximumTrainSpeed'].unique())"
      ],
      "metadata": {
        "id": "ZTAgIeMJeHmz",
        "colab": {
          "base_uri": "https://localhost:8080/"
        },
        "outputId": "b2c3f5b9-f561-42a7-cf72-5262c425b80e"
      },
      "execution_count": 127,
      "outputs": [
        {
          "output_type": "stream",
          "name": "stdout",
          "text": [
            "[88. 50. 60. 70. 40. 45. 30.]\n"
          ]
        }
      ]
    },
    {
      "cell_type": "markdown",
      "source": [
        "Flatten out the work locations (we may want to change this for the NN algorithm)"
      ],
      "metadata": {
        "id": "Dv-loghjlK_w"
      }
    },
    {
      "cell_type": "code",
      "source": [
        "def getWorkLocations(dfTrainsLocation):\n",
        "  if isinstance(dfTrainsLocation['aotuTrainData.routeLocationList'], float):\n",
        "    return None\n",
        "  if len(dfTrainsLocation['aotuTrainData.routeLocationList']) == 0:\n",
        "    return None\n",
        "  aotuRoute=pd.json_normalize(dfTrainsLocation['aotuTrainData.routeLocationList']) \n",
        "  eventLocations = aotuRoute[aotuRoute['activityList'].map(len) > 1]\n",
        "  temp = eventLocations['milepost.milepostNumber'].unique()\n",
        "  if len(temp) == 0:\n",
        "    return None\n",
        "  return ','.join(['%.2f' % num for num in temp])"
      ],
      "metadata": {
        "id": "TsYgT41SKyAn"
      },
      "execution_count": 128,
      "outputs": []
    },
    {
      "cell_type": "code",
      "source": [
        "dfTrainsLearn['workLocations'] = dfTrainsLearn.apply(lambda row: getWorkLocations(row), axis=1)"
      ],
      "metadata": {
        "id": "5sNuNU-iSgFy"
      },
      "execution_count": 129,
      "outputs": []
    },
    {
      "cell_type": "code",
      "source": [
        "dfTrainsLearn['workLocations'].unique()"
      ],
      "metadata": {
        "id": "jA6cNsHR8VSr",
        "colab": {
          "base_uri": "https://localhost:8080/"
        },
        "outputId": "687bda2a-d06e-42ff-f4b6-dccb704939f3"
      },
      "execution_count": 130,
      "outputs": [
        {
          "output_type": "execute_result",
          "data": {
            "text/plain": [
              "array([None, '202.20', '225.10', '202.20,219.70', '202.20,258.40,321.50', '202.20,258.40', '219.70,202.20', '250.50,202.20', '258.40,202.20', '258.40,207.60,202.20', '321.50,202.20', '202.20,314.52',\n",
              "       '202.20,214.50,225.10,290.80,304.10', '214.50,225.10,290.80,304.10,202.20', '321.50,314.52,202.20', '258.40,219.70,202.20', '314.52,202.20', '257.60,202.20', '202.20,265.30',\n",
              "       '202.20,258.40,318.90,321.50', '202.20,219.70,258.40,321.50', '202.20,219.70,250.50,258.40,321.50', '258.40,214.50,202.20', '202.20,219.70,258.40', '225.10,202.20'], dtype=object)"
            ]
          },
          "metadata": {},
          "execution_count": 130
        }
      ]
    },
    {
      "cell_type": "markdown",
      "source": [
        "determine the locomotive count from the locomotive list.  We can make this more clever later, but for now this seems the most sensible shortcut"
      ],
      "metadata": {
        "id": "-AZiJPI24QO9"
      }
    },
    {
      "cell_type": "code",
      "source": [
        "dfTrainsLearn['locomotiveCount'] = dfTrainsLearn.apply(lambda row: len(row['locomotiveList']),axis = 1)"
      ],
      "metadata": {
        "id": "LuG8-GNBzwrF"
      },
      "execution_count": 131,
      "outputs": []
    },
    {
      "cell_type": "markdown",
      "source": [
        "Convert the list of actual reportings into a dataframe."
      ],
      "metadata": {
        "id": "Hbv-6WLkrqO2"
      }
    },
    {
      "cell_type": "code",
      "source": [
        "dfTrainsLearnActuals = dfTrainsLearn.apply(lambda row: pd.json_normalize(row['trainActualPositionList']), axis=1)"
      ],
      "metadata": {
        "id": "Ag-KbEfz4Is8"
      },
      "execution_count": 132,
      "outputs": []
    },
    {
      "cell_type": "code",
      "source": [
        "def showTrain(idx):\n",
        "  print(dfTrainsLearn.iloc[idx]['ptcLeadLocomotiveId'])\n",
        "  print(dfTrainsLearn.iloc[idx]['trainId.trainSymbol'])\n"
      ],
      "metadata": {
        "id": "ZuIVv8dvnIpG"
      },
      "execution_count": 133,
      "outputs": []
    },
    {
      "cell_type": "markdown",
      "source": [
        "You can peer into the incoming data here:"
      ],
      "metadata": {
        "id": "VLFBdKgPll2j"
      }
    },
    {
      "cell_type": "code",
      "source": [
        "idx = 201\n",
        "showTrain(idx)\n",
        "dfTrainsLearnActuals.iloc[idx]"
      ],
      "metadata": {
        "id": "r_gdrmU4IgpY",
        "colab": {
          "base_uri": "https://localhost:8080/",
          "height": 458
        },
        "outputId": "8cc69b63-bc0c-4d2a-817c-d550eee66232"
      },
      "execution_count": 134,
      "outputs": [
        {
          "output_type": "stream",
          "name": "stdout",
          "text": [
            "KCS4151\n",
            "MRNWAJ\n"
          ]
        },
        {
          "output_type": "execute_result",
          "data": {
            "text/plain": [
              "            positionTime  speedMPH  milepostLocation.subdivisionId  \\\n",
              "0   2022-07-01T02:21:09Z         0                             106   \n",
              "1   2022-07-01T02:23:09Z         0                             106   \n",
              "2   2022-07-01T02:25:09Z        -1                             106   \n",
              "3   2022-07-01T02:27:09Z        -5                             106   \n",
              "4   2022-07-01T02:29:09Z        -9                             106   \n",
              "..                   ...       ...                             ...   \n",
              "16  2022-07-01T02:53:09Z        -8                             106   \n",
              "17  2022-07-01T02:55:09Z        -7                             106   \n",
              "18  2022-07-01T02:57:09Z        -6                             106   \n",
              "19  2022-07-01T02:59:09Z        -4                             106   \n",
              "20  2022-07-01T03:01:09Z         0                             106   \n",
              "\n",
              "   milepostLocation.trackName  milepostLocation.milepost.milepostNumber  \n",
              "0                   WEST MAIN                                 766.24380  \n",
              "1                   WEST MAIN                                 766.24380  \n",
              "2              WEST MAIN-MAIN                                 766.19920  \n",
              "3              WEST MAIN-MAIN                                 766.11084  \n",
              "4                        MAIN                                 765.94490  \n",
              "..                        ...                                       ...  \n",
              "16                    S_VIDOR                                 761.16580  \n",
              "17                    S_VIDOR                                 760.92035  \n",
              "18                    S_VIDOR                                 760.67960  \n",
              "19                    S_VIDOR                                 760.45135  \n",
              "20                    S_VIDOR                                 760.42000  \n",
              "\n",
              "[21 rows x 5 columns]"
            ],
            "text/html": [
              "\n",
              "  <div id=\"df-c16938dc-0af3-4594-b3df-03c9a421f069\">\n",
              "    <div class=\"colab-df-container\">\n",
              "      <div>\n",
              "<style scoped>\n",
              "    .dataframe tbody tr th:only-of-type {\n",
              "        vertical-align: middle;\n",
              "    }\n",
              "\n",
              "    .dataframe tbody tr th {\n",
              "        vertical-align: top;\n",
              "    }\n",
              "\n",
              "    .dataframe thead th {\n",
              "        text-align: right;\n",
              "    }\n",
              "</style>\n",
              "<table border=\"1\" class=\"dataframe\">\n",
              "  <thead>\n",
              "    <tr style=\"text-align: right;\">\n",
              "      <th></th>\n",
              "      <th>positionTime</th>\n",
              "      <th>speedMPH</th>\n",
              "      <th>milepostLocation.subdivisionId</th>\n",
              "      <th>milepostLocation.trackName</th>\n",
              "      <th>milepostLocation.milepost.milepostNumber</th>\n",
              "    </tr>\n",
              "  </thead>\n",
              "  <tbody>\n",
              "    <tr>\n",
              "      <th>0</th>\n",
              "      <td>2022-07-01T02:21:09Z</td>\n",
              "      <td>0</td>\n",
              "      <td>106</td>\n",
              "      <td>WEST MAIN</td>\n",
              "      <td>766.24380</td>\n",
              "    </tr>\n",
              "    <tr>\n",
              "      <th>1</th>\n",
              "      <td>2022-07-01T02:23:09Z</td>\n",
              "      <td>0</td>\n",
              "      <td>106</td>\n",
              "      <td>WEST MAIN</td>\n",
              "      <td>766.24380</td>\n",
              "    </tr>\n",
              "    <tr>\n",
              "      <th>2</th>\n",
              "      <td>2022-07-01T02:25:09Z</td>\n",
              "      <td>-1</td>\n",
              "      <td>106</td>\n",
              "      <td>WEST MAIN-MAIN</td>\n",
              "      <td>766.19920</td>\n",
              "    </tr>\n",
              "    <tr>\n",
              "      <th>3</th>\n",
              "      <td>2022-07-01T02:27:09Z</td>\n",
              "      <td>-5</td>\n",
              "      <td>106</td>\n",
              "      <td>WEST MAIN-MAIN</td>\n",
              "      <td>766.11084</td>\n",
              "    </tr>\n",
              "    <tr>\n",
              "      <th>4</th>\n",
              "      <td>2022-07-01T02:29:09Z</td>\n",
              "      <td>-9</td>\n",
              "      <td>106</td>\n",
              "      <td>MAIN</td>\n",
              "      <td>765.94490</td>\n",
              "    </tr>\n",
              "    <tr>\n",
              "      <th>...</th>\n",
              "      <td>...</td>\n",
              "      <td>...</td>\n",
              "      <td>...</td>\n",
              "      <td>...</td>\n",
              "      <td>...</td>\n",
              "    </tr>\n",
              "    <tr>\n",
              "      <th>16</th>\n",
              "      <td>2022-07-01T02:53:09Z</td>\n",
              "      <td>-8</td>\n",
              "      <td>106</td>\n",
              "      <td>S_VIDOR</td>\n",
              "      <td>761.16580</td>\n",
              "    </tr>\n",
              "    <tr>\n",
              "      <th>17</th>\n",
              "      <td>2022-07-01T02:55:09Z</td>\n",
              "      <td>-7</td>\n",
              "      <td>106</td>\n",
              "      <td>S_VIDOR</td>\n",
              "      <td>760.92035</td>\n",
              "    </tr>\n",
              "    <tr>\n",
              "      <th>18</th>\n",
              "      <td>2022-07-01T02:57:09Z</td>\n",
              "      <td>-6</td>\n",
              "      <td>106</td>\n",
              "      <td>S_VIDOR</td>\n",
              "      <td>760.67960</td>\n",
              "    </tr>\n",
              "    <tr>\n",
              "      <th>19</th>\n",
              "      <td>2022-07-01T02:59:09Z</td>\n",
              "      <td>-4</td>\n",
              "      <td>106</td>\n",
              "      <td>S_VIDOR</td>\n",
              "      <td>760.45135</td>\n",
              "    </tr>\n",
              "    <tr>\n",
              "      <th>20</th>\n",
              "      <td>2022-07-01T03:01:09Z</td>\n",
              "      <td>0</td>\n",
              "      <td>106</td>\n",
              "      <td>S_VIDOR</td>\n",
              "      <td>760.42000</td>\n",
              "    </tr>\n",
              "  </tbody>\n",
              "</table>\n",
              "<p>21 rows × 5 columns</p>\n",
              "</div>\n",
              "      <button class=\"colab-df-convert\" onclick=\"convertToInteractive('df-c16938dc-0af3-4594-b3df-03c9a421f069')\"\n",
              "              title=\"Convert this dataframe to an interactive table.\"\n",
              "              style=\"display:none;\">\n",
              "        \n",
              "  <svg xmlns=\"http://www.w3.org/2000/svg\" height=\"24px\"viewBox=\"0 0 24 24\"\n",
              "       width=\"24px\">\n",
              "    <path d=\"M0 0h24v24H0V0z\" fill=\"none\"/>\n",
              "    <path d=\"M18.56 5.44l.94 2.06.94-2.06 2.06-.94-2.06-.94-.94-2.06-.94 2.06-2.06.94zm-11 1L8.5 8.5l.94-2.06 2.06-.94-2.06-.94L8.5 2.5l-.94 2.06-2.06.94zm10 10l.94 2.06.94-2.06 2.06-.94-2.06-.94-.94-2.06-.94 2.06-2.06.94z\"/><path d=\"M17.41 7.96l-1.37-1.37c-.4-.4-.92-.59-1.43-.59-.52 0-1.04.2-1.43.59L10.3 9.45l-7.72 7.72c-.78.78-.78 2.05 0 2.83L4 21.41c.39.39.9.59 1.41.59.51 0 1.02-.2 1.41-.59l7.78-7.78 2.81-2.81c.8-.78.8-2.07 0-2.86zM5.41 20L4 18.59l7.72-7.72 1.47 1.35L5.41 20z\"/>\n",
              "  </svg>\n",
              "      </button>\n",
              "      \n",
              "  <style>\n",
              "    .colab-df-container {\n",
              "      display:flex;\n",
              "      flex-wrap:wrap;\n",
              "      gap: 12px;\n",
              "    }\n",
              "\n",
              "    .colab-df-convert {\n",
              "      background-color: #E8F0FE;\n",
              "      border: none;\n",
              "      border-radius: 50%;\n",
              "      cursor: pointer;\n",
              "      display: none;\n",
              "      fill: #1967D2;\n",
              "      height: 32px;\n",
              "      padding: 0 0 0 0;\n",
              "      width: 32px;\n",
              "    }\n",
              "\n",
              "    .colab-df-convert:hover {\n",
              "      background-color: #E2EBFA;\n",
              "      box-shadow: 0px 1px 2px rgba(60, 64, 67, 0.3), 0px 1px 3px 1px rgba(60, 64, 67, 0.15);\n",
              "      fill: #174EA6;\n",
              "    }\n",
              "\n",
              "    [theme=dark] .colab-df-convert {\n",
              "      background-color: #3B4455;\n",
              "      fill: #D2E3FC;\n",
              "    }\n",
              "\n",
              "    [theme=dark] .colab-df-convert:hover {\n",
              "      background-color: #434B5C;\n",
              "      box-shadow: 0px 1px 3px 1px rgba(0, 0, 0, 0.15);\n",
              "      filter: drop-shadow(0px 1px 2px rgba(0, 0, 0, 0.3));\n",
              "      fill: #FFFFFF;\n",
              "    }\n",
              "  </style>\n",
              "\n",
              "      <script>\n",
              "        const buttonEl =\n",
              "          document.querySelector('#df-c16938dc-0af3-4594-b3df-03c9a421f069 button.colab-df-convert');\n",
              "        buttonEl.style.display =\n",
              "          google.colab.kernel.accessAllowed ? 'block' : 'none';\n",
              "\n",
              "        async function convertToInteractive(key) {\n",
              "          const element = document.querySelector('#df-c16938dc-0af3-4594-b3df-03c9a421f069');\n",
              "          const dataTable =\n",
              "            await google.colab.kernel.invokeFunction('convertToInteractive',\n",
              "                                                     [key], {});\n",
              "          if (!dataTable) return;\n",
              "\n",
              "          const docLinkHtml = 'Like what you see? Visit the ' +\n",
              "            '<a target=\"_blank\" href=https://colab.research.google.com/notebooks/data_table.ipynb>data table notebook</a>'\n",
              "            + ' to learn more about interactive tables.';\n",
              "          element.innerHTML = '';\n",
              "          dataTable['output_type'] = 'display_data';\n",
              "          await google.colab.output.renderOutput(dataTable, element);\n",
              "          const docLink = document.createElement('div');\n",
              "          docLink.innerHTML = docLinkHtml;\n",
              "          element.appendChild(docLink);\n",
              "        }\n",
              "      </script>\n",
              "    </div>\n",
              "  </div>\n",
              "  "
            ]
          },
          "metadata": {},
          "execution_count": 134
        }
      ]
    },
    {
      "cell_type": "code",
      "source": [
        "dfTrainsBeop =  dfTrainsLearn[['lastReportedPosition.milepostLocation.milepost.milepostNumber','trainEstimatedPositionList']]\n",
        "dfTrainsBeop"
      ],
      "metadata": {
        "id": "1FsMwzd7xSLZ",
        "colab": {
          "base_uri": "https://localhost:8080/",
          "height": 676
        },
        "outputId": "d08ac198-6f8b-4d3a-be48-a7b407e73e71"
      },
      "execution_count": 135,
      "outputs": [
        {
          "output_type": "execute_result",
          "data": {
            "text/plain": [
              "    lastReportedPosition.milepostLocation.milepost.milepostNumber  \\\n",
              "0                                                        764.8696   \n",
              "0                                                        764.8706   \n",
              "0                                                        766.9310   \n",
              "0                                                        764.8691   \n",
              "0                                                        766.9302   \n",
              "..                                                            ...   \n",
              "0                                                        290.7408   \n",
              "0                                                        293.2164   \n",
              "0                                                        294.0817   \n",
              "0                                                        305.3550   \n",
              "0                                                        317.9784   \n",
              "\n",
              "                                                                                                                                                                                                                                                                                                                                                                                                                                                                                                                                                                                                 trainEstimatedPositionList  \n",
              "0                                                                                                                                                                                                                                                                                                                                                                                                                                                                                                                                                                                                                        []  \n",
              "0                                                                                                                                                                                                                                                                                                                                                                                                                                                                                                                                                                                                                        []  \n",
              "0                                                                                                                                                                                                                                                                                                                                                                                                                                                                                                                                                                                                                        []  \n",
              "0                                                                                                                                                                                                                                                                                                                                                                                                                                                                                                                                                                                                                        []  \n",
              "0                                                                                                                                                                                                                                                                                                                                                                                                                                                                                                                                                                                                                        []  \n",
              "..                                                                                                                                                                                                                                                                                                                                                                                                                                                                                                                                                                                                                      ...  \n",
              "0   [{'positionTime': '2022-06-23T10:15:47Z', 'speedMPH': 12, 'milepostLocation': {'subdivisionId': 106, 'trackName': 'EASTXO', 'milepost': {'milepostNumber': 290.7408}}}, {'positionTime': '2022-06-23T10:17:47Z', 'speedMPH': 30, 'milepostLocation': {'subdivisionId': 106, 'trackName': 'EASTXO', 'milepost': {'milepostNumber': 291.4418}}}, {'positionTime': '2022-06-23T10:19:47Z', 'speedMPH': 40, 'milepostLocation': {'subdivisionId': 106, 'trackName': 'EASTXO', 'milepost': {'milepostNumber': 292.6651}}}, {'positionTime': '2022-06-23T10:21:47Z', 'speedMPH': 49, 'milepostLocation': {'subdivisionId':...  \n",
              "0                                                                                                                                                                                                                                                                                                                                                                                                                                                                                                                                                                                                                        []  \n",
              "0   [{'positionTime': '2022-06-23T11:17:23Z', 'speedMPH': 23, 'milepostLocation': {'subdivisionId': 106, 'trackName': 'MT 2', 'milepost': {'milepostNumber': 294.0817}}}, {'positionTime': '2022-06-23T11:19:23Z', 'speedMPH': 35, 'milepostLocation': {'subdivisionId': 106, 'trackName': 'MT 2', 'milepost': {'milepostNumber': 295.03876}}}, {'positionTime': '2022-06-23T11:21:23Z', 'speedMPH': 45, 'milepostLocation': {'subdivisionId': 106, 'trackName': 'MT 2', 'milepost': {'milepostNumber': 296.39496}}}, {'positionTime': '2022-06-23T11:23:23Z', 'speedMPH': 50, 'milepostLocation': {'subdivisionId': 106...  \n",
              "0   [{'positionTime': '2022-06-23T11:34:06Z', 'speedMPH': 48, 'milepostLocation': {'subdivisionId': 106, 'trackName': 'MT 1', 'milepost': {'milepostNumber': 305.355}}}, {'positionTime': '2022-06-23T11:36:06Z', 'speedMPH': 50, 'milepostLocation': {'subdivisionId': 106, 'trackName': 'MT 1', 'milepost': {'milepostNumber': 307.01364}}}, {'positionTime': '2022-06-23T11:38:06Z', 'speedMPH': 50, 'milepostLocation': {'subdivisionId': 106, 'trackName': 'MT 1', 'milepost': {'milepostNumber': 308.68835}}}, {'positionTime': '2022-06-23T11:40:06Z', 'speedMPH': 50, 'milepostLocation': {'subdivisionId': 106,...  \n",
              "0   [{'positionTime': '2022-06-23T11:50:16Z', 'speedMPH': 44, 'milepostLocation': {'subdivisionId': 106, 'trackName': 'MT 1', 'milepost': {'milepostNumber': 317.9784}}}, {'positionTime': '2022-06-23T11:52:16Z', 'speedMPH': 44, 'milepostLocation': {'subdivisionId': 106, 'trackName': 'MT 1', 'milepost': {'milepostNumber': 319.44662}}}, {'positionTime': '2022-06-23T11:54:16Z', 'speedMPH': 44, 'milepostLocation': {'subdivisionId': 106, 'trackName': 'MT 1', 'milepost': {'milepostNumber': 320.92197}}}, {'positionTime': '2022-06-23T11:56:16Z', 'speedMPH': 40, 'milepostLocation': {'subdivisionId': 106...  \n",
              "\n",
              "[6747 rows x 2 columns]"
            ],
            "text/html": [
              "\n",
              "  <div id=\"df-dc7d5572-415e-40e2-8822-39336d452d26\">\n",
              "    <div class=\"colab-df-container\">\n",
              "      <div>\n",
              "<style scoped>\n",
              "    .dataframe tbody tr th:only-of-type {\n",
              "        vertical-align: middle;\n",
              "    }\n",
              "\n",
              "    .dataframe tbody tr th {\n",
              "        vertical-align: top;\n",
              "    }\n",
              "\n",
              "    .dataframe thead th {\n",
              "        text-align: right;\n",
              "    }\n",
              "</style>\n",
              "<table border=\"1\" class=\"dataframe\">\n",
              "  <thead>\n",
              "    <tr style=\"text-align: right;\">\n",
              "      <th></th>\n",
              "      <th>lastReportedPosition.milepostLocation.milepost.milepostNumber</th>\n",
              "      <th>trainEstimatedPositionList</th>\n",
              "    </tr>\n",
              "  </thead>\n",
              "  <tbody>\n",
              "    <tr>\n",
              "      <th>0</th>\n",
              "      <td>764.8696</td>\n",
              "      <td>[]</td>\n",
              "    </tr>\n",
              "    <tr>\n",
              "      <th>0</th>\n",
              "      <td>764.8706</td>\n",
              "      <td>[]</td>\n",
              "    </tr>\n",
              "    <tr>\n",
              "      <th>0</th>\n",
              "      <td>766.9310</td>\n",
              "      <td>[]</td>\n",
              "    </tr>\n",
              "    <tr>\n",
              "      <th>0</th>\n",
              "      <td>764.8691</td>\n",
              "      <td>[]</td>\n",
              "    </tr>\n",
              "    <tr>\n",
              "      <th>0</th>\n",
              "      <td>766.9302</td>\n",
              "      <td>[]</td>\n",
              "    </tr>\n",
              "    <tr>\n",
              "      <th>...</th>\n",
              "      <td>...</td>\n",
              "      <td>...</td>\n",
              "    </tr>\n",
              "    <tr>\n",
              "      <th>0</th>\n",
              "      <td>290.7408</td>\n",
              "      <td>[{'positionTime': '2022-06-23T10:15:47Z', 'speedMPH': 12, 'milepostLocation': {'subdivisionId': 106, 'trackName': 'EASTXO', 'milepost': {'milepostNumber': 290.7408}}}, {'positionTime': '2022-06-23T10:17:47Z', 'speedMPH': 30, 'milepostLocation': {'subdivisionId': 106, 'trackName': 'EASTXO', 'milepost': {'milepostNumber': 291.4418}}}, {'positionTime': '2022-06-23T10:19:47Z', 'speedMPH': 40, 'milepostLocation': {'subdivisionId': 106, 'trackName': 'EASTXO', 'milepost': {'milepostNumber': 292.6651}}}, {'positionTime': '2022-06-23T10:21:47Z', 'speedMPH': 49, 'milepostLocation': {'subdivisionId':...</td>\n",
              "    </tr>\n",
              "    <tr>\n",
              "      <th>0</th>\n",
              "      <td>293.2164</td>\n",
              "      <td>[]</td>\n",
              "    </tr>\n",
              "    <tr>\n",
              "      <th>0</th>\n",
              "      <td>294.0817</td>\n",
              "      <td>[{'positionTime': '2022-06-23T11:17:23Z', 'speedMPH': 23, 'milepostLocation': {'subdivisionId': 106, 'trackName': 'MT 2', 'milepost': {'milepostNumber': 294.0817}}}, {'positionTime': '2022-06-23T11:19:23Z', 'speedMPH': 35, 'milepostLocation': {'subdivisionId': 106, 'trackName': 'MT 2', 'milepost': {'milepostNumber': 295.03876}}}, {'positionTime': '2022-06-23T11:21:23Z', 'speedMPH': 45, 'milepostLocation': {'subdivisionId': 106, 'trackName': 'MT 2', 'milepost': {'milepostNumber': 296.39496}}}, {'positionTime': '2022-06-23T11:23:23Z', 'speedMPH': 50, 'milepostLocation': {'subdivisionId': 106...</td>\n",
              "    </tr>\n",
              "    <tr>\n",
              "      <th>0</th>\n",
              "      <td>305.3550</td>\n",
              "      <td>[{'positionTime': '2022-06-23T11:34:06Z', 'speedMPH': 48, 'milepostLocation': {'subdivisionId': 106, 'trackName': 'MT 1', 'milepost': {'milepostNumber': 305.355}}}, {'positionTime': '2022-06-23T11:36:06Z', 'speedMPH': 50, 'milepostLocation': {'subdivisionId': 106, 'trackName': 'MT 1', 'milepost': {'milepostNumber': 307.01364}}}, {'positionTime': '2022-06-23T11:38:06Z', 'speedMPH': 50, 'milepostLocation': {'subdivisionId': 106, 'trackName': 'MT 1', 'milepost': {'milepostNumber': 308.68835}}}, {'positionTime': '2022-06-23T11:40:06Z', 'speedMPH': 50, 'milepostLocation': {'subdivisionId': 106,...</td>\n",
              "    </tr>\n",
              "    <tr>\n",
              "      <th>0</th>\n",
              "      <td>317.9784</td>\n",
              "      <td>[{'positionTime': '2022-06-23T11:50:16Z', 'speedMPH': 44, 'milepostLocation': {'subdivisionId': 106, 'trackName': 'MT 1', 'milepost': {'milepostNumber': 317.9784}}}, {'positionTime': '2022-06-23T11:52:16Z', 'speedMPH': 44, 'milepostLocation': {'subdivisionId': 106, 'trackName': 'MT 1', 'milepost': {'milepostNumber': 319.44662}}}, {'positionTime': '2022-06-23T11:54:16Z', 'speedMPH': 44, 'milepostLocation': {'subdivisionId': 106, 'trackName': 'MT 1', 'milepost': {'milepostNumber': 320.92197}}}, {'positionTime': '2022-06-23T11:56:16Z', 'speedMPH': 40, 'milepostLocation': {'subdivisionId': 106...</td>\n",
              "    </tr>\n",
              "  </tbody>\n",
              "</table>\n",
              "<p>6747 rows × 2 columns</p>\n",
              "</div>\n",
              "      <button class=\"colab-df-convert\" onclick=\"convertToInteractive('df-dc7d5572-415e-40e2-8822-39336d452d26')\"\n",
              "              title=\"Convert this dataframe to an interactive table.\"\n",
              "              style=\"display:none;\">\n",
              "        \n",
              "  <svg xmlns=\"http://www.w3.org/2000/svg\" height=\"24px\"viewBox=\"0 0 24 24\"\n",
              "       width=\"24px\">\n",
              "    <path d=\"M0 0h24v24H0V0z\" fill=\"none\"/>\n",
              "    <path d=\"M18.56 5.44l.94 2.06.94-2.06 2.06-.94-2.06-.94-.94-2.06-.94 2.06-2.06.94zm-11 1L8.5 8.5l.94-2.06 2.06-.94-2.06-.94L8.5 2.5l-.94 2.06-2.06.94zm10 10l.94 2.06.94-2.06 2.06-.94-2.06-.94-.94-2.06-.94 2.06-2.06.94z\"/><path d=\"M17.41 7.96l-1.37-1.37c-.4-.4-.92-.59-1.43-.59-.52 0-1.04.2-1.43.59L10.3 9.45l-7.72 7.72c-.78.78-.78 2.05 0 2.83L4 21.41c.39.39.9.59 1.41.59.51 0 1.02-.2 1.41-.59l7.78-7.78 2.81-2.81c.8-.78.8-2.07 0-2.86zM5.41 20L4 18.59l7.72-7.72 1.47 1.35L5.41 20z\"/>\n",
              "  </svg>\n",
              "      </button>\n",
              "      \n",
              "  <style>\n",
              "    .colab-df-container {\n",
              "      display:flex;\n",
              "      flex-wrap:wrap;\n",
              "      gap: 12px;\n",
              "    }\n",
              "\n",
              "    .colab-df-convert {\n",
              "      background-color: #E8F0FE;\n",
              "      border: none;\n",
              "      border-radius: 50%;\n",
              "      cursor: pointer;\n",
              "      display: none;\n",
              "      fill: #1967D2;\n",
              "      height: 32px;\n",
              "      padding: 0 0 0 0;\n",
              "      width: 32px;\n",
              "    }\n",
              "\n",
              "    .colab-df-convert:hover {\n",
              "      background-color: #E2EBFA;\n",
              "      box-shadow: 0px 1px 2px rgba(60, 64, 67, 0.3), 0px 1px 3px 1px rgba(60, 64, 67, 0.15);\n",
              "      fill: #174EA6;\n",
              "    }\n",
              "\n",
              "    [theme=dark] .colab-df-convert {\n",
              "      background-color: #3B4455;\n",
              "      fill: #D2E3FC;\n",
              "    }\n",
              "\n",
              "    [theme=dark] .colab-df-convert:hover {\n",
              "      background-color: #434B5C;\n",
              "      box-shadow: 0px 1px 3px 1px rgba(0, 0, 0, 0.15);\n",
              "      filter: drop-shadow(0px 1px 2px rgba(0, 0, 0, 0.3));\n",
              "      fill: #FFFFFF;\n",
              "    }\n",
              "  </style>\n",
              "\n",
              "      <script>\n",
              "        const buttonEl =\n",
              "          document.querySelector('#df-dc7d5572-415e-40e2-8822-39336d452d26 button.colab-df-convert');\n",
              "        buttonEl.style.display =\n",
              "          google.colab.kernel.accessAllowed ? 'block' : 'none';\n",
              "\n",
              "        async function convertToInteractive(key) {\n",
              "          const element = document.querySelector('#df-dc7d5572-415e-40e2-8822-39336d452d26');\n",
              "          const dataTable =\n",
              "            await google.colab.kernel.invokeFunction('convertToInteractive',\n",
              "                                                     [key], {});\n",
              "          if (!dataTable) return;\n",
              "\n",
              "          const docLinkHtml = 'Like what you see? Visit the ' +\n",
              "            '<a target=\"_blank\" href=https://colab.research.google.com/notebooks/data_table.ipynb>data table notebook</a>'\n",
              "            + ' to learn more about interactive tables.';\n",
              "          element.innerHTML = '';\n",
              "          dataTable['output_type'] = 'display_data';\n",
              "          await google.colab.output.renderOutput(dataTable, element);\n",
              "          const docLink = document.createElement('div');\n",
              "          docLink.innerHTML = docLinkHtml;\n",
              "          element.appendChild(docLink);\n",
              "        }\n",
              "      </script>\n",
              "    </div>\n",
              "  </div>\n",
              "  "
            ]
          },
          "metadata": {},
          "execution_count": 135
        }
      ]
    },
    {
      "cell_type": "markdown",
      "source": [
        "Renumber the list"
      ],
      "metadata": {
        "id": "lA_7_hJRr9RI"
      }
    },
    {
      "cell_type": "code",
      "source": [
        "dfTrainsLearn = dfTrainsLearn.reset_index(drop=True)"
      ],
      "metadata": {
        "id": "Kw_c3Ddj4zN4"
      },
      "execution_count": 136,
      "outputs": []
    },
    {
      "cell_type": "markdown",
      "source": [
        "# Determine NextMilepost\n",
        "This will be the value we are attempting to learn"
      ],
      "metadata": {
        "id": "M6ikvyh2mKvw"
      }
    },
    {
      "cell_type": "code",
      "source": [
        "def findNextTime(trainsEntry, actualsEntry, timeInMinutes):\n",
        "  #print(actualsEntry.iloc[4]['speedMPH'], \" - \",trainsEntry['lastReportedPosition.speedMPH'] )\n",
        "  idx = math.trunc(timeInMinutes // 2)\n",
        "  if (idx < len(actualsEntry)):\n",
        "    return (abs(actualsEntry.iloc[idx]['speedMPH']) - abs(trainsEntry['lastReportedPosition.speedMPH']))\n",
        "  return None"
      ],
      "metadata": {
        "id": "HsFWDlcWROcp"
      },
      "execution_count": 137,
      "outputs": []
    },
    {
      "cell_type": "code",
      "source": [
        "def findNextMilepost(trainsEntry, actualsEntry, distance):\n",
        "  currMilepost = trainsEntry['lastReportedPosition.milepostLocation.milepost.milepostNumber']\n",
        "  value  = actualsEntry.loc[actualsEntry['milepostLocation.milepost.milepostNumber'] > currMilepost + distance]\n",
        "  if (len(value) > 0) :\n",
        "    return value[value['milepostLocation.milepost.milepostNumber'] == value['milepostLocation.milepost.milepostNumber'].min()]\n",
        "  value  = actualsEntry.loc[actualsEntry['milepostLocation.milepost.milepostNumber'] < currMilepost - distance]\n",
        "  if (len(value) > 0):\n",
        "    return value[value['milepostLocation.milepost.milepostNumber'] == value['milepostLocation.milepost.milepostNumber'].max()]\n",
        "  return []"
      ],
      "metadata": {
        "id": "-gfZhQNSsxeV"
      },
      "execution_count": 138,
      "outputs": []
    },
    {
      "cell_type": "code",
      "source": [
        "def findNextSpeed(trainsEntry, actualsEntry):\n",
        "  if (measurement.get('unit') == 'miles'):\n",
        "    nextActual = findNextMilepost(trainsEntry, actualsEntry, measurement.get('size'))\n",
        "    if (nextActual != None and len(nextActual) > 0):\n",
        "      amt = (abs(nextActual.iloc[0]['speedMPH']) - abs(trainsEntry['lastReportedPosition.speedMPH']))\n",
        "      return amt;\n",
        "  elif (measurement.get('unit') == 'minutes'):\n",
        "    return findNextTime(trainsEntry, actualsEntry, measurement.get('size'))\n",
        "  else:\n",
        "    raise Exception('unknown measurement', measurement.get('unit'))    \n",
        "  return None"
      ],
      "metadata": {
        "id": "i_JszmqL0MR6"
      },
      "execution_count": 139,
      "outputs": []
    },
    {
      "cell_type": "markdown",
      "source": [
        "You can peer into the mechanics of a lookup here:"
      ],
      "metadata": {
        "id": "lzq_GLI5mdDk"
      }
    },
    {
      "cell_type": "code",
      "source": [
        "idx = 3291\n",
        "showTrain(idx)\n",
        "print(\"Reported speed: \", dfTrainsLearn.iloc[idx]['lastReportedPosition.speedMPH'])\n",
        "print(\"Reported MP: \", dfTrainsLearn.iloc[idx]['lastReportedPosition.milepostLocation.milepost.milepostNumber'])\n",
        "print(\"Reported Time: \", dfTrainsLearn.iloc[idx]['lastReportedPosition.positionTime'])\n",
        "\n",
        "nextActual = findNextMilepost(dfTrainsLearn.iloc[idx], dfTrainsLearnActuals.iloc[idx], 1)\n",
        "print(nextActual)\n",
        "nextActual = findNextTime(dfTrainsLearn.iloc[idx], dfTrainsLearnActuals.iloc[idx], 10)\n",
        "print(nextActual)\n",
        "\n",
        "nextSpeed = findNextSpeed(dfTrainsLearn.iloc[idx], dfTrainsLearnActuals.iloc[idx])\n",
        "print(\"actual speed: \",nextSpeed)\n",
        "beopJSON = dfTrainsBeop.iloc[idx]['trainEstimatedPositionList']\n",
        "if not type(beopJSON) is float and len(beopJSON) > 0:\n",
        "  beopDT = pd.json_normalize(beopJSON)\n",
        "  nextBeop = findNextMilepost(dfTrainsLearn.iloc[idx], beopDT, 1)\n",
        "  print(nextBeop)\n",
        "  type(dfTrainsBeop.iloc[idx]['trainEstimatedPositionList'])\n",
        "  print(\"beop speed: \")\n",
        "  value = findNextSpeed(dfTrainsLearn.iloc[idx], beopDT)\n",
        "  print(value)"
      ],
      "metadata": {
        "id": "F_hQFHKztIu-",
        "colab": {
          "base_uri": "https://localhost:8080/"
        },
        "outputId": "66ec08b5-b5dc-495d-af74-61eed9bc35f8"
      },
      "execution_count": 140,
      "outputs": [
        {
          "output_type": "stream",
          "name": "stdout",
          "text": [
            "UP6579\n",
            "CNAPW9\n",
            "Reported speed:  42\n",
            "Reported MP:  315.8773\n",
            "Reported Time:  2022-06-26T02:15:16Z\n",
            "           positionTime  speedMPH  milepostLocation.subdivisionId  \\\n",
            "0  2022-06-26T02:17:16Z       -43                             106   \n",
            "\n",
            "  milepostLocation.trackName  milepostLocation.milepost.milepostNumber  \n",
            "0                       MT 2                                 314.40375  \n",
            "8\n",
            "actual speed:  6\n",
            "           positionTime  speedMPH  milepostLocation.subdivisionId  \\\n",
            "1  2022-06-26T02:17:16Z       -44                             106   \n",
            "\n",
            "  milepostLocation.trackName  milepostLocation.milepost.milepostNumber  \n",
            "1                       MT 2                                  314.4466  \n",
            "beop speed: \n",
            "8\n"
          ]
        }
      ]
    },
    {
      "cell_type": "markdown",
      "source": [
        "Run the calulations.  This will take a moment."
      ],
      "metadata": {
        "id": "cWzMCn-tsE22"
      }
    },
    {
      "cell_type": "code",
      "source": [
        "dfTrainsLearn['nextSpeed'] = np.NaN\n",
        "dfTrainsLearn['nextBeop'] = np.NaN\n",
        "i = 0;\n",
        "for index, trainsEntry in dfTrainsLearn.iterrows():\n",
        "  nextSpeed = findNextSpeed(trainsEntry, dfTrainsLearnActuals.iloc[i])\n",
        "  if (nextSpeed != None):\n",
        "    dfTrainsLearn.at[i,'nextSpeed'] = nextSpeed\n",
        "  beopJSON = dfTrainsBeop.iloc[i]['trainEstimatedPositionList']\n",
        "  if not type(beopJSON) is float and len(beopJSON) > 0:\n",
        "    try:\n",
        "      beopDT = pd.json_normalize(beopJSON)\n",
        "      if (measurement.get('unit') == 'miles'):\n",
        "        nextBeop = findNextMilepost(trainsEntry, beopDT, measurement.get('size'))\n",
        "      elif (measurement.get('unit') == 'minutes'):\n",
        "        nextBeop = findNextTime(trainsEntry, beopDT, measurement.get('size'))\n",
        "      if (nextBeop != None):\n",
        "        dfTrainsLearn.at[i,'nextBeop'] = nextSpeed\n",
        "    except NotImplementedError:\n",
        "      print(type(beopJSON))\n",
        "    except KeyError:\n",
        "      print(beopJSON)\n",
        "  if (i % 1000 == 0):\n",
        "    print(i)\n",
        "  i = i + 1"
      ],
      "metadata": {
        "id": "fG2U-anX-jbt",
        "colab": {
          "base_uri": "https://localhost:8080/"
        },
        "outputId": "8ee097d4-844e-4b25-a35a-221097121b72"
      },
      "execution_count": 141,
      "outputs": [
        {
          "output_type": "stream",
          "name": "stdout",
          "text": [
            "0\n",
            "1000\n",
            "2000\n",
            "3000\n",
            "4000\n",
            "5000\n",
            "6000\n"
          ]
        }
      ]
    },
    {
      "cell_type": "code",
      "source": [
        "dfTrainsLearn = dfTrainsLearn.dropna(subset=['nextSpeed'])\n",
        "dfTrainsLearn['nextSpeed'].unique()"
      ],
      "metadata": {
        "colab": {
          "base_uri": "https://localhost:8080/"
        },
        "id": "lQz8KQHM3SdN",
        "outputId": "93137495-434e-4f80-ae48-a2765a7ebbf2"
      },
      "execution_count": 142,
      "outputs": [
        {
          "output_type": "execute_result",
          "data": {
            "text/plain": [
              "array([  4., -14.,  -1.,  16., -28.,   0.,  15.,  45.,  -8.,   2., -13.,   5., -12.,   6.,  -5.,   3.,  -4.,  -3.,  -2.,  18., -40., -17.,  10.,   9., -31., -34.,   8.,   7.,  17.,  -6., -15., -16.,\n",
              "        20.,  22.,  12., -25., -37., -11.,   1.,  11.,  -9.,  24.,  -7., -36.,  30.,  19., -10.,  14., -19.,  13.,  39., -18., -29.,  34.,  50., -33.,  35., -39.,  28.,  21.,  43., -32., -26.,  44.,\n",
              "        31., -45., -41.,  38., -20.,  23.,  47., -27., -30.,  29., -24., -47.,  27.,  37.,  25.,  36., -23., -42.,  26., -46.,  41., -21.,  40., -70.,  32., -55.,  52.,  48.,  53., -35., -44., -51.,\n",
              "        58.,  49.,  59., -61., -57.,  51.,  56., -38.,  33.,  42., -22., -43., -48.,  46., -49.,  57., -60.,  67., -52., -54., -50., -56.,  54.,  55., -53., -67.,  64.,  68.,  62., -63.])"
            ]
          },
          "metadata": {},
          "execution_count": 142
        }
      ]
    },
    {
      "cell_type": "code",
      "source": [
        "print(\"NextSpeed values histogram:\")\n",
        "dfTrainsLearn['nextSpeed'].hist(bins=200)"
      ],
      "metadata": {
        "id": "IOWDvvGusUBm",
        "colab": {
          "base_uri": "https://localhost:8080/",
          "height": 305
        },
        "outputId": "4b57b6b0-5ad3-4854-8f41-e5a6cfc9a6d1"
      },
      "execution_count": 143,
      "outputs": [
        {
          "output_type": "stream",
          "name": "stdout",
          "text": [
            "NextSpeed values histogram:\n"
          ]
        },
        {
          "output_type": "execute_result",
          "data": {
            "text/plain": [
              "<matplotlib.axes._subplots.AxesSubplot at 0x7fe1713b8a10>"
            ]
          },
          "metadata": {},
          "execution_count": 143
        },
        {
          "output_type": "display_data",
          "data": {
            "text/plain": [
              "<Figure size 432x288 with 1 Axes>"
            ],
            "image/png": "[encoded data removed]"
          },
          "metadata": {
            "needs_background": "light"
          }
        }
      ]
    },
    {
      "cell_type": "code",
      "source": [
        "dfTrainsLearn['nextBeop'].unique()"
      ],
      "metadata": {
        "id": "bdSnFJoMWVrn",
        "colab": {
          "base_uri": "https://localhost:8080/"
        },
        "outputId": "3ae54526-724b-4bb3-8438-3fb3e1e2cc27"
      },
      "execution_count": 144,
      "outputs": [
        {
          "output_type": "execute_result",
          "data": {
            "text/plain": [
              "array([ nan,  16., -28.,  -8.,   2.,  -1.,   5.,  -5.,   6.,   3.,  -4.,  15.,  -3.,  -2.,  18., -40., -17.,   9., -31., -34.,   8.,   0.,   7.,  17.,  -6.,  22.,  12., -25., -37.,  -7.,  -9., -36.,\n",
              "         1.,  19., -12.,  39.,  13., -11., -10.,  20.,  11., -29., -33., -13., -39.,  43., -32., -26.,  24., -14.,  31.,   4., -19., -45., -41., -20.,  23., -27., -30.,  10., -24., -16.,  28., -47.,\n",
              "       -23., -42.,  26., -46.,  27.,  30.,  14., -21.,  29.,  21.,  34., -70.,  32.,  38., -55., -18.,  25., -15.,  40., -35., -44., -51., -61., -57., -38.,  42., -22., -43., -48.,  33.,  44.,  48.,\n",
              "       -49.,  49.,  35.,  36.,  51.,  46., -60.,  37., -52.,  50.,  45., -54., -50., -56., -53., -67., -63.,  55.])"
            ]
          },
          "metadata": {},
          "execution_count": 144
        }
      ]
    },
    {
      "cell_type": "code",
      "source": [
        "print(\"physics predictions histogram:\")\n",
        "dfTrainsLearn['nextBeop'].hist(bins=200)"
      ],
      "metadata": {
        "id": "K7WQR074WuDQ",
        "colab": {
          "base_uri": "https://localhost:8080/",
          "height": 305
        },
        "outputId": "bfef062d-6443-4b7d-e25a-d6c81c237bfb"
      },
      "execution_count": 145,
      "outputs": [
        {
          "output_type": "stream",
          "name": "stdout",
          "text": [
            "physics predictions histogram:\n"
          ]
        },
        {
          "output_type": "execute_result",
          "data": {
            "text/plain": [
              "<matplotlib.axes._subplots.AxesSubplot at 0x7fe172e0b910>"
            ]
          },
          "metadata": {},
          "execution_count": 145
        },
        {
          "output_type": "display_data",
          "data": {
            "text/plain": [
              "<Figure size 432x288 with 1 Axes>"
            ],
            "image/png": "[encoded data removed]"
          },
          "metadata": {
            "needs_background": "light"
          }
        }
      ]
    },
    {
      "cell_type": "code",
      "source": [
        "dfTrainsNextBeop = dfTrainsLearn['nextBeop']"
      ],
      "metadata": {
        "id": "k1sGN4n_2bDU"
      },
      "execution_count": 146,
      "outputs": []
    },
    {
      "cell_type": "markdown",
      "source": [
        "Drop some values we are not using at the moment, not needed.\n",
        "\n",
        "Note, this will disable above computations unless you resume at \"Create a learning set\""
      ],
      "metadata": {
        "id": "moXjNcMQu-3C"
      }
    },
    {
      "cell_type": "code",
      "source": [
        "dfTrainsLearn = dfTrainsLearn.drop(columns=['aotuTrainData.tenantCarrier',\n",
        "                                            'nextBeop',\n",
        "                                            'positionHistoryList',\n",
        "                                            'locomotiveList',\n",
        "                                            'subdivisionList',\n",
        "                                            'trainActualPositionList',\n",
        "                                            'trainEstimatedPositionList',\n",
        "                                            'aotuTrainData.routeLocationList'])"
      ],
      "metadata": {
        "id": "hBmsqv6IuVVO"
      },
      "execution_count": 147,
      "outputs": []
    },
    {
      "cell_type": "markdown",
      "source": [
        "Burst dates into subcolumns that might prove useful"
      ],
      "metadata": {
        "id": "22_dmiSmoYyq"
      }
    },
    {
      "cell_type": "code",
      "source": [
        "tabular.core.make_date(dfTrainsLearn, 'trainId.trainDate')\n",
        "tabular.core.make_date(dfTrainsLearn, 'lastReportedPosition.positionTime')\n",
        "tabular.core.add_datepart(dfTrainsLearn, 'lastReportedPosition.positionTime')\n",
        "# tabular.core.add_elapsed_times(dfTrainsLearn, 'lastReportedPosition.positionTime')\n"
      ],
      "metadata": {
        "id": "DjTAxScsbHCN",
        "colab": {
          "base_uri": "https://localhost:8080/",
          "height": 487
        },
        "outputId": "efb4a95f-6e42-4de2-c18b-dff758c0c6bd"
      },
      "execution_count": 148,
      "outputs": [
        {
          "output_type": "execute_result",
          "data": {
            "text/plain": [
              "     ptcLeadLocomotiveId trainId.trainSCAC trainId.trainSection  \\\n",
              "10              BNSF3836                UP                        \n",
              "23              BNSF5040                UP                        \n",
              "32              BNSF5746                UP                        \n",
              "34              BNSF5833                UP                        \n",
              "35              BNSF5833                UP                        \n",
              "...                  ...               ...                  ...   \n",
              "6741              UP9101                UP                        \n",
              "6742              UP9101                UP                        \n",
              "6743              UP9101                UP                        \n",
              "6744              UP9101                UP                        \n",
              "6745              UP9101                UP                        \n",
              "\n",
              "     trainId.trainSymbol  ...  \\\n",
              "10                QDYIJJ  ...   \n",
              "23                QDYIJJ  ...   \n",
              "32                QBTIJJ  ...   \n",
              "34                 MNOEW  ...   \n",
              "35                 MNOEW  ...   \n",
              "...                  ...  ...   \n",
              "6741               MCHCB  ...   \n",
              "6742               MCHCB  ...   \n",
              "6743               MCHCB  ...   \n",
              "6744               MCHCB  ...   \n",
              "6745               MCHCB  ...   \n",
              "\n",
              "     lastReportedPosition.positionTimeIs_quarter_start  \\\n",
              "10                                               False   \n",
              "23                                               False   \n",
              "32                                               False   \n",
              "34                                               False   \n",
              "35                                               False   \n",
              "...                                                ...   \n",
              "6741                                             False   \n",
              "6742                                             False   \n",
              "6743                                             False   \n",
              "6744                                             False   \n",
              "6745                                             False   \n",
              "\n",
              "      lastReportedPosition.positionTimeIs_year_end  \\\n",
              "10                                           False   \n",
              "23                                           False   \n",
              "32                                           False   \n",
              "34                                           False   \n",
              "35                                           False   \n",
              "...                                            ...   \n",
              "6741                                         False   \n",
              "6742                                         False   \n",
              "6743                                         False   \n",
              "6744                                         False   \n",
              "6745                                         False   \n",
              "\n",
              "      lastReportedPosition.positionTimeIs_year_start  \\\n",
              "10                                             False   \n",
              "23                                             False   \n",
              "32                                             False   \n",
              "34                                             False   \n",
              "35                                             False   \n",
              "...                                              ...   \n",
              "6741                                           False   \n",
              "6742                                           False   \n",
              "6743                                           False   \n",
              "6744                                           False   \n",
              "6745                                           False   \n",
              "\n",
              "     lastReportedPosition.positionTimeElapsed  \n",
              "10                               1.656589e+09  \n",
              "23                               1.656024e+09  \n",
              "32                               1.655822e+09  \n",
              "34                               1.655754e+09  \n",
              "35                               1.655755e+09  \n",
              "...                                       ...  \n",
              "6741                             1.655978e+09  \n",
              "6742                             1.655979e+09  \n",
              "6743                             1.655982e+09  \n",
              "6744                             1.655983e+09  \n",
              "6745                             1.655984e+09  \n",
              "\n",
              "[5907 rows x 47 columns]"
            ],
            "text/html": [
              "\n",
              "  <div id=\"df-bb490e24-af29-4e25-98da-7c5b41f9a848\">\n",
              "    <div class=\"colab-df-container\">\n",
              "      <div>\n",
              "<style scoped>\n",
              "    .dataframe tbody tr th:only-of-type {\n",
              "        vertical-align: middle;\n",
              "    }\n",
              "\n",
              "    .dataframe tbody tr th {\n",
              "        vertical-align: top;\n",
              "    }\n",
              "\n",
              "    .dataframe thead th {\n",
              "        text-align: right;\n",
              "    }\n",
              "</style>\n",
              "<table border=\"1\" class=\"dataframe\">\n",
              "  <thead>\n",
              "    <tr style=\"text-align: right;\">\n",
              "      <th></th>\n",
              "      <th>ptcLeadLocomotiveId</th>\n",
              "      <th>trainId.trainSCAC</th>\n",
              "      <th>trainId.trainSection</th>\n",
              "      <th>trainId.trainSymbol</th>\n",
              "      <th>...</th>\n",
              "      <th>lastReportedPosition.positionTimeIs_quarter_start</th>\n",
              "      <th>lastReportedPosition.positionTimeIs_year_end</th>\n",
              "      <th>lastReportedPosition.positionTimeIs_year_start</th>\n",
              "      <th>lastReportedPosition.positionTimeElapsed</th>\n",
              "    </tr>\n",
              "  </thead>\n",
              "  <tbody>\n",
              "    <tr>\n",
              "      <th>10</th>\n",
              "      <td>BNSF3836</td>\n",
              "      <td>UP</td>\n",
              "      <td></td>\n",
              "      <td>QDYIJJ</td>\n",
              "      <td>...</td>\n",
              "      <td>False</td>\n",
              "      <td>False</td>\n",
              "      <td>False</td>\n",
              "      <td>1.656589e+09</td>\n",
              "    </tr>\n",
              "    <tr>\n",
              "      <th>23</th>\n",
              "      <td>BNSF5040</td>\n",
              "      <td>UP</td>\n",
              "      <td></td>\n",
              "      <td>QDYIJJ</td>\n",
              "      <td>...</td>\n",
              "      <td>False</td>\n",
              "      <td>False</td>\n",
              "      <td>False</td>\n",
              "      <td>1.656024e+09</td>\n",
              "    </tr>\n",
              "    <tr>\n",
              "      <th>32</th>\n",
              "      <td>BNSF5746</td>\n",
              "      <td>UP</td>\n",
              "      <td></td>\n",
              "      <td>QBTIJJ</td>\n",
              "      <td>...</td>\n",
              "      <td>False</td>\n",
              "      <td>False</td>\n",
              "      <td>False</td>\n",
              "      <td>1.655822e+09</td>\n",
              "    </tr>\n",
              "    <tr>\n",
              "      <th>34</th>\n",
              "      <td>BNSF5833</td>\n",
              "      <td>UP</td>\n",
              "      <td></td>\n",
              "      <td>MNOEW</td>\n",
              "      <td>...</td>\n",
              "      <td>False</td>\n",
              "      <td>False</td>\n",
              "      <td>False</td>\n",
              "      <td>1.655754e+09</td>\n",
              "    </tr>\n",
              "    <tr>\n",
              "      <th>35</th>\n",
              "      <td>BNSF5833</td>\n",
              "      <td>UP</td>\n",
              "      <td></td>\n",
              "      <td>MNOEW</td>\n",
              "      <td>...</td>\n",
              "      <td>False</td>\n",
              "      <td>False</td>\n",
              "      <td>False</td>\n",
              "      <td>1.655755e+09</td>\n",
              "    </tr>\n",
              "    <tr>\n",
              "      <th>...</th>\n",
              "      <td>...</td>\n",
              "      <td>...</td>\n",
              "      <td>...</td>\n",
              "      <td>...</td>\n",
              "      <td>...</td>\n",
              "      <td>...</td>\n",
              "      <td>...</td>\n",
              "      <td>...</td>\n",
              "      <td>...</td>\n",
              "    </tr>\n",
              "    <tr>\n",
              "      <th>6741</th>\n",
              "      <td>UP9101</td>\n",
              "      <td>UP</td>\n",
              "      <td></td>\n",
              "      <td>MCHCB</td>\n",
              "      <td>...</td>\n",
              "      <td>False</td>\n",
              "      <td>False</td>\n",
              "      <td>False</td>\n",
              "      <td>1.655978e+09</td>\n",
              "    </tr>\n",
              "    <tr>\n",
              "      <th>6742</th>\n",
              "      <td>UP9101</td>\n",
              "      <td>UP</td>\n",
              "      <td></td>\n",
              "      <td>MCHCB</td>\n",
              "      <td>...</td>\n",
              "      <td>False</td>\n",
              "      <td>False</td>\n",
              "      <td>False</td>\n",
              "      <td>1.655979e+09</td>\n",
              "    </tr>\n",
              "    <tr>\n",
              "      <th>6743</th>\n",
              "      <td>UP9101</td>\n",
              "      <td>UP</td>\n",
              "      <td></td>\n",
              "      <td>MCHCB</td>\n",
              "      <td>...</td>\n",
              "      <td>False</td>\n",
              "      <td>False</td>\n",
              "      <td>False</td>\n",
              "      <td>1.655982e+09</td>\n",
              "    </tr>\n",
              "    <tr>\n",
              "      <th>6744</th>\n",
              "      <td>UP9101</td>\n",
              "      <td>UP</td>\n",
              "      <td></td>\n",
              "      <td>MCHCB</td>\n",
              "      <td>...</td>\n",
              "      <td>False</td>\n",
              "      <td>False</td>\n",
              "      <td>False</td>\n",
              "      <td>1.655983e+09</td>\n",
              "    </tr>\n",
              "    <tr>\n",
              "      <th>6745</th>\n",
              "      <td>UP9101</td>\n",
              "      <td>UP</td>\n",
              "      <td></td>\n",
              "      <td>MCHCB</td>\n",
              "      <td>...</td>\n",
              "      <td>False</td>\n",
              "      <td>False</td>\n",
              "      <td>False</td>\n",
              "      <td>1.655984e+09</td>\n",
              "    </tr>\n",
              "  </tbody>\n",
              "</table>\n",
              "<p>5907 rows × 47 columns</p>\n",
              "</div>\n",
              "      <button class=\"colab-df-convert\" onclick=\"convertToInteractive('df-bb490e24-af29-4e25-98da-7c5b41f9a848')\"\n",
              "              title=\"Convert this dataframe to an interactive table.\"\n",
              "              style=\"display:none;\">\n",
              "        \n",
              "  <svg xmlns=\"http://www.w3.org/2000/svg\" height=\"24px\"viewBox=\"0 0 24 24\"\n",
              "       width=\"24px\">\n",
              "    <path d=\"M0 0h24v24H0V0z\" fill=\"none\"/>\n",
              "    <path d=\"M18.56 5.44l.94 2.06.94-2.06 2.06-.94-2.06-.94-.94-2.06-.94 2.06-2.06.94zm-11 1L8.5 8.5l.94-2.06 2.06-.94-2.06-.94L8.5 2.5l-.94 2.06-2.06.94zm10 10l.94 2.06.94-2.06 2.06-.94-2.06-.94-.94-2.06-.94 2.06-2.06.94z\"/><path d=\"M17.41 7.96l-1.37-1.37c-.4-.4-.92-.59-1.43-.59-.52 0-1.04.2-1.43.59L10.3 9.45l-7.72 7.72c-.78.78-.78 2.05 0 2.83L4 21.41c.39.39.9.59 1.41.59.51 0 1.02-.2 1.41-.59l7.78-7.78 2.81-2.81c.8-.78.8-2.07 0-2.86zM5.41 20L4 18.59l7.72-7.72 1.47 1.35L5.41 20z\"/>\n",
              "  </svg>\n",
              "      </button>\n",
              "      \n",
              "  <style>\n",
              "    .colab-df-container {\n",
              "      display:flex;\n",
              "      flex-wrap:wrap;\n",
              "      gap: 12px;\n",
              "    }\n",
              "\n",
              "    .colab-df-convert {\n",
              "      background-color: #E8F0FE;\n",
              "      border: none;\n",
              "      border-radius: 50%;\n",
              "      cursor: pointer;\n",
              "      display: none;\n",
              "      fill: #1967D2;\n",
              "      height: 32px;\n",
              "      padding: 0 0 0 0;\n",
              "      width: 32px;\n",
              "    }\n",
              "\n",
              "    .colab-df-convert:hover {\n",
              "      background-color: #E2EBFA;\n",
              "      box-shadow: 0px 1px 2px rgba(60, 64, 67, 0.3), 0px 1px 3px 1px rgba(60, 64, 67, 0.15);\n",
              "      fill: #174EA6;\n",
              "    }\n",
              "\n",
              "    [theme=dark] .colab-df-convert {\n",
              "      background-color: #3B4455;\n",
              "      fill: #D2E3FC;\n",
              "    }\n",
              "\n",
              "    [theme=dark] .colab-df-convert:hover {\n",
              "      background-color: #434B5C;\n",
              "      box-shadow: 0px 1px 3px 1px rgba(0, 0, 0, 0.15);\n",
              "      filter: drop-shadow(0px 1px 2px rgba(0, 0, 0, 0.3));\n",
              "      fill: #FFFFFF;\n",
              "    }\n",
              "  </style>\n",
              "\n",
              "      <script>\n",
              "        const buttonEl =\n",
              "          document.querySelector('#df-bb490e24-af29-4e25-98da-7c5b41f9a848 button.colab-df-convert');\n",
              "        buttonEl.style.display =\n",
              "          google.colab.kernel.accessAllowed ? 'block' : 'none';\n",
              "\n",
              "        async function convertToInteractive(key) {\n",
              "          const element = document.querySelector('#df-bb490e24-af29-4e25-98da-7c5b41f9a848');\n",
              "          const dataTable =\n",
              "            await google.colab.kernel.invokeFunction('convertToInteractive',\n",
              "                                                     [key], {});\n",
              "          if (!dataTable) return;\n",
              "\n",
              "          const docLinkHtml = 'Like what you see? Visit the ' +\n",
              "            '<a target=\"_blank\" href=https://colab.research.google.com/notebooks/data_table.ipynb>data table notebook</a>'\n",
              "            + ' to learn more about interactive tables.';\n",
              "          element.innerHTML = '';\n",
              "          dataTable['output_type'] = 'display_data';\n",
              "          await google.colab.output.renderOutput(dataTable, element);\n",
              "          const docLink = document.createElement('div');\n",
              "          docLink.innerHTML = docLinkHtml;\n",
              "          element.appendChild(docLink);\n",
              "        }\n",
              "      </script>\n",
              "    </div>\n",
              "  </div>\n",
              "  "
            ]
          },
          "metadata": {},
          "execution_count": 148
        }
      ]
    },
    {
      "cell_type": "code",
      "source": [
        "print(dfTrainsLearn.shape)\n",
        "print(dfTrainsLearnActuals.shape)\n",
        "\n",
        "print(dfTrainsLearn.info())\n",
        "print(dfTrainsLearn.iloc[100])"
      ],
      "metadata": {
        "id": "jTVXPBSQ2gp3",
        "colab": {
          "base_uri": "https://localhost:8080/"
        },
        "outputId": "0af60294-f034-4893-fd7f-fe9d2d25f2e9"
      },
      "execution_count": 149,
      "outputs": [
        {
          "output_type": "stream",
          "name": "stdout",
          "text": [
            "(5907, 47)\n",
            "(6747,)\n",
            "<class 'pandas.core.frame.DataFrame'>\n",
            "Int64Index: 5907 entries, 10 to 6745\n",
            "Data columns (total 47 columns):\n",
            " #   Column                                                         Non-Null Count  Dtype         \n",
            "---  ------                                                         --------------  -----         \n",
            " 0   ptcLeadLocomotiveId                                            5907 non-null   object        \n",
            " 1   trainId.trainSCAC                                              5907 non-null   category      \n",
            " 2   trainId.trainSection                                           5907 non-null   category      \n",
            " 3   trainId.trainSymbol                                            5907 non-null   object        \n",
            " 4   trainId.trainDate                                              5907 non-null   datetime64[ns]\n",
            " 5   lastReportedPosition.speedMPH                                  5907 non-null   int64         \n",
            " 6   lastReportedPosition.milepostLocation.subdivisionId            5907 non-null   int64         \n",
            " 7   lastReportedPosition.milepostLocation.trackName                5907 non-null   category      \n",
            " 8   lastReportedPosition.milepostLocation.milepost.milepostNumber  5907 non-null   float64       \n",
            " 9   aotuTrainData.priorityCode                                     5907 non-null   category      \n",
            " 10  aotuTrainData.categoryCode                                     5907 non-null   category      \n",
            " 11  aotuTrainData.authorityRangeCode                               5907 non-null   category      \n",
            " 12  aotuTrainData.ownershipCode                                    5907 non-null   category      \n",
            " 13  aotuTrainData.totalCarWeight                                   5907 non-null   float64       \n",
            " 14  aotuTrainData.totalCarLength                                   5907 non-null   float64       \n",
            " 15  aotuTrainData.totalLocomotiveWeight                            5907 non-null   float64       \n",
            " 16  aotuTrainData.totalLocomotiveLength                            5907 non-null   float64       \n",
            " 17  aotuTrainData.actualTonsPerAxle                                5907 non-null   float64       \n",
            " 18  aotuTrainData.heavy143TonCarCount                              5907 non-null   float64       \n",
            " 19  aotuTrainData.heavy158TonCarCount                              5907 non-null   float64       \n",
            " 20  aotuTrainData.over158TonCarCount                               5907 non-null   float64       \n",
            " 21  aotuTrainData.highWideCarCount                                 5907 non-null   float64       \n",
            " 22  aotuTrainData.eventCode                                        5907 non-null   category      \n",
            " 23  maximumTrainSpeed                                              5907 non-null   float64       \n",
            " 24  loadedCarCount                                                 5907 non-null   float64       \n",
            " 25  emptyCarCount                                                  5907 non-null   float64       \n",
            " 26  trainLength                                                    5907 non-null   float64       \n",
            " 27  trailingTonnage                                                5907 non-null   float64       \n",
            " 28  milepost                                                       5907 non-null   int64         \n",
            " 29  mpIncr                                                         5907 non-null   bool          \n",
            " 30  symbolType                                                     5907 non-null   category      \n",
            " 31  workLocations                                                  4951 non-null   object        \n",
            " 32  locomotiveCount                                                5907 non-null   int64         \n",
            " 33  nextSpeed                                                      5907 non-null   float64       \n",
            " 34  lastReportedPosition.positionTimeYear                          5907 non-null   int64         \n",
            " 35  lastReportedPosition.positionTimeMonth                         5907 non-null   int64         \n",
            " 36  lastReportedPosition.positionTimeWeek                          5907 non-null   int64         \n",
            " 37  lastReportedPosition.positionTimeDay                           5907 non-null   int64         \n",
            " 38  lastReportedPosition.positionTimeDayofweek                     5907 non-null   int64         \n",
            " 39  lastReportedPosition.positionTimeDayofyear                     5907 non-null   int64         \n",
            " 40  lastReportedPosition.positionTimeIs_month_end                  5907 non-null   bool          \n",
            " 41  lastReportedPosition.positionTimeIs_month_start                5907 non-null   bool          \n",
            " 42  lastReportedPosition.positionTimeIs_quarter_end                5907 non-null   bool          \n",
            " 43  lastReportedPosition.positionTimeIs_quarter_start              5907 non-null   bool          \n",
            " 44  lastReportedPosition.positionTimeIs_year_end                   5907 non-null   bool          \n",
            " 45  lastReportedPosition.positionTimeIs_year_start                 5907 non-null   bool          \n",
            " 46  lastReportedPosition.positionTimeElapsed                       5907 non-null   float64       \n",
            "dtypes: bool(7), category(9), datetime64[ns](1), float64(17), int64(10), object(3)\n",
            "memory usage: 1.5+ MB\n",
            "None\n",
            "ptcLeadLocomotiveId                                              KCS4142\n",
            "trainId.trainSCAC                                                     UP\n",
            "trainId.trainSection                                                   3\n",
            "trainId.trainSymbol                                               GWARNJ\n",
            "trainId.trainDate                                    2022-06-26 00:00:00\n",
            "                                                            ...         \n",
            "lastReportedPosition.positionTimeIs_quarter_end                    False\n",
            "lastReportedPosition.positionTimeIs_quarter_start                  False\n",
            "lastReportedPosition.positionTimeIs_year_end                       False\n",
            "lastReportedPosition.positionTimeIs_year_start                     False\n",
            "lastReportedPosition.positionTimeElapsed                    1656276698.0\n",
            "Name: 190, Length: 47, dtype: object\n"
          ]
        }
      ]
    },
    {
      "cell_type": "markdown",
      "source": [
        "# Use Decision Tree to predict next speed"
      ],
      "metadata": {
        "id": "mg1p1vouBeIB"
      }
    },
    {
      "cell_type": "code",
      "source": [
        "procs = [tabular.core.Categorify, tabular.core.FillMissing]"
      ],
      "metadata": {
        "id": "F9TApkZWbAbz"
      },
      "execution_count": 150,
      "outputs": []
    },
    {
      "cell_type": "markdown",
      "source": [
        "Breakdown the data by day of year - we will train with older data and then test the model with newer values.\n",
        "Note: this simple logic will fail at the begining of a new year!"
      ],
      "metadata": {
        "id": "yjaTPkTntR7F"
      }
    },
    {
      "cell_type": "code",
      "source": [
        "dateValues = dfTrainsLearn.groupby(['lastReportedPosition.positionTimeDayofyear'])['lastReportedPosition.positionTimeDayofyear'].count()\n",
        "print(dateValues)"
      ],
      "metadata": {
        "id": "gDgYzofcvcpM",
        "colab": {
          "base_uri": "https://localhost:8080/"
        },
        "outputId": "256a86fe-43fd-4747-8605-7f960e6b1178"
      },
      "execution_count": 151,
      "outputs": [
        {
          "output_type": "stream",
          "name": "stdout",
          "text": [
            "lastReportedPosition.positionTimeDayofyear\n",
            "171    448\n",
            "172    460\n",
            "173    518\n",
            "174    688\n",
            "175    583\n",
            "176    522\n",
            "177    548\n",
            "178    511\n",
            "179    513\n",
            "180    487\n",
            "181    507\n",
            "182    122\n",
            "Name: lastReportedPosition.positionTimeDayofyear, dtype: int64\n"
          ]
        }
      ]
    },
    {
      "cell_type": "code",
      "source": [
        "print(\"We will partition this set at day of year:\", dateValues.index[math.trunc(dateValues.size * .66)])"
      ],
      "metadata": {
        "colab": {
          "base_uri": "https://localhost:8080/"
        },
        "id": "cJkyrhnpt2T2",
        "outputId": "722ef305-a83d-4e14-cfba-08cf5eb81957"
      },
      "execution_count": 152,
      "outputs": [
        {
          "output_type": "stream",
          "name": "stdout",
          "text": [
            "We will partition this set at day of year: 178\n"
          ]
        }
      ]
    },
    {
      "cell_type": "code",
      "source": [
        "cond = ( dfTrainsLearn['lastReportedPosition.positionTimeDayofyear'] <= dateValues.index[math.trunc(dateValues.size * .66)] )\n",
        "trainIdx = np.where(cond)[0]\n",
        "validIdx = np.where(~cond)[0]\n",
        "splits = (list(trainIdx), list(validIdx))"
      ],
      "metadata": {
        "id": "nIURJVe5vc_n"
      },
      "execution_count": 153,
      "outputs": []
    },
    {
      "cell_type": "code",
      "source": [
        "dep_var = 'nextSpeed'"
      ],
      "metadata": {
        "id": "rPW42wgnOLO_"
      },
      "execution_count": 154,
      "outputs": []
    },
    {
      "cell_type": "code",
      "source": [
        "cont,cat = tabular.core.cont_cat_split(dfTrainsLearn, 1, dep_var=dep_var)"
      ],
      "metadata": {
        "id": "gHDAeThzyzc6"
      },
      "execution_count": 155,
      "outputs": []
    },
    {
      "cell_type": "code",
      "source": [
        "to = tabular.core.TabularPandas(dfTrainsLearn, procs, cat, cont, y_names=dep_var, splits=splits)"
      ],
      "metadata": {
        "id": "xz1ZonvnO-I7"
      },
      "execution_count": 156,
      "outputs": []
    },
    {
      "cell_type": "code",
      "source": [
        "len(to.train),len(to.valid)"
      ],
      "metadata": {
        "id": "0DJly6_Z94uI",
        "colab": {
          "base_uri": "https://localhost:8080/"
        },
        "outputId": "14c29c8d-d61d-461e-8337-563e55cf4b72"
      },
      "execution_count": 157,
      "outputs": [
        {
          "output_type": "execute_result",
          "data": {
            "text/plain": [
              "(4278, 1629)"
            ]
          },
          "metadata": {},
          "execution_count": 157
        }
      ]
    },
    {
      "cell_type": "code",
      "source": [
        "to.show()"
      ],
      "metadata": {
        "id": "xoEQAME4-n0M",
        "colab": {
          "base_uri": "https://localhost:8080/",
          "height": 383
        },
        "outputId": "ba9cbbfa-a797-4990-fc09-fc443827f23a"
      },
      "execution_count": 158,
      "outputs": [
        {
          "output_type": "display_data",
          "data": {
            "text/plain": [
              "<IPython.core.display.HTML object>"
            ],
            "text/html": [
              "<table border=\"1\" class=\"dataframe\">\n",
              "  <thead>\n",
              "    <tr style=\"text-align: right;\">\n",
              "      <th></th>\n",
              "      <th>ptcLeadLocomotiveId</th>\n",
              "      <th>trainId.trainSCAC</th>\n",
              "      <th>trainId.trainSection</th>\n",
              "      <th>trainId.trainSymbol</th>\n",
              "      <th>trainId.trainDate</th>\n",
              "      <th>lastReportedPosition.milepostLocation.subdivisionId</th>\n",
              "      <th>lastReportedPosition.milepostLocation.trackName</th>\n",
              "      <th>aotuTrainData.priorityCode</th>\n",
              "      <th>aotuTrainData.categoryCode</th>\n",
              "      <th>aotuTrainData.authorityRangeCode</th>\n",
              "      <th>aotuTrainData.ownershipCode</th>\n",
              "      <th>aotuTrainData.eventCode</th>\n",
              "      <th>mpIncr</th>\n",
              "      <th>symbolType</th>\n",
              "      <th>workLocations</th>\n",
              "      <th>lastReportedPosition.positionTimeYear</th>\n",
              "      <th>lastReportedPosition.positionTimeIs_month_end</th>\n",
              "      <th>lastReportedPosition.positionTimeIs_month_start</th>\n",
              "      <th>lastReportedPosition.positionTimeIs_quarter_end</th>\n",
              "      <th>lastReportedPosition.positionTimeIs_quarter_start</th>\n",
              "      <th>lastReportedPosition.positionTimeIs_year_end</th>\n",
              "      <th>lastReportedPosition.positionTimeIs_year_start</th>\n",
              "      <th>lastReportedPosition.speedMPH</th>\n",
              "      <th>lastReportedPosition.milepostLocation.milepost.milepostNumber</th>\n",
              "      <th>aotuTrainData.totalCarWeight</th>\n",
              "      <th>aotuTrainData.totalCarLength</th>\n",
              "      <th>aotuTrainData.totalLocomotiveWeight</th>\n",
              "      <th>aotuTrainData.totalLocomotiveLength</th>\n",
              "      <th>aotuTrainData.actualTonsPerAxle</th>\n",
              "      <th>aotuTrainData.heavy143TonCarCount</th>\n",
              "      <th>aotuTrainData.heavy158TonCarCount</th>\n",
              "      <th>aotuTrainData.over158TonCarCount</th>\n",
              "      <th>aotuTrainData.highWideCarCount</th>\n",
              "      <th>maximumTrainSpeed</th>\n",
              "      <th>loadedCarCount</th>\n",
              "      <th>emptyCarCount</th>\n",
              "      <th>trainLength</th>\n",
              "      <th>trailingTonnage</th>\n",
              "      <th>milepost</th>\n",
              "      <th>locomotiveCount</th>\n",
              "      <th>lastReportedPosition.positionTimeMonth</th>\n",
              "      <th>lastReportedPosition.positionTimeWeek</th>\n",
              "      <th>lastReportedPosition.positionTimeDay</th>\n",
              "      <th>lastReportedPosition.positionTimeDayofweek</th>\n",
              "      <th>lastReportedPosition.positionTimeDayofyear</th>\n",
              "      <th>lastReportedPosition.positionTimeElapsed</th>\n",
              "      <th>nextSpeed</th>\n",
              "    </tr>\n",
              "  </thead>\n",
              "  <tbody>\n",
              "    <tr>\n",
              "      <th>23</th>\n",
              "      <td>BNSF5040</td>\n",
              "      <td>UP</td>\n",
              "      <td></td>\n",
              "      <td>QDYIJJ</td>\n",
              "      <td>2022-06-22</td>\n",
              "      <td>106</td>\n",
              "      <td>EAST MAIN</td>\n",
              "      <td>2.0</td>\n",
              "      <td>12.0</td>\n",
              "      <td>2.0</td>\n",
              "      <td>3.0</td>\n",
              "      <td>0.0</td>\n",
              "      <td>False</td>\n",
              "      <td>Q</td>\n",
              "      <td>#na#</td>\n",
              "      <td>2022</td>\n",
              "      <td>False</td>\n",
              "      <td>False</td>\n",
              "      <td>False</td>\n",
              "      <td>False</td>\n",
              "      <td>False</td>\n",
              "      <td>False</td>\n",
              "      <td>14</td>\n",
              "      <td>766.864807</td>\n",
              "      <td>0.0</td>\n",
              "      <td>0.0</td>\n",
              "      <td>8520000.0</td>\n",
              "      <td>17560.0</td>\n",
              "      <td>65535.0</td>\n",
              "      <td>0.0</td>\n",
              "      <td>0.0</td>\n",
              "      <td>0.0</td>\n",
              "      <td>0.0</td>\n",
              "      <td>88.0</td>\n",
              "      <td>999.0</td>\n",
              "      <td>999.0</td>\n",
              "      <td>99999.0</td>\n",
              "      <td>99999.0</td>\n",
              "      <td>766</td>\n",
              "      <td>0</td>\n",
              "      <td>6</td>\n",
              "      <td>25</td>\n",
              "      <td>23</td>\n",
              "      <td>3</td>\n",
              "      <td>174</td>\n",
              "      <td>1.656024e+09</td>\n",
              "      <td>-14.0</td>\n",
              "    </tr>\n",
              "    <tr>\n",
              "      <th>32</th>\n",
              "      <td>BNSF5746</td>\n",
              "      <td>UP</td>\n",
              "      <td></td>\n",
              "      <td>QBTIJJ</td>\n",
              "      <td>2022-06-21</td>\n",
              "      <td>106</td>\n",
              "      <td>EAST MAIN</td>\n",
              "      <td>2.0</td>\n",
              "      <td>12.0</td>\n",
              "      <td>2.0</td>\n",
              "      <td>3.0</td>\n",
              "      <td>0.0</td>\n",
              "      <td>True</td>\n",
              "      <td>Q</td>\n",
              "      <td>#na#</td>\n",
              "      <td>2022</td>\n",
              "      <td>False</td>\n",
              "      <td>False</td>\n",
              "      <td>False</td>\n",
              "      <td>False</td>\n",
              "      <td>False</td>\n",
              "      <td>False</td>\n",
              "      <td>6</td>\n",
              "      <td>766.783325</td>\n",
              "      <td>57140000.0</td>\n",
              "      <td>362880.0</td>\n",
              "      <td>12550000.0</td>\n",
              "      <td>26440.0</td>\n",
              "      <td>65535.0</td>\n",
              "      <td>0.0</td>\n",
              "      <td>0.0</td>\n",
              "      <td>0.0</td>\n",
              "      <td>0.0</td>\n",
              "      <td>88.0</td>\n",
              "      <td>999.0</td>\n",
              "      <td>999.0</td>\n",
              "      <td>99999.0</td>\n",
              "      <td>99999.0</td>\n",
              "      <td>766</td>\n",
              "      <td>0</td>\n",
              "      <td>6</td>\n",
              "      <td>25</td>\n",
              "      <td>21</td>\n",
              "      <td>1</td>\n",
              "      <td>172</td>\n",
              "      <td>1.655822e+09</td>\n",
              "      <td>-1.0</td>\n",
              "    </tr>\n",
              "    <tr>\n",
              "      <th>34</th>\n",
              "      <td>BNSF5833</td>\n",
              "      <td>UP</td>\n",
              "      <td></td>\n",
              "      <td>MNOEW</td>\n",
              "      <td>2022-06-19</td>\n",
              "      <td>106</td>\n",
              "      <td>MAIN</td>\n",
              "      <td>4.0</td>\n",
              "      <td>12.0</td>\n",
              "      <td>2.0</td>\n",
              "      <td>2.0</td>\n",
              "      <td>0.0</td>\n",
              "      <td>True</td>\n",
              "      <td>M</td>\n",
              "      <td>#na#</td>\n",
              "      <td>2022</td>\n",
              "      <td>False</td>\n",
              "      <td>False</td>\n",
              "      <td>False</td>\n",
              "      <td>False</td>\n",
              "      <td>False</td>\n",
              "      <td>False</td>\n",
              "      <td>8</td>\n",
              "      <td>720.410889</td>\n",
              "      <td>100343000.0</td>\n",
              "      <td>857270.0</td>\n",
              "      <td>4200000.0</td>\n",
              "      <td>8780.0</td>\n",
              "      <td>65535.0</td>\n",
              "      <td>6.0</td>\n",
              "      <td>0.0</td>\n",
              "      <td>0.0</td>\n",
              "      <td>0.0</td>\n",
              "      <td>50.0</td>\n",
              "      <td>10.0</td>\n",
              "      <td>115.0</td>\n",
              "      <td>7274.0</td>\n",
              "      <td>5018.0</td>\n",
              "      <td>720</td>\n",
              "      <td>1</td>\n",
              "      <td>6</td>\n",
              "      <td>25</td>\n",
              "      <td>20</td>\n",
              "      <td>0</td>\n",
              "      <td>171</td>\n",
              "      <td>1.655754e+09</td>\n",
              "      <td>16.0</td>\n",
              "    </tr>\n",
              "    <tr>\n",
              "      <th>35</th>\n",
              "      <td>BNSF5833</td>\n",
              "      <td>UP</td>\n",
              "      <td></td>\n",
              "      <td>MNOEW</td>\n",
              "      <td>2022-06-19</td>\n",
              "      <td>106</td>\n",
              "      <td>MAIN</td>\n",
              "      <td>4.0</td>\n",
              "      <td>12.0</td>\n",
              "      <td>2.0</td>\n",
              "      <td>2.0</td>\n",
              "      <td>0.0</td>\n",
              "      <td>True</td>\n",
              "      <td>M</td>\n",
              "      <td>#na#</td>\n",
              "      <td>2022</td>\n",
              "      <td>False</td>\n",
              "      <td>False</td>\n",
              "      <td>False</td>\n",
              "      <td>False</td>\n",
              "      <td>False</td>\n",
              "      <td>False</td>\n",
              "      <td>28</td>\n",
              "      <td>724.460693</td>\n",
              "      <td>100343000.0</td>\n",
              "      <td>857270.0</td>\n",
              "      <td>4200000.0</td>\n",
              "      <td>8780.0</td>\n",
              "      <td>65535.0</td>\n",
              "      <td>6.0</td>\n",
              "      <td>0.0</td>\n",
              "      <td>0.0</td>\n",
              "      <td>0.0</td>\n",
              "      <td>50.0</td>\n",
              "      <td>10.0</td>\n",
              "      <td>115.0</td>\n",
              "      <td>7274.0</td>\n",
              "      <td>5018.0</td>\n",
              "      <td>724</td>\n",
              "      <td>1</td>\n",
              "      <td>6</td>\n",
              "      <td>25</td>\n",
              "      <td>20</td>\n",
              "      <td>0</td>\n",
              "      <td>171</td>\n",
              "      <td>1.655755e+09</td>\n",
              "      <td>-28.0</td>\n",
              "    </tr>\n",
              "    <tr>\n",
              "      <th>36</th>\n",
              "      <td>BNSF5833</td>\n",
              "      <td>UP</td>\n",
              "      <td></td>\n",
              "      <td>MNOEW</td>\n",
              "      <td>2022-06-19</td>\n",
              "      <td>106</td>\n",
              "      <td>S_LUCAS</td>\n",
              "      <td>4.0</td>\n",
              "      <td>12.0</td>\n",
              "      <td>2.0</td>\n",
              "      <td>2.0</td>\n",
              "      <td>0.0</td>\n",
              "      <td>True</td>\n",
              "      <td>M</td>\n",
              "      <td>#na#</td>\n",
              "      <td>2022</td>\n",
              "      <td>False</td>\n",
              "      <td>False</td>\n",
              "      <td>False</td>\n",
              "      <td>False</td>\n",
              "      <td>False</td>\n",
              "      <td>False</td>\n",
              "      <td>0</td>\n",
              "      <td>728.696106</td>\n",
              "      <td>100343000.0</td>\n",
              "      <td>857270.0</td>\n",
              "      <td>4200000.0</td>\n",
              "      <td>8780.0</td>\n",
              "      <td>65535.0</td>\n",
              "      <td>6.0</td>\n",
              "      <td>0.0</td>\n",
              "      <td>0.0</td>\n",
              "      <td>0.0</td>\n",
              "      <td>50.0</td>\n",
              "      <td>10.0</td>\n",
              "      <td>115.0</td>\n",
              "      <td>7274.0</td>\n",
              "      <td>5018.0</td>\n",
              "      <td>728</td>\n",
              "      <td>1</td>\n",
              "      <td>6</td>\n",
              "      <td>25</td>\n",
              "      <td>20</td>\n",
              "      <td>0</td>\n",
              "      <td>171</td>\n",
              "      <td>1.655756e+09</td>\n",
              "      <td>0.0</td>\n",
              "    </tr>\n",
              "    <tr>\n",
              "      <th>37</th>\n",
              "      <td>BNSF5833</td>\n",
              "      <td>UP</td>\n",
              "      <td></td>\n",
              "      <td>MNOEW</td>\n",
              "      <td>2022-06-19</td>\n",
              "      <td>106</td>\n",
              "      <td>S_LUCAS</td>\n",
              "      <td>4.0</td>\n",
              "      <td>12.0</td>\n",
              "      <td>2.0</td>\n",
              "      <td>2.0</td>\n",
              "      <td>0.0</td>\n",
              "      <td>True</td>\n",
              "      <td>M</td>\n",
              "      <td>#na#</td>\n",
              "      <td>2022</td>\n",
              "      <td>False</td>\n",
              "      <td>False</td>\n",
              "      <td>False</td>\n",
              "      <td>False</td>\n",
              "      <td>False</td>\n",
              "      <td>False</td>\n",
              "      <td>0</td>\n",
              "      <td>728.696411</td>\n",
              "      <td>100343000.0</td>\n",
              "      <td>857270.0</td>\n",
              "      <td>4200000.0</td>\n",
              "      <td>8780.0</td>\n",
              "      <td>65535.0</td>\n",
              "      <td>6.0</td>\n",
              "      <td>0.0</td>\n",
              "      <td>0.0</td>\n",
              "      <td>0.0</td>\n",
              "      <td>50.0</td>\n",
              "      <td>10.0</td>\n",
              "      <td>115.0</td>\n",
              "      <td>7274.0</td>\n",
              "      <td>5018.0</td>\n",
              "      <td>728</td>\n",
              "      <td>1</td>\n",
              "      <td>6</td>\n",
              "      <td>25</td>\n",
              "      <td>20</td>\n",
              "      <td>0</td>\n",
              "      <td>171</td>\n",
              "      <td>1.655757e+09</td>\n",
              "      <td>0.0</td>\n",
              "    </tr>\n",
              "    <tr>\n",
              "      <th>38</th>\n",
              "      <td>BNSF5833</td>\n",
              "      <td>UP</td>\n",
              "      <td></td>\n",
              "      <td>MNOEW</td>\n",
              "      <td>2022-06-19</td>\n",
              "      <td>106</td>\n",
              "      <td>S_LUCAS</td>\n",
              "      <td>4.0</td>\n",
              "      <td>12.0</td>\n",
              "      <td>2.0</td>\n",
              "      <td>2.0</td>\n",
              "      <td>0.0</td>\n",
              "      <td>True</td>\n",
              "      <td>M</td>\n",
              "      <td>#na#</td>\n",
              "      <td>2022</td>\n",
              "      <td>False</td>\n",
              "      <td>False</td>\n",
              "      <td>False</td>\n",
              "      <td>False</td>\n",
              "      <td>False</td>\n",
              "      <td>False</td>\n",
              "      <td>0</td>\n",
              "      <td>728.697998</td>\n",
              "      <td>100343000.0</td>\n",
              "      <td>857270.0</td>\n",
              "      <td>4200000.0</td>\n",
              "      <td>8780.0</td>\n",
              "      <td>65535.0</td>\n",
              "      <td>6.0</td>\n",
              "      <td>0.0</td>\n",
              "      <td>0.0</td>\n",
              "      <td>0.0</td>\n",
              "      <td>50.0</td>\n",
              "      <td>10.0</td>\n",
              "      <td>115.0</td>\n",
              "      <td>7274.0</td>\n",
              "      <td>5018.0</td>\n",
              "      <td>728</td>\n",
              "      <td>1</td>\n",
              "      <td>6</td>\n",
              "      <td>25</td>\n",
              "      <td>20</td>\n",
              "      <td>0</td>\n",
              "      <td>171</td>\n",
              "      <td>1.655758e+09</td>\n",
              "      <td>0.0</td>\n",
              "    </tr>\n",
              "    <tr>\n",
              "      <th>39</th>\n",
              "      <td>BNSF5833</td>\n",
              "      <td>UP</td>\n",
              "      <td></td>\n",
              "      <td>MNOEW</td>\n",
              "      <td>2022-06-19</td>\n",
              "      <td>106</td>\n",
              "      <td>S_LUCAS</td>\n",
              "      <td>4.0</td>\n",
              "      <td>12.0</td>\n",
              "      <td>2.0</td>\n",
              "      <td>2.0</td>\n",
              "      <td>0.0</td>\n",
              "      <td>True</td>\n",
              "      <td>M</td>\n",
              "      <td>#na#</td>\n",
              "      <td>2022</td>\n",
              "      <td>False</td>\n",
              "      <td>False</td>\n",
              "      <td>False</td>\n",
              "      <td>False</td>\n",
              "      <td>False</td>\n",
              "      <td>False</td>\n",
              "      <td>0</td>\n",
              "      <td>728.697388</td>\n",
              "      <td>100343000.0</td>\n",
              "      <td>857270.0</td>\n",
              "      <td>4200000.0</td>\n",
              "      <td>8780.0</td>\n",
              "      <td>65535.0</td>\n",
              "      <td>6.0</td>\n",
              "      <td>0.0</td>\n",
              "      <td>0.0</td>\n",
              "      <td>0.0</td>\n",
              "      <td>50.0</td>\n",
              "      <td>10.0</td>\n",
              "      <td>115.0</td>\n",
              "      <td>7274.0</td>\n",
              "      <td>5018.0</td>\n",
              "      <td>728</td>\n",
              "      <td>1</td>\n",
              "      <td>6</td>\n",
              "      <td>25</td>\n",
              "      <td>20</td>\n",
              "      <td>0</td>\n",
              "      <td>171</td>\n",
              "      <td>1.655759e+09</td>\n",
              "      <td>0.0</td>\n",
              "    </tr>\n",
              "    <tr>\n",
              "      <th>40</th>\n",
              "      <td>BNSF5833</td>\n",
              "      <td>UP</td>\n",
              "      <td></td>\n",
              "      <td>MNOEW</td>\n",
              "      <td>2022-06-19</td>\n",
              "      <td>106</td>\n",
              "      <td>S_LUCAS</td>\n",
              "      <td>4.0</td>\n",
              "      <td>12.0</td>\n",
              "      <td>2.0</td>\n",
              "      <td>2.0</td>\n",
              "      <td>0.0</td>\n",
              "      <td>True</td>\n",
              "      <td>M</td>\n",
              "      <td>#na#</td>\n",
              "      <td>2022</td>\n",
              "      <td>False</td>\n",
              "      <td>False</td>\n",
              "      <td>False</td>\n",
              "      <td>False</td>\n",
              "      <td>False</td>\n",
              "      <td>False</td>\n",
              "      <td>0</td>\n",
              "      <td>728.696594</td>\n",
              "      <td>100343000.0</td>\n",
              "      <td>857270.0</td>\n",
              "      <td>4200000.0</td>\n",
              "      <td>8780.0</td>\n",
              "      <td>65535.0</td>\n",
              "      <td>6.0</td>\n",
              "      <td>0.0</td>\n",
              "      <td>0.0</td>\n",
              "      <td>0.0</td>\n",
              "      <td>50.0</td>\n",
              "      <td>10.0</td>\n",
              "      <td>115.0</td>\n",
              "      <td>7274.0</td>\n",
              "      <td>5018.0</td>\n",
              "      <td>728</td>\n",
              "      <td>1</td>\n",
              "      <td>6</td>\n",
              "      <td>25</td>\n",
              "      <td>20</td>\n",
              "      <td>0</td>\n",
              "      <td>171</td>\n",
              "      <td>1.655761e+09</td>\n",
              "      <td>0.0</td>\n",
              "    </tr>\n",
              "    <tr>\n",
              "      <th>41</th>\n",
              "      <td>BNSF5833</td>\n",
              "      <td>UP</td>\n",
              "      <td></td>\n",
              "      <td>MNOEW</td>\n",
              "      <td>2022-06-19</td>\n",
              "      <td>106</td>\n",
              "      <td>S_LUCAS</td>\n",
              "      <td>4.0</td>\n",
              "      <td>12.0</td>\n",
              "      <td>2.0</td>\n",
              "      <td>2.0</td>\n",
              "      <td>0.0</td>\n",
              "      <td>True</td>\n",
              "      <td>M</td>\n",
              "      <td>#na#</td>\n",
              "      <td>2022</td>\n",
              "      <td>False</td>\n",
              "      <td>False</td>\n",
              "      <td>False</td>\n",
              "      <td>False</td>\n",
              "      <td>False</td>\n",
              "      <td>False</td>\n",
              "      <td>0</td>\n",
              "      <td>728.696594</td>\n",
              "      <td>100343000.0</td>\n",
              "      <td>857270.0</td>\n",
              "      <td>4200000.0</td>\n",
              "      <td>8780.0</td>\n",
              "      <td>65535.0</td>\n",
              "      <td>6.0</td>\n",
              "      <td>0.0</td>\n",
              "      <td>0.0</td>\n",
              "      <td>0.0</td>\n",
              "      <td>50.0</td>\n",
              "      <td>10.0</td>\n",
              "      <td>115.0</td>\n",
              "      <td>7274.0</td>\n",
              "      <td>5018.0</td>\n",
              "      <td>728</td>\n",
              "      <td>1</td>\n",
              "      <td>6</td>\n",
              "      <td>25</td>\n",
              "      <td>20</td>\n",
              "      <td>0</td>\n",
              "      <td>171</td>\n",
              "      <td>1.655762e+09</td>\n",
              "      <td>0.0</td>\n",
              "    </tr>\n",
              "  </tbody>\n",
              "</table>"
            ]
          },
          "metadata": {}
        }
      ]
    },
    {
      "cell_type": "code",
      "source": [
        "fastai.save_pickle('/tmp/to.pkl',to)"
      ],
      "metadata": {
        "id": "r-D5hdO3-ypC"
      },
      "execution_count": 159,
      "outputs": []
    },
    {
      "cell_type": "markdown",
      "source": [
        "# Creating the Decision Tree"
      ],
      "metadata": {
        "id": "knWgCrX_A0Ep"
      }
    },
    {
      "cell_type": "code",
      "source": [
        "to = fastai.load_pickle('/tmp/to.pkl')"
      ],
      "metadata": {
        "id": "rtc_YDw0ArMR"
      },
      "execution_count": 160,
      "outputs": []
    },
    {
      "cell_type": "code",
      "source": [
        "xs,y = to.train.xs,to.train.y\n",
        "valid_xs,valid_y = to.valid.xs,to.valid.y"
      ],
      "metadata": {
        "id": "CcGx27DMBMbc"
      },
      "execution_count": 161,
      "outputs": []
    },
    {
      "cell_type": "code",
      "source": [
        "m = DecisionTreeRegressor(max_leaf_nodes=16)\n",
        "m.fit(xs, y);"
      ],
      "metadata": {
        "id": "clTcBmpGBXv6"
      },
      "execution_count": 162,
      "outputs": []
    },
    {
      "cell_type": "markdown",
      "source": [
        "Here is a sample of a Decision Tree with just 16 nodes:"
      ],
      "metadata": {
        "id": "YxzzayblKLsa"
      }
    },
    {
      "cell_type": "code",
      "source": [
        "fastai.draw_tree(m, xs, size=16, leaves_parallel=True, precision=2)"
      ],
      "metadata": {
        "id": "nhXNnHk7CSmF",
        "colab": {
          "base_uri": "https://localhost:8080/",
          "height": 945
        },
        "outputId": "de6f15ad-3bea-4867-c13c-736f11324991"
      },
      "execution_count": 163,
      "outputs": [
        {
          "output_type": "execute_result",
          "data": {
            "text/plain": [
              "<graphviz.files.Source at 0x7fe1726aae10>"
            ],
            "image/svg+xml": "<?xml version=\"1.0\" encoding=\"UTF-8\" standalone=\"no\"?>\n<!DOCTYPE svg PUBLIC \"-//W3C//DTD SVG 1.1//EN\"\n \"http://www.w3.org/Graphics/SVG/1.1/DTD/svg11.dtd\">\n<!-- Generated by graphviz version 2.40.1 (20161225.0304)\n -->\n<!-- Title: Tree Pages: 1 -->\n<svg width=\"1152pt\" height=\"693pt\"\n viewBox=\"0.00 0.00 1152.00 692.82\" xmlns=\"http://www.w3.org/2000/svg\" xmlns:xlink=\"http://www.w3.org/1999/xlink\">\n<g id=\"graph0\" class=\"graph\" transform=\"scale(.3502 .3502) rotate(0) translate(4 1974.6395)\">\n<title>Tree</title>\n<polygon fill=\"#ffffff\" stroke=\"transparent\" points=\"-4,4 -4,-1974.6395 3286,-1974.6395 3286,4 -4,4\"/>\n<!-- 0 -->\n<g id=\"node1\" class=\"node\">\n<title>0</title>\n<path fill=\"#f4c7a8\" stroke=\"#000000\" d=\"M2127,-1907C2127,-1907 1880,-1907 1880,-1907 1874,-1907 1868,-1901 1868,-1895 1868,-1895 1868,-1851 1868,-1851 1868,-1845 1874,-1839 1880,-1839 1880,-1839 2127,-1839 2127,-1839 2133,-1839 2139,-1845 2139,-1851 2139,-1851 2139,-1895 2139,-1895 2139,-1901 2133,-1907 2127,-1907\"/>\n<text text-anchor=\"start\" x=\"1876\" y=\"-1891.8\" font-family=\"Helvetica,sans-Serif\" font-size=\"14.00\" fill=\"#000000\">lastReportedPosition.speedMPH ≤ 27.5</text>\n<text text-anchor=\"start\" x=\"1927\" y=\"-1876.8\" font-family=\"Helvetica,sans-Serif\" font-size=\"14.00\" fill=\"#000000\">squared_error = 340.78</text>\n<text text-anchor=\"start\" x=\"1951.5\" y=\"-1861.8\" font-family=\"Helvetica,sans-Serif\" font-size=\"14.00\" fill=\"#000000\">samples = 4278</text>\n<text text-anchor=\"start\" x=\"1963.5\" y=\"-1846.8\" font-family=\"Helvetica,sans-Serif\" font-size=\"14.00\" fill=\"#000000\">value = 0.27</text>\n</g>\n<!-- 1 -->\n<g id=\"node2\" class=\"node\">\n<title>1</title>\n<path fill=\"#f0b68c\" stroke=\"#000000\" d=\"M1954,-1607C1954,-1607 1809,-1607 1809,-1607 1803,-1607 1797,-1601 1797,-1595 1797,-1595 1797,-1551 1797,-1551 1797,-1545 1803,-1539 1809,-1539 1809,-1539 1954,-1539 1954,-1539 1960,-1539 1966,-1545 1966,-1551 1966,-1551 1966,-1595 1966,-1595 1966,-1601 1960,-1607 1954,-1607\"/>\n<text text-anchor=\"start\" x=\"1828.5\" y=\"-1591.8\" font-family=\"Helvetica,sans-Serif\" font-size=\"14.00\" fill=\"#000000\">milepost ≤ 721.0</text>\n<text text-anchor=\"start\" x=\"1805\" y=\"-1576.8\" font-family=\"Helvetica,sans-Serif\" font-size=\"14.00\" fill=\"#000000\">squared_error = 281.86</text>\n<text text-anchor=\"start\" x=\"1829.5\" y=\"-1561.8\" font-family=\"Helvetica,sans-Serif\" font-size=\"14.00\" fill=\"#000000\">samples = 2022</text>\n<text text-anchor=\"start\" x=\"1841.5\" y=\"-1546.8\" font-family=\"Helvetica,sans-Serif\" font-size=\"14.00\" fill=\"#000000\">value = 8.66</text>\n</g>\n<!-- 0&#45;&gt;1 -->\n<g id=\"edge1\" class=\"edge\">\n<title>0&#45;&gt;1</title>\n<path fill=\"none\" stroke=\"#000000\" d=\"M1989.6238,-1838.8783C1967.3797,-1784.1796 1923.7598,-1676.9175 1899.2686,-1616.6934\"/>\n<polygon fill=\"#000000\" stroke=\"#000000\" points=\"1902.3725,-1615.0347 1895.3632,-1607.0899 1895.8882,-1617.6717 1902.3725,-1615.0347\"/>\n<text text-anchor=\"middle\" x=\"1885.6471\" y=\"-1626.4246\" font-family=\"Helvetica,sans-Serif\" font-size=\"14.00\" fill=\"#000000\">True</text>\n</g>\n<!-- 2 -->\n<g id=\"node21\" class=\"node\">\n<title>2</title>\n<path fill=\"#f7d7c0\" stroke=\"#000000\" d=\"M2265,-1607C2265,-1607 2018,-1607 2018,-1607 2012,-1607 2006,-1601 2006,-1595 2006,-1595 2006,-1551 2006,-1551 2006,-1545 2012,-1539 2018,-1539 2018,-1539 2265,-1539 2265,-1539 2271,-1539 2277,-1545 2277,-1551 2277,-1551 2277,-1595 2277,-1595 2277,-1601 2271,-1607 2265,-1607\"/>\n<text text-anchor=\"start\" x=\"2014\" y=\"-1591.8\" font-family=\"Helvetica,sans-Serif\" font-size=\"14.00\" fill=\"#000000\">lastReportedPosition.speedMPH ≤ 38.5</text>\n<text text-anchor=\"start\" x=\"2069\" y=\"-1576.8\" font-family=\"Helvetica,sans-Serif\" font-size=\"14.00\" fill=\"#000000\">squared_error = 274.0</text>\n<text text-anchor=\"start\" x=\"2089.5\" y=\"-1561.8\" font-family=\"Helvetica,sans-Serif\" font-size=\"14.00\" fill=\"#000000\">samples = 2256</text>\n<text text-anchor=\"start\" x=\"2099\" y=\"-1546.8\" font-family=\"Helvetica,sans-Serif\" font-size=\"14.00\" fill=\"#000000\">value = &#45;7.25</text>\n</g>\n<!-- 0&#45;&gt;2 -->\n<g id=\"edge20\" class=\"edge\">\n<title>0&#45;&gt;2</title>\n<path fill=\"none\" stroke=\"#000000\" d=\"M2019.196,-1838.8783C2044.4093,-1784.0668 2093.9015,-1676.4749 2121.5721,-1616.3215\"/>\n<polygon fill=\"#000000\" stroke=\"#000000\" points=\"2124.8193,-1617.6375 2125.8187,-1607.0899 2118.4598,-1614.7121 2124.8193,-1617.6375\"/>\n<text text-anchor=\"middle\" x=\"2134.4911\" y=\"-1626.8374\" font-family=\"Helvetica,sans-Serif\" font-size=\"14.00\" fill=\"#000000\">False</text>\n</g>\n<!-- 3 -->\n<g id=\"node3\" class=\"node\">\n<title>3</title>\n<path fill=\"#efb285\" stroke=\"#000000\" d=\"M1577,-1308C1577,-1308 1330,-1308 1330,-1308 1324,-1308 1318,-1302 1318,-1296 1318,-1296 1318,-1252 1318,-1252 1318,-1246 1324,-1240 1330,-1240 1330,-1240 1577,-1240 1577,-1240 1583,-1240 1589,-1246 1589,-1252 1589,-1252 1589,-1296 1589,-1296 1589,-1302 1583,-1308 1577,-1308\"/>\n<text text-anchor=\"start\" x=\"1326\" y=\"-1292.8\" font-family=\"Helvetica,sans-Serif\" font-size=\"14.00\" fill=\"#000000\">lastReportedPosition.speedMPH ≤ 10.5</text>\n<text text-anchor=\"start\" x=\"1381\" y=\"-1277.8\" font-family=\"Helvetica,sans-Serif\" font-size=\"14.00\" fill=\"#000000\">squared_error = 313.5</text>\n<text text-anchor=\"start\" x=\"1401.5\" y=\"-1262.8\" font-family=\"Helvetica,sans-Serif\" font-size=\"14.00\" fill=\"#000000\">samples = 1501</text>\n<text text-anchor=\"start\" x=\"1409.5\" y=\"-1247.8\" font-family=\"Helvetica,sans-Serif\" font-size=\"14.00\" fill=\"#000000\">value = 10.77</text>\n</g>\n<!-- 1&#45;&gt;3 -->\n<g id=\"edge2\" class=\"edge\">\n<title>1&#45;&gt;3</title>\n<path fill=\"none\" stroke=\"#000000\" d=\"M1832.8197,-1538.992C1753.1995,-1483.3695 1595.5146,-1373.2111 1510.6898,-1313.9527\"/>\n<polygon fill=\"#000000\" stroke=\"#000000\" points=\"1512.666,-1311.0638 1502.4638,-1308.206 1508.6571,-1316.8022 1512.666,-1311.0638\"/>\n</g>\n<!-- 4 -->\n<g id=\"node18\" class=\"node\">\n<title>4</title>\n<path fill=\"#f3c3a0\" stroke=\"#000000\" d=\"M2001,-1308C2001,-1308 1762,-1308 1762,-1308 1756,-1308 1750,-1302 1750,-1296 1750,-1296 1750,-1252 1750,-1252 1750,-1246 1756,-1240 1762,-1240 1762,-1240 2001,-1240 2001,-1240 2007,-1240 2013,-1246 2013,-1252 2013,-1252 2013,-1296 2013,-1296 2013,-1302 2007,-1308 2001,-1308\"/>\n<text text-anchor=\"start\" x=\"1758\" y=\"-1292.8\" font-family=\"Helvetica,sans-Serif\" font-size=\"14.00\" fill=\"#000000\">lastReportedPosition.speedMPH ≤ 3.0</text>\n<text text-anchor=\"start\" x=\"1805\" y=\"-1277.8\" font-family=\"Helvetica,sans-Serif\" font-size=\"14.00\" fill=\"#000000\">squared_error = 140.98</text>\n<text text-anchor=\"start\" x=\"1833.5\" y=\"-1262.8\" font-family=\"Helvetica,sans-Serif\" font-size=\"14.00\" fill=\"#000000\">samples = 521</text>\n<text text-anchor=\"start\" x=\"1841.5\" y=\"-1247.8\" font-family=\"Helvetica,sans-Serif\" font-size=\"14.00\" fill=\"#000000\">value = 2.59</text>\n</g>\n<!-- 1&#45;&gt;4 -->\n<g id=\"edge17\" class=\"edge\">\n<title>1&#45;&gt;4</title>\n<path fill=\"none\" stroke=\"#000000\" d=\"M1881.5,-1538.992C1881.5,-1484.8449 1881.5,-1379.0167 1881.5,-1318.7736\"/>\n<polygon fill=\"#000000\" stroke=\"#000000\" points=\"1885.0001,-1318.4364 1881.5,-1308.4365 1878.0001,-1318.4365 1885.0001,-1318.4364\"/>\n</g>\n<!-- 9 -->\n<g id=\"node4\" class=\"node\">\n<title>9</title>\n<path fill=\"#eead7e\" stroke=\"#000000\" d=\"M1238,-1009C1238,-1009 1101,-1009 1101,-1009 1095,-1009 1089,-1003 1089,-997 1089,-997 1089,-953 1089,-953 1089,-947 1095,-941 1101,-941 1101,-941 1238,-941 1238,-941 1244,-941 1250,-947 1250,-953 1250,-953 1250,-997 1250,-997 1250,-1003 1244,-1009 1238,-1009\"/>\n<text text-anchor=\"start\" x=\"1104.5\" y=\"-993.8\" font-family=\"Helvetica,sans-Serif\" font-size=\"14.00\" fill=\"#000000\">workLocations ≤ 1.5</text>\n<text text-anchor=\"start\" x=\"1097\" y=\"-978.8\" font-family=\"Helvetica,sans-Serif\" font-size=\"14.00\" fill=\"#000000\">squared_error = 306.0</text>\n<text text-anchor=\"start\" x=\"1117.5\" y=\"-963.8\" font-family=\"Helvetica,sans-Serif\" font-size=\"14.00\" fill=\"#000000\">samples = 1003</text>\n<text text-anchor=\"start\" x=\"1125.5\" y=\"-948.8\" font-family=\"Helvetica,sans-Serif\" font-size=\"14.00\" fill=\"#000000\">value = 13.01</text>\n</g>\n<!-- 3&#45;&gt;9 -->\n<g id=\"edge3\" class=\"edge\">\n<title>3&#45;&gt;9</title>\n<path fill=\"none\" stroke=\"#000000\" d=\"M1421.1981,-1239.992C1368.9155,-1184.948 1265.905,-1076.4968 1209.2203,-1016.8182\"/>\n<polygon fill=\"#000000\" stroke=\"#000000\" points=\"1211.6335,-1014.2767 1202.2089,-1009.4365 1206.5581,-1019.0975 1211.6335,-1014.2767\"/>\n</g>\n<!-- 10 -->\n<g id=\"node15\" class=\"node\">\n<title>10</title>\n<path fill=\"#f1bb94\" stroke=\"#000000\" d=\"M1535.5,-1009C1535.5,-1009 1371.5,-1009 1371.5,-1009 1365.5,-1009 1359.5,-1003 1359.5,-997 1359.5,-997 1359.5,-953 1359.5,-953 1359.5,-947 1365.5,-941 1371.5,-941 1371.5,-941 1535.5,-941 1535.5,-941 1541.5,-941 1547.5,-947 1547.5,-953 1547.5,-953 1547.5,-997 1547.5,-997 1547.5,-1003 1541.5,-1009 1535.5,-1009\"/>\n<text text-anchor=\"start\" x=\"1367.5\" y=\"-993.8\" font-family=\"Helvetica,sans-Serif\" font-size=\"14.00\" fill=\"#000000\">trainId.trainSymbol ≤ 145.0</text>\n<text text-anchor=\"start\" x=\"1377\" y=\"-978.8\" font-family=\"Helvetica,sans-Serif\" font-size=\"14.00\" fill=\"#000000\">squared_error = 298.05</text>\n<text text-anchor=\"start\" x=\"1405.5\" y=\"-963.8\" font-family=\"Helvetica,sans-Serif\" font-size=\"14.00\" fill=\"#000000\">samples = 498</text>\n<text text-anchor=\"start\" x=\"1413.5\" y=\"-948.8\" font-family=\"Helvetica,sans-Serif\" font-size=\"14.00\" fill=\"#000000\">value = 6.25</text>\n</g>\n<!-- 3&#45;&gt;10 -->\n<g id=\"edge14\" class=\"edge\">\n<title>3&#45;&gt;10</title>\n<path fill=\"none\" stroke=\"#000000\" d=\"M1453.5,-1239.992C1453.5,-1185.8449 1453.5,-1080.0167 1453.5,-1019.7736\"/>\n<polygon fill=\"#000000\" stroke=\"#000000\" points=\"1457.0001,-1019.4364 1453.5,-1009.4365 1450.0001,-1019.4365 1457.0001,-1019.4364\"/>\n</g>\n<!-- 21 -->\n<g id=\"node5\" class=\"node\">\n<title>21</title>\n<path fill=\"#eda877\" stroke=\"#000000\" d=\"M988,-709C988,-709 521,-709 521,-709 515,-709 509,-703 509,-697 509,-697 509,-653 509,-653 509,-647 515,-641 521,-641 521,-641 988,-641 988,-641 994,-641 1000,-647 1000,-653 1000,-653 1000,-697 1000,-697 1000,-703 994,-709 988,-709\"/>\n<text text-anchor=\"start\" x=\"517\" y=\"-693.8\" font-family=\"Helvetica,sans-Serif\" font-size=\"14.00\" fill=\"#000000\">lastReportedPosition.milepostLocation.milepost.milepostNumber ≤ 204.07</text>\n<text text-anchor=\"start\" x=\"678\" y=\"-678.8\" font-family=\"Helvetica,sans-Serif\" font-size=\"14.00\" fill=\"#000000\">squared_error = 335.43</text>\n<text text-anchor=\"start\" x=\"706.5\" y=\"-663.8\" font-family=\"Helvetica,sans-Serif\" font-size=\"14.00\" fill=\"#000000\">samples = 619</text>\n<text text-anchor=\"start\" x=\"710.5\" y=\"-648.8\" font-family=\"Helvetica,sans-Serif\" font-size=\"14.00\" fill=\"#000000\">value = 15.36</text>\n</g>\n<!-- 9&#45;&gt;21 -->\n<g id=\"edge4\" class=\"edge\">\n<title>9&#45;&gt;21</title>\n<path fill=\"none\" stroke=\"#000000\" d=\"M1122.2983,-940.8783C1045.0717,-885.0518 892.1029,-774.472 809.8735,-715.029\"/>\n<polygon fill=\"#000000\" stroke=\"#000000\" points=\"811.8123,-712.1119 801.6576,-709.0899 807.7114,-717.7848 811.8123,-712.1119\"/>\n</g>\n<!-- 22 -->\n<g id=\"node12\" class=\"node\">\n<title>22</title>\n<path fill=\"#f0b58a\" stroke=\"#000000\" d=\"M1306.5,-709C1306.5,-709 1032.5,-709 1032.5,-709 1026.5,-709 1020.5,-703 1020.5,-697 1020.5,-697 1020.5,-653 1020.5,-653 1020.5,-647 1026.5,-641 1032.5,-641 1032.5,-641 1306.5,-641 1306.5,-641 1312.5,-641 1318.5,-647 1318.5,-653 1318.5,-653 1318.5,-697 1318.5,-697 1318.5,-703 1312.5,-709 1306.5,-709\"/>\n<text text-anchor=\"start\" x=\"1028.5\" y=\"-693.8\" font-family=\"Helvetica,sans-Serif\" font-size=\"14.00\" fill=\"#000000\">aotuTrainData.heavy143TonCarCount ≤ 8.0</text>\n<text text-anchor=\"start\" x=\"1097\" y=\"-678.8\" font-family=\"Helvetica,sans-Serif\" font-size=\"14.00\" fill=\"#000000\">squared_error = 235.4</text>\n<text text-anchor=\"start\" x=\"1121.5\" y=\"-663.8\" font-family=\"Helvetica,sans-Serif\" font-size=\"14.00\" fill=\"#000000\">samples = 384</text>\n<text text-anchor=\"start\" x=\"1129.5\" y=\"-648.8\" font-family=\"Helvetica,sans-Serif\" font-size=\"14.00\" fill=\"#000000\">value = 9.23</text>\n</g>\n<!-- 9&#45;&gt;22 -->\n<g id=\"edge11\" class=\"edge\">\n<title>9&#45;&gt;22</title>\n<path fill=\"none\" stroke=\"#000000\" d=\"M1169.5,-940.8783C1169.5,-886.4052 1169.5,-779.8012 1169.5,-719.4408\"/>\n<polygon fill=\"#000000\" stroke=\"#000000\" points=\"1173.0001,-719.0898 1169.5,-709.0899 1166.0001,-719.0899 1173.0001,-719.0898\"/>\n</g>\n<!-- 23 -->\n<g id=\"node6\" class=\"node\">\n<title>23</title>\n<path fill=\"#e9965a\" stroke=\"#000000\" d=\"M479,-410C479,-410 12,-410 12,-410 6,-410 0,-404 0,-398 0,-398 0,-354 0,-354 0,-348 6,-342 12,-342 12,-342 479,-342 479,-342 485,-342 491,-348 491,-354 491,-354 491,-398 491,-398 491,-404 485,-410 479,-410\"/>\n<text text-anchor=\"start\" x=\"8\" y=\"-394.8\" font-family=\"Helvetica,sans-Serif\" font-size=\"14.00\" fill=\"#000000\">lastReportedPosition.milepostLocation.milepost.milepostNumber ≤ 202.89</text>\n<text text-anchor=\"start\" x=\"169\" y=\"-379.8\" font-family=\"Helvetica,sans-Serif\" font-size=\"14.00\" fill=\"#000000\">squared_error = 418.81</text>\n<text text-anchor=\"start\" x=\"201.5\" y=\"-364.8\" font-family=\"Helvetica,sans-Serif\" font-size=\"14.00\" fill=\"#000000\">samples = 70</text>\n<text text-anchor=\"start\" x=\"201.5\" y=\"-349.8\" font-family=\"Helvetica,sans-Serif\" font-size=\"14.00\" fill=\"#000000\">value = 24.24</text>\n</g>\n<!-- 21&#45;&gt;23 -->\n<g id=\"edge5\" class=\"edge\">\n<title>21&#45;&gt;23</title>\n<path fill=\"none\" stroke=\"#000000\" d=\"M696.6068,-640.992C601.6317,-585.2011 413.255,-474.5437 312.5993,-415.4159\"/>\n<polygon fill=\"#000000\" stroke=\"#000000\" points=\"314.1255,-412.2533 303.7303,-410.206 310.58,-418.2889 314.1255,-412.2533\"/>\n</g>\n<!-- 24 -->\n<g id=\"node9\" class=\"node\">\n<title>24</title>\n<path fill=\"#eeaa7a\" stroke=\"#000000\" d=\"M988,-410C988,-410 521,-410 521,-410 515,-410 509,-404 509,-398 509,-398 509,-354 509,-354 509,-348 515,-342 521,-342 521,-342 988,-342 988,-342 994,-342 1000,-348 1000,-354 1000,-354 1000,-398 1000,-398 1000,-404 994,-410 988,-410\"/>\n<text text-anchor=\"start\" x=\"517\" y=\"-394.8\" font-family=\"Helvetica,sans-Serif\" font-size=\"14.00\" fill=\"#000000\">lastReportedPosition.milepostLocation.milepost.milepostNumber ≤ 215.07</text>\n<text text-anchor=\"start\" x=\"678\" y=\"-379.8\" font-family=\"Helvetica,sans-Serif\" font-size=\"14.00\" fill=\"#000000\">squared_error = 313.45</text>\n<text text-anchor=\"start\" x=\"706.5\" y=\"-364.8\" font-family=\"Helvetica,sans-Serif\" font-size=\"14.00\" fill=\"#000000\">samples = 549</text>\n<text text-anchor=\"start\" x=\"710.5\" y=\"-349.8\" font-family=\"Helvetica,sans-Serif\" font-size=\"14.00\" fill=\"#000000\">value = 14.23</text>\n</g>\n<!-- 21&#45;&gt;24 -->\n<g id=\"edge8\" class=\"edge\">\n<title>21&#45;&gt;24</title>\n<path fill=\"none\" stroke=\"#000000\" d=\"M754.5,-640.992C754.5,-586.8449 754.5,-481.0167 754.5,-420.7736\"/>\n<polygon fill=\"#000000\" stroke=\"#000000\" points=\"758.0001,-420.4364 754.5,-410.4365 751.0001,-420.4365 758.0001,-420.4364\"/>\n</g>\n<!-- 27 -->\n<g id=\"node7\" class=\"node\">\n<title>27</title>\n<path fill=\"#eda775\" stroke=\"#000000\" d=\"M203,-102.5C203,-102.5 58,-102.5 58,-102.5 52,-102.5 46,-96.5 46,-90.5 46,-90.5 46,-61.5 46,-61.5 46,-55.5 52,-49.5 58,-49.5 58,-49.5 203,-49.5 203,-49.5 209,-49.5 215,-55.5 215,-61.5 215,-61.5 215,-90.5 215,-90.5 215,-96.5 209,-102.5 203,-102.5\"/>\n<text text-anchor=\"start\" x=\"54\" y=\"-87.3\" font-family=\"Helvetica,sans-Serif\" font-size=\"14.00\" fill=\"#000000\">squared_error = 423.17</text>\n<text text-anchor=\"start\" x=\"86.5\" y=\"-72.3\" font-family=\"Helvetica,sans-Serif\" font-size=\"14.00\" fill=\"#000000\">samples = 38</text>\n<text text-anchor=\"start\" x=\"86.5\" y=\"-57.3\" font-family=\"Helvetica,sans-Serif\" font-size=\"14.00\" fill=\"#000000\">value = 15.79</text>\n</g>\n<!-- 23&#45;&gt;27 -->\n<g id=\"edge6\" class=\"edge\">\n<title>23&#45;&gt;27</title>\n<path fill=\"none\" stroke=\"#000000\" d=\"M232.42,-341.8783C210.5494,-284.8244 166.7569,-170.5831 144.3704,-112.1836\"/>\n<polygon fill=\"#000000\" stroke=\"#000000\" points=\"147.556,-110.7154 140.7084,-102.6307 141.0198,-113.221 147.556,-110.7154\"/>\n</g>\n<!-- 28 -->\n<g id=\"node8\" class=\"node\">\n<title>28</title>\n<path fill=\"#e58139\" stroke=\"#000000\" d=\"M390,-102.5C390,-102.5 245,-102.5 245,-102.5 239,-102.5 233,-96.5 233,-90.5 233,-90.5 233,-61.5 233,-61.5 233,-55.5 239,-49.5 245,-49.5 245,-49.5 390,-49.5 390,-49.5 396,-49.5 402,-55.5 402,-61.5 402,-61.5 402,-90.5 402,-90.5 402,-96.5 396,-102.5 390,-102.5\"/>\n<text text-anchor=\"start\" x=\"241\" y=\"-87.3\" font-family=\"Helvetica,sans-Serif\" font-size=\"14.00\" fill=\"#000000\">squared_error = 228.01</text>\n<text text-anchor=\"start\" x=\"273.5\" y=\"-72.3\" font-family=\"Helvetica,sans-Serif\" font-size=\"14.00\" fill=\"#000000\">samples = 32</text>\n<text text-anchor=\"start\" x=\"273.5\" y=\"-57.3\" font-family=\"Helvetica,sans-Serif\" font-size=\"14.00\" fill=\"#000000\">value = 34.28</text>\n</g>\n<!-- 23&#45;&gt;28 -->\n<g id=\"edge7\" class=\"edge\">\n<title>23&#45;&gt;28</title>\n<path fill=\"none\" stroke=\"#000000\" d=\"M253.6892,-341.8783C267.3538,-284.9423 294.6868,-171.0549 308.7289,-112.5463\"/>\n<polygon fill=\"#000000\" stroke=\"#000000\" points=\"312.1782,-113.1714 311.1086,-102.6307 305.3715,-111.5378 312.1782,-113.1714\"/>\n</g>\n<!-- 25 -->\n<g id=\"node10\" class=\"node\">\n<title>25</title>\n<path fill=\"#f2c09c\" stroke=\"#000000\" d=\"M661,-102.5C661,-102.5 524,-102.5 524,-102.5 518,-102.5 512,-96.5 512,-90.5 512,-90.5 512,-61.5 512,-61.5 512,-55.5 518,-49.5 524,-49.5 524,-49.5 661,-49.5 661,-49.5 667,-49.5 673,-55.5 673,-61.5 673,-61.5 673,-90.5 673,-90.5 673,-96.5 667,-102.5 661,-102.5\"/>\n<text text-anchor=\"start\" x=\"520\" y=\"-87.3\" font-family=\"Helvetica,sans-Serif\" font-size=\"14.00\" fill=\"#000000\">squared_error = 63.85</text>\n<text text-anchor=\"start\" x=\"548.5\" y=\"-72.3\" font-family=\"Helvetica,sans-Serif\" font-size=\"14.00\" fill=\"#000000\">samples = 52</text>\n<text text-anchor=\"start\" x=\"552.5\" y=\"-57.3\" font-family=\"Helvetica,sans-Serif\" font-size=\"14.00\" fill=\"#000000\">value = 3.73</text>\n</g>\n<!-- 24&#45;&gt;25 -->\n<g id=\"edge9\" class=\"edge\">\n<title>24&#45;&gt;25</title>\n<path fill=\"none\" stroke=\"#000000\" d=\"M736.0743,-341.8783C705.1379,-284.5887 643.0645,-169.638 611.6498,-111.4625\"/>\n<polygon fill=\"#000000\" stroke=\"#000000\" points=\"614.7118,-109.7667 606.8806,-102.6307 608.5525,-113.0928 614.7118,-109.7667\"/>\n</g>\n<!-- 26 -->\n<g id=\"node11\" class=\"node\">\n<title>26</title>\n<path fill=\"#eda877\" stroke=\"#000000\" d=\"M848,-102.5C848,-102.5 703,-102.5 703,-102.5 697,-102.5 691,-96.5 691,-90.5 691,-90.5 691,-61.5 691,-61.5 691,-55.5 697,-49.5 703,-49.5 703,-49.5 848,-49.5 848,-49.5 854,-49.5 860,-55.5 860,-61.5 860,-61.5 860,-90.5 860,-90.5 860,-96.5 854,-102.5 848,-102.5\"/>\n<text text-anchor=\"start\" x=\"699\" y=\"-87.3\" font-family=\"Helvetica,sans-Serif\" font-size=\"14.00\" fill=\"#000000\">squared_error = 326.83</text>\n<text text-anchor=\"start\" x=\"727.5\" y=\"-72.3\" font-family=\"Helvetica,sans-Serif\" font-size=\"14.00\" fill=\"#000000\">samples = 497</text>\n<text text-anchor=\"start\" x=\"731.5\" y=\"-57.3\" font-family=\"Helvetica,sans-Serif\" font-size=\"14.00\" fill=\"#000000\">value = 15.32</text>\n</g>\n<!-- 24&#45;&gt;26 -->\n<g id=\"edge10\" class=\"edge\">\n<title>24&#45;&gt;26</title>\n<path fill=\"none\" stroke=\"#000000\" d=\"M756.8885,-341.8783C760.8658,-285.0602 768.8132,-171.5263 772.9163,-112.9104\"/>\n<polygon fill=\"#000000\" stroke=\"#000000\" points=\"776.4289,-112.8507 773.6358,-102.6307 769.446,-112.3619 776.4289,-112.8507\"/>\n</g>\n<!-- 29 -->\n<g id=\"node13\" class=\"node\">\n<title>29</title>\n<path fill=\"#eeab7b\" stroke=\"#000000\" d=\"M1056,-102.5C1056,-102.5 911,-102.5 911,-102.5 905,-102.5 899,-96.5 899,-90.5 899,-90.5 899,-61.5 899,-61.5 899,-55.5 905,-49.5 911,-49.5 911,-49.5 1056,-49.5 1056,-49.5 1062,-49.5 1068,-55.5 1068,-61.5 1068,-61.5 1068,-90.5 1068,-90.5 1068,-96.5 1062,-102.5 1056,-102.5\"/>\n<text text-anchor=\"start\" x=\"907\" y=\"-87.3\" font-family=\"Helvetica,sans-Serif\" font-size=\"14.00\" fill=\"#000000\">squared_error = 336.82</text>\n<text text-anchor=\"start\" x=\"935.5\" y=\"-72.3\" font-family=\"Helvetica,sans-Serif\" font-size=\"14.00\" fill=\"#000000\">samples = 156</text>\n<text text-anchor=\"start\" x=\"939.5\" y=\"-57.3\" font-family=\"Helvetica,sans-Serif\" font-size=\"14.00\" fill=\"#000000\">value = 13.93</text>\n</g>\n<!-- 22&#45;&gt;29 -->\n<g id=\"edge12\" class=\"edge\">\n<title>22&#45;&gt;29</title>\n<path fill=\"none\" stroke=\"#000000\" d=\"M1158.8318,-640.6437C1126.265,-535.7646 1028.321,-220.343 994.8545,-112.5664\"/>\n<polygon fill=\"#000000\" stroke=\"#000000\" points=\"998.1296,-111.3109 991.8215,-102.7987 991.4445,-113.3868 998.1296,-111.3109\"/>\n</g>\n<!-- 30 -->\n<g id=\"node14\" class=\"node\">\n<title>30</title>\n<path fill=\"#f1bb95\" stroke=\"#000000\" d=\"M1243,-102.5C1243,-102.5 1098,-102.5 1098,-102.5 1092,-102.5 1086,-96.5 1086,-90.5 1086,-90.5 1086,-61.5 1086,-61.5 1086,-55.5 1092,-49.5 1098,-49.5 1098,-49.5 1243,-49.5 1243,-49.5 1249,-49.5 1255,-55.5 1255,-61.5 1255,-61.5 1255,-90.5 1255,-90.5 1255,-96.5 1249,-102.5 1243,-102.5\"/>\n<text text-anchor=\"start\" x=\"1094\" y=\"-87.3\" font-family=\"Helvetica,sans-Serif\" font-size=\"14.00\" fill=\"#000000\">squared_error = 140.58</text>\n<text text-anchor=\"start\" x=\"1122.5\" y=\"-72.3\" font-family=\"Helvetica,sans-Serif\" font-size=\"14.00\" fill=\"#000000\">samples = 228</text>\n<text text-anchor=\"start\" x=\"1130.5\" y=\"-57.3\" font-family=\"Helvetica,sans-Serif\" font-size=\"14.00\" fill=\"#000000\">value = 6.02</text>\n</g>\n<!-- 22&#45;&gt;30 -->\n<g id=\"edge13\" class=\"edge\">\n<title>22&#45;&gt;30</title>\n<path fill=\"none\" stroke=\"#000000\" d=\"M1169.5574,-640.6437C1169.7323,-535.8703 1170.258,-220.9787 1170.4384,-112.893\"/>\n<polygon fill=\"#000000\" stroke=\"#000000\" points=\"1173.9385,-112.8046 1170.4553,-102.7987 1166.9385,-112.7928 1173.9385,-112.8046\"/>\n</g>\n<!-- 19 -->\n<g id=\"node16\" class=\"node\">\n<title>19</title>\n<path fill=\"#f1bd98\" stroke=\"#000000\" d=\"M1430,-102.5C1430,-102.5 1285,-102.5 1285,-102.5 1279,-102.5 1273,-96.5 1273,-90.5 1273,-90.5 1273,-61.5 1273,-61.5 1273,-55.5 1279,-49.5 1285,-49.5 1285,-49.5 1430,-49.5 1430,-49.5 1436,-49.5 1442,-55.5 1442,-61.5 1442,-61.5 1442,-90.5 1442,-90.5 1442,-96.5 1436,-102.5 1430,-102.5\"/>\n<text text-anchor=\"start\" x=\"1281\" y=\"-87.3\" font-family=\"Helvetica,sans-Serif\" font-size=\"14.00\" fill=\"#000000\">squared_error = 275.51</text>\n<text text-anchor=\"start\" x=\"1309.5\" y=\"-72.3\" font-family=\"Helvetica,sans-Serif\" font-size=\"14.00\" fill=\"#000000\">samples = 467</text>\n<text text-anchor=\"start\" x=\"1317.5\" y=\"-57.3\" font-family=\"Helvetica,sans-Serif\" font-size=\"14.00\" fill=\"#000000\">value = 5.16</text>\n</g>\n<!-- 10&#45;&gt;19 -->\n<g id=\"edge15\" class=\"edge\">\n<title>10&#45;&gt;19</title>\n<path fill=\"none\" stroke=\"#000000\" d=\"M1449.8539,-940.8559C1434.7513,-799.4258 1377.158,-260.0894 1361.4677,-113.1562\"/>\n<polygon fill=\"#000000\" stroke=\"#000000\" points=\"1364.9119,-112.4465 1360.3698,-102.8747 1357.9515,-113.1899 1364.9119,-112.4465\"/>\n</g>\n<!-- 20 -->\n<g id=\"node17\" class=\"node\">\n<title>20</title>\n<path fill=\"#ea995f\" stroke=\"#000000\" d=\"M1617,-102.5C1617,-102.5 1472,-102.5 1472,-102.5 1466,-102.5 1460,-96.5 1460,-90.5 1460,-90.5 1460,-61.5 1460,-61.5 1460,-55.5 1466,-49.5 1472,-49.5 1472,-49.5 1617,-49.5 1617,-49.5 1623,-49.5 1629,-55.5 1629,-61.5 1629,-61.5 1629,-90.5 1629,-90.5 1629,-96.5 1623,-102.5 1617,-102.5\"/>\n<text text-anchor=\"start\" x=\"1468\" y=\"-87.3\" font-family=\"Helvetica,sans-Serif\" font-size=\"14.00\" fill=\"#000000\">squared_error = 348.72</text>\n<text text-anchor=\"start\" x=\"1500.5\" y=\"-72.3\" font-family=\"Helvetica,sans-Serif\" font-size=\"14.00\" fill=\"#000000\">samples = 31</text>\n<text text-anchor=\"start\" x=\"1500.5\" y=\"-57.3\" font-family=\"Helvetica,sans-Serif\" font-size=\"14.00\" fill=\"#000000\">value = 22.71</text>\n</g>\n<!-- 10&#45;&gt;20 -->\n<g id=\"edge16\" class=\"edge\">\n<title>10&#45;&gt;20</title>\n<path fill=\"none\" stroke=\"#000000\" d=\"M1456.9562,-940.8559C1471.2723,-799.4258 1525.8658,-260.0894 1540.7389,-113.1562\"/>\n<polygon fill=\"#000000\" stroke=\"#000000\" points=\"1544.2547,-113.1764 1541.7796,-102.8747 1537.2903,-112.4714 1544.2547,-113.1764\"/>\n</g>\n<!-- 17 -->\n<g id=\"node19\" class=\"node\">\n<title>17</title>\n<path fill=\"#f1bd98\" stroke=\"#000000\" d=\"M1804,-102.5C1804,-102.5 1659,-102.5 1659,-102.5 1653,-102.5 1647,-96.5 1647,-90.5 1647,-90.5 1647,-61.5 1647,-61.5 1647,-55.5 1653,-49.5 1659,-49.5 1659,-49.5 1804,-49.5 1804,-49.5 1810,-49.5 1816,-55.5 1816,-61.5 1816,-61.5 1816,-90.5 1816,-90.5 1816,-96.5 1810,-102.5 1804,-102.5\"/>\n<text text-anchor=\"start\" x=\"1655\" y=\"-87.3\" font-family=\"Helvetica,sans-Serif\" font-size=\"14.00\" fill=\"#000000\">squared_error = 114.98</text>\n<text text-anchor=\"start\" x=\"1683.5\" y=\"-72.3\" font-family=\"Helvetica,sans-Serif\" font-size=\"14.00\" fill=\"#000000\">samples = 396</text>\n<text text-anchor=\"start\" x=\"1691.5\" y=\"-57.3\" font-family=\"Helvetica,sans-Serif\" font-size=\"14.00\" fill=\"#000000\">value = 5.12</text>\n</g>\n<!-- 4&#45;&gt;17 -->\n<g id=\"edge18\" class=\"edge\">\n<title>4&#45;&gt;17</title>\n<path fill=\"none\" stroke=\"#000000\" d=\"M1877.2126,-1239.7578C1855.569,-1066.8979 1758.4685,-291.3885 1736.1042,-112.7723\"/>\n<polygon fill=\"#000000\" stroke=\"#000000\" points=\"1739.5438,-112.0709 1734.8285,-102.5832 1732.598,-112.9406 1739.5438,-112.0709\"/>\n</g>\n<!-- 18 -->\n<g id=\"node20\" class=\"node\">\n<title>18</title>\n<path fill=\"#f6d3ba\" stroke=\"#000000\" d=\"M1991,-102.5C1991,-102.5 1846,-102.5 1846,-102.5 1840,-102.5 1834,-96.5 1834,-90.5 1834,-90.5 1834,-61.5 1834,-61.5 1834,-55.5 1840,-49.5 1846,-49.5 1846,-49.5 1991,-49.5 1991,-49.5 1997,-49.5 2003,-55.5 2003,-61.5 2003,-61.5 2003,-90.5 2003,-90.5 2003,-96.5 1997,-102.5 1991,-102.5\"/>\n<text text-anchor=\"start\" x=\"1842\" y=\"-87.3\" font-family=\"Helvetica,sans-Serif\" font-size=\"14.00\" fill=\"#000000\">squared_error = 138.46</text>\n<text text-anchor=\"start\" x=\"1870.5\" y=\"-72.3\" font-family=\"Helvetica,sans-Serif\" font-size=\"14.00\" fill=\"#000000\">samples = 125</text>\n<text text-anchor=\"start\" x=\"1876\" y=\"-57.3\" font-family=\"Helvetica,sans-Serif\" font-size=\"14.00\" fill=\"#000000\">value = &#45;5.45</text>\n</g>\n<!-- 4&#45;&gt;18 -->\n<g id=\"edge19\" class=\"edge\">\n<title>4&#45;&gt;18</title>\n<path fill=\"none\" stroke=\"#000000\" d=\"M1882.5576,-1239.7578C1887.8963,-1066.8979 1911.8478,-291.3885 1917.3643,-112.7723\"/>\n<polygon fill=\"#000000\" stroke=\"#000000\" points=\"1920.8685,-112.6866 1917.679,-102.5832 1913.8719,-112.4704 1920.8685,-112.6866\"/>\n</g>\n<!-- 5 -->\n<g id=\"node22\" class=\"node\">\n<title>5</title>\n<path fill=\"#f5cfb3\" stroke=\"#000000\" d=\"M2223.5,-1308C2223.5,-1308 2059.5,-1308 2059.5,-1308 2053.5,-1308 2047.5,-1302 2047.5,-1296 2047.5,-1296 2047.5,-1252 2047.5,-1252 2047.5,-1246 2053.5,-1240 2059.5,-1240 2059.5,-1240 2223.5,-1240 2223.5,-1240 2229.5,-1240 2235.5,-1246 2235.5,-1252 2235.5,-1252 2235.5,-1296 2235.5,-1296 2235.5,-1302 2229.5,-1308 2223.5,-1308\"/>\n<text text-anchor=\"start\" x=\"2055.5\" y=\"-1292.8\" font-family=\"Helvetica,sans-Serif\" font-size=\"14.00\" fill=\"#000000\">trainId.trainSymbol ≤ 152.5</text>\n<text text-anchor=\"start\" x=\"2065\" y=\"-1277.8\" font-family=\"Helvetica,sans-Serif\" font-size=\"14.00\" fill=\"#000000\">squared_error = 263.34</text>\n<text text-anchor=\"start\" x=\"2093.5\" y=\"-1262.8\" font-family=\"Helvetica,sans-Serif\" font-size=\"14.00\" fill=\"#000000\">samples = 883</text>\n<text text-anchor=\"start\" x=\"2099\" y=\"-1247.8\" font-family=\"Helvetica,sans-Serif\" font-size=\"14.00\" fill=\"#000000\">value = &#45;3.38</text>\n</g>\n<!-- 2&#45;&gt;5 -->\n<g id=\"edge21\" class=\"edge\">\n<title>2&#45;&gt;5</title>\n<path fill=\"none\" stroke=\"#000000\" d=\"M2141.5,-1538.992C2141.5,-1484.8449 2141.5,-1379.0167 2141.5,-1318.7736\"/>\n<polygon fill=\"#000000\" stroke=\"#000000\" points=\"2145.0001,-1318.4364 2141.5,-1308.4365 2138.0001,-1318.4365 2145.0001,-1318.4364\"/>\n</g>\n<!-- 6 -->\n<g id=\"node25\" class=\"node\">\n<title>6</title>\n<path fill=\"#f8dcc8\" stroke=\"#000000\" d=\"M2761,-1308C2761,-1308 2294,-1308 2294,-1308 2288,-1308 2282,-1302 2282,-1296 2282,-1296 2282,-1252 2282,-1252 2282,-1246 2288,-1240 2294,-1240 2294,-1240 2761,-1240 2761,-1240 2767,-1240 2773,-1246 2773,-1252 2773,-1252 2773,-1296 2773,-1296 2773,-1302 2767,-1308 2761,-1308\"/>\n<text text-anchor=\"start\" x=\"2290\" y=\"-1292.8\" font-family=\"Helvetica,sans-Serif\" font-size=\"14.00\" fill=\"#000000\">lastReportedPosition.milepostLocation.milepost.milepostNumber ≤ 231.53</text>\n<text text-anchor=\"start\" x=\"2451\" y=\"-1277.8\" font-family=\"Helvetica,sans-Serif\" font-size=\"14.00\" fill=\"#000000\">squared_error = 265.06</text>\n<text text-anchor=\"start\" x=\"2475.5\" y=\"-1262.8\" font-family=\"Helvetica,sans-Serif\" font-size=\"14.00\" fill=\"#000000\">samples = 1373</text>\n<text text-anchor=\"start\" x=\"2485\" y=\"-1247.8\" font-family=\"Helvetica,sans-Serif\" font-size=\"14.00\" fill=\"#000000\">value = &#45;9.73</text>\n</g>\n<!-- 2&#45;&gt;6 -->\n<g id=\"edge24\" class=\"edge\">\n<title>2&#45;&gt;6</title>\n<path fill=\"none\" stroke=\"#000000\" d=\"M2185.4033,-1538.992C2256.9929,-1483.5379 2398.561,-1373.8776 2475.2257,-1314.4922\"/>\n<polygon fill=\"#000000\" stroke=\"#000000\" points=\"2477.5787,-1317.0968 2483.341,-1308.206 2473.292,-1311.5629 2477.5787,-1317.0968\"/>\n</g>\n<!-- 13 -->\n<g id=\"node23\" class=\"node\">\n<title>13</title>\n<path fill=\"#f5d1b6\" stroke=\"#000000\" d=\"M2178,-102.5C2178,-102.5 2033,-102.5 2033,-102.5 2027,-102.5 2021,-96.5 2021,-90.5 2021,-90.5 2021,-61.5 2021,-61.5 2021,-55.5 2027,-49.5 2033,-49.5 2033,-49.5 2178,-49.5 2178,-49.5 2184,-49.5 2190,-55.5 2190,-61.5 2190,-61.5 2190,-90.5 2190,-90.5 2190,-96.5 2184,-102.5 2178,-102.5\"/>\n<text text-anchor=\"start\" x=\"2029\" y=\"-87.3\" font-family=\"Helvetica,sans-Serif\" font-size=\"14.00\" fill=\"#000000\">squared_error = 249.73</text>\n<text text-anchor=\"start\" x=\"2057.5\" y=\"-72.3\" font-family=\"Helvetica,sans-Serif\" font-size=\"14.00\" fill=\"#000000\">samples = 848</text>\n<text text-anchor=\"start\" x=\"2063\" y=\"-57.3\" font-family=\"Helvetica,sans-Serif\" font-size=\"14.00\" fill=\"#000000\">value = &#45;4.16</text>\n</g>\n<!-- 5&#45;&gt;13 -->\n<g id=\"edge22\" class=\"edge\">\n<title>5&#45;&gt;13</title>\n<path fill=\"none\" stroke=\"#000000\" d=\"M2140.471,-1239.7578C2135.2766,-1066.8979 2111.9724,-291.3885 2106.605,-112.7723\"/>\n<polygon fill=\"#000000\" stroke=\"#000000\" points=\"2110.0977,-112.4736 2106.2988,-102.5832 2103.1009,-112.6839 2110.0977,-112.4736\"/>\n</g>\n<!-- 14 -->\n<g id=\"node24\" class=\"node\">\n<title>14</title>\n<path fill=\"#eda876\" stroke=\"#000000\" d=\"M2365,-102.5C2365,-102.5 2220,-102.5 2220,-102.5 2214,-102.5 2208,-96.5 2208,-90.5 2208,-90.5 2208,-61.5 2208,-61.5 2208,-55.5 2214,-49.5 2220,-49.5 2220,-49.5 2365,-49.5 2365,-49.5 2371,-49.5 2377,-55.5 2377,-61.5 2377,-61.5 2377,-90.5 2377,-90.5 2377,-96.5 2371,-102.5 2365,-102.5\"/>\n<text text-anchor=\"start\" x=\"2216\" y=\"-87.3\" font-family=\"Helvetica,sans-Serif\" font-size=\"14.00\" fill=\"#000000\">squared_error = 221.22</text>\n<text text-anchor=\"start\" x=\"2248.5\" y=\"-72.3\" font-family=\"Helvetica,sans-Serif\" font-size=\"14.00\" fill=\"#000000\">samples = 35</text>\n<text text-anchor=\"start\" x=\"2248.5\" y=\"-57.3\" font-family=\"Helvetica,sans-Serif\" font-size=\"14.00\" fill=\"#000000\">value = 15.51</text>\n</g>\n<!-- 5&#45;&gt;14 -->\n<g id=\"edge23\" class=\"edge\">\n<title>5&#45;&gt;14</title>\n<path fill=\"none\" stroke=\"#000000\" d=\"M2145.816,-1239.7578C2167.6147,-1066.8118 2265.4491,-290.6155 2287.8987,-112.5058\"/>\n<polygon fill=\"#000000\" stroke=\"#000000\" points=\"2291.3713,-112.9425 2289.1494,-102.5832 2284.4262,-112.067 2291.3713,-112.9425\"/>\n</g>\n<!-- 7 -->\n<g id=\"node26\" class=\"node\">\n<title>7</title>\n<path fill=\"#fbebdf\" stroke=\"#000000\" d=\"M2761,-1009C2761,-1009 2294,-1009 2294,-1009 2288,-1009 2282,-1003 2282,-997 2282,-997 2282,-953 2282,-953 2282,-947 2288,-941 2294,-941 2294,-941 2761,-941 2761,-941 2767,-941 2773,-947 2773,-953 2773,-953 2773,-997 2773,-997 2773,-1003 2767,-1009 2761,-1009\"/>\n<text text-anchor=\"start\" x=\"2290\" y=\"-993.8\" font-family=\"Helvetica,sans-Serif\" font-size=\"14.00\" fill=\"#000000\">lastReportedPosition.milepostLocation.milepost.milepostNumber ≤ 208.65</text>\n<text text-anchor=\"start\" x=\"2451\" y=\"-978.8\" font-family=\"Helvetica,sans-Serif\" font-size=\"14.00\" fill=\"#000000\">squared_error = 337.25</text>\n<text text-anchor=\"start\" x=\"2479.5\" y=\"-963.8\" font-family=\"Helvetica,sans-Serif\" font-size=\"14.00\" fill=\"#000000\">samples = 264</text>\n<text text-anchor=\"start\" x=\"2481\" y=\"-948.8\" font-family=\"Helvetica,sans-Serif\" font-size=\"14.00\" fill=\"#000000\">value = &#45;16.71</text>\n</g>\n<!-- 6&#45;&gt;7 -->\n<g id=\"edge25\" class=\"edge\">\n<title>6&#45;&gt;7</title>\n<path fill=\"none\" stroke=\"#000000\" d=\"M2527.5,-1239.992C2527.5,-1185.8449 2527.5,-1080.0167 2527.5,-1019.7736\"/>\n<polygon fill=\"#000000\" stroke=\"#000000\" points=\"2531.0001,-1019.4364 2527.5,-1009.4365 2524.0001,-1019.4365 2531.0001,-1019.4364\"/>\n</g>\n<!-- 8 -->\n<g id=\"node29\" class=\"node\">\n<title>8</title>\n<path fill=\"#f7d9c3\" stroke=\"#000000\" d=\"M3270,-1009C3270,-1009 2803,-1009 2803,-1009 2797,-1009 2791,-1003 2791,-997 2791,-997 2791,-953 2791,-953 2791,-947 2797,-941 2803,-941 2803,-941 3270,-941 3270,-941 3276,-941 3282,-947 3282,-953 3282,-953 3282,-997 3282,-997 3282,-1003 3276,-1009 3270,-1009\"/>\n<text text-anchor=\"start\" x=\"2799\" y=\"-993.8\" font-family=\"Helvetica,sans-Serif\" font-size=\"14.00\" fill=\"#000000\">lastReportedPosition.milepostLocation.milepost.milepostNumber ≤ 735.69</text>\n<text text-anchor=\"start\" x=\"2960\" y=\"-978.8\" font-family=\"Helvetica,sans-Serif\" font-size=\"14.00\" fill=\"#000000\">squared_error = 233.52</text>\n<text text-anchor=\"start\" x=\"2984.5\" y=\"-963.8\" font-family=\"Helvetica,sans-Serif\" font-size=\"14.00\" fill=\"#000000\">samples = 1109</text>\n<text text-anchor=\"start\" x=\"2994\" y=\"-948.8\" font-family=\"Helvetica,sans-Serif\" font-size=\"14.00\" fill=\"#000000\">value = &#45;8.07</text>\n</g>\n<!-- 6&#45;&gt;8 -->\n<g id=\"edge28\" class=\"edge\">\n<title>6&#45;&gt;8</title>\n<path fill=\"none\" stroke=\"#000000\" d=\"M2585.3932,-1239.992C2680.3683,-1184.2011 2868.745,-1073.5437 2969.4007,-1014.4159\"/>\n<polygon fill=\"#000000\" stroke=\"#000000\" points=\"2971.42,-1017.2889 2978.2697,-1009.206 2967.8745,-1011.2533 2971.42,-1017.2889\"/>\n</g>\n<!-- 11 -->\n<g id=\"node27\" class=\"node\">\n<title>11</title>\n<path fill=\"#f4c8a8\" stroke=\"#000000\" d=\"M2567,-102.5C2567,-102.5 2430,-102.5 2430,-102.5 2424,-102.5 2418,-96.5 2418,-90.5 2418,-90.5 2418,-61.5 2418,-61.5 2418,-55.5 2424,-49.5 2430,-49.5 2430,-49.5 2567,-49.5 2567,-49.5 2573,-49.5 2579,-55.5 2579,-61.5 2579,-61.5 2579,-90.5 2579,-90.5 2579,-96.5 2573,-102.5 2567,-102.5\"/>\n<text text-anchor=\"start\" x=\"2426\" y=\"-87.3\" font-family=\"Helvetica,sans-Serif\" font-size=\"14.00\" fill=\"#000000\">squared_error = 203.8</text>\n<text text-anchor=\"start\" x=\"2454.5\" y=\"-72.3\" font-family=\"Helvetica,sans-Serif\" font-size=\"14.00\" fill=\"#000000\">samples = 41</text>\n<text text-anchor=\"start\" x=\"2458.5\" y=\"-57.3\" font-family=\"Helvetica,sans-Serif\" font-size=\"14.00\" fill=\"#000000\">value = 0.05</text>\n</g>\n<!-- 7&#45;&gt;11 -->\n<g id=\"edge26\" class=\"edge\">\n<title>7&#45;&gt;11</title>\n<path fill=\"none\" stroke=\"#000000\" d=\"M2526.3986,-940.8559C2521.8363,-799.4258 2504.4384,-260.0894 2499.6986,-113.1562\"/>\n<polygon fill=\"#000000\" stroke=\"#000000\" points=\"2503.1876,-112.7567 2499.3669,-102.8747 2496.1913,-112.9824 2503.1876,-112.7567\"/>\n</g>\n<!-- 12 -->\n<g id=\"node28\" class=\"node\">\n<title>12</title>\n<path fill=\"#fcf1e9\" stroke=\"#000000\" d=\"M2754,-102.5C2754,-102.5 2609,-102.5 2609,-102.5 2603,-102.5 2597,-96.5 2597,-90.5 2597,-90.5 2597,-61.5 2597,-61.5 2597,-55.5 2603,-49.5 2609,-49.5 2609,-49.5 2754,-49.5 2754,-49.5 2760,-49.5 2766,-55.5 2766,-61.5 2766,-61.5 2766,-90.5 2766,-90.5 2766,-96.5 2760,-102.5 2754,-102.5\"/>\n<text text-anchor=\"start\" x=\"2605\" y=\"-87.3\" font-family=\"Helvetica,sans-Serif\" font-size=\"14.00\" fill=\"#000000\">squared_error = 300.64</text>\n<text text-anchor=\"start\" x=\"2633.5\" y=\"-72.3\" font-family=\"Helvetica,sans-Serif\" font-size=\"14.00\" fill=\"#000000\">samples = 223</text>\n<text text-anchor=\"start\" x=\"2635\" y=\"-57.3\" font-family=\"Helvetica,sans-Serif\" font-size=\"14.00\" fill=\"#000000\">value = &#45;19.79</text>\n</g>\n<!-- 7&#45;&gt;12 -->\n<g id=\"edge27\" class=\"edge\">\n<title>7&#45;&gt;12</title>\n<path fill=\"none\" stroke=\"#000000\" d=\"M2533.3489,-940.8559C2557.5761,-799.4258 2649.9652,-260.0894 2675.1351,-113.1562\"/>\n<polygon fill=\"#000000\" stroke=\"#000000\" points=\"2678.6576,-113.3221 2676.8963,-102.8747 2671.7581,-112.1402 2678.6576,-113.3221\"/>\n</g>\n<!-- 15 -->\n<g id=\"node30\" class=\"node\">\n<title>15</title>\n<path fill=\"#f7d7c1\" stroke=\"#000000\" d=\"M2953,-102.5C2953,-102.5 2808,-102.5 2808,-102.5 2802,-102.5 2796,-96.5 2796,-90.5 2796,-90.5 2796,-61.5 2796,-61.5 2796,-55.5 2802,-49.5 2808,-49.5 2808,-49.5 2953,-49.5 2953,-49.5 2959,-49.5 2965,-55.5 2965,-61.5 2965,-61.5 2965,-90.5 2965,-90.5 2965,-96.5 2959,-102.5 2953,-102.5\"/>\n<text text-anchor=\"start\" x=\"2804\" y=\"-87.3\" font-family=\"Helvetica,sans-Serif\" font-size=\"14.00\" fill=\"#000000\">squared_error = 223.22</text>\n<text text-anchor=\"start\" x=\"2828.5\" y=\"-72.3\" font-family=\"Helvetica,sans-Serif\" font-size=\"14.00\" fill=\"#000000\">samples = 1075</text>\n<text text-anchor=\"start\" x=\"2838\" y=\"-57.3\" font-family=\"Helvetica,sans-Serif\" font-size=\"14.00\" fill=\"#000000\">value = &#45;7.48</text>\n</g>\n<!-- 8&#45;&gt;15 -->\n<g id=\"edge29\" class=\"edge\">\n<title>8&#45;&gt;15</title>\n<path fill=\"none\" stroke=\"#000000\" d=\"M3030.5751,-940.8559C3006.0333,-799.4258 2912.4443,-260.0894 2886.9476,-113.1562\"/>\n<polygon fill=\"#000000\" stroke=\"#000000\" points=\"2890.3217,-112.1291 2885.1635,-102.8747 2883.4248,-113.3259 2890.3217,-112.1291\"/>\n</g>\n<!-- 16 -->\n<g id=\"node31\" class=\"node\">\n<title>16</title>\n<path fill=\"#ffffff\" stroke=\"#000000\" d=\"M3132,-102.5C3132,-102.5 2995,-102.5 2995,-102.5 2989,-102.5 2983,-96.5 2983,-90.5 2983,-90.5 2983,-61.5 2983,-61.5 2983,-55.5 2989,-49.5 2995,-49.5 2995,-49.5 3132,-49.5 3132,-49.5 3138,-49.5 3144,-55.5 3144,-61.5 3144,-61.5 3144,-90.5 3144,-90.5 3144,-96.5 3138,-102.5 3132,-102.5\"/>\n<text text-anchor=\"start\" x=\"2991\" y=\"-87.3\" font-family=\"Helvetica,sans-Serif\" font-size=\"14.00\" fill=\"#000000\">squared_error = 204.0</text>\n<text text-anchor=\"start\" x=\"3019.5\" y=\"-72.3\" font-family=\"Helvetica,sans-Serif\" font-size=\"14.00\" fill=\"#000000\">samples = 34</text>\n<text text-anchor=\"start\" x=\"3017\" y=\"-57.3\" font-family=\"Helvetica,sans-Serif\" font-size=\"14.00\" fill=\"#000000\">value = &#45;26.62</text>\n</g>\n<!-- 8&#45;&gt;16 -->\n<g id=\"edge30\" class=\"edge\">\n<title>8&#45;&gt;16</title>\n<path fill=\"none\" stroke=\"#000000\" d=\"M3037.5255,-940.8559C3041.7731,-799.4258 3057.9712,-260.0894 3062.3841,-113.1562\"/>\n<polygon fill=\"#000000\" stroke=\"#000000\" points=\"3065.891,-112.9753 3062.6929,-102.8747 3058.8941,-112.7651 3065.891,-112.9753\"/>\n</g>\n</g>\n</svg>\n"
          },
          "metadata": {},
          "execution_count": 163
        }
      ]
    },
    {
      "cell_type": "code",
      "source": [
        "m = DecisionTreeRegressor(min_samples_leaf=9)\n",
        "m.fit(xs, y);"
      ],
      "metadata": {
        "id": "_wto32TJkud4"
      },
      "execution_count": 164,
      "outputs": []
    },
    {
      "cell_type": "code",
      "source": [
        "def r_mse(pred,y): return round(math.sqrt(((pred-y)**2).mean()), 6)\n",
        "def m_rmse(m, xs, y): return r_mse(m.predict(xs), y)"
      ],
      "metadata": {
        "id": "D53phc2JE5RC"
      },
      "execution_count": 165,
      "outputs": []
    },
    {
      "cell_type": "markdown",
      "source": [
        "How well we fit the traing model:"
      ],
      "metadata": {
        "id": "mdZvu4cJuS9j"
      }
    },
    {
      "cell_type": "code",
      "source": [
        "m_rmse(m, xs, y)"
      ],
      "metadata": {
        "id": "8CYcTQHLHT4m",
        "colab": {
          "base_uri": "https://localhost:8080/"
        },
        "outputId": "de2fd348-c555-42ee-b3cc-aab91185eccd"
      },
      "execution_count": 166,
      "outputs": [
        {
          "output_type": "execute_result",
          "data": {
            "text/plain": [
              "11.590359"
            ]
          },
          "metadata": {},
          "execution_count": 166
        }
      ]
    },
    {
      "cell_type": "markdown",
      "source": [
        "How well we fit the Validation Model:"
      ],
      "metadata": {
        "id": "MU_z9z6huZs0"
      }
    },
    {
      "cell_type": "code",
      "source": [
        "m_rmse(m, valid_xs, valid_y)"
      ],
      "metadata": {
        "id": "_oElvFDHHZHm",
        "colab": {
          "base_uri": "https://localhost:8080/"
        },
        "outputId": "2321619f-bbef-4260-dbc7-b8226b5c8d3f"
      },
      "execution_count": 167,
      "outputs": [
        {
          "output_type": "execute_result",
          "data": {
            "text/plain": [
              "16.566953"
            ]
          },
          "metadata": {},
          "execution_count": 167
        }
      ]
    },
    {
      "cell_type": "code",
      "source": [
        "def rf_feat_importance(m, df):\n",
        "    return pd.DataFrame({'cols':df.columns, 'imp':m.feature_importances_}\n",
        "                       ).sort_values('imp', ascending=False)"
      ],
      "metadata": {
        "id": "oCKCSQSlab4o"
      },
      "execution_count": 168,
      "outputs": []
    },
    {
      "cell_type": "code",
      "source": [
        "fi = rf_feat_importance(m, xs)\n",
        "fi[:10]"
      ],
      "metadata": {
        "id": "jxENiQDXlYKl",
        "colab": {
          "base_uri": "https://localhost:8080/",
          "height": 363
        },
        "outputId": "421914cd-9a63-49f9-bfce-7675691141a4"
      },
      "execution_count": 169,
      "outputs": [
        {
          "output_type": "execute_result",
          "data": {
            "text/plain": [
              "                                                             cols       imp\n",
              "22                                  lastReportedPosition.speedMPH  0.383731\n",
              "23  lastReportedPosition.milepostLocation.milepost.milepostNumber  0.230601\n",
              "3                                             trainId.trainSymbol  0.063305\n",
              "45                       lastReportedPosition.positionTimeElapsed  0.048554\n",
              "38                                                       milepost  0.033570\n",
              "25                                   aotuTrainData.totalCarLength  0.028865\n",
              "12                                                         mpIncr  0.023345\n",
              "37                                                trailingTonnage  0.021736\n",
              "26                            aotuTrainData.totalLocomotiveWeight  0.020600\n",
              "0                                             ptcLeadLocomotiveId  0.017301"
            ],
            "text/html": [
              "\n",
              "  <div id=\"df-988045c6-3607-417f-bb3c-85ed6b35e1c1\">\n",
              "    <div class=\"colab-df-container\">\n",
              "      <div>\n",
              "<style scoped>\n",
              "    .dataframe tbody tr th:only-of-type {\n",
              "        vertical-align: middle;\n",
              "    }\n",
              "\n",
              "    .dataframe tbody tr th {\n",
              "        vertical-align: top;\n",
              "    }\n",
              "\n",
              "    .dataframe thead th {\n",
              "        text-align: right;\n",
              "    }\n",
              "</style>\n",
              "<table border=\"1\" class=\"dataframe\">\n",
              "  <thead>\n",
              "    <tr style=\"text-align: right;\">\n",
              "      <th></th>\n",
              "      <th>cols</th>\n",
              "      <th>imp</th>\n",
              "    </tr>\n",
              "  </thead>\n",
              "  <tbody>\n",
              "    <tr>\n",
              "      <th>22</th>\n",
              "      <td>lastReportedPosition.speedMPH</td>\n",
              "      <td>0.383731</td>\n",
              "    </tr>\n",
              "    <tr>\n",
              "      <th>23</th>\n",
              "      <td>lastReportedPosition.milepostLocation.milepost.milepostNumber</td>\n",
              "      <td>0.230601</td>\n",
              "    </tr>\n",
              "    <tr>\n",
              "      <th>3</th>\n",
              "      <td>trainId.trainSymbol</td>\n",
              "      <td>0.063305</td>\n",
              "    </tr>\n",
              "    <tr>\n",
              "      <th>45</th>\n",
              "      <td>lastReportedPosition.positionTimeElapsed</td>\n",
              "      <td>0.048554</td>\n",
              "    </tr>\n",
              "    <tr>\n",
              "      <th>38</th>\n",
              "      <td>milepost</td>\n",
              "      <td>0.033570</td>\n",
              "    </tr>\n",
              "    <tr>\n",
              "      <th>25</th>\n",
              "      <td>aotuTrainData.totalCarLength</td>\n",
              "      <td>0.028865</td>\n",
              "    </tr>\n",
              "    <tr>\n",
              "      <th>12</th>\n",
              "      <td>mpIncr</td>\n",
              "      <td>0.023345</td>\n",
              "    </tr>\n",
              "    <tr>\n",
              "      <th>37</th>\n",
              "      <td>trailingTonnage</td>\n",
              "      <td>0.021736</td>\n",
              "    </tr>\n",
              "    <tr>\n",
              "      <th>26</th>\n",
              "      <td>aotuTrainData.totalLocomotiveWeight</td>\n",
              "      <td>0.020600</td>\n",
              "    </tr>\n",
              "    <tr>\n",
              "      <th>0</th>\n",
              "      <td>ptcLeadLocomotiveId</td>\n",
              "      <td>0.017301</td>\n",
              "    </tr>\n",
              "  </tbody>\n",
              "</table>\n",
              "</div>\n",
              "      <button class=\"colab-df-convert\" onclick=\"convertToInteractive('df-988045c6-3607-417f-bb3c-85ed6b35e1c1')\"\n",
              "              title=\"Convert this dataframe to an interactive table.\"\n",
              "              style=\"display:none;\">\n",
              "        \n",
              "  <svg xmlns=\"http://www.w3.org/2000/svg\" height=\"24px\"viewBox=\"0 0 24 24\"\n",
              "       width=\"24px\">\n",
              "    <path d=\"M0 0h24v24H0V0z\" fill=\"none\"/>\n",
              "    <path d=\"M18.56 5.44l.94 2.06.94-2.06 2.06-.94-2.06-.94-.94-2.06-.94 2.06-2.06.94zm-11 1L8.5 8.5l.94-2.06 2.06-.94-2.06-.94L8.5 2.5l-.94 2.06-2.06.94zm10 10l.94 2.06.94-2.06 2.06-.94-2.06-.94-.94-2.06-.94 2.06-2.06.94z\"/><path d=\"M17.41 7.96l-1.37-1.37c-.4-.4-.92-.59-1.43-.59-.52 0-1.04.2-1.43.59L10.3 9.45l-7.72 7.72c-.78.78-.78 2.05 0 2.83L4 21.41c.39.39.9.59 1.41.59.51 0 1.02-.2 1.41-.59l7.78-7.78 2.81-2.81c.8-.78.8-2.07 0-2.86zM5.41 20L4 18.59l7.72-7.72 1.47 1.35L5.41 20z\"/>\n",
              "  </svg>\n",
              "      </button>\n",
              "      \n",
              "  <style>\n",
              "    .colab-df-container {\n",
              "      display:flex;\n",
              "      flex-wrap:wrap;\n",
              "      gap: 12px;\n",
              "    }\n",
              "\n",
              "    .colab-df-convert {\n",
              "      background-color: #E8F0FE;\n",
              "      border: none;\n",
              "      border-radius: 50%;\n",
              "      cursor: pointer;\n",
              "      display: none;\n",
              "      fill: #1967D2;\n",
              "      height: 32px;\n",
              "      padding: 0 0 0 0;\n",
              "      width: 32px;\n",
              "    }\n",
              "\n",
              "    .colab-df-convert:hover {\n",
              "      background-color: #E2EBFA;\n",
              "      box-shadow: 0px 1px 2px rgba(60, 64, 67, 0.3), 0px 1px 3px 1px rgba(60, 64, 67, 0.15);\n",
              "      fill: #174EA6;\n",
              "    }\n",
              "\n",
              "    [theme=dark] .colab-df-convert {\n",
              "      background-color: #3B4455;\n",
              "      fill: #D2E3FC;\n",
              "    }\n",
              "\n",
              "    [theme=dark] .colab-df-convert:hover {\n",
              "      background-color: #434B5C;\n",
              "      box-shadow: 0px 1px 3px 1px rgba(0, 0, 0, 0.15);\n",
              "      filter: drop-shadow(0px 1px 2px rgba(0, 0, 0, 0.3));\n",
              "      fill: #FFFFFF;\n",
              "    }\n",
              "  </style>\n",
              "\n",
              "      <script>\n",
              "        const buttonEl =\n",
              "          document.querySelector('#df-988045c6-3607-417f-bb3c-85ed6b35e1c1 button.colab-df-convert');\n",
              "        buttonEl.style.display =\n",
              "          google.colab.kernel.accessAllowed ? 'block' : 'none';\n",
              "\n",
              "        async function convertToInteractive(key) {\n",
              "          const element = document.querySelector('#df-988045c6-3607-417f-bb3c-85ed6b35e1c1');\n",
              "          const dataTable =\n",
              "            await google.colab.kernel.invokeFunction('convertToInteractive',\n",
              "                                                     [key], {});\n",
              "          if (!dataTable) return;\n",
              "\n",
              "          const docLinkHtml = 'Like what you see? Visit the ' +\n",
              "            '<a target=\"_blank\" href=https://colab.research.google.com/notebooks/data_table.ipynb>data table notebook</a>'\n",
              "            + ' to learn more about interactive tables.';\n",
              "          element.innerHTML = '';\n",
              "          dataTable['output_type'] = 'display_data';\n",
              "          await google.colab.output.renderOutput(dataTable, element);\n",
              "          const docLink = document.createElement('div');\n",
              "          docLink.innerHTML = docLinkHtml;\n",
              "          element.appendChild(docLink);\n",
              "        }\n",
              "      </script>\n",
              "    </div>\n",
              "  </div>\n",
              "  "
            ]
          },
          "metadata": {},
          "execution_count": 169
        }
      ]
    },
    {
      "cell_type": "markdown",
      "source": [
        ""
      ],
      "metadata": {
        "id": "GAU4iShuUTlj"
      }
    },
    {
      "cell_type": "code",
      "source": [
        "ax = xs['lastReportedPosition.speedMPH'].hist(bins=60)\n"
      ],
      "metadata": {
        "id": "W_xHGvS4mTAv",
        "colab": {
          "base_uri": "https://localhost:8080/",
          "height": 268
        },
        "outputId": "7811a883-842c-42d7-be2c-021050309759"
      },
      "execution_count": 170,
      "outputs": [
        {
          "output_type": "display_data",
          "data": {
            "text/plain": [
              "<Figure size 432x288 with 1 Axes>"
            ],
            "image/png": "[encoded data removed]"
          },
          "metadata": {
            "needs_background": "light"
          }
        }
      ]
    },
    {
      "cell_type": "code",
      "source": [
        "from sklearn.inspection import plot_partial_dependence\n",
        "\n",
        "fig,ax = plt.subplots(figsize=(12, 4))\n",
        "plot_partial_dependence(m, xs, ['lastReportedPosition.speedMPH'],\n",
        "                        grid_resolution=20, ax=ax);"
      ],
      "metadata": {
        "id": "dVfYTqKvniXo",
        "colab": {
          "base_uri": "https://localhost:8080/",
          "height": 340
        },
        "outputId": "8b61db47-ed66-4a33-cbc8-edc3e7bd7b39"
      },
      "execution_count": 171,
      "outputs": [
        {
          "output_type": "stream",
          "name": "stderr",
          "text": [
            "/usr/local/lib/python3.7/dist-packages/sklearn/utils/deprecation.py:87: FutureWarning: Function plot_partial_dependence is deprecated; Function `plot_partial_dependence` is deprecated in 1.0 and will be removed in 1.2. Use PartialDependenceDisplay.from_estimator instead\n",
            "  warnings.warn(msg, category=FutureWarning)\n"
          ]
        },
        {
          "output_type": "display_data",
          "data": {
            "text/plain": [
              "<Figure size 864x288 with 2 Axes>"
            ],
            "image/png": "[encoded data removed]"
          },
          "metadata": {
            "needs_background": "light"
          }
        }
      ]
    },
    {
      "cell_type": "markdown",
      "source": [
        "This is sort of a dur moment, saying \"Speeds don't change a lot one milepost to the next\".  "
      ],
      "metadata": {
        "id": "CmpVELOUoF-l"
      }
    },
    {
      "cell_type": "markdown",
      "source": [
        "#Random Forest"
      ],
      "metadata": {
        "id": "-iGNWlJDmQrV"
      }
    },
    {
      "cell_type": "code",
      "source": [
        "def randomForest(xs, y, n_estimators=50, max_samples=2500,\n",
        "       max_features=0.5, min_samples_leaf=5, **kwargs):\n",
        "    return RandomForestRegressor(n_jobs=-1, n_estimators=n_estimators,\n",
        "        max_samples=max_samples, max_features=max_features,\n",
        "        min_samples_leaf=min_samples_leaf, oob_score=True).fit(xs, y)"
      ],
      "metadata": {
        "id": "FllkOgNkUTGW"
      },
      "execution_count": 172,
      "outputs": []
    },
    {
      "cell_type": "code",
      "source": [
        "m = randomForest(xs, y);"
      ],
      "metadata": {
        "id": "OqX5AcTWVRXE"
      },
      "execution_count": 173,
      "outputs": []
    },
    {
      "cell_type": "code",
      "source": [
        "m_rmse(m, xs, y), m_rmse(m, valid_xs, valid_y)"
      ],
      "metadata": {
        "id": "33ncywqjVcwn",
        "colab": {
          "base_uri": "https://localhost:8080/"
        },
        "outputId": "d852ca7e-1657-4714-c703-0c871dabafee"
      },
      "execution_count": 174,
      "outputs": [
        {
          "output_type": "execute_result",
          "data": {
            "text/plain": [
              "(11.786673, 14.483985)"
            ]
          },
          "metadata": {},
          "execution_count": 174
        }
      ]
    },
    {
      "cell_type": "code",
      "source": [
        "preds = np.stack([t.predict(valid_xs) for t in m.estimators_])"
      ],
      "metadata": {
        "id": "Dg6iyZCIW0Nt"
      },
      "execution_count": null,
      "outputs": []
    },
    {
      "cell_type": "code",
      "source": [
        "r_mse(preds.mean(0), valid_y)"
      ],
      "metadata": {
        "id": "5UldrkUhXFbi",
        "colab": {
          "base_uri": "https://localhost:8080/"
        },
        "outputId": "d3aa7dee-8e8b-426b-81be-f379ad23bdd7"
      },
      "execution_count": 176,
      "outputs": [
        {
          "output_type": "execute_result",
          "data": {
            "text/plain": [
              "14.483985"
            ]
          },
          "metadata": {},
          "execution_count": 176
        }
      ]
    },
    {
      "cell_type": "code",
      "source": [
        "plt.plot([r_mse(preds[:i+1].mean(0), valid_y) for i in range(50)]);"
      ],
      "metadata": {
        "id": "eT0fXh6uXIp1",
        "colab": {
          "base_uri": "https://localhost:8080/",
          "height": 268
        },
        "outputId": "347e5113-1d62-4de7-fb70-8fb6a75f0547"
      },
      "execution_count": 177,
      "outputs": [
        {
          "output_type": "display_data",
          "data": {
            "text/plain": [
              "<Figure size 432x288 with 1 Axes>"
            ],
            "image/png": "[encoded data removed]"
          },
          "metadata": {
            "needs_background": "light"
          }
        }
      ]
    },
    {
      "cell_type": "markdown",
      "source": [
        "### Out-of-Bag Error"
      ],
      "metadata": {
        "id": "GN-VS3_2YsOd"
      }
    },
    {
      "cell_type": "code",
      "source": [
        "r_mse(m.oob_prediction_, y)"
      ],
      "metadata": {
        "id": "tvwS19-6Yc20",
        "colab": {
          "base_uri": "https://localhost:8080/"
        },
        "outputId": "f8e3362a-ef96-4a45-e391-d26100da0290"
      },
      "execution_count": 178,
      "outputs": [
        {
          "output_type": "execute_result",
          "data": {
            "text/plain": [
              "14.871787"
            ]
          },
          "metadata": {},
          "execution_count": 178
        }
      ]
    },
    {
      "cell_type": "code",
      "source": [
        ""
      ],
      "metadata": {
        "id": "URHsHfuMZDAS"
      },
      "execution_count": 178,
      "outputs": []
    },
    {
      "cell_type": "markdown",
      "source": [
        "- How confident are we in our predictions using a particular row of data?\n",
        "- For predicting with a particular row of data, what were the most important factors, and how did they influence that prediction?\n",
        "- Which columns are the strongest predictors, which can we ignore?\n",
        "- Which columns are effectively redundant with each other, for purposes of prediction?\n",
        "- How do predictions vary, as we vary these columns?\n"
      ],
      "metadata": {
        "id": "-jSxQWTZZDfx"
      }
    },
    {
      "cell_type": "code",
      "source": [
        "preds = np.stack([t.predict(valid_xs) for t in m.estimators_])"
      ],
      "metadata": {
        "id": "eS53q1RUZRva"
      },
      "execution_count": null,
      "outputs": []
    },
    {
      "cell_type": "code",
      "source": [
        "preds.shape"
      ],
      "metadata": {
        "id": "quArhZFkZtq_",
        "colab": {
          "base_uri": "https://localhost:8080/"
        },
        "outputId": "21b69ef7-c94c-40af-8c14-f9123c49cae8"
      },
      "execution_count": 180,
      "outputs": [
        {
          "output_type": "execute_result",
          "data": {
            "text/plain": [
              "(50, 1629)"
            ]
          },
          "metadata": {},
          "execution_count": 180
        }
      ]
    },
    {
      "cell_type": "code",
      "source": [
        "preds_std = preds.std(0)"
      ],
      "metadata": {
        "id": "xZCBhV9MZxSH"
      },
      "execution_count": 181,
      "outputs": []
    },
    {
      "cell_type": "code",
      "source": [
        "preds_std[:5]"
      ],
      "metadata": {
        "id": "ZvKvldDdZ44S",
        "colab": {
          "base_uri": "https://localhost:8080/"
        },
        "outputId": "2ff01ee4-ef9d-4636-fe97-b94713a6917d"
      },
      "execution_count": 182,
      "outputs": [
        {
          "output_type": "execute_result",
          "data": {
            "text/plain": [
              "array([ 6.47364735,  7.19866443,  6.66275447,  6.66275447, 14.44979601])"
            ]
          },
          "metadata": {},
          "execution_count": 182
        }
      ]
    },
    {
      "cell_type": "code",
      "source": [
        "print(preds.mean(0)[:10])\n",
        "print(valid_y[:10])"
      ],
      "metadata": {
        "id": "ispifOrY-VK3",
        "colab": {
          "base_uri": "https://localhost:8080/"
        },
        "outputId": "b663d51c-5bc0-47cf-e2cc-ee4332cd294b"
      },
      "execution_count": 183,
      "outputs": [
        {
          "output_type": "stream",
          "name": "stdout",
          "text": [
            "[ -2.329829    -5.24937229   6.63851443   6.63851443   2.59415168  20.32498069 -10.77137096  -5.04061885  -0.99950846  -9.14771245]\n",
            "10      4.0\n",
            "55    -13.0\n",
            "56      0.0\n",
            "57      5.0\n",
            "98     -1.0\n",
            "99     45.0\n",
            "100     5.0\n",
            "101    -5.0\n",
            "102     6.0\n",
            "103     3.0\n",
            "Name: nextSpeed, dtype: float32\n"
          ]
        }
      ]
    },
    {
      "cell_type": "markdown",
      "source": [
        "# FEATURE Importance"
      ],
      "metadata": {
        "id": "tkENwKVIaPXc"
      }
    },
    {
      "cell_type": "code",
      "source": [
        "fi = rf_feat_importance(m, xs)\n",
        "fi[:20]"
      ],
      "metadata": {
        "id": "_xddcBHXaj9O",
        "colab": {
          "base_uri": "https://localhost:8080/",
          "height": 676
        },
        "outputId": "aff4df4f-48a0-40fd-c37b-df59e5d6c137"
      },
      "execution_count": 184,
      "outputs": [
        {
          "output_type": "execute_result",
          "data": {
            "text/plain": [
              "                                                             cols       imp\n",
              "22                                  lastReportedPosition.speedMPH  0.330683\n",
              "23  lastReportedPosition.milepostLocation.milepost.milepostNumber  0.140751\n",
              "38                                                       milepost  0.090931\n",
              "45                       lastReportedPosition.positionTimeElapsed  0.049865\n",
              "3                                             trainId.trainSymbol  0.034677\n",
              "0                                             ptcLeadLocomotiveId  0.030976\n",
              "12                                                         mpIncr  0.029730\n",
              "36                                                    trainLength  0.026954\n",
              "26                            aotuTrainData.totalLocomotiveWeight  0.026923\n",
              "25                                   aotuTrainData.totalCarLength  0.023538\n",
              "35                                                  emptyCarCount  0.022481\n",
              "24                                   aotuTrainData.totalCarWeight  0.022067\n",
              "37                                                trailingTonnage  0.022006\n",
              "34                                                 loadedCarCount  0.019744\n",
              "27                            aotuTrainData.totalLocomotiveLength  0.017959\n",
              "4                                               trainId.trainDate  0.014804\n",
              "29                              aotuTrainData.heavy143TonCarCount  0.014146\n",
              "6                 lastReportedPosition.milepostLocation.trackName  0.011344\n",
              "43                     lastReportedPosition.positionTimeDayofweek  0.011071\n",
              "13                                                     symbolType  0.008885"
            ],
            "text/html": [
              "\n",
              "  <div id=\"df-170c9285-d2a1-45a2-9a4e-1308b7a67c9a\">\n",
              "    <div class=\"colab-df-container\">\n",
              "      <div>\n",
              "<style scoped>\n",
              "    .dataframe tbody tr th:only-of-type {\n",
              "        vertical-align: middle;\n",
              "    }\n",
              "\n",
              "    .dataframe tbody tr th {\n",
              "        vertical-align: top;\n",
              "    }\n",
              "\n",
              "    .dataframe thead th {\n",
              "        text-align: right;\n",
              "    }\n",
              "</style>\n",
              "<table border=\"1\" class=\"dataframe\">\n",
              "  <thead>\n",
              "    <tr style=\"text-align: right;\">\n",
              "      <th></th>\n",
              "      <th>cols</th>\n",
              "      <th>imp</th>\n",
              "    </tr>\n",
              "  </thead>\n",
              "  <tbody>\n",
              "    <tr>\n",
              "      <th>22</th>\n",
              "      <td>lastReportedPosition.speedMPH</td>\n",
              "      <td>0.330683</td>\n",
              "    </tr>\n",
              "    <tr>\n",
              "      <th>23</th>\n",
              "      <td>lastReportedPosition.milepostLocation.milepost.milepostNumber</td>\n",
              "      <td>0.140751</td>\n",
              "    </tr>\n",
              "    <tr>\n",
              "      <th>38</th>\n",
              "      <td>milepost</td>\n",
              "      <td>0.090931</td>\n",
              "    </tr>\n",
              "    <tr>\n",
              "      <th>45</th>\n",
              "      <td>lastReportedPosition.positionTimeElapsed</td>\n",
              "      <td>0.049865</td>\n",
              "    </tr>\n",
              "    <tr>\n",
              "      <th>3</th>\n",
              "      <td>trainId.trainSymbol</td>\n",
              "      <td>0.034677</td>\n",
              "    </tr>\n",
              "    <tr>\n",
              "      <th>0</th>\n",
              "      <td>ptcLeadLocomotiveId</td>\n",
              "      <td>0.030976</td>\n",
              "    </tr>\n",
              "    <tr>\n",
              "      <th>12</th>\n",
              "      <td>mpIncr</td>\n",
              "      <td>0.029730</td>\n",
              "    </tr>\n",
              "    <tr>\n",
              "      <th>36</th>\n",
              "      <td>trainLength</td>\n",
              "      <td>0.026954</td>\n",
              "    </tr>\n",
              "    <tr>\n",
              "      <th>26</th>\n",
              "      <td>aotuTrainData.totalLocomotiveWeight</td>\n",
              "      <td>0.026923</td>\n",
              "    </tr>\n",
              "    <tr>\n",
              "      <th>25</th>\n",
              "      <td>aotuTrainData.totalCarLength</td>\n",
              "      <td>0.023538</td>\n",
              "    </tr>\n",
              "    <tr>\n",
              "      <th>35</th>\n",
              "      <td>emptyCarCount</td>\n",
              "      <td>0.022481</td>\n",
              "    </tr>\n",
              "    <tr>\n",
              "      <th>24</th>\n",
              "      <td>aotuTrainData.totalCarWeight</td>\n",
              "      <td>0.022067</td>\n",
              "    </tr>\n",
              "    <tr>\n",
              "      <th>37</th>\n",
              "      <td>trailingTonnage</td>\n",
              "      <td>0.022006</td>\n",
              "    </tr>\n",
              "    <tr>\n",
              "      <th>34</th>\n",
              "      <td>loadedCarCount</td>\n",
              "      <td>0.019744</td>\n",
              "    </tr>\n",
              "    <tr>\n",
              "      <th>27</th>\n",
              "      <td>aotuTrainData.totalLocomotiveLength</td>\n",
              "      <td>0.017959</td>\n",
              "    </tr>\n",
              "    <tr>\n",
              "      <th>4</th>\n",
              "      <td>trainId.trainDate</td>\n",
              "      <td>0.014804</td>\n",
              "    </tr>\n",
              "    <tr>\n",
              "      <th>29</th>\n",
              "      <td>aotuTrainData.heavy143TonCarCount</td>\n",
              "      <td>0.014146</td>\n",
              "    </tr>\n",
              "    <tr>\n",
              "      <th>6</th>\n",
              "      <td>lastReportedPosition.milepostLocation.trackName</td>\n",
              "      <td>0.011344</td>\n",
              "    </tr>\n",
              "    <tr>\n",
              "      <th>43</th>\n",
              "      <td>lastReportedPosition.positionTimeDayofweek</td>\n",
              "      <td>0.011071</td>\n",
              "    </tr>\n",
              "    <tr>\n",
              "      <th>13</th>\n",
              "      <td>symbolType</td>\n",
              "      <td>0.008885</td>\n",
              "    </tr>\n",
              "  </tbody>\n",
              "</table>\n",
              "</div>\n",
              "      <button class=\"colab-df-convert\" onclick=\"convertToInteractive('df-170c9285-d2a1-45a2-9a4e-1308b7a67c9a')\"\n",
              "              title=\"Convert this dataframe to an interactive table.\"\n",
              "              style=\"display:none;\">\n",
              "        \n",
              "  <svg xmlns=\"http://www.w3.org/2000/svg\" height=\"24px\"viewBox=\"0 0 24 24\"\n",
              "       width=\"24px\">\n",
              "    <path d=\"M0 0h24v24H0V0z\" fill=\"none\"/>\n",
              "    <path d=\"M18.56 5.44l.94 2.06.94-2.06 2.06-.94-2.06-.94-.94-2.06-.94 2.06-2.06.94zm-11 1L8.5 8.5l.94-2.06 2.06-.94-2.06-.94L8.5 2.5l-.94 2.06-2.06.94zm10 10l.94 2.06.94-2.06 2.06-.94-2.06-.94-.94-2.06-.94 2.06-2.06.94z\"/><path d=\"M17.41 7.96l-1.37-1.37c-.4-.4-.92-.59-1.43-.59-.52 0-1.04.2-1.43.59L10.3 9.45l-7.72 7.72c-.78.78-.78 2.05 0 2.83L4 21.41c.39.39.9.59 1.41.59.51 0 1.02-.2 1.41-.59l7.78-7.78 2.81-2.81c.8-.78.8-2.07 0-2.86zM5.41 20L4 18.59l7.72-7.72 1.47 1.35L5.41 20z\"/>\n",
              "  </svg>\n",
              "      </button>\n",
              "      \n",
              "  <style>\n",
              "    .colab-df-container {\n",
              "      display:flex;\n",
              "      flex-wrap:wrap;\n",
              "      gap: 12px;\n",
              "    }\n",
              "\n",
              "    .colab-df-convert {\n",
              "      background-color: #E8F0FE;\n",
              "      border: none;\n",
              "      border-radius: 50%;\n",
              "      cursor: pointer;\n",
              "      display: none;\n",
              "      fill: #1967D2;\n",
              "      height: 32px;\n",
              "      padding: 0 0 0 0;\n",
              "      width: 32px;\n",
              "    }\n",
              "\n",
              "    .colab-df-convert:hover {\n",
              "      background-color: #E2EBFA;\n",
              "      box-shadow: 0px 1px 2px rgba(60, 64, 67, 0.3), 0px 1px 3px 1px rgba(60, 64, 67, 0.15);\n",
              "      fill: #174EA6;\n",
              "    }\n",
              "\n",
              "    [theme=dark] .colab-df-convert {\n",
              "      background-color: #3B4455;\n",
              "      fill: #D2E3FC;\n",
              "    }\n",
              "\n",
              "    [theme=dark] .colab-df-convert:hover {\n",
              "      background-color: #434B5C;\n",
              "      box-shadow: 0px 1px 3px 1px rgba(0, 0, 0, 0.15);\n",
              "      filter: drop-shadow(0px 1px 2px rgba(0, 0, 0, 0.3));\n",
              "      fill: #FFFFFF;\n",
              "    }\n",
              "  </style>\n",
              "\n",
              "      <script>\n",
              "        const buttonEl =\n",
              "          document.querySelector('#df-170c9285-d2a1-45a2-9a4e-1308b7a67c9a button.colab-df-convert');\n",
              "        buttonEl.style.display =\n",
              "          google.colab.kernel.accessAllowed ? 'block' : 'none';\n",
              "\n",
              "        async function convertToInteractive(key) {\n",
              "          const element = document.querySelector('#df-170c9285-d2a1-45a2-9a4e-1308b7a67c9a');\n",
              "          const dataTable =\n",
              "            await google.colab.kernel.invokeFunction('convertToInteractive',\n",
              "                                                     [key], {});\n",
              "          if (!dataTable) return;\n",
              "\n",
              "          const docLinkHtml = 'Like what you see? Visit the ' +\n",
              "            '<a target=\"_blank\" href=https://colab.research.google.com/notebooks/data_table.ipynb>data table notebook</a>'\n",
              "            + ' to learn more about interactive tables.';\n",
              "          element.innerHTML = '';\n",
              "          dataTable['output_type'] = 'display_data';\n",
              "          await google.colab.output.renderOutput(dataTable, element);\n",
              "          const docLink = document.createElement('div');\n",
              "          docLink.innerHTML = docLinkHtml;\n",
              "          element.appendChild(docLink);\n",
              "        }\n",
              "      </script>\n",
              "    </div>\n",
              "  </div>\n",
              "  "
            ]
          },
          "metadata": {},
          "execution_count": 184
        }
      ]
    },
    {
      "cell_type": "code",
      "source": [
        "def plot_fi(fi):\n",
        "    return fi.plot('cols', 'imp', 'barh', figsize=(12,7), legend=False)\n",
        "\n",
        "plot_fi(fi[:30]);"
      ],
      "metadata": {
        "id": "PrrzmK6AflwF",
        "colab": {
          "base_uri": "https://localhost:8080/",
          "height": 431
        },
        "outputId": "3d10fc4b-6415-4217-f83d-9af4c1cc4698"
      },
      "execution_count": 185,
      "outputs": [
        {
          "output_type": "display_data",
          "data": {
            "text/plain": [
              "<Figure size 864x504 with 1 Axes>"
            ],
            "image/png": "[encoded data removed]"
          },
          "metadata": {
            "needs_background": "light"
          }
        }
      ]
    },
    {
      "cell_type": "markdown",
      "source": [
        "Remove low importance columns"
      ],
      "metadata": {
        "id": "ic6LbeWIf2EQ"
      }
    },
    {
      "cell_type": "code",
      "source": [
        "to_keep = fi[fi.imp>0.002].cols\n",
        "len(to_keep)"
      ],
      "metadata": {
        "id": "jaWtqZdQfwmy",
        "colab": {
          "base_uri": "https://localhost:8080/"
        },
        "outputId": "17ab622f-218a-498d-e096-c7ccef92f5ed"
      },
      "execution_count": 186,
      "outputs": [
        {
          "output_type": "execute_result",
          "data": {
            "text/plain": [
              "28"
            ]
          },
          "metadata": {},
          "execution_count": 186
        }
      ]
    },
    {
      "cell_type": "code",
      "source": [
        "xs_imp = xs[to_keep]\n",
        "valid_xs_imp = valid_xs[to_keep]"
      ],
      "metadata": {
        "id": "KK47uCFsgAYv"
      },
      "execution_count": 187,
      "outputs": []
    },
    {
      "cell_type": "code",
      "source": [
        "m = randomForest(xs_imp, y)"
      ],
      "metadata": {
        "id": "GgFy875_gGp4"
      },
      "execution_count": 188,
      "outputs": []
    },
    {
      "cell_type": "code",
      "source": [
        "m_rmse(m, xs_imp, y), m_rmse(m, valid_xs_imp, valid_y)"
      ],
      "metadata": {
        "id": "5e5LZrqmgJf2",
        "colab": {
          "base_uri": "https://localhost:8080/"
        },
        "outputId": "0e57c811-2edb-409f-ebdf-9fe05dddb4d2"
      },
      "execution_count": 189,
      "outputs": [
        {
          "output_type": "execute_result",
          "data": {
            "text/plain": [
              "(11.769284, 14.593794)"
            ]
          },
          "metadata": {},
          "execution_count": 189
        }
      ]
    },
    {
      "cell_type": "code",
      "source": [
        "plot_fi(rf_feat_importance(m, xs_imp));"
      ],
      "metadata": {
        "id": "5Szx4cKsgKPL",
        "colab": {
          "base_uri": "https://localhost:8080/",
          "height": 431
        },
        "outputId": "d36d1b42-01d4-45ab-985d-ae3d839f7db7"
      },
      "execution_count": 190,
      "outputs": [
        {
          "output_type": "display_data",
          "data": {
            "text/plain": [
              "<Figure size 864x504 with 1 Axes>"
            ],
            "image/png": "[encoded data removed]"
          },
          "metadata": {
            "needs_background": "light"
          }
        }
      ]
    },
    {
      "cell_type": "code",
      "source": [
        "fastai.cluster_columns(xs_imp)"
      ],
      "metadata": {
        "id": "ZRqtok8LhwlR",
        "colab": {
          "base_uri": "https://localhost:8080/",
          "height": 377
        },
        "outputId": "7cc2cd57-c0e9-4e28-cfe4-8e2648da6ab0"
      },
      "execution_count": 191,
      "outputs": [
        {
          "output_type": "display_data",
          "data": {
            "text/plain": [
              "<Figure size 720x432 with 1 Axes>"
            ],
            "image/png": "[encoded data removed]"
          },
          "metadata": {
            "needs_background": "light"
          }
        }
      ]
    },
    {
      "cell_type": "markdown",
      "source": [
        "# Compute the Physics Model loss for the same interval:"
      ],
      "metadata": {
        "id": "Q-BM2Bkc_YgZ"
      }
    },
    {
      "cell_type": "code",
      "source": [
        "b = dfTrainsNextBeop.tail(14165)\n",
        "# beopValues = beopValues.to_frame().join(valid_y)\n",
        "#m_rmse(m, valid_xs_imp, valid_y)\n",
        "b = b.reset_index(drop=true)\n",
        "#print (b)\n",
        "y = valid_y.reset_index(drop=true)\n",
        "#print (y)\n",
        "df2  = pd.concat([b, y], axis=1)\n",
        "df2.dropna()\n",
        "print(df2)\n",
        "r_mse(df2['nextBeop'], df2['nextSpeed'])\n",
        "# print(BeopValidations[:5])\n",
        "#print(valid_y[:5])"
      ],
      "metadata": {
        "colab": {
          "base_uri": "https://localhost:8080/"
        },
        "id": "9-wNLj6p9amP",
        "outputId": "eb74627b-fcda-46f3-a0ab-4bed8e3e71bf"
      },
      "execution_count": 192,
      "outputs": [
        {
          "output_type": "stream",
          "name": "stdout",
          "text": [
            "      nextBeop  nextSpeed\n",
            "0          NaN        4.0\n",
            "1          NaN      -13.0\n",
            "2          NaN        0.0\n",
            "3         16.0        5.0\n",
            "4        -28.0       -1.0\n",
            "...        ...        ...\n",
            "5902     -31.0        NaN\n",
            "5903     -12.0        NaN\n",
            "5904       NaN        NaN\n",
            "5905      24.0        NaN\n",
            "5906     -10.0        NaN\n",
            "\n",
            "[5907 rows x 2 columns]\n"
          ]
        },
        {
          "output_type": "execute_result",
          "data": {
            "text/plain": [
              "26.432915"
            ]
          },
          "metadata": {},
          "execution_count": 192
        }
      ]
    },
    {
      "cell_type": "markdown",
      "source": [
        "# Finding Out-of-Domain Data\n",
        "Spot variables that are unique to the test set versus the training set"
      ],
      "metadata": {
        "id": "1N-rN5Y9BoHT"
      }
    },
    {
      "cell_type": "code",
      "source": [
        "df_dom = pd.concat([xs, valid_xs])\n",
        "is_valid = np.array([0]*len(xs) + [1]*len(valid_xs))\n",
        "\n",
        "m = randomForest(df_dom, is_valid)\n",
        "rf_feat_importance(m, df_dom)[:8]"
      ],
      "metadata": {
        "colab": {
          "base_uri": "https://localhost:8080/",
          "height": 300
        },
        "id": "qzU3ybMaBuOr",
        "outputId": "45b5081e-eb7c-4fe1-b8ba-c7b830515111"
      },
      "execution_count": 193,
      "outputs": [
        {
          "output_type": "execute_result",
          "data": {
            "text/plain": [
              "                                               cols       imp\n",
              "44       lastReportedPosition.positionTimeDayofyear  0.415832\n",
              "45         lastReportedPosition.positionTimeElapsed  0.281074\n",
              "42             lastReportedPosition.positionTimeDay  0.254093\n",
              "41            lastReportedPosition.positionTimeWeek  0.027166\n",
              "4                                 trainId.trainDate  0.009709\n",
              "16    lastReportedPosition.positionTimeIs_month_end  0.004752\n",
              "17  lastReportedPosition.positionTimeIs_month_start  0.003751\n",
              "40           lastReportedPosition.positionTimeMonth  0.001937"
            ],
            "text/html": [
              "\n",
              "  <div id=\"df-2394287d-92a2-49fd-9a91-b5f89dc4a300\">\n",
              "    <div class=\"colab-df-container\">\n",
              "      <div>\n",
              "<style scoped>\n",
              "    .dataframe tbody tr th:only-of-type {\n",
              "        vertical-align: middle;\n",
              "    }\n",
              "\n",
              "    .dataframe tbody tr th {\n",
              "        vertical-align: top;\n",
              "    }\n",
              "\n",
              "    .dataframe thead th {\n",
              "        text-align: right;\n",
              "    }\n",
              "</style>\n",
              "<table border=\"1\" class=\"dataframe\">\n",
              "  <thead>\n",
              "    <tr style=\"text-align: right;\">\n",
              "      <th></th>\n",
              "      <th>cols</th>\n",
              "      <th>imp</th>\n",
              "    </tr>\n",
              "  </thead>\n",
              "  <tbody>\n",
              "    <tr>\n",
              "      <th>44</th>\n",
              "      <td>lastReportedPosition.positionTimeDayofyear</td>\n",
              "      <td>0.415832</td>\n",
              "    </tr>\n",
              "    <tr>\n",
              "      <th>45</th>\n",
              "      <td>lastReportedPosition.positionTimeElapsed</td>\n",
              "      <td>0.281074</td>\n",
              "    </tr>\n",
              "    <tr>\n",
              "      <th>42</th>\n",
              "      <td>lastReportedPosition.positionTimeDay</td>\n",
              "      <td>0.254093</td>\n",
              "    </tr>\n",
              "    <tr>\n",
              "      <th>41</th>\n",
              "      <td>lastReportedPosition.positionTimeWeek</td>\n",
              "      <td>0.027166</td>\n",
              "    </tr>\n",
              "    <tr>\n",
              "      <th>4</th>\n",
              "      <td>trainId.trainDate</td>\n",
              "      <td>0.009709</td>\n",
              "    </tr>\n",
              "    <tr>\n",
              "      <th>16</th>\n",
              "      <td>lastReportedPosition.positionTimeIs_month_end</td>\n",
              "      <td>0.004752</td>\n",
              "    </tr>\n",
              "    <tr>\n",
              "      <th>17</th>\n",
              "      <td>lastReportedPosition.positionTimeIs_month_start</td>\n",
              "      <td>0.003751</td>\n",
              "    </tr>\n",
              "    <tr>\n",
              "      <th>40</th>\n",
              "      <td>lastReportedPosition.positionTimeMonth</td>\n",
              "      <td>0.001937</td>\n",
              "    </tr>\n",
              "  </tbody>\n",
              "</table>\n",
              "</div>\n",
              "      <button class=\"colab-df-convert\" onclick=\"convertToInteractive('df-2394287d-92a2-49fd-9a91-b5f89dc4a300')\"\n",
              "              title=\"Convert this dataframe to an interactive table.\"\n",
              "              style=\"display:none;\">\n",
              "        \n",
              "  <svg xmlns=\"http://www.w3.org/2000/svg\" height=\"24px\"viewBox=\"0 0 24 24\"\n",
              "       width=\"24px\">\n",
              "    <path d=\"M0 0h24v24H0V0z\" fill=\"none\"/>\n",
              "    <path d=\"M18.56 5.44l.94 2.06.94-2.06 2.06-.94-2.06-.94-.94-2.06-.94 2.06-2.06.94zm-11 1L8.5 8.5l.94-2.06 2.06-.94-2.06-.94L8.5 2.5l-.94 2.06-2.06.94zm10 10l.94 2.06.94-2.06 2.06-.94-2.06-.94-.94-2.06-.94 2.06-2.06.94z\"/><path d=\"M17.41 7.96l-1.37-1.37c-.4-.4-.92-.59-1.43-.59-.52 0-1.04.2-1.43.59L10.3 9.45l-7.72 7.72c-.78.78-.78 2.05 0 2.83L4 21.41c.39.39.9.59 1.41.59.51 0 1.02-.2 1.41-.59l7.78-7.78 2.81-2.81c.8-.78.8-2.07 0-2.86zM5.41 20L4 18.59l7.72-7.72 1.47 1.35L5.41 20z\"/>\n",
              "  </svg>\n",
              "      </button>\n",
              "      \n",
              "  <style>\n",
              "    .colab-df-container {\n",
              "      display:flex;\n",
              "      flex-wrap:wrap;\n",
              "      gap: 12px;\n",
              "    }\n",
              "\n",
              "    .colab-df-convert {\n",
              "      background-color: #E8F0FE;\n",
              "      border: none;\n",
              "      border-radius: 50%;\n",
              "      cursor: pointer;\n",
              "      display: none;\n",
              "      fill: #1967D2;\n",
              "      height: 32px;\n",
              "      padding: 0 0 0 0;\n",
              "      width: 32px;\n",
              "    }\n",
              "\n",
              "    .colab-df-convert:hover {\n",
              "      background-color: #E2EBFA;\n",
              "      box-shadow: 0px 1px 2px rgba(60, 64, 67, 0.3), 0px 1px 3px 1px rgba(60, 64, 67, 0.15);\n",
              "      fill: #174EA6;\n",
              "    }\n",
              "\n",
              "    [theme=dark] .colab-df-convert {\n",
              "      background-color: #3B4455;\n",
              "      fill: #D2E3FC;\n",
              "    }\n",
              "\n",
              "    [theme=dark] .colab-df-convert:hover {\n",
              "      background-color: #434B5C;\n",
              "      box-shadow: 0px 1px 3px 1px rgba(0, 0, 0, 0.15);\n",
              "      filter: drop-shadow(0px 1px 2px rgba(0, 0, 0, 0.3));\n",
              "      fill: #FFFFFF;\n",
              "    }\n",
              "  </style>\n",
              "\n",
              "      <script>\n",
              "        const buttonEl =\n",
              "          document.querySelector('#df-2394287d-92a2-49fd-9a91-b5f89dc4a300 button.colab-df-convert');\n",
              "        buttonEl.style.display =\n",
              "          google.colab.kernel.accessAllowed ? 'block' : 'none';\n",
              "\n",
              "        async function convertToInteractive(key) {\n",
              "          const element = document.querySelector('#df-2394287d-92a2-49fd-9a91-b5f89dc4a300');\n",
              "          const dataTable =\n",
              "            await google.colab.kernel.invokeFunction('convertToInteractive',\n",
              "                                                     [key], {});\n",
              "          if (!dataTable) return;\n",
              "\n",
              "          const docLinkHtml = 'Like what you see? Visit the ' +\n",
              "            '<a target=\"_blank\" href=https://colab.research.google.com/notebooks/data_table.ipynb>data table notebook</a>'\n",
              "            + ' to learn more about interactive tables.';\n",
              "          element.innerHTML = '';\n",
              "          dataTable['output_type'] = 'display_data';\n",
              "          await google.colab.output.renderOutput(dataTable, element);\n",
              "          const docLink = document.createElement('div');\n",
              "          docLink.innerHTML = docLinkHtml;\n",
              "          element.appendChild(docLink);\n",
              "        }\n",
              "      </script>\n",
              "    </div>\n",
              "  </div>\n",
              "  "
            ]
          },
          "metadata": {},
          "execution_count": 193
        }
      ]
    },
    {
      "cell_type": "markdown",
      "source": [
        "Consider whether these values make sense"
      ],
      "metadata": {
        "id": "wJPE_9WCLCPr"
      }
    },
    {
      "cell_type": "markdown",
      "source": [
        "#Using a Neural Net"
      ],
      "metadata": {
        "id": "K9TcqLvPKQJD"
      }
    },
    {
      "cell_type": "code",
      "source": [
        "df_nn_final = dfTrainsLearn"
      ],
      "metadata": {
        "id": "CrfcBKRXKqQ8"
      },
      "execution_count": 194,
      "outputs": []
    },
    {
      "cell_type": "code",
      "source": [
        "df_nn_final.info()"
      ],
      "metadata": {
        "id": "W87DbNmeMVsv",
        "colab": {
          "base_uri": "https://localhost:8080/"
        },
        "outputId": "1117ffb8-2fea-4647-ae02-d8a48b1b00b2"
      },
      "execution_count": 195,
      "outputs": [
        {
          "output_type": "stream",
          "name": "stdout",
          "text": [
            "<class 'pandas.core.frame.DataFrame'>\n",
            "Int64Index: 5907 entries, 10 to 6745\n",
            "Data columns (total 47 columns):\n",
            " #   Column                                                         Non-Null Count  Dtype         \n",
            "---  ------                                                         --------------  -----         \n",
            " 0   ptcLeadLocomotiveId                                            5907 non-null   object        \n",
            " 1   trainId.trainSCAC                                              5907 non-null   category      \n",
            " 2   trainId.trainSection                                           5907 non-null   category      \n",
            " 3   trainId.trainSymbol                                            5907 non-null   object        \n",
            " 4   trainId.trainDate                                              5907 non-null   datetime64[ns]\n",
            " 5   lastReportedPosition.speedMPH                                  5907 non-null   int64         \n",
            " 6   lastReportedPosition.milepostLocation.subdivisionId            5907 non-null   int64         \n",
            " 7   lastReportedPosition.milepostLocation.trackName                5907 non-null   category      \n",
            " 8   lastReportedPosition.milepostLocation.milepost.milepostNumber  5907 non-null   float64       \n",
            " 9   aotuTrainData.priorityCode                                     5907 non-null   category      \n",
            " 10  aotuTrainData.categoryCode                                     5907 non-null   category      \n",
            " 11  aotuTrainData.authorityRangeCode                               5907 non-null   category      \n",
            " 12  aotuTrainData.ownershipCode                                    5907 non-null   category      \n",
            " 13  aotuTrainData.totalCarWeight                                   5907 non-null   float64       \n",
            " 14  aotuTrainData.totalCarLength                                   5907 non-null   float64       \n",
            " 15  aotuTrainData.totalLocomotiveWeight                            5907 non-null   float64       \n",
            " 16  aotuTrainData.totalLocomotiveLength                            5907 non-null   float64       \n",
            " 17  aotuTrainData.actualTonsPerAxle                                5907 non-null   float64       \n",
            " 18  aotuTrainData.heavy143TonCarCount                              5907 non-null   float64       \n",
            " 19  aotuTrainData.heavy158TonCarCount                              5907 non-null   float64       \n",
            " 20  aotuTrainData.over158TonCarCount                               5907 non-null   float64       \n",
            " 21  aotuTrainData.highWideCarCount                                 5907 non-null   float64       \n",
            " 22  aotuTrainData.eventCode                                        5907 non-null   category      \n",
            " 23  maximumTrainSpeed                                              5907 non-null   float64       \n",
            " 24  loadedCarCount                                                 5907 non-null   float64       \n",
            " 25  emptyCarCount                                                  5907 non-null   float64       \n",
            " 26  trainLength                                                    5907 non-null   float64       \n",
            " 27  trailingTonnage                                                5907 non-null   float64       \n",
            " 28  milepost                                                       5907 non-null   int64         \n",
            " 29  mpIncr                                                         5907 non-null   bool          \n",
            " 30  symbolType                                                     5907 non-null   category      \n",
            " 31  workLocations                                                  4951 non-null   object        \n",
            " 32  locomotiveCount                                                5907 non-null   int64         \n",
            " 33  nextSpeed                                                      5907 non-null   float64       \n",
            " 34  lastReportedPosition.positionTimeYear                          5907 non-null   int64         \n",
            " 35  lastReportedPosition.positionTimeMonth                         5907 non-null   int64         \n",
            " 36  lastReportedPosition.positionTimeWeek                          5907 non-null   int64         \n",
            " 37  lastReportedPosition.positionTimeDay                           5907 non-null   int64         \n",
            " 38  lastReportedPosition.positionTimeDayofweek                     5907 non-null   int64         \n",
            " 39  lastReportedPosition.positionTimeDayofyear                     5907 non-null   int64         \n",
            " 40  lastReportedPosition.positionTimeIs_month_end                  5907 non-null   bool          \n",
            " 41  lastReportedPosition.positionTimeIs_month_start                5907 non-null   bool          \n",
            " 42  lastReportedPosition.positionTimeIs_quarter_end                5907 non-null   bool          \n",
            " 43  lastReportedPosition.positionTimeIs_quarter_start              5907 non-null   bool          \n",
            " 44  lastReportedPosition.positionTimeIs_year_end                   5907 non-null   bool          \n",
            " 45  lastReportedPosition.positionTimeIs_year_start                 5907 non-null   bool          \n",
            " 46  lastReportedPosition.positionTimeElapsed                       5907 non-null   float64       \n",
            "dtypes: bool(7), category(9), datetime64[ns](1), float64(17), int64(10), object(3)\n",
            "memory usage: 1.5+ MB\n"
          ]
        }
      ]
    },
    {
      "cell_type": "code",
      "source": [
        "cont_nn,cat_nn = cont_cat_split(df_nn_final, max_card=9000, dep_var=dep_var)"
      ],
      "metadata": {
        "id": "TpvoMKe1MNzg"
      },
      "execution_count": 196,
      "outputs": []
    },
    {
      "cell_type": "code",
      "source": [
        "cont_nn"
      ],
      "metadata": {
        "colab": {
          "base_uri": "https://localhost:8080/"
        },
        "id": "xef-YmKAMeHO",
        "outputId": "af3e5e83-572a-42dd-f6a3-e539db71b800"
      },
      "execution_count": 197,
      "outputs": [
        {
          "output_type": "execute_result",
          "data": {
            "text/plain": [
              "['lastReportedPosition.milepostLocation.milepost.milepostNumber',\n",
              " 'aotuTrainData.totalCarWeight',\n",
              " 'aotuTrainData.totalCarLength',\n",
              " 'aotuTrainData.totalLocomotiveWeight',\n",
              " 'aotuTrainData.totalLocomotiveLength',\n",
              " 'aotuTrainData.actualTonsPerAxle',\n",
              " 'aotuTrainData.heavy143TonCarCount',\n",
              " 'aotuTrainData.heavy158TonCarCount',\n",
              " 'aotuTrainData.over158TonCarCount',\n",
              " 'aotuTrainData.highWideCarCount',\n",
              " 'maximumTrainSpeed',\n",
              " 'loadedCarCount',\n",
              " 'emptyCarCount',\n",
              " 'trainLength',\n",
              " 'trailingTonnage',\n",
              " 'lastReportedPosition.positionTimeElapsed']"
            ]
          },
          "metadata": {},
          "execution_count": 197
        }
      ]
    },
    {
      "cell_type": "code",
      "source": [
        "numUniquePerCat = df_nn_final[cat_nn].nunique()\n",
        "with pd.option_context('display.max_rows', None, 'display.max_columns', None):  \n",
        "    print(numUniquePerCat)"
      ],
      "metadata": {
        "colab": {
          "base_uri": "https://localhost:8080/"
        },
        "id": "axfRjORJin9v",
        "outputId": "d90d75af-1dd5-4e1a-a41c-bb87cd9b695a"
      },
      "execution_count": 198,
      "outputs": [
        {
          "output_type": "stream",
          "name": "stdout",
          "text": [
            "ptcLeadLocomotiveId                                    446\n",
            "trainId.trainSCAC                                        1\n",
            "trainId.trainSection                                     5\n",
            "trainId.trainSymbol                                    160\n",
            "trainId.trainDate                                       19\n",
            "lastReportedPosition.speedMPH                           71\n",
            "lastReportedPosition.milepostLocation.subdivisionId      1\n",
            "lastReportedPosition.milepostLocation.trackName         33\n",
            "aotuTrainData.priorityCode                               5\n",
            "aotuTrainData.categoryCode                              15\n",
            "aotuTrainData.authorityRangeCode                         4\n",
            "aotuTrainData.ownershipCode                              3\n",
            "aotuTrainData.eventCode                                  1\n",
            "milepost                                               224\n",
            "mpIncr                                                   2\n",
            "symbolType                                              16\n",
            "workLocations                                           24\n",
            "locomotiveCount                                         10\n",
            "lastReportedPosition.positionTimeYear                    1\n",
            "lastReportedPosition.positionTimeMonth                   2\n",
            "lastReportedPosition.positionTimeWeek                    2\n",
            "lastReportedPosition.positionTimeDay                    12\n",
            "lastReportedPosition.positionTimeDayofweek               7\n",
            "lastReportedPosition.positionTimeDayofyear              12\n",
            "lastReportedPosition.positionTimeIs_month_end            2\n",
            "lastReportedPosition.positionTimeIs_month_start          2\n",
            "lastReportedPosition.positionTimeIs_quarter_end          2\n",
            "lastReportedPosition.positionTimeIs_quarter_start        2\n",
            "lastReportedPosition.positionTimeIs_year_end             1\n",
            "lastReportedPosition.positionTimeIs_year_start           1\n",
            "dtype: int64\n"
          ]
        }
      ]
    },
    {
      "cell_type": "code",
      "source": [
        "procs_nn = [Categorify, FillMissing, Normalize]\n",
        "to_nn = TabularPandas(df_nn_final, procs_nn, cat_nn, cont_nn,\n",
        "                      splits=splits, y_names=dep_var)"
      ],
      "metadata": {
        "id": "WNS5_jduj0Ft"
      },
      "execution_count": 199,
      "outputs": []
    },
    {
      "cell_type": "code",
      "source": [
        "dls = to_nn.dataloaders(1024)"
      ],
      "metadata": {
        "id": "HH0M0MH7kKQ-"
      },
      "execution_count": 200,
      "outputs": []
    },
    {
      "cell_type": "code",
      "source": [
        "y = to_nn.train.y\n",
        "y.min(),y.max()"
      ],
      "metadata": {
        "colab": {
          "base_uri": "https://localhost:8080/"
        },
        "id": "BPnKvYGKkRMf",
        "outputId": "57b69fde-f5c9-46db-9e38-d72364466c31"
      },
      "execution_count": 201,
      "outputs": [
        {
          "output_type": "execute_result",
          "data": {
            "text/plain": [
              "(-70.0, 68.0)"
            ]
          },
          "metadata": {},
          "execution_count": 201
        }
      ]
    },
    {
      "cell_type": "code",
      "source": [
        "learn = tabular_learner(dls, y_range=(-70,70), layers=[500,250],\n",
        "                        n_out=1, loss_func=F.mse_loss)"
      ],
      "metadata": {
        "id": "XI0a_6T8kYCl"
      },
      "execution_count": 202,
      "outputs": []
    },
    {
      "cell_type": "code",
      "source": [
        "learn.lr_find()"
      ],
      "metadata": {
        "colab": {
          "base_uri": "https://localhost:8080/",
          "height": 310
        },
        "id": "-bG4DfIqkbyc",
        "outputId": "6815b758-b6bf-4995-ef8b-a664bf6cf16c"
      },
      "execution_count": 203,
      "outputs": [
        {
          "output_type": "display_data",
          "data": {
            "text/plain": [
              "<IPython.core.display.HTML object>"
            ],
            "text/html": [
              "\n",
              "<style>\n",
              "    /* Turns off some styling */\n",
              "    progress {\n",
              "        /* gets rid of default border in Firefox and Opera. */\n",
              "        border: none;\n",
              "        /* Needs to be in here for Safari polyfill so background images work as expected. */\n",
              "        background-size: auto;\n",
              "    }\n",
              "    .progress-bar-interrupted, .progress-bar-interrupted::-webkit-progress-bar {\n",
              "        background: #F44336;\n",
              "    }\n",
              "</style>\n"
            ]
          },
          "metadata": {}
        },
        {
          "output_type": "display_data",
          "data": {
            "text/plain": [
              "<IPython.core.display.HTML object>"
            ],
            "text/html": [
              ""
            ]
          },
          "metadata": {}
        },
        {
          "output_type": "execute_result",
          "data": {
            "text/plain": [
              "SuggestedLRs(valley=0.0003981071640737355)"
            ]
          },
          "metadata": {},
          "execution_count": 203
        },
        {
          "output_type": "display_data",
          "data": {
            "text/plain": [
              "<Figure size 432x288 with 1 Axes>"
            ],
            "image/png": "[encoded data removed]"
          },
          "metadata": {
            "needs_background": "light"
          }
        }
      ]
    },
    {
      "cell_type": "code",
      "source": [
        "learn.fit_one_cycle(50, 1e-2)"
      ],
      "metadata": {
        "colab": {
          "base_uri": "https://localhost:8080/",
          "height": 1000
        },
        "id": "KtYc1ectkiZt",
        "outputId": "b7f5bdc2-1c28-4d27-af46-778fd47e79ae"
      },
      "execution_count": 204,
      "outputs": [
        {
          "output_type": "display_data",
          "data": {
            "text/plain": [
              "<IPython.core.display.HTML object>"
            ],
            "text/html": [
              "\n",
              "<style>\n",
              "    /* Turns off some styling */\n",
              "    progress {\n",
              "        /* gets rid of default border in Firefox and Opera. */\n",
              "        border: none;\n",
              "        /* Needs to be in here for Safari polyfill so background images work as expected. */\n",
              "        background-size: auto;\n",
              "    }\n",
              "    .progress-bar-interrupted, .progress-bar-interrupted::-webkit-progress-bar {\n",
              "        background: #F44336;\n",
              "    }\n",
              "</style>\n"
            ]
          },
          "metadata": {}
        },
        {
          "output_type": "display_data",
          "data": {
            "text/plain": [
              "<IPython.core.display.HTML object>"
            ],
            "text/html": [
              "<table border=\"1\" class=\"dataframe\">\n",
              "  <thead>\n",
              "    <tr style=\"text-align: left;\">\n",
              "      <th>epoch</th>\n",
              "      <th>train_loss</th>\n",
              "      <th>valid_loss</th>\n",
              "      <th>time</th>\n",
              "    </tr>\n",
              "  </thead>\n",
              "  <tbody>\n",
              "    <tr>\n",
              "      <td>0</td>\n",
              "      <td>580.115356</td>\n",
              "      <td>338.688385</td>\n",
              "      <td>00:00</td>\n",
              "    </tr>\n",
              "    <tr>\n",
              "      <td>1</td>\n",
              "      <td>529.532104</td>\n",
              "      <td>334.817719</td>\n",
              "      <td>00:00</td>\n",
              "    </tr>\n",
              "    <tr>\n",
              "      <td>2</td>\n",
              "      <td>486.391937</td>\n",
              "      <td>336.079041</td>\n",
              "      <td>00:00</td>\n",
              "    </tr>\n",
              "    <tr>\n",
              "      <td>3</td>\n",
              "      <td>447.839264</td>\n",
              "      <td>328.562195</td>\n",
              "      <td>00:00</td>\n",
              "    </tr>\n",
              "    <tr>\n",
              "      <td>4</td>\n",
              "      <td>408.543610</td>\n",
              "      <td>313.386871</td>\n",
              "      <td>00:00</td>\n",
              "    </tr>\n",
              "    <tr>\n",
              "      <td>5</td>\n",
              "      <td>376.070557</td>\n",
              "      <td>295.361633</td>\n",
              "      <td>00:00</td>\n",
              "    </tr>\n",
              "    <tr>\n",
              "      <td>6</td>\n",
              "      <td>347.363098</td>\n",
              "      <td>283.832672</td>\n",
              "      <td>00:00</td>\n",
              "    </tr>\n",
              "    <tr>\n",
              "      <td>7</td>\n",
              "      <td>324.697113</td>\n",
              "      <td>260.673584</td>\n",
              "      <td>00:00</td>\n",
              "    </tr>\n",
              "    <tr>\n",
              "      <td>8</td>\n",
              "      <td>305.262512</td>\n",
              "      <td>248.121918</td>\n",
              "      <td>00:00</td>\n",
              "    </tr>\n",
              "    <tr>\n",
              "      <td>9</td>\n",
              "      <td>288.095428</td>\n",
              "      <td>248.460678</td>\n",
              "      <td>00:00</td>\n",
              "    </tr>\n",
              "    <tr>\n",
              "      <td>10</td>\n",
              "      <td>272.796753</td>\n",
              "      <td>234.853821</td>\n",
              "      <td>00:00</td>\n",
              "    </tr>\n",
              "    <tr>\n",
              "      <td>11</td>\n",
              "      <td>259.306213</td>\n",
              "      <td>242.633209</td>\n",
              "      <td>00:00</td>\n",
              "    </tr>\n",
              "    <tr>\n",
              "      <td>12</td>\n",
              "      <td>247.483490</td>\n",
              "      <td>269.802551</td>\n",
              "      <td>00:00</td>\n",
              "    </tr>\n",
              "    <tr>\n",
              "      <td>13</td>\n",
              "      <td>238.107849</td>\n",
              "      <td>276.370605</td>\n",
              "      <td>00:00</td>\n",
              "    </tr>\n",
              "    <tr>\n",
              "      <td>14</td>\n",
              "      <td>228.402817</td>\n",
              "      <td>281.603790</td>\n",
              "      <td>00:00</td>\n",
              "    </tr>\n",
              "    <tr>\n",
              "      <td>15</td>\n",
              "      <td>218.505676</td>\n",
              "      <td>313.406219</td>\n",
              "      <td>00:00</td>\n",
              "    </tr>\n",
              "    <tr>\n",
              "      <td>16</td>\n",
              "      <td>209.544632</td>\n",
              "      <td>306.790588</td>\n",
              "      <td>00:00</td>\n",
              "    </tr>\n",
              "    <tr>\n",
              "      <td>17</td>\n",
              "      <td>200.013687</td>\n",
              "      <td>326.211365</td>\n",
              "      <td>00:00</td>\n",
              "    </tr>\n",
              "    <tr>\n",
              "      <td>18</td>\n",
              "      <td>190.950272</td>\n",
              "      <td>348.490601</td>\n",
              "      <td>00:00</td>\n",
              "    </tr>\n",
              "    <tr>\n",
              "      <td>19</td>\n",
              "      <td>182.276672</td>\n",
              "      <td>362.167175</td>\n",
              "      <td>00:00</td>\n",
              "    </tr>\n",
              "    <tr>\n",
              "      <td>20</td>\n",
              "      <td>174.323059</td>\n",
              "      <td>373.693970</td>\n",
              "      <td>00:00</td>\n",
              "    </tr>\n",
              "    <tr>\n",
              "      <td>21</td>\n",
              "      <td>183.589096</td>\n",
              "      <td>414.000305</td>\n",
              "      <td>00:00</td>\n",
              "    </tr>\n",
              "    <tr>\n",
              "      <td>22</td>\n",
              "      <td>178.748245</td>\n",
              "      <td>351.647217</td>\n",
              "      <td>00:00</td>\n",
              "    </tr>\n",
              "    <tr>\n",
              "      <td>23</td>\n",
              "      <td>186.994736</td>\n",
              "      <td>411.742676</td>\n",
              "      <td>00:00</td>\n",
              "    </tr>\n",
              "    <tr>\n",
              "      <td>24</td>\n",
              "      <td>182.495438</td>\n",
              "      <td>343.562744</td>\n",
              "      <td>00:00</td>\n",
              "    </tr>\n",
              "    <tr>\n",
              "      <td>25</td>\n",
              "      <td>176.714188</td>\n",
              "      <td>314.564178</td>\n",
              "      <td>00:00</td>\n",
              "    </tr>\n",
              "    <tr>\n",
              "      <td>26</td>\n",
              "      <td>169.448044</td>\n",
              "      <td>357.769958</td>\n",
              "      <td>00:00</td>\n",
              "    </tr>\n",
              "    <tr>\n",
              "      <td>27</td>\n",
              "      <td>162.418274</td>\n",
              "      <td>421.335876</td>\n",
              "      <td>00:00</td>\n",
              "    </tr>\n",
              "    <tr>\n",
              "      <td>28</td>\n",
              "      <td>155.472443</td>\n",
              "      <td>395.663544</td>\n",
              "      <td>00:00</td>\n",
              "    </tr>\n",
              "    <tr>\n",
              "      <td>29</td>\n",
              "      <td>148.282532</td>\n",
              "      <td>371.567078</td>\n",
              "      <td>00:00</td>\n",
              "    </tr>\n",
              "    <tr>\n",
              "      <td>30</td>\n",
              "      <td>140.729080</td>\n",
              "      <td>383.624695</td>\n",
              "      <td>00:00</td>\n",
              "    </tr>\n",
              "    <tr>\n",
              "      <td>31</td>\n",
              "      <td>133.308777</td>\n",
              "      <td>359.806549</td>\n",
              "      <td>00:00</td>\n",
              "    </tr>\n",
              "    <tr>\n",
              "      <td>32</td>\n",
              "      <td>126.302231</td>\n",
              "      <td>376.693115</td>\n",
              "      <td>00:00</td>\n",
              "    </tr>\n",
              "    <tr>\n",
              "      <td>33</td>\n",
              "      <td>119.723221</td>\n",
              "      <td>384.265717</td>\n",
              "      <td>00:00</td>\n",
              "    </tr>\n",
              "    <tr>\n",
              "      <td>34</td>\n",
              "      <td>113.460533</td>\n",
              "      <td>379.123047</td>\n",
              "      <td>00:00</td>\n",
              "    </tr>\n",
              "    <tr>\n",
              "      <td>35</td>\n",
              "      <td>107.657326</td>\n",
              "      <td>410.469391</td>\n",
              "      <td>00:00</td>\n",
              "    </tr>\n",
              "    <tr>\n",
              "      <td>36</td>\n",
              "      <td>102.182693</td>\n",
              "      <td>399.379608</td>\n",
              "      <td>00:00</td>\n",
              "    </tr>\n",
              "    <tr>\n",
              "      <td>37</td>\n",
              "      <td>97.007172</td>\n",
              "      <td>393.052643</td>\n",
              "      <td>00:00</td>\n",
              "    </tr>\n",
              "    <tr>\n",
              "      <td>38</td>\n",
              "      <td>92.316223</td>\n",
              "      <td>404.373322</td>\n",
              "      <td>00:00</td>\n",
              "    </tr>\n",
              "    <tr>\n",
              "      <td>39</td>\n",
              "      <td>87.842422</td>\n",
              "      <td>402.318604</td>\n",
              "      <td>00:00</td>\n",
              "    </tr>\n",
              "    <tr>\n",
              "      <td>40</td>\n",
              "      <td>85.800308</td>\n",
              "      <td>387.187653</td>\n",
              "      <td>00:00</td>\n",
              "    </tr>\n",
              "    <tr>\n",
              "      <td>41</td>\n",
              "      <td>82.063072</td>\n",
              "      <td>394.862640</td>\n",
              "      <td>00:00</td>\n",
              "    </tr>\n",
              "    <tr>\n",
              "      <td>42</td>\n",
              "      <td>78.650620</td>\n",
              "      <td>400.710144</td>\n",
              "      <td>00:00</td>\n",
              "    </tr>\n",
              "    <tr>\n",
              "      <td>43</td>\n",
              "      <td>75.281204</td>\n",
              "      <td>401.169037</td>\n",
              "      <td>00:00</td>\n",
              "    </tr>\n",
              "    <tr>\n",
              "      <td>44</td>\n",
              "      <td>72.276146</td>\n",
              "      <td>403.207397</td>\n",
              "      <td>00:00</td>\n",
              "    </tr>\n",
              "    <tr>\n",
              "      <td>45</td>\n",
              "      <td>69.387207</td>\n",
              "      <td>403.308319</td>\n",
              "      <td>00:00</td>\n",
              "    </tr>\n",
              "    <tr>\n",
              "      <td>46</td>\n",
              "      <td>67.757332</td>\n",
              "      <td>396.135132</td>\n",
              "      <td>00:00</td>\n",
              "    </tr>\n",
              "    <tr>\n",
              "      <td>47</td>\n",
              "      <td>65.268044</td>\n",
              "      <td>398.308228</td>\n",
              "      <td>00:00</td>\n",
              "    </tr>\n",
              "    <tr>\n",
              "      <td>48</td>\n",
              "      <td>62.962742</td>\n",
              "      <td>401.444702</td>\n",
              "      <td>00:00</td>\n",
              "    </tr>\n",
              "    <tr>\n",
              "      <td>49</td>\n",
              "      <td>60.779812</td>\n",
              "      <td>403.444519</td>\n",
              "      <td>00:00</td>\n",
              "    </tr>\n",
              "  </tbody>\n",
              "</table>"
            ]
          },
          "metadata": {}
        }
      ]
    },
    {
      "cell_type": "code",
      "source": [
        "preds,targs = learn.get_preds()\n",
        "print(r_mse(preds,targs))\n",
        "print(preds[:10])\n",
        "print(targs[:10])"
      ],
      "metadata": {
        "colab": {
          "base_uri": "https://localhost:8080/",
          "height": 381
        },
        "id": "eo1O3alWmiKj",
        "outputId": "092d2002-51bb-4e16-96c4-91a2c5c9c43b"
      },
      "execution_count": 205,
      "outputs": [
        {
          "output_type": "display_data",
          "data": {
            "text/plain": [
              "<IPython.core.display.HTML object>"
            ],
            "text/html": [
              "\n",
              "<style>\n",
              "    /* Turns off some styling */\n",
              "    progress {\n",
              "        /* gets rid of default border in Firefox and Opera. */\n",
              "        border: none;\n",
              "        /* Needs to be in here for Safari polyfill so background images work as expected. */\n",
              "        background-size: auto;\n",
              "    }\n",
              "    .progress-bar-interrupted, .progress-bar-interrupted::-webkit-progress-bar {\n",
              "        background: #F44336;\n",
              "    }\n",
              "</style>\n"
            ]
          },
          "metadata": {}
        },
        {
          "output_type": "display_data",
          "data": {
            "text/plain": [
              "<IPython.core.display.HTML object>"
            ],
            "text/html": [
              ""
            ]
          },
          "metadata": {}
        },
        {
          "output_type": "stream",
          "name": "stdout",
          "text": [
            "20.085929\n",
            "tensor([[ -1.8626],\n",
            "        [ -6.6285],\n",
            "        [ 11.4931],\n",
            "        [ 11.5287],\n",
            "        [ 18.0202],\n",
            "        [ 30.0595],\n",
            "        [-32.5647],\n",
            "        [ -2.1462],\n",
            "        [ 11.5211],\n",
            "        [-22.4492]])\n",
            "tensor([[  4.],\n",
            "        [-13.],\n",
            "        [  0.],\n",
            "        [  5.],\n",
            "        [ -1.],\n",
            "        [ 45.],\n",
            "        [  5.],\n",
            "        [ -5.],\n",
            "        [  6.],\n",
            "        [  3.]])\n"
          ]
        }
      ]
    }
  ],
  "metadata": {
    "colab": {
      "name": "MLModel1-2.ipynb",
      "provenance": [],
      "collapsed_sections": [],
      "include_colab_link": true
    },
    "interpreter": {
      "hash": "99fae7d265480b5fbb0cf965db398c4d2d7b17b55f6259418c7dbfe0de01ea90"
    },
    "kernelspec": {
      "display_name": "Python 3 (ipykernel)",
      "language": "python",
      "name": "python3"
    },
    "language_info": {
      "codemirror_mode": {
        "name": "ipython",
        "version": 3
      },
      "file_extension": ".py",
      "mimetype": "text/x-python",
      "name": "python",
      "nbconvert_exporter": "python",
      "pygments_lexer": "ipython3",
      "version": "3.9.12"
    }
  },
  "nbformat": 4,
  "nbformat_minor": 0
}