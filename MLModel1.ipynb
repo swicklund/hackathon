{
  "cells": [
    {
      "cell_type": "markdown",
      "metadata": {
        "id": "view-in-github",
        "colab_type": "text"
      },
      "source": [
        "<a href=\"https://colab.research.google.com/github/swicklund/hackathon/blob/main/MLModel1.ipynb\" target=\"_parent\"><img src=\"https://colab.research.google.com/assets/colab-badge.svg\" alt=\"Open In Colab\"/></a>"
      ]
    },
    {
      "cell_type": "code",
      "execution_count": 89,
      "metadata": {
        "id": "f18J8QM17E0a",
        "outputId": "e662e110-492e-44cd-ee94-d4bd54fc9f49",
        "colab": {
          "base_uri": "https://localhost:8080/"
        }
      },
      "outputs": [
        {
          "output_type": "stream",
          "name": "stdout",
          "text": [
            "Looking in indexes: https://pypi.org/simple, https://us-python.pkg.dev/colab-wheels/public/simple/\n",
            "Requirement already satisfied: dtreeviz in /usr/local/lib/python3.7/dist-packages (1.3.6)\n",
            "Requirement already satisfied: colour in /usr/local/lib/python3.7/dist-packages (from dtreeviz) (0.1.5)\n",
            "Requirement already satisfied: numpy in /usr/local/lib/python3.7/dist-packages (from dtreeviz) (1.21.6)\n",
            "Requirement already satisfied: scikit-learn in /usr/local/lib/python3.7/dist-packages (from dtreeviz) (1.0.2)\n",
            "Requirement already satisfied: pandas in /usr/local/lib/python3.7/dist-packages (from dtreeviz) (1.3.5)\n",
            "Requirement already satisfied: graphviz>=0.9 in /usr/local/lib/python3.7/dist-packages (from dtreeviz) (0.10.1)\n",
            "Requirement already satisfied: pytest in /usr/local/lib/python3.7/dist-packages (from dtreeviz) (3.6.4)\n",
            "Requirement already satisfied: matplotlib in /usr/local/lib/python3.7/dist-packages (from dtreeviz) (3.2.2)\n",
            "Requirement already satisfied: python-dateutil>=2.1 in /usr/local/lib/python3.7/dist-packages (from matplotlib->dtreeviz) (2.8.2)\n",
            "Requirement already satisfied: pyparsing!=2.0.4,!=2.1.2,!=2.1.6,>=2.0.1 in /usr/local/lib/python3.7/dist-packages (from matplotlib->dtreeviz) (3.0.9)\n",
            "Requirement already satisfied: cycler>=0.10 in /usr/local/lib/python3.7/dist-packages (from matplotlib->dtreeviz) (0.11.0)\n",
            "Requirement already satisfied: kiwisolver>=1.0.1 in /usr/local/lib/python3.7/dist-packages (from matplotlib->dtreeviz) (1.4.3)\n",
            "Requirement already satisfied: typing-extensions in /usr/local/lib/python3.7/dist-packages (from kiwisolver>=1.0.1->matplotlib->dtreeviz) (4.1.1)\n",
            "Requirement already satisfied: six>=1.5 in /usr/local/lib/python3.7/dist-packages (from python-dateutil>=2.1->matplotlib->dtreeviz) (1.15.0)\n",
            "Requirement already satisfied: pytz>=2017.3 in /usr/local/lib/python3.7/dist-packages (from pandas->dtreeviz) (2022.1)\n",
            "Requirement already satisfied: setuptools in /usr/local/lib/python3.7/dist-packages (from pytest->dtreeviz) (57.4.0)\n",
            "Requirement already satisfied: more-itertools>=4.0.0 in /usr/local/lib/python3.7/dist-packages (from pytest->dtreeviz) (8.13.0)\n",
            "Requirement already satisfied: atomicwrites>=1.0 in /usr/local/lib/python3.7/dist-packages (from pytest->dtreeviz) (1.4.0)\n",
            "Requirement already satisfied: pluggy<0.8,>=0.5 in /usr/local/lib/python3.7/dist-packages (from pytest->dtreeviz) (0.7.1)\n",
            "Requirement already satisfied: py>=1.5.0 in /usr/local/lib/python3.7/dist-packages (from pytest->dtreeviz) (1.11.0)\n",
            "Requirement already satisfied: attrs>=17.4.0 in /usr/local/lib/python3.7/dist-packages (from pytest->dtreeviz) (21.4.0)\n",
            "Requirement already satisfied: threadpoolctl>=2.0.0 in /usr/local/lib/python3.7/dist-packages (from scikit-learn->dtreeviz) (3.1.0)\n",
            "Requirement already satisfied: scipy>=1.1.0 in /usr/local/lib/python3.7/dist-packages (from scikit-learn->dtreeviz) (1.4.1)\n",
            "Requirement already satisfied: joblib>=0.11 in /usr/local/lib/python3.7/dist-packages (from scikit-learn->dtreeviz) (1.1.0)\n",
            "Updated property [core/project].\n"
          ]
        }
      ],
      "source": [
        "!pip install -Uqq fastbook\n",
        "!pip install dtreeviz\n",
        "!gcloud config set project {'hackathon-352519'}\n",
        "\n",
        "import os\n",
        "\n",
        "import IPython\n",
        "import IPython.display\n",
        "import matplotlib as mpl\n",
        "import matplotlib.pyplot as plt\n",
        "import numpy as np\n",
        "import fastbook as fastai\n",
        "import pandas as pd\n",
        "from pandas.io.json import json_normalize\n",
        "import seaborn as sns\n",
        "import tensorflow as tf\n",
        "import json\n",
        "import zipfile\n",
        "from io import BytesIO\n",
        "import torch\n",
        "import math\n",
        "from google.colab import files\n",
        "from google.colab import auth\n",
        "from datetime import datetime, timedelta\n",
        "\n",
        "fastai.setup_book()\n",
        "from fastai import tabular\n"
      ]
    },
    {
      "cell_type": "code",
      "source": [
        "from pandas.api.types import is_string_dtype, is_numeric_dtype, is_categorical_dtype\n",
        "from fastai.tabular.all import *\n",
        "from sklearn.ensemble import RandomForestRegressor\n",
        "from sklearn.tree import DecisionTreeRegressor\n",
        "from dtreeviz.trees import *\n",
        "from IPython.display import Image, display_svg, SVG\n",
        "\n",
        "pd.options.display.max_rows = 20\n",
        "pd.options.display.max_columns = 8"
      ],
      "metadata": {
        "id": "wAzfcrrIByux"
      },
      "execution_count": 90,
      "outputs": []
    },
    {
      "cell_type": "code",
      "source": [
        "auth.authenticate_user()"
      ],
      "metadata": {
        "id": "_wNuGIFQT0nZ"
      },
      "execution_count": 91,
      "outputs": []
    },
    {
      "cell_type": "code",
      "execution_count": 92,
      "metadata": {
        "id": "TpnuFITI6Tzu"
      },
      "outputs": [],
      "source": [
        "# !gcloud config set project {'hackathon-352519'}"
      ]
    },
    {
      "cell_type": "code",
      "source": [
        "filename = \"train-data_all-train-events.zip\""
      ],
      "metadata": {
        "id": "M3W7KKZc8f92"
      },
      "execution_count": 93,
      "outputs": []
    },
    {
      "cell_type": "code",
      "source": [
        "!gsutil cp gs://trains_data/$filename /tmp/."
      ],
      "metadata": {
        "colab": {
          "base_uri": "https://localhost:8080/"
        },
        "id": "srQJL7OKVRww",
        "outputId": "44dc42d3-2849-45cb-de09-f2a212ef7d2a"
      },
      "execution_count": 94,
      "outputs": [
        {
          "output_type": "stream",
          "name": "stdout",
          "text": [
            "Copying gs://trains_data/train-data_all-train-events.zip...\n",
            "- [1 files][ 57.1 MiB/ 57.1 MiB]                                                \n",
            "Operation completed over 1 objects/57.1 MiB.                                     \n"
          ]
        }
      ]
    },
    {
      "cell_type": "code",
      "source": [
        "!gsutil del /tmp/$filename"
      ],
      "metadata": {
        "id": "ArLKme4t-Nyz",
        "outputId": "ce016048-a2ef-4d16-fb80-1adb554cc86a",
        "colab": {
          "base_uri": "https://localhost:8080/"
        }
      },
      "execution_count": 95,
      "outputs": [
        {
          "output_type": "stream",
          "name": "stdout",
          "text": [
            "CommandException: \"rm\" command does not support \"file://\" URLs. Did you mean to use a gs:// URL?\n"
          ]
        }
      ]
    },
    {
      "cell_type": "code",
      "execution_count": 96,
      "metadata": {
        "id": "ckXLQ7eQ7E0c",
        "colab": {
          "base_uri": "https://localhost:8080/"
        },
        "outputId": "75141d58-663a-4fb5-e979-15e3876e5b9b"
      },
      "outputs": [
        {
          "output_type": "stream",
          "name": "stdout",
          "text": [
            "1000   19:15:30\n",
            "2000   19:15:44\n",
            "3000   19:15:51\n",
            "4000   19:15:58\n",
            "5000   19:16:02\n",
            "6000   19:16:06\n",
            "7000   19:16:14\n",
            "8000   19:16:19\n",
            "9000   19:16:22\n",
            "10000   19:16:29\n"
          ]
        }
      ],
      "source": [
        "trains = {}\n",
        "i = 1\n",
        "prevLoco = ''\n",
        "with zipfile.ZipFile(\"/tmp/\"+filename, \"r\") as f:\n",
        "    for name in f.namelist():\n",
        "        if name.endswith('.json'):\n",
        "            with f.open(name) as zd:\n",
        "                data = json.load(zd)\n",
        "                lastTrainReporting = data['lastTrainReporting']\n",
        "                currentLoco = lastTrainReporting['ptcLeadLocomotiveId']\n",
        "                # prevLoco != currentLoco and \n",
        "                if (\"trainActualPositionList\" in lastTrainReporting and len(lastTrainReporting['trainActualPositionList']) > 0): \n",
        "                    trainActualPositionList = lastTrainReporting['trainActualPositionList']\n",
        "                    trains[i] = pd.json_normalize(lastTrainReporting)\n",
        "                    i = i + 1\n",
        "                    if (i % 1000 == 0):\n",
        "                      current_time = datetime.now().strftime(\"%H:%M:%S\")\n",
        "                      print(i, \" \", current_time)\n",
        "                    prevLoco = currentLoco\n",
        "                            "
      ]
    },
    {
      "cell_type": "code",
      "execution_count": 97,
      "metadata": {
        "id": "lgWV768N7E0d"
      },
      "outputs": [],
      "source": [
        "dfTrainsAll = pd.concat(trains.values())\n",
        "dfTrainsAll[\"milepost\"] = dfTrainsAll.apply(lambda row: math.trunc(row['lastReportedPosition.milepostLocation.milepost.milepostNumber']), axis=1)"
      ]
    },
    {
      "cell_type": "code",
      "source": [
        "del trains"
      ],
      "metadata": {
        "id": "Q581UU9nCWZ1"
      },
      "execution_count": 98,
      "outputs": []
    },
    {
      "cell_type": "code",
      "execution_count": 99,
      "metadata": {
        "colab": {
          "base_uri": "https://localhost:8080/"
        },
        "id": "Idznxze77E0e",
        "outputId": "72c1d746-c2bc-4598-b65d-42e415e98a50"
      },
      "outputs": [
        {
          "output_type": "stream",
          "name": "stdout",
          "text": [
            "<class 'pandas.core.frame.DataFrame'>\n",
            "Int64Index: 10054 entries, 0 to 0\n",
            "Data columns (total 45 columns):\n",
            " #   Column                                                                     Non-Null Count  Dtype  \n",
            "---  ------                                                                     --------------  -----  \n",
            " 0   ptcLeadLocomotiveId                                                        10054 non-null  object \n",
            " 1   maximumTrainSpeed                                                          10053 non-null  float64\n",
            " 2   loadedCarCount                                                             10053 non-null  float64\n",
            " 3   emptyCarCount                                                              10053 non-null  float64\n",
            " 4   trainLength                                                                10053 non-null  float64\n",
            " 5   trailingTonnage                                                            10053 non-null  float64\n",
            " 6   positionHistoryList                                                        10054 non-null  object \n",
            " 7   locomotiveList                                                             10054 non-null  object \n",
            " 8   subdivisionList                                                            10054 non-null  object \n",
            " 9   trainEstimatedPositionList                                                 9623 non-null   object \n",
            " 10  trainActualPositionList                                                    10054 non-null  object \n",
            " 11  trainId.trainSCAC                                                          10054 non-null  object \n",
            " 12  trainId.trainSection                                                       10054 non-null  object \n",
            " 13  trainId.trainSymbol                                                        10054 non-null  object \n",
            " 14  trainId.trainDate                                                          10054 non-null  object \n",
            " 15  lastReportedPosition.positionTime                                          10054 non-null  object \n",
            " 16  lastReportedPosition.speedMPH                                              10054 non-null  int64  \n",
            " 17  lastReportedPosition.milepostLocation.subdivisionId                        10054 non-null  int64  \n",
            " 18  lastReportedPosition.milepostLocation.trackName                            10054 non-null  object \n",
            " 19  lastReportedPosition.milepostLocation.milepost.milepostNumber              10054 non-null  float64\n",
            " 20  aotuTrainData.priorityCode                                                 10054 non-null  int64  \n",
            " 21  aotuTrainData.categoryCode                                                 10054 non-null  int64  \n",
            " 22  aotuTrainData.authorityRangeCode                                           10054 non-null  int64  \n",
            " 23  aotuTrainData.ownershipCode                                                10054 non-null  int64  \n",
            " 24  aotuTrainData.tenantCarrier                                                10054 non-null  object \n",
            " 25  aotuTrainData.totalCarWeight                                               10054 non-null  float64\n",
            " 26  aotuTrainData.totalCarLength                                               10054 non-null  float64\n",
            " 27  aotuTrainData.totalLocomotiveWeight                                        10054 non-null  float64\n",
            " 28  aotuTrainData.totalLocomotiveLength                                        10054 non-null  float64\n",
            " 29  aotuTrainData.actualTonsPerAxle                                            10054 non-null  float64\n",
            " 30  aotuTrainData.heavy143TonCarCount                                          10054 non-null  int64  \n",
            " 31  aotuTrainData.heavy158TonCarCount                                          10054 non-null  int64  \n",
            " 32  aotuTrainData.over158TonCarCount                                           10054 non-null  int64  \n",
            " 33  aotuTrainData.highWideCarCount                                             10054 non-null  int64  \n",
            " 34  aotuTrainData.eventCode                                                    10054 non-null  int64  \n",
            " 35  aotuTrainData.routeLocationList                                            10054 non-null  object \n",
            " 36  lastReportedPosition.precedingSignalState.milepostLocation.milepostNumber  8017 non-null   float64\n",
            " 37  lastReportedPosition.precedingSignalState.previousSignalState              6280 non-null   float64\n",
            " 38  lastReportedPosition.precedingSignalState.currentStateTime                 6280 non-null   object \n",
            " 39  lastReportedPosition.precedingSignalState.signalState                      8017 non-null   float64\n",
            " 40  lastReportedPosition.nextSignalState.milepostLocation.milepostNumber       7996 non-null   float64\n",
            " 41  lastReportedPosition.nextSignalState.signalState                           7996 non-null   float64\n",
            " 42  lastReportedPosition.nextSignalState.previousSignalState                   3345 non-null   float64\n",
            " 43  lastReportedPosition.nextSignalState.currentStateTime                      3345 non-null   object \n",
            " 44  milepost                                                                   10054 non-null  int64  \n",
            "dtypes: float64(17), int64(12), object(16)\n",
            "memory usage: 3.5+ MB\n",
            "None\n",
            "(10054, 45)\n"
          ]
        }
      ],
      "source": [
        "print(dfTrainsAll.info())\n",
        "print(dfTrainsAll.shape)"
      ]
    },
    {
      "cell_type": "code",
      "source": [
        "dfTrainsLearn = dfTrainsAll\n",
        "dfTrainsLearn['lastReportedPosition.milepostLocation.trackName'] = dfTrainsLearn['lastReportedPosition.milepostLocation.trackName'].astype('category')\n",
        "dfTrainsLearn['lastReportedPosition.milepostLocation.trackName'] = dfTrainsLearn['lastReportedPosition.milepostLocation.trackName'].cat.set_categories(['WEST MAIN', 'MAIN', 'MT 2', 'MT 1', 'WESTXO', 'XO', 'EASTXO','YD LD', 'EAST MAIN', 'TO_N_EAST MAIN', 'TO_S_UP_MAINLINE', 'TO_S_CS JUNCTION', 'S_STARKS', 'TO_S_KCS UP PRT CONN', 'TO_N_LUCAS', 'S_LUCAS'])\n",
        "#dfTrainsLearn['lastReportedSpeedMPH'] = dfTrainsLearn.apply(lambda row: row['positionHistoryList'][0]['speedMPH'], axis=1)\n",
        "dfTrainsLearn['symbolType'] = dfTrainsLearn.apply(lambda row: row['trainId.trainSymbol'][:1], axis=1)\n",
        "dfTrainsLearn['symbolType'] = dfTrainsLearn['symbolType'].astype('category')\n",
        "dfTrainsLearn['symbolType'] = dfTrainsLearn['symbolType'].cat.set_categories(['A' 'Q' 'M' 'H' 'G' 'U' 'O' 'I' 'E' 'C' 'Y' 'L' 'Z' 'S' 'R' 'W'])\n"
      ],
      "metadata": {
        "id": "DParW0UUrZKv"
      },
      "execution_count": 100,
      "outputs": []
    },
    {
      "cell_type": "code",
      "source": [
        "def getWorkLocations(dfTrainsLocation):\n",
        "  if len(dfTrainsLocation['aotuTrainData.routeLocationList']) == 0:\n",
        "    return None\n",
        "  aotuRoute=pd.json_normalize(dfTrainsLocation['aotuTrainData.routeLocationList']) \n",
        "  eventLocations = aotuRoute[aotuRoute['activityList'].map(len) > 1]\n",
        "  temp = eventLocations['milepost.milepostNumber'].unique()\n",
        "  if len(temp) == 0:\n",
        "    return None\n",
        "  return ','.join(['%.2f' % num for num in temp])"
      ],
      "metadata": {
        "id": "TsYgT41SKyAn"
      },
      "execution_count": 101,
      "outputs": []
    },
    {
      "cell_type": "code",
      "source": [
        "#getWorkLocations(dfTrainsLearn.iloc[301])"
      ],
      "metadata": {
        "id": "PM-Q6r-A2JNS"
      },
      "execution_count": 102,
      "outputs": []
    },
    {
      "cell_type": "code",
      "source": [
        "#dfTrainsLearn.loc[dfTrainsLearn['aotuTrainData.routeLocationList'].map(len)==0]"
      ],
      "metadata": {
        "id": "fK5apSV-R6NF"
      },
      "execution_count": 103,
      "outputs": []
    },
    {
      "cell_type": "code",
      "source": [
        "dfTrainsLearn['workLocations'] = dfTrainsLearn.apply(lambda row: getWorkLocations(row), axis=1)"
      ],
      "metadata": {
        "id": "5sNuNU-iSgFy"
      },
      "execution_count": 104,
      "outputs": []
    },
    {
      "cell_type": "code",
      "source": [
        "dfTrainsLearn['workLocations'].unique()"
      ],
      "metadata": {
        "colab": {
          "base_uri": "https://localhost:8080/"
        },
        "id": "jA6cNsHR8VSr",
        "outputId": "3e70730b-d514-46ab-9eb7-3cc29091d7b0"
      },
      "execution_count": 105,
      "outputs": [
        {
          "output_type": "execute_result",
          "data": {
            "text/plain": [
              "array([None, '202.20', '258.40,202.20', '202.20,258.40', '202.20,258.40,321.50', '202.92,202.20', '225.10,202.20', '240.90,202.20'], dtype=object)"
            ]
          },
          "metadata": {},
          "execution_count": 105
        }
      ]
    },
    {
      "cell_type": "markdown",
      "source": [
        "We can make this more clever later, but for now this seems the most sensible shortcut"
      ],
      "metadata": {
        "id": "-AZiJPI24QO9"
      }
    },
    {
      "cell_type": "code",
      "source": [
        "dfTrainsLearn['locomotiveCount'] = dfTrainsLearn.apply(lambda row: len(row['locomotiveList']),axis = 1)"
      ],
      "metadata": {
        "id": "LuG8-GNBzwrF"
      },
      "execution_count": 106,
      "outputs": []
    },
    {
      "cell_type": "code",
      "source": [
        "dfTrainsLearnActuals = dfTrainsLearn.apply(lambda row: pd.json_normalize(row['trainActualPositionList']), axis=1)"
      ],
      "metadata": {
        "id": "Ag-KbEfz4Is8"
      },
      "execution_count": 107,
      "outputs": []
    },
    {
      "cell_type": "code",
      "source": [
        "dfTrainsLearnActuals"
      ],
      "metadata": {
        "colab": {
          "base_uri": "https://localhost:8080/"
        },
        "id": "r_gdrmU4IgpY",
        "outputId": "18ba6e4f-16d1-46d7-cfa3-6319ac621b87"
      },
      "execution_count": 134,
      "outputs": [
        {
          "output_type": "execute_result",
          "data": {
            "text/plain": [
              "0               positionTime  speedMPH  milepostLocation.subdivisionId  \\\n",
              "0  2022-04-21T23:33:08Z       -10                             106   \n",
              "1  2022-04-21T23:35:08Z       -10                             106   \n",
              "2  2022-04-21T23:37:08Z       -10                             106   \n",
              "3  2022-04-21T23:39:08Z        -8                             106   \n",
              "4  2022-04-21T23:41:08Z        -8                             106   \n",
              "\n",
              "  milepostLocation.trackName  milepostLocation.milepost.milepostNumber  \n",
              "0                  WEST MAIN                                  766.5422  \n",
              "1             WEST MAIN-MAIN       ...\n",
              "0               positionTime  speedMPH  milepostLocation.subdivisionId  \\\n",
              "0  2022-04-21T23:34:11Z       -10                             106   \n",
              "1  2022-04-21T23:36:11Z       -10                             106   \n",
              "2  2022-04-21T23:38:11Z        -9                             106   \n",
              "3  2022-04-21T23:40:11Z        -8                             106   \n",
              "4  2022-04-21T23:42:11Z        -9                             106   \n",
              "\n",
              "  milepostLocation.trackName  milepostLocation.milepost.milepostNumber  \n",
              "0                  WEST MAIN                                 766.36030  \n",
              "1                       MAIN       ...\n",
              "0               positionTime  speedMPH  milepostLocation.subdivisionId  \\\n",
              "0  2022-04-21T23:35:00Z       -10                             106   \n",
              "1  2022-04-21T23:37:00Z       -10                             106   \n",
              "2  2022-04-21T23:39:00Z        -8                             106   \n",
              "3  2022-04-21T23:41:00Z        -8                             106   \n",
              "\n",
              "  milepostLocation.trackName  milepostLocation.milepost.milepostNumber  \n",
              "0             WEST MAIN-MAIN                                 766.21893  \n",
              "1                       MAIN                                 765.87910  \n",
              "2                       MAIN   ...\n",
              "0               positionTime  speedMPH  milepostLocation.subdivisionId  \\\n",
              "0  2022-04-21T23:35:45Z       -10                             106   \n",
              "1  2022-04-21T23:37:45Z       -10                             106   \n",
              "2  2022-04-21T23:39:45Z        -8                             106   \n",
              "3  2022-04-21T23:41:45Z        -9                             106   \n",
              "\n",
              "  milepostLocation.trackName  milepostLocation.milepost.milepostNumber  \n",
              "0             WEST MAIN-MAIN                                 766.09143  \n",
              "1                       MAIN                                 765.75380  \n",
              "2                       MAIN   ...\n",
              "0               positionTime  speedMPH  milepostLocation.subdivisionId  \\\n",
              "0  2022-04-21T23:36:24Z       -10                             106   \n",
              "1  2022-04-21T23:38:24Z        -9                             106   \n",
              "2  2022-04-21T23:40:24Z        -8                             106   \n",
              "3  2022-04-21T23:42:24Z        -9                             106   \n",
              "\n",
              "  milepostLocation.trackName  milepostLocation.milepost.milepostNumber  \n",
              "0                       MAIN                                 765.98100  \n",
              "1                       MAIN                                 765.65310  \n",
              "2                       MAIN   ...\n",
              "                                                                                                                                                                                                                                                                                                              ...                                                                                                                                                                                                                                                                                                           \n",
              "0               positionTime  speedMPH  milepostLocation.subdivisionId  \\\n",
              "0  2022-04-11T00:38:28Z        29                             106   \n",
              "1  2022-04-11T00:40:28Z        27                             106   \n",
              "2  2022-04-11T00:42:28Z        26                             106   \n",
              "3  2022-04-11T00:44:28Z        25                             106   \n",
              "\n",
              "  milepostLocation.trackName  ...  \\\n",
              "0                       MT 1  ...   \n",
              "1                       MT 1  ...   \n",
              "2                       MT 1  ...   \n",
              "3                       MT 1  ...   \n",
              "\n",
              "   nextSignalState.milepostLocation.milepostNumber  \\\n",
              "0         ...\n",
              "0               positionTime  speedMPH  milepostLocation.subdivisionId  \\\n",
              "0  2022-04-11T00:38:59Z        29                             106   \n",
              "1  2022-04-11T00:40:59Z        27                             106   \n",
              "2  2022-04-11T00:42:59Z        25                             106   \n",
              "3  2022-04-11T00:44:59Z        25                             106   \n",
              "\n",
              "  milepostLocation.trackName  ...  \\\n",
              "0                       MT 1  ...   \n",
              "1                       MT 1  ...   \n",
              "2                       MT 1  ...   \n",
              "3                       MT 1  ...   \n",
              "\n",
              "   nextSignalState.milepostLocation.milepostNumber  \\\n",
              "0         ...\n",
              "0               positionTime  speedMPH  milepostLocation.subdivisionId  \\\n",
              "0  2022-04-11T00:39:29Z        28                             106   \n",
              "1  2022-04-11T00:41:29Z        26                             106   \n",
              "2  2022-04-11T00:43:29Z        25                             106   \n",
              "\n",
              "  milepostLocation.trackName  ...  precedingSignalState.currentStateTime  \\\n",
              "0                       MT 1  ...                   2022-04-11T00:36:59Z   \n",
              "1                       MT 1  ...                   2022-04-11T00:40:43Z   \n",
              "2                       MT 1  ...                   2022-04-11T00:40:43Z   \n",
              "\n",
              "   precedingSi...\n",
              "0               positionTime  speedMPH  milepostLocation.subdivisionId  \\\n",
              "0  2022-04-11T00:39:53Z        28                             106   \n",
              "1  2022-04-11T00:41:53Z        26                             106   \n",
              "2  2022-04-11T00:43:53Z        25                             106   \n",
              "\n",
              "  milepostLocation.trackName  ...  precedingSignalState.currentStateTime  \\\n",
              "0                       MT 1  ...                   2022-04-11T00:36:59Z   \n",
              "1                       MT 1  ...                   2022-04-11T00:40:43Z   \n",
              "2                       MT 1  ...                   2022-04-11T00:40:43Z   \n",
              "\n",
              "   precedingSi...\n",
              "0                                                    positionTime  speedMPH  milepostLocation.subdivisionId  \\\n",
              "0  2022-04-11T00:44:36Z        25                             106   \n",
              "\n",
              "  milepostLocation.trackName  ...  \\\n",
              "0                       MT 1  ...   \n",
              "\n",
              "   nextSignalState.milepostLocation.milepostNumber  \\\n",
              "0                                           252.46   \n",
              "\n",
              "   nextSignalState.previousSignalState  nextSignalState.currentStateTime  \\\n",
              "0                                    4              2022-04-11T00:32:59Z   \n",
              "\n",
              "  nextSignalState.signalState  \n",
              "0                           4  \n",
              "\n",
              "[1 rows x 13 columns]\n",
              "Length: 10054, dtype: object"
            ]
          },
          "metadata": {},
          "execution_count": 134
        }
      ]
    },
    {
      "cell_type": "code",
      "source": [
        "dfTrainsBeop =  dfTrainsLearn[['lastReportedPosition.milepostLocation.milepost.milepostNumber','trainEstimatedPositionList']]\n",
        "dfTrainsBeop"
      ],
      "metadata": {
        "id": "1FsMwzd7xSLZ",
        "outputId": "bef830a6-26f8-4e6b-b7b3-ed6e9c5f010d",
        "colab": {
          "base_uri": "https://localhost:8080/",
          "height": 641
        }
      },
      "execution_count": 136,
      "outputs": [
        {
          "output_type": "execute_result",
          "data": {
            "text/plain": [
              "       lastReportedPosition.milepostLocation.milepost.milepostNumber  \\\n",
              "0                                                           766.9304   \n",
              "1                                                           766.7188   \n",
              "2                                                           766.5653   \n",
              "3                                                           766.4352   \n",
              "4                                                           766.3228   \n",
              "...                                                              ...   \n",
              "10049                                                       247.7004   \n",
              "10050                                                       247.9916   \n",
              "10051                                                       248.2571   \n",
              "10052                                                       248.4556   \n",
              "10053                                                       250.5174   \n",
              "\n",
              "                                                                                                                                                                                                                                                                                                                                                                                                                                                                                                                                                                                                    trainEstimatedPositionList  \n",
              "0      [{'positionTime': '2022-04-21T23:31:08Z', 'speedMPH': -12, 'milepostLocation': {'subdivisionId': 106, 'trackName': 'WEST MAIN', 'milepost': {'milepostNumber': 766.9304}}}, {'positionTime': '2022-04-21T23:33:08Z', 'speedMPH': -19, 'milepostLocation': {'subdivisionId': 106, 'trackName': 'WEST MAIN', 'milepost': {'milepostNumber': 766.4076}}}, {'positionTime': '2022-04-21T23:35:08Z', 'speedMPH': -25, 'milepostLocation': {'subdivisionId': 106, 'trackName': 'WEST MAIN', 'milepost': {'milepostNumber': 765.6378}}}, {'positionTime': '2022-04-21T23:37:08Z', 'speedMPH': -30, 'milepostLocation': {'su...  \n",
              "1      [{'positionTime': '2022-04-21T23:32:11Z', 'speedMPH': -11, 'milepostLocation': {'subdivisionId': 106, 'trackName': 'WEST MAIN', 'milepost': {'milepostNumber': 766.7188}}}, {'positionTime': '2022-04-21T23:34:11Z', 'speedMPH': -19, 'milepostLocation': {'subdivisionId': 106, 'trackName': 'WEST MAIN', 'milepost': {'milepostNumber': 766.2204}}}, {'positionTime': '2022-04-21T23:36:11Z', 'speedMPH': -25, 'milepostLocation': {'subdivisionId': 106, 'trackName': 'WEST MAIN', 'milepost': {'milepostNumber': 765.4652}}}, {'positionTime': '2022-04-21T23:38:11Z', 'speedMPH': -30, 'milepostLocation': {'su...  \n",
              "2      [{'positionTime': '2022-04-21T23:33:00Z', 'speedMPH': -10, 'milepostLocation': {'subdivisionId': 106, 'trackName': 'WEST MAIN', 'milepost': {'milepostNumber': 766.5653}}}, {'positionTime': '2022-04-21T23:35:00Z', 'speedMPH': -18, 'milepostLocation': {'subdivisionId': 106, 'trackName': 'WEST MAIN', 'milepost': {'milepostNumber': 766.0905}}}, {'positionTime': '2022-04-21T23:37:00Z', 'speedMPH': -25, 'milepostLocation': {'subdivisionId': 106, 'trackName': 'WEST MAIN', 'milepost': {'milepostNumber': 765.349}}}, {'positionTime': '2022-04-21T23:39:00Z', 'speedMPH': -30, 'milepostLocation': {'sub...  \n",
              "3      [{'positionTime': '2022-04-21T23:33:45Z', 'speedMPH': -10, 'milepostLocation': {'subdivisionId': 106, 'trackName': 'WEST MAIN', 'milepost': {'milepostNumber': 766.4352}}}, {'positionTime': '2022-04-21T23:35:45Z', 'speedMPH': -18, 'milepostLocation': {'subdivisionId': 106, 'trackName': 'WEST MAIN', 'milepost': {'milepostNumber': 765.9604}}}, {'positionTime': '2022-04-21T23:37:45Z', 'speedMPH': -25, 'milepostLocation': {'subdivisionId': 106, 'trackName': 'WEST MAIN', 'milepost': {'milepostNumber': 765.2188}}}, {'positionTime': '2022-04-21T23:39:45Z', 'speedMPH': -30, 'milepostLocation': {'su...  \n",
              "4      [{'positionTime': '2022-04-21T23:34:24Z', 'speedMPH': -10, 'milepostLocation': {'subdivisionId': 106, 'trackName': 'WEST MAIN', 'milepost': {'milepostNumber': 766.3228}}}, {'positionTime': '2022-04-21T23:36:24Z', 'speedMPH': -18, 'milepostLocation': {'subdivisionId': 106, 'trackName': 'WEST MAIN', 'milepost': {'milepostNumber': 765.848}}}, {'positionTime': '2022-04-21T23:38:24Z', 'speedMPH': -25, 'milepostLocation': {'subdivisionId': 106, 'trackName': 'WEST MAIN', 'milepost': {'milepostNumber': 765.1065}}}, {'positionTime': '2022-04-21T23:40:24Z', 'speedMPH': -30, 'milepostLocation': {'sub...  \n",
              "...                                                                                                                                                                                                                                                                                                                                                                                                                                                                                                                                                                                                                        ...  \n",
              "10049                                                                                                                                                                                                                                                                                                                                                                                                                                                                                                                                                                                                                       []  \n",
              "10050                                                                                                                                                                                                                                                                                                                                                                                                                                                                                                                                                                                                                       []  \n",
              "10051                                                                                                                                                                                                                                                                                                                                                                                                                                                                                                                                                                                                                       []  \n",
              "10052                                                                                                                                                                                                                                                                                                                                                                                                                                                                                                                                                                                                                       []  \n",
              "10053                                                                                                                                                                                                                                                                                                                                                                                                                                                                                                                                                                                                                       []  \n",
              "\n",
              "[10054 rows x 2 columns]"
            ],
            "text/html": [
              "\n",
              "  <div id=\"df-66e5cab4-05ef-4712-accc-c3d2f9fead19\">\n",
              "    <div class=\"colab-df-container\">\n",
              "      <div>\n",
              "<style scoped>\n",
              "    .dataframe tbody tr th:only-of-type {\n",
              "        vertical-align: middle;\n",
              "    }\n",
              "\n",
              "    .dataframe tbody tr th {\n",
              "        vertical-align: top;\n",
              "    }\n",
              "\n",
              "    .dataframe thead th {\n",
              "        text-align: right;\n",
              "    }\n",
              "</style>\n",
              "<table border=\"1\" class=\"dataframe\">\n",
              "  <thead>\n",
              "    <tr style=\"text-align: right;\">\n",
              "      <th></th>\n",
              "      <th>lastReportedPosition.milepostLocation.milepost.milepostNumber</th>\n",
              "      <th>trainEstimatedPositionList</th>\n",
              "    </tr>\n",
              "  </thead>\n",
              "  <tbody>\n",
              "    <tr>\n",
              "      <th>0</th>\n",
              "      <td>766.9304</td>\n",
              "      <td>[{'positionTime': '2022-04-21T23:31:08Z', 'speedMPH': -12, 'milepostLocation': {'subdivisionId': 106, 'trackName': 'WEST MAIN', 'milepost': {'milepostNumber': 766.9304}}}, {'positionTime': '2022-04-21T23:33:08Z', 'speedMPH': -19, 'milepostLocation': {'subdivisionId': 106, 'trackName': 'WEST MAIN', 'milepost': {'milepostNumber': 766.4076}}}, {'positionTime': '2022-04-21T23:35:08Z', 'speedMPH': -25, 'milepostLocation': {'subdivisionId': 106, 'trackName': 'WEST MAIN', 'milepost': {'milepostNumber': 765.6378}}}, {'positionTime': '2022-04-21T23:37:08Z', 'speedMPH': -30, 'milepostLocation': {'su...</td>\n",
              "    </tr>\n",
              "    <tr>\n",
              "      <th>1</th>\n",
              "      <td>766.7188</td>\n",
              "      <td>[{'positionTime': '2022-04-21T23:32:11Z', 'speedMPH': -11, 'milepostLocation': {'subdivisionId': 106, 'trackName': 'WEST MAIN', 'milepost': {'milepostNumber': 766.7188}}}, {'positionTime': '2022-04-21T23:34:11Z', 'speedMPH': -19, 'milepostLocation': {'subdivisionId': 106, 'trackName': 'WEST MAIN', 'milepost': {'milepostNumber': 766.2204}}}, {'positionTime': '2022-04-21T23:36:11Z', 'speedMPH': -25, 'milepostLocation': {'subdivisionId': 106, 'trackName': 'WEST MAIN', 'milepost': {'milepostNumber': 765.4652}}}, {'positionTime': '2022-04-21T23:38:11Z', 'speedMPH': -30, 'milepostLocation': {'su...</td>\n",
              "    </tr>\n",
              "    <tr>\n",
              "      <th>2</th>\n",
              "      <td>766.5653</td>\n",
              "      <td>[{'positionTime': '2022-04-21T23:33:00Z', 'speedMPH': -10, 'milepostLocation': {'subdivisionId': 106, 'trackName': 'WEST MAIN', 'milepost': {'milepostNumber': 766.5653}}}, {'positionTime': '2022-04-21T23:35:00Z', 'speedMPH': -18, 'milepostLocation': {'subdivisionId': 106, 'trackName': 'WEST MAIN', 'milepost': {'milepostNumber': 766.0905}}}, {'positionTime': '2022-04-21T23:37:00Z', 'speedMPH': -25, 'milepostLocation': {'subdivisionId': 106, 'trackName': 'WEST MAIN', 'milepost': {'milepostNumber': 765.349}}}, {'positionTime': '2022-04-21T23:39:00Z', 'speedMPH': -30, 'milepostLocation': {'sub...</td>\n",
              "    </tr>\n",
              "    <tr>\n",
              "      <th>3</th>\n",
              "      <td>766.4352</td>\n",
              "      <td>[{'positionTime': '2022-04-21T23:33:45Z', 'speedMPH': -10, 'milepostLocation': {'subdivisionId': 106, 'trackName': 'WEST MAIN', 'milepost': {'milepostNumber': 766.4352}}}, {'positionTime': '2022-04-21T23:35:45Z', 'speedMPH': -18, 'milepostLocation': {'subdivisionId': 106, 'trackName': 'WEST MAIN', 'milepost': {'milepostNumber': 765.9604}}}, {'positionTime': '2022-04-21T23:37:45Z', 'speedMPH': -25, 'milepostLocation': {'subdivisionId': 106, 'trackName': 'WEST MAIN', 'milepost': {'milepostNumber': 765.2188}}}, {'positionTime': '2022-04-21T23:39:45Z', 'speedMPH': -30, 'milepostLocation': {'su...</td>\n",
              "    </tr>\n",
              "    <tr>\n",
              "      <th>4</th>\n",
              "      <td>766.3228</td>\n",
              "      <td>[{'positionTime': '2022-04-21T23:34:24Z', 'speedMPH': -10, 'milepostLocation': {'subdivisionId': 106, 'trackName': 'WEST MAIN', 'milepost': {'milepostNumber': 766.3228}}}, {'positionTime': '2022-04-21T23:36:24Z', 'speedMPH': -18, 'milepostLocation': {'subdivisionId': 106, 'trackName': 'WEST MAIN', 'milepost': {'milepostNumber': 765.848}}}, {'positionTime': '2022-04-21T23:38:24Z', 'speedMPH': -25, 'milepostLocation': {'subdivisionId': 106, 'trackName': 'WEST MAIN', 'milepost': {'milepostNumber': 765.1065}}}, {'positionTime': '2022-04-21T23:40:24Z', 'speedMPH': -30, 'milepostLocation': {'sub...</td>\n",
              "    </tr>\n",
              "    <tr>\n",
              "      <th>...</th>\n",
              "      <td>...</td>\n",
              "      <td>...</td>\n",
              "    </tr>\n",
              "    <tr>\n",
              "      <th>10049</th>\n",
              "      <td>247.7004</td>\n",
              "      <td>[]</td>\n",
              "    </tr>\n",
              "    <tr>\n",
              "      <th>10050</th>\n",
              "      <td>247.9916</td>\n",
              "      <td>[]</td>\n",
              "    </tr>\n",
              "    <tr>\n",
              "      <th>10051</th>\n",
              "      <td>248.2571</td>\n",
              "      <td>[]</td>\n",
              "    </tr>\n",
              "    <tr>\n",
              "      <th>10052</th>\n",
              "      <td>248.4556</td>\n",
              "      <td>[]</td>\n",
              "    </tr>\n",
              "    <tr>\n",
              "      <th>10053</th>\n",
              "      <td>250.5174</td>\n",
              "      <td>[]</td>\n",
              "    </tr>\n",
              "  </tbody>\n",
              "</table>\n",
              "<p>10054 rows × 2 columns</p>\n",
              "</div>\n",
              "      <button class=\"colab-df-convert\" onclick=\"convertToInteractive('df-66e5cab4-05ef-4712-accc-c3d2f9fead19')\"\n",
              "              title=\"Convert this dataframe to an interactive table.\"\n",
              "              style=\"display:none;\">\n",
              "        \n",
              "  <svg xmlns=\"http://www.w3.org/2000/svg\" height=\"24px\"viewBox=\"0 0 24 24\"\n",
              "       width=\"24px\">\n",
              "    <path d=\"M0 0h24v24H0V0z\" fill=\"none\"/>\n",
              "    <path d=\"M18.56 5.44l.94 2.06.94-2.06 2.06-.94-2.06-.94-.94-2.06-.94 2.06-2.06.94zm-11 1L8.5 8.5l.94-2.06 2.06-.94-2.06-.94L8.5 2.5l-.94 2.06-2.06.94zm10 10l.94 2.06.94-2.06 2.06-.94-2.06-.94-.94-2.06-.94 2.06-2.06.94z\"/><path d=\"M17.41 7.96l-1.37-1.37c-.4-.4-.92-.59-1.43-.59-.52 0-1.04.2-1.43.59L10.3 9.45l-7.72 7.72c-.78.78-.78 2.05 0 2.83L4 21.41c.39.39.9.59 1.41.59.51 0 1.02-.2 1.41-.59l7.78-7.78 2.81-2.81c.8-.78.8-2.07 0-2.86zM5.41 20L4 18.59l7.72-7.72 1.47 1.35L5.41 20z\"/>\n",
              "  </svg>\n",
              "      </button>\n",
              "      \n",
              "  <style>\n",
              "    .colab-df-container {\n",
              "      display:flex;\n",
              "      flex-wrap:wrap;\n",
              "      gap: 12px;\n",
              "    }\n",
              "\n",
              "    .colab-df-convert {\n",
              "      background-color: #E8F0FE;\n",
              "      border: none;\n",
              "      border-radius: 50%;\n",
              "      cursor: pointer;\n",
              "      display: none;\n",
              "      fill: #1967D2;\n",
              "      height: 32px;\n",
              "      padding: 0 0 0 0;\n",
              "      width: 32px;\n",
              "    }\n",
              "\n",
              "    .colab-df-convert:hover {\n",
              "      background-color: #E2EBFA;\n",
              "      box-shadow: 0px 1px 2px rgba(60, 64, 67, 0.3), 0px 1px 3px 1px rgba(60, 64, 67, 0.15);\n",
              "      fill: #174EA6;\n",
              "    }\n",
              "\n",
              "    [theme=dark] .colab-df-convert {\n",
              "      background-color: #3B4455;\n",
              "      fill: #D2E3FC;\n",
              "    }\n",
              "\n",
              "    [theme=dark] .colab-df-convert:hover {\n",
              "      background-color: #434B5C;\n",
              "      box-shadow: 0px 1px 3px 1px rgba(0, 0, 0, 0.15);\n",
              "      filter: drop-shadow(0px 1px 2px rgba(0, 0, 0, 0.3));\n",
              "      fill: #FFFFFF;\n",
              "    }\n",
              "  </style>\n",
              "\n",
              "      <script>\n",
              "        const buttonEl =\n",
              "          document.querySelector('#df-66e5cab4-05ef-4712-accc-c3d2f9fead19 button.colab-df-convert');\n",
              "        buttonEl.style.display =\n",
              "          google.colab.kernel.accessAllowed ? 'block' : 'none';\n",
              "\n",
              "        async function convertToInteractive(key) {\n",
              "          const element = document.querySelector('#df-66e5cab4-05ef-4712-accc-c3d2f9fead19');\n",
              "          const dataTable =\n",
              "            await google.colab.kernel.invokeFunction('convertToInteractive',\n",
              "                                                     [key], {});\n",
              "          if (!dataTable) return;\n",
              "\n",
              "          const docLinkHtml = 'Like what you see? Visit the ' +\n",
              "            '<a target=\"_blank\" href=https://colab.research.google.com/notebooks/data_table.ipynb>data table notebook</a>'\n",
              "            + ' to learn more about interactive tables.';\n",
              "          element.innerHTML = '';\n",
              "          dataTable['output_type'] = 'display_data';\n",
              "          await google.colab.output.renderOutput(dataTable, element);\n",
              "          const docLink = document.createElement('div');\n",
              "          docLink.innerHTML = docLinkHtml;\n",
              "          element.appendChild(docLink);\n",
              "        }\n",
              "      </script>\n",
              "    </div>\n",
              "  </div>\n",
              "  "
            ]
          },
          "metadata": {},
          "execution_count": 136
        }
      ]
    },
    {
      "cell_type": "code",
      "source": [
        "dfTrainsLearn = dfTrainsLearn.reset_index(drop=True)"
      ],
      "metadata": {
        "id": "Kw_c3Ddj4zN4"
      },
      "execution_count": 109,
      "outputs": []
    },
    {
      "cell_type": "code",
      "source": [
        "def findNextMilepost(trainsEntry, actualsEntry):\n",
        "  currMilepost = trainsEntry['lastReportedPosition.milepostLocation.milepost.milepostNumber']\n",
        "  value  = actualsEntry.loc[actualsEntry['milepostLocation.milepost.milepostNumber'] > currMilepost+1]\n",
        "  if (len(value) > 0) :\n",
        "    return value.min()\n",
        "  value  = actualsEntry.loc[actualsEntry['milepostLocation.milepost.milepostNumber'] < currMilepost-1]\n",
        "  if (len(value) > 0):\n",
        "    return value.max()\n",
        "  return []"
      ],
      "metadata": {
        "id": "-gfZhQNSsxeV"
      },
      "execution_count": 233,
      "outputs": []
    },
    {
      "cell_type": "code",
      "source": [
        "def findNextSpeed(trainsEntry, actualsEntry):\n",
        "  nextActual = findNextMilepost(trainsEntry, actualsEntry)\n",
        "  if (len(nextActual) > 0):\n",
        "    amt = (abs(nextActual['speedMPH']) - abs(trainsEntry['lastReportedPosition.speedMPH']))\n",
        "    return amt;\n",
        "  return None"
      ],
      "metadata": {
        "id": "i_JszmqL0MR6"
      },
      "execution_count": 237,
      "outputs": []
    },
    {
      "cell_type": "code",
      "source": [
        "idx = 300\n",
        "print(dfTrainsLearn.iloc[idx]['trainId.trainSymbol'])\n",
        "print(dfTrainsLearn.iloc[idx]['lastReportedPosition.speedMPH'])\n",
        "nextActual = findNextMilepost(dfTrainsLearn.iloc[idx], dfTrainsLearnActuals.iloc[idx])\n",
        "print(nextActual)\n",
        "beopJSON = dfTrainsBeop.iloc[idx]['trainEstimatedPositionList']\n",
        "if not type(beopJSON) is float and len(beopJSON) > 0:\n",
        "  beopDT = pd.json_normalize(beopJSON)\n",
        "  nextBeop = findNextMilepost(dfTrainsLearn.iloc[idx], beopDT)\n",
        "  print(nextBeop)\n",
        "  type(dfTrainsBeop.iloc[idx]['trainEstimatedPositionList'])\n",
        "  print(findNextSpeed(dfTrainsLearn.iloc[idx], beopDT))\n",
        "else:\n",
        "  print('na')"
      ],
      "metadata": {
        "id": "F_hQFHKztIu-",
        "outputId": "c0b7f7de-72c6-42ca-c617-f267dcaf3d61",
        "colab": {
          "base_uri": "https://localhost:8080/"
        }
      },
      "execution_count": 263,
      "outputs": [
        {
          "output_type": "stream",
          "name": "stdout",
          "text": [
            "ZG2BRB\n",
            "65\n",
            "positionTime                                2022-04-10T04:39:12Z\n",
            "speedMPH                                                      39\n",
            "milepostLocation.subdivisionId                               106\n",
            "milepostLocation.trackName                                  MT 1\n",
            "milepostLocation.milepost.milepostNumber               287.96017\n",
            "dtype: object\n",
            "na\n"
          ]
        }
      ]
    },
    {
      "cell_type": "code",
      "source": [
        "dfTrainsLearn['nextSpeed'] = np.NaN\n",
        "dfTrainsLearn['nextBeop'] = np.NaN\n",
        "i = 0;\n",
        "for index, trainsEntry in dfTrainsLearn.iterrows():\n",
        "  nextSpeed = findNextSpeed(trainsEntry, dfTrainsLearnActuals.iloc[i])\n",
        "  if (nextSpeed != None):\n",
        "    dfTrainsLearn.at[i,'nextSpeed'] = nextSpeed\n",
        "  beopJSON = dfTrainsBeop.iloc[i]['trainEstimatedPositionList']\n",
        "  if not type(beopJSON) is float and len(beopJSON) > 0:\n",
        "    try:\n",
        "      beopDT = pd.json_normalize(beopJSON)\n",
        "      nextBeop = findNextSpeed(trainsEntry, beopDT)\n",
        "      if (nextBeop != None):\n",
        "        dfTrainsLearn.at[i,'nextBeop'] = nextSpeed\n",
        "    except NotImplementedError:\n",
        "      print(type(beopJSON))\n",
        "    except KeyError:\n",
        "      print(beopJSON)\n",
        "  if (i % 1000 == 0):\n",
        "    print(i)\n",
        "  i = i + 1"
      ],
      "metadata": {
        "colab": {
          "base_uri": "https://localhost:8080/"
        },
        "id": "fG2U-anX-jbt",
        "outputId": "9edb348e-b806-40c7-e94c-b7f4ca817ff4"
      },
      "execution_count": 227,
      "outputs": [
        {
          "output_type": "stream",
          "name": "stdout",
          "text": [
            "0\n"
          ]
        },
        {
          "output_type": "stream",
          "name": "stderr",
          "text": [
            "/usr/local/lib/python3.7/dist-packages/ipykernel_launcher.py:5: FutureWarning: Dropping of nuisance columns in DataFrame reductions (with 'numeric_only=None') is deprecated; in a future version this will raise TypeError.  Select only valid columns before calling the reduction.\n",
            "  \"\"\"\n",
            "/usr/local/lib/python3.7/dist-packages/ipykernel_launcher.py:8: FutureWarning: Dropping of nuisance columns in DataFrame reductions (with 'numeric_only=None') is deprecated; in a future version this will raise TypeError.  Select only valid columns before calling the reduction.\n",
            "  \n"
          ]
        },
        {
          "output_type": "stream",
          "name": "stdout",
          "text": [
            "1000\n",
            "2000\n",
            "3000\n",
            "4000\n",
            "5000\n",
            "6000\n",
            "7000\n",
            "8000\n",
            "9000\n",
            "10000\n"
          ]
        }
      ]
    },
    {
      "cell_type": "code",
      "source": [
        "dfTrainsLearn['nextSpeed'].unique()"
      ],
      "metadata": {
        "colab": {
          "base_uri": "https://localhost:8080/"
        },
        "id": "BpeBp1Jfu-Hj",
        "outputId": "60dc8647-e4b9-4bfa-955e-72197a48dd22"
      },
      "execution_count": 228,
      "outputs": [
        {
          "output_type": "execute_result",
          "data": {
            "text/plain": [
              "array([ -4.,  -3.,  -2.,  -1.,  nan, -56., -58., -55., -43., -29., -34.,   0., -12., -22., -28., -27., -65., -68., -70., -67., -64., -71., -69., -62., -59., -61., -66., -48., -50., -53., -60., -52.,\n",
              "       -47., -46., -38., -37., -51.,  26.,  24.,  31.,  36.,  37.,  16.,   4.,  13.,  -6.,   1.,  -7., -16.,  -8., -24.,  -9., -14., -17., -11., -21., -25., -26., -23., -31., -32., -33., -30., -13.,\n",
              "        -5., -18., -15., -20., -10., -19.,  11., -36., -40., -41., -45., -44., -57., -49., -39., -63., -54.,  29.,  39.,  21.,  19.,  12., -42., -35.,  27.,  22.,  18.,  30.,  23.,  28.,   3.,   7.,\n",
              "         8.,   6.,   2.,  10.,   5.,  20.,  25.,   9.,  32.,  14.,  17.,  33.,  15.,  38.,  35.,  34.])"
            ]
          },
          "metadata": {},
          "execution_count": 228
        }
      ]
    },
    {
      "cell_type": "code",
      "source": [
        "dfTrainsLearn['nextSpeed'].hist(bins=200)"
      ],
      "metadata": {
        "id": "IOWDvvGusUBm",
        "outputId": "3d6e6e3c-e96a-4964-f070-9ccc79d778e9",
        "colab": {
          "base_uri": "https://localhost:8080/",
          "height": 285
        }
      },
      "execution_count": 229,
      "outputs": [
        {
          "output_type": "execute_result",
          "data": {
            "text/plain": [
              "<matplotlib.axes._subplots.AxesSubplot at 0x7efaf31c97d0>"
            ]
          },
          "metadata": {},
          "execution_count": 229
        },
        {
          "output_type": "display_data",
          "data": {
            "text/plain": [
              "<Figure size 432x288 with 1 Axes>"
            ],
            "image/png": "[encoded data removed]"
          },
          "metadata": {
            "needs_background": "light"
          }
        }
      ]
    },
    {
      "cell_type": "code",
      "source": [
        "dfTrainsLearn['nextBeop'].unique()"
      ],
      "metadata": {
        "id": "bdSnFJoMWVrn",
        "outputId": "1513dfff-4e16-47bf-e8ac-096fe7c03dac",
        "colab": {
          "base_uri": "https://localhost:8080/"
        }
      },
      "execution_count": 230,
      "outputs": [
        {
          "output_type": "execute_result",
          "data": {
            "text/plain": [
              "array([ -4.,  -3.,  -2.,  -1.,  nan, -12., -11.,  -9., -13., -14., -15., -16., -17., -18., -19., -20., -21., -27., -34., -35., -33., -31., -30., -29., -25., -23., -26., -37., -46., -47., -41., -39.,\n",
              "       -36., -38., -40., -44., -42., -52., -54., -28., -45., -49., -48., -22.,  -7., -43.,   4.,   0.,   2.,   7.,   1.,  -8., -10., -24., -32.,   3.,   9.,   8.,  -6.,  -5.,   5.,   6.,  15., -60.,\n",
              "       -50., -53., -59., -58., -57., -56., -55.,  16.,  12., -51.,  19.,  14.,  11.,  10.,  13.])"
            ]
          },
          "metadata": {},
          "execution_count": 230
        }
      ]
    },
    {
      "cell_type": "code",
      "source": [
        "dfTrainsLearn['nextBeop'].hist(bins=200)"
      ],
      "metadata": {
        "id": "K7WQR074WuDQ",
        "outputId": "84132d69-c3b0-446f-eaf5-4390859ed733",
        "colab": {
          "base_uri": "https://localhost:8080/",
          "height": 285
        }
      },
      "execution_count": 231,
      "outputs": [
        {
          "output_type": "execute_result",
          "data": {
            "text/plain": [
              "<matplotlib.axes._subplots.AxesSubplot at 0x7efb25e05810>"
            ]
          },
          "metadata": {},
          "execution_count": 231
        },
        {
          "output_type": "display_data",
          "data": {
            "text/plain": [
              "<Figure size 432x288 with 1 Axes>"
            ],
            "image/png": "[encoded data removed]"
          },
          "metadata": {
            "needs_background": "light"
          }
        }
      ]
    },
    {
      "cell_type": "markdown",
      "source": [
        "Drop some values we are not using at the moment not needed"
      ],
      "metadata": {
        "id": "moXjNcMQu-3C"
      }
    },
    {
      "cell_type": "code",
      "source": [
        "dfTrainsLearn = dfTrainsLearn.drop(columns=['aotuTrainData.tenantCarrier',\n",
        "                                            'lastReportedPosition.precedingSignalState.currentStateTime', \n",
        "                                            'lastReportedPosition.nextSignalState.previousSignalState', \n",
        "                                            'lastReportedPosition.nextSignalState.currentStateTime', \n",
        "                                            'positionHistoryList',\n",
        "                                            'locomotiveList',\n",
        "                                            'subdivisionList',\n",
        "                                            'trainActualPositionList',\n",
        "                                            'trainEstimatedPositionList',\n",
        "                                            'aotuTrainData.routeLocationList'])"
      ],
      "metadata": {
        "id": "hBmsqv6IuVVO"
      },
      "execution_count": 26,
      "outputs": []
    },
    {
      "cell_type": "code",
      "source": [
        "tabular.core.make_date(dfTrainsLearn, 'trainId.trainDate')\n",
        "tabular.core.make_date(dfTrainsLearn, 'lastReportedPosition.positionTime')\n",
        "tabular.core.add_datepart(dfTrainsLearn, 'lastReportedPosition.positionTime')\n",
        "# tabular.core.add_elapsed_times(dfTrainsLearn, 'lastReportedPosition.positionTime')\n"
      ],
      "metadata": {
        "colab": {
          "base_uri": "https://localhost:8080/",
          "height": 488
        },
        "id": "DjTAxScsbHCN",
        "outputId": "33d0aa4c-dda5-40d7-9027-11c76d3f2624"
      },
      "execution_count": 27,
      "outputs": [
        {
          "output_type": "execute_result",
          "data": {
            "text/plain": [
              "      ptcLeadLocomotiveId  maximumTrainSpeed  loadedCarCount  emptyCarCount  \\\n",
              "0                  UP2010               50.0            61.0           92.0   \n",
              "1                  UP2010               50.0            61.0           92.0   \n",
              "2                  UP2010               50.0            61.0           92.0   \n",
              "3                  UP2010               50.0            61.0           92.0   \n",
              "4                  UP2010               50.0            61.0           92.0   \n",
              "...                   ...                ...             ...            ...   \n",
              "10049              UP6459               40.0           105.0           91.0   \n",
              "10050              UP6459               40.0           105.0           91.0   \n",
              "10051              UP6459               40.0           105.0           91.0   \n",
              "10052              UP6459               40.0           105.0           91.0   \n",
              "10053              UP6459               40.0           105.0           91.0   \n",
              "\n",
              "       ...  lastReportedPosition.positionTimeIs_quarter_start  \\\n",
              "0      ...                                              False   \n",
              "1      ...                                              False   \n",
              "2      ...                                              False   \n",
              "3      ...                                              False   \n",
              "4      ...                                              False   \n",
              "...    ...                                                ...   \n",
              "10049  ...                                              False   \n",
              "10050  ...                                              False   \n",
              "10051  ...                                              False   \n",
              "10052  ...                                              False   \n",
              "10053  ...                                              False   \n",
              "\n",
              "       lastReportedPosition.positionTimeIs_year_end  \\\n",
              "0                                             False   \n",
              "1                                             False   \n",
              "2                                             False   \n",
              "3                                             False   \n",
              "4                                             False   \n",
              "...                                             ...   \n",
              "10049                                         False   \n",
              "10050                                         False   \n",
              "10051                                         False   \n",
              "10052                                         False   \n",
              "10053                                         False   \n",
              "\n",
              "      lastReportedPosition.positionTimeIs_year_start  \\\n",
              "0                                              False   \n",
              "1                                              False   \n",
              "2                                              False   \n",
              "3                                              False   \n",
              "4                                              False   \n",
              "...                                              ...   \n",
              "10049                                          False   \n",
              "10050                                          False   \n",
              "10051                                          False   \n",
              "10052                                          False   \n",
              "10053                                          False   \n",
              "\n",
              "      lastReportedPosition.positionTimeElapsed  \n",
              "0                                 1.650584e+09  \n",
              "1                                 1.650584e+09  \n",
              "2                                 1.650584e+09  \n",
              "3                                 1.650584e+09  \n",
              "4                                 1.650584e+09  \n",
              "...                                        ...  \n",
              "10049                             1.649637e+09  \n",
              "10050                             1.649637e+09  \n",
              "10051                             1.649637e+09  \n",
              "10052                             1.649637e+09  \n",
              "10053                             1.649638e+09  \n",
              "\n",
              "[10054 rows x 51 columns]"
            ],
            "text/html": [
              "\n",
              "  <div id=\"df-a9c08625-1b6a-48e1-be84-e59513d8c64c\">\n",
              "    <div class=\"colab-df-container\">\n",
              "      <div>\n",
              "<style scoped>\n",
              "    .dataframe tbody tr th:only-of-type {\n",
              "        vertical-align: middle;\n",
              "    }\n",
              "\n",
              "    .dataframe tbody tr th {\n",
              "        vertical-align: top;\n",
              "    }\n",
              "\n",
              "    .dataframe thead th {\n",
              "        text-align: right;\n",
              "    }\n",
              "</style>\n",
              "<table border=\"1\" class=\"dataframe\">\n",
              "  <thead>\n",
              "    <tr style=\"text-align: right;\">\n",
              "      <th></th>\n",
              "      <th>ptcLeadLocomotiveId</th>\n",
              "      <th>maximumTrainSpeed</th>\n",
              "      <th>loadedCarCount</th>\n",
              "      <th>emptyCarCount</th>\n",
              "      <th>...</th>\n",
              "      <th>lastReportedPosition.positionTimeIs_quarter_start</th>\n",
              "      <th>lastReportedPosition.positionTimeIs_year_end</th>\n",
              "      <th>lastReportedPosition.positionTimeIs_year_start</th>\n",
              "      <th>lastReportedPosition.positionTimeElapsed</th>\n",
              "    </tr>\n",
              "  </thead>\n",
              "  <tbody>\n",
              "    <tr>\n",
              "      <th>0</th>\n",
              "      <td>UP2010</td>\n",
              "      <td>50.0</td>\n",
              "      <td>61.0</td>\n",
              "      <td>92.0</td>\n",
              "      <td>...</td>\n",
              "      <td>False</td>\n",
              "      <td>False</td>\n",
              "      <td>False</td>\n",
              "      <td>1.650584e+09</td>\n",
              "    </tr>\n",
              "    <tr>\n",
              "      <th>1</th>\n",
              "      <td>UP2010</td>\n",
              "      <td>50.0</td>\n",
              "      <td>61.0</td>\n",
              "      <td>92.0</td>\n",
              "      <td>...</td>\n",
              "      <td>False</td>\n",
              "      <td>False</td>\n",
              "      <td>False</td>\n",
              "      <td>1.650584e+09</td>\n",
              "    </tr>\n",
              "    <tr>\n",
              "      <th>2</th>\n",
              "      <td>UP2010</td>\n",
              "      <td>50.0</td>\n",
              "      <td>61.0</td>\n",
              "      <td>92.0</td>\n",
              "      <td>...</td>\n",
              "      <td>False</td>\n",
              "      <td>False</td>\n",
              "      <td>False</td>\n",
              "      <td>1.650584e+09</td>\n",
              "    </tr>\n",
              "    <tr>\n",
              "      <th>3</th>\n",
              "      <td>UP2010</td>\n",
              "      <td>50.0</td>\n",
              "      <td>61.0</td>\n",
              "      <td>92.0</td>\n",
              "      <td>...</td>\n",
              "      <td>False</td>\n",
              "      <td>False</td>\n",
              "      <td>False</td>\n",
              "      <td>1.650584e+09</td>\n",
              "    </tr>\n",
              "    <tr>\n",
              "      <th>4</th>\n",
              "      <td>UP2010</td>\n",
              "      <td>50.0</td>\n",
              "      <td>61.0</td>\n",
              "      <td>92.0</td>\n",
              "      <td>...</td>\n",
              "      <td>False</td>\n",
              "      <td>False</td>\n",
              "      <td>False</td>\n",
              "      <td>1.650584e+09</td>\n",
              "    </tr>\n",
              "    <tr>\n",
              "      <th>...</th>\n",
              "      <td>...</td>\n",
              "      <td>...</td>\n",
              "      <td>...</td>\n",
              "      <td>...</td>\n",
              "      <td>...</td>\n",
              "      <td>...</td>\n",
              "      <td>...</td>\n",
              "      <td>...</td>\n",
              "      <td>...</td>\n",
              "    </tr>\n",
              "    <tr>\n",
              "      <th>10049</th>\n",
              "      <td>UP6459</td>\n",
              "      <td>40.0</td>\n",
              "      <td>105.0</td>\n",
              "      <td>91.0</td>\n",
              "      <td>...</td>\n",
              "      <td>False</td>\n",
              "      <td>False</td>\n",
              "      <td>False</td>\n",
              "      <td>1.649637e+09</td>\n",
              "    </tr>\n",
              "    <tr>\n",
              "      <th>10050</th>\n",
              "      <td>UP6459</td>\n",
              "      <td>40.0</td>\n",
              "      <td>105.0</td>\n",
              "      <td>91.0</td>\n",
              "      <td>...</td>\n",
              "      <td>False</td>\n",
              "      <td>False</td>\n",
              "      <td>False</td>\n",
              "      <td>1.649637e+09</td>\n",
              "    </tr>\n",
              "    <tr>\n",
              "      <th>10051</th>\n",
              "      <td>UP6459</td>\n",
              "      <td>40.0</td>\n",
              "      <td>105.0</td>\n",
              "      <td>91.0</td>\n",
              "      <td>...</td>\n",
              "      <td>False</td>\n",
              "      <td>False</td>\n",
              "      <td>False</td>\n",
              "      <td>1.649637e+09</td>\n",
              "    </tr>\n",
              "    <tr>\n",
              "      <th>10052</th>\n",
              "      <td>UP6459</td>\n",
              "      <td>40.0</td>\n",
              "      <td>105.0</td>\n",
              "      <td>91.0</td>\n",
              "      <td>...</td>\n",
              "      <td>False</td>\n",
              "      <td>False</td>\n",
              "      <td>False</td>\n",
              "      <td>1.649637e+09</td>\n",
              "    </tr>\n",
              "    <tr>\n",
              "      <th>10053</th>\n",
              "      <td>UP6459</td>\n",
              "      <td>40.0</td>\n",
              "      <td>105.0</td>\n",
              "      <td>91.0</td>\n",
              "      <td>...</td>\n",
              "      <td>False</td>\n",
              "      <td>False</td>\n",
              "      <td>False</td>\n",
              "      <td>1.649638e+09</td>\n",
              "    </tr>\n",
              "  </tbody>\n",
              "</table>\n",
              "<p>10054 rows × 51 columns</p>\n",
              "</div>\n",
              "      <button class=\"colab-df-convert\" onclick=\"convertToInteractive('df-a9c08625-1b6a-48e1-be84-e59513d8c64c')\"\n",
              "              title=\"Convert this dataframe to an interactive table.\"\n",
              "              style=\"display:none;\">\n",
              "        \n",
              "  <svg xmlns=\"http://www.w3.org/2000/svg\" height=\"24px\"viewBox=\"0 0 24 24\"\n",
              "       width=\"24px\">\n",
              "    <path d=\"M0 0h24v24H0V0z\" fill=\"none\"/>\n",
              "    <path d=\"M18.56 5.44l.94 2.06.94-2.06 2.06-.94-2.06-.94-.94-2.06-.94 2.06-2.06.94zm-11 1L8.5 8.5l.94-2.06 2.06-.94-2.06-.94L8.5 2.5l-.94 2.06-2.06.94zm10 10l.94 2.06.94-2.06 2.06-.94-2.06-.94-.94-2.06-.94 2.06-2.06.94z\"/><path d=\"M17.41 7.96l-1.37-1.37c-.4-.4-.92-.59-1.43-.59-.52 0-1.04.2-1.43.59L10.3 9.45l-7.72 7.72c-.78.78-.78 2.05 0 2.83L4 21.41c.39.39.9.59 1.41.59.51 0 1.02-.2 1.41-.59l7.78-7.78 2.81-2.81c.8-.78.8-2.07 0-2.86zM5.41 20L4 18.59l7.72-7.72 1.47 1.35L5.41 20z\"/>\n",
              "  </svg>\n",
              "      </button>\n",
              "      \n",
              "  <style>\n",
              "    .colab-df-container {\n",
              "      display:flex;\n",
              "      flex-wrap:wrap;\n",
              "      gap: 12px;\n",
              "    }\n",
              "\n",
              "    .colab-df-convert {\n",
              "      background-color: #E8F0FE;\n",
              "      border: none;\n",
              "      border-radius: 50%;\n",
              "      cursor: pointer;\n",
              "      display: none;\n",
              "      fill: #1967D2;\n",
              "      height: 32px;\n",
              "      padding: 0 0 0 0;\n",
              "      width: 32px;\n",
              "    }\n",
              "\n",
              "    .colab-df-convert:hover {\n",
              "      background-color: #E2EBFA;\n",
              "      box-shadow: 0px 1px 2px rgba(60, 64, 67, 0.3), 0px 1px 3px 1px rgba(60, 64, 67, 0.15);\n",
              "      fill: #174EA6;\n",
              "    }\n",
              "\n",
              "    [theme=dark] .colab-df-convert {\n",
              "      background-color: #3B4455;\n",
              "      fill: #D2E3FC;\n",
              "    }\n",
              "\n",
              "    [theme=dark] .colab-df-convert:hover {\n",
              "      background-color: #434B5C;\n",
              "      box-shadow: 0px 1px 3px 1px rgba(0, 0, 0, 0.15);\n",
              "      filter: drop-shadow(0px 1px 2px rgba(0, 0, 0, 0.3));\n",
              "      fill: #FFFFFF;\n",
              "    }\n",
              "  </style>\n",
              "\n",
              "      <script>\n",
              "        const buttonEl =\n",
              "          document.querySelector('#df-a9c08625-1b6a-48e1-be84-e59513d8c64c button.colab-df-convert');\n",
              "        buttonEl.style.display =\n",
              "          google.colab.kernel.accessAllowed ? 'block' : 'none';\n",
              "\n",
              "        async function convertToInteractive(key) {\n",
              "          const element = document.querySelector('#df-a9c08625-1b6a-48e1-be84-e59513d8c64c');\n",
              "          const dataTable =\n",
              "            await google.colab.kernel.invokeFunction('convertToInteractive',\n",
              "                                                     [key], {});\n",
              "          if (!dataTable) return;\n",
              "\n",
              "          const docLinkHtml = 'Like what you see? Visit the ' +\n",
              "            '<a target=\"_blank\" href=https://colab.research.google.com/notebooks/data_table.ipynb>data table notebook</a>'\n",
              "            + ' to learn more about interactive tables.';\n",
              "          element.innerHTML = '';\n",
              "          dataTable['output_type'] = 'display_data';\n",
              "          await google.colab.output.renderOutput(dataTable, element);\n",
              "          const docLink = document.createElement('div');\n",
              "          docLink.innerHTML = docLinkHtml;\n",
              "          element.appendChild(docLink);\n",
              "        }\n",
              "      </script>\n",
              "    </div>\n",
              "  </div>\n",
              "  "
            ]
          },
          "metadata": {},
          "execution_count": 27
        }
      ]
    },
    {
      "cell_type": "code",
      "source": [
        "print(dfTrainsLearn.shape)\n",
        "print(dfTrainsLearnActuals.shape)\n",
        "\n",
        "print(dfTrainsLearn.info())\n",
        "print(dfTrainsLearn.iloc[100])"
      ],
      "metadata": {
        "colab": {
          "base_uri": "https://localhost:8080/"
        },
        "id": "jTVXPBSQ2gp3",
        "outputId": "d2a6806d-f250-4b53-eb2c-249a2fb91c94"
      },
      "execution_count": 28,
      "outputs": [
        {
          "output_type": "stream",
          "name": "stdout",
          "text": [
            "(10054, 51)\n",
            "(10054,)\n",
            "<class 'pandas.core.frame.DataFrame'>\n",
            "RangeIndex: 10054 entries, 0 to 10053\n",
            "Data columns (total 51 columns):\n",
            " #   Column                                                                     Non-Null Count  Dtype         \n",
            "---  ------                                                                     --------------  -----         \n",
            " 0   ptcLeadLocomotiveId                                                        10054 non-null  object        \n",
            " 1   maximumTrainSpeed                                                          10053 non-null  float64       \n",
            " 2   loadedCarCount                                                             10053 non-null  float64       \n",
            " 3   emptyCarCount                                                              10053 non-null  float64       \n",
            " 4   trainLength                                                                10053 non-null  float64       \n",
            " 5   trailingTonnage                                                            10053 non-null  float64       \n",
            " 6   trainId.trainSCAC                                                          10054 non-null  object        \n",
            " 7   trainId.trainSection                                                       10054 non-null  object        \n",
            " 8   trainId.trainSymbol                                                        10054 non-null  object        \n",
            " 9   trainId.trainDate                                                          10054 non-null  datetime64[ns]\n",
            " 10  lastReportedPosition.speedMPH                                              10054 non-null  int64         \n",
            " 11  lastReportedPosition.milepostLocation.subdivisionId                        10054 non-null  int64         \n",
            " 12  lastReportedPosition.milepostLocation.trackName                            10004 non-null  category      \n",
            " 13  lastReportedPosition.milepostLocation.milepost.milepostNumber              10054 non-null  float64       \n",
            " 14  aotuTrainData.priorityCode                                                 10054 non-null  int64         \n",
            " 15  aotuTrainData.categoryCode                                                 10054 non-null  int64         \n",
            " 16  aotuTrainData.authorityRangeCode                                           10054 non-null  int64         \n",
            " 17  aotuTrainData.ownershipCode                                                10054 non-null  int64         \n",
            " 18  aotuTrainData.totalCarWeight                                               10054 non-null  float64       \n",
            " 19  aotuTrainData.totalCarLength                                               10054 non-null  float64       \n",
            " 20  aotuTrainData.totalLocomotiveWeight                                        10054 non-null  float64       \n",
            " 21  aotuTrainData.totalLocomotiveLength                                        10054 non-null  float64       \n",
            " 22  aotuTrainData.actualTonsPerAxle                                            10054 non-null  float64       \n",
            " 23  aotuTrainData.heavy143TonCarCount                                          10054 non-null  int64         \n",
            " 24  aotuTrainData.heavy158TonCarCount                                          10054 non-null  int64         \n",
            " 25  aotuTrainData.over158TonCarCount                                           10054 non-null  int64         \n",
            " 26  aotuTrainData.highWideCarCount                                             10054 non-null  int64         \n",
            " 27  aotuTrainData.eventCode                                                    10054 non-null  int64         \n",
            " 28  lastReportedPosition.precedingSignalState.milepostLocation.milepostNumber  8017 non-null   float64       \n",
            " 29  lastReportedPosition.precedingSignalState.previousSignalState              6280 non-null   float64       \n",
            " 30  lastReportedPosition.precedingSignalState.signalState                      8017 non-null   float64       \n",
            " 31  lastReportedPosition.nextSignalState.milepostLocation.milepostNumber       7996 non-null   float64       \n",
            " 32  lastReportedPosition.nextSignalState.signalState                           7996 non-null   float64       \n",
            " 33  milepost                                                                   10054 non-null  int64         \n",
            " 34  symbolType                                                                 0 non-null      category      \n",
            " 35  workLocations                                                              8555 non-null   object        \n",
            " 36  locomotiveCount                                                            10054 non-null  int64         \n",
            " 37  nextSpeed                                                                  10054 non-null  int64         \n",
            " 38  lastReportedPosition.positionTimeYear                                      10054 non-null  int64         \n",
            " 39  lastReportedPosition.positionTimeMonth                                     10054 non-null  int64         \n",
            " 40  lastReportedPosition.positionTimeWeek                                      10054 non-null  int64         \n",
            " 41  lastReportedPosition.positionTimeDay                                       10054 non-null  int64         \n",
            " 42  lastReportedPosition.positionTimeDayofweek                                 10054 non-null  int64         \n",
            " 43  lastReportedPosition.positionTimeDayofyear                                 10054 non-null  int64         \n",
            " 44  lastReportedPosition.positionTimeIs_month_end                              10054 non-null  bool          \n",
            " 45  lastReportedPosition.positionTimeIs_month_start                            10054 non-null  bool          \n",
            " 46  lastReportedPosition.positionTimeIs_quarter_end                            10054 non-null  bool          \n",
            " 47  lastReportedPosition.positionTimeIs_quarter_start                          10054 non-null  bool          \n",
            " 48  lastReportedPosition.positionTimeIs_year_end                               10054 non-null  bool          \n",
            " 49  lastReportedPosition.positionTimeIs_year_start                             10054 non-null  bool          \n",
            " 50  lastReportedPosition.positionTimeElapsed                                   10054 non-null  float64       \n",
            "dtypes: bool(6), category(2), datetime64[ns](1), float64(17), int64(20), object(5)\n",
            "memory usage: 3.4+ MB\n",
            "None\n",
            "ptcLeadLocomotiveId                                        UP2524\n",
            "maximumTrainSpeed                                            70.0\n",
            "loadedCarCount                                               37.0\n",
            "emptyCarCount                                                 5.0\n",
            "trainLength                                                6034.0\n",
            "                                                         ...     \n",
            "lastReportedPosition.positionTimeIs_quarter_end             False\n",
            "lastReportedPosition.positionTimeIs_quarter_start           False\n",
            "lastReportedPosition.positionTimeIs_year_end                False\n",
            "lastReportedPosition.positionTimeIs_year_start              False\n",
            "lastReportedPosition.positionTimeElapsed             1649441741.0\n",
            "Name: 100, Length: 51, dtype: object\n"
          ]
        }
      ]
    },
    {
      "cell_type": "markdown",
      "source": [
        "# Use Decision Tree to predict speed in 1 mile"
      ],
      "metadata": {
        "id": "mg1p1vouBeIB"
      }
    },
    {
      "cell_type": "code",
      "source": [
        "procs = [tabular.core.Categorify, tabular.core.FillMissing]"
      ],
      "metadata": {
        "id": "F9TApkZWbAbz"
      },
      "execution_count": 29,
      "outputs": []
    },
    {
      "cell_type": "code",
      "source": [
        "print (dfTrainsLearn.groupby(['lastReportedPosition.positionTimeDayofyear'])['lastReportedPosition.positionTimeDayofyear'].count())\n"
      ],
      "metadata": {
        "colab": {
          "base_uri": "https://localhost:8080/"
        },
        "id": "gDgYzofcvcpM",
        "outputId": "466cca3d-9b50-44a2-a985-0c667908e964"
      },
      "execution_count": 30,
      "outputs": [
        {
          "output_type": "stream",
          "name": "stdout",
          "text": [
            "lastReportedPosition.positionTimeDayofyear\n",
            "90     124\n",
            "91     271\n",
            "92      79\n",
            "93     106\n",
            "95     109\n",
            "      ... \n",
            "121     45\n",
            "122    247\n",
            "123    214\n",
            "124    237\n",
            "125    150\n",
            "Name: lastReportedPosition.positionTimeDayofyear, Length: 33, dtype: int64\n"
          ]
        }
      ]
    },
    {
      "cell_type": "code",
      "source": [
        "cond = ( dfTrainsLearn['lastReportedPosition.positionTimeDayofyear'] < 121 )\n",
        "trainIdx = np.where(cond)[0]\n",
        "validIdx = np.where(~cond)[0]\n",
        "splits = (list(trainIdx), list(validIdx))"
      ],
      "metadata": {
        "id": "nIURJVe5vc_n"
      },
      "execution_count": 31,
      "outputs": []
    },
    {
      "cell_type": "code",
      "source": [
        "dep_var = 'nextSpeed'"
      ],
      "metadata": {
        "id": "rPW42wgnOLO_"
      },
      "execution_count": 32,
      "outputs": []
    },
    {
      "cell_type": "code",
      "source": [
        "cont,cat = tabular.core.cont_cat_split(dfTrainsLearn, 1, dep_var=dep_var)"
      ],
      "metadata": {
        "id": "gHDAeThzyzc6"
      },
      "execution_count": 33,
      "outputs": []
    },
    {
      "cell_type": "code",
      "source": [
        "to = tabular.core.TabularPandas(dfTrainsLearn, procs, cat, cont, y_names=dep_var, splits=splits)"
      ],
      "metadata": {
        "id": "xz1ZonvnO-I7"
      },
      "execution_count": 34,
      "outputs": []
    },
    {
      "cell_type": "code",
      "source": [
        "len(to.train),len(to.valid)"
      ],
      "metadata": {
        "colab": {
          "base_uri": "https://localhost:8080/"
        },
        "id": "0DJly6_Z94uI",
        "outputId": "7213e5e7-a35a-41d4-8f5b-7c0fb12c1090"
      },
      "execution_count": 35,
      "outputs": [
        {
          "output_type": "execute_result",
          "data": {
            "text/plain": [
              "(9161, 893)"
            ]
          },
          "metadata": {},
          "execution_count": 35
        }
      ]
    },
    {
      "cell_type": "code",
      "source": [
        "to.show()"
      ],
      "metadata": {
        "colab": {
          "base_uri": "https://localhost:8080/",
          "height": 383
        },
        "id": "xoEQAME4-n0M",
        "outputId": "9489f21d-85ad-419f-c1bb-28f8afe15eab"
      },
      "execution_count": 36,
      "outputs": [
        {
          "output_type": "display_data",
          "data": {
            "text/plain": [
              "<IPython.core.display.HTML object>"
            ],
            "text/html": [
              "<table border=\"1\" class=\"dataframe\">\n",
              "  <thead>\n",
              "    <tr style=\"text-align: right;\">\n",
              "      <th></th>\n",
              "      <th>ptcLeadLocomotiveId</th>\n",
              "      <th>trainId.trainSCAC</th>\n",
              "      <th>trainId.trainSection</th>\n",
              "      <th>trainId.trainSymbol</th>\n",
              "      <th>trainId.trainDate</th>\n",
              "      <th>lastReportedPosition.milepostLocation.subdivisionId</th>\n",
              "      <th>lastReportedPosition.milepostLocation.trackName</th>\n",
              "      <th>aotuTrainData.ownershipCode</th>\n",
              "      <th>aotuTrainData.eventCode</th>\n",
              "      <th>symbolType</th>\n",
              "      <th>workLocations</th>\n",
              "      <th>lastReportedPosition.positionTimeYear</th>\n",
              "      <th>lastReportedPosition.positionTimeIs_month_end</th>\n",
              "      <th>lastReportedPosition.positionTimeIs_month_start</th>\n",
              "      <th>lastReportedPosition.positionTimeIs_quarter_end</th>\n",
              "      <th>lastReportedPosition.positionTimeIs_quarter_start</th>\n",
              "      <th>lastReportedPosition.positionTimeIs_year_end</th>\n",
              "      <th>lastReportedPosition.positionTimeIs_year_start</th>\n",
              "      <th>maximumTrainSpeed_na</th>\n",
              "      <th>loadedCarCount_na</th>\n",
              "      <th>emptyCarCount_na</th>\n",
              "      <th>trainLength_na</th>\n",
              "      <th>trailingTonnage_na</th>\n",
              "      <th>lastReportedPosition.precedingSignalState.milepostLocation.milepostNumber_na</th>\n",
              "      <th>lastReportedPosition.precedingSignalState.previousSignalState_na</th>\n",
              "      <th>lastReportedPosition.precedingSignalState.signalState_na</th>\n",
              "      <th>lastReportedPosition.nextSignalState.milepostLocation.milepostNumber_na</th>\n",
              "      <th>lastReportedPosition.nextSignalState.signalState_na</th>\n",
              "      <th>maximumTrainSpeed</th>\n",
              "      <th>loadedCarCount</th>\n",
              "      <th>emptyCarCount</th>\n",
              "      <th>trainLength</th>\n",
              "      <th>trailingTonnage</th>\n",
              "      <th>lastReportedPosition.speedMPH</th>\n",
              "      <th>lastReportedPosition.milepostLocation.milepost.milepostNumber</th>\n",
              "      <th>aotuTrainData.priorityCode</th>\n",
              "      <th>aotuTrainData.categoryCode</th>\n",
              "      <th>aotuTrainData.authorityRangeCode</th>\n",
              "      <th>aotuTrainData.totalCarWeight</th>\n",
              "      <th>aotuTrainData.totalCarLength</th>\n",
              "      <th>aotuTrainData.totalLocomotiveWeight</th>\n",
              "      <th>aotuTrainData.totalLocomotiveLength</th>\n",
              "      <th>aotuTrainData.actualTonsPerAxle</th>\n",
              "      <th>aotuTrainData.heavy143TonCarCount</th>\n",
              "      <th>aotuTrainData.heavy158TonCarCount</th>\n",
              "      <th>aotuTrainData.over158TonCarCount</th>\n",
              "      <th>aotuTrainData.highWideCarCount</th>\n",
              "      <th>lastReportedPosition.precedingSignalState.milepostLocation.milepostNumber</th>\n",
              "      <th>lastReportedPosition.precedingSignalState.previousSignalState</th>\n",
              "      <th>lastReportedPosition.precedingSignalState.signalState</th>\n",
              "      <th>lastReportedPosition.nextSignalState.milepostLocation.milepostNumber</th>\n",
              "      <th>lastReportedPosition.nextSignalState.signalState</th>\n",
              "      <th>milepost</th>\n",
              "      <th>locomotiveCount</th>\n",
              "      <th>lastReportedPosition.positionTimeMonth</th>\n",
              "      <th>lastReportedPosition.positionTimeWeek</th>\n",
              "      <th>lastReportedPosition.positionTimeDay</th>\n",
              "      <th>lastReportedPosition.positionTimeDayofweek</th>\n",
              "      <th>lastReportedPosition.positionTimeDayofyear</th>\n",
              "      <th>lastReportedPosition.positionTimeElapsed</th>\n",
              "      <th>nextSpeed</th>\n",
              "    </tr>\n",
              "  </thead>\n",
              "  <tbody>\n",
              "    <tr>\n",
              "      <th>0</th>\n",
              "      <td>UP2010</td>\n",
              "      <td>UP</td>\n",
              "      <td></td>\n",
              "      <td>MEWLI</td>\n",
              "      <td>2022-04-21</td>\n",
              "      <td>106</td>\n",
              "      <td>WEST MAIN</td>\n",
              "      <td>2</td>\n",
              "      <td>0</td>\n",
              "      <td>#na#</td>\n",
              "      <td>#na#</td>\n",
              "      <td>2022</td>\n",
              "      <td>False</td>\n",
              "      <td>False</td>\n",
              "      <td>False</td>\n",
              "      <td>False</td>\n",
              "      <td>False</td>\n",
              "      <td>False</td>\n",
              "      <td>False</td>\n",
              "      <td>False</td>\n",
              "      <td>False</td>\n",
              "      <td>False</td>\n",
              "      <td>False</td>\n",
              "      <td>True</td>\n",
              "      <td>True</td>\n",
              "      <td>True</td>\n",
              "      <td>True</td>\n",
              "      <td>True</td>\n",
              "      <td>50.0</td>\n",
              "      <td>61.0</td>\n",
              "      <td>92.0</td>\n",
              "      <td>9282.0</td>\n",
              "      <td>10992.0</td>\n",
              "      <td>-12</td>\n",
              "      <td>766.930420</td>\n",
              "      <td>4</td>\n",
              "      <td>12</td>\n",
              "      <td>2</td>\n",
              "      <td>219727008.0</td>\n",
              "      <td>1078840.0</td>\n",
              "      <td>12202400.0</td>\n",
              "      <td>25820.0</td>\n",
              "      <td>65535.0</td>\n",
              "      <td>10</td>\n",
              "      <td>0</td>\n",
              "      <td>0</td>\n",
              "      <td>0</td>\n",
              "      <td>258.420013</td>\n",
              "      <td>-4.0</td>\n",
              "      <td>1.0</td>\n",
              "      <td>260.200012</td>\n",
              "      <td>1.0</td>\n",
              "      <td>766</td>\n",
              "      <td>2</td>\n",
              "      <td>4</td>\n",
              "      <td>16</td>\n",
              "      <td>21</td>\n",
              "      <td>3</td>\n",
              "      <td>111</td>\n",
              "      <td>1.650584e+09</td>\n",
              "      <td>-4</td>\n",
              "    </tr>\n",
              "    <tr>\n",
              "      <th>1</th>\n",
              "      <td>UP2010</td>\n",
              "      <td>UP</td>\n",
              "      <td></td>\n",
              "      <td>MEWLI</td>\n",
              "      <td>2022-04-21</td>\n",
              "      <td>106</td>\n",
              "      <td>WEST MAIN</td>\n",
              "      <td>2</td>\n",
              "      <td>0</td>\n",
              "      <td>#na#</td>\n",
              "      <td>#na#</td>\n",
              "      <td>2022</td>\n",
              "      <td>False</td>\n",
              "      <td>False</td>\n",
              "      <td>False</td>\n",
              "      <td>False</td>\n",
              "      <td>False</td>\n",
              "      <td>False</td>\n",
              "      <td>False</td>\n",
              "      <td>False</td>\n",
              "      <td>False</td>\n",
              "      <td>False</td>\n",
              "      <td>False</td>\n",
              "      <td>True</td>\n",
              "      <td>True</td>\n",
              "      <td>True</td>\n",
              "      <td>True</td>\n",
              "      <td>True</td>\n",
              "      <td>50.0</td>\n",
              "      <td>61.0</td>\n",
              "      <td>92.0</td>\n",
              "      <td>9282.0</td>\n",
              "      <td>10992.0</td>\n",
              "      <td>-11</td>\n",
              "      <td>766.718811</td>\n",
              "      <td>4</td>\n",
              "      <td>12</td>\n",
              "      <td>2</td>\n",
              "      <td>219727008.0</td>\n",
              "      <td>1078840.0</td>\n",
              "      <td>12202400.0</td>\n",
              "      <td>25820.0</td>\n",
              "      <td>65535.0</td>\n",
              "      <td>10</td>\n",
              "      <td>0</td>\n",
              "      <td>0</td>\n",
              "      <td>0</td>\n",
              "      <td>258.420013</td>\n",
              "      <td>-4.0</td>\n",
              "      <td>1.0</td>\n",
              "      <td>260.200012</td>\n",
              "      <td>1.0</td>\n",
              "      <td>766</td>\n",
              "      <td>2</td>\n",
              "      <td>4</td>\n",
              "      <td>16</td>\n",
              "      <td>21</td>\n",
              "      <td>3</td>\n",
              "      <td>111</td>\n",
              "      <td>1.650584e+09</td>\n",
              "      <td>-3</td>\n",
              "    </tr>\n",
              "    <tr>\n",
              "      <th>2</th>\n",
              "      <td>UP2010</td>\n",
              "      <td>UP</td>\n",
              "      <td></td>\n",
              "      <td>MEWLI</td>\n",
              "      <td>2022-04-21</td>\n",
              "      <td>106</td>\n",
              "      <td>WEST MAIN</td>\n",
              "      <td>2</td>\n",
              "      <td>0</td>\n",
              "      <td>#na#</td>\n",
              "      <td>#na#</td>\n",
              "      <td>2022</td>\n",
              "      <td>False</td>\n",
              "      <td>False</td>\n",
              "      <td>False</td>\n",
              "      <td>False</td>\n",
              "      <td>False</td>\n",
              "      <td>False</td>\n",
              "      <td>False</td>\n",
              "      <td>False</td>\n",
              "      <td>False</td>\n",
              "      <td>False</td>\n",
              "      <td>False</td>\n",
              "      <td>True</td>\n",
              "      <td>True</td>\n",
              "      <td>True</td>\n",
              "      <td>True</td>\n",
              "      <td>True</td>\n",
              "      <td>50.0</td>\n",
              "      <td>61.0</td>\n",
              "      <td>92.0</td>\n",
              "      <td>9282.0</td>\n",
              "      <td>10992.0</td>\n",
              "      <td>-10</td>\n",
              "      <td>766.565308</td>\n",
              "      <td>4</td>\n",
              "      <td>12</td>\n",
              "      <td>2</td>\n",
              "      <td>219727008.0</td>\n",
              "      <td>1078840.0</td>\n",
              "      <td>12202400.0</td>\n",
              "      <td>25820.0</td>\n",
              "      <td>65535.0</td>\n",
              "      <td>10</td>\n",
              "      <td>0</td>\n",
              "      <td>0</td>\n",
              "      <td>0</td>\n",
              "      <td>258.420013</td>\n",
              "      <td>-4.0</td>\n",
              "      <td>1.0</td>\n",
              "      <td>260.200012</td>\n",
              "      <td>1.0</td>\n",
              "      <td>766</td>\n",
              "      <td>2</td>\n",
              "      <td>4</td>\n",
              "      <td>16</td>\n",
              "      <td>21</td>\n",
              "      <td>3</td>\n",
              "      <td>111</td>\n",
              "      <td>1.650584e+09</td>\n",
              "      <td>-2</td>\n",
              "    </tr>\n",
              "    <tr>\n",
              "      <th>3</th>\n",
              "      <td>UP2010</td>\n",
              "      <td>UP</td>\n",
              "      <td></td>\n",
              "      <td>MEWLI</td>\n",
              "      <td>2022-04-21</td>\n",
              "      <td>106</td>\n",
              "      <td>WEST MAIN</td>\n",
              "      <td>2</td>\n",
              "      <td>0</td>\n",
              "      <td>#na#</td>\n",
              "      <td>#na#</td>\n",
              "      <td>2022</td>\n",
              "      <td>False</td>\n",
              "      <td>False</td>\n",
              "      <td>False</td>\n",
              "      <td>False</td>\n",
              "      <td>False</td>\n",
              "      <td>False</td>\n",
              "      <td>False</td>\n",
              "      <td>False</td>\n",
              "      <td>False</td>\n",
              "      <td>False</td>\n",
              "      <td>False</td>\n",
              "      <td>True</td>\n",
              "      <td>True</td>\n",
              "      <td>True</td>\n",
              "      <td>True</td>\n",
              "      <td>True</td>\n",
              "      <td>50.0</td>\n",
              "      <td>61.0</td>\n",
              "      <td>92.0</td>\n",
              "      <td>9282.0</td>\n",
              "      <td>10992.0</td>\n",
              "      <td>-10</td>\n",
              "      <td>766.435181</td>\n",
              "      <td>4</td>\n",
              "      <td>12</td>\n",
              "      <td>2</td>\n",
              "      <td>219727008.0</td>\n",
              "      <td>1078840.0</td>\n",
              "      <td>12202400.0</td>\n",
              "      <td>25820.0</td>\n",
              "      <td>65535.0</td>\n",
              "      <td>10</td>\n",
              "      <td>0</td>\n",
              "      <td>0</td>\n",
              "      <td>0</td>\n",
              "      <td>258.420013</td>\n",
              "      <td>-4.0</td>\n",
              "      <td>1.0</td>\n",
              "      <td>260.200012</td>\n",
              "      <td>1.0</td>\n",
              "      <td>766</td>\n",
              "      <td>2</td>\n",
              "      <td>4</td>\n",
              "      <td>16</td>\n",
              "      <td>21</td>\n",
              "      <td>3</td>\n",
              "      <td>111</td>\n",
              "      <td>1.650584e+09</td>\n",
              "      <td>-1</td>\n",
              "    </tr>\n",
              "    <tr>\n",
              "      <th>4</th>\n",
              "      <td>UP2010</td>\n",
              "      <td>UP</td>\n",
              "      <td></td>\n",
              "      <td>MEWLI</td>\n",
              "      <td>2022-04-21</td>\n",
              "      <td>106</td>\n",
              "      <td>WEST MAIN</td>\n",
              "      <td>2</td>\n",
              "      <td>0</td>\n",
              "      <td>#na#</td>\n",
              "      <td>#na#</td>\n",
              "      <td>2022</td>\n",
              "      <td>False</td>\n",
              "      <td>False</td>\n",
              "      <td>False</td>\n",
              "      <td>False</td>\n",
              "      <td>False</td>\n",
              "      <td>False</td>\n",
              "      <td>False</td>\n",
              "      <td>False</td>\n",
              "      <td>False</td>\n",
              "      <td>False</td>\n",
              "      <td>False</td>\n",
              "      <td>True</td>\n",
              "      <td>True</td>\n",
              "      <td>True</td>\n",
              "      <td>True</td>\n",
              "      <td>True</td>\n",
              "      <td>50.0</td>\n",
              "      <td>61.0</td>\n",
              "      <td>92.0</td>\n",
              "      <td>9282.0</td>\n",
              "      <td>10992.0</td>\n",
              "      <td>-10</td>\n",
              "      <td>766.322815</td>\n",
              "      <td>4</td>\n",
              "      <td>12</td>\n",
              "      <td>2</td>\n",
              "      <td>219727008.0</td>\n",
              "      <td>1078840.0</td>\n",
              "      <td>12202400.0</td>\n",
              "      <td>25820.0</td>\n",
              "      <td>65535.0</td>\n",
              "      <td>10</td>\n",
              "      <td>0</td>\n",
              "      <td>0</td>\n",
              "      <td>0</td>\n",
              "      <td>258.420013</td>\n",
              "      <td>-4.0</td>\n",
              "      <td>1.0</td>\n",
              "      <td>260.200012</td>\n",
              "      <td>1.0</td>\n",
              "      <td>766</td>\n",
              "      <td>2</td>\n",
              "      <td>4</td>\n",
              "      <td>16</td>\n",
              "      <td>21</td>\n",
              "      <td>3</td>\n",
              "      <td>111</td>\n",
              "      <td>1.650584e+09</td>\n",
              "      <td>-1</td>\n",
              "    </tr>\n",
              "    <tr>\n",
              "      <th>5</th>\n",
              "      <td>UP2010</td>\n",
              "      <td>UP</td>\n",
              "      <td></td>\n",
              "      <td>MEWLI</td>\n",
              "      <td>2022-04-21</td>\n",
              "      <td>106</td>\n",
              "      <td>WEST MAIN</td>\n",
              "      <td>2</td>\n",
              "      <td>0</td>\n",
              "      <td>#na#</td>\n",
              "      <td>#na#</td>\n",
              "      <td>2022</td>\n",
              "      <td>False</td>\n",
              "      <td>False</td>\n",
              "      <td>False</td>\n",
              "      <td>False</td>\n",
              "      <td>False</td>\n",
              "      <td>False</td>\n",
              "      <td>False</td>\n",
              "      <td>False</td>\n",
              "      <td>False</td>\n",
              "      <td>False</td>\n",
              "      <td>False</td>\n",
              "      <td>True</td>\n",
              "      <td>True</td>\n",
              "      <td>True</td>\n",
              "      <td>True</td>\n",
              "      <td>True</td>\n",
              "      <td>50.0</td>\n",
              "      <td>61.0</td>\n",
              "      <td>92.0</td>\n",
              "      <td>9282.0</td>\n",
              "      <td>10992.0</td>\n",
              "      <td>-10</td>\n",
              "      <td>766.289795</td>\n",
              "      <td>4</td>\n",
              "      <td>12</td>\n",
              "      <td>2</td>\n",
              "      <td>219727008.0</td>\n",
              "      <td>1078840.0</td>\n",
              "      <td>12202400.0</td>\n",
              "      <td>25820.0</td>\n",
              "      <td>65535.0</td>\n",
              "      <td>10</td>\n",
              "      <td>0</td>\n",
              "      <td>0</td>\n",
              "      <td>0</td>\n",
              "      <td>258.420013</td>\n",
              "      <td>-4.0</td>\n",
              "      <td>1.0</td>\n",
              "      <td>260.200012</td>\n",
              "      <td>1.0</td>\n",
              "      <td>766</td>\n",
              "      <td>2</td>\n",
              "      <td>4</td>\n",
              "      <td>16</td>\n",
              "      <td>21</td>\n",
              "      <td>3</td>\n",
              "      <td>111</td>\n",
              "      <td>1.650584e+09</td>\n",
              "      <td>-1</td>\n",
              "    </tr>\n",
              "    <tr>\n",
              "      <th>6</th>\n",
              "      <td>UP2010</td>\n",
              "      <td>UP</td>\n",
              "      <td></td>\n",
              "      <td>MEWLI</td>\n",
              "      <td>2022-04-21</td>\n",
              "      <td>106</td>\n",
              "      <td>MAIN</td>\n",
              "      <td>2</td>\n",
              "      <td>0</td>\n",
              "      <td>#na#</td>\n",
              "      <td>#na#</td>\n",
              "      <td>2022</td>\n",
              "      <td>False</td>\n",
              "      <td>False</td>\n",
              "      <td>False</td>\n",
              "      <td>False</td>\n",
              "      <td>False</td>\n",
              "      <td>False</td>\n",
              "      <td>False</td>\n",
              "      <td>False</td>\n",
              "      <td>False</td>\n",
              "      <td>False</td>\n",
              "      <td>False</td>\n",
              "      <td>True</td>\n",
              "      <td>True</td>\n",
              "      <td>True</td>\n",
              "      <td>True</td>\n",
              "      <td>True</td>\n",
              "      <td>50.0</td>\n",
              "      <td>61.0</td>\n",
              "      <td>92.0</td>\n",
              "      <td>9282.0</td>\n",
              "      <td>10992.0</td>\n",
              "      <td>-10</td>\n",
              "      <td>766.046082</td>\n",
              "      <td>4</td>\n",
              "      <td>12</td>\n",
              "      <td>2</td>\n",
              "      <td>219727008.0</td>\n",
              "      <td>1078840.0</td>\n",
              "      <td>12202400.0</td>\n",
              "      <td>25820.0</td>\n",
              "      <td>65535.0</td>\n",
              "      <td>10</td>\n",
              "      <td>0</td>\n",
              "      <td>0</td>\n",
              "      <td>0</td>\n",
              "      <td>258.420013</td>\n",
              "      <td>-4.0</td>\n",
              "      <td>1.0</td>\n",
              "      <td>260.200012</td>\n",
              "      <td>1.0</td>\n",
              "      <td>766</td>\n",
              "      <td>2</td>\n",
              "      <td>4</td>\n",
              "      <td>16</td>\n",
              "      <td>21</td>\n",
              "      <td>3</td>\n",
              "      <td>111</td>\n",
              "      <td>1.650584e+09</td>\n",
              "      <td>-10</td>\n",
              "    </tr>\n",
              "    <tr>\n",
              "      <th>7</th>\n",
              "      <td>UP2010</td>\n",
              "      <td>UP</td>\n",
              "      <td></td>\n",
              "      <td>MEWLI</td>\n",
              "      <td>2022-04-21</td>\n",
              "      <td>106</td>\n",
              "      <td>MAIN</td>\n",
              "      <td>2</td>\n",
              "      <td>0</td>\n",
              "      <td>#na#</td>\n",
              "      <td>#na#</td>\n",
              "      <td>2022</td>\n",
              "      <td>False</td>\n",
              "      <td>False</td>\n",
              "      <td>False</td>\n",
              "      <td>False</td>\n",
              "      <td>False</td>\n",
              "      <td>False</td>\n",
              "      <td>False</td>\n",
              "      <td>False</td>\n",
              "      <td>False</td>\n",
              "      <td>False</td>\n",
              "      <td>False</td>\n",
              "      <td>True</td>\n",
              "      <td>True</td>\n",
              "      <td>True</td>\n",
              "      <td>True</td>\n",
              "      <td>True</td>\n",
              "      <td>50.0</td>\n",
              "      <td>61.0</td>\n",
              "      <td>92.0</td>\n",
              "      <td>9282.0</td>\n",
              "      <td>10992.0</td>\n",
              "      <td>-10</td>\n",
              "      <td>765.774414</td>\n",
              "      <td>4</td>\n",
              "      <td>12</td>\n",
              "      <td>2</td>\n",
              "      <td>219727008.0</td>\n",
              "      <td>1078840.0</td>\n",
              "      <td>12202400.0</td>\n",
              "      <td>25820.0</td>\n",
              "      <td>65535.0</td>\n",
              "      <td>10</td>\n",
              "      <td>0</td>\n",
              "      <td>0</td>\n",
              "      <td>0</td>\n",
              "      <td>258.420013</td>\n",
              "      <td>-4.0</td>\n",
              "      <td>1.0</td>\n",
              "      <td>260.200012</td>\n",
              "      <td>1.0</td>\n",
              "      <td>765</td>\n",
              "      <td>2</td>\n",
              "      <td>4</td>\n",
              "      <td>16</td>\n",
              "      <td>21</td>\n",
              "      <td>3</td>\n",
              "      <td>111</td>\n",
              "      <td>1.650584e+09</td>\n",
              "      <td>-10</td>\n",
              "    </tr>\n",
              "    <tr>\n",
              "      <th>8</th>\n",
              "      <td>UP2010</td>\n",
              "      <td>UP</td>\n",
              "      <td></td>\n",
              "      <td>MEWLI</td>\n",
              "      <td>2022-04-21</td>\n",
              "      <td>106</td>\n",
              "      <td>MAIN</td>\n",
              "      <td>2</td>\n",
              "      <td>0</td>\n",
              "      <td>#na#</td>\n",
              "      <td>#na#</td>\n",
              "      <td>2022</td>\n",
              "      <td>False</td>\n",
              "      <td>False</td>\n",
              "      <td>False</td>\n",
              "      <td>False</td>\n",
              "      <td>False</td>\n",
              "      <td>False</td>\n",
              "      <td>False</td>\n",
              "      <td>False</td>\n",
              "      <td>False</td>\n",
              "      <td>False</td>\n",
              "      <td>False</td>\n",
              "      <td>True</td>\n",
              "      <td>True</td>\n",
              "      <td>True</td>\n",
              "      <td>True</td>\n",
              "      <td>True</td>\n",
              "      <td>50.0</td>\n",
              "      <td>61.0</td>\n",
              "      <td>92.0</td>\n",
              "      <td>9282.0</td>\n",
              "      <td>10992.0</td>\n",
              "      <td>-8</td>\n",
              "      <td>765.598877</td>\n",
              "      <td>4</td>\n",
              "      <td>12</td>\n",
              "      <td>2</td>\n",
              "      <td>219727008.0</td>\n",
              "      <td>1078840.0</td>\n",
              "      <td>12202400.0</td>\n",
              "      <td>25820.0</td>\n",
              "      <td>65535.0</td>\n",
              "      <td>10</td>\n",
              "      <td>0</td>\n",
              "      <td>0</td>\n",
              "      <td>0</td>\n",
              "      <td>258.420013</td>\n",
              "      <td>-4.0</td>\n",
              "      <td>1.0</td>\n",
              "      <td>260.200012</td>\n",
              "      <td>1.0</td>\n",
              "      <td>765</td>\n",
              "      <td>2</td>\n",
              "      <td>4</td>\n",
              "      <td>16</td>\n",
              "      <td>21</td>\n",
              "      <td>3</td>\n",
              "      <td>111</td>\n",
              "      <td>1.650584e+09</td>\n",
              "      <td>-8</td>\n",
              "    </tr>\n",
              "    <tr>\n",
              "      <th>9</th>\n",
              "      <td>UP2524</td>\n",
              "      <td>UP</td>\n",
              "      <td></td>\n",
              "      <td>ZBRG2</td>\n",
              "      <td>2022-04-06</td>\n",
              "      <td>106</td>\n",
              "      <td>MT 2</td>\n",
              "      <td>2</td>\n",
              "      <td>0</td>\n",
              "      <td>#na#</td>\n",
              "      <td>202.20</td>\n",
              "      <td>2022</td>\n",
              "      <td>False</td>\n",
              "      <td>False</td>\n",
              "      <td>False</td>\n",
              "      <td>False</td>\n",
              "      <td>False</td>\n",
              "      <td>False</td>\n",
              "      <td>False</td>\n",
              "      <td>False</td>\n",
              "      <td>False</td>\n",
              "      <td>False</td>\n",
              "      <td>False</td>\n",
              "      <td>True</td>\n",
              "      <td>True</td>\n",
              "      <td>True</td>\n",
              "      <td>True</td>\n",
              "      <td>True</td>\n",
              "      <td>70.0</td>\n",
              "      <td>37.0</td>\n",
              "      <td>5.0</td>\n",
              "      <td>6034.0</td>\n",
              "      <td>4180.0</td>\n",
              "      <td>-56</td>\n",
              "      <td>326.180389</td>\n",
              "      <td>1</td>\n",
              "      <td>10</td>\n",
              "      <td>2</td>\n",
              "      <td>83582000.0</td>\n",
              "      <td>678370.0</td>\n",
              "      <td>21020000.0</td>\n",
              "      <td>43900.0</td>\n",
              "      <td>65535.0</td>\n",
              "      <td>0</td>\n",
              "      <td>0</td>\n",
              "      <td>0</td>\n",
              "      <td>0</td>\n",
              "      <td>258.420013</td>\n",
              "      <td>-4.0</td>\n",
              "      <td>1.0</td>\n",
              "      <td>260.200012</td>\n",
              "      <td>1.0</td>\n",
              "      <td>326</td>\n",
              "      <td>5</td>\n",
              "      <td>4</td>\n",
              "      <td>14</td>\n",
              "      <td>8</td>\n",
              "      <td>4</td>\n",
              "      <td>98</td>\n",
              "      <td>1.649435e+09</td>\n",
              "      <td>-56</td>\n",
              "    </tr>\n",
              "  </tbody>\n",
              "</table>"
            ]
          },
          "metadata": {}
        }
      ]
    },
    {
      "cell_type": "code",
      "source": [
        "fastai.save_pickle('/tmp/to.pkl',to)"
      ],
      "metadata": {
        "id": "r-D5hdO3-ypC"
      },
      "execution_count": 37,
      "outputs": []
    },
    {
      "cell_type": "markdown",
      "source": [
        "# Creating the Decision Tree"
      ],
      "metadata": {
        "id": "knWgCrX_A0Ep"
      }
    },
    {
      "cell_type": "code",
      "source": [
        "to = fastai.load_pickle('/tmp/to.pkl')"
      ],
      "metadata": {
        "id": "rtc_YDw0ArMR"
      },
      "execution_count": 38,
      "outputs": []
    },
    {
      "cell_type": "code",
      "source": [
        "xs,y = to.train.xs,to.train.y\n",
        "valid_xs,valid_y = to.valid.xs,to.valid.y"
      ],
      "metadata": {
        "id": "CcGx27DMBMbc"
      },
      "execution_count": 39,
      "outputs": []
    },
    {
      "cell_type": "code",
      "source": [
        "m = DecisionTreeRegressor(max_leaf_nodes=16)\n",
        "m.fit(xs, y);"
      ],
      "metadata": {
        "id": "clTcBmpGBXv6"
      },
      "execution_count": 40,
      "outputs": []
    },
    {
      "cell_type": "code",
      "source": [
        "fastai.draw_tree(m, xs, size=20, leaves_parallel=True, precision=2)"
      ],
      "metadata": {
        "colab": {
          "base_uri": "https://localhost:8080/",
          "height": 1000
        },
        "id": "nhXNnHk7CSmF",
        "outputId": "7fe3a8ed-3fbb-4c50-90ee-c5b2f407596e"
      },
      "execution_count": 41,
      "outputs": [
        {
          "output_type": "execute_result",
          "data": {
            "text/plain": [
              "<graphviz.files.Source at 0x7efabe46f750>"
            ],
            "image/svg+xml": "<?xml version=\"1.0\" encoding=\"UTF-8\" standalone=\"no\"?>\n<!DOCTYPE svg PUBLIC \"-//W3C//DTD SVG 1.1//EN\"\n \"http://www.w3.org/Graphics/SVG/1.1/DTD/svg11.dtd\">\n<!-- Generated by graphviz version 2.40.1 (20161225.0304)\n -->\n<!-- Title: Tree Pages: 1 -->\n<svg width=\"1440pt\" height=\"866pt\"\n viewBox=\"0.00 0.00 1440.00 866.20\" xmlns=\"http://www.w3.org/2000/svg\" xmlns:xlink=\"http://www.w3.org/1999/xlink\">\n<g id=\"graph0\" class=\"graph\" transform=\"scale(.4911 .4911) rotate(0) translate(4 1759.6825)\">\n<title>Tree</title>\n<polygon fill=\"#ffffff\" stroke=\"transparent\" points=\"-4,4 -4,-1759.6825 2928,-1759.6825 2928,4 -4,4\"/>\n<!-- 0 -->\n<g id=\"node1\" class=\"node\">\n<title>0</title>\n<path fill=\"#efaf82\" stroke=\"#000000\" d=\"M1476,-1702C1476,-1702 1225,-1702 1225,-1702 1219,-1702 1213,-1696 1213,-1690 1213,-1690 1213,-1646 1213,-1646 1213,-1640 1219,-1634 1225,-1634 1225,-1634 1476,-1634 1476,-1634 1482,-1634 1488,-1640 1488,-1646 1488,-1646 1488,-1690 1488,-1690 1488,-1696 1482,-1702 1476,-1702\"/>\n<text text-anchor=\"start\" x=\"1221\" y=\"-1686.8\" font-family=\"Helvetica,sans-Serif\" font-size=\"14.00\" fill=\"#000000\">lastReportedPosition.speedMPH ≤ &#45;29.5</text>\n<text text-anchor=\"start\" x=\"1274\" y=\"-1671.8\" font-family=\"Helvetica,sans-Serif\" font-size=\"14.00\" fill=\"#000000\">squared_error = 395.61</text>\n<text text-anchor=\"start\" x=\"1298.5\" y=\"-1656.8\" font-family=\"Helvetica,sans-Serif\" font-size=\"14.00\" fill=\"#000000\">samples = 9161</text>\n<text text-anchor=\"start\" x=\"1304\" y=\"-1641.8\" font-family=\"Helvetica,sans-Serif\" font-size=\"14.00\" fill=\"#000000\">value = &#45;18.46</text>\n</g>\n<!-- 1 -->\n<g id=\"node2\" class=\"node\">\n<title>1</title>\n<path fill=\"#f4c8a8\" stroke=\"#000000\" d=\"M1056,-1436C1056,-1436 913,-1436 913,-1436 907,-1436 901,-1430 901,-1424 901,-1424 901,-1380 901,-1380 901,-1374 907,-1368 913,-1368 913,-1368 1056,-1368 1056,-1368 1062,-1368 1068,-1374 1068,-1380 1068,-1380 1068,-1424 1068,-1424 1068,-1430 1062,-1436 1056,-1436\"/>\n<text text-anchor=\"start\" x=\"909\" y=\"-1420.8\" font-family=\"Helvetica,sans-Serif\" font-size=\"14.00\" fill=\"#000000\">loadedCarCount ≤ 37.5</text>\n<text text-anchor=\"start\" x=\"912\" y=\"-1405.8\" font-family=\"Helvetica,sans-Serif\" font-size=\"14.00\" fill=\"#000000\">squared_error = 217.6</text>\n<text text-anchor=\"start\" x=\"932.5\" y=\"-1390.8\" font-family=\"Helvetica,sans-Serif\" font-size=\"14.00\" fill=\"#000000\">samples = 3137</text>\n<text text-anchor=\"start\" x=\"938\" y=\"-1375.8\" font-family=\"Helvetica,sans-Serif\" font-size=\"14.00\" fill=\"#000000\">value = &#45;31.81</text>\n</g>\n<!-- 0&#45;&gt;1 -->\n<g id=\"edge1\" class=\"edge\">\n<title>0&#45;&gt;1</title>\n<path fill=\"none\" stroke=\"#000000\" d=\"M1303.4012,-1633.7697C1235.8696,-1584.6894 1111.7722,-1494.4984 1039.9149,-1442.2742\"/>\n<polygon fill=\"#000000\" stroke=\"#000000\" points=\"1041.565,-1439.1468 1031.418,-1436.0989 1037.4496,-1444.8093 1041.565,-1439.1468\"/>\n<text text-anchor=\"middle\" x=\"1035.3251\" y=\"-1457.0917\" font-family=\"Helvetica,sans-Serif\" font-size=\"14.00\" fill=\"#000000\">True</text>\n</g>\n<!-- 2 -->\n<g id=\"node17\" class=\"node\">\n<title>2</title>\n<path fill=\"#eca36e\" stroke=\"#000000\" d=\"M1747,-1436C1747,-1436 1500,-1436 1500,-1436 1494,-1436 1488,-1430 1488,-1424 1488,-1424 1488,-1380 1488,-1380 1488,-1374 1494,-1368 1500,-1368 1500,-1368 1747,-1368 1747,-1368 1753,-1368 1759,-1374 1759,-1380 1759,-1380 1759,-1424 1759,-1424 1759,-1430 1753,-1436 1747,-1436\"/>\n<text text-anchor=\"start\" x=\"1496\" y=\"-1420.8\" font-family=\"Helvetica,sans-Serif\" font-size=\"14.00\" fill=\"#000000\">lastReportedPosition.speedMPH ≤ 19.5</text>\n<text text-anchor=\"start\" x=\"1551\" y=\"-1405.8\" font-family=\"Helvetica,sans-Serif\" font-size=\"14.00\" fill=\"#000000\">squared_error = 347.2</text>\n<text text-anchor=\"start\" x=\"1571.5\" y=\"-1390.8\" font-family=\"Helvetica,sans-Serif\" font-size=\"14.00\" fill=\"#000000\">samples = 6024</text>\n<text text-anchor=\"start\" x=\"1577\" y=\"-1375.8\" font-family=\"Helvetica,sans-Serif\" font-size=\"14.00\" fill=\"#000000\">value = &#45;11.51</text>\n</g>\n<!-- 0&#45;&gt;2 -->\n<g id=\"edge16\" class=\"edge\">\n<title>0&#45;&gt;2</title>\n<path fill=\"none\" stroke=\"#000000\" d=\"M1385.6311,-1633.7697C1435.6958,-1584.9887 1527.4402,-1495.5968 1581.1812,-1443.2337\"/>\n<polygon fill=\"#000000\" stroke=\"#000000\" points=\"1583.784,-1445.5844 1588.5038,-1436.0989 1578.8989,-1440.5708 1583.784,-1445.5844\"/>\n<text text-anchor=\"middle\" x=\"1588.1791\" y=\"-1457.3968\" font-family=\"Helvetica,sans-Serif\" font-size=\"14.00\" fill=\"#000000\">False</text>\n</g>\n<!-- 9 -->\n<g id=\"node3\" class=\"node\">\n<title>9</title>\n<path fill=\"#f7d6bf\" stroke=\"#000000\" d=\"M534,-1169C534,-1169 159,-1169 159,-1169 153,-1169 147,-1163 147,-1157 147,-1157 147,-1113 147,-1113 147,-1107 153,-1101 159,-1101 159,-1101 534,-1101 534,-1101 540,-1101 546,-1107 546,-1113 546,-1113 546,-1157 546,-1157 546,-1163 540,-1169 534,-1169\"/>\n<text text-anchor=\"start\" x=\"155\" y=\"-1153.8\" font-family=\"Helvetica,sans-Serif\" font-size=\"14.00\" fill=\"#000000\">lastReportedPosition.positionTimeElapsed ≤ 1649441216.0</text>\n<text text-anchor=\"start\" x=\"270\" y=\"-1138.8\" font-family=\"Helvetica,sans-Serif\" font-size=\"14.00\" fill=\"#000000\">squared_error = 193.17</text>\n<text text-anchor=\"start\" x=\"298.5\" y=\"-1123.8\" font-family=\"Helvetica,sans-Serif\" font-size=\"14.00\" fill=\"#000000\">samples = 871</text>\n<text text-anchor=\"start\" x=\"300\" y=\"-1108.8\" font-family=\"Helvetica,sans-Serif\" font-size=\"14.00\" fill=\"#000000\">value = &#45;39.85</text>\n</g>\n<!-- 1&#45;&gt;9 -->\n<g id=\"edge2\" class=\"edge\">\n<title>1&#45;&gt;9</title>\n<path fill=\"none\" stroke=\"#000000\" d=\"M903.0488,-1367.9131C783.7108,-1317.9707 562.0464,-1225.2052 437.5022,-1173.084\"/>\n<polygon fill=\"#000000\" stroke=\"#000000\" points=\"438.5455,-1169.7265 427.9696,-1169.0946 435.8431,-1176.1839 438.5455,-1169.7265\"/>\n</g>\n<!-- 10 -->\n<g id=\"node8\" class=\"node\">\n<title>10</title>\n<path fill=\"#f2c29f\" stroke=\"#000000\" d=\"M1062.5,-1169C1062.5,-1169 906.5,-1169 906.5,-1169 900.5,-1169 894.5,-1163 894.5,-1157 894.5,-1157 894.5,-1113 894.5,-1113 894.5,-1107 900.5,-1101 906.5,-1101 906.5,-1101 1062.5,-1101 1062.5,-1101 1068.5,-1101 1074.5,-1107 1074.5,-1113 1074.5,-1113 1074.5,-1157 1074.5,-1157 1074.5,-1163 1068.5,-1169 1062.5,-1169\"/>\n<text text-anchor=\"start\" x=\"902.5\" y=\"-1153.8\" font-family=\"Helvetica,sans-Serif\" font-size=\"14.00\" fill=\"#000000\">trainId.trainSymbol ≤ 51.5</text>\n<text text-anchor=\"start\" x=\"908\" y=\"-1138.8\" font-family=\"Helvetica,sans-Serif\" font-size=\"14.00\" fill=\"#000000\">squared_error = 192.61</text>\n<text text-anchor=\"start\" x=\"932.5\" y=\"-1123.8\" font-family=\"Helvetica,sans-Serif\" font-size=\"14.00\" fill=\"#000000\">samples = 2266</text>\n<text text-anchor=\"start\" x=\"938\" y=\"-1108.8\" font-family=\"Helvetica,sans-Serif\" font-size=\"14.00\" fill=\"#000000\">value = &#45;28.72</text>\n</g>\n<!-- 1&#45;&gt;10 -->\n<g id=\"edge7\" class=\"edge\">\n<title>1&#45;&gt;10</title>\n<path fill=\"none\" stroke=\"#000000\" d=\"M984.5,-1367.9131C984.5,-1319.9382 984.5,-1232.4478 984.5,-1179.4282\"/>\n<polygon fill=\"#000000\" stroke=\"#000000\" points=\"988.0001,-1179.3057 984.5,-1169.3058 981.0001,-1179.3058 988.0001,-1179.3057\"/>\n</g>\n<!-- 15 -->\n<g id=\"node4\" class=\"node\">\n<title>15</title>\n<path fill=\"#ffffff\" stroke=\"#000000\" d=\"M149,-94.5C149,-94.5 12,-94.5 12,-94.5 6,-94.5 0,-88.5 0,-82.5 0,-82.5 0,-53.5 0,-53.5 0,-47.5 6,-41.5 12,-41.5 12,-41.5 149,-41.5 149,-41.5 155,-41.5 161,-47.5 161,-53.5 161,-53.5 161,-82.5 161,-82.5 161,-88.5 155,-94.5 149,-94.5\"/>\n<text text-anchor=\"start\" x=\"8\" y=\"-79.3\" font-family=\"Helvetica,sans-Serif\" font-size=\"14.00\" fill=\"#000000\">squared_error = 80.48</text>\n<text text-anchor=\"start\" x=\"36.5\" y=\"-64.3\" font-family=\"Helvetica,sans-Serif\" font-size=\"14.00\" fill=\"#000000\">samples = 78</text>\n<text text-anchor=\"start\" x=\"34\" y=\"-49.3\" font-family=\"Helvetica,sans-Serif\" font-size=\"14.00\" fill=\"#000000\">value = &#45;62.22</text>\n</g>\n<!-- 9&#45;&gt;15 -->\n<g id=\"edge3\" class=\"edge\">\n<title>9&#45;&gt;15</title>\n<path fill=\"none\" stroke=\"#000000\" d=\"M322.5963,-1100.62C277.5333,-1035.8072 184.5,-902 184.5,-902 184.5,-902 105.3239,-267.0687 85.1388,-105.1992\"/>\n<polygon fill=\"#000000\" stroke=\"#000000\" points=\"88.5531,-104.2941 83.8425,-94.8041 81.6069,-105.1604 88.5531,-104.2941\"/>\n</g>\n<!-- 16 -->\n<g id=\"node5\" class=\"node\">\n<title>16</title>\n<path fill=\"#f6d2b9\" stroke=\"#000000\" d=\"M487.5,-902C487.5,-902 205.5,-902 205.5,-902 199.5,-902 193.5,-896 193.5,-890 193.5,-890 193.5,-846 193.5,-846 193.5,-840 199.5,-834 205.5,-834 205.5,-834 487.5,-834 487.5,-834 493.5,-834 499.5,-840 499.5,-846 499.5,-846 499.5,-890 499.5,-890 499.5,-896 493.5,-902 487.5,-902\"/>\n<text text-anchor=\"start\" x=\"201.5\" y=\"-886.8\" font-family=\"Helvetica,sans-Serif\" font-size=\"14.00\" fill=\"#000000\">lastReportedPosition.positionTimeDay ≤ 11.0</text>\n<text text-anchor=\"start\" x=\"270\" y=\"-871.8\" font-family=\"Helvetica,sans-Serif\" font-size=\"14.00\" fill=\"#000000\">squared_error = 150.19</text>\n<text text-anchor=\"start\" x=\"298.5\" y=\"-856.8\" font-family=\"Helvetica,sans-Serif\" font-size=\"14.00\" fill=\"#000000\">samples = 793</text>\n<text text-anchor=\"start\" x=\"300\" y=\"-841.8\" font-family=\"Helvetica,sans-Serif\" font-size=\"14.00\" fill=\"#000000\">value = &#45;37.65</text>\n</g>\n<!-- 9&#45;&gt;16 -->\n<g id=\"edge4\" class=\"edge\">\n<title>9&#45;&gt;16</title>\n<path fill=\"none\" stroke=\"#000000\" d=\"M346.5,-1100.9131C346.5,-1052.9382 346.5,-965.4478 346.5,-912.4282\"/>\n<polygon fill=\"#000000\" stroke=\"#000000\" points=\"350.0001,-912.3057 346.5,-902.3058 343.0001,-912.3058 350.0001,-912.3057\"/>\n</g>\n<!-- 17 -->\n<g id=\"node6\" class=\"node\">\n<title>17</title>\n<path fill=\"#efb185\" stroke=\"#000000\" d=\"M319.5,-94.5C319.5,-94.5 191.5,-94.5 191.5,-94.5 185.5,-94.5 179.5,-88.5 179.5,-82.5 179.5,-82.5 179.5,-53.5 179.5,-53.5 179.5,-47.5 185.5,-41.5 191.5,-41.5 191.5,-41.5 319.5,-41.5 319.5,-41.5 325.5,-41.5 331.5,-47.5 331.5,-53.5 331.5,-53.5 331.5,-82.5 331.5,-82.5 331.5,-88.5 325.5,-94.5 319.5,-94.5\"/>\n<text text-anchor=\"start\" x=\"187.5\" y=\"-79.3\" font-family=\"Helvetica,sans-Serif\" font-size=\"14.00\" fill=\"#000000\">squared_error = 86.2</text>\n<text text-anchor=\"start\" x=\"207.5\" y=\"-64.3\" font-family=\"Helvetica,sans-Serif\" font-size=\"14.00\" fill=\"#000000\">samples = 129</text>\n<text text-anchor=\"start\" x=\"209\" y=\"-49.3\" font-family=\"Helvetica,sans-Serif\" font-size=\"14.00\" fill=\"#000000\">value = &#45;19.67</text>\n</g>\n<!-- 16&#45;&gt;17 -->\n<g id=\"edge5\" class=\"edge\">\n<title>16&#45;&gt;17</title>\n<path fill=\"none\" stroke=\"#000000\" d=\"M342.619,-833.8809C327.8215,-703.7938 275.0074,-239.4936 259.6913,-104.8467\"/>\n<polygon fill=\"#000000\" stroke=\"#000000\" points=\"263.1389,-104.1863 258.531,-94.646 256.1837,-104.9775 263.1389,-104.1863\"/>\n</g>\n<!-- 18 -->\n<g id=\"node7\" class=\"node\">\n<title>18</title>\n<path fill=\"#f7d9c3\" stroke=\"#000000\" d=\"M499,-94.5C499,-94.5 362,-94.5 362,-94.5 356,-94.5 350,-88.5 350,-82.5 350,-82.5 350,-53.5 350,-53.5 350,-47.5 356,-41.5 362,-41.5 362,-41.5 499,-41.5 499,-41.5 505,-41.5 511,-47.5 511,-53.5 511,-53.5 511,-82.5 511,-82.5 511,-88.5 505,-94.5 499,-94.5\"/>\n<text text-anchor=\"start\" x=\"358\" y=\"-79.3\" font-family=\"Helvetica,sans-Serif\" font-size=\"14.00\" fill=\"#000000\">squared_error = 87.67</text>\n<text text-anchor=\"start\" x=\"382.5\" y=\"-64.3\" font-family=\"Helvetica,sans-Serif\" font-size=\"14.00\" fill=\"#000000\">samples = 664</text>\n<text text-anchor=\"start\" x=\"384\" y=\"-49.3\" font-family=\"Helvetica,sans-Serif\" font-size=\"14.00\" fill=\"#000000\">value = &#45;41.14</text>\n</g>\n<!-- 16&#45;&gt;18 -->\n<g id=\"edge6\" class=\"edge\">\n<title>16&#45;&gt;18</title>\n<path fill=\"none\" stroke=\"#000000\" d=\"M350.0825,-833.8809C363.7416,-703.7938 412.4932,-239.4936 426.6311,-104.8467\"/>\n<polygon fill=\"#000000\" stroke=\"#000000\" points=\"430.1387,-104.9568 427.7022,-94.646 423.177,-104.2258 430.1387,-104.9568\"/>\n</g>\n<!-- 19 -->\n<g id=\"node9\" class=\"node\">\n<title>19</title>\n<path fill=\"#f2bf9b\" stroke=\"#000000\" d=\"M888.5,-902C888.5,-902 714.5,-902 714.5,-902 708.5,-902 702.5,-896 702.5,-890 702.5,-890 702.5,-846 702.5,-846 702.5,-840 708.5,-834 714.5,-834 714.5,-834 888.5,-834 888.5,-834 894.5,-834 900.5,-840 900.5,-846 900.5,-846 900.5,-890 900.5,-890 900.5,-896 894.5,-902 888.5,-902\"/>\n<text text-anchor=\"start\" x=\"710.5\" y=\"-886.8\" font-family=\"Helvetica,sans-Serif\" font-size=\"14.00\" fill=\"#000000\">maximumTrainSpeed ≤ 60.0</text>\n<text text-anchor=\"start\" x=\"725\" y=\"-871.8\" font-family=\"Helvetica,sans-Serif\" font-size=\"14.00\" fill=\"#000000\">squared_error = 164.68</text>\n<text text-anchor=\"start\" x=\"749.5\" y=\"-856.8\" font-family=\"Helvetica,sans-Serif\" font-size=\"14.00\" fill=\"#000000\">samples = 1982</text>\n<text text-anchor=\"start\" x=\"755\" y=\"-841.8\" font-family=\"Helvetica,sans-Serif\" font-size=\"14.00\" fill=\"#000000\">value = &#45;27.14</text>\n</g>\n<!-- 10&#45;&gt;19 -->\n<g id=\"edge8\" class=\"edge\">\n<title>10&#45;&gt;19</title>\n<path fill=\"none\" stroke=\"#000000\" d=\"M961.137,-1100.9131C927.9129,-1052.4385 867.0379,-963.6208 830.8229,-910.7826\"/>\n<polygon fill=\"#000000\" stroke=\"#000000\" points=\"833.5535,-908.5756 825.0129,-902.3058 827.7795,-912.5331 833.5535,-908.5756\"/>\n</g>\n<!-- 20 -->\n<g id=\"node14\" class=\"node\">\n<title>20</title>\n<path fill=\"#f7d6bf\" stroke=\"#000000\" d=\"M1400,-902C1400,-902 933,-902 933,-902 927,-902 921,-896 921,-890 921,-890 921,-846 921,-846 921,-840 927,-834 933,-834 933,-834 1400,-834 1400,-834 1406,-834 1412,-840 1412,-846 1412,-846 1412,-890 1412,-890 1412,-896 1406,-902 1400,-902\"/>\n<text text-anchor=\"start\" x=\"929\" y=\"-886.8\" font-family=\"Helvetica,sans-Serif\" font-size=\"14.00\" fill=\"#000000\">lastReportedPosition.milepostLocation.milepost.milepostNumber ≤ 258.87</text>\n<text text-anchor=\"start\" x=\"1090\" y=\"-871.8\" font-family=\"Helvetica,sans-Serif\" font-size=\"14.00\" fill=\"#000000\">squared_error = 247.99</text>\n<text text-anchor=\"start\" x=\"1118.5\" y=\"-856.8\" font-family=\"Helvetica,sans-Serif\" font-size=\"14.00\" fill=\"#000000\">samples = 284</text>\n<text text-anchor=\"start\" x=\"1120\" y=\"-841.8\" font-family=\"Helvetica,sans-Serif\" font-size=\"14.00\" fill=\"#000000\">value = &#45;39.77</text>\n</g>\n<!-- 10&#45;&gt;20 -->\n<g id=\"edge13\" class=\"edge\">\n<title>10&#45;&gt;20</title>\n<path fill=\"none\" stroke=\"#000000\" d=\"M1007.7353,-1100.9131C1040.7779,-1052.4385 1101.3203,-963.6208 1137.3373,-910.7826\"/>\n<polygon fill=\"#000000\" stroke=\"#000000\" points=\"1140.3751,-912.5401 1143.1155,-902.3058 1134.5911,-908.5974 1140.3751,-912.5401\"/>\n</g>\n<!-- 21 -->\n<g id=\"node10\" class=\"node\">\n<title>21</title>\n<path fill=\"#f3c6a5\" stroke=\"#000000\" d=\"M686,-94.5C686,-94.5 541,-94.5 541,-94.5 535,-94.5 529,-88.5 529,-82.5 529,-82.5 529,-53.5 529,-53.5 529,-47.5 535,-41.5 541,-41.5 541,-41.5 686,-41.5 686,-41.5 692,-41.5 698,-47.5 698,-53.5 698,-53.5 698,-82.5 698,-82.5 698,-88.5 692,-94.5 686,-94.5\"/>\n<text text-anchor=\"start\" x=\"537\" y=\"-79.3\" font-family=\"Helvetica,sans-Serif\" font-size=\"14.00\" fill=\"#000000\">squared_error = 132.29</text>\n<text text-anchor=\"start\" x=\"561.5\" y=\"-64.3\" font-family=\"Helvetica,sans-Serif\" font-size=\"14.00\" fill=\"#000000\">samples = 1232</text>\n<text text-anchor=\"start\" x=\"567\" y=\"-49.3\" font-family=\"Helvetica,sans-Serif\" font-size=\"14.00\" fill=\"#000000\">value = &#45;30.76</text>\n</g>\n<!-- 19&#45;&gt;21 -->\n<g id=\"edge9\" class=\"edge\">\n<title>19&#45;&gt;21</title>\n<path fill=\"none\" stroke=\"#000000\" d=\"M785.4167,-833.62C755.0965,-768.8072 692.5,-635 692.5,-635 692.5,-635 636.1553,-230.6016 618.635,-104.855\"/>\n<polygon fill=\"#000000\" stroke=\"#000000\" points=\"622.0509,-104.0084 617.2044,-94.5871 615.1179,-104.9744 622.0509,-104.0084\"/>\n</g>\n<!-- 22 -->\n<g id=\"node11\" class=\"node\">\n<title>22</title>\n<path fill=\"#f0b489\" stroke=\"#000000\" d=\"M889.5,-635C889.5,-635 713.5,-635 713.5,-635 707.5,-635 701.5,-629 701.5,-623 701.5,-623 701.5,-579 701.5,-579 701.5,-573 707.5,-567 713.5,-567 713.5,-567 889.5,-567 889.5,-567 895.5,-567 901.5,-573 901.5,-579 901.5,-579 901.5,-623 901.5,-623 901.5,-629 895.5,-635 889.5,-635\"/>\n<text text-anchor=\"start\" x=\"709.5\" y=\"-619.8\" font-family=\"Helvetica,sans-Serif\" font-size=\"14.00\" fill=\"#000000\">ptcLeadLocomotiveId ≤ 18.0</text>\n<text text-anchor=\"start\" x=\"725\" y=\"-604.8\" font-family=\"Helvetica,sans-Serif\" font-size=\"14.00\" fill=\"#000000\">squared_error = 160.98</text>\n<text text-anchor=\"start\" x=\"753.5\" y=\"-589.8\" font-family=\"Helvetica,sans-Serif\" font-size=\"14.00\" fill=\"#000000\">samples = 750</text>\n<text text-anchor=\"start\" x=\"755\" y=\"-574.8\" font-family=\"Helvetica,sans-Serif\" font-size=\"14.00\" fill=\"#000000\">value = &#45;21.19</text>\n</g>\n<!-- 19&#45;&gt;22 -->\n<g id=\"edge10\" class=\"edge\">\n<title>19&#45;&gt;22</title>\n<path fill=\"none\" stroke=\"#000000\" d=\"M801.5,-833.9131C801.5,-785.9382 801.5,-698.4478 801.5,-645.4282\"/>\n<polygon fill=\"#000000\" stroke=\"#000000\" points=\"805.0001,-645.3057 801.5,-635.3058 798.0001,-645.3058 805.0001,-645.3057\"/>\n</g>\n<!-- 23 -->\n<g id=\"node12\" class=\"node\">\n<title>23</title>\n<path fill=\"#f3c6a5\" stroke=\"#000000\" d=\"M873,-94.5C873,-94.5 728,-94.5 728,-94.5 722,-94.5 716,-88.5 716,-82.5 716,-82.5 716,-53.5 716,-53.5 716,-47.5 722,-41.5 728,-41.5 728,-41.5 873,-41.5 873,-41.5 879,-41.5 885,-47.5 885,-53.5 885,-53.5 885,-82.5 885,-82.5 885,-88.5 879,-94.5 873,-94.5\"/>\n<text text-anchor=\"start\" x=\"724\" y=\"-79.3\" font-family=\"Helvetica,sans-Serif\" font-size=\"14.00\" fill=\"#000000\">squared_error = 198.22</text>\n<text text-anchor=\"start\" x=\"752.5\" y=\"-64.3\" font-family=\"Helvetica,sans-Serif\" font-size=\"14.00\" fill=\"#000000\">samples = 255</text>\n<text text-anchor=\"start\" x=\"754\" y=\"-49.3\" font-family=\"Helvetica,sans-Serif\" font-size=\"14.00\" fill=\"#000000\">value = &#45;30.71</text>\n</g>\n<!-- 22&#45;&gt;23 -->\n<g id=\"edge11\" class=\"edge\">\n<title>22&#45;&gt;23</title>\n<path fill=\"none\" stroke=\"#000000\" d=\"M801.4359,-566.8476C801.2571,-471.5229 800.7535,-203.1339 800.5689,-104.7465\"/>\n<polygon fill=\"#000000\" stroke=\"#000000\" points=\"804.0689,-104.6787 800.5501,-94.6853 797.0689,-104.6919 804.0689,-104.6787\"/>\n</g>\n<!-- 24 -->\n<g id=\"node13\" class=\"node\">\n<title>24</title>\n<path fill=\"#eeab7b\" stroke=\"#000000\" d=\"M1052,-94.5C1052,-94.5 915,-94.5 915,-94.5 909,-94.5 903,-88.5 903,-82.5 903,-82.5 903,-53.5 903,-53.5 903,-47.5 909,-41.5 915,-41.5 915,-41.5 1052,-41.5 1052,-41.5 1058,-41.5 1064,-47.5 1064,-53.5 1064,-53.5 1064,-82.5 1064,-82.5 1064,-88.5 1058,-94.5 1052,-94.5\"/>\n<text text-anchor=\"start\" x=\"911\" y=\"-79.3\" font-family=\"Helvetica,sans-Serif\" font-size=\"14.00\" fill=\"#000000\">squared_error = 71.01</text>\n<text text-anchor=\"start\" x=\"935.5\" y=\"-64.3\" font-family=\"Helvetica,sans-Serif\" font-size=\"14.00\" fill=\"#000000\">samples = 495</text>\n<text text-anchor=\"start\" x=\"937\" y=\"-49.3\" font-family=\"Helvetica,sans-Serif\" font-size=\"14.00\" fill=\"#000000\">value = &#45;16.28</text>\n</g>\n<!-- 22&#45;&gt;24 -->\n<g id=\"edge12\" class=\"edge\">\n<title>22&#45;&gt;24</title>\n<path fill=\"none\" stroke=\"#000000\" d=\"M813.1618,-566.8476C845.7776,-471.3299 937.728,-202.0466 971.1557,-104.1511\"/>\n<polygon fill=\"#000000\" stroke=\"#000000\" points=\"974.4687,-105.2798 974.3879,-94.6853 967.8442,-103.0178 974.4687,-105.2798\"/>\n</g>\n<!-- 25 -->\n<g id=\"node15\" class=\"node\">\n<title>25</title>\n<path fill=\"#f2be99\" stroke=\"#000000\" d=\"M1239,-94.5C1239,-94.5 1094,-94.5 1094,-94.5 1088,-94.5 1082,-88.5 1082,-82.5 1082,-82.5 1082,-53.5 1082,-53.5 1082,-47.5 1088,-41.5 1094,-41.5 1094,-41.5 1239,-41.5 1239,-41.5 1245,-41.5 1251,-47.5 1251,-53.5 1251,-53.5 1251,-82.5 1251,-82.5 1251,-88.5 1245,-94.5 1239,-94.5\"/>\n<text text-anchor=\"start\" x=\"1090\" y=\"-79.3\" font-family=\"Helvetica,sans-Serif\" font-size=\"14.00\" fill=\"#000000\">squared_error = 226.77</text>\n<text text-anchor=\"start\" x=\"1118.5\" y=\"-64.3\" font-family=\"Helvetica,sans-Serif\" font-size=\"14.00\" fill=\"#000000\">samples = 117</text>\n<text text-anchor=\"start\" x=\"1120\" y=\"-49.3\" font-family=\"Helvetica,sans-Serif\" font-size=\"14.00\" fill=\"#000000\">value = &#45;26.67</text>\n</g>\n<!-- 20&#45;&gt;25 -->\n<g id=\"edge14\" class=\"edge\">\n<title>20&#45;&gt;25</title>\n<path fill=\"none\" stroke=\"#000000\" d=\"M1166.5,-833.8809C1166.5,-703.7938 1166.5,-239.4936 1166.5,-104.8467\"/>\n<polygon fill=\"#000000\" stroke=\"#000000\" points=\"1170.0001,-104.6459 1166.5,-94.646 1163.0001,-104.646 1170.0001,-104.6459\"/>\n</g>\n<!-- 26 -->\n<g id=\"node16\" class=\"node\">\n<title>26</title>\n<path fill=\"#fae7d9\" stroke=\"#000000\" d=\"M1418,-94.5C1418,-94.5 1281,-94.5 1281,-94.5 1275,-94.5 1269,-88.5 1269,-82.5 1269,-82.5 1269,-53.5 1269,-53.5 1269,-47.5 1275,-41.5 1281,-41.5 1281,-41.5 1418,-41.5 1418,-41.5 1424,-41.5 1430,-47.5 1430,-53.5 1430,-53.5 1430,-82.5 1430,-82.5 1430,-88.5 1424,-94.5 1418,-94.5\"/>\n<text text-anchor=\"start\" x=\"1277\" y=\"-79.3\" font-family=\"Helvetica,sans-Serif\" font-size=\"14.00\" fill=\"#000000\">squared_error = 58.36</text>\n<text text-anchor=\"start\" x=\"1301.5\" y=\"-64.3\" font-family=\"Helvetica,sans-Serif\" font-size=\"14.00\" fill=\"#000000\">samples = 167</text>\n<text text-anchor=\"start\" x=\"1303\" y=\"-49.3\" font-family=\"Helvetica,sans-Serif\" font-size=\"14.00\" fill=\"#000000\">value = &#45;48.95</text>\n</g>\n<!-- 20&#45;&gt;26 -->\n<g id=\"edge15\" class=\"edge\">\n<title>20&#45;&gt;26</title>\n<path fill=\"none\" stroke=\"#000000\" d=\"M1174.3047,-833.8809C1204.092,-703.6634 1310.484,-238.5619 1341.1638,-104.4426\"/>\n<polygon fill=\"#000000\" stroke=\"#000000\" points=\"1344.5866,-105.1747 1343.4047,-94.646 1337.7629,-103.6137 1344.5866,-105.1747\"/>\n</g>\n<!-- 3 -->\n<g id=\"node18\" class=\"node\">\n<title>3</title>\n<path fill=\"#e78c4b\" stroke=\"#000000\" d=\"M1745,-1169C1745,-1169 1502,-1169 1502,-1169 1496,-1169 1490,-1163 1490,-1157 1490,-1157 1490,-1113 1490,-1113 1490,-1107 1496,-1101 1502,-1101 1502,-1101 1745,-1101 1745,-1101 1751,-1101 1757,-1107 1757,-1113 1757,-1113 1757,-1157 1757,-1157 1757,-1163 1751,-1169 1745,-1169\"/>\n<text text-anchor=\"start\" x=\"1498\" y=\"-1153.8\" font-family=\"Helvetica,sans-Serif\" font-size=\"14.00\" fill=\"#000000\">lastReportedPosition.speedMPH ≤ &#45;9.5</text>\n<text text-anchor=\"start\" x=\"1547\" y=\"-1138.8\" font-family=\"Helvetica,sans-Serif\" font-size=\"14.00\" fill=\"#000000\">squared_error = 175.75</text>\n<text text-anchor=\"start\" x=\"1571.5\" y=\"-1123.8\" font-family=\"Helvetica,sans-Serif\" font-size=\"14.00\" fill=\"#000000\">samples = 2983</text>\n<text text-anchor=\"start\" x=\"1583.5\" y=\"-1108.8\" font-family=\"Helvetica,sans-Serif\" font-size=\"14.00\" fill=\"#000000\">value = 0.69</text>\n</g>\n<!-- 2&#45;&gt;3 -->\n<g id=\"edge17\" class=\"edge\">\n<title>2&#45;&gt;3</title>\n<path fill=\"none\" stroke=\"#000000\" d=\"M1623.5,-1367.9131C1623.5,-1319.9382 1623.5,-1232.4478 1623.5,-1179.4282\"/>\n<polygon fill=\"#000000\" stroke=\"#000000\" points=\"1627.0001,-1179.3057 1623.5,-1169.3058 1620.0001,-1179.3058 1627.0001,-1179.3057\"/>\n</g>\n<!-- 4 -->\n<g id=\"node23\" class=\"node\">\n<title>4</title>\n<path fill=\"#f0b890\" stroke=\"#000000\" d=\"M2146,-1169C2146,-1169 2001,-1169 2001,-1169 1995,-1169 1989,-1163 1989,-1157 1989,-1157 1989,-1113 1989,-1113 1989,-1107 1995,-1101 2001,-1101 2001,-1101 2146,-1101 2146,-1101 2152,-1101 2158,-1107 2158,-1113 2158,-1113 2158,-1157 2158,-1157 2158,-1163 2152,-1169 2146,-1169\"/>\n<text text-anchor=\"start\" x=\"2008.5\" y=\"-1153.8\" font-family=\"Helvetica,sans-Serif\" font-size=\"14.00\" fill=\"#000000\">workLocations ≤ 0.5</text>\n<text text-anchor=\"start\" x=\"1997\" y=\"-1138.8\" font-family=\"Helvetica,sans-Serif\" font-size=\"14.00\" fill=\"#000000\">squared_error = 226.15</text>\n<text text-anchor=\"start\" x=\"2021.5\" y=\"-1123.8\" font-family=\"Helvetica,sans-Serif\" font-size=\"14.00\" fill=\"#000000\">samples = 3041</text>\n<text text-anchor=\"start\" x=\"2027\" y=\"-1108.8\" font-family=\"Helvetica,sans-Serif\" font-size=\"14.00\" fill=\"#000000\">value = &#45;23.48</text>\n</g>\n<!-- 2&#45;&gt;4 -->\n<g id=\"edge22\" class=\"edge\">\n<title>2&#45;&gt;4</title>\n<path fill=\"none\" stroke=\"#000000\" d=\"M1680.9499,-1367.9131C1764.4477,-1318.371 1918.9669,-1226.6896 2007.1879,-1174.3452\"/>\n<polygon fill=\"#000000\" stroke=\"#000000\" points=\"2009.223,-1177.2075 2016.0371,-1169.0946 2005.651,-1171.1874 2009.223,-1177.2075\"/>\n</g>\n<!-- 5 -->\n<g id=\"node19\" class=\"node\">\n<title>5</title>\n<path fill=\"#eda876\" stroke=\"#000000\" d=\"M1605,-94.5C1605,-94.5 1460,-94.5 1460,-94.5 1454,-94.5 1448,-88.5 1448,-82.5 1448,-82.5 1448,-53.5 1448,-53.5 1448,-47.5 1454,-41.5 1460,-41.5 1460,-41.5 1605,-41.5 1605,-41.5 1611,-41.5 1617,-47.5 1617,-53.5 1617,-53.5 1617,-82.5 1617,-82.5 1617,-88.5 1611,-94.5 1605,-94.5\"/>\n<text text-anchor=\"start\" x=\"1456\" y=\"-79.3\" font-family=\"Helvetica,sans-Serif\" font-size=\"14.00\" fill=\"#000000\">squared_error = 117.15</text>\n<text text-anchor=\"start\" x=\"1484.5\" y=\"-64.3\" font-family=\"Helvetica,sans-Serif\" font-size=\"14.00\" fill=\"#000000\">samples = 639</text>\n<text text-anchor=\"start\" x=\"1490\" y=\"-49.3\" font-family=\"Helvetica,sans-Serif\" font-size=\"14.00\" fill=\"#000000\">value = &#45;14.3</text>\n</g>\n<!-- 3&#45;&gt;5 -->\n<g id=\"edge18\" class=\"edge\">\n<title>3&#45;&gt;5</title>\n<path fill=\"none\" stroke=\"#000000\" d=\"M1616.2699,-1100.62C1602.6397,-1035.8072 1574.5,-902 1574.5,-902 1574.5,-902 1542.525,-267.0687 1534.3733,-105.1992\"/>\n<polygon fill=\"#000000\" stroke=\"#000000\" points=\"1537.8485,-104.6154 1533.8498,-94.8041 1530.8573,-104.9675 1537.8485,-104.6154\"/>\n</g>\n<!-- 6 -->\n<g id=\"node20\" class=\"node\">\n<title>6</title>\n<path fill=\"#e6853f\" stroke=\"#000000\" d=\"M1835,-902C1835,-902 1596,-902 1596,-902 1590,-902 1584,-896 1584,-890 1584,-890 1584,-846 1584,-846 1584,-840 1590,-834 1596,-834 1596,-834 1835,-834 1835,-834 1841,-834 1847,-840 1847,-846 1847,-846 1847,-890 1847,-890 1847,-896 1841,-902 1835,-902\"/>\n<text text-anchor=\"start\" x=\"1592\" y=\"-886.8\" font-family=\"Helvetica,sans-Serif\" font-size=\"14.00\" fill=\"#000000\">lastReportedPosition.speedMPH ≤ 3.5</text>\n<text text-anchor=\"start\" x=\"1639\" y=\"-871.8\" font-family=\"Helvetica,sans-Serif\" font-size=\"14.00\" fill=\"#000000\">squared_error = 113.82</text>\n<text text-anchor=\"start\" x=\"1663.5\" y=\"-856.8\" font-family=\"Helvetica,sans-Serif\" font-size=\"14.00\" fill=\"#000000\">samples = 2344</text>\n<text text-anchor=\"start\" x=\"1675.5\" y=\"-841.8\" font-family=\"Helvetica,sans-Serif\" font-size=\"14.00\" fill=\"#000000\">value = 4.77</text>\n</g>\n<!-- 3&#45;&gt;6 -->\n<g id=\"edge19\" class=\"edge\">\n<title>3&#45;&gt;6</title>\n<path fill=\"none\" stroke=\"#000000\" d=\"M1635.2453,-1100.9131C1651.8449,-1052.7383 1682.1739,-964.718 1700.4192,-911.7672\"/>\n<polygon fill=\"#000000\" stroke=\"#000000\" points=\"1703.7306,-912.9005 1703.6793,-902.3058 1697.1124,-910.62 1703.7306,-912.9005\"/>\n</g>\n<!-- 13 -->\n<g id=\"node21\" class=\"node\">\n<title>13</title>\n<path fill=\"#e58139\" stroke=\"#000000\" d=\"M1784,-94.5C1784,-94.5 1647,-94.5 1647,-94.5 1641,-94.5 1635,-88.5 1635,-82.5 1635,-82.5 1635,-53.5 1635,-53.5 1635,-47.5 1641,-41.5 1647,-41.5 1647,-41.5 1784,-41.5 1784,-41.5 1790,-41.5 1796,-47.5 1796,-53.5 1796,-53.5 1796,-82.5 1796,-82.5 1796,-88.5 1790,-94.5 1784,-94.5\"/>\n<text text-anchor=\"start\" x=\"1643\" y=\"-79.3\" font-family=\"Helvetica,sans-Serif\" font-size=\"14.00\" fill=\"#000000\">squared_error = 95.44</text>\n<text text-anchor=\"start\" x=\"1663.5\" y=\"-64.3\" font-family=\"Helvetica,sans-Serif\" font-size=\"14.00\" fill=\"#000000\">samples = 1896</text>\n<text text-anchor=\"start\" x=\"1675.5\" y=\"-49.3\" font-family=\"Helvetica,sans-Serif\" font-size=\"14.00\" fill=\"#000000\">value = 6.91</text>\n</g>\n<!-- 6&#45;&gt;13 -->\n<g id=\"edge20\" class=\"edge\">\n<title>6&#45;&gt;13</title>\n<path fill=\"none\" stroke=\"#000000\" d=\"M1715.5,-833.8809C1715.5,-703.7938 1715.5,-239.4936 1715.5,-104.8467\"/>\n<polygon fill=\"#000000\" stroke=\"#000000\" points=\"1719.0001,-104.6459 1715.5,-94.646 1712.0001,-104.646 1719.0001,-104.6459\"/>\n</g>\n<!-- 14 -->\n<g id=\"node22\" class=\"node\">\n<title>14</title>\n<path fill=\"#e99559\" stroke=\"#000000\" d=\"M1963,-94.5C1963,-94.5 1826,-94.5 1826,-94.5 1820,-94.5 1814,-88.5 1814,-82.5 1814,-82.5 1814,-53.5 1814,-53.5 1814,-47.5 1820,-41.5 1826,-41.5 1826,-41.5 1963,-41.5 1963,-41.5 1969,-41.5 1975,-47.5 1975,-53.5 1975,-53.5 1975,-82.5 1975,-82.5 1975,-88.5 1969,-94.5 1963,-94.5\"/>\n<text text-anchor=\"start\" x=\"1822\" y=\"-79.3\" font-family=\"Helvetica,sans-Serif\" font-size=\"14.00\" fill=\"#000000\">squared_error = 90.98</text>\n<text text-anchor=\"start\" x=\"1846.5\" y=\"-64.3\" font-family=\"Helvetica,sans-Serif\" font-size=\"14.00\" fill=\"#000000\">samples = 448</text>\n<text text-anchor=\"start\" x=\"1852\" y=\"-49.3\" font-family=\"Helvetica,sans-Serif\" font-size=\"14.00\" fill=\"#000000\">value = &#45;4.25</text>\n</g>\n<!-- 6&#45;&gt;14 -->\n<g id=\"edge21\" class=\"edge\">\n<title>6&#45;&gt;14</title>\n<path fill=\"none\" stroke=\"#000000\" d=\"M1723.1341,-833.8809C1752.2703,-703.6634 1856.3368,-238.5619 1886.346,-104.4426\"/>\n<polygon fill=\"#000000\" stroke=\"#000000\" points=\"1889.7699,-105.1689 1888.538,-94.646 1882.9388,-103.6404 1889.7699,-105.1689\"/>\n</g>\n<!-- 7 -->\n<g id=\"node24\" class=\"node\">\n<title>7</title>\n<path fill=\"#f6d1b7\" stroke=\"#000000\" d=\"M2142,-94.5C2142,-94.5 2005,-94.5 2005,-94.5 1999,-94.5 1993,-88.5 1993,-82.5 1993,-82.5 1993,-53.5 1993,-53.5 1993,-47.5 1999,-41.5 2005,-41.5 2005,-41.5 2142,-41.5 2142,-41.5 2148,-41.5 2154,-47.5 2154,-53.5 2154,-53.5 2154,-82.5 2154,-82.5 2154,-88.5 2148,-94.5 2142,-94.5\"/>\n<text text-anchor=\"start\" x=\"2001\" y=\"-79.3\" font-family=\"Helvetica,sans-Serif\" font-size=\"14.00\" fill=\"#000000\">squared_error = 99.01</text>\n<text text-anchor=\"start\" x=\"2025.5\" y=\"-64.3\" font-family=\"Helvetica,sans-Serif\" font-size=\"14.00\" fill=\"#000000\">samples = 453</text>\n<text text-anchor=\"start\" x=\"2027\" y=\"-49.3\" font-family=\"Helvetica,sans-Serif\" font-size=\"14.00\" fill=\"#000000\">value = &#45;37.24</text>\n</g>\n<!-- 4&#45;&gt;7 -->\n<g id=\"edge23\" class=\"edge\">\n<title>4&#45;&gt;7</title>\n<path fill=\"none\" stroke=\"#000000\" d=\"M2073.5,-1100.7075C2073.5,-940.8463 2073.5,-269.6101 2073.5,-104.7064\"/>\n<polygon fill=\"#000000\" stroke=\"#000000\" points=\"2077.0001,-104.5874 2073.5,-94.5875 2070.0001,-104.5875 2077.0001,-104.5874\"/>\n</g>\n<!-- 8 -->\n<g id=\"node25\" class=\"node\">\n<title>8</title>\n<path fill=\"#f0b489\" stroke=\"#000000\" d=\"M2433.5,-902C2433.5,-902 2113.5,-902 2113.5,-902 2107.5,-902 2101.5,-896 2101.5,-890 2101.5,-890 2101.5,-846 2101.5,-846 2101.5,-840 2107.5,-834 2113.5,-834 2113.5,-834 2433.5,-834 2433.5,-834 2439.5,-834 2445.5,-840 2445.5,-846 2445.5,-846 2445.5,-890 2445.5,-890 2445.5,-896 2439.5,-902 2433.5,-902\"/>\n<text text-anchor=\"start\" x=\"2109.5\" y=\"-886.8\" font-family=\"Helvetica,sans-Serif\" font-size=\"14.00\" fill=\"#000000\">aotuTrainData.totalLocomotiveWeight ≤ 8435000.0</text>\n<text text-anchor=\"start\" x=\"2197\" y=\"-871.8\" font-family=\"Helvetica,sans-Serif\" font-size=\"14.00\" fill=\"#000000\">squared_error = 209.47</text>\n<text text-anchor=\"start\" x=\"2221.5\" y=\"-856.8\" font-family=\"Helvetica,sans-Serif\" font-size=\"14.00\" fill=\"#000000\">samples = 2588</text>\n<text text-anchor=\"start\" x=\"2227\" y=\"-841.8\" font-family=\"Helvetica,sans-Serif\" font-size=\"14.00\" fill=\"#000000\">value = &#45;21.07</text>\n</g>\n<!-- 4&#45;&gt;8 -->\n<g id=\"edge24\" class=\"edge\">\n<title>4&#45;&gt;8</title>\n<path fill=\"none\" stroke=\"#000000\" d=\"M2099.0333,-1100.9131C2135.4187,-1052.3385 2202.1484,-963.2544 2241.6976,-910.4562\"/>\n<polygon fill=\"#000000\" stroke=\"#000000\" points=\"2244.6088,-912.4077 2247.8028,-902.3058 2239.0063,-908.2111 2244.6088,-912.4077\"/>\n</g>\n<!-- 11 -->\n<g id=\"node26\" class=\"node\">\n<title>11</title>\n<path fill=\"#f3c6a6\" stroke=\"#000000\" d=\"M2337,-94.5C2337,-94.5 2192,-94.5 2192,-94.5 2186,-94.5 2180,-88.5 2180,-82.5 2180,-82.5 2180,-53.5 2180,-53.5 2180,-47.5 2186,-41.5 2192,-41.5 2192,-41.5 2337,-41.5 2337,-41.5 2343,-41.5 2349,-47.5 2349,-53.5 2349,-53.5 2349,-82.5 2349,-82.5 2349,-88.5 2343,-94.5 2337,-94.5\"/>\n<text text-anchor=\"start\" x=\"2188\" y=\"-79.3\" font-family=\"Helvetica,sans-Serif\" font-size=\"14.00\" fill=\"#000000\">squared_error = 245.56</text>\n<text text-anchor=\"start\" x=\"2216.5\" y=\"-64.3\" font-family=\"Helvetica,sans-Serif\" font-size=\"14.00\" fill=\"#000000\">samples = 489</text>\n<text text-anchor=\"start\" x=\"2218\" y=\"-49.3\" font-family=\"Helvetica,sans-Serif\" font-size=\"14.00\" fill=\"#000000\">value = &#45;31.03</text>\n</g>\n<!-- 8&#45;&gt;11 -->\n<g id=\"edge25\" class=\"edge\">\n<title>8&#45;&gt;11</title>\n<path fill=\"none\" stroke=\"#000000\" d=\"M2273.1162,-833.8809C2271.6527,-703.7938 2266.4293,-239.4936 2264.9145,-104.8467\"/>\n<polygon fill=\"#000000\" stroke=\"#000000\" points=\"2268.4121,-104.6059 2264.7998,-94.646 2261.4126,-104.6848 2268.4121,-104.6059\"/>\n</g>\n<!-- 12 -->\n<g id=\"node27\" class=\"node\">\n<title>12</title>\n<path fill=\"#efb082\" stroke=\"#000000\" d=\"M2527,-635C2527,-635 2376,-635 2376,-635 2370,-635 2364,-629 2364,-623 2364,-623 2364,-579 2364,-579 2364,-573 2370,-567 2376,-567 2376,-567 2527,-567 2527,-567 2533,-567 2539,-573 2539,-579 2539,-579 2539,-623 2539,-623 2539,-629 2533,-635 2527,-635\"/>\n<text text-anchor=\"start\" x=\"2372\" y=\"-619.8\" font-family=\"Helvetica,sans-Serif\" font-size=\"14.00\" fill=\"#000000\">loadedCarCount ≤ 131.0</text>\n<text text-anchor=\"start\" x=\"2375\" y=\"-604.8\" font-family=\"Helvetica,sans-Serif\" font-size=\"14.00\" fill=\"#000000\">squared_error = 172.57</text>\n<text text-anchor=\"start\" x=\"2399.5\" y=\"-589.8\" font-family=\"Helvetica,sans-Serif\" font-size=\"14.00\" fill=\"#000000\">samples = 2099</text>\n<text text-anchor=\"start\" x=\"2405\" y=\"-574.8\" font-family=\"Helvetica,sans-Serif\" font-size=\"14.00\" fill=\"#000000\">value = &#45;18.75</text>\n</g>\n<!-- 8&#45;&gt;12 -->\n<g id=\"edge26\" class=\"edge\">\n<title>8&#45;&gt;12</title>\n<path fill=\"none\" stroke=\"#000000\" d=\"M2296.2246,-833.9131C2328.541,-785.4385 2387.7528,-696.6208 2422.9783,-643.7826\"/>\n<polygon fill=\"#000000\" stroke=\"#000000\" points=\"2425.9946,-645.5678 2428.6295,-635.3058 2420.1703,-641.6848 2425.9946,-645.5678\"/>\n</g>\n<!-- 27 -->\n<g id=\"node28\" class=\"node\">\n<title>27</title>\n<path fill=\"#eead7e\" stroke=\"#000000\" d=\"M2524,-94.5C2524,-94.5 2379,-94.5 2379,-94.5 2373,-94.5 2367,-88.5 2367,-82.5 2367,-82.5 2367,-53.5 2367,-53.5 2367,-47.5 2373,-41.5 2379,-41.5 2379,-41.5 2524,-41.5 2524,-41.5 2530,-41.5 2536,-47.5 2536,-53.5 2536,-53.5 2536,-82.5 2536,-82.5 2536,-88.5 2530,-94.5 2524,-94.5\"/>\n<text text-anchor=\"start\" x=\"2375\" y=\"-79.3\" font-family=\"Helvetica,sans-Serif\" font-size=\"14.00\" fill=\"#000000\">squared_error = 137.67</text>\n<text text-anchor=\"start\" x=\"2399.5\" y=\"-64.3\" font-family=\"Helvetica,sans-Serif\" font-size=\"14.00\" fill=\"#000000\">samples = 1851</text>\n<text text-anchor=\"start\" x=\"2405\" y=\"-49.3\" font-family=\"Helvetica,sans-Serif\" font-size=\"14.00\" fill=\"#000000\">value = &#45;17.29</text>\n</g>\n<!-- 12&#45;&gt;27 -->\n<g id=\"edge27\" class=\"edge\">\n<title>12&#45;&gt;27</title>\n<path fill=\"none\" stroke=\"#000000\" d=\"M2451.5,-566.8476C2451.5,-471.5229 2451.5,-203.1339 2451.5,-104.7465\"/>\n<polygon fill=\"#000000\" stroke=\"#000000\" points=\"2455.0001,-104.6853 2451.5,-94.6853 2448.0001,-104.6853 2455.0001,-104.6853\"/>\n</g>\n<!-- 28 -->\n<g id=\"node29\" class=\"node\">\n<title>28</title>\n<path fill=\"#f3c4a2\" stroke=\"#000000\" d=\"M2866,-369C2866,-369 2491,-369 2491,-369 2485,-369 2479,-363 2479,-357 2479,-357 2479,-313 2479,-313 2479,-307 2485,-301 2491,-301 2491,-301 2866,-301 2866,-301 2872,-301 2878,-307 2878,-313 2878,-313 2878,-357 2878,-357 2878,-363 2872,-369 2866,-369\"/>\n<text text-anchor=\"start\" x=\"2487\" y=\"-353.8\" font-family=\"Helvetica,sans-Serif\" font-size=\"14.00\" fill=\"#000000\">lastReportedPosition.positionTimeElapsed ≤ 1650904000.0</text>\n<text text-anchor=\"start\" x=\"2602\" y=\"-338.8\" font-family=\"Helvetica,sans-Serif\" font-size=\"14.00\" fill=\"#000000\">squared_error = 297.57</text>\n<text text-anchor=\"start\" x=\"2630.5\" y=\"-323.8\" font-family=\"Helvetica,sans-Serif\" font-size=\"14.00\" fill=\"#000000\">samples = 248</text>\n<text text-anchor=\"start\" x=\"2632\" y=\"-308.8\" font-family=\"Helvetica,sans-Serif\" font-size=\"14.00\" fill=\"#000000\">value = &#45;29.68</text>\n</g>\n<!-- 12&#45;&gt;28 -->\n<g id=\"edge28\" class=\"edge\">\n<title>12&#45;&gt;28</title>\n<path fill=\"none\" stroke=\"#000000\" d=\"M2480.7116,-566.7697C2522.1702,-518.1882 2598.0026,-429.3273 2642.7619,-376.8781\"/>\n<polygon fill=\"#000000\" stroke=\"#000000\" points=\"2645.5715,-378.9776 2649.4006,-369.0989 2640.2468,-374.4336 2645.5715,-378.9776\"/>\n</g>\n<!-- 29 -->\n<g id=\"node30\" class=\"node\">\n<title>29</title>\n<path fill=\"#f8dbc6\" stroke=\"#000000\" d=\"M2725,-94.5C2725,-94.5 2588,-94.5 2588,-94.5 2582,-94.5 2576,-88.5 2576,-82.5 2576,-82.5 2576,-53.5 2576,-53.5 2576,-47.5 2582,-41.5 2588,-41.5 2588,-41.5 2725,-41.5 2725,-41.5 2731,-41.5 2737,-47.5 2737,-53.5 2737,-53.5 2737,-82.5 2737,-82.5 2737,-88.5 2731,-94.5 2725,-94.5\"/>\n<text text-anchor=\"start\" x=\"2584\" y=\"-79.3\" font-family=\"Helvetica,sans-Serif\" font-size=\"14.00\" fill=\"#000000\">squared_error = 108.4</text>\n<text text-anchor=\"start\" x=\"2608.5\" y=\"-64.3\" font-family=\"Helvetica,sans-Serif\" font-size=\"14.00\" fill=\"#000000\">samples = 118</text>\n<text text-anchor=\"start\" x=\"2610\" y=\"-49.3\" font-family=\"Helvetica,sans-Serif\" font-size=\"14.00\" fill=\"#000000\">value = &#45;42.47</text>\n</g>\n<!-- 28&#45;&gt;29 -->\n<g id=\"edge29\" class=\"edge\">\n<title>28&#45;&gt;29</title>\n<path fill=\"none\" stroke=\"#000000\" d=\"M2675.6913,-300.9131C2671.5407,-250.5392 2663.8003,-156.599 2659.5274,-104.7422\"/>\n<polygon fill=\"#000000\" stroke=\"#000000\" points=\"2663.0055,-104.3304 2658.696,-94.6516 2656.0291,-104.9053 2663.0055,-104.3304\"/>\n</g>\n<!-- 30 -->\n<g id=\"node31\" class=\"node\">\n<title>30</title>\n<path fill=\"#eeaf81\" stroke=\"#000000\" d=\"M2912,-94.5C2912,-94.5 2767,-94.5 2767,-94.5 2761,-94.5 2755,-88.5 2755,-82.5 2755,-82.5 2755,-53.5 2755,-53.5 2755,-47.5 2761,-41.5 2767,-41.5 2767,-41.5 2912,-41.5 2912,-41.5 2918,-41.5 2924,-47.5 2924,-53.5 2924,-53.5 2924,-82.5 2924,-82.5 2924,-88.5 2918,-94.5 2912,-94.5\"/>\n<text text-anchor=\"start\" x=\"2763\" y=\"-79.3\" font-family=\"Helvetica,sans-Serif\" font-size=\"14.00\" fill=\"#000000\">squared_error = 186.26</text>\n<text text-anchor=\"start\" x=\"2791.5\" y=\"-64.3\" font-family=\"Helvetica,sans-Serif\" font-size=\"14.00\" fill=\"#000000\">samples = 130</text>\n<text text-anchor=\"start\" x=\"2793\" y=\"-49.3\" font-family=\"Helvetica,sans-Serif\" font-size=\"14.00\" fill=\"#000000\">value = &#45;18.08</text>\n</g>\n<!-- 28&#45;&gt;30 -->\n<g id=\"edge30\" class=\"edge\">\n<title>28&#45;&gt;30</title>\n<path fill=\"none\" stroke=\"#000000\" d=\"M2699.0543,-300.9131C2729.6832,-250.1185 2787.023,-155.027 2818.1226,-103.4519\"/>\n<polygon fill=\"#000000\" stroke=\"#000000\" points=\"2821.2626,-105.0225 2823.4292,-94.6516 2815.2681,-101.4078 2821.2626,-105.0225\"/>\n</g>\n</g>\n</svg>\n"
          },
          "metadata": {},
          "execution_count": 41
        }
      ]
    },
    {
      "cell_type": "code",
      "source": [
        "m = DecisionTreeRegressor(min_samples_leaf=10)\n",
        "m.fit(xs, y);"
      ],
      "metadata": {
        "id": "_wto32TJkud4"
      },
      "execution_count": 42,
      "outputs": []
    },
    {
      "cell_type": "code",
      "source": [
        "def r_mse(pred,y): return round(math.sqrt(((pred-y)**2).mean()), 6)\n",
        "def m_rmse(m, xs, y): return r_mse(m.predict(xs), y)"
      ],
      "metadata": {
        "id": "D53phc2JE5RC"
      },
      "execution_count": 43,
      "outputs": []
    },
    {
      "cell_type": "code",
      "source": [
        "m_rmse(m, xs, y)"
      ],
      "metadata": {
        "colab": {
          "base_uri": "https://localhost:8080/"
        },
        "id": "8CYcTQHLHT4m",
        "outputId": "37fd3a33-4fae-453d-eec6-1ed0b47c1723"
      },
      "execution_count": 44,
      "outputs": [
        {
          "output_type": "execute_result",
          "data": {
            "text/plain": [
              "4.059706"
            ]
          },
          "metadata": {},
          "execution_count": 44
        }
      ]
    },
    {
      "cell_type": "code",
      "source": [
        "m_rmse(m, valid_xs, valid_y)"
      ],
      "metadata": {
        "colab": {
          "base_uri": "https://localhost:8080/"
        },
        "id": "_oElvFDHHZHm",
        "outputId": "3e96719f-bf08-44c6-f016-d8e953852f1d"
      },
      "execution_count": 45,
      "outputs": [
        {
          "output_type": "execute_result",
          "data": {
            "text/plain": [
              "15.649664"
            ]
          },
          "metadata": {},
          "execution_count": 45
        }
      ]
    },
    {
      "cell_type": "code",
      "source": [
        "def rf_feat_importance(m, df):\n",
        "    return pd.DataFrame({'cols':df.columns, 'imp':m.feature_importances_}\n",
        "                       ).sort_values('imp', ascending=False)"
      ],
      "metadata": {
        "id": "oCKCSQSlab4o"
      },
      "execution_count": 46,
      "outputs": []
    },
    {
      "cell_type": "code",
      "source": [
        "fi = rf_feat_importance(m, xs)\n",
        "fi[:10]"
      ],
      "metadata": {
        "colab": {
          "base_uri": "https://localhost:8080/",
          "height": 363
        },
        "id": "jxENiQDXlYKl",
        "outputId": "08cccd3a-0432-44b2-de2d-a640cb4ca847"
      },
      "execution_count": 47,
      "outputs": [
        {
          "output_type": "execute_result",
          "data": {
            "text/plain": [
              "                                                             cols       imp\n",
              "33                                  lastReportedPosition.speedMPH  0.642937\n",
              "59                       lastReportedPosition.positionTimeElapsed  0.078387\n",
              "34  lastReportedPosition.milepostLocation.milepost.milepostNumber  0.052365\n",
              "29                                                 loadedCarCount  0.035728\n",
              "10                                                  workLocations  0.029059\n",
              "3                                             trainId.trainSymbol  0.022579\n",
              "28                                              maximumTrainSpeed  0.021613\n",
              "40                            aotuTrainData.totalLocomotiveWeight  0.018132\n",
              "0                                             ptcLeadLocomotiveId  0.016770\n",
              "58                     lastReportedPosition.positionTimeDayofyear  0.014627"
            ],
            "text/html": [
              "\n",
              "  <div id=\"df-3defefb2-1420-48b2-a731-5bdeff3048e3\">\n",
              "    <div class=\"colab-df-container\">\n",
              "      <div>\n",
              "<style scoped>\n",
              "    .dataframe tbody tr th:only-of-type {\n",
              "        vertical-align: middle;\n",
              "    }\n",
              "\n",
              "    .dataframe tbody tr th {\n",
              "        vertical-align: top;\n",
              "    }\n",
              "\n",
              "    .dataframe thead th {\n",
              "        text-align: right;\n",
              "    }\n",
              "</style>\n",
              "<table border=\"1\" class=\"dataframe\">\n",
              "  <thead>\n",
              "    <tr style=\"text-align: right;\">\n",
              "      <th></th>\n",
              "      <th>cols</th>\n",
              "      <th>imp</th>\n",
              "    </tr>\n",
              "  </thead>\n",
              "  <tbody>\n",
              "    <tr>\n",
              "      <th>33</th>\n",
              "      <td>lastReportedPosition.speedMPH</td>\n",
              "      <td>0.642937</td>\n",
              "    </tr>\n",
              "    <tr>\n",
              "      <th>59</th>\n",
              "      <td>lastReportedPosition.positionTimeElapsed</td>\n",
              "      <td>0.078387</td>\n",
              "    </tr>\n",
              "    <tr>\n",
              "      <th>34</th>\n",
              "      <td>lastReportedPosition.milepostLocation.milepost.milepostNumber</td>\n",
              "      <td>0.052365</td>\n",
              "    </tr>\n",
              "    <tr>\n",
              "      <th>29</th>\n",
              "      <td>loadedCarCount</td>\n",
              "      <td>0.035728</td>\n",
              "    </tr>\n",
              "    <tr>\n",
              "      <th>10</th>\n",
              "      <td>workLocations</td>\n",
              "      <td>0.029059</td>\n",
              "    </tr>\n",
              "    <tr>\n",
              "      <th>3</th>\n",
              "      <td>trainId.trainSymbol</td>\n",
              "      <td>0.022579</td>\n",
              "    </tr>\n",
              "    <tr>\n",
              "      <th>28</th>\n",
              "      <td>maximumTrainSpeed</td>\n",
              "      <td>0.021613</td>\n",
              "    </tr>\n",
              "    <tr>\n",
              "      <th>40</th>\n",
              "      <td>aotuTrainData.totalLocomotiveWeight</td>\n",
              "      <td>0.018132</td>\n",
              "    </tr>\n",
              "    <tr>\n",
              "      <th>0</th>\n",
              "      <td>ptcLeadLocomotiveId</td>\n",
              "      <td>0.016770</td>\n",
              "    </tr>\n",
              "    <tr>\n",
              "      <th>58</th>\n",
              "      <td>lastReportedPosition.positionTimeDayofyear</td>\n",
              "      <td>0.014627</td>\n",
              "    </tr>\n",
              "  </tbody>\n",
              "</table>\n",
              "</div>\n",
              "      <button class=\"colab-df-convert\" onclick=\"convertToInteractive('df-3defefb2-1420-48b2-a731-5bdeff3048e3')\"\n",
              "              title=\"Convert this dataframe to an interactive table.\"\n",
              "              style=\"display:none;\">\n",
              "        \n",
              "  <svg xmlns=\"http://www.w3.org/2000/svg\" height=\"24px\"viewBox=\"0 0 24 24\"\n",
              "       width=\"24px\">\n",
              "    <path d=\"M0 0h24v24H0V0z\" fill=\"none\"/>\n",
              "    <path d=\"M18.56 5.44l.94 2.06.94-2.06 2.06-.94-2.06-.94-.94-2.06-.94 2.06-2.06.94zm-11 1L8.5 8.5l.94-2.06 2.06-.94-2.06-.94L8.5 2.5l-.94 2.06-2.06.94zm10 10l.94 2.06.94-2.06 2.06-.94-2.06-.94-.94-2.06-.94 2.06-2.06.94z\"/><path d=\"M17.41 7.96l-1.37-1.37c-.4-.4-.92-.59-1.43-.59-.52 0-1.04.2-1.43.59L10.3 9.45l-7.72 7.72c-.78.78-.78 2.05 0 2.83L4 21.41c.39.39.9.59 1.41.59.51 0 1.02-.2 1.41-.59l7.78-7.78 2.81-2.81c.8-.78.8-2.07 0-2.86zM5.41 20L4 18.59l7.72-7.72 1.47 1.35L5.41 20z\"/>\n",
              "  </svg>\n",
              "      </button>\n",
              "      \n",
              "  <style>\n",
              "    .colab-df-container {\n",
              "      display:flex;\n",
              "      flex-wrap:wrap;\n",
              "      gap: 12px;\n",
              "    }\n",
              "\n",
              "    .colab-df-convert {\n",
              "      background-color: #E8F0FE;\n",
              "      border: none;\n",
              "      border-radius: 50%;\n",
              "      cursor: pointer;\n",
              "      display: none;\n",
              "      fill: #1967D2;\n",
              "      height: 32px;\n",
              "      padding: 0 0 0 0;\n",
              "      width: 32px;\n",
              "    }\n",
              "\n",
              "    .colab-df-convert:hover {\n",
              "      background-color: #E2EBFA;\n",
              "      box-shadow: 0px 1px 2px rgba(60, 64, 67, 0.3), 0px 1px 3px 1px rgba(60, 64, 67, 0.15);\n",
              "      fill: #174EA6;\n",
              "    }\n",
              "\n",
              "    [theme=dark] .colab-df-convert {\n",
              "      background-color: #3B4455;\n",
              "      fill: #D2E3FC;\n",
              "    }\n",
              "\n",
              "    [theme=dark] .colab-df-convert:hover {\n",
              "      background-color: #434B5C;\n",
              "      box-shadow: 0px 1px 3px 1px rgba(0, 0, 0, 0.15);\n",
              "      filter: drop-shadow(0px 1px 2px rgba(0, 0, 0, 0.3));\n",
              "      fill: #FFFFFF;\n",
              "    }\n",
              "  </style>\n",
              "\n",
              "      <script>\n",
              "        const buttonEl =\n",
              "          document.querySelector('#df-3defefb2-1420-48b2-a731-5bdeff3048e3 button.colab-df-convert');\n",
              "        buttonEl.style.display =\n",
              "          google.colab.kernel.accessAllowed ? 'block' : 'none';\n",
              "\n",
              "        async function convertToInteractive(key) {\n",
              "          const element = document.querySelector('#df-3defefb2-1420-48b2-a731-5bdeff3048e3');\n",
              "          const dataTable =\n",
              "            await google.colab.kernel.invokeFunction('convertToInteractive',\n",
              "                                                     [key], {});\n",
              "          if (!dataTable) return;\n",
              "\n",
              "          const docLinkHtml = 'Like what you see? Visit the ' +\n",
              "            '<a target=\"_blank\" href=https://colab.research.google.com/notebooks/data_table.ipynb>data table notebook</a>'\n",
              "            + ' to learn more about interactive tables.';\n",
              "          element.innerHTML = '';\n",
              "          dataTable['output_type'] = 'display_data';\n",
              "          await google.colab.output.renderOutput(dataTable, element);\n",
              "          const docLink = document.createElement('div');\n",
              "          docLink.innerHTML = docLinkHtml;\n",
              "          element.appendChild(docLink);\n",
              "        }\n",
              "      </script>\n",
              "    </div>\n",
              "  </div>\n",
              "  "
            ]
          },
          "metadata": {},
          "execution_count": 47
        }
      ]
    },
    {
      "cell_type": "markdown",
      "source": [
        "Our first result! It appears the previous speed is so heavily influencing the next speed, it swamps everything else."
      ],
      "metadata": {
        "id": "GAU4iShuUTlj"
      }
    },
    {
      "cell_type": "code",
      "source": [
        "ax = xs['lastReportedPosition.speedMPH'].hist(bins=120)\n"
      ],
      "metadata": {
        "colab": {
          "base_uri": "https://localhost:8080/",
          "height": 268
        },
        "id": "W_xHGvS4mTAv",
        "outputId": "b6961091-ab30-49f2-aaee-fa9c9ae409ed"
      },
      "execution_count": 48,
      "outputs": [
        {
          "output_type": "display_data",
          "data": {
            "text/plain": [
              "<Figure size 432x288 with 1 Axes>"
            ],
            "image/png": "[encoded data removed]"
          },
          "metadata": {
            "needs_background": "light"
          }
        }
      ]
    },
    {
      "cell_type": "code",
      "source": [
        "from sklearn.inspection import plot_partial_dependence\n",
        "\n",
        "fig,ax = plt.subplots(figsize=(12, 4))\n",
        "plot_partial_dependence(m, xs, ['lastReportedPosition.speedMPH'],\n",
        "                        grid_resolution=20, ax=ax);"
      ],
      "metadata": {
        "colab": {
          "base_uri": "https://localhost:8080/",
          "height": 340
        },
        "id": "dVfYTqKvniXo",
        "outputId": "e985cadb-4deb-4851-e2b3-1a38a849f0ac"
      },
      "execution_count": 49,
      "outputs": [
        {
          "output_type": "stream",
          "name": "stderr",
          "text": [
            "/usr/local/lib/python3.7/dist-packages/sklearn/utils/deprecation.py:87: FutureWarning: Function plot_partial_dependence is deprecated; Function `plot_partial_dependence` is deprecated in 1.0 and will be removed in 1.2. Use PartialDependenceDisplay.from_estimator instead\n",
            "  warnings.warn(msg, category=FutureWarning)\n"
          ]
        },
        {
          "output_type": "display_data",
          "data": {
            "text/plain": [
              "<Figure size 864x288 with 2 Axes>"
            ],
            "image/png": "[encoded data removed]"
          },
          "metadata": {
            "needs_background": "light"
          }
        }
      ]
    },
    {
      "cell_type": "markdown",
      "source": [
        "This is sort of a dur moment, saying \"Speeds don't change a lot one milepost to the next\".  "
      ],
      "metadata": {
        "id": "CmpVELOUoF-l"
      }
    },
    {
      "cell_type": "markdown",
      "source": [
        "#Random Forest"
      ],
      "metadata": {
        "id": "-iGNWlJDmQrV"
      }
    },
    {
      "cell_type": "code",
      "source": [
        "def randomForest(xs, y, n_estimators=50, max_samples=2500,\n",
        "       max_features=0.5, min_samples_leaf=5, **kwargs):\n",
        "    return RandomForestRegressor(n_jobs=-1, n_estimators=n_estimators,\n",
        "        max_samples=max_samples, max_features=max_features,\n",
        "        min_samples_leaf=min_samples_leaf, oob_score=True).fit(xs, y)"
      ],
      "metadata": {
        "id": "FllkOgNkUTGW"
      },
      "execution_count": 50,
      "outputs": []
    },
    {
      "cell_type": "code",
      "source": [
        "m = randomForest(xs, y);"
      ],
      "metadata": {
        "id": "OqX5AcTWVRXE"
      },
      "execution_count": 51,
      "outputs": []
    },
    {
      "cell_type": "code",
      "source": [
        "m_rmse(m, xs, y), m_rmse(m, valid_xs, valid_y)"
      ],
      "metadata": {
        "colab": {
          "base_uri": "https://localhost:8080/"
        },
        "id": "33ncywqjVcwn",
        "outputId": "132913c3-f4fe-451c-b9ec-1dd73217ea70"
      },
      "execution_count": 52,
      "outputs": [
        {
          "output_type": "execute_result",
          "data": {
            "text/plain": [
              "(4.944052, 10.46983)"
            ]
          },
          "metadata": {},
          "execution_count": 52
        }
      ]
    },
    {
      "cell_type": "code",
      "source": [
        "preds = np.stack([t.predict(valid_xs) for t in m.estimators_])"
      ],
      "metadata": {
        "id": "Dg6iyZCIW0Nt",
        "outputId": "9b600b21-e3ba-4560-ca53-89970f563813",
        "colab": {
          "base_uri": "https://localhost:8080/"
        }
      },
      "execution_count": 53,
      "outputs": [
        {
          "output_type": "stream",
          "name": "stderr",
          "text": [
            "/usr/local/lib/python3.7/dist-packages/sklearn/base.py:444: UserWarning: X has feature names, but DecisionTreeRegressor was fitted without feature names\n",
            "  f\"X has feature names, but {self.__class__.__name__} was fitted without\"\n",
            "/usr/local/lib/python3.7/dist-packages/sklearn/base.py:444: UserWarning: X has feature names, but DecisionTreeRegressor was fitted without feature names\n",
            "  f\"X has feature names, but {self.__class__.__name__} was fitted without\"\n",
            "/usr/local/lib/python3.7/dist-packages/sklearn/base.py:444: UserWarning: X has feature names, but DecisionTreeRegressor was fitted without feature names\n",
            "  f\"X has feature names, but {self.__class__.__name__} was fitted without\"\n",
            "/usr/local/lib/python3.7/dist-packages/sklearn/base.py:444: UserWarning: X has feature names, but DecisionTreeRegressor was fitted without feature names\n",
            "  f\"X has feature names, but {self.__class__.__name__} was fitted without\"\n",
            "/usr/local/lib/python3.7/dist-packages/sklearn/base.py:444: UserWarning: X has feature names, but DecisionTreeRegressor was fitted without feature names\n",
            "  f\"X has feature names, but {self.__class__.__name__} was fitted without\"\n",
            "/usr/local/lib/python3.7/dist-packages/sklearn/base.py:444: UserWarning: X has feature names, but DecisionTreeRegressor was fitted without feature names\n",
            "  f\"X has feature names, but {self.__class__.__name__} was fitted without\"\n",
            "/usr/local/lib/python3.7/dist-packages/sklearn/base.py:444: UserWarning: X has feature names, but DecisionTreeRegressor was fitted without feature names\n",
            "  f\"X has feature names, but {self.__class__.__name__} was fitted without\"\n",
            "/usr/local/lib/python3.7/dist-packages/sklearn/base.py:444: UserWarning: X has feature names, but DecisionTreeRegressor was fitted without feature names\n",
            "  f\"X has feature names, but {self.__class__.__name__} was fitted without\"\n",
            "/usr/local/lib/python3.7/dist-packages/sklearn/base.py:444: UserWarning: X has feature names, but DecisionTreeRegressor was fitted without feature names\n",
            "  f\"X has feature names, but {self.__class__.__name__} was fitted without\"\n",
            "/usr/local/lib/python3.7/dist-packages/sklearn/base.py:444: UserWarning: X has feature names, but DecisionTreeRegressor was fitted without feature names\n",
            "  f\"X has feature names, but {self.__class__.__name__} was fitted without\"\n",
            "/usr/local/lib/python3.7/dist-packages/sklearn/base.py:444: UserWarning: X has feature names, but DecisionTreeRegressor was fitted without feature names\n",
            "  f\"X has feature names, but {self.__class__.__name__} was fitted without\"\n",
            "/usr/local/lib/python3.7/dist-packages/sklearn/base.py:444: UserWarning: X has feature names, but DecisionTreeRegressor was fitted without feature names\n",
            "  f\"X has feature names, but {self.__class__.__name__} was fitted without\"\n",
            "/usr/local/lib/python3.7/dist-packages/sklearn/base.py:444: UserWarning: X has feature names, but DecisionTreeRegressor was fitted without feature names\n",
            "  f\"X has feature names, but {self.__class__.__name__} was fitted without\"\n",
            "/usr/local/lib/python3.7/dist-packages/sklearn/base.py:444: UserWarning: X has feature names, but DecisionTreeRegressor was fitted without feature names\n",
            "  f\"X has feature names, but {self.__class__.__name__} was fitted without\"\n",
            "/usr/local/lib/python3.7/dist-packages/sklearn/base.py:444: UserWarning: X has feature names, but DecisionTreeRegressor was fitted without feature names\n",
            "  f\"X has feature names, but {self.__class__.__name__} was fitted without\"\n",
            "/usr/local/lib/python3.7/dist-packages/sklearn/base.py:444: UserWarning: X has feature names, but DecisionTreeRegressor was fitted without feature names\n",
            "  f\"X has feature names, but {self.__class__.__name__} was fitted without\"\n",
            "/usr/local/lib/python3.7/dist-packages/sklearn/base.py:444: UserWarning: X has feature names, but DecisionTreeRegressor was fitted without feature names\n",
            "  f\"X has feature names, but {self.__class__.__name__} was fitted without\"\n",
            "/usr/local/lib/python3.7/dist-packages/sklearn/base.py:444: UserWarning: X has feature names, but DecisionTreeRegressor was fitted without feature names\n",
            "  f\"X has feature names, but {self.__class__.__name__} was fitted without\"\n",
            "/usr/local/lib/python3.7/dist-packages/sklearn/base.py:444: UserWarning: X has feature names, but DecisionTreeRegressor was fitted without feature names\n",
            "  f\"X has feature names, but {self.__class__.__name__} was fitted without\"\n",
            "/usr/local/lib/python3.7/dist-packages/sklearn/base.py:444: UserWarning: X has feature names, but DecisionTreeRegressor was fitted without feature names\n",
            "  f\"X has feature names, but {self.__class__.__name__} was fitted without\"\n",
            "/usr/local/lib/python3.7/dist-packages/sklearn/base.py:444: UserWarning: X has feature names, but DecisionTreeRegressor was fitted without feature names\n",
            "  f\"X has feature names, but {self.__class__.__name__} was fitted without\"\n",
            "/usr/local/lib/python3.7/dist-packages/sklearn/base.py:444: UserWarning: X has feature names, but DecisionTreeRegressor was fitted without feature names\n",
            "  f\"X has feature names, but {self.__class__.__name__} was fitted without\"\n",
            "/usr/local/lib/python3.7/dist-packages/sklearn/base.py:444: UserWarning: X has feature names, but DecisionTreeRegressor was fitted without feature names\n",
            "  f\"X has feature names, but {self.__class__.__name__} was fitted without\"\n",
            "/usr/local/lib/python3.7/dist-packages/sklearn/base.py:444: UserWarning: X has feature names, but DecisionTreeRegressor was fitted without feature names\n",
            "  f\"X has feature names, but {self.__class__.__name__} was fitted without\"\n",
            "/usr/local/lib/python3.7/dist-packages/sklearn/base.py:444: UserWarning: X has feature names, but DecisionTreeRegressor was fitted without feature names\n",
            "  f\"X has feature names, but {self.__class__.__name__} was fitted without\"\n",
            "/usr/local/lib/python3.7/dist-packages/sklearn/base.py:444: UserWarning: X has feature names, but DecisionTreeRegressor was fitted without feature names\n",
            "  f\"X has feature names, but {self.__class__.__name__} was fitted without\"\n",
            "/usr/local/lib/python3.7/dist-packages/sklearn/base.py:444: UserWarning: X has feature names, but DecisionTreeRegressor was fitted without feature names\n",
            "  f\"X has feature names, but {self.__class__.__name__} was fitted without\"\n",
            "/usr/local/lib/python3.7/dist-packages/sklearn/base.py:444: UserWarning: X has feature names, but DecisionTreeRegressor was fitted without feature names\n",
            "  f\"X has feature names, but {self.__class__.__name__} was fitted without\"\n",
            "/usr/local/lib/python3.7/dist-packages/sklearn/base.py:444: UserWarning: X has feature names, but DecisionTreeRegressor was fitted without feature names\n",
            "  f\"X has feature names, but {self.__class__.__name__} was fitted without\"\n",
            "/usr/local/lib/python3.7/dist-packages/sklearn/base.py:444: UserWarning: X has feature names, but DecisionTreeRegressor was fitted without feature names\n",
            "  f\"X has feature names, but {self.__class__.__name__} was fitted without\"\n",
            "/usr/local/lib/python3.7/dist-packages/sklearn/base.py:444: UserWarning: X has feature names, but DecisionTreeRegressor was fitted without feature names\n",
            "  f\"X has feature names, but {self.__class__.__name__} was fitted without\"\n",
            "/usr/local/lib/python3.7/dist-packages/sklearn/base.py:444: UserWarning: X has feature names, but DecisionTreeRegressor was fitted without feature names\n",
            "  f\"X has feature names, but {self.__class__.__name__} was fitted without\"\n",
            "/usr/local/lib/python3.7/dist-packages/sklearn/base.py:444: UserWarning: X has feature names, but DecisionTreeRegressor was fitted without feature names\n",
            "  f\"X has feature names, but {self.__class__.__name__} was fitted without\"\n",
            "/usr/local/lib/python3.7/dist-packages/sklearn/base.py:444: UserWarning: X has feature names, but DecisionTreeRegressor was fitted without feature names\n",
            "  f\"X has feature names, but {self.__class__.__name__} was fitted without\"\n",
            "/usr/local/lib/python3.7/dist-packages/sklearn/base.py:444: UserWarning: X has feature names, but DecisionTreeRegressor was fitted without feature names\n",
            "  f\"X has feature names, but {self.__class__.__name__} was fitted without\"\n",
            "/usr/local/lib/python3.7/dist-packages/sklearn/base.py:444: UserWarning: X has feature names, but DecisionTreeRegressor was fitted without feature names\n",
            "  f\"X has feature names, but {self.__class__.__name__} was fitted without\"\n",
            "/usr/local/lib/python3.7/dist-packages/sklearn/base.py:444: UserWarning: X has feature names, but DecisionTreeRegressor was fitted without feature names\n",
            "  f\"X has feature names, but {self.__class__.__name__} was fitted without\"\n",
            "/usr/local/lib/python3.7/dist-packages/sklearn/base.py:444: UserWarning: X has feature names, but DecisionTreeRegressor was fitted without feature names\n",
            "  f\"X has feature names, but {self.__class__.__name__} was fitted without\"\n",
            "/usr/local/lib/python3.7/dist-packages/sklearn/base.py:444: UserWarning: X has feature names, but DecisionTreeRegressor was fitted without feature names\n",
            "  f\"X has feature names, but {self.__class__.__name__} was fitted without\"\n",
            "/usr/local/lib/python3.7/dist-packages/sklearn/base.py:444: UserWarning: X has feature names, but DecisionTreeRegressor was fitted without feature names\n",
            "  f\"X has feature names, but {self.__class__.__name__} was fitted without\"\n",
            "/usr/local/lib/python3.7/dist-packages/sklearn/base.py:444: UserWarning: X has feature names, but DecisionTreeRegressor was fitted without feature names\n",
            "  f\"X has feature names, but {self.__class__.__name__} was fitted without\"\n",
            "/usr/local/lib/python3.7/dist-packages/sklearn/base.py:444: UserWarning: X has feature names, but DecisionTreeRegressor was fitted without feature names\n",
            "  f\"X has feature names, but {self.__class__.__name__} was fitted without\"\n",
            "/usr/local/lib/python3.7/dist-packages/sklearn/base.py:444: UserWarning: X has feature names, but DecisionTreeRegressor was fitted without feature names\n",
            "  f\"X has feature names, but {self.__class__.__name__} was fitted without\"\n",
            "/usr/local/lib/python3.7/dist-packages/sklearn/base.py:444: UserWarning: X has feature names, but DecisionTreeRegressor was fitted without feature names\n",
            "  f\"X has feature names, but {self.__class__.__name__} was fitted without\"\n",
            "/usr/local/lib/python3.7/dist-packages/sklearn/base.py:444: UserWarning: X has feature names, but DecisionTreeRegressor was fitted without feature names\n",
            "  f\"X has feature names, but {self.__class__.__name__} was fitted without\"\n",
            "/usr/local/lib/python3.7/dist-packages/sklearn/base.py:444: UserWarning: X has feature names, but DecisionTreeRegressor was fitted without feature names\n",
            "  f\"X has feature names, but {self.__class__.__name__} was fitted without\"\n",
            "/usr/local/lib/python3.7/dist-packages/sklearn/base.py:444: UserWarning: X has feature names, but DecisionTreeRegressor was fitted without feature names\n",
            "  f\"X has feature names, but {self.__class__.__name__} was fitted without\"\n",
            "/usr/local/lib/python3.7/dist-packages/sklearn/base.py:444: UserWarning: X has feature names, but DecisionTreeRegressor was fitted without feature names\n",
            "  f\"X has feature names, but {self.__class__.__name__} was fitted without\"\n",
            "/usr/local/lib/python3.7/dist-packages/sklearn/base.py:444: UserWarning: X has feature names, but DecisionTreeRegressor was fitted without feature names\n",
            "  f\"X has feature names, but {self.__class__.__name__} was fitted without\"\n",
            "/usr/local/lib/python3.7/dist-packages/sklearn/base.py:444: UserWarning: X has feature names, but DecisionTreeRegressor was fitted without feature names\n",
            "  f\"X has feature names, but {self.__class__.__name__} was fitted without\"\n"
          ]
        }
      ]
    },
    {
      "cell_type": "code",
      "source": [
        "r_mse(preds.mean(0), valid_y)"
      ],
      "metadata": {
        "id": "5UldrkUhXFbi",
        "outputId": "c8d715b6-c452-4b68-91ea-4386d96f7c1f",
        "colab": {
          "base_uri": "https://localhost:8080/"
        }
      },
      "execution_count": 54,
      "outputs": [
        {
          "output_type": "execute_result",
          "data": {
            "text/plain": [
              "10.46983"
            ]
          },
          "metadata": {},
          "execution_count": 54
        }
      ]
    },
    {
      "cell_type": "code",
      "source": [
        "plt.plot([r_mse(preds[:i+1].mean(0), valid_y) for i in range(50)]);"
      ],
      "metadata": {
        "colab": {
          "base_uri": "https://localhost:8080/",
          "height": 268
        },
        "id": "eT0fXh6uXIp1",
        "outputId": "f9959f50-9c92-45bb-ba03-91c80fe2234c"
      },
      "execution_count": 55,
      "outputs": [
        {
          "output_type": "display_data",
          "data": {
            "text/plain": [
              "<Figure size 432x288 with 1 Axes>"
            ],
            "image/png": "[encoded data removed]"
          },
          "metadata": {
            "needs_background": "light"
          }
        }
      ]
    },
    {
      "cell_type": "markdown",
      "source": [
        "### Out-of-Bag Error"
      ],
      "metadata": {
        "id": "GN-VS3_2YsOd"
      }
    },
    {
      "cell_type": "code",
      "source": [
        "r_mse(m.oob_prediction_, y)"
      ],
      "metadata": {
        "colab": {
          "base_uri": "https://localhost:8080/"
        },
        "id": "tvwS19-6Yc20",
        "outputId": "57c98843-cd48-41a3-c030-16574749f69d"
      },
      "execution_count": 56,
      "outputs": [
        {
          "output_type": "execute_result",
          "data": {
            "text/plain": [
              "5.528723"
            ]
          },
          "metadata": {},
          "execution_count": 56
        }
      ]
    },
    {
      "cell_type": "code",
      "source": [
        ""
      ],
      "metadata": {
        "id": "URHsHfuMZDAS"
      },
      "execution_count": 56,
      "outputs": []
    },
    {
      "cell_type": "markdown",
      "source": [
        "- How confident are we in our predictions using a particular row of data?\n",
        "- For predicting with a particular row of data, what were the most important factors, and how did they influence that prediction?\n",
        "- Which columns are the strongest predictors, which can we ignore?\n",
        "- Which columns are effectively redundant with each other, for purposes of prediction?\n",
        "- How do predictions vary, as we vary these columns?\n"
      ],
      "metadata": {
        "id": "-jSxQWTZZDfx"
      }
    },
    {
      "cell_type": "code",
      "source": [
        "preds = np.stack([t.predict(valid_xs) for t in m.estimators_])"
      ],
      "metadata": {
        "id": "eS53q1RUZRva",
        "outputId": "cbcbd2ee-9786-4f67-b478-a2615ece1e7e",
        "colab": {
          "base_uri": "https://localhost:8080/"
        }
      },
      "execution_count": 57,
      "outputs": [
        {
          "output_type": "stream",
          "name": "stderr",
          "text": [
            "/usr/local/lib/python3.7/dist-packages/sklearn/base.py:444: UserWarning: X has feature names, but DecisionTreeRegressor was fitted without feature names\n",
            "  f\"X has feature names, but {self.__class__.__name__} was fitted without\"\n",
            "/usr/local/lib/python3.7/dist-packages/sklearn/base.py:444: UserWarning: X has feature names, but DecisionTreeRegressor was fitted without feature names\n",
            "  f\"X has feature names, but {self.__class__.__name__} was fitted without\"\n",
            "/usr/local/lib/python3.7/dist-packages/sklearn/base.py:444: UserWarning: X has feature names, but DecisionTreeRegressor was fitted without feature names\n",
            "  f\"X has feature names, but {self.__class__.__name__} was fitted without\"\n",
            "/usr/local/lib/python3.7/dist-packages/sklearn/base.py:444: UserWarning: X has feature names, but DecisionTreeRegressor was fitted without feature names\n",
            "  f\"X has feature names, but {self.__class__.__name__} was fitted without\"\n",
            "/usr/local/lib/python3.7/dist-packages/sklearn/base.py:444: UserWarning: X has feature names, but DecisionTreeRegressor was fitted without feature names\n",
            "  f\"X has feature names, but {self.__class__.__name__} was fitted without\"\n",
            "/usr/local/lib/python3.7/dist-packages/sklearn/base.py:444: UserWarning: X has feature names, but DecisionTreeRegressor was fitted without feature names\n",
            "  f\"X has feature names, but {self.__class__.__name__} was fitted without\"\n",
            "/usr/local/lib/python3.7/dist-packages/sklearn/base.py:444: UserWarning: X has feature names, but DecisionTreeRegressor was fitted without feature names\n",
            "  f\"X has feature names, but {self.__class__.__name__} was fitted without\"\n",
            "/usr/local/lib/python3.7/dist-packages/sklearn/base.py:444: UserWarning: X has feature names, but DecisionTreeRegressor was fitted without feature names\n",
            "  f\"X has feature names, but {self.__class__.__name__} was fitted without\"\n",
            "/usr/local/lib/python3.7/dist-packages/sklearn/base.py:444: UserWarning: X has feature names, but DecisionTreeRegressor was fitted without feature names\n",
            "  f\"X has feature names, but {self.__class__.__name__} was fitted without\"\n",
            "/usr/local/lib/python3.7/dist-packages/sklearn/base.py:444: UserWarning: X has feature names, but DecisionTreeRegressor was fitted without feature names\n",
            "  f\"X has feature names, but {self.__class__.__name__} was fitted without\"\n",
            "/usr/local/lib/python3.7/dist-packages/sklearn/base.py:444: UserWarning: X has feature names, but DecisionTreeRegressor was fitted without feature names\n",
            "  f\"X has feature names, but {self.__class__.__name__} was fitted without\"\n",
            "/usr/local/lib/python3.7/dist-packages/sklearn/base.py:444: UserWarning: X has feature names, but DecisionTreeRegressor was fitted without feature names\n",
            "  f\"X has feature names, but {self.__class__.__name__} was fitted without\"\n",
            "/usr/local/lib/python3.7/dist-packages/sklearn/base.py:444: UserWarning: X has feature names, but DecisionTreeRegressor was fitted without feature names\n",
            "  f\"X has feature names, but {self.__class__.__name__} was fitted without\"\n",
            "/usr/local/lib/python3.7/dist-packages/sklearn/base.py:444: UserWarning: X has feature names, but DecisionTreeRegressor was fitted without feature names\n",
            "  f\"X has feature names, but {self.__class__.__name__} was fitted without\"\n",
            "/usr/local/lib/python3.7/dist-packages/sklearn/base.py:444: UserWarning: X has feature names, but DecisionTreeRegressor was fitted without feature names\n",
            "  f\"X has feature names, but {self.__class__.__name__} was fitted without\"\n",
            "/usr/local/lib/python3.7/dist-packages/sklearn/base.py:444: UserWarning: X has feature names, but DecisionTreeRegressor was fitted without feature names\n",
            "  f\"X has feature names, but {self.__class__.__name__} was fitted without\"\n",
            "/usr/local/lib/python3.7/dist-packages/sklearn/base.py:444: UserWarning: X has feature names, but DecisionTreeRegressor was fitted without feature names\n",
            "  f\"X has feature names, but {self.__class__.__name__} was fitted without\"\n",
            "/usr/local/lib/python3.7/dist-packages/sklearn/base.py:444: UserWarning: X has feature names, but DecisionTreeRegressor was fitted without feature names\n",
            "  f\"X has feature names, but {self.__class__.__name__} was fitted without\"\n",
            "/usr/local/lib/python3.7/dist-packages/sklearn/base.py:444: UserWarning: X has feature names, but DecisionTreeRegressor was fitted without feature names\n",
            "  f\"X has feature names, but {self.__class__.__name__} was fitted without\"\n",
            "/usr/local/lib/python3.7/dist-packages/sklearn/base.py:444: UserWarning: X has feature names, but DecisionTreeRegressor was fitted without feature names\n",
            "  f\"X has feature names, but {self.__class__.__name__} was fitted without\"\n",
            "/usr/local/lib/python3.7/dist-packages/sklearn/base.py:444: UserWarning: X has feature names, but DecisionTreeRegressor was fitted without feature names\n",
            "  f\"X has feature names, but {self.__class__.__name__} was fitted without\"\n",
            "/usr/local/lib/python3.7/dist-packages/sklearn/base.py:444: UserWarning: X has feature names, but DecisionTreeRegressor was fitted without feature names\n",
            "  f\"X has feature names, but {self.__class__.__name__} was fitted without\"\n",
            "/usr/local/lib/python3.7/dist-packages/sklearn/base.py:444: UserWarning: X has feature names, but DecisionTreeRegressor was fitted without feature names\n",
            "  f\"X has feature names, but {self.__class__.__name__} was fitted without\"\n",
            "/usr/local/lib/python3.7/dist-packages/sklearn/base.py:444: UserWarning: X has feature names, but DecisionTreeRegressor was fitted without feature names\n",
            "  f\"X has feature names, but {self.__class__.__name__} was fitted without\"\n",
            "/usr/local/lib/python3.7/dist-packages/sklearn/base.py:444: UserWarning: X has feature names, but DecisionTreeRegressor was fitted without feature names\n",
            "  f\"X has feature names, but {self.__class__.__name__} was fitted without\"\n",
            "/usr/local/lib/python3.7/dist-packages/sklearn/base.py:444: UserWarning: X has feature names, but DecisionTreeRegressor was fitted without feature names\n",
            "  f\"X has feature names, but {self.__class__.__name__} was fitted without\"\n",
            "/usr/local/lib/python3.7/dist-packages/sklearn/base.py:444: UserWarning: X has feature names, but DecisionTreeRegressor was fitted without feature names\n",
            "  f\"X has feature names, but {self.__class__.__name__} was fitted without\"\n",
            "/usr/local/lib/python3.7/dist-packages/sklearn/base.py:444: UserWarning: X has feature names, but DecisionTreeRegressor was fitted without feature names\n",
            "  f\"X has feature names, but {self.__class__.__name__} was fitted without\"\n",
            "/usr/local/lib/python3.7/dist-packages/sklearn/base.py:444: UserWarning: X has feature names, but DecisionTreeRegressor was fitted without feature names\n",
            "  f\"X has feature names, but {self.__class__.__name__} was fitted without\"\n",
            "/usr/local/lib/python3.7/dist-packages/sklearn/base.py:444: UserWarning: X has feature names, but DecisionTreeRegressor was fitted without feature names\n",
            "  f\"X has feature names, but {self.__class__.__name__} was fitted without\"\n",
            "/usr/local/lib/python3.7/dist-packages/sklearn/base.py:444: UserWarning: X has feature names, but DecisionTreeRegressor was fitted without feature names\n",
            "  f\"X has feature names, but {self.__class__.__name__} was fitted without\"\n",
            "/usr/local/lib/python3.7/dist-packages/sklearn/base.py:444: UserWarning: X has feature names, but DecisionTreeRegressor was fitted without feature names\n",
            "  f\"X has feature names, but {self.__class__.__name__} was fitted without\"\n",
            "/usr/local/lib/python3.7/dist-packages/sklearn/base.py:444: UserWarning: X has feature names, but DecisionTreeRegressor was fitted without feature names\n",
            "  f\"X has feature names, but {self.__class__.__name__} was fitted without\"\n",
            "/usr/local/lib/python3.7/dist-packages/sklearn/base.py:444: UserWarning: X has feature names, but DecisionTreeRegressor was fitted without feature names\n",
            "  f\"X has feature names, but {self.__class__.__name__} was fitted without\"\n",
            "/usr/local/lib/python3.7/dist-packages/sklearn/base.py:444: UserWarning: X has feature names, but DecisionTreeRegressor was fitted without feature names\n",
            "  f\"X has feature names, but {self.__class__.__name__} was fitted without\"\n",
            "/usr/local/lib/python3.7/dist-packages/sklearn/base.py:444: UserWarning: X has feature names, but DecisionTreeRegressor was fitted without feature names\n",
            "  f\"X has feature names, but {self.__class__.__name__} was fitted without\"\n",
            "/usr/local/lib/python3.7/dist-packages/sklearn/base.py:444: UserWarning: X has feature names, but DecisionTreeRegressor was fitted without feature names\n",
            "  f\"X has feature names, but {self.__class__.__name__} was fitted without\"\n",
            "/usr/local/lib/python3.7/dist-packages/sklearn/base.py:444: UserWarning: X has feature names, but DecisionTreeRegressor was fitted without feature names\n",
            "  f\"X has feature names, but {self.__class__.__name__} was fitted without\"\n",
            "/usr/local/lib/python3.7/dist-packages/sklearn/base.py:444: UserWarning: X has feature names, but DecisionTreeRegressor was fitted without feature names\n",
            "  f\"X has feature names, but {self.__class__.__name__} was fitted without\"\n",
            "/usr/local/lib/python3.7/dist-packages/sklearn/base.py:444: UserWarning: X has feature names, but DecisionTreeRegressor was fitted without feature names\n",
            "  f\"X has feature names, but {self.__class__.__name__} was fitted without\"\n",
            "/usr/local/lib/python3.7/dist-packages/sklearn/base.py:444: UserWarning: X has feature names, but DecisionTreeRegressor was fitted without feature names\n",
            "  f\"X has feature names, but {self.__class__.__name__} was fitted without\"\n",
            "/usr/local/lib/python3.7/dist-packages/sklearn/base.py:444: UserWarning: X has feature names, but DecisionTreeRegressor was fitted without feature names\n",
            "  f\"X has feature names, but {self.__class__.__name__} was fitted without\"\n",
            "/usr/local/lib/python3.7/dist-packages/sklearn/base.py:444: UserWarning: X has feature names, but DecisionTreeRegressor was fitted without feature names\n",
            "  f\"X has feature names, but {self.__class__.__name__} was fitted without\"\n",
            "/usr/local/lib/python3.7/dist-packages/sklearn/base.py:444: UserWarning: X has feature names, but DecisionTreeRegressor was fitted without feature names\n",
            "  f\"X has feature names, but {self.__class__.__name__} was fitted without\"\n",
            "/usr/local/lib/python3.7/dist-packages/sklearn/base.py:444: UserWarning: X has feature names, but DecisionTreeRegressor was fitted without feature names\n",
            "  f\"X has feature names, but {self.__class__.__name__} was fitted without\"\n",
            "/usr/local/lib/python3.7/dist-packages/sklearn/base.py:444: UserWarning: X has feature names, but DecisionTreeRegressor was fitted without feature names\n",
            "  f\"X has feature names, but {self.__class__.__name__} was fitted without\"\n",
            "/usr/local/lib/python3.7/dist-packages/sklearn/base.py:444: UserWarning: X has feature names, but DecisionTreeRegressor was fitted without feature names\n",
            "  f\"X has feature names, but {self.__class__.__name__} was fitted without\"\n",
            "/usr/local/lib/python3.7/dist-packages/sklearn/base.py:444: UserWarning: X has feature names, but DecisionTreeRegressor was fitted without feature names\n",
            "  f\"X has feature names, but {self.__class__.__name__} was fitted without\"\n",
            "/usr/local/lib/python3.7/dist-packages/sklearn/base.py:444: UserWarning: X has feature names, but DecisionTreeRegressor was fitted without feature names\n",
            "  f\"X has feature names, but {self.__class__.__name__} was fitted without\"\n",
            "/usr/local/lib/python3.7/dist-packages/sklearn/base.py:444: UserWarning: X has feature names, but DecisionTreeRegressor was fitted without feature names\n",
            "  f\"X has feature names, but {self.__class__.__name__} was fitted without\"\n"
          ]
        }
      ]
    },
    {
      "cell_type": "code",
      "source": [
        "preds.shape"
      ],
      "metadata": {
        "colab": {
          "base_uri": "https://localhost:8080/"
        },
        "id": "quArhZFkZtq_",
        "outputId": "2670e436-1884-4bf1-fd2c-0d999614206b"
      },
      "execution_count": 58,
      "outputs": [
        {
          "output_type": "execute_result",
          "data": {
            "text/plain": [
              "(50, 893)"
            ]
          },
          "metadata": {},
          "execution_count": 58
        }
      ]
    },
    {
      "cell_type": "code",
      "source": [
        "preds_std = preds.std(0)"
      ],
      "metadata": {
        "id": "xZCBhV9MZxSH"
      },
      "execution_count": 59,
      "outputs": []
    },
    {
      "cell_type": "code",
      "source": [
        "preds_std[:5]"
      ],
      "metadata": {
        "colab": {
          "base_uri": "https://localhost:8080/"
        },
        "id": "ZvKvldDdZ44S",
        "outputId": "243d696a-1889-4a1a-9575-797149841374"
      },
      "execution_count": 60,
      "outputs": [
        {
          "output_type": "execute_result",
          "data": {
            "text/plain": [
              "array([11.82870474,  9.68409361,  9.44099195, 10.96204927, 10.58014752])"
            ]
          },
          "metadata": {},
          "execution_count": 60
        }
      ]
    },
    {
      "cell_type": "markdown",
      "source": [
        "# FEATURE Importance"
      ],
      "metadata": {
        "id": "tkENwKVIaPXc"
      }
    },
    {
      "cell_type": "code",
      "source": [
        "fi = rf_feat_importance(m, xs)\n",
        "fi[:20]"
      ],
      "metadata": {
        "colab": {
          "base_uri": "https://localhost:8080/",
          "height": 677
        },
        "id": "_xddcBHXaj9O",
        "outputId": "f90ebe91-e543-4090-a6b1-b8048a9ee1ee"
      },
      "execution_count": 61,
      "outputs": [
        {
          "output_type": "execute_result",
          "data": {
            "text/plain": [
              "                                                                         cols  \\\n",
              "33                                              lastReportedPosition.speedMPH   \n",
              "51                           lastReportedPosition.nextSignalState.signalState   \n",
              "34              lastReportedPosition.milepostLocation.milepost.milepostNumber   \n",
              "24           lastReportedPosition.precedingSignalState.previousSignalState_na   \n",
              "59                                   lastReportedPosition.positionTimeElapsed   \n",
              "52                                                                   milepost   \n",
              "29                                                             loadedCarCount   \n",
              "0                                                         ptcLeadLocomotiveId   \n",
              "40                                        aotuTrainData.totalLocomotiveWeight   \n",
              "49                      lastReportedPosition.precedingSignalState.signalState   \n",
              "3                                                         trainId.trainSymbol   \n",
              "47  lastReportedPosition.precedingSignalState.milepostLocation.milepostNumber   \n",
              "10                                                              workLocations   \n",
              "50       lastReportedPosition.nextSignalState.milepostLocation.milepostNumber   \n",
              "31                                                                trainLength   \n",
              "32                                                            trailingTonnage   \n",
              "39                                               aotuTrainData.totalCarLength   \n",
              "38                                               aotuTrainData.totalCarWeight   \n",
              "57                                 lastReportedPosition.positionTimeDayofweek   \n",
              "30                                                              emptyCarCount   \n",
              "\n",
              "         imp  \n",
              "33  0.492076  \n",
              "51  0.047751  \n",
              "34  0.042176  \n",
              "24  0.040782  \n",
              "59  0.039244  \n",
              "52  0.029851  \n",
              "29  0.025811  \n",
              "0   0.022594  \n",
              "40  0.021842  \n",
              "49  0.019041  \n",
              "3   0.017373  \n",
              "47  0.016735  \n",
              "10  0.014493  \n",
              "50  0.014475  \n",
              "31  0.014002  \n",
              "32  0.012722  \n",
              "39  0.011175  \n",
              "38  0.010136  \n",
              "57  0.009963  \n",
              "30  0.009613  "
            ],
            "text/html": [
              "\n",
              "  <div id=\"df-cfe3126d-7751-4f36-9b01-deeb7c7a296a\">\n",
              "    <div class=\"colab-df-container\">\n",
              "      <div>\n",
              "<style scoped>\n",
              "    .dataframe tbody tr th:only-of-type {\n",
              "        vertical-align: middle;\n",
              "    }\n",
              "\n",
              "    .dataframe tbody tr th {\n",
              "        vertical-align: top;\n",
              "    }\n",
              "\n",
              "    .dataframe thead th {\n",
              "        text-align: right;\n",
              "    }\n",
              "</style>\n",
              "<table border=\"1\" class=\"dataframe\">\n",
              "  <thead>\n",
              "    <tr style=\"text-align: right;\">\n",
              "      <th></th>\n",
              "      <th>cols</th>\n",
              "      <th>imp</th>\n",
              "    </tr>\n",
              "  </thead>\n",
              "  <tbody>\n",
              "    <tr>\n",
              "      <th>33</th>\n",
              "      <td>lastReportedPosition.speedMPH</td>\n",
              "      <td>0.492076</td>\n",
              "    </tr>\n",
              "    <tr>\n",
              "      <th>51</th>\n",
              "      <td>lastReportedPosition.nextSignalState.signalState</td>\n",
              "      <td>0.047751</td>\n",
              "    </tr>\n",
              "    <tr>\n",
              "      <th>34</th>\n",
              "      <td>lastReportedPosition.milepostLocation.milepost.milepostNumber</td>\n",
              "      <td>0.042176</td>\n",
              "    </tr>\n",
              "    <tr>\n",
              "      <th>24</th>\n",
              "      <td>lastReportedPosition.precedingSignalState.previousSignalState_na</td>\n",
              "      <td>0.040782</td>\n",
              "    </tr>\n",
              "    <tr>\n",
              "      <th>59</th>\n",
              "      <td>lastReportedPosition.positionTimeElapsed</td>\n",
              "      <td>0.039244</td>\n",
              "    </tr>\n",
              "    <tr>\n",
              "      <th>52</th>\n",
              "      <td>milepost</td>\n",
              "      <td>0.029851</td>\n",
              "    </tr>\n",
              "    <tr>\n",
              "      <th>29</th>\n",
              "      <td>loadedCarCount</td>\n",
              "      <td>0.025811</td>\n",
              "    </tr>\n",
              "    <tr>\n",
              "      <th>0</th>\n",
              "      <td>ptcLeadLocomotiveId</td>\n",
              "      <td>0.022594</td>\n",
              "    </tr>\n",
              "    <tr>\n",
              "      <th>40</th>\n",
              "      <td>aotuTrainData.totalLocomotiveWeight</td>\n",
              "      <td>0.021842</td>\n",
              "    </tr>\n",
              "    <tr>\n",
              "      <th>49</th>\n",
              "      <td>lastReportedPosition.precedingSignalState.signalState</td>\n",
              "      <td>0.019041</td>\n",
              "    </tr>\n",
              "    <tr>\n",
              "      <th>3</th>\n",
              "      <td>trainId.trainSymbol</td>\n",
              "      <td>0.017373</td>\n",
              "    </tr>\n",
              "    <tr>\n",
              "      <th>47</th>\n",
              "      <td>lastReportedPosition.precedingSignalState.milepostLocation.milepostNumber</td>\n",
              "      <td>0.016735</td>\n",
              "    </tr>\n",
              "    <tr>\n",
              "      <th>10</th>\n",
              "      <td>workLocations</td>\n",
              "      <td>0.014493</td>\n",
              "    </tr>\n",
              "    <tr>\n",
              "      <th>50</th>\n",
              "      <td>lastReportedPosition.nextSignalState.milepostLocation.milepostNumber</td>\n",
              "      <td>0.014475</td>\n",
              "    </tr>\n",
              "    <tr>\n",
              "      <th>31</th>\n",
              "      <td>trainLength</td>\n",
              "      <td>0.014002</td>\n",
              "    </tr>\n",
              "    <tr>\n",
              "      <th>32</th>\n",
              "      <td>trailingTonnage</td>\n",
              "      <td>0.012722</td>\n",
              "    </tr>\n",
              "    <tr>\n",
              "      <th>39</th>\n",
              "      <td>aotuTrainData.totalCarLength</td>\n",
              "      <td>0.011175</td>\n",
              "    </tr>\n",
              "    <tr>\n",
              "      <th>38</th>\n",
              "      <td>aotuTrainData.totalCarWeight</td>\n",
              "      <td>0.010136</td>\n",
              "    </tr>\n",
              "    <tr>\n",
              "      <th>57</th>\n",
              "      <td>lastReportedPosition.positionTimeDayofweek</td>\n",
              "      <td>0.009963</td>\n",
              "    </tr>\n",
              "    <tr>\n",
              "      <th>30</th>\n",
              "      <td>emptyCarCount</td>\n",
              "      <td>0.009613</td>\n",
              "    </tr>\n",
              "  </tbody>\n",
              "</table>\n",
              "</div>\n",
              "      <button class=\"colab-df-convert\" onclick=\"convertToInteractive('df-cfe3126d-7751-4f36-9b01-deeb7c7a296a')\"\n",
              "              title=\"Convert this dataframe to an interactive table.\"\n",
              "              style=\"display:none;\">\n",
              "        \n",
              "  <svg xmlns=\"http://www.w3.org/2000/svg\" height=\"24px\"viewBox=\"0 0 24 24\"\n",
              "       width=\"24px\">\n",
              "    <path d=\"M0 0h24v24H0V0z\" fill=\"none\"/>\n",
              "    <path d=\"M18.56 5.44l.94 2.06.94-2.06 2.06-.94-2.06-.94-.94-2.06-.94 2.06-2.06.94zm-11 1L8.5 8.5l.94-2.06 2.06-.94-2.06-.94L8.5 2.5l-.94 2.06-2.06.94zm10 10l.94 2.06.94-2.06 2.06-.94-2.06-.94-.94-2.06-.94 2.06-2.06.94z\"/><path d=\"M17.41 7.96l-1.37-1.37c-.4-.4-.92-.59-1.43-.59-.52 0-1.04.2-1.43.59L10.3 9.45l-7.72 7.72c-.78.78-.78 2.05 0 2.83L4 21.41c.39.39.9.59 1.41.59.51 0 1.02-.2 1.41-.59l7.78-7.78 2.81-2.81c.8-.78.8-2.07 0-2.86zM5.41 20L4 18.59l7.72-7.72 1.47 1.35L5.41 20z\"/>\n",
              "  </svg>\n",
              "      </button>\n",
              "      \n",
              "  <style>\n",
              "    .colab-df-container {\n",
              "      display:flex;\n",
              "      flex-wrap:wrap;\n",
              "      gap: 12px;\n",
              "    }\n",
              "\n",
              "    .colab-df-convert {\n",
              "      background-color: #E8F0FE;\n",
              "      border: none;\n",
              "      border-radius: 50%;\n",
              "      cursor: pointer;\n",
              "      display: none;\n",
              "      fill: #1967D2;\n",
              "      height: 32px;\n",
              "      padding: 0 0 0 0;\n",
              "      width: 32px;\n",
              "    }\n",
              "\n",
              "    .colab-df-convert:hover {\n",
              "      background-color: #E2EBFA;\n",
              "      box-shadow: 0px 1px 2px rgba(60, 64, 67, 0.3), 0px 1px 3px 1px rgba(60, 64, 67, 0.15);\n",
              "      fill: #174EA6;\n",
              "    }\n",
              "\n",
              "    [theme=dark] .colab-df-convert {\n",
              "      background-color: #3B4455;\n",
              "      fill: #D2E3FC;\n",
              "    }\n",
              "\n",
              "    [theme=dark] .colab-df-convert:hover {\n",
              "      background-color: #434B5C;\n",
              "      box-shadow: 0px 1px 3px 1px rgba(0, 0, 0, 0.15);\n",
              "      filter: drop-shadow(0px 1px 2px rgba(0, 0, 0, 0.3));\n",
              "      fill: #FFFFFF;\n",
              "    }\n",
              "  </style>\n",
              "\n",
              "      <script>\n",
              "        const buttonEl =\n",
              "          document.querySelector('#df-cfe3126d-7751-4f36-9b01-deeb7c7a296a button.colab-df-convert');\n",
              "        buttonEl.style.display =\n",
              "          google.colab.kernel.accessAllowed ? 'block' : 'none';\n",
              "\n",
              "        async function convertToInteractive(key) {\n",
              "          const element = document.querySelector('#df-cfe3126d-7751-4f36-9b01-deeb7c7a296a');\n",
              "          const dataTable =\n",
              "            await google.colab.kernel.invokeFunction('convertToInteractive',\n",
              "                                                     [key], {});\n",
              "          if (!dataTable) return;\n",
              "\n",
              "          const docLinkHtml = 'Like what you see? Visit the ' +\n",
              "            '<a target=\"_blank\" href=https://colab.research.google.com/notebooks/data_table.ipynb>data table notebook</a>'\n",
              "            + ' to learn more about interactive tables.';\n",
              "          element.innerHTML = '';\n",
              "          dataTable['output_type'] = 'display_data';\n",
              "          await google.colab.output.renderOutput(dataTable, element);\n",
              "          const docLink = document.createElement('div');\n",
              "          docLink.innerHTML = docLinkHtml;\n",
              "          element.appendChild(docLink);\n",
              "        }\n",
              "      </script>\n",
              "    </div>\n",
              "  </div>\n",
              "  "
            ]
          },
          "metadata": {},
          "execution_count": 61
        }
      ]
    },
    {
      "cell_type": "code",
      "source": [
        "def plot_fi(fi):\n",
        "    return fi.plot('cols', 'imp', 'barh', figsize=(12,7), legend=False)\n",
        "\n",
        "plot_fi(fi[:30]);"
      ],
      "metadata": {
        "colab": {
          "base_uri": "https://localhost:8080/",
          "height": 431
        },
        "id": "PrrzmK6AflwF",
        "outputId": "e4e6814b-35ef-48e8-927a-1c8c161ae86e"
      },
      "execution_count": 62,
      "outputs": [
        {
          "output_type": "display_data",
          "data": {
            "text/plain": [
              "<Figure size 864x504 with 1 Axes>"
            ],
            "image/png": "[encoded data removed]"
          },
          "metadata": {
            "needs_background": "light"
          }
        }
      ]
    },
    {
      "cell_type": "markdown",
      "source": [
        "Remove low importance columns"
      ],
      "metadata": {
        "id": "ic6LbeWIf2EQ"
      }
    },
    {
      "cell_type": "code",
      "source": [
        "to_keep = fi[fi.imp>0.002].cols\n",
        "len(to_keep)"
      ],
      "metadata": {
        "colab": {
          "base_uri": "https://localhost:8080/"
        },
        "id": "jaWtqZdQfwmy",
        "outputId": "af21b114-b8b0-4bc7-9191-117769182c06"
      },
      "execution_count": 63,
      "outputs": [
        {
          "output_type": "execute_result",
          "data": {
            "text/plain": [
              "34"
            ]
          },
          "metadata": {},
          "execution_count": 63
        }
      ]
    },
    {
      "cell_type": "code",
      "source": [
        "xs_imp = xs[to_keep]\n",
        "valid_xs_imp = valid_xs[to_keep]"
      ],
      "metadata": {
        "id": "KK47uCFsgAYv"
      },
      "execution_count": 64,
      "outputs": []
    },
    {
      "cell_type": "code",
      "source": [
        "m = randomForest(xs_imp, y)"
      ],
      "metadata": {
        "id": "GgFy875_gGp4"
      },
      "execution_count": 65,
      "outputs": []
    },
    {
      "cell_type": "code",
      "source": [
        "m_rmse(m, xs_imp, y), m_rmse(m, valid_xs_imp, valid_y)"
      ],
      "metadata": {
        "colab": {
          "base_uri": "https://localhost:8080/"
        },
        "id": "5e5LZrqmgJf2",
        "outputId": "4eedc697-256d-49ae-9b82-c5a826918baf"
      },
      "execution_count": 66,
      "outputs": [
        {
          "output_type": "execute_result",
          "data": {
            "text/plain": [
              "(4.987427, 10.631529)"
            ]
          },
          "metadata": {},
          "execution_count": 66
        }
      ]
    },
    {
      "cell_type": "code",
      "source": [
        "plot_fi(rf_feat_importance(m, xs_imp));"
      ],
      "metadata": {
        "colab": {
          "base_uri": "https://localhost:8080/",
          "height": 431
        },
        "id": "5Szx4cKsgKPL",
        "outputId": "60eb1070-c051-4577-ec27-fac55e7a64fe"
      },
      "execution_count": 67,
      "outputs": [
        {
          "output_type": "display_data",
          "data": {
            "text/plain": [
              "<Figure size 864x504 with 1 Axes>"
            ],
            "image/png": "[encoded data removed]"
          },
          "metadata": {
            "needs_background": "light"
          }
        }
      ]
    },
    {
      "cell_type": "code",
      "source": [
        "fastai.cluster_columns(xs_imp)"
      ],
      "metadata": {
        "colab": {
          "base_uri": "https://localhost:8080/",
          "height": 377
        },
        "id": "ZRqtok8LhwlR",
        "outputId": "26008b43-0b95-4478-b5da-fe8b7824d12a"
      },
      "execution_count": 68,
      "outputs": [
        {
          "output_type": "display_data",
          "data": {
            "text/plain": [
              "<Figure size 720x432 with 1 Axes>"
            ],
            "image/png": "[encoded data removed]"
          },
          "metadata": {
            "needs_background": "light"
          }
        }
      ]
    }
  ],
  "metadata": {
    "colab": {
      "name": "MLModel1.ipynb",
      "provenance": [],
      "collapsed_sections": [],
      "include_colab_link": true
    },
    "interpreter": {
      "hash": "99fae7d265480b5fbb0cf965db398c4d2d7b17b55f6259418c7dbfe0de01ea90"
    },
    "kernelspec": {
      "display_name": "Python 3 (ipykernel)",
      "language": "python",
      "name": "python3"
    },
    "language_info": {
      "codemirror_mode": {
        "name": "ipython",
        "version": 3
      },
      "file_extension": ".py",
      "mimetype": "text/x-python",
      "name": "python",
      "nbconvert_exporter": "python",
      "pygments_lexer": "ipython3",
      "version": "3.9.12"
    }
  },
  "nbformat": 4,
  "nbformat_minor": 0
}