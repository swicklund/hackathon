{
  "cells": [
    {
      "cell_type": "markdown",
      "metadata": {
        "id": "view-in-github",
        "colab_type": "text"
      },
      "source": [
        "<a href=\"https://colab.research.google.com/github/swicklund/hackathon/blob/main/MLModel1-2.ipynb\" target=\"_parent\"><img src=\"https://colab.research.google.com/assets/colab-badge.svg\" alt=\"Open In Colab\"/></a>"
      ]
    },
    {
      "cell_type": "code",
      "execution_count": 1,
      "metadata": {
        "id": "f18J8QM17E0a",
        "outputId": "dd3f13e2-c244-4a02-89dd-f3891ee1cee6",
        "colab": {
          "base_uri": "https://localhost:8080/"
        }
      },
      "outputs": [
        {
          "output_type": "stream",
          "name": "stdout",
          "text": [
            "Looking in indexes: https://pypi.org/simple, https://us-python.pkg.dev/colab-wheels/public/simple/\n",
            "Requirement already satisfied: dtreeviz in /usr/local/lib/python3.7/dist-packages (1.3.6)\n",
            "Requirement already satisfied: colour in /usr/local/lib/python3.7/dist-packages (from dtreeviz) (0.1.5)\n",
            "Requirement already satisfied: numpy in /usr/local/lib/python3.7/dist-packages (from dtreeviz) (1.21.6)\n",
            "Requirement already satisfied: scikit-learn in /usr/local/lib/python3.7/dist-packages (from dtreeviz) (1.0.2)\n",
            "Requirement already satisfied: matplotlib in /usr/local/lib/python3.7/dist-packages (from dtreeviz) (3.2.2)\n",
            "Requirement already satisfied: pytest in /usr/local/lib/python3.7/dist-packages (from dtreeviz) (3.6.4)\n",
            "Requirement already satisfied: graphviz>=0.9 in /usr/local/lib/python3.7/dist-packages (from dtreeviz) (0.10.1)\n",
            "Requirement already satisfied: pandas in /usr/local/lib/python3.7/dist-packages (from dtreeviz) (1.3.5)\n",
            "Requirement already satisfied: kiwisolver>=1.0.1 in /usr/local/lib/python3.7/dist-packages (from matplotlib->dtreeviz) (1.4.3)\n",
            "Requirement already satisfied: cycler>=0.10 in /usr/local/lib/python3.7/dist-packages (from matplotlib->dtreeviz) (0.11.0)\n",
            "Requirement already satisfied: python-dateutil>=2.1 in /usr/local/lib/python3.7/dist-packages (from matplotlib->dtreeviz) (2.8.2)\n",
            "Requirement already satisfied: pyparsing!=2.0.4,!=2.1.2,!=2.1.6,>=2.0.1 in /usr/local/lib/python3.7/dist-packages (from matplotlib->dtreeviz) (3.0.9)\n",
            "Requirement already satisfied: typing-extensions in /usr/local/lib/python3.7/dist-packages (from kiwisolver>=1.0.1->matplotlib->dtreeviz) (4.1.1)\n",
            "Requirement already satisfied: six>=1.5 in /usr/local/lib/python3.7/dist-packages (from python-dateutil>=2.1->matplotlib->dtreeviz) (1.15.0)\n",
            "Requirement already satisfied: pytz>=2017.3 in /usr/local/lib/python3.7/dist-packages (from pandas->dtreeviz) (2022.1)\n",
            "Requirement already satisfied: pluggy<0.8,>=0.5 in /usr/local/lib/python3.7/dist-packages (from pytest->dtreeviz) (0.7.1)\n",
            "Requirement already satisfied: py>=1.5.0 in /usr/local/lib/python3.7/dist-packages (from pytest->dtreeviz) (1.11.0)\n",
            "Requirement already satisfied: attrs>=17.4.0 in /usr/local/lib/python3.7/dist-packages (from pytest->dtreeviz) (21.4.0)\n",
            "Requirement already satisfied: setuptools in /usr/local/lib/python3.7/dist-packages (from pytest->dtreeviz) (57.4.0)\n",
            "Requirement already satisfied: atomicwrites>=1.0 in /usr/local/lib/python3.7/dist-packages (from pytest->dtreeviz) (1.4.0)\n",
            "Requirement already satisfied: more-itertools>=4.0.0 in /usr/local/lib/python3.7/dist-packages (from pytest->dtreeviz) (8.13.0)\n",
            "Requirement already satisfied: scipy>=1.1.0 in /usr/local/lib/python3.7/dist-packages (from scikit-learn->dtreeviz) (1.4.1)\n",
            "Requirement already satisfied: joblib>=0.11 in /usr/local/lib/python3.7/dist-packages (from scikit-learn->dtreeviz) (1.1.0)\n",
            "Requirement already satisfied: threadpoolctl>=2.0.0 in /usr/local/lib/python3.7/dist-packages (from scikit-learn->dtreeviz) (3.1.0)\n",
            "Updated property [core/project].\n"
          ]
        }
      ],
      "source": [
        "!pip install -Uqq fastbook\n",
        "!pip install dtreeviz\n",
        "!gcloud config set project {'hackathon-352519'}\n",
        "\n",
        "import os\n",
        "\n",
        "import IPython\n",
        "import IPython.display\n",
        "import matplotlib as mpl\n",
        "import matplotlib.pyplot as plt\n",
        "import numpy as np\n",
        "import fastbook as fastai\n",
        "import pandas as pd\n",
        "from pandas.io.json import json_normalize\n",
        "import seaborn as sns\n",
        "import tensorflow as tf\n",
        "import json\n",
        "import zipfile\n",
        "from io import BytesIO\n",
        "import torch\n",
        "import math\n",
        "from google.colab import files\n",
        "from google.colab import auth\n",
        "from datetime import datetime, timedelta\n",
        "\n",
        "fastai.setup_book()\n",
        "from fastai import tabular\n"
      ]
    },
    {
      "cell_type": "code",
      "source": [
        "from pandas.api.types import is_string_dtype, is_numeric_dtype, is_categorical_dtype\n",
        "from fastai.tabular.all import *\n",
        "from sklearn.ensemble import RandomForestRegressor\n",
        "from sklearn.tree import DecisionTreeRegressor\n",
        "from dtreeviz.trees import *\n",
        "from IPython.display import Image, display_svg, SVG\n",
        "\n",
        "pd.options.display.max_rows = 20\n",
        "pd.options.display.max_columns = 8"
      ],
      "metadata": {
        "id": "wAzfcrrIByux"
      },
      "execution_count": 2,
      "outputs": []
    },
    {
      "cell_type": "code",
      "source": [
        "auth.authenticate_user()"
      ],
      "metadata": {
        "id": "_wNuGIFQT0nZ"
      },
      "execution_count": 3,
      "outputs": []
    },
    {
      "cell_type": "code",
      "execution_count": 4,
      "metadata": {
        "id": "TpnuFITI6Tzu"
      },
      "outputs": [],
      "source": [
        "# !gcloud config set project {'hackathon-352519'}"
      ]
    },
    {
      "cell_type": "code",
      "source": [
        "#filename = \"train-data_all-train-events.zip\"\n",
        "filename = \"train-data-2022062020220626.zip\""
      ],
      "metadata": {
        "id": "M3W7KKZc8f92"
      },
      "execution_count": 5,
      "outputs": []
    },
    {
      "cell_type": "code",
      "source": [
        "!gsutil cp gs://trains_data/$filename /tmp/."
      ],
      "metadata": {
        "colab": {
          "base_uri": "https://localhost:8080/"
        },
        "id": "srQJL7OKVRww",
        "outputId": "e7534670-d416-4a37-93ed-57c51946edff"
      },
      "execution_count": 6,
      "outputs": [
        {
          "output_type": "stream",
          "name": "stdout",
          "text": [
            "Copying gs://trains_data/train-data-2022062020220626.zip...\n",
            "/ [1 files][192.2 MiB/192.2 MiB]                                                \n",
            "Operation completed over 1 objects/192.2 MiB.                                    \n"
          ]
        }
      ]
    },
    {
      "cell_type": "code",
      "execution_count": 7,
      "metadata": {
        "id": "ckXLQ7eQ7E0c",
        "colab": {
          "base_uri": "https://localhost:8080/"
        },
        "outputId": "615649df-57f5-4014-d094-54442fe9dafc"
      },
      "outputs": [
        {
          "output_type": "stream",
          "name": "stdout",
          "text": [
            "1000   20:16:30\n",
            "2000   20:16:38\n",
            "3000   20:16:50\n",
            "4000   20:16:55\n",
            "5000   20:17:01\n",
            "6000   20:17:05\n",
            "7000   20:17:10\n",
            "8000   20:17:16\n",
            "9000   20:17:20\n",
            "10000   20:17:25\n",
            "11000   20:17:30\n",
            "12000   20:17:37\n",
            "13000   20:17:43\n",
            "14000   20:17:49\n",
            "15000   20:17:55\n",
            "16000   20:17:59\n",
            "17000   20:18:05\n",
            "18000   20:18:09\n",
            "19000   20:18:13\n",
            "20000   20:18:19\n",
            "21000   20:18:25\n",
            "22000   20:18:32\n",
            "23000   20:18:36\n",
            "24000   20:18:40\n",
            "25000   20:18:47\n",
            "26000   20:18:51\n",
            "27000   20:18:55\n",
            "28000   20:19:04\n",
            "29000   20:19:08\n",
            "30000   20:19:12\n",
            "31000   20:19:16\n",
            "32000   20:19:24\n",
            "33000   20:19:27\n"
          ]
        }
      ],
      "source": [
        "trains = {}\n",
        "i = 1\n",
        "# prevLoco = ''\n",
        "with zipfile.ZipFile(\"/tmp/\"+filename, \"r\") as f:\n",
        "    for name in f.namelist():\n",
        "        if name.endswith('.json'):\n",
        "            with f.open(name) as zd:\n",
        "                data = json.load(zd)\n",
        "                lastTrainReporting = data['lastTrainReporting']\n",
        "                currentLoco = lastTrainReporting['ptcLeadLocomotiveId']\n",
        "                # prevLoco != currentLoco and \n",
        "                if (\"trainActualPositionList\" in lastTrainReporting and len(lastTrainReporting['trainActualPositionList']) > 0): \n",
        "                    # trainActualPositionList = lastTrainReporting['trainActualPositionList']\n",
        "                    trains[i] = pd.json_normalize(lastTrainReporting)\n",
        "                    i = i + 1\n",
        "                    if (i % 1000 == 0):\n",
        "                      current_time = datetime.now().strftime(\"%H:%M:%S\")\n",
        "                      print(i, \" \", current_time)\n",
        "                    # prevLoco = currentLoco\n",
        "                            "
      ]
    },
    {
      "cell_type": "code",
      "execution_count": 8,
      "metadata": {
        "id": "lgWV768N7E0d"
      },
      "outputs": [],
      "source": [
        "dfTrainsAll = pd.concat(trains.values())\n",
        "dfTrainsAll[\"milepost\"] = dfTrainsAll.apply(lambda row: math.trunc(row['lastReportedPosition.milepostLocation.milepost.milepostNumber']), axis=1)"
      ]
    },
    {
      "cell_type": "code",
      "source": [
        "del trains"
      ],
      "metadata": {
        "id": "Q581UU9nCWZ1"
      },
      "execution_count": 9,
      "outputs": []
    },
    {
      "cell_type": "code",
      "execution_count": 10,
      "metadata": {
        "colab": {
          "base_uri": "https://localhost:8080/"
        },
        "id": "Idznxze77E0e",
        "outputId": "3006ea92-d3ab-4808-ba78-e562a8622a8d"
      },
      "outputs": [
        {
          "output_type": "stream",
          "name": "stdout",
          "text": [
            "<class 'pandas.core.frame.DataFrame'>\n",
            "Int64Index: 33632 entries, 0 to 0\n",
            "Data columns (total 37 columns):\n",
            " #   Column                                                         Non-Null Count  Dtype  \n",
            "---  ------                                                         --------------  -----  \n",
            " 0   ptcLeadLocomotiveId                                            33632 non-null  object \n",
            " 1   positionHistoryList                                            33632 non-null  object \n",
            " 2   locomotiveList                                                 33632 non-null  object \n",
            " 3   subdivisionList                                                33632 non-null  object \n",
            " 4   trainEstimatedPositionList                                     33632 non-null  object \n",
            " 5   trainActualPositionList                                        33632 non-null  object \n",
            " 6   trainId.trainSCAC                                              33632 non-null  object \n",
            " 7   trainId.trainSection                                           33632 non-null  object \n",
            " 8   trainId.trainSymbol                                            33632 non-null  object \n",
            " 9   trainId.trainDate                                              33632 non-null  object \n",
            " 10  lastReportedPosition.positionTime                              33632 non-null  object \n",
            " 11  lastReportedPosition.speedMPH                                  33632 non-null  int64  \n",
            " 12  lastReportedPosition.milepostLocation.subdivisionId            33632 non-null  int64  \n",
            " 13  lastReportedPosition.milepostLocation.trackName                33632 non-null  object \n",
            " 14  lastReportedPosition.milepostLocation.milepost.milepostNumber  33632 non-null  float64\n",
            " 15  aotuTrainData.priorityCode                                     33089 non-null  float64\n",
            " 16  aotuTrainData.categoryCode                                     33089 non-null  float64\n",
            " 17  aotuTrainData.authorityRangeCode                               33089 non-null  float64\n",
            " 18  aotuTrainData.ownershipCode                                    33089 non-null  float64\n",
            " 19  aotuTrainData.tenantCarrier                                    33089 non-null  object \n",
            " 20  aotuTrainData.totalCarWeight                                   33089 non-null  float64\n",
            " 21  aotuTrainData.totalCarLength                                   33089 non-null  float64\n",
            " 22  aotuTrainData.totalLocomotiveWeight                            33089 non-null  float64\n",
            " 23  aotuTrainData.totalLocomotiveLength                            33089 non-null  float64\n",
            " 24  aotuTrainData.actualTonsPerAxle                                33089 non-null  float64\n",
            " 25  aotuTrainData.heavy143TonCarCount                              33089 non-null  float64\n",
            " 26  aotuTrainData.heavy158TonCarCount                              33089 non-null  float64\n",
            " 27  aotuTrainData.over158TonCarCount                               33089 non-null  float64\n",
            " 28  aotuTrainData.highWideCarCount                                 33089 non-null  float64\n",
            " 29  aotuTrainData.eventCode                                        33089 non-null  float64\n",
            " 30  aotuTrainData.routeLocationList                                33089 non-null  object \n",
            " 31  maximumTrainSpeed                                              32144 non-null  float64\n",
            " 32  loadedCarCount                                                 32144 non-null  float64\n",
            " 33  emptyCarCount                                                  32144 non-null  float64\n",
            " 34  trainLength                                                    32144 non-null  float64\n",
            " 35  trailingTonnage                                                32144 non-null  float64\n",
            " 36  milepost                                                       33632 non-null  int64  \n",
            "dtypes: float64(20), int64(3), object(14)\n",
            "memory usage: 9.8+ MB\n",
            "None\n",
            "(33632, 37)\n"
          ]
        }
      ],
      "source": [
        "print(dfTrainsAll.info())\n",
        "print(dfTrainsAll.shape)"
      ]
    },
    {
      "cell_type": "code",
      "source": [
        "dfTrainsLearn = dfTrainsAll"
      ],
      "metadata": {
        "id": "it2dDKRfbk0_"
      },
      "execution_count": 11,
      "outputs": []
    },
    {
      "cell_type": "code",
      "source": [
        "dfTrainsLearn['loadedCarCount'] =  dfTrainsLearn['loadedCarCount'].replace(np.nan, 999.)\n",
        "dfTrainsLearn['emptyCarCount'] =  dfTrainsLearn['emptyCarCount'].replace(np.nan, 999.)\n",
        "dfTrainsLearn['trainLength'] =  dfTrainsLearn['trainLength'].replace(np.nan, 99999.)\n",
        "dfTrainsLearn['trailingTonnage'] =  dfTrainsLearn['trailingTonnage'].replace(np.nan, 99999.)\n",
        "# print(dfTrainsLearn['trailingTonnage'].unique())"
      ],
      "metadata": {
        "id": "jTMp9nMBZav1"
      },
      "execution_count": 12,
      "outputs": []
    },
    {
      "cell_type": "code",
      "source": [
        "dfTrainsLearn['mpIncr'] = dfTrainsLearn.apply(lambda row: row['lastReportedPosition.speedMPH'] >= 0, axis=1)"
      ],
      "metadata": {
        "id": "-XDkAezxjVGH"
      },
      "execution_count": 13,
      "outputs": []
    },
    {
      "cell_type": "code",
      "source": [
        "dfTrainsLearn['lastReportedPosition.speedMPH']  = dfTrainsLearn.apply(lambda row: abs(row['lastReportedPosition.speedMPH']), axis=1)\n",
        "dfTrainsLearn['maximumTrainSpeed']  = dfTrainsLearn.apply(lambda row: abs(row['maximumTrainSpeed']), axis=1)"
      ],
      "metadata": {
        "id": "TjMlCKaoxbMw"
      },
      "execution_count": 39,
      "outputs": []
    },
    {
      "cell_type": "code",
      "source": [
        "dfTrainsLearn['lastReportedPosition.speedMPH'].hist(bins=90)"
      ],
      "metadata": {
        "id": "KWQaxYZ3yC1f",
        "outputId": "276209d1-3e94-4772-8100-ff257cdfb54b",
        "colab": {
          "base_uri": "https://localhost:8080/",
          "height": 282
        }
      },
      "execution_count": 40,
      "outputs": [
        {
          "output_type": "execute_result",
          "data": {
            "text/plain": [
              "<matplotlib.axes._subplots.AxesSubplot at 0x7fd3b8dbfa50>"
            ]
          },
          "metadata": {},
          "execution_count": 40
        },
        {
          "output_type": "display_data",
          "data": {
            "text/plain": [
              "<Figure size 432x288 with 1 Axes>"
            ],
            "image/png": "[encoded data removed]"
          },
          "metadata": {
            "needs_background": "light"
          }
        }
      ]
    },
    {
      "cell_type": "code",
      "source": [
        "aotuColumns = [item for item in dfTrainsLearn.columns if item.startswith('aotu')]\n",
        "for column in aotuColumns:\n",
        "  dfTrainsLearn[column] =  dfTrainsLearn[column].replace(np.nan, 0.)"
      ],
      "metadata": {
        "id": "IjhK53fef5eG"
      },
      "execution_count": 16,
      "outputs": []
    },
    {
      "cell_type": "code",
      "source": [
        "dfTrainsLearn['symbolType'] = dfTrainsLearn.apply(lambda row: row['trainId.trainSymbol'][:1], axis=1)\n",
        "print(dfTrainsLearn['symbolType'].unique())"
      ],
      "metadata": {
        "id": "FPO5BUrpVl5t",
        "outputId": "30e1b512-feae-4b8a-85ef-9784f294c809",
        "colab": {
          "base_uri": "https://localhost:8080/"
        }
      },
      "execution_count": 17,
      "outputs": [
        {
          "output_type": "stream",
          "name": "stdout",
          "text": [
            "['A' 'Q' 'M' 'H' 'G' 'U' 'O' 'I' 'E' 'C' 'Y' 'L' 'Z' 'S' 'R' 'W']\n"
          ]
        }
      ]
    },
    {
      "cell_type": "code",
      "source": [
        "dfTrainsLearn['lastReportedPosition.milepostLocation.trackName'] = dfTrainsLearn['lastReportedPosition.milepostLocation.trackName'].astype('category')\n",
        "dfTrainsLearn['lastReportedPosition.milepostLocation.trackName'] = dfTrainsLearn['lastReportedPosition.milepostLocation.trackName'].cat.set_categories(['WEST MAIN', 'MAIN', 'MT 2', 'MT 1', 'WESTXO', 'XO', 'EASTXO','YD LD', 'EAST MAIN', 'TO_N_EAST MAIN', 'TO_S_UP_MAINLINE', 'TO_S_CS JUNCTION', 'S_STARKS', 'TO_S_KCS UP PRT CONN', 'TO_N_LUCAS', 'S_LUCAS'])\n",
        "#dfTrainsLearn['lastReportedSpeedMPH'] = dfTrainsLearn.apply(lambda row: row['positionHistoryList'][0]['speedMPH'], axis=1)\n",
        "dfTrainsLearn['symbolType'] = dfTrainsLearn['symbolType'].astype('category')\n",
        "dfTrainsLearn['symbolType'] = dfTrainsLearn['symbolType'].cat.set_categories(['A' 'Q' 'M' 'H' 'G' 'U' 'O' 'I' 'E' 'C' 'Y' 'L' 'Z' 'S' 'R' 'W'])\n"
      ],
      "metadata": {
        "id": "DParW0UUrZKv"
      },
      "execution_count": 18,
      "outputs": []
    },
    {
      "cell_type": "code",
      "source": [
        "dfTrainsLearn['maximumTrainSpeed'] =  dfTrainsLearn['maximumTrainSpeed'].replace(np.nan, 88.)\n",
        "print(dfTrainsLearn['maximumTrainSpeed'].unique())"
      ],
      "metadata": {
        "id": "ZTAgIeMJeHmz",
        "outputId": "a889d334-7b0b-476c-e6fb-eb98ef4afa02",
        "colab": {
          "base_uri": "https://localhost:8080/"
        }
      },
      "execution_count": 19,
      "outputs": [
        {
          "output_type": "stream",
          "name": "stdout",
          "text": [
            "[88. 50. 60. 70. 40. 45.]\n"
          ]
        }
      ]
    },
    {
      "cell_type": "code",
      "source": [
        "def getWorkLocations(dfTrainsLocation):\n",
        "  if isinstance(dfTrainsLocation['aotuTrainData.routeLocationList'], float):\n",
        "    return None\n",
        "  if len(dfTrainsLocation['aotuTrainData.routeLocationList']) == 0:\n",
        "    return None\n",
        "  aotuRoute=pd.json_normalize(dfTrainsLocation['aotuTrainData.routeLocationList']) \n",
        "  eventLocations = aotuRoute[aotuRoute['activityList'].map(len) > 1]\n",
        "  temp = eventLocations['milepost.milepostNumber'].unique()\n",
        "  if len(temp) == 0:\n",
        "    return None\n",
        "  return ','.join(['%.2f' % num for num in temp])"
      ],
      "metadata": {
        "id": "TsYgT41SKyAn"
      },
      "execution_count": 20,
      "outputs": []
    },
    {
      "cell_type": "code",
      "source": [
        "# routeLoca = dfTrainsLearn.loc[dfTrainsLearn['aotuTrainData.routeLocationList'].str.len() > 0]['aotuTrainData.routeLocationList']\n",
        "# route = routeLoca.iloc[0]\n",
        "# print(route)\n",
        "# jsroute = pd.json_normalize(route)\n",
        "# jsroute"
      ],
      "metadata": {
        "id": "PM-Q6r-A2JNS"
      },
      "execution_count": 21,
      "outputs": []
    },
    {
      "cell_type": "code",
      "source": [
        "# dfTrainsLearn.loc[dfTrainsLearn['aotuTrainData.routeLocationList'].map(len)==0]\n",
        "# dfTrainsLearn[dfTrainsLearn['aotuTrainData.routeLocationList'].apply(lambda x: isinstance(x, float))]['aotuTrainData.routeLocationList']"
      ],
      "metadata": {
        "id": "fK5apSV-R6NF"
      },
      "execution_count": 22,
      "outputs": []
    },
    {
      "cell_type": "code",
      "source": [
        "dfTrainsLearn['workLocations'] = dfTrainsLearn.apply(lambda row: getWorkLocations(row), axis=1)"
      ],
      "metadata": {
        "id": "5sNuNU-iSgFy"
      },
      "execution_count": 23,
      "outputs": []
    },
    {
      "cell_type": "code",
      "source": [
        "dfTrainsLearn['workLocations'].unique()"
      ],
      "metadata": {
        "colab": {
          "base_uri": "https://localhost:8080/"
        },
        "id": "jA6cNsHR8VSr",
        "outputId": "88cb46ba-d686-478b-efd0-6dd23e1b5865"
      },
      "execution_count": 24,
      "outputs": [
        {
          "output_type": "execute_result",
          "data": {
            "text/plain": [
              "array([None, '225.10', '202.20', '202.20,219.70', '250.50,202.20', '258.40,202.20', '202.20,258.40,321.50', '202.20,258.40', '219.70,202.20', '202.20,314.52', '202.20,214.50,225.10,290.80,304.10',\n",
              "       '214.50,225.10,290.80,304.10,202.20', '321.50,202.20', '321.50,314.52,202.20', '258.40,219.70,202.20', '314.52,202.20', '258.40,207.60,202.20', '257.60,202.20', '202.20,265.30',\n",
              "       '202.20,258.40,318.90,321.50', '202.20,258.40,321.50,219.70', '202.20,219.70,258.40,321.50', '202.20,219.70,250.50,258.40,321.50', '202.20,219.70,258.40', '225.10,202.20'], dtype=object)"
            ]
          },
          "metadata": {},
          "execution_count": 24
        }
      ]
    },
    {
      "cell_type": "markdown",
      "source": [
        "We can make this more clever later, but for now this seems the most sensible shortcut"
      ],
      "metadata": {
        "id": "-AZiJPI24QO9"
      }
    },
    {
      "cell_type": "code",
      "source": [
        "dfTrainsLearn['locomotiveCount'] = dfTrainsLearn.apply(lambda row: len(row['locomotiveList']),axis = 1)"
      ],
      "metadata": {
        "id": "LuG8-GNBzwrF"
      },
      "execution_count": 25,
      "outputs": []
    },
    {
      "cell_type": "code",
      "source": [
        "dfTrainsLearnActuals = dfTrainsLearn.apply(lambda row: pd.json_normalize(row['trainActualPositionList']), axis=1)"
      ],
      "metadata": {
        "id": "Ag-KbEfz4Is8"
      },
      "execution_count": 26,
      "outputs": []
    },
    {
      "cell_type": "code",
      "source": [
        "dfTrainsLearnActuals.iloc[1]"
      ],
      "metadata": {
        "colab": {
          "base_uri": "https://localhost:8080/",
          "height": 112
        },
        "id": "r_gdrmU4IgpY",
        "outputId": "6eade6c4-0dd4-4e74-ec55-c8bb07c6d43b"
      },
      "execution_count": 27,
      "outputs": [
        {
          "output_type": "execute_result",
          "data": {
            "text/plain": [
              "           positionTime  speedMPH  milepostLocation.subdivisionId  \\\n",
              "0  2022-06-20T21:45:28Z        11                             106   \n",
              "1  2022-06-20T21:47:28Z        14                             106   \n",
              "\n",
              "  milepostLocation.trackName  milepostLocation.milepost.milepostNumber  \n",
              "0                       MAIN                                  765.4883  \n",
              "1             MAIN-WEST MAIN                                  765.9972  "
            ],
            "text/html": [
              "\n",
              "  <div id=\"df-70ba2644-c776-4993-b07c-7feb05f8ae42\">\n",
              "    <div class=\"colab-df-container\">\n",
              "      <div>\n",
              "<style scoped>\n",
              "    .dataframe tbody tr th:only-of-type {\n",
              "        vertical-align: middle;\n",
              "    }\n",
              "\n",
              "    .dataframe tbody tr th {\n",
              "        vertical-align: top;\n",
              "    }\n",
              "\n",
              "    .dataframe thead th {\n",
              "        text-align: right;\n",
              "    }\n",
              "</style>\n",
              "<table border=\"1\" class=\"dataframe\">\n",
              "  <thead>\n",
              "    <tr style=\"text-align: right;\">\n",
              "      <th></th>\n",
              "      <th>positionTime</th>\n",
              "      <th>speedMPH</th>\n",
              "      <th>milepostLocation.subdivisionId</th>\n",
              "      <th>milepostLocation.trackName</th>\n",
              "      <th>milepostLocation.milepost.milepostNumber</th>\n",
              "    </tr>\n",
              "  </thead>\n",
              "  <tbody>\n",
              "    <tr>\n",
              "      <th>0</th>\n",
              "      <td>2022-06-20T21:45:28Z</td>\n",
              "      <td>11</td>\n",
              "      <td>106</td>\n",
              "      <td>MAIN</td>\n",
              "      <td>765.4883</td>\n",
              "    </tr>\n",
              "    <tr>\n",
              "      <th>1</th>\n",
              "      <td>2022-06-20T21:47:28Z</td>\n",
              "      <td>14</td>\n",
              "      <td>106</td>\n",
              "      <td>MAIN-WEST MAIN</td>\n",
              "      <td>765.9972</td>\n",
              "    </tr>\n",
              "  </tbody>\n",
              "</table>\n",
              "</div>\n",
              "      <button class=\"colab-df-convert\" onclick=\"convertToInteractive('df-70ba2644-c776-4993-b07c-7feb05f8ae42')\"\n",
              "              title=\"Convert this dataframe to an interactive table.\"\n",
              "              style=\"display:none;\">\n",
              "        \n",
              "  <svg xmlns=\"http://www.w3.org/2000/svg\" height=\"24px\"viewBox=\"0 0 24 24\"\n",
              "       width=\"24px\">\n",
              "    <path d=\"M0 0h24v24H0V0z\" fill=\"none\"/>\n",
              "    <path d=\"M18.56 5.44l.94 2.06.94-2.06 2.06-.94-2.06-.94-.94-2.06-.94 2.06-2.06.94zm-11 1L8.5 8.5l.94-2.06 2.06-.94-2.06-.94L8.5 2.5l-.94 2.06-2.06.94zm10 10l.94 2.06.94-2.06 2.06-.94-2.06-.94-.94-2.06-.94 2.06-2.06.94z\"/><path d=\"M17.41 7.96l-1.37-1.37c-.4-.4-.92-.59-1.43-.59-.52 0-1.04.2-1.43.59L10.3 9.45l-7.72 7.72c-.78.78-.78 2.05 0 2.83L4 21.41c.39.39.9.59 1.41.59.51 0 1.02-.2 1.41-.59l7.78-7.78 2.81-2.81c.8-.78.8-2.07 0-2.86zM5.41 20L4 18.59l7.72-7.72 1.47 1.35L5.41 20z\"/>\n",
              "  </svg>\n",
              "      </button>\n",
              "      \n",
              "  <style>\n",
              "    .colab-df-container {\n",
              "      display:flex;\n",
              "      flex-wrap:wrap;\n",
              "      gap: 12px;\n",
              "    }\n",
              "\n",
              "    .colab-df-convert {\n",
              "      background-color: #E8F0FE;\n",
              "      border: none;\n",
              "      border-radius: 50%;\n",
              "      cursor: pointer;\n",
              "      display: none;\n",
              "      fill: #1967D2;\n",
              "      height: 32px;\n",
              "      padding: 0 0 0 0;\n",
              "      width: 32px;\n",
              "    }\n",
              "\n",
              "    .colab-df-convert:hover {\n",
              "      background-color: #E2EBFA;\n",
              "      box-shadow: 0px 1px 2px rgba(60, 64, 67, 0.3), 0px 1px 3px 1px rgba(60, 64, 67, 0.15);\n",
              "      fill: #174EA6;\n",
              "    }\n",
              "\n",
              "    [theme=dark] .colab-df-convert {\n",
              "      background-color: #3B4455;\n",
              "      fill: #D2E3FC;\n",
              "    }\n",
              "\n",
              "    [theme=dark] .colab-df-convert:hover {\n",
              "      background-color: #434B5C;\n",
              "      box-shadow: 0px 1px 3px 1px rgba(0, 0, 0, 0.15);\n",
              "      filter: drop-shadow(0px 1px 2px rgba(0, 0, 0, 0.3));\n",
              "      fill: #FFFFFF;\n",
              "    }\n",
              "  </style>\n",
              "\n",
              "      <script>\n",
              "        const buttonEl =\n",
              "          document.querySelector('#df-70ba2644-c776-4993-b07c-7feb05f8ae42 button.colab-df-convert');\n",
              "        buttonEl.style.display =\n",
              "          google.colab.kernel.accessAllowed ? 'block' : 'none';\n",
              "\n",
              "        async function convertToInteractive(key) {\n",
              "          const element = document.querySelector('#df-70ba2644-c776-4993-b07c-7feb05f8ae42');\n",
              "          const dataTable =\n",
              "            await google.colab.kernel.invokeFunction('convertToInteractive',\n",
              "                                                     [key], {});\n",
              "          if (!dataTable) return;\n",
              "\n",
              "          const docLinkHtml = 'Like what you see? Visit the ' +\n",
              "            '<a target=\"_blank\" href=https://colab.research.google.com/notebooks/data_table.ipynb>data table notebook</a>'\n",
              "            + ' to learn more about interactive tables.';\n",
              "          element.innerHTML = '';\n",
              "          dataTable['output_type'] = 'display_data';\n",
              "          await google.colab.output.renderOutput(dataTable, element);\n",
              "          const docLink = document.createElement('div');\n",
              "          docLink.innerHTML = docLinkHtml;\n",
              "          element.appendChild(docLink);\n",
              "        }\n",
              "      </script>\n",
              "    </div>\n",
              "  </div>\n",
              "  "
            ]
          },
          "metadata": {},
          "execution_count": 27
        }
      ]
    },
    {
      "cell_type": "code",
      "source": [
        "dfTrainsLearn = dfTrainsLearn.reset_index(drop=True)"
      ],
      "metadata": {
        "id": "Kw_c3Ddj4zN4"
      },
      "execution_count": 28,
      "outputs": []
    },
    {
      "cell_type": "code",
      "source": [
        "def findNextSpeed(trainsEntry, actualsEntry):\n",
        "  milepost = trainsEntry['lastReportedPosition.milepostLocation.milepost.milepostNumber']\n",
        "  #print(milepost)\n",
        "  value  = actualsEntry.loc[actualsEntry['milepostLocation.milepost.milepostNumber'] > milepost+1]\n",
        "  if (len(value) > 0):\n",
        "    mp = value.min()\n",
        "    amt = (abs(mp['speedMPH']) - abs(trainsEntry['lastReportedPosition.speedMPH']))\n",
        "    if (abs(amt) > 60):\n",
        "      print(\"Whoa: \",trainsEntry['trainId.trainSymbol'],trainsEntry['trainId.trainDate'],\": \" , abs(trainsEntry['lastReportedPosition.speedMPH']),\" to \", abs(mp['speedMPH']))\n",
        "    return amt;\n",
        "  value  = actualsEntry.loc[actualsEntry['milepostLocation.milepost.milepostNumber'] < milepost-1]\n",
        "  if (len(value) > 0):\n",
        "    mp = value.max()\n",
        "    amt = (abs(mp['speedMPH']) - abs(trainsEntry['lastReportedPosition.speedMPH']))\n",
        "    if (abs(amt) > 60):\n",
        "      print(\"Whoa: \",trainsEntry['trainId.trainSymbol'],trainsEntry['trainId.trainDate'],\": \" , abs(trainsEntry['lastReportedPosition.speedMPH']),\" to \", abs(mp['speedMPH']))\n",
        "    return amt;\n",
        "  return None"
      ],
      "metadata": {
        "id": "i_JszmqL0MR6"
      },
      "execution_count": 43,
      "outputs": []
    },
    {
      "cell_type": "code",
      "source": [
        "dfTrainsLearn['nextSpeed'] = dfTrainsLearn['lastReportedPosition.speedMPH']\n",
        "i = 0;\n",
        "for index, trainsEntry in dfTrainsLearn.iterrows():\n",
        "  actualsEntry = dfTrainsLearnActuals.iloc[i]\n",
        "  nextSpeed = findNextSpeed(trainsEntry, actualsEntry)\n",
        "  if (nextSpeed != None):\n",
        "    dfTrainsLearn.at[i,'nextSpeed'] = nextSpeed\n",
        "  if (i % 1000 == 0):\n",
        "    print(i)\n",
        "  i = i + 1"
      ],
      "metadata": {
        "colab": {
          "base_uri": "https://localhost:8080/"
        },
        "id": "fG2U-anX-jbt",
        "outputId": "632f4868-e535-404a-8973-b53760172fe0"
      },
      "execution_count": 44,
      "outputs": [
        {
          "output_type": "stream",
          "name": "stdout",
          "text": [
            "0\n",
            "1000\n",
            "2000\n",
            "3000\n",
            "Whoa:  ZBRG2B 2022-06-20 :  61  to  0\n",
            "Whoa:  ZBRG2B 2022-06-20 :  63  to  0\n",
            "Whoa:  ZBRG2B 2022-06-20 :  68  to  0\n",
            "Whoa:  ZBRG2B 2022-06-20 :  71  to  0\n",
            "Whoa:  ZBRG2B 2022-06-20 :  71  to  0\n",
            "Whoa:  ZBRG2B 2022-06-20 :  69  to  0\n",
            "Whoa:  ZBRG2B 2022-06-20 :  68  to  0\n",
            "Whoa:  ZBRG2B 2022-06-20 :  68  to  0\n",
            "Whoa:  ZBRG2B 2022-06-20 :  63  to  0\n",
            "Whoa:  ZBRG2B 2022-06-20 :  61  to  0\n",
            "Whoa:  ZBRG2B 2022-06-20 :  63  to  0\n",
            "Whoa:  ZBRG2B 2022-06-20 :  69  to  0\n",
            "Whoa:  ZBRG2B 2022-06-20 :  71  to  0\n",
            "Whoa:  ZBRG2B 2022-06-20 :  70  to  0\n",
            "Whoa:  ZBRG2B 2022-06-20 :  71  to  0\n",
            "Whoa:  ZBRG2B 2022-06-20 :  71  to  0\n",
            "Whoa:  ZBRG2B 2022-06-20 :  69  to  0\n",
            "Whoa:  ZBRG2B 2022-06-20 :  68  to  0\n",
            "Whoa:  ZBRG2B 2022-06-20 :  61  to  0\n",
            "Whoa:  ZBRG2B 2022-06-20 :  64  to  0\n",
            "Whoa:  ZBRG2B 2022-06-20 :  69  to  0\n",
            "Whoa:  ZBRG2B 2022-06-20 :  71  to  0\n",
            "Whoa:  ZBRG2B 2022-06-20 :  70  to  0\n",
            "Whoa:  ZBRG2B 2022-06-20 :  64  to  0\n",
            "Whoa:  ZBRG2B 2022-06-20 :  61  to  0\n",
            "Whoa:  ZBRG2B 2022-06-20 :  62  to  0\n",
            "Whoa:  ZBRG2B 2022-06-20 :  67  to  0\n",
            "Whoa:  ZBRG2B 2022-06-20 :  68  to  0\n",
            "Whoa:  ZBRG2B 2022-06-20 :  70  to  0\n",
            "Whoa:  ZBRG2B 2022-06-20 :  70  to  0\n",
            "Whoa:  ZBRG2B 2022-06-20 :  70  to  0\n",
            "Whoa:  ZBRG2B 2022-06-20 :  63  to  0\n",
            "Whoa:  ZBRG2B 2022-06-20 :  61  to  0\n",
            "4000\n",
            "5000\n",
            "Whoa:  MG3NP 2022-06-20 :  61  to  0\n",
            "Whoa:  ZG2BRB 2022-06-25 :  63  to  0\n",
            "Whoa:  ZG2BRB 2022-06-25 :  63  to  0\n",
            "Whoa:  ZG2BRB 2022-06-25 :  64  to  0\n",
            "Whoa:  ZG2BRB 2022-06-25 :  65  to  0\n",
            "Whoa:  ZG2BRB 2022-06-25 :  65  to  0\n",
            "Whoa:  ZG2BRB 2022-06-25 :  65  to  0\n",
            "Whoa:  ZG2BRB 2022-06-25 :  68  to  0\n",
            "Whoa:  ZG2BRB 2022-06-25 :  67  to  0\n",
            "Whoa:  ZG2BRB 2022-06-25 :  67  to  0\n",
            "Whoa:  ZG2BRB 2022-06-25 :  66  to  0\n",
            "Whoa:  ZG2BRB 2022-06-25 :  66  to  0\n",
            "Whoa:  ZG2BRB 2022-06-25 :  63  to  0\n",
            "Whoa:  ZG2BRB 2022-06-25 :  66  to  0\n",
            "Whoa:  ZG2BRB 2022-06-25 :  67  to  0\n",
            "Whoa:  ZG2BRB 2022-06-25 :  64  to  0\n",
            "Whoa:  ZG2BRB 2022-06-25 :  64  to  0\n",
            "Whoa:  ZG2BRB 2022-06-25 :  65  to  0\n",
            "Whoa:  ZG2BRB 2022-06-25 :  67  to  0\n",
            "Whoa:  ZG2BRB 2022-06-25 :  65  to  0\n",
            "Whoa:  ZG2BRB 2022-06-25 :  63  to  0\n",
            "Whoa:  ZG2BRB 2022-06-25 :  62  to  0\n",
            "Whoa:  ZSCG2 2022-06-23 :  62  to  0\n",
            "Whoa:  ZSCG2 2022-06-23 :  62  to  0\n",
            "Whoa:  ZSCG2 2022-06-23 :  64  to  0\n",
            "Whoa:  ZSCG2 2022-06-23 :  63  to  0\n",
            "Whoa:  ZSCG2 2022-06-23 :  63  to  0\n",
            "Whoa:  ZSCG2 2022-06-23 :  62  to  0\n",
            "6000\n",
            "Whoa:  LNI21 2022-06-22 :  68  to  0\n",
            "Whoa:  LNI21 2022-06-22 :  67  to  0\n",
            "Whoa:  LNI21 2022-06-22 :  68  to  0\n",
            "7000\n",
            "Whoa:  LNI21 2022-06-22 :  63  to  0\n",
            "Whoa:  LNI21 2022-06-22 :  68  to  0\n",
            "Whoa:  LNI21 2022-06-22 :  68  to  0\n",
            "Whoa:  LNI21 2022-06-22 :  68  to  0\n",
            "Whoa:  LNI21 2022-06-22 :  65  to  0\n",
            "Whoa:  LNI21 2022-06-24 :  0  to  65\n",
            "Whoa:  LNI21 2022-06-24 :  1  to  63\n",
            "Whoa:  LNI21 2022-06-24 :  69  to  7\n",
            "8000\n",
            "Whoa:  ITAG3 2022-06-24 :  61  to  0\n",
            "Whoa:  ITAG3 2022-06-24 :  65  to  0\n",
            "Whoa:  ITAG3 2022-06-24 :  65  to  0\n",
            "Whoa:  ZSCG2 2022-06-21 :  61  to  0\n",
            "Whoa:  ZSCG2 2022-06-21 :  62  to  0\n",
            "Whoa:  ZSCG2 2022-06-21 :  62  to  0\n",
            "Whoa:  ZSCG2 2022-06-21 :  62  to  0\n",
            "Whoa:  ZSCG2 2022-06-21 :  62  to  0\n",
            "Whoa:  ZSCG2 2022-06-21 :  61  to  0\n",
            "9000\n",
            "10000\n",
            "11000\n",
            "12000\n",
            "Whoa:  ACYCPR 2022-06-21 :  64  to  0\n",
            "Whoa:  ACYCPR 2022-06-21 :  68  to  0\n",
            "Whoa:  ACYCPR 2022-06-21 :  66  to  0\n",
            "Whoa:  ACYCPR 2022-06-21 :  61  to  0\n",
            "Whoa:  ACYCPR 2022-06-21 :  63  to  0\n",
            "Whoa:  ACYCPR 2022-06-21 :  63  to  0\n",
            "13000\n",
            "Whoa:  ZBRG2B 2022-06-24 :  61  to  0\n",
            "Whoa:  ZBRG2B 2022-06-24 :  64  to  0\n",
            "Whoa:  ZBRG2B 2022-06-24 :  66  to  0\n",
            "Whoa:  ZBRG2B 2022-06-24 :  68  to  0\n",
            "Whoa:  ZBRG2B 2022-06-24 :  67  to  0\n",
            "Whoa:  ZBRG2B 2022-06-24 :  67  to  0\n",
            "Whoa:  ZBRG2B 2022-06-24 :  66  to  0\n",
            "Whoa:  ZBRG2B 2022-06-24 :  61  to  0\n",
            "14000\n",
            "15000\n",
            "16000\n",
            "Whoa:  IG1LA 2022-06-24 :  61  to  0\n",
            "Whoa:  IG1LA 2022-06-24 :  61  to  0\n",
            "Whoa:  IG1LA 2022-06-24 :  62  to  0\n",
            "Whoa:  IG1LA 2022-06-24 :  62  to  0\n",
            "Whoa:  IG1LA 2022-06-24 :  62  to  0\n",
            "Whoa:  IG1LA 2022-06-24 :  62  to  0\n",
            "Whoa:  IG1LA 2022-06-24 :  62  to  0\n",
            "Whoa:  IG1LA 2022-06-24 :  62  to  0\n",
            "17000\n",
            "18000\n",
            "19000\n",
            "20000\n",
            "21000\n",
            "22000\n",
            "Whoa:  ZBRG2B 2022-06-18 :  63  to  0\n",
            "Whoa:  ZBRG2B 2022-06-18 :  63  to  0\n",
            "Whoa:  ZBRG2B 2022-06-18 :  64  to  0\n",
            "Whoa:  ZBRG2B 2022-06-18 :  65  to  0\n",
            "Whoa:  ZBRG2B 2022-06-18 :  64  to  0\n",
            "Whoa:  ZBRG2B 2022-06-18 :  61  to  0\n",
            "Whoa:  ZBRG2B 2022-06-18 :  68  to  0\n",
            "Whoa:  ZBRG2B 2022-06-18 :  67  to  0\n",
            "Whoa:  ZBRG2B 2022-06-18 :  64  to  0\n",
            "Whoa:  ZBRG2B 2022-06-18 :  64  to  0\n",
            "Whoa:  ZBRG2B 2022-06-18 :  66  to  0\n",
            "Whoa:  ZBRG2B 2022-06-18 :  67  to  0\n",
            "Whoa:  ZBRG2B 2022-06-18 :  65  to  0\n",
            "Whoa:  ZBRG2B 2022-06-18 :  69  to  0\n",
            "Whoa:  ZBRG2B 2022-06-18 :  69  to  0\n",
            "Whoa:  ZBRG2B 2022-06-18 :  69  to  0\n",
            "Whoa:  ZBRG2B 2022-06-18 :  64  to  0\n",
            "Whoa:  ZBRG2B 2022-06-18 :  65  to  0\n",
            "Whoa:  ZBRG2B 2022-06-18 :  64  to  0\n",
            "Whoa:  ZBRG2B 2022-06-18 :  64  to  0\n",
            "Whoa:  ZBRG2B 2022-06-18 :  67  to  0\n",
            "Whoa:  ZBRG2B 2022-06-18 :  68  to  0\n",
            "Whoa:  ZBRG2B 2022-06-18 :  68  to  0\n",
            "Whoa:  ZBRG2B 2022-06-18 :  69  to  0\n",
            "Whoa:  ZBRG2B 2022-06-18 :  66  to  0\n",
            "Whoa:  ZBRG2B 2022-06-18 :  66  to  0\n",
            "Whoa:  ZBRG2B 2022-06-18 :  62  to  0\n",
            "Whoa:  ZBRG2B 2022-06-18 :  61  to  0\n",
            "Whoa:  ZBRG2B 2022-06-18 :  61  to  0\n",
            "23000\n",
            "Whoa:  ZBRG2 2022-06-21 :  68  to  3\n",
            "Whoa:  ZBRG2 2022-06-21 :  67  to  0\n",
            "Whoa:  ZBRG2 2022-06-21 :  66  to  0\n",
            "Whoa:  ZBRG2 2022-06-21 :  66  to  5\n",
            "Whoa:  ZBRG2 2022-06-21 :  68  to  0\n",
            "Whoa:  ZBRG2 2022-06-21 :  68  to  5\n",
            "Whoa:  ZBRG2 2022-06-21 :  67  to  0\n",
            "Whoa:  ZBRG2 2022-06-21 :  67  to  0\n",
            "Whoa:  ZBRG2 2022-06-21 :  67  to  0\n",
            "Whoa:  ZBRG2 2022-06-21 :  68  to  3\n",
            "Whoa:  ZBRG2 2022-06-21 :  68  to  0\n",
            "Whoa:  ZBRG2 2022-06-21 :  61  to  0\n",
            "Whoa:  ZBRG2 2022-06-21 :  65  to  0\n",
            "Whoa:  ZBRG2 2022-06-21 :  67  to  1\n",
            "Whoa:  ZBRG2 2022-06-21 :  67  to  0\n",
            "Whoa:  ZBRG2 2022-06-21 :  65  to  0\n",
            "Whoa:  ZBRG2 2022-06-21 :  61  to  0\n",
            "Whoa:  ZBRG2 2022-06-21 :  63  to  0\n",
            "Whoa:  ZBRG2 2022-06-21 :  63  to  0\n",
            "Whoa:  ZBRG2 2022-06-21 :  62  to  0\n",
            "Whoa:  ZBRG2 2022-06-21 :  63  to  0\n",
            "Whoa:  ZBRG2 2022-06-21 :  63  to  0\n",
            "Whoa:  ZBRG2 2022-06-21 :  62  to  0\n",
            "Whoa:  ZBRG2 2022-06-21 :  61  to  0\n",
            "24000\n",
            "Whoa:  ZLTG2 2022-06-22 :  62  to  0\n",
            "Whoa:  ZLTG2 2022-06-22 :  64  to  0\n",
            "Whoa:  ZLTG2 2022-06-22 :  66  to  0\n",
            "Whoa:  ZLTG2 2022-06-22 :  65  to  0\n",
            "Whoa:  ZLTG2 2022-06-22 :  66  to  0\n",
            "Whoa:  ZLTG2 2022-06-22 :  66  to  0\n",
            "Whoa:  ZLTG2 2022-06-22 :  67  to  0\n",
            "Whoa:  ZLTG2 2022-06-22 :  67  to  0\n",
            "Whoa:  ZLTG2 2022-06-22 :  67  to  0\n",
            "Whoa:  ZLTG2 2022-06-22 :  67  to  0\n",
            "Whoa:  ZLTG2 2022-06-22 :  66  to  0\n",
            "Whoa:  ZLTG2 2022-06-22 :  66  to  0\n",
            "Whoa:  ZLTG2 2022-06-22 :  67  to  0\n",
            "Whoa:  ZLTG2 2022-06-22 :  65  to  0\n",
            "Whoa:  ZLTG2 2022-06-22 :  65  to  0\n",
            "Whoa:  ZLTG2 2022-06-22 :  67  to  0\n",
            "Whoa:  ZLTG2 2022-06-22 :  66  to  0\n",
            "Whoa:  ZLTG2 2022-06-22 :  65  to  0\n",
            "Whoa:  ZLTG2 2022-06-22 :  65  to  0\n",
            "Whoa:  ZLTG2 2022-06-22 :  65  to  0\n",
            "Whoa:  ZLTG2 2022-06-22 :  64  to  0\n",
            "Whoa:  ZLTG2 2022-06-22 :  63  to  0\n",
            "Whoa:  ZLTG2 2022-06-22 :  63  to  0\n",
            "Whoa:  ZLTG2 2022-06-22 :  62  to  0\n",
            "Whoa:  ZLTG2 2022-06-22 :  61  to  0\n",
            "Whoa:  ZLTG2 2022-06-22 :  61  to  0\n",
            "Whoa:  ZLTG2 2022-06-22 :  64  to  0\n",
            "Whoa:  ZLTG2 2022-06-22 :  66  to  0\n",
            "Whoa:  ZLTG2 2022-06-22 :  67  to  0\n",
            "Whoa:  ZLTG2 2022-06-22 :  61  to  0\n",
            "Whoa:  ZLTG2 2022-06-22 :  61  to  0\n",
            "25000\n",
            "Whoa:  ILTG2 2022-06-18 :  63  to  1\n",
            "Whoa:  ILTG2 2022-06-18 :  64  to  1\n",
            "Whoa:  ILTG2 2022-06-18 :  67  to  1\n",
            "Whoa:  ILTG2 2022-06-18 :  67  to  5\n",
            "Whoa:  ILTG2 2022-06-18 :  67  to  1\n",
            "Whoa:  ILTG2 2022-06-18 :  67  to  5\n",
            "Whoa:  ILTG2 2022-06-18 :  67  to  5\n",
            "Whoa:  ILTG2 2022-06-18 :  67  to  1\n",
            "Whoa:  ILTG2 2022-06-18 :  67  to  5\n",
            "Whoa:  ILTG2 2022-06-18 :  67  to  2\n",
            "Whoa:  ILTG2 2022-06-18 :  67  to  4\n",
            "Whoa:  ILTG2 2022-06-18 :  66  to  1\n",
            "Whoa:  ILTG2 2022-06-18 :  63  to  0\n",
            "26000\n",
            "27000\n",
            "Whoa:  ZG2SC 2022-06-22 :  69  to  0\n",
            "Whoa:  ZG2SC 2022-06-22 :  67  to  0\n",
            "Whoa:  ZG2SC 2022-06-22 :  64  to  0\n",
            "Whoa:  ZG2SC 2022-06-22 :  63  to  0\n",
            "Whoa:  ZG2SC 2022-06-22 :  65  to  0\n",
            "Whoa:  ZG2SC 2022-06-22 :  66  to  0\n",
            "Whoa:  ZG2SC 2022-06-22 :  66  to  0\n",
            "28000\n",
            "Whoa:  ILBG3 2022-06-14 :  61  to  0\n",
            "29000\n",
            "30000\n",
            "Whoa:  ZG2LT 2022-06-22 :  64  to  0\n",
            "Whoa:  ZG2LT 2022-06-22 :  65  to  0\n",
            "Whoa:  ZG2LT 2022-06-22 :  66  to  0\n",
            "Whoa:  ZG2LT 2022-06-22 :  65  to  0\n",
            "31000\n",
            "32000\n",
            "Whoa:  ZLTG2 2022-06-24 :  62  to  0\n",
            "Whoa:  ZLTG2 2022-06-24 :  65  to  0\n",
            "Whoa:  ZLTG2 2022-06-24 :  67  to  0\n",
            "Whoa:  ZLTG2 2022-06-24 :  67  to  0\n",
            "Whoa:  ZLTG2 2022-06-24 :  68  to  0\n",
            "Whoa:  ZLTG2 2022-06-24 :  66  to  0\n",
            "Whoa:  ZLTG2 2022-06-24 :  67  to  0\n",
            "Whoa:  ZLTG2 2022-06-24 :  67  to  0\n",
            "Whoa:  ZLTG2 2022-06-24 :  67  to  0\n",
            "Whoa:  ZLTG2 2022-06-24 :  63  to  0\n",
            "33000\n"
          ]
        }
      ]
    },
    {
      "cell_type": "code",
      "source": [
        "# dfTrainsLearn = dfTrainsLearn.drop(['hour'], axis=1)\n",
        "dfTrainsLearn['nextSpeed'].unique()"
      ],
      "metadata": {
        "colab": {
          "base_uri": "https://localhost:8080/"
        },
        "id": "BpeBp1Jfu-Hj",
        "outputId": "3745f215-5d2a-4483-d2e4-d4eea029129b"
      },
      "execution_count": 45,
      "outputs": [
        {
          "output_type": "execute_result",
          "data": {
            "text/plain": [
              "array([  9,   4,   6,  18,  19,  -8,  -1,  21,  -6,  20,  15, -10,  -9,   0,  -2,  10,   1,  -4,  -3,   7,   5,   2,   8,  11,   3,  12,  13,  16,  14, -13, -31, -28, -25, -30, -27,  22, -11, -26,\n",
              "       -29, -33, -22, -23, -34, -17,  17,  -5, -16, -15,  -7, -12, -18, -24, -45, -48, -42, -36, -40, -47, -50, -49, -46, -39, -41, -44, -35, -14, -37, -38, -51, -43, -19, -32,  24,  23, -20,  30,\n",
              "        26, -21,  29,  27,  33, -52, -58, -59, -53, -56, -57,  25,  28, -55, -54, -60, -61, -63, -68, -71, -69, -70, -64, -62, -67,  34,  37,  36,  32,  31, -65, -66,  38,  44,  39,  45,  65,  62,\n",
              "        35,  41,  40])"
            ]
          },
          "metadata": {},
          "execution_count": 45
        }
      ]
    },
    {
      "cell_type": "code",
      "source": [
        "dfTrainsLearn['nextSpeed'].hist(bins=140)"
      ],
      "metadata": {
        "id": "O6i4CKOVvQyD",
        "outputId": "3b4b6641-98f9-4a36-e149-d0b1125cb9e3",
        "colab": {
          "base_uri": "https://localhost:8080/",
          "height": 282
        }
      },
      "execution_count": 46,
      "outputs": [
        {
          "output_type": "execute_result",
          "data": {
            "text/plain": [
              "<matplotlib.axes._subplots.AxesSubplot at 0x7fd3b4348490>"
            ]
          },
          "metadata": {},
          "execution_count": 46
        },
        {
          "output_type": "display_data",
          "data": {
            "text/plain": [
              "<Figure size 432x288 with 1 Axes>"
            ],
            "image/png": "[encoded data removed]"
          },
          "metadata": {
            "needs_background": "light"
          }
        }
      ]
    },
    {
      "cell_type": "markdown",
      "source": [
        "Drop some values we are not using at the moment not needed"
      ],
      "metadata": {
        "id": "moXjNcMQu-3C"
      }
    },
    {
      "cell_type": "code",
      "source": [
        "dfTrainsLearn = dfTrainsLearn.drop(columns=['aotuTrainData.tenantCarrier',\n",
        "                                            # 'lastReportedPosition.precedingSignalState.currentStateTime', \n",
        "                                            # 'lastReportedPosition.nextSignalState.previousSignalState', \n",
        "                                            # 'lastReportedPosition.nextSignalState.currentStateTime', \n",
        "                                            'positionHistoryList',\n",
        "                                            'locomotiveList',\n",
        "                                            'subdivisionList',\n",
        "                                            'trainActualPositionList',\n",
        "                                            'trainEstimatedPositionList'\n",
        "                                            ,'aotuTrainData.routeLocationList'])"
      ],
      "metadata": {
        "id": "hBmsqv6IuVVO"
      },
      "execution_count": 47,
      "outputs": []
    },
    {
      "cell_type": "code",
      "source": [
        "tabular.core.make_date(dfTrainsLearn, 'trainId.trainDate')\n",
        "tabular.core.make_date(dfTrainsLearn, 'lastReportedPosition.positionTime')\n",
        "tabular.core.add_datepart(dfTrainsLearn, 'lastReportedPosition.positionTime')\n",
        "# tabular.core.add_elapsed_times(dfTrainsLearn, 'lastReportedPosition.positionTime')\n"
      ],
      "metadata": {
        "colab": {
          "base_uri": "https://localhost:8080/",
          "height": 487
        },
        "id": "DjTAxScsbHCN",
        "outputId": "5c2bd8c7-7c41-474d-a9fc-300beaa24b46"
      },
      "execution_count": 48,
      "outputs": [
        {
          "output_type": "execute_result",
          "data": {
            "text/plain": [
              "      ptcLeadLocomotiveId trainId.trainSCAC trainId.trainSection  \\\n",
              "0                 AMTK179                UP                        \n",
              "1                 AMTK179                UP                        \n",
              "2                 AMTK179                UP                        \n",
              "3                 AMTK186                UP                        \n",
              "4                 AMTK186                UP                        \n",
              "...                   ...               ...                  ...   \n",
              "33627              UP9101                UP                        \n",
              "33628              UP9101                UP                        \n",
              "33629              UP9101                UP                        \n",
              "33630              UP9101                UP                        \n",
              "33631              UP9101                UP                        \n",
              "\n",
              "      trainId.trainSymbol  ...  \\\n",
              "0                    AMT1  ...   \n",
              "1                    AMT1  ...   \n",
              "2                    AMT1  ...   \n",
              "3                    AMT1  ...   \n",
              "4                    AMT1  ...   \n",
              "...                   ...  ...   \n",
              "33627               MCHCB  ...   \n",
              "33628               MCHCB  ...   \n",
              "33629               MCHCB  ...   \n",
              "33630               MCHCB  ...   \n",
              "33631               MCHCB  ...   \n",
              "\n",
              "      lastReportedPosition.positionTimeIs_quarter_start  \\\n",
              "0                                                 False   \n",
              "1                                                 False   \n",
              "2                                                 False   \n",
              "3                                                 False   \n",
              "4                                                 False   \n",
              "...                                                 ...   \n",
              "33627                                             False   \n",
              "33628                                             False   \n",
              "33629                                             False   \n",
              "33630                                             False   \n",
              "33631                                             False   \n",
              "\n",
              "       lastReportedPosition.positionTimeIs_year_end  \\\n",
              "0                                             False   \n",
              "1                                             False   \n",
              "2                                             False   \n",
              "3                                             False   \n",
              "4                                             False   \n",
              "...                                             ...   \n",
              "33627                                         False   \n",
              "33628                                         False   \n",
              "33629                                         False   \n",
              "33630                                         False   \n",
              "33631                                         False   \n",
              "\n",
              "       lastReportedPosition.positionTimeIs_year_start  \\\n",
              "0                                               False   \n",
              "1                                               False   \n",
              "2                                               False   \n",
              "3                                               False   \n",
              "4                                               False   \n",
              "...                                               ...   \n",
              "33627                                           False   \n",
              "33628                                           False   \n",
              "33629                                           False   \n",
              "33630                                           False   \n",
              "33631                                           False   \n",
              "\n",
              "      lastReportedPosition.positionTimeElapsed  \n",
              "0                                 1.655761e+09  \n",
              "1                                 1.655761e+09  \n",
              "2                                 1.655761e+09  \n",
              "3                                 1.655938e+09  \n",
              "4                                 1.655938e+09  \n",
              "...                                        ...  \n",
              "33627                             1.655985e+09  \n",
              "33628                             1.655985e+09  \n",
              "33629                             1.655985e+09  \n",
              "33630                             1.655985e+09  \n",
              "33631                             1.655986e+09  \n",
              "\n",
              "[33632 rows x 47 columns]"
            ],
            "text/html": [
              "\n",
              "  <div id=\"df-b2d8e20e-a1bd-455e-b0c1-ed240cf15e3f\">\n",
              "    <div class=\"colab-df-container\">\n",
              "      <div>\n",
              "<style scoped>\n",
              "    .dataframe tbody tr th:only-of-type {\n",
              "        vertical-align: middle;\n",
              "    }\n",
              "\n",
              "    .dataframe tbody tr th {\n",
              "        vertical-align: top;\n",
              "    }\n",
              "\n",
              "    .dataframe thead th {\n",
              "        text-align: right;\n",
              "    }\n",
              "</style>\n",
              "<table border=\"1\" class=\"dataframe\">\n",
              "  <thead>\n",
              "    <tr style=\"text-align: right;\">\n",
              "      <th></th>\n",
              "      <th>ptcLeadLocomotiveId</th>\n",
              "      <th>trainId.trainSCAC</th>\n",
              "      <th>trainId.trainSection</th>\n",
              "      <th>trainId.trainSymbol</th>\n",
              "      <th>...</th>\n",
              "      <th>lastReportedPosition.positionTimeIs_quarter_start</th>\n",
              "      <th>lastReportedPosition.positionTimeIs_year_end</th>\n",
              "      <th>lastReportedPosition.positionTimeIs_year_start</th>\n",
              "      <th>lastReportedPosition.positionTimeElapsed</th>\n",
              "    </tr>\n",
              "  </thead>\n",
              "  <tbody>\n",
              "    <tr>\n",
              "      <th>0</th>\n",
              "      <td>AMTK179</td>\n",
              "      <td>UP</td>\n",
              "      <td></td>\n",
              "      <td>AMT1</td>\n",
              "      <td>...</td>\n",
              "      <td>False</td>\n",
              "      <td>False</td>\n",
              "      <td>False</td>\n",
              "      <td>1.655761e+09</td>\n",
              "    </tr>\n",
              "    <tr>\n",
              "      <th>1</th>\n",
              "      <td>AMTK179</td>\n",
              "      <td>UP</td>\n",
              "      <td></td>\n",
              "      <td>AMT1</td>\n",
              "      <td>...</td>\n",
              "      <td>False</td>\n",
              "      <td>False</td>\n",
              "      <td>False</td>\n",
              "      <td>1.655761e+09</td>\n",
              "    </tr>\n",
              "    <tr>\n",
              "      <th>2</th>\n",
              "      <td>AMTK179</td>\n",
              "      <td>UP</td>\n",
              "      <td></td>\n",
              "      <td>AMT1</td>\n",
              "      <td>...</td>\n",
              "      <td>False</td>\n",
              "      <td>False</td>\n",
              "      <td>False</td>\n",
              "      <td>1.655761e+09</td>\n",
              "    </tr>\n",
              "    <tr>\n",
              "      <th>3</th>\n",
              "      <td>AMTK186</td>\n",
              "      <td>UP</td>\n",
              "      <td></td>\n",
              "      <td>AMT1</td>\n",
              "      <td>...</td>\n",
              "      <td>False</td>\n",
              "      <td>False</td>\n",
              "      <td>False</td>\n",
              "      <td>1.655938e+09</td>\n",
              "    </tr>\n",
              "    <tr>\n",
              "      <th>4</th>\n",
              "      <td>AMTK186</td>\n",
              "      <td>UP</td>\n",
              "      <td></td>\n",
              "      <td>AMT1</td>\n",
              "      <td>...</td>\n",
              "      <td>False</td>\n",
              "      <td>False</td>\n",
              "      <td>False</td>\n",
              "      <td>1.655938e+09</td>\n",
              "    </tr>\n",
              "    <tr>\n",
              "      <th>...</th>\n",
              "      <td>...</td>\n",
              "      <td>...</td>\n",
              "      <td>...</td>\n",
              "      <td>...</td>\n",
              "      <td>...</td>\n",
              "      <td>...</td>\n",
              "      <td>...</td>\n",
              "      <td>...</td>\n",
              "      <td>...</td>\n",
              "    </tr>\n",
              "    <tr>\n",
              "      <th>33627</th>\n",
              "      <td>UP9101</td>\n",
              "      <td>UP</td>\n",
              "      <td></td>\n",
              "      <td>MCHCB</td>\n",
              "      <td>...</td>\n",
              "      <td>False</td>\n",
              "      <td>False</td>\n",
              "      <td>False</td>\n",
              "      <td>1.655985e+09</td>\n",
              "    </tr>\n",
              "    <tr>\n",
              "      <th>33628</th>\n",
              "      <td>UP9101</td>\n",
              "      <td>UP</td>\n",
              "      <td></td>\n",
              "      <td>MCHCB</td>\n",
              "      <td>...</td>\n",
              "      <td>False</td>\n",
              "      <td>False</td>\n",
              "      <td>False</td>\n",
              "      <td>1.655985e+09</td>\n",
              "    </tr>\n",
              "    <tr>\n",
              "      <th>33629</th>\n",
              "      <td>UP9101</td>\n",
              "      <td>UP</td>\n",
              "      <td></td>\n",
              "      <td>MCHCB</td>\n",
              "      <td>...</td>\n",
              "      <td>False</td>\n",
              "      <td>False</td>\n",
              "      <td>False</td>\n",
              "      <td>1.655985e+09</td>\n",
              "    </tr>\n",
              "    <tr>\n",
              "      <th>33630</th>\n",
              "      <td>UP9101</td>\n",
              "      <td>UP</td>\n",
              "      <td></td>\n",
              "      <td>MCHCB</td>\n",
              "      <td>...</td>\n",
              "      <td>False</td>\n",
              "      <td>False</td>\n",
              "      <td>False</td>\n",
              "      <td>1.655985e+09</td>\n",
              "    </tr>\n",
              "    <tr>\n",
              "      <th>33631</th>\n",
              "      <td>UP9101</td>\n",
              "      <td>UP</td>\n",
              "      <td></td>\n",
              "      <td>MCHCB</td>\n",
              "      <td>...</td>\n",
              "      <td>False</td>\n",
              "      <td>False</td>\n",
              "      <td>False</td>\n",
              "      <td>1.655986e+09</td>\n",
              "    </tr>\n",
              "  </tbody>\n",
              "</table>\n",
              "<p>33632 rows × 47 columns</p>\n",
              "</div>\n",
              "      <button class=\"colab-df-convert\" onclick=\"convertToInteractive('df-b2d8e20e-a1bd-455e-b0c1-ed240cf15e3f')\"\n",
              "              title=\"Convert this dataframe to an interactive table.\"\n",
              "              style=\"display:none;\">\n",
              "        \n",
              "  <svg xmlns=\"http://www.w3.org/2000/svg\" height=\"24px\"viewBox=\"0 0 24 24\"\n",
              "       width=\"24px\">\n",
              "    <path d=\"M0 0h24v24H0V0z\" fill=\"none\"/>\n",
              "    <path d=\"M18.56 5.44l.94 2.06.94-2.06 2.06-.94-2.06-.94-.94-2.06-.94 2.06-2.06.94zm-11 1L8.5 8.5l.94-2.06 2.06-.94-2.06-.94L8.5 2.5l-.94 2.06-2.06.94zm10 10l.94 2.06.94-2.06 2.06-.94-2.06-.94-.94-2.06-.94 2.06-2.06.94z\"/><path d=\"M17.41 7.96l-1.37-1.37c-.4-.4-.92-.59-1.43-.59-.52 0-1.04.2-1.43.59L10.3 9.45l-7.72 7.72c-.78.78-.78 2.05 0 2.83L4 21.41c.39.39.9.59 1.41.59.51 0 1.02-.2 1.41-.59l7.78-7.78 2.81-2.81c.8-.78.8-2.07 0-2.86zM5.41 20L4 18.59l7.72-7.72 1.47 1.35L5.41 20z\"/>\n",
              "  </svg>\n",
              "      </button>\n",
              "      \n",
              "  <style>\n",
              "    .colab-df-container {\n",
              "      display:flex;\n",
              "      flex-wrap:wrap;\n",
              "      gap: 12px;\n",
              "    }\n",
              "\n",
              "    .colab-df-convert {\n",
              "      background-color: #E8F0FE;\n",
              "      border: none;\n",
              "      border-radius: 50%;\n",
              "      cursor: pointer;\n",
              "      display: none;\n",
              "      fill: #1967D2;\n",
              "      height: 32px;\n",
              "      padding: 0 0 0 0;\n",
              "      width: 32px;\n",
              "    }\n",
              "\n",
              "    .colab-df-convert:hover {\n",
              "      background-color: #E2EBFA;\n",
              "      box-shadow: 0px 1px 2px rgba(60, 64, 67, 0.3), 0px 1px 3px 1px rgba(60, 64, 67, 0.15);\n",
              "      fill: #174EA6;\n",
              "    }\n",
              "\n",
              "    [theme=dark] .colab-df-convert {\n",
              "      background-color: #3B4455;\n",
              "      fill: #D2E3FC;\n",
              "    }\n",
              "\n",
              "    [theme=dark] .colab-df-convert:hover {\n",
              "      background-color: #434B5C;\n",
              "      box-shadow: 0px 1px 3px 1px rgba(0, 0, 0, 0.15);\n",
              "      filter: drop-shadow(0px 1px 2px rgba(0, 0, 0, 0.3));\n",
              "      fill: #FFFFFF;\n",
              "    }\n",
              "  </style>\n",
              "\n",
              "      <script>\n",
              "        const buttonEl =\n",
              "          document.querySelector('#df-b2d8e20e-a1bd-455e-b0c1-ed240cf15e3f button.colab-df-convert');\n",
              "        buttonEl.style.display =\n",
              "          google.colab.kernel.accessAllowed ? 'block' : 'none';\n",
              "\n",
              "        async function convertToInteractive(key) {\n",
              "          const element = document.querySelector('#df-b2d8e20e-a1bd-455e-b0c1-ed240cf15e3f');\n",
              "          const dataTable =\n",
              "            await google.colab.kernel.invokeFunction('convertToInteractive',\n",
              "                                                     [key], {});\n",
              "          if (!dataTable) return;\n",
              "\n",
              "          const docLinkHtml = 'Like what you see? Visit the ' +\n",
              "            '<a target=\"_blank\" href=https://colab.research.google.com/notebooks/data_table.ipynb>data table notebook</a>'\n",
              "            + ' to learn more about interactive tables.';\n",
              "          element.innerHTML = '';\n",
              "          dataTable['output_type'] = 'display_data';\n",
              "          await google.colab.output.renderOutput(dataTable, element);\n",
              "          const docLink = document.createElement('div');\n",
              "          docLink.innerHTML = docLinkHtml;\n",
              "          element.appendChild(docLink);\n",
              "        }\n",
              "      </script>\n",
              "    </div>\n",
              "  </div>\n",
              "  "
            ]
          },
          "metadata": {},
          "execution_count": 48
        }
      ]
    },
    {
      "cell_type": "code",
      "source": [
        "print(dfTrainsLearn.shape)\n",
        "print(dfTrainsLearnActuals.shape)\n",
        "\n",
        "print(dfTrainsLearn.info())\n",
        "print(dfTrainsLearn.iloc[100])"
      ],
      "metadata": {
        "colab": {
          "base_uri": "https://localhost:8080/"
        },
        "id": "jTVXPBSQ2gp3",
        "outputId": "f1addc87-439d-468c-f7a7-0582c87dd5af"
      },
      "execution_count": 49,
      "outputs": [
        {
          "output_type": "stream",
          "name": "stdout",
          "text": [
            "(33632, 47)\n",
            "(33632,)\n",
            "<class 'pandas.core.frame.DataFrame'>\n",
            "RangeIndex: 33632 entries, 0 to 33631\n",
            "Data columns (total 47 columns):\n",
            " #   Column                                                         Non-Null Count  Dtype         \n",
            "---  ------                                                         --------------  -----         \n",
            " 0   ptcLeadLocomotiveId                                            33632 non-null  object        \n",
            " 1   trainId.trainSCAC                                              33632 non-null  object        \n",
            " 2   trainId.trainSection                                           33632 non-null  object        \n",
            " 3   trainId.trainSymbol                                            33632 non-null  object        \n",
            " 4   trainId.trainDate                                              33632 non-null  datetime64[ns]\n",
            " 5   lastReportedPosition.speedMPH                                  33632 non-null  int64         \n",
            " 6   lastReportedPosition.milepostLocation.subdivisionId            33632 non-null  int64         \n",
            " 7   lastReportedPosition.milepostLocation.trackName                32491 non-null  category      \n",
            " 8   lastReportedPosition.milepostLocation.milepost.milepostNumber  33632 non-null  float64       \n",
            " 9   aotuTrainData.priorityCode                                     33632 non-null  float64       \n",
            " 10  aotuTrainData.categoryCode                                     33632 non-null  float64       \n",
            " 11  aotuTrainData.authorityRangeCode                               33632 non-null  float64       \n",
            " 12  aotuTrainData.ownershipCode                                    33632 non-null  float64       \n",
            " 13  aotuTrainData.totalCarWeight                                   33632 non-null  float64       \n",
            " 14  aotuTrainData.totalCarLength                                   33632 non-null  float64       \n",
            " 15  aotuTrainData.totalLocomotiveWeight                            33632 non-null  float64       \n",
            " 16  aotuTrainData.totalLocomotiveLength                            33632 non-null  float64       \n",
            " 17  aotuTrainData.actualTonsPerAxle                                33632 non-null  float64       \n",
            " 18  aotuTrainData.heavy143TonCarCount                              33632 non-null  float64       \n",
            " 19  aotuTrainData.heavy158TonCarCount                              33632 non-null  float64       \n",
            " 20  aotuTrainData.over158TonCarCount                               33632 non-null  float64       \n",
            " 21  aotuTrainData.highWideCarCount                                 33632 non-null  float64       \n",
            " 22  aotuTrainData.eventCode                                        33632 non-null  float64       \n",
            " 23  maximumTrainSpeed                                              33632 non-null  float64       \n",
            " 24  loadedCarCount                                                 33632 non-null  float64       \n",
            " 25  emptyCarCount                                                  33632 non-null  float64       \n",
            " 26  trainLength                                                    33632 non-null  float64       \n",
            " 27  trailingTonnage                                                33632 non-null  float64       \n",
            " 28  milepost                                                       33632 non-null  int64         \n",
            " 29  mpIncr                                                         33632 non-null  bool          \n",
            " 30  symbolType                                                     0 non-null      category      \n",
            " 31  workLocations                                                  29016 non-null  object        \n",
            " 32  locomotiveCount                                                33632 non-null  int64         \n",
            " 33  nextSpeed                                                      33632 non-null  int64         \n",
            " 34  lastReportedPosition.positionTimeYear                          33632 non-null  int64         \n",
            " 35  lastReportedPosition.positionTimeMonth                         33632 non-null  int64         \n",
            " 36  lastReportedPosition.positionTimeWeek                          33632 non-null  int64         \n",
            " 37  lastReportedPosition.positionTimeDay                           33632 non-null  int64         \n",
            " 38  lastReportedPosition.positionTimeDayofweek                     33632 non-null  int64         \n",
            " 39  lastReportedPosition.positionTimeDayofyear                     33632 non-null  int64         \n",
            " 40  lastReportedPosition.positionTimeIs_month_end                  33632 non-null  bool          \n",
            " 41  lastReportedPosition.positionTimeIs_month_start                33632 non-null  bool          \n",
            " 42  lastReportedPosition.positionTimeIs_quarter_end                33632 non-null  bool          \n",
            " 43  lastReportedPosition.positionTimeIs_quarter_start              33632 non-null  bool          \n",
            " 44  lastReportedPosition.positionTimeIs_year_end                   33632 non-null  bool          \n",
            " 45  lastReportedPosition.positionTimeIs_year_start                 33632 non-null  bool          \n",
            " 46  lastReportedPosition.positionTimeElapsed                       33632 non-null  float64       \n",
            "dtypes: bool(7), category(2), datetime64[ns](1), float64(21), int64(11), object(5)\n",
            "memory usage: 10.0+ MB\n",
            "None\n",
            "ptcLeadLocomotiveId                                             BNSF5082\n",
            "trainId.trainSCAC                                                     UP\n",
            "trainId.trainSection                                                    \n",
            "trainId.trainSymbol                                               QIJDYJ\n",
            "trainId.trainDate                                    2022-06-20 00:00:00\n",
            "                                                            ...         \n",
            "lastReportedPosition.positionTimeIs_quarter_end                    False\n",
            "lastReportedPosition.positionTimeIs_quarter_start                  False\n",
            "lastReportedPosition.positionTimeIs_year_end                       False\n",
            "lastReportedPosition.positionTimeIs_year_start                     False\n",
            "lastReportedPosition.positionTimeElapsed                    1655849001.0\n",
            "Name: 100, Length: 47, dtype: object\n"
          ]
        }
      ]
    },
    {
      "cell_type": "markdown",
      "source": [
        "# Use Decision Tree to predict speed in 1 mile"
      ],
      "metadata": {
        "id": "mg1p1vouBeIB"
      }
    },
    {
      "cell_type": "code",
      "source": [
        "procs = [tabular.core.Categorify, tabular.core.FillMissing]"
      ],
      "metadata": {
        "id": "F9TApkZWbAbz"
      },
      "execution_count": 50,
      "outputs": []
    },
    {
      "cell_type": "code",
      "source": [
        "print (dfTrainsLearn.groupby(['lastReportedPosition.positionTimeDayofyear'])['lastReportedPosition.positionTimeDayofyear'].count())\n"
      ],
      "metadata": {
        "colab": {
          "base_uri": "https://localhost:8080/"
        },
        "id": "gDgYzofcvcpM",
        "outputId": "2a253a47-1058-44d9-c91b-2a84ef6d3f59"
      },
      "execution_count": 51,
      "outputs": [
        {
          "output_type": "stream",
          "name": "stdout",
          "text": [
            "lastReportedPosition.positionTimeDayofyear\n",
            "171    4171\n",
            "172    4497\n",
            "173    4401\n",
            "174    5555\n",
            "175    4999\n",
            "176    4597\n",
            "177    4867\n",
            "178     545\n",
            "Name: lastReportedPosition.positionTimeDayofyear, dtype: int64\n"
          ]
        }
      ]
    },
    {
      "cell_type": "code",
      "source": [
        "cond = ( dfTrainsLearn['lastReportedPosition.positionTimeDayofyear'] < 176 )\n",
        "trainIdx = np.where(cond)[0]\n",
        "validIdx = np.where(~cond)[0]\n",
        "splits = (list(trainIdx), list(validIdx))"
      ],
      "metadata": {
        "id": "nIURJVe5vc_n"
      },
      "execution_count": 52,
      "outputs": []
    },
    {
      "cell_type": "code",
      "source": [
        "dep_var = 'nextSpeed'"
      ],
      "metadata": {
        "id": "rPW42wgnOLO_"
      },
      "execution_count": 53,
      "outputs": []
    },
    {
      "cell_type": "code",
      "source": [
        "cont,cat = tabular.core.cont_cat_split(dfTrainsLearn, 1, dep_var=dep_var)"
      ],
      "metadata": {
        "id": "gHDAeThzyzc6"
      },
      "execution_count": 54,
      "outputs": []
    },
    {
      "cell_type": "code",
      "source": [
        "to = tabular.core.TabularPandas(dfTrainsLearn, procs, cat, cont, y_names=dep_var, splits=splits)"
      ],
      "metadata": {
        "id": "xz1ZonvnO-I7"
      },
      "execution_count": 55,
      "outputs": []
    },
    {
      "cell_type": "code",
      "source": [
        "len(to.train),len(to.valid)"
      ],
      "metadata": {
        "colab": {
          "base_uri": "https://localhost:8080/"
        },
        "id": "0DJly6_Z94uI",
        "outputId": "d9830148-11cb-4da8-a1f1-fe7dfe202778"
      },
      "execution_count": 56,
      "outputs": [
        {
          "output_type": "execute_result",
          "data": {
            "text/plain": [
              "(23623, 10009)"
            ]
          },
          "metadata": {},
          "execution_count": 56
        }
      ]
    },
    {
      "cell_type": "code",
      "source": [
        "to.show()"
      ],
      "metadata": {
        "colab": {
          "base_uri": "https://localhost:8080/",
          "height": 383
        },
        "id": "xoEQAME4-n0M",
        "outputId": "38178cfa-fe85-4f59-8e8a-d3448e2058ea"
      },
      "execution_count": 57,
      "outputs": [
        {
          "output_type": "display_data",
          "data": {
            "text/plain": [
              "<IPython.core.display.HTML object>"
            ],
            "text/html": [
              "<table border=\"1\" class=\"dataframe\">\n",
              "  <thead>\n",
              "    <tr style=\"text-align: right;\">\n",
              "      <th></th>\n",
              "      <th>ptcLeadLocomotiveId</th>\n",
              "      <th>trainId.trainSCAC</th>\n",
              "      <th>trainId.trainSection</th>\n",
              "      <th>trainId.trainSymbol</th>\n",
              "      <th>trainId.trainDate</th>\n",
              "      <th>lastReportedPosition.milepostLocation.subdivisionId</th>\n",
              "      <th>lastReportedPosition.milepostLocation.trackName</th>\n",
              "      <th>mpIncr</th>\n",
              "      <th>symbolType</th>\n",
              "      <th>workLocations</th>\n",
              "      <th>lastReportedPosition.positionTimeYear</th>\n",
              "      <th>lastReportedPosition.positionTimeMonth</th>\n",
              "      <th>lastReportedPosition.positionTimeIs_month_end</th>\n",
              "      <th>lastReportedPosition.positionTimeIs_month_start</th>\n",
              "      <th>lastReportedPosition.positionTimeIs_quarter_end</th>\n",
              "      <th>lastReportedPosition.positionTimeIs_quarter_start</th>\n",
              "      <th>lastReportedPosition.positionTimeIs_year_end</th>\n",
              "      <th>lastReportedPosition.positionTimeIs_year_start</th>\n",
              "      <th>lastReportedPosition.speedMPH</th>\n",
              "      <th>lastReportedPosition.milepostLocation.milepost.milepostNumber</th>\n",
              "      <th>aotuTrainData.priorityCode</th>\n",
              "      <th>aotuTrainData.categoryCode</th>\n",
              "      <th>aotuTrainData.authorityRangeCode</th>\n",
              "      <th>aotuTrainData.ownershipCode</th>\n",
              "      <th>aotuTrainData.totalCarWeight</th>\n",
              "      <th>aotuTrainData.totalCarLength</th>\n",
              "      <th>aotuTrainData.totalLocomotiveWeight</th>\n",
              "      <th>aotuTrainData.totalLocomotiveLength</th>\n",
              "      <th>aotuTrainData.actualTonsPerAxle</th>\n",
              "      <th>aotuTrainData.heavy143TonCarCount</th>\n",
              "      <th>aotuTrainData.heavy158TonCarCount</th>\n",
              "      <th>aotuTrainData.over158TonCarCount</th>\n",
              "      <th>aotuTrainData.highWideCarCount</th>\n",
              "      <th>aotuTrainData.eventCode</th>\n",
              "      <th>maximumTrainSpeed</th>\n",
              "      <th>loadedCarCount</th>\n",
              "      <th>emptyCarCount</th>\n",
              "      <th>trainLength</th>\n",
              "      <th>trailingTonnage</th>\n",
              "      <th>milepost</th>\n",
              "      <th>locomotiveCount</th>\n",
              "      <th>lastReportedPosition.positionTimeWeek</th>\n",
              "      <th>lastReportedPosition.positionTimeDay</th>\n",
              "      <th>lastReportedPosition.positionTimeDayofweek</th>\n",
              "      <th>lastReportedPosition.positionTimeDayofyear</th>\n",
              "      <th>lastReportedPosition.positionTimeElapsed</th>\n",
              "      <th>nextSpeed</th>\n",
              "    </tr>\n",
              "  </thead>\n",
              "  <tbody>\n",
              "    <tr>\n",
              "      <th>0</th>\n",
              "      <td>AMTK179</td>\n",
              "      <td>UP</td>\n",
              "      <td></td>\n",
              "      <td>AMT1</td>\n",
              "      <td>2022-06-19</td>\n",
              "      <td>106</td>\n",
              "      <td>TO_S_UP_MAINLINE</td>\n",
              "      <td>True</td>\n",
              "      <td>#na#</td>\n",
              "      <td>#na#</td>\n",
              "      <td>2022</td>\n",
              "      <td>6</td>\n",
              "      <td>False</td>\n",
              "      <td>False</td>\n",
              "      <td>False</td>\n",
              "      <td>False</td>\n",
              "      <td>False</td>\n",
              "      <td>False</td>\n",
              "      <td>9</td>\n",
              "      <td>764.869629</td>\n",
              "      <td>1.0</td>\n",
              "      <td>14.0</td>\n",
              "      <td>2.0</td>\n",
              "      <td>3.0</td>\n",
              "      <td>9820000.0</td>\n",
              "      <td>61200.0</td>\n",
              "      <td>5360000.0</td>\n",
              "      <td>16560.0</td>\n",
              "      <td>65535.0</td>\n",
              "      <td>0.0</td>\n",
              "      <td>0.0</td>\n",
              "      <td>0.0</td>\n",
              "      <td>0.0</td>\n",
              "      <td>0.0</td>\n",
              "      <td>88.0</td>\n",
              "      <td>999.0</td>\n",
              "      <td>999.0</td>\n",
              "      <td>99999.0</td>\n",
              "      <td>99999.0</td>\n",
              "      <td>764</td>\n",
              "      <td>0</td>\n",
              "      <td>25</td>\n",
              "      <td>20</td>\n",
              "      <td>0</td>\n",
              "      <td>171</td>\n",
              "      <td>1.655761e+09</td>\n",
              "      <td>9</td>\n",
              "    </tr>\n",
              "    <tr>\n",
              "      <th>1</th>\n",
              "      <td>AMTK179</td>\n",
              "      <td>UP</td>\n",
              "      <td></td>\n",
              "      <td>AMT1</td>\n",
              "      <td>2022-06-19</td>\n",
              "      <td>106</td>\n",
              "      <td>MAIN</td>\n",
              "      <td>True</td>\n",
              "      <td>#na#</td>\n",
              "      <td>#na#</td>\n",
              "      <td>2022</td>\n",
              "      <td>6</td>\n",
              "      <td>False</td>\n",
              "      <td>False</td>\n",
              "      <td>False</td>\n",
              "      <td>False</td>\n",
              "      <td>False</td>\n",
              "      <td>False</td>\n",
              "      <td>10</td>\n",
              "      <td>764.986572</td>\n",
              "      <td>1.0</td>\n",
              "      <td>14.0</td>\n",
              "      <td>2.0</td>\n",
              "      <td>3.0</td>\n",
              "      <td>4460000.0</td>\n",
              "      <td>61200.0</td>\n",
              "      <td>5360000.0</td>\n",
              "      <td>16560.0</td>\n",
              "      <td>65535.0</td>\n",
              "      <td>0.0</td>\n",
              "      <td>0.0</td>\n",
              "      <td>0.0</td>\n",
              "      <td>0.0</td>\n",
              "      <td>0.0</td>\n",
              "      <td>88.0</td>\n",
              "      <td>999.0</td>\n",
              "      <td>999.0</td>\n",
              "      <td>99999.0</td>\n",
              "      <td>99999.0</td>\n",
              "      <td>764</td>\n",
              "      <td>0</td>\n",
              "      <td>25</td>\n",
              "      <td>20</td>\n",
              "      <td>0</td>\n",
              "      <td>171</td>\n",
              "      <td>1.655761e+09</td>\n",
              "      <td>4</td>\n",
              "    </tr>\n",
              "    <tr>\n",
              "      <th>2</th>\n",
              "      <td>AMTK179</td>\n",
              "      <td>UP</td>\n",
              "      <td></td>\n",
              "      <td>AMT1</td>\n",
              "      <td>2022-06-19</td>\n",
              "      <td>106</td>\n",
              "      <td>MAIN</td>\n",
              "      <td>True</td>\n",
              "      <td>#na#</td>\n",
              "      <td>#na#</td>\n",
              "      <td>2022</td>\n",
              "      <td>6</td>\n",
              "      <td>False</td>\n",
              "      <td>False</td>\n",
              "      <td>False</td>\n",
              "      <td>False</td>\n",
              "      <td>False</td>\n",
              "      <td>False</td>\n",
              "      <td>10</td>\n",
              "      <td>764.994873</td>\n",
              "      <td>1.0</td>\n",
              "      <td>14.0</td>\n",
              "      <td>2.0</td>\n",
              "      <td>3.0</td>\n",
              "      <td>4460000.0</td>\n",
              "      <td>61200.0</td>\n",
              "      <td>5360000.0</td>\n",
              "      <td>16560.0</td>\n",
              "      <td>65535.0</td>\n",
              "      <td>0.0</td>\n",
              "      <td>0.0</td>\n",
              "      <td>0.0</td>\n",
              "      <td>0.0</td>\n",
              "      <td>0.0</td>\n",
              "      <td>88.0</td>\n",
              "      <td>999.0</td>\n",
              "      <td>999.0</td>\n",
              "      <td>99999.0</td>\n",
              "      <td>99999.0</td>\n",
              "      <td>764</td>\n",
              "      <td>0</td>\n",
              "      <td>25</td>\n",
              "      <td>20</td>\n",
              "      <td>0</td>\n",
              "      <td>171</td>\n",
              "      <td>1.655761e+09</td>\n",
              "      <td>4</td>\n",
              "    </tr>\n",
              "    <tr>\n",
              "      <th>3</th>\n",
              "      <td>AMTK186</td>\n",
              "      <td>UP</td>\n",
              "      <td></td>\n",
              "      <td>AMT1</td>\n",
              "      <td>2022-06-21</td>\n",
              "      <td>106</td>\n",
              "      <td>TO_S_UP_MAINLINE</td>\n",
              "      <td>True</td>\n",
              "      <td>#na#</td>\n",
              "      <td>#na#</td>\n",
              "      <td>2022</td>\n",
              "      <td>6</td>\n",
              "      <td>False</td>\n",
              "      <td>False</td>\n",
              "      <td>False</td>\n",
              "      <td>False</td>\n",
              "      <td>False</td>\n",
              "      <td>False</td>\n",
              "      <td>8</td>\n",
              "      <td>764.869080</td>\n",
              "      <td>1.0</td>\n",
              "      <td>14.0</td>\n",
              "      <td>2.0</td>\n",
              "      <td>3.0</td>\n",
              "      <td>7140000.0</td>\n",
              "      <td>61200.0</td>\n",
              "      <td>5360000.0</td>\n",
              "      <td>16560.0</td>\n",
              "      <td>65535.0</td>\n",
              "      <td>0.0</td>\n",
              "      <td>0.0</td>\n",
              "      <td>0.0</td>\n",
              "      <td>0.0</td>\n",
              "      <td>0.0</td>\n",
              "      <td>88.0</td>\n",
              "      <td>999.0</td>\n",
              "      <td>999.0</td>\n",
              "      <td>99999.0</td>\n",
              "      <td>99999.0</td>\n",
              "      <td>764</td>\n",
              "      <td>0</td>\n",
              "      <td>25</td>\n",
              "      <td>22</td>\n",
              "      <td>2</td>\n",
              "      <td>173</td>\n",
              "      <td>1.655938e+09</td>\n",
              "      <td>9</td>\n",
              "    </tr>\n",
              "    <tr>\n",
              "      <th>4</th>\n",
              "      <td>AMTK186</td>\n",
              "      <td>UP</td>\n",
              "      <td></td>\n",
              "      <td>AMT1</td>\n",
              "      <td>2022-06-21</td>\n",
              "      <td>106</td>\n",
              "      <td>MAIN</td>\n",
              "      <td>True</td>\n",
              "      <td>#na#</td>\n",
              "      <td>#na#</td>\n",
              "      <td>2022</td>\n",
              "      <td>6</td>\n",
              "      <td>False</td>\n",
              "      <td>False</td>\n",
              "      <td>False</td>\n",
              "      <td>False</td>\n",
              "      <td>False</td>\n",
              "      <td>False</td>\n",
              "      <td>10</td>\n",
              "      <td>764.987610</td>\n",
              "      <td>1.0</td>\n",
              "      <td>14.0</td>\n",
              "      <td>2.0</td>\n",
              "      <td>3.0</td>\n",
              "      <td>7140000.0</td>\n",
              "      <td>61200.0</td>\n",
              "      <td>5360000.0</td>\n",
              "      <td>16560.0</td>\n",
              "      <td>65535.0</td>\n",
              "      <td>0.0</td>\n",
              "      <td>0.0</td>\n",
              "      <td>0.0</td>\n",
              "      <td>0.0</td>\n",
              "      <td>0.0</td>\n",
              "      <td>88.0</td>\n",
              "      <td>999.0</td>\n",
              "      <td>999.0</td>\n",
              "      <td>99999.0</td>\n",
              "      <td>99999.0</td>\n",
              "      <td>764</td>\n",
              "      <td>0</td>\n",
              "      <td>25</td>\n",
              "      <td>22</td>\n",
              "      <td>2</td>\n",
              "      <td>173</td>\n",
              "      <td>1.655938e+09</td>\n",
              "      <td>6</td>\n",
              "    </tr>\n",
              "    <tr>\n",
              "      <th>5</th>\n",
              "      <td>AMTK186</td>\n",
              "      <td>UP</td>\n",
              "      <td></td>\n",
              "      <td>AMT1</td>\n",
              "      <td>2022-06-21</td>\n",
              "      <td>106</td>\n",
              "      <td>MAIN</td>\n",
              "      <td>True</td>\n",
              "      <td>#na#</td>\n",
              "      <td>#na#</td>\n",
              "      <td>2022</td>\n",
              "      <td>6</td>\n",
              "      <td>False</td>\n",
              "      <td>False</td>\n",
              "      <td>False</td>\n",
              "      <td>False</td>\n",
              "      <td>False</td>\n",
              "      <td>False</td>\n",
              "      <td>10</td>\n",
              "      <td>764.996582</td>\n",
              "      <td>1.0</td>\n",
              "      <td>14.0</td>\n",
              "      <td>2.0</td>\n",
              "      <td>3.0</td>\n",
              "      <td>7140000.0</td>\n",
              "      <td>61200.0</td>\n",
              "      <td>5360000.0</td>\n",
              "      <td>16560.0</td>\n",
              "      <td>65535.0</td>\n",
              "      <td>0.0</td>\n",
              "      <td>0.0</td>\n",
              "      <td>0.0</td>\n",
              "      <td>0.0</td>\n",
              "      <td>0.0</td>\n",
              "      <td>88.0</td>\n",
              "      <td>999.0</td>\n",
              "      <td>999.0</td>\n",
              "      <td>99999.0</td>\n",
              "      <td>99999.0</td>\n",
              "      <td>764</td>\n",
              "      <td>0</td>\n",
              "      <td>25</td>\n",
              "      <td>22</td>\n",
              "      <td>2</td>\n",
              "      <td>173</td>\n",
              "      <td>1.655938e+09</td>\n",
              "      <td>6</td>\n",
              "    </tr>\n",
              "    <tr>\n",
              "      <th>6</th>\n",
              "      <td>AMTK186</td>\n",
              "      <td>UP</td>\n",
              "      <td></td>\n",
              "      <td>AMT1</td>\n",
              "      <td>2022-06-21</td>\n",
              "      <td>106</td>\n",
              "      <td>MAIN</td>\n",
              "      <td>True</td>\n",
              "      <td>#na#</td>\n",
              "      <td>#na#</td>\n",
              "      <td>2022</td>\n",
              "      <td>6</td>\n",
              "      <td>False</td>\n",
              "      <td>False</td>\n",
              "      <td>False</td>\n",
              "      <td>False</td>\n",
              "      <td>False</td>\n",
              "      <td>False</td>\n",
              "      <td>18</td>\n",
              "      <td>765.940796</td>\n",
              "      <td>1.0</td>\n",
              "      <td>14.0</td>\n",
              "      <td>2.0</td>\n",
              "      <td>3.0</td>\n",
              "      <td>7140000.0</td>\n",
              "      <td>61200.0</td>\n",
              "      <td>5360000.0</td>\n",
              "      <td>16560.0</td>\n",
              "      <td>65535.0</td>\n",
              "      <td>0.0</td>\n",
              "      <td>0.0</td>\n",
              "      <td>0.0</td>\n",
              "      <td>0.0</td>\n",
              "      <td>0.0</td>\n",
              "      <td>88.0</td>\n",
              "      <td>999.0</td>\n",
              "      <td>999.0</td>\n",
              "      <td>99999.0</td>\n",
              "      <td>99999.0</td>\n",
              "      <td>765</td>\n",
              "      <td>0</td>\n",
              "      <td>25</td>\n",
              "      <td>22</td>\n",
              "      <td>2</td>\n",
              "      <td>173</td>\n",
              "      <td>1.655938e+09</td>\n",
              "      <td>18</td>\n",
              "    </tr>\n",
              "    <tr>\n",
              "      <th>7</th>\n",
              "      <td>AMTK186</td>\n",
              "      <td>UP</td>\n",
              "      <td></td>\n",
              "      <td>AMT1</td>\n",
              "      <td>2022-06-21</td>\n",
              "      <td>106</td>\n",
              "      <td>TO_N_EAST MAIN</td>\n",
              "      <td>True</td>\n",
              "      <td>#na#</td>\n",
              "      <td>#na#</td>\n",
              "      <td>2022</td>\n",
              "      <td>6</td>\n",
              "      <td>False</td>\n",
              "      <td>False</td>\n",
              "      <td>False</td>\n",
              "      <td>False</td>\n",
              "      <td>False</td>\n",
              "      <td>False</td>\n",
              "      <td>19</td>\n",
              "      <td>766.128174</td>\n",
              "      <td>1.0</td>\n",
              "      <td>14.0</td>\n",
              "      <td>2.0</td>\n",
              "      <td>3.0</td>\n",
              "      <td>7140000.0</td>\n",
              "      <td>61200.0</td>\n",
              "      <td>5360000.0</td>\n",
              "      <td>16560.0</td>\n",
              "      <td>65535.0</td>\n",
              "      <td>0.0</td>\n",
              "      <td>0.0</td>\n",
              "      <td>0.0</td>\n",
              "      <td>0.0</td>\n",
              "      <td>0.0</td>\n",
              "      <td>88.0</td>\n",
              "      <td>999.0</td>\n",
              "      <td>999.0</td>\n",
              "      <td>99999.0</td>\n",
              "      <td>99999.0</td>\n",
              "      <td>766</td>\n",
              "      <td>0</td>\n",
              "      <td>25</td>\n",
              "      <td>22</td>\n",
              "      <td>2</td>\n",
              "      <td>173</td>\n",
              "      <td>1.655938e+09</td>\n",
              "      <td>19</td>\n",
              "    </tr>\n",
              "    <tr>\n",
              "      <th>8</th>\n",
              "      <td>AMTK186</td>\n",
              "      <td>UP</td>\n",
              "      <td></td>\n",
              "      <td>AMT2</td>\n",
              "      <td>2022-06-19</td>\n",
              "      <td>106</td>\n",
              "      <td>WEST MAIN</td>\n",
              "      <td>False</td>\n",
              "      <td>#na#</td>\n",
              "      <td>#na#</td>\n",
              "      <td>2022</td>\n",
              "      <td>6</td>\n",
              "      <td>False</td>\n",
              "      <td>False</td>\n",
              "      <td>False</td>\n",
              "      <td>False</td>\n",
              "      <td>False</td>\n",
              "      <td>False</td>\n",
              "      <td>18</td>\n",
              "      <td>766.930176</td>\n",
              "      <td>1.0</td>\n",
              "      <td>14.0</td>\n",
              "      <td>2.0</td>\n",
              "      <td>3.0</td>\n",
              "      <td>9820000.0</td>\n",
              "      <td>77760.0</td>\n",
              "      <td>5360000.0</td>\n",
              "      <td>16560.0</td>\n",
              "      <td>65535.0</td>\n",
              "      <td>0.0</td>\n",
              "      <td>0.0</td>\n",
              "      <td>0.0</td>\n",
              "      <td>0.0</td>\n",
              "      <td>0.0</td>\n",
              "      <td>88.0</td>\n",
              "      <td>999.0</td>\n",
              "      <td>999.0</td>\n",
              "      <td>99999.0</td>\n",
              "      <td>99999.0</td>\n",
              "      <td>766</td>\n",
              "      <td>0</td>\n",
              "      <td>25</td>\n",
              "      <td>22</td>\n",
              "      <td>2</td>\n",
              "      <td>173</td>\n",
              "      <td>1.655857e+09</td>\n",
              "      <td>-8</td>\n",
              "    </tr>\n",
              "    <tr>\n",
              "      <th>9</th>\n",
              "      <td>AMTK186</td>\n",
              "      <td>UP</td>\n",
              "      <td></td>\n",
              "      <td>AMT2</td>\n",
              "      <td>2022-06-19</td>\n",
              "      <td>106</td>\n",
              "      <td>WEST MAIN</td>\n",
              "      <td>False</td>\n",
              "      <td>#na#</td>\n",
              "      <td>#na#</td>\n",
              "      <td>2022</td>\n",
              "      <td>6</td>\n",
              "      <td>False</td>\n",
              "      <td>False</td>\n",
              "      <td>False</td>\n",
              "      <td>False</td>\n",
              "      <td>False</td>\n",
              "      <td>False</td>\n",
              "      <td>19</td>\n",
              "      <td>766.797607</td>\n",
              "      <td>1.0</td>\n",
              "      <td>14.0</td>\n",
              "      <td>2.0</td>\n",
              "      <td>3.0</td>\n",
              "      <td>9820000.0</td>\n",
              "      <td>77760.0</td>\n",
              "      <td>5360000.0</td>\n",
              "      <td>16560.0</td>\n",
              "      <td>65535.0</td>\n",
              "      <td>0.0</td>\n",
              "      <td>0.0</td>\n",
              "      <td>0.0</td>\n",
              "      <td>0.0</td>\n",
              "      <td>0.0</td>\n",
              "      <td>88.0</td>\n",
              "      <td>999.0</td>\n",
              "      <td>999.0</td>\n",
              "      <td>99999.0</td>\n",
              "      <td>99999.0</td>\n",
              "      <td>766</td>\n",
              "      <td>0</td>\n",
              "      <td>25</td>\n",
              "      <td>22</td>\n",
              "      <td>2</td>\n",
              "      <td>173</td>\n",
              "      <td>1.655857e+09</td>\n",
              "      <td>-1</td>\n",
              "    </tr>\n",
              "  </tbody>\n",
              "</table>"
            ]
          },
          "metadata": {}
        }
      ]
    },
    {
      "cell_type": "code",
      "source": [
        "fastai.save_pickle('/tmp/to.pkl',to)"
      ],
      "metadata": {
        "id": "r-D5hdO3-ypC"
      },
      "execution_count": 58,
      "outputs": []
    },
    {
      "cell_type": "markdown",
      "source": [
        "# Creating the Decision Tree"
      ],
      "metadata": {
        "id": "knWgCrX_A0Ep"
      }
    },
    {
      "cell_type": "code",
      "source": [
        "to = fastai.load_pickle('/tmp/to.pkl')"
      ],
      "metadata": {
        "id": "rtc_YDw0ArMR"
      },
      "execution_count": 59,
      "outputs": []
    },
    {
      "cell_type": "code",
      "source": [
        "xs,y = to.train.xs,to.train.y\n",
        "valid_xs,valid_y = to.valid.xs,to.valid.y"
      ],
      "metadata": {
        "id": "CcGx27DMBMbc"
      },
      "execution_count": 60,
      "outputs": []
    },
    {
      "cell_type": "code",
      "source": [
        "m = DecisionTreeRegressor(max_leaf_nodes=16)\n",
        "m.fit(xs, y);"
      ],
      "metadata": {
        "id": "clTcBmpGBXv6"
      },
      "execution_count": 61,
      "outputs": []
    },
    {
      "cell_type": "code",
      "source": [
        "fastai.draw_tree(m, xs, size=20, leaves_parallel=True, precision=2)"
      ],
      "metadata": {
        "colab": {
          "base_uri": "https://localhost:8080/",
          "height": 1000
        },
        "id": "nhXNnHk7CSmF",
        "outputId": "aee911de-13ff-45e3-9fba-6c410137f921"
      },
      "execution_count": 62,
      "outputs": [
        {
          "output_type": "execute_result",
          "data": {
            "text/plain": [
              "<graphviz.files.Source at 0x7fd3b58ed290>"
            ],
            "image/svg+xml": "<?xml version=\"1.0\" encoding=\"UTF-8\" standalone=\"no\"?>\n<!DOCTYPE svg PUBLIC \"-//W3C//DTD SVG 1.1//EN\"\n \"http://www.w3.org/Graphics/SVG/1.1/DTD/svg11.dtd\">\n<!-- Generated by graphviz version 2.40.1 (20161225.0304)\n -->\n<!-- Title: Tree Pages: 1 -->\n<svg width=\"1440pt\" height=\"866pt\"\n viewBox=\"0.00 0.00 1440.00 866.05\" xmlns=\"http://www.w3.org/2000/svg\" xmlns:xlink=\"http://www.w3.org/1999/xlink\">\n<g id=\"graph0\" class=\"graph\" transform=\"scale(.4898 .4898) rotate(0) translate(4 1764.1861)\">\n<title>Tree</title>\n<polygon fill=\"#ffffff\" stroke=\"transparent\" points=\"-4,4 -4,-1764.1861 2936,-1764.1861 2936,4 -4,4\"/>\n<!-- 0 -->\n<g id=\"node1\" class=\"node\">\n<title>0</title>\n<path fill=\"#f3c7a6\" stroke=\"#000000\" d=\"M761,-1727C761,-1727 514,-1727 514,-1727 508,-1727 502,-1721 502,-1715 502,-1715 502,-1671 502,-1671 502,-1665 508,-1659 514,-1659 514,-1659 761,-1659 761,-1659 767,-1659 773,-1665 773,-1671 773,-1671 773,-1715 773,-1715 773,-1721 767,-1727 761,-1727\"/>\n<text text-anchor=\"start\" x=\"510\" y=\"-1711.8\" font-family=\"Helvetica,sans-Serif\" font-size=\"14.00\" fill=\"#000000\">lastReportedPosition.speedMPH ≤ 20.5</text>\n<text text-anchor=\"start\" x=\"561\" y=\"-1696.8\" font-family=\"Helvetica,sans-Serif\" font-size=\"14.00\" fill=\"#000000\">squared_error = 418.75</text>\n<text text-anchor=\"start\" x=\"581.5\" y=\"-1681.8\" font-family=\"Helvetica,sans-Serif\" font-size=\"14.00\" fill=\"#000000\">samples = 23623</text>\n<text text-anchor=\"start\" x=\"591\" y=\"-1666.8\" font-family=\"Helvetica,sans-Serif\" font-size=\"14.00\" fill=\"#000000\">value = &#45;17.92</text>\n</g>\n<!-- 1 -->\n<g id=\"node2\" class=\"node\">\n<title>1</title>\n<path fill=\"#e99355\" stroke=\"#000000\" d=\"M570,-1522C570,-1522 331,-1522 331,-1522 325,-1522 319,-1516 319,-1510 319,-1510 319,-1466 319,-1466 319,-1460 325,-1454 331,-1454 331,-1454 570,-1454 570,-1454 576,-1454 582,-1460 582,-1466 582,-1466 582,-1510 582,-1510 582,-1516 576,-1522 570,-1522\"/>\n<text text-anchor=\"start\" x=\"327\" y=\"-1506.8\" font-family=\"Helvetica,sans-Serif\" font-size=\"14.00\" fill=\"#000000\">lastReportedPosition.speedMPH ≤ 7.5</text>\n<text text-anchor=\"start\" x=\"374\" y=\"-1491.8\" font-family=\"Helvetica,sans-Serif\" font-size=\"14.00\" fill=\"#000000\">squared_error = 128.38</text>\n<text text-anchor=\"start\" x=\"398.5\" y=\"-1476.8\" font-family=\"Helvetica,sans-Serif\" font-size=\"14.00\" fill=\"#000000\">samples = 6977</text>\n<text text-anchor=\"start\" x=\"414.5\" y=\"-1461.8\" font-family=\"Helvetica,sans-Serif\" font-size=\"14.00\" fill=\"#000000\">value = 4.5</text>\n</g>\n<!-- 0&#45;&gt;1 -->\n<g id=\"edge1\" class=\"edge\">\n<title>0&#45;&gt;1</title>\n<path fill=\"none\" stroke=\"#000000\" d=\"M606.2004,-1658.6876C573.8765,-1623.2523 523.4012,-1567.9184 488.7352,-1529.9155\"/>\n<polygon fill=\"#000000\" stroke=\"#000000\" points=\"490.9151,-1527.1118 481.59,-1522.0826 485.7435,-1531.8294 490.9151,-1527.1118\"/>\n<text text-anchor=\"middle\" x=\"480.4432\" y=\"-1543.3563\" font-family=\"Helvetica,sans-Serif\" font-size=\"14.00\" fill=\"#000000\">True</text>\n</g>\n<!-- 2 -->\n<g id=\"node7\" class=\"node\">\n<title>2</title>\n<path fill=\"#f8dcc8\" stroke=\"#000000\" d=\"M1035,-1522C1035,-1522 788,-1522 788,-1522 782,-1522 776,-1516 776,-1510 776,-1510 776,-1466 776,-1466 776,-1460 782,-1454 788,-1454 788,-1454 1035,-1454 1035,-1454 1041,-1454 1047,-1460 1047,-1466 1047,-1466 1047,-1510 1047,-1510 1047,-1516 1041,-1522 1035,-1522\"/>\n<text text-anchor=\"start\" x=\"784\" y=\"-1506.8\" font-family=\"Helvetica,sans-Serif\" font-size=\"14.00\" fill=\"#000000\">lastReportedPosition.speedMPH ≤ 40.5</text>\n<text text-anchor=\"start\" x=\"835\" y=\"-1491.8\" font-family=\"Helvetica,sans-Serif\" font-size=\"14.00\" fill=\"#000000\">squared_error = 241.43</text>\n<text text-anchor=\"start\" x=\"855.5\" y=\"-1476.8\" font-family=\"Helvetica,sans-Serif\" font-size=\"14.00\" fill=\"#000000\">samples = 16646</text>\n<text text-anchor=\"start\" x=\"865\" y=\"-1461.8\" font-family=\"Helvetica,sans-Serif\" font-size=\"14.00\" fill=\"#000000\">value = &#45;27.32</text>\n</g>\n<!-- 0&#45;&gt;2 -->\n<g id=\"edge6\" class=\"edge\">\n<title>0&#45;&gt;2</title>\n<path fill=\"none\" stroke=\"#000000\" d=\"M683.0531,-1658.9183C731.0548,-1623.0047 806.6211,-1566.4678 857.5673,-1528.3511\"/>\n<polygon fill=\"#000000\" stroke=\"#000000\" points=\"859.9277,-1530.9563 865.838,-1522.1632 855.7342,-1525.3514 859.9277,-1530.9563\"/>\n<text text-anchor=\"middle\" x=\"862.2735\" y=\"-1543.2078\" font-family=\"Helvetica,sans-Serif\" font-size=\"14.00\" fill=\"#000000\">False</text>\n</g>\n<!-- 7 -->\n<g id=\"node3\" class=\"node\">\n<title>7</title>\n<path fill=\"#e78c4a\" stroke=\"#000000\" d=\"M379,-1317C379,-1317 156,-1317 156,-1317 150,-1317 144,-1311 144,-1305 144,-1305 144,-1261 144,-1261 144,-1255 150,-1249 156,-1249 156,-1249 379,-1249 379,-1249 385,-1249 391,-1255 391,-1261 391,-1261 391,-1305 391,-1305 391,-1311 385,-1317 379,-1317\"/>\n<text text-anchor=\"start\" x=\"152\" y=\"-1301.8\" font-family=\"Helvetica,sans-Serif\" font-size=\"14.00\" fill=\"#000000\">aotuTrainData.categoryCode ≤ 10.5</text>\n<text text-anchor=\"start\" x=\"199.5\" y=\"-1286.8\" font-family=\"Helvetica,sans-Serif\" font-size=\"14.00\" fill=\"#000000\">squared_error = 99.0</text>\n<text text-anchor=\"start\" x=\"215.5\" y=\"-1271.8\" font-family=\"Helvetica,sans-Serif\" font-size=\"14.00\" fill=\"#000000\">samples = 4938</text>\n<text text-anchor=\"start\" x=\"227.5\" y=\"-1256.8\" font-family=\"Helvetica,sans-Serif\" font-size=\"14.00\" fill=\"#000000\">value = 7.58</text>\n</g>\n<!-- 1&#45;&gt;7 -->\n<g id=\"edge2\" class=\"edge\">\n<title>1&#45;&gt;7</title>\n<path fill=\"none\" stroke=\"#000000\" d=\"M419.8699,-1453.6876C388.2374,-1418.2523 338.8418,-1362.9184 304.9173,-1324.9155\"/>\n<polygon fill=\"#000000\" stroke=\"#000000\" points=\"307.1954,-1322.2118 297.925,-1317.0826 301.9734,-1326.8735 307.1954,-1322.2118\"/>\n</g>\n<!-- 8 -->\n<g id=\"node6\" class=\"node\">\n<title>8</title>\n<path fill=\"#eca470\" stroke=\"#000000\" d=\"M523,-78.5C523,-78.5 378,-78.5 378,-78.5 372,-78.5 366,-72.5 366,-66.5 366,-66.5 366,-37.5 366,-37.5 366,-31.5 372,-25.5 378,-25.5 378,-25.5 523,-25.5 523,-25.5 529,-25.5 535,-31.5 535,-37.5 535,-37.5 535,-66.5 535,-66.5 535,-72.5 529,-78.5 523,-78.5\"/>\n<text text-anchor=\"start\" x=\"374\" y=\"-63.3\" font-family=\"Helvetica,sans-Serif\" font-size=\"14.00\" fill=\"#000000\">squared_error = 120.95</text>\n<text text-anchor=\"start\" x=\"398.5\" y=\"-48.3\" font-family=\"Helvetica,sans-Serif\" font-size=\"14.00\" fill=\"#000000\">samples = 2039</text>\n<text text-anchor=\"start\" x=\"408\" y=\"-33.3\" font-family=\"Helvetica,sans-Serif\" font-size=\"14.00\" fill=\"#000000\">value = &#45;2.96</text>\n</g>\n<!-- 1&#45;&gt;8 -->\n<g id=\"edge5\" class=\"edge\">\n<title>1&#45;&gt;8</title>\n<path fill=\"none\" stroke=\"#000000\" d=\"M450.5,-1453.7488C450.5,-1355.2095 450.5,-1078 450.5,-1078 450.5,-1078 450.5,-1078 450.5,-462 450.5,-462 450.5,-189.0967 450.5,-88.5886\"/>\n<polygon fill=\"#000000\" stroke=\"#000000\" points=\"454.0001,-88.5853 450.5,-78.5853 447.0001,-88.5854 454.0001,-88.5853\"/>\n</g>\n<!-- 29 -->\n<g id=\"node4\" class=\"node\">\n<title>29</title>\n<path fill=\"#e58139\" stroke=\"#000000\" d=\"M157,-78.5C157,-78.5 12,-78.5 12,-78.5 6,-78.5 0,-72.5 0,-66.5 0,-66.5 0,-37.5 0,-37.5 0,-31.5 6,-25.5 12,-25.5 12,-25.5 157,-25.5 157,-25.5 163,-25.5 169,-31.5 169,-37.5 169,-37.5 169,-66.5 169,-66.5 169,-72.5 163,-78.5 157,-78.5\"/>\n<text text-anchor=\"start\" x=\"8\" y=\"-63.3\" font-family=\"Helvetica,sans-Serif\" font-size=\"14.00\" fill=\"#000000\">squared_error = 142.51</text>\n<text text-anchor=\"start\" x=\"32.5\" y=\"-48.3\" font-family=\"Helvetica,sans-Serif\" font-size=\"14.00\" fill=\"#000000\">samples = 1367</text>\n<text text-anchor=\"start\" x=\"40.5\" y=\"-33.3\" font-family=\"Helvetica,sans-Serif\" font-size=\"14.00\" fill=\"#000000\">value = 12.29</text>\n</g>\n<!-- 7&#45;&gt;29 -->\n<g id=\"edge3\" class=\"edge\">\n<title>7&#45;&gt;29</title>\n<path fill=\"none\" stroke=\"#000000\" d=\"M252.2123,-1248.7488C208.2301,-1150.2095 84.5,-873 84.5,-873 84.5,-873 84.5,-873 84.5,-462 84.5,-462 84.5,-189.0967 84.5,-88.5886\"/>\n<polygon fill=\"#000000\" stroke=\"#000000\" points=\"88.0001,-88.5853 84.5,-78.5853 81.0001,-88.5854 88.0001,-88.5853\"/>\n</g>\n<!-- 30 -->\n<g id=\"node5\" class=\"node\">\n<title>30</title>\n<path fill=\"#e89051\" stroke=\"#000000\" d=\"M336,-78.5C336,-78.5 199,-78.5 199,-78.5 193,-78.5 187,-72.5 187,-66.5 187,-66.5 187,-37.5 187,-37.5 187,-31.5 193,-25.5 199,-25.5 199,-25.5 336,-25.5 336,-25.5 342,-25.5 348,-31.5 348,-37.5 348,-37.5 348,-66.5 348,-66.5 348,-72.5 342,-78.5 336,-78.5\"/>\n<text text-anchor=\"start\" x=\"195\" y=\"-63.3\" font-family=\"Helvetica,sans-Serif\" font-size=\"14.00\" fill=\"#000000\">squared_error = 70.59</text>\n<text text-anchor=\"start\" x=\"215.5\" y=\"-48.3\" font-family=\"Helvetica,sans-Serif\" font-size=\"14.00\" fill=\"#000000\">samples = 3571</text>\n<text text-anchor=\"start\" x=\"227.5\" y=\"-33.3\" font-family=\"Helvetica,sans-Serif\" font-size=\"14.00\" fill=\"#000000\">value = 5.77</text>\n</g>\n<!-- 7&#45;&gt;30 -->\n<g id=\"edge4\" class=\"edge\">\n<title>7&#45;&gt;30</title>\n<path fill=\"none\" stroke=\"#000000\" d=\"M267.5,-1248.7488C267.5,-1150.2095 267.5,-873 267.5,-873 267.5,-873 267.5,-873 267.5,-462 267.5,-462 267.5,-189.0967 267.5,-88.5886\"/>\n<polygon fill=\"#000000\" stroke=\"#000000\" points=\"271.0001,-88.5853 267.5,-78.5853 264.0001,-88.5854 271.0001,-88.5853\"/>\n</g>\n<!-- 3 -->\n<g id=\"node8\" class=\"node\">\n<title>3</title>\n<path fill=\"#f5d0b5\" stroke=\"#000000\" d=\"M993.5,-1317C993.5,-1317 829.5,-1317 829.5,-1317 823.5,-1317 817.5,-1311 817.5,-1305 817.5,-1305 817.5,-1261 817.5,-1261 817.5,-1255 823.5,-1249 829.5,-1249 829.5,-1249 993.5,-1249 993.5,-1249 999.5,-1249 1005.5,-1255 1005.5,-1261 1005.5,-1261 1005.5,-1305 1005.5,-1305 1005.5,-1311 999.5,-1317 993.5,-1317\"/>\n<text text-anchor=\"start\" x=\"825.5\" y=\"-1301.8\" font-family=\"Helvetica,sans-Serif\" font-size=\"14.00\" fill=\"#000000\">trainId.trainSymbol ≤ 131.0</text>\n<text text-anchor=\"start\" x=\"839\" y=\"-1286.8\" font-family=\"Helvetica,sans-Serif\" font-size=\"14.00\" fill=\"#000000\">squared_error = 188.8</text>\n<text text-anchor=\"start\" x=\"859.5\" y=\"-1271.8\" font-family=\"Helvetica,sans-Serif\" font-size=\"14.00\" fill=\"#000000\">samples = 7499</text>\n<text text-anchor=\"start\" x=\"865\" y=\"-1256.8\" font-family=\"Helvetica,sans-Serif\" font-size=\"14.00\" fill=\"#000000\">value = &#45;22.03</text>\n</g>\n<!-- 2&#45;&gt;3 -->\n<g id=\"edge7\" class=\"edge\">\n<title>2&#45;&gt;3</title>\n<path fill=\"none\" stroke=\"#000000\" d=\"M911.5,-1453.6876C911.5,-1418.9936 911.5,-1365.2249 911.5,-1327.3231\"/>\n<polygon fill=\"#000000\" stroke=\"#000000\" points=\"915.0001,-1327.0826 911.5,-1317.0826 908.0001,-1327.0826 915.0001,-1327.0826\"/>\n</g>\n<!-- 4 -->\n<g id=\"node13\" class=\"node\">\n<title>4</title>\n<path fill=\"#fae6d8\" stroke=\"#000000\" d=\"M1342,-1317C1342,-1317 1197,-1317 1197,-1317 1191,-1317 1185,-1311 1185,-1305 1185,-1305 1185,-1261 1185,-1261 1185,-1255 1191,-1249 1197,-1249 1197,-1249 1342,-1249 1342,-1249 1348,-1249 1354,-1255 1354,-1261 1354,-1261 1354,-1305 1354,-1305 1354,-1311 1348,-1317 1342,-1317\"/>\n<text text-anchor=\"start\" x=\"1229.5\" y=\"-1301.8\" font-family=\"Helvetica,sans-Serif\" font-size=\"14.00\" fill=\"#000000\">mpIncr ≤ 1.5</text>\n<text text-anchor=\"start\" x=\"1193\" y=\"-1286.8\" font-family=\"Helvetica,sans-Serif\" font-size=\"14.00\" fill=\"#000000\">squared_error = 242.73</text>\n<text text-anchor=\"start\" x=\"1217.5\" y=\"-1271.8\" font-family=\"Helvetica,sans-Serif\" font-size=\"14.00\" fill=\"#000000\">samples = 9147</text>\n<text text-anchor=\"start\" x=\"1223\" y=\"-1256.8\" font-family=\"Helvetica,sans-Serif\" font-size=\"14.00\" fill=\"#000000\">value = &#45;31.67</text>\n</g>\n<!-- 2&#45;&gt;4 -->\n<g id=\"edge12\" class=\"edge\">\n<title>2&#45;&gt;4</title>\n<path fill=\"none\" stroke=\"#000000\" d=\"M971.0183,-1453.9183C1034.3823,-1417.6344 1134.508,-1360.2999 1201.0816,-1322.1781\"/>\n<polygon fill=\"#000000\" stroke=\"#000000\" points=\"1202.9007,-1325.1697 1209.8394,-1317.1632 1199.4222,-1319.0952 1202.9007,-1325.1697\"/>\n</g>\n<!-- 9 -->\n<g id=\"node9\" class=\"node\">\n<title>9</title>\n<path fill=\"#f6d3b9\" stroke=\"#000000\" d=\"M948,-1112C948,-1112 701,-1112 701,-1112 695,-1112 689,-1106 689,-1100 689,-1100 689,-1056 689,-1056 689,-1050 695,-1044 701,-1044 701,-1044 948,-1044 948,-1044 954,-1044 960,-1050 960,-1056 960,-1056 960,-1100 960,-1100 960,-1106 954,-1112 948,-1112\"/>\n<text text-anchor=\"start\" x=\"697\" y=\"-1096.8\" font-family=\"Helvetica,sans-Serif\" font-size=\"14.00\" fill=\"#000000\">lastReportedPosition.speedMPH ≤ 30.5</text>\n<text text-anchor=\"start\" x=\"748\" y=\"-1081.8\" font-family=\"Helvetica,sans-Serif\" font-size=\"14.00\" fill=\"#000000\">squared_error = 174.31</text>\n<text text-anchor=\"start\" x=\"772.5\" y=\"-1066.8\" font-family=\"Helvetica,sans-Serif\" font-size=\"14.00\" fill=\"#000000\">samples = 6984</text>\n<text text-anchor=\"start\" x=\"778\" y=\"-1051.8\" font-family=\"Helvetica,sans-Serif\" font-size=\"14.00\" fill=\"#000000\">value = &#45;23.11</text>\n</g>\n<!-- 3&#45;&gt;9 -->\n<g id=\"edge8\" class=\"edge\">\n<title>3&#45;&gt;9</title>\n<path fill=\"none\" stroke=\"#000000\" d=\"M896.9382,-1248.6876C882.0885,-1213.6971 859.0048,-1159.3044 842.8993,-1121.3547\"/>\n<polygon fill=\"#000000\" stroke=\"#000000\" points=\"846.0929,-1119.9206 838.9643,-1112.0826 839.6492,-1122.6553 846.0929,-1119.9206\"/>\n</g>\n<!-- 10 -->\n<g id=\"node12\" class=\"node\">\n<title>10</title>\n<path fill=\"#eeae80\" stroke=\"#000000\" d=\"M1084,-78.5C1084,-78.5 939,-78.5 939,-78.5 933,-78.5 927,-72.5 927,-66.5 927,-66.5 927,-37.5 927,-37.5 927,-31.5 933,-25.5 939,-25.5 939,-25.5 1084,-25.5 1084,-25.5 1090,-25.5 1096,-31.5 1096,-37.5 1096,-37.5 1096,-66.5 1096,-66.5 1096,-72.5 1090,-78.5 1084,-78.5\"/>\n<text text-anchor=\"start\" x=\"935\" y=\"-63.3\" font-family=\"Helvetica,sans-Serif\" font-size=\"14.00\" fill=\"#000000\">squared_error = 153.02</text>\n<text text-anchor=\"start\" x=\"963.5\" y=\"-48.3\" font-family=\"Helvetica,sans-Serif\" font-size=\"14.00\" fill=\"#000000\">samples = 515</text>\n<text text-anchor=\"start\" x=\"969\" y=\"-33.3\" font-family=\"Helvetica,sans-Serif\" font-size=\"14.00\" fill=\"#000000\">value = &#45;7.32</text>\n</g>\n<!-- 3&#45;&gt;10 -->\n<g id=\"edge11\" class=\"edge\">\n<title>3&#45;&gt;10</title>\n<path fill=\"none\" stroke=\"#000000\" d=\"M922.8978,-1248.8066C939.5319,-1198.9044 968.5,-1112 968.5,-1112 968.5,-1112 999.5,-873 999.5,-873 999.5,-873 999.5,-873 999.5,-462 999.5,-462 1007.4874,-189.0967 1010.4291,-88.5886\"/>\n<polygon fill=\"#000000\" stroke=\"#000000\" points=\"1013.9277,-88.6835 1010.7219,-78.5853 1006.9307,-88.4786 1013.9277,-88.6835\"/>\n</g>\n<!-- 13 -->\n<g id=\"node10\" class=\"node\">\n<title>13</title>\n<path fill=\"#f3c6a5\" stroke=\"#000000\" d=\"M710,-78.5C710,-78.5 565,-78.5 565,-78.5 559,-78.5 553,-72.5 553,-66.5 553,-66.5 553,-37.5 553,-37.5 553,-31.5 559,-25.5 565,-25.5 565,-25.5 710,-25.5 710,-25.5 716,-25.5 722,-31.5 722,-37.5 722,-37.5 722,-66.5 722,-66.5 722,-72.5 716,-78.5 710,-78.5\"/>\n<text text-anchor=\"start\" x=\"561\" y=\"-63.3\" font-family=\"Helvetica,sans-Serif\" font-size=\"14.00\" fill=\"#000000\">squared_error = 139.87</text>\n<text text-anchor=\"start\" x=\"585.5\" y=\"-48.3\" font-family=\"Helvetica,sans-Serif\" font-size=\"14.00\" fill=\"#000000\">samples = 2145</text>\n<text text-anchor=\"start\" x=\"591\" y=\"-33.3\" font-family=\"Helvetica,sans-Serif\" font-size=\"14.00\" fill=\"#000000\">value = &#45;17.44</text>\n</g>\n<!-- 9&#45;&gt;13 -->\n<g id=\"edge9\" class=\"edge\">\n<title>9&#45;&gt;13</title>\n<path fill=\"none\" stroke=\"#000000\" d=\"M808.8781,-1043.7488C763.9346,-945.2095 637.5,-668 637.5,-668 637.5,-668 637.5,-668 637.5,-462 637.5,-462 637.5,-189.0967 637.5,-88.5886\"/>\n<polygon fill=\"#000000\" stroke=\"#000000\" points=\"641.0001,-88.5853 637.5,-78.5853 634.0001,-88.5854 641.0001,-88.5853\"/>\n</g>\n<!-- 14 -->\n<g id=\"node11\" class=\"node\">\n<title>14</title>\n<path fill=\"#f7d8c2\" stroke=\"#000000\" d=\"M897,-78.5C897,-78.5 752,-78.5 752,-78.5 746,-78.5 740,-72.5 740,-66.5 740,-66.5 740,-37.5 740,-37.5 740,-31.5 746,-25.5 752,-25.5 752,-25.5 897,-25.5 897,-25.5 903,-25.5 909,-31.5 909,-37.5 909,-37.5 909,-66.5 909,-66.5 909,-72.5 903,-78.5 897,-78.5\"/>\n<text text-anchor=\"start\" x=\"748\" y=\"-63.3\" font-family=\"Helvetica,sans-Serif\" font-size=\"14.00\" fill=\"#000000\">squared_error = 168.98</text>\n<text text-anchor=\"start\" x=\"772.5\" y=\"-48.3\" font-family=\"Helvetica,sans-Serif\" font-size=\"14.00\" fill=\"#000000\">samples = 4839</text>\n<text text-anchor=\"start\" x=\"778\" y=\"-33.3\" font-family=\"Helvetica,sans-Serif\" font-size=\"14.00\" fill=\"#000000\">value = &#45;25.62</text>\n</g>\n<!-- 9&#45;&gt;14 -->\n<g id=\"edge10\" class=\"edge\">\n<title>9&#45;&gt;14</title>\n<path fill=\"none\" stroke=\"#000000\" d=\"M824.5,-1043.7488C824.5,-945.2095 824.5,-668 824.5,-668 824.5,-668 824.5,-668 824.5,-462 824.5,-462 824.5,-189.0967 824.5,-88.5886\"/>\n<polygon fill=\"#000000\" stroke=\"#000000\" points=\"828.0001,-88.5853 824.5,-78.5853 821.0001,-88.5854 828.0001,-88.5853\"/>\n</g>\n<!-- 5 -->\n<g id=\"node14\" class=\"node\">\n<title>5</title>\n<path fill=\"#fdf5ef\" stroke=\"#000000\" d=\"M1499,-1112C1499,-1112 1040,-1112 1040,-1112 1034,-1112 1028,-1106 1028,-1100 1028,-1100 1028,-1056 1028,-1056 1028,-1050 1034,-1044 1040,-1044 1040,-1044 1499,-1044 1499,-1044 1505,-1044 1511,-1050 1511,-1056 1511,-1056 1511,-1100 1511,-1100 1511,-1106 1505,-1112 1499,-1112\"/>\n<text text-anchor=\"start\" x=\"1036\" y=\"-1096.8\" font-family=\"Helvetica,sans-Serif\" font-size=\"14.00\" fill=\"#000000\">lastReportedPosition.milepostLocation.milepost.milepostNumber ≤ 221.4</text>\n<text text-anchor=\"start\" x=\"1197\" y=\"-1081.8\" font-family=\"Helvetica,sans-Serif\" font-size=\"14.00\" fill=\"#000000\">squared_error = 196.9</text>\n<text text-anchor=\"start\" x=\"1217.5\" y=\"-1066.8\" font-family=\"Helvetica,sans-Serif\" font-size=\"14.00\" fill=\"#000000\">samples = 4157</text>\n<text text-anchor=\"start\" x=\"1223\" y=\"-1051.8\" font-family=\"Helvetica,sans-Serif\" font-size=\"14.00\" fill=\"#000000\">value = &#45;37.91</text>\n</g>\n<!-- 4&#45;&gt;5 -->\n<g id=\"edge13\" class=\"edge\">\n<title>4&#45;&gt;5</title>\n<path fill=\"none\" stroke=\"#000000\" d=\"M1269.5,-1248.6876C1269.5,-1213.9936 1269.5,-1160.2249 1269.5,-1122.3231\"/>\n<polygon fill=\"#000000\" stroke=\"#000000\" points=\"1273.0001,-1122.0826 1269.5,-1112.0826 1266.0001,-1122.0826 1273.0001,-1122.0826\"/>\n</g>\n<!-- 6 -->\n<g id=\"node19\" class=\"node\">\n<title>6</title>\n<path fill=\"#f7dac5\" stroke=\"#000000\" d=\"M2008,-1112C2008,-1112 1541,-1112 1541,-1112 1535,-1112 1529,-1106 1529,-1100 1529,-1100 1529,-1056 1529,-1056 1529,-1050 1535,-1044 1541,-1044 1541,-1044 2008,-1044 2008,-1044 2014,-1044 2020,-1050 2020,-1056 2020,-1056 2020,-1100 2020,-1100 2020,-1106 2014,-1112 2008,-1112\"/>\n<text text-anchor=\"start\" x=\"1537\" y=\"-1096.8\" font-family=\"Helvetica,sans-Serif\" font-size=\"14.00\" fill=\"#000000\">lastReportedPosition.milepostLocation.milepost.milepostNumber ≤ 232.15</text>\n<text text-anchor=\"start\" x=\"1702\" y=\"-1081.8\" font-family=\"Helvetica,sans-Serif\" font-size=\"14.00\" fill=\"#000000\">squared_error = 221.3</text>\n<text text-anchor=\"start\" x=\"1722.5\" y=\"-1066.8\" font-family=\"Helvetica,sans-Serif\" font-size=\"14.00\" fill=\"#000000\">samples = 4990</text>\n<text text-anchor=\"start\" x=\"1728\" y=\"-1051.8\" font-family=\"Helvetica,sans-Serif\" font-size=\"14.00\" fill=\"#000000\">value = &#45;26.46</text>\n</g>\n<!-- 4&#45;&gt;6 -->\n<g id=\"edge18\" class=\"edge\">\n<title>4&#45;&gt;6</title>\n<path fill=\"none\" stroke=\"#000000\" d=\"M1353.4574,-1248.9183C1443.7517,-1212.2642 1586.9662,-1154.1276 1680.8479,-1116.0172\"/>\n<polygon fill=\"#000000\" stroke=\"#000000\" points=\"1682.3927,-1119.1675 1690.3419,-1112.1632 1679.7597,-1112.6816 1682.3927,-1119.1675\"/>\n</g>\n<!-- 17 -->\n<g id=\"node15\" class=\"node\">\n<title>17</title>\n<path fill=\"#f7d9c3\" stroke=\"#000000\" d=\"M1280,-78.5C1280,-78.5 1135,-78.5 1135,-78.5 1129,-78.5 1123,-72.5 1123,-66.5 1123,-66.5 1123,-37.5 1123,-37.5 1123,-31.5 1129,-25.5 1135,-25.5 1135,-25.5 1280,-25.5 1280,-25.5 1286,-25.5 1292,-31.5 1292,-37.5 1292,-37.5 1292,-66.5 1292,-66.5 1292,-72.5 1286,-78.5 1280,-78.5\"/>\n<text text-anchor=\"start\" x=\"1131\" y=\"-63.3\" font-family=\"Helvetica,sans-Serif\" font-size=\"14.00\" fill=\"#000000\">squared_error = 288.53</text>\n<text text-anchor=\"start\" x=\"1159.5\" y=\"-48.3\" font-family=\"Helvetica,sans-Serif\" font-size=\"14.00\" fill=\"#000000\">samples = 338</text>\n<text text-anchor=\"start\" x=\"1161\" y=\"-33.3\" font-family=\"Helvetica,sans-Serif\" font-size=\"14.00\" fill=\"#000000\">value = &#45;25.74</text>\n</g>\n<!-- 5&#45;&gt;17 -->\n<g id=\"edge14\" class=\"edge\">\n<title>5&#45;&gt;17</title>\n<path fill=\"none\" stroke=\"#000000\" d=\"M1264.3206,-1043.7488C1249.4195,-945.2095 1207.5,-668 1207.5,-668 1207.5,-668 1207.5,-668 1207.5,-462 1207.5,-462 1207.5,-189.0967 1207.5,-88.5886\"/>\n<polygon fill=\"#000000\" stroke=\"#000000\" points=\"1211.0001,-88.5853 1207.5,-78.5853 1204.0001,-88.5854 1211.0001,-88.5853\"/>\n</g>\n<!-- 18 -->\n<g id=\"node16\" class=\"node\">\n<title>18</title>\n<path fill=\"#fdf7f3\" stroke=\"#000000\" d=\"M1518,-907C1518,-907 1271,-907 1271,-907 1265,-907 1259,-901 1259,-895 1259,-895 1259,-851 1259,-851 1259,-845 1265,-839 1271,-839 1271,-839 1518,-839 1518,-839 1524,-839 1530,-845 1530,-851 1530,-851 1530,-895 1530,-895 1530,-901 1524,-907 1518,-907\"/>\n<text text-anchor=\"start\" x=\"1267\" y=\"-891.8\" font-family=\"Helvetica,sans-Serif\" font-size=\"14.00\" fill=\"#000000\">lastReportedPosition.speedMPH ≤ 46.5</text>\n<text text-anchor=\"start\" x=\"1318\" y=\"-876.8\" font-family=\"Helvetica,sans-Serif\" font-size=\"14.00\" fill=\"#000000\">squared_error = 174.52</text>\n<text text-anchor=\"start\" x=\"1342.5\" y=\"-861.8\" font-family=\"Helvetica,sans-Serif\" font-size=\"14.00\" fill=\"#000000\">samples = 3819</text>\n<text text-anchor=\"start\" x=\"1348\" y=\"-846.8\" font-family=\"Helvetica,sans-Serif\" font-size=\"14.00\" fill=\"#000000\">value = &#45;38.99</text>\n</g>\n<!-- 5&#45;&gt;18 -->\n<g id=\"edge15\" class=\"edge\">\n<title>5&#45;&gt;18</title>\n<path fill=\"none\" stroke=\"#000000\" d=\"M1290.4222,-1043.6876C1311.8483,-1008.5488 1345.2054,-953.8431 1368.3578,-915.8732\"/>\n<polygon fill=\"#000000\" stroke=\"#000000\" points=\"1371.5001,-917.4427 1373.7179,-907.0826 1365.5235,-913.7984 1371.5001,-917.4427\"/>\n</g>\n<!-- 21 -->\n<g id=\"node17\" class=\"node\">\n<title>21</title>\n<path fill=\"#fcefe6\" stroke=\"#000000\" d=\"M1467,-78.5C1467,-78.5 1322,-78.5 1322,-78.5 1316,-78.5 1310,-72.5 1310,-66.5 1310,-66.5 1310,-37.5 1310,-37.5 1310,-31.5 1316,-25.5 1322,-25.5 1322,-25.5 1467,-25.5 1467,-25.5 1473,-25.5 1479,-31.5 1479,-37.5 1479,-37.5 1479,-66.5 1479,-66.5 1479,-72.5 1473,-78.5 1467,-78.5\"/>\n<text text-anchor=\"start\" x=\"1318\" y=\"-63.3\" font-family=\"Helvetica,sans-Serif\" font-size=\"14.00\" fill=\"#000000\">squared_error = 133.45</text>\n<text text-anchor=\"start\" x=\"1342.5\" y=\"-48.3\" font-family=\"Helvetica,sans-Serif\" font-size=\"14.00\" fill=\"#000000\">samples = 1790</text>\n<text text-anchor=\"start\" x=\"1348\" y=\"-33.3\" font-family=\"Helvetica,sans-Serif\" font-size=\"14.00\" fill=\"#000000\">value = &#45;35.33</text>\n</g>\n<!-- 18&#45;&gt;21 -->\n<g id=\"edge16\" class=\"edge\">\n<title>18&#45;&gt;21</title>\n<path fill=\"none\" stroke=\"#000000\" d=\"M1394.5,-838.7679C1394.5,-706.0993 1394.5,-226.4092 1394.5,-89.0115\"/>\n<polygon fill=\"#000000\" stroke=\"#000000\" points=\"1398.0001,-88.6155 1394.5,-78.6156 1391.0001,-88.6156 1398.0001,-88.6155\"/>\n</g>\n<!-- 22 -->\n<g id=\"node18\" class=\"node\">\n<title>22</title>\n<path fill=\"#fffffe\" stroke=\"#000000\" d=\"M1654,-78.5C1654,-78.5 1509,-78.5 1509,-78.5 1503,-78.5 1497,-72.5 1497,-66.5 1497,-66.5 1497,-37.5 1497,-37.5 1497,-31.5 1503,-25.5 1509,-25.5 1509,-25.5 1654,-25.5 1654,-25.5 1660,-25.5 1666,-31.5 1666,-37.5 1666,-37.5 1666,-66.5 1666,-66.5 1666,-72.5 1660,-78.5 1654,-78.5\"/>\n<text text-anchor=\"start\" x=\"1505\" y=\"-63.3\" font-family=\"Helvetica,sans-Serif\" font-size=\"14.00\" fill=\"#000000\">squared_error = 188.57</text>\n<text text-anchor=\"start\" x=\"1529.5\" y=\"-48.3\" font-family=\"Helvetica,sans-Serif\" font-size=\"14.00\" fill=\"#000000\">samples = 2029</text>\n<text text-anchor=\"start\" x=\"1535\" y=\"-33.3\" font-family=\"Helvetica,sans-Serif\" font-size=\"14.00\" fill=\"#000000\">value = &#45;42.21</text>\n</g>\n<!-- 18&#45;&gt;22 -->\n<g id=\"edge17\" class=\"edge\">\n<title>18&#45;&gt;22</title>\n<path fill=\"none\" stroke=\"#000000\" d=\"M1402.2971,-838.7679C1432.5454,-705.9663 1541.9939,-225.4466 1573.1638,-88.5991\"/>\n<polygon fill=\"#000000\" stroke=\"#000000\" points=\"1576.6294,-89.1432 1575.4377,-78.6156 1569.8042,-87.5885 1576.6294,-89.1432\"/>\n</g>\n<!-- 11 -->\n<g id=\"node20\" class=\"node\">\n<title>11</title>\n<path fill=\"#fcefe6\" stroke=\"#000000\" d=\"M1838,-78.5C1838,-78.5 1701,-78.5 1701,-78.5 1695,-78.5 1689,-72.5 1689,-66.5 1689,-66.5 1689,-37.5 1689,-37.5 1689,-31.5 1695,-25.5 1701,-25.5 1701,-25.5 1838,-25.5 1838,-25.5 1844,-25.5 1850,-31.5 1850,-37.5 1850,-37.5 1850,-66.5 1850,-66.5 1850,-72.5 1844,-78.5 1838,-78.5\"/>\n<text text-anchor=\"start\" x=\"1697\" y=\"-63.3\" font-family=\"Helvetica,sans-Serif\" font-size=\"14.00\" fill=\"#000000\">squared_error = 191.4</text>\n<text text-anchor=\"start\" x=\"1717.5\" y=\"-48.3\" font-family=\"Helvetica,sans-Serif\" font-size=\"14.00\" fill=\"#000000\">samples = 1062</text>\n<text text-anchor=\"start\" x=\"1723\" y=\"-33.3\" font-family=\"Helvetica,sans-Serif\" font-size=\"14.00\" fill=\"#000000\">value = &#45;35.43</text>\n</g>\n<!-- 6&#45;&gt;11 -->\n<g id=\"edge19\" class=\"edge\">\n<title>6&#45;&gt;11</title>\n<path fill=\"none\" stroke=\"#000000\" d=\"M1774.0823,-1043.7488C1772.8806,-945.2095 1769.5,-668 1769.5,-668 1769.5,-668 1769.5,-668 1769.5,-462 1769.5,-462 1769.5,-189.0967 1769.5,-88.5886\"/>\n<polygon fill=\"#000000\" stroke=\"#000000\" points=\"1773.0001,-88.5853 1769.5,-78.5853 1766.0001,-88.5854 1773.0001,-88.5853\"/>\n</g>\n<!-- 12 -->\n<g id=\"node21\" class=\"node\">\n<title>12</title>\n<path fill=\"#f6d5bd\" stroke=\"#000000\" d=\"M2082.5,-907C2082.5,-907 1822.5,-907 1822.5,-907 1816.5,-907 1810.5,-901 1810.5,-895 1810.5,-895 1810.5,-851 1810.5,-851 1810.5,-845 1816.5,-839 1822.5,-839 1822.5,-839 2082.5,-839 2082.5,-839 2088.5,-839 2094.5,-845 2094.5,-851 2094.5,-851 2094.5,-895 2094.5,-895 2094.5,-901 2088.5,-907 2082.5,-907\"/>\n<text text-anchor=\"start\" x=\"1818.5\" y=\"-891.8\" font-family=\"Helvetica,sans-Serif\" font-size=\"14.00\" fill=\"#000000\">aotuTrainData.totalCarLength ≤ 639600.0</text>\n<text text-anchor=\"start\" x=\"1876\" y=\"-876.8\" font-family=\"Helvetica,sans-Serif\" font-size=\"14.00\" fill=\"#000000\">squared_error = 201.76</text>\n<text text-anchor=\"start\" x=\"1900.5\" y=\"-861.8\" font-family=\"Helvetica,sans-Serif\" font-size=\"14.00\" fill=\"#000000\">samples = 3928</text>\n<text text-anchor=\"start\" x=\"1906\" y=\"-846.8\" font-family=\"Helvetica,sans-Serif\" font-size=\"14.00\" fill=\"#000000\">value = &#45;24.04</text>\n</g>\n<!-- 6&#45;&gt;12 -->\n<g id=\"edge20\" class=\"edge\">\n<title>6&#45;&gt;12</title>\n<path fill=\"none\" stroke=\"#000000\" d=\"M1804.2932,-1043.6876C1835.0614,-1008.2523 1883.1074,-952.9184 1916.105,-914.9155\"/>\n<polygon fill=\"#000000\" stroke=\"#000000\" points=\"1918.9928,-916.9282 1922.9063,-907.0826 1913.7072,-912.3387 1918.9928,-916.9282\"/>\n</g>\n<!-- 15 -->\n<g id=\"node22\" class=\"node\">\n<title>15</title>\n<path fill=\"#fef9f6\" stroke=\"#000000\" d=\"M2025,-78.5C2025,-78.5 1880,-78.5 1880,-78.5 1874,-78.5 1868,-72.5 1868,-66.5 1868,-66.5 1868,-37.5 1868,-37.5 1868,-31.5 1874,-25.5 1880,-25.5 1880,-25.5 2025,-25.5 2025,-25.5 2031,-25.5 2037,-31.5 2037,-37.5 2037,-37.5 2037,-66.5 2037,-66.5 2037,-72.5 2031,-78.5 2025,-78.5\"/>\n<text text-anchor=\"start\" x=\"1876\" y=\"-63.3\" font-family=\"Helvetica,sans-Serif\" font-size=\"14.00\" fill=\"#000000\">squared_error = 172.88</text>\n<text text-anchor=\"start\" x=\"1904.5\" y=\"-48.3\" font-family=\"Helvetica,sans-Serif\" font-size=\"14.00\" fill=\"#000000\">samples = 318</text>\n<text text-anchor=\"start\" x=\"1910\" y=\"-33.3\" font-family=\"Helvetica,sans-Serif\" font-size=\"14.00\" fill=\"#000000\">value = &#45;39.8</text>\n</g>\n<!-- 12&#45;&gt;15 -->\n<g id=\"edge21\" class=\"edge\">\n<title>12&#45;&gt;15</title>\n<path fill=\"none\" stroke=\"#000000\" d=\"M1952.5,-838.7679C1952.5,-706.0993 1952.5,-226.4092 1952.5,-89.0115\"/>\n<polygon fill=\"#000000\" stroke=\"#000000\" points=\"1956.0001,-88.6155 1952.5,-78.6156 1949.0001,-88.6156 1956.0001,-88.6155\"/>\n</g>\n<!-- 16 -->\n<g id=\"node23\" class=\"node\">\n<title>16</title>\n<path fill=\"#f6d2b8\" stroke=\"#000000\" d=\"M2204,-702C2204,-702 2059,-702 2059,-702 2053,-702 2047,-696 2047,-690 2047,-690 2047,-646 2047,-646 2047,-640 2053,-634 2059,-634 2059,-634 2204,-634 2204,-634 2210,-634 2216,-640 2216,-646 2216,-646 2216,-690 2216,-690 2216,-696 2210,-702 2204,-702\"/>\n<text text-anchor=\"start\" x=\"2066.5\" y=\"-686.8\" font-family=\"Helvetica,sans-Serif\" font-size=\"14.00\" fill=\"#000000\">workLocations ≤ 0.5</text>\n<text text-anchor=\"start\" x=\"2055\" y=\"-671.8\" font-family=\"Helvetica,sans-Serif\" font-size=\"14.00\" fill=\"#000000\">squared_error = 180.47</text>\n<text text-anchor=\"start\" x=\"2079.5\" y=\"-656.8\" font-family=\"Helvetica,sans-Serif\" font-size=\"14.00\" fill=\"#000000\">samples = 3610</text>\n<text text-anchor=\"start\" x=\"2085\" y=\"-641.8\" font-family=\"Helvetica,sans-Serif\" font-size=\"14.00\" fill=\"#000000\">value = &#45;22.65</text>\n</g>\n<!-- 12&#45;&gt;16 -->\n<g id=\"edge22\" class=\"edge\">\n<title>12&#45;&gt;16</title>\n<path fill=\"none\" stroke=\"#000000\" d=\"M1982.4606,-838.6876C2013.4017,-803.2523 2061.7176,-747.9184 2094.9006,-709.9155\"/>\n<polygon fill=\"#000000\" stroke=\"#000000\" points=\"2097.7992,-711.9173 2101.7401,-702.0826 2092.5264,-707.3132 2097.7992,-711.9173\"/>\n</g>\n<!-- 19 -->\n<g id=\"node24\" class=\"node\">\n<title>19</title>\n<path fill=\"#ffffff\" stroke=\"#000000\" d=\"M2195.5,-78.5C2195.5,-78.5 2067.5,-78.5 2067.5,-78.5 2061.5,-78.5 2055.5,-72.5 2055.5,-66.5 2055.5,-66.5 2055.5,-37.5 2055.5,-37.5 2055.5,-31.5 2061.5,-25.5 2067.5,-25.5 2067.5,-25.5 2195.5,-25.5 2195.5,-25.5 2201.5,-25.5 2207.5,-31.5 2207.5,-37.5 2207.5,-37.5 2207.5,-66.5 2207.5,-66.5 2207.5,-72.5 2201.5,-78.5 2195.5,-78.5\"/>\n<text text-anchor=\"start\" x=\"2063.5\" y=\"-63.3\" font-family=\"Helvetica,sans-Serif\" font-size=\"14.00\" fill=\"#000000\">squared_error = 49.2</text>\n<text text-anchor=\"start\" x=\"2083.5\" y=\"-48.3\" font-family=\"Helvetica,sans-Serif\" font-size=\"14.00\" fill=\"#000000\">samples = 116</text>\n<text text-anchor=\"start\" x=\"2085\" y=\"-33.3\" font-family=\"Helvetica,sans-Serif\" font-size=\"14.00\" fill=\"#000000\">value = &#45;42.37</text>\n</g>\n<!-- 16&#45;&gt;19 -->\n<g id=\"edge23\" class=\"edge\">\n<title>16&#45;&gt;19</title>\n<path fill=\"none\" stroke=\"#000000\" d=\"M2131.5,-633.5612C2131.5,-526.4062 2131.5,-199.4787 2131.5,-88.9582\"/>\n<polygon fill=\"#000000\" stroke=\"#000000\" points=\"2135.0001,-88.6533 2131.5,-78.6533 2128.0001,-88.6534 2135.0001,-88.6533\"/>\n</g>\n<!-- 20 -->\n<g id=\"node25\" class=\"node\">\n<title>20</title>\n<path fill=\"#f5d0b5\" stroke=\"#000000\" d=\"M2439,-496C2439,-496 2294,-496 2294,-496 2288,-496 2282,-490 2282,-484 2282,-484 2282,-440 2282,-440 2282,-434 2288,-428 2294,-428 2294,-428 2439,-428 2439,-428 2445,-428 2451,-434 2451,-440 2451,-440 2451,-484 2451,-484 2451,-490 2445,-496 2439,-496\"/>\n<text text-anchor=\"start\" x=\"2300\" y=\"-480.8\" font-family=\"Helvetica,sans-Serif\" font-size=\"14.00\" fill=\"#000000\">trainLength ≤ 7513.5</text>\n<text text-anchor=\"start\" x=\"2290\" y=\"-465.8\" font-family=\"Helvetica,sans-Serif\" font-size=\"14.00\" fill=\"#000000\">squared_error = 171.49</text>\n<text text-anchor=\"start\" x=\"2314.5\" y=\"-450.8\" font-family=\"Helvetica,sans-Serif\" font-size=\"14.00\" fill=\"#000000\">samples = 3494</text>\n<text text-anchor=\"start\" x=\"2320\" y=\"-435.8\" font-family=\"Helvetica,sans-Serif\" font-size=\"14.00\" fill=\"#000000\">value = &#45;21.99</text>\n</g>\n<!-- 16&#45;&gt;20 -->\n<g id=\"edge24\" class=\"edge\">\n<title>16&#45;&gt;20</title>\n<path fill=\"none\" stroke=\"#000000\" d=\"M2170.3055,-633.9833C2211.381,-597.9767 2276.2021,-541.1547 2319.9873,-502.7728\"/>\n<polygon fill=\"#000000\" stroke=\"#000000\" points=\"2322.4242,-505.2911 2327.6369,-496.0672 2317.8099,-500.0272 2322.4242,-505.2911\"/>\n</g>\n<!-- 23 -->\n<g id=\"node26\" class=\"node\">\n<title>23</title>\n<path fill=\"#f3c7a7\" stroke=\"#000000\" d=\"M2490,-291C2490,-291 2243,-291 2243,-291 2237,-291 2231,-285 2231,-279 2231,-279 2231,-235 2231,-235 2231,-229 2237,-223 2243,-223 2243,-223 2490,-223 2490,-223 2496,-223 2502,-229 2502,-235 2502,-235 2502,-279 2502,-279 2502,-285 2496,-291 2490,-291\"/>\n<text text-anchor=\"start\" x=\"2239\" y=\"-275.8\" font-family=\"Helvetica,sans-Serif\" font-size=\"14.00\" fill=\"#000000\">lastReportedPosition.speedMPH ≤ 57.5</text>\n<text text-anchor=\"start\" x=\"2290\" y=\"-260.8\" font-family=\"Helvetica,sans-Serif\" font-size=\"14.00\" fill=\"#000000\">squared_error = 115.56</text>\n<text text-anchor=\"start\" x=\"2314.5\" y=\"-245.8\" font-family=\"Helvetica,sans-Serif\" font-size=\"14.00\" fill=\"#000000\">samples = 1583</text>\n<text text-anchor=\"start\" x=\"2320\" y=\"-230.8\" font-family=\"Helvetica,sans-Serif\" font-size=\"14.00\" fill=\"#000000\">value = &#45;18.13</text>\n</g>\n<!-- 20&#45;&gt;23 -->\n<g id=\"edge25\" class=\"edge\">\n<title>20&#45;&gt;23</title>\n<path fill=\"none\" stroke=\"#000000\" d=\"M2366.5,-427.6876C2366.5,-392.9936 2366.5,-339.2249 2366.5,-301.3231\"/>\n<polygon fill=\"#000000\" stroke=\"#000000\" points=\"2370.0001,-301.0826 2366.5,-291.0826 2363.0001,-301.0826 2370.0001,-301.0826\"/>\n</g>\n<!-- 24 -->\n<g id=\"node29\" class=\"node\">\n<title>24</title>\n<path fill=\"#f7d7c1\" stroke=\"#000000\" d=\"M2737,-291C2737,-291 2592,-291 2592,-291 2586,-291 2580,-285 2580,-279 2580,-279 2580,-235 2580,-235 2580,-229 2586,-223 2592,-223 2592,-223 2737,-223 2737,-223 2743,-223 2749,-229 2749,-235 2749,-235 2749,-279 2749,-279 2749,-285 2743,-291 2737,-291\"/>\n<text text-anchor=\"start\" x=\"2595.5\" y=\"-275.8\" font-family=\"Helvetica,sans-Serif\" font-size=\"14.00\" fill=\"#000000\">trainId.trainDate ≤ 7.5</text>\n<text text-anchor=\"start\" x=\"2588\" y=\"-260.8\" font-family=\"Helvetica,sans-Serif\" font-size=\"14.00\" fill=\"#000000\">squared_error = 195.17</text>\n<text text-anchor=\"start\" x=\"2612.5\" y=\"-245.8\" font-family=\"Helvetica,sans-Serif\" font-size=\"14.00\" fill=\"#000000\">samples = 1911</text>\n<text text-anchor=\"start\" x=\"2618\" y=\"-230.8\" font-family=\"Helvetica,sans-Serif\" font-size=\"14.00\" fill=\"#000000\">value = &#45;25.19</text>\n</g>\n<!-- 20&#45;&gt;24 -->\n<g id=\"edge28\" class=\"edge\">\n<title>20&#45;&gt;24</title>\n<path fill=\"none\" stroke=\"#000000\" d=\"M2416.0432,-427.9183C2468.4646,-391.8566 2551.113,-335.0012 2606.5274,-296.8805\"/>\n<polygon fill=\"#000000\" stroke=\"#000000\" points=\"2608.5833,-299.7145 2614.8384,-291.1632 2604.6159,-293.9473 2608.5833,-299.7145\"/>\n</g>\n<!-- 27 -->\n<g id=\"node27\" class=\"node\">\n<title>27</title>\n<path fill=\"#f2c19d\" stroke=\"#000000\" d=\"M2375,-78.5C2375,-78.5 2238,-78.5 2238,-78.5 2232,-78.5 2226,-72.5 2226,-66.5 2226,-66.5 2226,-37.5 2226,-37.5 2226,-31.5 2232,-25.5 2238,-25.5 2238,-25.5 2375,-25.5 2375,-25.5 2381,-25.5 2387,-31.5 2387,-37.5 2387,-37.5 2387,-66.5 2387,-66.5 2387,-72.5 2381,-78.5 2375,-78.5\"/>\n<text text-anchor=\"start\" x=\"2234\" y=\"-63.3\" font-family=\"Helvetica,sans-Serif\" font-size=\"14.00\" fill=\"#000000\">squared_error = 94.29</text>\n<text text-anchor=\"start\" x=\"2254.5\" y=\"-48.3\" font-family=\"Helvetica,sans-Serif\" font-size=\"14.00\" fill=\"#000000\">samples = 1255</text>\n<text text-anchor=\"start\" x=\"2260\" y=\"-33.3\" font-family=\"Helvetica,sans-Serif\" font-size=\"14.00\" fill=\"#000000\">value = &#45;15.33</text>\n</g>\n<!-- 23&#45;&gt;27 -->\n<g id=\"edge26\" class=\"edge\">\n<title>23&#45;&gt;27</title>\n<path fill=\"none\" stroke=\"#000000\" d=\"M2356.4573,-222.6876C2345.5553,-185.4388 2328.2179,-126.2027 2317.1016,-88.2221\"/>\n<polygon fill=\"#000000\" stroke=\"#000000\" points=\"2320.4477,-87.1944 2314.2796,-78.5802 2313.7295,-89.1607 2320.4477,-87.1944\"/>\n</g>\n<!-- 28 -->\n<g id=\"node28\" class=\"node\">\n<title>28</title>\n<path fill=\"#f9e0ce\" stroke=\"#000000\" d=\"M2554,-78.5C2554,-78.5 2417,-78.5 2417,-78.5 2411,-78.5 2405,-72.5 2405,-66.5 2405,-66.5 2405,-37.5 2405,-37.5 2405,-31.5 2411,-25.5 2417,-25.5 2417,-25.5 2554,-25.5 2554,-25.5 2560,-25.5 2566,-31.5 2566,-37.5 2566,-37.5 2566,-66.5 2566,-66.5 2566,-72.5 2560,-78.5 2554,-78.5\"/>\n<text text-anchor=\"start\" x=\"2413\" y=\"-63.3\" font-family=\"Helvetica,sans-Serif\" font-size=\"14.00\" fill=\"#000000\">squared_error = 52.45</text>\n<text text-anchor=\"start\" x=\"2437.5\" y=\"-48.3\" font-family=\"Helvetica,sans-Serif\" font-size=\"14.00\" fill=\"#000000\">samples = 328</text>\n<text text-anchor=\"start\" x=\"2439\" y=\"-33.3\" font-family=\"Helvetica,sans-Serif\" font-size=\"14.00\" fill=\"#000000\">value = &#45;28.83</text>\n</g>\n<!-- 23&#45;&gt;28 -->\n<g id=\"edge27\" class=\"edge\">\n<title>23&#45;&gt;28</title>\n<path fill=\"none\" stroke=\"#000000\" d=\"M2386.4179,-222.6876C2408.2244,-185.1218 2443.0125,-125.1928 2465.0337,-87.2571\"/>\n<polygon fill=\"#000000\" stroke=\"#000000\" points=\"2468.0771,-88.9858 2470.0705,-78.5802 2462.0232,-85.4715 2468.0771,-88.9858\"/>\n</g>\n<!-- 25 -->\n<g id=\"node30\" class=\"node\">\n<title>25</title>\n<path fill=\"#fef9f6\" stroke=\"#000000\" d=\"M2733,-78.5C2733,-78.5 2596,-78.5 2596,-78.5 2590,-78.5 2584,-72.5 2584,-66.5 2584,-66.5 2584,-37.5 2584,-37.5 2584,-31.5 2590,-25.5 2596,-25.5 2596,-25.5 2733,-25.5 2733,-25.5 2739,-25.5 2745,-31.5 2745,-37.5 2745,-37.5 2745,-66.5 2745,-66.5 2745,-72.5 2739,-78.5 2733,-78.5\"/>\n<text text-anchor=\"start\" x=\"2592\" y=\"-63.3\" font-family=\"Helvetica,sans-Serif\" font-size=\"14.00\" fill=\"#000000\">squared_error = 130.5</text>\n<text text-anchor=\"start\" x=\"2616.5\" y=\"-48.3\" font-family=\"Helvetica,sans-Serif\" font-size=\"14.00\" fill=\"#000000\">samples = 268</text>\n<text text-anchor=\"start\" x=\"2618\" y=\"-33.3\" font-family=\"Helvetica,sans-Serif\" font-size=\"14.00\" fill=\"#000000\">value = &#45;39.82</text>\n</g>\n<!-- 24&#45;&gt;25 -->\n<g id=\"edge29\" class=\"edge\">\n<title>24&#45;&gt;25</title>\n<path fill=\"none\" stroke=\"#000000\" d=\"M2664.5,-222.6876C2664.5,-185.5973 2664.5,-126.7064 2664.5,-88.7081\"/>\n<polygon fill=\"#000000\" stroke=\"#000000\" points=\"2668.0001,-88.5801 2664.5,-78.5802 2661.0001,-88.5802 2668.0001,-88.5801\"/>\n</g>\n<!-- 26 -->\n<g id=\"node31\" class=\"node\">\n<title>26</title>\n<path fill=\"#f6d2b8\" stroke=\"#000000\" d=\"M2920,-78.5C2920,-78.5 2775,-78.5 2775,-78.5 2769,-78.5 2763,-72.5 2763,-66.5 2763,-66.5 2763,-37.5 2763,-37.5 2763,-31.5 2769,-25.5 2775,-25.5 2775,-25.5 2920,-25.5 2920,-25.5 2926,-25.5 2932,-31.5 2932,-37.5 2932,-37.5 2932,-66.5 2932,-66.5 2932,-72.5 2926,-78.5 2920,-78.5\"/>\n<text text-anchor=\"start\" x=\"2771\" y=\"-63.3\" font-family=\"Helvetica,sans-Serif\" font-size=\"14.00\" fill=\"#000000\">squared_error = 165.12</text>\n<text text-anchor=\"start\" x=\"2795.5\" y=\"-48.3\" font-family=\"Helvetica,sans-Serif\" font-size=\"14.00\" fill=\"#000000\">samples = 1643</text>\n<text text-anchor=\"start\" x=\"2801\" y=\"-33.3\" font-family=\"Helvetica,sans-Serif\" font-size=\"14.00\" fill=\"#000000\">value = &#45;22.81</text>\n</g>\n<!-- 24&#45;&gt;26 -->\n<g id=\"edge30\" class=\"edge\">\n<title>24&#45;&gt;26</title>\n<path fill=\"none\" stroke=\"#000000\" d=\"M2695.1301,-222.6876C2728.9474,-184.8048 2783.0664,-124.1798 2816.8797,-86.3014\"/>\n<polygon fill=\"#000000\" stroke=\"#000000\" points=\"2819.7239,-88.371 2823.7723,-78.5802 2814.5019,-83.7094 2819.7239,-88.371\"/>\n</g>\n</g>\n</svg>\n"
          },
          "metadata": {},
          "execution_count": 62
        }
      ]
    },
    {
      "cell_type": "code",
      "source": [
        "m = DecisionTreeRegressor(min_samples_leaf=10)\n",
        "m.fit(xs, y);"
      ],
      "metadata": {
        "id": "_wto32TJkud4"
      },
      "execution_count": 63,
      "outputs": []
    },
    {
      "cell_type": "code",
      "source": [
        "def r_mse(pred,y): return round(math.sqrt(((pred-y)**2).mean()), 6)\n",
        "def m_rmse(m, xs, y): return r_mse(m.predict(xs), y)"
      ],
      "metadata": {
        "id": "D53phc2JE5RC"
      },
      "execution_count": 64,
      "outputs": []
    },
    {
      "cell_type": "code",
      "source": [
        "m_rmse(m, xs, y)"
      ],
      "metadata": {
        "colab": {
          "base_uri": "https://localhost:8080/"
        },
        "id": "8CYcTQHLHT4m",
        "outputId": "d3b053c2-d3bf-4691-e635-0ad9979624bb"
      },
      "execution_count": 65,
      "outputs": [
        {
          "output_type": "execute_result",
          "data": {
            "text/plain": [
              "4.569797"
            ]
          },
          "metadata": {},
          "execution_count": 65
        }
      ]
    },
    {
      "cell_type": "code",
      "source": [
        "m_rmse(m, valid_xs, valid_y)"
      ],
      "metadata": {
        "colab": {
          "base_uri": "https://localhost:8080/"
        },
        "id": "_oElvFDHHZHm",
        "outputId": "f921482d-75ca-4b27-bfc2-7059187dffc9"
      },
      "execution_count": 66,
      "outputs": [
        {
          "output_type": "execute_result",
          "data": {
            "text/plain": [
              "16.795718"
            ]
          },
          "metadata": {},
          "execution_count": 66
        }
      ]
    },
    {
      "cell_type": "code",
      "source": [
        "def rf_feat_importance(m, df):\n",
        "    return pd.DataFrame({'cols':df.columns, 'imp':m.feature_importances_}\n",
        "                       ).sort_values('imp', ascending=False)"
      ],
      "metadata": {
        "id": "oCKCSQSlab4o"
      },
      "execution_count": 67,
      "outputs": []
    },
    {
      "cell_type": "code",
      "source": [
        "fi = rf_feat_importance(m, xs)\n",
        "fi[:10]"
      ],
      "metadata": {
        "colab": {
          "base_uri": "https://localhost:8080/",
          "height": 363
        },
        "id": "jxENiQDXlYKl",
        "outputId": "6be38047-e527-4600-a453-c5ca30b815ae"
      },
      "execution_count": 68,
      "outputs": [
        {
          "output_type": "execute_result",
          "data": {
            "text/plain": [
              "                                                             cols       imp\n",
              "18                                  lastReportedPosition.speedMPH  0.633494\n",
              "19  lastReportedPosition.milepostLocation.milepost.milepostNumber  0.068935\n",
              "45                       lastReportedPosition.positionTimeElapsed  0.047765\n",
              "3                                             trainId.trainSymbol  0.044971\n",
              "7                                                          mpIncr  0.037607\n",
              "4                                               trainId.trainDate  0.019190\n",
              "0                                             ptcLeadLocomotiveId  0.015381\n",
              "37                                                    trainLength  0.014140\n",
              "9                                                   workLocations  0.013605\n",
              "36                                                  emptyCarCount  0.013377"
            ],
            "text/html": [
              "\n",
              "  <div id=\"df-3ea37738-e7bf-4c1e-b193-2b5bd77c20cd\">\n",
              "    <div class=\"colab-df-container\">\n",
              "      <div>\n",
              "<style scoped>\n",
              "    .dataframe tbody tr th:only-of-type {\n",
              "        vertical-align: middle;\n",
              "    }\n",
              "\n",
              "    .dataframe tbody tr th {\n",
              "        vertical-align: top;\n",
              "    }\n",
              "\n",
              "    .dataframe thead th {\n",
              "        text-align: right;\n",
              "    }\n",
              "</style>\n",
              "<table border=\"1\" class=\"dataframe\">\n",
              "  <thead>\n",
              "    <tr style=\"text-align: right;\">\n",
              "      <th></th>\n",
              "      <th>cols</th>\n",
              "      <th>imp</th>\n",
              "    </tr>\n",
              "  </thead>\n",
              "  <tbody>\n",
              "    <tr>\n",
              "      <th>18</th>\n",
              "      <td>lastReportedPosition.speedMPH</td>\n",
              "      <td>0.633494</td>\n",
              "    </tr>\n",
              "    <tr>\n",
              "      <th>19</th>\n",
              "      <td>lastReportedPosition.milepostLocation.milepost.milepostNumber</td>\n",
              "      <td>0.068935</td>\n",
              "    </tr>\n",
              "    <tr>\n",
              "      <th>45</th>\n",
              "      <td>lastReportedPosition.positionTimeElapsed</td>\n",
              "      <td>0.047765</td>\n",
              "    </tr>\n",
              "    <tr>\n",
              "      <th>3</th>\n",
              "      <td>trainId.trainSymbol</td>\n",
              "      <td>0.044971</td>\n",
              "    </tr>\n",
              "    <tr>\n",
              "      <th>7</th>\n",
              "      <td>mpIncr</td>\n",
              "      <td>0.037607</td>\n",
              "    </tr>\n",
              "    <tr>\n",
              "      <th>4</th>\n",
              "      <td>trainId.trainDate</td>\n",
              "      <td>0.019190</td>\n",
              "    </tr>\n",
              "    <tr>\n",
              "      <th>0</th>\n",
              "      <td>ptcLeadLocomotiveId</td>\n",
              "      <td>0.015381</td>\n",
              "    </tr>\n",
              "    <tr>\n",
              "      <th>37</th>\n",
              "      <td>trainLength</td>\n",
              "      <td>0.014140</td>\n",
              "    </tr>\n",
              "    <tr>\n",
              "      <th>9</th>\n",
              "      <td>workLocations</td>\n",
              "      <td>0.013605</td>\n",
              "    </tr>\n",
              "    <tr>\n",
              "      <th>36</th>\n",
              "      <td>emptyCarCount</td>\n",
              "      <td>0.013377</td>\n",
              "    </tr>\n",
              "  </tbody>\n",
              "</table>\n",
              "</div>\n",
              "      <button class=\"colab-df-convert\" onclick=\"convertToInteractive('df-3ea37738-e7bf-4c1e-b193-2b5bd77c20cd')\"\n",
              "              title=\"Convert this dataframe to an interactive table.\"\n",
              "              style=\"display:none;\">\n",
              "        \n",
              "  <svg xmlns=\"http://www.w3.org/2000/svg\" height=\"24px\"viewBox=\"0 0 24 24\"\n",
              "       width=\"24px\">\n",
              "    <path d=\"M0 0h24v24H0V0z\" fill=\"none\"/>\n",
              "    <path d=\"M18.56 5.44l.94 2.06.94-2.06 2.06-.94-2.06-.94-.94-2.06-.94 2.06-2.06.94zm-11 1L8.5 8.5l.94-2.06 2.06-.94-2.06-.94L8.5 2.5l-.94 2.06-2.06.94zm10 10l.94 2.06.94-2.06 2.06-.94-2.06-.94-.94-2.06-.94 2.06-2.06.94z\"/><path d=\"M17.41 7.96l-1.37-1.37c-.4-.4-.92-.59-1.43-.59-.52 0-1.04.2-1.43.59L10.3 9.45l-7.72 7.72c-.78.78-.78 2.05 0 2.83L4 21.41c.39.39.9.59 1.41.59.51 0 1.02-.2 1.41-.59l7.78-7.78 2.81-2.81c.8-.78.8-2.07 0-2.86zM5.41 20L4 18.59l7.72-7.72 1.47 1.35L5.41 20z\"/>\n",
              "  </svg>\n",
              "      </button>\n",
              "      \n",
              "  <style>\n",
              "    .colab-df-container {\n",
              "      display:flex;\n",
              "      flex-wrap:wrap;\n",
              "      gap: 12px;\n",
              "    }\n",
              "\n",
              "    .colab-df-convert {\n",
              "      background-color: #E8F0FE;\n",
              "      border: none;\n",
              "      border-radius: 50%;\n",
              "      cursor: pointer;\n",
              "      display: none;\n",
              "      fill: #1967D2;\n",
              "      height: 32px;\n",
              "      padding: 0 0 0 0;\n",
              "      width: 32px;\n",
              "    }\n",
              "\n",
              "    .colab-df-convert:hover {\n",
              "      background-color: #E2EBFA;\n",
              "      box-shadow: 0px 1px 2px rgba(60, 64, 67, 0.3), 0px 1px 3px 1px rgba(60, 64, 67, 0.15);\n",
              "      fill: #174EA6;\n",
              "    }\n",
              "\n",
              "    [theme=dark] .colab-df-convert {\n",
              "      background-color: #3B4455;\n",
              "      fill: #D2E3FC;\n",
              "    }\n",
              "\n",
              "    [theme=dark] .colab-df-convert:hover {\n",
              "      background-color: #434B5C;\n",
              "      box-shadow: 0px 1px 3px 1px rgba(0, 0, 0, 0.15);\n",
              "      filter: drop-shadow(0px 1px 2px rgba(0, 0, 0, 0.3));\n",
              "      fill: #FFFFFF;\n",
              "    }\n",
              "  </style>\n",
              "\n",
              "      <script>\n",
              "        const buttonEl =\n",
              "          document.querySelector('#df-3ea37738-e7bf-4c1e-b193-2b5bd77c20cd button.colab-df-convert');\n",
              "        buttonEl.style.display =\n",
              "          google.colab.kernel.accessAllowed ? 'block' : 'none';\n",
              "\n",
              "        async function convertToInteractive(key) {\n",
              "          const element = document.querySelector('#df-3ea37738-e7bf-4c1e-b193-2b5bd77c20cd');\n",
              "          const dataTable =\n",
              "            await google.colab.kernel.invokeFunction('convertToInteractive',\n",
              "                                                     [key], {});\n",
              "          if (!dataTable) return;\n",
              "\n",
              "          const docLinkHtml = 'Like what you see? Visit the ' +\n",
              "            '<a target=\"_blank\" href=https://colab.research.google.com/notebooks/data_table.ipynb>data table notebook</a>'\n",
              "            + ' to learn more about interactive tables.';\n",
              "          element.innerHTML = '';\n",
              "          dataTable['output_type'] = 'display_data';\n",
              "          await google.colab.output.renderOutput(dataTable, element);\n",
              "          const docLink = document.createElement('div');\n",
              "          docLink.innerHTML = docLinkHtml;\n",
              "          element.appendChild(docLink);\n",
              "        }\n",
              "      </script>\n",
              "    </div>\n",
              "  </div>\n",
              "  "
            ]
          },
          "metadata": {},
          "execution_count": 68
        }
      ]
    },
    {
      "cell_type": "markdown",
      "source": [
        "Our first result! It appears the previous speed is so heavily influencing the next speed, it swamps everything else."
      ],
      "metadata": {
        "id": "GAU4iShuUTlj"
      }
    },
    {
      "cell_type": "code",
      "source": [
        "ax = xs['lastReportedPosition.speedMPH'].hist(bins=60)\n"
      ],
      "metadata": {
        "colab": {
          "base_uri": "https://localhost:8080/",
          "height": 265
        },
        "id": "W_xHGvS4mTAv",
        "outputId": "af9075d2-dbb4-4d47-a1c9-4aa2ed199cba"
      },
      "execution_count": 69,
      "outputs": [
        {
          "output_type": "display_data",
          "data": {
            "text/plain": [
              "<Figure size 432x288 with 1 Axes>"
            ],
            "image/png": "[encoded data removed]"
          },
          "metadata": {
            "needs_background": "light"
          }
        }
      ]
    },
    {
      "cell_type": "code",
      "source": [
        "from sklearn.inspection import plot_partial_dependence\n",
        "\n",
        "fig,ax = plt.subplots(figsize=(12, 4))\n",
        "plot_partial_dependence(m, xs, ['lastReportedPosition.speedMPH'],\n",
        "                        grid_resolution=20, ax=ax);"
      ],
      "metadata": {
        "colab": {
          "base_uri": "https://localhost:8080/",
          "height": 334
        },
        "id": "dVfYTqKvniXo",
        "outputId": "2a940b5b-957a-4f35-8441-1de01671fda8"
      },
      "execution_count": 70,
      "outputs": [
        {
          "output_type": "stream",
          "name": "stderr",
          "text": [
            "/usr/local/lib/python3.7/dist-packages/sklearn/utils/deprecation.py:87: FutureWarning: Function plot_partial_dependence is deprecated; Function `plot_partial_dependence` is deprecated in 1.0 and will be removed in 1.2. Use PartialDependenceDisplay.from_estimator instead\n",
            "  warnings.warn(msg, category=FutureWarning)\n"
          ]
        },
        {
          "output_type": "display_data",
          "data": {
            "text/plain": [
              "<Figure size 864x288 with 2 Axes>"
            ],
            "image/png": "[encoded data removed]"
          },
          "metadata": {
            "needs_background": "light"
          }
        }
      ]
    },
    {
      "cell_type": "markdown",
      "source": [
        "This is sort of a dur moment, saying \"Speeds don't change a lot one milepost to the next\".  "
      ],
      "metadata": {
        "id": "CmpVELOUoF-l"
      }
    },
    {
      "cell_type": "markdown",
      "source": [
        "#Random Forest"
      ],
      "metadata": {
        "id": "-iGNWlJDmQrV"
      }
    },
    {
      "cell_type": "code",
      "source": [
        "def randomForest(xs, y, n_estimators=50, max_samples=2500,\n",
        "       max_features=0.5, min_samples_leaf=5, **kwargs):\n",
        "    return RandomForestRegressor(n_jobs=-1, n_estimators=n_estimators,\n",
        "        max_samples=max_samples, max_features=max_features,\n",
        "        min_samples_leaf=min_samples_leaf, oob_score=True).fit(xs, y)"
      ],
      "metadata": {
        "id": "FllkOgNkUTGW"
      },
      "execution_count": 93,
      "outputs": []
    },
    {
      "cell_type": "code",
      "source": [
        "m = randomForest(xs, y);"
      ],
      "metadata": {
        "id": "OqX5AcTWVRXE"
      },
      "execution_count": 94,
      "outputs": []
    },
    {
      "cell_type": "code",
      "source": [
        "m_rmse(m, xs, y), m_rmse(m, valid_xs, valid_y)"
      ],
      "metadata": {
        "colab": {
          "base_uri": "https://localhost:8080/"
        },
        "id": "33ncywqjVcwn",
        "outputId": "a93f9fdd-ff07-40f4-febd-66fc4a038ccf"
      },
      "execution_count": 95,
      "outputs": [
        {
          "output_type": "execute_result",
          "data": {
            "text/plain": [
              "(6.846525, 12.728261)"
            ]
          },
          "metadata": {},
          "execution_count": 95
        }
      ]
    },
    {
      "cell_type": "code",
      "source": [
        "preds = np.stack([t.predict(valid_xs) for t in m.estimators_])"
      ],
      "metadata": {
        "id": "Dg6iyZCIW0Nt"
      },
      "execution_count": null,
      "outputs": []
    },
    {
      "cell_type": "code",
      "source": [
        "r_mse(preds.mean(0), valid_y)"
      ],
      "metadata": {
        "id": "5UldrkUhXFbi",
        "outputId": "e19786ee-27b4-45ce-e900-55ba2d1e4c06",
        "colab": {
          "base_uri": "https://localhost:8080/"
        }
      },
      "execution_count": 97,
      "outputs": [
        {
          "output_type": "execute_result",
          "data": {
            "text/plain": [
              "12.728261"
            ]
          },
          "metadata": {},
          "execution_count": 97
        }
      ]
    },
    {
      "cell_type": "code",
      "source": [
        "plt.plot([r_mse(preds[:i+1].mean(0), valid_y) for i in range(50)]);"
      ],
      "metadata": {
        "colab": {
          "base_uri": "https://localhost:8080/",
          "height": 265
        },
        "id": "eT0fXh6uXIp1",
        "outputId": "b97bb707-7931-4c1c-bda2-651ca090aefd"
      },
      "execution_count": 98,
      "outputs": [
        {
          "output_type": "display_data",
          "data": {
            "text/plain": [
              "<Figure size 432x288 with 1 Axes>"
            ],
            "image/png": "[encoded data removed]"
          },
          "metadata": {
            "needs_background": "light"
          }
        }
      ]
    },
    {
      "cell_type": "markdown",
      "source": [
        "### Out-of-Bag Error"
      ],
      "metadata": {
        "id": "GN-VS3_2YsOd"
      }
    },
    {
      "cell_type": "code",
      "source": [
        "r_mse(m.oob_prediction_, y)"
      ],
      "metadata": {
        "colab": {
          "base_uri": "https://localhost:8080/"
        },
        "id": "tvwS19-6Yc20",
        "outputId": "b43238bc-2eaa-4476-d791-2b4da836988e"
      },
      "execution_count": 99,
      "outputs": [
        {
          "output_type": "execute_result",
          "data": {
            "text/plain": [
              "7.185803"
            ]
          },
          "metadata": {},
          "execution_count": 99
        }
      ]
    },
    {
      "cell_type": "code",
      "source": [
        ""
      ],
      "metadata": {
        "id": "URHsHfuMZDAS"
      },
      "execution_count": 99,
      "outputs": []
    },
    {
      "cell_type": "markdown",
      "source": [
        "- How confident are we in our predictions using a particular row of data?\n",
        "- For predicting with a particular row of data, what were the most important factors, and how did they influence that prediction?\n",
        "- Which columns are the strongest predictors, which can we ignore?\n",
        "- Which columns are effectively redundant with each other, for purposes of prediction?\n",
        "- How do predictions vary, as we vary these columns?\n"
      ],
      "metadata": {
        "id": "-jSxQWTZZDfx"
      }
    },
    {
      "cell_type": "code",
      "source": [
        "preds = np.stack([t.predict(valid_xs) for t in m.estimators_])"
      ],
      "metadata": {
        "id": "eS53q1RUZRva"
      },
      "execution_count": null,
      "outputs": []
    },
    {
      "cell_type": "code",
      "source": [
        "preds.shape"
      ],
      "metadata": {
        "colab": {
          "base_uri": "https://localhost:8080/"
        },
        "id": "quArhZFkZtq_",
        "outputId": "144cc66d-8809-44ae-9564-6ae190b062d0"
      },
      "execution_count": 101,
      "outputs": [
        {
          "output_type": "execute_result",
          "data": {
            "text/plain": [
              "(50, 10009)"
            ]
          },
          "metadata": {},
          "execution_count": 101
        }
      ]
    },
    {
      "cell_type": "code",
      "source": [
        "preds_std = preds.std(0)"
      ],
      "metadata": {
        "id": "xZCBhV9MZxSH"
      },
      "execution_count": 102,
      "outputs": []
    },
    {
      "cell_type": "code",
      "source": [
        "preds_std[:5]"
      ],
      "metadata": {
        "colab": {
          "base_uri": "https://localhost:8080/"
        },
        "id": "ZvKvldDdZ44S",
        "outputId": "e16a13ea-112e-4573-9670-a322af4deee2"
      },
      "execution_count": 103,
      "outputs": [
        {
          "output_type": "execute_result",
          "data": {
            "text/plain": [
              "array([ 7.44546566, 10.18999771, 11.033761  , 11.27399834, 12.01187671])"
            ]
          },
          "metadata": {},
          "execution_count": 103
        }
      ]
    },
    {
      "cell_type": "code",
      "source": [
        "print(preds.mean(0)[:10])\n",
        "print(valid_y[:10])\n",
        "valid_y"
      ],
      "metadata": {
        "id": "ispifOrY-VK3",
        "outputId": "292027b0-e28c-4a27-a84c-97c5da7c59f4",
        "colab": {
          "base_uri": "https://localhost:8080/"
        }
      },
      "execution_count": 114,
      "outputs": [
        {
          "output_type": "stream",
          "name": "stdout",
          "text": [
            "[ 1.54218038 -0.69016667  1.4146746   2.05086508  2.83321429 -0.44680952  4.40793362  4.999386    4.999386    8.68016378]\n",
            "20    -1\n",
            "21   -10\n",
            "22    19\n",
            "23    19\n",
            "24    20\n",
            "25    21\n",
            "26    -9\n",
            "27   -10\n",
            "28   -10\n",
            "29    19\n",
            "Name: nextSpeed, dtype: int8\n"
          ]
        },
        {
          "output_type": "execute_result",
          "data": {
            "text/plain": [
              "20       -1\n",
              "21      -10\n",
              "22       19\n",
              "23       19\n",
              "24       20\n",
              "         ..\n",
              "33457     7\n",
              "33458    -3\n",
              "33459   -12\n",
              "33460   -16\n",
              "33461    -8\n",
              "Name: nextSpeed, Length: 10009, dtype: int8"
            ]
          },
          "metadata": {},
          "execution_count": 114
        }
      ]
    },
    {
      "cell_type": "markdown",
      "source": [
        "# FEATURE Importance"
      ],
      "metadata": {
        "id": "tkENwKVIaPXc"
      }
    },
    {
      "cell_type": "code",
      "source": [
        "fi = rf_feat_importance(m, xs)\n",
        "fi[:20]"
      ],
      "metadata": {
        "colab": {
          "base_uri": "https://localhost:8080/",
          "height": 676
        },
        "id": "_xddcBHXaj9O",
        "outputId": "8ee87ec6-658d-4cdd-e1cd-5d33b5d7710c"
      },
      "execution_count": 82,
      "outputs": [
        {
          "output_type": "execute_result",
          "data": {
            "text/plain": [
              "                                                             cols       imp\n",
              "18                                  lastReportedPosition.speedMPH  0.542826\n",
              "7                                                          mpIncr  0.083391\n",
              "19  lastReportedPosition.milepostLocation.milepost.milepostNumber  0.069671\n",
              "39                                                       milepost  0.051558\n",
              "3                                             trainId.trainSymbol  0.030732\n",
              "45                       lastReportedPosition.positionTimeElapsed  0.029280\n",
              "38                                                trailingTonnage  0.017984\n",
              "25                                   aotuTrainData.totalCarLength  0.016898\n",
              "6                 lastReportedPosition.milepostLocation.trackName  0.015833\n",
              "24                                   aotuTrainData.totalCarWeight  0.015070\n",
              "37                                                    trainLength  0.014479\n",
              "26                            aotuTrainData.totalLocomotiveWeight  0.013389\n",
              "4                                               trainId.trainDate  0.012696\n",
              "0                                             ptcLeadLocomotiveId  0.012040\n",
              "35                                                 loadedCarCount  0.010438\n",
              "27                            aotuTrainData.totalLocomotiveLength  0.010305\n",
              "36                                                  emptyCarCount  0.009714\n",
              "9                                                   workLocations  0.008890\n",
              "29                              aotuTrainData.heavy143TonCarCount  0.007692\n",
              "20                                     aotuTrainData.priorityCode  0.006257"
            ],
            "text/html": [
              "\n",
              "  <div id=\"df-af60a9c4-d079-4dd2-816d-a4ee159e7d7c\">\n",
              "    <div class=\"colab-df-container\">\n",
              "      <div>\n",
              "<style scoped>\n",
              "    .dataframe tbody tr th:only-of-type {\n",
              "        vertical-align: middle;\n",
              "    }\n",
              "\n",
              "    .dataframe tbody tr th {\n",
              "        vertical-align: top;\n",
              "    }\n",
              "\n",
              "    .dataframe thead th {\n",
              "        text-align: right;\n",
              "    }\n",
              "</style>\n",
              "<table border=\"1\" class=\"dataframe\">\n",
              "  <thead>\n",
              "    <tr style=\"text-align: right;\">\n",
              "      <th></th>\n",
              "      <th>cols</th>\n",
              "      <th>imp</th>\n",
              "    </tr>\n",
              "  </thead>\n",
              "  <tbody>\n",
              "    <tr>\n",
              "      <th>18</th>\n",
              "      <td>lastReportedPosition.speedMPH</td>\n",
              "      <td>0.542826</td>\n",
              "    </tr>\n",
              "    <tr>\n",
              "      <th>7</th>\n",
              "      <td>mpIncr</td>\n",
              "      <td>0.083391</td>\n",
              "    </tr>\n",
              "    <tr>\n",
              "      <th>19</th>\n",
              "      <td>lastReportedPosition.milepostLocation.milepost.milepostNumber</td>\n",
              "      <td>0.069671</td>\n",
              "    </tr>\n",
              "    <tr>\n",
              "      <th>39</th>\n",
              "      <td>milepost</td>\n",
              "      <td>0.051558</td>\n",
              "    </tr>\n",
              "    <tr>\n",
              "      <th>3</th>\n",
              "      <td>trainId.trainSymbol</td>\n",
              "      <td>0.030732</td>\n",
              "    </tr>\n",
              "    <tr>\n",
              "      <th>45</th>\n",
              "      <td>lastReportedPosition.positionTimeElapsed</td>\n",
              "      <td>0.029280</td>\n",
              "    </tr>\n",
              "    <tr>\n",
              "      <th>38</th>\n",
              "      <td>trailingTonnage</td>\n",
              "      <td>0.017984</td>\n",
              "    </tr>\n",
              "    <tr>\n",
              "      <th>25</th>\n",
              "      <td>aotuTrainData.totalCarLength</td>\n",
              "      <td>0.016898</td>\n",
              "    </tr>\n",
              "    <tr>\n",
              "      <th>6</th>\n",
              "      <td>lastReportedPosition.milepostLocation.trackName</td>\n",
              "      <td>0.015833</td>\n",
              "    </tr>\n",
              "    <tr>\n",
              "      <th>24</th>\n",
              "      <td>aotuTrainData.totalCarWeight</td>\n",
              "      <td>0.015070</td>\n",
              "    </tr>\n",
              "    <tr>\n",
              "      <th>37</th>\n",
              "      <td>trainLength</td>\n",
              "      <td>0.014479</td>\n",
              "    </tr>\n",
              "    <tr>\n",
              "      <th>26</th>\n",
              "      <td>aotuTrainData.totalLocomotiveWeight</td>\n",
              "      <td>0.013389</td>\n",
              "    </tr>\n",
              "    <tr>\n",
              "      <th>4</th>\n",
              "      <td>trainId.trainDate</td>\n",
              "      <td>0.012696</td>\n",
              "    </tr>\n",
              "    <tr>\n",
              "      <th>0</th>\n",
              "      <td>ptcLeadLocomotiveId</td>\n",
              "      <td>0.012040</td>\n",
              "    </tr>\n",
              "    <tr>\n",
              "      <th>35</th>\n",
              "      <td>loadedCarCount</td>\n",
              "      <td>0.010438</td>\n",
              "    </tr>\n",
              "    <tr>\n",
              "      <th>27</th>\n",
              "      <td>aotuTrainData.totalLocomotiveLength</td>\n",
              "      <td>0.010305</td>\n",
              "    </tr>\n",
              "    <tr>\n",
              "      <th>36</th>\n",
              "      <td>emptyCarCount</td>\n",
              "      <td>0.009714</td>\n",
              "    </tr>\n",
              "    <tr>\n",
              "      <th>9</th>\n",
              "      <td>workLocations</td>\n",
              "      <td>0.008890</td>\n",
              "    </tr>\n",
              "    <tr>\n",
              "      <th>29</th>\n",
              "      <td>aotuTrainData.heavy143TonCarCount</td>\n",
              "      <td>0.007692</td>\n",
              "    </tr>\n",
              "    <tr>\n",
              "      <th>20</th>\n",
              "      <td>aotuTrainData.priorityCode</td>\n",
              "      <td>0.006257</td>\n",
              "    </tr>\n",
              "  </tbody>\n",
              "</table>\n",
              "</div>\n",
              "      <button class=\"colab-df-convert\" onclick=\"convertToInteractive('df-af60a9c4-d079-4dd2-816d-a4ee159e7d7c')\"\n",
              "              title=\"Convert this dataframe to an interactive table.\"\n",
              "              style=\"display:none;\">\n",
              "        \n",
              "  <svg xmlns=\"http://www.w3.org/2000/svg\" height=\"24px\"viewBox=\"0 0 24 24\"\n",
              "       width=\"24px\">\n",
              "    <path d=\"M0 0h24v24H0V0z\" fill=\"none\"/>\n",
              "    <path d=\"M18.56 5.44l.94 2.06.94-2.06 2.06-.94-2.06-.94-.94-2.06-.94 2.06-2.06.94zm-11 1L8.5 8.5l.94-2.06 2.06-.94-2.06-.94L8.5 2.5l-.94 2.06-2.06.94zm10 10l.94 2.06.94-2.06 2.06-.94-2.06-.94-.94-2.06-.94 2.06-2.06.94z\"/><path d=\"M17.41 7.96l-1.37-1.37c-.4-.4-.92-.59-1.43-.59-.52 0-1.04.2-1.43.59L10.3 9.45l-7.72 7.72c-.78.78-.78 2.05 0 2.83L4 21.41c.39.39.9.59 1.41.59.51 0 1.02-.2 1.41-.59l7.78-7.78 2.81-2.81c.8-.78.8-2.07 0-2.86zM5.41 20L4 18.59l7.72-7.72 1.47 1.35L5.41 20z\"/>\n",
              "  </svg>\n",
              "      </button>\n",
              "      \n",
              "  <style>\n",
              "    .colab-df-container {\n",
              "      display:flex;\n",
              "      flex-wrap:wrap;\n",
              "      gap: 12px;\n",
              "    }\n",
              "\n",
              "    .colab-df-convert {\n",
              "      background-color: #E8F0FE;\n",
              "      border: none;\n",
              "      border-radius: 50%;\n",
              "      cursor: pointer;\n",
              "      display: none;\n",
              "      fill: #1967D2;\n",
              "      height: 32px;\n",
              "      padding: 0 0 0 0;\n",
              "      width: 32px;\n",
              "    }\n",
              "\n",
              "    .colab-df-convert:hover {\n",
              "      background-color: #E2EBFA;\n",
              "      box-shadow: 0px 1px 2px rgba(60, 64, 67, 0.3), 0px 1px 3px 1px rgba(60, 64, 67, 0.15);\n",
              "      fill: #174EA6;\n",
              "    }\n",
              "\n",
              "    [theme=dark] .colab-df-convert {\n",
              "      background-color: #3B4455;\n",
              "      fill: #D2E3FC;\n",
              "    }\n",
              "\n",
              "    [theme=dark] .colab-df-convert:hover {\n",
              "      background-color: #434B5C;\n",
              "      box-shadow: 0px 1px 3px 1px rgba(0, 0, 0, 0.15);\n",
              "      filter: drop-shadow(0px 1px 2px rgba(0, 0, 0, 0.3));\n",
              "      fill: #FFFFFF;\n",
              "    }\n",
              "  </style>\n",
              "\n",
              "      <script>\n",
              "        const buttonEl =\n",
              "          document.querySelector('#df-af60a9c4-d079-4dd2-816d-a4ee159e7d7c button.colab-df-convert');\n",
              "        buttonEl.style.display =\n",
              "          google.colab.kernel.accessAllowed ? 'block' : 'none';\n",
              "\n",
              "        async function convertToInteractive(key) {\n",
              "          const element = document.querySelector('#df-af60a9c4-d079-4dd2-816d-a4ee159e7d7c');\n",
              "          const dataTable =\n",
              "            await google.colab.kernel.invokeFunction('convertToInteractive',\n",
              "                                                     [key], {});\n",
              "          if (!dataTable) return;\n",
              "\n",
              "          const docLinkHtml = 'Like what you see? Visit the ' +\n",
              "            '<a target=\"_blank\" href=https://colab.research.google.com/notebooks/data_table.ipynb>data table notebook</a>'\n",
              "            + ' to learn more about interactive tables.';\n",
              "          element.innerHTML = '';\n",
              "          dataTable['output_type'] = 'display_data';\n",
              "          await google.colab.output.renderOutput(dataTable, element);\n",
              "          const docLink = document.createElement('div');\n",
              "          docLink.innerHTML = docLinkHtml;\n",
              "          element.appendChild(docLink);\n",
              "        }\n",
              "      </script>\n",
              "    </div>\n",
              "  </div>\n",
              "  "
            ]
          },
          "metadata": {},
          "execution_count": 82
        }
      ]
    },
    {
      "cell_type": "code",
      "source": [
        "def plot_fi(fi):\n",
        "    return fi.plot('cols', 'imp', 'barh', figsize=(12,7), legend=False)\n",
        "\n",
        "plot_fi(fi[:30]);"
      ],
      "metadata": {
        "colab": {
          "base_uri": "https://localhost:8080/",
          "height": 428
        },
        "id": "PrrzmK6AflwF",
        "outputId": "25a2c371-b1a6-4a02-8bde-ace160100738"
      },
      "execution_count": 83,
      "outputs": [
        {
          "output_type": "display_data",
          "data": {
            "text/plain": [
              "<Figure size 864x504 with 1 Axes>"
            ],
            "image/png": "[encoded data removed]"
          },
          "metadata": {
            "needs_background": "light"
          }
        }
      ]
    },
    {
      "cell_type": "markdown",
      "source": [
        "Remove low importance columns"
      ],
      "metadata": {
        "id": "ic6LbeWIf2EQ"
      }
    },
    {
      "cell_type": "code",
      "source": [
        "to_keep = fi[fi.imp>0.002].cols\n",
        "len(to_keep)"
      ],
      "metadata": {
        "colab": {
          "base_uri": "https://localhost:8080/"
        },
        "id": "jaWtqZdQfwmy",
        "outputId": "03fc867c-6504-4d6a-9bb9-3dd4b65ecc61"
      },
      "execution_count": 84,
      "outputs": [
        {
          "output_type": "execute_result",
          "data": {
            "text/plain": [
              "25"
            ]
          },
          "metadata": {},
          "execution_count": 84
        }
      ]
    },
    {
      "cell_type": "code",
      "source": [
        "xs_imp = xs[to_keep]\n",
        "valid_xs_imp = valid_xs[to_keep]"
      ],
      "metadata": {
        "id": "KK47uCFsgAYv"
      },
      "execution_count": 85,
      "outputs": []
    },
    {
      "cell_type": "code",
      "source": [
        "m = randomForest(xs_imp, y)"
      ],
      "metadata": {
        "id": "GgFy875_gGp4"
      },
      "execution_count": 86,
      "outputs": []
    },
    {
      "cell_type": "code",
      "source": [
        "m_rmse(m, xs_imp, y), m_rmse(m, valid_xs_imp, valid_y)"
      ],
      "metadata": {
        "colab": {
          "base_uri": "https://localhost:8080/"
        },
        "id": "5e5LZrqmgJf2",
        "outputId": "6c911c67-6249-4b08-8e85-00ae348e09e5"
      },
      "execution_count": 87,
      "outputs": [
        {
          "output_type": "execute_result",
          "data": {
            "text/plain": [
              "(6.89492, 12.572587)"
            ]
          },
          "metadata": {},
          "execution_count": 87
        }
      ]
    },
    {
      "cell_type": "code",
      "source": [
        "plot_fi(rf_feat_importance(m, xs_imp));"
      ],
      "metadata": {
        "colab": {
          "base_uri": "https://localhost:8080/",
          "height": 428
        },
        "id": "5Szx4cKsgKPL",
        "outputId": "1e5e136d-b856-445d-f579-ac387f5d1c23"
      },
      "execution_count": 88,
      "outputs": [
        {
          "output_type": "display_data",
          "data": {
            "text/plain": [
              "<Figure size 864x504 with 1 Axes>"
            ],
            "image/png": "[encoded data removed]"
          },
          "metadata": {
            "needs_background": "light"
          }
        }
      ]
    },
    {
      "cell_type": "code",
      "source": [
        "fastai.cluster_columns(xs_imp)"
      ],
      "metadata": {
        "colab": {
          "base_uri": "https://localhost:8080/",
          "height": 374
        },
        "id": "ZRqtok8LhwlR",
        "outputId": "135fc86b-fca5-403d-f200-2ecf4fe1e269"
      },
      "execution_count": 89,
      "outputs": [
        {
          "output_type": "display_data",
          "data": {
            "text/plain": [
              "<Figure size 720x432 with 1 Axes>"
            ],
            "image/png": "[encoded data removed]"
          },
          "metadata": {
            "needs_background": "light"
          }
        }
      ]
    }
  ],
  "metadata": {
    "colab": {
      "name": "MLModel1.ipynb",
      "provenance": [],
      "collapsed_sections": [],
      "include_colab_link": true
    },
    "interpreter": {
      "hash": "99fae7d265480b5fbb0cf965db398c4d2d7b17b55f6259418c7dbfe0de01ea90"
    },
    "kernelspec": {
      "display_name": "Python 3 (ipykernel)",
      "language": "python",
      "name": "python3"
    },
    "language_info": {
      "codemirror_mode": {
        "name": "ipython",
        "version": 3
      },
      "file_extension": ".py",
      "mimetype": "text/x-python",
      "name": "python",
      "nbconvert_exporter": "python",
      "pygments_lexer": "ipython3",
      "version": "3.9.12"
    }
  },
  "nbformat": 4,
  "nbformat_minor": 0
}