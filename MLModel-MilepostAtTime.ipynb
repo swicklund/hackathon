{
  "cells": [
    {
      "cell_type": "markdown",
      "metadata": {
        "id": "view-in-github",
        "colab_type": "text"
      },
      "source": [
        "<a href=\"https://colab.research.google.com/github/swicklund/hackathon/blob/main/MLModel-MilepostAtTime.ipynb\" target=\"_parent\"><img src=\"https://colab.research.google.com/assets/colab-badge.svg\" alt=\"Open In Colab\"/></a>"
      ]
    },
    {
      "cell_type": "code",
      "execution_count": 2,
      "metadata": {
        "id": "f18J8QM17E0a",
        "colab": {
          "base_uri": "https://localhost:8080/"
        },
        "outputId": "a7168597-1c13-4d86-d692-9a6318a2dbc5"
      },
      "outputs": [
        {
          "output_type": "stream",
          "name": "stdout",
          "text": [
            "\u001b[K     |████████████████████████████████| 719 kB 5.1 MB/s \n",
            "\u001b[K     |████████████████████████████████| 362 kB 42.6 MB/s \n",
            "\u001b[K     |████████████████████████████████| 4.4 MB 40.6 MB/s \n",
            "\u001b[K     |████████████████████████████████| 1.2 MB 26.1 MB/s \n",
            "\u001b[K     |████████████████████████████████| 101 kB 9.1 MB/s \n",
            "\u001b[K     |████████████████████████████████| 212 kB 49.3 MB/s \n",
            "\u001b[K     |████████████████████████████████| 140 kB 50.3 MB/s \n",
            "\u001b[K     |████████████████████████████████| 1.1 MB 37.9 MB/s \n",
            "\u001b[K     |████████████████████████████████| 596 kB 47.0 MB/s \n",
            "\u001b[K     |████████████████████████████████| 127 kB 49.3 MB/s \n",
            "\u001b[K     |████████████████████████████████| 94 kB 2.8 MB/s \n",
            "\u001b[K     |████████████████████████████████| 144 kB 55.2 MB/s \n",
            "\u001b[K     |████████████████████████████████| 271 kB 38.8 MB/s \n",
            "\u001b[K     |████████████████████████████████| 6.6 MB 35.1 MB/s \n",
            "\u001b[31mERROR: pip's dependency resolver does not currently take into account all the packages that are installed. This behaviour is the source of the following dependency conflicts.\n",
            "datascience 0.10.6 requires folium==0.2.1, but you have folium 0.8.3 which is incompatible.\u001b[0m\n",
            "\u001b[?25hLooking in indexes: https://pypi.org/simple, https://us-python.pkg.dev/colab-wheels/public/simple/\n",
            "Collecting dtreeviz\n",
            "  Downloading dtreeviz-1.3.6.tar.gz (61 kB)\n",
            "\u001b[K     |████████████████████████████████| 61 kB 168 kB/s \n",
            "\u001b[?25hRequirement already satisfied: graphviz>=0.9 in /usr/local/lib/python3.7/dist-packages (from dtreeviz) (0.10.1)\n",
            "Requirement already satisfied: pandas in /usr/local/lib/python3.7/dist-packages (from dtreeviz) (1.3.5)\n",
            "Requirement already satisfied: numpy in /usr/local/lib/python3.7/dist-packages (from dtreeviz) (1.21.6)\n",
            "Requirement already satisfied: scikit-learn in /usr/local/lib/python3.7/dist-packages (from dtreeviz) (1.0.2)\n",
            "Requirement already satisfied: matplotlib in /usr/local/lib/python3.7/dist-packages (from dtreeviz) (3.2.2)\n",
            "Collecting colour\n",
            "  Downloading colour-0.1.5-py2.py3-none-any.whl (23 kB)\n",
            "Requirement already satisfied: pytest in /usr/local/lib/python3.7/dist-packages (from dtreeviz) (3.6.4)\n",
            "Requirement already satisfied: kiwisolver>=1.0.1 in /usr/local/lib/python3.7/dist-packages (from matplotlib->dtreeviz) (1.4.3)\n",
            "Requirement already satisfied: pyparsing!=2.0.4,!=2.1.2,!=2.1.6,>=2.0.1 in /usr/local/lib/python3.7/dist-packages (from matplotlib->dtreeviz) (3.0.9)\n",
            "Requirement already satisfied: cycler>=0.10 in /usr/local/lib/python3.7/dist-packages (from matplotlib->dtreeviz) (0.11.0)\n",
            "Requirement already satisfied: python-dateutil>=2.1 in /usr/local/lib/python3.7/dist-packages (from matplotlib->dtreeviz) (2.8.2)\n",
            "Requirement already satisfied: typing-extensions in /usr/local/lib/python3.7/dist-packages (from kiwisolver>=1.0.1->matplotlib->dtreeviz) (4.1.1)\n",
            "Requirement already satisfied: six>=1.5 in /usr/local/lib/python3.7/dist-packages (from python-dateutil>=2.1->matplotlib->dtreeviz) (1.15.0)\n",
            "Requirement already satisfied: pytz>=2017.3 in /usr/local/lib/python3.7/dist-packages (from pandas->dtreeviz) (2022.1)\n",
            "Requirement already satisfied: attrs>=17.4.0 in /usr/local/lib/python3.7/dist-packages (from pytest->dtreeviz) (21.4.0)\n",
            "Requirement already satisfied: atomicwrites>=1.0 in /usr/local/lib/python3.7/dist-packages (from pytest->dtreeviz) (1.4.0)\n",
            "Requirement already satisfied: pluggy<0.8,>=0.5 in /usr/local/lib/python3.7/dist-packages (from pytest->dtreeviz) (0.7.1)\n",
            "Requirement already satisfied: more-itertools>=4.0.0 in /usr/local/lib/python3.7/dist-packages (from pytest->dtreeviz) (8.13.0)\n",
            "Requirement already satisfied: setuptools in /usr/local/lib/python3.7/dist-packages (from pytest->dtreeviz) (57.4.0)\n",
            "Requirement already satisfied: py>=1.5.0 in /usr/local/lib/python3.7/dist-packages (from pytest->dtreeviz) (1.11.0)\n",
            "Requirement already satisfied: joblib>=0.11 in /usr/local/lib/python3.7/dist-packages (from scikit-learn->dtreeviz) (1.1.0)\n",
            "Requirement already satisfied: threadpoolctl>=2.0.0 in /usr/local/lib/python3.7/dist-packages (from scikit-learn->dtreeviz) (3.1.0)\n",
            "Requirement already satisfied: scipy>=1.1.0 in /usr/local/lib/python3.7/dist-packages (from scikit-learn->dtreeviz) (1.4.1)\n",
            "Building wheels for collected packages: dtreeviz\n",
            "  Building wheel for dtreeviz (setup.py) ... \u001b[?25l\u001b[?25hdone\n",
            "  Created wheel for dtreeviz: filename=dtreeviz-1.3.6-py3-none-any.whl size=67326 sha256=96534e17e928c1883c073b9984f6e33cae229ccbbd4a95c52030edb33b63ec8a\n",
            "  Stored in directory: /root/.cache/pip/wheels/33/76/fe/99227ff871766e7284bb88d3d28e2f4886b8ec04d669033478\n",
            "Successfully built dtreeviz\n",
            "Installing collected packages: colour, dtreeviz\n",
            "Successfully installed colour-0.1.5 dtreeviz-1.3.6\n",
            "Updated property [core/project].\n",
            "Mounted at /content/gdrive\n"
          ]
        }
      ],
      "source": [
        "!pip install -Uqq fastbook\n",
        "!pip install dtreeviz\n",
        "!gcloud config set project {'hackathon-352519'}\n",
        "\n",
        "import os\n",
        "\n",
        "import IPython\n",
        "import IPython.display\n",
        "import matplotlib as mpl\n",
        "import matplotlib.pyplot as plt\n",
        "import numpy as np\n",
        "import fastbook as fastai\n",
        "import pandas as pd\n",
        "from pandas.io.json import json_normalize\n",
        "import seaborn as sns\n",
        "import tensorflow as tf\n",
        "import json\n",
        "import zipfile\n",
        "from io import BytesIO\n",
        "import torch\n",
        "import math\n",
        "from google.colab import files\n",
        "from google.colab import auth\n",
        "from datetime import datetime, timedelta\n",
        "\n",
        "fastai.setup_book()\n",
        "from fastai import tabular\n",
        "from pandas.api.types import is_string_dtype, is_numeric_dtype, is_categorical_dtype\n",
        "from fastai.tabular.all import *\n",
        "from sklearn.ensemble import RandomForestRegressor\n",
        "from sklearn.tree import DecisionTreeRegressor\n",
        "from dtreeviz.trees import *\n",
        "from IPython.display import Image, display_svg, SVG\n",
        "\n",
        "pd.options.display.max_rows = 20\n",
        "pd.options.display.max_columns = 8\n",
        "auth.authenticate_user()\n"
      ]
    },
    {
      "cell_type": "code",
      "source": [
        "#filename = \"train-data_all-train-events.zip\"\n",
        "#filename = \"train-data-2022062020220626.zip\"\n",
        "\n",
        "#events-20-min includes reports for all trains in the a 2 week window reporting at most every 20 minutes \n",
        "filename = \"train-events-20-min.zip\"\n",
        "\n",
        "# miles answers the question \"what spped will this train be moving in X miles (technically at milepost +/-X)\"\n",
        "#measurement = { 'unit' : 'miles', 'size' : 1.0 }\n",
        "\n",
        "# minutes answers the question : what speed will this train be moving in X Minutes\n",
        "#measurement = { 'unit' : 'minutes', 'size' : 90.0 }\n",
        "\n",
        "#dep_var = 'nextSpeed'\n",
        "\n",
        "# milepost answers the question \"What milepost will this train be at in X Minutes\"\n",
        "measurement = { 'unit' : 'milepost', 'size' : 20.0 }\n",
        "dep_var = 'nextValue'"
      ],
      "metadata": {
        "id": "M3W7KKZc8f92"
      },
      "execution_count": 51,
      "outputs": []
    },
    {
      "cell_type": "code",
      "source": [
        "!gsutil cp gs://trains_data/$filename /tmp/."
      ],
      "metadata": {
        "id": "srQJL7OKVRww",
        "colab": {
          "base_uri": "https://localhost:8080/"
        },
        "outputId": "e4e5394f-371d-4bb6-dd4d-230e3adc0ffe"
      },
      "execution_count": 4,
      "outputs": [
        {
          "output_type": "stream",
          "name": "stdout",
          "text": [
            "Copying gs://trains_data/train-events-20-min.zip...\n",
            "- [1 files][ 40.7 MiB/ 40.7 MiB]                                                \n",
            "Operation completed over 1 objects/40.7 MiB.                                     \n"
          ]
        }
      ]
    },
    {
      "cell_type": "code",
      "execution_count": 5,
      "metadata": {
        "id": "ckXLQ7eQ7E0c",
        "colab": {
          "base_uri": "https://localhost:8080/"
        },
        "outputId": "7d43c693-f9f0-4a25-ac78-12f7d7fd5183"
      },
      "outputs": [
        {
          "output_type": "stream",
          "name": "stdout",
          "text": [
            "1000   19:25:16\n",
            "2000   19:25:28\n",
            "3000   19:25:40\n",
            "4000   19:25:45\n",
            "5000   19:25:50\n",
            "6000   19:25:56\n"
          ]
        }
      ],
      "source": [
        "trains = {}\n",
        "i = 1\n",
        "with zipfile.ZipFile(\"/tmp/\"+filename, \"r\") as f:\n",
        "    for name in f.namelist():\n",
        "        if name.endswith('.json'):\n",
        "            with f.open(name) as zd:\n",
        "                data = json.load(zd)\n",
        "                lastTrainReporting = data['lastTrainReporting']\n",
        "                currentLoco = lastTrainReporting['ptcLeadLocomotiveId']\n",
        "                if (\"trainActualPositionList\" in lastTrainReporting and len(lastTrainReporting['trainActualPositionList']) > 0): \n",
        "                    trains[i] = pd.json_normalize(lastTrainReporting)\n",
        "                    i = i + 1\n",
        "                    if (i % 1000 == 0):\n",
        "                      print(i, \" \", datetime.now().strftime(\"%H:%M:%S\"))\n",
        "                            "
      ]
    },
    {
      "cell_type": "code",
      "execution_count": 6,
      "metadata": {
        "id": "lgWV768N7E0d"
      },
      "outputs": [],
      "source": [
        "dfTrainsAll = pd.concat(trains.values())\n",
        "dfTrainsAll[\"milepost\"] = dfTrainsAll.apply(lambda row: math.trunc(row['lastReportedPosition.milepostLocation.milepost.milepostNumber']), axis=1)"
      ]
    },
    {
      "cell_type": "code",
      "source": [
        "del trains"
      ],
      "metadata": {
        "id": "Q581UU9nCWZ1"
      },
      "execution_count": 7,
      "outputs": []
    },
    {
      "cell_type": "code",
      "execution_count": 8,
      "metadata": {
        "id": "Idznxze77E0e",
        "colab": {
          "base_uri": "https://localhost:8080/"
        },
        "outputId": "7c4ca859-6dcf-4c88-e1ee-a255ed5f3165"
      },
      "outputs": [
        {
          "output_type": "stream",
          "name": "stdout",
          "text": [
            "<class 'pandas.core.frame.DataFrame'>\n",
            "Int64Index: 6747 entries, 0 to 0\n",
            "Data columns (total 37 columns):\n",
            " #   Column                                                         Non-Null Count  Dtype  \n",
            "---  ------                                                         --------------  -----  \n",
            " 0   ptcLeadLocomotiveId                                            6747 non-null   object \n",
            " 1   positionHistoryList                                            6747 non-null   object \n",
            " 2   locomotiveList                                                 6747 non-null   object \n",
            " 3   subdivisionList                                                6747 non-null   object \n",
            " 4   trainEstimatedPositionList                                     6747 non-null   object \n",
            " 5   trainActualPositionList                                        6747 non-null   object \n",
            " 6   trainId.trainSCAC                                              6747 non-null   object \n",
            " 7   trainId.trainSection                                           6747 non-null   object \n",
            " 8   trainId.trainSymbol                                            6747 non-null   object \n",
            " 9   trainId.trainDate                                              6747 non-null   object \n",
            " 10  lastReportedPosition.positionTime                              6747 non-null   object \n",
            " 11  lastReportedPosition.speedMPH                                  6747 non-null   int64  \n",
            " 12  lastReportedPosition.milepostLocation.subdivisionId            6747 non-null   int64  \n",
            " 13  lastReportedPosition.milepostLocation.trackName                6747 non-null   object \n",
            " 14  lastReportedPosition.milepostLocation.milepost.milepostNumber  6747 non-null   float64\n",
            " 15  aotuTrainData.priorityCode                                     6531 non-null   float64\n",
            " 16  aotuTrainData.categoryCode                                     6531 non-null   float64\n",
            " 17  aotuTrainData.authorityRangeCode                               6531 non-null   float64\n",
            " 18  aotuTrainData.ownershipCode                                    6531 non-null   float64\n",
            " 19  aotuTrainData.tenantCarrier                                    6531 non-null   object \n",
            " 20  aotuTrainData.totalCarWeight                                   6531 non-null   float64\n",
            " 21  aotuTrainData.totalCarLength                                   6531 non-null   float64\n",
            " 22  aotuTrainData.totalLocomotiveWeight                            6531 non-null   float64\n",
            " 23  aotuTrainData.totalLocomotiveLength                            6531 non-null   float64\n",
            " 24  aotuTrainData.actualTonsPerAxle                                6531 non-null   float64\n",
            " 25  aotuTrainData.heavy143TonCarCount                              6531 non-null   float64\n",
            " 26  aotuTrainData.heavy158TonCarCount                              6531 non-null   float64\n",
            " 27  aotuTrainData.over158TonCarCount                               6531 non-null   float64\n",
            " 28  aotuTrainData.highWideCarCount                                 6531 non-null   float64\n",
            " 29  aotuTrainData.eventCode                                        6531 non-null   float64\n",
            " 30  aotuTrainData.routeLocationList                                6531 non-null   object \n",
            " 31  maximumTrainSpeed                                              6274 non-null   float64\n",
            " 32  loadedCarCount                                                 6274 non-null   float64\n",
            " 33  emptyCarCount                                                  6274 non-null   float64\n",
            " 34  trainLength                                                    6274 non-null   float64\n",
            " 35  trailingTonnage                                                6274 non-null   float64\n",
            " 36  milepost                                                       6747 non-null   int64  \n",
            "dtypes: float64(20), int64(3), object(14)\n",
            "memory usage: 2.0+ MB\n",
            "None\n",
            "(6747, 37)\n"
          ]
        }
      ],
      "source": [
        "print(dfTrainsAll.info())\n",
        "print(dfTrainsAll.shape)"
      ]
    },
    {
      "cell_type": "markdown",
      "source": [
        "# Create a learning set to modify"
      ],
      "metadata": {
        "id": "D2hF44lYkNIf"
      }
    },
    {
      "cell_type": "code",
      "source": [
        "dfTrainsLearn = dfTrainsAll"
      ],
      "metadata": {
        "id": "it2dDKRfbk0_"
      },
      "execution_count": 9,
      "outputs": []
    },
    {
      "cell_type": "markdown",
      "source": [
        "Clear the nan values and replace with max values."
      ],
      "metadata": {
        "id": "d5b2nVAbkR7M"
      }
    },
    {
      "cell_type": "code",
      "source": [
        "dfTrainsLearn['loadedCarCount'] =  dfTrainsLearn['loadedCarCount'].replace(np.nan, 999.)\n",
        "dfTrainsLearn['emptyCarCount'] =  dfTrainsLearn['emptyCarCount'].replace(np.nan, 999.)\n",
        "dfTrainsLearn['trainLength'] =  dfTrainsLearn['trainLength'].replace(np.nan, 99999.)\n",
        "dfTrainsLearn['trailingTonnage'] =  dfTrainsLearn['trailingTonnage'].replace(np.nan, 99999.)"
      ],
      "metadata": {
        "id": "jTMp9nMBZav1"
      },
      "execution_count": 10,
      "outputs": []
    },
    {
      "cell_type": "markdown",
      "source": [
        "Determine if the train is moving milepost Increasing or decreasing."
      ],
      "metadata": {
        "id": "2yxcbslMj-uZ"
      }
    },
    {
      "cell_type": "code",
      "source": [
        "dfTrainsLearn['mpIncr'] = dfTrainsLearn.apply(lambda row: row['lastReportedPosition.speedMPH'] >= 0, axis=1)"
      ],
      "metadata": {
        "id": "-XDkAezxjVGH"
      },
      "execution_count": 11,
      "outputs": []
    },
    {
      "cell_type": "markdown",
      "source": [
        "Make all speeds positive"
      ],
      "metadata": {
        "id": "_Nge0iAIkFTV"
      }
    },
    {
      "cell_type": "code",
      "source": [
        "dfTrainsLearn['lastReportedPosition.speedMPH']  = dfTrainsLearn.apply(lambda row: abs(row['lastReportedPosition.speedMPH']), axis=1)\n",
        "dfTrainsLearn['maximumTrainSpeed']  = dfTrainsLearn.apply(lambda row: abs(row['maximumTrainSpeed']), axis=1)"
      ],
      "metadata": {
        "id": "TjMlCKaoxbMw"
      },
      "execution_count": 12,
      "outputs": []
    },
    {
      "cell_type": "code",
      "source": [
        "print(\"Speed Distribution:\")\n",
        "dfTrainsLearn['lastReportedPosition.speedMPH'].hist(bins=90)"
      ],
      "metadata": {
        "id": "KWQaxYZ3yC1f",
        "colab": {
          "base_uri": "https://localhost:8080/",
          "height": 303
        },
        "outputId": "c73db95d-9d7d-44f1-f646-d08e2f164696"
      },
      "execution_count": 13,
      "outputs": [
        {
          "output_type": "stream",
          "name": "stdout",
          "text": [
            "Speed Distribution:\n"
          ]
        },
        {
          "output_type": "execute_result",
          "data": {
            "text/plain": [
              "<matplotlib.axes._subplots.AxesSubplot at 0x7f4b71457150>"
            ]
          },
          "metadata": {},
          "execution_count": 13
        },
        {
          "output_type": "display_data",
          "data": {
            "text/plain": [
              "<Figure size 432x288 with 1 Axes>"
            ],
            "image/png": "[encoded data removed]"
          },
          "metadata": {
            "needs_background": "light"
          }
        }
      ]
    },
    {
      "cell_type": "markdown",
      "source": [
        "Replace the NaN values in AOTU with zeros"
      ],
      "metadata": {
        "id": "hQ65ocjckk-s"
      }
    },
    {
      "cell_type": "code",
      "source": [
        "aotuColumns = [item for item in dfTrainsLearn.columns if item.startswith('aotu')]\n",
        "for column in aotuColumns:\n",
        "  dfTrainsLearn[column] =  dfTrainsLearn[column].replace(np.nan, 0.)"
      ],
      "metadata": {
        "id": "IjhK53fef5eG"
      },
      "execution_count": 14,
      "outputs": []
    },
    {
      "cell_type": "markdown",
      "source": [
        "Categorize the applicable variables"
      ],
      "metadata": {
        "id": "Skh2x30Ao2aj"
      }
    },
    {
      "cell_type": "code",
      "source": [
        "def categorize(aDataFrame, columnName, defaultReplacement):\n",
        "  aDataFrame[columnName] = aDataFrame[columnName].fillna(value=defaultReplacement)\n",
        "  categories = aDataFrame[columnName].unique()\n",
        "  print(aDataFrame[columnName].unique())\n",
        "  aDataFrame[columnName] = aDataFrame[columnName].astype('category')\n",
        "  aDataFrame[columnName] = aDataFrame[columnName].cat.set_categories(categories)\n",
        "  return aDataFrame"
      ],
      "metadata": {
        "id": "FPO5BUrpVl5t"
      },
      "execution_count": 15,
      "outputs": []
    },
    {
      "cell_type": "code",
      "source": [
        "dfTrainsLearn['symbolType'] = dfTrainsLearn.apply(lambda row: row['trainId.trainSymbol'][:1], axis=1)\n",
        "dfTrainsLearn = categorize(dfTrainsLearn, 'symbolType', \"X\")\n",
        "dfTrainsLearn = categorize(dfTrainsLearn, 'lastReportedPosition.milepostLocation.trackName', \"UNKNOWN\")\n",
        "dfTrainsLearn = categorize(dfTrainsLearn, 'trainId.trainSCAC',\"UNK\")\n",
        "dfTrainsLearn = categorize(dfTrainsLearn, 'trainId.trainSection', ' ')\n",
        "dfTrainsLearn = categorize(dfTrainsLearn, 'aotuTrainData.priorityCode', 0)  # may want to order these\n",
        "dfTrainsLearn = categorize(dfTrainsLearn, 'aotuTrainData.categoryCode', 0)\n",
        "dfTrainsLearn = categorize(dfTrainsLearn, 'aotuTrainData.authorityRangeCode', 0)\n",
        "dfTrainsLearn = categorize(dfTrainsLearn, 'aotuTrainData.ownershipCode', 0)\n",
        "dfTrainsLearn = categorize(dfTrainsLearn, 'aotuTrainData.tenantCarrier', \"0\")\n",
        "dfTrainsLearn = categorize(dfTrainsLearn, 'aotuTrainData.eventCode', 0)\n",
        " "
      ],
      "metadata": {
        "colab": {
          "base_uri": "https://localhost:8080/"
        },
        "id": "CKDKREgdNRGT",
        "outputId": "00def19f-6f7c-4777-f901-a5034933bada"
      },
      "execution_count": 16,
      "outputs": [
        {
          "output_type": "stream",
          "name": "stdout",
          "text": [
            "['A' 'Q' 'M' 'H' 'G' 'U' 'I' 'O' 'E' 'C' 'Y' 'L' 'Z' 'S' 'R' 'W']\n",
            "['TO_S_UP_MAINLINE' 'WEST MAIN' 'EAST MAIN' 'TO_N_EAST MAIN' 'MAIN' 'S_LUCAS' 'NEW LACY TRACK' 'MAIN CHAISON YARD' 'MT 2' 'MT 1' 'S_VIDOR' 'TO_S_VIDOR' 'TO_S_CS JUNCTION' 'S_HELME' 'EASTXO'\n",
            " 'TO_S_KCS UP PRT CONN' 'KCS UP PORT CONNECT' 'WESTXO' 'N SIDING' 'XO' 'TO_N_HELME' 'TO_N_CHAISON MAIN' 'TO_N_LUCAS' 'TO_N_STARKS' 'S_STARKS' 'S_MAURICEVILLE' 'TO_S_LUCAS' 'TO_N_MAURICEVILLE' 'YD LD'\n",
            " 'TO_N_VIDOR' 'S_FISHER' 'S_CONVERSE' 'S_ANACOCO' 'S_NEAME' 'S_LEESVILLE']\n",
            "['UP']\n",
            "['' '2' '3' '4' '5']\n",
            "[1. 2. 0. 4. 3.]\n",
            "[14. 12.  0.  9.  8. 10. 18. 15.  4. 20. 11.  2. 17. 16. 13. 19.]\n",
            "[2. 0. 3. 1.]\n",
            "[3. 0. 2.]\n",
            "['AMTK' 'BNSF' 0.0 '' 'KCS']\n",
            "[0.]\n"
          ]
        }
      ]
    },
    {
      "cell_type": "markdown",
      "source": [
        "Replace unknown max speeds with 88 miles per hour (to make them recognizable)"
      ],
      "metadata": {
        "id": "5fP9phXQlAXf"
      }
    },
    {
      "cell_type": "code",
      "source": [
        "dfTrainsLearn['maximumTrainSpeed'] =  dfTrainsLearn['maximumTrainSpeed'].replace(np.nan, 88.)\n",
        "print(dfTrainsLearn['maximumTrainSpeed'].unique())"
      ],
      "metadata": {
        "id": "ZTAgIeMJeHmz",
        "colab": {
          "base_uri": "https://localhost:8080/"
        },
        "outputId": "ce779a1a-fac4-4039-f416-17c121c2c986"
      },
      "execution_count": 17,
      "outputs": [
        {
          "output_type": "stream",
          "name": "stdout",
          "text": [
            "[88. 50. 60. 70. 40. 45. 30.]\n"
          ]
        }
      ]
    },
    {
      "cell_type": "markdown",
      "source": [
        "Flatten out the work locations (we may want to change this for the NN algorithm)"
      ],
      "metadata": {
        "id": "Dv-loghjlK_w"
      }
    },
    {
      "cell_type": "code",
      "source": [
        "def getWorkLocations(dfTrainsLocation):\n",
        "  if isinstance(dfTrainsLocation['aotuTrainData.routeLocationList'], float):\n",
        "    return None\n",
        "  if len(dfTrainsLocation['aotuTrainData.routeLocationList']) == 0:\n",
        "    return None\n",
        "  aotuRoute=pd.json_normalize(dfTrainsLocation['aotuTrainData.routeLocationList']) \n",
        "  eventLocations = aotuRoute[aotuRoute['activityList'].map(len) > 1]\n",
        "  temp = eventLocations['milepost.milepostNumber'].unique()\n",
        "  if len(temp) == 0:\n",
        "    return None\n",
        "  return ','.join(['%.2f' % num for num in temp])"
      ],
      "metadata": {
        "id": "TsYgT41SKyAn"
      },
      "execution_count": 18,
      "outputs": []
    },
    {
      "cell_type": "code",
      "source": [
        "dfTrainsLearn['workLocations'] = dfTrainsLearn.apply(lambda row: getWorkLocations(row), axis=1)"
      ],
      "metadata": {
        "id": "5sNuNU-iSgFy"
      },
      "execution_count": 19,
      "outputs": []
    },
    {
      "cell_type": "code",
      "source": [
        "dfTrainsLearn['workLocations'].unique()"
      ],
      "metadata": {
        "id": "jA6cNsHR8VSr",
        "colab": {
          "base_uri": "https://localhost:8080/"
        },
        "outputId": "9b7b2380-cbe7-4180-990f-077fd90b7613"
      },
      "execution_count": 20,
      "outputs": [
        {
          "output_type": "execute_result",
          "data": {
            "text/plain": [
              "array([None, '202.20', '225.10', '202.20,219.70', '202.20,258.40,321.50', '202.20,258.40', '219.70,202.20', '250.50,202.20', '258.40,202.20', '258.40,207.60,202.20', '321.50,202.20', '202.20,314.52',\n",
              "       '202.20,214.50,225.10,290.80,304.10', '214.50,225.10,290.80,304.10,202.20', '321.50,314.52,202.20', '258.40,219.70,202.20', '314.52,202.20', '257.60,202.20', '202.20,265.30',\n",
              "       '202.20,258.40,318.90,321.50', '202.20,219.70,258.40,321.50', '202.20,219.70,250.50,258.40,321.50', '258.40,214.50,202.20', '202.20,219.70,258.40', '225.10,202.20'], dtype=object)"
            ]
          },
          "metadata": {},
          "execution_count": 20
        }
      ]
    },
    {
      "cell_type": "markdown",
      "source": [
        "determine the locomotive count from the locomotive list.  We can make this more clever later, but for now this seems the most sensible shortcut"
      ],
      "metadata": {
        "id": "-AZiJPI24QO9"
      }
    },
    {
      "cell_type": "code",
      "source": [
        "dfTrainsLearn['locomotiveCount'] = dfTrainsLearn.apply(lambda row: len(row['locomotiveList']),axis = 1)"
      ],
      "metadata": {
        "id": "LuG8-GNBzwrF"
      },
      "execution_count": 21,
      "outputs": []
    },
    {
      "cell_type": "markdown",
      "source": [
        "Convert the list of actual reportings into a dataframe."
      ],
      "metadata": {
        "id": "Hbv-6WLkrqO2"
      }
    },
    {
      "cell_type": "code",
      "source": [
        "dfTrainsLearnActuals = dfTrainsLearn.apply(lambda row: pd.json_normalize(row['trainActualPositionList']), axis=1)"
      ],
      "metadata": {
        "id": "Ag-KbEfz4Is8"
      },
      "execution_count": 22,
      "outputs": []
    },
    {
      "cell_type": "code",
      "source": [
        "def showTrain(idx):\n",
        "  print(dfTrainsLearn.iloc[idx]['ptcLeadLocomotiveId'])\n",
        "  print(dfTrainsLearn.iloc[idx]['trainId.trainSymbol'])\n"
      ],
      "metadata": {
        "id": "ZuIVv8dvnIpG"
      },
      "execution_count": 23,
      "outputs": []
    },
    {
      "cell_type": "markdown",
      "source": [
        "You can peer into the incoming data here:"
      ],
      "metadata": {
        "id": "VLFBdKgPll2j"
      }
    },
    {
      "cell_type": "code",
      "source": [
        "idx = 201\n",
        "showTrain(idx)\n",
        "dfTrainsLearnActuals.iloc[idx]"
      ],
      "metadata": {
        "id": "r_gdrmU4IgpY",
        "colab": {
          "base_uri": "https://localhost:8080/",
          "height": 458
        },
        "outputId": "99b85d92-84dc-43ef-91b1-fc63ac8afd24"
      },
      "execution_count": 24,
      "outputs": [
        {
          "output_type": "stream",
          "name": "stdout",
          "text": [
            "KCS4151\n",
            "MRNWAJ\n"
          ]
        },
        {
          "output_type": "execute_result",
          "data": {
            "text/plain": [
              "            positionTime  speedMPH  milepostLocation.subdivisionId  \\\n",
              "0   2022-07-01T02:21:09Z         0                             106   \n",
              "1   2022-07-01T02:23:09Z         0                             106   \n",
              "2   2022-07-01T02:25:09Z        -1                             106   \n",
              "3   2022-07-01T02:27:09Z        -5                             106   \n",
              "4   2022-07-01T02:29:09Z        -9                             106   \n",
              "..                   ...       ...                             ...   \n",
              "16  2022-07-01T02:53:09Z        -8                             106   \n",
              "17  2022-07-01T02:55:09Z        -7                             106   \n",
              "18  2022-07-01T02:57:09Z        -6                             106   \n",
              "19  2022-07-01T02:59:09Z        -4                             106   \n",
              "20  2022-07-01T03:01:09Z         0                             106   \n",
              "\n",
              "   milepostLocation.trackName  milepostLocation.milepost.milepostNumber  \n",
              "0                   WEST MAIN                                 766.24380  \n",
              "1                   WEST MAIN                                 766.24380  \n",
              "2              WEST MAIN-MAIN                                 766.19920  \n",
              "3              WEST MAIN-MAIN                                 766.11084  \n",
              "4                        MAIN                                 765.94490  \n",
              "..                        ...                                       ...  \n",
              "16                    S_VIDOR                                 761.16580  \n",
              "17                    S_VIDOR                                 760.92035  \n",
              "18                    S_VIDOR                                 760.67960  \n",
              "19                    S_VIDOR                                 760.45135  \n",
              "20                    S_VIDOR                                 760.42000  \n",
              "\n",
              "[21 rows x 5 columns]"
            ],
            "text/html": [
              "\n",
              "  <div id=\"df-466a9c92-fc09-45ef-9834-6969ec63b362\">\n",
              "    <div class=\"colab-df-container\">\n",
              "      <div>\n",
              "<style scoped>\n",
              "    .dataframe tbody tr th:only-of-type {\n",
              "        vertical-align: middle;\n",
              "    }\n",
              "\n",
              "    .dataframe tbody tr th {\n",
              "        vertical-align: top;\n",
              "    }\n",
              "\n",
              "    .dataframe thead th {\n",
              "        text-align: right;\n",
              "    }\n",
              "</style>\n",
              "<table border=\"1\" class=\"dataframe\">\n",
              "  <thead>\n",
              "    <tr style=\"text-align: right;\">\n",
              "      <th></th>\n",
              "      <th>positionTime</th>\n",
              "      <th>speedMPH</th>\n",
              "      <th>milepostLocation.subdivisionId</th>\n",
              "      <th>milepostLocation.trackName</th>\n",
              "      <th>milepostLocation.milepost.milepostNumber</th>\n",
              "    </tr>\n",
              "  </thead>\n",
              "  <tbody>\n",
              "    <tr>\n",
              "      <th>0</th>\n",
              "      <td>2022-07-01T02:21:09Z</td>\n",
              "      <td>0</td>\n",
              "      <td>106</td>\n",
              "      <td>WEST MAIN</td>\n",
              "      <td>766.24380</td>\n",
              "    </tr>\n",
              "    <tr>\n",
              "      <th>1</th>\n",
              "      <td>2022-07-01T02:23:09Z</td>\n",
              "      <td>0</td>\n",
              "      <td>106</td>\n",
              "      <td>WEST MAIN</td>\n",
              "      <td>766.24380</td>\n",
              "    </tr>\n",
              "    <tr>\n",
              "      <th>2</th>\n",
              "      <td>2022-07-01T02:25:09Z</td>\n",
              "      <td>-1</td>\n",
              "      <td>106</td>\n",
              "      <td>WEST MAIN-MAIN</td>\n",
              "      <td>766.19920</td>\n",
              "    </tr>\n",
              "    <tr>\n",
              "      <th>3</th>\n",
              "      <td>2022-07-01T02:27:09Z</td>\n",
              "      <td>-5</td>\n",
              "      <td>106</td>\n",
              "      <td>WEST MAIN-MAIN</td>\n",
              "      <td>766.11084</td>\n",
              "    </tr>\n",
              "    <tr>\n",
              "      <th>4</th>\n",
              "      <td>2022-07-01T02:29:09Z</td>\n",
              "      <td>-9</td>\n",
              "      <td>106</td>\n",
              "      <td>MAIN</td>\n",
              "      <td>765.94490</td>\n",
              "    </tr>\n",
              "    <tr>\n",
              "      <th>...</th>\n",
              "      <td>...</td>\n",
              "      <td>...</td>\n",
              "      <td>...</td>\n",
              "      <td>...</td>\n",
              "      <td>...</td>\n",
              "    </tr>\n",
              "    <tr>\n",
              "      <th>16</th>\n",
              "      <td>2022-07-01T02:53:09Z</td>\n",
              "      <td>-8</td>\n",
              "      <td>106</td>\n",
              "      <td>S_VIDOR</td>\n",
              "      <td>761.16580</td>\n",
              "    </tr>\n",
              "    <tr>\n",
              "      <th>17</th>\n",
              "      <td>2022-07-01T02:55:09Z</td>\n",
              "      <td>-7</td>\n",
              "      <td>106</td>\n",
              "      <td>S_VIDOR</td>\n",
              "      <td>760.92035</td>\n",
              "    </tr>\n",
              "    <tr>\n",
              "      <th>18</th>\n",
              "      <td>2022-07-01T02:57:09Z</td>\n",
              "      <td>-6</td>\n",
              "      <td>106</td>\n",
              "      <td>S_VIDOR</td>\n",
              "      <td>760.67960</td>\n",
              "    </tr>\n",
              "    <tr>\n",
              "      <th>19</th>\n",
              "      <td>2022-07-01T02:59:09Z</td>\n",
              "      <td>-4</td>\n",
              "      <td>106</td>\n",
              "      <td>S_VIDOR</td>\n",
              "      <td>760.45135</td>\n",
              "    </tr>\n",
              "    <tr>\n",
              "      <th>20</th>\n",
              "      <td>2022-07-01T03:01:09Z</td>\n",
              "      <td>0</td>\n",
              "      <td>106</td>\n",
              "      <td>S_VIDOR</td>\n",
              "      <td>760.42000</td>\n",
              "    </tr>\n",
              "  </tbody>\n",
              "</table>\n",
              "<p>21 rows × 5 columns</p>\n",
              "</div>\n",
              "      <button class=\"colab-df-convert\" onclick=\"convertToInteractive('df-466a9c92-fc09-45ef-9834-6969ec63b362')\"\n",
              "              title=\"Convert this dataframe to an interactive table.\"\n",
              "              style=\"display:none;\">\n",
              "        \n",
              "  <svg xmlns=\"http://www.w3.org/2000/svg\" height=\"24px\"viewBox=\"0 0 24 24\"\n",
              "       width=\"24px\">\n",
              "    <path d=\"M0 0h24v24H0V0z\" fill=\"none\"/>\n",
              "    <path d=\"M18.56 5.44l.94 2.06.94-2.06 2.06-.94-2.06-.94-.94-2.06-.94 2.06-2.06.94zm-11 1L8.5 8.5l.94-2.06 2.06-.94-2.06-.94L8.5 2.5l-.94 2.06-2.06.94zm10 10l.94 2.06.94-2.06 2.06-.94-2.06-.94-.94-2.06-.94 2.06-2.06.94z\"/><path d=\"M17.41 7.96l-1.37-1.37c-.4-.4-.92-.59-1.43-.59-.52 0-1.04.2-1.43.59L10.3 9.45l-7.72 7.72c-.78.78-.78 2.05 0 2.83L4 21.41c.39.39.9.59 1.41.59.51 0 1.02-.2 1.41-.59l7.78-7.78 2.81-2.81c.8-.78.8-2.07 0-2.86zM5.41 20L4 18.59l7.72-7.72 1.47 1.35L5.41 20z\"/>\n",
              "  </svg>\n",
              "      </button>\n",
              "      \n",
              "  <style>\n",
              "    .colab-df-container {\n",
              "      display:flex;\n",
              "      flex-wrap:wrap;\n",
              "      gap: 12px;\n",
              "    }\n",
              "\n",
              "    .colab-df-convert {\n",
              "      background-color: #E8F0FE;\n",
              "      border: none;\n",
              "      border-radius: 50%;\n",
              "      cursor: pointer;\n",
              "      display: none;\n",
              "      fill: #1967D2;\n",
              "      height: 32px;\n",
              "      padding: 0 0 0 0;\n",
              "      width: 32px;\n",
              "    }\n",
              "\n",
              "    .colab-df-convert:hover {\n",
              "      background-color: #E2EBFA;\n",
              "      box-shadow: 0px 1px 2px rgba(60, 64, 67, 0.3), 0px 1px 3px 1px rgba(60, 64, 67, 0.15);\n",
              "      fill: #174EA6;\n",
              "    }\n",
              "\n",
              "    [theme=dark] .colab-df-convert {\n",
              "      background-color: #3B4455;\n",
              "      fill: #D2E3FC;\n",
              "    }\n",
              "\n",
              "    [theme=dark] .colab-df-convert:hover {\n",
              "      background-color: #434B5C;\n",
              "      box-shadow: 0px 1px 3px 1px rgba(0, 0, 0, 0.15);\n",
              "      filter: drop-shadow(0px 1px 2px rgba(0, 0, 0, 0.3));\n",
              "      fill: #FFFFFF;\n",
              "    }\n",
              "  </style>\n",
              "\n",
              "      <script>\n",
              "        const buttonEl =\n",
              "          document.querySelector('#df-466a9c92-fc09-45ef-9834-6969ec63b362 button.colab-df-convert');\n",
              "        buttonEl.style.display =\n",
              "          google.colab.kernel.accessAllowed ? 'block' : 'none';\n",
              "\n",
              "        async function convertToInteractive(key) {\n",
              "          const element = document.querySelector('#df-466a9c92-fc09-45ef-9834-6969ec63b362');\n",
              "          const dataTable =\n",
              "            await google.colab.kernel.invokeFunction('convertToInteractive',\n",
              "                                                     [key], {});\n",
              "          if (!dataTable) return;\n",
              "\n",
              "          const docLinkHtml = 'Like what you see? Visit the ' +\n",
              "            '<a target=\"_blank\" href=https://colab.research.google.com/notebooks/data_table.ipynb>data table notebook</a>'\n",
              "            + ' to learn more about interactive tables.';\n",
              "          element.innerHTML = '';\n",
              "          dataTable['output_type'] = 'display_data';\n",
              "          await google.colab.output.renderOutput(dataTable, element);\n",
              "          const docLink = document.createElement('div');\n",
              "          docLink.innerHTML = docLinkHtml;\n",
              "          element.appendChild(docLink);\n",
              "        }\n",
              "      </script>\n",
              "    </div>\n",
              "  </div>\n",
              "  "
            ]
          },
          "metadata": {},
          "execution_count": 24
        }
      ]
    },
    {
      "cell_type": "code",
      "source": [
        "dfTrainsBeop =  dfTrainsLearn[['lastReportedPosition.milepostLocation.milepost.milepostNumber','trainEstimatedPositionList']]\n",
        "dfTrainsBeop"
      ],
      "metadata": {
        "id": "1FsMwzd7xSLZ",
        "colab": {
          "base_uri": "https://localhost:8080/",
          "height": 606
        },
        "outputId": "40ddaa57-5cf2-447e-92c6-5e9239099c7d"
      },
      "execution_count": 25,
      "outputs": [
        {
          "output_type": "execute_result",
          "data": {
            "text/plain": [
              "    lastReportedPosition.milepostLocation.milepost.milepostNumber  \\\n",
              "0                                                        764.8696   \n",
              "0                                                        764.8706   \n",
              "0                                                        766.9310   \n",
              "0                                                        764.8691   \n",
              "0                                                        766.9302   \n",
              "..                                                            ...   \n",
              "0                                                        290.7408   \n",
              "0                                                        293.2164   \n",
              "0                                                        294.0817   \n",
              "0                                                        305.3550   \n",
              "0                                                        317.9784   \n",
              "\n",
              "                                                                                                                                                                                                                                                                                                                                                                                                                                                                                                                                                                                                 trainEstimatedPositionList  \n",
              "0                                                                                                                                                                                                                                                                                                                                                                                                                                                                                                                                                                                                                        []  \n",
              "0                                                                                                                                                                                                                                                                                                                                                                                                                                                                                                                                                                                                                        []  \n",
              "0                                                                                                                                                                                                                                                                                                                                                                                                                                                                                                                                                                                                                        []  \n",
              "0                                                                                                                                                                                                                                                                                                                                                                                                                                                                                                                                                                                                                        []  \n",
              "0                                                                                                                                                                                                                                                                                                                                                                                                                                                                                                                                                                                                                        []  \n",
              "..                                                                                                                                                                                                                                                                                                                                                                                                                                                                                                                                                                                                                      ...  \n",
              "0   [{'positionTime': '2022-06-23T10:15:47Z', 'speedMPH': 12, 'milepostLocation': {'subdivisionId': 106, 'trackName': 'EASTXO', 'milepost': {'milepostNumber': 290.7408}}}, {'positionTime': '2022-06-23T10:17:47Z', 'speedMPH': 30, 'milepostLocation': {'subdivisionId': 106, 'trackName': 'EASTXO', 'milepost': {'milepostNumber': 291.4418}}}, {'positionTime': '2022-06-23T10:19:47Z', 'speedMPH': 40, 'milepostLocation': {'subdivisionId': 106, 'trackName': 'EASTXO', 'milepost': {'milepostNumber': 292.6651}}}, {'positionTime': '2022-06-23T10:21:47Z', 'speedMPH': 49, 'milepostLocation': {'subdivisionId':...  \n",
              "0                                                                                                                                                                                                                                                                                                                                                                                                                                                                                                                                                                                                                        []  \n",
              "0   [{'positionTime': '2022-06-23T11:17:23Z', 'speedMPH': 23, 'milepostLocation': {'subdivisionId': 106, 'trackName': 'MT 2', 'milepost': {'milepostNumber': 294.0817}}}, {'positionTime': '2022-06-23T11:19:23Z', 'speedMPH': 35, 'milepostLocation': {'subdivisionId': 106, 'trackName': 'MT 2', 'milepost': {'milepostNumber': 295.03876}}}, {'positionTime': '2022-06-23T11:21:23Z', 'speedMPH': 45, 'milepostLocation': {'subdivisionId': 106, 'trackName': 'MT 2', 'milepost': {'milepostNumber': 296.39496}}}, {'positionTime': '2022-06-23T11:23:23Z', 'speedMPH': 50, 'milepostLocation': {'subdivisionId': 106...  \n",
              "0   [{'positionTime': '2022-06-23T11:34:06Z', 'speedMPH': 48, 'milepostLocation': {'subdivisionId': 106, 'trackName': 'MT 1', 'milepost': {'milepostNumber': 305.355}}}, {'positionTime': '2022-06-23T11:36:06Z', 'speedMPH': 50, 'milepostLocation': {'subdivisionId': 106, 'trackName': 'MT 1', 'milepost': {'milepostNumber': 307.01364}}}, {'positionTime': '2022-06-23T11:38:06Z', 'speedMPH': 50, 'milepostLocation': {'subdivisionId': 106, 'trackName': 'MT 1', 'milepost': {'milepostNumber': 308.68835}}}, {'positionTime': '2022-06-23T11:40:06Z', 'speedMPH': 50, 'milepostLocation': {'subdivisionId': 106,...  \n",
              "0   [{'positionTime': '2022-06-23T11:50:16Z', 'speedMPH': 44, 'milepostLocation': {'subdivisionId': 106, 'trackName': 'MT 1', 'milepost': {'milepostNumber': 317.9784}}}, {'positionTime': '2022-06-23T11:52:16Z', 'speedMPH': 44, 'milepostLocation': {'subdivisionId': 106, 'trackName': 'MT 1', 'milepost': {'milepostNumber': 319.44662}}}, {'positionTime': '2022-06-23T11:54:16Z', 'speedMPH': 44, 'milepostLocation': {'subdivisionId': 106, 'trackName': 'MT 1', 'milepost': {'milepostNumber': 320.92197}}}, {'positionTime': '2022-06-23T11:56:16Z', 'speedMPH': 40, 'milepostLocation': {'subdivisionId': 106...  \n",
              "\n",
              "[6747 rows x 2 columns]"
            ],
            "text/html": [
              "\n",
              "  <div id=\"df-4cefe348-ea35-4e8a-a12c-0c07bedebf3a\">\n",
              "    <div class=\"colab-df-container\">\n",
              "      <div>\n",
              "<style scoped>\n",
              "    .dataframe tbody tr th:only-of-type {\n",
              "        vertical-align: middle;\n",
              "    }\n",
              "\n",
              "    .dataframe tbody tr th {\n",
              "        vertical-align: top;\n",
              "    }\n",
              "\n",
              "    .dataframe thead th {\n",
              "        text-align: right;\n",
              "    }\n",
              "</style>\n",
              "<table border=\"1\" class=\"dataframe\">\n",
              "  <thead>\n",
              "    <tr style=\"text-align: right;\">\n",
              "      <th></th>\n",
              "      <th>lastReportedPosition.milepostLocation.milepost.milepostNumber</th>\n",
              "      <th>trainEstimatedPositionList</th>\n",
              "    </tr>\n",
              "  </thead>\n",
              "  <tbody>\n",
              "    <tr>\n",
              "      <th>0</th>\n",
              "      <td>764.8696</td>\n",
              "      <td>[]</td>\n",
              "    </tr>\n",
              "    <tr>\n",
              "      <th>0</th>\n",
              "      <td>764.8706</td>\n",
              "      <td>[]</td>\n",
              "    </tr>\n",
              "    <tr>\n",
              "      <th>0</th>\n",
              "      <td>766.9310</td>\n",
              "      <td>[]</td>\n",
              "    </tr>\n",
              "    <tr>\n",
              "      <th>0</th>\n",
              "      <td>764.8691</td>\n",
              "      <td>[]</td>\n",
              "    </tr>\n",
              "    <tr>\n",
              "      <th>0</th>\n",
              "      <td>766.9302</td>\n",
              "      <td>[]</td>\n",
              "    </tr>\n",
              "    <tr>\n",
              "      <th>...</th>\n",
              "      <td>...</td>\n",
              "      <td>...</td>\n",
              "    </tr>\n",
              "    <tr>\n",
              "      <th>0</th>\n",
              "      <td>290.7408</td>\n",
              "      <td>[{'positionTime': '2022-06-23T10:15:47Z', 'speedMPH': 12, 'milepostLocation': {'subdivisionId': 106, 'trackName': 'EASTXO', 'milepost': {'milepostNumber': 290.7408}}}, {'positionTime': '2022-06-23T10:17:47Z', 'speedMPH': 30, 'milepostLocation': {'subdivisionId': 106, 'trackName': 'EASTXO', 'milepost': {'milepostNumber': 291.4418}}}, {'positionTime': '2022-06-23T10:19:47Z', 'speedMPH': 40, 'milepostLocation': {'subdivisionId': 106, 'trackName': 'EASTXO', 'milepost': {'milepostNumber': 292.6651}}}, {'positionTime': '2022-06-23T10:21:47Z', 'speedMPH': 49, 'milepostLocation': {'subdivisionId':...</td>\n",
              "    </tr>\n",
              "    <tr>\n",
              "      <th>0</th>\n",
              "      <td>293.2164</td>\n",
              "      <td>[]</td>\n",
              "    </tr>\n",
              "    <tr>\n",
              "      <th>0</th>\n",
              "      <td>294.0817</td>\n",
              "      <td>[{'positionTime': '2022-06-23T11:17:23Z', 'speedMPH': 23, 'milepostLocation': {'subdivisionId': 106, 'trackName': 'MT 2', 'milepost': {'milepostNumber': 294.0817}}}, {'positionTime': '2022-06-23T11:19:23Z', 'speedMPH': 35, 'milepostLocation': {'subdivisionId': 106, 'trackName': 'MT 2', 'milepost': {'milepostNumber': 295.03876}}}, {'positionTime': '2022-06-23T11:21:23Z', 'speedMPH': 45, 'milepostLocation': {'subdivisionId': 106, 'trackName': 'MT 2', 'milepost': {'milepostNumber': 296.39496}}}, {'positionTime': '2022-06-23T11:23:23Z', 'speedMPH': 50, 'milepostLocation': {'subdivisionId': 106...</td>\n",
              "    </tr>\n",
              "    <tr>\n",
              "      <th>0</th>\n",
              "      <td>305.3550</td>\n",
              "      <td>[{'positionTime': '2022-06-23T11:34:06Z', 'speedMPH': 48, 'milepostLocation': {'subdivisionId': 106, 'trackName': 'MT 1', 'milepost': {'milepostNumber': 305.355}}}, {'positionTime': '2022-06-23T11:36:06Z', 'speedMPH': 50, 'milepostLocation': {'subdivisionId': 106, 'trackName': 'MT 1', 'milepost': {'milepostNumber': 307.01364}}}, {'positionTime': '2022-06-23T11:38:06Z', 'speedMPH': 50, 'milepostLocation': {'subdivisionId': 106, 'trackName': 'MT 1', 'milepost': {'milepostNumber': 308.68835}}}, {'positionTime': '2022-06-23T11:40:06Z', 'speedMPH': 50, 'milepostLocation': {'subdivisionId': 106,...</td>\n",
              "    </tr>\n",
              "    <tr>\n",
              "      <th>0</th>\n",
              "      <td>317.9784</td>\n",
              "      <td>[{'positionTime': '2022-06-23T11:50:16Z', 'speedMPH': 44, 'milepostLocation': {'subdivisionId': 106, 'trackName': 'MT 1', 'milepost': {'milepostNumber': 317.9784}}}, {'positionTime': '2022-06-23T11:52:16Z', 'speedMPH': 44, 'milepostLocation': {'subdivisionId': 106, 'trackName': 'MT 1', 'milepost': {'milepostNumber': 319.44662}}}, {'positionTime': '2022-06-23T11:54:16Z', 'speedMPH': 44, 'milepostLocation': {'subdivisionId': 106, 'trackName': 'MT 1', 'milepost': {'milepostNumber': 320.92197}}}, {'positionTime': '2022-06-23T11:56:16Z', 'speedMPH': 40, 'milepostLocation': {'subdivisionId': 106...</td>\n",
              "    </tr>\n",
              "  </tbody>\n",
              "</table>\n",
              "<p>6747 rows × 2 columns</p>\n",
              "</div>\n",
              "      <button class=\"colab-df-convert\" onclick=\"convertToInteractive('df-4cefe348-ea35-4e8a-a12c-0c07bedebf3a')\"\n",
              "              title=\"Convert this dataframe to an interactive table.\"\n",
              "              style=\"display:none;\">\n",
              "        \n",
              "  <svg xmlns=\"http://www.w3.org/2000/svg\" height=\"24px\"viewBox=\"0 0 24 24\"\n",
              "       width=\"24px\">\n",
              "    <path d=\"M0 0h24v24H0V0z\" fill=\"none\"/>\n",
              "    <path d=\"M18.56 5.44l.94 2.06.94-2.06 2.06-.94-2.06-.94-.94-2.06-.94 2.06-2.06.94zm-11 1L8.5 8.5l.94-2.06 2.06-.94-2.06-.94L8.5 2.5l-.94 2.06-2.06.94zm10 10l.94 2.06.94-2.06 2.06-.94-2.06-.94-.94-2.06-.94 2.06-2.06.94z\"/><path d=\"M17.41 7.96l-1.37-1.37c-.4-.4-.92-.59-1.43-.59-.52 0-1.04.2-1.43.59L10.3 9.45l-7.72 7.72c-.78.78-.78 2.05 0 2.83L4 21.41c.39.39.9.59 1.41.59.51 0 1.02-.2 1.41-.59l7.78-7.78 2.81-2.81c.8-.78.8-2.07 0-2.86zM5.41 20L4 18.59l7.72-7.72 1.47 1.35L5.41 20z\"/>\n",
              "  </svg>\n",
              "      </button>\n",
              "      \n",
              "  <style>\n",
              "    .colab-df-container {\n",
              "      display:flex;\n",
              "      flex-wrap:wrap;\n",
              "      gap: 12px;\n",
              "    }\n",
              "\n",
              "    .colab-df-convert {\n",
              "      background-color: #E8F0FE;\n",
              "      border: none;\n",
              "      border-radius: 50%;\n",
              "      cursor: pointer;\n",
              "      display: none;\n",
              "      fill: #1967D2;\n",
              "      height: 32px;\n",
              "      padding: 0 0 0 0;\n",
              "      width: 32px;\n",
              "    }\n",
              "\n",
              "    .colab-df-convert:hover {\n",
              "      background-color: #E2EBFA;\n",
              "      box-shadow: 0px 1px 2px rgba(60, 64, 67, 0.3), 0px 1px 3px 1px rgba(60, 64, 67, 0.15);\n",
              "      fill: #174EA6;\n",
              "    }\n",
              "\n",
              "    [theme=dark] .colab-df-convert {\n",
              "      background-color: #3B4455;\n",
              "      fill: #D2E3FC;\n",
              "    }\n",
              "\n",
              "    [theme=dark] .colab-df-convert:hover {\n",
              "      background-color: #434B5C;\n",
              "      box-shadow: 0px 1px 3px 1px rgba(0, 0, 0, 0.15);\n",
              "      filter: drop-shadow(0px 1px 2px rgba(0, 0, 0, 0.3));\n",
              "      fill: #FFFFFF;\n",
              "    }\n",
              "  </style>\n",
              "\n",
              "      <script>\n",
              "        const buttonEl =\n",
              "          document.querySelector('#df-4cefe348-ea35-4e8a-a12c-0c07bedebf3a button.colab-df-convert');\n",
              "        buttonEl.style.display =\n",
              "          google.colab.kernel.accessAllowed ? 'block' : 'none';\n",
              "\n",
              "        async function convertToInteractive(key) {\n",
              "          const element = document.querySelector('#df-4cefe348-ea35-4e8a-a12c-0c07bedebf3a');\n",
              "          const dataTable =\n",
              "            await google.colab.kernel.invokeFunction('convertToInteractive',\n",
              "                                                     [key], {});\n",
              "          if (!dataTable) return;\n",
              "\n",
              "          const docLinkHtml = 'Like what you see? Visit the ' +\n",
              "            '<a target=\"_blank\" href=https://colab.research.google.com/notebooks/data_table.ipynb>data table notebook</a>'\n",
              "            + ' to learn more about interactive tables.';\n",
              "          element.innerHTML = '';\n",
              "          dataTable['output_type'] = 'display_data';\n",
              "          await google.colab.output.renderOutput(dataTable, element);\n",
              "          const docLink = document.createElement('div');\n",
              "          docLink.innerHTML = docLinkHtml;\n",
              "          element.appendChild(docLink);\n",
              "        }\n",
              "      </script>\n",
              "    </div>\n",
              "  </div>\n",
              "  "
            ]
          },
          "metadata": {},
          "execution_count": 25
        }
      ]
    },
    {
      "cell_type": "markdown",
      "source": [
        "Renumber the list"
      ],
      "metadata": {
        "id": "lA_7_hJRr9RI"
      }
    },
    {
      "cell_type": "code",
      "source": [
        "dfTrainsLearn = dfTrainsLearn.reset_index(drop=True)"
      ],
      "metadata": {
        "id": "Kw_c3Ddj4zN4"
      },
      "execution_count": 26,
      "outputs": []
    },
    {
      "cell_type": "markdown",
      "source": [
        "# Determine NextValue\n",
        "This will be the value we are attempting to learn"
      ],
      "metadata": {
        "id": "M6ikvyh2mKvw"
      }
    },
    {
      "cell_type": "code",
      "source": [
        "def findNextTime(trainsEntry, actualsEntry, timeInMinutes):\n",
        "  #print(actualsEntry.iloc[4]['speedMPH'], \" - \",trainsEntry['lastReportedPosition.speedMPH'] )\n",
        "  idx = math.trunc(timeInMinutes // 2)\n",
        "  if (idx < len(actualsEntry)):\n",
        "    return (abs(actualsEntry.iloc[idx]['speedMPH']) - abs(trainsEntry['lastReportedPosition.speedMPH']))\n",
        "  return None"
      ],
      "metadata": {
        "id": "HsFWDlcWROcp"
      },
      "execution_count": 53,
      "outputs": []
    },
    {
      "cell_type": "code",
      "source": [
        "def findNextMilepost(trainsEntry, actualsEntry, distance):\n",
        "  currMilepost = trainsEntry['lastReportedPosition.milepostLocation.milepost.milepostNumber']\n",
        "  value  = actualsEntry.loc[actualsEntry['milepostLocation.milepost.milepostNumber'] > currMilepost + distance]\n",
        "  if (len(value) > 0) :\n",
        "    return value[value['milepostLocation.milepost.milepostNumber'] == value['milepostLocation.milepost.milepostNumber'].min()]\n",
        "  value  = actualsEntry.loc[actualsEntry['milepostLocation.milepost.milepostNumber'] < currMilepost - distance]\n",
        "  if (len(value) > 0):\n",
        "    return value[value['milepostLocation.milepost.milepostNumber'] == value['milepostLocation.milepost.milepostNumber'].max()]\n",
        "  return []"
      ],
      "metadata": {
        "id": "-gfZhQNSsxeV"
      },
      "execution_count": 54,
      "outputs": []
    },
    {
      "cell_type": "code",
      "source": [
        "def findNextMilepostAtTime(trainsEntry, actualsEntry, timeInMinutes):\n",
        "  idx = math.trunc(timeInMinutes // 2)\n",
        "  if (idx < len(actualsEntry)):\n",
        "    return actualsEntry.iloc[idx]['milepostLocation.milepost.milepostNumber']\n",
        "  return None"
      ],
      "metadata": {
        "id": "V3P0NgM-zSpV"
      },
      "execution_count": 55,
      "outputs": []
    },
    {
      "cell_type": "code",
      "source": [
        "def findNextSpeed(trainsEntry, actualsEntry):\n",
        "  if (measurement.get('unit') == 'miles'):\n",
        "    nextActual = findNextMilepost(trainsEntry, actualsEntry, measurement.get('size'))\n",
        "    if (nextActual != None and len(nextActual) > 0):\n",
        "      amt = (abs(nextActual.iloc[0]['speedMPH']) - abs(trainsEntry['lastReportedPosition.speedMPH']))\n",
        "      return amt;\n",
        "  elif (measurement.get('unit') == 'minutes'):\n",
        "    return findNextTime(trainsEntry, actualsEntry, measurement.get('size'))\n",
        "  elif (measurement.get('unit') == 'milepost'):\n",
        "    return findNextMilepostAtTime(trainsEntry, actualsEntry, measurement.get('size'))\n",
        "  else:\n",
        "    raise Exception('unknown measurement', measurement.get('unit'))    \n",
        "  return None"
      ],
      "metadata": {
        "id": "i_JszmqL0MR6"
      },
      "execution_count": 56,
      "outputs": []
    },
    {
      "cell_type": "markdown",
      "source": [
        "You can peer into the mechanics of a lookup here:"
      ],
      "metadata": {
        "id": "lzq_GLI5mdDk"
      }
    },
    {
      "cell_type": "code",
      "source": [
        "idx = 3291\n",
        "showTrain(idx)\n",
        "print(\"Reported speed: \", dfTrainsLearn.iloc[idx]['lastReportedPosition.speedMPH'])\n",
        "print(\"Reported MP: \", dfTrainsLearn.iloc[idx]['lastReportedPosition.milepostLocation.milepost.milepostNumber'])\n",
        "print(\"Reported Time: \", dfTrainsLearn.iloc[idx]['lastReportedPosition.positionTime'])\n",
        "\n",
        "nextActual = findNextMilepost(dfTrainsLearn.iloc[idx], dfTrainsLearnActuals.iloc[idx], 1)\n",
        "print(\"Next Speed at MP:\",nextActual)\n",
        "nextActual = findNextTime(dfTrainsLearn.iloc[idx], dfTrainsLearnActuals.iloc[idx], 10)\n",
        "print(\"Next Speed at 10 Min:\",nextActual)\n",
        "nextActual = findNextMilepostAtTime(dfTrainsLearn.iloc[idx], dfTrainsLearnActuals.iloc[idx], 10)\n",
        "print(\"Milepost in 10 Min:\",nextActual)\n",
        "\n",
        "print(\"actual Value: \", findNextSpeed(dfTrainsLearn.iloc[idx], dfTrainsLearnActuals.iloc[idx]))\n",
        "beopJSON = dfTrainsBeop.iloc[idx]['trainEstimatedPositionList']\n",
        "if not type(beopJSON) is float and len(beopJSON) > 0:\n",
        "  beopDT = pd.json_normalize(beopJSON)\n",
        "  nextBeop = findNextMilepost(dfTrainsLearn.iloc[idx], beopDT, 1)\n",
        "  print(nextBeop)\n",
        "  type(dfTrainsBeop.iloc[idx]['trainEstimatedPositionList'])\n",
        "  print(\"beop Value: \", findNextSpeed(dfTrainsLearn.iloc[idx], beopDT))"
      ],
      "metadata": {
        "id": "F_hQFHKztIu-",
        "colab": {
          "base_uri": "https://localhost:8080/"
        },
        "outputId": "b47b2afa-a5b0-48da-dbec-7d91750269fb"
      },
      "execution_count": 57,
      "outputs": [
        {
          "output_type": "stream",
          "name": "stdout",
          "text": [
            "UP6579\n",
            "CNAPW9\n",
            "Reported speed:  42\n",
            "Reported MP:  315.8773\n",
            "Reported Time:  2022-06-26T02:15:16Z\n",
            "Next Speed at MP:            positionTime  speedMPH  milepostLocation.subdivisionId  \\\n",
            "0  2022-06-26T02:17:16Z       -43                             106   \n",
            "\n",
            "  milepostLocation.trackName  milepostLocation.milepost.milepostNumber  \n",
            "0                       MT 2                                 314.40375  \n",
            "Next Speed at 10 Min: 8\n",
            "Milepost in 10 Min: 306.50928\n",
            "actual Value:  296.73306\n",
            "           positionTime  speedMPH  milepostLocation.subdivisionId  \\\n",
            "1  2022-06-26T02:17:16Z       -44                             106   \n",
            "\n",
            "  milepostLocation.trackName  milepostLocation.milepost.milepostNumber  \n",
            "1                       MT 2                                  314.4466  \n",
            "beop Value:  299.73553\n"
          ]
        }
      ]
    },
    {
      "cell_type": "markdown",
      "source": [
        "Run the calulations.  This will take a moment."
      ],
      "metadata": {
        "id": "cWzMCn-tsE22"
      }
    },
    {
      "cell_type": "code",
      "source": [
        "dfTrainsLearn['nextValue'] = np.NaN\n",
        "dfTrainsLearn['beopValue'] = np.NaN\n",
        "i = 0;\n",
        "for index, trainsEntry in dfTrainsLearn.iterrows():\n",
        "  nextValue = findNextSpeed(trainsEntry, dfTrainsLearnActuals.iloc[i])\n",
        "  if (nextValue != None):\n",
        "    dfTrainsLearn.at[i,'nextValue'] = nextValue\n",
        "  beopJSON = dfTrainsBeop.iloc[i]['trainEstimatedPositionList']\n",
        "  if not type(beopJSON) is float and len(beopJSON) > 0:\n",
        "    try:\n",
        "      beopDT = pd.json_normalize(beopJSON)\n",
        "      if (measurement.get('unit') == 'miles'):\n",
        "        nextBeop = findNextMilepost(trainsEntry, beopDT, measurement.get('size'))\n",
        "      elif (measurement.get('unit') == 'minutes'):\n",
        "        nextBeop = findNextTime(trainsEntry, beopDT, measurement.get('size'))\n",
        "      elif (measurement.get('unit') == 'milepost'):\n",
        "        nextBeop = findNextMilepostAtTime(trainsEntry, beopDT, measurement.get('size'))\n",
        "      if (nextBeop != None):\n",
        "        dfTrainsLearn.at[i,'beopValue'] = nextBeop\n",
        "    except NotImplementedError:\n",
        "      print(type(beopJSON))\n",
        "    except KeyError:\n",
        "      print(beopJSON)\n",
        "  if (i % 1000 == 0):\n",
        "    print(i)\n",
        "  i = i + 1"
      ],
      "metadata": {
        "id": "fG2U-anX-jbt",
        "colab": {
          "base_uri": "https://localhost:8080/"
        },
        "outputId": "bacbabc6-9c90-4661-e535-965288c349d7"
      },
      "execution_count": 58,
      "outputs": [
        {
          "output_type": "stream",
          "name": "stdout",
          "text": [
            "0\n",
            "1000\n",
            "2000\n",
            "3000\n",
            "4000\n",
            "5000\n",
            "6000\n"
          ]
        }
      ]
    },
    {
      "cell_type": "code",
      "source": [
        "dfTrainsLearn = dfTrainsLearn.dropna(subset=['nextValue'])\n",
        "dfTrainsLearn['nextValue'].unique()"
      ],
      "metadata": {
        "colab": {
          "base_uri": "https://localhost:8080/"
        },
        "id": "lQz8KQHM3SdN",
        "outputId": "2ac76670-cd19-4141-d104-36b928bc9d6c"
      },
      "execution_count": 59,
      "outputs": [
        {
          "output_type": "execute_result",
          "data": {
            "text/plain": [
              "array([765.4534 , 766.2368 , 766.57025, ..., 297.7107 , 309.46198, 321.9232 ])"
            ]
          },
          "metadata": {},
          "execution_count": 59
        }
      ]
    },
    {
      "cell_type": "code",
      "source": [
        "print(\"NextSpeed values histogram:\")\n",
        "dfTrainsLearn['nextValue'].hist(bins=200)"
      ],
      "metadata": {
        "id": "IOWDvvGusUBm",
        "colab": {
          "base_uri": "https://localhost:8080/",
          "height": 303
        },
        "outputId": "1ad3ffd1-9c61-4cf3-935d-d1dafa171dd4"
      },
      "execution_count": 60,
      "outputs": [
        {
          "output_type": "stream",
          "name": "stdout",
          "text": [
            "NextSpeed values histogram:\n"
          ]
        },
        {
          "output_type": "execute_result",
          "data": {
            "text/plain": [
              "<matplotlib.axes._subplots.AxesSubplot at 0x7f4b9ac11150>"
            ]
          },
          "metadata": {},
          "execution_count": 60
        },
        {
          "output_type": "display_data",
          "data": {
            "text/plain": [
              "<Figure size 432x288 with 1 Axes>"
            ],
            "image/png": "[encoded data removed]"
          },
          "metadata": {
            "needs_background": "light"
          }
        }
      ]
    },
    {
      "cell_type": "code",
      "source": [
        "dfTrainsLearn['beopValue'].unique()"
      ],
      "metadata": {
        "id": "bdSnFJoMWVrn",
        "colab": {
          "base_uri": "https://localhost:8080/"
        },
        "outputId": "02c4c24a-81d7-497a-92f1-351f6612450c"
      },
      "execution_count": 62,
      "outputs": [
        {
          "output_type": "execute_result",
          "data": {
            "text/plain": [
              "array([      nan, 731.8421 , 738.4649 , ..., 305.0763 , 309.55542, 321.7972 ])"
            ]
          },
          "metadata": {},
          "execution_count": 62
        }
      ]
    },
    {
      "cell_type": "code",
      "source": [
        "print(\"physics predictions histogram:\")\n",
        "dfTrainsLearn['beopValue'].hist(bins=200)"
      ],
      "metadata": {
        "id": "K7WQR074WuDQ",
        "colab": {
          "base_uri": "https://localhost:8080/",
          "height": 303
        },
        "outputId": "0361037d-f97c-4707-8ad4-6bbd59795bb5"
      },
      "execution_count": 63,
      "outputs": [
        {
          "output_type": "stream",
          "name": "stdout",
          "text": [
            "physics predictions histogram:\n"
          ]
        },
        {
          "output_type": "execute_result",
          "data": {
            "text/plain": [
              "<matplotlib.axes._subplots.AxesSubplot at 0x7f4ba5846350>"
            ]
          },
          "metadata": {},
          "execution_count": 63
        },
        {
          "output_type": "display_data",
          "data": {
            "text/plain": [
              "<Figure size 432x288 with 1 Axes>"
            ],
            "image/png": "[encoded data removed]"
          },
          "metadata": {
            "needs_background": "light"
          }
        }
      ]
    },
    {
      "cell_type": "code",
      "source": [
        "dfTrainsNextBeop = dfTrainsLearn['beopValue']"
      ],
      "metadata": {
        "id": "k1sGN4n_2bDU"
      },
      "execution_count": 64,
      "outputs": []
    },
    {
      "cell_type": "markdown",
      "source": [
        "Drop some values we are not using at the moment, not needed.\n",
        "\n",
        "Note, this will disable above computations unless you resume at \"Create a learning set\""
      ],
      "metadata": {
        "id": "moXjNcMQu-3C"
      }
    },
    {
      "cell_type": "code",
      "source": [
        "dfTrainsLearn = dfTrainsLearn.drop(columns=['aotuTrainData.tenantCarrier',\n",
        "                                            'beopValue',\n",
        "                                            'positionHistoryList',\n",
        "                                            'locomotiveList',\n",
        "                                            'subdivisionList',\n",
        "                                            'trainActualPositionList',\n",
        "                                            'trainEstimatedPositionList',\n",
        "                                            'aotuTrainData.routeLocationList'])"
      ],
      "metadata": {
        "id": "hBmsqv6IuVVO"
      },
      "execution_count": 65,
      "outputs": []
    },
    {
      "cell_type": "markdown",
      "source": [
        "Burst dates into subcolumns that might prove useful"
      ],
      "metadata": {
        "id": "22_dmiSmoYyq"
      }
    },
    {
      "cell_type": "code",
      "source": [
        "tabular.core.make_date(dfTrainsLearn, 'trainId.trainDate')\n",
        "tabular.core.make_date(dfTrainsLearn, 'lastReportedPosition.positionTime')\n",
        "tabular.core.add_datepart(dfTrainsLearn, 'lastReportedPosition.positionTime')\n",
        "# tabular.core.add_elapsed_times(dfTrainsLearn, 'lastReportedPosition.positionTime')\n"
      ],
      "metadata": {
        "id": "DjTAxScsbHCN",
        "colab": {
          "base_uri": "https://localhost:8080/",
          "height": 487
        },
        "outputId": "7565ca53-7f32-47ad-d807-bb8deca4b2c2"
      },
      "execution_count": 66,
      "outputs": [
        {
          "output_type": "execute_result",
          "data": {
            "text/plain": [
              "     ptcLeadLocomotiveId trainId.trainSCAC trainId.trainSection  \\\n",
              "10              BNSF3836                UP                        \n",
              "23              BNSF5040                UP                        \n",
              "32              BNSF5746                UP                        \n",
              "34              BNSF5833                UP                        \n",
              "35              BNSF5833                UP                        \n",
              "...                  ...               ...                  ...   \n",
              "6741              UP9101                UP                        \n",
              "6742              UP9101                UP                        \n",
              "6743              UP9101                UP                        \n",
              "6744              UP9101                UP                        \n",
              "6745              UP9101                UP                        \n",
              "\n",
              "     trainId.trainSymbol  ...  \\\n",
              "10                QDYIJJ  ...   \n",
              "23                QDYIJJ  ...   \n",
              "32                QBTIJJ  ...   \n",
              "34                 MNOEW  ...   \n",
              "35                 MNOEW  ...   \n",
              "...                  ...  ...   \n",
              "6741               MCHCB  ...   \n",
              "6742               MCHCB  ...   \n",
              "6743               MCHCB  ...   \n",
              "6744               MCHCB  ...   \n",
              "6745               MCHCB  ...   \n",
              "\n",
              "     lastReportedPosition.positionTimeIs_quarter_start  \\\n",
              "10                                               False   \n",
              "23                                               False   \n",
              "32                                               False   \n",
              "34                                               False   \n",
              "35                                               False   \n",
              "...                                                ...   \n",
              "6741                                             False   \n",
              "6742                                             False   \n",
              "6743                                             False   \n",
              "6744                                             False   \n",
              "6745                                             False   \n",
              "\n",
              "      lastReportedPosition.positionTimeIs_year_end  \\\n",
              "10                                           False   \n",
              "23                                           False   \n",
              "32                                           False   \n",
              "34                                           False   \n",
              "35                                           False   \n",
              "...                                            ...   \n",
              "6741                                         False   \n",
              "6742                                         False   \n",
              "6743                                         False   \n",
              "6744                                         False   \n",
              "6745                                         False   \n",
              "\n",
              "      lastReportedPosition.positionTimeIs_year_start  \\\n",
              "10                                             False   \n",
              "23                                             False   \n",
              "32                                             False   \n",
              "34                                             False   \n",
              "35                                             False   \n",
              "...                                              ...   \n",
              "6741                                           False   \n",
              "6742                                           False   \n",
              "6743                                           False   \n",
              "6744                                           False   \n",
              "6745                                           False   \n",
              "\n",
              "     lastReportedPosition.positionTimeElapsed  \n",
              "10                               1.656589e+09  \n",
              "23                               1.656024e+09  \n",
              "32                               1.655822e+09  \n",
              "34                               1.655754e+09  \n",
              "35                               1.655755e+09  \n",
              "...                                       ...  \n",
              "6741                             1.655978e+09  \n",
              "6742                             1.655979e+09  \n",
              "6743                             1.655982e+09  \n",
              "6744                             1.655983e+09  \n",
              "6745                             1.655984e+09  \n",
              "\n",
              "[5907 rows x 47 columns]"
            ],
            "text/html": [
              "\n",
              "  <div id=\"df-13cec500-93ae-4e28-b1b4-f6298cf9dc1f\">\n",
              "    <div class=\"colab-df-container\">\n",
              "      <div>\n",
              "<style scoped>\n",
              "    .dataframe tbody tr th:only-of-type {\n",
              "        vertical-align: middle;\n",
              "    }\n",
              "\n",
              "    .dataframe tbody tr th {\n",
              "        vertical-align: top;\n",
              "    }\n",
              "\n",
              "    .dataframe thead th {\n",
              "        text-align: right;\n",
              "    }\n",
              "</style>\n",
              "<table border=\"1\" class=\"dataframe\">\n",
              "  <thead>\n",
              "    <tr style=\"text-align: right;\">\n",
              "      <th></th>\n",
              "      <th>ptcLeadLocomotiveId</th>\n",
              "      <th>trainId.trainSCAC</th>\n",
              "      <th>trainId.trainSection</th>\n",
              "      <th>trainId.trainSymbol</th>\n",
              "      <th>...</th>\n",
              "      <th>lastReportedPosition.positionTimeIs_quarter_start</th>\n",
              "      <th>lastReportedPosition.positionTimeIs_year_end</th>\n",
              "      <th>lastReportedPosition.positionTimeIs_year_start</th>\n",
              "      <th>lastReportedPosition.positionTimeElapsed</th>\n",
              "    </tr>\n",
              "  </thead>\n",
              "  <tbody>\n",
              "    <tr>\n",
              "      <th>10</th>\n",
              "      <td>BNSF3836</td>\n",
              "      <td>UP</td>\n",
              "      <td></td>\n",
              "      <td>QDYIJJ</td>\n",
              "      <td>...</td>\n",
              "      <td>False</td>\n",
              "      <td>False</td>\n",
              "      <td>False</td>\n",
              "      <td>1.656589e+09</td>\n",
              "    </tr>\n",
              "    <tr>\n",
              "      <th>23</th>\n",
              "      <td>BNSF5040</td>\n",
              "      <td>UP</td>\n",
              "      <td></td>\n",
              "      <td>QDYIJJ</td>\n",
              "      <td>...</td>\n",
              "      <td>False</td>\n",
              "      <td>False</td>\n",
              "      <td>False</td>\n",
              "      <td>1.656024e+09</td>\n",
              "    </tr>\n",
              "    <tr>\n",
              "      <th>32</th>\n",
              "      <td>BNSF5746</td>\n",
              "      <td>UP</td>\n",
              "      <td></td>\n",
              "      <td>QBTIJJ</td>\n",
              "      <td>...</td>\n",
              "      <td>False</td>\n",
              "      <td>False</td>\n",
              "      <td>False</td>\n",
              "      <td>1.655822e+09</td>\n",
              "    </tr>\n",
              "    <tr>\n",
              "      <th>34</th>\n",
              "      <td>BNSF5833</td>\n",
              "      <td>UP</td>\n",
              "      <td></td>\n",
              "      <td>MNOEW</td>\n",
              "      <td>...</td>\n",
              "      <td>False</td>\n",
              "      <td>False</td>\n",
              "      <td>False</td>\n",
              "      <td>1.655754e+09</td>\n",
              "    </tr>\n",
              "    <tr>\n",
              "      <th>35</th>\n",
              "      <td>BNSF5833</td>\n",
              "      <td>UP</td>\n",
              "      <td></td>\n",
              "      <td>MNOEW</td>\n",
              "      <td>...</td>\n",
              "      <td>False</td>\n",
              "      <td>False</td>\n",
              "      <td>False</td>\n",
              "      <td>1.655755e+09</td>\n",
              "    </tr>\n",
              "    <tr>\n",
              "      <th>...</th>\n",
              "      <td>...</td>\n",
              "      <td>...</td>\n",
              "      <td>...</td>\n",
              "      <td>...</td>\n",
              "      <td>...</td>\n",
              "      <td>...</td>\n",
              "      <td>...</td>\n",
              "      <td>...</td>\n",
              "      <td>...</td>\n",
              "    </tr>\n",
              "    <tr>\n",
              "      <th>6741</th>\n",
              "      <td>UP9101</td>\n",
              "      <td>UP</td>\n",
              "      <td></td>\n",
              "      <td>MCHCB</td>\n",
              "      <td>...</td>\n",
              "      <td>False</td>\n",
              "      <td>False</td>\n",
              "      <td>False</td>\n",
              "      <td>1.655978e+09</td>\n",
              "    </tr>\n",
              "    <tr>\n",
              "      <th>6742</th>\n",
              "      <td>UP9101</td>\n",
              "      <td>UP</td>\n",
              "      <td></td>\n",
              "      <td>MCHCB</td>\n",
              "      <td>...</td>\n",
              "      <td>False</td>\n",
              "      <td>False</td>\n",
              "      <td>False</td>\n",
              "      <td>1.655979e+09</td>\n",
              "    </tr>\n",
              "    <tr>\n",
              "      <th>6743</th>\n",
              "      <td>UP9101</td>\n",
              "      <td>UP</td>\n",
              "      <td></td>\n",
              "      <td>MCHCB</td>\n",
              "      <td>...</td>\n",
              "      <td>False</td>\n",
              "      <td>False</td>\n",
              "      <td>False</td>\n",
              "      <td>1.655982e+09</td>\n",
              "    </tr>\n",
              "    <tr>\n",
              "      <th>6744</th>\n",
              "      <td>UP9101</td>\n",
              "      <td>UP</td>\n",
              "      <td></td>\n",
              "      <td>MCHCB</td>\n",
              "      <td>...</td>\n",
              "      <td>False</td>\n",
              "      <td>False</td>\n",
              "      <td>False</td>\n",
              "      <td>1.655983e+09</td>\n",
              "    </tr>\n",
              "    <tr>\n",
              "      <th>6745</th>\n",
              "      <td>UP9101</td>\n",
              "      <td>UP</td>\n",
              "      <td></td>\n",
              "      <td>MCHCB</td>\n",
              "      <td>...</td>\n",
              "      <td>False</td>\n",
              "      <td>False</td>\n",
              "      <td>False</td>\n",
              "      <td>1.655984e+09</td>\n",
              "    </tr>\n",
              "  </tbody>\n",
              "</table>\n",
              "<p>5907 rows × 47 columns</p>\n",
              "</div>\n",
              "      <button class=\"colab-df-convert\" onclick=\"convertToInteractive('df-13cec500-93ae-4e28-b1b4-f6298cf9dc1f')\"\n",
              "              title=\"Convert this dataframe to an interactive table.\"\n",
              "              style=\"display:none;\">\n",
              "        \n",
              "  <svg xmlns=\"http://www.w3.org/2000/svg\" height=\"24px\"viewBox=\"0 0 24 24\"\n",
              "       width=\"24px\">\n",
              "    <path d=\"M0 0h24v24H0V0z\" fill=\"none\"/>\n",
              "    <path d=\"M18.56 5.44l.94 2.06.94-2.06 2.06-.94-2.06-.94-.94-2.06-.94 2.06-2.06.94zm-11 1L8.5 8.5l.94-2.06 2.06-.94-2.06-.94L8.5 2.5l-.94 2.06-2.06.94zm10 10l.94 2.06.94-2.06 2.06-.94-2.06-.94-.94-2.06-.94 2.06-2.06.94z\"/><path d=\"M17.41 7.96l-1.37-1.37c-.4-.4-.92-.59-1.43-.59-.52 0-1.04.2-1.43.59L10.3 9.45l-7.72 7.72c-.78.78-.78 2.05 0 2.83L4 21.41c.39.39.9.59 1.41.59.51 0 1.02-.2 1.41-.59l7.78-7.78 2.81-2.81c.8-.78.8-2.07 0-2.86zM5.41 20L4 18.59l7.72-7.72 1.47 1.35L5.41 20z\"/>\n",
              "  </svg>\n",
              "      </button>\n",
              "      \n",
              "  <style>\n",
              "    .colab-df-container {\n",
              "      display:flex;\n",
              "      flex-wrap:wrap;\n",
              "      gap: 12px;\n",
              "    }\n",
              "\n",
              "    .colab-df-convert {\n",
              "      background-color: #E8F0FE;\n",
              "      border: none;\n",
              "      border-radius: 50%;\n",
              "      cursor: pointer;\n",
              "      display: none;\n",
              "      fill: #1967D2;\n",
              "      height: 32px;\n",
              "      padding: 0 0 0 0;\n",
              "      width: 32px;\n",
              "    }\n",
              "\n",
              "    .colab-df-convert:hover {\n",
              "      background-color: #E2EBFA;\n",
              "      box-shadow: 0px 1px 2px rgba(60, 64, 67, 0.3), 0px 1px 3px 1px rgba(60, 64, 67, 0.15);\n",
              "      fill: #174EA6;\n",
              "    }\n",
              "\n",
              "    [theme=dark] .colab-df-convert {\n",
              "      background-color: #3B4455;\n",
              "      fill: #D2E3FC;\n",
              "    }\n",
              "\n",
              "    [theme=dark] .colab-df-convert:hover {\n",
              "      background-color: #434B5C;\n",
              "      box-shadow: 0px 1px 3px 1px rgba(0, 0, 0, 0.15);\n",
              "      filter: drop-shadow(0px 1px 2px rgba(0, 0, 0, 0.3));\n",
              "      fill: #FFFFFF;\n",
              "    }\n",
              "  </style>\n",
              "\n",
              "      <script>\n",
              "        const buttonEl =\n",
              "          document.querySelector('#df-13cec500-93ae-4e28-b1b4-f6298cf9dc1f button.colab-df-convert');\n",
              "        buttonEl.style.display =\n",
              "          google.colab.kernel.accessAllowed ? 'block' : 'none';\n",
              "\n",
              "        async function convertToInteractive(key) {\n",
              "          const element = document.querySelector('#df-13cec500-93ae-4e28-b1b4-f6298cf9dc1f');\n",
              "          const dataTable =\n",
              "            await google.colab.kernel.invokeFunction('convertToInteractive',\n",
              "                                                     [key], {});\n",
              "          if (!dataTable) return;\n",
              "\n",
              "          const docLinkHtml = 'Like what you see? Visit the ' +\n",
              "            '<a target=\"_blank\" href=https://colab.research.google.com/notebooks/data_table.ipynb>data table notebook</a>'\n",
              "            + ' to learn more about interactive tables.';\n",
              "          element.innerHTML = '';\n",
              "          dataTable['output_type'] = 'display_data';\n",
              "          await google.colab.output.renderOutput(dataTable, element);\n",
              "          const docLink = document.createElement('div');\n",
              "          docLink.innerHTML = docLinkHtml;\n",
              "          element.appendChild(docLink);\n",
              "        }\n",
              "      </script>\n",
              "    </div>\n",
              "  </div>\n",
              "  "
            ]
          },
          "metadata": {},
          "execution_count": 66
        }
      ]
    },
    {
      "cell_type": "code",
      "source": [
        "print(dfTrainsLearn.shape)\n",
        "print(dfTrainsLearnActuals.shape)\n",
        "\n",
        "print(dfTrainsLearn.info())\n",
        "print(dfTrainsLearn.iloc[10])"
      ],
      "metadata": {
        "id": "jTVXPBSQ2gp3",
        "colab": {
          "base_uri": "https://localhost:8080/"
        },
        "outputId": "cfa31daa-adcc-40ea-d965-54d8a577dd2f"
      },
      "execution_count": 67,
      "outputs": [
        {
          "output_type": "stream",
          "name": "stdout",
          "text": [
            "(5907, 47)\n",
            "(6747,)\n",
            "<class 'pandas.core.frame.DataFrame'>\n",
            "Int64Index: 5907 entries, 10 to 6745\n",
            "Data columns (total 47 columns):\n",
            " #   Column                                                         Non-Null Count  Dtype         \n",
            "---  ------                                                         --------------  -----         \n",
            " 0   ptcLeadLocomotiveId                                            5907 non-null   object        \n",
            " 1   trainId.trainSCAC                                              5907 non-null   category      \n",
            " 2   trainId.trainSection                                           5907 non-null   category      \n",
            " 3   trainId.trainSymbol                                            5907 non-null   object        \n",
            " 4   trainId.trainDate                                              5907 non-null   datetime64[ns]\n",
            " 5   lastReportedPosition.speedMPH                                  5907 non-null   int64         \n",
            " 6   lastReportedPosition.milepostLocation.subdivisionId            5907 non-null   int64         \n",
            " 7   lastReportedPosition.milepostLocation.trackName                5907 non-null   category      \n",
            " 8   lastReportedPosition.milepostLocation.milepost.milepostNumber  5907 non-null   float64       \n",
            " 9   aotuTrainData.priorityCode                                     5907 non-null   category      \n",
            " 10  aotuTrainData.categoryCode                                     5907 non-null   category      \n",
            " 11  aotuTrainData.authorityRangeCode                               5907 non-null   category      \n",
            " 12  aotuTrainData.ownershipCode                                    5907 non-null   category      \n",
            " 13  aotuTrainData.totalCarWeight                                   5907 non-null   float64       \n",
            " 14  aotuTrainData.totalCarLength                                   5907 non-null   float64       \n",
            " 15  aotuTrainData.totalLocomotiveWeight                            5907 non-null   float64       \n",
            " 16  aotuTrainData.totalLocomotiveLength                            5907 non-null   float64       \n",
            " 17  aotuTrainData.actualTonsPerAxle                                5907 non-null   float64       \n",
            " 18  aotuTrainData.heavy143TonCarCount                              5907 non-null   float64       \n",
            " 19  aotuTrainData.heavy158TonCarCount                              5907 non-null   float64       \n",
            " 20  aotuTrainData.over158TonCarCount                               5907 non-null   float64       \n",
            " 21  aotuTrainData.highWideCarCount                                 5907 non-null   float64       \n",
            " 22  aotuTrainData.eventCode                                        5907 non-null   category      \n",
            " 23  maximumTrainSpeed                                              5907 non-null   float64       \n",
            " 24  loadedCarCount                                                 5907 non-null   float64       \n",
            " 25  emptyCarCount                                                  5907 non-null   float64       \n",
            " 26  trainLength                                                    5907 non-null   float64       \n",
            " 27  trailingTonnage                                                5907 non-null   float64       \n",
            " 28  milepost                                                       5907 non-null   int64         \n",
            " 29  mpIncr                                                         5907 non-null   bool          \n",
            " 30  symbolType                                                     5907 non-null   category      \n",
            " 31  workLocations                                                  4951 non-null   object        \n",
            " 32  locomotiveCount                                                5907 non-null   int64         \n",
            " 33  nextValue                                                      5907 non-null   float64       \n",
            " 34  lastReportedPosition.positionTimeYear                          5907 non-null   int64         \n",
            " 35  lastReportedPosition.positionTimeMonth                         5907 non-null   int64         \n",
            " 36  lastReportedPosition.positionTimeWeek                          5907 non-null   int64         \n",
            " 37  lastReportedPosition.positionTimeDay                           5907 non-null   int64         \n",
            " 38  lastReportedPosition.positionTimeDayofweek                     5907 non-null   int64         \n",
            " 39  lastReportedPosition.positionTimeDayofyear                     5907 non-null   int64         \n",
            " 40  lastReportedPosition.positionTimeIs_month_end                  5907 non-null   bool          \n",
            " 41  lastReportedPosition.positionTimeIs_month_start                5907 non-null   bool          \n",
            " 42  lastReportedPosition.positionTimeIs_quarter_end                5907 non-null   bool          \n",
            " 43  lastReportedPosition.positionTimeIs_quarter_start              5907 non-null   bool          \n",
            " 44  lastReportedPosition.positionTimeIs_year_end                   5907 non-null   bool          \n",
            " 45  lastReportedPosition.positionTimeIs_year_start                 5907 non-null   bool          \n",
            " 46  lastReportedPosition.positionTimeElapsed                       5907 non-null   float64       \n",
            "dtypes: bool(7), category(9), datetime64[ns](1), float64(17), int64(10), object(3)\n",
            "memory usage: 1.5+ MB\n",
            "None\n",
            "ptcLeadLocomotiveId                                             BNSF5833\n",
            "trainId.trainSCAC                                                     UP\n",
            "trainId.trainSection                                                    \n",
            "trainId.trainSymbol                                                MNOEW\n",
            "trainId.trainDate                                    2022-06-19 00:00:00\n",
            "                                                            ...         \n",
            "lastReportedPosition.positionTimeIs_quarter_end                    False\n",
            "lastReportedPosition.positionTimeIs_quarter_start                  False\n",
            "lastReportedPosition.positionTimeIs_year_end                       False\n",
            "lastReportedPosition.positionTimeIs_year_start                     False\n",
            "lastReportedPosition.positionTimeElapsed                    1655761805.0\n",
            "Name: 41, Length: 47, dtype: object\n"
          ]
        }
      ]
    },
    {
      "cell_type": "markdown",
      "source": [
        "# Use Decision Tree to predict next speed"
      ],
      "metadata": {
        "id": "mg1p1vouBeIB"
      }
    },
    {
      "cell_type": "code",
      "source": [
        "procs = [tabular.core.Categorify, tabular.core.FillMissing]"
      ],
      "metadata": {
        "id": "F9TApkZWbAbz"
      },
      "execution_count": 68,
      "outputs": []
    },
    {
      "cell_type": "markdown",
      "source": [
        "Breakdown the data by day of year - we will train with older data and then test the model with newer values.\n",
        "Note: this simple logic will fail at the begining of a new year!"
      ],
      "metadata": {
        "id": "yjaTPkTntR7F"
      }
    },
    {
      "cell_type": "code",
      "source": [
        "dateValues = dfTrainsLearn.groupby(['lastReportedPosition.positionTimeDayofyear'])['lastReportedPosition.positionTimeDayofyear'].count()\n",
        "print(dateValues)"
      ],
      "metadata": {
        "id": "gDgYzofcvcpM",
        "colab": {
          "base_uri": "https://localhost:8080/"
        },
        "outputId": "27298792-09b8-4dae-965a-c8f1894a30b7"
      },
      "execution_count": 69,
      "outputs": [
        {
          "output_type": "stream",
          "name": "stdout",
          "text": [
            "lastReportedPosition.positionTimeDayofyear\n",
            "171    448\n",
            "172    460\n",
            "173    518\n",
            "174    688\n",
            "175    583\n",
            "176    522\n",
            "177    548\n",
            "178    511\n",
            "179    513\n",
            "180    487\n",
            "181    507\n",
            "182    122\n",
            "Name: lastReportedPosition.positionTimeDayofyear, dtype: int64\n"
          ]
        }
      ]
    },
    {
      "cell_type": "code",
      "source": [
        "print(\"We will partition this set at day of year:\", dateValues.index[math.trunc(dateValues.size * .66)])"
      ],
      "metadata": {
        "colab": {
          "base_uri": "https://localhost:8080/"
        },
        "id": "cJkyrhnpt2T2",
        "outputId": "ea617fc3-178e-43ca-a2cd-0ce3ba5162b0"
      },
      "execution_count": 70,
      "outputs": [
        {
          "output_type": "stream",
          "name": "stdout",
          "text": [
            "We will partition this set at day of year: 178\n"
          ]
        }
      ]
    },
    {
      "cell_type": "code",
      "source": [
        "cond = ( dfTrainsLearn['lastReportedPosition.positionTimeDayofyear'] <= dateValues.index[math.trunc(dateValues.size * .66)] )\n",
        "trainIdx = np.where(cond)[0]\n",
        "validIdx = np.where(~cond)[0]\n",
        "splits = (list(trainIdx), list(validIdx))"
      ],
      "metadata": {
        "id": "nIURJVe5vc_n"
      },
      "execution_count": 71,
      "outputs": []
    },
    {
      "cell_type": "code",
      "source": [
        "#dep_var = 'nextSpeed'"
      ],
      "metadata": {
        "id": "rPW42wgnOLO_"
      },
      "execution_count": 43,
      "outputs": []
    },
    {
      "cell_type": "code",
      "source": [
        "cont,cat = tabular.core.cont_cat_split(dfTrainsLearn, 1, dep_var=dep_var)"
      ],
      "metadata": {
        "id": "gHDAeThzyzc6"
      },
      "execution_count": 72,
      "outputs": []
    },
    {
      "cell_type": "code",
      "source": [
        "to = tabular.core.TabularPandas(dfTrainsLearn, procs, cat, cont, y_names=dep_var, splits=splits)"
      ],
      "metadata": {
        "id": "xz1ZonvnO-I7"
      },
      "execution_count": 73,
      "outputs": []
    },
    {
      "cell_type": "code",
      "source": [
        "len(to.train),len(to.valid)"
      ],
      "metadata": {
        "id": "0DJly6_Z94uI",
        "colab": {
          "base_uri": "https://localhost:8080/"
        },
        "outputId": "264deaa8-438e-4283-cf45-27e2f82083d2"
      },
      "execution_count": 74,
      "outputs": [
        {
          "output_type": "execute_result",
          "data": {
            "text/plain": [
              "(4278, 1629)"
            ]
          },
          "metadata": {},
          "execution_count": 74
        }
      ]
    },
    {
      "cell_type": "code",
      "source": [
        "to.show()"
      ],
      "metadata": {
        "id": "xoEQAME4-n0M",
        "colab": {
          "base_uri": "https://localhost:8080/",
          "height": 383
        },
        "outputId": "1c11e6e2-a01a-4e70-ea8d-fa8a93123aa6"
      },
      "execution_count": 75,
      "outputs": [
        {
          "output_type": "display_data",
          "data": {
            "text/plain": [
              "<IPython.core.display.HTML object>"
            ],
            "text/html": [
              "<table border=\"1\" class=\"dataframe\">\n",
              "  <thead>\n",
              "    <tr style=\"text-align: right;\">\n",
              "      <th></th>\n",
              "      <th>ptcLeadLocomotiveId</th>\n",
              "      <th>trainId.trainSCAC</th>\n",
              "      <th>trainId.trainSection</th>\n",
              "      <th>trainId.trainSymbol</th>\n",
              "      <th>trainId.trainDate</th>\n",
              "      <th>lastReportedPosition.milepostLocation.subdivisionId</th>\n",
              "      <th>lastReportedPosition.milepostLocation.trackName</th>\n",
              "      <th>aotuTrainData.priorityCode</th>\n",
              "      <th>aotuTrainData.categoryCode</th>\n",
              "      <th>aotuTrainData.authorityRangeCode</th>\n",
              "      <th>aotuTrainData.ownershipCode</th>\n",
              "      <th>aotuTrainData.eventCode</th>\n",
              "      <th>mpIncr</th>\n",
              "      <th>symbolType</th>\n",
              "      <th>workLocations</th>\n",
              "      <th>lastReportedPosition.positionTimeYear</th>\n",
              "      <th>lastReportedPosition.positionTimeIs_month_end</th>\n",
              "      <th>lastReportedPosition.positionTimeIs_month_start</th>\n",
              "      <th>lastReportedPosition.positionTimeIs_quarter_end</th>\n",
              "      <th>lastReportedPosition.positionTimeIs_quarter_start</th>\n",
              "      <th>lastReportedPosition.positionTimeIs_year_end</th>\n",
              "      <th>lastReportedPosition.positionTimeIs_year_start</th>\n",
              "      <th>lastReportedPosition.speedMPH</th>\n",
              "      <th>lastReportedPosition.milepostLocation.milepost.milepostNumber</th>\n",
              "      <th>aotuTrainData.totalCarWeight</th>\n",
              "      <th>aotuTrainData.totalCarLength</th>\n",
              "      <th>aotuTrainData.totalLocomotiveWeight</th>\n",
              "      <th>aotuTrainData.totalLocomotiveLength</th>\n",
              "      <th>aotuTrainData.actualTonsPerAxle</th>\n",
              "      <th>aotuTrainData.heavy143TonCarCount</th>\n",
              "      <th>aotuTrainData.heavy158TonCarCount</th>\n",
              "      <th>aotuTrainData.over158TonCarCount</th>\n",
              "      <th>aotuTrainData.highWideCarCount</th>\n",
              "      <th>maximumTrainSpeed</th>\n",
              "      <th>loadedCarCount</th>\n",
              "      <th>emptyCarCount</th>\n",
              "      <th>trainLength</th>\n",
              "      <th>trailingTonnage</th>\n",
              "      <th>milepost</th>\n",
              "      <th>locomotiveCount</th>\n",
              "      <th>lastReportedPosition.positionTimeMonth</th>\n",
              "      <th>lastReportedPosition.positionTimeWeek</th>\n",
              "      <th>lastReportedPosition.positionTimeDay</th>\n",
              "      <th>lastReportedPosition.positionTimeDayofweek</th>\n",
              "      <th>lastReportedPosition.positionTimeDayofyear</th>\n",
              "      <th>lastReportedPosition.positionTimeElapsed</th>\n",
              "      <th>nextValue</th>\n",
              "    </tr>\n",
              "  </thead>\n",
              "  <tbody>\n",
              "    <tr>\n",
              "      <th>23</th>\n",
              "      <td>BNSF5040</td>\n",
              "      <td>UP</td>\n",
              "      <td></td>\n",
              "      <td>QDYIJJ</td>\n",
              "      <td>2022-06-22</td>\n",
              "      <td>106</td>\n",
              "      <td>EAST MAIN</td>\n",
              "      <td>2.0</td>\n",
              "      <td>12.0</td>\n",
              "      <td>2.0</td>\n",
              "      <td>3.0</td>\n",
              "      <td>0.0</td>\n",
              "      <td>False</td>\n",
              "      <td>Q</td>\n",
              "      <td>#na#</td>\n",
              "      <td>2022</td>\n",
              "      <td>False</td>\n",
              "      <td>False</td>\n",
              "      <td>False</td>\n",
              "      <td>False</td>\n",
              "      <td>False</td>\n",
              "      <td>False</td>\n",
              "      <td>14</td>\n",
              "      <td>766.864807</td>\n",
              "      <td>0.0</td>\n",
              "      <td>0.0</td>\n",
              "      <td>8520000.0</td>\n",
              "      <td>17560.0</td>\n",
              "      <td>65535.0</td>\n",
              "      <td>0.0</td>\n",
              "      <td>0.0</td>\n",
              "      <td>0.0</td>\n",
              "      <td>0.0</td>\n",
              "      <td>88.0</td>\n",
              "      <td>999.0</td>\n",
              "      <td>999.0</td>\n",
              "      <td>99999.0</td>\n",
              "      <td>99999.0</td>\n",
              "      <td>766</td>\n",
              "      <td>0</td>\n",
              "      <td>6</td>\n",
              "      <td>25</td>\n",
              "      <td>23</td>\n",
              "      <td>3</td>\n",
              "      <td>174</td>\n",
              "      <td>1.656024e+09</td>\n",
              "      <td>766.236816</td>\n",
              "    </tr>\n",
              "    <tr>\n",
              "      <th>32</th>\n",
              "      <td>BNSF5746</td>\n",
              "      <td>UP</td>\n",
              "      <td></td>\n",
              "      <td>QBTIJJ</td>\n",
              "      <td>2022-06-21</td>\n",
              "      <td>106</td>\n",
              "      <td>EAST MAIN</td>\n",
              "      <td>2.0</td>\n",
              "      <td>12.0</td>\n",
              "      <td>2.0</td>\n",
              "      <td>3.0</td>\n",
              "      <td>0.0</td>\n",
              "      <td>True</td>\n",
              "      <td>Q</td>\n",
              "      <td>#na#</td>\n",
              "      <td>2022</td>\n",
              "      <td>False</td>\n",
              "      <td>False</td>\n",
              "      <td>False</td>\n",
              "      <td>False</td>\n",
              "      <td>False</td>\n",
              "      <td>False</td>\n",
              "      <td>6</td>\n",
              "      <td>766.783325</td>\n",
              "      <td>57140000.0</td>\n",
              "      <td>362880.0</td>\n",
              "      <td>12550000.0</td>\n",
              "      <td>26440.0</td>\n",
              "      <td>65535.0</td>\n",
              "      <td>0.0</td>\n",
              "      <td>0.0</td>\n",
              "      <td>0.0</td>\n",
              "      <td>0.0</td>\n",
              "      <td>88.0</td>\n",
              "      <td>999.0</td>\n",
              "      <td>999.0</td>\n",
              "      <td>99999.0</td>\n",
              "      <td>99999.0</td>\n",
              "      <td>766</td>\n",
              "      <td>0</td>\n",
              "      <td>6</td>\n",
              "      <td>25</td>\n",
              "      <td>21</td>\n",
              "      <td>1</td>\n",
              "      <td>172</td>\n",
              "      <td>1.655822e+09</td>\n",
              "      <td>766.570251</td>\n",
              "    </tr>\n",
              "    <tr>\n",
              "      <th>34</th>\n",
              "      <td>BNSF5833</td>\n",
              "      <td>UP</td>\n",
              "      <td></td>\n",
              "      <td>MNOEW</td>\n",
              "      <td>2022-06-19</td>\n",
              "      <td>106</td>\n",
              "      <td>MAIN</td>\n",
              "      <td>4.0</td>\n",
              "      <td>12.0</td>\n",
              "      <td>2.0</td>\n",
              "      <td>2.0</td>\n",
              "      <td>0.0</td>\n",
              "      <td>True</td>\n",
              "      <td>M</td>\n",
              "      <td>#na#</td>\n",
              "      <td>2022</td>\n",
              "      <td>False</td>\n",
              "      <td>False</td>\n",
              "      <td>False</td>\n",
              "      <td>False</td>\n",
              "      <td>False</td>\n",
              "      <td>False</td>\n",
              "      <td>8</td>\n",
              "      <td>720.410889</td>\n",
              "      <td>100343000.0</td>\n",
              "      <td>857270.0</td>\n",
              "      <td>4200000.0</td>\n",
              "      <td>8780.0</td>\n",
              "      <td>65535.0</td>\n",
              "      <td>6.0</td>\n",
              "      <td>0.0</td>\n",
              "      <td>0.0</td>\n",
              "      <td>0.0</td>\n",
              "      <td>50.0</td>\n",
              "      <td>10.0</td>\n",
              "      <td>115.0</td>\n",
              "      <td>7274.0</td>\n",
              "      <td>5018.0</td>\n",
              "      <td>720</td>\n",
              "      <td>1</td>\n",
              "      <td>6</td>\n",
              "      <td>25</td>\n",
              "      <td>20</td>\n",
              "      <td>0</td>\n",
              "      <td>171</td>\n",
              "      <td>1.655754e+09</td>\n",
              "      <td>727.289551</td>\n",
              "    </tr>\n",
              "    <tr>\n",
              "      <th>35</th>\n",
              "      <td>BNSF5833</td>\n",
              "      <td>UP</td>\n",
              "      <td></td>\n",
              "      <td>MNOEW</td>\n",
              "      <td>2022-06-19</td>\n",
              "      <td>106</td>\n",
              "      <td>MAIN</td>\n",
              "      <td>4.0</td>\n",
              "      <td>12.0</td>\n",
              "      <td>2.0</td>\n",
              "      <td>2.0</td>\n",
              "      <td>0.0</td>\n",
              "      <td>True</td>\n",
              "      <td>M</td>\n",
              "      <td>#na#</td>\n",
              "      <td>2022</td>\n",
              "      <td>False</td>\n",
              "      <td>False</td>\n",
              "      <td>False</td>\n",
              "      <td>False</td>\n",
              "      <td>False</td>\n",
              "      <td>False</td>\n",
              "      <td>28</td>\n",
              "      <td>724.460693</td>\n",
              "      <td>100343000.0</td>\n",
              "      <td>857270.0</td>\n",
              "      <td>4200000.0</td>\n",
              "      <td>8780.0</td>\n",
              "      <td>65535.0</td>\n",
              "      <td>6.0</td>\n",
              "      <td>0.0</td>\n",
              "      <td>0.0</td>\n",
              "      <td>0.0</td>\n",
              "      <td>50.0</td>\n",
              "      <td>10.0</td>\n",
              "      <td>115.0</td>\n",
              "      <td>7274.0</td>\n",
              "      <td>5018.0</td>\n",
              "      <td>724</td>\n",
              "      <td>1</td>\n",
              "      <td>6</td>\n",
              "      <td>25</td>\n",
              "      <td>20</td>\n",
              "      <td>0</td>\n",
              "      <td>171</td>\n",
              "      <td>1.655755e+09</td>\n",
              "      <td>728.696289</td>\n",
              "    </tr>\n",
              "    <tr>\n",
              "      <th>36</th>\n",
              "      <td>BNSF5833</td>\n",
              "      <td>UP</td>\n",
              "      <td></td>\n",
              "      <td>MNOEW</td>\n",
              "      <td>2022-06-19</td>\n",
              "      <td>106</td>\n",
              "      <td>S_LUCAS</td>\n",
              "      <td>4.0</td>\n",
              "      <td>12.0</td>\n",
              "      <td>2.0</td>\n",
              "      <td>2.0</td>\n",
              "      <td>0.0</td>\n",
              "      <td>True</td>\n",
              "      <td>M</td>\n",
              "      <td>#na#</td>\n",
              "      <td>2022</td>\n",
              "      <td>False</td>\n",
              "      <td>False</td>\n",
              "      <td>False</td>\n",
              "      <td>False</td>\n",
              "      <td>False</td>\n",
              "      <td>False</td>\n",
              "      <td>0</td>\n",
              "      <td>728.696106</td>\n",
              "      <td>100343000.0</td>\n",
              "      <td>857270.0</td>\n",
              "      <td>4200000.0</td>\n",
              "      <td>8780.0</td>\n",
              "      <td>65535.0</td>\n",
              "      <td>6.0</td>\n",
              "      <td>0.0</td>\n",
              "      <td>0.0</td>\n",
              "      <td>0.0</td>\n",
              "      <td>50.0</td>\n",
              "      <td>10.0</td>\n",
              "      <td>115.0</td>\n",
              "      <td>7274.0</td>\n",
              "      <td>5018.0</td>\n",
              "      <td>728</td>\n",
              "      <td>1</td>\n",
              "      <td>6</td>\n",
              "      <td>25</td>\n",
              "      <td>20</td>\n",
              "      <td>0</td>\n",
              "      <td>171</td>\n",
              "      <td>1.655756e+09</td>\n",
              "      <td>728.696411</td>\n",
              "    </tr>\n",
              "    <tr>\n",
              "      <th>37</th>\n",
              "      <td>BNSF5833</td>\n",
              "      <td>UP</td>\n",
              "      <td></td>\n",
              "      <td>MNOEW</td>\n",
              "      <td>2022-06-19</td>\n",
              "      <td>106</td>\n",
              "      <td>S_LUCAS</td>\n",
              "      <td>4.0</td>\n",
              "      <td>12.0</td>\n",
              "      <td>2.0</td>\n",
              "      <td>2.0</td>\n",
              "      <td>0.0</td>\n",
              "      <td>True</td>\n",
              "      <td>M</td>\n",
              "      <td>#na#</td>\n",
              "      <td>2022</td>\n",
              "      <td>False</td>\n",
              "      <td>False</td>\n",
              "      <td>False</td>\n",
              "      <td>False</td>\n",
              "      <td>False</td>\n",
              "      <td>False</td>\n",
              "      <td>0</td>\n",
              "      <td>728.696411</td>\n",
              "      <td>100343000.0</td>\n",
              "      <td>857270.0</td>\n",
              "      <td>4200000.0</td>\n",
              "      <td>8780.0</td>\n",
              "      <td>65535.0</td>\n",
              "      <td>6.0</td>\n",
              "      <td>0.0</td>\n",
              "      <td>0.0</td>\n",
              "      <td>0.0</td>\n",
              "      <td>50.0</td>\n",
              "      <td>10.0</td>\n",
              "      <td>115.0</td>\n",
              "      <td>7274.0</td>\n",
              "      <td>5018.0</td>\n",
              "      <td>728</td>\n",
              "      <td>1</td>\n",
              "      <td>6</td>\n",
              "      <td>25</td>\n",
              "      <td>20</td>\n",
              "      <td>0</td>\n",
              "      <td>171</td>\n",
              "      <td>1.655757e+09</td>\n",
              "      <td>728.697998</td>\n",
              "    </tr>\n",
              "    <tr>\n",
              "      <th>38</th>\n",
              "      <td>BNSF5833</td>\n",
              "      <td>UP</td>\n",
              "      <td></td>\n",
              "      <td>MNOEW</td>\n",
              "      <td>2022-06-19</td>\n",
              "      <td>106</td>\n",
              "      <td>S_LUCAS</td>\n",
              "      <td>4.0</td>\n",
              "      <td>12.0</td>\n",
              "      <td>2.0</td>\n",
              "      <td>2.0</td>\n",
              "      <td>0.0</td>\n",
              "      <td>True</td>\n",
              "      <td>M</td>\n",
              "      <td>#na#</td>\n",
              "      <td>2022</td>\n",
              "      <td>False</td>\n",
              "      <td>False</td>\n",
              "      <td>False</td>\n",
              "      <td>False</td>\n",
              "      <td>False</td>\n",
              "      <td>False</td>\n",
              "      <td>0</td>\n",
              "      <td>728.697998</td>\n",
              "      <td>100343000.0</td>\n",
              "      <td>857270.0</td>\n",
              "      <td>4200000.0</td>\n",
              "      <td>8780.0</td>\n",
              "      <td>65535.0</td>\n",
              "      <td>6.0</td>\n",
              "      <td>0.0</td>\n",
              "      <td>0.0</td>\n",
              "      <td>0.0</td>\n",
              "      <td>50.0</td>\n",
              "      <td>10.0</td>\n",
              "      <td>115.0</td>\n",
              "      <td>7274.0</td>\n",
              "      <td>5018.0</td>\n",
              "      <td>728</td>\n",
              "      <td>1</td>\n",
              "      <td>6</td>\n",
              "      <td>25</td>\n",
              "      <td>20</td>\n",
              "      <td>0</td>\n",
              "      <td>171</td>\n",
              "      <td>1.655758e+09</td>\n",
              "      <td>728.697021</td>\n",
              "    </tr>\n",
              "    <tr>\n",
              "      <th>39</th>\n",
              "      <td>BNSF5833</td>\n",
              "      <td>UP</td>\n",
              "      <td></td>\n",
              "      <td>MNOEW</td>\n",
              "      <td>2022-06-19</td>\n",
              "      <td>106</td>\n",
              "      <td>S_LUCAS</td>\n",
              "      <td>4.0</td>\n",
              "      <td>12.0</td>\n",
              "      <td>2.0</td>\n",
              "      <td>2.0</td>\n",
              "      <td>0.0</td>\n",
              "      <td>True</td>\n",
              "      <td>M</td>\n",
              "      <td>#na#</td>\n",
              "      <td>2022</td>\n",
              "      <td>False</td>\n",
              "      <td>False</td>\n",
              "      <td>False</td>\n",
              "      <td>False</td>\n",
              "      <td>False</td>\n",
              "      <td>False</td>\n",
              "      <td>0</td>\n",
              "      <td>728.697388</td>\n",
              "      <td>100343000.0</td>\n",
              "      <td>857270.0</td>\n",
              "      <td>4200000.0</td>\n",
              "      <td>8780.0</td>\n",
              "      <td>65535.0</td>\n",
              "      <td>6.0</td>\n",
              "      <td>0.0</td>\n",
              "      <td>0.0</td>\n",
              "      <td>0.0</td>\n",
              "      <td>50.0</td>\n",
              "      <td>10.0</td>\n",
              "      <td>115.0</td>\n",
              "      <td>7274.0</td>\n",
              "      <td>5018.0</td>\n",
              "      <td>728</td>\n",
              "      <td>1</td>\n",
              "      <td>6</td>\n",
              "      <td>25</td>\n",
              "      <td>20</td>\n",
              "      <td>0</td>\n",
              "      <td>171</td>\n",
              "      <td>1.655759e+09</td>\n",
              "      <td>728.696777</td>\n",
              "    </tr>\n",
              "    <tr>\n",
              "      <th>40</th>\n",
              "      <td>BNSF5833</td>\n",
              "      <td>UP</td>\n",
              "      <td></td>\n",
              "      <td>MNOEW</td>\n",
              "      <td>2022-06-19</td>\n",
              "      <td>106</td>\n",
              "      <td>S_LUCAS</td>\n",
              "      <td>4.0</td>\n",
              "      <td>12.0</td>\n",
              "      <td>2.0</td>\n",
              "      <td>2.0</td>\n",
              "      <td>0.0</td>\n",
              "      <td>True</td>\n",
              "      <td>M</td>\n",
              "      <td>#na#</td>\n",
              "      <td>2022</td>\n",
              "      <td>False</td>\n",
              "      <td>False</td>\n",
              "      <td>False</td>\n",
              "      <td>False</td>\n",
              "      <td>False</td>\n",
              "      <td>False</td>\n",
              "      <td>0</td>\n",
              "      <td>728.696594</td>\n",
              "      <td>100343000.0</td>\n",
              "      <td>857270.0</td>\n",
              "      <td>4200000.0</td>\n",
              "      <td>8780.0</td>\n",
              "      <td>65535.0</td>\n",
              "      <td>6.0</td>\n",
              "      <td>0.0</td>\n",
              "      <td>0.0</td>\n",
              "      <td>0.0</td>\n",
              "      <td>50.0</td>\n",
              "      <td>10.0</td>\n",
              "      <td>115.0</td>\n",
              "      <td>7274.0</td>\n",
              "      <td>5018.0</td>\n",
              "      <td>728</td>\n",
              "      <td>1</td>\n",
              "      <td>6</td>\n",
              "      <td>25</td>\n",
              "      <td>20</td>\n",
              "      <td>0</td>\n",
              "      <td>171</td>\n",
              "      <td>1.655761e+09</td>\n",
              "      <td>728.696777</td>\n",
              "    </tr>\n",
              "    <tr>\n",
              "      <th>41</th>\n",
              "      <td>BNSF5833</td>\n",
              "      <td>UP</td>\n",
              "      <td></td>\n",
              "      <td>MNOEW</td>\n",
              "      <td>2022-06-19</td>\n",
              "      <td>106</td>\n",
              "      <td>S_LUCAS</td>\n",
              "      <td>4.0</td>\n",
              "      <td>12.0</td>\n",
              "      <td>2.0</td>\n",
              "      <td>2.0</td>\n",
              "      <td>0.0</td>\n",
              "      <td>True</td>\n",
              "      <td>M</td>\n",
              "      <td>#na#</td>\n",
              "      <td>2022</td>\n",
              "      <td>False</td>\n",
              "      <td>False</td>\n",
              "      <td>False</td>\n",
              "      <td>False</td>\n",
              "      <td>False</td>\n",
              "      <td>False</td>\n",
              "      <td>0</td>\n",
              "      <td>728.696594</td>\n",
              "      <td>100343000.0</td>\n",
              "      <td>857270.0</td>\n",
              "      <td>4200000.0</td>\n",
              "      <td>8780.0</td>\n",
              "      <td>65535.0</td>\n",
              "      <td>6.0</td>\n",
              "      <td>0.0</td>\n",
              "      <td>0.0</td>\n",
              "      <td>0.0</td>\n",
              "      <td>50.0</td>\n",
              "      <td>10.0</td>\n",
              "      <td>115.0</td>\n",
              "      <td>7274.0</td>\n",
              "      <td>5018.0</td>\n",
              "      <td>728</td>\n",
              "      <td>1</td>\n",
              "      <td>6</td>\n",
              "      <td>25</td>\n",
              "      <td>20</td>\n",
              "      <td>0</td>\n",
              "      <td>171</td>\n",
              "      <td>1.655762e+09</td>\n",
              "      <td>728.696777</td>\n",
              "    </tr>\n",
              "  </tbody>\n",
              "</table>"
            ]
          },
          "metadata": {}
        }
      ]
    },
    {
      "cell_type": "code",
      "source": [
        "fastai.save_pickle('/tmp/to.pkl',to)"
      ],
      "metadata": {
        "id": "r-D5hdO3-ypC"
      },
      "execution_count": 76,
      "outputs": []
    },
    {
      "cell_type": "markdown",
      "source": [
        "# Creating the Decision Tree"
      ],
      "metadata": {
        "id": "knWgCrX_A0Ep"
      }
    },
    {
      "cell_type": "code",
      "source": [
        "to = fastai.load_pickle('/tmp/to.pkl')"
      ],
      "metadata": {
        "id": "rtc_YDw0ArMR"
      },
      "execution_count": 77,
      "outputs": []
    },
    {
      "cell_type": "code",
      "source": [
        "xs,y = to.train.xs,to.train.y\n",
        "valid_xs,valid_y = to.valid.xs,to.valid.y"
      ],
      "metadata": {
        "id": "CcGx27DMBMbc"
      },
      "execution_count": 78,
      "outputs": []
    },
    {
      "cell_type": "code",
      "source": [
        "m = DecisionTreeRegressor(max_leaf_nodes=16)\n",
        "m.fit(xs, y);"
      ],
      "metadata": {
        "id": "clTcBmpGBXv6"
      },
      "execution_count": 79,
      "outputs": []
    },
    {
      "cell_type": "markdown",
      "source": [
        "Here is a sample of a Decision Tree with just 16 nodes:"
      ],
      "metadata": {
        "id": "YxzzayblKLsa"
      }
    },
    {
      "cell_type": "code",
      "source": [
        "fastai.draw_tree(m, xs, size=16, leaves_parallel=True, precision=2)"
      ],
      "metadata": {
        "id": "nhXNnHk7CSmF",
        "colab": {
          "base_uri": "https://localhost:8080/",
          "height": 945
        },
        "outputId": "4d05269a-2376-4308-dd8f-82d8888d34dd"
      },
      "execution_count": 80,
      "outputs": [
        {
          "output_type": "execute_result",
          "data": {
            "text/plain": [
              "<graphviz.files.Source at 0x7f4ba943fc10>"
            ],
            "image/svg+xml": "<?xml version=\"1.0\" encoding=\"UTF-8\" standalone=\"no\"?>\n<!DOCTYPE svg PUBLIC \"-//W3C//DTD SVG 1.1//EN\"\n \"http://www.w3.org/Graphics/SVG/1.1/DTD/svg11.dtd\">\n<!-- Generated by graphviz version 2.40.1 (20161225.0304)\n -->\n<!-- Title: Tree Pages: 1 -->\n<svg width=\"1152pt\" height=\"693pt\"\n viewBox=\"0.00 0.00 1152.00 693.03\" xmlns=\"http://www.w3.org/2000/svg\" xmlns:xlink=\"http://www.w3.org/1999/xlink\">\n<g id=\"graph0\" class=\"graph\" transform=\"scale(.3853 .3853) rotate(0) translate(4 1794.7424)\">\n<title>Tree</title>\n<polygon fill=\"#ffffff\" stroke=\"transparent\" points=\"-4,4 -4,-1794.7424 2986,-1794.7424 2986,4 -4,4\"/>\n<!-- 0 -->\n<g id=\"node1\" class=\"node\">\n<title>0</title>\n<path fill=\"#f9e3d3\" stroke=\"#000000\" d=\"M1804,-1720C1804,-1720 1643,-1720 1643,-1720 1637,-1720 1631,-1714 1631,-1708 1631,-1708 1631,-1664 1631,-1664 1631,-1658 1637,-1652 1643,-1652 1643,-1652 1804,-1652 1804,-1652 1810,-1652 1816,-1658 1816,-1664 1816,-1664 1816,-1708 1816,-1708 1816,-1714 1810,-1720 1804,-1720\"/>\n<text text-anchor=\"start\" x=\"1670.5\" y=\"-1704.8\" font-family=\"Helvetica,sans-Serif\" font-size=\"14.00\" fill=\"#000000\">milepost ≤ 453.0</text>\n<text text-anchor=\"start\" x=\"1639\" y=\"-1689.8\" font-family=\"Helvetica,sans-Serif\" font-size=\"14.00\" fill=\"#000000\">squared_error = 33132.26</text>\n<text text-anchor=\"start\" x=\"1671.5\" y=\"-1674.8\" font-family=\"Helvetica,sans-Serif\" font-size=\"14.00\" fill=\"#000000\">samples = 4278</text>\n<text text-anchor=\"start\" x=\"1675\" y=\"-1659.8\" font-family=\"Helvetica,sans-Serif\" font-size=\"14.00\" fill=\"#000000\">value = 335.96</text>\n</g>\n<!-- 1 -->\n<g id=\"node2\" class=\"node\">\n<title>1</title>\n<path fill=\"#fdf5ef\" stroke=\"#000000\" d=\"M1624,-1399C1624,-1399 1157,-1399 1157,-1399 1151,-1399 1145,-1393 1145,-1387 1145,-1387 1145,-1343 1145,-1343 1145,-1337 1151,-1331 1157,-1331 1157,-1331 1624,-1331 1624,-1331 1630,-1331 1636,-1337 1636,-1343 1636,-1343 1636,-1387 1636,-1387 1636,-1393 1630,-1399 1624,-1399\"/>\n<text text-anchor=\"start\" x=\"1153\" y=\"-1383.8\" font-family=\"Helvetica,sans-Serif\" font-size=\"14.00\" fill=\"#000000\">lastReportedPosition.milepostLocation.milepost.milepostNumber ≤ 260.31</text>\n<text text-anchor=\"start\" x=\"1310\" y=\"-1368.8\" font-family=\"Helvetica,sans-Serif\" font-size=\"14.00\" fill=\"#000000\">squared_error = 1130.16</text>\n<text text-anchor=\"start\" x=\"1338.5\" y=\"-1353.8\" font-family=\"Helvetica,sans-Serif\" font-size=\"14.00\" fill=\"#000000\">samples = 3594</text>\n<text text-anchor=\"start\" x=\"1342\" y=\"-1338.8\" font-family=\"Helvetica,sans-Serif\" font-size=\"14.00\" fill=\"#000000\">value = 257.88</text>\n</g>\n<!-- 0&#45;&gt;1 -->\n<g id=\"edge1\" class=\"edge\">\n<title>0&#45;&gt;1</title>\n<path fill=\"none\" stroke=\"#000000\" d=\"M1688.1784,-1651.9513C1626.6098,-1592.6014 1499.8696,-1470.4283 1433.3732,-1406.3282\"/>\n<polygon fill=\"#000000\" stroke=\"#000000\" points=\"1435.5893,-1403.603 1425.9606,-1399.1827 1430.7312,-1408.6428 1435.5893,-1403.603\"/>\n<text text-anchor=\"middle\" x=\"1426.4192\" y=\"-1420.4785\" font-family=\"Helvetica,sans-Serif\" font-size=\"14.00\" fill=\"#000000\">True</text>\n</g>\n<!-- 2 -->\n<g id=\"node25\" class=\"node\">\n<title>2</title>\n<path fill=\"#e6843e\" stroke=\"#000000\" d=\"M2457,-1399C2457,-1399 1998,-1399 1998,-1399 1992,-1399 1986,-1393 1986,-1387 1986,-1387 1986,-1343 1986,-1343 1986,-1337 1992,-1331 1998,-1331 1998,-1331 2457,-1331 2457,-1331 2463,-1331 2469,-1337 2469,-1343 2469,-1343 2469,-1387 2469,-1387 2469,-1393 2463,-1399 2457,-1399\"/>\n<text text-anchor=\"start\" x=\"1994\" y=\"-1383.8\" font-family=\"Helvetica,sans-Serif\" font-size=\"14.00\" fill=\"#000000\">lastReportedPosition.milepostLocation.milepost.milepostNumber ≤ 707.9</text>\n<text text-anchor=\"start\" x=\"2151\" y=\"-1368.8\" font-family=\"Helvetica,sans-Serif\" font-size=\"14.00\" fill=\"#000000\">squared_error = 917.48</text>\n<text text-anchor=\"start\" x=\"2179.5\" y=\"-1353.8\" font-family=\"Helvetica,sans-Serif\" font-size=\"14.00\" fill=\"#000000\">samples = 684</text>\n<text text-anchor=\"start\" x=\"2179\" y=\"-1338.8\" font-family=\"Helvetica,sans-Serif\" font-size=\"14.00\" fill=\"#000000\">value = 746.25</text>\n</g>\n<!-- 0&#45;&gt;2 -->\n<g id=\"edge24\" class=\"edge\">\n<title>0&#45;&gt;2</title>\n<path fill=\"none\" stroke=\"#000000\" d=\"M1776.9597,-1651.9513C1870.9951,-1592.0596 2065.4778,-1468.1927 2165.3439,-1404.5875\"/>\n<polygon fill=\"#000000\" stroke=\"#000000\" points=\"2167.2756,-1407.5069 2173.8299,-1399.1827 2163.5151,-1401.6027 2167.2756,-1407.5069\"/>\n<text text-anchor=\"middle\" x=\"2168.4161\" y=\"-1419.8895\" font-family=\"Helvetica,sans-Serif\" font-size=\"14.00\" fill=\"#000000\">False</text>\n</g>\n<!-- 3 -->\n<g id=\"node3\" class=\"node\">\n<title>3</title>\n<path fill=\"#fefbf9\" stroke=\"#000000\" d=\"M943,-1078C943,-1078 476,-1078 476,-1078 470,-1078 464,-1072 464,-1066 464,-1066 464,-1022 464,-1022 464,-1016 470,-1010 476,-1010 476,-1010 943,-1010 943,-1010 949,-1010 955,-1016 955,-1022 955,-1022 955,-1066 955,-1066 955,-1072 949,-1078 943,-1078\"/>\n<text text-anchor=\"start\" x=\"472\" y=\"-1062.8\" font-family=\"Helvetica,sans-Serif\" font-size=\"14.00\" fill=\"#000000\">lastReportedPosition.milepostLocation.milepost.milepostNumber ≤ 233.57</text>\n<text text-anchor=\"start\" x=\"633\" y=\"-1047.8\" font-family=\"Helvetica,sans-Serif\" font-size=\"14.00\" fill=\"#000000\">squared_error = 362.37</text>\n<text text-anchor=\"start\" x=\"657.5\" y=\"-1032.8\" font-family=\"Helvetica,sans-Serif\" font-size=\"14.00\" fill=\"#000000\">samples = 1845</text>\n<text text-anchor=\"start\" x=\"661\" y=\"-1017.8\" font-family=\"Helvetica,sans-Serif\" font-size=\"14.00\" fill=\"#000000\">value = 231.23</text>\n</g>\n<!-- 1&#45;&gt;3 -->\n<g id=\"edge2\" class=\"edge\">\n<title>1&#45;&gt;3</title>\n<path fill=\"none\" stroke=\"#000000\" d=\"M1318.2658,-1330.9513C1190.4839,-1270.7193 925.4318,-1145.7828 791.1967,-1082.509\"/>\n<polygon fill=\"#000000\" stroke=\"#000000\" points=\"792.2994,-1079.1595 781.7615,-1078.0616 789.3147,-1085.4913 792.2994,-1079.1595\"/>\n</g>\n<!-- 4 -->\n<g id=\"node12\" class=\"node\">\n<title>4</title>\n<path fill=\"#fceee5\" stroke=\"#000000\" d=\"M1624,-1078C1624,-1078 1157,-1078 1157,-1078 1151,-1078 1145,-1072 1145,-1066 1145,-1066 1145,-1022 1145,-1022 1145,-1016 1151,-1010 1157,-1010 1157,-1010 1624,-1010 1624,-1010 1630,-1010 1636,-1016 1636,-1022 1636,-1022 1636,-1066 1636,-1066 1636,-1072 1630,-1078 1624,-1078\"/>\n<text text-anchor=\"start\" x=\"1153\" y=\"-1062.8\" font-family=\"Helvetica,sans-Serif\" font-size=\"14.00\" fill=\"#000000\">lastReportedPosition.milepostLocation.milepost.milepostNumber ≤ 288.67</text>\n<text text-anchor=\"start\" x=\"1314\" y=\"-1047.8\" font-family=\"Helvetica,sans-Serif\" font-size=\"14.00\" fill=\"#000000\">squared_error = 400.77</text>\n<text text-anchor=\"start\" x=\"1338.5\" y=\"-1032.8\" font-family=\"Helvetica,sans-Serif\" font-size=\"14.00\" fill=\"#000000\">samples = 1749</text>\n<text text-anchor=\"start\" x=\"1342\" y=\"-1017.8\" font-family=\"Helvetica,sans-Serif\" font-size=\"14.00\" fill=\"#000000\">value = 285.99</text>\n</g>\n<!-- 1&#45;&gt;4 -->\n<g id=\"edge11\" class=\"edge\">\n<title>1&#45;&gt;4</title>\n<path fill=\"none\" stroke=\"#000000\" d=\"M1390.5,-1330.9513C1390.5,-1272.5645 1390.5,-1153.3768 1390.5,-1088.4941\"/>\n<polygon fill=\"#000000\" stroke=\"#000000\" points=\"1394.0001,-1088.1827 1390.5,-1078.1827 1387.0001,-1088.1828 1394.0001,-1088.1827\"/>\n</g>\n<!-- 9 -->\n<g id=\"node4\" class=\"node\">\n<title>9</title>\n<path fill=\"#fffefd\" stroke=\"#000000\" d=\"M544,-757C544,-757 77,-757 77,-757 71,-757 65,-751 65,-745 65,-745 65,-701 65,-701 65,-695 71,-689 77,-689 77,-689 544,-689 544,-689 550,-689 556,-695 556,-701 556,-701 556,-745 556,-745 556,-751 550,-757 544,-757\"/>\n<text text-anchor=\"start\" x=\"73\" y=\"-741.8\" font-family=\"Helvetica,sans-Serif\" font-size=\"14.00\" fill=\"#000000\">lastReportedPosition.milepostLocation.milepost.milepostNumber ≤ 219.64</text>\n<text text-anchor=\"start\" x=\"234\" y=\"-726.8\" font-family=\"Helvetica,sans-Serif\" font-size=\"14.00\" fill=\"#000000\">squared_error = 152.68</text>\n<text text-anchor=\"start\" x=\"262.5\" y=\"-711.8\" font-family=\"Helvetica,sans-Serif\" font-size=\"14.00\" fill=\"#000000\">samples = 994</text>\n<text text-anchor=\"start\" x=\"262\" y=\"-696.8\" font-family=\"Helvetica,sans-Serif\" font-size=\"14.00\" fill=\"#000000\">value = 218.61</text>\n</g>\n<!-- 3&#45;&gt;9 -->\n<g id=\"edge3\" class=\"edge\">\n<title>3&#45;&gt;9</title>\n<path fill=\"none\" stroke=\"#000000\" d=\"M667.1778,-1009.9513C593.1071,-950.3606 440.313,-827.436 360.9045,-763.551\"/>\n<polygon fill=\"#000000\" stroke=\"#000000\" points=\"362.9743,-760.7241 352.9888,-757.1827 358.5864,-766.1782 362.9743,-760.7241\"/>\n</g>\n<!-- 10 -->\n<g id=\"node9\" class=\"node\">\n<title>10</title>\n<path fill=\"#fdf8f3\" stroke=\"#000000\" d=\"M782,-757C782,-757 637,-757 637,-757 631,-757 625,-751 625,-745 625,-745 625,-701 625,-701 625,-695 631,-689 637,-689 637,-689 782,-689 782,-689 788,-689 794,-695 794,-701 794,-701 794,-745 794,-745 794,-751 788,-757 782,-757\"/>\n<text text-anchor=\"start\" x=\"669.5\" y=\"-741.8\" font-family=\"Helvetica,sans-Serif\" font-size=\"14.00\" fill=\"#000000\">mpIncr ≤ 1.5</text>\n<text text-anchor=\"start\" x=\"633\" y=\"-726.8\" font-family=\"Helvetica,sans-Serif\" font-size=\"14.00\" fill=\"#000000\">squared_error = 203.79</text>\n<text text-anchor=\"start\" x=\"661.5\" y=\"-711.8\" font-family=\"Helvetica,sans-Serif\" font-size=\"14.00\" fill=\"#000000\">samples = 851</text>\n<text text-anchor=\"start\" x=\"661\" y=\"-696.8\" font-family=\"Helvetica,sans-Serif\" font-size=\"14.00\" fill=\"#000000\">value = 245.98</text>\n</g>\n<!-- 3&#45;&gt;10 -->\n<g id=\"edge8\" class=\"edge\">\n<title>3&#45;&gt;10</title>\n<path fill=\"none\" stroke=\"#000000\" d=\"M709.5,-1009.9513C709.5,-951.5645 709.5,-832.3768 709.5,-767.4941\"/>\n<polygon fill=\"#000000\" stroke=\"#000000\" points=\"713.0001,-767.1827 709.5,-757.1827 706.0001,-767.1828 713.0001,-767.1827\"/>\n</g>\n<!-- 23 -->\n<g id=\"node5\" class=\"node\">\n<title>23</title>\n<path fill=\"#ffffff\" stroke=\"#000000\" d=\"M149,-108.5C149,-108.5 12,-108.5 12,-108.5 6,-108.5 0,-102.5 0,-96.5 0,-96.5 0,-67.5 0,-67.5 0,-61.5 6,-55.5 12,-55.5 12,-55.5 149,-55.5 149,-55.5 155,-55.5 161,-61.5 161,-67.5 161,-67.5 161,-96.5 161,-96.5 161,-102.5 155,-108.5 149,-108.5\"/>\n<text text-anchor=\"start\" x=\"8\" y=\"-93.3\" font-family=\"Helvetica,sans-Serif\" font-size=\"14.00\" fill=\"#000000\">squared_error = 99.25</text>\n<text text-anchor=\"start\" x=\"32.5\" y=\"-78.3\" font-family=\"Helvetica,sans-Serif\" font-size=\"14.00\" fill=\"#000000\">samples = 569</text>\n<text text-anchor=\"start\" x=\"32\" y=\"-63.3\" font-family=\"Helvetica,sans-Serif\" font-size=\"14.00\" fill=\"#000000\">value = 213.64</text>\n</g>\n<!-- 9&#45;&gt;23 -->\n<g id=\"edge4\" class=\"edge\">\n<title>9&#45;&gt;23</title>\n<path fill=\"none\" stroke=\"#000000\" d=\"M298.2966,-688.9896C258.7211,-578.6943 134.1496,-231.5191 93.4818,-118.1797\"/>\n<polygon fill=\"#000000\" stroke=\"#000000\" points=\"96.7053,-116.7999 90.0335,-108.5696 90.1166,-119.1641 96.7053,-116.7999\"/>\n</g>\n<!-- 24 -->\n<g id=\"node6\" class=\"node\">\n<title>24</title>\n<path fill=\"#fefcfb\" stroke=\"#000000\" d=\"M383,-437C383,-437 238,-437 238,-437 232,-437 226,-431 226,-425 226,-425 226,-381 226,-381 226,-375 232,-369 238,-369 238,-369 383,-369 383,-369 389,-369 395,-375 395,-381 395,-381 395,-425 395,-425 395,-431 389,-437 383,-437\"/>\n<text text-anchor=\"start\" x=\"270.5\" y=\"-421.8\" font-family=\"Helvetica,sans-Serif\" font-size=\"14.00\" fill=\"#000000\">mpIncr ≤ 1.5</text>\n<text text-anchor=\"start\" x=\"234\" y=\"-406.8\" font-family=\"Helvetica,sans-Serif\" font-size=\"14.00\" fill=\"#000000\">squared_error = 146.97</text>\n<text text-anchor=\"start\" x=\"262.5\" y=\"-391.8\" font-family=\"Helvetica,sans-Serif\" font-size=\"14.00\" fill=\"#000000\">samples = 425</text>\n<text text-anchor=\"start\" x=\"262\" y=\"-376.8\" font-family=\"Helvetica,sans-Serif\" font-size=\"14.00\" fill=\"#000000\">value = 225.26</text>\n</g>\n<!-- 9&#45;&gt;24 -->\n<g id=\"edge5\" class=\"edge\">\n<title>9&#45;&gt;24</title>\n<path fill=\"none\" stroke=\"#000000\" d=\"M310.5,-688.7544C310.5,-630.5641 310.5,-512.424 310.5,-447.765\"/>\n<polygon fill=\"#000000\" stroke=\"#000000\" points=\"314.0001,-447.483 310.5,-437.483 307.0001,-447.4831 314.0001,-447.483\"/>\n</g>\n<!-- 25 -->\n<g id=\"node7\" class=\"node\">\n<title>25</title>\n<path fill=\"#ffffff\" stroke=\"#000000\" d=\"M328,-108.5C328,-108.5 191,-108.5 191,-108.5 185,-108.5 179,-102.5 179,-96.5 179,-96.5 179,-67.5 179,-67.5 179,-61.5 185,-55.5 191,-55.5 191,-55.5 328,-55.5 328,-55.5 334,-55.5 340,-61.5 340,-67.5 340,-67.5 340,-96.5 340,-96.5 340,-102.5 334,-108.5 328,-108.5\"/>\n<text text-anchor=\"start\" x=\"187\" y=\"-93.3\" font-family=\"Helvetica,sans-Serif\" font-size=\"14.00\" fill=\"#000000\">squared_error = 42.68</text>\n<text text-anchor=\"start\" x=\"211.5\" y=\"-78.3\" font-family=\"Helvetica,sans-Serif\" font-size=\"14.00\" fill=\"#000000\">samples = 162</text>\n<text text-anchor=\"start\" x=\"211\" y=\"-63.3\" font-family=\"Helvetica,sans-Serif\" font-size=\"14.00\" fill=\"#000000\">value = 213.88</text>\n</g>\n<!-- 24&#45;&gt;25 -->\n<g id=\"edge6\" class=\"edge\">\n<title>24&#45;&gt;25</title>\n<path fill=\"none\" stroke=\"#000000\" d=\"M305.0904,-368.9513C295.4454,-308.2444 275.3574,-181.8086 265.3823,-119.0239\"/>\n<polygon fill=\"#000000\" stroke=\"#000000\" points=\"268.7824,-118.1184 263.7566,-108.7915 261.8691,-119.2168 268.7824,-118.1184\"/>\n</g>\n<!-- 26 -->\n<g id=\"node8\" class=\"node\">\n<title>26</title>\n<path fill=\"#fefbf8\" stroke=\"#000000\" d=\"M507,-108.5C507,-108.5 370,-108.5 370,-108.5 364,-108.5 358,-102.5 358,-96.5 358,-96.5 358,-67.5 358,-67.5 358,-61.5 364,-55.5 370,-55.5 370,-55.5 507,-55.5 507,-55.5 513,-55.5 519,-61.5 519,-67.5 519,-67.5 519,-96.5 519,-96.5 519,-102.5 513,-108.5 507,-108.5\"/>\n<text text-anchor=\"start\" x=\"366\" y=\"-93.3\" font-family=\"Helvetica,sans-Serif\" font-size=\"14.00\" fill=\"#000000\">squared_error = 82.28</text>\n<text text-anchor=\"start\" x=\"390.5\" y=\"-78.3\" font-family=\"Helvetica,sans-Serif\" font-size=\"14.00\" fill=\"#000000\">samples = 263</text>\n<text text-anchor=\"start\" x=\"390\" y=\"-63.3\" font-family=\"Helvetica,sans-Serif\" font-size=\"14.00\" fill=\"#000000\">value = 232.27</text>\n</g>\n<!-- 24&#45;&gt;26 -->\n<g id=\"edge7\" class=\"edge\">\n<title>24&#45;&gt;26</title>\n<path fill=\"none\" stroke=\"#000000\" d=\"M324.0771,-368.9513C348.3842,-307.9935 399.1181,-180.7625 424.0456,-118.2488\"/>\n<polygon fill=\"#000000\" stroke=\"#000000\" points=\"427.3639,-119.3766 427.8168,-108.7915 420.8617,-116.7838 427.3639,-119.3766\"/>\n</g>\n<!-- 13 -->\n<g id=\"node10\" class=\"node\">\n<title>13</title>\n<path fill=\"#fefaf8\" stroke=\"#000000\" d=\"M686,-108.5C686,-108.5 549,-108.5 549,-108.5 543,-108.5 537,-102.5 537,-96.5 537,-96.5 537,-67.5 537,-67.5 537,-61.5 543,-55.5 549,-55.5 549,-55.5 686,-55.5 686,-55.5 692,-55.5 698,-61.5 698,-67.5 698,-67.5 698,-96.5 698,-96.5 698,-102.5 692,-108.5 686,-108.5\"/>\n<text text-anchor=\"start\" x=\"545\" y=\"-93.3\" font-family=\"Helvetica,sans-Serif\" font-size=\"14.00\" fill=\"#000000\">squared_error = 82.88</text>\n<text text-anchor=\"start\" x=\"569.5\" y=\"-78.3\" font-family=\"Helvetica,sans-Serif\" font-size=\"14.00\" fill=\"#000000\">samples = 366</text>\n<text text-anchor=\"start\" x=\"573.5\" y=\"-63.3\" font-family=\"Helvetica,sans-Serif\" font-size=\"14.00\" fill=\"#000000\">value = 233.9</text>\n</g>\n<!-- 10&#45;&gt;13 -->\n<g id=\"edge9\" class=\"edge\">\n<title>10&#45;&gt;13</title>\n<path fill=\"none\" stroke=\"#000000\" d=\"M704.6186,-688.9896C688.8043,-578.8053 639.0601,-232.2174 622.7419,-118.5225\"/>\n<polygon fill=\"#000000\" stroke=\"#000000\" points=\"626.1987,-117.9709 621.3134,-108.5696 619.2697,-118.9654 626.1987,-117.9709\"/>\n</g>\n<!-- 14 -->\n<g id=\"node11\" class=\"node\">\n<title>14</title>\n<path fill=\"#fdf5f0\" stroke=\"#000000\" d=\"M873,-108.5C873,-108.5 728,-108.5 728,-108.5 722,-108.5 716,-102.5 716,-96.5 716,-96.5 716,-67.5 716,-67.5 716,-61.5 722,-55.5 728,-55.5 728,-55.5 873,-55.5 873,-55.5 879,-55.5 885,-61.5 885,-67.5 885,-67.5 885,-96.5 885,-96.5 885,-102.5 879,-108.5 873,-108.5\"/>\n<text text-anchor=\"start\" x=\"724\" y=\"-93.3\" font-family=\"Helvetica,sans-Serif\" font-size=\"14.00\" fill=\"#000000\">squared_error = 101.93</text>\n<text text-anchor=\"start\" x=\"752.5\" y=\"-78.3\" font-family=\"Helvetica,sans-Serif\" font-size=\"14.00\" fill=\"#000000\">samples = 485</text>\n<text text-anchor=\"start\" x=\"752\" y=\"-63.3\" font-family=\"Helvetica,sans-Serif\" font-size=\"14.00\" fill=\"#000000\">value = 255.09</text>\n</g>\n<!-- 10&#45;&gt;14 -->\n<g id=\"edge10\" class=\"edge\">\n<title>10&#45;&gt;14</title>\n<path fill=\"none\" stroke=\"#000000\" d=\"M714.3283,-688.9896C729.9707,-578.8053 779.1743,-232.2174 795.3151,-118.5225\"/>\n<polygon fill=\"#000000\" stroke=\"#000000\" points=\"798.7876,-118.9623 796.728,-108.5696 791.8571,-117.9783 798.7876,-118.9623\"/>\n</g>\n<!-- 7 -->\n<g id=\"node13\" class=\"node\">\n<title>7</title>\n<path fill=\"#fcf1ea\" stroke=\"#000000\" d=\"M1231,-757C1231,-757 1094,-757 1094,-757 1088,-757 1082,-751 1082,-745 1082,-745 1082,-701 1082,-701 1082,-695 1088,-689 1094,-689 1094,-689 1231,-689 1231,-689 1237,-689 1243,-695 1243,-701 1243,-701 1243,-745 1243,-745 1243,-751 1237,-757 1231,-757\"/>\n<text text-anchor=\"start\" x=\"1122.5\" y=\"-741.8\" font-family=\"Helvetica,sans-Serif\" font-size=\"14.00\" fill=\"#000000\">mpIncr ≤ 1.5</text>\n<text text-anchor=\"start\" x=\"1090\" y=\"-726.8\" font-family=\"Helvetica,sans-Serif\" font-size=\"14.00\" fill=\"#000000\">squared_error = 212.3</text>\n<text text-anchor=\"start\" x=\"1114.5\" y=\"-711.8\" font-family=\"Helvetica,sans-Serif\" font-size=\"14.00\" fill=\"#000000\">samples = 906</text>\n<text text-anchor=\"start\" x=\"1114\" y=\"-696.8\" font-family=\"Helvetica,sans-Serif\" font-size=\"14.00\" fill=\"#000000\">value = 272.45</text>\n</g>\n<!-- 4&#45;&gt;7 -->\n<g id=\"edge12\" class=\"edge\">\n<title>4&#45;&gt;7</title>\n<path fill=\"none\" stroke=\"#000000\" d=\"M1366.3159,-1009.9513C1324.4173,-950.9625 1238.4381,-829.9129 1192.6903,-765.5048\"/>\n<polygon fill=\"#000000\" stroke=\"#000000\" points=\"1195.4236,-763.3087 1186.7793,-757.1827 1189.7166,-767.3623 1195.4236,-763.3087\"/>\n</g>\n<!-- 8 -->\n<g id=\"node18\" class=\"node\">\n<title>8</title>\n<path fill=\"#fbebe0\" stroke=\"#000000\" d=\"M1634,-757C1634,-757 1489,-757 1489,-757 1483,-757 1477,-751 1477,-745 1477,-745 1477,-701 1477,-701 1477,-695 1483,-689 1489,-689 1489,-689 1634,-689 1634,-689 1640,-689 1646,-695 1646,-701 1646,-701 1646,-745 1646,-745 1646,-751 1640,-757 1634,-757\"/>\n<text text-anchor=\"start\" x=\"1521.5\" y=\"-741.8\" font-family=\"Helvetica,sans-Serif\" font-size=\"14.00\" fill=\"#000000\">mpIncr ≤ 1.5</text>\n<text text-anchor=\"start\" x=\"1485\" y=\"-726.8\" font-family=\"Helvetica,sans-Serif\" font-size=\"14.00\" fill=\"#000000\">squared_error = 194.51</text>\n<text text-anchor=\"start\" x=\"1513.5\" y=\"-711.8\" font-family=\"Helvetica,sans-Serif\" font-size=\"14.00\" fill=\"#000000\">samples = 843</text>\n<text text-anchor=\"start\" x=\"1513\" y=\"-696.8\" font-family=\"Helvetica,sans-Serif\" font-size=\"14.00\" fill=\"#000000\">value = 300.54</text>\n</g>\n<!-- 4&#45;&gt;8 -->\n<g id=\"edge17\" class=\"edge\">\n<title>4&#45;&gt;8</title>\n<path fill=\"none\" stroke=\"#000000\" d=\"M1408.6381,-1009.9513C1439.9338,-951.2033 1504.0206,-830.9 1538.4356,-766.2963\"/>\n<polygon fill=\"#000000\" stroke=\"#000000\" points=\"1541.6779,-767.6541 1543.2905,-757.1827 1535.4998,-764.363 1541.6779,-767.6541\"/>\n</g>\n<!-- 15 -->\n<g id=\"node14\" class=\"node\">\n<title>15</title>\n<path fill=\"#fdf4ed\" stroke=\"#000000\" d=\"M1052,-108.5C1052,-108.5 915,-108.5 915,-108.5 909,-108.5 903,-102.5 903,-96.5 903,-96.5 903,-67.5 903,-67.5 903,-61.5 909,-55.5 915,-55.5 915,-55.5 1052,-55.5 1052,-55.5 1058,-55.5 1064,-61.5 1064,-67.5 1064,-67.5 1064,-96.5 1064,-96.5 1064,-102.5 1058,-108.5 1052,-108.5\"/>\n<text text-anchor=\"start\" x=\"911\" y=\"-93.3\" font-family=\"Helvetica,sans-Serif\" font-size=\"14.00\" fill=\"#000000\">squared_error = 86.11</text>\n<text text-anchor=\"start\" x=\"935.5\" y=\"-78.3\" font-family=\"Helvetica,sans-Serif\" font-size=\"14.00\" fill=\"#000000\">samples = 399</text>\n<text text-anchor=\"start\" x=\"935\" y=\"-63.3\" font-family=\"Helvetica,sans-Serif\" font-size=\"14.00\" fill=\"#000000\">value = 262.07</text>\n</g>\n<!-- 7&#45;&gt;15 -->\n<g id=\"edge13\" class=\"edge\">\n<title>7&#45;&gt;15</title>\n<path fill=\"none\" stroke=\"#000000\" d=\"M1145.1536,-688.7858C1106.666,-612.8722 1017.5,-437 1017.5,-437 1017.5,-437 995.7214,-209.6054 987.0248,-118.8033\"/>\n<polygon fill=\"#000000\" stroke=\"#000000\" points=\"990.4931,-118.3034 986.0555,-108.6827 983.5249,-118.9709 990.4931,-118.3034\"/>\n</g>\n<!-- 16 -->\n<g id=\"node15\" class=\"node\">\n<title>16</title>\n<path fill=\"#fcf0e7\" stroke=\"#000000\" d=\"M1286,-437C1286,-437 1039,-437 1039,-437 1033,-437 1027,-431 1027,-425 1027,-425 1027,-381 1027,-381 1027,-375 1033,-369 1039,-369 1039,-369 1286,-369 1286,-369 1292,-369 1298,-375 1298,-381 1298,-381 1298,-425 1298,-425 1298,-431 1292,-437 1286,-437\"/>\n<text text-anchor=\"start\" x=\"1035\" y=\"-421.8\" font-family=\"Helvetica,sans-Serif\" font-size=\"14.00\" fill=\"#000000\">lastReportedPosition.speedMPH ≤ 10.0</text>\n<text text-anchor=\"start\" x=\"1086\" y=\"-406.8\" font-family=\"Helvetica,sans-Serif\" font-size=\"14.00\" fill=\"#000000\">squared_error = 159.98</text>\n<text text-anchor=\"start\" x=\"1114.5\" y=\"-391.8\" font-family=\"Helvetica,sans-Serif\" font-size=\"14.00\" fill=\"#000000\">samples = 507</text>\n<text text-anchor=\"start\" x=\"1114\" y=\"-376.8\" font-family=\"Helvetica,sans-Serif\" font-size=\"14.00\" fill=\"#000000\">value = 280.62</text>\n</g>\n<!-- 7&#45;&gt;16 -->\n<g id=\"edge14\" class=\"edge\">\n<title>7&#45;&gt;16</title>\n<path fill=\"none\" stroke=\"#000000\" d=\"M1162.5,-688.7544C1162.5,-630.5641 1162.5,-512.424 1162.5,-447.765\"/>\n<polygon fill=\"#000000\" stroke=\"#000000\" points=\"1166.0001,-447.483 1162.5,-437.483 1159.0001,-447.4831 1166.0001,-447.483\"/>\n</g>\n<!-- 17 -->\n<g id=\"node16\" class=\"node\">\n<title>17</title>\n<path fill=\"#fcf2ea\" stroke=\"#000000\" d=\"M1231,-108.5C1231,-108.5 1094,-108.5 1094,-108.5 1088,-108.5 1082,-102.5 1082,-96.5 1082,-96.5 1082,-67.5 1082,-67.5 1082,-61.5 1088,-55.5 1094,-55.5 1094,-55.5 1231,-55.5 1231,-55.5 1237,-55.5 1243,-61.5 1243,-67.5 1243,-67.5 1243,-96.5 1243,-96.5 1243,-102.5 1237,-108.5 1231,-108.5\"/>\n<text text-anchor=\"start\" x=\"1090\" y=\"-93.3\" font-family=\"Helvetica,sans-Serif\" font-size=\"14.00\" fill=\"#000000\">squared_error = 56.36</text>\n<text text-anchor=\"start\" x=\"1114.5\" y=\"-78.3\" font-family=\"Helvetica,sans-Serif\" font-size=\"14.00\" fill=\"#000000\">samples = 224</text>\n<text text-anchor=\"start\" x=\"1114\" y=\"-63.3\" font-family=\"Helvetica,sans-Serif\" font-size=\"14.00\" fill=\"#000000\">value = 270.41</text>\n</g>\n<!-- 16&#45;&gt;17 -->\n<g id=\"edge15\" class=\"edge\">\n<title>16&#45;&gt;17</title>\n<path fill=\"none\" stroke=\"#000000\" d=\"M1162.5,-368.9513C1162.5,-308.2444 1162.5,-181.8086 1162.5,-119.0239\"/>\n<polygon fill=\"#000000\" stroke=\"#000000\" points=\"1166.0001,-118.7914 1162.5,-108.7915 1159.0001,-118.7915 1166.0001,-118.7914\"/>\n</g>\n<!-- 18 -->\n<g id=\"node17\" class=\"node\">\n<title>18</title>\n<path fill=\"#fbeee4\" stroke=\"#000000\" d=\"M1401.5,-108.5C1401.5,-108.5 1273.5,-108.5 1273.5,-108.5 1267.5,-108.5 1261.5,-102.5 1261.5,-96.5 1261.5,-96.5 1261.5,-67.5 1261.5,-67.5 1261.5,-61.5 1267.5,-55.5 1273.5,-55.5 1273.5,-55.5 1401.5,-55.5 1401.5,-55.5 1407.5,-55.5 1413.5,-61.5 1413.5,-67.5 1413.5,-67.5 1413.5,-96.5 1413.5,-96.5 1413.5,-102.5 1407.5,-108.5 1401.5,-108.5\"/>\n<text text-anchor=\"start\" x=\"1269.5\" y=\"-93.3\" font-family=\"Helvetica,sans-Serif\" font-size=\"14.00\" fill=\"#000000\">squared_error = 94.0</text>\n<text text-anchor=\"start\" x=\"1289.5\" y=\"-78.3\" font-family=\"Helvetica,sans-Serif\" font-size=\"14.00\" fill=\"#000000\">samples = 283</text>\n<text text-anchor=\"start\" x=\"1289\" y=\"-63.3\" font-family=\"Helvetica,sans-Serif\" font-size=\"14.00\" fill=\"#000000\">value = 288.71</text>\n</g>\n<!-- 16&#45;&gt;18 -->\n<g id=\"edge16\" class=\"edge\">\n<title>16&#45;&gt;18</title>\n<path fill=\"none\" stroke=\"#000000\" d=\"M1181.0624,-368.9513C1214.3632,-307.8681 1283.9431,-180.2387 1317.9481,-117.8637\"/>\n<polygon fill=\"#000000\" stroke=\"#000000\" points=\"1321.1804,-119.2468 1322.8941,-108.7915 1315.0344,-115.8962 1321.1804,-119.2468\"/>\n</g>\n<!-- 19 -->\n<g id=\"node19\" class=\"node\">\n<title>19</title>\n<path fill=\"#fbece1\" stroke=\"#000000\" d=\"M1795,-437C1795,-437 1328,-437 1328,-437 1322,-437 1316,-431 1316,-425 1316,-425 1316,-381 1316,-381 1316,-375 1322,-369 1328,-369 1328,-369 1795,-369 1795,-369 1801,-369 1807,-375 1807,-381 1807,-381 1807,-425 1807,-425 1807,-431 1801,-437 1795,-437\"/>\n<text text-anchor=\"start\" x=\"1324\" y=\"-421.8\" font-family=\"Helvetica,sans-Serif\" font-size=\"14.00\" fill=\"#000000\">lastReportedPosition.milepostLocation.milepost.milepostNumber ≤ 308.32</text>\n<text text-anchor=\"start\" x=\"1485\" y=\"-406.8\" font-family=\"Helvetica,sans-Serif\" font-size=\"14.00\" fill=\"#000000\">squared_error = 149.53</text>\n<text text-anchor=\"start\" x=\"1513.5\" y=\"-391.8\" font-family=\"Helvetica,sans-Serif\" font-size=\"14.00\" fill=\"#000000\">samples = 541</text>\n<text text-anchor=\"start\" x=\"1517.5\" y=\"-376.8\" font-family=\"Helvetica,sans-Serif\" font-size=\"14.00\" fill=\"#000000\">value = 295.4</text>\n</g>\n<!-- 8&#45;&gt;19 -->\n<g id=\"edge18\" class=\"edge\">\n<title>8&#45;&gt;19</title>\n<path fill=\"none\" stroke=\"#000000\" d=\"M1561.5,-688.7544C1561.5,-630.5641 1561.5,-512.424 1561.5,-447.765\"/>\n<polygon fill=\"#000000\" stroke=\"#000000\" points=\"1565.0001,-447.483 1561.5,-437.483 1558.0001,-447.4831 1565.0001,-447.483\"/>\n</g>\n<!-- 20 -->\n<g id=\"node22\" class=\"node\">\n<title>20</title>\n<path fill=\"#fae9dc\" stroke=\"#000000\" d=\"M2076,-437C2076,-437 1837,-437 1837,-437 1831,-437 1825,-431 1825,-425 1825,-425 1825,-381 1825,-381 1825,-375 1831,-369 1837,-369 1837,-369 2076,-369 2076,-369 2082,-369 2088,-375 2088,-381 2088,-381 2088,-425 2088,-425 2088,-431 2082,-437 2076,-437\"/>\n<text text-anchor=\"start\" x=\"1833\" y=\"-421.8\" font-family=\"Helvetica,sans-Serif\" font-size=\"14.00\" fill=\"#000000\">lastReportedPosition.speedMPH ≤ 9.5</text>\n<text text-anchor=\"start\" x=\"1880\" y=\"-406.8\" font-family=\"Helvetica,sans-Serif\" font-size=\"14.00\" fill=\"#000000\">squared_error = 142.87</text>\n<text text-anchor=\"start\" x=\"1908.5\" y=\"-391.8\" font-family=\"Helvetica,sans-Serif\" font-size=\"14.00\" fill=\"#000000\">samples = 302</text>\n<text text-anchor=\"start\" x=\"1908\" y=\"-376.8\" font-family=\"Helvetica,sans-Serif\" font-size=\"14.00\" fill=\"#000000\">value = 309.76</text>\n</g>\n<!-- 8&#45;&gt;20 -->\n<g id=\"edge21\" class=\"edge\">\n<title>8&#45;&gt;20</title>\n<path fill=\"none\" stroke=\"#000000\" d=\"M1603.7719,-688.7544C1677.1778,-629.2864 1827.8696,-507.2069 1906.4039,-443.5842\"/>\n<polygon fill=\"#000000\" stroke=\"#000000\" points=\"1908.667,-446.2553 1914.2339,-437.2409 1904.2606,-440.8161 1908.667,-446.2553\"/>\n</g>\n<!-- 21 -->\n<g id=\"node20\" class=\"node\">\n<title>21</title>\n<path fill=\"#fcefe5\" stroke=\"#000000\" d=\"M1571.5,-108.5C1571.5,-108.5 1443.5,-108.5 1443.5,-108.5 1437.5,-108.5 1431.5,-102.5 1431.5,-96.5 1431.5,-96.5 1431.5,-67.5 1431.5,-67.5 1431.5,-61.5 1437.5,-55.5 1443.5,-55.5 1443.5,-55.5 1571.5,-55.5 1571.5,-55.5 1577.5,-55.5 1583.5,-61.5 1583.5,-67.5 1583.5,-67.5 1583.5,-96.5 1583.5,-96.5 1583.5,-102.5 1577.5,-108.5 1571.5,-108.5\"/>\n<text text-anchor=\"start\" x=\"1439.5\" y=\"-93.3\" font-family=\"Helvetica,sans-Serif\" font-size=\"14.00\" fill=\"#000000\">squared_error = 52.5</text>\n<text text-anchor=\"start\" x=\"1459.5\" y=\"-78.3\" font-family=\"Helvetica,sans-Serif\" font-size=\"14.00\" fill=\"#000000\">samples = 268</text>\n<text text-anchor=\"start\" x=\"1459\" y=\"-63.3\" font-family=\"Helvetica,sans-Serif\" font-size=\"14.00\" fill=\"#000000\">value = 285.27</text>\n</g>\n<!-- 19&#45;&gt;21 -->\n<g id=\"edge19\" class=\"edge\">\n<title>19&#45;&gt;21</title>\n<path fill=\"none\" stroke=\"#000000\" d=\"M1555.7722,-368.9513C1545.5598,-308.2444 1524.2902,-181.8086 1513.7283,-119.0239\"/>\n<polygon fill=\"#000000\" stroke=\"#000000\" points=\"1517.1175,-118.0723 1512.007,-108.7915 1510.2145,-119.2336 1517.1175,-118.0723\"/>\n</g>\n<!-- 22 -->\n<g id=\"node21\" class=\"node\">\n<title>22</title>\n<path fill=\"#fbeade\" stroke=\"#000000\" d=\"M1751,-108.5C1751,-108.5 1614,-108.5 1614,-108.5 1608,-108.5 1602,-102.5 1602,-96.5 1602,-96.5 1602,-67.5 1602,-67.5 1602,-61.5 1608,-55.5 1614,-55.5 1614,-55.5 1751,-55.5 1751,-55.5 1757,-55.5 1763,-61.5 1763,-67.5 1763,-67.5 1763,-96.5 1763,-96.5 1763,-102.5 1757,-108.5 1751,-108.5\"/>\n<text text-anchor=\"start\" x=\"1610\" y=\"-93.3\" font-family=\"Helvetica,sans-Serif\" font-size=\"14.00\" fill=\"#000000\">squared_error = 45.04</text>\n<text text-anchor=\"start\" x=\"1634.5\" y=\"-78.3\" font-family=\"Helvetica,sans-Serif\" font-size=\"14.00\" fill=\"#000000\">samples = 273</text>\n<text text-anchor=\"start\" x=\"1634\" y=\"-63.3\" font-family=\"Helvetica,sans-Serif\" font-size=\"14.00\" fill=\"#000000\">value = 305.35</text>\n</g>\n<!-- 19&#45;&gt;22 -->\n<g id=\"edge20\" class=\"edge\">\n<title>19&#45;&gt;22</title>\n<path fill=\"none\" stroke=\"#000000\" d=\"M1574.3346,-368.9513C1597.3124,-307.9935 1645.2718,-180.7625 1668.8361,-118.2488\"/>\n<polygon fill=\"#000000\" stroke=\"#000000\" points=\"1672.1488,-119.3833 1672.401,-108.7915 1665.5987,-116.9142 1672.1488,-119.3833\"/>\n</g>\n<!-- 29 -->\n<g id=\"node23\" class=\"node\">\n<title>29</title>\n<path fill=\"#fbece0\" stroke=\"#000000\" d=\"M1938,-108.5C1938,-108.5 1793,-108.5 1793,-108.5 1787,-108.5 1781,-102.5 1781,-96.5 1781,-96.5 1781,-67.5 1781,-67.5 1781,-61.5 1787,-55.5 1793,-55.5 1793,-55.5 1938,-55.5 1938,-55.5 1944,-55.5 1950,-61.5 1950,-67.5 1950,-67.5 1950,-96.5 1950,-96.5 1950,-102.5 1944,-108.5 1938,-108.5\"/>\n<text text-anchor=\"start\" x=\"1789\" y=\"-93.3\" font-family=\"Helvetica,sans-Serif\" font-size=\"14.00\" fill=\"#000000\">squared_error = 125.56</text>\n<text text-anchor=\"start\" x=\"1817.5\" y=\"-78.3\" font-family=\"Helvetica,sans-Serif\" font-size=\"14.00\" fill=\"#000000\">samples = 103</text>\n<text text-anchor=\"start\" x=\"1817\" y=\"-63.3\" font-family=\"Helvetica,sans-Serif\" font-size=\"14.00\" fill=\"#000000\">value = 298.14</text>\n</g>\n<!-- 20&#45;&gt;29 -->\n<g id=\"edge22\" class=\"edge\">\n<title>20&#45;&gt;29</title>\n<path fill=\"none\" stroke=\"#000000\" d=\"M1946.8476,-368.9513C1929.6023,-308.1189 1893.6465,-181.2858 1875.8858,-118.6355\"/>\n<polygon fill=\"#000000\" stroke=\"#000000\" points=\"1879.1899,-117.4577 1873.0951,-108.7915 1872.4553,-119.367 1879.1899,-117.4577\"/>\n</g>\n<!-- 30 -->\n<g id=\"node24\" class=\"node\">\n<title>30</title>\n<path fill=\"#fae7da\" stroke=\"#000000\" d=\"M2117,-108.5C2117,-108.5 1980,-108.5 1980,-108.5 1974,-108.5 1968,-102.5 1968,-96.5 1968,-96.5 1968,-67.5 1968,-67.5 1968,-61.5 1974,-55.5 1980,-55.5 1980,-55.5 2117,-55.5 2117,-55.5 2123,-55.5 2129,-61.5 2129,-67.5 2129,-67.5 2129,-96.5 2129,-96.5 2129,-102.5 2123,-108.5 2117,-108.5\"/>\n<text text-anchor=\"start\" x=\"1976\" y=\"-93.3\" font-family=\"Helvetica,sans-Serif\" font-size=\"14.00\" fill=\"#000000\">squared_error = 45.92</text>\n<text text-anchor=\"start\" x=\"2000.5\" y=\"-78.3\" font-family=\"Helvetica,sans-Serif\" font-size=\"14.00\" fill=\"#000000\">samples = 199</text>\n<text text-anchor=\"start\" x=\"2000\" y=\"-63.3\" font-family=\"Helvetica,sans-Serif\" font-size=\"14.00\" fill=\"#000000\">value = 315.77</text>\n</g>\n<!-- 20&#45;&gt;30 -->\n<g id=\"edge23\" class=\"edge\">\n<title>20&#45;&gt;30</title>\n<path fill=\"none\" stroke=\"#000000\" d=\"M1966.2585,-368.9513C1983.6933,-308.1189 2020.0442,-181.2858 2038.0001,-118.6355\"/>\n<polygon fill=\"#000000\" stroke=\"#000000\" points=\"2041.4308,-119.3688 2040.8214,-108.7915 2034.7017,-117.4401 2041.4308,-119.3688\"/>\n</g>\n<!-- 5 -->\n<g id=\"node26\" class=\"node\">\n<title>5</title>\n<path fill=\"#eb9d66\" stroke=\"#000000\" d=\"M2461,-1078C2461,-1078 1994,-1078 1994,-1078 1988,-1078 1982,-1072 1982,-1066 1982,-1066 1982,-1022 1982,-1022 1982,-1016 1988,-1010 1994,-1010 1994,-1010 2461,-1010 2461,-1010 2467,-1010 2473,-1016 2473,-1022 2473,-1022 2473,-1066 2473,-1066 2473,-1072 2467,-1078 2461,-1078\"/>\n<text text-anchor=\"start\" x=\"1990\" y=\"-1062.8\" font-family=\"Helvetica,sans-Serif\" font-size=\"14.00\" fill=\"#000000\">lastReportedPosition.milepostLocation.milepost.milepostNumber ≤ 635.95</text>\n<text text-anchor=\"start\" x=\"2151\" y=\"-1047.8\" font-family=\"Helvetica,sans-Serif\" font-size=\"14.00\" fill=\"#000000\">squared_error = 885.42</text>\n<text text-anchor=\"start\" x=\"2183.5\" y=\"-1032.8\" font-family=\"Helvetica,sans-Serif\" font-size=\"14.00\" fill=\"#000000\">samples = 36</text>\n<text text-anchor=\"start\" x=\"2179\" y=\"-1017.8\" font-family=\"Helvetica,sans-Serif\" font-size=\"14.00\" fill=\"#000000\">value = 637.62</text>\n</g>\n<!-- 2&#45;&gt;5 -->\n<g id=\"edge25\" class=\"edge\">\n<title>2&#45;&gt;5</title>\n<path fill=\"none\" stroke=\"#000000\" d=\"M2227.5,-1330.9513C2227.5,-1272.5645 2227.5,-1153.3768 2227.5,-1088.4941\"/>\n<polygon fill=\"#000000\" stroke=\"#000000\" points=\"2231.0001,-1088.1827 2227.5,-1078.1827 2224.0001,-1088.1828 2231.0001,-1088.1827\"/>\n</g>\n<!-- 6 -->\n<g id=\"node29\" class=\"node\">\n<title>6</title>\n<path fill=\"#e5833c\" stroke=\"#000000\" d=\"M2970,-1078C2970,-1078 2503,-1078 2503,-1078 2497,-1078 2491,-1072 2491,-1066 2491,-1066 2491,-1022 2491,-1022 2491,-1016 2497,-1010 2503,-1010 2503,-1010 2970,-1010 2970,-1010 2976,-1010 2982,-1016 2982,-1022 2982,-1022 2982,-1066 2982,-1066 2982,-1072 2976,-1078 2970,-1078\"/>\n<text text-anchor=\"start\" x=\"2499\" y=\"-1062.8\" font-family=\"Helvetica,sans-Serif\" font-size=\"14.00\" fill=\"#000000\">lastReportedPosition.milepostLocation.milepost.milepostNumber ≤ 736.67</text>\n<text text-anchor=\"start\" x=\"2660\" y=\"-1047.8\" font-family=\"Helvetica,sans-Serif\" font-size=\"14.00\" fill=\"#000000\">squared_error = 227.36</text>\n<text text-anchor=\"start\" x=\"2688.5\" y=\"-1032.8\" font-family=\"Helvetica,sans-Serif\" font-size=\"14.00\" fill=\"#000000\">samples = 648</text>\n<text text-anchor=\"start\" x=\"2688\" y=\"-1017.8\" font-family=\"Helvetica,sans-Serif\" font-size=\"14.00\" fill=\"#000000\">value = 752.28</text>\n</g>\n<!-- 2&#45;&gt;6 -->\n<g id=\"edge28\" class=\"edge\">\n<title>2&#45;&gt;6</title>\n<path fill=\"none\" stroke=\"#000000\" d=\"M2281.49,-1330.9513C2376.4584,-1271.0596 2572.8704,-1147.1927 2673.7272,-1083.5875\"/>\n<polygon fill=\"#000000\" stroke=\"#000000\" points=\"2675.706,-1086.4775 2682.2975,-1078.1827 2671.972,-1080.5566 2675.706,-1086.4775\"/>\n</g>\n<!-- 27 -->\n<g id=\"node27\" class=\"node\">\n<title>27</title>\n<path fill=\"#eca571\" stroke=\"#000000\" d=\"M2296,-108.5C2296,-108.5 2159,-108.5 2159,-108.5 2153,-108.5 2147,-102.5 2147,-96.5 2147,-96.5 2147,-67.5 2147,-67.5 2147,-61.5 2153,-55.5 2159,-55.5 2159,-55.5 2296,-55.5 2296,-55.5 2302,-55.5 2308,-61.5 2308,-67.5 2308,-67.5 2308,-96.5 2308,-96.5 2308,-102.5 2302,-108.5 2296,-108.5\"/>\n<text text-anchor=\"start\" x=\"2155\" y=\"-93.3\" font-family=\"Helvetica,sans-Serif\" font-size=\"14.00\" fill=\"#000000\">squared_error = 234.2</text>\n<text text-anchor=\"start\" x=\"2183.5\" y=\"-78.3\" font-family=\"Helvetica,sans-Serif\" font-size=\"14.00\" fill=\"#000000\">samples = 14</text>\n<text text-anchor=\"start\" x=\"2179\" y=\"-63.3\" font-family=\"Helvetica,sans-Serif\" font-size=\"14.00\" fill=\"#000000\">value = 606.21</text>\n</g>\n<!-- 5&#45;&gt;27 -->\n<g id=\"edge26\" class=\"edge\">\n<title>5&#45;&gt;27</title>\n<path fill=\"none\" stroke=\"#000000\" d=\"M2227.5,-1009.7619C2227.5,-861.2029 2227.5,-273.0011 2227.5,-119.0422\"/>\n<polygon fill=\"#000000\" stroke=\"#000000\" points=\"2231.0001,-118.7196 2227.5,-108.7196 2224.0001,-118.7196 2231.0001,-118.7196\"/>\n</g>\n<!-- 28 -->\n<g id=\"node28\" class=\"node\">\n<title>28</title>\n<path fill=\"#ea995e\" stroke=\"#000000\" d=\"M2483,-108.5C2483,-108.5 2338,-108.5 2338,-108.5 2332,-108.5 2326,-102.5 2326,-96.5 2326,-96.5 2326,-67.5 2326,-67.5 2326,-61.5 2332,-55.5 2338,-55.5 2338,-55.5 2483,-55.5 2483,-55.5 2489,-55.5 2495,-61.5 2495,-67.5 2495,-67.5 2495,-96.5 2495,-96.5 2495,-102.5 2489,-108.5 2483,-108.5\"/>\n<text text-anchor=\"start\" x=\"2334\" y=\"-93.3\" font-family=\"Helvetica,sans-Serif\" font-size=\"14.00\" fill=\"#000000\">squared_error = 272.36</text>\n<text text-anchor=\"start\" x=\"2366.5\" y=\"-78.3\" font-family=\"Helvetica,sans-Serif\" font-size=\"14.00\" fill=\"#000000\">samples = 22</text>\n<text text-anchor=\"start\" x=\"2362\" y=\"-63.3\" font-family=\"Helvetica,sans-Serif\" font-size=\"14.00\" fill=\"#000000\">value = 657.61</text>\n</g>\n<!-- 5&#45;&gt;28 -->\n<g id=\"edge27\" class=\"edge\">\n<title>5&#45;&gt;28</title>\n<path fill=\"none\" stroke=\"#000000\" d=\"M2234.0131,-1009.7619C2262.3015,-861.0544 2374.39,-271.8243 2403.5411,-118.5816\"/>\n<polygon fill=\"#000000\" stroke=\"#000000\" points=\"2406.9866,-119.1975 2405.4172,-108.7196 2400.11,-117.8893 2406.9866,-119.1975\"/>\n</g>\n<!-- 11 -->\n<g id=\"node30\" class=\"node\">\n<title>11</title>\n<path fill=\"#e68844\" stroke=\"#000000\" d=\"M2733,-108.5C2733,-108.5 2596,-108.5 2596,-108.5 2590,-108.5 2584,-102.5 2584,-96.5 2584,-96.5 2584,-67.5 2584,-67.5 2584,-61.5 2590,-55.5 2596,-55.5 2596,-55.5 2733,-55.5 2733,-55.5 2739,-55.5 2745,-61.5 2745,-67.5 2745,-67.5 2745,-96.5 2745,-96.5 2745,-102.5 2739,-108.5 2733,-108.5\"/>\n<text text-anchor=\"start\" x=\"2592\" y=\"-93.3\" font-family=\"Helvetica,sans-Serif\" font-size=\"14.00\" fill=\"#000000\">squared_error = 67.18</text>\n<text text-anchor=\"start\" x=\"2616.5\" y=\"-78.3\" font-family=\"Helvetica,sans-Serif\" font-size=\"14.00\" fill=\"#000000\">samples = 185</text>\n<text text-anchor=\"start\" x=\"2616\" y=\"-63.3\" font-family=\"Helvetica,sans-Serif\" font-size=\"14.00\" fill=\"#000000\">value = 731.16</text>\n</g>\n<!-- 6&#45;&gt;11 -->\n<g id=\"edge29\" class=\"edge\">\n<title>6&#45;&gt;11</title>\n<path fill=\"none\" stroke=\"#000000\" d=\"M2733.9375,-1009.7619C2722.8187,-861.2029 2678.7953,-273.0011 2667.2724,-119.0422\"/>\n<polygon fill=\"#000000\" stroke=\"#000000\" points=\"2670.7365,-118.4305 2666.4998,-108.7196 2663.756,-118.953 2670.7365,-118.4305\"/>\n</g>\n<!-- 12 -->\n<g id=\"node31\" class=\"node\">\n<title>12</title>\n<path fill=\"#e58139\" stroke=\"#000000\" d=\"M2912,-108.5C2912,-108.5 2775,-108.5 2775,-108.5 2769,-108.5 2763,-102.5 2763,-96.5 2763,-96.5 2763,-67.5 2763,-67.5 2763,-61.5 2769,-55.5 2775,-55.5 2775,-55.5 2912,-55.5 2912,-55.5 2918,-55.5 2924,-61.5 2924,-67.5 2924,-67.5 2924,-96.5 2924,-96.5 2924,-102.5 2918,-108.5 2912,-108.5\"/>\n<text text-anchor=\"start\" x=\"2771\" y=\"-93.3\" font-family=\"Helvetica,sans-Serif\" font-size=\"14.00\" fill=\"#000000\">squared_error = 41.93</text>\n<text text-anchor=\"start\" x=\"2795.5\" y=\"-78.3\" font-family=\"Helvetica,sans-Serif\" font-size=\"14.00\" fill=\"#000000\">samples = 463</text>\n<text text-anchor=\"start\" x=\"2795\" y=\"-63.3\" font-family=\"Helvetica,sans-Serif\" font-size=\"14.00\" fill=\"#000000\">value = 760.72</text>\n</g>\n<!-- 6&#45;&gt;12 -->\n<g id=\"edge30\" class=\"edge\">\n<title>6&#45;&gt;12</title>\n<path fill=\"none\" stroke=\"#000000\" d=\"M2740.3082,-1009.7619C2756.8319,-861.2029 2822.2556,-273.0011 2839.3799,-119.0422\"/>\n<polygon fill=\"#000000\" stroke=\"#000000\" points=\"2842.9011,-119.0453 2840.5281,-108.7196 2835.944,-118.2714 2842.9011,-119.0453\"/>\n</g>\n</g>\n</svg>\n"
          },
          "metadata": {},
          "execution_count": 80
        }
      ]
    },
    {
      "cell_type": "code",
      "source": [
        "m = DecisionTreeRegressor(min_samples_leaf=9)\n",
        "m.fit(xs, y);"
      ],
      "metadata": {
        "id": "_wto32TJkud4"
      },
      "execution_count": 81,
      "outputs": []
    },
    {
      "cell_type": "code",
      "source": [
        "def r_mse(pred,y): return round(math.sqrt(((pred-y)**2).mean()), 6)\n",
        "def m_rmse(m, xs, y): return r_mse(m.predict(xs), y)"
      ],
      "metadata": {
        "id": "D53phc2JE5RC"
      },
      "execution_count": 82,
      "outputs": []
    },
    {
      "cell_type": "markdown",
      "source": [
        "How well we fit the traing model:"
      ],
      "metadata": {
        "id": "mdZvu4cJuS9j"
      }
    },
    {
      "cell_type": "code",
      "source": [
        "m_rmse(m, xs, y)"
      ],
      "metadata": {
        "id": "8CYcTQHLHT4m",
        "colab": {
          "base_uri": "https://localhost:8080/"
        },
        "outputId": "0f087c90-eada-438a-fdb3-b0f4236af8e4"
      },
      "execution_count": 83,
      "outputs": [
        {
          "output_type": "execute_result",
          "data": {
            "text/plain": [
              "3.456412"
            ]
          },
          "metadata": {},
          "execution_count": 83
        }
      ]
    },
    {
      "cell_type": "markdown",
      "source": [
        "How well we fit the Validation Model:"
      ],
      "metadata": {
        "id": "MU_z9z6huZs0"
      }
    },
    {
      "cell_type": "code",
      "source": [
        "m_rmse(m, valid_xs, valid_y)"
      ],
      "metadata": {
        "id": "_oElvFDHHZHm",
        "colab": {
          "base_uri": "https://localhost:8080/"
        },
        "outputId": "d92483c9-e6d5-4110-cf54-e3ef3a8de20a"
      },
      "execution_count": 84,
      "outputs": [
        {
          "output_type": "execute_result",
          "data": {
            "text/plain": [
              "5.529977"
            ]
          },
          "metadata": {},
          "execution_count": 84
        }
      ]
    },
    {
      "cell_type": "code",
      "source": [
        "def rf_feat_importance(m, df):\n",
        "    return pd.DataFrame({'cols':df.columns, 'imp':m.feature_importances_}\n",
        "                       ).sort_values('imp', ascending=False)"
      ],
      "metadata": {
        "id": "oCKCSQSlab4o"
      },
      "execution_count": 85,
      "outputs": []
    },
    {
      "cell_type": "code",
      "source": [
        "fi = rf_feat_importance(m, xs)\n",
        "fi[:10]"
      ],
      "metadata": {
        "id": "jxENiQDXlYKl",
        "colab": {
          "base_uri": "https://localhost:8080/",
          "height": 363
        },
        "outputId": "b1154545-c5a4-4e1c-81d7-3947af99ec8e"
      },
      "execution_count": 86,
      "outputs": [
        {
          "output_type": "execute_result",
          "data": {
            "text/plain": [
              "                                                             cols       imp\n",
              "38                                                       milepost  0.967872\n",
              "23  lastReportedPosition.milepostLocation.milepost.milepostNumber  0.029237\n",
              "12                                                         mpIncr  0.001833\n",
              "22                                  lastReportedPosition.speedMPH  0.000922\n",
              "3                                             trainId.trainSymbol  0.000043\n",
              "45                       lastReportedPosition.positionTimeElapsed  0.000014\n",
              "34                                                 loadedCarCount  0.000010\n",
              "25                                   aotuTrainData.totalCarLength  0.000009\n",
              "36                                                    trainLength  0.000008\n",
              "35                                                  emptyCarCount  0.000007"
            ],
            "text/html": [
              "\n",
              "  <div id=\"df-edafb54d-1f2d-4085-babc-3ab90cfaa815\">\n",
              "    <div class=\"colab-df-container\">\n",
              "      <div>\n",
              "<style scoped>\n",
              "    .dataframe tbody tr th:only-of-type {\n",
              "        vertical-align: middle;\n",
              "    }\n",
              "\n",
              "    .dataframe tbody tr th {\n",
              "        vertical-align: top;\n",
              "    }\n",
              "\n",
              "    .dataframe thead th {\n",
              "        text-align: right;\n",
              "    }\n",
              "</style>\n",
              "<table border=\"1\" class=\"dataframe\">\n",
              "  <thead>\n",
              "    <tr style=\"text-align: right;\">\n",
              "      <th></th>\n",
              "      <th>cols</th>\n",
              "      <th>imp</th>\n",
              "    </tr>\n",
              "  </thead>\n",
              "  <tbody>\n",
              "    <tr>\n",
              "      <th>38</th>\n",
              "      <td>milepost</td>\n",
              "      <td>0.967872</td>\n",
              "    </tr>\n",
              "    <tr>\n",
              "      <th>23</th>\n",
              "      <td>lastReportedPosition.milepostLocation.milepost.milepostNumber</td>\n",
              "      <td>0.029237</td>\n",
              "    </tr>\n",
              "    <tr>\n",
              "      <th>12</th>\n",
              "      <td>mpIncr</td>\n",
              "      <td>0.001833</td>\n",
              "    </tr>\n",
              "    <tr>\n",
              "      <th>22</th>\n",
              "      <td>lastReportedPosition.speedMPH</td>\n",
              "      <td>0.000922</td>\n",
              "    </tr>\n",
              "    <tr>\n",
              "      <th>3</th>\n",
              "      <td>trainId.trainSymbol</td>\n",
              "      <td>0.000043</td>\n",
              "    </tr>\n",
              "    <tr>\n",
              "      <th>45</th>\n",
              "      <td>lastReportedPosition.positionTimeElapsed</td>\n",
              "      <td>0.000014</td>\n",
              "    </tr>\n",
              "    <tr>\n",
              "      <th>34</th>\n",
              "      <td>loadedCarCount</td>\n",
              "      <td>0.000010</td>\n",
              "    </tr>\n",
              "    <tr>\n",
              "      <th>25</th>\n",
              "      <td>aotuTrainData.totalCarLength</td>\n",
              "      <td>0.000009</td>\n",
              "    </tr>\n",
              "    <tr>\n",
              "      <th>36</th>\n",
              "      <td>trainLength</td>\n",
              "      <td>0.000008</td>\n",
              "    </tr>\n",
              "    <tr>\n",
              "      <th>35</th>\n",
              "      <td>emptyCarCount</td>\n",
              "      <td>0.000007</td>\n",
              "    </tr>\n",
              "  </tbody>\n",
              "</table>\n",
              "</div>\n",
              "      <button class=\"colab-df-convert\" onclick=\"convertToInteractive('df-edafb54d-1f2d-4085-babc-3ab90cfaa815')\"\n",
              "              title=\"Convert this dataframe to an interactive table.\"\n",
              "              style=\"display:none;\">\n",
              "        \n",
              "  <svg xmlns=\"http://www.w3.org/2000/svg\" height=\"24px\"viewBox=\"0 0 24 24\"\n",
              "       width=\"24px\">\n",
              "    <path d=\"M0 0h24v24H0V0z\" fill=\"none\"/>\n",
              "    <path d=\"M18.56 5.44l.94 2.06.94-2.06 2.06-.94-2.06-.94-.94-2.06-.94 2.06-2.06.94zm-11 1L8.5 8.5l.94-2.06 2.06-.94-2.06-.94L8.5 2.5l-.94 2.06-2.06.94zm10 10l.94 2.06.94-2.06 2.06-.94-2.06-.94-.94-2.06-.94 2.06-2.06.94z\"/><path d=\"M17.41 7.96l-1.37-1.37c-.4-.4-.92-.59-1.43-.59-.52 0-1.04.2-1.43.59L10.3 9.45l-7.72 7.72c-.78.78-.78 2.05 0 2.83L4 21.41c.39.39.9.59 1.41.59.51 0 1.02-.2 1.41-.59l7.78-7.78 2.81-2.81c.8-.78.8-2.07 0-2.86zM5.41 20L4 18.59l7.72-7.72 1.47 1.35L5.41 20z\"/>\n",
              "  </svg>\n",
              "      </button>\n",
              "      \n",
              "  <style>\n",
              "    .colab-df-container {\n",
              "      display:flex;\n",
              "      flex-wrap:wrap;\n",
              "      gap: 12px;\n",
              "    }\n",
              "\n",
              "    .colab-df-convert {\n",
              "      background-color: #E8F0FE;\n",
              "      border: none;\n",
              "      border-radius: 50%;\n",
              "      cursor: pointer;\n",
              "      display: none;\n",
              "      fill: #1967D2;\n",
              "      height: 32px;\n",
              "      padding: 0 0 0 0;\n",
              "      width: 32px;\n",
              "    }\n",
              "\n",
              "    .colab-df-convert:hover {\n",
              "      background-color: #E2EBFA;\n",
              "      box-shadow: 0px 1px 2px rgba(60, 64, 67, 0.3), 0px 1px 3px 1px rgba(60, 64, 67, 0.15);\n",
              "      fill: #174EA6;\n",
              "    }\n",
              "\n",
              "    [theme=dark] .colab-df-convert {\n",
              "      background-color: #3B4455;\n",
              "      fill: #D2E3FC;\n",
              "    }\n",
              "\n",
              "    [theme=dark] .colab-df-convert:hover {\n",
              "      background-color: #434B5C;\n",
              "      box-shadow: 0px 1px 3px 1px rgba(0, 0, 0, 0.15);\n",
              "      filter: drop-shadow(0px 1px 2px rgba(0, 0, 0, 0.3));\n",
              "      fill: #FFFFFF;\n",
              "    }\n",
              "  </style>\n",
              "\n",
              "      <script>\n",
              "        const buttonEl =\n",
              "          document.querySelector('#df-edafb54d-1f2d-4085-babc-3ab90cfaa815 button.colab-df-convert');\n",
              "        buttonEl.style.display =\n",
              "          google.colab.kernel.accessAllowed ? 'block' : 'none';\n",
              "\n",
              "        async function convertToInteractive(key) {\n",
              "          const element = document.querySelector('#df-edafb54d-1f2d-4085-babc-3ab90cfaa815');\n",
              "          const dataTable =\n",
              "            await google.colab.kernel.invokeFunction('convertToInteractive',\n",
              "                                                     [key], {});\n",
              "          if (!dataTable) return;\n",
              "\n",
              "          const docLinkHtml = 'Like what you see? Visit the ' +\n",
              "            '<a target=\"_blank\" href=https://colab.research.google.com/notebooks/data_table.ipynb>data table notebook</a>'\n",
              "            + ' to learn more about interactive tables.';\n",
              "          element.innerHTML = '';\n",
              "          dataTable['output_type'] = 'display_data';\n",
              "          await google.colab.output.renderOutput(dataTable, element);\n",
              "          const docLink = document.createElement('div');\n",
              "          docLink.innerHTML = docLinkHtml;\n",
              "          element.appendChild(docLink);\n",
              "        }\n",
              "      </script>\n",
              "    </div>\n",
              "  </div>\n",
              "  "
            ]
          },
          "metadata": {},
          "execution_count": 86
        }
      ]
    },
    {
      "cell_type": "markdown",
      "source": [
        ""
      ],
      "metadata": {
        "id": "GAU4iShuUTlj"
      }
    },
    {
      "cell_type": "code",
      "source": [
        "ax = xs['lastReportedPosition.speedMPH'].hist(bins=60)\n"
      ],
      "metadata": {
        "id": "W_xHGvS4mTAv",
        "colab": {
          "base_uri": "https://localhost:8080/",
          "height": 268
        },
        "outputId": "009e2f22-3df0-494a-dcce-0069657fd618"
      },
      "execution_count": 87,
      "outputs": [
        {
          "output_type": "display_data",
          "data": {
            "text/plain": [
              "<Figure size 432x288 with 1 Axes>"
            ],
            "image/png": "[encoded data removed]"
          },
          "metadata": {
            "needs_background": "light"
          }
        }
      ]
    },
    {
      "cell_type": "code",
      "source": [
        "from sklearn.inspection import plot_partial_dependence\n",
        "\n",
        "fig,ax = plt.subplots(figsize=(12, 4))\n",
        "plot_partial_dependence(m, xs, ['lastReportedPosition.speedMPH'],\n",
        "                        grid_resolution=20, ax=ax);"
      ],
      "metadata": {
        "id": "dVfYTqKvniXo",
        "colab": {
          "base_uri": "https://localhost:8080/",
          "height": 340
        },
        "outputId": "b1e8ba4a-ebca-4910-8c10-e31357858206"
      },
      "execution_count": 88,
      "outputs": [
        {
          "output_type": "stream",
          "name": "stderr",
          "text": [
            "/usr/local/lib/python3.7/dist-packages/sklearn/utils/deprecation.py:87: FutureWarning: Function plot_partial_dependence is deprecated; Function `plot_partial_dependence` is deprecated in 1.0 and will be removed in 1.2. Use PartialDependenceDisplay.from_estimator instead\n",
            "  warnings.warn(msg, category=FutureWarning)\n"
          ]
        },
        {
          "output_type": "display_data",
          "data": {
            "text/plain": [
              "<Figure size 864x288 with 2 Axes>"
            ],
            "image/png": "[encoded data removed]"
          },
          "metadata": {
            "needs_background": "light"
          }
        }
      ]
    },
    {
      "cell_type": "markdown",
      "source": [
        "This is sort of a dur moment, saying \"Speeds don't change a lot one milepost to the next\".  "
      ],
      "metadata": {
        "id": "CmpVELOUoF-l"
      }
    },
    {
      "cell_type": "markdown",
      "source": [
        "#Random Forest"
      ],
      "metadata": {
        "id": "-iGNWlJDmQrV"
      }
    },
    {
      "cell_type": "code",
      "source": [
        "def randomForest(xs, y, n_estimators=50, max_samples=2500,\n",
        "       max_features=0.5, min_samples_leaf=5, **kwargs):\n",
        "    return RandomForestRegressor(n_jobs=-1, n_estimators=n_estimators,\n",
        "        max_samples=max_samples, max_features=max_features,\n",
        "        min_samples_leaf=min_samples_leaf, oob_score=True).fit(xs, y)"
      ],
      "metadata": {
        "id": "FllkOgNkUTGW"
      },
      "execution_count": 89,
      "outputs": []
    },
    {
      "cell_type": "code",
      "source": [
        "m = randomForest(xs, y);"
      ],
      "metadata": {
        "id": "OqX5AcTWVRXE"
      },
      "execution_count": 90,
      "outputs": []
    },
    {
      "cell_type": "code",
      "source": [
        "m_rmse(m, xs, y), m_rmse(m, valid_xs, valid_y)"
      ],
      "metadata": {
        "id": "33ncywqjVcwn",
        "colab": {
          "base_uri": "https://localhost:8080/"
        },
        "outputId": "ad257942-ff6f-4aab-cb69-710aebf5a7b8"
      },
      "execution_count": 91,
      "outputs": [
        {
          "output_type": "execute_result",
          "data": {
            "text/plain": [
              "(3.521698, 5.358647)"
            ]
          },
          "metadata": {},
          "execution_count": 91
        }
      ]
    },
    {
      "cell_type": "code",
      "source": [
        "preds = np.stack([t.predict(valid_xs) for t in m.estimators_])"
      ],
      "metadata": {
        "id": "Dg6iyZCIW0Nt"
      },
      "execution_count": null,
      "outputs": []
    },
    {
      "cell_type": "code",
      "source": [
        "r_mse(preds.mean(0), valid_y)"
      ],
      "metadata": {
        "id": "5UldrkUhXFbi",
        "colab": {
          "base_uri": "https://localhost:8080/"
        },
        "outputId": "5d12a1cf-aef8-46c1-f377-772782ae947e"
      },
      "execution_count": 93,
      "outputs": [
        {
          "output_type": "execute_result",
          "data": {
            "text/plain": [
              "5.358647"
            ]
          },
          "metadata": {},
          "execution_count": 93
        }
      ]
    },
    {
      "cell_type": "code",
      "source": [
        "plt.plot([r_mse(preds[:i+1].mean(0), valid_y) for i in range(50)]);"
      ],
      "metadata": {
        "id": "eT0fXh6uXIp1",
        "colab": {
          "base_uri": "https://localhost:8080/",
          "height": 268
        },
        "outputId": "9508fe36-496f-40b2-99be-6ce74008de39"
      },
      "execution_count": 94,
      "outputs": [
        {
          "output_type": "display_data",
          "data": {
            "text/plain": [
              "<Figure size 432x288 with 1 Axes>"
            ],
            "image/png": "[encoded data removed]"
          },
          "metadata": {
            "needs_background": "light"
          }
        }
      ]
    },
    {
      "cell_type": "markdown",
      "source": [
        "### Out-of-Bag Error"
      ],
      "metadata": {
        "id": "GN-VS3_2YsOd"
      }
    },
    {
      "cell_type": "code",
      "source": [
        "r_mse(m.oob_prediction_, y)"
      ],
      "metadata": {
        "id": "tvwS19-6Yc20",
        "colab": {
          "base_uri": "https://localhost:8080/"
        },
        "outputId": "26742995-dc65-425e-c5f6-211914ab9390"
      },
      "execution_count": 95,
      "outputs": [
        {
          "output_type": "execute_result",
          "data": {
            "text/plain": [
              "4.47393"
            ]
          },
          "metadata": {},
          "execution_count": 95
        }
      ]
    },
    {
      "cell_type": "markdown",
      "source": [
        "- How confident are we in our predictions using a particular row of data?\n",
        "- For predicting with a particular row of data, what were the most important factors, and how did they influence that prediction?\n",
        "- Which columns are the strongest predictors, which can we ignore?\n",
        "- Which columns are effectively redundant with each other, for purposes of prediction?\n",
        "- How do predictions vary, as we vary these columns?\n"
      ],
      "metadata": {
        "id": "-jSxQWTZZDfx"
      }
    },
    {
      "cell_type": "code",
      "source": [
        "preds = np.stack([t.predict(valid_xs) for t in m.estimators_])"
      ],
      "metadata": {
        "id": "eS53q1RUZRva"
      },
      "execution_count": null,
      "outputs": []
    },
    {
      "cell_type": "code",
      "source": [
        "preds.shape"
      ],
      "metadata": {
        "id": "quArhZFkZtq_",
        "colab": {
          "base_uri": "https://localhost:8080/"
        },
        "outputId": "b6988dd5-8702-40b7-d2d7-0cf2db4d774c"
      },
      "execution_count": 97,
      "outputs": [
        {
          "output_type": "execute_result",
          "data": {
            "text/plain": [
              "(50, 1629)"
            ]
          },
          "metadata": {},
          "execution_count": 97
        }
      ]
    },
    {
      "cell_type": "code",
      "source": [
        "preds_std = preds.std(0)"
      ],
      "metadata": {
        "id": "xZCBhV9MZxSH"
      },
      "execution_count": 98,
      "outputs": []
    },
    {
      "cell_type": "code",
      "source": [
        "preds_std[:5]"
      ],
      "metadata": {
        "id": "ZvKvldDdZ44S",
        "colab": {
          "base_uri": "https://localhost:8080/"
        },
        "outputId": "f6bbd2c2-f64a-45cb-be13-8fdcc0cda4d8"
      },
      "execution_count": 99,
      "outputs": [
        {
          "output_type": "execute_result",
          "data": {
            "text/plain": [
              "array([27.28854112, 27.29543141, 27.05576205, 27.05576205,  4.30394882])"
            ]
          },
          "metadata": {},
          "execution_count": 99
        }
      ]
    },
    {
      "cell_type": "code",
      "source": [
        "print(preds.mean(0)[:10])\n",
        "print(valid_y[:10])"
      ],
      "metadata": {
        "id": "ispifOrY-VK3",
        "colab": {
          "base_uri": "https://localhost:8080/"
        },
        "outputId": "7650310b-a059-4c0f-e3be-93887e6f5f70"
      },
      "execution_count": 100,
      "outputs": [
        {
          "output_type": "stream",
          "name": "stdout",
          "text": [
            "[756.96183208 756.77693883 755.90390823 755.90390823 207.99049019 210.26925313 226.50264669 235.77005535 245.48372132 257.59247134]\n",
            "10     765.453430\n",
            "55     766.232788\n",
            "56     766.232605\n",
            "57     766.065430\n",
            "98     203.465088\n",
            "99     216.631958\n",
            "100    227.721283\n",
            "101    238.108032\n",
            "102    248.636780\n",
            "103    260.765839\n",
            "Name: nextValue, dtype: float32\n"
          ]
        }
      ]
    },
    {
      "cell_type": "markdown",
      "source": [
        "# FEATURE Importance"
      ],
      "metadata": {
        "id": "tkENwKVIaPXc"
      }
    },
    {
      "cell_type": "code",
      "source": [
        "fi = rf_feat_importance(m, xs)\n",
        "fi[:20]"
      ],
      "metadata": {
        "id": "_xddcBHXaj9O",
        "colab": {
          "base_uri": "https://localhost:8080/",
          "height": 676
        },
        "outputId": "a98f7308-555a-416e-fcd3-7db2fe1e1f9c"
      },
      "execution_count": 101,
      "outputs": [
        {
          "output_type": "execute_result",
          "data": {
            "text/plain": [
              "                                                             cols       imp\n",
              "23  lastReportedPosition.milepostLocation.milepost.milepostNumber  0.580946\n",
              "38                                                       milepost  0.327744\n",
              "14                                                  workLocations  0.079909\n",
              "39                                                locomotiveCount  0.008025\n",
              "12                                                         mpIncr  0.001534\n",
              "22                                  lastReportedPosition.speedMPH  0.000858\n",
              "6                 lastReportedPosition.milepostLocation.trackName  0.000200\n",
              "0                                             ptcLeadLocomotiveId  0.000084\n",
              "4                                               trainId.trainDate  0.000078\n",
              "37                                                trailingTonnage  0.000067\n",
              "7                                      aotuTrainData.priorityCode  0.000066\n",
              "35                                                  emptyCarCount  0.000059\n",
              "3                                             trainId.trainSymbol  0.000055\n",
              "36                                                    trainLength  0.000043\n",
              "34                                                 loadedCarCount  0.000039\n",
              "25                                   aotuTrainData.totalCarLength  0.000039\n",
              "45                       lastReportedPosition.positionTimeElapsed  0.000034\n",
              "13                                                     symbolType  0.000030\n",
              "24                                   aotuTrainData.totalCarWeight  0.000027\n",
              "26                            aotuTrainData.totalLocomotiveWeight  0.000023"
            ],
            "text/html": [
              "\n",
              "  <div id=\"df-6ed0ee45-b34a-4484-b13b-95443c0c5eb3\">\n",
              "    <div class=\"colab-df-container\">\n",
              "      <div>\n",
              "<style scoped>\n",
              "    .dataframe tbody tr th:only-of-type {\n",
              "        vertical-align: middle;\n",
              "    }\n",
              "\n",
              "    .dataframe tbody tr th {\n",
              "        vertical-align: top;\n",
              "    }\n",
              "\n",
              "    .dataframe thead th {\n",
              "        text-align: right;\n",
              "    }\n",
              "</style>\n",
              "<table border=\"1\" class=\"dataframe\">\n",
              "  <thead>\n",
              "    <tr style=\"text-align: right;\">\n",
              "      <th></th>\n",
              "      <th>cols</th>\n",
              "      <th>imp</th>\n",
              "    </tr>\n",
              "  </thead>\n",
              "  <tbody>\n",
              "    <tr>\n",
              "      <th>23</th>\n",
              "      <td>lastReportedPosition.milepostLocation.milepost.milepostNumber</td>\n",
              "      <td>0.580946</td>\n",
              "    </tr>\n",
              "    <tr>\n",
              "      <th>38</th>\n",
              "      <td>milepost</td>\n",
              "      <td>0.327744</td>\n",
              "    </tr>\n",
              "    <tr>\n",
              "      <th>14</th>\n",
              "      <td>workLocations</td>\n",
              "      <td>0.079909</td>\n",
              "    </tr>\n",
              "    <tr>\n",
              "      <th>39</th>\n",
              "      <td>locomotiveCount</td>\n",
              "      <td>0.008025</td>\n",
              "    </tr>\n",
              "    <tr>\n",
              "      <th>12</th>\n",
              "      <td>mpIncr</td>\n",
              "      <td>0.001534</td>\n",
              "    </tr>\n",
              "    <tr>\n",
              "      <th>22</th>\n",
              "      <td>lastReportedPosition.speedMPH</td>\n",
              "      <td>0.000858</td>\n",
              "    </tr>\n",
              "    <tr>\n",
              "      <th>6</th>\n",
              "      <td>lastReportedPosition.milepostLocation.trackName</td>\n",
              "      <td>0.000200</td>\n",
              "    </tr>\n",
              "    <tr>\n",
              "      <th>0</th>\n",
              "      <td>ptcLeadLocomotiveId</td>\n",
              "      <td>0.000084</td>\n",
              "    </tr>\n",
              "    <tr>\n",
              "      <th>4</th>\n",
              "      <td>trainId.trainDate</td>\n",
              "      <td>0.000078</td>\n",
              "    </tr>\n",
              "    <tr>\n",
              "      <th>37</th>\n",
              "      <td>trailingTonnage</td>\n",
              "      <td>0.000067</td>\n",
              "    </tr>\n",
              "    <tr>\n",
              "      <th>7</th>\n",
              "      <td>aotuTrainData.priorityCode</td>\n",
              "      <td>0.000066</td>\n",
              "    </tr>\n",
              "    <tr>\n",
              "      <th>35</th>\n",
              "      <td>emptyCarCount</td>\n",
              "      <td>0.000059</td>\n",
              "    </tr>\n",
              "    <tr>\n",
              "      <th>3</th>\n",
              "      <td>trainId.trainSymbol</td>\n",
              "      <td>0.000055</td>\n",
              "    </tr>\n",
              "    <tr>\n",
              "      <th>36</th>\n",
              "      <td>trainLength</td>\n",
              "      <td>0.000043</td>\n",
              "    </tr>\n",
              "    <tr>\n",
              "      <th>34</th>\n",
              "      <td>loadedCarCount</td>\n",
              "      <td>0.000039</td>\n",
              "    </tr>\n",
              "    <tr>\n",
              "      <th>25</th>\n",
              "      <td>aotuTrainData.totalCarLength</td>\n",
              "      <td>0.000039</td>\n",
              "    </tr>\n",
              "    <tr>\n",
              "      <th>45</th>\n",
              "      <td>lastReportedPosition.positionTimeElapsed</td>\n",
              "      <td>0.000034</td>\n",
              "    </tr>\n",
              "    <tr>\n",
              "      <th>13</th>\n",
              "      <td>symbolType</td>\n",
              "      <td>0.000030</td>\n",
              "    </tr>\n",
              "    <tr>\n",
              "      <th>24</th>\n",
              "      <td>aotuTrainData.totalCarWeight</td>\n",
              "      <td>0.000027</td>\n",
              "    </tr>\n",
              "    <tr>\n",
              "      <th>26</th>\n",
              "      <td>aotuTrainData.totalLocomotiveWeight</td>\n",
              "      <td>0.000023</td>\n",
              "    </tr>\n",
              "  </tbody>\n",
              "</table>\n",
              "</div>\n",
              "      <button class=\"colab-df-convert\" onclick=\"convertToInteractive('df-6ed0ee45-b34a-4484-b13b-95443c0c5eb3')\"\n",
              "              title=\"Convert this dataframe to an interactive table.\"\n",
              "              style=\"display:none;\">\n",
              "        \n",
              "  <svg xmlns=\"http://www.w3.org/2000/svg\" height=\"24px\"viewBox=\"0 0 24 24\"\n",
              "       width=\"24px\">\n",
              "    <path d=\"M0 0h24v24H0V0z\" fill=\"none\"/>\n",
              "    <path d=\"M18.56 5.44l.94 2.06.94-2.06 2.06-.94-2.06-.94-.94-2.06-.94 2.06-2.06.94zm-11 1L8.5 8.5l.94-2.06 2.06-.94-2.06-.94L8.5 2.5l-.94 2.06-2.06.94zm10 10l.94 2.06.94-2.06 2.06-.94-2.06-.94-.94-2.06-.94 2.06-2.06.94z\"/><path d=\"M17.41 7.96l-1.37-1.37c-.4-.4-.92-.59-1.43-.59-.52 0-1.04.2-1.43.59L10.3 9.45l-7.72 7.72c-.78.78-.78 2.05 0 2.83L4 21.41c.39.39.9.59 1.41.59.51 0 1.02-.2 1.41-.59l7.78-7.78 2.81-2.81c.8-.78.8-2.07 0-2.86zM5.41 20L4 18.59l7.72-7.72 1.47 1.35L5.41 20z\"/>\n",
              "  </svg>\n",
              "      </button>\n",
              "      \n",
              "  <style>\n",
              "    .colab-df-container {\n",
              "      display:flex;\n",
              "      flex-wrap:wrap;\n",
              "      gap: 12px;\n",
              "    }\n",
              "\n",
              "    .colab-df-convert {\n",
              "      background-color: #E8F0FE;\n",
              "      border: none;\n",
              "      border-radius: 50%;\n",
              "      cursor: pointer;\n",
              "      display: none;\n",
              "      fill: #1967D2;\n",
              "      height: 32px;\n",
              "      padding: 0 0 0 0;\n",
              "      width: 32px;\n",
              "    }\n",
              "\n",
              "    .colab-df-convert:hover {\n",
              "      background-color: #E2EBFA;\n",
              "      box-shadow: 0px 1px 2px rgba(60, 64, 67, 0.3), 0px 1px 3px 1px rgba(60, 64, 67, 0.15);\n",
              "      fill: #174EA6;\n",
              "    }\n",
              "\n",
              "    [theme=dark] .colab-df-convert {\n",
              "      background-color: #3B4455;\n",
              "      fill: #D2E3FC;\n",
              "    }\n",
              "\n",
              "    [theme=dark] .colab-df-convert:hover {\n",
              "      background-color: #434B5C;\n",
              "      box-shadow: 0px 1px 3px 1px rgba(0, 0, 0, 0.15);\n",
              "      filter: drop-shadow(0px 1px 2px rgba(0, 0, 0, 0.3));\n",
              "      fill: #FFFFFF;\n",
              "    }\n",
              "  </style>\n",
              "\n",
              "      <script>\n",
              "        const buttonEl =\n",
              "          document.querySelector('#df-6ed0ee45-b34a-4484-b13b-95443c0c5eb3 button.colab-df-convert');\n",
              "        buttonEl.style.display =\n",
              "          google.colab.kernel.accessAllowed ? 'block' : 'none';\n",
              "\n",
              "        async function convertToInteractive(key) {\n",
              "          const element = document.querySelector('#df-6ed0ee45-b34a-4484-b13b-95443c0c5eb3');\n",
              "          const dataTable =\n",
              "            await google.colab.kernel.invokeFunction('convertToInteractive',\n",
              "                                                     [key], {});\n",
              "          if (!dataTable) return;\n",
              "\n",
              "          const docLinkHtml = 'Like what you see? Visit the ' +\n",
              "            '<a target=\"_blank\" href=https://colab.research.google.com/notebooks/data_table.ipynb>data table notebook</a>'\n",
              "            + ' to learn more about interactive tables.';\n",
              "          element.innerHTML = '';\n",
              "          dataTable['output_type'] = 'display_data';\n",
              "          await google.colab.output.renderOutput(dataTable, element);\n",
              "          const docLink = document.createElement('div');\n",
              "          docLink.innerHTML = docLinkHtml;\n",
              "          element.appendChild(docLink);\n",
              "        }\n",
              "      </script>\n",
              "    </div>\n",
              "  </div>\n",
              "  "
            ]
          },
          "metadata": {},
          "execution_count": 101
        }
      ]
    },
    {
      "cell_type": "code",
      "source": [
        "def plot_fi(fi):\n",
        "    return fi.plot('cols', 'imp', 'barh', figsize=(12,7), legend=False)\n",
        "\n",
        "plot_fi(fi[:30]);"
      ],
      "metadata": {
        "id": "PrrzmK6AflwF",
        "colab": {
          "base_uri": "https://localhost:8080/",
          "height": 431
        },
        "outputId": "9a98701b-f3aa-40af-d11b-74cbba01b4ce"
      },
      "execution_count": 102,
      "outputs": [
        {
          "output_type": "display_data",
          "data": {
            "text/plain": [
              "<Figure size 864x504 with 1 Axes>"
            ],
            "image/png": "[encoded data removed]"
          },
          "metadata": {
            "needs_background": "light"
          }
        }
      ]
    },
    {
      "cell_type": "markdown",
      "source": [
        "Remove low importance columns"
      ],
      "metadata": {
        "id": "ic6LbeWIf2EQ"
      }
    },
    {
      "cell_type": "code",
      "source": [
        "to_keep = fi[fi.imp>0.0002].cols\n",
        "len(to_keep)"
      ],
      "metadata": {
        "id": "jaWtqZdQfwmy",
        "colab": {
          "base_uri": "https://localhost:8080/"
        },
        "outputId": "41ea036d-4d09-4fc3-d007-ca2b80a03a85"
      },
      "execution_count": 107,
      "outputs": [
        {
          "output_type": "execute_result",
          "data": {
            "text/plain": [
              "7"
            ]
          },
          "metadata": {},
          "execution_count": 107
        }
      ]
    },
    {
      "cell_type": "code",
      "source": [
        "xs_imp = xs[to_keep]\n",
        "valid_xs_imp = valid_xs[to_keep]"
      ],
      "metadata": {
        "id": "KK47uCFsgAYv"
      },
      "execution_count": 108,
      "outputs": []
    },
    {
      "cell_type": "code",
      "source": [
        "m = randomForest(xs_imp, y)"
      ],
      "metadata": {
        "id": "GgFy875_gGp4"
      },
      "execution_count": 109,
      "outputs": []
    },
    {
      "cell_type": "code",
      "source": [
        "m_rmse(m, xs_imp, y), m_rmse(m, valid_xs_imp, valid_y)"
      ],
      "metadata": {
        "id": "5e5LZrqmgJf2",
        "colab": {
          "base_uri": "https://localhost:8080/"
        },
        "outputId": "2ece85d4-a052-496f-d8cf-4bc4b376f208"
      },
      "execution_count": 110,
      "outputs": [
        {
          "output_type": "execute_result",
          "data": {
            "text/plain": [
              "(4.08522, 5.316383)"
            ]
          },
          "metadata": {},
          "execution_count": 110
        }
      ]
    },
    {
      "cell_type": "code",
      "source": [
        "plot_fi(rf_feat_importance(m, xs_imp));"
      ],
      "metadata": {
        "id": "5Szx4cKsgKPL",
        "colab": {
          "base_uri": "https://localhost:8080/",
          "height": 431
        },
        "outputId": "e83c3f59-05d5-41bc-935c-e6b213905386"
      },
      "execution_count": 111,
      "outputs": [
        {
          "output_type": "display_data",
          "data": {
            "text/plain": [
              "<Figure size 864x504 with 1 Axes>"
            ],
            "image/png": "[encoded data removed]"
          },
          "metadata": {
            "needs_background": "light"
          }
        }
      ]
    },
    {
      "cell_type": "code",
      "source": [
        "fastai.cluster_columns(xs_imp)"
      ],
      "metadata": {
        "id": "ZRqtok8LhwlR",
        "colab": {
          "base_uri": "https://localhost:8080/",
          "height": 377
        },
        "outputId": "d171cc05-6ff6-4248-89ae-914858cb1634"
      },
      "execution_count": 112,
      "outputs": [
        {
          "output_type": "display_data",
          "data": {
            "text/plain": [
              "<Figure size 720x432 with 1 Axes>"
            ],
            "image/png": "[encoded data removed]"
          },
          "metadata": {
            "needs_background": "light"
          }
        }
      ]
    },
    {
      "cell_type": "markdown",
      "source": [
        "# Compute the Physics Model loss for the same interval:"
      ],
      "metadata": {
        "id": "Q-BM2Bkc_YgZ"
      }
    },
    {
      "cell_type": "code",
      "source": [
        "b = dfTrainsNextBeop.tail(14165)\n",
        "# beopValues = beopValues.to_frame().join(valid_y)\n",
        "#m_rmse(m, valid_xs_imp, valid_y)\n",
        "b = b.reset_index(drop=true)\n",
        "#print (b)\n",
        "y = valid_y.reset_index(drop=true)\n",
        "#print (y)\n",
        "df2  = pd.concat([b, y], axis=1)\n",
        "df2.dropna()\n",
        "print(df2)\n",
        "r_mse(df2['beopValue'], df2['nextValue'])\n",
        "# print(BeopValidations[:5])\n",
        "#print(valid_y[:5])"
      ],
      "metadata": {
        "colab": {
          "base_uri": "https://localhost:8080/"
        },
        "id": "9-wNLj6p9amP",
        "outputId": "a9ec51e9-9a20-471f-bf9b-43f4575d281d"
      },
      "execution_count": 114,
      "outputs": [
        {
          "output_type": "stream",
          "name": "stdout",
          "text": [
            "      beopValue   nextValue\n",
            "0           NaN  765.453430\n",
            "1           NaN  766.232788\n",
            "2           NaN  766.232605\n",
            "3     731.84210  766.065430\n",
            "4     738.46490  203.465088\n",
            "...         ...         ...\n",
            "5902  302.52744         NaN\n",
            "5903  305.07630         NaN\n",
            "5904        NaN         NaN\n",
            "5905  309.55542         NaN\n",
            "5906  321.79720         NaN\n",
            "\n",
            "[5907 rows x 2 columns]\n"
          ]
        },
        {
          "output_type": "execute_result",
          "data": {
            "text/plain": [
              "264.716904"
            ]
          },
          "metadata": {},
          "execution_count": 114
        }
      ]
    },
    {
      "cell_type": "markdown",
      "source": [
        "# Finding Out-of-Domain Data\n",
        "Spot variables that are unique to the test set versus the training set"
      ],
      "metadata": {
        "id": "1N-rN5Y9BoHT"
      }
    },
    {
      "cell_type": "code",
      "source": [
        "df_dom = pd.concat([xs, valid_xs])\n",
        "is_valid = np.array([0]*len(xs) + [1]*len(valid_xs))\n",
        "\n",
        "m = randomForest(df_dom, is_valid)\n",
        "rf_feat_importance(m, df_dom)[:8]"
      ],
      "metadata": {
        "colab": {
          "base_uri": "https://localhost:8080/",
          "height": 300
        },
        "id": "qzU3ybMaBuOr",
        "outputId": "052374d8-02db-4a13-d2bd-143a98d602ed"
      },
      "execution_count": 115,
      "outputs": [
        {
          "output_type": "execute_result",
          "data": {
            "text/plain": [
              "                                                 cols       imp\n",
              "44         lastReportedPosition.positionTimeDayofyear  0.440000\n",
              "45           lastReportedPosition.positionTimeElapsed  0.403743\n",
              "42               lastReportedPosition.positionTimeDay  0.109752\n",
              "41              lastReportedPosition.positionTimeWeek  0.040526\n",
              "40             lastReportedPosition.positionTimeMonth  0.004038\n",
              "19  lastReportedPosition.positionTimeIs_quarter_start  0.001941\n",
              "32                     aotuTrainData.highWideCarCount  0.000000\n",
              "26                aotuTrainData.totalLocomotiveWeight  0.000000"
            ],
            "text/html": [
              "\n",
              "  <div id=\"df-7c9d92ef-6c73-4e1f-aedb-c0e428edde01\">\n",
              "    <div class=\"colab-df-container\">\n",
              "      <div>\n",
              "<style scoped>\n",
              "    .dataframe tbody tr th:only-of-type {\n",
              "        vertical-align: middle;\n",
              "    }\n",
              "\n",
              "    .dataframe tbody tr th {\n",
              "        vertical-align: top;\n",
              "    }\n",
              "\n",
              "    .dataframe thead th {\n",
              "        text-align: right;\n",
              "    }\n",
              "</style>\n",
              "<table border=\"1\" class=\"dataframe\">\n",
              "  <thead>\n",
              "    <tr style=\"text-align: right;\">\n",
              "      <th></th>\n",
              "      <th>cols</th>\n",
              "      <th>imp</th>\n",
              "    </tr>\n",
              "  </thead>\n",
              "  <tbody>\n",
              "    <tr>\n",
              "      <th>44</th>\n",
              "      <td>lastReportedPosition.positionTimeDayofyear</td>\n",
              "      <td>0.440000</td>\n",
              "    </tr>\n",
              "    <tr>\n",
              "      <th>45</th>\n",
              "      <td>lastReportedPosition.positionTimeElapsed</td>\n",
              "      <td>0.403743</td>\n",
              "    </tr>\n",
              "    <tr>\n",
              "      <th>42</th>\n",
              "      <td>lastReportedPosition.positionTimeDay</td>\n",
              "      <td>0.109752</td>\n",
              "    </tr>\n",
              "    <tr>\n",
              "      <th>41</th>\n",
              "      <td>lastReportedPosition.positionTimeWeek</td>\n",
              "      <td>0.040526</td>\n",
              "    </tr>\n",
              "    <tr>\n",
              "      <th>40</th>\n",
              "      <td>lastReportedPosition.positionTimeMonth</td>\n",
              "      <td>0.004038</td>\n",
              "    </tr>\n",
              "    <tr>\n",
              "      <th>19</th>\n",
              "      <td>lastReportedPosition.positionTimeIs_quarter_start</td>\n",
              "      <td>0.001941</td>\n",
              "    </tr>\n",
              "    <tr>\n",
              "      <th>32</th>\n",
              "      <td>aotuTrainData.highWideCarCount</td>\n",
              "      <td>0.000000</td>\n",
              "    </tr>\n",
              "    <tr>\n",
              "      <th>26</th>\n",
              "      <td>aotuTrainData.totalLocomotiveWeight</td>\n",
              "      <td>0.000000</td>\n",
              "    </tr>\n",
              "  </tbody>\n",
              "</table>\n",
              "</div>\n",
              "      <button class=\"colab-df-convert\" onclick=\"convertToInteractive('df-7c9d92ef-6c73-4e1f-aedb-c0e428edde01')\"\n",
              "              title=\"Convert this dataframe to an interactive table.\"\n",
              "              style=\"display:none;\">\n",
              "        \n",
              "  <svg xmlns=\"http://www.w3.org/2000/svg\" height=\"24px\"viewBox=\"0 0 24 24\"\n",
              "       width=\"24px\">\n",
              "    <path d=\"M0 0h24v24H0V0z\" fill=\"none\"/>\n",
              "    <path d=\"M18.56 5.44l.94 2.06.94-2.06 2.06-.94-2.06-.94-.94-2.06-.94 2.06-2.06.94zm-11 1L8.5 8.5l.94-2.06 2.06-.94-2.06-.94L8.5 2.5l-.94 2.06-2.06.94zm10 10l.94 2.06.94-2.06 2.06-.94-2.06-.94-.94-2.06-.94 2.06-2.06.94z\"/><path d=\"M17.41 7.96l-1.37-1.37c-.4-.4-.92-.59-1.43-.59-.52 0-1.04.2-1.43.59L10.3 9.45l-7.72 7.72c-.78.78-.78 2.05 0 2.83L4 21.41c.39.39.9.59 1.41.59.51 0 1.02-.2 1.41-.59l7.78-7.78 2.81-2.81c.8-.78.8-2.07 0-2.86zM5.41 20L4 18.59l7.72-7.72 1.47 1.35L5.41 20z\"/>\n",
              "  </svg>\n",
              "      </button>\n",
              "      \n",
              "  <style>\n",
              "    .colab-df-container {\n",
              "      display:flex;\n",
              "      flex-wrap:wrap;\n",
              "      gap: 12px;\n",
              "    }\n",
              "\n",
              "    .colab-df-convert {\n",
              "      background-color: #E8F0FE;\n",
              "      border: none;\n",
              "      border-radius: 50%;\n",
              "      cursor: pointer;\n",
              "      display: none;\n",
              "      fill: #1967D2;\n",
              "      height: 32px;\n",
              "      padding: 0 0 0 0;\n",
              "      width: 32px;\n",
              "    }\n",
              "\n",
              "    .colab-df-convert:hover {\n",
              "      background-color: #E2EBFA;\n",
              "      box-shadow: 0px 1px 2px rgba(60, 64, 67, 0.3), 0px 1px 3px 1px rgba(60, 64, 67, 0.15);\n",
              "      fill: #174EA6;\n",
              "    }\n",
              "\n",
              "    [theme=dark] .colab-df-convert {\n",
              "      background-color: #3B4455;\n",
              "      fill: #D2E3FC;\n",
              "    }\n",
              "\n",
              "    [theme=dark] .colab-df-convert:hover {\n",
              "      background-color: #434B5C;\n",
              "      box-shadow: 0px 1px 3px 1px rgba(0, 0, 0, 0.15);\n",
              "      filter: drop-shadow(0px 1px 2px rgba(0, 0, 0, 0.3));\n",
              "      fill: #FFFFFF;\n",
              "    }\n",
              "  </style>\n",
              "\n",
              "      <script>\n",
              "        const buttonEl =\n",
              "          document.querySelector('#df-7c9d92ef-6c73-4e1f-aedb-c0e428edde01 button.colab-df-convert');\n",
              "        buttonEl.style.display =\n",
              "          google.colab.kernel.accessAllowed ? 'block' : 'none';\n",
              "\n",
              "        async function convertToInteractive(key) {\n",
              "          const element = document.querySelector('#df-7c9d92ef-6c73-4e1f-aedb-c0e428edde01');\n",
              "          const dataTable =\n",
              "            await google.colab.kernel.invokeFunction('convertToInteractive',\n",
              "                                                     [key], {});\n",
              "          if (!dataTable) return;\n",
              "\n",
              "          const docLinkHtml = 'Like what you see? Visit the ' +\n",
              "            '<a target=\"_blank\" href=https://colab.research.google.com/notebooks/data_table.ipynb>data table notebook</a>'\n",
              "            + ' to learn more about interactive tables.';\n",
              "          element.innerHTML = '';\n",
              "          dataTable['output_type'] = 'display_data';\n",
              "          await google.colab.output.renderOutput(dataTable, element);\n",
              "          const docLink = document.createElement('div');\n",
              "          docLink.innerHTML = docLinkHtml;\n",
              "          element.appendChild(docLink);\n",
              "        }\n",
              "      </script>\n",
              "    </div>\n",
              "  </div>\n",
              "  "
            ]
          },
          "metadata": {},
          "execution_count": 115
        }
      ]
    },
    {
      "cell_type": "markdown",
      "source": [
        "Consider whether these values make sense"
      ],
      "metadata": {
        "id": "wJPE_9WCLCPr"
      }
    },
    {
      "cell_type": "markdown",
      "source": [
        "#Using a Neural Net"
      ],
      "metadata": {
        "id": "K9TcqLvPKQJD"
      }
    },
    {
      "cell_type": "code",
      "source": [
        "df_nn_final = dfTrainsLearn"
      ],
      "metadata": {
        "id": "CrfcBKRXKqQ8"
      },
      "execution_count": 116,
      "outputs": []
    },
    {
      "cell_type": "code",
      "source": [
        "df_nn_final.info()"
      ],
      "metadata": {
        "id": "W87DbNmeMVsv",
        "colab": {
          "base_uri": "https://localhost:8080/"
        },
        "outputId": "d07f9d9a-7931-402e-827b-987ab3c8a5c6"
      },
      "execution_count": 117,
      "outputs": [
        {
          "output_type": "stream",
          "name": "stdout",
          "text": [
            "<class 'pandas.core.frame.DataFrame'>\n",
            "Int64Index: 5907 entries, 10 to 6745\n",
            "Data columns (total 47 columns):\n",
            " #   Column                                                         Non-Null Count  Dtype         \n",
            "---  ------                                                         --------------  -----         \n",
            " 0   ptcLeadLocomotiveId                                            5907 non-null   object        \n",
            " 1   trainId.trainSCAC                                              5907 non-null   category      \n",
            " 2   trainId.trainSection                                           5907 non-null   category      \n",
            " 3   trainId.trainSymbol                                            5907 non-null   object        \n",
            " 4   trainId.trainDate                                              5907 non-null   datetime64[ns]\n",
            " 5   lastReportedPosition.speedMPH                                  5907 non-null   int64         \n",
            " 6   lastReportedPosition.milepostLocation.subdivisionId            5907 non-null   int64         \n",
            " 7   lastReportedPosition.milepostLocation.trackName                5907 non-null   category      \n",
            " 8   lastReportedPosition.milepostLocation.milepost.milepostNumber  5907 non-null   float64       \n",
            " 9   aotuTrainData.priorityCode                                     5907 non-null   category      \n",
            " 10  aotuTrainData.categoryCode                                     5907 non-null   category      \n",
            " 11  aotuTrainData.authorityRangeCode                               5907 non-null   category      \n",
            " 12  aotuTrainData.ownershipCode                                    5907 non-null   category      \n",
            " 13  aotuTrainData.totalCarWeight                                   5907 non-null   float64       \n",
            " 14  aotuTrainData.totalCarLength                                   5907 non-null   float64       \n",
            " 15  aotuTrainData.totalLocomotiveWeight                            5907 non-null   float64       \n",
            " 16  aotuTrainData.totalLocomotiveLength                            5907 non-null   float64       \n",
            " 17  aotuTrainData.actualTonsPerAxle                                5907 non-null   float64       \n",
            " 18  aotuTrainData.heavy143TonCarCount                              5907 non-null   float64       \n",
            " 19  aotuTrainData.heavy158TonCarCount                              5907 non-null   float64       \n",
            " 20  aotuTrainData.over158TonCarCount                               5907 non-null   float64       \n",
            " 21  aotuTrainData.highWideCarCount                                 5907 non-null   float64       \n",
            " 22  aotuTrainData.eventCode                                        5907 non-null   category      \n",
            " 23  maximumTrainSpeed                                              5907 non-null   float64       \n",
            " 24  loadedCarCount                                                 5907 non-null   float64       \n",
            " 25  emptyCarCount                                                  5907 non-null   float64       \n",
            " 26  trainLength                                                    5907 non-null   float64       \n",
            " 27  trailingTonnage                                                5907 non-null   float64       \n",
            " 28  milepost                                                       5907 non-null   int64         \n",
            " 29  mpIncr                                                         5907 non-null   bool          \n",
            " 30  symbolType                                                     5907 non-null   category      \n",
            " 31  workLocations                                                  4951 non-null   object        \n",
            " 32  locomotiveCount                                                5907 non-null   int64         \n",
            " 33  nextValue                                                      5907 non-null   float64       \n",
            " 34  lastReportedPosition.positionTimeYear                          5907 non-null   int64         \n",
            " 35  lastReportedPosition.positionTimeMonth                         5907 non-null   int64         \n",
            " 36  lastReportedPosition.positionTimeWeek                          5907 non-null   int64         \n",
            " 37  lastReportedPosition.positionTimeDay                           5907 non-null   int64         \n",
            " 38  lastReportedPosition.positionTimeDayofweek                     5907 non-null   int64         \n",
            " 39  lastReportedPosition.positionTimeDayofyear                     5907 non-null   int64         \n",
            " 40  lastReportedPosition.positionTimeIs_month_end                  5907 non-null   bool          \n",
            " 41  lastReportedPosition.positionTimeIs_month_start                5907 non-null   bool          \n",
            " 42  lastReportedPosition.positionTimeIs_quarter_end                5907 non-null   bool          \n",
            " 43  lastReportedPosition.positionTimeIs_quarter_start              5907 non-null   bool          \n",
            " 44  lastReportedPosition.positionTimeIs_year_end                   5907 non-null   bool          \n",
            " 45  lastReportedPosition.positionTimeIs_year_start                 5907 non-null   bool          \n",
            " 46  lastReportedPosition.positionTimeElapsed                       5907 non-null   float64       \n",
            "dtypes: bool(7), category(9), datetime64[ns](1), float64(17), int64(10), object(3)\n",
            "memory usage: 1.5+ MB\n"
          ]
        }
      ]
    },
    {
      "cell_type": "code",
      "source": [
        "cont_nn,cat_nn = cont_cat_split(df_nn_final, max_card=9000, dep_var=dep_var)"
      ],
      "metadata": {
        "id": "TpvoMKe1MNzg"
      },
      "execution_count": 118,
      "outputs": []
    },
    {
      "cell_type": "code",
      "source": [
        "cont_nn"
      ],
      "metadata": {
        "colab": {
          "base_uri": "https://localhost:8080/"
        },
        "id": "xef-YmKAMeHO",
        "outputId": "1b0950a4-101f-4ee3-f2a2-34bedff41e60"
      },
      "execution_count": 119,
      "outputs": [
        {
          "output_type": "execute_result",
          "data": {
            "text/plain": [
              "['lastReportedPosition.milepostLocation.milepost.milepostNumber',\n",
              " 'aotuTrainData.totalCarWeight',\n",
              " 'aotuTrainData.totalCarLength',\n",
              " 'aotuTrainData.totalLocomotiveWeight',\n",
              " 'aotuTrainData.totalLocomotiveLength',\n",
              " 'aotuTrainData.actualTonsPerAxle',\n",
              " 'aotuTrainData.heavy143TonCarCount',\n",
              " 'aotuTrainData.heavy158TonCarCount',\n",
              " 'aotuTrainData.over158TonCarCount',\n",
              " 'aotuTrainData.highWideCarCount',\n",
              " 'maximumTrainSpeed',\n",
              " 'loadedCarCount',\n",
              " 'emptyCarCount',\n",
              " 'trainLength',\n",
              " 'trailingTonnage',\n",
              " 'lastReportedPosition.positionTimeElapsed']"
            ]
          },
          "metadata": {},
          "execution_count": 119
        }
      ]
    },
    {
      "cell_type": "code",
      "source": [
        "numUniquePerCat = df_nn_final[cat_nn].nunique()\n",
        "with pd.option_context('display.max_rows', None, 'display.max_columns', None):  \n",
        "    print(numUniquePerCat)"
      ],
      "metadata": {
        "colab": {
          "base_uri": "https://localhost:8080/"
        },
        "id": "axfRjORJin9v",
        "outputId": "79b93924-d41d-4c0c-9f1b-02eb0ea7aebd"
      },
      "execution_count": 120,
      "outputs": [
        {
          "output_type": "stream",
          "name": "stdout",
          "text": [
            "ptcLeadLocomotiveId                                    446\n",
            "trainId.trainSCAC                                        1\n",
            "trainId.trainSection                                     5\n",
            "trainId.trainSymbol                                    160\n",
            "trainId.trainDate                                       19\n",
            "lastReportedPosition.speedMPH                           71\n",
            "lastReportedPosition.milepostLocation.subdivisionId      1\n",
            "lastReportedPosition.milepostLocation.trackName         33\n",
            "aotuTrainData.priorityCode                               5\n",
            "aotuTrainData.categoryCode                              15\n",
            "aotuTrainData.authorityRangeCode                         4\n",
            "aotuTrainData.ownershipCode                              3\n",
            "aotuTrainData.eventCode                                  1\n",
            "milepost                                               224\n",
            "mpIncr                                                   2\n",
            "symbolType                                              16\n",
            "workLocations                                           24\n",
            "locomotiveCount                                         10\n",
            "lastReportedPosition.positionTimeYear                    1\n",
            "lastReportedPosition.positionTimeMonth                   2\n",
            "lastReportedPosition.positionTimeWeek                    2\n",
            "lastReportedPosition.positionTimeDay                    12\n",
            "lastReportedPosition.positionTimeDayofweek               7\n",
            "lastReportedPosition.positionTimeDayofyear              12\n",
            "lastReportedPosition.positionTimeIs_month_end            2\n",
            "lastReportedPosition.positionTimeIs_month_start          2\n",
            "lastReportedPosition.positionTimeIs_quarter_end          2\n",
            "lastReportedPosition.positionTimeIs_quarter_start        2\n",
            "lastReportedPosition.positionTimeIs_year_end             1\n",
            "lastReportedPosition.positionTimeIs_year_start           1\n",
            "dtype: int64\n"
          ]
        }
      ]
    },
    {
      "cell_type": "code",
      "source": [
        "procs_nn = [Categorify, FillMissing, Normalize]\n",
        "to_nn = TabularPandas(df_nn_final, procs_nn, cat_nn, cont_nn,\n",
        "                      splits=splits, y_names=dep_var)"
      ],
      "metadata": {
        "id": "WNS5_jduj0Ft"
      },
      "execution_count": 121,
      "outputs": []
    },
    {
      "cell_type": "code",
      "source": [
        "dls = to_nn.dataloaders(1024)"
      ],
      "metadata": {
        "id": "HH0M0MH7kKQ-"
      },
      "execution_count": 122,
      "outputs": []
    },
    {
      "cell_type": "code",
      "source": [
        "y = to_nn.train.y\n",
        "y.min(),y.max()"
      ],
      "metadata": {
        "colab": {
          "base_uri": "https://localhost:8080/"
        },
        "id": "BPnKvYGKkRMf",
        "outputId": "6aa274c4-5519-4333-daa4-fcadaeb01382"
      },
      "execution_count": 123,
      "outputs": [
        {
          "output_type": "execute_result",
          "data": {
            "text/plain": [
              "(202.2868, 767.9998)"
            ]
          },
          "metadata": {},
          "execution_count": 123
        }
      ]
    },
    {
      "cell_type": "code",
      "source": [
        "learn = tabular_learner(dls, y_range=(202,768), layers=[500,250],\n",
        "                        n_out=1, loss_func=F.mse_loss)"
      ],
      "metadata": {
        "id": "XI0a_6T8kYCl"
      },
      "execution_count": 126,
      "outputs": []
    },
    {
      "cell_type": "code",
      "source": [
        "learn.lr_find()"
      ],
      "metadata": {
        "colab": {
          "base_uri": "https://localhost:8080/",
          "height": 306
        },
        "id": "-bG4DfIqkbyc",
        "outputId": "518d677c-3d31-42fe-f03d-2b41e0e62d12"
      },
      "execution_count": 127,
      "outputs": [
        {
          "output_type": "display_data",
          "data": {
            "text/plain": [
              "<IPython.core.display.HTML object>"
            ],
            "text/html": [
              "\n",
              "<style>\n",
              "    /* Turns off some styling */\n",
              "    progress {\n",
              "        /* gets rid of default border in Firefox and Opera. */\n",
              "        border: none;\n",
              "        /* Needs to be in here for Safari polyfill so background images work as expected. */\n",
              "        background-size: auto;\n",
              "    }\n",
              "    .progress-bar-interrupted, .progress-bar-interrupted::-webkit-progress-bar {\n",
              "        background: #F44336;\n",
              "    }\n",
              "</style>\n"
            ]
          },
          "metadata": {}
        },
        {
          "output_type": "display_data",
          "data": {
            "text/plain": [
              "<IPython.core.display.HTML object>"
            ],
            "text/html": [
              ""
            ]
          },
          "metadata": {}
        },
        {
          "output_type": "execute_result",
          "data": {
            "text/plain": [
              "SuggestedLRs(valley=0.0014454397605732083)"
            ]
          },
          "metadata": {},
          "execution_count": 127
        },
        {
          "output_type": "display_data",
          "data": {
            "text/plain": [
              "<Figure size 432x288 with 1 Axes>"
            ],
            "image/png": "[encoded data removed]"
          },
          "metadata": {
            "needs_background": "light"
          }
        }
      ]
    },
    {
      "cell_type": "code",
      "source": [
        "learn.fit_one_cycle(50, 1e-2)"
      ],
      "metadata": {
        "colab": {
          "base_uri": "https://localhost:8080/",
          "height": 1000
        },
        "id": "KtYc1ectkiZt",
        "outputId": "a80b22fc-0ff0-4418-925e-28f59ba0faa2"
      },
      "execution_count": 128,
      "outputs": [
        {
          "output_type": "display_data",
          "data": {
            "text/plain": [
              "<IPython.core.display.HTML object>"
            ],
            "text/html": [
              "\n",
              "<style>\n",
              "    /* Turns off some styling */\n",
              "    progress {\n",
              "        /* gets rid of default border in Firefox and Opera. */\n",
              "        border: none;\n",
              "        /* Needs to be in here for Safari polyfill so background images work as expected. */\n",
              "        background-size: auto;\n",
              "    }\n",
              "    .progress-bar-interrupted, .progress-bar-interrupted::-webkit-progress-bar {\n",
              "        background: #F44336;\n",
              "    }\n",
              "</style>\n"
            ]
          },
          "metadata": {}
        },
        {
          "output_type": "display_data",
          "data": {
            "text/plain": [
              "<IPython.core.display.HTML object>"
            ],
            "text/html": [
              "<table border=\"1\" class=\"dataframe\">\n",
              "  <thead>\n",
              "    <tr style=\"text-align: left;\">\n",
              "      <th>epoch</th>\n",
              "      <th>train_loss</th>\n",
              "      <th>valid_loss</th>\n",
              "      <th>time</th>\n",
              "    </tr>\n",
              "  </thead>\n",
              "  <tbody>\n",
              "    <tr>\n",
              "      <td>0</td>\n",
              "      <td>29273.796875</td>\n",
              "      <td>54725.320312</td>\n",
              "      <td>00:00</td>\n",
              "    </tr>\n",
              "    <tr>\n",
              "      <td>1</td>\n",
              "      <td>16697.917969</td>\n",
              "      <td>53223.906250</td>\n",
              "      <td>00:00</td>\n",
              "    </tr>\n",
              "    <tr>\n",
              "      <td>2</td>\n",
              "      <td>11490.997070</td>\n",
              "      <td>52836.960938</td>\n",
              "      <td>00:00</td>\n",
              "    </tr>\n",
              "    <tr>\n",
              "      <td>3</td>\n",
              "      <td>8797.094727</td>\n",
              "      <td>58642.113281</td>\n",
              "      <td>00:00</td>\n",
              "    </tr>\n",
              "    <tr>\n",
              "      <td>4</td>\n",
              "      <td>7152.245117</td>\n",
              "      <td>65080.722656</td>\n",
              "      <td>00:00</td>\n",
              "    </tr>\n",
              "    <tr>\n",
              "      <td>5</td>\n",
              "      <td>6070.864258</td>\n",
              "      <td>64927.421875</td>\n",
              "      <td>00:00</td>\n",
              "    </tr>\n",
              "    <tr>\n",
              "      <td>6</td>\n",
              "      <td>5302.143066</td>\n",
              "      <td>52797.281250</td>\n",
              "      <td>00:00</td>\n",
              "    </tr>\n",
              "    <tr>\n",
              "      <td>7</td>\n",
              "      <td>4723.321289</td>\n",
              "      <td>26898.857422</td>\n",
              "      <td>00:00</td>\n",
              "    </tr>\n",
              "    <tr>\n",
              "      <td>8</td>\n",
              "      <td>4269.284668</td>\n",
              "      <td>26787.707031</td>\n",
              "      <td>00:00</td>\n",
              "    </tr>\n",
              "    <tr>\n",
              "      <td>9</td>\n",
              "      <td>3893.343750</td>\n",
              "      <td>14104.218750</td>\n",
              "      <td>00:00</td>\n",
              "    </tr>\n",
              "    <tr>\n",
              "      <td>10</td>\n",
              "      <td>3516.825195</td>\n",
              "      <td>5692.595215</td>\n",
              "      <td>00:00</td>\n",
              "    </tr>\n",
              "    <tr>\n",
              "      <td>11</td>\n",
              "      <td>3144.794434</td>\n",
              "      <td>1430.208252</td>\n",
              "      <td>00:00</td>\n",
              "    </tr>\n",
              "    <tr>\n",
              "      <td>12</td>\n",
              "      <td>2818.023438</td>\n",
              "      <td>749.654053</td>\n",
              "      <td>00:00</td>\n",
              "    </tr>\n",
              "    <tr>\n",
              "      <td>13</td>\n",
              "      <td>2536.876221</td>\n",
              "      <td>606.039856</td>\n",
              "      <td>00:00</td>\n",
              "    </tr>\n",
              "    <tr>\n",
              "      <td>14</td>\n",
              "      <td>2298.276611</td>\n",
              "      <td>562.892883</td>\n",
              "      <td>00:00</td>\n",
              "    </tr>\n",
              "    <tr>\n",
              "      <td>15</td>\n",
              "      <td>2084.157715</td>\n",
              "      <td>645.924500</td>\n",
              "      <td>00:00</td>\n",
              "    </tr>\n",
              "    <tr>\n",
              "      <td>16</td>\n",
              "      <td>1899.989746</td>\n",
              "      <td>800.296204</td>\n",
              "      <td>00:00</td>\n",
              "    </tr>\n",
              "    <tr>\n",
              "      <td>17</td>\n",
              "      <td>1745.132690</td>\n",
              "      <td>913.749634</td>\n",
              "      <td>00:00</td>\n",
              "    </tr>\n",
              "    <tr>\n",
              "      <td>18</td>\n",
              "      <td>1604.045410</td>\n",
              "      <td>531.699036</td>\n",
              "      <td>00:00</td>\n",
              "    </tr>\n",
              "    <tr>\n",
              "      <td>19</td>\n",
              "      <td>1476.357422</td>\n",
              "      <td>808.497375</td>\n",
              "      <td>00:00</td>\n",
              "    </tr>\n",
              "    <tr>\n",
              "      <td>20</td>\n",
              "      <td>1361.138672</td>\n",
              "      <td>844.404236</td>\n",
              "      <td>00:00</td>\n",
              "    </tr>\n",
              "    <tr>\n",
              "      <td>21</td>\n",
              "      <td>1262.685547</td>\n",
              "      <td>561.788879</td>\n",
              "      <td>00:00</td>\n",
              "    </tr>\n",
              "    <tr>\n",
              "      <td>22</td>\n",
              "      <td>1171.636963</td>\n",
              "      <td>721.806030</td>\n",
              "      <td>00:00</td>\n",
              "    </tr>\n",
              "    <tr>\n",
              "      <td>23</td>\n",
              "      <td>1091.686035</td>\n",
              "      <td>695.116638</td>\n",
              "      <td>00:00</td>\n",
              "    </tr>\n",
              "    <tr>\n",
              "      <td>24</td>\n",
              "      <td>1017.271179</td>\n",
              "      <td>644.247986</td>\n",
              "      <td>00:00</td>\n",
              "    </tr>\n",
              "    <tr>\n",
              "      <td>25</td>\n",
              "      <td>959.814026</td>\n",
              "      <td>727.986389</td>\n",
              "      <td>00:00</td>\n",
              "    </tr>\n",
              "    <tr>\n",
              "      <td>26</td>\n",
              "      <td>906.748047</td>\n",
              "      <td>568.794556</td>\n",
              "      <td>00:00</td>\n",
              "    </tr>\n",
              "    <tr>\n",
              "      <td>27</td>\n",
              "      <td>863.995483</td>\n",
              "      <td>907.826355</td>\n",
              "      <td>00:00</td>\n",
              "    </tr>\n",
              "    <tr>\n",
              "      <td>28</td>\n",
              "      <td>824.146118</td>\n",
              "      <td>724.465637</td>\n",
              "      <td>00:00</td>\n",
              "    </tr>\n",
              "    <tr>\n",
              "      <td>29</td>\n",
              "      <td>780.725647</td>\n",
              "      <td>552.985046</td>\n",
              "      <td>00:00</td>\n",
              "    </tr>\n",
              "    <tr>\n",
              "      <td>30</td>\n",
              "      <td>740.241272</td>\n",
              "      <td>699.893982</td>\n",
              "      <td>00:00</td>\n",
              "    </tr>\n",
              "    <tr>\n",
              "      <td>31</td>\n",
              "      <td>712.326904</td>\n",
              "      <td>982.394470</td>\n",
              "      <td>00:00</td>\n",
              "    </tr>\n",
              "    <tr>\n",
              "      <td>32</td>\n",
              "      <td>677.823730</td>\n",
              "      <td>676.422485</td>\n",
              "      <td>00:00</td>\n",
              "    </tr>\n",
              "    <tr>\n",
              "      <td>33</td>\n",
              "      <td>646.065002</td>\n",
              "      <td>638.786072</td>\n",
              "      <td>00:00</td>\n",
              "    </tr>\n",
              "    <tr>\n",
              "      <td>34</td>\n",
              "      <td>615.590149</td>\n",
              "      <td>603.343445</td>\n",
              "      <td>00:00</td>\n",
              "    </tr>\n",
              "    <tr>\n",
              "      <td>35</td>\n",
              "      <td>586.687317</td>\n",
              "      <td>696.035278</td>\n",
              "      <td>00:00</td>\n",
              "    </tr>\n",
              "    <tr>\n",
              "      <td>36</td>\n",
              "      <td>750.387024</td>\n",
              "      <td>702.678650</td>\n",
              "      <td>00:00</td>\n",
              "    </tr>\n",
              "    <tr>\n",
              "      <td>37</td>\n",
              "      <td>790.304810</td>\n",
              "      <td>616.669800</td>\n",
              "      <td>00:00</td>\n",
              "    </tr>\n",
              "    <tr>\n",
              "      <td>38</td>\n",
              "      <td>759.516724</td>\n",
              "      <td>1763.498047</td>\n",
              "      <td>00:00</td>\n",
              "    </tr>\n",
              "    <tr>\n",
              "      <td>39</td>\n",
              "      <td>740.786987</td>\n",
              "      <td>1078.607788</td>\n",
              "      <td>00:00</td>\n",
              "    </tr>\n",
              "    <tr>\n",
              "      <td>40</td>\n",
              "      <td>709.752197</td>\n",
              "      <td>559.206665</td>\n",
              "      <td>00:00</td>\n",
              "    </tr>\n",
              "    <tr>\n",
              "      <td>41</td>\n",
              "      <td>678.525818</td>\n",
              "      <td>563.217590</td>\n",
              "      <td>00:00</td>\n",
              "    </tr>\n",
              "    <tr>\n",
              "      <td>42</td>\n",
              "      <td>656.256531</td>\n",
              "      <td>561.278870</td>\n",
              "      <td>00:00</td>\n",
              "    </tr>\n",
              "    <tr>\n",
              "      <td>43</td>\n",
              "      <td>628.953430</td>\n",
              "      <td>566.037842</td>\n",
              "      <td>00:00</td>\n",
              "    </tr>\n",
              "    <tr>\n",
              "      <td>44</td>\n",
              "      <td>602.514709</td>\n",
              "      <td>585.701782</td>\n",
              "      <td>00:00</td>\n",
              "    </tr>\n",
              "    <tr>\n",
              "      <td>45</td>\n",
              "      <td>577.159668</td>\n",
              "      <td>597.395630</td>\n",
              "      <td>00:00</td>\n",
              "    </tr>\n",
              "    <tr>\n",
              "      <td>46</td>\n",
              "      <td>553.801025</td>\n",
              "      <td>605.263672</td>\n",
              "      <td>00:00</td>\n",
              "    </tr>\n",
              "    <tr>\n",
              "      <td>47</td>\n",
              "      <td>534.601746</td>\n",
              "      <td>607.502014</td>\n",
              "      <td>00:00</td>\n",
              "    </tr>\n",
              "    <tr>\n",
              "      <td>48</td>\n",
              "      <td>513.611572</td>\n",
              "      <td>603.820618</td>\n",
              "      <td>00:00</td>\n",
              "    </tr>\n",
              "    <tr>\n",
              "      <td>49</td>\n",
              "      <td>496.447510</td>\n",
              "      <td>611.122681</td>\n",
              "      <td>00:00</td>\n",
              "    </tr>\n",
              "  </tbody>\n",
              "</table>"
            ]
          },
          "metadata": {}
        }
      ]
    },
    {
      "cell_type": "code",
      "source": [
        "preds,targs = learn.get_preds()\n",
        "print(r_mse(preds,targs))\n",
        "print(preds[:10])\n",
        "print(targs[:10])"
      ],
      "metadata": {
        "colab": {
          "base_uri": "https://localhost:8080/",
          "height": 381
        },
        "id": "eo1O3alWmiKj",
        "outputId": "0f0a97a7-fc68-4094-af26-a95b145bb771"
      },
      "execution_count": 129,
      "outputs": [
        {
          "output_type": "display_data",
          "data": {
            "text/plain": [
              "<IPython.core.display.HTML object>"
            ],
            "text/html": [
              "\n",
              "<style>\n",
              "    /* Turns off some styling */\n",
              "    progress {\n",
              "        /* gets rid of default border in Firefox and Opera. */\n",
              "        border: none;\n",
              "        /* Needs to be in here for Safari polyfill so background images work as expected. */\n",
              "        background-size: auto;\n",
              "    }\n",
              "    .progress-bar-interrupted, .progress-bar-interrupted::-webkit-progress-bar {\n",
              "        background: #F44336;\n",
              "    }\n",
              "</style>\n"
            ]
          },
          "metadata": {}
        },
        {
          "output_type": "display_data",
          "data": {
            "text/plain": [
              "<IPython.core.display.HTML object>"
            ],
            "text/html": [
              ""
            ]
          },
          "metadata": {}
        },
        {
          "output_type": "stream",
          "name": "stdout",
          "text": [
            "24.720894\n",
            "tensor([[767.8796],\n",
            "        [767.8268],\n",
            "        [767.8875],\n",
            "        [767.8873],\n",
            "        [212.7435],\n",
            "        [213.1347],\n",
            "        [219.2676],\n",
            "        [221.1059],\n",
            "        [227.0024],\n",
            "        [233.5098]])\n",
            "tensor([[765.4534],\n",
            "        [766.2328],\n",
            "        [766.2326],\n",
            "        [766.0654],\n",
            "        [203.4651],\n",
            "        [216.6320],\n",
            "        [227.7213],\n",
            "        [238.1080],\n",
            "        [248.6368],\n",
            "        [260.7658]])\n"
          ]
        }
      ]
    }
  ],
  "metadata": {
    "colab": {
      "name": "MLModel1-2.ipynb",
      "provenance": [],
      "collapsed_sections": [],
      "include_colab_link": true
    },
    "interpreter": {
      "hash": "99fae7d265480b5fbb0cf965db398c4d2d7b17b55f6259418c7dbfe0de01ea90"
    },
    "kernelspec": {
      "display_name": "Python 3 (ipykernel)",
      "language": "python",
      "name": "python3"
    },
    "language_info": {
      "codemirror_mode": {
        "name": "ipython",
        "version": 3
      },
      "file_extension": ".py",
      "mimetype": "text/x-python",
      "name": "python",
      "nbconvert_exporter": "python",
      "pygments_lexer": "ipython3",
      "version": "3.9.12"
    }
  },
  "nbformat": 4,
  "nbformat_minor": 0
}