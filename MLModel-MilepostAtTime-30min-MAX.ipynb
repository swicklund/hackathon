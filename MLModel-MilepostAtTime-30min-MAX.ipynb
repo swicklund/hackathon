{
  "cells": [
    {
      "cell_type": "markdown",
      "metadata": {
        "id": "view-in-github",
        "colab_type": "text"
      },
      "source": [
        "<a href=\"https://colab.research.google.com/github/swicklund/hackathon/blob/main/MLModel-MilepostAtTime-30min-MAX.ipynb\" target=\"_parent\"><img src=\"https://colab.research.google.com/assets/colab-badge.svg\" alt=\"Open In Colab\"/></a>"
      ]
    },
    {
      "cell_type": "code",
      "execution_count": 1,
      "metadata": {
        "id": "f18J8QM17E0a",
        "colab": {
          "base_uri": "https://localhost:8080/"
        },
        "outputId": "3ca27aa6-6482-4552-eb19-8d23b19b2e40"
      },
      "outputs": [
        {
          "output_type": "stream",
          "name": "stdout",
          "text": [
            "Looking in indexes: https://pypi.org/simple, https://us-python.pkg.dev/colab-wheels/public/simple/\n",
            "Requirement already satisfied: dtreeviz in /usr/local/lib/python3.7/dist-packages (1.3.7)\n",
            "Requirement already satisfied: matplotlib in /usr/local/lib/python3.7/dist-packages (from dtreeviz) (3.2.2)\n",
            "Requirement already satisfied: graphviz>=0.9 in /usr/local/lib/python3.7/dist-packages (from dtreeviz) (0.10.1)\n",
            "Requirement already satisfied: scikit-learn in /usr/local/lib/python3.7/dist-packages (from dtreeviz) (1.0.2)\n",
            "Requirement already satisfied: colour in /usr/local/lib/python3.7/dist-packages (from dtreeviz) (0.1.5)\n",
            "Requirement already satisfied: pandas in /usr/local/lib/python3.7/dist-packages (from dtreeviz) (1.3.5)\n",
            "Requirement already satisfied: numpy in /usr/local/lib/python3.7/dist-packages (from dtreeviz) (1.21.6)\n",
            "Requirement already satisfied: pytest in /usr/local/lib/python3.7/dist-packages (from dtreeviz) (3.6.4)\n",
            "Requirement already satisfied: kiwisolver>=1.0.1 in /usr/local/lib/python3.7/dist-packages (from matplotlib->dtreeviz) (1.4.3)\n",
            "Requirement already satisfied: python-dateutil>=2.1 in /usr/local/lib/python3.7/dist-packages (from matplotlib->dtreeviz) (2.8.2)\n",
            "Requirement already satisfied: pyparsing!=2.0.4,!=2.1.2,!=2.1.6,>=2.0.1 in /usr/local/lib/python3.7/dist-packages (from matplotlib->dtreeviz) (3.0.9)\n",
            "Requirement already satisfied: cycler>=0.10 in /usr/local/lib/python3.7/dist-packages (from matplotlib->dtreeviz) (0.11.0)\n",
            "Requirement already satisfied: typing-extensions in /usr/local/lib/python3.7/dist-packages (from kiwisolver>=1.0.1->matplotlib->dtreeviz) (4.1.1)\n",
            "Requirement already satisfied: six>=1.5 in /usr/local/lib/python3.7/dist-packages (from python-dateutil>=2.1->matplotlib->dtreeviz) (1.15.0)\n",
            "Requirement already satisfied: pytz>=2017.3 in /usr/local/lib/python3.7/dist-packages (from pandas->dtreeviz) (2022.1)\n",
            "Requirement already satisfied: setuptools in /usr/local/lib/python3.7/dist-packages (from pytest->dtreeviz) (57.4.0)\n",
            "Requirement already satisfied: more-itertools>=4.0.0 in /usr/local/lib/python3.7/dist-packages (from pytest->dtreeviz) (8.13.0)\n",
            "Requirement already satisfied: attrs>=17.4.0 in /usr/local/lib/python3.7/dist-packages (from pytest->dtreeviz) (21.4.0)\n",
            "Requirement already satisfied: atomicwrites>=1.0 in /usr/local/lib/python3.7/dist-packages (from pytest->dtreeviz) (1.4.0)\n",
            "Requirement already satisfied: py>=1.5.0 in /usr/local/lib/python3.7/dist-packages (from pytest->dtreeviz) (1.11.0)\n",
            "Requirement already satisfied: pluggy<0.8,>=0.5 in /usr/local/lib/python3.7/dist-packages (from pytest->dtreeviz) (0.7.1)\n",
            "Requirement already satisfied: threadpoolctl>=2.0.0 in /usr/local/lib/python3.7/dist-packages (from scikit-learn->dtreeviz) (3.1.0)\n",
            "Requirement already satisfied: joblib>=0.11 in /usr/local/lib/python3.7/dist-packages (from scikit-learn->dtreeviz) (1.1.0)\n",
            "Requirement already satisfied: scipy>=1.1.0 in /usr/local/lib/python3.7/dist-packages (from scikit-learn->dtreeviz) (1.4.1)\n",
            "Updated property [core/project].\n"
          ]
        }
      ],
      "source": [
        "!pip install -Uqq fastbook\n",
        "!pip install dtreeviz\n",
        "!gcloud config set project {'hackathon-352519'}\n",
        "\n",
        "import os\n",
        "\n",
        "import IPython\n",
        "import IPython.display\n",
        "import matplotlib as mpl\n",
        "import matplotlib.pyplot as plt\n",
        "import numpy as np\n",
        "import fastbook as fastai\n",
        "import pandas as pd\n",
        "from pandas.io.json import json_normalize\n",
        "import seaborn as sns\n",
        "import tensorflow as tf\n",
        "import json\n",
        "import zipfile\n",
        "from io import BytesIO\n",
        "import torch\n",
        "import math\n",
        "from google.colab import files\n",
        "from google.colab import auth\n",
        "from datetime import datetime, timedelta\n",
        "\n",
        "fastai.setup_book()\n",
        "from fastai import tabular\n",
        "from pandas.api.types import is_string_dtype, is_numeric_dtype, is_categorical_dtype\n",
        "from fastai.tabular.all import *\n",
        "from sklearn.ensemble import RandomForestRegressor\n",
        "from sklearn.tree import DecisionTreeRegressor\n",
        "from dtreeviz.trees import *\n",
        "from IPython.display import Image, display_svg, SVG\n",
        "\n",
        "pd.options.display.max_rows = 20\n",
        "pd.options.display.max_columns = 8\n",
        "auth.authenticate_user()\n"
      ]
    },
    {
      "cell_type": "code",
      "source": [
        "#filename = \"train-data_all-train-events.zip\"\n",
        "#filename = \"train-data-2022062020220626.zip\"\n",
        "\n",
        "#events-20-min includes reports for all trains in the a 2 week window reporting at most every 20 minutes \n",
        "#filename = \"train-events-20-min.zip\"\n",
        "\n",
        "#Train reportings 15 minutes apart - everything we have collected\n",
        "filename = \"train-data-master-2.zip\"\n",
        "\n",
        "# miles answers the question \"what spped will this train be moving in X miles (technically at milepost +/-X)\"\n",
        "#measurement = { 'unit' : 'miles', 'size' : 1.0 }\n",
        "\n",
        "# minutes answers the question : what speed will this train be moving in X Minutes\n",
        "#measurement = { 'unit' : 'minutes', 'size' : 90.0 }\n",
        "\n",
        "#dep_var = 'nextSpeed'\n",
        "\n",
        "# milepost answers the question \"What milepost will this train be at in X Minutes\"\n",
        "measurement = { 'unit' : 'milepost', 'size' : 30.0 }\n",
        "dep_var = 'nextValue'\n",
        "\n",
        "#Determines the portion of data to train versus validate\n",
        "dataCutpoint = .80"
      ],
      "metadata": {
        "id": "M3W7KKZc8f92"
      },
      "execution_count": 2,
      "outputs": []
    },
    {
      "cell_type": "code",
      "source": [
        "!gsutil cp gs://trains_data/$filename /tmp/."
      ],
      "metadata": {
        "id": "srQJL7OKVRww",
        "colab": {
          "base_uri": "https://localhost:8080/"
        },
        "outputId": "7f65e362-b75f-4c25-f3de-d6b6371d3e3b"
      },
      "execution_count": 3,
      "outputs": [
        {
          "output_type": "stream",
          "name": "stdout",
          "text": [
            "Copying gs://trains_data/train-data-master-2.zip...\n",
            "| [1 files][342.4 MiB/342.4 MiB]                                                \n",
            "Operation completed over 1 objects/342.4 MiB.                                    \n"
          ]
        }
      ]
    },
    {
      "cell_type": "code",
      "execution_count": 4,
      "metadata": {
        "id": "ckXLQ7eQ7E0c",
        "colab": {
          "base_uri": "https://localhost:8080/"
        },
        "outputId": "ec1ef6c3-c5de-4701-fd43-98538fabc1be"
      },
      "outputs": [
        {
          "output_type": "stream",
          "name": "stdout",
          "text": [
            "1000   22:24:15\n",
            "2000   22:24:24\n",
            "3000   22:24:35\n",
            "4000   22:24:39\n",
            "5000   22:24:45\n",
            "6000   22:24:50\n",
            "7000   22:24:55\n",
            "8000   22:24:59\n",
            "9000   22:25:04\n",
            "10000   22:25:09\n",
            "11000   22:25:14\n",
            "12000   22:25:20\n",
            "13000   22:25:23\n",
            "14000   22:25:29\n",
            "15000   22:25:34\n",
            "16000   22:25:38\n",
            "17000   22:25:44\n",
            "18000   22:25:48\n",
            "19000   22:25:54\n",
            "20000   22:25:58\n",
            "21000   22:26:05\n",
            "22000   22:26:10\n",
            "23000   22:26:14\n",
            "24000   22:26:20\n",
            "25000   22:26:24\n",
            "26000   22:26:31\n",
            "27000   22:26:35\n",
            "28000   22:26:38\n",
            "29000   22:26:46\n",
            "30000   22:26:49\n",
            "31000   22:26:53\n",
            "32000   22:26:57\n",
            "33000   22:27:04\n",
            "34000   22:27:08\n",
            "35000   22:27:12\n",
            "36000   22:27:15\n",
            "37000   22:27:23\n",
            "38000   22:27:27\n",
            "39000   22:27:31\n",
            "40000   22:27:35\n",
            "41000   22:27:43\n",
            "42000   22:27:47\n",
            "43000   22:27:51\n",
            "44000   22:27:55\n",
            "45000   22:27:59\n",
            "46000   22:28:08\n",
            "47000   22:28:12\n",
            "48000   22:28:16\n",
            "49000   22:28:20\n",
            "50000   22:28:23\n",
            "51000   22:28:33\n",
            "52000   22:28:37\n",
            "53000   22:28:40\n",
            "54000   22:28:44\n",
            "55000   22:28:48\n"
          ]
        }
      ],
      "source": [
        "trains = {}\n",
        "i = 1\n",
        "with zipfile.ZipFile(\"/tmp/\"+filename, \"r\") as f:\n",
        "    for name in f.namelist():\n",
        "        if name.endswith('.json'):\n",
        "            with f.open(name) as zd:\n",
        "                data = json.load(zd)\n",
        "                lastTrainReporting = data['lastTrainReporting']\n",
        "                currentLoco = lastTrainReporting['ptcLeadLocomotiveId']\n",
        "                if (\"trainActualPositionList\" in lastTrainReporting and len(lastTrainReporting['trainActualPositionList']) > 0): \n",
        "                    trains[i] = pd.json_normalize(lastTrainReporting)\n",
        "                    i = i + 1\n",
        "                    if (i % 1000 == 0):\n",
        "                      print(i, \" \", datetime.now().strftime(\"%H:%M:%S\"))\n",
        "                            "
      ]
    },
    {
      "cell_type": "code",
      "execution_count": 5,
      "metadata": {
        "id": "lgWV768N7E0d"
      },
      "outputs": [],
      "source": [
        "dfTrainsAll = pd.concat(trains.values())"
      ]
    },
    {
      "cell_type": "code",
      "source": [
        "del trains"
      ],
      "metadata": {
        "id": "Q581UU9nCWZ1"
      },
      "execution_count": 6,
      "outputs": []
    },
    {
      "cell_type": "code",
      "source": [
        "dfTrainsAll[\"milepost\"] = dfTrainsAll.apply(lambda row: math.trunc(row['lastReportedPosition.milepostLocation.milepost.milepostNumber']), axis=1)"
      ],
      "metadata": {
        "id": "l_CdLQUE8i18"
      },
      "execution_count": 7,
      "outputs": []
    },
    {
      "cell_type": "markdown",
      "source": [
        "Filter out MP outside of Boone"
      ],
      "metadata": {
        "id": "_AbzR6hBI5hX"
      }
    },
    {
      "cell_type": "code",
      "source": [
        "dfTrainsAll = dfTrainsAll[dfTrainsAll['milepost'] < 327]\n",
        "dfTrainsAll = dfTrainsAll[dfTrainsAll['milepost'] > 201]\n"
      ],
      "metadata": {
        "id": "7gsCOmhV8lql"
      },
      "execution_count": 8,
      "outputs": []
    },
    {
      "cell_type": "code",
      "execution_count": 9,
      "metadata": {
        "id": "Idznxze77E0e",
        "colab": {
          "base_uri": "https://localhost:8080/"
        },
        "outputId": "0c84be70-d09e-4d64-f45d-30a1a33b807e"
      },
      "outputs": [
        {
          "output_type": "stream",
          "name": "stdout",
          "text": [
            "<class 'pandas.core.frame.DataFrame'>\n",
            "Int64Index: 45739 entries, 0 to 0\n",
            "Data columns (total 37 columns):\n",
            " #   Column                                                         Non-Null Count  Dtype  \n",
            "---  ------                                                         --------------  -----  \n",
            " 0   ptcLeadLocomotiveId                                            45739 non-null  object \n",
            " 1   positionHistoryList                                            45739 non-null  object \n",
            " 2   locomotiveList                                                 45739 non-null  object \n",
            " 3   subdivisionList                                                45739 non-null  object \n",
            " 4   trainEstimatedPositionList                                     45739 non-null  object \n",
            " 5   trainActualPositionList                                        45739 non-null  object \n",
            " 6   trainId.trainSCAC                                              45691 non-null  object \n",
            " 7   trainId.trainSection                                           45739 non-null  object \n",
            " 8   trainId.trainSymbol                                            45739 non-null  object \n",
            " 9   trainId.trainDate                                              45739 non-null  object \n",
            " 10  lastReportedPosition.positionTime                              45739 non-null  object \n",
            " 11  lastReportedPosition.speedMPH                                  45739 non-null  int64  \n",
            " 12  lastReportedPosition.milepostLocation.subdivisionId            45739 non-null  int64  \n",
            " 13  lastReportedPosition.milepostLocation.trackName                45739 non-null  object \n",
            " 14  lastReportedPosition.milepostLocation.milepost.milepostNumber  45739 non-null  float64\n",
            " 15  aotuTrainData.priorityCode                                     45718 non-null  float64\n",
            " 16  aotuTrainData.categoryCode                                     45718 non-null  float64\n",
            " 17  aotuTrainData.authorityRangeCode                               45718 non-null  float64\n",
            " 18  aotuTrainData.ownershipCode                                    45718 non-null  float64\n",
            " 19  aotuTrainData.tenantCarrier                                    45718 non-null  object \n",
            " 20  aotuTrainData.totalCarWeight                                   45718 non-null  float64\n",
            " 21  aotuTrainData.totalCarLength                                   45718 non-null  float64\n",
            " 22  aotuTrainData.totalLocomotiveWeight                            45718 non-null  float64\n",
            " 23  aotuTrainData.totalLocomotiveLength                            45718 non-null  float64\n",
            " 24  aotuTrainData.actualTonsPerAxle                                45718 non-null  float64\n",
            " 25  aotuTrainData.heavy143TonCarCount                              45718 non-null  float64\n",
            " 26  aotuTrainData.heavy158TonCarCount                              45718 non-null  float64\n",
            " 27  aotuTrainData.over158TonCarCount                               45718 non-null  float64\n",
            " 28  aotuTrainData.highWideCarCount                                 45718 non-null  float64\n",
            " 29  aotuTrainData.eventCode                                        45718 non-null  float64\n",
            " 30  aotuTrainData.routeLocationList                                45718 non-null  object \n",
            " 31  maximumTrainSpeed                                              45417 non-null  float64\n",
            " 32  loadedCarCount                                                 45417 non-null  float64\n",
            " 33  emptyCarCount                                                  45417 non-null  float64\n",
            " 34  trainLength                                                    45417 non-null  float64\n",
            " 35  trailingTonnage                                                45417 non-null  float64\n",
            " 36  milepost                                                       45739 non-null  int64  \n",
            "dtypes: float64(20), int64(3), object(14)\n",
            "memory usage: 13.3+ MB\n",
            "None\n",
            "(45739, 37)\n"
          ]
        }
      ],
      "source": [
        "print(dfTrainsAll.info())\n",
        "print(dfTrainsAll.shape)"
      ]
    },
    {
      "cell_type": "markdown",
      "source": [
        "# Create a learning set to modify"
      ],
      "metadata": {
        "id": "D2hF44lYkNIf"
      }
    },
    {
      "cell_type": "code",
      "source": [
        "dfTrainsLearn = dfTrainsAll"
      ],
      "metadata": {
        "id": "it2dDKRfbk0_"
      },
      "execution_count": 10,
      "outputs": []
    },
    {
      "cell_type": "markdown",
      "source": [
        "Clear the nan values and replace with max values."
      ],
      "metadata": {
        "id": "d5b2nVAbkR7M"
      }
    },
    {
      "cell_type": "code",
      "source": [
        "dfTrainsLearn['loadedCarCount'] =  dfTrainsLearn['loadedCarCount'].replace(np.nan, 999.)\n",
        "dfTrainsLearn['emptyCarCount'] =  dfTrainsLearn['emptyCarCount'].replace(np.nan, 999.)\n",
        "dfTrainsLearn['trainLength'] =  dfTrainsLearn['trainLength'].replace(np.nan, 99999.)\n",
        "dfTrainsLearn['trailingTonnage'] =  dfTrainsLearn['trailingTonnage'].replace(np.nan, 99999.)"
      ],
      "metadata": {
        "id": "jTMp9nMBZav1"
      },
      "execution_count": 11,
      "outputs": []
    },
    {
      "cell_type": "markdown",
      "source": [
        "Determine if the train is moving milepost Increasing or decreasing."
      ],
      "metadata": {
        "id": "2yxcbslMj-uZ"
      }
    },
    {
      "cell_type": "code",
      "source": [
        "dfTrainsLearn['mpIncr'] = dfTrainsLearn.apply(lambda row: row['lastReportedPosition.speedMPH'] >= 0, axis=1)"
      ],
      "metadata": {
        "id": "-XDkAezxjVGH"
      },
      "execution_count": 12,
      "outputs": []
    },
    {
      "cell_type": "markdown",
      "source": [
        "Make all speeds positive"
      ],
      "metadata": {
        "id": "_Nge0iAIkFTV"
      }
    },
    {
      "cell_type": "code",
      "source": [
        "dfTrainsLearn['lastReportedPosition.speedMPH']  = dfTrainsLearn.apply(lambda row: abs(row['lastReportedPosition.speedMPH']), axis=1)\n",
        "dfTrainsLearn['maximumTrainSpeed']  = dfTrainsLearn.apply(lambda row: abs(row['maximumTrainSpeed']), axis=1)"
      ],
      "metadata": {
        "id": "TjMlCKaoxbMw"
      },
      "execution_count": 13,
      "outputs": []
    },
    {
      "cell_type": "code",
      "source": [
        "print(\"Speed Distribution:\")\n",
        "dfTrainsLearn['lastReportedPosition.speedMPH'].hist(bins=90)"
      ],
      "metadata": {
        "id": "KWQaxYZ3yC1f",
        "colab": {
          "base_uri": "https://localhost:8080/",
          "height": 302
        },
        "outputId": "9b2244ba-28f4-4407-9edb-89cb2a2d9292"
      },
      "execution_count": 14,
      "outputs": [
        {
          "output_type": "stream",
          "name": "stdout",
          "text": [
            "Speed Distribution:\n"
          ]
        },
        {
          "output_type": "execute_result",
          "data": {
            "text/plain": [
              "<matplotlib.axes._subplots.AxesSubplot at 0x7f124b0afc90>"
            ]
          },
          "metadata": {},
          "execution_count": 14
        },
        {
          "output_type": "display_data",
          "data": {
            "text/plain": [
              "<Figure size 432x288 with 1 Axes>"
            ],
            "image/png": "[encoded data removed]"
          },
          "metadata": {
            "needs_background": "light"
          }
        }
      ]
    },
    {
      "cell_type": "markdown",
      "source": [
        "Replace the NaN values in AOTU with zeros"
      ],
      "metadata": {
        "id": "hQ65ocjckk-s"
      }
    },
    {
      "cell_type": "code",
      "source": [
        "aotuColumns = [item for item in dfTrainsLearn.columns if item.startswith('aotu')]\n",
        "for column in aotuColumns:\n",
        "  dfTrainsLearn[column] =  dfTrainsLearn[column].replace(np.nan, 0.)"
      ],
      "metadata": {
        "id": "IjhK53fef5eG"
      },
      "execution_count": 15,
      "outputs": []
    },
    {
      "cell_type": "markdown",
      "source": [
        "Categorize the applicable variables"
      ],
      "metadata": {
        "id": "Skh2x30Ao2aj"
      }
    },
    {
      "cell_type": "code",
      "source": [
        "def categorize(aDataFrame, columnName, defaultReplacement):\n",
        "  aDataFrame[columnName] = aDataFrame[columnName].fillna(value=defaultReplacement)\n",
        "  categories = aDataFrame[columnName].unique()\n",
        "  print(aDataFrame[columnName].unique())\n",
        "  aDataFrame[columnName] = aDataFrame[columnName].astype('category')\n",
        "  aDataFrame[columnName] = aDataFrame[columnName].cat.set_categories(categories)\n",
        "  return aDataFrame"
      ],
      "metadata": {
        "id": "FPO5BUrpVl5t"
      },
      "execution_count": 16,
      "outputs": []
    },
    {
      "cell_type": "code",
      "source": [
        "dfTrainsLearn['symbolType'] = dfTrainsLearn.apply(lambda row: row['trainId.trainSymbol'][:1], axis=1)\n",
        "dfTrainsLearn = categorize(dfTrainsLearn, 'symbolType', \"X\")\n",
        "dfTrainsLearn = categorize(dfTrainsLearn, 'lastReportedPosition.milepostLocation.trackName', \"UNKNOWN\")\n",
        "dfTrainsLearn = categorize(dfTrainsLearn, 'trainId.trainSCAC',\"UNK\")\n",
        "dfTrainsLearn = categorize(dfTrainsLearn, 'trainId.trainSection', ' ')\n",
        "dfTrainsLearn = categorize(dfTrainsLearn, 'aotuTrainData.priorityCode', 0)  # may want to order these\n",
        "dfTrainsLearn = categorize(dfTrainsLearn, 'aotuTrainData.categoryCode', 0)\n",
        "dfTrainsLearn = categorize(dfTrainsLearn, 'aotuTrainData.authorityRangeCode', 0)\n",
        "dfTrainsLearn = categorize(dfTrainsLearn, 'aotuTrainData.ownershipCode', 0)\n",
        "dfTrainsLearn = categorize(dfTrainsLearn, 'aotuTrainData.tenantCarrier', \"0\")\n",
        "dfTrainsLearn = categorize(dfTrainsLearn, 'aotuTrainData.eventCode', 0)\n",
        " "
      ],
      "metadata": {
        "colab": {
          "base_uri": "https://localhost:8080/"
        },
        "id": "CKDKREgdNRGT",
        "outputId": "0f63e6fe-2c21-4b5a-bc36-d66b7e2125bf"
      },
      "execution_count": 17,
      "outputs": [
        {
          "output_type": "stream",
          "name": "stdout",
          "text": [
            "['M' 'U' 'E' 'G' 'C' 'A' 'I' 'W' 'Z' 'S' 'L' 'P']\n",
            "['MT 1' 'MT 2' 'EASTXO' 'N SIDING' 'WESTXO' 'YD LD' '136' 'XO' '806' '405' '113']\n",
            "['UP' 'UNK']\n",
            "['' '2']\n",
            "[4. 1. 3. 0.]\n",
            "[12.  8. 15.  4.  2. 10. 19. 17. 11. 14.  0.]\n",
            "[2. 1. 0.]\n",
            "[2. 3. 0.]\n",
            "['' 0.0]\n",
            "[0.]\n"
          ]
        }
      ]
    },
    {
      "cell_type": "markdown",
      "source": [
        "Replace unknown max speeds with 88 miles per hour (to make them recognizable)"
      ],
      "metadata": {
        "id": "5fP9phXQlAXf"
      }
    },
    {
      "cell_type": "code",
      "source": [
        "dfTrainsLearn['maximumTrainSpeed'] =  dfTrainsLearn['maximumTrainSpeed'].replace(np.nan, 88.)\n",
        "print(dfTrainsLearn['maximumTrainSpeed'].unique())"
      ],
      "metadata": {
        "id": "ZTAgIeMJeHmz",
        "colab": {
          "base_uri": "https://localhost:8080/"
        },
        "outputId": "901e8516-5ca5-48de-839f-982e4cf4a303"
      },
      "execution_count": 18,
      "outputs": [
        {
          "output_type": "stream",
          "name": "stdout",
          "text": [
            "[60. 70. 50. 40. 88. 45. 79.  0. 30.]\n"
          ]
        }
      ]
    },
    {
      "cell_type": "markdown",
      "source": [
        "Flatten out the work locations (we may want to change this for the NN algorithm)"
      ],
      "metadata": {
        "id": "Dv-loghjlK_w"
      }
    },
    {
      "cell_type": "code",
      "source": [
        "def getWorkLocations(dfTrainsLocation):\n",
        "  if isinstance(dfTrainsLocation['aotuTrainData.routeLocationList'], float):\n",
        "    return None\n",
        "  if len(dfTrainsLocation['aotuTrainData.routeLocationList']) == 0:\n",
        "    return None\n",
        "  aotuRoute=pd.json_normalize(dfTrainsLocation['aotuTrainData.routeLocationList']) \n",
        "  eventLocations = aotuRoute[aotuRoute['activityList'].map(len) > 1]\n",
        "  temp = eventLocations['milepost.milepostNumber'].unique()\n",
        "  if len(temp) == 0:\n",
        "    return None\n",
        "  return ','.join(['%.2f' % num for num in temp])"
      ],
      "metadata": {
        "id": "TsYgT41SKyAn"
      },
      "execution_count": 19,
      "outputs": []
    },
    {
      "cell_type": "code",
      "source": [
        "dfTrainsLearn['workLocations'] = dfTrainsLearn.apply(lambda row: getWorkLocations(row), axis=1)"
      ],
      "metadata": {
        "id": "5sNuNU-iSgFy"
      },
      "execution_count": 20,
      "outputs": []
    },
    {
      "cell_type": "code",
      "source": [
        "dfTrainsLearn['workLocations'].unique()"
      ],
      "metadata": {
        "id": "jA6cNsHR8VSr",
        "colab": {
          "base_uri": "https://localhost:8080/"
        },
        "outputId": "62058ebc-7694-4da2-a23a-33a55d10b816"
      },
      "execution_count": 21,
      "outputs": [
        {
          "output_type": "execute_result",
          "data": {
            "text/plain": [
              "array(['202.20', '258.40,202.20', None, '225.10', '202.20,258.40,321.50', '314.52,202.20', '321.50,202.20', '231.80,225.10', '214.50', '225.10,202.20', '202.20,258.40', '202.20,219.70',\n",
              "       '219.70,202.20', '202.20,214.50,225.10,290.80,304.10', '202.20,258.40,225.10', '202.20,219.90,225.10', '202.20,257.60', '250.50,202.20', '268.40,202.20', '258.40,207.60,202.20',\n",
              "       '207.60,202.20', '241.00,202.20', '258.40,219.70,202.20', '202.20,314.52', '202.92,202.20', '214.50,225.10,290.80,304.10,202.20', '290.80,258.40,231.80,202.20', '202.20,290.80',\n",
              "       '202.20,299.75', '314.52,225.10,202.20', '202.20,219.70,277.50', '202.20,293.10', '202.20,304.10', '321.50,314.52,202.20', '202.20,240.90', '202.20,265.30', '265.30,202.20', '202.20,286.40',\n",
              "       '240.90,207.60,202.20', '250.50,245.90,202.20', '219.70', '202.20,312.80', '321.50,240.90,202.20', '240.90,202.20', '202.20,207.60', '202.20,225.10', '326.20,214.50', '214.50,202.20',\n",
              "       '240.90,214.50,202.20', '278.10,258.40,202.20', '202.20,258.40,314.52', '258.40,250.50,202.20', '214.50,225.10,290.80,304.10', '202.20,262.60', '202.20,268.40', '258.40,216.70,202.20',\n",
              "       '202.20,258.40,304.10,321.50', '299.75,202.20', '321.50,225.10,202.20', '314.52,265.30,225.10,202.20', '250.50,219.70,202.20', '202.20,219.70,258.40,321.50', '202.20,321.50', '240.90,225.10',\n",
              "       '286.40,258.40,202.20', '286.40,258.40,207.60,202.20', '257.60,202.20', '202.20,250.50,265.30', '271.50,202.20', '240.90,219.90,202.20', '202.20,219.70,258.40', '216.70,202.20',\n",
              "       '321.50,207.60,202.20', '202.20,250.50', '321.50,250.50,245.90,202.20', '202.20,258.40,321.50,265.30', '202.20,258.40,265.30,321.50', '202.20,258.40,265.30,312.80,321.50',\n",
              "       '202.20,240.90,314.52', '202.20,202.92', '202.20,326.20', '258.40,225.10,202.20', '250.50,231.80,202.20', '250.50,245.90,231.80,202.20', '202.20,258.40,321.50,312.80',\n",
              "       '202.20,258.40,312.80,321.50', '202.20,219.70,219.90', '202.20,231.80', '290.80', '202.20,258.40,318.90,321.50', '202.20,219.70,250.50,258.40,321.50', '225.10,202.92,202.20',\n",
              "       '321.50,219.70,202.20', '241.00,240.90,202.20', '241.00,240.90,219.70,202.20', '258.40,214.50,202.20', '202.20,245.90,258.40,321.50', '202.20,278.10', '202.20,231.80,258.40,321.50',\n",
              "       '245.90,202.20', '202.20,295.50', '258.40,240.90,225.10,202.20', '214.50,207.60,202.20', '202.20,225.10,258.40,321.50', '240.90,225.10,202.20', '202.20,225.10,262.60'], dtype=object)"
            ]
          },
          "metadata": {},
          "execution_count": 21
        }
      ]
    },
    {
      "cell_type": "markdown",
      "source": [
        "determine the locomotive count from the locomotive list.  We can make this more clever later, but for now this seems the most sensible shortcut"
      ],
      "metadata": {
        "id": "-AZiJPI24QO9"
      }
    },
    {
      "cell_type": "code",
      "source": [
        "dfTrainsLearn['locomotiveCount'] = dfTrainsLearn.apply(lambda row: len(row['locomotiveList']),axis = 1)"
      ],
      "metadata": {
        "id": "LuG8-GNBzwrF"
      },
      "execution_count": 22,
      "outputs": []
    },
    {
      "cell_type": "markdown",
      "source": [
        "Convert the list of actual reportings into a dataframe."
      ],
      "metadata": {
        "id": "Hbv-6WLkrqO2"
      }
    },
    {
      "cell_type": "code",
      "source": [
        "dfTrainsLearnActuals = dfTrainsLearn.apply(lambda row: pd.json_normalize(row['trainActualPositionList']), axis=1)"
      ],
      "metadata": {
        "id": "Ag-KbEfz4Is8"
      },
      "execution_count": 23,
      "outputs": []
    },
    {
      "cell_type": "code",
      "source": [
        ""
      ],
      "metadata": {
        "id": "S2wakhxi7Uso"
      },
      "execution_count": 23,
      "outputs": []
    },
    {
      "cell_type": "code",
      "source": [
        "def showTrain(idx):\n",
        "  print(dfTrainsLearn.iloc[idx]['ptcLeadLocomotiveId'])\n",
        "  print(dfTrainsLearn.iloc[idx]['trainId.trainSymbol'])\n",
        "  print(dfTrainsLearn.iloc[idx]['lastReportedPosition.milepostLocation.subdivisionId'])\n",
        "  print(dfTrainsLearn.iloc[idx]['lastReportedPosition.milepostLocation.trackName'])\n",
        "  print(dfTrainsLearn.iloc[idx]['lastReportedPosition.milepostLocation.milepost.milepostNumber'])"
      ],
      "metadata": {
        "id": "ZuIVv8dvnIpG"
      },
      "execution_count": 24,
      "outputs": []
    },
    {
      "cell_type": "markdown",
      "source": [
        "You can peer into the incoming data here:"
      ],
      "metadata": {
        "id": "VLFBdKgPll2j"
      }
    },
    {
      "cell_type": "code",
      "source": [
        "idx = 1\n",
        "showTrain(idx)\n",
        "dfTrainsLearnActuals.iloc[idx]"
      ],
      "metadata": {
        "id": "r_gdrmU4IgpY",
        "colab": {
          "base_uri": "https://localhost:8080/",
          "height": 515
        },
        "outputId": "8ba1ebc3-018a-44af-ee1d-357aefc280ba"
      },
      "execution_count": 25,
      "outputs": [
        {
          "output_type": "stream",
          "name": "stdout",
          "text": [
            "NS1007\n",
            "MGBNP\n",
            "106\n",
            "MT 1\n",
            "209.8707\n"
          ]
        },
        {
          "output_type": "execute_result",
          "data": {
            "text/plain": [
              "            positionTime  speedMPH  milepostLocation.subdivisionId  \\\n",
              "0   2022-06-09T19:40:07Z         0                             106   \n",
              "1   2022-06-09T19:42:07Z         0                             106   \n",
              "2   2022-06-09T19:44:07Z         5                             106   \n",
              "3   2022-06-09T19:46:07Z        11                             106   \n",
              "4   2022-06-09T19:48:07Z        17                             106   \n",
              "..                   ...       ...                             ...   \n",
              "52  2022-06-09T21:26:07Z        35                             106   \n",
              "53  2022-06-09T21:28:07Z        42                             106   \n",
              "54  2022-06-09T21:30:07Z        49                             106   \n",
              "55  2022-06-09T21:34:07Z        62                             106   \n",
              "56  2022-06-09T21:36:07Z        65                             106   \n",
              "\n",
              "   milepostLocation.trackName  milepostLocation.milepost.milepostNumber  \n",
              "0                        MT 1                                 209.87070  \n",
              "1                        MT 1                                 209.87070  \n",
              "2                        MT 1                                 210.15358  \n",
              "3                        MT 1                                 210.46217  \n",
              "4                        MT 1                                 210.88560  \n",
              "..                        ...                                       ...  \n",
              "52                       MT 1                                 281.16560  \n",
              "53                       MT 1                                 282.40717  \n",
              "54                       MT 1                                 283.95746  \n",
              "55                       MT 1                                 287.82657  \n",
              "56                       MT 1                                 289.98170  \n",
              "\n",
              "[57 rows x 5 columns]"
            ],
            "text/html": [
              "\n",
              "  <div id=\"df-b63440f8-8831-4569-a17a-435c24459546\">\n",
              "    <div class=\"colab-df-container\">\n",
              "      <div>\n",
              "<style scoped>\n",
              "    .dataframe tbody tr th:only-of-type {\n",
              "        vertical-align: middle;\n",
              "    }\n",
              "\n",
              "    .dataframe tbody tr th {\n",
              "        vertical-align: top;\n",
              "    }\n",
              "\n",
              "    .dataframe thead th {\n",
              "        text-align: right;\n",
              "    }\n",
              "</style>\n",
              "<table border=\"1\" class=\"dataframe\">\n",
              "  <thead>\n",
              "    <tr style=\"text-align: right;\">\n",
              "      <th></th>\n",
              "      <th>positionTime</th>\n",
              "      <th>speedMPH</th>\n",
              "      <th>milepostLocation.subdivisionId</th>\n",
              "      <th>milepostLocation.trackName</th>\n",
              "      <th>milepostLocation.milepost.milepostNumber</th>\n",
              "    </tr>\n",
              "  </thead>\n",
              "  <tbody>\n",
              "    <tr>\n",
              "      <th>0</th>\n",
              "      <td>2022-06-09T19:40:07Z</td>\n",
              "      <td>0</td>\n",
              "      <td>106</td>\n",
              "      <td>MT 1</td>\n",
              "      <td>209.87070</td>\n",
              "    </tr>\n",
              "    <tr>\n",
              "      <th>1</th>\n",
              "      <td>2022-06-09T19:42:07Z</td>\n",
              "      <td>0</td>\n",
              "      <td>106</td>\n",
              "      <td>MT 1</td>\n",
              "      <td>209.87070</td>\n",
              "    </tr>\n",
              "    <tr>\n",
              "      <th>2</th>\n",
              "      <td>2022-06-09T19:44:07Z</td>\n",
              "      <td>5</td>\n",
              "      <td>106</td>\n",
              "      <td>MT 1</td>\n",
              "      <td>210.15358</td>\n",
              "    </tr>\n",
              "    <tr>\n",
              "      <th>3</th>\n",
              "      <td>2022-06-09T19:46:07Z</td>\n",
              "      <td>11</td>\n",
              "      <td>106</td>\n",
              "      <td>MT 1</td>\n",
              "      <td>210.46217</td>\n",
              "    </tr>\n",
              "    <tr>\n",
              "      <th>4</th>\n",
              "      <td>2022-06-09T19:48:07Z</td>\n",
              "      <td>17</td>\n",
              "      <td>106</td>\n",
              "      <td>MT 1</td>\n",
              "      <td>210.88560</td>\n",
              "    </tr>\n",
              "    <tr>\n",
              "      <th>...</th>\n",
              "      <td>...</td>\n",
              "      <td>...</td>\n",
              "      <td>...</td>\n",
              "      <td>...</td>\n",
              "      <td>...</td>\n",
              "    </tr>\n",
              "    <tr>\n",
              "      <th>52</th>\n",
              "      <td>2022-06-09T21:26:07Z</td>\n",
              "      <td>35</td>\n",
              "      <td>106</td>\n",
              "      <td>MT 1</td>\n",
              "      <td>281.16560</td>\n",
              "    </tr>\n",
              "    <tr>\n",
              "      <th>53</th>\n",
              "      <td>2022-06-09T21:28:07Z</td>\n",
              "      <td>42</td>\n",
              "      <td>106</td>\n",
              "      <td>MT 1</td>\n",
              "      <td>282.40717</td>\n",
              "    </tr>\n",
              "    <tr>\n",
              "      <th>54</th>\n",
              "      <td>2022-06-09T21:30:07Z</td>\n",
              "      <td>49</td>\n",
              "      <td>106</td>\n",
              "      <td>MT 1</td>\n",
              "      <td>283.95746</td>\n",
              "    </tr>\n",
              "    <tr>\n",
              "      <th>55</th>\n",
              "      <td>2022-06-09T21:34:07Z</td>\n",
              "      <td>62</td>\n",
              "      <td>106</td>\n",
              "      <td>MT 1</td>\n",
              "      <td>287.82657</td>\n",
              "    </tr>\n",
              "    <tr>\n",
              "      <th>56</th>\n",
              "      <td>2022-06-09T21:36:07Z</td>\n",
              "      <td>65</td>\n",
              "      <td>106</td>\n",
              "      <td>MT 1</td>\n",
              "      <td>289.98170</td>\n",
              "    </tr>\n",
              "  </tbody>\n",
              "</table>\n",
              "<p>57 rows × 5 columns</p>\n",
              "</div>\n",
              "      <button class=\"colab-df-convert\" onclick=\"convertToInteractive('df-b63440f8-8831-4569-a17a-435c24459546')\"\n",
              "              title=\"Convert this dataframe to an interactive table.\"\n",
              "              style=\"display:none;\">\n",
              "        \n",
              "  <svg xmlns=\"http://www.w3.org/2000/svg\" height=\"24px\"viewBox=\"0 0 24 24\"\n",
              "       width=\"24px\">\n",
              "    <path d=\"M0 0h24v24H0V0z\" fill=\"none\"/>\n",
              "    <path d=\"M18.56 5.44l.94 2.06.94-2.06 2.06-.94-2.06-.94-.94-2.06-.94 2.06-2.06.94zm-11 1L8.5 8.5l.94-2.06 2.06-.94-2.06-.94L8.5 2.5l-.94 2.06-2.06.94zm10 10l.94 2.06.94-2.06 2.06-.94-2.06-.94-.94-2.06-.94 2.06-2.06.94z\"/><path d=\"M17.41 7.96l-1.37-1.37c-.4-.4-.92-.59-1.43-.59-.52 0-1.04.2-1.43.59L10.3 9.45l-7.72 7.72c-.78.78-.78 2.05 0 2.83L4 21.41c.39.39.9.59 1.41.59.51 0 1.02-.2 1.41-.59l7.78-7.78 2.81-2.81c.8-.78.8-2.07 0-2.86zM5.41 20L4 18.59l7.72-7.72 1.47 1.35L5.41 20z\"/>\n",
              "  </svg>\n",
              "      </button>\n",
              "      \n",
              "  <style>\n",
              "    .colab-df-container {\n",
              "      display:flex;\n",
              "      flex-wrap:wrap;\n",
              "      gap: 12px;\n",
              "    }\n",
              "\n",
              "    .colab-df-convert {\n",
              "      background-color: #E8F0FE;\n",
              "      border: none;\n",
              "      border-radius: 50%;\n",
              "      cursor: pointer;\n",
              "      display: none;\n",
              "      fill: #1967D2;\n",
              "      height: 32px;\n",
              "      padding: 0 0 0 0;\n",
              "      width: 32px;\n",
              "    }\n",
              "\n",
              "    .colab-df-convert:hover {\n",
              "      background-color: #E2EBFA;\n",
              "      box-shadow: 0px 1px 2px rgba(60, 64, 67, 0.3), 0px 1px 3px 1px rgba(60, 64, 67, 0.15);\n",
              "      fill: #174EA6;\n",
              "    }\n",
              "\n",
              "    [theme=dark] .colab-df-convert {\n",
              "      background-color: #3B4455;\n",
              "      fill: #D2E3FC;\n",
              "    }\n",
              "\n",
              "    [theme=dark] .colab-df-convert:hover {\n",
              "      background-color: #434B5C;\n",
              "      box-shadow: 0px 1px 3px 1px rgba(0, 0, 0, 0.15);\n",
              "      filter: drop-shadow(0px 1px 2px rgba(0, 0, 0, 0.3));\n",
              "      fill: #FFFFFF;\n",
              "    }\n",
              "  </style>\n",
              "\n",
              "      <script>\n",
              "        const buttonEl =\n",
              "          document.querySelector('#df-b63440f8-8831-4569-a17a-435c24459546 button.colab-df-convert');\n",
              "        buttonEl.style.display =\n",
              "          google.colab.kernel.accessAllowed ? 'block' : 'none';\n",
              "\n",
              "        async function convertToInteractive(key) {\n",
              "          const element = document.querySelector('#df-b63440f8-8831-4569-a17a-435c24459546');\n",
              "          const dataTable =\n",
              "            await google.colab.kernel.invokeFunction('convertToInteractive',\n",
              "                                                     [key], {});\n",
              "          if (!dataTable) return;\n",
              "\n",
              "          const docLinkHtml = 'Like what you see? Visit the ' +\n",
              "            '<a target=\"_blank\" href=https://colab.research.google.com/notebooks/data_table.ipynb>data table notebook</a>'\n",
              "            + ' to learn more about interactive tables.';\n",
              "          element.innerHTML = '';\n",
              "          dataTable['output_type'] = 'display_data';\n",
              "          await google.colab.output.renderOutput(dataTable, element);\n",
              "          const docLink = document.createElement('div');\n",
              "          docLink.innerHTML = docLinkHtml;\n",
              "          element.appendChild(docLink);\n",
              "        }\n",
              "      </script>\n",
              "    </div>\n",
              "  </div>\n",
              "  "
            ]
          },
          "metadata": {},
          "execution_count": 25
        }
      ]
    },
    {
      "cell_type": "code",
      "source": [
        "dfTrainsBeop =  dfTrainsLearn[['lastReportedPosition.milepostLocation.milepost.milepostNumber','trainEstimatedPositionList']]\n",
        "dfTrainsBeop"
      ],
      "metadata": {
        "id": "1FsMwzd7xSLZ",
        "colab": {
          "base_uri": "https://localhost:8080/",
          "height": 1000
        },
        "outputId": "d5a58577-f745-40cd-e792-85cb381f7142"
      },
      "execution_count": 26,
      "outputs": [
        {
          "output_type": "execute_result",
          "data": {
            "text/plain": [
              "    lastReportedPosition.milepostLocation.milepost.milepostNumber  \\\n",
              "0                                                        202.2072   \n",
              "0                                                        209.8707   \n",
              "0                                                        216.5130   \n",
              "0                                                        224.2101   \n",
              "0                                                        235.8908   \n",
              "..                                                            ...   \n",
              "0                                                        229.3058   \n",
              "0                                                        217.1557   \n",
              "0                                                        204.3378   \n",
              "0                                                        202.2000   \n",
              "0                                                        202.5427   \n",
              "\n",
              "                                                                                                                                                                                                                                                                                                                                                                                                                                                                                                                                                                                                 trainEstimatedPositionList  \n",
              "0   [{'positionTime': '2022-06-09T19:20:40Z', 'speedMPH': 42, 'milepostLocation': {'subdivisionId': 106, 'trackName': 'MT 1', 'milepost': {'milepostNumber': 202.2072}}}, {'positionTime': '2022-06-09T19:22:40Z', 'speedMPH': 45, 'milepostLocation': {'subdivisionId': 106, 'trackName': 'MT 1', 'milepost': {'milepostNumber': 203.70474}}}, {'positionTime': '2022-06-09T19:24:40Z', 'speedMPH': 49, 'milepostLocation': {'subdivisionId': 106, 'trackName': 'MT 1', 'milepost': {'milepostNumber': 205.29929}}}, {'positionTime': '2022-06-09T19:26:40Z', 'speedMPH': 53, 'milepostLocation': {'subdivisionId': 106...  \n",
              "0                                                                                                                                                                                                                                                                                                                                                                                                                                                                                                                                                                                                                        []  \n",
              "0   [{'positionTime': '2022-06-09T19:54:41Z', 'speedMPH': 26, 'milepostLocation': {'subdivisionId': 106, 'trackName': 'MT 1', 'milepost': {'milepostNumber': 216.513}}}, {'positionTime': '2022-06-09T19:56:41Z', 'speedMPH': 32, 'milepostLocation': {'subdivisionId': 106, 'trackName': 'MT 1', 'milepost': {'milepostNumber': 217.47511}}}, {'positionTime': '2022-06-09T19:58:41Z', 'speedMPH': 38, 'milepostLocation': {'subdivisionId': 106, 'trackName': 'MT 1', 'milepost': {'milepostNumber': 218.65654}}}, {'positionTime': '2022-06-09T20:00:41Z', 'speedMPH': 42, 'milepostLocation': {'subdivisionId': 106,...  \n",
              "0   [{'positionTime': '2022-06-09T20:11:30Z', 'speedMPH': 31, 'milepostLocation': {'subdivisionId': 106, 'trackName': 'MT 1', 'milepost': {'milepostNumber': 224.2101}}}, {'positionTime': '2022-06-09T20:13:30Z', 'speedMPH': 36, 'milepostLocation': {'subdivisionId': 106, 'trackName': 'MT 1', 'milepost': {'milepostNumber': 225.32594}}}, {'positionTime': '2022-06-09T20:15:30Z', 'speedMPH': 41, 'milepostLocation': {'subdivisionId': 106, 'trackName': 'MT 1', 'milepost': {'milepostNumber': 226.61711}}}, {'positionTime': '2022-06-09T20:17:30Z', 'speedMPH': 45, 'milepostLocation': {'subdivisionId': 106...  \n",
              "0   [{'positionTime': '2022-06-09T20:27:41Z', 'speedMPH': 36, 'milepostLocation': {'subdivisionId': 106, 'trackName': 'MT 1', 'milepost': {'milepostNumber': 235.8908}}}, {'positionTime': '2022-06-09T20:29:41Z', 'speedMPH': 40, 'milepostLocation': {'subdivisionId': 106, 'trackName': 'MT 1', 'milepost': {'milepostNumber': 237.54869}}}, {'positionTime': '2022-06-09T20:31:41Z', 'speedMPH': 40, 'milepostLocation': {'subdivisionId': 106, 'trackName': 'MT 1', 'milepost': {'milepostNumber': 238.9238}}}, {'positionTime': '2022-06-09T20:33:41Z', 'speedMPH': 44, 'milepostLocation': {'subdivisionId': 106,...  \n",
              "..                                                                                                                                                                                                                                                                                                                                                                                                                                                                                                                                                                                                                      ...  \n",
              "0   [{'positionTime': '2022-05-31T11:08:37Z', 'speedMPH': -62, 'milepostLocation': {'subdivisionId': 106, 'trackName': 'MT 2', 'milepost': {'milepostNumber': 229.3058}}}, {'positionTime': '2022-05-31T11:10:37Z', 'speedMPH': -68, 'milepostLocation': {'subdivisionId': 106, 'trackName': 'MT 2', 'milepost': {'milepostNumber': 227.14987}}}, {'positionTime': '2022-05-31T11:12:37Z', 'speedMPH': -70, 'milepostLocation': {'subdivisionId': 106, 'trackName': 'MT 2', 'milepost': {'milepostNumber': 224.82933}}}, {'positionTime': '2022-05-31T11:14:37Z', 'speedMPH': -70, 'milepostLocation': {'subdivisionId':...  \n",
              "0   [{'positionTime': '2022-05-31T11:24:36Z', 'speedMPH': -20, 'milepostLocation': {'subdivisionId': 106, 'trackName': 'MT 2', 'milepost': {'milepostNumber': 217.1557}}}, {'positionTime': '2022-05-31T11:26:36Z', 'speedMPH': -36, 'milepostLocation': {'subdivisionId': 106, 'trackName': 'MT 2', 'milepost': {'milepostNumber': 216.23074}}}, {'positionTime': '2022-05-31T11:28:36Z', 'speedMPH': -48, 'milepostLocation': {'subdivisionId': 106, 'trackName': 'MT 2', 'milepost': {'milepostNumber': 214.81465}}}, {'positionTime': '2022-05-31T11:30:36Z', 'speedMPH': -57, 'milepostLocation': {'subdivisionId':...  \n",
              "0   [{'positionTime': '2022-05-31T11:41:31Z', 'speedMPH': -8, 'milepostLocation': {'subdivisionId': 106, 'trackName': 'MT 1', 'milepost': {'milepostNumber': 204.3378}}}, {'positionTime': '2022-05-31T11:43:31Z', 'speedMPH': -31, 'milepostLocation': {'subdivisionId': 106, 'trackName': 'MT 1', 'milepost': {'milepostNumber': 203.68378}}}, {'positionTime': '2022-05-31T11:45:31Z', 'speedMPH': -44, 'milepostLocation': {'subdivisionId': 106, 'trackName': 'MT 1', 'milepost': {'milepostNumber': 202.40404}}}, {'positionTime': '2022-05-31T11:47:31Z', 'speedMPH': -54, 'milepostLocation': {'subdivisionId': ...  \n",
              "0   [{'positionTime': '2022-06-22T23:28:30Z', 'speedMPH': 7, 'milepostLocation': {'subdivisionId': 106, 'trackName': 'MT 2', 'milepost': {'milepostNumber': 202.2}}}, {'positionTime': '2022-06-22T23:30:30Z', 'speedMPH': 24, 'milepostLocation': {'subdivisionId': 106, 'trackName': 'MT 2', 'milepost': {'milepostNumber': 202.7208}}}, {'positionTime': '2022-06-22T23:32:30Z', 'speedMPH': 34, 'milepostLocation': {'subdivisionId': 106, 'trackName': 'MT 2', 'milepost': {'milepostNumber': 203.74574}}}, {'positionTime': '2022-06-22T23:34:30Z', 'speedMPH': 42, 'milepostLocation': {'subdivisionId': 106, 'tr...  \n",
              "0                                                                                                                                                                                                                                                                                                                                                                                                                                                                                                                                                                                                                        []  \n",
              "\n",
              "[45739 rows x 2 columns]"
            ],
            "text/html": [
              "\n",
              "  <div id=\"df-21d9e5c2-643a-42be-98e7-264550a449a9\">\n",
              "    <div class=\"colab-df-container\">\n",
              "      <div>\n",
              "<style scoped>\n",
              "    .dataframe tbody tr th:only-of-type {\n",
              "        vertical-align: middle;\n",
              "    }\n",
              "\n",
              "    .dataframe tbody tr th {\n",
              "        vertical-align: top;\n",
              "    }\n",
              "\n",
              "    .dataframe thead th {\n",
              "        text-align: right;\n",
              "    }\n",
              "</style>\n",
              "<table border=\"1\" class=\"dataframe\">\n",
              "  <thead>\n",
              "    <tr style=\"text-align: right;\">\n",
              "      <th></th>\n",
              "      <th>lastReportedPosition.milepostLocation.milepost.milepostNumber</th>\n",
              "      <th>trainEstimatedPositionList</th>\n",
              "    </tr>\n",
              "  </thead>\n",
              "  <tbody>\n",
              "    <tr>\n",
              "      <th>0</th>\n",
              "      <td>202.2072</td>\n",
              "      <td>[{'positionTime': '2022-06-09T19:20:40Z', 'speedMPH': 42, 'milepostLocation': {'subdivisionId': 106, 'trackName': 'MT 1', 'milepost': {'milepostNumber': 202.2072}}}, {'positionTime': '2022-06-09T19:22:40Z', 'speedMPH': 45, 'milepostLocation': {'subdivisionId': 106, 'trackName': 'MT 1', 'milepost': {'milepostNumber': 203.70474}}}, {'positionTime': '2022-06-09T19:24:40Z', 'speedMPH': 49, 'milepostLocation': {'subdivisionId': 106, 'trackName': 'MT 1', 'milepost': {'milepostNumber': 205.29929}}}, {'positionTime': '2022-06-09T19:26:40Z', 'speedMPH': 53, 'milepostLocation': {'subdivisionId': 106...</td>\n",
              "    </tr>\n",
              "    <tr>\n",
              "      <th>0</th>\n",
              "      <td>209.8707</td>\n",
              "      <td>[]</td>\n",
              "    </tr>\n",
              "    <tr>\n",
              "      <th>0</th>\n",
              "      <td>216.5130</td>\n",
              "      <td>[{'positionTime': '2022-06-09T19:54:41Z', 'speedMPH': 26, 'milepostLocation': {'subdivisionId': 106, 'trackName': 'MT 1', 'milepost': {'milepostNumber': 216.513}}}, {'positionTime': '2022-06-09T19:56:41Z', 'speedMPH': 32, 'milepostLocation': {'subdivisionId': 106, 'trackName': 'MT 1', 'milepost': {'milepostNumber': 217.47511}}}, {'positionTime': '2022-06-09T19:58:41Z', 'speedMPH': 38, 'milepostLocation': {'subdivisionId': 106, 'trackName': 'MT 1', 'milepost': {'milepostNumber': 218.65654}}}, {'positionTime': '2022-06-09T20:00:41Z', 'speedMPH': 42, 'milepostLocation': {'subdivisionId': 106,...</td>\n",
              "    </tr>\n",
              "    <tr>\n",
              "      <th>0</th>\n",
              "      <td>224.2101</td>\n",
              "      <td>[{'positionTime': '2022-06-09T20:11:30Z', 'speedMPH': 31, 'milepostLocation': {'subdivisionId': 106, 'trackName': 'MT 1', 'milepost': {'milepostNumber': 224.2101}}}, {'positionTime': '2022-06-09T20:13:30Z', 'speedMPH': 36, 'milepostLocation': {'subdivisionId': 106, 'trackName': 'MT 1', 'milepost': {'milepostNumber': 225.32594}}}, {'positionTime': '2022-06-09T20:15:30Z', 'speedMPH': 41, 'milepostLocation': {'subdivisionId': 106, 'trackName': 'MT 1', 'milepost': {'milepostNumber': 226.61711}}}, {'positionTime': '2022-06-09T20:17:30Z', 'speedMPH': 45, 'milepostLocation': {'subdivisionId': 106...</td>\n",
              "    </tr>\n",
              "    <tr>\n",
              "      <th>0</th>\n",
              "      <td>235.8908</td>\n",
              "      <td>[{'positionTime': '2022-06-09T20:27:41Z', 'speedMPH': 36, 'milepostLocation': {'subdivisionId': 106, 'trackName': 'MT 1', 'milepost': {'milepostNumber': 235.8908}}}, {'positionTime': '2022-06-09T20:29:41Z', 'speedMPH': 40, 'milepostLocation': {'subdivisionId': 106, 'trackName': 'MT 1', 'milepost': {'milepostNumber': 237.54869}}}, {'positionTime': '2022-06-09T20:31:41Z', 'speedMPH': 40, 'milepostLocation': {'subdivisionId': 106, 'trackName': 'MT 1', 'milepost': {'milepostNumber': 238.9238}}}, {'positionTime': '2022-06-09T20:33:41Z', 'speedMPH': 44, 'milepostLocation': {'subdivisionId': 106,...</td>\n",
              "    </tr>\n",
              "    <tr>\n",
              "      <th>...</th>\n",
              "      <td>...</td>\n",
              "      <td>...</td>\n",
              "    </tr>\n",
              "    <tr>\n",
              "      <th>0</th>\n",
              "      <td>229.3058</td>\n",
              "      <td>[{'positionTime': '2022-05-31T11:08:37Z', 'speedMPH': -62, 'milepostLocation': {'subdivisionId': 106, 'trackName': 'MT 2', 'milepost': {'milepostNumber': 229.3058}}}, {'positionTime': '2022-05-31T11:10:37Z', 'speedMPH': -68, 'milepostLocation': {'subdivisionId': 106, 'trackName': 'MT 2', 'milepost': {'milepostNumber': 227.14987}}}, {'positionTime': '2022-05-31T11:12:37Z', 'speedMPH': -70, 'milepostLocation': {'subdivisionId': 106, 'trackName': 'MT 2', 'milepost': {'milepostNumber': 224.82933}}}, {'positionTime': '2022-05-31T11:14:37Z', 'speedMPH': -70, 'milepostLocation': {'subdivisionId':...</td>\n",
              "    </tr>\n",
              "    <tr>\n",
              "      <th>0</th>\n",
              "      <td>217.1557</td>\n",
              "      <td>[{'positionTime': '2022-05-31T11:24:36Z', 'speedMPH': -20, 'milepostLocation': {'subdivisionId': 106, 'trackName': 'MT 2', 'milepost': {'milepostNumber': 217.1557}}}, {'positionTime': '2022-05-31T11:26:36Z', 'speedMPH': -36, 'milepostLocation': {'subdivisionId': 106, 'trackName': 'MT 2', 'milepost': {'milepostNumber': 216.23074}}}, {'positionTime': '2022-05-31T11:28:36Z', 'speedMPH': -48, 'milepostLocation': {'subdivisionId': 106, 'trackName': 'MT 2', 'milepost': {'milepostNumber': 214.81465}}}, {'positionTime': '2022-05-31T11:30:36Z', 'speedMPH': -57, 'milepostLocation': {'subdivisionId':...</td>\n",
              "    </tr>\n",
              "    <tr>\n",
              "      <th>0</th>\n",
              "      <td>204.3378</td>\n",
              "      <td>[{'positionTime': '2022-05-31T11:41:31Z', 'speedMPH': -8, 'milepostLocation': {'subdivisionId': 106, 'trackName': 'MT 1', 'milepost': {'milepostNumber': 204.3378}}}, {'positionTime': '2022-05-31T11:43:31Z', 'speedMPH': -31, 'milepostLocation': {'subdivisionId': 106, 'trackName': 'MT 1', 'milepost': {'milepostNumber': 203.68378}}}, {'positionTime': '2022-05-31T11:45:31Z', 'speedMPH': -44, 'milepostLocation': {'subdivisionId': 106, 'trackName': 'MT 1', 'milepost': {'milepostNumber': 202.40404}}}, {'positionTime': '2022-05-31T11:47:31Z', 'speedMPH': -54, 'milepostLocation': {'subdivisionId': ...</td>\n",
              "    </tr>\n",
              "    <tr>\n",
              "      <th>0</th>\n",
              "      <td>202.2000</td>\n",
              "      <td>[{'positionTime': '2022-06-22T23:28:30Z', 'speedMPH': 7, 'milepostLocation': {'subdivisionId': 106, 'trackName': 'MT 2', 'milepost': {'milepostNumber': 202.2}}}, {'positionTime': '2022-06-22T23:30:30Z', 'speedMPH': 24, 'milepostLocation': {'subdivisionId': 106, 'trackName': 'MT 2', 'milepost': {'milepostNumber': 202.7208}}}, {'positionTime': '2022-06-22T23:32:30Z', 'speedMPH': 34, 'milepostLocation': {'subdivisionId': 106, 'trackName': 'MT 2', 'milepost': {'milepostNumber': 203.74574}}}, {'positionTime': '2022-06-22T23:34:30Z', 'speedMPH': 42, 'milepostLocation': {'subdivisionId': 106, 'tr...</td>\n",
              "    </tr>\n",
              "    <tr>\n",
              "      <th>0</th>\n",
              "      <td>202.5427</td>\n",
              "      <td>[]</td>\n",
              "    </tr>\n",
              "  </tbody>\n",
              "</table>\n",
              "<p>45739 rows × 2 columns</p>\n",
              "</div>\n",
              "      <button class=\"colab-df-convert\" onclick=\"convertToInteractive('df-21d9e5c2-643a-42be-98e7-264550a449a9')\"\n",
              "              title=\"Convert this dataframe to an interactive table.\"\n",
              "              style=\"display:none;\">\n",
              "        \n",
              "  <svg xmlns=\"http://www.w3.org/2000/svg\" height=\"24px\"viewBox=\"0 0 24 24\"\n",
              "       width=\"24px\">\n",
              "    <path d=\"M0 0h24v24H0V0z\" fill=\"none\"/>\n",
              "    <path d=\"M18.56 5.44l.94 2.06.94-2.06 2.06-.94-2.06-.94-.94-2.06-.94 2.06-2.06.94zm-11 1L8.5 8.5l.94-2.06 2.06-.94-2.06-.94L8.5 2.5l-.94 2.06-2.06.94zm10 10l.94 2.06.94-2.06 2.06-.94-2.06-.94-.94-2.06-.94 2.06-2.06.94z\"/><path d=\"M17.41 7.96l-1.37-1.37c-.4-.4-.92-.59-1.43-.59-.52 0-1.04.2-1.43.59L10.3 9.45l-7.72 7.72c-.78.78-.78 2.05 0 2.83L4 21.41c.39.39.9.59 1.41.59.51 0 1.02-.2 1.41-.59l7.78-7.78 2.81-2.81c.8-.78.8-2.07 0-2.86zM5.41 20L4 18.59l7.72-7.72 1.47 1.35L5.41 20z\"/>\n",
              "  </svg>\n",
              "      </button>\n",
              "      \n",
              "  <style>\n",
              "    .colab-df-container {\n",
              "      display:flex;\n",
              "      flex-wrap:wrap;\n",
              "      gap: 12px;\n",
              "    }\n",
              "\n",
              "    .colab-df-convert {\n",
              "      background-color: #E8F0FE;\n",
              "      border: none;\n",
              "      border-radius: 50%;\n",
              "      cursor: pointer;\n",
              "      display: none;\n",
              "      fill: #1967D2;\n",
              "      height: 32px;\n",
              "      padding: 0 0 0 0;\n",
              "      width: 32px;\n",
              "    }\n",
              "\n",
              "    .colab-df-convert:hover {\n",
              "      background-color: #E2EBFA;\n",
              "      box-shadow: 0px 1px 2px rgba(60, 64, 67, 0.3), 0px 1px 3px 1px rgba(60, 64, 67, 0.15);\n",
              "      fill: #174EA6;\n",
              "    }\n",
              "\n",
              "    [theme=dark] .colab-df-convert {\n",
              "      background-color: #3B4455;\n",
              "      fill: #D2E3FC;\n",
              "    }\n",
              "\n",
              "    [theme=dark] .colab-df-convert:hover {\n",
              "      background-color: #434B5C;\n",
              "      box-shadow: 0px 1px 3px 1px rgba(0, 0, 0, 0.15);\n",
              "      filter: drop-shadow(0px 1px 2px rgba(0, 0, 0, 0.3));\n",
              "      fill: #FFFFFF;\n",
              "    }\n",
              "  </style>\n",
              "\n",
              "      <script>\n",
              "        const buttonEl =\n",
              "          document.querySelector('#df-21d9e5c2-643a-42be-98e7-264550a449a9 button.colab-df-convert');\n",
              "        buttonEl.style.display =\n",
              "          google.colab.kernel.accessAllowed ? 'block' : 'none';\n",
              "\n",
              "        async function convertToInteractive(key) {\n",
              "          const element = document.querySelector('#df-21d9e5c2-643a-42be-98e7-264550a449a9');\n",
              "          const dataTable =\n",
              "            await google.colab.kernel.invokeFunction('convertToInteractive',\n",
              "                                                     [key], {});\n",
              "          if (!dataTable) return;\n",
              "\n",
              "          const docLinkHtml = 'Like what you see? Visit the ' +\n",
              "            '<a target=\"_blank\" href=https://colab.research.google.com/notebooks/data_table.ipynb>data table notebook</a>'\n",
              "            + ' to learn more about interactive tables.';\n",
              "          element.innerHTML = '';\n",
              "          dataTable['output_type'] = 'display_data';\n",
              "          await google.colab.output.renderOutput(dataTable, element);\n",
              "          const docLink = document.createElement('div');\n",
              "          docLink.innerHTML = docLinkHtml;\n",
              "          element.appendChild(docLink);\n",
              "        }\n",
              "      </script>\n",
              "    </div>\n",
              "  </div>\n",
              "  "
            ]
          },
          "metadata": {},
          "execution_count": 26
        }
      ]
    },
    {
      "cell_type": "markdown",
      "source": [
        "Renumber the list"
      ],
      "metadata": {
        "id": "lA_7_hJRr9RI"
      }
    },
    {
      "cell_type": "code",
      "source": [
        "dfTrainsLearn = dfTrainsLearn.reset_index(drop=True)"
      ],
      "metadata": {
        "id": "Kw_c3Ddj4zN4"
      },
      "execution_count": 27,
      "outputs": []
    },
    {
      "cell_type": "markdown",
      "source": [
        "# Determine NextValue\n",
        "This will be the value we are attempting to learn"
      ],
      "metadata": {
        "id": "M6ikvyh2mKvw"
      }
    },
    {
      "cell_type": "code",
      "source": [
        "def findNextTime(trainsEntry, actualsEntry, timeInMinutes):\n",
        "  #print(actualsEntry.iloc[4]['speedMPH'], \" - \",trainsEntry['lastReportedPosition.speedMPH'] )\n",
        "  idx = math.trunc(timeInMinutes // 2)\n",
        "  if (idx < len(actualsEntry)):\n",
        "    return (abs(actualsEntry.iloc[idx]['speedMPH']) - abs(trainsEntry['lastReportedPosition.speedMPH']))\n",
        "  return None"
      ],
      "metadata": {
        "id": "HsFWDlcWROcp"
      },
      "execution_count": 28,
      "outputs": []
    },
    {
      "cell_type": "code",
      "source": [
        "def findNextMilepost(trainsEntry, actualsEntry, distance):\n",
        "  currMilepost = trainsEntry['lastReportedPosition.milepostLocation.milepost.milepostNumber']\n",
        "  value  = actualsEntry.loc[actualsEntry['milepostLocation.milepost.milepostNumber'] > currMilepost + distance]\n",
        "  if (len(value) > 0) :\n",
        "    return value[value['milepostLocation.milepost.milepostNumber'] == value['milepostLocation.milepost.milepostNumber'].min()]\n",
        "  value  = actualsEntry.loc[actualsEntry['milepostLocation.milepost.milepostNumber'] < currMilepost - distance]\n",
        "  if (len(value) > 0):\n",
        "    return value[value['milepostLocation.milepost.milepostNumber'] == value['milepostLocation.milepost.milepostNumber'].max()]\n",
        "  return []"
      ],
      "metadata": {
        "id": "-gfZhQNSsxeV"
      },
      "execution_count": 29,
      "outputs": []
    },
    {
      "cell_type": "code",
      "source": [
        "def findNextMilepostAtTime(trainsEntry, actualsEntry, timeInMinutes):\n",
        "  idx = math.trunc(timeInMinutes // 2)\n",
        "  if (idx < len(actualsEntry)):\n",
        "    return actualsEntry.iloc[idx]['milepostLocation.milepost.milepostNumber']\n",
        "  return None"
      ],
      "metadata": {
        "id": "V3P0NgM-zSpV"
      },
      "execution_count": 30,
      "outputs": []
    },
    {
      "cell_type": "code",
      "source": [
        "def findNextSpeed(trainsEntry, actualsEntry):\n",
        "  if (measurement.get('unit') == 'miles'):\n",
        "    nextActual = findNextMilepost(trainsEntry, actualsEntry, measurement.get('size'))\n",
        "    if (nextActual != None and len(nextActual) > 0):\n",
        "      amt = (abs(nextActual.iloc[0]['speedMPH']) - abs(trainsEntry['lastReportedPosition.speedMPH']))\n",
        "      return amt;\n",
        "  elif (measurement.get('unit') == 'minutes'):\n",
        "    return findNextTime(trainsEntry, actualsEntry, measurement.get('size'))\n",
        "  elif (measurement.get('unit') == 'milepost'):\n",
        "    return findNextMilepostAtTime(trainsEntry, actualsEntry, measurement.get('size'))\n",
        "  else:\n",
        "    raise Exception('unknown measurement', measurement.get('unit'))    \n",
        "  return None"
      ],
      "metadata": {
        "id": "i_JszmqL0MR6"
      },
      "execution_count": 31,
      "outputs": []
    },
    {
      "cell_type": "markdown",
      "source": [
        "You can peer into the mechanics of a lookup here:"
      ],
      "metadata": {
        "id": "lzq_GLI5mdDk"
      }
    },
    {
      "cell_type": "code",
      "source": [
        "idx = 3291\n",
        "showTrain(idx)\n",
        "print(\"Reported speed: \", dfTrainsLearn.iloc[idx]['lastReportedPosition.speedMPH'])\n",
        "print(\"Reported MP: \", dfTrainsLearn.iloc[idx]['lastReportedPosition.milepostLocation.milepost.milepostNumber'])\n",
        "print(\"Reported Time: \", dfTrainsLearn.iloc[idx]['lastReportedPosition.positionTime'])\n",
        "\n",
        "nextActual = findNextMilepost(dfTrainsLearn.iloc[idx], dfTrainsLearnActuals.iloc[idx], 1)\n",
        "print(\"Next Speed at MP:\",nextActual)\n",
        "nextActual = findNextTime(dfTrainsLearn.iloc[idx], dfTrainsLearnActuals.iloc[idx], 10)\n",
        "print(\"Next Speed at 10 Min:\",nextActual)\n",
        "nextActual = findNextMilepostAtTime(dfTrainsLearn.iloc[idx], dfTrainsLearnActuals.iloc[idx], 10)\n",
        "print(\"Milepost in 10 Min:\",nextActual)\n",
        "\n",
        "print(\"actual Value: \", findNextSpeed(dfTrainsLearn.iloc[idx], dfTrainsLearnActuals.iloc[idx]))\n",
        "beopJSON = dfTrainsBeop.iloc[idx]['trainEstimatedPositionList']\n",
        "if not type(beopJSON) is float and len(beopJSON) > 0:\n",
        "  beopDT = pd.json_normalize(beopJSON)\n",
        "  nextBeop = findNextMilepost(dfTrainsLearn.iloc[idx], beopDT, 1)\n",
        "  print(nextBeop)\n",
        "  type(dfTrainsBeop.iloc[idx]['trainEstimatedPositionList'])\n",
        "  print(\"beop Value: \", findNextSpeed(dfTrainsLearn.iloc[idx], beopDT))"
      ],
      "metadata": {
        "id": "F_hQFHKztIu-",
        "colab": {
          "base_uri": "https://localhost:8080/"
        },
        "outputId": "43b9b917-033a-4544-a210-fb96a0d09508"
      },
      "execution_count": 32,
      "outputs": [
        {
          "output_type": "stream",
          "name": "stdout",
          "text": [
            "UP2706\n",
            "MCHCB\n",
            "106\n",
            "MT 2\n",
            "320.4698\n",
            "Reported speed:  39\n",
            "Reported MP:  320.4698\n",
            "Reported Time:  2022-05-11T10:25:35Z\n",
            "Next Speed at MP:            positionTime  speedMPH  milepostLocation.subdivisionId  \\\n",
            "0  2022-05-11T10:27:35Z        38                             106   \n",
            "\n",
            "  milepostLocation.trackName  milepostLocation.milepost.milepostNumber  \n",
            "0                       MT 2                                 321.73276  \n",
            "Next Speed at 10 Min: -39\n",
            "Milepost in 10 Min: 325.6992\n",
            "actual Value:  325.699\n",
            "           positionTime  speedMPH  milepostLocation.subdivisionId  \\\n",
            "1  2022-05-11T10:27:35Z        40                             106   \n",
            "\n",
            "  milepostLocation.trackName  milepostLocation.milepost.milepostNumber  \n",
            "1                       MT 2                                 321.80084  \n",
            "beop Value:  344.286\n"
          ]
        }
      ]
    },
    {
      "cell_type": "markdown",
      "source": [
        "Run the calulations.  This will take a moment."
      ],
      "metadata": {
        "id": "cWzMCn-tsE22"
      }
    },
    {
      "cell_type": "code",
      "source": [
        "dfTrainsLearn['nextValue'] = np.NaN\n",
        "dfTrainsLearn['beopValue'] = np.NaN\n",
        "i = 0;\n",
        "for index, trainsEntry in dfTrainsLearn.iterrows():\n",
        "  nextValue = findNextSpeed(trainsEntry, dfTrainsLearnActuals.iloc[i])\n",
        "  if (nextValue != None):\n",
        "    dfTrainsLearn.at[i,'nextValue'] = nextValue\n",
        "  beopJSON = dfTrainsBeop.iloc[i]['trainEstimatedPositionList']\n",
        "  if not type(beopJSON) is float and len(beopJSON) > 0:\n",
        "    try:\n",
        "      beopDT = pd.json_normalize(beopJSON)\n",
        "      if (measurement.get('unit') == 'miles'):\n",
        "        nextBeop = findNextMilepost(trainsEntry, beopDT, measurement.get('size'))\n",
        "      elif (measurement.get('unit') == 'minutes'):\n",
        "        nextBeop = findNextTime(trainsEntry, beopDT, measurement.get('size'))\n",
        "      elif (measurement.get('unit') == 'milepost'):\n",
        "        nextBeop = findNextMilepostAtTime(trainsEntry, beopDT, measurement.get('size'))\n",
        "      if (nextBeop != None):\n",
        "        dfTrainsLearn.at[i,'beopValue'] = nextBeop\n",
        "    except NotImplementedError:\n",
        "      print(type(beopJSON))\n",
        "    except KeyError:\n",
        "      print(beopJSON)\n",
        "  if (i % 1000 == 0):\n",
        "    print(i)\n",
        "  i = i + 1"
      ],
      "metadata": {
        "id": "fG2U-anX-jbt",
        "colab": {
          "base_uri": "https://localhost:8080/"
        },
        "outputId": "d5902809-4584-4f1c-f236-b280c253c941"
      },
      "execution_count": 33,
      "outputs": [
        {
          "output_type": "stream",
          "name": "stdout",
          "text": [
            "0\n",
            "1000\n",
            "2000\n",
            "3000\n",
            "4000\n",
            "5000\n",
            "6000\n",
            "7000\n",
            "8000\n",
            "9000\n",
            "10000\n",
            "11000\n",
            "12000\n",
            "13000\n",
            "14000\n",
            "15000\n",
            "16000\n",
            "17000\n",
            "18000\n",
            "19000\n",
            "20000\n",
            "21000\n",
            "22000\n",
            "23000\n",
            "24000\n",
            "25000\n",
            "26000\n",
            "27000\n",
            "28000\n",
            "29000\n",
            "30000\n",
            "31000\n",
            "32000\n",
            "33000\n",
            "34000\n",
            "35000\n",
            "36000\n",
            "37000\n",
            "38000\n",
            "39000\n",
            "40000\n",
            "41000\n",
            "42000\n",
            "43000\n",
            "44000\n",
            "45000\n"
          ]
        }
      ]
    },
    {
      "cell_type": "code",
      "source": [
        "dfTrainsLearn = dfTrainsLearn.dropna(subset=['nextValue'])\n",
        "dfTrainsLearn['nextValue'].unique()"
      ],
      "metadata": {
        "colab": {
          "base_uri": "https://localhost:8080/"
        },
        "id": "lQz8KQHM3SdN",
        "outputId": "a3c1a26e-3cc1-432f-88bb-f0adedde6cc6"
      },
      "execution_count": 34,
      "outputs": [
        {
          "output_type": "execute_result",
          "data": {
            "text/plain": [
              "array([215.53906, 223.57376, 235.31651, ..., 216.9826 , 204.64708, 202.5429 ])"
            ]
          },
          "metadata": {},
          "execution_count": 34
        }
      ]
    },
    {
      "cell_type": "code",
      "source": [
        "print(\"NextValue values histogram:\")\n",
        "dfTrainsLearn['nextValue'].hist(bins=200)"
      ],
      "metadata": {
        "id": "IOWDvvGusUBm",
        "colab": {
          "base_uri": "https://localhost:8080/",
          "height": 302
        },
        "outputId": "8c0e7285-0662-469c-c731-25b43eb1985c"
      },
      "execution_count": 35,
      "outputs": [
        {
          "output_type": "stream",
          "name": "stdout",
          "text": [
            "NextValue values histogram:\n"
          ]
        },
        {
          "output_type": "execute_result",
          "data": {
            "text/plain": [
              "<matplotlib.axes._subplots.AxesSubplot at 0x7f11742ba0d0>"
            ]
          },
          "metadata": {},
          "execution_count": 35
        },
        {
          "output_type": "display_data",
          "data": {
            "text/plain": [
              "<Figure size 432x288 with 1 Axes>"
            ],
            "image/png": "[encoded data removed]"
          },
          "metadata": {
            "needs_background": "light"
          }
        }
      ]
    },
    {
      "cell_type": "code",
      "source": [
        "dfTrainsLearn['beopValue'].unique()"
      ],
      "metadata": {
        "id": "bdSnFJoMWVrn",
        "colab": {
          "base_uri": "https://localhost:8080/"
        },
        "outputId": "dc6e286c-1f7c-493c-80d4-d3e83f5393db"
      },
      "execution_count": 36,
      "outputs": [
        {
          "output_type": "execute_result",
          "data": {
            "text/plain": [
              "array([233.54254,       nan, 240.27034, ..., 204.24977, 191.52751, 227.83861])"
            ]
          },
          "metadata": {},
          "execution_count": 36
        }
      ]
    },
    {
      "cell_type": "code",
      "source": [
        "print(\"physics predictions histogram:\")\n",
        "dfTrainsLearn['beopValue'].hist(bins=200)"
      ],
      "metadata": {
        "id": "K7WQR074WuDQ",
        "colab": {
          "base_uri": "https://localhost:8080/",
          "height": 302
        },
        "outputId": "94e5205f-5813-456a-e45e-b33c0d3d0797"
      },
      "execution_count": 37,
      "outputs": [
        {
          "output_type": "stream",
          "name": "stdout",
          "text": [
            "physics predictions histogram:\n"
          ]
        },
        {
          "output_type": "execute_result",
          "data": {
            "text/plain": [
              "<matplotlib.axes._subplots.AxesSubplot at 0x7f119930c590>"
            ]
          },
          "metadata": {},
          "execution_count": 37
        },
        {
          "output_type": "display_data",
          "data": {
            "text/plain": [
              "<Figure size 432x288 with 1 Axes>"
            ],
            "image/png": "[encoded data removed]"
          },
          "metadata": {
            "needs_background": "light"
          }
        }
      ]
    },
    {
      "cell_type": "code",
      "source": [
        "dfTrainsNextBeop = dfTrainsLearn['beopValue']"
      ],
      "metadata": {
        "id": "k1sGN4n_2bDU"
      },
      "execution_count": 38,
      "outputs": []
    },
    {
      "cell_type": "markdown",
      "source": [
        "Drop some values we are not using at the moment, not needed.\n",
        "\n",
        "Note, this will disable above computations unless you resume at \"Create a learning set\""
      ],
      "metadata": {
        "id": "moXjNcMQu-3C"
      }
    },
    {
      "cell_type": "code",
      "source": [
        "dfTrainsLearn = dfTrainsLearn.drop(columns=['aotuTrainData.tenantCarrier',\n",
        "                                            'beopValue',\n",
        "                                            'positionHistoryList',\n",
        "                                            'locomotiveList',\n",
        "                                            'subdivisionList',\n",
        "                                            'trainActualPositionList',\n",
        "                                            'trainEstimatedPositionList',\n",
        "                                            'aotuTrainData.routeLocationList'])"
      ],
      "metadata": {
        "id": "hBmsqv6IuVVO"
      },
      "execution_count": 39,
      "outputs": []
    },
    {
      "cell_type": "markdown",
      "source": [
        "Burst dates into subcolumns that might prove useful"
      ],
      "metadata": {
        "id": "22_dmiSmoYyq"
      }
    },
    {
      "cell_type": "code",
      "source": [
        "tabular.core.make_date(dfTrainsLearn, 'trainId.trainDate')\n",
        "tabular.core.make_date(dfTrainsLearn, 'lastReportedPosition.positionTime')\n",
        "tabular.core.add_datepart(dfTrainsLearn, 'lastReportedPosition.positionTime')\n",
        "# tabular.core.add_elapsed_times(dfTrainsLearn, 'lastReportedPosition.positionTime')\n"
      ],
      "metadata": {
        "id": "DjTAxScsbHCN",
        "colab": {
          "base_uri": "https://localhost:8080/",
          "height": 487
        },
        "outputId": "b1fc334c-c484-4858-af3c-416b6f2142ec"
      },
      "execution_count": 40,
      "outputs": [
        {
          "output_type": "execute_result",
          "data": {
            "text/plain": [
              "      ptcLeadLocomotiveId trainId.trainSCAC trainId.trainSection  \\\n",
              "0                  NS1007                UP                        \n",
              "1                  NS1007                UP                        \n",
              "2                  NS1007                UP                        \n",
              "3                  NS1007                UP                        \n",
              "4                  NS1007                UP                        \n",
              "...                   ...               ...                  ...   \n",
              "45731              UP9098                UP                        \n",
              "45732              UP9098                UP                        \n",
              "45733              UP9098                UP                        \n",
              "45734              UP9098                UP                        \n",
              "45737              UP9101                UP                        \n",
              "\n",
              "      trainId.trainSymbol  ...  \\\n",
              "0                   MGBNP  ...   \n",
              "1                   MGBNP  ...   \n",
              "2                   MGBNP  ...   \n",
              "3                   MGBNP  ...   \n",
              "4                   MGBNP  ...   \n",
              "...                   ...  ...   \n",
              "45731               ZLTG2  ...   \n",
              "45732               ZLTG2  ...   \n",
              "45733               ZLTG2  ...   \n",
              "45734               ZLTG2  ...   \n",
              "45737               MCHCB  ...   \n",
              "\n",
              "      lastReportedPosition.positionTimeIs_quarter_start  \\\n",
              "0                                                 False   \n",
              "1                                                 False   \n",
              "2                                                 False   \n",
              "3                                                 False   \n",
              "4                                                 False   \n",
              "...                                                 ...   \n",
              "45731                                             False   \n",
              "45732                                             False   \n",
              "45733                                             False   \n",
              "45734                                             False   \n",
              "45737                                             False   \n",
              "\n",
              "       lastReportedPosition.positionTimeIs_year_end  \\\n",
              "0                                             False   \n",
              "1                                             False   \n",
              "2                                             False   \n",
              "3                                             False   \n",
              "4                                             False   \n",
              "...                                             ...   \n",
              "45731                                         False   \n",
              "45732                                         False   \n",
              "45733                                         False   \n",
              "45734                                         False   \n",
              "45737                                         False   \n",
              "\n",
              "       lastReportedPosition.positionTimeIs_year_start  \\\n",
              "0                                               False   \n",
              "1                                               False   \n",
              "2                                               False   \n",
              "3                                               False   \n",
              "4                                               False   \n",
              "...                                               ...   \n",
              "45731                                           False   \n",
              "45732                                           False   \n",
              "45733                                           False   \n",
              "45734                                           False   \n",
              "45737                                           False   \n",
              "\n",
              "      lastReportedPosition.positionTimeElapsed  \n",
              "0                                 1.654802e+09  \n",
              "1                                 1.654803e+09  \n",
              "2                                 1.654804e+09  \n",
              "3                                 1.654805e+09  \n",
              "4                                 1.654806e+09  \n",
              "...                                        ...  \n",
              "45731                             1.653993e+09  \n",
              "45732                             1.653993e+09  \n",
              "45733                             1.653994e+09  \n",
              "45734                             1.653995e+09  \n",
              "45737                             1.655941e+09  \n",
              "\n",
              "[40073 rows x 47 columns]"
            ],
            "text/html": [
              "\n",
              "  <div id=\"df-4ac1b568-cfe5-4476-910f-aa414c5dddf2\">\n",
              "    <div class=\"colab-df-container\">\n",
              "      <div>\n",
              "<style scoped>\n",
              "    .dataframe tbody tr th:only-of-type {\n",
              "        vertical-align: middle;\n",
              "    }\n",
              "\n",
              "    .dataframe tbody tr th {\n",
              "        vertical-align: top;\n",
              "    }\n",
              "\n",
              "    .dataframe thead th {\n",
              "        text-align: right;\n",
              "    }\n",
              "</style>\n",
              "<table border=\"1\" class=\"dataframe\">\n",
              "  <thead>\n",
              "    <tr style=\"text-align: right;\">\n",
              "      <th></th>\n",
              "      <th>ptcLeadLocomotiveId</th>\n",
              "      <th>trainId.trainSCAC</th>\n",
              "      <th>trainId.trainSection</th>\n",
              "      <th>trainId.trainSymbol</th>\n",
              "      <th>...</th>\n",
              "      <th>lastReportedPosition.positionTimeIs_quarter_start</th>\n",
              "      <th>lastReportedPosition.positionTimeIs_year_end</th>\n",
              "      <th>lastReportedPosition.positionTimeIs_year_start</th>\n",
              "      <th>lastReportedPosition.positionTimeElapsed</th>\n",
              "    </tr>\n",
              "  </thead>\n",
              "  <tbody>\n",
              "    <tr>\n",
              "      <th>0</th>\n",
              "      <td>NS1007</td>\n",
              "      <td>UP</td>\n",
              "      <td></td>\n",
              "      <td>MGBNP</td>\n",
              "      <td>...</td>\n",
              "      <td>False</td>\n",
              "      <td>False</td>\n",
              "      <td>False</td>\n",
              "      <td>1.654802e+09</td>\n",
              "    </tr>\n",
              "    <tr>\n",
              "      <th>1</th>\n",
              "      <td>NS1007</td>\n",
              "      <td>UP</td>\n",
              "      <td></td>\n",
              "      <td>MGBNP</td>\n",
              "      <td>...</td>\n",
              "      <td>False</td>\n",
              "      <td>False</td>\n",
              "      <td>False</td>\n",
              "      <td>1.654803e+09</td>\n",
              "    </tr>\n",
              "    <tr>\n",
              "      <th>2</th>\n",
              "      <td>NS1007</td>\n",
              "      <td>UP</td>\n",
              "      <td></td>\n",
              "      <td>MGBNP</td>\n",
              "      <td>...</td>\n",
              "      <td>False</td>\n",
              "      <td>False</td>\n",
              "      <td>False</td>\n",
              "      <td>1.654804e+09</td>\n",
              "    </tr>\n",
              "    <tr>\n",
              "      <th>3</th>\n",
              "      <td>NS1007</td>\n",
              "      <td>UP</td>\n",
              "      <td></td>\n",
              "      <td>MGBNP</td>\n",
              "      <td>...</td>\n",
              "      <td>False</td>\n",
              "      <td>False</td>\n",
              "      <td>False</td>\n",
              "      <td>1.654805e+09</td>\n",
              "    </tr>\n",
              "    <tr>\n",
              "      <th>4</th>\n",
              "      <td>NS1007</td>\n",
              "      <td>UP</td>\n",
              "      <td></td>\n",
              "      <td>MGBNP</td>\n",
              "      <td>...</td>\n",
              "      <td>False</td>\n",
              "      <td>False</td>\n",
              "      <td>False</td>\n",
              "      <td>1.654806e+09</td>\n",
              "    </tr>\n",
              "    <tr>\n",
              "      <th>...</th>\n",
              "      <td>...</td>\n",
              "      <td>...</td>\n",
              "      <td>...</td>\n",
              "      <td>...</td>\n",
              "      <td>...</td>\n",
              "      <td>...</td>\n",
              "      <td>...</td>\n",
              "      <td>...</td>\n",
              "      <td>...</td>\n",
              "    </tr>\n",
              "    <tr>\n",
              "      <th>45731</th>\n",
              "      <td>UP9098</td>\n",
              "      <td>UP</td>\n",
              "      <td></td>\n",
              "      <td>ZLTG2</td>\n",
              "      <td>...</td>\n",
              "      <td>False</td>\n",
              "      <td>False</td>\n",
              "      <td>False</td>\n",
              "      <td>1.653993e+09</td>\n",
              "    </tr>\n",
              "    <tr>\n",
              "      <th>45732</th>\n",
              "      <td>UP9098</td>\n",
              "      <td>UP</td>\n",
              "      <td></td>\n",
              "      <td>ZLTG2</td>\n",
              "      <td>...</td>\n",
              "      <td>False</td>\n",
              "      <td>False</td>\n",
              "      <td>False</td>\n",
              "      <td>1.653993e+09</td>\n",
              "    </tr>\n",
              "    <tr>\n",
              "      <th>45733</th>\n",
              "      <td>UP9098</td>\n",
              "      <td>UP</td>\n",
              "      <td></td>\n",
              "      <td>ZLTG2</td>\n",
              "      <td>...</td>\n",
              "      <td>False</td>\n",
              "      <td>False</td>\n",
              "      <td>False</td>\n",
              "      <td>1.653994e+09</td>\n",
              "    </tr>\n",
              "    <tr>\n",
              "      <th>45734</th>\n",
              "      <td>UP9098</td>\n",
              "      <td>UP</td>\n",
              "      <td></td>\n",
              "      <td>ZLTG2</td>\n",
              "      <td>...</td>\n",
              "      <td>False</td>\n",
              "      <td>False</td>\n",
              "      <td>False</td>\n",
              "      <td>1.653995e+09</td>\n",
              "    </tr>\n",
              "    <tr>\n",
              "      <th>45737</th>\n",
              "      <td>UP9101</td>\n",
              "      <td>UP</td>\n",
              "      <td></td>\n",
              "      <td>MCHCB</td>\n",
              "      <td>...</td>\n",
              "      <td>False</td>\n",
              "      <td>False</td>\n",
              "      <td>False</td>\n",
              "      <td>1.655941e+09</td>\n",
              "    </tr>\n",
              "  </tbody>\n",
              "</table>\n",
              "<p>40073 rows × 47 columns</p>\n",
              "</div>\n",
              "      <button class=\"colab-df-convert\" onclick=\"convertToInteractive('df-4ac1b568-cfe5-4476-910f-aa414c5dddf2')\"\n",
              "              title=\"Convert this dataframe to an interactive table.\"\n",
              "              style=\"display:none;\">\n",
              "        \n",
              "  <svg xmlns=\"http://www.w3.org/2000/svg\" height=\"24px\"viewBox=\"0 0 24 24\"\n",
              "       width=\"24px\">\n",
              "    <path d=\"M0 0h24v24H0V0z\" fill=\"none\"/>\n",
              "    <path d=\"M18.56 5.44l.94 2.06.94-2.06 2.06-.94-2.06-.94-.94-2.06-.94 2.06-2.06.94zm-11 1L8.5 8.5l.94-2.06 2.06-.94-2.06-.94L8.5 2.5l-.94 2.06-2.06.94zm10 10l.94 2.06.94-2.06 2.06-.94-2.06-.94-.94-2.06-.94 2.06-2.06.94z\"/><path d=\"M17.41 7.96l-1.37-1.37c-.4-.4-.92-.59-1.43-.59-.52 0-1.04.2-1.43.59L10.3 9.45l-7.72 7.72c-.78.78-.78 2.05 0 2.83L4 21.41c.39.39.9.59 1.41.59.51 0 1.02-.2 1.41-.59l7.78-7.78 2.81-2.81c.8-.78.8-2.07 0-2.86zM5.41 20L4 18.59l7.72-7.72 1.47 1.35L5.41 20z\"/>\n",
              "  </svg>\n",
              "      </button>\n",
              "      \n",
              "  <style>\n",
              "    .colab-df-container {\n",
              "      display:flex;\n",
              "      flex-wrap:wrap;\n",
              "      gap: 12px;\n",
              "    }\n",
              "\n",
              "    .colab-df-convert {\n",
              "      background-color: #E8F0FE;\n",
              "      border: none;\n",
              "      border-radius: 50%;\n",
              "      cursor: pointer;\n",
              "      display: none;\n",
              "      fill: #1967D2;\n",
              "      height: 32px;\n",
              "      padding: 0 0 0 0;\n",
              "      width: 32px;\n",
              "    }\n",
              "\n",
              "    .colab-df-convert:hover {\n",
              "      background-color: #E2EBFA;\n",
              "      box-shadow: 0px 1px 2px rgba(60, 64, 67, 0.3), 0px 1px 3px 1px rgba(60, 64, 67, 0.15);\n",
              "      fill: #174EA6;\n",
              "    }\n",
              "\n",
              "    [theme=dark] .colab-df-convert {\n",
              "      background-color: #3B4455;\n",
              "      fill: #D2E3FC;\n",
              "    }\n",
              "\n",
              "    [theme=dark] .colab-df-convert:hover {\n",
              "      background-color: #434B5C;\n",
              "      box-shadow: 0px 1px 3px 1px rgba(0, 0, 0, 0.15);\n",
              "      filter: drop-shadow(0px 1px 2px rgba(0, 0, 0, 0.3));\n",
              "      fill: #FFFFFF;\n",
              "    }\n",
              "  </style>\n",
              "\n",
              "      <script>\n",
              "        const buttonEl =\n",
              "          document.querySelector('#df-4ac1b568-cfe5-4476-910f-aa414c5dddf2 button.colab-df-convert');\n",
              "        buttonEl.style.display =\n",
              "          google.colab.kernel.accessAllowed ? 'block' : 'none';\n",
              "\n",
              "        async function convertToInteractive(key) {\n",
              "          const element = document.querySelector('#df-4ac1b568-cfe5-4476-910f-aa414c5dddf2');\n",
              "          const dataTable =\n",
              "            await google.colab.kernel.invokeFunction('convertToInteractive',\n",
              "                                                     [key], {});\n",
              "          if (!dataTable) return;\n",
              "\n",
              "          const docLinkHtml = 'Like what you see? Visit the ' +\n",
              "            '<a target=\"_blank\" href=https://colab.research.google.com/notebooks/data_table.ipynb>data table notebook</a>'\n",
              "            + ' to learn more about interactive tables.';\n",
              "          element.innerHTML = '';\n",
              "          dataTable['output_type'] = 'display_data';\n",
              "          await google.colab.output.renderOutput(dataTable, element);\n",
              "          const docLink = document.createElement('div');\n",
              "          docLink.innerHTML = docLinkHtml;\n",
              "          element.appendChild(docLink);\n",
              "        }\n",
              "      </script>\n",
              "    </div>\n",
              "  </div>\n",
              "  "
            ]
          },
          "metadata": {},
          "execution_count": 40
        }
      ]
    },
    {
      "cell_type": "code",
      "source": [
        "print(dfTrainsLearn.shape)\n",
        "print(dfTrainsLearnActuals.shape)\n",
        "\n",
        "print(dfTrainsLearn.info())\n",
        "print(dfTrainsLearn.iloc[10])"
      ],
      "metadata": {
        "id": "jTVXPBSQ2gp3",
        "colab": {
          "base_uri": "https://localhost:8080/"
        },
        "outputId": "902ca501-c2f9-4758-aa93-e7bc8f16cf6b"
      },
      "execution_count": 41,
      "outputs": [
        {
          "output_type": "stream",
          "name": "stdout",
          "text": [
            "(40073, 47)\n",
            "(45739,)\n",
            "<class 'pandas.core.frame.DataFrame'>\n",
            "Int64Index: 40073 entries, 0 to 45737\n",
            "Data columns (total 47 columns):\n",
            " #   Column                                                         Non-Null Count  Dtype         \n",
            "---  ------                                                         --------------  -----         \n",
            " 0   ptcLeadLocomotiveId                                            40073 non-null  object        \n",
            " 1   trainId.trainSCAC                                              40073 non-null  category      \n",
            " 2   trainId.trainSection                                           40073 non-null  category      \n",
            " 3   trainId.trainSymbol                                            40073 non-null  object        \n",
            " 4   trainId.trainDate                                              40073 non-null  datetime64[ns]\n",
            " 5   lastReportedPosition.speedMPH                                  40073 non-null  int64         \n",
            " 6   lastReportedPosition.milepostLocation.subdivisionId            40073 non-null  int64         \n",
            " 7   lastReportedPosition.milepostLocation.trackName                40073 non-null  category      \n",
            " 8   lastReportedPosition.milepostLocation.milepost.milepostNumber  40073 non-null  float64       \n",
            " 9   aotuTrainData.priorityCode                                     40073 non-null  category      \n",
            " 10  aotuTrainData.categoryCode                                     40073 non-null  category      \n",
            " 11  aotuTrainData.authorityRangeCode                               40073 non-null  category      \n",
            " 12  aotuTrainData.ownershipCode                                    40073 non-null  category      \n",
            " 13  aotuTrainData.totalCarWeight                                   40073 non-null  float64       \n",
            " 14  aotuTrainData.totalCarLength                                   40073 non-null  float64       \n",
            " 15  aotuTrainData.totalLocomotiveWeight                            40073 non-null  float64       \n",
            " 16  aotuTrainData.totalLocomotiveLength                            40073 non-null  float64       \n",
            " 17  aotuTrainData.actualTonsPerAxle                                40073 non-null  float64       \n",
            " 18  aotuTrainData.heavy143TonCarCount                              40073 non-null  float64       \n",
            " 19  aotuTrainData.heavy158TonCarCount                              40073 non-null  float64       \n",
            " 20  aotuTrainData.over158TonCarCount                               40073 non-null  float64       \n",
            " 21  aotuTrainData.highWideCarCount                                 40073 non-null  float64       \n",
            " 22  aotuTrainData.eventCode                                        40073 non-null  category      \n",
            " 23  maximumTrainSpeed                                              40073 non-null  float64       \n",
            " 24  loadedCarCount                                                 40073 non-null  float64       \n",
            " 25  emptyCarCount                                                  40073 non-null  float64       \n",
            " 26  trainLength                                                    40073 non-null  float64       \n",
            " 27  trailingTonnage                                                40073 non-null  float64       \n",
            " 28  milepost                                                       40073 non-null  int64         \n",
            " 29  mpIncr                                                         40073 non-null  bool          \n",
            " 30  symbolType                                                     40073 non-null  category      \n",
            " 31  workLocations                                                  39880 non-null  object        \n",
            " 32  locomotiveCount                                                40073 non-null  int64         \n",
            " 33  nextValue                                                      40073 non-null  float64       \n",
            " 34  lastReportedPosition.positionTimeYear                          40073 non-null  int64         \n",
            " 35  lastReportedPosition.positionTimeMonth                         40073 non-null  int64         \n",
            " 36  lastReportedPosition.positionTimeWeek                          40073 non-null  int64         \n",
            " 37  lastReportedPosition.positionTimeDay                           40073 non-null  int64         \n",
            " 38  lastReportedPosition.positionTimeDayofweek                     40073 non-null  int64         \n",
            " 39  lastReportedPosition.positionTimeDayofyear                     40073 non-null  int64         \n",
            " 40  lastReportedPosition.positionTimeIs_month_end                  40073 non-null  bool          \n",
            " 41  lastReportedPosition.positionTimeIs_month_start                40073 non-null  bool          \n",
            " 42  lastReportedPosition.positionTimeIs_quarter_end                40073 non-null  bool          \n",
            " 43  lastReportedPosition.positionTimeIs_quarter_start              40073 non-null  bool          \n",
            " 44  lastReportedPosition.positionTimeIs_year_end                   40073 non-null  bool          \n",
            " 45  lastReportedPosition.positionTimeIs_year_start                 40073 non-null  bool          \n",
            " 46  lastReportedPosition.positionTimeElapsed                       40073 non-null  float64       \n",
            "dtypes: bool(7), category(9), datetime64[ns](1), float64(17), int64(10), object(3)\n",
            "memory usage: 10.4+ MB\n",
            "None\n",
            "ptcLeadLocomotiveId                                               NS1088\n",
            "trainId.trainSCAC                                                     UP\n",
            "trainId.trainSection                                                    \n",
            "trainId.trainSymbol                                                MCBDM\n",
            "trainId.trainDate                                    2022-07-06 00:00:00\n",
            "                                                            ...         \n",
            "lastReportedPosition.positionTimeIs_quarter_end                    False\n",
            "lastReportedPosition.positionTimeIs_quarter_start                  False\n",
            "lastReportedPosition.positionTimeIs_year_end                       False\n",
            "lastReportedPosition.positionTimeIs_year_start                     False\n",
            "lastReportedPosition.positionTimeElapsed                    1657149509.0\n",
            "Name: 12, Length: 47, dtype: object\n"
          ]
        }
      ]
    },
    {
      "cell_type": "markdown",
      "source": [
        "# Use Decision Tree to predict next value"
      ],
      "metadata": {
        "id": "mg1p1vouBeIB"
      }
    },
    {
      "cell_type": "code",
      "source": [
        "procs = [tabular.core.Categorify, tabular.core.FillMissing]"
      ],
      "metadata": {
        "id": "F9TApkZWbAbz"
      },
      "execution_count": 42,
      "outputs": []
    },
    {
      "cell_type": "markdown",
      "source": [
        "Breakdown the data by day of year - we will train with older data and then test the model with newer values.\n",
        "Note: this simple logic will fail at the begining of a new year!"
      ],
      "metadata": {
        "id": "yjaTPkTntR7F"
      }
    },
    {
      "cell_type": "code",
      "source": [
        "dateValues = dfTrainsLearn.groupby(['lastReportedPosition.positionTimeDayofyear'])['lastReportedPosition.positionTimeDayofyear'].count()\n",
        "print(dateValues)"
      ],
      "metadata": {
        "id": "gDgYzofcvcpM",
        "colab": {
          "base_uri": "https://localhost:8080/"
        },
        "outputId": "e4cecd40-71be-47ad-86f7-1cea0c7f46b6"
      },
      "execution_count": 43,
      "outputs": [
        {
          "output_type": "stream",
          "name": "stdout",
          "text": [
            "lastReportedPosition.positionTimeDayofyear\n",
            "90      88\n",
            "91     294\n",
            "92     337\n",
            "93     357\n",
            "94     256\n",
            "      ... \n",
            "184    310\n",
            "185    417\n",
            "186    349\n",
            "187    502\n",
            "188      9\n",
            "Name: lastReportedPosition.positionTimeDayofyear, Length: 98, dtype: int64\n"
          ]
        }
      ]
    },
    {
      "cell_type": "code",
      "source": [
        "print(\"We will partition this set at day of year:\", dateValues.index[math.trunc(dateValues.size * dataCutpoint)])"
      ],
      "metadata": {
        "colab": {
          "base_uri": "https://localhost:8080/"
        },
        "id": "cJkyrhnpt2T2",
        "outputId": "743ca678-6e0a-4ddd-c252-9a2aed978780"
      },
      "execution_count": 44,
      "outputs": [
        {
          "output_type": "stream",
          "name": "stdout",
          "text": [
            "We will partition this set at day of year: 168\n"
          ]
        }
      ]
    },
    {
      "cell_type": "code",
      "source": [
        "cond = ( dfTrainsLearn['lastReportedPosition.positionTimeDayofyear'] <= dateValues.index[math.trunc(dateValues.size * dataCutpoint)] )\n",
        "trainIdx = np.where(cond)[0]\n",
        "validIdx = np.where(~cond)[0]\n",
        "splits = (list(trainIdx), list(validIdx))"
      ],
      "metadata": {
        "id": "nIURJVe5vc_n"
      },
      "execution_count": 45,
      "outputs": []
    },
    {
      "cell_type": "code",
      "source": [
        "#dep_var = 'nextSpeed'"
      ],
      "metadata": {
        "id": "rPW42wgnOLO_"
      },
      "execution_count": 46,
      "outputs": []
    },
    {
      "cell_type": "code",
      "source": [
        "cont,cat = tabular.core.cont_cat_split(dfTrainsLearn, 1, dep_var=dep_var)"
      ],
      "metadata": {
        "id": "gHDAeThzyzc6"
      },
      "execution_count": 47,
      "outputs": []
    },
    {
      "cell_type": "code",
      "source": [
        "to = tabular.core.TabularPandas(dfTrainsLearn, procs, cat, cont, y_names=dep_var, splits=splits)"
      ],
      "metadata": {
        "id": "xz1ZonvnO-I7"
      },
      "execution_count": 48,
      "outputs": []
    },
    {
      "cell_type": "code",
      "source": [
        "len(to.train),len(to.valid)"
      ],
      "metadata": {
        "id": "0DJly6_Z94uI",
        "colab": {
          "base_uri": "https://localhost:8080/"
        },
        "outputId": "8865beba-ff5a-4b1d-cf88-a23e23c895af"
      },
      "execution_count": 49,
      "outputs": [
        {
          "output_type": "execute_result",
          "data": {
            "text/plain": [
              "(33168, 6905)"
            ]
          },
          "metadata": {},
          "execution_count": 49
        }
      ]
    },
    {
      "cell_type": "code",
      "source": [
        "to.show()"
      ],
      "metadata": {
        "id": "xoEQAME4-n0M",
        "colab": {
          "base_uri": "https://localhost:8080/",
          "height": 383
        },
        "outputId": "56fb27d1-54ea-421a-8411-0d34dea281ef"
      },
      "execution_count": 50,
      "outputs": [
        {
          "output_type": "display_data",
          "data": {
            "text/plain": [
              "<IPython.core.display.HTML object>"
            ],
            "text/html": [
              "<table border=\"1\" class=\"dataframe\">\n",
              "  <thead>\n",
              "    <tr style=\"text-align: right;\">\n",
              "      <th></th>\n",
              "      <th>ptcLeadLocomotiveId</th>\n",
              "      <th>trainId.trainSCAC</th>\n",
              "      <th>trainId.trainSection</th>\n",
              "      <th>trainId.trainSymbol</th>\n",
              "      <th>trainId.trainDate</th>\n",
              "      <th>lastReportedPosition.milepostLocation.subdivisionId</th>\n",
              "      <th>lastReportedPosition.milepostLocation.trackName</th>\n",
              "      <th>aotuTrainData.priorityCode</th>\n",
              "      <th>aotuTrainData.categoryCode</th>\n",
              "      <th>aotuTrainData.authorityRangeCode</th>\n",
              "      <th>aotuTrainData.ownershipCode</th>\n",
              "      <th>aotuTrainData.eventCode</th>\n",
              "      <th>mpIncr</th>\n",
              "      <th>symbolType</th>\n",
              "      <th>workLocations</th>\n",
              "      <th>lastReportedPosition.positionTimeYear</th>\n",
              "      <th>lastReportedPosition.positionTimeIs_month_end</th>\n",
              "      <th>lastReportedPosition.positionTimeIs_month_start</th>\n",
              "      <th>lastReportedPosition.positionTimeIs_quarter_end</th>\n",
              "      <th>lastReportedPosition.positionTimeIs_quarter_start</th>\n",
              "      <th>lastReportedPosition.positionTimeIs_year_end</th>\n",
              "      <th>lastReportedPosition.positionTimeIs_year_start</th>\n",
              "      <th>lastReportedPosition.speedMPH</th>\n",
              "      <th>lastReportedPosition.milepostLocation.milepost.milepostNumber</th>\n",
              "      <th>aotuTrainData.totalCarWeight</th>\n",
              "      <th>aotuTrainData.totalCarLength</th>\n",
              "      <th>aotuTrainData.totalLocomotiveWeight</th>\n",
              "      <th>aotuTrainData.totalLocomotiveLength</th>\n",
              "      <th>aotuTrainData.actualTonsPerAxle</th>\n",
              "      <th>aotuTrainData.heavy143TonCarCount</th>\n",
              "      <th>aotuTrainData.heavy158TonCarCount</th>\n",
              "      <th>aotuTrainData.over158TonCarCount</th>\n",
              "      <th>aotuTrainData.highWideCarCount</th>\n",
              "      <th>maximumTrainSpeed</th>\n",
              "      <th>loadedCarCount</th>\n",
              "      <th>emptyCarCount</th>\n",
              "      <th>trainLength</th>\n",
              "      <th>trailingTonnage</th>\n",
              "      <th>milepost</th>\n",
              "      <th>locomotiveCount</th>\n",
              "      <th>lastReportedPosition.positionTimeMonth</th>\n",
              "      <th>lastReportedPosition.positionTimeWeek</th>\n",
              "      <th>lastReportedPosition.positionTimeDay</th>\n",
              "      <th>lastReportedPosition.positionTimeDayofweek</th>\n",
              "      <th>lastReportedPosition.positionTimeDayofyear</th>\n",
              "      <th>lastReportedPosition.positionTimeElapsed</th>\n",
              "      <th>nextValue</th>\n",
              "    </tr>\n",
              "  </thead>\n",
              "  <tbody>\n",
              "    <tr>\n",
              "      <th>0</th>\n",
              "      <td>NS1007</td>\n",
              "      <td>UP</td>\n",
              "      <td></td>\n",
              "      <td>MGBNP</td>\n",
              "      <td>2022-06-08</td>\n",
              "      <td>106</td>\n",
              "      <td>MT 1</td>\n",
              "      <td>4.0</td>\n",
              "      <td>12.0</td>\n",
              "      <td>2.0</td>\n",
              "      <td>2.0</td>\n",
              "      <td>0.0</td>\n",
              "      <td>True</td>\n",
              "      <td>M</td>\n",
              "      <td>202.20</td>\n",
              "      <td>2022</td>\n",
              "      <td>False</td>\n",
              "      <td>False</td>\n",
              "      <td>False</td>\n",
              "      <td>False</td>\n",
              "      <td>False</td>\n",
              "      <td>False</td>\n",
              "      <td>42</td>\n",
              "      <td>202.207199</td>\n",
              "      <td>143058000.0</td>\n",
              "      <td>1148000.0</td>\n",
              "      <td>8640000.0</td>\n",
              "      <td>17820.0</td>\n",
              "      <td>65535.0</td>\n",
              "      <td>0.0</td>\n",
              "      <td>0.0</td>\n",
              "      <td>0.0</td>\n",
              "      <td>0.0</td>\n",
              "      <td>60.0</td>\n",
              "      <td>102.0</td>\n",
              "      <td>0.0</td>\n",
              "      <td>9738.0</td>\n",
              "      <td>7158.0</td>\n",
              "      <td>202</td>\n",
              "      <td>2</td>\n",
              "      <td>6</td>\n",
              "      <td>23</td>\n",
              "      <td>9</td>\n",
              "      <td>3</td>\n",
              "      <td>160</td>\n",
              "      <td>1.654802e+09</td>\n",
              "      <td>215.539062</td>\n",
              "    </tr>\n",
              "    <tr>\n",
              "      <th>1</th>\n",
              "      <td>NS1007</td>\n",
              "      <td>UP</td>\n",
              "      <td></td>\n",
              "      <td>MGBNP</td>\n",
              "      <td>2022-06-08</td>\n",
              "      <td>106</td>\n",
              "      <td>MT 1</td>\n",
              "      <td>4.0</td>\n",
              "      <td>12.0</td>\n",
              "      <td>2.0</td>\n",
              "      <td>2.0</td>\n",
              "      <td>0.0</td>\n",
              "      <td>True</td>\n",
              "      <td>M</td>\n",
              "      <td>202.20</td>\n",
              "      <td>2022</td>\n",
              "      <td>False</td>\n",
              "      <td>False</td>\n",
              "      <td>False</td>\n",
              "      <td>False</td>\n",
              "      <td>False</td>\n",
              "      <td>False</td>\n",
              "      <td>0</td>\n",
              "      <td>209.870697</td>\n",
              "      <td>143058000.0</td>\n",
              "      <td>1148000.0</td>\n",
              "      <td>8640000.0</td>\n",
              "      <td>17820.0</td>\n",
              "      <td>65535.0</td>\n",
              "      <td>0.0</td>\n",
              "      <td>0.0</td>\n",
              "      <td>0.0</td>\n",
              "      <td>0.0</td>\n",
              "      <td>70.0</td>\n",
              "      <td>102.0</td>\n",
              "      <td>0.0</td>\n",
              "      <td>9738.0</td>\n",
              "      <td>7158.0</td>\n",
              "      <td>209</td>\n",
              "      <td>2</td>\n",
              "      <td>6</td>\n",
              "      <td>23</td>\n",
              "      <td>9</td>\n",
              "      <td>3</td>\n",
              "      <td>160</td>\n",
              "      <td>1.654803e+09</td>\n",
              "      <td>223.573761</td>\n",
              "    </tr>\n",
              "    <tr>\n",
              "      <th>2</th>\n",
              "      <td>NS1007</td>\n",
              "      <td>UP</td>\n",
              "      <td></td>\n",
              "      <td>MGBNP</td>\n",
              "      <td>2022-06-08</td>\n",
              "      <td>106</td>\n",
              "      <td>MT 1</td>\n",
              "      <td>4.0</td>\n",
              "      <td>12.0</td>\n",
              "      <td>2.0</td>\n",
              "      <td>2.0</td>\n",
              "      <td>0.0</td>\n",
              "      <td>True</td>\n",
              "      <td>M</td>\n",
              "      <td>202.20</td>\n",
              "      <td>2022</td>\n",
              "      <td>False</td>\n",
              "      <td>False</td>\n",
              "      <td>False</td>\n",
              "      <td>False</td>\n",
              "      <td>False</td>\n",
              "      <td>False</td>\n",
              "      <td>26</td>\n",
              "      <td>216.513000</td>\n",
              "      <td>143058000.0</td>\n",
              "      <td>1148000.0</td>\n",
              "      <td>8640000.0</td>\n",
              "      <td>17820.0</td>\n",
              "      <td>65535.0</td>\n",
              "      <td>0.0</td>\n",
              "      <td>0.0</td>\n",
              "      <td>0.0</td>\n",
              "      <td>0.0</td>\n",
              "      <td>70.0</td>\n",
              "      <td>102.0</td>\n",
              "      <td>0.0</td>\n",
              "      <td>9738.0</td>\n",
              "      <td>7158.0</td>\n",
              "      <td>216</td>\n",
              "      <td>2</td>\n",
              "      <td>6</td>\n",
              "      <td>23</td>\n",
              "      <td>9</td>\n",
              "      <td>3</td>\n",
              "      <td>160</td>\n",
              "      <td>1.654804e+09</td>\n",
              "      <td>235.316513</td>\n",
              "    </tr>\n",
              "    <tr>\n",
              "      <th>3</th>\n",
              "      <td>NS1007</td>\n",
              "      <td>UP</td>\n",
              "      <td></td>\n",
              "      <td>MGBNP</td>\n",
              "      <td>2022-06-08</td>\n",
              "      <td>106</td>\n",
              "      <td>MT 1</td>\n",
              "      <td>4.0</td>\n",
              "      <td>12.0</td>\n",
              "      <td>2.0</td>\n",
              "      <td>2.0</td>\n",
              "      <td>0.0</td>\n",
              "      <td>True</td>\n",
              "      <td>M</td>\n",
              "      <td>202.20</td>\n",
              "      <td>2022</td>\n",
              "      <td>False</td>\n",
              "      <td>False</td>\n",
              "      <td>False</td>\n",
              "      <td>False</td>\n",
              "      <td>False</td>\n",
              "      <td>False</td>\n",
              "      <td>31</td>\n",
              "      <td>224.210098</td>\n",
              "      <td>143058000.0</td>\n",
              "      <td>1148000.0</td>\n",
              "      <td>8640000.0</td>\n",
              "      <td>17820.0</td>\n",
              "      <td>65535.0</td>\n",
              "      <td>0.0</td>\n",
              "      <td>0.0</td>\n",
              "      <td>0.0</td>\n",
              "      <td>0.0</td>\n",
              "      <td>70.0</td>\n",
              "      <td>102.0</td>\n",
              "      <td>0.0</td>\n",
              "      <td>9738.0</td>\n",
              "      <td>7158.0</td>\n",
              "      <td>224</td>\n",
              "      <td>2</td>\n",
              "      <td>6</td>\n",
              "      <td>23</td>\n",
              "      <td>9</td>\n",
              "      <td>3</td>\n",
              "      <td>160</td>\n",
              "      <td>1.654806e+09</td>\n",
              "      <td>246.743423</td>\n",
              "    </tr>\n",
              "    <tr>\n",
              "      <th>4</th>\n",
              "      <td>NS1007</td>\n",
              "      <td>UP</td>\n",
              "      <td></td>\n",
              "      <td>MGBNP</td>\n",
              "      <td>2022-06-08</td>\n",
              "      <td>106</td>\n",
              "      <td>MT 1</td>\n",
              "      <td>4.0</td>\n",
              "      <td>12.0</td>\n",
              "      <td>2.0</td>\n",
              "      <td>2.0</td>\n",
              "      <td>0.0</td>\n",
              "      <td>True</td>\n",
              "      <td>M</td>\n",
              "      <td>202.20</td>\n",
              "      <td>2022</td>\n",
              "      <td>False</td>\n",
              "      <td>False</td>\n",
              "      <td>False</td>\n",
              "      <td>False</td>\n",
              "      <td>False</td>\n",
              "      <td>False</td>\n",
              "      <td>36</td>\n",
              "      <td>235.890793</td>\n",
              "      <td>143058000.0</td>\n",
              "      <td>1148000.0</td>\n",
              "      <td>8640000.0</td>\n",
              "      <td>17820.0</td>\n",
              "      <td>65535.0</td>\n",
              "      <td>0.0</td>\n",
              "      <td>0.0</td>\n",
              "      <td>0.0</td>\n",
              "      <td>0.0</td>\n",
              "      <td>70.0</td>\n",
              "      <td>102.0</td>\n",
              "      <td>0.0</td>\n",
              "      <td>9738.0</td>\n",
              "      <td>7158.0</td>\n",
              "      <td>235</td>\n",
              "      <td>2</td>\n",
              "      <td>6</td>\n",
              "      <td>23</td>\n",
              "      <td>9</td>\n",
              "      <td>3</td>\n",
              "      <td>160</td>\n",
              "      <td>1.654806e+09</td>\n",
              "      <td>260.126495</td>\n",
              "    </tr>\n",
              "    <tr>\n",
              "      <th>5</th>\n",
              "      <td>NS1007</td>\n",
              "      <td>UP</td>\n",
              "      <td></td>\n",
              "      <td>MGBNP</td>\n",
              "      <td>2022-06-08</td>\n",
              "      <td>106</td>\n",
              "      <td>MT 1</td>\n",
              "      <td>4.0</td>\n",
              "      <td>12.0</td>\n",
              "      <td>2.0</td>\n",
              "      <td>2.0</td>\n",
              "      <td>0.0</td>\n",
              "      <td>True</td>\n",
              "      <td>M</td>\n",
              "      <td>202.20</td>\n",
              "      <td>2022</td>\n",
              "      <td>False</td>\n",
              "      <td>False</td>\n",
              "      <td>False</td>\n",
              "      <td>False</td>\n",
              "      <td>False</td>\n",
              "      <td>False</td>\n",
              "      <td>62</td>\n",
              "      <td>246.540100</td>\n",
              "      <td>143058000.0</td>\n",
              "      <td>1148000.0</td>\n",
              "      <td>8640000.0</td>\n",
              "      <td>17820.0</td>\n",
              "      <td>65535.0</td>\n",
              "      <td>0.0</td>\n",
              "      <td>0.0</td>\n",
              "      <td>0.0</td>\n",
              "      <td>0.0</td>\n",
              "      <td>70.0</td>\n",
              "      <td>102.0</td>\n",
              "      <td>0.0</td>\n",
              "      <td>9738.0</td>\n",
              "      <td>7158.0</td>\n",
              "      <td>246</td>\n",
              "      <td>2</td>\n",
              "      <td>6</td>\n",
              "      <td>23</td>\n",
              "      <td>9</td>\n",
              "      <td>3</td>\n",
              "      <td>160</td>\n",
              "      <td>1.654807e+09</td>\n",
              "      <td>271.050568</td>\n",
              "    </tr>\n",
              "    <tr>\n",
              "      <th>6</th>\n",
              "      <td>NS1007</td>\n",
              "      <td>UP</td>\n",
              "      <td></td>\n",
              "      <td>MGBNP</td>\n",
              "      <td>2022-06-08</td>\n",
              "      <td>106</td>\n",
              "      <td>MT 1</td>\n",
              "      <td>4.0</td>\n",
              "      <td>12.0</td>\n",
              "      <td>2.0</td>\n",
              "      <td>2.0</td>\n",
              "      <td>0.0</td>\n",
              "      <td>True</td>\n",
              "      <td>M</td>\n",
              "      <td>202.20</td>\n",
              "      <td>2022</td>\n",
              "      <td>False</td>\n",
              "      <td>False</td>\n",
              "      <td>False</td>\n",
              "      <td>False</td>\n",
              "      <td>False</td>\n",
              "      <td>False</td>\n",
              "      <td>50</td>\n",
              "      <td>260.289795</td>\n",
              "      <td>143058000.0</td>\n",
              "      <td>1148000.0</td>\n",
              "      <td>8640000.0</td>\n",
              "      <td>17820.0</td>\n",
              "      <td>65535.0</td>\n",
              "      <td>0.0</td>\n",
              "      <td>0.0</td>\n",
              "      <td>0.0</td>\n",
              "      <td>0.0</td>\n",
              "      <td>70.0</td>\n",
              "      <td>102.0</td>\n",
              "      <td>0.0</td>\n",
              "      <td>9738.0</td>\n",
              "      <td>7158.0</td>\n",
              "      <td>260</td>\n",
              "      <td>2</td>\n",
              "      <td>6</td>\n",
              "      <td>23</td>\n",
              "      <td>9</td>\n",
              "      <td>3</td>\n",
              "      <td>160</td>\n",
              "      <td>1.654808e+09</td>\n",
              "      <td>285.541382</td>\n",
              "    </tr>\n",
              "    <tr>\n",
              "      <th>7</th>\n",
              "      <td>NS1007</td>\n",
              "      <td>UP</td>\n",
              "      <td></td>\n",
              "      <td>MGBNP</td>\n",
              "      <td>2022-06-08</td>\n",
              "      <td>106</td>\n",
              "      <td>MT 1</td>\n",
              "      <td>4.0</td>\n",
              "      <td>12.0</td>\n",
              "      <td>2.0</td>\n",
              "      <td>2.0</td>\n",
              "      <td>0.0</td>\n",
              "      <td>True</td>\n",
              "      <td>M</td>\n",
              "      <td>202.20</td>\n",
              "      <td>2022</td>\n",
              "      <td>False</td>\n",
              "      <td>False</td>\n",
              "      <td>False</td>\n",
              "      <td>False</td>\n",
              "      <td>False</td>\n",
              "      <td>False</td>\n",
              "      <td>59</td>\n",
              "      <td>272.092896</td>\n",
              "      <td>143058000.0</td>\n",
              "      <td>1148000.0</td>\n",
              "      <td>8640000.0</td>\n",
              "      <td>17820.0</td>\n",
              "      <td>65535.0</td>\n",
              "      <td>0.0</td>\n",
              "      <td>0.0</td>\n",
              "      <td>0.0</td>\n",
              "      <td>0.0</td>\n",
              "      <td>70.0</td>\n",
              "      <td>102.0</td>\n",
              "      <td>0.0</td>\n",
              "      <td>9738.0</td>\n",
              "      <td>7158.0</td>\n",
              "      <td>272</td>\n",
              "      <td>2</td>\n",
              "      <td>6</td>\n",
              "      <td>23</td>\n",
              "      <td>9</td>\n",
              "      <td>3</td>\n",
              "      <td>160</td>\n",
              "      <td>1.654809e+09</td>\n",
              "      <td>305.831238</td>\n",
              "    </tr>\n",
              "    <tr>\n",
              "      <th>8</th>\n",
              "      <td>NS1007</td>\n",
              "      <td>UP</td>\n",
              "      <td></td>\n",
              "      <td>MGBNP</td>\n",
              "      <td>2022-06-08</td>\n",
              "      <td>106</td>\n",
              "      <td>MT 1</td>\n",
              "      <td>4.0</td>\n",
              "      <td>12.0</td>\n",
              "      <td>2.0</td>\n",
              "      <td>2.0</td>\n",
              "      <td>0.0</td>\n",
              "      <td>True</td>\n",
              "      <td>M</td>\n",
              "      <td>202.20</td>\n",
              "      <td>2022</td>\n",
              "      <td>False</td>\n",
              "      <td>False</td>\n",
              "      <td>False</td>\n",
              "      <td>False</td>\n",
              "      <td>False</td>\n",
              "      <td>False</td>\n",
              "      <td>58</td>\n",
              "      <td>285.755707</td>\n",
              "      <td>143058000.0</td>\n",
              "      <td>1148000.0</td>\n",
              "      <td>8640000.0</td>\n",
              "      <td>17820.0</td>\n",
              "      <td>65535.0</td>\n",
              "      <td>0.0</td>\n",
              "      <td>0.0</td>\n",
              "      <td>0.0</td>\n",
              "      <td>0.0</td>\n",
              "      <td>70.0</td>\n",
              "      <td>102.0</td>\n",
              "      <td>0.0</td>\n",
              "      <td>9738.0</td>\n",
              "      <td>7158.0</td>\n",
              "      <td>285</td>\n",
              "      <td>2</td>\n",
              "      <td>6</td>\n",
              "      <td>23</td>\n",
              "      <td>9</td>\n",
              "      <td>3</td>\n",
              "      <td>160</td>\n",
              "      <td>1.654810e+09</td>\n",
              "      <td>319.314545</td>\n",
              "    </tr>\n",
              "    <tr>\n",
              "      <th>31</th>\n",
              "      <td>NS4141</td>\n",
              "      <td>UP</td>\n",
              "      <td></td>\n",
              "      <td>MGBNP</td>\n",
              "      <td>2022-06-02</td>\n",
              "      <td>106</td>\n",
              "      <td>MT 1</td>\n",
              "      <td>4.0</td>\n",
              "      <td>12.0</td>\n",
              "      <td>2.0</td>\n",
              "      <td>2.0</td>\n",
              "      <td>0.0</td>\n",
              "      <td>True</td>\n",
              "      <td>M</td>\n",
              "      <td>202.20</td>\n",
              "      <td>2022</td>\n",
              "      <td>False</td>\n",
              "      <td>False</td>\n",
              "      <td>False</td>\n",
              "      <td>False</td>\n",
              "      <td>False</td>\n",
              "      <td>False</td>\n",
              "      <td>33</td>\n",
              "      <td>202.206802</td>\n",
              "      <td>152058000.0</td>\n",
              "      <td>1193280.0</td>\n",
              "      <td>17240000.0</td>\n",
              "      <td>35220.0</td>\n",
              "      <td>65535.0</td>\n",
              "      <td>0.0</td>\n",
              "      <td>0.0</td>\n",
              "      <td>0.0</td>\n",
              "      <td>0.0</td>\n",
              "      <td>70.0</td>\n",
              "      <td>106.0</td>\n",
              "      <td>0.0</td>\n",
              "      <td>10261.0</td>\n",
              "      <td>7619.0</td>\n",
              "      <td>202</td>\n",
              "      <td>4</td>\n",
              "      <td>6</td>\n",
              "      <td>22</td>\n",
              "      <td>4</td>\n",
              "      <td>5</td>\n",
              "      <td>155</td>\n",
              "      <td>1.654303e+09</td>\n",
              "      <td>231.102539</td>\n",
              "    </tr>\n",
              "  </tbody>\n",
              "</table>"
            ]
          },
          "metadata": {}
        }
      ]
    },
    {
      "cell_type": "code",
      "source": [
        "fastai.save_pickle('/tmp/to.pkl',to)"
      ],
      "metadata": {
        "id": "r-D5hdO3-ypC"
      },
      "execution_count": 51,
      "outputs": []
    },
    {
      "cell_type": "markdown",
      "source": [
        "# Creating a Decision Tree"
      ],
      "metadata": {
        "id": "knWgCrX_A0Ep"
      }
    },
    {
      "cell_type": "code",
      "source": [
        "to = fastai.load_pickle('/tmp/to.pkl')"
      ],
      "metadata": {
        "id": "rtc_YDw0ArMR"
      },
      "execution_count": 52,
      "outputs": []
    },
    {
      "cell_type": "code",
      "source": [
        "xs,y = to.train.xs,to.train.y\n",
        "valid_xs,valid_y = to.valid.xs,to.valid.y"
      ],
      "metadata": {
        "id": "CcGx27DMBMbc"
      },
      "execution_count": 53,
      "outputs": []
    },
    {
      "cell_type": "code",
      "source": [
        "m = DecisionTreeRegressor(max_leaf_nodes=16)\n",
        "m.fit(xs, y);"
      ],
      "metadata": {
        "id": "clTcBmpGBXv6"
      },
      "execution_count": 54,
      "outputs": []
    },
    {
      "cell_type": "markdown",
      "source": [
        "Here is a sample of a Decision Tree with just 16 nodes:"
      ],
      "metadata": {
        "id": "YxzzayblKLsa"
      }
    },
    {
      "cell_type": "code",
      "source": [
        "fastai.draw_tree(m, xs, size=16, leaves_parallel=True, precision=2)"
      ],
      "metadata": {
        "id": "nhXNnHk7CSmF",
        "colab": {
          "base_uri": "https://localhost:8080/",
          "height": 965
        },
        "outputId": "ae739f1b-e5e6-49cc-d5b6-ee47e9de196e"
      },
      "execution_count": 55,
      "outputs": [
        {
          "output_type": "execute_result",
          "data": {
            "text/plain": [
              "<graphviz.files.Source at 0x7f11a15ff510>"
            ],
            "image/svg+xml": "<?xml version=\"1.0\" encoding=\"UTF-8\" standalone=\"no\"?>\n<!DOCTYPE svg PUBLIC \"-//W3C//DTD SVG 1.1//EN\"\n \"http://www.w3.org/Graphics/SVG/1.1/DTD/svg11.dtd\">\n<!-- Generated by graphviz version 2.40.1 (20161225.0304)\n -->\n<!-- Title: Tree Pages: 1 -->\n<svg width=\"1152pt\" height=\"693pt\"\n viewBox=\"0.00 0.00 1152.00 692.96\" xmlns=\"http://www.w3.org/2000/svg\" xmlns:xlink=\"http://www.w3.org/1999/xlink\">\n<g id=\"graph0\" class=\"graph\" transform=\"scale(.4008 .4008) rotate(0) translate(4 1725.0824)\">\n<title>Tree</title>\n<polygon fill=\"#ffffff\" stroke=\"transparent\" points=\"-4,4 -4,-1725.0824 2870.5,-1725.0824 2870.5,4 -4,4\"/>\n<!-- 0 -->\n<g id=\"node1\" class=\"node\">\n<title>0</title>\n<path fill=\"#f4c8a8\" stroke=\"#000000\" d=\"M1328.5,-1654C1328.5,-1654 869.5,-1654 869.5,-1654 863.5,-1654 857.5,-1648 857.5,-1642 857.5,-1642 857.5,-1598 857.5,-1598 857.5,-1592 863.5,-1586 869.5,-1586 869.5,-1586 1328.5,-1586 1328.5,-1586 1334.5,-1586 1340.5,-1592 1340.5,-1598 1340.5,-1598 1340.5,-1642 1340.5,-1642 1340.5,-1648 1334.5,-1654 1328.5,-1654\"/>\n<text text-anchor=\"start\" x=\"865.5\" y=\"-1638.8\" font-family=\"Helvetica,sans-Serif\" font-size=\"14.00\" fill=\"#000000\">lastReportedPosition.milepostLocation.milepost.milepostNumber ≤ 257.9</text>\n<text text-anchor=\"start\" x=\"1018.5\" y=\"-1623.8\" font-family=\"Helvetica,sans-Serif\" font-size=\"14.00\" fill=\"#000000\">squared_error = 1168.14</text>\n<text text-anchor=\"start\" x=\"1043\" y=\"-1608.8\" font-family=\"Helvetica,sans-Serif\" font-size=\"14.00\" fill=\"#000000\">samples = 33168</text>\n<text text-anchor=\"start\" x=\"1050.5\" y=\"-1593.8\" font-family=\"Helvetica,sans-Serif\" font-size=\"14.00\" fill=\"#000000\">value = 257.21</text>\n</g>\n<!-- 1 -->\n<g id=\"node2\" class=\"node\">\n<title>1</title>\n<path fill=\"#fae7d9\" stroke=\"#000000\" d=\"M1073.5,-1346C1073.5,-1346 606.5,-1346 606.5,-1346 600.5,-1346 594.5,-1340 594.5,-1334 594.5,-1334 594.5,-1290 594.5,-1290 594.5,-1284 600.5,-1278 606.5,-1278 606.5,-1278 1073.5,-1278 1073.5,-1278 1079.5,-1278 1085.5,-1284 1085.5,-1290 1085.5,-1290 1085.5,-1334 1085.5,-1334 1085.5,-1340 1079.5,-1346 1073.5,-1346\"/>\n<text text-anchor=\"start\" x=\"602.5\" y=\"-1330.8\" font-family=\"Helvetica,sans-Serif\" font-size=\"14.00\" fill=\"#000000\">lastReportedPosition.milepostLocation.milepost.milepostNumber ≤ 233.67</text>\n<text text-anchor=\"start\" x=\"763.5\" y=\"-1315.8\" font-family=\"Helvetica,sans-Serif\" font-size=\"14.00\" fill=\"#000000\">squared_error = 380.06</text>\n<text text-anchor=\"start\" x=\"784\" y=\"-1300.8\" font-family=\"Helvetica,sans-Serif\" font-size=\"14.00\" fill=\"#000000\">samples = 16839</text>\n<text text-anchor=\"start\" x=\"796\" y=\"-1285.8\" font-family=\"Helvetica,sans-Serif\" font-size=\"14.00\" fill=\"#000000\">value = 231.1</text>\n</g>\n<!-- 0&#45;&gt;1 -->\n<g id=\"edge1\" class=\"edge\">\n<title>0&#45;&gt;1</title>\n<path fill=\"none\" stroke=\"#000000\" d=\"M1070.2929,-1585.8618C1022.647,-1529.2018 927.3624,-1415.8904 875.5442,-1354.2688\"/>\n<polygon fill=\"#000000\" stroke=\"#000000\" points=\"877.9505,-1351.6921 868.8357,-1346.2911 872.593,-1356.1974 877.9505,-1351.6921\"/>\n<text text-anchor=\"middle\" x=\"866.6832\" y=\"-1367.4983\" font-family=\"Helvetica,sans-Serif\" font-size=\"14.00\" fill=\"#000000\">True</text>\n</g>\n<!-- 2 -->\n<g id=\"node15\" class=\"node\">\n<title>2</title>\n<path fill=\"#eda876\" stroke=\"#000000\" d=\"M1825.5,-1346C1825.5,-1346 1358.5,-1346 1358.5,-1346 1352.5,-1346 1346.5,-1340 1346.5,-1334 1346.5,-1334 1346.5,-1290 1346.5,-1290 1346.5,-1284 1352.5,-1278 1358.5,-1278 1358.5,-1278 1825.5,-1278 1825.5,-1278 1831.5,-1278 1837.5,-1284 1837.5,-1290 1837.5,-1290 1837.5,-1334 1837.5,-1334 1837.5,-1340 1831.5,-1346 1825.5,-1346\"/>\n<text text-anchor=\"start\" x=\"1354.5\" y=\"-1330.8\" font-family=\"Helvetica,sans-Serif\" font-size=\"14.00\" fill=\"#000000\">lastReportedPosition.milepostLocation.milepost.milepostNumber ≤ 283.44</text>\n<text text-anchor=\"start\" x=\"1515.5\" y=\"-1315.8\" font-family=\"Helvetica,sans-Serif\" font-size=\"14.00\" fill=\"#000000\">squared_error = 553.22</text>\n<text text-anchor=\"start\" x=\"1536\" y=\"-1300.8\" font-family=\"Helvetica,sans-Serif\" font-size=\"14.00\" fill=\"#000000\">samples = 16329</text>\n<text text-anchor=\"start\" x=\"1543.5\" y=\"-1285.8\" font-family=\"Helvetica,sans-Serif\" font-size=\"14.00\" fill=\"#000000\">value = 284.13</text>\n</g>\n<!-- 0&#45;&gt;2 -->\n<g id=\"edge14\" class=\"edge\">\n<title>0&#45;&gt;2</title>\n<path fill=\"none\" stroke=\"#000000\" d=\"M1153.6433,-1585.8618C1245.7534,-1528.3163 1431.3987,-1412.3351 1528.9055,-1351.4181\"/>\n<polygon fill=\"#000000\" stroke=\"#000000\" points=\"1530.8617,-1354.3229 1537.4882,-1346.0561 1527.1527,-1348.3862 1530.8617,-1354.3229\"/>\n<text text-anchor=\"middle\" x=\"1531.8623\" y=\"-1366.7148\" font-family=\"Helvetica,sans-Serif\" font-size=\"14.00\" fill=\"#000000\">False</text>\n</g>\n<!-- 5 -->\n<g id=\"node3\" class=\"node\">\n<title>5</title>\n<path fill=\"#fcf2eb\" stroke=\"#000000\" d=\"M720.5,-1038C720.5,-1038 473.5,-1038 473.5,-1038 467.5,-1038 461.5,-1032 461.5,-1026 461.5,-1026 461.5,-982 461.5,-982 461.5,-976 467.5,-970 473.5,-970 473.5,-970 720.5,-970 720.5,-970 726.5,-970 732.5,-976 732.5,-982 732.5,-982 732.5,-1026 732.5,-1026 732.5,-1032 726.5,-1038 720.5,-1038\"/>\n<text text-anchor=\"start\" x=\"469.5\" y=\"-1022.8\" font-family=\"Helvetica,sans-Serif\" font-size=\"14.00\" fill=\"#000000\">lastReportedPosition.speedMPH ≤ 32.5</text>\n<text text-anchor=\"start\" x=\"520.5\" y=\"-1007.8\" font-family=\"Helvetica,sans-Serif\" font-size=\"14.00\" fill=\"#000000\">squared_error = 206.78</text>\n<text text-anchor=\"start\" x=\"545\" y=\"-992.8\" font-family=\"Helvetica,sans-Serif\" font-size=\"14.00\" fill=\"#000000\">samples = 9379</text>\n<text text-anchor=\"start\" x=\"548.5\" y=\"-977.8\" font-family=\"Helvetica,sans-Serif\" font-size=\"14.00\" fill=\"#000000\">value = 221.34</text>\n</g>\n<!-- 1&#45;&gt;5 -->\n<g id=\"edge2\" class=\"edge\">\n<title>1&#45;&gt;5</title>\n<path fill=\"none\" stroke=\"#000000\" d=\"M813.0663,-1277.8618C768.3637,-1221.2018 678.9655,-1107.8904 630.3484,-1046.2688\"/>\n<polygon fill=\"#000000\" stroke=\"#000000\" points=\"632.9961,-1043.974 624.0543,-1038.2911 627.5006,-1048.3098 632.9961,-1043.974\"/>\n</g>\n<!-- 6 -->\n<g id=\"node10\" class=\"node\">\n<title>6</title>\n<path fill=\"#f7d8c2\" stroke=\"#000000\" d=\"M912.5,-1038C912.5,-1038 767.5,-1038 767.5,-1038 761.5,-1038 755.5,-1032 755.5,-1026 755.5,-1026 755.5,-982 755.5,-982 755.5,-976 761.5,-970 767.5,-970 767.5,-970 912.5,-970 912.5,-970 918.5,-970 924.5,-976 924.5,-982 924.5,-982 924.5,-1026 924.5,-1026 924.5,-1032 918.5,-1038 912.5,-1038\"/>\n<text text-anchor=\"start\" x=\"800\" y=\"-1022.8\" font-family=\"Helvetica,sans-Serif\" font-size=\"14.00\" fill=\"#000000\">mpIncr ≤ 1.5</text>\n<text text-anchor=\"start\" x=\"763.5\" y=\"-1007.8\" font-family=\"Helvetica,sans-Serif\" font-size=\"14.00\" fill=\"#000000\">squared_error = 327.33</text>\n<text text-anchor=\"start\" x=\"788\" y=\"-992.8\" font-family=\"Helvetica,sans-Serif\" font-size=\"14.00\" fill=\"#000000\">samples = 7460</text>\n<text text-anchor=\"start\" x=\"791.5\" y=\"-977.8\" font-family=\"Helvetica,sans-Serif\" font-size=\"14.00\" fill=\"#000000\">value = 243.38</text>\n</g>\n<!-- 1&#45;&gt;6 -->\n<g id=\"edge9\" class=\"edge\">\n<title>1&#45;&gt;6</title>\n<path fill=\"none\" stroke=\"#000000\" d=\"M840,-1277.8618C840,-1221.8956 840,-1110.6569 840,-1048.5555\"/>\n<polygon fill=\"#000000\" stroke=\"#000000\" points=\"843.5001,-1048.2911 840,-1038.2911 836.5001,-1048.2911 843.5001,-1048.2911\"/>\n</g>\n<!-- 19 -->\n<g id=\"node4\" class=\"node\">\n<title>19</title>\n<path fill=\"#fdf7f2\" stroke=\"#000000\" d=\"M482.5,-729C482.5,-729 15.5,-729 15.5,-729 9.5,-729 3.5,-723 3.5,-717 3.5,-717 3.5,-673 3.5,-673 3.5,-667 9.5,-661 15.5,-661 15.5,-661 482.5,-661 482.5,-661 488.5,-661 494.5,-667 494.5,-673 494.5,-673 494.5,-717 494.5,-717 494.5,-723 488.5,-729 482.5,-729\"/>\n<text text-anchor=\"start\" x=\"11.5\" y=\"-713.8\" font-family=\"Helvetica,sans-Serif\" font-size=\"14.00\" fill=\"#000000\">lastReportedPosition.milepostLocation.milepost.milepostNumber ≤ 221.26</text>\n<text text-anchor=\"start\" x=\"172.5\" y=\"-698.8\" font-family=\"Helvetica,sans-Serif\" font-size=\"14.00\" fill=\"#000000\">squared_error = 131.36</text>\n<text text-anchor=\"start\" x=\"197\" y=\"-683.8\" font-family=\"Helvetica,sans-Serif\" font-size=\"14.00\" fill=\"#000000\">samples = 6267</text>\n<text text-anchor=\"start\" x=\"200.5\" y=\"-668.8\" font-family=\"Helvetica,sans-Serif\" font-size=\"14.00\" fill=\"#000000\">value = 217.35</text>\n</g>\n<!-- 5&#45;&gt;19 -->\n<g id=\"edge3\" class=\"edge\">\n<title>5&#45;&gt;19</title>\n<path fill=\"none\" stroke=\"#000000\" d=\"M558.4283,-969.751C493.9327,-912.4833 364.4707,-797.53 295.2112,-736.0324\"/>\n<polygon fill=\"#000000\" stroke=\"#000000\" points=\"297.2805,-733.1891 287.4789,-729.1666 292.6327,-738.4235 297.2805,-733.1891\"/>\n</g>\n<!-- 20 -->\n<g id=\"node7\" class=\"node\">\n<title>20</title>\n<path fill=\"#fae9dc\" stroke=\"#000000\" d=\"M669.5,-729C669.5,-729 524.5,-729 524.5,-729 518.5,-729 512.5,-723 512.5,-717 512.5,-717 512.5,-673 512.5,-673 512.5,-667 518.5,-661 524.5,-661 524.5,-661 669.5,-661 669.5,-661 675.5,-661 681.5,-667 681.5,-673 681.5,-673 681.5,-717 681.5,-717 681.5,-723 675.5,-729 669.5,-729\"/>\n<text text-anchor=\"start\" x=\"557\" y=\"-713.8\" font-family=\"Helvetica,sans-Serif\" font-size=\"14.00\" fill=\"#000000\">mpIncr ≤ 1.5</text>\n<text text-anchor=\"start\" x=\"520.5\" y=\"-698.8\" font-family=\"Helvetica,sans-Serif\" font-size=\"14.00\" fill=\"#000000\">squared_error = 262.21</text>\n<text text-anchor=\"start\" x=\"545\" y=\"-683.8\" font-family=\"Helvetica,sans-Serif\" font-size=\"14.00\" fill=\"#000000\">samples = 3112</text>\n<text text-anchor=\"start\" x=\"548.5\" y=\"-668.8\" font-family=\"Helvetica,sans-Serif\" font-size=\"14.00\" fill=\"#000000\">value = 229.36</text>\n</g>\n<!-- 5&#45;&gt;20 -->\n<g id=\"edge6\" class=\"edge\">\n<title>5&#45;&gt;20</title>\n<path fill=\"none\" stroke=\"#000000\" d=\"M597,-969.751C597,-913.603 597,-802.0032 597,-739.7001\"/>\n<polygon fill=\"#000000\" stroke=\"#000000\" points=\"600.5001,-739.4024 597,-729.4024 593.5001,-739.4025 600.5001,-739.4024\"/>\n</g>\n<!-- 23 -->\n<g id=\"node5\" class=\"node\">\n<title>23</title>\n<path fill=\"#fefcfa\" stroke=\"#000000\" d=\"M140,-105.5C140,-105.5 12,-105.5 12,-105.5 6,-105.5 0,-99.5 0,-93.5 0,-93.5 0,-64.5 0,-64.5 0,-58.5 6,-52.5 12,-52.5 12,-52.5 140,-52.5 140,-52.5 146,-52.5 152,-58.5 152,-64.5 152,-64.5 152,-93.5 152,-93.5 152,-99.5 146,-105.5 140,-105.5\"/>\n<text text-anchor=\"start\" x=\"8\" y=\"-90.3\" font-family=\"Helvetica,sans-Serif\" font-size=\"14.00\" fill=\"#000000\">squared_error = 89.9</text>\n<text text-anchor=\"start\" x=\"24\" y=\"-75.3\" font-family=\"Helvetica,sans-Serif\" font-size=\"14.00\" fill=\"#000000\">samples = 4062</text>\n<text text-anchor=\"start\" x=\"27.5\" y=\"-60.3\" font-family=\"Helvetica,sans-Serif\" font-size=\"14.00\" fill=\"#000000\">value = 213.17</text>\n</g>\n<!-- 19&#45;&gt;23 -->\n<g id=\"edge4\" class=\"edge\">\n<title>19&#45;&gt;23</title>\n<path fill=\"none\" stroke=\"#000000\" d=\"M239.3281,-660.5612C209.1735,-553.1899 117.0477,-225.1582 86.1923,-115.2917\"/>\n<polygon fill=\"#000000\" stroke=\"#000000\" points=\"89.559,-114.3345 83.4854,-105.6533 82.8197,-116.2272 89.559,-114.3345\"/>\n</g>\n<!-- 24 -->\n<g id=\"node6\" class=\"node\">\n<title>24</title>\n<path fill=\"#fbeee4\" stroke=\"#000000\" d=\"M319.5,-105.5C319.5,-105.5 182.5,-105.5 182.5,-105.5 176.5,-105.5 170.5,-99.5 170.5,-93.5 170.5,-93.5 170.5,-64.5 170.5,-64.5 170.5,-58.5 176.5,-52.5 182.5,-52.5 182.5,-52.5 319.5,-52.5 319.5,-52.5 325.5,-52.5 331.5,-58.5 331.5,-64.5 331.5,-64.5 331.5,-93.5 331.5,-93.5 331.5,-99.5 325.5,-105.5 319.5,-105.5\"/>\n<text text-anchor=\"start\" x=\"178.5\" y=\"-90.3\" font-family=\"Helvetica,sans-Serif\" font-size=\"14.00\" fill=\"#000000\">squared_error = 116.4</text>\n<text text-anchor=\"start\" x=\"199\" y=\"-75.3\" font-family=\"Helvetica,sans-Serif\" font-size=\"14.00\" fill=\"#000000\">samples = 2205</text>\n<text text-anchor=\"start\" x=\"202.5\" y=\"-60.3\" font-family=\"Helvetica,sans-Serif\" font-size=\"14.00\" fill=\"#000000\">value = 225.05</text>\n</g>\n<!-- 19&#45;&gt;24 -->\n<g id=\"edge5\" class=\"edge\">\n<title>19&#45;&gt;24</title>\n<path fill=\"none\" stroke=\"#000000\" d=\"M249.1118,-660.5612C249.4597,-553.4062 250.5212,-226.4787 250.88,-115.9582\"/>\n<polygon fill=\"#000000\" stroke=\"#000000\" points=\"254.3809,-115.6647 250.9135,-105.6533 247.3809,-115.6419 254.3809,-115.6647\"/>\n</g>\n<!-- 21 -->\n<g id=\"node8\" class=\"node\">\n<title>21</title>\n<path fill=\"#ffffff\" stroke=\"#000000\" d=\"M491,-105.5C491,-105.5 363,-105.5 363,-105.5 357,-105.5 351,-99.5 351,-93.5 351,-93.5 351,-64.5 351,-64.5 351,-58.5 357,-52.5 363,-52.5 363,-52.5 491,-52.5 491,-52.5 497,-52.5 503,-58.5 503,-64.5 503,-64.5 503,-93.5 503,-93.5 503,-99.5 497,-105.5 491,-105.5\"/>\n<text text-anchor=\"start\" x=\"359\" y=\"-90.3\" font-family=\"Helvetica,sans-Serif\" font-size=\"14.00\" fill=\"#000000\">squared_error = 45.4</text>\n<text text-anchor=\"start\" x=\"375\" y=\"-75.3\" font-family=\"Helvetica,sans-Serif\" font-size=\"14.00\" fill=\"#000000\">samples = 1073</text>\n<text text-anchor=\"start\" x=\"383\" y=\"-60.3\" font-family=\"Helvetica,sans-Serif\" font-size=\"14.00\" fill=\"#000000\">value = 210.6</text>\n</g>\n<!-- 20&#45;&gt;21 -->\n<g id=\"edge7\" class=\"edge\">\n<title>20&#45;&gt;21</title>\n<path fill=\"none\" stroke=\"#000000\" d=\"M587.4958,-660.5612C557.8939,-553.2981 467.5182,-225.8187 437.1074,-115.6243\"/>\n<polygon fill=\"#000000\" stroke=\"#000000\" points=\"440.3899,-114.3618 434.3556,-105.6533 433.6421,-116.2241 440.3899,-114.3618\"/>\n</g>\n<!-- 22 -->\n<g id=\"node9\" class=\"node\">\n<title>22</title>\n<path fill=\"#f8ddca\" stroke=\"#000000\" d=\"M661,-105.5C661,-105.5 533,-105.5 533,-105.5 527,-105.5 521,-99.5 521,-93.5 521,-93.5 521,-64.5 521,-64.5 521,-58.5 527,-52.5 533,-52.5 533,-52.5 661,-52.5 661,-52.5 667,-52.5 673,-58.5 673,-64.5 673,-64.5 673,-93.5 673,-93.5 673,-99.5 667,-105.5 661,-105.5\"/>\n<text text-anchor=\"start\" x=\"529\" y=\"-90.3\" font-family=\"Helvetica,sans-Serif\" font-size=\"14.00\" fill=\"#000000\">squared_error = 93.4</text>\n<text text-anchor=\"start\" x=\"545\" y=\"-75.3\" font-family=\"Helvetica,sans-Serif\" font-size=\"14.00\" fill=\"#000000\">samples = 2039</text>\n<text text-anchor=\"start\" x=\"548.5\" y=\"-60.3\" font-family=\"Helvetica,sans-Serif\" font-size=\"14.00\" fill=\"#000000\">value = 239.24</text>\n</g>\n<!-- 20&#45;&gt;22 -->\n<g id=\"edge8\" class=\"edge\">\n<title>20&#45;&gt;22</title>\n<path fill=\"none\" stroke=\"#000000\" d=\"M597,-660.5612C597,-553.4062 597,-226.4787 597,-115.9582\"/>\n<polygon fill=\"#000000\" stroke=\"#000000\" points=\"600.5001,-115.6533 597,-105.6533 593.5001,-115.6534 600.5001,-115.6533\"/>\n</g>\n<!-- 11 -->\n<g id=\"node11\" class=\"node\">\n<title>11</title>\n<path fill=\"#fbeade\" stroke=\"#000000\" d=\"M840.5,-105.5C840.5,-105.5 703.5,-105.5 703.5,-105.5 697.5,-105.5 691.5,-99.5 691.5,-93.5 691.5,-93.5 691.5,-64.5 691.5,-64.5 691.5,-58.5 697.5,-52.5 703.5,-52.5 703.5,-52.5 840.5,-52.5 840.5,-52.5 846.5,-52.5 852.5,-58.5 852.5,-64.5 852.5,-64.5 852.5,-93.5 852.5,-93.5 852.5,-99.5 846.5,-105.5 840.5,-105.5\"/>\n<text text-anchor=\"start\" x=\"699.5\" y=\"-90.3\" font-family=\"Helvetica,sans-Serif\" font-size=\"14.00\" fill=\"#000000\">squared_error = 97.73</text>\n<text text-anchor=\"start\" x=\"720\" y=\"-75.3\" font-family=\"Helvetica,sans-Serif\" font-size=\"14.00\" fill=\"#000000\">samples = 3091</text>\n<text text-anchor=\"start\" x=\"723.5\" y=\"-60.3\" font-family=\"Helvetica,sans-Serif\" font-size=\"14.00\" fill=\"#000000\">value = 228.36</text>\n</g>\n<!-- 6&#45;&gt;11 -->\n<g id=\"edge10\" class=\"edge\">\n<title>6&#45;&gt;11</title>\n<path fill=\"none\" stroke=\"#000000\" d=\"M836.2611,-969.7271C828.2191,-896.0085 810,-729 810,-729 810,-729 782.1795,-253.1238 774.1471,-115.7274\"/>\n<polygon fill=\"#000000\" stroke=\"#000000\" points=\"777.6382,-115.4712 773.5605,-105.6926 770.6502,-115.8798 777.6382,-115.4712\"/>\n</g>\n<!-- 12 -->\n<g id=\"node12\" class=\"node\">\n<title>12</title>\n<path fill=\"#f4cbae\" stroke=\"#000000\" d=\"M1078.5,-729C1078.5,-729 831.5,-729 831.5,-729 825.5,-729 819.5,-723 819.5,-717 819.5,-717 819.5,-673 819.5,-673 819.5,-667 825.5,-661 831.5,-661 831.5,-661 1078.5,-661 1078.5,-661 1084.5,-661 1090.5,-667 1090.5,-673 1090.5,-673 1090.5,-717 1090.5,-717 1090.5,-723 1084.5,-729 1078.5,-729\"/>\n<text text-anchor=\"start\" x=\"827.5\" y=\"-713.8\" font-family=\"Helvetica,sans-Serif\" font-size=\"14.00\" fill=\"#000000\">lastReportedPosition.speedMPH ≤ 13.5</text>\n<text text-anchor=\"start\" x=\"878.5\" y=\"-698.8\" font-family=\"Helvetica,sans-Serif\" font-size=\"14.00\" fill=\"#000000\">squared_error = 217.26</text>\n<text text-anchor=\"start\" x=\"903\" y=\"-683.8\" font-family=\"Helvetica,sans-Serif\" font-size=\"14.00\" fill=\"#000000\">samples = 4369</text>\n<text text-anchor=\"start\" x=\"911\" y=\"-668.8\" font-family=\"Helvetica,sans-Serif\" font-size=\"14.00\" fill=\"#000000\">value = 254.0</text>\n</g>\n<!-- 6&#45;&gt;12 -->\n<g id=\"edge11\" class=\"edge\">\n<title>6&#45;&gt;12</title>\n<path fill=\"none\" stroke=\"#000000\" d=\"M852.7464,-969.751C873.7292,-913.371 915.5204,-801.0799 938.6505,-738.9303\"/>\n<polygon fill=\"#000000\" stroke=\"#000000\" points=\"941.9887,-739.9952 942.1965,-729.4024 935.4283,-737.5536 941.9887,-739.9952\"/>\n</g>\n<!-- 15 -->\n<g id=\"node13\" class=\"node\">\n<title>15</title>\n<path fill=\"#f7d9c4\" stroke=\"#000000\" d=\"M1027.5,-105.5C1027.5,-105.5 882.5,-105.5 882.5,-105.5 876.5,-105.5 870.5,-99.5 870.5,-93.5 870.5,-93.5 870.5,-64.5 870.5,-64.5 870.5,-58.5 876.5,-52.5 882.5,-52.5 882.5,-52.5 1027.5,-52.5 1027.5,-52.5 1033.5,-52.5 1039.5,-58.5 1039.5,-64.5 1039.5,-64.5 1039.5,-93.5 1039.5,-93.5 1039.5,-99.5 1033.5,-105.5 1027.5,-105.5\"/>\n<text text-anchor=\"start\" x=\"878.5\" y=\"-90.3\" font-family=\"Helvetica,sans-Serif\" font-size=\"14.00\" fill=\"#000000\">squared_error = 123.08</text>\n<text text-anchor=\"start\" x=\"903\" y=\"-75.3\" font-family=\"Helvetica,sans-Serif\" font-size=\"14.00\" fill=\"#000000\">samples = 1994</text>\n<text text-anchor=\"start\" x=\"906.5\" y=\"-60.3\" font-family=\"Helvetica,sans-Serif\" font-size=\"14.00\" fill=\"#000000\">value = 242.21</text>\n</g>\n<!-- 12&#45;&gt;15 -->\n<g id=\"edge12\" class=\"edge\">\n<title>12&#45;&gt;15</title>\n<path fill=\"none\" stroke=\"#000000\" d=\"M955,-660.5612C955,-553.4062 955,-226.4787 955,-115.9582\"/>\n<polygon fill=\"#000000\" stroke=\"#000000\" points=\"958.5001,-115.6533 955,-105.6533 951.5001,-115.6534 958.5001,-115.6533\"/>\n</g>\n<!-- 16 -->\n<g id=\"node14\" class=\"node\">\n<title>16</title>\n<path fill=\"#f2c09c\" stroke=\"#000000\" d=\"M1206.5,-105.5C1206.5,-105.5 1069.5,-105.5 1069.5,-105.5 1063.5,-105.5 1057.5,-99.5 1057.5,-93.5 1057.5,-93.5 1057.5,-64.5 1057.5,-64.5 1057.5,-58.5 1063.5,-52.5 1069.5,-52.5 1069.5,-52.5 1206.5,-52.5 1206.5,-52.5 1212.5,-52.5 1218.5,-58.5 1218.5,-64.5 1218.5,-64.5 1218.5,-93.5 1218.5,-93.5 1218.5,-99.5 1212.5,-105.5 1206.5,-105.5\"/>\n<text text-anchor=\"start\" x=\"1065.5\" y=\"-90.3\" font-family=\"Helvetica,sans-Serif\" font-size=\"14.00\" fill=\"#000000\">squared_error = 81.54</text>\n<text text-anchor=\"start\" x=\"1086\" y=\"-75.3\" font-family=\"Helvetica,sans-Serif\" font-size=\"14.00\" fill=\"#000000\">samples = 2375</text>\n<text text-anchor=\"start\" x=\"1094\" y=\"-60.3\" font-family=\"Helvetica,sans-Serif\" font-size=\"14.00\" fill=\"#000000\">value = 263.9</text>\n</g>\n<!-- 12&#45;&gt;16 -->\n<g id=\"edge13\" class=\"edge\">\n<title>12&#45;&gt;16</title>\n<path fill=\"none\" stroke=\"#000000\" d=\"M965.231,-660.5612C997.1286,-553.1899 1094.5796,-225.1582 1127.2185,-115.2917\"/>\n<polygon fill=\"#000000\" stroke=\"#000000\" points=\"1130.5891,-116.236 1130.0819,-105.6533 1123.879,-114.2425 1130.5891,-116.236\"/>\n</g>\n<!-- 3 -->\n<g id=\"node16\" class=\"node\">\n<title>3</title>\n<path fill=\"#f1ba93\" stroke=\"#000000\" d=\"M1664.5,-1038C1664.5,-1038 1519.5,-1038 1519.5,-1038 1513.5,-1038 1507.5,-1032 1507.5,-1026 1507.5,-1026 1507.5,-982 1507.5,-982 1507.5,-976 1513.5,-970 1519.5,-970 1519.5,-970 1664.5,-970 1664.5,-970 1670.5,-970 1676.5,-976 1676.5,-982 1676.5,-982 1676.5,-1026 1676.5,-1026 1676.5,-1032 1670.5,-1038 1664.5,-1038\"/>\n<text text-anchor=\"start\" x=\"1552\" y=\"-1022.8\" font-family=\"Helvetica,sans-Serif\" font-size=\"14.00\" fill=\"#000000\">mpIncr ≤ 1.5</text>\n<text text-anchor=\"start\" x=\"1515.5\" y=\"-1007.8\" font-family=\"Helvetica,sans-Serif\" font-size=\"14.00\" fill=\"#000000\">squared_error = 411.75</text>\n<text text-anchor=\"start\" x=\"1540\" y=\"-992.8\" font-family=\"Helvetica,sans-Serif\" font-size=\"14.00\" fill=\"#000000\">samples = 7056</text>\n<text text-anchor=\"start\" x=\"1543.5\" y=\"-977.8\" font-family=\"Helvetica,sans-Serif\" font-size=\"14.00\" fill=\"#000000\">value = 268.32</text>\n</g>\n<!-- 2&#45;&gt;3 -->\n<g id=\"edge15\" class=\"edge\">\n<title>2&#45;&gt;3</title>\n<path fill=\"none\" stroke=\"#000000\" d=\"M1592,-1277.8618C1592,-1221.8956 1592,-1110.6569 1592,-1048.5555\"/>\n<polygon fill=\"#000000\" stroke=\"#000000\" points=\"1595.5001,-1048.2911 1592,-1038.2911 1588.5001,-1048.2911 1595.5001,-1048.2911\"/>\n</g>\n<!-- 4 -->\n<g id=\"node25\" class=\"node\">\n<title>4</title>\n<path fill=\"#ea995f\" stroke=\"#000000\" d=\"M2299.5,-1038C2299.5,-1038 2154.5,-1038 2154.5,-1038 2148.5,-1038 2142.5,-1032 2142.5,-1026 2142.5,-1026 2142.5,-982 2142.5,-982 2142.5,-976 2148.5,-970 2154.5,-970 2154.5,-970 2299.5,-970 2299.5,-970 2305.5,-970 2311.5,-976 2311.5,-982 2311.5,-982 2311.5,-1026 2311.5,-1026 2311.5,-1032 2305.5,-1038 2299.5,-1038\"/>\n<text text-anchor=\"start\" x=\"2187\" y=\"-1022.8\" font-family=\"Helvetica,sans-Serif\" font-size=\"14.00\" fill=\"#000000\">mpIncr ≤ 1.5</text>\n<text text-anchor=\"start\" x=\"2150.5\" y=\"-1007.8\" font-family=\"Helvetica,sans-Serif\" font-size=\"14.00\" fill=\"#000000\">squared_error = 326.05</text>\n<text text-anchor=\"start\" x=\"2175\" y=\"-992.8\" font-family=\"Helvetica,sans-Serif\" font-size=\"14.00\" fill=\"#000000\">samples = 9273</text>\n<text text-anchor=\"start\" x=\"2178.5\" y=\"-977.8\" font-family=\"Helvetica,sans-Serif\" font-size=\"14.00\" fill=\"#000000\">value = 296.16</text>\n</g>\n<!-- 2&#45;&gt;4 -->\n<g id=\"edge24\" class=\"edge\">\n<title>2&#45;&gt;4</title>\n<path fill=\"none\" stroke=\"#000000\" d=\"M1662.3823,-1277.8618C1781.6199,-1220.0269 2022.549,-1103.1668 2147.6188,-1042.503\"/>\n<polygon fill=\"#000000\" stroke=\"#000000\" points=\"2149.317,-1045.5694 2156.787,-1038.0561 2146.2621,-1039.2711 2149.317,-1045.5694\"/>\n</g>\n<!-- 7 -->\n<g id=\"node17\" class=\"node\">\n<title>7</title>\n<path fill=\"#f5cdb1\" stroke=\"#000000\" d=\"M1626.5,-729C1626.5,-729 1159.5,-729 1159.5,-729 1153.5,-729 1147.5,-723 1147.5,-717 1147.5,-717 1147.5,-673 1147.5,-673 1147.5,-667 1153.5,-661 1159.5,-661 1159.5,-661 1626.5,-661 1626.5,-661 1632.5,-661 1638.5,-667 1638.5,-673 1638.5,-673 1638.5,-717 1638.5,-717 1638.5,-723 1632.5,-729 1626.5,-729\"/>\n<text text-anchor=\"start\" x=\"1155.5\" y=\"-713.8\" font-family=\"Helvetica,sans-Serif\" font-size=\"14.00\" fill=\"#000000\">lastReportedPosition.milepostLocation.milepost.milepostNumber ≤ 270.87</text>\n<text text-anchor=\"start\" x=\"1320.5\" y=\"-698.8\" font-family=\"Helvetica,sans-Serif\" font-size=\"14.00\" fill=\"#000000\">squared_error = 94.02</text>\n<text text-anchor=\"start\" x=\"1341\" y=\"-683.8\" font-family=\"Helvetica,sans-Serif\" font-size=\"14.00\" fill=\"#000000\">samples = 3451</text>\n<text text-anchor=\"start\" x=\"1344.5\" y=\"-668.8\" font-family=\"Helvetica,sans-Serif\" font-size=\"14.00\" fill=\"#000000\">value = 252.69</text>\n</g>\n<!-- 3&#45;&gt;7 -->\n<g id=\"edge16\" class=\"edge\">\n<title>3&#45;&gt;7</title>\n<path fill=\"none\" stroke=\"#000000\" d=\"M1569.9432,-969.751C1533.4843,-913.139 1460.721,-800.1548 1420.7992,-738.1656\"/>\n<polygon fill=\"#000000\" stroke=\"#000000\" points=\"1423.5127,-735.9147 1415.1556,-729.4024 1417.6275,-739.7049 1423.5127,-735.9147\"/>\n</g>\n<!-- 8 -->\n<g id=\"node20\" class=\"node\">\n<title>8</title>\n<path fill=\"#eda977\" stroke=\"#000000\" d=\"M1915.5,-729C1915.5,-729 1668.5,-729 1668.5,-729 1662.5,-729 1656.5,-723 1656.5,-717 1656.5,-717 1656.5,-673 1656.5,-673 1656.5,-667 1662.5,-661 1668.5,-661 1668.5,-661 1915.5,-661 1915.5,-661 1921.5,-661 1927.5,-667 1927.5,-673 1927.5,-673 1927.5,-717 1927.5,-717 1927.5,-723 1921.5,-729 1915.5,-729\"/>\n<text text-anchor=\"start\" x=\"1664.5\" y=\"-713.8\" font-family=\"Helvetica,sans-Serif\" font-size=\"14.00\" fill=\"#000000\">lastReportedPosition.speedMPH ≤ 10.5</text>\n<text text-anchor=\"start\" x=\"1715.5\" y=\"-698.8\" font-family=\"Helvetica,sans-Serif\" font-size=\"14.00\" fill=\"#000000\">squared_error = 257.92</text>\n<text text-anchor=\"start\" x=\"1740\" y=\"-683.8\" font-family=\"Helvetica,sans-Serif\" font-size=\"14.00\" fill=\"#000000\">samples = 3605</text>\n<text text-anchor=\"start\" x=\"1743.5\" y=\"-668.8\" font-family=\"Helvetica,sans-Serif\" font-size=\"14.00\" fill=\"#000000\">value = 283.29</text>\n</g>\n<!-- 3&#45;&gt;8 -->\n<g id=\"edge19\" class=\"edge\">\n<title>3&#45;&gt;8</title>\n<path fill=\"none\" stroke=\"#000000\" d=\"M1614.1677,-969.751C1650.8097,-913.139 1723.9386,-800.1548 1764.0611,-738.1656\"/>\n<polygon fill=\"#000000\" stroke=\"#000000\" points=\"1767.2376,-739.6992 1769.7331,-729.4024 1761.3611,-735.8956 1767.2376,-739.6992\"/>\n</g>\n<!-- 25 -->\n<g id=\"node18\" class=\"node\">\n<title>25</title>\n<path fill=\"#f6d5bd\" stroke=\"#000000\" d=\"M1385.5,-105.5C1385.5,-105.5 1248.5,-105.5 1248.5,-105.5 1242.5,-105.5 1236.5,-99.5 1236.5,-93.5 1236.5,-93.5 1236.5,-64.5 1236.5,-64.5 1236.5,-58.5 1242.5,-52.5 1248.5,-52.5 1248.5,-52.5 1385.5,-52.5 1385.5,-52.5 1391.5,-52.5 1397.5,-58.5 1397.5,-64.5 1397.5,-64.5 1397.5,-93.5 1397.5,-93.5 1397.5,-99.5 1391.5,-105.5 1385.5,-105.5\"/>\n<text text-anchor=\"start\" x=\"1244.5\" y=\"-90.3\" font-family=\"Helvetica,sans-Serif\" font-size=\"14.00\" fill=\"#000000\">squared_error = 56.58</text>\n<text text-anchor=\"start\" x=\"1265\" y=\"-75.3\" font-family=\"Helvetica,sans-Serif\" font-size=\"14.00\" fill=\"#000000\">samples = 1777</text>\n<text text-anchor=\"start\" x=\"1268.5\" y=\"-60.3\" font-family=\"Helvetica,sans-Serif\" font-size=\"14.00\" fill=\"#000000\">value = 246.23</text>\n</g>\n<!-- 7&#45;&gt;25 -->\n<g id=\"edge17\" class=\"edge\">\n<title>7&#45;&gt;25</title>\n<path fill=\"none\" stroke=\"#000000\" d=\"M1388.7511,-660.5612C1375.5173,-553.2981 1335.114,-225.8187 1321.5186,-115.6243\"/>\n<polygon fill=\"#000000\" stroke=\"#000000\" points=\"1324.9866,-115.1495 1320.2884,-105.6533 1318.0393,-116.0067 1324.9866,-115.1495\"/>\n</g>\n<!-- 26 -->\n<g id=\"node19\" class=\"node\">\n<title>26</title>\n<path fill=\"#f3c5a4\" stroke=\"#000000\" d=\"M1564.5,-105.5C1564.5,-105.5 1427.5,-105.5 1427.5,-105.5 1421.5,-105.5 1415.5,-99.5 1415.5,-93.5 1415.5,-93.5 1415.5,-64.5 1415.5,-64.5 1415.5,-58.5 1421.5,-52.5 1427.5,-52.5 1427.5,-52.5 1564.5,-52.5 1564.5,-52.5 1570.5,-52.5 1576.5,-58.5 1576.5,-64.5 1576.5,-64.5 1576.5,-93.5 1576.5,-93.5 1576.5,-99.5 1570.5,-105.5 1564.5,-105.5\"/>\n<text text-anchor=\"start\" x=\"1423.5\" y=\"-90.3\" font-family=\"Helvetica,sans-Serif\" font-size=\"14.00\" fill=\"#000000\">squared_error = 42.65</text>\n<text text-anchor=\"start\" x=\"1444\" y=\"-75.3\" font-family=\"Helvetica,sans-Serif\" font-size=\"14.00\" fill=\"#000000\">samples = 1674</text>\n<text text-anchor=\"start\" x=\"1447.5\" y=\"-60.3\" font-family=\"Helvetica,sans-Serif\" font-size=\"14.00\" fill=\"#000000\">value = 259.54</text>\n</g>\n<!-- 7&#45;&gt;26 -->\n<g id=\"edge18\" class=\"edge\">\n<title>7&#45;&gt;26</title>\n<path fill=\"none\" stroke=\"#000000\" d=\"M1398.7584,-660.5612C1416.6937,-553.2981 1471.4508,-225.8187 1489.8761,-115.6243\"/>\n<polygon fill=\"#000000\" stroke=\"#000000\" points=\"1493.3462,-116.0936 1491.5434,-105.6533 1486.442,-114.9391 1493.3462,-116.0936\"/>\n</g>\n<!-- 17 -->\n<g id=\"node21\" class=\"node\">\n<title>17</title>\n<path fill=\"#f1bc96\" stroke=\"#000000\" d=\"M1751.5,-105.5C1751.5,-105.5 1606.5,-105.5 1606.5,-105.5 1600.5,-105.5 1594.5,-99.5 1594.5,-93.5 1594.5,-93.5 1594.5,-64.5 1594.5,-64.5 1594.5,-58.5 1600.5,-52.5 1606.5,-52.5 1606.5,-52.5 1751.5,-52.5 1751.5,-52.5 1757.5,-52.5 1763.5,-58.5 1763.5,-64.5 1763.5,-64.5 1763.5,-93.5 1763.5,-93.5 1763.5,-99.5 1757.5,-105.5 1751.5,-105.5\"/>\n<text text-anchor=\"start\" x=\"1602.5\" y=\"-90.3\" font-family=\"Helvetica,sans-Serif\" font-size=\"14.00\" fill=\"#000000\">squared_error = 129.18</text>\n<text text-anchor=\"start\" x=\"1627\" y=\"-75.3\" font-family=\"Helvetica,sans-Serif\" font-size=\"14.00\" fill=\"#000000\">samples = 1247</text>\n<text text-anchor=\"start\" x=\"1630.5\" y=\"-60.3\" font-family=\"Helvetica,sans-Serif\" font-size=\"14.00\" fill=\"#000000\">value = 267.06</text>\n</g>\n<!-- 8&#45;&gt;17 -->\n<g id=\"edge20\" class=\"edge\">\n<title>8&#45;&gt;17</title>\n<path fill=\"none\" stroke=\"#000000\" d=\"M1780.2849,-660.8517C1755.0865,-587.4012 1698,-421 1698,-421 1698,-421 1685.9397,-203.914 1681.0363,-115.6532\"/>\n<polygon fill=\"#000000\" stroke=\"#000000\" points=\"1684.5245,-115.342 1680.4751,-105.5516 1677.5353,-115.7304 1684.5245,-115.342\"/>\n</g>\n<!-- 18 -->\n<g id=\"node22\" class=\"node\">\n<title>18</title>\n<path fill=\"#eb9f67\" stroke=\"#000000\" d=\"M2186.5,-421C2186.5,-421 1719.5,-421 1719.5,-421 1713.5,-421 1707.5,-415 1707.5,-409 1707.5,-409 1707.5,-365 1707.5,-365 1707.5,-359 1713.5,-353 1719.5,-353 1719.5,-353 2186.5,-353 2186.5,-353 2192.5,-353 2198.5,-359 2198.5,-365 2198.5,-365 2198.5,-409 2198.5,-409 2198.5,-415 2192.5,-421 2186.5,-421\"/>\n<text text-anchor=\"start\" x=\"1715.5\" y=\"-405.8\" font-family=\"Helvetica,sans-Serif\" font-size=\"14.00\" fill=\"#000000\">lastReportedPosition.milepostLocation.milepost.milepostNumber ≤ 269.66</text>\n<text text-anchor=\"start\" x=\"1876.5\" y=\"-390.8\" font-family=\"Helvetica,sans-Serif\" font-size=\"14.00\" fill=\"#000000\">squared_error = 113.09</text>\n<text text-anchor=\"start\" x=\"1901\" y=\"-375.8\" font-family=\"Helvetica,sans-Serif\" font-size=\"14.00\" fill=\"#000000\">samples = 2358</text>\n<text text-anchor=\"start\" x=\"1904.5\" y=\"-360.8\" font-family=\"Helvetica,sans-Serif\" font-size=\"14.00\" fill=\"#000000\">value = 291.87</text>\n</g>\n<!-- 8&#45;&gt;18 -->\n<g id=\"edge21\" class=\"edge\">\n<title>8&#45;&gt;18</title>\n<path fill=\"none\" stroke=\"#000000\" d=\"M1809.845,-660.8618C1839.2814,-604.5487 1897.9695,-492.2758 1930.3103,-430.4064\"/>\n<polygon fill=\"#000000\" stroke=\"#000000\" points=\"1933.5443,-431.7748 1935.0751,-421.2911 1927.3407,-428.532 1933.5443,-431.7748\"/>\n</g>\n<!-- 27 -->\n<g id=\"node23\" class=\"node\">\n<title>27</title>\n<path fill=\"#eda774\" stroke=\"#000000\" d=\"M1934.5,-105.5C1934.5,-105.5 1797.5,-105.5 1797.5,-105.5 1791.5,-105.5 1785.5,-99.5 1785.5,-93.5 1785.5,-93.5 1785.5,-64.5 1785.5,-64.5 1785.5,-58.5 1791.5,-52.5 1797.5,-52.5 1797.5,-52.5 1934.5,-52.5 1934.5,-52.5 1940.5,-52.5 1946.5,-58.5 1946.5,-64.5 1946.5,-64.5 1946.5,-93.5 1946.5,-93.5 1946.5,-99.5 1940.5,-105.5 1934.5,-105.5\"/>\n<text text-anchor=\"start\" x=\"1793.5\" y=\"-90.3\" font-family=\"Helvetica,sans-Serif\" font-size=\"14.00\" fill=\"#000000\">squared_error = 59.64</text>\n<text text-anchor=\"start\" x=\"1814\" y=\"-75.3\" font-family=\"Helvetica,sans-Serif\" font-size=\"14.00\" fill=\"#000000\">samples = 1259</text>\n<text text-anchor=\"start\" x=\"1817.5\" y=\"-60.3\" font-family=\"Helvetica,sans-Serif\" font-size=\"14.00\" fill=\"#000000\">value = 285.04</text>\n</g>\n<!-- 18&#45;&gt;27 -->\n<g id=\"edge22\" class=\"edge\">\n<title>18&#45;&gt;27</title>\n<path fill=\"none\" stroke=\"#000000\" d=\"M1943.3571,-352.8618C1926.8375,-294.3786 1893.2693,-175.5395 1876.3056,-115.4844\"/>\n<polygon fill=\"#000000\" stroke=\"#000000\" points=\"1879.6214,-114.3469 1873.5348,-105.6748 1872.8849,-116.2497 1879.6214,-114.3469\"/>\n</g>\n<!-- 28 -->\n<g id=\"node24\" class=\"node\">\n<title>28</title>\n<path fill=\"#e99559\" stroke=\"#000000\" d=\"M2113.5,-105.5C2113.5,-105.5 1976.5,-105.5 1976.5,-105.5 1970.5,-105.5 1964.5,-99.5 1964.5,-93.5 1964.5,-93.5 1964.5,-64.5 1964.5,-64.5 1964.5,-58.5 1970.5,-52.5 1976.5,-52.5 1976.5,-52.5 2113.5,-52.5 2113.5,-52.5 2119.5,-52.5 2125.5,-58.5 2125.5,-64.5 2125.5,-64.5 2125.5,-93.5 2125.5,-93.5 2125.5,-99.5 2119.5,-105.5 2113.5,-105.5\"/>\n<text text-anchor=\"start\" x=\"1972.5\" y=\"-90.3\" font-family=\"Helvetica,sans-Serif\" font-size=\"14.00\" fill=\"#000000\">squared_error = 59.64</text>\n<text text-anchor=\"start\" x=\"1993\" y=\"-75.3\" font-family=\"Helvetica,sans-Serif\" font-size=\"14.00\" fill=\"#000000\">samples = 1099</text>\n<text text-anchor=\"start\" x=\"2001\" y=\"-60.3\" font-family=\"Helvetica,sans-Serif\" font-size=\"14.00\" fill=\"#000000\">value = 299.7</text>\n</g>\n<!-- 18&#45;&gt;28 -->\n<g id=\"edge23\" class=\"edge\">\n<title>18&#45;&gt;28</title>\n<path fill=\"none\" stroke=\"#000000\" d=\"M1963.1971,-352.8618C1980.6661,-294.3786 2016.1635,-175.5395 2034.1021,-115.4844\"/>\n<polygon fill=\"#000000\" stroke=\"#000000\" points=\"2037.5237,-116.2583 2037.0322,-105.6748 2030.8165,-114.2548 2037.5237,-116.2583\"/>\n</g>\n<!-- 9 -->\n<g id=\"node26\" class=\"node\">\n<title>9</title>\n<path fill=\"#eca471\" stroke=\"#000000\" d=\"M2456.5,-729C2456.5,-729 1997.5,-729 1997.5,-729 1991.5,-729 1985.5,-723 1985.5,-717 1985.5,-717 1985.5,-673 1985.5,-673 1985.5,-667 1991.5,-661 1997.5,-661 1997.5,-661 2456.5,-661 2456.5,-661 2462.5,-661 2468.5,-667 2468.5,-673 2468.5,-673 2468.5,-717 2468.5,-717 2468.5,-723 2462.5,-729 2456.5,-729\"/>\n<text text-anchor=\"start\" x=\"1993.5\" y=\"-713.8\" font-family=\"Helvetica,sans-Serif\" font-size=\"14.00\" fill=\"#000000\">lastReportedPosition.milepostLocation.milepost.milepostNumber ≤ 305.9</text>\n<text text-anchor=\"start\" x=\"2150.5\" y=\"-698.8\" font-family=\"Helvetica,sans-Serif\" font-size=\"14.00\" fill=\"#000000\">squared_error = 192.78</text>\n<text text-anchor=\"start\" x=\"2175\" y=\"-683.8\" font-family=\"Helvetica,sans-Serif\" font-size=\"14.00\" fill=\"#000000\">samples = 5794</text>\n<text text-anchor=\"start\" x=\"2178.5\" y=\"-668.8\" font-family=\"Helvetica,sans-Serif\" font-size=\"14.00\" fill=\"#000000\">value = 286.98</text>\n</g>\n<!-- 4&#45;&gt;9 -->\n<g id=\"edge25\" class=\"edge\">\n<title>4&#45;&gt;9</title>\n<path fill=\"none\" stroke=\"#000000\" d=\"M2227,-969.751C2227,-913.603 2227,-802.0032 2227,-739.7001\"/>\n<polygon fill=\"#000000\" stroke=\"#000000\" points=\"2230.5001,-739.4024 2227,-729.4024 2223.5001,-739.4025 2230.5001,-739.4024\"/>\n</g>\n<!-- 10 -->\n<g id=\"node29\" class=\"node\">\n<title>10</title>\n<path fill=\"#e68743\" stroke=\"#000000\" d=\"M2737.5,-729C2737.5,-729 2498.5,-729 2498.5,-729 2492.5,-729 2486.5,-723 2486.5,-717 2486.5,-717 2486.5,-673 2486.5,-673 2486.5,-667 2492.5,-661 2498.5,-661 2498.5,-661 2737.5,-661 2737.5,-661 2743.5,-661 2749.5,-667 2749.5,-673 2749.5,-673 2749.5,-717 2749.5,-717 2749.5,-723 2743.5,-729 2737.5,-729\"/>\n<text text-anchor=\"start\" x=\"2494.5\" y=\"-713.8\" font-family=\"Helvetica,sans-Serif\" font-size=\"14.00\" fill=\"#000000\">lastReportedPosition.speedMPH ≤ 4.5</text>\n<text text-anchor=\"start\" x=\"2541.5\" y=\"-698.8\" font-family=\"Helvetica,sans-Serif\" font-size=\"14.00\" fill=\"#000000\">squared_error = 173.83</text>\n<text text-anchor=\"start\" x=\"2566\" y=\"-683.8\" font-family=\"Helvetica,sans-Serif\" font-size=\"14.00\" fill=\"#000000\">samples = 3479</text>\n<text text-anchor=\"start\" x=\"2569.5\" y=\"-668.8\" font-family=\"Helvetica,sans-Serif\" font-size=\"14.00\" fill=\"#000000\">value = 311.45</text>\n</g>\n<!-- 4&#45;&gt;10 -->\n<g id=\"edge28\" class=\"edge\">\n<title>4&#45;&gt;10</title>\n<path fill=\"none\" stroke=\"#000000\" d=\"M2270.3378,-969.751C2342.9497,-912.3671 2488.8518,-797.0634 2566.5515,-735.6588\"/>\n<polygon fill=\"#000000\" stroke=\"#000000\" points=\"2569.0909,-738.113 2574.7665,-729.1666 2564.7506,-732.621 2569.0909,-738.113\"/>\n</g>\n<!-- 13 -->\n<g id=\"node27\" class=\"node\">\n<title>13</title>\n<path fill=\"#efb185\" stroke=\"#000000\" d=\"M2295.5,-105.5C2295.5,-105.5 2158.5,-105.5 2158.5,-105.5 2152.5,-105.5 2146.5,-99.5 2146.5,-93.5 2146.5,-93.5 2146.5,-64.5 2146.5,-64.5 2146.5,-58.5 2152.5,-52.5 2158.5,-52.5 2158.5,-52.5 2295.5,-52.5 2295.5,-52.5 2301.5,-52.5 2307.5,-58.5 2307.5,-64.5 2307.5,-64.5 2307.5,-93.5 2307.5,-93.5 2307.5,-99.5 2301.5,-105.5 2295.5,-105.5\"/>\n<text text-anchor=\"start\" x=\"2154.5\" y=\"-90.3\" font-family=\"Helvetica,sans-Serif\" font-size=\"14.00\" fill=\"#000000\">squared_error = 69.18</text>\n<text text-anchor=\"start\" x=\"2175\" y=\"-75.3\" font-family=\"Helvetica,sans-Serif\" font-size=\"14.00\" fill=\"#000000\">samples = 2892</text>\n<text text-anchor=\"start\" x=\"2178.5\" y=\"-60.3\" font-family=\"Helvetica,sans-Serif\" font-size=\"14.00\" fill=\"#000000\">value = 275.96</text>\n</g>\n<!-- 9&#45;&gt;13 -->\n<g id=\"edge26\" class=\"edge\">\n<title>9&#45;&gt;13</title>\n<path fill=\"none\" stroke=\"#000000\" d=\"M2227,-660.5612C2227,-553.4062 2227,-226.4787 2227,-115.9582\"/>\n<polygon fill=\"#000000\" stroke=\"#000000\" points=\"2230.5001,-115.6533 2227,-105.6533 2223.5001,-115.6534 2230.5001,-115.6533\"/>\n</g>\n<!-- 14 -->\n<g id=\"node28\" class=\"node\">\n<title>14</title>\n<path fill=\"#ea975c\" stroke=\"#000000\" d=\"M2474.5,-105.5C2474.5,-105.5 2337.5,-105.5 2337.5,-105.5 2331.5,-105.5 2325.5,-99.5 2325.5,-93.5 2325.5,-93.5 2325.5,-64.5 2325.5,-64.5 2325.5,-58.5 2331.5,-52.5 2337.5,-52.5 2337.5,-52.5 2474.5,-52.5 2474.5,-52.5 2480.5,-52.5 2486.5,-58.5 2486.5,-64.5 2486.5,-64.5 2486.5,-93.5 2486.5,-93.5 2486.5,-99.5 2480.5,-105.5 2474.5,-105.5\"/>\n<text text-anchor=\"start\" x=\"2333.5\" y=\"-90.3\" font-family=\"Helvetica,sans-Serif\" font-size=\"14.00\" fill=\"#000000\">squared_error = 74.31</text>\n<text text-anchor=\"start\" x=\"2354\" y=\"-75.3\" font-family=\"Helvetica,sans-Serif\" font-size=\"14.00\" fill=\"#000000\">samples = 2902</text>\n<text text-anchor=\"start\" x=\"2357.5\" y=\"-60.3\" font-family=\"Helvetica,sans-Serif\" font-size=\"14.00\" fill=\"#000000\">value = 297.96</text>\n</g>\n<!-- 9&#45;&gt;14 -->\n<g id=\"edge27\" class=\"edge\">\n<title>9&#45;&gt;14</title>\n<path fill=\"none\" stroke=\"#000000\" d=\"M2237.0074,-660.5612C2268.2078,-553.1899 2363.5287,-225.1582 2395.4542,-115.2917\"/>\n<polygon fill=\"#000000\" stroke=\"#000000\" points=\"2398.8254,-116.2328 2398.255,-105.6533 2392.1035,-114.2794 2398.8254,-116.2328\"/>\n</g>\n<!-- 29 -->\n<g id=\"node30\" class=\"node\">\n<title>29</title>\n<path fill=\"#e88f4f\" stroke=\"#000000\" d=\"M2675.5,-105.5C2675.5,-105.5 2530.5,-105.5 2530.5,-105.5 2524.5,-105.5 2518.5,-99.5 2518.5,-93.5 2518.5,-93.5 2518.5,-64.5 2518.5,-64.5 2518.5,-58.5 2524.5,-52.5 2530.5,-52.5 2530.5,-52.5 2675.5,-52.5 2675.5,-52.5 2681.5,-52.5 2687.5,-58.5 2687.5,-64.5 2687.5,-64.5 2687.5,-93.5 2687.5,-93.5 2687.5,-99.5 2681.5,-105.5 2675.5,-105.5\"/>\n<text text-anchor=\"start\" x=\"2526.5\" y=\"-90.3\" font-family=\"Helvetica,sans-Serif\" font-size=\"14.00\" fill=\"#000000\">squared_error = 243.65</text>\n<text text-anchor=\"start\" x=\"2551\" y=\"-75.3\" font-family=\"Helvetica,sans-Serif\" font-size=\"14.00\" fill=\"#000000\">samples = 1555</text>\n<text text-anchor=\"start\" x=\"2554.5\" y=\"-60.3\" font-family=\"Helvetica,sans-Serif\" font-size=\"14.00\" fill=\"#000000\">value = 304.86</text>\n</g>\n<!-- 10&#45;&gt;29 -->\n<g id=\"edge29\" class=\"edge\">\n<title>10&#45;&gt;29</title>\n<path fill=\"none\" stroke=\"#000000\" d=\"M2617.1614,-660.5612C2614.5521,-553.4062 2606.5912,-226.4787 2603.9,-115.9582\"/>\n<polygon fill=\"#000000\" stroke=\"#000000\" points=\"2607.3915,-115.5651 2603.649,-105.6533 2600.3936,-115.7356 2607.3915,-115.5651\"/>\n</g>\n<!-- 30 -->\n<g id=\"node31\" class=\"node\">\n<title>30</title>\n<path fill=\"#e58139\" stroke=\"#000000\" d=\"M2854.5,-105.5C2854.5,-105.5 2717.5,-105.5 2717.5,-105.5 2711.5,-105.5 2705.5,-99.5 2705.5,-93.5 2705.5,-93.5 2705.5,-64.5 2705.5,-64.5 2705.5,-58.5 2711.5,-52.5 2717.5,-52.5 2717.5,-52.5 2854.5,-52.5 2854.5,-52.5 2860.5,-52.5 2866.5,-58.5 2866.5,-64.5 2866.5,-64.5 2866.5,-93.5 2866.5,-93.5 2866.5,-99.5 2860.5,-105.5 2854.5,-105.5\"/>\n<text text-anchor=\"start\" x=\"2713.5\" y=\"-90.3\" font-family=\"Helvetica,sans-Serif\" font-size=\"14.00\" fill=\"#000000\">squared_error = 53.99</text>\n<text text-anchor=\"start\" x=\"2734\" y=\"-75.3\" font-family=\"Helvetica,sans-Serif\" font-size=\"14.00\" fill=\"#000000\">samples = 1924</text>\n<text text-anchor=\"start\" x=\"2737.5\" y=\"-60.3\" font-family=\"Helvetica,sans-Serif\" font-size=\"14.00\" fill=\"#000000\">value = 316.77</text>\n</g>\n<!-- 10&#45;&gt;30 -->\n<g id=\"edge30\" class=\"edge\">\n<title>10&#45;&gt;30</title>\n<path fill=\"none\" stroke=\"#000000\" d=\"M2627.3924,-660.5612C2656.646,-553.2981 2745.9585,-225.8187 2776.0116,-115.6243\"/>\n<polygon fill=\"#000000\" stroke=\"#000000\" points=\"2779.4763,-116.2219 2778.7309,-105.6533 2772.723,-114.38 2779.4763,-116.2219\"/>\n</g>\n</g>\n</svg>\n"
          },
          "metadata": {},
          "execution_count": 55
        }
      ]
    },
    {
      "cell_type": "code",
      "source": [
        "m = DecisionTreeRegressor(min_samples_leaf=9)\n",
        "m.fit(xs, y);"
      ],
      "metadata": {
        "id": "_wto32TJkud4"
      },
      "execution_count": 56,
      "outputs": []
    },
    {
      "cell_type": "code",
      "source": [
        "def r_mse(pred,y): return round(math.sqrt(((pred-y)**2).mean()), 6)\n",
        "def m_rmse(m, xs, y): return r_mse(m.predict(xs), y)"
      ],
      "metadata": {
        "id": "D53phc2JE5RC"
      },
      "execution_count": 57,
      "outputs": []
    },
    {
      "cell_type": "markdown",
      "source": [
        "How well we fit the training model:"
      ],
      "metadata": {
        "id": "mdZvu4cJuS9j"
      }
    },
    {
      "cell_type": "code",
      "source": [
        "trainingPreds = m.predict(xs)\n",
        "r_mse(trainingPreds, y)"
      ],
      "metadata": {
        "id": "8CYcTQHLHT4m",
        "colab": {
          "base_uri": "https://localhost:8080/"
        },
        "outputId": "b41ab064-e086-43bc-b77a-bebda25e748f"
      },
      "execution_count": 58,
      "outputs": [
        {
          "output_type": "execute_result",
          "data": {
            "text/plain": [
              "4.304849"
            ]
          },
          "metadata": {},
          "execution_count": 58
        }
      ]
    },
    {
      "cell_type": "markdown",
      "source": [
        "How well we fit the Validation Model:"
      ],
      "metadata": {
        "id": "MU_z9z6huZs0"
      }
    },
    {
      "cell_type": "code",
      "source": [
        "validationPreds = m.predict(valid_xs)\n",
        "r_mse(validationPreds, valid_y)"
      ],
      "metadata": {
        "id": "_oElvFDHHZHm",
        "colab": {
          "base_uri": "https://localhost:8080/"
        },
        "outputId": "52239fb8-b3e1-4523-8f66-fe3f66eb9b85"
      },
      "execution_count": 59,
      "outputs": [
        {
          "output_type": "execute_result",
          "data": {
            "text/plain": [
              "6.344967"
            ]
          },
          "metadata": {},
          "execution_count": 59
        }
      ]
    },
    {
      "cell_type": "code",
      "source": [
        "def showPredictions(predictionsSeries, validSeries):\n",
        "  b = predictionsSeries.reset_index(drop=true)\n",
        "  y = validSeries.reset_index(drop=true)\n",
        "  df  = pd.concat([b, y], axis=1)\n",
        "  df = df.dropna()\n",
        "  df.rename(columns={ df.columns[0]: \"prediction\", df.columns[1]: \"actual\" }, inplace = True)\n",
        "  print(df)\n",
        "  print(\"RMSE: \", r_mse(df.iloc[:,0], df.iloc[:,1]))"
      ],
      "metadata": {
        "id": "a0PigmWJQz0p"
      },
      "execution_count": 60,
      "outputs": []
    },
    {
      "cell_type": "markdown",
      "source": [
        "Simple Decision Tree Predictions:"
      ],
      "metadata": {
        "id": "hH86mURdpHNM"
      }
    },
    {
      "cell_type": "code",
      "source": [
        "showPredictions(pd.DataFrame(validationPreds), valid_y)"
      ],
      "metadata": {
        "colab": {
          "base_uri": "https://localhost:8080/"
        },
        "id": "KNrkUX1AhjZ-",
        "outputId": "3cc164e1-4289-4e04-fbb3-3ca4b986661d"
      },
      "execution_count": 61,
      "outputs": [
        {
          "output_type": "stream",
          "name": "stdout",
          "text": [
            "      prediction      actual\n",
            "0     306.638173  303.640961\n",
            "1     292.804802  294.448029\n",
            "2     284.547177  291.374786\n",
            "3     272.956571  289.952820\n",
            "4     288.550669  281.968353\n",
            "...          ...         ...\n",
            "6900  228.245928  226.313950\n",
            "6901  227.180734  218.931168\n",
            "6902  211.523100  207.865692\n",
            "6903  211.523100  203.052094\n",
            "6904  203.366471  202.542892\n",
            "\n",
            "[6905 rows x 2 columns]\n",
            "RMSE:  6.344967\n"
          ]
        }
      ]
    },
    {
      "cell_type": "code",
      "source": [
        "def rf_feat_importance(m, df):\n",
        "    return pd.DataFrame({'cols':df.columns, 'imp':m.feature_importances_}\n",
        "                       ).sort_values('imp', ascending=False)"
      ],
      "metadata": {
        "id": "oCKCSQSlab4o"
      },
      "execution_count": 62,
      "outputs": []
    },
    {
      "cell_type": "code",
      "source": [
        "fi = rf_feat_importance(m, xs)\n",
        "fi[:10]"
      ],
      "metadata": {
        "id": "jxENiQDXlYKl",
        "colab": {
          "base_uri": "https://localhost:8080/",
          "height": 363
        },
        "outputId": "3a219e46-a3b7-49db-e2b7-bd66d3378228"
      },
      "execution_count": 63,
      "outputs": [
        {
          "output_type": "execute_result",
          "data": {
            "text/plain": [
              "                                                             cols       imp\n",
              "23  lastReportedPosition.milepostLocation.milepost.milepostNumber  0.814500\n",
              "12                                                         mpIncr  0.127371\n",
              "22                                  lastReportedPosition.speedMPH  0.046143\n",
              "3                                             trainId.trainSymbol  0.002060\n",
              "24                                   aotuTrainData.totalCarWeight  0.000679\n",
              "36                                                    trainLength  0.000619\n",
              "45                       lastReportedPosition.positionTimeElapsed  0.000615\n",
              "0                                             ptcLeadLocomotiveId  0.000614\n",
              "42                           lastReportedPosition.positionTimeDay  0.000581\n",
              "34                                                 loadedCarCount  0.000577"
            ],
            "text/html": [
              "\n",
              "  <div id=\"df-8b05d55d-7159-4773-a675-10fbe54a76d6\">\n",
              "    <div class=\"colab-df-container\">\n",
              "      <div>\n",
              "<style scoped>\n",
              "    .dataframe tbody tr th:only-of-type {\n",
              "        vertical-align: middle;\n",
              "    }\n",
              "\n",
              "    .dataframe tbody tr th {\n",
              "        vertical-align: top;\n",
              "    }\n",
              "\n",
              "    .dataframe thead th {\n",
              "        text-align: right;\n",
              "    }\n",
              "</style>\n",
              "<table border=\"1\" class=\"dataframe\">\n",
              "  <thead>\n",
              "    <tr style=\"text-align: right;\">\n",
              "      <th></th>\n",
              "      <th>cols</th>\n",
              "      <th>imp</th>\n",
              "    </tr>\n",
              "  </thead>\n",
              "  <tbody>\n",
              "    <tr>\n",
              "      <th>23</th>\n",
              "      <td>lastReportedPosition.milepostLocation.milepost.milepostNumber</td>\n",
              "      <td>0.814500</td>\n",
              "    </tr>\n",
              "    <tr>\n",
              "      <th>12</th>\n",
              "      <td>mpIncr</td>\n",
              "      <td>0.127371</td>\n",
              "    </tr>\n",
              "    <tr>\n",
              "      <th>22</th>\n",
              "      <td>lastReportedPosition.speedMPH</td>\n",
              "      <td>0.046143</td>\n",
              "    </tr>\n",
              "    <tr>\n",
              "      <th>3</th>\n",
              "      <td>trainId.trainSymbol</td>\n",
              "      <td>0.002060</td>\n",
              "    </tr>\n",
              "    <tr>\n",
              "      <th>24</th>\n",
              "      <td>aotuTrainData.totalCarWeight</td>\n",
              "      <td>0.000679</td>\n",
              "    </tr>\n",
              "    <tr>\n",
              "      <th>36</th>\n",
              "      <td>trainLength</td>\n",
              "      <td>0.000619</td>\n",
              "    </tr>\n",
              "    <tr>\n",
              "      <th>45</th>\n",
              "      <td>lastReportedPosition.positionTimeElapsed</td>\n",
              "      <td>0.000615</td>\n",
              "    </tr>\n",
              "    <tr>\n",
              "      <th>0</th>\n",
              "      <td>ptcLeadLocomotiveId</td>\n",
              "      <td>0.000614</td>\n",
              "    </tr>\n",
              "    <tr>\n",
              "      <th>42</th>\n",
              "      <td>lastReportedPosition.positionTimeDay</td>\n",
              "      <td>0.000581</td>\n",
              "    </tr>\n",
              "    <tr>\n",
              "      <th>34</th>\n",
              "      <td>loadedCarCount</td>\n",
              "      <td>0.000577</td>\n",
              "    </tr>\n",
              "  </tbody>\n",
              "</table>\n",
              "</div>\n",
              "      <button class=\"colab-df-convert\" onclick=\"convertToInteractive('df-8b05d55d-7159-4773-a675-10fbe54a76d6')\"\n",
              "              title=\"Convert this dataframe to an interactive table.\"\n",
              "              style=\"display:none;\">\n",
              "        \n",
              "  <svg xmlns=\"http://www.w3.org/2000/svg\" height=\"24px\"viewBox=\"0 0 24 24\"\n",
              "       width=\"24px\">\n",
              "    <path d=\"M0 0h24v24H0V0z\" fill=\"none\"/>\n",
              "    <path d=\"M18.56 5.44l.94 2.06.94-2.06 2.06-.94-2.06-.94-.94-2.06-.94 2.06-2.06.94zm-11 1L8.5 8.5l.94-2.06 2.06-.94-2.06-.94L8.5 2.5l-.94 2.06-2.06.94zm10 10l.94 2.06.94-2.06 2.06-.94-2.06-.94-.94-2.06-.94 2.06-2.06.94z\"/><path d=\"M17.41 7.96l-1.37-1.37c-.4-.4-.92-.59-1.43-.59-.52 0-1.04.2-1.43.59L10.3 9.45l-7.72 7.72c-.78.78-.78 2.05 0 2.83L4 21.41c.39.39.9.59 1.41.59.51 0 1.02-.2 1.41-.59l7.78-7.78 2.81-2.81c.8-.78.8-2.07 0-2.86zM5.41 20L4 18.59l7.72-7.72 1.47 1.35L5.41 20z\"/>\n",
              "  </svg>\n",
              "      </button>\n",
              "      \n",
              "  <style>\n",
              "    .colab-df-container {\n",
              "      display:flex;\n",
              "      flex-wrap:wrap;\n",
              "      gap: 12px;\n",
              "    }\n",
              "\n",
              "    .colab-df-convert {\n",
              "      background-color: #E8F0FE;\n",
              "      border: none;\n",
              "      border-radius: 50%;\n",
              "      cursor: pointer;\n",
              "      display: none;\n",
              "      fill: #1967D2;\n",
              "      height: 32px;\n",
              "      padding: 0 0 0 0;\n",
              "      width: 32px;\n",
              "    }\n",
              "\n",
              "    .colab-df-convert:hover {\n",
              "      background-color: #E2EBFA;\n",
              "      box-shadow: 0px 1px 2px rgba(60, 64, 67, 0.3), 0px 1px 3px 1px rgba(60, 64, 67, 0.15);\n",
              "      fill: #174EA6;\n",
              "    }\n",
              "\n",
              "    [theme=dark] .colab-df-convert {\n",
              "      background-color: #3B4455;\n",
              "      fill: #D2E3FC;\n",
              "    }\n",
              "\n",
              "    [theme=dark] .colab-df-convert:hover {\n",
              "      background-color: #434B5C;\n",
              "      box-shadow: 0px 1px 3px 1px rgba(0, 0, 0, 0.15);\n",
              "      filter: drop-shadow(0px 1px 2px rgba(0, 0, 0, 0.3));\n",
              "      fill: #FFFFFF;\n",
              "    }\n",
              "  </style>\n",
              "\n",
              "      <script>\n",
              "        const buttonEl =\n",
              "          document.querySelector('#df-8b05d55d-7159-4773-a675-10fbe54a76d6 button.colab-df-convert');\n",
              "        buttonEl.style.display =\n",
              "          google.colab.kernel.accessAllowed ? 'block' : 'none';\n",
              "\n",
              "        async function convertToInteractive(key) {\n",
              "          const element = document.querySelector('#df-8b05d55d-7159-4773-a675-10fbe54a76d6');\n",
              "          const dataTable =\n",
              "            await google.colab.kernel.invokeFunction('convertToInteractive',\n",
              "                                                     [key], {});\n",
              "          if (!dataTable) return;\n",
              "\n",
              "          const docLinkHtml = 'Like what you see? Visit the ' +\n",
              "            '<a target=\"_blank\" href=https://colab.research.google.com/notebooks/data_table.ipynb>data table notebook</a>'\n",
              "            + ' to learn more about interactive tables.';\n",
              "          element.innerHTML = '';\n",
              "          dataTable['output_type'] = 'display_data';\n",
              "          await google.colab.output.renderOutput(dataTable, element);\n",
              "          const docLink = document.createElement('div');\n",
              "          docLink.innerHTML = docLinkHtml;\n",
              "          element.appendChild(docLink);\n",
              "        }\n",
              "      </script>\n",
              "    </div>\n",
              "  </div>\n",
              "  "
            ]
          },
          "metadata": {},
          "execution_count": 63
        }
      ]
    },
    {
      "cell_type": "markdown",
      "source": [
        ""
      ],
      "metadata": {
        "id": "GAU4iShuUTlj"
      }
    },
    {
      "cell_type": "code",
      "source": [
        "ax = xs['lastReportedPosition.speedMPH'].hist(bins=60)\n"
      ],
      "metadata": {
        "id": "W_xHGvS4mTAv",
        "colab": {
          "base_uri": "https://localhost:8080/",
          "height": 265
        },
        "outputId": "c44aa60c-9046-4198-c9e4-168ef6b63935"
      },
      "execution_count": 64,
      "outputs": [
        {
          "output_type": "display_data",
          "data": {
            "text/plain": [
              "<Figure size 432x288 with 1 Axes>"
            ],
            "image/png": "[encoded data removed]"
          },
          "metadata": {
            "needs_background": "light"
          }
        }
      ]
    },
    {
      "cell_type": "code",
      "source": [
        "from sklearn.inspection import plot_partial_dependence\n",
        "\n",
        "fig,ax = plt.subplots(figsize=(12, 4))\n",
        "plot_partial_dependence(m, xs, ['lastReportedPosition.speedMPH'],\n",
        "                        grid_resolution=20, ax=ax);"
      ],
      "metadata": {
        "id": "dVfYTqKvniXo",
        "colab": {
          "base_uri": "https://localhost:8080/",
          "height": 336
        },
        "outputId": "1711025b-79d8-49be-fefa-4e6dbd4978cf"
      },
      "execution_count": 65,
      "outputs": [
        {
          "output_type": "stream",
          "name": "stderr",
          "text": [
            "/usr/local/lib/python3.7/dist-packages/sklearn/utils/deprecation.py:87: FutureWarning: Function plot_partial_dependence is deprecated; Function `plot_partial_dependence` is deprecated in 1.0 and will be removed in 1.2. Use PartialDependenceDisplay.from_estimator instead\n",
            "  warnings.warn(msg, category=FutureWarning)\n"
          ]
        },
        {
          "output_type": "display_data",
          "data": {
            "text/plain": [
              "<Figure size 864x288 with 2 Axes>"
            ],
            "image/png": "[encoded data removed]"
          },
          "metadata": {
            "needs_background": "light"
          }
        }
      ]
    },
    {
      "cell_type": "markdown",
      "source": [
        "#Random Forest"
      ],
      "metadata": {
        "id": "-iGNWlJDmQrV"
      }
    },
    {
      "cell_type": "code",
      "source": [
        "def randomForest(xs, y, n_estimators=50, max_samples=2500,\n",
        "       max_features=0.5, min_samples_leaf=5, **kwargs):\n",
        "    return RandomForestRegressor(n_jobs=-1, n_estimators=n_estimators,\n",
        "        max_samples=max_samples, max_features=max_features,\n",
        "        min_samples_leaf=min_samples_leaf, oob_score=True).fit(xs, y)"
      ],
      "metadata": {
        "id": "FllkOgNkUTGW"
      },
      "execution_count": 66,
      "outputs": []
    },
    {
      "cell_type": "code",
      "source": [
        "m = randomForest(xs, y);"
      ],
      "metadata": {
        "id": "OqX5AcTWVRXE"
      },
      "execution_count": 67,
      "outputs": []
    },
    {
      "cell_type": "code",
      "source": [
        "m_rmse(m, xs, y), m_rmse(m, valid_xs, valid_y)"
      ],
      "metadata": {
        "id": "33ncywqjVcwn",
        "colab": {
          "base_uri": "https://localhost:8080/"
        },
        "outputId": "d1551cc6-e796-42b4-8683-de2c5c5a2a43"
      },
      "execution_count": 68,
      "outputs": [
        {
          "output_type": "execute_result",
          "data": {
            "text/plain": [
              "(5.604418, 5.802601)"
            ]
          },
          "metadata": {},
          "execution_count": 68
        }
      ]
    },
    {
      "cell_type": "code",
      "source": [
        "preds = np.stack([t.predict(valid_xs) for t in m.estimators_])"
      ],
      "metadata": {
        "id": "Dg6iyZCIW0Nt"
      },
      "execution_count": null,
      "outputs": []
    },
    {
      "cell_type": "markdown",
      "source": [
        "Random Forest Predictions:"
      ],
      "metadata": {
        "id": "oey4Bph2o9ww"
      }
    },
    {
      "cell_type": "code",
      "source": [
        "showPredictions(pd.DataFrame(preds.mean(0)), valid_y)\n"
      ],
      "metadata": {
        "colab": {
          "base_uri": "https://localhost:8080/"
        },
        "id": "ckS6D1nEfhtm",
        "outputId": "1d6889ff-e046-4013-9921-fa150ef790c3"
      },
      "execution_count": 70,
      "outputs": [
        {
          "output_type": "stream",
          "name": "stdout",
          "text": [
            "      prediction      actual\n",
            "0     305.540787  303.640961\n",
            "1     292.875211  294.448029\n",
            "2     286.678920  291.374786\n",
            "3     274.786241  289.952820\n",
            "4     291.254177  281.968353\n",
            "...          ...         ...\n",
            "6900  227.088058  226.313950\n",
            "6901  220.128477  218.931168\n",
            "6902  211.191538  207.865692\n",
            "6903  209.295371  203.052094\n",
            "6904  207.009167  202.542892\n",
            "\n",
            "[6905 rows x 2 columns]\n",
            "RMSE:  5.802601\n"
          ]
        }
      ]
    },
    {
      "cell_type": "code",
      "source": [
        "plt.plot([r_mse(preds[:i+1].mean(0), valid_y) for i in range(50)]);"
      ],
      "metadata": {
        "id": "eT0fXh6uXIp1",
        "colab": {
          "base_uri": "https://localhost:8080/",
          "height": 265
        },
        "outputId": "555309de-81f0-4eb0-8d6f-a5780ea4ac9c"
      },
      "execution_count": 71,
      "outputs": [
        {
          "output_type": "display_data",
          "data": {
            "text/plain": [
              "<Figure size 432x288 with 1 Axes>"
            ],
            "image/png": "[encoded data removed]"
          },
          "metadata": {
            "needs_background": "light"
          }
        }
      ]
    },
    {
      "cell_type": "markdown",
      "source": [
        "### Out-of-Bag Error"
      ],
      "metadata": {
        "id": "GN-VS3_2YsOd"
      }
    },
    {
      "cell_type": "code",
      "source": [
        "r_mse(m.oob_prediction_, y)"
      ],
      "metadata": {
        "id": "tvwS19-6Yc20",
        "colab": {
          "base_uri": "https://localhost:8080/"
        },
        "outputId": "a8ed72c1-359e-403e-848c-cfe65c96322c"
      },
      "execution_count": 72,
      "outputs": [
        {
          "output_type": "execute_result",
          "data": {
            "text/plain": [
              "5.823467"
            ]
          },
          "metadata": {},
          "execution_count": 72
        }
      ]
    },
    {
      "cell_type": "markdown",
      "source": [
        "- How confident are we in our predictions using a particular row of data?\n",
        "- For predicting with a particular row of data, what were the most important factors, and how did they influence that prediction?\n",
        "- Which columns are the strongest predictors, which can we ignore?\n",
        "- Which columns are effectively redundant with each other, for purposes of prediction?\n",
        "- How do predictions vary, as we vary these columns?\n"
      ],
      "metadata": {
        "id": "-jSxQWTZZDfx"
      }
    },
    {
      "cell_type": "code",
      "source": [
        "preds = np.stack([t.predict(valid_xs) for t in m.estimators_])"
      ],
      "metadata": {
        "id": "eS53q1RUZRva"
      },
      "execution_count": null,
      "outputs": []
    },
    {
      "cell_type": "code",
      "source": [
        "preds.shape"
      ],
      "metadata": {
        "id": "quArhZFkZtq_",
        "colab": {
          "base_uri": "https://localhost:8080/"
        },
        "outputId": "75f1307d-59d4-41a6-d653-835dede90fde"
      },
      "execution_count": 74,
      "outputs": [
        {
          "output_type": "execute_result",
          "data": {
            "text/plain": [
              "(50, 6905)"
            ]
          },
          "metadata": {},
          "execution_count": 74
        }
      ]
    },
    {
      "cell_type": "code",
      "source": [
        "preds_std = preds.std(0)"
      ],
      "metadata": {
        "id": "xZCBhV9MZxSH"
      },
      "execution_count": 75,
      "outputs": []
    },
    {
      "cell_type": "code",
      "source": [
        "preds_std[:5]"
      ],
      "metadata": {
        "id": "ZvKvldDdZ44S",
        "colab": {
          "base_uri": "https://localhost:8080/"
        },
        "outputId": "786b1b9a-da82-403d-efd8-5d9811ea308e"
      },
      "execution_count": 76,
      "outputs": [
        {
          "output_type": "execute_result",
          "data": {
            "text/plain": [
              "array([ 3.04478144,  4.3316216 ,  5.59740493,  3.71689455, 11.55662959])"
            ]
          },
          "metadata": {},
          "execution_count": 76
        }
      ]
    },
    {
      "cell_type": "markdown",
      "source": [
        "# FEATURE Importance"
      ],
      "metadata": {
        "id": "tkENwKVIaPXc"
      }
    },
    {
      "cell_type": "code",
      "source": [
        "fi = rf_feat_importance(m, xs)\n",
        "fi[:20]"
      ],
      "metadata": {
        "id": "_xddcBHXaj9O",
        "colab": {
          "base_uri": "https://localhost:8080/",
          "height": 676
        },
        "outputId": "e973b7b6-b70d-4df6-f759-7233f874d6a3"
      },
      "execution_count": 77,
      "outputs": [
        {
          "output_type": "execute_result",
          "data": {
            "text/plain": [
              "                                                             cols       imp\n",
              "23  lastReportedPosition.milepostLocation.milepost.milepostNumber  0.587564\n",
              "38                                                       milepost  0.223136\n",
              "12                                                         mpIncr  0.109059\n",
              "22                                  lastReportedPosition.speedMPH  0.046648\n",
              "6                 lastReportedPosition.milepostLocation.trackName  0.005195\n",
              "3                                             trainId.trainSymbol  0.004688\n",
              "14                                                  workLocations  0.002937\n",
              "36                                                    trainLength  0.001765\n",
              "37                                                trailingTonnage  0.001705\n",
              "24                                   aotuTrainData.totalCarWeight  0.001659\n",
              "34                                                 loadedCarCount  0.001640\n",
              "35                                                  emptyCarCount  0.001500\n",
              "25                                   aotuTrainData.totalCarLength  0.001457\n",
              "0                                             ptcLeadLocomotiveId  0.001157\n",
              "26                            aotuTrainData.totalLocomotiveWeight  0.001110\n",
              "42                           lastReportedPosition.positionTimeDay  0.000987\n",
              "29                              aotuTrainData.heavy143TonCarCount  0.000933\n",
              "13                                                     symbolType  0.000925\n",
              "27                            aotuTrainData.totalLocomotiveLength  0.000862\n",
              "45                       lastReportedPosition.positionTimeElapsed  0.000824"
            ],
            "text/html": [
              "\n",
              "  <div id=\"df-a49169a1-d5bc-4ba9-b810-ff51b9938f38\">\n",
              "    <div class=\"colab-df-container\">\n",
              "      <div>\n",
              "<style scoped>\n",
              "    .dataframe tbody tr th:only-of-type {\n",
              "        vertical-align: middle;\n",
              "    }\n",
              "\n",
              "    .dataframe tbody tr th {\n",
              "        vertical-align: top;\n",
              "    }\n",
              "\n",
              "    .dataframe thead th {\n",
              "        text-align: right;\n",
              "    }\n",
              "</style>\n",
              "<table border=\"1\" class=\"dataframe\">\n",
              "  <thead>\n",
              "    <tr style=\"text-align: right;\">\n",
              "      <th></th>\n",
              "      <th>cols</th>\n",
              "      <th>imp</th>\n",
              "    </tr>\n",
              "  </thead>\n",
              "  <tbody>\n",
              "    <tr>\n",
              "      <th>23</th>\n",
              "      <td>lastReportedPosition.milepostLocation.milepost.milepostNumber</td>\n",
              "      <td>0.587564</td>\n",
              "    </tr>\n",
              "    <tr>\n",
              "      <th>38</th>\n",
              "      <td>milepost</td>\n",
              "      <td>0.223136</td>\n",
              "    </tr>\n",
              "    <tr>\n",
              "      <th>12</th>\n",
              "      <td>mpIncr</td>\n",
              "      <td>0.109059</td>\n",
              "    </tr>\n",
              "    <tr>\n",
              "      <th>22</th>\n",
              "      <td>lastReportedPosition.speedMPH</td>\n",
              "      <td>0.046648</td>\n",
              "    </tr>\n",
              "    <tr>\n",
              "      <th>6</th>\n",
              "      <td>lastReportedPosition.milepostLocation.trackName</td>\n",
              "      <td>0.005195</td>\n",
              "    </tr>\n",
              "    <tr>\n",
              "      <th>3</th>\n",
              "      <td>trainId.trainSymbol</td>\n",
              "      <td>0.004688</td>\n",
              "    </tr>\n",
              "    <tr>\n",
              "      <th>14</th>\n",
              "      <td>workLocations</td>\n",
              "      <td>0.002937</td>\n",
              "    </tr>\n",
              "    <tr>\n",
              "      <th>36</th>\n",
              "      <td>trainLength</td>\n",
              "      <td>0.001765</td>\n",
              "    </tr>\n",
              "    <tr>\n",
              "      <th>37</th>\n",
              "      <td>trailingTonnage</td>\n",
              "      <td>0.001705</td>\n",
              "    </tr>\n",
              "    <tr>\n",
              "      <th>24</th>\n",
              "      <td>aotuTrainData.totalCarWeight</td>\n",
              "      <td>0.001659</td>\n",
              "    </tr>\n",
              "    <tr>\n",
              "      <th>34</th>\n",
              "      <td>loadedCarCount</td>\n",
              "      <td>0.001640</td>\n",
              "    </tr>\n",
              "    <tr>\n",
              "      <th>35</th>\n",
              "      <td>emptyCarCount</td>\n",
              "      <td>0.001500</td>\n",
              "    </tr>\n",
              "    <tr>\n",
              "      <th>25</th>\n",
              "      <td>aotuTrainData.totalCarLength</td>\n",
              "      <td>0.001457</td>\n",
              "    </tr>\n",
              "    <tr>\n",
              "      <th>0</th>\n",
              "      <td>ptcLeadLocomotiveId</td>\n",
              "      <td>0.001157</td>\n",
              "    </tr>\n",
              "    <tr>\n",
              "      <th>26</th>\n",
              "      <td>aotuTrainData.totalLocomotiveWeight</td>\n",
              "      <td>0.001110</td>\n",
              "    </tr>\n",
              "    <tr>\n",
              "      <th>42</th>\n",
              "      <td>lastReportedPosition.positionTimeDay</td>\n",
              "      <td>0.000987</td>\n",
              "    </tr>\n",
              "    <tr>\n",
              "      <th>29</th>\n",
              "      <td>aotuTrainData.heavy143TonCarCount</td>\n",
              "      <td>0.000933</td>\n",
              "    </tr>\n",
              "    <tr>\n",
              "      <th>13</th>\n",
              "      <td>symbolType</td>\n",
              "      <td>0.000925</td>\n",
              "    </tr>\n",
              "    <tr>\n",
              "      <th>27</th>\n",
              "      <td>aotuTrainData.totalLocomotiveLength</td>\n",
              "      <td>0.000862</td>\n",
              "    </tr>\n",
              "    <tr>\n",
              "      <th>45</th>\n",
              "      <td>lastReportedPosition.positionTimeElapsed</td>\n",
              "      <td>0.000824</td>\n",
              "    </tr>\n",
              "  </tbody>\n",
              "</table>\n",
              "</div>\n",
              "      <button class=\"colab-df-convert\" onclick=\"convertToInteractive('df-a49169a1-d5bc-4ba9-b810-ff51b9938f38')\"\n",
              "              title=\"Convert this dataframe to an interactive table.\"\n",
              "              style=\"display:none;\">\n",
              "        \n",
              "  <svg xmlns=\"http://www.w3.org/2000/svg\" height=\"24px\"viewBox=\"0 0 24 24\"\n",
              "       width=\"24px\">\n",
              "    <path d=\"M0 0h24v24H0V0z\" fill=\"none\"/>\n",
              "    <path d=\"M18.56 5.44l.94 2.06.94-2.06 2.06-.94-2.06-.94-.94-2.06-.94 2.06-2.06.94zm-11 1L8.5 8.5l.94-2.06 2.06-.94-2.06-.94L8.5 2.5l-.94 2.06-2.06.94zm10 10l.94 2.06.94-2.06 2.06-.94-2.06-.94-.94-2.06-.94 2.06-2.06.94z\"/><path d=\"M17.41 7.96l-1.37-1.37c-.4-.4-.92-.59-1.43-.59-.52 0-1.04.2-1.43.59L10.3 9.45l-7.72 7.72c-.78.78-.78 2.05 0 2.83L4 21.41c.39.39.9.59 1.41.59.51 0 1.02-.2 1.41-.59l7.78-7.78 2.81-2.81c.8-.78.8-2.07 0-2.86zM5.41 20L4 18.59l7.72-7.72 1.47 1.35L5.41 20z\"/>\n",
              "  </svg>\n",
              "      </button>\n",
              "      \n",
              "  <style>\n",
              "    .colab-df-container {\n",
              "      display:flex;\n",
              "      flex-wrap:wrap;\n",
              "      gap: 12px;\n",
              "    }\n",
              "\n",
              "    .colab-df-convert {\n",
              "      background-color: #E8F0FE;\n",
              "      border: none;\n",
              "      border-radius: 50%;\n",
              "      cursor: pointer;\n",
              "      display: none;\n",
              "      fill: #1967D2;\n",
              "      height: 32px;\n",
              "      padding: 0 0 0 0;\n",
              "      width: 32px;\n",
              "    }\n",
              "\n",
              "    .colab-df-convert:hover {\n",
              "      background-color: #E2EBFA;\n",
              "      box-shadow: 0px 1px 2px rgba(60, 64, 67, 0.3), 0px 1px 3px 1px rgba(60, 64, 67, 0.15);\n",
              "      fill: #174EA6;\n",
              "    }\n",
              "\n",
              "    [theme=dark] .colab-df-convert {\n",
              "      background-color: #3B4455;\n",
              "      fill: #D2E3FC;\n",
              "    }\n",
              "\n",
              "    [theme=dark] .colab-df-convert:hover {\n",
              "      background-color: #434B5C;\n",
              "      box-shadow: 0px 1px 3px 1px rgba(0, 0, 0, 0.15);\n",
              "      filter: drop-shadow(0px 1px 2px rgba(0, 0, 0, 0.3));\n",
              "      fill: #FFFFFF;\n",
              "    }\n",
              "  </style>\n",
              "\n",
              "      <script>\n",
              "        const buttonEl =\n",
              "          document.querySelector('#df-a49169a1-d5bc-4ba9-b810-ff51b9938f38 button.colab-df-convert');\n",
              "        buttonEl.style.display =\n",
              "          google.colab.kernel.accessAllowed ? 'block' : 'none';\n",
              "\n",
              "        async function convertToInteractive(key) {\n",
              "          const element = document.querySelector('#df-a49169a1-d5bc-4ba9-b810-ff51b9938f38');\n",
              "          const dataTable =\n",
              "            await google.colab.kernel.invokeFunction('convertToInteractive',\n",
              "                                                     [key], {});\n",
              "          if (!dataTable) return;\n",
              "\n",
              "          const docLinkHtml = 'Like what you see? Visit the ' +\n",
              "            '<a target=\"_blank\" href=https://colab.research.google.com/notebooks/data_table.ipynb>data table notebook</a>'\n",
              "            + ' to learn more about interactive tables.';\n",
              "          element.innerHTML = '';\n",
              "          dataTable['output_type'] = 'display_data';\n",
              "          await google.colab.output.renderOutput(dataTable, element);\n",
              "          const docLink = document.createElement('div');\n",
              "          docLink.innerHTML = docLinkHtml;\n",
              "          element.appendChild(docLink);\n",
              "        }\n",
              "      </script>\n",
              "    </div>\n",
              "  </div>\n",
              "  "
            ]
          },
          "metadata": {},
          "execution_count": 77
        }
      ]
    },
    {
      "cell_type": "code",
      "source": [
        "def plot_fi(fi):\n",
        "    return fi.plot('cols', 'imp', 'barh', figsize=(12,7), legend=False)\n",
        "\n",
        "plot_fi(fi[:30]);"
      ],
      "metadata": {
        "id": "PrrzmK6AflwF",
        "colab": {
          "base_uri": "https://localhost:8080/",
          "height": 428
        },
        "outputId": "f10050d2-e883-4010-dee4-218a41dbf110"
      },
      "execution_count": 78,
      "outputs": [
        {
          "output_type": "display_data",
          "data": {
            "text/plain": [
              "<Figure size 864x504 with 1 Axes>"
            ],
            "image/png": "[encoded data removed]"
          },
          "metadata": {
            "needs_background": "light"
          }
        }
      ]
    },
    {
      "cell_type": "markdown",
      "source": [
        "Remove low importance columns"
      ],
      "metadata": {
        "id": "ic6LbeWIf2EQ"
      }
    },
    {
      "cell_type": "code",
      "source": [
        "to_keep = fi[fi.imp>0.0002].cols\n",
        "len(to_keep)"
      ],
      "metadata": {
        "id": "jaWtqZdQfwmy",
        "colab": {
          "base_uri": "https://localhost:8080/"
        },
        "outputId": "60f0df0f-e0c6-4215-c971-c50b79c795c9"
      },
      "execution_count": 79,
      "outputs": [
        {
          "output_type": "execute_result",
          "data": {
            "text/plain": [
              "27"
            ]
          },
          "metadata": {},
          "execution_count": 79
        }
      ]
    },
    {
      "cell_type": "code",
      "source": [
        "xs_imp = xs[to_keep]\n",
        "valid_xs_imp = valid_xs[to_keep]"
      ],
      "metadata": {
        "id": "KK47uCFsgAYv"
      },
      "execution_count": 80,
      "outputs": []
    },
    {
      "cell_type": "code",
      "source": [
        "m = randomForest(xs_imp, y)"
      ],
      "metadata": {
        "id": "GgFy875_gGp4"
      },
      "execution_count": 81,
      "outputs": []
    },
    {
      "cell_type": "code",
      "source": [
        "m_rmse(m, xs_imp, y), m_rmse(m, valid_xs_imp, valid_y)"
      ],
      "metadata": {
        "id": "5e5LZrqmgJf2",
        "colab": {
          "base_uri": "https://localhost:8080/"
        },
        "outputId": "e6fb34a3-6226-467c-ca54-76a57f21a4b7"
      },
      "execution_count": 82,
      "outputs": [
        {
          "output_type": "execute_result",
          "data": {
            "text/plain": [
              "(5.626683, 5.830479)"
            ]
          },
          "metadata": {},
          "execution_count": 82
        }
      ]
    },
    {
      "cell_type": "code",
      "source": [
        "plot_fi(rf_feat_importance(m, xs_imp));"
      ],
      "metadata": {
        "id": "5Szx4cKsgKPL",
        "colab": {
          "base_uri": "https://localhost:8080/",
          "height": 428
        },
        "outputId": "8d023151-5b6d-4a09-dab2-eadaf1c8f435"
      },
      "execution_count": 83,
      "outputs": [
        {
          "output_type": "display_data",
          "data": {
            "text/plain": [
              "<Figure size 864x504 with 1 Axes>"
            ],
            "image/png": "[encoded data removed]"
          },
          "metadata": {
            "needs_background": "light"
          }
        }
      ]
    },
    {
      "cell_type": "code",
      "source": [
        "fastai.cluster_columns(xs_imp)"
      ],
      "metadata": {
        "id": "ZRqtok8LhwlR",
        "colab": {
          "base_uri": "https://localhost:8080/",
          "height": 374
        },
        "outputId": "5876a98b-aa92-4ccb-b2b6-a6a6739d397e"
      },
      "execution_count": 84,
      "outputs": [
        {
          "output_type": "display_data",
          "data": {
            "text/plain": [
              "<Figure size 720x432 with 1 Axes>"
            ],
            "image/png": "[encoded data removed]"
          },
          "metadata": {
            "needs_background": "light"
          }
        }
      ]
    },
    {
      "cell_type": "markdown",
      "source": [
        "# Compute the Physics Model loss for the same interval:"
      ],
      "metadata": {
        "id": "Q-BM2Bkc_YgZ"
      }
    },
    {
      "cell_type": "code",
      "source": [
        "showPredictions(dfTrainsNextBeop.tail(len(valid_y)), valid_y)"
      ],
      "metadata": {
        "colab": {
          "base_uri": "https://localhost:8080/"
        },
        "id": "dzCptGlqeZNi",
        "outputId": "d836feea-8b94-4288-e1b9-691cf92c977d"
      },
      "execution_count": 85,
      "outputs": [
        {
          "output_type": "stream",
          "name": "stdout",
          "text": [
            "      prediction      actual\n",
            "0      238.82120  303.640961\n",
            "1      221.28871  294.448029\n",
            "2      202.96020  291.374786\n",
            "3      192.82454  289.952820\n",
            "5      291.79752  274.340546\n",
            "...          ...         ...\n",
            "6900   232.41292  226.313950\n",
            "6901   221.17844  218.931168\n",
            "6902   204.24977  207.865692\n",
            "6903   191.52751  203.052094\n",
            "6904   227.83861  202.542892\n",
            "\n",
            "[4069 rows x 2 columns]\n",
            "RMSE:  49.700437\n"
          ]
        }
      ]
    },
    {
      "cell_type": "markdown",
      "source": [
        "# Finding Out-of-Domain Data\n",
        "Spot variables that are unique to the test set versus the training set"
      ],
      "metadata": {
        "id": "1N-rN5Y9BoHT"
      }
    },
    {
      "cell_type": "code",
      "source": [
        "df_dom = pd.concat([xs, valid_xs])\n",
        "is_valid = np.array([0]*len(xs) + [1]*len(valid_xs))\n",
        "\n",
        "m = randomForest(df_dom, is_valid)\n",
        "rf_feat_importance(m, df_dom)[:8]"
      ],
      "metadata": {
        "colab": {
          "base_uri": "https://localhost:8080/",
          "height": 300
        },
        "id": "qzU3ybMaBuOr",
        "outputId": "a28b8734-0fd5-4b45-9059-8c0c81cbb4b1"
      },
      "execution_count": 86,
      "outputs": [
        {
          "output_type": "execute_result",
          "data": {
            "text/plain": [
              "                                          cols       imp\n",
              "44  lastReportedPosition.positionTimeDayofyear  0.469082\n",
              "45    lastReportedPosition.positionTimeElapsed  0.337062\n",
              "41       lastReportedPosition.positionTimeWeek  0.099524\n",
              "4                            trainId.trainDate  0.090189\n",
              "42        lastReportedPosition.positionTimeDay  0.003904\n",
              "40      lastReportedPosition.positionTimeMonth  0.000239\n",
              "33                           maximumTrainSpeed  0.000000\n",
              "26         aotuTrainData.totalLocomotiveWeight  0.000000"
            ],
            "text/html": [
              "\n",
              "  <div id=\"df-b881fc61-b9fa-4782-95e0-1f3cc84268e7\">\n",
              "    <div class=\"colab-df-container\">\n",
              "      <div>\n",
              "<style scoped>\n",
              "    .dataframe tbody tr th:only-of-type {\n",
              "        vertical-align: middle;\n",
              "    }\n",
              "\n",
              "    .dataframe tbody tr th {\n",
              "        vertical-align: top;\n",
              "    }\n",
              "\n",
              "    .dataframe thead th {\n",
              "        text-align: right;\n",
              "    }\n",
              "</style>\n",
              "<table border=\"1\" class=\"dataframe\">\n",
              "  <thead>\n",
              "    <tr style=\"text-align: right;\">\n",
              "      <th></th>\n",
              "      <th>cols</th>\n",
              "      <th>imp</th>\n",
              "    </tr>\n",
              "  </thead>\n",
              "  <tbody>\n",
              "    <tr>\n",
              "      <th>44</th>\n",
              "      <td>lastReportedPosition.positionTimeDayofyear</td>\n",
              "      <td>0.469082</td>\n",
              "    </tr>\n",
              "    <tr>\n",
              "      <th>45</th>\n",
              "      <td>lastReportedPosition.positionTimeElapsed</td>\n",
              "      <td>0.337062</td>\n",
              "    </tr>\n",
              "    <tr>\n",
              "      <th>41</th>\n",
              "      <td>lastReportedPosition.positionTimeWeek</td>\n",
              "      <td>0.099524</td>\n",
              "    </tr>\n",
              "    <tr>\n",
              "      <th>4</th>\n",
              "      <td>trainId.trainDate</td>\n",
              "      <td>0.090189</td>\n",
              "    </tr>\n",
              "    <tr>\n",
              "      <th>42</th>\n",
              "      <td>lastReportedPosition.positionTimeDay</td>\n",
              "      <td>0.003904</td>\n",
              "    </tr>\n",
              "    <tr>\n",
              "      <th>40</th>\n",
              "      <td>lastReportedPosition.positionTimeMonth</td>\n",
              "      <td>0.000239</td>\n",
              "    </tr>\n",
              "    <tr>\n",
              "      <th>33</th>\n",
              "      <td>maximumTrainSpeed</td>\n",
              "      <td>0.000000</td>\n",
              "    </tr>\n",
              "    <tr>\n",
              "      <th>26</th>\n",
              "      <td>aotuTrainData.totalLocomotiveWeight</td>\n",
              "      <td>0.000000</td>\n",
              "    </tr>\n",
              "  </tbody>\n",
              "</table>\n",
              "</div>\n",
              "      <button class=\"colab-df-convert\" onclick=\"convertToInteractive('df-b881fc61-b9fa-4782-95e0-1f3cc84268e7')\"\n",
              "              title=\"Convert this dataframe to an interactive table.\"\n",
              "              style=\"display:none;\">\n",
              "        \n",
              "  <svg xmlns=\"http://www.w3.org/2000/svg\" height=\"24px\"viewBox=\"0 0 24 24\"\n",
              "       width=\"24px\">\n",
              "    <path d=\"M0 0h24v24H0V0z\" fill=\"none\"/>\n",
              "    <path d=\"M18.56 5.44l.94 2.06.94-2.06 2.06-.94-2.06-.94-.94-2.06-.94 2.06-2.06.94zm-11 1L8.5 8.5l.94-2.06 2.06-.94-2.06-.94L8.5 2.5l-.94 2.06-2.06.94zm10 10l.94 2.06.94-2.06 2.06-.94-2.06-.94-.94-2.06-.94 2.06-2.06.94z\"/><path d=\"M17.41 7.96l-1.37-1.37c-.4-.4-.92-.59-1.43-.59-.52 0-1.04.2-1.43.59L10.3 9.45l-7.72 7.72c-.78.78-.78 2.05 0 2.83L4 21.41c.39.39.9.59 1.41.59.51 0 1.02-.2 1.41-.59l7.78-7.78 2.81-2.81c.8-.78.8-2.07 0-2.86zM5.41 20L4 18.59l7.72-7.72 1.47 1.35L5.41 20z\"/>\n",
              "  </svg>\n",
              "      </button>\n",
              "      \n",
              "  <style>\n",
              "    .colab-df-container {\n",
              "      display:flex;\n",
              "      flex-wrap:wrap;\n",
              "      gap: 12px;\n",
              "    }\n",
              "\n",
              "    .colab-df-convert {\n",
              "      background-color: #E8F0FE;\n",
              "      border: none;\n",
              "      border-radius: 50%;\n",
              "      cursor: pointer;\n",
              "      display: none;\n",
              "      fill: #1967D2;\n",
              "      height: 32px;\n",
              "      padding: 0 0 0 0;\n",
              "      width: 32px;\n",
              "    }\n",
              "\n",
              "    .colab-df-convert:hover {\n",
              "      background-color: #E2EBFA;\n",
              "      box-shadow: 0px 1px 2px rgba(60, 64, 67, 0.3), 0px 1px 3px 1px rgba(60, 64, 67, 0.15);\n",
              "      fill: #174EA6;\n",
              "    }\n",
              "\n",
              "    [theme=dark] .colab-df-convert {\n",
              "      background-color: #3B4455;\n",
              "      fill: #D2E3FC;\n",
              "    }\n",
              "\n",
              "    [theme=dark] .colab-df-convert:hover {\n",
              "      background-color: #434B5C;\n",
              "      box-shadow: 0px 1px 3px 1px rgba(0, 0, 0, 0.15);\n",
              "      filter: drop-shadow(0px 1px 2px rgba(0, 0, 0, 0.3));\n",
              "      fill: #FFFFFF;\n",
              "    }\n",
              "  </style>\n",
              "\n",
              "      <script>\n",
              "        const buttonEl =\n",
              "          document.querySelector('#df-b881fc61-b9fa-4782-95e0-1f3cc84268e7 button.colab-df-convert');\n",
              "        buttonEl.style.display =\n",
              "          google.colab.kernel.accessAllowed ? 'block' : 'none';\n",
              "\n",
              "        async function convertToInteractive(key) {\n",
              "          const element = document.querySelector('#df-b881fc61-b9fa-4782-95e0-1f3cc84268e7');\n",
              "          const dataTable =\n",
              "            await google.colab.kernel.invokeFunction('convertToInteractive',\n",
              "                                                     [key], {});\n",
              "          if (!dataTable) return;\n",
              "\n",
              "          const docLinkHtml = 'Like what you see? Visit the ' +\n",
              "            '<a target=\"_blank\" href=https://colab.research.google.com/notebooks/data_table.ipynb>data table notebook</a>'\n",
              "            + ' to learn more about interactive tables.';\n",
              "          element.innerHTML = '';\n",
              "          dataTable['output_type'] = 'display_data';\n",
              "          await google.colab.output.renderOutput(dataTable, element);\n",
              "          const docLink = document.createElement('div');\n",
              "          docLink.innerHTML = docLinkHtml;\n",
              "          element.appendChild(docLink);\n",
              "        }\n",
              "      </script>\n",
              "    </div>\n",
              "  </div>\n",
              "  "
            ]
          },
          "metadata": {},
          "execution_count": 86
        }
      ]
    },
    {
      "cell_type": "markdown",
      "source": [
        "Consider whether these values make sense"
      ],
      "metadata": {
        "id": "wJPE_9WCLCPr"
      }
    },
    {
      "cell_type": "markdown",
      "source": [
        "#Using a Neural Net"
      ],
      "metadata": {
        "id": "K9TcqLvPKQJD"
      }
    },
    {
      "cell_type": "code",
      "source": [
        "df_nn_final = dfTrainsLearn"
      ],
      "metadata": {
        "id": "CrfcBKRXKqQ8"
      },
      "execution_count": 87,
      "outputs": []
    },
    {
      "cell_type": "code",
      "source": [
        "df_nn_final.info()"
      ],
      "metadata": {
        "id": "W87DbNmeMVsv",
        "colab": {
          "base_uri": "https://localhost:8080/"
        },
        "outputId": "f0437ad5-067f-4c84-9fa3-93add2c07c81"
      },
      "execution_count": 88,
      "outputs": [
        {
          "output_type": "stream",
          "name": "stdout",
          "text": [
            "<class 'pandas.core.frame.DataFrame'>\n",
            "Int64Index: 40073 entries, 0 to 45737\n",
            "Data columns (total 47 columns):\n",
            " #   Column                                                         Non-Null Count  Dtype         \n",
            "---  ------                                                         --------------  -----         \n",
            " 0   ptcLeadLocomotiveId                                            40073 non-null  object        \n",
            " 1   trainId.trainSCAC                                              40073 non-null  category      \n",
            " 2   trainId.trainSection                                           40073 non-null  category      \n",
            " 3   trainId.trainSymbol                                            40073 non-null  object        \n",
            " 4   trainId.trainDate                                              40073 non-null  datetime64[ns]\n",
            " 5   lastReportedPosition.speedMPH                                  40073 non-null  int64         \n",
            " 6   lastReportedPosition.milepostLocation.subdivisionId            40073 non-null  int64         \n",
            " 7   lastReportedPosition.milepostLocation.trackName                40073 non-null  category      \n",
            " 8   lastReportedPosition.milepostLocation.milepost.milepostNumber  40073 non-null  float64       \n",
            " 9   aotuTrainData.priorityCode                                     40073 non-null  category      \n",
            " 10  aotuTrainData.categoryCode                                     40073 non-null  category      \n",
            " 11  aotuTrainData.authorityRangeCode                               40073 non-null  category      \n",
            " 12  aotuTrainData.ownershipCode                                    40073 non-null  category      \n",
            " 13  aotuTrainData.totalCarWeight                                   40073 non-null  float64       \n",
            " 14  aotuTrainData.totalCarLength                                   40073 non-null  float64       \n",
            " 15  aotuTrainData.totalLocomotiveWeight                            40073 non-null  float64       \n",
            " 16  aotuTrainData.totalLocomotiveLength                            40073 non-null  float64       \n",
            " 17  aotuTrainData.actualTonsPerAxle                                40073 non-null  float64       \n",
            " 18  aotuTrainData.heavy143TonCarCount                              40073 non-null  float64       \n",
            " 19  aotuTrainData.heavy158TonCarCount                              40073 non-null  float64       \n",
            " 20  aotuTrainData.over158TonCarCount                               40073 non-null  float64       \n",
            " 21  aotuTrainData.highWideCarCount                                 40073 non-null  float64       \n",
            " 22  aotuTrainData.eventCode                                        40073 non-null  category      \n",
            " 23  maximumTrainSpeed                                              40073 non-null  float64       \n",
            " 24  loadedCarCount                                                 40073 non-null  float64       \n",
            " 25  emptyCarCount                                                  40073 non-null  float64       \n",
            " 26  trainLength                                                    40073 non-null  float64       \n",
            " 27  trailingTonnage                                                40073 non-null  float64       \n",
            " 28  milepost                                                       40073 non-null  int64         \n",
            " 29  mpIncr                                                         40073 non-null  bool          \n",
            " 30  symbolType                                                     40073 non-null  category      \n",
            " 31  workLocations                                                  39880 non-null  object        \n",
            " 32  locomotiveCount                                                40073 non-null  int64         \n",
            " 33  nextValue                                                      40073 non-null  float64       \n",
            " 34  lastReportedPosition.positionTimeYear                          40073 non-null  int64         \n",
            " 35  lastReportedPosition.positionTimeMonth                         40073 non-null  int64         \n",
            " 36  lastReportedPosition.positionTimeWeek                          40073 non-null  int64         \n",
            " 37  lastReportedPosition.positionTimeDay                           40073 non-null  int64         \n",
            " 38  lastReportedPosition.positionTimeDayofweek                     40073 non-null  int64         \n",
            " 39  lastReportedPosition.positionTimeDayofyear                     40073 non-null  int64         \n",
            " 40  lastReportedPosition.positionTimeIs_month_end                  40073 non-null  bool          \n",
            " 41  lastReportedPosition.positionTimeIs_month_start                40073 non-null  bool          \n",
            " 42  lastReportedPosition.positionTimeIs_quarter_end                40073 non-null  bool          \n",
            " 43  lastReportedPosition.positionTimeIs_quarter_start              40073 non-null  bool          \n",
            " 44  lastReportedPosition.positionTimeIs_year_end                   40073 non-null  bool          \n",
            " 45  lastReportedPosition.positionTimeIs_year_start                 40073 non-null  bool          \n",
            " 46  lastReportedPosition.positionTimeElapsed                       40073 non-null  float64       \n",
            "dtypes: bool(7), category(9), datetime64[ns](1), float64(17), int64(10), object(3)\n",
            "memory usage: 10.4+ MB\n"
          ]
        }
      ]
    },
    {
      "cell_type": "code",
      "source": [
        "cont_nn,cat_nn = cont_cat_split(df_nn_final, max_card=9000, dep_var=dep_var)"
      ],
      "metadata": {
        "id": "TpvoMKe1MNzg"
      },
      "execution_count": 89,
      "outputs": []
    },
    {
      "cell_type": "code",
      "source": [
        "cont_nn"
      ],
      "metadata": {
        "colab": {
          "base_uri": "https://localhost:8080/"
        },
        "id": "xef-YmKAMeHO",
        "outputId": "d3fa613d-d195-4b0f-ba18-d6f2d041cc48"
      },
      "execution_count": 90,
      "outputs": [
        {
          "output_type": "execute_result",
          "data": {
            "text/plain": [
              "['lastReportedPosition.milepostLocation.milepost.milepostNumber',\n",
              " 'aotuTrainData.totalCarWeight',\n",
              " 'aotuTrainData.totalCarLength',\n",
              " 'aotuTrainData.totalLocomotiveWeight',\n",
              " 'aotuTrainData.totalLocomotiveLength',\n",
              " 'aotuTrainData.actualTonsPerAxle',\n",
              " 'aotuTrainData.heavy143TonCarCount',\n",
              " 'aotuTrainData.heavy158TonCarCount',\n",
              " 'aotuTrainData.over158TonCarCount',\n",
              " 'aotuTrainData.highWideCarCount',\n",
              " 'maximumTrainSpeed',\n",
              " 'loadedCarCount',\n",
              " 'emptyCarCount',\n",
              " 'trainLength',\n",
              " 'trailingTonnage',\n",
              " 'lastReportedPosition.positionTimeElapsed']"
            ]
          },
          "metadata": {},
          "execution_count": 90
        }
      ]
    },
    {
      "cell_type": "code",
      "source": [
        "numUniquePerCat = df_nn_final[cat_nn].nunique()\n",
        "with pd.option_context('display.max_rows', None, 'display.max_columns', None):  \n",
        "    print(numUniquePerCat)"
      ],
      "metadata": {
        "colab": {
          "base_uri": "https://localhost:8080/"
        },
        "id": "axfRjORJin9v",
        "outputId": "335f406d-af57-4b4a-e519-b7d1b6d98626"
      },
      "execution_count": 91,
      "outputs": [
        {
          "output_type": "stream",
          "name": "stdout",
          "text": [
            "ptcLeadLocomotiveId                                    1486\n",
            "trainId.trainSCAC                                         2\n",
            "trainId.trainSection                                      2\n",
            "trainId.trainSymbol                                     413\n",
            "trainId.trainDate                                       105\n",
            "lastReportedPosition.speedMPH                            72\n",
            "lastReportedPosition.milepostLocation.subdivisionId       1\n",
            "lastReportedPosition.milepostLocation.trackName          11\n",
            "aotuTrainData.priorityCode                                4\n",
            "aotuTrainData.categoryCode                               11\n",
            "aotuTrainData.authorityRangeCode                          3\n",
            "aotuTrainData.ownershipCode                               3\n",
            "aotuTrainData.eventCode                                   1\n",
            "milepost                                                123\n",
            "mpIncr                                                    2\n",
            "symbolType                                               12\n",
            "workLocations                                            99\n",
            "locomotiveCount                                          11\n",
            "lastReportedPosition.positionTimeYear                     1\n",
            "lastReportedPosition.positionTimeMonth                    5\n",
            "lastReportedPosition.positionTimeWeek                    15\n",
            "lastReportedPosition.positionTimeDay                     31\n",
            "lastReportedPosition.positionTimeDayofweek                7\n",
            "lastReportedPosition.positionTimeDayofyear               98\n",
            "lastReportedPosition.positionTimeIs_month_end             2\n",
            "lastReportedPosition.positionTimeIs_month_start           2\n",
            "lastReportedPosition.positionTimeIs_quarter_end           2\n",
            "lastReportedPosition.positionTimeIs_quarter_start         2\n",
            "lastReportedPosition.positionTimeIs_year_end              1\n",
            "lastReportedPosition.positionTimeIs_year_start            1\n",
            "dtype: int64\n"
          ]
        }
      ]
    },
    {
      "cell_type": "code",
      "source": [
        "procs_nn = [Categorify, FillMissing, Normalize]\n",
        "to_nn = TabularPandas(df_nn_final, procs_nn, cat_nn, cont_nn,\n",
        "                      splits=splits, y_names=dep_var)"
      ],
      "metadata": {
        "id": "WNS5_jduj0Ft"
      },
      "execution_count": 92,
      "outputs": []
    },
    {
      "cell_type": "code",
      "source": [
        "dls = to_nn.dataloaders(1024)"
      ],
      "metadata": {
        "id": "HH0M0MH7kKQ-"
      },
      "execution_count": 93,
      "outputs": []
    },
    {
      "cell_type": "code",
      "source": [
        "y = to_nn.train.y\n",
        "y.min(),y.max()"
      ],
      "metadata": {
        "colab": {
          "base_uri": "https://localhost:8080/"
        },
        "id": "BPnKvYGKkRMf",
        "outputId": "cefd0418-188a-442b-c455-c50435e117f4"
      },
      "execution_count": 94,
      "outputs": [
        {
          "output_type": "execute_result",
          "data": {
            "text/plain": [
              "(202.2169, 326.09528)"
            ]
          },
          "metadata": {},
          "execution_count": 94
        }
      ]
    },
    {
      "cell_type": "code",
      "source": [
        "learn = tabular_learner(dls, y_range=(202,327), layers=[500,250],\n",
        "                        n_out=1, loss_func=F.mse_loss)"
      ],
      "metadata": {
        "id": "XI0a_6T8kYCl"
      },
      "execution_count": 100,
      "outputs": []
    },
    {
      "cell_type": "code",
      "source": [
        "learn.lr_find()"
      ],
      "metadata": {
        "colab": {
          "base_uri": "https://localhost:8080/",
          "height": 304
        },
        "id": "-bG4DfIqkbyc",
        "outputId": "c7dd0a9d-501d-4c07-f535-27228b924833"
      },
      "execution_count": 101,
      "outputs": [
        {
          "output_type": "display_data",
          "data": {
            "text/plain": [
              "<IPython.core.display.HTML object>"
            ],
            "text/html": [
              "\n",
              "<style>\n",
              "    /* Turns off some styling */\n",
              "    progress {\n",
              "        /* gets rid of default border in Firefox and Opera. */\n",
              "        border: none;\n",
              "        /* Needs to be in here for Safari polyfill so background images work as expected. */\n",
              "        background-size: auto;\n",
              "    }\n",
              "    .progress-bar-interrupted, .progress-bar-interrupted::-webkit-progress-bar {\n",
              "        background: #F44336;\n",
              "    }\n",
              "</style>\n"
            ]
          },
          "metadata": {}
        },
        {
          "output_type": "display_data",
          "data": {
            "text/plain": [
              "<IPython.core.display.HTML object>"
            ],
            "text/html": [
              ""
            ]
          },
          "metadata": {}
        },
        {
          "output_type": "execute_result",
          "data": {
            "text/plain": [
              "SuggestedLRs(valley=0.0004786300996784121)"
            ]
          },
          "metadata": {},
          "execution_count": 101
        },
        {
          "output_type": "display_data",
          "data": {
            "text/plain": [
              "<Figure size 432x288 with 1 Axes>"
            ],
            "image/png": "[encoded data removed]"
          },
          "metadata": {
            "needs_background": "light"
          }
        }
      ]
    },
    {
      "cell_type": "code",
      "source": [
        "learn.fit_one_cycle(50, 1e-3)"
      ],
      "metadata": {
        "colab": {
          "base_uri": "https://localhost:8080/",
          "height": 1000
        },
        "id": "KtYc1ectkiZt",
        "outputId": "979ff6ac-2d14-4c7f-f6b4-fbd26fc0bd4d"
      },
      "execution_count": 102,
      "outputs": [
        {
          "output_type": "display_data",
          "data": {
            "text/plain": [
              "<IPython.core.display.HTML object>"
            ],
            "text/html": [
              "\n",
              "<style>\n",
              "    /* Turns off some styling */\n",
              "    progress {\n",
              "        /* gets rid of default border in Firefox and Opera. */\n",
              "        border: none;\n",
              "        /* Needs to be in here for Safari polyfill so background images work as expected. */\n",
              "        background-size: auto;\n",
              "    }\n",
              "    .progress-bar-interrupted, .progress-bar-interrupted::-webkit-progress-bar {\n",
              "        background: #F44336;\n",
              "    }\n",
              "</style>\n"
            ]
          },
          "metadata": {}
        },
        {
          "output_type": "display_data",
          "data": {
            "text/plain": [
              "<IPython.core.display.HTML object>"
            ],
            "text/html": [
              "<table border=\"1\" class=\"dataframe\">\n",
              "  <thead>\n",
              "    <tr style=\"text-align: left;\">\n",
              "      <th>epoch</th>\n",
              "      <th>train_loss</th>\n",
              "      <th>valid_loss</th>\n",
              "      <th>time</th>\n",
              "    </tr>\n",
              "  </thead>\n",
              "  <tbody>\n",
              "    <tr>\n",
              "      <td>0</td>\n",
              "      <td>448.325623</td>\n",
              "      <td>611.215271</td>\n",
              "      <td>00:02</td>\n",
              "    </tr>\n",
              "    <tr>\n",
              "      <td>1</td>\n",
              "      <td>333.046509</td>\n",
              "      <td>286.487885</td>\n",
              "      <td>00:02</td>\n",
              "    </tr>\n",
              "    <tr>\n",
              "      <td>2</td>\n",
              "      <td>242.633606</td>\n",
              "      <td>149.930542</td>\n",
              "      <td>00:02</td>\n",
              "    </tr>\n",
              "    <tr>\n",
              "      <td>3</td>\n",
              "      <td>163.439194</td>\n",
              "      <td>96.635765</td>\n",
              "      <td>00:02</td>\n",
              "    </tr>\n",
              "    <tr>\n",
              "      <td>4</td>\n",
              "      <td>113.220291</td>\n",
              "      <td>85.069801</td>\n",
              "      <td>00:02</td>\n",
              "    </tr>\n",
              "    <tr>\n",
              "      <td>5</td>\n",
              "      <td>83.371666</td>\n",
              "      <td>77.098534</td>\n",
              "      <td>00:02</td>\n",
              "    </tr>\n",
              "    <tr>\n",
              "      <td>6</td>\n",
              "      <td>70.248177</td>\n",
              "      <td>64.703506</td>\n",
              "      <td>00:02</td>\n",
              "    </tr>\n",
              "    <tr>\n",
              "      <td>7</td>\n",
              "      <td>68.501183</td>\n",
              "      <td>80.618561</td>\n",
              "      <td>00:02</td>\n",
              "    </tr>\n",
              "    <tr>\n",
              "      <td>8</td>\n",
              "      <td>57.936569</td>\n",
              "      <td>57.163509</td>\n",
              "      <td>00:02</td>\n",
              "    </tr>\n",
              "    <tr>\n",
              "      <td>9</td>\n",
              "      <td>51.386551</td>\n",
              "      <td>56.851627</td>\n",
              "      <td>00:02</td>\n",
              "    </tr>\n",
              "    <tr>\n",
              "      <td>10</td>\n",
              "      <td>51.289242</td>\n",
              "      <td>67.171967</td>\n",
              "      <td>00:02</td>\n",
              "    </tr>\n",
              "    <tr>\n",
              "      <td>11</td>\n",
              "      <td>45.714134</td>\n",
              "      <td>58.488922</td>\n",
              "      <td>00:02</td>\n",
              "    </tr>\n",
              "    <tr>\n",
              "      <td>12</td>\n",
              "      <td>38.900974</td>\n",
              "      <td>55.177025</td>\n",
              "      <td>00:02</td>\n",
              "    </tr>\n",
              "    <tr>\n",
              "      <td>13</td>\n",
              "      <td>35.014999</td>\n",
              "      <td>51.086884</td>\n",
              "      <td>00:02</td>\n",
              "    </tr>\n",
              "    <tr>\n",
              "      <td>14</td>\n",
              "      <td>32.817844</td>\n",
              "      <td>51.290623</td>\n",
              "      <td>00:02</td>\n",
              "    </tr>\n",
              "    <tr>\n",
              "      <td>15</td>\n",
              "      <td>32.240032</td>\n",
              "      <td>51.180443</td>\n",
              "      <td>00:02</td>\n",
              "    </tr>\n",
              "    <tr>\n",
              "      <td>16</td>\n",
              "      <td>38.901558</td>\n",
              "      <td>53.916649</td>\n",
              "      <td>00:02</td>\n",
              "    </tr>\n",
              "    <tr>\n",
              "      <td>17</td>\n",
              "      <td>33.872639</td>\n",
              "      <td>51.307957</td>\n",
              "      <td>00:02</td>\n",
              "    </tr>\n",
              "    <tr>\n",
              "      <td>18</td>\n",
              "      <td>29.931982</td>\n",
              "      <td>51.468559</td>\n",
              "      <td>00:03</td>\n",
              "    </tr>\n",
              "    <tr>\n",
              "      <td>19</td>\n",
              "      <td>29.187733</td>\n",
              "      <td>52.926796</td>\n",
              "      <td>00:02</td>\n",
              "    </tr>\n",
              "    <tr>\n",
              "      <td>20</td>\n",
              "      <td>27.014593</td>\n",
              "      <td>55.584576</td>\n",
              "      <td>00:02</td>\n",
              "    </tr>\n",
              "    <tr>\n",
              "      <td>21</td>\n",
              "      <td>26.032154</td>\n",
              "      <td>56.709820</td>\n",
              "      <td>00:02</td>\n",
              "    </tr>\n",
              "    <tr>\n",
              "      <td>22</td>\n",
              "      <td>25.482859</td>\n",
              "      <td>55.128380</td>\n",
              "      <td>00:02</td>\n",
              "    </tr>\n",
              "    <tr>\n",
              "      <td>23</td>\n",
              "      <td>25.211964</td>\n",
              "      <td>52.620991</td>\n",
              "      <td>00:02</td>\n",
              "    </tr>\n",
              "    <tr>\n",
              "      <td>24</td>\n",
              "      <td>25.604700</td>\n",
              "      <td>55.128792</td>\n",
              "      <td>00:02</td>\n",
              "    </tr>\n",
              "    <tr>\n",
              "      <td>25</td>\n",
              "      <td>24.374746</td>\n",
              "      <td>58.899899</td>\n",
              "      <td>00:02</td>\n",
              "    </tr>\n",
              "    <tr>\n",
              "      <td>26</td>\n",
              "      <td>22.468979</td>\n",
              "      <td>57.442810</td>\n",
              "      <td>00:02</td>\n",
              "    </tr>\n",
              "    <tr>\n",
              "      <td>27</td>\n",
              "      <td>21.124912</td>\n",
              "      <td>56.545158</td>\n",
              "      <td>00:02</td>\n",
              "    </tr>\n",
              "    <tr>\n",
              "      <td>28</td>\n",
              "      <td>20.536451</td>\n",
              "      <td>52.180443</td>\n",
              "      <td>00:02</td>\n",
              "    </tr>\n",
              "    <tr>\n",
              "      <td>29</td>\n",
              "      <td>20.475348</td>\n",
              "      <td>52.980396</td>\n",
              "      <td>00:02</td>\n",
              "    </tr>\n",
              "    <tr>\n",
              "      <td>30</td>\n",
              "      <td>19.481937</td>\n",
              "      <td>62.569550</td>\n",
              "      <td>00:02</td>\n",
              "    </tr>\n",
              "    <tr>\n",
              "      <td>31</td>\n",
              "      <td>18.073780</td>\n",
              "      <td>55.154617</td>\n",
              "      <td>00:02</td>\n",
              "    </tr>\n",
              "    <tr>\n",
              "      <td>32</td>\n",
              "      <td>16.693510</td>\n",
              "      <td>57.503681</td>\n",
              "      <td>00:02</td>\n",
              "    </tr>\n",
              "    <tr>\n",
              "      <td>33</td>\n",
              "      <td>16.155176</td>\n",
              "      <td>55.166843</td>\n",
              "      <td>00:02</td>\n",
              "    </tr>\n",
              "    <tr>\n",
              "      <td>34</td>\n",
              "      <td>15.670056</td>\n",
              "      <td>56.672657</td>\n",
              "      <td>00:02</td>\n",
              "    </tr>\n",
              "    <tr>\n",
              "      <td>35</td>\n",
              "      <td>15.191095</td>\n",
              "      <td>54.444324</td>\n",
              "      <td>00:02</td>\n",
              "    </tr>\n",
              "    <tr>\n",
              "      <td>36</td>\n",
              "      <td>14.580594</td>\n",
              "      <td>54.737926</td>\n",
              "      <td>00:02</td>\n",
              "    </tr>\n",
              "    <tr>\n",
              "      <td>37</td>\n",
              "      <td>14.477573</td>\n",
              "      <td>55.532265</td>\n",
              "      <td>00:02</td>\n",
              "    </tr>\n",
              "    <tr>\n",
              "      <td>38</td>\n",
              "      <td>14.461679</td>\n",
              "      <td>57.041553</td>\n",
              "      <td>00:02</td>\n",
              "    </tr>\n",
              "    <tr>\n",
              "      <td>39</td>\n",
              "      <td>14.048381</td>\n",
              "      <td>55.242676</td>\n",
              "      <td>00:02</td>\n",
              "    </tr>\n",
              "    <tr>\n",
              "      <td>40</td>\n",
              "      <td>13.332734</td>\n",
              "      <td>56.471584</td>\n",
              "      <td>00:02</td>\n",
              "    </tr>\n",
              "    <tr>\n",
              "      <td>41</td>\n",
              "      <td>12.940999</td>\n",
              "      <td>57.101189</td>\n",
              "      <td>00:02</td>\n",
              "    </tr>\n",
              "    <tr>\n",
              "      <td>42</td>\n",
              "      <td>12.514524</td>\n",
              "      <td>56.808292</td>\n",
              "      <td>00:02</td>\n",
              "    </tr>\n",
              "    <tr>\n",
              "      <td>43</td>\n",
              "      <td>12.205221</td>\n",
              "      <td>56.404064</td>\n",
              "      <td>00:02</td>\n",
              "    </tr>\n",
              "    <tr>\n",
              "      <td>44</td>\n",
              "      <td>11.751579</td>\n",
              "      <td>56.505417</td>\n",
              "      <td>00:02</td>\n",
              "    </tr>\n",
              "    <tr>\n",
              "      <td>45</td>\n",
              "      <td>11.480172</td>\n",
              "      <td>57.467827</td>\n",
              "      <td>00:02</td>\n",
              "    </tr>\n",
              "    <tr>\n",
              "      <td>46</td>\n",
              "      <td>11.462697</td>\n",
              "      <td>55.844933</td>\n",
              "      <td>00:02</td>\n",
              "    </tr>\n",
              "    <tr>\n",
              "      <td>47</td>\n",
              "      <td>11.267186</td>\n",
              "      <td>57.442348</td>\n",
              "      <td>00:02</td>\n",
              "    </tr>\n",
              "    <tr>\n",
              "      <td>48</td>\n",
              "      <td>11.343937</td>\n",
              "      <td>56.456253</td>\n",
              "      <td>00:02</td>\n",
              "    </tr>\n",
              "    <tr>\n",
              "      <td>49</td>\n",
              "      <td>11.334585</td>\n",
              "      <td>56.880249</td>\n",
              "      <td>00:02</td>\n",
              "    </tr>\n",
              "  </tbody>\n",
              "</table>"
            ]
          },
          "metadata": {}
        }
      ]
    },
    {
      "cell_type": "markdown",
      "source": [
        "NN Predictions:"
      ],
      "metadata": {
        "id": "2-jWdBC7omY8"
      }
    },
    {
      "cell_type": "code",
      "source": [
        "preds,targs = learn.get_preds()\n",
        "showPredictions(pd.DataFrame(preds.numpy()), pd.DataFrame(targs.numpy()))"
      ],
      "metadata": {
        "colab": {
          "base_uri": "https://localhost:8080/",
          "height": 291
        },
        "id": "eo1O3alWmiKj",
        "outputId": "07119fd4-7a7b-4821-83c0-196aeb0e5e5a"
      },
      "execution_count": 103,
      "outputs": [
        {
          "output_type": "display_data",
          "data": {
            "text/plain": [
              "<IPython.core.display.HTML object>"
            ],
            "text/html": [
              "\n",
              "<style>\n",
              "    /* Turns off some styling */\n",
              "    progress {\n",
              "        /* gets rid of default border in Firefox and Opera. */\n",
              "        border: none;\n",
              "        /* Needs to be in here for Safari polyfill so background images work as expected. */\n",
              "        background-size: auto;\n",
              "    }\n",
              "    .progress-bar-interrupted, .progress-bar-interrupted::-webkit-progress-bar {\n",
              "        background: #F44336;\n",
              "    }\n",
              "</style>\n"
            ]
          },
          "metadata": {}
        },
        {
          "output_type": "display_data",
          "data": {
            "text/plain": [
              "<IPython.core.display.HTML object>"
            ],
            "text/html": [
              ""
            ]
          },
          "metadata": {}
        },
        {
          "output_type": "stream",
          "name": "stdout",
          "text": [
            "          actual      actual\n",
            "0     306.309814  303.640961\n",
            "1     295.641937  294.448029\n",
            "2     285.813568  291.374786\n",
            "3     277.050842  289.952820\n",
            "4     280.111206  281.968353\n",
            "...          ...         ...\n",
            "6900  238.392227  226.313950\n",
            "6901  227.742767  218.931168\n",
            "6902  220.986252  207.865692\n",
            "6903  214.048798  203.052094\n",
            "6904  205.225052  202.542892\n",
            "\n",
            "[6905 rows x 2 columns]\n",
            "RMSE:  7.5419\n"
          ]
        }
      ]
    }
  ],
  "metadata": {
    "colab": {
      "name": "MLModel1-2.ipynb",
      "provenance": [],
      "collapsed_sections": [],
      "include_colab_link": true
    },
    "interpreter": {
      "hash": "99fae7d265480b5fbb0cf965db398c4d2d7b17b55f6259418c7dbfe0de01ea90"
    },
    "kernelspec": {
      "display_name": "Python 3 (ipykernel)",
      "language": "python",
      "name": "python3"
    },
    "language_info": {
      "codemirror_mode": {
        "name": "ipython",
        "version": 3
      },
      "file_extension": ".py",
      "mimetype": "text/x-python",
      "name": "python",
      "nbconvert_exporter": "python",
      "pygments_lexer": "ipython3",
      "version": "3.9.12"
    }
  },
  "nbformat": 4,
  "nbformat_minor": 0
}